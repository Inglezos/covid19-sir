{
 "cells": [
  {
   "cell_type": "markdown",
   "metadata": {},
   "source": [
    "# Usage: datasets\n",
    "Here, we will review the raw/cleaned datasets. `Scenario` class performs data cleaning internally using `JHUData` class and so on, but it is important to review the features and data types before analysing them."
   ]
  },
  {
   "cell_type": "markdown",
   "metadata": {},
   "source": [
    "### Preparation\n",
    "Prepare the packages."
   ]
  },
  {
   "cell_type": "code",
   "execution_count": 1,
   "metadata": {
    "collapsed": false
   },
   "outputs": [],
   "source": [
    "# Standard users\n",
    "# !pip install covsirphy"
   ]
  },
  {
   "cell_type": "code",
   "execution_count": 2,
   "metadata": {
    "collapsed": false
   },
   "outputs": [],
   "source": [
    "# Developers (Note: this notebook is in example directory)\n",
    "import os\n",
    "os.chdir(\"../\")"
   ]
  },
  {
   "cell_type": "code",
   "execution_count": 3,
   "metadata": {
    "collapsed": false
   },
   "outputs": [],
   "source": [
    "from pprint import pprint"
   ]
  },
  {
   "cell_type": "code",
   "execution_count": 4,
   "metadata": {
    "collapsed": false,
    "tags": []
   },
   "outputs": [
    {
     "data": {
      "text/plain": [
       "'2.14.0-beta.fu1'"
      ]
     },
     "execution_count": 4,
     "metadata": {},
     "output_type": "execute_result"
    }
   ],
   "source": [
    "import covsirphy as cs\n",
    "cs.__version__"
   ]
  },
  {
   "cell_type": "markdown",
   "metadata": {},
   "source": [
    "### Dataset preparation\n",
    "Download the datasets to \"input\" directory and load them.\n",
    "\n",
    "If \"input\" directory has the datasets, `DataLoader` instance will load the local files. If the datasets were updated in remote servers, `DataLoader` will update the local files automatically and download the datasets to \"input\" directory and load them."
   ]
  },
  {
   "cell_type": "code",
   "execution_count": 5,
   "metadata": {
    "collapsed": false
   },
   "outputs": [],
   "source": [
    "# Create DataLoader instance\n",
    "data_loader = cs.DataLoader(\"input\")"
   ]
  },
  {
   "cell_type": "code",
   "execution_count": 6,
   "metadata": {
    "collapsed": false,
    "tags": []
   },
   "outputs": [
    {
     "name": "stdout",
     "output_type": "stream",
     "text": [
      "Retrieving linelist from Open COVID-19 Data Working Group repository: https://github.com/beoutbreakprepared/nCoV2019\n"
     ]
    },
    {
     "name": "stdout",
     "output_type": "stream",
     "text": [
      "Retrieving COVID-19 vaccination dataset from https://covid.ourworldindata.org/data/\n"
     ]
    }
   ],
   "source": [
    "# (Main) The number of cases (JHU style)\n",
    "jhu_data = data_loader.jhu()\n",
    "# (Main) Population in each country\n",
    "population_data = data_loader.population()\n",
    "# (Main) Government Response Tracker (OxCGRT)\n",
    "oxcgrt_data = data_loader.oxcgrt()\n",
    "# Linelist of case reports\n",
    "linelist = data_loader.linelist()\n",
    "# The number of tests\n",
    "pcr_data = data_loader.pcr()\n",
    "# The number of vaccinations\n",
    "vaccine_data = data_loader.vaccine()\n",
    "# Population pyramid\n",
    "pyramid_data = data_loader.pyramid()\n",
    "# Japan-specific dataset\n",
    "japan_data = data_loader.japan()"
   ]
  },
  {
   "cell_type": "markdown",
   "metadata": {},
   "source": [
    "### The number of cases (JHU style)\n",
    "The main dataset is that of the number of cases and was saved as `jhu_data`, an instance of `JHUData` class. This includes \"Confirmed\", \"Infected\", \"Recovered\" and \"Fatal\". \"Infected\" was calculated as \"Confirmed - Recovered - Fatal\"."
   ]
  },
  {
   "cell_type": "code",
   "execution_count": 7,
   "metadata": {
    "collapsed": false
   },
   "outputs": [
    {
     "data": {
      "text/plain": [
       "covsirphy.cleaning.jhu_data.JHUData"
      ]
     },
     "execution_count": 7,
     "metadata": {},
     "output_type": "execute_result"
    }
   ],
   "source": [
    "type(jhu_data)"
   ]
  },
  {
   "cell_type": "markdown",
   "metadata": {},
   "source": [
    "The dataset will be retrieved from [COVID-19 Data Hub](https://covid19datahub.io/) and [Data folder of CovsirPhy project](https://github.com/lisphilar/covid19-sir/tree/master/data). Description of these projects will be shown as follows."
   ]
  },
  {
   "cell_type": "code",
   "execution_count": 8,
   "metadata": {
    "collapsed": false,
    "tags": []
   },
   "outputs": [
    {
     "name": "stdout",
     "output_type": "stream",
     "text": [
      "(Secondary source) Guidotti, E., Ardia, D., (2020), \"COVID-19 Data Hub\", Journal of Open Source Software 5(51):2376, doi: 10.21105/joss.02376.\n",
      "Lisphilar (2020), COVID-19 dataset in Japan, GitHub repository, https://github.com/lisphilar/covid19-sir/data/japan\n"
     ]
    }
   ],
   "source": [
    "# Description/citation\n",
    "print(jhu_data.citation)"
   ]
  },
  {
   "cell_type": "code",
   "execution_count": 9,
   "metadata": {
    "collapsed": false,
    "tags": []
   },
   "outputs": [],
   "source": [
    "# Detailed citation list of COVID-19 Data Hub\n",
    "# print(data_loader.covid19dh_citation)"
   ]
  },
  {
   "cell_type": "code",
   "execution_count": 10,
   "metadata": {
    "collapsed": false
   },
   "outputs": [
    {
     "data": {
      "text/html": [
       "<div>\n",
       "<style scoped>\n",
       "    .dataframe tbody tr th:only-of-type {\n",
       "        vertical-align: middle;\n",
       "    }\n",
       "\n",
       "    .dataframe tbody tr th {\n",
       "        vertical-align: top;\n",
       "    }\n",
       "\n",
       "    .dataframe thead th {\n",
       "        text-align: right;\n",
       "    }\n",
       "</style>\n",
       "<table border=\"1\" class=\"dataframe\">\n",
       "  <thead>\n",
       "    <tr style=\"text-align: right;\">\n",
       "      <th></th>\n",
       "      <th>ObservationDate</th>\n",
       "      <th>Tests</th>\n",
       "      <th>Confirmed</th>\n",
       "      <th>Recovered</th>\n",
       "      <th>Deaths</th>\n",
       "      <th>Population</th>\n",
       "      <th>ISO3</th>\n",
       "      <th>Province/State</th>\n",
       "      <th>Country/Region</th>\n",
       "      <th>school_closing</th>\n",
       "      <th>...</th>\n",
       "      <th>cancel_events</th>\n",
       "      <th>gatherings_restrictions</th>\n",
       "      <th>transport_closing</th>\n",
       "      <th>stay_home_restrictions</th>\n",
       "      <th>internal_movement_restrictions</th>\n",
       "      <th>international_movement_restrictions</th>\n",
       "      <th>information_campaigns</th>\n",
       "      <th>testing_policy</th>\n",
       "      <th>contact_tracing</th>\n",
       "      <th>stringency_index</th>\n",
       "    </tr>\n",
       "  </thead>\n",
       "  <tbody>\n",
       "    <tr>\n",
       "      <th>381172</th>\n",
       "      <td>2020-12-30</td>\n",
       "      <td>5028</td>\n",
       "      <td>1148.0</td>\n",
       "      <td>1123</td>\n",
       "      <td>14</td>\n",
       "      <td>107808.0</td>\n",
       "      <td>COL</td>\n",
       "      <td>Vichada</td>\n",
       "      <td>Colombia</td>\n",
       "      <td>3</td>\n",
       "      <td>...</td>\n",
       "      <td>1</td>\n",
       "      <td>3</td>\n",
       "      <td>1</td>\n",
       "      <td>1</td>\n",
       "      <td>1</td>\n",
       "      <td>4</td>\n",
       "      <td>2</td>\n",
       "      <td>2</td>\n",
       "      <td>2</td>\n",
       "      <td>60.19</td>\n",
       "    </tr>\n",
       "    <tr>\n",
       "      <th>381173</th>\n",
       "      <td>2020-12-31</td>\n",
       "      <td>5029</td>\n",
       "      <td>1150.0</td>\n",
       "      <td>1124</td>\n",
       "      <td>14</td>\n",
       "      <td>107808.0</td>\n",
       "      <td>COL</td>\n",
       "      <td>Vichada</td>\n",
       "      <td>Colombia</td>\n",
       "      <td>3</td>\n",
       "      <td>...</td>\n",
       "      <td>1</td>\n",
       "      <td>3</td>\n",
       "      <td>1</td>\n",
       "      <td>1</td>\n",
       "      <td>1</td>\n",
       "      <td>4</td>\n",
       "      <td>2</td>\n",
       "      <td>2</td>\n",
       "      <td>2</td>\n",
       "      <td>60.19</td>\n",
       "    </tr>\n",
       "    <tr>\n",
       "      <th>381174</th>\n",
       "      <td>2021-01-01</td>\n",
       "      <td>5028</td>\n",
       "      <td>1150.0</td>\n",
       "      <td>1126</td>\n",
       "      <td>14</td>\n",
       "      <td>107808.0</td>\n",
       "      <td>COL</td>\n",
       "      <td>Vichada</td>\n",
       "      <td>Colombia</td>\n",
       "      <td>3</td>\n",
       "      <td>...</td>\n",
       "      <td>1</td>\n",
       "      <td>3</td>\n",
       "      <td>1</td>\n",
       "      <td>1</td>\n",
       "      <td>1</td>\n",
       "      <td>4</td>\n",
       "      <td>2</td>\n",
       "      <td>2</td>\n",
       "      <td>2</td>\n",
       "      <td>60.19</td>\n",
       "    </tr>\n",
       "    <tr>\n",
       "      <th>381175</th>\n",
       "      <td>2021-01-02</td>\n",
       "      <td>5028</td>\n",
       "      <td>1157.0</td>\n",
       "      <td>1126</td>\n",
       "      <td>14</td>\n",
       "      <td>107808.0</td>\n",
       "      <td>COL</td>\n",
       "      <td>Vichada</td>\n",
       "      <td>Colombia</td>\n",
       "      <td>3</td>\n",
       "      <td>...</td>\n",
       "      <td>1</td>\n",
       "      <td>3</td>\n",
       "      <td>1</td>\n",
       "      <td>1</td>\n",
       "      <td>1</td>\n",
       "      <td>4</td>\n",
       "      <td>2</td>\n",
       "      <td>2</td>\n",
       "      <td>2</td>\n",
       "      <td>60.19</td>\n",
       "    </tr>\n",
       "    <tr>\n",
       "      <th>381176</th>\n",
       "      <td>2021-01-03</td>\n",
       "      <td>5028</td>\n",
       "      <td>1157.0</td>\n",
       "      <td>1126</td>\n",
       "      <td>14</td>\n",
       "      <td>107808.0</td>\n",
       "      <td>COL</td>\n",
       "      <td>Vichada</td>\n",
       "      <td>Colombia</td>\n",
       "      <td>3</td>\n",
       "      <td>...</td>\n",
       "      <td>1</td>\n",
       "      <td>3</td>\n",
       "      <td>1</td>\n",
       "      <td>1</td>\n",
       "      <td>1</td>\n",
       "      <td>4</td>\n",
       "      <td>2</td>\n",
       "      <td>2</td>\n",
       "      <td>2</td>\n",
       "      <td>60.19</td>\n",
       "    </tr>\n",
       "  </tbody>\n",
       "</table>\n",
       "<p>5 rows × 21 columns</p>\n",
       "</div>"
      ],
      "text/plain": [
       "       ObservationDate  Tests  Confirmed  Recovered  Deaths  Population ISO3  \\\n",
       "381172      2020-12-30   5028     1148.0       1123      14    107808.0  COL   \n",
       "381173      2020-12-31   5029     1150.0       1124      14    107808.0  COL   \n",
       "381174      2021-01-01   5028     1150.0       1126      14    107808.0  COL   \n",
       "381175      2021-01-02   5028     1157.0       1126      14    107808.0  COL   \n",
       "381176      2021-01-03   5028     1157.0       1126      14    107808.0  COL   \n",
       "\n",
       "       Province/State Country/Region  school_closing  ...  cancel_events  \\\n",
       "381172        Vichada       Colombia               3  ...              1   \n",
       "381173        Vichada       Colombia               3  ...              1   \n",
       "381174        Vichada       Colombia               3  ...              1   \n",
       "381175        Vichada       Colombia               3  ...              1   \n",
       "381176        Vichada       Colombia               3  ...              1   \n",
       "\n",
       "        gatherings_restrictions  transport_closing  stay_home_restrictions  \\\n",
       "381172                        3                  1                       1   \n",
       "381173                        3                  1                       1   \n",
       "381174                        3                  1                       1   \n",
       "381175                        3                  1                       1   \n",
       "381176                        3                  1                       1   \n",
       "\n",
       "        internal_movement_restrictions  international_movement_restrictions  \\\n",
       "381172                               1                                    4   \n",
       "381173                               1                                    4   \n",
       "381174                               1                                    4   \n",
       "381175                               1                                    4   \n",
       "381176                               1                                    4   \n",
       "\n",
       "        information_campaigns  testing_policy  contact_tracing  \\\n",
       "381172                      2               2                2   \n",
       "381173                      2               2                2   \n",
       "381174                      2               2                2   \n",
       "381175                      2               2                2   \n",
       "381176                      2               2                2   \n",
       "\n",
       "        stringency_index  \n",
       "381172             60.19  \n",
       "381173             60.19  \n",
       "381174             60.19  \n",
       "381175             60.19  \n",
       "381176             60.19  \n",
       "\n",
       "[5 rows x 21 columns]"
      ]
     },
     "execution_count": 10,
     "metadata": {},
     "output_type": "execute_result"
    }
   ],
   "source": [
    "# Raw data\n",
    "jhu_data.raw.tail()"
   ]
  },
  {
   "cell_type": "code",
   "execution_count": 11,
   "metadata": {
    "collapsed": false
   },
   "outputs": [
    {
     "data": {
      "text/html": [
       "<div>\n",
       "<style scoped>\n",
       "    .dataframe tbody tr th:only-of-type {\n",
       "        vertical-align: middle;\n",
       "    }\n",
       "\n",
       "    .dataframe tbody tr th {\n",
       "        vertical-align: top;\n",
       "    }\n",
       "\n",
       "    .dataframe thead th {\n",
       "        text-align: right;\n",
       "    }\n",
       "</style>\n",
       "<table border=\"1\" class=\"dataframe\">\n",
       "  <thead>\n",
       "    <tr style=\"text-align: right;\">\n",
       "      <th></th>\n",
       "      <th>Date</th>\n",
       "      <th>Country</th>\n",
       "      <th>Province</th>\n",
       "      <th>Confirmed</th>\n",
       "      <th>Infected</th>\n",
       "      <th>Fatal</th>\n",
       "      <th>Recovered</th>\n",
       "    </tr>\n",
       "  </thead>\n",
       "  <tbody>\n",
       "    <tr>\n",
       "      <th>14338</th>\n",
       "      <td>2020-12-30</td>\n",
       "      <td>Japan</td>\n",
       "      <td>-</td>\n",
       "      <td>226596</td>\n",
       "      <td>33781</td>\n",
       "      <td>3349</td>\n",
       "      <td>189466</td>\n",
       "    </tr>\n",
       "    <tr>\n",
       "      <th>14339</th>\n",
       "      <td>2020-12-31</td>\n",
       "      <td>Japan</td>\n",
       "      <td>-</td>\n",
       "      <td>230304</td>\n",
       "      <td>35439</td>\n",
       "      <td>3414</td>\n",
       "      <td>191451</td>\n",
       "    </tr>\n",
       "    <tr>\n",
       "      <th>14340</th>\n",
       "      <td>2021-01-01</td>\n",
       "      <td>Japan</td>\n",
       "      <td>-</td>\n",
       "      <td>234395</td>\n",
       "      <td>37221</td>\n",
       "      <td>3460</td>\n",
       "      <td>193714</td>\n",
       "    </tr>\n",
       "    <tr>\n",
       "      <th>14341</th>\n",
       "      <td>2021-01-02</td>\n",
       "      <td>Japan</td>\n",
       "      <td>-</td>\n",
       "      <td>238012</td>\n",
       "      <td>38078</td>\n",
       "      <td>3514</td>\n",
       "      <td>196420</td>\n",
       "    </tr>\n",
       "    <tr>\n",
       "      <th>14342</th>\n",
       "      <td>2021-01-03</td>\n",
       "      <td>Japan</td>\n",
       "      <td>-</td>\n",
       "      <td>240954</td>\n",
       "      <td>38920</td>\n",
       "      <td>3548</td>\n",
       "      <td>198486</td>\n",
       "    </tr>\n",
       "  </tbody>\n",
       "</table>\n",
       "</div>"
      ],
      "text/plain": [
       "            Date Country Province  Confirmed  Infected  Fatal  Recovered\n",
       "14338 2020-12-30   Japan        -     226596     33781   3349     189466\n",
       "14339 2020-12-31   Japan        -     230304     35439   3414     191451\n",
       "14340 2021-01-01   Japan        -     234395     37221   3460     193714\n",
       "14341 2021-01-02   Japan        -     238012     38078   3514     196420\n",
       "14342 2021-01-03   Japan        -     240954     38920   3548     198486"
      ]
     },
     "execution_count": 11,
     "metadata": {},
     "output_type": "execute_result"
    }
   ],
   "source": [
    "# Cleaned data\n",
    "jhu_data.cleaned().tail()"
   ]
  },
  {
   "cell_type": "code",
   "execution_count": 12,
   "metadata": {
    "collapsed": false
   },
   "outputs": [
    {
     "name": "stdout",
     "output_type": "stream",
     "text": [
      "<class 'pandas.core.frame.DataFrame'>\n",
      "Int64Index: 377808 entries, 0 to 14342\n",
      "Data columns (total 7 columns):\n",
      " #   Column     Non-Null Count   Dtype         \n",
      "---  ------     --------------   -----         \n",
      " 0   Date       377808 non-null  datetime64[ns]\n",
      " 1   Country    377808 non-null  category      \n",
      " 2   Province   377808 non-null  category      \n",
      " 3   Confirmed  377808 non-null  int64         \n",
      " 4   Infected   377808 non-null  int64         \n",
      " 5   Fatal      377808 non-null  int64         \n",
      " 6   Recovered  377808 non-null  int64         \n",
      "dtypes: category(2), datetime64[ns](1), int64(4)\n",
      "memory usage: 18.8 MB\n"
     ]
    }
   ],
   "source": [
    "jhu_data.cleaned().info()"
   ]
  },
  {
   "cell_type": "markdown",
   "metadata": {},
   "source": [
    "Total number of cases in all countries with `JHUData.total()` method."
   ]
  },
  {
   "cell_type": "code",
   "execution_count": 13,
   "metadata": {
    "collapsed": false
   },
   "outputs": [
    {
     "data": {
      "text/html": [
       "<div>\n",
       "<style scoped>\n",
       "    .dataframe tbody tr th:only-of-type {\n",
       "        vertical-align: middle;\n",
       "    }\n",
       "\n",
       "    .dataframe tbody tr th {\n",
       "        vertical-align: top;\n",
       "    }\n",
       "\n",
       "    .dataframe thead th {\n",
       "        text-align: right;\n",
       "    }\n",
       "</style>\n",
       "<table border=\"1\" class=\"dataframe\">\n",
       "  <thead>\n",
       "    <tr style=\"text-align: right;\">\n",
       "      <th></th>\n",
       "      <th>Confirmed</th>\n",
       "      <th>Infected</th>\n",
       "      <th>Fatal</th>\n",
       "      <th>Recovered</th>\n",
       "      <th>Fatal per Confirmed</th>\n",
       "      <th>Recovered per Confirmed</th>\n",
       "      <th>Fatal per (Fatal or Recovered)</th>\n",
       "    </tr>\n",
       "    <tr>\n",
       "      <th>Date</th>\n",
       "      <th></th>\n",
       "      <th></th>\n",
       "      <th></th>\n",
       "      <th></th>\n",
       "      <th></th>\n",
       "      <th></th>\n",
       "      <th></th>\n",
       "    </tr>\n",
       "  </thead>\n",
       "  <tbody>\n",
       "    <tr>\n",
       "      <th>2020-12-30</th>\n",
       "      <td>82767434</td>\n",
       "      <td>27968722</td>\n",
       "      <td>1806921</td>\n",
       "      <td>52991791</td>\n",
       "      <td>0.021831</td>\n",
       "      <td>0.640249</td>\n",
       "      <td>0.032974</td>\n",
       "    </tr>\n",
       "    <tr>\n",
       "      <th>2020-12-31</th>\n",
       "      <td>83489516</td>\n",
       "      <td>28380134</td>\n",
       "      <td>1819531</td>\n",
       "      <td>53289851</td>\n",
       "      <td>0.021794</td>\n",
       "      <td>0.638282</td>\n",
       "      <td>0.033017</td>\n",
       "    </tr>\n",
       "    <tr>\n",
       "      <th>2021-01-01</th>\n",
       "      <td>84007411</td>\n",
       "      <td>28646259</td>\n",
       "      <td>1828364</td>\n",
       "      <td>53532788</td>\n",
       "      <td>0.021764</td>\n",
       "      <td>0.637239</td>\n",
       "      <td>0.033026</td>\n",
       "    </tr>\n",
       "    <tr>\n",
       "      <th>2021-01-02</th>\n",
       "      <td>84606461</td>\n",
       "      <td>28968053</td>\n",
       "      <td>1835604</td>\n",
       "      <td>53802804</td>\n",
       "      <td>0.021696</td>\n",
       "      <td>0.635918</td>\n",
       "      <td>0.032992</td>\n",
       "    </tr>\n",
       "    <tr>\n",
       "      <th>2021-01-03</th>\n",
       "      <td>84617744</td>\n",
       "      <td>28977139</td>\n",
       "      <td>1835697</td>\n",
       "      <td>53804908</td>\n",
       "      <td>0.021694</td>\n",
       "      <td>0.635858</td>\n",
       "      <td>0.032992</td>\n",
       "    </tr>\n",
       "  </tbody>\n",
       "</table>\n",
       "</div>"
      ],
      "text/plain": [
       "            Confirmed  Infected    Fatal  Recovered  Fatal per Confirmed  \\\n",
       "Date                                                                       \n",
       "2020-12-30   82767434  27968722  1806921   52991791             0.021831   \n",
       "2020-12-31   83489516  28380134  1819531   53289851             0.021794   \n",
       "2021-01-01   84007411  28646259  1828364   53532788             0.021764   \n",
       "2021-01-02   84606461  28968053  1835604   53802804             0.021696   \n",
       "2021-01-03   84617744  28977139  1835697   53804908             0.021694   \n",
       "\n",
       "            Recovered per Confirmed  Fatal per (Fatal or Recovered)  \n",
       "Date                                                                 \n",
       "2020-12-30                 0.640249                        0.032974  \n",
       "2020-12-31                 0.638282                        0.033017  \n",
       "2021-01-01                 0.637239                        0.033026  \n",
       "2021-01-02                 0.635918                        0.032992  \n",
       "2021-01-03                 0.635858                        0.032992  "
      ]
     },
     "execution_count": 13,
     "metadata": {},
     "output_type": "execute_result"
    }
   ],
   "source": [
    "# Calculate total values\n",
    "total_df = jhu_data.total()\n",
    "total_df.tail()"
   ]
  },
  {
   "cell_type": "code",
   "execution_count": 14,
   "metadata": {
    "collapsed": false
   },
   "outputs": [
    {
     "data": {
      "image/png": "[encoded data removed]",
      "text/plain": [
       "<Figure size 648x432 with 1 Axes>"
      ]
     },
     "metadata": {},
     "output_type": "display_data"
    }
   ],
   "source": [
    "# Plot the total values\n",
    "cs.line_plot(total_df[[\"Infected\", \"Fatal\", \"Recovered\"]], \"Total number of cases over time\")"
   ]
  },
  {
   "cell_type": "code",
   "execution_count": 15,
   "metadata": {
    "collapsed": false
   },
   "outputs": [
    {
     "data": {
      "text/html": [
       "<div>\n",
       "<style scoped>\n",
       "    .dataframe tbody tr th:only-of-type {\n",
       "        vertical-align: middle;\n",
       "    }\n",
       "\n",
       "    .dataframe tbody tr th {\n",
       "        vertical-align: top;\n",
       "    }\n",
       "\n",
       "    .dataframe thead th {\n",
       "        text-align: right;\n",
       "    }\n",
       "</style>\n",
       "<table border=\"1\" class=\"dataframe\">\n",
       "  <thead>\n",
       "    <tr style=\"text-align: right;\">\n",
       "      <th></th>\n",
       "      <th>count</th>\n",
       "      <th>mean</th>\n",
       "      <th>std</th>\n",
       "      <th>min</th>\n",
       "      <th>25%</th>\n",
       "      <th>50%</th>\n",
       "      <th>75%</th>\n",
       "      <th>max</th>\n",
       "    </tr>\n",
       "  </thead>\n",
       "  <tbody>\n",
       "    <tr>\n",
       "      <th>Fatal per Confirmed</th>\n",
       "      <td>369.0</td>\n",
       "      <td>0.038046</td>\n",
       "      <td>0.017399</td>\n",
       "      <td>0.000000</td>\n",
       "      <td>0.024679</td>\n",
       "      <td>0.033931</td>\n",
       "      <td>0.048774</td>\n",
       "      <td>0.074103</td>\n",
       "    </tr>\n",
       "    <tr>\n",
       "      <th>Recovered per Confirmed</th>\n",
       "      <td>369.0</td>\n",
       "      <td>0.440791</td>\n",
       "      <td>0.250887</td>\n",
       "      <td>0.001377</td>\n",
       "      <td>0.221654</td>\n",
       "      <td>0.544097</td>\n",
       "      <td>0.649570</td>\n",
       "      <td>1.000000</td>\n",
       "    </tr>\n",
       "    <tr>\n",
       "      <th>Fatal per (Fatal or Recovered)</th>\n",
       "      <td>369.0</td>\n",
       "      <td>0.195321</td>\n",
       "      <td>0.264284</td>\n",
       "      <td>0.000000</td>\n",
       "      <td>0.039477</td>\n",
       "      <td>0.073593</td>\n",
       "      <td>0.215686</td>\n",
       "      <td>0.940083</td>\n",
       "    </tr>\n",
       "  </tbody>\n",
       "</table>\n",
       "</div>"
      ],
      "text/plain": [
       "                                count      mean       std       min       25%  \\\n",
       "Fatal per Confirmed             369.0  0.038046  0.017399  0.000000  0.024679   \n",
       "Recovered per Confirmed         369.0  0.440791  0.250887  0.001377  0.221654   \n",
       "Fatal per (Fatal or Recovered)  369.0  0.195321  0.264284  0.000000  0.039477   \n",
       "\n",
       "                                     50%       75%       max  \n",
       "Fatal per Confirmed             0.033931  0.048774  0.074103  \n",
       "Recovered per Confirmed         0.544097  0.649570  1.000000  \n",
       "Fatal per (Fatal or Recovered)  0.073593  0.215686  0.940083  "
      ]
     },
     "execution_count": 15,
     "metadata": {},
     "output_type": "execute_result"
    }
   ],
   "source": [
    "# Statistics of rate values in all countries\n",
    "total_df.loc[:, total_df.columns.str.contains(\"per\")].describe().T"
   ]
  },
  {
   "cell_type": "markdown",
   "metadata": {},
   "source": [
    "We can create a subset for a country using `JHUData.subset()` method."
   ]
  },
  {
   "cell_type": "code",
   "execution_count": 16,
   "metadata": {
    "collapsed": false
   },
   "outputs": [
    {
     "data": {
      "text/html": [
       "<div>\n",
       "<style scoped>\n",
       "    .dataframe tbody tr th:only-of-type {\n",
       "        vertical-align: middle;\n",
       "    }\n",
       "\n",
       "    .dataframe tbody tr th {\n",
       "        vertical-align: top;\n",
       "    }\n",
       "\n",
       "    .dataframe thead th {\n",
       "        text-align: right;\n",
       "    }\n",
       "</style>\n",
       "<table border=\"1\" class=\"dataframe\">\n",
       "  <thead>\n",
       "    <tr style=\"text-align: right;\">\n",
       "      <th></th>\n",
       "      <th>Date</th>\n",
       "      <th>Confirmed</th>\n",
       "      <th>Infected</th>\n",
       "      <th>Fatal</th>\n",
       "      <th>Recovered</th>\n",
       "    </tr>\n",
       "  </thead>\n",
       "  <tbody>\n",
       "    <tr>\n",
       "      <th>328</th>\n",
       "      <td>2020-12-30</td>\n",
       "      <td>226596</td>\n",
       "      <td>33781</td>\n",
       "      <td>3349</td>\n",
       "      <td>189466</td>\n",
       "    </tr>\n",
       "    <tr>\n",
       "      <th>329</th>\n",
       "      <td>2020-12-31</td>\n",
       "      <td>230304</td>\n",
       "      <td>35439</td>\n",
       "      <td>3414</td>\n",
       "      <td>191451</td>\n",
       "    </tr>\n",
       "    <tr>\n",
       "      <th>330</th>\n",
       "      <td>2021-01-01</td>\n",
       "      <td>234395</td>\n",
       "      <td>37221</td>\n",
       "      <td>3460</td>\n",
       "      <td>193714</td>\n",
       "    </tr>\n",
       "    <tr>\n",
       "      <th>331</th>\n",
       "      <td>2021-01-02</td>\n",
       "      <td>238012</td>\n",
       "      <td>38078</td>\n",
       "      <td>3514</td>\n",
       "      <td>196420</td>\n",
       "    </tr>\n",
       "    <tr>\n",
       "      <th>332</th>\n",
       "      <td>2021-01-03</td>\n",
       "      <td>240954</td>\n",
       "      <td>38920</td>\n",
       "      <td>3548</td>\n",
       "      <td>198486</td>\n",
       "    </tr>\n",
       "  </tbody>\n",
       "</table>\n",
       "</div>"
      ],
      "text/plain": [
       "          Date  Confirmed  Infected  Fatal  Recovered\n",
       "328 2020-12-30     226596     33781   3349     189466\n",
       "329 2020-12-31     230304     35439   3414     191451\n",
       "330 2021-01-01     234395     37221   3460     193714\n",
       "331 2021-01-02     238012     38078   3514     196420\n",
       "332 2021-01-03     240954     38920   3548     198486"
      ]
     },
     "execution_count": 16,
     "metadata": {},
     "output_type": "execute_result"
    }
   ],
   "source": [
    "# Subset for a country\n",
    "df, _ = jhu_data.records(\"Japan\")\n",
    "df.tail()\n",
    "# We can use ISO3 code etc.\n",
    "# df, _ = jhu_data.records(\"JPN\")\n",
    "# df.tail()"
   ]
  },
  {
   "cell_type": "markdown",
   "metadata": {},
   "source": [
    "Province (\"prefecture\" for Japan) name can be specified."
   ]
  },
  {
   "cell_type": "code",
   "execution_count": 17,
   "metadata": {
    "collapsed": false
   },
   "outputs": [
    {
     "data": {
      "text/html": [
       "<div>\n",
       "<style scoped>\n",
       "    .dataframe tbody tr th:only-of-type {\n",
       "        vertical-align: middle;\n",
       "    }\n",
       "\n",
       "    .dataframe tbody tr th {\n",
       "        vertical-align: top;\n",
       "    }\n",
       "\n",
       "    .dataframe thead th {\n",
       "        text-align: right;\n",
       "    }\n",
       "</style>\n",
       "<table border=\"1\" class=\"dataframe\">\n",
       "  <thead>\n",
       "    <tr style=\"text-align: right;\">\n",
       "      <th></th>\n",
       "      <th>Date</th>\n",
       "      <th>Confirmed</th>\n",
       "      <th>Infected</th>\n",
       "      <th>Fatal</th>\n",
       "      <th>Recovered</th>\n",
       "    </tr>\n",
       "  </thead>\n",
       "  <tbody>\n",
       "    <tr>\n",
       "      <th>269</th>\n",
       "      <td>2020-12-29</td>\n",
       "      <td>57896</td>\n",
       "      <td>11068</td>\n",
       "      <td>618</td>\n",
       "      <td>46210</td>\n",
       "    </tr>\n",
       "    <tr>\n",
       "      <th>270</th>\n",
       "      <td>2020-12-30</td>\n",
       "      <td>58840</td>\n",
       "      <td>11528</td>\n",
       "      <td>622</td>\n",
       "      <td>46690</td>\n",
       "    </tr>\n",
       "    <tr>\n",
       "      <th>271</th>\n",
       "      <td>2020-12-31</td>\n",
       "      <td>60177</td>\n",
       "      <td>12558</td>\n",
       "      <td>627</td>\n",
       "      <td>46992</td>\n",
       "    </tr>\n",
       "    <tr>\n",
       "      <th>272</th>\n",
       "      <td>2021-01-01</td>\n",
       "      <td>60960</td>\n",
       "      <td>12886</td>\n",
       "      <td>631</td>\n",
       "      <td>47443</td>\n",
       "    </tr>\n",
       "    <tr>\n",
       "      <th>273</th>\n",
       "      <td>2021-01-02</td>\n",
       "      <td>61774</td>\n",
       "      <td>13032</td>\n",
       "      <td>631</td>\n",
       "      <td>48111</td>\n",
       "    </tr>\n",
       "  </tbody>\n",
       "</table>\n",
       "</div>"
      ],
      "text/plain": [
       "          Date  Confirmed  Infected  Fatal  Recovered\n",
       "269 2020-12-29      57896     11068    618      46210\n",
       "270 2020-12-30      58840     11528    622      46690\n",
       "271 2020-12-31      60177     12558    627      46992\n",
       "272 2021-01-01      60960     12886    631      47443\n",
       "273 2021-01-02      61774     13032    631      48111"
      ]
     },
     "execution_count": 17,
     "metadata": {},
     "output_type": "execute_result"
    }
   ],
   "source": [
    "df, _ = jhu_data.records(\"Japan\", province=\"Tokyo\")\n",
    "df.tail()"
   ]
  },
  {
   "cell_type": "code",
   "execution_count": 18,
   "metadata": {
    "collapsed": false
   },
   "outputs": [
    {
     "name": "stdout",
     "output_type": "stream",
     "text": [
      "['Afghanistan', 'Albania', 'Algeria', 'Andorra', 'Angola',\n",
      " 'Antigua and Barbuda', 'Argentina', 'Armenia', 'Australia', 'Austria',\n",
      " 'Azerbaijan', 'Bahamas', 'Bahrain', 'Bangladesh', 'Barbados', 'Belarus',\n",
      " 'Belgium', 'Belize', 'Benin', 'Bermuda', 'Bhutan', 'Bolivia',\n",
      " 'Bosnia and Herzegovina', 'Botswana', 'Brazil', 'Brunei', 'Bulgaria',\n",
      " 'Burkina Faso', 'Burundi', 'Cambodia', 'Cameroon', 'Canada', 'Cape Verde',\n",
      " 'Central African Republic', 'Chad', 'Chile', 'China', 'Colombia', 'Comoros',\n",
      " 'Costa Atlantica', 'Costa Rica', \"Cote d'Ivoire\", 'Croatia', 'Cuba', 'Cyprus',\n",
      " 'Czech Republic', 'Democratic Republic of the Congo', 'Denmark', 'Djibouti',\n",
      " 'Dominica', 'Dominican Republic', 'Ecuador', 'Egypt', 'El Salvador',\n",
      " 'Equatorial Guinea', 'Eritrea', 'Estonia', 'Ethiopia', 'Fiji', 'Finland',\n",
      " 'France', 'Gabon', 'Gambia', 'Georgia', 'Germany', 'Ghana', 'Grand Princess',\n",
      " 'Greece', 'Grenada', 'Guam', 'Guatemala', 'Guinea', 'Guinea-Bissau', 'Guyana',\n",
      " 'Haiti', 'Holy See', 'Honduras', 'Hungary', 'Iceland', 'India', 'Indonesia',\n",
      " 'Iran', 'Iraq', 'Ireland', 'Israel', 'Italy', 'Jamaica', 'Japan', 'Jordan',\n",
      " 'Kazakhstan', 'Kenya', 'Kosovo', 'Kuwait', 'Kyrgyzstan', 'Laos', 'Latvia',\n",
      " 'Lebanon', 'Lesotho', 'Liberia', 'Libya', 'Liechtenstein', 'Lithuania',\n",
      " 'Luxembourg', 'MS Zaandam', 'Madagascar', 'Malawi', 'Malaysia', 'Maldives',\n",
      " 'Mali', 'Malta', 'Marshall Islands', 'Mauritania', 'Mauritius', 'Mexico',\n",
      " 'Moldova', 'Monaco', 'Mongolia', 'Montenegro', 'Morocco', 'Mozambique',\n",
      " 'Myanmar', 'Namibia', 'Nepal', 'Netherlands', 'New Zealand', 'Nicaragua',\n",
      " 'Niger', 'Nigeria', 'North Macedonia', 'Northern Mariana Islands', 'Norway',\n",
      " 'Oman', 'Pakistan', 'Palestine', 'Panama', 'Papua New Guinea', 'Paraguay',\n",
      " 'Peru', 'Philippines', 'Poland', 'Portugal', 'Puerto Rico', 'Qatar',\n",
      " 'Republic of the Congo', 'Romania', 'Russia', 'Rwanda',\n",
      " 'Saint Kitts and Nevis', 'Saint Lucia', 'Saint Vincent and the Grenadines',\n",
      " 'Samoa', 'San Marino', 'Sao Tome and Principe', 'Saudi Arabia', 'Senegal',\n",
      " 'Serbia', 'Seychelles', 'Sierra Leone', 'Singapore', 'Slovakia', 'Slovenia',\n",
      " 'Solomon Islands', 'Somalia', 'South Africa', 'South Korea', 'South Sudan',\n",
      " 'Spain', 'Sri Lanka', 'Sudan', 'Suriname', 'Swaziland', 'Sweden',\n",
      " 'Switzerland', 'Syria', 'Taiwan', 'Tajikistan', 'Tanzania', 'Thailand',\n",
      " 'Timor-Leste', 'Togo', 'Trinidad and Tobago', 'Tunisia', 'Turkey', 'Uganda',\n",
      " 'Ukraine', 'United Arab Emirates', 'United Kingdom', 'United States',\n",
      " 'Uruguay', 'Uzbekistan', 'Vanuatu', 'Venezuela', 'Vietnam',\n",
      " 'Virgin Islands, U.S.', 'Yemen', 'Zambia', 'Zimbabwe']\n"
     ]
    }
   ],
   "source": [
    "# Countries we can select\n",
    "pprint(jhu_data.countries(), compact=True)"
   ]
  },
  {
   "cell_type": "markdown",
   "metadata": {},
   "source": [
    "### Linelist of case reports\n",
    "The number of cases is important, but linelist of case reports will helpful to understand the situation deeply. Linelist data was saved as `linelist`, an instance of `LinelistData` class. This dataset is from [Open COVID-19 Data Working Group](https://github.com/beoutbreakprepared/nCoV2019)."
   ]
  },
  {
   "cell_type": "code",
   "execution_count": 19,
   "metadata": {
    "collapsed": false
   },
   "outputs": [
    {
     "data": {
      "text/plain": [
       "covsirphy.cleaning.linelist.LinelistData"
      ]
     },
     "execution_count": 19,
     "metadata": {},
     "output_type": "execute_result"
    }
   ],
   "source": [
    "type(linelist)"
   ]
  },
  {
   "cell_type": "code",
   "execution_count": 20,
   "metadata": {
    "collapsed": false
   },
   "outputs": [
    {
     "name": "stdout",
     "output_type": "stream",
     "text": [
      "Xu, B., Gutierrez, B., Mekaru, S. et al. Epidemiological data from the COVID-19 outbreak, real-time case information. Sci Data 7, 106 (2020). https://doi.org/10.1038/s41597-020-0448-0\n"
     ]
    }
   ],
   "source": [
    "# Citation\n",
    "print(linelist.citation)"
   ]
  },
  {
   "cell_type": "code",
   "execution_count": 21,
   "metadata": {
    "collapsed": false
   },
   "outputs": [
    {
     "data": {
      "text/html": [
       "<div>\n",
       "<style scoped>\n",
       "    .dataframe tbody tr th:only-of-type {\n",
       "        vertical-align: middle;\n",
       "    }\n",
       "\n",
       "    .dataframe tbody tr th {\n",
       "        vertical-align: top;\n",
       "    }\n",
       "\n",
       "    .dataframe thead th {\n",
       "        text-align: right;\n",
       "    }\n",
       "</style>\n",
       "<table border=\"1\" class=\"dataframe\">\n",
       "  <thead>\n",
       "    <tr style=\"text-align: right;\">\n",
       "      <th></th>\n",
       "      <th>age</th>\n",
       "      <th>sex</th>\n",
       "      <th>province</th>\n",
       "      <th>country</th>\n",
       "      <th>date_admission_hospital</th>\n",
       "      <th>date_confirmation</th>\n",
       "      <th>symptoms</th>\n",
       "      <th>chronic_disease</th>\n",
       "      <th>outcome</th>\n",
       "      <th>date_death_or_discharge</th>\n",
       "    </tr>\n",
       "  </thead>\n",
       "  <tbody>\n",
       "    <tr>\n",
       "      <th>2676307</th>\n",
       "      <td>52</td>\n",
       "      <td>female</td>\n",
       "      <td>Lima</td>\n",
       "      <td>Peru</td>\n",
       "      <td>NaN</td>\n",
       "      <td>17.05.2020</td>\n",
       "      <td>NaN</td>\n",
       "      <td>NaN</td>\n",
       "      <td>NaN</td>\n",
       "      <td>NaN</td>\n",
       "    </tr>\n",
       "    <tr>\n",
       "      <th>2676308</th>\n",
       "      <td>52</td>\n",
       "      <td>female</td>\n",
       "      <td>Lima</td>\n",
       "      <td>Peru</td>\n",
       "      <td>NaN</td>\n",
       "      <td>17.05.2020</td>\n",
       "      <td>NaN</td>\n",
       "      <td>NaN</td>\n",
       "      <td>NaN</td>\n",
       "      <td>NaN</td>\n",
       "    </tr>\n",
       "    <tr>\n",
       "      <th>2676309</th>\n",
       "      <td>52</td>\n",
       "      <td>male</td>\n",
       "      <td>Callao</td>\n",
       "      <td>Peru</td>\n",
       "      <td>NaN</td>\n",
       "      <td>17.05.2020</td>\n",
       "      <td>NaN</td>\n",
       "      <td>NaN</td>\n",
       "      <td>NaN</td>\n",
       "      <td>NaN</td>\n",
       "    </tr>\n",
       "    <tr>\n",
       "      <th>2676310</th>\n",
       "      <td>52</td>\n",
       "      <td>male</td>\n",
       "      <td>Lima</td>\n",
       "      <td>Peru</td>\n",
       "      <td>NaN</td>\n",
       "      <td>17.05.2020</td>\n",
       "      <td>NaN</td>\n",
       "      <td>NaN</td>\n",
       "      <td>NaN</td>\n",
       "      <td>NaN</td>\n",
       "    </tr>\n",
       "    <tr>\n",
       "      <th>2676311</th>\n",
       "      <td>NaN</td>\n",
       "      <td>NaN</td>\n",
       "      <td>NaN</td>\n",
       "      <td>NaN</td>\n",
       "      <td>NaN</td>\n",
       "      <td>NaN</td>\n",
       "      <td>NaN</td>\n",
       "      <td>NaN</td>\n",
       "      <td>NaN</td>\n",
       "      <td>NaN</td>\n",
       "    </tr>\n",
       "  </tbody>\n",
       "</table>\n",
       "</div>"
      ],
      "text/plain": [
       "         age     sex province country date_admission_hospital  \\\n",
       "2676307   52  female     Lima    Peru                     NaN   \n",
       "2676308   52  female     Lima    Peru                     NaN   \n",
       "2676309   52    male   Callao    Peru                     NaN   \n",
       "2676310   52    male     Lima    Peru                     NaN   \n",
       "2676311  NaN     NaN      NaN     NaN                     NaN   \n",
       "\n",
       "        date_confirmation symptoms chronic_disease outcome  \\\n",
       "2676307        17.05.2020      NaN             NaN     NaN   \n",
       "2676308        17.05.2020      NaN             NaN     NaN   \n",
       "2676309        17.05.2020      NaN             NaN     NaN   \n",
       "2676310        17.05.2020      NaN             NaN     NaN   \n",
       "2676311               NaN      NaN             NaN     NaN   \n",
       "\n",
       "        date_death_or_discharge  \n",
       "2676307                     NaN  \n",
       "2676308                     NaN  \n",
       "2676309                     NaN  \n",
       "2676310                     NaN  \n",
       "2676311                     NaN  "
      ]
     },
     "execution_count": 21,
     "metadata": {},
     "output_type": "execute_result"
    }
   ],
   "source": [
    "# Raw dataset\n",
    "linelist.raw.tail()"
   ]
  },
  {
   "cell_type": "code",
   "execution_count": 22,
   "metadata": {
    "collapsed": false
   },
   "outputs": [
    {
     "data": {
      "text/html": [
       "<div>\n",
       "<style scoped>\n",
       "    .dataframe tbody tr th:only-of-type {\n",
       "        vertical-align: middle;\n",
       "    }\n",
       "\n",
       "    .dataframe tbody tr th {\n",
       "        vertical-align: top;\n",
       "    }\n",
       "\n",
       "    .dataframe thead th {\n",
       "        text-align: right;\n",
       "    }\n",
       "</style>\n",
       "<table border=\"1\" class=\"dataframe\">\n",
       "  <thead>\n",
       "    <tr style=\"text-align: right;\">\n",
       "      <th></th>\n",
       "      <th>Country</th>\n",
       "      <th>Province</th>\n",
       "      <th>Hospitalized_date</th>\n",
       "      <th>Confirmation_date</th>\n",
       "      <th>Outcome_date</th>\n",
       "      <th>Confirmed</th>\n",
       "      <th>Infected</th>\n",
       "      <th>Recovered</th>\n",
       "      <th>Fatal</th>\n",
       "      <th>Symptoms</th>\n",
       "      <th>Chronic_disease</th>\n",
       "      <th>Age</th>\n",
       "      <th>Sex</th>\n",
       "    </tr>\n",
       "  </thead>\n",
       "  <tbody>\n",
       "    <tr>\n",
       "      <th>2676306</th>\n",
       "      <td>Peru</td>\n",
       "      <td>Coronel Portillo</td>\n",
       "      <td>NaT</td>\n",
       "      <td>2020-05-17</td>\n",
       "      <td>NaT</td>\n",
       "      <td>True</td>\n",
       "      <td>False</td>\n",
       "      <td>False</td>\n",
       "      <td>False</td>\n",
       "      <td>NaN</td>\n",
       "      <td>NaN</td>\n",
       "      <td>52.0</td>\n",
       "      <td>female</td>\n",
       "    </tr>\n",
       "    <tr>\n",
       "      <th>2676307</th>\n",
       "      <td>Peru</td>\n",
       "      <td>Lima</td>\n",
       "      <td>NaT</td>\n",
       "      <td>2020-05-17</td>\n",
       "      <td>NaT</td>\n",
       "      <td>True</td>\n",
       "      <td>False</td>\n",
       "      <td>False</td>\n",
       "      <td>False</td>\n",
       "      <td>NaN</td>\n",
       "      <td>NaN</td>\n",
       "      <td>52.0</td>\n",
       "      <td>female</td>\n",
       "    </tr>\n",
       "    <tr>\n",
       "      <th>2676308</th>\n",
       "      <td>Peru</td>\n",
       "      <td>Lima</td>\n",
       "      <td>NaT</td>\n",
       "      <td>2020-05-17</td>\n",
       "      <td>NaT</td>\n",
       "      <td>True</td>\n",
       "      <td>False</td>\n",
       "      <td>False</td>\n",
       "      <td>False</td>\n",
       "      <td>NaN</td>\n",
       "      <td>NaN</td>\n",
       "      <td>52.0</td>\n",
       "      <td>female</td>\n",
       "    </tr>\n",
       "    <tr>\n",
       "      <th>2676309</th>\n",
       "      <td>Peru</td>\n",
       "      <td>Callao</td>\n",
       "      <td>NaT</td>\n",
       "      <td>2020-05-17</td>\n",
       "      <td>NaT</td>\n",
       "      <td>True</td>\n",
       "      <td>False</td>\n",
       "      <td>False</td>\n",
       "      <td>False</td>\n",
       "      <td>NaN</td>\n",
       "      <td>NaN</td>\n",
       "      <td>52.0</td>\n",
       "      <td>male</td>\n",
       "    </tr>\n",
       "    <tr>\n",
       "      <th>2676310</th>\n",
       "      <td>Peru</td>\n",
       "      <td>Lima</td>\n",
       "      <td>NaT</td>\n",
       "      <td>2020-05-17</td>\n",
       "      <td>NaT</td>\n",
       "      <td>True</td>\n",
       "      <td>False</td>\n",
       "      <td>False</td>\n",
       "      <td>False</td>\n",
       "      <td>NaN</td>\n",
       "      <td>NaN</td>\n",
       "      <td>52.0</td>\n",
       "      <td>male</td>\n",
       "    </tr>\n",
       "  </tbody>\n",
       "</table>\n",
       "</div>"
      ],
      "text/plain": [
       "        Country          Province Hospitalized_date Confirmation_date  \\\n",
       "2676306    Peru  Coronel Portillo               NaT        2020-05-17   \n",
       "2676307    Peru              Lima               NaT        2020-05-17   \n",
       "2676308    Peru              Lima               NaT        2020-05-17   \n",
       "2676309    Peru            Callao               NaT        2020-05-17   \n",
       "2676310    Peru              Lima               NaT        2020-05-17   \n",
       "\n",
       "        Outcome_date  Confirmed  Infected  Recovered  Fatal Symptoms  \\\n",
       "2676306          NaT       True     False      False  False      NaN   \n",
       "2676307          NaT       True     False      False  False      NaN   \n",
       "2676308          NaT       True     False      False  False      NaN   \n",
       "2676309          NaT       True     False      False  False      NaN   \n",
       "2676310          NaT       True     False      False  False      NaN   \n",
       "\n",
       "        Chronic_disease   Age     Sex  \n",
       "2676306             NaN  52.0  female  \n",
       "2676307             NaN  52.0  female  \n",
       "2676308             NaN  52.0  female  \n",
       "2676309             NaN  52.0    male  \n",
       "2676310             NaN  52.0    male  "
      ]
     },
     "execution_count": 22,
     "metadata": {},
     "output_type": "execute_result"
    }
   ],
   "source": [
    "# Cleaned dataset\n",
    "linelist.cleaned().tail()"
   ]
  },
  {
   "cell_type": "code",
   "execution_count": 23,
   "metadata": {
    "collapsed": false
   },
   "outputs": [
    {
     "data": {
      "text/html": [
       "<div>\n",
       "<style scoped>\n",
       "    .dataframe tbody tr th:only-of-type {\n",
       "        vertical-align: middle;\n",
       "    }\n",
       "\n",
       "    .dataframe tbody tr th {\n",
       "        vertical-align: top;\n",
       "    }\n",
       "\n",
       "    .dataframe thead th {\n",
       "        text-align: right;\n",
       "    }\n",
       "</style>\n",
       "<table border=\"1\" class=\"dataframe\">\n",
       "  <thead>\n",
       "    <tr style=\"text-align: right;\">\n",
       "      <th></th>\n",
       "      <th>Hospitalized_date</th>\n",
       "      <th>Confirmation_date</th>\n",
       "      <th>Outcome_date</th>\n",
       "      <th>Confirmed</th>\n",
       "      <th>Infected</th>\n",
       "      <th>Recovered</th>\n",
       "      <th>Fatal</th>\n",
       "      <th>Symptoms</th>\n",
       "      <th>Chronic_disease</th>\n",
       "      <th>Age</th>\n",
       "      <th>Sex</th>\n",
       "    </tr>\n",
       "  </thead>\n",
       "  <tbody>\n",
       "    <tr>\n",
       "      <th>107</th>\n",
       "      <td>NaT</td>\n",
       "      <td>2020-01-30</td>\n",
       "      <td>NaT</td>\n",
       "      <td>True</td>\n",
       "      <td>False</td>\n",
       "      <td>False</td>\n",
       "      <td>False</td>\n",
       "      <td>NaN</td>\n",
       "      <td>NaN</td>\n",
       "      <td>NaN</td>\n",
       "      <td>female</td>\n",
       "    </tr>\n",
       "    <tr>\n",
       "      <th>108</th>\n",
       "      <td>NaT</td>\n",
       "      <td>2020-01-24</td>\n",
       "      <td>NaT</td>\n",
       "      <td>True</td>\n",
       "      <td>False</td>\n",
       "      <td>True</td>\n",
       "      <td>False</td>\n",
       "      <td>fever:pneumonia:sore throat</td>\n",
       "      <td>NaN</td>\n",
       "      <td>40.0</td>\n",
       "      <td>male</td>\n",
       "    </tr>\n",
       "    <tr>\n",
       "      <th>109</th>\n",
       "      <td>2020-10-01</td>\n",
       "      <td>2020-01-15</td>\n",
       "      <td>2020-01-15</td>\n",
       "      <td>True</td>\n",
       "      <td>False</td>\n",
       "      <td>True</td>\n",
       "      <td>False</td>\n",
       "      <td>cough:fever:sore throat</td>\n",
       "      <td>NaN</td>\n",
       "      <td>30.0</td>\n",
       "      <td>male</td>\n",
       "    </tr>\n",
       "    <tr>\n",
       "      <th>110</th>\n",
       "      <td>NaT</td>\n",
       "      <td>2020-01-25</td>\n",
       "      <td>NaT</td>\n",
       "      <td>True</td>\n",
       "      <td>False</td>\n",
       "      <td>False</td>\n",
       "      <td>False</td>\n",
       "      <td>cough:fever</td>\n",
       "      <td>NaN</td>\n",
       "      <td>NaN</td>\n",
       "      <td>female</td>\n",
       "    </tr>\n",
       "    <tr>\n",
       "      <th>111</th>\n",
       "      <td>NaT</td>\n",
       "      <td>2020-01-26</td>\n",
       "      <td>NaT</td>\n",
       "      <td>True</td>\n",
       "      <td>False</td>\n",
       "      <td>False</td>\n",
       "      <td>False</td>\n",
       "      <td>fever:joint pain:pneumonia</td>\n",
       "      <td>NaN</td>\n",
       "      <td>40.0</td>\n",
       "      <td>male</td>\n",
       "    </tr>\n",
       "  </tbody>\n",
       "</table>\n",
       "</div>"
      ],
      "text/plain": [
       "    Hospitalized_date Confirmation_date Outcome_date  Confirmed  Infected  \\\n",
       "107               NaT        2020-01-30          NaT       True     False   \n",
       "108               NaT        2020-01-24          NaT       True     False   \n",
       "109        2020-10-01        2020-01-15   2020-01-15       True     False   \n",
       "110               NaT        2020-01-25          NaT       True     False   \n",
       "111               NaT        2020-01-26          NaT       True     False   \n",
       "\n",
       "     Recovered  Fatal                     Symptoms Chronic_disease   Age  \\\n",
       "107      False  False                          NaN             NaN   NaN   \n",
       "108       True  False  fever:pneumonia:sore throat             NaN  40.0   \n",
       "109       True  False      cough:fever:sore throat             NaN  30.0   \n",
       "110      False  False                  cough:fever             NaN   NaN   \n",
       "111      False  False   fever:joint pain:pneumonia             NaN  40.0   \n",
       "\n",
       "        Sex  \n",
       "107  female  \n",
       "108    male  \n",
       "109    male  \n",
       "110  female  \n",
       "111    male  "
      ]
     },
     "execution_count": 23,
     "metadata": {},
     "output_type": "execute_result"
    }
   ],
   "source": [
    "# Subset for specified area\n",
    "linelist.subset(\"Japan\", province=\"Tokyo\").tail()"
   ]
  },
  {
   "cell_type": "code",
   "execution_count": 24,
   "metadata": {
    "collapsed": false
   },
   "outputs": [
    {
     "data": {
      "text/html": [
       "<div>\n",
       "<style scoped>\n",
       "    .dataframe tbody tr th:only-of-type {\n",
       "        vertical-align: middle;\n",
       "    }\n",
       "\n",
       "    .dataframe tbody tr th {\n",
       "        vertical-align: top;\n",
       "    }\n",
       "\n",
       "    .dataframe thead th {\n",
       "        text-align: right;\n",
       "    }\n",
       "</style>\n",
       "<table border=\"1\" class=\"dataframe\">\n",
       "  <thead>\n",
       "    <tr style=\"text-align: right;\">\n",
       "      <th></th>\n",
       "      <th>Country</th>\n",
       "      <th>Province</th>\n",
       "      <th>Hospitalized_date</th>\n",
       "      <th>Confirmation_date</th>\n",
       "      <th>Recovered_date</th>\n",
       "      <th>Symptoms</th>\n",
       "      <th>Chronic_disease</th>\n",
       "      <th>Age</th>\n",
       "      <th>Sex</th>\n",
       "    </tr>\n",
       "  </thead>\n",
       "  <tbody>\n",
       "    <tr>\n",
       "      <th>272</th>\n",
       "      <td>Singapore</td>\n",
       "      <td>-</td>\n",
       "      <td>2020-02-02</td>\n",
       "      <td>2020-02-06</td>\n",
       "      <td>2020-02-17</td>\n",
       "      <td>NaN</td>\n",
       "      <td>NaN</td>\n",
       "      <td>39.0</td>\n",
       "      <td>female</td>\n",
       "    </tr>\n",
       "    <tr>\n",
       "      <th>273</th>\n",
       "      <td>Malaysia</td>\n",
       "      <td>Johor</td>\n",
       "      <td>NaT</td>\n",
       "      <td>2020-01-25</td>\n",
       "      <td>2020-02-08</td>\n",
       "      <td>cough:fever</td>\n",
       "      <td>NaN</td>\n",
       "      <td>40.0</td>\n",
       "      <td>male</td>\n",
       "    </tr>\n",
       "    <tr>\n",
       "      <th>274</th>\n",
       "      <td>China</td>\n",
       "      <td>Gansu</td>\n",
       "      <td>2020-07-02</td>\n",
       "      <td>2020-02-08</td>\n",
       "      <td>2020-02-17</td>\n",
       "      <td>diarrhea</td>\n",
       "      <td>NaN</td>\n",
       "      <td>1.0</td>\n",
       "      <td>female</td>\n",
       "    </tr>\n",
       "    <tr>\n",
       "      <th>275</th>\n",
       "      <td>Canada</td>\n",
       "      <td>Ontario</td>\n",
       "      <td>NaT</td>\n",
       "      <td>2020-01-25</td>\n",
       "      <td>2020-01-31</td>\n",
       "      <td>NaN</td>\n",
       "      <td>hypertension</td>\n",
       "      <td>NaN</td>\n",
       "      <td>male</td>\n",
       "    </tr>\n",
       "    <tr>\n",
       "      <th>276</th>\n",
       "      <td>Canada</td>\n",
       "      <td>Ontario</td>\n",
       "      <td>NaT</td>\n",
       "      <td>2020-01-31</td>\n",
       "      <td>2020-02-19</td>\n",
       "      <td>NaN</td>\n",
       "      <td>NaN</td>\n",
       "      <td>NaN</td>\n",
       "      <td>female</td>\n",
       "    </tr>\n",
       "  </tbody>\n",
       "</table>\n",
       "</div>"
      ],
      "text/plain": [
       "       Country Province Hospitalized_date Confirmation_date Recovered_date  \\\n",
       "272  Singapore        -        2020-02-02        2020-02-06     2020-02-17   \n",
       "273   Malaysia    Johor               NaT        2020-01-25     2020-02-08   \n",
       "274      China    Gansu        2020-07-02        2020-02-08     2020-02-17   \n",
       "275     Canada  Ontario               NaT        2020-01-25     2020-01-31   \n",
       "276     Canada  Ontario               NaT        2020-01-31     2020-02-19   \n",
       "\n",
       "        Symptoms Chronic_disease   Age     Sex  \n",
       "272          NaN             NaN  39.0  female  \n",
       "273  cough:fever             NaN  40.0    male  \n",
       "274     diarrhea             NaN   1.0  female  \n",
       "275          NaN    hypertension   NaN    male  \n",
       "276          NaN             NaN   NaN  female  "
      ]
     },
     "execution_count": 24,
     "metadata": {},
     "output_type": "execute_result"
    }
   ],
   "source": [
    "# Subset for outcome (\"Recovered\" or \"Fatal\")\n",
    "linelist.closed(outcome=\"Recovered\").tail()"
   ]
  },
  {
   "cell_type": "markdown",
   "metadata": {},
   "source": [
    "As the median value of the period from confirmation to recovery, we can calculate recovery period."
   ]
  },
  {
   "cell_type": "code",
   "execution_count": 25,
   "metadata": {
    "collapsed": false
   },
   "outputs": [
    {
     "data": {
      "text/plain": [
       "12"
      ]
     },
     "execution_count": 25,
     "metadata": {},
     "output_type": "execute_result"
    }
   ],
   "source": [
    "# Recovery period (integer) [days]\n",
    "linelist.recovery_period()"
   ]
  },
  {
   "cell_type": "markdown",
   "metadata": {},
   "source": [
    "### Population in each country\n",
    "Population values are necessary to calculate the number of susceptible people. Susceptible is a variable of SIR-derived models. This dataset was saved as `population_data`, an instance of `PopulationData` class."
   ]
  },
  {
   "cell_type": "code",
   "execution_count": 26,
   "metadata": {
    "collapsed": false
   },
   "outputs": [
    {
     "data": {
      "text/plain": [
       "covsirphy.cleaning.population.PopulationData"
      ]
     },
     "execution_count": 26,
     "metadata": {},
     "output_type": "execute_result"
    }
   ],
   "source": [
    "type(population_data)"
   ]
  },
  {
   "cell_type": "code",
   "execution_count": 27,
   "metadata": {
    "collapsed": false,
    "tags": []
   },
   "outputs": [
    {
     "name": "stdout",
     "output_type": "stream",
     "text": [
      "(Secondary source) Guidotti, E., Ardia, D., (2020), \"COVID-19 Data Hub\", Journal of Open Source Software 5(51):2376, doi: 10.21105/joss.02376.\n"
     ]
    }
   ],
   "source": [
    "# Description/citation\n",
    "print(population_data.citation)"
   ]
  },
  {
   "cell_type": "code",
   "execution_count": 28,
   "metadata": {
    "collapsed": false
   },
   "outputs": [],
   "source": [
    "# Raw data (the same as jhu_data)\n",
    "# population_data.raw.tail()"
   ]
  },
  {
   "cell_type": "code",
   "execution_count": 29,
   "metadata": {
    "collapsed": false
   },
   "outputs": [
    {
     "data": {
      "text/html": [
       "<div>\n",
       "<style scoped>\n",
       "    .dataframe tbody tr th:only-of-type {\n",
       "        vertical-align: middle;\n",
       "    }\n",
       "\n",
       "    .dataframe tbody tr th {\n",
       "        vertical-align: top;\n",
       "    }\n",
       "\n",
       "    .dataframe thead th {\n",
       "        text-align: right;\n",
       "    }\n",
       "</style>\n",
       "<table border=\"1\" class=\"dataframe\">\n",
       "  <thead>\n",
       "    <tr style=\"text-align: right;\">\n",
       "      <th></th>\n",
       "      <th>ISO3</th>\n",
       "      <th>Country</th>\n",
       "      <th>Province</th>\n",
       "      <th>Date</th>\n",
       "      <th>Population</th>\n",
       "    </tr>\n",
       "  </thead>\n",
       "  <tbody>\n",
       "    <tr>\n",
       "      <th>321394</th>\n",
       "      <td>COL</td>\n",
       "      <td>Colombia</td>\n",
       "      <td>Vichada</td>\n",
       "      <td>2020-12-30</td>\n",
       "      <td>107808</td>\n",
       "    </tr>\n",
       "    <tr>\n",
       "      <th>321395</th>\n",
       "      <td>COL</td>\n",
       "      <td>Colombia</td>\n",
       "      <td>Vichada</td>\n",
       "      <td>2020-12-31</td>\n",
       "      <td>107808</td>\n",
       "    </tr>\n",
       "    <tr>\n",
       "      <th>321396</th>\n",
       "      <td>COL</td>\n",
       "      <td>Colombia</td>\n",
       "      <td>Vichada</td>\n",
       "      <td>2021-01-01</td>\n",
       "      <td>107808</td>\n",
       "    </tr>\n",
       "    <tr>\n",
       "      <th>321397</th>\n",
       "      <td>COL</td>\n",
       "      <td>Colombia</td>\n",
       "      <td>Vichada</td>\n",
       "      <td>2021-01-02</td>\n",
       "      <td>107808</td>\n",
       "    </tr>\n",
       "    <tr>\n",
       "      <th>321398</th>\n",
       "      <td>COL</td>\n",
       "      <td>Colombia</td>\n",
       "      <td>Vichada</td>\n",
       "      <td>2021-01-03</td>\n",
       "      <td>107808</td>\n",
       "    </tr>\n",
       "  </tbody>\n",
       "</table>\n",
       "</div>"
      ],
      "text/plain": [
       "       ISO3   Country Province       Date  Population\n",
       "321394  COL  Colombia  Vichada 2020-12-30      107808\n",
       "321395  COL  Colombia  Vichada 2020-12-31      107808\n",
       "321396  COL  Colombia  Vichada 2021-01-01      107808\n",
       "321397  COL  Colombia  Vichada 2021-01-02      107808\n",
       "321398  COL  Colombia  Vichada 2021-01-03      107808"
      ]
     },
     "execution_count": 29,
     "metadata": {},
     "output_type": "execute_result"
    }
   ],
   "source": [
    "# Cleaned data\n",
    "population_data.cleaned().tail()"
   ]
  },
  {
   "cell_type": "markdown",
   "metadata": {},
   "source": [
    "We will get the population values with `PopulationData.value()`."
   ]
  },
  {
   "cell_type": "code",
   "execution_count": 30,
   "metadata": {
    "collapsed": false
   },
   "outputs": [
    {
     "data": {
      "text/plain": [
       "126529100"
      ]
     },
     "execution_count": 30,
     "metadata": {},
     "output_type": "execute_result"
    }
   ],
   "source": [
    "# In a country\n",
    "population_data.value(\"Japan\", province=None)\n",
    "# In a country with ISO3 code\n",
    "# population_data.value(\"JPN\", province=None)\n",
    "# In a province (prefecture)\n",
    "# population_data.value(\"Japan\", province=\"Tokyo\")"
   ]
  },
  {
   "cell_type": "markdown",
   "metadata": {},
   "source": [
    "We can update the population values."
   ]
  },
  {
   "cell_type": "code",
   "execution_count": 31,
   "metadata": {
    "collapsed": false
   },
   "outputs": [
    {
     "name": "stdout",
     "output_type": "stream",
     "text": [
      "Before: 13942856\n",
      " After: 14002973\n"
     ]
    }
   ],
   "source": [
    "# Before\n",
    "population_before = population_data.value(\"Japan\", province=\"Tokyo\")\n",
    "print(f\"Before: {population_before}\")\n",
    "# Register population value of Tokyo in Japan\n",
    "# https://www.metro.tokyo.lg.jp/tosei/hodohappyo/press/2020/06/11/07.html\n",
    "population_data.update(14_002_973, \"Japan\", province=\"Tokyo\")\n",
    "population_after = population_data.value(\"Japan\", province=\"Tokyo\")\n",
    "print(f\" After: {population_after}\")"
   ]
  },
  {
   "cell_type": "markdown",
   "metadata": {},
   "source": [
    "### Government Response Tracker (OxCGRT)\n",
    "Government responses are tracked with [Oxford Covid-19 Government Response Tracker (OxCGRT)](https://github.com/OxCGRT/covid-policy-tracker). Because government responses and activities of persons change the parameter values of SIR-derived models, this dataset is significant when we try to forcast the number of cases.  \n",
    "With `DataLoader` class, the dataset was retrieved via [COVID-19 Data Hub](https://covid19datahub.io/) and saved as `oxcgrt_data`, an instance of `OxCGRTData` class."
   ]
  },
  {
   "cell_type": "code",
   "execution_count": 32,
   "metadata": {
    "collapsed": false
   },
   "outputs": [
    {
     "data": {
      "text/plain": [
       "covsirphy.cleaning.oxcgrt.OxCGRTData"
      ]
     },
     "execution_count": 32,
     "metadata": {},
     "output_type": "execute_result"
    }
   ],
   "source": [
    "type(oxcgrt_data)"
   ]
  },
  {
   "cell_type": "code",
   "execution_count": 33,
   "metadata": {
    "collapsed": false,
    "tags": []
   },
   "outputs": [
    {
     "name": "stdout",
     "output_type": "stream",
     "text": [
      "(Secondary source) Guidotti, E., Ardia, D., (2020), \"COVID-19 Data Hub\", Journal of Open Source Software 5(51):2376, doi: 10.21105/joss.02376.\n"
     ]
    }
   ],
   "source": [
    "# Description/citation\n",
    "print(oxcgrt_data.citation)"
   ]
  },
  {
   "cell_type": "code",
   "execution_count": 34,
   "metadata": {
    "collapsed": false
   },
   "outputs": [],
   "source": [
    "# Raw data (the same as jhu_data)\n",
    "# oxcgrt_data.raw.tail()"
   ]
  },
  {
   "cell_type": "code",
   "execution_count": 35,
   "metadata": {
    "collapsed": false
   },
   "outputs": [
    {
     "data": {
      "text/html": [
       "<div>\n",
       "<style scoped>\n",
       "    .dataframe tbody tr th:only-of-type {\n",
       "        vertical-align: middle;\n",
       "    }\n",
       "\n",
       "    .dataframe tbody tr th {\n",
       "        vertical-align: top;\n",
       "    }\n",
       "\n",
       "    .dataframe thead th {\n",
       "        text-align: right;\n",
       "    }\n",
       "</style>\n",
       "<table border=\"1\" class=\"dataframe\">\n",
       "  <thead>\n",
       "    <tr style=\"text-align: right;\">\n",
       "      <th></th>\n",
       "      <th>Date</th>\n",
       "      <th>Country</th>\n",
       "      <th>ISO3</th>\n",
       "      <th>School_closing</th>\n",
       "      <th>Workplace_closing</th>\n",
       "      <th>Cancel_events</th>\n",
       "      <th>Gatherings_restrictions</th>\n",
       "      <th>Transport_closing</th>\n",
       "      <th>Stay_home_restrictions</th>\n",
       "      <th>Internal_movement_restrictions</th>\n",
       "      <th>International_movement_restrictions</th>\n",
       "      <th>Information_campaigns</th>\n",
       "      <th>Testing_policy</th>\n",
       "      <th>Contact_tracing</th>\n",
       "      <th>Stringency_index</th>\n",
       "    </tr>\n",
       "  </thead>\n",
       "  <tbody>\n",
       "    <tr>\n",
       "      <th>381172</th>\n",
       "      <td>2020-12-30</td>\n",
       "      <td>Colombia</td>\n",
       "      <td>COL</td>\n",
       "      <td>3</td>\n",
       "      <td>1</td>\n",
       "      <td>1</td>\n",
       "      <td>3</td>\n",
       "      <td>1</td>\n",
       "      <td>1</td>\n",
       "      <td>1</td>\n",
       "      <td>4</td>\n",
       "      <td>2</td>\n",
       "      <td>2</td>\n",
       "      <td>2</td>\n",
       "      <td>60.19</td>\n",
       "    </tr>\n",
       "    <tr>\n",
       "      <th>381173</th>\n",
       "      <td>2020-12-31</td>\n",
       "      <td>Colombia</td>\n",
       "      <td>COL</td>\n",
       "      <td>3</td>\n",
       "      <td>1</td>\n",
       "      <td>1</td>\n",
       "      <td>3</td>\n",
       "      <td>1</td>\n",
       "      <td>1</td>\n",
       "      <td>1</td>\n",
       "      <td>4</td>\n",
       "      <td>2</td>\n",
       "      <td>2</td>\n",
       "      <td>2</td>\n",
       "      <td>60.19</td>\n",
       "    </tr>\n",
       "    <tr>\n",
       "      <th>381174</th>\n",
       "      <td>2021-01-01</td>\n",
       "      <td>Colombia</td>\n",
       "      <td>COL</td>\n",
       "      <td>3</td>\n",
       "      <td>1</td>\n",
       "      <td>1</td>\n",
       "      <td>3</td>\n",
       "      <td>1</td>\n",
       "      <td>1</td>\n",
       "      <td>1</td>\n",
       "      <td>4</td>\n",
       "      <td>2</td>\n",
       "      <td>2</td>\n",
       "      <td>2</td>\n",
       "      <td>60.19</td>\n",
       "    </tr>\n",
       "    <tr>\n",
       "      <th>381175</th>\n",
       "      <td>2021-01-02</td>\n",
       "      <td>Colombia</td>\n",
       "      <td>COL</td>\n",
       "      <td>3</td>\n",
       "      <td>1</td>\n",
       "      <td>1</td>\n",
       "      <td>3</td>\n",
       "      <td>1</td>\n",
       "      <td>1</td>\n",
       "      <td>1</td>\n",
       "      <td>4</td>\n",
       "      <td>2</td>\n",
       "      <td>2</td>\n",
       "      <td>2</td>\n",
       "      <td>60.19</td>\n",
       "    </tr>\n",
       "    <tr>\n",
       "      <th>381176</th>\n",
       "      <td>2021-01-03</td>\n",
       "      <td>Colombia</td>\n",
       "      <td>COL</td>\n",
       "      <td>3</td>\n",
       "      <td>1</td>\n",
       "      <td>1</td>\n",
       "      <td>3</td>\n",
       "      <td>1</td>\n",
       "      <td>1</td>\n",
       "      <td>1</td>\n",
       "      <td>4</td>\n",
       "      <td>2</td>\n",
       "      <td>2</td>\n",
       "      <td>2</td>\n",
       "      <td>60.19</td>\n",
       "    </tr>\n",
       "  </tbody>\n",
       "</table>\n",
       "</div>"
      ],
      "text/plain": [
       "             Date   Country ISO3  School_closing  Workplace_closing  \\\n",
       "381172 2020-12-30  Colombia  COL               3                  1   \n",
       "381173 2020-12-31  Colombia  COL               3                  1   \n",
       "381174 2021-01-01  Colombia  COL               3                  1   \n",
       "381175 2021-01-02  Colombia  COL               3                  1   \n",
       "381176 2021-01-03  Colombia  COL               3                  1   \n",
       "\n",
       "        Cancel_events  Gatherings_restrictions  Transport_closing  \\\n",
       "381172              1                        3                  1   \n",
       "381173              1                        3                  1   \n",
       "381174              1                        3                  1   \n",
       "381175              1                        3                  1   \n",
       "381176              1                        3                  1   \n",
       "\n",
       "        Stay_home_restrictions  Internal_movement_restrictions  \\\n",
       "381172                       1                               1   \n",
       "381173                       1                               1   \n",
       "381174                       1                               1   \n",
       "381175                       1                               1   \n",
       "381176                       1                               1   \n",
       "\n",
       "        International_movement_restrictions  Information_campaigns  \\\n",
       "381172                                    4                      2   \n",
       "381173                                    4                      2   \n",
       "381174                                    4                      2   \n",
       "381175                                    4                      2   \n",
       "381176                                    4                      2   \n",
       "\n",
       "        Testing_policy  Contact_tracing  Stringency_index  \n",
       "381172               2                2             60.19  \n",
       "381173               2                2             60.19  \n",
       "381174               2                2             60.19  \n",
       "381175               2                2             60.19  \n",
       "381176               2                2             60.19  "
      ]
     },
     "execution_count": 35,
     "metadata": {},
     "output_type": "execute_result"
    }
   ],
   "source": [
    "# Cleaned data\n",
    "oxcgrt_data.cleaned().tail()"
   ]
  },
  {
   "cell_type": "code",
   "execution_count": 36,
   "metadata": {
    "collapsed": false
   },
   "outputs": [
    {
     "data": {
      "text/html": [
       "<div>\n",
       "<style scoped>\n",
       "    .dataframe tbody tr th:only-of-type {\n",
       "        vertical-align: middle;\n",
       "    }\n",
       "\n",
       "    .dataframe tbody tr th {\n",
       "        vertical-align: top;\n",
       "    }\n",
       "\n",
       "    .dataframe thead th {\n",
       "        text-align: right;\n",
       "    }\n",
       "</style>\n",
       "<table border=\"1\" class=\"dataframe\">\n",
       "  <thead>\n",
       "    <tr style=\"text-align: right;\">\n",
       "      <th></th>\n",
       "      <th>Date</th>\n",
       "      <th>School_closing</th>\n",
       "      <th>Workplace_closing</th>\n",
       "      <th>Cancel_events</th>\n",
       "      <th>Gatherings_restrictions</th>\n",
       "      <th>Transport_closing</th>\n",
       "      <th>Stay_home_restrictions</th>\n",
       "      <th>Internal_movement_restrictions</th>\n",
       "      <th>International_movement_restrictions</th>\n",
       "      <th>Information_campaigns</th>\n",
       "      <th>Testing_policy</th>\n",
       "      <th>Contact_tracing</th>\n",
       "      <th>Stringency_index</th>\n",
       "    </tr>\n",
       "  </thead>\n",
       "  <tbody>\n",
       "    <tr>\n",
       "      <th>364</th>\n",
       "      <td>2020-12-30</td>\n",
       "      <td>1</td>\n",
       "      <td>1</td>\n",
       "      <td>1</td>\n",
       "      <td>0</td>\n",
       "      <td>1</td>\n",
       "      <td>1</td>\n",
       "      <td>1</td>\n",
       "      <td>3</td>\n",
       "      <td>2</td>\n",
       "      <td>3</td>\n",
       "      <td>2</td>\n",
       "      <td>53.7</td>\n",
       "    </tr>\n",
       "    <tr>\n",
       "      <th>365</th>\n",
       "      <td>2020-12-31</td>\n",
       "      <td>1</td>\n",
       "      <td>1</td>\n",
       "      <td>1</td>\n",
       "      <td>0</td>\n",
       "      <td>1</td>\n",
       "      <td>1</td>\n",
       "      <td>1</td>\n",
       "      <td>3</td>\n",
       "      <td>2</td>\n",
       "      <td>3</td>\n",
       "      <td>2</td>\n",
       "      <td>53.7</td>\n",
       "    </tr>\n",
       "    <tr>\n",
       "      <th>366</th>\n",
       "      <td>2021-01-01</td>\n",
       "      <td>1</td>\n",
       "      <td>1</td>\n",
       "      <td>1</td>\n",
       "      <td>0</td>\n",
       "      <td>1</td>\n",
       "      <td>1</td>\n",
       "      <td>1</td>\n",
       "      <td>3</td>\n",
       "      <td>2</td>\n",
       "      <td>3</td>\n",
       "      <td>2</td>\n",
       "      <td>53.7</td>\n",
       "    </tr>\n",
       "    <tr>\n",
       "      <th>367</th>\n",
       "      <td>2021-01-02</td>\n",
       "      <td>1</td>\n",
       "      <td>1</td>\n",
       "      <td>1</td>\n",
       "      <td>0</td>\n",
       "      <td>1</td>\n",
       "      <td>1</td>\n",
       "      <td>1</td>\n",
       "      <td>3</td>\n",
       "      <td>2</td>\n",
       "      <td>3</td>\n",
       "      <td>2</td>\n",
       "      <td>53.7</td>\n",
       "    </tr>\n",
       "    <tr>\n",
       "      <th>368</th>\n",
       "      <td>2021-01-03</td>\n",
       "      <td>1</td>\n",
       "      <td>1</td>\n",
       "      <td>1</td>\n",
       "      <td>0</td>\n",
       "      <td>1</td>\n",
       "      <td>1</td>\n",
       "      <td>1</td>\n",
       "      <td>3</td>\n",
       "      <td>2</td>\n",
       "      <td>3</td>\n",
       "      <td>2</td>\n",
       "      <td>53.7</td>\n",
       "    </tr>\n",
       "  </tbody>\n",
       "</table>\n",
       "</div>"
      ],
      "text/plain": [
       "          Date  School_closing  Workplace_closing  Cancel_events  \\\n",
       "364 2020-12-30               1                  1              1   \n",
       "365 2020-12-31               1                  1              1   \n",
       "366 2021-01-01               1                  1              1   \n",
       "367 2021-01-02               1                  1              1   \n",
       "368 2021-01-03               1                  1              1   \n",
       "\n",
       "     Gatherings_restrictions  Transport_closing  Stay_home_restrictions  \\\n",
       "364                        0                  1                       1   \n",
       "365                        0                  1                       1   \n",
       "366                        0                  1                       1   \n",
       "367                        0                  1                       1   \n",
       "368                        0                  1                       1   \n",
       "\n",
       "     Internal_movement_restrictions  International_movement_restrictions  \\\n",
       "364                               1                                    3   \n",
       "365                               1                                    3   \n",
       "366                               1                                    3   \n",
       "367                               1                                    3   \n",
       "368                               1                                    3   \n",
       "\n",
       "     Information_campaigns  Testing_policy  Contact_tracing  Stringency_index  \n",
       "364                      2               3                2              53.7  \n",
       "365                      2               3                2              53.7  \n",
       "366                      2               3                2              53.7  \n",
       "367                      2               3                2              53.7  \n",
       "368                      2               3                2              53.7  "
      ]
     },
     "execution_count": 36,
     "metadata": {},
     "output_type": "execute_result"
    }
   ],
   "source": [
    "# Subset for a country\n",
    "oxcgrt_data.subset(\"Japan\").tail()\n",
    "# We can use ISO3 codes\n",
    "# oxcgrt_data.subset(\"JPN\").tail()"
   ]
  },
  {
   "cell_type": "markdown",
   "metadata": {},
   "source": [
    "### The number of tests\n",
    "The number of tests is also key information to understand the situation.\n",
    "This dataset was saved as `pcr_data`, an instance of `PCRData` class."
   ]
  },
  {
   "cell_type": "code",
   "execution_count": 37,
   "metadata": {
    "collapsed": false
   },
   "outputs": [
    {
     "data": {
      "text/plain": [
       "covsirphy.cleaning.pcr_data.PCRData"
      ]
     },
     "execution_count": 37,
     "metadata": {},
     "output_type": "execute_result"
    }
   ],
   "source": [
    "type(pcr_data)"
   ]
  },
  {
   "cell_type": "code",
   "execution_count": 38,
   "metadata": {
    "collapsed": false
   },
   "outputs": [
    {
     "name": "stdout",
     "output_type": "stream",
     "text": [
      "(Secondary source) Guidotti, E., Ardia, D., (2020), \"COVID-19 Data Hub\", Journal of Open Source Software 5(51):2376, doi: 10.21105/joss.02376.\n",
      "Hasell, J., Mathieu, E., Beltekian, D. et al. A cross-country database of COVID-19 testing. Sci Data 7, 345 (2020). https://doi.org/10.1038/s41597-020-00688-8\n",
      "Lisphilar (2020), COVID-19 dataset in Japan, GitHub repository, https://github.com/lisphilar/covid19-sir/data/japan\n"
     ]
    }
   ],
   "source": [
    "# Description/citation\n",
    "print(pcr_data.citation)"
   ]
  },
  {
   "cell_type": "code",
   "execution_count": 39,
   "metadata": {
    "collapsed": false
   },
   "outputs": [],
   "source": [
    "# Raw data (the same as jhu_data)\n",
    "# pcr_data.raw.tail()"
   ]
  },
  {
   "cell_type": "code",
   "execution_count": 40,
   "metadata": {
    "collapsed": false
   },
   "outputs": [
    {
     "data": {
      "text/html": [
       "<div>\n",
       "<style scoped>\n",
       "    .dataframe tbody tr th:only-of-type {\n",
       "        vertical-align: middle;\n",
       "    }\n",
       "\n",
       "    .dataframe tbody tr th {\n",
       "        vertical-align: top;\n",
       "    }\n",
       "\n",
       "    .dataframe thead th {\n",
       "        text-align: right;\n",
       "    }\n",
       "</style>\n",
       "<table border=\"1\" class=\"dataframe\">\n",
       "  <thead>\n",
       "    <tr style=\"text-align: right;\">\n",
       "      <th></th>\n",
       "      <th>Date</th>\n",
       "      <th>Country</th>\n",
       "      <th>Province</th>\n",
       "      <th>Tests</th>\n",
       "      <th>Confirmed</th>\n",
       "    </tr>\n",
       "  </thead>\n",
       "  <tbody>\n",
       "    <tr>\n",
       "      <th>14338</th>\n",
       "      <td>2020-12-30</td>\n",
       "      <td>Japan</td>\n",
       "      <td>-</td>\n",
       "      <td>4829069</td>\n",
       "      <td>226596</td>\n",
       "    </tr>\n",
       "    <tr>\n",
       "      <th>14339</th>\n",
       "      <td>2020-12-31</td>\n",
       "      <td>Japan</td>\n",
       "      <td>-</td>\n",
       "      <td>4851937</td>\n",
       "      <td>230304</td>\n",
       "    </tr>\n",
       "    <tr>\n",
       "      <th>14340</th>\n",
       "      <td>2021-01-01</td>\n",
       "      <td>Japan</td>\n",
       "      <td>-</td>\n",
       "      <td>4893318</td>\n",
       "      <td>234395</td>\n",
       "    </tr>\n",
       "    <tr>\n",
       "      <th>14341</th>\n",
       "      <td>2021-01-02</td>\n",
       "      <td>Japan</td>\n",
       "      <td>-</td>\n",
       "      <td>4919897</td>\n",
       "      <td>238012</td>\n",
       "    </tr>\n",
       "    <tr>\n",
       "      <th>14342</th>\n",
       "      <td>2021-01-03</td>\n",
       "      <td>Japan</td>\n",
       "      <td>-</td>\n",
       "      <td>4930035</td>\n",
       "      <td>240954</td>\n",
       "    </tr>\n",
       "  </tbody>\n",
       "</table>\n",
       "</div>"
      ],
      "text/plain": [
       "            Date Country Province    Tests  Confirmed\n",
       "14338 2020-12-30   Japan        -  4829069     226596\n",
       "14339 2020-12-31   Japan        -  4851937     230304\n",
       "14340 2021-01-01   Japan        -  4893318     234395\n",
       "14341 2021-01-02   Japan        -  4919897     238012\n",
       "14342 2021-01-03   Japan        -  4930035     240954"
      ]
     },
     "execution_count": 40,
     "metadata": {},
     "output_type": "execute_result"
    }
   ],
   "source": [
    "# Cleaned data\n",
    "pcr_data.cleaned().tail()"
   ]
  },
  {
   "cell_type": "code",
   "execution_count": 41,
   "metadata": {
    "collapsed": false
   },
   "outputs": [
    {
     "data": {
      "text/html": [
       "<div>\n",
       "<style scoped>\n",
       "    .dataframe tbody tr th:only-of-type {\n",
       "        vertical-align: middle;\n",
       "    }\n",
       "\n",
       "    .dataframe tbody tr th {\n",
       "        vertical-align: top;\n",
       "    }\n",
       "\n",
       "    .dataframe thead th {\n",
       "        text-align: right;\n",
       "    }\n",
       "</style>\n",
       "<table border=\"1\" class=\"dataframe\">\n",
       "  <thead>\n",
       "    <tr style=\"text-align: right;\">\n",
       "      <th></th>\n",
       "      <th>Date</th>\n",
       "      <th>Tests</th>\n",
       "      <th>Confirmed</th>\n",
       "    </tr>\n",
       "  </thead>\n",
       "  <tbody>\n",
       "  </tbody>\n",
       "</table>\n",
       "</div>"
      ],
      "text/plain": [
       "Empty DataFrame\n",
       "Columns: [Date, Tests, Confirmed]\n",
       "Index: []"
      ]
     },
     "execution_count": 41,
     "metadata": {},
     "output_type": "execute_result"
    }
   ],
   "source": [
    "# Subset for a country\n",
    "pcr_data.subset(\"Japan\").tail()\n",
    "# We can use ISO3 codes\n",
    "# pcr_data.subset(\"JPN\").tail()"
   ]
  },
  {
   "cell_type": "markdown",
   "metadata": {},
   "source": [
    "Under the assumption that all tests were PCR test, we can calculate the positive rate of PCR tests as \"the number of confirmed cases per the number of tests\"."
   ]
  },
  {
   "cell_type": "code",
   "execution_count": 42,
   "metadata": {
    "collapsed": false
   },
   "outputs": [
    {
     "data": {
      "image/png": "[encoded data removed]",
      "text/plain": [
       "<Figure size 648x432 with 1 Axes>"
      ]
     },
     "metadata": {},
     "output_type": "display_data"
    }
   ],
   "source": [
    "# Positive rate in Japan\n",
    "_ = pcr_data.positive_rate(\"Japan\")"
   ]
  },
  {
   "cell_type": "markdown",
   "metadata": {},
   "source": [
    "### The number of vaccinations\n",
    "The number of vaccinations is a key factor to end the outbreak as soon as possible. This dataset was saved as `vaccine_data`, an instance of `VaccineData` class."
   ]
  },
  {
   "cell_type": "code",
   "execution_count": 43,
   "metadata": {
    "collapsed": false
   },
   "outputs": [
    {
     "data": {
      "text/plain": [
       "covsirphy.cleaning.vaccine_data.VaccineData"
      ]
     },
     "execution_count": 43,
     "metadata": {},
     "output_type": "execute_result"
    }
   ],
   "source": [
    "# The number of vaccinations\n",
    "type(vaccine_data)"
   ]
  },
  {
   "cell_type": "code",
   "execution_count": 44,
   "metadata": {
    "collapsed": false
   },
   "outputs": [
    {
     "name": "stdout",
     "output_type": "stream",
     "text": [
      "Hasell, J., Mathieu, E., Beltekian, D. et al. A cross-country database of COVID-19 testing. Sci Data 7, 345 (2020). https://doi.org/10.1038/s41597-020-00688-8\n"
     ]
    }
   ],
   "source": [
    "# Description/citation\n",
    "print(vaccine_data.citation)"
   ]
  },
  {
   "cell_type": "code",
   "execution_count": 45,
   "metadata": {
    "collapsed": false
   },
   "outputs": [],
   "source": [
    "# Raw data\n",
    "# vaccine_data.raw.tail()"
   ]
  },
  {
   "cell_type": "code",
   "execution_count": 46,
   "metadata": {
    "collapsed": false
   },
   "outputs": [
    {
     "data": {
      "text/html": [
       "<div>\n",
       "<style scoped>\n",
       "    .dataframe tbody tr th:only-of-type {\n",
       "        vertical-align: middle;\n",
       "    }\n",
       "\n",
       "    .dataframe tbody tr th {\n",
       "        vertical-align: top;\n",
       "    }\n",
       "\n",
       "    .dataframe thead th {\n",
       "        text-align: right;\n",
       "    }\n",
       "</style>\n",
       "<table border=\"1\" class=\"dataframe\">\n",
       "  <thead>\n",
       "    <tr style=\"text-align: right;\">\n",
       "      <th></th>\n",
       "      <th>Date</th>\n",
       "      <th>Country</th>\n",
       "      <th>Product</th>\n",
       "      <th>Vaccinations</th>\n",
       "    </tr>\n",
       "  </thead>\n",
       "  <tbody>\n",
       "    <tr>\n",
       "      <th>234</th>\n",
       "      <td>2020-12-23</td>\n",
       "      <td>Wales</td>\n",
       "      <td>Pfizer/BioNTech</td>\n",
       "      <td>23280</td>\n",
       "    </tr>\n",
       "    <tr>\n",
       "      <th>235</th>\n",
       "      <td>2020-12-24</td>\n",
       "      <td>Wales</td>\n",
       "      <td>Pfizer/BioNTech</td>\n",
       "      <td>23280</td>\n",
       "    </tr>\n",
       "    <tr>\n",
       "      <th>236</th>\n",
       "      <td>2020-12-25</td>\n",
       "      <td>Wales</td>\n",
       "      <td>Pfizer/BioNTech</td>\n",
       "      <td>23280</td>\n",
       "    </tr>\n",
       "    <tr>\n",
       "      <th>237</th>\n",
       "      <td>2020-12-26</td>\n",
       "      <td>Wales</td>\n",
       "      <td>Pfizer/BioNTech</td>\n",
       "      <td>23280</td>\n",
       "    </tr>\n",
       "    <tr>\n",
       "      <th>238</th>\n",
       "      <td>2020-12-27</td>\n",
       "      <td>Wales</td>\n",
       "      <td>Pfizer/BioNTech</td>\n",
       "      <td>35335</td>\n",
       "    </tr>\n",
       "  </tbody>\n",
       "</table>\n",
       "</div>"
      ],
      "text/plain": [
       "          Date Country          Product  Vaccinations\n",
       "234 2020-12-23   Wales  Pfizer/BioNTech         23280\n",
       "235 2020-12-24   Wales  Pfizer/BioNTech         23280\n",
       "236 2020-12-25   Wales  Pfizer/BioNTech         23280\n",
       "237 2020-12-26   Wales  Pfizer/BioNTech         23280\n",
       "238 2020-12-27   Wales  Pfizer/BioNTech         35335"
      ]
     },
     "execution_count": 46,
     "metadata": {},
     "output_type": "execute_result"
    }
   ],
   "source": [
    "# Cleaned data\n",
    "vaccine_data.cleaned().tail()"
   ]
  },
  {
   "cell_type": "code",
   "execution_count": 47,
   "metadata": {
    "collapsed": false
   },
   "outputs": [
    {
     "data": {
      "text/plain": [
       "['Argentina',\n",
       " 'Austria',\n",
       " 'Bahrain',\n",
       " 'Bulgaria',\n",
       " 'Canada',\n",
       " 'Chile',\n",
       " 'China',\n",
       " 'Costa Rica',\n",
       " 'Croatia',\n",
       " 'Denmark',\n",
       " 'England',\n",
       " 'Estonia',\n",
       " 'Finland',\n",
       " 'France',\n",
       " 'Germany',\n",
       " 'Greece',\n",
       " 'Hungary',\n",
       " 'Iceland',\n",
       " 'Ireland',\n",
       " 'Israel',\n",
       " 'Italy',\n",
       " 'Kuwait',\n",
       " 'Latvia',\n",
       " 'Lithuania',\n",
       " 'Luxembourg',\n",
       " 'Mexico',\n",
       " 'Northern Ireland',\n",
       " 'Oman',\n",
       " 'Poland',\n",
       " 'Portugal',\n",
       " 'Romania',\n",
       " 'Russia',\n",
       " 'Scotland',\n",
       " 'United Kingdom',\n",
       " 'United States',\n",
       " 'Wales']"
      ]
     },
     "execution_count": 47,
     "metadata": {},
     "output_type": "execute_result"
    }
   ],
   "source": [
    "# Registered countries\n",
    "vaccine_data.countries()"
   ]
  },
  {
   "cell_type": "code",
   "execution_count": 48,
   "metadata": {
    "collapsed": false
   },
   "outputs": [
    {
     "data": {
      "text/html": [
       "<div>\n",
       "<style scoped>\n",
       "    .dataframe tbody tr th:only-of-type {\n",
       "        vertical-align: middle;\n",
       "    }\n",
       "\n",
       "    .dataframe tbody tr th {\n",
       "        vertical-align: top;\n",
       "    }\n",
       "\n",
       "    .dataframe thead th {\n",
       "        text-align: right;\n",
       "    }\n",
       "</style>\n",
       "<table border=\"1\" class=\"dataframe\">\n",
       "  <thead>\n",
       "    <tr style=\"text-align: right;\">\n",
       "      <th></th>\n",
       "      <th>Date</th>\n",
       "      <th>Vaccinations</th>\n",
       "    </tr>\n",
       "  </thead>\n",
       "  <tbody>\n",
       "    <tr>\n",
       "      <th>3</th>\n",
       "      <td>2020-12-23</td>\n",
       "      <td>641116</td>\n",
       "    </tr>\n",
       "    <tr>\n",
       "      <th>4</th>\n",
       "      <td>2020-12-24</td>\n",
       "      <td>641116</td>\n",
       "    </tr>\n",
       "    <tr>\n",
       "      <th>5</th>\n",
       "      <td>2020-12-25</td>\n",
       "      <td>641116</td>\n",
       "    </tr>\n",
       "    <tr>\n",
       "      <th>6</th>\n",
       "      <td>2020-12-26</td>\n",
       "      <td>641116</td>\n",
       "    </tr>\n",
       "    <tr>\n",
       "      <th>7</th>\n",
       "      <td>2020-12-27</td>\n",
       "      <td>944539</td>\n",
       "    </tr>\n",
       "  </tbody>\n",
       "</table>\n",
       "</div>"
      ],
      "text/plain": [
       "        Date  Vaccinations\n",
       "3 2020-12-23        641116\n",
       "4 2020-12-24        641116\n",
       "5 2020-12-25        641116\n",
       "6 2020-12-26        641116\n",
       "7 2020-12-27        944539"
      ]
     },
     "execution_count": 48,
     "metadata": {},
     "output_type": "execute_result"
    }
   ],
   "source": [
    "# Subset for a country\n",
    "vaccine_data.subset(\"United Kingdom\").tail()\n",
    "# We can use ISO3 codes\n",
    "# pcr_data.subset(\"GBR\").tail()"
   ]
  },
  {
   "cell_type": "markdown",
   "metadata": {},
   "source": [
    "### Population pyramid\n",
    "With population pyramid, we can divide the population to sub-groups. This will be useful when we analyse the meaning of parameters. For example, how many days go out is different between the sub-groups.\n",
    "This dataset was saved as `pyramid_data`, an instance of `PopulationPyramidData` class."
   ]
  },
  {
   "cell_type": "code",
   "execution_count": 49,
   "metadata": {
    "collapsed": false
   },
   "outputs": [
    {
     "data": {
      "text/plain": [
       "covsirphy.cleaning.pyramid.PopulationPyramidData"
      ]
     },
     "execution_count": 49,
     "metadata": {},
     "output_type": "execute_result"
    }
   ],
   "source": [
    "# Population pyramid\n",
    "type(pyramid_data)"
   ]
  },
  {
   "cell_type": "code",
   "execution_count": 50,
   "metadata": {
    "collapsed": false
   },
   "outputs": [
    {
     "name": "stdout",
     "output_type": "stream",
     "text": [
      "World Bank Group (2020), World Bank Open Data, https://data.worldbank.org/\n"
     ]
    }
   ],
   "source": [
    "# Description/citation\n",
    "print(pyramid_data.citation)"
   ]
  },
  {
   "cell_type": "code",
   "execution_count": 51,
   "metadata": {
    "collapsed": false
   },
   "outputs": [
    {
     "name": "stdout",
     "output_type": "stream",
     "text": [
      "Retrieving population pyramid dataset (Japan) from https://data.worldbank.org/\n"
     ]
    },
    {
     "data": {
      "text/html": [
       "<div>\n",
       "<style scoped>\n",
       "    .dataframe tbody tr th:only-of-type {\n",
       "        vertical-align: middle;\n",
       "    }\n",
       "\n",
       "    .dataframe tbody tr th {\n",
       "        vertical-align: top;\n",
       "    }\n",
       "\n",
       "    .dataframe thead th {\n",
       "        text-align: right;\n",
       "    }\n",
       "</style>\n",
       "<table border=\"1\" class=\"dataframe\">\n",
       "  <thead>\n",
       "    <tr style=\"text-align: right;\">\n",
       "      <th></th>\n",
       "      <th>Age</th>\n",
       "      <th>Population</th>\n",
       "      <th>Per_total</th>\n",
       "    </tr>\n",
       "  </thead>\n",
       "  <tbody>\n",
       "    <tr>\n",
       "      <th>113</th>\n",
       "      <td>118</td>\n",
       "      <td>255035</td>\n",
       "      <td>0.002174</td>\n",
       "    </tr>\n",
       "    <tr>\n",
       "      <th>114</th>\n",
       "      <td>119</td>\n",
       "      <td>255035</td>\n",
       "      <td>0.002174</td>\n",
       "    </tr>\n",
       "    <tr>\n",
       "      <th>115</th>\n",
       "      <td>120</td>\n",
       "      <td>255035</td>\n",
       "      <td>0.002174</td>\n",
       "    </tr>\n",
       "    <tr>\n",
       "      <th>116</th>\n",
       "      <td>121</td>\n",
       "      <td>255035</td>\n",
       "      <td>0.002174</td>\n",
       "    </tr>\n",
       "    <tr>\n",
       "      <th>117</th>\n",
       "      <td>122</td>\n",
       "      <td>255035</td>\n",
       "      <td>0.002174</td>\n",
       "    </tr>\n",
       "  </tbody>\n",
       "</table>\n",
       "</div>"
      ],
      "text/plain": [
       "     Age  Population  Per_total\n",
       "113  118      255035   0.002174\n",
       "114  119      255035   0.002174\n",
       "115  120      255035   0.002174\n",
       "116  121      255035   0.002174\n",
       "117  122      255035   0.002174"
      ]
     },
     "execution_count": 51,
     "metadata": {},
     "output_type": "execute_result"
    }
   ],
   "source": [
    "# Subset will retrieved from the server when set\n",
    "pyramid_data.subset(\"Japan\").tail()"
   ]
  },
  {
   "cell_type": "markdown",
   "metadata": {},
   "source": [
    "### Japan-specific dataset\n",
    "This includes the number of confirmed/infected/fatal/recovered/tests/moderate/severe cases at country/prefecture level and metadata of each prefecture.\n",
    "This dataset was saved as `japan_data`, an instance of `JapanData` class."
   ]
  },
  {
   "cell_type": "code",
   "execution_count": 52,
   "metadata": {
    "collapsed": false
   },
   "outputs": [
    {
     "data": {
      "text/plain": [
       "covsirphy.cleaning.japan_data.JapanData"
      ]
     },
     "execution_count": 52,
     "metadata": {},
     "output_type": "execute_result"
    }
   ],
   "source": [
    "# Japan-specific dataset\n",
    "type(japan_data)"
   ]
  },
  {
   "cell_type": "code",
   "execution_count": 53,
   "metadata": {
    "collapsed": false
   },
   "outputs": [
    {
     "name": "stdout",
     "output_type": "stream",
     "text": [
      "Lisphilar (2020), COVID-19 dataset in Japan, GitHub repository, https://github.com/lisphilar/covid19-sir/data/japan\n"
     ]
    }
   ],
   "source": [
    "# Description/citation\n",
    "print(japan_data.citation)"
   ]
  },
  {
   "cell_type": "code",
   "execution_count": 54,
   "metadata": {
    "collapsed": false
   },
   "outputs": [
    {
     "data": {
      "text/html": [
       "<div>\n",
       "<style scoped>\n",
       "    .dataframe tbody tr th:only-of-type {\n",
       "        vertical-align: middle;\n",
       "    }\n",
       "\n",
       "    .dataframe tbody tr th {\n",
       "        vertical-align: top;\n",
       "    }\n",
       "\n",
       "    .dataframe thead th {\n",
       "        text-align: right;\n",
       "    }\n",
       "</style>\n",
       "<table border=\"1\" class=\"dataframe\">\n",
       "  <thead>\n",
       "    <tr style=\"text-align: right;\">\n",
       "      <th></th>\n",
       "      <th>Date</th>\n",
       "      <th>Country</th>\n",
       "      <th>Province</th>\n",
       "      <th>Confirmed</th>\n",
       "      <th>Infected</th>\n",
       "      <th>Fatal</th>\n",
       "      <th>Recovered</th>\n",
       "      <th>Tests</th>\n",
       "      <th>Moderate</th>\n",
       "      <th>Severe</th>\n",
       "    </tr>\n",
       "  </thead>\n",
       "  <tbody>\n",
       "    <tr>\n",
       "      <th>14338</th>\n",
       "      <td>2020-12-30</td>\n",
       "      <td>Japan</td>\n",
       "      <td>-</td>\n",
       "      <td>226596</td>\n",
       "      <td>33781</td>\n",
       "      <td>3349</td>\n",
       "      <td>189466</td>\n",
       "      <td>4829069</td>\n",
       "      <td>31961</td>\n",
       "      <td>668</td>\n",
       "    </tr>\n",
       "    <tr>\n",
       "      <th>14339</th>\n",
       "      <td>2020-12-31</td>\n",
       "      <td>Japan</td>\n",
       "      <td>-</td>\n",
       "      <td>230304</td>\n",
       "      <td>35439</td>\n",
       "      <td>3414</td>\n",
       "      <td>191451</td>\n",
       "      <td>4851937</td>\n",
       "      <td>33485</td>\n",
       "      <td>681</td>\n",
       "    </tr>\n",
       "    <tr>\n",
       "      <th>14340</th>\n",
       "      <td>2021-01-01</td>\n",
       "      <td>Japan</td>\n",
       "      <td>-</td>\n",
       "      <td>234395</td>\n",
       "      <td>37221</td>\n",
       "      <td>3460</td>\n",
       "      <td>193714</td>\n",
       "      <td>4893318</td>\n",
       "      <td>35470</td>\n",
       "      <td>716</td>\n",
       "    </tr>\n",
       "    <tr>\n",
       "      <th>14341</th>\n",
       "      <td>2021-01-02</td>\n",
       "      <td>Japan</td>\n",
       "      <td>-</td>\n",
       "      <td>238012</td>\n",
       "      <td>38078</td>\n",
       "      <td>3514</td>\n",
       "      <td>196420</td>\n",
       "      <td>4919897</td>\n",
       "      <td>36613</td>\n",
       "      <td>711</td>\n",
       "    </tr>\n",
       "    <tr>\n",
       "      <th>14342</th>\n",
       "      <td>2021-01-03</td>\n",
       "      <td>Japan</td>\n",
       "      <td>-</td>\n",
       "      <td>240954</td>\n",
       "      <td>38920</td>\n",
       "      <td>3548</td>\n",
       "      <td>198486</td>\n",
       "      <td>4930035</td>\n",
       "      <td>37445</td>\n",
       "      <td>714</td>\n",
       "    </tr>\n",
       "  </tbody>\n",
       "</table>\n",
       "</div>"
      ],
      "text/plain": [
       "            Date Country Province  Confirmed  Infected  Fatal  Recovered  \\\n",
       "14338 2020-12-30   Japan        -     226596     33781   3349     189466   \n",
       "14339 2020-12-31   Japan        -     230304     35439   3414     191451   \n",
       "14340 2021-01-01   Japan        -     234395     37221   3460     193714   \n",
       "14341 2021-01-02   Japan        -     238012     38078   3514     196420   \n",
       "14342 2021-01-03   Japan        -     240954     38920   3548     198486   \n",
       "\n",
       "         Tests  Moderate  Severe  \n",
       "14338  4829069     31961     668  \n",
       "14339  4851937     33485     681  \n",
       "14340  4893318     35470     716  \n",
       "14341  4919897     36613     711  \n",
       "14342  4930035     37445     714  "
      ]
     },
     "execution_count": 54,
     "metadata": {},
     "output_type": "execute_result"
    }
   ],
   "source": [
    "# Cleaned dataset\n",
    "japan_data.cleaned().tail()"
   ]
  },
  {
   "cell_type": "code",
   "execution_count": 55,
   "metadata": {
    "collapsed": false
   },
   "outputs": [
    {
     "name": "stdout",
     "output_type": "stream",
     "text": [
      "Retrieving Metadata of Japan dataset from https://github.com/lisphilar/covid19-sir/data/japan\n"
     ]
    },
    {
     "data": {
      "text/html": [
       "<div>\n",
       "<style scoped>\n",
       "    .dataframe tbody tr th:only-of-type {\n",
       "        vertical-align: middle;\n",
       "    }\n",
       "\n",
       "    .dataframe tbody tr th {\n",
       "        vertical-align: top;\n",
       "    }\n",
       "\n",
       "    .dataframe thead th {\n",
       "        text-align: right;\n",
       "    }\n",
       "</style>\n",
       "<table border=\"1\" class=\"dataframe\">\n",
       "  <thead>\n",
       "    <tr style=\"text-align: right;\">\n",
       "      <th></th>\n",
       "      <th>Prefecture</th>\n",
       "      <th>Admin_Capital</th>\n",
       "      <th>Admin_Region</th>\n",
       "      <th>Admin_Num</th>\n",
       "      <th>Area_Habitable</th>\n",
       "      <th>Area_Total</th>\n",
       "      <th>Clinic_bed_Care</th>\n",
       "      <th>Clinic_bed_Total</th>\n",
       "      <th>Hospital_bed_Care</th>\n",
       "      <th>Hospital_bed_Specific</th>\n",
       "      <th>Hospital_bed_Total</th>\n",
       "      <th>Hospital_bed_Tuberculosis</th>\n",
       "      <th>Hospital_bed_Type-I</th>\n",
       "      <th>Hospital_bed_Type-II</th>\n",
       "      <th>Population_Female</th>\n",
       "      <th>Population_Male</th>\n",
       "      <th>Population_Total</th>\n",
       "      <th>Location_Latitude</th>\n",
       "      <th>Location_Longitude</th>\n",
       "    </tr>\n",
       "  </thead>\n",
       "  <tbody>\n",
       "    <tr>\n",
       "      <th>42</th>\n",
       "      <td>Kumamoto</td>\n",
       "      <td>Kumamoto</td>\n",
       "      <td>Kyushu</td>\n",
       "      <td>43</td>\n",
       "      <td>2796</td>\n",
       "      <td>7409</td>\n",
       "      <td>497</td>\n",
       "      <td>4628</td>\n",
       "      <td>8340</td>\n",
       "      <td>0</td>\n",
       "      <td>33710</td>\n",
       "      <td>95</td>\n",
       "      <td>2</td>\n",
       "      <td>46</td>\n",
       "      <td>933</td>\n",
       "      <td>833</td>\n",
       "      <td>1765</td>\n",
       "      <td>32.790513</td>\n",
       "      <td>130.742388</td>\n",
       "    </tr>\n",
       "    <tr>\n",
       "      <th>43</th>\n",
       "      <td>Oita</td>\n",
       "      <td>Oita</td>\n",
       "      <td>Kyushu</td>\n",
       "      <td>44</td>\n",
       "      <td>1799</td>\n",
       "      <td>6341</td>\n",
       "      <td>269</td>\n",
       "      <td>3561</td>\n",
       "      <td>2618</td>\n",
       "      <td>0</td>\n",
       "      <td>19834</td>\n",
       "      <td>50</td>\n",
       "      <td>2</td>\n",
       "      <td>38</td>\n",
       "      <td>607</td>\n",
       "      <td>546</td>\n",
       "      <td>1152</td>\n",
       "      <td>33.238391</td>\n",
       "      <td>131.612658</td>\n",
       "    </tr>\n",
       "    <tr>\n",
       "      <th>44</th>\n",
       "      <td>Miyazaki</td>\n",
       "      <td>Miyazaki</td>\n",
       "      <td>Kyushu</td>\n",
       "      <td>45</td>\n",
       "      <td>1850</td>\n",
       "      <td>7735</td>\n",
       "      <td>206</td>\n",
       "      <td>2357</td>\n",
       "      <td>3682</td>\n",
       "      <td>0</td>\n",
       "      <td>18769</td>\n",
       "      <td>33</td>\n",
       "      <td>1</td>\n",
       "      <td>30</td>\n",
       "      <td>577</td>\n",
       "      <td>512</td>\n",
       "      <td>1089</td>\n",
       "      <td>31.911188</td>\n",
       "      <td>131.423873</td>\n",
       "    </tr>\n",
       "    <tr>\n",
       "      <th>45</th>\n",
       "      <td>Kagoshima</td>\n",
       "      <td>Kagoshima</td>\n",
       "      <td>Kyushu</td>\n",
       "      <td>46</td>\n",
       "      <td>3313</td>\n",
       "      <td>9187</td>\n",
       "      <td>652</td>\n",
       "      <td>4827</td>\n",
       "      <td>7750</td>\n",
       "      <td>0</td>\n",
       "      <td>32651</td>\n",
       "      <td>98</td>\n",
       "      <td>1</td>\n",
       "      <td>44</td>\n",
       "      <td>863</td>\n",
       "      <td>763</td>\n",
       "      <td>1626</td>\n",
       "      <td>31.560052</td>\n",
       "      <td>130.557745</td>\n",
       "    </tr>\n",
       "    <tr>\n",
       "      <th>46</th>\n",
       "      <td>Okinawa</td>\n",
       "      <td>Naha</td>\n",
       "      <td>Okinawa</td>\n",
       "      <td>47</td>\n",
       "      <td>1169</td>\n",
       "      <td>2281</td>\n",
       "      <td>83</td>\n",
       "      <td>914</td>\n",
       "      <td>3804</td>\n",
       "      <td>0</td>\n",
       "      <td>18710</td>\n",
       "      <td>47</td>\n",
       "      <td>4</td>\n",
       "      <td>20</td>\n",
       "      <td>734</td>\n",
       "      <td>709</td>\n",
       "      <td>1443</td>\n",
       "      <td>26.211761</td>\n",
       "      <td>127.681119</td>\n",
       "    </tr>\n",
       "  </tbody>\n",
       "</table>\n",
       "</div>"
      ],
      "text/plain": [
       "   Prefecture Admin_Capital Admin_Region  Admin_Num  Area_Habitable  \\\n",
       "42   Kumamoto      Kumamoto       Kyushu         43            2796   \n",
       "43       Oita          Oita       Kyushu         44            1799   \n",
       "44   Miyazaki      Miyazaki       Kyushu         45            1850   \n",
       "45  Kagoshima     Kagoshima       Kyushu         46            3313   \n",
       "46    Okinawa          Naha      Okinawa         47            1169   \n",
       "\n",
       "    Area_Total  Clinic_bed_Care  Clinic_bed_Total  Hospital_bed_Care  \\\n",
       "42        7409              497              4628               8340   \n",
       "43        6341              269              3561               2618   \n",
       "44        7735              206              2357               3682   \n",
       "45        9187              652              4827               7750   \n",
       "46        2281               83               914               3804   \n",
       "\n",
       "    Hospital_bed_Specific  Hospital_bed_Total  Hospital_bed_Tuberculosis  \\\n",
       "42                      0               33710                         95   \n",
       "43                      0               19834                         50   \n",
       "44                      0               18769                         33   \n",
       "45                      0               32651                         98   \n",
       "46                      0               18710                         47   \n",
       "\n",
       "    Hospital_bed_Type-I  Hospital_bed_Type-II  Population_Female  \\\n",
       "42                    2                    46                933   \n",
       "43                    2                    38                607   \n",
       "44                    1                    30                577   \n",
       "45                    1                    44                863   \n",
       "46                    4                    20                734   \n",
       "\n",
       "    Population_Male  Population_Total  Location_Latitude  Location_Longitude  \n",
       "42              833              1765          32.790513          130.742388  \n",
       "43              546              1152          33.238391          131.612658  \n",
       "44              512              1089          31.911188          131.423873  \n",
       "45              763              1626          31.560052          130.557745  \n",
       "46              709              1443          26.211761          127.681119  "
      ]
     },
     "execution_count": 55,
     "metadata": {},
     "output_type": "execute_result"
    }
   ],
   "source": [
    "# Metadata\n",
    "japan_data.meta().tail()"
   ]
  }
 ],
 "metadata": {
  "kernelspec": {
   "display_name": "Python 3.8.5 64-bit ('covid19-sir': pipenv)",
   "metadata": {
    "interpreter": {
     "hash": "aa53c8c6e6798222a2084c11cc25017700a8d3ad495b587e3a634f357767115f"
    }
   },
   "name": "python3"
  },
  "language_info": {
   "codemirror_mode": {
    "name": "ipython",
    "version": 3
   },
   "file_extension": ".py",
   "mimetype": "text/x-python",
   "name": "python",
   "nbconvert_exporter": "python",
   "pygments_lexer": "ipython3",
   "version": "3.8.5-final"
  }
 },
 "nbformat": 4,
 "nbformat_minor": 4
}
