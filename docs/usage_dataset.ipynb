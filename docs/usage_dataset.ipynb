{
 "cells": [
  {
   "cell_type": "markdown",
   "id": "stretch-commercial",
   "metadata": {},
   "source": [
    "# Usage: datasets\n",
    "Here, we will review the raw/cleaned datasets. `Scenario` class performs data cleaning internally using `JHUData` class and so on, but it is important to review the features and data types before analysing them."
   ]
  },
  {
   "cell_type": "markdown",
   "id": "overhead-recipient",
   "metadata": {},
   "source": [
    "### Preparation\n",
    "Prepare the packages."
   ]
  },
  {
   "cell_type": "code",
   "execution_count": 1,
   "id": "protective-classic",
   "metadata": {
    "collapsed": false,
    "execution": {
     "iopub.execute_input": "2021-02-20T16:27:34.602561Z",
     "iopub.status.busy": "2021-02-20T16:27:34.601251Z",
     "iopub.status.idle": "2021-02-20T16:27:34.606712Z",
     "shell.execute_reply": "2021-02-20T16:27:34.605961Z"
    }
   },
   "outputs": [],
   "source": [
    "# Standard users\n",
    "# !pip install covsirphy"
   ]
  },
  {
   "cell_type": "code",
   "execution_count": 2,
   "id": "danish-sport",
   "metadata": {
    "collapsed": false,
    "execution": {
     "iopub.execute_input": "2021-02-20T16:27:34.616876Z",
     "iopub.status.busy": "2021-02-20T16:27:34.615654Z",
     "iopub.status.idle": "2021-02-20T16:27:34.619792Z",
     "shell.execute_reply": "2021-02-20T16:27:34.618568Z"
    }
   },
   "outputs": [],
   "source": [
    "# Developers (Note: this notebook is in example directory)\n",
    "import os\n",
    "os.chdir(\"../\")"
   ]
  },
  {
   "cell_type": "code",
   "execution_count": 3,
   "id": "stopped-contrast",
   "metadata": {
    "collapsed": false,
    "execution": {
     "iopub.execute_input": "2021-02-20T16:27:34.624486Z",
     "iopub.status.busy": "2021-02-20T16:27:34.623845Z",
     "iopub.status.idle": "2021-02-20T16:27:34.626291Z",
     "shell.execute_reply": "2021-02-20T16:27:34.626966Z"
    }
   },
   "outputs": [],
   "source": [
    "from pprint import pprint"
   ]
  },
  {
   "cell_type": "code",
   "execution_count": 4,
   "id": "amber-refrigerator",
   "metadata": {
    "collapsed": false,
    "execution": {
     "iopub.execute_input": "2021-02-20T16:27:34.632953Z",
     "iopub.status.busy": "2021-02-20T16:27:34.632056Z",
     "iopub.status.idle": "2021-02-20T16:27:38.090342Z",
     "shell.execute_reply": "2021-02-20T16:27:38.090885Z"
    },
    "tags": []
   },
   "outputs": [
    {
     "data": {
      "text/plain": [
       "'2.16.2-gamma'"
      ]
     },
     "execution_count": 1,
     "metadata": {},
     "output_type": "execute_result"
    }
   ],
   "source": [
    "import covsirphy as cs\n",
    "cs.__version__"
   ]
  },
  {
   "cell_type": "markdown",
   "id": "applied-standard",
   "metadata": {},
   "source": [
    "### Dataset preparation\n",
    "Download the datasets to \"input\" directory and load them.\n",
    "\n",
    "If \"input\" directory has the datasets, `DataLoader` instance will load the local files. If the datasets were updated in remote servers, `DataLoader` will update the local files automatically and download the datasets to \"input\" directory and load them."
   ]
  },
  {
   "cell_type": "code",
   "execution_count": 5,
   "id": "yellow-roads",
   "metadata": {
    "collapsed": false,
    "execution": {
     "iopub.execute_input": "2021-02-20T16:27:38.098388Z",
     "iopub.status.busy": "2021-02-20T16:27:38.096575Z",
     "iopub.status.idle": "2021-02-20T16:27:38.101089Z",
     "shell.execute_reply": "2021-02-20T16:27:38.099902Z"
    }
   },
   "outputs": [],
   "source": [
    "# Create DataLoader instance\n",
    "data_loader = cs.DataLoader(\"input\")"
   ]
  },
  {
   "cell_type": "code",
   "execution_count": 6,
   "id": "healthy-pointer",
   "metadata": {
    "execution": {
     "iopub.execute_input": "2021-02-20T16:27:38.107535Z",
     "iopub.status.busy": "2021-02-20T16:27:38.106436Z",
     "iopub.status.idle": "2021-02-20T16:27:44.058483Z",
     "shell.execute_reply": "2021-02-20T16:27:44.058870Z"
    }
   },
   "outputs": [],
   "source": [
    "# The number of cases (JHU style)\n",
    "jhu_data = data_loader.jhu()\n",
    "# Population in each country\n",
    "population_data = data_loader.population()\n",
    "# Government Response Tracker (OxCGRT)\n",
    "oxcgrt_data = data_loader.oxcgrt()"
   ]
  },
  {
   "cell_type": "code",
   "execution_count": 7,
   "id": "handled-thomas",
   "metadata": {
    "collapsed": false,
    "execution": {
     "iopub.execute_input": "2021-02-20T16:27:44.065470Z",
     "iopub.status.busy": "2021-02-20T16:27:44.064983Z",
     "iopub.status.idle": "2021-02-20T16:28:43.178601Z",
     "shell.execute_reply": "2021-02-20T16:28:43.178943Z"
    },
    "tags": []
   },
   "outputs": [
    {
     "name": "stdout",
     "output_type": "stream",
     "text": [
      "Retrieving linelist from Open COVID-19 Data Working Group repository: https://github.com/beoutbreakprepared/nCoV2019\n"
     ]
    },
    {
     "name": "stdout",
     "output_type": "stream",
     "text": [
      "Retrieving COVID-19 vaccination dataset from https://github.com/owid/covid-19-data/\n"
     ]
    }
   ],
   "source": [
    "# Linelist of case reports\n",
    "linelist = data_loader.linelist()\n",
    "# The number of tests\n",
    "pcr_data = data_loader.pcr()\n",
    "# The number of vaccinations\n",
    "vaccine_data = data_loader.vaccine()\n",
    "# Population pyramid\n",
    "pyramid_data = data_loader.pyramid()\n",
    "# Japan-specific dataset\n",
    "japan_data = data_loader.japan()"
   ]
  },
  {
   "cell_type": "markdown",
   "id": "moving-accident",
   "metadata": {},
   "source": [
    "### The number of cases (JHU style)\n",
    "The main dataset is that of the number of cases and was saved as `jhu_data`, an instance of `JHUData` class. This includes \"Confirmed\", \"Infected\", \"Recovered\" and \"Fatal\". \"Infected\" was calculated as \"Confirmed - Recovered - Fatal\"."
   ]
  },
  {
   "cell_type": "code",
   "execution_count": 8,
   "id": "behavioral-bibliography",
   "metadata": {
    "collapsed": false,
    "execution": {
     "iopub.execute_input": "2021-02-20T16:28:43.185106Z",
     "iopub.status.busy": "2021-02-20T16:28:43.184404Z",
     "iopub.status.idle": "2021-02-20T16:28:43.187779Z",
     "shell.execute_reply": "2021-02-20T16:28:43.188214Z"
    }
   },
   "outputs": [
    {
     "data": {
      "text/plain": [
       "covsirphy.cleaning.jhu_data.JHUData"
      ]
     },
     "execution_count": 1,
     "metadata": {},
     "output_type": "execute_result"
    }
   ],
   "source": [
    "type(jhu_data)"
   ]
  },
  {
   "cell_type": "markdown",
   "id": "universal-chuck",
   "metadata": {},
   "source": [
    "The dataset will be retrieved from [COVID-19 Data Hub](https://covid19datahub.io/) and [Data folder of CovsirPhy project](https://github.com/lisphilar/covid19-sir/tree/master/data). Description of these projects will be shown as follows."
   ]
  },
  {
   "cell_type": "code",
   "execution_count": 9,
   "id": "executive-interest",
   "metadata": {
    "collapsed": false,
    "execution": {
     "iopub.execute_input": "2021-02-20T16:28:43.192012Z",
     "iopub.status.busy": "2021-02-20T16:28:43.191563Z",
     "iopub.status.idle": "2021-02-20T16:28:43.196086Z",
     "shell.execute_reply": "2021-02-20T16:28:43.195573Z"
    },
    "tags": []
   },
   "outputs": [
    {
     "name": "stdout",
     "output_type": "stream",
     "text": [
      "(Secondary source) Guidotti, E., Ardia, D., (2020), \"COVID-19 Data Hub\", Journal of Open Source Software 5(51):2376, doi: 10.21105/joss.02376.\n",
      "Lisphilar (2020), COVID-19 dataset in Japan, GitHub repository, https://github.com/lisphilar/covid19-sir/data/japan\n"
     ]
    }
   ],
   "source": [
    "# Description/citation\n",
    "print(jhu_data.citation)"
   ]
  },
  {
   "cell_type": "code",
   "execution_count": 10,
   "id": "royal-priest",
   "metadata": {
    "collapsed": false,
    "execution": {
     "iopub.execute_input": "2021-02-20T16:28:43.198938Z",
     "iopub.status.busy": "2021-02-20T16:28:43.198474Z",
     "iopub.status.idle": "2021-02-20T16:28:43.200683Z",
     "shell.execute_reply": "2021-02-20T16:28:43.201029Z"
    },
    "tags": []
   },
   "outputs": [],
   "source": [
    "# Detailed citation list of COVID-19 Data Hub\n",
    "# print(data_loader.covid19dh_citation)"
   ]
  },
  {
   "cell_type": "code",
   "execution_count": 11,
   "id": "floral-radical",
   "metadata": {
    "collapsed": false,
    "execution": {
     "iopub.execute_input": "2021-02-20T16:28:43.204876Z",
     "iopub.status.busy": "2021-02-20T16:28:43.204399Z",
     "iopub.status.idle": "2021-02-20T16:28:43.231918Z",
     "shell.execute_reply": "2021-02-20T16:28:43.232242Z"
    }
   },
   "outputs": [
    {
     "data": {
      "text/html": [
       "<div>\n",
       "<style scoped>\n",
       "    .dataframe tbody tr th:only-of-type {\n",
       "        vertical-align: middle;\n",
       "    }\n",
       "\n",
       "    .dataframe tbody tr th {\n",
       "        vertical-align: top;\n",
       "    }\n",
       "\n",
       "    .dataframe thead th {\n",
       "        text-align: right;\n",
       "    }\n",
       "</style>\n",
       "<table border=\"1\" class=\"dataframe\">\n",
       "  <thead>\n",
       "    <tr style=\"text-align: right;\">\n",
       "      <th></th>\n",
       "      <th>ObservationDate</th>\n",
       "      <th>Tests</th>\n",
       "      <th>Confirmed</th>\n",
       "      <th>Recovered</th>\n",
       "      <th>Deaths</th>\n",
       "      <th>Population</th>\n",
       "      <th>ISO3</th>\n",
       "      <th>Province/State</th>\n",
       "      <th>Country/Region</th>\n",
       "      <th>school_closing</th>\n",
       "      <th>...</th>\n",
       "      <th>cancel_events</th>\n",
       "      <th>gatherings_restrictions</th>\n",
       "      <th>transport_closing</th>\n",
       "      <th>stay_home_restrictions</th>\n",
       "      <th>internal_movement_restrictions</th>\n",
       "      <th>international_movement_restrictions</th>\n",
       "      <th>information_campaigns</th>\n",
       "      <th>testing_policy</th>\n",
       "      <th>contact_tracing</th>\n",
       "      <th>stringency_index</th>\n",
       "    </tr>\n",
       "  </thead>\n",
       "  <tbody>\n",
       "    <tr>\n",
       "      <th>29418</th>\n",
       "      <td>2021-02-16</td>\n",
       "      <td>5728</td>\n",
       "      <td>1336.0</td>\n",
       "      <td>1308</td>\n",
       "      <td>21</td>\n",
       "      <td>107808.0</td>\n",
       "      <td>COL</td>\n",
       "      <td>Vichada</td>\n",
       "      <td>Colombia</td>\n",
       "      <td>3</td>\n",
       "      <td>...</td>\n",
       "      <td>1</td>\n",
       "      <td>3</td>\n",
       "      <td>1</td>\n",
       "      <td>1</td>\n",
       "      <td>1</td>\n",
       "      <td>4</td>\n",
       "      <td>2</td>\n",
       "      <td>2</td>\n",
       "      <td>2</td>\n",
       "      <td>81.02</td>\n",
       "    </tr>\n",
       "    <tr>\n",
       "      <th>29419</th>\n",
       "      <td>2021-02-17</td>\n",
       "      <td>5728</td>\n",
       "      <td>1336.0</td>\n",
       "      <td>1308</td>\n",
       "      <td>21</td>\n",
       "      <td>107808.0</td>\n",
       "      <td>COL</td>\n",
       "      <td>Vichada</td>\n",
       "      <td>Colombia</td>\n",
       "      <td>3</td>\n",
       "      <td>...</td>\n",
       "      <td>1</td>\n",
       "      <td>3</td>\n",
       "      <td>1</td>\n",
       "      <td>1</td>\n",
       "      <td>1</td>\n",
       "      <td>4</td>\n",
       "      <td>2</td>\n",
       "      <td>2</td>\n",
       "      <td>2</td>\n",
       "      <td>81.02</td>\n",
       "    </tr>\n",
       "    <tr>\n",
       "      <th>29420</th>\n",
       "      <td>2021-02-18</td>\n",
       "      <td>5728</td>\n",
       "      <td>1343.0</td>\n",
       "      <td>1308</td>\n",
       "      <td>21</td>\n",
       "      <td>107808.0</td>\n",
       "      <td>COL</td>\n",
       "      <td>Vichada</td>\n",
       "      <td>Colombia</td>\n",
       "      <td>3</td>\n",
       "      <td>...</td>\n",
       "      <td>1</td>\n",
       "      <td>3</td>\n",
       "      <td>1</td>\n",
       "      <td>1</td>\n",
       "      <td>1</td>\n",
       "      <td>4</td>\n",
       "      <td>2</td>\n",
       "      <td>2</td>\n",
       "      <td>2</td>\n",
       "      <td>81.02</td>\n",
       "    </tr>\n",
       "    <tr>\n",
       "      <th>29421</th>\n",
       "      <td>2021-02-19</td>\n",
       "      <td>5728</td>\n",
       "      <td>1343.0</td>\n",
       "      <td>1315</td>\n",
       "      <td>21</td>\n",
       "      <td>107808.0</td>\n",
       "      <td>COL</td>\n",
       "      <td>Vichada</td>\n",
       "      <td>Colombia</td>\n",
       "      <td>3</td>\n",
       "      <td>...</td>\n",
       "      <td>1</td>\n",
       "      <td>3</td>\n",
       "      <td>1</td>\n",
       "      <td>1</td>\n",
       "      <td>1</td>\n",
       "      <td>4</td>\n",
       "      <td>2</td>\n",
       "      <td>2</td>\n",
       "      <td>2</td>\n",
       "      <td>81.02</td>\n",
       "    </tr>\n",
       "    <tr>\n",
       "      <th>29422</th>\n",
       "      <td>2021-02-20</td>\n",
       "      <td>5728</td>\n",
       "      <td>1343.0</td>\n",
       "      <td>1315</td>\n",
       "      <td>21</td>\n",
       "      <td>107808.0</td>\n",
       "      <td>COL</td>\n",
       "      <td>Vichada</td>\n",
       "      <td>Colombia</td>\n",
       "      <td>3</td>\n",
       "      <td>...</td>\n",
       "      <td>1</td>\n",
       "      <td>3</td>\n",
       "      <td>1</td>\n",
       "      <td>1</td>\n",
       "      <td>1</td>\n",
       "      <td>4</td>\n",
       "      <td>2</td>\n",
       "      <td>2</td>\n",
       "      <td>2</td>\n",
       "      <td>81.02</td>\n",
       "    </tr>\n",
       "  </tbody>\n",
       "</table>\n",
       "<p>5 rows × 21 columns</p>\n",
       "</div>"
      ],
      "text/plain": [
       "      ObservationDate  Tests  Confirmed  Recovered  Deaths  Population ISO3  \\\n",
       "29418      2021-02-16   5728     1336.0       1308      21    107808.0  COL   \n",
       "29419      2021-02-17   5728     1336.0       1308      21    107808.0  COL   \n",
       "29420      2021-02-18   5728     1343.0       1308      21    107808.0  COL   \n",
       "29421      2021-02-19   5728     1343.0       1315      21    107808.0  COL   \n",
       "29422      2021-02-20   5728     1343.0       1315      21    107808.0  COL   \n",
       "\n",
       "      Province/State Country/Region  school_closing  ...  cancel_events  \\\n",
       "29418        Vichada       Colombia               3  ...              1   \n",
       "29419        Vichada       Colombia               3  ...              1   \n",
       "29420        Vichada       Colombia               3  ...              1   \n",
       "29421        Vichada       Colombia               3  ...              1   \n",
       "29422        Vichada       Colombia               3  ...              1   \n",
       "\n",
       "       gatherings_restrictions  transport_closing  stay_home_restrictions  \\\n",
       "29418                        3                  1                       1   \n",
       "29419                        3                  1                       1   \n",
       "29420                        3                  1                       1   \n",
       "29421                        3                  1                       1   \n",
       "29422                        3                  1                       1   \n",
       "\n",
       "       internal_movement_restrictions  international_movement_restrictions  \\\n",
       "29418                               1                                    4   \n",
       "29419                               1                                    4   \n",
       "29420                               1                                    4   \n",
       "29421                               1                                    4   \n",
       "29422                               1                                    4   \n",
       "\n",
       "       information_campaigns  testing_policy  contact_tracing  \\\n",
       "29418                      2               2                2   \n",
       "29419                      2               2                2   \n",
       "29420                      2               2                2   \n",
       "29421                      2               2                2   \n",
       "29422                      2               2                2   \n",
       "\n",
       "       stringency_index  \n",
       "29418             81.02  \n",
       "29419             81.02  \n",
       "29420             81.02  \n",
       "29421             81.02  \n",
       "29422             81.02  \n",
       "\n",
       "[5 rows x 21 columns]"
      ]
     },
     "execution_count": 1,
     "metadata": {},
     "output_type": "execute_result"
    }
   ],
   "source": [
    "# Raw data\n",
    "jhu_data.raw.tail()"
   ]
  },
  {
   "cell_type": "code",
   "execution_count": 12,
   "id": "jewish-sponsorship",
   "metadata": {
    "collapsed": false,
    "execution": {
     "iopub.execute_input": "2021-02-20T16:28:43.244873Z",
     "iopub.status.busy": "2021-02-20T16:28:43.244144Z",
     "iopub.status.idle": "2021-02-20T16:28:43.247248Z",
     "shell.execute_reply": "2021-02-20T16:28:43.247602Z"
    }
   },
   "outputs": [
    {
     "data": {
      "text/html": [
       "<div>\n",
       "<style scoped>\n",
       "    .dataframe tbody tr th:only-of-type {\n",
       "        vertical-align: middle;\n",
       "    }\n",
       "\n",
       "    .dataframe tbody tr th {\n",
       "        vertical-align: top;\n",
       "    }\n",
       "\n",
       "    .dataframe thead th {\n",
       "        text-align: right;\n",
       "    }\n",
       "</style>\n",
       "<table border=\"1\" class=\"dataframe\">\n",
       "  <thead>\n",
       "    <tr style=\"text-align: right;\">\n",
       "      <th></th>\n",
       "      <th>Date</th>\n",
       "      <th>Country</th>\n",
       "      <th>Province</th>\n",
       "      <th>Confirmed</th>\n",
       "      <th>Infected</th>\n",
       "      <th>Fatal</th>\n",
       "      <th>Recovered</th>\n",
       "    </tr>\n",
       "  </thead>\n",
       "  <tbody>\n",
       "    <tr>\n",
       "      <th>16641</th>\n",
       "      <td>2021-02-15</td>\n",
       "      <td>Japan</td>\n",
       "      <td>-</td>\n",
       "      <td>415782</td>\n",
       "      <td>23733</td>\n",
       "      <td>6952</td>\n",
       "      <td>385097</td>\n",
       "    </tr>\n",
       "    <tr>\n",
       "      <th>16642</th>\n",
       "      <td>2021-02-16</td>\n",
       "      <td>Japan</td>\n",
       "      <td>-</td>\n",
       "      <td>417765</td>\n",
       "      <td>23010</td>\n",
       "      <td>7015</td>\n",
       "      <td>387740</td>\n",
       "    </tr>\n",
       "    <tr>\n",
       "      <th>16643</th>\n",
       "      <td>2021-02-17</td>\n",
       "      <td>Japan</td>\n",
       "      <td>-</td>\n",
       "      <td>419015</td>\n",
       "      <td>20705</td>\n",
       "      <td>7102</td>\n",
       "      <td>391208</td>\n",
       "    </tr>\n",
       "    <tr>\n",
       "      <th>16644</th>\n",
       "      <td>2021-02-18</td>\n",
       "      <td>Japan</td>\n",
       "      <td>-</td>\n",
       "      <td>420408</td>\n",
       "      <td>19718</td>\n",
       "      <td>7196</td>\n",
       "      <td>393494</td>\n",
       "    </tr>\n",
       "    <tr>\n",
       "      <th>16645</th>\n",
       "      <td>2021-02-19</td>\n",
       "      <td>Japan</td>\n",
       "      <td>-</td>\n",
       "      <td>421967</td>\n",
       "      <td>19201</td>\n",
       "      <td>7274</td>\n",
       "      <td>395492</td>\n",
       "    </tr>\n",
       "  </tbody>\n",
       "</table>\n",
       "</div>"
      ],
      "text/plain": [
       "            Date Country Province  Confirmed  Infected  Fatal  Recovered\n",
       "16641 2021-02-15   Japan        -     415782     23733   6952     385097\n",
       "16642 2021-02-16   Japan        -     417765     23010   7015     387740\n",
       "16643 2021-02-17   Japan        -     419015     20705   7102     391208\n",
       "16644 2021-02-18   Japan        -     420408     19718   7196     393494\n",
       "16645 2021-02-19   Japan        -     421967     19201   7274     395492"
      ]
     },
     "execution_count": 1,
     "metadata": {},
     "output_type": "execute_result"
    }
   ],
   "source": [
    "# Cleaned data\n",
    "jhu_data.cleaned().tail()"
   ]
  },
  {
   "cell_type": "code",
   "execution_count": 13,
   "id": "interim-jersey",
   "metadata": {
    "collapsed": false,
    "execution": {
     "iopub.execute_input": "2021-02-20T16:28:43.254695Z",
     "iopub.status.busy": "2021-02-20T16:28:43.254213Z",
     "iopub.status.idle": "2021-02-20T16:28:43.266022Z",
     "shell.execute_reply": "2021-02-20T16:28:43.266346Z"
    }
   },
   "outputs": [
    {
     "name": "stdout",
     "output_type": "stream",
     "text": [
      "<class 'pandas.core.frame.DataFrame'>\n",
      "Int64Index: 421970 entries, 0 to 16645\n",
      "Data columns (total 7 columns):\n",
      " #   Column     Non-Null Count   Dtype         \n",
      "---  ------     --------------   -----         \n",
      " 0   Date       421970 non-null  datetime64[ns]\n",
      " 1   Country    421970 non-null  category      \n",
      " 2   Province   421970 non-null  category      \n",
      " 3   Confirmed  421970 non-null  int64         \n",
      " 4   Infected   421970 non-null  int64         \n",
      " 5   Fatal      421970 non-null  int64         \n",
      " 6   Recovered  421970 non-null  int64         \n",
      "dtypes: category(2), datetime64[ns](1), int64(4)\n",
      "memory usage: 21.0 MB\n"
     ]
    }
   ],
   "source": [
    "jhu_data.cleaned().info()"
   ]
  },
  {
   "cell_type": "markdown",
   "id": "single-immigration",
   "metadata": {},
   "source": [
    "Total number of cases in all countries with `JHUData.total()` method."
   ]
  },
  {
   "cell_type": "code",
   "execution_count": 14,
   "id": "fuzzy-welsh",
   "metadata": {
    "collapsed": false,
    "execution": {
     "iopub.execute_input": "2021-02-20T16:28:43.269501Z",
     "iopub.status.busy": "2021-02-20T16:28:43.269080Z",
     "iopub.status.idle": "2021-02-20T16:28:43.514159Z",
     "shell.execute_reply": "2021-02-20T16:28:43.514486Z"
    }
   },
   "outputs": [
    {
     "data": {
      "text/html": [
       "<div>\n",
       "<style scoped>\n",
       "    .dataframe tbody tr th:only-of-type {\n",
       "        vertical-align: middle;\n",
       "    }\n",
       "\n",
       "    .dataframe tbody tr th {\n",
       "        vertical-align: top;\n",
       "    }\n",
       "\n",
       "    .dataframe thead th {\n",
       "        text-align: right;\n",
       "    }\n",
       "</style>\n",
       "<table border=\"1\" class=\"dataframe\">\n",
       "  <thead>\n",
       "    <tr style=\"text-align: right;\">\n",
       "      <th></th>\n",
       "      <th>Confirmed</th>\n",
       "      <th>Infected</th>\n",
       "      <th>Fatal</th>\n",
       "      <th>Recovered</th>\n",
       "      <th>Fatal per Confirmed</th>\n",
       "      <th>Recovered per Confirmed</th>\n",
       "      <th>Fatal per (Fatal or Recovered)</th>\n",
       "    </tr>\n",
       "    <tr>\n",
       "      <th>Date</th>\n",
       "      <th></th>\n",
       "      <th></th>\n",
       "      <th></th>\n",
       "      <th></th>\n",
       "      <th></th>\n",
       "      <th></th>\n",
       "      <th></th>\n",
       "    </tr>\n",
       "  </thead>\n",
       "  <tbody>\n",
       "    <tr>\n",
       "      <th>2021-02-16</th>\n",
       "      <td>109586827</td>\n",
       "      <td>39254872</td>\n",
       "      <td>2421704</td>\n",
       "      <td>67910251</td>\n",
       "      <td>0.022098</td>\n",
       "      <td>0.619694</td>\n",
       "      <td>0.034432</td>\n",
       "    </tr>\n",
       "    <tr>\n",
       "      <th>2021-02-17</th>\n",
       "      <td>109981703</td>\n",
       "      <td>39360946</td>\n",
       "      <td>2432132</td>\n",
       "      <td>68188625</td>\n",
       "      <td>0.022114</td>\n",
       "      <td>0.620000</td>\n",
       "      <td>0.034439</td>\n",
       "    </tr>\n",
       "    <tr>\n",
       "      <th>2021-02-18</th>\n",
       "      <td>110384205</td>\n",
       "      <td>39519681</td>\n",
       "      <td>2442858</td>\n",
       "      <td>68421666</td>\n",
       "      <td>0.022131</td>\n",
       "      <td>0.619850</td>\n",
       "      <td>0.034472</td>\n",
       "    </tr>\n",
       "    <tr>\n",
       "      <th>2021-02-19</th>\n",
       "      <td>110803230</td>\n",
       "      <td>39709392</td>\n",
       "      <td>2453052</td>\n",
       "      <td>68640786</td>\n",
       "      <td>0.022139</td>\n",
       "      <td>0.619484</td>\n",
       "      <td>0.034504</td>\n",
       "    </tr>\n",
       "    <tr>\n",
       "      <th>2021-02-20</th>\n",
       "      <td>110381345</td>\n",
       "      <td>39690214</td>\n",
       "      <td>2445778</td>\n",
       "      <td>68245353</td>\n",
       "      <td>0.022158</td>\n",
       "      <td>0.618269</td>\n",
       "      <td>0.034598</td>\n",
       "    </tr>\n",
       "  </tbody>\n",
       "</table>\n",
       "</div>"
      ],
      "text/plain": [
       "            Confirmed  Infected    Fatal  Recovered  Fatal per Confirmed  \\\n",
       "Date                                                                       \n",
       "2021-02-16  109586827  39254872  2421704   67910251             0.022098   \n",
       "2021-02-17  109981703  39360946  2432132   68188625             0.022114   \n",
       "2021-02-18  110384205  39519681  2442858   68421666             0.022131   \n",
       "2021-02-19  110803230  39709392  2453052   68640786             0.022139   \n",
       "2021-02-20  110381345  39690214  2445778   68245353             0.022158   \n",
       "\n",
       "            Recovered per Confirmed  Fatal per (Fatal or Recovered)  \n",
       "Date                                                                 \n",
       "2021-02-16                 0.619694                        0.034432  \n",
       "2021-02-17                 0.620000                        0.034439  \n",
       "2021-02-18                 0.619850                        0.034472  \n",
       "2021-02-19                 0.619484                        0.034504  \n",
       "2021-02-20                 0.618269                        0.034598  "
      ]
     },
     "execution_count": 1,
     "metadata": {},
     "output_type": "execute_result"
    }
   ],
   "source": [
    "# Calculate total values\n",
    "total_df = jhu_data.total()\n",
    "total_df.tail()"
   ]
  },
  {
   "cell_type": "code",
   "execution_count": 15,
   "id": "exclusive-physiology",
   "metadata": {
    "collapsed": false,
    "execution": {
     "iopub.execute_input": "2021-02-20T16:28:43.518270Z",
     "iopub.status.busy": "2021-02-20T16:28:43.517852Z",
     "iopub.status.idle": "2021-02-20T16:28:44.410009Z",
     "shell.execute_reply": "2021-02-20T16:28:44.410345Z"
    }
   },
   "outputs": [
    {
     "data": {
      "image/png": "[encoded data removed]",
      "text/plain": [
       "<Figure size 648x432 with 1 Axes>"
      ]
     },
     "metadata": {
      "needs_background": "light"
     },
     "output_type": "display_data"
    }
   ],
   "source": [
    "# Plot the total values\n",
    "cs.line_plot(total_df[[\"Infected\", \"Fatal\", \"Recovered\"]], \"Total number of cases over time\")"
   ]
  },
  {
   "cell_type": "code",
   "execution_count": 16,
   "id": "professional-unemployment",
   "metadata": {
    "collapsed": false,
    "execution": {
     "iopub.execute_input": "2021-02-20T16:28:44.416542Z",
     "iopub.status.busy": "2021-02-20T16:28:44.416053Z",
     "iopub.status.idle": "2021-02-20T16:28:44.428625Z",
     "shell.execute_reply": "2021-02-20T16:28:44.428948Z"
    }
   },
   "outputs": [
    {
     "data": {
      "text/html": [
       "<div>\n",
       "<style scoped>\n",
       "    .dataframe tbody tr th:only-of-type {\n",
       "        vertical-align: middle;\n",
       "    }\n",
       "\n",
       "    .dataframe tbody tr th {\n",
       "        vertical-align: top;\n",
       "    }\n",
       "\n",
       "    .dataframe thead th {\n",
       "        text-align: right;\n",
       "    }\n",
       "</style>\n",
       "<table border=\"1\" class=\"dataframe\">\n",
       "  <thead>\n",
       "    <tr style=\"text-align: right;\">\n",
       "      <th></th>\n",
       "      <th>count</th>\n",
       "      <th>mean</th>\n",
       "      <th>std</th>\n",
       "      <th>min</th>\n",
       "      <th>25%</th>\n",
       "      <th>50%</th>\n",
       "      <th>75%</th>\n",
       "      <th>max</th>\n",
       "    </tr>\n",
       "  </thead>\n",
       "  <tbody>\n",
       "    <tr>\n",
       "      <th>Fatal per Confirmed</th>\n",
       "      <td>416.0</td>\n",
       "      <td>0.041941</td>\n",
       "      <td>0.035337</td>\n",
       "      <td>0.000000</td>\n",
       "      <td>0.023437</td>\n",
       "      <td>0.032720</td>\n",
       "      <td>0.049133</td>\n",
       "      <td>0.333333</td>\n",
       "    </tr>\n",
       "    <tr>\n",
       "      <th>Recovered per Confirmed</th>\n",
       "      <td>416.0</td>\n",
       "      <td>0.526929</td>\n",
       "      <td>0.189851</td>\n",
       "      <td>0.018707</td>\n",
       "      <td>0.411225</td>\n",
       "      <td>0.616665</td>\n",
       "      <td>0.651108</td>\n",
       "      <td>1.000000</td>\n",
       "    </tr>\n",
       "    <tr>\n",
       "      <th>Fatal per (Fatal or Recovered)</th>\n",
       "      <td>416.0</td>\n",
       "      <td>0.095802</td>\n",
       "      <td>0.091254</td>\n",
       "      <td>0.000000</td>\n",
       "      <td>0.036232</td>\n",
       "      <td>0.057877</td>\n",
       "      <td>0.127117</td>\n",
       "      <td>0.538961</td>\n",
       "    </tr>\n",
       "  </tbody>\n",
       "</table>\n",
       "</div>"
      ],
      "text/plain": [
       "                                count      mean       std       min       25%  \\\n",
       "Fatal per Confirmed             416.0  0.041941  0.035337  0.000000  0.023437   \n",
       "Recovered per Confirmed         416.0  0.526929  0.189851  0.018707  0.411225   \n",
       "Fatal per (Fatal or Recovered)  416.0  0.095802  0.091254  0.000000  0.036232   \n",
       "\n",
       "                                     50%       75%       max  \n",
       "Fatal per Confirmed             0.032720  0.049133  0.333333  \n",
       "Recovered per Confirmed         0.616665  0.651108  1.000000  \n",
       "Fatal per (Fatal or Recovered)  0.057877  0.127117  0.538961  "
      ]
     },
     "execution_count": 1,
     "metadata": {},
     "output_type": "execute_result"
    }
   ],
   "source": [
    "# Statistics of rate values in all countries\n",
    "total_df.loc[:, total_df.columns.str.contains(\"per\")].describe().T"
   ]
  },
  {
   "cell_type": "markdown",
   "id": "characteristic-cradle",
   "metadata": {},
   "source": [
    "We can create a subset for a country using `JHUData.subset()` method."
   ]
  },
  {
   "cell_type": "code",
   "execution_count": 17,
   "id": "automated-occasion",
   "metadata": {
    "collapsed": false,
    "execution": {
     "iopub.execute_input": "2021-02-20T16:28:44.432253Z",
     "iopub.status.busy": "2021-02-20T16:28:44.431805Z",
     "iopub.status.idle": "2021-02-20T16:28:48.074378Z",
     "shell.execute_reply": "2021-02-20T16:28:48.074681Z"
    }
   },
   "outputs": [
    {
     "data": {
      "text/html": [
       "<div>\n",
       "<style scoped>\n",
       "    .dataframe tbody tr th:only-of-type {\n",
       "        vertical-align: middle;\n",
       "    }\n",
       "\n",
       "    .dataframe tbody tr th {\n",
       "        vertical-align: top;\n",
       "    }\n",
       "\n",
       "    .dataframe thead th {\n",
       "        text-align: right;\n",
       "    }\n",
       "</style>\n",
       "<table border=\"1\" class=\"dataframe\">\n",
       "  <thead>\n",
       "    <tr style=\"text-align: right;\">\n",
       "      <th></th>\n",
       "      <th>Date</th>\n",
       "      <th>Confirmed</th>\n",
       "      <th>Infected</th>\n",
       "      <th>Fatal</th>\n",
       "      <th>Recovered</th>\n",
       "    </tr>\n",
       "  </thead>\n",
       "  <tbody>\n",
       "    <tr>\n",
       "      <th>375</th>\n",
       "      <td>2021-02-15</td>\n",
       "      <td>415782</td>\n",
       "      <td>23733</td>\n",
       "      <td>6952</td>\n",
       "      <td>385097</td>\n",
       "    </tr>\n",
       "    <tr>\n",
       "      <th>376</th>\n",
       "      <td>2021-02-16</td>\n",
       "      <td>417765</td>\n",
       "      <td>23010</td>\n",
       "      <td>7015</td>\n",
       "      <td>387740</td>\n",
       "    </tr>\n",
       "    <tr>\n",
       "      <th>377</th>\n",
       "      <td>2021-02-17</td>\n",
       "      <td>419015</td>\n",
       "      <td>20705</td>\n",
       "      <td>7102</td>\n",
       "      <td>391208</td>\n",
       "    </tr>\n",
       "    <tr>\n",
       "      <th>378</th>\n",
       "      <td>2021-02-18</td>\n",
       "      <td>420408</td>\n",
       "      <td>19718</td>\n",
       "      <td>7196</td>\n",
       "      <td>393494</td>\n",
       "    </tr>\n",
       "    <tr>\n",
       "      <th>379</th>\n",
       "      <td>2021-02-19</td>\n",
       "      <td>421967</td>\n",
       "      <td>19201</td>\n",
       "      <td>7274</td>\n",
       "      <td>395492</td>\n",
       "    </tr>\n",
       "  </tbody>\n",
       "</table>\n",
       "</div>"
      ],
      "text/plain": [
       "          Date  Confirmed  Infected  Fatal  Recovered\n",
       "375 2021-02-15     415782     23733   6952     385097\n",
       "376 2021-02-16     417765     23010   7015     387740\n",
       "377 2021-02-17     419015     20705   7102     391208\n",
       "378 2021-02-18     420408     19718   7196     393494\n",
       "379 2021-02-19     421967     19201   7274     395492"
      ]
     },
     "execution_count": 1,
     "metadata": {},
     "output_type": "execute_result"
    }
   ],
   "source": [
    "# Subset for a country\n",
    "df, _ = jhu_data.records(\"Japan\")\n",
    "df.tail()\n",
    "# We can use ISO3 code etc.\n",
    "# df, _ = jhu_data.records(\"JPN\")\n",
    "# df.tail()"
   ]
  },
  {
   "cell_type": "markdown",
   "id": "patient-question",
   "metadata": {},
   "source": [
    "Province (\"prefecture\" for Japan) name can be specified."
   ]
  },
  {
   "cell_type": "code",
   "execution_count": 18,
   "id": "extreme-disabled",
   "metadata": {
    "collapsed": false,
    "execution": {
     "iopub.execute_input": "2021-02-20T16:28:48.078009Z",
     "iopub.status.busy": "2021-02-20T16:28:48.077564Z",
     "iopub.status.idle": "2021-02-20T16:28:48.744769Z",
     "shell.execute_reply": "2021-02-20T16:28:48.745211Z"
    }
   },
   "outputs": [
    {
     "data": {
      "text/html": [
       "<div>\n",
       "<style scoped>\n",
       "    .dataframe tbody tr th:only-of-type {\n",
       "        vertical-align: middle;\n",
       "    }\n",
       "\n",
       "    .dataframe tbody tr th {\n",
       "        vertical-align: top;\n",
       "    }\n",
       "\n",
       "    .dataframe thead th {\n",
       "        text-align: right;\n",
       "    }\n",
       "</style>\n",
       "<table border=\"1\" class=\"dataframe\">\n",
       "  <thead>\n",
       "    <tr style=\"text-align: right;\">\n",
       "      <th></th>\n",
       "      <th>Date</th>\n",
       "      <th>Confirmed</th>\n",
       "      <th>Infected</th>\n",
       "      <th>Fatal</th>\n",
       "      <th>Recovered</th>\n",
       "    </tr>\n",
       "  </thead>\n",
       "  <tbody>\n",
       "    <tr>\n",
       "      <th>333</th>\n",
       "      <td>2021-02-14</td>\n",
       "      <td>106505</td>\n",
       "      <td>5204</td>\n",
       "      <td>1131</td>\n",
       "      <td>100170</td>\n",
       "    </tr>\n",
       "    <tr>\n",
       "      <th>334</th>\n",
       "      <td>2021-02-15</td>\n",
       "      <td>107609</td>\n",
       "      <td>5592</td>\n",
       "      <td>1137</td>\n",
       "      <td>100880</td>\n",
       "    </tr>\n",
       "    <tr>\n",
       "      <th>335</th>\n",
       "      <td>2021-02-16</td>\n",
       "      <td>107959</td>\n",
       "      <td>4611</td>\n",
       "      <td>1164</td>\n",
       "      <td>102184</td>\n",
       "    </tr>\n",
       "    <tr>\n",
       "      <th>336</th>\n",
       "      <td>2021-02-17</td>\n",
       "      <td>108337</td>\n",
       "      <td>4358</td>\n",
       "      <td>1183</td>\n",
       "      <td>102796</td>\n",
       "    </tr>\n",
       "    <tr>\n",
       "      <th>337</th>\n",
       "      <td>2021-02-18</td>\n",
       "      <td>108782</td>\n",
       "      <td>4370</td>\n",
       "      <td>1210</td>\n",
       "      <td>103202</td>\n",
       "    </tr>\n",
       "  </tbody>\n",
       "</table>\n",
       "</div>"
      ],
      "text/plain": [
       "          Date  Confirmed  Infected  Fatal  Recovered\n",
       "333 2021-02-14     106505      5204   1131     100170\n",
       "334 2021-02-15     107609      5592   1137     100880\n",
       "335 2021-02-16     107959      4611   1164     102184\n",
       "336 2021-02-17     108337      4358   1183     102796\n",
       "337 2021-02-18     108782      4370   1210     103202"
      ]
     },
     "execution_count": 1,
     "metadata": {},
     "output_type": "execute_result"
    }
   ],
   "source": [
    "df, _ = jhu_data.records(\"Japan\", province=\"Tokyo\")\n",
    "df.tail()"
   ]
  },
  {
   "cell_type": "code",
   "execution_count": 19,
   "id": "appreciated-tractor",
   "metadata": {
    "collapsed": false,
    "execution": {
     "iopub.execute_input": "2021-02-20T16:28:48.748354Z",
     "iopub.status.busy": "2021-02-20T16:28:48.747888Z",
     "iopub.status.idle": "2021-02-20T16:28:54.042421Z",
     "shell.execute_reply": "2021-02-20T16:28:54.041930Z"
    }
   },
   "outputs": [
    {
     "name": "stdout",
     "output_type": "stream",
     "text": [
      "['Afghanistan', 'Albania', 'Algeria', 'Andorra', 'Angola',\n",
      " 'Antigua and Barbuda', 'Argentina', 'Armenia', 'Australia', 'Austria',\n",
      " 'Azerbaijan', 'Bahamas', 'Bahrain', 'Bangladesh', 'Barbados', 'Belarus',\n",
      " 'Belgium', 'Belize', 'Benin', 'Bermuda', 'Bhutan', 'Bolivia',\n",
      " 'Bosnia and Herzegovina', 'Botswana', 'Brazil', 'Brunei', 'Bulgaria',\n",
      " 'Burkina Faso', 'Burundi', 'Cambodia', 'Cameroon', 'Canada', 'Cape Verde',\n",
      " 'Central African Republic', 'Chad', 'Chile', 'China', 'Colombia', 'Comoros',\n",
      " 'Costa Rica', \"Cote d'Ivoire\", 'Croatia', 'Cuba', 'Cyprus', 'Czech Republic',\n",
      " 'Democratic Republic of the Congo', 'Denmark', 'Djibouti', 'Dominica',\n",
      " 'Dominican Republic', 'Ecuador', 'Egypt', 'El Salvador', 'Equatorial Guinea',\n",
      " 'Eritrea', 'Estonia', 'Ethiopia', 'Fiji', 'Finland', 'France', 'Gabon',\n",
      " 'Gambia', 'Georgia', 'Germany', 'Ghana', 'Greece', 'Grenada', 'Guam',\n",
      " 'Guatemala', 'Guinea', 'Guinea-Bissau', 'Guyana', 'Haiti', 'Holy See',\n",
      " 'Honduras', 'Hungary', 'Iceland', 'India', 'Indonesia', 'Iran', 'Iraq',\n",
      " 'Ireland', 'Israel', 'Italy', 'Jamaica', 'Japan', 'Jordan', 'Kazakhstan',\n",
      " 'Kenya', 'Kosovo', 'Kuwait', 'Kyrgyzstan', 'Laos', 'Latvia', 'Lebanon',\n",
      " 'Lesotho', 'Liberia', 'Libya', 'Liechtenstein', 'Lithuania', 'Luxembourg',\n",
      " 'Madagascar', 'Malawi', 'Malaysia', 'Maldives', 'Mali', 'Malta',\n",
      " 'Marshall Islands', 'Mauritania', 'Mauritius', 'Mexico', 'Moldova', 'Monaco',\n",
      " 'Mongolia', 'Montenegro', 'Morocco', 'Mozambique', 'Myanmar', 'Namibia',\n",
      " 'Nepal', 'Netherlands', 'New Zealand', 'Nicaragua', 'Niger', 'Nigeria',\n",
      " 'North Macedonia', 'Northern Mariana Islands', 'Norway', 'Oman', 'Pakistan',\n",
      " 'Palestine', 'Panama', 'Papua New Guinea', 'Paraguay', 'Peru', 'Philippines',\n",
      " 'Poland', 'Portugal', 'Puerto Rico', 'Qatar', 'Republic of the Congo',\n",
      " 'Romania', 'Russia', 'Rwanda', 'Saint Kitts and Nevis', 'Saint Lucia',\n",
      " 'Saint Vincent and the Grenadines', 'Samoa', 'San Marino',\n",
      " 'Sao Tome and Principe', 'Saudi Arabia', 'Senegal', 'Serbia', 'Seychelles',\n",
      " 'Sierra Leone', 'Singapore', 'Slovakia', 'Slovenia', 'Solomon Islands',\n",
      " 'Somalia', 'South Africa', 'South Korea', 'South Sudan', 'Spain', 'Sri Lanka',\n",
      " 'Sudan', 'Suriname', 'Swaziland', 'Sweden', 'Switzerland', 'Syria', 'Taiwan',\n",
      " 'Tajikistan', 'Tanzania', 'Thailand', 'Timor-Leste', 'Togo',\n",
      " 'Trinidad and Tobago', 'Tunisia', 'Turkey', 'Uganda', 'Ukraine',\n",
      " 'United Arab Emirates', 'United Kingdom', 'United States', 'Uruguay',\n",
      " 'Uzbekistan', 'Vanuatu', 'Venezuela', 'Vietnam', 'Virgin Islands, U.S.',\n",
      " 'Yemen', 'Zambia', 'Zimbabwe']\n"
     ]
    }
   ],
   "source": [
    "# Countries we can select\n",
    "pprint(jhu_data.countries(), compact=True)"
   ]
  },
  {
   "cell_type": "markdown",
   "id": "temporal-success",
   "metadata": {},
   "source": [
    "`JHUData.records()` automatically complement the records, if necesssary and `auto_complement=True` (default). Each country can have either none or one or multiple complements, depending on the records and their preprocessing analysis."
   ]
  },
  {
   "cell_type": "markdown",
   "id": "touched-charm",
   "metadata": {},
   "source": [
    "We can show the specific kind of complements that were applied to the records of each country with `JHUData.show_complement()` method. The possible kinds of complement for each country are the following:  \n",
    "\n",
    "1. \"Monotonic_confirmed/fatal/recovered\" (monotonic increasing complement)  \n",
    "Force the variable show monotonic increasing.\n",
    "\n",
    "2. \"Full_recovered\" (full complement of recovered data)  \n",
    "Estimate the number of recovered cases using the value of estimated average recovery period.\n",
    "\n",
    "3. \"Partial_recovered\" (partial complement of recovered data)  \n",
    "When recovered values are not updated for some days, extrapolate the values."
   ]
  },
  {
   "cell_type": "code",
   "execution_count": 20,
   "id": "generic-portfolio",
   "metadata": {
    "execution": {
     "iopub.execute_input": "2021-02-20T16:28:54.045805Z",
     "iopub.status.busy": "2021-02-20T16:28:54.045339Z",
     "iopub.status.idle": "2021-02-20T16:31:04.265657Z",
     "shell.execute_reply": "2021-02-20T16:31:04.265061Z"
    }
   },
   "outputs": [
    {
     "data": {
      "text/html": [
       "<div>\n",
       "<style scoped>\n",
       "    .dataframe tbody tr th:only-of-type {\n",
       "        vertical-align: middle;\n",
       "    }\n",
       "\n",
       "    .dataframe tbody tr th {\n",
       "        vertical-align: top;\n",
       "    }\n",
       "\n",
       "    .dataframe thead th {\n",
       "        text-align: right;\n",
       "    }\n",
       "</style>\n",
       "<table border=\"1\" class=\"dataframe\">\n",
       "  <thead>\n",
       "    <tr style=\"text-align: right;\">\n",
       "      <th></th>\n",
       "      <th>Country</th>\n",
       "      <th>Province</th>\n",
       "      <th>Monotonic_confirmed</th>\n",
       "      <th>Monotonic_fatal</th>\n",
       "      <th>Monotonic_recovered</th>\n",
       "      <th>Full_recovered</th>\n",
       "      <th>Partial_recovered</th>\n",
       "    </tr>\n",
       "  </thead>\n",
       "  <tbody>\n",
       "    <tr>\n",
       "      <th>190</th>\n",
       "      <td>South Africa</td>\n",
       "      <td>-</td>\n",
       "      <td>False</td>\n",
       "      <td>False</td>\n",
       "      <td>False</td>\n",
       "      <td>False</td>\n",
       "      <td>True</td>\n",
       "    </tr>\n",
       "    <tr>\n",
       "      <th>191</th>\n",
       "      <td>Zambia</td>\n",
       "      <td>-</td>\n",
       "      <td>False</td>\n",
       "      <td>False</td>\n",
       "      <td>False</td>\n",
       "      <td>False</td>\n",
       "      <td>True</td>\n",
       "    </tr>\n",
       "    <tr>\n",
       "      <th>192</th>\n",
       "      <td>Zimbabwe</td>\n",
       "      <td>-</td>\n",
       "      <td>True</td>\n",
       "      <td>False</td>\n",
       "      <td>False</td>\n",
       "      <td>False</td>\n",
       "      <td>True</td>\n",
       "    </tr>\n",
       "    <tr>\n",
       "      <th>193</th>\n",
       "      <td>China</td>\n",
       "      <td>-</td>\n",
       "      <td>True</td>\n",
       "      <td>False</td>\n",
       "      <td>True</td>\n",
       "      <td>False</td>\n",
       "      <td>True</td>\n",
       "    </tr>\n",
       "    <tr>\n",
       "      <th>194</th>\n",
       "      <td>Japan</td>\n",
       "      <td>-</td>\n",
       "      <td>False</td>\n",
       "      <td>False</td>\n",
       "      <td>True</td>\n",
       "      <td>False</td>\n",
       "      <td>True</td>\n",
       "    </tr>\n",
       "  </tbody>\n",
       "</table>\n",
       "</div>"
      ],
      "text/plain": [
       "          Country Province Monotonic_confirmed Monotonic_fatal  \\\n",
       "190  South Africa        -               False           False   \n",
       "191        Zambia        -               False           False   \n",
       "192      Zimbabwe        -                True           False   \n",
       "193         China        -                True           False   \n",
       "194         Japan        -               False           False   \n",
       "\n",
       "    Monotonic_recovered Full_recovered Partial_recovered  \n",
       "190               False          False              True  \n",
       "191               False          False              True  \n",
       "192               False          False              True  \n",
       "193                True          False              True  \n",
       "194                True          False              True  "
      ]
     },
     "execution_count": 1,
     "metadata": {},
     "output_type": "execute_result"
    }
   ],
   "source": [
    "# Show the details of complement for all countries\n",
    "jhu_data.show_complement().tail()"
   ]
  },
  {
   "cell_type": "code",
   "execution_count": 21,
   "id": "vulnerable-suffering",
   "metadata": {
    "execution": {
     "iopub.execute_input": "2021-02-20T16:31:04.269563Z",
     "iopub.status.busy": "2021-02-20T16:31:04.269014Z",
     "iopub.status.idle": "2021-02-20T16:31:04.271644Z",
     "shell.execute_reply": "2021-02-20T16:31:04.270997Z"
    }
   },
   "outputs": [],
   "source": [
    "# For selected country\n",
    "# jhu_data.show_complement(country=\"Japan\")\n",
    "# For selected province\n",
    "# jhu_data.show_complement(country=\"Japan\", province=\"Tokyo\")\n",
    "# For selected countries\n",
    "# jhu_data.show_complement(country=[\"Greece\", \"Japan\"])"
   ]
  },
  {
   "cell_type": "markdown",
   "id": "mineral-repository",
   "metadata": {},
   "source": [
    "Note for recovery period:  \n",
    "With the global cases records, we estimate the average recovery period using `JHUData.calculate_recovery_period()`.  \n",
    "\n",
    "What we currently do is to calculate the difference between confirmed cases and fatal cases and try to match it to some recovered cases value in the future. We apply this method for every country that has valid recovery data and average the partial recovery periods in order to obtain a single (average) recovery period. During the calculations, we ignore time intervals that lead to very short (<7 days) or very long (>90 days) partial recovery periods, if these exist with high frequency (>50%) in the records. We have to assume temporarily invariable compartments for this analysis to extract an approximation of the average recovery period.\n",
    "\n",
    "Alternatively, we had tried to use linelist data to get precise value of recovery period (average of recovery date minus confirmation date for cases), but the number of records was too small."
   ]
  },
  {
   "cell_type": "code",
   "execution_count": 22,
   "id": "developing-holly",
   "metadata": {
    "execution": {
     "iopub.execute_input": "2021-02-20T16:31:04.275252Z",
     "iopub.status.busy": "2021-02-20T16:31:04.274714Z",
     "iopub.status.idle": "2021-02-20T16:31:07.955940Z",
     "shell.execute_reply": "2021-02-20T16:31:07.956299Z"
    }
   },
   "outputs": [
    {
     "name": "stdout",
     "output_type": "stream",
     "text": [
      "Average recovery period: 16 [days]\n"
     ]
    }
   ],
   "source": [
    "recovery_period = jhu_data.calculate_recovery_period()\n",
    "print(f\"Average recovery period: {recovery_period} [days]\")"
   ]
  },
  {
   "cell_type": "markdown",
   "id": "specialized-sierra",
   "metadata": {},
   "source": [
    "We can visualize the number of cases with `.map()` method. When `country` is `None`, global map will be shown."
   ]
  },
  {
   "cell_type": "markdown",
   "id": "industrial-cameroon",
   "metadata": {},
   "source": [
    "Global map with country level data:"
   ]
  },
  {
   "cell_type": "code",
   "execution_count": 23,
   "id": "dress-berry",
   "metadata": {
    "execution": {
     "iopub.execute_input": "2021-02-20T16:31:07.963870Z",
     "iopub.status.busy": "2021-02-20T16:31:07.963363Z",
     "iopub.status.idle": "2021-02-20T16:31:08.817361Z",
     "shell.execute_reply": "2021-02-20T16:31:08.817752Z"
    }
   },
   "outputs": [
    {
     "data": {
      "image/png": "[encoded data removed]",
      "text/plain": [
       "<Figure size 648x432 with 2 Axes>"
      ]
     },
     "metadata": {
      "needs_background": "light"
     },
     "output_type": "display_data"
    }
   ],
   "source": [
    "# Global map with country level data\n",
    "jhu_data.map(country=None, variable=\"Infected\")\n",
    "# To set included/exclude some countries\n",
    "# jhu_data.map(country=None, variable=\"Infected\", included=[\"Japan\"])\n",
    "# jhu_data.map(country=None, variable=\"Infected\", excluded=[\"Japan\"])\n",
    "# To change the date\n",
    "# jhu_data.map(country=None, variable=\"Infected\", date=\"01Oct2021\")"
   ]
  },
  {
   "cell_type": "code",
   "execution_count": 24,
   "id": "correct-addiction",
   "metadata": {
    "execution": {
     "iopub.execute_input": "2021-02-20T16:31:08.821323Z",
     "iopub.status.busy": "2021-02-20T16:31:08.820786Z",
     "iopub.status.idle": "2021-02-20T16:31:09.397842Z",
     "shell.execute_reply": "2021-02-20T16:31:09.398169Z"
    }
   },
   "outputs": [
    {
     "data": {
      "text/html": [
       "<div>\n",
       "<style scoped>\n",
       "    .dataframe tbody tr th:only-of-type {\n",
       "        vertical-align: middle;\n",
       "    }\n",
       "\n",
       "    .dataframe tbody tr th {\n",
       "        vertical-align: top;\n",
       "    }\n",
       "\n",
       "    .dataframe thead th {\n",
       "        text-align: right;\n",
       "    }\n",
       "</style>\n",
       "<table border=\"1\" class=\"dataframe\">\n",
       "  <thead>\n",
       "    <tr style=\"text-align: right;\">\n",
       "      <th></th>\n",
       "      <th>ISO3</th>\n",
       "      <th>Date</th>\n",
       "      <th>Country</th>\n",
       "      <th>Confirmed</th>\n",
       "      <th>Infected</th>\n",
       "      <th>Fatal</th>\n",
       "      <th>Recovered</th>\n",
       "    </tr>\n",
       "  </thead>\n",
       "  <tbody>\n",
       "    <tr>\n",
       "      <th>81273</th>\n",
       "      <td>JPN</td>\n",
       "      <td>2021-02-15</td>\n",
       "      <td>Japan</td>\n",
       "      <td>415782</td>\n",
       "      <td>23733</td>\n",
       "      <td>6952</td>\n",
       "      <td>385097</td>\n",
       "    </tr>\n",
       "    <tr>\n",
       "      <th>81274</th>\n",
       "      <td>JPN</td>\n",
       "      <td>2021-02-16</td>\n",
       "      <td>Japan</td>\n",
       "      <td>417765</td>\n",
       "      <td>23010</td>\n",
       "      <td>7015</td>\n",
       "      <td>387740</td>\n",
       "    </tr>\n",
       "    <tr>\n",
       "      <th>81275</th>\n",
       "      <td>JPN</td>\n",
       "      <td>2021-02-17</td>\n",
       "      <td>Japan</td>\n",
       "      <td>419015</td>\n",
       "      <td>20705</td>\n",
       "      <td>7102</td>\n",
       "      <td>391208</td>\n",
       "    </tr>\n",
       "    <tr>\n",
       "      <th>81276</th>\n",
       "      <td>JPN</td>\n",
       "      <td>2021-02-18</td>\n",
       "      <td>Japan</td>\n",
       "      <td>420408</td>\n",
       "      <td>19718</td>\n",
       "      <td>7196</td>\n",
       "      <td>393494</td>\n",
       "    </tr>\n",
       "    <tr>\n",
       "      <th>81277</th>\n",
       "      <td>JPN</td>\n",
       "      <td>2021-02-19</td>\n",
       "      <td>Japan</td>\n",
       "      <td>421967</td>\n",
       "      <td>19201</td>\n",
       "      <td>7274</td>\n",
       "      <td>395492</td>\n",
       "    </tr>\n",
       "  </tbody>\n",
       "</table>\n",
       "</div>"
      ],
      "text/plain": [
       "      ISO3       Date Country  Confirmed  Infected  Fatal  Recovered\n",
       "81273  JPN 2021-02-15   Japan     415782     23733   6952     385097\n",
       "81274  JPN 2021-02-16   Japan     417765     23010   7015     387740\n",
       "81275  JPN 2021-02-17   Japan     419015     20705   7102     391208\n",
       "81276  JPN 2021-02-18   Japan     420408     19718   7196     393494\n",
       "81277  JPN 2021-02-19   Japan     421967     19201   7274     395492"
      ]
     },
     "execution_count": 1,
     "metadata": {},
     "output_type": "execute_result"
    }
   ],
   "source": [
    "# Country level data\n",
    "jhu_data.layer(country=None).tail()"
   ]
  },
  {
   "cell_type": "markdown",
   "id": "general-finland",
   "metadata": {},
   "source": [
    "Country map with province level data:"
   ]
  },
  {
   "cell_type": "code",
   "execution_count": 25,
   "id": "sustained-weather",
   "metadata": {
    "execution": {
     "iopub.execute_input": "2021-02-20T16:31:09.405379Z",
     "iopub.status.busy": "2021-02-20T16:31:09.404884Z",
     "iopub.status.idle": "2021-02-20T16:31:11.570342Z",
     "shell.execute_reply": "2021-02-20T16:31:11.569677Z"
    }
   },
   "outputs": [
    {
     "data": {
      "image/png": "[encoded data removed]",
      "text/plain": [
       "<Figure size 648x432 with 2 Axes>"
      ]
     },
     "metadata": {
      "needs_background": "light"
     },
     "output_type": "display_data"
    }
   ],
   "source": [
    "# Country map with province level data\n",
    "jhu_data.map(country=\"Japan\", variable=\"Infected\")\n",
    "# To set included/exclude some countries\n",
    "# jhu_data.map(country=\"Japan\", variable=\"Infected\", included=[\"Tokyo\"])\n",
    "# jhu_data.map(country=\"Japan\", variable=\"Infected\", excluded=[\"Tokyo\"])\n",
    "# To change the date\n",
    "# jhu_data.map(country=\"Japan\", variable=\"Infected\", date=\"01Oct2021\")"
   ]
  },
  {
   "cell_type": "code",
   "execution_count": 26,
   "id": "continued-digest",
   "metadata": {
    "execution": {
     "iopub.execute_input": "2021-02-20T16:31:11.575233Z",
     "iopub.status.busy": "2021-02-20T16:31:11.574555Z",
     "iopub.status.idle": "2021-02-20T16:31:12.402947Z",
     "shell.execute_reply": "2021-02-20T16:31:12.403341Z"
    }
   },
   "outputs": [
    {
     "data": {
      "text/html": [
       "<div>\n",
       "<style scoped>\n",
       "    .dataframe tbody tr th:only-of-type {\n",
       "        vertical-align: middle;\n",
       "    }\n",
       "\n",
       "    .dataframe tbody tr th {\n",
       "        vertical-align: top;\n",
       "    }\n",
       "\n",
       "    .dataframe thead th {\n",
       "        text-align: right;\n",
       "    }\n",
       "</style>\n",
       "<table border=\"1\" class=\"dataframe\">\n",
       "  <thead>\n",
       "    <tr style=\"text-align: right;\">\n",
       "      <th></th>\n",
       "      <th>ISO3</th>\n",
       "      <th>Date</th>\n",
       "      <th>Country</th>\n",
       "      <th>Province</th>\n",
       "      <th>Confirmed</th>\n",
       "      <th>Infected</th>\n",
       "      <th>Fatal</th>\n",
       "      <th>Recovered</th>\n",
       "    </tr>\n",
       "  </thead>\n",
       "  <tbody>\n",
       "    <tr>\n",
       "      <th>16261</th>\n",
       "      <td>JPN</td>\n",
       "      <td>2021-02-15</td>\n",
       "      <td>Japan</td>\n",
       "      <td>Entering</td>\n",
       "      <td>2199</td>\n",
       "      <td>38</td>\n",
       "      <td>2</td>\n",
       "      <td>2159</td>\n",
       "    </tr>\n",
       "    <tr>\n",
       "      <th>16262</th>\n",
       "      <td>JPN</td>\n",
       "      <td>2021-02-16</td>\n",
       "      <td>Japan</td>\n",
       "      <td>Entering</td>\n",
       "      <td>2200</td>\n",
       "      <td>35</td>\n",
       "      <td>2</td>\n",
       "      <td>2163</td>\n",
       "    </tr>\n",
       "    <tr>\n",
       "      <th>16263</th>\n",
       "      <td>JPN</td>\n",
       "      <td>2021-02-17</td>\n",
       "      <td>Japan</td>\n",
       "      <td>Entering</td>\n",
       "      <td>2201</td>\n",
       "      <td>33</td>\n",
       "      <td>2</td>\n",
       "      <td>2166</td>\n",
       "    </tr>\n",
       "    <tr>\n",
       "      <th>16264</th>\n",
       "      <td>JPN</td>\n",
       "      <td>2021-02-18</td>\n",
       "      <td>Japan</td>\n",
       "      <td>Entering</td>\n",
       "      <td>2205</td>\n",
       "      <td>30</td>\n",
       "      <td>2</td>\n",
       "      <td>2173</td>\n",
       "    </tr>\n",
       "    <tr>\n",
       "      <th>16265</th>\n",
       "      <td>JPN</td>\n",
       "      <td>2021-02-19</td>\n",
       "      <td>Japan</td>\n",
       "      <td>Entering</td>\n",
       "      <td>2205</td>\n",
       "      <td>29</td>\n",
       "      <td>2</td>\n",
       "      <td>2174</td>\n",
       "    </tr>\n",
       "  </tbody>\n",
       "</table>\n",
       "</div>"
      ],
      "text/plain": [
       "      ISO3       Date Country  Province  Confirmed  Infected  Fatal  Recovered\n",
       "16261  JPN 2021-02-15   Japan  Entering       2199        38      2       2159\n",
       "16262  JPN 2021-02-16   Japan  Entering       2200        35      2       2163\n",
       "16263  JPN 2021-02-17   Japan  Entering       2201        33      2       2166\n",
       "16264  JPN 2021-02-18   Japan  Entering       2205        30      2       2173\n",
       "16265  JPN 2021-02-19   Japan  Entering       2205        29      2       2174"
      ]
     },
     "execution_count": 1,
     "metadata": {},
     "output_type": "execute_result"
    }
   ],
   "source": [
    "# Province level data\n",
    "jhu_data.layer(country=\"Japan\").tail()"
   ]
  },
  {
   "cell_type": "markdown",
   "id": "express-tennessee",
   "metadata": {},
   "source": [
    "### Linelist of case reports\n",
    "The number of cases is important, but linelist of case reports will helpful to understand the situation deeply. Linelist data was saved as `linelist`, an instance of `LinelistData` class. This dataset is from [Open COVID-19 Data Working Group](https://github.com/beoutbreakprepared/nCoV2019)."
   ]
  },
  {
   "cell_type": "code",
   "execution_count": 27,
   "id": "similar-disposition",
   "metadata": {
    "collapsed": false,
    "execution": {
     "iopub.execute_input": "2021-02-20T16:31:12.407382Z",
     "iopub.status.busy": "2021-02-20T16:31:12.406815Z",
     "iopub.status.idle": "2021-02-20T16:31:12.409892Z",
     "shell.execute_reply": "2021-02-20T16:31:12.410308Z"
    }
   },
   "outputs": [
    {
     "data": {
      "text/plain": [
       "covsirphy.cleaning.linelist.LinelistData"
      ]
     },
     "execution_count": 1,
     "metadata": {},
     "output_type": "execute_result"
    }
   ],
   "source": [
    "type(linelist)"
   ]
  },
  {
   "cell_type": "code",
   "execution_count": 28,
   "id": "everyday-least",
   "metadata": {
    "collapsed": false,
    "execution": {
     "iopub.execute_input": "2021-02-20T16:31:12.413989Z",
     "iopub.status.busy": "2021-02-20T16:31:12.413462Z",
     "iopub.status.idle": "2021-02-20T16:31:12.416542Z",
     "shell.execute_reply": "2021-02-20T16:31:12.416081Z"
    }
   },
   "outputs": [
    {
     "name": "stdout",
     "output_type": "stream",
     "text": [
      "Xu, B., Gutierrez, B., Mekaru, S. et al. Epidemiological data from the COVID-19 outbreak, real-time case information. Sci Data 7, 106 (2020). https://doi.org/10.1038/s41597-020-0448-0\n"
     ]
    }
   ],
   "source": [
    "# Citation\n",
    "print(linelist.citation)"
   ]
  },
  {
   "cell_type": "code",
   "execution_count": 29,
   "id": "serious-helena",
   "metadata": {
    "collapsed": false,
    "execution": {
     "iopub.execute_input": "2021-02-20T16:31:12.420226Z",
     "iopub.status.busy": "2021-02-20T16:31:12.419693Z",
     "iopub.status.idle": "2021-02-20T16:31:15.647185Z",
     "shell.execute_reply": "2021-02-20T16:31:15.646687Z"
    }
   },
   "outputs": [
    {
     "data": {
      "text/html": [
       "<div>\n",
       "<style scoped>\n",
       "    .dataframe tbody tr th:only-of-type {\n",
       "        vertical-align: middle;\n",
       "    }\n",
       "\n",
       "    .dataframe tbody tr th {\n",
       "        vertical-align: top;\n",
       "    }\n",
       "\n",
       "    .dataframe thead th {\n",
       "        text-align: right;\n",
       "    }\n",
       "</style>\n",
       "<table border=\"1\" class=\"dataframe\">\n",
       "  <thead>\n",
       "    <tr style=\"text-align: right;\">\n",
       "      <th></th>\n",
       "      <th>age</th>\n",
       "      <th>sex</th>\n",
       "      <th>province</th>\n",
       "      <th>country</th>\n",
       "      <th>date_admission_hospital</th>\n",
       "      <th>date_confirmation</th>\n",
       "      <th>symptoms</th>\n",
       "      <th>chronic_disease</th>\n",
       "      <th>outcome</th>\n",
       "      <th>date_death_or_discharge</th>\n",
       "    </tr>\n",
       "  </thead>\n",
       "  <tbody>\n",
       "    <tr>\n",
       "      <th>2676307</th>\n",
       "      <td>52</td>\n",
       "      <td>female</td>\n",
       "      <td>Lima</td>\n",
       "      <td>Peru</td>\n",
       "      <td>NaN</td>\n",
       "      <td>17.05.2020</td>\n",
       "      <td>NaN</td>\n",
       "      <td>NaN</td>\n",
       "      <td>NaN</td>\n",
       "      <td>NaN</td>\n",
       "    </tr>\n",
       "    <tr>\n",
       "      <th>2676308</th>\n",
       "      <td>52</td>\n",
       "      <td>female</td>\n",
       "      <td>Lima</td>\n",
       "      <td>Peru</td>\n",
       "      <td>NaN</td>\n",
       "      <td>17.05.2020</td>\n",
       "      <td>NaN</td>\n",
       "      <td>NaN</td>\n",
       "      <td>NaN</td>\n",
       "      <td>NaN</td>\n",
       "    </tr>\n",
       "    <tr>\n",
       "      <th>2676309</th>\n",
       "      <td>52</td>\n",
       "      <td>male</td>\n",
       "      <td>Callao</td>\n",
       "      <td>Peru</td>\n",
       "      <td>NaN</td>\n",
       "      <td>17.05.2020</td>\n",
       "      <td>NaN</td>\n",
       "      <td>NaN</td>\n",
       "      <td>NaN</td>\n",
       "      <td>NaN</td>\n",
       "    </tr>\n",
       "    <tr>\n",
       "      <th>2676310</th>\n",
       "      <td>52</td>\n",
       "      <td>male</td>\n",
       "      <td>Lima</td>\n",
       "      <td>Peru</td>\n",
       "      <td>NaN</td>\n",
       "      <td>17.05.2020</td>\n",
       "      <td>NaN</td>\n",
       "      <td>NaN</td>\n",
       "      <td>NaN</td>\n",
       "      <td>NaN</td>\n",
       "    </tr>\n",
       "    <tr>\n",
       "      <th>2676311</th>\n",
       "      <td>NaN</td>\n",
       "      <td>NaN</td>\n",
       "      <td>NaN</td>\n",
       "      <td>NaN</td>\n",
       "      <td>NaN</td>\n",
       "      <td>NaN</td>\n",
       "      <td>NaN</td>\n",
       "      <td>NaN</td>\n",
       "      <td>NaN</td>\n",
       "      <td>NaN</td>\n",
       "    </tr>\n",
       "  </tbody>\n",
       "</table>\n",
       "</div>"
      ],
      "text/plain": [
       "         age     sex province country date_admission_hospital  \\\n",
       "2676307   52  female     Lima    Peru                     NaN   \n",
       "2676308   52  female     Lima    Peru                     NaN   \n",
       "2676309   52    male   Callao    Peru                     NaN   \n",
       "2676310   52    male     Lima    Peru                     NaN   \n",
       "2676311  NaN     NaN      NaN     NaN                     NaN   \n",
       "\n",
       "        date_confirmation symptoms chronic_disease outcome  \\\n",
       "2676307        17.05.2020      NaN             NaN     NaN   \n",
       "2676308        17.05.2020      NaN             NaN     NaN   \n",
       "2676309        17.05.2020      NaN             NaN     NaN   \n",
       "2676310        17.05.2020      NaN             NaN     NaN   \n",
       "2676311               NaN      NaN             NaN     NaN   \n",
       "\n",
       "        date_death_or_discharge  \n",
       "2676307                     NaN  \n",
       "2676308                     NaN  \n",
       "2676309                     NaN  \n",
       "2676310                     NaN  \n",
       "2676311                     NaN  "
      ]
     },
     "execution_count": 1,
     "metadata": {},
     "output_type": "execute_result"
    }
   ],
   "source": [
    "# Raw dataset\n",
    "linelist.raw.tail()"
   ]
  },
  {
   "cell_type": "code",
   "execution_count": 30,
   "id": "outstanding-dietary",
   "metadata": {
    "collapsed": false,
    "execution": {
     "iopub.execute_input": "2021-02-20T16:31:15.661706Z",
     "iopub.status.busy": "2021-02-20T16:31:15.661207Z",
     "iopub.status.idle": "2021-02-20T16:31:15.664198Z",
     "shell.execute_reply": "2021-02-20T16:31:15.663701Z"
    }
   },
   "outputs": [
    {
     "data": {
      "text/html": [
       "<div>\n",
       "<style scoped>\n",
       "    .dataframe tbody tr th:only-of-type {\n",
       "        vertical-align: middle;\n",
       "    }\n",
       "\n",
       "    .dataframe tbody tr th {\n",
       "        vertical-align: top;\n",
       "    }\n",
       "\n",
       "    .dataframe thead th {\n",
       "        text-align: right;\n",
       "    }\n",
       "</style>\n",
       "<table border=\"1\" class=\"dataframe\">\n",
       "  <thead>\n",
       "    <tr style=\"text-align: right;\">\n",
       "      <th></th>\n",
       "      <th>Country</th>\n",
       "      <th>Province</th>\n",
       "      <th>Hospitalized_date</th>\n",
       "      <th>Confirmation_date</th>\n",
       "      <th>Outcome_date</th>\n",
       "      <th>Confirmed</th>\n",
       "      <th>Infected</th>\n",
       "      <th>Recovered</th>\n",
       "      <th>Fatal</th>\n",
       "      <th>Symptoms</th>\n",
       "      <th>Chronic_disease</th>\n",
       "      <th>Age</th>\n",
       "      <th>Sex</th>\n",
       "    </tr>\n",
       "  </thead>\n",
       "  <tbody>\n",
       "    <tr>\n",
       "      <th>2676306</th>\n",
       "      <td>Peru</td>\n",
       "      <td>Coronel Portillo</td>\n",
       "      <td>NaT</td>\n",
       "      <td>2020-05-17</td>\n",
       "      <td>NaT</td>\n",
       "      <td>True</td>\n",
       "      <td>False</td>\n",
       "      <td>False</td>\n",
       "      <td>False</td>\n",
       "      <td>NaN</td>\n",
       "      <td>NaN</td>\n",
       "      <td>52.0</td>\n",
       "      <td>female</td>\n",
       "    </tr>\n",
       "    <tr>\n",
       "      <th>2676307</th>\n",
       "      <td>Peru</td>\n",
       "      <td>Lima</td>\n",
       "      <td>NaT</td>\n",
       "      <td>2020-05-17</td>\n",
       "      <td>NaT</td>\n",
       "      <td>True</td>\n",
       "      <td>False</td>\n",
       "      <td>False</td>\n",
       "      <td>False</td>\n",
       "      <td>NaN</td>\n",
       "      <td>NaN</td>\n",
       "      <td>52.0</td>\n",
       "      <td>female</td>\n",
       "    </tr>\n",
       "    <tr>\n",
       "      <th>2676308</th>\n",
       "      <td>Peru</td>\n",
       "      <td>Lima</td>\n",
       "      <td>NaT</td>\n",
       "      <td>2020-05-17</td>\n",
       "      <td>NaT</td>\n",
       "      <td>True</td>\n",
       "      <td>False</td>\n",
       "      <td>False</td>\n",
       "      <td>False</td>\n",
       "      <td>NaN</td>\n",
       "      <td>NaN</td>\n",
       "      <td>52.0</td>\n",
       "      <td>female</td>\n",
       "    </tr>\n",
       "    <tr>\n",
       "      <th>2676309</th>\n",
       "      <td>Peru</td>\n",
       "      <td>Callao</td>\n",
       "      <td>NaT</td>\n",
       "      <td>2020-05-17</td>\n",
       "      <td>NaT</td>\n",
       "      <td>True</td>\n",
       "      <td>False</td>\n",
       "      <td>False</td>\n",
       "      <td>False</td>\n",
       "      <td>NaN</td>\n",
       "      <td>NaN</td>\n",
       "      <td>52.0</td>\n",
       "      <td>male</td>\n",
       "    </tr>\n",
       "    <tr>\n",
       "      <th>2676310</th>\n",
       "      <td>Peru</td>\n",
       "      <td>Lima</td>\n",
       "      <td>NaT</td>\n",
       "      <td>2020-05-17</td>\n",
       "      <td>NaT</td>\n",
       "      <td>True</td>\n",
       "      <td>False</td>\n",
       "      <td>False</td>\n",
       "      <td>False</td>\n",
       "      <td>NaN</td>\n",
       "      <td>NaN</td>\n",
       "      <td>52.0</td>\n",
       "      <td>male</td>\n",
       "    </tr>\n",
       "  </tbody>\n",
       "</table>\n",
       "</div>"
      ],
      "text/plain": [
       "        Country          Province Hospitalized_date Confirmation_date  \\\n",
       "2676306    Peru  Coronel Portillo               NaT        2020-05-17   \n",
       "2676307    Peru              Lima               NaT        2020-05-17   \n",
       "2676308    Peru              Lima               NaT        2020-05-17   \n",
       "2676309    Peru            Callao               NaT        2020-05-17   \n",
       "2676310    Peru              Lima               NaT        2020-05-17   \n",
       "\n",
       "        Outcome_date  Confirmed  Infected  Recovered  Fatal Symptoms  \\\n",
       "2676306          NaT       True     False      False  False      NaN   \n",
       "2676307          NaT       True     False      False  False      NaN   \n",
       "2676308          NaT       True     False      False  False      NaN   \n",
       "2676309          NaT       True     False      False  False      NaN   \n",
       "2676310          NaT       True     False      False  False      NaN   \n",
       "\n",
       "        Chronic_disease   Age     Sex  \n",
       "2676306             NaN  52.0  female  \n",
       "2676307             NaN  52.0  female  \n",
       "2676308             NaN  52.0  female  \n",
       "2676309             NaN  52.0    male  \n",
       "2676310             NaN  52.0    male  "
      ]
     },
     "execution_count": 1,
     "metadata": {},
     "output_type": "execute_result"
    }
   ],
   "source": [
    "# Cleaned dataset\n",
    "linelist.cleaned().tail()"
   ]
  },
  {
   "cell_type": "code",
   "execution_count": 31,
   "id": "finished-package",
   "metadata": {
    "collapsed": false,
    "execution": {
     "iopub.execute_input": "2021-02-20T16:31:15.668034Z",
     "iopub.status.busy": "2021-02-20T16:31:15.667148Z",
     "iopub.status.idle": "2021-02-20T16:31:16.078828Z",
     "shell.execute_reply": "2021-02-20T16:31:16.079160Z"
    }
   },
   "outputs": [
    {
     "data": {
      "text/html": [
       "<div>\n",
       "<style scoped>\n",
       "    .dataframe tbody tr th:only-of-type {\n",
       "        vertical-align: middle;\n",
       "    }\n",
       "\n",
       "    .dataframe tbody tr th {\n",
       "        vertical-align: top;\n",
       "    }\n",
       "\n",
       "    .dataframe thead th {\n",
       "        text-align: right;\n",
       "    }\n",
       "</style>\n",
       "<table border=\"1\" class=\"dataframe\">\n",
       "  <thead>\n",
       "    <tr style=\"text-align: right;\">\n",
       "      <th></th>\n",
       "      <th>Hospitalized_date</th>\n",
       "      <th>Confirmation_date</th>\n",
       "      <th>Outcome_date</th>\n",
       "      <th>Confirmed</th>\n",
       "      <th>Infected</th>\n",
       "      <th>Recovered</th>\n",
       "      <th>Fatal</th>\n",
       "      <th>Symptoms</th>\n",
       "      <th>Chronic_disease</th>\n",
       "      <th>Age</th>\n",
       "      <th>Sex</th>\n",
       "    </tr>\n",
       "  </thead>\n",
       "  <tbody>\n",
       "    <tr>\n",
       "      <th>107</th>\n",
       "      <td>NaT</td>\n",
       "      <td>2020-01-30</td>\n",
       "      <td>NaT</td>\n",
       "      <td>True</td>\n",
       "      <td>False</td>\n",
       "      <td>False</td>\n",
       "      <td>False</td>\n",
       "      <td>NaN</td>\n",
       "      <td>NaN</td>\n",
       "      <td>NaN</td>\n",
       "      <td>female</td>\n",
       "    </tr>\n",
       "    <tr>\n",
       "      <th>108</th>\n",
       "      <td>NaT</td>\n",
       "      <td>2020-01-24</td>\n",
       "      <td>NaT</td>\n",
       "      <td>True</td>\n",
       "      <td>False</td>\n",
       "      <td>True</td>\n",
       "      <td>False</td>\n",
       "      <td>fever:pneumonia:sore throat</td>\n",
       "      <td>NaN</td>\n",
       "      <td>40.0</td>\n",
       "      <td>male</td>\n",
       "    </tr>\n",
       "    <tr>\n",
       "      <th>109</th>\n",
       "      <td>2020-10-01</td>\n",
       "      <td>2020-01-15</td>\n",
       "      <td>2020-01-15</td>\n",
       "      <td>True</td>\n",
       "      <td>False</td>\n",
       "      <td>True</td>\n",
       "      <td>False</td>\n",
       "      <td>cough:fever:sore throat</td>\n",
       "      <td>NaN</td>\n",
       "      <td>30.0</td>\n",
       "      <td>male</td>\n",
       "    </tr>\n",
       "    <tr>\n",
       "      <th>110</th>\n",
       "      <td>NaT</td>\n",
       "      <td>2020-01-25</td>\n",
       "      <td>NaT</td>\n",
       "      <td>True</td>\n",
       "      <td>False</td>\n",
       "      <td>False</td>\n",
       "      <td>False</td>\n",
       "      <td>cough:fever</td>\n",
       "      <td>NaN</td>\n",
       "      <td>NaN</td>\n",
       "      <td>female</td>\n",
       "    </tr>\n",
       "    <tr>\n",
       "      <th>111</th>\n",
       "      <td>NaT</td>\n",
       "      <td>2020-01-26</td>\n",
       "      <td>NaT</td>\n",
       "      <td>True</td>\n",
       "      <td>False</td>\n",
       "      <td>False</td>\n",
       "      <td>False</td>\n",
       "      <td>fever:joint pain:pneumonia</td>\n",
       "      <td>NaN</td>\n",
       "      <td>40.0</td>\n",
       "      <td>male</td>\n",
       "    </tr>\n",
       "  </tbody>\n",
       "</table>\n",
       "</div>"
      ],
      "text/plain": [
       "    Hospitalized_date Confirmation_date Outcome_date  Confirmed  Infected  \\\n",
       "107               NaT        2020-01-30          NaT       True     False   \n",
       "108               NaT        2020-01-24          NaT       True     False   \n",
       "109        2020-10-01        2020-01-15   2020-01-15       True     False   \n",
       "110               NaT        2020-01-25          NaT       True     False   \n",
       "111               NaT        2020-01-26          NaT       True     False   \n",
       "\n",
       "     Recovered  Fatal                     Symptoms Chronic_disease   Age  \\\n",
       "107      False  False                          NaN             NaN   NaN   \n",
       "108       True  False  fever:pneumonia:sore throat             NaN  40.0   \n",
       "109       True  False      cough:fever:sore throat             NaN  30.0   \n",
       "110      False  False                  cough:fever             NaN   NaN   \n",
       "111      False  False   fever:joint pain:pneumonia             NaN  40.0   \n",
       "\n",
       "        Sex  \n",
       "107  female  \n",
       "108    male  \n",
       "109    male  \n",
       "110  female  \n",
       "111    male  "
      ]
     },
     "execution_count": 1,
     "metadata": {},
     "output_type": "execute_result"
    }
   ],
   "source": [
    "# Subset for specified area\n",
    "linelist.subset(\"Japan\", province=\"Tokyo\").tail()"
   ]
  },
  {
   "cell_type": "code",
   "execution_count": 32,
   "id": "fuzzy-topic",
   "metadata": {
    "collapsed": false,
    "execution": {
     "iopub.execute_input": "2021-02-20T16:31:16.082651Z",
     "iopub.status.busy": "2021-02-20T16:31:16.082115Z",
     "iopub.status.idle": "2021-02-20T16:31:16.225165Z",
     "shell.execute_reply": "2021-02-20T16:31:16.224768Z"
    }
   },
   "outputs": [
    {
     "data": {
      "text/html": [
       "<div>\n",
       "<style scoped>\n",
       "    .dataframe tbody tr th:only-of-type {\n",
       "        vertical-align: middle;\n",
       "    }\n",
       "\n",
       "    .dataframe tbody tr th {\n",
       "        vertical-align: top;\n",
       "    }\n",
       "\n",
       "    .dataframe thead th {\n",
       "        text-align: right;\n",
       "    }\n",
       "</style>\n",
       "<table border=\"1\" class=\"dataframe\">\n",
       "  <thead>\n",
       "    <tr style=\"text-align: right;\">\n",
       "      <th></th>\n",
       "      <th>Country</th>\n",
       "      <th>Province</th>\n",
       "      <th>Hospitalized_date</th>\n",
       "      <th>Confirmation_date</th>\n",
       "      <th>Recovered_date</th>\n",
       "      <th>Symptoms</th>\n",
       "      <th>Chronic_disease</th>\n",
       "      <th>Age</th>\n",
       "      <th>Sex</th>\n",
       "    </tr>\n",
       "  </thead>\n",
       "  <tbody>\n",
       "    <tr>\n",
       "      <th>272</th>\n",
       "      <td>Singapore</td>\n",
       "      <td>-</td>\n",
       "      <td>2020-02-02</td>\n",
       "      <td>2020-02-06</td>\n",
       "      <td>2020-02-17</td>\n",
       "      <td>NaN</td>\n",
       "      <td>NaN</td>\n",
       "      <td>39.0</td>\n",
       "      <td>female</td>\n",
       "    </tr>\n",
       "    <tr>\n",
       "      <th>273</th>\n",
       "      <td>Malaysia</td>\n",
       "      <td>Johor</td>\n",
       "      <td>NaT</td>\n",
       "      <td>2020-01-25</td>\n",
       "      <td>2020-02-08</td>\n",
       "      <td>cough:fever</td>\n",
       "      <td>NaN</td>\n",
       "      <td>40.0</td>\n",
       "      <td>male</td>\n",
       "    </tr>\n",
       "    <tr>\n",
       "      <th>274</th>\n",
       "      <td>China</td>\n",
       "      <td>Gansu</td>\n",
       "      <td>2020-07-02</td>\n",
       "      <td>2020-02-08</td>\n",
       "      <td>2020-02-17</td>\n",
       "      <td>diarrhea</td>\n",
       "      <td>NaN</td>\n",
       "      <td>1.0</td>\n",
       "      <td>female</td>\n",
       "    </tr>\n",
       "    <tr>\n",
       "      <th>275</th>\n",
       "      <td>Canada</td>\n",
       "      <td>Ontario</td>\n",
       "      <td>NaT</td>\n",
       "      <td>2020-01-25</td>\n",
       "      <td>2020-01-31</td>\n",
       "      <td>NaN</td>\n",
       "      <td>hypertension</td>\n",
       "      <td>NaN</td>\n",
       "      <td>male</td>\n",
       "    </tr>\n",
       "    <tr>\n",
       "      <th>276</th>\n",
       "      <td>Canada</td>\n",
       "      <td>Ontario</td>\n",
       "      <td>NaT</td>\n",
       "      <td>2020-01-31</td>\n",
       "      <td>2020-02-19</td>\n",
       "      <td>NaN</td>\n",
       "      <td>NaN</td>\n",
       "      <td>NaN</td>\n",
       "      <td>female</td>\n",
       "    </tr>\n",
       "  </tbody>\n",
       "</table>\n",
       "</div>"
      ],
      "text/plain": [
       "       Country Province Hospitalized_date Confirmation_date Recovered_date  \\\n",
       "272  Singapore        -        2020-02-02        2020-02-06     2020-02-17   \n",
       "273   Malaysia    Johor               NaT        2020-01-25     2020-02-08   \n",
       "274      China    Gansu        2020-07-02        2020-02-08     2020-02-17   \n",
       "275     Canada  Ontario               NaT        2020-01-25     2020-01-31   \n",
       "276     Canada  Ontario               NaT        2020-01-31     2020-02-19   \n",
       "\n",
       "        Symptoms Chronic_disease   Age     Sex  \n",
       "272          NaN             NaN  39.0  female  \n",
       "273  cough:fever             NaN  40.0    male  \n",
       "274     diarrhea             NaN   1.0  female  \n",
       "275          NaN    hypertension   NaN    male  \n",
       "276          NaN             NaN   NaN  female  "
      ]
     },
     "execution_count": 1,
     "metadata": {},
     "output_type": "execute_result"
    }
   ],
   "source": [
    "# Subset for outcome (\"Recovered\" or \"Fatal\")\n",
    "linelist.closed(outcome=\"Recovered\").tail()"
   ]
  },
  {
   "cell_type": "markdown",
   "id": "ignored-deployment",
   "metadata": {},
   "source": [
    "As the median value of the period from confirmation to recovery, we can calculate recovery period."
   ]
  },
  {
   "cell_type": "code",
   "execution_count": 33,
   "id": "broken-publicity",
   "metadata": {
    "collapsed": false,
    "execution": {
     "iopub.execute_input": "2021-02-20T16:31:16.229475Z",
     "iopub.status.busy": "2021-02-20T16:31:16.228457Z",
     "iopub.status.idle": "2021-02-20T16:31:16.307855Z",
     "shell.execute_reply": "2021-02-20T16:31:16.308202Z"
    }
   },
   "outputs": [
    {
     "data": {
      "text/plain": [
       "12"
      ]
     },
     "execution_count": 1,
     "metadata": {},
     "output_type": "execute_result"
    }
   ],
   "source": [
    "# Recovery period (integer) [days]\n",
    "linelist.recovery_period()"
   ]
  },
  {
   "cell_type": "markdown",
   "id": "flush-mauritius",
   "metadata": {},
   "source": [
    "### Population in each country\n",
    "Population values are necessary to calculate the number of susceptible people. Susceptible is a variable of SIR-derived models. This dataset was saved as `population_data`, an instance of `PopulationData` class."
   ]
  },
  {
   "cell_type": "code",
   "execution_count": 34,
   "id": "scenic-fellow",
   "metadata": {
    "collapsed": false,
    "execution": {
     "iopub.execute_input": "2021-02-20T16:31:16.312137Z",
     "iopub.status.busy": "2021-02-20T16:31:16.311370Z",
     "iopub.status.idle": "2021-02-20T16:31:16.314495Z",
     "shell.execute_reply": "2021-02-20T16:31:16.314827Z"
    }
   },
   "outputs": [
    {
     "data": {
      "text/plain": [
       "covsirphy.cleaning.population.PopulationData"
      ]
     },
     "execution_count": 1,
     "metadata": {},
     "output_type": "execute_result"
    }
   ],
   "source": [
    "type(population_data)"
   ]
  },
  {
   "cell_type": "code",
   "execution_count": 35,
   "id": "romance-hungary",
   "metadata": {
    "collapsed": false,
    "execution": {
     "iopub.execute_input": "2021-02-20T16:31:16.318139Z",
     "iopub.status.busy": "2021-02-20T16:31:16.317672Z",
     "iopub.status.idle": "2021-02-20T16:31:16.320239Z",
     "shell.execute_reply": "2021-02-20T16:31:16.319777Z"
    },
    "tags": []
   },
   "outputs": [
    {
     "name": "stdout",
     "output_type": "stream",
     "text": [
      "(Secondary source) Guidotti, E., Ardia, D., (2020), \"COVID-19 Data Hub\", Journal of Open Source Software 5(51):2376, doi: 10.21105/joss.02376.\n"
     ]
    }
   ],
   "source": [
    "# Description/citation\n",
    "print(population_data.citation)"
   ]
  },
  {
   "cell_type": "code",
   "execution_count": 36,
   "id": "streaming-egyptian",
   "metadata": {
    "collapsed": false,
    "execution": {
     "iopub.execute_input": "2021-02-20T16:31:16.322990Z",
     "iopub.status.busy": "2021-02-20T16:31:16.322531Z",
     "iopub.status.idle": "2021-02-20T16:31:16.324700Z",
     "shell.execute_reply": "2021-02-20T16:31:16.325046Z"
    }
   },
   "outputs": [],
   "source": [
    "# Raw data (the same as jhu_data)\n",
    "# population_data.raw.tail()"
   ]
  },
  {
   "cell_type": "code",
   "execution_count": 37,
   "id": "verbal-intellectual",
   "metadata": {
    "collapsed": false,
    "execution": {
     "iopub.execute_input": "2021-02-20T16:31:16.333215Z",
     "iopub.status.busy": "2021-02-20T16:31:16.332653Z",
     "iopub.status.idle": "2021-02-20T16:31:16.335366Z",
     "shell.execute_reply": "2021-02-20T16:31:16.335697Z"
    }
   },
   "outputs": [
    {
     "data": {
      "text/html": [
       "<div>\n",
       "<style scoped>\n",
       "    .dataframe tbody tr th:only-of-type {\n",
       "        vertical-align: middle;\n",
       "    }\n",
       "\n",
       "    .dataframe tbody tr th {\n",
       "        vertical-align: top;\n",
       "    }\n",
       "\n",
       "    .dataframe thead th {\n",
       "        text-align: right;\n",
       "    }\n",
       "</style>\n",
       "<table border=\"1\" class=\"dataframe\">\n",
       "  <thead>\n",
       "    <tr style=\"text-align: right;\">\n",
       "      <th></th>\n",
       "      <th>ISO3</th>\n",
       "      <th>Country</th>\n",
       "      <th>Province</th>\n",
       "      <th>Date</th>\n",
       "      <th>Population</th>\n",
       "    </tr>\n",
       "  </thead>\n",
       "  <tbody>\n",
       "    <tr>\n",
       "      <th>358615</th>\n",
       "      <td>COL</td>\n",
       "      <td>Colombia</td>\n",
       "      <td>Vichada</td>\n",
       "      <td>2021-02-16</td>\n",
       "      <td>107808</td>\n",
       "    </tr>\n",
       "    <tr>\n",
       "      <th>358616</th>\n",
       "      <td>COL</td>\n",
       "      <td>Colombia</td>\n",
       "      <td>Vichada</td>\n",
       "      <td>2021-02-17</td>\n",
       "      <td>107808</td>\n",
       "    </tr>\n",
       "    <tr>\n",
       "      <th>358617</th>\n",
       "      <td>COL</td>\n",
       "      <td>Colombia</td>\n",
       "      <td>Vichada</td>\n",
       "      <td>2021-02-18</td>\n",
       "      <td>107808</td>\n",
       "    </tr>\n",
       "    <tr>\n",
       "      <th>358618</th>\n",
       "      <td>COL</td>\n",
       "      <td>Colombia</td>\n",
       "      <td>Vichada</td>\n",
       "      <td>2021-02-19</td>\n",
       "      <td>107808</td>\n",
       "    </tr>\n",
       "    <tr>\n",
       "      <th>358619</th>\n",
       "      <td>COL</td>\n",
       "      <td>Colombia</td>\n",
       "      <td>Vichada</td>\n",
       "      <td>2021-02-20</td>\n",
       "      <td>107808</td>\n",
       "    </tr>\n",
       "  </tbody>\n",
       "</table>\n",
       "</div>"
      ],
      "text/plain": [
       "       ISO3   Country Province       Date  Population\n",
       "358615  COL  Colombia  Vichada 2021-02-16      107808\n",
       "358616  COL  Colombia  Vichada 2021-02-17      107808\n",
       "358617  COL  Colombia  Vichada 2021-02-18      107808\n",
       "358618  COL  Colombia  Vichada 2021-02-19      107808\n",
       "358619  COL  Colombia  Vichada 2021-02-20      107808"
      ]
     },
     "execution_count": 1,
     "metadata": {},
     "output_type": "execute_result"
    }
   ],
   "source": [
    "# Cleaned data\n",
    "population_data.cleaned().tail()"
   ]
  },
  {
   "cell_type": "markdown",
   "id": "private-chosen",
   "metadata": {},
   "source": [
    "We will get the population values with `PopulationData.value()`."
   ]
  },
  {
   "cell_type": "code",
   "execution_count": 38,
   "id": "optional-ceremony",
   "metadata": {
    "collapsed": false,
    "execution": {
     "iopub.execute_input": "2021-02-20T16:31:16.339104Z",
     "iopub.status.busy": "2021-02-20T16:31:16.338591Z",
     "iopub.status.idle": "2021-02-20T16:31:16.855289Z",
     "shell.execute_reply": "2021-02-20T16:31:16.855658Z"
    }
   },
   "outputs": [
    {
     "data": {
      "text/plain": [
       "126529100"
      ]
     },
     "execution_count": 1,
     "metadata": {},
     "output_type": "execute_result"
    }
   ],
   "source": [
    "# In a country\n",
    "population_data.value(\"Japan\", province=None)\n",
    "# In a country with ISO3 code\n",
    "# population_data.value(\"JPN\", province=None)\n",
    "# In a province (prefecture)\n",
    "# population_data.value(\"Japan\", province=\"Tokyo\")"
   ]
  },
  {
   "cell_type": "markdown",
   "id": "accepted-austria",
   "metadata": {},
   "source": [
    "We can update the population values."
   ]
  },
  {
   "cell_type": "code",
   "execution_count": 39,
   "id": "coordinate-phrase",
   "metadata": {
    "collapsed": false,
    "execution": {
     "iopub.execute_input": "2021-02-20T16:31:16.860113Z",
     "iopub.status.busy": "2021-02-20T16:31:16.859545Z",
     "iopub.status.idle": "2021-02-20T16:31:17.656912Z",
     "shell.execute_reply": "2021-02-20T16:31:17.657320Z"
    }
   },
   "outputs": [
    {
     "name": "stdout",
     "output_type": "stream",
     "text": [
      "Before: 13942856\n"
     ]
    },
    {
     "name": "stdout",
     "output_type": "stream",
     "text": [
      " After: 14002973\n"
     ]
    }
   ],
   "source": [
    "# Before\n",
    "population_before = population_data.value(\"Japan\", province=\"Tokyo\")\n",
    "print(f\"Before: {population_before}\")\n",
    "# Register population value of Tokyo in Japan\n",
    "# https://www.metro.tokyo.lg.jp/tosei/hodohappyo/press/2020/06/11/07.html\n",
    "population_data.update(14_002_973, \"Japan\", province=\"Tokyo\")\n",
    "population_after = population_data.value(\"Japan\", province=\"Tokyo\")\n",
    "print(f\" After: {population_after}\")"
   ]
  },
  {
   "cell_type": "markdown",
   "id": "complex-hawaiian",
   "metadata": {},
   "source": [
    "We can visualize the number of cases with `.map()` method. When `country` is `None`, global map will be shown. Arguments are the same as `JHUData`, but variable name cannot be specified."
   ]
  },
  {
   "cell_type": "code",
   "execution_count": 40,
   "id": "abroad-miniature",
   "metadata": {
    "execution": {
     "iopub.execute_input": "2021-02-20T16:31:17.662289Z",
     "iopub.status.busy": "2021-02-20T16:31:17.661488Z",
     "iopub.status.idle": "2021-02-20T16:31:18.535588Z",
     "shell.execute_reply": "2021-02-20T16:31:18.535030Z"
    }
   },
   "outputs": [
    {
     "data": {
      "image/png": "[encoded data removed]",
      "text/plain": [
       "<Figure size 648x432 with 2 Axes>"
      ]
     },
     "metadata": {
      "needs_background": "light"
     },
     "output_type": "display_data"
    }
   ],
   "source": [
    "# Global map with country level data\n",
    "population_data.map(country=None)"
   ]
  },
  {
   "cell_type": "code",
   "execution_count": 41,
   "id": "fatty-antenna",
   "metadata": {
    "execution": {
     "iopub.execute_input": "2021-02-20T16:31:18.539322Z",
     "iopub.status.busy": "2021-02-20T16:31:18.538712Z",
     "iopub.status.idle": "2021-02-20T16:31:18.691285Z",
     "shell.execute_reply": "2021-02-20T16:31:18.691704Z"
    }
   },
   "outputs": [
    {
     "data": {
      "text/html": [
       "<div>\n",
       "<style scoped>\n",
       "    .dataframe tbody tr th:only-of-type {\n",
       "        vertical-align: middle;\n",
       "    }\n",
       "\n",
       "    .dataframe tbody tr th {\n",
       "        vertical-align: top;\n",
       "    }\n",
       "\n",
       "    .dataframe thead th {\n",
       "        text-align: right;\n",
       "    }\n",
       "</style>\n",
       "<table border=\"1\" class=\"dataframe\">\n",
       "  <thead>\n",
       "    <tr style=\"text-align: right;\">\n",
       "      <th></th>\n",
       "      <th>ISO3</th>\n",
       "      <th>Country</th>\n",
       "      <th>Date</th>\n",
       "      <th>Population</th>\n",
       "    </tr>\n",
       "  </thead>\n",
       "  <tbody>\n",
       "    <tr>\n",
       "      <th>81310</th>\n",
       "      <td>ZWE</td>\n",
       "      <td>Zimbabwe</td>\n",
       "      <td>2021-02-16</td>\n",
       "      <td>14439018</td>\n",
       "    </tr>\n",
       "    <tr>\n",
       "      <th>81311</th>\n",
       "      <td>ZWE</td>\n",
       "      <td>Zimbabwe</td>\n",
       "      <td>2021-02-17</td>\n",
       "      <td>14439018</td>\n",
       "    </tr>\n",
       "    <tr>\n",
       "      <th>81312</th>\n",
       "      <td>ZWE</td>\n",
       "      <td>Zimbabwe</td>\n",
       "      <td>2021-02-18</td>\n",
       "      <td>14439018</td>\n",
       "    </tr>\n",
       "    <tr>\n",
       "      <th>81313</th>\n",
       "      <td>ZWE</td>\n",
       "      <td>Zimbabwe</td>\n",
       "      <td>2021-02-19</td>\n",
       "      <td>14439018</td>\n",
       "    </tr>\n",
       "    <tr>\n",
       "      <th>81314</th>\n",
       "      <td>ZWE</td>\n",
       "      <td>Zimbabwe</td>\n",
       "      <td>2021-02-20</td>\n",
       "      <td>14439018</td>\n",
       "    </tr>\n",
       "  </tbody>\n",
       "</table>\n",
       "</div>"
      ],
      "text/plain": [
       "      ISO3   Country       Date  Population\n",
       "81310  ZWE  Zimbabwe 2021-02-16    14439018\n",
       "81311  ZWE  Zimbabwe 2021-02-17    14439018\n",
       "81312  ZWE  Zimbabwe 2021-02-18    14439018\n",
       "81313  ZWE  Zimbabwe 2021-02-19    14439018\n",
       "81314  ZWE  Zimbabwe 2021-02-20    14439018"
      ]
     },
     "execution_count": 1,
     "metadata": {},
     "output_type": "execute_result"
    }
   ],
   "source": [
    "# Country level data\n",
    "population_data.layer(country=None).tail()"
   ]
  },
  {
   "cell_type": "code",
   "execution_count": 42,
   "id": "generous-supplement",
   "metadata": {
    "execution": {
     "iopub.execute_input": "2021-02-20T16:31:18.695232Z",
     "iopub.status.busy": "2021-02-20T16:31:18.694728Z",
     "iopub.status.idle": "2021-02-20T16:31:20.092700Z",
     "shell.execute_reply": "2021-02-20T16:31:20.093088Z"
    }
   },
   "outputs": [
    {
     "data": {
      "image/png": "[encoded data removed]",
      "text/plain": [
       "<Figure size 648x432 with 2 Axes>"
      ]
     },
     "metadata": {
      "needs_background": "light"
     },
     "output_type": "display_data"
    }
   ],
   "source": [
    "# Country map with province level data\n",
    "population_data.map(country=\"Japan\")"
   ]
  },
  {
   "cell_type": "code",
   "execution_count": 43,
   "id": "fundamental-hardwood",
   "metadata": {
    "execution": {
     "iopub.execute_input": "2021-02-20T16:31:20.097780Z",
     "iopub.status.busy": "2021-02-20T16:31:20.097170Z",
     "iopub.status.idle": "2021-02-20T16:31:20.265465Z",
     "shell.execute_reply": "2021-02-20T16:31:20.265845Z"
    }
   },
   "outputs": [
    {
     "data": {
      "text/html": [
       "<div>\n",
       "<style scoped>\n",
       "    .dataframe tbody tr th:only-of-type {\n",
       "        vertical-align: middle;\n",
       "    }\n",
       "\n",
       "    .dataframe tbody tr th {\n",
       "        vertical-align: top;\n",
       "    }\n",
       "\n",
       "    .dataframe thead th {\n",
       "        text-align: right;\n",
       "    }\n",
       "</style>\n",
       "<table border=\"1\" class=\"dataframe\">\n",
       "  <thead>\n",
       "    <tr style=\"text-align: right;\">\n",
       "      <th></th>\n",
       "      <th>ISO3</th>\n",
       "      <th>Country</th>\n",
       "      <th>Province</th>\n",
       "      <th>Date</th>\n",
       "      <th>Population</th>\n",
       "    </tr>\n",
       "  </thead>\n",
       "  <tbody>\n",
       "    <tr>\n",
       "      <th>19595</th>\n",
       "      <td>JPN</td>\n",
       "      <td>Japan</td>\n",
       "      <td>Kagawa</td>\n",
       "      <td>2021-02-17</td>\n",
       "      <td>956069</td>\n",
       "    </tr>\n",
       "    <tr>\n",
       "      <th>19596</th>\n",
       "      <td>JPN</td>\n",
       "      <td>Japan</td>\n",
       "      <td>Kagawa</td>\n",
       "      <td>2021-02-18</td>\n",
       "      <td>956069</td>\n",
       "    </tr>\n",
       "    <tr>\n",
       "      <th>19597</th>\n",
       "      <td>JPN</td>\n",
       "      <td>Japan</td>\n",
       "      <td>Kagawa</td>\n",
       "      <td>2021-02-19</td>\n",
       "      <td>956069</td>\n",
       "    </tr>\n",
       "    <tr>\n",
       "      <th>19598</th>\n",
       "      <td>JPN</td>\n",
       "      <td>Japan</td>\n",
       "      <td>Kagawa</td>\n",
       "      <td>2021-02-20</td>\n",
       "      <td>956069</td>\n",
       "    </tr>\n",
       "    <tr>\n",
       "      <th>19599</th>\n",
       "      <td>-</td>\n",
       "      <td>Japan</td>\n",
       "      <td>Tokyo</td>\n",
       "      <td>2021-02-21</td>\n",
       "      <td>14002973</td>\n",
       "    </tr>\n",
       "  </tbody>\n",
       "</table>\n",
       "</div>"
      ],
      "text/plain": [
       "      ISO3 Country Province       Date  Population\n",
       "19595  JPN   Japan   Kagawa 2021-02-17      956069\n",
       "19596  JPN   Japan   Kagawa 2021-02-18      956069\n",
       "19597  JPN   Japan   Kagawa 2021-02-19      956069\n",
       "19598  JPN   Japan   Kagawa 2021-02-20      956069\n",
       "19599    -   Japan    Tokyo 2021-02-21    14002973"
      ]
     },
     "execution_count": 1,
     "metadata": {},
     "output_type": "execute_result"
    }
   ],
   "source": [
    "# Province level data\n",
    "population_data.layer(country=\"Japan\").tail()"
   ]
  },
  {
   "cell_type": "markdown",
   "id": "limiting-brazil",
   "metadata": {},
   "source": [
    "### Government Response Tracker (OxCGRT)\n",
    "Government responses are tracked with [Oxford Covid-19 Government Response Tracker (OxCGRT)](https://github.com/OxCGRT/covid-policy-tracker). Because government responses and activities of persons change the parameter values of SIR-derived models, this dataset is significant when we try to forcast the number of cases.  \n",
    "With `DataLoader` class, the dataset was retrieved via [COVID-19 Data Hub](https://covid19datahub.io/) and saved as `oxcgrt_data`, an instance of `OxCGRTData` class."
   ]
  },
  {
   "cell_type": "code",
   "execution_count": 44,
   "id": "parliamentary-circus",
   "metadata": {
    "collapsed": false,
    "execution": {
     "iopub.execute_input": "2021-02-20T16:31:20.269637Z",
     "iopub.status.busy": "2021-02-20T16:31:20.269116Z",
     "iopub.status.idle": "2021-02-20T16:31:20.271721Z",
     "shell.execute_reply": "2021-02-20T16:31:20.272097Z"
    }
   },
   "outputs": [
    {
     "data": {
      "text/plain": [
       "covsirphy.cleaning.oxcgrt.OxCGRTData"
      ]
     },
     "execution_count": 1,
     "metadata": {},
     "output_type": "execute_result"
    }
   ],
   "source": [
    "type(oxcgrt_data)"
   ]
  },
  {
   "cell_type": "code",
   "execution_count": 45,
   "id": "coral-visiting",
   "metadata": {
    "collapsed": false,
    "execution": {
     "iopub.execute_input": "2021-02-20T16:31:20.275418Z",
     "iopub.status.busy": "2021-02-20T16:31:20.274912Z",
     "iopub.status.idle": "2021-02-20T16:31:20.277329Z",
     "shell.execute_reply": "2021-02-20T16:31:20.276838Z"
    },
    "tags": []
   },
   "outputs": [
    {
     "name": "stdout",
     "output_type": "stream",
     "text": [
      "(Secondary source) Guidotti, E., Ardia, D., (2020), \"COVID-19 Data Hub\", Journal of Open Source Software 5(51):2376, doi: 10.21105/joss.02376.\n"
     ]
    }
   ],
   "source": [
    "# Description/citation\n",
    "print(oxcgrt_data.citation)"
   ]
  },
  {
   "cell_type": "code",
   "execution_count": 46,
   "id": "incomplete-algorithm",
   "metadata": {
    "collapsed": false,
    "execution": {
     "iopub.execute_input": "2021-02-20T16:31:20.280300Z",
     "iopub.status.busy": "2021-02-20T16:31:20.279790Z",
     "iopub.status.idle": "2021-02-20T16:31:20.281840Z",
     "shell.execute_reply": "2021-02-20T16:31:20.282289Z"
    }
   },
   "outputs": [],
   "source": [
    "# Raw data (the same as jhu_data)\n",
    "# oxcgrt_data.raw.tail()"
   ]
  },
  {
   "cell_type": "code",
   "execution_count": 47,
   "id": "floral-benchmark",
   "metadata": {
    "collapsed": false,
    "execution": {
     "iopub.execute_input": "2021-02-20T16:31:20.289344Z",
     "iopub.status.busy": "2021-02-20T16:31:20.288860Z",
     "iopub.status.idle": "2021-02-20T16:31:20.296551Z",
     "shell.execute_reply": "2021-02-20T16:31:20.296936Z"
    }
   },
   "outputs": [
    {
     "data": {
      "text/html": [
       "<div>\n",
       "<style scoped>\n",
       "    .dataframe tbody tr th:only-of-type {\n",
       "        vertical-align: middle;\n",
       "    }\n",
       "\n",
       "    .dataframe tbody tr th {\n",
       "        vertical-align: top;\n",
       "    }\n",
       "\n",
       "    .dataframe thead th {\n",
       "        text-align: right;\n",
       "    }\n",
       "</style>\n",
       "<table border=\"1\" class=\"dataframe\">\n",
       "  <thead>\n",
       "    <tr style=\"text-align: right;\">\n",
       "      <th></th>\n",
       "      <th>Date</th>\n",
       "      <th>Country</th>\n",
       "      <th>ISO3</th>\n",
       "      <th>School_closing</th>\n",
       "      <th>Workplace_closing</th>\n",
       "      <th>Cancel_events</th>\n",
       "      <th>Gatherings_restrictions</th>\n",
       "      <th>Transport_closing</th>\n",
       "      <th>Stay_home_restrictions</th>\n",
       "      <th>Internal_movement_restrictions</th>\n",
       "      <th>International_movement_restrictions</th>\n",
       "      <th>Information_campaigns</th>\n",
       "      <th>Testing_policy</th>\n",
       "      <th>Contact_tracing</th>\n",
       "      <th>Stringency_index</th>\n",
       "    </tr>\n",
       "  </thead>\n",
       "  <tbody>\n",
       "    <tr>\n",
       "      <th>29418</th>\n",
       "      <td>2021-02-16</td>\n",
       "      <td>Colombia</td>\n",
       "      <td>COL</td>\n",
       "      <td>3</td>\n",
       "      <td>1</td>\n",
       "      <td>1</td>\n",
       "      <td>3</td>\n",
       "      <td>1</td>\n",
       "      <td>1</td>\n",
       "      <td>1</td>\n",
       "      <td>4</td>\n",
       "      <td>2</td>\n",
       "      <td>2</td>\n",
       "      <td>2</td>\n",
       "      <td>81.02</td>\n",
       "    </tr>\n",
       "    <tr>\n",
       "      <th>29419</th>\n",
       "      <td>2021-02-17</td>\n",
       "      <td>Colombia</td>\n",
       "      <td>COL</td>\n",
       "      <td>3</td>\n",
       "      <td>1</td>\n",
       "      <td>1</td>\n",
       "      <td>3</td>\n",
       "      <td>1</td>\n",
       "      <td>1</td>\n",
       "      <td>1</td>\n",
       "      <td>4</td>\n",
       "      <td>2</td>\n",
       "      <td>2</td>\n",
       "      <td>2</td>\n",
       "      <td>81.02</td>\n",
       "    </tr>\n",
       "    <tr>\n",
       "      <th>29420</th>\n",
       "      <td>2021-02-18</td>\n",
       "      <td>Colombia</td>\n",
       "      <td>COL</td>\n",
       "      <td>3</td>\n",
       "      <td>1</td>\n",
       "      <td>1</td>\n",
       "      <td>3</td>\n",
       "      <td>1</td>\n",
       "      <td>1</td>\n",
       "      <td>1</td>\n",
       "      <td>4</td>\n",
       "      <td>2</td>\n",
       "      <td>2</td>\n",
       "      <td>2</td>\n",
       "      <td>81.02</td>\n",
       "    </tr>\n",
       "    <tr>\n",
       "      <th>29421</th>\n",
       "      <td>2021-02-19</td>\n",
       "      <td>Colombia</td>\n",
       "      <td>COL</td>\n",
       "      <td>3</td>\n",
       "      <td>1</td>\n",
       "      <td>1</td>\n",
       "      <td>3</td>\n",
       "      <td>1</td>\n",
       "      <td>1</td>\n",
       "      <td>1</td>\n",
       "      <td>4</td>\n",
       "      <td>2</td>\n",
       "      <td>2</td>\n",
       "      <td>2</td>\n",
       "      <td>81.02</td>\n",
       "    </tr>\n",
       "    <tr>\n",
       "      <th>29422</th>\n",
       "      <td>2021-02-20</td>\n",
       "      <td>Colombia</td>\n",
       "      <td>COL</td>\n",
       "      <td>3</td>\n",
       "      <td>1</td>\n",
       "      <td>1</td>\n",
       "      <td>3</td>\n",
       "      <td>1</td>\n",
       "      <td>1</td>\n",
       "      <td>1</td>\n",
       "      <td>4</td>\n",
       "      <td>2</td>\n",
       "      <td>2</td>\n",
       "      <td>2</td>\n",
       "      <td>81.02</td>\n",
       "    </tr>\n",
       "  </tbody>\n",
       "</table>\n",
       "</div>"
      ],
      "text/plain": [
       "            Date   Country ISO3  School_closing  Workplace_closing  \\\n",
       "29418 2021-02-16  Colombia  COL               3                  1   \n",
       "29419 2021-02-17  Colombia  COL               3                  1   \n",
       "29420 2021-02-18  Colombia  COL               3                  1   \n",
       "29421 2021-02-19  Colombia  COL               3                  1   \n",
       "29422 2021-02-20  Colombia  COL               3                  1   \n",
       "\n",
       "       Cancel_events  Gatherings_restrictions  Transport_closing  \\\n",
       "29418              1                        3                  1   \n",
       "29419              1                        3                  1   \n",
       "29420              1                        3                  1   \n",
       "29421              1                        3                  1   \n",
       "29422              1                        3                  1   \n",
       "\n",
       "       Stay_home_restrictions  Internal_movement_restrictions  \\\n",
       "29418                       1                               1   \n",
       "29419                       1                               1   \n",
       "29420                       1                               1   \n",
       "29421                       1                               1   \n",
       "29422                       1                               1   \n",
       "\n",
       "       International_movement_restrictions  Information_campaigns  \\\n",
       "29418                                    4                      2   \n",
       "29419                                    4                      2   \n",
       "29420                                    4                      2   \n",
       "29421                                    4                      2   \n",
       "29422                                    4                      2   \n",
       "\n",
       "       Testing_policy  Contact_tracing  Stringency_index  \n",
       "29418               2                2             81.02  \n",
       "29419               2                2             81.02  \n",
       "29420               2                2             81.02  \n",
       "29421               2                2             81.02  \n",
       "29422               2                2             81.02  "
      ]
     },
     "execution_count": 1,
     "metadata": {},
     "output_type": "execute_result"
    }
   ],
   "source": [
    "# Cleaned data\n",
    "oxcgrt_data.cleaned().tail()"
   ]
  },
  {
   "cell_type": "code",
   "execution_count": 48,
   "id": "lonely-certification",
   "metadata": {
    "collapsed": false,
    "execution": {
     "iopub.execute_input": "2021-02-20T16:31:20.300445Z",
     "iopub.status.busy": "2021-02-20T16:31:20.299956Z",
     "iopub.status.idle": "2021-02-20T16:31:21.154802Z",
     "shell.execute_reply": "2021-02-20T16:31:21.155175Z"
    }
   },
   "outputs": [
    {
     "data": {
      "text/html": [
       "<div>\n",
       "<style scoped>\n",
       "    .dataframe tbody tr th:only-of-type {\n",
       "        vertical-align: middle;\n",
       "    }\n",
       "\n",
       "    .dataframe tbody tr th {\n",
       "        vertical-align: top;\n",
       "    }\n",
       "\n",
       "    .dataframe thead th {\n",
       "        text-align: right;\n",
       "    }\n",
       "</style>\n",
       "<table border=\"1\" class=\"dataframe\">\n",
       "  <thead>\n",
       "    <tr style=\"text-align: right;\">\n",
       "      <th></th>\n",
       "      <th>Date</th>\n",
       "      <th>School_closing</th>\n",
       "      <th>Workplace_closing</th>\n",
       "      <th>Cancel_events</th>\n",
       "      <th>Gatherings_restrictions</th>\n",
       "      <th>Transport_closing</th>\n",
       "      <th>Stay_home_restrictions</th>\n",
       "      <th>Internal_movement_restrictions</th>\n",
       "      <th>International_movement_restrictions</th>\n",
       "      <th>Information_campaigns</th>\n",
       "      <th>Testing_policy</th>\n",
       "      <th>Contact_tracing</th>\n",
       "      <th>Stringency_index</th>\n",
       "    </tr>\n",
       "  </thead>\n",
       "  <tbody>\n",
       "    <tr>\n",
       "      <th>412</th>\n",
       "      <td>2021-02-16</td>\n",
       "      <td>1</td>\n",
       "      <td>1</td>\n",
       "      <td>1</td>\n",
       "      <td>0</td>\n",
       "      <td>1</td>\n",
       "      <td>1</td>\n",
       "      <td>1</td>\n",
       "      <td>4</td>\n",
       "      <td>2</td>\n",
       "      <td>2</td>\n",
       "      <td>1</td>\n",
       "      <td>49.54</td>\n",
       "    </tr>\n",
       "    <tr>\n",
       "      <th>413</th>\n",
       "      <td>2021-02-17</td>\n",
       "      <td>1</td>\n",
       "      <td>1</td>\n",
       "      <td>1</td>\n",
       "      <td>0</td>\n",
       "      <td>1</td>\n",
       "      <td>1</td>\n",
       "      <td>1</td>\n",
       "      <td>4</td>\n",
       "      <td>2</td>\n",
       "      <td>2</td>\n",
       "      <td>1</td>\n",
       "      <td>49.54</td>\n",
       "    </tr>\n",
       "    <tr>\n",
       "      <th>414</th>\n",
       "      <td>2021-02-18</td>\n",
       "      <td>1</td>\n",
       "      <td>1</td>\n",
       "      <td>1</td>\n",
       "      <td>0</td>\n",
       "      <td>1</td>\n",
       "      <td>1</td>\n",
       "      <td>1</td>\n",
       "      <td>4</td>\n",
       "      <td>2</td>\n",
       "      <td>2</td>\n",
       "      <td>1</td>\n",
       "      <td>49.54</td>\n",
       "    </tr>\n",
       "    <tr>\n",
       "      <th>415</th>\n",
       "      <td>2021-02-19</td>\n",
       "      <td>1</td>\n",
       "      <td>1</td>\n",
       "      <td>1</td>\n",
       "      <td>0</td>\n",
       "      <td>1</td>\n",
       "      <td>1</td>\n",
       "      <td>1</td>\n",
       "      <td>4</td>\n",
       "      <td>2</td>\n",
       "      <td>2</td>\n",
       "      <td>1</td>\n",
       "      <td>49.54</td>\n",
       "    </tr>\n",
       "    <tr>\n",
       "      <th>416</th>\n",
       "      <td>2021-02-20</td>\n",
       "      <td>1</td>\n",
       "      <td>1</td>\n",
       "      <td>1</td>\n",
       "      <td>0</td>\n",
       "      <td>1</td>\n",
       "      <td>1</td>\n",
       "      <td>1</td>\n",
       "      <td>4</td>\n",
       "      <td>2</td>\n",
       "      <td>2</td>\n",
       "      <td>1</td>\n",
       "      <td>49.54</td>\n",
       "    </tr>\n",
       "  </tbody>\n",
       "</table>\n",
       "</div>"
      ],
      "text/plain": [
       "          Date  School_closing  Workplace_closing  Cancel_events  \\\n",
       "412 2021-02-16               1                  1              1   \n",
       "413 2021-02-17               1                  1              1   \n",
       "414 2021-02-18               1                  1              1   \n",
       "415 2021-02-19               1                  1              1   \n",
       "416 2021-02-20               1                  1              1   \n",
       "\n",
       "     Gatherings_restrictions  Transport_closing  Stay_home_restrictions  \\\n",
       "412                        0                  1                       1   \n",
       "413                        0                  1                       1   \n",
       "414                        0                  1                       1   \n",
       "415                        0                  1                       1   \n",
       "416                        0                  1                       1   \n",
       "\n",
       "     Internal_movement_restrictions  International_movement_restrictions  \\\n",
       "412                               1                                    4   \n",
       "413                               1                                    4   \n",
       "414                               1                                    4   \n",
       "415                               1                                    4   \n",
       "416                               1                                    4   \n",
       "\n",
       "     Information_campaigns  Testing_policy  Contact_tracing  Stringency_index  \n",
       "412                      2               2                1             49.54  \n",
       "413                      2               2                1             49.54  \n",
       "414                      2               2                1             49.54  \n",
       "415                      2               2                1             49.54  \n",
       "416                      2               2                1             49.54  "
      ]
     },
     "execution_count": 1,
     "metadata": {},
     "output_type": "execute_result"
    }
   ],
   "source": [
    "# Subset for a country\n",
    "oxcgrt_data.subset(\"Japan\").tail()\n",
    "# We can use ISO3 codes\n",
    "# oxcgrt_data.subset(\"JPN\").tail()"
   ]
  },
  {
   "cell_type": "markdown",
   "id": "headed-drink",
   "metadata": {},
   "source": [
    "We can visualize the number of cases with `.map()` method. Arguments are the same as `JHUData`, but country name cannot be specified."
   ]
  },
  {
   "cell_type": "code",
   "execution_count": 49,
   "id": "junior-influence",
   "metadata": {
    "execution": {
     "iopub.execute_input": "2021-02-20T16:31:21.158721Z",
     "iopub.status.busy": "2021-02-20T16:31:21.158241Z",
     "iopub.status.idle": "2021-02-20T16:31:22.286017Z",
     "shell.execute_reply": "2021-02-20T16:31:22.285433Z"
    }
   },
   "outputs": [
    {
     "data": {
      "image/png": "[encoded data removed]",
      "text/plain": [
       "<Figure size 648x432 with 2 Axes>"
      ]
     },
     "metadata": {
      "needs_background": "light"
     },
     "output_type": "display_data"
    }
   ],
   "source": [
    "# Global map with country level data\n",
    "oxcgrt_data.map(variable=\"Stringency_index\")"
   ]
  },
  {
   "cell_type": "code",
   "execution_count": 50,
   "id": "described-terrace",
   "metadata": {
    "execution": {
     "iopub.execute_input": "2021-02-20T16:31:22.290213Z",
     "iopub.status.busy": "2021-02-20T16:31:22.289607Z",
     "iopub.status.idle": "2021-02-20T16:31:22.873561Z",
     "shell.execute_reply": "2021-02-20T16:31:22.873942Z"
    }
   },
   "outputs": [
    {
     "data": {
      "text/html": [
       "<div>\n",
       "<style scoped>\n",
       "    .dataframe tbody tr th:only-of-type {\n",
       "        vertical-align: middle;\n",
       "    }\n",
       "\n",
       "    .dataframe tbody tr th {\n",
       "        vertical-align: top;\n",
       "    }\n",
       "\n",
       "    .dataframe thead th {\n",
       "        text-align: right;\n",
       "    }\n",
       "</style>\n",
       "<table border=\"1\" class=\"dataframe\">\n",
       "  <thead>\n",
       "    <tr style=\"text-align: right;\">\n",
       "      <th></th>\n",
       "      <th>Date</th>\n",
       "      <th>Country</th>\n",
       "      <th>ISO3</th>\n",
       "      <th>School_closing</th>\n",
       "      <th>Workplace_closing</th>\n",
       "      <th>Cancel_events</th>\n",
       "      <th>Gatherings_restrictions</th>\n",
       "      <th>Transport_closing</th>\n",
       "      <th>Stay_home_restrictions</th>\n",
       "      <th>Internal_movement_restrictions</th>\n",
       "      <th>International_movement_restrictions</th>\n",
       "      <th>Information_campaigns</th>\n",
       "      <th>Testing_policy</th>\n",
       "      <th>Contact_tracing</th>\n",
       "      <th>Stringency_index</th>\n",
       "    </tr>\n",
       "  </thead>\n",
       "  <tbody>\n",
       "    <tr>\n",
       "      <th>425335</th>\n",
       "      <td>2021-02-16</td>\n",
       "      <td>Colombia</td>\n",
       "      <td>COL</td>\n",
       "      <td>3</td>\n",
       "      <td>1</td>\n",
       "      <td>1</td>\n",
       "      <td>3</td>\n",
       "      <td>1</td>\n",
       "      <td>1</td>\n",
       "      <td>1</td>\n",
       "      <td>4</td>\n",
       "      <td>2</td>\n",
       "      <td>2</td>\n",
       "      <td>2</td>\n",
       "      <td>81.02</td>\n",
       "    </tr>\n",
       "    <tr>\n",
       "      <th>425336</th>\n",
       "      <td>2021-02-17</td>\n",
       "      <td>Colombia</td>\n",
       "      <td>COL</td>\n",
       "      <td>3</td>\n",
       "      <td>1</td>\n",
       "      <td>1</td>\n",
       "      <td>3</td>\n",
       "      <td>1</td>\n",
       "      <td>1</td>\n",
       "      <td>1</td>\n",
       "      <td>4</td>\n",
       "      <td>2</td>\n",
       "      <td>2</td>\n",
       "      <td>2</td>\n",
       "      <td>81.02</td>\n",
       "    </tr>\n",
       "    <tr>\n",
       "      <th>425337</th>\n",
       "      <td>2021-02-18</td>\n",
       "      <td>Colombia</td>\n",
       "      <td>COL</td>\n",
       "      <td>3</td>\n",
       "      <td>1</td>\n",
       "      <td>1</td>\n",
       "      <td>3</td>\n",
       "      <td>1</td>\n",
       "      <td>1</td>\n",
       "      <td>1</td>\n",
       "      <td>4</td>\n",
       "      <td>2</td>\n",
       "      <td>2</td>\n",
       "      <td>2</td>\n",
       "      <td>81.02</td>\n",
       "    </tr>\n",
       "    <tr>\n",
       "      <th>425338</th>\n",
       "      <td>2021-02-19</td>\n",
       "      <td>Colombia</td>\n",
       "      <td>COL</td>\n",
       "      <td>3</td>\n",
       "      <td>1</td>\n",
       "      <td>1</td>\n",
       "      <td>3</td>\n",
       "      <td>1</td>\n",
       "      <td>1</td>\n",
       "      <td>1</td>\n",
       "      <td>4</td>\n",
       "      <td>2</td>\n",
       "      <td>2</td>\n",
       "      <td>2</td>\n",
       "      <td>81.02</td>\n",
       "    </tr>\n",
       "    <tr>\n",
       "      <th>425339</th>\n",
       "      <td>2021-02-20</td>\n",
       "      <td>Colombia</td>\n",
       "      <td>COL</td>\n",
       "      <td>3</td>\n",
       "      <td>1</td>\n",
       "      <td>1</td>\n",
       "      <td>3</td>\n",
       "      <td>1</td>\n",
       "      <td>1</td>\n",
       "      <td>1</td>\n",
       "      <td>4</td>\n",
       "      <td>2</td>\n",
       "      <td>2</td>\n",
       "      <td>2</td>\n",
       "      <td>81.02</td>\n",
       "    </tr>\n",
       "  </tbody>\n",
       "</table>\n",
       "</div>"
      ],
      "text/plain": [
       "             Date   Country ISO3  School_closing  Workplace_closing  \\\n",
       "425335 2021-02-16  Colombia  COL               3                  1   \n",
       "425336 2021-02-17  Colombia  COL               3                  1   \n",
       "425337 2021-02-18  Colombia  COL               3                  1   \n",
       "425338 2021-02-19  Colombia  COL               3                  1   \n",
       "425339 2021-02-20  Colombia  COL               3                  1   \n",
       "\n",
       "        Cancel_events  Gatherings_restrictions  Transport_closing  \\\n",
       "425335              1                        3                  1   \n",
       "425336              1                        3                  1   \n",
       "425337              1                        3                  1   \n",
       "425338              1                        3                  1   \n",
       "425339              1                        3                  1   \n",
       "\n",
       "        Stay_home_restrictions  Internal_movement_restrictions  \\\n",
       "425335                       1                               1   \n",
       "425336                       1                               1   \n",
       "425337                       1                               1   \n",
       "425338                       1                               1   \n",
       "425339                       1                               1   \n",
       "\n",
       "        International_movement_restrictions  Information_campaigns  \\\n",
       "425335                                    4                      2   \n",
       "425336                                    4                      2   \n",
       "425337                                    4                      2   \n",
       "425338                                    4                      2   \n",
       "425339                                    4                      2   \n",
       "\n",
       "        Testing_policy  Contact_tracing  Stringency_index  \n",
       "425335               2                2             81.02  \n",
       "425336               2                2             81.02  \n",
       "425337               2                2             81.02  \n",
       "425338               2                2             81.02  \n",
       "425339               2                2             81.02  "
      ]
     },
     "execution_count": 1,
     "metadata": {},
     "output_type": "execute_result"
    }
   ],
   "source": [
    "# Country level data\n",
    "oxcgrt_data.layer().tail()"
   ]
  },
  {
   "cell_type": "markdown",
   "id": "vertical-formula",
   "metadata": {},
   "source": [
    "### The number of tests\n",
    "The number of tests is also key information to understand the situation.\n",
    "This dataset was saved as `pcr_data`, an instance of `PCRData` class."
   ]
  },
  {
   "cell_type": "code",
   "execution_count": 51,
   "id": "controversial-subscription",
   "metadata": {
    "collapsed": false,
    "execution": {
     "iopub.execute_input": "2021-02-20T16:31:22.877685Z",
     "iopub.status.busy": "2021-02-20T16:31:22.877123Z",
     "iopub.status.idle": "2021-02-20T16:31:22.880594Z",
     "shell.execute_reply": "2021-02-20T16:31:22.880041Z"
    }
   },
   "outputs": [
    {
     "data": {
      "text/plain": [
       "covsirphy.cleaning.pcr_data.PCRData"
      ]
     },
     "execution_count": 1,
     "metadata": {},
     "output_type": "execute_result"
    }
   ],
   "source": [
    "type(pcr_data)"
   ]
  },
  {
   "cell_type": "code",
   "execution_count": 52,
   "id": "breathing-diesel",
   "metadata": {
    "collapsed": false,
    "execution": {
     "iopub.execute_input": "2021-02-20T16:31:22.883984Z",
     "iopub.status.busy": "2021-02-20T16:31:22.883505Z",
     "iopub.status.idle": "2021-02-20T16:31:22.886287Z",
     "shell.execute_reply": "2021-02-20T16:31:22.885834Z"
    }
   },
   "outputs": [
    {
     "name": "stdout",
     "output_type": "stream",
     "text": [
      "(Secondary source) Guidotti, E., Ardia, D., (2020), \"COVID-19 Data Hub\", Journal of Open Source Software 5(51):2376, doi: 10.21105/joss.02376.\n",
      "Hasell, J., Mathieu, E., Beltekian, D. et al. A cross-country database of COVID-19 testing. Sci Data 7, 345 (2020). https://doi.org/10.1038/s41597-020-00688-8\n",
      "Lisphilar (2020), COVID-19 dataset in Japan, GitHub repository, https://github.com/lisphilar/covid19-sir/data/japan\n"
     ]
    }
   ],
   "source": [
    "# Description/citation\n",
    "print(pcr_data.citation)"
   ]
  },
  {
   "cell_type": "code",
   "execution_count": 53,
   "id": "confirmed-sweden",
   "metadata": {
    "collapsed": false,
    "execution": {
     "iopub.execute_input": "2021-02-20T16:31:22.889164Z",
     "iopub.status.busy": "2021-02-20T16:31:22.888686Z",
     "iopub.status.idle": "2021-02-20T16:31:22.891363Z",
     "shell.execute_reply": "2021-02-20T16:31:22.890840Z"
    }
   },
   "outputs": [],
   "source": [
    "# Raw data (the same as jhu_data)\n",
    "# pcr_data.raw.tail()"
   ]
  },
  {
   "cell_type": "code",
   "execution_count": 54,
   "id": "acceptable-barbados",
   "metadata": {
    "collapsed": false,
    "execution": {
     "iopub.execute_input": "2021-02-20T16:31:22.903584Z",
     "iopub.status.busy": "2021-02-20T16:31:22.903061Z",
     "iopub.status.idle": "2021-02-20T16:31:22.905840Z",
     "shell.execute_reply": "2021-02-20T16:31:22.906219Z"
    }
   },
   "outputs": [
    {
     "data": {
      "text/html": [
       "<div>\n",
       "<style scoped>\n",
       "    .dataframe tbody tr th:only-of-type {\n",
       "        vertical-align: middle;\n",
       "    }\n",
       "\n",
       "    .dataframe tbody tr th {\n",
       "        vertical-align: top;\n",
       "    }\n",
       "\n",
       "    .dataframe thead th {\n",
       "        text-align: right;\n",
       "    }\n",
       "</style>\n",
       "<table border=\"1\" class=\"dataframe\">\n",
       "  <thead>\n",
       "    <tr style=\"text-align: right;\">\n",
       "      <th></th>\n",
       "      <th>Date</th>\n",
       "      <th>Country</th>\n",
       "      <th>Province</th>\n",
       "      <th>Tests</th>\n",
       "      <th>Confirmed</th>\n",
       "    </tr>\n",
       "  </thead>\n",
       "  <tbody>\n",
       "    <tr>\n",
       "      <th>16641</th>\n",
       "      <td>2021-02-15</td>\n",
       "      <td>Japan</td>\n",
       "      <td>-</td>\n",
       "      <td>7587036</td>\n",
       "      <td>415782</td>\n",
       "    </tr>\n",
       "    <tr>\n",
       "      <th>16642</th>\n",
       "      <td>2021-02-16</td>\n",
       "      <td>Japan</td>\n",
       "      <td>-</td>\n",
       "      <td>7647131</td>\n",
       "      <td>417765</td>\n",
       "    </tr>\n",
       "    <tr>\n",
       "      <th>16643</th>\n",
       "      <td>2021-02-17</td>\n",
       "      <td>Japan</td>\n",
       "      <td>-</td>\n",
       "      <td>7707786</td>\n",
       "      <td>419015</td>\n",
       "    </tr>\n",
       "    <tr>\n",
       "      <th>16644</th>\n",
       "      <td>2021-02-18</td>\n",
       "      <td>Japan</td>\n",
       "      <td>-</td>\n",
       "      <td>7770206</td>\n",
       "      <td>420408</td>\n",
       "    </tr>\n",
       "    <tr>\n",
       "      <th>16645</th>\n",
       "      <td>2021-02-19</td>\n",
       "      <td>Japan</td>\n",
       "      <td>-</td>\n",
       "      <td>7825811</td>\n",
       "      <td>421967</td>\n",
       "    </tr>\n",
       "  </tbody>\n",
       "</table>\n",
       "</div>"
      ],
      "text/plain": [
       "            Date Country Province    Tests  Confirmed\n",
       "16641 2021-02-15   Japan        -  7587036     415782\n",
       "16642 2021-02-16   Japan        -  7647131     417765\n",
       "16643 2021-02-17   Japan        -  7707786     419015\n",
       "16644 2021-02-18   Japan        -  7770206     420408\n",
       "16645 2021-02-19   Japan        -  7825811     421967"
      ]
     },
     "execution_count": 1,
     "metadata": {},
     "output_type": "execute_result"
    }
   ],
   "source": [
    "# Cleaned data\n",
    "pcr_data.cleaned().tail()"
   ]
  },
  {
   "cell_type": "code",
   "execution_count": 55,
   "id": "differential-humanity",
   "metadata": {
    "collapsed": false,
    "execution": {
     "iopub.execute_input": "2021-02-20T16:31:22.909744Z",
     "iopub.status.busy": "2021-02-20T16:31:22.909200Z",
     "iopub.status.idle": "2021-02-20T16:31:22.934689Z",
     "shell.execute_reply": "2021-02-20T16:31:22.934165Z"
    }
   },
   "outputs": [
    {
     "data": {
      "text/html": [
       "<div>\n",
       "<style scoped>\n",
       "    .dataframe tbody tr th:only-of-type {\n",
       "        vertical-align: middle;\n",
       "    }\n",
       "\n",
       "    .dataframe tbody tr th {\n",
       "        vertical-align: top;\n",
       "    }\n",
       "\n",
       "    .dataframe thead th {\n",
       "        text-align: right;\n",
       "    }\n",
       "</style>\n",
       "<table border=\"1\" class=\"dataframe\">\n",
       "  <thead>\n",
       "    <tr style=\"text-align: right;\">\n",
       "      <th></th>\n",
       "      <th>Date</th>\n",
       "      <th>Tests</th>\n",
       "      <th>Confirmed</th>\n",
       "    </tr>\n",
       "  </thead>\n",
       "  <tbody>\n",
       "    <tr>\n",
       "      <th>375</th>\n",
       "      <td>2021-02-15</td>\n",
       "      <td>7587036</td>\n",
       "      <td>415782</td>\n",
       "    </tr>\n",
       "    <tr>\n",
       "      <th>376</th>\n",
       "      <td>2021-02-16</td>\n",
       "      <td>7647131</td>\n",
       "      <td>417765</td>\n",
       "    </tr>\n",
       "    <tr>\n",
       "      <th>377</th>\n",
       "      <td>2021-02-17</td>\n",
       "      <td>7707786</td>\n",
       "      <td>419015</td>\n",
       "    </tr>\n",
       "    <tr>\n",
       "      <th>378</th>\n",
       "      <td>2021-02-18</td>\n",
       "      <td>7770206</td>\n",
       "      <td>420408</td>\n",
       "    </tr>\n",
       "    <tr>\n",
       "      <th>379</th>\n",
       "      <td>2021-02-19</td>\n",
       "      <td>7825811</td>\n",
       "      <td>421967</td>\n",
       "    </tr>\n",
       "  </tbody>\n",
       "</table>\n",
       "</div>"
      ],
      "text/plain": [
       "          Date    Tests  Confirmed\n",
       "375 2021-02-15  7587036     415782\n",
       "376 2021-02-16  7647131     417765\n",
       "377 2021-02-17  7707786     419015\n",
       "378 2021-02-18  7770206     420408\n",
       "379 2021-02-19  7825811     421967"
      ]
     },
     "execution_count": 1,
     "metadata": {},
     "output_type": "execute_result"
    }
   ],
   "source": [
    "# Subset for a country\n",
    "pcr_data.subset(\"Japan\").tail()\n",
    "# We can use ISO3 codes\n",
    "# pcr_data.subset(\"JPN\").tail()"
   ]
  },
  {
   "cell_type": "markdown",
   "id": "restricted-solution",
   "metadata": {},
   "source": [
    "Under the assumption that all tests were PCR test, we can calculate the positive rate of PCR tests as \"the number of confirmed cases per the number of tests\"."
   ]
  },
  {
   "cell_type": "code",
   "execution_count": 56,
   "id": "nominated-egypt",
   "metadata": {
    "collapsed": false,
    "execution": {
     "iopub.execute_input": "2021-02-20T16:31:22.938566Z",
     "iopub.status.busy": "2021-02-20T16:31:22.938043Z",
     "iopub.status.idle": "2021-02-20T16:31:23.469377Z",
     "shell.execute_reply": "2021-02-20T16:31:23.468778Z"
    }
   },
   "outputs": [
    {
     "data": {
      "image/png": "[encoded data removed]",
      "text/plain": [
       "<Figure size 648x432 with 1 Axes>"
      ]
     },
     "metadata": {
      "needs_background": "light"
     },
     "output_type": "display_data"
    }
   ],
   "source": [
    "# Positive rate in Japan\n",
    "_ = pcr_data.positive_rate(\"Japan\")"
   ]
  },
  {
   "cell_type": "markdown",
   "id": "talented-equipment",
   "metadata": {},
   "source": [
    "We can visualize the number of cases with `.map()` method. When `country` is `None`, global map will be shown. Arguments are the same as `JHUData`, but variable name cannot be specified."
   ]
  },
  {
   "cell_type": "code",
   "execution_count": 57,
   "id": "tested-white",
   "metadata": {
    "execution": {
     "iopub.execute_input": "2021-02-20T16:31:23.477856Z",
     "iopub.status.busy": "2021-02-20T16:31:23.477278Z",
     "iopub.status.idle": "2021-02-20T16:31:24.412897Z",
     "shell.execute_reply": "2021-02-20T16:31:24.412318Z"
    }
   },
   "outputs": [
    {
     "data": {
      "image/png": "[encoded data removed]",
      "text/plain": [
       "<Figure size 648x432 with 2 Axes>"
      ]
     },
     "metadata": {
      "needs_background": "light"
     },
     "output_type": "display_data"
    }
   ],
   "source": [
    "# Global map with country level data\n",
    "pcr_data.map(country=None)"
   ]
  },
  {
   "cell_type": "code",
   "execution_count": 58,
   "id": "conceptual-columbus",
   "metadata": {
    "execution": {
     "iopub.execute_input": "2021-02-20T16:31:24.417696Z",
     "iopub.status.busy": "2021-02-20T16:31:24.417132Z",
     "iopub.status.idle": "2021-02-20T16:31:25.049245Z",
     "shell.execute_reply": "2021-02-20T16:31:25.048187Z"
    }
   },
   "outputs": [
    {
     "data": {
      "text/html": [
       "<div>\n",
       "<style scoped>\n",
       "    .dataframe tbody tr th:only-of-type {\n",
       "        vertical-align: middle;\n",
       "    }\n",
       "\n",
       "    .dataframe tbody tr th {\n",
       "        vertical-align: top;\n",
       "    }\n",
       "\n",
       "    .dataframe thead th {\n",
       "        text-align: right;\n",
       "    }\n",
       "</style>\n",
       "<table border=\"1\" class=\"dataframe\">\n",
       "  <thead>\n",
       "    <tr style=\"text-align: right;\">\n",
       "      <th></th>\n",
       "      <th>ISO3</th>\n",
       "      <th>Date</th>\n",
       "      <th>Country</th>\n",
       "      <th>Tests</th>\n",
       "      <th>Confirmed</th>\n",
       "    </tr>\n",
       "  </thead>\n",
       "  <tbody>\n",
       "    <tr>\n",
       "      <th>82524</th>\n",
       "      <td>JPN</td>\n",
       "      <td>2021-02-15</td>\n",
       "      <td>Japan</td>\n",
       "      <td>7587036</td>\n",
       "      <td>415782</td>\n",
       "    </tr>\n",
       "    <tr>\n",
       "      <th>82525</th>\n",
       "      <td>JPN</td>\n",
       "      <td>2021-02-16</td>\n",
       "      <td>Japan</td>\n",
       "      <td>7647131</td>\n",
       "      <td>417765</td>\n",
       "    </tr>\n",
       "    <tr>\n",
       "      <th>82526</th>\n",
       "      <td>JPN</td>\n",
       "      <td>2021-02-17</td>\n",
       "      <td>Japan</td>\n",
       "      <td>7707786</td>\n",
       "      <td>419015</td>\n",
       "    </tr>\n",
       "    <tr>\n",
       "      <th>82527</th>\n",
       "      <td>JPN</td>\n",
       "      <td>2021-02-18</td>\n",
       "      <td>Japan</td>\n",
       "      <td>7770206</td>\n",
       "      <td>420408</td>\n",
       "    </tr>\n",
       "    <tr>\n",
       "      <th>82528</th>\n",
       "      <td>JPN</td>\n",
       "      <td>2021-02-19</td>\n",
       "      <td>Japan</td>\n",
       "      <td>7825811</td>\n",
       "      <td>421967</td>\n",
       "    </tr>\n",
       "  </tbody>\n",
       "</table>\n",
       "</div>"
      ],
      "text/plain": [
       "      ISO3       Date Country    Tests  Confirmed\n",
       "82524  JPN 2021-02-15   Japan  7587036     415782\n",
       "82525  JPN 2021-02-16   Japan  7647131     417765\n",
       "82526  JPN 2021-02-17   Japan  7707786     419015\n",
       "82527  JPN 2021-02-18   Japan  7770206     420408\n",
       "82528  JPN 2021-02-19   Japan  7825811     421967"
      ]
     },
     "execution_count": 1,
     "metadata": {},
     "output_type": "execute_result"
    }
   ],
   "source": [
    "# Country level data\n",
    "pcr_data.layer(country=None).tail()"
   ]
  },
  {
   "cell_type": "code",
   "execution_count": 59,
   "id": "sapphire-virtue",
   "metadata": {
    "execution": {
     "iopub.execute_input": "2021-02-20T16:31:25.057588Z",
     "iopub.status.busy": "2021-02-20T16:31:25.057047Z",
     "iopub.status.idle": "2021-02-20T16:31:27.109571Z",
     "shell.execute_reply": "2021-02-20T16:31:27.109964Z"
    }
   },
   "outputs": [
    {
     "data": {
      "image/png": "[encoded data removed]",
      "text/plain": [
       "<Figure size 648x432 with 2 Axes>"
      ]
     },
     "metadata": {
      "needs_background": "light"
     },
     "output_type": "display_data"
    }
   ],
   "source": [
    "# Country map with province level data\n",
    "pcr_data.map(country=\"Japan\")"
   ]
  },
  {
   "cell_type": "code",
   "execution_count": 60,
   "id": "tender-calgary",
   "metadata": {
    "execution": {
     "iopub.execute_input": "2021-02-20T16:31:27.113474Z",
     "iopub.status.busy": "2021-02-20T16:31:27.112893Z",
     "iopub.status.idle": "2021-02-20T16:31:27.728697Z",
     "shell.execute_reply": "2021-02-20T16:31:27.729053Z"
    }
   },
   "outputs": [
    {
     "data": {
      "text/html": [
       "<div>\n",
       "<style scoped>\n",
       "    .dataframe tbody tr th:only-of-type {\n",
       "        vertical-align: middle;\n",
       "    }\n",
       "\n",
       "    .dataframe tbody tr th {\n",
       "        vertical-align: top;\n",
       "    }\n",
       "\n",
       "    .dataframe thead th {\n",
       "        text-align: right;\n",
       "    }\n",
       "</style>\n",
       "<table border=\"1\" class=\"dataframe\">\n",
       "  <thead>\n",
       "    <tr style=\"text-align: right;\">\n",
       "      <th></th>\n",
       "      <th>ISO3</th>\n",
       "      <th>Date</th>\n",
       "      <th>Country</th>\n",
       "      <th>Province</th>\n",
       "      <th>Tests</th>\n",
       "      <th>Confirmed</th>\n",
       "    </tr>\n",
       "  </thead>\n",
       "  <tbody>\n",
       "    <tr>\n",
       "      <th>16261</th>\n",
       "      <td>JPN</td>\n",
       "      <td>2021-02-15</td>\n",
       "      <td>Japan</td>\n",
       "      <td>Entering</td>\n",
       "      <td>500815</td>\n",
       "      <td>2199</td>\n",
       "    </tr>\n",
       "    <tr>\n",
       "      <th>16262</th>\n",
       "      <td>JPN</td>\n",
       "      <td>2021-02-16</td>\n",
       "      <td>Japan</td>\n",
       "      <td>Entering</td>\n",
       "      <td>502489</td>\n",
       "      <td>2200</td>\n",
       "    </tr>\n",
       "    <tr>\n",
       "      <th>16263</th>\n",
       "      <td>JPN</td>\n",
       "      <td>2021-02-17</td>\n",
       "      <td>Japan</td>\n",
       "      <td>Entering</td>\n",
       "      <td>503295</td>\n",
       "      <td>2201</td>\n",
       "    </tr>\n",
       "    <tr>\n",
       "      <th>16264</th>\n",
       "      <td>JPN</td>\n",
       "      <td>2021-02-18</td>\n",
       "      <td>Japan</td>\n",
       "      <td>Entering</td>\n",
       "      <td>504577</td>\n",
       "      <td>2205</td>\n",
       "    </tr>\n",
       "    <tr>\n",
       "      <th>16265</th>\n",
       "      <td>JPN</td>\n",
       "      <td>2021-02-19</td>\n",
       "      <td>Japan</td>\n",
       "      <td>Entering</td>\n",
       "      <td>505678</td>\n",
       "      <td>2205</td>\n",
       "    </tr>\n",
       "  </tbody>\n",
       "</table>\n",
       "</div>"
      ],
      "text/plain": [
       "      ISO3       Date Country  Province   Tests  Confirmed\n",
       "16261  JPN 2021-02-15   Japan  Entering  500815       2199\n",
       "16262  JPN 2021-02-16   Japan  Entering  502489       2200\n",
       "16263  JPN 2021-02-17   Japan  Entering  503295       2201\n",
       "16264  JPN 2021-02-18   Japan  Entering  504577       2205\n",
       "16265  JPN 2021-02-19   Japan  Entering  505678       2205"
      ]
     },
     "execution_count": 1,
     "metadata": {},
     "output_type": "execute_result"
    }
   ],
   "source": [
    "# Province level data\n",
    "pcr_data.layer(country=\"Japan\").tail()"
   ]
  },
  {
   "cell_type": "markdown",
   "id": "thorough-worst",
   "metadata": {},
   "source": [
    "### The number of vaccinations\n",
    "The number of vaccinations is a key factor to end the outbreak as soon as possible. This dataset was saved as `vaccine_data`, an instance of `VaccineData` class."
   ]
  },
  {
   "cell_type": "code",
   "execution_count": 61,
   "id": "champion-debut",
   "metadata": {
    "collapsed": false,
    "execution": {
     "iopub.execute_input": "2021-02-20T16:31:27.732496Z",
     "iopub.status.busy": "2021-02-20T16:31:27.732016Z",
     "iopub.status.idle": "2021-02-20T16:31:27.734955Z",
     "shell.execute_reply": "2021-02-20T16:31:27.735293Z"
    }
   },
   "outputs": [
    {
     "data": {
      "text/plain": [
       "covsirphy.cleaning.vaccine_data.VaccineData"
      ]
     },
     "execution_count": 1,
     "metadata": {},
     "output_type": "execute_result"
    }
   ],
   "source": [
    "# The number of vaccinations\n",
    "type(vaccine_data)"
   ]
  },
  {
   "cell_type": "code",
   "execution_count": 62,
   "id": "afraid-potter",
   "metadata": {
    "collapsed": false,
    "execution": {
     "iopub.execute_input": "2021-02-20T16:31:27.738479Z",
     "iopub.status.busy": "2021-02-20T16:31:27.738025Z",
     "iopub.status.idle": "2021-02-20T16:31:27.740195Z",
     "shell.execute_reply": "2021-02-20T16:31:27.740550Z"
    }
   },
   "outputs": [
    {
     "name": "stdout",
     "output_type": "stream",
     "text": [
      "Hasell, J., Mathieu, E., Beltekian, D. et al. A cross-country database of COVID-19 testing. Sci Data 7, 345 (2020). https://doi.org/10.1038/s41597-020-00688-8\n"
     ]
    }
   ],
   "source": [
    "# Description/citation\n",
    "print(vaccine_data.citation)"
   ]
  },
  {
   "cell_type": "code",
   "execution_count": 63,
   "id": "devoted-purse",
   "metadata": {
    "collapsed": false,
    "execution": {
     "iopub.execute_input": "2021-02-20T16:31:27.743353Z",
     "iopub.status.busy": "2021-02-20T16:31:27.742905Z",
     "iopub.status.idle": "2021-02-20T16:31:27.744790Z",
     "shell.execute_reply": "2021-02-20T16:31:27.745176Z"
    }
   },
   "outputs": [],
   "source": [
    "# Raw data\n",
    "# vaccine_data.raw.tail()"
   ]
  },
  {
   "cell_type": "code",
   "execution_count": 64,
   "id": "finite-level",
   "metadata": {
    "collapsed": false,
    "execution": {
     "iopub.execute_input": "2021-02-20T16:31:27.753923Z",
     "iopub.status.busy": "2021-02-20T16:31:27.753415Z",
     "iopub.status.idle": "2021-02-20T16:31:27.756365Z",
     "shell.execute_reply": "2021-02-20T16:31:27.755890Z"
    }
   },
   "outputs": [
    {
     "data": {
      "text/html": [
       "<div>\n",
       "<style scoped>\n",
       "    .dataframe tbody tr th:only-of-type {\n",
       "        vertical-align: middle;\n",
       "    }\n",
       "\n",
       "    .dataframe tbody tr th {\n",
       "        vertical-align: top;\n",
       "    }\n",
       "\n",
       "    .dataframe thead th {\n",
       "        text-align: right;\n",
       "    }\n",
       "</style>\n",
       "<table border=\"1\" class=\"dataframe\">\n",
       "  <thead>\n",
       "    <tr style=\"text-align: right;\">\n",
       "      <th></th>\n",
       "      <th>Date</th>\n",
       "      <th>Country</th>\n",
       "      <th>Product</th>\n",
       "      <th>Vaccinations</th>\n",
       "    </tr>\n",
       "  </thead>\n",
       "  <tbody>\n",
       "    <tr>\n",
       "      <th>3603</th>\n",
       "      <td>2021-02-14</td>\n",
       "      <td>Wales</td>\n",
       "      <td>Oxford/AstraZeneca, Pfizer/BioNTech</td>\n",
       "      <td>790211</td>\n",
       "    </tr>\n",
       "    <tr>\n",
       "      <th>3604</th>\n",
       "      <td>2021-02-15</td>\n",
       "      <td>Wales</td>\n",
       "      <td>Oxford/AstraZeneca, Pfizer/BioNTech</td>\n",
       "      <td>803178</td>\n",
       "    </tr>\n",
       "    <tr>\n",
       "      <th>3605</th>\n",
       "      <td>2021-02-16</td>\n",
       "      <td>Wales</td>\n",
       "      <td>Oxford/AstraZeneca, Pfizer/BioNTech</td>\n",
       "      <td>820339</td>\n",
       "    </tr>\n",
       "    <tr>\n",
       "      <th>3606</th>\n",
       "      <td>2021-02-17</td>\n",
       "      <td>Wales</td>\n",
       "      <td>Oxford/AstraZeneca, Pfizer/BioNTech</td>\n",
       "      <td>841975</td>\n",
       "    </tr>\n",
       "    <tr>\n",
       "      <th>3607</th>\n",
       "      <td>2021-02-18</td>\n",
       "      <td>Wales</td>\n",
       "      <td>Oxford/AstraZeneca, Pfizer/BioNTech</td>\n",
       "      <td>864498</td>\n",
       "    </tr>\n",
       "  </tbody>\n",
       "</table>\n",
       "</div>"
      ],
      "text/plain": [
       "           Date Country                              Product  Vaccinations\n",
       "3603 2021-02-14   Wales  Oxford/AstraZeneca, Pfizer/BioNTech        790211\n",
       "3604 2021-02-15   Wales  Oxford/AstraZeneca, Pfizer/BioNTech        803178\n",
       "3605 2021-02-16   Wales  Oxford/AstraZeneca, Pfizer/BioNTech        820339\n",
       "3606 2021-02-17   Wales  Oxford/AstraZeneca, Pfizer/BioNTech        841975\n",
       "3607 2021-02-18   Wales  Oxford/AstraZeneca, Pfizer/BioNTech        864498"
      ]
     },
     "execution_count": 1,
     "metadata": {},
     "output_type": "execute_result"
    }
   ],
   "source": [
    "# Cleaned data\n",
    "vaccine_data.cleaned().tail()"
   ]
  },
  {
   "cell_type": "code",
   "execution_count": 65,
   "id": "selected-seating",
   "metadata": {
    "collapsed": false,
    "execution": {
     "iopub.execute_input": "2021-02-20T16:31:27.759918Z",
     "iopub.status.busy": "2021-02-20T16:31:27.759451Z",
     "iopub.status.idle": "2021-02-20T16:31:27.773476Z",
     "shell.execute_reply": "2021-02-20T16:31:27.773004Z"
    }
   },
   "outputs": [
    {
     "name": "stdout",
     "output_type": "stream",
     "text": [
      "['Albania', 'Algeria', 'Andorra', 'Anguilla', 'Argentina', 'Austria',\n",
      " 'Azerbaijan', 'Bahrain', 'Bangladesh', 'Barbados', 'Belgium', 'Bermuda',\n",
      " 'Bolivia', 'Brazil', 'Bulgaria', 'Cambodia', 'Canada', 'Cayman Islands',\n",
      " 'Chile', 'China', 'Colombia', 'Costa Rica', 'Croatia', 'Cyprus', 'Czechia',\n",
      " 'Denmark', 'Dominican Republic', 'Ecuador', 'Egypt', 'England', 'Estonia',\n",
      " 'European Union', 'Faeroe Islands', 'Finland', 'France', 'Germany',\n",
      " 'Gibraltar', 'Greece', 'Greenland', 'Guernsey', 'Guyana', 'Hungary', 'Iceland',\n",
      " 'India', 'Indonesia', 'Iran', 'Ireland', 'Isle of Man', 'Israel', 'Italy',\n",
      " 'Japan', 'Jersey', 'Kuwait', 'Latvia', 'Liechtenstein', 'Lithuania',\n",
      " 'Luxembourg', 'Macao', 'Maldives', 'Malta', 'Mauritius', 'Mexico', 'Monaco',\n",
      " 'Morocco', 'Myanmar', 'Nepal', 'Netherlands', 'Northern Cyprus',\n",
      " 'Northern Ireland', 'Norway', 'Oman', 'Pakistan', 'Panama', 'Peru', 'Poland',\n",
      " 'Portugal', 'Qatar', 'Romania', 'Russia', 'Saint Helena', 'Saudi Arabia',\n",
      " 'Scotland', 'Serbia', 'Seychelles', 'Singapore', 'Slovakia', 'Slovenia',\n",
      " 'South Africa', 'Spain', 'Sri Lanka', 'Sweden', 'Switzerland', 'Turkey',\n",
      " 'Turks and Caicos Islands', 'United Arab Emirates', 'United Kingdom',\n",
      " 'United States', 'Wales']\n"
     ]
    }
   ],
   "source": [
    "# Registered countries\n",
    "pprint(vaccine_data.countries(), compact=True)"
   ]
  },
  {
   "cell_type": "code",
   "execution_count": 66,
   "id": "subtle-forge",
   "metadata": {
    "collapsed": false,
    "execution": {
     "iopub.execute_input": "2021-02-20T16:31:27.792537Z",
     "iopub.status.busy": "2021-02-20T16:31:27.777690Z",
     "iopub.status.idle": "2021-02-20T16:31:27.799602Z",
     "shell.execute_reply": "2021-02-20T16:31:27.799960Z"
    }
   },
   "outputs": [
    {
     "data": {
      "text/html": [
       "<div>\n",
       "<style scoped>\n",
       "    .dataframe tbody tr th:only-of-type {\n",
       "        vertical-align: middle;\n",
       "    }\n",
       "\n",
       "    .dataframe tbody tr th {\n",
       "        vertical-align: top;\n",
       "    }\n",
       "\n",
       "    .dataframe thead th {\n",
       "        text-align: right;\n",
       "    }\n",
       "</style>\n",
       "<table border=\"1\" class=\"dataframe\">\n",
       "  <thead>\n",
       "    <tr style=\"text-align: right;\">\n",
       "      <th></th>\n",
       "      <th>Date</th>\n",
       "      <th>Vaccinations</th>\n",
       "    </tr>\n",
       "  </thead>\n",
       "  <tbody>\n",
       "    <tr>\n",
       "      <th>63</th>\n",
       "      <td>2021-02-14</td>\n",
       "      <td>15839781</td>\n",
       "    </tr>\n",
       "    <tr>\n",
       "      <th>64</th>\n",
       "      <td>2021-02-15</td>\n",
       "      <td>16122272</td>\n",
       "    </tr>\n",
       "    <tr>\n",
       "      <th>65</th>\n",
       "      <td>2021-02-16</td>\n",
       "      <td>16499549</td>\n",
       "    </tr>\n",
       "    <tr>\n",
       "      <th>66</th>\n",
       "      <td>2021-02-17</td>\n",
       "      <td>16996806</td>\n",
       "    </tr>\n",
       "    <tr>\n",
       "      <th>67</th>\n",
       "      <td>2021-02-18</td>\n",
       "      <td>17465127</td>\n",
       "    </tr>\n",
       "  </tbody>\n",
       "</table>\n",
       "</div>"
      ],
      "text/plain": [
       "         Date  Vaccinations\n",
       "63 2021-02-14      15839781\n",
       "64 2021-02-15      16122272\n",
       "65 2021-02-16      16499549\n",
       "66 2021-02-17      16996806\n",
       "67 2021-02-18      17465127"
      ]
     },
     "execution_count": 1,
     "metadata": {},
     "output_type": "execute_result"
    }
   ],
   "source": [
    "# Subset for a country\n",
    "vaccine_data.subset(\"United Kingdom\").tail()\n",
    "# We can use ISO3 codes\n",
    "# pcr_data.subset(\"GBR\").tail()"
   ]
  },
  {
   "cell_type": "markdown",
   "id": "noted-midwest",
   "metadata": {},
   "source": [
    "We can visualize the number of cases with `.map()` method. Arguments are the same as `JHUData`, but country name and variable name cannot be specified."
   ]
  },
  {
   "cell_type": "code",
   "execution_count": 67,
   "id": "spatial-mouse",
   "metadata": {
    "execution": {
     "iopub.execute_input": "2021-02-20T16:31:27.804579Z",
     "iopub.status.busy": "2021-02-20T16:31:27.803900Z",
     "iopub.status.idle": "2021-02-20T16:31:36.153870Z",
     "shell.execute_reply": "2021-02-20T16:31:36.153331Z"
    }
   },
   "outputs": [
    {
     "name": "stderr",
     "output_type": "stream",
     "text": [
      "England not found in regex\n"
     ]
    },
    {
     "name": "stderr",
     "output_type": "stream",
     "text": [
      "European Union not found in regex\n"
     ]
    },
    {
     "name": "stderr",
     "output_type": "stream",
     "text": [
      "Northern Ireland not found in regex\n"
     ]
    },
    {
     "name": "stderr",
     "output_type": "stream",
     "text": [
      "Scotland not found in regex\n"
     ]
    },
    {
     "name": "stderr",
     "output_type": "stream",
     "text": [
      "Wales not found in regex\n"
     ]
    },
    {
     "data": {
      "image/png": "[encoded data removed]",
      "text/plain": [
       "<Figure size 648x432 with 2 Axes>"
      ]
     },
     "metadata": {
      "needs_background": "light"
     },
     "output_type": "display_data"
    }
   ],
   "source": [
    "# Global map with country level data\n",
    "vaccine_data.map()"
   ]
  },
  {
   "cell_type": "code",
   "execution_count": 68,
   "id": "varying-difference",
   "metadata": {
    "execution": {
     "iopub.execute_input": "2021-02-20T16:31:36.161287Z",
     "iopub.status.busy": "2021-02-20T16:31:36.158707Z",
     "iopub.status.idle": "2021-02-20T16:31:36.169614Z",
     "shell.execute_reply": "2021-02-20T16:31:36.170000Z"
    }
   },
   "outputs": [
    {
     "data": {
      "text/html": [
       "<div>\n",
       "<style scoped>\n",
       "    .dataframe tbody tr th:only-of-type {\n",
       "        vertical-align: middle;\n",
       "    }\n",
       "\n",
       "    .dataframe tbody tr th {\n",
       "        vertical-align: top;\n",
       "    }\n",
       "\n",
       "    .dataframe thead th {\n",
       "        text-align: right;\n",
       "    }\n",
       "</style>\n",
       "<table border=\"1\" class=\"dataframe\">\n",
       "  <thead>\n",
       "    <tr style=\"text-align: right;\">\n",
       "      <th></th>\n",
       "      <th>Date</th>\n",
       "      <th>Country</th>\n",
       "      <th>Product</th>\n",
       "      <th>Vaccinations</th>\n",
       "    </tr>\n",
       "  </thead>\n",
       "  <tbody>\n",
       "    <tr>\n",
       "      <th>3603</th>\n",
       "      <td>2021-02-14</td>\n",
       "      <td>Wales</td>\n",
       "      <td>Oxford/AstraZeneca, Pfizer/BioNTech</td>\n",
       "      <td>790211</td>\n",
       "    </tr>\n",
       "    <tr>\n",
       "      <th>3604</th>\n",
       "      <td>2021-02-15</td>\n",
       "      <td>Wales</td>\n",
       "      <td>Oxford/AstraZeneca, Pfizer/BioNTech</td>\n",
       "      <td>803178</td>\n",
       "    </tr>\n",
       "    <tr>\n",
       "      <th>3605</th>\n",
       "      <td>2021-02-16</td>\n",
       "      <td>Wales</td>\n",
       "      <td>Oxford/AstraZeneca, Pfizer/BioNTech</td>\n",
       "      <td>820339</td>\n",
       "    </tr>\n",
       "    <tr>\n",
       "      <th>3606</th>\n",
       "      <td>2021-02-17</td>\n",
       "      <td>Wales</td>\n",
       "      <td>Oxford/AstraZeneca, Pfizer/BioNTech</td>\n",
       "      <td>841975</td>\n",
       "    </tr>\n",
       "    <tr>\n",
       "      <th>3607</th>\n",
       "      <td>2021-02-18</td>\n",
       "      <td>Wales</td>\n",
       "      <td>Oxford/AstraZeneca, Pfizer/BioNTech</td>\n",
       "      <td>864498</td>\n",
       "    </tr>\n",
       "  </tbody>\n",
       "</table>\n",
       "</div>"
      ],
      "text/plain": [
       "           Date Country                              Product  Vaccinations\n",
       "3603 2021-02-14   Wales  Oxford/AstraZeneca, Pfizer/BioNTech        790211\n",
       "3604 2021-02-15   Wales  Oxford/AstraZeneca, Pfizer/BioNTech        803178\n",
       "3605 2021-02-16   Wales  Oxford/AstraZeneca, Pfizer/BioNTech        820339\n",
       "3606 2021-02-17   Wales  Oxford/AstraZeneca, Pfizer/BioNTech        841975\n",
       "3607 2021-02-18   Wales  Oxford/AstraZeneca, Pfizer/BioNTech        864498"
      ]
     },
     "execution_count": 1,
     "metadata": {},
     "output_type": "execute_result"
    }
   ],
   "source": [
    "# Country level data\n",
    "vaccine_data.layer().tail()"
   ]
  },
  {
   "cell_type": "markdown",
   "id": "private-shade",
   "metadata": {},
   "source": [
    "### Population pyramid\n",
    "With population pyramid, we can divide the population to sub-groups. This will be useful when we analyse the meaning of parameters. For example, how many days go out is different between the sub-groups.\n",
    "This dataset was saved as `pyramid_data`, an instance of `PopulationPyramidData` class."
   ]
  },
  {
   "cell_type": "code",
   "execution_count": 69,
   "id": "hourly-truck",
   "metadata": {
    "collapsed": false,
    "execution": {
     "iopub.execute_input": "2021-02-20T16:31:36.173930Z",
     "iopub.status.busy": "2021-02-20T16:31:36.173192Z",
     "iopub.status.idle": "2021-02-20T16:31:36.176243Z",
     "shell.execute_reply": "2021-02-20T16:31:36.176608Z"
    }
   },
   "outputs": [
    {
     "data": {
      "text/plain": [
       "covsirphy.cleaning.pyramid.PopulationPyramidData"
      ]
     },
     "execution_count": 1,
     "metadata": {},
     "output_type": "execute_result"
    }
   ],
   "source": [
    "# Population pyramid\n",
    "type(pyramid_data)"
   ]
  },
  {
   "cell_type": "code",
   "execution_count": 70,
   "id": "internal-detection",
   "metadata": {
    "collapsed": false,
    "execution": {
     "iopub.execute_input": "2021-02-20T16:31:36.179999Z",
     "iopub.status.busy": "2021-02-20T16:31:36.179488Z",
     "iopub.status.idle": "2021-02-20T16:31:36.182104Z",
     "shell.execute_reply": "2021-02-20T16:31:36.182541Z"
    }
   },
   "outputs": [
    {
     "name": "stdout",
     "output_type": "stream",
     "text": [
      "World Bank Group (2020), World Bank Open Data, https://data.worldbank.org/\n"
     ]
    }
   ],
   "source": [
    "# Description/citation\n",
    "print(pyramid_data.citation)"
   ]
  },
  {
   "cell_type": "code",
   "execution_count": 71,
   "id": "unauthorized-immigration",
   "metadata": {
    "collapsed": false,
    "execution": {
     "iopub.execute_input": "2021-02-20T16:31:36.188299Z",
     "iopub.status.busy": "2021-02-20T16:31:36.187764Z",
     "iopub.status.idle": "2021-02-20T16:31:36.207582Z",
     "shell.execute_reply": "2021-02-20T16:31:36.207948Z"
    }
   },
   "outputs": [
    {
     "data": {
      "text/html": [
       "<div>\n",
       "<style scoped>\n",
       "    .dataframe tbody tr th:only-of-type {\n",
       "        vertical-align: middle;\n",
       "    }\n",
       "\n",
       "    .dataframe tbody tr th {\n",
       "        vertical-align: top;\n",
       "    }\n",
       "\n",
       "    .dataframe thead th {\n",
       "        text-align: right;\n",
       "    }\n",
       "</style>\n",
       "<table border=\"1\" class=\"dataframe\">\n",
       "  <thead>\n",
       "    <tr style=\"text-align: right;\">\n",
       "      <th></th>\n",
       "      <th>Age</th>\n",
       "      <th>Population</th>\n",
       "      <th>Per_total</th>\n",
       "    </tr>\n",
       "  </thead>\n",
       "  <tbody>\n",
       "    <tr>\n",
       "      <th>113</th>\n",
       "      <td>118</td>\n",
       "      <td>255035</td>\n",
       "      <td>0.002174</td>\n",
       "    </tr>\n",
       "    <tr>\n",
       "      <th>114</th>\n",
       "      <td>119</td>\n",
       "      <td>255035</td>\n",
       "      <td>0.002174</td>\n",
       "    </tr>\n",
       "    <tr>\n",
       "      <th>115</th>\n",
       "      <td>120</td>\n",
       "      <td>255035</td>\n",
       "      <td>0.002174</td>\n",
       "    </tr>\n",
       "    <tr>\n",
       "      <th>116</th>\n",
       "      <td>121</td>\n",
       "      <td>255035</td>\n",
       "      <td>0.002174</td>\n",
       "    </tr>\n",
       "    <tr>\n",
       "      <th>117</th>\n",
       "      <td>122</td>\n",
       "      <td>255035</td>\n",
       "      <td>0.002174</td>\n",
       "    </tr>\n",
       "  </tbody>\n",
       "</table>\n",
       "</div>"
      ],
      "text/plain": [
       "     Age  Population  Per_total\n",
       "113  118      255035   0.002174\n",
       "114  119      255035   0.002174\n",
       "115  120      255035   0.002174\n",
       "116  121      255035   0.002174\n",
       "117  122      255035   0.002174"
      ]
     },
     "execution_count": 1,
     "metadata": {},
     "output_type": "execute_result"
    }
   ],
   "source": [
    "# Subset will retrieved from the server when set\n",
    "pyramid_data.subset(\"Japan\").tail()"
   ]
  },
  {
   "cell_type": "markdown",
   "id": "indoor-sperm",
   "metadata": {},
   "source": [
    "### Japan-specific dataset\n",
    "This includes the number of confirmed/infected/fatal/recovered/tests/moderate/severe cases at country/prefecture level and metadata of each prefecture.\n",
    "This dataset was saved as `japan_data`, an instance of `JapanData` class."
   ]
  },
  {
   "cell_type": "code",
   "execution_count": 72,
   "id": "horizontal-yahoo",
   "metadata": {
    "collapsed": false,
    "execution": {
     "iopub.execute_input": "2021-02-20T16:31:36.211722Z",
     "iopub.status.busy": "2021-02-20T16:31:36.211199Z",
     "iopub.status.idle": "2021-02-20T16:31:36.214203Z",
     "shell.execute_reply": "2021-02-20T16:31:36.214585Z"
    }
   },
   "outputs": [
    {
     "data": {
      "text/plain": [
       "covsirphy.cleaning.japan_data.JapanData"
      ]
     },
     "execution_count": 1,
     "metadata": {},
     "output_type": "execute_result"
    }
   ],
   "source": [
    "# Japan-specific dataset\n",
    "type(japan_data)"
   ]
  },
  {
   "cell_type": "code",
   "execution_count": 73,
   "id": "genuine-biotechnology",
   "metadata": {
    "collapsed": false,
    "execution": {
     "iopub.execute_input": "2021-02-20T16:31:36.218003Z",
     "iopub.status.busy": "2021-02-20T16:31:36.217497Z",
     "iopub.status.idle": "2021-02-20T16:31:36.219648Z",
     "shell.execute_reply": "2021-02-20T16:31:36.220145Z"
    }
   },
   "outputs": [
    {
     "name": "stdout",
     "output_type": "stream",
     "text": [
      "Lisphilar (2020), COVID-19 dataset in Japan, GitHub repository, https://github.com/lisphilar/covid19-sir/data/japan\n"
     ]
    }
   ],
   "source": [
    "# Description/citation\n",
    "print(japan_data.citation)"
   ]
  },
  {
   "cell_type": "code",
   "execution_count": 74,
   "id": "previous-signature",
   "metadata": {
    "collapsed": false,
    "execution": {
     "iopub.execute_input": "2021-02-20T16:31:36.229518Z",
     "iopub.status.busy": "2021-02-20T16:31:36.229004Z",
     "iopub.status.idle": "2021-02-20T16:31:36.231910Z",
     "shell.execute_reply": "2021-02-20T16:31:36.232326Z"
    }
   },
   "outputs": [
    {
     "data": {
      "text/html": [
       "<div>\n",
       "<style scoped>\n",
       "    .dataframe tbody tr th:only-of-type {\n",
       "        vertical-align: middle;\n",
       "    }\n",
       "\n",
       "    .dataframe tbody tr th {\n",
       "        vertical-align: top;\n",
       "    }\n",
       "\n",
       "    .dataframe thead th {\n",
       "        text-align: right;\n",
       "    }\n",
       "</style>\n",
       "<table border=\"1\" class=\"dataframe\">\n",
       "  <thead>\n",
       "    <tr style=\"text-align: right;\">\n",
       "      <th></th>\n",
       "      <th>Date</th>\n",
       "      <th>Country</th>\n",
       "      <th>Province</th>\n",
       "      <th>Confirmed</th>\n",
       "      <th>Infected</th>\n",
       "      <th>Fatal</th>\n",
       "      <th>Recovered</th>\n",
       "      <th>Tests</th>\n",
       "      <th>Moderate</th>\n",
       "      <th>Severe</th>\n",
       "    </tr>\n",
       "  </thead>\n",
       "  <tbody>\n",
       "    <tr>\n",
       "      <th>16641</th>\n",
       "      <td>2021-02-15</td>\n",
       "      <td>Japan</td>\n",
       "      <td>-</td>\n",
       "      <td>415782</td>\n",
       "      <td>23733</td>\n",
       "      <td>6952</td>\n",
       "      <td>385097</td>\n",
       "      <td>7587036</td>\n",
       "      <td>22754</td>\n",
       "      <td>658</td>\n",
       "    </tr>\n",
       "    <tr>\n",
       "      <th>16642</th>\n",
       "      <td>2021-02-16</td>\n",
       "      <td>Japan</td>\n",
       "      <td>-</td>\n",
       "      <td>417765</td>\n",
       "      <td>23010</td>\n",
       "      <td>7015</td>\n",
       "      <td>387740</td>\n",
       "      <td>7647131</td>\n",
       "      <td>22005</td>\n",
       "      <td>644</td>\n",
       "    </tr>\n",
       "    <tr>\n",
       "      <th>16643</th>\n",
       "      <td>2021-02-17</td>\n",
       "      <td>Japan</td>\n",
       "      <td>-</td>\n",
       "      <td>419015</td>\n",
       "      <td>20705</td>\n",
       "      <td>7102</td>\n",
       "      <td>391208</td>\n",
       "      <td>7707786</td>\n",
       "      <td>19757</td>\n",
       "      <td>607</td>\n",
       "    </tr>\n",
       "    <tr>\n",
       "      <th>16644</th>\n",
       "      <td>2021-02-18</td>\n",
       "      <td>Japan</td>\n",
       "      <td>-</td>\n",
       "      <td>420408</td>\n",
       "      <td>19718</td>\n",
       "      <td>7196</td>\n",
       "      <td>393494</td>\n",
       "      <td>7770206</td>\n",
       "      <td>18738</td>\n",
       "      <td>564</td>\n",
       "    </tr>\n",
       "    <tr>\n",
       "      <th>16645</th>\n",
       "      <td>2021-02-19</td>\n",
       "      <td>Japan</td>\n",
       "      <td>-</td>\n",
       "      <td>421967</td>\n",
       "      <td>19201</td>\n",
       "      <td>7274</td>\n",
       "      <td>395492</td>\n",
       "      <td>7825811</td>\n",
       "      <td>18352</td>\n",
       "      <td>547</td>\n",
       "    </tr>\n",
       "  </tbody>\n",
       "</table>\n",
       "</div>"
      ],
      "text/plain": [
       "            Date Country Province  Confirmed  Infected  Fatal  Recovered  \\\n",
       "16641 2021-02-15   Japan        -     415782     23733   6952     385097   \n",
       "16642 2021-02-16   Japan        -     417765     23010   7015     387740   \n",
       "16643 2021-02-17   Japan        -     419015     20705   7102     391208   \n",
       "16644 2021-02-18   Japan        -     420408     19718   7196     393494   \n",
       "16645 2021-02-19   Japan        -     421967     19201   7274     395492   \n",
       "\n",
       "         Tests  Moderate  Severe  \n",
       "16641  7587036     22754     658  \n",
       "16642  7647131     22005     644  \n",
       "16643  7707786     19757     607  \n",
       "16644  7770206     18738     564  \n",
       "16645  7825811     18352     547  "
      ]
     },
     "execution_count": 1,
     "metadata": {},
     "output_type": "execute_result"
    }
   ],
   "source": [
    "# Cleaned dataset\n",
    "japan_data.cleaned().tail()"
   ]
  },
  {
   "cell_type": "code",
   "execution_count": 75,
   "id": "rental-black",
   "metadata": {
    "collapsed": false,
    "execution": {
     "iopub.execute_input": "2021-02-20T16:31:36.236362Z",
     "iopub.status.busy": "2021-02-20T16:31:36.235847Z",
     "iopub.status.idle": "2021-02-20T16:31:36.280111Z",
     "shell.execute_reply": "2021-02-20T16:31:36.280491Z"
    }
   },
   "outputs": [
    {
     "data": {
      "text/html": [
       "<div>\n",
       "<style scoped>\n",
       "    .dataframe tbody tr th:only-of-type {\n",
       "        vertical-align: middle;\n",
       "    }\n",
       "\n",
       "    .dataframe tbody tr th {\n",
       "        vertical-align: top;\n",
       "    }\n",
       "\n",
       "    .dataframe thead th {\n",
       "        text-align: right;\n",
       "    }\n",
       "</style>\n",
       "<table border=\"1\" class=\"dataframe\">\n",
       "  <thead>\n",
       "    <tr style=\"text-align: right;\">\n",
       "      <th></th>\n",
       "      <th>Prefecture</th>\n",
       "      <th>Admin_Capital</th>\n",
       "      <th>Admin_Region</th>\n",
       "      <th>Admin_Num</th>\n",
       "      <th>Area_Habitable</th>\n",
       "      <th>Area_Total</th>\n",
       "      <th>Clinic_bed_Care</th>\n",
       "      <th>Clinic_bed_Total</th>\n",
       "      <th>Hospital_bed_Care</th>\n",
       "      <th>Hospital_bed_Specific</th>\n",
       "      <th>Hospital_bed_Total</th>\n",
       "      <th>Hospital_bed_Tuberculosis</th>\n",
       "      <th>Hospital_bed_Type-I</th>\n",
       "      <th>Hospital_bed_Type-II</th>\n",
       "      <th>Population_Female</th>\n",
       "      <th>Population_Male</th>\n",
       "      <th>Population_Total</th>\n",
       "      <th>Location_Latitude</th>\n",
       "      <th>Location_Longitude</th>\n",
       "    </tr>\n",
       "  </thead>\n",
       "  <tbody>\n",
       "    <tr>\n",
       "      <th>42</th>\n",
       "      <td>Kumamoto</td>\n",
       "      <td>Kumamoto</td>\n",
       "      <td>Kyushu</td>\n",
       "      <td>43</td>\n",
       "      <td>2796</td>\n",
       "      <td>7409</td>\n",
       "      <td>497</td>\n",
       "      <td>4628</td>\n",
       "      <td>8340</td>\n",
       "      <td>0</td>\n",
       "      <td>33710</td>\n",
       "      <td>95</td>\n",
       "      <td>2</td>\n",
       "      <td>46</td>\n",
       "      <td>933</td>\n",
       "      <td>833</td>\n",
       "      <td>1765</td>\n",
       "      <td>32.790513</td>\n",
       "      <td>130.742388</td>\n",
       "    </tr>\n",
       "    <tr>\n",
       "      <th>43</th>\n",
       "      <td>Oita</td>\n",
       "      <td>Oita</td>\n",
       "      <td>Kyushu</td>\n",
       "      <td>44</td>\n",
       "      <td>1799</td>\n",
       "      <td>6341</td>\n",
       "      <td>269</td>\n",
       "      <td>3561</td>\n",
       "      <td>2618</td>\n",
       "      <td>0</td>\n",
       "      <td>19834</td>\n",
       "      <td>50</td>\n",
       "      <td>2</td>\n",
       "      <td>38</td>\n",
       "      <td>607</td>\n",
       "      <td>546</td>\n",
       "      <td>1152</td>\n",
       "      <td>33.238391</td>\n",
       "      <td>131.612658</td>\n",
       "    </tr>\n",
       "    <tr>\n",
       "      <th>44</th>\n",
       "      <td>Miyazaki</td>\n",
       "      <td>Miyazaki</td>\n",
       "      <td>Kyushu</td>\n",
       "      <td>45</td>\n",
       "      <td>1850</td>\n",
       "      <td>7735</td>\n",
       "      <td>206</td>\n",
       "      <td>2357</td>\n",
       "      <td>3682</td>\n",
       "      <td>0</td>\n",
       "      <td>18769</td>\n",
       "      <td>33</td>\n",
       "      <td>1</td>\n",
       "      <td>30</td>\n",
       "      <td>577</td>\n",
       "      <td>512</td>\n",
       "      <td>1089</td>\n",
       "      <td>31.911188</td>\n",
       "      <td>131.423873</td>\n",
       "    </tr>\n",
       "    <tr>\n",
       "      <th>45</th>\n",
       "      <td>Kagoshima</td>\n",
       "      <td>Kagoshima</td>\n",
       "      <td>Kyushu</td>\n",
       "      <td>46</td>\n",
       "      <td>3313</td>\n",
       "      <td>9187</td>\n",
       "      <td>652</td>\n",
       "      <td>4827</td>\n",
       "      <td>7750</td>\n",
       "      <td>0</td>\n",
       "      <td>32651</td>\n",
       "      <td>98</td>\n",
       "      <td>1</td>\n",
       "      <td>44</td>\n",
       "      <td>863</td>\n",
       "      <td>763</td>\n",
       "      <td>1626</td>\n",
       "      <td>31.560052</td>\n",
       "      <td>130.557745</td>\n",
       "    </tr>\n",
       "    <tr>\n",
       "      <th>46</th>\n",
       "      <td>Okinawa</td>\n",
       "      <td>Naha</td>\n",
       "      <td>Okinawa</td>\n",
       "      <td>47</td>\n",
       "      <td>1169</td>\n",
       "      <td>2281</td>\n",
       "      <td>83</td>\n",
       "      <td>914</td>\n",
       "      <td>3804</td>\n",
       "      <td>0</td>\n",
       "      <td>18710</td>\n",
       "      <td>47</td>\n",
       "      <td>4</td>\n",
       "      <td>20</td>\n",
       "      <td>734</td>\n",
       "      <td>709</td>\n",
       "      <td>1443</td>\n",
       "      <td>26.211761</td>\n",
       "      <td>127.681119</td>\n",
       "    </tr>\n",
       "  </tbody>\n",
       "</table>\n",
       "</div>"
      ],
      "text/plain": [
       "   Prefecture Admin_Capital Admin_Region  Admin_Num  Area_Habitable  \\\n",
       "42   Kumamoto      Kumamoto       Kyushu         43            2796   \n",
       "43       Oita          Oita       Kyushu         44            1799   \n",
       "44   Miyazaki      Miyazaki       Kyushu         45            1850   \n",
       "45  Kagoshima     Kagoshima       Kyushu         46            3313   \n",
       "46    Okinawa          Naha      Okinawa         47            1169   \n",
       "\n",
       "    Area_Total  Clinic_bed_Care  Clinic_bed_Total  Hospital_bed_Care  \\\n",
       "42        7409              497              4628               8340   \n",
       "43        6341              269              3561               2618   \n",
       "44        7735              206              2357               3682   \n",
       "45        9187              652              4827               7750   \n",
       "46        2281               83               914               3804   \n",
       "\n",
       "    Hospital_bed_Specific  Hospital_bed_Total  Hospital_bed_Tuberculosis  \\\n",
       "42                      0               33710                         95   \n",
       "43                      0               19834                         50   \n",
       "44                      0               18769                         33   \n",
       "45                      0               32651                         98   \n",
       "46                      0               18710                         47   \n",
       "\n",
       "    Hospital_bed_Type-I  Hospital_bed_Type-II  Population_Female  \\\n",
       "42                    2                    46                933   \n",
       "43                    2                    38                607   \n",
       "44                    1                    30                577   \n",
       "45                    1                    44                863   \n",
       "46                    4                    20                734   \n",
       "\n",
       "    Population_Male  Population_Total  Location_Latitude  Location_Longitude  \n",
       "42              833              1765          32.790513          130.742388  \n",
       "43              546              1152          33.238391          131.612658  \n",
       "44              512              1089          31.911188          131.423873  \n",
       "45              763              1626          31.560052          130.557745  \n",
       "46              709              1443          26.211761          127.681119  "
      ]
     },
     "execution_count": 1,
     "metadata": {},
     "output_type": "execute_result"
    }
   ],
   "source": [
    "# Metadata\n",
    "japan_data.meta().tail()"
   ]
  },
  {
   "cell_type": "markdown",
   "id": "auburn-selling",
   "metadata": {},
   "source": [
    "We can visualize the number of cases with `.map()` method. Arguments are the same as `JHUData`, but country name cannot be specified."
   ]
  },
  {
   "cell_type": "code",
   "execution_count": 76,
   "id": "excited-young",
   "metadata": {
    "execution": {
     "iopub.execute_input": "2021-02-20T16:31:36.283932Z",
     "iopub.status.busy": "2021-02-20T16:31:36.283419Z",
     "iopub.status.idle": "2021-02-20T16:31:37.713763Z",
     "shell.execute_reply": "2021-02-20T16:31:37.713199Z"
    }
   },
   "outputs": [
    {
     "data": {
      "image/png": "[encoded data removed]",
      "text/plain": [
       "<Figure size 648x432 with 2 Axes>"
      ]
     },
     "metadata": {
      "needs_background": "light"
     },
     "output_type": "display_data"
    }
   ],
   "source": [
    "# Country map with province level data\n",
    "japan_data.map(variable=\"Severe\")"
   ]
  },
  {
   "cell_type": "code",
   "execution_count": 77,
   "id": "systematic-maria",
   "metadata": {
    "execution": {
     "iopub.execute_input": "2021-02-20T16:31:37.718520Z",
     "iopub.status.busy": "2021-02-20T16:31:37.717838Z",
     "iopub.status.idle": "2021-02-20T16:31:37.742630Z",
     "shell.execute_reply": "2021-02-20T16:31:37.742020Z"
    }
   },
   "outputs": [
    {
     "data": {
      "text/html": [
       "<div>\n",
       "<style scoped>\n",
       "    .dataframe tbody tr th:only-of-type {\n",
       "        vertical-align: middle;\n",
       "    }\n",
       "\n",
       "    .dataframe tbody tr th {\n",
       "        vertical-align: top;\n",
       "    }\n",
       "\n",
       "    .dataframe thead th {\n",
       "        text-align: right;\n",
       "    }\n",
       "</style>\n",
       "<table border=\"1\" class=\"dataframe\">\n",
       "  <thead>\n",
       "    <tr style=\"text-align: right;\">\n",
       "      <th></th>\n",
       "      <th>Date</th>\n",
       "      <th>Country</th>\n",
       "      <th>Province</th>\n",
       "      <th>Confirmed</th>\n",
       "      <th>Infected</th>\n",
       "      <th>Fatal</th>\n",
       "      <th>Recovered</th>\n",
       "      <th>Tests</th>\n",
       "      <th>Moderate</th>\n",
       "      <th>Severe</th>\n",
       "    </tr>\n",
       "  </thead>\n",
       "  <tbody>\n",
       "    <tr>\n",
       "      <th>16261</th>\n",
       "      <td>2021-02-15</td>\n",
       "      <td>Japan</td>\n",
       "      <td>Entering</td>\n",
       "      <td>2199</td>\n",
       "      <td>38</td>\n",
       "      <td>2</td>\n",
       "      <td>2159</td>\n",
       "      <td>500815</td>\n",
       "      <td>38</td>\n",
       "      <td>0</td>\n",
       "    </tr>\n",
       "    <tr>\n",
       "      <th>16262</th>\n",
       "      <td>2021-02-16</td>\n",
       "      <td>Japan</td>\n",
       "      <td>Entering</td>\n",
       "      <td>2200</td>\n",
       "      <td>35</td>\n",
       "      <td>2</td>\n",
       "      <td>2163</td>\n",
       "      <td>502489</td>\n",
       "      <td>35</td>\n",
       "      <td>0</td>\n",
       "    </tr>\n",
       "    <tr>\n",
       "      <th>16263</th>\n",
       "      <td>2021-02-17</td>\n",
       "      <td>Japan</td>\n",
       "      <td>Entering</td>\n",
       "      <td>2201</td>\n",
       "      <td>33</td>\n",
       "      <td>2</td>\n",
       "      <td>2166</td>\n",
       "      <td>503295</td>\n",
       "      <td>33</td>\n",
       "      <td>0</td>\n",
       "    </tr>\n",
       "    <tr>\n",
       "      <th>16264</th>\n",
       "      <td>2021-02-18</td>\n",
       "      <td>Japan</td>\n",
       "      <td>Entering</td>\n",
       "      <td>2205</td>\n",
       "      <td>30</td>\n",
       "      <td>2</td>\n",
       "      <td>2173</td>\n",
       "      <td>504577</td>\n",
       "      <td>30</td>\n",
       "      <td>0</td>\n",
       "    </tr>\n",
       "    <tr>\n",
       "      <th>16265</th>\n",
       "      <td>2021-02-19</td>\n",
       "      <td>Japan</td>\n",
       "      <td>Entering</td>\n",
       "      <td>2205</td>\n",
       "      <td>29</td>\n",
       "      <td>2</td>\n",
       "      <td>2174</td>\n",
       "      <td>505678</td>\n",
       "      <td>29</td>\n",
       "      <td>0</td>\n",
       "    </tr>\n",
       "  </tbody>\n",
       "</table>\n",
       "</div>"
      ],
      "text/plain": [
       "            Date Country  Province  Confirmed  Infected  Fatal  Recovered  \\\n",
       "16261 2021-02-15   Japan  Entering       2199        38      2       2159   \n",
       "16262 2021-02-16   Japan  Entering       2200        35      2       2163   \n",
       "16263 2021-02-17   Japan  Entering       2201        33      2       2166   \n",
       "16264 2021-02-18   Japan  Entering       2205        30      2       2173   \n",
       "16265 2021-02-19   Japan  Entering       2205        29      2       2174   \n",
       "\n",
       "        Tests  Moderate  Severe  \n",
       "16261  500815        38       0  \n",
       "16262  502489        35       0  \n",
       "16263  503295        33       0  \n",
       "16264  504577        30       0  \n",
       "16265  505678        29       0  "
      ]
     },
     "execution_count": 1,
     "metadata": {},
     "output_type": "execute_result"
    }
   ],
   "source": [
    "# Province level data\n",
    "japan_data.layer(country=\"Japan\").tail()"
   ]
  },
  {
   "cell_type": "markdown",
   "id": "thrown-kelly",
   "metadata": {},
   "source": [
    "Map with country level data is not prepared, but country level data can be retrieved."
   ]
  },
  {
   "cell_type": "code",
   "execution_count": 78,
   "id": "macro-prime",
   "metadata": {
    "execution": {
     "iopub.execute_input": "2021-02-20T16:31:37.746503Z",
     "iopub.status.busy": "2021-02-20T16:31:37.745946Z",
     "iopub.status.idle": "2021-02-20T16:31:37.765634Z",
     "shell.execute_reply": "2021-02-20T16:31:37.765036Z"
    }
   },
   "outputs": [
    {
     "data": {
      "text/html": [
       "<div>\n",
       "<style scoped>\n",
       "    .dataframe tbody tr th:only-of-type {\n",
       "        vertical-align: middle;\n",
       "    }\n",
       "\n",
       "    .dataframe tbody tr th {\n",
       "        vertical-align: top;\n",
       "    }\n",
       "\n",
       "    .dataframe thead th {\n",
       "        text-align: right;\n",
       "    }\n",
       "</style>\n",
       "<table border=\"1\" class=\"dataframe\">\n",
       "  <thead>\n",
       "    <tr style=\"text-align: right;\">\n",
       "      <th></th>\n",
       "      <th>Date</th>\n",
       "      <th>Country</th>\n",
       "      <th>Confirmed</th>\n",
       "      <th>Infected</th>\n",
       "      <th>Fatal</th>\n",
       "      <th>Recovered</th>\n",
       "      <th>Tests</th>\n",
       "      <th>Moderate</th>\n",
       "      <th>Severe</th>\n",
       "    </tr>\n",
       "  </thead>\n",
       "  <tbody>\n",
       "    <tr>\n",
       "      <th>375</th>\n",
       "      <td>2021-02-15</td>\n",
       "      <td>Japan</td>\n",
       "      <td>415782</td>\n",
       "      <td>23733</td>\n",
       "      <td>6952</td>\n",
       "      <td>385097</td>\n",
       "      <td>7587036</td>\n",
       "      <td>22754</td>\n",
       "      <td>658</td>\n",
       "    </tr>\n",
       "    <tr>\n",
       "      <th>376</th>\n",
       "      <td>2021-02-16</td>\n",
       "      <td>Japan</td>\n",
       "      <td>417765</td>\n",
       "      <td>23010</td>\n",
       "      <td>7015</td>\n",
       "      <td>387740</td>\n",
       "      <td>7647131</td>\n",
       "      <td>22005</td>\n",
       "      <td>644</td>\n",
       "    </tr>\n",
       "    <tr>\n",
       "      <th>377</th>\n",
       "      <td>2021-02-17</td>\n",
       "      <td>Japan</td>\n",
       "      <td>419015</td>\n",
       "      <td>20705</td>\n",
       "      <td>7102</td>\n",
       "      <td>391208</td>\n",
       "      <td>7707786</td>\n",
       "      <td>19757</td>\n",
       "      <td>607</td>\n",
       "    </tr>\n",
       "    <tr>\n",
       "      <th>378</th>\n",
       "      <td>2021-02-18</td>\n",
       "      <td>Japan</td>\n",
       "      <td>420408</td>\n",
       "      <td>19718</td>\n",
       "      <td>7196</td>\n",
       "      <td>393494</td>\n",
       "      <td>7770206</td>\n",
       "      <td>18738</td>\n",
       "      <td>564</td>\n",
       "    </tr>\n",
       "    <tr>\n",
       "      <th>379</th>\n",
       "      <td>2021-02-19</td>\n",
       "      <td>Japan</td>\n",
       "      <td>421967</td>\n",
       "      <td>19201</td>\n",
       "      <td>7274</td>\n",
       "      <td>395492</td>\n",
       "      <td>7825811</td>\n",
       "      <td>18352</td>\n",
       "      <td>547</td>\n",
       "    </tr>\n",
       "  </tbody>\n",
       "</table>\n",
       "</div>"
      ],
      "text/plain": [
       "          Date Country  Confirmed  Infected  Fatal  Recovered    Tests  \\\n",
       "375 2021-02-15   Japan     415782     23733   6952     385097  7587036   \n",
       "376 2021-02-16   Japan     417765     23010   7015     387740  7647131   \n",
       "377 2021-02-17   Japan     419015     20705   7102     391208  7707786   \n",
       "378 2021-02-18   Japan     420408     19718   7196     393494  7770206   \n",
       "379 2021-02-19   Japan     421967     19201   7274     395492  7825811   \n",
       "\n",
       "     Moderate  Severe  \n",
       "375     22754     658  \n",
       "376     22005     644  \n",
       "377     19757     607  \n",
       "378     18738     564  \n",
       "379     18352     547  "
      ]
     },
     "execution_count": 1,
     "metadata": {},
     "output_type": "execute_result"
    }
   ],
   "source": [
    "# Country level data\n",
    "japan_data.layer(country=None).tail()"
   ]
  }
 ],
 "metadata": {
  "kernelspec": {
   "display_name": "Python 3.9.1 64-bit ('.venv': venv)",
   "metadata": {
    "interpreter": {
     "hash": "aa53c8c6e6798222a2084c11cc25017700a8d3ad495b587e3a634f357767115f"
    }
   },
   "name": "python3"
  },
  "language_info": {
   "codemirror_mode": {
    "name": "ipython",
    "version": 3
   },
   "file_extension": ".py",
   "mimetype": "text/x-python",
   "name": "python",
   "nbconvert_exporter": "python",
   "pygments_lexer": "ipython3",
   "version": "3.9.1"
  }
 },
 "nbformat": 4,
 "nbformat_minor": 5
}
