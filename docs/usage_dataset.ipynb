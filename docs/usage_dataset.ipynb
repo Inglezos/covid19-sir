{
 "cells": [
  {
   "cell_type": "markdown",
   "id": "stretch-commercial",
   "metadata": {},
   "source": [
    "# Usage: datasets\n",
    "Here, we will review the raw/cleaned datasets. `Scenario` class performs data cleaning internally using `JHUData` class and so on, but it is important to review the features and data types before analysing them."
   ]
  },
  {
   "cell_type": "markdown",
   "id": "overhead-recipient",
   "metadata": {},
   "source": [
    "### Preparation\n",
    "Prepare the packages."
   ]
  },
  {
   "cell_type": "code",
   "execution_count": 1,
   "id": "protective-classic",
   "metadata": {
    "collapsed": false,
    "execution": {
     "iopub.execute_input": "2021-02-24T15:57:34.056708Z",
     "iopub.status.busy": "2021-02-24T15:57:34.055982Z",
     "iopub.status.idle": "2021-02-24T15:57:34.059279Z",
     "shell.execute_reply": "2021-02-24T15:57:34.058564Z"
    }
   },
   "outputs": [],
   "source": [
    "# !pip install covsirphy"
   ]
  },
  {
   "cell_type": "code",
   "execution_count": 2,
   "id": "stopped-contrast",
   "metadata": {
    "collapsed": false,
    "execution": {
     "iopub.execute_input": "2021-02-24T15:57:34.070875Z",
     "iopub.status.busy": "2021-02-24T15:57:34.069681Z",
     "iopub.status.idle": "2021-02-24T15:57:34.073530Z",
     "shell.execute_reply": "2021-02-24T15:57:34.072438Z"
    }
   },
   "outputs": [],
   "source": [
    "from pprint import pprint"
   ]
  },
  {
   "cell_type": "code",
   "execution_count": 3,
   "id": "amber-refrigerator",
   "metadata": {
    "collapsed": false,
    "execution": {
     "iopub.execute_input": "2021-02-24T15:57:34.079339Z",
     "iopub.status.busy": "2021-02-24T15:57:34.078232Z",
     "iopub.status.idle": "2021-02-24T15:57:38.529246Z",
     "shell.execute_reply": "2021-02-24T15:57:38.528837Z"
    },
    "tags": []
   },
   "outputs": [
    {
     "data": {
      "text/plain": [
       "'2.16.2-zeta-fu1'"
      ]
     },
     "execution_count": 1,
     "metadata": {},
     "output_type": "execute_result"
    }
   ],
   "source": [
    "import covsirphy as cs\n",
    "cs.__version__"
   ]
  },
  {
   "cell_type": "markdown",
   "id": "applied-standard",
   "metadata": {},
   "source": [
    "### Dataset preparation\n",
    "Download the datasets to \"input\" directory and load them.\n",
    "\n",
    "If \"input\" directory has the datasets, `DataLoader` instance will load the local files. If the datasets were updated in remote servers, `DataLoader` will update the local files automatically and download the datasets to \"../input\" directory and load them. We can change the directory when creating the instance."
   ]
  },
  {
   "cell_type": "code",
   "execution_count": 4,
   "id": "yellow-roads",
   "metadata": {
    "collapsed": false,
    "execution": {
     "iopub.execute_input": "2021-02-24T15:57:38.532957Z",
     "iopub.status.busy": "2021-02-24T15:57:38.532494Z",
     "iopub.status.idle": "2021-02-24T15:57:38.534577Z",
     "shell.execute_reply": "2021-02-24T15:57:38.534959Z"
    }
   },
   "outputs": [],
   "source": [
    "# Create DataLoader instance\n",
    "data_loader = cs.DataLoader(\"../input\")"
   ]
  },
  {
   "cell_type": "code",
   "execution_count": 5,
   "id": "ecological-vaccine",
   "metadata": {
    "execution": {
     "iopub.execute_input": "2021-02-24T15:57:38.538363Z",
     "iopub.status.busy": "2021-02-24T15:57:38.537898Z",
     "iopub.status.idle": "2021-02-24T15:57:44.280475Z",
     "shell.execute_reply": "2021-02-24T15:57:44.280819Z"
    }
   },
   "outputs": [],
   "source": [
    "# The number of cases (JHU style)\n",
    "jhu_data = data_loader.jhu(verbose=True)\n",
    "# Population in each country\n",
    "population_data = data_loader.population()\n",
    "# Government Response Tracker (OxCGRT)\n",
    "oxcgrt_data = data_loader.oxcgrt()"
   ]
  },
  {
   "cell_type": "code",
   "execution_count": 6,
   "id": "handled-thomas",
   "metadata": {
    "collapsed": false,
    "execution": {
     "iopub.execute_input": "2021-02-24T15:57:44.287139Z",
     "iopub.status.busy": "2021-02-24T15:57:44.286651Z",
     "iopub.status.idle": "2021-02-24T15:58:19.517827Z",
     "shell.execute_reply": "2021-02-24T15:58:19.517333Z"
    },
    "tags": []
   },
   "outputs": [],
   "source": [
    "# Linelist of case reports\n",
    "linelist = data_loader.linelist()\n",
    "# The number of tests\n",
    "pcr_data = data_loader.pcr()\n",
    "# The number of vaccinations\n",
    "vaccine_data = data_loader.vaccine()\n",
    "# Population pyramid\n",
    "pyramid_data = data_loader.pyramid()\n",
    "# Japan-specific dataset\n",
    "japan_data = data_loader.japan()"
   ]
  },
  {
   "cell_type": "markdown",
   "id": "moving-accident",
   "metadata": {},
   "source": [
    "### The number of cases (JHU style)\n",
    "The main dataset is that of the number of cases and was saved as `jhu_data`, an instance of `JHUData` class. This includes \"Confirmed\", \"Infected\", \"Recovered\" and \"Fatal\". \"Infected\" was calculated as \"Confirmed - Recovered - Fatal\"."
   ]
  },
  {
   "cell_type": "code",
   "execution_count": 7,
   "id": "behavioral-bibliography",
   "metadata": {
    "collapsed": false,
    "execution": {
     "iopub.execute_input": "2021-02-24T15:58:19.521500Z",
     "iopub.status.busy": "2021-02-24T15:58:19.521013Z",
     "iopub.status.idle": "2021-02-24T15:58:19.524007Z",
     "shell.execute_reply": "2021-02-24T15:58:19.524355Z"
    }
   },
   "outputs": [
    {
     "data": {
      "text/plain": [
       "covsirphy.cleaning.jhu_data.JHUData"
      ]
     },
     "execution_count": 1,
     "metadata": {},
     "output_type": "execute_result"
    }
   ],
   "source": [
    "type(jhu_data)"
   ]
  },
  {
   "cell_type": "markdown",
   "id": "universal-chuck",
   "metadata": {},
   "source": [
    "The dataset will be retrieved from [COVID-19 Data Hub](https://covid19datahub.io/) and [Data folder of CovsirPhy project](https://github.com/lisphilar/covid19-sir/tree/master/data). Description of these projects will be shown as follows."
   ]
  },
  {
   "cell_type": "code",
   "execution_count": 8,
   "id": "executive-interest",
   "metadata": {
    "collapsed": false,
    "execution": {
     "iopub.execute_input": "2021-02-24T15:58:19.527631Z",
     "iopub.status.busy": "2021-02-24T15:58:19.527155Z",
     "iopub.status.idle": "2021-02-24T15:58:19.529314Z",
     "shell.execute_reply": "2021-02-24T15:58:19.529949Z"
    },
    "tags": []
   },
   "outputs": [
    {
     "name": "stdout",
     "output_type": "stream",
     "text": [
      "(Secondary source) Guidotti, E., Ardia, D., (2020), \"COVID-19 Data Hub\", Journal of Open Source Software 5(51):2376, doi: 10.21105/joss.02376.\n",
      "Lisphilar (2020), COVID-19 dataset in Japan, GitHub repository, https://github.com/lisphilar/covid19-sir/data/japan\n"
     ]
    }
   ],
   "source": [
    "# Description/citation\n",
    "print(jhu_data.citation)"
   ]
  },
  {
   "cell_type": "code",
   "execution_count": 9,
   "id": "royal-priest",
   "metadata": {
    "collapsed": false,
    "execution": {
     "iopub.execute_input": "2021-02-24T15:58:19.532977Z",
     "iopub.status.busy": "2021-02-24T15:58:19.532484Z",
     "iopub.status.idle": "2021-02-24T15:58:19.534772Z",
     "shell.execute_reply": "2021-02-24T15:58:19.535120Z"
    },
    "tags": []
   },
   "outputs": [],
   "source": [
    "# Detailed citation list of COVID-19 Data Hub\n",
    "# print(data_loader.covid19dh_citation)"
   ]
  },
  {
   "cell_type": "code",
   "execution_count": 10,
   "id": "floral-radical",
   "metadata": {
    "collapsed": false,
    "execution": {
     "iopub.execute_input": "2021-02-24T15:58:19.548527Z",
     "iopub.status.busy": "2021-02-24T15:58:19.548004Z",
     "iopub.status.idle": "2021-02-24T15:58:19.556778Z",
     "shell.execute_reply": "2021-02-24T15:58:19.556234Z"
    }
   },
   "outputs": [
    {
     "data": {
      "text/html": [
       "<div>\n",
       "<style scoped>\n",
       "    .dataframe tbody tr th:only-of-type {\n",
       "        vertical-align: middle;\n",
       "    }\n",
       "\n",
       "    .dataframe tbody tr th {\n",
       "        vertical-align: top;\n",
       "    }\n",
       "\n",
       "    .dataframe thead th {\n",
       "        text-align: right;\n",
       "    }\n",
       "</style>\n",
       "<table border=\"1\" class=\"dataframe\">\n",
       "  <thead>\n",
       "    <tr style=\"text-align: right;\">\n",
       "      <th></th>\n",
       "      <th>ObservationDate</th>\n",
       "      <th>Tests</th>\n",
       "      <th>Confirmed</th>\n",
       "      <th>Recovered</th>\n",
       "      <th>Deaths</th>\n",
       "      <th>Population</th>\n",
       "      <th>ISO3</th>\n",
       "      <th>Province/State</th>\n",
       "      <th>Country/Region</th>\n",
       "      <th>school_closing</th>\n",
       "      <th>...</th>\n",
       "      <th>cancel_events</th>\n",
       "      <th>gatherings_restrictions</th>\n",
       "      <th>transport_closing</th>\n",
       "      <th>stay_home_restrictions</th>\n",
       "      <th>internal_movement_restrictions</th>\n",
       "      <th>international_movement_restrictions</th>\n",
       "      <th>information_campaigns</th>\n",
       "      <th>testing_policy</th>\n",
       "      <th>contact_tracing</th>\n",
       "      <th>stringency_index</th>\n",
       "    </tr>\n",
       "  </thead>\n",
       "  <tbody>\n",
       "    <tr>\n",
       "      <th>32201</th>\n",
       "      <td>2021-02-19</td>\n",
       "      <td>5728</td>\n",
       "      <td>1343.0</td>\n",
       "      <td>1314</td>\n",
       "      <td>21</td>\n",
       "      <td>107808.0</td>\n",
       "      <td>COL</td>\n",
       "      <td>Vichada</td>\n",
       "      <td>Colombia</td>\n",
       "      <td>3</td>\n",
       "      <td>...</td>\n",
       "      <td>1</td>\n",
       "      <td>3</td>\n",
       "      <td>1</td>\n",
       "      <td>1</td>\n",
       "      <td>1</td>\n",
       "      <td>4</td>\n",
       "      <td>2</td>\n",
       "      <td>2</td>\n",
       "      <td>2</td>\n",
       "      <td>81.02</td>\n",
       "    </tr>\n",
       "    <tr>\n",
       "      <th>32202</th>\n",
       "      <td>2021-02-20</td>\n",
       "      <td>5754</td>\n",
       "      <td>1358.0</td>\n",
       "      <td>1314</td>\n",
       "      <td>21</td>\n",
       "      <td>107808.0</td>\n",
       "      <td>COL</td>\n",
       "      <td>Vichada</td>\n",
       "      <td>Colombia</td>\n",
       "      <td>3</td>\n",
       "      <td>...</td>\n",
       "      <td>1</td>\n",
       "      <td>3</td>\n",
       "      <td>1</td>\n",
       "      <td>1</td>\n",
       "      <td>1</td>\n",
       "      <td>4</td>\n",
       "      <td>2</td>\n",
       "      <td>2</td>\n",
       "      <td>2</td>\n",
       "      <td>81.02</td>\n",
       "    </tr>\n",
       "    <tr>\n",
       "      <th>32203</th>\n",
       "      <td>2021-02-21</td>\n",
       "      <td>5756</td>\n",
       "      <td>1359.0</td>\n",
       "      <td>1330</td>\n",
       "      <td>21</td>\n",
       "      <td>107808.0</td>\n",
       "      <td>COL</td>\n",
       "      <td>Vichada</td>\n",
       "      <td>Colombia</td>\n",
       "      <td>3</td>\n",
       "      <td>...</td>\n",
       "      <td>1</td>\n",
       "      <td>3</td>\n",
       "      <td>1</td>\n",
       "      <td>1</td>\n",
       "      <td>1</td>\n",
       "      <td>4</td>\n",
       "      <td>2</td>\n",
       "      <td>2</td>\n",
       "      <td>2</td>\n",
       "      <td>81.02</td>\n",
       "    </tr>\n",
       "    <tr>\n",
       "      <th>32204</th>\n",
       "      <td>2021-02-22</td>\n",
       "      <td>5756</td>\n",
       "      <td>1359.0</td>\n",
       "      <td>1331</td>\n",
       "      <td>21</td>\n",
       "      <td>107808.0</td>\n",
       "      <td>COL</td>\n",
       "      <td>Vichada</td>\n",
       "      <td>Colombia</td>\n",
       "      <td>3</td>\n",
       "      <td>...</td>\n",
       "      <td>1</td>\n",
       "      <td>3</td>\n",
       "      <td>1</td>\n",
       "      <td>1</td>\n",
       "      <td>1</td>\n",
       "      <td>4</td>\n",
       "      <td>2</td>\n",
       "      <td>2</td>\n",
       "      <td>2</td>\n",
       "      <td>81.02</td>\n",
       "    </tr>\n",
       "    <tr>\n",
       "      <th>32205</th>\n",
       "      <td>2021-02-23</td>\n",
       "      <td>5756</td>\n",
       "      <td>1359.0</td>\n",
       "      <td>1331</td>\n",
       "      <td>21</td>\n",
       "      <td>107808.0</td>\n",
       "      <td>COL</td>\n",
       "      <td>Vichada</td>\n",
       "      <td>Colombia</td>\n",
       "      <td>3</td>\n",
       "      <td>...</td>\n",
       "      <td>1</td>\n",
       "      <td>3</td>\n",
       "      <td>1</td>\n",
       "      <td>1</td>\n",
       "      <td>1</td>\n",
       "      <td>4</td>\n",
       "      <td>2</td>\n",
       "      <td>2</td>\n",
       "      <td>2</td>\n",
       "      <td>81.02</td>\n",
       "    </tr>\n",
       "  </tbody>\n",
       "</table>\n",
       "<p>5 rows × 21 columns</p>\n",
       "</div>"
      ],
      "text/plain": [
       "      ObservationDate  Tests  Confirmed  Recovered  Deaths  Population ISO3  \\\n",
       "32201      2021-02-19   5728     1343.0       1314      21    107808.0  COL   \n",
       "32202      2021-02-20   5754     1358.0       1314      21    107808.0  COL   \n",
       "32203      2021-02-21   5756     1359.0       1330      21    107808.0  COL   \n",
       "32204      2021-02-22   5756     1359.0       1331      21    107808.0  COL   \n",
       "32205      2021-02-23   5756     1359.0       1331      21    107808.0  COL   \n",
       "\n",
       "      Province/State Country/Region  school_closing  ...  cancel_events  \\\n",
       "32201        Vichada       Colombia               3  ...              1   \n",
       "32202        Vichada       Colombia               3  ...              1   \n",
       "32203        Vichada       Colombia               3  ...              1   \n",
       "32204        Vichada       Colombia               3  ...              1   \n",
       "32205        Vichada       Colombia               3  ...              1   \n",
       "\n",
       "       gatherings_restrictions  transport_closing  stay_home_restrictions  \\\n",
       "32201                        3                  1                       1   \n",
       "32202                        3                  1                       1   \n",
       "32203                        3                  1                       1   \n",
       "32204                        3                  1                       1   \n",
       "32205                        3                  1                       1   \n",
       "\n",
       "       internal_movement_restrictions  international_movement_restrictions  \\\n",
       "32201                               1                                    4   \n",
       "32202                               1                                    4   \n",
       "32203                               1                                    4   \n",
       "32204                               1                                    4   \n",
       "32205                               1                                    4   \n",
       "\n",
       "       information_campaigns  testing_policy  contact_tracing  \\\n",
       "32201                      2               2                2   \n",
       "32202                      2               2                2   \n",
       "32203                      2               2                2   \n",
       "32204                      2               2                2   \n",
       "32205                      2               2                2   \n",
       "\n",
       "       stringency_index  \n",
       "32201             81.02  \n",
       "32202             81.02  \n",
       "32203             81.02  \n",
       "32204             81.02  \n",
       "32205             81.02  \n",
       "\n",
       "[5 rows x 21 columns]"
      ]
     },
     "execution_count": 1,
     "metadata": {},
     "output_type": "execute_result"
    }
   ],
   "source": [
    "# Raw data\n",
    "jhu_data.raw.tail()"
   ]
  },
  {
   "cell_type": "code",
   "execution_count": 11,
   "id": "jewish-sponsorship",
   "metadata": {
    "collapsed": false,
    "execution": {
     "iopub.execute_input": "2021-02-24T15:58:19.570199Z",
     "iopub.status.busy": "2021-02-24T15:58:19.569688Z",
     "iopub.status.idle": "2021-02-24T15:58:19.572433Z",
     "shell.execute_reply": "2021-02-24T15:58:19.572812Z"
    }
   },
   "outputs": [
    {
     "data": {
      "text/html": [
       "<div>\n",
       "<style scoped>\n",
       "    .dataframe tbody tr th:only-of-type {\n",
       "        vertical-align: middle;\n",
       "    }\n",
       "\n",
       "    .dataframe tbody tr th {\n",
       "        vertical-align: top;\n",
       "    }\n",
       "\n",
       "    .dataframe thead th {\n",
       "        text-align: right;\n",
       "    }\n",
       "</style>\n",
       "<table border=\"1\" class=\"dataframe\">\n",
       "  <thead>\n",
       "    <tr style=\"text-align: right;\">\n",
       "      <th></th>\n",
       "      <th>Date</th>\n",
       "      <th>Country</th>\n",
       "      <th>Province</th>\n",
       "      <th>Confirmed</th>\n",
       "      <th>Infected</th>\n",
       "      <th>Fatal</th>\n",
       "      <th>Recovered</th>\n",
       "    </tr>\n",
       "  </thead>\n",
       "  <tbody>\n",
       "    <tr>\n",
       "      <th>16886</th>\n",
       "      <td>2021-02-20</td>\n",
       "      <td>Japan</td>\n",
       "      <td>-</td>\n",
       "      <td>423311</td>\n",
       "      <td>18685</td>\n",
       "      <td>7333</td>\n",
       "      <td>397293</td>\n",
       "    </tr>\n",
       "    <tr>\n",
       "      <th>16887</th>\n",
       "      <td>2021-02-21</td>\n",
       "      <td>Japan</td>\n",
       "      <td>-</td>\n",
       "      <td>424507</td>\n",
       "      <td>18169</td>\n",
       "      <td>7417</td>\n",
       "      <td>398921</td>\n",
       "    </tr>\n",
       "    <tr>\n",
       "      <th>16888</th>\n",
       "      <td>2021-02-22</td>\n",
       "      <td>Japan</td>\n",
       "      <td>-</td>\n",
       "      <td>425597</td>\n",
       "      <td>17873</td>\n",
       "      <td>7474</td>\n",
       "      <td>400250</td>\n",
       "    </tr>\n",
       "    <tr>\n",
       "      <th>16889</th>\n",
       "      <td>2021-02-23</td>\n",
       "      <td>Japan</td>\n",
       "      <td>-</td>\n",
       "      <td>426456</td>\n",
       "      <td>17118</td>\n",
       "      <td>7529</td>\n",
       "      <td>401809</td>\n",
       "    </tr>\n",
       "    <tr>\n",
       "      <th>16890</th>\n",
       "      <td>2021-02-24</td>\n",
       "      <td>Japan</td>\n",
       "      <td>-</td>\n",
       "      <td>427467</td>\n",
       "      <td>16502</td>\n",
       "      <td>7584</td>\n",
       "      <td>403381</td>\n",
       "    </tr>\n",
       "  </tbody>\n",
       "</table>\n",
       "</div>"
      ],
      "text/plain": [
       "            Date Country Province  Confirmed  Infected  Fatal  Recovered\n",
       "16886 2021-02-20   Japan        -     423311     18685   7333     397293\n",
       "16887 2021-02-21   Japan        -     424507     18169   7417     398921\n",
       "16888 2021-02-22   Japan        -     425597     17873   7474     400250\n",
       "16889 2021-02-23   Japan        -     426456     17118   7529     401809\n",
       "16890 2021-02-24   Japan        -     427467     16502   7584     403381"
      ]
     },
     "execution_count": 1,
     "metadata": {},
     "output_type": "execute_result"
    }
   ],
   "source": [
    "# Cleaned data\n",
    "jhu_data.cleaned().tail()"
   ]
  },
  {
   "cell_type": "code",
   "execution_count": 12,
   "id": "interim-jersey",
   "metadata": {
    "collapsed": false,
    "execution": {
     "iopub.execute_input": "2021-02-24T15:58:19.580629Z",
     "iopub.status.busy": "2021-02-24T15:58:19.580075Z",
     "iopub.status.idle": "2021-02-24T15:58:19.593482Z",
     "shell.execute_reply": "2021-02-24T15:58:19.593895Z"
    }
   },
   "outputs": [
    {
     "name": "stdout",
     "output_type": "stream",
     "text": [
      "<class 'pandas.core.frame.DataFrame'>\n",
      "Int64Index: 424711 entries, 0 to 16890\n",
      "Data columns (total 7 columns):\n",
      " #   Column     Non-Null Count   Dtype         \n",
      "---  ------     --------------   -----         \n",
      " 0   Date       424711 non-null  datetime64[ns]\n",
      " 1   Country    424711 non-null  category      \n",
      " 2   Province   424711 non-null  category      \n",
      " 3   Confirmed  424711 non-null  int64         \n",
      " 4   Infected   424711 non-null  int64         \n",
      " 5   Fatal      424711 non-null  int64         \n",
      " 6   Recovered  424711 non-null  int64         \n",
      "dtypes: category(2), datetime64[ns](1), int64(4)\n",
      "memory usage: 21.1 MB\n"
     ]
    }
   ],
   "source": [
    "jhu_data.cleaned().info()"
   ]
  },
  {
   "cell_type": "markdown",
   "id": "single-immigration",
   "metadata": {},
   "source": [
    "Total number of cases in all countries with `JHUData.total()` method."
   ]
  },
  {
   "cell_type": "code",
   "execution_count": 13,
   "id": "fuzzy-welsh",
   "metadata": {
    "collapsed": false,
    "execution": {
     "iopub.execute_input": "2021-02-24T15:58:19.597637Z",
     "iopub.status.busy": "2021-02-24T15:58:19.597130Z",
     "iopub.status.idle": "2021-02-24T15:58:19.862499Z",
     "shell.execute_reply": "2021-02-24T15:58:19.861994Z"
    }
   },
   "outputs": [
    {
     "data": {
      "text/html": [
       "<div>\n",
       "<style scoped>\n",
       "    .dataframe tbody tr th:only-of-type {\n",
       "        vertical-align: middle;\n",
       "    }\n",
       "\n",
       "    .dataframe tbody tr th {\n",
       "        vertical-align: top;\n",
       "    }\n",
       "\n",
       "    .dataframe thead th {\n",
       "        text-align: right;\n",
       "    }\n",
       "</style>\n",
       "<table border=\"1\" class=\"dataframe\">\n",
       "  <thead>\n",
       "    <tr style=\"text-align: right;\">\n",
       "      <th></th>\n",
       "      <th>Confirmed</th>\n",
       "      <th>Infected</th>\n",
       "      <th>Fatal</th>\n",
       "      <th>Recovered</th>\n",
       "      <th>Fatal per Confirmed</th>\n",
       "      <th>Recovered per Confirmed</th>\n",
       "      <th>Fatal per (Fatal or Recovered)</th>\n",
       "    </tr>\n",
       "    <tr>\n",
       "      <th>Date</th>\n",
       "      <th></th>\n",
       "      <th></th>\n",
       "      <th></th>\n",
       "      <th></th>\n",
       "      <th></th>\n",
       "      <th></th>\n",
       "      <th></th>\n",
       "    </tr>\n",
       "  </thead>\n",
       "  <tbody>\n",
       "    <tr>\n",
       "      <th>2021-02-19</th>\n",
       "      <td>110826346</td>\n",
       "      <td>39700908</td>\n",
       "      <td>2454256</td>\n",
       "      <td>68671182</td>\n",
       "      <td>0.022145</td>\n",
       "      <td>0.619629</td>\n",
       "      <td>0.034506</td>\n",
       "    </tr>\n",
       "    <tr>\n",
       "      <th>2021-02-20</th>\n",
       "      <td>111170804</td>\n",
       "      <td>39774303</td>\n",
       "      <td>2462393</td>\n",
       "      <td>68934108</td>\n",
       "      <td>0.022150</td>\n",
       "      <td>0.620074</td>\n",
       "      <td>0.034489</td>\n",
       "    </tr>\n",
       "    <tr>\n",
       "      <th>2021-02-21</th>\n",
       "      <td>111450630</td>\n",
       "      <td>39844854</td>\n",
       "      <td>2467881</td>\n",
       "      <td>69137895</td>\n",
       "      <td>0.022143</td>\n",
       "      <td>0.620345</td>\n",
       "      <td>0.034465</td>\n",
       "    </tr>\n",
       "    <tr>\n",
       "      <th>2021-02-22</th>\n",
       "      <td>111740252</td>\n",
       "      <td>39957136</td>\n",
       "      <td>2474032</td>\n",
       "      <td>69309084</td>\n",
       "      <td>0.022141</td>\n",
       "      <td>0.620270</td>\n",
       "      <td>0.034465</td>\n",
       "    </tr>\n",
       "    <tr>\n",
       "      <th>2021-02-23</th>\n",
       "      <td>111745732</td>\n",
       "      <td>39960796</td>\n",
       "      <td>2474205</td>\n",
       "      <td>69310731</td>\n",
       "      <td>0.022141</td>\n",
       "      <td>0.620254</td>\n",
       "      <td>0.034467</td>\n",
       "    </tr>\n",
       "  </tbody>\n",
       "</table>\n",
       "</div>"
      ],
      "text/plain": [
       "            Confirmed  Infected    Fatal  Recovered  Fatal per Confirmed  \\\n",
       "Date                                                                       \n",
       "2021-02-19  110826346  39700908  2454256   68671182             0.022145   \n",
       "2021-02-20  111170804  39774303  2462393   68934108             0.022150   \n",
       "2021-02-21  111450630  39844854  2467881   69137895             0.022143   \n",
       "2021-02-22  111740252  39957136  2474032   69309084             0.022141   \n",
       "2021-02-23  111745732  39960796  2474205   69310731             0.022141   \n",
       "\n",
       "            Recovered per Confirmed  Fatal per (Fatal or Recovered)  \n",
       "Date                                                                 \n",
       "2021-02-19                 0.619629                        0.034506  \n",
       "2021-02-20                 0.620074                        0.034489  \n",
       "2021-02-21                 0.620345                        0.034465  \n",
       "2021-02-22                 0.620270                        0.034465  \n",
       "2021-02-23                 0.620254                        0.034467  "
      ]
     },
     "execution_count": 1,
     "metadata": {},
     "output_type": "execute_result"
    }
   ],
   "source": [
    "# Calculate total values\n",
    "total_df = jhu_data.total()\n",
    "total_df.tail()"
   ]
  },
  {
   "cell_type": "code",
   "execution_count": 14,
   "id": "exclusive-physiology",
   "metadata": {
    "collapsed": false,
    "execution": {
     "iopub.execute_input": "2021-02-24T15:58:19.866941Z",
     "iopub.status.busy": "2021-02-24T15:58:19.866412Z",
     "iopub.status.idle": "2021-02-24T15:58:20.570224Z",
     "shell.execute_reply": "2021-02-24T15:58:20.570642Z"
    }
   },
   "outputs": [
    {
     "data": {
      "image/png": "[encoded data removed]",
      "text/plain": [
       "<Figure size 648x432 with 1 Axes>"
      ]
     },
     "metadata": {
      "needs_background": "light"
     },
     "output_type": "display_data"
    }
   ],
   "source": [
    "# Plot the total values\n",
    "cs.line_plot(total_df[[\"Infected\", \"Fatal\", \"Recovered\"]], \"Total number of cases over time\")"
   ]
  },
  {
   "cell_type": "code",
   "execution_count": 15,
   "id": "professional-unemployment",
   "metadata": {
    "collapsed": false,
    "execution": {
     "iopub.execute_input": "2021-02-24T15:58:20.576978Z",
     "iopub.status.busy": "2021-02-24T15:58:20.576451Z",
     "iopub.status.idle": "2021-02-24T15:58:20.590352Z",
     "shell.execute_reply": "2021-02-24T15:58:20.590792Z"
    }
   },
   "outputs": [
    {
     "data": {
      "text/html": [
       "<div>\n",
       "<style scoped>\n",
       "    .dataframe tbody tr th:only-of-type {\n",
       "        vertical-align: middle;\n",
       "    }\n",
       "\n",
       "    .dataframe tbody tr th {\n",
       "        vertical-align: top;\n",
       "    }\n",
       "\n",
       "    .dataframe thead th {\n",
       "        text-align: right;\n",
       "    }\n",
       "</style>\n",
       "<table border=\"1\" class=\"dataframe\">\n",
       "  <thead>\n",
       "    <tr style=\"text-align: right;\">\n",
       "      <th></th>\n",
       "      <th>count</th>\n",
       "      <th>mean</th>\n",
       "      <th>std</th>\n",
       "      <th>min</th>\n",
       "      <th>25%</th>\n",
       "      <th>50%</th>\n",
       "      <th>75%</th>\n",
       "      <th>max</th>\n",
       "    </tr>\n",
       "  </thead>\n",
       "  <tbody>\n",
       "    <tr>\n",
       "      <th>Fatal per Confirmed</th>\n",
       "      <td>419.0</td>\n",
       "      <td>0.041799</td>\n",
       "      <td>0.035249</td>\n",
       "      <td>0.000000</td>\n",
       "      <td>0.023381</td>\n",
       "      <td>0.032605</td>\n",
       "      <td>0.048917</td>\n",
       "      <td>0.333333</td>\n",
       "    </tr>\n",
       "    <tr>\n",
       "      <th>Recovered per Confirmed</th>\n",
       "      <td>419.0</td>\n",
       "      <td>0.527608</td>\n",
       "      <td>0.189339</td>\n",
       "      <td>0.018707</td>\n",
       "      <td>0.413707</td>\n",
       "      <td>0.616979</td>\n",
       "      <td>0.651045</td>\n",
       "      <td>1.000000</td>\n",
       "    </tr>\n",
       "    <tr>\n",
       "      <th>Fatal per (Fatal or Recovered)</th>\n",
       "      <td>419.0</td>\n",
       "      <td>0.095362</td>\n",
       "      <td>0.091073</td>\n",
       "      <td>0.000000</td>\n",
       "      <td>0.035952</td>\n",
       "      <td>0.057577</td>\n",
       "      <td>0.125823</td>\n",
       "      <td>0.538961</td>\n",
       "    </tr>\n",
       "  </tbody>\n",
       "</table>\n",
       "</div>"
      ],
      "text/plain": [
       "                                count      mean       std       min       25%  \\\n",
       "Fatal per Confirmed             419.0  0.041799  0.035249  0.000000  0.023381   \n",
       "Recovered per Confirmed         419.0  0.527608  0.189339  0.018707  0.413707   \n",
       "Fatal per (Fatal or Recovered)  419.0  0.095362  0.091073  0.000000  0.035952   \n",
       "\n",
       "                                     50%       75%       max  \n",
       "Fatal per Confirmed             0.032605  0.048917  0.333333  \n",
       "Recovered per Confirmed         0.616979  0.651045  1.000000  \n",
       "Fatal per (Fatal or Recovered)  0.057577  0.125823  0.538961  "
      ]
     },
     "execution_count": 1,
     "metadata": {},
     "output_type": "execute_result"
    }
   ],
   "source": [
    "# Statistics of rate values in all countries\n",
    "total_df.loc[:, total_df.columns.str.contains(\"per\")].describe().T"
   ]
  },
  {
   "cell_type": "markdown",
   "id": "characteristic-cradle",
   "metadata": {},
   "source": [
    "We can create a subset for a country using `JHUData.subset()` method."
   ]
  },
  {
   "cell_type": "code",
   "execution_count": 16,
   "id": "automated-occasion",
   "metadata": {
    "collapsed": false,
    "execution": {
     "iopub.execute_input": "2021-02-24T15:58:20.594365Z",
     "iopub.status.busy": "2021-02-24T15:58:20.593813Z",
     "iopub.status.idle": "2021-02-24T15:58:24.388417Z",
     "shell.execute_reply": "2021-02-24T15:58:24.388813Z"
    }
   },
   "outputs": [
    {
     "data": {
      "text/html": [
       "<div>\n",
       "<style scoped>\n",
       "    .dataframe tbody tr th:only-of-type {\n",
       "        vertical-align: middle;\n",
       "    }\n",
       "\n",
       "    .dataframe tbody tr th {\n",
       "        vertical-align: top;\n",
       "    }\n",
       "\n",
       "    .dataframe thead th {\n",
       "        text-align: right;\n",
       "    }\n",
       "</style>\n",
       "<table border=\"1\" class=\"dataframe\">\n",
       "  <thead>\n",
       "    <tr style=\"text-align: right;\">\n",
       "      <th></th>\n",
       "      <th>Date</th>\n",
       "      <th>Confirmed</th>\n",
       "      <th>Infected</th>\n",
       "      <th>Fatal</th>\n",
       "      <th>Recovered</th>\n",
       "    </tr>\n",
       "  </thead>\n",
       "  <tbody>\n",
       "    <tr>\n",
       "      <th>380</th>\n",
       "      <td>2021-02-20</td>\n",
       "      <td>423311</td>\n",
       "      <td>18685</td>\n",
       "      <td>7333</td>\n",
       "      <td>397293</td>\n",
       "    </tr>\n",
       "    <tr>\n",
       "      <th>381</th>\n",
       "      <td>2021-02-21</td>\n",
       "      <td>424507</td>\n",
       "      <td>18169</td>\n",
       "      <td>7417</td>\n",
       "      <td>398921</td>\n",
       "    </tr>\n",
       "    <tr>\n",
       "      <th>382</th>\n",
       "      <td>2021-02-22</td>\n",
       "      <td>425597</td>\n",
       "      <td>17873</td>\n",
       "      <td>7474</td>\n",
       "      <td>400250</td>\n",
       "    </tr>\n",
       "    <tr>\n",
       "      <th>383</th>\n",
       "      <td>2021-02-23</td>\n",
       "      <td>426456</td>\n",
       "      <td>17118</td>\n",
       "      <td>7529</td>\n",
       "      <td>401809</td>\n",
       "    </tr>\n",
       "    <tr>\n",
       "      <th>384</th>\n",
       "      <td>2021-02-24</td>\n",
       "      <td>427467</td>\n",
       "      <td>16502</td>\n",
       "      <td>7584</td>\n",
       "      <td>403381</td>\n",
       "    </tr>\n",
       "  </tbody>\n",
       "</table>\n",
       "</div>"
      ],
      "text/plain": [
       "          Date  Confirmed  Infected  Fatal  Recovered\n",
       "380 2021-02-20     423311     18685   7333     397293\n",
       "381 2021-02-21     424507     18169   7417     398921\n",
       "382 2021-02-22     425597     17873   7474     400250\n",
       "383 2021-02-23     426456     17118   7529     401809\n",
       "384 2021-02-24     427467     16502   7584     403381"
      ]
     },
     "execution_count": 1,
     "metadata": {},
     "output_type": "execute_result"
    }
   ],
   "source": [
    "# Subset for a country\n",
    "df, _ = jhu_data.records(\"Japan\")\n",
    "df.tail()\n",
    "# We can use ISO3 code etc.\n",
    "# df, _ = jhu_data.records(\"JPN\")\n",
    "# df.tail()"
   ]
  },
  {
   "cell_type": "markdown",
   "id": "patient-question",
   "metadata": {},
   "source": [
    "Province (\"prefecture\" for Japan) name can be specified."
   ]
  },
  {
   "cell_type": "code",
   "execution_count": 17,
   "id": "extreme-disabled",
   "metadata": {
    "collapsed": false,
    "execution": {
     "iopub.execute_input": "2021-02-24T15:58:24.392448Z",
     "iopub.status.busy": "2021-02-24T15:58:24.391948Z",
     "iopub.status.idle": "2021-02-24T15:58:25.078255Z",
     "shell.execute_reply": "2021-02-24T15:58:25.078608Z"
    }
   },
   "outputs": [
    {
     "data": {
      "text/html": [
       "<div>\n",
       "<style scoped>\n",
       "    .dataframe tbody tr th:only-of-type {\n",
       "        vertical-align: middle;\n",
       "    }\n",
       "\n",
       "    .dataframe tbody tr th {\n",
       "        vertical-align: top;\n",
       "    }\n",
       "\n",
       "    .dataframe thead th {\n",
       "        text-align: right;\n",
       "    }\n",
       "</style>\n",
       "<table border=\"1\" class=\"dataframe\">\n",
       "  <thead>\n",
       "    <tr style=\"text-align: right;\">\n",
       "      <th></th>\n",
       "      <th>Date</th>\n",
       "      <th>Confirmed</th>\n",
       "      <th>Infected</th>\n",
       "      <th>Fatal</th>\n",
       "      <th>Recovered</th>\n",
       "    </tr>\n",
       "  </thead>\n",
       "  <tbody>\n",
       "    <tr>\n",
       "      <th>338</th>\n",
       "      <td>2021-02-19</td>\n",
       "      <td>109135</td>\n",
       "      <td>4247</td>\n",
       "      <td>1221</td>\n",
       "      <td>103667</td>\n",
       "    </tr>\n",
       "    <tr>\n",
       "      <th>339</th>\n",
       "      <td>2021-02-20</td>\n",
       "      <td>109462</td>\n",
       "      <td>4244</td>\n",
       "      <td>1248</td>\n",
       "      <td>103970</td>\n",
       "    </tr>\n",
       "    <tr>\n",
       "      <th>340</th>\n",
       "      <td>2021-02-21</td>\n",
       "      <td>109734</td>\n",
       "      <td>4152</td>\n",
       "      <td>1265</td>\n",
       "      <td>104317</td>\n",
       "    </tr>\n",
       "    <tr>\n",
       "      <th>341</th>\n",
       "      <td>2021-02-22</td>\n",
       "      <td>109912</td>\n",
       "      <td>3825</td>\n",
       "      <td>1274</td>\n",
       "      <td>104813</td>\n",
       "    </tr>\n",
       "    <tr>\n",
       "      <th>342</th>\n",
       "      <td>2021-02-23</td>\n",
       "      <td>110187</td>\n",
       "      <td>3775</td>\n",
       "      <td>1285</td>\n",
       "      <td>105127</td>\n",
       "    </tr>\n",
       "  </tbody>\n",
       "</table>\n",
       "</div>"
      ],
      "text/plain": [
       "          Date  Confirmed  Infected  Fatal  Recovered\n",
       "338 2021-02-19     109135      4247   1221     103667\n",
       "339 2021-02-20     109462      4244   1248     103970\n",
       "340 2021-02-21     109734      4152   1265     104317\n",
       "341 2021-02-22     109912      3825   1274     104813\n",
       "342 2021-02-23     110187      3775   1285     105127"
      ]
     },
     "execution_count": 1,
     "metadata": {},
     "output_type": "execute_result"
    }
   ],
   "source": [
    "df, _ = jhu_data.records(\"Japan\", province=\"Tokyo\")\n",
    "df.tail()"
   ]
  },
  {
   "cell_type": "code",
   "execution_count": 18,
   "id": "appreciated-tractor",
   "metadata": {
    "collapsed": false,
    "execution": {
     "iopub.execute_input": "2021-02-24T15:58:25.082186Z",
     "iopub.status.busy": "2021-02-24T15:58:25.081674Z",
     "iopub.status.idle": "2021-02-24T15:58:29.633693Z",
     "shell.execute_reply": "2021-02-24T15:58:29.633218Z"
    }
   },
   "outputs": [
    {
     "name": "stdout",
     "output_type": "stream",
     "text": [
      "['Afghanistan', 'Albania', 'Algeria', 'Andorra', 'Angola',\n",
      " 'Antigua and Barbuda', 'Argentina', 'Armenia', 'Australia', 'Austria',\n",
      " 'Azerbaijan', 'Bahamas', 'Bahrain', 'Bangladesh', 'Barbados', 'Belarus',\n",
      " 'Belgium', 'Belize', 'Benin', 'Bermuda', 'Bhutan', 'Bolivia',\n",
      " 'Bosnia and Herzegovina', 'Botswana', 'Brazil', 'Brunei', 'Bulgaria',\n",
      " 'Burkina Faso', 'Burundi', 'Cambodia', 'Cameroon', 'Canada', 'Cape Verde',\n",
      " 'Central African Republic', 'Chad', 'Chile', 'China', 'Colombia', 'Comoros',\n",
      " 'Costa Rica', \"Cote d'Ivoire\", 'Croatia', 'Cuba', 'Cyprus', 'Czech Republic',\n",
      " 'Democratic Republic of the Congo', 'Denmark', 'Djibouti', 'Dominica',\n",
      " 'Dominican Republic', 'Ecuador', 'Egypt', 'El Salvador', 'Equatorial Guinea',\n",
      " 'Eritrea', 'Estonia', 'Ethiopia', 'Fiji', 'Finland', 'France', 'Gabon',\n",
      " 'Gambia', 'Georgia', 'Germany', 'Ghana', 'Greece', 'Grenada', 'Guam',\n",
      " 'Guatemala', 'Guinea', 'Guinea-Bissau', 'Guyana', 'Haiti', 'Holy See',\n",
      " 'Honduras', 'Hungary', 'Iceland', 'India', 'Indonesia', 'Iran', 'Iraq',\n",
      " 'Ireland', 'Israel', 'Italy', 'Jamaica', 'Japan', 'Jordan', 'Kazakhstan',\n",
      " 'Kenya', 'Kosovo', 'Kuwait', 'Kyrgyzstan', 'Laos', 'Latvia', 'Lebanon',\n",
      " 'Lesotho', 'Liberia', 'Libya', 'Liechtenstein', 'Lithuania', 'Luxembourg',\n",
      " 'Madagascar', 'Malawi', 'Malaysia', 'Maldives', 'Mali', 'Malta',\n",
      " 'Marshall Islands', 'Mauritania', 'Mauritius', 'Mexico', 'Moldova', 'Monaco',\n",
      " 'Mongolia', 'Montenegro', 'Morocco', 'Mozambique', 'Myanmar', 'Namibia',\n",
      " 'Nepal', 'Netherlands', 'New Zealand', 'Nicaragua', 'Niger', 'Nigeria',\n",
      " 'North Macedonia', 'Northern Mariana Islands', 'Norway', 'Oman', 'Pakistan',\n",
      " 'Palestine', 'Panama', 'Papua New Guinea', 'Paraguay', 'Peru', 'Philippines',\n",
      " 'Poland', 'Portugal', 'Puerto Rico', 'Qatar', 'Republic of the Congo',\n",
      " 'Romania', 'Russia', 'Rwanda', 'Saint Kitts and Nevis', 'Saint Lucia',\n",
      " 'Saint Vincent and the Grenadines', 'Samoa', 'San Marino',\n",
      " 'Sao Tome and Principe', 'Saudi Arabia', 'Senegal', 'Serbia', 'Seychelles',\n",
      " 'Sierra Leone', 'Singapore', 'Slovakia', 'Slovenia', 'Solomon Islands',\n",
      " 'Somalia', 'South Africa', 'South Korea', 'South Sudan', 'Spain', 'Sri Lanka',\n",
      " 'Sudan', 'Suriname', 'Swaziland', 'Sweden', 'Switzerland', 'Syria', 'Taiwan',\n",
      " 'Tajikistan', 'Tanzania', 'Thailand', 'Timor-Leste', 'Togo',\n",
      " 'Trinidad and Tobago', 'Tunisia', 'Turkey', 'Uganda', 'Ukraine',\n",
      " 'United Arab Emirates', 'United Kingdom', 'United States', 'Uruguay',\n",
      " 'Uzbekistan', 'Vanuatu', 'Venezuela', 'Vietnam', 'Virgin Islands, U.S.',\n",
      " 'Yemen', 'Zambia', 'Zimbabwe']\n"
     ]
    }
   ],
   "source": [
    "# Countries we can select\n",
    "pprint(jhu_data.countries(), compact=True)"
   ]
  },
  {
   "cell_type": "markdown",
   "id": "labeled-header",
   "metadata": {},
   "source": [
    "`JHUData.records()` automatically complement the records, if necesssary and `auto_complement=True` (default). Each country can have either none or one or multiple complements, depending on the records and their preprocessing analysis."
   ]
  },
  {
   "cell_type": "markdown",
   "id": "legal-zealand",
   "metadata": {},
   "source": [
    "We can show the specific kind of complements that were applied to the records of each country with `JHUData.show_complement()` method. The possible kinds of complement for each country are the following:  \n",
    "\n",
    "1. \"Monotonic_confirmed/fatal/recovered\" (monotonic increasing complement)  \n",
    "Force the variable show monotonic increasing.\n",
    "\n",
    "2. \"Full_recovered\" (full complement of recovered data)  \n",
    "Estimate the number of recovered cases using the value of estimated average recovery period.\n",
    "\n",
    "3. \"Partial_recovered\" (partial complement of recovered data)  \n",
    "When recovered values are not updated for some days, extrapolate the values."
   ]
  },
  {
   "cell_type": "code",
   "execution_count": 19,
   "id": "ranging-observation",
   "metadata": {
    "execution": {
     "iopub.execute_input": "2021-02-24T15:58:29.639320Z",
     "iopub.status.busy": "2021-02-24T15:58:29.638769Z",
     "iopub.status.idle": "2021-02-24T15:58:30.304773Z",
     "shell.execute_reply": "2021-02-24T15:58:30.304277Z"
    }
   },
   "outputs": [
    {
     "data": {
      "text/html": [
       "<div>\n",
       "<style scoped>\n",
       "    .dataframe tbody tr th:only-of-type {\n",
       "        vertical-align: middle;\n",
       "    }\n",
       "\n",
       "    .dataframe tbody tr th {\n",
       "        vertical-align: top;\n",
       "    }\n",
       "\n",
       "    .dataframe thead th {\n",
       "        text-align: right;\n",
       "    }\n",
       "</style>\n",
       "<table border=\"1\" class=\"dataframe\">\n",
       "  <thead>\n",
       "    <tr style=\"text-align: right;\">\n",
       "      <th></th>\n",
       "      <th>Country</th>\n",
       "      <th>Province</th>\n",
       "      <th>Monotonic_confirmed</th>\n",
       "      <th>Monotonic_fatal</th>\n",
       "      <th>Monotonic_recovered</th>\n",
       "      <th>Full_recovered</th>\n",
       "      <th>Partial_recovered</th>\n",
       "    </tr>\n",
       "  </thead>\n",
       "  <tbody>\n",
       "    <tr>\n",
       "      <th>0</th>\n",
       "      <td>Japan</td>\n",
       "      <td>-</td>\n",
       "      <td>False</td>\n",
       "      <td>False</td>\n",
       "      <td>True</td>\n",
       "      <td>False</td>\n",
       "      <td>True</td>\n",
       "    </tr>\n",
       "  </tbody>\n",
       "</table>\n",
       "</div>"
      ],
      "text/plain": [
       "  Country Province Monotonic_confirmed Monotonic_fatal Monotonic_recovered  \\\n",
       "0   Japan        -               False           False                True   \n",
       "\n",
       "  Full_recovered Partial_recovered  \n",
       "0          False              True  "
      ]
     },
     "execution_count": 1,
     "metadata": {},
     "output_type": "execute_result"
    }
   ],
   "source": [
    "# For selected country\n",
    "jhu_data.show_complement(country=\"Japan\")"
   ]
  },
  {
   "cell_type": "code",
   "execution_count": 20,
   "id": "controversial-filename",
   "metadata": {
    "execution": {
     "iopub.execute_input": "2021-02-24T15:58:30.307808Z",
     "iopub.status.busy": "2021-02-24T15:58:30.307361Z",
     "iopub.status.idle": "2021-02-24T15:58:30.309347Z",
     "shell.execute_reply": "2021-02-24T15:58:30.309723Z"
    }
   },
   "outputs": [],
   "source": [
    "# Show the details of complement for all countries\n",
    "# jhu_data.show_complement().tail()\n",
    "# For selected province\n",
    "# jhu_data.show_complement(country=\"Japan\", province=\"Tokyo\")\n",
    "# For selected countries\n",
    "# jhu_data.show_complement(country=[\"Greece\", \"Japan\"])"
   ]
  },
  {
   "cell_type": "markdown",
   "id": "animated-manor",
   "metadata": {},
   "source": [
    "Note for recovery period:  \n",
    "With the global cases records, we estimate the average recovery period using `JHUData.calculate_recovery_period()`.  \n",
    "\n",
    "What we currently do is to calculate the difference between confirmed cases and fatal cases and try to match it to some recovered cases value in the future. We apply this method for every country that has valid recovery data and average the partial recovery periods in order to obtain a single (average) recovery period. During the calculations, we ignore time intervals that lead to very short (<7 days) or very long (>90 days) partial recovery periods, if these exist with high frequency (>50%) in the records. We have to assume temporarily invariable compartments for this analysis to extract an approximation of the average recovery period.\n",
    "\n",
    "Alternatively, we had tried to use linelist data to get precise value of recovery period (average of recovery date minus confirmation date for cases), but the number of records was too small."
   ]
  },
  {
   "cell_type": "code",
   "execution_count": 21,
   "id": "painful-excuse",
   "metadata": {
    "execution": {
     "iopub.execute_input": "2021-02-24T15:58:30.313039Z",
     "iopub.status.busy": "2021-02-24T15:58:30.312569Z",
     "iopub.status.idle": "2021-02-24T15:58:33.374494Z",
     "shell.execute_reply": "2021-02-24T15:58:33.374888Z"
    }
   },
   "outputs": [
    {
     "name": "stdout",
     "output_type": "stream",
     "text": [
      "Average recovery period: 16 [days]\n"
     ]
    }
   ],
   "source": [
    "recovery_period = jhu_data.calculate_recovery_period()\n",
    "print(f\"Average recovery period: {recovery_period} [days]\")"
   ]
  },
  {
   "cell_type": "markdown",
   "id": "prescription-angola",
   "metadata": {},
   "source": [
    "We can visualize the number of cases with `.map()` method. When `country` is `None`, global map will be shown."
   ]
  },
  {
   "cell_type": "markdown",
   "id": "extensive-pottery",
   "metadata": {},
   "source": [
    "Global map with country level data:"
   ]
  },
  {
   "cell_type": "code",
   "execution_count": 22,
   "id": "planned-coaching",
   "metadata": {
    "execution": {
     "iopub.execute_input": "2021-02-24T15:58:33.382218Z",
     "iopub.status.busy": "2021-02-24T15:58:33.381687Z",
     "iopub.status.idle": "2021-02-24T15:58:34.163615Z",
     "shell.execute_reply": "2021-02-24T15:58:34.163063Z"
    }
   },
   "outputs": [
    {
     "data": {
      "image/png": "[encoded data removed]",
      "text/plain": [
       "<Figure size 648x432 with 2 Axes>"
      ]
     },
     "metadata": {
      "needs_background": "light"
     },
     "output_type": "display_data"
    }
   ],
   "source": [
    "# Global map with country level data\n",
    "jhu_data.map(country=None, variable=\"Infected\")\n",
    "# To set included/exclude some countries\n",
    "# jhu_data.map(country=None, variable=\"Infected\", included=[\"Japan\"])\n",
    "# jhu_data.map(country=None, variable=\"Infected\", excluded=[\"Japan\"])\n",
    "# To change the date\n",
    "# jhu_data.map(country=None, variable=\"Infected\", date=\"01Oct2021\")"
   ]
  },
  {
   "cell_type": "code",
   "execution_count": 23,
   "id": "underlying-marsh",
   "metadata": {
    "execution": {
     "iopub.execute_input": "2021-02-24T15:58:34.167282Z",
     "iopub.status.busy": "2021-02-24T15:58:34.166770Z",
     "iopub.status.idle": "2021-02-24T15:58:34.784793Z",
     "shell.execute_reply": "2021-02-24T15:58:34.785117Z"
    }
   },
   "outputs": [
    {
     "data": {
      "text/html": [
       "<div>\n",
       "<style scoped>\n",
       "    .dataframe tbody tr th:only-of-type {\n",
       "        vertical-align: middle;\n",
       "    }\n",
       "\n",
       "    .dataframe tbody tr th {\n",
       "        vertical-align: top;\n",
       "    }\n",
       "\n",
       "    .dataframe thead th {\n",
       "        text-align: right;\n",
       "    }\n",
       "</style>\n",
       "<table border=\"1\" class=\"dataframe\">\n",
       "  <thead>\n",
       "    <tr style=\"text-align: right;\">\n",
       "      <th></th>\n",
       "      <th>ISO3</th>\n",
       "      <th>Date</th>\n",
       "      <th>Country</th>\n",
       "      <th>Confirmed</th>\n",
       "      <th>Infected</th>\n",
       "      <th>Fatal</th>\n",
       "      <th>Recovered</th>\n",
       "    </tr>\n",
       "  </thead>\n",
       "  <tbody>\n",
       "    <tr>\n",
       "      <th>81860</th>\n",
       "      <td>JPN</td>\n",
       "      <td>2021-02-20</td>\n",
       "      <td>Japan</td>\n",
       "      <td>423311</td>\n",
       "      <td>18685</td>\n",
       "      <td>7333</td>\n",
       "      <td>397293</td>\n",
       "    </tr>\n",
       "    <tr>\n",
       "      <th>81861</th>\n",
       "      <td>JPN</td>\n",
       "      <td>2021-02-21</td>\n",
       "      <td>Japan</td>\n",
       "      <td>424507</td>\n",
       "      <td>18169</td>\n",
       "      <td>7417</td>\n",
       "      <td>398921</td>\n",
       "    </tr>\n",
       "    <tr>\n",
       "      <th>81862</th>\n",
       "      <td>JPN</td>\n",
       "      <td>2021-02-22</td>\n",
       "      <td>Japan</td>\n",
       "      <td>425597</td>\n",
       "      <td>17873</td>\n",
       "      <td>7474</td>\n",
       "      <td>400250</td>\n",
       "    </tr>\n",
       "    <tr>\n",
       "      <th>81863</th>\n",
       "      <td>JPN</td>\n",
       "      <td>2021-02-23</td>\n",
       "      <td>Japan</td>\n",
       "      <td>426456</td>\n",
       "      <td>17118</td>\n",
       "      <td>7529</td>\n",
       "      <td>401809</td>\n",
       "    </tr>\n",
       "    <tr>\n",
       "      <th>81864</th>\n",
       "      <td>JPN</td>\n",
       "      <td>2021-02-24</td>\n",
       "      <td>Japan</td>\n",
       "      <td>427467</td>\n",
       "      <td>16502</td>\n",
       "      <td>7584</td>\n",
       "      <td>403381</td>\n",
       "    </tr>\n",
       "  </tbody>\n",
       "</table>\n",
       "</div>"
      ],
      "text/plain": [
       "      ISO3       Date Country  Confirmed  Infected  Fatal  Recovered\n",
       "81860  JPN 2021-02-20   Japan     423311     18685   7333     397293\n",
       "81861  JPN 2021-02-21   Japan     424507     18169   7417     398921\n",
       "81862  JPN 2021-02-22   Japan     425597     17873   7474     400250\n",
       "81863  JPN 2021-02-23   Japan     426456     17118   7529     401809\n",
       "81864  JPN 2021-02-24   Japan     427467     16502   7584     403381"
      ]
     },
     "execution_count": 1,
     "metadata": {},
     "output_type": "execute_result"
    }
   ],
   "source": [
    "# Country level data\n",
    "jhu_data.layer(country=None).tail()"
   ]
  },
  {
   "cell_type": "markdown",
   "id": "raising-crossing",
   "metadata": {},
   "source": [
    "Country map with province level data:"
   ]
  },
  {
   "cell_type": "code",
   "execution_count": 24,
   "id": "wanted-basketball",
   "metadata": {
    "execution": {
     "iopub.execute_input": "2021-02-24T15:58:34.792296Z",
     "iopub.status.busy": "2021-02-24T15:58:34.791778Z",
     "iopub.status.idle": "2021-02-24T15:58:36.347521Z",
     "shell.execute_reply": "2021-02-24T15:58:36.347902Z"
    }
   },
   "outputs": [
    {
     "data": {
      "image/png": "[encoded data removed]",
      "text/plain": [
       "<Figure size 648x432 with 2 Axes>"
      ]
     },
     "metadata": {
      "needs_background": "light"
     },
     "output_type": "display_data"
    }
   ],
   "source": [
    "# Country map with province level data\n",
    "jhu_data.map(country=\"Japan\", variable=\"Infected\")\n",
    "# To set included/exclude some countries\n",
    "# jhu_data.map(country=\"Japan\", variable=\"Infected\", included=[\"Tokyo\"])\n",
    "# jhu_data.map(country=\"Japan\", variable=\"Infected\", excluded=[\"Tokyo\"])\n",
    "# To change the date\n",
    "# jhu_data.map(country=\"Japan\", variable=\"Infected\", date=\"01Oct2021\")"
   ]
  },
  {
   "cell_type": "code",
   "execution_count": 25,
   "id": "regulated-consensus",
   "metadata": {
    "execution": {
     "iopub.execute_input": "2021-02-24T15:58:36.351657Z",
     "iopub.status.busy": "2021-02-24T15:58:36.351132Z",
     "iopub.status.idle": "2021-02-24T15:58:36.978859Z",
     "shell.execute_reply": "2021-02-24T15:58:36.979268Z"
    }
   },
   "outputs": [
    {
     "data": {
      "text/html": [
       "<div>\n",
       "<style scoped>\n",
       "    .dataframe tbody tr th:only-of-type {\n",
       "        vertical-align: middle;\n",
       "    }\n",
       "\n",
       "    .dataframe tbody tr th {\n",
       "        vertical-align: top;\n",
       "    }\n",
       "\n",
       "    .dataframe thead th {\n",
       "        text-align: right;\n",
       "    }\n",
       "</style>\n",
       "<table border=\"1\" class=\"dataframe\">\n",
       "  <thead>\n",
       "    <tr style=\"text-align: right;\">\n",
       "      <th></th>\n",
       "      <th>ISO3</th>\n",
       "      <th>Date</th>\n",
       "      <th>Country</th>\n",
       "      <th>Province</th>\n",
       "      <th>Confirmed</th>\n",
       "      <th>Infected</th>\n",
       "      <th>Fatal</th>\n",
       "      <th>Recovered</th>\n",
       "    </tr>\n",
       "  </thead>\n",
       "  <tbody>\n",
       "    <tr>\n",
       "      <th>16501</th>\n",
       "      <td>JPN</td>\n",
       "      <td>2021-02-20</td>\n",
       "      <td>Japan</td>\n",
       "      <td>Entering</td>\n",
       "      <td>2209</td>\n",
       "      <td>28</td>\n",
       "      <td>2</td>\n",
       "      <td>2179</td>\n",
       "    </tr>\n",
       "    <tr>\n",
       "      <th>16502</th>\n",
       "      <td>JPN</td>\n",
       "      <td>2021-02-21</td>\n",
       "      <td>Japan</td>\n",
       "      <td>Entering</td>\n",
       "      <td>2214</td>\n",
       "      <td>29</td>\n",
       "      <td>2</td>\n",
       "      <td>2183</td>\n",
       "    </tr>\n",
       "    <tr>\n",
       "      <th>16503</th>\n",
       "      <td>JPN</td>\n",
       "      <td>2021-02-22</td>\n",
       "      <td>Japan</td>\n",
       "      <td>Entering</td>\n",
       "      <td>2215</td>\n",
       "      <td>29</td>\n",
       "      <td>2</td>\n",
       "      <td>2184</td>\n",
       "    </tr>\n",
       "    <tr>\n",
       "      <th>16504</th>\n",
       "      <td>JPN</td>\n",
       "      <td>2021-02-23</td>\n",
       "      <td>Japan</td>\n",
       "      <td>Entering</td>\n",
       "      <td>2217</td>\n",
       "      <td>30</td>\n",
       "      <td>2</td>\n",
       "      <td>2185</td>\n",
       "    </tr>\n",
       "    <tr>\n",
       "      <th>16505</th>\n",
       "      <td>JPN</td>\n",
       "      <td>2021-02-24</td>\n",
       "      <td>Japan</td>\n",
       "      <td>Entering</td>\n",
       "      <td>2219</td>\n",
       "      <td>31</td>\n",
       "      <td>2</td>\n",
       "      <td>2186</td>\n",
       "    </tr>\n",
       "  </tbody>\n",
       "</table>\n",
       "</div>"
      ],
      "text/plain": [
       "      ISO3       Date Country  Province  Confirmed  Infected  Fatal  Recovered\n",
       "16501  JPN 2021-02-20   Japan  Entering       2209        28      2       2179\n",
       "16502  JPN 2021-02-21   Japan  Entering       2214        29      2       2183\n",
       "16503  JPN 2021-02-22   Japan  Entering       2215        29      2       2184\n",
       "16504  JPN 2021-02-23   Japan  Entering       2217        30      2       2185\n",
       "16505  JPN 2021-02-24   Japan  Entering       2219        31      2       2186"
      ]
     },
     "execution_count": 1,
     "metadata": {},
     "output_type": "execute_result"
    }
   ],
   "source": [
    "# Province level data\n",
    "jhu_data.layer(country=\"Japan\").tail()"
   ]
  },
  {
   "cell_type": "markdown",
   "id": "express-tennessee",
   "metadata": {},
   "source": [
    "### Linelist of case reports\n",
    "The number of cases is important, but linelist of case reports will helpful to understand the situation deeply. Linelist data was saved as `linelist`, an instance of `LinelistData` class. This dataset is from [Open COVID-19 Data Working Group](https://github.com/beoutbreakprepared/nCoV2019)."
   ]
  },
  {
   "cell_type": "code",
   "execution_count": 26,
   "id": "similar-disposition",
   "metadata": {
    "collapsed": false,
    "execution": {
     "iopub.execute_input": "2021-02-24T15:58:36.982768Z",
     "iopub.status.busy": "2021-02-24T15:58:36.982256Z",
     "iopub.status.idle": "2021-02-24T15:58:36.985280Z",
     "shell.execute_reply": "2021-02-24T15:58:36.985684Z"
    }
   },
   "outputs": [
    {
     "data": {
      "text/plain": [
       "covsirphy.cleaning.linelist.LinelistData"
      ]
     },
     "execution_count": 1,
     "metadata": {},
     "output_type": "execute_result"
    }
   ],
   "source": [
    "type(linelist)"
   ]
  },
  {
   "cell_type": "code",
   "execution_count": 27,
   "id": "everyday-least",
   "metadata": {
    "collapsed": false,
    "execution": {
     "iopub.execute_input": "2021-02-24T15:58:36.989068Z",
     "iopub.status.busy": "2021-02-24T15:58:36.988618Z",
     "iopub.status.idle": "2021-02-24T15:58:36.991070Z",
     "shell.execute_reply": "2021-02-24T15:58:36.991459Z"
    }
   },
   "outputs": [
    {
     "name": "stdout",
     "output_type": "stream",
     "text": [
      "Xu, B., Gutierrez, B., Mekaru, S. et al. Epidemiological data from the COVID-19 outbreak, real-time case information. Sci Data 7, 106 (2020). https://doi.org/10.1038/s41597-020-0448-0\n"
     ]
    }
   ],
   "source": [
    "# Citation\n",
    "print(linelist.citation)"
   ]
  },
  {
   "cell_type": "code",
   "execution_count": 28,
   "id": "serious-helena",
   "metadata": {
    "collapsed": false,
    "execution": {
     "iopub.execute_input": "2021-02-24T15:58:36.994607Z",
     "iopub.status.busy": "2021-02-24T15:58:36.994144Z",
     "iopub.status.idle": "2021-02-24T15:58:39.869620Z",
     "shell.execute_reply": "2021-02-24T15:58:39.869957Z"
    }
   },
   "outputs": [
    {
     "data": {
      "text/html": [
       "<div>\n",
       "<style scoped>\n",
       "    .dataframe tbody tr th:only-of-type {\n",
       "        vertical-align: middle;\n",
       "    }\n",
       "\n",
       "    .dataframe tbody tr th {\n",
       "        vertical-align: top;\n",
       "    }\n",
       "\n",
       "    .dataframe thead th {\n",
       "        text-align: right;\n",
       "    }\n",
       "</style>\n",
       "<table border=\"1\" class=\"dataframe\">\n",
       "  <thead>\n",
       "    <tr style=\"text-align: right;\">\n",
       "      <th></th>\n",
       "      <th>age</th>\n",
       "      <th>sex</th>\n",
       "      <th>province</th>\n",
       "      <th>country</th>\n",
       "      <th>date_admission_hospital</th>\n",
       "      <th>date_confirmation</th>\n",
       "      <th>symptoms</th>\n",
       "      <th>chronic_disease</th>\n",
       "      <th>outcome</th>\n",
       "      <th>date_death_or_discharge</th>\n",
       "    </tr>\n",
       "  </thead>\n",
       "  <tbody>\n",
       "    <tr>\n",
       "      <th>2676307</th>\n",
       "      <td>52</td>\n",
       "      <td>female</td>\n",
       "      <td>Lima</td>\n",
       "      <td>Peru</td>\n",
       "      <td>NaN</td>\n",
       "      <td>17.05.2020</td>\n",
       "      <td>NaN</td>\n",
       "      <td>NaN</td>\n",
       "      <td>NaN</td>\n",
       "      <td>NaN</td>\n",
       "    </tr>\n",
       "    <tr>\n",
       "      <th>2676308</th>\n",
       "      <td>52</td>\n",
       "      <td>female</td>\n",
       "      <td>Lima</td>\n",
       "      <td>Peru</td>\n",
       "      <td>NaN</td>\n",
       "      <td>17.05.2020</td>\n",
       "      <td>NaN</td>\n",
       "      <td>NaN</td>\n",
       "      <td>NaN</td>\n",
       "      <td>NaN</td>\n",
       "    </tr>\n",
       "    <tr>\n",
       "      <th>2676309</th>\n",
       "      <td>52</td>\n",
       "      <td>male</td>\n",
       "      <td>Callao</td>\n",
       "      <td>Peru</td>\n",
       "      <td>NaN</td>\n",
       "      <td>17.05.2020</td>\n",
       "      <td>NaN</td>\n",
       "      <td>NaN</td>\n",
       "      <td>NaN</td>\n",
       "      <td>NaN</td>\n",
       "    </tr>\n",
       "    <tr>\n",
       "      <th>2676310</th>\n",
       "      <td>52</td>\n",
       "      <td>male</td>\n",
       "      <td>Lima</td>\n",
       "      <td>Peru</td>\n",
       "      <td>NaN</td>\n",
       "      <td>17.05.2020</td>\n",
       "      <td>NaN</td>\n",
       "      <td>NaN</td>\n",
       "      <td>NaN</td>\n",
       "      <td>NaN</td>\n",
       "    </tr>\n",
       "    <tr>\n",
       "      <th>2676311</th>\n",
       "      <td>NaN</td>\n",
       "      <td>NaN</td>\n",
       "      <td>NaN</td>\n",
       "      <td>NaN</td>\n",
       "      <td>NaN</td>\n",
       "      <td>NaN</td>\n",
       "      <td>NaN</td>\n",
       "      <td>NaN</td>\n",
       "      <td>NaN</td>\n",
       "      <td>NaN</td>\n",
       "    </tr>\n",
       "  </tbody>\n",
       "</table>\n",
       "</div>"
      ],
      "text/plain": [
       "         age     sex province country date_admission_hospital  \\\n",
       "2676307   52  female     Lima    Peru                     NaN   \n",
       "2676308   52  female     Lima    Peru                     NaN   \n",
       "2676309   52    male   Callao    Peru                     NaN   \n",
       "2676310   52    male     Lima    Peru                     NaN   \n",
       "2676311  NaN     NaN      NaN     NaN                     NaN   \n",
       "\n",
       "        date_confirmation symptoms chronic_disease outcome  \\\n",
       "2676307        17.05.2020      NaN             NaN     NaN   \n",
       "2676308        17.05.2020      NaN             NaN     NaN   \n",
       "2676309        17.05.2020      NaN             NaN     NaN   \n",
       "2676310        17.05.2020      NaN             NaN     NaN   \n",
       "2676311               NaN      NaN             NaN     NaN   \n",
       "\n",
       "        date_death_or_discharge  \n",
       "2676307                     NaN  \n",
       "2676308                     NaN  \n",
       "2676309                     NaN  \n",
       "2676310                     NaN  \n",
       "2676311                     NaN  "
      ]
     },
     "execution_count": 1,
     "metadata": {},
     "output_type": "execute_result"
    }
   ],
   "source": [
    "# Raw dataset\n",
    "linelist.raw.tail()"
   ]
  },
  {
   "cell_type": "code",
   "execution_count": 29,
   "id": "outstanding-dietary",
   "metadata": {
    "collapsed": false,
    "execution": {
     "iopub.execute_input": "2021-02-24T15:58:39.878429Z",
     "iopub.status.busy": "2021-02-24T15:58:39.877945Z",
     "iopub.status.idle": "2021-02-24T15:58:39.886531Z",
     "shell.execute_reply": "2021-02-24T15:58:39.886891Z"
    }
   },
   "outputs": [
    {
     "data": {
      "text/html": [
       "<div>\n",
       "<style scoped>\n",
       "    .dataframe tbody tr th:only-of-type {\n",
       "        vertical-align: middle;\n",
       "    }\n",
       "\n",
       "    .dataframe tbody tr th {\n",
       "        vertical-align: top;\n",
       "    }\n",
       "\n",
       "    .dataframe thead th {\n",
       "        text-align: right;\n",
       "    }\n",
       "</style>\n",
       "<table border=\"1\" class=\"dataframe\">\n",
       "  <thead>\n",
       "    <tr style=\"text-align: right;\">\n",
       "      <th></th>\n",
       "      <th>Country</th>\n",
       "      <th>Province</th>\n",
       "      <th>Hospitalized_date</th>\n",
       "      <th>Confirmation_date</th>\n",
       "      <th>Outcome_date</th>\n",
       "      <th>Confirmed</th>\n",
       "      <th>Infected</th>\n",
       "      <th>Recovered</th>\n",
       "      <th>Fatal</th>\n",
       "      <th>Symptoms</th>\n",
       "      <th>Chronic_disease</th>\n",
       "      <th>Age</th>\n",
       "      <th>Sex</th>\n",
       "    </tr>\n",
       "  </thead>\n",
       "  <tbody>\n",
       "    <tr>\n",
       "      <th>2676306</th>\n",
       "      <td>Peru</td>\n",
       "      <td>Coronel Portillo</td>\n",
       "      <td>NaT</td>\n",
       "      <td>2020-05-17</td>\n",
       "      <td>NaT</td>\n",
       "      <td>True</td>\n",
       "      <td>False</td>\n",
       "      <td>False</td>\n",
       "      <td>False</td>\n",
       "      <td>NaN</td>\n",
       "      <td>NaN</td>\n",
       "      <td>52.0</td>\n",
       "      <td>female</td>\n",
       "    </tr>\n",
       "    <tr>\n",
       "      <th>2676307</th>\n",
       "      <td>Peru</td>\n",
       "      <td>Lima</td>\n",
       "      <td>NaT</td>\n",
       "      <td>2020-05-17</td>\n",
       "      <td>NaT</td>\n",
       "      <td>True</td>\n",
       "      <td>False</td>\n",
       "      <td>False</td>\n",
       "      <td>False</td>\n",
       "      <td>NaN</td>\n",
       "      <td>NaN</td>\n",
       "      <td>52.0</td>\n",
       "      <td>female</td>\n",
       "    </tr>\n",
       "    <tr>\n",
       "      <th>2676308</th>\n",
       "      <td>Peru</td>\n",
       "      <td>Lima</td>\n",
       "      <td>NaT</td>\n",
       "      <td>2020-05-17</td>\n",
       "      <td>NaT</td>\n",
       "      <td>True</td>\n",
       "      <td>False</td>\n",
       "      <td>False</td>\n",
       "      <td>False</td>\n",
       "      <td>NaN</td>\n",
       "      <td>NaN</td>\n",
       "      <td>52.0</td>\n",
       "      <td>female</td>\n",
       "    </tr>\n",
       "    <tr>\n",
       "      <th>2676309</th>\n",
       "      <td>Peru</td>\n",
       "      <td>Callao</td>\n",
       "      <td>NaT</td>\n",
       "      <td>2020-05-17</td>\n",
       "      <td>NaT</td>\n",
       "      <td>True</td>\n",
       "      <td>False</td>\n",
       "      <td>False</td>\n",
       "      <td>False</td>\n",
       "      <td>NaN</td>\n",
       "      <td>NaN</td>\n",
       "      <td>52.0</td>\n",
       "      <td>male</td>\n",
       "    </tr>\n",
       "    <tr>\n",
       "      <th>2676310</th>\n",
       "      <td>Peru</td>\n",
       "      <td>Lima</td>\n",
       "      <td>NaT</td>\n",
       "      <td>2020-05-17</td>\n",
       "      <td>NaT</td>\n",
       "      <td>True</td>\n",
       "      <td>False</td>\n",
       "      <td>False</td>\n",
       "      <td>False</td>\n",
       "      <td>NaN</td>\n",
       "      <td>NaN</td>\n",
       "      <td>52.0</td>\n",
       "      <td>male</td>\n",
       "    </tr>\n",
       "  </tbody>\n",
       "</table>\n",
       "</div>"
      ],
      "text/plain": [
       "        Country          Province Hospitalized_date Confirmation_date  \\\n",
       "2676306    Peru  Coronel Portillo               NaT        2020-05-17   \n",
       "2676307    Peru              Lima               NaT        2020-05-17   \n",
       "2676308    Peru              Lima               NaT        2020-05-17   \n",
       "2676309    Peru            Callao               NaT        2020-05-17   \n",
       "2676310    Peru              Lima               NaT        2020-05-17   \n",
       "\n",
       "        Outcome_date  Confirmed  Infected  Recovered  Fatal Symptoms  \\\n",
       "2676306          NaT       True     False      False  False      NaN   \n",
       "2676307          NaT       True     False      False  False      NaN   \n",
       "2676308          NaT       True     False      False  False      NaN   \n",
       "2676309          NaT       True     False      False  False      NaN   \n",
       "2676310          NaT       True     False      False  False      NaN   \n",
       "\n",
       "        Chronic_disease   Age     Sex  \n",
       "2676306             NaN  52.0  female  \n",
       "2676307             NaN  52.0  female  \n",
       "2676308             NaN  52.0  female  \n",
       "2676309             NaN  52.0    male  \n",
       "2676310             NaN  52.0    male  "
      ]
     },
     "execution_count": 1,
     "metadata": {},
     "output_type": "execute_result"
    }
   ],
   "source": [
    "# Cleaned dataset\n",
    "linelist.cleaned().tail()"
   ]
  },
  {
   "cell_type": "code",
   "execution_count": 30,
   "id": "finished-package",
   "metadata": {
    "collapsed": false,
    "execution": {
     "iopub.execute_input": "2021-02-24T15:58:39.890368Z",
     "iopub.status.busy": "2021-02-24T15:58:39.889884Z",
     "iopub.status.idle": "2021-02-24T15:58:40.293308Z",
     "shell.execute_reply": "2021-02-24T15:58:40.293642Z"
    }
   },
   "outputs": [
    {
     "data": {
      "text/html": [
       "<div>\n",
       "<style scoped>\n",
       "    .dataframe tbody tr th:only-of-type {\n",
       "        vertical-align: middle;\n",
       "    }\n",
       "\n",
       "    .dataframe tbody tr th {\n",
       "        vertical-align: top;\n",
       "    }\n",
       "\n",
       "    .dataframe thead th {\n",
       "        text-align: right;\n",
       "    }\n",
       "</style>\n",
       "<table border=\"1\" class=\"dataframe\">\n",
       "  <thead>\n",
       "    <tr style=\"text-align: right;\">\n",
       "      <th></th>\n",
       "      <th>Hospitalized_date</th>\n",
       "      <th>Confirmation_date</th>\n",
       "      <th>Outcome_date</th>\n",
       "      <th>Confirmed</th>\n",
       "      <th>Infected</th>\n",
       "      <th>Recovered</th>\n",
       "      <th>Fatal</th>\n",
       "      <th>Symptoms</th>\n",
       "      <th>Chronic_disease</th>\n",
       "      <th>Age</th>\n",
       "      <th>Sex</th>\n",
       "    </tr>\n",
       "  </thead>\n",
       "  <tbody>\n",
       "    <tr>\n",
       "      <th>107</th>\n",
       "      <td>NaT</td>\n",
       "      <td>2020-01-30</td>\n",
       "      <td>NaT</td>\n",
       "      <td>True</td>\n",
       "      <td>False</td>\n",
       "      <td>False</td>\n",
       "      <td>False</td>\n",
       "      <td>NaN</td>\n",
       "      <td>NaN</td>\n",
       "      <td>NaN</td>\n",
       "      <td>female</td>\n",
       "    </tr>\n",
       "    <tr>\n",
       "      <th>108</th>\n",
       "      <td>NaT</td>\n",
       "      <td>2020-01-24</td>\n",
       "      <td>NaT</td>\n",
       "      <td>True</td>\n",
       "      <td>False</td>\n",
       "      <td>True</td>\n",
       "      <td>False</td>\n",
       "      <td>fever:pneumonia:sore throat</td>\n",
       "      <td>NaN</td>\n",
       "      <td>40.0</td>\n",
       "      <td>male</td>\n",
       "    </tr>\n",
       "    <tr>\n",
       "      <th>109</th>\n",
       "      <td>2020-10-01</td>\n",
       "      <td>2020-01-15</td>\n",
       "      <td>2020-01-15</td>\n",
       "      <td>True</td>\n",
       "      <td>False</td>\n",
       "      <td>True</td>\n",
       "      <td>False</td>\n",
       "      <td>cough:fever:sore throat</td>\n",
       "      <td>NaN</td>\n",
       "      <td>30.0</td>\n",
       "      <td>male</td>\n",
       "    </tr>\n",
       "    <tr>\n",
       "      <th>110</th>\n",
       "      <td>NaT</td>\n",
       "      <td>2020-01-25</td>\n",
       "      <td>NaT</td>\n",
       "      <td>True</td>\n",
       "      <td>False</td>\n",
       "      <td>False</td>\n",
       "      <td>False</td>\n",
       "      <td>cough:fever</td>\n",
       "      <td>NaN</td>\n",
       "      <td>NaN</td>\n",
       "      <td>female</td>\n",
       "    </tr>\n",
       "    <tr>\n",
       "      <th>111</th>\n",
       "      <td>NaT</td>\n",
       "      <td>2020-01-26</td>\n",
       "      <td>NaT</td>\n",
       "      <td>True</td>\n",
       "      <td>False</td>\n",
       "      <td>False</td>\n",
       "      <td>False</td>\n",
       "      <td>fever:joint pain:pneumonia</td>\n",
       "      <td>NaN</td>\n",
       "      <td>40.0</td>\n",
       "      <td>male</td>\n",
       "    </tr>\n",
       "  </tbody>\n",
       "</table>\n",
       "</div>"
      ],
      "text/plain": [
       "    Hospitalized_date Confirmation_date Outcome_date  Confirmed  Infected  \\\n",
       "107               NaT        2020-01-30          NaT       True     False   \n",
       "108               NaT        2020-01-24          NaT       True     False   \n",
       "109        2020-10-01        2020-01-15   2020-01-15       True     False   \n",
       "110               NaT        2020-01-25          NaT       True     False   \n",
       "111               NaT        2020-01-26          NaT       True     False   \n",
       "\n",
       "     Recovered  Fatal                     Symptoms Chronic_disease   Age  \\\n",
       "107      False  False                          NaN             NaN   NaN   \n",
       "108       True  False  fever:pneumonia:sore throat             NaN  40.0   \n",
       "109       True  False      cough:fever:sore throat             NaN  30.0   \n",
       "110      False  False                  cough:fever             NaN   NaN   \n",
       "111      False  False   fever:joint pain:pneumonia             NaN  40.0   \n",
       "\n",
       "        Sex  \n",
       "107  female  \n",
       "108    male  \n",
       "109    male  \n",
       "110  female  \n",
       "111    male  "
      ]
     },
     "execution_count": 1,
     "metadata": {},
     "output_type": "execute_result"
    }
   ],
   "source": [
    "# Subset for specified area\n",
    "linelist.subset(\"Japan\", province=\"Tokyo\").tail()"
   ]
  },
  {
   "cell_type": "code",
   "execution_count": 31,
   "id": "fuzzy-topic",
   "metadata": {
    "collapsed": false,
    "execution": {
     "iopub.execute_input": "2021-02-24T15:58:40.297188Z",
     "iopub.status.busy": "2021-02-24T15:58:40.296633Z",
     "iopub.status.idle": "2021-02-24T15:58:40.436413Z",
     "shell.execute_reply": "2021-02-24T15:58:40.436825Z"
    }
   },
   "outputs": [
    {
     "data": {
      "text/html": [
       "<div>\n",
       "<style scoped>\n",
       "    .dataframe tbody tr th:only-of-type {\n",
       "        vertical-align: middle;\n",
       "    }\n",
       "\n",
       "    .dataframe tbody tr th {\n",
       "        vertical-align: top;\n",
       "    }\n",
       "\n",
       "    .dataframe thead th {\n",
       "        text-align: right;\n",
       "    }\n",
       "</style>\n",
       "<table border=\"1\" class=\"dataframe\">\n",
       "  <thead>\n",
       "    <tr style=\"text-align: right;\">\n",
       "      <th></th>\n",
       "      <th>Country</th>\n",
       "      <th>Province</th>\n",
       "      <th>Hospitalized_date</th>\n",
       "      <th>Confirmation_date</th>\n",
       "      <th>Recovered_date</th>\n",
       "      <th>Symptoms</th>\n",
       "      <th>Chronic_disease</th>\n",
       "      <th>Age</th>\n",
       "      <th>Sex</th>\n",
       "    </tr>\n",
       "  </thead>\n",
       "  <tbody>\n",
       "    <tr>\n",
       "      <th>272</th>\n",
       "      <td>Singapore</td>\n",
       "      <td>-</td>\n",
       "      <td>2020-02-02</td>\n",
       "      <td>2020-02-06</td>\n",
       "      <td>2020-02-17</td>\n",
       "      <td>NaN</td>\n",
       "      <td>NaN</td>\n",
       "      <td>39.0</td>\n",
       "      <td>female</td>\n",
       "    </tr>\n",
       "    <tr>\n",
       "      <th>273</th>\n",
       "      <td>Malaysia</td>\n",
       "      <td>Johor</td>\n",
       "      <td>NaT</td>\n",
       "      <td>2020-01-25</td>\n",
       "      <td>2020-02-08</td>\n",
       "      <td>cough:fever</td>\n",
       "      <td>NaN</td>\n",
       "      <td>40.0</td>\n",
       "      <td>male</td>\n",
       "    </tr>\n",
       "    <tr>\n",
       "      <th>274</th>\n",
       "      <td>China</td>\n",
       "      <td>Gansu</td>\n",
       "      <td>2020-07-02</td>\n",
       "      <td>2020-02-08</td>\n",
       "      <td>2020-02-17</td>\n",
       "      <td>diarrhea</td>\n",
       "      <td>NaN</td>\n",
       "      <td>1.0</td>\n",
       "      <td>female</td>\n",
       "    </tr>\n",
       "    <tr>\n",
       "      <th>275</th>\n",
       "      <td>Canada</td>\n",
       "      <td>Ontario</td>\n",
       "      <td>NaT</td>\n",
       "      <td>2020-01-25</td>\n",
       "      <td>2020-01-31</td>\n",
       "      <td>NaN</td>\n",
       "      <td>hypertension</td>\n",
       "      <td>NaN</td>\n",
       "      <td>male</td>\n",
       "    </tr>\n",
       "    <tr>\n",
       "      <th>276</th>\n",
       "      <td>Canada</td>\n",
       "      <td>Ontario</td>\n",
       "      <td>NaT</td>\n",
       "      <td>2020-01-31</td>\n",
       "      <td>2020-02-19</td>\n",
       "      <td>NaN</td>\n",
       "      <td>NaN</td>\n",
       "      <td>NaN</td>\n",
       "      <td>female</td>\n",
       "    </tr>\n",
       "  </tbody>\n",
       "</table>\n",
       "</div>"
      ],
      "text/plain": [
       "       Country Province Hospitalized_date Confirmation_date Recovered_date  \\\n",
       "272  Singapore        -        2020-02-02        2020-02-06     2020-02-17   \n",
       "273   Malaysia    Johor               NaT        2020-01-25     2020-02-08   \n",
       "274      China    Gansu        2020-07-02        2020-02-08     2020-02-17   \n",
       "275     Canada  Ontario               NaT        2020-01-25     2020-01-31   \n",
       "276     Canada  Ontario               NaT        2020-01-31     2020-02-19   \n",
       "\n",
       "        Symptoms Chronic_disease   Age     Sex  \n",
       "272          NaN             NaN  39.0  female  \n",
       "273  cough:fever             NaN  40.0    male  \n",
       "274     diarrhea             NaN   1.0  female  \n",
       "275          NaN    hypertension   NaN    male  \n",
       "276          NaN             NaN   NaN  female  "
      ]
     },
     "execution_count": 1,
     "metadata": {},
     "output_type": "execute_result"
    }
   ],
   "source": [
    "# Subset for outcome (\"Recovered\" or \"Fatal\")\n",
    "linelist.closed(outcome=\"Recovered\").tail()"
   ]
  },
  {
   "cell_type": "markdown",
   "id": "ignored-deployment",
   "metadata": {},
   "source": [
    "As the median value of the period from confirmation to recovery, we can calculate recovery period."
   ]
  },
  {
   "cell_type": "code",
   "execution_count": 32,
   "id": "broken-publicity",
   "metadata": {
    "collapsed": false,
    "execution": {
     "iopub.execute_input": "2021-02-24T15:58:40.440079Z",
     "iopub.status.busy": "2021-02-24T15:58:40.439541Z",
     "iopub.status.idle": "2021-02-24T15:58:40.518893Z",
     "shell.execute_reply": "2021-02-24T15:58:40.519222Z"
    }
   },
   "outputs": [
    {
     "data": {
      "text/plain": [
       "12"
      ]
     },
     "execution_count": 1,
     "metadata": {},
     "output_type": "execute_result"
    }
   ],
   "source": [
    "# Recovery period (integer) [days]\n",
    "linelist.recovery_period()"
   ]
  },
  {
   "cell_type": "markdown",
   "id": "flush-mauritius",
   "metadata": {},
   "source": [
    "### Population in each country\n",
    "Population values are necessary to calculate the number of susceptible people. Susceptible is a variable of SIR-derived models. This dataset was saved as `population_data`, an instance of `PopulationData` class."
   ]
  },
  {
   "cell_type": "code",
   "execution_count": 33,
   "id": "scenic-fellow",
   "metadata": {
    "collapsed": false,
    "execution": {
     "iopub.execute_input": "2021-02-24T15:58:40.523071Z",
     "iopub.status.busy": "2021-02-24T15:58:40.522473Z",
     "iopub.status.idle": "2021-02-24T15:58:40.525271Z",
     "shell.execute_reply": "2021-02-24T15:58:40.525596Z"
    }
   },
   "outputs": [
    {
     "data": {
      "text/plain": [
       "covsirphy.cleaning.population.PopulationData"
      ]
     },
     "execution_count": 1,
     "metadata": {},
     "output_type": "execute_result"
    }
   ],
   "source": [
    "type(population_data)"
   ]
  },
  {
   "cell_type": "code",
   "execution_count": 34,
   "id": "romance-hungary",
   "metadata": {
    "collapsed": false,
    "execution": {
     "iopub.execute_input": "2021-02-24T15:58:40.528699Z",
     "iopub.status.busy": "2021-02-24T15:58:40.528245Z",
     "iopub.status.idle": "2021-02-24T15:58:40.530730Z",
     "shell.execute_reply": "2021-02-24T15:58:40.531094Z"
    },
    "tags": []
   },
   "outputs": [
    {
     "name": "stdout",
     "output_type": "stream",
     "text": [
      "(Secondary source) Guidotti, E., Ardia, D., (2020), \"COVID-19 Data Hub\", Journal of Open Source Software 5(51):2376, doi: 10.21105/joss.02376.\n"
     ]
    }
   ],
   "source": [
    "# Description/citation\n",
    "print(population_data.citation)"
   ]
  },
  {
   "cell_type": "code",
   "execution_count": 35,
   "id": "streaming-egyptian",
   "metadata": {
    "collapsed": false,
    "execution": {
     "iopub.execute_input": "2021-02-24T15:58:40.534024Z",
     "iopub.status.busy": "2021-02-24T15:58:40.533486Z",
     "iopub.status.idle": "2021-02-24T15:58:40.535593Z",
     "shell.execute_reply": "2021-02-24T15:58:40.535961Z"
    }
   },
   "outputs": [],
   "source": [
    "# Raw data (the same as jhu_data)\n",
    "# population_data.raw.tail()"
   ]
  },
  {
   "cell_type": "code",
   "execution_count": 36,
   "id": "verbal-intellectual",
   "metadata": {
    "collapsed": false,
    "execution": {
     "iopub.execute_input": "2021-02-24T15:58:40.543941Z",
     "iopub.status.busy": "2021-02-24T15:58:40.543412Z",
     "iopub.status.idle": "2021-02-24T15:58:40.546268Z",
     "shell.execute_reply": "2021-02-24T15:58:40.546594Z"
    }
   },
   "outputs": [
    {
     "data": {
      "text/html": [
       "<div>\n",
       "<style scoped>\n",
       "    .dataframe tbody tr th:only-of-type {\n",
       "        vertical-align: middle;\n",
       "    }\n",
       "\n",
       "    .dataframe tbody tr th {\n",
       "        vertical-align: top;\n",
       "    }\n",
       "\n",
       "    .dataframe thead th {\n",
       "        text-align: right;\n",
       "    }\n",
       "</style>\n",
       "<table border=\"1\" class=\"dataframe\">\n",
       "  <thead>\n",
       "    <tr style=\"text-align: right;\">\n",
       "      <th></th>\n",
       "      <th>ISO3</th>\n",
       "      <th>Country</th>\n",
       "      <th>Province</th>\n",
       "      <th>Date</th>\n",
       "      <th>Population</th>\n",
       "    </tr>\n",
       "  </thead>\n",
       "  <tbody>\n",
       "    <tr>\n",
       "      <th>361195</th>\n",
       "      <td>COL</td>\n",
       "      <td>Colombia</td>\n",
       "      <td>Vichada</td>\n",
       "      <td>2021-02-19</td>\n",
       "      <td>107808</td>\n",
       "    </tr>\n",
       "    <tr>\n",
       "      <th>361196</th>\n",
       "      <td>COL</td>\n",
       "      <td>Colombia</td>\n",
       "      <td>Vichada</td>\n",
       "      <td>2021-02-20</td>\n",
       "      <td>107808</td>\n",
       "    </tr>\n",
       "    <tr>\n",
       "      <th>361197</th>\n",
       "      <td>COL</td>\n",
       "      <td>Colombia</td>\n",
       "      <td>Vichada</td>\n",
       "      <td>2021-02-21</td>\n",
       "      <td>107808</td>\n",
       "    </tr>\n",
       "    <tr>\n",
       "      <th>361198</th>\n",
       "      <td>COL</td>\n",
       "      <td>Colombia</td>\n",
       "      <td>Vichada</td>\n",
       "      <td>2021-02-22</td>\n",
       "      <td>107808</td>\n",
       "    </tr>\n",
       "    <tr>\n",
       "      <th>361199</th>\n",
       "      <td>COL</td>\n",
       "      <td>Colombia</td>\n",
       "      <td>Vichada</td>\n",
       "      <td>2021-02-23</td>\n",
       "      <td>107808</td>\n",
       "    </tr>\n",
       "  </tbody>\n",
       "</table>\n",
       "</div>"
      ],
      "text/plain": [
       "       ISO3   Country Province       Date  Population\n",
       "361195  COL  Colombia  Vichada 2021-02-19      107808\n",
       "361196  COL  Colombia  Vichada 2021-02-20      107808\n",
       "361197  COL  Colombia  Vichada 2021-02-21      107808\n",
       "361198  COL  Colombia  Vichada 2021-02-22      107808\n",
       "361199  COL  Colombia  Vichada 2021-02-23      107808"
      ]
     },
     "execution_count": 1,
     "metadata": {},
     "output_type": "execute_result"
    }
   ],
   "source": [
    "# Cleaned data\n",
    "population_data.cleaned().tail()"
   ]
  },
  {
   "cell_type": "markdown",
   "id": "private-chosen",
   "metadata": {},
   "source": [
    "We will get the population values with `PopulationData.value()`."
   ]
  },
  {
   "cell_type": "code",
   "execution_count": 37,
   "id": "optional-ceremony",
   "metadata": {
    "collapsed": false,
    "execution": {
     "iopub.execute_input": "2021-02-24T15:58:40.550004Z",
     "iopub.status.busy": "2021-02-24T15:58:40.549482Z",
     "iopub.status.idle": "2021-02-24T15:58:41.084643Z",
     "shell.execute_reply": "2021-02-24T15:58:41.084214Z"
    }
   },
   "outputs": [
    {
     "data": {
      "text/plain": [
       "126529100"
      ]
     },
     "execution_count": 1,
     "metadata": {},
     "output_type": "execute_result"
    }
   ],
   "source": [
    "# In a country\n",
    "population_data.value(\"Japan\", province=None)\n",
    "# In a country with ISO3 code\n",
    "# population_data.value(\"JPN\", province=None)\n",
    "# In a province (prefecture)\n",
    "# population_data.value(\"Japan\", province=\"Tokyo\")"
   ]
  },
  {
   "cell_type": "markdown",
   "id": "accepted-austria",
   "metadata": {},
   "source": [
    "We can update the population values."
   ]
  },
  {
   "cell_type": "code",
   "execution_count": 38,
   "id": "coordinate-phrase",
   "metadata": {
    "collapsed": false,
    "execution": {
     "iopub.execute_input": "2021-02-24T15:58:41.089043Z",
     "iopub.status.busy": "2021-02-24T15:58:41.088499Z",
     "iopub.status.idle": "2021-02-24T15:58:41.821086Z",
     "shell.execute_reply": "2021-02-24T15:58:41.821552Z"
    }
   },
   "outputs": [
    {
     "name": "stdout",
     "output_type": "stream",
     "text": [
      "Before: 13942856\n"
     ]
    },
    {
     "name": "stdout",
     "output_type": "stream",
     "text": [
      " After: 14002973\n"
     ]
    }
   ],
   "source": [
    "# Before\n",
    "population_before = population_data.value(\"Japan\", province=\"Tokyo\")\n",
    "print(f\"Before: {population_before}\")\n",
    "# Register population value of Tokyo in Japan\n",
    "# https://www.metro.tokyo.lg.jp/tosei/hodohappyo/press/2020/06/11/07.html\n",
    "population_data.update(14_002_973, \"Japan\", province=\"Tokyo\")\n",
    "population_after = population_data.value(\"Japan\", province=\"Tokyo\")\n",
    "print(f\" After: {population_after}\")"
   ]
  },
  {
   "cell_type": "markdown",
   "id": "resident-prize",
   "metadata": {},
   "source": [
    "We can visualize the number of cases with `.map()` method. When `country` is `None`, global map will be shown. Arguments are the same as `JHUData`, but variable name cannot be specified."
   ]
  },
  {
   "cell_type": "code",
   "execution_count": 39,
   "id": "instant-serial",
   "metadata": {
    "execution": {
     "iopub.execute_input": "2021-02-24T15:58:41.825251Z",
     "iopub.status.busy": "2021-02-24T15:58:41.824752Z",
     "iopub.status.idle": "2021-02-24T15:58:42.654688Z",
     "shell.execute_reply": "2021-02-24T15:58:42.655072Z"
    }
   },
   "outputs": [
    {
     "data": {
      "image/png": "[encoded data removed]",
      "text/plain": [
       "<Figure size 648x432 with 2 Axes>"
      ]
     },
     "metadata": {
      "needs_background": "light"
     },
     "output_type": "display_data"
    }
   ],
   "source": [
    "# Global map with country level data\n",
    "population_data.map(country=None)"
   ]
  },
  {
   "cell_type": "code",
   "execution_count": 40,
   "id": "indoor-austin",
   "metadata": {
    "execution": {
     "iopub.execute_input": "2021-02-24T15:58:42.658504Z",
     "iopub.status.busy": "2021-02-24T15:58:42.657954Z",
     "iopub.status.idle": "2021-02-24T15:58:42.803664Z",
     "shell.execute_reply": "2021-02-24T15:58:42.804068Z"
    }
   },
   "outputs": [
    {
     "data": {
      "text/html": [
       "<div>\n",
       "<style scoped>\n",
       "    .dataframe tbody tr th:only-of-type {\n",
       "        vertical-align: middle;\n",
       "    }\n",
       "\n",
       "    .dataframe tbody tr th {\n",
       "        vertical-align: top;\n",
       "    }\n",
       "\n",
       "    .dataframe thead th {\n",
       "        text-align: right;\n",
       "    }\n",
       "</style>\n",
       "<table border=\"1\" class=\"dataframe\">\n",
       "  <thead>\n",
       "    <tr style=\"text-align: right;\">\n",
       "      <th></th>\n",
       "      <th>ISO3</th>\n",
       "      <th>Country</th>\n",
       "      <th>Date</th>\n",
       "      <th>Population</th>\n",
       "    </tr>\n",
       "  </thead>\n",
       "  <tbody>\n",
       "    <tr>\n",
       "      <th>81895</th>\n",
       "      <td>ZWE</td>\n",
       "      <td>Zimbabwe</td>\n",
       "      <td>2021-02-19</td>\n",
       "      <td>14439018</td>\n",
       "    </tr>\n",
       "    <tr>\n",
       "      <th>81896</th>\n",
       "      <td>ZWE</td>\n",
       "      <td>Zimbabwe</td>\n",
       "      <td>2021-02-20</td>\n",
       "      <td>14439018</td>\n",
       "    </tr>\n",
       "    <tr>\n",
       "      <th>81897</th>\n",
       "      <td>ZWE</td>\n",
       "      <td>Zimbabwe</td>\n",
       "      <td>2021-02-21</td>\n",
       "      <td>14439018</td>\n",
       "    </tr>\n",
       "    <tr>\n",
       "      <th>81898</th>\n",
       "      <td>ZWE</td>\n",
       "      <td>Zimbabwe</td>\n",
       "      <td>2021-02-22</td>\n",
       "      <td>14439018</td>\n",
       "    </tr>\n",
       "    <tr>\n",
       "      <th>81899</th>\n",
       "      <td>ZWE</td>\n",
       "      <td>Zimbabwe</td>\n",
       "      <td>2021-02-23</td>\n",
       "      <td>14439018</td>\n",
       "    </tr>\n",
       "  </tbody>\n",
       "</table>\n",
       "</div>"
      ],
      "text/plain": [
       "      ISO3   Country       Date  Population\n",
       "81895  ZWE  Zimbabwe 2021-02-19    14439018\n",
       "81896  ZWE  Zimbabwe 2021-02-20    14439018\n",
       "81897  ZWE  Zimbabwe 2021-02-21    14439018\n",
       "81898  ZWE  Zimbabwe 2021-02-22    14439018\n",
       "81899  ZWE  Zimbabwe 2021-02-23    14439018"
      ]
     },
     "execution_count": 1,
     "metadata": {},
     "output_type": "execute_result"
    }
   ],
   "source": [
    "# Country level data\n",
    "population_data.layer(country=None).tail()"
   ]
  },
  {
   "cell_type": "code",
   "execution_count": 41,
   "id": "superior-wallpaper",
   "metadata": {
    "execution": {
     "iopub.execute_input": "2021-02-24T15:58:42.807539Z",
     "iopub.status.busy": "2021-02-24T15:58:42.807030Z",
     "iopub.status.idle": "2021-02-24T15:58:44.306087Z",
     "shell.execute_reply": "2021-02-24T15:58:44.306435Z"
    }
   },
   "outputs": [
    {
     "data": {
      "image/png": "[encoded data removed]",
      "text/plain": [
       "<Figure size 648x432 with 2 Axes>"
      ]
     },
     "metadata": {
      "needs_background": "light"
     },
     "output_type": "display_data"
    }
   ],
   "source": [
    "# Country map with province level data\n",
    "population_data.map(country=\"Japan\")"
   ]
  },
  {
   "cell_type": "code",
   "execution_count": 42,
   "id": "color-grounds",
   "metadata": {
    "execution": {
     "iopub.execute_input": "2021-02-24T15:58:44.310517Z",
     "iopub.status.busy": "2021-02-24T15:58:44.309742Z",
     "iopub.status.idle": "2021-02-24T15:58:44.477020Z",
     "shell.execute_reply": "2021-02-24T15:58:44.476597Z"
    }
   },
   "outputs": [
    {
     "data": {
      "text/html": [
       "<div>\n",
       "<style scoped>\n",
       "    .dataframe tbody tr th:only-of-type {\n",
       "        vertical-align: middle;\n",
       "    }\n",
       "\n",
       "    .dataframe tbody tr th {\n",
       "        vertical-align: top;\n",
       "    }\n",
       "\n",
       "    .dataframe thead th {\n",
       "        text-align: right;\n",
       "    }\n",
       "</style>\n",
       "<table border=\"1\" class=\"dataframe\">\n",
       "  <thead>\n",
       "    <tr style=\"text-align: right;\">\n",
       "      <th></th>\n",
       "      <th>ISO3</th>\n",
       "      <th>Country</th>\n",
       "      <th>Province</th>\n",
       "      <th>Date</th>\n",
       "      <th>Population</th>\n",
       "    </tr>\n",
       "  </thead>\n",
       "  <tbody>\n",
       "    <tr>\n",
       "      <th>19736</th>\n",
       "      <td>JPN</td>\n",
       "      <td>Japan</td>\n",
       "      <td>Kagawa</td>\n",
       "      <td>2021-02-20</td>\n",
       "      <td>956069</td>\n",
       "    </tr>\n",
       "    <tr>\n",
       "      <th>19737</th>\n",
       "      <td>JPN</td>\n",
       "      <td>Japan</td>\n",
       "      <td>Kagawa</td>\n",
       "      <td>2021-02-21</td>\n",
       "      <td>956069</td>\n",
       "    </tr>\n",
       "    <tr>\n",
       "      <th>19738</th>\n",
       "      <td>JPN</td>\n",
       "      <td>Japan</td>\n",
       "      <td>Kagawa</td>\n",
       "      <td>2021-02-22</td>\n",
       "      <td>956069</td>\n",
       "    </tr>\n",
       "    <tr>\n",
       "      <th>19739</th>\n",
       "      <td>JPN</td>\n",
       "      <td>Japan</td>\n",
       "      <td>Kagawa</td>\n",
       "      <td>2021-02-23</td>\n",
       "      <td>956069</td>\n",
       "    </tr>\n",
       "    <tr>\n",
       "      <th>19740</th>\n",
       "      <td>-</td>\n",
       "      <td>Japan</td>\n",
       "      <td>Tokyo</td>\n",
       "      <td>2021-02-25</td>\n",
       "      <td>14002973</td>\n",
       "    </tr>\n",
       "  </tbody>\n",
       "</table>\n",
       "</div>"
      ],
      "text/plain": [
       "      ISO3 Country Province       Date  Population\n",
       "19736  JPN   Japan   Kagawa 2021-02-20      956069\n",
       "19737  JPN   Japan   Kagawa 2021-02-21      956069\n",
       "19738  JPN   Japan   Kagawa 2021-02-22      956069\n",
       "19739  JPN   Japan   Kagawa 2021-02-23      956069\n",
       "19740    -   Japan    Tokyo 2021-02-25    14002973"
      ]
     },
     "execution_count": 1,
     "metadata": {},
     "output_type": "execute_result"
    }
   ],
   "source": [
    "# Province level data\n",
    "population_data.layer(country=\"Japan\").tail()"
   ]
  },
  {
   "cell_type": "markdown",
   "id": "limiting-brazil",
   "metadata": {},
   "source": [
    "### Government Response Tracker (OxCGRT)\n",
    "Government responses are tracked with [Oxford Covid-19 Government Response Tracker (OxCGRT)](https://github.com/OxCGRT/covid-policy-tracker). Because government responses and activities of persons change the parameter values of SIR-derived models, this dataset is significant when we try to forcast the number of cases.  \n",
    "With `DataLoader` class, the dataset was retrieved via [COVID-19 Data Hub](https://covid19datahub.io/) and saved as `oxcgrt_data`, an instance of `OxCGRTData` class."
   ]
  },
  {
   "cell_type": "code",
   "execution_count": 43,
   "id": "parliamentary-circus",
   "metadata": {
    "collapsed": false,
    "execution": {
     "iopub.execute_input": "2021-02-24T15:58:44.480605Z",
     "iopub.status.busy": "2021-02-24T15:58:44.480103Z",
     "iopub.status.idle": "2021-02-24T15:58:44.482826Z",
     "shell.execute_reply": "2021-02-24T15:58:44.483218Z"
    }
   },
   "outputs": [
    {
     "data": {
      "text/plain": [
       "covsirphy.cleaning.oxcgrt.OxCGRTData"
      ]
     },
     "execution_count": 1,
     "metadata": {},
     "output_type": "execute_result"
    }
   ],
   "source": [
    "type(oxcgrt_data)"
   ]
  },
  {
   "cell_type": "code",
   "execution_count": 44,
   "id": "coral-visiting",
   "metadata": {
    "collapsed": false,
    "execution": {
     "iopub.execute_input": "2021-02-24T15:58:44.486401Z",
     "iopub.status.busy": "2021-02-24T15:58:44.485932Z",
     "iopub.status.idle": "2021-02-24T15:58:44.488495Z",
     "shell.execute_reply": "2021-02-24T15:58:44.488961Z"
    },
    "tags": []
   },
   "outputs": [
    {
     "name": "stdout",
     "output_type": "stream",
     "text": [
      "(Secondary source) Guidotti, E., Ardia, D., (2020), \"COVID-19 Data Hub\", Journal of Open Source Software 5(51):2376, doi: 10.21105/joss.02376.\n"
     ]
    }
   ],
   "source": [
    "# Description/citation\n",
    "print(oxcgrt_data.citation)"
   ]
  },
  {
   "cell_type": "code",
   "execution_count": 45,
   "id": "incomplete-algorithm",
   "metadata": {
    "collapsed": false,
    "execution": {
     "iopub.execute_input": "2021-02-24T15:58:44.492104Z",
     "iopub.status.busy": "2021-02-24T15:58:44.491611Z",
     "iopub.status.idle": "2021-02-24T15:58:44.493716Z",
     "shell.execute_reply": "2021-02-24T15:58:44.494079Z"
    }
   },
   "outputs": [],
   "source": [
    "# Raw data (the same as jhu_data)\n",
    "# oxcgrt_data.raw.tail()"
   ]
  },
  {
   "cell_type": "code",
   "execution_count": 46,
   "id": "floral-benchmark",
   "metadata": {
    "collapsed": false,
    "execution": {
     "iopub.execute_input": "2021-02-24T15:58:44.505954Z",
     "iopub.status.busy": "2021-02-24T15:58:44.505258Z",
     "iopub.status.idle": "2021-02-24T15:58:44.508308Z",
     "shell.execute_reply": "2021-02-24T15:58:44.508675Z"
    }
   },
   "outputs": [
    {
     "data": {
      "text/html": [
       "<div>\n",
       "<style scoped>\n",
       "    .dataframe tbody tr th:only-of-type {\n",
       "        vertical-align: middle;\n",
       "    }\n",
       "\n",
       "    .dataframe tbody tr th {\n",
       "        vertical-align: top;\n",
       "    }\n",
       "\n",
       "    .dataframe thead th {\n",
       "        text-align: right;\n",
       "    }\n",
       "</style>\n",
       "<table border=\"1\" class=\"dataframe\">\n",
       "  <thead>\n",
       "    <tr style=\"text-align: right;\">\n",
       "      <th></th>\n",
       "      <th>Date</th>\n",
       "      <th>Country</th>\n",
       "      <th>ISO3</th>\n",
       "      <th>School_closing</th>\n",
       "      <th>Workplace_closing</th>\n",
       "      <th>Cancel_events</th>\n",
       "      <th>Gatherings_restrictions</th>\n",
       "      <th>Transport_closing</th>\n",
       "      <th>Stay_home_restrictions</th>\n",
       "      <th>Internal_movement_restrictions</th>\n",
       "      <th>International_movement_restrictions</th>\n",
       "      <th>Information_campaigns</th>\n",
       "      <th>Testing_policy</th>\n",
       "      <th>Contact_tracing</th>\n",
       "      <th>Stringency_index</th>\n",
       "    </tr>\n",
       "  </thead>\n",
       "  <tbody>\n",
       "    <tr>\n",
       "      <th>32201</th>\n",
       "      <td>2021-02-19</td>\n",
       "      <td>Colombia</td>\n",
       "      <td>COL</td>\n",
       "      <td>3</td>\n",
       "      <td>1</td>\n",
       "      <td>1</td>\n",
       "      <td>3</td>\n",
       "      <td>1</td>\n",
       "      <td>1</td>\n",
       "      <td>1</td>\n",
       "      <td>4</td>\n",
       "      <td>2</td>\n",
       "      <td>2</td>\n",
       "      <td>2</td>\n",
       "      <td>81.02</td>\n",
       "    </tr>\n",
       "    <tr>\n",
       "      <th>32202</th>\n",
       "      <td>2021-02-20</td>\n",
       "      <td>Colombia</td>\n",
       "      <td>COL</td>\n",
       "      <td>3</td>\n",
       "      <td>1</td>\n",
       "      <td>1</td>\n",
       "      <td>3</td>\n",
       "      <td>1</td>\n",
       "      <td>1</td>\n",
       "      <td>1</td>\n",
       "      <td>4</td>\n",
       "      <td>2</td>\n",
       "      <td>2</td>\n",
       "      <td>2</td>\n",
       "      <td>81.02</td>\n",
       "    </tr>\n",
       "    <tr>\n",
       "      <th>32203</th>\n",
       "      <td>2021-02-21</td>\n",
       "      <td>Colombia</td>\n",
       "      <td>COL</td>\n",
       "      <td>3</td>\n",
       "      <td>1</td>\n",
       "      <td>1</td>\n",
       "      <td>3</td>\n",
       "      <td>1</td>\n",
       "      <td>1</td>\n",
       "      <td>1</td>\n",
       "      <td>4</td>\n",
       "      <td>2</td>\n",
       "      <td>2</td>\n",
       "      <td>2</td>\n",
       "      <td>81.02</td>\n",
       "    </tr>\n",
       "    <tr>\n",
       "      <th>32204</th>\n",
       "      <td>2021-02-22</td>\n",
       "      <td>Colombia</td>\n",
       "      <td>COL</td>\n",
       "      <td>3</td>\n",
       "      <td>1</td>\n",
       "      <td>1</td>\n",
       "      <td>3</td>\n",
       "      <td>1</td>\n",
       "      <td>1</td>\n",
       "      <td>1</td>\n",
       "      <td>4</td>\n",
       "      <td>2</td>\n",
       "      <td>2</td>\n",
       "      <td>2</td>\n",
       "      <td>81.02</td>\n",
       "    </tr>\n",
       "    <tr>\n",
       "      <th>32205</th>\n",
       "      <td>2021-02-23</td>\n",
       "      <td>Colombia</td>\n",
       "      <td>COL</td>\n",
       "      <td>3</td>\n",
       "      <td>1</td>\n",
       "      <td>1</td>\n",
       "      <td>3</td>\n",
       "      <td>1</td>\n",
       "      <td>1</td>\n",
       "      <td>1</td>\n",
       "      <td>4</td>\n",
       "      <td>2</td>\n",
       "      <td>2</td>\n",
       "      <td>2</td>\n",
       "      <td>81.02</td>\n",
       "    </tr>\n",
       "  </tbody>\n",
       "</table>\n",
       "</div>"
      ],
      "text/plain": [
       "            Date   Country ISO3  School_closing  Workplace_closing  \\\n",
       "32201 2021-02-19  Colombia  COL               3                  1   \n",
       "32202 2021-02-20  Colombia  COL               3                  1   \n",
       "32203 2021-02-21  Colombia  COL               3                  1   \n",
       "32204 2021-02-22  Colombia  COL               3                  1   \n",
       "32205 2021-02-23  Colombia  COL               3                  1   \n",
       "\n",
       "       Cancel_events  Gatherings_restrictions  Transport_closing  \\\n",
       "32201              1                        3                  1   \n",
       "32202              1                        3                  1   \n",
       "32203              1                        3                  1   \n",
       "32204              1                        3                  1   \n",
       "32205              1                        3                  1   \n",
       "\n",
       "       Stay_home_restrictions  Internal_movement_restrictions  \\\n",
       "32201                       1                               1   \n",
       "32202                       1                               1   \n",
       "32203                       1                               1   \n",
       "32204                       1                               1   \n",
       "32205                       1                               1   \n",
       "\n",
       "       International_movement_restrictions  Information_campaigns  \\\n",
       "32201                                    4                      2   \n",
       "32202                                    4                      2   \n",
       "32203                                    4                      2   \n",
       "32204                                    4                      2   \n",
       "32205                                    4                      2   \n",
       "\n",
       "       Testing_policy  Contact_tracing  Stringency_index  \n",
       "32201               2                2             81.02  \n",
       "32202               2                2             81.02  \n",
       "32203               2                2             81.02  \n",
       "32204               2                2             81.02  \n",
       "32205               2                2             81.02  "
      ]
     },
     "execution_count": 1,
     "metadata": {},
     "output_type": "execute_result"
    }
   ],
   "source": [
    "# Cleaned data\n",
    "oxcgrt_data.cleaned().tail()"
   ]
  },
  {
   "cell_type": "code",
   "execution_count": 47,
   "id": "lonely-certification",
   "metadata": {
    "collapsed": false,
    "execution": {
     "iopub.execute_input": "2021-02-24T15:58:44.511865Z",
     "iopub.status.busy": "2021-02-24T15:58:44.511400Z",
     "iopub.status.idle": "2021-02-24T15:58:45.329154Z",
     "shell.execute_reply": "2021-02-24T15:58:45.329624Z"
    }
   },
   "outputs": [
    {
     "data": {
      "text/html": [
       "<div>\n",
       "<style scoped>\n",
       "    .dataframe tbody tr th:only-of-type {\n",
       "        vertical-align: middle;\n",
       "    }\n",
       "\n",
       "    .dataframe tbody tr th {\n",
       "        vertical-align: top;\n",
       "    }\n",
       "\n",
       "    .dataframe thead th {\n",
       "        text-align: right;\n",
       "    }\n",
       "</style>\n",
       "<table border=\"1\" class=\"dataframe\">\n",
       "  <thead>\n",
       "    <tr style=\"text-align: right;\">\n",
       "      <th></th>\n",
       "      <th>Date</th>\n",
       "      <th>School_closing</th>\n",
       "      <th>Workplace_closing</th>\n",
       "      <th>Cancel_events</th>\n",
       "      <th>Gatherings_restrictions</th>\n",
       "      <th>Transport_closing</th>\n",
       "      <th>Stay_home_restrictions</th>\n",
       "      <th>Internal_movement_restrictions</th>\n",
       "      <th>International_movement_restrictions</th>\n",
       "      <th>Information_campaigns</th>\n",
       "      <th>Testing_policy</th>\n",
       "      <th>Contact_tracing</th>\n",
       "      <th>Stringency_index</th>\n",
       "    </tr>\n",
       "  </thead>\n",
       "  <tbody>\n",
       "    <tr>\n",
       "      <th>415</th>\n",
       "      <td>2021-02-19</td>\n",
       "      <td>1</td>\n",
       "      <td>1</td>\n",
       "      <td>1</td>\n",
       "      <td>0</td>\n",
       "      <td>1</td>\n",
       "      <td>1</td>\n",
       "      <td>1</td>\n",
       "      <td>4</td>\n",
       "      <td>2</td>\n",
       "      <td>2</td>\n",
       "      <td>1</td>\n",
       "      <td>49.54</td>\n",
       "    </tr>\n",
       "    <tr>\n",
       "      <th>416</th>\n",
       "      <td>2021-02-20</td>\n",
       "      <td>1</td>\n",
       "      <td>1</td>\n",
       "      <td>1</td>\n",
       "      <td>0</td>\n",
       "      <td>1</td>\n",
       "      <td>1</td>\n",
       "      <td>1</td>\n",
       "      <td>4</td>\n",
       "      <td>2</td>\n",
       "      <td>2</td>\n",
       "      <td>1</td>\n",
       "      <td>49.54</td>\n",
       "    </tr>\n",
       "    <tr>\n",
       "      <th>417</th>\n",
       "      <td>2021-02-21</td>\n",
       "      <td>1</td>\n",
       "      <td>1</td>\n",
       "      <td>1</td>\n",
       "      <td>0</td>\n",
       "      <td>1</td>\n",
       "      <td>1</td>\n",
       "      <td>1</td>\n",
       "      <td>4</td>\n",
       "      <td>2</td>\n",
       "      <td>2</td>\n",
       "      <td>1</td>\n",
       "      <td>49.54</td>\n",
       "    </tr>\n",
       "    <tr>\n",
       "      <th>418</th>\n",
       "      <td>2021-02-22</td>\n",
       "      <td>1</td>\n",
       "      <td>1</td>\n",
       "      <td>1</td>\n",
       "      <td>0</td>\n",
       "      <td>1</td>\n",
       "      <td>1</td>\n",
       "      <td>1</td>\n",
       "      <td>4</td>\n",
       "      <td>2</td>\n",
       "      <td>2</td>\n",
       "      <td>1</td>\n",
       "      <td>49.54</td>\n",
       "    </tr>\n",
       "    <tr>\n",
       "      <th>419</th>\n",
       "      <td>2021-02-23</td>\n",
       "      <td>1</td>\n",
       "      <td>1</td>\n",
       "      <td>1</td>\n",
       "      <td>0</td>\n",
       "      <td>1</td>\n",
       "      <td>1</td>\n",
       "      <td>1</td>\n",
       "      <td>4</td>\n",
       "      <td>2</td>\n",
       "      <td>2</td>\n",
       "      <td>1</td>\n",
       "      <td>49.54</td>\n",
       "    </tr>\n",
       "  </tbody>\n",
       "</table>\n",
       "</div>"
      ],
      "text/plain": [
       "          Date  School_closing  Workplace_closing  Cancel_events  \\\n",
       "415 2021-02-19               1                  1              1   \n",
       "416 2021-02-20               1                  1              1   \n",
       "417 2021-02-21               1                  1              1   \n",
       "418 2021-02-22               1                  1              1   \n",
       "419 2021-02-23               1                  1              1   \n",
       "\n",
       "     Gatherings_restrictions  Transport_closing  Stay_home_restrictions  \\\n",
       "415                        0                  1                       1   \n",
       "416                        0                  1                       1   \n",
       "417                        0                  1                       1   \n",
       "418                        0                  1                       1   \n",
       "419                        0                  1                       1   \n",
       "\n",
       "     Internal_movement_restrictions  International_movement_restrictions  \\\n",
       "415                               1                                    4   \n",
       "416                               1                                    4   \n",
       "417                               1                                    4   \n",
       "418                               1                                    4   \n",
       "419                               1                                    4   \n",
       "\n",
       "     Information_campaigns  Testing_policy  Contact_tracing  Stringency_index  \n",
       "415                      2               2                1             49.54  \n",
       "416                      2               2                1             49.54  \n",
       "417                      2               2                1             49.54  \n",
       "418                      2               2                1             49.54  \n",
       "419                      2               2                1             49.54  "
      ]
     },
     "execution_count": 1,
     "metadata": {},
     "output_type": "execute_result"
    }
   ],
   "source": [
    "# Subset for a country\n",
    "oxcgrt_data.subset(\"Japan\").tail()\n",
    "# We can use ISO3 codes\n",
    "# oxcgrt_data.subset(\"JPN\").tail()"
   ]
  },
  {
   "cell_type": "markdown",
   "id": "needed-nurse",
   "metadata": {},
   "source": [
    "We can visualize the number of cases with `.map()` method. Arguments are the same as `JHUData`, but country name cannot be specified."
   ]
  },
  {
   "cell_type": "code",
   "execution_count": 48,
   "id": "prescribed-shark",
   "metadata": {
    "execution": {
     "iopub.execute_input": "2021-02-24T15:58:45.333023Z",
     "iopub.status.busy": "2021-02-24T15:58:45.332574Z",
     "iopub.status.idle": "2021-02-24T15:58:46.380083Z",
     "shell.execute_reply": "2021-02-24T15:58:46.379581Z"
    }
   },
   "outputs": [
    {
     "data": {
      "image/png": "[encoded data removed]",
      "text/plain": [
       "<Figure size 648x432 with 2 Axes>"
      ]
     },
     "metadata": {
      "needs_background": "light"
     },
     "output_type": "display_data"
    }
   ],
   "source": [
    "# Global map with country level data\n",
    "oxcgrt_data.map(variable=\"Stringency_index\")"
   ]
  },
  {
   "cell_type": "code",
   "execution_count": 49,
   "id": "physical-mandate",
   "metadata": {
    "execution": {
     "iopub.execute_input": "2021-02-24T15:58:46.383321Z",
     "iopub.status.busy": "2021-02-24T15:58:46.382801Z",
     "iopub.status.idle": "2021-02-24T15:58:46.912805Z",
     "shell.execute_reply": "2021-02-24T15:58:46.913155Z"
    }
   },
   "outputs": [
    {
     "data": {
      "text/html": [
       "<div>\n",
       "<style scoped>\n",
       "    .dataframe tbody tr th:only-of-type {\n",
       "        vertical-align: middle;\n",
       "    }\n",
       "\n",
       "    .dataframe tbody tr th {\n",
       "        vertical-align: top;\n",
       "    }\n",
       "\n",
       "    .dataframe thead th {\n",
       "        text-align: right;\n",
       "    }\n",
       "</style>\n",
       "<table border=\"1\" class=\"dataframe\">\n",
       "  <thead>\n",
       "    <tr style=\"text-align: right;\">\n",
       "      <th></th>\n",
       "      <th>Date</th>\n",
       "      <th>Country</th>\n",
       "      <th>ISO3</th>\n",
       "      <th>School_closing</th>\n",
       "      <th>Workplace_closing</th>\n",
       "      <th>Cancel_events</th>\n",
       "      <th>Gatherings_restrictions</th>\n",
       "      <th>Transport_closing</th>\n",
       "      <th>Stay_home_restrictions</th>\n",
       "      <th>Internal_movement_restrictions</th>\n",
       "      <th>International_movement_restrictions</th>\n",
       "      <th>Information_campaigns</th>\n",
       "      <th>Testing_policy</th>\n",
       "      <th>Contact_tracing</th>\n",
       "      <th>Stringency_index</th>\n",
       "    </tr>\n",
       "  </thead>\n",
       "  <tbody>\n",
       "    <tr>\n",
       "      <th>427975</th>\n",
       "      <td>2021-02-19</td>\n",
       "      <td>Colombia</td>\n",
       "      <td>COL</td>\n",
       "      <td>3</td>\n",
       "      <td>1</td>\n",
       "      <td>1</td>\n",
       "      <td>3</td>\n",
       "      <td>1</td>\n",
       "      <td>1</td>\n",
       "      <td>1</td>\n",
       "      <td>4</td>\n",
       "      <td>2</td>\n",
       "      <td>2</td>\n",
       "      <td>2</td>\n",
       "      <td>81.02</td>\n",
       "    </tr>\n",
       "    <tr>\n",
       "      <th>427976</th>\n",
       "      <td>2021-02-20</td>\n",
       "      <td>Colombia</td>\n",
       "      <td>COL</td>\n",
       "      <td>3</td>\n",
       "      <td>1</td>\n",
       "      <td>1</td>\n",
       "      <td>3</td>\n",
       "      <td>1</td>\n",
       "      <td>1</td>\n",
       "      <td>1</td>\n",
       "      <td>4</td>\n",
       "      <td>2</td>\n",
       "      <td>2</td>\n",
       "      <td>2</td>\n",
       "      <td>81.02</td>\n",
       "    </tr>\n",
       "    <tr>\n",
       "      <th>427977</th>\n",
       "      <td>2021-02-21</td>\n",
       "      <td>Colombia</td>\n",
       "      <td>COL</td>\n",
       "      <td>3</td>\n",
       "      <td>1</td>\n",
       "      <td>1</td>\n",
       "      <td>3</td>\n",
       "      <td>1</td>\n",
       "      <td>1</td>\n",
       "      <td>1</td>\n",
       "      <td>4</td>\n",
       "      <td>2</td>\n",
       "      <td>2</td>\n",
       "      <td>2</td>\n",
       "      <td>81.02</td>\n",
       "    </tr>\n",
       "    <tr>\n",
       "      <th>427978</th>\n",
       "      <td>2021-02-22</td>\n",
       "      <td>Colombia</td>\n",
       "      <td>COL</td>\n",
       "      <td>3</td>\n",
       "      <td>1</td>\n",
       "      <td>1</td>\n",
       "      <td>3</td>\n",
       "      <td>1</td>\n",
       "      <td>1</td>\n",
       "      <td>1</td>\n",
       "      <td>4</td>\n",
       "      <td>2</td>\n",
       "      <td>2</td>\n",
       "      <td>2</td>\n",
       "      <td>81.02</td>\n",
       "    </tr>\n",
       "    <tr>\n",
       "      <th>427979</th>\n",
       "      <td>2021-02-23</td>\n",
       "      <td>Colombia</td>\n",
       "      <td>COL</td>\n",
       "      <td>3</td>\n",
       "      <td>1</td>\n",
       "      <td>1</td>\n",
       "      <td>3</td>\n",
       "      <td>1</td>\n",
       "      <td>1</td>\n",
       "      <td>1</td>\n",
       "      <td>4</td>\n",
       "      <td>2</td>\n",
       "      <td>2</td>\n",
       "      <td>2</td>\n",
       "      <td>81.02</td>\n",
       "    </tr>\n",
       "  </tbody>\n",
       "</table>\n",
       "</div>"
      ],
      "text/plain": [
       "             Date   Country ISO3  School_closing  Workplace_closing  \\\n",
       "427975 2021-02-19  Colombia  COL               3                  1   \n",
       "427976 2021-02-20  Colombia  COL               3                  1   \n",
       "427977 2021-02-21  Colombia  COL               3                  1   \n",
       "427978 2021-02-22  Colombia  COL               3                  1   \n",
       "427979 2021-02-23  Colombia  COL               3                  1   \n",
       "\n",
       "        Cancel_events  Gatherings_restrictions  Transport_closing  \\\n",
       "427975              1                        3                  1   \n",
       "427976              1                        3                  1   \n",
       "427977              1                        3                  1   \n",
       "427978              1                        3                  1   \n",
       "427979              1                        3                  1   \n",
       "\n",
       "        Stay_home_restrictions  Internal_movement_restrictions  \\\n",
       "427975                       1                               1   \n",
       "427976                       1                               1   \n",
       "427977                       1                               1   \n",
       "427978                       1                               1   \n",
       "427979                       1                               1   \n",
       "\n",
       "        International_movement_restrictions  Information_campaigns  \\\n",
       "427975                                    4                      2   \n",
       "427976                                    4                      2   \n",
       "427977                                    4                      2   \n",
       "427978                                    4                      2   \n",
       "427979                                    4                      2   \n",
       "\n",
       "        Testing_policy  Contact_tracing  Stringency_index  \n",
       "427975               2                2             81.02  \n",
       "427976               2                2             81.02  \n",
       "427977               2                2             81.02  \n",
       "427978               2                2             81.02  \n",
       "427979               2                2             81.02  "
      ]
     },
     "execution_count": 1,
     "metadata": {},
     "output_type": "execute_result"
    }
   ],
   "source": [
    "# Country level data\n",
    "oxcgrt_data.layer().tail()"
   ]
  },
  {
   "cell_type": "markdown",
   "id": "vertical-formula",
   "metadata": {},
   "source": [
    "### The number of tests\n",
    "The number of tests is also key information to understand the situation.\n",
    "This dataset was saved as `pcr_data`, an instance of `PCRData` class."
   ]
  },
  {
   "cell_type": "code",
   "execution_count": 50,
   "id": "controversial-subscription",
   "metadata": {
    "collapsed": false,
    "execution": {
     "iopub.execute_input": "2021-02-24T15:58:46.917106Z",
     "iopub.status.busy": "2021-02-24T15:58:46.916403Z",
     "iopub.status.idle": "2021-02-24T15:58:46.920391Z",
     "shell.execute_reply": "2021-02-24T15:58:46.920755Z"
    }
   },
   "outputs": [
    {
     "data": {
      "text/plain": [
       "covsirphy.cleaning.pcr_data.PCRData"
      ]
     },
     "execution_count": 1,
     "metadata": {},
     "output_type": "execute_result"
    }
   ],
   "source": [
    "type(pcr_data)"
   ]
  },
  {
   "cell_type": "code",
   "execution_count": 51,
   "id": "breathing-diesel",
   "metadata": {
    "collapsed": false,
    "execution": {
     "iopub.execute_input": "2021-02-24T15:58:46.924168Z",
     "iopub.status.busy": "2021-02-24T15:58:46.923679Z",
     "iopub.status.idle": "2021-02-24T15:58:46.925809Z",
     "shell.execute_reply": "2021-02-24T15:58:46.926180Z"
    }
   },
   "outputs": [
    {
     "name": "stdout",
     "output_type": "stream",
     "text": [
      "(Secondary source) Guidotti, E., Ardia, D., (2020), \"COVID-19 Data Hub\", Journal of Open Source Software 5(51):2376, doi: 10.21105/joss.02376.\n",
      "Hasell, J., Mathieu, E., Beltekian, D. et al. A cross-country database of COVID-19 testing. Sci Data 7, 345 (2020). https://doi.org/10.1038/s41597-020-00688-8\n",
      "Lisphilar (2020), COVID-19 dataset in Japan, GitHub repository, https://github.com/lisphilar/covid19-sir/data/japan\n"
     ]
    }
   ],
   "source": [
    "# Description/citation\n",
    "print(pcr_data.citation)"
   ]
  },
  {
   "cell_type": "code",
   "execution_count": 52,
   "id": "confirmed-sweden",
   "metadata": {
    "collapsed": false,
    "execution": {
     "iopub.execute_input": "2021-02-24T15:58:46.929079Z",
     "iopub.status.busy": "2021-02-24T15:58:46.928595Z",
     "iopub.status.idle": "2021-02-24T15:58:46.930787Z",
     "shell.execute_reply": "2021-02-24T15:58:46.931154Z"
    }
   },
   "outputs": [],
   "source": [
    "# Raw data (the same as jhu_data)\n",
    "# pcr_data.raw.tail()"
   ]
  },
  {
   "cell_type": "code",
   "execution_count": 53,
   "id": "acceptable-barbados",
   "metadata": {
    "collapsed": false,
    "execution": {
     "iopub.execute_input": "2021-02-24T15:58:46.943255Z",
     "iopub.status.busy": "2021-02-24T15:58:46.942743Z",
     "iopub.status.idle": "2021-02-24T15:58:46.945388Z",
     "shell.execute_reply": "2021-02-24T15:58:46.945771Z"
    }
   },
   "outputs": [
    {
     "data": {
      "text/html": [
       "<div>\n",
       "<style scoped>\n",
       "    .dataframe tbody tr th:only-of-type {\n",
       "        vertical-align: middle;\n",
       "    }\n",
       "\n",
       "    .dataframe tbody tr th {\n",
       "        vertical-align: top;\n",
       "    }\n",
       "\n",
       "    .dataframe thead th {\n",
       "        text-align: right;\n",
       "    }\n",
       "</style>\n",
       "<table border=\"1\" class=\"dataframe\">\n",
       "  <thead>\n",
       "    <tr style=\"text-align: right;\">\n",
       "      <th></th>\n",
       "      <th>Date</th>\n",
       "      <th>Country</th>\n",
       "      <th>Province</th>\n",
       "      <th>Tests</th>\n",
       "      <th>Confirmed</th>\n",
       "    </tr>\n",
       "  </thead>\n",
       "  <tbody>\n",
       "    <tr>\n",
       "      <th>16886</th>\n",
       "      <td>2021-02-20</td>\n",
       "      <td>Japan</td>\n",
       "      <td>-</td>\n",
       "      <td>7901922</td>\n",
       "      <td>423311</td>\n",
       "    </tr>\n",
       "    <tr>\n",
       "      <th>16887</th>\n",
       "      <td>2021-02-21</td>\n",
       "      <td>Japan</td>\n",
       "      <td>-</td>\n",
       "      <td>7935363</td>\n",
       "      <td>424507</td>\n",
       "    </tr>\n",
       "    <tr>\n",
       "      <th>16888</th>\n",
       "      <td>2021-02-22</td>\n",
       "      <td>Japan</td>\n",
       "      <td>-</td>\n",
       "      <td>7951577</td>\n",
       "      <td>425597</td>\n",
       "    </tr>\n",
       "    <tr>\n",
       "      <th>16889</th>\n",
       "      <td>2021-02-23</td>\n",
       "      <td>Japan</td>\n",
       "      <td>-</td>\n",
       "      <td>8007839</td>\n",
       "      <td>426456</td>\n",
       "    </tr>\n",
       "    <tr>\n",
       "      <th>16890</th>\n",
       "      <td>2021-02-24</td>\n",
       "      <td>Japan</td>\n",
       "      <td>-</td>\n",
       "      <td>8026999</td>\n",
       "      <td>427467</td>\n",
       "    </tr>\n",
       "  </tbody>\n",
       "</table>\n",
       "</div>"
      ],
      "text/plain": [
       "            Date Country Province    Tests  Confirmed\n",
       "16886 2021-02-20   Japan        -  7901922     423311\n",
       "16887 2021-02-21   Japan        -  7935363     424507\n",
       "16888 2021-02-22   Japan        -  7951577     425597\n",
       "16889 2021-02-23   Japan        -  8007839     426456\n",
       "16890 2021-02-24   Japan        -  8026999     427467"
      ]
     },
     "execution_count": 1,
     "metadata": {},
     "output_type": "execute_result"
    }
   ],
   "source": [
    "# Cleaned data\n",
    "pcr_data.cleaned().tail()"
   ]
  },
  {
   "cell_type": "code",
   "execution_count": 54,
   "id": "differential-humanity",
   "metadata": {
    "collapsed": false,
    "execution": {
     "iopub.execute_input": "2021-02-24T15:58:46.949274Z",
     "iopub.status.busy": "2021-02-24T15:58:46.948766Z",
     "iopub.status.idle": "2021-02-24T15:58:46.971179Z",
     "shell.execute_reply": "2021-02-24T15:58:46.971540Z"
    }
   },
   "outputs": [
    {
     "data": {
      "text/html": [
       "<div>\n",
       "<style scoped>\n",
       "    .dataframe tbody tr th:only-of-type {\n",
       "        vertical-align: middle;\n",
       "    }\n",
       "\n",
       "    .dataframe tbody tr th {\n",
       "        vertical-align: top;\n",
       "    }\n",
       "\n",
       "    .dataframe thead th {\n",
       "        text-align: right;\n",
       "    }\n",
       "</style>\n",
       "<table border=\"1\" class=\"dataframe\">\n",
       "  <thead>\n",
       "    <tr style=\"text-align: right;\">\n",
       "      <th></th>\n",
       "      <th>Date</th>\n",
       "      <th>Tests</th>\n",
       "      <th>Confirmed</th>\n",
       "    </tr>\n",
       "  </thead>\n",
       "  <tbody>\n",
       "    <tr>\n",
       "      <th>380</th>\n",
       "      <td>2021-02-20</td>\n",
       "      <td>7901922</td>\n",
       "      <td>423311</td>\n",
       "    </tr>\n",
       "    <tr>\n",
       "      <th>381</th>\n",
       "      <td>2021-02-21</td>\n",
       "      <td>7935363</td>\n",
       "      <td>424507</td>\n",
       "    </tr>\n",
       "    <tr>\n",
       "      <th>382</th>\n",
       "      <td>2021-02-22</td>\n",
       "      <td>7951577</td>\n",
       "      <td>425597</td>\n",
       "    </tr>\n",
       "    <tr>\n",
       "      <th>383</th>\n",
       "      <td>2021-02-23</td>\n",
       "      <td>8007839</td>\n",
       "      <td>426456</td>\n",
       "    </tr>\n",
       "    <tr>\n",
       "      <th>384</th>\n",
       "      <td>2021-02-24</td>\n",
       "      <td>8026999</td>\n",
       "      <td>427467</td>\n",
       "    </tr>\n",
       "  </tbody>\n",
       "</table>\n",
       "</div>"
      ],
      "text/plain": [
       "          Date    Tests  Confirmed\n",
       "380 2021-02-20  7901922     423311\n",
       "381 2021-02-21  7935363     424507\n",
       "382 2021-02-22  7951577     425597\n",
       "383 2021-02-23  8007839     426456\n",
       "384 2021-02-24  8026999     427467"
      ]
     },
     "execution_count": 1,
     "metadata": {},
     "output_type": "execute_result"
    }
   ],
   "source": [
    "# Subset for a country\n",
    "pcr_data.subset(\"Japan\").tail()\n",
    "# We can use ISO3 codes\n",
    "# pcr_data.subset(\"JPN\").tail()"
   ]
  },
  {
   "cell_type": "markdown",
   "id": "restricted-solution",
   "metadata": {},
   "source": [
    "Under the assumption that all tests were PCR test, we can calculate the positive rate of PCR tests as \"the number of confirmed cases per the number of tests\"."
   ]
  },
  {
   "cell_type": "code",
   "execution_count": 55,
   "id": "nominated-egypt",
   "metadata": {
    "collapsed": false,
    "execution": {
     "iopub.execute_input": "2021-02-24T15:58:46.974991Z",
     "iopub.status.busy": "2021-02-24T15:58:46.974508Z",
     "iopub.status.idle": "2021-02-24T15:58:47.406368Z",
     "shell.execute_reply": "2021-02-24T15:58:47.406756Z"
    }
   },
   "outputs": [
    {
     "data": {
      "image/png": "[encoded data removed]",
      "text/plain": [
       "<Figure size 648x432 with 1 Axes>"
      ]
     },
     "metadata": {
      "needs_background": "light"
     },
     "output_type": "display_data"
    }
   ],
   "source": [
    "# Positive rate in Japan\n",
    "_ = pcr_data.positive_rate(\"Japan\")"
   ]
  },
  {
   "cell_type": "markdown",
   "id": "pursuant-london",
   "metadata": {},
   "source": [
    "We can visualize the number of cases with `.map()` method. When `country` is `None`, global map will be shown. Arguments are the same as `JHUData`, but variable name cannot be specified."
   ]
  },
  {
   "cell_type": "code",
   "execution_count": 56,
   "id": "centered-melissa",
   "metadata": {
    "execution": {
     "iopub.execute_input": "2021-02-24T15:58:47.413205Z",
     "iopub.status.busy": "2021-02-24T15:58:47.412663Z",
     "iopub.status.idle": "2021-02-24T15:58:48.196825Z",
     "shell.execute_reply": "2021-02-24T15:58:48.197242Z"
    }
   },
   "outputs": [
    {
     "data": {
      "image/png": "[encoded data removed]",
      "text/plain": [
       "<Figure size 648x432 with 2 Axes>"
      ]
     },
     "metadata": {
      "needs_background": "light"
     },
     "output_type": "display_data"
    }
   ],
   "source": [
    "# Global map with country level data\n",
    "pcr_data.map(country=None)"
   ]
  },
  {
   "cell_type": "code",
   "execution_count": 57,
   "id": "economic-northern",
   "metadata": {
    "execution": {
     "iopub.execute_input": "2021-02-24T15:58:48.200772Z",
     "iopub.status.busy": "2021-02-24T15:58:48.200253Z",
     "iopub.status.idle": "2021-02-24T15:58:48.799377Z",
     "shell.execute_reply": "2021-02-24T15:58:48.799700Z"
    }
   },
   "outputs": [
    {
     "data": {
      "text/html": [
       "<div>\n",
       "<style scoped>\n",
       "    .dataframe tbody tr th:only-of-type {\n",
       "        vertical-align: middle;\n",
       "    }\n",
       "\n",
       "    .dataframe tbody tr th {\n",
       "        vertical-align: top;\n",
       "    }\n",
       "\n",
       "    .dataframe thead th {\n",
       "        text-align: right;\n",
       "    }\n",
       "</style>\n",
       "<table border=\"1\" class=\"dataframe\">\n",
       "  <thead>\n",
       "    <tr style=\"text-align: right;\">\n",
       "      <th></th>\n",
       "      <th>ISO3</th>\n",
       "      <th>Date</th>\n",
       "      <th>Country</th>\n",
       "      <th>Tests</th>\n",
       "      <th>Confirmed</th>\n",
       "    </tr>\n",
       "  </thead>\n",
       "  <tbody>\n",
       "    <tr>\n",
       "      <th>83120</th>\n",
       "      <td>JPN</td>\n",
       "      <td>2021-02-20</td>\n",
       "      <td>Japan</td>\n",
       "      <td>7901922</td>\n",
       "      <td>423311</td>\n",
       "    </tr>\n",
       "    <tr>\n",
       "      <th>83121</th>\n",
       "      <td>JPN</td>\n",
       "      <td>2021-02-21</td>\n",
       "      <td>Japan</td>\n",
       "      <td>7935363</td>\n",
       "      <td>424507</td>\n",
       "    </tr>\n",
       "    <tr>\n",
       "      <th>83122</th>\n",
       "      <td>JPN</td>\n",
       "      <td>2021-02-22</td>\n",
       "      <td>Japan</td>\n",
       "      <td>7951577</td>\n",
       "      <td>425597</td>\n",
       "    </tr>\n",
       "    <tr>\n",
       "      <th>83123</th>\n",
       "      <td>JPN</td>\n",
       "      <td>2021-02-23</td>\n",
       "      <td>Japan</td>\n",
       "      <td>8007839</td>\n",
       "      <td>426456</td>\n",
       "    </tr>\n",
       "    <tr>\n",
       "      <th>83124</th>\n",
       "      <td>JPN</td>\n",
       "      <td>2021-02-24</td>\n",
       "      <td>Japan</td>\n",
       "      <td>8026999</td>\n",
       "      <td>427467</td>\n",
       "    </tr>\n",
       "  </tbody>\n",
       "</table>\n",
       "</div>"
      ],
      "text/plain": [
       "      ISO3       Date Country    Tests  Confirmed\n",
       "83120  JPN 2021-02-20   Japan  7901922     423311\n",
       "83121  JPN 2021-02-21   Japan  7935363     424507\n",
       "83122  JPN 2021-02-22   Japan  7951577     425597\n",
       "83123  JPN 2021-02-23   Japan  8007839     426456\n",
       "83124  JPN 2021-02-24   Japan  8026999     427467"
      ]
     },
     "execution_count": 1,
     "metadata": {},
     "output_type": "execute_result"
    }
   ],
   "source": [
    "# Country level data\n",
    "pcr_data.layer(country=None).tail()"
   ]
  },
  {
   "cell_type": "code",
   "execution_count": 58,
   "id": "varying-afternoon",
   "metadata": {
    "execution": {
     "iopub.execute_input": "2021-02-24T15:58:48.806012Z",
     "iopub.status.busy": "2021-02-24T15:58:48.805385Z",
     "iopub.status.idle": "2021-02-24T15:58:50.361835Z",
     "shell.execute_reply": "2021-02-24T15:58:50.362208Z"
    }
   },
   "outputs": [
    {
     "data": {
      "image/png": "[encoded data removed]",
      "text/plain": [
       "<Figure size 648x432 with 2 Axes>"
      ]
     },
     "metadata": {
      "needs_background": "light"
     },
     "output_type": "display_data"
    }
   ],
   "source": [
    "# Country map with province level data\n",
    "pcr_data.map(country=\"Japan\")"
   ]
  },
  {
   "cell_type": "code",
   "execution_count": 59,
   "id": "enhanced-strand",
   "metadata": {
    "execution": {
     "iopub.execute_input": "2021-02-24T15:58:50.365580Z",
     "iopub.status.busy": "2021-02-24T15:58:50.365086Z",
     "iopub.status.idle": "2021-02-24T15:58:50.972582Z",
     "shell.execute_reply": "2021-02-24T15:58:50.972942Z"
    }
   },
   "outputs": [
    {
     "data": {
      "text/html": [
       "<div>\n",
       "<style scoped>\n",
       "    .dataframe tbody tr th:only-of-type {\n",
       "        vertical-align: middle;\n",
       "    }\n",
       "\n",
       "    .dataframe tbody tr th {\n",
       "        vertical-align: top;\n",
       "    }\n",
       "\n",
       "    .dataframe thead th {\n",
       "        text-align: right;\n",
       "    }\n",
       "</style>\n",
       "<table border=\"1\" class=\"dataframe\">\n",
       "  <thead>\n",
       "    <tr style=\"text-align: right;\">\n",
       "      <th></th>\n",
       "      <th>ISO3</th>\n",
       "      <th>Date</th>\n",
       "      <th>Country</th>\n",
       "      <th>Province</th>\n",
       "      <th>Tests</th>\n",
       "      <th>Confirmed</th>\n",
       "    </tr>\n",
       "  </thead>\n",
       "  <tbody>\n",
       "    <tr>\n",
       "      <th>16501</th>\n",
       "      <td>JPN</td>\n",
       "      <td>2021-02-20</td>\n",
       "      <td>Japan</td>\n",
       "      <td>Entering</td>\n",
       "      <td>506834</td>\n",
       "      <td>2209</td>\n",
       "    </tr>\n",
       "    <tr>\n",
       "      <th>16502</th>\n",
       "      <td>JPN</td>\n",
       "      <td>2021-02-21</td>\n",
       "      <td>Japan</td>\n",
       "      <td>Entering</td>\n",
       "      <td>508696</td>\n",
       "      <td>2214</td>\n",
       "    </tr>\n",
       "    <tr>\n",
       "      <th>16503</th>\n",
       "      <td>JPN</td>\n",
       "      <td>2021-02-22</td>\n",
       "      <td>Japan</td>\n",
       "      <td>Entering</td>\n",
       "      <td>510227</td>\n",
       "      <td>2215</td>\n",
       "    </tr>\n",
       "    <tr>\n",
       "      <th>16504</th>\n",
       "      <td>JPN</td>\n",
       "      <td>2021-02-23</td>\n",
       "      <td>Japan</td>\n",
       "      <td>Entering</td>\n",
       "      <td>512309</td>\n",
       "      <td>2217</td>\n",
       "    </tr>\n",
       "    <tr>\n",
       "      <th>16505</th>\n",
       "      <td>JPN</td>\n",
       "      <td>2021-02-24</td>\n",
       "      <td>Japan</td>\n",
       "      <td>Entering</td>\n",
       "      <td>513145</td>\n",
       "      <td>2219</td>\n",
       "    </tr>\n",
       "  </tbody>\n",
       "</table>\n",
       "</div>"
      ],
      "text/plain": [
       "      ISO3       Date Country  Province   Tests  Confirmed\n",
       "16501  JPN 2021-02-20   Japan  Entering  506834       2209\n",
       "16502  JPN 2021-02-21   Japan  Entering  508696       2214\n",
       "16503  JPN 2021-02-22   Japan  Entering  510227       2215\n",
       "16504  JPN 2021-02-23   Japan  Entering  512309       2217\n",
       "16505  JPN 2021-02-24   Japan  Entering  513145       2219"
      ]
     },
     "execution_count": 1,
     "metadata": {},
     "output_type": "execute_result"
    }
   ],
   "source": [
    "# Province level data\n",
    "pcr_data.layer(country=\"Japan\").tail()"
   ]
  },
  {
   "cell_type": "markdown",
   "id": "thorough-worst",
   "metadata": {},
   "source": [
    "### The number of vaccinations\n",
    "The number of vaccinations is a key factor to end the outbreak as soon as possible. This dataset was saved as `vaccine_data`, an instance of `VaccineData` class."
   ]
  },
  {
   "cell_type": "code",
   "execution_count": 60,
   "id": "champion-debut",
   "metadata": {
    "collapsed": false,
    "execution": {
     "iopub.execute_input": "2021-02-24T15:58:50.976440Z",
     "iopub.status.busy": "2021-02-24T15:58:50.975980Z",
     "iopub.status.idle": "2021-02-24T15:58:50.978878Z",
     "shell.execute_reply": "2021-02-24T15:58:50.979233Z"
    }
   },
   "outputs": [
    {
     "data": {
      "text/plain": [
       "covsirphy.cleaning.vaccine_data.VaccineData"
      ]
     },
     "execution_count": 1,
     "metadata": {},
     "output_type": "execute_result"
    }
   ],
   "source": [
    "# The number of vaccinations\n",
    "type(vaccine_data)"
   ]
  },
  {
   "cell_type": "code",
   "execution_count": 61,
   "id": "afraid-potter",
   "metadata": {
    "collapsed": false,
    "execution": {
     "iopub.execute_input": "2021-02-24T15:58:50.982292Z",
     "iopub.status.busy": "2021-02-24T15:58:50.981848Z",
     "iopub.status.idle": "2021-02-24T15:58:50.984011Z",
     "shell.execute_reply": "2021-02-24T15:58:50.984393Z"
    }
   },
   "outputs": [
    {
     "name": "stdout",
     "output_type": "stream",
     "text": [
      "Hasell, J., Mathieu, E., Beltekian, D. et al. A cross-country database of COVID-19 testing. Sci Data 7, 345 (2020). https://doi.org/10.1038/s41597-020-00688-8\n"
     ]
    }
   ],
   "source": [
    "# Description/citation\n",
    "print(vaccine_data.citation)"
   ]
  },
  {
   "cell_type": "code",
   "execution_count": 62,
   "id": "devoted-purse",
   "metadata": {
    "collapsed": false,
    "execution": {
     "iopub.execute_input": "2021-02-24T15:58:50.987160Z",
     "iopub.status.busy": "2021-02-24T15:58:50.986718Z",
     "iopub.status.idle": "2021-02-24T15:58:50.989911Z",
     "shell.execute_reply": "2021-02-24T15:58:50.990274Z"
    }
   },
   "outputs": [],
   "source": [
    "# Raw data\n",
    "# vaccine_data.raw.tail()"
   ]
  },
  {
   "cell_type": "code",
   "execution_count": 63,
   "id": "finite-level",
   "metadata": {
    "collapsed": false,
    "execution": {
     "iopub.execute_input": "2021-02-24T15:58:50.998573Z",
     "iopub.status.busy": "2021-02-24T15:58:50.998089Z",
     "iopub.status.idle": "2021-02-24T15:58:51.000424Z",
     "shell.execute_reply": "2021-02-24T15:58:51.000816Z"
    }
   },
   "outputs": [
    {
     "data": {
      "text/html": [
       "<div>\n",
       "<style scoped>\n",
       "    .dataframe tbody tr th:only-of-type {\n",
       "        vertical-align: middle;\n",
       "    }\n",
       "\n",
       "    .dataframe tbody tr th {\n",
       "        vertical-align: top;\n",
       "    }\n",
       "\n",
       "    .dataframe thead th {\n",
       "        text-align: right;\n",
       "    }\n",
       "</style>\n",
       "<table border=\"1\" class=\"dataframe\">\n",
       "  <thead>\n",
       "    <tr style=\"text-align: right;\">\n",
       "      <th></th>\n",
       "      <th>Date</th>\n",
       "      <th>Country</th>\n",
       "      <th>Product</th>\n",
       "      <th>Vaccinations</th>\n",
       "    </tr>\n",
       "  </thead>\n",
       "  <tbody>\n",
       "    <tr>\n",
       "      <th>4097</th>\n",
       "      <td>2021-02-19</td>\n",
       "      <td>Zimbabwe</td>\n",
       "      <td>Sinopharm/Beijing</td>\n",
       "      <td>0</td>\n",
       "    </tr>\n",
       "    <tr>\n",
       "      <th>4098</th>\n",
       "      <td>2021-02-20</td>\n",
       "      <td>Zimbabwe</td>\n",
       "      <td>Sinopharm/Beijing</td>\n",
       "      <td>0</td>\n",
       "    </tr>\n",
       "    <tr>\n",
       "      <th>4099</th>\n",
       "      <td>2021-02-21</td>\n",
       "      <td>Zimbabwe</td>\n",
       "      <td>Sinopharm/Beijing</td>\n",
       "      <td>0</td>\n",
       "    </tr>\n",
       "    <tr>\n",
       "      <th>4100</th>\n",
       "      <td>2021-02-22</td>\n",
       "      <td>Zimbabwe</td>\n",
       "      <td>Sinopharm/Beijing</td>\n",
       "      <td>1314</td>\n",
       "    </tr>\n",
       "    <tr>\n",
       "      <th>4101</th>\n",
       "      <td>2021-02-23</td>\n",
       "      <td>Zimbabwe</td>\n",
       "      <td>Sinopharm/Beijing</td>\n",
       "      <td>4041</td>\n",
       "    </tr>\n",
       "  </tbody>\n",
       "</table>\n",
       "</div>"
      ],
      "text/plain": [
       "           Date   Country            Product  Vaccinations\n",
       "4097 2021-02-19  Zimbabwe  Sinopharm/Beijing             0\n",
       "4098 2021-02-20  Zimbabwe  Sinopharm/Beijing             0\n",
       "4099 2021-02-21  Zimbabwe  Sinopharm/Beijing             0\n",
       "4100 2021-02-22  Zimbabwe  Sinopharm/Beijing          1314\n",
       "4101 2021-02-23  Zimbabwe  Sinopharm/Beijing          4041"
      ]
     },
     "execution_count": 1,
     "metadata": {},
     "output_type": "execute_result"
    }
   ],
   "source": [
    "# Cleaned data\n",
    "vaccine_data.cleaned().tail()"
   ]
  },
  {
   "cell_type": "code",
   "execution_count": 64,
   "id": "selected-seating",
   "metadata": {
    "collapsed": false,
    "execution": {
     "iopub.execute_input": "2021-02-24T15:58:51.004208Z",
     "iopub.status.busy": "2021-02-24T15:58:51.003732Z",
     "iopub.status.idle": "2021-02-24T15:58:51.019863Z",
     "shell.execute_reply": "2021-02-24T15:58:51.019437Z"
    }
   },
   "outputs": [
    {
     "name": "stdout",
     "output_type": "stream",
     "text": [
      "['Albania', 'Algeria', 'Andorra', 'Anguilla', 'Argentina', 'Australia',\n",
      " 'Austria', 'Azerbaijan', 'Bahrain', 'Bangladesh', 'Barbados', 'Belarus',\n",
      " 'Belgium', 'Bermuda', 'Bolivia', 'Brazil', 'Bulgaria', 'Cambodia', 'Canada',\n",
      " 'Cayman Islands', 'Chile', 'China', 'Colombia', 'Costa Rica', 'Croatia',\n",
      " 'Cyprus', 'Czechia', 'Denmark', 'Dominican Republic', 'Ecuador', 'Egypt',\n",
      " 'El Salvador', 'England', 'Estonia', 'European Union', 'Faeroe Islands',\n",
      " 'Falkland Islands', 'Finland', 'France', 'Germany', 'Gibraltar', 'Greece',\n",
      " 'Greenland', 'Guernsey', 'Guyana', 'Hungary', 'Iceland', 'India', 'Indonesia',\n",
      " 'Iran', 'Ireland', 'Isle of Man', 'Israel', 'Italy', 'Japan', 'Jersey',\n",
      " 'Kuwait', 'Latvia', 'Lebanon', 'Liechtenstein', 'Lithuania', 'Luxembourg',\n",
      " 'Macao', 'Maldives', 'Malta', 'Mauritius', 'Mexico', 'Monaco', 'Morocco',\n",
      " 'Myanmar', 'Nepal', 'Netherlands', 'New Zealand', 'Northern Cyprus',\n",
      " 'Northern Ireland', 'Norway', 'Oman', 'Pakistan', 'Panama', 'Peru', 'Poland',\n",
      " 'Portugal', 'Qatar', 'Romania', 'Russia', 'Saint Helena', 'Saudi Arabia',\n",
      " 'Scotland', 'Serbia', 'Seychelles', 'Singapore', 'Slovakia', 'Slovenia',\n",
      " 'South Africa', 'Spain', 'Sri Lanka', 'Sweden', 'Switzerland',\n",
      " 'Trinidad and Tobago', 'Turkey', 'Turks and Caicos Islands',\n",
      " 'United Arab Emirates', 'United Kingdom', 'United States', 'Wales',\n",
      " 'Zimbabwe']\n"
     ]
    }
   ],
   "source": [
    "# Registered countries\n",
    "pprint(vaccine_data.countries(), compact=True)"
   ]
  },
  {
   "cell_type": "code",
   "execution_count": 65,
   "id": "subtle-forge",
   "metadata": {
    "collapsed": false,
    "execution": {
     "iopub.execute_input": "2021-02-24T15:58:51.032793Z",
     "iopub.status.busy": "2021-02-24T15:58:51.023841Z",
     "iopub.status.idle": "2021-02-24T15:58:51.035216Z",
     "shell.execute_reply": "2021-02-24T15:58:51.035585Z"
    }
   },
   "outputs": [
    {
     "data": {
      "text/html": [
       "<div>\n",
       "<style scoped>\n",
       "    .dataframe tbody tr th:only-of-type {\n",
       "        vertical-align: middle;\n",
       "    }\n",
       "\n",
       "    .dataframe tbody tr th {\n",
       "        vertical-align: top;\n",
       "    }\n",
       "\n",
       "    .dataframe thead th {\n",
       "        text-align: right;\n",
       "    }\n",
       "</style>\n",
       "<table border=\"1\" class=\"dataframe\">\n",
       "  <thead>\n",
       "    <tr style=\"text-align: right;\">\n",
       "      <th></th>\n",
       "      <th>Date</th>\n",
       "      <th>Vaccinations</th>\n",
       "    </tr>\n",
       "  </thead>\n",
       "  <tbody>\n",
       "    <tr>\n",
       "      <th>67</th>\n",
       "      <td>2021-02-18</td>\n",
       "      <td>17465127</td>\n",
       "    </tr>\n",
       "    <tr>\n",
       "      <th>68</th>\n",
       "      <td>2021-02-19</td>\n",
       "      <td>17852327</td>\n",
       "    </tr>\n",
       "    <tr>\n",
       "      <th>69</th>\n",
       "      <td>2021-02-20</td>\n",
       "      <td>18197269</td>\n",
       "    </tr>\n",
       "    <tr>\n",
       "      <th>70</th>\n",
       "      <td>2021-02-21</td>\n",
       "      <td>18348165</td>\n",
       "    </tr>\n",
       "    <tr>\n",
       "      <th>71</th>\n",
       "      <td>2021-02-22</td>\n",
       "      <td>18558969</td>\n",
       "    </tr>\n",
       "  </tbody>\n",
       "</table>\n",
       "</div>"
      ],
      "text/plain": [
       "         Date  Vaccinations\n",
       "67 2021-02-18      17465127\n",
       "68 2021-02-19      17852327\n",
       "69 2021-02-20      18197269\n",
       "70 2021-02-21      18348165\n",
       "71 2021-02-22      18558969"
      ]
     },
     "execution_count": 1,
     "metadata": {},
     "output_type": "execute_result"
    }
   ],
   "source": [
    "# Subset for a country\n",
    "vaccine_data.subset(\"United Kingdom\").tail()\n",
    "# We can use ISO3 codes\n",
    "# pcr_data.subset(\"GBR\").tail()"
   ]
  },
  {
   "cell_type": "markdown",
   "id": "funny-healing",
   "metadata": {},
   "source": [
    "We can visualize the number of cases with `.map()` method. Arguments are the same as `JHUData`, but country name and variable name cannot be specified."
   ]
  },
  {
   "cell_type": "code",
   "execution_count": 66,
   "id": "fossil-opportunity",
   "metadata": {
    "execution": {
     "iopub.execute_input": "2021-02-24T15:58:51.039629Z",
     "iopub.status.busy": "2021-02-24T15:58:51.038798Z",
     "iopub.status.idle": "2021-02-24T15:58:58.199506Z",
     "shell.execute_reply": "2021-02-24T15:58:58.198808Z"
    }
   },
   "outputs": [
    {
     "name": "stderr",
     "output_type": "stream",
     "text": [
      "England not found in regex\n"
     ]
    },
    {
     "name": "stderr",
     "output_type": "stream",
     "text": [
      "European Union not found in regex\n"
     ]
    },
    {
     "name": "stderr",
     "output_type": "stream",
     "text": [
      "Northern Ireland not found in regex\n"
     ]
    },
    {
     "name": "stderr",
     "output_type": "stream",
     "text": [
      "Scotland not found in regex\n"
     ]
    },
    {
     "name": "stderr",
     "output_type": "stream",
     "text": [
      "Wales not found in regex\n"
     ]
    },
    {
     "data": {
      "image/png": "[encoded data removed]",
      "text/plain": [
       "<Figure size 648x432 with 2 Axes>"
      ]
     },
     "metadata": {
      "needs_background": "light"
     },
     "output_type": "display_data"
    }
   ],
   "source": [
    "# Global map with country level data\n",
    "vaccine_data.map()"
   ]
  },
  {
   "cell_type": "code",
   "execution_count": 67,
   "id": "acting-granny",
   "metadata": {
    "execution": {
     "iopub.execute_input": "2021-02-24T15:58:58.207883Z",
     "iopub.status.busy": "2021-02-24T15:58:58.206912Z",
     "iopub.status.idle": "2021-02-24T15:58:58.215424Z",
     "shell.execute_reply": "2021-02-24T15:58:58.215798Z"
    }
   },
   "outputs": [
    {
     "data": {
      "text/html": [
       "<div>\n",
       "<style scoped>\n",
       "    .dataframe tbody tr th:only-of-type {\n",
       "        vertical-align: middle;\n",
       "    }\n",
       "\n",
       "    .dataframe tbody tr th {\n",
       "        vertical-align: top;\n",
       "    }\n",
       "\n",
       "    .dataframe thead th {\n",
       "        text-align: right;\n",
       "    }\n",
       "</style>\n",
       "<table border=\"1\" class=\"dataframe\">\n",
       "  <thead>\n",
       "    <tr style=\"text-align: right;\">\n",
       "      <th></th>\n",
       "      <th>Date</th>\n",
       "      <th>Country</th>\n",
       "      <th>Product</th>\n",
       "      <th>Vaccinations</th>\n",
       "    </tr>\n",
       "  </thead>\n",
       "  <tbody>\n",
       "    <tr>\n",
       "      <th>4097</th>\n",
       "      <td>2021-02-19</td>\n",
       "      <td>Zimbabwe</td>\n",
       "      <td>Sinopharm/Beijing</td>\n",
       "      <td>0</td>\n",
       "    </tr>\n",
       "    <tr>\n",
       "      <th>4098</th>\n",
       "      <td>2021-02-20</td>\n",
       "      <td>Zimbabwe</td>\n",
       "      <td>Sinopharm/Beijing</td>\n",
       "      <td>0</td>\n",
       "    </tr>\n",
       "    <tr>\n",
       "      <th>4099</th>\n",
       "      <td>2021-02-21</td>\n",
       "      <td>Zimbabwe</td>\n",
       "      <td>Sinopharm/Beijing</td>\n",
       "      <td>0</td>\n",
       "    </tr>\n",
       "    <tr>\n",
       "      <th>4100</th>\n",
       "      <td>2021-02-22</td>\n",
       "      <td>Zimbabwe</td>\n",
       "      <td>Sinopharm/Beijing</td>\n",
       "      <td>1314</td>\n",
       "    </tr>\n",
       "    <tr>\n",
       "      <th>4101</th>\n",
       "      <td>2021-02-23</td>\n",
       "      <td>Zimbabwe</td>\n",
       "      <td>Sinopharm/Beijing</td>\n",
       "      <td>4041</td>\n",
       "    </tr>\n",
       "  </tbody>\n",
       "</table>\n",
       "</div>"
      ],
      "text/plain": [
       "           Date   Country            Product  Vaccinations\n",
       "4097 2021-02-19  Zimbabwe  Sinopharm/Beijing             0\n",
       "4098 2021-02-20  Zimbabwe  Sinopharm/Beijing             0\n",
       "4099 2021-02-21  Zimbabwe  Sinopharm/Beijing             0\n",
       "4100 2021-02-22  Zimbabwe  Sinopharm/Beijing          1314\n",
       "4101 2021-02-23  Zimbabwe  Sinopharm/Beijing          4041"
      ]
     },
     "execution_count": 1,
     "metadata": {},
     "output_type": "execute_result"
    }
   ],
   "source": [
    "# Country level data\n",
    "vaccine_data.layer().tail()"
   ]
  },
  {
   "cell_type": "markdown",
   "id": "private-shade",
   "metadata": {},
   "source": [
    "### Population pyramid\n",
    "With population pyramid, we can divide the population to sub-groups. This will be useful when we analyse the meaning of parameters. For example, how many days go out is different between the sub-groups.\n",
    "This dataset was saved as `pyramid_data`, an instance of `PopulationPyramidData` class."
   ]
  },
  {
   "cell_type": "code",
   "execution_count": 68,
   "id": "hourly-truck",
   "metadata": {
    "collapsed": false,
    "execution": {
     "iopub.execute_input": "2021-02-24T15:58:58.219364Z",
     "iopub.status.busy": "2021-02-24T15:58:58.218894Z",
     "iopub.status.idle": "2021-02-24T15:58:58.221819Z",
     "shell.execute_reply": "2021-02-24T15:58:58.222197Z"
    }
   },
   "outputs": [
    {
     "data": {
      "text/plain": [
       "covsirphy.cleaning.pyramid.PopulationPyramidData"
      ]
     },
     "execution_count": 1,
     "metadata": {},
     "output_type": "execute_result"
    }
   ],
   "source": [
    "# Population pyramid\n",
    "type(pyramid_data)"
   ]
  },
  {
   "cell_type": "code",
   "execution_count": 69,
   "id": "internal-detection",
   "metadata": {
    "collapsed": false,
    "execution": {
     "iopub.execute_input": "2021-02-24T15:58:58.225640Z",
     "iopub.status.busy": "2021-02-24T15:58:58.225107Z",
     "iopub.status.idle": "2021-02-24T15:58:58.227321Z",
     "shell.execute_reply": "2021-02-24T15:58:58.227758Z"
    }
   },
   "outputs": [
    {
     "name": "stdout",
     "output_type": "stream",
     "text": [
      "World Bank Group (2020), World Bank Open Data, https://data.worldbank.org/\n"
     ]
    }
   ],
   "source": [
    "# Description/citation\n",
    "print(pyramid_data.citation)"
   ]
  },
  {
   "cell_type": "code",
   "execution_count": 70,
   "id": "unauthorized-immigration",
   "metadata": {
    "collapsed": false,
    "execution": {
     "iopub.execute_input": "2021-02-24T15:58:58.232630Z",
     "iopub.status.busy": "2021-02-24T15:58:58.231230Z",
     "iopub.status.idle": "2021-02-24T15:58:58.252219Z",
     "shell.execute_reply": "2021-02-24T15:58:58.252597Z"
    }
   },
   "outputs": [
    {
     "data": {
      "text/html": [
       "<div>\n",
       "<style scoped>\n",
       "    .dataframe tbody tr th:only-of-type {\n",
       "        vertical-align: middle;\n",
       "    }\n",
       "\n",
       "    .dataframe tbody tr th {\n",
       "        vertical-align: top;\n",
       "    }\n",
       "\n",
       "    .dataframe thead th {\n",
       "        text-align: right;\n",
       "    }\n",
       "</style>\n",
       "<table border=\"1\" class=\"dataframe\">\n",
       "  <thead>\n",
       "    <tr style=\"text-align: right;\">\n",
       "      <th></th>\n",
       "      <th>Age</th>\n",
       "      <th>Population</th>\n",
       "      <th>Per_total</th>\n",
       "    </tr>\n",
       "  </thead>\n",
       "  <tbody>\n",
       "    <tr>\n",
       "      <th>113</th>\n",
       "      <td>118</td>\n",
       "      <td>255035</td>\n",
       "      <td>0.002174</td>\n",
       "    </tr>\n",
       "    <tr>\n",
       "      <th>114</th>\n",
       "      <td>119</td>\n",
       "      <td>255035</td>\n",
       "      <td>0.002174</td>\n",
       "    </tr>\n",
       "    <tr>\n",
       "      <th>115</th>\n",
       "      <td>120</td>\n",
       "      <td>255035</td>\n",
       "      <td>0.002174</td>\n",
       "    </tr>\n",
       "    <tr>\n",
       "      <th>116</th>\n",
       "      <td>121</td>\n",
       "      <td>255035</td>\n",
       "      <td>0.002174</td>\n",
       "    </tr>\n",
       "    <tr>\n",
       "      <th>117</th>\n",
       "      <td>122</td>\n",
       "      <td>255035</td>\n",
       "      <td>0.002174</td>\n",
       "    </tr>\n",
       "  </tbody>\n",
       "</table>\n",
       "</div>"
      ],
      "text/plain": [
       "     Age  Population  Per_total\n",
       "113  118      255035   0.002174\n",
       "114  119      255035   0.002174\n",
       "115  120      255035   0.002174\n",
       "116  121      255035   0.002174\n",
       "117  122      255035   0.002174"
      ]
     },
     "execution_count": 1,
     "metadata": {},
     "output_type": "execute_result"
    }
   ],
   "source": [
    "# Subset will retrieved from the server when set\n",
    "pyramid_data.subset(\"Japan\").tail()"
   ]
  },
  {
   "cell_type": "markdown",
   "id": "indoor-sperm",
   "metadata": {},
   "source": [
    "### Japan-specific dataset\n",
    "This includes the number of confirmed/infected/fatal/recovered/tests/moderate/severe cases at country/prefecture level and metadata of each prefecture.\n",
    "This dataset was saved as `japan_data`, an instance of `JapanData` class."
   ]
  },
  {
   "cell_type": "code",
   "execution_count": 71,
   "id": "horizontal-yahoo",
   "metadata": {
    "collapsed": false,
    "execution": {
     "iopub.execute_input": "2021-02-24T15:58:58.256491Z",
     "iopub.status.busy": "2021-02-24T15:58:58.255756Z",
     "iopub.status.idle": "2021-02-24T15:58:58.259094Z",
     "shell.execute_reply": "2021-02-24T15:58:58.259492Z"
    }
   },
   "outputs": [
    {
     "data": {
      "text/plain": [
       "covsirphy.cleaning.japan_data.JapanData"
      ]
     },
     "execution_count": 1,
     "metadata": {},
     "output_type": "execute_result"
    }
   ],
   "source": [
    "# Japan-specific dataset\n",
    "type(japan_data)"
   ]
  },
  {
   "cell_type": "code",
   "execution_count": 72,
   "id": "genuine-biotechnology",
   "metadata": {
    "collapsed": false,
    "execution": {
     "iopub.execute_input": "2021-02-24T15:58:58.262959Z",
     "iopub.status.busy": "2021-02-24T15:58:58.262454Z",
     "iopub.status.idle": "2021-02-24T15:58:58.264599Z",
     "shell.execute_reply": "2021-02-24T15:58:58.265036Z"
    }
   },
   "outputs": [
    {
     "name": "stdout",
     "output_type": "stream",
     "text": [
      "Lisphilar (2020), COVID-19 dataset in Japan, GitHub repository, https://github.com/lisphilar/covid19-sir/data/japan\n"
     ]
    }
   ],
   "source": [
    "# Description/citation\n",
    "print(japan_data.citation)"
   ]
  },
  {
   "cell_type": "code",
   "execution_count": 73,
   "id": "previous-signature",
   "metadata": {
    "collapsed": false,
    "execution": {
     "iopub.execute_input": "2021-02-24T15:58:58.275105Z",
     "iopub.status.busy": "2021-02-24T15:58:58.274555Z",
     "iopub.status.idle": "2021-02-24T15:58:58.277297Z",
     "shell.execute_reply": "2021-02-24T15:58:58.277794Z"
    }
   },
   "outputs": [
    {
     "data": {
      "text/html": [
       "<div>\n",
       "<style scoped>\n",
       "    .dataframe tbody tr th:only-of-type {\n",
       "        vertical-align: middle;\n",
       "    }\n",
       "\n",
       "    .dataframe tbody tr th {\n",
       "        vertical-align: top;\n",
       "    }\n",
       "\n",
       "    .dataframe thead th {\n",
       "        text-align: right;\n",
       "    }\n",
       "</style>\n",
       "<table border=\"1\" class=\"dataframe\">\n",
       "  <thead>\n",
       "    <tr style=\"text-align: right;\">\n",
       "      <th></th>\n",
       "      <th>Date</th>\n",
       "      <th>Country</th>\n",
       "      <th>Province</th>\n",
       "      <th>Confirmed</th>\n",
       "      <th>Infected</th>\n",
       "      <th>Fatal</th>\n",
       "      <th>Recovered</th>\n",
       "      <th>Tests</th>\n",
       "      <th>Moderate</th>\n",
       "      <th>Severe</th>\n",
       "    </tr>\n",
       "  </thead>\n",
       "  <tbody>\n",
       "    <tr>\n",
       "      <th>16886</th>\n",
       "      <td>2021-02-20</td>\n",
       "      <td>Japan</td>\n",
       "      <td>-</td>\n",
       "      <td>423311</td>\n",
       "      <td>18685</td>\n",
       "      <td>7333</td>\n",
       "      <td>397293</td>\n",
       "      <td>7901922</td>\n",
       "      <td>17838</td>\n",
       "      <td>526</td>\n",
       "    </tr>\n",
       "    <tr>\n",
       "      <th>16887</th>\n",
       "      <td>2021-02-21</td>\n",
       "      <td>Japan</td>\n",
       "      <td>-</td>\n",
       "      <td>424507</td>\n",
       "      <td>18169</td>\n",
       "      <td>7417</td>\n",
       "      <td>398921</td>\n",
       "      <td>7935363</td>\n",
       "      <td>17359</td>\n",
       "      <td>511</td>\n",
       "    </tr>\n",
       "    <tr>\n",
       "      <th>16888</th>\n",
       "      <td>2021-02-22</td>\n",
       "      <td>Japan</td>\n",
       "      <td>-</td>\n",
       "      <td>425597</td>\n",
       "      <td>17873</td>\n",
       "      <td>7474</td>\n",
       "      <td>400250</td>\n",
       "      <td>7951577</td>\n",
       "      <td>17006</td>\n",
       "      <td>510</td>\n",
       "    </tr>\n",
       "    <tr>\n",
       "      <th>16889</th>\n",
       "      <td>2021-02-23</td>\n",
       "      <td>Japan</td>\n",
       "      <td>-</td>\n",
       "      <td>426456</td>\n",
       "      <td>17118</td>\n",
       "      <td>7529</td>\n",
       "      <td>401809</td>\n",
       "      <td>8007839</td>\n",
       "      <td>16319</td>\n",
       "      <td>491</td>\n",
       "    </tr>\n",
       "    <tr>\n",
       "      <th>16890</th>\n",
       "      <td>2021-02-24</td>\n",
       "      <td>Japan</td>\n",
       "      <td>-</td>\n",
       "      <td>427467</td>\n",
       "      <td>16502</td>\n",
       "      <td>7584</td>\n",
       "      <td>403381</td>\n",
       "      <td>8026999</td>\n",
       "      <td>15653</td>\n",
       "      <td>487</td>\n",
       "    </tr>\n",
       "  </tbody>\n",
       "</table>\n",
       "</div>"
      ],
      "text/plain": [
       "            Date Country Province  Confirmed  Infected  Fatal  Recovered  \\\n",
       "16886 2021-02-20   Japan        -     423311     18685   7333     397293   \n",
       "16887 2021-02-21   Japan        -     424507     18169   7417     398921   \n",
       "16888 2021-02-22   Japan        -     425597     17873   7474     400250   \n",
       "16889 2021-02-23   Japan        -     426456     17118   7529     401809   \n",
       "16890 2021-02-24   Japan        -     427467     16502   7584     403381   \n",
       "\n",
       "         Tests  Moderate  Severe  \n",
       "16886  7901922     17838     526  \n",
       "16887  7935363     17359     511  \n",
       "16888  7951577     17006     510  \n",
       "16889  8007839     16319     491  \n",
       "16890  8026999     15653     487  "
      ]
     },
     "execution_count": 1,
     "metadata": {},
     "output_type": "execute_result"
    }
   ],
   "source": [
    "# Cleaned dataset\n",
    "japan_data.cleaned().tail()"
   ]
  },
  {
   "cell_type": "code",
   "execution_count": 74,
   "id": "rental-black",
   "metadata": {
    "collapsed": false,
    "execution": {
     "iopub.execute_input": "2021-02-24T15:58:58.281253Z",
     "iopub.status.busy": "2021-02-24T15:58:58.280764Z",
     "iopub.status.idle": "2021-02-24T15:58:58.321623Z",
     "shell.execute_reply": "2021-02-24T15:58:58.322022Z"
    }
   },
   "outputs": [
    {
     "data": {
      "text/html": [
       "<div>\n",
       "<style scoped>\n",
       "    .dataframe tbody tr th:only-of-type {\n",
       "        vertical-align: middle;\n",
       "    }\n",
       "\n",
       "    .dataframe tbody tr th {\n",
       "        vertical-align: top;\n",
       "    }\n",
       "\n",
       "    .dataframe thead th {\n",
       "        text-align: right;\n",
       "    }\n",
       "</style>\n",
       "<table border=\"1\" class=\"dataframe\">\n",
       "  <thead>\n",
       "    <tr style=\"text-align: right;\">\n",
       "      <th></th>\n",
       "      <th>Prefecture</th>\n",
       "      <th>Admin_Capital</th>\n",
       "      <th>Admin_Region</th>\n",
       "      <th>Admin_Num</th>\n",
       "      <th>Area_Habitable</th>\n",
       "      <th>Area_Total</th>\n",
       "      <th>Clinic_bed_Care</th>\n",
       "      <th>Clinic_bed_Total</th>\n",
       "      <th>Hospital_bed_Care</th>\n",
       "      <th>Hospital_bed_Specific</th>\n",
       "      <th>Hospital_bed_Total</th>\n",
       "      <th>Hospital_bed_Tuberculosis</th>\n",
       "      <th>Hospital_bed_Type-I</th>\n",
       "      <th>Hospital_bed_Type-II</th>\n",
       "      <th>Population_Female</th>\n",
       "      <th>Population_Male</th>\n",
       "      <th>Population_Total</th>\n",
       "      <th>Location_Latitude</th>\n",
       "      <th>Location_Longitude</th>\n",
       "    </tr>\n",
       "  </thead>\n",
       "  <tbody>\n",
       "    <tr>\n",
       "      <th>42</th>\n",
       "      <td>Kumamoto</td>\n",
       "      <td>Kumamoto</td>\n",
       "      <td>Kyushu</td>\n",
       "      <td>43</td>\n",
       "      <td>2796</td>\n",
       "      <td>7409</td>\n",
       "      <td>497</td>\n",
       "      <td>4628</td>\n",
       "      <td>8340</td>\n",
       "      <td>0</td>\n",
       "      <td>33710</td>\n",
       "      <td>95</td>\n",
       "      <td>2</td>\n",
       "      <td>46</td>\n",
       "      <td>933</td>\n",
       "      <td>833</td>\n",
       "      <td>1765</td>\n",
       "      <td>32.790513</td>\n",
       "      <td>130.742388</td>\n",
       "    </tr>\n",
       "    <tr>\n",
       "      <th>43</th>\n",
       "      <td>Oita</td>\n",
       "      <td>Oita</td>\n",
       "      <td>Kyushu</td>\n",
       "      <td>44</td>\n",
       "      <td>1799</td>\n",
       "      <td>6341</td>\n",
       "      <td>269</td>\n",
       "      <td>3561</td>\n",
       "      <td>2618</td>\n",
       "      <td>0</td>\n",
       "      <td>19834</td>\n",
       "      <td>50</td>\n",
       "      <td>2</td>\n",
       "      <td>38</td>\n",
       "      <td>607</td>\n",
       "      <td>546</td>\n",
       "      <td>1152</td>\n",
       "      <td>33.238391</td>\n",
       "      <td>131.612658</td>\n",
       "    </tr>\n",
       "    <tr>\n",
       "      <th>44</th>\n",
       "      <td>Miyazaki</td>\n",
       "      <td>Miyazaki</td>\n",
       "      <td>Kyushu</td>\n",
       "      <td>45</td>\n",
       "      <td>1850</td>\n",
       "      <td>7735</td>\n",
       "      <td>206</td>\n",
       "      <td>2357</td>\n",
       "      <td>3682</td>\n",
       "      <td>0</td>\n",
       "      <td>18769</td>\n",
       "      <td>33</td>\n",
       "      <td>1</td>\n",
       "      <td>30</td>\n",
       "      <td>577</td>\n",
       "      <td>512</td>\n",
       "      <td>1089</td>\n",
       "      <td>31.911188</td>\n",
       "      <td>131.423873</td>\n",
       "    </tr>\n",
       "    <tr>\n",
       "      <th>45</th>\n",
       "      <td>Kagoshima</td>\n",
       "      <td>Kagoshima</td>\n",
       "      <td>Kyushu</td>\n",
       "      <td>46</td>\n",
       "      <td>3313</td>\n",
       "      <td>9187</td>\n",
       "      <td>652</td>\n",
       "      <td>4827</td>\n",
       "      <td>7750</td>\n",
       "      <td>0</td>\n",
       "      <td>32651</td>\n",
       "      <td>98</td>\n",
       "      <td>1</td>\n",
       "      <td>44</td>\n",
       "      <td>863</td>\n",
       "      <td>763</td>\n",
       "      <td>1626</td>\n",
       "      <td>31.560052</td>\n",
       "      <td>130.557745</td>\n",
       "    </tr>\n",
       "    <tr>\n",
       "      <th>46</th>\n",
       "      <td>Okinawa</td>\n",
       "      <td>Naha</td>\n",
       "      <td>Okinawa</td>\n",
       "      <td>47</td>\n",
       "      <td>1169</td>\n",
       "      <td>2281</td>\n",
       "      <td>83</td>\n",
       "      <td>914</td>\n",
       "      <td>3804</td>\n",
       "      <td>0</td>\n",
       "      <td>18710</td>\n",
       "      <td>47</td>\n",
       "      <td>4</td>\n",
       "      <td>20</td>\n",
       "      <td>734</td>\n",
       "      <td>709</td>\n",
       "      <td>1443</td>\n",
       "      <td>26.211761</td>\n",
       "      <td>127.681119</td>\n",
       "    </tr>\n",
       "  </tbody>\n",
       "</table>\n",
       "</div>"
      ],
      "text/plain": [
       "   Prefecture Admin_Capital Admin_Region  Admin_Num  Area_Habitable  \\\n",
       "42   Kumamoto      Kumamoto       Kyushu         43            2796   \n",
       "43       Oita          Oita       Kyushu         44            1799   \n",
       "44   Miyazaki      Miyazaki       Kyushu         45            1850   \n",
       "45  Kagoshima     Kagoshima       Kyushu         46            3313   \n",
       "46    Okinawa          Naha      Okinawa         47            1169   \n",
       "\n",
       "    Area_Total  Clinic_bed_Care  Clinic_bed_Total  Hospital_bed_Care  \\\n",
       "42        7409              497              4628               8340   \n",
       "43        6341              269              3561               2618   \n",
       "44        7735              206              2357               3682   \n",
       "45        9187              652              4827               7750   \n",
       "46        2281               83               914               3804   \n",
       "\n",
       "    Hospital_bed_Specific  Hospital_bed_Total  Hospital_bed_Tuberculosis  \\\n",
       "42                      0               33710                         95   \n",
       "43                      0               19834                         50   \n",
       "44                      0               18769                         33   \n",
       "45                      0               32651                         98   \n",
       "46                      0               18710                         47   \n",
       "\n",
       "    Hospital_bed_Type-I  Hospital_bed_Type-II  Population_Female  \\\n",
       "42                    2                    46                933   \n",
       "43                    2                    38                607   \n",
       "44                    1                    30                577   \n",
       "45                    1                    44                863   \n",
       "46                    4                    20                734   \n",
       "\n",
       "    Population_Male  Population_Total  Location_Latitude  Location_Longitude  \n",
       "42              833              1765          32.790513          130.742388  \n",
       "43              546              1152          33.238391          131.612658  \n",
       "44              512              1089          31.911188          131.423873  \n",
       "45              763              1626          31.560052          130.557745  \n",
       "46              709              1443          26.211761          127.681119  "
      ]
     },
     "execution_count": 1,
     "metadata": {},
     "output_type": "execute_result"
    }
   ],
   "source": [
    "# Metadata\n",
    "japan_data.meta().tail()"
   ]
  },
  {
   "cell_type": "markdown",
   "id": "floral-hardwood",
   "metadata": {},
   "source": [
    "We can visualize the number of cases with `.map()` method. Arguments are the same as `JHUData`, but country name cannot be specified."
   ]
  },
  {
   "cell_type": "code",
   "execution_count": 75,
   "id": "certain-jonathan",
   "metadata": {
    "execution": {
     "iopub.execute_input": "2021-02-24T15:58:58.326314Z",
     "iopub.status.busy": "2021-02-24T15:58:58.325768Z",
     "iopub.status.idle": "2021-02-24T15:58:59.755276Z",
     "shell.execute_reply": "2021-02-24T15:58:59.754736Z"
    }
   },
   "outputs": [
    {
     "data": {
      "image/png": "[encoded data removed]",
      "text/plain": [
       "<Figure size 648x432 with 2 Axes>"
      ]
     },
     "metadata": {
      "needs_background": "light"
     },
     "output_type": "display_data"
    }
   ],
   "source": [
    "# Country map with province level data\n",
    "japan_data.map(variable=\"Severe\")"
   ]
  },
  {
   "cell_type": "code",
   "execution_count": 76,
   "id": "coastal-vulnerability",
   "metadata": {
    "execution": {
     "iopub.execute_input": "2021-02-24T15:58:59.759021Z",
     "iopub.status.busy": "2021-02-24T15:58:59.758522Z",
     "iopub.status.idle": "2021-02-24T15:58:59.779421Z",
     "shell.execute_reply": "2021-02-24T15:58:59.779867Z"
    }
   },
   "outputs": [
    {
     "data": {
      "text/html": [
       "<div>\n",
       "<style scoped>\n",
       "    .dataframe tbody tr th:only-of-type {\n",
       "        vertical-align: middle;\n",
       "    }\n",
       "\n",
       "    .dataframe tbody tr th {\n",
       "        vertical-align: top;\n",
       "    }\n",
       "\n",
       "    .dataframe thead th {\n",
       "        text-align: right;\n",
       "    }\n",
       "</style>\n",
       "<table border=\"1\" class=\"dataframe\">\n",
       "  <thead>\n",
       "    <tr style=\"text-align: right;\">\n",
       "      <th></th>\n",
       "      <th>Date</th>\n",
       "      <th>Country</th>\n",
       "      <th>Province</th>\n",
       "      <th>Confirmed</th>\n",
       "      <th>Infected</th>\n",
       "      <th>Fatal</th>\n",
       "      <th>Recovered</th>\n",
       "      <th>Tests</th>\n",
       "      <th>Moderate</th>\n",
       "      <th>Severe</th>\n",
       "    </tr>\n",
       "  </thead>\n",
       "  <tbody>\n",
       "    <tr>\n",
       "      <th>16501</th>\n",
       "      <td>2021-02-20</td>\n",
       "      <td>Japan</td>\n",
       "      <td>Entering</td>\n",
       "      <td>2209</td>\n",
       "      <td>28</td>\n",
       "      <td>2</td>\n",
       "      <td>2179</td>\n",
       "      <td>506834</td>\n",
       "      <td>28</td>\n",
       "      <td>0</td>\n",
       "    </tr>\n",
       "    <tr>\n",
       "      <th>16502</th>\n",
       "      <td>2021-02-21</td>\n",
       "      <td>Japan</td>\n",
       "      <td>Entering</td>\n",
       "      <td>2214</td>\n",
       "      <td>29</td>\n",
       "      <td>2</td>\n",
       "      <td>2183</td>\n",
       "      <td>508696</td>\n",
       "      <td>29</td>\n",
       "      <td>0</td>\n",
       "    </tr>\n",
       "    <tr>\n",
       "      <th>16503</th>\n",
       "      <td>2021-02-22</td>\n",
       "      <td>Japan</td>\n",
       "      <td>Entering</td>\n",
       "      <td>2215</td>\n",
       "      <td>29</td>\n",
       "      <td>2</td>\n",
       "      <td>2184</td>\n",
       "      <td>510227</td>\n",
       "      <td>29</td>\n",
       "      <td>0</td>\n",
       "    </tr>\n",
       "    <tr>\n",
       "      <th>16504</th>\n",
       "      <td>2021-02-23</td>\n",
       "      <td>Japan</td>\n",
       "      <td>Entering</td>\n",
       "      <td>2217</td>\n",
       "      <td>30</td>\n",
       "      <td>2</td>\n",
       "      <td>2185</td>\n",
       "      <td>512309</td>\n",
       "      <td>30</td>\n",
       "      <td>0</td>\n",
       "    </tr>\n",
       "    <tr>\n",
       "      <th>16505</th>\n",
       "      <td>2021-02-24</td>\n",
       "      <td>Japan</td>\n",
       "      <td>Entering</td>\n",
       "      <td>2219</td>\n",
       "      <td>31</td>\n",
       "      <td>2</td>\n",
       "      <td>2186</td>\n",
       "      <td>513145</td>\n",
       "      <td>31</td>\n",
       "      <td>0</td>\n",
       "    </tr>\n",
       "  </tbody>\n",
       "</table>\n",
       "</div>"
      ],
      "text/plain": [
       "            Date Country  Province  Confirmed  Infected  Fatal  Recovered  \\\n",
       "16501 2021-02-20   Japan  Entering       2209        28      2       2179   \n",
       "16502 2021-02-21   Japan  Entering       2214        29      2       2183   \n",
       "16503 2021-02-22   Japan  Entering       2215        29      2       2184   \n",
       "16504 2021-02-23   Japan  Entering       2217        30      2       2185   \n",
       "16505 2021-02-24   Japan  Entering       2219        31      2       2186   \n",
       "\n",
       "        Tests  Moderate  Severe  \n",
       "16501  506834        28       0  \n",
       "16502  508696        29       0  \n",
       "16503  510227        29       0  \n",
       "16504  512309        30       0  \n",
       "16505  513145        31       0  "
      ]
     },
     "execution_count": 1,
     "metadata": {},
     "output_type": "execute_result"
    }
   ],
   "source": [
    "# Province level data\n",
    "japan_data.layer(country=\"Japan\").tail()"
   ]
  },
  {
   "cell_type": "markdown",
   "id": "postal-cursor",
   "metadata": {},
   "source": [
    "Map with country level data is not prepared, but country level data can be retrieved."
   ]
  },
  {
   "cell_type": "code",
   "execution_count": 77,
   "id": "precious-advertising",
   "metadata": {
    "execution": {
     "iopub.execute_input": "2021-02-24T15:58:59.783630Z",
     "iopub.status.busy": "2021-02-24T15:58:59.783116Z",
     "iopub.status.idle": "2021-02-24T15:58:59.800413Z",
     "shell.execute_reply": "2021-02-24T15:58:59.800833Z"
    }
   },
   "outputs": [
    {
     "data": {
      "text/html": [
       "<div>\n",
       "<style scoped>\n",
       "    .dataframe tbody tr th:only-of-type {\n",
       "        vertical-align: middle;\n",
       "    }\n",
       "\n",
       "    .dataframe tbody tr th {\n",
       "        vertical-align: top;\n",
       "    }\n",
       "\n",
       "    .dataframe thead th {\n",
       "        text-align: right;\n",
       "    }\n",
       "</style>\n",
       "<table border=\"1\" class=\"dataframe\">\n",
       "  <thead>\n",
       "    <tr style=\"text-align: right;\">\n",
       "      <th></th>\n",
       "      <th>Date</th>\n",
       "      <th>Country</th>\n",
       "      <th>Confirmed</th>\n",
       "      <th>Infected</th>\n",
       "      <th>Fatal</th>\n",
       "      <th>Recovered</th>\n",
       "      <th>Tests</th>\n",
       "      <th>Moderate</th>\n",
       "      <th>Severe</th>\n",
       "    </tr>\n",
       "  </thead>\n",
       "  <tbody>\n",
       "    <tr>\n",
       "      <th>380</th>\n",
       "      <td>2021-02-20</td>\n",
       "      <td>Japan</td>\n",
       "      <td>423311</td>\n",
       "      <td>18685</td>\n",
       "      <td>7333</td>\n",
       "      <td>397293</td>\n",
       "      <td>7901922</td>\n",
       "      <td>17838</td>\n",
       "      <td>526</td>\n",
       "    </tr>\n",
       "    <tr>\n",
       "      <th>381</th>\n",
       "      <td>2021-02-21</td>\n",
       "      <td>Japan</td>\n",
       "      <td>424507</td>\n",
       "      <td>18169</td>\n",
       "      <td>7417</td>\n",
       "      <td>398921</td>\n",
       "      <td>7935363</td>\n",
       "      <td>17359</td>\n",
       "      <td>511</td>\n",
       "    </tr>\n",
       "    <tr>\n",
       "      <th>382</th>\n",
       "      <td>2021-02-22</td>\n",
       "      <td>Japan</td>\n",
       "      <td>425597</td>\n",
       "      <td>17873</td>\n",
       "      <td>7474</td>\n",
       "      <td>400250</td>\n",
       "      <td>7951577</td>\n",
       "      <td>17006</td>\n",
       "      <td>510</td>\n",
       "    </tr>\n",
       "    <tr>\n",
       "      <th>383</th>\n",
       "      <td>2021-02-23</td>\n",
       "      <td>Japan</td>\n",
       "      <td>426456</td>\n",
       "      <td>17118</td>\n",
       "      <td>7529</td>\n",
       "      <td>401809</td>\n",
       "      <td>8007839</td>\n",
       "      <td>16319</td>\n",
       "      <td>491</td>\n",
       "    </tr>\n",
       "    <tr>\n",
       "      <th>384</th>\n",
       "      <td>2021-02-24</td>\n",
       "      <td>Japan</td>\n",
       "      <td>427467</td>\n",
       "      <td>16502</td>\n",
       "      <td>7584</td>\n",
       "      <td>403381</td>\n",
       "      <td>8026999</td>\n",
       "      <td>15653</td>\n",
       "      <td>487</td>\n",
       "    </tr>\n",
       "  </tbody>\n",
       "</table>\n",
       "</div>"
      ],
      "text/plain": [
       "          Date Country  Confirmed  Infected  Fatal  Recovered    Tests  \\\n",
       "380 2021-02-20   Japan     423311     18685   7333     397293  7901922   \n",
       "381 2021-02-21   Japan     424507     18169   7417     398921  7935363   \n",
       "382 2021-02-22   Japan     425597     17873   7474     400250  7951577   \n",
       "383 2021-02-23   Japan     426456     17118   7529     401809  8007839   \n",
       "384 2021-02-24   Japan     427467     16502   7584     403381  8026999   \n",
       "\n",
       "     Moderate  Severe  \n",
       "380     17838     526  \n",
       "381     17359     511  \n",
       "382     17006     510  \n",
       "383     16319     491  \n",
       "384     15653     487  "
      ]
     },
     "execution_count": 1,
     "metadata": {},
     "output_type": "execute_result"
    }
   ],
   "source": [
    "# Country level data\n",
    "japan_data.layer(country=None).tail()"
   ]
  }
 ],
 "metadata": {
  "kernelspec": {
   "display_name": "Python 3.9.1 64-bit ('.venv')",
   "metadata": {
    "interpreter": {
     "hash": "aa53c8c6e6798222a2084c11cc25017700a8d3ad495b587e3a634f357767115f"
    }
   },
   "name": "python3"
  },
  "language_info": {
   "codemirror_mode": {
    "name": "ipython",
    "version": 3
   },
   "file_extension": ".py",
   "mimetype": "text/x-python",
   "name": "python",
   "nbconvert_exporter": "python",
   "pygments_lexer": "ipython3",
   "version": "3.9.1"
  }
 },
 "nbformat": 4,
 "nbformat_minor": 5
}
