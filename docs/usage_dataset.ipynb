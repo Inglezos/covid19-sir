{
 "cells": [
  {
   "cell_type": "markdown",
   "metadata": {},
   "source": [
    "# Usage (details: datasets)\n",
    "Here, we will review the raw/cleaned datasets. `Scenario` class performs data cleaning internally using `JHUData` class and so on, but it is important to review the features and data types before analysing them."
   ]
  },
  {
   "cell_type": "markdown",
   "metadata": {},
   "source": [
    "## Preparation\n",
    "Prepare the packages."
   ]
  },
  {
   "cell_type": "code",
   "execution_count": 1,
   "metadata": {
    "collapsed": false
   },
   "outputs": [],
   "source": [
    "# Standard users\n",
    "# !pip install covsirphy"
   ]
  },
  {
   "cell_type": "code",
   "execution_count": 2,
   "metadata": {
    "collapsed": false
   },
   "outputs": [],
   "source": [
    "# Developers (Note: this notebook is in example directory)\n",
    "import os\n",
    "os.chdir(\"../\")"
   ]
  },
  {
   "cell_type": "code",
   "execution_count": 3,
   "metadata": {
    "collapsed": false
   },
   "outputs": [],
   "source": [
    "from pprint import pprint"
   ]
  },
  {
   "cell_type": "code",
   "execution_count": 4,
   "metadata": {
    "collapsed": false,
    "tags": []
   },
   "outputs": [
    {
     "data": {
      "text/plain": [
       "'2.13.3-epsilon-fu4.new.420.422.429.fix.438.441'"
      ]
     },
     "execution_count": 4,
     "metadata": {},
     "output_type": "execute_result"
    }
   ],
   "source": [
    "import covsirphy as cs\n",
    "cs.__version__"
   ]
  },
  {
   "cell_type": "markdown",
   "metadata": {},
   "source": [
    "## Dataset preparation\n",
    "Download the datasets to \"input\" directory and load them.\n",
    "\n",
    "If \"input\" directory has the datasets, `DataLoader` instance will load the local files. If the datasets were updated in remote servers, `DataLoader` will update the local files automatically and download the datasets to \"input\" directory and load them."
   ]
  },
  {
   "cell_type": "code",
   "execution_count": 5,
   "metadata": {
    "collapsed": false,
    "tags": []
   },
   "outputs": [
    {
     "name": "stdout",
     "output_type": "stream",
     "text": [
      "Retrieving datasets from COVID-19 Data Hub: https://covid19datahub.io/\n"
     ]
    },
    {
     "name": "stdout",
     "output_type": "stream",
     "text": [
      "\n",
      "Please set verbose=2 to see the detailed citation list.\n",
      "\n",
      "\n"
     ]
    },
    {
     "name": "stdout",
     "output_type": "stream",
     "text": [
      "Retrieving COVID-19 dataset in Japan from https://github.com/lisphilar/covid19-sir/data/japan\n"
     ]
    },
    {
     "name": "stdout",
     "output_type": "stream",
     "text": [
      "Retrieving linelist from Open COVID-19 Data Working Group repository: https://github.com/beoutbreakprepared/nCoV2019\n"
     ]
    },
    {
     "name": "stdout",
     "output_type": "stream",
     "text": [
      "Retrieving COVID-19 vaccination dataset from https://covid.ourworldindata.org/data/\n"
     ]
    }
   ],
   "source": [
    "data_loader = cs.DataLoader(\"input\")\n",
    "# The number of cases (JHU style)\n",
    "jhu_data = data_loader.jhu()\n",
    "# Linelist of case reports\n",
    "linelist = data_loader.linelist()\n",
    "# Population in each country\n",
    "population_data = data_loader.population()\n",
    "# Government Response Tracker (OxCGRT)\n",
    "oxcgrt_data = data_loader.oxcgrt()\n",
    "# The number of tests\n",
    "pcr_data = data_loader.pcr()\n",
    "# The number of vaccines (will be prepared in 2.14.0)\n",
    "vaccine_data = data_loader.vaccine()"
   ]
  },
  {
   "cell_type": "markdown",
   "metadata": {},
   "source": [
    "### The number of cases (JHU style)\n",
    "The main dataset is that of the number of cases and was saved as `jhu_data`, an instance of `JHUData` class. This includes \"Confirmed\", \"Infected\", \"Recovered\" and \"Fatal\". \"Infected\" was calculated as \"Confirmed - Recovered - Fatal\"."
   ]
  },
  {
   "cell_type": "code",
   "execution_count": 6,
   "metadata": {
    "collapsed": false
   },
   "outputs": [
    {
     "data": {
      "text/plain": [
       "covsirphy.cleaning.jhu_data.JHUData"
      ]
     },
     "execution_count": 6,
     "metadata": {},
     "output_type": "execute_result"
    }
   ],
   "source": [
    "type(jhu_data)"
   ]
  },
  {
   "cell_type": "markdown",
   "metadata": {},
   "source": [
    "The dataset will be retrieved from [COVID-19 Data Hub](https://covid19datahub.io/) and [Data folder of CovsirPhy project](https://github.com/lisphilar/covid19-sir/tree/master/data). Description of these projects will be shown as follows."
   ]
  },
  {
   "cell_type": "code",
   "execution_count": 7,
   "metadata": {
    "collapsed": false,
    "tags": []
   },
   "outputs": [
    {
     "name": "stdout",
     "output_type": "stream",
     "text": [
      "(Secondary source) Guidotti, E., Ardia, D., (2020), \"COVID-19 Data Hub\", Journal of Open Source Software 5(51):2376, doi: 10.21105/joss.02376.\n",
      "Lisphilar (2020), COVID-19 dataset in Japan, GitHub repository, https://github.com/lisphilar/covid19-sir/data/japan\n"
     ]
    }
   ],
   "source": [
    "# Description/citation\n",
    "print(jhu_data.citation)"
   ]
  },
  {
   "cell_type": "code",
   "execution_count": 8,
   "metadata": {
    "collapsed": false,
    "tags": []
   },
   "outputs": [],
   "source": [
    "# Detailed citation list of COVID-19 Data Hub\n",
    "# print(data_loader.covid19dh_citation)"
   ]
  },
  {
   "cell_type": "code",
   "execution_count": 9,
   "metadata": {
    "collapsed": false
   },
   "outputs": [
    {
     "data": {
      "text/html": [
       "<div>\n",
       "<style scoped>\n",
       "    .dataframe tbody tr th:only-of-type {\n",
       "        vertical-align: middle;\n",
       "    }\n",
       "\n",
       "    .dataframe tbody tr th {\n",
       "        vertical-align: top;\n",
       "    }\n",
       "\n",
       "    .dataframe thead th {\n",
       "        text-align: right;\n",
       "    }\n",
       "</style>\n",
       "<table border=\"1\" class=\"dataframe\">\n",
       "  <thead>\n",
       "    <tr style=\"text-align: right;\">\n",
       "      <th></th>\n",
       "      <th>ObservationDate</th>\n",
       "      <th>Tests</th>\n",
       "      <th>Confirmed</th>\n",
       "      <th>Recovered</th>\n",
       "      <th>Deaths</th>\n",
       "      <th>Population</th>\n",
       "      <th>ISO3</th>\n",
       "      <th>Province/State</th>\n",
       "      <th>Country/Region</th>\n",
       "      <th>school_closing</th>\n",
       "      <th>...</th>\n",
       "      <th>cancel_events</th>\n",
       "      <th>gatherings_restrictions</th>\n",
       "      <th>transport_closing</th>\n",
       "      <th>stay_home_restrictions</th>\n",
       "      <th>internal_movement_restrictions</th>\n",
       "      <th>international_movement_restrictions</th>\n",
       "      <th>information_campaigns</th>\n",
       "      <th>testing_policy</th>\n",
       "      <th>contact_tracing</th>\n",
       "      <th>stringency_index</th>\n",
       "    </tr>\n",
       "  </thead>\n",
       "  <tbody>\n",
       "    <tr>\n",
       "      <th>357918</th>\n",
       "      <td>2020-12-20</td>\n",
       "      <td>0</td>\n",
       "      <td>22.0</td>\n",
       "      <td>0</td>\n",
       "      <td>0</td>\n",
       "      <td>NaN</td>\n",
       "      <td>THA</td>\n",
       "      <td>Nakhon Pathom</td>\n",
       "      <td>Thailand</td>\n",
       "      <td>3</td>\n",
       "      <td>...</td>\n",
       "      <td>2</td>\n",
       "      <td>3</td>\n",
       "      <td>0</td>\n",
       "      <td>1</td>\n",
       "      <td>0</td>\n",
       "      <td>4</td>\n",
       "      <td>2</td>\n",
       "      <td>1</td>\n",
       "      <td>2</td>\n",
       "      <td>76.85</td>\n",
       "    </tr>\n",
       "    <tr>\n",
       "      <th>357919</th>\n",
       "      <td>2020-12-21</td>\n",
       "      <td>0</td>\n",
       "      <td>22.0</td>\n",
       "      <td>0</td>\n",
       "      <td>0</td>\n",
       "      <td>NaN</td>\n",
       "      <td>THA</td>\n",
       "      <td>Nakhon Pathom</td>\n",
       "      <td>Thailand</td>\n",
       "      <td>3</td>\n",
       "      <td>...</td>\n",
       "      <td>2</td>\n",
       "      <td>3</td>\n",
       "      <td>0</td>\n",
       "      <td>1</td>\n",
       "      <td>0</td>\n",
       "      <td>4</td>\n",
       "      <td>2</td>\n",
       "      <td>1</td>\n",
       "      <td>2</td>\n",
       "      <td>76.85</td>\n",
       "    </tr>\n",
       "    <tr>\n",
       "      <th>357920</th>\n",
       "      <td>2020-12-22</td>\n",
       "      <td>0</td>\n",
       "      <td>22.0</td>\n",
       "      <td>0</td>\n",
       "      <td>0</td>\n",
       "      <td>NaN</td>\n",
       "      <td>THA</td>\n",
       "      <td>Nakhon Pathom</td>\n",
       "      <td>Thailand</td>\n",
       "      <td>3</td>\n",
       "      <td>...</td>\n",
       "      <td>2</td>\n",
       "      <td>3</td>\n",
       "      <td>0</td>\n",
       "      <td>1</td>\n",
       "      <td>0</td>\n",
       "      <td>4</td>\n",
       "      <td>2</td>\n",
       "      <td>1</td>\n",
       "      <td>2</td>\n",
       "      <td>76.85</td>\n",
       "    </tr>\n",
       "    <tr>\n",
       "      <th>357921</th>\n",
       "      <td>2020-12-23</td>\n",
       "      <td>0</td>\n",
       "      <td>28.0</td>\n",
       "      <td>0</td>\n",
       "      <td>0</td>\n",
       "      <td>NaN</td>\n",
       "      <td>THA</td>\n",
       "      <td>Nakhon Pathom</td>\n",
       "      <td>Thailand</td>\n",
       "      <td>3</td>\n",
       "      <td>...</td>\n",
       "      <td>2</td>\n",
       "      <td>3</td>\n",
       "      <td>0</td>\n",
       "      <td>1</td>\n",
       "      <td>0</td>\n",
       "      <td>4</td>\n",
       "      <td>2</td>\n",
       "      <td>1</td>\n",
       "      <td>2</td>\n",
       "      <td>50.00</td>\n",
       "    </tr>\n",
       "    <tr>\n",
       "      <th>357922</th>\n",
       "      <td>2020-12-24</td>\n",
       "      <td>0</td>\n",
       "      <td>28.0</td>\n",
       "      <td>0</td>\n",
       "      <td>0</td>\n",
       "      <td>NaN</td>\n",
       "      <td>THA</td>\n",
       "      <td>Nakhon Pathom</td>\n",
       "      <td>Thailand</td>\n",
       "      <td>3</td>\n",
       "      <td>...</td>\n",
       "      <td>2</td>\n",
       "      <td>3</td>\n",
       "      <td>0</td>\n",
       "      <td>1</td>\n",
       "      <td>0</td>\n",
       "      <td>4</td>\n",
       "      <td>2</td>\n",
       "      <td>1</td>\n",
       "      <td>2</td>\n",
       "      <td>50.00</td>\n",
       "    </tr>\n",
       "  </tbody>\n",
       "</table>\n",
       "<p>5 rows × 21 columns</p>\n",
       "</div>"
      ],
      "text/plain": [
       "       ObservationDate  Tests  Confirmed  Recovered  Deaths  Population ISO3  \\\n",
       "357918      2020-12-20      0       22.0          0       0         NaN  THA   \n",
       "357919      2020-12-21      0       22.0          0       0         NaN  THA   \n",
       "357920      2020-12-22      0       22.0          0       0         NaN  THA   \n",
       "357921      2020-12-23      0       28.0          0       0         NaN  THA   \n",
       "357922      2020-12-24      0       28.0          0       0         NaN  THA   \n",
       "\n",
       "       Province/State Country/Region  school_closing  ...  cancel_events  \\\n",
       "357918  Nakhon Pathom       Thailand               3  ...              2   \n",
       "357919  Nakhon Pathom       Thailand               3  ...              2   \n",
       "357920  Nakhon Pathom       Thailand               3  ...              2   \n",
       "357921  Nakhon Pathom       Thailand               3  ...              2   \n",
       "357922  Nakhon Pathom       Thailand               3  ...              2   \n",
       "\n",
       "        gatherings_restrictions  transport_closing  stay_home_restrictions  \\\n",
       "357918                        3                  0                       1   \n",
       "357919                        3                  0                       1   \n",
       "357920                        3                  0                       1   \n",
       "357921                        3                  0                       1   \n",
       "357922                        3                  0                       1   \n",
       "\n",
       "        internal_movement_restrictions  international_movement_restrictions  \\\n",
       "357918                               0                                    4   \n",
       "357919                               0                                    4   \n",
       "357920                               0                                    4   \n",
       "357921                               0                                    4   \n",
       "357922                               0                                    4   \n",
       "\n",
       "        information_campaigns  testing_policy  contact_tracing  \\\n",
       "357918                      2               1                2   \n",
       "357919                      2               1                2   \n",
       "357920                      2               1                2   \n",
       "357921                      2               1                2   \n",
       "357922                      2               1                2   \n",
       "\n",
       "        stringency_index  \n",
       "357918             76.85  \n",
       "357919             76.85  \n",
       "357920             76.85  \n",
       "357921             50.00  \n",
       "357922             50.00  \n",
       "\n",
       "[5 rows x 21 columns]"
      ]
     },
     "execution_count": 9,
     "metadata": {},
     "output_type": "execute_result"
    }
   ],
   "source": [
    "# Raw data\n",
    "jhu_data.raw.tail()"
   ]
  },
  {
   "cell_type": "code",
   "execution_count": 10,
   "metadata": {
    "collapsed": false
   },
   "outputs": [
    {
     "data": {
      "text/html": [
       "<div>\n",
       "<style scoped>\n",
       "    .dataframe tbody tr th:only-of-type {\n",
       "        vertical-align: middle;\n",
       "    }\n",
       "\n",
       "    .dataframe tbody tr th {\n",
       "        vertical-align: top;\n",
       "    }\n",
       "\n",
       "    .dataframe thead th {\n",
       "        text-align: right;\n",
       "    }\n",
       "</style>\n",
       "<table border=\"1\" class=\"dataframe\">\n",
       "  <thead>\n",
       "    <tr style=\"text-align: right;\">\n",
       "      <th></th>\n",
       "      <th>Date</th>\n",
       "      <th>Country</th>\n",
       "      <th>Province</th>\n",
       "      <th>Confirmed</th>\n",
       "      <th>Infected</th>\n",
       "      <th>Fatal</th>\n",
       "      <th>Recovered</th>\n",
       "    </tr>\n",
       "  </thead>\n",
       "  <tbody>\n",
       "    <tr>\n",
       "      <th>13848</th>\n",
       "      <td>2020-12-20</td>\n",
       "      <td>Japan</td>\n",
       "      <td>-</td>\n",
       "      <td>195880</td>\n",
       "      <td>27674</td>\n",
       "      <td>2873</td>\n",
       "      <td>165333</td>\n",
       "    </tr>\n",
       "    <tr>\n",
       "      <th>13849</th>\n",
       "      <td>2020-12-21</td>\n",
       "      <td>Japan</td>\n",
       "      <td>-</td>\n",
       "      <td>198523</td>\n",
       "      <td>28110</td>\n",
       "      <td>2900</td>\n",
       "      <td>167513</td>\n",
       "    </tr>\n",
       "    <tr>\n",
       "      <th>13850</th>\n",
       "      <td>2020-12-22</td>\n",
       "      <td>Japan</td>\n",
       "      <td>-</td>\n",
       "      <td>200658</td>\n",
       "      <td>28372</td>\n",
       "      <td>2944</td>\n",
       "      <td>169342</td>\n",
       "    </tr>\n",
       "    <tr>\n",
       "      <th>13851</th>\n",
       "      <td>2020-12-23</td>\n",
       "      <td>Japan</td>\n",
       "      <td>-</td>\n",
       "      <td>203113</td>\n",
       "      <td>28004</td>\n",
       "      <td>2994</td>\n",
       "      <td>172115</td>\n",
       "    </tr>\n",
       "    <tr>\n",
       "      <th>13852</th>\n",
       "      <td>2020-12-24</td>\n",
       "      <td>Japan</td>\n",
       "      <td>-</td>\n",
       "      <td>206139</td>\n",
       "      <td>28210</td>\n",
       "      <td>3050</td>\n",
       "      <td>174879</td>\n",
       "    </tr>\n",
       "  </tbody>\n",
       "</table>\n",
       "</div>"
      ],
      "text/plain": [
       "            Date Country Province  Confirmed  Infected  Fatal  Recovered\n",
       "13848 2020-12-20   Japan        -     195880     27674   2873     165333\n",
       "13849 2020-12-21   Japan        -     198523     28110   2900     167513\n",
       "13850 2020-12-22   Japan        -     200658     28372   2944     169342\n",
       "13851 2020-12-23   Japan        -     203113     28004   2994     172115\n",
       "13852 2020-12-24   Japan        -     206139     28210   3050     174879"
      ]
     },
     "execution_count": 10,
     "metadata": {},
     "output_type": "execute_result"
    }
   ],
   "source": [
    "# Cleaned data\n",
    "jhu_data.cleaned().tail()"
   ]
  },
  {
   "cell_type": "code",
   "execution_count": 11,
   "metadata": {
    "collapsed": false
   },
   "outputs": [
    {
     "name": "stdout",
     "output_type": "stream",
     "text": [
      "<class 'pandas.core.frame.DataFrame'>\n",
      "Int64Index: 354544 entries, 0 to 13852\n",
      "Data columns (total 7 columns):\n",
      " #   Column     Non-Null Count   Dtype         \n",
      "---  ------     --------------   -----         \n",
      " 0   Date       354544 non-null  datetime64[ns]\n",
      " 1   Country    354544 non-null  category      \n",
      " 2   Province   354544 non-null  category      \n",
      " 3   Confirmed  354544 non-null  int64         \n",
      " 4   Infected   354544 non-null  int64         \n",
      " 5   Fatal      354544 non-null  int64         \n",
      " 6   Recovered  354544 non-null  int64         \n",
      "dtypes: category(2), datetime64[ns](1), int64(4)\n",
      "memory usage: 17.6 MB\n"
     ]
    }
   ],
   "source": [
    "jhu_data.cleaned().info()"
   ]
  },
  {
   "cell_type": "markdown",
   "metadata": {},
   "source": [
    "Total number of cases in all countries with `JHUData.total()` method."
   ]
  },
  {
   "cell_type": "code",
   "execution_count": 12,
   "metadata": {
    "collapsed": false
   },
   "outputs": [
    {
     "data": {
      "text/html": [
       "<div>\n",
       "<style scoped>\n",
       "    .dataframe tbody tr th:only-of-type {\n",
       "        vertical-align: middle;\n",
       "    }\n",
       "\n",
       "    .dataframe tbody tr th {\n",
       "        vertical-align: top;\n",
       "    }\n",
       "\n",
       "    .dataframe thead th {\n",
       "        text-align: right;\n",
       "    }\n",
       "</style>\n",
       "<table border=\"1\" class=\"dataframe\">\n",
       "  <thead>\n",
       "    <tr style=\"text-align: right;\">\n",
       "      <th></th>\n",
       "      <th>Confirmed</th>\n",
       "      <th>Infected</th>\n",
       "      <th>Fatal</th>\n",
       "      <th>Recovered</th>\n",
       "      <th>Fatal per Confirmed</th>\n",
       "      <th>Recovered per Confirmed</th>\n",
       "      <th>Fatal per (Fatal or Recovered)</th>\n",
       "    </tr>\n",
       "    <tr>\n",
       "      <th>Date</th>\n",
       "      <th></th>\n",
       "      <th></th>\n",
       "      <th></th>\n",
       "      <th></th>\n",
       "      <th></th>\n",
       "      <th></th>\n",
       "      <th></th>\n",
       "    </tr>\n",
       "  </thead>\n",
       "  <tbody>\n",
       "    <tr>\n",
       "      <th>2020-12-20</th>\n",
       "      <td>76898416</td>\n",
       "      <td>25663722</td>\n",
       "      <td>1696498</td>\n",
       "      <td>49538196</td>\n",
       "      <td>0.022062</td>\n",
       "      <td>0.644203</td>\n",
       "      <td>0.033112</td>\n",
       "    </tr>\n",
       "    <tr>\n",
       "      <th>2020-12-21</th>\n",
       "      <td>77448187</td>\n",
       "      <td>25888581</td>\n",
       "      <td>1705152</td>\n",
       "      <td>49854454</td>\n",
       "      <td>0.022017</td>\n",
       "      <td>0.643714</td>\n",
       "      <td>0.033071</td>\n",
       "    </tr>\n",
       "    <tr>\n",
       "      <th>2020-12-22</th>\n",
       "      <td>78072105</td>\n",
       "      <td>26165407</td>\n",
       "      <td>1718246</td>\n",
       "      <td>50188452</td>\n",
       "      <td>0.022008</td>\n",
       "      <td>0.642847</td>\n",
       "      <td>0.033103</td>\n",
       "    </tr>\n",
       "    <tr>\n",
       "      <th>2020-12-23</th>\n",
       "      <td>78733273</td>\n",
       "      <td>26519358</td>\n",
       "      <td>1730567</td>\n",
       "      <td>50483348</td>\n",
       "      <td>0.021980</td>\n",
       "      <td>0.641195</td>\n",
       "      <td>0.033144</td>\n",
       "    </tr>\n",
       "    <tr>\n",
       "      <th>2020-12-24</th>\n",
       "      <td>78736442</td>\n",
       "      <td>26519685</td>\n",
       "      <td>1730624</td>\n",
       "      <td>50486133</td>\n",
       "      <td>0.021980</td>\n",
       "      <td>0.641204</td>\n",
       "      <td>0.033143</td>\n",
       "    </tr>\n",
       "  </tbody>\n",
       "</table>\n",
       "</div>"
      ],
      "text/plain": [
       "            Confirmed  Infected    Fatal  Recovered  Fatal per Confirmed  \\\n",
       "Date                                                                       \n",
       "2020-12-20   76898416  25663722  1696498   49538196             0.022062   \n",
       "2020-12-21   77448187  25888581  1705152   49854454             0.022017   \n",
       "2020-12-22   78072105  26165407  1718246   50188452             0.022008   \n",
       "2020-12-23   78733273  26519358  1730567   50483348             0.021980   \n",
       "2020-12-24   78736442  26519685  1730624   50486133             0.021980   \n",
       "\n",
       "            Recovered per Confirmed  Fatal per (Fatal or Recovered)  \n",
       "Date                                                                 \n",
       "2020-12-20                 0.644203                        0.033112  \n",
       "2020-12-21                 0.643714                        0.033071  \n",
       "2020-12-22                 0.642847                        0.033103  \n",
       "2020-12-23                 0.641195                        0.033144  \n",
       "2020-12-24                 0.641204                        0.033143  "
      ]
     },
     "execution_count": 12,
     "metadata": {},
     "output_type": "execute_result"
    }
   ],
   "source": [
    "# Calculate total values\n",
    "total_df = jhu_data.total()\n",
    "total_df.tail()"
   ]
  },
  {
   "cell_type": "code",
   "execution_count": 13,
   "metadata": {
    "collapsed": false
   },
   "outputs": [
    {
     "data": {
      "image/png": "[encoded data removed]",
      "text/plain": [
       "<Figure size 648x432 with 1 Axes>"
      ]
     },
     "metadata": {},
     "output_type": "display_data"
    }
   ],
   "source": [
    "# Plot the total values\n",
    "cs.line_plot(total_df[[\"Infected\", \"Fatal\", \"Recovered\"]], \"Total number of cases over time\")"
   ]
  },
  {
   "cell_type": "code",
   "execution_count": 14,
   "metadata": {
    "collapsed": false
   },
   "outputs": [
    {
     "data": {
      "text/html": [
       "<div>\n",
       "<style scoped>\n",
       "    .dataframe tbody tr th:only-of-type {\n",
       "        vertical-align: middle;\n",
       "    }\n",
       "\n",
       "    .dataframe tbody tr th {\n",
       "        vertical-align: top;\n",
       "    }\n",
       "\n",
       "    .dataframe thead th {\n",
       "        text-align: right;\n",
       "    }\n",
       "</style>\n",
       "<table border=\"1\" class=\"dataframe\">\n",
       "  <thead>\n",
       "    <tr style=\"text-align: right;\">\n",
       "      <th></th>\n",
       "      <th>count</th>\n",
       "      <th>mean</th>\n",
       "      <th>std</th>\n",
       "      <th>min</th>\n",
       "      <th>25%</th>\n",
       "      <th>50%</th>\n",
       "      <th>75%</th>\n",
       "      <th>max</th>\n",
       "    </tr>\n",
       "  </thead>\n",
       "  <tbody>\n",
       "    <tr>\n",
       "      <th>Fatal per Confirmed</th>\n",
       "      <td>358.0</td>\n",
       "      <td>0.038625</td>\n",
       "      <td>0.017356</td>\n",
       "      <td>0.000000</td>\n",
       "      <td>0.025383</td>\n",
       "      <td>0.034202</td>\n",
       "      <td>0.049351</td>\n",
       "      <td>0.074270</td>\n",
       "    </tr>\n",
       "    <tr>\n",
       "      <th>Recovered per Confirmed</th>\n",
       "      <td>358.0</td>\n",
       "      <td>0.427695</td>\n",
       "      <td>0.252811</td>\n",
       "      <td>0.001262</td>\n",
       "      <td>0.200000</td>\n",
       "      <td>0.505788</td>\n",
       "      <td>0.646622</td>\n",
       "      <td>1.000000</td>\n",
       "    </tr>\n",
       "    <tr>\n",
       "      <th>Fatal per (Fatal or Recovered)</th>\n",
       "      <td>358.0</td>\n",
       "      <td>0.207118</td>\n",
       "      <td>0.273110</td>\n",
       "      <td>0.000000</td>\n",
       "      <td>0.040549</td>\n",
       "      <td>0.077739</td>\n",
       "      <td>0.222618</td>\n",
       "      <td>0.943983</td>\n",
       "    </tr>\n",
       "  </tbody>\n",
       "</table>\n",
       "</div>"
      ],
      "text/plain": [
       "                                count      mean       std       min       25%  \\\n",
       "Fatal per Confirmed             358.0  0.038625  0.017356  0.000000  0.025383   \n",
       "Recovered per Confirmed         358.0  0.427695  0.252811  0.001262  0.200000   \n",
       "Fatal per (Fatal or Recovered)  358.0  0.207118  0.273110  0.000000  0.040549   \n",
       "\n",
       "                                     50%       75%       max  \n",
       "Fatal per Confirmed             0.034202  0.049351  0.074270  \n",
       "Recovered per Confirmed         0.505788  0.646622  1.000000  \n",
       "Fatal per (Fatal or Recovered)  0.077739  0.222618  0.943983  "
      ]
     },
     "execution_count": 14,
     "metadata": {},
     "output_type": "execute_result"
    }
   ],
   "source": [
    "# Statistics of rate values in all countries\n",
    "total_df.loc[:, total_df.columns.str.contains(\"per\")].describe().T"
   ]
  },
  {
   "cell_type": "markdown",
   "metadata": {},
   "source": [
    "We can create a subset for a country using `JHUData.subset()` method."
   ]
  },
  {
   "cell_type": "code",
   "execution_count": 15,
   "metadata": {
    "collapsed": false
   },
   "outputs": [
    {
     "data": {
      "text/html": [
       "<div>\n",
       "<style scoped>\n",
       "    .dataframe tbody tr th:only-of-type {\n",
       "        vertical-align: middle;\n",
       "    }\n",
       "\n",
       "    .dataframe tbody tr th {\n",
       "        vertical-align: top;\n",
       "    }\n",
       "\n",
       "    .dataframe thead th {\n",
       "        text-align: right;\n",
       "    }\n",
       "</style>\n",
       "<table border=\"1\" class=\"dataframe\">\n",
       "  <thead>\n",
       "    <tr style=\"text-align: right;\">\n",
       "      <th></th>\n",
       "      <th>Date</th>\n",
       "      <th>Confirmed</th>\n",
       "      <th>Infected</th>\n",
       "      <th>Fatal</th>\n",
       "      <th>Recovered</th>\n",
       "    </tr>\n",
       "  </thead>\n",
       "  <tbody>\n",
       "    <tr>\n",
       "      <th>318</th>\n",
       "      <td>2020-12-20</td>\n",
       "      <td>195880</td>\n",
       "      <td>27674</td>\n",
       "      <td>2873</td>\n",
       "      <td>165333</td>\n",
       "    </tr>\n",
       "    <tr>\n",
       "      <th>319</th>\n",
       "      <td>2020-12-21</td>\n",
       "      <td>198523</td>\n",
       "      <td>28110</td>\n",
       "      <td>2900</td>\n",
       "      <td>167513</td>\n",
       "    </tr>\n",
       "    <tr>\n",
       "      <th>320</th>\n",
       "      <td>2020-12-22</td>\n",
       "      <td>200658</td>\n",
       "      <td>28372</td>\n",
       "      <td>2944</td>\n",
       "      <td>169342</td>\n",
       "    </tr>\n",
       "    <tr>\n",
       "      <th>321</th>\n",
       "      <td>2020-12-23</td>\n",
       "      <td>203113</td>\n",
       "      <td>28004</td>\n",
       "      <td>2994</td>\n",
       "      <td>172115</td>\n",
       "    </tr>\n",
       "    <tr>\n",
       "      <th>322</th>\n",
       "      <td>2020-12-24</td>\n",
       "      <td>206139</td>\n",
       "      <td>28210</td>\n",
       "      <td>3050</td>\n",
       "      <td>174879</td>\n",
       "    </tr>\n",
       "  </tbody>\n",
       "</table>\n",
       "</div>"
      ],
      "text/plain": [
       "          Date  Confirmed  Infected  Fatal  Recovered\n",
       "318 2020-12-20     195880     27674   2873     165333\n",
       "319 2020-12-21     198523     28110   2900     167513\n",
       "320 2020-12-22     200658     28372   2944     169342\n",
       "321 2020-12-23     203113     28004   2994     172115\n",
       "322 2020-12-24     206139     28210   3050     174879"
      ]
     },
     "execution_count": 15,
     "metadata": {},
     "output_type": "execute_result"
    }
   ],
   "source": [
    "# Subset for a country\n",
    "df, _ = jhu_data.records(\"Japan\")\n",
    "df.tail()\n",
    "# We can use ISO3 code etc.\n",
    "# df, _ = jhu_data.records(\"JPN\")\n",
    "# df.tail()"
   ]
  },
  {
   "cell_type": "markdown",
   "metadata": {},
   "source": [
    "Province (\"prefecture\" for Japan) name can be specified."
   ]
  },
  {
   "cell_type": "code",
   "execution_count": 16,
   "metadata": {
    "collapsed": false
   },
   "outputs": [
    {
     "data": {
      "text/html": [
       "<div>\n",
       "<style scoped>\n",
       "    .dataframe tbody tr th:only-of-type {\n",
       "        vertical-align: middle;\n",
       "    }\n",
       "\n",
       "    .dataframe tbody tr th {\n",
       "        vertical-align: top;\n",
       "    }\n",
       "\n",
       "    .dataframe thead th {\n",
       "        text-align: right;\n",
       "    }\n",
       "</style>\n",
       "<table border=\"1\" class=\"dataframe\">\n",
       "  <thead>\n",
       "    <tr style=\"text-align: right;\">\n",
       "      <th></th>\n",
       "      <th>Date</th>\n",
       "      <th>Confirmed</th>\n",
       "      <th>Infected</th>\n",
       "      <th>Fatal</th>\n",
       "      <th>Recovered</th>\n",
       "    </tr>\n",
       "  </thead>\n",
       "  <tbody>\n",
       "    <tr>\n",
       "      <th>259</th>\n",
       "      <td>2020-12-19</td>\n",
       "      <td>50890</td>\n",
       "      <td>9012</td>\n",
       "      <td>566</td>\n",
       "      <td>41312</td>\n",
       "    </tr>\n",
       "    <tr>\n",
       "      <th>260</th>\n",
       "      <td>2020-12-20</td>\n",
       "      <td>51446</td>\n",
       "      <td>9037</td>\n",
       "      <td>566</td>\n",
       "      <td>41843</td>\n",
       "    </tr>\n",
       "    <tr>\n",
       "      <th>261</th>\n",
       "      <td>2020-12-21</td>\n",
       "      <td>51838</td>\n",
       "      <td>8987</td>\n",
       "      <td>567</td>\n",
       "      <td>42284</td>\n",
       "    </tr>\n",
       "    <tr>\n",
       "      <th>262</th>\n",
       "      <td>2020-12-22</td>\n",
       "      <td>52382</td>\n",
       "      <td>8948</td>\n",
       "      <td>568</td>\n",
       "      <td>42866</td>\n",
       "    </tr>\n",
       "    <tr>\n",
       "      <th>263</th>\n",
       "      <td>2020-12-23</td>\n",
       "      <td>53130</td>\n",
       "      <td>9359</td>\n",
       "      <td>578</td>\n",
       "      <td>43193</td>\n",
       "    </tr>\n",
       "  </tbody>\n",
       "</table>\n",
       "</div>"
      ],
      "text/plain": [
       "          Date  Confirmed  Infected  Fatal  Recovered\n",
       "259 2020-12-19      50890      9012    566      41312\n",
       "260 2020-12-20      51446      9037    566      41843\n",
       "261 2020-12-21      51838      8987    567      42284\n",
       "262 2020-12-22      52382      8948    568      42866\n",
       "263 2020-12-23      53130      9359    578      43193"
      ]
     },
     "execution_count": 16,
     "metadata": {},
     "output_type": "execute_result"
    }
   ],
   "source": [
    "df, _ = jhu_data.records(\"Japan\", province=\"Tokyo\")\n",
    "df.tail()"
   ]
  },
  {
   "cell_type": "code",
   "execution_count": 17,
   "metadata": {
    "collapsed": false
   },
   "outputs": [
    {
     "name": "stdout",
     "output_type": "stream",
     "text": [
      "['Afghanistan', 'Albania', 'Algeria', 'Andorra', 'Angola',\n",
      " 'Antigua and Barbuda', 'Argentina', 'Armenia', 'Australia', 'Austria',\n",
      " 'Azerbaijan', 'Bahamas', 'Bahrain', 'Bangladesh', 'Barbados', 'Belarus',\n",
      " 'Belgium', 'Belize', 'Benin', 'Bermuda', 'Bhutan', 'Bolivia',\n",
      " 'Bosnia and Herzegovina', 'Botswana', 'Brazil', 'Brunei', 'Bulgaria',\n",
      " 'Burkina Faso', 'Burundi', 'Cambodia', 'Cameroon', 'Canada', 'Cape Verde',\n",
      " 'Central African Republic', 'Chad', 'Chile', 'China', 'Colombia', 'Comoros',\n",
      " 'Costa Atlantica', 'Costa Rica', \"Cote d'Ivoire\", 'Croatia', 'Cuba', 'Cyprus',\n",
      " 'Czech Republic', 'Democratic Republic of the Congo', 'Denmark', 'Djibouti',\n",
      " 'Dominica', 'Dominican Republic', 'Ecuador', 'Egypt', 'El Salvador',\n",
      " 'Equatorial Guinea', 'Eritrea', 'Estonia', 'Ethiopia', 'Fiji', 'Finland',\n",
      " 'France', 'Gabon', 'Gambia', 'Georgia', 'Germany', 'Ghana', 'Grand Princess',\n",
      " 'Greece', 'Grenada', 'Guam', 'Guatemala', 'Guinea', 'Guinea-Bissau', 'Guyana',\n",
      " 'Haiti', 'Holy See', 'Honduras', 'Hungary', 'Iceland', 'India', 'Indonesia',\n",
      " 'Iran', 'Iraq', 'Ireland', 'Israel', 'Italy', 'Jamaica', 'Japan', 'Jordan',\n",
      " 'Kazakhstan', 'Kenya', 'Kosovo', 'Kuwait', 'Kyrgyzstan', 'Laos', 'Latvia',\n",
      " 'Lebanon', 'Lesotho', 'Liberia', 'Libya', 'Liechtenstein', 'Lithuania',\n",
      " 'Luxembourg', 'MS Zaandam', 'Madagascar', 'Malawi', 'Malaysia', 'Maldives',\n",
      " 'Mali', 'Malta', 'Marshall Islands', 'Mauritania', 'Mauritius', 'Mexico',\n",
      " 'Moldova', 'Monaco', 'Mongolia', 'Montenegro', 'Morocco', 'Mozambique',\n",
      " 'Myanmar', 'Namibia', 'Nepal', 'Netherlands', 'New Zealand', 'Nicaragua',\n",
      " 'Niger', 'Nigeria', 'North Macedonia', 'Northern Mariana Islands', 'Norway',\n",
      " 'Oman', 'Pakistan', 'Palestine', 'Panama', 'Papua New Guinea', 'Paraguay',\n",
      " 'Peru', 'Philippines', 'Poland', 'Portugal', 'Puerto Rico', 'Qatar',\n",
      " 'Republic of the Congo', 'Romania', 'Russia', 'Rwanda',\n",
      " 'Saint Kitts and Nevis', 'Saint Lucia', 'Saint Vincent and the Grenadines',\n",
      " 'Samoa', 'San Marino', 'Sao Tome and Principe', 'Saudi Arabia', 'Senegal',\n",
      " 'Serbia', 'Seychelles', 'Sierra Leone', 'Singapore', 'Slovakia', 'Slovenia',\n",
      " 'Solomon Islands', 'Somalia', 'South Africa', 'South Korea', 'South Sudan',\n",
      " 'Spain', 'Sri Lanka', 'Sudan', 'Suriname', 'Swaziland', 'Sweden',\n",
      " 'Switzerland', 'Syria', 'Taiwan', 'Tajikistan', 'Tanzania', 'Thailand',\n",
      " 'Timor-Leste', 'Togo', 'Trinidad and Tobago', 'Tunisia', 'Turkey', 'Uganda',\n",
      " 'Ukraine', 'United Arab Emirates', 'United Kingdom', 'United States',\n",
      " 'Uruguay', 'Uzbekistan', 'Vanuatu', 'Venezuela', 'Vietnam',\n",
      " 'Virgin Islands, U.S.', 'Yemen', 'Zambia', 'Zimbabwe']\n"
     ]
    }
   ],
   "source": [
    "# Countries we can select\n",
    "pprint(jhu_data.countries(), compact=True)"
   ]
  },
  {
   "cell_type": "markdown",
   "metadata": {},
   "source": [
    "### Linelist of case reports\n",
    "The number of cases is important, but linelist of case reports will helpful to understand the situation deeply. Linelist data was saved as `linelist`, an instance of `LinelistData` class. This dataset is from [Open COVID-19 Data Working Group](https://github.com/beoutbreakprepared/nCoV2019)."
   ]
  },
  {
   "cell_type": "code",
   "execution_count": 18,
   "metadata": {
    "collapsed": false
   },
   "outputs": [
    {
     "data": {
      "text/plain": [
       "covsirphy.cleaning.linelist.LinelistData"
      ]
     },
     "execution_count": 18,
     "metadata": {},
     "output_type": "execute_result"
    }
   ],
   "source": [
    "type(linelist)"
   ]
  },
  {
   "cell_type": "code",
   "execution_count": 19,
   "metadata": {
    "collapsed": false
   },
   "outputs": [
    {
     "name": "stdout",
     "output_type": "stream",
     "text": [
      "Xu, B., Gutierrez, B., Mekaru, S. et al. Epidemiological data from the COVID-19 outbreak, real-time case information. Sci Data 7, 106 (2020). https://doi.org/10.1038/s41597-020-0448-0\n"
     ]
    }
   ],
   "source": [
    "# Citation\n",
    "print(linelist.citation)"
   ]
  },
  {
   "cell_type": "code",
   "execution_count": 20,
   "metadata": {
    "collapsed": false
   },
   "outputs": [
    {
     "data": {
      "text/html": [
       "<div>\n",
       "<style scoped>\n",
       "    .dataframe tbody tr th:only-of-type {\n",
       "        vertical-align: middle;\n",
       "    }\n",
       "\n",
       "    .dataframe tbody tr th {\n",
       "        vertical-align: top;\n",
       "    }\n",
       "\n",
       "    .dataframe thead th {\n",
       "        text-align: right;\n",
       "    }\n",
       "</style>\n",
       "<table border=\"1\" class=\"dataframe\">\n",
       "  <thead>\n",
       "    <tr style=\"text-align: right;\">\n",
       "      <th></th>\n",
       "      <th>Unnamed: 0</th>\n",
       "      <th>age</th>\n",
       "      <th>sex</th>\n",
       "      <th>city</th>\n",
       "      <th>province</th>\n",
       "      <th>country</th>\n",
       "      <th>latitude</th>\n",
       "      <th>longitude</th>\n",
       "      <th>geo_resolution</th>\n",
       "      <th>date_onset_symptoms</th>\n",
       "      <th>...</th>\n",
       "      <th>date_death_or_discharge</th>\n",
       "      <th>notes_for_discussion</th>\n",
       "      <th>location</th>\n",
       "      <th>admin3</th>\n",
       "      <th>admin2</th>\n",
       "      <th>admin1</th>\n",
       "      <th>country_new</th>\n",
       "      <th>admin_id</th>\n",
       "      <th>data_moderator_initials</th>\n",
       "      <th>travel_history_binary</th>\n",
       "    </tr>\n",
       "  </thead>\n",
       "  <tbody>\n",
       "    <tr>\n",
       "      <th>2676307</th>\n",
       "      <td>010-99996</td>\n",
       "      <td>52</td>\n",
       "      <td>female</td>\n",
       "      <td>Pueblo Libre</td>\n",
       "      <td>Lima</td>\n",
       "      <td>Peru</td>\n",
       "      <td>-12.076529999999934</td>\n",
       "      <td>-77.06734999999998</td>\n",
       "      <td>point</td>\n",
       "      <td>NaN</td>\n",
       "      <td>...</td>\n",
       "      <td>NaN</td>\n",
       "      <td>NaN</td>\n",
       "      <td>NaN</td>\n",
       "      <td>NaN</td>\n",
       "      <td>NaN</td>\n",
       "      <td>NaN</td>\n",
       "      <td>Peru</td>\n",
       "      <td>14695.0</td>\n",
       "      <td>NaN</td>\n",
       "      <td>False</td>\n",
       "    </tr>\n",
       "    <tr>\n",
       "      <th>2676308</th>\n",
       "      <td>010-99997</td>\n",
       "      <td>52</td>\n",
       "      <td>female</td>\n",
       "      <td>Comas</td>\n",
       "      <td>Lima</td>\n",
       "      <td>Peru</td>\n",
       "      <td>-11.93297999999993</td>\n",
       "      <td>-77.04084999999998</td>\n",
       "      <td>point</td>\n",
       "      <td>NaN</td>\n",
       "      <td>...</td>\n",
       "      <td>NaN</td>\n",
       "      <td>NaN</td>\n",
       "      <td>NaN</td>\n",
       "      <td>NaN</td>\n",
       "      <td>NaN</td>\n",
       "      <td>NaN</td>\n",
       "      <td>Peru</td>\n",
       "      <td>14400.0</td>\n",
       "      <td>NaN</td>\n",
       "      <td>False</td>\n",
       "    </tr>\n",
       "    <tr>\n",
       "      <th>2676309</th>\n",
       "      <td>010-99998</td>\n",
       "      <td>52</td>\n",
       "      <td>male</td>\n",
       "      <td>Callao</td>\n",
       "      <td>Callao</td>\n",
       "      <td>Peru</td>\n",
       "      <td>-12.00073999999995</td>\n",
       "      <td>-77.11823999999996</td>\n",
       "      <td>point</td>\n",
       "      <td>NaN</td>\n",
       "      <td>...</td>\n",
       "      <td>NaN</td>\n",
       "      <td>NaN</td>\n",
       "      <td>NaN</td>\n",
       "      <td>NaN</td>\n",
       "      <td>NaN</td>\n",
       "      <td>NaN</td>\n",
       "      <td>Peru</td>\n",
       "      <td>14516.0</td>\n",
       "      <td>NaN</td>\n",
       "      <td>False</td>\n",
       "    </tr>\n",
       "    <tr>\n",
       "      <th>2676310</th>\n",
       "      <td>010-99999</td>\n",
       "      <td>52</td>\n",
       "      <td>male</td>\n",
       "      <td>Los Olivos</td>\n",
       "      <td>Lima</td>\n",
       "      <td>Peru</td>\n",
       "      <td>-11.976259999999968</td>\n",
       "      <td>-77.07502999999997</td>\n",
       "      <td>point</td>\n",
       "      <td>NaN</td>\n",
       "      <td>...</td>\n",
       "      <td>NaN</td>\n",
       "      <td>NaN</td>\n",
       "      <td>NaN</td>\n",
       "      <td>NaN</td>\n",
       "      <td>NaN</td>\n",
       "      <td>NaN</td>\n",
       "      <td>Peru</td>\n",
       "      <td>14502.0</td>\n",
       "      <td>NaN</td>\n",
       "      <td>False</td>\n",
       "    </tr>\n",
       "    <tr>\n",
       "      <th>2676311</th>\n",
       "      <td>NaN</td>\n",
       "      <td>NaN</td>\n",
       "      <td>NaN</td>\n",
       "      <td>NaN</td>\n",
       "      <td>NaN</td>\n",
       "      <td>NaN</td>\n",
       "      <td>NaN</td>\n",
       "      <td>NaN</td>\n",
       "      <td>NaN</td>\n",
       "      <td>NaN</td>\n",
       "      <td>...</td>\n",
       "      <td>NaN</td>\n",
       "      <td>NaN</td>\n",
       "      <td>NaN</td>\n",
       "      <td>NaN</td>\n",
       "      <td>NaN</td>\n",
       "      <td>NaN</td>\n",
       "      <td>NaN</td>\n",
       "      <td>NaN</td>\n",
       "      <td>NaN</td>\n",
       "      <td>NaN</td>\n",
       "    </tr>\n",
       "  </tbody>\n",
       "</table>\n",
       "<p>5 rows × 33 columns</p>\n",
       "</div>"
      ],
      "text/plain": [
       "        Unnamed: 0  age     sex          city province country  \\\n",
       "2676307  010-99996   52  female  Pueblo Libre     Lima    Peru   \n",
       "2676308  010-99997   52  female         Comas     Lima    Peru   \n",
       "2676309  010-99998   52    male        Callao   Callao    Peru   \n",
       "2676310  010-99999   52    male    Los Olivos     Lima    Peru   \n",
       "2676311        NaN  NaN     NaN           NaN      NaN     NaN   \n",
       "\n",
       "                    latitude           longitude geo_resolution  \\\n",
       "2676307  -12.076529999999934  -77.06734999999998          point   \n",
       "2676308   -11.93297999999993  -77.04084999999998          point   \n",
       "2676309   -12.00073999999995  -77.11823999999996          point   \n",
       "2676310  -11.976259999999968  -77.07502999999997          point   \n",
       "2676311                  NaN                 NaN            NaN   \n",
       "\n",
       "        date_onset_symptoms  ... date_death_or_discharge notes_for_discussion  \\\n",
       "2676307                 NaN  ...                     NaN                  NaN   \n",
       "2676308                 NaN  ...                     NaN                  NaN   \n",
       "2676309                 NaN  ...                     NaN                  NaN   \n",
       "2676310                 NaN  ...                     NaN                  NaN   \n",
       "2676311                 NaN  ...                     NaN                  NaN   \n",
       "\n",
       "        location admin3 admin2 admin1 country_new admin_id  \\\n",
       "2676307      NaN    NaN    NaN    NaN        Peru  14695.0   \n",
       "2676308      NaN    NaN    NaN    NaN        Peru  14400.0   \n",
       "2676309      NaN    NaN    NaN    NaN        Peru  14516.0   \n",
       "2676310      NaN    NaN    NaN    NaN        Peru  14502.0   \n",
       "2676311      NaN    NaN    NaN    NaN         NaN      NaN   \n",
       "\n",
       "        data_moderator_initials travel_history_binary  \n",
       "2676307                     NaN                 False  \n",
       "2676308                     NaN                 False  \n",
       "2676309                     NaN                 False  \n",
       "2676310                     NaN                 False  \n",
       "2676311                     NaN                   NaN  \n",
       "\n",
       "[5 rows x 33 columns]"
      ]
     },
     "execution_count": 20,
     "metadata": {},
     "output_type": "execute_result"
    }
   ],
   "source": [
    "# Raw dataset\n",
    "linelist.raw.tail()"
   ]
  },
  {
   "cell_type": "code",
   "execution_count": 21,
   "metadata": {
    "collapsed": false
   },
   "outputs": [
    {
     "data": {
      "text/html": [
       "<div>\n",
       "<style scoped>\n",
       "    .dataframe tbody tr th:only-of-type {\n",
       "        vertical-align: middle;\n",
       "    }\n",
       "\n",
       "    .dataframe tbody tr th {\n",
       "        vertical-align: top;\n",
       "    }\n",
       "\n",
       "    .dataframe thead th {\n",
       "        text-align: right;\n",
       "    }\n",
       "</style>\n",
       "<table border=\"1\" class=\"dataframe\">\n",
       "  <thead>\n",
       "    <tr style=\"text-align: right;\">\n",
       "      <th></th>\n",
       "      <th>Country</th>\n",
       "      <th>Province</th>\n",
       "      <th>Hospitalized_date</th>\n",
       "      <th>Confirmation_date</th>\n",
       "      <th>Outcome_date</th>\n",
       "      <th>Confirmed</th>\n",
       "      <th>Infected</th>\n",
       "      <th>Recovered</th>\n",
       "      <th>Fatal</th>\n",
       "      <th>Symptoms</th>\n",
       "      <th>Chronic_disease</th>\n",
       "      <th>Age</th>\n",
       "      <th>Sex</th>\n",
       "    </tr>\n",
       "  </thead>\n",
       "  <tbody>\n",
       "    <tr>\n",
       "      <th>2676306</th>\n",
       "      <td>Peru</td>\n",
       "      <td>Coronel Portillo</td>\n",
       "      <td>NaT</td>\n",
       "      <td>2020-05-17</td>\n",
       "      <td>NaT</td>\n",
       "      <td>True</td>\n",
       "      <td>False</td>\n",
       "      <td>False</td>\n",
       "      <td>False</td>\n",
       "      <td>NaN</td>\n",
       "      <td>NaN</td>\n",
       "      <td>52.0</td>\n",
       "      <td>female</td>\n",
       "    </tr>\n",
       "    <tr>\n",
       "      <th>2676307</th>\n",
       "      <td>Peru</td>\n",
       "      <td>Lima</td>\n",
       "      <td>NaT</td>\n",
       "      <td>2020-05-17</td>\n",
       "      <td>NaT</td>\n",
       "      <td>True</td>\n",
       "      <td>False</td>\n",
       "      <td>False</td>\n",
       "      <td>False</td>\n",
       "      <td>NaN</td>\n",
       "      <td>NaN</td>\n",
       "      <td>52.0</td>\n",
       "      <td>female</td>\n",
       "    </tr>\n",
       "    <tr>\n",
       "      <th>2676308</th>\n",
       "      <td>Peru</td>\n",
       "      <td>Lima</td>\n",
       "      <td>NaT</td>\n",
       "      <td>2020-05-17</td>\n",
       "      <td>NaT</td>\n",
       "      <td>True</td>\n",
       "      <td>False</td>\n",
       "      <td>False</td>\n",
       "      <td>False</td>\n",
       "      <td>NaN</td>\n",
       "      <td>NaN</td>\n",
       "      <td>52.0</td>\n",
       "      <td>female</td>\n",
       "    </tr>\n",
       "    <tr>\n",
       "      <th>2676309</th>\n",
       "      <td>Peru</td>\n",
       "      <td>Callao</td>\n",
       "      <td>NaT</td>\n",
       "      <td>2020-05-17</td>\n",
       "      <td>NaT</td>\n",
       "      <td>True</td>\n",
       "      <td>False</td>\n",
       "      <td>False</td>\n",
       "      <td>False</td>\n",
       "      <td>NaN</td>\n",
       "      <td>NaN</td>\n",
       "      <td>52.0</td>\n",
       "      <td>male</td>\n",
       "    </tr>\n",
       "    <tr>\n",
       "      <th>2676310</th>\n",
       "      <td>Peru</td>\n",
       "      <td>Lima</td>\n",
       "      <td>NaT</td>\n",
       "      <td>2020-05-17</td>\n",
       "      <td>NaT</td>\n",
       "      <td>True</td>\n",
       "      <td>False</td>\n",
       "      <td>False</td>\n",
       "      <td>False</td>\n",
       "      <td>NaN</td>\n",
       "      <td>NaN</td>\n",
       "      <td>52.0</td>\n",
       "      <td>male</td>\n",
       "    </tr>\n",
       "  </tbody>\n",
       "</table>\n",
       "</div>"
      ],
      "text/plain": [
       "        Country          Province Hospitalized_date Confirmation_date  \\\n",
       "2676306    Peru  Coronel Portillo               NaT        2020-05-17   \n",
       "2676307    Peru              Lima               NaT        2020-05-17   \n",
       "2676308    Peru              Lima               NaT        2020-05-17   \n",
       "2676309    Peru            Callao               NaT        2020-05-17   \n",
       "2676310    Peru              Lima               NaT        2020-05-17   \n",
       "\n",
       "        Outcome_date  Confirmed  Infected  Recovered  Fatal Symptoms  \\\n",
       "2676306          NaT       True     False      False  False      NaN   \n",
       "2676307          NaT       True     False      False  False      NaN   \n",
       "2676308          NaT       True     False      False  False      NaN   \n",
       "2676309          NaT       True     False      False  False      NaN   \n",
       "2676310          NaT       True     False      False  False      NaN   \n",
       "\n",
       "        Chronic_disease   Age     Sex  \n",
       "2676306             NaN  52.0  female  \n",
       "2676307             NaN  52.0  female  \n",
       "2676308             NaN  52.0  female  \n",
       "2676309             NaN  52.0    male  \n",
       "2676310             NaN  52.0    male  "
      ]
     },
     "execution_count": 21,
     "metadata": {},
     "output_type": "execute_result"
    }
   ],
   "source": [
    "# Cleaned dataset\n",
    "linelist.cleaned().tail()"
   ]
  },
  {
   "cell_type": "code",
   "execution_count": 22,
   "metadata": {
    "collapsed": false
   },
   "outputs": [
    {
     "data": {
      "text/html": [
       "<div>\n",
       "<style scoped>\n",
       "    .dataframe tbody tr th:only-of-type {\n",
       "        vertical-align: middle;\n",
       "    }\n",
       "\n",
       "    .dataframe tbody tr th {\n",
       "        vertical-align: top;\n",
       "    }\n",
       "\n",
       "    .dataframe thead th {\n",
       "        text-align: right;\n",
       "    }\n",
       "</style>\n",
       "<table border=\"1\" class=\"dataframe\">\n",
       "  <thead>\n",
       "    <tr style=\"text-align: right;\">\n",
       "      <th></th>\n",
       "      <th>Hospitalized_date</th>\n",
       "      <th>Confirmation_date</th>\n",
       "      <th>Outcome_date</th>\n",
       "      <th>Confirmed</th>\n",
       "      <th>Infected</th>\n",
       "      <th>Recovered</th>\n",
       "      <th>Fatal</th>\n",
       "      <th>Symptoms</th>\n",
       "      <th>Chronic_disease</th>\n",
       "      <th>Age</th>\n",
       "      <th>Sex</th>\n",
       "    </tr>\n",
       "  </thead>\n",
       "  <tbody>\n",
       "    <tr>\n",
       "      <th>107</th>\n",
       "      <td>NaT</td>\n",
       "      <td>2020-01-30</td>\n",
       "      <td>NaT</td>\n",
       "      <td>True</td>\n",
       "      <td>False</td>\n",
       "      <td>False</td>\n",
       "      <td>False</td>\n",
       "      <td>NaN</td>\n",
       "      <td>NaN</td>\n",
       "      <td>NaN</td>\n",
       "      <td>female</td>\n",
       "    </tr>\n",
       "    <tr>\n",
       "      <th>108</th>\n",
       "      <td>NaT</td>\n",
       "      <td>2020-01-24</td>\n",
       "      <td>NaT</td>\n",
       "      <td>True</td>\n",
       "      <td>False</td>\n",
       "      <td>True</td>\n",
       "      <td>False</td>\n",
       "      <td>fever:pneumonia:sore throat</td>\n",
       "      <td>NaN</td>\n",
       "      <td>40.0</td>\n",
       "      <td>male</td>\n",
       "    </tr>\n",
       "    <tr>\n",
       "      <th>109</th>\n",
       "      <td>2020-10-01</td>\n",
       "      <td>2020-01-15</td>\n",
       "      <td>2020-01-15</td>\n",
       "      <td>True</td>\n",
       "      <td>False</td>\n",
       "      <td>True</td>\n",
       "      <td>False</td>\n",
       "      <td>cough:fever:sore throat</td>\n",
       "      <td>NaN</td>\n",
       "      <td>30.0</td>\n",
       "      <td>male</td>\n",
       "    </tr>\n",
       "    <tr>\n",
       "      <th>110</th>\n",
       "      <td>NaT</td>\n",
       "      <td>2020-01-25</td>\n",
       "      <td>NaT</td>\n",
       "      <td>True</td>\n",
       "      <td>False</td>\n",
       "      <td>False</td>\n",
       "      <td>False</td>\n",
       "      <td>cough:fever</td>\n",
       "      <td>NaN</td>\n",
       "      <td>NaN</td>\n",
       "      <td>female</td>\n",
       "    </tr>\n",
       "    <tr>\n",
       "      <th>111</th>\n",
       "      <td>NaT</td>\n",
       "      <td>2020-01-26</td>\n",
       "      <td>NaT</td>\n",
       "      <td>True</td>\n",
       "      <td>False</td>\n",
       "      <td>False</td>\n",
       "      <td>False</td>\n",
       "      <td>fever:joint pain:pneumonia</td>\n",
       "      <td>NaN</td>\n",
       "      <td>40.0</td>\n",
       "      <td>male</td>\n",
       "    </tr>\n",
       "  </tbody>\n",
       "</table>\n",
       "</div>"
      ],
      "text/plain": [
       "    Hospitalized_date Confirmation_date Outcome_date  Confirmed  Infected  \\\n",
       "107               NaT        2020-01-30          NaT       True     False   \n",
       "108               NaT        2020-01-24          NaT       True     False   \n",
       "109        2020-10-01        2020-01-15   2020-01-15       True     False   \n",
       "110               NaT        2020-01-25          NaT       True     False   \n",
       "111               NaT        2020-01-26          NaT       True     False   \n",
       "\n",
       "     Recovered  Fatal                     Symptoms Chronic_disease   Age  \\\n",
       "107      False  False                          NaN             NaN   NaN   \n",
       "108       True  False  fever:pneumonia:sore throat             NaN  40.0   \n",
       "109       True  False      cough:fever:sore throat             NaN  30.0   \n",
       "110      False  False                  cough:fever             NaN   NaN   \n",
       "111      False  False   fever:joint pain:pneumonia             NaN  40.0   \n",
       "\n",
       "        Sex  \n",
       "107  female  \n",
       "108    male  \n",
       "109    male  \n",
       "110  female  \n",
       "111    male  "
      ]
     },
     "execution_count": 22,
     "metadata": {},
     "output_type": "execute_result"
    }
   ],
   "source": [
    "# Subset for specified area\n",
    "linelist.subset(\"Japan\", province=\"Tokyo\").tail()"
   ]
  },
  {
   "cell_type": "code",
   "execution_count": 23,
   "metadata": {
    "collapsed": false
   },
   "outputs": [
    {
     "data": {
      "text/html": [
       "<div>\n",
       "<style scoped>\n",
       "    .dataframe tbody tr th:only-of-type {\n",
       "        vertical-align: middle;\n",
       "    }\n",
       "\n",
       "    .dataframe tbody tr th {\n",
       "        vertical-align: top;\n",
       "    }\n",
       "\n",
       "    .dataframe thead th {\n",
       "        text-align: right;\n",
       "    }\n",
       "</style>\n",
       "<table border=\"1\" class=\"dataframe\">\n",
       "  <thead>\n",
       "    <tr style=\"text-align: right;\">\n",
       "      <th></th>\n",
       "      <th>Country</th>\n",
       "      <th>Province</th>\n",
       "      <th>Hospitalized_date</th>\n",
       "      <th>Confirmation_date</th>\n",
       "      <th>Recovered_date</th>\n",
       "      <th>Symptoms</th>\n",
       "      <th>Chronic_disease</th>\n",
       "      <th>Age</th>\n",
       "      <th>Sex</th>\n",
       "    </tr>\n",
       "  </thead>\n",
       "  <tbody>\n",
       "    <tr>\n",
       "      <th>272</th>\n",
       "      <td>Singapore</td>\n",
       "      <td>-</td>\n",
       "      <td>2020-02-02</td>\n",
       "      <td>2020-02-06</td>\n",
       "      <td>2020-02-17</td>\n",
       "      <td>NaN</td>\n",
       "      <td>NaN</td>\n",
       "      <td>39.0</td>\n",
       "      <td>female</td>\n",
       "    </tr>\n",
       "    <tr>\n",
       "      <th>273</th>\n",
       "      <td>Malaysia</td>\n",
       "      <td>Johor</td>\n",
       "      <td>NaT</td>\n",
       "      <td>2020-01-25</td>\n",
       "      <td>2020-02-08</td>\n",
       "      <td>cough:fever</td>\n",
       "      <td>NaN</td>\n",
       "      <td>40.0</td>\n",
       "      <td>male</td>\n",
       "    </tr>\n",
       "    <tr>\n",
       "      <th>274</th>\n",
       "      <td>China</td>\n",
       "      <td>Gansu</td>\n",
       "      <td>2020-07-02</td>\n",
       "      <td>2020-02-08</td>\n",
       "      <td>2020-02-17</td>\n",
       "      <td>diarrhea</td>\n",
       "      <td>NaN</td>\n",
       "      <td>1.0</td>\n",
       "      <td>female</td>\n",
       "    </tr>\n",
       "    <tr>\n",
       "      <th>275</th>\n",
       "      <td>Canada</td>\n",
       "      <td>Ontario</td>\n",
       "      <td>NaT</td>\n",
       "      <td>2020-01-25</td>\n",
       "      <td>2020-01-31</td>\n",
       "      <td>NaN</td>\n",
       "      <td>hypertension</td>\n",
       "      <td>NaN</td>\n",
       "      <td>male</td>\n",
       "    </tr>\n",
       "    <tr>\n",
       "      <th>276</th>\n",
       "      <td>Canada</td>\n",
       "      <td>Ontario</td>\n",
       "      <td>NaT</td>\n",
       "      <td>2020-01-31</td>\n",
       "      <td>2020-02-19</td>\n",
       "      <td>NaN</td>\n",
       "      <td>NaN</td>\n",
       "      <td>NaN</td>\n",
       "      <td>female</td>\n",
       "    </tr>\n",
       "  </tbody>\n",
       "</table>\n",
       "</div>"
      ],
      "text/plain": [
       "       Country Province Hospitalized_date Confirmation_date Recovered_date  \\\n",
       "272  Singapore        -        2020-02-02        2020-02-06     2020-02-17   \n",
       "273   Malaysia    Johor               NaT        2020-01-25     2020-02-08   \n",
       "274      China    Gansu        2020-07-02        2020-02-08     2020-02-17   \n",
       "275     Canada  Ontario               NaT        2020-01-25     2020-01-31   \n",
       "276     Canada  Ontario               NaT        2020-01-31     2020-02-19   \n",
       "\n",
       "        Symptoms Chronic_disease   Age     Sex  \n",
       "272          NaN             NaN  39.0  female  \n",
       "273  cough:fever             NaN  40.0    male  \n",
       "274     diarrhea             NaN   1.0  female  \n",
       "275          NaN    hypertension   NaN    male  \n",
       "276          NaN             NaN   NaN  female  "
      ]
     },
     "execution_count": 23,
     "metadata": {},
     "output_type": "execute_result"
    }
   ],
   "source": [
    "# Subset for outcome (\"Recovered\" or \"Fatal\")\n",
    "linelist.closed(outcome=\"Recovered\").tail()"
   ]
  },
  {
   "cell_type": "markdown",
   "metadata": {},
   "source": [
    "As the median value of the period from confirmation to recovery, we can calculate recovery period."
   ]
  },
  {
   "cell_type": "code",
   "execution_count": 24,
   "metadata": {
    "collapsed": false
   },
   "outputs": [
    {
     "data": {
      "text/plain": [
       "12"
      ]
     },
     "execution_count": 24,
     "metadata": {},
     "output_type": "execute_result"
    }
   ],
   "source": [
    "# Recovery period (integer) [days]\n",
    "linelist.recovery_period()"
   ]
  },
  {
   "cell_type": "markdown",
   "metadata": {},
   "source": [
    "### Population in each country\n",
    "Population values are necessary to calculate the number of susceptible people. Susceptible is a variable of SIR-derived models. This dataset was saved as `population_data`, an instance of `PopulationData` class."
   ]
  },
  {
   "cell_type": "code",
   "execution_count": 25,
   "metadata": {
    "collapsed": false
   },
   "outputs": [
    {
     "data": {
      "text/plain": [
       "covsirphy.cleaning.population.PopulationData"
      ]
     },
     "execution_count": 25,
     "metadata": {},
     "output_type": "execute_result"
    }
   ],
   "source": [
    "type(population_data)"
   ]
  },
  {
   "cell_type": "code",
   "execution_count": 26,
   "metadata": {
    "collapsed": false,
    "tags": []
   },
   "outputs": [
    {
     "name": "stdout",
     "output_type": "stream",
     "text": [
      "(Secondary source) Guidotti, E., Ardia, D., (2020), \"COVID-19 Data Hub\", Journal of Open Source Software 5(51):2376, doi: 10.21105/joss.02376.\n"
     ]
    }
   ],
   "source": [
    "# Description/citation\n",
    "print(population_data.citation)"
   ]
  },
  {
   "cell_type": "code",
   "execution_count": 27,
   "metadata": {
    "collapsed": false
   },
   "outputs": [],
   "source": [
    "# Raw data (the same as jhu_data)\n",
    "# population_data.raw.tail()"
   ]
  },
  {
   "cell_type": "code",
   "execution_count": 28,
   "metadata": {
    "collapsed": false
   },
   "outputs": [
    {
     "data": {
      "text/html": [
       "<div>\n",
       "<style scoped>\n",
       "    .dataframe tbody tr th:only-of-type {\n",
       "        vertical-align: middle;\n",
       "    }\n",
       "\n",
       "    .dataframe tbody tr th {\n",
       "        vertical-align: top;\n",
       "    }\n",
       "\n",
       "    .dataframe thead th {\n",
       "        text-align: right;\n",
       "    }\n",
       "</style>\n",
       "<table border=\"1\" class=\"dataframe\">\n",
       "  <thead>\n",
       "    <tr style=\"text-align: right;\">\n",
       "      <th></th>\n",
       "      <th>ISO3</th>\n",
       "      <th>Country</th>\n",
       "      <th>Province</th>\n",
       "      <th>Date</th>\n",
       "      <th>Population</th>\n",
       "    </tr>\n",
       "  </thead>\n",
       "  <tbody>\n",
       "    <tr>\n",
       "      <th>299760</th>\n",
       "      <td>RUS</td>\n",
       "      <td>Russia</td>\n",
       "      <td>Republic of Crimea</td>\n",
       "      <td>2020-12-20</td>\n",
       "      <td>1913731</td>\n",
       "    </tr>\n",
       "    <tr>\n",
       "      <th>299761</th>\n",
       "      <td>RUS</td>\n",
       "      <td>Russia</td>\n",
       "      <td>Republic of Crimea</td>\n",
       "      <td>2020-12-21</td>\n",
       "      <td>1913731</td>\n",
       "    </tr>\n",
       "    <tr>\n",
       "      <th>299762</th>\n",
       "      <td>RUS</td>\n",
       "      <td>Russia</td>\n",
       "      <td>Republic of Crimea</td>\n",
       "      <td>2020-12-22</td>\n",
       "      <td>1913731</td>\n",
       "    </tr>\n",
       "    <tr>\n",
       "      <th>299763</th>\n",
       "      <td>RUS</td>\n",
       "      <td>Russia</td>\n",
       "      <td>Republic of Crimea</td>\n",
       "      <td>2020-12-23</td>\n",
       "      <td>1913731</td>\n",
       "    </tr>\n",
       "    <tr>\n",
       "      <th>299764</th>\n",
       "      <td>RUS</td>\n",
       "      <td>Russia</td>\n",
       "      <td>Republic of Crimea</td>\n",
       "      <td>2020-12-24</td>\n",
       "      <td>1913731</td>\n",
       "    </tr>\n",
       "  </tbody>\n",
       "</table>\n",
       "</div>"
      ],
      "text/plain": [
       "       ISO3 Country            Province       Date  Population\n",
       "299760  RUS  Russia  Republic of Crimea 2020-12-20     1913731\n",
       "299761  RUS  Russia  Republic of Crimea 2020-12-21     1913731\n",
       "299762  RUS  Russia  Republic of Crimea 2020-12-22     1913731\n",
       "299763  RUS  Russia  Republic of Crimea 2020-12-23     1913731\n",
       "299764  RUS  Russia  Republic of Crimea 2020-12-24     1913731"
      ]
     },
     "execution_count": 28,
     "metadata": {},
     "output_type": "execute_result"
    }
   ],
   "source": [
    "# Cleaned data\n",
    "population_data.cleaned().tail()"
   ]
  },
  {
   "cell_type": "markdown",
   "metadata": {},
   "source": [
    "We will get the population values with `PopulationData.value()`."
   ]
  },
  {
   "cell_type": "code",
   "execution_count": 29,
   "metadata": {
    "collapsed": false
   },
   "outputs": [
    {
     "data": {
      "text/plain": [
       "126529100"
      ]
     },
     "execution_count": 29,
     "metadata": {},
     "output_type": "execute_result"
    }
   ],
   "source": [
    "# In a country\n",
    "population_data.value(\"Japan\", province=None)\n",
    "# In a country with ISO3 code\n",
    "# population_data.value(\"JPN\", province=None)\n",
    "# In a province (prefecture)\n",
    "# population_data.value(\"Japan\", province=\"Tokyo\")"
   ]
  },
  {
   "cell_type": "markdown",
   "metadata": {},
   "source": [
    "We can update the population values."
   ]
  },
  {
   "cell_type": "code",
   "execution_count": 30,
   "metadata": {
    "collapsed": false
   },
   "outputs": [
    {
     "name": "stdout",
     "output_type": "stream",
     "text": [
      "Before: 13942856\n",
      " After: 14002973\n"
     ]
    }
   ],
   "source": [
    "# Before\n",
    "population_before = population_data.value(\"Japan\", province=\"Tokyo\")\n",
    "print(f\"Before: {population_before}\")\n",
    "# Register population value of Tokyo in Japan\n",
    "# https://www.metro.tokyo.lg.jp/tosei/hodohappyo/press/2020/06/11/07.html\n",
    "population_data.update(14_002_973, \"Japan\", province=\"Tokyo\")\n",
    "population_after = population_data.value(\"Japan\", province=\"Tokyo\")\n",
    "print(f\" After: {population_after}\")"
   ]
  },
  {
   "cell_type": "markdown",
   "metadata": {},
   "source": [
    "### Government Response Tracker (OxCGRT)\n",
    "Government responses are tracked with [Oxford Covid-19 Government Response Tracker (OxCGRT)](https://github.com/OxCGRT/covid-policy-tracker). Because government responses and activities of persons change the parameter values of SIR-derived models, this dataset is significant when we try to forcast the number of cases.  \n",
    "With `DataLoader` class, the dataset was retrieved via [COVID-19 Data Hub](https://covid19datahub.io/) and saved as `oxcgrt_data`, an instance of `OxCGRTData` class."
   ]
  },
  {
   "cell_type": "code",
   "execution_count": 31,
   "metadata": {
    "collapsed": false
   },
   "outputs": [
    {
     "data": {
      "text/plain": [
       "covsirphy.cleaning.oxcgrt.OxCGRTData"
      ]
     },
     "execution_count": 31,
     "metadata": {},
     "output_type": "execute_result"
    }
   ],
   "source": [
    "type(oxcgrt_data)"
   ]
  },
  {
   "cell_type": "code",
   "execution_count": 32,
   "metadata": {
    "collapsed": false,
    "tags": []
   },
   "outputs": [
    {
     "name": "stdout",
     "output_type": "stream",
     "text": [
      "(Secondary source) Guidotti, E., Ardia, D., (2020), \"COVID-19 Data Hub\", Journal of Open Source Software 5(51):2376, doi: 10.21105/joss.02376.\n"
     ]
    }
   ],
   "source": [
    "# Description/citation\n",
    "print(oxcgrt_data.citation)"
   ]
  },
  {
   "cell_type": "code",
   "execution_count": 33,
   "metadata": {
    "collapsed": false
   },
   "outputs": [],
   "source": [
    "# Raw data (the same as jhu_data)\n",
    "# oxcgrt_data.raw.tail()"
   ]
  },
  {
   "cell_type": "code",
   "execution_count": 34,
   "metadata": {
    "collapsed": false
   },
   "outputs": [
    {
     "data": {
      "text/html": [
       "<div>\n",
       "<style scoped>\n",
       "    .dataframe tbody tr th:only-of-type {\n",
       "        vertical-align: middle;\n",
       "    }\n",
       "\n",
       "    .dataframe tbody tr th {\n",
       "        vertical-align: top;\n",
       "    }\n",
       "\n",
       "    .dataframe thead th {\n",
       "        text-align: right;\n",
       "    }\n",
       "</style>\n",
       "<table border=\"1\" class=\"dataframe\">\n",
       "  <thead>\n",
       "    <tr style=\"text-align: right;\">\n",
       "      <th></th>\n",
       "      <th>Date</th>\n",
       "      <th>Country</th>\n",
       "      <th>ISO3</th>\n",
       "      <th>School_closing</th>\n",
       "      <th>Workplace_closing</th>\n",
       "      <th>Cancel_events</th>\n",
       "      <th>Gatherings_restrictions</th>\n",
       "      <th>Transport_closing</th>\n",
       "      <th>Stay_home_restrictions</th>\n",
       "      <th>Internal_movement_restrictions</th>\n",
       "      <th>International_movement_restrictions</th>\n",
       "      <th>Information_campaigns</th>\n",
       "      <th>Testing_policy</th>\n",
       "      <th>Contact_tracing</th>\n",
       "      <th>Stringency_index</th>\n",
       "    </tr>\n",
       "  </thead>\n",
       "  <tbody>\n",
       "    <tr>\n",
       "      <th>357918</th>\n",
       "      <td>2020-12-20</td>\n",
       "      <td>Thailand</td>\n",
       "      <td>THA</td>\n",
       "      <td>3</td>\n",
       "      <td>2</td>\n",
       "      <td>2</td>\n",
       "      <td>3</td>\n",
       "      <td>0</td>\n",
       "      <td>1</td>\n",
       "      <td>0</td>\n",
       "      <td>4</td>\n",
       "      <td>2</td>\n",
       "      <td>1</td>\n",
       "      <td>2</td>\n",
       "      <td>76.85</td>\n",
       "    </tr>\n",
       "    <tr>\n",
       "      <th>357919</th>\n",
       "      <td>2020-12-21</td>\n",
       "      <td>Thailand</td>\n",
       "      <td>THA</td>\n",
       "      <td>3</td>\n",
       "      <td>2</td>\n",
       "      <td>2</td>\n",
       "      <td>3</td>\n",
       "      <td>0</td>\n",
       "      <td>1</td>\n",
       "      <td>0</td>\n",
       "      <td>4</td>\n",
       "      <td>2</td>\n",
       "      <td>1</td>\n",
       "      <td>2</td>\n",
       "      <td>76.85</td>\n",
       "    </tr>\n",
       "    <tr>\n",
       "      <th>357920</th>\n",
       "      <td>2020-12-22</td>\n",
       "      <td>Thailand</td>\n",
       "      <td>THA</td>\n",
       "      <td>3</td>\n",
       "      <td>2</td>\n",
       "      <td>2</td>\n",
       "      <td>3</td>\n",
       "      <td>0</td>\n",
       "      <td>1</td>\n",
       "      <td>0</td>\n",
       "      <td>4</td>\n",
       "      <td>2</td>\n",
       "      <td>1</td>\n",
       "      <td>2</td>\n",
       "      <td>76.85</td>\n",
       "    </tr>\n",
       "    <tr>\n",
       "      <th>357921</th>\n",
       "      <td>2020-12-23</td>\n",
       "      <td>Thailand</td>\n",
       "      <td>THA</td>\n",
       "      <td>3</td>\n",
       "      <td>2</td>\n",
       "      <td>2</td>\n",
       "      <td>3</td>\n",
       "      <td>0</td>\n",
       "      <td>1</td>\n",
       "      <td>0</td>\n",
       "      <td>4</td>\n",
       "      <td>2</td>\n",
       "      <td>1</td>\n",
       "      <td>2</td>\n",
       "      <td>50.00</td>\n",
       "    </tr>\n",
       "    <tr>\n",
       "      <th>357922</th>\n",
       "      <td>2020-12-24</td>\n",
       "      <td>Thailand</td>\n",
       "      <td>THA</td>\n",
       "      <td>3</td>\n",
       "      <td>2</td>\n",
       "      <td>2</td>\n",
       "      <td>3</td>\n",
       "      <td>0</td>\n",
       "      <td>1</td>\n",
       "      <td>0</td>\n",
       "      <td>4</td>\n",
       "      <td>2</td>\n",
       "      <td>1</td>\n",
       "      <td>2</td>\n",
       "      <td>50.00</td>\n",
       "    </tr>\n",
       "  </tbody>\n",
       "</table>\n",
       "</div>"
      ],
      "text/plain": [
       "             Date   Country ISO3  School_closing  Workplace_closing  \\\n",
       "357918 2020-12-20  Thailand  THA               3                  2   \n",
       "357919 2020-12-21  Thailand  THA               3                  2   \n",
       "357920 2020-12-22  Thailand  THA               3                  2   \n",
       "357921 2020-12-23  Thailand  THA               3                  2   \n",
       "357922 2020-12-24  Thailand  THA               3                  2   \n",
       "\n",
       "        Cancel_events  Gatherings_restrictions  Transport_closing  \\\n",
       "357918              2                        3                  0   \n",
       "357919              2                        3                  0   \n",
       "357920              2                        3                  0   \n",
       "357921              2                        3                  0   \n",
       "357922              2                        3                  0   \n",
       "\n",
       "        Stay_home_restrictions  Internal_movement_restrictions  \\\n",
       "357918                       1                               0   \n",
       "357919                       1                               0   \n",
       "357920                       1                               0   \n",
       "357921                       1                               0   \n",
       "357922                       1                               0   \n",
       "\n",
       "        International_movement_restrictions  Information_campaigns  \\\n",
       "357918                                    4                      2   \n",
       "357919                                    4                      2   \n",
       "357920                                    4                      2   \n",
       "357921                                    4                      2   \n",
       "357922                                    4                      2   \n",
       "\n",
       "        Testing_policy  Contact_tracing  Stringency_index  \n",
       "357918               1                2             76.85  \n",
       "357919               1                2             76.85  \n",
       "357920               1                2             76.85  \n",
       "357921               1                2             50.00  \n",
       "357922               1                2             50.00  "
      ]
     },
     "execution_count": 34,
     "metadata": {},
     "output_type": "execute_result"
    }
   ],
   "source": [
    "# Cleaned data\n",
    "oxcgrt_data.cleaned().tail()"
   ]
  },
  {
   "cell_type": "code",
   "execution_count": 35,
   "metadata": {
    "collapsed": false
   },
   "outputs": [
    {
     "data": {
      "text/html": [
       "<div>\n",
       "<style scoped>\n",
       "    .dataframe tbody tr th:only-of-type {\n",
       "        vertical-align: middle;\n",
       "    }\n",
       "\n",
       "    .dataframe tbody tr th {\n",
       "        vertical-align: top;\n",
       "    }\n",
       "\n",
       "    .dataframe thead th {\n",
       "        text-align: right;\n",
       "    }\n",
       "</style>\n",
       "<table border=\"1\" class=\"dataframe\">\n",
       "  <thead>\n",
       "    <tr style=\"text-align: right;\">\n",
       "      <th></th>\n",
       "      <th>Date</th>\n",
       "      <th>School_closing</th>\n",
       "      <th>Workplace_closing</th>\n",
       "      <th>Cancel_events</th>\n",
       "      <th>Gatherings_restrictions</th>\n",
       "      <th>Transport_closing</th>\n",
       "      <th>Stay_home_restrictions</th>\n",
       "      <th>Internal_movement_restrictions</th>\n",
       "      <th>International_movement_restrictions</th>\n",
       "      <th>Information_campaigns</th>\n",
       "      <th>Testing_policy</th>\n",
       "      <th>Contact_tracing</th>\n",
       "      <th>Stringency_index</th>\n",
       "    </tr>\n",
       "  </thead>\n",
       "  <tbody>\n",
       "    <tr>\n",
       "      <th>354</th>\n",
       "      <td>2020-12-20</td>\n",
       "      <td>1</td>\n",
       "      <td>1</td>\n",
       "      <td>1</td>\n",
       "      <td>0</td>\n",
       "      <td>1</td>\n",
       "      <td>1</td>\n",
       "      <td>1</td>\n",
       "      <td>3</td>\n",
       "      <td>2</td>\n",
       "      <td>3</td>\n",
       "      <td>2</td>\n",
       "      <td>53.7</td>\n",
       "    </tr>\n",
       "    <tr>\n",
       "      <th>355</th>\n",
       "      <td>2020-12-21</td>\n",
       "      <td>1</td>\n",
       "      <td>1</td>\n",
       "      <td>1</td>\n",
       "      <td>0</td>\n",
       "      <td>1</td>\n",
       "      <td>1</td>\n",
       "      <td>1</td>\n",
       "      <td>3</td>\n",
       "      <td>2</td>\n",
       "      <td>3</td>\n",
       "      <td>2</td>\n",
       "      <td>53.7</td>\n",
       "    </tr>\n",
       "    <tr>\n",
       "      <th>356</th>\n",
       "      <td>2020-12-22</td>\n",
       "      <td>1</td>\n",
       "      <td>1</td>\n",
       "      <td>1</td>\n",
       "      <td>0</td>\n",
       "      <td>1</td>\n",
       "      <td>1</td>\n",
       "      <td>1</td>\n",
       "      <td>3</td>\n",
       "      <td>2</td>\n",
       "      <td>3</td>\n",
       "      <td>2</td>\n",
       "      <td>53.7</td>\n",
       "    </tr>\n",
       "    <tr>\n",
       "      <th>357</th>\n",
       "      <td>2020-12-23</td>\n",
       "      <td>1</td>\n",
       "      <td>1</td>\n",
       "      <td>1</td>\n",
       "      <td>0</td>\n",
       "      <td>1</td>\n",
       "      <td>1</td>\n",
       "      <td>1</td>\n",
       "      <td>3</td>\n",
       "      <td>2</td>\n",
       "      <td>3</td>\n",
       "      <td>2</td>\n",
       "      <td>53.7</td>\n",
       "    </tr>\n",
       "    <tr>\n",
       "      <th>358</th>\n",
       "      <td>2020-12-24</td>\n",
       "      <td>1</td>\n",
       "      <td>1</td>\n",
       "      <td>1</td>\n",
       "      <td>0</td>\n",
       "      <td>1</td>\n",
       "      <td>1</td>\n",
       "      <td>1</td>\n",
       "      <td>3</td>\n",
       "      <td>2</td>\n",
       "      <td>3</td>\n",
       "      <td>2</td>\n",
       "      <td>53.7</td>\n",
       "    </tr>\n",
       "  </tbody>\n",
       "</table>\n",
       "</div>"
      ],
      "text/plain": [
       "          Date  School_closing  Workplace_closing  Cancel_events  \\\n",
       "354 2020-12-20               1                  1              1   \n",
       "355 2020-12-21               1                  1              1   \n",
       "356 2020-12-22               1                  1              1   \n",
       "357 2020-12-23               1                  1              1   \n",
       "358 2020-12-24               1                  1              1   \n",
       "\n",
       "     Gatherings_restrictions  Transport_closing  Stay_home_restrictions  \\\n",
       "354                        0                  1                       1   \n",
       "355                        0                  1                       1   \n",
       "356                        0                  1                       1   \n",
       "357                        0                  1                       1   \n",
       "358                        0                  1                       1   \n",
       "\n",
       "     Internal_movement_restrictions  International_movement_restrictions  \\\n",
       "354                               1                                    3   \n",
       "355                               1                                    3   \n",
       "356                               1                                    3   \n",
       "357                               1                                    3   \n",
       "358                               1                                    3   \n",
       "\n",
       "     Information_campaigns  Testing_policy  Contact_tracing  Stringency_index  \n",
       "354                      2               3                2              53.7  \n",
       "355                      2               3                2              53.7  \n",
       "356                      2               3                2              53.7  \n",
       "357                      2               3                2              53.7  \n",
       "358                      2               3                2              53.7  "
      ]
     },
     "execution_count": 35,
     "metadata": {},
     "output_type": "execute_result"
    }
   ],
   "source": [
    "# Subset for a country\n",
    "oxcgrt_data.subset(\"Japan\").tail()\n",
    "# We can use ISO3 codes\n",
    "# oxcgrt_data.subset(\"JPN\").tail()"
   ]
  },
  {
   "cell_type": "markdown",
   "metadata": {},
   "source": [
    "### The number of tests\n",
    "The number of tests is also key information to understand the situation.\n",
    "This dataset was saved as `pcr_data`, an instance of `PCRData` class."
   ]
  },
  {
   "cell_type": "code",
   "execution_count": 36,
   "metadata": {
    "collapsed": false
   },
   "outputs": [
    {
     "data": {
      "text/plain": [
       "covsirphy.cleaning.pcr_data.PCRData"
      ]
     },
     "execution_count": 36,
     "metadata": {},
     "output_type": "execute_result"
    }
   ],
   "source": [
    "type(pcr_data)"
   ]
  },
  {
   "cell_type": "code",
   "execution_count": 37,
   "metadata": {
    "collapsed": false
   },
   "outputs": [
    {
     "name": "stdout",
     "output_type": "stream",
     "text": [
      "(Secondary source) Guidotti, E., Ardia, D., (2020), \"COVID-19 Data Hub\", Journal of Open Source Software 5(51):2376, doi: 10.21105/joss.02376.\n",
      "Hasell, J., Mathieu, E., Beltekian, D. et al. A cross-country database of COVID-19 testing. Sci Data 7, 345 (2020). https://doi.org/10.1038/s41597-020-00688-8\n",
      "Lisphilar (2020), COVID-19 dataset in Japan, GitHub repository, https://github.com/lisphilar/covid19-sir/data/japan\n"
     ]
    }
   ],
   "source": [
    "# Description/citation\n",
    "print(pcr_data.citation)"
   ]
  },
  {
   "cell_type": "code",
   "execution_count": 38,
   "metadata": {
    "collapsed": false
   },
   "outputs": [],
   "source": [
    "# Raw data (the same as jhu_data)\n",
    "# pcr_data.raw.tail()"
   ]
  },
  {
   "cell_type": "code",
   "execution_count": 39,
   "metadata": {
    "collapsed": false
   },
   "outputs": [
    {
     "data": {
      "text/html": [
       "<div>\n",
       "<style scoped>\n",
       "    .dataframe tbody tr th:only-of-type {\n",
       "        vertical-align: middle;\n",
       "    }\n",
       "\n",
       "    .dataframe tbody tr th {\n",
       "        vertical-align: top;\n",
       "    }\n",
       "\n",
       "    .dataframe thead th {\n",
       "        text-align: right;\n",
       "    }\n",
       "</style>\n",
       "<table border=\"1\" class=\"dataframe\">\n",
       "  <thead>\n",
       "    <tr style=\"text-align: right;\">\n",
       "      <th></th>\n",
       "      <th>Date</th>\n",
       "      <th>Country</th>\n",
       "      <th>Province</th>\n",
       "      <th>Tests</th>\n",
       "      <th>Confirmed</th>\n",
       "    </tr>\n",
       "  </thead>\n",
       "  <tbody>\n",
       "    <tr>\n",
       "      <th>13848</th>\n",
       "      <td>2020-12-20</td>\n",
       "      <td>Japan</td>\n",
       "      <td>-</td>\n",
       "      <td>4362886</td>\n",
       "      <td>195880</td>\n",
       "    </tr>\n",
       "    <tr>\n",
       "      <th>13849</th>\n",
       "      <td>2020-12-21</td>\n",
       "      <td>Japan</td>\n",
       "      <td>-</td>\n",
       "      <td>4379067</td>\n",
       "      <td>198523</td>\n",
       "    </tr>\n",
       "    <tr>\n",
       "      <th>13850</th>\n",
       "      <td>2020-12-22</td>\n",
       "      <td>Japan</td>\n",
       "      <td>-</td>\n",
       "      <td>4439273</td>\n",
       "      <td>200658</td>\n",
       "    </tr>\n",
       "    <tr>\n",
       "      <th>13851</th>\n",
       "      <td>2020-12-23</td>\n",
       "      <td>Japan</td>\n",
       "      <td>-</td>\n",
       "      <td>4473256</td>\n",
       "      <td>203113</td>\n",
       "    </tr>\n",
       "    <tr>\n",
       "      <th>13852</th>\n",
       "      <td>2020-12-24</td>\n",
       "      <td>Japan</td>\n",
       "      <td>-</td>\n",
       "      <td>4547779</td>\n",
       "      <td>206139</td>\n",
       "    </tr>\n",
       "  </tbody>\n",
       "</table>\n",
       "</div>"
      ],
      "text/plain": [
       "            Date Country Province    Tests  Confirmed\n",
       "13848 2020-12-20   Japan        -  4362886     195880\n",
       "13849 2020-12-21   Japan        -  4379067     198523\n",
       "13850 2020-12-22   Japan        -  4439273     200658\n",
       "13851 2020-12-23   Japan        -  4473256     203113\n",
       "13852 2020-12-24   Japan        -  4547779     206139"
      ]
     },
     "execution_count": 39,
     "metadata": {},
     "output_type": "execute_result"
    }
   ],
   "source": [
    "# Cleaned data\n",
    "pcr_data.cleaned().tail()"
   ]
  },
  {
   "cell_type": "code",
   "execution_count": 40,
   "metadata": {
    "collapsed": false
   },
   "outputs": [
    {
     "data": {
      "text/html": [
       "<div>\n",
       "<style scoped>\n",
       "    .dataframe tbody tr th:only-of-type {\n",
       "        vertical-align: middle;\n",
       "    }\n",
       "\n",
       "    .dataframe tbody tr th {\n",
       "        vertical-align: top;\n",
       "    }\n",
       "\n",
       "    .dataframe thead th {\n",
       "        text-align: right;\n",
       "    }\n",
       "</style>\n",
       "<table border=\"1\" class=\"dataframe\">\n",
       "  <thead>\n",
       "    <tr style=\"text-align: right;\">\n",
       "      <th></th>\n",
       "      <th>Date</th>\n",
       "      <th>Tests</th>\n",
       "      <th>Confirmed</th>\n",
       "    </tr>\n",
       "  </thead>\n",
       "  <tbody>\n",
       "  </tbody>\n",
       "</table>\n",
       "</div>"
      ],
      "text/plain": [
       "Empty DataFrame\n",
       "Columns: [Date, Tests, Confirmed]\n",
       "Index: []"
      ]
     },
     "execution_count": 40,
     "metadata": {},
     "output_type": "execute_result"
    }
   ],
   "source": [
    "# Subset for a country\n",
    "pcr_data.subset(\"Japan\").tail()\n",
    "# We can use ISO3 codes\n",
    "# pcr_data.subset(\"JPN\").tail()"
   ]
  },
  {
   "cell_type": "markdown",
   "metadata": {},
   "source": [
    "Under the assumption that all tests were PCR test, we can calculate the positive rate of PCR tests as \"the number of confirmed cases per the number of tests\"."
   ]
  },
  {
   "cell_type": "code",
   "execution_count": 41,
   "metadata": {
    "collapsed": false
   },
   "outputs": [
    {
     "data": {
      "image/png": "[encoded data removed]",
      "text/plain": [
       "<Figure size 648x432 with 1 Axes>"
      ]
     },
     "metadata": {},
     "output_type": "display_data"
    }
   ],
   "source": [
    "# Positive rate in Japan\n",
    "_ = pcr_data.positive_rate(\"Japan\")"
   ]
  },
  {
   "cell_type": "markdown",
   "metadata": {},
   "source": [
    "### The number of vaccines\n",
    "The number of vaccinations is a key factor to end the outbreak as soon as possible. This dataset was saved as `vaccine_data`, an instance of `VaccineData` class."
   ]
  },
  {
   "cell_type": "code",
   "execution_count": 42,
   "metadata": {
    "collapsed": false
   },
   "outputs": [
    {
     "data": {
      "text/plain": [
       "covsirphy.cleaning.vaccine_data.VaccineData"
      ]
     },
     "execution_count": 42,
     "metadata": {},
     "output_type": "execute_result"
    }
   ],
   "source": [
    "# The number of vaccines (will be prepared in 2.14.0)\n",
    "type(vaccine_data)"
   ]
  },
  {
   "cell_type": "code",
   "execution_count": 43,
   "metadata": {
    "collapsed": false
   },
   "outputs": [
    {
     "name": "stdout",
     "output_type": "stream",
     "text": [
      "Hasell, J., Mathieu, E., Beltekian, D. et al. A cross-country database of COVID-19 testing. Sci Data 7, 345 (2020). https://doi.org/10.1038/s41597-020-00688-8\n"
     ]
    }
   ],
   "source": [
    "# Description/citation\n",
    "print(vaccine_data.citation)"
   ]
  },
  {
   "cell_type": "code",
   "execution_count": 44,
   "metadata": {
    "collapsed": false
   },
   "outputs": [],
   "source": [
    "# Raw data\n",
    "# vaccine_data.raw.tail()"
   ]
  },
  {
   "cell_type": "code",
   "execution_count": 45,
   "metadata": {
    "collapsed": false
   },
   "outputs": [
    {
     "data": {
      "text/html": [
       "<div>\n",
       "<style scoped>\n",
       "    .dataframe tbody tr th:only-of-type {\n",
       "        vertical-align: middle;\n",
       "    }\n",
       "\n",
       "    .dataframe tbody tr th {\n",
       "        vertical-align: top;\n",
       "    }\n",
       "\n",
       "    .dataframe thead th {\n",
       "        text-align: right;\n",
       "    }\n",
       "</style>\n",
       "<table border=\"1\" class=\"dataframe\">\n",
       "  <thead>\n",
       "    <tr style=\"text-align: right;\">\n",
       "      <th></th>\n",
       "      <th>Date</th>\n",
       "      <th>Country</th>\n",
       "      <th>Product</th>\n",
       "      <th>Vaccinations</th>\n",
       "    </tr>\n",
       "  </thead>\n",
       "  <tbody>\n",
       "    <tr>\n",
       "      <th>23</th>\n",
       "      <td>2020-12-19</td>\n",
       "      <td>United States</td>\n",
       "      <td>Pfizer/BioNTech</td>\n",
       "      <td>272001</td>\n",
       "    </tr>\n",
       "    <tr>\n",
       "      <th>24</th>\n",
       "      <td>2020-12-20</td>\n",
       "      <td>United States</td>\n",
       "      <td>Pfizer/BioNTech</td>\n",
       "      <td>556208</td>\n",
       "    </tr>\n",
       "    <tr>\n",
       "      <th>25</th>\n",
       "      <td>2020-12-21</td>\n",
       "      <td>United States</td>\n",
       "      <td>Pfizer/BioNTech</td>\n",
       "      <td>614117</td>\n",
       "    </tr>\n",
       "    <tr>\n",
       "      <th>26</th>\n",
       "      <td>2020-12-23</td>\n",
       "      <td>United States</td>\n",
       "      <td>Pfizer/BioNTech</td>\n",
       "      <td>1008025</td>\n",
       "    </tr>\n",
       "    <tr>\n",
       "      <th>27</th>\n",
       "      <td>2020-12-16</td>\n",
       "      <td>Wales</td>\n",
       "      <td>Pfizer/BioNTech</td>\n",
       "      <td>7897</td>\n",
       "    </tr>\n",
       "  </tbody>\n",
       "</table>\n",
       "</div>"
      ],
      "text/plain": [
       "         Date        Country          Product  Vaccinations\n",
       "23 2020-12-19  United States  Pfizer/BioNTech        272001\n",
       "24 2020-12-20  United States  Pfizer/BioNTech        556208\n",
       "25 2020-12-21  United States  Pfizer/BioNTech        614117\n",
       "26 2020-12-23  United States  Pfizer/BioNTech       1008025\n",
       "27 2020-12-16          Wales  Pfizer/BioNTech          7897"
      ]
     },
     "execution_count": 45,
     "metadata": {},
     "output_type": "execute_result"
    }
   ],
   "source": [
    "# Cleaned data\n",
    "vaccine_data.cleaned().tail()"
   ]
  },
  {
   "cell_type": "code",
   "execution_count": 46,
   "metadata": {
    "collapsed": false
   },
   "outputs": [
    {
     "data": {
      "text/plain": [
       "['Canada',\n",
       " 'China',\n",
       " 'England',\n",
       " 'Israel',\n",
       " 'Northern Ireland',\n",
       " 'Russia',\n",
       " 'Scotland',\n",
       " 'United Kingdom',\n",
       " 'United States',\n",
       " 'Wales']"
      ]
     },
     "execution_count": 46,
     "metadata": {},
     "output_type": "execute_result"
    }
   ],
   "source": [
    "# Registered countries\n",
    "vaccine_data.countries()"
   ]
  },
  {
   "cell_type": "code",
   "execution_count": 47,
   "metadata": {
    "collapsed": false
   },
   "outputs": [
    {
     "data": {
      "text/html": [
       "<div>\n",
       "<style scoped>\n",
       "    .dataframe tbody tr th:only-of-type {\n",
       "        vertical-align: middle;\n",
       "    }\n",
       "\n",
       "    .dataframe tbody tr th {\n",
       "        vertical-align: top;\n",
       "    }\n",
       "\n",
       "    .dataframe thead th {\n",
       "        text-align: right;\n",
       "    }\n",
       "</style>\n",
       "<table border=\"1\" class=\"dataframe\">\n",
       "  <thead>\n",
       "    <tr style=\"text-align: right;\">\n",
       "      <th></th>\n",
       "      <th>Date</th>\n",
       "      <th>Vaccinations</th>\n",
       "    </tr>\n",
       "  </thead>\n",
       "  <tbody>\n",
       "    <tr>\n",
       "      <th>1</th>\n",
       "      <td>2020-12-17</td>\n",
       "      <td>137897</td>\n",
       "    </tr>\n",
       "    <tr>\n",
       "      <th>2</th>\n",
       "      <td>2020-12-18</td>\n",
       "      <td>137897</td>\n",
       "    </tr>\n",
       "    <tr>\n",
       "      <th>3</th>\n",
       "      <td>2020-12-19</td>\n",
       "      <td>350000</td>\n",
       "    </tr>\n",
       "    <tr>\n",
       "      <th>4</th>\n",
       "      <td>2020-12-20</td>\n",
       "      <td>350000</td>\n",
       "    </tr>\n",
       "    <tr>\n",
       "      <th>5</th>\n",
       "      <td>2020-12-21</td>\n",
       "      <td>500000</td>\n",
       "    </tr>\n",
       "  </tbody>\n",
       "</table>\n",
       "</div>"
      ],
      "text/plain": [
       "        Date  Vaccinations\n",
       "1 2020-12-17        137897\n",
       "2 2020-12-18        137897\n",
       "3 2020-12-19        350000\n",
       "4 2020-12-20        350000\n",
       "5 2020-12-21        500000"
      ]
     },
     "execution_count": 47,
     "metadata": {},
     "output_type": "execute_result"
    }
   ],
   "source": [
    "# Subset for a country\n",
    "vaccine_data.subset(\"United Kingdom\").tail()\n",
    "# We can use ISO3 codes\n",
    "# pcr_data.subset(\"GBR\").tail()"
   ]
  }
 ],
 "metadata": {
  "kernelspec": {
   "display_name": "Python 3.8.5 64-bit ('covid19-sir': pipenv)",
   "metadata": {
    "interpreter": {
     "hash": "aa53c8c6e6798222a2084c11cc25017700a8d3ad495b587e3a634f357767115f"
    }
   },
   "name": "python3"
  },
  "language_info": {
   "codemirror_mode": {
    "name": "ipython",
    "version": 3
   },
   "file_extension": ".py",
   "mimetype": "text/x-python",
   "name": "python",
   "nbconvert_exporter": "python",
   "pygments_lexer": "ipython3",
   "version": "3.8.5-final"
  }
 },
 "nbformat": 4,
 "nbformat_minor": 4
}
