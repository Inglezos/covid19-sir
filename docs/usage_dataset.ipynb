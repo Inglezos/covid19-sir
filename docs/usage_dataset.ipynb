{
 "cells": [
  {
   "cell_type": "markdown",
   "id": "stretch-commercial",
   "metadata": {},
   "source": [
    "# Usage: datasets\n",
    "Here, we will review the raw/cleaned datasets. `Scenario` class performs data cleaning internally using `JHUData` class and so on, but it is important to review the features and data types before analysing them."
   ]
  },
  {
   "cell_type": "markdown",
   "id": "overhead-recipient",
   "metadata": {},
   "source": [
    "### Preparation\n",
    "Prepare the packages."
   ]
  },
  {
   "cell_type": "code",
   "execution_count": 1,
   "id": "protective-classic",
   "metadata": {
    "collapsed": false,
    "execution": {
     "iopub.execute_input": "2021-02-12T16:20:02.141723Z",
     "iopub.status.busy": "2021-02-12T16:20:02.140883Z",
     "iopub.status.idle": "2021-02-12T16:20:02.144451Z",
     "shell.execute_reply": "2021-02-12T16:20:02.145740Z"
    }
   },
   "outputs": [],
   "source": [
    "# Standard users\n",
    "# !pip install covsirphy"
   ]
  },
  {
   "cell_type": "code",
   "execution_count": 2,
   "id": "danish-sport",
   "metadata": {
    "collapsed": false,
    "execution": {
     "iopub.execute_input": "2021-02-12T16:20:02.162638Z",
     "iopub.status.busy": "2021-02-12T16:20:02.161909Z",
     "iopub.status.idle": "2021-02-12T16:20:02.164981Z",
     "shell.execute_reply": "2021-02-12T16:20:02.165789Z"
    }
   },
   "outputs": [],
   "source": [
    "# Developers (Note: this notebook is in example directory)\n",
    "import os\n",
    "os.chdir(\"../\")"
   ]
  },
  {
   "cell_type": "code",
   "execution_count": 3,
   "id": "stopped-contrast",
   "metadata": {
    "collapsed": false,
    "execution": {
     "iopub.execute_input": "2021-02-12T16:20:02.170737Z",
     "iopub.status.busy": "2021-02-12T16:20:02.170002Z",
     "iopub.status.idle": "2021-02-12T16:20:02.174550Z",
     "shell.execute_reply": "2021-02-12T16:20:02.175817Z"
    }
   },
   "outputs": [],
   "source": [
    "from pprint import pprint"
   ]
  },
  {
   "cell_type": "code",
   "execution_count": 4,
   "id": "amber-refrigerator",
   "metadata": {
    "collapsed": false,
    "execution": {
     "iopub.execute_input": "2021-02-12T16:20:02.181824Z",
     "iopub.status.busy": "2021-02-12T16:20:02.180638Z",
     "iopub.status.idle": "2021-02-12T16:20:07.659677Z",
     "shell.execute_reply": "2021-02-12T16:20:07.660315Z"
    },
    "tags": []
   },
   "outputs": [
    {
     "data": {
      "text/plain": [
       "'2.16.1'"
      ]
     },
     "execution_count": 1,
     "metadata": {},
     "output_type": "execute_result"
    }
   ],
   "source": [
    "import covsirphy as cs\n",
    "cs.__version__"
   ]
  },
  {
   "cell_type": "markdown",
   "id": "applied-standard",
   "metadata": {},
   "source": [
    "### Dataset preparation\n",
    "Download the datasets to \"input\" directory and load them.\n",
    "\n",
    "If \"input\" directory has the datasets, `DataLoader` instance will load the local files. If the datasets were updated in remote servers, `DataLoader` will update the local files automatically and download the datasets to \"input\" directory and load them."
   ]
  },
  {
   "cell_type": "code",
   "execution_count": 5,
   "id": "yellow-roads",
   "metadata": {
    "collapsed": false,
    "execution": {
     "iopub.execute_input": "2021-02-12T16:20:07.669363Z",
     "iopub.status.busy": "2021-02-12T16:20:07.668154Z",
     "iopub.status.idle": "2021-02-12T16:20:07.671535Z",
     "shell.execute_reply": "2021-02-12T16:20:07.672032Z"
    }
   },
   "outputs": [],
   "source": [
    "# Create DataLoader instance\n",
    "data_loader = cs.DataLoader(\"input\")"
   ]
  },
  {
   "cell_type": "code",
   "execution_count": 6,
   "id": "handled-thomas",
   "metadata": {
    "collapsed": false,
    "execution": {
     "iopub.execute_input": "2021-02-12T16:20:07.682953Z",
     "iopub.status.busy": "2021-02-12T16:20:07.681743Z",
     "iopub.status.idle": "2021-02-12T16:21:58.483445Z",
     "shell.execute_reply": "2021-02-12T16:21:58.483774Z"
    },
    "tags": []
   },
   "outputs": [
    {
     "name": "stdout",
     "output_type": "stream",
     "text": [
      "Retrieving linelist from Open COVID-19 Data Working Group repository: https://github.com/beoutbreakprepared/nCoV2019\n"
     ]
    },
    {
     "name": "stdout",
     "output_type": "stream",
     "text": [
      "Retrieving COVID-19 vaccination dataset from https://covid.ourworldindata.org/data/\n"
     ]
    }
   ],
   "source": [
    "# (Main) The number of cases (JHU style)\n",
    "jhu_data = data_loader.jhu()\n",
    "# (Main) Population in each country\n",
    "population_data = data_loader.population()\n",
    "# (Main) Government Response Tracker (OxCGRT)\n",
    "oxcgrt_data = data_loader.oxcgrt()\n",
    "# Linelist of case reports\n",
    "linelist = data_loader.linelist()\n",
    "# The number of tests\n",
    "pcr_data = data_loader.pcr()\n",
    "# The number of vaccinations\n",
    "vaccine_data = data_loader.vaccine()\n",
    "# Population pyramid\n",
    "pyramid_data = data_loader.pyramid()\n",
    "# Japan-specific dataset\n",
    "japan_data = data_loader.japan()"
   ]
  },
  {
   "cell_type": "markdown",
   "id": "moving-accident",
   "metadata": {},
   "source": [
    "### The number of cases (JHU style)\n",
    "The main dataset is that of the number of cases and was saved as `jhu_data`, an instance of `JHUData` class. This includes \"Confirmed\", \"Infected\", \"Recovered\" and \"Fatal\". \"Infected\" was calculated as \"Confirmed - Recovered - Fatal\"."
   ]
  },
  {
   "cell_type": "code",
   "execution_count": 7,
   "id": "behavioral-bibliography",
   "metadata": {
    "collapsed": false,
    "execution": {
     "iopub.execute_input": "2021-02-12T16:21:58.491383Z",
     "iopub.status.busy": "2021-02-12T16:21:58.490025Z",
     "iopub.status.idle": "2021-02-12T16:21:58.495477Z",
     "shell.execute_reply": "2021-02-12T16:21:58.495844Z"
    }
   },
   "outputs": [
    {
     "data": {
      "text/plain": [
       "covsirphy.cleaning.jhu_data.JHUData"
      ]
     },
     "execution_count": 1,
     "metadata": {},
     "output_type": "execute_result"
    }
   ],
   "source": [
    "type(jhu_data)"
   ]
  },
  {
   "cell_type": "markdown",
   "id": "universal-chuck",
   "metadata": {},
   "source": [
    "The dataset will be retrieved from [COVID-19 Data Hub](https://covid19datahub.io/) and [Data folder of CovsirPhy project](https://github.com/lisphilar/covid19-sir/tree/master/data). Description of these projects will be shown as follows."
   ]
  },
  {
   "cell_type": "code",
   "execution_count": 8,
   "id": "executive-interest",
   "metadata": {
    "collapsed": false,
    "execution": {
     "iopub.execute_input": "2021-02-12T16:21:58.499424Z",
     "iopub.status.busy": "2021-02-12T16:21:58.498986Z",
     "iopub.status.idle": "2021-02-12T16:21:58.502050Z",
     "shell.execute_reply": "2021-02-12T16:21:58.501582Z"
    },
    "tags": []
   },
   "outputs": [
    {
     "name": "stdout",
     "output_type": "stream",
     "text": [
      "(Secondary source) Guidotti, E., Ardia, D., (2020), \"COVID-19 Data Hub\", Journal of Open Source Software 5(51):2376, doi: 10.21105/joss.02376.\n",
      "Lisphilar (2020), COVID-19 dataset in Japan, GitHub repository, https://github.com/lisphilar/covid19-sir/data/japan\n"
     ]
    }
   ],
   "source": [
    "# Description/citation\n",
    "print(jhu_data.citation)"
   ]
  },
  {
   "cell_type": "code",
   "execution_count": 9,
   "id": "royal-priest",
   "metadata": {
    "collapsed": false,
    "execution": {
     "iopub.execute_input": "2021-02-12T16:21:58.504918Z",
     "iopub.status.busy": "2021-02-12T16:21:58.504443Z",
     "iopub.status.idle": "2021-02-12T16:21:58.506474Z",
     "shell.execute_reply": "2021-02-12T16:21:58.507125Z"
    },
    "tags": []
   },
   "outputs": [],
   "source": [
    "# Detailed citation list of COVID-19 Data Hub\n",
    "# print(data_loader.covid19dh_citation)"
   ]
  },
  {
   "cell_type": "code",
   "execution_count": 10,
   "id": "floral-radical",
   "metadata": {
    "collapsed": false,
    "execution": {
     "iopub.execute_input": "2021-02-12T16:21:58.519190Z",
     "iopub.status.busy": "2021-02-12T16:21:58.518713Z",
     "iopub.status.idle": "2021-02-12T16:21:58.545197Z",
     "shell.execute_reply": "2021-02-12T16:21:58.544310Z"
    }
   },
   "outputs": [
    {
     "data": {
      "text/html": [
       "<div>\n",
       "<style scoped>\n",
       "    .dataframe tbody tr th:only-of-type {\n",
       "        vertical-align: middle;\n",
       "    }\n",
       "\n",
       "    .dataframe tbody tr th {\n",
       "        vertical-align: top;\n",
       "    }\n",
       "\n",
       "    .dataframe thead th {\n",
       "        text-align: right;\n",
       "    }\n",
       "</style>\n",
       "<table border=\"1\" class=\"dataframe\">\n",
       "  <thead>\n",
       "    <tr style=\"text-align: right;\">\n",
       "      <th></th>\n",
       "      <th>ObservationDate</th>\n",
       "      <th>Tests</th>\n",
       "      <th>Confirmed</th>\n",
       "      <th>Recovered</th>\n",
       "      <th>Deaths</th>\n",
       "      <th>Population</th>\n",
       "      <th>ISO3</th>\n",
       "      <th>Province/State</th>\n",
       "      <th>Country/Region</th>\n",
       "      <th>school_closing</th>\n",
       "      <th>...</th>\n",
       "      <th>cancel_events</th>\n",
       "      <th>gatherings_restrictions</th>\n",
       "      <th>transport_closing</th>\n",
       "      <th>stay_home_restrictions</th>\n",
       "      <th>internal_movement_restrictions</th>\n",
       "      <th>international_movement_restrictions</th>\n",
       "      <th>information_campaigns</th>\n",
       "      <th>testing_policy</th>\n",
       "      <th>contact_tracing</th>\n",
       "      <th>stringency_index</th>\n",
       "    </tr>\n",
       "  </thead>\n",
       "  <tbody>\n",
       "    <tr>\n",
       "      <th>20658</th>\n",
       "      <td>2021-02-08</td>\n",
       "      <td>5505</td>\n",
       "      <td>1314.0</td>\n",
       "      <td>1271</td>\n",
       "      <td>21</td>\n",
       "      <td>107808.0</td>\n",
       "      <td>COL</td>\n",
       "      <td>Vichada</td>\n",
       "      <td>Colombia</td>\n",
       "      <td>3</td>\n",
       "      <td>...</td>\n",
       "      <td>1</td>\n",
       "      <td>3</td>\n",
       "      <td>1</td>\n",
       "      <td>1</td>\n",
       "      <td>1</td>\n",
       "      <td>4</td>\n",
       "      <td>2</td>\n",
       "      <td>2</td>\n",
       "      <td>2</td>\n",
       "      <td>81.02</td>\n",
       "    </tr>\n",
       "    <tr>\n",
       "      <th>20659</th>\n",
       "      <td>2021-02-09</td>\n",
       "      <td>5618</td>\n",
       "      <td>1314.0</td>\n",
       "      <td>1282</td>\n",
       "      <td>21</td>\n",
       "      <td>107808.0</td>\n",
       "      <td>COL</td>\n",
       "      <td>Vichada</td>\n",
       "      <td>Colombia</td>\n",
       "      <td>3</td>\n",
       "      <td>...</td>\n",
       "      <td>1</td>\n",
       "      <td>3</td>\n",
       "      <td>1</td>\n",
       "      <td>1</td>\n",
       "      <td>1</td>\n",
       "      <td>4</td>\n",
       "      <td>2</td>\n",
       "      <td>2</td>\n",
       "      <td>2</td>\n",
       "      <td>81.02</td>\n",
       "    </tr>\n",
       "    <tr>\n",
       "      <th>20660</th>\n",
       "      <td>2021-02-10</td>\n",
       "      <td>5670</td>\n",
       "      <td>1322.0</td>\n",
       "      <td>1286</td>\n",
       "      <td>21</td>\n",
       "      <td>107808.0</td>\n",
       "      <td>COL</td>\n",
       "      <td>Vichada</td>\n",
       "      <td>Colombia</td>\n",
       "      <td>3</td>\n",
       "      <td>...</td>\n",
       "      <td>1</td>\n",
       "      <td>3</td>\n",
       "      <td>1</td>\n",
       "      <td>1</td>\n",
       "      <td>1</td>\n",
       "      <td>4</td>\n",
       "      <td>2</td>\n",
       "      <td>2</td>\n",
       "      <td>2</td>\n",
       "      <td>81.02</td>\n",
       "    </tr>\n",
       "    <tr>\n",
       "      <th>20661</th>\n",
       "      <td>2021-02-11</td>\n",
       "      <td>5687</td>\n",
       "      <td>1334.0</td>\n",
       "      <td>1294</td>\n",
       "      <td>21</td>\n",
       "      <td>107808.0</td>\n",
       "      <td>COL</td>\n",
       "      <td>Vichada</td>\n",
       "      <td>Colombia</td>\n",
       "      <td>3</td>\n",
       "      <td>...</td>\n",
       "      <td>1</td>\n",
       "      <td>3</td>\n",
       "      <td>1</td>\n",
       "      <td>1</td>\n",
       "      <td>1</td>\n",
       "      <td>4</td>\n",
       "      <td>2</td>\n",
       "      <td>2</td>\n",
       "      <td>2</td>\n",
       "      <td>81.02</td>\n",
       "    </tr>\n",
       "    <tr>\n",
       "      <th>20662</th>\n",
       "      <td>2021-02-12</td>\n",
       "      <td>5687</td>\n",
       "      <td>1334.0</td>\n",
       "      <td>1294</td>\n",
       "      <td>21</td>\n",
       "      <td>107808.0</td>\n",
       "      <td>COL</td>\n",
       "      <td>Vichada</td>\n",
       "      <td>Colombia</td>\n",
       "      <td>3</td>\n",
       "      <td>...</td>\n",
       "      <td>1</td>\n",
       "      <td>3</td>\n",
       "      <td>1</td>\n",
       "      <td>1</td>\n",
       "      <td>1</td>\n",
       "      <td>4</td>\n",
       "      <td>2</td>\n",
       "      <td>2</td>\n",
       "      <td>2</td>\n",
       "      <td>81.02</td>\n",
       "    </tr>\n",
       "  </tbody>\n",
       "</table>\n",
       "<p>5 rows × 21 columns</p>\n",
       "</div>"
      ],
      "text/plain": [
       "      ObservationDate  Tests  Confirmed  Recovered  Deaths  Population ISO3  \\\n",
       "20658      2021-02-08   5505     1314.0       1271      21    107808.0  COL   \n",
       "20659      2021-02-09   5618     1314.0       1282      21    107808.0  COL   \n",
       "20660      2021-02-10   5670     1322.0       1286      21    107808.0  COL   \n",
       "20661      2021-02-11   5687     1334.0       1294      21    107808.0  COL   \n",
       "20662      2021-02-12   5687     1334.0       1294      21    107808.0  COL   \n",
       "\n",
       "      Province/State Country/Region  school_closing  ...  cancel_events  \\\n",
       "20658        Vichada       Colombia               3  ...              1   \n",
       "20659        Vichada       Colombia               3  ...              1   \n",
       "20660        Vichada       Colombia               3  ...              1   \n",
       "20661        Vichada       Colombia               3  ...              1   \n",
       "20662        Vichada       Colombia               3  ...              1   \n",
       "\n",
       "       gatherings_restrictions  transport_closing  stay_home_restrictions  \\\n",
       "20658                        3                  1                       1   \n",
       "20659                        3                  1                       1   \n",
       "20660                        3                  1                       1   \n",
       "20661                        3                  1                       1   \n",
       "20662                        3                  1                       1   \n",
       "\n",
       "       internal_movement_restrictions  international_movement_restrictions  \\\n",
       "20658                               1                                    4   \n",
       "20659                               1                                    4   \n",
       "20660                               1                                    4   \n",
       "20661                               1                                    4   \n",
       "20662                               1                                    4   \n",
       "\n",
       "       information_campaigns  testing_policy  contact_tracing  \\\n",
       "20658                      2               2                2   \n",
       "20659                      2               2                2   \n",
       "20660                      2               2                2   \n",
       "20661                      2               2                2   \n",
       "20662                      2               2                2   \n",
       "\n",
       "       stringency_index  \n",
       "20658             81.02  \n",
       "20659             81.02  \n",
       "20660             81.02  \n",
       "20661             81.02  \n",
       "20662             81.02  \n",
       "\n",
       "[5 rows x 21 columns]"
      ]
     },
     "execution_count": 1,
     "metadata": {},
     "output_type": "execute_result"
    }
   ],
   "source": [
    "# Raw data\n",
    "jhu_data.raw.tail()"
   ]
  },
  {
   "cell_type": "code",
   "execution_count": 11,
   "id": "jewish-sponsorship",
   "metadata": {
    "collapsed": false,
    "execution": {
     "iopub.execute_input": "2021-02-12T16:21:58.557951Z",
     "iopub.status.busy": "2021-02-12T16:21:58.554793Z",
     "iopub.status.idle": "2021-02-12T16:21:58.563168Z",
     "shell.execute_reply": "2021-02-12T16:21:58.563507Z"
    }
   },
   "outputs": [
    {
     "data": {
      "text/html": [
       "<div>\n",
       "<style scoped>\n",
       "    .dataframe tbody tr th:only-of-type {\n",
       "        vertical-align: middle;\n",
       "    }\n",
       "\n",
       "    .dataframe tbody tr th {\n",
       "        vertical-align: top;\n",
       "    }\n",
       "\n",
       "    .dataframe thead th {\n",
       "        text-align: right;\n",
       "    }\n",
       "</style>\n",
       "<table border=\"1\" class=\"dataframe\">\n",
       "  <thead>\n",
       "    <tr style=\"text-align: right;\">\n",
       "      <th></th>\n",
       "      <th>Date</th>\n",
       "      <th>Country</th>\n",
       "      <th>Province</th>\n",
       "      <th>Confirmed</th>\n",
       "      <th>Infected</th>\n",
       "      <th>Fatal</th>\n",
       "      <th>Recovered</th>\n",
       "    </tr>\n",
       "  </thead>\n",
       "  <tbody>\n",
       "    <tr>\n",
       "      <th>16249</th>\n",
       "      <td>2021-02-07</td>\n",
       "      <td>Japan</td>\n",
       "      <td>-</td>\n",
       "      <td>403435</td>\n",
       "      <td>34866</td>\n",
       "      <td>6338</td>\n",
       "      <td>362231</td>\n",
       "    </tr>\n",
       "    <tr>\n",
       "      <th>16250</th>\n",
       "      <td>2021-02-08</td>\n",
       "      <td>Japan</td>\n",
       "      <td>-</td>\n",
       "      <td>404990</td>\n",
       "      <td>33357</td>\n",
       "      <td>6395</td>\n",
       "      <td>365238</td>\n",
       "    </tr>\n",
       "    <tr>\n",
       "      <th>16251</th>\n",
       "      <td>2021-02-09</td>\n",
       "      <td>Japan</td>\n",
       "      <td>-</td>\n",
       "      <td>406766</td>\n",
       "      <td>31477</td>\n",
       "      <td>6476</td>\n",
       "      <td>368813</td>\n",
       "    </tr>\n",
       "    <tr>\n",
       "      <th>16252</th>\n",
       "      <td>2021-02-10</td>\n",
       "      <td>Japan</td>\n",
       "      <td>-</td>\n",
       "      <td>408186</td>\n",
       "      <td>29094</td>\n",
       "      <td>6557</td>\n",
       "      <td>372535</td>\n",
       "    </tr>\n",
       "    <tr>\n",
       "      <th>16253</th>\n",
       "      <td>2021-02-11</td>\n",
       "      <td>Japan</td>\n",
       "      <td>-</td>\n",
       "      <td>410012</td>\n",
       "      <td>27880</td>\n",
       "      <td>6678</td>\n",
       "      <td>375454</td>\n",
       "    </tr>\n",
       "  </tbody>\n",
       "</table>\n",
       "</div>"
      ],
      "text/plain": [
       "            Date Country Province  Confirmed  Infected  Fatal  Recovered\n",
       "16249 2021-02-07   Japan        -     403435     34866   6338     362231\n",
       "16250 2021-02-08   Japan        -     404990     33357   6395     365238\n",
       "16251 2021-02-09   Japan        -     406766     31477   6476     368813\n",
       "16252 2021-02-10   Japan        -     408186     29094   6557     372535\n",
       "16253 2021-02-11   Japan        -     410012     27880   6678     375454"
      ]
     },
     "execution_count": 1,
     "metadata": {},
     "output_type": "execute_result"
    }
   ],
   "source": [
    "# Cleaned data\n",
    "jhu_data.cleaned().tail()"
   ]
  },
  {
   "cell_type": "code",
   "execution_count": 12,
   "id": "interim-jersey",
   "metadata": {
    "collapsed": false,
    "execution": {
     "iopub.execute_input": "2021-02-12T16:21:58.571099Z",
     "iopub.status.busy": "2021-02-12T16:21:58.570605Z",
     "iopub.status.idle": "2021-02-12T16:21:58.586759Z",
     "shell.execute_reply": "2021-02-12T16:21:58.587140Z"
    }
   },
   "outputs": [
    {
     "name": "stdout",
     "output_type": "stream",
     "text": [
      "<class 'pandas.core.frame.DataFrame'>\n",
      "Int64Index: 413393 entries, 0 to 16253\n",
      "Data columns (total 7 columns):\n",
      " #   Column     Non-Null Count   Dtype         \n",
      "---  ------     --------------   -----         \n",
      " 0   Date       413393 non-null  datetime64[ns]\n",
      " 1   Country    413393 non-null  category      \n",
      " 2   Province   413393 non-null  category      \n",
      " 3   Confirmed  413393 non-null  int64         \n",
      " 4   Infected   413393 non-null  int64         \n",
      " 5   Fatal      413393 non-null  int64         \n",
      " 6   Recovered  413393 non-null  int64         \n",
      "dtypes: category(2), datetime64[ns](1), int64(4)\n",
      "memory usage: 20.6 MB\n"
     ]
    }
   ],
   "source": [
    "jhu_data.cleaned().info()"
   ]
  },
  {
   "cell_type": "markdown",
   "id": "single-immigration",
   "metadata": {},
   "source": [
    "Total number of cases in all countries with `JHUData.total()` method."
   ]
  },
  {
   "cell_type": "code",
   "execution_count": 13,
   "id": "fuzzy-welsh",
   "metadata": {
    "collapsed": false,
    "execution": {
     "iopub.execute_input": "2021-02-12T16:21:58.591393Z",
     "iopub.status.busy": "2021-02-12T16:21:58.590298Z",
     "iopub.status.idle": "2021-02-12T16:21:58.868129Z",
     "shell.execute_reply": "2021-02-12T16:21:58.868478Z"
    }
   },
   "outputs": [
    {
     "data": {
      "text/html": [
       "<div>\n",
       "<style scoped>\n",
       "    .dataframe tbody tr th:only-of-type {\n",
       "        vertical-align: middle;\n",
       "    }\n",
       "\n",
       "    .dataframe tbody tr th {\n",
       "        vertical-align: top;\n",
       "    }\n",
       "\n",
       "    .dataframe thead th {\n",
       "        text-align: right;\n",
       "    }\n",
       "</style>\n",
       "<table border=\"1\" class=\"dataframe\">\n",
       "  <thead>\n",
       "    <tr style=\"text-align: right;\">\n",
       "      <th></th>\n",
       "      <th>Confirmed</th>\n",
       "      <th>Infected</th>\n",
       "      <th>Fatal</th>\n",
       "      <th>Recovered</th>\n",
       "      <th>Fatal per Confirmed</th>\n",
       "      <th>Recovered per Confirmed</th>\n",
       "      <th>Fatal per (Fatal or Recovered)</th>\n",
       "    </tr>\n",
       "    <tr>\n",
       "      <th>Date</th>\n",
       "      <th></th>\n",
       "      <th></th>\n",
       "      <th></th>\n",
       "      <th></th>\n",
       "      <th></th>\n",
       "      <th></th>\n",
       "      <th></th>\n",
       "    </tr>\n",
       "  </thead>\n",
       "  <tbody>\n",
       "    <tr>\n",
       "      <th>2021-02-08</th>\n",
       "      <td>106468334</td>\n",
       "      <td>38408808</td>\n",
       "      <td>2328684</td>\n",
       "      <td>65730842</td>\n",
       "      <td>0.021872</td>\n",
       "      <td>0.617375</td>\n",
       "      <td>0.034215</td>\n",
       "    </tr>\n",
       "    <tr>\n",
       "      <th>2021-02-09</th>\n",
       "      <td>106894471</td>\n",
       "      <td>38480461</td>\n",
       "      <td>2343160</td>\n",
       "      <td>66070850</td>\n",
       "      <td>0.021920</td>\n",
       "      <td>0.618094</td>\n",
       "      <td>0.034250</td>\n",
       "    </tr>\n",
       "    <tr>\n",
       "      <th>2021-02-10</th>\n",
       "      <td>107412582</td>\n",
       "      <td>38723896</td>\n",
       "      <td>2355905</td>\n",
       "      <td>66332781</td>\n",
       "      <td>0.021933</td>\n",
       "      <td>0.617551</td>\n",
       "      <td>0.034298</td>\n",
       "    </tr>\n",
       "    <tr>\n",
       "      <th>2021-02-11</th>\n",
       "      <td>107831523</td>\n",
       "      <td>38875582</td>\n",
       "      <td>2368754</td>\n",
       "      <td>66587187</td>\n",
       "      <td>0.021967</td>\n",
       "      <td>0.617511</td>\n",
       "      <td>0.034352</td>\n",
       "    </tr>\n",
       "    <tr>\n",
       "      <th>2021-02-12</th>\n",
       "      <td>107421689</td>\n",
       "      <td>38847469</td>\n",
       "      <td>2362076</td>\n",
       "      <td>66212144</td>\n",
       "      <td>0.021989</td>\n",
       "      <td>0.616376</td>\n",
       "      <td>0.034446</td>\n",
       "    </tr>\n",
       "  </tbody>\n",
       "</table>\n",
       "</div>"
      ],
      "text/plain": [
       "            Confirmed  Infected    Fatal  Recovered  Fatal per Confirmed  \\\n",
       "Date                                                                       \n",
       "2021-02-08  106468334  38408808  2328684   65730842             0.021872   \n",
       "2021-02-09  106894471  38480461  2343160   66070850             0.021920   \n",
       "2021-02-10  107412582  38723896  2355905   66332781             0.021933   \n",
       "2021-02-11  107831523  38875582  2368754   66587187             0.021967   \n",
       "2021-02-12  107421689  38847469  2362076   66212144             0.021989   \n",
       "\n",
       "            Recovered per Confirmed  Fatal per (Fatal or Recovered)  \n",
       "Date                                                                 \n",
       "2021-02-08                 0.617375                        0.034215  \n",
       "2021-02-09                 0.618094                        0.034250  \n",
       "2021-02-10                 0.617551                        0.034298  \n",
       "2021-02-11                 0.617511                        0.034352  \n",
       "2021-02-12                 0.616376                        0.034446  "
      ]
     },
     "execution_count": 1,
     "metadata": {},
     "output_type": "execute_result"
    }
   ],
   "source": [
    "# Calculate total values\n",
    "total_df = jhu_data.total()\n",
    "total_df.tail()"
   ]
  },
  {
   "cell_type": "code",
   "execution_count": 14,
   "id": "exclusive-physiology",
   "metadata": {
    "collapsed": false,
    "execution": {
     "iopub.execute_input": "2021-02-12T16:21:58.872535Z",
     "iopub.status.busy": "2021-02-12T16:21:58.872093Z",
     "iopub.status.idle": "2021-02-12T16:21:59.827980Z",
     "shell.execute_reply": "2021-02-12T16:21:59.828361Z"
    }
   },
   "outputs": [
    {
     "data": {
      "image/png": "[encoded data removed]",
      "text/plain": [
       "<Figure size 648x432 with 1 Axes>"
      ]
     },
     "metadata": {
      "needs_background": "light"
     },
     "output_type": "display_data"
    }
   ],
   "source": [
    "# Plot the total values\n",
    "cs.line_plot(total_df[[\"Infected\", \"Fatal\", \"Recovered\"]], \"Total number of cases over time\")"
   ]
  },
  {
   "cell_type": "code",
   "execution_count": 15,
   "id": "professional-unemployment",
   "metadata": {
    "collapsed": false,
    "execution": {
     "iopub.execute_input": "2021-02-12T16:21:59.836367Z",
     "iopub.status.busy": "2021-02-12T16:21:59.834381Z",
     "iopub.status.idle": "2021-02-12T16:21:59.850497Z",
     "shell.execute_reply": "2021-02-12T16:21:59.850851Z"
    }
   },
   "outputs": [
    {
     "data": {
      "text/html": [
       "<div>\n",
       "<style scoped>\n",
       "    .dataframe tbody tr th:only-of-type {\n",
       "        vertical-align: middle;\n",
       "    }\n",
       "\n",
       "    .dataframe tbody tr th {\n",
       "        vertical-align: top;\n",
       "    }\n",
       "\n",
       "    .dataframe thead th {\n",
       "        text-align: right;\n",
       "    }\n",
       "</style>\n",
       "<table border=\"1\" class=\"dataframe\">\n",
       "  <thead>\n",
       "    <tr style=\"text-align: right;\">\n",
       "      <th></th>\n",
       "      <th>count</th>\n",
       "      <th>mean</th>\n",
       "      <th>std</th>\n",
       "      <th>min</th>\n",
       "      <th>25%</th>\n",
       "      <th>50%</th>\n",
       "      <th>75%</th>\n",
       "      <th>max</th>\n",
       "    </tr>\n",
       "  </thead>\n",
       "  <tbody>\n",
       "    <tr>\n",
       "      <th>Fatal per Confirmed</th>\n",
       "      <td>408.0</td>\n",
       "      <td>0.037517</td>\n",
       "      <td>0.016875</td>\n",
       "      <td>0.000000</td>\n",
       "      <td>0.023693</td>\n",
       "      <td>0.033267</td>\n",
       "      <td>0.046718</td>\n",
       "      <td>0.074246</td>\n",
       "    </tr>\n",
       "    <tr>\n",
       "      <th>Recovered per Confirmed</th>\n",
       "      <td>408.0</td>\n",
       "      <td>0.534333</td>\n",
       "      <td>0.200414</td>\n",
       "      <td>0.026271</td>\n",
       "      <td>0.406272</td>\n",
       "      <td>0.616216</td>\n",
       "      <td>0.654179</td>\n",
       "      <td>1.000000</td>\n",
       "    </tr>\n",
       "    <tr>\n",
       "      <th>Fatal per (Fatal or Recovered)</th>\n",
       "      <td>408.0</td>\n",
       "      <td>0.087998</td>\n",
       "      <td>0.076435</td>\n",
       "      <td>0.000000</td>\n",
       "      <td>0.036414</td>\n",
       "      <td>0.056426</td>\n",
       "      <td>0.117195</td>\n",
       "      <td>0.443878</td>\n",
       "    </tr>\n",
       "  </tbody>\n",
       "</table>\n",
       "</div>"
      ],
      "text/plain": [
       "                                count      mean       std       min       25%  \\\n",
       "Fatal per Confirmed             408.0  0.037517  0.016875  0.000000  0.023693   \n",
       "Recovered per Confirmed         408.0  0.534333  0.200414  0.026271  0.406272   \n",
       "Fatal per (Fatal or Recovered)  408.0  0.087998  0.076435  0.000000  0.036414   \n",
       "\n",
       "                                     50%       75%       max  \n",
       "Fatal per Confirmed             0.033267  0.046718  0.074246  \n",
       "Recovered per Confirmed         0.616216  0.654179  1.000000  \n",
       "Fatal per (Fatal or Recovered)  0.056426  0.117195  0.443878  "
      ]
     },
     "execution_count": 1,
     "metadata": {},
     "output_type": "execute_result"
    }
   ],
   "source": [
    "# Statistics of rate values in all countries\n",
    "total_df.loc[:, total_df.columns.str.contains(\"per\")].describe().T"
   ]
  },
  {
   "cell_type": "markdown",
   "id": "characteristic-cradle",
   "metadata": {},
   "source": [
    "We can create a subset for a country using `JHUData.subset()` method."
   ]
  },
  {
   "cell_type": "code",
   "execution_count": 16,
   "id": "automated-occasion",
   "metadata": {
    "collapsed": false,
    "execution": {
     "iopub.execute_input": "2021-02-12T16:21:59.854416Z",
     "iopub.status.busy": "2021-02-12T16:21:59.853931Z",
     "iopub.status.idle": "2021-02-12T16:22:03.583275Z",
     "shell.execute_reply": "2021-02-12T16:22:03.582391Z"
    }
   },
   "outputs": [
    {
     "data": {
      "text/html": [
       "<div>\n",
       "<style scoped>\n",
       "    .dataframe tbody tr th:only-of-type {\n",
       "        vertical-align: middle;\n",
       "    }\n",
       "\n",
       "    .dataframe tbody tr th {\n",
       "        vertical-align: top;\n",
       "    }\n",
       "\n",
       "    .dataframe thead th {\n",
       "        text-align: right;\n",
       "    }\n",
       "</style>\n",
       "<table border=\"1\" class=\"dataframe\">\n",
       "  <thead>\n",
       "    <tr style=\"text-align: right;\">\n",
       "      <th></th>\n",
       "      <th>Date</th>\n",
       "      <th>Confirmed</th>\n",
       "      <th>Infected</th>\n",
       "      <th>Fatal</th>\n",
       "      <th>Recovered</th>\n",
       "    </tr>\n",
       "  </thead>\n",
       "  <tbody>\n",
       "    <tr>\n",
       "      <th>367</th>\n",
       "      <td>2021-02-07</td>\n",
       "      <td>403435</td>\n",
       "      <td>34866</td>\n",
       "      <td>6338</td>\n",
       "      <td>362231</td>\n",
       "    </tr>\n",
       "    <tr>\n",
       "      <th>368</th>\n",
       "      <td>2021-02-08</td>\n",
       "      <td>404990</td>\n",
       "      <td>33357</td>\n",
       "      <td>6395</td>\n",
       "      <td>365238</td>\n",
       "    </tr>\n",
       "    <tr>\n",
       "      <th>369</th>\n",
       "      <td>2021-02-09</td>\n",
       "      <td>406766</td>\n",
       "      <td>31477</td>\n",
       "      <td>6476</td>\n",
       "      <td>368813</td>\n",
       "    </tr>\n",
       "    <tr>\n",
       "      <th>370</th>\n",
       "      <td>2021-02-10</td>\n",
       "      <td>408186</td>\n",
       "      <td>29094</td>\n",
       "      <td>6557</td>\n",
       "      <td>372535</td>\n",
       "    </tr>\n",
       "    <tr>\n",
       "      <th>371</th>\n",
       "      <td>2021-02-11</td>\n",
       "      <td>410012</td>\n",
       "      <td>27880</td>\n",
       "      <td>6678</td>\n",
       "      <td>375454</td>\n",
       "    </tr>\n",
       "  </tbody>\n",
       "</table>\n",
       "</div>"
      ],
      "text/plain": [
       "          Date  Confirmed  Infected  Fatal  Recovered\n",
       "367 2021-02-07     403435     34866   6338     362231\n",
       "368 2021-02-08     404990     33357   6395     365238\n",
       "369 2021-02-09     406766     31477   6476     368813\n",
       "370 2021-02-10     408186     29094   6557     372535\n",
       "371 2021-02-11     410012     27880   6678     375454"
      ]
     },
     "execution_count": 1,
     "metadata": {},
     "output_type": "execute_result"
    }
   ],
   "source": [
    "# Subset for a country\n",
    "df, _ = jhu_data.records(\"Japan\")\n",
    "df.tail()\n",
    "# We can use ISO3 code etc.\n",
    "# df, _ = jhu_data.records(\"JPN\")\n",
    "# df.tail()"
   ]
  },
  {
   "cell_type": "markdown",
   "id": "patient-question",
   "metadata": {},
   "source": [
    "Province (\"prefecture\" for Japan) name can be specified."
   ]
  },
  {
   "cell_type": "code",
   "execution_count": 17,
   "id": "extreme-disabled",
   "metadata": {
    "collapsed": false,
    "execution": {
     "iopub.execute_input": "2021-02-12T16:22:03.587350Z",
     "iopub.status.busy": "2021-02-12T16:22:03.586804Z",
     "iopub.status.idle": "2021-02-12T16:22:03.667962Z",
     "shell.execute_reply": "2021-02-12T16:22:03.668347Z"
    }
   },
   "outputs": [
    {
     "data": {
      "text/html": [
       "<div>\n",
       "<style scoped>\n",
       "    .dataframe tbody tr th:only-of-type {\n",
       "        vertical-align: middle;\n",
       "    }\n",
       "\n",
       "    .dataframe tbody tr th {\n",
       "        vertical-align: top;\n",
       "    }\n",
       "\n",
       "    .dataframe thead th {\n",
       "        text-align: right;\n",
       "    }\n",
       "</style>\n",
       "<table border=\"1\" class=\"dataframe\">\n",
       "  <thead>\n",
       "    <tr style=\"text-align: right;\">\n",
       "      <th></th>\n",
       "      <th>Date</th>\n",
       "      <th>Confirmed</th>\n",
       "      <th>Infected</th>\n",
       "      <th>Fatal</th>\n",
       "      <th>Recovered</th>\n",
       "    </tr>\n",
       "  </thead>\n",
       "  <tbody>\n",
       "    <tr>\n",
       "      <th>325</th>\n",
       "      <td>2021-02-06</td>\n",
       "      <td>103416</td>\n",
       "      <td>7717</td>\n",
       "      <td>1017</td>\n",
       "      <td>94682</td>\n",
       "    </tr>\n",
       "    <tr>\n",
       "      <th>326</th>\n",
       "      <td>2021-02-07</td>\n",
       "      <td>103845</td>\n",
       "      <td>7174</td>\n",
       "      <td>1023</td>\n",
       "      <td>95648</td>\n",
       "    </tr>\n",
       "    <tr>\n",
       "      <th>327</th>\n",
       "      <td>2021-02-08</td>\n",
       "      <td>104121</td>\n",
       "      <td>6499</td>\n",
       "      <td>1035</td>\n",
       "      <td>96587</td>\n",
       "    </tr>\n",
       "    <tr>\n",
       "      <th>328</th>\n",
       "      <td>2021-02-09</td>\n",
       "      <td>104533</td>\n",
       "      <td>5974</td>\n",
       "      <td>1053</td>\n",
       "      <td>97506</td>\n",
       "    </tr>\n",
       "    <tr>\n",
       "      <th>329</th>\n",
       "      <td>2021-02-10</td>\n",
       "      <td>105024</td>\n",
       "      <td>5818</td>\n",
       "      <td>1078</td>\n",
       "      <td>98128</td>\n",
       "    </tr>\n",
       "  </tbody>\n",
       "</table>\n",
       "</div>"
      ],
      "text/plain": [
       "          Date  Confirmed  Infected  Fatal  Recovered\n",
       "325 2021-02-06     103416      7717   1017      94682\n",
       "326 2021-02-07     103845      7174   1023      95648\n",
       "327 2021-02-08     104121      6499   1035      96587\n",
       "328 2021-02-09     104533      5974   1053      97506\n",
       "329 2021-02-10     105024      5818   1078      98128"
      ]
     },
     "execution_count": 1,
     "metadata": {},
     "output_type": "execute_result"
    }
   ],
   "source": [
    "df, _ = jhu_data.records(\"Japan\", province=\"Tokyo\")\n",
    "df.tail()"
   ]
  },
  {
   "cell_type": "code",
   "execution_count": 18,
   "id": "appreciated-tractor",
   "metadata": {
    "collapsed": false,
    "execution": {
     "iopub.execute_input": "2021-02-12T16:22:03.671649Z",
     "iopub.status.busy": "2021-02-12T16:22:03.671186Z",
     "iopub.status.idle": "2021-02-12T16:22:04.011262Z",
     "shell.execute_reply": "2021-02-12T16:22:04.011854Z"
    }
   },
   "outputs": [
    {
     "name": "stdout",
     "output_type": "stream",
     "text": [
      "['Afghanistan', 'Albania', 'Algeria', 'Andorra', 'Angola',\n",
      " 'Antigua and Barbuda', 'Argentina', 'Armenia', 'Australia', 'Austria',\n",
      " 'Azerbaijan', 'Bahamas', 'Bahrain', 'Bangladesh', 'Barbados', 'Belarus',\n",
      " 'Belgium', 'Belize', 'Benin', 'Bermuda', 'Bhutan', 'Bolivia',\n",
      " 'Bosnia and Herzegovina', 'Botswana', 'Brazil', 'Brunei', 'Bulgaria',\n",
      " 'Burkina Faso', 'Burundi', 'Cambodia', 'Cameroon', 'Canada', 'Cape Verde',\n",
      " 'Central African Republic', 'Chad', 'Chile', 'China', 'Colombia', 'Comoros',\n",
      " 'Costa Atlantica', 'Costa Rica', \"Cote d'Ivoire\", 'Croatia', 'Cuba', 'Cyprus',\n",
      " 'Czech Republic', 'Democratic Republic of the Congo', 'Denmark', 'Djibouti',\n",
      " 'Dominica', 'Dominican Republic', 'Ecuador', 'Egypt', 'El Salvador',\n",
      " 'Equatorial Guinea', 'Eritrea', 'Estonia', 'Ethiopia', 'Fiji', 'Finland',\n",
      " 'France', 'Gabon', 'Gambia', 'Georgia', 'Germany', 'Ghana', 'Grand Princess',\n",
      " 'Greece', 'Grenada', 'Guam', 'Guatemala', 'Guinea', 'Guinea-Bissau', 'Guyana',\n",
      " 'Haiti', 'Holy See', 'Honduras', 'Hungary', 'Iceland', 'India', 'Indonesia',\n",
      " 'Iran', 'Iraq', 'Ireland', 'Israel', 'Italy', 'Jamaica', 'Japan', 'Jordan',\n",
      " 'Kazakhstan', 'Kenya', 'Kosovo', 'Kuwait', 'Kyrgyzstan', 'Laos', 'Latvia',\n",
      " 'Lebanon', 'Lesotho', 'Liberia', 'Libya', 'Liechtenstein', 'Lithuania',\n",
      " 'Luxembourg', 'MS Zaandam', 'Madagascar', 'Malawi', 'Malaysia', 'Maldives',\n",
      " 'Mali', 'Malta', 'Marshall Islands', 'Mauritania', 'Mauritius', 'Mexico',\n",
      " 'Moldova', 'Monaco', 'Mongolia', 'Montenegro', 'Morocco', 'Mozambique',\n",
      " 'Myanmar', 'Namibia', 'Nepal', 'Netherlands', 'New Zealand', 'Nicaragua',\n",
      " 'Niger', 'Nigeria', 'North Macedonia', 'Northern Mariana Islands', 'Norway',\n",
      " 'Oman', 'Pakistan', 'Palestine', 'Panama', 'Papua New Guinea', 'Paraguay',\n",
      " 'Peru', 'Philippines', 'Poland', 'Portugal', 'Puerto Rico', 'Qatar',\n",
      " 'Republic of the Congo', 'Romania', 'Russia', 'Rwanda',\n",
      " 'Saint Kitts and Nevis', 'Saint Lucia', 'Saint Vincent and the Grenadines',\n",
      " 'Samoa', 'San Marino', 'Sao Tome and Principe', 'Saudi Arabia', 'Senegal',\n",
      " 'Serbia', 'Seychelles', 'Sierra Leone', 'Singapore', 'Slovakia', 'Slovenia',\n",
      " 'Solomon Islands', 'Somalia', 'South Africa', 'South Korea', 'South Sudan',\n",
      " 'Spain', 'Sri Lanka', 'Sudan', 'Suriname', 'Swaziland', 'Sweden',\n",
      " 'Switzerland', 'Syria', 'Taiwan', 'Tajikistan', 'Tanzania', 'Thailand',\n",
      " 'Timor-Leste', 'Togo', 'Trinidad and Tobago', 'Tunisia', 'Turkey', 'Uganda',\n",
      " 'Ukraine', 'United Arab Emirates', 'United Kingdom', 'United States',\n",
      " 'Uruguay', 'Uzbekistan', 'Vanuatu', 'Venezuela', 'Vietnam',\n",
      " 'Virgin Islands, U.S.', 'Yemen', 'Zambia', 'Zimbabwe']\n"
     ]
    }
   ],
   "source": [
    "# Countries we can select\n",
    "pprint(jhu_data.countries(), compact=True)"
   ]
  },
  {
   "cell_type": "markdown",
   "id": "young-reform",
   "metadata": {},
   "source": [
    "`JHUData.records()` automatically complement the records, if necesssary and `auto_complement=True` (default). Each country can have either none or one or multiple complements, depending on the records and their preprocessing analysis."
   ]
  },
  {
   "cell_type": "markdown",
   "id": "amateur-james",
   "metadata": {},
   "source": [
    "We can show the specific kind of complements that were applied to the records of each country with `JHUData.show_complement()` method. The possible kinds of complement for each country are the following:  \n",
    "\n",
    "1. \"Monotonic_confirmed/fatal/recovered\" (monotonic increasing complement)  \n",
    "Force the variable show monotonic increasing.\n",
    "\n",
    "2. \"Full_recovered\" (full complement of recovered data)  \n",
    "Estimate the number of recovered cases using the value of estimated average recovery period.\n",
    "\n",
    "3. \"Partial_recovered\" (partial complement of recovered data)  \n",
    "When recovered values are not updated for some days, extrapolate the values."
   ]
  },
  {
   "cell_type": "code",
   "execution_count": 19,
   "id": "lined-facility",
   "metadata": {
    "execution": {
     "iopub.execute_input": "2021-02-12T16:22:04.015420Z",
     "iopub.status.busy": "2021-02-12T16:22:04.015019Z",
     "iopub.status.idle": "2021-02-12T16:22:14.186257Z",
     "shell.execute_reply": "2021-02-12T16:22:14.186623Z"
    }
   },
   "outputs": [
    {
     "data": {
      "text/html": [
       "<div>\n",
       "<style scoped>\n",
       "    .dataframe tbody tr th:only-of-type {\n",
       "        vertical-align: middle;\n",
       "    }\n",
       "\n",
       "    .dataframe tbody tr th {\n",
       "        vertical-align: top;\n",
       "    }\n",
       "\n",
       "    .dataframe thead th {\n",
       "        text-align: right;\n",
       "    }\n",
       "</style>\n",
       "<table border=\"1\" class=\"dataframe\">\n",
       "  <thead>\n",
       "    <tr style=\"text-align: right;\">\n",
       "      <th></th>\n",
       "      <th>Country</th>\n",
       "      <th>Province</th>\n",
       "      <th>Monotonic_confirmed</th>\n",
       "      <th>Monotonic_fatal</th>\n",
       "      <th>Monotonic_recovered</th>\n",
       "      <th>Full_recovered</th>\n",
       "      <th>Partial_recovered</th>\n",
       "    </tr>\n",
       "  </thead>\n",
       "  <tbody>\n",
       "    <tr>\n",
       "      <th>193</th>\n",
       "      <td>South Africa</td>\n",
       "      <td>-</td>\n",
       "      <td>False</td>\n",
       "      <td>False</td>\n",
       "      <td>False</td>\n",
       "      <td>False</td>\n",
       "      <td>True</td>\n",
       "    </tr>\n",
       "    <tr>\n",
       "      <th>194</th>\n",
       "      <td>Zambia</td>\n",
       "      <td>-</td>\n",
       "      <td>False</td>\n",
       "      <td>False</td>\n",
       "      <td>False</td>\n",
       "      <td>False</td>\n",
       "      <td>True</td>\n",
       "    </tr>\n",
       "    <tr>\n",
       "      <th>195</th>\n",
       "      <td>Zimbabwe</td>\n",
       "      <td>-</td>\n",
       "      <td>True</td>\n",
       "      <td>False</td>\n",
       "      <td>False</td>\n",
       "      <td>False</td>\n",
       "      <td>True</td>\n",
       "    </tr>\n",
       "    <tr>\n",
       "      <th>196</th>\n",
       "      <td>China</td>\n",
       "      <td>-</td>\n",
       "      <td>True</td>\n",
       "      <td>False</td>\n",
       "      <td>True</td>\n",
       "      <td>False</td>\n",
       "      <td>True</td>\n",
       "    </tr>\n",
       "    <tr>\n",
       "      <th>197</th>\n",
       "      <td>Japan</td>\n",
       "      <td>-</td>\n",
       "      <td>False</td>\n",
       "      <td>False</td>\n",
       "      <td>True</td>\n",
       "      <td>False</td>\n",
       "      <td>True</td>\n",
       "    </tr>\n",
       "  </tbody>\n",
       "</table>\n",
       "</div>"
      ],
      "text/plain": [
       "          Country Province Monotonic_confirmed Monotonic_fatal  \\\n",
       "193  South Africa        -               False           False   \n",
       "194        Zambia        -               False           False   \n",
       "195      Zimbabwe        -                True           False   \n",
       "196         China        -                True           False   \n",
       "197         Japan        -               False           False   \n",
       "\n",
       "    Monotonic_recovered Full_recovered Partial_recovered  \n",
       "193               False          False              True  \n",
       "194               False          False              True  \n",
       "195               False          False              True  \n",
       "196                True          False              True  \n",
       "197                True          False              True  "
      ]
     },
     "execution_count": 1,
     "metadata": {},
     "output_type": "execute_result"
    }
   ],
   "source": [
    "# Show the details of complement for all countries\n",
    "jhu_data.show_complement().tail()"
   ]
  },
  {
   "cell_type": "code",
   "execution_count": 20,
   "id": "banner-glasgow",
   "metadata": {
    "execution": {
     "iopub.execute_input": "2021-02-12T16:22:14.190020Z",
     "iopub.status.busy": "2021-02-12T16:22:14.189494Z",
     "iopub.status.idle": "2021-02-12T16:22:14.191498Z",
     "shell.execute_reply": "2021-02-12T16:22:14.191907Z"
    }
   },
   "outputs": [],
   "source": [
    "# For selected country\n",
    "# jhu_data.show_complement(country=\"Japan\")\n",
    "# For selected province\n",
    "# jhu_data.show_complement(country=\"Japan\", province=\"Tokyo\")\n",
    "# For selected countries\n",
    "# jhu_data.show_complement(country=[\"Greece\", \"Japan\"])"
   ]
  },
  {
   "cell_type": "markdown",
   "id": "wanted-freedom",
   "metadata": {},
   "source": [
    "Note for recovery period:  \n",
    "With the global cases records, we estimate the average recovery period using `JHUData.calculate_recovery_period()`.  \n",
    "\n",
    "What we currently do is to calculate the difference between confirmed cases and fatal cases and try to match it to some recovered cases value in the future. We apply this method for every country that has valid recovery data and average the partial recovery periods in order to obtain a single (average) recovery period. During the calculations, we ignore time intervals that lead to very short (<7 days) or very long (>90 days) partial recovery periods, if these exist with high frequency (>50%) in the records. We have to assume temporarily invariable compartments for this analysis to extract an approximation of the average recovery period.\n",
    "\n",
    "Alternatively, we had tried to use linelist data to get precise value of recovery period (average of recovery date minus confirmation date for cases), but the number of records was too small."
   ]
  },
  {
   "cell_type": "code",
   "execution_count": 21,
   "id": "necessary-norman",
   "metadata": {
    "execution": {
     "iopub.execute_input": "2021-02-12T16:22:14.197353Z",
     "iopub.status.busy": "2021-02-12T16:22:14.196775Z",
     "iopub.status.idle": "2021-02-12T16:22:18.075306Z",
     "shell.execute_reply": "2021-02-12T16:22:18.074837Z"
    }
   },
   "outputs": [
    {
     "name": "stdout",
     "output_type": "stream",
     "text": [
      "Average recovery period: 16 [days]\n"
     ]
    }
   ],
   "source": [
    "recovery_period = jhu_data.calculate_recovery_period()\n",
    "print(f\"Average recovery period: {recovery_period} [days]\")"
   ]
  },
  {
   "cell_type": "markdown",
   "id": "foreign-cleaning",
   "metadata": {},
   "source": [
    "We can visualize the number of cases with `.map()` method. When `country` is `None`, global map will be shown."
   ]
  },
  {
   "cell_type": "markdown",
   "id": "industrial-techno",
   "metadata": {},
   "source": [
    "Global map with country level data:"
   ]
  },
  {
   "cell_type": "code",
   "execution_count": 22,
   "id": "alert-assault",
   "metadata": {
    "execution": {
     "iopub.execute_input": "2021-02-12T16:22:18.085085Z",
     "iopub.status.busy": "2021-02-12T16:22:18.084537Z",
     "iopub.status.idle": "2021-02-12T16:22:32.039545Z",
     "shell.execute_reply": "2021-02-12T16:22:32.038942Z"
    }
   },
   "outputs": [
    {
     "data": {
      "image/png": "[encoded data removed]",
      "text/plain": [
       "<Figure size 648x432 with 2 Axes>"
      ]
     },
     "metadata": {
      "needs_background": "light"
     },
     "output_type": "display_data"
    }
   ],
   "source": [
    "# Global map with country level data\n",
    "jhu_data.map(country=None, variable=\"Infected\")\n",
    "# To set included/exclude some countries\n",
    "# jhu_data.map(country=None, variable=\"Infected\", included=[\"Japan\"])\n",
    "# jhu_data.map(country=None, variable=\"Infected\", excluded=[\"Japan\"])\n",
    "# To change the date\n",
    "# jhu_data.map(country=None, variable=\"Infected\", date=\"01Oct2021\")"
   ]
  },
  {
   "cell_type": "markdown",
   "id": "divided-insert",
   "metadata": {},
   "source": [
    "Country map with province level data:"
   ]
  },
  {
   "cell_type": "code",
   "execution_count": 23,
   "id": "charged-gossip",
   "metadata": {
    "execution": {
     "iopub.execute_input": "2021-02-12T16:22:32.049076Z",
     "iopub.status.busy": "2021-02-12T16:22:32.048513Z",
     "iopub.status.idle": "2021-02-12T16:22:33.978860Z",
     "shell.execute_reply": "2021-02-12T16:22:33.979400Z"
    }
   },
   "outputs": [
    {
     "data": {
      "image/png": "[encoded data removed]",
      "text/plain": [
       "<Figure size 648x432 with 2 Axes>"
      ]
     },
     "metadata": {
      "needs_background": "light"
     },
     "output_type": "display_data"
    }
   ],
   "source": [
    "# Country map with province level data\n",
    "jhu_data.map(country=\"Japan\", variable=\"Infected\")\n",
    "# To set included/exclude some countries\n",
    "# jhu_data.map(country=\"Japan\", variable=\"Infected\", included=[\"Tokyo\"])\n",
    "# jhu_data.map(country=\"Japan\", variable=\"Infected\", excluded=[\"Tokyo\"])\n",
    "# To change the date\n",
    "# jhu_data.map(country=\"Japan\", variable=\"Infected\", date=\"01Oct2021\")"
   ]
  },
  {
   "cell_type": "markdown",
   "id": "express-tennessee",
   "metadata": {},
   "source": [
    "### Linelist of case reports\n",
    "The number of cases is important, but linelist of case reports will helpful to understand the situation deeply. Linelist data was saved as `linelist`, an instance of `LinelistData` class. This dataset is from [Open COVID-19 Data Working Group](https://github.com/beoutbreakprepared/nCoV2019)."
   ]
  },
  {
   "cell_type": "code",
   "execution_count": 24,
   "id": "similar-disposition",
   "metadata": {
    "collapsed": false,
    "execution": {
     "iopub.execute_input": "2021-02-12T16:22:33.985019Z",
     "iopub.status.busy": "2021-02-12T16:22:33.984425Z",
     "iopub.status.idle": "2021-02-12T16:22:33.987509Z",
     "shell.execute_reply": "2021-02-12T16:22:33.988065Z"
    }
   },
   "outputs": [
    {
     "data": {
      "text/plain": [
       "covsirphy.cleaning.linelist.LinelistData"
      ]
     },
     "execution_count": 1,
     "metadata": {},
     "output_type": "execute_result"
    }
   ],
   "source": [
    "type(linelist)"
   ]
  },
  {
   "cell_type": "code",
   "execution_count": 25,
   "id": "everyday-least",
   "metadata": {
    "collapsed": false,
    "execution": {
     "iopub.execute_input": "2021-02-12T16:22:33.992166Z",
     "iopub.status.busy": "2021-02-12T16:22:33.991571Z",
     "iopub.status.idle": "2021-02-12T16:22:33.994420Z",
     "shell.execute_reply": "2021-02-12T16:22:33.994923Z"
    }
   },
   "outputs": [
    {
     "name": "stdout",
     "output_type": "stream",
     "text": [
      "Xu, B., Gutierrez, B., Mekaru, S. et al. Epidemiological data from the COVID-19 outbreak, real-time case information. Sci Data 7, 106 (2020). https://doi.org/10.1038/s41597-020-0448-0\n"
     ]
    }
   ],
   "source": [
    "# Citation\n",
    "print(linelist.citation)"
   ]
  },
  {
   "cell_type": "code",
   "execution_count": 26,
   "id": "serious-helena",
   "metadata": {
    "collapsed": false,
    "execution": {
     "iopub.execute_input": "2021-02-12T16:22:34.000161Z",
     "iopub.status.busy": "2021-02-12T16:22:33.999563Z",
     "iopub.status.idle": "2021-02-12T16:22:37.383753Z",
     "shell.execute_reply": "2021-02-12T16:22:37.383166Z"
    }
   },
   "outputs": [
    {
     "data": {
      "text/html": [
       "<div>\n",
       "<style scoped>\n",
       "    .dataframe tbody tr th:only-of-type {\n",
       "        vertical-align: middle;\n",
       "    }\n",
       "\n",
       "    .dataframe tbody tr th {\n",
       "        vertical-align: top;\n",
       "    }\n",
       "\n",
       "    .dataframe thead th {\n",
       "        text-align: right;\n",
       "    }\n",
       "</style>\n",
       "<table border=\"1\" class=\"dataframe\">\n",
       "  <thead>\n",
       "    <tr style=\"text-align: right;\">\n",
       "      <th></th>\n",
       "      <th>age</th>\n",
       "      <th>sex</th>\n",
       "      <th>province</th>\n",
       "      <th>country</th>\n",
       "      <th>date_admission_hospital</th>\n",
       "      <th>date_confirmation</th>\n",
       "      <th>symptoms</th>\n",
       "      <th>chronic_disease</th>\n",
       "      <th>outcome</th>\n",
       "      <th>date_death_or_discharge</th>\n",
       "    </tr>\n",
       "  </thead>\n",
       "  <tbody>\n",
       "    <tr>\n",
       "      <th>2676307</th>\n",
       "      <td>52</td>\n",
       "      <td>female</td>\n",
       "      <td>Lima</td>\n",
       "      <td>Peru</td>\n",
       "      <td>NaN</td>\n",
       "      <td>17.05.2020</td>\n",
       "      <td>NaN</td>\n",
       "      <td>NaN</td>\n",
       "      <td>NaN</td>\n",
       "      <td>NaN</td>\n",
       "    </tr>\n",
       "    <tr>\n",
       "      <th>2676308</th>\n",
       "      <td>52</td>\n",
       "      <td>female</td>\n",
       "      <td>Lima</td>\n",
       "      <td>Peru</td>\n",
       "      <td>NaN</td>\n",
       "      <td>17.05.2020</td>\n",
       "      <td>NaN</td>\n",
       "      <td>NaN</td>\n",
       "      <td>NaN</td>\n",
       "      <td>NaN</td>\n",
       "    </tr>\n",
       "    <tr>\n",
       "      <th>2676309</th>\n",
       "      <td>52</td>\n",
       "      <td>male</td>\n",
       "      <td>Callao</td>\n",
       "      <td>Peru</td>\n",
       "      <td>NaN</td>\n",
       "      <td>17.05.2020</td>\n",
       "      <td>NaN</td>\n",
       "      <td>NaN</td>\n",
       "      <td>NaN</td>\n",
       "      <td>NaN</td>\n",
       "    </tr>\n",
       "    <tr>\n",
       "      <th>2676310</th>\n",
       "      <td>52</td>\n",
       "      <td>male</td>\n",
       "      <td>Lima</td>\n",
       "      <td>Peru</td>\n",
       "      <td>NaN</td>\n",
       "      <td>17.05.2020</td>\n",
       "      <td>NaN</td>\n",
       "      <td>NaN</td>\n",
       "      <td>NaN</td>\n",
       "      <td>NaN</td>\n",
       "    </tr>\n",
       "    <tr>\n",
       "      <th>2676311</th>\n",
       "      <td>NaN</td>\n",
       "      <td>NaN</td>\n",
       "      <td>NaN</td>\n",
       "      <td>NaN</td>\n",
       "      <td>NaN</td>\n",
       "      <td>NaN</td>\n",
       "      <td>NaN</td>\n",
       "      <td>NaN</td>\n",
       "      <td>NaN</td>\n",
       "      <td>NaN</td>\n",
       "    </tr>\n",
       "  </tbody>\n",
       "</table>\n",
       "</div>"
      ],
      "text/plain": [
       "         age     sex province country date_admission_hospital  \\\n",
       "2676307   52  female     Lima    Peru                     NaN   \n",
       "2676308   52  female     Lima    Peru                     NaN   \n",
       "2676309   52    male   Callao    Peru                     NaN   \n",
       "2676310   52    male     Lima    Peru                     NaN   \n",
       "2676311  NaN     NaN      NaN     NaN                     NaN   \n",
       "\n",
       "        date_confirmation symptoms chronic_disease outcome  \\\n",
       "2676307        17.05.2020      NaN             NaN     NaN   \n",
       "2676308        17.05.2020      NaN             NaN     NaN   \n",
       "2676309        17.05.2020      NaN             NaN     NaN   \n",
       "2676310        17.05.2020      NaN             NaN     NaN   \n",
       "2676311               NaN      NaN             NaN     NaN   \n",
       "\n",
       "        date_death_or_discharge  \n",
       "2676307                     NaN  \n",
       "2676308                     NaN  \n",
       "2676309                     NaN  \n",
       "2676310                     NaN  \n",
       "2676311                     NaN  "
      ]
     },
     "execution_count": 1,
     "metadata": {},
     "output_type": "execute_result"
    }
   ],
   "source": [
    "# Raw dataset\n",
    "linelist.raw.tail()"
   ]
  },
  {
   "cell_type": "code",
   "execution_count": 27,
   "id": "outstanding-dietary",
   "metadata": {
    "collapsed": false,
    "execution": {
     "iopub.execute_input": "2021-02-12T16:22:37.399204Z",
     "iopub.status.busy": "2021-02-12T16:22:37.392528Z",
     "iopub.status.idle": "2021-02-12T16:22:37.402920Z",
     "shell.execute_reply": "2021-02-12T16:22:37.402342Z"
    }
   },
   "outputs": [
    {
     "data": {
      "text/html": [
       "<div>\n",
       "<style scoped>\n",
       "    .dataframe tbody tr th:only-of-type {\n",
       "        vertical-align: middle;\n",
       "    }\n",
       "\n",
       "    .dataframe tbody tr th {\n",
       "        vertical-align: top;\n",
       "    }\n",
       "\n",
       "    .dataframe thead th {\n",
       "        text-align: right;\n",
       "    }\n",
       "</style>\n",
       "<table border=\"1\" class=\"dataframe\">\n",
       "  <thead>\n",
       "    <tr style=\"text-align: right;\">\n",
       "      <th></th>\n",
       "      <th>Country</th>\n",
       "      <th>Province</th>\n",
       "      <th>Hospitalized_date</th>\n",
       "      <th>Confirmation_date</th>\n",
       "      <th>Outcome_date</th>\n",
       "      <th>Confirmed</th>\n",
       "      <th>Infected</th>\n",
       "      <th>Recovered</th>\n",
       "      <th>Fatal</th>\n",
       "      <th>Symptoms</th>\n",
       "      <th>Chronic_disease</th>\n",
       "      <th>Age</th>\n",
       "      <th>Sex</th>\n",
       "    </tr>\n",
       "  </thead>\n",
       "  <tbody>\n",
       "    <tr>\n",
       "      <th>2676306</th>\n",
       "      <td>Peru</td>\n",
       "      <td>Coronel Portillo</td>\n",
       "      <td>NaT</td>\n",
       "      <td>2020-05-17</td>\n",
       "      <td>NaT</td>\n",
       "      <td>True</td>\n",
       "      <td>False</td>\n",
       "      <td>False</td>\n",
       "      <td>False</td>\n",
       "      <td>NaN</td>\n",
       "      <td>NaN</td>\n",
       "      <td>52.0</td>\n",
       "      <td>female</td>\n",
       "    </tr>\n",
       "    <tr>\n",
       "      <th>2676307</th>\n",
       "      <td>Peru</td>\n",
       "      <td>Lima</td>\n",
       "      <td>NaT</td>\n",
       "      <td>2020-05-17</td>\n",
       "      <td>NaT</td>\n",
       "      <td>True</td>\n",
       "      <td>False</td>\n",
       "      <td>False</td>\n",
       "      <td>False</td>\n",
       "      <td>NaN</td>\n",
       "      <td>NaN</td>\n",
       "      <td>52.0</td>\n",
       "      <td>female</td>\n",
       "    </tr>\n",
       "    <tr>\n",
       "      <th>2676308</th>\n",
       "      <td>Peru</td>\n",
       "      <td>Lima</td>\n",
       "      <td>NaT</td>\n",
       "      <td>2020-05-17</td>\n",
       "      <td>NaT</td>\n",
       "      <td>True</td>\n",
       "      <td>False</td>\n",
       "      <td>False</td>\n",
       "      <td>False</td>\n",
       "      <td>NaN</td>\n",
       "      <td>NaN</td>\n",
       "      <td>52.0</td>\n",
       "      <td>female</td>\n",
       "    </tr>\n",
       "    <tr>\n",
       "      <th>2676309</th>\n",
       "      <td>Peru</td>\n",
       "      <td>Callao</td>\n",
       "      <td>NaT</td>\n",
       "      <td>2020-05-17</td>\n",
       "      <td>NaT</td>\n",
       "      <td>True</td>\n",
       "      <td>False</td>\n",
       "      <td>False</td>\n",
       "      <td>False</td>\n",
       "      <td>NaN</td>\n",
       "      <td>NaN</td>\n",
       "      <td>52.0</td>\n",
       "      <td>male</td>\n",
       "    </tr>\n",
       "    <tr>\n",
       "      <th>2676310</th>\n",
       "      <td>Peru</td>\n",
       "      <td>Lima</td>\n",
       "      <td>NaT</td>\n",
       "      <td>2020-05-17</td>\n",
       "      <td>NaT</td>\n",
       "      <td>True</td>\n",
       "      <td>False</td>\n",
       "      <td>False</td>\n",
       "      <td>False</td>\n",
       "      <td>NaN</td>\n",
       "      <td>NaN</td>\n",
       "      <td>52.0</td>\n",
       "      <td>male</td>\n",
       "    </tr>\n",
       "  </tbody>\n",
       "</table>\n",
       "</div>"
      ],
      "text/plain": [
       "        Country          Province Hospitalized_date Confirmation_date  \\\n",
       "2676306    Peru  Coronel Portillo               NaT        2020-05-17   \n",
       "2676307    Peru              Lima               NaT        2020-05-17   \n",
       "2676308    Peru              Lima               NaT        2020-05-17   \n",
       "2676309    Peru            Callao               NaT        2020-05-17   \n",
       "2676310    Peru              Lima               NaT        2020-05-17   \n",
       "\n",
       "        Outcome_date  Confirmed  Infected  Recovered  Fatal Symptoms  \\\n",
       "2676306          NaT       True     False      False  False      NaN   \n",
       "2676307          NaT       True     False      False  False      NaN   \n",
       "2676308          NaT       True     False      False  False      NaN   \n",
       "2676309          NaT       True     False      False  False      NaN   \n",
       "2676310          NaT       True     False      False  False      NaN   \n",
       "\n",
       "        Chronic_disease   Age     Sex  \n",
       "2676306             NaN  52.0  female  \n",
       "2676307             NaN  52.0  female  \n",
       "2676308             NaN  52.0  female  \n",
       "2676309             NaN  52.0    male  \n",
       "2676310             NaN  52.0    male  "
      ]
     },
     "execution_count": 1,
     "metadata": {},
     "output_type": "execute_result"
    }
   ],
   "source": [
    "# Cleaned dataset\n",
    "linelist.cleaned().tail()"
   ]
  },
  {
   "cell_type": "code",
   "execution_count": 28,
   "id": "finished-package",
   "metadata": {
    "collapsed": false,
    "execution": {
     "iopub.execute_input": "2021-02-12T16:22:37.406642Z",
     "iopub.status.busy": "2021-02-12T16:22:37.406092Z",
     "iopub.status.idle": "2021-02-12T16:22:37.722280Z",
     "shell.execute_reply": "2021-02-12T16:22:37.722649Z"
    }
   },
   "outputs": [
    {
     "data": {
      "text/html": [
       "<div>\n",
       "<style scoped>\n",
       "    .dataframe tbody tr th:only-of-type {\n",
       "        vertical-align: middle;\n",
       "    }\n",
       "\n",
       "    .dataframe tbody tr th {\n",
       "        vertical-align: top;\n",
       "    }\n",
       "\n",
       "    .dataframe thead th {\n",
       "        text-align: right;\n",
       "    }\n",
       "</style>\n",
       "<table border=\"1\" class=\"dataframe\">\n",
       "  <thead>\n",
       "    <tr style=\"text-align: right;\">\n",
       "      <th></th>\n",
       "      <th>Hospitalized_date</th>\n",
       "      <th>Confirmation_date</th>\n",
       "      <th>Outcome_date</th>\n",
       "      <th>Confirmed</th>\n",
       "      <th>Infected</th>\n",
       "      <th>Recovered</th>\n",
       "      <th>Fatal</th>\n",
       "      <th>Symptoms</th>\n",
       "      <th>Chronic_disease</th>\n",
       "      <th>Age</th>\n",
       "      <th>Sex</th>\n",
       "    </tr>\n",
       "  </thead>\n",
       "  <tbody>\n",
       "    <tr>\n",
       "      <th>107</th>\n",
       "      <td>NaT</td>\n",
       "      <td>2020-01-30</td>\n",
       "      <td>NaT</td>\n",
       "      <td>True</td>\n",
       "      <td>False</td>\n",
       "      <td>False</td>\n",
       "      <td>False</td>\n",
       "      <td>NaN</td>\n",
       "      <td>NaN</td>\n",
       "      <td>NaN</td>\n",
       "      <td>female</td>\n",
       "    </tr>\n",
       "    <tr>\n",
       "      <th>108</th>\n",
       "      <td>NaT</td>\n",
       "      <td>2020-01-24</td>\n",
       "      <td>NaT</td>\n",
       "      <td>True</td>\n",
       "      <td>False</td>\n",
       "      <td>True</td>\n",
       "      <td>False</td>\n",
       "      <td>fever:pneumonia:sore throat</td>\n",
       "      <td>NaN</td>\n",
       "      <td>40.0</td>\n",
       "      <td>male</td>\n",
       "    </tr>\n",
       "    <tr>\n",
       "      <th>109</th>\n",
       "      <td>2020-10-01</td>\n",
       "      <td>2020-01-15</td>\n",
       "      <td>2020-01-15</td>\n",
       "      <td>True</td>\n",
       "      <td>False</td>\n",
       "      <td>True</td>\n",
       "      <td>False</td>\n",
       "      <td>cough:fever:sore throat</td>\n",
       "      <td>NaN</td>\n",
       "      <td>30.0</td>\n",
       "      <td>male</td>\n",
       "    </tr>\n",
       "    <tr>\n",
       "      <th>110</th>\n",
       "      <td>NaT</td>\n",
       "      <td>2020-01-25</td>\n",
       "      <td>NaT</td>\n",
       "      <td>True</td>\n",
       "      <td>False</td>\n",
       "      <td>False</td>\n",
       "      <td>False</td>\n",
       "      <td>cough:fever</td>\n",
       "      <td>NaN</td>\n",
       "      <td>NaN</td>\n",
       "      <td>female</td>\n",
       "    </tr>\n",
       "    <tr>\n",
       "      <th>111</th>\n",
       "      <td>NaT</td>\n",
       "      <td>2020-01-26</td>\n",
       "      <td>NaT</td>\n",
       "      <td>True</td>\n",
       "      <td>False</td>\n",
       "      <td>False</td>\n",
       "      <td>False</td>\n",
       "      <td>fever:joint pain:pneumonia</td>\n",
       "      <td>NaN</td>\n",
       "      <td>40.0</td>\n",
       "      <td>male</td>\n",
       "    </tr>\n",
       "  </tbody>\n",
       "</table>\n",
       "</div>"
      ],
      "text/plain": [
       "    Hospitalized_date Confirmation_date Outcome_date  Confirmed  Infected  \\\n",
       "107               NaT        2020-01-30          NaT       True     False   \n",
       "108               NaT        2020-01-24          NaT       True     False   \n",
       "109        2020-10-01        2020-01-15   2020-01-15       True     False   \n",
       "110               NaT        2020-01-25          NaT       True     False   \n",
       "111               NaT        2020-01-26          NaT       True     False   \n",
       "\n",
       "     Recovered  Fatal                     Symptoms Chronic_disease   Age  \\\n",
       "107      False  False                          NaN             NaN   NaN   \n",
       "108       True  False  fever:pneumonia:sore throat             NaN  40.0   \n",
       "109       True  False      cough:fever:sore throat             NaN  30.0   \n",
       "110      False  False                  cough:fever             NaN   NaN   \n",
       "111      False  False   fever:joint pain:pneumonia             NaN  40.0   \n",
       "\n",
       "        Sex  \n",
       "107  female  \n",
       "108    male  \n",
       "109    male  \n",
       "110  female  \n",
       "111    male  "
      ]
     },
     "execution_count": 1,
     "metadata": {},
     "output_type": "execute_result"
    }
   ],
   "source": [
    "# Subset for specified area\n",
    "linelist.subset(\"Japan\", province=\"Tokyo\").tail()"
   ]
  },
  {
   "cell_type": "code",
   "execution_count": 29,
   "id": "fuzzy-topic",
   "metadata": {
    "collapsed": false,
    "execution": {
     "iopub.execute_input": "2021-02-12T16:22:37.726430Z",
     "iopub.status.busy": "2021-02-12T16:22:37.725796Z",
     "iopub.status.idle": "2021-02-12T16:22:37.895186Z",
     "shell.execute_reply": "2021-02-12T16:22:37.894619Z"
    }
   },
   "outputs": [
    {
     "data": {
      "text/html": [
       "<div>\n",
       "<style scoped>\n",
       "    .dataframe tbody tr th:only-of-type {\n",
       "        vertical-align: middle;\n",
       "    }\n",
       "\n",
       "    .dataframe tbody tr th {\n",
       "        vertical-align: top;\n",
       "    }\n",
       "\n",
       "    .dataframe thead th {\n",
       "        text-align: right;\n",
       "    }\n",
       "</style>\n",
       "<table border=\"1\" class=\"dataframe\">\n",
       "  <thead>\n",
       "    <tr style=\"text-align: right;\">\n",
       "      <th></th>\n",
       "      <th>Country</th>\n",
       "      <th>Province</th>\n",
       "      <th>Hospitalized_date</th>\n",
       "      <th>Confirmation_date</th>\n",
       "      <th>Recovered_date</th>\n",
       "      <th>Symptoms</th>\n",
       "      <th>Chronic_disease</th>\n",
       "      <th>Age</th>\n",
       "      <th>Sex</th>\n",
       "    </tr>\n",
       "  </thead>\n",
       "  <tbody>\n",
       "    <tr>\n",
       "      <th>272</th>\n",
       "      <td>Singapore</td>\n",
       "      <td>-</td>\n",
       "      <td>2020-02-02</td>\n",
       "      <td>2020-02-06</td>\n",
       "      <td>2020-02-17</td>\n",
       "      <td>NaN</td>\n",
       "      <td>NaN</td>\n",
       "      <td>39.0</td>\n",
       "      <td>female</td>\n",
       "    </tr>\n",
       "    <tr>\n",
       "      <th>273</th>\n",
       "      <td>Malaysia</td>\n",
       "      <td>Johor</td>\n",
       "      <td>NaT</td>\n",
       "      <td>2020-01-25</td>\n",
       "      <td>2020-02-08</td>\n",
       "      <td>cough:fever</td>\n",
       "      <td>NaN</td>\n",
       "      <td>40.0</td>\n",
       "      <td>male</td>\n",
       "    </tr>\n",
       "    <tr>\n",
       "      <th>274</th>\n",
       "      <td>China</td>\n",
       "      <td>Gansu</td>\n",
       "      <td>2020-07-02</td>\n",
       "      <td>2020-02-08</td>\n",
       "      <td>2020-02-17</td>\n",
       "      <td>diarrhea</td>\n",
       "      <td>NaN</td>\n",
       "      <td>1.0</td>\n",
       "      <td>female</td>\n",
       "    </tr>\n",
       "    <tr>\n",
       "      <th>275</th>\n",
       "      <td>Canada</td>\n",
       "      <td>Ontario</td>\n",
       "      <td>NaT</td>\n",
       "      <td>2020-01-25</td>\n",
       "      <td>2020-01-31</td>\n",
       "      <td>NaN</td>\n",
       "      <td>hypertension</td>\n",
       "      <td>NaN</td>\n",
       "      <td>male</td>\n",
       "    </tr>\n",
       "    <tr>\n",
       "      <th>276</th>\n",
       "      <td>Canada</td>\n",
       "      <td>Ontario</td>\n",
       "      <td>NaT</td>\n",
       "      <td>2020-01-31</td>\n",
       "      <td>2020-02-19</td>\n",
       "      <td>NaN</td>\n",
       "      <td>NaN</td>\n",
       "      <td>NaN</td>\n",
       "      <td>female</td>\n",
       "    </tr>\n",
       "  </tbody>\n",
       "</table>\n",
       "</div>"
      ],
      "text/plain": [
       "       Country Province Hospitalized_date Confirmation_date Recovered_date  \\\n",
       "272  Singapore        -        2020-02-02        2020-02-06     2020-02-17   \n",
       "273   Malaysia    Johor               NaT        2020-01-25     2020-02-08   \n",
       "274      China    Gansu        2020-07-02        2020-02-08     2020-02-17   \n",
       "275     Canada  Ontario               NaT        2020-01-25     2020-01-31   \n",
       "276     Canada  Ontario               NaT        2020-01-31     2020-02-19   \n",
       "\n",
       "        Symptoms Chronic_disease   Age     Sex  \n",
       "272          NaN             NaN  39.0  female  \n",
       "273  cough:fever             NaN  40.0    male  \n",
       "274     diarrhea             NaN   1.0  female  \n",
       "275          NaN    hypertension   NaN    male  \n",
       "276          NaN             NaN   NaN  female  "
      ]
     },
     "execution_count": 1,
     "metadata": {},
     "output_type": "execute_result"
    }
   ],
   "source": [
    "# Subset for outcome (\"Recovered\" or \"Fatal\")\n",
    "linelist.closed(outcome=\"Recovered\").tail()"
   ]
  },
  {
   "cell_type": "markdown",
   "id": "ignored-deployment",
   "metadata": {},
   "source": [
    "As the median value of the period from confirmation to recovery, we can calculate recovery period."
   ]
  },
  {
   "cell_type": "code",
   "execution_count": 30,
   "id": "broken-publicity",
   "metadata": {
    "collapsed": false,
    "execution": {
     "iopub.execute_input": "2021-02-12T16:22:37.900771Z",
     "iopub.status.busy": "2021-02-12T16:22:37.899963Z",
     "iopub.status.idle": "2021-02-12T16:22:37.999698Z",
     "shell.execute_reply": "2021-02-12T16:22:37.998356Z"
    }
   },
   "outputs": [
    {
     "data": {
      "text/plain": [
       "12"
      ]
     },
     "execution_count": 1,
     "metadata": {},
     "output_type": "execute_result"
    }
   ],
   "source": [
    "# Recovery period (integer) [days]\n",
    "linelist.recovery_period()"
   ]
  },
  {
   "cell_type": "markdown",
   "id": "flush-mauritius",
   "metadata": {},
   "source": [
    "### Population in each country\n",
    "Population values are necessary to calculate the number of susceptible people. Susceptible is a variable of SIR-derived models. This dataset was saved as `population_data`, an instance of `PopulationData` class."
   ]
  },
  {
   "cell_type": "code",
   "execution_count": 31,
   "id": "scenic-fellow",
   "metadata": {
    "collapsed": false,
    "execution": {
     "iopub.execute_input": "2021-02-12T16:22:38.004125Z",
     "iopub.status.busy": "2021-02-12T16:22:38.003511Z",
     "iopub.status.idle": "2021-02-12T16:22:38.006924Z",
     "shell.execute_reply": "2021-02-12T16:22:38.006493Z"
    }
   },
   "outputs": [
    {
     "data": {
      "text/plain": [
       "covsirphy.cleaning.population.PopulationData"
      ]
     },
     "execution_count": 1,
     "metadata": {},
     "output_type": "execute_result"
    }
   ],
   "source": [
    "type(population_data)"
   ]
  },
  {
   "cell_type": "code",
   "execution_count": 32,
   "id": "romance-hungary",
   "metadata": {
    "collapsed": false,
    "execution": {
     "iopub.execute_input": "2021-02-12T16:22:38.010461Z",
     "iopub.status.busy": "2021-02-12T16:22:38.009915Z",
     "iopub.status.idle": "2021-02-12T16:22:38.012896Z",
     "shell.execute_reply": "2021-02-12T16:22:38.013333Z"
    },
    "tags": []
   },
   "outputs": [
    {
     "name": "stdout",
     "output_type": "stream",
     "text": [
      "(Secondary source) Guidotti, E., Ardia, D., (2020), \"COVID-19 Data Hub\", Journal of Open Source Software 5(51):2376, doi: 10.21105/joss.02376.\n"
     ]
    }
   ],
   "source": [
    "# Description/citation\n",
    "print(population_data.citation)"
   ]
  },
  {
   "cell_type": "code",
   "execution_count": 33,
   "id": "streaming-egyptian",
   "metadata": {
    "collapsed": false,
    "execution": {
     "iopub.execute_input": "2021-02-12T16:22:38.017960Z",
     "iopub.status.busy": "2021-02-12T16:22:38.017424Z",
     "iopub.status.idle": "2021-02-12T16:22:38.019483Z",
     "shell.execute_reply": "2021-02-12T16:22:38.019929Z"
    }
   },
   "outputs": [],
   "source": [
    "# Raw data (the same as jhu_data)\n",
    "# population_data.raw.tail()"
   ]
  },
  {
   "cell_type": "code",
   "execution_count": 34,
   "id": "verbal-intellectual",
   "metadata": {
    "collapsed": false,
    "execution": {
     "iopub.execute_input": "2021-02-12T16:22:38.029245Z",
     "iopub.status.busy": "2021-02-12T16:22:38.028658Z",
     "iopub.status.idle": "2021-02-12T16:22:38.032859Z",
     "shell.execute_reply": "2021-02-12T16:22:38.033307Z"
    }
   },
   "outputs": [
    {
     "data": {
      "text/html": [
       "<div>\n",
       "<style scoped>\n",
       "    .dataframe tbody tr th:only-of-type {\n",
       "        vertical-align: middle;\n",
       "    }\n",
       "\n",
       "    .dataframe tbody tr th {\n",
       "        vertical-align: top;\n",
       "    }\n",
       "\n",
       "    .dataframe thead th {\n",
       "        text-align: right;\n",
       "    }\n",
       "</style>\n",
       "<table border=\"1\" class=\"dataframe\">\n",
       "  <thead>\n",
       "    <tr style=\"text-align: right;\">\n",
       "      <th></th>\n",
       "      <th>ISO3</th>\n",
       "      <th>Country</th>\n",
       "      <th>Province</th>\n",
       "      <th>Date</th>\n",
       "      <th>Population</th>\n",
       "    </tr>\n",
       "  </thead>\n",
       "  <tbody>\n",
       "    <tr>\n",
       "      <th>351326</th>\n",
       "      <td>COL</td>\n",
       "      <td>Colombia</td>\n",
       "      <td>Vichada</td>\n",
       "      <td>2021-02-08</td>\n",
       "      <td>107808</td>\n",
       "    </tr>\n",
       "    <tr>\n",
       "      <th>351327</th>\n",
       "      <td>COL</td>\n",
       "      <td>Colombia</td>\n",
       "      <td>Vichada</td>\n",
       "      <td>2021-02-09</td>\n",
       "      <td>107808</td>\n",
       "    </tr>\n",
       "    <tr>\n",
       "      <th>351328</th>\n",
       "      <td>COL</td>\n",
       "      <td>Colombia</td>\n",
       "      <td>Vichada</td>\n",
       "      <td>2021-02-10</td>\n",
       "      <td>107808</td>\n",
       "    </tr>\n",
       "    <tr>\n",
       "      <th>351329</th>\n",
       "      <td>COL</td>\n",
       "      <td>Colombia</td>\n",
       "      <td>Vichada</td>\n",
       "      <td>2021-02-11</td>\n",
       "      <td>107808</td>\n",
       "    </tr>\n",
       "    <tr>\n",
       "      <th>351330</th>\n",
       "      <td>COL</td>\n",
       "      <td>Colombia</td>\n",
       "      <td>Vichada</td>\n",
       "      <td>2021-02-12</td>\n",
       "      <td>107808</td>\n",
       "    </tr>\n",
       "  </tbody>\n",
       "</table>\n",
       "</div>"
      ],
      "text/plain": [
       "       ISO3   Country Province       Date  Population\n",
       "351326  COL  Colombia  Vichada 2021-02-08      107808\n",
       "351327  COL  Colombia  Vichada 2021-02-09      107808\n",
       "351328  COL  Colombia  Vichada 2021-02-10      107808\n",
       "351329  COL  Colombia  Vichada 2021-02-11      107808\n",
       "351330  COL  Colombia  Vichada 2021-02-12      107808"
      ]
     },
     "execution_count": 1,
     "metadata": {},
     "output_type": "execute_result"
    }
   ],
   "source": [
    "# Cleaned data\n",
    "population_data.cleaned().tail()"
   ]
  },
  {
   "cell_type": "markdown",
   "id": "private-chosen",
   "metadata": {},
   "source": [
    "We will get the population values with `PopulationData.value()`."
   ]
  },
  {
   "cell_type": "code",
   "execution_count": 35,
   "id": "optional-ceremony",
   "metadata": {
    "collapsed": false,
    "execution": {
     "iopub.execute_input": "2021-02-12T16:22:38.037475Z",
     "iopub.status.busy": "2021-02-12T16:22:38.036877Z",
     "iopub.status.idle": "2021-02-12T16:22:38.059234Z",
     "shell.execute_reply": "2021-02-12T16:22:38.058628Z"
    }
   },
   "outputs": [
    {
     "data": {
      "text/plain": [
       "126529100"
      ]
     },
     "execution_count": 1,
     "metadata": {},
     "output_type": "execute_result"
    }
   ],
   "source": [
    "# In a country\n",
    "population_data.value(\"Japan\", province=None)\n",
    "# In a country with ISO3 code\n",
    "# population_data.value(\"JPN\", province=None)\n",
    "# In a province (prefecture)\n",
    "# population_data.value(\"Japan\", province=\"Tokyo\")"
   ]
  },
  {
   "cell_type": "markdown",
   "id": "accepted-austria",
   "metadata": {},
   "source": [
    "We can update the population values."
   ]
  },
  {
   "cell_type": "code",
   "execution_count": 36,
   "id": "coordinate-phrase",
   "metadata": {
    "collapsed": false,
    "execution": {
     "iopub.execute_input": "2021-02-12T16:22:38.064923Z",
     "iopub.status.busy": "2021-02-12T16:22:38.063698Z",
     "iopub.status.idle": "2021-02-12T16:22:38.226647Z",
     "shell.execute_reply": "2021-02-12T16:22:38.227244Z"
    }
   },
   "outputs": [
    {
     "name": "stdout",
     "output_type": "stream",
     "text": [
      "Before: 13942856\n"
     ]
    },
    {
     "name": "stdout",
     "output_type": "stream",
     "text": [
      " After: 14002973\n"
     ]
    }
   ],
   "source": [
    "# Before\n",
    "population_before = population_data.value(\"Japan\", province=\"Tokyo\")\n",
    "print(f\"Before: {population_before}\")\n",
    "# Register population value of Tokyo in Japan\n",
    "# https://www.metro.tokyo.lg.jp/tosei/hodohappyo/press/2020/06/11/07.html\n",
    "population_data.update(14_002_973, \"Japan\", province=\"Tokyo\")\n",
    "population_after = population_data.value(\"Japan\", province=\"Tokyo\")\n",
    "print(f\" After: {population_after}\")"
   ]
  },
  {
   "cell_type": "markdown",
   "id": "limiting-brazil",
   "metadata": {},
   "source": [
    "### Government Response Tracker (OxCGRT)\n",
    "Government responses are tracked with [Oxford Covid-19 Government Response Tracker (OxCGRT)](https://github.com/OxCGRT/covid-policy-tracker). Because government responses and activities of persons change the parameter values of SIR-derived models, this dataset is significant when we try to forcast the number of cases.  \n",
    "With `DataLoader` class, the dataset was retrieved via [COVID-19 Data Hub](https://covid19datahub.io/) and saved as `oxcgrt_data`, an instance of `OxCGRTData` class."
   ]
  },
  {
   "cell_type": "code",
   "execution_count": 37,
   "id": "parliamentary-circus",
   "metadata": {
    "collapsed": false,
    "execution": {
     "iopub.execute_input": "2021-02-12T16:22:38.232589Z",
     "iopub.status.busy": "2021-02-12T16:22:38.231508Z",
     "iopub.status.idle": "2021-02-12T16:22:38.234941Z",
     "shell.execute_reply": "2021-02-12T16:22:38.235407Z"
    }
   },
   "outputs": [
    {
     "data": {
      "text/plain": [
       "covsirphy.cleaning.oxcgrt.OxCGRTData"
      ]
     },
     "execution_count": 1,
     "metadata": {},
     "output_type": "execute_result"
    }
   ],
   "source": [
    "type(oxcgrt_data)"
   ]
  },
  {
   "cell_type": "code",
   "execution_count": 38,
   "id": "coral-visiting",
   "metadata": {
    "collapsed": false,
    "execution": {
     "iopub.execute_input": "2021-02-12T16:22:38.239118Z",
     "iopub.status.busy": "2021-02-12T16:22:38.238594Z",
     "iopub.status.idle": "2021-02-12T16:22:38.240771Z",
     "shell.execute_reply": "2021-02-12T16:22:38.241159Z"
    },
    "tags": []
   },
   "outputs": [
    {
     "name": "stdout",
     "output_type": "stream",
     "text": [
      "(Secondary source) Guidotti, E., Ardia, D., (2020), \"COVID-19 Data Hub\", Journal of Open Source Software 5(51):2376, doi: 10.21105/joss.02376.\n"
     ]
    }
   ],
   "source": [
    "# Description/citation\n",
    "print(oxcgrt_data.citation)"
   ]
  },
  {
   "cell_type": "code",
   "execution_count": 39,
   "id": "incomplete-algorithm",
   "metadata": {
    "collapsed": false,
    "execution": {
     "iopub.execute_input": "2021-02-12T16:22:38.244362Z",
     "iopub.status.busy": "2021-02-12T16:22:38.243809Z",
     "iopub.status.idle": "2021-02-12T16:22:38.245918Z",
     "shell.execute_reply": "2021-02-12T16:22:38.246418Z"
    }
   },
   "outputs": [],
   "source": [
    "# Raw data (the same as jhu_data)\n",
    "# oxcgrt_data.raw.tail()"
   ]
  },
  {
   "cell_type": "code",
   "execution_count": 40,
   "id": "floral-benchmark",
   "metadata": {
    "collapsed": false,
    "execution": {
     "iopub.execute_input": "2021-02-12T16:22:38.260601Z",
     "iopub.status.busy": "2021-02-12T16:22:38.255208Z",
     "iopub.status.idle": "2021-02-12T16:22:38.263727Z",
     "shell.execute_reply": "2021-02-12T16:22:38.264291Z"
    }
   },
   "outputs": [
    {
     "data": {
      "text/html": [
       "<div>\n",
       "<style scoped>\n",
       "    .dataframe tbody tr th:only-of-type {\n",
       "        vertical-align: middle;\n",
       "    }\n",
       "\n",
       "    .dataframe tbody tr th {\n",
       "        vertical-align: top;\n",
       "    }\n",
       "\n",
       "    .dataframe thead th {\n",
       "        text-align: right;\n",
       "    }\n",
       "</style>\n",
       "<table border=\"1\" class=\"dataframe\">\n",
       "  <thead>\n",
       "    <tr style=\"text-align: right;\">\n",
       "      <th></th>\n",
       "      <th>Date</th>\n",
       "      <th>Country</th>\n",
       "      <th>ISO3</th>\n",
       "      <th>School_closing</th>\n",
       "      <th>Workplace_closing</th>\n",
       "      <th>Cancel_events</th>\n",
       "      <th>Gatherings_restrictions</th>\n",
       "      <th>Transport_closing</th>\n",
       "      <th>Stay_home_restrictions</th>\n",
       "      <th>Internal_movement_restrictions</th>\n",
       "      <th>International_movement_restrictions</th>\n",
       "      <th>Information_campaigns</th>\n",
       "      <th>Testing_policy</th>\n",
       "      <th>Contact_tracing</th>\n",
       "      <th>Stringency_index</th>\n",
       "    </tr>\n",
       "  </thead>\n",
       "  <tbody>\n",
       "    <tr>\n",
       "      <th>20658</th>\n",
       "      <td>2021-02-08</td>\n",
       "      <td>Colombia</td>\n",
       "      <td>COL</td>\n",
       "      <td>3</td>\n",
       "      <td>1</td>\n",
       "      <td>1</td>\n",
       "      <td>3</td>\n",
       "      <td>1</td>\n",
       "      <td>1</td>\n",
       "      <td>1</td>\n",
       "      <td>4</td>\n",
       "      <td>2</td>\n",
       "      <td>2</td>\n",
       "      <td>2</td>\n",
       "      <td>81.02</td>\n",
       "    </tr>\n",
       "    <tr>\n",
       "      <th>20659</th>\n",
       "      <td>2021-02-09</td>\n",
       "      <td>Colombia</td>\n",
       "      <td>COL</td>\n",
       "      <td>3</td>\n",
       "      <td>1</td>\n",
       "      <td>1</td>\n",
       "      <td>3</td>\n",
       "      <td>1</td>\n",
       "      <td>1</td>\n",
       "      <td>1</td>\n",
       "      <td>4</td>\n",
       "      <td>2</td>\n",
       "      <td>2</td>\n",
       "      <td>2</td>\n",
       "      <td>81.02</td>\n",
       "    </tr>\n",
       "    <tr>\n",
       "      <th>20660</th>\n",
       "      <td>2021-02-10</td>\n",
       "      <td>Colombia</td>\n",
       "      <td>COL</td>\n",
       "      <td>3</td>\n",
       "      <td>1</td>\n",
       "      <td>1</td>\n",
       "      <td>3</td>\n",
       "      <td>1</td>\n",
       "      <td>1</td>\n",
       "      <td>1</td>\n",
       "      <td>4</td>\n",
       "      <td>2</td>\n",
       "      <td>2</td>\n",
       "      <td>2</td>\n",
       "      <td>81.02</td>\n",
       "    </tr>\n",
       "    <tr>\n",
       "      <th>20661</th>\n",
       "      <td>2021-02-11</td>\n",
       "      <td>Colombia</td>\n",
       "      <td>COL</td>\n",
       "      <td>3</td>\n",
       "      <td>1</td>\n",
       "      <td>1</td>\n",
       "      <td>3</td>\n",
       "      <td>1</td>\n",
       "      <td>1</td>\n",
       "      <td>1</td>\n",
       "      <td>4</td>\n",
       "      <td>2</td>\n",
       "      <td>2</td>\n",
       "      <td>2</td>\n",
       "      <td>81.02</td>\n",
       "    </tr>\n",
       "    <tr>\n",
       "      <th>20662</th>\n",
       "      <td>2021-02-12</td>\n",
       "      <td>Colombia</td>\n",
       "      <td>COL</td>\n",
       "      <td>3</td>\n",
       "      <td>1</td>\n",
       "      <td>1</td>\n",
       "      <td>3</td>\n",
       "      <td>1</td>\n",
       "      <td>1</td>\n",
       "      <td>1</td>\n",
       "      <td>4</td>\n",
       "      <td>2</td>\n",
       "      <td>2</td>\n",
       "      <td>2</td>\n",
       "      <td>81.02</td>\n",
       "    </tr>\n",
       "  </tbody>\n",
       "</table>\n",
       "</div>"
      ],
      "text/plain": [
       "            Date   Country ISO3  School_closing  Workplace_closing  \\\n",
       "20658 2021-02-08  Colombia  COL               3                  1   \n",
       "20659 2021-02-09  Colombia  COL               3                  1   \n",
       "20660 2021-02-10  Colombia  COL               3                  1   \n",
       "20661 2021-02-11  Colombia  COL               3                  1   \n",
       "20662 2021-02-12  Colombia  COL               3                  1   \n",
       "\n",
       "       Cancel_events  Gatherings_restrictions  Transport_closing  \\\n",
       "20658              1                        3                  1   \n",
       "20659              1                        3                  1   \n",
       "20660              1                        3                  1   \n",
       "20661              1                        3                  1   \n",
       "20662              1                        3                  1   \n",
       "\n",
       "       Stay_home_restrictions  Internal_movement_restrictions  \\\n",
       "20658                       1                               1   \n",
       "20659                       1                               1   \n",
       "20660                       1                               1   \n",
       "20661                       1                               1   \n",
       "20662                       1                               1   \n",
       "\n",
       "       International_movement_restrictions  Information_campaigns  \\\n",
       "20658                                    4                      2   \n",
       "20659                                    4                      2   \n",
       "20660                                    4                      2   \n",
       "20661                                    4                      2   \n",
       "20662                                    4                      2   \n",
       "\n",
       "       Testing_policy  Contact_tracing  Stringency_index  \n",
       "20658               2                2             81.02  \n",
       "20659               2                2             81.02  \n",
       "20660               2                2             81.02  \n",
       "20661               2                2             81.02  \n",
       "20662               2                2             81.02  "
      ]
     },
     "execution_count": 1,
     "metadata": {},
     "output_type": "execute_result"
    }
   ],
   "source": [
    "# Cleaned data\n",
    "oxcgrt_data.cleaned().tail()"
   ]
  },
  {
   "cell_type": "code",
   "execution_count": 41,
   "id": "lonely-certification",
   "metadata": {
    "collapsed": false,
    "execution": {
     "iopub.execute_input": "2021-02-12T16:22:38.268860Z",
     "iopub.status.busy": "2021-02-12T16:22:38.268257Z",
     "iopub.status.idle": "2021-02-12T16:22:38.504375Z",
     "shell.execute_reply": "2021-02-12T16:22:38.504764Z"
    }
   },
   "outputs": [
    {
     "data": {
      "text/html": [
       "<div>\n",
       "<style scoped>\n",
       "    .dataframe tbody tr th:only-of-type {\n",
       "        vertical-align: middle;\n",
       "    }\n",
       "\n",
       "    .dataframe tbody tr th {\n",
       "        vertical-align: top;\n",
       "    }\n",
       "\n",
       "    .dataframe thead th {\n",
       "        text-align: right;\n",
       "    }\n",
       "</style>\n",
       "<table border=\"1\" class=\"dataframe\">\n",
       "  <thead>\n",
       "    <tr style=\"text-align: right;\">\n",
       "      <th></th>\n",
       "      <th>Date</th>\n",
       "      <th>School_closing</th>\n",
       "      <th>Workplace_closing</th>\n",
       "      <th>Cancel_events</th>\n",
       "      <th>Gatherings_restrictions</th>\n",
       "      <th>Transport_closing</th>\n",
       "      <th>Stay_home_restrictions</th>\n",
       "      <th>Internal_movement_restrictions</th>\n",
       "      <th>International_movement_restrictions</th>\n",
       "      <th>Information_campaigns</th>\n",
       "      <th>Testing_policy</th>\n",
       "      <th>Contact_tracing</th>\n",
       "      <th>Stringency_index</th>\n",
       "    </tr>\n",
       "  </thead>\n",
       "  <tbody>\n",
       "    <tr>\n",
       "      <th>404</th>\n",
       "      <td>2021-02-08</td>\n",
       "      <td>1</td>\n",
       "      <td>1</td>\n",
       "      <td>1</td>\n",
       "      <td>0</td>\n",
       "      <td>1</td>\n",
       "      <td>1</td>\n",
       "      <td>1</td>\n",
       "      <td>4</td>\n",
       "      <td>2</td>\n",
       "      <td>2</td>\n",
       "      <td>1</td>\n",
       "      <td>53.24</td>\n",
       "    </tr>\n",
       "    <tr>\n",
       "      <th>405</th>\n",
       "      <td>2021-02-09</td>\n",
       "      <td>1</td>\n",
       "      <td>1</td>\n",
       "      <td>1</td>\n",
       "      <td>0</td>\n",
       "      <td>1</td>\n",
       "      <td>1</td>\n",
       "      <td>1</td>\n",
       "      <td>4</td>\n",
       "      <td>2</td>\n",
       "      <td>2</td>\n",
       "      <td>1</td>\n",
       "      <td>53.24</td>\n",
       "    </tr>\n",
       "    <tr>\n",
       "      <th>406</th>\n",
       "      <td>2021-02-10</td>\n",
       "      <td>1</td>\n",
       "      <td>1</td>\n",
       "      <td>1</td>\n",
       "      <td>0</td>\n",
       "      <td>1</td>\n",
       "      <td>1</td>\n",
       "      <td>1</td>\n",
       "      <td>4</td>\n",
       "      <td>2</td>\n",
       "      <td>2</td>\n",
       "      <td>1</td>\n",
       "      <td>53.24</td>\n",
       "    </tr>\n",
       "    <tr>\n",
       "      <th>407</th>\n",
       "      <td>2021-02-11</td>\n",
       "      <td>1</td>\n",
       "      <td>1</td>\n",
       "      <td>1</td>\n",
       "      <td>0</td>\n",
       "      <td>1</td>\n",
       "      <td>1</td>\n",
       "      <td>1</td>\n",
       "      <td>4</td>\n",
       "      <td>2</td>\n",
       "      <td>2</td>\n",
       "      <td>1</td>\n",
       "      <td>53.24</td>\n",
       "    </tr>\n",
       "    <tr>\n",
       "      <th>408</th>\n",
       "      <td>2021-02-12</td>\n",
       "      <td>1</td>\n",
       "      <td>1</td>\n",
       "      <td>1</td>\n",
       "      <td>0</td>\n",
       "      <td>1</td>\n",
       "      <td>1</td>\n",
       "      <td>1</td>\n",
       "      <td>4</td>\n",
       "      <td>2</td>\n",
       "      <td>2</td>\n",
       "      <td>1</td>\n",
       "      <td>53.24</td>\n",
       "    </tr>\n",
       "  </tbody>\n",
       "</table>\n",
       "</div>"
      ],
      "text/plain": [
       "          Date  School_closing  Workplace_closing  Cancel_events  \\\n",
       "404 2021-02-08               1                  1              1   \n",
       "405 2021-02-09               1                  1              1   \n",
       "406 2021-02-10               1                  1              1   \n",
       "407 2021-02-11               1                  1              1   \n",
       "408 2021-02-12               1                  1              1   \n",
       "\n",
       "     Gatherings_restrictions  Transport_closing  Stay_home_restrictions  \\\n",
       "404                        0                  1                       1   \n",
       "405                        0                  1                       1   \n",
       "406                        0                  1                       1   \n",
       "407                        0                  1                       1   \n",
       "408                        0                  1                       1   \n",
       "\n",
       "     Internal_movement_restrictions  International_movement_restrictions  \\\n",
       "404                               1                                    4   \n",
       "405                               1                                    4   \n",
       "406                               1                                    4   \n",
       "407                               1                                    4   \n",
       "408                               1                                    4   \n",
       "\n",
       "     Information_campaigns  Testing_policy  Contact_tracing  Stringency_index  \n",
       "404                      2               2                1             53.24  \n",
       "405                      2               2                1             53.24  \n",
       "406                      2               2                1             53.24  \n",
       "407                      2               2                1             53.24  \n",
       "408                      2               2                1             53.24  "
      ]
     },
     "execution_count": 1,
     "metadata": {},
     "output_type": "execute_result"
    }
   ],
   "source": [
    "# Subset for a country\n",
    "oxcgrt_data.subset(\"Japan\").tail()\n",
    "# We can use ISO3 codes\n",
    "# oxcgrt_data.subset(\"JPN\").tail()"
   ]
  },
  {
   "cell_type": "markdown",
   "id": "vertical-formula",
   "metadata": {},
   "source": [
    "### The number of tests\n",
    "The number of tests is also key information to understand the situation.\n",
    "This dataset was saved as `pcr_data`, an instance of `PCRData` class."
   ]
  },
  {
   "cell_type": "code",
   "execution_count": 42,
   "id": "controversial-subscription",
   "metadata": {
    "collapsed": false,
    "execution": {
     "iopub.execute_input": "2021-02-12T16:22:38.508766Z",
     "iopub.status.busy": "2021-02-12T16:22:38.508219Z",
     "iopub.status.idle": "2021-02-12T16:22:38.511637Z",
     "shell.execute_reply": "2021-02-12T16:22:38.512050Z"
    }
   },
   "outputs": [
    {
     "data": {
      "text/plain": [
       "covsirphy.cleaning.pcr_data.PCRData"
      ]
     },
     "execution_count": 1,
     "metadata": {},
     "output_type": "execute_result"
    }
   ],
   "source": [
    "type(pcr_data)"
   ]
  },
  {
   "cell_type": "code",
   "execution_count": 43,
   "id": "breathing-diesel",
   "metadata": {
    "collapsed": false,
    "execution": {
     "iopub.execute_input": "2021-02-12T16:22:38.517150Z",
     "iopub.status.busy": "2021-02-12T16:22:38.516598Z",
     "iopub.status.idle": "2021-02-12T16:22:38.518989Z",
     "shell.execute_reply": "2021-02-12T16:22:38.519404Z"
    }
   },
   "outputs": [
    {
     "name": "stdout",
     "output_type": "stream",
     "text": [
      "(Secondary source) Guidotti, E., Ardia, D., (2020), \"COVID-19 Data Hub\", Journal of Open Source Software 5(51):2376, doi: 10.21105/joss.02376.\n",
      "Hasell, J., Mathieu, E., Beltekian, D. et al. A cross-country database of COVID-19 testing. Sci Data 7, 345 (2020). https://doi.org/10.1038/s41597-020-00688-8\n",
      "Lisphilar (2020), COVID-19 dataset in Japan, GitHub repository, https://github.com/lisphilar/covid19-sir/data/japan\n"
     ]
    }
   ],
   "source": [
    "# Description/citation\n",
    "print(pcr_data.citation)"
   ]
  },
  {
   "cell_type": "code",
   "execution_count": 44,
   "id": "confirmed-sweden",
   "metadata": {
    "collapsed": false,
    "execution": {
     "iopub.execute_input": "2021-02-12T16:22:38.522716Z",
     "iopub.status.busy": "2021-02-12T16:22:38.522161Z",
     "iopub.status.idle": "2021-02-12T16:22:38.524661Z",
     "shell.execute_reply": "2021-02-12T16:22:38.524092Z"
    }
   },
   "outputs": [],
   "source": [
    "# Raw data (the same as jhu_data)\n",
    "# pcr_data.raw.tail()"
   ]
  },
  {
   "cell_type": "code",
   "execution_count": 45,
   "id": "acceptable-barbados",
   "metadata": {
    "collapsed": false,
    "execution": {
     "iopub.execute_input": "2021-02-12T16:22:38.537163Z",
     "iopub.status.busy": "2021-02-12T16:22:38.528210Z",
     "iopub.status.idle": "2021-02-12T16:22:38.540553Z",
     "shell.execute_reply": "2021-02-12T16:22:38.539960Z"
    }
   },
   "outputs": [
    {
     "data": {
      "text/html": [
       "<div>\n",
       "<style scoped>\n",
       "    .dataframe tbody tr th:only-of-type {\n",
       "        vertical-align: middle;\n",
       "    }\n",
       "\n",
       "    .dataframe tbody tr th {\n",
       "        vertical-align: top;\n",
       "    }\n",
       "\n",
       "    .dataframe thead th {\n",
       "        text-align: right;\n",
       "    }\n",
       "</style>\n",
       "<table border=\"1\" class=\"dataframe\">\n",
       "  <thead>\n",
       "    <tr style=\"text-align: right;\">\n",
       "      <th></th>\n",
       "      <th>Date</th>\n",
       "      <th>Country</th>\n",
       "      <th>Province</th>\n",
       "      <th>Tests</th>\n",
       "      <th>Confirmed</th>\n",
       "    </tr>\n",
       "  </thead>\n",
       "  <tbody>\n",
       "    <tr>\n",
       "      <th>16249</th>\n",
       "      <td>2021-02-07</td>\n",
       "      <td>Japan</td>\n",
       "      <td>-</td>\n",
       "      <td>7221664</td>\n",
       "      <td>403435</td>\n",
       "    </tr>\n",
       "    <tr>\n",
       "      <th>16250</th>\n",
       "      <td>2021-02-08</td>\n",
       "      <td>Japan</td>\n",
       "      <td>-</td>\n",
       "      <td>7241214</td>\n",
       "      <td>404990</td>\n",
       "    </tr>\n",
       "    <tr>\n",
       "      <th>16251</th>\n",
       "      <td>2021-02-09</td>\n",
       "      <td>Japan</td>\n",
       "      <td>-</td>\n",
       "      <td>7301609</td>\n",
       "      <td>406766</td>\n",
       "    </tr>\n",
       "    <tr>\n",
       "      <th>16252</th>\n",
       "      <td>2021-02-10</td>\n",
       "      <td>Japan</td>\n",
       "      <td>-</td>\n",
       "      <td>7380588</td>\n",
       "      <td>408186</td>\n",
       "    </tr>\n",
       "    <tr>\n",
       "      <th>16253</th>\n",
       "      <td>2021-02-11</td>\n",
       "      <td>Japan</td>\n",
       "      <td>-</td>\n",
       "      <td>7447270</td>\n",
       "      <td>410012</td>\n",
       "    </tr>\n",
       "  </tbody>\n",
       "</table>\n",
       "</div>"
      ],
      "text/plain": [
       "            Date Country Province    Tests  Confirmed\n",
       "16249 2021-02-07   Japan        -  7221664     403435\n",
       "16250 2021-02-08   Japan        -  7241214     404990\n",
       "16251 2021-02-09   Japan        -  7301609     406766\n",
       "16252 2021-02-10   Japan        -  7380588     408186\n",
       "16253 2021-02-11   Japan        -  7447270     410012"
      ]
     },
     "execution_count": 1,
     "metadata": {},
     "output_type": "execute_result"
    }
   ],
   "source": [
    "# Cleaned data\n",
    "pcr_data.cleaned().tail()"
   ]
  },
  {
   "cell_type": "code",
   "execution_count": 46,
   "id": "differential-humanity",
   "metadata": {
    "collapsed": false,
    "execution": {
     "iopub.execute_input": "2021-02-12T16:22:38.544666Z",
     "iopub.status.busy": "2021-02-12T16:22:38.544056Z",
     "iopub.status.idle": "2021-02-12T16:22:38.557667Z",
     "shell.execute_reply": "2021-02-12T16:22:38.558081Z"
    }
   },
   "outputs": [
    {
     "data": {
      "text/html": [
       "<div>\n",
       "<style scoped>\n",
       "    .dataframe tbody tr th:only-of-type {\n",
       "        vertical-align: middle;\n",
       "    }\n",
       "\n",
       "    .dataframe tbody tr th {\n",
       "        vertical-align: top;\n",
       "    }\n",
       "\n",
       "    .dataframe thead th {\n",
       "        text-align: right;\n",
       "    }\n",
       "</style>\n",
       "<table border=\"1\" class=\"dataframe\">\n",
       "  <thead>\n",
       "    <tr style=\"text-align: right;\">\n",
       "      <th></th>\n",
       "      <th>Date</th>\n",
       "      <th>Tests</th>\n",
       "      <th>Confirmed</th>\n",
       "    </tr>\n",
       "  </thead>\n",
       "  <tbody>\n",
       "  </tbody>\n",
       "</table>\n",
       "</div>"
      ],
      "text/plain": [
       "Empty DataFrame\n",
       "Columns: [Date, Tests, Confirmed]\n",
       "Index: []"
      ]
     },
     "execution_count": 1,
     "metadata": {},
     "output_type": "execute_result"
    }
   ],
   "source": [
    "# Subset for a country\n",
    "pcr_data.subset(\"Japan\").tail()\n",
    "# We can use ISO3 codes\n",
    "# pcr_data.subset(\"JPN\").tail()"
   ]
  },
  {
   "cell_type": "markdown",
   "id": "restricted-solution",
   "metadata": {},
   "source": [
    "Under the assumption that all tests were PCR test, we can calculate the positive rate of PCR tests as \"the number of confirmed cases per the number of tests\"."
   ]
  },
  {
   "cell_type": "code",
   "execution_count": 47,
   "id": "nominated-egypt",
   "metadata": {
    "collapsed": false,
    "execution": {
     "iopub.execute_input": "2021-02-12T16:22:38.562154Z",
     "iopub.status.busy": "2021-02-12T16:22:38.561553Z",
     "iopub.status.idle": "2021-02-12T16:22:39.099878Z",
     "shell.execute_reply": "2021-02-12T16:22:39.100853Z"
    }
   },
   "outputs": [
    {
     "data": {
      "image/png": "[encoded data removed]",
      "text/plain": [
       "<Figure size 648x432 with 1 Axes>"
      ]
     },
     "metadata": {
      "needs_background": "light"
     },
     "output_type": "display_data"
    }
   ],
   "source": [
    "# Positive rate in Japan\n",
    "_ = pcr_data.positive_rate(\"Japan\")"
   ]
  },
  {
   "cell_type": "markdown",
   "id": "thorough-worst",
   "metadata": {},
   "source": [
    "### The number of vaccinations\n",
    "The number of vaccinations is a key factor to end the outbreak as soon as possible. This dataset was saved as `vaccine_data`, an instance of `VaccineData` class."
   ]
  },
  {
   "cell_type": "code",
   "execution_count": 48,
   "id": "champion-debut",
   "metadata": {
    "collapsed": false,
    "execution": {
     "iopub.execute_input": "2021-02-12T16:22:39.106103Z",
     "iopub.status.busy": "2021-02-12T16:22:39.105503Z",
     "iopub.status.idle": "2021-02-12T16:22:39.108802Z",
     "shell.execute_reply": "2021-02-12T16:22:39.109240Z"
    }
   },
   "outputs": [
    {
     "data": {
      "text/plain": [
       "covsirphy.cleaning.vaccine_data.VaccineData"
      ]
     },
     "execution_count": 1,
     "metadata": {},
     "output_type": "execute_result"
    }
   ],
   "source": [
    "# The number of vaccinations\n",
    "type(vaccine_data)"
   ]
  },
  {
   "cell_type": "code",
   "execution_count": 49,
   "id": "afraid-potter",
   "metadata": {
    "collapsed": false,
    "execution": {
     "iopub.execute_input": "2021-02-12T16:22:39.113065Z",
     "iopub.status.busy": "2021-02-12T16:22:39.112515Z",
     "iopub.status.idle": "2021-02-12T16:22:39.115922Z",
     "shell.execute_reply": "2021-02-12T16:22:39.117023Z"
    }
   },
   "outputs": [
    {
     "name": "stdout",
     "output_type": "stream",
     "text": [
      "Hasell, J., Mathieu, E., Beltekian, D. et al. A cross-country database of COVID-19 testing. Sci Data 7, 345 (2020). https://doi.org/10.1038/s41597-020-00688-8\n"
     ]
    }
   ],
   "source": [
    "# Description/citation\n",
    "print(vaccine_data.citation)"
   ]
  },
  {
   "cell_type": "code",
   "execution_count": 50,
   "id": "devoted-purse",
   "metadata": {
    "collapsed": false,
    "execution": {
     "iopub.execute_input": "2021-02-12T16:22:39.121112Z",
     "iopub.status.busy": "2021-02-12T16:22:39.120526Z",
     "iopub.status.idle": "2021-02-12T16:22:39.123132Z",
     "shell.execute_reply": "2021-02-12T16:22:39.122560Z"
    }
   },
   "outputs": [],
   "source": [
    "# Raw data\n",
    "# vaccine_data.raw.tail()"
   ]
  },
  {
   "cell_type": "code",
   "execution_count": 51,
   "id": "finite-level",
   "metadata": {
    "collapsed": false,
    "execution": {
     "iopub.execute_input": "2021-02-12T16:22:39.133554Z",
     "iopub.status.busy": "2021-02-12T16:22:39.132515Z",
     "iopub.status.idle": "2021-02-12T16:22:39.136270Z",
     "shell.execute_reply": "2021-02-12T16:22:39.135683Z"
    }
   },
   "outputs": [
    {
     "data": {
      "text/html": [
       "<div>\n",
       "<style scoped>\n",
       "    .dataframe tbody tr th:only-of-type {\n",
       "        vertical-align: middle;\n",
       "    }\n",
       "\n",
       "    .dataframe tbody tr th {\n",
       "        vertical-align: top;\n",
       "    }\n",
       "\n",
       "    .dataframe thead th {\n",
       "        text-align: right;\n",
       "    }\n",
       "</style>\n",
       "<table border=\"1\" class=\"dataframe\">\n",
       "  <thead>\n",
       "    <tr style=\"text-align: right;\">\n",
       "      <th></th>\n",
       "      <th>Date</th>\n",
       "      <th>Country</th>\n",
       "      <th>Product</th>\n",
       "      <th>Vaccinations</th>\n",
       "    </tr>\n",
       "  </thead>\n",
       "  <tbody>\n",
       "    <tr>\n",
       "      <th>2958</th>\n",
       "      <td>2021-02-06</td>\n",
       "      <td>Wales</td>\n",
       "      <td>Oxford/AstraZeneca, Pfizer/BioNTech</td>\n",
       "      <td>592228</td>\n",
       "    </tr>\n",
       "    <tr>\n",
       "      <th>2959</th>\n",
       "      <td>2021-02-07</td>\n",
       "      <td>Wales</td>\n",
       "      <td>Oxford/AstraZeneca, Pfizer/BioNTech</td>\n",
       "      <td>606768</td>\n",
       "    </tr>\n",
       "    <tr>\n",
       "      <th>2960</th>\n",
       "      <td>2021-02-08</td>\n",
       "      <td>Wales</td>\n",
       "      <td>Oxford/AstraZeneca, Pfizer/BioNTech</td>\n",
       "      <td>632251</td>\n",
       "    </tr>\n",
       "    <tr>\n",
       "      <th>2961</th>\n",
       "      <td>2021-02-09</td>\n",
       "      <td>Wales</td>\n",
       "      <td>Oxford/AstraZeneca, Pfizer/BioNTech</td>\n",
       "      <td>659106</td>\n",
       "    </tr>\n",
       "    <tr>\n",
       "      <th>2962</th>\n",
       "      <td>2021-02-10</td>\n",
       "      <td>Wales</td>\n",
       "      <td>Oxford/AstraZeneca, Pfizer/BioNTech</td>\n",
       "      <td>687892</td>\n",
       "    </tr>\n",
       "  </tbody>\n",
       "</table>\n",
       "</div>"
      ],
      "text/plain": [
       "           Date Country                              Product  Vaccinations\n",
       "2958 2021-02-06   Wales  Oxford/AstraZeneca, Pfizer/BioNTech        592228\n",
       "2959 2021-02-07   Wales  Oxford/AstraZeneca, Pfizer/BioNTech        606768\n",
       "2960 2021-02-08   Wales  Oxford/AstraZeneca, Pfizer/BioNTech        632251\n",
       "2961 2021-02-09   Wales  Oxford/AstraZeneca, Pfizer/BioNTech        659106\n",
       "2962 2021-02-10   Wales  Oxford/AstraZeneca, Pfizer/BioNTech        687892"
      ]
     },
     "execution_count": 1,
     "metadata": {},
     "output_type": "execute_result"
    }
   ],
   "source": [
    "# Cleaned data\n",
    "vaccine_data.cleaned().tail()"
   ]
  },
  {
   "cell_type": "code",
   "execution_count": 52,
   "id": "selected-seating",
   "metadata": {
    "collapsed": false,
    "execution": {
     "iopub.execute_input": "2021-02-12T16:22:39.141708Z",
     "iopub.status.busy": "2021-02-12T16:22:39.139833Z",
     "iopub.status.idle": "2021-02-12T16:22:39.145729Z",
     "shell.execute_reply": "2021-02-12T16:22:39.145074Z"
    }
   },
   "outputs": [
    {
     "data": {
      "text/plain": [
       "['Albania',\n",
       " 'Algeria',\n",
       " 'Andorra',\n",
       " 'Argentina',\n",
       " 'Austria',\n",
       " 'Bahrain',\n",
       " 'Bangladesh',\n",
       " 'Belgium',\n",
       " 'Bermuda',\n",
       " 'Bolivia',\n",
       " 'Brazil',\n",
       " 'Bulgaria',\n",
       " 'Canada',\n",
       " 'Cayman Islands',\n",
       " 'Chile',\n",
       " 'China',\n",
       " 'Costa Rica',\n",
       " 'Croatia',\n",
       " 'Cyprus',\n",
       " 'Czechia',\n",
       " 'Denmark',\n",
       " 'Ecuador',\n",
       " 'Egypt',\n",
       " 'England',\n",
       " 'Estonia',\n",
       " 'European Union',\n",
       " 'Faeroe Islands',\n",
       " 'Finland',\n",
       " 'France',\n",
       " 'Germany',\n",
       " 'Gibraltar',\n",
       " 'Greece',\n",
       " 'Greenland',\n",
       " 'Guernsey',\n",
       " 'Hungary',\n",
       " 'Iceland',\n",
       " 'India',\n",
       " 'Indonesia',\n",
       " 'Iran',\n",
       " 'Ireland',\n",
       " 'Isle of Man',\n",
       " 'Israel',\n",
       " 'Italy',\n",
       " 'Jersey',\n",
       " 'Kuwait',\n",
       " 'Latvia',\n",
       " 'Liechtenstein',\n",
       " 'Lithuania',\n",
       " 'Luxembourg',\n",
       " 'Maldives',\n",
       " 'Malta',\n",
       " 'Mauritius',\n",
       " 'Mexico',\n",
       " 'Monaco',\n",
       " 'Morocco',\n",
       " 'Myanmar',\n",
       " 'Nepal',\n",
       " 'Netherlands',\n",
       " 'Northern Cyprus',\n",
       " 'Northern Ireland',\n",
       " 'Norway',\n",
       " 'Oman',\n",
       " 'Panama',\n",
       " 'Peru',\n",
       " 'Poland',\n",
       " 'Portugal',\n",
       " 'Qatar',\n",
       " 'Romania',\n",
       " 'Russia',\n",
       " 'Saint Helena',\n",
       " 'Saudi Arabia',\n",
       " 'Scotland',\n",
       " 'Serbia',\n",
       " 'Seychelles',\n",
       " 'Singapore',\n",
       " 'Slovakia',\n",
       " 'Slovenia',\n",
       " 'Spain',\n",
       " 'Sri Lanka',\n",
       " 'Sweden',\n",
       " 'Switzerland',\n",
       " 'Turkey',\n",
       " 'United Arab Emirates',\n",
       " 'United Kingdom',\n",
       " 'United States',\n",
       " 'Wales']"
      ]
     },
     "execution_count": 1,
     "metadata": {},
     "output_type": "execute_result"
    }
   ],
   "source": [
    "# Registered countries\n",
    "vaccine_data.countries()"
   ]
  },
  {
   "cell_type": "code",
   "execution_count": 53,
   "id": "subtle-forge",
   "metadata": {
    "collapsed": false,
    "execution": {
     "iopub.execute_input": "2021-02-12T16:22:39.170473Z",
     "iopub.status.busy": "2021-02-12T16:22:39.150663Z",
     "iopub.status.idle": "2021-02-12T16:22:39.173696Z",
     "shell.execute_reply": "2021-02-12T16:22:39.173112Z"
    }
   },
   "outputs": [
    {
     "data": {
      "text/html": [
       "<div>\n",
       "<style scoped>\n",
       "    .dataframe tbody tr th:only-of-type {\n",
       "        vertical-align: middle;\n",
       "    }\n",
       "\n",
       "    .dataframe tbody tr th {\n",
       "        vertical-align: top;\n",
       "    }\n",
       "\n",
       "    .dataframe thead th {\n",
       "        text-align: right;\n",
       "    }\n",
       "</style>\n",
       "<table border=\"1\" class=\"dataframe\">\n",
       "  <thead>\n",
       "    <tr style=\"text-align: right;\">\n",
       "      <th></th>\n",
       "      <th>Date</th>\n",
       "      <th>Vaccinations</th>\n",
       "    </tr>\n",
       "  </thead>\n",
       "  <tbody>\n",
       "    <tr>\n",
       "      <th>55</th>\n",
       "      <td>2021-02-06</td>\n",
       "      <td>12526737</td>\n",
       "    </tr>\n",
       "    <tr>\n",
       "      <th>56</th>\n",
       "      <td>2021-02-07</td>\n",
       "      <td>12806587</td>\n",
       "    </tr>\n",
       "    <tr>\n",
       "      <th>57</th>\n",
       "      <td>2021-02-08</td>\n",
       "      <td>13162878</td>\n",
       "    </tr>\n",
       "    <tr>\n",
       "      <th>58</th>\n",
       "      <td>2021-02-09</td>\n",
       "      <td>13577851</td>\n",
       "    </tr>\n",
       "    <tr>\n",
       "      <th>59</th>\n",
       "      <td>2021-02-10</td>\n",
       "      <td>14033555</td>\n",
       "    </tr>\n",
       "  </tbody>\n",
       "</table>\n",
       "</div>"
      ],
      "text/plain": [
       "         Date  Vaccinations\n",
       "55 2021-02-06      12526737\n",
       "56 2021-02-07      12806587\n",
       "57 2021-02-08      13162878\n",
       "58 2021-02-09      13577851\n",
       "59 2021-02-10      14033555"
      ]
     },
     "execution_count": 1,
     "metadata": {},
     "output_type": "execute_result"
    }
   ],
   "source": [
    "# Subset for a country\n",
    "vaccine_data.subset(\"United Kingdom\").tail()\n",
    "# We can use ISO3 codes\n",
    "# pcr_data.subset(\"GBR\").tail()"
   ]
  },
  {
   "cell_type": "markdown",
   "id": "private-shade",
   "metadata": {},
   "source": [
    "### Population pyramid\n",
    "With population pyramid, we can divide the population to sub-groups. This will be useful when we analyse the meaning of parameters. For example, how many days go out is different between the sub-groups.\n",
    "This dataset was saved as `pyramid_data`, an instance of `PopulationPyramidData` class."
   ]
  },
  {
   "cell_type": "code",
   "execution_count": 54,
   "id": "hourly-truck",
   "metadata": {
    "collapsed": false,
    "execution": {
     "iopub.execute_input": "2021-02-12T16:22:39.177902Z",
     "iopub.status.busy": "2021-02-12T16:22:39.177270Z",
     "iopub.status.idle": "2021-02-12T16:22:39.181648Z",
     "shell.execute_reply": "2021-02-12T16:22:39.180714Z"
    }
   },
   "outputs": [
    {
     "data": {
      "text/plain": [
       "covsirphy.cleaning.pyramid.PopulationPyramidData"
      ]
     },
     "execution_count": 1,
     "metadata": {},
     "output_type": "execute_result"
    }
   ],
   "source": [
    "# Population pyramid\n",
    "type(pyramid_data)"
   ]
  },
  {
   "cell_type": "code",
   "execution_count": 55,
   "id": "internal-detection",
   "metadata": {
    "collapsed": false,
    "execution": {
     "iopub.execute_input": "2021-02-12T16:22:39.186208Z",
     "iopub.status.busy": "2021-02-12T16:22:39.185619Z",
     "iopub.status.idle": "2021-02-12T16:22:39.188470Z",
     "shell.execute_reply": "2021-02-12T16:22:39.187874Z"
    }
   },
   "outputs": [
    {
     "name": "stdout",
     "output_type": "stream",
     "text": [
      "World Bank Group (2020), World Bank Open Data, https://data.worldbank.org/\n"
     ]
    }
   ],
   "source": [
    "# Description/citation\n",
    "print(pyramid_data.citation)"
   ]
  },
  {
   "cell_type": "code",
   "execution_count": 56,
   "id": "unauthorized-immigration",
   "metadata": {
    "collapsed": false,
    "execution": {
     "iopub.execute_input": "2021-02-12T16:22:39.192875Z",
     "iopub.status.busy": "2021-02-12T16:22:39.192272Z",
     "iopub.status.idle": "2021-02-12T16:22:39.219174Z",
     "shell.execute_reply": "2021-02-12T16:22:39.218587Z"
    }
   },
   "outputs": [
    {
     "data": {
      "text/html": [
       "<div>\n",
       "<style scoped>\n",
       "    .dataframe tbody tr th:only-of-type {\n",
       "        vertical-align: middle;\n",
       "    }\n",
       "\n",
       "    .dataframe tbody tr th {\n",
       "        vertical-align: top;\n",
       "    }\n",
       "\n",
       "    .dataframe thead th {\n",
       "        text-align: right;\n",
       "    }\n",
       "</style>\n",
       "<table border=\"1\" class=\"dataframe\">\n",
       "  <thead>\n",
       "    <tr style=\"text-align: right;\">\n",
       "      <th></th>\n",
       "      <th>Age</th>\n",
       "      <th>Population</th>\n",
       "      <th>Per_total</th>\n",
       "    </tr>\n",
       "  </thead>\n",
       "  <tbody>\n",
       "    <tr>\n",
       "      <th>113</th>\n",
       "      <td>118</td>\n",
       "      <td>255035</td>\n",
       "      <td>0.002174</td>\n",
       "    </tr>\n",
       "    <tr>\n",
       "      <th>114</th>\n",
       "      <td>119</td>\n",
       "      <td>255035</td>\n",
       "      <td>0.002174</td>\n",
       "    </tr>\n",
       "    <tr>\n",
       "      <th>115</th>\n",
       "      <td>120</td>\n",
       "      <td>255035</td>\n",
       "      <td>0.002174</td>\n",
       "    </tr>\n",
       "    <tr>\n",
       "      <th>116</th>\n",
       "      <td>121</td>\n",
       "      <td>255035</td>\n",
       "      <td>0.002174</td>\n",
       "    </tr>\n",
       "    <tr>\n",
       "      <th>117</th>\n",
       "      <td>122</td>\n",
       "      <td>255035</td>\n",
       "      <td>0.002174</td>\n",
       "    </tr>\n",
       "  </tbody>\n",
       "</table>\n",
       "</div>"
      ],
      "text/plain": [
       "     Age  Population  Per_total\n",
       "113  118      255035   0.002174\n",
       "114  119      255035   0.002174\n",
       "115  120      255035   0.002174\n",
       "116  121      255035   0.002174\n",
       "117  122      255035   0.002174"
      ]
     },
     "execution_count": 1,
     "metadata": {},
     "output_type": "execute_result"
    }
   ],
   "source": [
    "# Subset will retrieved from the server when set\n",
    "pyramid_data.subset(\"Japan\").tail()"
   ]
  },
  {
   "cell_type": "markdown",
   "id": "indoor-sperm",
   "metadata": {},
   "source": [
    "### Japan-specific dataset\n",
    "This includes the number of confirmed/infected/fatal/recovered/tests/moderate/severe cases at country/prefecture level and metadata of each prefecture.\n",
    "This dataset was saved as `japan_data`, an instance of `JapanData` class."
   ]
  },
  {
   "cell_type": "code",
   "execution_count": 57,
   "id": "horizontal-yahoo",
   "metadata": {
    "collapsed": false,
    "execution": {
     "iopub.execute_input": "2021-02-12T16:22:39.223356Z",
     "iopub.status.busy": "2021-02-12T16:22:39.222798Z",
     "iopub.status.idle": "2021-02-12T16:22:39.226221Z",
     "shell.execute_reply": "2021-02-12T16:22:39.225539Z"
    }
   },
   "outputs": [
    {
     "data": {
      "text/plain": [
       "covsirphy.cleaning.japan_data.JapanData"
      ]
     },
     "execution_count": 1,
     "metadata": {},
     "output_type": "execute_result"
    }
   ],
   "source": [
    "# Japan-specific dataset\n",
    "type(japan_data)"
   ]
  },
  {
   "cell_type": "code",
   "execution_count": 58,
   "id": "genuine-biotechnology",
   "metadata": {
    "collapsed": false,
    "execution": {
     "iopub.execute_input": "2021-02-12T16:22:39.229988Z",
     "iopub.status.busy": "2021-02-12T16:22:39.229324Z",
     "iopub.status.idle": "2021-02-12T16:22:39.232546Z",
     "shell.execute_reply": "2021-02-12T16:22:39.233090Z"
    }
   },
   "outputs": [
    {
     "name": "stdout",
     "output_type": "stream",
     "text": [
      "Lisphilar (2020), COVID-19 dataset in Japan, GitHub repository, https://github.com/lisphilar/covid19-sir/data/japan\n"
     ]
    }
   ],
   "source": [
    "# Description/citation\n",
    "print(japan_data.citation)"
   ]
  },
  {
   "cell_type": "code",
   "execution_count": 59,
   "id": "previous-signature",
   "metadata": {
    "collapsed": false,
    "execution": {
     "iopub.execute_input": "2021-02-12T16:22:39.244706Z",
     "iopub.status.busy": "2021-02-12T16:22:39.244104Z",
     "iopub.status.idle": "2021-02-12T16:22:39.247776Z",
     "shell.execute_reply": "2021-02-12T16:22:39.248559Z"
    }
   },
   "outputs": [
    {
     "data": {
      "text/html": [
       "<div>\n",
       "<style scoped>\n",
       "    .dataframe tbody tr th:only-of-type {\n",
       "        vertical-align: middle;\n",
       "    }\n",
       "\n",
       "    .dataframe tbody tr th {\n",
       "        vertical-align: top;\n",
       "    }\n",
       "\n",
       "    .dataframe thead th {\n",
       "        text-align: right;\n",
       "    }\n",
       "</style>\n",
       "<table border=\"1\" class=\"dataframe\">\n",
       "  <thead>\n",
       "    <tr style=\"text-align: right;\">\n",
       "      <th></th>\n",
       "      <th>Date</th>\n",
       "      <th>Country</th>\n",
       "      <th>Province</th>\n",
       "      <th>Confirmed</th>\n",
       "      <th>Infected</th>\n",
       "      <th>Fatal</th>\n",
       "      <th>Recovered</th>\n",
       "      <th>Tests</th>\n",
       "      <th>Moderate</th>\n",
       "      <th>Severe</th>\n",
       "    </tr>\n",
       "  </thead>\n",
       "  <tbody>\n",
       "    <tr>\n",
       "      <th>16249</th>\n",
       "      <td>2021-02-07</td>\n",
       "      <td>Japan</td>\n",
       "      <td>-</td>\n",
       "      <td>403435</td>\n",
       "      <td>34866</td>\n",
       "      <td>6338</td>\n",
       "      <td>362231</td>\n",
       "      <td>7221664</td>\n",
       "      <td>34135</td>\n",
       "      <td>795</td>\n",
       "    </tr>\n",
       "    <tr>\n",
       "      <th>16250</th>\n",
       "      <td>2021-02-08</td>\n",
       "      <td>Japan</td>\n",
       "      <td>-</td>\n",
       "      <td>404990</td>\n",
       "      <td>33357</td>\n",
       "      <td>6395</td>\n",
       "      <td>365238</td>\n",
       "      <td>7241214</td>\n",
       "      <td>32678</td>\n",
       "      <td>773</td>\n",
       "    </tr>\n",
       "    <tr>\n",
       "      <th>16251</th>\n",
       "      <td>2021-02-09</td>\n",
       "      <td>Japan</td>\n",
       "      <td>-</td>\n",
       "      <td>406766</td>\n",
       "      <td>31477</td>\n",
       "      <td>6476</td>\n",
       "      <td>368813</td>\n",
       "      <td>7301609</td>\n",
       "      <td>30824</td>\n",
       "      <td>759</td>\n",
       "    </tr>\n",
       "    <tr>\n",
       "      <th>16252</th>\n",
       "      <td>2021-02-10</td>\n",
       "      <td>Japan</td>\n",
       "      <td>-</td>\n",
       "      <td>408186</td>\n",
       "      <td>29094</td>\n",
       "      <td>6557</td>\n",
       "      <td>372535</td>\n",
       "      <td>7380588</td>\n",
       "      <td>28507</td>\n",
       "      <td>736</td>\n",
       "    </tr>\n",
       "    <tr>\n",
       "      <th>16253</th>\n",
       "      <td>2021-02-11</td>\n",
       "      <td>Japan</td>\n",
       "      <td>-</td>\n",
       "      <td>410012</td>\n",
       "      <td>27880</td>\n",
       "      <td>6678</td>\n",
       "      <td>375454</td>\n",
       "      <td>7447270</td>\n",
       "      <td>27219</td>\n",
       "      <td>713</td>\n",
       "    </tr>\n",
       "  </tbody>\n",
       "</table>\n",
       "</div>"
      ],
      "text/plain": [
       "            Date Country Province  Confirmed  Infected  Fatal  Recovered  \\\n",
       "16249 2021-02-07   Japan        -     403435     34866   6338     362231   \n",
       "16250 2021-02-08   Japan        -     404990     33357   6395     365238   \n",
       "16251 2021-02-09   Japan        -     406766     31477   6476     368813   \n",
       "16252 2021-02-10   Japan        -     408186     29094   6557     372535   \n",
       "16253 2021-02-11   Japan        -     410012     27880   6678     375454   \n",
       "\n",
       "         Tests  Moderate  Severe  \n",
       "16249  7221664     34135     795  \n",
       "16250  7241214     32678     773  \n",
       "16251  7301609     30824     759  \n",
       "16252  7380588     28507     736  \n",
       "16253  7447270     27219     713  "
      ]
     },
     "execution_count": 1,
     "metadata": {},
     "output_type": "execute_result"
    }
   ],
   "source": [
    "# Cleaned dataset\n",
    "japan_data.cleaned().tail()"
   ]
  },
  {
   "cell_type": "code",
   "execution_count": 60,
   "id": "rental-black",
   "metadata": {
    "collapsed": false,
    "execution": {
     "iopub.execute_input": "2021-02-12T16:22:39.253429Z",
     "iopub.status.busy": "2021-02-12T16:22:39.252862Z",
     "iopub.status.idle": "2021-02-12T16:22:39.308535Z",
     "shell.execute_reply": "2021-02-12T16:22:39.308931Z"
    }
   },
   "outputs": [
    {
     "data": {
      "text/html": [
       "<div>\n",
       "<style scoped>\n",
       "    .dataframe tbody tr th:only-of-type {\n",
       "        vertical-align: middle;\n",
       "    }\n",
       "\n",
       "    .dataframe tbody tr th {\n",
       "        vertical-align: top;\n",
       "    }\n",
       "\n",
       "    .dataframe thead th {\n",
       "        text-align: right;\n",
       "    }\n",
       "</style>\n",
       "<table border=\"1\" class=\"dataframe\">\n",
       "  <thead>\n",
       "    <tr style=\"text-align: right;\">\n",
       "      <th></th>\n",
       "      <th>Prefecture</th>\n",
       "      <th>Admin_Capital</th>\n",
       "      <th>Admin_Region</th>\n",
       "      <th>Admin_Num</th>\n",
       "      <th>Area_Habitable</th>\n",
       "      <th>Area_Total</th>\n",
       "      <th>Clinic_bed_Care</th>\n",
       "      <th>Clinic_bed_Total</th>\n",
       "      <th>Hospital_bed_Care</th>\n",
       "      <th>Hospital_bed_Specific</th>\n",
       "      <th>Hospital_bed_Total</th>\n",
       "      <th>Hospital_bed_Tuberculosis</th>\n",
       "      <th>Hospital_bed_Type-I</th>\n",
       "      <th>Hospital_bed_Type-II</th>\n",
       "      <th>Population_Female</th>\n",
       "      <th>Population_Male</th>\n",
       "      <th>Population_Total</th>\n",
       "      <th>Location_Latitude</th>\n",
       "      <th>Location_Longitude</th>\n",
       "    </tr>\n",
       "  </thead>\n",
       "  <tbody>\n",
       "    <tr>\n",
       "      <th>42</th>\n",
       "      <td>Kumamoto</td>\n",
       "      <td>Kumamoto</td>\n",
       "      <td>Kyushu</td>\n",
       "      <td>43</td>\n",
       "      <td>2796</td>\n",
       "      <td>7409</td>\n",
       "      <td>497</td>\n",
       "      <td>4628</td>\n",
       "      <td>8340</td>\n",
       "      <td>0</td>\n",
       "      <td>33710</td>\n",
       "      <td>95</td>\n",
       "      <td>2</td>\n",
       "      <td>46</td>\n",
       "      <td>933</td>\n",
       "      <td>833</td>\n",
       "      <td>1765</td>\n",
       "      <td>32.790513</td>\n",
       "      <td>130.742388</td>\n",
       "    </tr>\n",
       "    <tr>\n",
       "      <th>43</th>\n",
       "      <td>Oita</td>\n",
       "      <td>Oita</td>\n",
       "      <td>Kyushu</td>\n",
       "      <td>44</td>\n",
       "      <td>1799</td>\n",
       "      <td>6341</td>\n",
       "      <td>269</td>\n",
       "      <td>3561</td>\n",
       "      <td>2618</td>\n",
       "      <td>0</td>\n",
       "      <td>19834</td>\n",
       "      <td>50</td>\n",
       "      <td>2</td>\n",
       "      <td>38</td>\n",
       "      <td>607</td>\n",
       "      <td>546</td>\n",
       "      <td>1152</td>\n",
       "      <td>33.238391</td>\n",
       "      <td>131.612658</td>\n",
       "    </tr>\n",
       "    <tr>\n",
       "      <th>44</th>\n",
       "      <td>Miyazaki</td>\n",
       "      <td>Miyazaki</td>\n",
       "      <td>Kyushu</td>\n",
       "      <td>45</td>\n",
       "      <td>1850</td>\n",
       "      <td>7735</td>\n",
       "      <td>206</td>\n",
       "      <td>2357</td>\n",
       "      <td>3682</td>\n",
       "      <td>0</td>\n",
       "      <td>18769</td>\n",
       "      <td>33</td>\n",
       "      <td>1</td>\n",
       "      <td>30</td>\n",
       "      <td>577</td>\n",
       "      <td>512</td>\n",
       "      <td>1089</td>\n",
       "      <td>31.911188</td>\n",
       "      <td>131.423873</td>\n",
       "    </tr>\n",
       "    <tr>\n",
       "      <th>45</th>\n",
       "      <td>Kagoshima</td>\n",
       "      <td>Kagoshima</td>\n",
       "      <td>Kyushu</td>\n",
       "      <td>46</td>\n",
       "      <td>3313</td>\n",
       "      <td>9187</td>\n",
       "      <td>652</td>\n",
       "      <td>4827</td>\n",
       "      <td>7750</td>\n",
       "      <td>0</td>\n",
       "      <td>32651</td>\n",
       "      <td>98</td>\n",
       "      <td>1</td>\n",
       "      <td>44</td>\n",
       "      <td>863</td>\n",
       "      <td>763</td>\n",
       "      <td>1626</td>\n",
       "      <td>31.560052</td>\n",
       "      <td>130.557745</td>\n",
       "    </tr>\n",
       "    <tr>\n",
       "      <th>46</th>\n",
       "      <td>Okinawa</td>\n",
       "      <td>Naha</td>\n",
       "      <td>Okinawa</td>\n",
       "      <td>47</td>\n",
       "      <td>1169</td>\n",
       "      <td>2281</td>\n",
       "      <td>83</td>\n",
       "      <td>914</td>\n",
       "      <td>3804</td>\n",
       "      <td>0</td>\n",
       "      <td>18710</td>\n",
       "      <td>47</td>\n",
       "      <td>4</td>\n",
       "      <td>20</td>\n",
       "      <td>734</td>\n",
       "      <td>709</td>\n",
       "      <td>1443</td>\n",
       "      <td>26.211761</td>\n",
       "      <td>127.681119</td>\n",
       "    </tr>\n",
       "  </tbody>\n",
       "</table>\n",
       "</div>"
      ],
      "text/plain": [
       "   Prefecture Admin_Capital Admin_Region  Admin_Num  Area_Habitable  \\\n",
       "42   Kumamoto      Kumamoto       Kyushu         43            2796   \n",
       "43       Oita          Oita       Kyushu         44            1799   \n",
       "44   Miyazaki      Miyazaki       Kyushu         45            1850   \n",
       "45  Kagoshima     Kagoshima       Kyushu         46            3313   \n",
       "46    Okinawa          Naha      Okinawa         47            1169   \n",
       "\n",
       "    Area_Total  Clinic_bed_Care  Clinic_bed_Total  Hospital_bed_Care  \\\n",
       "42        7409              497              4628               8340   \n",
       "43        6341              269              3561               2618   \n",
       "44        7735              206              2357               3682   \n",
       "45        9187              652              4827               7750   \n",
       "46        2281               83               914               3804   \n",
       "\n",
       "    Hospital_bed_Specific  Hospital_bed_Total  Hospital_bed_Tuberculosis  \\\n",
       "42                      0               33710                         95   \n",
       "43                      0               19834                         50   \n",
       "44                      0               18769                         33   \n",
       "45                      0               32651                         98   \n",
       "46                      0               18710                         47   \n",
       "\n",
       "    Hospital_bed_Type-I  Hospital_bed_Type-II  Population_Female  \\\n",
       "42                    2                    46                933   \n",
       "43                    2                    38                607   \n",
       "44                    1                    30                577   \n",
       "45                    1                    44                863   \n",
       "46                    4                    20                734   \n",
       "\n",
       "    Population_Male  Population_Total  Location_Latitude  Location_Longitude  \n",
       "42              833              1765          32.790513          130.742388  \n",
       "43              546              1152          33.238391          131.612658  \n",
       "44              512              1089          31.911188          131.423873  \n",
       "45              763              1626          31.560052          130.557745  \n",
       "46              709              1443          26.211761          127.681119  "
      ]
     },
     "execution_count": 1,
     "metadata": {},
     "output_type": "execute_result"
    }
   ],
   "source": [
    "# Metadata\n",
    "japan_data.meta().tail()"
   ]
  }
 ],
 "metadata": {
  "kernelspec": {
   "display_name": "Python 3.9.1 64-bit ('.venv')",
   "metadata": {
    "interpreter": {
     "hash": "aa53c8c6e6798222a2084c11cc25017700a8d3ad495b587e3a634f357767115f"
    }
   },
   "name": "python3"
  },
  "language_info": {
   "codemirror_mode": {
    "name": "ipython",
    "version": 3
   },
   "file_extension": ".py",
   "mimetype": "text/x-python",
   "name": "python",
   "nbconvert_exporter": "python",
   "pygments_lexer": "ipython3",
   "version": "3.9.1"
  }
 },
 "nbformat": 4,
 "nbformat_minor": 5
}
