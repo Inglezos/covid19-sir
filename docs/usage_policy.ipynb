{
 "cells": [
  {
   "cell_type": "markdown",
   "id": "excited-prospect",
   "metadata": {},
   "source": [
    "# Usage: policy measures\n",
    "Here, we will analyse the relationship of policy measures and parameter values of SIR-derived ODE models. Policy measures are tracked by [Oxford Covid-19 Government Response Tracker (OxCGRT)](https://github.com/OxCGRT/covid-policy-tracker)."
   ]
  },
  {
   "cell_type": "markdown",
   "id": "democratic-difficulty",
   "metadata": {},
   "source": [
    "## Preparation"
   ]
  },
  {
   "cell_type": "code",
   "execution_count": 1,
   "id": "primary-module",
   "metadata": {
    "collapsed": false
   },
   "outputs": [],
   "source": [
    "# Standard users\n",
    "# !pip install covsirphy\n",
    "# Developers (Note: this notebook is in example directory)\n",
    "import os\n",
    "os.chdir(\"../\")"
   ]
  },
  {
   "cell_type": "code",
   "execution_count": 2,
   "id": "sharp-hospital",
   "metadata": {
    "collapsed": false
   },
   "outputs": [],
   "source": [
    "from pprint import pprint"
   ]
  },
  {
   "cell_type": "code",
   "execution_count": 3,
   "id": "twenty-poster",
   "metadata": {
    "collapsed": false
   },
   "outputs": [
    {
     "data": {
      "text/plain": [
       "'2.14.0-lambda'"
      ]
     },
     "execution_count": 3,
     "metadata": {},
     "output_type": "execute_result"
    }
   ],
   "source": [
    "import covsirphy as cs\n",
    "cs.__version__"
   ]
  },
  {
   "cell_type": "code",
   "execution_count": 4,
   "id": "private-usage",
   "metadata": {
    "collapsed": false,
    "tags": []
   },
   "outputs": [
    {
     "name": "stdout",
     "output_type": "stream",
     "text": [
      "(Secondary source) Guidotti, E., Ardia, D., (2020), \"COVID-19 Data Hub\", Journal of Open Source Software 5(51):2376, doi: 10.21105/joss.02376.\n"
     ]
    }
   ],
   "source": [
    "# Standard users and developers\n",
    "data_loader = cs.DataLoader(\"input\")\n",
    "# The number of cases (JHU style)\n",
    "jhu_data = data_loader.jhu(verbose=False)\n",
    "# Population in each country\n",
    "population_data = data_loader.population(verbose=False)\n",
    "# Government Response Tracker (OxCGRT)\n",
    "oxcgrt_data = data_loader.oxcgrt(verbose=False)\n",
    "# Description/citation\n",
    "print(oxcgrt_data.citation)"
   ]
  },
  {
   "cell_type": "markdown",
   "id": "liberal-shape",
   "metadata": {},
   "source": [
    "## Class for policy measure analysis\n",
    "We will `PolicyMeasures` class to find relationship of policy measures and parameter values of SIR-derived ODE models."
   ]
  },
  {
   "cell_type": "code",
   "execution_count": 5,
   "id": "healthy-companion",
   "metadata": {
    "collapsed": false,
    "tags": []
   },
   "outputs": [
    {
     "data": {
      "text/plain": [
       "196"
      ]
     },
     "execution_count": 5,
     "metadata": {},
     "output_type": "execute_result"
    }
   ],
   "source": [
    "# Create analyser with tau value 360 [min] (can be changed)\n",
    "analyser = cs.PolicyMeasures(jhu_data, population_data, oxcgrt_data, tau=360)\n",
    "# The number of registerd countries\n",
    "len(analyser.countries)"
   ]
  },
  {
   "cell_type": "code",
   "execution_count": 6,
   "id": "oriental-entrepreneur",
   "metadata": {
    "collapsed": false
   },
   "outputs": [
    {
     "data": {
      "text/plain": [
       "covsirphy.analysis.scenario.Scenario"
      ]
     },
     "execution_count": 6,
     "metadata": {},
     "output_type": "execute_result"
    }
   ],
   "source": [
    "# We can get Scenario instance for detailed scenario analysis\n",
    "type(analyser.scenario(\"Japan\"))"
   ]
  },
  {
   "cell_type": "markdown",
   "id": "seventh-arrangement",
   "metadata": {},
   "source": [
    "## Set phases with S-R trend analysis\n",
    "We will perform S-R trend analysis to set phases in all countries. Countries which do not have **19th phases** will be un-registered for the next analysis. This number will be adjusted for your analysis."
   ]
  },
  {
   "cell_type": "code",
   "execution_count": 7,
   "id": "single-supply",
   "metadata": {
    "collapsed": false
   },
   "outputs": [
    {
     "name": "stdout",
     "output_type": "stream",
     "text": [
      "{2: ['Holy See'],\n",
      " 3: ['Fiji', 'Timor-Leste', 'Laos', 'Saint Kitts and Nevis'],\n",
      " 4: ['Grenada', 'Dominica', 'Tanzania'],\n",
      " 6: ['Equatorial Guinea', 'Saint Vincent and the Grenadines'],\n",
      " 7: ['Brunei', 'Northern Mariana Islands'],\n",
      " 8: ['Seychelles', 'Cambodia', 'Kyrgyzstan', 'Liechtenstein', 'Saint Lucia',\n",
      "     'Mauritius', 'Bahamas'],\n",
      " 9: ['Guam', 'Trinidad and Tobago', 'Republic of the Congo', 'Ethiopia',\n",
      "     'Antigua and Barbuda', 'Uzbekistan', 'Australia', 'Madagascar',\n",
      "     'Papua New Guinea', 'Guyana', 'Botswana'],\n",
      " 10: ['Angola', 'Guatemala', 'India', 'Oman', 'Bhutan', 'Iraq', 'Libya',\n",
      "      'Kenya', 'Vietnam', 'Djibouti', 'Bahrain', 'Zimbabwe', 'Maldives',\n",
      "      'Venezuela', 'Philippines', 'Iceland', 'Singapore',\n",
      "      'Sao Tome and Principe', 'Kazakhstan', 'Barbados', 'Belize', 'Nicaragua',\n",
      "      'Jamaica', 'Monaco'],\n",
      " 11: ['Dominican Republic', 'Saudi Arabia', 'Zambia', 'Chile', 'Paraguay',\n",
      "      'Rwanda', 'Syria', 'Suriname', 'Bangladesh', 'El Salvador', 'Mozambique',\n",
      "      'Mongolia', 'Cape Verde', 'Colombia', 'Nepal', 'New Zealand', 'Brazil',\n",
      "      'Ecuador', 'South Africa', 'Bolivia', 'Benin', 'Algeria', 'Peru',\n",
      "      'Kuwait', 'Costa Rica', 'Ghana', 'Virgin Islands, U.S.', 'Argentina',\n",
      "      'Burundi', 'Honduras', 'Myanmar'],\n",
      " 12: ['Senegal', 'Mexico', 'Bermuda', 'Morocco', 'Uganda', 'Somalia', 'Gambia',\n",
      "      'South Sudan', 'Namibia', 'Israel', 'Lesotho', 'Gabon', 'Swaziland',\n",
      "      'Armenia', 'Egypt', 'Andorra', \"Cote d'Ivoire\", 'Puerto Rico', 'Pakistan',\n",
      "      'Yemen', 'Cameroon', 'Malawi', 'Taiwan', 'Nigeria', 'Eritrea', 'Guinea',\n",
      "      'Liberia', 'Sudan', 'Montenegro'],\n",
      " 13: ['Qatar', 'Malta', 'Moldova', 'Mali', 'Tajikistan', 'Afghanistan',\n",
      "      'Panama', 'Democratic Republic of the Congo', 'Kosovo', 'Comoros', 'Chad',\n",
      "      'Niger', 'Guinea-Bissau', 'Bosnia and Herzegovina', 'Palestine',\n",
      "      'Ireland', 'Azerbaijan', 'Georgia', 'Sierra Leone', 'San Marino',\n",
      "      'Tunisia', 'Togo'],\n",
      " 14: ['Russia', 'China', 'Jordan', 'Mauritania', 'United Arab Emirates',\n",
      "      'Japan', 'Lebanon', 'Indonesia', 'Lithuania', 'Belarus',\n",
      "      'Central African Republic'],\n",
      " 15: ['Haiti', 'Bulgaria', 'Serbia', 'Hungary', 'Latvia', 'Iran', 'Cuba',\n",
      "      'Greece', 'Albania', 'Cyprus', 'United States', 'Burkina Faso',\n",
      "      'Thailand'],\n",
      " 16: ['Luxembourg', 'Estonia', 'Ukraine', 'Czech Republic', 'Poland',\n",
      "      'Slovenia', 'Belgium', 'North Macedonia', 'Sri Lanka', 'Finland',\n",
      "      'Uruguay', 'France', 'Slovakia', 'Romania', 'Croatia', 'Spain'],\n",
      " 17: ['Austria', 'Turkey', 'Netherlands', 'Denmark', 'Malaysia', 'Italy'],\n",
      " 18: ['Portugal', 'Canada', 'Norway', 'United Kingdom'],\n",
      " 19: ['Sweden', 'Switzerland'],\n",
      " 20: ['Germany']}\n"
     ]
    }
   ],
   "source": [
    "# Show the number of phases of all countries\n",
    "analyser.trend()\n",
    "pprint(analyser.phase_len(), compact=True)"
   ]
  },
  {
   "cell_type": "code",
   "execution_count": 8,
   "id": "widespread-blood",
   "metadata": {
    "collapsed": false
   },
   "outputs": [
    {
     "data": {
      "text/plain": [
       "3"
      ]
     },
     "execution_count": 8,
     "metadata": {},
     "output_type": "execute_result"
    }
   ],
   "source": [
    "# Set phases with S-R trend analysis\n",
    "analyser.trend(min_len=19)\n",
    "# The number of countries\n",
    "len(analyser.countries)"
   ]
  },
  {
   "cell_type": "code",
   "execution_count": 9,
   "id": "filled-composer",
   "metadata": {
    "collapsed": false,
    "tags": []
   },
   "outputs": [
    {
     "name": "stdout",
     "output_type": "stream",
     "text": [
      "{19: ['Sweden', 'Switzerland'], 20: ['Germany']}\n"
     ]
    }
   ],
   "source": [
    "phase_len_dict = analyser.phase_len()\n",
    "pprint(phase_len_dict, compact=True)"
   ]
  },
  {
   "cell_type": "code",
   "execution_count": 10,
   "id": "executive-mustang",
   "metadata": {
    "collapsed": false,
    "tags": []
   },
   "outputs": [
    {
     "data": {
      "text/html": [
       "<div>\n",
       "<style scoped>\n",
       "    .dataframe tbody tr th:only-of-type {\n",
       "        vertical-align: middle;\n",
       "    }\n",
       "\n",
       "    .dataframe tbody tr th {\n",
       "        vertical-align: top;\n",
       "    }\n",
       "\n",
       "    .dataframe thead th {\n",
       "        text-align: right;\n",
       "    }\n",
       "</style>\n",
       "<table border=\"1\" class=\"dataframe\">\n",
       "  <thead>\n",
       "    <tr style=\"text-align: right;\">\n",
       "      <th></th>\n",
       "      <th></th>\n",
       "      <th>Type</th>\n",
       "      <th>Start</th>\n",
       "      <th>End</th>\n",
       "      <th>Population</th>\n",
       "    </tr>\n",
       "    <tr>\n",
       "      <th>Country</th>\n",
       "      <th>Phase</th>\n",
       "      <th></th>\n",
       "      <th></th>\n",
       "      <th></th>\n",
       "      <th></th>\n",
       "    </tr>\n",
       "  </thead>\n",
       "  <tbody>\n",
       "    <tr>\n",
       "      <th rowspan=\"20\" valign=\"top\">Germany</th>\n",
       "      <th>0th</th>\n",
       "      <td>Past</td>\n",
       "      <td>19Jan2020</td>\n",
       "      <td>23Mar2020</td>\n",
       "      <td>82905782</td>\n",
       "    </tr>\n",
       "    <tr>\n",
       "      <th>1st</th>\n",
       "      <td>Past</td>\n",
       "      <td>24Mar2020</td>\n",
       "      <td>06Apr2020</td>\n",
       "      <td>82905782</td>\n",
       "    </tr>\n",
       "    <tr>\n",
       "      <th>2nd</th>\n",
       "      <td>Past</td>\n",
       "      <td>07Apr2020</td>\n",
       "      <td>05May2020</td>\n",
       "      <td>82905782</td>\n",
       "    </tr>\n",
       "    <tr>\n",
       "      <th>3rd</th>\n",
       "      <td>Past</td>\n",
       "      <td>06May2020</td>\n",
       "      <td>04Aug2020</td>\n",
       "      <td>82905782</td>\n",
       "    </tr>\n",
       "    <tr>\n",
       "      <th>4th</th>\n",
       "      <td>Past</td>\n",
       "      <td>05Aug2020</td>\n",
       "      <td>12Sep2020</td>\n",
       "      <td>82905782</td>\n",
       "    </tr>\n",
       "    <tr>\n",
       "      <th>5th</th>\n",
       "      <td>Past</td>\n",
       "      <td>13Sep2020</td>\n",
       "      <td>07Oct2020</td>\n",
       "      <td>82905782</td>\n",
       "    </tr>\n",
       "    <tr>\n",
       "      <th>6th</th>\n",
       "      <td>Past</td>\n",
       "      <td>08Oct2020</td>\n",
       "      <td>20Oct2020</td>\n",
       "      <td>82905782</td>\n",
       "    </tr>\n",
       "    <tr>\n",
       "      <th>7th</th>\n",
       "      <td>Past</td>\n",
       "      <td>21Oct2020</td>\n",
       "      <td>27Oct2020</td>\n",
       "      <td>82905782</td>\n",
       "    </tr>\n",
       "    <tr>\n",
       "      <th>8th</th>\n",
       "      <td>Past</td>\n",
       "      <td>28Oct2020</td>\n",
       "      <td>03Nov2020</td>\n",
       "      <td>82905782</td>\n",
       "    </tr>\n",
       "    <tr>\n",
       "      <th>9th</th>\n",
       "      <td>Past</td>\n",
       "      <td>04Nov2020</td>\n",
       "      <td>10Nov2020</td>\n",
       "      <td>82905782</td>\n",
       "    </tr>\n",
       "    <tr>\n",
       "      <th>10th</th>\n",
       "      <td>Past</td>\n",
       "      <td>11Nov2020</td>\n",
       "      <td>17Nov2020</td>\n",
       "      <td>82905782</td>\n",
       "    </tr>\n",
       "    <tr>\n",
       "      <th>11th</th>\n",
       "      <td>Past</td>\n",
       "      <td>18Nov2020</td>\n",
       "      <td>24Nov2020</td>\n",
       "      <td>82905782</td>\n",
       "    </tr>\n",
       "    <tr>\n",
       "      <th>12th</th>\n",
       "      <td>Past</td>\n",
       "      <td>25Nov2020</td>\n",
       "      <td>01Dec2020</td>\n",
       "      <td>82905782</td>\n",
       "    </tr>\n",
       "    <tr>\n",
       "      <th>13th</th>\n",
       "      <td>Past</td>\n",
       "      <td>02Dec2020</td>\n",
       "      <td>08Dec2020</td>\n",
       "      <td>82905782</td>\n",
       "    </tr>\n",
       "    <tr>\n",
       "      <th>14th</th>\n",
       "      <td>Past</td>\n",
       "      <td>09Dec2020</td>\n",
       "      <td>15Dec2020</td>\n",
       "      <td>82905782</td>\n",
       "    </tr>\n",
       "    <tr>\n",
       "      <th>15th</th>\n",
       "      <td>Past</td>\n",
       "      <td>16Dec2020</td>\n",
       "      <td>21Dec2020</td>\n",
       "      <td>82905782</td>\n",
       "    </tr>\n",
       "    <tr>\n",
       "      <th>16th</th>\n",
       "      <td>Past</td>\n",
       "      <td>22Dec2020</td>\n",
       "      <td>28Dec2020</td>\n",
       "      <td>82905782</td>\n",
       "    </tr>\n",
       "    <tr>\n",
       "      <th>17th</th>\n",
       "      <td>Past</td>\n",
       "      <td>29Dec2020</td>\n",
       "      <td>04Jan2021</td>\n",
       "      <td>82905782</td>\n",
       "    </tr>\n",
       "    <tr>\n",
       "      <th>18th</th>\n",
       "      <td>Past</td>\n",
       "      <td>05Jan2021</td>\n",
       "      <td>10Jan2021</td>\n",
       "      <td>82905782</td>\n",
       "    </tr>\n",
       "    <tr>\n",
       "      <th>19th</th>\n",
       "      <td>Past</td>\n",
       "      <td>11Jan2021</td>\n",
       "      <td>17Jan2021</td>\n",
       "      <td>82905782</td>\n",
       "    </tr>\n",
       "  </tbody>\n",
       "</table>\n",
       "</div>"
      ],
      "text/plain": [
       "               Type      Start        End  Population\n",
       "Country Phase                                        \n",
       "Germany 0th    Past  19Jan2020  23Mar2020    82905782\n",
       "        1st    Past  24Mar2020  06Apr2020    82905782\n",
       "        2nd    Past  07Apr2020  05May2020    82905782\n",
       "        3rd    Past  06May2020  04Aug2020    82905782\n",
       "        4th    Past  05Aug2020  12Sep2020    82905782\n",
       "        5th    Past  13Sep2020  07Oct2020    82905782\n",
       "        6th    Past  08Oct2020  20Oct2020    82905782\n",
       "        7th    Past  21Oct2020  27Oct2020    82905782\n",
       "        8th    Past  28Oct2020  03Nov2020    82905782\n",
       "        9th    Past  04Nov2020  10Nov2020    82905782\n",
       "        10th   Past  11Nov2020  17Nov2020    82905782\n",
       "        11th   Past  18Nov2020  24Nov2020    82905782\n",
       "        12th   Past  25Nov2020  01Dec2020    82905782\n",
       "        13th   Past  02Dec2020  08Dec2020    82905782\n",
       "        14th   Past  09Dec2020  15Dec2020    82905782\n",
       "        15th   Past  16Dec2020  21Dec2020    82905782\n",
       "        16th   Past  22Dec2020  28Dec2020    82905782\n",
       "        17th   Past  29Dec2020  04Jan2021    82905782\n",
       "        18th   Past  05Jan2021  10Jan2021    82905782\n",
       "        19th   Past  11Jan2021  17Jan2021    82905782"
      ]
     },
     "execution_count": 10,
     "metadata": {},
     "output_type": "execute_result"
    }
   ],
   "source": [
    "# Here, only show the countries which have the most phases\n",
    "countries_show = max(phase_len_dict.items(), key=lambda x: x[0])[1]\n",
    "# Show summary\n",
    "analyser.summary(countries=countries_show)"
   ]
  },
  {
   "cell_type": "markdown",
   "id": "supported-public",
   "metadata": {},
   "source": [
    "## Parameter estimation\n",
    "we will estimate the parameter values with SIR-derived ODE models in each country."
   ]
  },
  {
   "cell_type": "code",
   "execution_count": 11,
   "id": "powerful-feature",
   "metadata": {
    "collapsed": false,
    "tags": []
   },
   "outputs": [
    {
     "name": "stdout",
     "output_type": "stream",
     "text": [
      "\n",
      "<SIR-F model: parameter estimation>\n",
      "Running optimization with 4 CPUs...\n"
     ]
    },
    {
     "name": "stdout",
     "output_type": "stream",
     "text": [
      "\tSWE, 12th phase (02Dec2020 - 08Dec2020): finished  344 trials in 0 min 10 sec"
     ]
    },
    {
     "name": "stdout",
     "output_type": "stream",
     "text": [
      "\n"
     ]
    },
    {
     "name": "stdout",
     "output_type": "stream",
     "text": [
      "\tDEU,  8th phase (28Oct2020 - 03Nov2020): finished  342 trials in 0 min 10 sec"
     ]
    },
    {
     "name": "stdout",
     "output_type": "stream",
     "text": [
      "\n"
     ]
    },
    {
     "name": "stdout",
     "output_type": "stream",
     "text": [
      "\tCHE,  2nd phase (07Apr2020 - 02Aug2020): finished  308 trials in 0 min 10 sec"
     ]
    },
    {
     "name": "stdout",
     "output_type": "stream",
     "text": [
      "\n"
     ]
    },
    {
     "name": "stdout",
     "output_type": "stream",
     "text": [
      "\tSWE, 18th phase (10Jan2021 - 17Jan2021): finished  342 trials in 0 min 10 sec"
     ]
    },
    {
     "name": "stdout",
     "output_type": "stream",
     "text": [
      "\n"
     ]
    },
    {
     "name": "stdout",
     "output_type": "stream",
     "text": [
      "\tSWE, 14th phase (16Dec2020 - 21Dec2020): finished  346 trials in 0 min 10 sec"
     ]
    },
    {
     "name": "stdout",
     "output_type": "stream",
     "text": [
      "\n"
     ]
    },
    {
     "name": "stdout",
     "output_type": "stream",
     "text": [
      "\tCHE, 14th phase (14Dec2020 - 20Dec2020): finished  344 trials in 0 min 10 sec"
     ]
    },
    {
     "name": "stdout",
     "output_type": "stream",
     "text": [
      "\n"
     ]
    },
    {
     "name": "stdout",
     "output_type": "stream",
     "text": [
      "\tCHE,  1st phase (23Mar2020 - 06Apr2020): finished  340 trials in 0 min 10 sec"
     ]
    },
    {
     "name": "stdout",
     "output_type": "stream",
     "text": [
      "\n"
     ]
    },
    {
     "name": "stdout",
     "output_type": "stream",
     "text": [
      "\tCHE,  5th phase (06Oct2020 - 14Oct2020): finished  344 trials in 0 min 10 sec"
     ]
    },
    {
     "name": "stdout",
     "output_type": "stream",
     "text": [
      "\n"
     ]
    },
    {
     "name": "stdout",
     "output_type": "stream",
     "text": [
      "\tDEU,  3rd phase (06May2020 - 04Aug2020): finished  318 trials in 0 min 10 sec"
     ]
    },
    {
     "name": "stdout",
     "output_type": "stream",
     "text": [
      "\n"
     ]
    },
    {
     "name": "stdout",
     "output_type": "stream",
     "text": [
      "\tDEU,  5th phase (13Sep2020 - 07Oct2020): finished  337 trials in 0 min 10 sec"
     ]
    },
    {
     "name": "stdout",
     "output_type": "stream",
     "text": [
      "\n"
     ]
    },
    {
     "name": "stdout",
     "output_type": "stream",
     "text": [
      "\tCHE,  0th phase (03Mar2020 - 22Mar2020): finished  337 trials in 0 min 10 sec"
     ]
    },
    {
     "name": "stdout",
     "output_type": "stream",
     "text": [
      "\n"
     ]
    },
    {
     "name": "stdout",
     "output_type": "stream",
     "text": [
      "\tSWE,  1st phase (16Apr2020 - 12May2020): finished  337 trials in 0 min 10 sec"
     ]
    },
    {
     "name": "stdout",
     "output_type": "stream",
     "text": [
      "\n"
     ]
    },
    {
     "name": "stdout",
     "output_type": "stream",
     "text": [
      "\tCHE,  6th phase (15Oct2020 - 20Oct2020): finished  346 trials in 0 min 10 sec"
     ]
    },
    {
     "name": "stdout",
     "output_type": "stream",
     "text": [
      "\n"
     ]
    },
    {
     "name": "stdout",
     "output_type": "stream",
     "text": [
      "\tDEU,  6th phase (08Oct2020 - 20Oct2020): finished  340 trials in 0 min 10 sec"
     ]
    },
    {
     "name": "stdout",
     "output_type": "stream",
     "text": [
      "\n"
     ]
    },
    {
     "name": "stdout",
     "output_type": "stream",
     "text": [
      "\tCHE, 13th phase (08Dec2020 - 13Dec2020): finished  344 trials in 0 min 10 sec"
     ]
    },
    {
     "name": "stdout",
     "output_type": "stream",
     "text": [
      "\n"
     ]
    },
    {
     "name": "stdout",
     "output_type": "stream",
     "text": [
      "\tCHE, 15th phase (21Dec2020 - 27Dec2020): finished  343 trials in 0 min 10 sec"
     ]
    },
    {
     "name": "stdout",
     "output_type": "stream",
     "text": [
      "\n"
     ]
    },
    {
     "name": "stdout",
     "output_type": "stream",
     "text": [
      "\tCHE, 16th phase (28Dec2020 - 02Jan2021): finished  344 trials in 0 min 10 sec"
     ]
    },
    {
     "name": "stdout",
     "output_type": "stream",
     "text": [
      "\n"
     ]
    },
    {
     "name": "stdout",
     "output_type": "stream",
     "text": [
      "\tDEU,  4th phase (05Aug2020 - 12Sep2020): finished  333 trials in 0 min 10 sec"
     ]
    },
    {
     "name": "stdout",
     "output_type": "stream",
     "text": [
      "\n"
     ]
    },
    {
     "name": "stdout",
     "output_type": "stream",
     "text": [
      "\tCHE,  3rd phase (03Aug2020 - 07Sep2020): finished  335 trials in 0 min 10 sec"
     ]
    },
    {
     "name": "stdout",
     "output_type": "stream",
     "text": [
      "\n"
     ]
    },
    {
     "name": "stdout",
     "output_type": "stream",
     "text": [
      "\tCHE,  4th phase (08Sep2020 - 05Oct2020): finished  336 trials in 0 min 10 sec"
     ]
    },
    {
     "name": "stdout",
     "output_type": "stream",
     "text": [
      "\n"
     ]
    },
    {
     "name": "stdout",
     "output_type": "stream",
     "text": [
      "\tSWE, 11th phase (25Nov2020 - 01Dec2020): finished  344 trials in 0 min 10 sec"
     ]
    },
    {
     "name": "stdout",
     "output_type": "stream",
     "text": [
      "\n"
     ]
    },
    {
     "name": "stdout",
     "output_type": "stream",
     "text": [
      "\tSWE,  4th phase (25Jun2020 - 12Aug2020): finished  328 trials in 0 min 10 sec"
     ]
    },
    {
     "name": "stdout",
     "output_type": "stream",
     "text": [
      "\n"
     ]
    },
    {
     "name": "stdout",
     "output_type": "stream",
     "text": [
      "\tCHE,  8th phase (27Oct2020 - 05Nov2020): finished  343 trials in 0 min 10 sec"
     ]
    },
    {
     "name": "stdout",
     "output_type": "stream",
     "text": [
      "\n"
     ]
    },
    {
     "name": "stdout",
     "output_type": "stream",
     "text": [
      "\tSWE,  6th phase (05Oct2020 - 26Oct2020): finished  339 trials in 0 min 10 sec"
     ]
    },
    {
     "name": "stdout",
     "output_type": "stream",
     "text": [
      "\n"
     ]
    },
    {
     "name": "stdout",
     "output_type": "stream",
     "text": [
      "\tCHE, 11th phase (24Nov2020 - 30Nov2020): finished  344 trials in 0 min 10 sec"
     ]
    },
    {
     "name": "stdout",
     "output_type": "stream",
     "text": [
      "\n"
     ]
    },
    {
     "name": "stdout",
     "output_type": "stream",
     "text": [
      "\tSWE,  7th phase (27Oct2020 - 03Nov2020): finished  344 trials in 0 min 10 sec"
     ]
    },
    {
     "name": "stdout",
     "output_type": "stream",
     "text": [
      "\n"
     ]
    },
    {
     "name": "stdout",
     "output_type": "stream",
     "text": [
      "\tDEU,  1st phase (24Mar2020 - 06Apr2020): finished  340 trials in 0 min 10 sec"
     ]
    },
    {
     "name": "stdout",
     "output_type": "stream",
     "text": [
      "\n"
     ]
    },
    {
     "name": "stdout",
     "output_type": "stream",
     "text": [
      "\tDEU, 18th phase (05Jan2021 - 10Jan2021): finished  344 trials in 0 min 10 sec"
     ]
    },
    {
     "name": "stdout",
     "output_type": "stream",
     "text": [
      "\n"
     ]
    },
    {
     "name": "stdout",
     "output_type": "stream",
     "text": [
      "\tSWE, 17th phase (04Jan2021 - 09Jan2021): finished  345 trials in 0 min 10 sec"
     ]
    },
    {
     "name": "stdout",
     "output_type": "stream",
     "text": [
      "\n"
     ]
    },
    {
     "name": "stdout",
     "output_type": "stream",
     "text": [
      "\tDEU,  7th phase (21Oct2020 - 27Oct2020): finished  344 trials in 0 min 10 sec"
     ]
    },
    {
     "name": "stdout",
     "output_type": "stream",
     "text": [
      "\n"
     ]
    },
    {
     "name": "stdout",
     "output_type": "stream",
     "text": [
      "\tSWE,  9th phase (11Nov2020 - 17Nov2020): finished  342 trials in 0 min 10 sec"
     ]
    },
    {
     "name": "stdout",
     "output_type": "stream",
     "text": [
      "\n"
     ]
    },
    {
     "name": "stdout",
     "output_type": "stream",
     "text": [
      "\tCHE, 17th phase (03Jan2021 - 09Jan2021): finished  338 trials in 0 min 10 sec"
     ]
    },
    {
     "name": "stdout",
     "output_type": "stream",
     "text": [
      "\n"
     ]
    },
    {
     "name": "stdout",
     "output_type": "stream",
     "text": [
      "\tSWE,  0th phase (21Feb2020 - 15Apr2020): finished  302 trials in 0 min 10 sec"
     ]
    },
    {
     "name": "stdout",
     "output_type": "stream",
     "text": [
      "\n"
     ]
    },
    {
     "name": "stdout",
     "output_type": "stream",
     "text": [
      "\tSWE, 10th phase (18Nov2020 - 24Nov2020): finished  308 trials in 0 min 10 sec"
     ]
    },
    {
     "name": "stdout",
     "output_type": "stream",
     "text": [
      "\n"
     ]
    },
    {
     "name": "stdout",
     "output_type": "stream",
     "text": [
      "\tSWE, 13th phase (09Dec2020 - 15Dec2020): finished  304 trials in 0 min 10 sec"
     ]
    },
    {
     "name": "stdout",
     "output_type": "stream",
     "text": [
      "\n"
     ]
    },
    {
     "name": "stdout",
     "output_type": "stream",
     "text": [
      "\tSWE,  5th phase (13Aug2020 - 04Oct2020): finished  294 trials in 0 min 10 sec"
     ]
    },
    {
     "name": "stdout",
     "output_type": "stream",
     "text": [
      "\n"
     ]
    },
    {
     "name": "stdout",
     "output_type": "stream",
     "text": [
      "\tCHE, 10th phase (17Nov2020 - 23Nov2020): finished  342 trials in 0 min 10 sec"
     ]
    },
    {
     "name": "stdout",
     "output_type": "stream",
     "text": [
      "\n"
     ]
    },
    {
     "name": "stdout",
     "output_type": "stream",
     "text": [
      "\tCHE, 12th phase (01Dec2020 - 07Dec2020): finished  338 trials in 0 min 10 sec"
     ]
    },
    {
     "name": "stdout",
     "output_type": "stream",
     "text": [
      "\n"
     ]
    },
    {
     "name": "stdout",
     "output_type": "stream",
     "text": [
      "\tDEU, 17th phase (29Dec2020 - 04Jan2021): finished  342 trials in 0 min 10 sec"
     ]
    },
    {
     "name": "stdout",
     "output_type": "stream",
     "text": [
      "\n"
     ]
    },
    {
     "name": "stdout",
     "output_type": "stream",
     "text": [
      "\tSWE,  8th phase (04Nov2020 - 10Nov2020): finished  338 trials in 0 min 10 sec"
     ]
    },
    {
     "name": "stdout",
     "output_type": "stream",
     "text": [
      "\n"
     ]
    },
    {
     "name": "stdout",
     "output_type": "stream",
     "text": [
      "\tDEU,  0th phase (19Jan2020 - 23Mar2020): finished  321 trials in 0 min 10 sec"
     ]
    },
    {
     "name": "stdout",
     "output_type": "stream",
     "text": [
      "\n"
     ]
    },
    {
     "name": "stdout",
     "output_type": "stream",
     "text": [
      "\tCHE,  7th phase (21Oct2020 - 26Oct2020): finished  341 trials in 0 min 10 sec"
     ]
    },
    {
     "name": "stdout",
     "output_type": "stream",
     "text": [
      "\n"
     ]
    },
    {
     "name": "stdout",
     "output_type": "stream",
     "text": [
      "\tDEU, 19th phase (11Jan2021 - 17Jan2021): finished  338 trials in 0 min 10 sec"
     ]
    },
    {
     "name": "stdout",
     "output_type": "stream",
     "text": [
      "\n"
     ]
    },
    {
     "name": "stdout",
     "output_type": "stream",
     "text": [
      "\tSWE, 16th phase (29Dec2020 - 03Jan2021): finished  341 trials in 0 min 10 sec"
     ]
    },
    {
     "name": "stdout",
     "output_type": "stream",
     "text": [
      "\n"
     ]
    },
    {
     "name": "stdout",
     "output_type": "stream",
     "text": [
      "\tSWE,  3rd phase (08Jun2020 - 24Jun2020): finished  338 trials in 0 min 10 sec"
     ]
    },
    {
     "name": "stdout",
     "output_type": "stream",
     "text": [
      "\n"
     ]
    },
    {
     "name": "stdout",
     "output_type": "stream",
     "text": [
      "\tDEU,  2nd phase (07Apr2020 - 05May2020): finished  331 trials in 0 min 10 sec"
     ]
    },
    {
     "name": "stdout",
     "output_type": "stream",
     "text": [
      "\n"
     ]
    },
    {
     "name": "stdout",
     "output_type": "stream",
     "text": [
      "\tSWE,  2nd phase (13May2020 - 07Jun2020): finished  334 trials in 0 min 10 sec"
     ]
    },
    {
     "name": "stdout",
     "output_type": "stream",
     "text": [
      "\n"
     ]
    },
    {
     "name": "stdout",
     "output_type": "stream",
     "text": [
      "\tCHE,  9th phase (06Nov2020 - 16Nov2020): finished  339 trials in 0 min 10 sec"
     ]
    },
    {
     "name": "stdout",
     "output_type": "stream",
     "text": [
      "\n"
     ]
    },
    {
     "name": "stdout",
     "output_type": "stream",
     "text": [
      "\tSWE, 15th phase (22Dec2020 - 28Dec2020): finished  369 trials in 0 min 10 sec"
     ]
    },
    {
     "name": "stdout",
     "output_type": "stream",
     "text": [
      "\n"
     ]
    },
    {
     "name": "stdout",
     "output_type": "stream",
     "text": [
      "Completed optimization. Total: 2 min 19 sec\n"
     ]
    }
   ],
   "source": [
    "# Parameter estimation with SIR-F model\n",
    "analyser.estimate(cs.SIRF, timeout=10)"
   ]
  },
  {
   "cell_type": "code",
   "execution_count": 12,
   "id": "electoral-queensland",
   "metadata": {
    "collapsed": false
   },
   "outputs": [
    {
     "data": {
      "text/html": [
       "<div>\n",
       "<style scoped>\n",
       "    .dataframe tbody tr th:only-of-type {\n",
       "        vertical-align: middle;\n",
       "    }\n",
       "\n",
       "    .dataframe tbody tr th {\n",
       "        vertical-align: top;\n",
       "    }\n",
       "\n",
       "    .dataframe thead th {\n",
       "        text-align: right;\n",
       "    }\n",
       "</style>\n",
       "<table border=\"1\" class=\"dataframe\">\n",
       "  <thead>\n",
       "    <tr style=\"text-align: right;\">\n",
       "      <th></th>\n",
       "      <th></th>\n",
       "      <th>Type</th>\n",
       "      <th>Start</th>\n",
       "      <th>End</th>\n",
       "      <th>Population</th>\n",
       "      <th>ODE</th>\n",
       "      <th>Rt</th>\n",
       "      <th>theta</th>\n",
       "      <th>kappa</th>\n",
       "      <th>rho</th>\n",
       "      <th>sigma</th>\n",
       "      <th>tau</th>\n",
       "      <th>alpha1 [-]</th>\n",
       "      <th>1/beta [day]</th>\n",
       "      <th>1/alpha2 [day]</th>\n",
       "      <th>1/gamma [day]</th>\n",
       "      <th>RMSLE</th>\n",
       "      <th>Trials</th>\n",
       "      <th>Runtime</th>\n",
       "    </tr>\n",
       "    <tr>\n",
       "      <th>Country</th>\n",
       "      <th>Phase</th>\n",
       "      <th></th>\n",
       "      <th></th>\n",
       "      <th></th>\n",
       "      <th></th>\n",
       "      <th></th>\n",
       "      <th></th>\n",
       "      <th></th>\n",
       "      <th></th>\n",
       "      <th></th>\n",
       "      <th></th>\n",
       "      <th></th>\n",
       "      <th></th>\n",
       "      <th></th>\n",
       "      <th></th>\n",
       "      <th></th>\n",
       "      <th></th>\n",
       "      <th></th>\n",
       "      <th></th>\n",
       "    </tr>\n",
       "  </thead>\n",
       "  <tbody>\n",
       "    <tr>\n",
       "      <th rowspan=\"20\" valign=\"top\">Germany</th>\n",
       "      <th>0th</th>\n",
       "      <td>Past</td>\n",
       "      <td>19Jan2020</td>\n",
       "      <td>23Mar2020</td>\n",
       "      <td>82905782</td>\n",
       "      <td>SIR-F</td>\n",
       "      <td>2.41</td>\n",
       "      <td>0.037866</td>\n",
       "      <td>0.000098</td>\n",
       "      <td>0.013353</td>\n",
       "      <td>0.005235</td>\n",
       "      <td>360.0</td>\n",
       "      <td>0.038</td>\n",
       "      <td>18.0</td>\n",
       "      <td>2545.0</td>\n",
       "      <td>47.0</td>\n",
       "      <td>1.594642</td>\n",
       "      <td>321.0</td>\n",
       "      <td>0 min 10 sec</td>\n",
       "    </tr>\n",
       "    <tr>\n",
       "      <th>1st</th>\n",
       "      <td>Past</td>\n",
       "      <td>24Mar2020</td>\n",
       "      <td>06Apr2020</td>\n",
       "      <td>82905782</td>\n",
       "      <td>SIR-F</td>\n",
       "      <td>4.06</td>\n",
       "      <td>0.050861</td>\n",
       "      <td>0.000236</td>\n",
       "      <td>0.022128</td>\n",
       "      <td>0.004932</td>\n",
       "      <td>360.0</td>\n",
       "      <td>0.051</td>\n",
       "      <td>11.0</td>\n",
       "      <td>1057.0</td>\n",
       "      <td>50.0</td>\n",
       "      <td>0.204869</td>\n",
       "      <td>340.0</td>\n",
       "      <td>0 min 10 sec</td>\n",
       "    </tr>\n",
       "    <tr>\n",
       "      <th>2nd</th>\n",
       "      <td>Past</td>\n",
       "      <td>07Apr2020</td>\n",
       "      <td>05May2020</td>\n",
       "      <td>82905782</td>\n",
       "      <td>SIR-F</td>\n",
       "      <td>0.51</td>\n",
       "      <td>0.032126</td>\n",
       "      <td>0.000319</td>\n",
       "      <td>0.011309</td>\n",
       "      <td>0.021196</td>\n",
       "      <td>360.0</td>\n",
       "      <td>0.032</td>\n",
       "      <td>22.0</td>\n",
       "      <td>784.0</td>\n",
       "      <td>11.0</td>\n",
       "      <td>0.095076</td>\n",
       "      <td>331.0</td>\n",
       "      <td>0 min 10 sec</td>\n",
       "    </tr>\n",
       "    <tr>\n",
       "      <th>3rd</th>\n",
       "      <td>Past</td>\n",
       "      <td>06May2020</td>\n",
       "      <td>04Aug2020</td>\n",
       "      <td>82905782</td>\n",
       "      <td>SIR-F</td>\n",
       "      <td>0.75</td>\n",
       "      <td>0.000131</td>\n",
       "      <td>0.000168</td>\n",
       "      <td>0.012632</td>\n",
       "      <td>0.016764</td>\n",
       "      <td>360.0</td>\n",
       "      <td>0.000</td>\n",
       "      <td>19.0</td>\n",
       "      <td>1488.0</td>\n",
       "      <td>14.0</td>\n",
       "      <td>0.232941</td>\n",
       "      <td>318.0</td>\n",
       "      <td>0 min 10 sec</td>\n",
       "    </tr>\n",
       "    <tr>\n",
       "      <th>4th</th>\n",
       "      <td>Past</td>\n",
       "      <td>05Aug2020</td>\n",
       "      <td>12Sep2020</td>\n",
       "      <td>82905782</td>\n",
       "      <td>SIR-F</td>\n",
       "      <td>1.43</td>\n",
       "      <td>0.004204</td>\n",
       "      <td>0.000048</td>\n",
       "      <td>0.019114</td>\n",
       "      <td>0.013234</td>\n",
       "      <td>360.0</td>\n",
       "      <td>0.004</td>\n",
       "      <td>13.0</td>\n",
       "      <td>5181.0</td>\n",
       "      <td>18.0</td>\n",
       "      <td>0.070941</td>\n",
       "      <td>333.0</td>\n",
       "      <td>0 min 10 sec</td>\n",
       "    </tr>\n",
       "    <tr>\n",
       "      <th>5th</th>\n",
       "      <td>Past</td>\n",
       "      <td>13Sep2020</td>\n",
       "      <td>07Oct2020</td>\n",
       "      <td>82905782</td>\n",
       "      <td>SIR-F</td>\n",
       "      <td>1.54</td>\n",
       "      <td>0.000066</td>\n",
       "      <td>0.000152</td>\n",
       "      <td>0.018398</td>\n",
       "      <td>0.011818</td>\n",
       "      <td>360.0</td>\n",
       "      <td>0.000</td>\n",
       "      <td>13.0</td>\n",
       "      <td>1648.0</td>\n",
       "      <td>21.0</td>\n",
       "      <td>0.026893</td>\n",
       "      <td>337.0</td>\n",
       "      <td>0 min 10 sec</td>\n",
       "    </tr>\n",
       "    <tr>\n",
       "      <th>6th</th>\n",
       "      <td>Past</td>\n",
       "      <td>08Oct2020</td>\n",
       "      <td>20Oct2020</td>\n",
       "      <td>82905782</td>\n",
       "      <td>SIR-F</td>\n",
       "      <td>3.06</td>\n",
       "      <td>0.000676</td>\n",
       "      <td>0.000067</td>\n",
       "      <td>0.025861</td>\n",
       "      <td>0.008365</td>\n",
       "      <td>360.0</td>\n",
       "      <td>0.001</td>\n",
       "      <td>9.0</td>\n",
       "      <td>3708.0</td>\n",
       "      <td>29.0</td>\n",
       "      <td>0.059260</td>\n",
       "      <td>340.0</td>\n",
       "      <td>0 min 10 sec</td>\n",
       "    </tr>\n",
       "    <tr>\n",
       "      <th>7th</th>\n",
       "      <td>Past</td>\n",
       "      <td>21Oct2020</td>\n",
       "      <td>27Oct2020</td>\n",
       "      <td>82905782</td>\n",
       "      <td>SIR-F</td>\n",
       "      <td>3.03</td>\n",
       "      <td>0.002617</td>\n",
       "      <td>0.000301</td>\n",
       "      <td>0.027296</td>\n",
       "      <td>0.008690</td>\n",
       "      <td>360.0</td>\n",
       "      <td>0.003</td>\n",
       "      <td>9.0</td>\n",
       "      <td>829.0</td>\n",
       "      <td>28.0</td>\n",
       "      <td>0.019589</td>\n",
       "      <td>344.0</td>\n",
       "      <td>0 min 10 sec</td>\n",
       "    </tr>\n",
       "    <tr>\n",
       "      <th>8th</th>\n",
       "      <td>Past</td>\n",
       "      <td>28Oct2020</td>\n",
       "      <td>03Nov2020</td>\n",
       "      <td>82905782</td>\n",
       "      <td>SIR-F</td>\n",
       "      <td>2.39</td>\n",
       "      <td>0.017998</td>\n",
       "      <td>0.000070</td>\n",
       "      <td>0.019524</td>\n",
       "      <td>0.007946</td>\n",
       "      <td>360.0</td>\n",
       "      <td>0.018</td>\n",
       "      <td>12.0</td>\n",
       "      <td>3587.0</td>\n",
       "      <td>31.0</td>\n",
       "      <td>0.031452</td>\n",
       "      <td>342.0</td>\n",
       "      <td>0 min 10 sec</td>\n",
       "    </tr>\n",
       "    <tr>\n",
       "      <th>9th</th>\n",
       "      <td>Past</td>\n",
       "      <td>04Nov2020</td>\n",
       "      <td>10Nov2020</td>\n",
       "      <td>82905782</td>\n",
       "      <td>-</td>\n",
       "      <td>-</td>\n",
       "      <td>-</td>\n",
       "      <td>-</td>\n",
       "      <td>-</td>\n",
       "      <td>-</td>\n",
       "      <td>-</td>\n",
       "      <td>-</td>\n",
       "      <td>-</td>\n",
       "      <td>-</td>\n",
       "      <td>-</td>\n",
       "      <td>-</td>\n",
       "      <td>-</td>\n",
       "      <td>-</td>\n",
       "    </tr>\n",
       "    <tr>\n",
       "      <th>10th</th>\n",
       "      <td>Past</td>\n",
       "      <td>11Nov2020</td>\n",
       "      <td>17Nov2020</td>\n",
       "      <td>82905782</td>\n",
       "      <td>-</td>\n",
       "      <td>-</td>\n",
       "      <td>-</td>\n",
       "      <td>-</td>\n",
       "      <td>-</td>\n",
       "      <td>-</td>\n",
       "      <td>-</td>\n",
       "      <td>-</td>\n",
       "      <td>-</td>\n",
       "      <td>-</td>\n",
       "      <td>-</td>\n",
       "      <td>-</td>\n",
       "      <td>-</td>\n",
       "      <td>-</td>\n",
       "    </tr>\n",
       "    <tr>\n",
       "      <th>11th</th>\n",
       "      <td>Past</td>\n",
       "      <td>18Nov2020</td>\n",
       "      <td>24Nov2020</td>\n",
       "      <td>82905782</td>\n",
       "      <td>-</td>\n",
       "      <td>-</td>\n",
       "      <td>-</td>\n",
       "      <td>-</td>\n",
       "      <td>-</td>\n",
       "      <td>-</td>\n",
       "      <td>-</td>\n",
       "      <td>-</td>\n",
       "      <td>-</td>\n",
       "      <td>-</td>\n",
       "      <td>-</td>\n",
       "      <td>-</td>\n",
       "      <td>-</td>\n",
       "      <td>-</td>\n",
       "    </tr>\n",
       "    <tr>\n",
       "      <th>12th</th>\n",
       "      <td>Past</td>\n",
       "      <td>25Nov2020</td>\n",
       "      <td>01Dec2020</td>\n",
       "      <td>82905782</td>\n",
       "      <td>-</td>\n",
       "      <td>-</td>\n",
       "      <td>-</td>\n",
       "      <td>-</td>\n",
       "      <td>-</td>\n",
       "      <td>-</td>\n",
       "      <td>-</td>\n",
       "      <td>-</td>\n",
       "      <td>-</td>\n",
       "      <td>-</td>\n",
       "      <td>-</td>\n",
       "      <td>-</td>\n",
       "      <td>-</td>\n",
       "      <td>-</td>\n",
       "    </tr>\n",
       "    <tr>\n",
       "      <th>13th</th>\n",
       "      <td>Past</td>\n",
       "      <td>02Dec2020</td>\n",
       "      <td>08Dec2020</td>\n",
       "      <td>82905782</td>\n",
       "      <td>-</td>\n",
       "      <td>-</td>\n",
       "      <td>-</td>\n",
       "      <td>-</td>\n",
       "      <td>-</td>\n",
       "      <td>-</td>\n",
       "      <td>-</td>\n",
       "      <td>-</td>\n",
       "      <td>-</td>\n",
       "      <td>-</td>\n",
       "      <td>-</td>\n",
       "      <td>-</td>\n",
       "      <td>-</td>\n",
       "      <td>-</td>\n",
       "    </tr>\n",
       "    <tr>\n",
       "      <th>14th</th>\n",
       "      <td>Past</td>\n",
       "      <td>09Dec2020</td>\n",
       "      <td>15Dec2020</td>\n",
       "      <td>82905782</td>\n",
       "      <td>-</td>\n",
       "      <td>-</td>\n",
       "      <td>-</td>\n",
       "      <td>-</td>\n",
       "      <td>-</td>\n",
       "      <td>-</td>\n",
       "      <td>-</td>\n",
       "      <td>-</td>\n",
       "      <td>-</td>\n",
       "      <td>-</td>\n",
       "      <td>-</td>\n",
       "      <td>-</td>\n",
       "      <td>-</td>\n",
       "      <td>-</td>\n",
       "    </tr>\n",
       "    <tr>\n",
       "      <th>15th</th>\n",
       "      <td>Past</td>\n",
       "      <td>16Dec2020</td>\n",
       "      <td>21Dec2020</td>\n",
       "      <td>82905782</td>\n",
       "      <td>-</td>\n",
       "      <td>-</td>\n",
       "      <td>-</td>\n",
       "      <td>-</td>\n",
       "      <td>-</td>\n",
       "      <td>-</td>\n",
       "      <td>-</td>\n",
       "      <td>-</td>\n",
       "      <td>-</td>\n",
       "      <td>-</td>\n",
       "      <td>-</td>\n",
       "      <td>-</td>\n",
       "      <td>-</td>\n",
       "      <td>-</td>\n",
       "    </tr>\n",
       "    <tr>\n",
       "      <th>16th</th>\n",
       "      <td>Past</td>\n",
       "      <td>22Dec2020</td>\n",
       "      <td>28Dec2020</td>\n",
       "      <td>82905782</td>\n",
       "      <td>-</td>\n",
       "      <td>-</td>\n",
       "      <td>-</td>\n",
       "      <td>-</td>\n",
       "      <td>-</td>\n",
       "      <td>-</td>\n",
       "      <td>-</td>\n",
       "      <td>-</td>\n",
       "      <td>-</td>\n",
       "      <td>-</td>\n",
       "      <td>-</td>\n",
       "      <td>-</td>\n",
       "      <td>-</td>\n",
       "      <td>-</td>\n",
       "    </tr>\n",
       "    <tr>\n",
       "      <th>17th</th>\n",
       "      <td>Past</td>\n",
       "      <td>29Dec2020</td>\n",
       "      <td>04Jan2021</td>\n",
       "      <td>82905782</td>\n",
       "      <td>SIR-F</td>\n",
       "      <td>0.44</td>\n",
       "      <td>0.003466</td>\n",
       "      <td>0.000070</td>\n",
       "      <td>0.008580</td>\n",
       "      <td>0.019517</td>\n",
       "      <td>360.0</td>\n",
       "      <td>0.003</td>\n",
       "      <td>29.0</td>\n",
       "      <td>3587.0</td>\n",
       "      <td>12.0</td>\n",
       "      <td>0.066080</td>\n",
       "      <td>342.0</td>\n",
       "      <td>0 min 10 sec</td>\n",
       "    </tr>\n",
       "    <tr>\n",
       "      <th>18th</th>\n",
       "      <td>Past</td>\n",
       "      <td>05Jan2021</td>\n",
       "      <td>10Jan2021</td>\n",
       "      <td>82905782</td>\n",
       "      <td>SIR-F</td>\n",
       "      <td>0.90</td>\n",
       "      <td>0.003164</td>\n",
       "      <td>0.000002</td>\n",
       "      <td>0.018569</td>\n",
       "      <td>0.020502</td>\n",
       "      <td>360.0</td>\n",
       "      <td>0.003</td>\n",
       "      <td>13.0</td>\n",
       "      <td>134634.0</td>\n",
       "      <td>12.0</td>\n",
       "      <td>0.032290</td>\n",
       "      <td>344.0</td>\n",
       "      <td>0 min 10 sec</td>\n",
       "    </tr>\n",
       "    <tr>\n",
       "      <th>19th</th>\n",
       "      <td>Past</td>\n",
       "      <td>11Jan2021</td>\n",
       "      <td>17Jan2021</td>\n",
       "      <td>82905782</td>\n",
       "      <td>SIR-F</td>\n",
       "      <td>0.94</td>\n",
       "      <td>0.000436</td>\n",
       "      <td>0.000098</td>\n",
       "      <td>0.015943</td>\n",
       "      <td>0.016802</td>\n",
       "      <td>360.0</td>\n",
       "      <td>0.000</td>\n",
       "      <td>15.0</td>\n",
       "      <td>2548.0</td>\n",
       "      <td>14.0</td>\n",
       "      <td>0.042293</td>\n",
       "      <td>338.0</td>\n",
       "      <td>0 min 10 sec</td>\n",
       "    </tr>\n",
       "  </tbody>\n",
       "</table>\n",
       "</div>"
      ],
      "text/plain": [
       "               Type      Start        End  Population    ODE    Rt     theta  \\\n",
       "Country Phase                                                                  \n",
       "Germany 0th    Past  19Jan2020  23Mar2020    82905782  SIR-F  2.41  0.037866   \n",
       "        1st    Past  24Mar2020  06Apr2020    82905782  SIR-F  4.06  0.050861   \n",
       "        2nd    Past  07Apr2020  05May2020    82905782  SIR-F  0.51  0.032126   \n",
       "        3rd    Past  06May2020  04Aug2020    82905782  SIR-F  0.75  0.000131   \n",
       "        4th    Past  05Aug2020  12Sep2020    82905782  SIR-F  1.43  0.004204   \n",
       "        5th    Past  13Sep2020  07Oct2020    82905782  SIR-F  1.54  0.000066   \n",
       "        6th    Past  08Oct2020  20Oct2020    82905782  SIR-F  3.06  0.000676   \n",
       "        7th    Past  21Oct2020  27Oct2020    82905782  SIR-F  3.03  0.002617   \n",
       "        8th    Past  28Oct2020  03Nov2020    82905782  SIR-F  2.39  0.017998   \n",
       "        9th    Past  04Nov2020  10Nov2020    82905782      -     -         -   \n",
       "        10th   Past  11Nov2020  17Nov2020    82905782      -     -         -   \n",
       "        11th   Past  18Nov2020  24Nov2020    82905782      -     -         -   \n",
       "        12th   Past  25Nov2020  01Dec2020    82905782      -     -         -   \n",
       "        13th   Past  02Dec2020  08Dec2020    82905782      -     -         -   \n",
       "        14th   Past  09Dec2020  15Dec2020    82905782      -     -         -   \n",
       "        15th   Past  16Dec2020  21Dec2020    82905782      -     -         -   \n",
       "        16th   Past  22Dec2020  28Dec2020    82905782      -     -         -   \n",
       "        17th   Past  29Dec2020  04Jan2021    82905782  SIR-F  0.44  0.003466   \n",
       "        18th   Past  05Jan2021  10Jan2021    82905782  SIR-F  0.90  0.003164   \n",
       "        19th   Past  11Jan2021  17Jan2021    82905782  SIR-F  0.94  0.000436   \n",
       "\n",
       "                  kappa       rho     sigma    tau alpha1 [-] 1/beta [day]  \\\n",
       "Country Phase                                                                \n",
       "Germany 0th    0.000098  0.013353  0.005235  360.0      0.038         18.0   \n",
       "        1st    0.000236  0.022128  0.004932  360.0      0.051         11.0   \n",
       "        2nd    0.000319  0.011309  0.021196  360.0      0.032         22.0   \n",
       "        3rd    0.000168  0.012632  0.016764  360.0      0.000         19.0   \n",
       "        4th    0.000048  0.019114  0.013234  360.0      0.004         13.0   \n",
       "        5th    0.000152  0.018398  0.011818  360.0      0.000         13.0   \n",
       "        6th    0.000067  0.025861  0.008365  360.0      0.001          9.0   \n",
       "        7th    0.000301  0.027296  0.008690  360.0      0.003          9.0   \n",
       "        8th    0.000070  0.019524  0.007946  360.0      0.018         12.0   \n",
       "        9th           -         -         -      -          -            -   \n",
       "        10th          -         -         -      -          -            -   \n",
       "        11th          -         -         -      -          -            -   \n",
       "        12th          -         -         -      -          -            -   \n",
       "        13th          -         -         -      -          -            -   \n",
       "        14th          -         -         -      -          -            -   \n",
       "        15th          -         -         -      -          -            -   \n",
       "        16th          -         -         -      -          -            -   \n",
       "        17th   0.000070  0.008580  0.019517  360.0      0.003         29.0   \n",
       "        18th   0.000002  0.018569  0.020502  360.0      0.003         13.0   \n",
       "        19th   0.000098  0.015943  0.016802  360.0      0.000         15.0   \n",
       "\n",
       "              1/alpha2 [day] 1/gamma [day]     RMSLE Trials       Runtime  \n",
       "Country Phase                                                              \n",
       "Germany 0th           2545.0          47.0  1.594642  321.0  0 min 10 sec  \n",
       "        1st           1057.0          50.0  0.204869  340.0  0 min 10 sec  \n",
       "        2nd            784.0          11.0  0.095076  331.0  0 min 10 sec  \n",
       "        3rd           1488.0          14.0  0.232941  318.0  0 min 10 sec  \n",
       "        4th           5181.0          18.0  0.070941  333.0  0 min 10 sec  \n",
       "        5th           1648.0          21.0  0.026893  337.0  0 min 10 sec  \n",
       "        6th           3708.0          29.0  0.059260  340.0  0 min 10 sec  \n",
       "        7th            829.0          28.0  0.019589  344.0  0 min 10 sec  \n",
       "        8th           3587.0          31.0  0.031452  342.0  0 min 10 sec  \n",
       "        9th                -             -         -      -             -  \n",
       "        10th               -             -         -      -             -  \n",
       "        11th               -             -         -      -             -  \n",
       "        12th               -             -         -      -             -  \n",
       "        13th               -             -         -      -             -  \n",
       "        14th               -             -         -      -             -  \n",
       "        15th               -             -         -      -             -  \n",
       "        16th               -             -         -      -             -  \n",
       "        17th          3587.0          12.0  0.066080  342.0  0 min 10 sec  \n",
       "        18th        134634.0          12.0  0.032290  344.0  0 min 10 sec  \n",
       "        19th          2548.0          14.0  0.042293  338.0  0 min 10 sec  "
      ]
     },
     "execution_count": 12,
     "metadata": {},
     "output_type": "execute_result"
    }
   ],
   "source": [
    "# Show summary\n",
    "analyser.summary(countries=countries_show)"
   ]
  },
  {
   "cell_type": "markdown",
   "id": "medical-hungarian",
   "metadata": {},
   "source": [
    "## Compare the history of parameters\n",
    "Here, compare the history of parameter values if countries."
   ]
  },
  {
   "cell_type": "code",
   "execution_count": 13,
   "id": "laden-weight",
   "metadata": {
    "collapsed": false
   },
   "outputs": [
    {
     "data": {
      "text/html": [
       "<div>\n",
       "<style scoped>\n",
       "    .dataframe tbody tr th:only-of-type {\n",
       "        vertical-align: middle;\n",
       "    }\n",
       "\n",
       "    .dataframe tbody tr th {\n",
       "        vertical-align: top;\n",
       "    }\n",
       "\n",
       "    .dataframe thead th {\n",
       "        text-align: right;\n",
       "    }\n",
       "</style>\n",
       "<table border=\"1\" class=\"dataframe\">\n",
       "  <thead>\n",
       "    <tr style=\"text-align: right;\">\n",
       "      <th></th>\n",
       "      <th>Date</th>\n",
       "      <th>Country</th>\n",
       "      <th>theta</th>\n",
       "      <th>kappa</th>\n",
       "      <th>rho</th>\n",
       "      <th>sigma</th>\n",
       "      <th>alpha1 [-]</th>\n",
       "      <th>1/alpha2 [day]</th>\n",
       "      <th>1/beta [day]</th>\n",
       "      <th>1/gamma [day]</th>\n",
       "      <th>...</th>\n",
       "      <th>Cancel_events</th>\n",
       "      <th>Gatherings_restrictions</th>\n",
       "      <th>Transport_closing</th>\n",
       "      <th>Stay_home_restrictions</th>\n",
       "      <th>Internal_movement_restrictions</th>\n",
       "      <th>International_movement_restrictions</th>\n",
       "      <th>Information_campaigns</th>\n",
       "      <th>Testing_policy</th>\n",
       "      <th>Contact_tracing</th>\n",
       "      <th>Stringency_index</th>\n",
       "    </tr>\n",
       "  </thead>\n",
       "  <tbody>\n",
       "    <tr>\n",
       "      <th>0</th>\n",
       "      <td>2020-02-21</td>\n",
       "      <td>Sweden</td>\n",
       "      <td>0.602763</td>\n",
       "      <td>0.544883</td>\n",
       "      <td>0.031009</td>\n",
       "      <td>0.00485</td>\n",
       "      <td>0.603</td>\n",
       "      <td>0</td>\n",
       "      <td>8</td>\n",
       "      <td>51</td>\n",
       "      <td>...</td>\n",
       "      <td>0</td>\n",
       "      <td>0</td>\n",
       "      <td>0</td>\n",
       "      <td>0</td>\n",
       "      <td>0</td>\n",
       "      <td>0</td>\n",
       "      <td>0</td>\n",
       "      <td>1</td>\n",
       "      <td>2</td>\n",
       "      <td>0.0</td>\n",
       "    </tr>\n",
       "    <tr>\n",
       "      <th>1</th>\n",
       "      <td>2020-02-21</td>\n",
       "      <td>Sweden</td>\n",
       "      <td>0.602763</td>\n",
       "      <td>0.544883</td>\n",
       "      <td>0.031009</td>\n",
       "      <td>0.00485</td>\n",
       "      <td>0.603</td>\n",
       "      <td>0</td>\n",
       "      <td>8</td>\n",
       "      <td>51</td>\n",
       "      <td>...</td>\n",
       "      <td>0</td>\n",
       "      <td>0</td>\n",
       "      <td>0</td>\n",
       "      <td>0</td>\n",
       "      <td>0</td>\n",
       "      <td>0</td>\n",
       "      <td>0</td>\n",
       "      <td>1</td>\n",
       "      <td>2</td>\n",
       "      <td>0.0</td>\n",
       "    </tr>\n",
       "    <tr>\n",
       "      <th>2</th>\n",
       "      <td>2020-02-21</td>\n",
       "      <td>Sweden</td>\n",
       "      <td>0.602763</td>\n",
       "      <td>0.544883</td>\n",
       "      <td>0.031009</td>\n",
       "      <td>0.00485</td>\n",
       "      <td>0.603</td>\n",
       "      <td>0</td>\n",
       "      <td>8</td>\n",
       "      <td>51</td>\n",
       "      <td>...</td>\n",
       "      <td>0</td>\n",
       "      <td>0</td>\n",
       "      <td>0</td>\n",
       "      <td>0</td>\n",
       "      <td>0</td>\n",
       "      <td>0</td>\n",
       "      <td>0</td>\n",
       "      <td>1</td>\n",
       "      <td>2</td>\n",
       "      <td>0.0</td>\n",
       "    </tr>\n",
       "    <tr>\n",
       "      <th>3</th>\n",
       "      <td>2020-02-21</td>\n",
       "      <td>Sweden</td>\n",
       "      <td>0.602763</td>\n",
       "      <td>0.544883</td>\n",
       "      <td>0.031009</td>\n",
       "      <td>0.00485</td>\n",
       "      <td>0.603</td>\n",
       "      <td>0</td>\n",
       "      <td>8</td>\n",
       "      <td>51</td>\n",
       "      <td>...</td>\n",
       "      <td>0</td>\n",
       "      <td>0</td>\n",
       "      <td>0</td>\n",
       "      <td>0</td>\n",
       "      <td>0</td>\n",
       "      <td>0</td>\n",
       "      <td>0</td>\n",
       "      <td>1</td>\n",
       "      <td>2</td>\n",
       "      <td>0.0</td>\n",
       "    </tr>\n",
       "    <tr>\n",
       "      <th>4</th>\n",
       "      <td>2020-02-21</td>\n",
       "      <td>Sweden</td>\n",
       "      <td>0.602763</td>\n",
       "      <td>0.544883</td>\n",
       "      <td>0.031009</td>\n",
       "      <td>0.00485</td>\n",
       "      <td>0.603</td>\n",
       "      <td>0</td>\n",
       "      <td>8</td>\n",
       "      <td>51</td>\n",
       "      <td>...</td>\n",
       "      <td>0</td>\n",
       "      <td>0</td>\n",
       "      <td>0</td>\n",
       "      <td>0</td>\n",
       "      <td>0</td>\n",
       "      <td>0</td>\n",
       "      <td>0</td>\n",
       "      <td>1</td>\n",
       "      <td>2</td>\n",
       "      <td>0.0</td>\n",
       "    </tr>\n",
       "  </tbody>\n",
       "</table>\n",
       "<p>5 rows × 23 columns</p>\n",
       "</div>"
      ],
      "text/plain": [
       "        Date Country     theta     kappa       rho    sigma alpha1 [-]  \\\n",
       "0 2020-02-21  Sweden  0.602763  0.544883  0.031009  0.00485      0.603   \n",
       "1 2020-02-21  Sweden  0.602763  0.544883  0.031009  0.00485      0.603   \n",
       "2 2020-02-21  Sweden  0.602763  0.544883  0.031009  0.00485      0.603   \n",
       "3 2020-02-21  Sweden  0.602763  0.544883  0.031009  0.00485      0.603   \n",
       "4 2020-02-21  Sweden  0.602763  0.544883  0.031009  0.00485      0.603   \n",
       "\n",
       "  1/alpha2 [day] 1/beta [day] 1/gamma [day]  ... Cancel_events  \\\n",
       "0              0            8            51  ...             0   \n",
       "1              0            8            51  ...             0   \n",
       "2              0            8            51  ...             0   \n",
       "3              0            8            51  ...             0   \n",
       "4              0            8            51  ...             0   \n",
       "\n",
       "   Gatherings_restrictions  Transport_closing  Stay_home_restrictions  \\\n",
       "0                        0                  0                       0   \n",
       "1                        0                  0                       0   \n",
       "2                        0                  0                       0   \n",
       "3                        0                  0                       0   \n",
       "4                        0                  0                       0   \n",
       "\n",
       "   Internal_movement_restrictions  International_movement_restrictions  \\\n",
       "0                               0                                    0   \n",
       "1                               0                                    0   \n",
       "2                               0                                    0   \n",
       "3                               0                                    0   \n",
       "4                               0                                    0   \n",
       "\n",
       "   Information_campaigns  Testing_policy  Contact_tracing  Stringency_index  \n",
       "0                      0               1                2               0.0  \n",
       "1                      0               1                2               0.0  \n",
       "2                      0               1                2               0.0  \n",
       "3                      0               1                2               0.0  \n",
       "4                      0               1                2               0.0  \n",
       "\n",
       "[5 rows x 23 columns]"
      ]
     },
     "execution_count": 13,
     "metadata": {},
     "output_type": "execute_result"
    }
   ],
   "source": [
    "# All parameter/day parameter/Rt/OxCGRT\n",
    "analyser.track().head()"
   ]
  },
  {
   "cell_type": "markdown",
   "id": "opposed-dodge",
   "metadata": {},
   "source": [
    "### $Rt$: Reprodcution number $\\mathrm{[-]}$"
   ]
  },
  {
   "cell_type": "code",
   "execution_count": 14,
   "id": "greek-shaft",
   "metadata": {
    "collapsed": false
   },
   "outputs": [
    {
     "data": {
      "image/png": "[encoded data removed]",
      "text/plain": [
       "<Figure size 648x432 with 1 Axes>"
      ]
     },
     "metadata": {},
     "output_type": "display_data"
    },
    {
     "data": {
      "text/html": [
       "<div>\n",
       "<style scoped>\n",
       "    .dataframe tbody tr th:only-of-type {\n",
       "        vertical-align: middle;\n",
       "    }\n",
       "\n",
       "    .dataframe tbody tr th {\n",
       "        vertical-align: top;\n",
       "    }\n",
       "\n",
       "    .dataframe thead th {\n",
       "        text-align: right;\n",
       "    }\n",
       "</style>\n",
       "<table border=\"1\" class=\"dataframe\">\n",
       "  <thead>\n",
       "    <tr style=\"text-align: right;\">\n",
       "      <th>Country</th>\n",
       "      <th>Germany</th>\n",
       "      <th>Sweden</th>\n",
       "      <th>Switzerland</th>\n",
       "    </tr>\n",
       "    <tr>\n",
       "      <th>Date</th>\n",
       "      <th></th>\n",
       "      <th></th>\n",
       "      <th></th>\n",
       "    </tr>\n",
       "  </thead>\n",
       "  <tbody>\n",
       "    <tr>\n",
       "      <th>2021-01-13</th>\n",
       "      <td>0.94</td>\n",
       "      <td>0.69</td>\n",
       "      <td>2.84</td>\n",
       "    </tr>\n",
       "    <tr>\n",
       "      <th>2021-01-14</th>\n",
       "      <td>0.94</td>\n",
       "      <td>0.69</td>\n",
       "      <td>2.84</td>\n",
       "    </tr>\n",
       "    <tr>\n",
       "      <th>2021-01-15</th>\n",
       "      <td>0.94</td>\n",
       "      <td>0.69</td>\n",
       "      <td>2.84</td>\n",
       "    </tr>\n",
       "    <tr>\n",
       "      <th>2021-01-16</th>\n",
       "      <td>0.94</td>\n",
       "      <td>0.69</td>\n",
       "      <td>2.84</td>\n",
       "    </tr>\n",
       "    <tr>\n",
       "      <th>2021-01-17</th>\n",
       "      <td>0.94</td>\n",
       "      <td>0.69</td>\n",
       "      <td>2.84</td>\n",
       "    </tr>\n",
       "  </tbody>\n",
       "</table>\n",
       "</div>"
      ],
      "text/plain": [
       "Country     Germany  Sweden  Switzerland\n",
       "Date                                    \n",
       "2021-01-13     0.94    0.69         2.84\n",
       "2021-01-14     0.94    0.69         2.84\n",
       "2021-01-15     0.94    0.69         2.84\n",
       "2021-01-16     0.94    0.69         2.84\n",
       "2021-01-17     0.94    0.69         2.84"
      ]
     },
     "execution_count": 14,
     "metadata": {},
     "output_type": "execute_result"
    }
   ],
   "source": [
    "analyser.history(\"Rt\", roll_window=None).tail()"
   ]
  },
  {
   "cell_type": "markdown",
   "id": "canadian-robin",
   "metadata": {},
   "source": [
    "### $\\rho$: Effective contact rate $\\mathrm{[-]}$"
   ]
  },
  {
   "cell_type": "code",
   "execution_count": 15,
   "id": "collect-bailey",
   "metadata": {
    "collapsed": false
   },
   "outputs": [
    {
     "data": {
      "image/png": "[encoded data removed]",
      "text/plain": [
       "<Figure size 648x432 with 1 Axes>"
      ]
     },
     "metadata": {},
     "output_type": "display_data"
    },
    {
     "data": {
      "text/html": [
       "<div>\n",
       "<style scoped>\n",
       "    .dataframe tbody tr th:only-of-type {\n",
       "        vertical-align: middle;\n",
       "    }\n",
       "\n",
       "    .dataframe tbody tr th {\n",
       "        vertical-align: top;\n",
       "    }\n",
       "\n",
       "    .dataframe thead th {\n",
       "        text-align: right;\n",
       "    }\n",
       "</style>\n",
       "<table border=\"1\" class=\"dataframe\">\n",
       "  <thead>\n",
       "    <tr style=\"text-align: right;\">\n",
       "      <th>Country</th>\n",
       "      <th>Germany</th>\n",
       "      <th>Sweden</th>\n",
       "      <th>Switzerland</th>\n",
       "    </tr>\n",
       "    <tr>\n",
       "      <th>Date</th>\n",
       "      <th></th>\n",
       "      <th></th>\n",
       "      <th></th>\n",
       "    </tr>\n",
       "  </thead>\n",
       "  <tbody>\n",
       "    <tr>\n",
       "      <th>2021-01-13</th>\n",
       "      <td>0.015943</td>\n",
       "      <td>0.010255</td>\n",
       "      <td>0.007498</td>\n",
       "    </tr>\n",
       "    <tr>\n",
       "      <th>2021-01-14</th>\n",
       "      <td>0.015943</td>\n",
       "      <td>0.010255</td>\n",
       "      <td>0.007498</td>\n",
       "    </tr>\n",
       "    <tr>\n",
       "      <th>2021-01-15</th>\n",
       "      <td>0.015943</td>\n",
       "      <td>0.010255</td>\n",
       "      <td>0.007498</td>\n",
       "    </tr>\n",
       "    <tr>\n",
       "      <th>2021-01-16</th>\n",
       "      <td>0.015943</td>\n",
       "      <td>0.010255</td>\n",
       "      <td>0.007498</td>\n",
       "    </tr>\n",
       "    <tr>\n",
       "      <th>2021-01-17</th>\n",
       "      <td>0.015943</td>\n",
       "      <td>0.010255</td>\n",
       "      <td>0.007498</td>\n",
       "    </tr>\n",
       "  </tbody>\n",
       "</table>\n",
       "</div>"
      ],
      "text/plain": [
       "Country      Germany    Sweden  Switzerland\n",
       "Date                                       \n",
       "2021-01-13  0.015943  0.010255     0.007498\n",
       "2021-01-14  0.015943  0.010255     0.007498\n",
       "2021-01-15  0.015943  0.010255     0.007498\n",
       "2021-01-16  0.015943  0.010255     0.007498\n",
       "2021-01-17  0.015943  0.010255     0.007498"
      ]
     },
     "execution_count": 15,
     "metadata": {},
     "output_type": "execute_result"
    }
   ],
   "source": [
    "analyser.history(\"rho\", roll_window=None).tail()"
   ]
  },
  {
   "cell_type": "markdown",
   "id": "younger-being",
   "metadata": {},
   "source": [
    "### $\\sigma$: Recovery rate $\\mathrm{[-]}$"
   ]
  },
  {
   "cell_type": "code",
   "execution_count": 16,
   "id": "enhanced-kentucky",
   "metadata": {
    "collapsed": false
   },
   "outputs": [
    {
     "data": {
      "image/png": "[encoded data removed]",
      "text/plain": [
       "<Figure size 648x432 with 1 Axes>"
      ]
     },
     "metadata": {},
     "output_type": "display_data"
    },
    {
     "data": {
      "text/html": [
       "<div>\n",
       "<style scoped>\n",
       "    .dataframe tbody tr th:only-of-type {\n",
       "        vertical-align: middle;\n",
       "    }\n",
       "\n",
       "    .dataframe tbody tr th {\n",
       "        vertical-align: top;\n",
       "    }\n",
       "\n",
       "    .dataframe thead th {\n",
       "        text-align: right;\n",
       "    }\n",
       "</style>\n",
       "<table border=\"1\" class=\"dataframe\">\n",
       "  <thead>\n",
       "    <tr style=\"text-align: right;\">\n",
       "      <th>Country</th>\n",
       "      <th>Germany</th>\n",
       "      <th>Sweden</th>\n",
       "      <th>Switzerland</th>\n",
       "    </tr>\n",
       "    <tr>\n",
       "      <th>Date</th>\n",
       "      <th></th>\n",
       "      <th></th>\n",
       "      <th></th>\n",
       "    </tr>\n",
       "  </thead>\n",
       "  <tbody>\n",
       "    <tr>\n",
       "      <th>2021-01-13</th>\n",
       "      <td>0.016802</td>\n",
       "      <td>0.014631</td>\n",
       "      <td>0.002542</td>\n",
       "    </tr>\n",
       "    <tr>\n",
       "      <th>2021-01-14</th>\n",
       "      <td>0.016802</td>\n",
       "      <td>0.014631</td>\n",
       "      <td>0.002542</td>\n",
       "    </tr>\n",
       "    <tr>\n",
       "      <th>2021-01-15</th>\n",
       "      <td>0.016802</td>\n",
       "      <td>0.014631</td>\n",
       "      <td>0.002542</td>\n",
       "    </tr>\n",
       "    <tr>\n",
       "      <th>2021-01-16</th>\n",
       "      <td>0.016802</td>\n",
       "      <td>0.014631</td>\n",
       "      <td>0.002542</td>\n",
       "    </tr>\n",
       "    <tr>\n",
       "      <th>2021-01-17</th>\n",
       "      <td>0.016802</td>\n",
       "      <td>0.014631</td>\n",
       "      <td>0.002542</td>\n",
       "    </tr>\n",
       "  </tbody>\n",
       "</table>\n",
       "</div>"
      ],
      "text/plain": [
       "Country      Germany    Sweden  Switzerland\n",
       "Date                                       \n",
       "2021-01-13  0.016802  0.014631     0.002542\n",
       "2021-01-14  0.016802  0.014631     0.002542\n",
       "2021-01-15  0.016802  0.014631     0.002542\n",
       "2021-01-16  0.016802  0.014631     0.002542\n",
       "2021-01-17  0.016802  0.014631     0.002542"
      ]
     },
     "execution_count": 16,
     "metadata": {},
     "output_type": "execute_result"
    }
   ],
   "source": [
    "analyser.history(\"sigma\", roll_window=None).tail()"
   ]
  },
  {
   "cell_type": "markdown",
   "id": "statistical-account",
   "metadata": {},
   "source": [
    "### $\\kappa$: Mortality rate of infected cases $\\mathrm{[-]}$"
   ]
  },
  {
   "cell_type": "code",
   "execution_count": 17,
   "id": "christian-artist",
   "metadata": {
    "collapsed": false
   },
   "outputs": [
    {
     "data": {
      "image/png": "[encoded data removed]",
      "text/plain": [
       "<Figure size 648x432 with 1 Axes>"
      ]
     },
     "metadata": {},
     "output_type": "display_data"
    },
    {
     "data": {
      "text/html": [
       "<div>\n",
       "<style scoped>\n",
       "    .dataframe tbody tr th:only-of-type {\n",
       "        vertical-align: middle;\n",
       "    }\n",
       "\n",
       "    .dataframe tbody tr th {\n",
       "        vertical-align: top;\n",
       "    }\n",
       "\n",
       "    .dataframe thead th {\n",
       "        text-align: right;\n",
       "    }\n",
       "</style>\n",
       "<table border=\"1\" class=\"dataframe\">\n",
       "  <thead>\n",
       "    <tr style=\"text-align: right;\">\n",
       "      <th>Country</th>\n",
       "      <th>Germany</th>\n",
       "      <th>Sweden</th>\n",
       "      <th>Switzerland</th>\n",
       "    </tr>\n",
       "    <tr>\n",
       "      <th>Date</th>\n",
       "      <th></th>\n",
       "      <th></th>\n",
       "      <th></th>\n",
       "    </tr>\n",
       "  </thead>\n",
       "  <tbody>\n",
       "    <tr>\n",
       "      <th>2021-01-13</th>\n",
       "      <td>0.000098</td>\n",
       "      <td>0.00007</td>\n",
       "      <td>0.000098</td>\n",
       "    </tr>\n",
       "    <tr>\n",
       "      <th>2021-01-14</th>\n",
       "      <td>0.000098</td>\n",
       "      <td>0.00007</td>\n",
       "      <td>0.000098</td>\n",
       "    </tr>\n",
       "    <tr>\n",
       "      <th>2021-01-15</th>\n",
       "      <td>0.000098</td>\n",
       "      <td>0.00007</td>\n",
       "      <td>0.000098</td>\n",
       "    </tr>\n",
       "    <tr>\n",
       "      <th>2021-01-16</th>\n",
       "      <td>0.000098</td>\n",
       "      <td>0.00007</td>\n",
       "      <td>0.000098</td>\n",
       "    </tr>\n",
       "    <tr>\n",
       "      <th>2021-01-17</th>\n",
       "      <td>0.000098</td>\n",
       "      <td>0.00007</td>\n",
       "      <td>0.000098</td>\n",
       "    </tr>\n",
       "  </tbody>\n",
       "</table>\n",
       "</div>"
      ],
      "text/plain": [
       "Country      Germany   Sweden  Switzerland\n",
       "Date                                      \n",
       "2021-01-13  0.000098  0.00007     0.000098\n",
       "2021-01-14  0.000098  0.00007     0.000098\n",
       "2021-01-15  0.000098  0.00007     0.000098\n",
       "2021-01-16  0.000098  0.00007     0.000098\n",
       "2021-01-17  0.000098  0.00007     0.000098"
      ]
     },
     "execution_count": 17,
     "metadata": {},
     "output_type": "execute_result"
    }
   ],
   "source": [
    "analyser.history(\"kappa\", roll_window=None).tail()"
   ]
  },
  {
   "cell_type": "markdown",
   "id": "legal-humanity",
   "metadata": {},
   "source": [
    "### $\\theta$: Mortality rate of S$^\\ast$ cases $\\mathrm{[-]}$"
   ]
  },
  {
   "cell_type": "code",
   "execution_count": 18,
   "id": "mexican-bulletin",
   "metadata": {
    "collapsed": false
   },
   "outputs": [
    {
     "data": {
      "image/png": "[encoded data removed]",
      "text/plain": [
       "<Figure size 648x432 with 1 Axes>"
      ]
     },
     "metadata": {},
     "output_type": "display_data"
    },
    {
     "data": {
      "text/html": [
       "<div>\n",
       "<style scoped>\n",
       "    .dataframe tbody tr th:only-of-type {\n",
       "        vertical-align: middle;\n",
       "    }\n",
       "\n",
       "    .dataframe tbody tr th {\n",
       "        vertical-align: top;\n",
       "    }\n",
       "\n",
       "    .dataframe thead th {\n",
       "        text-align: right;\n",
       "    }\n",
       "</style>\n",
       "<table border=\"1\" class=\"dataframe\">\n",
       "  <thead>\n",
       "    <tr style=\"text-align: right;\">\n",
       "      <th>Country</th>\n",
       "      <th>Germany</th>\n",
       "      <th>Sweden</th>\n",
       "      <th>Switzerland</th>\n",
       "    </tr>\n",
       "    <tr>\n",
       "      <th>Date</th>\n",
       "      <th></th>\n",
       "      <th></th>\n",
       "      <th></th>\n",
       "    </tr>\n",
       "  </thead>\n",
       "  <tbody>\n",
       "    <tr>\n",
       "      <th>2021-01-13</th>\n",
       "      <td>0.000436</td>\n",
       "      <td>0.015708</td>\n",
       "      <td>0.00044</td>\n",
       "    </tr>\n",
       "    <tr>\n",
       "      <th>2021-01-14</th>\n",
       "      <td>0.000436</td>\n",
       "      <td>0.015708</td>\n",
       "      <td>0.00044</td>\n",
       "    </tr>\n",
       "    <tr>\n",
       "      <th>2021-01-15</th>\n",
       "      <td>0.000436</td>\n",
       "      <td>0.015708</td>\n",
       "      <td>0.00044</td>\n",
       "    </tr>\n",
       "    <tr>\n",
       "      <th>2021-01-16</th>\n",
       "      <td>0.000436</td>\n",
       "      <td>0.015708</td>\n",
       "      <td>0.00044</td>\n",
       "    </tr>\n",
       "    <tr>\n",
       "      <th>2021-01-17</th>\n",
       "      <td>0.000436</td>\n",
       "      <td>0.015708</td>\n",
       "      <td>0.00044</td>\n",
       "    </tr>\n",
       "  </tbody>\n",
       "</table>\n",
       "</div>"
      ],
      "text/plain": [
       "Country      Germany    Sweden  Switzerland\n",
       "Date                                       \n",
       "2021-01-13  0.000436  0.015708      0.00044\n",
       "2021-01-14  0.000436  0.015708      0.00044\n",
       "2021-01-15  0.000436  0.015708      0.00044\n",
       "2021-01-16  0.000436  0.015708      0.00044\n",
       "2021-01-17  0.000436  0.015708      0.00044"
      ]
     },
     "execution_count": 18,
     "metadata": {},
     "output_type": "execute_result"
    }
   ],
   "source": [
    "analyser.history(\"theta\", roll_window=None).tail()"
   ]
  },
  {
   "cell_type": "markdown",
   "id": "injured-circulation",
   "metadata": {},
   "source": [
    "## (Experimental): Relationship of OxCGRT index and parameter values\n",
    "Government responses will impact on parameter values of ODE models about 14 days later. Here, we will investigate on the relationship of [stringency index (from OxCGRT)](https://github.com/OxCGRT/covid-policy-tracker/blob/master/documentation/index_methodology.md) and reproduction number/model parameters.\n"
   ]
  },
  {
   "cell_type": "code",
   "execution_count": 19,
   "id": "nutritional-doctrine",
   "metadata": {
    "collapsed": false
   },
   "outputs": [],
   "source": [
    "%matplotlib inline\n",
    "from matplotlib import pyplot as plt\n",
    "import seaborn as sns\n",
    "import pandas as pd"
   ]
  },
  {
   "cell_type": "code",
   "execution_count": 20,
   "id": "dominant-great",
   "metadata": {
    "collapsed": false
   },
   "outputs": [
    {
     "name": "stdout",
     "output_type": "stream",
     "text": [
      "<class 'pandas.core.frame.DataFrame'>\n",
      "Int64Index: 18150 entries, 0 to 18177\n",
      "Data columns (total 19 columns):\n",
      " #   Column                               Non-Null Count  Dtype         \n",
      "---  ------                               --------------  -----         \n",
      " 0   Date                                 18150 non-null  datetime64[ns]\n",
      " 1   Country                              18150 non-null  object        \n",
      " 2   Rt                                   18150 non-null  float64       \n",
      " 3   theta                                18150 non-null  float64       \n",
      " 4   kappa                                18150 non-null  float64       \n",
      " 5   rho                                  18150 non-null  float64       \n",
      " 6   sigma                                18150 non-null  float64       \n",
      " 7   School_closing                       18150 non-null  int64         \n",
      " 8   Workplace_closing                    18150 non-null  int64         \n",
      " 9   Cancel_events                        18150 non-null  int64         \n",
      " 10  Gatherings_restrictions              18150 non-null  int64         \n",
      " 11  Transport_closing                    18150 non-null  int64         \n",
      " 12  Stay_home_restrictions               18150 non-null  int64         \n",
      " 13  Internal_movement_restrictions       18150 non-null  int64         \n",
      " 14  International_movement_restrictions  18150 non-null  int64         \n",
      " 15  Information_campaigns                18150 non-null  int64         \n",
      " 16  Testing_policy                       18150 non-null  int64         \n",
      " 17  Contact_tracing                      18150 non-null  int64         \n",
      " 18  Stringency_index                     18150 non-null  float64       \n",
      "dtypes: datetime64[ns](1), float64(6), int64(11), object(1)\n",
      "memory usage: 2.8+ MB\n"
     ]
    }
   ],
   "source": [
    "df = analyser.track()\n",
    "param_cols = [\"Rt\", *cs.SIRF.PARAMETERS]\n",
    "oxcgrt_cols = oxcgrt_data.OXCGRT_VARS[:]\n",
    "cols = param_cols + oxcgrt_cols\n",
    "delay = 14\n",
    "\n",
    "for col in param_cols:\n",
    "    df[col] = pd.to_numeric(df[col], errors=\"coerce\")\n",
    "    df[col] = df.groupby(\"Country\")[col].shift(0 - delay)\n",
    "\n",
    "df = df.dropna(how=\"any\")\n",
    "df = df.loc[:, [\"Date\", \"Country\", *cols]]\n",
    "track_df = df.copy()\n",
    "track_df.info()"
   ]
  },
  {
   "cell_type": "code",
   "execution_count": 21,
   "id": "liquid-composition",
   "metadata": {
    "collapsed": false
   },
   "outputs": [
    {
     "data": {
      "text/html": [
       "<style  type=\"text/css\" >\n",
       "#T_89b67_row0_col0,#T_89b67_row1_col1,#T_89b67_row2_col2,#T_89b67_row3_col3,#T_89b67_row4_col4,#T_89b67_row5_col5,#T_89b67_row6_col6,#T_89b67_row7_col7,#T_89b67_row8_col8,#T_89b67_row9_col9,#T_89b67_row10_col10,#T_89b67_row11_col11,#T_89b67_row12_col12,#T_89b67_row13_col13,#T_89b67_row14_col14,#T_89b67_row15_col15,#T_89b67_row16_col16{\n",
       "            background-color:  #023858;\n",
       "            color:  #f1f1f1;\n",
       "        }#T_89b67_row0_col1,#T_89b67_row0_col2,#T_89b67_row0_col7,#T_89b67_row1_col0,#T_89b67_row2_col0,#T_89b67_row7_col0{\n",
       "            background-color:  #b7c5df;\n",
       "            color:  #000000;\n",
       "        }#T_89b67_row0_col3,#T_89b67_row3_col0{\n",
       "            background-color:  #0567a1;\n",
       "            color:  #f1f1f1;\n",
       "        }#T_89b67_row0_col4,#T_89b67_row4_col0{\n",
       "            background-color:  #f2ecf5;\n",
       "            color:  #000000;\n",
       "        }#T_89b67_row0_col5,#T_89b67_row2_col16,#T_89b67_row3_col8,#T_89b67_row5_col0,#T_89b67_row8_col3,#T_89b67_row16_col2{\n",
       "            background-color:  #d6d6e9;\n",
       "            color:  #000000;\n",
       "        }#T_89b67_row0_col6,#T_89b67_row6_col0{\n",
       "            background-color:  #d3d4e7;\n",
       "            color:  #000000;\n",
       "        }#T_89b67_row0_col8,#T_89b67_row1_col5,#T_89b67_row2_col5,#T_89b67_row2_col8,#T_89b67_row3_col14,#T_89b67_row5_col1,#T_89b67_row5_col2,#T_89b67_row8_col0,#T_89b67_row8_col2,#T_89b67_row14_col3{\n",
       "            background-color:  #d0d1e6;\n",
       "            color:  #000000;\n",
       "        }#T_89b67_row0_col9,#T_89b67_row9_col0{\n",
       "            background-color:  #c1cae2;\n",
       "            color:  #000000;\n",
       "        }#T_89b67_row0_col10,#T_89b67_row3_col5,#T_89b67_row5_col3,#T_89b67_row10_col0{\n",
       "            background-color:  #e8e4f0;\n",
       "            color:  #000000;\n",
       "        }#T_89b67_row0_col11,#T_89b67_row11_col0{\n",
       "            background-color:  #e7e3f0;\n",
       "            color:  #000000;\n",
       "        }#T_89b67_row0_col12,#T_89b67_row3_col12,#T_89b67_row12_col0,#T_89b67_row12_col3{\n",
       "            background-color:  #e5e1ef;\n",
       "            color:  #000000;\n",
       "        }#T_89b67_row0_col13,#T_89b67_row4_col15,#T_89b67_row13_col0,#T_89b67_row15_col4{\n",
       "            background-color:  #bbc7e0;\n",
       "            color:  #000000;\n",
       "        }#T_89b67_row0_col14,#T_89b67_row1_col16,#T_89b67_row14_col0,#T_89b67_row16_col1{\n",
       "            background-color:  #d8d7e9;\n",
       "            color:  #000000;\n",
       "        }#T_89b67_row0_col15,#T_89b67_row15_col0{\n",
       "            background-color:  #d7d6e9;\n",
       "            color:  #000000;\n",
       "        }#T_89b67_row0_col16,#T_89b67_row16_col0{\n",
       "            background-color:  #d2d3e7;\n",
       "            color:  #000000;\n",
       "        }#T_89b67_row1_col2,#T_89b67_row2_col1{\n",
       "            background-color:  #023a5b;\n",
       "            color:  #f1f1f1;\n",
       "        }#T_89b67_row1_col3,#T_89b67_row3_col1,#T_89b67_row4_col14,#T_89b67_row14_col4{\n",
       "            background-color:  #62a2cb;\n",
       "            color:  #000000;\n",
       "        }#T_89b67_row1_col4,#T_89b67_row4_col1{\n",
       "            background-color:  #d5d5e8;\n",
       "            color:  #000000;\n",
       "        }#T_89b67_row1_col6,#T_89b67_row1_col10,#T_89b67_row1_col12,#T_89b67_row1_col14,#T_89b67_row6_col1,#T_89b67_row10_col1,#T_89b67_row12_col1,#T_89b67_row14_col1{\n",
       "            background-color:  #e3e0ee;\n",
       "            color:  #000000;\n",
       "        }#T_89b67_row1_col7,#T_89b67_row1_col13,#T_89b67_row2_col12,#T_89b67_row7_col1,#T_89b67_row12_col2,#T_89b67_row13_col1{\n",
       "            background-color:  #e0dded;\n",
       "            color:  #000000;\n",
       "        }#T_89b67_row1_col8,#T_89b67_row8_col1{\n",
       "            background-color:  #d4d4e8;\n",
       "            color:  #000000;\n",
       "        }#T_89b67_row1_col9,#T_89b67_row9_col1{\n",
       "            background-color:  #a4bcda;\n",
       "            color:  #000000;\n",
       "        }#T_89b67_row1_col11,#T_89b67_row11_col1{\n",
       "            background-color:  #eee9f3;\n",
       "            color:  #000000;\n",
       "        }#T_89b67_row1_col15,#T_89b67_row15_col1{\n",
       "            background-color:  #bcc7e1;\n",
       "            color:  #000000;\n",
       "        }#T_89b67_row2_col3,#T_89b67_row3_col2{\n",
       "            background-color:  #569dc8;\n",
       "            color:  #000000;\n",
       "        }#T_89b67_row2_col4,#T_89b67_row2_col7,#T_89b67_row2_col14,#T_89b67_row3_col16,#T_89b67_row4_col2,#T_89b67_row7_col2,#T_89b67_row14_col2,#T_89b67_row16_col3{\n",
       "            background-color:  #d9d8ea;\n",
       "            color:  #000000;\n",
       "        }#T_89b67_row2_col6,#T_89b67_row3_col6,#T_89b67_row6_col2,#T_89b67_row6_col3{\n",
       "            background-color:  #dedcec;\n",
       "            color:  #000000;\n",
       "        }#T_89b67_row2_col9,#T_89b67_row9_col2{\n",
       "            background-color:  #a8bedc;\n",
       "            color:  #000000;\n",
       "        }#T_89b67_row2_col10,#T_89b67_row10_col2{\n",
       "            background-color:  #dfddec;\n",
       "            color:  #000000;\n",
       "        }#T_89b67_row2_col11,#T_89b67_row11_col2{\n",
       "            background-color:  #ebe6f2;\n",
       "            color:  #000000;\n",
       "        }#T_89b67_row2_col13,#T_89b67_row13_col2{\n",
       "            background-color:  #dbdaeb;\n",
       "            color:  #000000;\n",
       "        }#T_89b67_row2_col15,#T_89b67_row8_col15,#T_89b67_row15_col2,#T_89b67_row15_col8{\n",
       "            background-color:  #adc1dd;\n",
       "            color:  #000000;\n",
       "        }#T_89b67_row3_col4,#T_89b67_row4_col3{\n",
       "            background-color:  #fff7fb;\n",
       "            color:  #000000;\n",
       "        }#T_89b67_row3_col7,#T_89b67_row7_col3{\n",
       "            background-color:  #c0c9e2;\n",
       "            color:  #000000;\n",
       "        }#T_89b67_row3_col9,#T_89b67_row5_col8,#T_89b67_row8_col5,#T_89b67_row9_col3{\n",
       "            background-color:  #99b8d8;\n",
       "            color:  #000000;\n",
       "        }#T_89b67_row3_col10,#T_89b67_row10_col3{\n",
       "            background-color:  #e1dfed;\n",
       "            color:  #000000;\n",
       "        }#T_89b67_row3_col11,#T_89b67_row11_col3{\n",
       "            background-color:  #e6e2ef;\n",
       "            color:  #000000;\n",
       "        }#T_89b67_row3_col13,#T_89b67_row13_col3{\n",
       "            background-color:  #c2cbe2;\n",
       "            color:  #000000;\n",
       "        }#T_89b67_row3_col15,#T_89b67_row15_col3{\n",
       "            background-color:  #cacee5;\n",
       "            color:  #000000;\n",
       "        }#T_89b67_row4_col5,#T_89b67_row5_col4{\n",
       "            background-color:  #549cc7;\n",
       "            color:  #000000;\n",
       "        }#T_89b67_row4_col6,#T_89b67_row6_col4{\n",
       "            background-color:  #509ac6;\n",
       "            color:  #000000;\n",
       "        }#T_89b67_row4_col7,#T_89b67_row7_col4{\n",
       "            background-color:  #4c99c5;\n",
       "            color:  #000000;\n",
       "        }#T_89b67_row4_col8,#T_89b67_row5_col6,#T_89b67_row6_col5,#T_89b67_row8_col4{\n",
       "            background-color:  #4496c3;\n",
       "            color:  #000000;\n",
       "        }#T_89b67_row4_col9,#T_89b67_row9_col4{\n",
       "            background-color:  #79abd0;\n",
       "            color:  #000000;\n",
       "        }#T_89b67_row4_col10,#T_89b67_row10_col4,#T_89b67_row13_col15,#T_89b67_row15_col13{\n",
       "            background-color:  #3f93c2;\n",
       "            color:  #000000;\n",
       "        }#T_89b67_row4_col11,#T_89b67_row6_col13,#T_89b67_row11_col4,#T_89b67_row13_col6{\n",
       "            background-color:  #328dbf;\n",
       "            color:  #000000;\n",
       "        }#T_89b67_row4_col12,#T_89b67_row11_col14,#T_89b67_row12_col4,#T_89b67_row14_col11{\n",
       "            background-color:  #2a88bc;\n",
       "            color:  #000000;\n",
       "        }#T_89b67_row4_col13,#T_89b67_row13_col4{\n",
       "            background-color:  #60a1ca;\n",
       "            color:  #000000;\n",
       "        }#T_89b67_row4_col16,#T_89b67_row5_col13,#T_89b67_row12_col14,#T_89b67_row13_col5,#T_89b67_row14_col12,#T_89b67_row16_col4{\n",
       "            background-color:  #308cbe;\n",
       "            color:  #000000;\n",
       "        }#T_89b67_row5_col7,#T_89b67_row7_col5{\n",
       "            background-color:  #1b7eb7;\n",
       "            color:  #000000;\n",
       "        }#T_89b67_row5_col9,#T_89b67_row9_col5{\n",
       "            background-color:  #c6cce3;\n",
       "            color:  #000000;\n",
       "        }#T_89b67_row5_col10,#T_89b67_row10_col5{\n",
       "            background-color:  #0f76b3;\n",
       "            color:  #f1f1f1;\n",
       "        }#T_89b67_row5_col11,#T_89b67_row6_col11,#T_89b67_row10_col13,#T_89b67_row11_col5,#T_89b67_row11_col6,#T_89b67_row13_col10{\n",
       "            background-color:  #1077b4;\n",
       "            color:  #f1f1f1;\n",
       "        }#T_89b67_row5_col12,#T_89b67_row12_col5{\n",
       "            background-color:  #0c74b2;\n",
       "            color:  #f1f1f1;\n",
       "        }#T_89b67_row5_col14,#T_89b67_row6_col15,#T_89b67_row14_col5,#T_89b67_row15_col6{\n",
       "            background-color:  #89b1d4;\n",
       "            color:  #000000;\n",
       "        }#T_89b67_row5_col15,#T_89b67_row15_col5{\n",
       "            background-color:  #83afd3;\n",
       "            color:  #000000;\n",
       "        }#T_89b67_row5_col16,#T_89b67_row16_col5{\n",
       "            background-color:  #3b92c1;\n",
       "            color:  #000000;\n",
       "        }#T_89b67_row6_col7,#T_89b67_row7_col6{\n",
       "            background-color:  #1c7fb8;\n",
       "            color:  #000000;\n",
       "        }#T_89b67_row6_col8,#T_89b67_row8_col6{\n",
       "            background-color:  #045788;\n",
       "            color:  #f1f1f1;\n",
       "        }#T_89b67_row6_col9,#T_89b67_row9_col6,#T_89b67_row15_col16,#T_89b67_row16_col15{\n",
       "            background-color:  #b4c4df;\n",
       "            color:  #000000;\n",
       "        }#T_89b67_row6_col10,#T_89b67_row10_col6{\n",
       "            background-color:  #0570b0;\n",
       "            color:  #f1f1f1;\n",
       "        }#T_89b67_row6_col12,#T_89b67_row12_col6{\n",
       "            background-color:  #0a73b2;\n",
       "            color:  #f1f1f1;\n",
       "        }#T_89b67_row6_col14,#T_89b67_row14_col6{\n",
       "            background-color:  #6ba5cd;\n",
       "            color:  #000000;\n",
       "        }#T_89b67_row6_col16,#T_89b67_row16_col6{\n",
       "            background-color:  #045a8d;\n",
       "            color:  #f1f1f1;\n",
       "        }#T_89b67_row7_col8,#T_89b67_row8_col7{\n",
       "            background-color:  #187cb6;\n",
       "            color:  #000000;\n",
       "        }#T_89b67_row7_col9,#T_89b67_row9_col7{\n",
       "            background-color:  #8bb2d4;\n",
       "            color:  #000000;\n",
       "        }#T_89b67_row7_col10,#T_89b67_row10_col7,#T_89b67_row14_col15,#T_89b67_row15_col14{\n",
       "            background-color:  #056dac;\n",
       "            color:  #f1f1f1;\n",
       "        }#T_89b67_row7_col11,#T_89b67_row11_col7{\n",
       "            background-color:  #0568a3;\n",
       "            color:  #f1f1f1;\n",
       "        }#T_89b67_row7_col12,#T_89b67_row12_col7{\n",
       "            background-color:  #04598c;\n",
       "            color:  #f1f1f1;\n",
       "        }#T_89b67_row7_col13,#T_89b67_row13_col7{\n",
       "            background-color:  #034f7d;\n",
       "            color:  #f1f1f1;\n",
       "        }#T_89b67_row7_col14,#T_89b67_row14_col7{\n",
       "            background-color:  #2081b9;\n",
       "            color:  #000000;\n",
       "        }#T_89b67_row7_col15,#T_89b67_row15_col7{\n",
       "            background-color:  #63a2cb;\n",
       "            color:  #000000;\n",
       "        }#T_89b67_row7_col16,#T_89b67_row10_col12,#T_89b67_row12_col10,#T_89b67_row16_col7{\n",
       "            background-color:  #0566a0;\n",
       "            color:  #f1f1f1;\n",
       "        }#T_89b67_row8_col9,#T_89b67_row9_col8{\n",
       "            background-color:  #81aed2;\n",
       "            color:  #000000;\n",
       "        }#T_89b67_row8_col10,#T_89b67_row10_col8{\n",
       "            background-color:  #2685bb;\n",
       "            color:  #000000;\n",
       "        }#T_89b67_row8_col11,#T_89b67_row11_col8{\n",
       "            background-color:  #2383ba;\n",
       "            color:  #000000;\n",
       "        }#T_89b67_row8_col12,#T_89b67_row12_col8{\n",
       "            background-color:  #0d75b3;\n",
       "            color:  #f1f1f1;\n",
       "        }#T_89b67_row8_col13,#T_89b67_row10_col14,#T_89b67_row13_col8,#T_89b67_row14_col10{\n",
       "            background-color:  #2f8bbe;\n",
       "            color:  #000000;\n",
       "        }#T_89b67_row8_col14,#T_89b67_row14_col8{\n",
       "            background-color:  #7bacd1;\n",
       "            color:  #000000;\n",
       "        }#T_89b67_row8_col16,#T_89b67_row16_col8{\n",
       "            background-color:  #045382;\n",
       "            color:  #f1f1f1;\n",
       "        }#T_89b67_row9_col10,#T_89b67_row10_col9{\n",
       "            background-color:  #5c9fc9;\n",
       "            color:  #000000;\n",
       "        }#T_89b67_row9_col11,#T_89b67_row11_col9{\n",
       "            background-color:  #94b6d7;\n",
       "            color:  #000000;\n",
       "        }#T_89b67_row9_col12,#T_89b67_row12_col9{\n",
       "            background-color:  #8fb4d6;\n",
       "            color:  #000000;\n",
       "        }#T_89b67_row9_col13,#T_89b67_row13_col9{\n",
       "            background-color:  #91b5d6;\n",
       "            color:  #000000;\n",
       "        }#T_89b67_row9_col14,#T_89b67_row14_col9{\n",
       "            background-color:  #b5c4df;\n",
       "            color:  #000000;\n",
       "        }#T_89b67_row9_col15,#T_89b67_row15_col9{\n",
       "            background-color:  #eae6f1;\n",
       "            color:  #000000;\n",
       "        }#T_89b67_row9_col16,#T_89b67_row16_col9{\n",
       "            background-color:  #529bc7;\n",
       "            color:  #000000;\n",
       "        }#T_89b67_row10_col11,#T_89b67_row11_col10{\n",
       "            background-color:  #0569a5;\n",
       "            color:  #f1f1f1;\n",
       "        }#T_89b67_row10_col15,#T_89b67_row15_col10{\n",
       "            background-color:  #67a4cc;\n",
       "            color:  #000000;\n",
       "        }#T_89b67_row10_col16,#T_89b67_row16_col10{\n",
       "            background-color:  #05659f;\n",
       "            color:  #f1f1f1;\n",
       "        }#T_89b67_row11_col12,#T_89b67_row12_col11{\n",
       "            background-color:  #046198;\n",
       "            color:  #f1f1f1;\n",
       "        }#T_89b67_row11_col13,#T_89b67_row13_col11{\n",
       "            background-color:  #1278b4;\n",
       "            color:  #f1f1f1;\n",
       "        }#T_89b67_row11_col15,#T_89b67_row15_col11{\n",
       "            background-color:  #73a9cf;\n",
       "            color:  #000000;\n",
       "        }#T_89b67_row11_col16,#T_89b67_row16_col11{\n",
       "            background-color:  #056fae;\n",
       "            color:  #f1f1f1;\n",
       "        }#T_89b67_row12_col13,#T_89b67_row13_col12{\n",
       "            background-color:  #04629a;\n",
       "            color:  #f1f1f1;\n",
       "        }#T_89b67_row12_col15,#T_89b67_row15_col12{\n",
       "            background-color:  #7eadd1;\n",
       "            color:  #000000;\n",
       "        }#T_89b67_row12_col16,#T_89b67_row16_col12{\n",
       "            background-color:  #045e93;\n",
       "            color:  #f1f1f1;\n",
       "        }#T_89b67_row13_col14,#T_89b67_row14_col13{\n",
       "            background-color:  #2987bc;\n",
       "            color:  #000000;\n",
       "        }#T_89b67_row13_col16,#T_89b67_row16_col13{\n",
       "            background-color:  #056ba9;\n",
       "            color:  #f1f1f1;\n",
       "        }#T_89b67_row14_col16,#T_89b67_row16_col14{\n",
       "            background-color:  #7dacd1;\n",
       "            color:  #000000;\n",
       "        }</style><table id=\"T_89b67_\" ><thead>    <tr>        <th class=\"blank level0\" ></th>        <th class=\"col_heading level0 col0\" >Rt</th>        <th class=\"col_heading level0 col1\" >theta</th>        <th class=\"col_heading level0 col2\" >kappa</th>        <th class=\"col_heading level0 col3\" >rho</th>        <th class=\"col_heading level0 col4\" >sigma</th>        <th class=\"col_heading level0 col5\" >School_closing</th>        <th class=\"col_heading level0 col6\" >Workplace_closing</th>        <th class=\"col_heading level0 col7\" >Cancel_events</th>        <th class=\"col_heading level0 col8\" >Gatherings_restrictions</th>        <th class=\"col_heading level0 col9\" >Transport_closing</th>        <th class=\"col_heading level0 col10\" >Stay_home_restrictions</th>        <th class=\"col_heading level0 col11\" >Internal_movement_restrictions</th>        <th class=\"col_heading level0 col12\" >International_movement_restrictions</th>        <th class=\"col_heading level0 col13\" >Information_campaigns</th>        <th class=\"col_heading level0 col14\" >Testing_policy</th>        <th class=\"col_heading level0 col15\" >Contact_tracing</th>        <th class=\"col_heading level0 col16\" >Stringency_index</th>    </tr></thead><tbody>\n",
       "                <tr>\n",
       "                        <th id=\"T_89b67_level0_row0\" class=\"row_heading level0 row0\" >Rt</th>\n",
       "                        <td id=\"T_89b67_row0_col0\" class=\"data row0 col0\" >1.000000</td>\n",
       "                        <td id=\"T_89b67_row0_col1\" class=\"data row0 col1\" >-0.042822</td>\n",
       "                        <td id=\"T_89b67_row0_col2\" class=\"data row0 col2\" >-0.044254</td>\n",
       "                        <td id=\"T_89b67_row0_col3\" class=\"data row0 col3\" >0.695630</td>\n",
       "                        <td id=\"T_89b67_row0_col4\" class=\"data row0 col4\" >-0.422387</td>\n",
       "                        <td id=\"T_89b67_row0_col5\" class=\"data row0 col5\" >-0.199271</td>\n",
       "                        <td id=\"T_89b67_row0_col6\" class=\"data row0 col6\" >-0.181600</td>\n",
       "                        <td id=\"T_89b67_row0_col7\" class=\"data row0 col7\" >-0.043962</td>\n",
       "                        <td id=\"T_89b67_row0_col8\" class=\"data row0 col8\" >-0.162034</td>\n",
       "                        <td id=\"T_89b67_row0_col9\" class=\"data row0 col9\" >-0.095194</td>\n",
       "                        <td id=\"T_89b67_row0_col10\" class=\"data row0 col10\" >-0.326634</td>\n",
       "                        <td id=\"T_89b67_row0_col11\" class=\"data row0 col11\" >-0.317406</td>\n",
       "                        <td id=\"T_89b67_row0_col12\" class=\"data row0 col12\" >-0.305054</td>\n",
       "                        <td id=\"T_89b67_row0_col13\" class=\"data row0 col13\" >-0.065218</td>\n",
       "                        <td id=\"T_89b67_row0_col14\" class=\"data row0 col14\" >-0.215119</td>\n",
       "                        <td id=\"T_89b67_row0_col15\" class=\"data row0 col15\" >-0.210282</td>\n",
       "                        <td id=\"T_89b67_row0_col16\" class=\"data row0 col16\" >-0.177314</td>\n",
       "            </tr>\n",
       "            <tr>\n",
       "                        <th id=\"T_89b67_level0_row1\" class=\"row_heading level0 row1\" >theta</th>\n",
       "                        <td id=\"T_89b67_row1_col0\" class=\"data row1 col0\" >-0.042822</td>\n",
       "                        <td id=\"T_89b67_row1_col1\" class=\"data row1 col1\" >1.000000</td>\n",
       "                        <td id=\"T_89b67_row1_col2\" class=\"data row1 col2\" >0.986877</td>\n",
       "                        <td id=\"T_89b67_row1_col3\" class=\"data row1 col3\" >0.283059</td>\n",
       "                        <td id=\"T_89b67_row1_col4\" class=\"data row1 col4\" >-0.197798</td>\n",
       "                        <td id=\"T_89b67_row1_col5\" class=\"data row1 col5\" >-0.156436</td>\n",
       "                        <td id=\"T_89b67_row1_col6\" class=\"data row1 col6\" >-0.293946</td>\n",
       "                        <td id=\"T_89b67_row1_col7\" class=\"data row1 col7\" >-0.269075</td>\n",
       "                        <td id=\"T_89b67_row1_col8\" class=\"data row1 col8\" >-0.187814</td>\n",
       "                        <td id=\"T_89b67_row1_col9\" class=\"data row1 col9\" >0.041600</td>\n",
       "                        <td id=\"T_89b67_row1_col10\" class=\"data row1 col10\" >-0.290618</td>\n",
       "                        <td id=\"T_89b67_row1_col11\" class=\"data row1 col11\" >-0.377562</td>\n",
       "                        <td id=\"T_89b67_row1_col12\" class=\"data row1 col12\" >-0.294367</td>\n",
       "                        <td id=\"T_89b67_row1_col13\" class=\"data row1 col13\" >-0.268675</td>\n",
       "                        <td id=\"T_89b67_row1_col14\" class=\"data row1 col14\" >-0.293482</td>\n",
       "                        <td id=\"T_89b67_row1_col15\" class=\"data row1 col15\" >-0.067423</td>\n",
       "                        <td id=\"T_89b67_row1_col16\" class=\"data row1 col16\" >-0.212976</td>\n",
       "            </tr>\n",
       "            <tr>\n",
       "                        <th id=\"T_89b67_level0_row2\" class=\"row_heading level0 row2\" >kappa</th>\n",
       "                        <td id=\"T_89b67_row2_col0\" class=\"data row2 col0\" >-0.044254</td>\n",
       "                        <td id=\"T_89b67_row2_col1\" class=\"data row2 col1\" >0.986877</td>\n",
       "                        <td id=\"T_89b67_row2_col2\" class=\"data row2 col2\" >1.000000</td>\n",
       "                        <td id=\"T_89b67_row2_col3\" class=\"data row2 col3\" >0.319065</td>\n",
       "                        <td id=\"T_89b67_row2_col4\" class=\"data row2 col4\" >-0.225474</td>\n",
       "                        <td id=\"T_89b67_row2_col5\" class=\"data row2 col5\" >-0.161462</td>\n",
       "                        <td id=\"T_89b67_row2_col6\" class=\"data row2 col6\" >-0.258214</td>\n",
       "                        <td id=\"T_89b67_row2_col7\" class=\"data row2 col7\" >-0.225674</td>\n",
       "                        <td id=\"T_89b67_row2_col8\" class=\"data row2 col8\" >-0.161903</td>\n",
       "                        <td id=\"T_89b67_row2_col9\" class=\"data row2 col9\" >0.021657</td>\n",
       "                        <td id=\"T_89b67_row2_col10\" class=\"data row2 col10\" >-0.263340</td>\n",
       "                        <td id=\"T_89b67_row2_col11\" class=\"data row2 col11\" >-0.343848</td>\n",
       "                        <td id=\"T_89b67_row2_col12\" class=\"data row2 col12\" >-0.270044</td>\n",
       "                        <td id=\"T_89b67_row2_col13\" class=\"data row2 col13\" >-0.235186</td>\n",
       "                        <td id=\"T_89b67_row2_col14\" class=\"data row2 col14\" >-0.228328</td>\n",
       "                        <td id=\"T_89b67_row2_col15\" class=\"data row2 col15\" >-0.004486</td>\n",
       "                        <td id=\"T_89b67_row2_col16\" class=\"data row2 col16\" >-0.203553</td>\n",
       "            </tr>\n",
       "            <tr>\n",
       "                        <th id=\"T_89b67_level0_row3\" class=\"row_heading level0 row3\" >rho</th>\n",
       "                        <td id=\"T_89b67_row3_col0\" class=\"data row3 col0\" >0.695630</td>\n",
       "                        <td id=\"T_89b67_row3_col1\" class=\"data row3 col1\" >0.283059</td>\n",
       "                        <td id=\"T_89b67_row3_col2\" class=\"data row3 col2\" >0.319065</td>\n",
       "                        <td id=\"T_89b67_row3_col3\" class=\"data row3 col3\" >1.000000</td>\n",
       "                        <td id=\"T_89b67_row3_col4\" class=\"data row3 col4\" >-0.549610</td>\n",
       "                        <td id=\"T_89b67_row3_col5\" class=\"data row3 col5\" >-0.331624</td>\n",
       "                        <td id=\"T_89b67_row3_col6\" class=\"data row3 col6\" >-0.255165</td>\n",
       "                        <td id=\"T_89b67_row3_col7\" class=\"data row3 col7\" >-0.085002</td>\n",
       "                        <td id=\"T_89b67_row3_col8\" class=\"data row3 col8\" >-0.200422</td>\n",
       "                        <td id=\"T_89b67_row3_col9\" class=\"data row3 col9\" >0.083826</td>\n",
       "                        <td id=\"T_89b67_row3_col10\" class=\"data row3 col10\" >-0.279193</td>\n",
       "                        <td id=\"T_89b67_row3_col11\" class=\"data row3 col11\" >-0.313029</td>\n",
       "                        <td id=\"T_89b67_row3_col12\" class=\"data row3 col12\" >-0.305487</td>\n",
       "                        <td id=\"T_89b67_row3_col13\" class=\"data row3 col13\" >-0.101440</td>\n",
       "                        <td id=\"T_89b67_row3_col14\" class=\"data row3 col14\" >-0.158034</td>\n",
       "                        <td id=\"T_89b67_row3_col15\" class=\"data row3 col15\" >-0.132841</td>\n",
       "                        <td id=\"T_89b67_row3_col16\" class=\"data row3 col16\" >-0.220065</td>\n",
       "            </tr>\n",
       "            <tr>\n",
       "                        <th id=\"T_89b67_level0_row4\" class=\"row_heading level0 row4\" >sigma</th>\n",
       "                        <td id=\"T_89b67_row4_col0\" class=\"data row4 col0\" >-0.422387</td>\n",
       "                        <td id=\"T_89b67_row4_col1\" class=\"data row4 col1\" >-0.197798</td>\n",
       "                        <td id=\"T_89b67_row4_col2\" class=\"data row4 col2\" >-0.225474</td>\n",
       "                        <td id=\"T_89b67_row4_col3\" class=\"data row4 col3\" >-0.549610</td>\n",
       "                        <td id=\"T_89b67_row4_col4\" class=\"data row4 col4\" >1.000000</td>\n",
       "                        <td id=\"T_89b67_row4_col5\" class=\"data row4 col5\" >0.322498</td>\n",
       "                        <td id=\"T_89b67_row4_col6\" class=\"data row4 col6\" >0.336668</td>\n",
       "                        <td id=\"T_89b67_row4_col7\" class=\"data row4 col7\" >0.348872</td>\n",
       "                        <td id=\"T_89b67_row4_col8\" class=\"data row4 col8\" >0.373191</td>\n",
       "                        <td id=\"T_89b67_row4_col9\" class=\"data row4 col9\" >0.206741</td>\n",
       "                        <td id=\"T_89b67_row4_col10\" class=\"data row4 col10\" >0.390240</td>\n",
       "                        <td id=\"T_89b67_row4_col11\" class=\"data row4 col11\" >0.431671</td>\n",
       "                        <td id=\"T_89b67_row4_col12\" class=\"data row4 col12\" >0.465040</td>\n",
       "                        <td id=\"T_89b67_row4_col13\" class=\"data row4 col13\" >0.288620</td>\n",
       "                        <td id=\"T_89b67_row4_col14\" class=\"data row4 col14\" >0.280357</td>\n",
       "                        <td id=\"T_89b67_row4_col15\" class=\"data row4 col15\" >-0.063834</td>\n",
       "                        <td id=\"T_89b67_row4_col16\" class=\"data row4 col16\" >0.437706</td>\n",
       "            </tr>\n",
       "            <tr>\n",
       "                        <th id=\"T_89b67_level0_row5\" class=\"row_heading level0 row5\" >School_closing</th>\n",
       "                        <td id=\"T_89b67_row5_col0\" class=\"data row5 col0\" >-0.199271</td>\n",
       "                        <td id=\"T_89b67_row5_col1\" class=\"data row5 col1\" >-0.156436</td>\n",
       "                        <td id=\"T_89b67_row5_col2\" class=\"data row5 col2\" >-0.161462</td>\n",
       "                        <td id=\"T_89b67_row5_col3\" class=\"data row5 col3\" >-0.331624</td>\n",
       "                        <td id=\"T_89b67_row5_col4\" class=\"data row5 col4\" >0.322498</td>\n",
       "                        <td id=\"T_89b67_row5_col5\" class=\"data row5 col5\" >1.000000</td>\n",
       "                        <td id=\"T_89b67_row5_col6\" class=\"data row5 col6\" >0.370524</td>\n",
       "                        <td id=\"T_89b67_row5_col7\" class=\"data row5 col7\" >0.525953</td>\n",
       "                        <td id=\"T_89b67_row5_col8\" class=\"data row5 col8\" >0.081199</td>\n",
       "                        <td id=\"T_89b67_row5_col9\" class=\"data row5 col9\" >-0.114663</td>\n",
       "                        <td id=\"T_89b67_row5_col10\" class=\"data row5 col10\" >0.571587</td>\n",
       "                        <td id=\"T_89b67_row5_col11\" class=\"data row5 col11\" >0.569743</td>\n",
       "                        <td id=\"T_89b67_row5_col12\" class=\"data row5 col12\" >0.584090</td>\n",
       "                        <td id=\"T_89b67_row5_col13\" class=\"data row5 col13\" >0.438019</td>\n",
       "                        <td id=\"T_89b67_row5_col14\" class=\"data row5 col14\" >0.145794</td>\n",
       "                        <td id=\"T_89b67_row5_col15\" class=\"data row5 col15\" >0.169995</td>\n",
       "                        <td id=\"T_89b67_row5_col16\" class=\"data row5 col16\" >0.404625</td>\n",
       "            </tr>\n",
       "            <tr>\n",
       "                        <th id=\"T_89b67_level0_row6\" class=\"row_heading level0 row6\" >Workplace_closing</th>\n",
       "                        <td id=\"T_89b67_row6_col0\" class=\"data row6 col0\" >-0.181600</td>\n",
       "                        <td id=\"T_89b67_row6_col1\" class=\"data row6 col1\" >-0.293946</td>\n",
       "                        <td id=\"T_89b67_row6_col2\" class=\"data row6 col2\" >-0.258214</td>\n",
       "                        <td id=\"T_89b67_row6_col3\" class=\"data row6 col3\" >-0.255165</td>\n",
       "                        <td id=\"T_89b67_row6_col4\" class=\"data row6 col4\" >0.336668</td>\n",
       "                        <td id=\"T_89b67_row6_col5\" class=\"data row6 col5\" >0.370524</td>\n",
       "                        <td id=\"T_89b67_row6_col6\" class=\"data row6 col6\" >1.000000</td>\n",
       "                        <td id=\"T_89b67_row6_col7\" class=\"data row6 col7\" >0.516404</td>\n",
       "                        <td id=\"T_89b67_row6_col8\" class=\"data row6 col8\" >0.821999</td>\n",
       "                        <td id=\"T_89b67_row6_col9\" class=\"data row6 col9\" >-0.029326</td>\n",
       "                        <td id=\"T_89b67_row6_col10\" class=\"data row6 col10\" >0.612214</td>\n",
       "                        <td id=\"T_89b67_row6_col11\" class=\"data row6 col11\" >0.566235</td>\n",
       "                        <td id=\"T_89b67_row6_col12\" class=\"data row6 col12\" >0.589209</td>\n",
       "                        <td id=\"T_89b67_row6_col13\" class=\"data row6 col13\" >0.432955</td>\n",
       "                        <td id=\"T_89b67_row6_col14\" class=\"data row6 col14\" >0.254448</td>\n",
       "                        <td id=\"T_89b67_row6_col15\" class=\"data row6 col15\" >0.145356</td>\n",
       "                        <td id=\"T_89b67_row6_col16\" class=\"data row6 col16\" >0.801584</td>\n",
       "            </tr>\n",
       "            <tr>\n",
       "                        <th id=\"T_89b67_level0_row7\" class=\"row_heading level0 row7\" >Cancel_events</th>\n",
       "                        <td id=\"T_89b67_row7_col0\" class=\"data row7 col0\" >-0.043962</td>\n",
       "                        <td id=\"T_89b67_row7_col1\" class=\"data row7 col1\" >-0.269075</td>\n",
       "                        <td id=\"T_89b67_row7_col2\" class=\"data row7 col2\" >-0.225674</td>\n",
       "                        <td id=\"T_89b67_row7_col3\" class=\"data row7 col3\" >-0.085002</td>\n",
       "                        <td id=\"T_89b67_row7_col4\" class=\"data row7 col4\" >0.348872</td>\n",
       "                        <td id=\"T_89b67_row7_col5\" class=\"data row7 col5\" >0.525953</td>\n",
       "                        <td id=\"T_89b67_row7_col6\" class=\"data row7 col6\" >0.516404</td>\n",
       "                        <td id=\"T_89b67_row7_col7\" class=\"data row7 col7\" >1.000000</td>\n",
       "                        <td id=\"T_89b67_row7_col8\" class=\"data row7 col8\" >0.536722</td>\n",
       "                        <td id=\"T_89b67_row7_col9\" class=\"data row7 col9\" >0.138375</td>\n",
       "                        <td id=\"T_89b67_row7_col10\" class=\"data row7 col10\" >0.632255</td>\n",
       "                        <td id=\"T_89b67_row7_col11\" class=\"data row7 col11\" >0.679842</td>\n",
       "                        <td id=\"T_89b67_row7_col12\" class=\"data row7 col12\" >0.806992</td>\n",
       "                        <td id=\"T_89b67_row7_col13\" class=\"data row7 col13\" >0.864970</td>\n",
       "                        <td id=\"T_89b67_row7_col14\" class=\"data row7 col14\" >0.505285</td>\n",
       "                        <td id=\"T_89b67_row7_col15\" class=\"data row7 col15\" >0.277463</td>\n",
       "                        <td id=\"T_89b67_row7_col16\" class=\"data row7 col16\" >0.701501</td>\n",
       "            </tr>\n",
       "            <tr>\n",
       "                        <th id=\"T_89b67_level0_row8\" class=\"row_heading level0 row8\" >Gatherings_restrictions</th>\n",
       "                        <td id=\"T_89b67_row8_col0\" class=\"data row8 col0\" >-0.162034</td>\n",
       "                        <td id=\"T_89b67_row8_col1\" class=\"data row8 col1\" >-0.187814</td>\n",
       "                        <td id=\"T_89b67_row8_col2\" class=\"data row8 col2\" >-0.161903</td>\n",
       "                        <td id=\"T_89b67_row8_col3\" class=\"data row8 col3\" >-0.200422</td>\n",
       "                        <td id=\"T_89b67_row8_col4\" class=\"data row8 col4\" >0.373191</td>\n",
       "                        <td id=\"T_89b67_row8_col5\" class=\"data row8 col5\" >0.081199</td>\n",
       "                        <td id=\"T_89b67_row8_col6\" class=\"data row8 col6\" >0.821999</td>\n",
       "                        <td id=\"T_89b67_row8_col7\" class=\"data row8 col7\" >0.536722</td>\n",
       "                        <td id=\"T_89b67_row8_col8\" class=\"data row8 col8\" >1.000000</td>\n",
       "                        <td id=\"T_89b67_row8_col9\" class=\"data row8 col9\" >0.170771</td>\n",
       "                        <td id=\"T_89b67_row8_col10\" class=\"data row8 col10\" >0.481719</td>\n",
       "                        <td id=\"T_89b67_row8_col11\" class=\"data row8 col11\" >0.493179</td>\n",
       "                        <td id=\"T_89b67_row8_col12\" class=\"data row8 col12\" >0.580339</td>\n",
       "                        <td id=\"T_89b67_row8_col13\" class=\"data row8 col13\" >0.446802</td>\n",
       "                        <td id=\"T_89b67_row8_col14\" class=\"data row8 col14\" >0.197640</td>\n",
       "                        <td id=\"T_89b67_row8_col15\" class=\"data row8 col15\" >0.000608</td>\n",
       "                        <td id=\"T_89b67_row8_col16\" class=\"data row8 col16\" >0.846671</td>\n",
       "            </tr>\n",
       "            <tr>\n",
       "                        <th id=\"T_89b67_level0_row9\" class=\"row_heading level0 row9\" >Transport_closing</th>\n",
       "                        <td id=\"T_89b67_row9_col0\" class=\"data row9 col0\" >-0.095194</td>\n",
       "                        <td id=\"T_89b67_row9_col1\" class=\"data row9 col1\" >0.041600</td>\n",
       "                        <td id=\"T_89b67_row9_col2\" class=\"data row9 col2\" >0.021657</td>\n",
       "                        <td id=\"T_89b67_row9_col3\" class=\"data row9 col3\" >0.083826</td>\n",
       "                        <td id=\"T_89b67_row9_col4\" class=\"data row9 col4\" >0.206741</td>\n",
       "                        <td id=\"T_89b67_row9_col5\" class=\"data row9 col5\" >-0.114663</td>\n",
       "                        <td id=\"T_89b67_row9_col6\" class=\"data row9 col6\" >-0.029326</td>\n",
       "                        <td id=\"T_89b67_row9_col7\" class=\"data row9 col7\" >0.138375</td>\n",
       "                        <td id=\"T_89b67_row9_col8\" class=\"data row9 col8\" >0.170771</td>\n",
       "                        <td id=\"T_89b67_row9_col9\" class=\"data row9 col9\" >1.000000</td>\n",
       "                        <td id=\"T_89b67_row9_col10\" class=\"data row9 col10\" >0.303367</td>\n",
       "                        <td id=\"T_89b67_row9_col11\" class=\"data row9 col11\" >0.098603</td>\n",
       "                        <td id=\"T_89b67_row9_col12\" class=\"data row9 col12\" >0.118514</td>\n",
       "                        <td id=\"T_89b67_row9_col13\" class=\"data row9 col13\" >0.111959</td>\n",
       "                        <td id=\"T_89b67_row9_col14\" class=\"data row9 col14\" >-0.037679</td>\n",
       "                        <td id=\"T_89b67_row9_col15\" class=\"data row9 col15\" >-0.341368</td>\n",
       "                        <td id=\"T_89b67_row9_col16\" class=\"data row9 col16\" >0.330752</td>\n",
       "            </tr>\n",
       "            <tr>\n",
       "                        <th id=\"T_89b67_level0_row10\" class=\"row_heading level0 row10\" >Stay_home_restrictions</th>\n",
       "                        <td id=\"T_89b67_row10_col0\" class=\"data row10 col0\" >-0.326634</td>\n",
       "                        <td id=\"T_89b67_row10_col1\" class=\"data row10 col1\" >-0.290618</td>\n",
       "                        <td id=\"T_89b67_row10_col2\" class=\"data row10 col2\" >-0.263340</td>\n",
       "                        <td id=\"T_89b67_row10_col3\" class=\"data row10 col3\" >-0.279193</td>\n",
       "                        <td id=\"T_89b67_row10_col4\" class=\"data row10 col4\" >0.390240</td>\n",
       "                        <td id=\"T_89b67_row10_col5\" class=\"data row10 col5\" >0.571587</td>\n",
       "                        <td id=\"T_89b67_row10_col6\" class=\"data row10 col6\" >0.612214</td>\n",
       "                        <td id=\"T_89b67_row10_col7\" class=\"data row10 col7\" >0.632255</td>\n",
       "                        <td id=\"T_89b67_row10_col8\" class=\"data row10 col8\" >0.481719</td>\n",
       "                        <td id=\"T_89b67_row10_col9\" class=\"data row10 col9\" >0.303367</td>\n",
       "                        <td id=\"T_89b67_row10_col10\" class=\"data row10 col10\" >1.000000</td>\n",
       "                        <td id=\"T_89b67_row10_col11\" class=\"data row10 col11\" >0.668629</td>\n",
       "                        <td id=\"T_89b67_row10_col12\" class=\"data row10 col12\" >0.699882</td>\n",
       "                        <td id=\"T_89b67_row10_col13\" class=\"data row10 col13\" >0.566666</td>\n",
       "                        <td id=\"T_89b67_row10_col14\" class=\"data row10 col14\" >0.443548</td>\n",
       "                        <td id=\"T_89b67_row10_col15\" class=\"data row10 col15\" >0.265474</td>\n",
       "                        <td id=\"T_89b67_row10_col16\" class=\"data row10 col16\" >0.706975</td>\n",
       "            </tr>\n",
       "            <tr>\n",
       "                        <th id=\"T_89b67_level0_row11\" class=\"row_heading level0 row11\" >Internal_movement_restrictions</th>\n",
       "                        <td id=\"T_89b67_row11_col0\" class=\"data row11 col0\" >-0.317406</td>\n",
       "                        <td id=\"T_89b67_row11_col1\" class=\"data row11 col1\" >-0.377562</td>\n",
       "                        <td id=\"T_89b67_row11_col2\" class=\"data row11 col2\" >-0.343848</td>\n",
       "                        <td id=\"T_89b67_row11_col3\" class=\"data row11 col3\" >-0.313029</td>\n",
       "                        <td id=\"T_89b67_row11_col4\" class=\"data row11 col4\" >0.431671</td>\n",
       "                        <td id=\"T_89b67_row11_col5\" class=\"data row11 col5\" >0.569743</td>\n",
       "                        <td id=\"T_89b67_row11_col6\" class=\"data row11 col6\" >0.566235</td>\n",
       "                        <td id=\"T_89b67_row11_col7\" class=\"data row11 col7\" >0.679842</td>\n",
       "                        <td id=\"T_89b67_row11_col8\" class=\"data row11 col8\" >0.493179</td>\n",
       "                        <td id=\"T_89b67_row11_col9\" class=\"data row11 col9\" >0.098603</td>\n",
       "                        <td id=\"T_89b67_row11_col10\" class=\"data row11 col10\" >0.668629</td>\n",
       "                        <td id=\"T_89b67_row11_col11\" class=\"data row11 col11\" >1.000000</td>\n",
       "                        <td id=\"T_89b67_row11_col12\" class=\"data row11 col12\" >0.743233</td>\n",
       "                        <td id=\"T_89b67_row11_col13\" class=\"data row11 col13\" >0.559165</td>\n",
       "                        <td id=\"T_89b67_row11_col14\" class=\"data row11 col14\" >0.467027</td>\n",
       "                        <td id=\"T_89b67_row11_col15\" class=\"data row11 col15\" >0.230388</td>\n",
       "                        <td id=\"T_89b67_row11_col16\" class=\"data row11 col16\" >0.623252</td>\n",
       "            </tr>\n",
       "            <tr>\n",
       "                        <th id=\"T_89b67_level0_row12\" class=\"row_heading level0 row12\" >International_movement_restrictions</th>\n",
       "                        <td id=\"T_89b67_row12_col0\" class=\"data row12 col0\" >-0.305054</td>\n",
       "                        <td id=\"T_89b67_row12_col1\" class=\"data row12 col1\" >-0.294367</td>\n",
       "                        <td id=\"T_89b67_row12_col2\" class=\"data row12 col2\" >-0.270044</td>\n",
       "                        <td id=\"T_89b67_row12_col3\" class=\"data row12 col3\" >-0.305487</td>\n",
       "                        <td id=\"T_89b67_row12_col4\" class=\"data row12 col4\" >0.465040</td>\n",
       "                        <td id=\"T_89b67_row12_col5\" class=\"data row12 col5\" >0.584090</td>\n",
       "                        <td id=\"T_89b67_row12_col6\" class=\"data row12 col6\" >0.589209</td>\n",
       "                        <td id=\"T_89b67_row12_col7\" class=\"data row12 col7\" >0.806992</td>\n",
       "                        <td id=\"T_89b67_row12_col8\" class=\"data row12 col8\" >0.580339</td>\n",
       "                        <td id=\"T_89b67_row12_col9\" class=\"data row12 col9\" >0.118514</td>\n",
       "                        <td id=\"T_89b67_row12_col10\" class=\"data row12 col10\" >0.699882</td>\n",
       "                        <td id=\"T_89b67_row12_col11\" class=\"data row12 col11\" >0.743233</td>\n",
       "                        <td id=\"T_89b67_row12_col12\" class=\"data row12 col12\" >1.000000</td>\n",
       "                        <td id=\"T_89b67_row12_col13\" class=\"data row12 col13\" >0.728383</td>\n",
       "                        <td id=\"T_89b67_row12_col14\" class=\"data row12 col14\" >0.440272</td>\n",
       "                        <td id=\"T_89b67_row12_col15\" class=\"data row12 col15\" >0.188017</td>\n",
       "                        <td id=\"T_89b67_row12_col16\" class=\"data row12 col16\" >0.773794</td>\n",
       "            </tr>\n",
       "            <tr>\n",
       "                        <th id=\"T_89b67_level0_row13\" class=\"row_heading level0 row13\" >Information_campaigns</th>\n",
       "                        <td id=\"T_89b67_row13_col0\" class=\"data row13 col0\" >-0.065218</td>\n",
       "                        <td id=\"T_89b67_row13_col1\" class=\"data row13 col1\" >-0.268675</td>\n",
       "                        <td id=\"T_89b67_row13_col2\" class=\"data row13 col2\" >-0.235186</td>\n",
       "                        <td id=\"T_89b67_row13_col3\" class=\"data row13 col3\" >-0.101440</td>\n",
       "                        <td id=\"T_89b67_row13_col4\" class=\"data row13 col4\" >0.288620</td>\n",
       "                        <td id=\"T_89b67_row13_col5\" class=\"data row13 col5\" >0.438019</td>\n",
       "                        <td id=\"T_89b67_row13_col6\" class=\"data row13 col6\" >0.432955</td>\n",
       "                        <td id=\"T_89b67_row13_col7\" class=\"data row13 col7\" >0.864970</td>\n",
       "                        <td id=\"T_89b67_row13_col8\" class=\"data row13 col8\" >0.446802</td>\n",
       "                        <td id=\"T_89b67_row13_col9\" class=\"data row13 col9\" >0.111959</td>\n",
       "                        <td id=\"T_89b67_row13_col10\" class=\"data row13 col10\" >0.566666</td>\n",
       "                        <td id=\"T_89b67_row13_col11\" class=\"data row13 col11\" >0.559165</td>\n",
       "                        <td id=\"T_89b67_row13_col12\" class=\"data row13 col12\" >0.728383</td>\n",
       "                        <td id=\"T_89b67_row13_col13\" class=\"data row13 col13\" >1.000000</td>\n",
       "                        <td id=\"T_89b67_row13_col14\" class=\"data row13 col14\" >0.472887</td>\n",
       "                        <td id=\"T_89b67_row13_col15\" class=\"data row13 col15\" >0.393413</td>\n",
       "                        <td id=\"T_89b67_row13_col16\" class=\"data row13 col16\" >0.649038</td>\n",
       "            </tr>\n",
       "            <tr>\n",
       "                        <th id=\"T_89b67_level0_row14\" class=\"row_heading level0 row14\" >Testing_policy</th>\n",
       "                        <td id=\"T_89b67_row14_col0\" class=\"data row14 col0\" >-0.215119</td>\n",
       "                        <td id=\"T_89b67_row14_col1\" class=\"data row14 col1\" >-0.293482</td>\n",
       "                        <td id=\"T_89b67_row14_col2\" class=\"data row14 col2\" >-0.228328</td>\n",
       "                        <td id=\"T_89b67_row14_col3\" class=\"data row14 col3\" >-0.158034</td>\n",
       "                        <td id=\"T_89b67_row14_col4\" class=\"data row14 col4\" >0.280357</td>\n",
       "                        <td id=\"T_89b67_row14_col5\" class=\"data row14 col5\" >0.145794</td>\n",
       "                        <td id=\"T_89b67_row14_col6\" class=\"data row14 col6\" >0.254448</td>\n",
       "                        <td id=\"T_89b67_row14_col7\" class=\"data row14 col7\" >0.505285</td>\n",
       "                        <td id=\"T_89b67_row14_col8\" class=\"data row14 col8\" >0.197640</td>\n",
       "                        <td id=\"T_89b67_row14_col9\" class=\"data row14 col9\" >-0.037679</td>\n",
       "                        <td id=\"T_89b67_row14_col10\" class=\"data row14 col10\" >0.443548</td>\n",
       "                        <td id=\"T_89b67_row14_col11\" class=\"data row14 col11\" >0.467027</td>\n",
       "                        <td id=\"T_89b67_row14_col12\" class=\"data row14 col12\" >0.440272</td>\n",
       "                        <td id=\"T_89b67_row14_col13\" class=\"data row14 col13\" >0.472887</td>\n",
       "                        <td id=\"T_89b67_row14_col14\" class=\"data row14 col14\" >1.000000</td>\n",
       "                        <td id=\"T_89b67_row14_col15\" class=\"data row14 col15\" >0.636651</td>\n",
       "                        <td id=\"T_89b67_row14_col16\" class=\"data row14 col16\" >0.194326</td>\n",
       "            </tr>\n",
       "            <tr>\n",
       "                        <th id=\"T_89b67_level0_row15\" class=\"row_heading level0 row15\" >Contact_tracing</th>\n",
       "                        <td id=\"T_89b67_row15_col0\" class=\"data row15 col0\" >-0.210282</td>\n",
       "                        <td id=\"T_89b67_row15_col1\" class=\"data row15 col1\" >-0.067423</td>\n",
       "                        <td id=\"T_89b67_row15_col2\" class=\"data row15 col2\" >-0.004486</td>\n",
       "                        <td id=\"T_89b67_row15_col3\" class=\"data row15 col3\" >-0.132841</td>\n",
       "                        <td id=\"T_89b67_row15_col4\" class=\"data row15 col4\" >-0.063834</td>\n",
       "                        <td id=\"T_89b67_row15_col5\" class=\"data row15 col5\" >0.169995</td>\n",
       "                        <td id=\"T_89b67_row15_col6\" class=\"data row15 col6\" >0.145356</td>\n",
       "                        <td id=\"T_89b67_row15_col7\" class=\"data row15 col7\" >0.277463</td>\n",
       "                        <td id=\"T_89b67_row15_col8\" class=\"data row15 col8\" >0.000608</td>\n",
       "                        <td id=\"T_89b67_row15_col9\" class=\"data row15 col9\" >-0.341368</td>\n",
       "                        <td id=\"T_89b67_row15_col10\" class=\"data row15 col10\" >0.265474</td>\n",
       "                        <td id=\"T_89b67_row15_col11\" class=\"data row15 col11\" >0.230388</td>\n",
       "                        <td id=\"T_89b67_row15_col12\" class=\"data row15 col12\" >0.188017</td>\n",
       "                        <td id=\"T_89b67_row15_col13\" class=\"data row15 col13\" >0.393413</td>\n",
       "                        <td id=\"T_89b67_row15_col14\" class=\"data row15 col14\" >0.636651</td>\n",
       "                        <td id=\"T_89b67_row15_col15\" class=\"data row15 col15\" >1.000000</td>\n",
       "                        <td id=\"T_89b67_row15_col16\" class=\"data row15 col16\" >-0.030374</td>\n",
       "            </tr>\n",
       "            <tr>\n",
       "                        <th id=\"T_89b67_level0_row16\" class=\"row_heading level0 row16\" >Stringency_index</th>\n",
       "                        <td id=\"T_89b67_row16_col0\" class=\"data row16 col0\" >-0.177314</td>\n",
       "                        <td id=\"T_89b67_row16_col1\" class=\"data row16 col1\" >-0.212976</td>\n",
       "                        <td id=\"T_89b67_row16_col2\" class=\"data row16 col2\" >-0.203553</td>\n",
       "                        <td id=\"T_89b67_row16_col3\" class=\"data row16 col3\" >-0.220065</td>\n",
       "                        <td id=\"T_89b67_row16_col4\" class=\"data row16 col4\" >0.437706</td>\n",
       "                        <td id=\"T_89b67_row16_col5\" class=\"data row16 col5\" >0.404625</td>\n",
       "                        <td id=\"T_89b67_row16_col6\" class=\"data row16 col6\" >0.801584</td>\n",
       "                        <td id=\"T_89b67_row16_col7\" class=\"data row16 col7\" >0.701501</td>\n",
       "                        <td id=\"T_89b67_row16_col8\" class=\"data row16 col8\" >0.846671</td>\n",
       "                        <td id=\"T_89b67_row16_col9\" class=\"data row16 col9\" >0.330752</td>\n",
       "                        <td id=\"T_89b67_row16_col10\" class=\"data row16 col10\" >0.706975</td>\n",
       "                        <td id=\"T_89b67_row16_col11\" class=\"data row16 col11\" >0.623252</td>\n",
       "                        <td id=\"T_89b67_row16_col12\" class=\"data row16 col12\" >0.773794</td>\n",
       "                        <td id=\"T_89b67_row16_col13\" class=\"data row16 col13\" >0.649038</td>\n",
       "                        <td id=\"T_89b67_row16_col14\" class=\"data row16 col14\" >0.194326</td>\n",
       "                        <td id=\"T_89b67_row16_col15\" class=\"data row16 col15\" >-0.030374</td>\n",
       "                        <td id=\"T_89b67_row16_col16\" class=\"data row16 col16\" >1.000000</td>\n",
       "            </tr>\n",
       "    </tbody></table>"
      ],
      "text/plain": [
       "<pandas.io.formats.style.Styler at 0x7f093d9fbbb0>"
      ]
     },
     "execution_count": 21,
     "metadata": {},
     "output_type": "execute_result"
    }
   ],
   "source": [
    "# Correlation\n",
    "df = track_df.copy()\n",
    "df.corr().style.background_gradient(axis=None)"
   ]
  },
  {
   "cell_type": "code",
   "execution_count": 22,
   "id": "detailed-survey",
   "metadata": {
    "collapsed": false
   },
   "outputs": [
    {
     "data": {
      "image/png": "[encoded data removed]",
      "text/plain": [
       "<Figure size 432x288 with 1 Axes>"
      ]
     },
     "metadata": {},
     "output_type": "display_data"
    }
   ],
   "source": [
    "# Scatter plot of Stringency index and Rt\n",
    "df = track_df.copy()\n",
    "sns.scatterplot(data=df, x=\"Stringency_index\", y=\"Rt\", hue=\"Country\", legend=\"brief\", marker=\"+\")\n",
    "bbox_to_anchor=(1.02, 0)\n",
    "bbox_loc=\"lower left\"\n",
    "plt.legend(bbox_to_anchor=bbox_to_anchor, loc=bbox_loc, borderaxespad=0)\n",
    "plt.title(\"Relationship of Stringency index and reproduction number\")\n",
    "plt.ylabel(\"Reproduction number\")\n",
    "plt.xlabel(\"Stringency index\")\n",
    "plt.show()"
   ]
  }
 ],
 "metadata": {
  "kernelspec": {
   "display_name": "Python 3.8.2 64-bit ('.venv': venv)",
   "name": "python_defaultSpec_1597669925034"
  },
  "language_info": {
   "codemirror_mode": {
    "name": "ipython",
    "version": 3
   },
   "file_extension": ".py",
   "mimetype": "text/x-python",
   "name": "python",
   "nbconvert_exporter": "python",
   "pygments_lexer": "ipython3",
   "version": "3.8.2-final"
  }
 },
 "nbformat": 4,
 "nbformat_minor": 5
}
