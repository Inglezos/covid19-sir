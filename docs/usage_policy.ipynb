{
 "metadata": {
  "kernelspec": {
   "display_name": "Python 3.8.2 64-bit ('.venv': venv)",
   "name": "python_defaultSpec_1597669925034"
  },
  "language_info": {
   "codemirror_mode": {
    "name": "ipython",
    "version": 3
   },
   "file_extension": ".py",
   "mimetype": "text/x-python",
   "name": "python",
   "nbconvert_exporter": "python",
   "pygments_lexer": "ipython3",
   "version": "3.8.2-final"
  },
  "name": ""
 },
 "nbformat": 3,
 "nbformat_minor": 0,
 "worksheets": [
  {
   "cells": [
    {
     "cell_type": "markdown",
     "metadata": {},
     "source": [
      "# Usage: policy measures\n",
      "Here, we will analyse the relationship of policy measures and parameter values of SIR-derived ODE models. Policy measures are tracked by [Oxford Covid-19 Government Response Tracker (OxCGRT)](https://github.com/OxCGRT/covid-policy-tracker)."
     ]
    },
    {
     "cell_type": "heading",
     "level": 2,
     "metadata": {},
     "source": [
      "Preparation"
     ]
    },
    {
     "cell_type": "code",
     "collapsed": false,
     "input": [
      "# Standard users\n",
      "# !pip install covsirphy\n",
      "# Developers (Note: this notebook is in example directory)\n",
      "import os\n",
      "os.chdir(\"../\")"
     ],
     "language": "python",
     "metadata": {},
     "outputs": [],
     "prompt_number": 1
    },
    {
     "cell_type": "code",
     "collapsed": false,
     "input": [
      "from pprint import pprint"
     ],
     "language": "python",
     "metadata": {},
     "outputs": [],
     "prompt_number": 2
    },
    {
     "cell_type": "code",
     "collapsed": false,
     "input": [
      "import covsirphy as cs\n",
      "cs.__version__"
     ],
     "language": "python",
     "metadata": {},
     "outputs": [
      {
       "output_type": "pyout",
       "prompt_number": 3,
       "text": [
        "'2.15.0'"
       ]
      }
     ],
     "prompt_number": 3
    },
    {
     "cell_type": "code",
     "collapsed": false,
     "input": [
      "# Standard users and developers\n",
      "data_loader = cs.DataLoader(\"input\")\n",
      "# The number of cases (JHU style)\n",
      "jhu_data = data_loader.jhu(verbose=False)\n",
      "# Population in each country\n",
      "population_data = data_loader.population(verbose=False)\n",
      "# Government Response Tracker (OxCGRT)\n",
      "oxcgrt_data = data_loader.oxcgrt(verbose=False)\n",
      "# Description/citation\n",
      "print(oxcgrt_data.citation)"
     ],
     "language": "python",
     "metadata": {
      "tags": []
     },
     "outputs": [
      {
       "output_type": "stream",
       "stream": "stdout",
       "text": [
        "(Secondary source) Guidotti, E., Ardia, D., (2020), \"COVID-19 Data Hub\", Journal of Open Source Software 5(51):2376, doi: 10.21105/joss.02376.\n"
       ]
      }
     ],
     "prompt_number": 4
    },
    {
     "cell_type": "markdown",
     "metadata": {},
     "source": [
      "## Class for policy measure analysis\n",
      "We will `PolicyMeasures` class to find relationship of policy measures and parameter values of SIR-derived ODE models."
     ]
    },
    {
     "cell_type": "code",
     "collapsed": false,
     "input": [
      "# Create analyser with tau value 360 [min] (can be changed)\n",
      "analyser = cs.PolicyMeasures(jhu_data, population_data, oxcgrt_data, tau=360)\n",
      "# The number of registerd countries\n",
      "len(analyser.countries)"
     ],
     "language": "python",
     "metadata": {
      "tags": []
     },
     "outputs": [
      {
       "output_type": "pyout",
       "prompt_number": 5,
       "text": [
        "196"
       ]
      }
     ],
     "prompt_number": 5
    },
    {
     "cell_type": "code",
     "collapsed": false,
     "input": [
      "# We can get Scenario instance for detailed scenario analysis\n",
      "type(analyser.scenario(\"Japan\"))"
     ],
     "language": "python",
     "metadata": {},
     "outputs": [
      {
       "output_type": "pyout",
       "prompt_number": 6,
       "text": [
        "covsirphy.analysis.scenario.Scenario"
       ]
      }
     ],
     "prompt_number": 6
    },
    {
     "cell_type": "markdown",
     "metadata": {},
     "source": [
      "## Set phases with S-R trend analysis\n",
      "We will perform S-R trend analysis to set phases in all countries. Countries which do not have **19th phases** will be un-registered for the next analysis. This number will be adjusted for your analysis."
     ]
    },
    {
     "cell_type": "code",
     "collapsed": false,
     "input": [
      "# Show the number of phases of all countries\n",
      "analyser.trend()\n",
      "pprint(analyser.phase_len(), compact=True)"
     ],
     "language": "python",
     "metadata": {},
     "outputs": [
      {
       "output_type": "stream",
       "stream": "stdout",
       "text": [
        "{2: ['Holy See'],\n",
        " 3: ['Fiji', 'Saint Kitts and Nevis', 'Laos', 'Tanzania', 'Timor-Leste'],\n",
        " 4: ['Dominica', 'Grenada'],\n",
        " 6: ['Saint Vincent and the Grenadines', 'Equatorial Guinea'],\n",
        " 7: ['Northern Mariana Islands', 'Brunei'],\n",
        " 8: ['Slovenia', 'Bahamas', 'Kyrgyzstan', 'Liechtenstein', 'Mauritius',\n",
        "     'Saint Lucia'],\n",
        " 9: ['Papua New Guinea', 'Ethiopia', 'Seychelles', 'Trinidad and Tobago',\n",
        "     'Madagascar', 'Republic of the Congo', 'Australia', 'Guam', 'Uzbekistan',\n",
        "     'Guyana', 'Cambodia', 'Antigua and Barbuda', 'Botswana'],\n",
        " 10: ['Belize', 'Venezuela', 'Iraq', 'Angola', 'Mozambique', 'Iceland', 'Libya',\n",
        "      'Djibouti', 'Kazakhstan', 'Barbados', 'Philippines', 'Jamaica', 'Oman',\n",
        "      'Algeria', 'Bhutan', 'Kenya', 'Sao Tome and Principe', 'Maldives',\n",
        "      'Nicaragua', 'India', 'Zambia', 'Vietnam', 'Zimbabwe'],\n",
        " 11: ['Peru', 'Monaco', 'Mongolia', 'South Africa', 'Bangladesh', 'Benin',\n",
        "      'Chile', 'Dominican Republic', 'Colombia', 'Singapore', 'New Zealand',\n",
        "      'Myanmar', 'Syria', 'Kuwait', 'Paraguay', 'Honduras', 'Rwanda', 'Burundi',\n",
        "      'El Salvador', 'Guatemala', 'Nepal', 'Bolivia', 'Argentina', 'Brazil',\n",
        "      'Costa Rica', 'Saudi Arabia', 'Cape Verde', 'Ghana',\n",
        "      'Virgin Islands, U.S.', 'Gambia', 'Bahrain'],\n",
        " 12: ['Armenia', 'Cameroon', 'Egypt', 'Lesotho', 'Uganda', 'Pakistan', 'Mexico',\n",
        "      'Israel', 'Eritrea', 'Namibia', 'Morocco', 'Gabon', 'Malta', 'Montenegro',\n",
        "      'Puerto Rico', \"Cote d'Ivoire\", 'Ecuador', 'Somalia', 'Togo', 'Swaziland',\n",
        "      'Liberia', 'Nigeria', 'Guinea', 'Suriname', 'Senegal', 'Yemen',\n",
        "      'South Sudan', 'Taiwan'],\n",
        " 13: ['Comoros', 'San Marino', 'Sierra Leone', 'Bosnia and Herzegovina',\n",
        "      'Palestine', 'Panama', 'Moldova', 'Qatar',\n",
        "      'Democratic Republic of the Congo', 'Chad', 'Kosovo', 'Andorra', 'Mali',\n",
        "      'Sudan', 'Tajikistan', 'Guinea-Bissau', 'Niger', 'Bermuda', 'Afghanistan',\n",
        "      'Malawi'],\n",
        " 14: ['Central African Republic', 'Mauritania', 'Indonesia', 'Lithuania',\n",
        "      'United Arab Emirates', 'Jordan', 'Belarus', 'Azerbaijan', 'Japan',\n",
        "      'Cuba', 'Russia', 'Tunisia', 'Spain', 'Ireland', 'China', 'Georgia'],\n",
        " 15: ['Lebanon', 'Greece', 'Cyprus', 'Latvia', 'Iran', 'Bulgaria', 'Serbia',\n",
        "      'Belgium', 'United States', 'Albania', 'Poland', 'Hungary', 'Thailand',\n",
        "      'Sri Lanka', 'North Macedonia'],\n",
        " 16: ['Estonia', 'Ukraine', 'Burkina Faso', 'Croatia', 'Luxembourg', 'Romania',\n",
        "      'Uruguay', 'France', 'Czech Republic', 'Haiti', 'Finland'],\n",
        " 17: ['Denmark', 'Turkey', 'Austria', 'Slovakia', 'Netherlands'],\n",
        " 18: ['United Kingdom', 'Italy', 'Canada'],\n",
        " 19: ['Malaysia', 'Norway', 'Portugal', 'Sweden', 'Switzerland'],\n",
        " 20: ['Germany']}\n"
       ]
      }
     ],
     "prompt_number": 7
    },
    {
     "cell_type": "code",
     "collapsed": false,
     "input": [
      "# Set phases with S-R trend analysis\n",
      "analyser.trend(min_len=19)\n",
      "# The number of countries\n",
      "len(analyser.countries)"
     ],
     "language": "python",
     "metadata": {},
     "outputs": [
      {
       "output_type": "pyout",
       "prompt_number": 8,
       "text": [
        "6"
       ]
      }
     ],
     "prompt_number": 8
    },
    {
     "cell_type": "code",
     "collapsed": false,
     "input": [
      "phase_len_dict = analyser.phase_len()\n",
      "pprint(phase_len_dict, compact=True)"
     ],
     "language": "python",
     "metadata": {
      "tags": []
     },
     "outputs": [
      {
       "output_type": "stream",
       "stream": "stdout",
       "text": [
        "{19: ['Malaysia', 'Norway', 'Portugal', 'Sweden', 'Switzerland'],\n",
        " 20: ['Germany']}\n"
       ]
      }
     ],
     "prompt_number": 9
    },
    {
     "cell_type": "code",
     "collapsed": false,
     "input": [
      "# Here, only show the countries which have the most phases\n",
      "countries_show = max(phase_len_dict.items(), key=lambda x: x[0])[1]\n",
      "# Show summary\n",
      "analyser.summary(countries=countries_show)"
     ],
     "language": "python",
     "metadata": {
      "tags": []
     },
     "outputs": [
      {
       "html": [
        "<div>\n",
        "<style scoped>\n",
        "    .dataframe tbody tr th:only-of-type {\n",
        "        vertical-align: middle;\n",
        "    }\n",
        "\n",
        "    .dataframe tbody tr th {\n",
        "        vertical-align: top;\n",
        "    }\n",
        "\n",
        "    .dataframe thead th {\n",
        "        text-align: right;\n",
        "    }\n",
        "</style>\n",
        "<table border=\"1\" class=\"dataframe\">\n",
        "  <thead>\n",
        "    <tr style=\"text-align: right;\">\n",
        "      <th></th>\n",
        "      <th></th>\n",
        "      <th>Type</th>\n",
        "      <th>Start</th>\n",
        "      <th>End</th>\n",
        "      <th>Population</th>\n",
        "    </tr>\n",
        "    <tr>\n",
        "      <th>Country</th>\n",
        "      <th>Phase</th>\n",
        "      <th></th>\n",
        "      <th></th>\n",
        "      <th></th>\n",
        "      <th></th>\n",
        "    </tr>\n",
        "  </thead>\n",
        "  <tbody>\n",
        "    <tr>\n",
        "      <th rowspan=\"20\" valign=\"top\">Germany</th>\n",
        "      <th>0th</th>\n",
        "      <td>Past</td>\n",
        "      <td>18Jan2020</td>\n",
        "      <td>23Mar2020</td>\n",
        "      <td>82905782</td>\n",
        "    </tr>\n",
        "    <tr>\n",
        "      <th>1st</th>\n",
        "      <td>Past</td>\n",
        "      <td>24Mar2020</td>\n",
        "      <td>06Apr2020</td>\n",
        "      <td>82905782</td>\n",
        "    </tr>\n",
        "    <tr>\n",
        "      <th>2nd</th>\n",
        "      <td>Past</td>\n",
        "      <td>07Apr2020</td>\n",
        "      <td>05May2020</td>\n",
        "      <td>82905782</td>\n",
        "    </tr>\n",
        "    <tr>\n",
        "      <th>3rd</th>\n",
        "      <td>Past</td>\n",
        "      <td>06May2020</td>\n",
        "      <td>04Aug2020</td>\n",
        "      <td>82905782</td>\n",
        "    </tr>\n",
        "    <tr>\n",
        "      <th>4th</th>\n",
        "      <td>Past</td>\n",
        "      <td>05Aug2020</td>\n",
        "      <td>12Sep2020</td>\n",
        "      <td>82905782</td>\n",
        "    </tr>\n",
        "    <tr>\n",
        "      <th>5th</th>\n",
        "      <td>Past</td>\n",
        "      <td>13Sep2020</td>\n",
        "      <td>07Oct2020</td>\n",
        "      <td>82905782</td>\n",
        "    </tr>\n",
        "    <tr>\n",
        "      <th>6th</th>\n",
        "      <td>Past</td>\n",
        "      <td>08Oct2020</td>\n",
        "      <td>20Oct2020</td>\n",
        "      <td>82905782</td>\n",
        "    </tr>\n",
        "    <tr>\n",
        "      <th>7th</th>\n",
        "      <td>Past</td>\n",
        "      <td>21Oct2020</td>\n",
        "      <td>27Oct2020</td>\n",
        "      <td>82905782</td>\n",
        "    </tr>\n",
        "    <tr>\n",
        "      <th>8th</th>\n",
        "      <td>Past</td>\n",
        "      <td>28Oct2020</td>\n",
        "      <td>03Nov2020</td>\n",
        "      <td>82905782</td>\n",
        "    </tr>\n",
        "    <tr>\n",
        "      <th>9th</th>\n",
        "      <td>Past</td>\n",
        "      <td>04Nov2020</td>\n",
        "      <td>10Nov2020</td>\n",
        "      <td>82905782</td>\n",
        "    </tr>\n",
        "    <tr>\n",
        "      <th>10th</th>\n",
        "      <td>Past</td>\n",
        "      <td>11Nov2020</td>\n",
        "      <td>17Nov2020</td>\n",
        "      <td>82905782</td>\n",
        "    </tr>\n",
        "    <tr>\n",
        "      <th>11th</th>\n",
        "      <td>Past</td>\n",
        "      <td>18Nov2020</td>\n",
        "      <td>24Nov2020</td>\n",
        "      <td>82905782</td>\n",
        "    </tr>\n",
        "    <tr>\n",
        "      <th>12th</th>\n",
        "      <td>Past</td>\n",
        "      <td>25Nov2020</td>\n",
        "      <td>01Dec2020</td>\n",
        "      <td>82905782</td>\n",
        "    </tr>\n",
        "    <tr>\n",
        "      <th>13th</th>\n",
        "      <td>Past</td>\n",
        "      <td>02Dec2020</td>\n",
        "      <td>08Dec2020</td>\n",
        "      <td>82905782</td>\n",
        "    </tr>\n",
        "    <tr>\n",
        "      <th>14th</th>\n",
        "      <td>Past</td>\n",
        "      <td>09Dec2020</td>\n",
        "      <td>15Dec2020</td>\n",
        "      <td>82905782</td>\n",
        "    </tr>\n",
        "    <tr>\n",
        "      <th>15th</th>\n",
        "      <td>Past</td>\n",
        "      <td>16Dec2020</td>\n",
        "      <td>21Dec2020</td>\n",
        "      <td>82905782</td>\n",
        "    </tr>\n",
        "    <tr>\n",
        "      <th>16th</th>\n",
        "      <td>Past</td>\n",
        "      <td>22Dec2020</td>\n",
        "      <td>28Dec2020</td>\n",
        "      <td>82905782</td>\n",
        "    </tr>\n",
        "    <tr>\n",
        "      <th>17th</th>\n",
        "      <td>Past</td>\n",
        "      <td>29Dec2020</td>\n",
        "      <td>04Jan2021</td>\n",
        "      <td>82905782</td>\n",
        "    </tr>\n",
        "    <tr>\n",
        "      <th>18th</th>\n",
        "      <td>Past</td>\n",
        "      <td>05Jan2021</td>\n",
        "      <td>11Jan2021</td>\n",
        "      <td>82905782</td>\n",
        "    </tr>\n",
        "    <tr>\n",
        "      <th>19th</th>\n",
        "      <td>Past</td>\n",
        "      <td>12Jan2021</td>\n",
        "      <td>18Jan2021</td>\n",
        "      <td>82905782</td>\n",
        "    </tr>\n",
        "  </tbody>\n",
        "</table>\n",
        "</div>"
       ],
       "output_type": "pyout",
       "prompt_number": 10,
       "text": [
        "               Type      Start        End  Population\n",
        "Country Phase                                        \n",
        "Germany 0th    Past  18Jan2020  23Mar2020    82905782\n",
        "        1st    Past  24Mar2020  06Apr2020    82905782\n",
        "        2nd    Past  07Apr2020  05May2020    82905782\n",
        "        3rd    Past  06May2020  04Aug2020    82905782\n",
        "        4th    Past  05Aug2020  12Sep2020    82905782\n",
        "        5th    Past  13Sep2020  07Oct2020    82905782\n",
        "        6th    Past  08Oct2020  20Oct2020    82905782\n",
        "        7th    Past  21Oct2020  27Oct2020    82905782\n",
        "        8th    Past  28Oct2020  03Nov2020    82905782\n",
        "        9th    Past  04Nov2020  10Nov2020    82905782\n",
        "        10th   Past  11Nov2020  17Nov2020    82905782\n",
        "        11th   Past  18Nov2020  24Nov2020    82905782\n",
        "        12th   Past  25Nov2020  01Dec2020    82905782\n",
        "        13th   Past  02Dec2020  08Dec2020    82905782\n",
        "        14th   Past  09Dec2020  15Dec2020    82905782\n",
        "        15th   Past  16Dec2020  21Dec2020    82905782\n",
        "        16th   Past  22Dec2020  28Dec2020    82905782\n",
        "        17th   Past  29Dec2020  04Jan2021    82905782\n",
        "        18th   Past  05Jan2021  11Jan2021    82905782\n",
        "        19th   Past  12Jan2021  18Jan2021    82905782"
       ]
      }
     ],
     "prompt_number": 10
    },
    {
     "cell_type": "markdown",
     "metadata": {},
     "source": [
      "## Parameter estimation\n",
      "we will estimate the parameter values with SIR-derived ODE models in each country."
     ]
    },
    {
     "cell_type": "code",
     "collapsed": false,
     "input": [
      "# Parameter estimation with SIR-F model\n",
      "analyser.estimate(cs.SIRF, timeout=10)"
     ],
     "language": "python",
     "metadata": {
      "tags": []
     },
     "outputs": [
      {
       "output_type": "stream",
       "stream": "stdout",
       "text": [
        "\n",
        "<SIR-F model: parameter estimation>\n",
        "Running optimization with 4 CPUs...\n"
       ]
      },
      {
       "output_type": "stream",
       "stream": "stdout",
       "text": [
        "\tCHE,  5th phase (06Oct2020 - 14Oct2020): finished  236 trials in 0 min 10 sec"
       ]
      },
      {
       "output_type": "stream",
       "stream": "stdout",
       "text": [
        "\n"
       ]
      },
      {
       "output_type": "stream",
       "stream": "stdout",
       "text": [
        "\tDEU,  7th phase (21Oct2020 - 27Oct2020): finished  234 trials in 0 min 10 sec"
       ]
      },
      {
       "output_type": "stream",
       "stream": "stdout",
       "text": [
        "\n"
       ]
      },
      {
       "output_type": "stream",
       "stream": "stdout",
       "text": [
        "\tDEU,  1st phase (24Mar2020 - 06Apr2020): finished  230 trials in 0 min 10 sec"
       ]
      },
      {
       "output_type": "stream",
       "stream": "stdout",
       "text": [
        "\n"
       ]
      },
      {
       "output_type": "stream",
       "stream": "stdout",
       "text": [
        "\tSWE,  1st phase (16Apr2020 - 12May2020): finished  226 trials in 0 min 10 sec"
       ]
      },
      {
       "output_type": "stream",
       "stream": "stdout",
       "text": [
        "\n"
       ]
      },
      {
       "output_type": "stream",
       "stream": "stdout",
       "text": [
        "\tSWE, 12th phase (02Dec2020 - 08Dec2020): finished  184 trials in 0 min 10 sec"
       ]
      },
      {
       "output_type": "stream",
       "stream": "stdout",
       "text": [
        "\n"
       ]
      },
      {
       "output_type": "stream",
       "stream": "stdout",
       "text": [
        "\tPRT, 10th phase (13Nov2020 - 18Nov2020): finished  197 trials in 0 min 10 sec"
       ]
      },
      {
       "output_type": "stream",
       "stream": "stdout",
       "text": [
        "\n"
       ]
      },
      {
       "output_type": "stream",
       "stream": "stdout",
       "text": [
        "\tNOR,  9th phase (02Nov2020 - 08Nov2020): finished  183 trials in 0 min 10 sec"
       ]
      },
      {
       "output_type": "stream",
       "stream": "stdout",
       "text": [
        "\n"
       ]
      },
      {
       "output_type": "stream",
       "stream": "stdout",
       "text": [
        "\tMYS,  7th phase (19Oct2020 - 24Oct2020): finished  184 trials in 0 min 10 sec"
       ]
      },
      {
       "output_type": "stream",
       "stream": "stdout",
       "text": [
        "\n"
       ]
      },
      {
       "output_type": "stream",
       "stream": "stdout",
       "text": [
        "\tMYS,  5th phase (05Oct2020 - 12Oct2020): finished  198 trials in 0 min 10 sec"
       ]
      },
      {
       "output_type": "stream",
       "stream": "stdout",
       "text": [
        "\n"
       ]
      },
      {
       "output_type": "stream",
       "stream": "stdout",
       "text": [
        "\tMYS, 13th phase (05Dec2020 - 14Dec2020): finished  201 trials in 0 min 10 sec"
       ]
      },
      {
       "output_type": "stream",
       "stream": "stdout",
       "text": [
        "\n"
       ]
      },
      {
       "output_type": "stream",
       "stream": "stdout",
       "text": [
        "\tCHE,  2nd phase (07Apr2020 - 02Aug2020): finished  179 trials in 0 min 10 sec"
       ]
      },
      {
       "output_type": "stream",
       "stream": "stdout",
       "text": [
        "\n"
       ]
      },
      {
       "output_type": "stream",
       "stream": "stdout",
       "text": [
        "\tNOR, 15th phase (21Dec2020 - 28Dec2020): finished  193 trials in 0 min 10 sec"
       ]
      },
      {
       "output_type": "stream",
       "stream": "stdout",
       "text": [
        "\n"
       ]
      },
      {
       "output_type": "stream",
       "stream": "stdout",
       "text": [
        "\tNOR,  6th phase (21Sep2020 - 07Oct2020): finished  192 trials in 0 min 10 sec"
       ]
      },
      {
       "output_type": "stream",
       "stream": "stdout",
       "text": [
        "\n"
       ]
      },
      {
       "output_type": "stream",
       "stream": "stdout",
       "text": [
        "\tPRT,  3rd phase (03Jul2020 - 27Aug2020): finished  190 trials in 0 min 10 sec"
       ]
      },
      {
       "output_type": "stream",
       "stream": "stdout",
       "text": [
        "\n"
       ]
      },
      {
       "output_type": "stream",
       "stream": "stdout",
       "text": [
        "\tCHE,  4th phase (08Sep2020 - 05Oct2020): finished  191 trials in 0 min 10 sec"
       ]
      },
      {
       "output_type": "stream",
       "stream": "stdout",
       "text": [
        "\n"
       ]
      },
      {
       "output_type": "stream",
       "stream": "stdout",
       "text": [
        "\tNOR, 10th phase (09Nov2020 - 14Nov2020): finished  209 trials in 0 min 10 sec"
       ]
      },
      {
       "output_type": "stream",
       "stream": "stdout",
       "text": [
        "\n"
       ]
      },
      {
       "output_type": "stream",
       "stream": "stdout",
       "text": [
        "\tDEU,  0th phase (18Jan2020 - 23Mar2020): finished  158 trials in 0 min 10 sec"
       ]
      },
      {
       "output_type": "stream",
       "stream": "stdout",
       "text": [
        "\n"
       ]
      },
      {
       "output_type": "stream",
       "stream": "stdout",
       "text": [
        "\tSWE, 13th phase (09Dec2020 - 15Dec2020): finished  184 trials in 0 min 10 sec"
       ]
      },
      {
       "output_type": "stream",
       "stream": "stdout",
       "text": [
        "\n"
       ]
      },
      {
       "output_type": "stream",
       "stream": "stdout",
       "text": [
        "\tMYS,  6th phase (13Oct2020 - 18Oct2020): finished  183 trials in 0 min 10 sec"
       ]
      },
      {
       "output_type": "stream",
       "stream": "stdout",
       "text": [
        "\n"
       ]
      },
      {
       "output_type": "stream",
       "stream": "stdout",
       "text": [
        "\tSWE,  2nd phase (13May2020 - 07Jun2020): finished  177 trials in 0 min 10 sec"
       ]
      },
      {
       "output_type": "stream",
       "stream": "stdout",
       "text": [
        "\n"
       ]
      },
      {
       "output_type": "stream",
       "stream": "stdout",
       "text": [
        "\tMYS,  2nd phase (13Apr2020 - 24May2020): finished  154 trials in 0 min 10 sec"
       ]
      },
      {
       "output_type": "stream",
       "stream": "stdout",
       "text": [
        "\n"
       ]
      },
      {
       "output_type": "stream",
       "stream": "stdout",
       "text": [
        "\tCHE,  3rd phase (03Aug2020 - 07Sep2020): finished  152 trials in 0 min 10 sec"
       ]
      },
      {
       "output_type": "stream",
       "stream": "stdout",
       "text": [
        "\n"
       ]
      },
      {
       "output_type": "stream",
       "stream": "stdout",
       "text": [
        "\tCHE,  0th phase (03Mar2020 - 22Mar2020): finished  148 trials in 0 min 10 sec"
       ]
      },
      {
       "output_type": "stream",
       "stream": "stdout",
       "text": [
        "\n"
       ]
      },
      {
       "output_type": "stream",
       "stream": "stdout",
       "text": [
        "\tCHE, 14th phase (14Dec2020 - 20Dec2020): finished  146 trials in 0 min 10 sec"
       ]
      },
      {
       "output_type": "stream",
       "stream": "stdout",
       "text": [
        "\n"
       ]
      },
      {
       "output_type": "stream",
       "stream": "stdout",
       "text": [
        "\tPRT,  7th phase (23Oct2020 - 29Oct2020): finished  176 trials in 0 min 10 sec"
       ]
      },
      {
       "output_type": "stream",
       "stream": "stdout",
       "text": [
        "\n"
       ]
      },
      {
       "output_type": "stream",
       "stream": "stdout",
       "text": [
        "\tMYS, 15th phase (21Dec2020 - 26Dec2020): finished  180 trials in 0 min 10 sec"
       ]
      },
      {
       "output_type": "stream",
       "stream": "stdout",
       "text": [
        "\n"
       ]
      },
      {
       "output_type": "stream",
       "stream": "stdout",
       "text": [
        "\tCHE, 13th phase (08Dec2020 - 13Dec2020): finished  176 trials in 0 min 10 sec"
       ]
      },
      {
       "output_type": "stream",
       "stream": "stdout",
       "text": [
        "\n"
       ]
      },
      {
       "output_type": "stream",
       "stream": "stdout",
       "text": [
        "\tCHE, 10th phase (17Nov2020 - 23Nov2020): finished  169 trials in 0 min 10 sec"
       ]
      },
      {
       "output_type": "stream",
       "stream": "stdout",
       "text": [
        "\n"
       ]
      },
      {
       "output_type": "stream",
       "stream": "stdout",
       "text": [
        "\tPRT,  4th phase (28Aug2020 - 23Sep2020): finished  190 trials in 0 min 10 sec"
       ]
      },
      {
       "output_type": "stream",
       "stream": "stdout",
       "text": [
        "\n"
       ]
      },
      {
       "output_type": "stream",
       "stream": "stdout",
       "text": [
        "\tCHE,  8th phase (27Oct2020 - 05Nov2020): finished  186 trials in 0 min 10 sec"
       ]
      },
      {
       "output_type": "stream",
       "stream": "stdout",
       "text": [
        "\n"
       ]
      },
      {
       "output_type": "stream",
       "stream": "stdout",
       "text": [
        "\tDEU,  5th phase (13Sep2020 - 07Oct2020): finished  181 trials in 0 min 10 sec"
       ]
      },
      {
       "output_type": "stream",
       "stream": "stdout",
       "text": [
        "\n"
       ]
      },
      {
       "output_type": "stream",
       "stream": "stdout",
       "text": [
        "\tMYS, 16th phase (27Dec2020 - 05Jan2021): finished  195 trials in 0 min 10 sec"
       ]
      },
      {
       "output_type": "stream",
       "stream": "stdout",
       "text": [
        "\n"
       ]
      },
      {
       "output_type": "stream",
       "stream": "stdout",
       "text": [
        "\tSWE,  3rd phase (08Jun2020 - 24Jun2020): finished  183 trials in 0 min 10 sec"
       ]
      },
      {
       "output_type": "stream",
       "stream": "stdout",
       "text": [
        "\n"
       ]
      },
      {
       "output_type": "stream",
       "stream": "stdout",
       "text": [
        "\tNOR, 16th phase (29Dec2020 - 04Jan2021): finished  186 trials in 0 min 10 sec"
       ]
      },
      {
       "output_type": "stream",
       "stream": "stdout",
       "text": [
        "\n"
       ]
      },
      {
       "output_type": "stream",
       "stream": "stdout",
       "text": [
        "\tSWE,  4th phase (25Jun2020 - 12Aug2020): finished  164 trials in 0 min 10 sec"
       ]
      },
      {
       "output_type": "stream",
       "stream": "stdout",
       "text": [
        "\n"
       ]
      },
      {
       "output_type": "stream",
       "stream": "stdout",
       "text": [
        "\tCHE,  1st phase (23Mar2020 - 06Apr2020): finished  179 trials in 0 min 10 sec"
       ]
      },
      {
       "output_type": "stream",
       "stream": "stdout",
       "text": [
        "\n"
       ]
      },
      {
       "output_type": "stream",
       "stream": "stdout",
       "text": [
        "\tSWE,  9th phase (11Nov2020 - 17Nov2020): finished  183 trials in 0 min 10 sec"
       ]
      },
      {
       "output_type": "stream",
       "stream": "stdout",
       "text": [
        "\n"
       ]
      },
      {
       "output_type": "stream",
       "stream": "stdout",
       "text": [
        "\tNOR,  2nd phase (06Apr2020 - 01May2020): finished  179 trials in 0 min 10 sec"
       ]
      },
      {
       "output_type": "stream",
       "stream": "stdout",
       "text": [
        "\n"
       ]
      },
      {
       "output_type": "stream",
       "stream": "stdout",
       "text": [
        "\tSWE, 10th phase (18Nov2020 - 24Nov2020): finished  182 trials in 0 min 10 sec"
       ]
      },
      {
       "output_type": "stream",
       "stream": "stdout",
       "text": [
        "\n"
       ]
      },
      {
       "output_type": "stream",
       "stream": "stdout",
       "text": [
        "\tCHE, 17th phase (03Jan2021 - 09Jan2021): finished  185 trials in 0 min 10 sec"
       ]
      },
      {
       "output_type": "stream",
       "stream": "stdout",
       "text": [
        "\n"
       ]
      },
      {
       "output_type": "stream",
       "stream": "stdout",
       "text": [
        "\tPRT,  5th phase (24Sep2020 - 12Oct2020): finished  183 trials in 0 min 10 sec"
       ]
      },
      {
       "output_type": "stream",
       "stream": "stdout",
       "text": [
        "\n"
       ]
      },
      {
       "output_type": "stream",
       "stream": "stdout",
       "text": [
        "\tMYS,  3rd phase (25May2020 - 11Sep2020): finished  162 trials in 0 min 10 sec"
       ]
      },
      {
       "output_type": "stream",
       "stream": "stdout",
       "text": [
        "\n"
       ]
      },
      {
       "output_type": "stream",
       "stream": "stdout",
       "text": [
        "\tMYS, 10th phase (12Nov2020 - 17Nov2020): finished  190 trials in 0 min 10 sec"
       ]
      },
      {
       "output_type": "stream",
       "stream": "stdout",
       "text": [
        "\n"
       ]
      },
      {
       "output_type": "stream",
       "stream": "stdout",
       "text": [
        "\tNOR, 12th phase (24Nov2020 - 02Dec2020): finished  191 trials in 0 min 10 sec"
       ]
      },
      {
       "output_type": "stream",
       "stream": "stdout",
       "text": [
        "\n"
       ]
      },
      {
       "output_type": "stream",
       "stream": "stdout",
       "text": [
        "\tCHE, 11th phase (24Nov2020 - 30Nov2020): finished  192 trials in 0 min 10 sec"
       ]
      },
      {
       "output_type": "stream",
       "stream": "stdout",
       "text": [
        "\n"
       ]
      },
      {
       "output_type": "stream",
       "stream": "stdout",
       "text": [
        "\tNOR,  1st phase (22Mar2020 - 05Apr2020): finished  186 trials in 0 min 10 sec"
       ]
      },
      {
       "output_type": "stream",
       "stream": "stdout",
       "text": [
        "\n"
       ]
      },
      {
       "output_type": "stream",
       "stream": "stdout",
       "text": [
        "\tMYS,  9th phase (31Oct2020 - 11Nov2020): finished  180 trials in 0 min 10 sec"
       ]
      },
      {
       "output_type": "stream",
       "stream": "stdout",
       "text": [
        "\n"
       ]
      },
      {
       "output_type": "stream",
       "stream": "stdout",
       "text": [
        "\tSWE, 18th phase (10Jan2021 - 18Jan2021): finished  176 trials in 0 min 10 sec"
       ]
      },
      {
       "output_type": "stream",
       "stream": "stdout",
       "text": [
        "\n"
       ]
      },
      {
       "output_type": "stream",
       "stream": "stdout",
       "text": [
        "\tPRT,  2nd phase (22May2020 - 02Jul2020): finished  178 trials in 0 min 10 sec"
       ]
      },
      {
       "output_type": "stream",
       "stream": "stdout",
       "text": [
        "\n"
       ]
      },
      {
       "output_type": "stream",
       "stream": "stdout",
       "text": [
        "\tCHE, 12th phase (01Dec2020 - 07Dec2020): finished  194 trials in 0 min 10 sec"
       ]
      },
      {
       "output_type": "stream",
       "stream": "stdout",
       "text": [
        "\n"
       ]
      },
      {
       "output_type": "stream",
       "stream": "stdout",
       "text": [
        "\tPRT,  0th phase (14Mar2020 - 08Apr2020): finished  191 trials in 0 min 10 sec"
       ]
      },
      {
       "output_type": "stream",
       "stream": "stdout",
       "text": [
        "\n"
       ]
      },
      {
       "output_type": "stream",
       "stream": "stdout",
       "text": [
        "\tNOR, 17th phase (05Jan2021 - 10Jan2021): finished  195 trials in 0 min 10 sec"
       ]
      },
      {
       "output_type": "stream",
       "stream": "stdout",
       "text": [
        "\n"
       ]
      },
      {
       "output_type": "stream",
       "stream": "stdout",
       "text": [
        "\tCHE,  6th phase (15Oct2020 - 20Oct2020): finished  159 trials in 0 min 10 sec"
       ]
      },
      {
       "output_type": "stream",
       "stream": "stdout",
       "text": [
        "\n"
       ]
      },
      {
       "output_type": "stream",
       "stream": "stdout",
       "text": [
        "\tSWE,  6th phase (05Oct2020 - 26Oct2020): finished  151 trials in 0 min 10 sec"
       ]
      },
      {
       "output_type": "stream",
       "stream": "stdout",
       "text": [
        "\n"
       ]
      },
      {
       "output_type": "stream",
       "stream": "stdout",
       "text": [
        "\tMYS, 17th phase (06Jan2021 - 11Jan2021): finished  151 trials in 0 min 10 sec"
       ]
      },
      {
       "output_type": "stream",
       "stream": "stdout",
       "text": [
        "\n"
       ]
      },
      {
       "output_type": "stream",
       "stream": "stdout",
       "text": [
        "\tDEU, 18th phase (05Jan2021 - 11Jan2021): finished  154 trials in 0 min 10 sec"
       ]
      },
      {
       "output_type": "stream",
       "stream": "stdout",
       "text": [
        "\n"
       ]
      },
      {
       "output_type": "stream",
       "stream": "stdout",
       "text": [
        "\tNOR,  8th phase (25Oct2020 - 01Nov2020): finished  157 trials in 0 min 10 sec"
       ]
      },
      {
       "output_type": "stream",
       "stream": "stdout",
       "text": [
        "\n"
       ]
      },
      {
       "output_type": "stream",
       "stream": "stdout",
       "text": [
        "\tMYS, 12th phase (29Nov2020 - 04Dec2020): finished  171 trials in 0 min 10 sec"
       ]
      },
      {
       "output_type": "stream",
       "stream": "stdout",
       "text": [
        "\n"
       ]
      },
      {
       "output_type": "stream",
       "stream": "stdout",
       "text": [
        "\tCHE, 15th phase (21Dec2020 - 27Dec2020): finished  177 trials in 0 min 10 sec"
       ]
      },
      {
       "output_type": "stream",
       "stream": "stdout",
       "text": [
        "\n"
       ]
      },
      {
       "output_type": "stream",
       "stream": "stdout",
       "text": [
        "\tPRT, 17th phase (31Dec2020 - 06Jan2021): finished  172 trials in 0 min 10 sec"
       ]
      },
      {
       "output_type": "stream",
       "stream": "stdout",
       "text": [
        "\n"
       ]
      },
      {
       "output_type": "stream",
       "stream": "stdout",
       "text": [
        "\tMYS,  0th phase (07Feb2020 - 25Mar2020): finished  179 trials in 0 min 10 sec"
       ]
      },
      {
       "output_type": "stream",
       "stream": "stdout",
       "text": [
        "\n"
       ]
      },
      {
       "output_type": "stream",
       "stream": "stdout",
       "text": [
        "\tPRT,  1st phase (09Apr2020 - 21May2020): finished  169 trials in 0 min 10 sec"
       ]
      },
      {
       "output_type": "stream",
       "stream": "stdout",
       "text": [
        "\n"
       ]
      },
      {
       "output_type": "stream",
       "stream": "stdout",
       "text": [
        "\tPRT,  8th phase (30Oct2020 - 05Nov2020): finished  185 trials in 0 min 10 sec"
       ]
      },
      {
       "output_type": "stream",
       "stream": "stdout",
       "text": [
        "\n"
       ]
      },
      {
       "output_type": "stream",
       "stream": "stdout",
       "text": [
        "\tSWE,  5th phase (13Aug2020 - 04Oct2020): finished  168 trials in 0 min 10 sec"
       ]
      },
      {
       "output_type": "stream",
       "stream": "stdout",
       "text": [
        "\n"
       ]
      },
      {
       "output_type": "stream",
       "stream": "stdout",
       "text": [
        "\tSWE,  7th phase (27Oct2020 - 03Nov2020): finished  199 trials in 0 min 10 sec"
       ]
      },
      {
       "output_type": "stream",
       "stream": "stdout",
       "text": [
        "\n"
       ]
      },
      {
       "output_type": "stream",
       "stream": "stdout",
       "text": [
        "\tMYS, 11th phase (18Nov2020 - 28Nov2020): finished  199 trials in 0 min 10 sec"
       ]
      },
      {
       "output_type": "stream",
       "stream": "stdout",
       "text": [
        "\n"
       ]
      },
      {
       "output_type": "stream",
       "stream": "stdout",
       "text": [
        "\tMYS, 18th phase (12Jan2021 - 18Jan2021): finished  201 trials in 0 min 10 sec"
       ]
      },
      {
       "output_type": "stream",
       "stream": "stdout",
       "text": [
        "\n"
       ]
      },
      {
       "output_type": "stream",
       "stream": "stdout",
       "text": [
        "\tSWE,  0th phase (20Feb2020 - 15Apr2020): finished  192 trials in 0 min 10 sec"
       ]
      },
      {
       "output_type": "stream",
       "stream": "stdout",
       "text": [
        "\n"
       ]
      },
      {
       "output_type": "stream",
       "stream": "stdout",
       "text": [
        "\tNOR,  5th phase (03Sep2020 - 20Sep2020): finished  189 trials in 0 min 10 sec"
       ]
      },
      {
       "output_type": "stream",
       "stream": "stdout",
       "text": [
        "\n"
       ]
      },
      {
       "output_type": "stream",
       "stream": "stdout",
       "text": [
        "\tDEU,  3rd phase (06May2020 - 04Aug2020): finished  171 trials in 0 min 10 sec"
       ]
      },
      {
       "output_type": "stream",
       "stream": "stdout",
       "text": [
        "\n"
       ]
      },
      {
       "output_type": "stream",
       "stream": "stdout",
       "text": [
        "\tCHE,  7th phase (21Oct2020 - 26Oct2020): finished  195 trials in 0 min 10 sec"
       ]
      },
      {
       "output_type": "stream",
       "stream": "stdout",
       "text": [
        "\n"
       ]
      },
      {
       "output_type": "stream",
       "stream": "stdout",
       "text": [
        "\tNOR,  7th phase (08Oct2020 - 24Oct2020): finished  196 trials in 0 min 10 sec"
       ]
      },
      {
       "output_type": "stream",
       "stream": "stdout",
       "text": [
        "\n"
       ]
      },
      {
       "output_type": "stream",
       "stream": "stdout",
       "text": [
        "\tNOR, 13th phase (03Dec2020 - 12Dec2020): finished  190 trials in 0 min 10 sec"
       ]
      },
      {
       "output_type": "stream",
       "stream": "stdout",
       "text": [
        "\n"
       ]
      },
      {
       "output_type": "stream",
       "stream": "stdout",
       "text": [
        "\tNOR, 14th phase (13Dec2020 - 20Dec2020): finished  192 trials in 0 min 10 sec"
       ]
      },
      {
       "output_type": "stream",
       "stream": "stdout",
       "text": [
        "\n"
       ]
      },
      {
       "output_type": "stream",
       "stream": "stdout",
       "text": [
        "\tPRT, 14th phase (10Dec2020 - 15Dec2020): finished  189 trials in 0 min 10 sec"
       ]
      },
      {
       "output_type": "stream",
       "stream": "stdout",
       "text": [
        "\n"
       ]
      },
      {
       "output_type": "stream",
       "stream": "stdout",
       "text": [
        "\tDEU,  2nd phase (07Apr2020 - 05May2020): finished  183 trials in 0 min 10 sec"
       ]
      },
      {
       "output_type": "stream",
       "stream": "stdout",
       "text": [
        "\n"
       ]
      },
      {
       "output_type": "stream",
       "stream": "stdout",
       "text": [
        "\tDEU,  4th phase (05Aug2020 - 12Sep2020): finished  182 trials in 0 min 10 sec"
       ]
      },
      {
       "output_type": "stream",
       "stream": "stdout",
       "text": [
        "\n"
       ]
      },
      {
       "output_type": "stream",
       "stream": "stdout",
       "text": [
        "\tDEU,  6th phase (08Oct2020 - 20Oct2020): finished  187 trials in 0 min 10 sec"
       ]
      },
      {
       "output_type": "stream",
       "stream": "stdout",
       "text": [
        "\n"
       ]
      },
      {
       "output_type": "stream",
       "stream": "stdout",
       "text": [
        "\tNOR, 18th phase (11Jan2021 - 18Jan2021): finished  197 trials in 0 min 10 sec"
       ]
      },
      {
       "output_type": "stream",
       "stream": "stdout",
       "text": [
        "\n"
       ]
      },
      {
       "output_type": "stream",
       "stream": "stdout",
       "text": [
        "\tCHE,  9th phase (06Nov2020 - 16Nov2020): finished  192 trials in 0 min 10 sec"
       ]
      },
      {
       "output_type": "stream",
       "stream": "stdout",
       "text": [
        "\n"
       ]
      },
      {
       "output_type": "stream",
       "stream": "stdout",
       "text": [
        "\tSWE, 17th phase (04Jan2021 - 09Jan2021): finished  239 trials in 0 min 10 sec"
       ]
      },
      {
       "output_type": "stream",
       "stream": "stdout",
       "text": [
        "\n"
       ]
      },
      {
       "output_type": "stream",
       "stream": "stdout",
       "text": [
        "\tSWE, 11th phase (25Nov2020 - 01Dec2020): finished  241 trials in 0 min 10 sec"
       ]
      },
      {
       "output_type": "stream",
       "stream": "stdout",
       "text": [
        "\n"
       ]
      },
      {
       "output_type": "stream",
       "stream": "stdout",
       "text": [
        "\tMYS, 14th phase (15Dec2020 - 20Dec2020): finished  248 trials in 0 min 10 sec"
       ]
      },
      {
       "output_type": "stream",
       "stream": "stdout",
       "text": [
        "\n"
       ]
      },
      {
       "output_type": "stream",
       "stream": "stdout",
       "text": [
        "\tPRT,  6th phase (13Oct2020 - 22Oct2020): finished  228 trials in 0 min 10 sec"
       ]
      },
      {
       "output_type": "stream",
       "stream": "stdout",
       "text": [
        "\n"
       ]
      },
      {
       "output_type": "stream",
       "stream": "stdout",
       "text": [
        "\tPRT, 13th phase (03Dec2020 - 09Dec2020): finished  283 trials in 0 min 10 sec"
       ]
      },
      {
       "output_type": "stream",
       "stream": "stdout",
       "text": [
        "\n"
       ]
      },
      {
       "output_type": "stream",
       "stream": "stdout",
       "text": [
        "\tNOR,  4th phase (06Aug2020 - 02Sep2020): finished  283 trials in 0 min 10 sec"
       ]
      },
      {
       "output_type": "stream",
       "stream": "stdout",
       "text": [
        "\n"
       ]
      },
      {
       "output_type": "stream",
       "stream": "stdout",
       "text": [
        "\tNOR,  3rd phase (02May2020 - 05Aug2020): finished  256 trials in 0 min 10 sec"
       ]
      },
      {
       "output_type": "stream",
       "stream": "stdout",
       "text": [
        "\n"
       ]
      },
      {
       "output_type": "stream",
       "stream": "stdout",
       "text": [
        "\tNOR, 11th phase (15Nov2020 - 23Nov2020): finished  239 trials in 0 min 10 sec"
       ]
      },
      {
       "output_type": "stream",
       "stream": "stdout",
       "text": [
        "\n"
       ]
      },
      {
       "output_type": "stream",
       "stream": "stdout",
       "text": [
        "\tMYS,  4th phase (12Sep2020 - 04Oct2020): finished  235 trials in 0 min 10 sec"
       ]
      },
      {
       "output_type": "stream",
       "stream": "stdout",
       "text": [
        "\n"
       ]
      },
      {
       "output_type": "stream",
       "stream": "stdout",
       "text": [
        "\tSWE, 16th phase (29Dec2020 - 03Jan2021): finished  234 trials in 0 min 10 sec"
       ]
      },
      {
       "output_type": "stream",
       "stream": "stdout",
       "text": [
        "\n"
       ]
      },
      {
       "output_type": "stream",
       "stream": "stdout",
       "text": [
        "\tSWE, 15th phase (22Dec2020 - 28Dec2020): finished  250 trials in 0 min 10 sec"
       ]
      },
      {
       "output_type": "stream",
       "stream": "stdout",
       "text": [
        "\n"
       ]
      },
      {
       "output_type": "stream",
       "stream": "stdout",
       "text": [
        "\tPRT, 15th phase (16Dec2020 - 22Dec2020): finished  250 trials in 0 min 10 sec"
       ]
      },
      {
       "output_type": "stream",
       "stream": "stdout",
       "text": [
        "\n"
       ]
      },
      {
       "output_type": "stream",
       "stream": "stdout",
       "text": [
        "\tSWE, 14th phase (16Dec2020 - 21Dec2020): finished  254 trials in 0 min 10 sec"
       ]
      },
      {
       "output_type": "stream",
       "stream": "stdout",
       "text": [
        "\n"
       ]
      },
      {
       "output_type": "stream",
       "stream": "stdout",
       "text": [
        "\tMYS,  8th phase (25Oct2020 - 30Oct2020): finished  223 trials in 0 min 10 sec"
       ]
      },
      {
       "output_type": "stream",
       "stream": "stdout",
       "text": [
        "\n"
       ]
      },
      {
       "output_type": "stream",
       "stream": "stdout",
       "text": [
        "\tPRT, 12th phase (25Nov2020 - 02Dec2020): finished  230 trials in 0 min 10 sec"
       ]
      },
      {
       "output_type": "stream",
       "stream": "stdout",
       "text": [
        "\n"
       ]
      },
      {
       "output_type": "stream",
       "stream": "stdout",
       "text": [
        "\tPRT, 16th phase (23Dec2020 - 30Dec2020): finished  216 trials in 0 min 10 sec"
       ]
      },
      {
       "output_type": "stream",
       "stream": "stdout",
       "text": [
        "\n"
       ]
      },
      {
       "output_type": "stream",
       "stream": "stdout",
       "text": [
        "\tPRT, 18th phase (07Jan2021 - 18Jan2021): finished  312 trials in 0 min 10 sec"
       ]
      },
      {
       "output_type": "stream",
       "stream": "stdout",
       "text": [
        "\n"
       ]
      },
      {
       "output_type": "stream",
       "stream": "stdout",
       "text": [
        "\tCHE, 16th phase (28Dec2020 - 02Jan2021): finished  317 trials in 0 min 10 sec"
       ]
      },
      {
       "output_type": "stream",
       "stream": "stdout",
       "text": [
        "\n"
       ]
      },
      {
       "output_type": "stream",
       "stream": "stdout",
       "text": [
        "\tNOR,  0th phase (08Mar2020 - 21Mar2020): finished  312 trials in 0 min 10 sec"
       ]
      },
      {
       "output_type": "stream",
       "stream": "stdout",
       "text": [
        "\n"
       ]
      },
      {
       "output_type": "stream",
       "stream": "stdout",
       "text": [
        "\tPRT, 11th phase (19Nov2020 - 24Nov2020): finished  290 trials in 0 min 10 sec"
       ]
      },
      {
       "output_type": "stream",
       "stream": "stdout",
       "text": [
        "\n"
       ]
      },
      {
       "output_type": "stream",
       "stream": "stdout",
       "text": [
        "\tDEU,  8th phase (28Oct2020 - 03Nov2020): finished  290 trials in 0 min 10 sec"
       ]
      },
      {
       "output_type": "stream",
       "stream": "stdout",
       "text": [
        "\n"
       ]
      },
      {
       "output_type": "stream",
       "stream": "stdout",
       "text": [
        "\tPRT,  9th phase (06Nov2020 - 12Nov2020): finished  290 trials in 0 min 10 sec"
       ]
      },
      {
       "output_type": "stream",
       "stream": "stdout",
       "text": [
        "\n"
       ]
      },
      {
       "output_type": "stream",
       "stream": "stdout",
       "text": [
        "\tSWE,  8th phase (04Nov2020 - 10Nov2020): finished  344 trials in 0 min 10 sec"
       ]
      },
      {
       "output_type": "stream",
       "stream": "stdout",
       "text": [
        "\n"
       ]
      },
      {
       "output_type": "stream",
       "stream": "stdout",
       "text": [
        "\tMYS,  1st phase (26Mar2020 - 12Apr2020): finished  344 trials in 0 min 10 sec"
       ]
      },
      {
       "output_type": "stream",
       "stream": "stdout",
       "text": [
        "\n"
       ]
      },
      {
       "output_type": "stream",
       "stream": "stdout",
       "text": [
        "Completed optimization. Total: 5 min 10 sec\n"
       ]
      }
     ],
     "prompt_number": 11
    },
    {
     "cell_type": "code",
     "collapsed": false,
     "input": [
      "# Show summary\n",
      "analyser.summary(countries=countries_show)"
     ],
     "language": "python",
     "metadata": {},
     "outputs": [
      {
       "html": [
        "<div>\n",
        "<style scoped>\n",
        "    .dataframe tbody tr th:only-of-type {\n",
        "        vertical-align: middle;\n",
        "    }\n",
        "\n",
        "    .dataframe tbody tr th {\n",
        "        vertical-align: top;\n",
        "    }\n",
        "\n",
        "    .dataframe thead th {\n",
        "        text-align: right;\n",
        "    }\n",
        "</style>\n",
        "<table border=\"1\" class=\"dataframe\">\n",
        "  <thead>\n",
        "    <tr style=\"text-align: right;\">\n",
        "      <th></th>\n",
        "      <th></th>\n",
        "      <th>Type</th>\n",
        "      <th>Start</th>\n",
        "      <th>End</th>\n",
        "      <th>Population</th>\n",
        "      <th>ODE</th>\n",
        "      <th>Rt</th>\n",
        "      <th>theta</th>\n",
        "      <th>kappa</th>\n",
        "      <th>rho</th>\n",
        "      <th>sigma</th>\n",
        "      <th>tau</th>\n",
        "      <th>1/alpha2 [day]</th>\n",
        "      <th>1/beta [day]</th>\n",
        "      <th>1/gamma [day]</th>\n",
        "      <th>alpha1 [-]</th>\n",
        "      <th>RMSLE</th>\n",
        "      <th>Trials</th>\n",
        "      <th>Runtime</th>\n",
        "    </tr>\n",
        "    <tr>\n",
        "      <th>Country</th>\n",
        "      <th>Phase</th>\n",
        "      <th></th>\n",
        "      <th></th>\n",
        "      <th></th>\n",
        "      <th></th>\n",
        "      <th></th>\n",
        "      <th></th>\n",
        "      <th></th>\n",
        "      <th></th>\n",
        "      <th></th>\n",
        "      <th></th>\n",
        "      <th></th>\n",
        "      <th></th>\n",
        "      <th></th>\n",
        "      <th></th>\n",
        "      <th></th>\n",
        "      <th></th>\n",
        "      <th></th>\n",
        "      <th></th>\n",
        "    </tr>\n",
        "  </thead>\n",
        "  <tbody>\n",
        "    <tr>\n",
        "      <th rowspan=\"20\" valign=\"top\">Germany</th>\n",
        "      <th>0th</th>\n",
        "      <td>Past</td>\n",
        "      <td>18Jan2020</td>\n",
        "      <td>23Mar2020</td>\n",
        "      <td>82905782</td>\n",
        "      <td>SIR-F</td>\n",
        "      <td>3.68</td>\n",
        "      <td>0.104212</td>\n",
        "      <td>0.000095</td>\n",
        "      <td>0.019369</td>\n",
        "      <td>0.004619</td>\n",
        "      <td>360.0</td>\n",
        "      <td>2642.0</td>\n",
        "      <td>12.0</td>\n",
        "      <td>54.0</td>\n",
        "      <td>0.104</td>\n",
        "      <td>1.682265</td>\n",
        "      <td>158.0</td>\n",
        "      <td>0 min 10 sec</td>\n",
        "    </tr>\n",
        "    <tr>\n",
        "      <th>1st</th>\n",
        "      <td>Past</td>\n",
        "      <td>24Mar2020</td>\n",
        "      <td>06Apr2020</td>\n",
        "      <td>82905782</td>\n",
        "      <td>SIR-F</td>\n",
        "      <td>3.32</td>\n",
        "      <td>0.052979</td>\n",
        "      <td>0.000289</td>\n",
        "      <td>0.022227</td>\n",
        "      <td>0.006042</td>\n",
        "      <td>360.0</td>\n",
        "      <td>864.0</td>\n",
        "      <td>11.0</td>\n",
        "      <td>41.0</td>\n",
        "      <td>0.053</td>\n",
        "      <td>0.170008</td>\n",
        "      <td>230.0</td>\n",
        "      <td>0 min 10 sec</td>\n",
        "    </tr>\n",
        "    <tr>\n",
        "      <th>2nd</th>\n",
        "      <td>Past</td>\n",
        "      <td>07Apr2020</td>\n",
        "      <td>05May2020</td>\n",
        "      <td>82905782</td>\n",
        "      <td>SIR-F</td>\n",
        "      <td>0.49</td>\n",
        "      <td>0.015790</td>\n",
        "      <td>0.000479</td>\n",
        "      <td>0.011065</td>\n",
        "      <td>0.021560</td>\n",
        "      <td>360.0</td>\n",
        "      <td>522.0</td>\n",
        "      <td>22.0</td>\n",
        "      <td>11.0</td>\n",
        "      <td>0.016</td>\n",
        "      <td>0.080730</td>\n",
        "      <td>183.0</td>\n",
        "      <td>0 min 10 sec</td>\n",
        "    </tr>\n",
        "    <tr>\n",
        "      <th>3rd</th>\n",
        "      <td>Past</td>\n",
        "      <td>06May2020</td>\n",
        "      <td>04Aug2020</td>\n",
        "      <td>82905782</td>\n",
        "      <td>SIR-F</td>\n",
        "      <td>0.77</td>\n",
        "      <td>0.000471</td>\n",
        "      <td>0.000109</td>\n",
        "      <td>0.015316</td>\n",
        "      <td>0.019774</td>\n",
        "      <td>360.0</td>\n",
        "      <td>2287.0</td>\n",
        "      <td>16.0</td>\n",
        "      <td>12.0</td>\n",
        "      <td>0.000</td>\n",
        "      <td>0.242620</td>\n",
        "      <td>171.0</td>\n",
        "      <td>0 min 10 sec</td>\n",
        "    </tr>\n",
        "    <tr>\n",
        "      <th>4th</th>\n",
        "      <td>Past</td>\n",
        "      <td>05Aug2020</td>\n",
        "      <td>12Sep2020</td>\n",
        "      <td>82905782</td>\n",
        "      <td>SIR-F</td>\n",
        "      <td>1.42</td>\n",
        "      <td>0.000587</td>\n",
        "      <td>0.000079</td>\n",
        "      <td>0.019643</td>\n",
        "      <td>0.013768</td>\n",
        "      <td>360.0</td>\n",
        "      <td>3156.0</td>\n",
        "      <td>12.0</td>\n",
        "      <td>18.0</td>\n",
        "      <td>0.001</td>\n",
        "      <td>0.073509</td>\n",
        "      <td>182.0</td>\n",
        "      <td>0 min 10 sec</td>\n",
        "    </tr>\n",
        "    <tr>\n",
        "      <th>5th</th>\n",
        "      <td>Past</td>\n",
        "      <td>13Sep2020</td>\n",
        "      <td>07Oct2020</td>\n",
        "      <td>82905782</td>\n",
        "      <td>SIR-F</td>\n",
        "      <td>1.40</td>\n",
        "      <td>0.000897</td>\n",
        "      <td>0.000071</td>\n",
        "      <td>0.020736</td>\n",
        "      <td>0.014705</td>\n",
        "      <td>360.0</td>\n",
        "      <td>3515.0</td>\n",
        "      <td>12.0</td>\n",
        "      <td>17.0</td>\n",
        "      <td>0.001</td>\n",
        "      <td>0.030263</td>\n",
        "      <td>181.0</td>\n",
        "      <td>0 min 10 sec</td>\n",
        "    </tr>\n",
        "    <tr>\n",
        "      <th>6th</th>\n",
        "      <td>Past</td>\n",
        "      <td>08Oct2020</td>\n",
        "      <td>20Oct2020</td>\n",
        "      <td>82905782</td>\n",
        "      <td>SIR-F</td>\n",
        "      <td>3.08</td>\n",
        "      <td>0.000676</td>\n",
        "      <td>0.000067</td>\n",
        "      <td>0.026865</td>\n",
        "      <td>0.008663</td>\n",
        "      <td>360.0</td>\n",
        "      <td>3708.0</td>\n",
        "      <td>9.0</td>\n",
        "      <td>28.0</td>\n",
        "      <td>0.001</td>\n",
        "      <td>0.064304</td>\n",
        "      <td>187.0</td>\n",
        "      <td>0 min 10 sec</td>\n",
        "    </tr>\n",
        "    <tr>\n",
        "      <th>7th</th>\n",
        "      <td>Past</td>\n",
        "      <td>21Oct2020</td>\n",
        "      <td>27Oct2020</td>\n",
        "      <td>82905782</td>\n",
        "      <td>SIR-F</td>\n",
        "      <td>2.81</td>\n",
        "      <td>0.002290</td>\n",
        "      <td>0.000381</td>\n",
        "      <td>0.025855</td>\n",
        "      <td>0.008812</td>\n",
        "      <td>360.0</td>\n",
        "      <td>655.0</td>\n",
        "      <td>9.0</td>\n",
        "      <td>28.0</td>\n",
        "      <td>0.002</td>\n",
        "      <td>0.020498</td>\n",
        "      <td>234.0</td>\n",
        "      <td>0 min 10 sec</td>\n",
        "    </tr>\n",
        "    <tr>\n",
        "      <th>8th</th>\n",
        "      <td>Past</td>\n",
        "      <td>28Oct2020</td>\n",
        "      <td>03Nov2020</td>\n",
        "      <td>82905782</td>\n",
        "      <td>SIR-F</td>\n",
        "      <td>2.34</td>\n",
        "      <td>0.018240</td>\n",
        "      <td>0.000041</td>\n",
        "      <td>0.020271</td>\n",
        "      <td>0.008455</td>\n",
        "      <td>360.0</td>\n",
        "      <td>6162.0</td>\n",
        "      <td>12.0</td>\n",
        "      <td>29.0</td>\n",
        "      <td>0.018</td>\n",
        "      <td>0.026082</td>\n",
        "      <td>290.0</td>\n",
        "      <td>0 min 10 sec</td>\n",
        "    </tr>\n",
        "    <tr>\n",
        "      <th>9th</th>\n",
        "      <td>Past</td>\n",
        "      <td>04Nov2020</td>\n",
        "      <td>10Nov2020</td>\n",
        "      <td>82905782</td>\n",
        "      <td>-</td>\n",
        "      <td>-</td>\n",
        "      <td>-</td>\n",
        "      <td>-</td>\n",
        "      <td>-</td>\n",
        "      <td>-</td>\n",
        "      <td>-</td>\n",
        "      <td>-</td>\n",
        "      <td>-</td>\n",
        "      <td>-</td>\n",
        "      <td>-</td>\n",
        "      <td>-</td>\n",
        "      <td>-</td>\n",
        "      <td>-</td>\n",
        "    </tr>\n",
        "    <tr>\n",
        "      <th>10th</th>\n",
        "      <td>Past</td>\n",
        "      <td>11Nov2020</td>\n",
        "      <td>17Nov2020</td>\n",
        "      <td>82905782</td>\n",
        "      <td>-</td>\n",
        "      <td>-</td>\n",
        "      <td>-</td>\n",
        "      <td>-</td>\n",
        "      <td>-</td>\n",
        "      <td>-</td>\n",
        "      <td>-</td>\n",
        "      <td>-</td>\n",
        "      <td>-</td>\n",
        "      <td>-</td>\n",
        "      <td>-</td>\n",
        "      <td>-</td>\n",
        "      <td>-</td>\n",
        "      <td>-</td>\n",
        "    </tr>\n",
        "    <tr>\n",
        "      <th>11th</th>\n",
        "      <td>Past</td>\n",
        "      <td>18Nov2020</td>\n",
        "      <td>24Nov2020</td>\n",
        "      <td>82905782</td>\n",
        "      <td>-</td>\n",
        "      <td>-</td>\n",
        "      <td>-</td>\n",
        "      <td>-</td>\n",
        "      <td>-</td>\n",
        "      <td>-</td>\n",
        "      <td>-</td>\n",
        "      <td>-</td>\n",
        "      <td>-</td>\n",
        "      <td>-</td>\n",
        "      <td>-</td>\n",
        "      <td>-</td>\n",
        "      <td>-</td>\n",
        "      <td>-</td>\n",
        "    </tr>\n",
        "    <tr>\n",
        "      <th>12th</th>\n",
        "      <td>Past</td>\n",
        "      <td>25Nov2020</td>\n",
        "      <td>01Dec2020</td>\n",
        "      <td>82905782</td>\n",
        "      <td>-</td>\n",
        "      <td>-</td>\n",
        "      <td>-</td>\n",
        "      <td>-</td>\n",
        "      <td>-</td>\n",
        "      <td>-</td>\n",
        "      <td>-</td>\n",
        "      <td>-</td>\n",
        "      <td>-</td>\n",
        "      <td>-</td>\n",
        "      <td>-</td>\n",
        "      <td>-</td>\n",
        "      <td>-</td>\n",
        "      <td>-</td>\n",
        "    </tr>\n",
        "    <tr>\n",
        "      <th>13th</th>\n",
        "      <td>Past</td>\n",
        "      <td>02Dec2020</td>\n",
        "      <td>08Dec2020</td>\n",
        "      <td>82905782</td>\n",
        "      <td>-</td>\n",
        "      <td>-</td>\n",
        "      <td>-</td>\n",
        "      <td>-</td>\n",
        "      <td>-</td>\n",
        "      <td>-</td>\n",
        "      <td>-</td>\n",
        "      <td>-</td>\n",
        "      <td>-</td>\n",
        "      <td>-</td>\n",
        "      <td>-</td>\n",
        "      <td>-</td>\n",
        "      <td>-</td>\n",
        "      <td>-</td>\n",
        "    </tr>\n",
        "    <tr>\n",
        "      <th>14th</th>\n",
        "      <td>Past</td>\n",
        "      <td>09Dec2020</td>\n",
        "      <td>15Dec2020</td>\n",
        "      <td>82905782</td>\n",
        "      <td>-</td>\n",
        "      <td>-</td>\n",
        "      <td>-</td>\n",
        "      <td>-</td>\n",
        "      <td>-</td>\n",
        "      <td>-</td>\n",
        "      <td>-</td>\n",
        "      <td>-</td>\n",
        "      <td>-</td>\n",
        "      <td>-</td>\n",
        "      <td>-</td>\n",
        "      <td>-</td>\n",
        "      <td>-</td>\n",
        "      <td>-</td>\n",
        "    </tr>\n",
        "    <tr>\n",
        "      <th>15th</th>\n",
        "      <td>Past</td>\n",
        "      <td>16Dec2020</td>\n",
        "      <td>21Dec2020</td>\n",
        "      <td>82905782</td>\n",
        "      <td>-</td>\n",
        "      <td>-</td>\n",
        "      <td>-</td>\n",
        "      <td>-</td>\n",
        "      <td>-</td>\n",
        "      <td>-</td>\n",
        "      <td>-</td>\n",
        "      <td>-</td>\n",
        "      <td>-</td>\n",
        "      <td>-</td>\n",
        "      <td>-</td>\n",
        "      <td>-</td>\n",
        "      <td>-</td>\n",
        "      <td>-</td>\n",
        "    </tr>\n",
        "    <tr>\n",
        "      <th>16th</th>\n",
        "      <td>Past</td>\n",
        "      <td>22Dec2020</td>\n",
        "      <td>28Dec2020</td>\n",
        "      <td>82905782</td>\n",
        "      <td>-</td>\n",
        "      <td>-</td>\n",
        "      <td>-</td>\n",
        "      <td>-</td>\n",
        "      <td>-</td>\n",
        "      <td>-</td>\n",
        "      <td>-</td>\n",
        "      <td>-</td>\n",
        "      <td>-</td>\n",
        "      <td>-</td>\n",
        "      <td>-</td>\n",
        "      <td>-</td>\n",
        "      <td>-</td>\n",
        "      <td>-</td>\n",
        "    </tr>\n",
        "    <tr>\n",
        "      <th>17th</th>\n",
        "      <td>Past</td>\n",
        "      <td>29Dec2020</td>\n",
        "      <td>04Jan2021</td>\n",
        "      <td>82905782</td>\n",
        "      <td>-</td>\n",
        "      <td>-</td>\n",
        "      <td>-</td>\n",
        "      <td>-</td>\n",
        "      <td>-</td>\n",
        "      <td>-</td>\n",
        "      <td>-</td>\n",
        "      <td>-</td>\n",
        "      <td>-</td>\n",
        "      <td>-</td>\n",
        "      <td>-</td>\n",
        "      <td>-</td>\n",
        "      <td>-</td>\n",
        "      <td>-</td>\n",
        "    </tr>\n",
        "    <tr>\n",
        "      <th>18th</th>\n",
        "      <td>Past</td>\n",
        "      <td>05Jan2021</td>\n",
        "      <td>11Jan2021</td>\n",
        "      <td>82905782</td>\n",
        "      <td>SIR-F</td>\n",
        "      <td>0.96</td>\n",
        "      <td>0.002473</td>\n",
        "      <td>0.000093</td>\n",
        "      <td>0.018340</td>\n",
        "      <td>0.018948</td>\n",
        "      <td>360.0</td>\n",
        "      <td>2674.0</td>\n",
        "      <td>13.0</td>\n",
        "      <td>13.0</td>\n",
        "      <td>0.002</td>\n",
        "      <td>0.011774</td>\n",
        "      <td>154.0</td>\n",
        "      <td>0 min 10 sec</td>\n",
        "    </tr>\n",
        "    <tr>\n",
        "      <th>19th</th>\n",
        "      <td>Past</td>\n",
        "      <td>12Jan2021</td>\n",
        "      <td>18Jan2021</td>\n",
        "      <td>82905782</td>\n",
        "      <td>-</td>\n",
        "      <td>-</td>\n",
        "      <td>-</td>\n",
        "      <td>-</td>\n",
        "      <td>-</td>\n",
        "      <td>-</td>\n",
        "      <td>-</td>\n",
        "      <td>-</td>\n",
        "      <td>-</td>\n",
        "      <td>-</td>\n",
        "      <td>-</td>\n",
        "      <td>-</td>\n",
        "      <td>-</td>\n",
        "      <td>-</td>\n",
        "    </tr>\n",
        "  </tbody>\n",
        "</table>\n",
        "</div>"
       ],
       "output_type": "pyout",
       "prompt_number": 12,
       "text": [
        "               Type      Start        End  Population    ODE    Rt     theta  \\\n",
        "Country Phase                                                                  \n",
        "Germany 0th    Past  18Jan2020  23Mar2020    82905782  SIR-F  3.68  0.104212   \n",
        "        1st    Past  24Mar2020  06Apr2020    82905782  SIR-F  3.32  0.052979   \n",
        "        2nd    Past  07Apr2020  05May2020    82905782  SIR-F  0.49  0.015790   \n",
        "        3rd    Past  06May2020  04Aug2020    82905782  SIR-F  0.77  0.000471   \n",
        "        4th    Past  05Aug2020  12Sep2020    82905782  SIR-F  1.42  0.000587   \n",
        "        5th    Past  13Sep2020  07Oct2020    82905782  SIR-F  1.40  0.000897   \n",
        "        6th    Past  08Oct2020  20Oct2020    82905782  SIR-F  3.08  0.000676   \n",
        "        7th    Past  21Oct2020  27Oct2020    82905782  SIR-F  2.81  0.002290   \n",
        "        8th    Past  28Oct2020  03Nov2020    82905782  SIR-F  2.34  0.018240   \n",
        "        9th    Past  04Nov2020  10Nov2020    82905782      -     -         -   \n",
        "        10th   Past  11Nov2020  17Nov2020    82905782      -     -         -   \n",
        "        11th   Past  18Nov2020  24Nov2020    82905782      -     -         -   \n",
        "        12th   Past  25Nov2020  01Dec2020    82905782      -     -         -   \n",
        "        13th   Past  02Dec2020  08Dec2020    82905782      -     -         -   \n",
        "        14th   Past  09Dec2020  15Dec2020    82905782      -     -         -   \n",
        "        15th   Past  16Dec2020  21Dec2020    82905782      -     -         -   \n",
        "        16th   Past  22Dec2020  28Dec2020    82905782      -     -         -   \n",
        "        17th   Past  29Dec2020  04Jan2021    82905782      -     -         -   \n",
        "        18th   Past  05Jan2021  11Jan2021    82905782  SIR-F  0.96  0.002473   \n",
        "        19th   Past  12Jan2021  18Jan2021    82905782      -     -         -   \n",
        "\n",
        "                  kappa       rho     sigma    tau 1/alpha2 [day]  \\\n",
        "Country Phase                                                       \n",
        "Germany 0th    0.000095  0.019369  0.004619  360.0         2642.0   \n",
        "        1st    0.000289  0.022227  0.006042  360.0          864.0   \n",
        "        2nd    0.000479  0.011065  0.021560  360.0          522.0   \n",
        "        3rd    0.000109  0.015316  0.019774  360.0         2287.0   \n",
        "        4th    0.000079  0.019643  0.013768  360.0         3156.0   \n",
        "        5th    0.000071  0.020736  0.014705  360.0         3515.0   \n",
        "        6th    0.000067  0.026865  0.008663  360.0         3708.0   \n",
        "        7th    0.000381  0.025855  0.008812  360.0          655.0   \n",
        "        8th    0.000041  0.020271  0.008455  360.0         6162.0   \n",
        "        9th           -         -         -      -              -   \n",
        "        10th          -         -         -      -              -   \n",
        "        11th          -         -         -      -              -   \n",
        "        12th          -         -         -      -              -   \n",
        "        13th          -         -         -      -              -   \n",
        "        14th          -         -         -      -              -   \n",
        "        15th          -         -         -      -              -   \n",
        "        16th          -         -         -      -              -   \n",
        "        17th          -         -         -      -              -   \n",
        "        18th   0.000093  0.018340  0.018948  360.0         2674.0   \n",
        "        19th          -         -         -      -              -   \n",
        "\n",
        "              1/beta [day] 1/gamma [day] alpha1 [-]     RMSLE Trials  \\\n",
        "Country Phase                                                          \n",
        "Germany 0th           12.0          54.0      0.104  1.682265  158.0   \n",
        "        1st           11.0          41.0      0.053  0.170008  230.0   \n",
        "        2nd           22.0          11.0      0.016  0.080730  183.0   \n",
        "        3rd           16.0          12.0      0.000  0.242620  171.0   \n",
        "        4th           12.0          18.0      0.001  0.073509  182.0   \n",
        "        5th           12.0          17.0      0.001  0.030263  181.0   \n",
        "        6th            9.0          28.0      0.001  0.064304  187.0   \n",
        "        7th            9.0          28.0      0.002  0.020498  234.0   \n",
        "        8th           12.0          29.0      0.018  0.026082  290.0   \n",
        "        9th              -             -          -         -      -   \n",
        "        10th             -             -          -         -      -   \n",
        "        11th             -             -          -         -      -   \n",
        "        12th             -             -          -         -      -   \n",
        "        13th             -             -          -         -      -   \n",
        "        14th             -             -          -         -      -   \n",
        "        15th             -             -          -         -      -   \n",
        "        16th             -             -          -         -      -   \n",
        "        17th             -             -          -         -      -   \n",
        "        18th          13.0          13.0      0.002  0.011774  154.0   \n",
        "        19th             -             -          -         -      -   \n",
        "\n",
        "                    Runtime  \n",
        "Country Phase                \n",
        "Germany 0th    0 min 10 sec  \n",
        "        1st    0 min 10 sec  \n",
        "        2nd    0 min 10 sec  \n",
        "        3rd    0 min 10 sec  \n",
        "        4th    0 min 10 sec  \n",
        "        5th    0 min 10 sec  \n",
        "        6th    0 min 10 sec  \n",
        "        7th    0 min 10 sec  \n",
        "        8th    0 min 10 sec  \n",
        "        9th               -  \n",
        "        10th              -  \n",
        "        11th              -  \n",
        "        12th              -  \n",
        "        13th              -  \n",
        "        14th              -  \n",
        "        15th              -  \n",
        "        16th              -  \n",
        "        17th              -  \n",
        "        18th   0 min 10 sec  \n",
        "        19th              -  "
       ]
      }
     ],
     "prompt_number": 12
    },
    {
     "cell_type": "markdown",
     "metadata": {},
     "source": [
      "## Compare the history of parameters\n",
      "Here, compare the history of parameter values if countries."
     ]
    },
    {
     "cell_type": "code",
     "collapsed": false,
     "input": [
      "# All parameter/day parameter/Rt/OxCGRT\n",
      "analyser.track().head()"
     ],
     "language": "python",
     "metadata": {},
     "outputs": [
      {
       "html": [
        "<div>\n",
        "<style scoped>\n",
        "    .dataframe tbody tr th:only-of-type {\n",
        "        vertical-align: middle;\n",
        "    }\n",
        "\n",
        "    .dataframe tbody tr th {\n",
        "        vertical-align: top;\n",
        "    }\n",
        "\n",
        "    .dataframe thead th {\n",
        "        text-align: right;\n",
        "    }\n",
        "</style>\n",
        "<table border=\"1\" class=\"dataframe\">\n",
        "  <thead>\n",
        "    <tr style=\"text-align: right;\">\n",
        "      <th></th>\n",
        "      <th>Date</th>\n",
        "      <th>Country</th>\n",
        "      <th>theta</th>\n",
        "      <th>kappa</th>\n",
        "      <th>rho</th>\n",
        "      <th>sigma</th>\n",
        "      <th>alpha1 [-]</th>\n",
        "      <th>1/alpha2 [day]</th>\n",
        "      <th>1/beta [day]</th>\n",
        "      <th>1/gamma [day]</th>\n",
        "      <th>...</th>\n",
        "      <th>Cancel_events</th>\n",
        "      <th>Gatherings_restrictions</th>\n",
        "      <th>Transport_closing</th>\n",
        "      <th>Stay_home_restrictions</th>\n",
        "      <th>Internal_movement_restrictions</th>\n",
        "      <th>International_movement_restrictions</th>\n",
        "      <th>Information_campaigns</th>\n",
        "      <th>Testing_policy</th>\n",
        "      <th>Contact_tracing</th>\n",
        "      <th>Stringency_index</th>\n",
        "    </tr>\n",
        "  </thead>\n",
        "  <tbody>\n",
        "    <tr>\n",
        "      <th>0</th>\n",
        "      <td>2020-02-07</td>\n",
        "      <td>Malaysia</td>\n",
        "      <td>0.2418</td>\n",
        "      <td>0.000014</td>\n",
        "      <td>0.011356</td>\n",
        "      <td>0.00236</td>\n",
        "      <td>0.242</td>\n",
        "      <td>17634</td>\n",
        "      <td>22</td>\n",
        "      <td>105</td>\n",
        "      <td>...</td>\n",
        "      <td>0</td>\n",
        "      <td>0</td>\n",
        "      <td>0</td>\n",
        "      <td>0</td>\n",
        "      <td>0</td>\n",
        "      <td>3</td>\n",
        "      <td>2</td>\n",
        "      <td>1</td>\n",
        "      <td>2</td>\n",
        "      <td>19.44</td>\n",
        "    </tr>\n",
        "    <tr>\n",
        "      <th>1</th>\n",
        "      <td>2020-02-08</td>\n",
        "      <td>Malaysia</td>\n",
        "      <td>0.2418</td>\n",
        "      <td>0.000014</td>\n",
        "      <td>0.011356</td>\n",
        "      <td>0.00236</td>\n",
        "      <td>0.242</td>\n",
        "      <td>17634</td>\n",
        "      <td>22</td>\n",
        "      <td>105</td>\n",
        "      <td>...</td>\n",
        "      <td>0</td>\n",
        "      <td>0</td>\n",
        "      <td>0</td>\n",
        "      <td>0</td>\n",
        "      <td>0</td>\n",
        "      <td>3</td>\n",
        "      <td>2</td>\n",
        "      <td>1</td>\n",
        "      <td>2</td>\n",
        "      <td>19.44</td>\n",
        "    </tr>\n",
        "    <tr>\n",
        "      <th>2</th>\n",
        "      <td>2020-02-09</td>\n",
        "      <td>Malaysia</td>\n",
        "      <td>0.2418</td>\n",
        "      <td>0.000014</td>\n",
        "      <td>0.011356</td>\n",
        "      <td>0.00236</td>\n",
        "      <td>0.242</td>\n",
        "      <td>17634</td>\n",
        "      <td>22</td>\n",
        "      <td>105</td>\n",
        "      <td>...</td>\n",
        "      <td>0</td>\n",
        "      <td>0</td>\n",
        "      <td>0</td>\n",
        "      <td>0</td>\n",
        "      <td>0</td>\n",
        "      <td>3</td>\n",
        "      <td>2</td>\n",
        "      <td>1</td>\n",
        "      <td>2</td>\n",
        "      <td>19.44</td>\n",
        "    </tr>\n",
        "    <tr>\n",
        "      <th>3</th>\n",
        "      <td>2020-02-10</td>\n",
        "      <td>Malaysia</td>\n",
        "      <td>0.2418</td>\n",
        "      <td>0.000014</td>\n",
        "      <td>0.011356</td>\n",
        "      <td>0.00236</td>\n",
        "      <td>0.242</td>\n",
        "      <td>17634</td>\n",
        "      <td>22</td>\n",
        "      <td>105</td>\n",
        "      <td>...</td>\n",
        "      <td>0</td>\n",
        "      <td>0</td>\n",
        "      <td>0</td>\n",
        "      <td>0</td>\n",
        "      <td>0</td>\n",
        "      <td>3</td>\n",
        "      <td>2</td>\n",
        "      <td>1</td>\n",
        "      <td>2</td>\n",
        "      <td>19.44</td>\n",
        "    </tr>\n",
        "    <tr>\n",
        "      <th>4</th>\n",
        "      <td>2020-02-11</td>\n",
        "      <td>Malaysia</td>\n",
        "      <td>0.2418</td>\n",
        "      <td>0.000014</td>\n",
        "      <td>0.011356</td>\n",
        "      <td>0.00236</td>\n",
        "      <td>0.242</td>\n",
        "      <td>17634</td>\n",
        "      <td>22</td>\n",
        "      <td>105</td>\n",
        "      <td>...</td>\n",
        "      <td>0</td>\n",
        "      <td>0</td>\n",
        "      <td>0</td>\n",
        "      <td>0</td>\n",
        "      <td>0</td>\n",
        "      <td>3</td>\n",
        "      <td>2</td>\n",
        "      <td>1</td>\n",
        "      <td>2</td>\n",
        "      <td>19.44</td>\n",
        "    </tr>\n",
        "  </tbody>\n",
        "</table>\n",
        "<p>5 rows \u00d7 23 columns</p>\n",
        "</div>"
       ],
       "output_type": "pyout",
       "prompt_number": 13,
       "text": [
        "        Date   Country   theta     kappa       rho    sigma alpha1 [-]  \\\n",
        "0 2020-02-07  Malaysia  0.2418  0.000014  0.011356  0.00236      0.242   \n",
        "1 2020-02-08  Malaysia  0.2418  0.000014  0.011356  0.00236      0.242   \n",
        "2 2020-02-09  Malaysia  0.2418  0.000014  0.011356  0.00236      0.242   \n",
        "3 2020-02-10  Malaysia  0.2418  0.000014  0.011356  0.00236      0.242   \n",
        "4 2020-02-11  Malaysia  0.2418  0.000014  0.011356  0.00236      0.242   \n",
        "\n",
        "  1/alpha2 [day] 1/beta [day] 1/gamma [day]  ... Cancel_events  \\\n",
        "0          17634           22           105  ...             0   \n",
        "1          17634           22           105  ...             0   \n",
        "2          17634           22           105  ...             0   \n",
        "3          17634           22           105  ...             0   \n",
        "4          17634           22           105  ...             0   \n",
        "\n",
        "   Gatherings_restrictions  Transport_closing  Stay_home_restrictions  \\\n",
        "0                        0                  0                       0   \n",
        "1                        0                  0                       0   \n",
        "2                        0                  0                       0   \n",
        "3                        0                  0                       0   \n",
        "4                        0                  0                       0   \n",
        "\n",
        "   Internal_movement_restrictions  International_movement_restrictions  \\\n",
        "0                               0                                    3   \n",
        "1                               0                                    3   \n",
        "2                               0                                    3   \n",
        "3                               0                                    3   \n",
        "4                               0                                    3   \n",
        "\n",
        "   Information_campaigns  Testing_policy  Contact_tracing  Stringency_index  \n",
        "0                      2               1                2             19.44  \n",
        "1                      2               1                2             19.44  \n",
        "2                      2               1                2             19.44  \n",
        "3                      2               1                2             19.44  \n",
        "4                      2               1                2             19.44  \n",
        "\n",
        "[5 rows x 23 columns]"
       ]
      }
     ],
     "prompt_number": 13
    },
    {
     "cell_type": "heading",
     "level": 3,
     "metadata": {},
     "source": [
      "$Rt$: Reprodcution number $\\mathrm{[-]}$"
     ]
    },
    {
     "cell_type": "code",
     "collapsed": false,
     "input": [
      "analyser.history(\"Rt\", roll_window=None).tail()"
     ],
     "language": "python",
     "metadata": {},
     "outputs": [
      {
       "output_type": "display_data",
       "png": "[encoded data removed]",
       "text": [
        "<Figure size 648x432 with 1 Axes>"
       ]
      },
      {
       "html": [
        "<div>\n",
        "<style scoped>\n",
        "    .dataframe tbody tr th:only-of-type {\n",
        "        vertical-align: middle;\n",
        "    }\n",
        "\n",
        "    .dataframe tbody tr th {\n",
        "        vertical-align: top;\n",
        "    }\n",
        "\n",
        "    .dataframe thead th {\n",
        "        text-align: right;\n",
        "    }\n",
        "</style>\n",
        "<table border=\"1\" class=\"dataframe\">\n",
        "  <thead>\n",
        "    <tr style=\"text-align: right;\">\n",
        "      <th>Country</th>\n",
        "      <th>Germany</th>\n",
        "      <th>Malaysia</th>\n",
        "      <th>Norway</th>\n",
        "      <th>Portugal</th>\n",
        "      <th>Sweden</th>\n",
        "      <th>Switzerland</th>\n",
        "    </tr>\n",
        "    <tr>\n",
        "      <th>Date</th>\n",
        "      <th></th>\n",
        "      <th></th>\n",
        "      <th></th>\n",
        "      <th></th>\n",
        "      <th></th>\n",
        "      <th></th>\n",
        "    </tr>\n",
        "  </thead>\n",
        "  <tbody>\n",
        "    <tr>\n",
        "      <th>2021-01-14</th>\n",
        "      <td>0.96</td>\n",
        "      <td>2.3</td>\n",
        "      <td>2.49</td>\n",
        "      <td>1.81</td>\n",
        "      <td>0.55</td>\n",
        "      <td>2.1</td>\n",
        "    </tr>\n",
        "    <tr>\n",
        "      <th>2021-01-15</th>\n",
        "      <td>0.96</td>\n",
        "      <td>2.3</td>\n",
        "      <td>2.49</td>\n",
        "      <td>1.81</td>\n",
        "      <td>0.55</td>\n",
        "      <td>2.1</td>\n",
        "    </tr>\n",
        "    <tr>\n",
        "      <th>2021-01-16</th>\n",
        "      <td>0.96</td>\n",
        "      <td>2.3</td>\n",
        "      <td>2.49</td>\n",
        "      <td>1.81</td>\n",
        "      <td>0.55</td>\n",
        "      <td>2.1</td>\n",
        "    </tr>\n",
        "    <tr>\n",
        "      <th>2021-01-17</th>\n",
        "      <td>0.96</td>\n",
        "      <td>2.3</td>\n",
        "      <td>2.49</td>\n",
        "      <td>1.81</td>\n",
        "      <td>0.55</td>\n",
        "      <td>2.1</td>\n",
        "    </tr>\n",
        "    <tr>\n",
        "      <th>2021-01-18</th>\n",
        "      <td>0.96</td>\n",
        "      <td>2.3</td>\n",
        "      <td>2.49</td>\n",
        "      <td>1.81</td>\n",
        "      <td>0.55</td>\n",
        "      <td>2.1</td>\n",
        "    </tr>\n",
        "  </tbody>\n",
        "</table>\n",
        "</div>"
       ],
       "output_type": "pyout",
       "prompt_number": 14,
       "text": [
        "Country     Germany  Malaysia  Norway  Portugal  Sweden  Switzerland\n",
        "Date                                                                \n",
        "2021-01-14     0.96       2.3    2.49      1.81    0.55          2.1\n",
        "2021-01-15     0.96       2.3    2.49      1.81    0.55          2.1\n",
        "2021-01-16     0.96       2.3    2.49      1.81    0.55          2.1\n",
        "2021-01-17     0.96       2.3    2.49      1.81    0.55          2.1\n",
        "2021-01-18     0.96       2.3    2.49      1.81    0.55          2.1"
       ]
      }
     ],
     "prompt_number": 14
    },
    {
     "cell_type": "heading",
     "level": 3,
     "metadata": {},
     "source": [
      "$\\rho$: Effective contact rate $\\mathrm{[-]}$"
     ]
    },
    {
     "cell_type": "code",
     "collapsed": false,
     "input": [
      "analyser.history(\"rho\", roll_window=None).tail()"
     ],
     "language": "python",
     "metadata": {},
     "outputs": [
      {
       "output_type": "display_data",
       "png": "[encoded data removed]",
       "text": [
        "<Figure size 648x432 with 1 Axes>"
       ]
      },
      {
       "html": [
        "<div>\n",
        "<style scoped>\n",
        "    .dataframe tbody tr th:only-of-type {\n",
        "        vertical-align: middle;\n",
        "    }\n",
        "\n",
        "    .dataframe tbody tr th {\n",
        "        vertical-align: top;\n",
        "    }\n",
        "\n",
        "    .dataframe thead th {\n",
        "        text-align: right;\n",
        "    }\n",
        "</style>\n",
        "<table border=\"1\" class=\"dataframe\">\n",
        "  <thead>\n",
        "    <tr style=\"text-align: right;\">\n",
        "      <th>Country</th>\n",
        "      <th>Germany</th>\n",
        "      <th>Malaysia</th>\n",
        "      <th>Norway</th>\n",
        "      <th>Portugal</th>\n",
        "      <th>Sweden</th>\n",
        "      <th>Switzerland</th>\n",
        "    </tr>\n",
        "    <tr>\n",
        "      <th>Date</th>\n",
        "      <th></th>\n",
        "      <th></th>\n",
        "      <th></th>\n",
        "      <th></th>\n",
        "      <th></th>\n",
        "      <th></th>\n",
        "    </tr>\n",
        "  </thead>\n",
        "  <tbody>\n",
        "    <tr>\n",
        "      <th>2021-01-14</th>\n",
        "      <td>0.01834</td>\n",
        "      <td>0.023785</td>\n",
        "      <td>0.00329</td>\n",
        "      <td>0.022874</td>\n",
        "      <td>0.012672</td>\n",
        "      <td>0.00736</td>\n",
        "    </tr>\n",
        "    <tr>\n",
        "      <th>2021-01-15</th>\n",
        "      <td>0.01834</td>\n",
        "      <td>0.023785</td>\n",
        "      <td>0.00329</td>\n",
        "      <td>0.022874</td>\n",
        "      <td>0.012672</td>\n",
        "      <td>0.00736</td>\n",
        "    </tr>\n",
        "    <tr>\n",
        "      <th>2021-01-16</th>\n",
        "      <td>0.01834</td>\n",
        "      <td>0.023785</td>\n",
        "      <td>0.00329</td>\n",
        "      <td>0.022874</td>\n",
        "      <td>0.012672</td>\n",
        "      <td>0.00736</td>\n",
        "    </tr>\n",
        "    <tr>\n",
        "      <th>2021-01-17</th>\n",
        "      <td>0.01834</td>\n",
        "      <td>0.023785</td>\n",
        "      <td>0.00329</td>\n",
        "      <td>0.022874</td>\n",
        "      <td>0.012672</td>\n",
        "      <td>0.00736</td>\n",
        "    </tr>\n",
        "    <tr>\n",
        "      <th>2021-01-18</th>\n",
        "      <td>0.01834</td>\n",
        "      <td>0.023785</td>\n",
        "      <td>0.00329</td>\n",
        "      <td>0.022874</td>\n",
        "      <td>0.012672</td>\n",
        "      <td>0.00736</td>\n",
        "    </tr>\n",
        "  </tbody>\n",
        "</table>\n",
        "</div>"
       ],
       "output_type": "pyout",
       "prompt_number": 15,
       "text": [
        "Country     Germany  Malaysia   Norway  Portugal    Sweden  Switzerland\n",
        "Date                                                                   \n",
        "2021-01-14  0.01834  0.023785  0.00329  0.022874  0.012672      0.00736\n",
        "2021-01-15  0.01834  0.023785  0.00329  0.022874  0.012672      0.00736\n",
        "2021-01-16  0.01834  0.023785  0.00329  0.022874  0.012672      0.00736\n",
        "2021-01-17  0.01834  0.023785  0.00329  0.022874  0.012672      0.00736\n",
        "2021-01-18  0.01834  0.023785  0.00329  0.022874  0.012672      0.00736"
       ]
      }
     ],
     "prompt_number": 15
    },
    {
     "cell_type": "heading",
     "level": 3,
     "metadata": {},
     "source": [
      "$\\sigma$: Recovery rate $\\mathrm{[-]}$"
     ]
    },
    {
     "cell_type": "code",
     "collapsed": false,
     "input": [
      "analyser.history(\"sigma\", roll_window=None).tail()"
     ],
     "language": "python",
     "metadata": {},
     "outputs": [
      {
       "output_type": "display_data",
       "png": "[encoded data removed]",
       "text": [
        "<Figure size 648x432 with 1 Axes>"
       ]
      },
      {
       "html": [
        "<div>\n",
        "<style scoped>\n",
        "    .dataframe tbody tr th:only-of-type {\n",
        "        vertical-align: middle;\n",
        "    }\n",
        "\n",
        "    .dataframe tbody tr th {\n",
        "        vertical-align: top;\n",
        "    }\n",
        "\n",
        "    .dataframe thead th {\n",
        "        text-align: right;\n",
        "    }\n",
        "</style>\n",
        "<table border=\"1\" class=\"dataframe\">\n",
        "  <thead>\n",
        "    <tr style=\"text-align: right;\">\n",
        "      <th>Country</th>\n",
        "      <th>Germany</th>\n",
        "      <th>Malaysia</th>\n",
        "      <th>Norway</th>\n",
        "      <th>Portugal</th>\n",
        "      <th>Sweden</th>\n",
        "      <th>Switzerland</th>\n",
        "    </tr>\n",
        "    <tr>\n",
        "      <th>Date</th>\n",
        "      <th></th>\n",
        "      <th></th>\n",
        "      <th></th>\n",
        "      <th></th>\n",
        "      <th></th>\n",
        "      <th></th>\n",
        "    </tr>\n",
        "  </thead>\n",
        "  <tbody>\n",
        "    <tr>\n",
        "      <th>2021-01-14</th>\n",
        "      <td>0.018948</td>\n",
        "      <td>0.010204</td>\n",
        "      <td>0.001178</td>\n",
        "      <td>0.012256</td>\n",
        "      <td>0.019754</td>\n",
        "      <td>0.002725</td>\n",
        "    </tr>\n",
        "    <tr>\n",
        "      <th>2021-01-15</th>\n",
        "      <td>0.018948</td>\n",
        "      <td>0.010204</td>\n",
        "      <td>0.001178</td>\n",
        "      <td>0.012256</td>\n",
        "      <td>0.019754</td>\n",
        "      <td>0.002725</td>\n",
        "    </tr>\n",
        "    <tr>\n",
        "      <th>2021-01-16</th>\n",
        "      <td>0.018948</td>\n",
        "      <td>0.010204</td>\n",
        "      <td>0.001178</td>\n",
        "      <td>0.012256</td>\n",
        "      <td>0.019754</td>\n",
        "      <td>0.002725</td>\n",
        "    </tr>\n",
        "    <tr>\n",
        "      <th>2021-01-17</th>\n",
        "      <td>0.018948</td>\n",
        "      <td>0.010204</td>\n",
        "      <td>0.001178</td>\n",
        "      <td>0.012256</td>\n",
        "      <td>0.019754</td>\n",
        "      <td>0.002725</td>\n",
        "    </tr>\n",
        "    <tr>\n",
        "      <th>2021-01-18</th>\n",
        "      <td>0.018948</td>\n",
        "      <td>0.010204</td>\n",
        "      <td>0.001178</td>\n",
        "      <td>0.012256</td>\n",
        "      <td>0.019754</td>\n",
        "      <td>0.002725</td>\n",
        "    </tr>\n",
        "  </tbody>\n",
        "</table>\n",
        "</div>"
       ],
       "output_type": "pyout",
       "prompt_number": 16,
       "text": [
        "Country      Germany  Malaysia    Norway  Portugal    Sweden  Switzerland\n",
        "Date                                                                     \n",
        "2021-01-14  0.018948  0.010204  0.001178  0.012256  0.019754     0.002725\n",
        "2021-01-15  0.018948  0.010204  0.001178  0.012256  0.019754     0.002725\n",
        "2021-01-16  0.018948  0.010204  0.001178  0.012256  0.019754     0.002725\n",
        "2021-01-17  0.018948  0.010204  0.001178  0.012256  0.019754     0.002725\n",
        "2021-01-18  0.018948  0.010204  0.001178  0.012256  0.019754     0.002725"
       ]
      }
     ],
     "prompt_number": 16
    },
    {
     "cell_type": "heading",
     "level": 3,
     "metadata": {},
     "source": [
      "$\\kappa$: Mortality rate of infected cases $\\mathrm{[-]}$"
     ]
    },
    {
     "cell_type": "code",
     "collapsed": false,
     "input": [
      "analyser.history(\"kappa\", roll_window=None).tail()"
     ],
     "language": "python",
     "metadata": {},
     "outputs": [
      {
       "output_type": "display_data",
       "png": "[encoded data removed]",
       "text": [
        "<Figure size 648x432 with 1 Axes>"
       ]
      },
      {
       "html": [
        "<div>\n",
        "<style scoped>\n",
        "    .dataframe tbody tr th:only-of-type {\n",
        "        vertical-align: middle;\n",
        "    }\n",
        "\n",
        "    .dataframe tbody tr th {\n",
        "        vertical-align: top;\n",
        "    }\n",
        "\n",
        "    .dataframe thead th {\n",
        "        text-align: right;\n",
        "    }\n",
        "</style>\n",
        "<table border=\"1\" class=\"dataframe\">\n",
        "  <thead>\n",
        "    <tr style=\"text-align: right;\">\n",
        "      <th>Country</th>\n",
        "      <th>Germany</th>\n",
        "      <th>Malaysia</th>\n",
        "      <th>Norway</th>\n",
        "      <th>Portugal</th>\n",
        "      <th>Sweden</th>\n",
        "      <th>Switzerland</th>\n",
        "    </tr>\n",
        "    <tr>\n",
        "      <th>Date</th>\n",
        "      <th></th>\n",
        "      <th></th>\n",
        "      <th></th>\n",
        "      <th></th>\n",
        "      <th></th>\n",
        "      <th></th>\n",
        "    </tr>\n",
        "  </thead>\n",
        "  <tbody>\n",
        "    <tr>\n",
        "      <th>2021-01-14</th>\n",
        "      <td>0.000093</td>\n",
        "      <td>0.000093</td>\n",
        "      <td>0.000079</td>\n",
        "      <td>0.000309</td>\n",
        "      <td>0.000002</td>\n",
        "      <td>0.000079</td>\n",
        "    </tr>\n",
        "    <tr>\n",
        "      <th>2021-01-15</th>\n",
        "      <td>0.000093</td>\n",
        "      <td>0.000093</td>\n",
        "      <td>0.000079</td>\n",
        "      <td>0.000309</td>\n",
        "      <td>0.000002</td>\n",
        "      <td>0.000079</td>\n",
        "    </tr>\n",
        "    <tr>\n",
        "      <th>2021-01-16</th>\n",
        "      <td>0.000093</td>\n",
        "      <td>0.000093</td>\n",
        "      <td>0.000079</td>\n",
        "      <td>0.000309</td>\n",
        "      <td>0.000002</td>\n",
        "      <td>0.000079</td>\n",
        "    </tr>\n",
        "    <tr>\n",
        "      <th>2021-01-17</th>\n",
        "      <td>0.000093</td>\n",
        "      <td>0.000093</td>\n",
        "      <td>0.000079</td>\n",
        "      <td>0.000309</td>\n",
        "      <td>0.000002</td>\n",
        "      <td>0.000079</td>\n",
        "    </tr>\n",
        "    <tr>\n",
        "      <th>2021-01-18</th>\n",
        "      <td>0.000093</td>\n",
        "      <td>0.000093</td>\n",
        "      <td>0.000079</td>\n",
        "      <td>0.000309</td>\n",
        "      <td>0.000002</td>\n",
        "      <td>0.000079</td>\n",
        "    </tr>\n",
        "  </tbody>\n",
        "</table>\n",
        "</div>"
       ],
       "output_type": "pyout",
       "prompt_number": 17,
       "text": [
        "Country      Germany  Malaysia    Norway  Portugal    Sweden  Switzerland\n",
        "Date                                                                     \n",
        "2021-01-14  0.000093  0.000093  0.000079  0.000309  0.000002     0.000079\n",
        "2021-01-15  0.000093  0.000093  0.000079  0.000309  0.000002     0.000079\n",
        "2021-01-16  0.000093  0.000093  0.000079  0.000309  0.000002     0.000079\n",
        "2021-01-17  0.000093  0.000093  0.000079  0.000309  0.000002     0.000079\n",
        "2021-01-18  0.000093  0.000093  0.000079  0.000309  0.000002     0.000079"
       ]
      }
     ],
     "prompt_number": 17
    },
    {
     "cell_type": "heading",
     "level": 3,
     "metadata": {},
     "source": [
      "$\\theta$: Mortality rate of S$^\\ast$ cases $\\mathrm{[-]}$"
     ]
    },
    {
     "cell_type": "code",
     "collapsed": false,
     "input": [
      "analyser.history(\"theta\", roll_window=None).tail()"
     ],
     "language": "python",
     "metadata": {},
     "outputs": [
      {
       "output_type": "display_data",
       "png": "[encoded data removed]",
       "text": [
        "<Figure size 648x432 with 1 Axes>"
       ]
      },
      {
       "html": [
        "<div>\n",
        "<style scoped>\n",
        "    .dataframe tbody tr th:only-of-type {\n",
        "        vertical-align: middle;\n",
        "    }\n",
        "\n",
        "    .dataframe tbody tr th {\n",
        "        vertical-align: top;\n",
        "    }\n",
        "\n",
        "    .dataframe thead th {\n",
        "        text-align: right;\n",
        "    }\n",
        "</style>\n",
        "<table border=\"1\" class=\"dataframe\">\n",
        "  <thead>\n",
        "    <tr style=\"text-align: right;\">\n",
        "      <th>Country</th>\n",
        "      <th>Germany</th>\n",
        "      <th>Malaysia</th>\n",
        "      <th>Norway</th>\n",
        "      <th>Portugal</th>\n",
        "      <th>Sweden</th>\n",
        "      <th>Switzerland</th>\n",
        "    </tr>\n",
        "    <tr>\n",
        "      <th>Date</th>\n",
        "      <th></th>\n",
        "      <th></th>\n",
        "      <th></th>\n",
        "      <th></th>\n",
        "      <th></th>\n",
        "      <th></th>\n",
        "    </tr>\n",
        "  </thead>\n",
        "  <tbody>\n",
        "    <tr>\n",
        "      <th>2021-01-14</th>\n",
        "      <td>0.002473</td>\n",
        "      <td>0.002207</td>\n",
        "      <td>0.047186</td>\n",
        "      <td>0.003232</td>\n",
        "      <td>0.142112</td>\n",
        "      <td>0.199225</td>\n",
        "    </tr>\n",
        "    <tr>\n",
        "      <th>2021-01-15</th>\n",
        "      <td>0.002473</td>\n",
        "      <td>0.002207</td>\n",
        "      <td>0.047186</td>\n",
        "      <td>0.003232</td>\n",
        "      <td>0.142112</td>\n",
        "      <td>0.199225</td>\n",
        "    </tr>\n",
        "    <tr>\n",
        "      <th>2021-01-16</th>\n",
        "      <td>0.002473</td>\n",
        "      <td>0.002207</td>\n",
        "      <td>0.047186</td>\n",
        "      <td>0.003232</td>\n",
        "      <td>0.142112</td>\n",
        "      <td>0.199225</td>\n",
        "    </tr>\n",
        "    <tr>\n",
        "      <th>2021-01-17</th>\n",
        "      <td>0.002473</td>\n",
        "      <td>0.002207</td>\n",
        "      <td>0.047186</td>\n",
        "      <td>0.003232</td>\n",
        "      <td>0.142112</td>\n",
        "      <td>0.199225</td>\n",
        "    </tr>\n",
        "    <tr>\n",
        "      <th>2021-01-18</th>\n",
        "      <td>0.002473</td>\n",
        "      <td>0.002207</td>\n",
        "      <td>0.047186</td>\n",
        "      <td>0.003232</td>\n",
        "      <td>0.142112</td>\n",
        "      <td>0.199225</td>\n",
        "    </tr>\n",
        "  </tbody>\n",
        "</table>\n",
        "</div>"
       ],
       "output_type": "pyout",
       "prompt_number": 18,
       "text": [
        "Country      Germany  Malaysia    Norway  Portugal    Sweden  Switzerland\n",
        "Date                                                                     \n",
        "2021-01-14  0.002473  0.002207  0.047186  0.003232  0.142112     0.199225\n",
        "2021-01-15  0.002473  0.002207  0.047186  0.003232  0.142112     0.199225\n",
        "2021-01-16  0.002473  0.002207  0.047186  0.003232  0.142112     0.199225\n",
        "2021-01-17  0.002473  0.002207  0.047186  0.003232  0.142112     0.199225\n",
        "2021-01-18  0.002473  0.002207  0.047186  0.003232  0.142112     0.199225"
       ]
      }
     ],
     "prompt_number": 18
    },
    {
     "cell_type": "markdown",
     "metadata": {},
     "source": [
      "## (Experimental): Relationship of OxCGRT index and parameter values\n",
      "Government responses will impact on parameter values of ODE models about 14 days later. Here, we will investigate on the relationship of [stringency index (from OxCGRT)](https://github.com/OxCGRT/covid-policy-tracker/blob/master/documentation/index_methodology.md) and reproduction number/model parameters.\n"
     ]
    },
    {
     "cell_type": "code",
     "collapsed": false,
     "input": [
      "%matplotlib inline\n",
      "from matplotlib import pyplot as plt\n",
      "import seaborn as sns\n",
      "import pandas as pd"
     ],
     "language": "python",
     "metadata": {},
     "outputs": [],
     "prompt_number": 19
    },
    {
     "cell_type": "code",
     "collapsed": false,
     "input": [
      "df = analyser.track()\n",
      "param_cols = [\"Rt\", *cs.SIRF.PARAMETERS]\n",
      "oxcgrt_cols = oxcgrt_data.OXCGRT_VARS[:]\n",
      "cols = param_cols + oxcgrt_cols\n",
      "delay = 14\n",
      "\n",
      "for col in param_cols:\n",
      "    df[col] = pd.to_numeric(df[col], errors=\"coerce\")\n",
      "    df[col] = df.groupby(\"Country\")[col].shift(0 - delay)\n",
      "\n",
      "df = df.dropna(how=\"any\")\n",
      "df = df.loc[:, [\"Date\", \"Country\", *cols]]\n",
      "track_df = df.copy()\n",
      "track_df.info()"
     ],
     "language": "python",
     "metadata": {},
     "outputs": [
      {
       "output_type": "stream",
       "stream": "stdout",
       "text": [
        "<class 'pandas.core.frame.DataFrame'>\n",
        "Int64Index: 21341 entries, 0 to 21410\n",
        "Data columns (total 19 columns):\n",
        " #   Column                               Non-Null Count  Dtype         \n",
        "---  ------                               --------------  -----         \n",
        " 0   Date                                 21341 non-null  datetime64[ns]\n",
        " 1   Country                              21341 non-null  object        \n",
        " 2   Rt                                   21341 non-null  float64       \n",
        " 3   theta                                21341 non-null  float64       \n",
        " 4   kappa                                21341 non-null  float64       \n",
        " 5   rho                                  21341 non-null  float64       \n",
        " 6   sigma                                21341 non-null  float64       \n",
        " 7   School_closing                       21341 non-null  int64         \n",
        " 8   Workplace_closing                    21341 non-null  int64         \n",
        " 9   Cancel_events                        21341 non-null  int64         \n",
        " 10  Gatherings_restrictions              21341 non-null  int64         \n",
        " 11  Transport_closing                    21341 non-null  int64         \n",
        " 12  Stay_home_restrictions               21341 non-null  int64         \n",
        " 13  Internal_movement_restrictions       21341 non-null  int64         \n",
        " 14  International_movement_restrictions  21341 non-null  int64         \n",
        " 15  Information_campaigns                21341 non-null  int64         \n",
        " 16  Testing_policy                       21341 non-null  int64         \n",
        " 17  Contact_tracing                      21341 non-null  int64         \n",
        " 18  Stringency_index                     21341 non-null  float64       \n",
        "dtypes: datetime64[ns](1), float64(6), int64(11), object(1)\n",
        "memory usage: 3.3+ MB\n"
       ]
      }
     ],
     "prompt_number": 20
    },
    {
     "cell_type": "code",
     "collapsed": false,
     "input": [
      "# Correlation\n",
      "df = track_df.copy()\n",
      "df.corr().style.background_gradient(axis=None)"
     ],
     "language": "python",
     "metadata": {},
     "outputs": [
      {
       "html": [
        "<style  type=\"text/css\" >\n",
        "#T_c227c_row0_col0,#T_c227c_row1_col1,#T_c227c_row2_col2,#T_c227c_row3_col3,#T_c227c_row4_col4,#T_c227c_row5_col5,#T_c227c_row6_col6,#T_c227c_row7_col7,#T_c227c_row8_col8,#T_c227c_row9_col9,#T_c227c_row10_col10,#T_c227c_row11_col11,#T_c227c_row12_col12,#T_c227c_row13_col13,#T_c227c_row14_col14,#T_c227c_row15_col15,#T_c227c_row16_col16{\n",
        "            background-color:  #023858;\n",
        "            color:  #f1f1f1;\n",
        "        }#T_c227c_row0_col1,#T_c227c_row1_col0{\n",
        "            background-color:  #d7d6e9;\n",
        "            color:  #000000;\n",
        "        }#T_c227c_row0_col2,#T_c227c_row2_col0,#T_c227c_row8_col15,#T_c227c_row15_col8{\n",
        "            background-color:  #c9cee4;\n",
        "            color:  #000000;\n",
        "        }#T_c227c_row0_col3,#T_c227c_row3_col0{\n",
        "            background-color:  #056fae;\n",
        "            color:  #f1f1f1;\n",
        "        }#T_c227c_row0_col4,#T_c227c_row4_col0,#T_c227c_row9_col15,#T_c227c_row15_col9{\n",
        "            background-color:  #fff7fb;\n",
        "            color:  #000000;\n",
        "        }#T_c227c_row0_col5,#T_c227c_row2_col4,#T_c227c_row4_col2,#T_c227c_row5_col0{\n",
        "            background-color:  #dad9ea;\n",
        "            color:  #000000;\n",
        "        }#T_c227c_row0_col6,#T_c227c_row2_col5,#T_c227c_row5_col2,#T_c227c_row6_col0{\n",
        "            background-color:  #d9d8ea;\n",
        "            color:  #000000;\n",
        "        }#T_c227c_row0_col7,#T_c227c_row5_col9,#T_c227c_row7_col0,#T_c227c_row9_col5{\n",
        "            background-color:  #d2d3e7;\n",
        "            color:  #000000;\n",
        "        }#T_c227c_row0_col8,#T_c227c_row0_col15,#T_c227c_row8_col0,#T_c227c_row15_col0{\n",
        "            background-color:  #e0dded;\n",
        "            color:  #000000;\n",
        "        }#T_c227c_row0_col9,#T_c227c_row9_col0{\n",
        "            background-color:  #cacee5;\n",
        "            color:  #000000;\n",
        "        }#T_c227c_row0_col10,#T_c227c_row2_col7,#T_c227c_row7_col2,#T_c227c_row10_col0{\n",
        "            background-color:  #e1dfed;\n",
        "            color:  #000000;\n",
        "        }#T_c227c_row0_col11,#T_c227c_row1_col10,#T_c227c_row10_col1,#T_c227c_row11_col0{\n",
        "            background-color:  #ede8f3;\n",
        "            color:  #000000;\n",
        "        }#T_c227c_row0_col12,#T_c227c_row3_col11,#T_c227c_row11_col3,#T_c227c_row12_col0{\n",
        "            background-color:  #f0eaf4;\n",
        "            color:  #000000;\n",
        "        }#T_c227c_row0_col13,#T_c227c_row13_col0{\n",
        "            background-color:  #ced0e6;\n",
        "            color:  #000000;\n",
        "        }#T_c227c_row0_col14,#T_c227c_row2_col13,#T_c227c_row13_col2,#T_c227c_row14_col0{\n",
        "            background-color:  #e7e3f0;\n",
        "            color:  #000000;\n",
        "        }#T_c227c_row0_col16,#T_c227c_row16_col0{\n",
        "            background-color:  #dddbec;\n",
        "            color:  #000000;\n",
        "        }#T_c227c_row1_col2,#T_c227c_row2_col1{\n",
        "            background-color:  #046096;\n",
        "            color:  #f1f1f1;\n",
        "        }#T_c227c_row1_col3,#T_c227c_row3_col1,#T_c227c_row4_col15,#T_c227c_row6_col15,#T_c227c_row15_col4,#T_c227c_row15_col6{\n",
        "            background-color:  #b1c2de;\n",
        "            color:  #000000;\n",
        "        }#T_c227c_row1_col4,#T_c227c_row4_col1,#T_c227c_row15_col16,#T_c227c_row16_col15{\n",
        "            background-color:  #d4d4e8;\n",
        "            color:  #000000;\n",
        "        }#T_c227c_row1_col5,#T_c227c_row3_col15,#T_c227c_row5_col1,#T_c227c_row15_col3{\n",
        "            background-color:  #cdd0e5;\n",
        "            color:  #000000;\n",
        "        }#T_c227c_row1_col6,#T_c227c_row1_col11,#T_c227c_row2_col11,#T_c227c_row6_col1,#T_c227c_row11_col1,#T_c227c_row11_col2{\n",
        "            background-color:  #efe9f3;\n",
        "            color:  #000000;\n",
        "        }#T_c227c_row1_col7,#T_c227c_row3_col10,#T_c227c_row7_col1,#T_c227c_row10_col3{\n",
        "            background-color:  #e6e2ef;\n",
        "            color:  #000000;\n",
        "        }#T_c227c_row1_col8,#T_c227c_row8_col1{\n",
        "            background-color:  #dfddec;\n",
        "            color:  #000000;\n",
        "        }#T_c227c_row1_col9,#T_c227c_row9_col1{\n",
        "            background-color:  #b8c6e0;\n",
        "            color:  #000000;\n",
        "        }#T_c227c_row1_col12,#T_c227c_row2_col6,#T_c227c_row3_col4,#T_c227c_row3_col8,#T_c227c_row4_col3,#T_c227c_row6_col2,#T_c227c_row8_col3,#T_c227c_row12_col1{\n",
        "            background-color:  #e9e5f1;\n",
        "            color:  #000000;\n",
        "        }#T_c227c_row1_col13,#T_c227c_row13_col1{\n",
        "            background-color:  #e8e4f0;\n",
        "            color:  #000000;\n",
        "        }#T_c227c_row1_col14,#T_c227c_row3_col5,#T_c227c_row5_col3,#T_c227c_row14_col1{\n",
        "            background-color:  #f3edf5;\n",
        "            color:  #000000;\n",
        "        }#T_c227c_row1_col15,#T_c227c_row15_col1{\n",
        "            background-color:  #c5cce3;\n",
        "            color:  #000000;\n",
        "        }#T_c227c_row1_col16,#T_c227c_row3_col7,#T_c227c_row7_col3,#T_c227c_row16_col1{\n",
        "            background-color:  #e0deed;\n",
        "            color:  #000000;\n",
        "        }#T_c227c_row2_col3,#T_c227c_row3_col2,#T_c227c_row6_col14,#T_c227c_row14_col6{\n",
        "            background-color:  #6ba5cd;\n",
        "            color:  #000000;\n",
        "        }#T_c227c_row2_col8,#T_c227c_row8_col2{\n",
        "            background-color:  #dbdaeb;\n",
        "            color:  #000000;\n",
        "        }#T_c227c_row2_col9,#T_c227c_row9_col2{\n",
        "            background-color:  #bfc9e1;\n",
        "            color:  #000000;\n",
        "        }#T_c227c_row2_col10,#T_c227c_row2_col16,#T_c227c_row10_col2,#T_c227c_row16_col2{\n",
        "            background-color:  #e2dfee;\n",
        "            color:  #000000;\n",
        "        }#T_c227c_row2_col12,#T_c227c_row12_col2{\n",
        "            background-color:  #ece7f2;\n",
        "            color:  #000000;\n",
        "        }#T_c227c_row2_col14,#T_c227c_row3_col14,#T_c227c_row14_col2,#T_c227c_row14_col3{\n",
        "            background-color:  #e5e1ef;\n",
        "            color:  #000000;\n",
        "        }#T_c227c_row2_col15,#T_c227c_row15_col2{\n",
        "            background-color:  #b7c5df;\n",
        "            color:  #000000;\n",
        "        }#T_c227c_row3_col6,#T_c227c_row6_col3{\n",
        "            background-color:  #eee8f3;\n",
        "            color:  #000000;\n",
        "        }#T_c227c_row3_col9,#T_c227c_row9_col3{\n",
        "            background-color:  #b9c6e0;\n",
        "            color:  #000000;\n",
        "        }#T_c227c_row3_col12,#T_c227c_row12_col3{\n",
        "            background-color:  #f4eef6;\n",
        "            color:  #000000;\n",
        "        }#T_c227c_row3_col13,#T_c227c_row13_col3{\n",
        "            background-color:  #dedcec;\n",
        "            color:  #000000;\n",
        "        }#T_c227c_row3_col16,#T_c227c_row16_col3{\n",
        "            background-color:  #ede7f2;\n",
        "            color:  #000000;\n",
        "        }#T_c227c_row4_col5,#T_c227c_row5_col4,#T_c227c_row9_col12,#T_c227c_row12_col9{\n",
        "            background-color:  #94b6d7;\n",
        "            color:  #000000;\n",
        "        }#T_c227c_row4_col6,#T_c227c_row6_col4{\n",
        "            background-color:  #84b0d3;\n",
        "            color:  #000000;\n",
        "        }#T_c227c_row4_col7,#T_c227c_row7_col4{\n",
        "            background-color:  #6fa7ce;\n",
        "            color:  #000000;\n",
        "        }#T_c227c_row4_col8,#T_c227c_row8_col4{\n",
        "            background-color:  #5a9ec9;\n",
        "            color:  #000000;\n",
        "        }#T_c227c_row4_col9,#T_c227c_row9_col4{\n",
        "            background-color:  #b4c4df;\n",
        "            color:  #000000;\n",
        "        }#T_c227c_row4_col10,#T_c227c_row10_col4{\n",
        "            background-color:  #9fbad9;\n",
        "            color:  #000000;\n",
        "        }#T_c227c_row4_col11,#T_c227c_row11_col4{\n",
        "            background-color:  #63a2cb;\n",
        "            color:  #000000;\n",
        "        }#T_c227c_row4_col12,#T_c227c_row12_col4{\n",
        "            background-color:  #4897c4;\n",
        "            color:  #000000;\n",
        "        }#T_c227c_row4_col13,#T_c227c_row8_col9,#T_c227c_row9_col8,#T_c227c_row13_col4{\n",
        "            background-color:  #7dacd1;\n",
        "            color:  #000000;\n",
        "        }#T_c227c_row4_col14,#T_c227c_row14_col4{\n",
        "            background-color:  #89b1d4;\n",
        "            color:  #000000;\n",
        "        }#T_c227c_row4_col16,#T_c227c_row16_col4{\n",
        "            background-color:  #69a5cc;\n",
        "            color:  #000000;\n",
        "        }#T_c227c_row5_col6,#T_c227c_row6_col5{\n",
        "            background-color:  #549cc7;\n",
        "            color:  #000000;\n",
        "        }#T_c227c_row5_col7,#T_c227c_row5_col11,#T_c227c_row7_col5,#T_c227c_row7_col14,#T_c227c_row11_col5,#T_c227c_row14_col7{\n",
        "            background-color:  #2d8abd;\n",
        "            color:  #000000;\n",
        "        }#T_c227c_row5_col8,#T_c227c_row8_col5{\n",
        "            background-color:  #a5bddb;\n",
        "            color:  #000000;\n",
        "        }#T_c227c_row5_col10,#T_c227c_row10_col5{\n",
        "            background-color:  #569dc8;\n",
        "            color:  #000000;\n",
        "        }#T_c227c_row5_col12,#T_c227c_row12_col5{\n",
        "            background-color:  #1b7eb7;\n",
        "            color:  #000000;\n",
        "        }#T_c227c_row5_col13,#T_c227c_row13_col5{\n",
        "            background-color:  #4496c3;\n",
        "            color:  #000000;\n",
        "        }#T_c227c_row5_col14,#T_c227c_row14_col5{\n",
        "            background-color:  #a1bbda;\n",
        "            color:  #000000;\n",
        "        }#T_c227c_row5_col15,#T_c227c_row15_col5{\n",
        "            background-color:  #93b5d6;\n",
        "            color:  #000000;\n",
        "        }#T_c227c_row5_col16,#T_c227c_row16_col5{\n",
        "            background-color:  #4697c4;\n",
        "            color:  #000000;\n",
        "        }#T_c227c_row6_col7,#T_c227c_row7_col6{\n",
        "            background-color:  #2a88bc;\n",
        "            color:  #000000;\n",
        "        }#T_c227c_row6_col8,#T_c227c_row8_col6{\n",
        "            background-color:  #045d92;\n",
        "            color:  #f1f1f1;\n",
        "        }#T_c227c_row6_col9,#T_c227c_row9_col6{\n",
        "            background-color:  #9cb9d9;\n",
        "            color:  #000000;\n",
        "        }#T_c227c_row6_col10,#T_c227c_row8_col12,#T_c227c_row10_col6,#T_c227c_row12_col8{\n",
        "            background-color:  #167bb6;\n",
        "            color:  #000000;\n",
        "        }#T_c227c_row6_col11,#T_c227c_row10_col12,#T_c227c_row11_col6,#T_c227c_row12_col10{\n",
        "            background-color:  #2182b9;\n",
        "            color:  #000000;\n",
        "        }#T_c227c_row6_col12,#T_c227c_row12_col6{\n",
        "            background-color:  #157ab5;\n",
        "            color:  #000000;\n",
        "        }#T_c227c_row6_col13,#T_c227c_row13_col6{\n",
        "            background-color:  #3d93c2;\n",
        "            color:  #000000;\n",
        "        }#T_c227c_row6_col16,#T_c227c_row16_col6{\n",
        "            background-color:  #045a8d;\n",
        "            color:  #f1f1f1;\n",
        "        }#T_c227c_row7_col8,#T_c227c_row8_col7,#T_c227c_row10_col11,#T_c227c_row11_col10{\n",
        "            background-color:  #2484ba;\n",
        "            color:  #000000;\n",
        "        }#T_c227c_row7_col9,#T_c227c_row9_col7{\n",
        "            background-color:  #8fb4d6;\n",
        "            color:  #000000;\n",
        "        }#T_c227c_row7_col10,#T_c227c_row10_col7{\n",
        "            background-color:  #2081b9;\n",
        "            color:  #000000;\n",
        "        }#T_c227c_row7_col11,#T_c227c_row11_col7{\n",
        "            background-color:  #1278b4;\n",
        "            color:  #f1f1f1;\n",
        "        }#T_c227c_row7_col12,#T_c227c_row12_col7{\n",
        "            background-color:  #04649d;\n",
        "            color:  #f1f1f1;\n",
        "        }#T_c227c_row7_col13,#T_c227c_row13_col7{\n",
        "            background-color:  #045e93;\n",
        "            color:  #f1f1f1;\n",
        "        }#T_c227c_row7_col15,#T_c227c_row15_col7{\n",
        "            background-color:  #8eb3d5;\n",
        "            color:  #000000;\n",
        "        }#T_c227c_row7_col16,#T_c227c_row16_col7{\n",
        "            background-color:  #056ba9;\n",
        "            color:  #f1f1f1;\n",
        "        }#T_c227c_row8_col10,#T_c227c_row10_col8,#T_c227c_row10_col13,#T_c227c_row13_col10{\n",
        "            background-color:  #3b92c1;\n",
        "            color:  #000000;\n",
        "        }#T_c227c_row8_col11,#T_c227c_row8_col13,#T_c227c_row11_col8,#T_c227c_row13_col8{\n",
        "            background-color:  #3991c1;\n",
        "            color:  #000000;\n",
        "        }#T_c227c_row8_col14,#T_c227c_row14_col8{\n",
        "            background-color:  #7eadd1;\n",
        "            color:  #000000;\n",
        "        }#T_c227c_row8_col16,#T_c227c_row16_col8{\n",
        "            background-color:  #045788;\n",
        "            color:  #f1f1f1;\n",
        "        }#T_c227c_row9_col10,#T_c227c_row10_col9,#T_c227c_row11_col13,#T_c227c_row13_col11{\n",
        "            background-color:  #2c89bd;\n",
        "            color:  #000000;\n",
        "        }#T_c227c_row9_col11,#T_c227c_row11_col9{\n",
        "            background-color:  #96b6d7;\n",
        "            color:  #000000;\n",
        "        }#T_c227c_row9_col13,#T_c227c_row9_col14,#T_c227c_row13_col9,#T_c227c_row14_col9{\n",
        "            background-color:  #99b8d8;\n",
        "            color:  #000000;\n",
        "        }#T_c227c_row9_col16,#T_c227c_row16_col9{\n",
        "            background-color:  #4295c3;\n",
        "            color:  #000000;\n",
        "        }#T_c227c_row10_col14,#T_c227c_row13_col14,#T_c227c_row14_col10,#T_c227c_row14_col13{\n",
        "            background-color:  #328dbf;\n",
        "            color:  #000000;\n",
        "        }#T_c227c_row10_col15,#T_c227c_row15_col10{\n",
        "            background-color:  #c0c9e2;\n",
        "            color:  #000000;\n",
        "        }#T_c227c_row10_col16,#T_c227c_row16_col10{\n",
        "            background-color:  #056faf;\n",
        "            color:  #f1f1f1;\n",
        "        }#T_c227c_row11_col12,#T_c227c_row12_col11{\n",
        "            background-color:  #056ead;\n",
        "            color:  #f1f1f1;\n",
        "        }#T_c227c_row11_col14,#T_c227c_row12_col14,#T_c227c_row14_col11,#T_c227c_row14_col12{\n",
        "            background-color:  #3f93c2;\n",
        "            color:  #000000;\n",
        "        }#T_c227c_row11_col15,#T_c227c_row12_col15,#T_c227c_row15_col11,#T_c227c_row15_col12{\n",
        "            background-color:  #97b7d7;\n",
        "            color:  #000000;\n",
        "        }#T_c227c_row11_col16,#T_c227c_row16_col11{\n",
        "            background-color:  #1077b4;\n",
        "            color:  #f1f1f1;\n",
        "        }#T_c227c_row12_col13,#T_c227c_row13_col12{\n",
        "            background-color:  #05659f;\n",
        "            color:  #f1f1f1;\n",
        "        }#T_c227c_row12_col16,#T_c227c_row16_col12{\n",
        "            background-color:  #04629a;\n",
        "            color:  #f1f1f1;\n",
        "        }#T_c227c_row13_col15,#T_c227c_row15_col13{\n",
        "            background-color:  #5ea0ca;\n",
        "            color:  #000000;\n",
        "        }#T_c227c_row13_col16,#T_c227c_row16_col13{\n",
        "            background-color:  #0570b0;\n",
        "            color:  #f1f1f1;\n",
        "        }#T_c227c_row14_col15,#T_c227c_row15_col14{\n",
        "            background-color:  #3790c0;\n",
        "            color:  #000000;\n",
        "        }#T_c227c_row14_col16,#T_c227c_row16_col14{\n",
        "            background-color:  #78abd0;\n",
        "            color:  #000000;\n",
        "        }</style><table id=\"T_c227c_\" ><thead>    <tr>        <th class=\"blank level0\" ></th>        <th class=\"col_heading level0 col0\" >Rt</th>        <th class=\"col_heading level0 col1\" >theta</th>        <th class=\"col_heading level0 col2\" >kappa</th>        <th class=\"col_heading level0 col3\" >rho</th>        <th class=\"col_heading level0 col4\" >sigma</th>        <th class=\"col_heading level0 col5\" >School_closing</th>        <th class=\"col_heading level0 col6\" >Workplace_closing</th>        <th class=\"col_heading level0 col7\" >Cancel_events</th>        <th class=\"col_heading level0 col8\" >Gatherings_restrictions</th>        <th class=\"col_heading level0 col9\" >Transport_closing</th>        <th class=\"col_heading level0 col10\" >Stay_home_restrictions</th>        <th class=\"col_heading level0 col11\" >Internal_movement_restrictions</th>        <th class=\"col_heading level0 col12\" >International_movement_restrictions</th>        <th class=\"col_heading level0 col13\" >Information_campaigns</th>        <th class=\"col_heading level0 col14\" >Testing_policy</th>        <th class=\"col_heading level0 col15\" >Contact_tracing</th>        <th class=\"col_heading level0 col16\" >Stringency_index</th>    </tr></thead><tbody>\n",
        "                <tr>\n",
        "                        <th id=\"T_c227c_level0_row0\" class=\"row_heading level0 row0\" >Rt</th>\n",
        "                        <td id=\"T_c227c_row0_col0\" class=\"data row0 col0\" >1.000000</td>\n",
        "                        <td id=\"T_c227c_row0_col1\" class=\"data row0 col1\" >-0.141088</td>\n",
        "                        <td id=\"T_c227c_row0_col2\" class=\"data row0 col2\" >-0.067383</td>\n",
        "                        <td id=\"T_c227c_row0_col3\" class=\"data row0 col3\" >0.643913</td>\n",
        "                        <td id=\"T_c227c_row0_col4\" class=\"data row0 col4\" >-0.461810</td>\n",
        "                        <td id=\"T_c227c_row0_col5\" class=\"data row0 col5\" >-0.163663</td>\n",
        "                        <td id=\"T_c227c_row0_col6\" class=\"data row0 col6\" >-0.148999</td>\n",
        "                        <td id=\"T_c227c_row0_col7\" class=\"data row0 col7\" >-0.112341</td>\n",
        "                        <td id=\"T_c227c_row0_col8\" class=\"data row0 col8\" >-0.193918</td>\n",
        "                        <td id=\"T_c227c_row0_col9\" class=\"data row0 col9\" >-0.068355</td>\n",
        "                        <td id=\"T_c227c_row0_col10\" class=\"data row0 col10\" >-0.207674</td>\n",
        "                        <td id=\"T_c227c_row0_col11\" class=\"data row0 col11\" >-0.289354</td>\n",
        "                        <td id=\"T_c227c_row0_col12\" class=\"data row0 col12\" >-0.316774</td>\n",
        "                        <td id=\"T_c227c_row0_col13\" class=\"data row0 col13\" >-0.087826</td>\n",
        "                        <td id=\"T_c227c_row0_col14\" class=\"data row0 col14\" >-0.250080</td>\n",
        "                        <td id=\"T_c227c_row0_col15\" class=\"data row0 col15\" >-0.198841</td>\n",
        "                        <td id=\"T_c227c_row0_col16\" class=\"data row0 col16\" >-0.179574</td>\n",
        "            </tr>\n",
        "            <tr>\n",
        "                        <th id=\"T_c227c_level0_row1\" class=\"row_heading level0 row1\" >theta</th>\n",
        "                        <td id=\"T_c227c_row1_col0\" class=\"data row1 col0\" >-0.141088</td>\n",
        "                        <td id=\"T_c227c_row1_col1\" class=\"data row1 col1\" >1.000000</td>\n",
        "                        <td id=\"T_c227c_row1_col2\" class=\"data row1 col2\" >0.770341</td>\n",
        "                        <td id=\"T_c227c_row1_col3\" class=\"data row1 col3\" >0.038800</td>\n",
        "                        <td id=\"T_c227c_row1_col4\" class=\"data row1 col4\" >-0.120697</td>\n",
        "                        <td id=\"T_c227c_row1_col5\" class=\"data row1 col5\" >-0.084128</td>\n",
        "                        <td id=\"T_c227c_row1_col6\" class=\"data row1 col6\" >-0.302469</td>\n",
        "                        <td id=\"T_c227c_row1_col7\" class=\"data row1 col7\" >-0.233811</td>\n",
        "                        <td id=\"T_c227c_row1_col8\" class=\"data row1 col8\" >-0.190129</td>\n",
        "                        <td id=\"T_c227c_row1_col9\" class=\"data row1 col9\" >0.010431</td>\n",
        "                        <td id=\"T_c227c_row1_col10\" class=\"data row1 col10\" >-0.286718</td>\n",
        "                        <td id=\"T_c227c_row1_col11\" class=\"data row1 col11\" >-0.302890</td>\n",
        "                        <td id=\"T_c227c_row1_col12\" class=\"data row1 col12\" >-0.261145</td>\n",
        "                        <td id=\"T_c227c_row1_col13\" class=\"data row1 col13\" >-0.254980</td>\n",
        "                        <td id=\"T_c227c_row1_col14\" class=\"data row1 col14\" >-0.342293</td>\n",
        "                        <td id=\"T_c227c_row1_col15\" class=\"data row1 col15\" >-0.048032</td>\n",
        "                        <td id=\"T_c227c_row1_col16\" class=\"data row1 col16\" >-0.199722</td>\n",
        "            </tr>\n",
        "            <tr>\n",
        "                        <th id=\"T_c227c_level0_row2\" class=\"row_heading level0 row2\" >kappa</th>\n",
        "                        <td id=\"T_c227c_row2_col0\" class=\"data row2 col0\" >-0.067383</td>\n",
        "                        <td id=\"T_c227c_row2_col1\" class=\"data row2 col1\" >0.770341</td>\n",
        "                        <td id=\"T_c227c_row2_col2\" class=\"data row2 col2\" >1.000000</td>\n",
        "                        <td id=\"T_c227c_row2_col3\" class=\"data row2 col3\" >0.294846</td>\n",
        "                        <td id=\"T_c227c_row2_col4\" class=\"data row2 col4\" >-0.161066</td>\n",
        "                        <td id=\"T_c227c_row2_col5\" class=\"data row2 col5\" >-0.149889</td>\n",
        "                        <td id=\"T_c227c_row2_col6\" class=\"data row2 col6\" >-0.260188</td>\n",
        "                        <td id=\"T_c227c_row2_col7\" class=\"data row2 col7\" >-0.209676</td>\n",
        "                        <td id=\"T_c227c_row2_col8\" class=\"data row2 col8\" >-0.168916</td>\n",
        "                        <td id=\"T_c227c_row2_col9\" class=\"data row2 col9\" >-0.016875</td>\n",
        "                        <td id=\"T_c227c_row2_col10\" class=\"data row2 col10\" >-0.214530</td>\n",
        "                        <td id=\"T_c227c_row2_col11\" class=\"data row2 col11\" >-0.302907</td>\n",
        "                        <td id=\"T_c227c_row2_col12\" class=\"data row2 col12\" >-0.275623</td>\n",
        "                        <td id=\"T_c227c_row2_col13\" class=\"data row2 col13\" >-0.247482</td>\n",
        "                        <td id=\"T_c227c_row2_col14\" class=\"data row2 col14\" >-0.229466</td>\n",
        "                        <td id=\"T_c227c_row2_col15\" class=\"data row2 col15\" >0.016667</td>\n",
        "                        <td id=\"T_c227c_row2_col16\" class=\"data row2 col16\" >-0.211648</td>\n",
        "            </tr>\n",
        "            <tr>\n",
        "                        <th id=\"T_c227c_level0_row3\" class=\"row_heading level0 row3\" >rho</th>\n",
        "                        <td id=\"T_c227c_row3_col0\" class=\"data row3 col0\" >0.643913</td>\n",
        "                        <td id=\"T_c227c_row3_col1\" class=\"data row3 col1\" >0.038800</td>\n",
        "                        <td id=\"T_c227c_row3_col2\" class=\"data row3 col2\" >0.294846</td>\n",
        "                        <td id=\"T_c227c_row3_col3\" class=\"data row3 col3\" >1.000000</td>\n",
        "                        <td id=\"T_c227c_row3_col4\" class=\"data row3 col4\" >-0.258782</td>\n",
        "                        <td id=\"T_c227c_row3_col5\" class=\"data row3 col5\" >-0.341998</td>\n",
        "                        <td id=\"T_c227c_row3_col6\" class=\"data row3 col6\" >-0.291716</td>\n",
        "                        <td id=\"T_c227c_row3_col7\" class=\"data row3 col7\" >-0.201122</td>\n",
        "                        <td id=\"T_c227c_row3_col8\" class=\"data row3 col8\" >-0.257924</td>\n",
        "                        <td id=\"T_c227c_row3_col9\" class=\"data row3 col9\" >0.002101</td>\n",
        "                        <td id=\"T_c227c_row3_col10\" class=\"data row3 col10\" >-0.238831</td>\n",
        "                        <td id=\"T_c227c_row3_col11\" class=\"data row3 col11\" >-0.309969</td>\n",
        "                        <td id=\"T_c227c_row3_col12\" class=\"data row3 col12\" >-0.355056</td>\n",
        "                        <td id=\"T_c227c_row3_col13\" class=\"data row3 col13\" >-0.187184</td>\n",
        "                        <td id=\"T_c227c_row3_col14\" class=\"data row3 col14\" >-0.232960</td>\n",
        "                        <td id=\"T_c227c_row3_col15\" class=\"data row3 col15\" >-0.083124</td>\n",
        "                        <td id=\"T_c227c_row3_col16\" class=\"data row3 col16\" >-0.279345</td>\n",
        "            </tr>\n",
        "            <tr>\n",
        "                        <th id=\"T_c227c_level0_row4\" class=\"row_heading level0 row4\" >sigma</th>\n",
        "                        <td id=\"T_c227c_row4_col0\" class=\"data row4 col0\" >-0.461810</td>\n",
        "                        <td id=\"T_c227c_row4_col1\" class=\"data row4 col1\" >-0.120697</td>\n",
        "                        <td id=\"T_c227c_row4_col2\" class=\"data row4 col2\" >-0.161066</td>\n",
        "                        <td id=\"T_c227c_row4_col3\" class=\"data row4 col3\" >-0.258782</td>\n",
        "                        <td id=\"T_c227c_row4_col4\" class=\"data row4 col4\" >1.000000</td>\n",
        "                        <td id=\"T_c227c_row4_col5\" class=\"data row4 col5\" >0.151328</td>\n",
        "                        <td id=\"T_c227c_row4_col6\" class=\"data row4 col6\" >0.207185</td>\n",
        "                        <td id=\"T_c227c_row4_col7\" class=\"data row4 col7\" >0.285339</td>\n",
        "                        <td id=\"T_c227c_row4_col8\" class=\"data row4 col8\" >0.344795</td>\n",
        "                        <td id=\"T_c227c_row4_col9\" class=\"data row4 col9\" >0.028541</td>\n",
        "                        <td id=\"T_c227c_row4_col10\" class=\"data row4 col10\" >0.109551</td>\n",
        "                        <td id=\"T_c227c_row4_col11\" class=\"data row4 col11\" >0.320297</td>\n",
        "                        <td id=\"T_c227c_row4_col12\" class=\"data row4 col12\" >0.399392</td>\n",
        "                        <td id=\"T_c227c_row4_col13\" class=\"data row4 col13\" >0.236144</td>\n",
        "                        <td id=\"T_c227c_row4_col14\" class=\"data row4 col14\" >0.193664</td>\n",
        "                        <td id=\"T_c227c_row4_col15\" class=\"data row4 col15\" >0.036316</td>\n",
        "                        <td id=\"T_c227c_row4_col16\" class=\"data row4 col16\" >0.299906</td>\n",
        "            </tr>\n",
        "            <tr>\n",
        "                        <th id=\"T_c227c_level0_row5\" class=\"row_heading level0 row5\" >School_closing</th>\n",
        "                        <td id=\"T_c227c_row5_col0\" class=\"data row5 col0\" >-0.163663</td>\n",
        "                        <td id=\"T_c227c_row5_col1\" class=\"data row5 col1\" >-0.084128</td>\n",
        "                        <td id=\"T_c227c_row5_col2\" class=\"data row5 col2\" >-0.149889</td>\n",
        "                        <td id=\"T_c227c_row5_col3\" class=\"data row5 col3\" >-0.341998</td>\n",
        "                        <td id=\"T_c227c_row5_col4\" class=\"data row5 col4\" >0.151328</td>\n",
        "                        <td id=\"T_c227c_row5_col5\" class=\"data row5 col5\" >1.000000</td>\n",
        "                        <td id=\"T_c227c_row5_col6\" class=\"data row5 col6\" >0.365898</td>\n",
        "                        <td id=\"T_c227c_row5_col7\" class=\"data row5 col7\" >0.482437</td>\n",
        "                        <td id=\"T_c227c_row5_col8\" class=\"data row5 col8\" >0.087141</td>\n",
        "                        <td id=\"T_c227c_row5_col9\" class=\"data row5 col9\" >-0.111774</td>\n",
        "                        <td id=\"T_c227c_row5_col10\" class=\"data row5 col10\" >0.355973</td>\n",
        "                        <td id=\"T_c227c_row5_col11\" class=\"data row5 col11\" >0.482761</td>\n",
        "                        <td id=\"T_c227c_row5_col12\" class=\"data row5 col12\" >0.549324</td>\n",
        "                        <td id=\"T_c227c_row5_col13\" class=\"data row5 col13\" >0.409543</td>\n",
        "                        <td id=\"T_c227c_row5_col14\" class=\"data row5 col14\" >0.104371</td>\n",
        "                        <td id=\"T_c227c_row5_col15\" class=\"data row5 col15\" >0.159894</td>\n",
        "                        <td id=\"T_c227c_row5_col16\" class=\"data row5 col16\" >0.401606</td>\n",
        "            </tr>\n",
        "            <tr>\n",
        "                        <th id=\"T_c227c_level0_row6\" class=\"row_heading level0 row6\" >Workplace_closing</th>\n",
        "                        <td id=\"T_c227c_row6_col0\" class=\"data row6 col0\" >-0.148999</td>\n",
        "                        <td id=\"T_c227c_row6_col1\" class=\"data row6 col1\" >-0.302469</td>\n",
        "                        <td id=\"T_c227c_row6_col2\" class=\"data row6 col2\" >-0.260188</td>\n",
        "                        <td id=\"T_c227c_row6_col3\" class=\"data row6 col3\" >-0.291716</td>\n",
        "                        <td id=\"T_c227c_row6_col4\" class=\"data row6 col4\" >0.207185</td>\n",
        "                        <td id=\"T_c227c_row6_col5\" class=\"data row6 col5\" >0.365898</td>\n",
        "                        <td id=\"T_c227c_row6_col6\" class=\"data row6 col6\" >1.000000</td>\n",
        "                        <td id=\"T_c227c_row6_col7\" class=\"data row6 col7\" >0.497370</td>\n",
        "                        <td id=\"T_c227c_row6_col8\" class=\"data row6 col8\" >0.794301</td>\n",
        "                        <td id=\"T_c227c_row6_col9\" class=\"data row6 col9\" >0.123957</td>\n",
        "                        <td id=\"T_c227c_row6_col10\" class=\"data row6 col10\" >0.567931</td>\n",
        "                        <td id=\"T_c227c_row6_col11\" class=\"data row6 col11\" >0.530298</td>\n",
        "                        <td id=\"T_c227c_row6_col12\" class=\"data row6 col12\" >0.576359</td>\n",
        "                        <td id=\"T_c227c_row6_col13\" class=\"data row6 col13\" >0.429427</td>\n",
        "                        <td id=\"T_c227c_row6_col14\" class=\"data row6 col14\" >0.296655</td>\n",
        "                        <td id=\"T_c227c_row6_col15\" class=\"data row6 col15\" >0.035325</td>\n",
        "                        <td id=\"T_c227c_row6_col16\" class=\"data row6 col16\" >0.813387</td>\n",
        "            </tr>\n",
        "            <tr>\n",
        "                        <th id=\"T_c227c_level0_row7\" class=\"row_heading level0 row7\" >Cancel_events</th>\n",
        "                        <td id=\"T_c227c_row7_col0\" class=\"data row7 col0\" >-0.112341</td>\n",
        "                        <td id=\"T_c227c_row7_col1\" class=\"data row7 col1\" >-0.233811</td>\n",
        "                        <td id=\"T_c227c_row7_col2\" class=\"data row7 col2\" >-0.209676</td>\n",
        "                        <td id=\"T_c227c_row7_col3\" class=\"data row7 col3\" >-0.201122</td>\n",
        "                        <td id=\"T_c227c_row7_col4\" class=\"data row7 col4\" >0.285339</td>\n",
        "                        <td id=\"T_c227c_row7_col5\" class=\"data row7 col5\" >0.482437</td>\n",
        "                        <td id=\"T_c227c_row7_col6\" class=\"data row7 col6\" >0.497370</td>\n",
        "                        <td id=\"T_c227c_row7_col7\" class=\"data row7 col7\" >1.000000</td>\n",
        "                        <td id=\"T_c227c_row7_col8\" class=\"data row7 col8\" >0.516297</td>\n",
        "                        <td id=\"T_c227c_row7_col9\" class=\"data row7 col9\" >0.169832</td>\n",
        "                        <td id=\"T_c227c_row7_col10\" class=\"data row7 col10\" >0.536244</td>\n",
        "                        <td id=\"T_c227c_row7_col11\" class=\"data row7 col11\" >0.583224</td>\n",
        "                        <td id=\"T_c227c_row7_col12\" class=\"data row7 col12\" >0.736138</td>\n",
        "                        <td id=\"T_c227c_row7_col13\" class=\"data row7 col13\" >0.784533</td>\n",
        "                        <td id=\"T_c227c_row7_col14\" class=\"data row7 col14\" >0.483228</td>\n",
        "                        <td id=\"T_c227c_row7_col15\" class=\"data row7 col15\" >0.176977</td>\n",
        "                        <td id=\"T_c227c_row7_col16\" class=\"data row7 col16\" >0.669465</td>\n",
        "            </tr>\n",
        "            <tr>\n",
        "                        <th id=\"T_c227c_level0_row8\" class=\"row_heading level0 row8\" >Gatherings_restrictions</th>\n",
        "                        <td id=\"T_c227c_row8_col0\" class=\"data row8 col0\" >-0.193918</td>\n",
        "                        <td id=\"T_c227c_row8_col1\" class=\"data row8 col1\" >-0.190129</td>\n",
        "                        <td id=\"T_c227c_row8_col2\" class=\"data row8 col2\" >-0.168916</td>\n",
        "                        <td id=\"T_c227c_row8_col3\" class=\"data row8 col3\" >-0.257924</td>\n",
        "                        <td id=\"T_c227c_row8_col4\" class=\"data row8 col4\" >0.344795</td>\n",
        "                        <td id=\"T_c227c_row8_col5\" class=\"data row8 col5\" >0.087141</td>\n",
        "                        <td id=\"T_c227c_row8_col6\" class=\"data row8 col6\" >0.794301</td>\n",
        "                        <td id=\"T_c227c_row8_col7\" class=\"data row8 col7\" >0.516297</td>\n",
        "                        <td id=\"T_c227c_row8_col8\" class=\"data row8 col8\" >1.000000</td>\n",
        "                        <td id=\"T_c227c_row8_col9\" class=\"data row8 col9\" >0.239243</td>\n",
        "                        <td id=\"T_c227c_row8_col10\" class=\"data row8 col10\" >0.435147</td>\n",
        "                        <td id=\"T_c227c_row8_col11\" class=\"data row8 col11\" >0.441999</td>\n",
        "                        <td id=\"T_c227c_row8_col12\" class=\"data row8 col12\" >0.567361</td>\n",
        "                        <td id=\"T_c227c_row8_col13\" class=\"data row8 col13\" >0.445487</td>\n",
        "                        <td id=\"T_c227c_row8_col14\" class=\"data row8 col14\" >0.233708</td>\n",
        "                        <td id=\"T_c227c_row8_col15\" class=\"data row8 col15\" >-0.062284</td>\n",
        "                        <td id=\"T_c227c_row8_col16\" class=\"data row8 col16\" >0.833042</td>\n",
        "            </tr>\n",
        "            <tr>\n",
        "                        <th id=\"T_c227c_level0_row9\" class=\"row_heading level0 row9\" >Transport_closing</th>\n",
        "                        <td id=\"T_c227c_row9_col0\" class=\"data row9 col0\" >-0.068355</td>\n",
        "                        <td id=\"T_c227c_row9_col1\" class=\"data row9 col1\" >0.010431</td>\n",
        "                        <td id=\"T_c227c_row9_col2\" class=\"data row9 col2\" >-0.016875</td>\n",
        "                        <td id=\"T_c227c_row9_col3\" class=\"data row9 col3\" >0.002101</td>\n",
        "                        <td id=\"T_c227c_row9_col4\" class=\"data row9 col4\" >0.028541</td>\n",
        "                        <td id=\"T_c227c_row9_col5\" class=\"data row9 col5\" >-0.111774</td>\n",
        "                        <td id=\"T_c227c_row9_col6\" class=\"data row9 col6\" >0.123957</td>\n",
        "                        <td id=\"T_c227c_row9_col7\" class=\"data row9 col7\" >0.169832</td>\n",
        "                        <td id=\"T_c227c_row9_col8\" class=\"data row9 col8\" >0.239243</td>\n",
        "                        <td id=\"T_c227c_row9_col9\" class=\"data row9 col9\" >1.000000</td>\n",
        "                        <td id=\"T_c227c_row9_col10\" class=\"data row9 col10\" >0.488955</td>\n",
        "                        <td id=\"T_c227c_row9_col11\" class=\"data row9 col11\" >0.147343</td>\n",
        "                        <td id=\"T_c227c_row9_col12\" class=\"data row9 col12\" >0.150860</td>\n",
        "                        <td id=\"T_c227c_row9_col13\" class=\"data row9 col13\" >0.133496</td>\n",
        "                        <td id=\"T_c227c_row9_col14\" class=\"data row9 col14\" >0.137523</td>\n",
        "                        <td id=\"T_c227c_row9_col15\" class=\"data row9 col15\" >-0.458751</td>\n",
        "                        <td id=\"T_c227c_row9_col16\" class=\"data row9 col16\" >0.416267</td>\n",
        "            </tr>\n",
        "            <tr>\n",
        "                        <th id=\"T_c227c_level0_row10\" class=\"row_heading level0 row10\" >Stay_home_restrictions</th>\n",
        "                        <td id=\"T_c227c_row10_col0\" class=\"data row10 col0\" >-0.207674</td>\n",
        "                        <td id=\"T_c227c_row10_col1\" class=\"data row10 col1\" >-0.286718</td>\n",
        "                        <td id=\"T_c227c_row10_col2\" class=\"data row10 col2\" >-0.214530</td>\n",
        "                        <td id=\"T_c227c_row10_col3\" class=\"data row10 col3\" >-0.238831</td>\n",
        "                        <td id=\"T_c227c_row10_col4\" class=\"data row10 col4\" >0.109551</td>\n",
        "                        <td id=\"T_c227c_row10_col5\" class=\"data row10 col5\" >0.355973</td>\n",
        "                        <td id=\"T_c227c_row10_col6\" class=\"data row10 col6\" >0.567931</td>\n",
        "                        <td id=\"T_c227c_row10_col7\" class=\"data row10 col7\" >0.536244</td>\n",
        "                        <td id=\"T_c227c_row10_col8\" class=\"data row10 col8\" >0.435147</td>\n",
        "                        <td id=\"T_c227c_row10_col9\" class=\"data row10 col9\" >0.488955</td>\n",
        "                        <td id=\"T_c227c_row10_col10\" class=\"data row10 col10\" >1.000000</td>\n",
        "                        <td id=\"T_c227c_row10_col11\" class=\"data row10 col11\" >0.514881</td>\n",
        "                        <td id=\"T_c227c_row10_col12\" class=\"data row10 col12\" >0.526603</td>\n",
        "                        <td id=\"T_c227c_row10_col13\" class=\"data row10 col13\" >0.436059</td>\n",
        "                        <td id=\"T_c227c_row10_col14\" class=\"data row10 col14\" >0.464070</td>\n",
        "                        <td id=\"T_c227c_row10_col15\" class=\"data row10 col15\" >-0.022987</td>\n",
        "                        <td id=\"T_c227c_row10_col16\" class=\"data row10 col16\" >0.634720</td>\n",
        "            </tr>\n",
        "            <tr>\n",
        "                        <th id=\"T_c227c_level0_row11\" class=\"row_heading level0 row11\" >Internal_movement_restrictions</th>\n",
        "                        <td id=\"T_c227c_row11_col0\" class=\"data row11 col0\" >-0.289354</td>\n",
        "                        <td id=\"T_c227c_row11_col1\" class=\"data row11 col1\" >-0.302890</td>\n",
        "                        <td id=\"T_c227c_row11_col2\" class=\"data row11 col2\" >-0.302907</td>\n",
        "                        <td id=\"T_c227c_row11_col3\" class=\"data row11 col3\" >-0.309969</td>\n",
        "                        <td id=\"T_c227c_row11_col4\" class=\"data row11 col4\" >0.320297</td>\n",
        "                        <td id=\"T_c227c_row11_col5\" class=\"data row11 col5\" >0.482761</td>\n",
        "                        <td id=\"T_c227c_row11_col6\" class=\"data row11 col6\" >0.530298</td>\n",
        "                        <td id=\"T_c227c_row11_col7\" class=\"data row11 col7\" >0.583224</td>\n",
        "                        <td id=\"T_c227c_row11_col8\" class=\"data row11 col8\" >0.441999</td>\n",
        "                        <td id=\"T_c227c_row11_col9\" class=\"data row11 col9\" >0.147343</td>\n",
        "                        <td id=\"T_c227c_row11_col10\" class=\"data row11 col10\" >0.514881</td>\n",
        "                        <td id=\"T_c227c_row11_col11\" class=\"data row11 col11\" >1.000000</td>\n",
        "                        <td id=\"T_c227c_row11_col12\" class=\"data row11 col12\" >0.647668</td>\n",
        "                        <td id=\"T_c227c_row11_col13\" class=\"data row11 col13\" >0.488864</td>\n",
        "                        <td id=\"T_c227c_row11_col14\" class=\"data row11 col14\" >0.426293</td>\n",
        "                        <td id=\"T_c227c_row11_col15\" class=\"data row11 col15\" >0.140573</td>\n",
        "                        <td id=\"T_c227c_row11_col16\" class=\"data row11 col16\" >0.590484</td>\n",
        "            </tr>\n",
        "            <tr>\n",
        "                        <th id=\"T_c227c_level0_row12\" class=\"row_heading level0 row12\" >International_movement_restrictions</th>\n",
        "                        <td id=\"T_c227c_row12_col0\" class=\"data row12 col0\" >-0.316774</td>\n",
        "                        <td id=\"T_c227c_row12_col1\" class=\"data row12 col1\" >-0.261145</td>\n",
        "                        <td id=\"T_c227c_row12_col2\" class=\"data row12 col2\" >-0.275623</td>\n",
        "                        <td id=\"T_c227c_row12_col3\" class=\"data row12 col3\" >-0.355056</td>\n",
        "                        <td id=\"T_c227c_row12_col4\" class=\"data row12 col4\" >0.399392</td>\n",
        "                        <td id=\"T_c227c_row12_col5\" class=\"data row12 col5\" >0.549324</td>\n",
        "                        <td id=\"T_c227c_row12_col6\" class=\"data row12 col6\" >0.576359</td>\n",
        "                        <td id=\"T_c227c_row12_col7\" class=\"data row12 col7\" >0.736138</td>\n",
        "                        <td id=\"T_c227c_row12_col8\" class=\"data row12 col8\" >0.567361</td>\n",
        "                        <td id=\"T_c227c_row12_col9\" class=\"data row12 col9\" >0.150860</td>\n",
        "                        <td id=\"T_c227c_row12_col10\" class=\"data row12 col10\" >0.526603</td>\n",
        "                        <td id=\"T_c227c_row12_col11\" class=\"data row12 col11\" >0.647668</td>\n",
        "                        <td id=\"T_c227c_row12_col12\" class=\"data row12 col12\" >1.000000</td>\n",
        "                        <td id=\"T_c227c_row12_col13\" class=\"data row12 col13\" >0.724976</td>\n",
        "                        <td id=\"T_c227c_row12_col14\" class=\"data row12 col14\" >0.426646</td>\n",
        "                        <td id=\"T_c227c_row12_col15\" class=\"data row12 col15\" >0.139831</td>\n",
        "                        <td id=\"T_c227c_row12_col16\" class=\"data row12 col16\" >0.747877</td>\n",
        "            </tr>\n",
        "            <tr>\n",
        "                        <th id=\"T_c227c_level0_row13\" class=\"row_heading level0 row13\" >Information_campaigns</th>\n",
        "                        <td id=\"T_c227c_row13_col0\" class=\"data row13 col0\" >-0.087826</td>\n",
        "                        <td id=\"T_c227c_row13_col1\" class=\"data row13 col1\" >-0.254980</td>\n",
        "                        <td id=\"T_c227c_row13_col2\" class=\"data row13 col2\" >-0.247482</td>\n",
        "                        <td id=\"T_c227c_row13_col3\" class=\"data row13 col3\" >-0.187184</td>\n",
        "                        <td id=\"T_c227c_row13_col4\" class=\"data row13 col4\" >0.236144</td>\n",
        "                        <td id=\"T_c227c_row13_col5\" class=\"data row13 col5\" >0.409543</td>\n",
        "                        <td id=\"T_c227c_row13_col6\" class=\"data row13 col6\" >0.429427</td>\n",
        "                        <td id=\"T_c227c_row13_col7\" class=\"data row13 col7\" >0.784533</td>\n",
        "                        <td id=\"T_c227c_row13_col8\" class=\"data row13 col8\" >0.445487</td>\n",
        "                        <td id=\"T_c227c_row13_col9\" class=\"data row13 col9\" >0.133496</td>\n",
        "                        <td id=\"T_c227c_row13_col10\" class=\"data row13 col10\" >0.436059</td>\n",
        "                        <td id=\"T_c227c_row13_col11\" class=\"data row13 col11\" >0.488864</td>\n",
        "                        <td id=\"T_c227c_row13_col12\" class=\"data row13 col12\" >0.724976</td>\n",
        "                        <td id=\"T_c227c_row13_col13\" class=\"data row13 col13\" >1.000000</td>\n",
        "                        <td id=\"T_c227c_row13_col14\" class=\"data row13 col14\" >0.463843</td>\n",
        "                        <td id=\"T_c227c_row13_col15\" class=\"data row13 col15\" >0.334455</td>\n",
        "                        <td id=\"T_c227c_row13_col16\" class=\"data row13 col16\" >0.630163</td>\n",
        "            </tr>\n",
        "            <tr>\n",
        "                        <th id=\"T_c227c_level0_row14\" class=\"row_heading level0 row14\" >Testing_policy</th>\n",
        "                        <td id=\"T_c227c_row14_col0\" class=\"data row14 col0\" >-0.250080</td>\n",
        "                        <td id=\"T_c227c_row14_col1\" class=\"data row14 col1\" >-0.342293</td>\n",
        "                        <td id=\"T_c227c_row14_col2\" class=\"data row14 col2\" >-0.229466</td>\n",
        "                        <td id=\"T_c227c_row14_col3\" class=\"data row14 col3\" >-0.232960</td>\n",
        "                        <td id=\"T_c227c_row14_col4\" class=\"data row14 col4\" >0.193664</td>\n",
        "                        <td id=\"T_c227c_row14_col5\" class=\"data row14 col5\" >0.104371</td>\n",
        "                        <td id=\"T_c227c_row14_col6\" class=\"data row14 col6\" >0.296655</td>\n",
        "                        <td id=\"T_c227c_row14_col7\" class=\"data row14 col7\" >0.483228</td>\n",
        "                        <td id=\"T_c227c_row14_col8\" class=\"data row14 col8\" >0.233708</td>\n",
        "                        <td id=\"T_c227c_row14_col9\" class=\"data row14 col9\" >0.137523</td>\n",
        "                        <td id=\"T_c227c_row14_col10\" class=\"data row14 col10\" >0.464070</td>\n",
        "                        <td id=\"T_c227c_row14_col11\" class=\"data row14 col11\" >0.426293</td>\n",
        "                        <td id=\"T_c227c_row14_col12\" class=\"data row14 col12\" >0.426646</td>\n",
        "                        <td id=\"T_c227c_row14_col13\" class=\"data row14 col13\" >0.463843</td>\n",
        "                        <td id=\"T_c227c_row14_col14\" class=\"data row14 col14\" >1.000000</td>\n",
        "                        <td id=\"T_c227c_row14_col15\" class=\"data row14 col15\" >0.446226</td>\n",
        "                        <td id=\"T_c227c_row14_col16\" class=\"data row14 col16\" >0.256778</td>\n",
        "            </tr>\n",
        "            <tr>\n",
        "                        <th id=\"T_c227c_level0_row15\" class=\"row_heading level0 row15\" >Contact_tracing</th>\n",
        "                        <td id=\"T_c227c_row15_col0\" class=\"data row15 col0\" >-0.198841</td>\n",
        "                        <td id=\"T_c227c_row15_col1\" class=\"data row15 col1\" >-0.048032</td>\n",
        "                        <td id=\"T_c227c_row15_col2\" class=\"data row15 col2\" >0.016667</td>\n",
        "                        <td id=\"T_c227c_row15_col3\" class=\"data row15 col3\" >-0.083124</td>\n",
        "                        <td id=\"T_c227c_row15_col4\" class=\"data row15 col4\" >0.036316</td>\n",
        "                        <td id=\"T_c227c_row15_col5\" class=\"data row15 col5\" >0.159894</td>\n",
        "                        <td id=\"T_c227c_row15_col6\" class=\"data row15 col6\" >0.035325</td>\n",
        "                        <td id=\"T_c227c_row15_col7\" class=\"data row15 col7\" >0.176977</td>\n",
        "                        <td id=\"T_c227c_row15_col8\" class=\"data row15 col8\" >-0.062284</td>\n",
        "                        <td id=\"T_c227c_row15_col9\" class=\"data row15 col9\" >-0.458751</td>\n",
        "                        <td id=\"T_c227c_row15_col10\" class=\"data row15 col10\" >-0.022987</td>\n",
        "                        <td id=\"T_c227c_row15_col11\" class=\"data row15 col11\" >0.140573</td>\n",
        "                        <td id=\"T_c227c_row15_col12\" class=\"data row15 col12\" >0.139831</td>\n",
        "                        <td id=\"T_c227c_row15_col13\" class=\"data row15 col13\" >0.334455</td>\n",
        "                        <td id=\"T_c227c_row15_col14\" class=\"data row15 col14\" >0.446226</td>\n",
        "                        <td id=\"T_c227c_row15_col15\" class=\"data row15 col15\" >1.000000</td>\n",
        "                        <td id=\"T_c227c_row15_col16\" class=\"data row15 col16\" >-0.123740</td>\n",
        "            </tr>\n",
        "            <tr>\n",
        "                        <th id=\"T_c227c_level0_row16\" class=\"row_heading level0 row16\" >Stringency_index</th>\n",
        "                        <td id=\"T_c227c_row16_col0\" class=\"data row16 col0\" >-0.179574</td>\n",
        "                        <td id=\"T_c227c_row16_col1\" class=\"data row16 col1\" >-0.199722</td>\n",
        "                        <td id=\"T_c227c_row16_col2\" class=\"data row16 col2\" >-0.211648</td>\n",
        "                        <td id=\"T_c227c_row16_col3\" class=\"data row16 col3\" >-0.279345</td>\n",
        "                        <td id=\"T_c227c_row16_col4\" class=\"data row16 col4\" >0.299906</td>\n",
        "                        <td id=\"T_c227c_row16_col5\" class=\"data row16 col5\" >0.401606</td>\n",
        "                        <td id=\"T_c227c_row16_col6\" class=\"data row16 col6\" >0.813387</td>\n",
        "                        <td id=\"T_c227c_row16_col7\" class=\"data row16 col7\" >0.669465</td>\n",
        "                        <td id=\"T_c227c_row16_col8\" class=\"data row16 col8\" >0.833042</td>\n",
        "                        <td id=\"T_c227c_row16_col9\" class=\"data row16 col9\" >0.416267</td>\n",
        "                        <td id=\"T_c227c_row16_col10\" class=\"data row16 col10\" >0.634720</td>\n",
        "                        <td id=\"T_c227c_row16_col11\" class=\"data row16 col11\" >0.590484</td>\n",
        "                        <td id=\"T_c227c_row16_col12\" class=\"data row16 col12\" >0.747877</td>\n",
        "                        <td id=\"T_c227c_row16_col13\" class=\"data row16 col13\" >0.630163</td>\n",
        "                        <td id=\"T_c227c_row16_col14\" class=\"data row16 col14\" >0.256778</td>\n",
        "                        <td id=\"T_c227c_row16_col15\" class=\"data row16 col15\" >-0.123740</td>\n",
        "                        <td id=\"T_c227c_row16_col16\" class=\"data row16 col16\" >1.000000</td>\n",
        "            </tr>\n",
        "    </tbody></table>"
       ],
       "output_type": "pyout",
       "prompt_number": 21,
       "text": [
        "<pandas.io.formats.style.Styler at 0x7fdee175a490>"
       ]
      }
     ],
     "prompt_number": 21
    },
    {
     "cell_type": "code",
     "collapsed": false,
     "input": [
      "# Scatter plot of Stringency index and Rt\n",
      "df = track_df.copy()\n",
      "sns.scatterplot(data=df, x=\"Stringency_index\", y=\"Rt\", hue=\"Country\", legend=\"brief\", marker=\"+\")\n",
      "bbox_to_anchor=(1.02, 0)\n",
      "bbox_loc=\"lower left\"\n",
      "plt.legend(bbox_to_anchor=bbox_to_anchor, loc=bbox_loc, borderaxespad=0)\n",
      "plt.title(\"Relationship of Stringency index and reproduction number\")\n",
      "plt.ylabel(\"Reproduction number\")\n",
      "plt.xlabel(\"Stringency index\")\n",
      "plt.show()"
     ],
     "language": "python",
     "metadata": {},
     "outputs": [
      {
       "output_type": "display_data",
       "png": "[encoded data removed]",
       "text": [
        "<Figure size 432x288 with 1 Axes>"
       ]
      }
     ],
     "prompt_number": 22
    }
   ],
   "metadata": {}
  }
 ]
}
