{
 "cells": [
  {
   "cell_type": "markdown",
   "metadata": {},
   "source": [
    "# Usage: policy measures\n",
    "Here, we will analyse the relationship of policy measures and parameter values of SIR-derived ODE models. Policy measures are tracked by [Oxford Covid-19 Government Response Tracker (OxCGRT)](https://github.com/OxCGRT/covid-policy-tracker)."
   ]
  },
  {
   "cell_type": "markdown",
   "metadata": {},
   "source": [
    "## Preparation"
   ]
  },
  {
   "cell_type": "code",
   "execution_count": 1,
   "metadata": {
    "collapsed": false
   },
   "outputs": [],
   "source": [
    "# Standard users\n",
    "# !pip install covsirphy\n",
    "# Developers (Note: this notebook is in example directory)\n",
    "import os\n",
    "os.chdir(\"../\")"
   ]
  },
  {
   "cell_type": "code",
   "execution_count": 2,
   "metadata": {
    "collapsed": false
   },
   "outputs": [],
   "source": [
    "from pprint import pprint"
   ]
  },
  {
   "cell_type": "code",
   "execution_count": 3,
   "metadata": {
    "collapsed": false
   },
   "outputs": [
    {
     "data": {
      "text/plain": [
       "'2.13.3-iota.new.56.280.420.422.429.449.fix.438.441.450'"
      ]
     },
     "execution_count": 3,
     "metadata": {},
     "output_type": "execute_result"
    }
   ],
   "source": [
    "import covsirphy as cs\n",
    "cs.__version__"
   ]
  },
  {
   "cell_type": "code",
   "execution_count": 4,
   "metadata": {
    "collapsed": false,
    "tags": []
   },
   "outputs": [
    {
     "name": "stdout",
     "output_type": "stream",
     "text": [
      "(Secondary source) Guidotti, E., Ardia, D., (2020), \"COVID-19 Data Hub\", Journal of Open Source Software 5(51):2376, doi: 10.21105/joss.02376.\n"
     ]
    }
   ],
   "source": [
    "# Standard users and developers\n",
    "data_loader = cs.DataLoader(\"input\")\n",
    "# The number of cases (JHU style)\n",
    "jhu_data = data_loader.jhu(verbose=False)\n",
    "# Population in each country\n",
    "population_data = data_loader.population(verbose=False)\n",
    "# Government Response Tracker (OxCGRT)\n",
    "oxcgrt_data = data_loader.oxcgrt(verbose=False)\n",
    "# Description/citation\n",
    "print(oxcgrt_data.citation)"
   ]
  },
  {
   "cell_type": "markdown",
   "metadata": {},
   "source": [
    "## Class for policy measure analysis\n",
    "We will `PolicyMeasures` class to find relationship of policy measures and parameter values of SIR-derived ODE models."
   ]
  },
  {
   "cell_type": "code",
   "execution_count": 5,
   "metadata": {
    "collapsed": false,
    "tags": []
   },
   "outputs": [
    {
     "data": {
      "text/plain": [
       "196"
      ]
     },
     "execution_count": 5,
     "metadata": {},
     "output_type": "execute_result"
    }
   ],
   "source": [
    "# Create analyser with tau value 360 [min] (can be changed)\n",
    "analyser = cs.PolicyMeasures(jhu_data, population_data, oxcgrt_data, tau=360)\n",
    "# The number of registerd countries\n",
    "len(analyser.countries)"
   ]
  },
  {
   "cell_type": "code",
   "execution_count": 6,
   "metadata": {
    "collapsed": false
   },
   "outputs": [
    {
     "data": {
      "text/plain": [
       "covsirphy.analysis.scenario.Scenario"
      ]
     },
     "execution_count": 6,
     "metadata": {},
     "output_type": "execute_result"
    }
   ],
   "source": [
    "# We can get Scenario instance for detailed scenario analysis\n",
    "type(analyser.scenario(\"Japan\"))"
   ]
  },
  {
   "cell_type": "markdown",
   "metadata": {},
   "source": [
    "## Set phases with S-R trend analysis\n",
    "We will perform S-R trend analysis to set phases in all countries. Countries which do not have **17th phases** will be un-registered for the next analysis. This number will be adjusted for your analysis."
   ]
  },
  {
   "cell_type": "code",
   "execution_count": 7,
   "metadata": {
    "collapsed": false
   },
   "outputs": [
    {
     "name": "stdout",
     "output_type": "stream",
     "text": [
      "{2: ['Laos', 'Holy See', 'Solomon Islands', 'Timor-Leste'],\n",
      " 3: ['Saint Kitts and Nevis'],\n",
      " 4: ['Brunei', 'Tanzania', 'Fiji'],\n",
      " 5: ['Dominica', 'Grenada', 'Equatorial Guinea'],\n",
      " 6: ['Cambodia', 'Saint Lucia', 'Mauritius'],\n",
      " 7: ['Saint Vincent and the Grenadines', 'Antigua and Barbuda', 'Seychelles'],\n",
      " 8: ['Gambia', 'Trinidad and Tobago', 'Kyrgyzstan', 'Barbados',\n",
      "     'Northern Mariana Islands', 'Bahamas', 'Liechtenstein', 'Madagascar'],\n",
      " 9: ['Uzbekistan', 'Philippines', 'Ghana', 'Jamaica', 'Malawi', 'Vietnam',\n",
      "     'Oman', 'Sao Tome and Principe', 'Australia'],\n",
      " 10: ['Kenya', 'Bermuda', 'Senegal', 'Iraq', 'Libya', 'Kazakhstan', 'Burundi',\n",
      "      'Eritrea', 'Lesotho', 'Ethiopia', 'Cape Verde', 'Mozambique', 'Monaco',\n",
      "      'Mongolia', 'Bahrain', 'Rwanda', 'South Africa', 'India', 'Andorra',\n",
      "      'Honduras', 'Virgin Islands, U.S.', 'Papua New Guinea', 'Kuwait', 'Chile',\n",
      "      'El Salvador', 'Guam', 'Bhutan', 'Guyana', 'Singapore', 'Iceland',\n",
      "      'Suriname', 'Venezuela', 'Angola', 'Republic of the Congo', 'Benin',\n",
      "      'Zimbabwe', 'Bolivia', 'Djibouti', 'Maldives', 'Zambia', 'Guatemala'],\n",
      " 11: ['Peru', 'Dominican Republic', 'Syria', 'Gabon', 'Taiwan', 'Brazil',\n",
      "      'New Zealand', 'Belize', 'Saudi Arabia', 'Nicaragua', 'Costa Rica',\n",
      "      'Argentina', 'Colombia', 'Yemen', \"Cote d'Ivoire\", 'Liberia',\n",
      "      'Bangladesh', 'Pakistan', 'Paraguay', 'Swaziland', 'Botswana', 'Namibia',\n",
      "      'Georgia', 'Algeria', 'Comoros', 'Ecuador', 'Nepal', 'Israel'],\n",
      " 12: ['Myanmar', 'Morocco', 'Sudan', 'South Sudan', 'Cameroon', 'Sierra Leone',\n",
      "      'Puerto Rico', 'Kosovo', 'Montenegro', 'Nigeria',\n",
      "      'Democratic Republic of the Congo', 'Mexico', 'Panama', 'Egypt',\n",
      "      'Slovenia', 'Uganda', 'Somalia', 'Central African Republic', 'Togo',\n",
      "      'Guinea', 'Guinea-Bissau'],\n",
      " 13: ['Jordan', 'Lithuania', 'Palestine', 'Burkina Faso', 'Croatia', 'Chad',\n",
      "      'Moldova', 'Indonesia', 'Qatar', 'Armenia', 'Tajikistan', 'China',\n",
      "      'Malta', 'Afghanistan', 'United Arab Emirates', 'Japan', 'Niger'],\n",
      " 14: ['Latvia', 'Mali', 'United States', 'Ireland', 'Serbia', 'Belarus',\n",
      "      'Bosnia and Herzegovina', 'Azerbaijan', 'Haiti', 'San Marino', 'Slovakia',\n",
      "      'Spain', 'Iran', 'Russia', 'Cuba'],\n",
      " 15: ['Bulgaria', 'Greece', 'France', 'Tunisia', 'Cyprus', 'North Macedonia',\n",
      "      'Belgium', 'Albania', 'Turkey', 'Thailand', 'Mauritania', 'Hungary',\n",
      "      'Lebanon', 'Luxembourg', 'Sri Lanka', 'Uruguay'],\n",
      " 16: ['Ukraine', 'Czech Republic', 'Sweden', 'Austria', 'Poland', 'Estonia',\n",
      "      'Denmark', 'Switzerland', 'Romania', 'Malaysia', 'Canada'],\n",
      " 17: ['United Kingdom', 'Norway', 'Germany', 'Italy', 'Netherlands', 'Portugal',\n",
      "      'Finland']}\n"
     ]
    }
   ],
   "source": [
    "# Show the number of phases of all countries\n",
    "analyser.trend()\n",
    "pprint(analyser.phase_len(), compact=True)"
   ]
  },
  {
   "cell_type": "code",
   "execution_count": 8,
   "metadata": {
    "collapsed": false
   },
   "outputs": [
    {
     "data": {
      "text/plain": [
       "7"
      ]
     },
     "execution_count": 8,
     "metadata": {},
     "output_type": "execute_result"
    }
   ],
   "source": [
    "# Set phases with S-R trend analysis\n",
    "analyser.trend(min_len=17)\n",
    "# The number of countries\n",
    "len(analyser.countries)"
   ]
  },
  {
   "cell_type": "code",
   "execution_count": 9,
   "metadata": {
    "collapsed": false,
    "tags": []
   },
   "outputs": [
    {
     "name": "stdout",
     "output_type": "stream",
     "text": [
      "{17: ['United Kingdom', 'Norway', 'Germany', 'Italy', 'Netherlands', 'Portugal',\n",
      "      'Finland']}\n"
     ]
    }
   ],
   "source": [
    "phase_len_dict = analyser.phase_len()\n",
    "pprint(phase_len_dict, compact=True)"
   ]
  },
  {
   "cell_type": "code",
   "execution_count": 10,
   "metadata": {
    "collapsed": false,
    "tags": []
   },
   "outputs": [
    {
     "data": {
      "text/html": [
       "<div>\n",
       "<style scoped>\n",
       "    .dataframe tbody tr th:only-of-type {\n",
       "        vertical-align: middle;\n",
       "    }\n",
       "\n",
       "    .dataframe tbody tr th {\n",
       "        vertical-align: top;\n",
       "    }\n",
       "\n",
       "    .dataframe thead th {\n",
       "        text-align: right;\n",
       "    }\n",
       "</style>\n",
       "<table border=\"1\" class=\"dataframe\">\n",
       "  <thead>\n",
       "    <tr style=\"text-align: right;\">\n",
       "      <th></th>\n",
       "      <th></th>\n",
       "      <th>Type</th>\n",
       "      <th>Start</th>\n",
       "      <th>End</th>\n",
       "      <th>Population</th>\n",
       "    </tr>\n",
       "    <tr>\n",
       "      <th>Country</th>\n",
       "      <th>Phase</th>\n",
       "      <th></th>\n",
       "      <th></th>\n",
       "      <th></th>\n",
       "      <th></th>\n",
       "    </tr>\n",
       "  </thead>\n",
       "  <tbody>\n",
       "    <tr>\n",
       "      <th rowspan=\"5\" valign=\"top\">United Kingdom</th>\n",
       "      <th>0th</th>\n",
       "      <td>Past</td>\n",
       "      <td>23Feb2020</td>\n",
       "      <td>09Apr2020</td>\n",
       "      <td>66460344</td>\n",
       "    </tr>\n",
       "    <tr>\n",
       "      <th>1st</th>\n",
       "      <td>Past</td>\n",
       "      <td>10Apr2020</td>\n",
       "      <td>30Apr2020</td>\n",
       "      <td>66460344</td>\n",
       "    </tr>\n",
       "    <tr>\n",
       "      <th>2nd</th>\n",
       "      <td>Past</td>\n",
       "      <td>01May2020</td>\n",
       "      <td>27May2020</td>\n",
       "      <td>66460344</td>\n",
       "    </tr>\n",
       "    <tr>\n",
       "      <th>3rd</th>\n",
       "      <td>Past</td>\n",
       "      <td>28May2020</td>\n",
       "      <td>07Aug2020</td>\n",
       "      <td>66460344</td>\n",
       "    </tr>\n",
       "    <tr>\n",
       "      <th>4th</th>\n",
       "      <td>Past</td>\n",
       "      <td>08Aug2020</td>\n",
       "      <td>16Sep2020</td>\n",
       "      <td>66460344</td>\n",
       "    </tr>\n",
       "    <tr>\n",
       "      <th>...</th>\n",
       "      <th>...</th>\n",
       "      <td>...</td>\n",
       "      <td>...</td>\n",
       "      <td>...</td>\n",
       "      <td>...</td>\n",
       "    </tr>\n",
       "    <tr>\n",
       "      <th rowspan=\"5\" valign=\"top\">Finland</th>\n",
       "      <th>12th</th>\n",
       "      <td>Past</td>\n",
       "      <td>26Nov2020</td>\n",
       "      <td>01Dec2020</td>\n",
       "      <td>5515525</td>\n",
       "    </tr>\n",
       "    <tr>\n",
       "      <th>13th</th>\n",
       "      <td>Past</td>\n",
       "      <td>02Dec2020</td>\n",
       "      <td>08Dec2020</td>\n",
       "      <td>5515525</td>\n",
       "    </tr>\n",
       "    <tr>\n",
       "      <th>14th</th>\n",
       "      <td>Past</td>\n",
       "      <td>09Dec2020</td>\n",
       "      <td>14Dec2020</td>\n",
       "      <td>5515525</td>\n",
       "    </tr>\n",
       "    <tr>\n",
       "      <th>15th</th>\n",
       "      <td>Past</td>\n",
       "      <td>15Dec2020</td>\n",
       "      <td>21Dec2020</td>\n",
       "      <td>5515525</td>\n",
       "    </tr>\n",
       "    <tr>\n",
       "      <th>16th</th>\n",
       "      <td>Past</td>\n",
       "      <td>22Dec2020</td>\n",
       "      <td>30Dec2020</td>\n",
       "      <td>5515525</td>\n",
       "    </tr>\n",
       "  </tbody>\n",
       "</table>\n",
       "<p>119 rows × 4 columns</p>\n",
       "</div>"
      ],
      "text/plain": [
       "                      Type      Start        End  Population\n",
       "Country        Phase                                        \n",
       "United Kingdom 0th    Past  23Feb2020  09Apr2020    66460344\n",
       "               1st    Past  10Apr2020  30Apr2020    66460344\n",
       "               2nd    Past  01May2020  27May2020    66460344\n",
       "               3rd    Past  28May2020  07Aug2020    66460344\n",
       "               4th    Past  08Aug2020  16Sep2020    66460344\n",
       "...                    ...        ...        ...         ...\n",
       "Finland        12th   Past  26Nov2020  01Dec2020     5515525\n",
       "               13th   Past  02Dec2020  08Dec2020     5515525\n",
       "               14th   Past  09Dec2020  14Dec2020     5515525\n",
       "               15th   Past  15Dec2020  21Dec2020     5515525\n",
       "               16th   Past  22Dec2020  30Dec2020     5515525\n",
       "\n",
       "[119 rows x 4 columns]"
      ]
     },
     "execution_count": 10,
     "metadata": {},
     "output_type": "execute_result"
    }
   ],
   "source": [
    "# Here, only show the countries which have the most phases\n",
    "countries_show = max(phase_len_dict.items(), key=lambda x: x[0])[1]\n",
    "# Show summary\n",
    "analyser.summary(countries=countries_show)"
   ]
  },
  {
   "cell_type": "markdown",
   "metadata": {},
   "source": [
    "## Parameter estimation\n",
    "we will estimate the parameter values with SIR-derived ODE models in each country."
   ]
  },
  {
   "cell_type": "code",
   "execution_count": 11,
   "metadata": {
    "collapsed": false,
    "tags": []
   },
   "outputs": [
    {
     "name": "stdout",
     "output_type": "stream",
     "text": [
      "\n",
      "<SIR-F model: parameter estimation>\n",
      "Running optimization with 4 CPUs...\n"
     ]
    },
    {
     "name": "stdout",
     "output_type": "stream",
     "text": [
      "\tNOR,  8th phase (21Oct2020 - 28Oct2020): finished  190 trials in 0 min 10 sec"
     ]
    },
    {
     "name": "stdout",
     "output_type": "stream",
     "text": [
      "\n"
     ]
    },
    {
     "name": "stdout",
     "output_type": "stream",
     "text": [
      "\tNLD, 12th phase (19Nov2020 - 25Nov2020): finished  197 trials in 0 min 10 sec"
     ]
    },
    {
     "name": "stdout",
     "output_type": "stream",
     "text": [
      "\n"
     ]
    },
    {
     "name": "stdout",
     "output_type": "stream",
     "text": [
      "\tNOR, 12th phase (23Nov2020 - 29Nov2020): finished  196 trials in 0 min 10 sec"
     ]
    },
    {
     "name": "stdout",
     "output_type": "stream",
     "text": [
      "\n"
     ]
    },
    {
     "name": "stdout",
     "output_type": "stream",
     "text": [
      "\tGBR,  7th phase (13Oct2020 - 20Oct2020): finished  200 trials in 0 min 10 sec"
     ]
    },
    {
     "name": "stdout",
     "output_type": "stream",
     "text": [
      "\n"
     ]
    },
    {
     "name": "stdout",
     "output_type": "stream",
     "text": [
      "\tDEU,  3rd phase (22Apr2020 - 17Jun2020): finished  225 trials in 0 min 10 sec"
     ]
    },
    {
     "name": "stdout",
     "output_type": "stream",
     "text": [
      "\n"
     ]
    },
    {
     "name": "stdout",
     "output_type": "stream",
     "text": [
      "\tPRT,  6th phase (25Sep2020 - 12Oct2020): finished  238 trials in 0 min 10 sec"
     ]
    },
    {
     "name": "stdout",
     "output_type": "stream",
     "text": [
      "\n"
     ]
    },
    {
     "name": "stdout",
     "output_type": "stream",
     "text": [
      "\tGBR, 15th phase (09Dec2020 - 14Dec2020): finished  252 trials in 0 min 10 sec"
     ]
    },
    {
     "name": "stdout",
     "output_type": "stream",
     "text": [
      "\n"
     ]
    },
    {
     "name": "stdout",
     "output_type": "stream",
     "text": [
      "\tPRT,  7th phase (13Oct2020 - 21Oct2020): finished  248 trials in 0 min 10 sec"
     ]
    },
    {
     "name": "stdout",
     "output_type": "stream",
     "text": [
      "\n"
     ]
    },
    {
     "name": "stdout",
     "output_type": "stream",
     "text": [
      "\tITA,  7th phase (15Oct2020 - 21Oct2020): finished  230 trials in 0 min 10 sec"
     ]
    },
    {
     "name": "stdout",
     "output_type": "stream",
     "text": [
      "\n"
     ]
    },
    {
     "name": "stdout",
     "output_type": "stream",
     "text": [
      "\tPRT,  8th phase (22Oct2020 - 28Oct2020): finished  229 trials in 0 min 10 sec"
     ]
    },
    {
     "name": "stdout",
     "output_type": "stream",
     "text": [
      "\n"
     ]
    },
    {
     "name": "stdout",
     "output_type": "stream",
     "text": [
      "\tNLD,  1st phase (08Apr2020 - 01May2020): finished  220 trials in 0 min 10 sec"
     ]
    },
    {
     "name": "stdout",
     "output_type": "stream",
     "text": [
      "\n"
     ]
    },
    {
     "name": "stdout",
     "output_type": "stream",
     "text": [
      "\tNLD,  7th phase (14Oct2020 - 19Oct2020): finished  222 trials in 0 min 10 sec"
     ]
    },
    {
     "name": "stdout",
     "output_type": "stream",
     "text": [
      "\n"
     ]
    },
    {
     "name": "stdout",
     "output_type": "stream",
     "text": [
      "\tNLD,  0th phase (16Mar2020 - 07Apr2020): finished  286 trials in 0 min 10 sec"
     ]
    },
    {
     "name": "stdout",
     "output_type": "stream",
     "text": [
      "\n"
     ]
    },
    {
     "name": "stdout",
     "output_type": "stream",
     "text": [
      "\tDEU,  1st phase (24Mar2020 - 04Apr2020): finished  291 trials in 0 min 10 sec"
     ]
    },
    {
     "name": "stdout",
     "output_type": "stream",
     "text": [
      "\n"
     ]
    },
    {
     "name": "stdout",
     "output_type": "stream",
     "text": [
      "\tGBR, 14th phase (02Dec2020 - 08Dec2020): finished  295 trials in 0 min 10 sec"
     ]
    },
    {
     "name": "stdout",
     "output_type": "stream",
     "text": [
      "\n"
     ]
    },
    {
     "name": "stdout",
     "output_type": "stream",
     "text": [
      "\tNLD,  2nd phase (02May2020 - 09Aug2020): finished  266 trials in 0 min 10 sec"
     ]
    },
    {
     "name": "stdout",
     "output_type": "stream",
     "text": [
      "\n"
     ]
    },
    {
     "name": "stdout",
     "output_type": "stream",
     "text": [
      "\tNLD,  9th phase (30Oct2020 - 04Nov2020): finished  309 trials in 0 min 10 sec"
     ]
    },
    {
     "name": "stdout",
     "output_type": "stream",
     "text": [
      "\n"
     ]
    },
    {
     "name": "stdout",
     "output_type": "stream",
     "text": [
      "\tITA,  2nd phase (01Apr2020 - 16Apr2020): finished  305 trials in 0 min 10 sec"
     ]
    },
    {
     "name": "stdout",
     "output_type": "stream",
     "text": [
      "\n"
     ]
    },
    {
     "name": "stdout",
     "output_type": "stream",
     "text": [
      "\tNLD, 11th phase (12Nov2020 - 18Nov2020): finished  309 trials in 0 min 10 sec"
     ]
    },
    {
     "name": "stdout",
     "output_type": "stream",
     "text": [
      "\n"
     ]
    },
    {
     "name": "stdout",
     "output_type": "stream",
     "text": [
      "\tDEU,  6th phase (17Sep2020 - 08Oct2020): finished  303 trials in 0 min 10 sec"
     ]
    },
    {
     "name": "stdout",
     "output_type": "stream",
     "text": [
      "\n"
     ]
    },
    {
     "name": "stdout",
     "output_type": "stream",
     "text": [
      "\tFIN,  1st phase (05Apr2020 - 19Apr2020): finished  305 trials in 0 min 10 sec"
     ]
    },
    {
     "name": "stdout",
     "output_type": "stream",
     "text": [
      "\n"
     ]
    },
    {
     "name": "stdout",
     "output_type": "stream",
     "text": [
      "\tPRT, 10th phase (05Nov2020 - 14Nov2020): finished  307 trials in 0 min 10 sec"
     ]
    },
    {
     "name": "stdout",
     "output_type": "stream",
     "text": [
      "\n"
     ]
    },
    {
     "name": "stdout",
     "output_type": "stream",
     "text": [
      "\tPRT,  5th phase (03Sep2020 - 24Sep2020): finished  303 trials in 0 min 10 sec"
     ]
    },
    {
     "name": "stdout",
     "output_type": "stream",
     "text": [
      "\n"
     ]
    },
    {
     "name": "stdout",
     "output_type": "stream",
     "text": [
      "\tITA, 12th phase (27Nov2020 - 02Dec2020): finished  309 trials in 0 min 10 sec"
     ]
    },
    {
     "name": "stdout",
     "output_type": "stream",
     "text": [
      "\n"
     ]
    },
    {
     "name": "stdout",
     "output_type": "stream",
     "text": [
      "\tITA, 15th phase (16Dec2020 - 22Dec2020): finished  307 trials in 0 min 10 sec"
     ]
    },
    {
     "name": "stdout",
     "output_type": "stream",
     "text": [
      "\n"
     ]
    },
    {
     "name": "stdout",
     "output_type": "stream",
     "text": [
      "\tNOR,  5th phase (03Sep2020 - 19Sep2020): finished  304 trials in 0 min 10 sec"
     ]
    },
    {
     "name": "stdout",
     "output_type": "stream",
     "text": [
      "\n"
     ]
    },
    {
     "name": "stdout",
     "output_type": "stream",
     "text": [
      "\tFIN,  8th phase (19Oct2020 - 28Oct2020): finished  305 trials in 0 min 10 sec"
     ]
    },
    {
     "name": "stdout",
     "output_type": "stream",
     "text": [
      "\n"
     ]
    },
    {
     "name": "stdout",
     "output_type": "stream",
     "text": [
      "\tNLD, 15th phase (10Dec2020 - 19Dec2020): finished  304 trials in 0 min 10 sec"
     ]
    },
    {
     "name": "stdout",
     "output_type": "stream",
     "text": [
      "\n"
     ]
    },
    {
     "name": "stdout",
     "output_type": "stream",
     "text": [
      "\tPRT,  4th phase (15Jul2020 - 02Sep2020): finished  294 trials in 0 min 10 sec"
     ]
    },
    {
     "name": "stdout",
     "output_type": "stream",
     "text": [
      "\n"
     ]
    },
    {
     "name": "stdout",
     "output_type": "stream",
     "text": [
      "\tGBR,  5th phase (17Sep2020 - 02Oct2020): finished  307 trials in 0 min 10 sec"
     ]
    },
    {
     "name": "stdout",
     "output_type": "stream",
     "text": [
      "\n"
     ]
    },
    {
     "name": "stdout",
     "output_type": "stream",
     "text": [
      "\tGBR,  4th phase (08Aug2020 - 16Sep2020): finished  291 trials in 0 min 10 sec"
     ]
    },
    {
     "name": "stdout",
     "output_type": "stream",
     "text": [
      "\n"
     ]
    },
    {
     "name": "stdout",
     "output_type": "stream",
     "text": [
      "\tGBR,  9th phase (28Oct2020 - 03Nov2020): finished  312 trials in 0 min 10 sec"
     ]
    },
    {
     "name": "stdout",
     "output_type": "stream",
     "text": [
      "\n"
     ]
    },
    {
     "name": "stdout",
     "output_type": "stream",
     "text": [
      "\tFIN,  5th phase (21Aug2020 - 22Sep2020): finished  289 trials in 0 min 10 sec"
     ]
    },
    {
     "name": "stdout",
     "output_type": "stream",
     "text": [
      "\n"
     ]
    },
    {
     "name": "stdout",
     "output_type": "stream",
     "text": [
      "\tDEU,  7th phase (09Oct2020 - 20Oct2020): finished  311 trials in 0 min 10 sec"
     ]
    },
    {
     "name": "stdout",
     "output_type": "stream",
     "text": [
      "\n"
     ]
    },
    {
     "name": "stdout",
     "output_type": "stream",
     "text": [
      "\tGBR, 10th phase (04Nov2020 - 10Nov2020): finished  304 trials in 0 min 10 sec"
     ]
    },
    {
     "name": "stdout",
     "output_type": "stream",
     "text": [
      "\n"
     ]
    },
    {
     "name": "stdout",
     "output_type": "stream",
     "text": [
      "\tGBR, 11th phase (11Nov2020 - 16Nov2020): finished  309 trials in 0 min 10 sec"
     ]
    },
    {
     "name": "stdout",
     "output_type": "stream",
     "text": [
      "\n"
     ]
    },
    {
     "name": "stdout",
     "output_type": "stream",
     "text": [
      "\tGBR, 13th phase (24Nov2020 - 01Dec2020): finished  307 trials in 0 min 10 sec"
     ]
    },
    {
     "name": "stdout",
     "output_type": "stream",
     "text": [
      "\n"
     ]
    },
    {
     "name": "stdout",
     "output_type": "stream",
     "text": [
      "\tNLD,  4th phase (13Sep2020 - 26Sep2020): finished  305 trials in 0 min 10 sec"
     ]
    },
    {
     "name": "stdout",
     "output_type": "stream",
     "text": [
      "\n"
     ]
    },
    {
     "name": "stdout",
     "output_type": "stream",
     "text": [
      "\tNOR,  0th phase (15Mar2020 - 25Mar2020): finished  304 trials in 0 min 10 sec"
     ]
    },
    {
     "name": "stdout",
     "output_type": "stream",
     "text": [
      "\n"
     ]
    },
    {
     "name": "stdout",
     "output_type": "stream",
     "text": [
      "\tFIN,  4th phase (28May2020 - 20Aug2020): finished  282 trials in 0 min 10 sec"
     ]
    },
    {
     "name": "stdout",
     "output_type": "stream",
     "text": [
      "\n"
     ]
    },
    {
     "name": "stdout",
     "output_type": "stream",
     "text": [
      "\tNOR, 14th phase (08Dec2020 - 14Dec2020): finished  283 trials in 0 min 10 sec"
     ]
    },
    {
     "name": "stdout",
     "output_type": "stream",
     "text": [
      "\tNOR,  7th phase (06Oct2020 - 20Oct2020): finished  281 trials in 0 min 10 sec"
     ]
    },
    {
     "name": "stdout",
     "output_type": "stream",
     "text": [
      "\n"
     ]
    },
    {
     "name": "stdout",
     "output_type": "stream",
     "text": [
      "\n"
     ]
    },
    {
     "name": "stdout",
     "output_type": "stream",
     "text": [
      "\tNLD, 13th phase (26Nov2020 - 03Dec2020): finished  283 trials in 0 min 10 sec"
     ]
    },
    {
     "name": "stdout",
     "output_type": "stream",
     "text": [
      "\n"
     ]
    },
    {
     "name": "stdout",
     "output_type": "stream",
     "text": [
      "\tDEU,  5th phase (16Aug2020 - 16Sep2020): finished  275 trials in 0 min 10 sec"
     ]
    },
    {
     "name": "stdout",
     "output_type": "stream",
     "text": [
      "\n"
     ]
    },
    {
     "name": "stdout",
     "output_type": "stream",
     "text": [
      "\tNOR, 11th phase (10Nov2020 - 22Nov2020): finished  291 trials in 0 min 10 sec"
     ]
    },
    {
     "name": "stdout",
     "output_type": "stream",
     "text": [
      "\n"
     ]
    },
    {
     "name": "stdout",
     "output_type": "stream",
     "text": [
      "\tGBR, 16th phase (15Dec2020 - 30Dec2020): finished  292 trials in 0 min 10 sec"
     ]
    },
    {
     "name": "stdout",
     "output_type": "stream",
     "text": [
      "\n"
     ]
    },
    {
     "name": "stdout",
     "output_type": "stream",
     "text": [
      "\tDEU,  4th phase (18Jun2020 - 15Aug2020): finished  269 trials in 0 min 10 sec"
     ]
    },
    {
     "name": "stdout",
     "output_type": "stream",
     "text": [
      "\n"
     ]
    },
    {
     "name": "stdout",
     "output_type": "stream",
     "text": [
      "\tGBR, 12th phase (17Nov2020 - 23Nov2020): finished  282 trials in 0 min 10 sec"
     ]
    },
    {
     "name": "stdout",
     "output_type": "stream",
     "text": [
      "\n"
     ]
    },
    {
     "name": "stdout",
     "output_type": "stream",
     "text": [
      "\tNLD,  5th phase (27Sep2020 - 06Oct2020): finished  282 trials in 0 min 10 sec"
     ]
    },
    {
     "name": "stdout",
     "output_type": "stream",
     "text": [
      "\n"
     ]
    },
    {
     "name": "stdout",
     "output_type": "stream",
     "text": [
      "\tITA, 14th phase (10Dec2020 - 15Dec2020): finished  285 trials in 0 min 10 sec"
     ]
    },
    {
     "name": "stdout",
     "output_type": "stream",
     "text": [
      "\n"
     ]
    },
    {
     "name": "stdout",
     "output_type": "stream",
     "text": [
      "\tITA,  6th phase (01Oct2020 - 14Oct2020): finished  290 trials in 0 min 10 sec"
     ]
    },
    {
     "name": "stdout",
     "output_type": "stream",
     "text": [
      "\n"
     ]
    },
    {
     "name": "stdout",
     "output_type": "stream",
     "text": [
      "\tPRT,  2nd phase (06May2020 - 13Jun2020): finished  287 trials in 0 min 10 sec"
     ]
    },
    {
     "name": "stdout",
     "output_type": "stream",
     "text": [
      "\n"
     ]
    },
    {
     "name": "stdout",
     "output_type": "stream",
     "text": [
      "\tNLD, 16th phase (20Dec2020 - 30Dec2020): finished  285 trials in 0 min 10 sec"
     ]
    },
    {
     "name": "stdout",
     "output_type": "stream",
     "text": [
      "\n"
     ]
    },
    {
     "name": "stdout",
     "output_type": "stream",
     "text": [
      "\tFIN,  0th phase (17Mar2020 - 04Apr2020): finished  278 trials in 0 min 10 sec"
     ]
    },
    {
     "name": "stdout",
     "output_type": "stream",
     "text": [
      "\n"
     ]
    },
    {
     "name": "stdout",
     "output_type": "stream",
     "text": [
      "\tITA,  8th phase (22Oct2020 - 27Oct2020): finished  287 trials in 0 min 10 sec"
     ]
    },
    {
     "name": "stdout",
     "output_type": "stream",
     "text": [
      "\n"
     ]
    },
    {
     "name": "stdout",
     "output_type": "stream",
     "text": [
      "\tPRT,  1st phase (08Apr2020 - 05May2020): finished  273 trials in 0 min 10 sec"
     ]
    },
    {
     "name": "stdout",
     "output_type": "stream",
     "text": [
      "\n"
     ]
    },
    {
     "name": "stdout",
     "output_type": "stream",
     "text": [
      "\tITA, 10th phase (07Nov2020 - 16Nov2020): finished  299 trials in 0 min 10 sec"
     ]
    },
    {
     "name": "stdout",
     "output_type": "stream",
     "text": [
      "\n"
     ]
    },
    {
     "name": "stdout",
     "output_type": "stream",
     "text": [
      "\tITA,  0th phase (24Feb2020 - 19Mar2020): finished  296 trials in 0 min 10 sec"
     ]
    },
    {
     "name": "stdout",
     "output_type": "stream",
     "text": [
      "\n"
     ]
    },
    {
     "name": "stdout",
     "output_type": "stream",
     "text": [
      "\tDEU,  0th phase (19Jan2020 - 23Mar2020): finished  288 trials in 0 min 10 sec"
     ]
    },
    {
     "name": "stdout",
     "output_type": "stream",
     "text": [
      "\n"
     ]
    },
    {
     "name": "stdout",
     "output_type": "stream",
     "text": [
      "\tDEU,  2nd phase (05Apr2020 - 21Apr2020): finished  300 trials in 0 min 10 sec"
     ]
    },
    {
     "name": "stdout",
     "output_type": "stream",
     "text": [
      "\n"
     ]
    },
    {
     "name": "stdout",
     "output_type": "stream",
     "text": [
      "\tPRT, 11th phase (15Nov2020 - 25Nov2020): finished  282 trials in 0 min 10 sec"
     ]
    },
    {
     "name": "stdout",
     "output_type": "stream",
     "text": [
      "\n"
     ]
    },
    {
     "name": "stdout",
     "output_type": "stream",
     "text": [
      "\tFIN,  2nd phase (20Apr2020 - 04May2020): finished  279 trials in 0 min 10 sec"
     ]
    },
    {
     "name": "stdout",
     "output_type": "stream",
     "text": [
      "\n"
     ]
    },
    {
     "name": "stdout",
     "output_type": "stream",
     "text": [
      "\tGBR,  8th phase (21Oct2020 - 27Oct2020): finished  282 trials in 0 min 10 sec"
     ]
    },
    {
     "name": "stdout",
     "output_type": "stream",
     "text": [
      "\n"
     ]
    },
    {
     "name": "stdout",
     "output_type": "stream",
     "text": [
      "\tGBR,  3rd phase (28May2020 - 07Aug2020): finished  260 trials in 0 min 10 sec"
     ]
    },
    {
     "name": "stdout",
     "output_type": "stream",
     "text": [
      "\n"
     ]
    },
    {
     "name": "stdout",
     "output_type": "stream",
     "text": [
      "\tGBR,  1st phase (10Apr2020 - 30Apr2020): finished  289 trials in 0 min 10 sec"
     ]
    },
    {
     "name": "stdout",
     "output_type": "stream",
     "text": [
      "\n"
     ]
    },
    {
     "name": "stdout",
     "output_type": "stream",
     "text": [
      "\tDEU, 12th phase (18Nov2020 - 24Nov2020): finished  295 trials in 0 min 10 sec"
     ]
    },
    {
     "name": "stdout",
     "output_type": "stream",
     "text": [
      "\n"
     ]
    },
    {
     "name": "stdout",
     "output_type": "stream",
     "text": [
      "\tDEU, 13th phase (25Nov2020 - 30Nov2020): finished  295 trials in 0 min 10 sec"
     ]
    },
    {
     "name": "stdout",
     "output_type": "stream",
     "text": [
      "\n"
     ]
    },
    {
     "name": "stdout",
     "output_type": "stream",
     "text": [
      "\tFIN, 10th phase (09Nov2020 - 18Nov2020): finished  292 trials in 0 min 10 sec"
     ]
    },
    {
     "name": "stdout",
     "output_type": "stream",
     "text": [
      "\n"
     ]
    },
    {
     "name": "stdout",
     "output_type": "stream",
     "text": [
      "\tNOR, 16th phase (22Dec2020 - 30Dec2020): finished  278 trials in 0 min 10 sec"
     ]
    },
    {
     "name": "stdout",
     "output_type": "stream",
     "text": [
      "\n"
     ]
    },
    {
     "name": "stdout",
     "output_type": "stream",
     "text": [
      "\tFIN,  7th phase (08Oct2020 - 18Oct2020): finished  277 trials in 0 min 10 sec"
     ]
    },
    {
     "name": "stdout",
     "output_type": "stream",
     "text": [
      "\n"
     ]
    },
    {
     "name": "stdout",
     "output_type": "stream",
     "text": [
      "\tITA,  5th phase (29Aug2020 - 30Sep2020): finished  269 trials in 0 min 10 sec"
     ]
    },
    {
     "name": "stdout",
     "output_type": "stream",
     "text": [
      "\n"
     ]
    },
    {
     "name": "stdout",
     "output_type": "stream",
     "text": [
      "\tITA, 16th phase (23Dec2020 - 30Dec2020): finished  275 trials in 0 min 10 sec"
     ]
    },
    {
     "name": "stdout",
     "output_type": "stream",
     "text": [
      "\n"
     ]
    },
    {
     "name": "stdout",
     "output_type": "stream",
     "text": [
      "\tFIN, 12th phase (26Nov2020 - 01Dec2020): finished  291 trials in 0 min 10 sec"
     ]
    },
    {
     "name": "stdout",
     "output_type": "stream",
     "text": [
      "\n"
     ]
    },
    {
     "name": "stdout",
     "output_type": "stream",
     "text": [
      "\tFIN,  9th phase (29Oct2020 - 08Nov2020): finished  288 trials in 0 min 10 sec"
     ]
    },
    {
     "name": "stdout",
     "output_type": "stream",
     "text": [
      "\n"
     ]
    },
    {
     "name": "stdout",
     "output_type": "stream",
     "text": [
      "\tNOR,  4th phase (06Aug2020 - 02Sep2020): finished  284 trials in 0 min 10 sec"
     ]
    },
    {
     "name": "stdout",
     "output_type": "stream",
     "text": [
      "\n"
     ]
    },
    {
     "name": "stdout",
     "output_type": "stream",
     "text": [
      "\tDEU, 15th phase (11Dec2020 - 21Dec2020): finished  287 trials in 0 min 10 sec"
     ]
    },
    {
     "name": "stdout",
     "output_type": "stream",
     "text": [
      "\n"
     ]
    },
    {
     "name": "stdout",
     "output_type": "stream",
     "text": [
      "\tNOR,  2nd phase (06Apr2020 - 02May2020): finished  283 trials in 0 min 10 sec"
     ]
    },
    {
     "name": "stdout",
     "output_type": "stream",
     "text": [
      "\n"
     ]
    },
    {
     "name": "stdout",
     "output_type": "stream",
     "text": [
      "\tGBR,  6th phase (03Oct2020 - 12Oct2020): finished  291 trials in 0 min 10 sec"
     ]
    },
    {
     "name": "stdout",
     "output_type": "stream",
     "text": [
      "\n"
     ]
    },
    {
     "name": "stdout",
     "output_type": "stream",
     "text": [
      "\tNLD, 10th phase (05Nov2020 - 11Nov2020): finished  293 trials in 0 min 10 sec"
     ]
    },
    {
     "name": "stdout",
     "output_type": "stream",
     "text": [
      "\n"
     ]
    },
    {
     "name": "stdout",
     "output_type": "stream",
     "text": [
      "\tNOR, 15th phase (15Dec2020 - 21Dec2020): finished  292 trials in 0 min 10 sec"
     ]
    },
    {
     "name": "stdout",
     "output_type": "stream",
     "text": [
      "\n"
     ]
    },
    {
     "name": "stdout",
     "output_type": "stream",
     "text": [
      "\tFIN,  6th phase (23Sep2020 - 07Oct2020): finished  289 trials in 0 min 10 sec"
     ]
    },
    {
     "name": "stdout",
     "output_type": "stream",
     "text": [
      "\n"
     ]
    },
    {
     "name": "stdout",
     "output_type": "stream",
     "text": [
      "\tFIN,  3rd phase (05May2020 - 27May2020): finished  282 trials in 0 min 10 sec"
     ]
    },
    {
     "name": "stdout",
     "output_type": "stream",
     "text": [
      "\n"
     ]
    },
    {
     "name": "stdout",
     "output_type": "stream",
     "text": [
      "\tDEU, 11th phase (11Nov2020 - 17Nov2020): finished  286 trials in 0 min 10 sec"
     ]
    },
    {
     "name": "stdout",
     "output_type": "stream",
     "text": [
      "\n"
     ]
    },
    {
     "name": "stdout",
     "output_type": "stream",
     "text": [
      "\tNLD,  8th phase (20Oct2020 - 29Oct2020): finished  285 trials in 0 min 10 sec"
     ]
    },
    {
     "name": "stdout",
     "output_type": "stream",
     "text": [
      "\n"
     ]
    },
    {
     "name": "stdout",
     "output_type": "stream",
     "text": [
      "\tNOR,  1st phase (26Mar2020 - 05Apr2020): finished  288 trials in 0 min 10 sec"
     ]
    },
    {
     "name": "stdout",
     "output_type": "stream",
     "text": [
      "\n"
     ]
    },
    {
     "name": "stdout",
     "output_type": "stream",
     "text": [
      "\tNLD, 14th phase (04Dec2020 - 09Dec2020): finished  292 trials in 0 min 10 sec"
     ]
    },
    {
     "name": "stdout",
     "output_type": "stream",
     "text": [
      "\n"
     ]
    },
    {
     "name": "stdout",
     "output_type": "stream",
     "text": [
      "\tNOR,  3rd phase (03May2020 - 05Aug2020): finished  264 trials in 0 min 10 sec"
     ]
    },
    {
     "name": "stdout",
     "output_type": "stream",
     "text": [
      "\n"
     ]
    },
    {
     "name": "stdout",
     "output_type": "stream",
     "text": [
      "\tITA,  4th phase (12May2020 - 28Aug2020): finished  259 trials in 0 min 10 sec"
     ]
    },
    {
     "name": "stdout",
     "output_type": "stream",
     "text": [
      "\n"
     ]
    },
    {
     "name": "stdout",
     "output_type": "stream",
     "text": [
      "\tNOR,  6th phase (20Sep2020 - 05Oct2020): finished  305 trials in 0 min 10 sec"
     ]
    },
    {
     "name": "stdout",
     "output_type": "stream",
     "text": [
      "\n"
     ]
    },
    {
     "name": "stdout",
     "output_type": "stream",
     "text": [
      "\tNLD,  6th phase (07Oct2020 - 13Oct2020): finished  309 trials in 0 min 10 sec"
     ]
    },
    {
     "name": "stdout",
     "output_type": "stream",
     "text": [
      "\n"
     ]
    },
    {
     "name": "stdout",
     "output_type": "stream",
     "text": [
      "\tGBR,  0th phase (23Feb2020 - 09Apr2020): finished  293 trials in 0 min 10 sec"
     ]
    },
    {
     "name": "stdout",
     "output_type": "stream",
     "text": [
      "\n"
     ]
    },
    {
     "name": "stdout",
     "output_type": "stream",
     "text": [
      "\tITA,  1st phase (20Mar2020 - 31Mar2020): finished  277 trials in 0 min 10 sec"
     ]
    },
    {
     "name": "stdout",
     "output_type": "stream",
     "text": [
      "\n"
     ]
    },
    {
     "name": "stdout",
     "output_type": "stream",
     "text": [
      "\tNLD,  3rd phase (10Aug2020 - 12Sep2020): finished  270 trials in 0 min 10 sec"
     ]
    },
    {
     "name": "stdout",
     "output_type": "stream",
     "text": [
      "\n"
     ]
    },
    {
     "name": "stdout",
     "output_type": "stream",
     "text": [
      "\tITA, 13th phase (03Dec2020 - 09Dec2020): finished  279 trials in 0 min 10 sec"
     ]
    },
    {
     "name": "stdout",
     "output_type": "stream",
     "text": [
      "\n"
     ]
    },
    {
     "name": "stdout",
     "output_type": "stream",
     "text": [
      "\tPRT,  3rd phase (14Jun2020 - 14Jul2020): finished  293 trials in 0 min 10 sec"
     ]
    },
    {
     "name": "stdout",
     "output_type": "stream",
     "text": [
      "\n"
     ]
    },
    {
     "name": "stdout",
     "output_type": "stream",
     "text": [
      "\tNOR,  9th phase (29Oct2020 - 03Nov2020): finished  302 trials in 0 min 10 sec"
     ]
    },
    {
     "name": "stdout",
     "output_type": "stream",
     "text": [
      "\n"
     ]
    },
    {
     "name": "stdout",
     "output_type": "stream",
     "text": [
      "\tITA,  3rd phase (17Apr2020 - 11May2020): finished  294 trials in 0 min 10 sec"
     ]
    },
    {
     "name": "stdout",
     "output_type": "stream",
     "text": [
      "\n"
     ]
    },
    {
     "name": "stdout",
     "output_type": "stream",
     "text": [
      "\tNOR, 10th phase (04Nov2020 - 09Nov2020): finished  307 trials in 0 min 10 sec"
     ]
    },
    {
     "name": "stdout",
     "output_type": "stream",
     "text": [
      "\n"
     ]
    },
    {
     "name": "stdout",
     "output_type": "stream",
     "text": [
      "\tITA,  9th phase (28Oct2020 - 06Nov2020): finished  304 trials in 0 min 10 sec"
     ]
    },
    {
     "name": "stdout",
     "output_type": "stream",
     "text": [
      "\n"
     ]
    },
    {
     "name": "stdout",
     "output_type": "stream",
     "text": [
      "\tNOR, 13th phase (30Nov2020 - 07Dec2020): finished  304 trials in 0 min 10 sec"
     ]
    },
    {
     "name": "stdout",
     "output_type": "stream",
     "text": [
      "\n"
     ]
    },
    {
     "name": "stdout",
     "output_type": "stream",
     "text": [
      "\tDEU, 14th phase (01Dec2020 - 10Dec2020): finished  304 trials in 0 min 10 sec"
     ]
    },
    {
     "name": "stdout",
     "output_type": "stream",
     "text": [
      "\n"
     ]
    },
    {
     "name": "stdout",
     "output_type": "stream",
     "text": [
      "\tPRT, 12th phase (26Nov2020 - 02Dec2020): finished  305 trials in 0 min 10 sec"
     ]
    },
    {
     "name": "stdout",
     "output_type": "stream",
     "text": [
      "\n"
     ]
    },
    {
     "name": "stdout",
     "output_type": "stream",
     "text": [
      "\tPRT,  9th phase (29Oct2020 - 04Nov2020): finished  304 trials in 0 min 10 sec"
     ]
    },
    {
     "name": "stdout",
     "output_type": "stream",
     "text": [
      "\n"
     ]
    },
    {
     "name": "stdout",
     "output_type": "stream",
     "text": [
      "\tPRT,  0th phase (14Mar2020 - 07Apr2020): finished  276 trials in 0 min 10 sec"
     ]
    },
    {
     "name": "stdout",
     "output_type": "stream",
     "text": [
      "\n"
     ]
    },
    {
     "name": "stdout",
     "output_type": "stream",
     "text": [
      "\tGBR,  2nd phase (01May2020 - 27May2020): finished  270 trials in 0 min 10 sec"
     ]
    },
    {
     "name": "stdout",
     "output_type": "stream",
     "text": [
      "\n"
     ]
    },
    {
     "name": "stdout",
     "output_type": "stream",
     "text": [
      "\tITA, 11th phase (17Nov2020 - 26Nov2020): finished  277 trials in 0 min 10 sec"
     ]
    },
    {
     "name": "stdout",
     "output_type": "stream",
     "text": [
      "\n"
     ]
    },
    {
     "name": "stdout",
     "output_type": "stream",
     "text": [
      "Completed optimization. Total: 5 min  1 sec\n"
     ]
    }
   ],
   "source": [
    "# Parameter estimation with SIR-F model\n",
    "analyser.estimate(cs.SIRF, timeout=10)"
   ]
  },
  {
   "cell_type": "code",
   "execution_count": 12,
   "metadata": {
    "collapsed": false
   },
   "outputs": [
    {
     "data": {
      "text/html": [
       "<div>\n",
       "<style scoped>\n",
       "    .dataframe tbody tr th:only-of-type {\n",
       "        vertical-align: middle;\n",
       "    }\n",
       "\n",
       "    .dataframe tbody tr th {\n",
       "        vertical-align: top;\n",
       "    }\n",
       "\n",
       "    .dataframe thead th {\n",
       "        text-align: right;\n",
       "    }\n",
       "</style>\n",
       "<table border=\"1\" class=\"dataframe\">\n",
       "  <thead>\n",
       "    <tr style=\"text-align: right;\">\n",
       "      <th></th>\n",
       "      <th></th>\n",
       "      <th>Type</th>\n",
       "      <th>Start</th>\n",
       "      <th>End</th>\n",
       "      <th>Population</th>\n",
       "      <th>ODE</th>\n",
       "      <th>Rt</th>\n",
       "      <th>theta</th>\n",
       "      <th>kappa</th>\n",
       "      <th>rho</th>\n",
       "      <th>sigma</th>\n",
       "      <th>tau</th>\n",
       "      <th>1/alpha2 [day]</th>\n",
       "      <th>1/beta [day]</th>\n",
       "      <th>1/gamma [day]</th>\n",
       "      <th>alpha1 [-]</th>\n",
       "      <th>RMSLE</th>\n",
       "      <th>Trials</th>\n",
       "      <th>Runtime</th>\n",
       "    </tr>\n",
       "    <tr>\n",
       "      <th>Country</th>\n",
       "      <th>Phase</th>\n",
       "      <th></th>\n",
       "      <th></th>\n",
       "      <th></th>\n",
       "      <th></th>\n",
       "      <th></th>\n",
       "      <th></th>\n",
       "      <th></th>\n",
       "      <th></th>\n",
       "      <th></th>\n",
       "      <th></th>\n",
       "      <th></th>\n",
       "      <th></th>\n",
       "      <th></th>\n",
       "      <th></th>\n",
       "      <th></th>\n",
       "      <th></th>\n",
       "      <th></th>\n",
       "      <th></th>\n",
       "    </tr>\n",
       "  </thead>\n",
       "  <tbody>\n",
       "    <tr>\n",
       "      <th rowspan=\"5\" valign=\"top\">United Kingdom</th>\n",
       "      <th>0th</th>\n",
       "      <td>Past</td>\n",
       "      <td>23Feb2020</td>\n",
       "      <td>09Apr2020</td>\n",
       "      <td>66460344</td>\n",
       "      <td>SIR-F</td>\n",
       "      <td>32.06</td>\n",
       "      <td>0.0389303</td>\n",
       "      <td>0.000856904</td>\n",
       "      <td>0.0582984</td>\n",
       "      <td>0.000890809</td>\n",
       "      <td>360</td>\n",
       "      <td>291</td>\n",
       "      <td>4</td>\n",
       "      <td>280</td>\n",
       "      <td>0.039</td>\n",
       "      <td>0.72449</td>\n",
       "      <td>293</td>\n",
       "      <td>0 min 10 sec</td>\n",
       "    </tr>\n",
       "    <tr>\n",
       "      <th>1st</th>\n",
       "      <td>Past</td>\n",
       "      <td>10Apr2020</td>\n",
       "      <td>30Apr2020</td>\n",
       "      <td>66460344</td>\n",
       "      <td>SIR-F</td>\n",
       "      <td>1.31</td>\n",
       "      <td>0.201615</td>\n",
       "      <td>1.88106e-06</td>\n",
       "      <td>0.0195906</td>\n",
       "      <td>0.0119544</td>\n",
       "      <td>360</td>\n",
       "      <td>132903</td>\n",
       "      <td>12</td>\n",
       "      <td>20</td>\n",
       "      <td>0.202</td>\n",
       "      <td>0.0760028</td>\n",
       "      <td>289</td>\n",
       "      <td>0 min 10 sec</td>\n",
       "    </tr>\n",
       "    <tr>\n",
       "      <th>2nd</th>\n",
       "      <td>Past</td>\n",
       "      <td>01May2020</td>\n",
       "      <td>27May2020</td>\n",
       "      <td>66460344</td>\n",
       "      <td>SIR-F</td>\n",
       "      <td>0.82</td>\n",
       "      <td>0.0383651</td>\n",
       "      <td>0.00113808</td>\n",
       "      <td>0.0147168</td>\n",
       "      <td>0.0160411</td>\n",
       "      <td>360</td>\n",
       "      <td>219</td>\n",
       "      <td>16</td>\n",
       "      <td>15</td>\n",
       "      <td>0.038</td>\n",
       "      <td>0.0549466</td>\n",
       "      <td>270</td>\n",
       "      <td>0 min 10 sec</td>\n",
       "    </tr>\n",
       "    <tr>\n",
       "      <th>3rd</th>\n",
       "      <td>Past</td>\n",
       "      <td>28May2020</td>\n",
       "      <td>07Aug2020</td>\n",
       "      <td>66460344</td>\n",
       "      <td>SIR-F</td>\n",
       "      <td>0.7</td>\n",
       "      <td>0.0673926</td>\n",
       "      <td>0.000238462</td>\n",
       "      <td>0.014161</td>\n",
       "      <td>0.0185909</td>\n",
       "      <td>360</td>\n",
       "      <td>1048</td>\n",
       "      <td>17</td>\n",
       "      <td>13</td>\n",
       "      <td>0.067</td>\n",
       "      <td>0.122353</td>\n",
       "      <td>260</td>\n",
       "      <td>0 min 10 sec</td>\n",
       "    </tr>\n",
       "    <tr>\n",
       "      <th>4th</th>\n",
       "      <td>Past</td>\n",
       "      <td>08Aug2020</td>\n",
       "      <td>16Sep2020</td>\n",
       "      <td>66460344</td>\n",
       "      <td>SIR-F</td>\n",
       "      <td>1.46</td>\n",
       "      <td>0.0182079</td>\n",
       "      <td>0.000450842</td>\n",
       "      <td>0.0198976</td>\n",
       "      <td>0.0129323</td>\n",
       "      <td>360</td>\n",
       "      <td>554</td>\n",
       "      <td>12</td>\n",
       "      <td>19</td>\n",
       "      <td>0.018</td>\n",
       "      <td>0.0695468</td>\n",
       "      <td>291</td>\n",
       "      <td>0 min 10 sec</td>\n",
       "    </tr>\n",
       "    <tr>\n",
       "      <th>...</th>\n",
       "      <th>...</th>\n",
       "      <td>...</td>\n",
       "      <td>...</td>\n",
       "      <td>...</td>\n",
       "      <td>...</td>\n",
       "      <td>...</td>\n",
       "      <td>...</td>\n",
       "      <td>...</td>\n",
       "      <td>...</td>\n",
       "      <td>...</td>\n",
       "      <td>...</td>\n",
       "      <td>...</td>\n",
       "      <td>...</td>\n",
       "      <td>...</td>\n",
       "      <td>...</td>\n",
       "      <td>...</td>\n",
       "      <td>...</td>\n",
       "      <td>...</td>\n",
       "      <td>...</td>\n",
       "    </tr>\n",
       "    <tr>\n",
       "      <th rowspan=\"5\" valign=\"top\">Finland</th>\n",
       "      <th>12th</th>\n",
       "      <td>Past</td>\n",
       "      <td>26Nov2020</td>\n",
       "      <td>01Dec2020</td>\n",
       "      <td>5515525</td>\n",
       "      <td>SIR-F</td>\n",
       "      <td>1.76</td>\n",
       "      <td>0.00113172</td>\n",
       "      <td>7.92986e-05</td>\n",
       "      <td>0.0174424</td>\n",
       "      <td>0.00984249</td>\n",
       "      <td>360</td>\n",
       "      <td>3152</td>\n",
       "      <td>14</td>\n",
       "      <td>25</td>\n",
       "      <td>0.001</td>\n",
       "      <td>0.0254803</td>\n",
       "      <td>291</td>\n",
       "      <td>0 min 10 sec</td>\n",
       "    </tr>\n",
       "    <tr>\n",
       "      <th>13th</th>\n",
       "      <td>Past</td>\n",
       "      <td>02Dec2020</td>\n",
       "      <td>08Dec2020</td>\n",
       "      <td>5515525</td>\n",
       "      <td>-</td>\n",
       "      <td>-</td>\n",
       "      <td>-</td>\n",
       "      <td>-</td>\n",
       "      <td>-</td>\n",
       "      <td>-</td>\n",
       "      <td>-</td>\n",
       "      <td>-</td>\n",
       "      <td>-</td>\n",
       "      <td>-</td>\n",
       "      <td>-</td>\n",
       "      <td>-</td>\n",
       "      <td>-</td>\n",
       "      <td>-</td>\n",
       "    </tr>\n",
       "    <tr>\n",
       "      <th>14th</th>\n",
       "      <td>Past</td>\n",
       "      <td>09Dec2020</td>\n",
       "      <td>14Dec2020</td>\n",
       "      <td>5515525</td>\n",
       "      <td>-</td>\n",
       "      <td>-</td>\n",
       "      <td>-</td>\n",
       "      <td>-</td>\n",
       "      <td>-</td>\n",
       "      <td>-</td>\n",
       "      <td>-</td>\n",
       "      <td>-</td>\n",
       "      <td>-</td>\n",
       "      <td>-</td>\n",
       "      <td>-</td>\n",
       "      <td>-</td>\n",
       "      <td>-</td>\n",
       "      <td>-</td>\n",
       "    </tr>\n",
       "    <tr>\n",
       "      <th>15th</th>\n",
       "      <td>Past</td>\n",
       "      <td>15Dec2020</td>\n",
       "      <td>21Dec2020</td>\n",
       "      <td>5515525</td>\n",
       "      <td>-</td>\n",
       "      <td>-</td>\n",
       "      <td>-</td>\n",
       "      <td>-</td>\n",
       "      <td>-</td>\n",
       "      <td>-</td>\n",
       "      <td>-</td>\n",
       "      <td>-</td>\n",
       "      <td>-</td>\n",
       "      <td>-</td>\n",
       "      <td>-</td>\n",
       "      <td>-</td>\n",
       "      <td>-</td>\n",
       "      <td>-</td>\n",
       "    </tr>\n",
       "    <tr>\n",
       "      <th>16th</th>\n",
       "      <td>Past</td>\n",
       "      <td>22Dec2020</td>\n",
       "      <td>30Dec2020</td>\n",
       "      <td>5515525</td>\n",
       "      <td>-</td>\n",
       "      <td>-</td>\n",
       "      <td>-</td>\n",
       "      <td>-</td>\n",
       "      <td>-</td>\n",
       "      <td>-</td>\n",
       "      <td>-</td>\n",
       "      <td>-</td>\n",
       "      <td>-</td>\n",
       "      <td>-</td>\n",
       "      <td>-</td>\n",
       "      <td>-</td>\n",
       "      <td>-</td>\n",
       "      <td>-</td>\n",
       "    </tr>\n",
       "  </tbody>\n",
       "</table>\n",
       "<p>119 rows × 18 columns</p>\n",
       "</div>"
      ],
      "text/plain": [
       "                      Type      Start        End  Population    ODE     Rt  \\\n",
       "Country        Phase                                                         \n",
       "United Kingdom 0th    Past  23Feb2020  09Apr2020    66460344  SIR-F  32.06   \n",
       "               1st    Past  10Apr2020  30Apr2020    66460344  SIR-F   1.31   \n",
       "               2nd    Past  01May2020  27May2020    66460344  SIR-F   0.82   \n",
       "               3rd    Past  28May2020  07Aug2020    66460344  SIR-F    0.7   \n",
       "               4th    Past  08Aug2020  16Sep2020    66460344  SIR-F   1.46   \n",
       "...                    ...        ...        ...         ...    ...    ...   \n",
       "Finland        12th   Past  26Nov2020  01Dec2020     5515525  SIR-F   1.76   \n",
       "               13th   Past  02Dec2020  08Dec2020     5515525      -      -   \n",
       "               14th   Past  09Dec2020  14Dec2020     5515525      -      -   \n",
       "               15th   Past  15Dec2020  21Dec2020     5515525      -      -   \n",
       "               16th   Past  22Dec2020  30Dec2020     5515525      -      -   \n",
       "\n",
       "                           theta        kappa        rho        sigma  tau  \\\n",
       "Country        Phase                                                         \n",
       "United Kingdom 0th     0.0389303  0.000856904  0.0582984  0.000890809  360   \n",
       "               1st      0.201615  1.88106e-06  0.0195906    0.0119544  360   \n",
       "               2nd     0.0383651   0.00113808  0.0147168    0.0160411  360   \n",
       "               3rd     0.0673926  0.000238462   0.014161    0.0185909  360   \n",
       "               4th     0.0182079  0.000450842  0.0198976    0.0129323  360   \n",
       "...                          ...          ...        ...          ...  ...   \n",
       "Finland        12th   0.00113172  7.92986e-05  0.0174424   0.00984249  360   \n",
       "               13th            -            -          -            -    -   \n",
       "               14th            -            -          -            -    -   \n",
       "               15th            -            -          -            -    -   \n",
       "               16th            -            -          -            -    -   \n",
       "\n",
       "                     1/alpha2 [day] 1/beta [day] 1/gamma [day] alpha1 [-]  \\\n",
       "Country        Phase                                                        \n",
       "United Kingdom 0th              291            4           280      0.039   \n",
       "               1st           132903           12            20      0.202   \n",
       "               2nd              219           16            15      0.038   \n",
       "               3rd             1048           17            13      0.067   \n",
       "               4th              554           12            19      0.018   \n",
       "...                             ...          ...           ...        ...   \n",
       "Finland        12th            3152           14            25      0.001   \n",
       "               13th               -            -             -          -   \n",
       "               14th               -            -             -          -   \n",
       "               15th               -            -             -          -   \n",
       "               16th               -            -             -          -   \n",
       "\n",
       "                          RMSLE Trials       Runtime  \n",
       "Country        Phase                                  \n",
       "United Kingdom 0th      0.72449    293  0 min 10 sec  \n",
       "               1st    0.0760028    289  0 min 10 sec  \n",
       "               2nd    0.0549466    270  0 min 10 sec  \n",
       "               3rd     0.122353    260  0 min 10 sec  \n",
       "               4th    0.0695468    291  0 min 10 sec  \n",
       "...                         ...    ...           ...  \n",
       "Finland        12th   0.0254803    291  0 min 10 sec  \n",
       "               13th           -      -             -  \n",
       "               14th           -      -             -  \n",
       "               15th           -      -             -  \n",
       "               16th           -      -             -  \n",
       "\n",
       "[119 rows x 18 columns]"
      ]
     },
     "execution_count": 12,
     "metadata": {},
     "output_type": "execute_result"
    }
   ],
   "source": [
    "# Show summary\n",
    "analyser.summary(countries=countries_show)"
   ]
  },
  {
   "cell_type": "markdown",
   "metadata": {},
   "source": [
    "## Compare the history of parameters\n",
    "Here, compare the history of parameter values if countries."
   ]
  },
  {
   "cell_type": "code",
   "execution_count": 13,
   "metadata": {
    "collapsed": false
   },
   "outputs": [
    {
     "data": {
      "text/html": [
       "<div>\n",
       "<style scoped>\n",
       "    .dataframe tbody tr th:only-of-type {\n",
       "        vertical-align: middle;\n",
       "    }\n",
       "\n",
       "    .dataframe tbody tr th {\n",
       "        vertical-align: top;\n",
       "    }\n",
       "\n",
       "    .dataframe thead th {\n",
       "        text-align: right;\n",
       "    }\n",
       "</style>\n",
       "<table border=\"1\" class=\"dataframe\">\n",
       "  <thead>\n",
       "    <tr style=\"text-align: right;\">\n",
       "      <th></th>\n",
       "      <th>Date</th>\n",
       "      <th>Country</th>\n",
       "      <th>theta</th>\n",
       "      <th>kappa</th>\n",
       "      <th>rho</th>\n",
       "      <th>sigma</th>\n",
       "      <th>alpha1 [-]</th>\n",
       "      <th>1/alpha2 [day]</th>\n",
       "      <th>1/beta [day]</th>\n",
       "      <th>1/gamma [day]</th>\n",
       "      <th>...</th>\n",
       "      <th>Cancel_events</th>\n",
       "      <th>Gatherings_restrictions</th>\n",
       "      <th>Transport_closing</th>\n",
       "      <th>Stay_home_restrictions</th>\n",
       "      <th>Internal_movement_restrictions</th>\n",
       "      <th>International_movement_restrictions</th>\n",
       "      <th>Information_campaigns</th>\n",
       "      <th>Testing_policy</th>\n",
       "      <th>Contact_tracing</th>\n",
       "      <th>Stringency_index</th>\n",
       "    </tr>\n",
       "  </thead>\n",
       "  <tbody>\n",
       "    <tr>\n",
       "      <th>0</th>\n",
       "      <td>2020-02-23</td>\n",
       "      <td>United Kingdom</td>\n",
       "      <td>0.0389303</td>\n",
       "      <td>0.000856904</td>\n",
       "      <td>0.0582984</td>\n",
       "      <td>0.000890809</td>\n",
       "      <td>0.039</td>\n",
       "      <td>291</td>\n",
       "      <td>4</td>\n",
       "      <td>280</td>\n",
       "      <td>...</td>\n",
       "      <td>0</td>\n",
       "      <td>0</td>\n",
       "      <td>0</td>\n",
       "      <td>0</td>\n",
       "      <td>0</td>\n",
       "      <td>0</td>\n",
       "      <td>2</td>\n",
       "      <td>1</td>\n",
       "      <td>2</td>\n",
       "      <td>11.11</td>\n",
       "    </tr>\n",
       "    <tr>\n",
       "      <th>1</th>\n",
       "      <td>2020-02-23</td>\n",
       "      <td>United Kingdom</td>\n",
       "      <td>0.0389303</td>\n",
       "      <td>0.000856904</td>\n",
       "      <td>0.0582984</td>\n",
       "      <td>0.000890809</td>\n",
       "      <td>0.039</td>\n",
       "      <td>291</td>\n",
       "      <td>4</td>\n",
       "      <td>280</td>\n",
       "      <td>...</td>\n",
       "      <td>0</td>\n",
       "      <td>0</td>\n",
       "      <td>0</td>\n",
       "      <td>0</td>\n",
       "      <td>0</td>\n",
       "      <td>0</td>\n",
       "      <td>2</td>\n",
       "      <td>1</td>\n",
       "      <td>2</td>\n",
       "      <td>11.11</td>\n",
       "    </tr>\n",
       "    <tr>\n",
       "      <th>2</th>\n",
       "      <td>2020-02-23</td>\n",
       "      <td>United Kingdom</td>\n",
       "      <td>0.0389303</td>\n",
       "      <td>0.000856904</td>\n",
       "      <td>0.0582984</td>\n",
       "      <td>0.000890809</td>\n",
       "      <td>0.039</td>\n",
       "      <td>291</td>\n",
       "      <td>4</td>\n",
       "      <td>280</td>\n",
       "      <td>...</td>\n",
       "      <td>0</td>\n",
       "      <td>0</td>\n",
       "      <td>0</td>\n",
       "      <td>0</td>\n",
       "      <td>0</td>\n",
       "      <td>0</td>\n",
       "      <td>0</td>\n",
       "      <td>0</td>\n",
       "      <td>0</td>\n",
       "      <td>0.00</td>\n",
       "    </tr>\n",
       "    <tr>\n",
       "      <th>3</th>\n",
       "      <td>2020-02-23</td>\n",
       "      <td>United Kingdom</td>\n",
       "      <td>0.0389303</td>\n",
       "      <td>0.000856904</td>\n",
       "      <td>0.0582984</td>\n",
       "      <td>0.000890809</td>\n",
       "      <td>0.039</td>\n",
       "      <td>291</td>\n",
       "      <td>4</td>\n",
       "      <td>280</td>\n",
       "      <td>...</td>\n",
       "      <td>0</td>\n",
       "      <td>0</td>\n",
       "      <td>0</td>\n",
       "      <td>0</td>\n",
       "      <td>0</td>\n",
       "      <td>0</td>\n",
       "      <td>2</td>\n",
       "      <td>1</td>\n",
       "      <td>2</td>\n",
       "      <td>11.11</td>\n",
       "    </tr>\n",
       "    <tr>\n",
       "      <th>4</th>\n",
       "      <td>2020-02-23</td>\n",
       "      <td>United Kingdom</td>\n",
       "      <td>0.0389303</td>\n",
       "      <td>0.000856904</td>\n",
       "      <td>0.0582984</td>\n",
       "      <td>0.000890809</td>\n",
       "      <td>0.039</td>\n",
       "      <td>291</td>\n",
       "      <td>4</td>\n",
       "      <td>280</td>\n",
       "      <td>...</td>\n",
       "      <td>0</td>\n",
       "      <td>0</td>\n",
       "      <td>0</td>\n",
       "      <td>0</td>\n",
       "      <td>0</td>\n",
       "      <td>0</td>\n",
       "      <td>2</td>\n",
       "      <td>1</td>\n",
       "      <td>2</td>\n",
       "      <td>11.11</td>\n",
       "    </tr>\n",
       "  </tbody>\n",
       "</table>\n",
       "<p>5 rows × 23 columns</p>\n",
       "</div>"
      ],
      "text/plain": [
       "        Date         Country      theta        kappa        rho        sigma  \\\n",
       "0 2020-02-23  United Kingdom  0.0389303  0.000856904  0.0582984  0.000890809   \n",
       "1 2020-02-23  United Kingdom  0.0389303  0.000856904  0.0582984  0.000890809   \n",
       "2 2020-02-23  United Kingdom  0.0389303  0.000856904  0.0582984  0.000890809   \n",
       "3 2020-02-23  United Kingdom  0.0389303  0.000856904  0.0582984  0.000890809   \n",
       "4 2020-02-23  United Kingdom  0.0389303  0.000856904  0.0582984  0.000890809   \n",
       "\n",
       "  alpha1 [-] 1/alpha2 [day] 1/beta [day] 1/gamma [day]  ... Cancel_events  \\\n",
       "0      0.039            291            4           280  ...             0   \n",
       "1      0.039            291            4           280  ...             0   \n",
       "2      0.039            291            4           280  ...             0   \n",
       "3      0.039            291            4           280  ...             0   \n",
       "4      0.039            291            4           280  ...             0   \n",
       "\n",
       "   Gatherings_restrictions  Transport_closing  Stay_home_restrictions  \\\n",
       "0                        0                  0                       0   \n",
       "1                        0                  0                       0   \n",
       "2                        0                  0                       0   \n",
       "3                        0                  0                       0   \n",
       "4                        0                  0                       0   \n",
       "\n",
       "   Internal_movement_restrictions  International_movement_restrictions  \\\n",
       "0                               0                                    0   \n",
       "1                               0                                    0   \n",
       "2                               0                                    0   \n",
       "3                               0                                    0   \n",
       "4                               0                                    0   \n",
       "\n",
       "   Information_campaigns  Testing_policy  Contact_tracing  Stringency_index  \n",
       "0                      2               1                2             11.11  \n",
       "1                      2               1                2             11.11  \n",
       "2                      0               0                0              0.00  \n",
       "3                      2               1                2             11.11  \n",
       "4                      2               1                2             11.11  \n",
       "\n",
       "[5 rows x 23 columns]"
      ]
     },
     "execution_count": 13,
     "metadata": {},
     "output_type": "execute_result"
    }
   ],
   "source": [
    "# All parameter/day parameter/Rt/OxCGRT\n",
    "analyser.track().head()"
   ]
  },
  {
   "cell_type": "markdown",
   "metadata": {},
   "source": [
    "### $Rt$: Reprodcution number $\\mathrm{[-]}$"
   ]
  },
  {
   "cell_type": "code",
   "execution_count": 14,
   "metadata": {
    "collapsed": false
   },
   "outputs": [
    {
     "data": {
      "image/png": "[encoded data removed]",
      "text/plain": [
       "<Figure size 648x432 with 1 Axes>"
      ]
     },
     "metadata": {},
     "output_type": "display_data"
    },
    {
     "data": {
      "text/html": [
       "<div>\n",
       "<style scoped>\n",
       "    .dataframe tbody tr th:only-of-type {\n",
       "        vertical-align: middle;\n",
       "    }\n",
       "\n",
       "    .dataframe tbody tr th {\n",
       "        vertical-align: top;\n",
       "    }\n",
       "\n",
       "    .dataframe thead th {\n",
       "        text-align: right;\n",
       "    }\n",
       "</style>\n",
       "<table border=\"1\" class=\"dataframe\">\n",
       "  <thead>\n",
       "    <tr style=\"text-align: right;\">\n",
       "      <th>Country</th>\n",
       "      <th>Finland</th>\n",
       "      <th>Germany</th>\n",
       "      <th>Italy</th>\n",
       "      <th>Netherlands</th>\n",
       "      <th>Norway</th>\n",
       "      <th>Portugal</th>\n",
       "      <th>United Kingdom</th>\n",
       "    </tr>\n",
       "    <tr>\n",
       "      <th>Date</th>\n",
       "      <th></th>\n",
       "      <th></th>\n",
       "      <th></th>\n",
       "      <th></th>\n",
       "      <th></th>\n",
       "      <th></th>\n",
       "      <th></th>\n",
       "    </tr>\n",
       "  </thead>\n",
       "  <tbody>\n",
       "    <tr>\n",
       "      <th>2020-12-26</th>\n",
       "      <td>1.76</td>\n",
       "      <td>1.19</td>\n",
       "      <td>0.53</td>\n",
       "      <td>1.37</td>\n",
       "      <td>1.13</td>\n",
       "      <td>0.75</td>\n",
       "      <td>2.35</td>\n",
       "    </tr>\n",
       "    <tr>\n",
       "      <th>2020-12-27</th>\n",
       "      <td>1.76</td>\n",
       "      <td>1.19</td>\n",
       "      <td>0.53</td>\n",
       "      <td>1.37</td>\n",
       "      <td>1.13</td>\n",
       "      <td>0.75</td>\n",
       "      <td>2.35</td>\n",
       "    </tr>\n",
       "    <tr>\n",
       "      <th>2020-12-28</th>\n",
       "      <td>1.76</td>\n",
       "      <td>1.19</td>\n",
       "      <td>0.53</td>\n",
       "      <td>1.37</td>\n",
       "      <td>1.13</td>\n",
       "      <td>0.75</td>\n",
       "      <td>2.35</td>\n",
       "    </tr>\n",
       "    <tr>\n",
       "      <th>2020-12-29</th>\n",
       "      <td>1.76</td>\n",
       "      <td>1.19</td>\n",
       "      <td>0.53</td>\n",
       "      <td>1.37</td>\n",
       "      <td>1.13</td>\n",
       "      <td>0.75</td>\n",
       "      <td>2.35</td>\n",
       "    </tr>\n",
       "    <tr>\n",
       "      <th>2020-12-30</th>\n",
       "      <td>1.76</td>\n",
       "      <td>1.19</td>\n",
       "      <td>0.53</td>\n",
       "      <td>1.37</td>\n",
       "      <td>1.13</td>\n",
       "      <td>0.75</td>\n",
       "      <td>2.35</td>\n",
       "    </tr>\n",
       "  </tbody>\n",
       "</table>\n",
       "</div>"
      ],
      "text/plain": [
       "Country     Finland  Germany  Italy  Netherlands  Norway  Portugal  \\\n",
       "Date                                                                 \n",
       "2020-12-26     1.76     1.19   0.53         1.37    1.13      0.75   \n",
       "2020-12-27     1.76     1.19   0.53         1.37    1.13      0.75   \n",
       "2020-12-28     1.76     1.19   0.53         1.37    1.13      0.75   \n",
       "2020-12-29     1.76     1.19   0.53         1.37    1.13      0.75   \n",
       "2020-12-30     1.76     1.19   0.53         1.37    1.13      0.75   \n",
       "\n",
       "Country     United Kingdom  \n",
       "Date                        \n",
       "2020-12-26            2.35  \n",
       "2020-12-27            2.35  \n",
       "2020-12-28            2.35  \n",
       "2020-12-29            2.35  \n",
       "2020-12-30            2.35  "
      ]
     },
     "execution_count": 14,
     "metadata": {},
     "output_type": "execute_result"
    }
   ],
   "source": [
    "analyser.history(\"Rt\", roll_window=None).tail()"
   ]
  },
  {
   "cell_type": "markdown",
   "metadata": {},
   "source": [
    "### $\\rho$: Effective contact rate $\\mathrm{[-]}$"
   ]
  },
  {
   "cell_type": "code",
   "execution_count": 15,
   "metadata": {
    "collapsed": false
   },
   "outputs": [
    {
     "data": {
      "image/png": "[encoded data removed]",
      "text/plain": [
       "<Figure size 648x432 with 1 Axes>"
      ]
     },
     "metadata": {},
     "output_type": "display_data"
    },
    {
     "data": {
      "text/html": [
       "<div>\n",
       "<style scoped>\n",
       "    .dataframe tbody tr th:only-of-type {\n",
       "        vertical-align: middle;\n",
       "    }\n",
       "\n",
       "    .dataframe tbody tr th {\n",
       "        vertical-align: top;\n",
       "    }\n",
       "\n",
       "    .dataframe thead th {\n",
       "        text-align: right;\n",
       "    }\n",
       "</style>\n",
       "<table border=\"1\" class=\"dataframe\">\n",
       "  <thead>\n",
       "    <tr style=\"text-align: right;\">\n",
       "      <th>Country</th>\n",
       "      <th>Finland</th>\n",
       "      <th>Germany</th>\n",
       "      <th>Italy</th>\n",
       "      <th>Netherlands</th>\n",
       "      <th>Norway</th>\n",
       "      <th>Portugal</th>\n",
       "      <th>United Kingdom</th>\n",
       "    </tr>\n",
       "    <tr>\n",
       "      <th>Date</th>\n",
       "      <th></th>\n",
       "      <th></th>\n",
       "      <th></th>\n",
       "      <th></th>\n",
       "      <th></th>\n",
       "      <th></th>\n",
       "      <th></th>\n",
       "    </tr>\n",
       "  </thead>\n",
       "  <tbody>\n",
       "    <tr>\n",
       "      <th>2020-12-26</th>\n",
       "      <td>0.017442</td>\n",
       "      <td>0.018627</td>\n",
       "      <td>0.004067</td>\n",
       "      <td>0.016694</td>\n",
       "      <td>0.016175</td>\n",
       "      <td>0.011522</td>\n",
       "      <td>0.023466</td>\n",
       "    </tr>\n",
       "    <tr>\n",
       "      <th>2020-12-27</th>\n",
       "      <td>0.017442</td>\n",
       "      <td>0.018627</td>\n",
       "      <td>0.004067</td>\n",
       "      <td>0.016694</td>\n",
       "      <td>0.016175</td>\n",
       "      <td>0.011522</td>\n",
       "      <td>0.023466</td>\n",
       "    </tr>\n",
       "    <tr>\n",
       "      <th>2020-12-28</th>\n",
       "      <td>0.017442</td>\n",
       "      <td>0.018627</td>\n",
       "      <td>0.004067</td>\n",
       "      <td>0.016694</td>\n",
       "      <td>0.016175</td>\n",
       "      <td>0.011522</td>\n",
       "      <td>0.023466</td>\n",
       "    </tr>\n",
       "    <tr>\n",
       "      <th>2020-12-29</th>\n",
       "      <td>0.017442</td>\n",
       "      <td>0.018627</td>\n",
       "      <td>0.004067</td>\n",
       "      <td>0.016694</td>\n",
       "      <td>0.016175</td>\n",
       "      <td>0.011522</td>\n",
       "      <td>0.023466</td>\n",
       "    </tr>\n",
       "    <tr>\n",
       "      <th>2020-12-30</th>\n",
       "      <td>0.017442</td>\n",
       "      <td>0.018627</td>\n",
       "      <td>0.004067</td>\n",
       "      <td>0.016694</td>\n",
       "      <td>0.016175</td>\n",
       "      <td>0.011522</td>\n",
       "      <td>0.023466</td>\n",
       "    </tr>\n",
       "  </tbody>\n",
       "</table>\n",
       "</div>"
      ],
      "text/plain": [
       "Country      Finland   Germany     Italy  Netherlands    Norway  Portugal  \\\n",
       "Date                                                                        \n",
       "2020-12-26  0.017442  0.018627  0.004067     0.016694  0.016175  0.011522   \n",
       "2020-12-27  0.017442  0.018627  0.004067     0.016694  0.016175  0.011522   \n",
       "2020-12-28  0.017442  0.018627  0.004067     0.016694  0.016175  0.011522   \n",
       "2020-12-29  0.017442  0.018627  0.004067     0.016694  0.016175  0.011522   \n",
       "2020-12-30  0.017442  0.018627  0.004067     0.016694  0.016175  0.011522   \n",
       "\n",
       "Country     United Kingdom  \n",
       "Date                        \n",
       "2020-12-26        0.023466  \n",
       "2020-12-27        0.023466  \n",
       "2020-12-28        0.023466  \n",
       "2020-12-29        0.023466  \n",
       "2020-12-30        0.023466  "
      ]
     },
     "execution_count": 15,
     "metadata": {},
     "output_type": "execute_result"
    }
   ],
   "source": [
    "analyser.history(\"rho\", roll_window=None).tail()"
   ]
  },
  {
   "cell_type": "markdown",
   "metadata": {},
   "source": [
    "### $\\sigma$: Recovery rate $\\mathrm{[-]}$"
   ]
  },
  {
   "cell_type": "code",
   "execution_count": 16,
   "metadata": {
    "collapsed": false
   },
   "outputs": [
    {
     "data": {
      "image/png": "[encoded data removed]",
      "text/plain": [
       "<Figure size 648x432 with 1 Axes>"
      ]
     },
     "metadata": {},
     "output_type": "display_data"
    },
    {
     "data": {
      "text/html": [
       "<div>\n",
       "<style scoped>\n",
       "    .dataframe tbody tr th:only-of-type {\n",
       "        vertical-align: middle;\n",
       "    }\n",
       "\n",
       "    .dataframe tbody tr th {\n",
       "        vertical-align: top;\n",
       "    }\n",
       "\n",
       "    .dataframe thead th {\n",
       "        text-align: right;\n",
       "    }\n",
       "</style>\n",
       "<table border=\"1\" class=\"dataframe\">\n",
       "  <thead>\n",
       "    <tr style=\"text-align: right;\">\n",
       "      <th>Country</th>\n",
       "      <th>Finland</th>\n",
       "      <th>Germany</th>\n",
       "      <th>Italy</th>\n",
       "      <th>Netherlands</th>\n",
       "      <th>Norway</th>\n",
       "      <th>Portugal</th>\n",
       "      <th>United Kingdom</th>\n",
       "    </tr>\n",
       "    <tr>\n",
       "      <th>Date</th>\n",
       "      <th></th>\n",
       "      <th></th>\n",
       "      <th></th>\n",
       "      <th></th>\n",
       "      <th></th>\n",
       "      <th></th>\n",
       "      <th></th>\n",
       "    </tr>\n",
       "  </thead>\n",
       "  <tbody>\n",
       "    <tr>\n",
       "      <th>2020-12-26</th>\n",
       "      <td>0.009842</td>\n",
       "      <td>0.015413</td>\n",
       "      <td>0.007558</td>\n",
       "      <td>0.012115</td>\n",
       "      <td>0.014178</td>\n",
       "      <td>0.01507</td>\n",
       "      <td>0.009805</td>\n",
       "    </tr>\n",
       "    <tr>\n",
       "      <th>2020-12-27</th>\n",
       "      <td>0.009842</td>\n",
       "      <td>0.015413</td>\n",
       "      <td>0.007558</td>\n",
       "      <td>0.012115</td>\n",
       "      <td>0.014178</td>\n",
       "      <td>0.01507</td>\n",
       "      <td>0.009805</td>\n",
       "    </tr>\n",
       "    <tr>\n",
       "      <th>2020-12-28</th>\n",
       "      <td>0.009842</td>\n",
       "      <td>0.015413</td>\n",
       "      <td>0.007558</td>\n",
       "      <td>0.012115</td>\n",
       "      <td>0.014178</td>\n",
       "      <td>0.01507</td>\n",
       "      <td>0.009805</td>\n",
       "    </tr>\n",
       "    <tr>\n",
       "      <th>2020-12-29</th>\n",
       "      <td>0.009842</td>\n",
       "      <td>0.015413</td>\n",
       "      <td>0.007558</td>\n",
       "      <td>0.012115</td>\n",
       "      <td>0.014178</td>\n",
       "      <td>0.01507</td>\n",
       "      <td>0.009805</td>\n",
       "    </tr>\n",
       "    <tr>\n",
       "      <th>2020-12-30</th>\n",
       "      <td>0.009842</td>\n",
       "      <td>0.015413</td>\n",
       "      <td>0.007558</td>\n",
       "      <td>0.012115</td>\n",
       "      <td>0.014178</td>\n",
       "      <td>0.01507</td>\n",
       "      <td>0.009805</td>\n",
       "    </tr>\n",
       "  </tbody>\n",
       "</table>\n",
       "</div>"
      ],
      "text/plain": [
       "Country      Finland   Germany     Italy  Netherlands    Norway  Portugal  \\\n",
       "Date                                                                        \n",
       "2020-12-26  0.009842  0.015413  0.007558     0.012115  0.014178   0.01507   \n",
       "2020-12-27  0.009842  0.015413  0.007558     0.012115  0.014178   0.01507   \n",
       "2020-12-28  0.009842  0.015413  0.007558     0.012115  0.014178   0.01507   \n",
       "2020-12-29  0.009842  0.015413  0.007558     0.012115  0.014178   0.01507   \n",
       "2020-12-30  0.009842  0.015413  0.007558     0.012115  0.014178   0.01507   \n",
       "\n",
       "Country     United Kingdom  \n",
       "Date                        \n",
       "2020-12-26        0.009805  \n",
       "2020-12-27        0.009805  \n",
       "2020-12-28        0.009805  \n",
       "2020-12-29        0.009805  \n",
       "2020-12-30        0.009805  "
      ]
     },
     "execution_count": 16,
     "metadata": {},
     "output_type": "execute_result"
    }
   ],
   "source": [
    "analyser.history(\"sigma\", roll_window=None).tail()"
   ]
  },
  {
   "cell_type": "markdown",
   "metadata": {},
   "source": [
    "### $\\kappa$: Mortality rate of infected cases $\\mathrm{[-]}$"
   ]
  },
  {
   "cell_type": "code",
   "execution_count": 17,
   "metadata": {
    "collapsed": false
   },
   "outputs": [
    {
     "data": {
      "image/png": "[encoded data removed]",
      "text/plain": [
       "<Figure size 648x432 with 1 Axes>"
      ]
     },
     "metadata": {},
     "output_type": "display_data"
    },
    {
     "data": {
      "text/html": [
       "<div>\n",
       "<style scoped>\n",
       "    .dataframe tbody tr th:only-of-type {\n",
       "        vertical-align: middle;\n",
       "    }\n",
       "\n",
       "    .dataframe tbody tr th {\n",
       "        vertical-align: top;\n",
       "    }\n",
       "\n",
       "    .dataframe thead th {\n",
       "        text-align: right;\n",
       "    }\n",
       "</style>\n",
       "<table border=\"1\" class=\"dataframe\">\n",
       "  <thead>\n",
       "    <tr style=\"text-align: right;\">\n",
       "      <th>Country</th>\n",
       "      <th>Finland</th>\n",
       "      <th>Germany</th>\n",
       "      <th>Italy</th>\n",
       "      <th>Netherlands</th>\n",
       "      <th>Norway</th>\n",
       "      <th>Portugal</th>\n",
       "      <th>United Kingdom</th>\n",
       "    </tr>\n",
       "    <tr>\n",
       "      <th>Date</th>\n",
       "      <th></th>\n",
       "      <th></th>\n",
       "      <th></th>\n",
       "      <th></th>\n",
       "      <th></th>\n",
       "      <th></th>\n",
       "      <th></th>\n",
       "    </tr>\n",
       "  </thead>\n",
       "  <tbody>\n",
       "    <tr>\n",
       "      <th>2020-12-26</th>\n",
       "      <td>0.000079</td>\n",
       "      <td>0.000235</td>\n",
       "      <td>0.000096</td>\n",
       "      <td>0.000079</td>\n",
       "      <td>0.000162</td>\n",
       "      <td>0.000041</td>\n",
       "      <td>0.000005</td>\n",
       "    </tr>\n",
       "    <tr>\n",
       "      <th>2020-12-27</th>\n",
       "      <td>0.000079</td>\n",
       "      <td>0.000235</td>\n",
       "      <td>0.000096</td>\n",
       "      <td>0.000079</td>\n",
       "      <td>0.000162</td>\n",
       "      <td>0.000041</td>\n",
       "      <td>0.000005</td>\n",
       "    </tr>\n",
       "    <tr>\n",
       "      <th>2020-12-28</th>\n",
       "      <td>0.000079</td>\n",
       "      <td>0.000235</td>\n",
       "      <td>0.000096</td>\n",
       "      <td>0.000079</td>\n",
       "      <td>0.000162</td>\n",
       "      <td>0.000041</td>\n",
       "      <td>0.000005</td>\n",
       "    </tr>\n",
       "    <tr>\n",
       "      <th>2020-12-29</th>\n",
       "      <td>0.000079</td>\n",
       "      <td>0.000235</td>\n",
       "      <td>0.000096</td>\n",
       "      <td>0.000079</td>\n",
       "      <td>0.000162</td>\n",
       "      <td>0.000041</td>\n",
       "      <td>0.000005</td>\n",
       "    </tr>\n",
       "    <tr>\n",
       "      <th>2020-12-30</th>\n",
       "      <td>0.000079</td>\n",
       "      <td>0.000235</td>\n",
       "      <td>0.000096</td>\n",
       "      <td>0.000079</td>\n",
       "      <td>0.000162</td>\n",
       "      <td>0.000041</td>\n",
       "      <td>0.000005</td>\n",
       "    </tr>\n",
       "  </tbody>\n",
       "</table>\n",
       "</div>"
      ],
      "text/plain": [
       "Country      Finland   Germany     Italy  Netherlands    Norway  Portugal  \\\n",
       "Date                                                                        \n",
       "2020-12-26  0.000079  0.000235  0.000096     0.000079  0.000162  0.000041   \n",
       "2020-12-27  0.000079  0.000235  0.000096     0.000079  0.000162  0.000041   \n",
       "2020-12-28  0.000079  0.000235  0.000096     0.000079  0.000162  0.000041   \n",
       "2020-12-29  0.000079  0.000235  0.000096     0.000079  0.000162  0.000041   \n",
       "2020-12-30  0.000079  0.000235  0.000096     0.000079  0.000162  0.000041   \n",
       "\n",
       "Country     United Kingdom  \n",
       "Date                        \n",
       "2020-12-26        0.000005  \n",
       "2020-12-27        0.000005  \n",
       "2020-12-28        0.000005  \n",
       "2020-12-29        0.000005  \n",
       "2020-12-30        0.000005  "
      ]
     },
     "execution_count": 17,
     "metadata": {},
     "output_type": "execute_result"
    }
   ],
   "source": [
    "analyser.history(\"kappa\", roll_window=None).tail()"
   ]
  },
  {
   "cell_type": "markdown",
   "metadata": {},
   "source": [
    "### $\\theta$: Mortality rate of S$^\\ast$ cases $\\mathrm{[-]}$"
   ]
  },
  {
   "cell_type": "code",
   "execution_count": 18,
   "metadata": {
    "collapsed": false
   },
   "outputs": [
    {
     "data": {
      "image/png": "[encoded data removed]",
      "text/plain": [
       "<Figure size 648x432 with 1 Axes>"
      ]
     },
     "metadata": {},
     "output_type": "display_data"
    },
    {
     "data": {
      "text/html": [
       "<div>\n",
       "<style scoped>\n",
       "    .dataframe tbody tr th:only-of-type {\n",
       "        vertical-align: middle;\n",
       "    }\n",
       "\n",
       "    .dataframe tbody tr th {\n",
       "        vertical-align: top;\n",
       "    }\n",
       "\n",
       "    .dataframe thead th {\n",
       "        text-align: right;\n",
       "    }\n",
       "</style>\n",
       "<table border=\"1\" class=\"dataframe\">\n",
       "  <thead>\n",
       "    <tr style=\"text-align: right;\">\n",
       "      <th>Country</th>\n",
       "      <th>Finland</th>\n",
       "      <th>Germany</th>\n",
       "      <th>Italy</th>\n",
       "      <th>Netherlands</th>\n",
       "      <th>Norway</th>\n",
       "      <th>Portugal</th>\n",
       "      <th>United Kingdom</th>\n",
       "    </tr>\n",
       "    <tr>\n",
       "      <th>Date</th>\n",
       "      <th></th>\n",
       "      <th></th>\n",
       "      <th></th>\n",
       "      <th></th>\n",
       "      <th></th>\n",
       "      <th></th>\n",
       "      <th></th>\n",
       "    </tr>\n",
       "  </thead>\n",
       "  <tbody>\n",
       "    <tr>\n",
       "      <th>2020-12-26</th>\n",
       "      <td>0.001132</td>\n",
       "      <td>0.001016</td>\n",
       "      <td>0.003041</td>\n",
       "      <td>0.002166</td>\n",
       "      <td>0.001116</td>\n",
       "      <td>0.017892</td>\n",
       "      <td>0.017827</td>\n",
       "    </tr>\n",
       "    <tr>\n",
       "      <th>2020-12-27</th>\n",
       "      <td>0.001132</td>\n",
       "      <td>0.001016</td>\n",
       "      <td>0.003041</td>\n",
       "      <td>0.002166</td>\n",
       "      <td>0.001116</td>\n",
       "      <td>0.017892</td>\n",
       "      <td>0.017827</td>\n",
       "    </tr>\n",
       "    <tr>\n",
       "      <th>2020-12-28</th>\n",
       "      <td>0.001132</td>\n",
       "      <td>0.001016</td>\n",
       "      <td>0.003041</td>\n",
       "      <td>0.002166</td>\n",
       "      <td>0.001116</td>\n",
       "      <td>0.017892</td>\n",
       "      <td>0.017827</td>\n",
       "    </tr>\n",
       "    <tr>\n",
       "      <th>2020-12-29</th>\n",
       "      <td>0.001132</td>\n",
       "      <td>0.001016</td>\n",
       "      <td>0.003041</td>\n",
       "      <td>0.002166</td>\n",
       "      <td>0.001116</td>\n",
       "      <td>0.017892</td>\n",
       "      <td>0.017827</td>\n",
       "    </tr>\n",
       "    <tr>\n",
       "      <th>2020-12-30</th>\n",
       "      <td>0.001132</td>\n",
       "      <td>0.001016</td>\n",
       "      <td>0.003041</td>\n",
       "      <td>0.002166</td>\n",
       "      <td>0.001116</td>\n",
       "      <td>0.017892</td>\n",
       "      <td>0.017827</td>\n",
       "    </tr>\n",
       "  </tbody>\n",
       "</table>\n",
       "</div>"
      ],
      "text/plain": [
       "Country      Finland   Germany     Italy  Netherlands    Norway  Portugal  \\\n",
       "Date                                                                        \n",
       "2020-12-26  0.001132  0.001016  0.003041     0.002166  0.001116  0.017892   \n",
       "2020-12-27  0.001132  0.001016  0.003041     0.002166  0.001116  0.017892   \n",
       "2020-12-28  0.001132  0.001016  0.003041     0.002166  0.001116  0.017892   \n",
       "2020-12-29  0.001132  0.001016  0.003041     0.002166  0.001116  0.017892   \n",
       "2020-12-30  0.001132  0.001016  0.003041     0.002166  0.001116  0.017892   \n",
       "\n",
       "Country     United Kingdom  \n",
       "Date                        \n",
       "2020-12-26        0.017827  \n",
       "2020-12-27        0.017827  \n",
       "2020-12-28        0.017827  \n",
       "2020-12-29        0.017827  \n",
       "2020-12-30        0.017827  "
      ]
     },
     "execution_count": 18,
     "metadata": {},
     "output_type": "execute_result"
    }
   ],
   "source": [
    "analyser.history(\"theta\", roll_window=None).tail()"
   ]
  },
  {
   "cell_type": "markdown",
   "metadata": {},
   "source": [
    "## (Experimental): Relationship of OxCGRT index and parameter values\n",
    "Government responses will impact on parameter values of ODE models about 14 days later. Here, we will investigate on the relationship of [stringency index (from OxCGRT)](https://github.com/OxCGRT/covid-policy-tracker/blob/master/documentation/index_methodology.md) and reproduction number/model parameters.\n"
   ]
  },
  {
   "cell_type": "code",
   "execution_count": 19,
   "metadata": {
    "collapsed": false
   },
   "outputs": [],
   "source": [
    "%matplotlib inline\n",
    "from matplotlib import pyplot as plt\n",
    "import seaborn as sns\n",
    "import pandas as pd"
   ]
  },
  {
   "cell_type": "code",
   "execution_count": 20,
   "metadata": {
    "collapsed": false
   },
   "outputs": [
    {
     "name": "stdout",
     "output_type": "stream",
     "text": [
      "<class 'pandas.core.frame.DataFrame'>\n",
      "Int64Index: 26817 entries, 0 to 26900\n",
      "Data columns (total 19 columns):\n",
      " #   Column                               Non-Null Count  Dtype         \n",
      "---  ------                               --------------  -----         \n",
      " 0   Date                                 26817 non-null  datetime64[ns]\n",
      " 1   Country                              26817 non-null  object        \n",
      " 2   Rt                                   26817 non-null  float64       \n",
      " 3   theta                                26817 non-null  float64       \n",
      " 4   kappa                                26817 non-null  float64       \n",
      " 5   rho                                  26817 non-null  float64       \n",
      " 6   sigma                                26817 non-null  float64       \n",
      " 7   School_closing                       26817 non-null  int64         \n",
      " 8   Workplace_closing                    26817 non-null  int64         \n",
      " 9   Cancel_events                        26817 non-null  int64         \n",
      " 10  Gatherings_restrictions              26817 non-null  int64         \n",
      " 11  Transport_closing                    26817 non-null  int64         \n",
      " 12  Stay_home_restrictions               26817 non-null  int64         \n",
      " 13  Internal_movement_restrictions       26817 non-null  int64         \n",
      " 14  International_movement_restrictions  26817 non-null  int64         \n",
      " 15  Information_campaigns                26817 non-null  int64         \n",
      " 16  Testing_policy                       26817 non-null  int64         \n",
      " 17  Contact_tracing                      26817 non-null  int64         \n",
      " 18  Stringency_index                     26817 non-null  float64       \n",
      "dtypes: datetime64[ns](1), float64(6), int64(11), object(1)\n",
      "memory usage: 4.1+ MB\n"
     ]
    }
   ],
   "source": [
    "df = analyser.track()\n",
    "param_cols = [\"Rt\", *cs.SIRF.PARAMETERS]\n",
    "oxcgrt_cols = oxcgrt_data.OXCGRT_VARS[:]\n",
    "cols = param_cols + oxcgrt_cols\n",
    "delay = 14\n",
    "\n",
    "for col in param_cols:\n",
    "    df[col] = pd.to_numeric(df[col], errors=\"coerce\")\n",
    "    df[col] = df.groupby(\"Country\")[col].shift(0 - delay)\n",
    "\n",
    "df = df.dropna(how=\"any\")\n",
    "df = df.loc[:, [\"Date\", \"Country\", *cols]]\n",
    "track_df = df.copy()\n",
    "track_df.info()"
   ]
  },
  {
   "cell_type": "code",
   "execution_count": 21,
   "metadata": {
    "collapsed": false
   },
   "outputs": [
    {
     "data": {
      "text/html": [
       "<style  type=\"text/css\" >\n",
       "#T_9412788a_4aba_11eb_b184_52540092823brow0_col0,#T_9412788a_4aba_11eb_b184_52540092823brow1_col1,#T_9412788a_4aba_11eb_b184_52540092823brow2_col2,#T_9412788a_4aba_11eb_b184_52540092823brow3_col3,#T_9412788a_4aba_11eb_b184_52540092823brow4_col4,#T_9412788a_4aba_11eb_b184_52540092823brow5_col5,#T_9412788a_4aba_11eb_b184_52540092823brow6_col6,#T_9412788a_4aba_11eb_b184_52540092823brow7_col7,#T_9412788a_4aba_11eb_b184_52540092823brow8_col8,#T_9412788a_4aba_11eb_b184_52540092823brow9_col9,#T_9412788a_4aba_11eb_b184_52540092823brow10_col10,#T_9412788a_4aba_11eb_b184_52540092823brow11_col11,#T_9412788a_4aba_11eb_b184_52540092823brow12_col12,#T_9412788a_4aba_11eb_b184_52540092823brow13_col13,#T_9412788a_4aba_11eb_b184_52540092823brow14_col14,#T_9412788a_4aba_11eb_b184_52540092823brow15_col15,#T_9412788a_4aba_11eb_b184_52540092823brow16_col16{\n",
       "            background-color:  #023858;\n",
       "            color:  #f1f1f1;\n",
       "        }#T_9412788a_4aba_11eb_b184_52540092823brow0_col1,#T_9412788a_4aba_11eb_b184_52540092823brow1_col0{\n",
       "            background-color:  #c2cbe2;\n",
       "            color:  #000000;\n",
       "        }#T_9412788a_4aba_11eb_b184_52540092823brow0_col2,#T_9412788a_4aba_11eb_b184_52540092823brow2_col0,#T_9412788a_4aba_11eb_b184_52540092823brow2_col3,#T_9412788a_4aba_11eb_b184_52540092823brow3_col2,#T_9412788a_4aba_11eb_b184_52540092823brow5_col9,#T_9412788a_4aba_11eb_b184_52540092823brow9_col5{\n",
       "            background-color:  #2d8abd;\n",
       "            color:  #000000;\n",
       "        }#T_9412788a_4aba_11eb_b184_52540092823brow0_col3,#T_9412788a_4aba_11eb_b184_52540092823brow3_col0{\n",
       "            background-color:  #045e94;\n",
       "            color:  #f1f1f1;\n",
       "        }#T_9412788a_4aba_11eb_b184_52540092823brow0_col4,#T_9412788a_4aba_11eb_b184_52540092823brow4_col0{\n",
       "            background-color:  #faf3f9;\n",
       "            color:  #000000;\n",
       "        }#T_9412788a_4aba_11eb_b184_52540092823brow0_col5,#T_9412788a_4aba_11eb_b184_52540092823brow3_col6,#T_9412788a_4aba_11eb_b184_52540092823brow5_col0,#T_9412788a_4aba_11eb_b184_52540092823brow6_col3{\n",
       "            background-color:  #d6d6e9;\n",
       "            color:  #000000;\n",
       "        }#T_9412788a_4aba_11eb_b184_52540092823brow0_col6,#T_9412788a_4aba_11eb_b184_52540092823brow6_col0{\n",
       "            background-color:  #eae6f1;\n",
       "            color:  #000000;\n",
       "        }#T_9412788a_4aba_11eb_b184_52540092823brow0_col7,#T_9412788a_4aba_11eb_b184_52540092823brow7_col0{\n",
       "            background-color:  #fff7fb;\n",
       "            color:  #000000;\n",
       "        }#T_9412788a_4aba_11eb_b184_52540092823brow0_col8,#T_9412788a_4aba_11eb_b184_52540092823brow8_col0{\n",
       "            background-color:  #faf2f8;\n",
       "            color:  #000000;\n",
       "        }#T_9412788a_4aba_11eb_b184_52540092823brow0_col9,#T_9412788a_4aba_11eb_b184_52540092823brow9_col0{\n",
       "            background-color:  #dcdaeb;\n",
       "            color:  #000000;\n",
       "        }#T_9412788a_4aba_11eb_b184_52540092823brow0_col10,#T_9412788a_4aba_11eb_b184_52540092823brow10_col0{\n",
       "            background-color:  #d2d2e7;\n",
       "            color:  #000000;\n",
       "        }#T_9412788a_4aba_11eb_b184_52540092823brow0_col11,#T_9412788a_4aba_11eb_b184_52540092823brow11_col0{\n",
       "            background-color:  #e8e4f0;\n",
       "            color:  #000000;\n",
       "        }#T_9412788a_4aba_11eb_b184_52540092823brow0_col12,#T_9412788a_4aba_11eb_b184_52540092823brow3_col7,#T_9412788a_4aba_11eb_b184_52540092823brow7_col3,#T_9412788a_4aba_11eb_b184_52540092823brow12_col0{\n",
       "            background-color:  #f2ecf5;\n",
       "            color:  #000000;\n",
       "        }#T_9412788a_4aba_11eb_b184_52540092823brow0_col13,#T_9412788a_4aba_11eb_b184_52540092823brow13_col0{\n",
       "            background-color:  #ede7f2;\n",
       "            color:  #000000;\n",
       "        }#T_9412788a_4aba_11eb_b184_52540092823brow0_col14,#T_9412788a_4aba_11eb_b184_52540092823brow14_col0{\n",
       "            background-color:  #f5eff6;\n",
       "            color:  #000000;\n",
       "        }#T_9412788a_4aba_11eb_b184_52540092823brow0_col15,#T_9412788a_4aba_11eb_b184_52540092823brow2_col15,#T_9412788a_4aba_11eb_b184_52540092823brow15_col0,#T_9412788a_4aba_11eb_b184_52540092823brow15_col2{\n",
       "            background-color:  #d8d7e9;\n",
       "            color:  #000000;\n",
       "        }#T_9412788a_4aba_11eb_b184_52540092823brow0_col16,#T_9412788a_4aba_11eb_b184_52540092823brow3_col9,#T_9412788a_4aba_11eb_b184_52540092823brow9_col3,#T_9412788a_4aba_11eb_b184_52540092823brow16_col0{\n",
       "            background-color:  #f0eaf4;\n",
       "            color:  #000000;\n",
       "        }#T_9412788a_4aba_11eb_b184_52540092823brow1_col2,#T_9412788a_4aba_11eb_b184_52540092823brow2_col1{\n",
       "            background-color:  #b0c2de;\n",
       "            color:  #000000;\n",
       "        }#T_9412788a_4aba_11eb_b184_52540092823brow1_col3,#T_9412788a_4aba_11eb_b184_52540092823brow3_col1{\n",
       "            background-color:  #dbdaeb;\n",
       "            color:  #000000;\n",
       "        }#T_9412788a_4aba_11eb_b184_52540092823brow1_col4,#T_9412788a_4aba_11eb_b184_52540092823brow4_col1{\n",
       "            background-color:  #b5c4df;\n",
       "            color:  #000000;\n",
       "        }#T_9412788a_4aba_11eb_b184_52540092823brow1_col5,#T_9412788a_4aba_11eb_b184_52540092823brow5_col1,#T_9412788a_4aba_11eb_b184_52540092823brow5_col6,#T_9412788a_4aba_11eb_b184_52540092823brow6_col5,#T_9412788a_4aba_11eb_b184_52540092823brow7_col10,#T_9412788a_4aba_11eb_b184_52540092823brow10_col7{\n",
       "            background-color:  #167bb6;\n",
       "            color:  #000000;\n",
       "        }#T_9412788a_4aba_11eb_b184_52540092823brow1_col6,#T_9412788a_4aba_11eb_b184_52540092823brow5_col12,#T_9412788a_4aba_11eb_b184_52540092823brow6_col1,#T_9412788a_4aba_11eb_b184_52540092823brow12_col5{\n",
       "            background-color:  #99b8d8;\n",
       "            color:  #000000;\n",
       "        }#T_9412788a_4aba_11eb_b184_52540092823brow1_col7,#T_9412788a_4aba_11eb_b184_52540092823brow7_col1{\n",
       "            background-color:  #7eadd1;\n",
       "            color:  #000000;\n",
       "        }#T_9412788a_4aba_11eb_b184_52540092823brow1_col8,#T_9412788a_4aba_11eb_b184_52540092823brow8_col1{\n",
       "            background-color:  #bdc8e1;\n",
       "            color:  #000000;\n",
       "        }#T_9412788a_4aba_11eb_b184_52540092823brow1_col9,#T_9412788a_4aba_11eb_b184_52540092823brow5_col11,#T_9412788a_4aba_11eb_b184_52540092823brow6_col11,#T_9412788a_4aba_11eb_b184_52540092823brow9_col1,#T_9412788a_4aba_11eb_b184_52540092823brow11_col5,#T_9412788a_4aba_11eb_b184_52540092823brow11_col6{\n",
       "            background-color:  #1379b5;\n",
       "            color:  #f1f1f1;\n",
       "        }#T_9412788a_4aba_11eb_b184_52540092823brow1_col10,#T_9412788a_4aba_11eb_b184_52540092823brow10_col1{\n",
       "            background-color:  #97b7d7;\n",
       "            color:  #000000;\n",
       "        }#T_9412788a_4aba_11eb_b184_52540092823brow1_col11,#T_9412788a_4aba_11eb_b184_52540092823brow6_col9,#T_9412788a_4aba_11eb_b184_52540092823brow9_col6,#T_9412788a_4aba_11eb_b184_52540092823brow9_col10,#T_9412788a_4aba_11eb_b184_52540092823brow10_col9,#T_9412788a_4aba_11eb_b184_52540092823brow11_col1{\n",
       "            background-color:  #509ac6;\n",
       "            color:  #000000;\n",
       "        }#T_9412788a_4aba_11eb_b184_52540092823brow1_col12,#T_9412788a_4aba_11eb_b184_52540092823brow6_col15,#T_9412788a_4aba_11eb_b184_52540092823brow12_col1,#T_9412788a_4aba_11eb_b184_52540092823brow15_col6{\n",
       "            background-color:  #b7c5df;\n",
       "            color:  #000000;\n",
       "        }#T_9412788a_4aba_11eb_b184_52540092823brow1_col13,#T_9412788a_4aba_11eb_b184_52540092823brow4_col15,#T_9412788a_4aba_11eb_b184_52540092823brow13_col1,#T_9412788a_4aba_11eb_b184_52540092823brow15_col4{\n",
       "            background-color:  #89b1d4;\n",
       "            color:  #000000;\n",
       "        }#T_9412788a_4aba_11eb_b184_52540092823brow1_col14,#T_9412788a_4aba_11eb_b184_52540092823brow14_col1,#T_9412788a_4aba_11eb_b184_52540092823brow15_col16,#T_9412788a_4aba_11eb_b184_52540092823brow16_col15{\n",
       "            background-color:  #b1c2de;\n",
       "            color:  #000000;\n",
       "        }#T_9412788a_4aba_11eb_b184_52540092823brow1_col15,#T_9412788a_4aba_11eb_b184_52540092823brow15_col1{\n",
       "            background-color:  #79abd0;\n",
       "            color:  #000000;\n",
       "        }#T_9412788a_4aba_11eb_b184_52540092823brow1_col16,#T_9412788a_4aba_11eb_b184_52540092823brow16_col1{\n",
       "            background-color:  #9ab8d8;\n",
       "            color:  #000000;\n",
       "        }#T_9412788a_4aba_11eb_b184_52540092823brow2_col4,#T_9412788a_4aba_11eb_b184_52540092823brow4_col2{\n",
       "            background-color:  #c8cde4;\n",
       "            color:  #000000;\n",
       "        }#T_9412788a_4aba_11eb_b184_52540092823brow2_col5,#T_9412788a_4aba_11eb_b184_52540092823brow4_col12,#T_9412788a_4aba_11eb_b184_52540092823brow5_col2,#T_9412788a_4aba_11eb_b184_52540092823brow12_col4{\n",
       "            background-color:  #6da6cd;\n",
       "            color:  #000000;\n",
       "        }#T_9412788a_4aba_11eb_b184_52540092823brow2_col6,#T_9412788a_4aba_11eb_b184_52540092823brow6_col2{\n",
       "            background-color:  #96b6d7;\n",
       "            color:  #000000;\n",
       "        }#T_9412788a_4aba_11eb_b184_52540092823brow2_col7,#T_9412788a_4aba_11eb_b184_52540092823brow3_col16,#T_9412788a_4aba_11eb_b184_52540092823brow7_col2,#T_9412788a_4aba_11eb_b184_52540092823brow16_col3{\n",
       "            background-color:  #d3d4e7;\n",
       "            color:  #000000;\n",
       "        }#T_9412788a_4aba_11eb_b184_52540092823brow2_col8,#T_9412788a_4aba_11eb_b184_52540092823brow8_col2{\n",
       "            background-color:  #d4d4e8;\n",
       "            color:  #000000;\n",
       "        }#T_9412788a_4aba_11eb_b184_52540092823brow2_col9,#T_9412788a_4aba_11eb_b184_52540092823brow2_col11,#T_9412788a_4aba_11eb_b184_52540092823brow9_col2,#T_9412788a_4aba_11eb_b184_52540092823brow11_col2{\n",
       "            background-color:  #b3c3de;\n",
       "            color:  #000000;\n",
       "        }#T_9412788a_4aba_11eb_b184_52540092823brow2_col10,#T_9412788a_4aba_11eb_b184_52540092823brow7_col15,#T_9412788a_4aba_11eb_b184_52540092823brow10_col2,#T_9412788a_4aba_11eb_b184_52540092823brow15_col7{\n",
       "            background-color:  #8bb2d4;\n",
       "            color:  #000000;\n",
       "        }#T_9412788a_4aba_11eb_b184_52540092823brow2_col12,#T_9412788a_4aba_11eb_b184_52540092823brow12_col2{\n",
       "            background-color:  #e5e1ef;\n",
       "            color:  #000000;\n",
       "        }#T_9412788a_4aba_11eb_b184_52540092823brow2_col13,#T_9412788a_4aba_11eb_b184_52540092823brow13_col2{\n",
       "            background-color:  #bfc9e1;\n",
       "            color:  #000000;\n",
       "        }#T_9412788a_4aba_11eb_b184_52540092823brow2_col14,#T_9412788a_4aba_11eb_b184_52540092823brow14_col2{\n",
       "            background-color:  #f8f1f8;\n",
       "            color:  #000000;\n",
       "        }#T_9412788a_4aba_11eb_b184_52540092823brow2_col16,#T_9412788a_4aba_11eb_b184_52540092823brow8_col15,#T_9412788a_4aba_11eb_b184_52540092823brow15_col8,#T_9412788a_4aba_11eb_b184_52540092823brow16_col2{\n",
       "            background-color:  #9cb9d9;\n",
       "            color:  #000000;\n",
       "        }#T_9412788a_4aba_11eb_b184_52540092823brow3_col4,#T_9412788a_4aba_11eb_b184_52540092823brow4_col3{\n",
       "            background-color:  #e0deed;\n",
       "            color:  #000000;\n",
       "        }#T_9412788a_4aba_11eb_b184_52540092823brow3_col5,#T_9412788a_4aba_11eb_b184_52540092823brow5_col3{\n",
       "            background-color:  #dad9ea;\n",
       "            color:  #000000;\n",
       "        }#T_9412788a_4aba_11eb_b184_52540092823brow3_col8,#T_9412788a_4aba_11eb_b184_52540092823brow8_col3{\n",
       "            background-color:  #e3e0ee;\n",
       "            color:  #000000;\n",
       "        }#T_9412788a_4aba_11eb_b184_52540092823brow3_col10,#T_9412788a_4aba_11eb_b184_52540092823brow10_col3{\n",
       "            background-color:  #d0d1e6;\n",
       "            color:  #000000;\n",
       "        }#T_9412788a_4aba_11eb_b184_52540092823brow3_col11,#T_9412788a_4aba_11eb_b184_52540092823brow11_col3{\n",
       "            background-color:  #e2dfee;\n",
       "            color:  #000000;\n",
       "        }#T_9412788a_4aba_11eb_b184_52540092823brow3_col12,#T_9412788a_4aba_11eb_b184_52540092823brow12_col3{\n",
       "            background-color:  #e9e5f1;\n",
       "            color:  #000000;\n",
       "        }#T_9412788a_4aba_11eb_b184_52540092823brow3_col13,#T_9412788a_4aba_11eb_b184_52540092823brow3_col15,#T_9412788a_4aba_11eb_b184_52540092823brow13_col3,#T_9412788a_4aba_11eb_b184_52540092823brow15_col3{\n",
       "            background-color:  #c5cce3;\n",
       "            color:  #000000;\n",
       "        }#T_9412788a_4aba_11eb_b184_52540092823brow3_col14,#T_9412788a_4aba_11eb_b184_52540092823brow14_col3{\n",
       "            background-color:  #e7e3f0;\n",
       "            color:  #000000;\n",
       "        }#T_9412788a_4aba_11eb_b184_52540092823brow4_col5,#T_9412788a_4aba_11eb_b184_52540092823brow5_col4{\n",
       "            background-color:  #83afd3;\n",
       "            color:  #000000;\n",
       "        }#T_9412788a_4aba_11eb_b184_52540092823brow4_col6,#T_9412788a_4aba_11eb_b184_52540092823brow6_col4{\n",
       "            background-color:  #60a1ca;\n",
       "            color:  #000000;\n",
       "        }#T_9412788a_4aba_11eb_b184_52540092823brow4_col7,#T_9412788a_4aba_11eb_b184_52540092823brow7_col4{\n",
       "            background-color:  #4094c3;\n",
       "            color:  #000000;\n",
       "        }#T_9412788a_4aba_11eb_b184_52540092823brow4_col8,#T_9412788a_4aba_11eb_b184_52540092823brow8_col4{\n",
       "            background-color:  #2a88bc;\n",
       "            color:  #000000;\n",
       "        }#T_9412788a_4aba_11eb_b184_52540092823brow4_col9,#T_9412788a_4aba_11eb_b184_52540092823brow9_col4{\n",
       "            background-color:  #b9c6e0;\n",
       "            color:  #000000;\n",
       "        }#T_9412788a_4aba_11eb_b184_52540092823brow4_col10,#T_9412788a_4aba_11eb_b184_52540092823brow10_col4{\n",
       "            background-color:  #a8bedc;\n",
       "            color:  #000000;\n",
       "        }#T_9412788a_4aba_11eb_b184_52540092823brow4_col11,#T_9412788a_4aba_11eb_b184_52540092823brow11_col4{\n",
       "            background-color:  #8eb3d5;\n",
       "            color:  #000000;\n",
       "        }#T_9412788a_4aba_11eb_b184_52540092823brow4_col13,#T_9412788a_4aba_11eb_b184_52540092823brow13_col4{\n",
       "            background-color:  #5ea0ca;\n",
       "            color:  #000000;\n",
       "        }#T_9412788a_4aba_11eb_b184_52540092823brow4_col14,#T_9412788a_4aba_11eb_b184_52540092823brow9_col16,#T_9412788a_4aba_11eb_b184_52540092823brow14_col4,#T_9412788a_4aba_11eb_b184_52540092823brow16_col9{\n",
       "            background-color:  #5a9ec9;\n",
       "            color:  #000000;\n",
       "        }#T_9412788a_4aba_11eb_b184_52540092823brow4_col16,#T_9412788a_4aba_11eb_b184_52540092823brow16_col4{\n",
       "            background-color:  #65a3cb;\n",
       "            color:  #000000;\n",
       "        }#T_9412788a_4aba_11eb_b184_52540092823brow5_col7,#T_9412788a_4aba_11eb_b184_52540092823brow7_col5,#T_9412788a_4aba_11eb_b184_52540092823brow10_col11,#T_9412788a_4aba_11eb_b184_52540092823brow11_col10{\n",
       "            background-color:  #1c7fb8;\n",
       "            color:  #000000;\n",
       "        }#T_9412788a_4aba_11eb_b184_52540092823brow5_col8,#T_9412788a_4aba_11eb_b184_52540092823brow8_col5{\n",
       "            background-color:  #4a98c5;\n",
       "            color:  #000000;\n",
       "        }#T_9412788a_4aba_11eb_b184_52540092823brow5_col10,#T_9412788a_4aba_11eb_b184_52540092823brow7_col14,#T_9412788a_4aba_11eb_b184_52540092823brow8_col11,#T_9412788a_4aba_11eb_b184_52540092823brow8_col14,#T_9412788a_4aba_11eb_b184_52540092823brow10_col5,#T_9412788a_4aba_11eb_b184_52540092823brow11_col8,#T_9412788a_4aba_11eb_b184_52540092823brow14_col7,#T_9412788a_4aba_11eb_b184_52540092823brow14_col8{\n",
       "            background-color:  #2484ba;\n",
       "            color:  #000000;\n",
       "        }#T_9412788a_4aba_11eb_b184_52540092823brow5_col13,#T_9412788a_4aba_11eb_b184_52540092823brow8_col12,#T_9412788a_4aba_11eb_b184_52540092823brow12_col8,#T_9412788a_4aba_11eb_b184_52540092823brow13_col5{\n",
       "            background-color:  #549cc7;\n",
       "            color:  #000000;\n",
       "        }#T_9412788a_4aba_11eb_b184_52540092823brow5_col14,#T_9412788a_4aba_11eb_b184_52540092823brow14_col5{\n",
       "            background-color:  #adc1dd;\n",
       "            color:  #000000;\n",
       "        }#T_9412788a_4aba_11eb_b184_52540092823brow5_col15,#T_9412788a_4aba_11eb_b184_52540092823brow15_col5{\n",
       "            background-color:  #a4bcda;\n",
       "            color:  #000000;\n",
       "        }#T_9412788a_4aba_11eb_b184_52540092823brow5_col16,#T_9412788a_4aba_11eb_b184_52540092823brow16_col5{\n",
       "            background-color:  #056faf;\n",
       "            color:  #f1f1f1;\n",
       "        }#T_9412788a_4aba_11eb_b184_52540092823brow6_col7,#T_9412788a_4aba_11eb_b184_52540092823brow6_col8,#T_9412788a_4aba_11eb_b184_52540092823brow7_col6,#T_9412788a_4aba_11eb_b184_52540092823brow8_col6{\n",
       "            background-color:  #04649e;\n",
       "            color:  #f1f1f1;\n",
       "        }#T_9412788a_4aba_11eb_b184_52540092823brow6_col10,#T_9412788a_4aba_11eb_b184_52540092823brow7_col16,#T_9412788a_4aba_11eb_b184_52540092823brow10_col6,#T_9412788a_4aba_11eb_b184_52540092823brow10_col16,#T_9412788a_4aba_11eb_b184_52540092823brow16_col7,#T_9412788a_4aba_11eb_b184_52540092823brow16_col10{\n",
       "            background-color:  #04639b;\n",
       "            color:  #f1f1f1;\n",
       "        }#T_9412788a_4aba_11eb_b184_52540092823brow6_col12,#T_9412788a_4aba_11eb_b184_52540092823brow12_col6{\n",
       "            background-color:  #6fa7ce;\n",
       "            color:  #000000;\n",
       "        }#T_9412788a_4aba_11eb_b184_52540092823brow6_col13,#T_9412788a_4aba_11eb_b184_52540092823brow13_col6,#T_9412788a_4aba_11eb_b184_52540092823brow13_col14,#T_9412788a_4aba_11eb_b184_52540092823brow14_col13{\n",
       "            background-color:  #2987bc;\n",
       "            color:  #000000;\n",
       "        }#T_9412788a_4aba_11eb_b184_52540092823brow6_col14,#T_9412788a_4aba_11eb_b184_52540092823brow14_col6{\n",
       "            background-color:  #69a5cc;\n",
       "            color:  #000000;\n",
       "        }#T_9412788a_4aba_11eb_b184_52540092823brow6_col16,#T_9412788a_4aba_11eb_b184_52540092823brow16_col6{\n",
       "            background-color:  #045e93;\n",
       "            color:  #f1f1f1;\n",
       "        }#T_9412788a_4aba_11eb_b184_52540092823brow7_col8,#T_9412788a_4aba_11eb_b184_52540092823brow8_col7{\n",
       "            background-color:  #0566a0;\n",
       "            color:  #f1f1f1;\n",
       "        }#T_9412788a_4aba_11eb_b184_52540092823brow7_col9,#T_9412788a_4aba_11eb_b184_52540092823brow9_col7,#T_9412788a_4aba_11eb_b184_52540092823brow14_col15,#T_9412788a_4aba_11eb_b184_52540092823brow15_col14{\n",
       "            background-color:  #3991c1;\n",
       "            color:  #000000;\n",
       "        }#T_9412788a_4aba_11eb_b184_52540092823brow7_col11,#T_9412788a_4aba_11eb_b184_52540092823brow11_col7{\n",
       "            background-color:  #0a73b2;\n",
       "            color:  #f1f1f1;\n",
       "        }#T_9412788a_4aba_11eb_b184_52540092823brow7_col12,#T_9412788a_4aba_11eb_b184_52540092823brow12_col7{\n",
       "            background-color:  #348ebf;\n",
       "            color:  #000000;\n",
       "        }#T_9412788a_4aba_11eb_b184_52540092823brow7_col13,#T_9412788a_4aba_11eb_b184_52540092823brow13_col7{\n",
       "            background-color:  #0d75b3;\n",
       "            color:  #f1f1f1;\n",
       "        }#T_9412788a_4aba_11eb_b184_52540092823brow8_col9,#T_9412788a_4aba_11eb_b184_52540092823brow9_col8{\n",
       "            background-color:  #84b0d3;\n",
       "            color:  #000000;\n",
       "        }#T_9412788a_4aba_11eb_b184_52540092823brow8_col10,#T_9412788a_4aba_11eb_b184_52540092823brow10_col8{\n",
       "            background-color:  #1e80b8;\n",
       "            color:  #000000;\n",
       "        }#T_9412788a_4aba_11eb_b184_52540092823brow8_col13,#T_9412788a_4aba_11eb_b184_52540092823brow13_col8{\n",
       "            background-color:  #2c89bd;\n",
       "            color:  #000000;\n",
       "        }#T_9412788a_4aba_11eb_b184_52540092823brow8_col16,#T_9412788a_4aba_11eb_b184_52540092823brow16_col8{\n",
       "            background-color:  #04629a;\n",
       "            color:  #f1f1f1;\n",
       "        }#T_9412788a_4aba_11eb_b184_52540092823brow9_col11,#T_9412788a_4aba_11eb_b184_52540092823brow11_col9{\n",
       "            background-color:  #056fae;\n",
       "            color:  #f1f1f1;\n",
       "        }#T_9412788a_4aba_11eb_b184_52540092823brow9_col12,#T_9412788a_4aba_11eb_b184_52540092823brow11_col12,#T_9412788a_4aba_11eb_b184_52540092823brow12_col9,#T_9412788a_4aba_11eb_b184_52540092823brow12_col11{\n",
       "            background-color:  #a2bcda;\n",
       "            color:  #000000;\n",
       "        }#T_9412788a_4aba_11eb_b184_52540092823brow9_col13,#T_9412788a_4aba_11eb_b184_52540092823brow13_col9{\n",
       "            background-color:  #6ba5cd;\n",
       "            color:  #000000;\n",
       "        }#T_9412788a_4aba_11eb_b184_52540092823brow9_col14,#T_9412788a_4aba_11eb_b184_52540092823brow14_col9{\n",
       "            background-color:  #a5bddb;\n",
       "            color:  #000000;\n",
       "        }#T_9412788a_4aba_11eb_b184_52540092823brow9_col15,#T_9412788a_4aba_11eb_b184_52540092823brow15_col9{\n",
       "            background-color:  #80aed2;\n",
       "            color:  #000000;\n",
       "        }#T_9412788a_4aba_11eb_b184_52540092823brow10_col12,#T_9412788a_4aba_11eb_b184_52540092823brow12_col10{\n",
       "            background-color:  #75a9cf;\n",
       "            color:  #000000;\n",
       "        }#T_9412788a_4aba_11eb_b184_52540092823brow10_col13,#T_9412788a_4aba_11eb_b184_52540092823brow13_col10{\n",
       "            background-color:  #529bc7;\n",
       "            color:  #000000;\n",
       "        }#T_9412788a_4aba_11eb_b184_52540092823brow10_col14,#T_9412788a_4aba_11eb_b184_52540092823brow14_col10{\n",
       "            background-color:  #7bacd1;\n",
       "            color:  #000000;\n",
       "        }#T_9412788a_4aba_11eb_b184_52540092823brow10_col15,#T_9412788a_4aba_11eb_b184_52540092823brow15_col10{\n",
       "            background-color:  #c1cae2;\n",
       "            color:  #000000;\n",
       "        }#T_9412788a_4aba_11eb_b184_52540092823brow11_col13,#T_9412788a_4aba_11eb_b184_52540092823brow13_col11,#T_9412788a_4aba_11eb_b184_52540092823brow13_col15,#T_9412788a_4aba_11eb_b184_52540092823brow15_col13{\n",
       "            background-color:  #4c99c5;\n",
       "            color:  #000000;\n",
       "        }#T_9412788a_4aba_11eb_b184_52540092823brow11_col14,#T_9412788a_4aba_11eb_b184_52540092823brow14_col11{\n",
       "            background-color:  #8cb3d5;\n",
       "            color:  #000000;\n",
       "        }#T_9412788a_4aba_11eb_b184_52540092823brow11_col15,#T_9412788a_4aba_11eb_b184_52540092823brow15_col11{\n",
       "            background-color:  #9fbad9;\n",
       "            color:  #000000;\n",
       "        }#T_9412788a_4aba_11eb_b184_52540092823brow11_col16,#T_9412788a_4aba_11eb_b184_52540092823brow16_col11{\n",
       "            background-color:  #1278b4;\n",
       "            color:  #f1f1f1;\n",
       "        }#T_9412788a_4aba_11eb_b184_52540092823brow12_col13,#T_9412788a_4aba_11eb_b184_52540092823brow13_col12{\n",
       "            background-color:  #3f93c2;\n",
       "            color:  #000000;\n",
       "        }#T_9412788a_4aba_11eb_b184_52540092823brow12_col14,#T_9412788a_4aba_11eb_b184_52540092823brow14_col12{\n",
       "            background-color:  #157ab5;\n",
       "            color:  #000000;\n",
       "        }#T_9412788a_4aba_11eb_b184_52540092823brow12_col15,#T_9412788a_4aba_11eb_b184_52540092823brow15_col12{\n",
       "            background-color:  #3d93c2;\n",
       "            color:  #000000;\n",
       "        }#T_9412788a_4aba_11eb_b184_52540092823brow12_col16,#T_9412788a_4aba_11eb_b184_52540092823brow16_col12{\n",
       "            background-color:  #4496c3;\n",
       "            color:  #000000;\n",
       "        }#T_9412788a_4aba_11eb_b184_52540092823brow13_col16,#T_9412788a_4aba_11eb_b184_52540092823brow16_col13{\n",
       "            background-color:  #1077b4;\n",
       "            color:  #f1f1f1;\n",
       "        }#T_9412788a_4aba_11eb_b184_52540092823brow14_col16,#T_9412788a_4aba_11eb_b184_52540092823brow16_col14{\n",
       "            background-color:  #62a2cb;\n",
       "            color:  #000000;\n",
       "        }</style><table id=\"T_9412788a_4aba_11eb_b184_52540092823b\" ><thead>    <tr>        <th class=\"blank level0\" ></th>        <th class=\"col_heading level0 col0\" >Rt</th>        <th class=\"col_heading level0 col1\" >theta</th>        <th class=\"col_heading level0 col2\" >kappa</th>        <th class=\"col_heading level0 col3\" >rho</th>        <th class=\"col_heading level0 col4\" >sigma</th>        <th class=\"col_heading level0 col5\" >School_closing</th>        <th class=\"col_heading level0 col6\" >Workplace_closing</th>        <th class=\"col_heading level0 col7\" >Cancel_events</th>        <th class=\"col_heading level0 col8\" >Gatherings_restrictions</th>        <th class=\"col_heading level0 col9\" >Transport_closing</th>        <th class=\"col_heading level0 col10\" >Stay_home_restrictions</th>        <th class=\"col_heading level0 col11\" >Internal_movement_restrictions</th>        <th class=\"col_heading level0 col12\" >International_movement_restrictions</th>        <th class=\"col_heading level0 col13\" >Information_campaigns</th>        <th class=\"col_heading level0 col14\" >Testing_policy</th>        <th class=\"col_heading level0 col15\" >Contact_tracing</th>        <th class=\"col_heading level0 col16\" >Stringency_index</th>    </tr></thead><tbody>\n",
       "                <tr>\n",
       "                        <th id=\"T_9412788a_4aba_11eb_b184_52540092823blevel0_row0\" class=\"row_heading level0 row0\" >Rt</th>\n",
       "                        <td id=\"T_9412788a_4aba_11eb_b184_52540092823brow0_col0\" class=\"data row0 col0\" >1.000000</td>\n",
       "                        <td id=\"T_9412788a_4aba_11eb_b184_52540092823brow0_col1\" class=\"data row0 col1\" >-0.160390</td>\n",
       "                        <td id=\"T_9412788a_4aba_11eb_b184_52540092823brow0_col2\" class=\"data row0 col2\" >0.422531</td>\n",
       "                        <td id=\"T_9412788a_4aba_11eb_b184_52540092823brow0_col3\" class=\"data row0 col3\" >0.753665</td>\n",
       "                        <td id=\"T_9412788a_4aba_11eb_b184_52540092823brow0_col4\" class=\"data row0 col4\" >-0.580774</td>\n",
       "                        <td id=\"T_9412788a_4aba_11eb_b184_52540092823brow0_col5\" class=\"data row0 col5\" >-0.266505</td>\n",
       "                        <td id=\"T_9412788a_4aba_11eb_b184_52540092823brow0_col6\" class=\"data row0 col6\" >-0.414553</td>\n",
       "                        <td id=\"T_9412788a_4aba_11eb_b184_52540092823brow0_col7\" class=\"data row0 col7\" >-0.635449</td>\n",
       "                        <td id=\"T_9412788a_4aba_11eb_b184_52540092823brow0_col8\" class=\"data row0 col8\" >-0.575084</td>\n",
       "                        <td id=\"T_9412788a_4aba_11eb_b184_52540092823brow0_col9\" class=\"data row0 col9\" >-0.311351</td>\n",
       "                        <td id=\"T_9412788a_4aba_11eb_b184_52540092823brow0_col10\" class=\"data row0 col10\" >-0.236430</td>\n",
       "                        <td id=\"T_9412788a_4aba_11eb_b184_52540092823brow0_col11\" class=\"data row0 col11\" >-0.401284</td>\n",
       "                        <td id=\"T_9412788a_4aba_11eb_b184_52540092823brow0_col12\" class=\"data row0 col12\" >-0.492347</td>\n",
       "                        <td id=\"T_9412788a_4aba_11eb_b184_52540092823brow0_col13\" class=\"data row0 col13\" >-0.436311</td>\n",
       "                        <td id=\"T_9412788a_4aba_11eb_b184_52540092823brow0_col14\" class=\"data row0 col14\" >-0.533219</td>\n",
       "                        <td id=\"T_9412788a_4aba_11eb_b184_52540092823brow0_col15\" class=\"data row0 col15\" >-0.283942</td>\n",
       "                        <td id=\"T_9412788a_4aba_11eb_b184_52540092823brow0_col16\" class=\"data row0 col16\" >-0.466815</td>\n",
       "            </tr>\n",
       "            <tr>\n",
       "                        <th id=\"T_9412788a_4aba_11eb_b184_52540092823blevel0_row1\" class=\"row_heading level0 row1\" >theta</th>\n",
       "                        <td id=\"T_9412788a_4aba_11eb_b184_52540092823brow1_col0\" class=\"data row1 col0\" >-0.160390</td>\n",
       "                        <td id=\"T_9412788a_4aba_11eb_b184_52540092823brow1_col1\" class=\"data row1 col1\" >1.000000</td>\n",
       "                        <td id=\"T_9412788a_4aba_11eb_b184_52540092823brow1_col2\" class=\"data row1 col2\" >-0.067417</td>\n",
       "                        <td id=\"T_9412788a_4aba_11eb_b184_52540092823brow1_col3\" class=\"data row1 col3\" >-0.308661</td>\n",
       "                        <td id=\"T_9412788a_4aba_11eb_b184_52540092823brow1_col4\" class=\"data row1 col4\" >-0.094762</td>\n",
       "                        <td id=\"T_9412788a_4aba_11eb_b184_52540092823brow1_col5\" class=\"data row1 col5\" >0.514808</td>\n",
       "                        <td id=\"T_9412788a_4aba_11eb_b184_52540092823brow1_col6\" class=\"data row1 col6\" >0.028963</td>\n",
       "                        <td id=\"T_9412788a_4aba_11eb_b184_52540092823brow1_col7\" class=\"data row1 col7\" >0.138493</td>\n",
       "                        <td id=\"T_9412788a_4aba_11eb_b184_52540092823brow1_col8\" class=\"data row1 col8\" >-0.135097</td>\n",
       "                        <td id=\"T_9412788a_4aba_11eb_b184_52540092823brow1_col9\" class=\"data row1 col9\" >0.527712</td>\n",
       "                        <td id=\"T_9412788a_4aba_11eb_b184_52540092823brow1_col10\" class=\"data row1 col10\" >0.038733</td>\n",
       "                        <td id=\"T_9412788a_4aba_11eb_b184_52540092823brow1_col11\" class=\"data row1 col11\" >0.297347</td>\n",
       "                        <td id=\"T_9412788a_4aba_11eb_b184_52540092823brow1_col12\" class=\"data row1 col12\" >-0.100207</td>\n",
       "                        <td id=\"T_9412788a_4aba_11eb_b184_52540092823brow1_col13\" class=\"data row1 col13\" >0.094025</td>\n",
       "                        <td id=\"T_9412788a_4aba_11eb_b184_52540092823brow1_col14\" class=\"data row1 col14\" >-0.079387</td>\n",
       "                        <td id=\"T_9412788a_4aba_11eb_b184_52540092823brow1_col15\" class=\"data row1 col15\" >0.160774</td>\n",
       "                        <td id=\"T_9412788a_4aba_11eb_b184_52540092823brow1_col16\" class=\"data row1 col16\" >0.027682</td>\n",
       "            </tr>\n",
       "            <tr>\n",
       "                        <th id=\"T_9412788a_4aba_11eb_b184_52540092823blevel0_row2\" class=\"row_heading level0 row2\" >kappa</th>\n",
       "                        <td id=\"T_9412788a_4aba_11eb_b184_52540092823brow2_col0\" class=\"data row2 col0\" >0.422531</td>\n",
       "                        <td id=\"T_9412788a_4aba_11eb_b184_52540092823brow2_col1\" class=\"data row2 col1\" >-0.067417</td>\n",
       "                        <td id=\"T_9412788a_4aba_11eb_b184_52540092823brow2_col2\" class=\"data row2 col2\" >1.000000</td>\n",
       "                        <td id=\"T_9412788a_4aba_11eb_b184_52540092823brow2_col3\" class=\"data row2 col3\" >0.424295</td>\n",
       "                        <td id=\"T_9412788a_4aba_11eb_b184_52540092823brow2_col4\" class=\"data row2 col4\" >-0.182747</td>\n",
       "                        <td id=\"T_9412788a_4aba_11eb_b184_52540092823brow2_col5\" class=\"data row2 col5\" >0.202237</td>\n",
       "                        <td id=\"T_9412788a_4aba_11eb_b184_52540092823brow2_col6\" class=\"data row2 col6\" >0.045456</td>\n",
       "                        <td id=\"T_9412788a_4aba_11eb_b184_52540092823brow2_col7\" class=\"data row2 col7\" >-0.246040</td>\n",
       "                        <td id=\"T_9412788a_4aba_11eb_b184_52540092823brow2_col8\" class=\"data row2 col8\" >-0.254553</td>\n",
       "                        <td id=\"T_9412788a_4aba_11eb_b184_52540092823brow2_col9\" class=\"data row2 col9\" >-0.082075</td>\n",
       "                        <td id=\"T_9412788a_4aba_11eb_b184_52540092823brow2_col10\" class=\"data row2 col10\" >0.087246</td>\n",
       "                        <td id=\"T_9412788a_4aba_11eb_b184_52540092823brow2_col11\" class=\"data row2 col11\" >-0.085652</td>\n",
       "                        <td id=\"T_9412788a_4aba_11eb_b184_52540092823brow2_col12\" class=\"data row2 col12\" >-0.379392</td>\n",
       "                        <td id=\"T_9412788a_4aba_11eb_b184_52540092823brow2_col13\" class=\"data row2 col13\" >-0.139420</td>\n",
       "                        <td id=\"T_9412788a_4aba_11eb_b184_52540092823brow2_col14\" class=\"data row2 col14\" >-0.563781</td>\n",
       "                        <td id=\"T_9412788a_4aba_11eb_b184_52540092823brow2_col15\" class=\"data row2 col15\" >-0.281749</td>\n",
       "                        <td id=\"T_9412788a_4aba_11eb_b184_52540092823brow2_col16\" class=\"data row2 col16\" >0.019485</td>\n",
       "            </tr>\n",
       "            <tr>\n",
       "                        <th id=\"T_9412788a_4aba_11eb_b184_52540092823blevel0_row3\" class=\"row_heading level0 row3\" >rho</th>\n",
       "                        <td id=\"T_9412788a_4aba_11eb_b184_52540092823brow3_col0\" class=\"data row3 col0\" >0.753665</td>\n",
       "                        <td id=\"T_9412788a_4aba_11eb_b184_52540092823brow3_col1\" class=\"data row3 col1\" >-0.308661</td>\n",
       "                        <td id=\"T_9412788a_4aba_11eb_b184_52540092823brow3_col2\" class=\"data row3 col2\" >0.424295</td>\n",
       "                        <td id=\"T_9412788a_4aba_11eb_b184_52540092823brow3_col3\" class=\"data row3 col3\" >1.000000</td>\n",
       "                        <td id=\"T_9412788a_4aba_11eb_b184_52540092823brow3_col4\" class=\"data row3 col4\" >-0.347158</td>\n",
       "                        <td id=\"T_9412788a_4aba_11eb_b184_52540092823brow3_col5\" class=\"data row3 col5\" >-0.302463</td>\n",
       "                        <td id=\"T_9412788a_4aba_11eb_b184_52540092823brow3_col6\" class=\"data row3 col6\" >-0.267329</td>\n",
       "                        <td id=\"T_9412788a_4aba_11eb_b184_52540092823brow3_col7\" class=\"data row3 col7\" >-0.500255</td>\n",
       "                        <td id=\"T_9412788a_4aba_11eb_b184_52540092823brow3_col8\" class=\"data row3 col8\" >-0.364617</td>\n",
       "                        <td id=\"T_9412788a_4aba_11eb_b184_52540092823brow3_col9\" class=\"data row3 col9\" >-0.471482</td>\n",
       "                        <td id=\"T_9412788a_4aba_11eb_b184_52540092823brow3_col10\" class=\"data row3 col10\" >-0.222656</td>\n",
       "                        <td id=\"T_9412788a_4aba_11eb_b184_52540092823brow3_col11\" class=\"data row3 col11\" >-0.360653</td>\n",
       "                        <td id=\"T_9412788a_4aba_11eb_b184_52540092823brow3_col12\" class=\"data row3 col12\" >-0.406676</td>\n",
       "                        <td id=\"T_9412788a_4aba_11eb_b184_52540092823brow3_col13\" class=\"data row3 col13\" >-0.173386</td>\n",
       "                        <td id=\"T_9412788a_4aba_11eb_b184_52540092823brow3_col14\" class=\"data row3 col14\" >-0.395838</td>\n",
       "                        <td id=\"T_9412788a_4aba_11eb_b184_52540092823brow3_col15\" class=\"data row3 col15\" >-0.174049</td>\n",
       "                        <td id=\"T_9412788a_4aba_11eb_b184_52540092823brow3_col16\" class=\"data row3 col16\" >-0.250091</td>\n",
       "            </tr>\n",
       "            <tr>\n",
       "                        <th id=\"T_9412788a_4aba_11eb_b184_52540092823blevel0_row4\" class=\"row_heading level0 row4\" >sigma</th>\n",
       "                        <td id=\"T_9412788a_4aba_11eb_b184_52540092823brow4_col0\" class=\"data row4 col0\" >-0.580774</td>\n",
       "                        <td id=\"T_9412788a_4aba_11eb_b184_52540092823brow4_col1\" class=\"data row4 col1\" >-0.094762</td>\n",
       "                        <td id=\"T_9412788a_4aba_11eb_b184_52540092823brow4_col2\" class=\"data row4 col2\" >-0.182747</td>\n",
       "                        <td id=\"T_9412788a_4aba_11eb_b184_52540092823brow4_col3\" class=\"data row4 col3\" >-0.347158</td>\n",
       "                        <td id=\"T_9412788a_4aba_11eb_b184_52540092823brow4_col4\" class=\"data row4 col4\" >1.000000</td>\n",
       "                        <td id=\"T_9412788a_4aba_11eb_b184_52540092823brow4_col5\" class=\"data row4 col5\" >0.118478</td>\n",
       "                        <td id=\"T_9412788a_4aba_11eb_b184_52540092823brow4_col6\" class=\"data row4 col6\" >0.252293</td>\n",
       "                        <td id=\"T_9412788a_4aba_11eb_b184_52540092823brow4_col7\" class=\"data row4 col7\" >0.350576</td>\n",
       "                        <td id=\"T_9412788a_4aba_11eb_b184_52540092823brow4_col8\" class=\"data row4 col8\" >0.435430</td>\n",
       "                        <td id=\"T_9412788a_4aba_11eb_b184_52540092823brow4_col9\" class=\"data row4 col9\" >-0.116246</td>\n",
       "                        <td id=\"T_9412788a_4aba_11eb_b184_52540092823brow4_col10\" class=\"data row4 col10\" >-0.033841</td>\n",
       "                        <td id=\"T_9412788a_4aba_11eb_b184_52540092823brow4_col11\" class=\"data row4 col11\" >0.073880</td>\n",
       "                        <td id=\"T_9412788a_4aba_11eb_b184_52540092823brow4_col12\" class=\"data row4 col12\" >0.207120</td>\n",
       "                        <td id=\"T_9412788a_4aba_11eb_b184_52540092823brow4_col13\" class=\"data row4 col13\" >0.253321</td>\n",
       "                        <td id=\"T_9412788a_4aba_11eb_b184_52540092823brow4_col14\" class=\"data row4 col14\" >0.267175</td>\n",
       "                        <td id=\"T_9412788a_4aba_11eb_b184_52540092823brow4_col15\" class=\"data row4 col15\" >0.096724</td>\n",
       "                        <td id=\"T_9412788a_4aba_11eb_b184_52540092823brow4_col16\" class=\"data row4 col16\" >0.232604</td>\n",
       "            </tr>\n",
       "            <tr>\n",
       "                        <th id=\"T_9412788a_4aba_11eb_b184_52540092823blevel0_row5\" class=\"row_heading level0 row5\" >School_closing</th>\n",
       "                        <td id=\"T_9412788a_4aba_11eb_b184_52540092823brow5_col0\" class=\"data row5 col0\" >-0.266505</td>\n",
       "                        <td id=\"T_9412788a_4aba_11eb_b184_52540092823brow5_col1\" class=\"data row5 col1\" >0.514808</td>\n",
       "                        <td id=\"T_9412788a_4aba_11eb_b184_52540092823brow5_col2\" class=\"data row5 col2\" >0.202237</td>\n",
       "                        <td id=\"T_9412788a_4aba_11eb_b184_52540092823brow5_col3\" class=\"data row5 col3\" >-0.302463</td>\n",
       "                        <td id=\"T_9412788a_4aba_11eb_b184_52540092823brow5_col4\" class=\"data row5 col4\" >0.118478</td>\n",
       "                        <td id=\"T_9412788a_4aba_11eb_b184_52540092823brow5_col5\" class=\"data row5 col5\" >1.000000</td>\n",
       "                        <td id=\"T_9412788a_4aba_11eb_b184_52540092823brow5_col6\" class=\"data row5 col6\" >0.516104</td>\n",
       "                        <td id=\"T_9412788a_4aba_11eb_b184_52540092823brow5_col7\" class=\"data row5 col7\" >0.491018</td>\n",
       "                        <td id=\"T_9412788a_4aba_11eb_b184_52540092823brow5_col8\" class=\"data row5 col8\" >0.317667</td>\n",
       "                        <td id=\"T_9412788a_4aba_11eb_b184_52540092823brow5_col9\" class=\"data row5 col9\" >0.422068</td>\n",
       "                        <td id=\"T_9412788a_4aba_11eb_b184_52540092823brow5_col10\" class=\"data row5 col10\" >0.461073</td>\n",
       "                        <td id=\"T_9412788a_4aba_11eb_b184_52540092823brow5_col11\" class=\"data row5 col11\" >0.533260</td>\n",
       "                        <td id=\"T_9412788a_4aba_11eb_b184_52540092823brow5_col12\" class=\"data row5 col12\" >0.034343</td>\n",
       "                        <td id=\"T_9412788a_4aba_11eb_b184_52540092823brow5_col13\" class=\"data row5 col13\" >0.285630</td>\n",
       "                        <td id=\"T_9412788a_4aba_11eb_b184_52540092823brow5_col14\" class=\"data row5 col14\" >-0.060051</td>\n",
       "                        <td id=\"T_9412788a_4aba_11eb_b184_52540092823brow5_col15\" class=\"data row5 col15\" >-0.011112</td>\n",
       "                        <td id=\"T_9412788a_4aba_11eb_b184_52540092823brow5_col16\" class=\"data row5 col16\" >0.592280</td>\n",
       "            </tr>\n",
       "            <tr>\n",
       "                        <th id=\"T_9412788a_4aba_11eb_b184_52540092823blevel0_row6\" class=\"row_heading level0 row6\" >Workplace_closing</th>\n",
       "                        <td id=\"T_9412788a_4aba_11eb_b184_52540092823brow6_col0\" class=\"data row6 col0\" >-0.414553</td>\n",
       "                        <td id=\"T_9412788a_4aba_11eb_b184_52540092823brow6_col1\" class=\"data row6 col1\" >0.028963</td>\n",
       "                        <td id=\"T_9412788a_4aba_11eb_b184_52540092823brow6_col2\" class=\"data row6 col2\" >0.045456</td>\n",
       "                        <td id=\"T_9412788a_4aba_11eb_b184_52540092823brow6_col3\" class=\"data row6 col3\" >-0.267329</td>\n",
       "                        <td id=\"T_9412788a_4aba_11eb_b184_52540092823brow6_col4\" class=\"data row6 col4\" >0.252293</td>\n",
       "                        <td id=\"T_9412788a_4aba_11eb_b184_52540092823brow6_col5\" class=\"data row6 col5\" >0.516104</td>\n",
       "                        <td id=\"T_9412788a_4aba_11eb_b184_52540092823brow6_col6\" class=\"data row6 col6\" >1.000000</td>\n",
       "                        <td id=\"T_9412788a_4aba_11eb_b184_52540092823brow6_col7\" class=\"data row6 col7\" >0.698506</td>\n",
       "                        <td id=\"T_9412788a_4aba_11eb_b184_52540092823brow6_col8\" class=\"data row6 col8\" >0.694845</td>\n",
       "                        <td id=\"T_9412788a_4aba_11eb_b184_52540092823brow6_col9\" class=\"data row6 col9\" >0.301682</td>\n",
       "                        <td id=\"T_9412788a_4aba_11eb_b184_52540092823brow6_col10\" class=\"data row6 col10\" >0.706690</td>\n",
       "                        <td id=\"T_9412788a_4aba_11eb_b184_52540092823brow6_col11\" class=\"data row6 col11\" >0.529183</td>\n",
       "                        <td id=\"T_9412788a_4aba_11eb_b184_52540092823brow6_col12\" class=\"data row6 col12\" >0.198514</td>\n",
       "                        <td id=\"T_9412788a_4aba_11eb_b184_52540092823brow6_col13\" class=\"data row6 col13\" >0.440229</td>\n",
       "                        <td id=\"T_9412788a_4aba_11eb_b184_52540092823brow6_col14\" class=\"data row6 col14\" >0.217954</td>\n",
       "                        <td id=\"T_9412788a_4aba_11eb_b184_52540092823brow6_col15\" class=\"data row6 col15\" >-0.102914</td>\n",
       "                        <td id=\"T_9412788a_4aba_11eb_b184_52540092823brow6_col16\" class=\"data row6 col16\" >0.759908</td>\n",
       "            </tr>\n",
       "            <tr>\n",
       "                        <th id=\"T_9412788a_4aba_11eb_b184_52540092823blevel0_row7\" class=\"row_heading level0 row7\" >Cancel_events</th>\n",
       "                        <td id=\"T_9412788a_4aba_11eb_b184_52540092823brow7_col0\" class=\"data row7 col0\" >-0.635449</td>\n",
       "                        <td id=\"T_9412788a_4aba_11eb_b184_52540092823brow7_col1\" class=\"data row7 col1\" >0.138493</td>\n",
       "                        <td id=\"T_9412788a_4aba_11eb_b184_52540092823brow7_col2\" class=\"data row7 col2\" >-0.246040</td>\n",
       "                        <td id=\"T_9412788a_4aba_11eb_b184_52540092823brow7_col3\" class=\"data row7 col3\" >-0.500255</td>\n",
       "                        <td id=\"T_9412788a_4aba_11eb_b184_52540092823brow7_col4\" class=\"data row7 col4\" >0.350576</td>\n",
       "                        <td id=\"T_9412788a_4aba_11eb_b184_52540092823brow7_col5\" class=\"data row7 col5\" >0.491018</td>\n",
       "                        <td id=\"T_9412788a_4aba_11eb_b184_52540092823brow7_col6\" class=\"data row7 col6\" >0.698506</td>\n",
       "                        <td id=\"T_9412788a_4aba_11eb_b184_52540092823brow7_col7\" class=\"data row7 col7\" >1.000000</td>\n",
       "                        <td id=\"T_9412788a_4aba_11eb_b184_52540092823brow7_col8\" class=\"data row7 col8\" >0.686668</td>\n",
       "                        <td id=\"T_9412788a_4aba_11eb_b184_52540092823brow7_col9\" class=\"data row7 col9\" >0.375610</td>\n",
       "                        <td id=\"T_9412788a_4aba_11eb_b184_52540092823brow7_col10\" class=\"data row7 col10\" >0.516887</td>\n",
       "                        <td id=\"T_9412788a_4aba_11eb_b184_52540092823brow7_col11\" class=\"data row7 col11\" >0.568791</td>\n",
       "                        <td id=\"T_9412788a_4aba_11eb_b184_52540092823brow7_col12\" class=\"data row7 col12\" >0.399243</td>\n",
       "                        <td id=\"T_9412788a_4aba_11eb_b184_52540092823brow7_col13\" class=\"data row7 col13\" >0.554826</td>\n",
       "                        <td id=\"T_9412788a_4aba_11eb_b184_52540092823brow7_col14\" class=\"data row7 col14\" >0.457023</td>\n",
       "                        <td id=\"T_9412788a_4aba_11eb_b184_52540092823brow7_col15\" class=\"data row7 col15\" >0.089758</td>\n",
       "                        <td id=\"T_9412788a_4aba_11eb_b184_52540092823brow7_col16\" class=\"data row7 col16\" >0.706929</td>\n",
       "            </tr>\n",
       "            <tr>\n",
       "                        <th id=\"T_9412788a_4aba_11eb_b184_52540092823blevel0_row8\" class=\"row_heading level0 row8\" >Gatherings_restrictions</th>\n",
       "                        <td id=\"T_9412788a_4aba_11eb_b184_52540092823brow8_col0\" class=\"data row8 col0\" >-0.575084</td>\n",
       "                        <td id=\"T_9412788a_4aba_11eb_b184_52540092823brow8_col1\" class=\"data row8 col1\" >-0.135097</td>\n",
       "                        <td id=\"T_9412788a_4aba_11eb_b184_52540092823brow8_col2\" class=\"data row8 col2\" >-0.254553</td>\n",
       "                        <td id=\"T_9412788a_4aba_11eb_b184_52540092823brow8_col3\" class=\"data row8 col3\" >-0.364617</td>\n",
       "                        <td id=\"T_9412788a_4aba_11eb_b184_52540092823brow8_col4\" class=\"data row8 col4\" >0.435430</td>\n",
       "                        <td id=\"T_9412788a_4aba_11eb_b184_52540092823brow8_col5\" class=\"data row8 col5\" >0.317667</td>\n",
       "                        <td id=\"T_9412788a_4aba_11eb_b184_52540092823brow8_col6\" class=\"data row8 col6\" >0.694845</td>\n",
       "                        <td id=\"T_9412788a_4aba_11eb_b184_52540092823brow8_col7\" class=\"data row8 col7\" >0.686668</td>\n",
       "                        <td id=\"T_9412788a_4aba_11eb_b184_52540092823brow8_col8\" class=\"data row8 col8\" >1.000000</td>\n",
       "                        <td id=\"T_9412788a_4aba_11eb_b184_52540092823brow8_col9\" class=\"data row8 col9\" >0.113898</td>\n",
       "                        <td id=\"T_9412788a_4aba_11eb_b184_52540092823brow8_col10\" class=\"data row8 col10\" >0.488831</td>\n",
       "                        <td id=\"T_9412788a_4aba_11eb_b184_52540092823brow8_col11\" class=\"data row8 col11\" >0.461754</td>\n",
       "                        <td id=\"T_9412788a_4aba_11eb_b184_52540092823brow8_col12\" class=\"data row8 col12\" >0.286648</td>\n",
       "                        <td id=\"T_9412788a_4aba_11eb_b184_52540092823brow8_col13\" class=\"data row8 col13\" >0.430006</td>\n",
       "                        <td id=\"T_9412788a_4aba_11eb_b184_52540092823brow8_col14\" class=\"data row8 col14\" >0.460969</td>\n",
       "                        <td id=\"T_9412788a_4aba_11eb_b184_52540092823brow8_col15\" class=\"data row8 col15\" >0.018396</td>\n",
       "                        <td id=\"T_9412788a_4aba_11eb_b184_52540092823brow8_col16\" class=\"data row8 col16\" >0.713466</td>\n",
       "            </tr>\n",
       "            <tr>\n",
       "                        <th id=\"T_9412788a_4aba_11eb_b184_52540092823blevel0_row9\" class=\"row_heading level0 row9\" >Transport_closing</th>\n",
       "                        <td id=\"T_9412788a_4aba_11eb_b184_52540092823brow9_col0\" class=\"data row9 col0\" >-0.311351</td>\n",
       "                        <td id=\"T_9412788a_4aba_11eb_b184_52540092823brow9_col1\" class=\"data row9 col1\" >0.527712</td>\n",
       "                        <td id=\"T_9412788a_4aba_11eb_b184_52540092823brow9_col2\" class=\"data row9 col2\" >-0.082075</td>\n",
       "                        <td id=\"T_9412788a_4aba_11eb_b184_52540092823brow9_col3\" class=\"data row9 col3\" >-0.471482</td>\n",
       "                        <td id=\"T_9412788a_4aba_11eb_b184_52540092823brow9_col4\" class=\"data row9 col4\" >-0.116246</td>\n",
       "                        <td id=\"T_9412788a_4aba_11eb_b184_52540092823brow9_col5\" class=\"data row9 col5\" >0.422068</td>\n",
       "                        <td id=\"T_9412788a_4aba_11eb_b184_52540092823brow9_col6\" class=\"data row9 col6\" >0.301682</td>\n",
       "                        <td id=\"T_9412788a_4aba_11eb_b184_52540092823brow9_col7\" class=\"data row9 col7\" >0.375610</td>\n",
       "                        <td id=\"T_9412788a_4aba_11eb_b184_52540092823brow9_col8\" class=\"data row9 col8\" >0.113898</td>\n",
       "                        <td id=\"T_9412788a_4aba_11eb_b184_52540092823brow9_col9\" class=\"data row9 col9\" >1.000000</td>\n",
       "                        <td id=\"T_9412788a_4aba_11eb_b184_52540092823brow9_col10\" class=\"data row9 col10\" >0.297457</td>\n",
       "                        <td id=\"T_9412788a_4aba_11eb_b184_52540092823brow9_col11\" class=\"data row9 col11\" >0.603727</td>\n",
       "                        <td id=\"T_9412788a_4aba_11eb_b184_52540092823brow9_col12\" class=\"data row9 col12\" >-0.009148</td>\n",
       "                        <td id=\"T_9412788a_4aba_11eb_b184_52540092823brow9_col13\" class=\"data row9 col13\" >0.211442</td>\n",
       "                        <td id=\"T_9412788a_4aba_11eb_b184_52540092823brow9_col14\" class=\"data row9 col14\" >-0.020269</td>\n",
       "                        <td id=\"T_9412788a_4aba_11eb_b184_52540092823brow9_col15\" class=\"data row9 col15\" >0.132417</td>\n",
       "                        <td id=\"T_9412788a_4aba_11eb_b184_52540092823brow9_col16\" class=\"data row9 col16\" >0.268320</td>\n",
       "            </tr>\n",
       "            <tr>\n",
       "                        <th id=\"T_9412788a_4aba_11eb_b184_52540092823blevel0_row10\" class=\"row_heading level0 row10\" >Stay_home_restrictions</th>\n",
       "                        <td id=\"T_9412788a_4aba_11eb_b184_52540092823brow10_col0\" class=\"data row10 col0\" >-0.236430</td>\n",
       "                        <td id=\"T_9412788a_4aba_11eb_b184_52540092823brow10_col1\" class=\"data row10 col1\" >0.038733</td>\n",
       "                        <td id=\"T_9412788a_4aba_11eb_b184_52540092823brow10_col2\" class=\"data row10 col2\" >0.087246</td>\n",
       "                        <td id=\"T_9412788a_4aba_11eb_b184_52540092823brow10_col3\" class=\"data row10 col3\" >-0.222656</td>\n",
       "                        <td id=\"T_9412788a_4aba_11eb_b184_52540092823brow10_col4\" class=\"data row10 col4\" >-0.033841</td>\n",
       "                        <td id=\"T_9412788a_4aba_11eb_b184_52540092823brow10_col5\" class=\"data row10 col5\" >0.461073</td>\n",
       "                        <td id=\"T_9412788a_4aba_11eb_b184_52540092823brow10_col6\" class=\"data row10 col6\" >0.706690</td>\n",
       "                        <td id=\"T_9412788a_4aba_11eb_b184_52540092823brow10_col7\" class=\"data row10 col7\" >0.516887</td>\n",
       "                        <td id=\"T_9412788a_4aba_11eb_b184_52540092823brow10_col8\" class=\"data row10 col8\" >0.488831</td>\n",
       "                        <td id=\"T_9412788a_4aba_11eb_b184_52540092823brow10_col9\" class=\"data row10 col9\" >0.297457</td>\n",
       "                        <td id=\"T_9412788a_4aba_11eb_b184_52540092823brow10_col10\" class=\"data row10 col10\" >1.000000</td>\n",
       "                        <td id=\"T_9412788a_4aba_11eb_b184_52540092823brow10_col11\" class=\"data row10 col11\" >0.493281</td>\n",
       "                        <td id=\"T_9412788a_4aba_11eb_b184_52540092823brow10_col12\" class=\"data row10 col12\" >0.180121</td>\n",
       "                        <td id=\"T_9412788a_4aba_11eb_b184_52540092823brow10_col13\" class=\"data row10 col13\" >0.297198</td>\n",
       "                        <td id=\"T_9412788a_4aba_11eb_b184_52540092823brow10_col14\" class=\"data row10 col14\" >0.150884</td>\n",
       "                        <td id=\"T_9412788a_4aba_11eb_b184_52540092823brow10_col15\" class=\"data row10 col15\" >-0.156174</td>\n",
       "                        <td id=\"T_9412788a_4aba_11eb_b184_52540092823brow10_col16\" class=\"data row10 col16\" >0.707895</td>\n",
       "            </tr>\n",
       "            <tr>\n",
       "                        <th id=\"T_9412788a_4aba_11eb_b184_52540092823blevel0_row11\" class=\"row_heading level0 row11\" >Internal_movement_restrictions</th>\n",
       "                        <td id=\"T_9412788a_4aba_11eb_b184_52540092823brow11_col0\" class=\"data row11 col0\" >-0.401284</td>\n",
       "                        <td id=\"T_9412788a_4aba_11eb_b184_52540092823brow11_col1\" class=\"data row11 col1\" >0.297347</td>\n",
       "                        <td id=\"T_9412788a_4aba_11eb_b184_52540092823brow11_col2\" class=\"data row11 col2\" >-0.085652</td>\n",
       "                        <td id=\"T_9412788a_4aba_11eb_b184_52540092823brow11_col3\" class=\"data row11 col3\" >-0.360653</td>\n",
       "                        <td id=\"T_9412788a_4aba_11eb_b184_52540092823brow11_col4\" class=\"data row11 col4\" >0.073880</td>\n",
       "                        <td id=\"T_9412788a_4aba_11eb_b184_52540092823brow11_col5\" class=\"data row11 col5\" >0.533260</td>\n",
       "                        <td id=\"T_9412788a_4aba_11eb_b184_52540092823brow11_col6\" class=\"data row11 col6\" >0.529183</td>\n",
       "                        <td id=\"T_9412788a_4aba_11eb_b184_52540092823brow11_col7\" class=\"data row11 col7\" >0.568791</td>\n",
       "                        <td id=\"T_9412788a_4aba_11eb_b184_52540092823brow11_col8\" class=\"data row11 col8\" >0.461754</td>\n",
       "                        <td id=\"T_9412788a_4aba_11eb_b184_52540092823brow11_col9\" class=\"data row11 col9\" >0.603727</td>\n",
       "                        <td id=\"T_9412788a_4aba_11eb_b184_52540092823brow11_col10\" class=\"data row11 col10\" >0.493281</td>\n",
       "                        <td id=\"T_9412788a_4aba_11eb_b184_52540092823brow11_col11\" class=\"data row11 col11\" >1.000000</td>\n",
       "                        <td id=\"T_9412788a_4aba_11eb_b184_52540092823brow11_col12\" class=\"data row11 col12\" >-0.003201</td>\n",
       "                        <td id=\"T_9412788a_4aba_11eb_b184_52540092823brow11_col13\" class=\"data row11 col13\" >0.314953</td>\n",
       "                        <td id=\"T_9412788a_4aba_11eb_b184_52540092823brow11_col14\" class=\"data row11 col14\" >0.085363</td>\n",
       "                        <td id=\"T_9412788a_4aba_11eb_b184_52540092823brow11_col15\" class=\"data row11 col15\" >0.009365</td>\n",
       "                        <td id=\"T_9412788a_4aba_11eb_b184_52540092823brow11_col16\" class=\"data row11 col16\" >0.537826</td>\n",
       "            </tr>\n",
       "            <tr>\n",
       "                        <th id=\"T_9412788a_4aba_11eb_b184_52540092823blevel0_row12\" class=\"row_heading level0 row12\" >International_movement_restrictions</th>\n",
       "                        <td id=\"T_9412788a_4aba_11eb_b184_52540092823brow12_col0\" class=\"data row12 col0\" >-0.492347</td>\n",
       "                        <td id=\"T_9412788a_4aba_11eb_b184_52540092823brow12_col1\" class=\"data row12 col1\" >-0.100207</td>\n",
       "                        <td id=\"T_9412788a_4aba_11eb_b184_52540092823brow12_col2\" class=\"data row12 col2\" >-0.379392</td>\n",
       "                        <td id=\"T_9412788a_4aba_11eb_b184_52540092823brow12_col3\" class=\"data row12 col3\" >-0.406676</td>\n",
       "                        <td id=\"T_9412788a_4aba_11eb_b184_52540092823brow12_col4\" class=\"data row12 col4\" >0.207120</td>\n",
       "                        <td id=\"T_9412788a_4aba_11eb_b184_52540092823brow12_col5\" class=\"data row12 col5\" >0.034343</td>\n",
       "                        <td id=\"T_9412788a_4aba_11eb_b184_52540092823brow12_col6\" class=\"data row12 col6\" >0.198514</td>\n",
       "                        <td id=\"T_9412788a_4aba_11eb_b184_52540092823brow12_col7\" class=\"data row12 col7\" >0.399243</td>\n",
       "                        <td id=\"T_9412788a_4aba_11eb_b184_52540092823brow12_col8\" class=\"data row12 col8\" >0.286648</td>\n",
       "                        <td id=\"T_9412788a_4aba_11eb_b184_52540092823brow12_col9\" class=\"data row12 col9\" >-0.009148</td>\n",
       "                        <td id=\"T_9412788a_4aba_11eb_b184_52540092823brow12_col10\" class=\"data row12 col10\" >0.180121</td>\n",
       "                        <td id=\"T_9412788a_4aba_11eb_b184_52540092823brow12_col11\" class=\"data row12 col11\" >-0.003201</td>\n",
       "                        <td id=\"T_9412788a_4aba_11eb_b184_52540092823brow12_col12\" class=\"data row12 col12\" >1.000000</td>\n",
       "                        <td id=\"T_9412788a_4aba_11eb_b184_52540092823brow12_col13\" class=\"data row12 col13\" >0.358853</td>\n",
       "                        <td id=\"T_9412788a_4aba_11eb_b184_52540092823brow12_col14\" class=\"data row12 col14\" >0.523548</td>\n",
       "                        <td id=\"T_9412788a_4aba_11eb_b184_52540092823brow12_col15\" class=\"data row12 col15\" >0.364877</td>\n",
       "                        <td id=\"T_9412788a_4aba_11eb_b184_52540092823brow12_col16\" class=\"data row12 col16\" >0.337993</td>\n",
       "            </tr>\n",
       "            <tr>\n",
       "                        <th id=\"T_9412788a_4aba_11eb_b184_52540092823blevel0_row13\" class=\"row_heading level0 row13\" >Information_campaigns</th>\n",
       "                        <td id=\"T_9412788a_4aba_11eb_b184_52540092823brow13_col0\" class=\"data row13 col0\" >-0.436311</td>\n",
       "                        <td id=\"T_9412788a_4aba_11eb_b184_52540092823brow13_col1\" class=\"data row13 col1\" >0.094025</td>\n",
       "                        <td id=\"T_9412788a_4aba_11eb_b184_52540092823brow13_col2\" class=\"data row13 col2\" >-0.139420</td>\n",
       "                        <td id=\"T_9412788a_4aba_11eb_b184_52540092823brow13_col3\" class=\"data row13 col3\" >-0.173386</td>\n",
       "                        <td id=\"T_9412788a_4aba_11eb_b184_52540092823brow13_col4\" class=\"data row13 col4\" >0.253321</td>\n",
       "                        <td id=\"T_9412788a_4aba_11eb_b184_52540092823brow13_col5\" class=\"data row13 col5\" >0.285630</td>\n",
       "                        <td id=\"T_9412788a_4aba_11eb_b184_52540092823brow13_col6\" class=\"data row13 col6\" >0.440229</td>\n",
       "                        <td id=\"T_9412788a_4aba_11eb_b184_52540092823brow13_col7\" class=\"data row13 col7\" >0.554826</td>\n",
       "                        <td id=\"T_9412788a_4aba_11eb_b184_52540092823brow13_col8\" class=\"data row13 col8\" >0.430006</td>\n",
       "                        <td id=\"T_9412788a_4aba_11eb_b184_52540092823brow13_col9\" class=\"data row13 col9\" >0.211442</td>\n",
       "                        <td id=\"T_9412788a_4aba_11eb_b184_52540092823brow13_col10\" class=\"data row13 col10\" >0.297198</td>\n",
       "                        <td id=\"T_9412788a_4aba_11eb_b184_52540092823brow13_col11\" class=\"data row13 col11\" >0.314953</td>\n",
       "                        <td id=\"T_9412788a_4aba_11eb_b184_52540092823brow13_col12\" class=\"data row13 col12\" >0.358853</td>\n",
       "                        <td id=\"T_9412788a_4aba_11eb_b184_52540092823brow13_col13\" class=\"data row13 col13\" >1.000000</td>\n",
       "                        <td id=\"T_9412788a_4aba_11eb_b184_52540092823brow13_col14\" class=\"data row13 col14\" >0.437824</td>\n",
       "                        <td id=\"T_9412788a_4aba_11eb_b184_52540092823brow13_col15\" class=\"data row13 col15\" >0.313644</td>\n",
       "                        <td id=\"T_9412788a_4aba_11eb_b184_52540092823brow13_col16\" class=\"data row13 col16\" >0.544941</td>\n",
       "            </tr>\n",
       "            <tr>\n",
       "                        <th id=\"T_9412788a_4aba_11eb_b184_52540092823blevel0_row14\" class=\"row_heading level0 row14\" >Testing_policy</th>\n",
       "                        <td id=\"T_9412788a_4aba_11eb_b184_52540092823brow14_col0\" class=\"data row14 col0\" >-0.533219</td>\n",
       "                        <td id=\"T_9412788a_4aba_11eb_b184_52540092823brow14_col1\" class=\"data row14 col1\" >-0.079387</td>\n",
       "                        <td id=\"T_9412788a_4aba_11eb_b184_52540092823brow14_col2\" class=\"data row14 col2\" >-0.563781</td>\n",
       "                        <td id=\"T_9412788a_4aba_11eb_b184_52540092823brow14_col3\" class=\"data row14 col3\" >-0.395838</td>\n",
       "                        <td id=\"T_9412788a_4aba_11eb_b184_52540092823brow14_col4\" class=\"data row14 col4\" >0.267175</td>\n",
       "                        <td id=\"T_9412788a_4aba_11eb_b184_52540092823brow14_col5\" class=\"data row14 col5\" >-0.060051</td>\n",
       "                        <td id=\"T_9412788a_4aba_11eb_b184_52540092823brow14_col6\" class=\"data row14 col6\" >0.217954</td>\n",
       "                        <td id=\"T_9412788a_4aba_11eb_b184_52540092823brow14_col7\" class=\"data row14 col7\" >0.457023</td>\n",
       "                        <td id=\"T_9412788a_4aba_11eb_b184_52540092823brow14_col8\" class=\"data row14 col8\" >0.460969</td>\n",
       "                        <td id=\"T_9412788a_4aba_11eb_b184_52540092823brow14_col9\" class=\"data row14 col9\" >-0.020269</td>\n",
       "                        <td id=\"T_9412788a_4aba_11eb_b184_52540092823brow14_col10\" class=\"data row14 col10\" >0.150884</td>\n",
       "                        <td id=\"T_9412788a_4aba_11eb_b184_52540092823brow14_col11\" class=\"data row14 col11\" >0.085363</td>\n",
       "                        <td id=\"T_9412788a_4aba_11eb_b184_52540092823brow14_col12\" class=\"data row14 col12\" >0.523548</td>\n",
       "                        <td id=\"T_9412788a_4aba_11eb_b184_52540092823brow14_col13\" class=\"data row14 col13\" >0.437824</td>\n",
       "                        <td id=\"T_9412788a_4aba_11eb_b184_52540092823brow14_col14\" class=\"data row14 col14\" >1.000000</td>\n",
       "                        <td id=\"T_9412788a_4aba_11eb_b184_52540092823brow14_col15\" class=\"data row14 col15\" >0.375915</td>\n",
       "                        <td id=\"T_9412788a_4aba_11eb_b184_52540092823brow14_col16\" class=\"data row14 col16\" >0.245179</td>\n",
       "            </tr>\n",
       "            <tr>\n",
       "                        <th id=\"T_9412788a_4aba_11eb_b184_52540092823blevel0_row15\" class=\"row_heading level0 row15\" >Contact_tracing</th>\n",
       "                        <td id=\"T_9412788a_4aba_11eb_b184_52540092823brow15_col0\" class=\"data row15 col0\" >-0.283942</td>\n",
       "                        <td id=\"T_9412788a_4aba_11eb_b184_52540092823brow15_col1\" class=\"data row15 col1\" >0.160774</td>\n",
       "                        <td id=\"T_9412788a_4aba_11eb_b184_52540092823brow15_col2\" class=\"data row15 col2\" >-0.281749</td>\n",
       "                        <td id=\"T_9412788a_4aba_11eb_b184_52540092823brow15_col3\" class=\"data row15 col3\" >-0.174049</td>\n",
       "                        <td id=\"T_9412788a_4aba_11eb_b184_52540092823brow15_col4\" class=\"data row15 col4\" >0.096724</td>\n",
       "                        <td id=\"T_9412788a_4aba_11eb_b184_52540092823brow15_col5\" class=\"data row15 col5\" >-0.011112</td>\n",
       "                        <td id=\"T_9412788a_4aba_11eb_b184_52540092823brow15_col6\" class=\"data row15 col6\" >-0.102914</td>\n",
       "                        <td id=\"T_9412788a_4aba_11eb_b184_52540092823brow15_col7\" class=\"data row15 col7\" >0.089758</td>\n",
       "                        <td id=\"T_9412788a_4aba_11eb_b184_52540092823brow15_col8\" class=\"data row15 col8\" >0.018396</td>\n",
       "                        <td id=\"T_9412788a_4aba_11eb_b184_52540092823brow15_col9\" class=\"data row15 col9\" >0.132417</td>\n",
       "                        <td id=\"T_9412788a_4aba_11eb_b184_52540092823brow15_col10\" class=\"data row15 col10\" >-0.156174</td>\n",
       "                        <td id=\"T_9412788a_4aba_11eb_b184_52540092823brow15_col11\" class=\"data row15 col11\" >0.009365</td>\n",
       "                        <td id=\"T_9412788a_4aba_11eb_b184_52540092823brow15_col12\" class=\"data row15 col12\" >0.364877</td>\n",
       "                        <td id=\"T_9412788a_4aba_11eb_b184_52540092823brow15_col13\" class=\"data row15 col13\" >0.313644</td>\n",
       "                        <td id=\"T_9412788a_4aba_11eb_b184_52540092823brow15_col14\" class=\"data row15 col14\" >0.375915</td>\n",
       "                        <td id=\"T_9412788a_4aba_11eb_b184_52540092823brow15_col15\" class=\"data row15 col15\" >1.000000</td>\n",
       "                        <td id=\"T_9412788a_4aba_11eb_b184_52540092823brow15_col16\" class=\"data row15 col16\" >-0.077531</td>\n",
       "            </tr>\n",
       "            <tr>\n",
       "                        <th id=\"T_9412788a_4aba_11eb_b184_52540092823blevel0_row16\" class=\"row_heading level0 row16\" >Stringency_index</th>\n",
       "                        <td id=\"T_9412788a_4aba_11eb_b184_52540092823brow16_col0\" class=\"data row16 col0\" >-0.466815</td>\n",
       "                        <td id=\"T_9412788a_4aba_11eb_b184_52540092823brow16_col1\" class=\"data row16 col1\" >0.027682</td>\n",
       "                        <td id=\"T_9412788a_4aba_11eb_b184_52540092823brow16_col2\" class=\"data row16 col2\" >0.019485</td>\n",
       "                        <td id=\"T_9412788a_4aba_11eb_b184_52540092823brow16_col3\" class=\"data row16 col3\" >-0.250091</td>\n",
       "                        <td id=\"T_9412788a_4aba_11eb_b184_52540092823brow16_col4\" class=\"data row16 col4\" >0.232604</td>\n",
       "                        <td id=\"T_9412788a_4aba_11eb_b184_52540092823brow16_col5\" class=\"data row16 col5\" >0.592280</td>\n",
       "                        <td id=\"T_9412788a_4aba_11eb_b184_52540092823brow16_col6\" class=\"data row16 col6\" >0.759908</td>\n",
       "                        <td id=\"T_9412788a_4aba_11eb_b184_52540092823brow16_col7\" class=\"data row16 col7\" >0.706929</td>\n",
       "                        <td id=\"T_9412788a_4aba_11eb_b184_52540092823brow16_col8\" class=\"data row16 col8\" >0.713466</td>\n",
       "                        <td id=\"T_9412788a_4aba_11eb_b184_52540092823brow16_col9\" class=\"data row16 col9\" >0.268320</td>\n",
       "                        <td id=\"T_9412788a_4aba_11eb_b184_52540092823brow16_col10\" class=\"data row16 col10\" >0.707895</td>\n",
       "                        <td id=\"T_9412788a_4aba_11eb_b184_52540092823brow16_col11\" class=\"data row16 col11\" >0.537826</td>\n",
       "                        <td id=\"T_9412788a_4aba_11eb_b184_52540092823brow16_col12\" class=\"data row16 col12\" >0.337993</td>\n",
       "                        <td id=\"T_9412788a_4aba_11eb_b184_52540092823brow16_col13\" class=\"data row16 col13\" >0.544941</td>\n",
       "                        <td id=\"T_9412788a_4aba_11eb_b184_52540092823brow16_col14\" class=\"data row16 col14\" >0.245179</td>\n",
       "                        <td id=\"T_9412788a_4aba_11eb_b184_52540092823brow16_col15\" class=\"data row16 col15\" >-0.077531</td>\n",
       "                        <td id=\"T_9412788a_4aba_11eb_b184_52540092823brow16_col16\" class=\"data row16 col16\" >1.000000</td>\n",
       "            </tr>\n",
       "    </tbody></table>"
      ],
      "text/plain": [
       "<pandas.io.formats.style.Styler at 0x7f2cfa6f0a60>"
      ]
     },
     "execution_count": 21,
     "metadata": {},
     "output_type": "execute_result"
    }
   ],
   "source": [
    "# Correlation\n",
    "df = track_df.copy()\n",
    "df.corr().style.background_gradient(axis=None)"
   ]
  },
  {
   "cell_type": "code",
   "execution_count": 22,
   "metadata": {
    "collapsed": false
   },
   "outputs": [
    {
     "data": {
      "image/png": "[encoded data removed]",
      "text/plain": [
       "<Figure size 432x288 with 1 Axes>"
      ]
     },
     "metadata": {},
     "output_type": "display_data"
    }
   ],
   "source": [
    "# Scatter plot of Stringency index and Rt\n",
    "df = track_df.copy()\n",
    "sns.scatterplot(data=df, x=\"Stringency_index\", y=\"Rt\", hue=\"Country\", legend=\"brief\", marker=\"+\")\n",
    "bbox_to_anchor=(1.02, 0)\n",
    "bbox_loc=\"lower left\"\n",
    "plt.legend(bbox_to_anchor=bbox_to_anchor, loc=bbox_loc, borderaxespad=0)\n",
    "plt.title(\"Relationship of Stringency index and reproduction number\")\n",
    "plt.ylabel(\"Reproduction number\")\n",
    "plt.xlabel(\"Stringency index\")\n",
    "plt.show()"
   ]
  }
 ],
 "metadata": {
  "kernelspec": {
   "display_name": "Python 3.8.2 64-bit ('.venv': venv)",
   "name": "python_defaultSpec_1597669925034"
  },
  "language_info": {
   "codemirror_mode": {
    "name": "ipython",
    "version": 3
   },
   "file_extension": ".py",
   "mimetype": "text/x-python",
   "name": "python",
   "nbconvert_exporter": "python",
   "pygments_lexer": "ipython3",
   "version": "3.8.2-final"
  }
 },
 "nbformat": 4,
 "nbformat_minor": 4
}
