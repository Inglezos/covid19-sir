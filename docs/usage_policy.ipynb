{
 "cells": [
  {
   "cell_type": "markdown",
   "metadata": {},
   "source": [
    "# Usage: policy measures\n",
    "Here, we will analyse the relationship of policy measures and parameter values of SIR-derived ODE models. Policy measures are tracked by [Oxford Covid-19 Government Response Tracker (OxCGRT)](https://github.com/OxCGRT/covid-policy-tracker)."
   ]
  },
  {
   "cell_type": "markdown",
   "metadata": {},
   "source": [
    "## Preparation"
   ]
  },
  {
   "cell_type": "code",
   "execution_count": 1,
   "metadata": {
    "execution": {
     "iopub.execute_input": "2021-02-15T15:31:21.644342Z",
     "iopub.status.busy": "2021-02-15T15:31:21.643182Z",
     "iopub.status.idle": "2021-02-15T15:31:21.645726Z",
     "shell.execute_reply": "2021-02-15T15:31:21.645057Z"
    }
   },
   "outputs": [],
   "source": [
    "# Standard users\n",
    "# !pip install covsirphy\n",
    "# Developers (Note: this notebook is in example directory)\n",
    "import os\n",
    "os.chdir(\"../\")"
   ]
  },
  {
   "cell_type": "code",
   "execution_count": 2,
   "metadata": {
    "execution": {
     "iopub.execute_input": "2021-02-15T15:31:21.651283Z",
     "iopub.status.busy": "2021-02-15T15:31:21.650081Z",
     "iopub.status.idle": "2021-02-15T15:31:21.652392Z",
     "shell.execute_reply": "2021-02-15T15:31:21.652887Z"
    }
   },
   "outputs": [],
   "source": [
    "from pprint import pprint"
   ]
  },
  {
   "cell_type": "code",
   "execution_count": 3,
   "metadata": {
    "execution": {
     "iopub.execute_input": "2021-02-15T15:31:21.657150Z",
     "iopub.status.busy": "2021-02-15T15:31:21.656544Z",
     "iopub.status.idle": "2021-02-15T15:31:24.286683Z",
     "shell.execute_reply": "2021-02-15T15:31:24.287109Z"
    }
   },
   "outputs": [
    {
     "data": {
      "text/plain": [
       "'2.16.2-alpha'"
      ]
     },
     "execution_count": 1,
     "metadata": {},
     "output_type": "execute_result"
    }
   ],
   "source": [
    "import covsirphy as cs\n",
    "cs.__version__"
   ]
  },
  {
   "cell_type": "code",
   "execution_count": 4,
   "metadata": {
    "execution": {
     "iopub.execute_input": "2021-02-15T15:31:24.292023Z",
     "iopub.status.busy": "2021-02-15T15:31:24.291479Z",
     "iopub.status.idle": "2021-02-15T15:31:30.634828Z",
     "shell.execute_reply": "2021-02-15T15:31:30.634302Z"
    },
    "tags": []
   },
   "outputs": [
    {
     "name": "stdout",
     "output_type": "stream",
     "text": [
      "(Secondary source) Guidotti, E., Ardia, D., (2020), \"COVID-19 Data Hub\", Journal of Open Source Software 5(51):2376, doi: 10.21105/joss.02376.\n"
     ]
    }
   ],
   "source": [
    "# Standard users and developers\n",
    "data_loader = cs.DataLoader(\"input\")\n",
    "# The number of cases (JHU style)\n",
    "jhu_data = data_loader.jhu(verbose=False)\n",
    "# Population in each country\n",
    "population_data = data_loader.population(verbose=False)\n",
    "# Government Response Tracker (OxCGRT)\n",
    "oxcgrt_data = data_loader.oxcgrt(verbose=False)\n",
    "# Description/citation\n",
    "print(oxcgrt_data.citation)"
   ]
  },
  {
   "cell_type": "markdown",
   "metadata": {},
   "source": [
    "## Class for policy measure analysis\n",
    "We will `PolicyMeasures` class to find relationship of policy measures and parameter values of SIR-derived ODE models."
   ]
  },
  {
   "cell_type": "code",
   "execution_count": 5,
   "metadata": {
    "execution": {
     "iopub.execute_input": "2021-02-15T15:31:30.642150Z",
     "iopub.status.busy": "2021-02-15T15:31:30.641630Z",
     "iopub.status.idle": "2021-02-15T15:31:51.568368Z",
     "shell.execute_reply": "2021-02-15T15:31:51.567749Z"
    },
    "tags": []
   },
   "outputs": [
    {
     "data": {
      "text/plain": [
       "194"
      ]
     },
     "execution_count": 1,
     "metadata": {},
     "output_type": "execute_result"
    }
   ],
   "source": [
    "# Create analyser with tau value 360 [min] (can be changed)\n",
    "analyser = cs.PolicyMeasures(jhu_data, population_data, oxcgrt_data, tau=360)\n",
    "# The number of registerd countries\n",
    "len(analyser.countries)"
   ]
  },
  {
   "cell_type": "code",
   "execution_count": 6,
   "metadata": {
    "execution": {
     "iopub.execute_input": "2021-02-15T15:31:51.572561Z",
     "iopub.status.busy": "2021-02-15T15:31:51.571978Z",
     "iopub.status.idle": "2021-02-15T15:31:51.575663Z",
     "shell.execute_reply": "2021-02-15T15:31:51.575071Z"
    }
   },
   "outputs": [
    {
     "data": {
      "text/plain": [
       "covsirphy.analysis.scenario.Scenario"
      ]
     },
     "execution_count": 1,
     "metadata": {},
     "output_type": "execute_result"
    }
   ],
   "source": [
    "# We can get Scenario instance for detailed scenario analysis\n",
    "type(analyser.scenario(\"Japan\"))"
   ]
  },
  {
   "cell_type": "markdown",
   "metadata": {},
   "source": [
    "## Set phases with S-R trend analysis\n",
    "We will perform S-R trend analysis to set phases in all countries. Countries which do not have **19th phases** will be un-registered for the next analysis. This number will be adjusted for your analysis."
   ]
  },
  {
   "cell_type": "code",
   "execution_count": 7,
   "metadata": {
    "execution": {
     "iopub.execute_input": "2021-02-15T15:31:51.589476Z",
     "iopub.status.busy": "2021-02-15T15:31:51.587615Z",
     "iopub.status.idle": "2021-02-15T15:32:42.458009Z",
     "shell.execute_reply": "2021-02-15T15:32:42.458451Z"
    }
   },
   "outputs": [
    {
     "name": "stdout",
     "output_type": "stream",
     "text": [
      "{2: ['Holy See'],\n",
      " 3: ['Laos', 'Timor-Leste', 'Saint Kitts and Nevis', 'Tanzania'],\n",
      " 4: ['Fiji', 'Dominica'],\n",
      " 6: ['Saint Vincent and the Grenadines', 'Grenada'],\n",
      " 7: ['Northern Mariana Islands', 'Brunei'],\n",
      " 8: ['Kyrgyzstan', 'Saint Lucia', 'Cambodia', 'Liechtenstein',\n",
      "     'Equatorial Guinea'],\n",
      " 9: ['Nepal', 'Angola', 'Bahamas', 'Seychelles', 'Uzbekistan', 'Guam',\n",
      "     'Belize'],\n",
      " 10: ['Myanmar', 'Kenya', 'Virgin Islands, U.S.', 'Philippines', 'India',\n",
      "      'Mauritius', 'Iraq', 'Trinidad and Tobago', 'Antigua and Barbuda',\n",
      "      'Australia', 'Papua New Guinea', 'South Africa', 'Iceland', 'Guyana',\n",
      "      'Oman', 'Republic of the Congo', 'Bhutan', 'Venezuela', 'Jamaica',\n",
      "      'Ethiopia'],\n",
      " 11: ['Maldives', 'Costa Rica', 'Morocco', 'Colombia', 'Argentina', 'Botswana',\n",
      "      'Puerto Rico', 'Syria', 'Bangladesh', 'Sudan', 'Libya', 'Madagascar',\n",
      "      'Algeria', 'Kazakhstan', 'Uganda', 'Saudi Arabia', 'Namibia', 'Nicaragua',\n",
      "      'Paraguay', 'Monaco', 'San Marino', 'Pakistan', 'El Salvador', 'Bermuda',\n",
      "      'Suriname', 'Vietnam'],\n",
      " 12: ['Swaziland', 'Israel', 'Eritrea', 'Barbados', 'Singapore', 'Egypt',\n",
      "      'Moldova', 'Palestine', 'Honduras', 'Dominican Republic', 'Djibouti',\n",
      "      'Bosnia and Herzegovina', 'Belgium', 'Malta', 'Andorra', 'Senegal',\n",
      "      'Montenegro', 'Taiwan', 'Chile', 'Armenia', 'Zambia', 'Bolivia',\n",
      "      'Sao Tome and Principe', 'Brazil', 'Zimbabwe', 'Guatemala', 'Mauritania',\n",
      "      'Liberia', 'Kuwait', 'Cameroon', 'Peru', 'New Zealand', 'South Sudan',\n",
      "      'Bahrain', 'Mongolia', 'Rwanda', 'Cape Verde', 'Ghana', 'Panama',\n",
      "      'Democratic Republic of the Congo'],\n",
      " 13: ['Malawi', 'Mozambique', 'Nigeria', 'Kosovo', 'Yemen', 'Comoros',\n",
      "      'Afghanistan', 'Benin', 'Tunisia', 'Tajikistan', 'Guinea', 'Mali',\n",
      "      'Lesotho', 'Mexico', 'Ireland', 'Ecuador', 'Czech Republic',\n",
      "      \"Cote d'Ivoire\", 'Somalia'],\n",
      " 14: ['France', 'Sierra Leone', 'Russia', 'Azerbaijan', 'Togo', 'Burundi',\n",
      "      'Romania', 'Gambia', 'Netherlands', 'Central African Republic',\n",
      "      'North Macedonia', 'Jordan', 'Gabon', 'Chad', 'Qatar', 'Ukraine',\n",
      "      'Indonesia', 'Bulgaria', 'Iran', 'Poland', 'Slovakia'],\n",
      " 15: ['Lebanon', 'United States', 'Belarus', 'China', 'Greece', 'Luxembourg',\n",
      "      'Slovenia', 'Lithuania', 'United Arab Emirates', 'Switzerland', 'Croatia',\n",
      "      'Georgia', 'Niger', 'Haiti', 'Cuba', 'Hungary', 'Spain',\n",
      "      'Guinea-Bissau'],\n",
      " 16: ['United Kingdom', 'Cyprus', 'Turkey', 'Thailand', 'Burkina Faso',\n",
      "      'Albania', 'Japan', 'Norway', 'Portugal'],\n",
      " 17: ['Sri Lanka', 'Serbia', 'Austria', 'Denmark', 'Uruguay'],\n",
      " 18: ['Finland', 'South Korea', 'Malaysia', 'Latvia', 'Canada'],\n",
      " 19: ['Italy', 'Sweden'],\n",
      " 20: ['Estonia'],\n",
      " 21: ['Germany']}\n"
     ]
    }
   ],
   "source": [
    "# Show the number of phases of all countries\n",
    "analyser.trend()\n",
    "pprint(analyser.phase_len(), compact=True)"
   ]
  },
  {
   "cell_type": "code",
   "execution_count": 8,
   "metadata": {
    "execution": {
     "iopub.execute_input": "2021-02-15T15:32:42.472824Z",
     "iopub.status.busy": "2021-02-15T15:32:42.472210Z",
     "iopub.status.idle": "2021-02-15T15:33:30.963724Z",
     "shell.execute_reply": "2021-02-15T15:33:30.964096Z"
    }
   },
   "outputs": [
    {
     "data": {
      "text/plain": [
       "4"
      ]
     },
     "execution_count": 1,
     "metadata": {},
     "output_type": "execute_result"
    }
   ],
   "source": [
    "# Set phases with S-R trend analysis\n",
    "analyser.trend(min_len=19)\n",
    "# The number of countries\n",
    "len(analyser.countries)"
   ]
  },
  {
   "cell_type": "code",
   "execution_count": 9,
   "metadata": {
    "execution": {
     "iopub.execute_input": "2021-02-15T15:33:30.967544Z",
     "iopub.status.busy": "2021-02-15T15:33:30.967088Z",
     "iopub.status.idle": "2021-02-15T15:33:30.969980Z",
     "shell.execute_reply": "2021-02-15T15:33:30.969493Z"
    },
    "tags": []
   },
   "outputs": [
    {
     "name": "stdout",
     "output_type": "stream",
     "text": [
      "{19: ['Italy', 'Sweden'], 20: ['Estonia'], 21: ['Germany']}\n"
     ]
    }
   ],
   "source": [
    "phase_len_dict = analyser.phase_len()\n",
    "pprint(phase_len_dict, compact=True)"
   ]
  },
  {
   "cell_type": "code",
   "execution_count": 10,
   "metadata": {
    "execution": {
     "iopub.execute_input": "2021-02-15T15:33:30.984560Z",
     "iopub.status.busy": "2021-02-15T15:33:30.974777Z",
     "iopub.status.idle": "2021-02-15T15:33:30.992084Z",
     "shell.execute_reply": "2021-02-15T15:33:30.992457Z"
    },
    "tags": []
   },
   "outputs": [
    {
     "data": {
      "text/html": [
       "<div>\n",
       "<style scoped>\n",
       "    .dataframe tbody tr th:only-of-type {\n",
       "        vertical-align: middle;\n",
       "    }\n",
       "\n",
       "    .dataframe tbody tr th {\n",
       "        vertical-align: top;\n",
       "    }\n",
       "\n",
       "    .dataframe thead th {\n",
       "        text-align: right;\n",
       "    }\n",
       "</style>\n",
       "<table border=\"1\" class=\"dataframe\">\n",
       "  <thead>\n",
       "    <tr style=\"text-align: right;\">\n",
       "      <th></th>\n",
       "      <th></th>\n",
       "      <th>Type</th>\n",
       "      <th>Start</th>\n",
       "      <th>End</th>\n",
       "      <th>Population</th>\n",
       "    </tr>\n",
       "    <tr>\n",
       "      <th>Country</th>\n",
       "      <th>Phase</th>\n",
       "      <th></th>\n",
       "      <th></th>\n",
       "      <th></th>\n",
       "      <th></th>\n",
       "    </tr>\n",
       "  </thead>\n",
       "  <tbody>\n",
       "    <tr>\n",
       "      <th rowspan=\"21\" valign=\"top\">Germany</th>\n",
       "      <th>0th</th>\n",
       "      <td>Past</td>\n",
       "      <td>18Jan2020</td>\n",
       "      <td>25Mar2020</td>\n",
       "      <td>82905782</td>\n",
       "    </tr>\n",
       "    <tr>\n",
       "      <th>1st</th>\n",
       "      <td>Past</td>\n",
       "      <td>26Mar2020</td>\n",
       "      <td>13Apr2020</td>\n",
       "      <td>82905782</td>\n",
       "    </tr>\n",
       "    <tr>\n",
       "      <th>2nd</th>\n",
       "      <td>Past</td>\n",
       "      <td>14Apr2020</td>\n",
       "      <td>17Jun2020</td>\n",
       "      <td>82905782</td>\n",
       "    </tr>\n",
       "    <tr>\n",
       "      <th>3rd</th>\n",
       "      <td>Past</td>\n",
       "      <td>18Jun2020</td>\n",
       "      <td>25Aug2020</td>\n",
       "      <td>82905782</td>\n",
       "    </tr>\n",
       "    <tr>\n",
       "      <th>4th</th>\n",
       "      <td>Past</td>\n",
       "      <td>26Aug2020</td>\n",
       "      <td>04Oct2020</td>\n",
       "      <td>82905782</td>\n",
       "    </tr>\n",
       "    <tr>\n",
       "      <th>5th</th>\n",
       "      <td>Past</td>\n",
       "      <td>05Oct2020</td>\n",
       "      <td>19Oct2020</td>\n",
       "      <td>82905782</td>\n",
       "    </tr>\n",
       "    <tr>\n",
       "      <th>6th</th>\n",
       "      <td>Past</td>\n",
       "      <td>20Oct2020</td>\n",
       "      <td>27Oct2020</td>\n",
       "      <td>82905782</td>\n",
       "    </tr>\n",
       "    <tr>\n",
       "      <th>7th</th>\n",
       "      <td>Past</td>\n",
       "      <td>28Oct2020</td>\n",
       "      <td>03Nov2020</td>\n",
       "      <td>82905782</td>\n",
       "    </tr>\n",
       "    <tr>\n",
       "      <th>8th</th>\n",
       "      <td>Past</td>\n",
       "      <td>04Nov2020</td>\n",
       "      <td>10Nov2020</td>\n",
       "      <td>82905782</td>\n",
       "    </tr>\n",
       "    <tr>\n",
       "      <th>9th</th>\n",
       "      <td>Past</td>\n",
       "      <td>11Nov2020</td>\n",
       "      <td>17Nov2020</td>\n",
       "      <td>82905782</td>\n",
       "    </tr>\n",
       "    <tr>\n",
       "      <th>10th</th>\n",
       "      <td>Past</td>\n",
       "      <td>18Nov2020</td>\n",
       "      <td>24Nov2020</td>\n",
       "      <td>82905782</td>\n",
       "    </tr>\n",
       "    <tr>\n",
       "      <th>11th</th>\n",
       "      <td>Past</td>\n",
       "      <td>25Nov2020</td>\n",
       "      <td>01Dec2020</td>\n",
       "      <td>82905782</td>\n",
       "    </tr>\n",
       "    <tr>\n",
       "      <th>12th</th>\n",
       "      <td>Past</td>\n",
       "      <td>02Dec2020</td>\n",
       "      <td>08Dec2020</td>\n",
       "      <td>82905782</td>\n",
       "    </tr>\n",
       "    <tr>\n",
       "      <th>13th</th>\n",
       "      <td>Past</td>\n",
       "      <td>09Dec2020</td>\n",
       "      <td>15Dec2020</td>\n",
       "      <td>82905782</td>\n",
       "    </tr>\n",
       "    <tr>\n",
       "      <th>14th</th>\n",
       "      <td>Past</td>\n",
       "      <td>16Dec2020</td>\n",
       "      <td>21Dec2020</td>\n",
       "      <td>82905782</td>\n",
       "    </tr>\n",
       "    <tr>\n",
       "      <th>15th</th>\n",
       "      <td>Past</td>\n",
       "      <td>22Dec2020</td>\n",
       "      <td>28Dec2020</td>\n",
       "      <td>82905782</td>\n",
       "    </tr>\n",
       "    <tr>\n",
       "      <th>16th</th>\n",
       "      <td>Past</td>\n",
       "      <td>29Dec2020</td>\n",
       "      <td>04Jan2021</td>\n",
       "      <td>82905782</td>\n",
       "    </tr>\n",
       "    <tr>\n",
       "      <th>17th</th>\n",
       "      <td>Past</td>\n",
       "      <td>05Jan2021</td>\n",
       "      <td>11Jan2021</td>\n",
       "      <td>82905782</td>\n",
       "    </tr>\n",
       "    <tr>\n",
       "      <th>18th</th>\n",
       "      <td>Past</td>\n",
       "      <td>12Jan2021</td>\n",
       "      <td>20Jan2021</td>\n",
       "      <td>82905782</td>\n",
       "    </tr>\n",
       "    <tr>\n",
       "      <th>19th</th>\n",
       "      <td>Past</td>\n",
       "      <td>21Jan2021</td>\n",
       "      <td>01Feb2021</td>\n",
       "      <td>82905782</td>\n",
       "    </tr>\n",
       "    <tr>\n",
       "      <th>20th</th>\n",
       "      <td>Past</td>\n",
       "      <td>02Feb2021</td>\n",
       "      <td>15Feb2021</td>\n",
       "      <td>82905782</td>\n",
       "    </tr>\n",
       "  </tbody>\n",
       "</table>\n",
       "</div>"
      ],
      "text/plain": [
       "               Type      Start        End  Population\n",
       "Country Phase                                        \n",
       "Germany 0th    Past  18Jan2020  25Mar2020    82905782\n",
       "        1st    Past  26Mar2020  13Apr2020    82905782\n",
       "        2nd    Past  14Apr2020  17Jun2020    82905782\n",
       "        3rd    Past  18Jun2020  25Aug2020    82905782\n",
       "        4th    Past  26Aug2020  04Oct2020    82905782\n",
       "        5th    Past  05Oct2020  19Oct2020    82905782\n",
       "        6th    Past  20Oct2020  27Oct2020    82905782\n",
       "        7th    Past  28Oct2020  03Nov2020    82905782\n",
       "        8th    Past  04Nov2020  10Nov2020    82905782\n",
       "        9th    Past  11Nov2020  17Nov2020    82905782\n",
       "        10th   Past  18Nov2020  24Nov2020    82905782\n",
       "        11th   Past  25Nov2020  01Dec2020    82905782\n",
       "        12th   Past  02Dec2020  08Dec2020    82905782\n",
       "        13th   Past  09Dec2020  15Dec2020    82905782\n",
       "        14th   Past  16Dec2020  21Dec2020    82905782\n",
       "        15th   Past  22Dec2020  28Dec2020    82905782\n",
       "        16th   Past  29Dec2020  04Jan2021    82905782\n",
       "        17th   Past  05Jan2021  11Jan2021    82905782\n",
       "        18th   Past  12Jan2021  20Jan2021    82905782\n",
       "        19th   Past  21Jan2021  01Feb2021    82905782\n",
       "        20th   Past  02Feb2021  15Feb2021    82905782"
      ]
     },
     "execution_count": 1,
     "metadata": {},
     "output_type": "execute_result"
    }
   ],
   "source": [
    "# Here, only show the countries which have the most phases\n",
    "countries_show = max(phase_len_dict.items(), key=lambda x: x[0])[1]\n",
    "# Show summary\n",
    "analyser.summary(countries=countries_show)"
   ]
  },
  {
   "cell_type": "markdown",
   "metadata": {},
   "source": [
    "## Parameter estimation\n",
    "we will estimate the parameter values with SIR-derived ODE models in each country."
   ]
  },
  {
   "cell_type": "code",
   "execution_count": 11,
   "metadata": {
    "execution": {
     "iopub.execute_input": "2021-02-15T15:33:30.995275Z",
     "iopub.status.busy": "2021-02-15T15:33:30.994815Z",
     "iopub.status.idle": "2021-02-15T15:33:30.997313Z",
     "shell.execute_reply": "2021-02-15T15:33:30.996931Z"
    },
    "tags": []
   },
   "outputs": [],
   "source": [
    "# Parameter estimation with SIR-F model\n",
    "# Caution! This takes too much time.\n",
    "# analyser.estimate(cs.SIRF, timeout=60)"
   ]
  },
  {
   "cell_type": "code",
   "execution_count": 12,
   "metadata": {
    "execution": {
     "iopub.execute_input": "2021-02-15T15:33:30.999978Z",
     "iopub.status.busy": "2021-02-15T15:33:30.999526Z",
     "iopub.status.idle": "2021-02-15T15:33:31.001591Z",
     "shell.execute_reply": "2021-02-15T15:33:31.001955Z"
    }
   },
   "outputs": [],
   "source": [
    "# Show summary\n",
    "# analyser.summary(countries=countries_show)"
   ]
  },
  {
   "cell_type": "markdown",
   "metadata": {},
   "source": [
    "## Compare the history of parameters\n",
    "Here, compare the history of parameter values if countries."
   ]
  },
  {
   "cell_type": "code",
   "execution_count": 13,
   "metadata": {
    "execution": {
     "iopub.execute_input": "2021-02-15T15:33:31.004809Z",
     "iopub.status.busy": "2021-02-15T15:33:31.004355Z",
     "iopub.status.idle": "2021-02-15T15:33:31.006480Z",
     "shell.execute_reply": "2021-02-15T15:33:31.006830Z"
    }
   },
   "outputs": [],
   "source": [
    "# All parameter/day parameter/Rt/OxCGRT\n",
    "# analyser.track().head()"
   ]
  },
  {
   "cell_type": "markdown",
   "metadata": {},
   "source": [
    "### $Rt$: Reprodcution number $\\mathrm{[-]}$"
   ]
  },
  {
   "cell_type": "code",
   "execution_count": 14,
   "metadata": {
    "execution": {
     "iopub.execute_input": "2021-02-15T15:33:31.009742Z",
     "iopub.status.busy": "2021-02-15T15:33:31.009264Z",
     "iopub.status.idle": "2021-02-15T15:33:31.011098Z",
     "shell.execute_reply": "2021-02-15T15:33:31.011578Z"
    }
   },
   "outputs": [],
   "source": [
    "# analyser.history(\"Rt\", roll_window=None).tail()"
   ]
  },
  {
   "cell_type": "markdown",
   "metadata": {},
   "source": [
    "### $\\rho$: Effective contact rate $\\mathrm{[-]}$"
   ]
  },
  {
   "cell_type": "code",
   "execution_count": 15,
   "metadata": {
    "execution": {
     "iopub.execute_input": "2021-02-15T15:33:31.014643Z",
     "iopub.status.busy": "2021-02-15T15:33:31.014156Z",
     "iopub.status.idle": "2021-02-15T15:33:31.015854Z",
     "shell.execute_reply": "2021-02-15T15:33:31.016217Z"
    }
   },
   "outputs": [],
   "source": [
    "# analyser.history(\"rho\", roll_window=None).tail()"
   ]
  },
  {
   "cell_type": "markdown",
   "metadata": {},
   "source": [
    "### $\\sigma$: Recovery rate $\\mathrm{[-]}$"
   ]
  },
  {
   "cell_type": "code",
   "execution_count": 16,
   "metadata": {
    "execution": {
     "iopub.execute_input": "2021-02-15T15:33:31.019263Z",
     "iopub.status.busy": "2021-02-15T15:33:31.018791Z",
     "iopub.status.idle": "2021-02-15T15:33:31.020597Z",
     "shell.execute_reply": "2021-02-15T15:33:31.020949Z"
    }
   },
   "outputs": [],
   "source": [
    "# analyser.history(\"sigma\", roll_window=None).tail()"
   ]
  },
  {
   "cell_type": "markdown",
   "metadata": {},
   "source": [
    "### $\\kappa$: Mortality rate of infected cases $\\mathrm{[-]}$"
   ]
  },
  {
   "cell_type": "code",
   "execution_count": 17,
   "metadata": {
    "execution": {
     "iopub.execute_input": "2021-02-15T15:33:31.023982Z",
     "iopub.status.busy": "2021-02-15T15:33:31.023508Z",
     "iopub.status.idle": "2021-02-15T15:33:31.025301Z",
     "shell.execute_reply": "2021-02-15T15:33:31.025669Z"
    }
   },
   "outputs": [],
   "source": [
    "# analyser.history(\"kappa\", roll_window=None).tail()"
   ]
  },
  {
   "cell_type": "markdown",
   "metadata": {},
   "source": [
    "### $\\theta$: Mortality rate of S$^\\ast$ cases $\\mathrm{[-]}$"
   ]
  },
  {
   "cell_type": "code",
   "execution_count": 18,
   "metadata": {
    "execution": {
     "iopub.execute_input": "2021-02-15T15:33:31.028547Z",
     "iopub.status.busy": "2021-02-15T15:33:31.028110Z",
     "iopub.status.idle": "2021-02-15T15:33:31.030327Z",
     "shell.execute_reply": "2021-02-15T15:33:31.029963Z"
    }
   },
   "outputs": [],
   "source": [
    "# analyser.history(\"theta\", roll_window=None).tail()"
   ]
  },
  {
   "cell_type": "markdown",
   "metadata": {},
   "source": [
    "## (Experimental): Relationship of OxCGRT index and parameter values\n",
    "Government responses will impact on parameter values of ODE models about 14 days later. Here, we will investigate on the relationship of [stringency index (from OxCGRT)](https://github.com/OxCGRT/covid-policy-tracker/blob/master/documentation/index_methodology.md) and reproduction number/model parameters.\n"
   ]
  },
  {
   "cell_type": "code",
   "execution_count": 19,
   "metadata": {
    "execution": {
     "iopub.execute_input": "2021-02-15T15:33:31.035795Z",
     "iopub.status.busy": "2021-02-15T15:33:31.035338Z",
     "iopub.status.idle": "2021-02-15T15:33:31.037435Z",
     "shell.execute_reply": "2021-02-15T15:33:31.037789Z"
    }
   },
   "outputs": [],
   "source": [
    "%matplotlib inline\n",
    "from matplotlib import pyplot as plt\n",
    "import seaborn as sns\n",
    "import pandas as pd"
   ]
  },
  {
   "cell_type": "code",
   "execution_count": 20,
   "metadata": {
    "execution": {
     "iopub.execute_input": "2021-02-15T15:33:31.041194Z",
     "iopub.status.busy": "2021-02-15T15:33:31.040716Z",
     "iopub.status.idle": "2021-02-15T15:33:31.042821Z",
     "shell.execute_reply": "2021-02-15T15:33:31.043150Z"
    }
   },
   "outputs": [],
   "source": [
    "\"\"\"\n",
    "df = analyser.track()\n",
    "param_cols = [\"Rt\", *cs.SIRF.PARAMETERS]\n",
    "oxcgrt_cols = oxcgrt_data.OXCGRT_VARS[:]\n",
    "cols = param_cols + oxcgrt_cols\n",
    "delay = 14\n",
    "\n",
    "for col in param_cols:\n",
    "    df[col] = pd.to_numeric(df[col], errors=\"coerce\")\n",
    "    df[col] = df.groupby(\"Country\")[col].shift(0 - delay)\n",
    "\n",
    "df = df.dropna(how=\"any\")\n",
    "df = df.loc[:, [\"Date\", \"Country\", *cols]]\n",
    "track_df = df.copy()\n",
    "track_df.info()\n",
    "\"\"\"\n",
    "None"
   ]
  },
  {
   "cell_type": "code",
   "execution_count": 21,
   "metadata": {
    "execution": {
     "iopub.execute_input": "2021-02-15T15:33:31.045968Z",
     "iopub.status.busy": "2021-02-15T15:33:31.045519Z",
     "iopub.status.idle": "2021-02-15T15:33:31.047584Z",
     "shell.execute_reply": "2021-02-15T15:33:31.047910Z"
    }
   },
   "outputs": [],
   "source": [
    "# Correlation\n",
    "# df = track_df.copy()\n",
    "# df.corr().style.background_gradient(axis=None)"
   ]
  },
  {
   "cell_type": "code",
   "execution_count": 22,
   "metadata": {
    "execution": {
     "iopub.execute_input": "2021-02-15T15:33:31.050981Z",
     "iopub.status.busy": "2021-02-15T15:33:31.050534Z",
     "iopub.status.idle": "2021-02-15T15:33:31.052418Z",
     "shell.execute_reply": "2021-02-15T15:33:31.052765Z"
    }
   },
   "outputs": [],
   "source": [
    "\"\"\"\n",
    "# Scatter plot of Stringency index and Rt\n",
    "df = track_df.copy()\n",
    "sns.scatterplot(data=df, x=\"Stringency_index\", y=\"Rt\", hue=\"Country\", legend=\"brief\", marker=\"+\")\n",
    "bbox_to_anchor=(1.02, 0)\n",
    "bbox_loc=\"lower left\"\n",
    "plt.legend(bbox_to_anchor=bbox_to_anchor, loc=bbox_loc, borderaxespad=0)\n",
    "plt.title(\"Relationship of Stringency index and reproduction number\")\n",
    "plt.ylabel(\"Reproduction number\")\n",
    "plt.xlabel(\"Stringency index\")\n",
    "plt.show()\n",
    "\"\"\"\n",
    "None"
   ]
  }
 ],
 "metadata": {
  "kernelspec": {
   "display_name": "Python 3.9.1 64-bit ('.venv')",
   "metadata": {
    "interpreter": {
     "hash": "aa53c8c6e6798222a2084c11cc25017700a8d3ad495b587e3a634f357767115f"
    }
   },
   "name": "python3"
  },
  "language_info": {
   "codemirror_mode": {
    "name": "ipython",
    "version": 3
   },
   "file_extension": ".py",
   "mimetype": "text/x-python",
   "name": "python",
   "nbconvert_exporter": "python",
   "pygments_lexer": "ipython3",
   "version": "3.9.1"
  }
 },
 "nbformat": 4,
 "nbformat_minor": 2
}
