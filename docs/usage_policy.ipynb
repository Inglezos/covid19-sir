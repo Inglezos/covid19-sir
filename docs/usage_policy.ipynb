{
 "cells": [
  {
   "cell_type": "markdown",
   "metadata": {},
   "source": [
    "# Usage: policy measures\n",
    "Here, we will analyse the relationship of policy measures and parameter values of SIR-derived ODE models. Policy measures are tracked by [Oxford Covid-19 Government Response Tracker (OxCGRT)](https://github.com/OxCGRT/covid-policy-tracker)."
   ]
  },
  {
   "cell_type": "markdown",
   "metadata": {},
   "source": [
    "## Preparation"
   ]
  },
  {
   "cell_type": "code",
   "execution_count": 1,
   "metadata": {
    "collapsed": false
   },
   "outputs": [],
   "source": [
    "# Standard users\n",
    "# !pip install covsirphy\n",
    "# Developers (Note: this notebook is in example directory)\n",
    "import os\n",
    "os.chdir(\"../\")"
   ]
  },
  {
   "cell_type": "code",
   "execution_count": 2,
   "metadata": {
    "collapsed": false
   },
   "outputs": [],
   "source": [
    "from pprint import pprint"
   ]
  },
  {
   "cell_type": "code",
   "execution_count": 3,
   "metadata": {
    "collapsed": false
   },
   "outputs": [
    {
     "data": {
      "text/plain": [
       "'2.14.0-theta-fu1'"
      ]
     },
     "execution_count": 3,
     "metadata": {},
     "output_type": "execute_result"
    }
   ],
   "source": [
    "import covsirphy as cs\n",
    "cs.__version__"
   ]
  },
  {
   "cell_type": "code",
   "execution_count": 4,
   "metadata": {
    "collapsed": false,
    "tags": []
   },
   "outputs": [
    {
     "name": "stdout",
     "output_type": "stream",
     "text": [
      "(Secondary source) Guidotti, E., Ardia, D., (2020), \"COVID-19 Data Hub\", Journal of Open Source Software 5(51):2376, doi: 10.21105/joss.02376.\n"
     ]
    }
   ],
   "source": [
    "# Standard users and developers\n",
    "data_loader = cs.DataLoader(\"input\")\n",
    "# The number of cases (JHU style)\n",
    "jhu_data = data_loader.jhu(verbose=False)\n",
    "# Population in each country\n",
    "population_data = data_loader.population(verbose=False)\n",
    "# Government Response Tracker (OxCGRT)\n",
    "oxcgrt_data = data_loader.oxcgrt(verbose=False)\n",
    "# Description/citation\n",
    "print(oxcgrt_data.citation)"
   ]
  },
  {
   "cell_type": "markdown",
   "metadata": {},
   "source": [
    "## Class for policy measure analysis\n",
    "We will `PolicyMeasures` class to find relationship of policy measures and parameter values of SIR-derived ODE models."
   ]
  },
  {
   "cell_type": "code",
   "execution_count": 5,
   "metadata": {
    "collapsed": false,
    "tags": []
   },
   "outputs": [
    {
     "data": {
      "text/plain": [
       "196"
      ]
     },
     "execution_count": 5,
     "metadata": {},
     "output_type": "execute_result"
    }
   ],
   "source": [
    "# Create analyser with tau value 360 [min] (can be changed)\n",
    "analyser = cs.PolicyMeasures(jhu_data, population_data, oxcgrt_data, tau=360)\n",
    "# The number of registerd countries\n",
    "len(analyser.countries)"
   ]
  },
  {
   "cell_type": "code",
   "execution_count": 6,
   "metadata": {
    "collapsed": false
   },
   "outputs": [
    {
     "data": {
      "text/plain": [
       "covsirphy.analysis.scenario.Scenario"
      ]
     },
     "execution_count": 6,
     "metadata": {},
     "output_type": "execute_result"
    }
   ],
   "source": [
    "# We can get Scenario instance for detailed scenario analysis\n",
    "type(analyser.scenario(\"Japan\"))"
   ]
  },
  {
   "cell_type": "markdown",
   "metadata": {},
   "source": [
    "## Set phases with S-R trend analysis\n",
    "We will perform S-R trend analysis to set phases in all countries. Countries which do not have **17th phases** will be un-registered for the next analysis. This number will be adjusted for your analysis."
   ]
  },
  {
   "cell_type": "code",
   "execution_count": 7,
   "metadata": {
    "collapsed": false
   },
   "outputs": [
    {
     "name": "stdout",
     "output_type": "stream",
     "text": [
      "{2: ['Holy See'],\n",
      " 3: ['Timor-Leste', 'Laos', 'Saint Kitts and Nevis'],\n",
      " 4: ['Fiji', 'Tanzania', 'Grenada', 'Dominica'],\n",
      " 6: ['Brunei', 'Equatorial Guinea'],\n",
      " 7: ['Saint Vincent and the Grenadines', 'Northern Mariana Islands',\n",
      "     'Cambodia'],\n",
      " 8: ['Bahamas', 'Kyrgyzstan', 'Saint Lucia', 'Mauritius', 'Seychelles'],\n",
      " 9: ['Bhutan', 'Ethiopia', 'Republic of the Congo', 'Papua New Guinea',\n",
      "     'Zimbabwe', 'Australia', 'Guyana', 'Botswana', 'Sao Tome and Principe',\n",
      "     'Uzbekistan', 'Liechtenstein', 'Trinidad and Tobago', 'Vietnam',\n",
      "     'Antigua and Barbuda', 'Guam', 'Madagascar'],\n",
      " 10: ['Kenya', 'Bolivia', 'Jamaica', 'Venezuela', 'Oman', 'Iceland', 'Maldives',\n",
      "      'Nicaragua', 'Monaco', 'Singapore', 'Guatemala', 'Virgin Islands, U.S.',\n",
      "      'India', 'Bahrain', 'Djibouti', 'Barbados', 'Kazakhstan', 'Philippines',\n",
      "      'Belize', 'Mozambique', 'Angola', 'Iraq', 'Libya'],\n",
      " 11: ['Gambia', 'New Zealand', 'Mongolia', 'Burundi', 'Suriname', 'Egypt',\n",
      "      'Swaziland', 'El Salvador', 'Rwanda', 'Eritrea', 'Pakistan', 'Colombia',\n",
      "      'Dominican Republic', 'Yemen', 'Nepal', 'Syria', 'Paraguay', 'Algeria',\n",
      "      'Benin', 'Ghana', 'Peru', 'Bangladesh', 'Kuwait', 'Ecuador', 'Costa Rica',\n",
      "      \"Cote d'Ivoire\", 'Honduras', 'Senegal', 'Zambia', 'South Africa',\n",
      "      'Argentina', 'Mexico', 'Brazil', 'Cape Verde', 'Saudi Arabia', 'Gabon',\n",
      "      'Chile'],\n",
      " 12: ['Nigeria', 'Namibia', 'Guinea', 'Liberia', 'Somalia', 'South Sudan',\n",
      "      'Sudan', 'Lesotho', 'Cameroon', 'Myanmar', 'Comoros', 'Uganda', 'Bermuda',\n",
      "      'Niger', 'Israel'],\n",
      " 13: ['Democratic Republic of the Congo', 'Guinea-Bissau', 'Indonesia',\n",
      "      'Panama', 'Andorra', 'Mali', 'Japan', 'Afghanistan', 'Sierra Leone',\n",
      "      'Azerbaijan', 'Morocco', 'Malta', 'Montenegro', 'San Marino',\n",
      "      'Puerto Rico', 'Palestine', 'Lithuania', 'Georgia', 'Tajikistan',\n",
      "      'Moldova', 'Kosovo', 'Malawi', 'Qatar', 'Armenia', 'Togo', 'Ireland',\n",
      "      'Central African Republic', 'Taiwan'],\n",
      " 14: ['Belarus', 'Russia', 'Mauritania', 'Iran', 'Tunisia',\n",
      "      'Bosnia and Herzegovina', 'United Arab Emirates', 'Serbia', 'China',\n",
      "      'Jordan', 'Chad', 'Slovenia'],\n",
      " 15: ['Greece', 'Thailand', 'Ukraine', 'Haiti', 'Cuba', 'Cyprus', 'Hungary',\n",
      "      'Burkina Faso', 'United States', 'Bulgaria', 'Luxembourg', 'Lebanon',\n",
      "      'Albania'],\n",
      " 16: ['North Macedonia', 'Finland', 'Croatia', 'France', 'Belgium', 'Poland',\n",
      "      'Uruguay', 'Spain', 'Romania', 'Estonia', 'Turkey', 'Sri Lanka'],\n",
      " 17: ['United Kingdom', 'Czech Republic', 'Latvia', 'Canada', 'Austria',\n",
      "      'Slovakia', 'Italy', 'Denmark'],\n",
      " 18: ['Malaysia', 'Switzerland', 'Netherlands', 'Sweden'],\n",
      " 19: ['Norway', 'Germany', 'Portugal']}\n"
     ]
    }
   ],
   "source": [
    "# Show the number of phases of all countries\n",
    "analyser.trend()\n",
    "pprint(analyser.phase_len(), compact=True)"
   ]
  },
  {
   "cell_type": "code",
   "execution_count": 8,
   "metadata": {
    "collapsed": false
   },
   "outputs": [
    {
     "data": {
      "text/plain": [
       "15"
      ]
     },
     "execution_count": 8,
     "metadata": {},
     "output_type": "execute_result"
    }
   ],
   "source": [
    "# Set phases with S-R trend analysis\n",
    "analyser.trend(min_len=17)\n",
    "# The number of countries\n",
    "len(analyser.countries)"
   ]
  },
  {
   "cell_type": "code",
   "execution_count": 9,
   "metadata": {
    "collapsed": false,
    "tags": []
   },
   "outputs": [
    {
     "name": "stdout",
     "output_type": "stream",
     "text": [
      "{17: ['United Kingdom', 'Czech Republic', 'Latvia', 'Canada', 'Austria',\n",
      "      'Slovakia', 'Italy', 'Denmark'],\n",
      " 18: ['Malaysia', 'Switzerland', 'Netherlands', 'Sweden'],\n",
      " 19: ['Norway', 'Germany', 'Portugal']}\n"
     ]
    }
   ],
   "source": [
    "phase_len_dict = analyser.phase_len()\n",
    "pprint(phase_len_dict, compact=True)"
   ]
  },
  {
   "cell_type": "code",
   "execution_count": 10,
   "metadata": {
    "collapsed": false,
    "tags": []
   },
   "outputs": [
    {
     "data": {
      "text/html": [
       "<div>\n",
       "<style scoped>\n",
       "    .dataframe tbody tr th:only-of-type {\n",
       "        vertical-align: middle;\n",
       "    }\n",
       "\n",
       "    .dataframe tbody tr th {\n",
       "        vertical-align: top;\n",
       "    }\n",
       "\n",
       "    .dataframe thead th {\n",
       "        text-align: right;\n",
       "    }\n",
       "</style>\n",
       "<table border=\"1\" class=\"dataframe\">\n",
       "  <thead>\n",
       "    <tr style=\"text-align: right;\">\n",
       "      <th></th>\n",
       "      <th></th>\n",
       "      <th>Type</th>\n",
       "      <th>Start</th>\n",
       "      <th>End</th>\n",
       "      <th>Population</th>\n",
       "    </tr>\n",
       "    <tr>\n",
       "      <th>Country</th>\n",
       "      <th>Phase</th>\n",
       "      <th></th>\n",
       "      <th></th>\n",
       "      <th></th>\n",
       "      <th></th>\n",
       "    </tr>\n",
       "  </thead>\n",
       "  <tbody>\n",
       "    <tr>\n",
       "      <th rowspan=\"19\" valign=\"top\">Norway</th>\n",
       "      <th>0th</th>\n",
       "      <td>Past</td>\n",
       "      <td>08Mar2020</td>\n",
       "      <td>21Mar2020</td>\n",
       "      <td>5311916</td>\n",
       "    </tr>\n",
       "    <tr>\n",
       "      <th>1st</th>\n",
       "      <td>Past</td>\n",
       "      <td>22Mar2020</td>\n",
       "      <td>05Apr2020</td>\n",
       "      <td>5311916</td>\n",
       "    </tr>\n",
       "    <tr>\n",
       "      <th>2nd</th>\n",
       "      <td>Past</td>\n",
       "      <td>06Apr2020</td>\n",
       "      <td>01May2020</td>\n",
       "      <td>5311916</td>\n",
       "    </tr>\n",
       "    <tr>\n",
       "      <th>3rd</th>\n",
       "      <td>Past</td>\n",
       "      <td>02May2020</td>\n",
       "      <td>05Aug2020</td>\n",
       "      <td>5311916</td>\n",
       "    </tr>\n",
       "    <tr>\n",
       "      <th>4th</th>\n",
       "      <td>Past</td>\n",
       "      <td>06Aug2020</td>\n",
       "      <td>02Sep2020</td>\n",
       "      <td>5311916</td>\n",
       "    </tr>\n",
       "    <tr>\n",
       "      <th>5th</th>\n",
       "      <td>Past</td>\n",
       "      <td>03Sep2020</td>\n",
       "      <td>20Sep2020</td>\n",
       "      <td>5311916</td>\n",
       "    </tr>\n",
       "    <tr>\n",
       "      <th>6th</th>\n",
       "      <td>Past</td>\n",
       "      <td>21Sep2020</td>\n",
       "      <td>07Oct2020</td>\n",
       "      <td>5311916</td>\n",
       "    </tr>\n",
       "    <tr>\n",
       "      <th>7th</th>\n",
       "      <td>Past</td>\n",
       "      <td>08Oct2020</td>\n",
       "      <td>24Oct2020</td>\n",
       "      <td>5311916</td>\n",
       "    </tr>\n",
       "    <tr>\n",
       "      <th>8th</th>\n",
       "      <td>Past</td>\n",
       "      <td>25Oct2020</td>\n",
       "      <td>01Nov2020</td>\n",
       "      <td>5311916</td>\n",
       "    </tr>\n",
       "    <tr>\n",
       "      <th>9th</th>\n",
       "      <td>Past</td>\n",
       "      <td>02Nov2020</td>\n",
       "      <td>08Nov2020</td>\n",
       "      <td>5311916</td>\n",
       "    </tr>\n",
       "    <tr>\n",
       "      <th>10th</th>\n",
       "      <td>Past</td>\n",
       "      <td>09Nov2020</td>\n",
       "      <td>14Nov2020</td>\n",
       "      <td>5311916</td>\n",
       "    </tr>\n",
       "    <tr>\n",
       "      <th>11th</th>\n",
       "      <td>Past</td>\n",
       "      <td>15Nov2020</td>\n",
       "      <td>22Nov2020</td>\n",
       "      <td>5311916</td>\n",
       "    </tr>\n",
       "    <tr>\n",
       "      <th>12th</th>\n",
       "      <td>Past</td>\n",
       "      <td>23Nov2020</td>\n",
       "      <td>29Nov2020</td>\n",
       "      <td>5311916</td>\n",
       "    </tr>\n",
       "    <tr>\n",
       "      <th>13th</th>\n",
       "      <td>Past</td>\n",
       "      <td>30Nov2020</td>\n",
       "      <td>07Dec2020</td>\n",
       "      <td>5311916</td>\n",
       "    </tr>\n",
       "    <tr>\n",
       "      <th>14th</th>\n",
       "      <td>Past</td>\n",
       "      <td>08Dec2020</td>\n",
       "      <td>14Dec2020</td>\n",
       "      <td>5311916</td>\n",
       "    </tr>\n",
       "    <tr>\n",
       "      <th>15th</th>\n",
       "      <td>Past</td>\n",
       "      <td>15Dec2020</td>\n",
       "      <td>21Dec2020</td>\n",
       "      <td>5311916</td>\n",
       "    </tr>\n",
       "    <tr>\n",
       "      <th>16th</th>\n",
       "      <td>Past</td>\n",
       "      <td>22Dec2020</td>\n",
       "      <td>28Dec2020</td>\n",
       "      <td>5311916</td>\n",
       "    </tr>\n",
       "    <tr>\n",
       "      <th>17th</th>\n",
       "      <td>Past</td>\n",
       "      <td>29Dec2020</td>\n",
       "      <td>04Jan2021</td>\n",
       "      <td>5311916</td>\n",
       "    </tr>\n",
       "    <tr>\n",
       "      <th>18th</th>\n",
       "      <td>Past</td>\n",
       "      <td>05Jan2021</td>\n",
       "      <td>13Jan2021</td>\n",
       "      <td>5311916</td>\n",
       "    </tr>\n",
       "    <tr>\n",
       "      <th rowspan=\"19\" valign=\"top\">Germany</th>\n",
       "      <th>0th</th>\n",
       "      <td>Past</td>\n",
       "      <td>19Jan2020</td>\n",
       "      <td>23Mar2020</td>\n",
       "      <td>82905782</td>\n",
       "    </tr>\n",
       "    <tr>\n",
       "      <th>1st</th>\n",
       "      <td>Past</td>\n",
       "      <td>24Mar2020</td>\n",
       "      <td>06Apr2020</td>\n",
       "      <td>82905782</td>\n",
       "    </tr>\n",
       "    <tr>\n",
       "      <th>2nd</th>\n",
       "      <td>Past</td>\n",
       "      <td>07Apr2020</td>\n",
       "      <td>05May2020</td>\n",
       "      <td>82905782</td>\n",
       "    </tr>\n",
       "    <tr>\n",
       "      <th>3rd</th>\n",
       "      <td>Past</td>\n",
       "      <td>06May2020</td>\n",
       "      <td>04Aug2020</td>\n",
       "      <td>82905782</td>\n",
       "    </tr>\n",
       "    <tr>\n",
       "      <th>4th</th>\n",
       "      <td>Past</td>\n",
       "      <td>05Aug2020</td>\n",
       "      <td>12Sep2020</td>\n",
       "      <td>82905782</td>\n",
       "    </tr>\n",
       "    <tr>\n",
       "      <th>5th</th>\n",
       "      <td>Past</td>\n",
       "      <td>13Sep2020</td>\n",
       "      <td>07Oct2020</td>\n",
       "      <td>82905782</td>\n",
       "    </tr>\n",
       "    <tr>\n",
       "      <th>6th</th>\n",
       "      <td>Past</td>\n",
       "      <td>08Oct2020</td>\n",
       "      <td>20Oct2020</td>\n",
       "      <td>82905782</td>\n",
       "    </tr>\n",
       "    <tr>\n",
       "      <th>7th</th>\n",
       "      <td>Past</td>\n",
       "      <td>21Oct2020</td>\n",
       "      <td>27Oct2020</td>\n",
       "      <td>82905782</td>\n",
       "    </tr>\n",
       "    <tr>\n",
       "      <th>8th</th>\n",
       "      <td>Past</td>\n",
       "      <td>28Oct2020</td>\n",
       "      <td>03Nov2020</td>\n",
       "      <td>82905782</td>\n",
       "    </tr>\n",
       "    <tr>\n",
       "      <th>9th</th>\n",
       "      <td>Past</td>\n",
       "      <td>04Nov2020</td>\n",
       "      <td>10Nov2020</td>\n",
       "      <td>82905782</td>\n",
       "    </tr>\n",
       "    <tr>\n",
       "      <th>10th</th>\n",
       "      <td>Past</td>\n",
       "      <td>11Nov2020</td>\n",
       "      <td>17Nov2020</td>\n",
       "      <td>82905782</td>\n",
       "    </tr>\n",
       "    <tr>\n",
       "      <th>11th</th>\n",
       "      <td>Past</td>\n",
       "      <td>18Nov2020</td>\n",
       "      <td>24Nov2020</td>\n",
       "      <td>82905782</td>\n",
       "    </tr>\n",
       "    <tr>\n",
       "      <th>12th</th>\n",
       "      <td>Past</td>\n",
       "      <td>25Nov2020</td>\n",
       "      <td>01Dec2020</td>\n",
       "      <td>82905782</td>\n",
       "    </tr>\n",
       "    <tr>\n",
       "      <th>13th</th>\n",
       "      <td>Past</td>\n",
       "      <td>02Dec2020</td>\n",
       "      <td>08Dec2020</td>\n",
       "      <td>82905782</td>\n",
       "    </tr>\n",
       "    <tr>\n",
       "      <th>14th</th>\n",
       "      <td>Past</td>\n",
       "      <td>09Dec2020</td>\n",
       "      <td>15Dec2020</td>\n",
       "      <td>82905782</td>\n",
       "    </tr>\n",
       "    <tr>\n",
       "      <th>15th</th>\n",
       "      <td>Past</td>\n",
       "      <td>16Dec2020</td>\n",
       "      <td>21Dec2020</td>\n",
       "      <td>82905782</td>\n",
       "    </tr>\n",
       "    <tr>\n",
       "      <th>16th</th>\n",
       "      <td>Past</td>\n",
       "      <td>22Dec2020</td>\n",
       "      <td>28Dec2020</td>\n",
       "      <td>82905782</td>\n",
       "    </tr>\n",
       "    <tr>\n",
       "      <th>17th</th>\n",
       "      <td>Past</td>\n",
       "      <td>29Dec2020</td>\n",
       "      <td>04Jan2021</td>\n",
       "      <td>82905782</td>\n",
       "    </tr>\n",
       "    <tr>\n",
       "      <th>18th</th>\n",
       "      <td>Past</td>\n",
       "      <td>05Jan2021</td>\n",
       "      <td>13Jan2021</td>\n",
       "      <td>82905782</td>\n",
       "    </tr>\n",
       "    <tr>\n",
       "      <th rowspan=\"19\" valign=\"top\">Portugal</th>\n",
       "      <th>0th</th>\n",
       "      <td>Past</td>\n",
       "      <td>14Mar2020</td>\n",
       "      <td>03Apr2020</td>\n",
       "      <td>10283822</td>\n",
       "    </tr>\n",
       "    <tr>\n",
       "      <th>1st</th>\n",
       "      <td>Past</td>\n",
       "      <td>04Apr2020</td>\n",
       "      <td>23Apr2020</td>\n",
       "      <td>10283822</td>\n",
       "    </tr>\n",
       "    <tr>\n",
       "      <th>2nd</th>\n",
       "      <td>Past</td>\n",
       "      <td>24Apr2020</td>\n",
       "      <td>05Jun2020</td>\n",
       "      <td>10283822</td>\n",
       "    </tr>\n",
       "    <tr>\n",
       "      <th>3rd</th>\n",
       "      <td>Past</td>\n",
       "      <td>06Jun2020</td>\n",
       "      <td>09Jul2020</td>\n",
       "      <td>10283822</td>\n",
       "    </tr>\n",
       "    <tr>\n",
       "      <th>4th</th>\n",
       "      <td>Past</td>\n",
       "      <td>10Jul2020</td>\n",
       "      <td>01Sep2020</td>\n",
       "      <td>10283822</td>\n",
       "    </tr>\n",
       "    <tr>\n",
       "      <th>5th</th>\n",
       "      <td>Past</td>\n",
       "      <td>02Sep2020</td>\n",
       "      <td>24Sep2020</td>\n",
       "      <td>10283822</td>\n",
       "    </tr>\n",
       "    <tr>\n",
       "      <th>6th</th>\n",
       "      <td>Past</td>\n",
       "      <td>25Sep2020</td>\n",
       "      <td>12Oct2020</td>\n",
       "      <td>10283822</td>\n",
       "    </tr>\n",
       "    <tr>\n",
       "      <th>7th</th>\n",
       "      <td>Past</td>\n",
       "      <td>13Oct2020</td>\n",
       "      <td>21Oct2020</td>\n",
       "      <td>10283822</td>\n",
       "    </tr>\n",
       "    <tr>\n",
       "      <th>8th</th>\n",
       "      <td>Past</td>\n",
       "      <td>22Oct2020</td>\n",
       "      <td>28Oct2020</td>\n",
       "      <td>10283822</td>\n",
       "    </tr>\n",
       "    <tr>\n",
       "      <th>9th</th>\n",
       "      <td>Past</td>\n",
       "      <td>29Oct2020</td>\n",
       "      <td>04Nov2020</td>\n",
       "      <td>10283822</td>\n",
       "    </tr>\n",
       "    <tr>\n",
       "      <th>10th</th>\n",
       "      <td>Past</td>\n",
       "      <td>05Nov2020</td>\n",
       "      <td>14Nov2020</td>\n",
       "      <td>10283822</td>\n",
       "    </tr>\n",
       "    <tr>\n",
       "      <th>11th</th>\n",
       "      <td>Past</td>\n",
       "      <td>15Nov2020</td>\n",
       "      <td>25Nov2020</td>\n",
       "      <td>10283822</td>\n",
       "    </tr>\n",
       "    <tr>\n",
       "      <th>12th</th>\n",
       "      <td>Past</td>\n",
       "      <td>26Nov2020</td>\n",
       "      <td>02Dec2020</td>\n",
       "      <td>10283822</td>\n",
       "    </tr>\n",
       "    <tr>\n",
       "      <th>13th</th>\n",
       "      <td>Past</td>\n",
       "      <td>03Dec2020</td>\n",
       "      <td>09Dec2020</td>\n",
       "      <td>10283822</td>\n",
       "    </tr>\n",
       "    <tr>\n",
       "      <th>14th</th>\n",
       "      <td>Past</td>\n",
       "      <td>10Dec2020</td>\n",
       "      <td>15Dec2020</td>\n",
       "      <td>10283822</td>\n",
       "    </tr>\n",
       "    <tr>\n",
       "      <th>15th</th>\n",
       "      <td>Past</td>\n",
       "      <td>16Dec2020</td>\n",
       "      <td>22Dec2020</td>\n",
       "      <td>10283822</td>\n",
       "    </tr>\n",
       "    <tr>\n",
       "      <th>16th</th>\n",
       "      <td>Past</td>\n",
       "      <td>23Dec2020</td>\n",
       "      <td>29Dec2020</td>\n",
       "      <td>10283822</td>\n",
       "    </tr>\n",
       "    <tr>\n",
       "      <th>17th</th>\n",
       "      <td>Past</td>\n",
       "      <td>30Dec2020</td>\n",
       "      <td>05Jan2021</td>\n",
       "      <td>10283822</td>\n",
       "    </tr>\n",
       "    <tr>\n",
       "      <th>18th</th>\n",
       "      <td>Past</td>\n",
       "      <td>06Jan2021</td>\n",
       "      <td>13Jan2021</td>\n",
       "      <td>10283822</td>\n",
       "    </tr>\n",
       "  </tbody>\n",
       "</table>\n",
       "</div>"
      ],
      "text/plain": [
       "                Type      Start        End  Population\n",
       "Country  Phase                                        \n",
       "Norway   0th    Past  08Mar2020  21Mar2020     5311916\n",
       "         1st    Past  22Mar2020  05Apr2020     5311916\n",
       "         2nd    Past  06Apr2020  01May2020     5311916\n",
       "         3rd    Past  02May2020  05Aug2020     5311916\n",
       "         4th    Past  06Aug2020  02Sep2020     5311916\n",
       "         5th    Past  03Sep2020  20Sep2020     5311916\n",
       "         6th    Past  21Sep2020  07Oct2020     5311916\n",
       "         7th    Past  08Oct2020  24Oct2020     5311916\n",
       "         8th    Past  25Oct2020  01Nov2020     5311916\n",
       "         9th    Past  02Nov2020  08Nov2020     5311916\n",
       "         10th   Past  09Nov2020  14Nov2020     5311916\n",
       "         11th   Past  15Nov2020  22Nov2020     5311916\n",
       "         12th   Past  23Nov2020  29Nov2020     5311916\n",
       "         13th   Past  30Nov2020  07Dec2020     5311916\n",
       "         14th   Past  08Dec2020  14Dec2020     5311916\n",
       "         15th   Past  15Dec2020  21Dec2020     5311916\n",
       "         16th   Past  22Dec2020  28Dec2020     5311916\n",
       "         17th   Past  29Dec2020  04Jan2021     5311916\n",
       "         18th   Past  05Jan2021  13Jan2021     5311916\n",
       "Germany  0th    Past  19Jan2020  23Mar2020    82905782\n",
       "         1st    Past  24Mar2020  06Apr2020    82905782\n",
       "         2nd    Past  07Apr2020  05May2020    82905782\n",
       "         3rd    Past  06May2020  04Aug2020    82905782\n",
       "         4th    Past  05Aug2020  12Sep2020    82905782\n",
       "         5th    Past  13Sep2020  07Oct2020    82905782\n",
       "         6th    Past  08Oct2020  20Oct2020    82905782\n",
       "         7th    Past  21Oct2020  27Oct2020    82905782\n",
       "         8th    Past  28Oct2020  03Nov2020    82905782\n",
       "         9th    Past  04Nov2020  10Nov2020    82905782\n",
       "         10th   Past  11Nov2020  17Nov2020    82905782\n",
       "         11th   Past  18Nov2020  24Nov2020    82905782\n",
       "         12th   Past  25Nov2020  01Dec2020    82905782\n",
       "         13th   Past  02Dec2020  08Dec2020    82905782\n",
       "         14th   Past  09Dec2020  15Dec2020    82905782\n",
       "         15th   Past  16Dec2020  21Dec2020    82905782\n",
       "         16th   Past  22Dec2020  28Dec2020    82905782\n",
       "         17th   Past  29Dec2020  04Jan2021    82905782\n",
       "         18th   Past  05Jan2021  13Jan2021    82905782\n",
       "Portugal 0th    Past  14Mar2020  03Apr2020    10283822\n",
       "         1st    Past  04Apr2020  23Apr2020    10283822\n",
       "         2nd    Past  24Apr2020  05Jun2020    10283822\n",
       "         3rd    Past  06Jun2020  09Jul2020    10283822\n",
       "         4th    Past  10Jul2020  01Sep2020    10283822\n",
       "         5th    Past  02Sep2020  24Sep2020    10283822\n",
       "         6th    Past  25Sep2020  12Oct2020    10283822\n",
       "         7th    Past  13Oct2020  21Oct2020    10283822\n",
       "         8th    Past  22Oct2020  28Oct2020    10283822\n",
       "         9th    Past  29Oct2020  04Nov2020    10283822\n",
       "         10th   Past  05Nov2020  14Nov2020    10283822\n",
       "         11th   Past  15Nov2020  25Nov2020    10283822\n",
       "         12th   Past  26Nov2020  02Dec2020    10283822\n",
       "         13th   Past  03Dec2020  09Dec2020    10283822\n",
       "         14th   Past  10Dec2020  15Dec2020    10283822\n",
       "         15th   Past  16Dec2020  22Dec2020    10283822\n",
       "         16th   Past  23Dec2020  29Dec2020    10283822\n",
       "         17th   Past  30Dec2020  05Jan2021    10283822\n",
       "         18th   Past  06Jan2021  13Jan2021    10283822"
      ]
     },
     "execution_count": 10,
     "metadata": {},
     "output_type": "execute_result"
    }
   ],
   "source": [
    "# Here, only show the countries which have the most phases\n",
    "countries_show = max(phase_len_dict.items(), key=lambda x: x[0])[1]\n",
    "# Show summary\n",
    "analyser.summary(countries=countries_show)"
   ]
  },
  {
   "cell_type": "markdown",
   "metadata": {},
   "source": [
    "## Parameter estimation\n",
    "we will estimate the parameter values with SIR-derived ODE models in each country."
   ]
  },
  {
   "cell_type": "code",
   "execution_count": 11,
   "metadata": {
    "collapsed": false,
    "tags": []
   },
   "outputs": [
    {
     "name": "stdout",
     "output_type": "stream",
     "text": [
      "\n",
      "<SIR-F model: parameter estimation>\n",
      "Running optimization with 4 CPUs...\n"
     ]
    },
    {
     "name": "stdout",
     "output_type": "stream",
     "text": [
      "\tLVA, 14th phase (20Dec2020 - 29Dec2020): finished  326 trials in 0 min 10 sec"
     ]
    },
    {
     "name": "stdout",
     "output_type": "stream",
     "text": [
      "\n"
     ]
    },
    {
     "name": "stdout",
     "output_type": "stream",
     "text": [
      "\tNOR, 18th phase (05Jan2021 - 13Jan2021): finished  330 trials in 0 min 10 sec"
     ]
    },
    {
     "name": "stdout",
     "output_type": "stream",
     "text": [
      "\n"
     ]
    },
    {
     "name": "stdout",
     "output_type": "stream",
     "text": [
      "\tCZE,  0th phase (12Mar2020 - 06Aug2020): finished  293 trials in 0 min 10 sec"
     ]
    },
    {
     "name": "stdout",
     "output_type": "stream",
     "text": [
      "\n"
     ]
    },
    {
     "name": "stdout",
     "output_type": "stream",
     "text": [
      "\tCZE,  3rd phase (29Sep2020 - 07Oct2020): finished  330 trials in 0 min 10 sec"
     ]
    },
    {
     "name": "stdout",
     "output_type": "stream",
     "text": [
      "\n"
     ]
    },
    {
     "name": "stdout",
     "output_type": "stream",
     "text": [
      "\tMYS, 11th phase (18Nov2020 - 28Nov2020): finished  329 trials in 0 min 10 sec"
     ]
    },
    {
     "name": "stdout",
     "output_type": "stream",
     "text": [
      "\n"
     ]
    },
    {
     "name": "stdout",
     "output_type": "stream",
     "text": [
      "\tMYS,  5th phase (05Oct2020 - 12Oct2020): finished  333 trials in 0 min 10 sec"
     ]
    },
    {
     "name": "stdout",
     "output_type": "stream",
     "text": [
      "\n"
     ]
    },
    {
     "name": "stdout",
     "output_type": "stream",
     "text": [
      "\tAUT, 12th phase (07Dec2020 - 12Dec2020): finished  331 trials in 0 min 10 sec"
     ]
    },
    {
     "name": "stdout",
     "output_type": "stream",
     "text": [
      "\n"
     ]
    },
    {
     "name": "stdout",
     "output_type": "stream",
     "text": [
      "\tCAN,  5th phase (13Sep2020 - 03Oct2020): finished  327 trials in 0 min 10 sec"
     ]
    },
    {
     "name": "stdout",
     "output_type": "stream",
     "text": [
      "\n"
     ]
    },
    {
     "name": "stdout",
     "output_type": "stream",
     "text": [
      "\tCHE,  3rd phase (03Aug2020 - 07Sep2020): finished  323 trials in 0 min 10 sec"
     ]
    },
    {
     "name": "stdout",
     "output_type": "stream",
     "text": [
      "\n"
     ]
    },
    {
     "name": "stdout",
     "output_type": "stream",
     "text": [
      "\tSVK, 11th phase (03Dec2020 - 09Dec2020): finished  335 trials in 0 min 10 sec"
     ]
    },
    {
     "name": "stdout",
     "output_type": "stream",
     "text": [
      "\n"
     ]
    },
    {
     "name": "stdout",
     "output_type": "stream",
     "text": [
      "\tSVK,  0th phase (18Mar2020 - 03Sep2020): finished  293 trials in 0 min 10 sec"
     ]
    },
    {
     "name": "stdout",
     "output_type": "stream",
     "text": [
      "\n"
     ]
    },
    {
     "name": "stdout",
     "output_type": "stream",
     "text": [
      "\tDNK,  9th phase (06Nov2020 - 14Nov2020): finished  333 trials in 0 min 10 sec"
     ]
    },
    {
     "name": "stdout",
     "output_type": "stream",
     "text": [
      "\n"
     ]
    },
    {
     "name": "stdout",
     "output_type": "stream",
     "text": [
      "\tMYS, 16th phase (31Dec2020 - 05Jan2021): finished  331 trials in 0 min 10 sec"
     ]
    },
    {
     "name": "stdout",
     "output_type": "stream",
     "text": [
      "\n"
     ]
    },
    {
     "name": "stdout",
     "output_type": "stream",
     "text": [
      "\tCZE, 13th phase (16Dec2020 - 21Dec2020): finished  334 trials in 0 min 10 sec"
     ]
    },
    {
     "name": "stdout",
     "output_type": "stream",
     "text": [
      "\n"
     ]
    },
    {
     "name": "stdout",
     "output_type": "stream",
     "text": [
      "\tGBR,  0th phase (17Feb2020 - 11Apr2020): finished  314 trials in 0 min 10 sec"
     ]
    },
    {
     "name": "stdout",
     "output_type": "stream",
     "text": [
      "\n"
     ]
    },
    {
     "name": "stdout",
     "output_type": "stream",
     "text": [
      "\tNOR,  1st phase (22Mar2020 - 05Apr2020): finished  330 trials in 0 min 10 sec"
     ]
    },
    {
     "name": "stdout",
     "output_type": "stream",
     "text": [
      "\n"
     ]
    },
    {
     "name": "stdout",
     "output_type": "stream",
     "text": [
      "\tCHE,  5th phase (05Oct2020 - 13Oct2020): finished  309 trials in 0 min 10 sec"
     ]
    },
    {
     "name": "stdout",
     "output_type": "stream",
     "text": [
      "\n"
     ]
    },
    {
     "name": "stdout",
     "output_type": "stream",
     "text": [
      "\tNOR, 17th phase (29Dec2020 - 04Jan2021): finished  309 trials in 0 min 10 sec"
     ]
    },
    {
     "name": "stdout",
     "output_type": "stream",
     "text": [
      "\n"
     ]
    },
    {
     "name": "stdout",
     "output_type": "stream",
     "text": [
      "\tPRT, 10th phase (05Nov2020 - 14Nov2020): finished  308 trials in 0 min 10 sec"
     ]
    },
    {
     "name": "stdout",
     "output_type": "stream",
     "text": [
      "\n"
     ]
    },
    {
     "name": "stdout",
     "output_type": "stream",
     "text": [
      "\tNLD,  8th phase (29Oct2020 - 04Nov2020): finished  322 trials in 0 min 10 sec"
     ]
    },
    {
     "name": "stdout",
     "output_type": "stream",
     "text": [
      "\n"
     ]
    },
    {
     "name": "stdout",
     "output_type": "stream",
     "text": [
      "\tAUT, 11th phase (01Dec2020 - 06Dec2020): finished  334 trials in 0 min 10 sec"
     ]
    },
    {
     "name": "stdout",
     "output_type": "stream",
     "text": [
      "\n"
     ]
    },
    {
     "name": "stdout",
     "output_type": "stream",
     "text": [
      "\tGBR,  2nd phase (06May2020 - 16Jun2020): finished  320 trials in 0 min 10 sec"
     ]
    },
    {
     "name": "stdout",
     "output_type": "stream",
     "text": [
      "\n"
     ]
    },
    {
     "name": "stdout",
     "output_type": "stream",
     "text": [
      "\tCHE,  1st phase (24Mar2020 - 07Apr2020): finished  330 trials in 0 min 10 sec"
     ]
    },
    {
     "name": "stdout",
     "output_type": "stream",
     "text": [
      "\n"
     ]
    },
    {
     "name": "stdout",
     "output_type": "stream",
     "text": [
      "\tNOR, 13th phase (30Nov2020 - 07Dec2020): finished  332 trials in 0 min 10 sec"
     ]
    },
    {
     "name": "stdout",
     "output_type": "stream",
     "text": [
      "\n"
     ]
    },
    {
     "name": "stdout",
     "output_type": "stream",
     "text": [
      "\tSWE,  6th phase (05Oct2020 - 26Oct2020): finished  329 trials in 0 min 10 sec"
     ]
    },
    {
     "name": "stdout",
     "output_type": "stream",
     "text": [
      "\n"
     ]
    },
    {
     "name": "stdout",
     "output_type": "stream",
     "text": [
      "\tNOR, 14th phase (08Dec2020 - 14Dec2020): finished  335 trials in 0 min 10 sec"
     ]
    },
    {
     "name": "stdout",
     "output_type": "stream",
     "text": [
      "\n"
     ]
    },
    {
     "name": "stdout",
     "output_type": "stream",
     "text": [
      "\tPRT,  2nd phase (24Apr2020 - 05Jun2020): finished  320 trials in 0 min 10 sec"
     ]
    },
    {
     "name": "stdout",
     "output_type": "stream",
     "text": [
      "\n"
     ]
    },
    {
     "name": "stdout",
     "output_type": "stream",
     "text": [
      "\tPRT,  0th phase (14Mar2020 - 03Apr2020): finished  327 trials in 0 min 10 sec"
     ]
    },
    {
     "name": "stdout",
     "output_type": "stream",
     "text": [
      "\n"
     ]
    },
    {
     "name": "stdout",
     "output_type": "stream",
     "text": [
      "\tNLD,  7th phase (23Oct2020 - 28Oct2020): finished  322 trials in 0 min 10 sec"
     ]
    },
    {
     "name": "stdout",
     "output_type": "stream",
     "text": [
      "\n"
     ]
    },
    {
     "name": "stdout",
     "output_type": "stream",
     "text": [
      "\tNOR,  2nd phase (06Apr2020 - 01May2020): finished  315 trials in 0 min 10 sec"
     ]
    },
    {
     "name": "stdout",
     "output_type": "stream",
     "text": [
      "\n"
     ]
    },
    {
     "name": "stdout",
     "output_type": "stream",
     "text": [
      "\tCZE,  2nd phase (15Sep2020 - 28Sep2020): finished  318 trials in 0 min 10 sec"
     ]
    },
    {
     "name": "stdout",
     "output_type": "stream",
     "text": [
      "\n"
     ]
    },
    {
     "name": "stdout",
     "output_type": "stream",
     "text": [
      "\tNOR,  5th phase (03Sep2020 - 20Sep2020): finished  319 trials in 0 min 10 sec"
     ]
    },
    {
     "name": "stdout",
     "output_type": "stream",
     "text": [
      "\n"
     ]
    },
    {
     "name": "stdout",
     "output_type": "stream",
     "text": [
      "\tSWE,  2nd phase (13May2020 - 07Jun2020): finished  323 trials in 0 min 10 sec"
     ]
    },
    {
     "name": "stdout",
     "output_type": "stream",
     "text": [
      "\n"
     ]
    },
    {
     "name": "stdout",
     "output_type": "stream",
     "text": [
      "\tNOR,  7th phase (08Oct2020 - 24Oct2020): finished  327 trials in 0 min 10 sec"
     ]
    },
    {
     "name": "stdout",
     "output_type": "stream",
     "text": [
      "\n"
     ]
    },
    {
     "name": "stdout",
     "output_type": "stream",
     "text": [
      "\tCZE,  7th phase (27Oct2020 - 02Nov2020): finished  329 trials in 0 min 10 sec"
     ]
    },
    {
     "name": "stdout",
     "output_type": "stream",
     "text": [
      "\n"
     ]
    },
    {
     "name": "stdout",
     "output_type": "stream",
     "text": [
      "\tDEU,  2nd phase (07Apr2020 - 05May2020): finished  321 trials in 0 min 10 sec"
     ]
    },
    {
     "name": "stdout",
     "output_type": "stream",
     "text": [
      "\n"
     ]
    },
    {
     "name": "stdout",
     "output_type": "stream",
     "text": [
      "\tNLD, 12th phase (04Dec2020 - 10Dec2020): finished  328 trials in 0 min 10 sec"
     ]
    },
    {
     "name": "stdout",
     "output_type": "stream",
     "text": [
      "\n"
     ]
    },
    {
     "name": "stdout",
     "output_type": "stream",
     "text": [
      "\tNLD,  0th phase (16Mar2020 - 15Apr2020): finished  320 trials in 0 min 10 sec"
     ]
    },
    {
     "name": "stdout",
     "output_type": "stream",
     "text": [
      "\n"
     ]
    },
    {
     "name": "stdout",
     "output_type": "stream",
     "text": [
      "\tMYS,  4th phase (11Sep2020 - 04Oct2020): finished  321 trials in 0 min 10 sec"
     ]
    },
    {
     "name": "stdout",
     "output_type": "stream",
     "text": [
      "\n"
     ]
    },
    {
     "name": "stdout",
     "output_type": "stream",
     "text": [
      "\tGBR,  9th phase (05Nov2020 - 11Nov2020): finished  328 trials in 0 min 10 sec"
     ]
    },
    {
     "name": "stdout",
     "output_type": "stream",
     "text": [
      "\n"
     ]
    },
    {
     "name": "stdout",
     "output_type": "stream",
     "text": [
      "\tNLD,  9th phase (05Nov2020 - 13Nov2020): finished  325 trials in 0 min 10 sec"
     ]
    },
    {
     "name": "stdout",
     "output_type": "stream",
     "text": [
      "\n"
     ]
    },
    {
     "name": "stdout",
     "output_type": "stream",
     "text": [
      "\tNLD, 10th phase (14Nov2020 - 23Nov2020): finished  328 trials in 0 min 10 sec"
     ]
    },
    {
     "name": "stdout",
     "output_type": "stream",
     "text": [
      "\n"
     ]
    },
    {
     "name": "stdout",
     "output_type": "stream",
     "text": [
      "\tAUT,  8th phase (31Oct2020 - 09Nov2020): finished  326 trials in 0 min 10 sec"
     ]
    },
    {
     "name": "stdout",
     "output_type": "stream",
     "text": [
      "\n"
     ]
    },
    {
     "name": "stdout",
     "output_type": "stream",
     "text": [
      "\tMYS,  6th phase (13Oct2020 - 18Oct2020): finished  330 trials in 0 min 10 sec"
     ]
    },
    {
     "name": "stdout",
     "output_type": "stream",
     "text": [
      "\n"
     ]
    },
    {
     "name": "stdout",
     "output_type": "stream",
     "text": [
      "\tITA,  0th phase (24Feb2020 - 21Mar2020): finished  323 trials in 0 min 10 sec"
     ]
    },
    {
     "name": "stdout",
     "output_type": "stream",
     "text": [
      "\n"
     ]
    },
    {
     "name": "stdout",
     "output_type": "stream",
     "text": [
      "\tPRT,  3rd phase (06Jun2020 - 09Jul2020): finished  321 trials in 0 min 10 sec"
     ]
    },
    {
     "name": "stdout",
     "output_type": "stream",
     "text": [
      "\n"
     ]
    },
    {
     "name": "stdout",
     "output_type": "stream",
     "text": [
      "\tCHE,  8th phase (30Oct2020 - 08Nov2020): finished  327 trials in 0 min 10 sec"
     ]
    },
    {
     "name": "stdout",
     "output_type": "stream",
     "text": [
      "\n"
     ]
    },
    {
     "name": "stdout",
     "output_type": "stream",
     "text": [
      "\tCAN,  3rd phase (26May2020 - 22Jul2020): finished  314 trials in 0 min 10 sec"
     ]
    },
    {
     "name": "stdout",
     "output_type": "stream",
     "text": [
      "\n"
     ]
    },
    {
     "name": "stdout",
     "output_type": "stream",
     "text": [
      "\tCAN,  8th phase (31Oct2020 - 10Nov2020): finished  326 trials in 0 min 10 sec"
     ]
    },
    {
     "name": "stdout",
     "output_type": "stream",
     "text": [
      "\n"
     ]
    },
    {
     "name": "stdout",
     "output_type": "stream",
     "text": [
      "\tCAN,  9th phase (11Nov2020 - 19Nov2020): finished  329 trials in 0 min 10 sec"
     ]
    },
    {
     "name": "stdout",
     "output_type": "stream",
     "text": [
      "\n"
     ]
    },
    {
     "name": "stdout",
     "output_type": "stream",
     "text": [
      "\tMYS, 10th phase (12Nov2020 - 17Nov2020): finished  327 trials in 0 min 10 sec"
     ]
    },
    {
     "name": "stdout",
     "output_type": "stream",
     "text": [
      "\n"
     ]
    },
    {
     "name": "stdout",
     "output_type": "stream",
     "text": [
      "\tSVK, 10th phase (26Nov2020 - 02Dec2020): finished  327 trials in 0 min 10 sec"
     ]
    },
    {
     "name": "stdout",
     "output_type": "stream",
     "text": [
      "\n"
     ]
    },
    {
     "name": "stdout",
     "output_type": "stream",
     "text": [
      "\tCAN, 13th phase (13Dec2020 - 20Dec2020): finished  324 trials in 0 min 10 sec"
     ]
    },
    {
     "name": "stdout",
     "output_type": "stream",
     "text": [
      "\n"
     ]
    },
    {
     "name": "stdout",
     "output_type": "stream",
     "text": [
      "\tNLD, 11th phase (24Nov2020 - 03Dec2020): finished  325 trials in 0 min 10 sec"
     ]
    },
    {
     "name": "stdout",
     "output_type": "stream",
     "text": [
      "\n"
     ]
    },
    {
     "name": "stdout",
     "output_type": "stream",
     "text": [
      "\tGBR, 11th phase (20Nov2020 - 29Nov2020): finished  325 trials in 0 min 10 sec"
     ]
    },
    {
     "name": "stdout",
     "output_type": "stream",
     "text": [
      "\n"
     ]
    },
    {
     "name": "stdout",
     "output_type": "stream",
     "text": [
      "\tITA,  4th phase (27Aug2020 - 29Sep2020): finished  315 trials in 0 min 10 sec"
     ]
    },
    {
     "name": "stdout",
     "output_type": "stream",
     "text": [
      "\n"
     ]
    },
    {
     "name": "stdout",
     "output_type": "stream",
     "text": [
      "\tNOR, 10th phase (09Nov2020 - 14Nov2020): finished  332 trials in 0 min 10 sec"
     ]
    },
    {
     "name": "stdout",
     "output_type": "stream",
     "text": [
      "\n"
     ]
    },
    {
     "name": "stdout",
     "output_type": "stream",
     "text": [
      "\tITA,  1st phase (22Mar2020 - 07Apr2020): finished  329 trials in 0 min 10 sec"
     ]
    },
    {
     "name": "stdout",
     "output_type": "stream",
     "text": [
      "\n"
     ]
    },
    {
     "name": "stdout",
     "output_type": "stream",
     "text": [
      "\tAUT, 10th phase (20Nov2020 - 30Nov2020): finished  330 trials in 0 min 10 sec"
     ]
    },
    {
     "name": "stdout",
     "output_type": "stream",
     "text": [
      "\n"
     ]
    },
    {
     "name": "stdout",
     "output_type": "stream",
     "text": [
      "\tCZE, 12th phase (08Dec2020 - 15Dec2020): finished  329 trials in 0 min 10 sec"
     ]
    },
    {
     "name": "stdout",
     "output_type": "stream",
     "text": [
      "\n"
     ]
    },
    {
     "name": "stdout",
     "output_type": "stream",
     "text": [
      "\tLVA, 13th phase (10Dec2020 - 19Dec2020): finished  283 trials in 0 min 10 sec"
     ]
    },
    {
     "name": "stdout",
     "output_type": "stream",
     "text": [
      "\n"
     ]
    },
    {
     "name": "stdout",
     "output_type": "stream",
     "text": [
      "\tGBR,  5th phase (03Oct2020 - 12Oct2020): finished  284 trials in 0 min 10 sec"
     ]
    },
    {
     "name": "stdout",
     "output_type": "stream",
     "text": [
      "\n"
     ]
    },
    {
     "name": "stdout",
     "output_type": "stream",
     "text": [
      "\tNOR,  6th phase (21Sep2020 - 07Oct2020): finished  286 trials in 0 min 10 sec"
     ]
    },
    {
     "name": "stdout",
     "output_type": "stream",
     "text": [
      "\n"
     ]
    },
    {
     "name": "stdout",
     "output_type": "stream",
     "text": [
      "\tCZE,  4th phase (08Oct2020 - 14Oct2020): finished  282 trials in 0 min 10 sec"
     ]
    },
    {
     "name": "stdout",
     "output_type": "stream",
     "text": [
      "\n"
     ]
    },
    {
     "name": "stdout",
     "output_type": "stream",
     "text": [
      "\tSVK,  2nd phase (29Sep2020 - 08Oct2020): finished  319 trials in 0 min 10 sec"
     ]
    },
    {
     "name": "stdout",
     "output_type": "stream",
     "text": [
      "\n"
     ]
    },
    {
     "name": "stdout",
     "output_type": "stream",
     "text": [
      "\tMYS,  3rd phase (25May2020 - 10Sep2020): finished  291 trials in 0 min 10 sec"
     ]
    },
    {
     "name": "stdout",
     "output_type": "stream",
     "text": [
      "\n"
     ]
    },
    {
     "name": "stdout",
     "output_type": "stream",
     "text": [
      "\tMYS, 12th phase (29Nov2020 - 04Dec2020): finished  321 trials in 0 min 10 sec"
     ]
    },
    {
     "name": "stdout",
     "output_type": "stream",
     "text": [
      "\n"
     ]
    },
    {
     "name": "stdout",
     "output_type": "stream",
     "text": [
      "\tNOR,  8th phase (25Oct2020 - 01Nov2020): finished  319 trials in 0 min 10 sec"
     ]
    },
    {
     "name": "stdout",
     "output_type": "stream",
     "text": [
      "\n"
     ]
    },
    {
     "name": "stdout",
     "output_type": "stream",
     "text": [
      "\tCHE, 15th phase (21Dec2020 - 27Dec2020): finished  225 trials in 0 min 10 sec"
     ]
    },
    {
     "name": "stdout",
     "output_type": "stream",
     "text": [
      "\n"
     ]
    },
    {
     "name": "stdout",
     "output_type": "stream",
     "text": [
      "\tLVA,  8th phase (29Oct2020 - 03Nov2020): finished  219 trials in 0 min 10 sec"
     ]
    },
    {
     "name": "stdout",
     "output_type": "stream",
     "text": [
      "\n"
     ]
    },
    {
     "name": "stdout",
     "output_type": "stream",
     "text": [
      "\tDNK,  6th phase (08Oct2020 - 21Oct2020): finished  218 trials in 0 min 10 sec"
     ]
    },
    {
     "name": "stdout",
     "output_type": "stream",
     "text": [
      "\n"
     ]
    },
    {
     "name": "stdout",
     "output_type": "stream",
     "text": [
      "\tCHE, 11th phase (25Nov2020 - 30Nov2020): finished  217 trials in 0 min 10 sec"
     ]
    },
    {
     "name": "stdout",
     "output_type": "stream",
     "text": [
      "\n"
     ]
    },
    {
     "name": "stdout",
     "output_type": "stream",
     "text": [
      "\tNLD, 15th phase (23Dec2020 - 29Dec2020): finished  222 trials in 0 min 10 sec"
     ]
    },
    {
     "name": "stdout",
     "output_type": "stream",
     "text": [
      "\n"
     ]
    },
    {
     "name": "stdout",
     "output_type": "stream",
     "text": [
      "\tCZE,  9th phase (10Nov2020 - 17Nov2020): finished  234 trials in 0 min 10 sec"
     ]
    },
    {
     "name": "stdout",
     "output_type": "stream",
     "text": [
      "\n"
     ]
    },
    {
     "name": "stdout",
     "output_type": "stream",
     "text": [
      "\tDEU, 13th phase (02Dec2020 - 08Dec2020): finished  224 trials in 0 min 10 sec"
     ]
    },
    {
     "name": "stdout",
     "output_type": "stream",
     "text": [
      "\n"
     ]
    },
    {
     "name": "stdout",
     "output_type": "stream",
     "text": [
      "\tITA,  6th phase (15Oct2020 - 22Oct2020): finished  221 trials in 0 min 10 sec"
     ]
    },
    {
     "name": "stdout",
     "output_type": "stream",
     "text": [
      "\n"
     ]
    },
    {
     "name": "stdout",
     "output_type": "stream",
     "text": [
      "\tDNK,  4th phase (11Sep2020 - 23Sep2020): finished  196 trials in 0 min 10 sec"
     ]
    },
    {
     "name": "stdout",
     "output_type": "stream",
     "text": [
      "\n"
     ]
    },
    {
     "name": "stdout",
     "output_type": "stream",
     "text": [
      "\tPRT,  6th phase (25Sep2020 - 12Oct2020): finished  189 trials in 0 min 10 sec"
     ]
    },
    {
     "name": "stdout",
     "output_type": "stream",
     "text": [
      "\n"
     ]
    },
    {
     "name": "stdout",
     "output_type": "stream",
     "text": [
      "\tMYS, 17th phase (06Jan2021 - 13Jan2021): finished  193 trials in 0 min 10 sec"
     ]
    },
    {
     "name": "stdout",
     "output_type": "stream",
     "text": [
      "\n"
     ]
    },
    {
     "name": "stdout",
     "output_type": "stream",
     "text": [
      "\tDEU,  3rd phase (06May2020 - 04Aug2020): finished  170 trials in 0 min 10 sec"
     ]
    },
    {
     "name": "stdout",
     "output_type": "stream",
     "text": [
      "\n"
     ]
    },
    {
     "name": "stdout",
     "output_type": "stream",
     "text": [
      "\tCHE, 17th phase (04Jan2021 - 13Jan2021): finished  248 trials in 0 min 10 sec"
     ]
    },
    {
     "name": "stdout",
     "output_type": "stream",
     "text": [
      "\n"
     ]
    },
    {
     "name": "stdout",
     "output_type": "stream",
     "text": [
      "\tDNK,  8th phase (30Oct2020 - 05Nov2020): finished  250 trials in 0 min 10 sec"
     ]
    },
    {
     "name": "stdout",
     "output_type": "stream",
     "text": [
      "\n"
     ]
    },
    {
     "name": "stdout",
     "output_type": "stream",
     "text": [
      "\tDEU,  0th phase (19Jan2020 - 23Mar2020): finished  242 trials in 0 min 10 sec"
     ]
    },
    {
     "name": "stdout",
     "output_type": "stream",
     "text": [
      "\n"
     ]
    },
    {
     "name": "stdout",
     "output_type": "stream",
     "text": [
      "\tGBR,  1st phase (12Apr2020 - 05May2020): finished  258 trials in 0 min 10 sec"
     ]
    },
    {
     "name": "stdout",
     "output_type": "stream",
     "text": [
      "\n"
     ]
    },
    {
     "name": "stdout",
     "output_type": "stream",
     "text": [
      "\tMYS,  7th phase (19Oct2020 - 24Oct2020): finished  215 trials in 0 min 10 sec"
     ]
    },
    {
     "name": "stdout",
     "output_type": "stream",
     "text": [
      "\n"
     ]
    },
    {
     "name": "stdout",
     "output_type": "stream",
     "text": [
      "\tNOR, 15th phase (15Dec2020 - 21Dec2020): finished  241 trials in 0 min 10 sec"
     ]
    },
    {
     "name": "stdout",
     "output_type": "stream",
     "text": [
      "\n"
     ]
    },
    {
     "name": "stdout",
     "output_type": "stream",
     "text": [
      "\tPRT,  1st phase (04Apr2020 - 23Apr2020): finished  226 trials in 0 min 10 sec"
     ]
    },
    {
     "name": "stdout",
     "output_type": "stream",
     "text": [
      "\n"
     ]
    },
    {
     "name": "stdout",
     "output_type": "stream",
     "text": [
      "\tNLD,  5th phase (10Oct2020 - 16Oct2020): finished  230 trials in 0 min 10 sec"
     ]
    },
    {
     "name": "stdout",
     "output_type": "stream",
     "text": [
      "\n"
     ]
    },
    {
     "name": "stdout",
     "output_type": "stream",
     "text": [
      "\tSWE,  7th phase (27Oct2020 - 03Nov2020): finished  233 trials in 0 min 10 sec"
     ]
    },
    {
     "name": "stdout",
     "output_type": "stream",
     "text": [
      "\n"
     ]
    },
    {
     "name": "stdout",
     "output_type": "stream",
     "text": [
      "\tCZE, 11th phase (29Nov2020 - 07Dec2020): finished  233 trials in 0 min 10 sec"
     ]
    },
    {
     "name": "stdout",
     "output_type": "stream",
     "text": [
      "\n"
     ]
    },
    {
     "name": "stdout",
     "output_type": "stream",
     "text": [
      "\tNLD,  1st phase (16Apr2020 - 09Aug2020): finished  206 trials in 0 min 10 sec"
     ]
    },
    {
     "name": "stdout",
     "output_type": "stream",
     "text": [
      "\n"
     ]
    },
    {
     "name": "stdout",
     "output_type": "stream",
     "text": [
      "\tDNK,  3rd phase (08Aug2020 - 10Sep2020): finished  215 trials in 0 min 10 sec"
     ]
    },
    {
     "name": "stdout",
     "output_type": "stream",
     "text": [
      "\n"
     ]
    },
    {
     "name": "stdout",
     "output_type": "stream",
     "text": [
      "\tCHE,  7th phase (20Oct2020 - 29Oct2020): finished  207 trials in 0 min 10 sec"
     ]
    },
    {
     "name": "stdout",
     "output_type": "stream",
     "text": [
      "\n"
     ]
    },
    {
     "name": "stdout",
     "output_type": "stream",
     "text": [
      "\tCHE, 10th phase (15Nov2020 - 24Nov2020): finished  216 trials in 0 min 10 sec"
     ]
    },
    {
     "name": "stdout",
     "output_type": "stream",
     "text": [
      "\n"
     ]
    },
    {
     "name": "stdout",
     "output_type": "stream",
     "text": [
      "\tGBR,  3rd phase (17Jun2020 - 09Sep2020): finished  199 trials in 0 min 10 sec"
     ]
    },
    {
     "name": "stdout",
     "output_type": "stream",
     "text": [
      "\n"
     ]
    },
    {
     "name": "stdout",
     "output_type": "stream",
     "text": [
      "\tNLD,  4th phase (01Oct2020 - 09Oct2020): finished  208 trials in 0 min 10 sec"
     ]
    },
    {
     "name": "stdout",
     "output_type": "stream",
     "text": [
      "\n"
     ]
    },
    {
     "name": "stdout",
     "output_type": "stream",
     "text": [
      "\tLVA,  6th phase (16Oct2020 - 22Oct2020): finished  201 trials in 0 min 10 sec"
     ]
    },
    {
     "name": "stdout",
     "output_type": "stream",
     "text": [
      "\n"
     ]
    },
    {
     "name": "stdout",
     "output_type": "stream",
     "text": [
      "\tCAN,  4th phase (23Jul2020 - 12Sep2020): finished  203 trials in 0 min 10 sec"
     ]
    },
    {
     "name": "stdout",
     "output_type": "stream",
     "text": [
      "\n"
     ]
    },
    {
     "name": "stdout",
     "output_type": "stream",
     "text": [
      "\tDNK, 12th phase (30Nov2020 - 05Dec2020): finished  221 trials in 0 min 10 sec"
     ]
    },
    {
     "name": "stdout",
     "output_type": "stream",
     "text": [
      "\n"
     ]
    },
    {
     "name": "stdout",
     "output_type": "stream",
     "text": [
      "\tCHE, 12th phase (01Dec2020 - 07Dec2020): finished  203 trials in 0 min 10 sec"
     ]
    },
    {
     "name": "stdout",
     "output_type": "stream",
     "text": [
      "\n"
     ]
    },
    {
     "name": "stdout",
     "output_type": "stream",
     "text": [
      "\tCZE,  1st phase (07Aug2020 - 14Sep2020): finished  199 trials in 0 min 10 sec"
     ]
    },
    {
     "name": "stdout",
     "output_type": "stream",
     "text": [
      "\n"
     ]
    },
    {
     "name": "stdout",
     "output_type": "stream",
     "text": [
      "\tDEU,  6th phase (08Oct2020 - 20Oct2020): finished  207 trials in 0 min 10 sec"
     ]
    },
    {
     "name": "stdout",
     "output_type": "stream",
     "text": [
      "\n"
     ]
    },
    {
     "name": "stdout",
     "output_type": "stream",
     "text": [
      "\tCAN,  2nd phase (01May2020 - 25May2020): finished  199 trials in 0 min 10 sec"
     ]
    },
    {
     "name": "stdout",
     "output_type": "stream",
     "text": [
      "\n"
     ]
    },
    {
     "name": "stdout",
     "output_type": "stream",
     "text": [
      "\tGBR,  6th phase (13Oct2020 - 20Oct2020): finished  220 trials in 0 min 10 sec"
     ]
    },
    {
     "name": "stdout",
     "output_type": "stream",
     "text": [
      "\n"
     ]
    },
    {
     "name": "stdout",
     "output_type": "stream",
     "text": [
      "\tPRT,  7th phase (13Oct2020 - 21Oct2020): finished  204 trials in 0 min 10 sec"
     ]
    },
    {
     "name": "stdout",
     "output_type": "stream",
     "text": [
      "\n"
     ]
    },
    {
     "name": "stdout",
     "output_type": "stream",
     "text": [
      "\tCHE,  6th phase (14Oct2020 - 19Oct2020): finished  208 trials in 0 min 10 sec"
     ]
    },
    {
     "name": "stdout",
     "output_type": "stream",
     "text": [
      "\n"
     ]
    },
    {
     "name": "stdout",
     "output_type": "stream",
     "text": [
      "\tLVA, 10th phase (10Nov2020 - 19Nov2020): finished  207 trials in 0 min 10 sec"
     ]
    },
    {
     "name": "stdout",
     "output_type": "stream",
     "text": [
      "\n"
     ]
    },
    {
     "name": "stdout",
     "output_type": "stream",
     "text": [
      "\tAUT,  5th phase (01Oct2020 - 12Oct2020): finished  202 trials in 0 min 10 sec"
     ]
    },
    {
     "name": "stdout",
     "output_type": "stream",
     "text": [
      "\n"
     ]
    },
    {
     "name": "stdout",
     "output_type": "stream",
     "text": [
      "\tDNK,  0th phase (06Mar2020 - 05Apr2020): finished  197 trials in 0 min 10 sec"
     ]
    },
    {
     "name": "stdout",
     "output_type": "stream",
     "text": [
      "\n"
     ]
    },
    {
     "name": "stdout",
     "output_type": "stream",
     "text": [
      "\tDEU, 14th phase (09Dec2020 - 15Dec2020): finished  216 trials in 0 min 10 sec"
     ]
    },
    {
     "name": "stdout",
     "output_type": "stream",
     "text": [
      "\n"
     ]
    },
    {
     "name": "stdout",
     "output_type": "stream",
     "text": [
      "\tPRT,  5th phase (02Sep2020 - 24Sep2020): finished  194 trials in 0 min 10 sec"
     ]
    },
    {
     "name": "stdout",
     "output_type": "stream",
     "text": [
      "\n"
     ]
    },
    {
     "name": "stdout",
     "output_type": "stream",
     "text": [
      "\tGBR,  7th phase (21Oct2020 - 27Oct2020): finished  205 trials in 0 min 10 sec"
     ]
    },
    {
     "name": "stdout",
     "output_type": "stream",
     "text": [
      "\n"
     ]
    },
    {
     "name": "stdout",
     "output_type": "stream",
     "text": [
      "\tITA,  3rd phase (01May2020 - 26Aug2020): finished  175 trials in 0 min 10 sec"
     ]
    },
    {
     "name": "stdout",
     "output_type": "stream",
     "text": [
      "\n"
     ]
    },
    {
     "name": "stdout",
     "output_type": "stream",
     "text": [
      "\tNLD, 16th phase (30Dec2020 - 05Jan2021): finished  217 trials in 0 min 10 sec"
     ]
    },
    {
     "name": "stdout",
     "output_type": "stream",
     "text": [
      "\n"
     ]
    },
    {
     "name": "stdout",
     "output_type": "stream",
     "text": [
      "\tCAN, 10th phase (20Nov2020 - 27Nov2020): finished  199 trials in 0 min 10 sec"
     ]
    },
    {
     "name": "stdout",
     "output_type": "stream",
     "text": [
      "\n"
     ]
    },
    {
     "name": "stdout",
     "output_type": "stream",
     "text": [
      "\tMYS,  1st phase (25Mar2020 - 11Apr2020): finished  202 trials in 0 min 10 sec"
     ]
    },
    {
     "name": "stdout",
     "output_type": "stream",
     "text": [
      "\n"
     ]
    },
    {
     "name": "stdout",
     "output_type": "stream",
     "text": [
      "\tCAN,  0th phase (11Mar2020 - 09Apr2020): finished  209 trials in 0 min 10 sec"
     ]
    },
    {
     "name": "stdout",
     "output_type": "stream",
     "text": [
      "\n"
     ]
    },
    {
     "name": "stdout",
     "output_type": "stream",
     "text": [
      "\tDNK,  7th phase (22Oct2020 - 29Oct2020): finished  214 trials in 0 min 10 sec"
     ]
    },
    {
     "name": "stdout",
     "output_type": "stream",
     "text": [
      "\n"
     ]
    },
    {
     "name": "stdout",
     "output_type": "stream",
     "text": [
      "\tGBR,  4th phase (10Sep2020 - 02Oct2020): finished  211 trials in 0 min 10 sec"
     ]
    },
    {
     "name": "stdout",
     "output_type": "stream",
     "text": [
      "\n"
     ]
    },
    {
     "name": "stdout",
     "output_type": "stream",
     "text": [
      "\tLVA,  5th phase (08Oct2020 - 15Oct2020): finished  205 trials in 0 min 10 sec"
     ]
    },
    {
     "name": "stdout",
     "output_type": "stream",
     "text": [
      "\n"
     ]
    },
    {
     "name": "stdout",
     "output_type": "stream",
     "text": [
      "\tGBR, 10th phase (12Nov2020 - 19Nov2020): finished  205 trials in 0 min 10 sec"
     ]
    },
    {
     "name": "stdout",
     "output_type": "stream",
     "text": [
      "\n"
     ]
    },
    {
     "name": "stdout",
     "output_type": "stream",
     "text": [
      "\tNLD,  3rd phase (17Sep2020 - 30Sep2020): finished  207 trials in 0 min 10 sec"
     ]
    },
    {
     "name": "stdout",
     "output_type": "stream",
     "text": [
      "\n"
     ]
    },
    {
     "name": "stdout",
     "output_type": "stream",
     "text": [
      "\tCAN, 14th phase (21Dec2020 - 28Dec2020): finished  206 trials in 0 min 10 sec"
     ]
    },
    {
     "name": "stdout",
     "output_type": "stream",
     "text": [
      "\n"
     ]
    },
    {
     "name": "stdout",
     "output_type": "stream",
     "text": [
      "\tDNK,  2nd phase (06May2020 - 07Aug2020): finished  185 trials in 0 min 10 sec"
     ]
    },
    {
     "name": "stdout",
     "output_type": "stream",
     "text": [
      "\n"
     ]
    },
    {
     "name": "stdout",
     "output_type": "stream",
     "text": [
      "\tCZE,  8th phase (03Nov2020 - 09Nov2020): finished  228 trials in 0 min 10 sec"
     ]
    },
    {
     "name": "stdout",
     "output_type": "stream",
     "text": [
      "\n"
     ]
    },
    {
     "name": "stdout",
     "output_type": "stream",
     "text": [
      "\tAUT,  7th phase (21Oct2020 - 30Oct2020): finished  222 trials in 0 min 10 sec"
     ]
    },
    {
     "name": "stdout",
     "output_type": "stream",
     "text": [
      "\n"
     ]
    },
    {
     "name": "stdout",
     "output_type": "stream",
     "text": [
      "\tAUT,  0th phase (05Mar2020 - 28Mar2020): finished  220 trials in 0 min 10 sec"
     ]
    },
    {
     "name": "stdout",
     "output_type": "stream",
     "text": [
      "\n"
     ]
    },
    {
     "name": "stdout",
     "output_type": "stream",
     "text": [
      "\tNOR, 11th phase (15Nov2020 - 22Nov2020): finished  222 trials in 0 min 10 sec"
     ]
    },
    {
     "name": "stdout",
     "output_type": "stream",
     "text": [
      "\n"
     ]
    },
    {
     "name": "stdout",
     "output_type": "stream",
     "text": [
      "\tSVK,  9th phase (19Nov2020 - 25Nov2020): finished  221 trials in 0 min 10 sec"
     ]
    },
    {
     "name": "stdout",
     "output_type": "stream",
     "text": [
      "\n"
     ]
    },
    {
     "name": "stdout",
     "output_type": "stream",
     "text": [
      "\tCZE,  6th phase (21Oct2020 - 26Oct2020): finished  219 trials in 0 min 10 sec"
     ]
    },
    {
     "name": "stdout",
     "output_type": "stream",
     "text": [
      "\n"
     ]
    },
    {
     "name": "stdout",
     "output_type": "stream",
     "text": [
      "\tAUT,  2nd phase (13Jul2020 - 24Aug2020): finished  194 trials in 0 min 10 sec"
     ]
    },
    {
     "name": "stdout",
     "output_type": "stream",
     "text": [
      "\n"
     ]
    },
    {
     "name": "stdout",
     "output_type": "stream",
     "text": [
      "\tNLD,  6th phase (17Oct2020 - 22Oct2020): finished  215 trials in 0 min 10 sec"
     ]
    },
    {
     "name": "stdout",
     "output_type": "stream",
     "text": [
      "\n"
     ]
    },
    {
     "name": "stdout",
     "output_type": "stream",
     "text": [
      "\tDEU,  4th phase (05Aug2020 - 12Sep2020): finished  197 trials in 0 min 10 sec"
     ]
    },
    {
     "name": "stdout",
     "output_type": "stream",
     "text": [
      "\n"
     ]
    },
    {
     "name": "stdout",
     "output_type": "stream",
     "text": [
      "\tDNK, 15th phase (26Dec2020 - 04Jan2021): finished  210 trials in 0 min 10 sec"
     ]
    },
    {
     "name": "stdout",
     "output_type": "stream",
     "text": [
      "\n"
     ]
    },
    {
     "name": "stdout",
     "output_type": "stream",
     "text": [
      "\tAUT,  3rd phase (25Aug2020 - 14Sep2020): finished  204 trials in 0 min 10 sec"
     ]
    },
    {
     "name": "stdout",
     "output_type": "stream",
     "text": [
      "\n"
     ]
    },
    {
     "name": "stdout",
     "output_type": "stream",
     "text": [
      "\tITA,  8th phase (02Nov2020 - 11Nov2020): finished  209 trials in 0 min 10 sec"
     ]
    },
    {
     "name": "stdout",
     "output_type": "stream",
     "text": [
      "\n"
     ]
    },
    {
     "name": "stdout",
     "output_type": "stream",
     "text": [
      "\tDNK, 14th phase (16Dec2020 - 25Dec2020): finished  206 trials in 0 min 10 sec"
     ]
    },
    {
     "name": "stdout",
     "output_type": "stream",
     "text": [
      "\n"
     ]
    },
    {
     "name": "stdout",
     "output_type": "stream",
     "text": [
      "\tCAN, 11th phase (28Nov2020 - 04Dec2020): finished  205 trials in 0 min 10 sec"
     ]
    },
    {
     "name": "stdout",
     "output_type": "stream",
     "text": [
      "\n"
     ]
    },
    {
     "name": "stdout",
     "output_type": "stream",
     "text": [
      "\tCHE,  2nd phase (08Apr2020 - 02Aug2020): finished  180 trials in 0 min 10 sec"
     ]
    },
    {
     "name": "stdout",
     "output_type": "stream",
     "text": [
      "\n"
     ]
    },
    {
     "name": "stdout",
     "output_type": "stream",
     "text": [
      "\tMYS, 15th phase (25Dec2020 - 30Dec2020): finished  211 trials in 0 min 10 sec"
     ]
    },
    {
     "name": "stdout",
     "output_type": "stream",
     "text": [
      "\n"
     ]
    },
    {
     "name": "stdout",
     "output_type": "stream",
     "text": [
      "\tNLD, 13th phase (11Dec2020 - 16Dec2020): finished  248 trials in 0 min 10 sec"
     ]
    },
    {
     "name": "stdout",
     "output_type": "stream",
     "text": [
      "\n"
     ]
    },
    {
     "name": "stdout",
     "output_type": "stream",
     "text": [
      "\tDEU,  9th phase (04Nov2020 - 10Nov2020): finished  260 trials in 0 min 10 sec"
     ]
    },
    {
     "name": "stdout",
     "output_type": "stream",
     "text": [
      "\n"
     ]
    },
    {
     "name": "stdout",
     "output_type": "stream",
     "text": [
      "\tSVK,  1st phase (04Sep2020 - 28Sep2020): finished  247 trials in 0 min 10 sec"
     ]
    },
    {
     "name": "stdout",
     "output_type": "stream",
     "text": [
      "\n"
     ]
    },
    {
     "name": "stdout",
     "output_type": "stream",
     "text": [
      "\tNOR,  0th phase (08Mar2020 - 21Mar2020): finished  264 trials in 0 min 10 sec"
     ]
    },
    {
     "name": "stdout",
     "output_type": "stream",
     "text": [
      "\n"
     ]
    },
    {
     "name": "stdout",
     "output_type": "stream",
     "text": [
      "\tCAN,  7th phase (18Oct2020 - 30Oct2020): finished  204 trials in 0 min 10 sec"
     ]
    },
    {
     "name": "stdout",
     "output_type": "stream",
     "text": [
      "\n"
     ]
    },
    {
     "name": "stdout",
     "output_type": "stream",
     "text": [
      "\tCHE,  4th phase (08Sep2020 - 04Oct2020): finished  198 trials in 0 min 10 sec"
     ]
    },
    {
     "name": "stdout",
     "output_type": "stream",
     "text": [
      "\n"
     ]
    },
    {
     "name": "stdout",
     "output_type": "stream",
     "text": [
      "\tDEU,  5th phase (13Sep2020 - 07Oct2020): finished  195 trials in 0 min 10 sec"
     ]
    },
    {
     "name": "stdout",
     "output_type": "stream",
     "text": [
      "\n"
     ]
    },
    {
     "name": "stdout",
     "output_type": "stream",
     "text": [
      "\tLVA,  9th phase (04Nov2020 - 09Nov2020): finished  209 trials in 0 min 10 sec"
     ]
    },
    {
     "name": "stdout",
     "output_type": "stream",
     "text": [
      "\n"
     ]
    },
    {
     "name": "stdout",
     "output_type": "stream",
     "text": [
      "\tDNK,  1st phase (06Apr2020 - 05May2020): finished  168 trials in 0 min 10 sec"
     ]
    },
    {
     "name": "stdout",
     "output_type": "stream",
     "text": [
      "\n"
     ]
    },
    {
     "name": "stdout",
     "output_type": "stream",
     "text": [
      "\tCHE,  0th phase (03Mar2020 - 23Mar2020): finished  173 trials in 0 min 10 sec"
     ]
    },
    {
     "name": "stdout",
     "output_type": "stream",
     "text": [
      "\n"
     ]
    },
    {
     "name": "stdout",
     "output_type": "stream",
     "text": [
      "\tDNK, 13th phase (06Dec2020 - 15Dec2020): finished  181 trials in 0 min 10 sec"
     ]
    },
    {
     "name": "stdout",
     "output_type": "stream",
     "text": [
      "\n"
     ]
    },
    {
     "name": "stdout",
     "output_type": "stream",
     "text": [
      "\tPRT, 15th phase (16Dec2020 - 22Dec2020): finished  176 trials in 0 min 10 sec"
     ]
    },
    {
     "name": "stdout",
     "output_type": "stream",
     "text": [
      "\n"
     ]
    },
    {
     "name": "stdout",
     "output_type": "stream",
     "text": [
      "\tITA,  9th phase (12Nov2020 - 21Nov2020): finished  213 trials in 0 min 10 sec"
     ]
    },
    {
     "name": "stdout",
     "output_type": "stream",
     "text": [
      "\n"
     ]
    },
    {
     "name": "stdout",
     "output_type": "stream",
     "text": [
      "\tCHE, 13th phase (08Dec2020 - 13Dec2020): finished  216 trials in 0 min 10 sec"
     ]
    },
    {
     "name": "stdout",
     "output_type": "stream",
     "text": [
      "\n"
     ]
    },
    {
     "name": "stdout",
     "output_type": "stream",
     "text": [
      "\tGBR, 13th phase (10Dec2020 - 16Dec2020): finished  223 trials in 0 min 10 sec"
     ]
    },
    {
     "name": "stdout",
     "output_type": "stream",
     "text": [
      "\n"
     ]
    },
    {
     "name": "stdout",
     "output_type": "stream",
     "text": [
      "\tDEU,  1st phase (24Mar2020 - 06Apr2020): finished  235 trials in 0 min 10 sec"
     ]
    },
    {
     "name": "stdout",
     "output_type": "stream",
     "text": [
      "\n"
     ]
    },
    {
     "name": "stdout",
     "output_type": "stream",
     "text": [
      "\tCZE,  5th phase (15Oct2020 - 20Oct2020): finished  253 trials in 0 min 10 sec"
     ]
    },
    {
     "name": "stdout",
     "output_type": "stream",
     "text": [
      "\n"
     ]
    },
    {
     "name": "stdout",
     "output_type": "stream",
     "text": [
      "\tNOR, 16th phase (22Dec2020 - 28Dec2020): finished  247 trials in 0 min 10 sec"
     ]
    },
    {
     "name": "stdout",
     "output_type": "stream",
     "text": [
      "\n"
     ]
    },
    {
     "name": "stdout",
     "output_type": "stream",
     "text": [
      "\tPRT,  4th phase (10Jul2020 - 01Sep2020): finished  219 trials in 0 min 10 sec"
     ]
    },
    {
     "name": "stdout",
     "output_type": "stream",
     "text": [
      "\n"
     ]
    },
    {
     "name": "stdout",
     "output_type": "stream",
     "text": [
      "\tSWE,  3rd phase (08Jun2020 - 24Jun2020): finished  239 trials in 0 min 10 sec"
     ]
    },
    {
     "name": "stdout",
     "output_type": "stream",
     "text": [
      "\n"
     ]
    },
    {
     "name": "stdout",
     "output_type": "stream",
     "text": [
      "\tDEU, 11th phase (18Nov2020 - 24Nov2020): finished  269 trials in 0 min 10 sec"
     ]
    },
    {
     "name": "stdout",
     "output_type": "stream",
     "text": [
      "\n"
     ]
    },
    {
     "name": "stdout",
     "output_type": "stream",
     "text": [
      "\tLVA,  0th phase (10Mar2020 - 01Apr2020): finished  223 trials in 0 min 10 sec"
     ]
    },
    {
     "name": "stdout",
     "output_type": "stream",
     "text": [
      "\n"
     ]
    },
    {
     "name": "stdout",
     "output_type": "stream",
     "text": [
      "\tNLD,  2nd phase (10Aug2020 - 16Sep2020): finished  229 trials in 0 min 10 sec"
     ]
    },
    {
     "name": "stdout",
     "output_type": "stream",
     "text": [
      "\n"
     ]
    },
    {
     "name": "stdout",
     "output_type": "stream",
     "text": [
      "\tITA, 10th phase (22Nov2020 - 02Dec2020): finished  254 trials in 0 min 10 sec"
     ]
    },
    {
     "name": "stdout",
     "output_type": "stream",
     "text": [
      "\n"
     ]
    },
    {
     "name": "stdout",
     "output_type": "stream",
     "text": [
      "\tCAN, 12th phase (05Dec2020 - 12Dec2020): finished  245 trials in 0 min 10 sec"
     ]
    },
    {
     "name": "stdout",
     "output_type": "stream",
     "text": [
      "\n"
     ]
    },
    {
     "name": "stdout",
     "output_type": "stream",
     "text": [
      "\tSWE,  4th phase (25Jun2020 - 12Aug2020): finished  235 trials in 0 min 10 sec"
     ]
    },
    {
     "name": "stdout",
     "output_type": "stream",
     "text": [
      "\n"
     ]
    },
    {
     "name": "stdout",
     "output_type": "stream",
     "text": [
      "\tSVK,  8th phase (11Nov2020 - 18Nov2020): finished  260 trials in 0 min 10 sec"
     ]
    },
    {
     "name": "stdout",
     "output_type": "stream",
     "text": [
      "\n"
     ]
    },
    {
     "name": "stdout",
     "output_type": "stream",
     "text": [
      "\tNOR, 12th phase (23Nov2020 - 29Nov2020): finished  266 trials in 0 min 10 sec"
     ]
    },
    {
     "name": "stdout",
     "output_type": "stream",
     "text": [
      "\n"
     ]
    },
    {
     "name": "stdout",
     "output_type": "stream",
     "text": [
      "\tITA,  5th phase (30Sep2020 - 14Oct2020): finished  238 trials in 0 min 10 sec"
     ]
    },
    {
     "name": "stdout",
     "output_type": "stream",
     "text": [
      "\n"
     ]
    },
    {
     "name": "stdout",
     "output_type": "stream",
     "text": [
      "\tSVK,  3rd phase (09Oct2020 - 15Oct2020): finished  225 trials in 0 min 10 sec"
     ]
    },
    {
     "name": "stdout",
     "output_type": "stream",
     "text": [
      "\n"
     ]
    },
    {
     "name": "stdout",
     "output_type": "stream",
     "text": [
      "\tPRT,  8th phase (22Oct2020 - 28Oct2020): finished  247 trials in 0 min 10 sec"
     ]
    },
    {
     "name": "stdout",
     "output_type": "stream",
     "text": [
      "\n"
     ]
    },
    {
     "name": "stdout",
     "output_type": "stream",
     "text": [
      "\tMYS,  8th phase (25Oct2020 - 30Oct2020): finished  245 trials in 0 min 10 sec"
     ]
    },
    {
     "name": "stdout",
     "output_type": "stream",
     "text": [
      "\n"
     ]
    },
    {
     "name": "stdout",
     "output_type": "stream",
     "text": [
      "\tLVA,  3rd phase (07Aug2020 - 28Sep2020): finished  210 trials in 0 min 10 sec"
     ]
    },
    {
     "name": "stdout",
     "output_type": "stream",
     "text": [
      "\n"
     ]
    },
    {
     "name": "stdout",
     "output_type": "stream",
     "text": [
      "\tCHE, 16th phase (28Dec2020 - 03Jan2021): finished  218 trials in 0 min 10 sec"
     ]
    },
    {
     "name": "stdout",
     "output_type": "stream",
     "text": [
      "\n"
     ]
    },
    {
     "name": "stdout",
     "output_type": "stream",
     "text": [
      "\tLVA, 15th phase (30Dec2020 - 04Jan2021): finished  192 trials in 0 min 10 sec"
     ]
    },
    {
     "name": "stdout",
     "output_type": "stream",
     "text": [
      "\n"
     ]
    },
    {
     "name": "stdout",
     "output_type": "stream",
     "text": [
      "\tDNK,  5th phase (24Sep2020 - 07Oct2020): finished  201 trials in 0 min 10 sec"
     ]
    },
    {
     "name": "stdout",
     "output_type": "stream",
     "text": [
      "\n"
     ]
    },
    {
     "name": "stdout",
     "output_type": "stream",
     "text": [
      "\tLVA,  1st phase (02Apr2020 - 05May2020): finished  299 trials in 0 min 10 sec"
     ]
    },
    {
     "name": "stdout",
     "output_type": "stream",
     "text": [
      "\n"
     ]
    },
    {
     "name": "stdout",
     "output_type": "stream",
     "text": [
      "\tMYS,  0th phase (07Feb2020 - 24Mar2020): finished  306 trials in 0 min 10 sec"
     ]
    },
    {
     "name": "stdout",
     "output_type": "stream",
     "text": [
      "\n"
     ]
    },
    {
     "name": "stdout",
     "output_type": "stream",
     "text": [
      "\tITA,  2nd phase (08Apr2020 - 30Apr2020): finished  314 trials in 0 min 10 sec"
     ]
    },
    {
     "name": "stdout",
     "output_type": "stream",
     "text": [
      "\n"
     ]
    },
    {
     "name": "stdout",
     "output_type": "stream",
     "text": [
      "\tSWE,  0th phase (21Feb2020 - 15Apr2020): finished  313 trials in 0 min 10 sec"
     ]
    },
    {
     "name": "stdout",
     "output_type": "stream",
     "text": [
      "\n"
     ]
    },
    {
     "name": "stdout",
     "output_type": "stream",
     "text": [
      "\tMYS, 13th phase (05Dec2020 - 14Dec2020): finished  326 trials in 0 min 10 sec"
     ]
    },
    {
     "name": "stdout",
     "output_type": "stream",
     "text": [
      "\n"
     ]
    },
    {
     "name": "stdout",
     "output_type": "stream",
     "text": [
      "\tDEU,  8th phase (28Oct2020 - 03Nov2020): finished  326 trials in 0 min 10 sec"
     ]
    },
    {
     "name": "stdout",
     "output_type": "stream",
     "text": [
      "\n"
     ]
    },
    {
     "name": "stdout",
     "output_type": "stream",
     "text": [
      "\tGBR, 12th phase (30Nov2020 - 09Dec2020): finished  325 trials in 0 min 10 sec"
     ]
    },
    {
     "name": "stdout",
     "output_type": "stream",
     "text": [
      "\n"
     ]
    },
    {
     "name": "stdout",
     "output_type": "stream",
     "text": [
      "\tSWE,  1st phase (16Apr2020 - 12May2020): finished  317 trials in 0 min 10 sec"
     ]
    },
    {
     "name": "stdout",
     "output_type": "stream",
     "text": [
      "\n"
     ]
    },
    {
     "name": "stdout",
     "output_type": "stream",
     "text": [
      "\tPRT, 11th phase (15Nov2020 - 25Nov2020): finished  327 trials in 0 min 10 sec"
     ]
    },
    {
     "name": "stdout",
     "output_type": "stream",
     "text": [
      "\n"
     ]
    },
    {
     "name": "stdout",
     "output_type": "stream",
     "text": [
      "\tAUT,  1st phase (29Mar2020 - 12Jul2020): finished  296 trials in 0 min 10 sec"
     ]
    },
    {
     "name": "stdout",
     "output_type": "stream",
     "text": [
      "\n"
     ]
    },
    {
     "name": "stdout",
     "output_type": "stream",
     "text": [
      "\tCAN,  1st phase (10Apr2020 - 30Apr2020): finished  323 trials in 0 min 10 sec"
     ]
    },
    {
     "name": "stdout",
     "output_type": "stream",
     "text": [
      "\n"
     ]
    },
    {
     "name": "stdout",
     "output_type": "stream",
     "text": [
      "\tNOR,  4th phase (06Aug2020 - 02Sep2020): finished  318 trials in 0 min 10 sec"
     ]
    },
    {
     "name": "stdout",
     "output_type": "stream",
     "text": [
      "\n"
     ]
    },
    {
     "name": "stdout",
     "output_type": "stream",
     "text": [
      "\tGBR,  8th phase (28Oct2020 - 04Nov2020): finished  331 trials in 0 min 10 sec"
     ]
    },
    {
     "name": "stdout",
     "output_type": "stream",
     "text": [
      "\n"
     ]
    },
    {
     "name": "stdout",
     "output_type": "stream",
     "text": [
      "\tNOR,  3rd phase (02May2020 - 05Aug2020): finished  299 trials in 0 min 10 sec"
     ]
    },
    {
     "name": "stdout",
     "output_type": "stream",
     "text": [
      "\n"
     ]
    },
    {
     "name": "stdout",
     "output_type": "stream",
     "text": [
      "\tMYS,  2nd phase (12Apr2020 - 24May2020): finished  316 trials in 0 min 10 sec"
     ]
    },
    {
     "name": "stdout",
     "output_type": "stream",
     "text": [
      "\n"
     ]
    },
    {
     "name": "stdout",
     "output_type": "stream",
     "text": [
      "\tDEU, 12th phase (25Nov2020 - 01Dec2020): finished  327 trials in 0 min 10 sec"
     ]
    },
    {
     "name": "stdout",
     "output_type": "stream",
     "text": [
      "\n"
     ]
    },
    {
     "name": "stdout",
     "output_type": "stream",
     "text": [
      "\tNOR,  9th phase (02Nov2020 - 08Nov2020): finished  310 trials in 0 min 10 sec"
     ]
    },
    {
     "name": "stdout",
     "output_type": "stream",
     "text": [
      "\n"
     ]
    },
    {
     "name": "stdout",
     "output_type": "stream",
     "text": [
      "\tLVA,  2nd phase (06May2020 - 06Aug2020): finished  277 trials in 0 min 10 sec"
     ]
    },
    {
     "name": "stdout",
     "output_type": "stream",
     "text": [
      "\n"
     ]
    },
    {
     "name": "stdout",
     "output_type": "stream",
     "text": [
      "\tGBR, 14th phase (17Dec2020 - 22Dec2020): finished  310 trials in 0 min 10 sec"
     ]
    },
    {
     "name": "stdout",
     "output_type": "stream",
     "text": [
      "\n"
     ]
    },
    {
     "name": "stdout",
     "output_type": "stream",
     "text": [
      "\tCAN,  6th phase (04Oct2020 - 17Oct2020): finished  301 trials in 0 min 10 sec"
     ]
    },
    {
     "name": "stdout",
     "output_type": "stream",
     "text": [
      "\n"
     ]
    },
    {
     "name": "stdout",
     "output_type": "stream",
     "text": [
      "\tDEU, 10th phase (11Nov2020 - 17Nov2020): finished  327 trials in 0 min 10 sec"
     ]
    },
    {
     "name": "stdout",
     "output_type": "stream",
     "text": [
      "\n"
     ]
    },
    {
     "name": "stdout",
     "output_type": "stream",
     "text": [
      "\tGBR, 16th phase (29Dec2020 - 13Jan2021): finished  326 trials in 0 min 10 sec"
     ]
    },
    {
     "name": "stdout",
     "output_type": "stream",
     "text": [
      "\n"
     ]
    },
    {
     "name": "stdout",
     "output_type": "stream",
     "text": [
      "\tSWE,  5th phase (13Aug2020 - 04Oct2020): finished  315 trials in 0 min 10 sec"
     ]
    },
    {
     "name": "stdout",
     "output_type": "stream",
     "text": [
      "\n"
     ]
    },
    {
     "name": "stdout",
     "output_type": "stream",
     "text": [
      "\tMYS,  9th phase (31Oct2020 - 11Nov2020): finished  324 trials in 0 min 10 sec"
     ]
    },
    {
     "name": "stdout",
     "output_type": "stream",
     "text": [
      "\n"
     ]
    },
    {
     "name": "stdout",
     "output_type": "stream",
     "text": [
      "\tITA,  7th phase (23Oct2020 - 01Nov2020): finished  344 trials in 0 min 10 sec"
     ]
    },
    {
     "name": "stdout",
     "output_type": "stream",
     "text": [
      "\n"
     ]
    },
    {
     "name": "stdout",
     "output_type": "stream",
     "text": [
      "\tCHE, 14th phase (14Dec2020 - 20Dec2020): finished  349 trials in 0 min 10 sec"
     ]
    },
    {
     "name": "stdout",
     "output_type": "stream",
     "text": [
      "\n"
     ]
    },
    {
     "name": "stdout",
     "output_type": "stream",
     "text": [
      "\tAUT,  4th phase (15Sep2020 - 30Sep2020): finished  342 trials in 0 min 10 sec"
     ]
    },
    {
     "name": "stdout",
     "output_type": "stream",
     "text": [
      "\n"
     ]
    },
    {
     "name": "stdout",
     "output_type": "stream",
     "text": [
      "\tMYS, 14th phase (15Dec2020 - 24Dec2020): finished  345 trials in 0 min 10 sec"
     ]
    },
    {
     "name": "stdout",
     "output_type": "stream",
     "text": [
      "\n"
     ]
    },
    {
     "name": "stdout",
     "output_type": "stream",
     "text": [
      "\tGBR, 15th phase (23Dec2020 - 28Dec2020): finished  348 trials in 0 min 10 sec"
     ]
    },
    {
     "name": "stdout",
     "output_type": "stream",
     "text": [
      "\n"
     ]
    },
    {
     "name": "stdout",
     "output_type": "stream",
     "text": [
      "\tPRT, 14th phase (10Dec2020 - 15Dec2020): finished  344 trials in 0 min 10 sec"
     ]
    },
    {
     "name": "stdout",
     "output_type": "stream",
     "text": [
      "\n"
     ]
    },
    {
     "name": "stdout",
     "output_type": "stream",
     "text": [
      "Completed optimization. Total: 9 min 22 sec\n"
     ]
    }
   ],
   "source": [
    "# Parameter estimation with SIR-F model\n",
    "analyser.estimate(cs.SIRF, timeout=10)"
   ]
  },
  {
   "cell_type": "code",
   "execution_count": 12,
   "metadata": {
    "collapsed": false
   },
   "outputs": [
    {
     "data": {
      "text/html": [
       "<div>\n",
       "<style scoped>\n",
       "    .dataframe tbody tr th:only-of-type {\n",
       "        vertical-align: middle;\n",
       "    }\n",
       "\n",
       "    .dataframe tbody tr th {\n",
       "        vertical-align: top;\n",
       "    }\n",
       "\n",
       "    .dataframe thead th {\n",
       "        text-align: right;\n",
       "    }\n",
       "</style>\n",
       "<table border=\"1\" class=\"dataframe\">\n",
       "  <thead>\n",
       "    <tr style=\"text-align: right;\">\n",
       "      <th></th>\n",
       "      <th></th>\n",
       "      <th>Type</th>\n",
       "      <th>Start</th>\n",
       "      <th>End</th>\n",
       "      <th>Population</th>\n",
       "      <th>ODE</th>\n",
       "      <th>Rt</th>\n",
       "      <th>theta</th>\n",
       "      <th>kappa</th>\n",
       "      <th>rho</th>\n",
       "      <th>sigma</th>\n",
       "      <th>tau</th>\n",
       "      <th>1/gamma [day]</th>\n",
       "      <th>alpha1 [-]</th>\n",
       "      <th>1/beta [day]</th>\n",
       "      <th>1/alpha2 [day]</th>\n",
       "      <th>RMSLE</th>\n",
       "      <th>Trials</th>\n",
       "      <th>Runtime</th>\n",
       "    </tr>\n",
       "    <tr>\n",
       "      <th>Country</th>\n",
       "      <th>Phase</th>\n",
       "      <th></th>\n",
       "      <th></th>\n",
       "      <th></th>\n",
       "      <th></th>\n",
       "      <th></th>\n",
       "      <th></th>\n",
       "      <th></th>\n",
       "      <th></th>\n",
       "      <th></th>\n",
       "      <th></th>\n",
       "      <th></th>\n",
       "      <th></th>\n",
       "      <th></th>\n",
       "      <th></th>\n",
       "      <th></th>\n",
       "      <th></th>\n",
       "      <th></th>\n",
       "      <th></th>\n",
       "    </tr>\n",
       "  </thead>\n",
       "  <tbody>\n",
       "    <tr>\n",
       "      <th rowspan=\"19\" valign=\"top\">Norway</th>\n",
       "      <th>0th</th>\n",
       "      <td>Past</td>\n",
       "      <td>08Mar2020</td>\n",
       "      <td>21Mar2020</td>\n",
       "      <td>5311916</td>\n",
       "      <td>SIR-F</td>\n",
       "      <td>84.51</td>\n",
       "      <td>0.004749</td>\n",
       "      <td>0.000400</td>\n",
       "      <td>0.034190</td>\n",
       "      <td>0.000003</td>\n",
       "      <td>360</td>\n",
       "      <td>86579</td>\n",
       "      <td>0.005</td>\n",
       "      <td>7</td>\n",
       "      <td>625</td>\n",
       "      <td>0.720716</td>\n",
       "      <td>264</td>\n",
       "      <td>0 min 10 sec</td>\n",
       "    </tr>\n",
       "    <tr>\n",
       "      <th>1st</th>\n",
       "      <td>Past</td>\n",
       "      <td>22Mar2020</td>\n",
       "      <td>05Apr2020</td>\n",
       "      <td>5311916</td>\n",
       "      <td>SIR-F</td>\n",
       "      <td>35.09</td>\n",
       "      <td>0.000121</td>\n",
       "      <td>0.000229</td>\n",
       "      <td>0.017870</td>\n",
       "      <td>0.000281</td>\n",
       "      <td>360</td>\n",
       "      <td>891</td>\n",
       "      <td>0.000</td>\n",
       "      <td>13</td>\n",
       "      <td>1093</td>\n",
       "      <td>0.603094</td>\n",
       "      <td>330</td>\n",
       "      <td>0 min 10 sec</td>\n",
       "    </tr>\n",
       "    <tr>\n",
       "      <th>2nd</th>\n",
       "      <td>Past</td>\n",
       "      <td>06Apr2020</td>\n",
       "      <td>01May2020</td>\n",
       "      <td>5311916</td>\n",
       "      <td>SIR-F</td>\n",
       "      <td>0.30</td>\n",
       "      <td>0.093195</td>\n",
       "      <td>0.000150</td>\n",
       "      <td>0.003270</td>\n",
       "      <td>0.009716</td>\n",
       "      <td>360</td>\n",
       "      <td>25</td>\n",
       "      <td>0.093</td>\n",
       "      <td>76</td>\n",
       "      <td>1666</td>\n",
       "      <td>0.105829</td>\n",
       "      <td>315</td>\n",
       "      <td>0 min 10 sec</td>\n",
       "    </tr>\n",
       "    <tr>\n",
       "      <th>3rd</th>\n",
       "      <td>Past</td>\n",
       "      <td>02May2020</td>\n",
       "      <td>05Aug2020</td>\n",
       "      <td>5311916</td>\n",
       "      <td>SIR-F</td>\n",
       "      <td>0.34</td>\n",
       "      <td>0.061102</td>\n",
       "      <td>0.000005</td>\n",
       "      <td>0.005613</td>\n",
       "      <td>0.015487</td>\n",
       "      <td>360</td>\n",
       "      <td>16</td>\n",
       "      <td>0.061</td>\n",
       "      <td>44</td>\n",
       "      <td>54800</td>\n",
       "      <td>0.516923</td>\n",
       "      <td>299</td>\n",
       "      <td>0 min 10 sec</td>\n",
       "    </tr>\n",
       "    <tr>\n",
       "      <th>4th</th>\n",
       "      <td>Past</td>\n",
       "      <td>06Aug2020</td>\n",
       "      <td>02Sep2020</td>\n",
       "      <td>5311916</td>\n",
       "      <td>SIR-F</td>\n",
       "      <td>2.03</td>\n",
       "      <td>0.003232</td>\n",
       "      <td>0.000309</td>\n",
       "      <td>0.023025</td>\n",
       "      <td>0.010985</td>\n",
       "      <td>360</td>\n",
       "      <td>22</td>\n",
       "      <td>0.003</td>\n",
       "      <td>10</td>\n",
       "      <td>808</td>\n",
       "      <td>0.092754</td>\n",
       "      <td>318</td>\n",
       "      <td>0 min 10 sec</td>\n",
       "    </tr>\n",
       "    <tr>\n",
       "      <th>5th</th>\n",
       "      <td>Past</td>\n",
       "      <td>03Sep2020</td>\n",
       "      <td>20Sep2020</td>\n",
       "      <td>5311916</td>\n",
       "      <td>SIR-F</td>\n",
       "      <td>1.80</td>\n",
       "      <td>0.001841</td>\n",
       "      <td>0.000059</td>\n",
       "      <td>0.018802</td>\n",
       "      <td>0.010346</td>\n",
       "      <td>360</td>\n",
       "      <td>24</td>\n",
       "      <td>0.002</td>\n",
       "      <td>13</td>\n",
       "      <td>4228</td>\n",
       "      <td>0.014644</td>\n",
       "      <td>319</td>\n",
       "      <td>0 min 10 sec</td>\n",
       "    </tr>\n",
       "    <tr>\n",
       "      <th>6th</th>\n",
       "      <td>Past</td>\n",
       "      <td>21Sep2020</td>\n",
       "      <td>07Oct2020</td>\n",
       "      <td>5311916</td>\n",
       "      <td>SIR-F</td>\n",
       "      <td>2.25</td>\n",
       "      <td>0.000901</td>\n",
       "      <td>0.000071</td>\n",
       "      <td>0.015211</td>\n",
       "      <td>0.006680</td>\n",
       "      <td>360</td>\n",
       "      <td>37</td>\n",
       "      <td>0.001</td>\n",
       "      <td>16</td>\n",
       "      <td>3515</td>\n",
       "      <td>0.039074</td>\n",
       "      <td>286</td>\n",
       "      <td>0 min 10 sec</td>\n",
       "    </tr>\n",
       "    <tr>\n",
       "      <th>7th</th>\n",
       "      <td>Past</td>\n",
       "      <td>08Oct2020</td>\n",
       "      <td>24Oct2020</td>\n",
       "      <td>5311916</td>\n",
       "      <td>SIR-F</td>\n",
       "      <td>0.92</td>\n",
       "      <td>0.000396</td>\n",
       "      <td>0.000079</td>\n",
       "      <td>0.013005</td>\n",
       "      <td>0.014025</td>\n",
       "      <td>360</td>\n",
       "      <td>17</td>\n",
       "      <td>0.000</td>\n",
       "      <td>19</td>\n",
       "      <td>3157</td>\n",
       "      <td>0.030076</td>\n",
       "      <td>327</td>\n",
       "      <td>0 min 10 sec</td>\n",
       "    </tr>\n",
       "    <tr>\n",
       "      <th>8th</th>\n",
       "      <td>Past</td>\n",
       "      <td>25Oct2020</td>\n",
       "      <td>01Nov2020</td>\n",
       "      <td>5311916</td>\n",
       "      <td>SIR-F</td>\n",
       "      <td>2.86</td>\n",
       "      <td>0.001151</td>\n",
       "      <td>0.000002</td>\n",
       "      <td>0.028203</td>\n",
       "      <td>0.009837</td>\n",
       "      <td>360</td>\n",
       "      <td>25</td>\n",
       "      <td>0.001</td>\n",
       "      <td>8</td>\n",
       "      <td>133014</td>\n",
       "      <td>0.017205</td>\n",
       "      <td>319</td>\n",
       "      <td>0 min 10 sec</td>\n",
       "    </tr>\n",
       "    <tr>\n",
       "      <th>9th</th>\n",
       "      <td>Past</td>\n",
       "      <td>02Nov2020</td>\n",
       "      <td>08Nov2020</td>\n",
       "      <td>5311916</td>\n",
       "      <td>SIR-F</td>\n",
       "      <td>4.26</td>\n",
       "      <td>0.001235</td>\n",
       "      <td>0.000002</td>\n",
       "      <td>0.024789</td>\n",
       "      <td>0.005813</td>\n",
       "      <td>360</td>\n",
       "      <td>43</td>\n",
       "      <td>0.001</td>\n",
       "      <td>10</td>\n",
       "      <td>134597</td>\n",
       "      <td>0.016744</td>\n",
       "      <td>310</td>\n",
       "      <td>0 min 10 sec</td>\n",
       "    </tr>\n",
       "    <tr>\n",
       "      <th>10th</th>\n",
       "      <td>Past</td>\n",
       "      <td>09Nov2020</td>\n",
       "      <td>14Nov2020</td>\n",
       "      <td>5311916</td>\n",
       "      <td>SIR-F</td>\n",
       "      <td>4.19</td>\n",
       "      <td>0.001441</td>\n",
       "      <td>0.000054</td>\n",
       "      <td>0.017300</td>\n",
       "      <td>0.004071</td>\n",
       "      <td>360</td>\n",
       "      <td>61</td>\n",
       "      <td>0.001</td>\n",
       "      <td>14</td>\n",
       "      <td>4601</td>\n",
       "      <td>0.007844</td>\n",
       "      <td>332</td>\n",
       "      <td>0 min 10 sec</td>\n",
       "    </tr>\n",
       "    <tr>\n",
       "      <th>11th</th>\n",
       "      <td>Past</td>\n",
       "      <td>15Nov2020</td>\n",
       "      <td>22Nov2020</td>\n",
       "      <td>5311916</td>\n",
       "      <td>SIR-F</td>\n",
       "      <td>5.82</td>\n",
       "      <td>0.003924</td>\n",
       "      <td>0.000079</td>\n",
       "      <td>0.012419</td>\n",
       "      <td>0.002048</td>\n",
       "      <td>360</td>\n",
       "      <td>122</td>\n",
       "      <td>0.004</td>\n",
       "      <td>20</td>\n",
       "      <td>3156</td>\n",
       "      <td>0.039287</td>\n",
       "      <td>222</td>\n",
       "      <td>0 min 10 sec</td>\n",
       "    </tr>\n",
       "    <tr>\n",
       "      <th>12th</th>\n",
       "      <td>Past</td>\n",
       "      <td>23Nov2020</td>\n",
       "      <td>29Nov2020</td>\n",
       "      <td>5311916</td>\n",
       "      <td>SIR-F</td>\n",
       "      <td>4.15</td>\n",
       "      <td>0.000921</td>\n",
       "      <td>0.000096</td>\n",
       "      <td>0.007680</td>\n",
       "      <td>0.001755</td>\n",
       "      <td>360</td>\n",
       "      <td>142</td>\n",
       "      <td>0.001</td>\n",
       "      <td>32</td>\n",
       "      <td>2608</td>\n",
       "      <td>0.020133</td>\n",
       "      <td>266</td>\n",
       "      <td>0 min 10 sec</td>\n",
       "    </tr>\n",
       "    <tr>\n",
       "      <th>13th</th>\n",
       "      <td>Past</td>\n",
       "      <td>30Nov2020</td>\n",
       "      <td>07Dec2020</td>\n",
       "      <td>5311916</td>\n",
       "      <td>SIR-F</td>\n",
       "      <td>3.19</td>\n",
       "      <td>0.001674</td>\n",
       "      <td>0.000054</td>\n",
       "      <td>0.005462</td>\n",
       "      <td>0.001655</td>\n",
       "      <td>360</td>\n",
       "      <td>151</td>\n",
       "      <td>0.002</td>\n",
       "      <td>45</td>\n",
       "      <td>4601</td>\n",
       "      <td>0.009687</td>\n",
       "      <td>332</td>\n",
       "      <td>0 min 10 sec</td>\n",
       "    </tr>\n",
       "    <tr>\n",
       "      <th>14th</th>\n",
       "      <td>Past</td>\n",
       "      <td>08Dec2020</td>\n",
       "      <td>14Dec2020</td>\n",
       "      <td>5311916</td>\n",
       "      <td>SIR-F</td>\n",
       "      <td>2.84</td>\n",
       "      <td>0.000118</td>\n",
       "      <td>0.000151</td>\n",
       "      <td>0.004925</td>\n",
       "      <td>0.001584</td>\n",
       "      <td>360</td>\n",
       "      <td>157</td>\n",
       "      <td>0.000</td>\n",
       "      <td>50</td>\n",
       "      <td>1650</td>\n",
       "      <td>0.029956</td>\n",
       "      <td>335</td>\n",
       "      <td>0 min 10 sec</td>\n",
       "    </tr>\n",
       "    <tr>\n",
       "      <th>15th</th>\n",
       "      <td>Past</td>\n",
       "      <td>15Dec2020</td>\n",
       "      <td>21Dec2020</td>\n",
       "      <td>5311916</td>\n",
       "      <td>SIR-F</td>\n",
       "      <td>2.75</td>\n",
       "      <td>0.032406</td>\n",
       "      <td>0.000191</td>\n",
       "      <td>0.004860</td>\n",
       "      <td>0.001519</td>\n",
       "      <td>360</td>\n",
       "      <td>164</td>\n",
       "      <td>0.032</td>\n",
       "      <td>51</td>\n",
       "      <td>1308</td>\n",
       "      <td>0.119091</td>\n",
       "      <td>241</td>\n",
       "      <td>0 min 10 sec</td>\n",
       "    </tr>\n",
       "    <tr>\n",
       "      <th>16th</th>\n",
       "      <td>Past</td>\n",
       "      <td>22Dec2020</td>\n",
       "      <td>28Dec2020</td>\n",
       "      <td>5311916</td>\n",
       "      <td>SIR-F</td>\n",
       "      <td>2.99</td>\n",
       "      <td>0.042072</td>\n",
       "      <td>0.000002</td>\n",
       "      <td>0.004557</td>\n",
       "      <td>0.001457</td>\n",
       "      <td>360</td>\n",
       "      <td>171</td>\n",
       "      <td>0.042</td>\n",
       "      <td>54</td>\n",
       "      <td>134911</td>\n",
       "      <td>0.061481</td>\n",
       "      <td>247</td>\n",
       "      <td>0 min 10 sec</td>\n",
       "    </tr>\n",
       "    <tr>\n",
       "      <th>17th</th>\n",
       "      <td>Past</td>\n",
       "      <td>29Dec2020</td>\n",
       "      <td>04Jan2021</td>\n",
       "      <td>5311916</td>\n",
       "      <td>SIR-F</td>\n",
       "      <td>3.26</td>\n",
       "      <td>0.046482</td>\n",
       "      <td>0.000005</td>\n",
       "      <td>0.004698</td>\n",
       "      <td>0.001369</td>\n",
       "      <td>360</td>\n",
       "      <td>182</td>\n",
       "      <td>0.046</td>\n",
       "      <td>53</td>\n",
       "      <td>54814</td>\n",
       "      <td>0.089534</td>\n",
       "      <td>309</td>\n",
       "      <td>0 min 10 sec</td>\n",
       "    </tr>\n",
       "    <tr>\n",
       "      <th>18th</th>\n",
       "      <td>Past</td>\n",
       "      <td>05Jan2021</td>\n",
       "      <td>13Jan2021</td>\n",
       "      <td>5311916</td>\n",
       "      <td>SIR-F</td>\n",
       "      <td>2.76</td>\n",
       "      <td>0.008964</td>\n",
       "      <td>0.000059</td>\n",
       "      <td>0.003694</td>\n",
       "      <td>0.001270</td>\n",
       "      <td>360</td>\n",
       "      <td>196</td>\n",
       "      <td>0.009</td>\n",
       "      <td>67</td>\n",
       "      <td>4221</td>\n",
       "      <td>0.039621</td>\n",
       "      <td>330</td>\n",
       "      <td>0 min 10 sec</td>\n",
       "    </tr>\n",
       "    <tr>\n",
       "      <th rowspan=\"19\" valign=\"top\">Germany</th>\n",
       "      <th>0th</th>\n",
       "      <td>Past</td>\n",
       "      <td>19Jan2020</td>\n",
       "      <td>23Mar2020</td>\n",
       "      <td>82905782</td>\n",
       "      <td>SIR-F</td>\n",
       "      <td>3.37</td>\n",
       "      <td>0.023043</td>\n",
       "      <td>0.000237</td>\n",
       "      <td>0.016191</td>\n",
       "      <td>0.004454</td>\n",
       "      <td>360.0</td>\n",
       "      <td>56.0</td>\n",
       "      <td>0.023</td>\n",
       "      <td>15.0</td>\n",
       "      <td>1053.0</td>\n",
       "      <td>1.424296</td>\n",
       "      <td>242.0</td>\n",
       "      <td>0 min 10 sec</td>\n",
       "    </tr>\n",
       "    <tr>\n",
       "      <th>1st</th>\n",
       "      <td>Past</td>\n",
       "      <td>24Mar2020</td>\n",
       "      <td>06Apr2020</td>\n",
       "      <td>82905782</td>\n",
       "      <td>SIR-F</td>\n",
       "      <td>4.25</td>\n",
       "      <td>0.034646</td>\n",
       "      <td>0.000450</td>\n",
       "      <td>0.021444</td>\n",
       "      <td>0.004418</td>\n",
       "      <td>360.0</td>\n",
       "      <td>56.0</td>\n",
       "      <td>0.035</td>\n",
       "      <td>11.0</td>\n",
       "      <td>556.0</td>\n",
       "      <td>0.207285</td>\n",
       "      <td>235.0</td>\n",
       "      <td>0 min 10 sec</td>\n",
       "    </tr>\n",
       "    <tr>\n",
       "      <th>2nd</th>\n",
       "      <td>Past</td>\n",
       "      <td>07Apr2020</td>\n",
       "      <td>05May2020</td>\n",
       "      <td>82905782</td>\n",
       "      <td>SIR-F</td>\n",
       "      <td>0.51</td>\n",
       "      <td>0.032126</td>\n",
       "      <td>0.000319</td>\n",
       "      <td>0.011303</td>\n",
       "      <td>0.021201</td>\n",
       "      <td>360.0</td>\n",
       "      <td>11.0</td>\n",
       "      <td>0.032</td>\n",
       "      <td>22.0</td>\n",
       "      <td>784.0</td>\n",
       "      <td>0.095224</td>\n",
       "      <td>321.0</td>\n",
       "      <td>0 min 10 sec</td>\n",
       "    </tr>\n",
       "    <tr>\n",
       "      <th>3rd</th>\n",
       "      <td>Past</td>\n",
       "      <td>06May2020</td>\n",
       "      <td>04Aug2020</td>\n",
       "      <td>82905782</td>\n",
       "      <td>SIR-F</td>\n",
       "      <td>0.75</td>\n",
       "      <td>0.002473</td>\n",
       "      <td>0.000094</td>\n",
       "      <td>0.013625</td>\n",
       "      <td>0.018024</td>\n",
       "      <td>360.0</td>\n",
       "      <td>13.0</td>\n",
       "      <td>0.002</td>\n",
       "      <td>18.0</td>\n",
       "      <td>2661.0</td>\n",
       "      <td>0.236648</td>\n",
       "      <td>170.0</td>\n",
       "      <td>0 min 10 sec</td>\n",
       "    </tr>\n",
       "    <tr>\n",
       "      <th>4th</th>\n",
       "      <td>Past</td>\n",
       "      <td>05Aug2020</td>\n",
       "      <td>12Sep2020</td>\n",
       "      <td>82905782</td>\n",
       "      <td>SIR-F</td>\n",
       "      <td>1.42</td>\n",
       "      <td>0.003232</td>\n",
       "      <td>0.000309</td>\n",
       "      <td>0.019573</td>\n",
       "      <td>0.013399</td>\n",
       "      <td>360.0</td>\n",
       "      <td>18.0</td>\n",
       "      <td>0.003</td>\n",
       "      <td>12.0</td>\n",
       "      <td>808.0</td>\n",
       "      <td>0.075715</td>\n",
       "      <td>197.0</td>\n",
       "      <td>0 min 10 sec</td>\n",
       "    </tr>\n",
       "    <tr>\n",
       "      <th>5th</th>\n",
       "      <td>Past</td>\n",
       "      <td>13Sep2020</td>\n",
       "      <td>07Oct2020</td>\n",
       "      <td>82905782</td>\n",
       "      <td>SIR-F</td>\n",
       "      <td>1.45</td>\n",
       "      <td>0.000949</td>\n",
       "      <td>0.000079</td>\n",
       "      <td>0.017979</td>\n",
       "      <td>0.012322</td>\n",
       "      <td>360.0</td>\n",
       "      <td>20.0</td>\n",
       "      <td>0.001</td>\n",
       "      <td>13.0</td>\n",
       "      <td>3152.0</td>\n",
       "      <td>0.029677</td>\n",
       "      <td>195.0</td>\n",
       "      <td>0 min 10 sec</td>\n",
       "    </tr>\n",
       "    <tr>\n",
       "      <th>6th</th>\n",
       "      <td>Past</td>\n",
       "      <td>08Oct2020</td>\n",
       "      <td>20Oct2020</td>\n",
       "      <td>82905782</td>\n",
       "      <td>SIR-F</td>\n",
       "      <td>3.06</td>\n",
       "      <td>0.000676</td>\n",
       "      <td>0.000067</td>\n",
       "      <td>0.025858</td>\n",
       "      <td>0.008365</td>\n",
       "      <td>360.0</td>\n",
       "      <td>29.0</td>\n",
       "      <td>0.001</td>\n",
       "      <td>9.0</td>\n",
       "      <td>3708.0</td>\n",
       "      <td>0.059232</td>\n",
       "      <td>207.0</td>\n",
       "      <td>0 min 10 sec</td>\n",
       "    </tr>\n",
       "    <tr>\n",
       "      <th>7th</th>\n",
       "      <td>Past</td>\n",
       "      <td>21Oct2020</td>\n",
       "      <td>27Oct2020</td>\n",
       "      <td>82905782</td>\n",
       "      <td>-</td>\n",
       "      <td>-</td>\n",
       "      <td>-</td>\n",
       "      <td>-</td>\n",
       "      <td>-</td>\n",
       "      <td>-</td>\n",
       "      <td>-</td>\n",
       "      <td>-</td>\n",
       "      <td>-</td>\n",
       "      <td>-</td>\n",
       "      <td>-</td>\n",
       "      <td>-</td>\n",
       "      <td>-</td>\n",
       "      <td>-</td>\n",
       "    </tr>\n",
       "    <tr>\n",
       "      <th>8th</th>\n",
       "      <td>Past</td>\n",
       "      <td>28Oct2020</td>\n",
       "      <td>03Nov2020</td>\n",
       "      <td>82905782</td>\n",
       "      <td>SIR-F</td>\n",
       "      <td>2.32</td>\n",
       "      <td>0.017921</td>\n",
       "      <td>0.000048</td>\n",
       "      <td>0.018920</td>\n",
       "      <td>0.007948</td>\n",
       "      <td>360.0</td>\n",
       "      <td>31.0</td>\n",
       "      <td>0.018</td>\n",
       "      <td>13.0</td>\n",
       "      <td>5183.0</td>\n",
       "      <td>0.033844</td>\n",
       "      <td>326.0</td>\n",
       "      <td>0 min 10 sec</td>\n",
       "    </tr>\n",
       "    <tr>\n",
       "      <th>9th</th>\n",
       "      <td>Past</td>\n",
       "      <td>04Nov2020</td>\n",
       "      <td>10Nov2020</td>\n",
       "      <td>82905782</td>\n",
       "      <td>SIR-F</td>\n",
       "      <td>1.46</td>\n",
       "      <td>0.000663</td>\n",
       "      <td>0.000235</td>\n",
       "      <td>0.017538</td>\n",
       "      <td>0.011785</td>\n",
       "      <td>360.0</td>\n",
       "      <td>21.0</td>\n",
       "      <td>0.001</td>\n",
       "      <td>14.0</td>\n",
       "      <td>1063.0</td>\n",
       "      <td>0.023757</td>\n",
       "      <td>260.0</td>\n",
       "      <td>0 min 10 sec</td>\n",
       "    </tr>\n",
       "    <tr>\n",
       "      <th>10th</th>\n",
       "      <td>Past</td>\n",
       "      <td>11Nov2020</td>\n",
       "      <td>17Nov2020</td>\n",
       "      <td>82905782</td>\n",
       "      <td>SIR-F</td>\n",
       "      <td>1.05</td>\n",
       "      <td>0.016236</td>\n",
       "      <td>0.000005</td>\n",
       "      <td>0.017081</td>\n",
       "      <td>0.015934</td>\n",
       "      <td>360.0</td>\n",
       "      <td>15.0</td>\n",
       "      <td>0.016</td>\n",
       "      <td>14.0</td>\n",
       "      <td>54836.0</td>\n",
       "      <td>0.019426</td>\n",
       "      <td>327.0</td>\n",
       "      <td>0 min 10 sec</td>\n",
       "    </tr>\n",
       "    <tr>\n",
       "      <th>11th</th>\n",
       "      <td>Past</td>\n",
       "      <td>18Nov2020</td>\n",
       "      <td>24Nov2020</td>\n",
       "      <td>82905782</td>\n",
       "      <td>SIR-F</td>\n",
       "      <td>0.97</td>\n",
       "      <td>0.005474</td>\n",
       "      <td>0.000093</td>\n",
       "      <td>0.017075</td>\n",
       "      <td>0.017405</td>\n",
       "      <td>360.0</td>\n",
       "      <td>14.0</td>\n",
       "      <td>0.005</td>\n",
       "      <td>14.0</td>\n",
       "      <td>2685.0</td>\n",
       "      <td>0.024857</td>\n",
       "      <td>269.0</td>\n",
       "      <td>0 min 10 sec</td>\n",
       "    </tr>\n",
       "    <tr>\n",
       "      <th>12th</th>\n",
       "      <td>Past</td>\n",
       "      <td>25Nov2020</td>\n",
       "      <td>01Dec2020</td>\n",
       "      <td>82905782</td>\n",
       "      <td>SIR-F</td>\n",
       "      <td>0.84</td>\n",
       "      <td>0.019806</td>\n",
       "      <td>0.000048</td>\n",
       "      <td>0.014335</td>\n",
       "      <td>0.016599</td>\n",
       "      <td>360.0</td>\n",
       "      <td>15.0</td>\n",
       "      <td>0.020</td>\n",
       "      <td>17.0</td>\n",
       "      <td>5182.0</td>\n",
       "      <td>0.015952</td>\n",
       "      <td>327.0</td>\n",
       "      <td>0 min 10 sec</td>\n",
       "    </tr>\n",
       "    <tr>\n",
       "      <th>13th</th>\n",
       "      <td>Past</td>\n",
       "      <td>02Dec2020</td>\n",
       "      <td>08Dec2020</td>\n",
       "      <td>82905782</td>\n",
       "      <td>SIR-F</td>\n",
       "      <td>0.99</td>\n",
       "      <td>0.002696</td>\n",
       "      <td>0.000301</td>\n",
       "      <td>0.018963</td>\n",
       "      <td>0.018891</td>\n",
       "      <td>360.0</td>\n",
       "      <td>13.0</td>\n",
       "      <td>0.003</td>\n",
       "      <td>13.0</td>\n",
       "      <td>830.0</td>\n",
       "      <td>0.020362</td>\n",
       "      <td>224.0</td>\n",
       "      <td>0 min 10 sec</td>\n",
       "    </tr>\n",
       "    <tr>\n",
       "      <th>14th</th>\n",
       "      <td>Past</td>\n",
       "      <td>09Dec2020</td>\n",
       "      <td>15Dec2020</td>\n",
       "      <td>82905782</td>\n",
       "      <td>SIR-F</td>\n",
       "      <td>1.24</td>\n",
       "      <td>0.020125</td>\n",
       "      <td>0.000237</td>\n",
       "      <td>0.019171</td>\n",
       "      <td>0.014884</td>\n",
       "      <td>360.0</td>\n",
       "      <td>16.0</td>\n",
       "      <td>0.020</td>\n",
       "      <td>13.0</td>\n",
       "      <td>1053.0</td>\n",
       "      <td>0.018959</td>\n",
       "      <td>216.0</td>\n",
       "      <td>0 min 10 sec</td>\n",
       "    </tr>\n",
       "    <tr>\n",
       "      <th>15th</th>\n",
       "      <td>Past</td>\n",
       "      <td>16Dec2020</td>\n",
       "      <td>21Dec2020</td>\n",
       "      <td>82905782</td>\n",
       "      <td>-</td>\n",
       "      <td>-</td>\n",
       "      <td>-</td>\n",
       "      <td>-</td>\n",
       "      <td>-</td>\n",
       "      <td>-</td>\n",
       "      <td>-</td>\n",
       "      <td>-</td>\n",
       "      <td>-</td>\n",
       "      <td>-</td>\n",
       "      <td>-</td>\n",
       "      <td>-</td>\n",
       "      <td>-</td>\n",
       "      <td>-</td>\n",
       "    </tr>\n",
       "    <tr>\n",
       "      <th>16th</th>\n",
       "      <td>Past</td>\n",
       "      <td>22Dec2020</td>\n",
       "      <td>28Dec2020</td>\n",
       "      <td>82905782</td>\n",
       "      <td>-</td>\n",
       "      <td>-</td>\n",
       "      <td>-</td>\n",
       "      <td>-</td>\n",
       "      <td>-</td>\n",
       "      <td>-</td>\n",
       "      <td>-</td>\n",
       "      <td>-</td>\n",
       "      <td>-</td>\n",
       "      <td>-</td>\n",
       "      <td>-</td>\n",
       "      <td>-</td>\n",
       "      <td>-</td>\n",
       "      <td>-</td>\n",
       "    </tr>\n",
       "    <tr>\n",
       "      <th>17th</th>\n",
       "      <td>Past</td>\n",
       "      <td>29Dec2020</td>\n",
       "      <td>04Jan2021</td>\n",
       "      <td>82905782</td>\n",
       "      <td>-</td>\n",
       "      <td>-</td>\n",
       "      <td>-</td>\n",
       "      <td>-</td>\n",
       "      <td>-</td>\n",
       "      <td>-</td>\n",
       "      <td>-</td>\n",
       "      <td>-</td>\n",
       "      <td>-</td>\n",
       "      <td>-</td>\n",
       "      <td>-</td>\n",
       "      <td>-</td>\n",
       "      <td>-</td>\n",
       "      <td>-</td>\n",
       "    </tr>\n",
       "    <tr>\n",
       "      <th>18th</th>\n",
       "      <td>Past</td>\n",
       "      <td>05Jan2021</td>\n",
       "      <td>13Jan2021</td>\n",
       "      <td>82905782</td>\n",
       "      <td>-</td>\n",
       "      <td>-</td>\n",
       "      <td>-</td>\n",
       "      <td>-</td>\n",
       "      <td>-</td>\n",
       "      <td>-</td>\n",
       "      <td>-</td>\n",
       "      <td>-</td>\n",
       "      <td>-</td>\n",
       "      <td>-</td>\n",
       "      <td>-</td>\n",
       "      <td>-</td>\n",
       "      <td>-</td>\n",
       "      <td>-</td>\n",
       "    </tr>\n",
       "    <tr>\n",
       "      <th rowspan=\"19\" valign=\"top\">Portugal</th>\n",
       "      <th>0th</th>\n",
       "      <td>Past</td>\n",
       "      <td>14Mar2020</td>\n",
       "      <td>03Apr2020</td>\n",
       "      <td>10283822</td>\n",
       "      <td>SIR-F</td>\n",
       "      <td>30.50</td>\n",
       "      <td>0.001456</td>\n",
       "      <td>0.001050</td>\n",
       "      <td>0.049523</td>\n",
       "      <td>0.000571</td>\n",
       "      <td>360.0</td>\n",
       "      <td>437.0</td>\n",
       "      <td>0.001</td>\n",
       "      <td>5.0</td>\n",
       "      <td>238.0</td>\n",
       "      <td>0.509740</td>\n",
       "      <td>327.0</td>\n",
       "      <td>0 min 10 sec</td>\n",
       "    </tr>\n",
       "    <tr>\n",
       "      <th>1st</th>\n",
       "      <td>Past</td>\n",
       "      <td>04Apr2020</td>\n",
       "      <td>23Apr2020</td>\n",
       "      <td>10283822</td>\n",
       "      <td>SIR-F</td>\n",
       "      <td>10.75</td>\n",
       "      <td>0.046606</td>\n",
       "      <td>0.000079</td>\n",
       "      <td>0.010035</td>\n",
       "      <td>0.000811</td>\n",
       "      <td>360.0</td>\n",
       "      <td>308.0</td>\n",
       "      <td>0.047</td>\n",
       "      <td>24.0</td>\n",
       "      <td>3161.0</td>\n",
       "      <td>0.127877</td>\n",
       "      <td>226.0</td>\n",
       "      <td>0 min 10 sec</td>\n",
       "    </tr>\n",
       "    <tr>\n",
       "      <th>2nd</th>\n",
       "      <td>Past</td>\n",
       "      <td>24Apr2020</td>\n",
       "      <td>05Jun2020</td>\n",
       "      <td>10283822</td>\n",
       "      <td>SIR-F</td>\n",
       "      <td>1.35</td>\n",
       "      <td>0.000067</td>\n",
       "      <td>0.000152</td>\n",
       "      <td>0.003985</td>\n",
       "      <td>0.002805</td>\n",
       "      <td>360.0</td>\n",
       "      <td>89.0</td>\n",
       "      <td>0.000</td>\n",
       "      <td>62.0</td>\n",
       "      <td>1649.0</td>\n",
       "      <td>0.394357</td>\n",
       "      <td>320.0</td>\n",
       "      <td>0 min 10 sec</td>\n",
       "    </tr>\n",
       "    <tr>\n",
       "      <th>3rd</th>\n",
       "      <td>Past</td>\n",
       "      <td>06Jun2020</td>\n",
       "      <td>09Jul2020</td>\n",
       "      <td>10283822</td>\n",
       "      <td>SIR-F</td>\n",
       "      <td>1.30</td>\n",
       "      <td>0.000603</td>\n",
       "      <td>0.000098</td>\n",
       "      <td>0.007081</td>\n",
       "      <td>0.005329</td>\n",
       "      <td>360.0</td>\n",
       "      <td>46.0</td>\n",
       "      <td>0.001</td>\n",
       "      <td>35.0</td>\n",
       "      <td>2545.0</td>\n",
       "      <td>0.036864</td>\n",
       "      <td>321.0</td>\n",
       "      <td>0 min 10 sec</td>\n",
       "    </tr>\n",
       "    <tr>\n",
       "      <th>4th</th>\n",
       "      <td>Past</td>\n",
       "      <td>10Jul2020</td>\n",
       "      <td>01Sep2020</td>\n",
       "      <td>10283822</td>\n",
       "      <td>SIR-F</td>\n",
       "      <td>0.80</td>\n",
       "      <td>0.092930</td>\n",
       "      <td>0.000014</td>\n",
       "      <td>0.004219</td>\n",
       "      <td>0.004771</td>\n",
       "      <td>360.0</td>\n",
       "      <td>52.0</td>\n",
       "      <td>0.093</td>\n",
       "      <td>59.0</td>\n",
       "      <td>17576.0</td>\n",
       "      <td>0.153284</td>\n",
       "      <td>219.0</td>\n",
       "      <td>0 min 10 sec</td>\n",
       "    </tr>\n",
       "    <tr>\n",
       "      <th>5th</th>\n",
       "      <td>Past</td>\n",
       "      <td>02Sep2020</td>\n",
       "      <td>24Sep2020</td>\n",
       "      <td>10283822</td>\n",
       "      <td>SIR-F</td>\n",
       "      <td>2.61</td>\n",
       "      <td>0.017098</td>\n",
       "      <td>0.000071</td>\n",
       "      <td>0.007762</td>\n",
       "      <td>0.002854</td>\n",
       "      <td>360.0</td>\n",
       "      <td>87.0</td>\n",
       "      <td>0.017</td>\n",
       "      <td>32.0</td>\n",
       "      <td>3515.0</td>\n",
       "      <td>0.037989</td>\n",
       "      <td>194.0</td>\n",
       "      <td>0 min 10 sec</td>\n",
       "    </tr>\n",
       "    <tr>\n",
       "      <th>6th</th>\n",
       "      <td>Past</td>\n",
       "      <td>25Sep2020</td>\n",
       "      <td>12Oct2020</td>\n",
       "      <td>10283822</td>\n",
       "      <td>SIR-F</td>\n",
       "      <td>2.30</td>\n",
       "      <td>0.002193</td>\n",
       "      <td>0.000079</td>\n",
       "      <td>0.008711</td>\n",
       "      <td>0.003694</td>\n",
       "      <td>360.0</td>\n",
       "      <td>67.0</td>\n",
       "      <td>0.002</td>\n",
       "      <td>28.0</td>\n",
       "      <td>3153.0</td>\n",
       "      <td>0.012833</td>\n",
       "      <td>189.0</td>\n",
       "      <td>0 min 10 sec</td>\n",
       "    </tr>\n",
       "    <tr>\n",
       "      <th>7th</th>\n",
       "      <td>Past</td>\n",
       "      <td>13Oct2020</td>\n",
       "      <td>21Oct2020</td>\n",
       "      <td>10283822</td>\n",
       "      <td>SIR-F</td>\n",
       "      <td>2.16</td>\n",
       "      <td>0.000988</td>\n",
       "      <td>0.000071</td>\n",
       "      <td>0.014239</td>\n",
       "      <td>0.006500</td>\n",
       "      <td>360.0</td>\n",
       "      <td>38.0</td>\n",
       "      <td>0.001</td>\n",
       "      <td>17.0</td>\n",
       "      <td>3514.0</td>\n",
       "      <td>0.015757</td>\n",
       "      <td>204.0</td>\n",
       "      <td>0 min 10 sec</td>\n",
       "    </tr>\n",
       "    <tr>\n",
       "      <th>8th</th>\n",
       "      <td>Past</td>\n",
       "      <td>22Oct2020</td>\n",
       "      <td>28Oct2020</td>\n",
       "      <td>10283822</td>\n",
       "      <td>SIR-F</td>\n",
       "      <td>1.89</td>\n",
       "      <td>0.001799</td>\n",
       "      <td>0.000093</td>\n",
       "      <td>0.017723</td>\n",
       "      <td>0.009243</td>\n",
       "      <td>360.0</td>\n",
       "      <td>27.0</td>\n",
       "      <td>0.002</td>\n",
       "      <td>14.0</td>\n",
       "      <td>2685.0</td>\n",
       "      <td>0.007191</td>\n",
       "      <td>247.0</td>\n",
       "      <td>0 min 10 sec</td>\n",
       "    </tr>\n",
       "    <tr>\n",
       "      <th>9th</th>\n",
       "      <td>Past</td>\n",
       "      <td>29Oct2020</td>\n",
       "      <td>04Nov2020</td>\n",
       "      <td>10283822</td>\n",
       "      <td>-</td>\n",
       "      <td>-</td>\n",
       "      <td>-</td>\n",
       "      <td>-</td>\n",
       "      <td>-</td>\n",
       "      <td>-</td>\n",
       "      <td>-</td>\n",
       "      <td>-</td>\n",
       "      <td>-</td>\n",
       "      <td>-</td>\n",
       "      <td>-</td>\n",
       "      <td>-</td>\n",
       "      <td>-</td>\n",
       "      <td>-</td>\n",
       "    </tr>\n",
       "    <tr>\n",
       "      <th>10th</th>\n",
       "      <td>Past</td>\n",
       "      <td>05Nov2020</td>\n",
       "      <td>14Nov2020</td>\n",
       "      <td>10283822</td>\n",
       "      <td>SIR-F</td>\n",
       "      <td>1.69</td>\n",
       "      <td>0.001293</td>\n",
       "      <td>0.000191</td>\n",
       "      <td>0.019428</td>\n",
       "      <td>0.011294</td>\n",
       "      <td>360.0</td>\n",
       "      <td>22.0</td>\n",
       "      <td>0.001</td>\n",
       "      <td>12.0</td>\n",
       "      <td>1308.0</td>\n",
       "      <td>0.016010</td>\n",
       "      <td>308.0</td>\n",
       "      <td>0 min 10 sec</td>\n",
       "    </tr>\n",
       "    <tr>\n",
       "      <th>11th</th>\n",
       "      <td>Past</td>\n",
       "      <td>15Nov2020</td>\n",
       "      <td>25Nov2020</td>\n",
       "      <td>10283822</td>\n",
       "      <td>SIR-F</td>\n",
       "      <td>0.95</td>\n",
       "      <td>0.003735</td>\n",
       "      <td>0.000079</td>\n",
       "      <td>0.018954</td>\n",
       "      <td>0.019888</td>\n",
       "      <td>360.0</td>\n",
       "      <td>12.0</td>\n",
       "      <td>0.004</td>\n",
       "      <td>13.0</td>\n",
       "      <td>3156.0</td>\n",
       "      <td>0.048625</td>\n",
       "      <td>327.0</td>\n",
       "      <td>0 min 10 sec</td>\n",
       "    </tr>\n",
       "    <tr>\n",
       "      <th>12th</th>\n",
       "      <td>Past</td>\n",
       "      <td>26Nov2020</td>\n",
       "      <td>02Dec2020</td>\n",
       "      <td>10283822</td>\n",
       "      <td>-</td>\n",
       "      <td>-</td>\n",
       "      <td>-</td>\n",
       "      <td>-</td>\n",
       "      <td>-</td>\n",
       "      <td>-</td>\n",
       "      <td>-</td>\n",
       "      <td>-</td>\n",
       "      <td>-</td>\n",
       "      <td>-</td>\n",
       "      <td>-</td>\n",
       "      <td>-</td>\n",
       "      <td>-</td>\n",
       "      <td>-</td>\n",
       "    </tr>\n",
       "    <tr>\n",
       "      <th>13th</th>\n",
       "      <td>Past</td>\n",
       "      <td>03Dec2020</td>\n",
       "      <td>09Dec2020</td>\n",
       "      <td>10283822</td>\n",
       "      <td>-</td>\n",
       "      <td>-</td>\n",
       "      <td>-</td>\n",
       "      <td>-</td>\n",
       "      <td>-</td>\n",
       "      <td>-</td>\n",
       "      <td>-</td>\n",
       "      <td>-</td>\n",
       "      <td>-</td>\n",
       "      <td>-</td>\n",
       "      <td>-</td>\n",
       "      <td>-</td>\n",
       "      <td>-</td>\n",
       "      <td>-</td>\n",
       "    </tr>\n",
       "    <tr>\n",
       "      <th>14th</th>\n",
       "      <td>Past</td>\n",
       "      <td>10Dec2020</td>\n",
       "      <td>15Dec2020</td>\n",
       "      <td>10283822</td>\n",
       "      <td>SIR-F</td>\n",
       "      <td>0.95</td>\n",
       "      <td>0.018022</td>\n",
       "      <td>0.000070</td>\n",
       "      <td>0.014923</td>\n",
       "      <td>0.015390</td>\n",
       "      <td>360.0</td>\n",
       "      <td>16.0</td>\n",
       "      <td>0.018</td>\n",
       "      <td>16.0</td>\n",
       "      <td>3590.0</td>\n",
       "      <td>0.012921</td>\n",
       "      <td>344.0</td>\n",
       "      <td>0 min 10 sec</td>\n",
       "    </tr>\n",
       "    <tr>\n",
       "      <th>15th</th>\n",
       "      <td>Past</td>\n",
       "      <td>16Dec2020</td>\n",
       "      <td>22Dec2020</td>\n",
       "      <td>10283822</td>\n",
       "      <td>SIR-F</td>\n",
       "      <td>1.08</td>\n",
       "      <td>0.019827</td>\n",
       "      <td>0.000002</td>\n",
       "      <td>0.014882</td>\n",
       "      <td>0.013492</td>\n",
       "      <td>360.0</td>\n",
       "      <td>18.0</td>\n",
       "      <td>0.020</td>\n",
       "      <td>16.0</td>\n",
       "      <td>134754.0</td>\n",
       "      <td>0.010206</td>\n",
       "      <td>176.0</td>\n",
       "      <td>0 min 10 sec</td>\n",
       "    </tr>\n",
       "    <tr>\n",
       "      <th>16th</th>\n",
       "      <td>Past</td>\n",
       "      <td>23Dec2020</td>\n",
       "      <td>29Dec2020</td>\n",
       "      <td>10283822</td>\n",
       "      <td>-</td>\n",
       "      <td>-</td>\n",
       "      <td>-</td>\n",
       "      <td>-</td>\n",
       "      <td>-</td>\n",
       "      <td>-</td>\n",
       "      <td>-</td>\n",
       "      <td>-</td>\n",
       "      <td>-</td>\n",
       "      <td>-</td>\n",
       "      <td>-</td>\n",
       "      <td>-</td>\n",
       "      <td>-</td>\n",
       "      <td>-</td>\n",
       "    </tr>\n",
       "    <tr>\n",
       "      <th>17th</th>\n",
       "      <td>Past</td>\n",
       "      <td>30Dec2020</td>\n",
       "      <td>05Jan2021</td>\n",
       "      <td>10283822</td>\n",
       "      <td>-</td>\n",
       "      <td>-</td>\n",
       "      <td>-</td>\n",
       "      <td>-</td>\n",
       "      <td>-</td>\n",
       "      <td>-</td>\n",
       "      <td>-</td>\n",
       "      <td>-</td>\n",
       "      <td>-</td>\n",
       "      <td>-</td>\n",
       "      <td>-</td>\n",
       "      <td>-</td>\n",
       "      <td>-</td>\n",
       "      <td>-</td>\n",
       "    </tr>\n",
       "    <tr>\n",
       "      <th>18th</th>\n",
       "      <td>Past</td>\n",
       "      <td>06Jan2021</td>\n",
       "      <td>13Jan2021</td>\n",
       "      <td>10283822</td>\n",
       "      <td>-</td>\n",
       "      <td>-</td>\n",
       "      <td>-</td>\n",
       "      <td>-</td>\n",
       "      <td>-</td>\n",
       "      <td>-</td>\n",
       "      <td>-</td>\n",
       "      <td>-</td>\n",
       "      <td>-</td>\n",
       "      <td>-</td>\n",
       "      <td>-</td>\n",
       "      <td>-</td>\n",
       "      <td>-</td>\n",
       "      <td>-</td>\n",
       "    </tr>\n",
       "  </tbody>\n",
       "</table>\n",
       "</div>"
      ],
      "text/plain": [
       "                Type      Start        End  Population    ODE     Rt  \\\n",
       "Country  Phase                                                         \n",
       "Norway   0th    Past  08Mar2020  21Mar2020     5311916  SIR-F  84.51   \n",
       "         1st    Past  22Mar2020  05Apr2020     5311916  SIR-F  35.09   \n",
       "         2nd    Past  06Apr2020  01May2020     5311916  SIR-F   0.30   \n",
       "         3rd    Past  02May2020  05Aug2020     5311916  SIR-F   0.34   \n",
       "         4th    Past  06Aug2020  02Sep2020     5311916  SIR-F   2.03   \n",
       "         5th    Past  03Sep2020  20Sep2020     5311916  SIR-F   1.80   \n",
       "         6th    Past  21Sep2020  07Oct2020     5311916  SIR-F   2.25   \n",
       "         7th    Past  08Oct2020  24Oct2020     5311916  SIR-F   0.92   \n",
       "         8th    Past  25Oct2020  01Nov2020     5311916  SIR-F   2.86   \n",
       "         9th    Past  02Nov2020  08Nov2020     5311916  SIR-F   4.26   \n",
       "         10th   Past  09Nov2020  14Nov2020     5311916  SIR-F   4.19   \n",
       "         11th   Past  15Nov2020  22Nov2020     5311916  SIR-F   5.82   \n",
       "         12th   Past  23Nov2020  29Nov2020     5311916  SIR-F   4.15   \n",
       "         13th   Past  30Nov2020  07Dec2020     5311916  SIR-F   3.19   \n",
       "         14th   Past  08Dec2020  14Dec2020     5311916  SIR-F   2.84   \n",
       "         15th   Past  15Dec2020  21Dec2020     5311916  SIR-F   2.75   \n",
       "         16th   Past  22Dec2020  28Dec2020     5311916  SIR-F   2.99   \n",
       "         17th   Past  29Dec2020  04Jan2021     5311916  SIR-F   3.26   \n",
       "         18th   Past  05Jan2021  13Jan2021     5311916  SIR-F   2.76   \n",
       "Germany  0th    Past  19Jan2020  23Mar2020    82905782  SIR-F   3.37   \n",
       "         1st    Past  24Mar2020  06Apr2020    82905782  SIR-F   4.25   \n",
       "         2nd    Past  07Apr2020  05May2020    82905782  SIR-F   0.51   \n",
       "         3rd    Past  06May2020  04Aug2020    82905782  SIR-F   0.75   \n",
       "         4th    Past  05Aug2020  12Sep2020    82905782  SIR-F   1.42   \n",
       "         5th    Past  13Sep2020  07Oct2020    82905782  SIR-F   1.45   \n",
       "         6th    Past  08Oct2020  20Oct2020    82905782  SIR-F   3.06   \n",
       "         7th    Past  21Oct2020  27Oct2020    82905782      -      -   \n",
       "         8th    Past  28Oct2020  03Nov2020    82905782  SIR-F   2.32   \n",
       "         9th    Past  04Nov2020  10Nov2020    82905782  SIR-F   1.46   \n",
       "         10th   Past  11Nov2020  17Nov2020    82905782  SIR-F   1.05   \n",
       "         11th   Past  18Nov2020  24Nov2020    82905782  SIR-F   0.97   \n",
       "         12th   Past  25Nov2020  01Dec2020    82905782  SIR-F   0.84   \n",
       "         13th   Past  02Dec2020  08Dec2020    82905782  SIR-F   0.99   \n",
       "         14th   Past  09Dec2020  15Dec2020    82905782  SIR-F   1.24   \n",
       "         15th   Past  16Dec2020  21Dec2020    82905782      -      -   \n",
       "         16th   Past  22Dec2020  28Dec2020    82905782      -      -   \n",
       "         17th   Past  29Dec2020  04Jan2021    82905782      -      -   \n",
       "         18th   Past  05Jan2021  13Jan2021    82905782      -      -   \n",
       "Portugal 0th    Past  14Mar2020  03Apr2020    10283822  SIR-F  30.50   \n",
       "         1st    Past  04Apr2020  23Apr2020    10283822  SIR-F  10.75   \n",
       "         2nd    Past  24Apr2020  05Jun2020    10283822  SIR-F   1.35   \n",
       "         3rd    Past  06Jun2020  09Jul2020    10283822  SIR-F   1.30   \n",
       "         4th    Past  10Jul2020  01Sep2020    10283822  SIR-F   0.80   \n",
       "         5th    Past  02Sep2020  24Sep2020    10283822  SIR-F   2.61   \n",
       "         6th    Past  25Sep2020  12Oct2020    10283822  SIR-F   2.30   \n",
       "         7th    Past  13Oct2020  21Oct2020    10283822  SIR-F   2.16   \n",
       "         8th    Past  22Oct2020  28Oct2020    10283822  SIR-F   1.89   \n",
       "         9th    Past  29Oct2020  04Nov2020    10283822      -      -   \n",
       "         10th   Past  05Nov2020  14Nov2020    10283822  SIR-F   1.69   \n",
       "         11th   Past  15Nov2020  25Nov2020    10283822  SIR-F   0.95   \n",
       "         12th   Past  26Nov2020  02Dec2020    10283822      -      -   \n",
       "         13th   Past  03Dec2020  09Dec2020    10283822      -      -   \n",
       "         14th   Past  10Dec2020  15Dec2020    10283822  SIR-F   0.95   \n",
       "         15th   Past  16Dec2020  22Dec2020    10283822  SIR-F   1.08   \n",
       "         16th   Past  23Dec2020  29Dec2020    10283822      -      -   \n",
       "         17th   Past  30Dec2020  05Jan2021    10283822      -      -   \n",
       "         18th   Past  06Jan2021  13Jan2021    10283822      -      -   \n",
       "\n",
       "                   theta     kappa       rho     sigma    tau 1/gamma [day]  \\\n",
       "Country  Phase                                                                \n",
       "Norway   0th    0.004749  0.000400  0.034190  0.000003    360         86579   \n",
       "         1st    0.000121  0.000229  0.017870  0.000281    360           891   \n",
       "         2nd    0.093195  0.000150  0.003270  0.009716    360            25   \n",
       "         3rd    0.061102  0.000005  0.005613  0.015487    360            16   \n",
       "         4th    0.003232  0.000309  0.023025  0.010985    360            22   \n",
       "         5th    0.001841  0.000059  0.018802  0.010346    360            24   \n",
       "         6th    0.000901  0.000071  0.015211  0.006680    360            37   \n",
       "         7th    0.000396  0.000079  0.013005  0.014025    360            17   \n",
       "         8th    0.001151  0.000002  0.028203  0.009837    360            25   \n",
       "         9th    0.001235  0.000002  0.024789  0.005813    360            43   \n",
       "         10th   0.001441  0.000054  0.017300  0.004071    360            61   \n",
       "         11th   0.003924  0.000079  0.012419  0.002048    360           122   \n",
       "         12th   0.000921  0.000096  0.007680  0.001755    360           142   \n",
       "         13th   0.001674  0.000054  0.005462  0.001655    360           151   \n",
       "         14th   0.000118  0.000151  0.004925  0.001584    360           157   \n",
       "         15th   0.032406  0.000191  0.004860  0.001519    360           164   \n",
       "         16th   0.042072  0.000002  0.004557  0.001457    360           171   \n",
       "         17th   0.046482  0.000005  0.004698  0.001369    360           182   \n",
       "         18th   0.008964  0.000059  0.003694  0.001270    360           196   \n",
       "Germany  0th    0.023043  0.000237  0.016191  0.004454  360.0          56.0   \n",
       "         1st    0.034646  0.000450  0.021444  0.004418  360.0          56.0   \n",
       "         2nd    0.032126  0.000319  0.011303  0.021201  360.0          11.0   \n",
       "         3rd    0.002473  0.000094  0.013625  0.018024  360.0          13.0   \n",
       "         4th    0.003232  0.000309  0.019573  0.013399  360.0          18.0   \n",
       "         5th    0.000949  0.000079  0.017979  0.012322  360.0          20.0   \n",
       "         6th    0.000676  0.000067  0.025858  0.008365  360.0          29.0   \n",
       "         7th           -         -         -         -      -             -   \n",
       "         8th    0.017921  0.000048  0.018920  0.007948  360.0          31.0   \n",
       "         9th    0.000663  0.000235  0.017538  0.011785  360.0          21.0   \n",
       "         10th   0.016236  0.000005  0.017081  0.015934  360.0          15.0   \n",
       "         11th   0.005474  0.000093  0.017075  0.017405  360.0          14.0   \n",
       "         12th   0.019806  0.000048  0.014335  0.016599  360.0          15.0   \n",
       "         13th   0.002696  0.000301  0.018963  0.018891  360.0          13.0   \n",
       "         14th   0.020125  0.000237  0.019171  0.014884  360.0          16.0   \n",
       "         15th          -         -         -         -      -             -   \n",
       "         16th          -         -         -         -      -             -   \n",
       "         17th          -         -         -         -      -             -   \n",
       "         18th          -         -         -         -      -             -   \n",
       "Portugal 0th    0.001456  0.001050  0.049523  0.000571  360.0         437.0   \n",
       "         1st    0.046606  0.000079  0.010035  0.000811  360.0         308.0   \n",
       "         2nd    0.000067  0.000152  0.003985  0.002805  360.0          89.0   \n",
       "         3rd    0.000603  0.000098  0.007081  0.005329  360.0          46.0   \n",
       "         4th    0.092930  0.000014  0.004219  0.004771  360.0          52.0   \n",
       "         5th    0.017098  0.000071  0.007762  0.002854  360.0          87.0   \n",
       "         6th    0.002193  0.000079  0.008711  0.003694  360.0          67.0   \n",
       "         7th    0.000988  0.000071  0.014239  0.006500  360.0          38.0   \n",
       "         8th    0.001799  0.000093  0.017723  0.009243  360.0          27.0   \n",
       "         9th           -         -         -         -      -             -   \n",
       "         10th   0.001293  0.000191  0.019428  0.011294  360.0          22.0   \n",
       "         11th   0.003735  0.000079  0.018954  0.019888  360.0          12.0   \n",
       "         12th          -         -         -         -      -             -   \n",
       "         13th          -         -         -         -      -             -   \n",
       "         14th   0.018022  0.000070  0.014923  0.015390  360.0          16.0   \n",
       "         15th   0.019827  0.000002  0.014882  0.013492  360.0          18.0   \n",
       "         16th          -         -         -         -      -             -   \n",
       "         17th          -         -         -         -      -             -   \n",
       "         18th          -         -         -         -      -             -   \n",
       "\n",
       "               alpha1 [-] 1/beta [day] 1/alpha2 [day]     RMSLE Trials  \\\n",
       "Country  Phase                                                           \n",
       "Norway   0th        0.005            7            625  0.720716    264   \n",
       "         1st        0.000           13           1093  0.603094    330   \n",
       "         2nd        0.093           76           1666  0.105829    315   \n",
       "         3rd        0.061           44          54800  0.516923    299   \n",
       "         4th        0.003           10            808  0.092754    318   \n",
       "         5th        0.002           13           4228  0.014644    319   \n",
       "         6th        0.001           16           3515  0.039074    286   \n",
       "         7th        0.000           19           3157  0.030076    327   \n",
       "         8th        0.001            8         133014  0.017205    319   \n",
       "         9th        0.001           10         134597  0.016744    310   \n",
       "         10th       0.001           14           4601  0.007844    332   \n",
       "         11th       0.004           20           3156  0.039287    222   \n",
       "         12th       0.001           32           2608  0.020133    266   \n",
       "         13th       0.002           45           4601  0.009687    332   \n",
       "         14th       0.000           50           1650  0.029956    335   \n",
       "         15th       0.032           51           1308  0.119091    241   \n",
       "         16th       0.042           54         134911  0.061481    247   \n",
       "         17th       0.046           53          54814  0.089534    309   \n",
       "         18th       0.009           67           4221  0.039621    330   \n",
       "Germany  0th        0.023         15.0         1053.0  1.424296  242.0   \n",
       "         1st        0.035         11.0          556.0  0.207285  235.0   \n",
       "         2nd        0.032         22.0          784.0  0.095224  321.0   \n",
       "         3rd        0.002         18.0         2661.0  0.236648  170.0   \n",
       "         4th        0.003         12.0          808.0  0.075715  197.0   \n",
       "         5th        0.001         13.0         3152.0  0.029677  195.0   \n",
       "         6th        0.001          9.0         3708.0  0.059232  207.0   \n",
       "         7th            -            -              -         -      -   \n",
       "         8th        0.018         13.0         5183.0  0.033844  326.0   \n",
       "         9th        0.001         14.0         1063.0  0.023757  260.0   \n",
       "         10th       0.016         14.0        54836.0  0.019426  327.0   \n",
       "         11th       0.005         14.0         2685.0  0.024857  269.0   \n",
       "         12th       0.020         17.0         5182.0  0.015952  327.0   \n",
       "         13th       0.003         13.0          830.0  0.020362  224.0   \n",
       "         14th       0.020         13.0         1053.0  0.018959  216.0   \n",
       "         15th           -            -              -         -      -   \n",
       "         16th           -            -              -         -      -   \n",
       "         17th           -            -              -         -      -   \n",
       "         18th           -            -              -         -      -   \n",
       "Portugal 0th        0.001          5.0          238.0  0.509740  327.0   \n",
       "         1st        0.047         24.0         3161.0  0.127877  226.0   \n",
       "         2nd        0.000         62.0         1649.0  0.394357  320.0   \n",
       "         3rd        0.001         35.0         2545.0  0.036864  321.0   \n",
       "         4th        0.093         59.0        17576.0  0.153284  219.0   \n",
       "         5th        0.017         32.0         3515.0  0.037989  194.0   \n",
       "         6th        0.002         28.0         3153.0  0.012833  189.0   \n",
       "         7th        0.001         17.0         3514.0  0.015757  204.0   \n",
       "         8th        0.002         14.0         2685.0  0.007191  247.0   \n",
       "         9th            -            -              -         -      -   \n",
       "         10th       0.001         12.0         1308.0  0.016010  308.0   \n",
       "         11th       0.004         13.0         3156.0  0.048625  327.0   \n",
       "         12th           -            -              -         -      -   \n",
       "         13th           -            -              -         -      -   \n",
       "         14th       0.018         16.0         3590.0  0.012921  344.0   \n",
       "         15th       0.020         16.0       134754.0  0.010206  176.0   \n",
       "         16th           -            -              -         -      -   \n",
       "         17th           -            -              -         -      -   \n",
       "         18th           -            -              -         -      -   \n",
       "\n",
       "                     Runtime  \n",
       "Country  Phase                \n",
       "Norway   0th    0 min 10 sec  \n",
       "         1st    0 min 10 sec  \n",
       "         2nd    0 min 10 sec  \n",
       "         3rd    0 min 10 sec  \n",
       "         4th    0 min 10 sec  \n",
       "         5th    0 min 10 sec  \n",
       "         6th    0 min 10 sec  \n",
       "         7th    0 min 10 sec  \n",
       "         8th    0 min 10 sec  \n",
       "         9th    0 min 10 sec  \n",
       "         10th   0 min 10 sec  \n",
       "         11th   0 min 10 sec  \n",
       "         12th   0 min 10 sec  \n",
       "         13th   0 min 10 sec  \n",
       "         14th   0 min 10 sec  \n",
       "         15th   0 min 10 sec  \n",
       "         16th   0 min 10 sec  \n",
       "         17th   0 min 10 sec  \n",
       "         18th   0 min 10 sec  \n",
       "Germany  0th    0 min 10 sec  \n",
       "         1st    0 min 10 sec  \n",
       "         2nd    0 min 10 sec  \n",
       "         3rd    0 min 10 sec  \n",
       "         4th    0 min 10 sec  \n",
       "         5th    0 min 10 sec  \n",
       "         6th    0 min 10 sec  \n",
       "         7th               -  \n",
       "         8th    0 min 10 sec  \n",
       "         9th    0 min 10 sec  \n",
       "         10th   0 min 10 sec  \n",
       "         11th   0 min 10 sec  \n",
       "         12th   0 min 10 sec  \n",
       "         13th   0 min 10 sec  \n",
       "         14th   0 min 10 sec  \n",
       "         15th              -  \n",
       "         16th              -  \n",
       "         17th              -  \n",
       "         18th              -  \n",
       "Portugal 0th    0 min 10 sec  \n",
       "         1st    0 min 10 sec  \n",
       "         2nd    0 min 10 sec  \n",
       "         3rd    0 min 10 sec  \n",
       "         4th    0 min 10 sec  \n",
       "         5th    0 min 10 sec  \n",
       "         6th    0 min 10 sec  \n",
       "         7th    0 min 10 sec  \n",
       "         8th    0 min 10 sec  \n",
       "         9th               -  \n",
       "         10th   0 min 10 sec  \n",
       "         11th   0 min 10 sec  \n",
       "         12th              -  \n",
       "         13th              -  \n",
       "         14th   0 min 10 sec  \n",
       "         15th   0 min 10 sec  \n",
       "         16th              -  \n",
       "         17th              -  \n",
       "         18th              -  "
      ]
     },
     "execution_count": 12,
     "metadata": {},
     "output_type": "execute_result"
    }
   ],
   "source": [
    "# Show summary\n",
    "analyser.summary(countries=countries_show)"
   ]
  },
  {
   "cell_type": "markdown",
   "metadata": {},
   "source": [
    "## Compare the history of parameters\n",
    "Here, compare the history of parameter values if countries."
   ]
  },
  {
   "cell_type": "code",
   "execution_count": 13,
   "metadata": {
    "collapsed": false
   },
   "outputs": [
    {
     "data": {
      "text/html": [
       "<div>\n",
       "<style scoped>\n",
       "    .dataframe tbody tr th:only-of-type {\n",
       "        vertical-align: middle;\n",
       "    }\n",
       "\n",
       "    .dataframe tbody tr th {\n",
       "        vertical-align: top;\n",
       "    }\n",
       "\n",
       "    .dataframe thead th {\n",
       "        text-align: right;\n",
       "    }\n",
       "</style>\n",
       "<table border=\"1\" class=\"dataframe\">\n",
       "  <thead>\n",
       "    <tr style=\"text-align: right;\">\n",
       "      <th></th>\n",
       "      <th>Date</th>\n",
       "      <th>Country</th>\n",
       "      <th>theta</th>\n",
       "      <th>kappa</th>\n",
       "      <th>rho</th>\n",
       "      <th>sigma</th>\n",
       "      <th>alpha1 [-]</th>\n",
       "      <th>1/alpha2 [day]</th>\n",
       "      <th>1/beta [day]</th>\n",
       "      <th>1/gamma [day]</th>\n",
       "      <th>...</th>\n",
       "      <th>Cancel_events</th>\n",
       "      <th>Gatherings_restrictions</th>\n",
       "      <th>Transport_closing</th>\n",
       "      <th>Stay_home_restrictions</th>\n",
       "      <th>Internal_movement_restrictions</th>\n",
       "      <th>International_movement_restrictions</th>\n",
       "      <th>Information_campaigns</th>\n",
       "      <th>Testing_policy</th>\n",
       "      <th>Contact_tracing</th>\n",
       "      <th>Stringency_index</th>\n",
       "    </tr>\n",
       "  </thead>\n",
       "  <tbody>\n",
       "    <tr>\n",
       "      <th>0</th>\n",
       "      <td>2020-02-17</td>\n",
       "      <td>United Kingdom</td>\n",
       "      <td>0.03515</td>\n",
       "      <td>0.000005</td>\n",
       "      <td>0.050289</td>\n",
       "      <td>0.001579</td>\n",
       "      <td>0.035</td>\n",
       "      <td>54707</td>\n",
       "      <td>4</td>\n",
       "      <td>158</td>\n",
       "      <td>...</td>\n",
       "      <td>0</td>\n",
       "      <td>0</td>\n",
       "      <td>0</td>\n",
       "      <td>0</td>\n",
       "      <td>0</td>\n",
       "      <td>0</td>\n",
       "      <td>2</td>\n",
       "      <td>1</td>\n",
       "      <td>2</td>\n",
       "      <td>11.11</td>\n",
       "    </tr>\n",
       "    <tr>\n",
       "      <th>1</th>\n",
       "      <td>2020-02-17</td>\n",
       "      <td>United Kingdom</td>\n",
       "      <td>0.03515</td>\n",
       "      <td>0.000005</td>\n",
       "      <td>0.050289</td>\n",
       "      <td>0.001579</td>\n",
       "      <td>0.035</td>\n",
       "      <td>54707</td>\n",
       "      <td>4</td>\n",
       "      <td>158</td>\n",
       "      <td>...</td>\n",
       "      <td>0</td>\n",
       "      <td>0</td>\n",
       "      <td>0</td>\n",
       "      <td>0</td>\n",
       "      <td>0</td>\n",
       "      <td>0</td>\n",
       "      <td>2</td>\n",
       "      <td>1</td>\n",
       "      <td>2</td>\n",
       "      <td>11.11</td>\n",
       "    </tr>\n",
       "    <tr>\n",
       "      <th>2</th>\n",
       "      <td>2020-02-17</td>\n",
       "      <td>United Kingdom</td>\n",
       "      <td>0.03515</td>\n",
       "      <td>0.000005</td>\n",
       "      <td>0.050289</td>\n",
       "      <td>0.001579</td>\n",
       "      <td>0.035</td>\n",
       "      <td>54707</td>\n",
       "      <td>4</td>\n",
       "      <td>158</td>\n",
       "      <td>...</td>\n",
       "      <td>0</td>\n",
       "      <td>0</td>\n",
       "      <td>0</td>\n",
       "      <td>0</td>\n",
       "      <td>0</td>\n",
       "      <td>0</td>\n",
       "      <td>0</td>\n",
       "      <td>0</td>\n",
       "      <td>0</td>\n",
       "      <td>0.00</td>\n",
       "    </tr>\n",
       "    <tr>\n",
       "      <th>3</th>\n",
       "      <td>2020-02-17</td>\n",
       "      <td>United Kingdom</td>\n",
       "      <td>0.03515</td>\n",
       "      <td>0.000005</td>\n",
       "      <td>0.050289</td>\n",
       "      <td>0.001579</td>\n",
       "      <td>0.035</td>\n",
       "      <td>54707</td>\n",
       "      <td>4</td>\n",
       "      <td>158</td>\n",
       "      <td>...</td>\n",
       "      <td>0</td>\n",
       "      <td>0</td>\n",
       "      <td>0</td>\n",
       "      <td>0</td>\n",
       "      <td>0</td>\n",
       "      <td>0</td>\n",
       "      <td>0</td>\n",
       "      <td>0</td>\n",
       "      <td>0</td>\n",
       "      <td>0.00</td>\n",
       "    </tr>\n",
       "    <tr>\n",
       "      <th>4</th>\n",
       "      <td>2020-02-17</td>\n",
       "      <td>United Kingdom</td>\n",
       "      <td>0.03515</td>\n",
       "      <td>0.000005</td>\n",
       "      <td>0.050289</td>\n",
       "      <td>0.001579</td>\n",
       "      <td>0.035</td>\n",
       "      <td>54707</td>\n",
       "      <td>4</td>\n",
       "      <td>158</td>\n",
       "      <td>...</td>\n",
       "      <td>0</td>\n",
       "      <td>0</td>\n",
       "      <td>0</td>\n",
       "      <td>0</td>\n",
       "      <td>0</td>\n",
       "      <td>0</td>\n",
       "      <td>2</td>\n",
       "      <td>1</td>\n",
       "      <td>2</td>\n",
       "      <td>11.11</td>\n",
       "    </tr>\n",
       "  </tbody>\n",
       "</table>\n",
       "<p>5 rows × 23 columns</p>\n",
       "</div>"
      ],
      "text/plain": [
       "        Date         Country    theta     kappa       rho     sigma  \\\n",
       "0 2020-02-17  United Kingdom  0.03515  0.000005  0.050289  0.001579   \n",
       "1 2020-02-17  United Kingdom  0.03515  0.000005  0.050289  0.001579   \n",
       "2 2020-02-17  United Kingdom  0.03515  0.000005  0.050289  0.001579   \n",
       "3 2020-02-17  United Kingdom  0.03515  0.000005  0.050289  0.001579   \n",
       "4 2020-02-17  United Kingdom  0.03515  0.000005  0.050289  0.001579   \n",
       "\n",
       "  alpha1 [-] 1/alpha2 [day] 1/beta [day] 1/gamma [day]  ... Cancel_events  \\\n",
       "0      0.035          54707            4           158  ...             0   \n",
       "1      0.035          54707            4           158  ...             0   \n",
       "2      0.035          54707            4           158  ...             0   \n",
       "3      0.035          54707            4           158  ...             0   \n",
       "4      0.035          54707            4           158  ...             0   \n",
       "\n",
       "   Gatherings_restrictions  Transport_closing  Stay_home_restrictions  \\\n",
       "0                        0                  0                       0   \n",
       "1                        0                  0                       0   \n",
       "2                        0                  0                       0   \n",
       "3                        0                  0                       0   \n",
       "4                        0                  0                       0   \n",
       "\n",
       "   Internal_movement_restrictions  International_movement_restrictions  \\\n",
       "0                               0                                    0   \n",
       "1                               0                                    0   \n",
       "2                               0                                    0   \n",
       "3                               0                                    0   \n",
       "4                               0                                    0   \n",
       "\n",
       "   Information_campaigns  Testing_policy  Contact_tracing  Stringency_index  \n",
       "0                      2               1                2             11.11  \n",
       "1                      2               1                2             11.11  \n",
       "2                      0               0                0              0.00  \n",
       "3                      0               0                0              0.00  \n",
       "4                      2               1                2             11.11  \n",
       "\n",
       "[5 rows x 23 columns]"
      ]
     },
     "execution_count": 13,
     "metadata": {},
     "output_type": "execute_result"
    }
   ],
   "source": [
    "# All parameter/day parameter/Rt/OxCGRT\n",
    "analyser.track().head()"
   ]
  },
  {
   "cell_type": "markdown",
   "metadata": {},
   "source": [
    "### $Rt$: Reprodcution number $\\mathrm{[-]}$"
   ]
  },
  {
   "cell_type": "code",
   "execution_count": 14,
   "metadata": {
    "collapsed": false
   },
   "outputs": [
    {
     "data": {
      "image/png": "[encoded data removed]",
      "text/plain": [
       "<Figure size 648x432 with 1 Axes>"
      ]
     },
     "metadata": {},
     "output_type": "display_data"
    },
    {
     "data": {
      "text/html": [
       "<div>\n",
       "<style scoped>\n",
       "    .dataframe tbody tr th:only-of-type {\n",
       "        vertical-align: middle;\n",
       "    }\n",
       "\n",
       "    .dataframe tbody tr th {\n",
       "        vertical-align: top;\n",
       "    }\n",
       "\n",
       "    .dataframe thead th {\n",
       "        text-align: right;\n",
       "    }\n",
       "</style>\n",
       "<table border=\"1\" class=\"dataframe\">\n",
       "  <thead>\n",
       "    <tr style=\"text-align: right;\">\n",
       "      <th>Country</th>\n",
       "      <th>Austria</th>\n",
       "      <th>Canada</th>\n",
       "      <th>Czech Republic</th>\n",
       "      <th>Denmark</th>\n",
       "      <th>Germany</th>\n",
       "      <th>Italy</th>\n",
       "      <th>Latvia</th>\n",
       "      <th>Malaysia</th>\n",
       "      <th>Netherlands</th>\n",
       "      <th>Norway</th>\n",
       "      <th>Portugal</th>\n",
       "      <th>Slovakia</th>\n",
       "      <th>Sweden</th>\n",
       "      <th>Switzerland</th>\n",
       "      <th>United Kingdom</th>\n",
       "    </tr>\n",
       "    <tr>\n",
       "      <th>Date</th>\n",
       "      <th></th>\n",
       "      <th></th>\n",
       "      <th></th>\n",
       "      <th></th>\n",
       "      <th></th>\n",
       "      <th></th>\n",
       "      <th></th>\n",
       "      <th></th>\n",
       "      <th></th>\n",
       "      <th></th>\n",
       "      <th></th>\n",
       "      <th></th>\n",
       "      <th></th>\n",
       "      <th></th>\n",
       "      <th></th>\n",
       "    </tr>\n",
       "  </thead>\n",
       "  <tbody>\n",
       "    <tr>\n",
       "      <th>2021-01-09</th>\n",
       "      <td>0.71</td>\n",
       "      <td>0.87</td>\n",
       "      <td>1.87</td>\n",
       "      <td>0.67</td>\n",
       "      <td>1.24</td>\n",
       "      <td>0.78</td>\n",
       "      <td>0.88</td>\n",
       "      <td>1.55</td>\n",
       "      <td>0.7</td>\n",
       "      <td>2.76</td>\n",
       "      <td>1.08</td>\n",
       "      <td>0.69</td>\n",
       "      <td>4.42</td>\n",
       "      <td>1.5</td>\n",
       "      <td>1.95</td>\n",
       "    </tr>\n",
       "    <tr>\n",
       "      <th>2021-01-10</th>\n",
       "      <td>0.71</td>\n",
       "      <td>0.87</td>\n",
       "      <td>1.87</td>\n",
       "      <td>0.67</td>\n",
       "      <td>1.24</td>\n",
       "      <td>0.78</td>\n",
       "      <td>0.88</td>\n",
       "      <td>1.55</td>\n",
       "      <td>0.7</td>\n",
       "      <td>2.76</td>\n",
       "      <td>1.08</td>\n",
       "      <td>0.69</td>\n",
       "      <td>4.42</td>\n",
       "      <td>1.5</td>\n",
       "      <td>1.95</td>\n",
       "    </tr>\n",
       "    <tr>\n",
       "      <th>2021-01-11</th>\n",
       "      <td>0.71</td>\n",
       "      <td>0.87</td>\n",
       "      <td>1.87</td>\n",
       "      <td>0.67</td>\n",
       "      <td>1.24</td>\n",
       "      <td>0.78</td>\n",
       "      <td>0.88</td>\n",
       "      <td>1.55</td>\n",
       "      <td>0.7</td>\n",
       "      <td>2.76</td>\n",
       "      <td>1.08</td>\n",
       "      <td>0.69</td>\n",
       "      <td>4.42</td>\n",
       "      <td>1.5</td>\n",
       "      <td>1.95</td>\n",
       "    </tr>\n",
       "    <tr>\n",
       "      <th>2021-01-12</th>\n",
       "      <td>0.71</td>\n",
       "      <td>0.87</td>\n",
       "      <td>1.87</td>\n",
       "      <td>0.67</td>\n",
       "      <td>1.24</td>\n",
       "      <td>0.78</td>\n",
       "      <td>0.88</td>\n",
       "      <td>1.55</td>\n",
       "      <td>0.7</td>\n",
       "      <td>2.76</td>\n",
       "      <td>1.08</td>\n",
       "      <td>0.69</td>\n",
       "      <td>4.42</td>\n",
       "      <td>1.5</td>\n",
       "      <td>1.95</td>\n",
       "    </tr>\n",
       "    <tr>\n",
       "      <th>2021-01-13</th>\n",
       "      <td>0.71</td>\n",
       "      <td>0.87</td>\n",
       "      <td>1.87</td>\n",
       "      <td>0.67</td>\n",
       "      <td>1.24</td>\n",
       "      <td>0.78</td>\n",
       "      <td>0.88</td>\n",
       "      <td>1.55</td>\n",
       "      <td>0.7</td>\n",
       "      <td>2.76</td>\n",
       "      <td>1.08</td>\n",
       "      <td>0.69</td>\n",
       "      <td>4.42</td>\n",
       "      <td>1.5</td>\n",
       "      <td>1.95</td>\n",
       "    </tr>\n",
       "  </tbody>\n",
       "</table>\n",
       "</div>"
      ],
      "text/plain": [
       "Country     Austria  Canada  Czech Republic  Denmark  Germany  Italy  Latvia  \\\n",
       "Date                                                                           \n",
       "2021-01-09     0.71    0.87            1.87     0.67     1.24   0.78    0.88   \n",
       "2021-01-10     0.71    0.87            1.87     0.67     1.24   0.78    0.88   \n",
       "2021-01-11     0.71    0.87            1.87     0.67     1.24   0.78    0.88   \n",
       "2021-01-12     0.71    0.87            1.87     0.67     1.24   0.78    0.88   \n",
       "2021-01-13     0.71    0.87            1.87     0.67     1.24   0.78    0.88   \n",
       "\n",
       "Country     Malaysia  Netherlands  Norway  Portugal  Slovakia  Sweden  \\\n",
       "Date                                                                    \n",
       "2021-01-09      1.55          0.7    2.76      1.08      0.69    4.42   \n",
       "2021-01-10      1.55          0.7    2.76      1.08      0.69    4.42   \n",
       "2021-01-11      1.55          0.7    2.76      1.08      0.69    4.42   \n",
       "2021-01-12      1.55          0.7    2.76      1.08      0.69    4.42   \n",
       "2021-01-13      1.55          0.7    2.76      1.08      0.69    4.42   \n",
       "\n",
       "Country     Switzerland  United Kingdom  \n",
       "Date                                     \n",
       "2021-01-09          1.5            1.95  \n",
       "2021-01-10          1.5            1.95  \n",
       "2021-01-11          1.5            1.95  \n",
       "2021-01-12          1.5            1.95  \n",
       "2021-01-13          1.5            1.95  "
      ]
     },
     "execution_count": 14,
     "metadata": {},
     "output_type": "execute_result"
    }
   ],
   "source": [
    "analyser.history(\"Rt\", roll_window=None).tail()"
   ]
  },
  {
   "cell_type": "markdown",
   "metadata": {},
   "source": [
    "### $\\rho$: Effective contact rate $\\mathrm{[-]}$"
   ]
  },
  {
   "cell_type": "code",
   "execution_count": 15,
   "metadata": {
    "collapsed": false
   },
   "outputs": [
    {
     "data": {
      "image/png": "[encoded data removed]",
      "text/plain": [
       "<Figure size 648x432 with 1 Axes>"
      ]
     },
     "metadata": {},
     "output_type": "display_data"
    },
    {
     "data": {
      "text/html": [
       "<div>\n",
       "<style scoped>\n",
       "    .dataframe tbody tr th:only-of-type {\n",
       "        vertical-align: middle;\n",
       "    }\n",
       "\n",
       "    .dataframe tbody tr th {\n",
       "        vertical-align: top;\n",
       "    }\n",
       "\n",
       "    .dataframe thead th {\n",
       "        text-align: right;\n",
       "    }\n",
       "</style>\n",
       "<table border=\"1\" class=\"dataframe\">\n",
       "  <thead>\n",
       "    <tr style=\"text-align: right;\">\n",
       "      <th>Country</th>\n",
       "      <th>Austria</th>\n",
       "      <th>Canada</th>\n",
       "      <th>Czech Republic</th>\n",
       "      <th>Denmark</th>\n",
       "      <th>Germany</th>\n",
       "      <th>Italy</th>\n",
       "      <th>Latvia</th>\n",
       "      <th>Malaysia</th>\n",
       "      <th>Netherlands</th>\n",
       "      <th>Norway</th>\n",
       "      <th>Portugal</th>\n",
       "      <th>Slovakia</th>\n",
       "      <th>Sweden</th>\n",
       "      <th>Switzerland</th>\n",
       "      <th>United Kingdom</th>\n",
       "    </tr>\n",
       "    <tr>\n",
       "      <th>Date</th>\n",
       "      <th></th>\n",
       "      <th></th>\n",
       "      <th></th>\n",
       "      <th></th>\n",
       "      <th></th>\n",
       "      <th></th>\n",
       "      <th></th>\n",
       "      <th></th>\n",
       "      <th></th>\n",
       "      <th></th>\n",
       "      <th></th>\n",
       "      <th></th>\n",
       "      <th></th>\n",
       "      <th></th>\n",
       "      <th></th>\n",
       "    </tr>\n",
       "  </thead>\n",
       "  <tbody>\n",
       "    <tr>\n",
       "      <th>2021-01-09</th>\n",
       "      <td>0.017453</td>\n",
       "      <td>0.022474</td>\n",
       "      <td>0.021314</td>\n",
       "      <td>0.017438</td>\n",
       "      <td>0.019171</td>\n",
       "      <td>0.007387</td>\n",
       "      <td>0.013847</td>\n",
       "      <td>0.018454</td>\n",
       "      <td>0.012633</td>\n",
       "      <td>0.003694</td>\n",
       "      <td>0.014882</td>\n",
       "      <td>0.013815</td>\n",
       "      <td>0.029556</td>\n",
       "      <td>0.003869</td>\n",
       "      <td>0.021053</td>\n",
       "    </tr>\n",
       "    <tr>\n",
       "      <th>2021-01-10</th>\n",
       "      <td>0.017453</td>\n",
       "      <td>0.022474</td>\n",
       "      <td>0.021314</td>\n",
       "      <td>0.017438</td>\n",
       "      <td>0.019171</td>\n",
       "      <td>0.007387</td>\n",
       "      <td>0.013847</td>\n",
       "      <td>0.018454</td>\n",
       "      <td>0.012633</td>\n",
       "      <td>0.003694</td>\n",
       "      <td>0.014882</td>\n",
       "      <td>0.013815</td>\n",
       "      <td>0.029556</td>\n",
       "      <td>0.003869</td>\n",
       "      <td>0.021053</td>\n",
       "    </tr>\n",
       "    <tr>\n",
       "      <th>2021-01-11</th>\n",
       "      <td>0.017453</td>\n",
       "      <td>0.022474</td>\n",
       "      <td>0.021314</td>\n",
       "      <td>0.017438</td>\n",
       "      <td>0.019171</td>\n",
       "      <td>0.007387</td>\n",
       "      <td>0.013847</td>\n",
       "      <td>0.018454</td>\n",
       "      <td>0.012633</td>\n",
       "      <td>0.003694</td>\n",
       "      <td>0.014882</td>\n",
       "      <td>0.013815</td>\n",
       "      <td>0.029556</td>\n",
       "      <td>0.003869</td>\n",
       "      <td>0.021053</td>\n",
       "    </tr>\n",
       "    <tr>\n",
       "      <th>2021-01-12</th>\n",
       "      <td>0.017453</td>\n",
       "      <td>0.022474</td>\n",
       "      <td>0.021314</td>\n",
       "      <td>0.017438</td>\n",
       "      <td>0.019171</td>\n",
       "      <td>0.007387</td>\n",
       "      <td>0.013847</td>\n",
       "      <td>0.018454</td>\n",
       "      <td>0.012633</td>\n",
       "      <td>0.003694</td>\n",
       "      <td>0.014882</td>\n",
       "      <td>0.013815</td>\n",
       "      <td>0.029556</td>\n",
       "      <td>0.003869</td>\n",
       "      <td>0.021053</td>\n",
       "    </tr>\n",
       "    <tr>\n",
       "      <th>2021-01-13</th>\n",
       "      <td>0.017453</td>\n",
       "      <td>0.022474</td>\n",
       "      <td>0.021314</td>\n",
       "      <td>0.017438</td>\n",
       "      <td>0.019171</td>\n",
       "      <td>0.007387</td>\n",
       "      <td>0.013847</td>\n",
       "      <td>0.018454</td>\n",
       "      <td>0.012633</td>\n",
       "      <td>0.003694</td>\n",
       "      <td>0.014882</td>\n",
       "      <td>0.013815</td>\n",
       "      <td>0.029556</td>\n",
       "      <td>0.003869</td>\n",
       "      <td>0.021053</td>\n",
       "    </tr>\n",
       "  </tbody>\n",
       "</table>\n",
       "</div>"
      ],
      "text/plain": [
       "Country      Austria    Canada  Czech Republic   Denmark   Germany     Italy  \\\n",
       "Date                                                                           \n",
       "2021-01-09  0.017453  0.022474        0.021314  0.017438  0.019171  0.007387   \n",
       "2021-01-10  0.017453  0.022474        0.021314  0.017438  0.019171  0.007387   \n",
       "2021-01-11  0.017453  0.022474        0.021314  0.017438  0.019171  0.007387   \n",
       "2021-01-12  0.017453  0.022474        0.021314  0.017438  0.019171  0.007387   \n",
       "2021-01-13  0.017453  0.022474        0.021314  0.017438  0.019171  0.007387   \n",
       "\n",
       "Country       Latvia  Malaysia  Netherlands    Norway  Portugal  Slovakia  \\\n",
       "Date                                                                        \n",
       "2021-01-09  0.013847  0.018454     0.012633  0.003694  0.014882  0.013815   \n",
       "2021-01-10  0.013847  0.018454     0.012633  0.003694  0.014882  0.013815   \n",
       "2021-01-11  0.013847  0.018454     0.012633  0.003694  0.014882  0.013815   \n",
       "2021-01-12  0.013847  0.018454     0.012633  0.003694  0.014882  0.013815   \n",
       "2021-01-13  0.013847  0.018454     0.012633  0.003694  0.014882  0.013815   \n",
       "\n",
       "Country       Sweden  Switzerland  United Kingdom  \n",
       "Date                                               \n",
       "2021-01-09  0.029556     0.003869        0.021053  \n",
       "2021-01-10  0.029556     0.003869        0.021053  \n",
       "2021-01-11  0.029556     0.003869        0.021053  \n",
       "2021-01-12  0.029556     0.003869        0.021053  \n",
       "2021-01-13  0.029556     0.003869        0.021053  "
      ]
     },
     "execution_count": 15,
     "metadata": {},
     "output_type": "execute_result"
    }
   ],
   "source": [
    "analyser.history(\"rho\", roll_window=None).tail()"
   ]
  },
  {
   "cell_type": "markdown",
   "metadata": {},
   "source": [
    "### $\\sigma$: Recovery rate $\\mathrm{[-]}$"
   ]
  },
  {
   "cell_type": "code",
   "execution_count": 16,
   "metadata": {
    "collapsed": false
   },
   "outputs": [
    {
     "data": {
      "image/png": "[encoded data removed]",
      "text/plain": [
       "<Figure size 648x432 with 1 Axes>"
      ]
     },
     "metadata": {},
     "output_type": "display_data"
    },
    {
     "data": {
      "text/html": [
       "<div>\n",
       "<style scoped>\n",
       "    .dataframe tbody tr th:only-of-type {\n",
       "        vertical-align: middle;\n",
       "    }\n",
       "\n",
       "    .dataframe tbody tr th {\n",
       "        vertical-align: top;\n",
       "    }\n",
       "\n",
       "    .dataframe thead th {\n",
       "        text-align: right;\n",
       "    }\n",
       "</style>\n",
       "<table border=\"1\" class=\"dataframe\">\n",
       "  <thead>\n",
       "    <tr style=\"text-align: right;\">\n",
       "      <th>Country</th>\n",
       "      <th>Austria</th>\n",
       "      <th>Canada</th>\n",
       "      <th>Czech Republic</th>\n",
       "      <th>Denmark</th>\n",
       "      <th>Germany</th>\n",
       "      <th>Italy</th>\n",
       "      <th>Latvia</th>\n",
       "      <th>Malaysia</th>\n",
       "      <th>Netherlands</th>\n",
       "      <th>Norway</th>\n",
       "      <th>Portugal</th>\n",
       "      <th>Slovakia</th>\n",
       "      <th>Sweden</th>\n",
       "      <th>Switzerland</th>\n",
       "      <th>United Kingdom</th>\n",
       "    </tr>\n",
       "    <tr>\n",
       "      <th>Date</th>\n",
       "      <th></th>\n",
       "      <th></th>\n",
       "      <th></th>\n",
       "      <th></th>\n",
       "      <th></th>\n",
       "      <th></th>\n",
       "      <th></th>\n",
       "      <th></th>\n",
       "      <th></th>\n",
       "      <th></th>\n",
       "      <th></th>\n",
       "      <th></th>\n",
       "      <th></th>\n",
       "      <th></th>\n",
       "      <th></th>\n",
       "    </tr>\n",
       "  </thead>\n",
       "  <tbody>\n",
       "    <tr>\n",
       "      <th>2021-01-09</th>\n",
       "      <td>0.023988</td>\n",
       "      <td>0.025305</td>\n",
       "      <td>0.010992</td>\n",
       "      <td>0.02565</td>\n",
       "      <td>0.014884</td>\n",
       "      <td>0.009261</td>\n",
       "      <td>0.015439</td>\n",
       "      <td>0.011829</td>\n",
       "      <td>0.017949</td>\n",
       "      <td>0.00127</td>\n",
       "      <td>0.013492</td>\n",
       "      <td>0.019733</td>\n",
       "      <td>0.006607</td>\n",
       "      <td>0.001801</td>\n",
       "      <td>0.010447</td>\n",
       "    </tr>\n",
       "    <tr>\n",
       "      <th>2021-01-10</th>\n",
       "      <td>0.023988</td>\n",
       "      <td>0.025305</td>\n",
       "      <td>0.010992</td>\n",
       "      <td>0.02565</td>\n",
       "      <td>0.014884</td>\n",
       "      <td>0.009261</td>\n",
       "      <td>0.015439</td>\n",
       "      <td>0.011829</td>\n",
       "      <td>0.017949</td>\n",
       "      <td>0.00127</td>\n",
       "      <td>0.013492</td>\n",
       "      <td>0.019733</td>\n",
       "      <td>0.006607</td>\n",
       "      <td>0.001801</td>\n",
       "      <td>0.010447</td>\n",
       "    </tr>\n",
       "    <tr>\n",
       "      <th>2021-01-11</th>\n",
       "      <td>0.023988</td>\n",
       "      <td>0.025305</td>\n",
       "      <td>0.010992</td>\n",
       "      <td>0.02565</td>\n",
       "      <td>0.014884</td>\n",
       "      <td>0.009261</td>\n",
       "      <td>0.015439</td>\n",
       "      <td>0.011829</td>\n",
       "      <td>0.017949</td>\n",
       "      <td>0.00127</td>\n",
       "      <td>0.013492</td>\n",
       "      <td>0.019733</td>\n",
       "      <td>0.006607</td>\n",
       "      <td>0.001801</td>\n",
       "      <td>0.010447</td>\n",
       "    </tr>\n",
       "    <tr>\n",
       "      <th>2021-01-12</th>\n",
       "      <td>0.023988</td>\n",
       "      <td>0.025305</td>\n",
       "      <td>0.010992</td>\n",
       "      <td>0.02565</td>\n",
       "      <td>0.014884</td>\n",
       "      <td>0.009261</td>\n",
       "      <td>0.015439</td>\n",
       "      <td>0.011829</td>\n",
       "      <td>0.017949</td>\n",
       "      <td>0.00127</td>\n",
       "      <td>0.013492</td>\n",
       "      <td>0.019733</td>\n",
       "      <td>0.006607</td>\n",
       "      <td>0.001801</td>\n",
       "      <td>0.010447</td>\n",
       "    </tr>\n",
       "    <tr>\n",
       "      <th>2021-01-13</th>\n",
       "      <td>0.023988</td>\n",
       "      <td>0.025305</td>\n",
       "      <td>0.010992</td>\n",
       "      <td>0.02565</td>\n",
       "      <td>0.014884</td>\n",
       "      <td>0.009261</td>\n",
       "      <td>0.015439</td>\n",
       "      <td>0.011829</td>\n",
       "      <td>0.017949</td>\n",
       "      <td>0.00127</td>\n",
       "      <td>0.013492</td>\n",
       "      <td>0.019733</td>\n",
       "      <td>0.006607</td>\n",
       "      <td>0.001801</td>\n",
       "      <td>0.010447</td>\n",
       "    </tr>\n",
       "  </tbody>\n",
       "</table>\n",
       "</div>"
      ],
      "text/plain": [
       "Country      Austria    Canada  Czech Republic  Denmark   Germany     Italy  \\\n",
       "Date                                                                          \n",
       "2021-01-09  0.023988  0.025305        0.010992  0.02565  0.014884  0.009261   \n",
       "2021-01-10  0.023988  0.025305        0.010992  0.02565  0.014884  0.009261   \n",
       "2021-01-11  0.023988  0.025305        0.010992  0.02565  0.014884  0.009261   \n",
       "2021-01-12  0.023988  0.025305        0.010992  0.02565  0.014884  0.009261   \n",
       "2021-01-13  0.023988  0.025305        0.010992  0.02565  0.014884  0.009261   \n",
       "\n",
       "Country       Latvia  Malaysia  Netherlands   Norway  Portugal  Slovakia  \\\n",
       "Date                                                                       \n",
       "2021-01-09  0.015439  0.011829     0.017949  0.00127  0.013492  0.019733   \n",
       "2021-01-10  0.015439  0.011829     0.017949  0.00127  0.013492  0.019733   \n",
       "2021-01-11  0.015439  0.011829     0.017949  0.00127  0.013492  0.019733   \n",
       "2021-01-12  0.015439  0.011829     0.017949  0.00127  0.013492  0.019733   \n",
       "2021-01-13  0.015439  0.011829     0.017949  0.00127  0.013492  0.019733   \n",
       "\n",
       "Country       Sweden  Switzerland  United Kingdom  \n",
       "Date                                               \n",
       "2021-01-09  0.006607     0.001801        0.010447  \n",
       "2021-01-10  0.006607     0.001801        0.010447  \n",
       "2021-01-11  0.006607     0.001801        0.010447  \n",
       "2021-01-12  0.006607     0.001801        0.010447  \n",
       "2021-01-13  0.006607     0.001801        0.010447  "
      ]
     },
     "execution_count": 16,
     "metadata": {},
     "output_type": "execute_result"
    }
   ],
   "source": [
    "analyser.history(\"sigma\", roll_window=None).tail()"
   ]
  },
  {
   "cell_type": "markdown",
   "metadata": {},
   "source": [
    "### $\\kappa$: Mortality rate of infected cases $\\mathrm{[-]}$"
   ]
  },
  {
   "cell_type": "code",
   "execution_count": 17,
   "metadata": {
    "collapsed": false
   },
   "outputs": [
    {
     "data": {
      "image/png": "[encoded data removed]",
      "text/plain": [
       "<Figure size 648x432 with 1 Axes>"
      ]
     },
     "metadata": {},
     "output_type": "display_data"
    },
    {
     "data": {
      "text/html": [
       "<div>\n",
       "<style scoped>\n",
       "    .dataframe tbody tr th:only-of-type {\n",
       "        vertical-align: middle;\n",
       "    }\n",
       "\n",
       "    .dataframe tbody tr th {\n",
       "        vertical-align: top;\n",
       "    }\n",
       "\n",
       "    .dataframe thead th {\n",
       "        text-align: right;\n",
       "    }\n",
       "</style>\n",
       "<table border=\"1\" class=\"dataframe\">\n",
       "  <thead>\n",
       "    <tr style=\"text-align: right;\">\n",
       "      <th>Country</th>\n",
       "      <th>Austria</th>\n",
       "      <th>Canada</th>\n",
       "      <th>Czech Republic</th>\n",
       "      <th>Denmark</th>\n",
       "      <th>Germany</th>\n",
       "      <th>Italy</th>\n",
       "      <th>Latvia</th>\n",
       "      <th>Malaysia</th>\n",
       "      <th>Netherlands</th>\n",
       "      <th>Norway</th>\n",
       "      <th>Portugal</th>\n",
       "      <th>Slovakia</th>\n",
       "      <th>Sweden</th>\n",
       "      <th>Switzerland</th>\n",
       "      <th>United Kingdom</th>\n",
       "    </tr>\n",
       "    <tr>\n",
       "      <th>Date</th>\n",
       "      <th></th>\n",
       "      <th></th>\n",
       "      <th></th>\n",
       "      <th></th>\n",
       "      <th></th>\n",
       "      <th></th>\n",
       "      <th></th>\n",
       "      <th></th>\n",
       "      <th></th>\n",
       "      <th></th>\n",
       "      <th></th>\n",
       "      <th></th>\n",
       "      <th></th>\n",
       "      <th></th>\n",
       "      <th></th>\n",
       "    </tr>\n",
       "  </thead>\n",
       "  <tbody>\n",
       "    <tr>\n",
       "      <th>2021-01-09</th>\n",
       "      <td>0.000516</td>\n",
       "      <td>0.000309</td>\n",
       "      <td>0.000426</td>\n",
       "      <td>0.000014</td>\n",
       "      <td>0.000237</td>\n",
       "      <td>0.000059</td>\n",
       "      <td>0.000014</td>\n",
       "      <td>0.000071</td>\n",
       "      <td>0.000093</td>\n",
       "      <td>0.000059</td>\n",
       "      <td>0.000002</td>\n",
       "      <td>0.000152</td>\n",
       "      <td>0.000068</td>\n",
       "      <td>0.000014</td>\n",
       "      <td>0.000309</td>\n",
       "    </tr>\n",
       "    <tr>\n",
       "      <th>2021-01-10</th>\n",
       "      <td>0.000516</td>\n",
       "      <td>0.000309</td>\n",
       "      <td>0.000426</td>\n",
       "      <td>0.000014</td>\n",
       "      <td>0.000237</td>\n",
       "      <td>0.000059</td>\n",
       "      <td>0.000014</td>\n",
       "      <td>0.000071</td>\n",
       "      <td>0.000093</td>\n",
       "      <td>0.000059</td>\n",
       "      <td>0.000002</td>\n",
       "      <td>0.000152</td>\n",
       "      <td>0.000068</td>\n",
       "      <td>0.000014</td>\n",
       "      <td>0.000309</td>\n",
       "    </tr>\n",
       "    <tr>\n",
       "      <th>2021-01-11</th>\n",
       "      <td>0.000516</td>\n",
       "      <td>0.000309</td>\n",
       "      <td>0.000426</td>\n",
       "      <td>0.000014</td>\n",
       "      <td>0.000237</td>\n",
       "      <td>0.000059</td>\n",
       "      <td>0.000014</td>\n",
       "      <td>0.000071</td>\n",
       "      <td>0.000093</td>\n",
       "      <td>0.000059</td>\n",
       "      <td>0.000002</td>\n",
       "      <td>0.000152</td>\n",
       "      <td>0.000068</td>\n",
       "      <td>0.000014</td>\n",
       "      <td>0.000309</td>\n",
       "    </tr>\n",
       "    <tr>\n",
       "      <th>2021-01-12</th>\n",
       "      <td>0.000516</td>\n",
       "      <td>0.000309</td>\n",
       "      <td>0.000426</td>\n",
       "      <td>0.000014</td>\n",
       "      <td>0.000237</td>\n",
       "      <td>0.000059</td>\n",
       "      <td>0.000014</td>\n",
       "      <td>0.000071</td>\n",
       "      <td>0.000093</td>\n",
       "      <td>0.000059</td>\n",
       "      <td>0.000002</td>\n",
       "      <td>0.000152</td>\n",
       "      <td>0.000068</td>\n",
       "      <td>0.000014</td>\n",
       "      <td>0.000309</td>\n",
       "    </tr>\n",
       "    <tr>\n",
       "      <th>2021-01-13</th>\n",
       "      <td>0.000516</td>\n",
       "      <td>0.000309</td>\n",
       "      <td>0.000426</td>\n",
       "      <td>0.000014</td>\n",
       "      <td>0.000237</td>\n",
       "      <td>0.000059</td>\n",
       "      <td>0.000014</td>\n",
       "      <td>0.000071</td>\n",
       "      <td>0.000093</td>\n",
       "      <td>0.000059</td>\n",
       "      <td>0.000002</td>\n",
       "      <td>0.000152</td>\n",
       "      <td>0.000068</td>\n",
       "      <td>0.000014</td>\n",
       "      <td>0.000309</td>\n",
       "    </tr>\n",
       "  </tbody>\n",
       "</table>\n",
       "</div>"
      ],
      "text/plain": [
       "Country      Austria    Canada  Czech Republic   Denmark   Germany     Italy  \\\n",
       "Date                                                                           \n",
       "2021-01-09  0.000516  0.000309        0.000426  0.000014  0.000237  0.000059   \n",
       "2021-01-10  0.000516  0.000309        0.000426  0.000014  0.000237  0.000059   \n",
       "2021-01-11  0.000516  0.000309        0.000426  0.000014  0.000237  0.000059   \n",
       "2021-01-12  0.000516  0.000309        0.000426  0.000014  0.000237  0.000059   \n",
       "2021-01-13  0.000516  0.000309        0.000426  0.000014  0.000237  0.000059   \n",
       "\n",
       "Country       Latvia  Malaysia  Netherlands    Norway  Portugal  Slovakia  \\\n",
       "Date                                                                        \n",
       "2021-01-09  0.000014  0.000071     0.000093  0.000059  0.000002  0.000152   \n",
       "2021-01-10  0.000014  0.000071     0.000093  0.000059  0.000002  0.000152   \n",
       "2021-01-11  0.000014  0.000071     0.000093  0.000059  0.000002  0.000152   \n",
       "2021-01-12  0.000014  0.000071     0.000093  0.000059  0.000002  0.000152   \n",
       "2021-01-13  0.000014  0.000071     0.000093  0.000059  0.000002  0.000152   \n",
       "\n",
       "Country       Sweden  Switzerland  United Kingdom  \n",
       "Date                                               \n",
       "2021-01-09  0.000068     0.000014        0.000309  \n",
       "2021-01-10  0.000068     0.000014        0.000309  \n",
       "2021-01-11  0.000068     0.000014        0.000309  \n",
       "2021-01-12  0.000068     0.000014        0.000309  \n",
       "2021-01-13  0.000068     0.000014        0.000309  "
      ]
     },
     "execution_count": 17,
     "metadata": {},
     "output_type": "execute_result"
    }
   ],
   "source": [
    "analyser.history(\"kappa\", roll_window=None).tail()"
   ]
  },
  {
   "cell_type": "markdown",
   "metadata": {},
   "source": [
    "### $\\theta$: Mortality rate of S$^\\ast$ cases $\\mathrm{[-]}$"
   ]
  },
  {
   "cell_type": "code",
   "execution_count": 18,
   "metadata": {
    "collapsed": false
   },
   "outputs": [
    {
     "data": {
      "image/png": "[encoded data removed]",
      "text/plain": [
       "<Figure size 648x432 with 1 Axes>"
      ]
     },
     "metadata": {},
     "output_type": "display_data"
    },
    {
     "data": {
      "text/html": [
       "<div>\n",
       "<style scoped>\n",
       "    .dataframe tbody tr th:only-of-type {\n",
       "        vertical-align: middle;\n",
       "    }\n",
       "\n",
       "    .dataframe tbody tr th {\n",
       "        vertical-align: top;\n",
       "    }\n",
       "\n",
       "    .dataframe thead th {\n",
       "        text-align: right;\n",
       "    }\n",
       "</style>\n",
       "<table border=\"1\" class=\"dataframe\">\n",
       "  <thead>\n",
       "    <tr style=\"text-align: right;\">\n",
       "      <th>Country</th>\n",
       "      <th>Austria</th>\n",
       "      <th>Canada</th>\n",
       "      <th>Czech Republic</th>\n",
       "      <th>Denmark</th>\n",
       "      <th>Germany</th>\n",
       "      <th>Italy</th>\n",
       "      <th>Latvia</th>\n",
       "      <th>Malaysia</th>\n",
       "      <th>Netherlands</th>\n",
       "      <th>Norway</th>\n",
       "      <th>Portugal</th>\n",
       "      <th>Slovakia</th>\n",
       "      <th>Sweden</th>\n",
       "      <th>Switzerland</th>\n",
       "      <th>United Kingdom</th>\n",
       "    </tr>\n",
       "    <tr>\n",
       "      <th>Date</th>\n",
       "      <th></th>\n",
       "      <th></th>\n",
       "      <th></th>\n",
       "      <th></th>\n",
       "      <th></th>\n",
       "      <th></th>\n",
       "      <th></th>\n",
       "      <th></th>\n",
       "      <th></th>\n",
       "      <th></th>\n",
       "      <th></th>\n",
       "      <th></th>\n",
       "      <th></th>\n",
       "      <th></th>\n",
       "      <th></th>\n",
       "    </tr>\n",
       "  </thead>\n",
       "  <tbody>\n",
       "    <tr>\n",
       "      <th>2021-01-09</th>\n",
       "      <td>0.004787</td>\n",
       "      <td>0.003232</td>\n",
       "      <td>0.00057</td>\n",
       "      <td>0.009616</td>\n",
       "      <td>0.020125</td>\n",
       "      <td>0.018999</td>\n",
       "      <td>0.020368</td>\n",
       "      <td>0.000898</td>\n",
       "      <td>0.001806</td>\n",
       "      <td>0.008964</td>\n",
       "      <td>0.019827</td>\n",
       "      <td>0.000066</td>\n",
       "      <td>0.000806</td>\n",
       "      <td>0.294099</td>\n",
       "      <td>0.003232</td>\n",
       "    </tr>\n",
       "    <tr>\n",
       "      <th>2021-01-10</th>\n",
       "      <td>0.004787</td>\n",
       "      <td>0.003232</td>\n",
       "      <td>0.00057</td>\n",
       "      <td>0.009616</td>\n",
       "      <td>0.020125</td>\n",
       "      <td>0.018999</td>\n",
       "      <td>0.020368</td>\n",
       "      <td>0.000898</td>\n",
       "      <td>0.001806</td>\n",
       "      <td>0.008964</td>\n",
       "      <td>0.019827</td>\n",
       "      <td>0.000066</td>\n",
       "      <td>0.000806</td>\n",
       "      <td>0.294099</td>\n",
       "      <td>0.003232</td>\n",
       "    </tr>\n",
       "    <tr>\n",
       "      <th>2021-01-11</th>\n",
       "      <td>0.004787</td>\n",
       "      <td>0.003232</td>\n",
       "      <td>0.00057</td>\n",
       "      <td>0.009616</td>\n",
       "      <td>0.020125</td>\n",
       "      <td>0.018999</td>\n",
       "      <td>0.020368</td>\n",
       "      <td>0.000898</td>\n",
       "      <td>0.001806</td>\n",
       "      <td>0.008964</td>\n",
       "      <td>0.019827</td>\n",
       "      <td>0.000066</td>\n",
       "      <td>0.000806</td>\n",
       "      <td>0.294099</td>\n",
       "      <td>0.003232</td>\n",
       "    </tr>\n",
       "    <tr>\n",
       "      <th>2021-01-12</th>\n",
       "      <td>0.004787</td>\n",
       "      <td>0.003232</td>\n",
       "      <td>0.00057</td>\n",
       "      <td>0.009616</td>\n",
       "      <td>0.020125</td>\n",
       "      <td>0.018999</td>\n",
       "      <td>0.020368</td>\n",
       "      <td>0.000898</td>\n",
       "      <td>0.001806</td>\n",
       "      <td>0.008964</td>\n",
       "      <td>0.019827</td>\n",
       "      <td>0.000066</td>\n",
       "      <td>0.000806</td>\n",
       "      <td>0.294099</td>\n",
       "      <td>0.003232</td>\n",
       "    </tr>\n",
       "    <tr>\n",
       "      <th>2021-01-13</th>\n",
       "      <td>0.004787</td>\n",
       "      <td>0.003232</td>\n",
       "      <td>0.00057</td>\n",
       "      <td>0.009616</td>\n",
       "      <td>0.020125</td>\n",
       "      <td>0.018999</td>\n",
       "      <td>0.020368</td>\n",
       "      <td>0.000898</td>\n",
       "      <td>0.001806</td>\n",
       "      <td>0.008964</td>\n",
       "      <td>0.019827</td>\n",
       "      <td>0.000066</td>\n",
       "      <td>0.000806</td>\n",
       "      <td>0.294099</td>\n",
       "      <td>0.003232</td>\n",
       "    </tr>\n",
       "  </tbody>\n",
       "</table>\n",
       "</div>"
      ],
      "text/plain": [
       "Country      Austria    Canada  Czech Republic   Denmark   Germany     Italy  \\\n",
       "Date                                                                           \n",
       "2021-01-09  0.004787  0.003232         0.00057  0.009616  0.020125  0.018999   \n",
       "2021-01-10  0.004787  0.003232         0.00057  0.009616  0.020125  0.018999   \n",
       "2021-01-11  0.004787  0.003232         0.00057  0.009616  0.020125  0.018999   \n",
       "2021-01-12  0.004787  0.003232         0.00057  0.009616  0.020125  0.018999   \n",
       "2021-01-13  0.004787  0.003232         0.00057  0.009616  0.020125  0.018999   \n",
       "\n",
       "Country       Latvia  Malaysia  Netherlands    Norway  Portugal  Slovakia  \\\n",
       "Date                                                                        \n",
       "2021-01-09  0.020368  0.000898     0.001806  0.008964  0.019827  0.000066   \n",
       "2021-01-10  0.020368  0.000898     0.001806  0.008964  0.019827  0.000066   \n",
       "2021-01-11  0.020368  0.000898     0.001806  0.008964  0.019827  0.000066   \n",
       "2021-01-12  0.020368  0.000898     0.001806  0.008964  0.019827  0.000066   \n",
       "2021-01-13  0.020368  0.000898     0.001806  0.008964  0.019827  0.000066   \n",
       "\n",
       "Country       Sweden  Switzerland  United Kingdom  \n",
       "Date                                               \n",
       "2021-01-09  0.000806     0.294099        0.003232  \n",
       "2021-01-10  0.000806     0.294099        0.003232  \n",
       "2021-01-11  0.000806     0.294099        0.003232  \n",
       "2021-01-12  0.000806     0.294099        0.003232  \n",
       "2021-01-13  0.000806     0.294099        0.003232  "
      ]
     },
     "execution_count": 18,
     "metadata": {},
     "output_type": "execute_result"
    }
   ],
   "source": [
    "analyser.history(\"theta\", roll_window=None).tail()"
   ]
  },
  {
   "cell_type": "markdown",
   "metadata": {},
   "source": [
    "## (Experimental): Relationship of OxCGRT index and parameter values\n",
    "Government responses will impact on parameter values of ODE models about 14 days later. Here, we will investigate on the relationship of [stringency index (from OxCGRT)](https://github.com/OxCGRT/covid-policy-tracker/blob/master/documentation/index_methodology.md) and reproduction number/model parameters.\n"
   ]
  },
  {
   "cell_type": "code",
   "execution_count": 19,
   "metadata": {
    "collapsed": false
   },
   "outputs": [],
   "source": [
    "%matplotlib inline\n",
    "from matplotlib import pyplot as plt\n",
    "import seaborn as sns\n",
    "import pandas as pd"
   ]
  },
  {
   "cell_type": "code",
   "execution_count": 20,
   "metadata": {
    "collapsed": false
   },
   "outputs": [
    {
     "name": "stdout",
     "output_type": "stream",
     "text": [
      "<class 'pandas.core.frame.DataFrame'>\n",
      "Int64Index: 93801 entries, 0 to 93996\n",
      "Data columns (total 19 columns):\n",
      " #   Column                               Non-Null Count  Dtype         \n",
      "---  ------                               --------------  -----         \n",
      " 0   Date                                 93801 non-null  datetime64[ns]\n",
      " 1   Country                              93801 non-null  object        \n",
      " 2   Rt                                   93801 non-null  float64       \n",
      " 3   theta                                93801 non-null  float64       \n",
      " 4   kappa                                93801 non-null  float64       \n",
      " 5   rho                                  93801 non-null  float64       \n",
      " 6   sigma                                93801 non-null  float64       \n",
      " 7   School_closing                       93801 non-null  int64         \n",
      " 8   Workplace_closing                    93801 non-null  int64         \n",
      " 9   Cancel_events                        93801 non-null  int64         \n",
      " 10  Gatherings_restrictions              93801 non-null  int64         \n",
      " 11  Transport_closing                    93801 non-null  int64         \n",
      " 12  Stay_home_restrictions               93801 non-null  int64         \n",
      " 13  Internal_movement_restrictions       93801 non-null  int64         \n",
      " 14  International_movement_restrictions  93801 non-null  int64         \n",
      " 15  Information_campaigns                93801 non-null  int64         \n",
      " 16  Testing_policy                       93801 non-null  int64         \n",
      " 17  Contact_tracing                      93801 non-null  int64         \n",
      " 18  Stringency_index                     93801 non-null  float64       \n",
      "dtypes: datetime64[ns](1), float64(6), int64(11), object(1)\n",
      "memory usage: 14.3+ MB\n"
     ]
    }
   ],
   "source": [
    "df = analyser.track()\n",
    "param_cols = [\"Rt\", *cs.SIRF.PARAMETERS]\n",
    "oxcgrt_cols = oxcgrt_data.OXCGRT_VARS[:]\n",
    "cols = param_cols + oxcgrt_cols\n",
    "delay = 14\n",
    "\n",
    "for col in param_cols:\n",
    "    df[col] = pd.to_numeric(df[col], errors=\"coerce\")\n",
    "    df[col] = df.groupby(\"Country\")[col].shift(0 - delay)\n",
    "\n",
    "df = df.dropna(how=\"any\")\n",
    "df = df.loc[:, [\"Date\", \"Country\", *cols]]\n",
    "track_df = df.copy()\n",
    "track_df.info()"
   ]
  },
  {
   "cell_type": "code",
   "execution_count": 21,
   "metadata": {
    "collapsed": false
   },
   "outputs": [
    {
     "data": {
      "text/html": [
       "<style  type=\"text/css\" >\n",
       "#T_6f0b5_row0_col0,#T_6f0b5_row1_col1,#T_6f0b5_row2_col2,#T_6f0b5_row3_col3,#T_6f0b5_row4_col4,#T_6f0b5_row5_col5,#T_6f0b5_row6_col6,#T_6f0b5_row7_col7,#T_6f0b5_row8_col8,#T_6f0b5_row9_col9,#T_6f0b5_row10_col10,#T_6f0b5_row11_col11,#T_6f0b5_row12_col12,#T_6f0b5_row13_col13,#T_6f0b5_row14_col14,#T_6f0b5_row15_col15,#T_6f0b5_row16_col16{\n",
       "            background-color:  #023858;\n",
       "            color:  #f1f1f1;\n",
       "        }#T_6f0b5_row0_col1,#T_6f0b5_row1_col0,#T_6f0b5_row2_col8,#T_6f0b5_row8_col2{\n",
       "            background-color:  #d3d4e7;\n",
       "            color:  #000000;\n",
       "        }#T_6f0b5_row0_col2,#T_6f0b5_row2_col0,#T_6f0b5_row2_col7,#T_6f0b5_row7_col2{\n",
       "            background-color:  #c4cbe3;\n",
       "            color:  #000000;\n",
       "        }#T_6f0b5_row0_col3,#T_6f0b5_row3_col0{\n",
       "            background-color:  #4897c4;\n",
       "            color:  #000000;\n",
       "        }#T_6f0b5_row0_col4,#T_6f0b5_row4_col0{\n",
       "            background-color:  #fff7fb;\n",
       "            color:  #000000;\n",
       "        }#T_6f0b5_row0_col5,#T_6f0b5_row2_col13,#T_6f0b5_row3_col13,#T_6f0b5_row5_col0,#T_6f0b5_row8_col15,#T_6f0b5_row13_col2,#T_6f0b5_row13_col3,#T_6f0b5_row15_col8{\n",
       "            background-color:  #e2dfee;\n",
       "            color:  #000000;\n",
       "        }#T_6f0b5_row0_col6,#T_6f0b5_row6_col0{\n",
       "            background-color:  #e7e3f0;\n",
       "            color:  #000000;\n",
       "        }#T_6f0b5_row0_col7,#T_6f0b5_row1_col13,#T_6f0b5_row7_col0,#T_6f0b5_row13_col1{\n",
       "            background-color:  #d2d3e7;\n",
       "            color:  #000000;\n",
       "        }#T_6f0b5_row0_col8,#T_6f0b5_row8_col0{\n",
       "            background-color:  #cdd0e5;\n",
       "            color:  #000000;\n",
       "        }#T_6f0b5_row0_col9,#T_6f0b5_row3_col7,#T_6f0b5_row7_col3,#T_6f0b5_row9_col0,#T_6f0b5_row9_col15,#T_6f0b5_row15_col9{\n",
       "            background-color:  #c5cce3;\n",
       "            color:  #000000;\n",
       "        }#T_6f0b5_row0_col10,#T_6f0b5_row10_col0{\n",
       "            background-color:  #dcdaeb;\n",
       "            color:  #000000;\n",
       "        }#T_6f0b5_row0_col11,#T_6f0b5_row11_col0{\n",
       "            background-color:  #e5e1ef;\n",
       "            color:  #000000;\n",
       "        }#T_6f0b5_row0_col12,#T_6f0b5_row0_col14,#T_6f0b5_row12_col0,#T_6f0b5_row14_col0{\n",
       "            background-color:  #e0dded;\n",
       "            color:  #000000;\n",
       "        }#T_6f0b5_row0_col13,#T_6f0b5_row13_col0{\n",
       "            background-color:  #dedcec;\n",
       "            color:  #000000;\n",
       "        }#T_6f0b5_row0_col15,#T_6f0b5_row15_col0{\n",
       "            background-color:  #f3edf5;\n",
       "            color:  #000000;\n",
       "        }#T_6f0b5_row0_col16,#T_6f0b5_row16_col0{\n",
       "            background-color:  #eee8f3;\n",
       "            color:  #000000;\n",
       "        }#T_6f0b5_row1_col2,#T_6f0b5_row2_col1{\n",
       "            background-color:  #056caa;\n",
       "            color:  #f1f1f1;\n",
       "        }#T_6f0b5_row1_col3,#T_6f0b5_row3_col1{\n",
       "            background-color:  #bdc8e1;\n",
       "            color:  #000000;\n",
       "        }#T_6f0b5_row1_col4,#T_6f0b5_row4_col1,#T_6f0b5_row14_col16,#T_6f0b5_row16_col14{\n",
       "            background-color:  #c2cbe2;\n",
       "            color:  #000000;\n",
       "        }#T_6f0b5_row1_col5,#T_6f0b5_row5_col1,#T_6f0b5_row12_col14,#T_6f0b5_row14_col12{\n",
       "            background-color:  #adc1dd;\n",
       "            color:  #000000;\n",
       "        }#T_6f0b5_row1_col6,#T_6f0b5_row6_col1,#T_6f0b5_row7_col14,#T_6f0b5_row14_col7{\n",
       "            background-color:  #d4d4e8;\n",
       "            color:  #000000;\n",
       "        }#T_6f0b5_row1_col7,#T_6f0b5_row7_col1{\n",
       "            background-color:  #9cb9d9;\n",
       "            color:  #000000;\n",
       "        }#T_6f0b5_row1_col8,#T_6f0b5_row7_col15,#T_6f0b5_row8_col1,#T_6f0b5_row15_col7{\n",
       "            background-color:  #c8cde4;\n",
       "            color:  #000000;\n",
       "        }#T_6f0b5_row1_col9,#T_6f0b5_row1_col15,#T_6f0b5_row9_col1,#T_6f0b5_row15_col1{\n",
       "            background-color:  #99b8d8;\n",
       "            color:  #000000;\n",
       "        }#T_6f0b5_row1_col10,#T_6f0b5_row2_col4,#T_6f0b5_row4_col2,#T_6f0b5_row4_col9,#T_6f0b5_row9_col4,#T_6f0b5_row10_col1{\n",
       "            background-color:  #c9cee4;\n",
       "            color:  #000000;\n",
       "        }#T_6f0b5_row1_col11,#T_6f0b5_row11_col1{\n",
       "            background-color:  #7bacd1;\n",
       "            color:  #000000;\n",
       "        }#T_6f0b5_row1_col12,#T_6f0b5_row12_col1{\n",
       "            background-color:  #d2d2e7;\n",
       "            color:  #000000;\n",
       "        }#T_6f0b5_row1_col14,#T_6f0b5_row2_col14,#T_6f0b5_row2_col16,#T_6f0b5_row14_col1,#T_6f0b5_row14_col2,#T_6f0b5_row16_col2{\n",
       "            background-color:  #d9d8ea;\n",
       "            color:  #000000;\n",
       "        }#T_6f0b5_row1_col16,#T_6f0b5_row16_col1{\n",
       "            background-color:  #bfc9e1;\n",
       "            color:  #000000;\n",
       "        }#T_6f0b5_row2_col3,#T_6f0b5_row3_col2{\n",
       "            background-color:  #8cb3d5;\n",
       "            color:  #000000;\n",
       "        }#T_6f0b5_row2_col5,#T_6f0b5_row2_col12,#T_6f0b5_row5_col2,#T_6f0b5_row12_col2{\n",
       "            background-color:  #d5d5e8;\n",
       "            color:  #000000;\n",
       "        }#T_6f0b5_row2_col6,#T_6f0b5_row6_col2{\n",
       "            background-color:  #e4e1ef;\n",
       "            color:  #000000;\n",
       "        }#T_6f0b5_row2_col9,#T_6f0b5_row9_col2{\n",
       "            background-color:  #d0d1e6;\n",
       "            color:  #000000;\n",
       "        }#T_6f0b5_row2_col10,#T_6f0b5_row10_col2{\n",
       "            background-color:  #dad9ea;\n",
       "            color:  #000000;\n",
       "        }#T_6f0b5_row2_col11,#T_6f0b5_row8_col14,#T_6f0b5_row11_col2,#T_6f0b5_row14_col8{\n",
       "            background-color:  #c6cce3;\n",
       "            color:  #000000;\n",
       "        }#T_6f0b5_row2_col15,#T_6f0b5_row15_col2{\n",
       "            background-color:  #b4c4df;\n",
       "            color:  #000000;\n",
       "        }#T_6f0b5_row3_col4,#T_6f0b5_row4_col3,#T_6f0b5_row11_col12,#T_6f0b5_row12_col11{\n",
       "            background-color:  #b3c3de;\n",
       "            color:  #000000;\n",
       "        }#T_6f0b5_row3_col5,#T_6f0b5_row5_col3{\n",
       "            background-color:  #f7f0f7;\n",
       "            color:  #000000;\n",
       "        }#T_6f0b5_row3_col6,#T_6f0b5_row6_col3{\n",
       "            background-color:  #e9e5f1;\n",
       "            color:  #000000;\n",
       "        }#T_6f0b5_row3_col8,#T_6f0b5_row8_col3{\n",
       "            background-color:  #bbc7e0;\n",
       "            color:  #000000;\n",
       "        }#T_6f0b5_row3_col9,#T_6f0b5_row9_col3{\n",
       "            background-color:  #efe9f3;\n",
       "            color:  #000000;\n",
       "        }#T_6f0b5_row3_col10,#T_6f0b5_row10_col3{\n",
       "            background-color:  #d6d6e9;\n",
       "            color:  #000000;\n",
       "        }#T_6f0b5_row3_col11,#T_6f0b5_row4_col12,#T_6f0b5_row11_col3,#T_6f0b5_row12_col4{\n",
       "            background-color:  #a2bcda;\n",
       "            color:  #000000;\n",
       "        }#T_6f0b5_row3_col12,#T_6f0b5_row12_col3{\n",
       "            background-color:  #dddbec;\n",
       "            color:  #000000;\n",
       "        }#T_6f0b5_row3_col14,#T_6f0b5_row14_col3{\n",
       "            background-color:  #e6e2ef;\n",
       "            color:  #000000;\n",
       "        }#T_6f0b5_row3_col15,#T_6f0b5_row15_col3{\n",
       "            background-color:  #ede7f2;\n",
       "            color:  #000000;\n",
       "        }#T_6f0b5_row3_col16,#T_6f0b5_row9_col12,#T_6f0b5_row12_col9,#T_6f0b5_row16_col3{\n",
       "            background-color:  #cccfe5;\n",
       "            color:  #000000;\n",
       "        }#T_6f0b5_row4_col5,#T_6f0b5_row5_col4{\n",
       "            background-color:  #bcc7e1;\n",
       "            color:  #000000;\n",
       "        }#T_6f0b5_row4_col6,#T_6f0b5_row6_col4{\n",
       "            background-color:  #8bb2d4;\n",
       "            color:  #000000;\n",
       "        }#T_6f0b5_row4_col7,#T_6f0b5_row7_col4{\n",
       "            background-color:  #89b1d4;\n",
       "            color:  #000000;\n",
       "        }#T_6f0b5_row4_col8,#T_6f0b5_row4_col11,#T_6f0b5_row8_col4,#T_6f0b5_row11_col4{\n",
       "            background-color:  #63a2cb;\n",
       "            color:  #000000;\n",
       "        }#T_6f0b5_row4_col10,#T_6f0b5_row6_col14,#T_6f0b5_row10_col4,#T_6f0b5_row14_col6{\n",
       "            background-color:  #8eb3d5;\n",
       "            color:  #000000;\n",
       "        }#T_6f0b5_row4_col13,#T_6f0b5_row8_col9,#T_6f0b5_row9_col8,#T_6f0b5_row9_col11,#T_6f0b5_row11_col9,#T_6f0b5_row13_col4{\n",
       "            background-color:  #93b5d6;\n",
       "            color:  #000000;\n",
       "        }#T_6f0b5_row4_col14,#T_6f0b5_row14_col4{\n",
       "            background-color:  #7eadd1;\n",
       "            color:  #000000;\n",
       "        }#T_6f0b5_row4_col15,#T_6f0b5_row5_col8,#T_6f0b5_row5_col14,#T_6f0b5_row8_col5,#T_6f0b5_row14_col5,#T_6f0b5_row15_col4{\n",
       "            background-color:  #a4bcda;\n",
       "            color:  #000000;\n",
       "        }#T_6f0b5_row4_col16,#T_6f0b5_row16_col4{\n",
       "            background-color:  #75a9cf;\n",
       "            color:  #000000;\n",
       "        }#T_6f0b5_row5_col6,#T_6f0b5_row6_col5{\n",
       "            background-color:  #328dbf;\n",
       "            color:  #000000;\n",
       "        }#T_6f0b5_row5_col7,#T_6f0b5_row7_col5{\n",
       "            background-color:  #a1bbda;\n",
       "            color:  #000000;\n",
       "        }#T_6f0b5_row5_col9,#T_6f0b5_row6_col11,#T_6f0b5_row9_col5,#T_6f0b5_row11_col6{\n",
       "            background-color:  #8fb4d6;\n",
       "            color:  #000000;\n",
       "        }#T_6f0b5_row5_col10,#T_6f0b5_row10_col5{\n",
       "            background-color:  #67a4cc;\n",
       "            color:  #000000;\n",
       "        }#T_6f0b5_row5_col11,#T_6f0b5_row6_col15,#T_6f0b5_row11_col5,#T_6f0b5_row11_col14,#T_6f0b5_row14_col11,#T_6f0b5_row15_col6{\n",
       "            background-color:  #b9c6e0;\n",
       "            color:  #000000;\n",
       "        }#T_6f0b5_row5_col12,#T_6f0b5_row6_col9,#T_6f0b5_row7_col12,#T_6f0b5_row9_col6,#T_6f0b5_row12_col5,#T_6f0b5_row12_col7{\n",
       "            background-color:  #6da6cd;\n",
       "            color:  #000000;\n",
       "        }#T_6f0b5_row5_col13,#T_6f0b5_row13_col5{\n",
       "            background-color:  #529bc7;\n",
       "            color:  #000000;\n",
       "        }#T_6f0b5_row5_col15,#T_6f0b5_row15_col5{\n",
       "            background-color:  #91b5d6;\n",
       "            color:  #000000;\n",
       "        }#T_6f0b5_row5_col16,#T_6f0b5_row16_col5{\n",
       "            background-color:  #348ebf;\n",
       "            color:  #000000;\n",
       "        }#T_6f0b5_row6_col7,#T_6f0b5_row7_col6,#T_6f0b5_row8_col12,#T_6f0b5_row12_col8{\n",
       "            background-color:  #62a2cb;\n",
       "            color:  #000000;\n",
       "        }#T_6f0b5_row6_col8,#T_6f0b5_row8_col6{\n",
       "            background-color:  #1379b5;\n",
       "            color:  #f1f1f1;\n",
       "        }#T_6f0b5_row6_col10,#T_6f0b5_row10_col6{\n",
       "            background-color:  #1e80b8;\n",
       "            color:  #000000;\n",
       "        }#T_6f0b5_row6_col12,#T_6f0b5_row9_col13,#T_6f0b5_row12_col6,#T_6f0b5_row13_col9{\n",
       "            background-color:  #81aed2;\n",
       "            color:  #000000;\n",
       "        }#T_6f0b5_row6_col13,#T_6f0b5_row13_col6{\n",
       "            background-color:  #4295c3;\n",
       "            color:  #000000;\n",
       "        }#T_6f0b5_row6_col16,#T_6f0b5_row16_col6{\n",
       "            background-color:  #056aa6;\n",
       "            color:  #f1f1f1;\n",
       "        }#T_6f0b5_row7_col8,#T_6f0b5_row8_col7{\n",
       "            background-color:  #1c7fb8;\n",
       "            color:  #000000;\n",
       "        }#T_6f0b5_row7_col9,#T_6f0b5_row9_col7{\n",
       "            background-color:  #79abd0;\n",
       "            color:  #000000;\n",
       "        }#T_6f0b5_row7_col10,#T_6f0b5_row10_col7{\n",
       "            background-color:  #5a9ec9;\n",
       "            color:  #000000;\n",
       "        }#T_6f0b5_row7_col11,#T_6f0b5_row11_col7,#T_6f0b5_row14_col15,#T_6f0b5_row15_col14{\n",
       "            background-color:  #2a88bc;\n",
       "            color:  #000000;\n",
       "        }#T_6f0b5_row7_col13,#T_6f0b5_row8_col13,#T_6f0b5_row10_col13,#T_6f0b5_row13_col7,#T_6f0b5_row13_col8,#T_6f0b5_row13_col10,#T_6f0b5_row13_col14,#T_6f0b5_row14_col13{\n",
       "            background-color:  #4e9ac6;\n",
       "            color:  #000000;\n",
       "        }#T_6f0b5_row7_col16,#T_6f0b5_row16_col7{\n",
       "            background-color:  #2081b9;\n",
       "            color:  #000000;\n",
       "        }#T_6f0b5_row8_col10,#T_6f0b5_row10_col8{\n",
       "            background-color:  #3f93c2;\n",
       "            color:  #000000;\n",
       "        }#T_6f0b5_row8_col11,#T_6f0b5_row11_col8{\n",
       "            background-color:  #4c99c5;\n",
       "            color:  #000000;\n",
       "        }#T_6f0b5_row8_col16,#T_6f0b5_row16_col8{\n",
       "            background-color:  #04639b;\n",
       "            color:  #f1f1f1;\n",
       "        }#T_6f0b5_row9_col10,#T_6f0b5_row10_col9{\n",
       "            background-color:  #73a9cf;\n",
       "            color:  #000000;\n",
       "        }#T_6f0b5_row9_col14,#T_6f0b5_row14_col9{\n",
       "            background-color:  #b1c2de;\n",
       "            color:  #000000;\n",
       "        }#T_6f0b5_row9_col16,#T_6f0b5_row16_col9{\n",
       "            background-color:  #80aed2;\n",
       "            color:  #000000;\n",
       "        }#T_6f0b5_row10_col11,#T_6f0b5_row11_col10{\n",
       "            background-color:  #4a98c5;\n",
       "            color:  #000000;\n",
       "        }#T_6f0b5_row10_col12,#T_6f0b5_row12_col10{\n",
       "            background-color:  #78abd0;\n",
       "            color:  #000000;\n",
       "        }#T_6f0b5_row10_col14,#T_6f0b5_row14_col10{\n",
       "            background-color:  #83afd3;\n",
       "            color:  #000000;\n",
       "        }#T_6f0b5_row10_col15,#T_6f0b5_row15_col10{\n",
       "            background-color:  #a9bfdc;\n",
       "            color:  #000000;\n",
       "        }#T_6f0b5_row10_col16,#T_6f0b5_row16_col10{\n",
       "            background-color:  #0f76b3;\n",
       "            color:  #f1f1f1;\n",
       "        }#T_6f0b5_row11_col13,#T_6f0b5_row13_col11{\n",
       "            background-color:  #97b7d7;\n",
       "            color:  #000000;\n",
       "        }#T_6f0b5_row11_col15,#T_6f0b5_row15_col11{\n",
       "            background-color:  #a8bedc;\n",
       "            color:  #000000;\n",
       "        }#T_6f0b5_row11_col16,#T_6f0b5_row16_col11{\n",
       "            background-color:  #3d93c2;\n",
       "            color:  #000000;\n",
       "        }#T_6f0b5_row12_col13,#T_6f0b5_row13_col12{\n",
       "            background-color:  #3991c1;\n",
       "            color:  #000000;\n",
       "        }#T_6f0b5_row12_col15,#T_6f0b5_row15_col12{\n",
       "            background-color:  #a7bddb;\n",
       "            color:  #000000;\n",
       "        }#T_6f0b5_row12_col16,#T_6f0b5_row16_col12{\n",
       "            background-color:  #2383ba;\n",
       "            color:  #000000;\n",
       "        }#T_6f0b5_row13_col15,#T_6f0b5_row15_col13{\n",
       "            background-color:  #6ba5cd;\n",
       "            color:  #000000;\n",
       "        }#T_6f0b5_row13_col16,#T_6f0b5_row16_col13{\n",
       "            background-color:  #2182b9;\n",
       "            color:  #000000;\n",
       "        }#T_6f0b5_row15_col16,#T_6f0b5_row16_col15{\n",
       "            background-color:  #d1d2e6;\n",
       "            color:  #000000;\n",
       "        }</style><table id=\"T_6f0b5_\" ><thead>    <tr>        <th class=\"blank level0\" ></th>        <th class=\"col_heading level0 col0\" >Rt</th>        <th class=\"col_heading level0 col1\" >theta</th>        <th class=\"col_heading level0 col2\" >kappa</th>        <th class=\"col_heading level0 col3\" >rho</th>        <th class=\"col_heading level0 col4\" >sigma</th>        <th class=\"col_heading level0 col5\" >School_closing</th>        <th class=\"col_heading level0 col6\" >Workplace_closing</th>        <th class=\"col_heading level0 col7\" >Cancel_events</th>        <th class=\"col_heading level0 col8\" >Gatherings_restrictions</th>        <th class=\"col_heading level0 col9\" >Transport_closing</th>        <th class=\"col_heading level0 col10\" >Stay_home_restrictions</th>        <th class=\"col_heading level0 col11\" >Internal_movement_restrictions</th>        <th class=\"col_heading level0 col12\" >International_movement_restrictions</th>        <th class=\"col_heading level0 col13\" >Information_campaigns</th>        <th class=\"col_heading level0 col14\" >Testing_policy</th>        <th class=\"col_heading level0 col15\" >Contact_tracing</th>        <th class=\"col_heading level0 col16\" >Stringency_index</th>    </tr></thead><tbody>\n",
       "                <tr>\n",
       "                        <th id=\"T_6f0b5_level0_row0\" class=\"row_heading level0 row0\" >Rt</th>\n",
       "                        <td id=\"T_6f0b5_row0_col0\" class=\"data row0 col0\" >1.000000</td>\n",
       "                        <td id=\"T_6f0b5_row0_col1\" class=\"data row0 col1\" >-0.124158</td>\n",
       "                        <td id=\"T_6f0b5_row0_col2\" class=\"data row0 col2\" >-0.051413</td>\n",
       "                        <td id=\"T_6f0b5_row0_col3\" class=\"data row0 col3\" >0.392324</td>\n",
       "                        <td id=\"T_6f0b5_row0_col4\" class=\"data row0 col4\" >-0.472338</td>\n",
       "                        <td id=\"T_6f0b5_row0_col5\" class=\"data row0 col5\" >-0.221289</td>\n",
       "                        <td id=\"T_6f0b5_row0_col6\" class=\"data row0 col6\" >-0.253337</td>\n",
       "                        <td id=\"T_6f0b5_row0_col7\" class=\"data row0 col7\" >-0.119965</td>\n",
       "                        <td id=\"T_6f0b5_row0_col8\" class=\"data row0 col8\" >-0.090601</td>\n",
       "                        <td id=\"T_6f0b5_row0_col9\" class=\"data row0 col9\" >-0.055476</td>\n",
       "                        <td id=\"T_6f0b5_row0_col10\" class=\"data row0 col10\" >-0.182134</td>\n",
       "                        <td id=\"T_6f0b5_row0_col11\" class=\"data row0 col11\" >-0.237610</td>\n",
       "                        <td id=\"T_6f0b5_row0_col12\" class=\"data row0 col12\" >-0.202719</td>\n",
       "                        <td id=\"T_6f0b5_row0_col13\" class=\"data row0 col13\" >-0.191701</td>\n",
       "                        <td id=\"T_6f0b5_row0_col14\" class=\"data row0 col14\" >-0.204656</td>\n",
       "                        <td id=\"T_6f0b5_row0_col15\" class=\"data row0 col15\" >-0.356686</td>\n",
       "                        <td id=\"T_6f0b5_row0_col16\" class=\"data row0 col16\" >-0.300026</td>\n",
       "            </tr>\n",
       "            <tr>\n",
       "                        <th id=\"T_6f0b5_level0_row1\" class=\"row_heading level0 row1\" >theta</th>\n",
       "                        <td id=\"T_6f0b5_row1_col0\" class=\"data row1 col0\" >-0.124158</td>\n",
       "                        <td id=\"T_6f0b5_row1_col1\" class=\"data row1 col1\" >1.000000</td>\n",
       "                        <td id=\"T_6f0b5_row1_col2\" class=\"data row1 col2\" >0.661844</td>\n",
       "                        <td id=\"T_6f0b5_row1_col3\" class=\"data row1 col3\" >-0.018823</td>\n",
       "                        <td id=\"T_6f0b5_row1_col4\" class=\"data row1 col4\" >-0.044856</td>\n",
       "                        <td id=\"T_6f0b5_row1_col5\" class=\"data row1 col5\" >0.050587</td>\n",
       "                        <td id=\"T_6f0b5_row1_col6\" class=\"data row1 col6\" >-0.129731</td>\n",
       "                        <td id=\"T_6f0b5_row1_col7\" class=\"data row1 col7\" >0.114528</td>\n",
       "                        <td id=\"T_6f0b5_row1_col8\" class=\"data row1 col8\" >-0.068657</td>\n",
       "                        <td id=\"T_6f0b5_row1_col9\" class=\"data row1 col9\" >0.127510</td>\n",
       "                        <td id=\"T_6f0b5_row1_col10\" class=\"data row1 col10\" >-0.073164</td>\n",
       "                        <td id=\"T_6f0b5_row1_col11\" class=\"data row1 col11\" >0.237741</td>\n",
       "                        <td id=\"T_6f0b5_row1_col12\" class=\"data row1 col12\" >-0.113664</td>\n",
       "                        <td id=\"T_6f0b5_row1_col13\" class=\"data row1 col13\" >-0.116792</td>\n",
       "                        <td id=\"T_6f0b5_row1_col14\" class=\"data row1 col14\" >-0.163455</td>\n",
       "                        <td id=\"T_6f0b5_row1_col15\" class=\"data row1 col15\" >0.129029</td>\n",
       "                        <td id=\"T_6f0b5_row1_col16\" class=\"data row1 col16\" >-0.028673</td>\n",
       "            </tr>\n",
       "            <tr>\n",
       "                        <th id=\"T_6f0b5_level0_row2\" class=\"row_heading level0 row2\" >kappa</th>\n",
       "                        <td id=\"T_6f0b5_row2_col0\" class=\"data row2 col0\" >-0.051413</td>\n",
       "                        <td id=\"T_6f0b5_row2_col1\" class=\"data row2 col1\" >0.661844</td>\n",
       "                        <td id=\"T_6f0b5_row2_col2\" class=\"data row2 col2\" >1.000000</td>\n",
       "                        <td id=\"T_6f0b5_row2_col3\" class=\"data row2 col3\" >0.172115</td>\n",
       "                        <td id=\"T_6f0b5_row2_col4\" class=\"data row2 col4\" >-0.070548</td>\n",
       "                        <td id=\"T_6f0b5_row2_col5\" class=\"data row2 col5\" >-0.134498</td>\n",
       "                        <td id=\"T_6f0b5_row2_col6\" class=\"data row2 col6\" >-0.235034</td>\n",
       "                        <td id=\"T_6f0b5_row2_col7\" class=\"data row2 col7\" >-0.049192</td>\n",
       "                        <td id=\"T_6f0b5_row2_col8\" class=\"data row2 col8\" >-0.121889</td>\n",
       "                        <td id=\"T_6f0b5_row2_col9\" class=\"data row2 col9\" >-0.102823</td>\n",
       "                        <td id=\"T_6f0b5_row2_col10\" class=\"data row2 col10\" >-0.171915</td>\n",
       "                        <td id=\"T_6f0b5_row2_col11\" class=\"data row2 col11\" >-0.063107</td>\n",
       "                        <td id=\"T_6f0b5_row2_col12\" class=\"data row2 col12\" >-0.134493</td>\n",
       "                        <td id=\"T_6f0b5_row2_col13\" class=\"data row2 col13\" >-0.219348</td>\n",
       "                        <td id=\"T_6f0b5_row2_col14\" class=\"data row2 col14\" >-0.160590</td>\n",
       "                        <td id=\"T_6f0b5_row2_col15\" class=\"data row2 col15\" >0.021801</td>\n",
       "                        <td id=\"T_6f0b5_row2_col16\" class=\"data row2 col16\" >-0.157962</td>\n",
       "            </tr>\n",
       "            <tr>\n",
       "                        <th id=\"T_6f0b5_level0_row3\" class=\"row_heading level0 row3\" >rho</th>\n",
       "                        <td id=\"T_6f0b5_row3_col0\" class=\"data row3 col0\" >0.392324</td>\n",
       "                        <td id=\"T_6f0b5_row3_col1\" class=\"data row3 col1\" >-0.018823</td>\n",
       "                        <td id=\"T_6f0b5_row3_col2\" class=\"data row3 col2\" >0.172115</td>\n",
       "                        <td id=\"T_6f0b5_row3_col3\" class=\"data row3 col3\" >1.000000</td>\n",
       "                        <td id=\"T_6f0b5_row3_col4\" class=\"data row3 col4\" >0.025895</td>\n",
       "                        <td id=\"T_6f0b5_row3_col5\" class=\"data row3 col5\" >-0.390818</td>\n",
       "                        <td id=\"T_6f0b5_row3_col6\" class=\"data row3 col6\" >-0.268688</td>\n",
       "                        <td id=\"T_6f0b5_row3_col7\" class=\"data row3 col7\" >-0.055256</td>\n",
       "                        <td id=\"T_6f0b5_row3_col8\" class=\"data row3 col8\" >-0.007533</td>\n",
       "                        <td id=\"T_6f0b5_row3_col9\" class=\"data row3 col9\" >-0.315299</td>\n",
       "                        <td id=\"T_6f0b5_row3_col10\" class=\"data row3 col10\" >-0.142621</td>\n",
       "                        <td id=\"T_6f0b5_row3_col11\" class=\"data row3 col11\" >0.096340</td>\n",
       "                        <td id=\"T_6f0b5_row3_col12\" class=\"data row3 col12\" >-0.189124</td>\n",
       "                        <td id=\"T_6f0b5_row3_col13\" class=\"data row3 col13\" >-0.220618</td>\n",
       "                        <td id=\"T_6f0b5_row3_col14\" class=\"data row3 col14\" >-0.247226</td>\n",
       "                        <td id=\"T_6f0b5_row3_col15\" class=\"data row3 col15\" >-0.288952</td>\n",
       "                        <td id=\"T_6f0b5_row3_col16\" class=\"data row3 col16\" >-0.085272</td>\n",
       "            </tr>\n",
       "            <tr>\n",
       "                        <th id=\"T_6f0b5_level0_row4\" class=\"row_heading level0 row4\" >sigma</th>\n",
       "                        <td id=\"T_6f0b5_row4_col0\" class=\"data row4 col0\" >-0.472338</td>\n",
       "                        <td id=\"T_6f0b5_row4_col1\" class=\"data row4 col1\" >-0.044856</td>\n",
       "                        <td id=\"T_6f0b5_row4_col2\" class=\"data row4 col2\" >-0.070548</td>\n",
       "                        <td id=\"T_6f0b5_row4_col3\" class=\"data row4 col3\" >0.025895</td>\n",
       "                        <td id=\"T_6f0b5_row4_col4\" class=\"data row4 col4\" >1.000000</td>\n",
       "                        <td id=\"T_6f0b5_row4_col5\" class=\"data row4 col5\" >-0.017561</td>\n",
       "                        <td id=\"T_6f0b5_row4_col6\" class=\"data row4 col6\" >0.178744</td>\n",
       "                        <td id=\"T_6f0b5_row4_col7\" class=\"data row4 col7\" >0.183554</td>\n",
       "                        <td id=\"T_6f0b5_row4_col8\" class=\"data row4 col8\" >0.313149</td>\n",
       "                        <td id=\"T_6f0b5_row4_col9\" class=\"data row4 col9\" >-0.075100</td>\n",
       "                        <td id=\"T_6f0b5_row4_col10\" class=\"data row4 col10\" >0.167864</td>\n",
       "                        <td id=\"T_6f0b5_row4_col11\" class=\"data row4 col11\" >0.311836</td>\n",
       "                        <td id=\"T_6f0b5_row4_col12\" class=\"data row4 col12\" >0.096809</td>\n",
       "                        <td id=\"T_6f0b5_row4_col13\" class=\"data row4 col13\" >0.154516</td>\n",
       "                        <td id=\"T_6f0b5_row4_col14\" class=\"data row4 col14\" >0.227946</td>\n",
       "                        <td id=\"T_6f0b5_row4_col15\" class=\"data row4 col15\" >0.087635</td>\n",
       "                        <td id=\"T_6f0b5_row4_col16\" class=\"data row4 col16\" >0.263249</td>\n",
       "            </tr>\n",
       "            <tr>\n",
       "                        <th id=\"T_6f0b5_level0_row5\" class=\"row_heading level0 row5\" >School_closing</th>\n",
       "                        <td id=\"T_6f0b5_row5_col0\" class=\"data row5 col0\" >-0.221289</td>\n",
       "                        <td id=\"T_6f0b5_row5_col1\" class=\"data row5 col1\" >0.050587</td>\n",
       "                        <td id=\"T_6f0b5_row5_col2\" class=\"data row5 col2\" >-0.134498</td>\n",
       "                        <td id=\"T_6f0b5_row5_col3\" class=\"data row5 col3\" >-0.390818</td>\n",
       "                        <td id=\"T_6f0b5_row5_col4\" class=\"data row5 col4\" >-0.017561</td>\n",
       "                        <td id=\"T_6f0b5_row5_col5\" class=\"data row5 col5\" >1.000000</td>\n",
       "                        <td id=\"T_6f0b5_row5_col6\" class=\"data row5 col6\" >0.462928</td>\n",
       "                        <td id=\"T_6f0b5_row5_col7\" class=\"data row5 col7\" >0.097953</td>\n",
       "                        <td id=\"T_6f0b5_row5_col8\" class=\"data row5 col8\" >0.086551</td>\n",
       "                        <td id=\"T_6f0b5_row5_col9\" class=\"data row5 col9\" >0.164023</td>\n",
       "                        <td id=\"T_6f0b5_row5_col10\" class=\"data row5 col10\" >0.303869</td>\n",
       "                        <td id=\"T_6f0b5_row5_col11\" class=\"data row5 col11\" >-0.005469</td>\n",
       "                        <td id=\"T_6f0b5_row5_col12\" class=\"data row5 col12\" >0.286648</td>\n",
       "                        <td id=\"T_6f0b5_row5_col13\" class=\"data row5 col13\" >0.366587</td>\n",
       "                        <td id=\"T_6f0b5_row5_col14\" class=\"data row5 col14\" >0.087414</td>\n",
       "                        <td id=\"T_6f0b5_row5_col15\" class=\"data row5 col15\" >0.159749</td>\n",
       "                        <td id=\"T_6f0b5_row5_col16\" class=\"data row5 col16\" >0.457750</td>\n",
       "            </tr>\n",
       "            <tr>\n",
       "                        <th id=\"T_6f0b5_level0_row6\" class=\"row_heading level0 row6\" >Workplace_closing</th>\n",
       "                        <td id=\"T_6f0b5_row6_col0\" class=\"data row6 col0\" >-0.253337</td>\n",
       "                        <td id=\"T_6f0b5_row6_col1\" class=\"data row6 col1\" >-0.129731</td>\n",
       "                        <td id=\"T_6f0b5_row6_col2\" class=\"data row6 col2\" >-0.235034</td>\n",
       "                        <td id=\"T_6f0b5_row6_col3\" class=\"data row6 col3\" >-0.268688</td>\n",
       "                        <td id=\"T_6f0b5_row6_col4\" class=\"data row6 col4\" >0.178744</td>\n",
       "                        <td id=\"T_6f0b5_row6_col5\" class=\"data row6 col5\" >0.462928</td>\n",
       "                        <td id=\"T_6f0b5_row6_col6\" class=\"data row6 col6\" >1.000000</td>\n",
       "                        <td id=\"T_6f0b5_row6_col7\" class=\"data row6 col7\" >0.316572</td>\n",
       "                        <td id=\"T_6f0b5_row6_col8\" class=\"data row6 col8\" >0.578294</td>\n",
       "                        <td id=\"T_6f0b5_row6_col9\" class=\"data row6 col9\" >0.284028</td>\n",
       "                        <td id=\"T_6f0b5_row6_col10\" class=\"data row6 col10\" >0.537121</td>\n",
       "                        <td id=\"T_6f0b5_row6_col11\" class=\"data row6 col11\" >0.163366</td>\n",
       "                        <td id=\"T_6f0b5_row6_col12\" class=\"data row6 col12\" >0.215927</td>\n",
       "                        <td id=\"T_6f0b5_row6_col13\" class=\"data row6 col13\" >0.409059</td>\n",
       "                        <td id=\"T_6f0b5_row6_col14\" class=\"data row6 col14\" >0.171242</td>\n",
       "                        <td id=\"T_6f0b5_row6_col15\" class=\"data row6 col15\" >-0.004883</td>\n",
       "                        <td id=\"T_6f0b5_row6_col16\" class=\"data row6 col16\" >0.682772</td>\n",
       "            </tr>\n",
       "            <tr>\n",
       "                        <th id=\"T_6f0b5_level0_row7\" class=\"row_heading level0 row7\" >Cancel_events</th>\n",
       "                        <td id=\"T_6f0b5_row7_col0\" class=\"data row7 col0\" >-0.119965</td>\n",
       "                        <td id=\"T_6f0b5_row7_col1\" class=\"data row7 col1\" >0.114528</td>\n",
       "                        <td id=\"T_6f0b5_row7_col2\" class=\"data row7 col2\" >-0.049192</td>\n",
       "                        <td id=\"T_6f0b5_row7_col3\" class=\"data row7 col3\" >-0.055256</td>\n",
       "                        <td id=\"T_6f0b5_row7_col4\" class=\"data row7 col4\" >0.183554</td>\n",
       "                        <td id=\"T_6f0b5_row7_col5\" class=\"data row7 col5\" >0.097953</td>\n",
       "                        <td id=\"T_6f0b5_row7_col6\" class=\"data row7 col6\" >0.316572</td>\n",
       "                        <td id=\"T_6f0b5_row7_col7\" class=\"data row7 col7\" >1.000000</td>\n",
       "                        <td id=\"T_6f0b5_row7_col8\" class=\"data row7 col8\" >0.541521</td>\n",
       "                        <td id=\"T_6f0b5_row7_col9\" class=\"data row7 col9\" >0.243805</td>\n",
       "                        <td id=\"T_6f0b5_row7_col10\" class=\"data row7 col10\" >0.340263</td>\n",
       "                        <td id=\"T_6f0b5_row7_col11\" class=\"data row7 col11\" >0.488692</td>\n",
       "                        <td id=\"T_6f0b5_row7_col12\" class=\"data row7 col12\" >0.286511</td>\n",
       "                        <td id=\"T_6f0b5_row7_col13\" class=\"data row7 col13\" >0.376036</td>\n",
       "                        <td id=\"T_6f0b5_row7_col14\" class=\"data row7 col14\" >-0.130403</td>\n",
       "                        <td id=\"T_6f0b5_row7_col15\" class=\"data row7 col15\" >-0.068536</td>\n",
       "                        <td id=\"T_6f0b5_row7_col16\" class=\"data row7 col16\" >0.529903</td>\n",
       "            </tr>\n",
       "            <tr>\n",
       "                        <th id=\"T_6f0b5_level0_row8\" class=\"row_heading level0 row8\" >Gatherings_restrictions</th>\n",
       "                        <td id=\"T_6f0b5_row8_col0\" class=\"data row8 col0\" >-0.090601</td>\n",
       "                        <td id=\"T_6f0b5_row8_col1\" class=\"data row8 col1\" >-0.068657</td>\n",
       "                        <td id=\"T_6f0b5_row8_col2\" class=\"data row8 col2\" >-0.121889</td>\n",
       "                        <td id=\"T_6f0b5_row8_col3\" class=\"data row8 col3\" >-0.007533</td>\n",
       "                        <td id=\"T_6f0b5_row8_col4\" class=\"data row8 col4\" >0.313149</td>\n",
       "                        <td id=\"T_6f0b5_row8_col5\" class=\"data row8 col5\" >0.086551</td>\n",
       "                        <td id=\"T_6f0b5_row8_col6\" class=\"data row8 col6\" >0.578294</td>\n",
       "                        <td id=\"T_6f0b5_row8_col7\" class=\"data row8 col7\" >0.541521</td>\n",
       "                        <td id=\"T_6f0b5_row8_col8\" class=\"data row8 col8\" >1.000000</td>\n",
       "                        <td id=\"T_6f0b5_row8_col9\" class=\"data row8 col9\" >0.150689</td>\n",
       "                        <td id=\"T_6f0b5_row8_col10\" class=\"data row8 col10\" >0.422766</td>\n",
       "                        <td id=\"T_6f0b5_row8_col11\" class=\"data row8 col11\" >0.379092</td>\n",
       "                        <td id=\"T_6f0b5_row8_col12\" class=\"data row8 col12\" >0.316043</td>\n",
       "                        <td id=\"T_6f0b5_row8_col13\" class=\"data row8 col13\" >0.373513</td>\n",
       "                        <td id=\"T_6f0b5_row8_col14\" class=\"data row8 col14\" >-0.060192</td>\n",
       "                        <td id=\"T_6f0b5_row8_col15\" class=\"data row8 col15\" >-0.221018</td>\n",
       "                        <td id=\"T_6f0b5_row8_col16\" class=\"data row8 col16\" >0.737184</td>\n",
       "            </tr>\n",
       "            <tr>\n",
       "                        <th id=\"T_6f0b5_level0_row9\" class=\"row_heading level0 row9\" >Transport_closing</th>\n",
       "                        <td id=\"T_6f0b5_row9_col0\" class=\"data row9 col0\" >-0.055476</td>\n",
       "                        <td id=\"T_6f0b5_row9_col1\" class=\"data row9 col1\" >0.127510</td>\n",
       "                        <td id=\"T_6f0b5_row9_col2\" class=\"data row9 col2\" >-0.102823</td>\n",
       "                        <td id=\"T_6f0b5_row9_col3\" class=\"data row9 col3\" >-0.315299</td>\n",
       "                        <td id=\"T_6f0b5_row9_col4\" class=\"data row9 col4\" >-0.075100</td>\n",
       "                        <td id=\"T_6f0b5_row9_col5\" class=\"data row9 col5\" >0.164023</td>\n",
       "                        <td id=\"T_6f0b5_row9_col6\" class=\"data row9 col6\" >0.284028</td>\n",
       "                        <td id=\"T_6f0b5_row9_col7\" class=\"data row9 col7\" >0.243805</td>\n",
       "                        <td id=\"T_6f0b5_row9_col8\" class=\"data row9 col8\" >0.150689</td>\n",
       "                        <td id=\"T_6f0b5_row9_col9\" class=\"data row9 col9\" >1.000000</td>\n",
       "                        <td id=\"T_6f0b5_row9_col10\" class=\"data row9 col10\" >0.264563</td>\n",
       "                        <td id=\"T_6f0b5_row9_col11\" class=\"data row9 col11\" >0.152963</td>\n",
       "                        <td id=\"T_6f0b5_row9_col12\" class=\"data row9 col12\" >-0.082785</td>\n",
       "                        <td id=\"T_6f0b5_row9_col13\" class=\"data row9 col13\" >0.217156</td>\n",
       "                        <td id=\"T_6f0b5_row9_col14\" class=\"data row9 col14\" >0.028240</td>\n",
       "                        <td id=\"T_6f0b5_row9_col15\" class=\"data row9 col15\" >-0.052905</td>\n",
       "                        <td id=\"T_6f0b5_row9_col16\" class=\"data row9 col16\" >0.221040</td>\n",
       "            </tr>\n",
       "            <tr>\n",
       "                        <th id=\"T_6f0b5_level0_row10\" class=\"row_heading level0 row10\" >Stay_home_restrictions</th>\n",
       "                        <td id=\"T_6f0b5_row10_col0\" class=\"data row10 col0\" >-0.182134</td>\n",
       "                        <td id=\"T_6f0b5_row10_col1\" class=\"data row10 col1\" >-0.073164</td>\n",
       "                        <td id=\"T_6f0b5_row10_col2\" class=\"data row10 col2\" >-0.171915</td>\n",
       "                        <td id=\"T_6f0b5_row10_col3\" class=\"data row10 col3\" >-0.142621</td>\n",
       "                        <td id=\"T_6f0b5_row10_col4\" class=\"data row10 col4\" >0.167864</td>\n",
       "                        <td id=\"T_6f0b5_row10_col5\" class=\"data row10 col5\" >0.303869</td>\n",
       "                        <td id=\"T_6f0b5_row10_col6\" class=\"data row10 col6\" >0.537121</td>\n",
       "                        <td id=\"T_6f0b5_row10_col7\" class=\"data row10 col7\" >0.340263</td>\n",
       "                        <td id=\"T_6f0b5_row10_col8\" class=\"data row10 col8\" >0.422766</td>\n",
       "                        <td id=\"T_6f0b5_row10_col9\" class=\"data row10 col9\" >0.264563</td>\n",
       "                        <td id=\"T_6f0b5_row10_col10\" class=\"data row10 col10\" >1.000000</td>\n",
       "                        <td id=\"T_6f0b5_row10_col11\" class=\"data row10 col11\" >0.388264</td>\n",
       "                        <td id=\"T_6f0b5_row10_col12\" class=\"data row10 col12\" >0.248242</td>\n",
       "                        <td id=\"T_6f0b5_row10_col13\" class=\"data row10 col13\" >0.375752</td>\n",
       "                        <td id=\"T_6f0b5_row10_col14\" class=\"data row10 col14\" >0.206443</td>\n",
       "                        <td id=\"T_6f0b5_row10_col15\" class=\"data row10 col15\" >0.062850</td>\n",
       "                        <td id=\"T_6f0b5_row10_col16\" class=\"data row10 col16\" >0.595577</td>\n",
       "            </tr>\n",
       "            <tr>\n",
       "                        <th id=\"T_6f0b5_level0_row11\" class=\"row_heading level0 row11\" >Internal_movement_restrictions</th>\n",
       "                        <td id=\"T_6f0b5_row11_col0\" class=\"data row11 col0\" >-0.237610</td>\n",
       "                        <td id=\"T_6f0b5_row11_col1\" class=\"data row11 col1\" >0.237741</td>\n",
       "                        <td id=\"T_6f0b5_row11_col2\" class=\"data row11 col2\" >-0.063107</td>\n",
       "                        <td id=\"T_6f0b5_row11_col3\" class=\"data row11 col3\" >0.096340</td>\n",
       "                        <td id=\"T_6f0b5_row11_col4\" class=\"data row11 col4\" >0.311836</td>\n",
       "                        <td id=\"T_6f0b5_row11_col5\" class=\"data row11 col5\" >-0.005469</td>\n",
       "                        <td id=\"T_6f0b5_row11_col6\" class=\"data row11 col6\" >0.163366</td>\n",
       "                        <td id=\"T_6f0b5_row11_col7\" class=\"data row11 col7\" >0.488692</td>\n",
       "                        <td id=\"T_6f0b5_row11_col8\" class=\"data row11 col8\" >0.379092</td>\n",
       "                        <td id=\"T_6f0b5_row11_col9\" class=\"data row11 col9\" >0.152963</td>\n",
       "                        <td id=\"T_6f0b5_row11_col10\" class=\"data row11 col10\" >0.388264</td>\n",
       "                        <td id=\"T_6f0b5_row11_col11\" class=\"data row11 col11\" >1.000000</td>\n",
       "                        <td id=\"T_6f0b5_row11_col12\" class=\"data row11 col12\" >0.022647</td>\n",
       "                        <td id=\"T_6f0b5_row11_col13\" class=\"data row11 col13\" >0.131702</td>\n",
       "                        <td id=\"T_6f0b5_row11_col14\" class=\"data row11 col14\" >-0.004278</td>\n",
       "                        <td id=\"T_6f0b5_row11_col15\" class=\"data row11 col15\" >0.070233</td>\n",
       "                        <td id=\"T_6f0b5_row11_col16\" class=\"data row11 col16\" >0.427653</td>\n",
       "            </tr>\n",
       "            <tr>\n",
       "                        <th id=\"T_6f0b5_level0_row12\" class=\"row_heading level0 row12\" >International_movement_restrictions</th>\n",
       "                        <td id=\"T_6f0b5_row12_col0\" class=\"data row12 col0\" >-0.202719</td>\n",
       "                        <td id=\"T_6f0b5_row12_col1\" class=\"data row12 col1\" >-0.113664</td>\n",
       "                        <td id=\"T_6f0b5_row12_col2\" class=\"data row12 col2\" >-0.134493</td>\n",
       "                        <td id=\"T_6f0b5_row12_col3\" class=\"data row12 col3\" >-0.189124</td>\n",
       "                        <td id=\"T_6f0b5_row12_col4\" class=\"data row12 col4\" >0.096809</td>\n",
       "                        <td id=\"T_6f0b5_row12_col5\" class=\"data row12 col5\" >0.286648</td>\n",
       "                        <td id=\"T_6f0b5_row12_col6\" class=\"data row12 col6\" >0.215927</td>\n",
       "                        <td id=\"T_6f0b5_row12_col7\" class=\"data row12 col7\" >0.286511</td>\n",
       "                        <td id=\"T_6f0b5_row12_col8\" class=\"data row12 col8\" >0.316043</td>\n",
       "                        <td id=\"T_6f0b5_row12_col9\" class=\"data row12 col9\" >-0.082785</td>\n",
       "                        <td id=\"T_6f0b5_row12_col10\" class=\"data row12 col10\" >0.248242</td>\n",
       "                        <td id=\"T_6f0b5_row12_col11\" class=\"data row12 col11\" >0.022647</td>\n",
       "                        <td id=\"T_6f0b5_row12_col12\" class=\"data row12 col12\" >1.000000</td>\n",
       "                        <td id=\"T_6f0b5_row12_col13\" class=\"data row12 col13\" >0.441473</td>\n",
       "                        <td id=\"T_6f0b5_row12_col14\" class=\"data row12 col14\" >0.050119</td>\n",
       "                        <td id=\"T_6f0b5_row12_col15\" class=\"data row12 col15\" >0.074973</td>\n",
       "                        <td id=\"T_6f0b5_row12_col16\" class=\"data row12 col16\" >0.520893</td>\n",
       "            </tr>\n",
       "            <tr>\n",
       "                        <th id=\"T_6f0b5_level0_row13\" class=\"row_heading level0 row13\" >Information_campaigns</th>\n",
       "                        <td id=\"T_6f0b5_row13_col0\" class=\"data row13 col0\" >-0.191701</td>\n",
       "                        <td id=\"T_6f0b5_row13_col1\" class=\"data row13 col1\" >-0.116792</td>\n",
       "                        <td id=\"T_6f0b5_row13_col2\" class=\"data row13 col2\" >-0.219348</td>\n",
       "                        <td id=\"T_6f0b5_row13_col3\" class=\"data row13 col3\" >-0.220618</td>\n",
       "                        <td id=\"T_6f0b5_row13_col4\" class=\"data row13 col4\" >0.154516</td>\n",
       "                        <td id=\"T_6f0b5_row13_col5\" class=\"data row13 col5\" >0.366587</td>\n",
       "                        <td id=\"T_6f0b5_row13_col6\" class=\"data row13 col6\" >0.409059</td>\n",
       "                        <td id=\"T_6f0b5_row13_col7\" class=\"data row13 col7\" >0.376036</td>\n",
       "                        <td id=\"T_6f0b5_row13_col8\" class=\"data row13 col8\" >0.373513</td>\n",
       "                        <td id=\"T_6f0b5_row13_col9\" class=\"data row13 col9\" >0.217156</td>\n",
       "                        <td id=\"T_6f0b5_row13_col10\" class=\"data row13 col10\" >0.375752</td>\n",
       "                        <td id=\"T_6f0b5_row13_col11\" class=\"data row13 col11\" >0.131702</td>\n",
       "                        <td id=\"T_6f0b5_row13_col12\" class=\"data row13 col12\" >0.441473</td>\n",
       "                        <td id=\"T_6f0b5_row13_col13\" class=\"data row13 col13\" >1.000000</td>\n",
       "                        <td id=\"T_6f0b5_row13_col14\" class=\"data row13 col14\" >0.378798</td>\n",
       "                        <td id=\"T_6f0b5_row13_col15\" class=\"data row13 col15\" >0.287524</td>\n",
       "                        <td id=\"T_6f0b5_row13_col16\" class=\"data row13 col16\" >0.524179</td>\n",
       "            </tr>\n",
       "            <tr>\n",
       "                        <th id=\"T_6f0b5_level0_row14\" class=\"row_heading level0 row14\" >Testing_policy</th>\n",
       "                        <td id=\"T_6f0b5_row14_col0\" class=\"data row14 col0\" >-0.204656</td>\n",
       "                        <td id=\"T_6f0b5_row14_col1\" class=\"data row14 col1\" >-0.163455</td>\n",
       "                        <td id=\"T_6f0b5_row14_col2\" class=\"data row14 col2\" >-0.160590</td>\n",
       "                        <td id=\"T_6f0b5_row14_col3\" class=\"data row14 col3\" >-0.247226</td>\n",
       "                        <td id=\"T_6f0b5_row14_col4\" class=\"data row14 col4\" >0.227946</td>\n",
       "                        <td id=\"T_6f0b5_row14_col5\" class=\"data row14 col5\" >0.087414</td>\n",
       "                        <td id=\"T_6f0b5_row14_col6\" class=\"data row14 col6\" >0.171242</td>\n",
       "                        <td id=\"T_6f0b5_row14_col7\" class=\"data row14 col7\" >-0.130403</td>\n",
       "                        <td id=\"T_6f0b5_row14_col8\" class=\"data row14 col8\" >-0.060192</td>\n",
       "                        <td id=\"T_6f0b5_row14_col9\" class=\"data row14 col9\" >0.028240</td>\n",
       "                        <td id=\"T_6f0b5_row14_col10\" class=\"data row14 col10\" >0.206443</td>\n",
       "                        <td id=\"T_6f0b5_row14_col11\" class=\"data row14 col11\" >-0.004278</td>\n",
       "                        <td id=\"T_6f0b5_row14_col12\" class=\"data row14 col12\" >0.050119</td>\n",
       "                        <td id=\"T_6f0b5_row14_col13\" class=\"data row14 col13\" >0.378798</td>\n",
       "                        <td id=\"T_6f0b5_row14_col14\" class=\"data row14 col14\" >1.000000</td>\n",
       "                        <td id=\"T_6f0b5_row14_col15\" class=\"data row14 col15\" >0.489518</td>\n",
       "                        <td id=\"T_6f0b5_row14_col16\" class=\"data row14 col16\" >-0.043468</td>\n",
       "            </tr>\n",
       "            <tr>\n",
       "                        <th id=\"T_6f0b5_level0_row15\" class=\"row_heading level0 row15\" >Contact_tracing</th>\n",
       "                        <td id=\"T_6f0b5_row15_col0\" class=\"data row15 col0\" >-0.356686</td>\n",
       "                        <td id=\"T_6f0b5_row15_col1\" class=\"data row15 col1\" >0.129029</td>\n",
       "                        <td id=\"T_6f0b5_row15_col2\" class=\"data row15 col2\" >0.021801</td>\n",
       "                        <td id=\"T_6f0b5_row15_col3\" class=\"data row15 col3\" >-0.288952</td>\n",
       "                        <td id=\"T_6f0b5_row15_col4\" class=\"data row15 col4\" >0.087635</td>\n",
       "                        <td id=\"T_6f0b5_row15_col5\" class=\"data row15 col5\" >0.159749</td>\n",
       "                        <td id=\"T_6f0b5_row15_col6\" class=\"data row15 col6\" >-0.004883</td>\n",
       "                        <td id=\"T_6f0b5_row15_col7\" class=\"data row15 col7\" >-0.068536</td>\n",
       "                        <td id=\"T_6f0b5_row15_col8\" class=\"data row15 col8\" >-0.221018</td>\n",
       "                        <td id=\"T_6f0b5_row15_col9\" class=\"data row15 col9\" >-0.052905</td>\n",
       "                        <td id=\"T_6f0b5_row15_col10\" class=\"data row15 col10\" >0.062850</td>\n",
       "                        <td id=\"T_6f0b5_row15_col11\" class=\"data row15 col11\" >0.070233</td>\n",
       "                        <td id=\"T_6f0b5_row15_col12\" class=\"data row15 col12\" >0.074973</td>\n",
       "                        <td id=\"T_6f0b5_row15_col13\" class=\"data row15 col13\" >0.287524</td>\n",
       "                        <td id=\"T_6f0b5_row15_col14\" class=\"data row15 col14\" >0.489518</td>\n",
       "                        <td id=\"T_6f0b5_row15_col15\" class=\"data row15 col15\" >1.000000</td>\n",
       "                        <td id=\"T_6f0b5_row15_col16\" class=\"data row15 col16\" >-0.107416</td>\n",
       "            </tr>\n",
       "            <tr>\n",
       "                        <th id=\"T_6f0b5_level0_row16\" class=\"row_heading level0 row16\" >Stringency_index</th>\n",
       "                        <td id=\"T_6f0b5_row16_col0\" class=\"data row16 col0\" >-0.300026</td>\n",
       "                        <td id=\"T_6f0b5_row16_col1\" class=\"data row16 col1\" >-0.028673</td>\n",
       "                        <td id=\"T_6f0b5_row16_col2\" class=\"data row16 col2\" >-0.157962</td>\n",
       "                        <td id=\"T_6f0b5_row16_col3\" class=\"data row16 col3\" >-0.085272</td>\n",
       "                        <td id=\"T_6f0b5_row16_col4\" class=\"data row16 col4\" >0.263249</td>\n",
       "                        <td id=\"T_6f0b5_row16_col5\" class=\"data row16 col5\" >0.457750</td>\n",
       "                        <td id=\"T_6f0b5_row16_col6\" class=\"data row16 col6\" >0.682772</td>\n",
       "                        <td id=\"T_6f0b5_row16_col7\" class=\"data row16 col7\" >0.529903</td>\n",
       "                        <td id=\"T_6f0b5_row16_col8\" class=\"data row16 col8\" >0.737184</td>\n",
       "                        <td id=\"T_6f0b5_row16_col9\" class=\"data row16 col9\" >0.221040</td>\n",
       "                        <td id=\"T_6f0b5_row16_col10\" class=\"data row16 col10\" >0.595577</td>\n",
       "                        <td id=\"T_6f0b5_row16_col11\" class=\"data row16 col11\" >0.427653</td>\n",
       "                        <td id=\"T_6f0b5_row16_col12\" class=\"data row16 col12\" >0.520893</td>\n",
       "                        <td id=\"T_6f0b5_row16_col13\" class=\"data row16 col13\" >0.524179</td>\n",
       "                        <td id=\"T_6f0b5_row16_col14\" class=\"data row16 col14\" >-0.043468</td>\n",
       "                        <td id=\"T_6f0b5_row16_col15\" class=\"data row16 col15\" >-0.107416</td>\n",
       "                        <td id=\"T_6f0b5_row16_col16\" class=\"data row16 col16\" >1.000000</td>\n",
       "            </tr>\n",
       "    </tbody></table>"
      ],
      "text/plain": [
       "<pandas.io.formats.style.Styler at 0x7f6fd925bb50>"
      ]
     },
     "execution_count": 21,
     "metadata": {},
     "output_type": "execute_result"
    }
   ],
   "source": [
    "# Correlation\n",
    "df = track_df.copy()\n",
    "df.corr().style.background_gradient(axis=None)"
   ]
  },
  {
   "cell_type": "code",
   "execution_count": 22,
   "metadata": {
    "collapsed": false
   },
   "outputs": [
    {
     "data": {
      "image/png": "[encoded data removed]",
      "text/plain": [
       "<Figure size 432x288 with 1 Axes>"
      ]
     },
     "metadata": {},
     "output_type": "display_data"
    }
   ],
   "source": [
    "# Scatter plot of Stringency index and Rt\n",
    "df = track_df.copy()\n",
    "sns.scatterplot(data=df, x=\"Stringency_index\", y=\"Rt\", hue=\"Country\", legend=\"brief\", marker=\"+\")\n",
    "bbox_to_anchor=(1.02, 0)\n",
    "bbox_loc=\"lower left\"\n",
    "plt.legend(bbox_to_anchor=bbox_to_anchor, loc=bbox_loc, borderaxespad=0)\n",
    "plt.title(\"Relationship of Stringency index and reproduction number\")\n",
    "plt.ylabel(\"Reproduction number\")\n",
    "plt.xlabel(\"Stringency index\")\n",
    "plt.show()"
   ]
  }
 ],
 "metadata": {
  "kernelspec": {
   "display_name": "Python 3.8.2 64-bit ('.venv': venv)",
   "name": "python_defaultSpec_1597669925034"
  },
  "language_info": {
   "codemirror_mode": {
    "name": "ipython",
    "version": 3
   },
   "file_extension": ".py",
   "mimetype": "text/x-python",
   "name": "python",
   "nbconvert_exporter": "python",
   "pygments_lexer": "ipython3",
   "version": "3.8.2-final"
  }
 },
 "nbformat": 4,
 "nbformat_minor": 4
}
