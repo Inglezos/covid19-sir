{
 "cells": [
  {
   "cell_type": "markdown",
   "metadata": {},
   "source": [
    "# Usage (details: policy measures)\n",
    "Here, we will analyse the relationship of policy measures and parameter values of SIR-derived ODE models. Policy measures are tracked by [Oxford Covid-19 Government Response Tracker (OxCGRT)](https://github.com/OxCGRT/covid-policy-tracker)."
   ]
  },
  {
   "cell_type": "markdown",
   "metadata": {},
   "source": [
    "## Preparation"
   ]
  },
  {
   "cell_type": "code",
   "execution_count": 1,
   "metadata": {
    "collapsed": false
   },
   "outputs": [],
   "source": [
    "# Standard users\n",
    "# !pip install covsirphy\n",
    "# Developers (Note: this notebook is in example directory)\n",
    "import os\n",
    "os.chdir(\"../\")"
   ]
  },
  {
   "cell_type": "code",
   "execution_count": 2,
   "metadata": {
    "collapsed": false
   },
   "outputs": [],
   "source": [
    "from pprint import pprint"
   ]
  },
  {
   "cell_type": "code",
   "execution_count": 3,
   "metadata": {
    "collapsed": false
   },
   "outputs": [
    {
     "data": {
      "text/plain": [
       "'2.13.3-epsilon.new.420.422.429.fix.438.441'"
      ]
     },
     "execution_count": 3,
     "metadata": {},
     "output_type": "execute_result"
    }
   ],
   "source": [
    "import covsirphy as cs\n",
    "cs.__version__"
   ]
  },
  {
   "cell_type": "code",
   "execution_count": 4,
   "metadata": {
    "collapsed": false,
    "tags": []
   },
   "outputs": [
    {
     "name": "stdout",
     "output_type": "stream",
     "text": [
      "(Secondary source) Guidotti, E., Ardia, D., (2020), \"COVID-19 Data Hub\", Journal of Open Source Software 5(51):2376, doi: 10.21105/joss.02376.\n"
     ]
    }
   ],
   "source": [
    "# Standard users and developers\n",
    "data_loader = cs.DataLoader(\"input\")\n",
    "# The number of cases (JHU style)\n",
    "jhu_data = data_loader.jhu(verbose=False)\n",
    "# Population in each country\n",
    "population_data = data_loader.population(verbose=False)\n",
    "# Government Response Tracker (OxCGRT)\n",
    "oxcgrt_data = data_loader.oxcgrt(verbose=False)\n",
    "# Description/citation\n",
    "print(oxcgrt_data.citation)"
   ]
  },
  {
   "cell_type": "markdown",
   "metadata": {},
   "source": [
    "## Class for policy measure analysis\n",
    "We will `PolicyMeasures` class to find relationship of policy measures and parameter values of SIR-derived ODE models."
   ]
  },
  {
   "cell_type": "code",
   "execution_count": 5,
   "metadata": {
    "collapsed": false,
    "tags": []
   },
   "outputs": [
    {
     "data": {
      "text/plain": [
       "196"
      ]
     },
     "execution_count": 5,
     "metadata": {},
     "output_type": "execute_result"
    }
   ],
   "source": [
    "# Create analyser with tau value 360 [min] (can be changed)\n",
    "analyser = cs.PolicyMeasures(jhu_data, population_data, oxcgrt_data, tau=360)\n",
    "# The number of registerd countries\n",
    "len(analyser.countries)"
   ]
  },
  {
   "cell_type": "code",
   "execution_count": 6,
   "metadata": {
    "collapsed": false
   },
   "outputs": [
    {
     "data": {
      "text/plain": [
       "covsirphy.analysis.scenario.Scenario"
      ]
     },
     "execution_count": 6,
     "metadata": {},
     "output_type": "execute_result"
    }
   ],
   "source": [
    "# We can get Scenario instance for detailed scenario analysis\n",
    "type(analyser.scenario(\"Japan\"))"
   ]
  },
  {
   "cell_type": "markdown",
   "metadata": {},
   "source": [
    "## Set phases with S-R trend analysis\n",
    "We will perform S-R trend analysis to set phases in all countries. Countries which do not have **16th phases** will be un-registered for the next analysis. This number will be adjusted for your analysis."
   ]
  },
  {
   "cell_type": "code",
   "execution_count": 7,
   "metadata": {
    "collapsed": false
   },
   "outputs": [
    {
     "name": "stdout",
     "output_type": "stream",
     "text": [
      "{2: ['Holy See', 'Solomon Islands'],\n",
      " 3: ['Timor-Leste', 'Saint Kitts and Nevis', 'Laos'],\n",
      " 4: ['Brunei', 'Dominica', 'Fiji'],\n",
      " 5: ['Grenada', 'Tanzania', 'Saint Lucia', 'Equatorial Guinea'],\n",
      " 6: ['Mauritius', 'Antigua and Barbuda', 'Cambodia'],\n",
      " 7: ['Saint Vincent and the Grenadines'],\n",
      " 8: ['Gambia', 'Monaco', 'Bahamas', 'Kyrgyzstan', 'Sao Tome and Principe',\n",
      "     'Trinidad and Tobago', 'Liechtenstein', 'Seychelles', 'Madagascar',\n",
      "     'Vietnam', 'Northern Mariana Islands'],\n",
      " 9: ['Republic of the Congo', 'Zimbabwe', 'Australia', 'Kazakhstan', 'Oman',\n",
      "     'Djibouti', 'Ghana', 'Zambia', 'Suriname', 'Lesotho', 'Uzbekistan',\n",
      "     'Malawi', 'Barbados', 'Bhutan', 'Bolivia'],\n",
      " 10: ['Benin', 'Venezuela', 'Burundi', 'Philippines', 'Honduras', 'Namibia',\n",
      "      'Botswana', 'Swaziland', 'Mongolia', 'Belize', 'Virgin Islands, U.S.',\n",
      "      'Chile', 'Guyana', 'Ethiopia', 'Mozambique', 'Comoros', 'Maldives',\n",
      "      'Kenya', 'Guam', 'Kuwait', 'South Sudan', 'Angola', 'Jamaica',\n",
      "      'Papua New Guinea', 'Saudi Arabia', 'Libya', 'South Africa', 'Bahrain',\n",
      "      'Senegal', 'Guatemala', 'Singapore', 'Cape Verde', 'India',\n",
      "      \"Cote d'Ivoire\"],\n",
      " 11: ['Togo', 'Yemen', 'Nigeria', 'Costa Rica', 'Paraguay', 'Algeria',\n",
      "      'Bangladesh', 'Peru', 'Colombia', 'Taiwan', 'Mexico', 'Egypt',\n",
      "      'New Zealand', 'Iceland', 'Syria', 'Bermuda', 'Puerto Rico', 'Gabon',\n",
      "      'Iraq', 'Cameroon', 'Nepal', 'Rwanda', 'Brazil', 'El Salvador', 'Eritrea',\n",
      "      'Nicaragua', 'Israel', 'Burkina Faso', 'Pakistan', 'Dominican Republic',\n",
      "      'Argentina', 'Sierra Leone', 'Liberia'],\n",
      " 12: ['Guinea', 'Azerbaijan', 'Hungary', 'Uganda', 'Andorra', 'Panama', 'Qatar',\n",
      "      'Montenegro', 'Chad', 'Japan', 'Slovenia', 'Slovakia', 'Georgia', 'China',\n",
      "      'San Marino', 'Somalia', 'Central African Republic', 'Malta', 'Ecuador',\n",
      "      'Guinea-Bissau', 'Sudan', 'Jordan'],\n",
      " 13: ['Serbia', 'Niger', 'United Arab Emirates', 'Moldova', 'Haiti',\n",
      "      'Tajikistan', 'Afghanistan', 'Armenia', 'Palestine', 'Russia', 'Mali',\n",
      "      'Cuba', 'Democratic Republic of the Congo', 'Indonesia', 'Belarus',\n",
      "      'Kosovo'],\n",
      " 14: ['Thailand', 'Tunisia', 'Luxembourg', 'Cyprus', 'Bosnia and Herzegovina',\n",
      "      'Poland', 'Ireland', 'Morocco', 'Estonia', 'Uruguay', 'Mauritania',\n",
      "      'Myanmar', 'Malaysia', 'Lithuania', 'Bulgaria', 'Spain', 'Croatia',\n",
      "      'United States', 'Sri Lanka', 'Latvia', 'Greece'],\n",
      " 15: ['Iran', 'Turkey', 'Italy', 'Czech Republic', 'Switzerland', 'Lebanon',\n",
      "      'Ukraine', 'North Macedonia', 'Albania'],\n",
      " 16: ['Canada', 'Denmark', 'Belgium', 'Austria', 'Portugal', 'Sweden',\n",
      "      'Germany', 'Finland', 'France'],\n",
      " 17: ['Romania', 'United Kingdom', 'Netherlands'],\n",
      " 18: ['Norway']}\n"
     ]
    }
   ],
   "source": [
    "# Show the number of phases of all countries\n",
    "analyser.trend()\n",
    "pprint(analyser.phase_len(), compact=True)"
   ]
  },
  {
   "cell_type": "code",
   "execution_count": 8,
   "metadata": {
    "collapsed": false
   },
   "outputs": [
    {
     "data": {
      "text/plain": [
       "13"
      ]
     },
     "execution_count": 8,
     "metadata": {},
     "output_type": "execute_result"
    }
   ],
   "source": [
    "# Set phases with S-R trend analysis\n",
    "analyser.trend(min_len=16)\n",
    "# The number of countries\n",
    "len(analyser.countries)"
   ]
  },
  {
   "cell_type": "code",
   "execution_count": 9,
   "metadata": {
    "collapsed": false,
    "tags": []
   },
   "outputs": [
    {
     "name": "stdout",
     "output_type": "stream",
     "text": [
      "{16: ['Canada', 'Denmark', 'Belgium', 'Austria', 'Portugal', 'Sweden',\n",
      "      'Germany', 'Finland', 'France'],\n",
      " 17: ['Romania', 'United Kingdom', 'Netherlands'],\n",
      " 18: ['Norway']}\n"
     ]
    }
   ],
   "source": [
    "phase_len_dict = analyser.phase_len()\n",
    "pprint(phase_len_dict, compact=True)"
   ]
  },
  {
   "cell_type": "code",
   "execution_count": 10,
   "metadata": {
    "collapsed": false,
    "tags": []
   },
   "outputs": [
    {
     "data": {
      "text/html": [
       "<div>\n",
       "<style scoped>\n",
       "    .dataframe tbody tr th:only-of-type {\n",
       "        vertical-align: middle;\n",
       "    }\n",
       "\n",
       "    .dataframe tbody tr th {\n",
       "        vertical-align: top;\n",
       "    }\n",
       "\n",
       "    .dataframe thead th {\n",
       "        text-align: right;\n",
       "    }\n",
       "</style>\n",
       "<table border=\"1\" class=\"dataframe\">\n",
       "  <thead>\n",
       "    <tr style=\"text-align: right;\">\n",
       "      <th></th>\n",
       "      <th></th>\n",
       "      <th>Type</th>\n",
       "      <th>Start</th>\n",
       "      <th>End</th>\n",
       "      <th>Population</th>\n",
       "    </tr>\n",
       "    <tr>\n",
       "      <th>Country</th>\n",
       "      <th>Phase</th>\n",
       "      <th></th>\n",
       "      <th></th>\n",
       "      <th></th>\n",
       "      <th></th>\n",
       "    </tr>\n",
       "  </thead>\n",
       "  <tbody>\n",
       "    <tr>\n",
       "      <th rowspan=\"18\" valign=\"top\">Norway</th>\n",
       "      <th>0th</th>\n",
       "      <td>Past</td>\n",
       "      <td>15Mar2020</td>\n",
       "      <td>24Mar2020</td>\n",
       "      <td>5311916</td>\n",
       "    </tr>\n",
       "    <tr>\n",
       "      <th>1st</th>\n",
       "      <td>Past</td>\n",
       "      <td>25Mar2020</td>\n",
       "      <td>02Apr2020</td>\n",
       "      <td>5311916</td>\n",
       "    </tr>\n",
       "    <tr>\n",
       "      <th>2nd</th>\n",
       "      <td>Past</td>\n",
       "      <td>03Apr2020</td>\n",
       "      <td>20Apr2020</td>\n",
       "      <td>5311916</td>\n",
       "    </tr>\n",
       "    <tr>\n",
       "      <th>3rd</th>\n",
       "      <td>Past</td>\n",
       "      <td>21Apr2020</td>\n",
       "      <td>02Jun2020</td>\n",
       "      <td>5311916</td>\n",
       "    </tr>\n",
       "    <tr>\n",
       "      <th>4th</th>\n",
       "      <td>Past</td>\n",
       "      <td>03Jun2020</td>\n",
       "      <td>09Aug2020</td>\n",
       "      <td>5311916</td>\n",
       "    </tr>\n",
       "    <tr>\n",
       "      <th>5th</th>\n",
       "      <td>Past</td>\n",
       "      <td>10Aug2020</td>\n",
       "      <td>04Sep2020</td>\n",
       "      <td>5311916</td>\n",
       "    </tr>\n",
       "    <tr>\n",
       "      <th>6th</th>\n",
       "      <td>Past</td>\n",
       "      <td>05Sep2020</td>\n",
       "      <td>20Sep2020</td>\n",
       "      <td>5311916</td>\n",
       "    </tr>\n",
       "    <tr>\n",
       "      <th>7th</th>\n",
       "      <td>Past</td>\n",
       "      <td>21Sep2020</td>\n",
       "      <td>05Oct2020</td>\n",
       "      <td>5311916</td>\n",
       "    </tr>\n",
       "    <tr>\n",
       "      <th>8th</th>\n",
       "      <td>Past</td>\n",
       "      <td>06Oct2020</td>\n",
       "      <td>20Oct2020</td>\n",
       "      <td>5311916</td>\n",
       "    </tr>\n",
       "    <tr>\n",
       "      <th>9th</th>\n",
       "      <td>Past</td>\n",
       "      <td>21Oct2020</td>\n",
       "      <td>28Oct2020</td>\n",
       "      <td>5311916</td>\n",
       "    </tr>\n",
       "    <tr>\n",
       "      <th>10th</th>\n",
       "      <td>Past</td>\n",
       "      <td>29Oct2020</td>\n",
       "      <td>03Nov2020</td>\n",
       "      <td>5311916</td>\n",
       "    </tr>\n",
       "    <tr>\n",
       "      <th>11th</th>\n",
       "      <td>Past</td>\n",
       "      <td>04Nov2020</td>\n",
       "      <td>09Nov2020</td>\n",
       "      <td>5311916</td>\n",
       "    </tr>\n",
       "    <tr>\n",
       "      <th>12th</th>\n",
       "      <td>Past</td>\n",
       "      <td>10Nov2020</td>\n",
       "      <td>15Nov2020</td>\n",
       "      <td>5311916</td>\n",
       "    </tr>\n",
       "    <tr>\n",
       "      <th>13th</th>\n",
       "      <td>Past</td>\n",
       "      <td>16Nov2020</td>\n",
       "      <td>22Nov2020</td>\n",
       "      <td>5311916</td>\n",
       "    </tr>\n",
       "    <tr>\n",
       "      <th>14th</th>\n",
       "      <td>Past</td>\n",
       "      <td>23Nov2020</td>\n",
       "      <td>29Nov2020</td>\n",
       "      <td>5311916</td>\n",
       "    </tr>\n",
       "    <tr>\n",
       "      <th>15th</th>\n",
       "      <td>Past</td>\n",
       "      <td>30Nov2020</td>\n",
       "      <td>06Dec2020</td>\n",
       "      <td>5311916</td>\n",
       "    </tr>\n",
       "    <tr>\n",
       "      <th>16th</th>\n",
       "      <td>Past</td>\n",
       "      <td>07Dec2020</td>\n",
       "      <td>13Dec2020</td>\n",
       "      <td>5311916</td>\n",
       "    </tr>\n",
       "    <tr>\n",
       "      <th>17th</th>\n",
       "      <td>Past</td>\n",
       "      <td>14Dec2020</td>\n",
       "      <td>20Dec2020</td>\n",
       "      <td>5311916</td>\n",
       "    </tr>\n",
       "  </tbody>\n",
       "</table>\n",
       "</div>"
      ],
      "text/plain": [
       "               Type      Start        End  Population\n",
       "Country Phase                                        \n",
       "Norway  0th    Past  15Mar2020  24Mar2020     5311916\n",
       "        1st    Past  25Mar2020  02Apr2020     5311916\n",
       "        2nd    Past  03Apr2020  20Apr2020     5311916\n",
       "        3rd    Past  21Apr2020  02Jun2020     5311916\n",
       "        4th    Past  03Jun2020  09Aug2020     5311916\n",
       "        5th    Past  10Aug2020  04Sep2020     5311916\n",
       "        6th    Past  05Sep2020  20Sep2020     5311916\n",
       "        7th    Past  21Sep2020  05Oct2020     5311916\n",
       "        8th    Past  06Oct2020  20Oct2020     5311916\n",
       "        9th    Past  21Oct2020  28Oct2020     5311916\n",
       "        10th   Past  29Oct2020  03Nov2020     5311916\n",
       "        11th   Past  04Nov2020  09Nov2020     5311916\n",
       "        12th   Past  10Nov2020  15Nov2020     5311916\n",
       "        13th   Past  16Nov2020  22Nov2020     5311916\n",
       "        14th   Past  23Nov2020  29Nov2020     5311916\n",
       "        15th   Past  30Nov2020  06Dec2020     5311916\n",
       "        16th   Past  07Dec2020  13Dec2020     5311916\n",
       "        17th   Past  14Dec2020  20Dec2020     5311916"
      ]
     },
     "execution_count": 10,
     "metadata": {},
     "output_type": "execute_result"
    }
   ],
   "source": [
    "# Here, only show the countries which have the most phases\n",
    "countries_show = max(phase_len_dict.items(), key=lambda x: x[0])[1]\n",
    "# Show summary\n",
    "analyser.summary(countries=countries_show)"
   ]
  },
  {
   "cell_type": "markdown",
   "metadata": {},
   "source": [
    "## Parameter estimation\n",
    "we will estimate the parameter values with SIR-derived ODE models in each country."
   ]
  },
  {
   "cell_type": "code",
   "execution_count": 11,
   "metadata": {
    "collapsed": false,
    "tags": []
   },
   "outputs": [
    {
     "name": "stdout",
     "output_type": "stream",
     "text": [
      "\n",
      "<SIR-F model: parameter estimation>\n",
      "Running optimization with 4 CPUs...\n"
     ]
    },
    {
     "name": "stdout",
     "output_type": "stream",
     "text": [
      "\tDNK,  7th phase (13Oct2020 - 22Oct2020): finished  362 trials in 0 min 10 sec"
     ]
    },
    {
     "name": "stdout",
     "output_type": "stream",
     "text": [
      "\n"
     ]
    },
    {
     "name": "stdout",
     "output_type": "stream",
     "text": [
      "\tFIN,  3rd phase (05May2020 - 26May2020): finished  357 trials in 0 min 10 sec"
     ]
    },
    {
     "name": "stdout",
     "output_type": "stream",
     "text": [
      "\n"
     ]
    },
    {
     "name": "stdout",
     "output_type": "stream",
     "text": [
      "\tNLD, 12th phase (14Nov2020 - 19Nov2020): finished  364 trials in 0 min 10 sec"
     ]
    },
    {
     "name": "stdout",
     "output_type": "stream",
     "text": [
      "\n"
     ]
    },
    {
     "name": "stdout",
     "output_type": "stream",
     "text": [
      "\tCAN,  4th phase (03Jun2020 - 22Jul2020): finished  349 trials in 0 min 10 sec"
     ]
    },
    {
     "name": "stdout",
     "output_type": "stream",
     "text": [
      "\n"
     ]
    },
    {
     "name": "stdout",
     "output_type": "stream",
     "text": [
      "\tPRT, 12th phase (13Nov2020 - 22Nov2020): finished  349 trials in 0 min 10 sec"
     ]
    },
    {
     "name": "stdout",
     "output_type": "stream",
     "text": [
      "\n"
     ]
    },
    {
     "name": "stdout",
     "output_type": "stream",
     "text": [
      "\tCAN,  3rd phase (12May2020 - 02Jun2020): finished  342 trials in 0 min 10 sec"
     ]
    },
    {
     "name": "stdout",
     "output_type": "stream",
     "text": [
      "\n"
     ]
    },
    {
     "name": "stdout",
     "output_type": "stream",
     "text": [
      "\tPRT,  0th phase (14Mar2020 - 03Apr2020): finished  339 trials in 0 min 10 sec"
     ]
    },
    {
     "name": "stdout",
     "output_type": "stream",
     "text": [
      "\n"
     ]
    },
    {
     "name": "stdout",
     "output_type": "stream",
     "text": [
      "\tSWE,  5th phase (05Aug2020 - 22Sep2020): finished  334 trials in 0 min 10 sec"
     ]
    },
    {
     "name": "stdout",
     "output_type": "stream",
     "text": [
      "\n"
     ]
    },
    {
     "name": "stdout",
     "output_type": "stream",
     "text": [
      "\tGBR, 11th phase (04Nov2020 - 10Nov2020): finished  327 trials in 0 min 10 sec"
     ]
    },
    {
     "name": "stdout",
     "output_type": "stream",
     "text": [
      "\n"
     ]
    },
    {
     "name": "stdout",
     "output_type": "stream",
     "text": [
      "\tNLD,  9th phase (19Oct2020 - 28Oct2020): finished  323 trials in 0 min 10 sec"
     ]
    },
    {
     "name": "stdout",
     "output_type": "stream",
     "text": [
      "\n"
     ]
    },
    {
     "name": "stdout",
     "output_type": "stream",
     "text": [
      "\tROU, 16th phase (14Dec2020 - 20Dec2020): finished  324 trials in 0 min 10 sec"
     ]
    },
    {
     "name": "stdout",
     "output_type": "stream",
     "text": [
      "\n"
     ]
    },
    {
     "name": "stdout",
     "output_type": "stream",
     "text": [
      "\tGBR, 16th phase (09Dec2020 - 20Dec2020): finished  323 trials in 0 min 10 sec"
     ]
    },
    {
     "name": "stdout",
     "output_type": "stream",
     "text": [
      "\n"
     ]
    },
    {
     "name": "stdout",
     "output_type": "stream",
     "text": [
      "\tFIN,  5th phase (19Aug2020 - 20Sep2020): finished  319 trials in 0 min 10 sec"
     ]
    },
    {
     "name": "stdout",
     "output_type": "stream",
     "text": [
      "\n"
     ]
    },
    {
     "name": "stdout",
     "output_type": "stream",
     "text": [
      "\tDEU,  5th phase (16Aug2020 - 15Sep2020): finished  317 trials in 0 min 10 sec"
     ]
    },
    {
     "name": "stdout",
     "output_type": "stream",
     "text": [
      "\n"
     ]
    },
    {
     "name": "stdout",
     "output_type": "stream",
     "text": [
      "\tAUT, 11th phase (10Nov2020 - 19Nov2020): finished  324 trials in 0 min 10 sec"
     ]
    },
    {
     "name": "stdout",
     "output_type": "stream",
     "text": [
      "\n"
     ]
    },
    {
     "name": "stdout",
     "output_type": "stream",
     "text": [
      "\tGBR,  0th phase (23Feb2020 - 08Apr2020): finished  314 trials in 0 min 10 sec"
     ]
    },
    {
     "name": "stdout",
     "output_type": "stream",
     "text": [
      "\n"
     ]
    },
    {
     "name": "stdout",
     "output_type": "stream",
     "text": [
      "\tAUT, 12th phase (20Nov2020 - 30Nov2020): finished  327 trials in 0 min 10 sec"
     ]
    },
    {
     "name": "stdout",
     "output_type": "stream",
     "text": [
      "\n"
     ]
    },
    {
     "name": "stdout",
     "output_type": "stream",
     "text": [
      "\tFIN,  9th phase (24Oct2020 - 02Nov2020): finished  325 trials in 0 min 10 sec"
     ]
    },
    {
     "name": "stdout",
     "output_type": "stream",
     "text": [
      "\n"
     ]
    },
    {
     "name": "stdout",
     "output_type": "stream",
     "text": [
      "\tNOR, 14th phase (23Nov2020 - 29Nov2020): finished  327 trials in 0 min 10 sec"
     ]
    },
    {
     "name": "stdout",
     "output_type": "stream",
     "text": [
      "\n"
     ]
    },
    {
     "name": "stdout",
     "output_type": "stream",
     "text": [
      "\tNOR,  0th phase (15Mar2020 - 24Mar2020): finished  328 trials in 0 min 10 sec"
     ]
    },
    {
     "name": "stdout",
     "output_type": "stream",
     "text": [
      "\n"
     ]
    },
    {
     "name": "stdout",
     "output_type": "stream",
     "text": [
      "\tROU,  7th phase (12Oct2020 - 20Oct2020): finished  285 trials in 0 min 10 sec"
     ]
    },
    {
     "name": "stdout",
     "output_type": "stream",
     "text": [
      "\n"
     ]
    },
    {
     "name": "stdout",
     "output_type": "stream",
     "text": [
      "\tFRA,  7th phase (01Oct2020 - 08Oct2020): finished  277 trials in 0 min 10 sec"
     ]
    },
    {
     "name": "stdout",
     "output_type": "stream",
     "text": [
      "\n"
     ]
    },
    {
     "name": "stdout",
     "output_type": "stream",
     "text": [
      "\tFRA, 14th phase (27Nov2020 - 08Dec2020): finished  278 trials in 0 min 10 sec"
     ]
    },
    {
     "name": "stdout",
     "output_type": "stream",
     "text": [
      "\n"
     ]
    },
    {
     "name": "stdout",
     "output_type": "stream",
     "text": [
      "\tROU,  9th phase (29Oct2020 - 04Nov2020): finished  293 trials in 0 min 10 sec"
     ]
    },
    {
     "name": "stdout",
     "output_type": "stream",
     "text": [
      "\n"
     ]
    },
    {
     "name": "stdout",
     "output_type": "stream",
     "text": [
      "\tAUT,  6th phase (23Sep2020 - 04Oct2020): finished  322 trials in 0 min 10 sec"
     ]
    },
    {
     "name": "stdout",
     "output_type": "stream",
     "text": [
      "\n"
     ]
    },
    {
     "name": "stdout",
     "output_type": "stream",
     "text": [
      "\tFRA, 11th phase (01Nov2020 - 10Nov2020): finished  322 trials in 0 min 10 sec"
     ]
    },
    {
     "name": "stdout",
     "output_type": "stream",
     "text": [
      "\n"
     ]
    },
    {
     "name": "stdout",
     "output_type": "stream",
     "text": [
      "\tCAN,  9th phase (25Oct2020 - 04Nov2020): finished  322 trials in 0 min 10 sec"
     ]
    },
    {
     "name": "stdout",
     "output_type": "stream",
     "text": [
      "\n"
     ]
    },
    {
     "name": "stdout",
     "output_type": "stream",
     "text": [
      "\tDEU,  9th phase (27Oct2020 - 01Nov2020): finished  326 trials in 0 min 10 sec"
     ]
    },
    {
     "name": "stdout",
     "output_type": "stream",
     "text": [
      "\n"
     ]
    },
    {
     "name": "stdout",
     "output_type": "stream",
     "text": [
      "\tGBR, 12th phase (11Nov2020 - 16Nov2020): finished  324 trials in 0 min 10 sec"
     ]
    },
    {
     "name": "stdout",
     "output_type": "stream",
     "text": [
      "\n"
     ]
    },
    {
     "name": "stdout",
     "output_type": "stream",
     "text": [
      "\tROU,  3rd phase (31Jul2020 - 19Aug2020): finished  318 trials in 0 min 10 sec"
     ]
    },
    {
     "name": "stdout",
     "output_type": "stream",
     "text": [
      "\n"
     ]
    },
    {
     "name": "stdout",
     "output_type": "stream",
     "text": [
      "\tCAN, 12th phase (22Nov2020 - 28Nov2020): finished  320 trials in 0 min 10 sec"
     ]
    },
    {
     "name": "stdout",
     "output_type": "stream",
     "text": [
      "\n"
     ]
    },
    {
     "name": "stdout",
     "output_type": "stream",
     "text": [
      "\tDEU,  3rd phase (23Apr2020 - 17Jun2020): finished  307 trials in 0 min 10 sec"
     ]
    },
    {
     "name": "stdout",
     "output_type": "stream",
     "text": [
      "\n"
     ]
    },
    {
     "name": "stdout",
     "output_type": "stream",
     "text": [
      "\tROU,  5th phase (10Sep2020 - 29Sep2020): finished  298 trials in 0 min 10 sec"
     ]
    },
    {
     "name": "stdout",
     "output_type": "stream",
     "text": [
      "\n"
     ]
    },
    {
     "name": "stdout",
     "output_type": "stream",
     "text": [
      "\tDEU,  1st phase (24Mar2020 - 04Apr2020): finished  306 trials in 0 min 10 sec"
     ]
    },
    {
     "name": "stdout",
     "output_type": "stream",
     "text": [
      "\n"
     ]
    },
    {
     "name": "stdout",
     "output_type": "stream",
     "text": [
      "\tROU, 14th phase (02Dec2020 - 07Dec2020): finished  309 trials in 0 min 10 sec"
     ]
    },
    {
     "name": "stdout",
     "output_type": "stream",
     "text": [
      "\n"
     ]
    },
    {
     "name": "stdout",
     "output_type": "stream",
     "text": [
      "\tBEL, 12th phase (09Nov2020 - 15Nov2020): finished  311 trials in 0 min 10 sec"
     ]
    },
    {
     "name": "stdout",
     "output_type": "stream",
     "text": [
      "\n"
     ]
    },
    {
     "name": "stdout",
     "output_type": "stream",
     "text": [
      "\tBEL,  8th phase (06Oct2020 - 11Oct2020): finished  308 trials in 0 min 10 sec"
     ]
    },
    {
     "name": "stdout",
     "output_type": "stream",
     "text": [
      "\n"
     ]
    },
    {
     "name": "stdout",
     "output_type": "stream",
     "text": [
      "\tBEL,  1st phase (02Apr2020 - 14Apr2020): finished  303 trials in 0 min 10 sec"
     ]
    },
    {
     "name": "stdout",
     "output_type": "stream",
     "text": [
      "\n"
     ]
    },
    {
     "name": "stdout",
     "output_type": "stream",
     "text": [
      "\tROU, 13th phase (25Nov2020 - 01Dec2020): finished  312 trials in 0 min 10 sec"
     ]
    },
    {
     "name": "stdout",
     "output_type": "stream",
     "text": [
      "\n"
     ]
    },
    {
     "name": "stdout",
     "output_type": "stream",
     "text": [
      "\tPRT,  3rd phase (02Jun2020 - 02Jul2020): finished  303 trials in 0 min 10 sec"
     ]
    },
    {
     "name": "stdout",
     "output_type": "stream",
     "text": [
      "\n"
     ]
    },
    {
     "name": "stdout",
     "output_type": "stream",
     "text": [
      "\tBEL,  6th phase (15Sep2020 - 27Sep2020): finished  306 trials in 0 min 10 sec"
     ]
    },
    {
     "name": "stdout",
     "output_type": "stream",
     "text": [
      "\n"
     ]
    },
    {
     "name": "stdout",
     "output_type": "stream",
     "text": [
      "\tNLD,  7th phase (02Oct2020 - 08Oct2020): finished  311 trials in 0 min 10 sec"
     ]
    },
    {
     "name": "stdout",
     "output_type": "stream",
     "text": [
      "\n"
     ]
    },
    {
     "name": "stdout",
     "output_type": "stream",
     "text": [
      "\tCAN,  1st phase (09Apr2020 - 24Apr2020): finished  309 trials in 0 min 10 sec"
     ]
    },
    {
     "name": "stdout",
     "output_type": "stream",
     "text": [
      "\n"
     ]
    },
    {
     "name": "stdout",
     "output_type": "stream",
     "text": [
      "\tCAN,  8th phase (12Oct2020 - 24Oct2020): finished  308 trials in 0 min 10 sec"
     ]
    },
    {
     "name": "stdout",
     "output_type": "stream",
     "text": [
      "\n"
     ]
    },
    {
     "name": "stdout",
     "output_type": "stream",
     "text": [
      "\tFRA,  3rd phase (31Jul2020 - 26Aug2020): finished  307 trials in 0 min 10 sec"
     ]
    },
    {
     "name": "stdout",
     "output_type": "stream",
     "text": [
      "\n"
     ]
    },
    {
     "name": "stdout",
     "output_type": "stream",
     "text": [
      "\tNLD, 14th phase (27Nov2020 - 03Dec2020): finished  310 trials in 0 min 10 sec"
     ]
    },
    {
     "name": "stdout",
     "output_type": "stream",
     "text": [
      "\n"
     ]
    },
    {
     "name": "stdout",
     "output_type": "stream",
     "text": [
      "\tNOR, 12th phase (10Nov2020 - 15Nov2020): finished  307 trials in 0 min 10 sec"
     ]
    },
    {
     "name": "stdout",
     "output_type": "stream",
     "text": [
      "\n"
     ]
    },
    {
     "name": "stdout",
     "output_type": "stream",
     "text": [
      "\tDEU,  4th phase (18Jun2020 - 15Aug2020): finished  297 trials in 0 min 10 sec"
     ]
    },
    {
     "name": "stdout",
     "output_type": "stream",
     "text": [
      "\n"
     ]
    },
    {
     "name": "stdout",
     "output_type": "stream",
     "text": [
      "\tNOR,  5th phase (10Aug2020 - 04Sep2020): finished  303 trials in 0 min 10 sec"
     ]
    },
    {
     "name": "stdout",
     "output_type": "stream",
     "text": [
      "\n"
     ]
    },
    {
     "name": "stdout",
     "output_type": "stream",
     "text": [
      "\tNOR,  2nd phase (03Apr2020 - 20Apr2020): finished  300 trials in 0 min 10 sec"
     ]
    },
    {
     "name": "stdout",
     "output_type": "stream",
     "text": [
      "\n"
     ]
    },
    {
     "name": "stdout",
     "output_type": "stream",
     "text": [
      "\tNOR,  4th phase (03Jun2020 - 09Aug2020): finished  287 trials in 0 min 10 sec"
     ]
    },
    {
     "name": "stdout",
     "output_type": "stream",
     "text": [
      "\n"
     ]
    },
    {
     "name": "stdout",
     "output_type": "stream",
     "text": [
      "\tPRT,  5th phase (12Aug2020 - 11Sep2020): finished  299 trials in 0 min 10 sec"
     ]
    },
    {
     "name": "stdout",
     "output_type": "stream",
     "text": [
      "\n"
     ]
    },
    {
     "name": "stdout",
     "output_type": "stream",
     "text": [
      "\tSWE,  7th phase (15Oct2020 - 27Oct2020): finished  310 trials in 0 min 10 sec"
     ]
    },
    {
     "name": "stdout",
     "output_type": "stream",
     "text": [
      "\n"
     ]
    },
    {
     "name": "stdout",
     "output_type": "stream",
     "text": [
      "\tDNK,  2nd phase (20May2020 - 06Aug2020): finished  280 trials in 0 min 10 sec"
     ]
    },
    {
     "name": "stdout",
     "output_type": "stream",
     "text": [
      "\n"
     ]
    },
    {
     "name": "stdout",
     "output_type": "stream",
     "text": [
      "\tPRT,  4th phase (03Jul2020 - 11Aug2020): finished  295 trials in 0 min 10 sec"
     ]
    },
    {
     "name": "stdout",
     "output_type": "stream",
     "text": [
      "\n"
     ]
    },
    {
     "name": "stdout",
     "output_type": "stream",
     "text": [
      "\tBEL,  4th phase (28Jul2020 - 22Aug2020): finished  291 trials in 0 min 10 sec"
     ]
    },
    {
     "name": "stdout",
     "output_type": "stream",
     "text": [
      "\n"
     ]
    },
    {
     "name": "stdout",
     "output_type": "stream",
     "text": [
      "\tGBR,  2nd phase (30Apr2020 - 22May2020): finished  289 trials in 0 min 10 sec"
     ]
    },
    {
     "name": "stdout",
     "output_type": "stream",
     "text": [
      "\n"
     ]
    },
    {
     "name": "stdout",
     "output_type": "stream",
     "text": [
      "\tNLD, 13th phase (20Nov2020 - 26Nov2020): finished  297 trials in 0 min 10 sec"
     ]
    },
    {
     "name": "stdout",
     "output_type": "stream",
     "text": [
      "\n"
     ]
    },
    {
     "name": "stdout",
     "output_type": "stream",
     "text": [
      "\tNLD, 11th phase (08Nov2020 - 13Nov2020): finished  297 trials in 0 min 10 sec"
     ]
    },
    {
     "name": "stdout",
     "output_type": "stream",
     "text": [
      "\n"
     ]
    },
    {
     "name": "stdout",
     "output_type": "stream",
     "text": [
      "\tAUT, 13th phase (01Dec2020 - 06Dec2020): finished  300 trials in 0 min 10 sec"
     ]
    },
    {
     "name": "stdout",
     "output_type": "stream",
     "text": [
      "\n"
     ]
    },
    {
     "name": "stdout",
     "output_type": "stream",
     "text": [
      "\tAUT,  4th phase (19Aug2020 - 09Sep2020): finished  310 trials in 0 min 10 sec"
     ]
    },
    {
     "name": "stdout",
     "output_type": "stream",
     "text": [
      "\n"
     ]
    },
    {
     "name": "stdout",
     "output_type": "stream",
     "text": [
      "\tFIN, 13th phase (26Nov2020 - 01Dec2020): finished  317 trials in 0 min 10 sec"
     ]
    },
    {
     "name": "stdout",
     "output_type": "stream",
     "text": [
      "\n"
     ]
    },
    {
     "name": "stdout",
     "output_type": "stream",
     "text": [
      "\tGBR,  6th phase (24Sep2020 - 04Oct2020): finished  311 trials in 0 min 10 sec"
     ]
    },
    {
     "name": "stdout",
     "output_type": "stream",
     "text": [
      "\n"
     ]
    },
    {
     "name": "stdout",
     "output_type": "stream",
     "text": [
      "\tFIN, 10th phase (03Nov2020 - 11Nov2020): finished  313 trials in 0 min 10 sec"
     ]
    },
    {
     "name": "stdout",
     "output_type": "stream",
     "text": [
      "\n"
     ]
    },
    {
     "name": "stdout",
     "output_type": "stream",
     "text": [
      "\tFIN,  8th phase (14Oct2020 - 23Oct2020): finished  309 trials in 0 min 10 sec"
     ]
    },
    {
     "name": "stdout",
     "output_type": "stream",
     "text": [
      "\n"
     ]
    },
    {
     "name": "stdout",
     "output_type": "stream",
     "text": [
      "\tNLD,  1st phase (02Apr2020 - 17Apr2020): finished  307 trials in 0 min 10 sec"
     ]
    },
    {
     "name": "stdout",
     "output_type": "stream",
     "text": [
      "\n"
     ]
    },
    {
     "name": "stdout",
     "output_type": "stream",
     "text": [
      "\tDEU,  6th phase (16Sep2020 - 07Oct2020): finished  289 trials in 0 min 10 sec"
     ]
    },
    {
     "name": "stdout",
     "output_type": "stream",
     "text": [
      "\n"
     ]
    },
    {
     "name": "stdout",
     "output_type": "stream",
     "text": [
      "\tAUT,  7th phase (05Oct2020 - 13Oct2020): finished  293 trials in 0 min 10 sec"
     ]
    },
    {
     "name": "stdout",
     "output_type": "stream",
     "text": [
      "\n"
     ]
    },
    {
     "name": "stdout",
     "output_type": "stream",
     "text": [
      "\tSWE,  3rd phase (07Jun2020 - 23Jun2020): finished  275 trials in 0 min 10 sec"
     ]
    },
    {
     "name": "stdout",
     "output_type": "stream",
     "text": [
      "\n"
     ]
    },
    {
     "name": "stdout",
     "output_type": "stream",
     "text": [
      "\tFRA, 13th phase (17Nov2020 - 26Nov2020): finished  278 trials in 0 min 10 sec"
     ]
    },
    {
     "name": "stdout",
     "output_type": "stream",
     "text": [
      "\n"
     ]
    },
    {
     "name": "stdout",
     "output_type": "stream",
     "text": [
      "\tROU, 10th phase (05Nov2020 - 11Nov2020): finished  289 trials in 0 min 10 sec"
     ]
    },
    {
     "name": "stdout",
     "output_type": "stream",
     "text": [
      "\n"
     ]
    },
    {
     "name": "stdout",
     "output_type": "stream",
     "text": [
      "\tPRT,  7th phase (01Oct2020 - 13Oct2020): finished  282 trials in 0 min 10 sec"
     ]
    },
    {
     "name": "stdout",
     "output_type": "stream",
     "text": [
      "\n"
     ]
    },
    {
     "name": "stdout",
     "output_type": "stream",
     "text": [
      "\tFRA,  1st phase (02Apr2020 - 27Apr2020): finished  304 trials in 0 min 10 sec"
     ]
    },
    {
     "name": "stdout",
     "output_type": "stream",
     "text": [
      "\n"
     ]
    },
    {
     "name": "stdout",
     "output_type": "stream",
     "text": [
      "\tROU,  6th phase (30Sep2020 - 11Oct2020): finished  309 trials in 0 min 10 sec"
     ]
    },
    {
     "name": "stdout",
     "output_type": "stream",
     "text": [
      "\n"
     ]
    },
    {
     "name": "stdout",
     "output_type": "stream",
     "text": [
      "\tFIN,  0th phase (17Mar2020 - 04Apr2020): finished  304 trials in 0 min 10 sec"
     ]
    },
    {
     "name": "stdout",
     "output_type": "stream",
     "text": [
      "\n"
     ]
    },
    {
     "name": "stdout",
     "output_type": "stream",
     "text": [
      "\tCAN, 13th phase (29Nov2020 - 05Dec2020): finished  313 trials in 0 min 10 sec"
     ]
    },
    {
     "name": "stdout",
     "output_type": "stream",
     "text": [
      "\n"
     ]
    },
    {
     "name": "stdout",
     "output_type": "stream",
     "text": [
      "\tPRT,  9th phase (22Oct2020 - 27Oct2020): finished  310 trials in 0 min 10 sec"
     ]
    },
    {
     "name": "stdout",
     "output_type": "stream",
     "text": [
      "\n"
     ]
    },
    {
     "name": "stdout",
     "output_type": "stream",
     "text": [
      "\tAUT,  8th phase (14Oct2020 - 20Oct2020): finished  308 trials in 0 min 10 sec"
     ]
    },
    {
     "name": "stdout",
     "output_type": "stream",
     "text": [
      "\n"
     ]
    },
    {
     "name": "stdout",
     "output_type": "stream",
     "text": [
      "\tCAN,  7th phase (29Sep2020 - 11Oct2020): finished  304 trials in 0 min 10 sec"
     ]
    },
    {
     "name": "stdout",
     "output_type": "stream",
     "text": [
      "\n"
     ]
    },
    {
     "name": "stdout",
     "output_type": "stream",
     "text": [
      "\tCAN,  0th phase (02Mar2020 - 08Apr2020): finished  296 trials in 0 min 10 sec"
     ]
    },
    {
     "name": "stdout",
     "output_type": "stream",
     "text": [
      "\n"
     ]
    },
    {
     "name": "stdout",
     "output_type": "stream",
     "text": [
      "\tCAN, 14th phase (06Dec2020 - 12Dec2020): finished  295 trials in 0 min 10 sec"
     ]
    },
    {
     "name": "stdout",
     "output_type": "stream",
     "text": [
      "\n"
     ]
    },
    {
     "name": "stdout",
     "output_type": "stream",
     "text": [
      "\tDEU,  7th phase (08Oct2020 - 19Oct2020): finished  292 trials in 0 min 10 sec"
     ]
    },
    {
     "name": "stdout",
     "output_type": "stream",
     "text": [
      "\n"
     ]
    },
    {
     "name": "stdout",
     "output_type": "stream",
     "text": [
      "\tNOR,  1st phase (25Mar2020 - 02Apr2020): finished  297 trials in 0 min 10 sec"
     ]
    },
    {
     "name": "stdout",
     "output_type": "stream",
     "text": [
      "\n"
     ]
    },
    {
     "name": "stdout",
     "output_type": "stream",
     "text": [
      "\tPRT, 10th phase (28Oct2020 - 02Nov2020): finished  299 trials in 0 min 10 sec"
     ]
    },
    {
     "name": "stdout",
     "output_type": "stream",
     "text": [
      "\n"
     ]
    },
    {
     "name": "stdout",
     "output_type": "stream",
     "text": [
      "\tNOR,  3rd phase (21Apr2020 - 02Jun2020): finished  298 trials in 0 min 10 sec"
     ]
    },
    {
     "name": "stdout",
     "output_type": "stream",
     "text": [
      "\n"
     ]
    },
    {
     "name": "stdout",
     "output_type": "stream",
     "text": [
      "\tNLD,  8th phase (09Oct2020 - 18Oct2020): finished  311 trials in 0 min 10 sec"
     ]
    },
    {
     "name": "stdout",
     "output_type": "stream",
     "text": [
      "\n"
     ]
    },
    {
     "name": "stdout",
     "output_type": "stream",
     "text": [
      "\tDNK, 15th phase (10Dec2020 - 20Dec2020): finished  312 trials in 0 min 10 sec"
     ]
    },
    {
     "name": "stdout",
     "output_type": "stream",
     "text": [
      "\n"
     ]
    },
    {
     "name": "stdout",
     "output_type": "stream",
     "text": [
      "\tNLD,  4th phase (11Aug2020 - 09Sep2020): finished  306 trials in 0 min 10 sec"
     ]
    },
    {
     "name": "stdout",
     "output_type": "stream",
     "text": [
      "\n"
     ]
    },
    {
     "name": "stdout",
     "output_type": "stream",
     "text": [
      "\tBEL, 14th phase (26Nov2020 - 07Dec2020): finished  310 trials in 0 min 10 sec"
     ]
    },
    {
     "name": "stdout",
     "output_type": "stream",
     "text": [
      "\n"
     ]
    },
    {
     "name": "stdout",
     "output_type": "stream",
     "text": [
      "\tCAN,  5th phase (23Jul2020 - 06Sep2020): finished  300 trials in 0 min 10 sec"
     ]
    },
    {
     "name": "stdout",
     "output_type": "stream",
     "text": [
      "\n"
     ]
    },
    {
     "name": "stdout",
     "output_type": "stream",
     "text": [
      "\tSWE,  4th phase (24Jun2020 - 04Aug2020): finished  299 trials in 0 min 10 sec"
     ]
    },
    {
     "name": "stdout",
     "output_type": "stream",
     "text": [
      "\n"
     ]
    },
    {
     "name": "stdout",
     "output_type": "stream",
     "text": [
      "\tFIN,  6th phase (21Sep2020 - 04Oct2020): finished  311 trials in 0 min 10 sec"
     ]
    },
    {
     "name": "stdout",
     "output_type": "stream",
     "text": [
      "\n"
     ]
    },
    {
     "name": "stdout",
     "output_type": "stream",
     "text": [
      "\tSWE,  6th phase (23Sep2020 - 14Oct2020): finished  307 trials in 0 min 10 sec"
     ]
    },
    {
     "name": "stdout",
     "output_type": "stream",
     "text": [
      "\n"
     ]
    },
    {
     "name": "stdout",
     "output_type": "stream",
     "text": [
      "\tFIN,  2nd phase (20Apr2020 - 04May2020): finished  307 trials in 0 min 10 sec"
     ]
    },
    {
     "name": "stdout",
     "output_type": "stream",
     "text": [
      "\n"
     ]
    },
    {
     "name": "stdout",
     "output_type": "stream",
     "text": [
      "\tFRA, 10th phase (22Oct2020 - 31Oct2020): finished  311 trials in 0 min 10 sec"
     ]
    },
    {
     "name": "stdout",
     "output_type": "stream",
     "text": [
      "\n"
     ]
    },
    {
     "name": "stdout",
     "output_type": "stream",
     "text": [
      "\tBEL,  9th phase (12Oct2020 - 21Oct2020): finished  311 trials in 0 min 10 sec"
     ]
    },
    {
     "name": "stdout",
     "output_type": "stream",
     "text": [
      "\n"
     ]
    },
    {
     "name": "stdout",
     "output_type": "stream",
     "text": [
      "\tPRT,  2nd phase (23Apr2020 - 01Jun2020): finished  292 trials in 0 min 10 sec"
     ]
    },
    {
     "name": "stdout",
     "output_type": "stream",
     "text": [
      "\n"
     ]
    },
    {
     "name": "stdout",
     "output_type": "stream",
     "text": [
      "\tNLD,  3rd phase (27May2020 - 10Aug2020): finished  284 trials in 0 min 10 sec"
     ]
    },
    {
     "name": "stdout",
     "output_type": "stream",
     "text": [
      "\n"
     ]
    },
    {
     "name": "stdout",
     "output_type": "stream",
     "text": [
      "\tPRT,  8th phase (14Oct2020 - 21Oct2020): finished  302 trials in 0 min 10 sec"
     ]
    },
    {
     "name": "stdout",
     "output_type": "stream",
     "text": [
      "\n"
     ]
    },
    {
     "name": "stdout",
     "output_type": "stream",
     "text": [
      "\tNOR, 16th phase (07Dec2020 - 13Dec2020): finished  299 trials in 0 min 10 sec"
     ]
    },
    {
     "name": "stdout",
     "output_type": "stream",
     "text": [
      "\n"
     ]
    },
    {
     "name": "stdout",
     "output_type": "stream",
     "text": [
      "\tNOR, 11th phase (04Nov2020 - 09Nov2020): finished  299 trials in 0 min 10 sec"
     ]
    },
    {
     "name": "stdout",
     "output_type": "stream",
     "text": [
      "\n"
     ]
    },
    {
     "name": "stdout",
     "output_type": "stream",
     "text": [
      "\tFIN,  4th phase (27May2020 - 18Aug2020): finished  280 trials in 0 min 10 sec"
     ]
    },
    {
     "name": "stdout",
     "output_type": "stream",
     "text": [
      "\n"
     ]
    },
    {
     "name": "stdout",
     "output_type": "stream",
     "text": [
      "\tBEL,  3rd phase (10May2020 - 27Jul2020): finished  281 trials in 0 min 10 sec"
     ]
    },
    {
     "name": "stdout",
     "output_type": "stream",
     "text": [
      "\n"
     ]
    },
    {
     "name": "stdout",
     "output_type": "stream",
     "text": [
      "\tBEL,  2nd phase (15Apr2020 - 09May2020): finished  297 trials in 0 min 10 sec"
     ]
    },
    {
     "name": "stdout",
     "output_type": "stream",
     "text": [
      "\n"
     ]
    },
    {
     "name": "stdout",
     "output_type": "stream",
     "text": [
      "\tFIN,  1st phase (05Apr2020 - 19Apr2020): finished  296 trials in 0 min 10 sec"
     ]
    },
    {
     "name": "stdout",
     "output_type": "stream",
     "text": [
      "\n"
     ]
    },
    {
     "name": "stdout",
     "output_type": "stream",
     "text": [
      "\tGBR, 15th phase (02Dec2020 - 08Dec2020): finished  298 trials in 0 min 10 sec"
     ]
    },
    {
     "name": "stdout",
     "output_type": "stream",
     "text": [
      "\n"
     ]
    },
    {
     "name": "stdout",
     "output_type": "stream",
     "text": [
      "\tCAN,  2nd phase (25Apr2020 - 11May2020): finished  293 trials in 0 min 10 sec"
     ]
    },
    {
     "name": "stdout",
     "output_type": "stream",
     "text": [
      "\n"
     ]
    },
    {
     "name": "stdout",
     "output_type": "stream",
     "text": [
      "\tROU, 15th phase (08Dec2020 - 13Dec2020): finished  297 trials in 0 min 10 sec"
     ]
    },
    {
     "name": "stdout",
     "output_type": "stream",
     "text": [
      "\n"
     ]
    },
    {
     "name": "stdout",
     "output_type": "stream",
     "text": [
      "\tROU,  8th phase (21Oct2020 - 28Oct2020): finished  304 trials in 0 min 10 sec"
     ]
    },
    {
     "name": "stdout",
     "output_type": "stream",
     "text": [
      "\n"
     ]
    },
    {
     "name": "stdout",
     "output_type": "stream",
     "text": [
      "\tROU, 12th phase (18Nov2020 - 24Nov2020): finished  306 trials in 0 min 10 sec"
     ]
    },
    {
     "name": "stdout",
     "output_type": "stream",
     "text": [
      "\n"
     ]
    },
    {
     "name": "stdout",
     "output_type": "stream",
     "text": [
      "\tBEL,  5th phase (23Aug2020 - 14Sep2020): finished  300 trials in 0 min 10 sec"
     ]
    },
    {
     "name": "stdout",
     "output_type": "stream",
     "text": [
      "\n"
     ]
    },
    {
     "name": "stdout",
     "output_type": "stream",
     "text": [
      "\tNOR, 10th phase (29Oct2020 - 03Nov2020): finished  307 trials in 0 min 10 sec"
     ]
    },
    {
     "name": "stdout",
     "output_type": "stream",
     "text": [
      "\n"
     ]
    },
    {
     "name": "stdout",
     "output_type": "stream",
     "text": [
      "\tAUT,  1st phase (25Mar2020 - 08Apr2020): finished  267 trials in 0 min 10 sec"
     ]
    },
    {
     "name": "stdout",
     "output_type": "stream",
     "text": [
      "\n"
     ]
    },
    {
     "name": "stdout",
     "output_type": "stream",
     "text": [
      "\tAUT,  0th phase (05Mar2020 - 24Mar2020): finished  267 trials in 0 min 10 sec"
     ]
    },
    {
     "name": "stdout",
     "output_type": "stream",
     "text": [
      "\n"
     ]
    },
    {
     "name": "stdout",
     "output_type": "stream",
     "text": [
      "\tDNK,  3rd phase (07Aug2020 - 08Sep2020): finished  267 trials in 0 min 10 sec"
     ]
    },
    {
     "name": "stdout",
     "output_type": "stream",
     "text": [
      "\n"
     ]
    },
    {
     "name": "stdout",
     "output_type": "stream",
     "text": [
      "\tAUT,  9th phase (21Oct2020 - 30Oct2020): finished  273 trials in 0 min 10 sec"
     ]
    },
    {
     "name": "stdout",
     "output_type": "stream",
     "text": [
      "\n"
     ]
    },
    {
     "name": "stdout",
     "output_type": "stream",
     "text": [
      "\tFRA,  4th phase (27Aug2020 - 09Sep2020): finished  295 trials in 0 min 10 sec"
     ]
    },
    {
     "name": "stdout",
     "output_type": "stream",
     "text": [
      "\n"
     ]
    },
    {
     "name": "stdout",
     "output_type": "stream",
     "text": [
      "\tPRT, 14th phase (04Dec2020 - 10Dec2020): finished  300 trials in 0 min 10 sec"
     ]
    },
    {
     "name": "stdout",
     "output_type": "stream",
     "text": [
      "\n"
     ]
    },
    {
     "name": "stdout",
     "output_type": "stream",
     "text": [
      "\tDNK, 13th phase (24Nov2020 - 29Nov2020): finished  301 trials in 0 min 10 sec"
     ]
    },
    {
     "name": "stdout",
     "output_type": "stream",
     "text": [
      "\n"
     ]
    },
    {
     "name": "stdout",
     "output_type": "stream",
     "text": [
      "\tCAN, 15th phase (13Dec2020 - 20Dec2020): finished  299 trials in 0 min 10 sec"
     ]
    },
    {
     "name": "stdout",
     "output_type": "stream",
     "text": [
      "\n"
     ]
    },
    {
     "name": "stdout",
     "output_type": "stream",
     "text": [
      "\tGBR,  9th phase (21Oct2020 - 27Oct2020): finished  301 trials in 0 min 10 sec"
     ]
    },
    {
     "name": "stdout",
     "output_type": "stream",
     "text": [
      "\n"
     ]
    },
    {
     "name": "stdout",
     "output_type": "stream",
     "text": [
      "\tDNK,  4th phase (09Sep2020 - 20Sep2020): finished  301 trials in 0 min 10 sec"
     ]
    },
    {
     "name": "stdout",
     "output_type": "stream",
     "text": [
      "\n"
     ]
    },
    {
     "name": "stdout",
     "output_type": "stream",
     "text": [
      "\tDNK,  8th phase (23Oct2020 - 29Oct2020): finished  302 trials in 0 min 10 sec"
     ]
    },
    {
     "name": "stdout",
     "output_type": "stream",
     "text": [
      "\n"
     ]
    },
    {
     "name": "stdout",
     "output_type": "stream",
     "text": [
      "\tCAN,  6th phase (07Sep2020 - 28Sep2020): finished  295 trials in 0 min 10 sec"
     ]
    },
    {
     "name": "stdout",
     "output_type": "stream",
     "text": [
      "\n"
     ]
    },
    {
     "name": "stdout",
     "output_type": "stream",
     "text": [
      "\tBEL, 13th phase (16Nov2020 - 25Nov2020): finished  298 trials in 0 min 10 sec"
     ]
    },
    {
     "name": "stdout",
     "output_type": "stream",
     "text": [
      "\n"
     ]
    },
    {
     "name": "stdout",
     "output_type": "stream",
     "text": [
      "\tBEL, 10th phase (22Oct2020 - 01Nov2020): finished  300 trials in 0 min 10 sec"
     ]
    },
    {
     "name": "stdout",
     "output_type": "stream",
     "text": [
      "\n"
     ]
    },
    {
     "name": "stdout",
     "output_type": "stream",
     "text": [
      "\tGBR,  3rd phase (23May2020 - 12Jul2020): finished  283 trials in 0 min 10 sec"
     ]
    },
    {
     "name": "stdout",
     "output_type": "stream",
     "text": [
      "\n"
     ]
    },
    {
     "name": "stdout",
     "output_type": "stream",
     "text": [
      "\tBEL, 15th phase (08Dec2020 - 20Dec2020): finished  296 trials in 0 min 10 sec"
     ]
    },
    {
     "name": "stdout",
     "output_type": "stream",
     "text": [
      "\n"
     ]
    },
    {
     "name": "stdout",
     "output_type": "stream",
     "text": [
      "\tPRT,  6th phase (12Sep2020 - 30Sep2020): finished  293 trials in 0 min 10 sec"
     ]
    },
    {
     "name": "stdout",
     "output_type": "stream",
     "text": [
      "\n"
     ]
    },
    {
     "name": "stdout",
     "output_type": "stream",
     "text": [
      "\tDNK,  1st phase (20Apr2020 - 19May2020): finished  291 trials in 0 min 10 sec"
     ]
    },
    {
     "name": "stdout",
     "output_type": "stream",
     "text": [
      "\n"
     ]
    },
    {
     "name": "stdout",
     "output_type": "stream",
     "text": [
      "\tAUT,  2nd phase (09Apr2020 - 11Jul2020): finished  269 trials in 0 min 10 sec"
     ]
    },
    {
     "name": "stdout",
     "output_type": "stream",
     "text": [
      "\n"
     ]
    },
    {
     "name": "stdout",
     "output_type": "stream",
     "text": [
      "\tROU,  0th phase (05Mar2020 - 01May2020): finished  284 trials in 0 min 10 sec"
     ]
    },
    {
     "name": "stdout",
     "output_type": "stream",
     "text": [
      "\n"
     ]
    },
    {
     "name": "stdout",
     "output_type": "stream",
     "text": [
      "\tPRT, 11th phase (03Nov2020 - 12Nov2020): finished  292 trials in 0 min 10 sec"
     ]
    },
    {
     "name": "stdout",
     "output_type": "stream",
     "text": [
      "\n"
     ]
    },
    {
     "name": "stdout",
     "output_type": "stream",
     "text": [
      "\tNOR, 13th phase (16Nov2020 - 22Nov2020): finished  294 trials in 0 min 10 sec"
     ]
    },
    {
     "name": "stdout",
     "output_type": "stream",
     "text": [
      "\n"
     ]
    },
    {
     "name": "stdout",
     "output_type": "stream",
     "text": [
      "\tAUT,  3rd phase (12Jul2020 - 18Aug2020): finished  290 trials in 0 min 10 sec"
     ]
    },
    {
     "name": "stdout",
     "output_type": "stream",
     "text": [
      "\n"
     ]
    },
    {
     "name": "stdout",
     "output_type": "stream",
     "text": [
      "\tNLD,  0th phase (16Mar2020 - 01Apr2020): finished  288 trials in 0 min 10 sec"
     ]
    },
    {
     "name": "stdout",
     "output_type": "stream",
     "text": [
      "\n"
     ]
    },
    {
     "name": "stdout",
     "output_type": "stream",
     "text": [
      "\tSWE, 10th phase (11Nov2020 - 17Nov2020): finished  298 trials in 0 min 10 sec"
     ]
    },
    {
     "name": "stdout",
     "output_type": "stream",
     "text": [
      "\n"
     ]
    },
    {
     "name": "stdout",
     "output_type": "stream",
     "text": [
      "\tSWE,  2nd phase (12May2020 - 06Jun2020): finished  294 trials in 0 min 10 sec"
     ]
    },
    {
     "name": "stdout",
     "output_type": "stream",
     "text": [
      "\n"
     ]
    },
    {
     "name": "stdout",
     "output_type": "stream",
     "text": [
      "\tGBR,  7th phase (05Oct2020 - 12Oct2020): finished  301 trials in 0 min 10 sec"
     ]
    },
    {
     "name": "stdout",
     "output_type": "stream",
     "text": [
      "\n"
     ]
    },
    {
     "name": "stdout",
     "output_type": "stream",
     "text": [
      "\tNOR, 15th phase (30Nov2020 - 06Dec2020): finished  301 trials in 0 min 10 sec"
     ]
    },
    {
     "name": "stdout",
     "output_type": "stream",
     "text": [
      "\n"
     ]
    },
    {
     "name": "stdout",
     "output_type": "stream",
     "text": [
      "\tCAN, 11th phase (14Nov2020 - 21Nov2020): finished  299 trials in 0 min 10 sec"
     ]
    },
    {
     "name": "stdout",
     "output_type": "stream",
     "text": [
      "\n"
     ]
    },
    {
     "name": "stdout",
     "output_type": "stream",
     "text": [
      "\tNLD,  6th phase (23Sep2020 - 01Oct2020): finished  298 trials in 0 min 10 sec"
     ]
    },
    {
     "name": "stdout",
     "output_type": "stream",
     "text": [
      "\n"
     ]
    },
    {
     "name": "stdout",
     "output_type": "stream",
     "text": [
      "\tSWE,  0th phase (21Feb2020 - 15Apr2020): finished  292 trials in 0 min 10 sec"
     ]
    },
    {
     "name": "stdout",
     "output_type": "stream",
     "text": [
      "\n"
     ]
    },
    {
     "name": "stdout",
     "output_type": "stream",
     "text": [
      "\tBEL,  0th phase (21Mar2020 - 01Apr2020): finished  288 trials in 0 min 10 sec"
     ]
    },
    {
     "name": "stdout",
     "output_type": "stream",
     "text": [
      "\n"
     ]
    },
    {
     "name": "stdout",
     "output_type": "stream",
     "text": [
      "\tDEU, 10th phase (02Nov2020 - 11Nov2020): finished  294 trials in 0 min 10 sec"
     ]
    },
    {
     "name": "stdout",
     "output_type": "stream",
     "text": [
      "\n"
     ]
    },
    {
     "name": "stdout",
     "output_type": "stream",
     "text": [
      "\tFRA,  9th phase (16Oct2020 - 21Oct2020): finished  297 trials in 0 min 10 sec"
     ]
    },
    {
     "name": "stdout",
     "output_type": "stream",
     "text": [
      "\n"
     ]
    },
    {
     "name": "stdout",
     "output_type": "stream",
     "text": [
      "\tGBR,  1st phase (09Apr2020 - 29Apr2020): finished  292 trials in 0 min 10 sec"
     ]
    },
    {
     "name": "stdout",
     "output_type": "stream",
     "text": [
      "\n"
     ]
    },
    {
     "name": "stdout",
     "output_type": "stream",
     "text": [
      "\tFRA,  6th phase (22Sep2020 - 30Sep2020): finished  294 trials in 0 min 10 sec"
     ]
    },
    {
     "name": "stdout",
     "output_type": "stream",
     "text": [
      "\n"
     ]
    },
    {
     "name": "stdout",
     "output_type": "stream",
     "text": [
      "\tNLD, 15th phase (04Dec2020 - 09Dec2020): finished  299 trials in 0 min 10 sec"
     ]
    },
    {
     "name": "stdout",
     "output_type": "stream",
     "text": [
      "\n"
     ]
    },
    {
     "name": "stdout",
     "output_type": "stream",
     "text": [
      "\tGBR, 13th phase (17Nov2020 - 23Nov2020): finished  300 trials in 0 min 10 sec"
     ]
    },
    {
     "name": "stdout",
     "output_type": "stream",
     "text": [
      "\n"
     ]
    },
    {
     "name": "stdout",
     "output_type": "stream",
     "text": [
      "\tDNK, 12th phase (18Nov2020 - 23Nov2020): finished  300 trials in 0 min 10 sec"
     ]
    },
    {
     "name": "stdout",
     "output_type": "stream",
     "text": [
      "\n"
     ]
    },
    {
     "name": "stdout",
     "output_type": "stream",
     "text": [
      "\tPRT,  1st phase (04Apr2020 - 22Apr2020): finished  295 trials in 0 min 10 sec"
     ]
    },
    {
     "name": "stdout",
     "output_type": "stream",
     "text": [
      "\n"
     ]
    },
    {
     "name": "stdout",
     "output_type": "stream",
     "text": [
      "\tDNK,  5th phase (21Sep2020 - 30Sep2020): finished  299 trials in 0 min 10 sec"
     ]
    },
    {
     "name": "stdout",
     "output_type": "stream",
     "text": [
      "\n"
     ]
    },
    {
     "name": "stdout",
     "output_type": "stream",
     "text": [
      "\tAUT, 14th phase (07Dec2020 - 12Dec2020): finished  302 trials in 0 min 10 sec"
     ]
    },
    {
     "name": "stdout",
     "output_type": "stream",
     "text": [
      "\n"
     ]
    },
    {
     "name": "stdout",
     "output_type": "stream",
     "text": [
      "\tDEU,  0th phase (19Jan2020 - 23Mar2020): finished  285 trials in 0 min 10 sec"
     ]
    },
    {
     "name": "stdout",
     "output_type": "stream",
     "text": [
      "\n"
     ]
    },
    {
     "name": "stdout",
     "output_type": "stream",
     "text": [
      "\tFRA,  5th phase (10Sep2020 - 21Sep2020): finished  296 trials in 0 min 10 sec"
     ]
    },
    {
     "name": "stdout",
     "output_type": "stream",
     "text": [
      "\n"
     ]
    },
    {
     "name": "stdout",
     "output_type": "stream",
     "text": [
      "\tNOR,  7th phase (21Sep2020 - 05Oct2020): finished  264 trials in 0 min 10 sec"
     ]
    },
    {
     "name": "stdout",
     "output_type": "stream",
     "text": [
      "\n"
     ]
    },
    {
     "name": "stdout",
     "output_type": "stream",
     "text": [
      "\tSWE,  1st phase (16Apr2020 - 11May2020): finished  271 trials in 0 min 10 sec"
     ]
    },
    {
     "name": "stdout",
     "output_type": "stream",
     "text": [
      "\n"
     ]
    },
    {
     "name": "stdout",
     "output_type": "stream",
     "text": [
      "\tAUT, 10th phase (31Oct2020 - 09Nov2020): finished  278 trials in 0 min 10 sec"
     ]
    },
    {
     "name": "stdout",
     "output_type": "stream",
     "text": [
      "\n"
     ]
    },
    {
     "name": "stdout",
     "output_type": "stream",
     "text": [
      "\tCAN, 10th phase (05Nov2020 - 13Nov2020): finished  273 trials in 0 min 10 sec"
     ]
    },
    {
     "name": "stdout",
     "output_type": "stream",
     "text": [
      "\n"
     ]
    },
    {
     "name": "stdout",
     "output_type": "stream",
     "text": [
      "\tFRA,  0th phase (12Feb2020 - 01Apr2020): finished  286 trials in 0 min 10 sec"
     ]
    },
    {
     "name": "stdout",
     "output_type": "stream",
     "text": [
      "\n"
     ]
    },
    {
     "name": "stdout",
     "output_type": "stream",
     "text": [
      "\tDNK, 14th phase (30Nov2020 - 09Dec2020): finished  297 trials in 0 min 10 sec"
     ]
    },
    {
     "name": "stdout",
     "output_type": "stream",
     "text": [
      "\n"
     ]
    },
    {
     "name": "stdout",
     "output_type": "stream",
     "text": [
      "\tNOR,  8th phase (06Oct2020 - 20Oct2020): finished  293 trials in 0 min 10 sec"
     ]
    },
    {
     "name": "stdout",
     "output_type": "stream",
     "text": [
      "\n"
     ]
    },
    {
     "name": "stdout",
     "output_type": "stream",
     "text": [
      "\tFIN, 11th phase (12Nov2020 - 19Nov2020): finished  301 trials in 0 min 10 sec"
     ]
    },
    {
     "name": "stdout",
     "output_type": "stream",
     "text": [
      "\n"
     ]
    },
    {
     "name": "stdout",
     "output_type": "stream",
     "text": [
      "\tFIN, 12th phase (20Nov2020 - 25Nov2020): finished  301 trials in 0 min 10 sec"
     ]
    },
    {
     "name": "stdout",
     "output_type": "stream",
     "text": [
      "\n"
     ]
    },
    {
     "name": "stdout",
     "output_type": "stream",
     "text": [
      "\tROU, 11th phase (12Nov2020 - 17Nov2020): finished  300 trials in 0 min 10 sec"
     ]
    },
    {
     "name": "stdout",
     "output_type": "stream",
     "text": [
      "\n"
     ]
    },
    {
     "name": "stdout",
     "output_type": "stream",
     "text": [
      "\tDNK,  9th phase (30Oct2020 - 04Nov2020): finished  300 trials in 0 min 10 sec"
     ]
    },
    {
     "name": "stdout",
     "output_type": "stream",
     "text": [
      "\n"
     ]
    },
    {
     "name": "stdout",
     "output_type": "stream",
     "text": [
      "\tROU,  1st phase (02May2020 - 07Jul2020): finished  281 trials in 0 min 10 sec"
     ]
    },
    {
     "name": "stdout",
     "output_type": "stream",
     "text": [
      "\n"
     ]
    },
    {
     "name": "stdout",
     "output_type": "stream",
     "text": [
      "\tGBR, 14th phase (24Nov2020 - 01Dec2020): finished  297 trials in 0 min 10 sec"
     ]
    },
    {
     "name": "stdout",
     "output_type": "stream",
     "text": [
      "\n"
     ]
    },
    {
     "name": "stdout",
     "output_type": "stream",
     "text": [
      "\tFRA,  2nd phase (28Apr2020 - 30Jul2020): finished  272 trials in 0 min 10 sec"
     ]
    },
    {
     "name": "stdout",
     "output_type": "stream",
     "text": [
      "\n"
     ]
    },
    {
     "name": "stdout",
     "output_type": "stream",
     "text": [
      "\tAUT,  5th phase (10Sep2020 - 22Sep2020): finished  294 trials in 0 min 10 sec"
     ]
    },
    {
     "name": "stdout",
     "output_type": "stream",
     "text": [
      "\n"
     ]
    },
    {
     "name": "stdout",
     "output_type": "stream",
     "text": [
      "\tNLD, 10th phase (29Oct2020 - 07Nov2020): finished  294 trials in 0 min 10 sec"
     ]
    },
    {
     "name": "stdout",
     "output_type": "stream",
     "text": [
      "\n"
     ]
    },
    {
     "name": "stdout",
     "output_type": "stream",
     "text": [
      "\tPRT, 15th phase (11Dec2020 - 20Dec2020): finished  296 trials in 0 min 10 sec"
     ]
    },
    {
     "name": "stdout",
     "output_type": "stream",
     "text": [
      "\n"
     ]
    },
    {
     "name": "stdout",
     "output_type": "stream",
     "text": [
      "\tFRA,  8th phase (09Oct2020 - 15Oct2020): finished  299 trials in 0 min 10 sec"
     ]
    },
    {
     "name": "stdout",
     "output_type": "stream",
     "text": [
      "\n"
     ]
    },
    {
     "name": "stdout",
     "output_type": "stream",
     "text": [
      "\tDNK,  6th phase (01Oct2020 - 12Oct2020): finished  295 trials in 0 min 10 sec"
     ]
    },
    {
     "name": "stdout",
     "output_type": "stream",
     "text": [
      "\n"
     ]
    },
    {
     "name": "stdout",
     "output_type": "stream",
     "text": [
      "\tNLD,  2nd phase (18Apr2020 - 26May2020): finished  288 trials in 0 min 10 sec"
     ]
    },
    {
     "name": "stdout",
     "output_type": "stream",
     "text": [
      "\n"
     ]
    },
    {
     "name": "stdout",
     "output_type": "stream",
     "text": [
      "\tDEU,  2nd phase (05Apr2020 - 22Apr2020): finished  294 trials in 0 min 10 sec"
     ]
    },
    {
     "name": "stdout",
     "output_type": "stream",
     "text": [
      "\n"
     ]
    },
    {
     "name": "stdout",
     "output_type": "stream",
     "text": [
      "\tDNK,  0th phase (19Mar2020 - 19Apr2020): finished  291 trials in 0 min 10 sec"
     ]
    },
    {
     "name": "stdout",
     "output_type": "stream",
     "text": [
      "\n"
     ]
    },
    {
     "name": "stdout",
     "output_type": "stream",
     "text": [
      "\tPRT, 13th phase (23Nov2020 - 03Dec2020): finished  297 trials in 0 min 10 sec"
     ]
    },
    {
     "name": "stdout",
     "output_type": "stream",
     "text": [
      "\n"
     ]
    },
    {
     "name": "stdout",
     "output_type": "stream",
     "text": [
      "\tROU,  4th phase (20Aug2020 - 09Sep2020): finished  295 trials in 0 min 10 sec"
     ]
    },
    {
     "name": "stdout",
     "output_type": "stream",
     "text": [
      "\n"
     ]
    },
    {
     "name": "stdout",
     "output_type": "stream",
     "text": [
      "\tGBR, 10th phase (28Oct2020 - 03Nov2020): finished  305 trials in 0 min 10 sec"
     ]
    },
    {
     "name": "stdout",
     "output_type": "stream",
     "text": [
      "\n"
     ]
    },
    {
     "name": "stdout",
     "output_type": "stream",
     "text": [
      "\tBEL, 11th phase (02Nov2020 - 08Nov2020): finished  305 trials in 0 min 10 sec"
     ]
    },
    {
     "name": "stdout",
     "output_type": "stream",
     "text": [
      "\n"
     ]
    },
    {
     "name": "stdout",
     "output_type": "stream",
     "text": [
      "\tGBR,  8th phase (13Oct2020 - 20Oct2020): finished  304 trials in 0 min 10 sec"
     ]
    },
    {
     "name": "stdout",
     "output_type": "stream",
     "text": [
      "\n"
     ]
    },
    {
     "name": "stdout",
     "output_type": "stream",
     "text": [
      "\tDEU,  8th phase (20Oct2020 - 26Oct2020): finished  313 trials in 0 min 10 sec"
     ]
    },
    {
     "name": "stdout",
     "output_type": "stream",
     "text": [
      "\n"
     ]
    },
    {
     "name": "stdout",
     "output_type": "stream",
     "text": [
      "\tGBR,  5th phase (05Sep2020 - 23Sep2020): finished  308 trials in 0 min 10 sec"
     ]
    },
    {
     "name": "stdout",
     "output_type": "stream",
     "text": [
      "\n"
     ]
    },
    {
     "name": "stdout",
     "output_type": "stream",
     "text": [
      "\tROU,  2nd phase (08Jul2020 - 30Jul2020): finished  308 trials in 0 min 10 sec"
     ]
    },
    {
     "name": "stdout",
     "output_type": "stream",
     "text": [
      "\n"
     ]
    },
    {
     "name": "stdout",
     "output_type": "stream",
     "text": [
      "\tBEL,  7th phase (28Sep2020 - 05Oct2020): finished  315 trials in 0 min 10 sec"
     ]
    },
    {
     "name": "stdout",
     "output_type": "stream",
     "text": [
      "\n"
     ]
    },
    {
     "name": "stdout",
     "output_type": "stream",
     "text": [
      "\tNOR,  6th phase (05Sep2020 - 20Sep2020): finished  312 trials in 0 min 10 sec"
     ]
    },
    {
     "name": "stdout",
     "output_type": "stream",
     "text": [
      "\n"
     ]
    },
    {
     "name": "stdout",
     "output_type": "stream",
     "text": [
      "\tGBR,  4th phase (13Jul2020 - 04Sep2020): finished  299 trials in 0 min 10 sec"
     ]
    },
    {
     "name": "stdout",
     "output_type": "stream",
     "text": [
      "\n"
     ]
    },
    {
     "name": "stdout",
     "output_type": "stream",
     "text": [
      "Completed optimization. Total: 8 min 31 sec\n"
     ]
    }
   ],
   "source": [
    "# Parameter estimation with SIR-F model\n",
    "analyser.estimate(cs.SIRF, timeout=10)"
   ]
  },
  {
   "cell_type": "code",
   "execution_count": 12,
   "metadata": {
    "collapsed": false
   },
   "outputs": [
    {
     "data": {
      "text/html": [
       "<div>\n",
       "<style scoped>\n",
       "    .dataframe tbody tr th:only-of-type {\n",
       "        vertical-align: middle;\n",
       "    }\n",
       "\n",
       "    .dataframe tbody tr th {\n",
       "        vertical-align: top;\n",
       "    }\n",
       "\n",
       "    .dataframe thead th {\n",
       "        text-align: right;\n",
       "    }\n",
       "</style>\n",
       "<table border=\"1\" class=\"dataframe\">\n",
       "  <thead>\n",
       "    <tr style=\"text-align: right;\">\n",
       "      <th></th>\n",
       "      <th></th>\n",
       "      <th>Type</th>\n",
       "      <th>Start</th>\n",
       "      <th>End</th>\n",
       "      <th>Population</th>\n",
       "      <th>ODE</th>\n",
       "      <th>Rt</th>\n",
       "      <th>theta</th>\n",
       "      <th>kappa</th>\n",
       "      <th>rho</th>\n",
       "      <th>sigma</th>\n",
       "      <th>tau</th>\n",
       "      <th>alpha1 [-]</th>\n",
       "      <th>1/beta [day]</th>\n",
       "      <th>1/gamma [day]</th>\n",
       "      <th>1/alpha2 [day]</th>\n",
       "      <th>RMSLE</th>\n",
       "      <th>Trials</th>\n",
       "      <th>Runtime</th>\n",
       "    </tr>\n",
       "    <tr>\n",
       "      <th>Country</th>\n",
       "      <th>Phase</th>\n",
       "      <th></th>\n",
       "      <th></th>\n",
       "      <th></th>\n",
       "      <th></th>\n",
       "      <th></th>\n",
       "      <th></th>\n",
       "      <th></th>\n",
       "      <th></th>\n",
       "      <th></th>\n",
       "      <th></th>\n",
       "      <th></th>\n",
       "      <th></th>\n",
       "      <th></th>\n",
       "      <th></th>\n",
       "      <th></th>\n",
       "      <th></th>\n",
       "      <th></th>\n",
       "      <th></th>\n",
       "    </tr>\n",
       "  </thead>\n",
       "  <tbody>\n",
       "    <tr>\n",
       "      <th rowspan=\"18\" valign=\"top\">Norway</th>\n",
       "      <th>0th</th>\n",
       "      <td>Past</td>\n",
       "      <td>15Mar2020</td>\n",
       "      <td>24Mar2020</td>\n",
       "      <td>5311916</td>\n",
       "      <td>SIR-F</td>\n",
       "      <td>11.3</td>\n",
       "      <td>0.00167109</td>\n",
       "      <td>7.11105e-05</td>\n",
       "      <td>0.0237204</td>\n",
       "      <td>0.00202426</td>\n",
       "      <td>360</td>\n",
       "      <td>0.002</td>\n",
       "      <td>10</td>\n",
       "      <td>123</td>\n",
       "      <td>3515</td>\n",
       "      <td>0.256972</td>\n",
       "      <td>328</td>\n",
       "      <td>0 min 10 sec</td>\n",
       "    </tr>\n",
       "    <tr>\n",
       "      <th>1st</th>\n",
       "      <td>Past</td>\n",
       "      <td>25Mar2020</td>\n",
       "      <td>02Apr2020</td>\n",
       "      <td>5311916</td>\n",
       "      <td>SIR-F</td>\n",
       "      <td>1.4</td>\n",
       "      <td>0.00728322</td>\n",
       "      <td>0.000180071</td>\n",
       "      <td>0.0189406</td>\n",
       "      <td>0.013243</td>\n",
       "      <td>360</td>\n",
       "      <td>0.007</td>\n",
       "      <td>13</td>\n",
       "      <td>18</td>\n",
       "      <td>1388</td>\n",
       "      <td>0.135763</td>\n",
       "      <td>297</td>\n",
       "      <td>0 min 10 sec</td>\n",
       "    </tr>\n",
       "    <tr>\n",
       "      <th>2nd</th>\n",
       "      <td>Past</td>\n",
       "      <td>03Apr2020</td>\n",
       "      <td>20Apr2020</td>\n",
       "      <td>5311916</td>\n",
       "      <td>SIR-F</td>\n",
       "      <td>0.29</td>\n",
       "      <td>0.0724657</td>\n",
       "      <td>0.000158361</td>\n",
       "      <td>0.0079601</td>\n",
       "      <td>0.0251777</td>\n",
       "      <td>360</td>\n",
       "      <td>0.072</td>\n",
       "      <td>31</td>\n",
       "      <td>9</td>\n",
       "      <td>1578</td>\n",
       "      <td>0.225087</td>\n",
       "      <td>300</td>\n",
       "      <td>0 min 10 sec</td>\n",
       "    </tr>\n",
       "    <tr>\n",
       "      <th>3rd</th>\n",
       "      <td>Past</td>\n",
       "      <td>21Apr2020</td>\n",
       "      <td>02Jun2020</td>\n",
       "      <td>5311916</td>\n",
       "      <td>SIR-F</td>\n",
       "      <td>0.42</td>\n",
       "      <td>0.0677763</td>\n",
       "      <td>4.05582e-05</td>\n",
       "      <td>0.00963561</td>\n",
       "      <td>0.0213781</td>\n",
       "      <td>360</td>\n",
       "      <td>0.068</td>\n",
       "      <td>25</td>\n",
       "      <td>11</td>\n",
       "      <td>6163</td>\n",
       "      <td>0.078545</td>\n",
       "      <td>298</td>\n",
       "      <td>0 min 10 sec</td>\n",
       "    </tr>\n",
       "    <tr>\n",
       "      <th>4th</th>\n",
       "      <td>Past</td>\n",
       "      <td>03Jun2020</td>\n",
       "      <td>09Aug2020</td>\n",
       "      <td>5311916</td>\n",
       "      <td>SIR-F</td>\n",
       "      <td>0.99</td>\n",
       "      <td>0.0222803</td>\n",
       "      <td>0.000151252</td>\n",
       "      <td>0.0173497</td>\n",
       "      <td>0.0169672</td>\n",
       "      <td>360</td>\n",
       "      <td>0.022</td>\n",
       "      <td>14</td>\n",
       "      <td>14</td>\n",
       "      <td>1652</td>\n",
       "      <td>0.187151</td>\n",
       "      <td>287</td>\n",
       "      <td>0 min 10 sec</td>\n",
       "    </tr>\n",
       "    <tr>\n",
       "      <th>5th</th>\n",
       "      <td>Past</td>\n",
       "      <td>10Aug2020</td>\n",
       "      <td>04Sep2020</td>\n",
       "      <td>5311916</td>\n",
       "      <td>SIR-F</td>\n",
       "      <td>1.46</td>\n",
       "      <td>0.00108763</td>\n",
       "      <td>0.000191431</td>\n",
       "      <td>0.0200583</td>\n",
       "      <td>0.0135535</td>\n",
       "      <td>360</td>\n",
       "      <td>0.001</td>\n",
       "      <td>12</td>\n",
       "      <td>18</td>\n",
       "      <td>1305</td>\n",
       "      <td>0.0667907</td>\n",
       "      <td>303</td>\n",
       "      <td>0 min 10 sec</td>\n",
       "    </tr>\n",
       "    <tr>\n",
       "      <th>6th</th>\n",
       "      <td>Past</td>\n",
       "      <td>05Sep2020</td>\n",
       "      <td>20Sep2020</td>\n",
       "      <td>5311916</td>\n",
       "      <td>SIR-F</td>\n",
       "      <td>1.49</td>\n",
       "      <td>0.0165195</td>\n",
       "      <td>7.93545e-05</td>\n",
       "      <td>0.0182368</td>\n",
       "      <td>0.0119898</td>\n",
       "      <td>360</td>\n",
       "      <td>0.017</td>\n",
       "      <td>13</td>\n",
       "      <td>20</td>\n",
       "      <td>3150</td>\n",
       "      <td>0.0973218</td>\n",
       "      <td>312</td>\n",
       "      <td>0 min 10 sec</td>\n",
       "    </tr>\n",
       "    <tr>\n",
       "      <th>7th</th>\n",
       "      <td>Past</td>\n",
       "      <td>21Sep2020</td>\n",
       "      <td>05Oct2020</td>\n",
       "      <td>5311916</td>\n",
       "      <td>SIR-F</td>\n",
       "      <td>1.05</td>\n",
       "      <td>0.000900068</td>\n",
       "      <td>7.11105e-05</td>\n",
       "      <td>0.0171967</td>\n",
       "      <td>0.0163265</td>\n",
       "      <td>360</td>\n",
       "      <td>0.001</td>\n",
       "      <td>14</td>\n",
       "      <td>15</td>\n",
       "      <td>3515</td>\n",
       "      <td>0.020038</td>\n",
       "      <td>264</td>\n",
       "      <td>0 min 10 sec</td>\n",
       "    </tr>\n",
       "    <tr>\n",
       "      <th>8th</th>\n",
       "      <td>Past</td>\n",
       "      <td>06Oct2020</td>\n",
       "      <td>20Oct2020</td>\n",
       "      <td>5311916</td>\n",
       "      <td>SIR-F</td>\n",
       "      <td>1.25</td>\n",
       "      <td>0.000900068</td>\n",
       "      <td>7.11105e-05</td>\n",
       "      <td>0.0176816</td>\n",
       "      <td>0.0140123</td>\n",
       "      <td>360</td>\n",
       "      <td>0.001</td>\n",
       "      <td>14</td>\n",
       "      <td>17</td>\n",
       "      <td>3515</td>\n",
       "      <td>0.0349302</td>\n",
       "      <td>293</td>\n",
       "      <td>0 min 10 sec</td>\n",
       "    </tr>\n",
       "    <tr>\n",
       "      <th>9th</th>\n",
       "      <td>Past</td>\n",
       "      <td>21Oct2020</td>\n",
       "      <td>28Oct2020</td>\n",
       "      <td>5311916</td>\n",
       "      <td>-</td>\n",
       "      <td>-</td>\n",
       "      <td>-</td>\n",
       "      <td>-</td>\n",
       "      <td>-</td>\n",
       "      <td>-</td>\n",
       "      <td>-</td>\n",
       "      <td>-</td>\n",
       "      <td>-</td>\n",
       "      <td>-</td>\n",
       "      <td>-</td>\n",
       "      <td>-</td>\n",
       "      <td>-</td>\n",
       "      <td>-</td>\n",
       "    </tr>\n",
       "    <tr>\n",
       "      <th>10th</th>\n",
       "      <td>Past</td>\n",
       "      <td>29Oct2020</td>\n",
       "      <td>03Nov2020</td>\n",
       "      <td>5311916</td>\n",
       "      <td>SIR-F</td>\n",
       "      <td>3.43</td>\n",
       "      <td>0.000676492</td>\n",
       "      <td>6.74045e-05</td>\n",
       "      <td>0.0263026</td>\n",
       "      <td>0.0075897</td>\n",
       "      <td>360</td>\n",
       "      <td>0.001</td>\n",
       "      <td>9</td>\n",
       "      <td>32</td>\n",
       "      <td>3708</td>\n",
       "      <td>0.0258377</td>\n",
       "      <td>307</td>\n",
       "      <td>0 min 10 sec</td>\n",
       "    </tr>\n",
       "    <tr>\n",
       "      <th>11th</th>\n",
       "      <td>Past</td>\n",
       "      <td>04Nov2020</td>\n",
       "      <td>09Nov2020</td>\n",
       "      <td>5311916</td>\n",
       "      <td>SIR-F</td>\n",
       "      <td>2.57</td>\n",
       "      <td>0.00256233</td>\n",
       "      <td>5.91493e-05</td>\n",
       "      <td>0.0192665</td>\n",
       "      <td>0.00741375</td>\n",
       "      <td>360</td>\n",
       "      <td>0.003</td>\n",
       "      <td>12</td>\n",
       "      <td>33</td>\n",
       "      <td>4226</td>\n",
       "      <td>0.0213283</td>\n",
       "      <td>299</td>\n",
       "      <td>0 min 10 sec</td>\n",
       "    </tr>\n",
       "    <tr>\n",
       "      <th>12th</th>\n",
       "      <td>Past</td>\n",
       "      <td>10Nov2020</td>\n",
       "      <td>15Nov2020</td>\n",
       "      <td>5311916</td>\n",
       "      <td>SIR-F</td>\n",
       "      <td>1.52</td>\n",
       "      <td>0.00274493</td>\n",
       "      <td>7.11257e-05</td>\n",
       "      <td>0.0179296</td>\n",
       "      <td>0.0117254</td>\n",
       "      <td>360</td>\n",
       "      <td>0.003</td>\n",
       "      <td>13</td>\n",
       "      <td>21</td>\n",
       "      <td>3514</td>\n",
       "      <td>0.0258526</td>\n",
       "      <td>307</td>\n",
       "      <td>0 min 10 sec</td>\n",
       "    </tr>\n",
       "    <tr>\n",
       "      <th>13th</th>\n",
       "      <td>Past</td>\n",
       "      <td>16Nov2020</td>\n",
       "      <td>22Nov2020</td>\n",
       "      <td>5311916</td>\n",
       "      <td>SIR-F</td>\n",
       "      <td>1.02</td>\n",
       "      <td>0.00116168</td>\n",
       "      <td>0.000150219</td>\n",
       "      <td>0.0162864</td>\n",
       "      <td>0.0158339</td>\n",
       "      <td>360</td>\n",
       "      <td>0.001</td>\n",
       "      <td>15</td>\n",
       "      <td>15</td>\n",
       "      <td>1664</td>\n",
       "      <td>0.091149</td>\n",
       "      <td>294</td>\n",
       "      <td>0 min 10 sec</td>\n",
       "    </tr>\n",
       "    <tr>\n",
       "      <th>14th</th>\n",
       "      <td>Past</td>\n",
       "      <td>23Nov2020</td>\n",
       "      <td>29Nov2020</td>\n",
       "      <td>5311916</td>\n",
       "      <td>SIR-F</td>\n",
       "      <td>0.88</td>\n",
       "      <td>0.000435443</td>\n",
       "      <td>9.8046e-05</td>\n",
       "      <td>0.0135395</td>\n",
       "      <td>0.0152242</td>\n",
       "      <td>360</td>\n",
       "      <td>0</td>\n",
       "      <td>18</td>\n",
       "      <td>16</td>\n",
       "      <td>2549</td>\n",
       "      <td>0.0165833</td>\n",
       "      <td>327</td>\n",
       "      <td>0 min 10 sec</td>\n",
       "    </tr>\n",
       "    <tr>\n",
       "      <th>15th</th>\n",
       "      <td>Past</td>\n",
       "      <td>30Nov2020</td>\n",
       "      <td>06Dec2020</td>\n",
       "      <td>5311916</td>\n",
       "      <td>SIR-F</td>\n",
       "      <td>0.55</td>\n",
       "      <td>0.0010152</td>\n",
       "      <td>0.000150038</td>\n",
       "      <td>0.0105543</td>\n",
       "      <td>0.0188973</td>\n",
       "      <td>360</td>\n",
       "      <td>0.001</td>\n",
       "      <td>23</td>\n",
       "      <td>13</td>\n",
       "      <td>1666</td>\n",
       "      <td>0.0555009</td>\n",
       "      <td>301</td>\n",
       "      <td>0 min 10 sec</td>\n",
       "    </tr>\n",
       "    <tr>\n",
       "      <th>16th</th>\n",
       "      <td>Past</td>\n",
       "      <td>07Dec2020</td>\n",
       "      <td>13Dec2020</td>\n",
       "      <td>5311916</td>\n",
       "      <td>SIR-F</td>\n",
       "      <td>0.83</td>\n",
       "      <td>0.00121218</td>\n",
       "      <td>0.000191595</td>\n",
       "      <td>0.016206</td>\n",
       "      <td>0.0193751</td>\n",
       "      <td>360</td>\n",
       "      <td>0.001</td>\n",
       "      <td>15</td>\n",
       "      <td>12</td>\n",
       "      <td>1304</td>\n",
       "      <td>0.0254121</td>\n",
       "      <td>299</td>\n",
       "      <td>0 min 10 sec</td>\n",
       "    </tr>\n",
       "    <tr>\n",
       "      <th>17th</th>\n",
       "      <td>Past</td>\n",
       "      <td>14Dec2020</td>\n",
       "      <td>20Dec2020</td>\n",
       "      <td>5311916</td>\n",
       "      <td>-</td>\n",
       "      <td>-</td>\n",
       "      <td>-</td>\n",
       "      <td>-</td>\n",
       "      <td>-</td>\n",
       "      <td>-</td>\n",
       "      <td>-</td>\n",
       "      <td>-</td>\n",
       "      <td>-</td>\n",
       "      <td>-</td>\n",
       "      <td>-</td>\n",
       "      <td>-</td>\n",
       "      <td>-</td>\n",
       "      <td>-</td>\n",
       "    </tr>\n",
       "  </tbody>\n",
       "</table>\n",
       "</div>"
      ],
      "text/plain": [
       "               Type      Start        End  Population    ODE    Rt  \\\n",
       "Country Phase                                                        \n",
       "Norway  0th    Past  15Mar2020  24Mar2020     5311916  SIR-F  11.3   \n",
       "        1st    Past  25Mar2020  02Apr2020     5311916  SIR-F   1.4   \n",
       "        2nd    Past  03Apr2020  20Apr2020     5311916  SIR-F  0.29   \n",
       "        3rd    Past  21Apr2020  02Jun2020     5311916  SIR-F  0.42   \n",
       "        4th    Past  03Jun2020  09Aug2020     5311916  SIR-F  0.99   \n",
       "        5th    Past  10Aug2020  04Sep2020     5311916  SIR-F  1.46   \n",
       "        6th    Past  05Sep2020  20Sep2020     5311916  SIR-F  1.49   \n",
       "        7th    Past  21Sep2020  05Oct2020     5311916  SIR-F  1.05   \n",
       "        8th    Past  06Oct2020  20Oct2020     5311916  SIR-F  1.25   \n",
       "        9th    Past  21Oct2020  28Oct2020     5311916      -     -   \n",
       "        10th   Past  29Oct2020  03Nov2020     5311916  SIR-F  3.43   \n",
       "        11th   Past  04Nov2020  09Nov2020     5311916  SIR-F  2.57   \n",
       "        12th   Past  10Nov2020  15Nov2020     5311916  SIR-F  1.52   \n",
       "        13th   Past  16Nov2020  22Nov2020     5311916  SIR-F  1.02   \n",
       "        14th   Past  23Nov2020  29Nov2020     5311916  SIR-F  0.88   \n",
       "        15th   Past  30Nov2020  06Dec2020     5311916  SIR-F  0.55   \n",
       "        16th   Past  07Dec2020  13Dec2020     5311916  SIR-F  0.83   \n",
       "        17th   Past  14Dec2020  20Dec2020     5311916      -     -   \n",
       "\n",
       "                     theta        kappa         rho       sigma  tau  \\\n",
       "Country Phase                                                          \n",
       "Norway  0th     0.00167109  7.11105e-05   0.0237204  0.00202426  360   \n",
       "        1st     0.00728322  0.000180071   0.0189406    0.013243  360   \n",
       "        2nd      0.0724657  0.000158361   0.0079601   0.0251777  360   \n",
       "        3rd      0.0677763  4.05582e-05  0.00963561   0.0213781  360   \n",
       "        4th      0.0222803  0.000151252   0.0173497   0.0169672  360   \n",
       "        5th     0.00108763  0.000191431   0.0200583   0.0135535  360   \n",
       "        6th      0.0165195  7.93545e-05   0.0182368   0.0119898  360   \n",
       "        7th    0.000900068  7.11105e-05   0.0171967   0.0163265  360   \n",
       "        8th    0.000900068  7.11105e-05   0.0176816   0.0140123  360   \n",
       "        9th              -            -           -           -    -   \n",
       "        10th   0.000676492  6.74045e-05   0.0263026   0.0075897  360   \n",
       "        11th    0.00256233  5.91493e-05   0.0192665  0.00741375  360   \n",
       "        12th    0.00274493  7.11257e-05   0.0179296   0.0117254  360   \n",
       "        13th    0.00116168  0.000150219   0.0162864   0.0158339  360   \n",
       "        14th   0.000435443   9.8046e-05   0.0135395   0.0152242  360   \n",
       "        15th     0.0010152  0.000150038   0.0105543   0.0188973  360   \n",
       "        16th    0.00121218  0.000191595    0.016206   0.0193751  360   \n",
       "        17th             -            -           -           -    -   \n",
       "\n",
       "              alpha1 [-] 1/beta [day] 1/gamma [day] 1/alpha2 [day]      RMSLE  \\\n",
       "Country Phase                                                                   \n",
       "Norway  0th        0.002           10           123           3515   0.256972   \n",
       "        1st        0.007           13            18           1388   0.135763   \n",
       "        2nd        0.072           31             9           1578   0.225087   \n",
       "        3rd        0.068           25            11           6163   0.078545   \n",
       "        4th        0.022           14            14           1652   0.187151   \n",
       "        5th        0.001           12            18           1305  0.0667907   \n",
       "        6th        0.017           13            20           3150  0.0973218   \n",
       "        7th        0.001           14            15           3515   0.020038   \n",
       "        8th        0.001           14            17           3515  0.0349302   \n",
       "        9th            -            -             -              -          -   \n",
       "        10th       0.001            9            32           3708  0.0258377   \n",
       "        11th       0.003           12            33           4226  0.0213283   \n",
       "        12th       0.003           13            21           3514  0.0258526   \n",
       "        13th       0.001           15            15           1664   0.091149   \n",
       "        14th           0           18            16           2549  0.0165833   \n",
       "        15th       0.001           23            13           1666  0.0555009   \n",
       "        16th       0.001           15            12           1304  0.0254121   \n",
       "        17th           -            -             -              -          -   \n",
       "\n",
       "              Trials       Runtime  \n",
       "Country Phase                       \n",
       "Norway  0th      328  0 min 10 sec  \n",
       "        1st      297  0 min 10 sec  \n",
       "        2nd      300  0 min 10 sec  \n",
       "        3rd      298  0 min 10 sec  \n",
       "        4th      287  0 min 10 sec  \n",
       "        5th      303  0 min 10 sec  \n",
       "        6th      312  0 min 10 sec  \n",
       "        7th      264  0 min 10 sec  \n",
       "        8th      293  0 min 10 sec  \n",
       "        9th        -             -  \n",
       "        10th     307  0 min 10 sec  \n",
       "        11th     299  0 min 10 sec  \n",
       "        12th     307  0 min 10 sec  \n",
       "        13th     294  0 min 10 sec  \n",
       "        14th     327  0 min 10 sec  \n",
       "        15th     301  0 min 10 sec  \n",
       "        16th     299  0 min 10 sec  \n",
       "        17th       -             -  "
      ]
     },
     "execution_count": 12,
     "metadata": {},
     "output_type": "execute_result"
    }
   ],
   "source": [
    "# Show summary\n",
    "analyser.summary(countries=countries_show)"
   ]
  },
  {
   "cell_type": "markdown",
   "metadata": {},
   "source": [
    "## Compare the history of parameters\n",
    "Here, compare the history of parameter values if countries."
   ]
  },
  {
   "cell_type": "code",
   "execution_count": 13,
   "metadata": {
    "collapsed": false
   },
   "outputs": [
    {
     "data": {
      "text/html": [
       "<div>\n",
       "<style scoped>\n",
       "    .dataframe tbody tr th:only-of-type {\n",
       "        vertical-align: middle;\n",
       "    }\n",
       "\n",
       "    .dataframe tbody tr th {\n",
       "        vertical-align: top;\n",
       "    }\n",
       "\n",
       "    .dataframe thead th {\n",
       "        text-align: right;\n",
       "    }\n",
       "</style>\n",
       "<table border=\"1\" class=\"dataframe\">\n",
       "  <thead>\n",
       "    <tr style=\"text-align: right;\">\n",
       "      <th></th>\n",
       "      <th>Date</th>\n",
       "      <th>Country</th>\n",
       "      <th>theta</th>\n",
       "      <th>kappa</th>\n",
       "      <th>rho</th>\n",
       "      <th>sigma</th>\n",
       "      <th>alpha1 [-]</th>\n",
       "      <th>1/alpha2 [day]</th>\n",
       "      <th>1/beta [day]</th>\n",
       "      <th>1/gamma [day]</th>\n",
       "      <th>...</th>\n",
       "      <th>Cancel_events</th>\n",
       "      <th>Gatherings_restrictions</th>\n",
       "      <th>Transport_closing</th>\n",
       "      <th>Stay_home_restrictions</th>\n",
       "      <th>Internal_movement_restrictions</th>\n",
       "      <th>International_movement_restrictions</th>\n",
       "      <th>Information_campaigns</th>\n",
       "      <th>Testing_policy</th>\n",
       "      <th>Contact_tracing</th>\n",
       "      <th>Stringency_index</th>\n",
       "    </tr>\n",
       "  </thead>\n",
       "  <tbody>\n",
       "    <tr>\n",
       "      <th>0</th>\n",
       "      <td>2020-03-02</td>\n",
       "      <td>Canada</td>\n",
       "      <td>0.0363548</td>\n",
       "      <td>4.57412e-06</td>\n",
       "      <td>0.0445658</td>\n",
       "      <td>0.00155453</td>\n",
       "      <td>0.036</td>\n",
       "      <td>54655</td>\n",
       "      <td>5</td>\n",
       "      <td>160</td>\n",
       "      <td>...</td>\n",
       "      <td>0</td>\n",
       "      <td>0</td>\n",
       "      <td>0</td>\n",
       "      <td>0</td>\n",
       "      <td>0</td>\n",
       "      <td>1</td>\n",
       "      <td>0</td>\n",
       "      <td>1</td>\n",
       "      <td>1</td>\n",
       "      <td>2.78</td>\n",
       "    </tr>\n",
       "    <tr>\n",
       "      <th>1</th>\n",
       "      <td>2020-03-02</td>\n",
       "      <td>Canada</td>\n",
       "      <td>0.0363548</td>\n",
       "      <td>4.57412e-06</td>\n",
       "      <td>0.0445658</td>\n",
       "      <td>0.00155453</td>\n",
       "      <td>0.036</td>\n",
       "      <td>54655</td>\n",
       "      <td>5</td>\n",
       "      <td>160</td>\n",
       "      <td>...</td>\n",
       "      <td>0</td>\n",
       "      <td>0</td>\n",
       "      <td>0</td>\n",
       "      <td>0</td>\n",
       "      <td>0</td>\n",
       "      <td>0</td>\n",
       "      <td>0</td>\n",
       "      <td>0</td>\n",
       "      <td>0</td>\n",
       "      <td>0.00</td>\n",
       "    </tr>\n",
       "    <tr>\n",
       "      <th>2</th>\n",
       "      <td>2020-03-02</td>\n",
       "      <td>Canada</td>\n",
       "      <td>0.0363548</td>\n",
       "      <td>4.57412e-06</td>\n",
       "      <td>0.0445658</td>\n",
       "      <td>0.00155453</td>\n",
       "      <td>0.036</td>\n",
       "      <td>54655</td>\n",
       "      <td>5</td>\n",
       "      <td>160</td>\n",
       "      <td>...</td>\n",
       "      <td>0</td>\n",
       "      <td>0</td>\n",
       "      <td>0</td>\n",
       "      <td>0</td>\n",
       "      <td>0</td>\n",
       "      <td>0</td>\n",
       "      <td>0</td>\n",
       "      <td>0</td>\n",
       "      <td>0</td>\n",
       "      <td>0.00</td>\n",
       "    </tr>\n",
       "    <tr>\n",
       "      <th>3</th>\n",
       "      <td>2020-03-02</td>\n",
       "      <td>Canada</td>\n",
       "      <td>0.0363548</td>\n",
       "      <td>4.57412e-06</td>\n",
       "      <td>0.0445658</td>\n",
       "      <td>0.00155453</td>\n",
       "      <td>0.036</td>\n",
       "      <td>54655</td>\n",
       "      <td>5</td>\n",
       "      <td>160</td>\n",
       "      <td>...</td>\n",
       "      <td>0</td>\n",
       "      <td>0</td>\n",
       "      <td>0</td>\n",
       "      <td>0</td>\n",
       "      <td>0</td>\n",
       "      <td>0</td>\n",
       "      <td>0</td>\n",
       "      <td>0</td>\n",
       "      <td>0</td>\n",
       "      <td>0.00</td>\n",
       "    </tr>\n",
       "    <tr>\n",
       "      <th>4</th>\n",
       "      <td>2020-03-02</td>\n",
       "      <td>Canada</td>\n",
       "      <td>0.0363548</td>\n",
       "      <td>4.57412e-06</td>\n",
       "      <td>0.0445658</td>\n",
       "      <td>0.00155453</td>\n",
       "      <td>0.036</td>\n",
       "      <td>54655</td>\n",
       "      <td>5</td>\n",
       "      <td>160</td>\n",
       "      <td>...</td>\n",
       "      <td>0</td>\n",
       "      <td>0</td>\n",
       "      <td>0</td>\n",
       "      <td>0</td>\n",
       "      <td>0</td>\n",
       "      <td>0</td>\n",
       "      <td>0</td>\n",
       "      <td>0</td>\n",
       "      <td>0</td>\n",
       "      <td>0.00</td>\n",
       "    </tr>\n",
       "  </tbody>\n",
       "</table>\n",
       "<p>5 rows × 23 columns</p>\n",
       "</div>"
      ],
      "text/plain": [
       "        Date Country      theta        kappa        rho       sigma  \\\n",
       "0 2020-03-02  Canada  0.0363548  4.57412e-06  0.0445658  0.00155453   \n",
       "1 2020-03-02  Canada  0.0363548  4.57412e-06  0.0445658  0.00155453   \n",
       "2 2020-03-02  Canada  0.0363548  4.57412e-06  0.0445658  0.00155453   \n",
       "3 2020-03-02  Canada  0.0363548  4.57412e-06  0.0445658  0.00155453   \n",
       "4 2020-03-02  Canada  0.0363548  4.57412e-06  0.0445658  0.00155453   \n",
       "\n",
       "  alpha1 [-] 1/alpha2 [day] 1/beta [day] 1/gamma [day]  ... Cancel_events  \\\n",
       "0      0.036          54655            5           160  ...             0   \n",
       "1      0.036          54655            5           160  ...             0   \n",
       "2      0.036          54655            5           160  ...             0   \n",
       "3      0.036          54655            5           160  ...             0   \n",
       "4      0.036          54655            5           160  ...             0   \n",
       "\n",
       "   Gatherings_restrictions  Transport_closing  Stay_home_restrictions  \\\n",
       "0                        0                  0                       0   \n",
       "1                        0                  0                       0   \n",
       "2                        0                  0                       0   \n",
       "3                        0                  0                       0   \n",
       "4                        0                  0                       0   \n",
       "\n",
       "   Internal_movement_restrictions  International_movement_restrictions  \\\n",
       "0                               0                                    1   \n",
       "1                               0                                    0   \n",
       "2                               0                                    0   \n",
       "3                               0                                    0   \n",
       "4                               0                                    0   \n",
       "\n",
       "   Information_campaigns  Testing_policy  Contact_tracing  Stringency_index  \n",
       "0                      0               1                1              2.78  \n",
       "1                      0               0                0              0.00  \n",
       "2                      0               0                0              0.00  \n",
       "3                      0               0                0              0.00  \n",
       "4                      0               0                0              0.00  \n",
       "\n",
       "[5 rows x 23 columns]"
      ]
     },
     "execution_count": 13,
     "metadata": {},
     "output_type": "execute_result"
    }
   ],
   "source": [
    "# All parameter/day parameter/Rt/OxCGRT\n",
    "analyser.track().head()"
   ]
  },
  {
   "cell_type": "markdown",
   "metadata": {},
   "source": [
    "### $Rt$: Reprodcution number $\\mathrm{[-]}$"
   ]
  },
  {
   "cell_type": "code",
   "execution_count": 14,
   "metadata": {
    "collapsed": false
   },
   "outputs": [
    {
     "data": {
      "image/png": "[encoded data removed]",
      "text/plain": [
       "<Figure size 648x432 with 1 Axes>"
      ]
     },
     "metadata": {},
     "output_type": "display_data"
    },
    {
     "data": {
      "text/html": [
       "<div>\n",
       "<style scoped>\n",
       "    .dataframe tbody tr th:only-of-type {\n",
       "        vertical-align: middle;\n",
       "    }\n",
       "\n",
       "    .dataframe tbody tr th {\n",
       "        vertical-align: top;\n",
       "    }\n",
       "\n",
       "    .dataframe thead th {\n",
       "        text-align: right;\n",
       "    }\n",
       "</style>\n",
       "<table border=\"1\" class=\"dataframe\">\n",
       "  <thead>\n",
       "    <tr style=\"text-align: right;\">\n",
       "      <th>Country</th>\n",
       "      <th>Austria</th>\n",
       "      <th>Belgium</th>\n",
       "      <th>Canada</th>\n",
       "      <th>Denmark</th>\n",
       "      <th>Finland</th>\n",
       "      <th>France</th>\n",
       "      <th>Germany</th>\n",
       "      <th>Netherlands</th>\n",
       "      <th>Norway</th>\n",
       "      <th>Portugal</th>\n",
       "      <th>Romania</th>\n",
       "      <th>Sweden</th>\n",
       "      <th>United Kingdom</th>\n",
       "    </tr>\n",
       "    <tr>\n",
       "      <th>Date</th>\n",
       "      <th></th>\n",
       "      <th></th>\n",
       "      <th></th>\n",
       "      <th></th>\n",
       "      <th></th>\n",
       "      <th></th>\n",
       "      <th></th>\n",
       "      <th></th>\n",
       "      <th></th>\n",
       "      <th></th>\n",
       "      <th></th>\n",
       "      <th></th>\n",
       "      <th></th>\n",
       "    </tr>\n",
       "  </thead>\n",
       "  <tbody>\n",
       "    <tr>\n",
       "      <th>2020-12-16</th>\n",
       "      <td>1.09</td>\n",
       "      <td>1.01</td>\n",
       "      <td>1.19</td>\n",
       "      <td>2.41</td>\n",
       "      <td>1.77</td>\n",
       "      <td>3.72</td>\n",
       "      <td>1.94</td>\n",
       "      <td>1.23</td>\n",
       "      <td>0.83</td>\n",
       "      <td>1.01</td>\n",
       "      <td>0.95</td>\n",
       "      <td>1.39</td>\n",
       "      <td>1.54</td>\n",
       "    </tr>\n",
       "    <tr>\n",
       "      <th>2020-12-17</th>\n",
       "      <td>1.09</td>\n",
       "      <td>1.01</td>\n",
       "      <td>1.19</td>\n",
       "      <td>2.41</td>\n",
       "      <td>1.77</td>\n",
       "      <td>3.72</td>\n",
       "      <td>1.94</td>\n",
       "      <td>1.23</td>\n",
       "      <td>0.83</td>\n",
       "      <td>1.01</td>\n",
       "      <td>0.95</td>\n",
       "      <td>1.39</td>\n",
       "      <td>1.54</td>\n",
       "    </tr>\n",
       "    <tr>\n",
       "      <th>2020-12-18</th>\n",
       "      <td>1.09</td>\n",
       "      <td>1.01</td>\n",
       "      <td>1.19</td>\n",
       "      <td>2.41</td>\n",
       "      <td>1.77</td>\n",
       "      <td>3.72</td>\n",
       "      <td>1.94</td>\n",
       "      <td>1.23</td>\n",
       "      <td>0.83</td>\n",
       "      <td>1.01</td>\n",
       "      <td>0.95</td>\n",
       "      <td>1.39</td>\n",
       "      <td>1.54</td>\n",
       "    </tr>\n",
       "    <tr>\n",
       "      <th>2020-12-19</th>\n",
       "      <td>1.09</td>\n",
       "      <td>1.01</td>\n",
       "      <td>1.19</td>\n",
       "      <td>2.41</td>\n",
       "      <td>1.77</td>\n",
       "      <td>3.72</td>\n",
       "      <td>1.94</td>\n",
       "      <td>1.23</td>\n",
       "      <td>0.83</td>\n",
       "      <td>1.01</td>\n",
       "      <td>0.95</td>\n",
       "      <td>1.39</td>\n",
       "      <td>1.54</td>\n",
       "    </tr>\n",
       "    <tr>\n",
       "      <th>2020-12-20</th>\n",
       "      <td>1.09</td>\n",
       "      <td>1.01</td>\n",
       "      <td>1.19</td>\n",
       "      <td>2.41</td>\n",
       "      <td>1.77</td>\n",
       "      <td>3.72</td>\n",
       "      <td>1.94</td>\n",
       "      <td>1.23</td>\n",
       "      <td>0.83</td>\n",
       "      <td>1.01</td>\n",
       "      <td>0.95</td>\n",
       "      <td>1.39</td>\n",
       "      <td>1.54</td>\n",
       "    </tr>\n",
       "  </tbody>\n",
       "</table>\n",
       "</div>"
      ],
      "text/plain": [
       "Country     Austria  Belgium  Canada  Denmark  Finland  France  Germany  \\\n",
       "Date                                                                      \n",
       "2020-12-16     1.09     1.01    1.19     2.41     1.77    3.72     1.94   \n",
       "2020-12-17     1.09     1.01    1.19     2.41     1.77    3.72     1.94   \n",
       "2020-12-18     1.09     1.01    1.19     2.41     1.77    3.72     1.94   \n",
       "2020-12-19     1.09     1.01    1.19     2.41     1.77    3.72     1.94   \n",
       "2020-12-20     1.09     1.01    1.19     2.41     1.77    3.72     1.94   \n",
       "\n",
       "Country     Netherlands  Norway  Portugal  Romania  Sweden  United Kingdom  \n",
       "Date                                                                        \n",
       "2020-12-16         1.23    0.83      1.01     0.95    1.39            1.54  \n",
       "2020-12-17         1.23    0.83      1.01     0.95    1.39            1.54  \n",
       "2020-12-18         1.23    0.83      1.01     0.95    1.39            1.54  \n",
       "2020-12-19         1.23    0.83      1.01     0.95    1.39            1.54  \n",
       "2020-12-20         1.23    0.83      1.01     0.95    1.39            1.54  "
      ]
     },
     "execution_count": 14,
     "metadata": {},
     "output_type": "execute_result"
    }
   ],
   "source": [
    "analyser.history(\"Rt\", roll_window=None).tail()"
   ]
  },
  {
   "cell_type": "markdown",
   "metadata": {},
   "source": [
    "### $\\rho$: Effective contact rate $\\mathrm{[-]}$"
   ]
  },
  {
   "cell_type": "code",
   "execution_count": 15,
   "metadata": {
    "collapsed": false
   },
   "outputs": [
    {
     "data": {
      "image/png": "[encoded data removed]",
      "text/plain": [
       "<Figure size 648x432 with 1 Axes>"
      ]
     },
     "metadata": {},
     "output_type": "display_data"
    },
    {
     "data": {
      "text/html": [
       "<div>\n",
       "<style scoped>\n",
       "    .dataframe tbody tr th:only-of-type {\n",
       "        vertical-align: middle;\n",
       "    }\n",
       "\n",
       "    .dataframe tbody tr th {\n",
       "        vertical-align: top;\n",
       "    }\n",
       "\n",
       "    .dataframe thead th {\n",
       "        text-align: right;\n",
       "    }\n",
       "</style>\n",
       "<table border=\"1\" class=\"dataframe\">\n",
       "  <thead>\n",
       "    <tr style=\"text-align: right;\">\n",
       "      <th>Country</th>\n",
       "      <th>Austria</th>\n",
       "      <th>Belgium</th>\n",
       "      <th>Canada</th>\n",
       "      <th>Denmark</th>\n",
       "      <th>Finland</th>\n",
       "      <th>France</th>\n",
       "      <th>Germany</th>\n",
       "      <th>Netherlands</th>\n",
       "      <th>Norway</th>\n",
       "      <th>Portugal</th>\n",
       "      <th>Romania</th>\n",
       "      <th>Sweden</th>\n",
       "      <th>United Kingdom</th>\n",
       "    </tr>\n",
       "    <tr>\n",
       "      <th>Date</th>\n",
       "      <th></th>\n",
       "      <th></th>\n",
       "      <th></th>\n",
       "      <th></th>\n",
       "      <th></th>\n",
       "      <th></th>\n",
       "      <th></th>\n",
       "      <th></th>\n",
       "      <th></th>\n",
       "      <th></th>\n",
       "      <th></th>\n",
       "      <th></th>\n",
       "      <th></th>\n",
       "    </tr>\n",
       "  </thead>\n",
       "  <tbody>\n",
       "    <tr>\n",
       "      <th>2020-12-16</th>\n",
       "      <td>0.007959</td>\n",
       "      <td>0.018427</td>\n",
       "      <td>0.022378</td>\n",
       "      <td>0.027433</td>\n",
       "      <td>0.01757</td>\n",
       "      <td>0.001414</td>\n",
       "      <td>0.019431</td>\n",
       "      <td>0.0194</td>\n",
       "      <td>0.016206</td>\n",
       "      <td>0.007318</td>\n",
       "      <td>0.016568</td>\n",
       "      <td>0.017324</td>\n",
       "      <td>0.021216</td>\n",
       "    </tr>\n",
       "    <tr>\n",
       "      <th>2020-12-17</th>\n",
       "      <td>0.007959</td>\n",
       "      <td>0.018427</td>\n",
       "      <td>0.022378</td>\n",
       "      <td>0.027433</td>\n",
       "      <td>0.01757</td>\n",
       "      <td>0.001414</td>\n",
       "      <td>0.019431</td>\n",
       "      <td>0.0194</td>\n",
       "      <td>0.016206</td>\n",
       "      <td>0.007318</td>\n",
       "      <td>0.016568</td>\n",
       "      <td>0.017324</td>\n",
       "      <td>0.021216</td>\n",
       "    </tr>\n",
       "    <tr>\n",
       "      <th>2020-12-18</th>\n",
       "      <td>0.007959</td>\n",
       "      <td>0.018427</td>\n",
       "      <td>0.022378</td>\n",
       "      <td>0.027433</td>\n",
       "      <td>0.01757</td>\n",
       "      <td>0.001414</td>\n",
       "      <td>0.019431</td>\n",
       "      <td>0.0194</td>\n",
       "      <td>0.016206</td>\n",
       "      <td>0.007318</td>\n",
       "      <td>0.016568</td>\n",
       "      <td>0.017324</td>\n",
       "      <td>0.021216</td>\n",
       "    </tr>\n",
       "    <tr>\n",
       "      <th>2020-12-19</th>\n",
       "      <td>0.007959</td>\n",
       "      <td>0.018427</td>\n",
       "      <td>0.022378</td>\n",
       "      <td>0.027433</td>\n",
       "      <td>0.01757</td>\n",
       "      <td>0.001414</td>\n",
       "      <td>0.019431</td>\n",
       "      <td>0.0194</td>\n",
       "      <td>0.016206</td>\n",
       "      <td>0.007318</td>\n",
       "      <td>0.016568</td>\n",
       "      <td>0.017324</td>\n",
       "      <td>0.021216</td>\n",
       "    </tr>\n",
       "    <tr>\n",
       "      <th>2020-12-20</th>\n",
       "      <td>0.007959</td>\n",
       "      <td>0.018427</td>\n",
       "      <td>0.022378</td>\n",
       "      <td>0.027433</td>\n",
       "      <td>0.01757</td>\n",
       "      <td>0.001414</td>\n",
       "      <td>0.019431</td>\n",
       "      <td>0.0194</td>\n",
       "      <td>0.016206</td>\n",
       "      <td>0.007318</td>\n",
       "      <td>0.016568</td>\n",
       "      <td>0.017324</td>\n",
       "      <td>0.021216</td>\n",
       "    </tr>\n",
       "  </tbody>\n",
       "</table>\n",
       "</div>"
      ],
      "text/plain": [
       "Country      Austria   Belgium    Canada   Denmark  Finland    France  \\\n",
       "Date                                                                    \n",
       "2020-12-16  0.007959  0.018427  0.022378  0.027433  0.01757  0.001414   \n",
       "2020-12-17  0.007959  0.018427  0.022378  0.027433  0.01757  0.001414   \n",
       "2020-12-18  0.007959  0.018427  0.022378  0.027433  0.01757  0.001414   \n",
       "2020-12-19  0.007959  0.018427  0.022378  0.027433  0.01757  0.001414   \n",
       "2020-12-20  0.007959  0.018427  0.022378  0.027433  0.01757  0.001414   \n",
       "\n",
       "Country      Germany  Netherlands    Norway  Portugal   Romania    Sweden  \\\n",
       "Date                                                                        \n",
       "2020-12-16  0.019431       0.0194  0.016206  0.007318  0.016568  0.017324   \n",
       "2020-12-17  0.019431       0.0194  0.016206  0.007318  0.016568  0.017324   \n",
       "2020-12-18  0.019431       0.0194  0.016206  0.007318  0.016568  0.017324   \n",
       "2020-12-19  0.019431       0.0194  0.016206  0.007318  0.016568  0.017324   \n",
       "2020-12-20  0.019431       0.0194  0.016206  0.007318  0.016568  0.017324   \n",
       "\n",
       "Country     United Kingdom  \n",
       "Date                        \n",
       "2020-12-16        0.021216  \n",
       "2020-12-17        0.021216  \n",
       "2020-12-18        0.021216  \n",
       "2020-12-19        0.021216  \n",
       "2020-12-20        0.021216  "
      ]
     },
     "execution_count": 15,
     "metadata": {},
     "output_type": "execute_result"
    }
   ],
   "source": [
    "analyser.history(\"rho\", roll_window=None).tail()"
   ]
  },
  {
   "cell_type": "markdown",
   "metadata": {},
   "source": [
    "### $\\sigma$: Recovery rate $\\mathrm{[-]}$"
   ]
  },
  {
   "cell_type": "code",
   "execution_count": 16,
   "metadata": {
    "collapsed": false
   },
   "outputs": [
    {
     "data": {
      "image/png": "[encoded data removed]",
      "text/plain": [
       "<Figure size 648x432 with 1 Axes>"
      ]
     },
     "metadata": {},
     "output_type": "display_data"
    },
    {
     "data": {
      "text/html": [
       "<div>\n",
       "<style scoped>\n",
       "    .dataframe tbody tr th:only-of-type {\n",
       "        vertical-align: middle;\n",
       "    }\n",
       "\n",
       "    .dataframe tbody tr th {\n",
       "        vertical-align: top;\n",
       "    }\n",
       "\n",
       "    .dataframe thead th {\n",
       "        text-align: right;\n",
       "    }\n",
       "</style>\n",
       "<table border=\"1\" class=\"dataframe\">\n",
       "  <thead>\n",
       "    <tr style=\"text-align: right;\">\n",
       "      <th>Country</th>\n",
       "      <th>Austria</th>\n",
       "      <th>Belgium</th>\n",
       "      <th>Canada</th>\n",
       "      <th>Denmark</th>\n",
       "      <th>Finland</th>\n",
       "      <th>France</th>\n",
       "      <th>Germany</th>\n",
       "      <th>Netherlands</th>\n",
       "      <th>Norway</th>\n",
       "      <th>Portugal</th>\n",
       "      <th>Romania</th>\n",
       "      <th>Sweden</th>\n",
       "      <th>United Kingdom</th>\n",
       "    </tr>\n",
       "    <tr>\n",
       "      <th>Date</th>\n",
       "      <th></th>\n",
       "      <th></th>\n",
       "      <th></th>\n",
       "      <th></th>\n",
       "      <th></th>\n",
       "      <th></th>\n",
       "      <th></th>\n",
       "      <th></th>\n",
       "      <th></th>\n",
       "      <th></th>\n",
       "      <th></th>\n",
       "      <th></th>\n",
       "      <th></th>\n",
       "    </tr>\n",
       "  </thead>\n",
       "  <tbody>\n",
       "    <tr>\n",
       "      <th>2020-12-16</th>\n",
       "      <td>0.007081</td>\n",
       "      <td>0.017818</td>\n",
       "      <td>0.018348</td>\n",
       "      <td>0.011324</td>\n",
       "      <td>0.009861</td>\n",
       "      <td>0.000152</td>\n",
       "      <td>0.009767</td>\n",
       "      <td>0.015615</td>\n",
       "      <td>0.019375</td>\n",
       "      <td>0.007054</td>\n",
       "      <td>0.017081</td>\n",
       "      <td>0.012327</td>\n",
       "      <td>0.013455</td>\n",
       "    </tr>\n",
       "    <tr>\n",
       "      <th>2020-12-17</th>\n",
       "      <td>0.007081</td>\n",
       "      <td>0.017818</td>\n",
       "      <td>0.018348</td>\n",
       "      <td>0.011324</td>\n",
       "      <td>0.009861</td>\n",
       "      <td>0.000152</td>\n",
       "      <td>0.009767</td>\n",
       "      <td>0.015615</td>\n",
       "      <td>0.019375</td>\n",
       "      <td>0.007054</td>\n",
       "      <td>0.017081</td>\n",
       "      <td>0.012327</td>\n",
       "      <td>0.013455</td>\n",
       "    </tr>\n",
       "    <tr>\n",
       "      <th>2020-12-18</th>\n",
       "      <td>0.007081</td>\n",
       "      <td>0.017818</td>\n",
       "      <td>0.018348</td>\n",
       "      <td>0.011324</td>\n",
       "      <td>0.009861</td>\n",
       "      <td>0.000152</td>\n",
       "      <td>0.009767</td>\n",
       "      <td>0.015615</td>\n",
       "      <td>0.019375</td>\n",
       "      <td>0.007054</td>\n",
       "      <td>0.017081</td>\n",
       "      <td>0.012327</td>\n",
       "      <td>0.013455</td>\n",
       "    </tr>\n",
       "    <tr>\n",
       "      <th>2020-12-19</th>\n",
       "      <td>0.007081</td>\n",
       "      <td>0.017818</td>\n",
       "      <td>0.018348</td>\n",
       "      <td>0.011324</td>\n",
       "      <td>0.009861</td>\n",
       "      <td>0.000152</td>\n",
       "      <td>0.009767</td>\n",
       "      <td>0.015615</td>\n",
       "      <td>0.019375</td>\n",
       "      <td>0.007054</td>\n",
       "      <td>0.017081</td>\n",
       "      <td>0.012327</td>\n",
       "      <td>0.013455</td>\n",
       "    </tr>\n",
       "    <tr>\n",
       "      <th>2020-12-20</th>\n",
       "      <td>0.007081</td>\n",
       "      <td>0.017818</td>\n",
       "      <td>0.018348</td>\n",
       "      <td>0.011324</td>\n",
       "      <td>0.009861</td>\n",
       "      <td>0.000152</td>\n",
       "      <td>0.009767</td>\n",
       "      <td>0.015615</td>\n",
       "      <td>0.019375</td>\n",
       "      <td>0.007054</td>\n",
       "      <td>0.017081</td>\n",
       "      <td>0.012327</td>\n",
       "      <td>0.013455</td>\n",
       "    </tr>\n",
       "  </tbody>\n",
       "</table>\n",
       "</div>"
      ],
      "text/plain": [
       "Country      Austria   Belgium    Canada   Denmark   Finland    France  \\\n",
       "Date                                                                     \n",
       "2020-12-16  0.007081  0.017818  0.018348  0.011324  0.009861  0.000152   \n",
       "2020-12-17  0.007081  0.017818  0.018348  0.011324  0.009861  0.000152   \n",
       "2020-12-18  0.007081  0.017818  0.018348  0.011324  0.009861  0.000152   \n",
       "2020-12-19  0.007081  0.017818  0.018348  0.011324  0.009861  0.000152   \n",
       "2020-12-20  0.007081  0.017818  0.018348  0.011324  0.009861  0.000152   \n",
       "\n",
       "Country      Germany  Netherlands    Norway  Portugal   Romania    Sweden  \\\n",
       "Date                                                                        \n",
       "2020-12-16  0.009767     0.015615  0.019375  0.007054  0.017081  0.012327   \n",
       "2020-12-17  0.009767     0.015615  0.019375  0.007054  0.017081  0.012327   \n",
       "2020-12-18  0.009767     0.015615  0.019375  0.007054  0.017081  0.012327   \n",
       "2020-12-19  0.009767     0.015615  0.019375  0.007054  0.017081  0.012327   \n",
       "2020-12-20  0.009767     0.015615  0.019375  0.007054  0.017081  0.012327   \n",
       "\n",
       "Country     United Kingdom  \n",
       "Date                        \n",
       "2020-12-16        0.013455  \n",
       "2020-12-17        0.013455  \n",
       "2020-12-18        0.013455  \n",
       "2020-12-19        0.013455  \n",
       "2020-12-20        0.013455  "
      ]
     },
     "execution_count": 16,
     "metadata": {},
     "output_type": "execute_result"
    }
   ],
   "source": [
    "analyser.history(\"sigma\", roll_window=None).tail()"
   ]
  },
  {
   "cell_type": "markdown",
   "metadata": {},
   "source": [
    "### $\\kappa$: Mortality rate of infected cases $\\mathrm{[-]}$"
   ]
  },
  {
   "cell_type": "code",
   "execution_count": 17,
   "metadata": {
    "collapsed": false
   },
   "outputs": [
    {
     "data": {
      "image/png": "[encoded data removed]",
      "text/plain": [
       "<Figure size 648x432 with 1 Axes>"
      ]
     },
     "metadata": {},
     "output_type": "display_data"
    },
    {
     "data": {
      "text/html": [
       "<div>\n",
       "<style scoped>\n",
       "    .dataframe tbody tr th:only-of-type {\n",
       "        vertical-align: middle;\n",
       "    }\n",
       "\n",
       "    .dataframe tbody tr th {\n",
       "        vertical-align: top;\n",
       "    }\n",
       "\n",
       "    .dataframe thead th {\n",
       "        text-align: right;\n",
       "    }\n",
       "</style>\n",
       "<table border=\"1\" class=\"dataframe\">\n",
       "  <thead>\n",
       "    <tr style=\"text-align: right;\">\n",
       "      <th>Country</th>\n",
       "      <th>Austria</th>\n",
       "      <th>Belgium</th>\n",
       "      <th>Canada</th>\n",
       "      <th>Denmark</th>\n",
       "      <th>Finland</th>\n",
       "      <th>France</th>\n",
       "      <th>Germany</th>\n",
       "      <th>Netherlands</th>\n",
       "      <th>Norway</th>\n",
       "      <th>Portugal</th>\n",
       "      <th>Romania</th>\n",
       "      <th>Sweden</th>\n",
       "      <th>United Kingdom</th>\n",
       "    </tr>\n",
       "    <tr>\n",
       "      <th>Date</th>\n",
       "      <th></th>\n",
       "      <th></th>\n",
       "      <th></th>\n",
       "      <th></th>\n",
       "      <th></th>\n",
       "      <th></th>\n",
       "      <th></th>\n",
       "      <th></th>\n",
       "      <th></th>\n",
       "      <th></th>\n",
       "      <th></th>\n",
       "      <th></th>\n",
       "      <th></th>\n",
       "    </tr>\n",
       "  </thead>\n",
       "  <tbody>\n",
       "    <tr>\n",
       "      <th>2020-12-16</th>\n",
       "      <td>0.000235</td>\n",
       "      <td>0.000309</td>\n",
       "      <td>0.00004</td>\n",
       "      <td>0.000079</td>\n",
       "      <td>0.000079</td>\n",
       "      <td>0.000002</td>\n",
       "      <td>0.000228</td>\n",
       "      <td>0.000059</td>\n",
       "      <td>0.000192</td>\n",
       "      <td>0.00004</td>\n",
       "      <td>0.000426</td>\n",
       "      <td>0.000096</td>\n",
       "      <td>0.000309</td>\n",
       "    </tr>\n",
       "    <tr>\n",
       "      <th>2020-12-17</th>\n",
       "      <td>0.000235</td>\n",
       "      <td>0.000309</td>\n",
       "      <td>0.00004</td>\n",
       "      <td>0.000079</td>\n",
       "      <td>0.000079</td>\n",
       "      <td>0.000002</td>\n",
       "      <td>0.000228</td>\n",
       "      <td>0.000059</td>\n",
       "      <td>0.000192</td>\n",
       "      <td>0.00004</td>\n",
       "      <td>0.000426</td>\n",
       "      <td>0.000096</td>\n",
       "      <td>0.000309</td>\n",
       "    </tr>\n",
       "    <tr>\n",
       "      <th>2020-12-18</th>\n",
       "      <td>0.000235</td>\n",
       "      <td>0.000309</td>\n",
       "      <td>0.00004</td>\n",
       "      <td>0.000079</td>\n",
       "      <td>0.000079</td>\n",
       "      <td>0.000002</td>\n",
       "      <td>0.000228</td>\n",
       "      <td>0.000059</td>\n",
       "      <td>0.000192</td>\n",
       "      <td>0.00004</td>\n",
       "      <td>0.000426</td>\n",
       "      <td>0.000096</td>\n",
       "      <td>0.000309</td>\n",
       "    </tr>\n",
       "    <tr>\n",
       "      <th>2020-12-19</th>\n",
       "      <td>0.000235</td>\n",
       "      <td>0.000309</td>\n",
       "      <td>0.00004</td>\n",
       "      <td>0.000079</td>\n",
       "      <td>0.000079</td>\n",
       "      <td>0.000002</td>\n",
       "      <td>0.000228</td>\n",
       "      <td>0.000059</td>\n",
       "      <td>0.000192</td>\n",
       "      <td>0.00004</td>\n",
       "      <td>0.000426</td>\n",
       "      <td>0.000096</td>\n",
       "      <td>0.000309</td>\n",
       "    </tr>\n",
       "    <tr>\n",
       "      <th>2020-12-20</th>\n",
       "      <td>0.000235</td>\n",
       "      <td>0.000309</td>\n",
       "      <td>0.00004</td>\n",
       "      <td>0.000079</td>\n",
       "      <td>0.000079</td>\n",
       "      <td>0.000002</td>\n",
       "      <td>0.000228</td>\n",
       "      <td>0.000059</td>\n",
       "      <td>0.000192</td>\n",
       "      <td>0.00004</td>\n",
       "      <td>0.000426</td>\n",
       "      <td>0.000096</td>\n",
       "      <td>0.000309</td>\n",
       "    </tr>\n",
       "  </tbody>\n",
       "</table>\n",
       "</div>"
      ],
      "text/plain": [
       "Country      Austria   Belgium   Canada   Denmark   Finland    France  \\\n",
       "Date                                                                    \n",
       "2020-12-16  0.000235  0.000309  0.00004  0.000079  0.000079  0.000002   \n",
       "2020-12-17  0.000235  0.000309  0.00004  0.000079  0.000079  0.000002   \n",
       "2020-12-18  0.000235  0.000309  0.00004  0.000079  0.000079  0.000002   \n",
       "2020-12-19  0.000235  0.000309  0.00004  0.000079  0.000079  0.000002   \n",
       "2020-12-20  0.000235  0.000309  0.00004  0.000079  0.000079  0.000002   \n",
       "\n",
       "Country      Germany  Netherlands    Norway  Portugal   Romania    Sweden  \\\n",
       "Date                                                                        \n",
       "2020-12-16  0.000228     0.000059  0.000192   0.00004  0.000426  0.000096   \n",
       "2020-12-17  0.000228     0.000059  0.000192   0.00004  0.000426  0.000096   \n",
       "2020-12-18  0.000228     0.000059  0.000192   0.00004  0.000426  0.000096   \n",
       "2020-12-19  0.000228     0.000059  0.000192   0.00004  0.000426  0.000096   \n",
       "2020-12-20  0.000228     0.000059  0.000192   0.00004  0.000426  0.000096   \n",
       "\n",
       "Country     United Kingdom  \n",
       "Date                        \n",
       "2020-12-16        0.000309  \n",
       "2020-12-17        0.000309  \n",
       "2020-12-18        0.000309  \n",
       "2020-12-19        0.000309  \n",
       "2020-12-20        0.000309  "
      ]
     },
     "execution_count": 17,
     "metadata": {},
     "output_type": "execute_result"
    }
   ],
   "source": [
    "analyser.history(\"kappa\", roll_window=None).tail()"
   ]
  },
  {
   "cell_type": "markdown",
   "metadata": {},
   "source": [
    "### $\\theta$: Mortality rate of S$^\\ast$ cases $\\mathrm{[-]}$"
   ]
  },
  {
   "cell_type": "code",
   "execution_count": 18,
   "metadata": {
    "collapsed": false
   },
   "outputs": [
    {
     "data": {
      "image/png": "[encoded data removed]",
      "text/plain": [
       "<Figure size 648x432 with 1 Axes>"
      ]
     },
     "metadata": {},
     "output_type": "display_data"
    },
    {
     "data": {
      "text/html": [
       "<div>\n",
       "<style scoped>\n",
       "    .dataframe tbody tr th:only-of-type {\n",
       "        vertical-align: middle;\n",
       "    }\n",
       "\n",
       "    .dataframe tbody tr th {\n",
       "        vertical-align: top;\n",
       "    }\n",
       "\n",
       "    .dataframe thead th {\n",
       "        text-align: right;\n",
       "    }\n",
       "</style>\n",
       "<table border=\"1\" class=\"dataframe\">\n",
       "  <thead>\n",
       "    <tr style=\"text-align: right;\">\n",
       "      <th>Country</th>\n",
       "      <th>Austria</th>\n",
       "      <th>Belgium</th>\n",
       "      <th>Canada</th>\n",
       "      <th>Denmark</th>\n",
       "      <th>Finland</th>\n",
       "      <th>France</th>\n",
       "      <th>Germany</th>\n",
       "      <th>Netherlands</th>\n",
       "      <th>Norway</th>\n",
       "      <th>Portugal</th>\n",
       "      <th>Romania</th>\n",
       "      <th>Sweden</th>\n",
       "      <th>United Kingdom</th>\n",
       "    </tr>\n",
       "    <tr>\n",
       "      <th>Date</th>\n",
       "      <th></th>\n",
       "      <th></th>\n",
       "      <th></th>\n",
       "      <th></th>\n",
       "      <th></th>\n",
       "      <th></th>\n",
       "      <th></th>\n",
       "      <th></th>\n",
       "      <th></th>\n",
       "      <th></th>\n",
       "      <th></th>\n",
       "      <th></th>\n",
       "      <th></th>\n",
       "    </tr>\n",
       "  </thead>\n",
       "  <tbody>\n",
       "    <tr>\n",
       "      <th>2020-12-16</th>\n",
       "      <td>0.002173</td>\n",
       "      <td>0.003232</td>\n",
       "      <td>0.018152</td>\n",
       "      <td>0.000261</td>\n",
       "      <td>0.000289</td>\n",
       "      <td>0.595738</td>\n",
       "      <td>0.000124</td>\n",
       "      <td>0.002523</td>\n",
       "      <td>0.001212</td>\n",
       "      <td>0.02172</td>\n",
       "      <td>0.000571</td>\n",
       "      <td>0.00051</td>\n",
       "      <td>0.003232</td>\n",
       "    </tr>\n",
       "    <tr>\n",
       "      <th>2020-12-17</th>\n",
       "      <td>0.002173</td>\n",
       "      <td>0.003232</td>\n",
       "      <td>0.018152</td>\n",
       "      <td>0.000261</td>\n",
       "      <td>0.000289</td>\n",
       "      <td>0.595738</td>\n",
       "      <td>0.000124</td>\n",
       "      <td>0.002523</td>\n",
       "      <td>0.001212</td>\n",
       "      <td>0.02172</td>\n",
       "      <td>0.000571</td>\n",
       "      <td>0.00051</td>\n",
       "      <td>0.003232</td>\n",
       "    </tr>\n",
       "    <tr>\n",
       "      <th>2020-12-18</th>\n",
       "      <td>0.002173</td>\n",
       "      <td>0.003232</td>\n",
       "      <td>0.018152</td>\n",
       "      <td>0.000261</td>\n",
       "      <td>0.000289</td>\n",
       "      <td>0.595738</td>\n",
       "      <td>0.000124</td>\n",
       "      <td>0.002523</td>\n",
       "      <td>0.001212</td>\n",
       "      <td>0.02172</td>\n",
       "      <td>0.000571</td>\n",
       "      <td>0.00051</td>\n",
       "      <td>0.003232</td>\n",
       "    </tr>\n",
       "    <tr>\n",
       "      <th>2020-12-19</th>\n",
       "      <td>0.002173</td>\n",
       "      <td>0.003232</td>\n",
       "      <td>0.018152</td>\n",
       "      <td>0.000261</td>\n",
       "      <td>0.000289</td>\n",
       "      <td>0.595738</td>\n",
       "      <td>0.000124</td>\n",
       "      <td>0.002523</td>\n",
       "      <td>0.001212</td>\n",
       "      <td>0.02172</td>\n",
       "      <td>0.000571</td>\n",
       "      <td>0.00051</td>\n",
       "      <td>0.003232</td>\n",
       "    </tr>\n",
       "    <tr>\n",
       "      <th>2020-12-20</th>\n",
       "      <td>0.002173</td>\n",
       "      <td>0.003232</td>\n",
       "      <td>0.018152</td>\n",
       "      <td>0.000261</td>\n",
       "      <td>0.000289</td>\n",
       "      <td>0.595738</td>\n",
       "      <td>0.000124</td>\n",
       "      <td>0.002523</td>\n",
       "      <td>0.001212</td>\n",
       "      <td>0.02172</td>\n",
       "      <td>0.000571</td>\n",
       "      <td>0.00051</td>\n",
       "      <td>0.003232</td>\n",
       "    </tr>\n",
       "  </tbody>\n",
       "</table>\n",
       "</div>"
      ],
      "text/plain": [
       "Country      Austria   Belgium    Canada   Denmark   Finland    France  \\\n",
       "Date                                                                     \n",
       "2020-12-16  0.002173  0.003232  0.018152  0.000261  0.000289  0.595738   \n",
       "2020-12-17  0.002173  0.003232  0.018152  0.000261  0.000289  0.595738   \n",
       "2020-12-18  0.002173  0.003232  0.018152  0.000261  0.000289  0.595738   \n",
       "2020-12-19  0.002173  0.003232  0.018152  0.000261  0.000289  0.595738   \n",
       "2020-12-20  0.002173  0.003232  0.018152  0.000261  0.000289  0.595738   \n",
       "\n",
       "Country      Germany  Netherlands    Norway  Portugal   Romania   Sweden  \\\n",
       "Date                                                                       \n",
       "2020-12-16  0.000124     0.002523  0.001212   0.02172  0.000571  0.00051   \n",
       "2020-12-17  0.000124     0.002523  0.001212   0.02172  0.000571  0.00051   \n",
       "2020-12-18  0.000124     0.002523  0.001212   0.02172  0.000571  0.00051   \n",
       "2020-12-19  0.000124     0.002523  0.001212   0.02172  0.000571  0.00051   \n",
       "2020-12-20  0.000124     0.002523  0.001212   0.02172  0.000571  0.00051   \n",
       "\n",
       "Country     United Kingdom  \n",
       "Date                        \n",
       "2020-12-16        0.003232  \n",
       "2020-12-17        0.003232  \n",
       "2020-12-18        0.003232  \n",
       "2020-12-19        0.003232  \n",
       "2020-12-20        0.003232  "
      ]
     },
     "execution_count": 18,
     "metadata": {},
     "output_type": "execute_result"
    }
   ],
   "source": [
    "analyser.history(\"theta\", roll_window=None).tail()"
   ]
  },
  {
   "cell_type": "markdown",
   "metadata": {},
   "source": [
    "## (Experimental): Relationship of OxCGRT index and parameter values\n",
    "Government responses will impact on parameter values of ODE models about 14 days later. Here, we will investigate on the relationship of [stringency index (from OxCGRT)](https://github.com/OxCGRT/covid-policy-tracker/blob/master/documentation/index_methodology.md) and reproduction number/model parameters.\n"
   ]
  },
  {
   "cell_type": "code",
   "execution_count": 19,
   "metadata": {
    "collapsed": false
   },
   "outputs": [],
   "source": [
    "%matplotlib inline\n",
    "from matplotlib import pyplot as plt\n",
    "import seaborn as sns\n",
    "import pandas as pd"
   ]
  },
  {
   "cell_type": "code",
   "execution_count": 20,
   "metadata": {
    "collapsed": false
   },
   "outputs": [
    {
     "name": "stdout",
     "output_type": "stream",
     "text": [
      "<class 'pandas.core.frame.DataFrame'>\n",
      "Int64Index: 43012 entries, 0 to 43179\n",
      "Data columns (total 19 columns):\n",
      " #   Column                               Non-Null Count  Dtype         \n",
      "---  ------                               --------------  -----         \n",
      " 0   Date                                 43012 non-null  datetime64[ns]\n",
      " 1   Country                              43012 non-null  object        \n",
      " 2   Rt                                   43012 non-null  float64       \n",
      " 3   theta                                43012 non-null  float64       \n",
      " 4   kappa                                43012 non-null  float64       \n",
      " 5   rho                                  43012 non-null  float64       \n",
      " 6   sigma                                43012 non-null  float64       \n",
      " 7   School_closing                       43012 non-null  int64         \n",
      " 8   Workplace_closing                    43012 non-null  int64         \n",
      " 9   Cancel_events                        43012 non-null  int64         \n",
      " 10  Gatherings_restrictions              43012 non-null  int64         \n",
      " 11  Transport_closing                    43012 non-null  int64         \n",
      " 12  Stay_home_restrictions               43012 non-null  int64         \n",
      " 13  Internal_movement_restrictions       43012 non-null  int64         \n",
      " 14  International_movement_restrictions  43012 non-null  int64         \n",
      " 15  Information_campaigns                43012 non-null  int64         \n",
      " 16  Testing_policy                       43012 non-null  int64         \n",
      " 17  Contact_tracing                      43012 non-null  int64         \n",
      " 18  Stringency_index                     43012 non-null  float64       \n",
      "dtypes: datetime64[ns](1), float64(6), int64(11), object(1)\n",
      "memory usage: 6.6+ MB\n"
     ]
    }
   ],
   "source": [
    "df = analyser.track()\n",
    "param_cols = [\"Rt\", *cs.SIRF.PARAMETERS]\n",
    "oxcgrt_cols = oxcgrt_data.OXCGRT_VARS[:]\n",
    "cols = param_cols + oxcgrt_cols\n",
    "delay = 14\n",
    "\n",
    "for col in param_cols:\n",
    "    df[col] = pd.to_numeric(df[col], errors=\"coerce\")\n",
    "    df[col] = df.groupby(\"Country\")[col].shift(0 - delay)\n",
    "\n",
    "df = df.dropna(how=\"any\")\n",
    "df = df.loc[:, [\"Date\", \"Country\", *cols]]\n",
    "track_df = df.copy()\n",
    "track_df.info()"
   ]
  },
  {
   "cell_type": "code",
   "execution_count": 21,
   "metadata": {
    "collapsed": false
   },
   "outputs": [
    {
     "data": {
      "text/html": [
       "<style  type=\"text/css\" >\n",
       "#T_ff7edb76_42e1_11eb_817b_525400636bf5row0_col0,#T_ff7edb76_42e1_11eb_817b_525400636bf5row1_col1,#T_ff7edb76_42e1_11eb_817b_525400636bf5row2_col2,#T_ff7edb76_42e1_11eb_817b_525400636bf5row3_col3,#T_ff7edb76_42e1_11eb_817b_525400636bf5row4_col4,#T_ff7edb76_42e1_11eb_817b_525400636bf5row5_col5,#T_ff7edb76_42e1_11eb_817b_525400636bf5row6_col6,#T_ff7edb76_42e1_11eb_817b_525400636bf5row7_col7,#T_ff7edb76_42e1_11eb_817b_525400636bf5row8_col8,#T_ff7edb76_42e1_11eb_817b_525400636bf5row9_col9,#T_ff7edb76_42e1_11eb_817b_525400636bf5row10_col10,#T_ff7edb76_42e1_11eb_817b_525400636bf5row11_col11,#T_ff7edb76_42e1_11eb_817b_525400636bf5row12_col12,#T_ff7edb76_42e1_11eb_817b_525400636bf5row13_col13,#T_ff7edb76_42e1_11eb_817b_525400636bf5row14_col14,#T_ff7edb76_42e1_11eb_817b_525400636bf5row15_col15,#T_ff7edb76_42e1_11eb_817b_525400636bf5row16_col16{\n",
       "            background-color:  #023858;\n",
       "            color:  #f1f1f1;\n",
       "        }#T_ff7edb76_42e1_11eb_817b_525400636bf5row0_col1,#T_ff7edb76_42e1_11eb_817b_525400636bf5row1_col0,#T_ff7edb76_42e1_11eb_817b_525400636bf5row1_col3,#T_ff7edb76_42e1_11eb_817b_525400636bf5row3_col1{\n",
       "            background-color:  #ced0e6;\n",
       "            color:  #000000;\n",
       "        }#T_ff7edb76_42e1_11eb_817b_525400636bf5row0_col2,#T_ff7edb76_42e1_11eb_817b_525400636bf5row1_col13,#T_ff7edb76_42e1_11eb_817b_525400636bf5row2_col0,#T_ff7edb76_42e1_11eb_817b_525400636bf5row13_col1{\n",
       "            background-color:  #bfc9e1;\n",
       "            color:  #000000;\n",
       "        }#T_ff7edb76_42e1_11eb_817b_525400636bf5row0_col3,#T_ff7edb76_42e1_11eb_817b_525400636bf5row3_col0,#T_ff7edb76_42e1_11eb_817b_525400636bf5row5_col8,#T_ff7edb76_42e1_11eb_817b_525400636bf5row8_col5{\n",
       "            background-color:  #2c89bd;\n",
       "            color:  #000000;\n",
       "        }#T_ff7edb76_42e1_11eb_817b_525400636bf5row0_col4,#T_ff7edb76_42e1_11eb_817b_525400636bf5row4_col0{\n",
       "            background-color:  #fff7fb;\n",
       "            color:  #000000;\n",
       "        }#T_ff7edb76_42e1_11eb_817b_525400636bf5row0_col5,#T_ff7edb76_42e1_11eb_817b_525400636bf5row0_col13,#T_ff7edb76_42e1_11eb_817b_525400636bf5row5_col0,#T_ff7edb76_42e1_11eb_817b_525400636bf5row13_col0{\n",
       "            background-color:  #d6d6e9;\n",
       "            color:  #000000;\n",
       "        }#T_ff7edb76_42e1_11eb_817b_525400636bf5row0_col6,#T_ff7edb76_42e1_11eb_817b_525400636bf5row0_col14,#T_ff7edb76_42e1_11eb_817b_525400636bf5row6_col0,#T_ff7edb76_42e1_11eb_817b_525400636bf5row14_col0{\n",
       "            background-color:  #d9d8ea;\n",
       "            color:  #000000;\n",
       "        }#T_ff7edb76_42e1_11eb_817b_525400636bf5row0_col7,#T_ff7edb76_42e1_11eb_817b_525400636bf5row7_col0{\n",
       "            background-color:  #e6e2ef;\n",
       "            color:  #000000;\n",
       "        }#T_ff7edb76_42e1_11eb_817b_525400636bf5row0_col8,#T_ff7edb76_42e1_11eb_817b_525400636bf5row8_col0{\n",
       "            background-color:  #e7e3f0;\n",
       "            color:  #000000;\n",
       "        }#T_ff7edb76_42e1_11eb_817b_525400636bf5row0_col9,#T_ff7edb76_42e1_11eb_817b_525400636bf5row9_col0{\n",
       "            background-color:  #cdd0e5;\n",
       "            color:  #000000;\n",
       "        }#T_ff7edb76_42e1_11eb_817b_525400636bf5row0_col10,#T_ff7edb76_42e1_11eb_817b_525400636bf5row4_col11,#T_ff7edb76_42e1_11eb_817b_525400636bf5row5_col15,#T_ff7edb76_42e1_11eb_817b_525400636bf5row10_col0,#T_ff7edb76_42e1_11eb_817b_525400636bf5row11_col4,#T_ff7edb76_42e1_11eb_817b_525400636bf5row15_col5{\n",
       "            background-color:  #c8cde4;\n",
       "            color:  #000000;\n",
       "        }#T_ff7edb76_42e1_11eb_817b_525400636bf5row0_col11,#T_ff7edb76_42e1_11eb_817b_525400636bf5row1_col12,#T_ff7edb76_42e1_11eb_817b_525400636bf5row7_col14,#T_ff7edb76_42e1_11eb_817b_525400636bf5row11_col0,#T_ff7edb76_42e1_11eb_817b_525400636bf5row12_col1,#T_ff7edb76_42e1_11eb_817b_525400636bf5row14_col7{\n",
       "            background-color:  #b7c5df;\n",
       "            color:  #000000;\n",
       "        }#T_ff7edb76_42e1_11eb_817b_525400636bf5row0_col12,#T_ff7edb76_42e1_11eb_817b_525400636bf5row12_col0{\n",
       "            background-color:  #e4e1ef;\n",
       "            color:  #000000;\n",
       "        }#T_ff7edb76_42e1_11eb_817b_525400636bf5row0_col15,#T_ff7edb76_42e1_11eb_817b_525400636bf5row2_col5,#T_ff7edb76_42e1_11eb_817b_525400636bf5row5_col2,#T_ff7edb76_42e1_11eb_817b_525400636bf5row15_col0{\n",
       "            background-color:  #c4cbe3;\n",
       "            color:  #000000;\n",
       "        }#T_ff7edb76_42e1_11eb_817b_525400636bf5row0_col16,#T_ff7edb76_42e1_11eb_817b_525400636bf5row16_col0{\n",
       "            background-color:  #e3e0ee;\n",
       "            color:  #000000;\n",
       "        }#T_ff7edb76_42e1_11eb_817b_525400636bf5row1_col2,#T_ff7edb76_42e1_11eb_817b_525400636bf5row2_col1{\n",
       "            background-color:  #0771b1;\n",
       "            color:  #f1f1f1;\n",
       "        }#T_ff7edb76_42e1_11eb_817b_525400636bf5row1_col4,#T_ff7edb76_42e1_11eb_817b_525400636bf5row2_col6,#T_ff7edb76_42e1_11eb_817b_525400636bf5row3_col9,#T_ff7edb76_42e1_11eb_817b_525400636bf5row4_col1,#T_ff7edb76_42e1_11eb_817b_525400636bf5row6_col2,#T_ff7edb76_42e1_11eb_817b_525400636bf5row9_col3{\n",
       "            background-color:  #e0dded;\n",
       "            color:  #000000;\n",
       "        }#T_ff7edb76_42e1_11eb_817b_525400636bf5row1_col5,#T_ff7edb76_42e1_11eb_817b_525400636bf5row5_col1{\n",
       "            background-color:  #9ebad9;\n",
       "            color:  #000000;\n",
       "        }#T_ff7edb76_42e1_11eb_817b_525400636bf5row1_col6,#T_ff7edb76_42e1_11eb_817b_525400636bf5row1_col9,#T_ff7edb76_42e1_11eb_817b_525400636bf5row6_col1,#T_ff7edb76_42e1_11eb_817b_525400636bf5row9_col1{\n",
       "            background-color:  #abbfdc;\n",
       "            color:  #000000;\n",
       "        }#T_ff7edb76_42e1_11eb_817b_525400636bf5row1_col7,#T_ff7edb76_42e1_11eb_817b_525400636bf5row1_col11,#T_ff7edb76_42e1_11eb_817b_525400636bf5row7_col1,#T_ff7edb76_42e1_11eb_817b_525400636bf5row11_col1{\n",
       "            background-color:  #91b5d6;\n",
       "            color:  #000000;\n",
       "        }#T_ff7edb76_42e1_11eb_817b_525400636bf5row1_col8,#T_ff7edb76_42e1_11eb_817b_525400636bf5row8_col1{\n",
       "            background-color:  #b5c4df;\n",
       "            color:  #000000;\n",
       "        }#T_ff7edb76_42e1_11eb_817b_525400636bf5row1_col10,#T_ff7edb76_42e1_11eb_817b_525400636bf5row4_col14,#T_ff7edb76_42e1_11eb_817b_525400636bf5row6_col14,#T_ff7edb76_42e1_11eb_817b_525400636bf5row10_col1,#T_ff7edb76_42e1_11eb_817b_525400636bf5row14_col4,#T_ff7edb76_42e1_11eb_817b_525400636bf5row14_col6{\n",
       "            background-color:  #84b0d3;\n",
       "            color:  #000000;\n",
       "        }#T_ff7edb76_42e1_11eb_817b_525400636bf5row1_col14,#T_ff7edb76_42e1_11eb_817b_525400636bf5row2_col10,#T_ff7edb76_42e1_11eb_817b_525400636bf5row2_col14,#T_ff7edb76_42e1_11eb_817b_525400636bf5row10_col2,#T_ff7edb76_42e1_11eb_817b_525400636bf5row14_col1,#T_ff7edb76_42e1_11eb_817b_525400636bf5row14_col2{\n",
       "            background-color:  #d7d6e9;\n",
       "            color:  #000000;\n",
       "        }#T_ff7edb76_42e1_11eb_817b_525400636bf5row1_col15,#T_ff7edb76_42e1_11eb_817b_525400636bf5row15_col1{\n",
       "            background-color:  #8eb3d5;\n",
       "            color:  #000000;\n",
       "        }#T_ff7edb76_42e1_11eb_817b_525400636bf5row1_col16,#T_ff7edb76_42e1_11eb_817b_525400636bf5row16_col1{\n",
       "            background-color:  #a5bddb;\n",
       "            color:  #000000;\n",
       "        }#T_ff7edb76_42e1_11eb_817b_525400636bf5row2_col3,#T_ff7edb76_42e1_11eb_817b_525400636bf5row3_col2{\n",
       "            background-color:  #7bacd1;\n",
       "            color:  #000000;\n",
       "        }#T_ff7edb76_42e1_11eb_817b_525400636bf5row2_col4,#T_ff7edb76_42e1_11eb_817b_525400636bf5row4_col2{\n",
       "            background-color:  #c6cce3;\n",
       "            color:  #000000;\n",
       "        }#T_ff7edb76_42e1_11eb_817b_525400636bf5row2_col7,#T_ff7edb76_42e1_11eb_817b_525400636bf5row7_col2,#T_ff7edb76_42e1_11eb_817b_525400636bf5row9_col15,#T_ff7edb76_42e1_11eb_817b_525400636bf5row15_col9{\n",
       "            background-color:  #bbc7e0;\n",
       "            color:  #000000;\n",
       "        }#T_ff7edb76_42e1_11eb_817b_525400636bf5row2_col8,#T_ff7edb76_42e1_11eb_817b_525400636bf5row8_col2{\n",
       "            background-color:  #dbdaeb;\n",
       "            color:  #000000;\n",
       "        }#T_ff7edb76_42e1_11eb_817b_525400636bf5row2_col9,#T_ff7edb76_42e1_11eb_817b_525400636bf5row9_col2{\n",
       "            background-color:  #c9cee4;\n",
       "            color:  #000000;\n",
       "        }#T_ff7edb76_42e1_11eb_817b_525400636bf5row2_col11,#T_ff7edb76_42e1_11eb_817b_525400636bf5row11_col2{\n",
       "            background-color:  #d5d5e8;\n",
       "            color:  #000000;\n",
       "        }#T_ff7edb76_42e1_11eb_817b_525400636bf5row2_col12,#T_ff7edb76_42e1_11eb_817b_525400636bf5row12_col2{\n",
       "            background-color:  #d2d2e7;\n",
       "            color:  #000000;\n",
       "        }#T_ff7edb76_42e1_11eb_817b_525400636bf5row2_col13,#T_ff7edb76_42e1_11eb_817b_525400636bf5row2_col16,#T_ff7edb76_42e1_11eb_817b_525400636bf5row13_col2,#T_ff7edb76_42e1_11eb_817b_525400636bf5row16_col2{\n",
       "            background-color:  #dad9ea;\n",
       "            color:  #000000;\n",
       "        }#T_ff7edb76_42e1_11eb_817b_525400636bf5row2_col15,#T_ff7edb76_42e1_11eb_817b_525400636bf5row11_col12,#T_ff7edb76_42e1_11eb_817b_525400636bf5row12_col11,#T_ff7edb76_42e1_11eb_817b_525400636bf5row15_col2{\n",
       "            background-color:  #a1bbda;\n",
       "            color:  #000000;\n",
       "        }#T_ff7edb76_42e1_11eb_817b_525400636bf5row3_col4,#T_ff7edb76_42e1_11eb_817b_525400636bf5row4_col3,#T_ff7edb76_42e1_11eb_817b_525400636bf5row7_col15,#T_ff7edb76_42e1_11eb_817b_525400636bf5row15_col7{\n",
       "            background-color:  #b4c4df;\n",
       "            color:  #000000;\n",
       "        }#T_ff7edb76_42e1_11eb_817b_525400636bf5row3_col5,#T_ff7edb76_42e1_11eb_817b_525400636bf5row5_col3{\n",
       "            background-color:  #dedcec;\n",
       "            color:  #000000;\n",
       "        }#T_ff7edb76_42e1_11eb_817b_525400636bf5row3_col6,#T_ff7edb76_42e1_11eb_817b_525400636bf5row6_col3{\n",
       "            background-color:  #ece7f2;\n",
       "            color:  #000000;\n",
       "        }#T_ff7edb76_42e1_11eb_817b_525400636bf5row3_col7,#T_ff7edb76_42e1_11eb_817b_525400636bf5row3_col13,#T_ff7edb76_42e1_11eb_817b_525400636bf5row7_col3,#T_ff7edb76_42e1_11eb_817b_525400636bf5row13_col3{\n",
       "            background-color:  #e5e1ef;\n",
       "            color:  #000000;\n",
       "        }#T_ff7edb76_42e1_11eb_817b_525400636bf5row3_col8,#T_ff7edb76_42e1_11eb_817b_525400636bf5row8_col3{\n",
       "            background-color:  #fef6fb;\n",
       "            color:  #000000;\n",
       "        }#T_ff7edb76_42e1_11eb_817b_525400636bf5row3_col10,#T_ff7edb76_42e1_11eb_817b_525400636bf5row10_col3{\n",
       "            background-color:  #ebe6f2;\n",
       "            color:  #000000;\n",
       "        }#T_ff7edb76_42e1_11eb_817b_525400636bf5row3_col11,#T_ff7edb76_42e1_11eb_817b_525400636bf5row11_col3{\n",
       "            background-color:  #efe9f3;\n",
       "            color:  #000000;\n",
       "        }#T_ff7edb76_42e1_11eb_817b_525400636bf5row3_col12,#T_ff7edb76_42e1_11eb_817b_525400636bf5row12_col3{\n",
       "            background-color:  #faf2f8;\n",
       "            color:  #000000;\n",
       "        }#T_ff7edb76_42e1_11eb_817b_525400636bf5row3_col14,#T_ff7edb76_42e1_11eb_817b_525400636bf5row14_col3{\n",
       "            background-color:  #ede8f3;\n",
       "            color:  #000000;\n",
       "        }#T_ff7edb76_42e1_11eb_817b_525400636bf5row3_col15,#T_ff7edb76_42e1_11eb_817b_525400636bf5row15_col3{\n",
       "            background-color:  #dcdaeb;\n",
       "            color:  #000000;\n",
       "        }#T_ff7edb76_42e1_11eb_817b_525400636bf5row3_col16,#T_ff7edb76_42e1_11eb_817b_525400636bf5row16_col3{\n",
       "            background-color:  #f2ecf5;\n",
       "            color:  #000000;\n",
       "        }#T_ff7edb76_42e1_11eb_817b_525400636bf5row4_col5,#T_ff7edb76_42e1_11eb_817b_525400636bf5row5_col4{\n",
       "            background-color:  #88b1d4;\n",
       "            color:  #000000;\n",
       "        }#T_ff7edb76_42e1_11eb_817b_525400636bf5row4_col6,#T_ff7edb76_42e1_11eb_817b_525400636bf5row4_col9,#T_ff7edb76_42e1_11eb_817b_525400636bf5row4_col15,#T_ff7edb76_42e1_11eb_817b_525400636bf5row6_col4,#T_ff7edb76_42e1_11eb_817b_525400636bf5row9_col4,#T_ff7edb76_42e1_11eb_817b_525400636bf5row15_col4{\n",
       "            background-color:  #9cb9d9;\n",
       "            color:  #000000;\n",
       "        }#T_ff7edb76_42e1_11eb_817b_525400636bf5row4_col7,#T_ff7edb76_42e1_11eb_817b_525400636bf5row7_col4,#T_ff7edb76_42e1_11eb_817b_525400636bf5row7_col12,#T_ff7edb76_42e1_11eb_817b_525400636bf5row12_col7{\n",
       "            background-color:  #81aed2;\n",
       "            color:  #000000;\n",
       "        }#T_ff7edb76_42e1_11eb_817b_525400636bf5row4_col8,#T_ff7edb76_42e1_11eb_817b_525400636bf5row8_col4{\n",
       "            background-color:  #8cb3d5;\n",
       "            color:  #000000;\n",
       "        }#T_ff7edb76_42e1_11eb_817b_525400636bf5row4_col10,#T_ff7edb76_42e1_11eb_817b_525400636bf5row6_col15,#T_ff7edb76_42e1_11eb_817b_525400636bf5row10_col4,#T_ff7edb76_42e1_11eb_817b_525400636bf5row15_col6{\n",
       "            background-color:  #b1c2de;\n",
       "            color:  #000000;\n",
       "        }#T_ff7edb76_42e1_11eb_817b_525400636bf5row4_col12,#T_ff7edb76_42e1_11eb_817b_525400636bf5row12_col4{\n",
       "            background-color:  #93b5d6;\n",
       "            color:  #000000;\n",
       "        }#T_ff7edb76_42e1_11eb_817b_525400636bf5row4_col13,#T_ff7edb76_42e1_11eb_817b_525400636bf5row13_col4{\n",
       "            background-color:  #7dacd1;\n",
       "            color:  #000000;\n",
       "        }#T_ff7edb76_42e1_11eb_817b_525400636bf5row4_col16,#T_ff7edb76_42e1_11eb_817b_525400636bf5row16_col4{\n",
       "            background-color:  #94b6d7;\n",
       "            color:  #000000;\n",
       "        }#T_ff7edb76_42e1_11eb_817b_525400636bf5row5_col6,#T_ff7edb76_42e1_11eb_817b_525400636bf5row6_col5{\n",
       "            background-color:  #056ba9;\n",
       "            color:  #f1f1f1;\n",
       "        }#T_ff7edb76_42e1_11eb_817b_525400636bf5row5_col7,#T_ff7edb76_42e1_11eb_817b_525400636bf5row7_col5{\n",
       "            background-color:  #89b1d4;\n",
       "            color:  #000000;\n",
       "        }#T_ff7edb76_42e1_11eb_817b_525400636bf5row5_col9,#T_ff7edb76_42e1_11eb_817b_525400636bf5row9_col5{\n",
       "            background-color:  #8fb4d6;\n",
       "            color:  #000000;\n",
       "        }#T_ff7edb76_42e1_11eb_817b_525400636bf5row5_col10,#T_ff7edb76_42e1_11eb_817b_525400636bf5row10_col5{\n",
       "            background-color:  #2786bb;\n",
       "            color:  #000000;\n",
       "        }#T_ff7edb76_42e1_11eb_817b_525400636bf5row5_col11,#T_ff7edb76_42e1_11eb_817b_525400636bf5row11_col5{\n",
       "            background-color:  #6da6cd;\n",
       "            color:  #000000;\n",
       "        }#T_ff7edb76_42e1_11eb_817b_525400636bf5row5_col12,#T_ff7edb76_42e1_11eb_817b_525400636bf5row12_col5,#T_ff7edb76_42e1_11eb_817b_525400636bf5row13_col15,#T_ff7edb76_42e1_11eb_817b_525400636bf5row15_col13{\n",
       "            background-color:  #5ea0ca;\n",
       "            color:  #000000;\n",
       "        }#T_ff7edb76_42e1_11eb_817b_525400636bf5row5_col13,#T_ff7edb76_42e1_11eb_817b_525400636bf5row13_col5{\n",
       "            background-color:  #4496c3;\n",
       "            color:  #000000;\n",
       "        }#T_ff7edb76_42e1_11eb_817b_525400636bf5row5_col14,#T_ff7edb76_42e1_11eb_817b_525400636bf5row14_col5{\n",
       "            background-color:  #a8bedc;\n",
       "            color:  #000000;\n",
       "        }#T_ff7edb76_42e1_11eb_817b_525400636bf5row5_col16,#T_ff7edb76_42e1_11eb_817b_525400636bf5row16_col5{\n",
       "            background-color:  #046097;\n",
       "            color:  #f1f1f1;\n",
       "        }#T_ff7edb76_42e1_11eb_817b_525400636bf5row6_col7,#T_ff7edb76_42e1_11eb_817b_525400636bf5row7_col6{\n",
       "            background-color:  #4697c4;\n",
       "            color:  #000000;\n",
       "        }#T_ff7edb76_42e1_11eb_817b_525400636bf5row6_col8,#T_ff7edb76_42e1_11eb_817b_525400636bf5row6_col10,#T_ff7edb76_42e1_11eb_817b_525400636bf5row8_col6,#T_ff7edb76_42e1_11eb_817b_525400636bf5row10_col6{\n",
       "            background-color:  #056ba7;\n",
       "            color:  #f1f1f1;\n",
       "        }#T_ff7edb76_42e1_11eb_817b_525400636bf5row6_col9,#T_ff7edb76_42e1_11eb_817b_525400636bf5row9_col6{\n",
       "            background-color:  #78abd0;\n",
       "            color:  #000000;\n",
       "        }#T_ff7edb76_42e1_11eb_817b_525400636bf5row6_col11,#T_ff7edb76_42e1_11eb_817b_525400636bf5row10_col13,#T_ff7edb76_42e1_11eb_817b_525400636bf5row11_col6,#T_ff7edb76_42e1_11eb_817b_525400636bf5row13_col10{\n",
       "            background-color:  #3b92c1;\n",
       "            color:  #000000;\n",
       "        }#T_ff7edb76_42e1_11eb_817b_525400636bf5row6_col12,#T_ff7edb76_42e1_11eb_817b_525400636bf5row12_col6{\n",
       "            background-color:  #5a9ec9;\n",
       "            color:  #000000;\n",
       "        }#T_ff7edb76_42e1_11eb_817b_525400636bf5row6_col13,#T_ff7edb76_42e1_11eb_817b_525400636bf5row9_col10,#T_ff7edb76_42e1_11eb_817b_525400636bf5row10_col9,#T_ff7edb76_42e1_11eb_817b_525400636bf5row13_col6{\n",
       "            background-color:  #328dbf;\n",
       "            color:  #000000;\n",
       "        }#T_ff7edb76_42e1_11eb_817b_525400636bf5row6_col16,#T_ff7edb76_42e1_11eb_817b_525400636bf5row16_col6{\n",
       "            background-color:  #04598c;\n",
       "            color:  #f1f1f1;\n",
       "        }#T_ff7edb76_42e1_11eb_817b_525400636bf5row7_col8,#T_ff7edb76_42e1_11eb_817b_525400636bf5row8_col7{\n",
       "            background-color:  #1077b4;\n",
       "            color:  #f1f1f1;\n",
       "        }#T_ff7edb76_42e1_11eb_817b_525400636bf5row7_col9,#T_ff7edb76_42e1_11eb_817b_525400636bf5row9_col7{\n",
       "            background-color:  #1b7eb7;\n",
       "            color:  #000000;\n",
       "        }#T_ff7edb76_42e1_11eb_817b_525400636bf5row7_col10,#T_ff7edb76_42e1_11eb_817b_525400636bf5row10_col7{\n",
       "            background-color:  #348ebf;\n",
       "            color:  #000000;\n",
       "        }#T_ff7edb76_42e1_11eb_817b_525400636bf5row7_col11,#T_ff7edb76_42e1_11eb_817b_525400636bf5row8_col13,#T_ff7edb76_42e1_11eb_817b_525400636bf5row11_col7,#T_ff7edb76_42e1_11eb_817b_525400636bf5row13_col8{\n",
       "            background-color:  #0a73b2;\n",
       "            color:  #f1f1f1;\n",
       "        }#T_ff7edb76_42e1_11eb_817b_525400636bf5row7_col13,#T_ff7edb76_42e1_11eb_817b_525400636bf5row13_col7,#T_ff7edb76_42e1_11eb_817b_525400636bf5row13_col14,#T_ff7edb76_42e1_11eb_817b_525400636bf5row14_col13{\n",
       "            background-color:  #308cbe;\n",
       "            color:  #000000;\n",
       "        }#T_ff7edb76_42e1_11eb_817b_525400636bf5row7_col16,#T_ff7edb76_42e1_11eb_817b_525400636bf5row16_col7{\n",
       "            background-color:  #1379b5;\n",
       "            color:  #f1f1f1;\n",
       "        }#T_ff7edb76_42e1_11eb_817b_525400636bf5row8_col9,#T_ff7edb76_42e1_11eb_817b_525400636bf5row9_col8{\n",
       "            background-color:  #3f93c2;\n",
       "            color:  #000000;\n",
       "        }#T_ff7edb76_42e1_11eb_817b_525400636bf5row8_col10,#T_ff7edb76_42e1_11eb_817b_525400636bf5row10_col8{\n",
       "            background-color:  #187cb6;\n",
       "            color:  #000000;\n",
       "        }#T_ff7edb76_42e1_11eb_817b_525400636bf5row8_col11,#T_ff7edb76_42e1_11eb_817b_525400636bf5row11_col8{\n",
       "            background-color:  #056ead;\n",
       "            color:  #f1f1f1;\n",
       "        }#T_ff7edb76_42e1_11eb_817b_525400636bf5row8_col12,#T_ff7edb76_42e1_11eb_817b_525400636bf5row12_col8,#T_ff7edb76_42e1_11eb_817b_525400636bf5row12_col14,#T_ff7edb76_42e1_11eb_817b_525400636bf5row14_col12{\n",
       "            background-color:  #2685bb;\n",
       "            color:  #000000;\n",
       "        }#T_ff7edb76_42e1_11eb_817b_525400636bf5row8_col14,#T_ff7edb76_42e1_11eb_817b_525400636bf5row14_col8{\n",
       "            background-color:  #4094c3;\n",
       "            color:  #000000;\n",
       "        }#T_ff7edb76_42e1_11eb_817b_525400636bf5row8_col15,#T_ff7edb76_42e1_11eb_817b_525400636bf5row15_col8{\n",
       "            background-color:  #79abd0;\n",
       "            color:  #000000;\n",
       "        }#T_ff7edb76_42e1_11eb_817b_525400636bf5row8_col16,#T_ff7edb76_42e1_11eb_817b_525400636bf5row16_col8{\n",
       "            background-color:  #045d92;\n",
       "            color:  #f1f1f1;\n",
       "        }#T_ff7edb76_42e1_11eb_817b_525400636bf5row9_col11,#T_ff7edb76_42e1_11eb_817b_525400636bf5row11_col9{\n",
       "            background-color:  #1278b4;\n",
       "            color:  #f1f1f1;\n",
       "        }#T_ff7edb76_42e1_11eb_817b_525400636bf5row9_col12,#T_ff7edb76_42e1_11eb_817b_525400636bf5row12_col9{\n",
       "            background-color:  #a4bcda;\n",
       "            color:  #000000;\n",
       "        }#T_ff7edb76_42e1_11eb_817b_525400636bf5row9_col13,#T_ff7edb76_42e1_11eb_817b_525400636bf5row13_col9{\n",
       "            background-color:  #60a1ca;\n",
       "            color:  #000000;\n",
       "        }#T_ff7edb76_42e1_11eb_817b_525400636bf5row9_col14,#T_ff7edb76_42e1_11eb_817b_525400636bf5row14_col9{\n",
       "            background-color:  #b9c6e0;\n",
       "            color:  #000000;\n",
       "        }#T_ff7edb76_42e1_11eb_817b_525400636bf5row9_col16,#T_ff7edb76_42e1_11eb_817b_525400636bf5row16_col9{\n",
       "            background-color:  #3d93c2;\n",
       "            color:  #000000;\n",
       "        }#T_ff7edb76_42e1_11eb_817b_525400636bf5row10_col11,#T_ff7edb76_42e1_11eb_817b_525400636bf5row11_col10{\n",
       "            background-color:  #2182b9;\n",
       "            color:  #000000;\n",
       "        }#T_ff7edb76_42e1_11eb_817b_525400636bf5row10_col12,#T_ff7edb76_42e1_11eb_817b_525400636bf5row12_col10,#T_ff7edb76_42e1_11eb_817b_525400636bf5row12_col15,#T_ff7edb76_42e1_11eb_817b_525400636bf5row15_col12{\n",
       "            background-color:  #62a2cb;\n",
       "            color:  #000000;\n",
       "        }#T_ff7edb76_42e1_11eb_817b_525400636bf5row10_col14,#T_ff7edb76_42e1_11eb_817b_525400636bf5row14_col10{\n",
       "            background-color:  #8bb2d4;\n",
       "            color:  #000000;\n",
       "        }#T_ff7edb76_42e1_11eb_817b_525400636bf5row10_col15,#T_ff7edb76_42e1_11eb_817b_525400636bf5row15_col10{\n",
       "            background-color:  #adc1dd;\n",
       "            color:  #000000;\n",
       "        }#T_ff7edb76_42e1_11eb_817b_525400636bf5row10_col16,#T_ff7edb76_42e1_11eb_817b_525400636bf5row16_col10{\n",
       "            background-color:  #0569a4;\n",
       "            color:  #f1f1f1;\n",
       "        }#T_ff7edb76_42e1_11eb_817b_525400636bf5row11_col13,#T_ff7edb76_42e1_11eb_817b_525400636bf5row13_col11{\n",
       "            background-color:  #589ec8;\n",
       "            color:  #000000;\n",
       "        }#T_ff7edb76_42e1_11eb_817b_525400636bf5row11_col14,#T_ff7edb76_42e1_11eb_817b_525400636bf5row14_col11{\n",
       "            background-color:  #afc1dd;\n",
       "            color:  #000000;\n",
       "        }#T_ff7edb76_42e1_11eb_817b_525400636bf5row11_col15,#T_ff7edb76_42e1_11eb_817b_525400636bf5row15_col11{\n",
       "            background-color:  #a2bcda;\n",
       "            color:  #000000;\n",
       "        }#T_ff7edb76_42e1_11eb_817b_525400636bf5row11_col16,#T_ff7edb76_42e1_11eb_817b_525400636bf5row12_col13,#T_ff7edb76_42e1_11eb_817b_525400636bf5row13_col12,#T_ff7edb76_42e1_11eb_817b_525400636bf5row16_col11{\n",
       "            background-color:  #2081b9;\n",
       "            color:  #000000;\n",
       "        }#T_ff7edb76_42e1_11eb_817b_525400636bf5row12_col16,#T_ff7edb76_42e1_11eb_817b_525400636bf5row16_col12{\n",
       "            background-color:  #2484ba;\n",
       "            color:  #000000;\n",
       "        }#T_ff7edb76_42e1_11eb_817b_525400636bf5row13_col16,#T_ff7edb76_42e1_11eb_817b_525400636bf5row16_col13{\n",
       "            background-color:  #056dab;\n",
       "            color:  #f1f1f1;\n",
       "        }#T_ff7edb76_42e1_11eb_817b_525400636bf5row14_col15,#T_ff7edb76_42e1_11eb_817b_525400636bf5row15_col14{\n",
       "            background-color:  #197db7;\n",
       "            color:  #000000;\n",
       "        }#T_ff7edb76_42e1_11eb_817b_525400636bf5row14_col16,#T_ff7edb76_42e1_11eb_817b_525400636bf5row16_col14{\n",
       "            background-color:  #86b0d3;\n",
       "            color:  #000000;\n",
       "        }#T_ff7edb76_42e1_11eb_817b_525400636bf5row15_col16,#T_ff7edb76_42e1_11eb_817b_525400636bf5row16_col15{\n",
       "            background-color:  #bdc8e1;\n",
       "            color:  #000000;\n",
       "        }</style><table id=\"T_ff7edb76_42e1_11eb_817b_525400636bf5\" ><thead>    <tr>        <th class=\"blank level0\" ></th>        <th class=\"col_heading level0 col0\" >Rt</th>        <th class=\"col_heading level0 col1\" >theta</th>        <th class=\"col_heading level0 col2\" >kappa</th>        <th class=\"col_heading level0 col3\" >rho</th>        <th class=\"col_heading level0 col4\" >sigma</th>        <th class=\"col_heading level0 col5\" >School_closing</th>        <th class=\"col_heading level0 col6\" >Workplace_closing</th>        <th class=\"col_heading level0 col7\" >Cancel_events</th>        <th class=\"col_heading level0 col8\" >Gatherings_restrictions</th>        <th class=\"col_heading level0 col9\" >Transport_closing</th>        <th class=\"col_heading level0 col10\" >Stay_home_restrictions</th>        <th class=\"col_heading level0 col11\" >Internal_movement_restrictions</th>        <th class=\"col_heading level0 col12\" >International_movement_restrictions</th>        <th class=\"col_heading level0 col13\" >Information_campaigns</th>        <th class=\"col_heading level0 col14\" >Testing_policy</th>        <th class=\"col_heading level0 col15\" >Contact_tracing</th>        <th class=\"col_heading level0 col16\" >Stringency_index</th>    </tr></thead><tbody>\n",
       "                <tr>\n",
       "                        <th id=\"T_ff7edb76_42e1_11eb_817b_525400636bf5level0_row0\" class=\"row_heading level0 row0\" >Rt</th>\n",
       "                        <td id=\"T_ff7edb76_42e1_11eb_817b_525400636bf5row0_col0\" class=\"data row0 col0\" >1.000000</td>\n",
       "                        <td id=\"T_ff7edb76_42e1_11eb_817b_525400636bf5row0_col1\" class=\"data row0 col1\" >-0.165907</td>\n",
       "                        <td id=\"T_ff7edb76_42e1_11eb_817b_525400636bf5row0_col2\" class=\"data row0 col2\" >-0.093149</td>\n",
       "                        <td id=\"T_ff7edb76_42e1_11eb_817b_525400636bf5row0_col3\" class=\"data row0 col3\" >0.451454</td>\n",
       "                        <td id=\"T_ff7edb76_42e1_11eb_817b_525400636bf5row0_col4\" class=\"data row0 col4\" >-0.563878</td>\n",
       "                        <td id=\"T_ff7edb76_42e1_11eb_817b_525400636bf5row0_col5\" class=\"data row0 col5\" >-0.212516</td>\n",
       "                        <td id=\"T_ff7edb76_42e1_11eb_817b_525400636bf5row0_col6\" class=\"data row0 col6\" >-0.230837</td>\n",
       "                        <td id=\"T_ff7edb76_42e1_11eb_817b_525400636bf5row0_col7\" class=\"data row0 col7\" >-0.322267</td>\n",
       "                        <td id=\"T_ff7edb76_42e1_11eb_817b_525400636bf5row0_col8\" class=\"data row0 col8\" >-0.332408</td>\n",
       "                        <td id=\"T_ff7edb76_42e1_11eb_817b_525400636bf5row0_col9\" class=\"data row0 col9\" >-0.157143</td>\n",
       "                        <td id=\"T_ff7edb76_42e1_11eb_817b_525400636bf5row0_col10\" class=\"data row0 col10\" >-0.133432</td>\n",
       "                        <td id=\"T_ff7edb76_42e1_11eb_817b_525400636bf5row0_col11\" class=\"data row0 col11\" >-0.054285</td>\n",
       "                        <td id=\"T_ff7edb76_42e1_11eb_817b_525400636bf5row0_col12\" class=\"data row0 col12\" >-0.308761</td>\n",
       "                        <td id=\"T_ff7edb76_42e1_11eb_817b_525400636bf5row0_col13\" class=\"data row0 col13\" >-0.212582</td>\n",
       "                        <td id=\"T_ff7edb76_42e1_11eb_817b_525400636bf5row0_col14\" class=\"data row0 col14\" >-0.233553</td>\n",
       "                        <td id=\"T_ff7edb76_42e1_11eb_817b_525400636bf5row0_col15\" class=\"data row0 col15\" >-0.117132</td>\n",
       "                        <td id=\"T_ff7edb76_42e1_11eb_817b_525400636bf5row0_col16\" class=\"data row0 col16\" >-0.303546</td>\n",
       "            </tr>\n",
       "            <tr>\n",
       "                        <th id=\"T_ff7edb76_42e1_11eb_817b_525400636bf5level0_row1\" class=\"row_heading level0 row1\" >theta</th>\n",
       "                        <td id=\"T_ff7edb76_42e1_11eb_817b_525400636bf5row1_col0\" class=\"data row1 col0\" >-0.165907</td>\n",
       "                        <td id=\"T_ff7edb76_42e1_11eb_817b_525400636bf5row1_col1\" class=\"data row1 col1\" >1.000000</td>\n",
       "                        <td id=\"T_ff7edb76_42e1_11eb_817b_525400636bf5row1_col2\" class=\"data row1 col2\" >0.602733</td>\n",
       "                        <td id=\"T_ff7edb76_42e1_11eb_817b_525400636bf5row1_col3\" class=\"data row1 col3\" >-0.165866</td>\n",
       "                        <td id=\"T_ff7edb76_42e1_11eb_817b_525400636bf5row1_col4\" class=\"data row1 col4\" >-0.282851</td>\n",
       "                        <td id=\"T_ff7edb76_42e1_11eb_817b_525400636bf5row1_col5\" class=\"data row1 col5\" >0.058228</td>\n",
       "                        <td id=\"T_ff7edb76_42e1_11eb_817b_525400636bf5row1_col6\" class=\"data row1 col6\" >0.003142</td>\n",
       "                        <td id=\"T_ff7edb76_42e1_11eb_817b_525400636bf5row1_col7\" class=\"data row1 col7\" >0.106319</td>\n",
       "                        <td id=\"T_ff7edb76_42e1_11eb_817b_525400636bf5row1_col8\" class=\"data row1 col8\" >-0.048322</td>\n",
       "                        <td id=\"T_ff7edb76_42e1_11eb_817b_525400636bf5row1_col9\" class=\"data row1 col9\" >-0.000306</td>\n",
       "                        <td id=\"T_ff7edb76_42e1_11eb_817b_525400636bf5row1_col10\" class=\"data row1 col10\" >0.153445</td>\n",
       "                        <td id=\"T_ff7edb76_42e1_11eb_817b_525400636bf5row1_col11\" class=\"data row1 col11\" >0.103768</td>\n",
       "                        <td id=\"T_ff7edb76_42e1_11eb_817b_525400636bf5row1_col12\" class=\"data row1 col12\" >-0.056287</td>\n",
       "                        <td id=\"T_ff7edb76_42e1_11eb_817b_525400636bf5row1_col13\" class=\"data row1 col13\" >-0.087624</td>\n",
       "                        <td id=\"T_ff7edb76_42e1_11eb_817b_525400636bf5row1_col14\" class=\"data row1 col14\" >-0.217432</td>\n",
       "                        <td id=\"T_ff7edb76_42e1_11eb_817b_525400636bf5row1_col15\" class=\"data row1 col15\" >0.114750</td>\n",
       "                        <td id=\"T_ff7edb76_42e1_11eb_817b_525400636bf5row1_col16\" class=\"data row1 col16\" >0.026554</td>\n",
       "            </tr>\n",
       "            <tr>\n",
       "                        <th id=\"T_ff7edb76_42e1_11eb_817b_525400636bf5level0_row2\" class=\"row_heading level0 row2\" >kappa</th>\n",
       "                        <td id=\"T_ff7edb76_42e1_11eb_817b_525400636bf5row2_col0\" class=\"data row2 col0\" >-0.093149</td>\n",
       "                        <td id=\"T_ff7edb76_42e1_11eb_817b_525400636bf5row2_col1\" class=\"data row2 col1\" >0.602733</td>\n",
       "                        <td id=\"T_ff7edb76_42e1_11eb_817b_525400636bf5row2_col2\" class=\"data row2 col2\" >1.000000</td>\n",
       "                        <td id=\"T_ff7edb76_42e1_11eb_817b_525400636bf5row2_col3\" class=\"data row2 col3\" >0.187698</td>\n",
       "                        <td id=\"T_ff7edb76_42e1_11eb_817b_525400636bf5row2_col4\" class=\"data row2 col4\" >-0.127614</td>\n",
       "                        <td id=\"T_ff7edb76_42e1_11eb_817b_525400636bf5row2_col5\" class=\"data row2 col5\" >-0.116102</td>\n",
       "                        <td id=\"T_ff7edb76_42e1_11eb_817b_525400636bf5row2_col6\" class=\"data row2 col6\" >-0.279280</td>\n",
       "                        <td id=\"T_ff7edb76_42e1_11eb_817b_525400636bf5row2_col7\" class=\"data row2 col7\" >-0.071254</td>\n",
       "                        <td id=\"T_ff7edb76_42e1_11eb_817b_525400636bf5row2_col8\" class=\"data row2 col8\" >-0.252300</td>\n",
       "                        <td id=\"T_ff7edb76_42e1_11eb_817b_525400636bf5row2_col9\" class=\"data row2 col9\" >-0.142232</td>\n",
       "                        <td id=\"T_ff7edb76_42e1_11eb_817b_525400636bf5row2_col10\" class=\"data row2 col10\" >-0.216158</td>\n",
       "                        <td id=\"T_ff7edb76_42e1_11eb_817b_525400636bf5row2_col11\" class=\"data row2 col11\" >-0.208583</td>\n",
       "                        <td id=\"T_ff7edb76_42e1_11eb_817b_525400636bf5row2_col12\" class=\"data row2 col12\" >-0.179858</td>\n",
       "                        <td id=\"T_ff7edb76_42e1_11eb_817b_525400636bf5row2_col13\" class=\"data row2 col13\" >-0.241372</td>\n",
       "                        <td id=\"T_ff7edb76_42e1_11eb_817b_525400636bf5row2_col14\" class=\"data row2 col14\" >-0.216663</td>\n",
       "                        <td id=\"T_ff7edb76_42e1_11eb_817b_525400636bf5row2_col15\" class=\"data row2 col15\" >0.044779</td>\n",
       "                        <td id=\"T_ff7edb76_42e1_11eb_817b_525400636bf5row2_col16\" class=\"data row2 col16\" >-0.242933</td>\n",
       "            </tr>\n",
       "            <tr>\n",
       "                        <th id=\"T_ff7edb76_42e1_11eb_817b_525400636bf5level0_row3\" class=\"row_heading level0 row3\" >rho</th>\n",
       "                        <td id=\"T_ff7edb76_42e1_11eb_817b_525400636bf5row3_col0\" class=\"data row3 col0\" >0.451454</td>\n",
       "                        <td id=\"T_ff7edb76_42e1_11eb_817b_525400636bf5row3_col1\" class=\"data row3 col1\" >-0.165866</td>\n",
       "                        <td id=\"T_ff7edb76_42e1_11eb_817b_525400636bf5row3_col2\" class=\"data row3 col2\" >0.187698</td>\n",
       "                        <td id=\"T_ff7edb76_42e1_11eb_817b_525400636bf5row3_col3\" class=\"data row3 col3\" >1.000000</td>\n",
       "                        <td id=\"T_ff7edb76_42e1_11eb_817b_525400636bf5row3_col4\" class=\"data row3 col4\" >-0.043354</td>\n",
       "                        <td id=\"T_ff7edb76_42e1_11eb_817b_525400636bf5row3_col5\" class=\"data row3 col5\" >-0.265685</td>\n",
       "                        <td id=\"T_ff7edb76_42e1_11eb_817b_525400636bf5row3_col6\" class=\"data row3 col6\" >-0.366590</td>\n",
       "                        <td id=\"T_ff7edb76_42e1_11eb_817b_525400636bf5row3_col7\" class=\"data row3 col7\" >-0.315508</td>\n",
       "                        <td id=\"T_ff7edb76_42e1_11eb_817b_525400636bf5row3_col8\" class=\"data row3 col8\" >-0.557179</td>\n",
       "                        <td id=\"T_ff7edb76_42e1_11eb_817b_525400636bf5row3_col9\" class=\"data row3 col9\" >-0.277740</td>\n",
       "                        <td id=\"T_ff7edb76_42e1_11eb_817b_525400636bf5row3_col10\" class=\"data row3 col10\" >-0.358995</td>\n",
       "                        <td id=\"T_ff7edb76_42e1_11eb_817b_525400636bf5row3_col11\" class=\"data row3 col11\" >-0.396788</td>\n",
       "                        <td id=\"T_ff7edb76_42e1_11eb_817b_525400636bf5row3_col12\" class=\"data row3 col12\" >-0.508127</td>\n",
       "                        <td id=\"T_ff7edb76_42e1_11eb_817b_525400636bf5row3_col13\" class=\"data row3 col13\" >-0.316350</td>\n",
       "                        <td id=\"T_ff7edb76_42e1_11eb_817b_525400636bf5row3_col14\" class=\"data row3 col14\" >-0.379915</td>\n",
       "                        <td id=\"T_ff7edb76_42e1_11eb_817b_525400636bf5row3_col15\" class=\"data row3 col15\" >-0.254838</td>\n",
       "                        <td id=\"T_ff7edb76_42e1_11eb_817b_525400636bf5row3_col16\" class=\"data row3 col16\" >-0.431369</td>\n",
       "            </tr>\n",
       "            <tr>\n",
       "                        <th id=\"T_ff7edb76_42e1_11eb_817b_525400636bf5level0_row4\" class=\"row_heading level0 row4\" >sigma</th>\n",
       "                        <td id=\"T_ff7edb76_42e1_11eb_817b_525400636bf5row4_col0\" class=\"data row4 col0\" >-0.563878</td>\n",
       "                        <td id=\"T_ff7edb76_42e1_11eb_817b_525400636bf5row4_col1\" class=\"data row4 col1\" >-0.282851</td>\n",
       "                        <td id=\"T_ff7edb76_42e1_11eb_817b_525400636bf5row4_col2\" class=\"data row4 col2\" >-0.127614</td>\n",
       "                        <td id=\"T_ff7edb76_42e1_11eb_817b_525400636bf5row4_col3\" class=\"data row4 col3\" >-0.043354</td>\n",
       "                        <td id=\"T_ff7edb76_42e1_11eb_817b_525400636bf5row4_col4\" class=\"data row4 col4\" >1.000000</td>\n",
       "                        <td id=\"T_ff7edb76_42e1_11eb_817b_525400636bf5row4_col5\" class=\"data row4 col5\" >0.138661</td>\n",
       "                        <td id=\"T_ff7edb76_42e1_11eb_817b_525400636bf5row4_col6\" class=\"data row4 col6\" >0.060475</td>\n",
       "                        <td id=\"T_ff7edb76_42e1_11eb_817b_525400636bf5row4_col7\" class=\"data row4 col7\" >0.164058</td>\n",
       "                        <td id=\"T_ff7edb76_42e1_11eb_817b_525400636bf5row4_col8\" class=\"data row4 col8\" >0.122581</td>\n",
       "                        <td id=\"T_ff7edb76_42e1_11eb_817b_525400636bf5row4_col9\" class=\"data row4 col9\" >0.064757</td>\n",
       "                        <td id=\"T_ff7edb76_42e1_11eb_817b_525400636bf5row4_col10\" class=\"data row4 col10\" >-0.027601</td>\n",
       "                        <td id=\"T_ff7edb76_42e1_11eb_817b_525400636bf5row4_col11\" class=\"data row4 col11\" >-0.135770</td>\n",
       "                        <td id=\"T_ff7edb76_42e1_11eb_817b_525400636bf5row4_col12\" class=\"data row4 col12\" >0.099266</td>\n",
       "                        <td id=\"T_ff7edb76_42e1_11eb_817b_525400636bf5row4_col13\" class=\"data row4 col13\" >0.183260</td>\n",
       "                        <td id=\"T_ff7edb76_42e1_11eb_817b_525400636bf5row4_col14\" class=\"data row4 col14\" >0.154182</td>\n",
       "                        <td id=\"T_ff7edb76_42e1_11eb_817b_525400636bf5row4_col15\" class=\"data row4 col15\" >0.059676</td>\n",
       "                        <td id=\"T_ff7edb76_42e1_11eb_817b_525400636bf5row4_col16\" class=\"data row4 col16\" >0.095025</td>\n",
       "            </tr>\n",
       "            <tr>\n",
       "                        <th id=\"T_ff7edb76_42e1_11eb_817b_525400636bf5level0_row5\" class=\"row_heading level0 row5\" >School_closing</th>\n",
       "                        <td id=\"T_ff7edb76_42e1_11eb_817b_525400636bf5row5_col0\" class=\"data row5 col0\" >-0.212516</td>\n",
       "                        <td id=\"T_ff7edb76_42e1_11eb_817b_525400636bf5row5_col1\" class=\"data row5 col1\" >0.058228</td>\n",
       "                        <td id=\"T_ff7edb76_42e1_11eb_817b_525400636bf5row5_col2\" class=\"data row5 col2\" >-0.116102</td>\n",
       "                        <td id=\"T_ff7edb76_42e1_11eb_817b_525400636bf5row5_col3\" class=\"data row5 col3\" >-0.265685</td>\n",
       "                        <td id=\"T_ff7edb76_42e1_11eb_817b_525400636bf5row5_col4\" class=\"data row5 col4\" >0.138661</td>\n",
       "                        <td id=\"T_ff7edb76_42e1_11eb_817b_525400636bf5row5_col5\" class=\"data row5 col5\" >1.000000</td>\n",
       "                        <td id=\"T_ff7edb76_42e1_11eb_817b_525400636bf5row5_col6\" class=\"data row5 col6\" >0.651545</td>\n",
       "                        <td id=\"T_ff7edb76_42e1_11eb_817b_525400636bf5row5_col7\" class=\"data row5 col7\" >0.137010</td>\n",
       "                        <td id=\"T_ff7edb76_42e1_11eb_817b_525400636bf5row5_col8\" class=\"data row5 col8\" >0.455730</td>\n",
       "                        <td id=\"T_ff7edb76_42e1_11eb_817b_525400636bf5row5_col9\" class=\"data row5 col9\" >0.111822</td>\n",
       "                        <td id=\"T_ff7edb76_42e1_11eb_817b_525400636bf5row5_col10\" class=\"data row5 col10\" >0.468640</td>\n",
       "                        <td id=\"T_ff7edb76_42e1_11eb_817b_525400636bf5row5_col11\" class=\"data row5 col11\" >0.236641</td>\n",
       "                        <td id=\"T_ff7edb76_42e1_11eb_817b_525400636bf5row5_col12\" class=\"data row5 col12\" >0.290152</td>\n",
       "                        <td id=\"T_ff7edb76_42e1_11eb_817b_525400636bf5row5_col13\" class=\"data row5 col13\" >0.365759</td>\n",
       "                        <td id=\"T_ff7edb76_42e1_11eb_817b_525400636bf5row5_col14\" class=\"data row5 col14\" >0.013857</td>\n",
       "                        <td id=\"T_ff7edb76_42e1_11eb_817b_525400636bf5row5_col15\" class=\"data row5 col15\" >-0.136089</td>\n",
       "                        <td id=\"T_ff7edb76_42e1_11eb_817b_525400636bf5row5_col16\" class=\"data row5 col16\" >0.746824</td>\n",
       "            </tr>\n",
       "            <tr>\n",
       "                        <th id=\"T_ff7edb76_42e1_11eb_817b_525400636bf5level0_row6\" class=\"row_heading level0 row6\" >Workplace_closing</th>\n",
       "                        <td id=\"T_ff7edb76_42e1_11eb_817b_525400636bf5row6_col0\" class=\"data row6 col0\" >-0.230837</td>\n",
       "                        <td id=\"T_ff7edb76_42e1_11eb_817b_525400636bf5row6_col1\" class=\"data row6 col1\" >0.003142</td>\n",
       "                        <td id=\"T_ff7edb76_42e1_11eb_817b_525400636bf5row6_col2\" class=\"data row6 col2\" >-0.279280</td>\n",
       "                        <td id=\"T_ff7edb76_42e1_11eb_817b_525400636bf5row6_col3\" class=\"data row6 col3\" >-0.366590</td>\n",
       "                        <td id=\"T_ff7edb76_42e1_11eb_817b_525400636bf5row6_col4\" class=\"data row6 col4\" >0.060475</td>\n",
       "                        <td id=\"T_ff7edb76_42e1_11eb_817b_525400636bf5row6_col5\" class=\"data row6 col5\" >0.651545</td>\n",
       "                        <td id=\"T_ff7edb76_42e1_11eb_817b_525400636bf5row6_col6\" class=\"data row6 col6\" >1.000000</td>\n",
       "                        <td id=\"T_ff7edb76_42e1_11eb_817b_525400636bf5row6_col7\" class=\"data row6 col7\" >0.364472</td>\n",
       "                        <td id=\"T_ff7edb76_42e1_11eb_817b_525400636bf5row6_col8\" class=\"data row6 col8\" >0.655435</td>\n",
       "                        <td id=\"T_ff7edb76_42e1_11eb_817b_525400636bf5row6_col9\" class=\"data row6 col9\" >0.205079</td>\n",
       "                        <td id=\"T_ff7edb76_42e1_11eb_817b_525400636bf5row6_col10\" class=\"data row6 col10\" >0.657105</td>\n",
       "                        <td id=\"T_ff7edb76_42e1_11eb_817b_525400636bf5row6_col11\" class=\"data row6 col11\" >0.398869</td>\n",
       "                        <td id=\"T_ff7edb76_42e1_11eb_817b_525400636bf5row6_col12\" class=\"data row6 col12\" >0.302246</td>\n",
       "                        <td id=\"T_ff7edb76_42e1_11eb_817b_525400636bf5row6_col13\" class=\"data row6 col13\" >0.429533</td>\n",
       "                        <td id=\"T_ff7edb76_42e1_11eb_817b_525400636bf5row6_col14\" class=\"data row6 col14\" >0.152128</td>\n",
       "                        <td id=\"T_ff7edb76_42e1_11eb_817b_525400636bf5row6_col15\" class=\"data row6 col15\" >-0.032077</td>\n",
       "                        <td id=\"T_ff7edb76_42e1_11eb_817b_525400636bf5row6_col16\" class=\"data row6 col16\" >0.805636</td>\n",
       "            </tr>\n",
       "            <tr>\n",
       "                        <th id=\"T_ff7edb76_42e1_11eb_817b_525400636bf5level0_row7\" class=\"row_heading level0 row7\" >Cancel_events</th>\n",
       "                        <td id=\"T_ff7edb76_42e1_11eb_817b_525400636bf5row7_col0\" class=\"data row7 col0\" >-0.322267</td>\n",
       "                        <td id=\"T_ff7edb76_42e1_11eb_817b_525400636bf5row7_col1\" class=\"data row7 col1\" >0.106319</td>\n",
       "                        <td id=\"T_ff7edb76_42e1_11eb_817b_525400636bf5row7_col2\" class=\"data row7 col2\" >-0.071254</td>\n",
       "                        <td id=\"T_ff7edb76_42e1_11eb_817b_525400636bf5row7_col3\" class=\"data row7 col3\" >-0.315508</td>\n",
       "                        <td id=\"T_ff7edb76_42e1_11eb_817b_525400636bf5row7_col4\" class=\"data row7 col4\" >0.164058</td>\n",
       "                        <td id=\"T_ff7edb76_42e1_11eb_817b_525400636bf5row7_col5\" class=\"data row7 col5\" >0.137010</td>\n",
       "                        <td id=\"T_ff7edb76_42e1_11eb_817b_525400636bf5row7_col6\" class=\"data row7 col6\" >0.364472</td>\n",
       "                        <td id=\"T_ff7edb76_42e1_11eb_817b_525400636bf5row7_col7\" class=\"data row7 col7\" >1.000000</td>\n",
       "                        <td id=\"T_ff7edb76_42e1_11eb_817b_525400636bf5row7_col8\" class=\"data row7 col8\" >0.562441</td>\n",
       "                        <td id=\"T_ff7edb76_42e1_11eb_817b_525400636bf5row7_col9\" class=\"data row7 col9\" >0.517773</td>\n",
       "                        <td id=\"T_ff7edb76_42e1_11eb_817b_525400636bf5row7_col10\" class=\"data row7 col10\" >0.422836</td>\n",
       "                        <td id=\"T_ff7edb76_42e1_11eb_817b_525400636bf5row7_col11\" class=\"data row7 col11\" >0.586159</td>\n",
       "                        <td id=\"T_ff7edb76_42e1_11eb_817b_525400636bf5row7_col12\" class=\"data row7 col12\" >0.168017</td>\n",
       "                        <td id=\"T_ff7edb76_42e1_11eb_817b_525400636bf5row7_col13\" class=\"data row7 col13\" >0.432874</td>\n",
       "                        <td id=\"T_ff7edb76_42e1_11eb_817b_525400636bf5row7_col14\" class=\"data row7 col14\" >-0.055423</td>\n",
       "                        <td id=\"T_ff7edb76_42e1_11eb_817b_525400636bf5row7_col15\" class=\"data row7 col15\" >-0.044335</td>\n",
       "                        <td id=\"T_ff7edb76_42e1_11eb_817b_525400636bf5row7_col16\" class=\"data row7 col16\" >0.548117</td>\n",
       "            </tr>\n",
       "            <tr>\n",
       "                        <th id=\"T_ff7edb76_42e1_11eb_817b_525400636bf5level0_row8\" class=\"row_heading level0 row8\" >Gatherings_restrictions</th>\n",
       "                        <td id=\"T_ff7edb76_42e1_11eb_817b_525400636bf5row8_col0\" class=\"data row8 col0\" >-0.332408</td>\n",
       "                        <td id=\"T_ff7edb76_42e1_11eb_817b_525400636bf5row8_col1\" class=\"data row8 col1\" >-0.048322</td>\n",
       "                        <td id=\"T_ff7edb76_42e1_11eb_817b_525400636bf5row8_col2\" class=\"data row8 col2\" >-0.252300</td>\n",
       "                        <td id=\"T_ff7edb76_42e1_11eb_817b_525400636bf5row8_col3\" class=\"data row8 col3\" >-0.557179</td>\n",
       "                        <td id=\"T_ff7edb76_42e1_11eb_817b_525400636bf5row8_col4\" class=\"data row8 col4\" >0.122581</td>\n",
       "                        <td id=\"T_ff7edb76_42e1_11eb_817b_525400636bf5row8_col5\" class=\"data row8 col5\" >0.455730</td>\n",
       "                        <td id=\"T_ff7edb76_42e1_11eb_817b_525400636bf5row8_col6\" class=\"data row8 col6\" >0.655435</td>\n",
       "                        <td id=\"T_ff7edb76_42e1_11eb_817b_525400636bf5row8_col7\" class=\"data row8 col7\" >0.562441</td>\n",
       "                        <td id=\"T_ff7edb76_42e1_11eb_817b_525400636bf5row8_col8\" class=\"data row8 col8\" >1.000000</td>\n",
       "                        <td id=\"T_ff7edb76_42e1_11eb_817b_525400636bf5row8_col9\" class=\"data row8 col9\" >0.384985</td>\n",
       "                        <td id=\"T_ff7edb76_42e1_11eb_817b_525400636bf5row8_col10\" class=\"data row8 col10\" >0.530432</td>\n",
       "                        <td id=\"T_ff7edb76_42e1_11eb_817b_525400636bf5row8_col11\" class=\"data row8 col11\" >0.625356</td>\n",
       "                        <td id=\"T_ff7edb76_42e1_11eb_817b_525400636bf5row8_col12\" class=\"data row8 col12\" >0.475134</td>\n",
       "                        <td id=\"T_ff7edb76_42e1_11eb_817b_525400636bf5row8_col13\" class=\"data row8 col13\" >0.587060</td>\n",
       "                        <td id=\"T_ff7edb76_42e1_11eb_817b_525400636bf5row8_col14\" class=\"data row8 col14\" >0.377306</td>\n",
       "                        <td id=\"T_ff7edb76_42e1_11eb_817b_525400636bf5row8_col15\" class=\"data row8 col15\" >0.194139</td>\n",
       "                        <td id=\"T_ff7edb76_42e1_11eb_817b_525400636bf5row8_col16\" class=\"data row8 col16\" >0.777703</td>\n",
       "            </tr>\n",
       "            <tr>\n",
       "                        <th id=\"T_ff7edb76_42e1_11eb_817b_525400636bf5level0_row9\" class=\"row_heading level0 row9\" >Transport_closing</th>\n",
       "                        <td id=\"T_ff7edb76_42e1_11eb_817b_525400636bf5row9_col0\" class=\"data row9 col0\" >-0.157143</td>\n",
       "                        <td id=\"T_ff7edb76_42e1_11eb_817b_525400636bf5row9_col1\" class=\"data row9 col1\" >-0.000306</td>\n",
       "                        <td id=\"T_ff7edb76_42e1_11eb_817b_525400636bf5row9_col2\" class=\"data row9 col2\" >-0.142232</td>\n",
       "                        <td id=\"T_ff7edb76_42e1_11eb_817b_525400636bf5row9_col3\" class=\"data row9 col3\" >-0.277740</td>\n",
       "                        <td id=\"T_ff7edb76_42e1_11eb_817b_525400636bf5row9_col4\" class=\"data row9 col4\" >0.064757</td>\n",
       "                        <td id=\"T_ff7edb76_42e1_11eb_817b_525400636bf5row9_col5\" class=\"data row9 col5\" >0.111822</td>\n",
       "                        <td id=\"T_ff7edb76_42e1_11eb_817b_525400636bf5row9_col6\" class=\"data row9 col6\" >0.205079</td>\n",
       "                        <td id=\"T_ff7edb76_42e1_11eb_817b_525400636bf5row9_col7\" class=\"data row9 col7\" >0.517773</td>\n",
       "                        <td id=\"T_ff7edb76_42e1_11eb_817b_525400636bf5row9_col8\" class=\"data row9 col8\" >0.384985</td>\n",
       "                        <td id=\"T_ff7edb76_42e1_11eb_817b_525400636bf5row9_col9\" class=\"data row9 col9\" >1.000000</td>\n",
       "                        <td id=\"T_ff7edb76_42e1_11eb_817b_525400636bf5row9_col10\" class=\"data row9 col10\" >0.426444</td>\n",
       "                        <td id=\"T_ff7edb76_42e1_11eb_817b_525400636bf5row9_col11\" class=\"data row9 col11\" >0.558649</td>\n",
       "                        <td id=\"T_ff7edb76_42e1_11eb_817b_525400636bf5row9_col12\" class=\"data row9 col12\" >0.029591</td>\n",
       "                        <td id=\"T_ff7edb76_42e1_11eb_817b_525400636bf5row9_col13\" class=\"data row9 col13\" >0.282452</td>\n",
       "                        <td id=\"T_ff7edb76_42e1_11eb_817b_525400636bf5row9_col14\" class=\"data row9 col14\" >-0.067559</td>\n",
       "                        <td id=\"T_ff7edb76_42e1_11eb_817b_525400636bf5row9_col15\" class=\"data row9 col15\" >-0.069829</td>\n",
       "                        <td id=\"T_ff7edb76_42e1_11eb_817b_525400636bf5row9_col16\" class=\"data row9 col16\" >0.390153</td>\n",
       "            </tr>\n",
       "            <tr>\n",
       "                        <th id=\"T_ff7edb76_42e1_11eb_817b_525400636bf5level0_row10\" class=\"row_heading level0 row10\" >Stay_home_restrictions</th>\n",
       "                        <td id=\"T_ff7edb76_42e1_11eb_817b_525400636bf5row10_col0\" class=\"data row10 col0\" >-0.133432</td>\n",
       "                        <td id=\"T_ff7edb76_42e1_11eb_817b_525400636bf5row10_col1\" class=\"data row10 col1\" >0.153445</td>\n",
       "                        <td id=\"T_ff7edb76_42e1_11eb_817b_525400636bf5row10_col2\" class=\"data row10 col2\" >-0.216158</td>\n",
       "                        <td id=\"T_ff7edb76_42e1_11eb_817b_525400636bf5row10_col3\" class=\"data row10 col3\" >-0.358995</td>\n",
       "                        <td id=\"T_ff7edb76_42e1_11eb_817b_525400636bf5row10_col4\" class=\"data row10 col4\" >-0.027601</td>\n",
       "                        <td id=\"T_ff7edb76_42e1_11eb_817b_525400636bf5row10_col5\" class=\"data row10 col5\" >0.468640</td>\n",
       "                        <td id=\"T_ff7edb76_42e1_11eb_817b_525400636bf5row10_col6\" class=\"data row10 col6\" >0.657105</td>\n",
       "                        <td id=\"T_ff7edb76_42e1_11eb_817b_525400636bf5row10_col7\" class=\"data row10 col7\" >0.422836</td>\n",
       "                        <td id=\"T_ff7edb76_42e1_11eb_817b_525400636bf5row10_col8\" class=\"data row10 col8\" >0.530432</td>\n",
       "                        <td id=\"T_ff7edb76_42e1_11eb_817b_525400636bf5row10_col9\" class=\"data row10 col9\" >0.426444</td>\n",
       "                        <td id=\"T_ff7edb76_42e1_11eb_817b_525400636bf5row10_col10\" class=\"data row10 col10\" >1.000000</td>\n",
       "                        <td id=\"T_ff7edb76_42e1_11eb_817b_525400636bf5row10_col11\" class=\"data row10 col11\" >0.498334</td>\n",
       "                        <td id=\"T_ff7edb76_42e1_11eb_817b_525400636bf5row10_col12\" class=\"data row10 col12\" >0.278257</td>\n",
       "                        <td id=\"T_ff7edb76_42e1_11eb_817b_525400636bf5row10_col13\" class=\"data row10 col13\" >0.396289</td>\n",
       "                        <td id=\"T_ff7edb76_42e1_11eb_817b_525400636bf5row10_col14\" class=\"data row10 col14\" >0.126752</td>\n",
       "                        <td id=\"T_ff7edb76_42e1_11eb_817b_525400636bf5row10_col15\" class=\"data row10 col15\" >-0.013765</td>\n",
       "                        <td id=\"T_ff7edb76_42e1_11eb_817b_525400636bf5row10_col16\" class=\"data row10 col16\" >0.670392</td>\n",
       "            </tr>\n",
       "            <tr>\n",
       "                        <th id=\"T_ff7edb76_42e1_11eb_817b_525400636bf5level0_row11\" class=\"row_heading level0 row11\" >Internal_movement_restrictions</th>\n",
       "                        <td id=\"T_ff7edb76_42e1_11eb_817b_525400636bf5row11_col0\" class=\"data row11 col0\" >-0.054285</td>\n",
       "                        <td id=\"T_ff7edb76_42e1_11eb_817b_525400636bf5row11_col1\" class=\"data row11 col1\" >0.103768</td>\n",
       "                        <td id=\"T_ff7edb76_42e1_11eb_817b_525400636bf5row11_col2\" class=\"data row11 col2\" >-0.208583</td>\n",
       "                        <td id=\"T_ff7edb76_42e1_11eb_817b_525400636bf5row11_col3\" class=\"data row11 col3\" >-0.396788</td>\n",
       "                        <td id=\"T_ff7edb76_42e1_11eb_817b_525400636bf5row11_col4\" class=\"data row11 col4\" >-0.135770</td>\n",
       "                        <td id=\"T_ff7edb76_42e1_11eb_817b_525400636bf5row11_col5\" class=\"data row11 col5\" >0.236641</td>\n",
       "                        <td id=\"T_ff7edb76_42e1_11eb_817b_525400636bf5row11_col6\" class=\"data row11 col6\" >0.398869</td>\n",
       "                        <td id=\"T_ff7edb76_42e1_11eb_817b_525400636bf5row11_col7\" class=\"data row11 col7\" >0.586159</td>\n",
       "                        <td id=\"T_ff7edb76_42e1_11eb_817b_525400636bf5row11_col8\" class=\"data row11 col8\" >0.625356</td>\n",
       "                        <td id=\"T_ff7edb76_42e1_11eb_817b_525400636bf5row11_col9\" class=\"data row11 col9\" >0.558649</td>\n",
       "                        <td id=\"T_ff7edb76_42e1_11eb_817b_525400636bf5row11_col10\" class=\"data row11 col10\" >0.498334</td>\n",
       "                        <td id=\"T_ff7edb76_42e1_11eb_817b_525400636bf5row11_col11\" class=\"data row11 col11\" >1.000000</td>\n",
       "                        <td id=\"T_ff7edb76_42e1_11eb_817b_525400636bf5row11_col12\" class=\"data row11 col12\" >0.041963</td>\n",
       "                        <td id=\"T_ff7edb76_42e1_11eb_817b_525400636bf5row11_col13\" class=\"data row11 col13\" >0.308216</td>\n",
       "                        <td id=\"T_ff7edb76_42e1_11eb_817b_525400636bf5row11_col14\" class=\"data row11 col14\" >-0.019206</td>\n",
       "                        <td id=\"T_ff7edb76_42e1_11eb_817b_525400636bf5row11_col15\" class=\"data row11 col15\" >0.038929</td>\n",
       "                        <td id=\"T_ff7edb76_42e1_11eb_817b_525400636bf5row11_col16\" class=\"data row11 col16\" >0.503358</td>\n",
       "            </tr>\n",
       "            <tr>\n",
       "                        <th id=\"T_ff7edb76_42e1_11eb_817b_525400636bf5level0_row12\" class=\"row_heading level0 row12\" >International_movement_restrictions</th>\n",
       "                        <td id=\"T_ff7edb76_42e1_11eb_817b_525400636bf5row12_col0\" class=\"data row12 col0\" >-0.308761</td>\n",
       "                        <td id=\"T_ff7edb76_42e1_11eb_817b_525400636bf5row12_col1\" class=\"data row12 col1\" >-0.056287</td>\n",
       "                        <td id=\"T_ff7edb76_42e1_11eb_817b_525400636bf5row12_col2\" class=\"data row12 col2\" >-0.179858</td>\n",
       "                        <td id=\"T_ff7edb76_42e1_11eb_817b_525400636bf5row12_col3\" class=\"data row12 col3\" >-0.508127</td>\n",
       "                        <td id=\"T_ff7edb76_42e1_11eb_817b_525400636bf5row12_col4\" class=\"data row12 col4\" >0.099266</td>\n",
       "                        <td id=\"T_ff7edb76_42e1_11eb_817b_525400636bf5row12_col5\" class=\"data row12 col5\" >0.290152</td>\n",
       "                        <td id=\"T_ff7edb76_42e1_11eb_817b_525400636bf5row12_col6\" class=\"data row12 col6\" >0.302246</td>\n",
       "                        <td id=\"T_ff7edb76_42e1_11eb_817b_525400636bf5row12_col7\" class=\"data row12 col7\" >0.168017</td>\n",
       "                        <td id=\"T_ff7edb76_42e1_11eb_817b_525400636bf5row12_col8\" class=\"data row12 col8\" >0.475134</td>\n",
       "                        <td id=\"T_ff7edb76_42e1_11eb_817b_525400636bf5row12_col9\" class=\"data row12 col9\" >0.029591</td>\n",
       "                        <td id=\"T_ff7edb76_42e1_11eb_817b_525400636bf5row12_col10\" class=\"data row12 col10\" >0.278257</td>\n",
       "                        <td id=\"T_ff7edb76_42e1_11eb_817b_525400636bf5row12_col11\" class=\"data row12 col11\" >0.041963</td>\n",
       "                        <td id=\"T_ff7edb76_42e1_11eb_817b_525400636bf5row12_col12\" class=\"data row12 col12\" >1.000000</td>\n",
       "                        <td id=\"T_ff7edb76_42e1_11eb_817b_525400636bf5row12_col13\" class=\"data row12 col13\" >0.503646</td>\n",
       "                        <td id=\"T_ff7edb76_42e1_11eb_817b_525400636bf5row12_col14\" class=\"data row12 col14\" >0.477238</td>\n",
       "                        <td id=\"T_ff7edb76_42e1_11eb_817b_525400636bf5row12_col15\" class=\"data row12 col15\" >0.275057</td>\n",
       "                        <td id=\"T_ff7edb76_42e1_11eb_817b_525400636bf5row12_col16\" class=\"data row12 col16\" >0.483294</td>\n",
       "            </tr>\n",
       "            <tr>\n",
       "                        <th id=\"T_ff7edb76_42e1_11eb_817b_525400636bf5level0_row13\" class=\"row_heading level0 row13\" >Information_campaigns</th>\n",
       "                        <td id=\"T_ff7edb76_42e1_11eb_817b_525400636bf5row13_col0\" class=\"data row13 col0\" >-0.212582</td>\n",
       "                        <td id=\"T_ff7edb76_42e1_11eb_817b_525400636bf5row13_col1\" class=\"data row13 col1\" >-0.087624</td>\n",
       "                        <td id=\"T_ff7edb76_42e1_11eb_817b_525400636bf5row13_col2\" class=\"data row13 col2\" >-0.241372</td>\n",
       "                        <td id=\"T_ff7edb76_42e1_11eb_817b_525400636bf5row13_col3\" class=\"data row13 col3\" >-0.316350</td>\n",
       "                        <td id=\"T_ff7edb76_42e1_11eb_817b_525400636bf5row13_col4\" class=\"data row13 col4\" >0.183260</td>\n",
       "                        <td id=\"T_ff7edb76_42e1_11eb_817b_525400636bf5row13_col5\" class=\"data row13 col5\" >0.365759</td>\n",
       "                        <td id=\"T_ff7edb76_42e1_11eb_817b_525400636bf5row13_col6\" class=\"data row13 col6\" >0.429533</td>\n",
       "                        <td id=\"T_ff7edb76_42e1_11eb_817b_525400636bf5row13_col7\" class=\"data row13 col7\" >0.432874</td>\n",
       "                        <td id=\"T_ff7edb76_42e1_11eb_817b_525400636bf5row13_col8\" class=\"data row13 col8\" >0.587060</td>\n",
       "                        <td id=\"T_ff7edb76_42e1_11eb_817b_525400636bf5row13_col9\" class=\"data row13 col9\" >0.282452</td>\n",
       "                        <td id=\"T_ff7edb76_42e1_11eb_817b_525400636bf5row13_col10\" class=\"data row13 col10\" >0.396289</td>\n",
       "                        <td id=\"T_ff7edb76_42e1_11eb_817b_525400636bf5row13_col11\" class=\"data row13 col11\" >0.308216</td>\n",
       "                        <td id=\"T_ff7edb76_42e1_11eb_817b_525400636bf5row13_col12\" class=\"data row13 col12\" >0.503646</td>\n",
       "                        <td id=\"T_ff7edb76_42e1_11eb_817b_525400636bf5row13_col13\" class=\"data row13 col13\" >1.000000</td>\n",
       "                        <td id=\"T_ff7edb76_42e1_11eb_817b_525400636bf5row13_col14\" class=\"data row13 col14\" >0.433102</td>\n",
       "                        <td id=\"T_ff7edb76_42e1_11eb_817b_525400636bf5row13_col15\" class=\"data row13 col15\" >0.288676</td>\n",
       "                        <td id=\"T_ff7edb76_42e1_11eb_817b_525400636bf5row13_col16\" class=\"data row13 col16\" >0.636224</td>\n",
       "            </tr>\n",
       "            <tr>\n",
       "                        <th id=\"T_ff7edb76_42e1_11eb_817b_525400636bf5level0_row14\" class=\"row_heading level0 row14\" >Testing_policy</th>\n",
       "                        <td id=\"T_ff7edb76_42e1_11eb_817b_525400636bf5row14_col0\" class=\"data row14 col0\" >-0.233553</td>\n",
       "                        <td id=\"T_ff7edb76_42e1_11eb_817b_525400636bf5row14_col1\" class=\"data row14 col1\" >-0.217432</td>\n",
       "                        <td id=\"T_ff7edb76_42e1_11eb_817b_525400636bf5row14_col2\" class=\"data row14 col2\" >-0.216663</td>\n",
       "                        <td id=\"T_ff7edb76_42e1_11eb_817b_525400636bf5row14_col3\" class=\"data row14 col3\" >-0.379915</td>\n",
       "                        <td id=\"T_ff7edb76_42e1_11eb_817b_525400636bf5row14_col4\" class=\"data row14 col4\" >0.154182</td>\n",
       "                        <td id=\"T_ff7edb76_42e1_11eb_817b_525400636bf5row14_col5\" class=\"data row14 col5\" >0.013857</td>\n",
       "                        <td id=\"T_ff7edb76_42e1_11eb_817b_525400636bf5row14_col6\" class=\"data row14 col6\" >0.152128</td>\n",
       "                        <td id=\"T_ff7edb76_42e1_11eb_817b_525400636bf5row14_col7\" class=\"data row14 col7\" >-0.055423</td>\n",
       "                        <td id=\"T_ff7edb76_42e1_11eb_817b_525400636bf5row14_col8\" class=\"data row14 col8\" >0.377306</td>\n",
       "                        <td id=\"T_ff7edb76_42e1_11eb_817b_525400636bf5row14_col9\" class=\"data row14 col9\" >-0.067559</td>\n",
       "                        <td id=\"T_ff7edb76_42e1_11eb_817b_525400636bf5row14_col10\" class=\"data row14 col10\" >0.126752</td>\n",
       "                        <td id=\"T_ff7edb76_42e1_11eb_817b_525400636bf5row14_col11\" class=\"data row14 col11\" >-0.019206</td>\n",
       "                        <td id=\"T_ff7edb76_42e1_11eb_817b_525400636bf5row14_col12\" class=\"data row14 col12\" >0.477238</td>\n",
       "                        <td id=\"T_ff7edb76_42e1_11eb_817b_525400636bf5row14_col13\" class=\"data row14 col13\" >0.433102</td>\n",
       "                        <td id=\"T_ff7edb76_42e1_11eb_817b_525400636bf5row14_col14\" class=\"data row14 col14\" >1.000000</td>\n",
       "                        <td id=\"T_ff7edb76_42e1_11eb_817b_525400636bf5row14_col15\" class=\"data row14 col15\" >0.527784</td>\n",
       "                        <td id=\"T_ff7edb76_42e1_11eb_817b_525400636bf5row14_col16\" class=\"data row14 col16\" >0.146472</td>\n",
       "            </tr>\n",
       "            <tr>\n",
       "                        <th id=\"T_ff7edb76_42e1_11eb_817b_525400636bf5level0_row15\" class=\"row_heading level0 row15\" >Contact_tracing</th>\n",
       "                        <td id=\"T_ff7edb76_42e1_11eb_817b_525400636bf5row15_col0\" class=\"data row15 col0\" >-0.117132</td>\n",
       "                        <td id=\"T_ff7edb76_42e1_11eb_817b_525400636bf5row15_col1\" class=\"data row15 col1\" >0.114750</td>\n",
       "                        <td id=\"T_ff7edb76_42e1_11eb_817b_525400636bf5row15_col2\" class=\"data row15 col2\" >0.044779</td>\n",
       "                        <td id=\"T_ff7edb76_42e1_11eb_817b_525400636bf5row15_col3\" class=\"data row15 col3\" >-0.254838</td>\n",
       "                        <td id=\"T_ff7edb76_42e1_11eb_817b_525400636bf5row15_col4\" class=\"data row15 col4\" >0.059676</td>\n",
       "                        <td id=\"T_ff7edb76_42e1_11eb_817b_525400636bf5row15_col5\" class=\"data row15 col5\" >-0.136089</td>\n",
       "                        <td id=\"T_ff7edb76_42e1_11eb_817b_525400636bf5row15_col6\" class=\"data row15 col6\" >-0.032077</td>\n",
       "                        <td id=\"T_ff7edb76_42e1_11eb_817b_525400636bf5row15_col7\" class=\"data row15 col7\" >-0.044335</td>\n",
       "                        <td id=\"T_ff7edb76_42e1_11eb_817b_525400636bf5row15_col8\" class=\"data row15 col8\" >0.194139</td>\n",
       "                        <td id=\"T_ff7edb76_42e1_11eb_817b_525400636bf5row15_col9\" class=\"data row15 col9\" >-0.069829</td>\n",
       "                        <td id=\"T_ff7edb76_42e1_11eb_817b_525400636bf5row15_col10\" class=\"data row15 col10\" >-0.013765</td>\n",
       "                        <td id=\"T_ff7edb76_42e1_11eb_817b_525400636bf5row15_col11\" class=\"data row15 col11\" >0.038929</td>\n",
       "                        <td id=\"T_ff7edb76_42e1_11eb_817b_525400636bf5row15_col12\" class=\"data row15 col12\" >0.275057</td>\n",
       "                        <td id=\"T_ff7edb76_42e1_11eb_817b_525400636bf5row15_col13\" class=\"data row15 col13\" >0.288676</td>\n",
       "                        <td id=\"T_ff7edb76_42e1_11eb_817b_525400636bf5row15_col14\" class=\"data row15 col14\" >0.527784</td>\n",
       "                        <td id=\"T_ff7edb76_42e1_11eb_817b_525400636bf5row15_col15\" class=\"data row15 col15\" >1.000000</td>\n",
       "                        <td id=\"T_ff7edb76_42e1_11eb_817b_525400636bf5row15_col16\" class=\"data row15 col16\" >-0.082828</td>\n",
       "            </tr>\n",
       "            <tr>\n",
       "                        <th id=\"T_ff7edb76_42e1_11eb_817b_525400636bf5level0_row16\" class=\"row_heading level0 row16\" >Stringency_index</th>\n",
       "                        <td id=\"T_ff7edb76_42e1_11eb_817b_525400636bf5row16_col0\" class=\"data row16 col0\" >-0.303546</td>\n",
       "                        <td id=\"T_ff7edb76_42e1_11eb_817b_525400636bf5row16_col1\" class=\"data row16 col1\" >0.026554</td>\n",
       "                        <td id=\"T_ff7edb76_42e1_11eb_817b_525400636bf5row16_col2\" class=\"data row16 col2\" >-0.242933</td>\n",
       "                        <td id=\"T_ff7edb76_42e1_11eb_817b_525400636bf5row16_col3\" class=\"data row16 col3\" >-0.431369</td>\n",
       "                        <td id=\"T_ff7edb76_42e1_11eb_817b_525400636bf5row16_col4\" class=\"data row16 col4\" >0.095025</td>\n",
       "                        <td id=\"T_ff7edb76_42e1_11eb_817b_525400636bf5row16_col5\" class=\"data row16 col5\" >0.746824</td>\n",
       "                        <td id=\"T_ff7edb76_42e1_11eb_817b_525400636bf5row16_col6\" class=\"data row16 col6\" >0.805636</td>\n",
       "                        <td id=\"T_ff7edb76_42e1_11eb_817b_525400636bf5row16_col7\" class=\"data row16 col7\" >0.548117</td>\n",
       "                        <td id=\"T_ff7edb76_42e1_11eb_817b_525400636bf5row16_col8\" class=\"data row16 col8\" >0.777703</td>\n",
       "                        <td id=\"T_ff7edb76_42e1_11eb_817b_525400636bf5row16_col9\" class=\"data row16 col9\" >0.390153</td>\n",
       "                        <td id=\"T_ff7edb76_42e1_11eb_817b_525400636bf5row16_col10\" class=\"data row16 col10\" >0.670392</td>\n",
       "                        <td id=\"T_ff7edb76_42e1_11eb_817b_525400636bf5row16_col11\" class=\"data row16 col11\" >0.503358</td>\n",
       "                        <td id=\"T_ff7edb76_42e1_11eb_817b_525400636bf5row16_col12\" class=\"data row16 col12\" >0.483294</td>\n",
       "                        <td id=\"T_ff7edb76_42e1_11eb_817b_525400636bf5row16_col13\" class=\"data row16 col13\" >0.636224</td>\n",
       "                        <td id=\"T_ff7edb76_42e1_11eb_817b_525400636bf5row16_col14\" class=\"data row16 col14\" >0.146472</td>\n",
       "                        <td id=\"T_ff7edb76_42e1_11eb_817b_525400636bf5row16_col15\" class=\"data row16 col15\" >-0.082828</td>\n",
       "                        <td id=\"T_ff7edb76_42e1_11eb_817b_525400636bf5row16_col16\" class=\"data row16 col16\" >1.000000</td>\n",
       "            </tr>\n",
       "    </tbody></table>"
      ],
      "text/plain": [
       "<pandas.io.formats.style.Styler at 0x7ff2d80be9d0>"
      ]
     },
     "execution_count": 21,
     "metadata": {},
     "output_type": "execute_result"
    }
   ],
   "source": [
    "# Correlation\n",
    "df = track_df.copy()\n",
    "df.corr().style.background_gradient(axis=None)"
   ]
  },
  {
   "cell_type": "code",
   "execution_count": 22,
   "metadata": {
    "collapsed": false
   },
   "outputs": [
    {
     "data": {
      "image/png": "[encoded data removed]",
      "text/plain": [
       "<Figure size 432x288 with 1 Axes>"
      ]
     },
     "metadata": {},
     "output_type": "display_data"
    }
   ],
   "source": [
    "# Scatter plot of Stringency index and Rt\n",
    "df = track_df.copy()\n",
    "sns.scatterplot(data=df, x=\"Stringency_index\", y=\"Rt\", hue=\"Country\", legend=\"brief\", marker=\"+\")\n",
    "bbox_to_anchor=(1.02, 0)\n",
    "bbox_loc=\"lower left\"\n",
    "plt.legend(bbox_to_anchor=bbox_to_anchor, loc=bbox_loc, borderaxespad=0)\n",
    "plt.title(\"Relationship of Stringency index and reproduction number\")\n",
    "plt.ylabel(\"Reproduction number\")\n",
    "plt.xlabel(\"Stringency index\")\n",
    "plt.show()"
   ]
  }
 ],
 "metadata": {
  "kernelspec": {
   "display_name": "Python 3.8.2 64-bit ('.venv': venv)",
   "name": "python_defaultSpec_1597669925034"
  },
  "language_info": {
   "codemirror_mode": {
    "name": "ipython",
    "version": 3
   },
   "file_extension": ".py",
   "mimetype": "text/x-python",
   "name": "python",
   "nbconvert_exporter": "python",
   "pygments_lexer": "ipython3",
   "version": "3.8.2-final"
  }
 },
 "nbformat": 4,
 "nbformat_minor": 4
}
