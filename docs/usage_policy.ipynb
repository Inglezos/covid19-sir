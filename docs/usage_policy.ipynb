{
 "cells": [
  {
   "cell_type": "markdown",
   "metadata": {},
   "source": [
    "# Usage: policy measures\n",
    "Here, we will analyse the relationship of policy measures and parameter values of SIR-derived ODE models. Policy measures are tracked by [Oxford Covid-19 Government Response Tracker (OxCGRT)](https://github.com/OxCGRT/covid-policy-tracker)."
   ]
  },
  {
   "cell_type": "markdown",
   "metadata": {},
   "source": [
    "## Preparation"
   ]
  },
  {
   "cell_type": "code",
   "execution_count": 1,
   "metadata": {
    "execution": {
     "iopub.execute_input": "2021-02-24T15:59:46.338499Z",
     "iopub.status.busy": "2021-02-24T15:59:46.338056Z",
     "iopub.status.idle": "2021-02-24T15:59:46.340086Z",
     "shell.execute_reply": "2021-02-24T15:59:46.340428Z"
    }
   },
   "outputs": [],
   "source": [
    "# Standard users\n",
    "# !pip install covsirphy\n",
    "# Developers (Note: this notebook is in example directory)\n",
    "import os\n",
    "os.chdir(\"../\")"
   ]
  },
  {
   "cell_type": "code",
   "execution_count": 2,
   "metadata": {
    "execution": {
     "iopub.execute_input": "2021-02-24T15:59:46.343573Z",
     "iopub.status.busy": "2021-02-24T15:59:46.343156Z",
     "iopub.status.idle": "2021-02-24T15:59:46.345058Z",
     "shell.execute_reply": "2021-02-24T15:59:46.345424Z"
    }
   },
   "outputs": [],
   "source": [
    "from pprint import pprint"
   ]
  },
  {
   "cell_type": "code",
   "execution_count": 3,
   "metadata": {
    "execution": {
     "iopub.execute_input": "2021-02-24T15:59:46.348522Z",
     "iopub.status.busy": "2021-02-24T15:59:46.347818Z",
     "iopub.status.idle": "2021-02-24T15:59:49.683928Z",
     "shell.execute_reply": "2021-02-24T15:59:49.683419Z"
    }
   },
   "outputs": [
    {
     "data": {
      "text/plain": [
       "'2.16.2-zeta-fu1'"
      ]
     },
     "execution_count": 1,
     "metadata": {},
     "output_type": "execute_result"
    }
   ],
   "source": [
    "import covsirphy as cs\n",
    "cs.__version__"
   ]
  },
  {
   "cell_type": "code",
   "execution_count": 4,
   "metadata": {
    "execution": {
     "iopub.execute_input": "2021-02-24T15:59:49.688399Z",
     "iopub.status.busy": "2021-02-24T15:59:49.687911Z",
     "iopub.status.idle": "2021-02-24T15:59:55.389270Z",
     "shell.execute_reply": "2021-02-24T15:59:55.389651Z"
    },
    "tags": []
   },
   "outputs": [
    {
     "name": "stdout",
     "output_type": "stream",
     "text": [
      "(Secondary source) Guidotti, E., Ardia, D., (2020), \"COVID-19 Data Hub\", Journal of Open Source Software 5(51):2376, doi: 10.21105/joss.02376.\n"
     ]
    }
   ],
   "source": [
    "# Standard users and developers\n",
    "data_loader = cs.DataLoader(\"input\")\n",
    "# The number of cases (JHU style)\n",
    "jhu_data = data_loader.jhu(verbose=False)\n",
    "# Population in each country\n",
    "population_data = data_loader.population(verbose=False)\n",
    "# Government Response Tracker (OxCGRT)\n",
    "oxcgrt_data = data_loader.oxcgrt(verbose=False)\n",
    "# Description/citation\n",
    "print(oxcgrt_data.citation)"
   ]
  },
  {
   "cell_type": "markdown",
   "metadata": {},
   "source": [
    "## Class for policy measure analysis\n",
    "We will `PolicyMeasures` class to find relationship of policy measures and parameter values of SIR-derived ODE models."
   ]
  },
  {
   "cell_type": "code",
   "execution_count": 5,
   "metadata": {
    "execution": {
     "iopub.execute_input": "2021-02-24T15:59:55.396346Z",
     "iopub.status.busy": "2021-02-24T15:59:55.395819Z",
     "iopub.status.idle": "2021-02-24T16:16:31.354603Z",
     "shell.execute_reply": "2021-02-24T16:16:31.353857Z"
    },
    "tags": []
   },
   "outputs": [
    {
     "data": {
      "text/plain": [
       "194"
      ]
     },
     "execution_count": 1,
     "metadata": {},
     "output_type": "execute_result"
    }
   ],
   "source": [
    "# Create analyser with tau value 360 [min] (can be changed)\n",
    "analyser = cs.PolicyMeasures(jhu_data, population_data, oxcgrt_data, tau=360)\n",
    "# The number of registerd countries\n",
    "len(analyser.countries)"
   ]
  },
  {
   "cell_type": "code",
   "execution_count": 6,
   "metadata": {
    "execution": {
     "iopub.execute_input": "2021-02-24T16:16:31.358249Z",
     "iopub.status.busy": "2021-02-24T16:16:31.357780Z",
     "iopub.status.idle": "2021-02-24T16:16:31.360643Z",
     "shell.execute_reply": "2021-02-24T16:16:31.361141Z"
    }
   },
   "outputs": [
    {
     "data": {
      "text/plain": [
       "covsirphy.analysis.scenario.Scenario"
      ]
     },
     "execution_count": 1,
     "metadata": {},
     "output_type": "execute_result"
    }
   ],
   "source": [
    "# We can get Scenario instance for detailed scenario analysis\n",
    "type(analyser.scenario(\"Japan\"))"
   ]
  },
  {
   "cell_type": "markdown",
   "metadata": {},
   "source": [
    "## Set phases with S-R trend analysis\n",
    "We will perform S-R trend analysis to set phases in all countries. Countries which do not have **19th phases** will be un-registered for the next analysis. This number will be adjusted for your analysis."
   ]
  },
  {
   "cell_type": "code",
   "execution_count": 7,
   "metadata": {
    "execution": {
     "iopub.execute_input": "2021-02-24T16:16:31.372089Z",
     "iopub.status.busy": "2021-02-24T16:16:31.371020Z",
     "iopub.status.idle": "2021-02-24T16:21:05.114290Z",
     "shell.execute_reply": "2021-02-24T16:21:05.113815Z"
    }
   },
   "outputs": [
    {
     "name": "stdout",
     "output_type": "stream",
     "text": [
      "{2: ['Laos'],\n",
      " 3: ['Saint Kitts and Nevis', 'Fiji', 'Tanzania'],\n",
      " 4: ['Timor-Leste'],\n",
      " 5: ['Dominica'],\n",
      " 6: ['Saint Vincent and the Grenadines', 'Grenada'],\n",
      " 7: ['Brunei', 'Liechtenstein'],\n",
      " 8: ['Kyrgyzstan', 'Northern Mariana Islands'],\n",
      " 9: ['Nepal', 'Bahamas', 'Angola', 'Uzbekistan', 'Guam', 'Saint Lucia',\n",
      "     'Myanmar', 'Belize', 'Cambodia', 'Mauritius', 'Seychelles'],\n",
      " 10: ['Iraq', 'South Africa', 'Ethiopia', 'Iceland', 'Trinidad and Tobago',\n",
      "      'Antigua and Barbuda', 'Vietnam', 'Oman', 'Republic of the Congo',\n",
      "      'Philippines', 'India', 'Belgium', 'Australia', 'Venezuela', 'Bhutan',\n",
      "      'Guyana', 'Kenya'],\n",
      " 11: ['Libya', 'Syria', 'Algeria', 'Argentina', 'Colombia', 'Swaziland',\n",
      "      'Cape Verde', 'Uganda', 'Bangladesh', 'Kazakhstan', 'El Salvador',\n",
      "      'Virgin Islands, U.S.', 'Morocco', 'Pakistan', 'Bermuda', 'Suriname',\n",
      "      'Madagascar', 'Mauritania', 'Monaco', 'Botswana', 'Costa Rica',\n",
      "      'Netherlands', 'Egypt', 'Sudan', 'Puerto Rico', 'Nicaragua', 'Andorra',\n",
      "      'Jamaica', 'Equatorial Guinea'],\n",
      " 12: ['Brazil', 'Djibouti', 'New Zealand', 'Singapore', 'Barbados',\n",
      "      'Afghanistan', 'Guatemala', 'Bosnia and Herzegovina',\n",
      "      'Sao Tome and Principe', 'Czech Republic', 'Armenia',\n",
      "      'Democratic Republic of the Congo', 'Malta', 'Liberia', 'Tunisia',\n",
      "      'Paraguay', 'Kuwait', 'Maldives', 'Palestine', 'Dominican Republic',\n",
      "      'Israel', 'Papua New Guinea', 'Chile', 'Mexico', 'San Marino', 'Bolivia',\n",
      "      'Honduras', 'Peru', 'Moldova', 'Saudi Arabia', 'Panama', 'Namibia',\n",
      "      'Montenegro', 'Bahrain'],\n",
      " 13: ['Poland', 'Ukraine', 'Kosovo', 'Mali', 'Gambia', 'Mongolia', 'Senegal',\n",
      "      'Taiwan', \"Cote d'Ivoire\", 'Luxembourg', 'Switzerland', 'Bulgaria',\n",
      "      'Guinea', 'Benin', 'Nigeria', 'North Macedonia', 'Eritrea', 'Malawi',\n",
      "      'Zimbabwe', 'Cameroon', 'Ghana', 'Comoros', 'Mozambique', 'Tajikistan',\n",
      "      'Yemen', 'Ecuador', 'Rwanda'],\n",
      " 14: ['Slovakia', 'South Sudan', 'France', 'Slovenia', 'Lebanon', 'Zambia',\n",
      "      'Croatia', 'Azerbaijan', 'Indonesia', 'Jordan', 'Romania', 'Hungary',\n",
      "      'Lesotho', 'Somalia', 'Ireland', 'Togo', 'Russia', 'Sierra Leone',\n",
      "      'Spain'],\n",
      " 15: ['Albania', 'Lithuania', 'United Arab Emirates', 'Qatar', 'Belarus',\n",
      "      'Cyprus', 'Gabon', 'Iran', 'Chad', 'Georgia', 'United Kingdom', 'Niger',\n",
      "      'China', 'Guinea-Bissau', 'Central African Republic', 'United States',\n",
      "      'Cuba', 'Greece'],\n",
      " 16: ['Japan', 'Austria', 'Haiti', 'Thailand', 'Burkina Faso', 'Burundi'],\n",
      " 17: ['Malaysia', 'Serbia', 'Denmark', 'Canada', 'Uruguay', 'Portugal',\n",
      "      'Sri Lanka', 'Turkey', 'Finland', 'South Korea', 'Norway'],\n",
      " 18: ['Italy', 'Latvia', 'Sweden'],\n",
      " 19: ['Germany', 'Estonia']}\n"
     ]
    }
   ],
   "source": [
    "# Show the number of phases of all countries\n",
    "analyser.trend()\n",
    "pprint(analyser.phase_len(), compact=True)"
   ]
  },
  {
   "cell_type": "code",
   "execution_count": 8,
   "metadata": {
    "execution": {
     "iopub.execute_input": "2021-02-24T16:21:05.124790Z",
     "iopub.status.busy": "2021-02-24T16:21:05.120229Z",
     "iopub.status.idle": "2021-02-24T16:25:59.987987Z",
     "shell.execute_reply": "2021-02-24T16:25:59.988347Z"
    }
   },
   "outputs": [
    {
     "data": {
      "text/plain": [
       "2"
      ]
     },
     "execution_count": 1,
     "metadata": {},
     "output_type": "execute_result"
    }
   ],
   "source": [
    "# Set phases with S-R trend analysis\n",
    "analyser.trend(min_len=19)\n",
    "# The number of countries\n",
    "len(analyser.countries)"
   ]
  },
  {
   "cell_type": "code",
   "execution_count": 9,
   "metadata": {
    "execution": {
     "iopub.execute_input": "2021-02-24T16:25:59.991974Z",
     "iopub.status.busy": "2021-02-24T16:25:59.991449Z",
     "iopub.status.idle": "2021-02-24T16:25:59.994108Z",
     "shell.execute_reply": "2021-02-24T16:25:59.993684Z"
    },
    "tags": []
   },
   "outputs": [
    {
     "name": "stdout",
     "output_type": "stream",
     "text": [
      "{19: ['Germany', 'Estonia']}\n"
     ]
    }
   ],
   "source": [
    "phase_len_dict = analyser.phase_len()\n",
    "pprint(phase_len_dict, compact=True)"
   ]
  },
  {
   "cell_type": "code",
   "execution_count": 10,
   "metadata": {
    "execution": {
     "iopub.execute_input": "2021-02-24T16:26:00.005503Z",
     "iopub.status.busy": "2021-02-24T16:26:00.003611Z",
     "iopub.status.idle": "2021-02-24T16:26:00.028293Z",
     "shell.execute_reply": "2021-02-24T16:26:00.028660Z"
    },
    "tags": []
   },
   "outputs": [
    {
     "data": {
      "text/html": [
       "<div>\n",
       "<style scoped>\n",
       "    .dataframe tbody tr th:only-of-type {\n",
       "        vertical-align: middle;\n",
       "    }\n",
       "\n",
       "    .dataframe tbody tr th {\n",
       "        vertical-align: top;\n",
       "    }\n",
       "\n",
       "    .dataframe thead th {\n",
       "        text-align: right;\n",
       "    }\n",
       "</style>\n",
       "<table border=\"1\" class=\"dataframe\">\n",
       "  <thead>\n",
       "    <tr style=\"text-align: right;\">\n",
       "      <th></th>\n",
       "      <th></th>\n",
       "      <th>Type</th>\n",
       "      <th>Start</th>\n",
       "      <th>End</th>\n",
       "      <th>Population</th>\n",
       "    </tr>\n",
       "    <tr>\n",
       "      <th>Country</th>\n",
       "      <th>Phase</th>\n",
       "      <th></th>\n",
       "      <th></th>\n",
       "      <th></th>\n",
       "      <th></th>\n",
       "    </tr>\n",
       "  </thead>\n",
       "  <tbody>\n",
       "    <tr>\n",
       "      <th rowspan=\"19\" valign=\"top\">Germany</th>\n",
       "      <th>0th</th>\n",
       "      <td>Past</td>\n",
       "      <td>03Feb2020</td>\n",
       "      <td>29Mar2020</td>\n",
       "      <td>82905782</td>\n",
       "    </tr>\n",
       "    <tr>\n",
       "      <th>1st</th>\n",
       "      <td>Past</td>\n",
       "      <td>30Mar2020</td>\n",
       "      <td>22Apr2020</td>\n",
       "      <td>82905782</td>\n",
       "    </tr>\n",
       "    <tr>\n",
       "      <th>2nd</th>\n",
       "      <td>Past</td>\n",
       "      <td>23Apr2020</td>\n",
       "      <td>18Aug2020</td>\n",
       "      <td>82905782</td>\n",
       "    </tr>\n",
       "    <tr>\n",
       "      <th>3rd</th>\n",
       "      <td>Past</td>\n",
       "      <td>19Aug2020</td>\n",
       "      <td>06Oct2020</td>\n",
       "      <td>82905782</td>\n",
       "    </tr>\n",
       "    <tr>\n",
       "      <th>4th</th>\n",
       "      <td>Past</td>\n",
       "      <td>07Oct2020</td>\n",
       "      <td>22Oct2020</td>\n",
       "      <td>82905782</td>\n",
       "    </tr>\n",
       "    <tr>\n",
       "      <th>5th</th>\n",
       "      <td>Past</td>\n",
       "      <td>23Oct2020</td>\n",
       "      <td>01Nov2020</td>\n",
       "      <td>82905782</td>\n",
       "    </tr>\n",
       "    <tr>\n",
       "      <th>6th</th>\n",
       "      <td>Past</td>\n",
       "      <td>02Nov2020</td>\n",
       "      <td>09Nov2020</td>\n",
       "      <td>82905782</td>\n",
       "    </tr>\n",
       "    <tr>\n",
       "      <th>7th</th>\n",
       "      <td>Past</td>\n",
       "      <td>10Nov2020</td>\n",
       "      <td>17Nov2020</td>\n",
       "      <td>82905782</td>\n",
       "    </tr>\n",
       "    <tr>\n",
       "      <th>8th</th>\n",
       "      <td>Past</td>\n",
       "      <td>18Nov2020</td>\n",
       "      <td>24Nov2020</td>\n",
       "      <td>82905782</td>\n",
       "    </tr>\n",
       "    <tr>\n",
       "      <th>9th</th>\n",
       "      <td>Past</td>\n",
       "      <td>25Nov2020</td>\n",
       "      <td>01Dec2020</td>\n",
       "      <td>82905782</td>\n",
       "    </tr>\n",
       "    <tr>\n",
       "      <th>10th</th>\n",
       "      <td>Past</td>\n",
       "      <td>02Dec2020</td>\n",
       "      <td>08Dec2020</td>\n",
       "      <td>82905782</td>\n",
       "    </tr>\n",
       "    <tr>\n",
       "      <th>11th</th>\n",
       "      <td>Past</td>\n",
       "      <td>09Dec2020</td>\n",
       "      <td>15Dec2020</td>\n",
       "      <td>82905782</td>\n",
       "    </tr>\n",
       "    <tr>\n",
       "      <th>12th</th>\n",
       "      <td>Past</td>\n",
       "      <td>16Dec2020</td>\n",
       "      <td>21Dec2020</td>\n",
       "      <td>82905782</td>\n",
       "    </tr>\n",
       "    <tr>\n",
       "      <th>13th</th>\n",
       "      <td>Past</td>\n",
       "      <td>22Dec2020</td>\n",
       "      <td>28Dec2020</td>\n",
       "      <td>82905782</td>\n",
       "    </tr>\n",
       "    <tr>\n",
       "      <th>14th</th>\n",
       "      <td>Past</td>\n",
       "      <td>29Dec2020</td>\n",
       "      <td>05Jan2021</td>\n",
       "      <td>82905782</td>\n",
       "    </tr>\n",
       "    <tr>\n",
       "      <th>15th</th>\n",
       "      <td>Past</td>\n",
       "      <td>06Jan2021</td>\n",
       "      <td>13Jan2021</td>\n",
       "      <td>82905782</td>\n",
       "    </tr>\n",
       "    <tr>\n",
       "      <th>16th</th>\n",
       "      <td>Past</td>\n",
       "      <td>14Jan2021</td>\n",
       "      <td>25Jan2021</td>\n",
       "      <td>82905782</td>\n",
       "    </tr>\n",
       "    <tr>\n",
       "      <th>17th</th>\n",
       "      <td>Past</td>\n",
       "      <td>26Jan2021</td>\n",
       "      <td>07Feb2021</td>\n",
       "      <td>82905782</td>\n",
       "    </tr>\n",
       "    <tr>\n",
       "      <th>18th</th>\n",
       "      <td>Past</td>\n",
       "      <td>08Feb2021</td>\n",
       "      <td>23Feb2021</td>\n",
       "      <td>82905782</td>\n",
       "    </tr>\n",
       "    <tr>\n",
       "      <th rowspan=\"19\" valign=\"top\">Estonia</th>\n",
       "      <th>0th</th>\n",
       "      <td>Past</td>\n",
       "      <td>15Mar2020</td>\n",
       "      <td>12Apr2020</td>\n",
       "      <td>1321977</td>\n",
       "    </tr>\n",
       "    <tr>\n",
       "      <th>1st</th>\n",
       "      <td>Past</td>\n",
       "      <td>13Apr2020</td>\n",
       "      <td>31Aug2020</td>\n",
       "      <td>1321977</td>\n",
       "    </tr>\n",
       "    <tr>\n",
       "      <th>2nd</th>\n",
       "      <td>Past</td>\n",
       "      <td>01Sep2020</td>\n",
       "      <td>29Sep2020</td>\n",
       "      <td>1321977</td>\n",
       "    </tr>\n",
       "    <tr>\n",
       "      <th>3rd</th>\n",
       "      <td>Past</td>\n",
       "      <td>30Sep2020</td>\n",
       "      <td>29Oct2020</td>\n",
       "      <td>1321977</td>\n",
       "    </tr>\n",
       "    <tr>\n",
       "      <th>4th</th>\n",
       "      <td>Past</td>\n",
       "      <td>30Oct2020</td>\n",
       "      <td>10Nov2020</td>\n",
       "      <td>1321977</td>\n",
       "    </tr>\n",
       "    <tr>\n",
       "      <th>5th</th>\n",
       "      <td>Past</td>\n",
       "      <td>11Nov2020</td>\n",
       "      <td>18Nov2020</td>\n",
       "      <td>1321977</td>\n",
       "    </tr>\n",
       "    <tr>\n",
       "      <th>6th</th>\n",
       "      <td>Past</td>\n",
       "      <td>19Nov2020</td>\n",
       "      <td>26Nov2020</td>\n",
       "      <td>1321977</td>\n",
       "    </tr>\n",
       "    <tr>\n",
       "      <th>7th</th>\n",
       "      <td>Past</td>\n",
       "      <td>27Nov2020</td>\n",
       "      <td>03Dec2020</td>\n",
       "      <td>1321977</td>\n",
       "    </tr>\n",
       "    <tr>\n",
       "      <th>8th</th>\n",
       "      <td>Past</td>\n",
       "      <td>04Dec2020</td>\n",
       "      <td>10Dec2020</td>\n",
       "      <td>1321977</td>\n",
       "    </tr>\n",
       "    <tr>\n",
       "      <th>9th</th>\n",
       "      <td>Past</td>\n",
       "      <td>11Dec2020</td>\n",
       "      <td>16Dec2020</td>\n",
       "      <td>1321977</td>\n",
       "    </tr>\n",
       "    <tr>\n",
       "      <th>10th</th>\n",
       "      <td>Past</td>\n",
       "      <td>17Dec2020</td>\n",
       "      <td>22Dec2020</td>\n",
       "      <td>1321977</td>\n",
       "    </tr>\n",
       "    <tr>\n",
       "      <th>11th</th>\n",
       "      <td>Past</td>\n",
       "      <td>23Dec2020</td>\n",
       "      <td>28Dec2020</td>\n",
       "      <td>1321977</td>\n",
       "    </tr>\n",
       "    <tr>\n",
       "      <th>12th</th>\n",
       "      <td>Past</td>\n",
       "      <td>29Dec2020</td>\n",
       "      <td>05Jan2021</td>\n",
       "      <td>1321977</td>\n",
       "    </tr>\n",
       "    <tr>\n",
       "      <th>13th</th>\n",
       "      <td>Past</td>\n",
       "      <td>06Jan2021</td>\n",
       "      <td>12Jan2021</td>\n",
       "      <td>1321977</td>\n",
       "    </tr>\n",
       "    <tr>\n",
       "      <th>14th</th>\n",
       "      <td>Past</td>\n",
       "      <td>13Jan2021</td>\n",
       "      <td>19Jan2021</td>\n",
       "      <td>1321977</td>\n",
       "    </tr>\n",
       "    <tr>\n",
       "      <th>15th</th>\n",
       "      <td>Past</td>\n",
       "      <td>20Jan2021</td>\n",
       "      <td>26Jan2021</td>\n",
       "      <td>1321977</td>\n",
       "    </tr>\n",
       "    <tr>\n",
       "      <th>16th</th>\n",
       "      <td>Past</td>\n",
       "      <td>27Jan2021</td>\n",
       "      <td>01Feb2021</td>\n",
       "      <td>1321977</td>\n",
       "    </tr>\n",
       "    <tr>\n",
       "      <th>17th</th>\n",
       "      <td>Past</td>\n",
       "      <td>02Feb2021</td>\n",
       "      <td>11Feb2021</td>\n",
       "      <td>1321977</td>\n",
       "    </tr>\n",
       "    <tr>\n",
       "      <th>18th</th>\n",
       "      <td>Past</td>\n",
       "      <td>12Feb2021</td>\n",
       "      <td>23Feb2021</td>\n",
       "      <td>1321977</td>\n",
       "    </tr>\n",
       "  </tbody>\n",
       "</table>\n",
       "</div>"
      ],
      "text/plain": [
       "               Type      Start        End  Population\n",
       "Country Phase                                        \n",
       "Germany 0th    Past  03Feb2020  29Mar2020    82905782\n",
       "        1st    Past  30Mar2020  22Apr2020    82905782\n",
       "        2nd    Past  23Apr2020  18Aug2020    82905782\n",
       "        3rd    Past  19Aug2020  06Oct2020    82905782\n",
       "        4th    Past  07Oct2020  22Oct2020    82905782\n",
       "        5th    Past  23Oct2020  01Nov2020    82905782\n",
       "        6th    Past  02Nov2020  09Nov2020    82905782\n",
       "        7th    Past  10Nov2020  17Nov2020    82905782\n",
       "        8th    Past  18Nov2020  24Nov2020    82905782\n",
       "        9th    Past  25Nov2020  01Dec2020    82905782\n",
       "        10th   Past  02Dec2020  08Dec2020    82905782\n",
       "        11th   Past  09Dec2020  15Dec2020    82905782\n",
       "        12th   Past  16Dec2020  21Dec2020    82905782\n",
       "        13th   Past  22Dec2020  28Dec2020    82905782\n",
       "        14th   Past  29Dec2020  05Jan2021    82905782\n",
       "        15th   Past  06Jan2021  13Jan2021    82905782\n",
       "        16th   Past  14Jan2021  25Jan2021    82905782\n",
       "        17th   Past  26Jan2021  07Feb2021    82905782\n",
       "        18th   Past  08Feb2021  23Feb2021    82905782\n",
       "Estonia 0th    Past  15Mar2020  12Apr2020     1321977\n",
       "        1st    Past  13Apr2020  31Aug2020     1321977\n",
       "        2nd    Past  01Sep2020  29Sep2020     1321977\n",
       "        3rd    Past  30Sep2020  29Oct2020     1321977\n",
       "        4th    Past  30Oct2020  10Nov2020     1321977\n",
       "        5th    Past  11Nov2020  18Nov2020     1321977\n",
       "        6th    Past  19Nov2020  26Nov2020     1321977\n",
       "        7th    Past  27Nov2020  03Dec2020     1321977\n",
       "        8th    Past  04Dec2020  10Dec2020     1321977\n",
       "        9th    Past  11Dec2020  16Dec2020     1321977\n",
       "        10th   Past  17Dec2020  22Dec2020     1321977\n",
       "        11th   Past  23Dec2020  28Dec2020     1321977\n",
       "        12th   Past  29Dec2020  05Jan2021     1321977\n",
       "        13th   Past  06Jan2021  12Jan2021     1321977\n",
       "        14th   Past  13Jan2021  19Jan2021     1321977\n",
       "        15th   Past  20Jan2021  26Jan2021     1321977\n",
       "        16th   Past  27Jan2021  01Feb2021     1321977\n",
       "        17th   Past  02Feb2021  11Feb2021     1321977\n",
       "        18th   Past  12Feb2021  23Feb2021     1321977"
      ]
     },
     "execution_count": 1,
     "metadata": {},
     "output_type": "execute_result"
    }
   ],
   "source": [
    "# Here, only show the countries which have the most phases\n",
    "countries_show = max(phase_len_dict.items(), key=lambda x: x[0])[1]\n",
    "# Show summary\n",
    "analyser.summary(countries=countries_show)"
   ]
  },
  {
   "cell_type": "markdown",
   "metadata": {},
   "source": [
    "## Parameter estimation\n",
    "we will estimate the parameter values with SIR-derived ODE models in each country."
   ]
  },
  {
   "cell_type": "code",
   "execution_count": 11,
   "metadata": {
    "execution": {
     "iopub.execute_input": "2021-02-24T16:26:00.031936Z",
     "iopub.status.busy": "2021-02-24T16:26:00.031460Z",
     "iopub.status.idle": "2021-02-24T16:26:00.033314Z",
     "shell.execute_reply": "2021-02-24T16:26:00.033670Z"
    },
    "tags": []
   },
   "outputs": [],
   "source": [
    "# Parameter estimation with SIR-F model\n",
    "# Caution! This takes too much time.\n",
    "# analyser.estimate(cs.SIRF, timeout=60)"
   ]
  },
  {
   "cell_type": "code",
   "execution_count": 12,
   "metadata": {
    "execution": {
     "iopub.execute_input": "2021-02-24T16:26:00.036627Z",
     "iopub.status.busy": "2021-02-24T16:26:00.036149Z",
     "iopub.status.idle": "2021-02-24T16:26:00.037935Z",
     "shell.execute_reply": "2021-02-24T16:26:00.038305Z"
    }
   },
   "outputs": [],
   "source": [
    "# Show summary\n",
    "# analyser.summary(countries=countries_show)"
   ]
  },
  {
   "cell_type": "markdown",
   "metadata": {},
   "source": [
    "## Compare the history of parameters\n",
    "Here, compare the history of parameter values if countries."
   ]
  },
  {
   "cell_type": "code",
   "execution_count": 13,
   "metadata": {
    "execution": {
     "iopub.execute_input": "2021-02-24T16:26:00.041421Z",
     "iopub.status.busy": "2021-02-24T16:26:00.040895Z",
     "iopub.status.idle": "2021-02-24T16:26:00.042893Z",
     "shell.execute_reply": "2021-02-24T16:26:00.043366Z"
    }
   },
   "outputs": [],
   "source": [
    "# All parameter/day parameter/Rt/OxCGRT\n",
    "# analyser.track().head()"
   ]
  },
  {
   "cell_type": "markdown",
   "metadata": {},
   "source": [
    "### $Rt$: Reprodcution number $\\mathrm{[-]}$"
   ]
  },
  {
   "cell_type": "code",
   "execution_count": 14,
   "metadata": {
    "execution": {
     "iopub.execute_input": "2021-02-24T16:26:00.046542Z",
     "iopub.status.busy": "2021-02-24T16:26:00.046042Z",
     "iopub.status.idle": "2021-02-24T16:26:00.048421Z",
     "shell.execute_reply": "2021-02-24T16:26:00.047913Z"
    }
   },
   "outputs": [],
   "source": [
    "# analyser.history(\"Rt\", roll_window=None).tail()"
   ]
  },
  {
   "cell_type": "markdown",
   "metadata": {},
   "source": [
    "### $\\rho$: Effective contact rate $\\mathrm{[-]}$"
   ]
  },
  {
   "cell_type": "code",
   "execution_count": 15,
   "metadata": {
    "execution": {
     "iopub.execute_input": "2021-02-24T16:26:00.051544Z",
     "iopub.status.busy": "2021-02-24T16:26:00.051038Z",
     "iopub.status.idle": "2021-02-24T16:26:00.053269Z",
     "shell.execute_reply": "2021-02-24T16:26:00.052880Z"
    }
   },
   "outputs": [],
   "source": [
    "# analyser.history(\"rho\", roll_window=None).tail()"
   ]
  },
  {
   "cell_type": "markdown",
   "metadata": {},
   "source": [
    "### $\\sigma$: Recovery rate $\\mathrm{[-]}$"
   ]
  },
  {
   "cell_type": "code",
   "execution_count": 16,
   "metadata": {
    "execution": {
     "iopub.execute_input": "2021-02-24T16:26:00.056408Z",
     "iopub.status.busy": "2021-02-24T16:26:00.055937Z",
     "iopub.status.idle": "2021-02-24T16:26:00.057924Z",
     "shell.execute_reply": "2021-02-24T16:26:00.058457Z"
    }
   },
   "outputs": [],
   "source": [
    "# analyser.history(\"sigma\", roll_window=None).tail()"
   ]
  },
  {
   "cell_type": "markdown",
   "metadata": {},
   "source": [
    "### $\\kappa$: Mortality rate of infected cases $\\mathrm{[-]}$"
   ]
  },
  {
   "cell_type": "code",
   "execution_count": 17,
   "metadata": {
    "execution": {
     "iopub.execute_input": "2021-02-24T16:26:00.061626Z",
     "iopub.status.busy": "2021-02-24T16:26:00.061166Z",
     "iopub.status.idle": "2021-02-24T16:26:00.063341Z",
     "shell.execute_reply": "2021-02-24T16:26:00.062923Z"
    }
   },
   "outputs": [],
   "source": [
    "# analyser.history(\"kappa\", roll_window=None).tail()"
   ]
  },
  {
   "cell_type": "markdown",
   "metadata": {},
   "source": [
    "### $\\theta$: Mortality rate of S$^\\ast$ cases $\\mathrm{[-]}$"
   ]
  },
  {
   "cell_type": "code",
   "execution_count": 18,
   "metadata": {
    "execution": {
     "iopub.execute_input": "2021-02-24T16:26:00.066444Z",
     "iopub.status.busy": "2021-02-24T16:26:00.065947Z",
     "iopub.status.idle": "2021-02-24T16:26:00.068138Z",
     "shell.execute_reply": "2021-02-24T16:26:00.067629Z"
    }
   },
   "outputs": [],
   "source": [
    "# analyser.history(\"theta\", roll_window=None).tail()"
   ]
  },
  {
   "cell_type": "markdown",
   "metadata": {},
   "source": [
    "## (Experimental): Relationship of OxCGRT index and parameter values\n",
    "Government responses will impact on parameter values of ODE models about 14 days later. Here, we will investigate on the relationship of [stringency index (from OxCGRT)](https://github.com/OxCGRT/covid-policy-tracker/blob/master/documentation/index_methodology.md) and reproduction number/model parameters.\n"
   ]
  },
  {
   "cell_type": "code",
   "execution_count": 19,
   "metadata": {
    "execution": {
     "iopub.execute_input": "2021-02-24T16:26:00.073377Z",
     "iopub.status.busy": "2021-02-24T16:26:00.072889Z",
     "iopub.status.idle": "2021-02-24T16:26:00.076573Z",
     "shell.execute_reply": "2021-02-24T16:26:00.076041Z"
    }
   },
   "outputs": [],
   "source": [
    "%matplotlib inline\n",
    "from matplotlib import pyplot as plt\n",
    "import seaborn as sns\n",
    "import pandas as pd"
   ]
  },
  {
   "cell_type": "code",
   "execution_count": 20,
   "metadata": {
    "execution": {
     "iopub.execute_input": "2021-02-24T16:26:00.080156Z",
     "iopub.status.busy": "2021-02-24T16:26:00.079629Z",
     "iopub.status.idle": "2021-02-24T16:26:00.082023Z",
     "shell.execute_reply": "2021-02-24T16:26:00.081501Z"
    }
   },
   "outputs": [],
   "source": [
    "\"\"\"\n",
    "df = analyser.track()\n",
    "param_cols = [\"Rt\", *cs.SIRF.PARAMETERS]\n",
    "oxcgrt_cols = oxcgrt_data.OXCGRT_VARS[:]\n",
    "cols = param_cols + oxcgrt_cols\n",
    "delay = 14\n",
    "\n",
    "for col in param_cols:\n",
    "    df[col] = pd.to_numeric(df[col], errors=\"coerce\")\n",
    "    df[col] = df.groupby(\"Country\")[col].shift(0 - delay)\n",
    "\n",
    "df = df.dropna(how=\"any\")\n",
    "df = df.loc[:, [\"Date\", \"Country\", *cols]]\n",
    "track_df = df.copy()\n",
    "track_df.info()\n",
    "\"\"\"\n",
    "None"
   ]
  },
  {
   "cell_type": "code",
   "execution_count": 21,
   "metadata": {
    "execution": {
     "iopub.execute_input": "2021-02-24T16:26:00.084998Z",
     "iopub.status.busy": "2021-02-24T16:26:00.084523Z",
     "iopub.status.idle": "2021-02-24T16:26:00.086943Z",
     "shell.execute_reply": "2021-02-24T16:26:00.086424Z"
    }
   },
   "outputs": [],
   "source": [
    "# Correlation\n",
    "# df = track_df.copy()\n",
    "# df.corr().style.background_gradient(axis=None)"
   ]
  },
  {
   "cell_type": "code",
   "execution_count": 22,
   "metadata": {
    "execution": {
     "iopub.execute_input": "2021-02-24T16:26:00.090327Z",
     "iopub.status.busy": "2021-02-24T16:26:00.089822Z",
     "iopub.status.idle": "2021-02-24T16:26:00.092179Z",
     "shell.execute_reply": "2021-02-24T16:26:00.091743Z"
    }
   },
   "outputs": [],
   "source": [
    "\"\"\"\n",
    "# Scatter plot of Stringency index and Rt\n",
    "df = track_df.copy()\n",
    "sns.scatterplot(data=df, x=\"Stringency_index\", y=\"Rt\", hue=\"Country\", legend=\"brief\", marker=\"+\")\n",
    "bbox_to_anchor=(1.02, 0)\n",
    "bbox_loc=\"lower left\"\n",
    "plt.legend(bbox_to_anchor=bbox_to_anchor, loc=bbox_loc, borderaxespad=0)\n",
    "plt.title(\"Relationship of Stringency index and reproduction number\")\n",
    "plt.ylabel(\"Reproduction number\")\n",
    "plt.xlabel(\"Stringency index\")\n",
    "plt.show()\n",
    "\"\"\"\n",
    "None"
   ]
  }
 ],
 "metadata": {
  "kernelspec": {
   "display_name": "Python 3.9.1 64-bit ('.venv')",
   "metadata": {
    "interpreter": {
     "hash": "aa53c8c6e6798222a2084c11cc25017700a8d3ad495b587e3a634f357767115f"
    }
   },
   "name": "python3"
  },
  "language_info": {
   "codemirror_mode": {
    "name": "ipython",
    "version": 3
   },
   "file_extension": ".py",
   "mimetype": "text/x-python",
   "name": "python",
   "nbconvert_exporter": "python",
   "pygments_lexer": "ipython3",
   "version": "3.9.1"
  }
 },
 "nbformat": 4,
 "nbformat_minor": 2
}
