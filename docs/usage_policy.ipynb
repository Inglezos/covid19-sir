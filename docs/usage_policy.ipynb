{
 "cells": [
  {
   "cell_type": "markdown",
   "metadata": {},
   "source": [
    "# Usage: policy measures\n",
    "Here, we will analyse the relationship of policy measures and parameter values of SIR-derived ODE models. Policy measures are tracked by [Oxford Covid-19 Government Response Tracker (OxCGRT)](https://github.com/OxCGRT/covid-policy-tracker)."
   ]
  },
  {
   "cell_type": "markdown",
   "metadata": {},
   "source": [
    "## Preparation"
   ]
  },
  {
   "cell_type": "code",
   "execution_count": 1,
   "metadata": {
    "collapsed": false
   },
   "outputs": [],
   "source": [
    "# Standard users\n",
    "# !pip install covsirphy\n",
    "# Developers (Note: this notebook is in example directory)\n",
    "import os\n",
    "os.chdir(\"../\")"
   ]
  },
  {
   "cell_type": "code",
   "execution_count": 2,
   "metadata": {
    "collapsed": false
   },
   "outputs": [],
   "source": [
    "from pprint import pprint"
   ]
  },
  {
   "cell_type": "code",
   "execution_count": 3,
   "metadata": {
    "collapsed": false
   },
   "outputs": [
    {
     "data": {
      "text/plain": [
       "'2.13.3-theta-fu1.new.56.420.422.429.449.fix.438.441.450'"
      ]
     },
     "execution_count": 3,
     "metadata": {},
     "output_type": "execute_result"
    }
   ],
   "source": [
    "import covsirphy as cs\n",
    "cs.__version__"
   ]
  },
  {
   "cell_type": "code",
   "execution_count": 4,
   "metadata": {
    "collapsed": false,
    "tags": []
   },
   "outputs": [
    {
     "name": "stdout",
     "output_type": "stream",
     "text": [
      "(Secondary source) Guidotti, E., Ardia, D., (2020), \"COVID-19 Data Hub\", Journal of Open Source Software 5(51):2376, doi: 10.21105/joss.02376.\n"
     ]
    }
   ],
   "source": [
    "# Standard users and developers\n",
    "data_loader = cs.DataLoader(\"input\")\n",
    "# The number of cases (JHU style)\n",
    "jhu_data = data_loader.jhu(verbose=False)\n",
    "# Population in each country\n",
    "population_data = data_loader.population(verbose=False)\n",
    "# Government Response Tracker (OxCGRT)\n",
    "oxcgrt_data = data_loader.oxcgrt(verbose=False)\n",
    "# Description/citation\n",
    "print(oxcgrt_data.citation)"
   ]
  },
  {
   "cell_type": "markdown",
   "metadata": {},
   "source": [
    "## Class for policy measure analysis\n",
    "We will `PolicyMeasures` class to find relationship of policy measures and parameter values of SIR-derived ODE models."
   ]
  },
  {
   "cell_type": "code",
   "execution_count": 5,
   "metadata": {
    "collapsed": false,
    "tags": []
   },
   "outputs": [
    {
     "data": {
      "text/plain": [
       "196"
      ]
     },
     "execution_count": 5,
     "metadata": {},
     "output_type": "execute_result"
    }
   ],
   "source": [
    "# Create analyser with tau value 360 [min] (can be changed)\n",
    "analyser = cs.PolicyMeasures(jhu_data, population_data, oxcgrt_data, tau=360)\n",
    "# The number of registerd countries\n",
    "len(analyser.countries)"
   ]
  },
  {
   "cell_type": "code",
   "execution_count": 6,
   "metadata": {
    "collapsed": false
   },
   "outputs": [
    {
     "data": {
      "text/plain": [
       "covsirphy.analysis.scenario.Scenario"
      ]
     },
     "execution_count": 6,
     "metadata": {},
     "output_type": "execute_result"
    }
   ],
   "source": [
    "# We can get Scenario instance for detailed scenario analysis\n",
    "type(analyser.scenario(\"Japan\"))"
   ]
  },
  {
   "cell_type": "markdown",
   "metadata": {},
   "source": [
    "## Set phases with S-R trend analysis\n",
    "We will perform S-R trend analysis to set phases in all countries. Countries which do not have **17th phases** will be un-registered for the next analysis. This number will be adjusted for your analysis."
   ]
  },
  {
   "cell_type": "code",
   "execution_count": 7,
   "metadata": {
    "collapsed": false
   },
   "outputs": [
    {
     "name": "stdout",
     "output_type": "stream",
     "text": [
      "{2: ['Laos', 'Holy See', 'Solomon Islands', 'Timor-Leste'],\n",
      " 3: ['Saint Kitts and Nevis'],\n",
      " 4: ['Brunei', 'Fiji', 'Tanzania', 'Dominica'],\n",
      " 5: ['Saint Lucia', 'Equatorial Guinea', 'Grenada'],\n",
      " 6: ['Mauritius', 'Antigua and Barbuda', 'Cambodia'],\n",
      " 7: ['Saint Vincent and the Grenadines'],\n",
      " 8: ['Kyrgyzstan', 'Madagascar', 'Barbados', 'Northern Mariana Islands',\n",
      "     'Bahamas', 'Seychelles', 'Trinidad and Tobago'],\n",
      " 9: ['Liechtenstein', 'Bolivia', 'Australia', 'Oman', 'Ghana', 'Vietnam',\n",
      "     'Gambia', 'Jamaica', 'Sao Tome and Principe', 'Monaco', 'Uzbekistan',\n",
      "     'Malawi', 'Philippines'],\n",
      " 10: ['Bhutan', 'Eritrea', 'Benin', 'Maldives', 'Guyana', 'South Africa',\n",
      "      'Singapore', 'Burundi', 'Bermuda', 'Lesotho', 'Papua New Guinea',\n",
      "      'Angola', 'Guam', 'Djibouti', 'Cape Verde', 'Chile', 'Libya', 'Venezuela',\n",
      "      'El Salvador', 'Zambia', 'Iceland', 'Republic of the Congo', 'Namibia',\n",
      "      'Senegal', 'Ethiopia', 'Suriname', 'Kazakhstan', 'Guatemala', 'Zimbabwe',\n",
      "      'Botswana', 'Kuwait', 'Honduras', 'Kenya', 'India', 'Andorra', 'Iraq',\n",
      "      'Mozambique', 'Virgin Islands, U.S.', 'Bahrain', 'Mongolia'],\n",
      " 11: ['Saudi Arabia', 'Brazil', 'Algeria', 'Ecuador', 'Yemen', 'Bangladesh',\n",
      "      'Swaziland', 'New Zealand', 'Pakistan', 'Gabon', 'Peru', 'Comoros',\n",
      "      'Paraguay', 'Liberia', 'Rwanda', 'Syria', 'Costa Rica', 'Belize',\n",
      "      'Argentina', 'Taiwan', 'Dominican Republic', 'Mexico', \"Cote d'Ivoire\",\n",
      "      'Nicaragua', 'Colombia', 'Israel'],\n",
      " 12: ['South Sudan', 'Togo', 'Niger', 'Kosovo', 'Guinea', 'Burkina Faso',\n",
      "      'Montenegro', 'Sudan', 'Latvia', 'Nigeria', 'Georgia', 'Guinea-Bissau',\n",
      "      'Puerto Rico', 'Egypt', 'Slovenia', 'Central African Republic', 'Panama',\n",
      "      'Jordan', 'Uganda', 'Cameroon', 'Nepal',\n",
      "      'Democratic Republic of the Congo', 'Sierra Leone', 'Somalia'],\n",
      " 13: ['China', 'Myanmar', 'Afghanistan', 'Armenia', 'Moldova', 'Morocco',\n",
      "      'Qatar', 'Malta', 'Azerbaijan', 'San Marino', 'Mali',\n",
      "      'United Arab Emirates', 'Tajikistan', 'Indonesia', 'Japan', 'Croatia',\n",
      "      'Chad', 'Palestine', 'Cuba', 'Serbia'],\n",
      " 14: ['Tunisia', 'Lithuania', 'Sri Lanka', 'Spain', 'Slovakia', 'Russia',\n",
      "      'Haiti', 'Belarus', 'United States', 'Hungary', 'Ireland', 'Iran',\n",
      "      'Bosnia and Herzegovina'],\n",
      " 15: ['Albania', 'Turkey', 'Mauritania', 'Estonia', 'Thailand', 'Greece',\n",
      "      'Ukraine', 'Malaysia', 'North Macedonia', 'Sweden', 'Bulgaria',\n",
      "      'Luxembourg', 'Italy', 'Cyprus', 'Lebanon', 'Belgium', 'France',\n",
      "      'Uruguay'],\n",
      " 16: ['Czech Republic', 'Austria', 'Canada', 'Denmark', 'Romania', 'Poland',\n",
      "      'Netherlands', 'Switzerland'],\n",
      " 17: ['Finland', 'Norway', 'United Kingdom'],\n",
      " 18: ['Germany', 'Portugal']}\n"
     ]
    }
   ],
   "source": [
    "# Show the number of phases of all countries\n",
    "analyser.trend()\n",
    "pprint(analyser.phase_len(), compact=True)"
   ]
  },
  {
   "cell_type": "code",
   "execution_count": 8,
   "metadata": {
    "collapsed": false
   },
   "outputs": [
    {
     "data": {
      "text/plain": [
       "5"
      ]
     },
     "execution_count": 8,
     "metadata": {},
     "output_type": "execute_result"
    }
   ],
   "source": [
    "# Set phases with S-R trend analysis\n",
    "analyser.trend(min_len=17)\n",
    "# The number of countries\n",
    "len(analyser.countries)"
   ]
  },
  {
   "cell_type": "code",
   "execution_count": 9,
   "metadata": {
    "collapsed": false,
    "tags": []
   },
   "outputs": [
    {
     "name": "stdout",
     "output_type": "stream",
     "text": [
      "{17: ['Finland', 'Norway', 'United Kingdom'], 18: ['Germany', 'Portugal']}\n"
     ]
    }
   ],
   "source": [
    "phase_len_dict = analyser.phase_len()\n",
    "pprint(phase_len_dict, compact=True)"
   ]
  },
  {
   "cell_type": "code",
   "execution_count": 10,
   "metadata": {
    "collapsed": false,
    "tags": []
   },
   "outputs": [
    {
     "data": {
      "text/html": [
       "<div>\n",
       "<style scoped>\n",
       "    .dataframe tbody tr th:only-of-type {\n",
       "        vertical-align: middle;\n",
       "    }\n",
       "\n",
       "    .dataframe tbody tr th {\n",
       "        vertical-align: top;\n",
       "    }\n",
       "\n",
       "    .dataframe thead th {\n",
       "        text-align: right;\n",
       "    }\n",
       "</style>\n",
       "<table border=\"1\" class=\"dataframe\">\n",
       "  <thead>\n",
       "    <tr style=\"text-align: right;\">\n",
       "      <th></th>\n",
       "      <th></th>\n",
       "      <th>Type</th>\n",
       "      <th>Start</th>\n",
       "      <th>End</th>\n",
       "      <th>Population</th>\n",
       "    </tr>\n",
       "    <tr>\n",
       "      <th>Country</th>\n",
       "      <th>Phase</th>\n",
       "      <th></th>\n",
       "      <th></th>\n",
       "      <th></th>\n",
       "      <th></th>\n",
       "    </tr>\n",
       "  </thead>\n",
       "  <tbody>\n",
       "    <tr>\n",
       "      <th rowspan=\"18\" valign=\"top\">Germany</th>\n",
       "      <th>0th</th>\n",
       "      <td>Past</td>\n",
       "      <td>19Jan2020</td>\n",
       "      <td>23Mar2020</td>\n",
       "      <td>82905782</td>\n",
       "    </tr>\n",
       "    <tr>\n",
       "      <th>1st</th>\n",
       "      <td>Past</td>\n",
       "      <td>24Mar2020</td>\n",
       "      <td>04Apr2020</td>\n",
       "      <td>82905782</td>\n",
       "    </tr>\n",
       "    <tr>\n",
       "      <th>2nd</th>\n",
       "      <td>Past</td>\n",
       "      <td>05Apr2020</td>\n",
       "      <td>21Apr2020</td>\n",
       "      <td>82905782</td>\n",
       "    </tr>\n",
       "    <tr>\n",
       "      <th>3rd</th>\n",
       "      <td>Past</td>\n",
       "      <td>22Apr2020</td>\n",
       "      <td>17Jun2020</td>\n",
       "      <td>82905782</td>\n",
       "    </tr>\n",
       "    <tr>\n",
       "      <th>4th</th>\n",
       "      <td>Past</td>\n",
       "      <td>18Jun2020</td>\n",
       "      <td>15Aug2020</td>\n",
       "      <td>82905782</td>\n",
       "    </tr>\n",
       "    <tr>\n",
       "      <th>5th</th>\n",
       "      <td>Past</td>\n",
       "      <td>16Aug2020</td>\n",
       "      <td>16Sep2020</td>\n",
       "      <td>82905782</td>\n",
       "    </tr>\n",
       "    <tr>\n",
       "      <th>6th</th>\n",
       "      <td>Past</td>\n",
       "      <td>17Sep2020</td>\n",
       "      <td>08Oct2020</td>\n",
       "      <td>82905782</td>\n",
       "    </tr>\n",
       "    <tr>\n",
       "      <th>7th</th>\n",
       "      <td>Past</td>\n",
       "      <td>09Oct2020</td>\n",
       "      <td>20Oct2020</td>\n",
       "      <td>82905782</td>\n",
       "    </tr>\n",
       "    <tr>\n",
       "      <th>8th</th>\n",
       "      <td>Past</td>\n",
       "      <td>21Oct2020</td>\n",
       "      <td>27Oct2020</td>\n",
       "      <td>82905782</td>\n",
       "    </tr>\n",
       "    <tr>\n",
       "      <th>9th</th>\n",
       "      <td>Past</td>\n",
       "      <td>28Oct2020</td>\n",
       "      <td>03Nov2020</td>\n",
       "      <td>82905782</td>\n",
       "    </tr>\n",
       "    <tr>\n",
       "      <th>10th</th>\n",
       "      <td>Past</td>\n",
       "      <td>04Nov2020</td>\n",
       "      <td>10Nov2020</td>\n",
       "      <td>82905782</td>\n",
       "    </tr>\n",
       "    <tr>\n",
       "      <th>11th</th>\n",
       "      <td>Past</td>\n",
       "      <td>11Nov2020</td>\n",
       "      <td>17Nov2020</td>\n",
       "      <td>82905782</td>\n",
       "    </tr>\n",
       "    <tr>\n",
       "      <th>12th</th>\n",
       "      <td>Past</td>\n",
       "      <td>18Nov2020</td>\n",
       "      <td>24Nov2020</td>\n",
       "      <td>82905782</td>\n",
       "    </tr>\n",
       "    <tr>\n",
       "      <th>13th</th>\n",
       "      <td>Past</td>\n",
       "      <td>25Nov2020</td>\n",
       "      <td>01Dec2020</td>\n",
       "      <td>82905782</td>\n",
       "    </tr>\n",
       "    <tr>\n",
       "      <th>14th</th>\n",
       "      <td>Past</td>\n",
       "      <td>02Dec2020</td>\n",
       "      <td>08Dec2020</td>\n",
       "      <td>82905782</td>\n",
       "    </tr>\n",
       "    <tr>\n",
       "      <th>15th</th>\n",
       "      <td>Past</td>\n",
       "      <td>09Dec2020</td>\n",
       "      <td>14Dec2020</td>\n",
       "      <td>82905782</td>\n",
       "    </tr>\n",
       "    <tr>\n",
       "      <th>16th</th>\n",
       "      <td>Past</td>\n",
       "      <td>15Dec2020</td>\n",
       "      <td>20Dec2020</td>\n",
       "      <td>82905782</td>\n",
       "    </tr>\n",
       "    <tr>\n",
       "      <th>17th</th>\n",
       "      <td>Past</td>\n",
       "      <td>21Dec2020</td>\n",
       "      <td>28Dec2020</td>\n",
       "      <td>82905782</td>\n",
       "    </tr>\n",
       "    <tr>\n",
       "      <th rowspan=\"18\" valign=\"top\">Portugal</th>\n",
       "      <th>0th</th>\n",
       "      <td>Past</td>\n",
       "      <td>14Mar2020</td>\n",
       "      <td>03Apr2020</td>\n",
       "      <td>10283822</td>\n",
       "    </tr>\n",
       "    <tr>\n",
       "      <th>1st</th>\n",
       "      <td>Past</td>\n",
       "      <td>04Apr2020</td>\n",
       "      <td>22Apr2020</td>\n",
       "      <td>10283822</td>\n",
       "    </tr>\n",
       "    <tr>\n",
       "      <th>2nd</th>\n",
       "      <td>Past</td>\n",
       "      <td>23Apr2020</td>\n",
       "      <td>01Jun2020</td>\n",
       "      <td>10283822</td>\n",
       "    </tr>\n",
       "    <tr>\n",
       "      <th>3rd</th>\n",
       "      <td>Past</td>\n",
       "      <td>02Jun2020</td>\n",
       "      <td>02Jul2020</td>\n",
       "      <td>10283822</td>\n",
       "    </tr>\n",
       "    <tr>\n",
       "      <th>4th</th>\n",
       "      <td>Past</td>\n",
       "      <td>03Jul2020</td>\n",
       "      <td>11Aug2020</td>\n",
       "      <td>10283822</td>\n",
       "    </tr>\n",
       "    <tr>\n",
       "      <th>5th</th>\n",
       "      <td>Past</td>\n",
       "      <td>12Aug2020</td>\n",
       "      <td>11Sep2020</td>\n",
       "      <td>10283822</td>\n",
       "    </tr>\n",
       "    <tr>\n",
       "      <th>6th</th>\n",
       "      <td>Past</td>\n",
       "      <td>12Sep2020</td>\n",
       "      <td>30Sep2020</td>\n",
       "      <td>10283822</td>\n",
       "    </tr>\n",
       "    <tr>\n",
       "      <th>7th</th>\n",
       "      <td>Past</td>\n",
       "      <td>01Oct2020</td>\n",
       "      <td>13Oct2020</td>\n",
       "      <td>10283822</td>\n",
       "    </tr>\n",
       "    <tr>\n",
       "      <th>8th</th>\n",
       "      <td>Past</td>\n",
       "      <td>14Oct2020</td>\n",
       "      <td>21Oct2020</td>\n",
       "      <td>10283822</td>\n",
       "    </tr>\n",
       "    <tr>\n",
       "      <th>9th</th>\n",
       "      <td>Past</td>\n",
       "      <td>22Oct2020</td>\n",
       "      <td>28Oct2020</td>\n",
       "      <td>10283822</td>\n",
       "    </tr>\n",
       "    <tr>\n",
       "      <th>10th</th>\n",
       "      <td>Past</td>\n",
       "      <td>29Oct2020</td>\n",
       "      <td>04Nov2020</td>\n",
       "      <td>10283822</td>\n",
       "    </tr>\n",
       "    <tr>\n",
       "      <th>11th</th>\n",
       "      <td>Past</td>\n",
       "      <td>05Nov2020</td>\n",
       "      <td>14Nov2020</td>\n",
       "      <td>10283822</td>\n",
       "    </tr>\n",
       "    <tr>\n",
       "      <th>12th</th>\n",
       "      <td>Past</td>\n",
       "      <td>15Nov2020</td>\n",
       "      <td>25Nov2020</td>\n",
       "      <td>10283822</td>\n",
       "    </tr>\n",
       "    <tr>\n",
       "      <th>13th</th>\n",
       "      <td>Past</td>\n",
       "      <td>26Nov2020</td>\n",
       "      <td>02Dec2020</td>\n",
       "      <td>10283822</td>\n",
       "    </tr>\n",
       "    <tr>\n",
       "      <th>14th</th>\n",
       "      <td>Past</td>\n",
       "      <td>03Dec2020</td>\n",
       "      <td>09Dec2020</td>\n",
       "      <td>10283822</td>\n",
       "    </tr>\n",
       "    <tr>\n",
       "      <th>15th</th>\n",
       "      <td>Past</td>\n",
       "      <td>10Dec2020</td>\n",
       "      <td>15Dec2020</td>\n",
       "      <td>10283822</td>\n",
       "    </tr>\n",
       "    <tr>\n",
       "      <th>16th</th>\n",
       "      <td>Past</td>\n",
       "      <td>16Dec2020</td>\n",
       "      <td>21Dec2020</td>\n",
       "      <td>10283822</td>\n",
       "    </tr>\n",
       "    <tr>\n",
       "      <th>17th</th>\n",
       "      <td>Past</td>\n",
       "      <td>22Dec2020</td>\n",
       "      <td>28Dec2020</td>\n",
       "      <td>10283822</td>\n",
       "    </tr>\n",
       "  </tbody>\n",
       "</table>\n",
       "</div>"
      ],
      "text/plain": [
       "                Type      Start        End  Population\n",
       "Country  Phase                                        \n",
       "Germany  0th    Past  19Jan2020  23Mar2020    82905782\n",
       "         1st    Past  24Mar2020  04Apr2020    82905782\n",
       "         2nd    Past  05Apr2020  21Apr2020    82905782\n",
       "         3rd    Past  22Apr2020  17Jun2020    82905782\n",
       "         4th    Past  18Jun2020  15Aug2020    82905782\n",
       "         5th    Past  16Aug2020  16Sep2020    82905782\n",
       "         6th    Past  17Sep2020  08Oct2020    82905782\n",
       "         7th    Past  09Oct2020  20Oct2020    82905782\n",
       "         8th    Past  21Oct2020  27Oct2020    82905782\n",
       "         9th    Past  28Oct2020  03Nov2020    82905782\n",
       "         10th   Past  04Nov2020  10Nov2020    82905782\n",
       "         11th   Past  11Nov2020  17Nov2020    82905782\n",
       "         12th   Past  18Nov2020  24Nov2020    82905782\n",
       "         13th   Past  25Nov2020  01Dec2020    82905782\n",
       "         14th   Past  02Dec2020  08Dec2020    82905782\n",
       "         15th   Past  09Dec2020  14Dec2020    82905782\n",
       "         16th   Past  15Dec2020  20Dec2020    82905782\n",
       "         17th   Past  21Dec2020  28Dec2020    82905782\n",
       "Portugal 0th    Past  14Mar2020  03Apr2020    10283822\n",
       "         1st    Past  04Apr2020  22Apr2020    10283822\n",
       "         2nd    Past  23Apr2020  01Jun2020    10283822\n",
       "         3rd    Past  02Jun2020  02Jul2020    10283822\n",
       "         4th    Past  03Jul2020  11Aug2020    10283822\n",
       "         5th    Past  12Aug2020  11Sep2020    10283822\n",
       "         6th    Past  12Sep2020  30Sep2020    10283822\n",
       "         7th    Past  01Oct2020  13Oct2020    10283822\n",
       "         8th    Past  14Oct2020  21Oct2020    10283822\n",
       "         9th    Past  22Oct2020  28Oct2020    10283822\n",
       "         10th   Past  29Oct2020  04Nov2020    10283822\n",
       "         11th   Past  05Nov2020  14Nov2020    10283822\n",
       "         12th   Past  15Nov2020  25Nov2020    10283822\n",
       "         13th   Past  26Nov2020  02Dec2020    10283822\n",
       "         14th   Past  03Dec2020  09Dec2020    10283822\n",
       "         15th   Past  10Dec2020  15Dec2020    10283822\n",
       "         16th   Past  16Dec2020  21Dec2020    10283822\n",
       "         17th   Past  22Dec2020  28Dec2020    10283822"
      ]
     },
     "execution_count": 10,
     "metadata": {},
     "output_type": "execute_result"
    }
   ],
   "source": [
    "# Here, only show the countries which have the most phases\n",
    "countries_show = max(phase_len_dict.items(), key=lambda x: x[0])[1]\n",
    "# Show summary\n",
    "analyser.summary(countries=countries_show)"
   ]
  },
  {
   "cell_type": "markdown",
   "metadata": {},
   "source": [
    "## Parameter estimation\n",
    "we will estimate the parameter values with SIR-derived ODE models in each country."
   ]
  },
  {
   "cell_type": "code",
   "execution_count": 11,
   "metadata": {
    "collapsed": false,
    "tags": []
   },
   "outputs": [
    {
     "name": "stdout",
     "output_type": "stream",
     "text": [
      "\n",
      "<SIR-F model: parameter estimation>\n",
      "Running optimization with 4 CPUs...\n"
     ]
    },
    {
     "name": "stdout",
     "output_type": "stream",
     "text": [
      "\tNOR,  8th phase (21Oct2020 - 28Oct2020): finished  233 trials in 0 min 10 sec"
     ]
    },
    {
     "name": "stdout",
     "output_type": "stream",
     "text": [
      "\n"
     ]
    },
    {
     "name": "stdout",
     "output_type": "stream",
     "text": [
      "\tPRT, 13th phase (26Nov2020 - 02Dec2020): finished  225 trials in 0 min 10 sec"
     ]
    },
    {
     "name": "stdout",
     "output_type": "stream",
     "text": [
      "\n"
     ]
    },
    {
     "name": "stdout",
     "output_type": "stream",
     "text": [
      "\tGBR,  5th phase (17Sep2020 - 02Oct2020): finished  228 trials in 0 min 10 sec"
     ]
    },
    {
     "name": "stdout",
     "output_type": "stream",
     "text": [
      "\n"
     ]
    },
    {
     "name": "stdout",
     "output_type": "stream",
     "text": [
      "\tPRT,  4th phase (03Jul2020 - 11Aug2020): finished  212 trials in 0 min 10 sec"
     ]
    },
    {
     "name": "stdout",
     "output_type": "stream",
     "text": [
      "\n"
     ]
    },
    {
     "name": "stdout",
     "output_type": "stream",
     "text": [
      "\tNOR,  4th phase (06Aug2020 - 02Sep2020): finished  229 trials in 0 min 10 sec"
     ]
    },
    {
     "name": "stdout",
     "output_type": "stream",
     "text": [
      "\n"
     ]
    },
    {
     "name": "stdout",
     "output_type": "stream",
     "text": [
      "\tFIN,  0th phase (17Mar2020 - 04Apr2020): finished  219 trials in 0 min 10 sec"
     ]
    },
    {
     "name": "stdout",
     "output_type": "stream",
     "text": [
      "\n"
     ]
    },
    {
     "name": "stdout",
     "output_type": "stream",
     "text": [
      "\tDEU,  0th phase (19Jan2020 - 23Mar2020): finished  212 trials in 0 min 10 sec"
     ]
    },
    {
     "name": "stdout",
     "output_type": "stream",
     "text": [
      "\n"
     ]
    },
    {
     "name": "stdout",
     "output_type": "stream",
     "text": [
      "\tPRT,  9th phase (22Oct2020 - 28Oct2020): finished  234 trials in 0 min 10 sec"
     ]
    },
    {
     "name": "stdout",
     "output_type": "stream",
     "text": [
      "\n"
     ]
    },
    {
     "name": "stdout",
     "output_type": "stream",
     "text": [
      "\tFIN, 16th phase (21Dec2020 - 28Dec2020): finished  219 trials in 0 min 10 sec"
     ]
    },
    {
     "name": "stdout",
     "output_type": "stream",
     "text": [
      "\n"
     ]
    },
    {
     "name": "stdout",
     "output_type": "stream",
     "text": [
      "\tFIN, 14th phase (09Dec2020 - 14Dec2020): finished  209 trials in 0 min 10 sec"
     ]
    },
    {
     "name": "stdout",
     "output_type": "stream",
     "text": [
      "\n"
     ]
    },
    {
     "name": "stdout",
     "output_type": "stream",
     "text": [
      "\tPRT,  6th phase (12Sep2020 - 30Sep2020): finished  207 trials in 0 min 10 sec"
     ]
    },
    {
     "name": "stdout",
     "output_type": "stream",
     "text": [
      "\n"
     ]
    },
    {
     "name": "stdout",
     "output_type": "stream",
     "text": [
      "\tGBR,  6th phase (03Oct2020 - 12Oct2020): finished  214 trials in 0 min 10 sec"
     ]
    },
    {
     "name": "stdout",
     "output_type": "stream",
     "text": [
      "\n"
     ]
    },
    {
     "name": "stdout",
     "output_type": "stream",
     "text": [
      "\tDEU, 11th phase (11Nov2020 - 17Nov2020): finished  229 trials in 0 min 10 sec"
     ]
    },
    {
     "name": "stdout",
     "output_type": "stream",
     "text": [
      "\n"
     ]
    },
    {
     "name": "stdout",
     "output_type": "stream",
     "text": [
      "\tNOR,  7th phase (06Oct2020 - 20Oct2020): finished  235 trials in 0 min 10 sec"
     ]
    },
    {
     "name": "stdout",
     "output_type": "stream",
     "text": [
      "\n"
     ]
    },
    {
     "name": "stdout",
     "output_type": "stream",
     "text": [
      "\tDEU,  4th phase (18Jun2020 - 15Aug2020): finished  209 trials in 0 min 10 sec"
     ]
    },
    {
     "name": "stdout",
     "output_type": "stream",
     "text": [
      "\n"
     ]
    },
    {
     "name": "stdout",
     "output_type": "stream",
     "text": [
      "\tGBR, 15th phase (11Dec2020 - 16Dec2020): finished  230 trials in 0 min 10 sec"
     ]
    },
    {
     "name": "stdout",
     "output_type": "stream",
     "text": [
      "\n"
     ]
    },
    {
     "name": "stdout",
     "output_type": "stream",
     "text": [
      "\tDEU,  6th phase (17Sep2020 - 08Oct2020): finished  231 trials in 0 min 10 sec"
     ]
    },
    {
     "name": "stdout",
     "output_type": "stream",
     "text": [
      "\n"
     ]
    },
    {
     "name": "stdout",
     "output_type": "stream",
     "text": [
      "\tDEU,  3rd phase (22Apr2020 - 17Jun2020): finished  203 trials in 0 min 10 sec"
     ]
    },
    {
     "name": "stdout",
     "output_type": "stream",
     "text": [
      "\n"
     ]
    },
    {
     "name": "stdout",
     "output_type": "stream",
     "text": [
      "\tDEU,  9th phase (28Oct2020 - 03Nov2020): finished  233 trials in 0 min 10 sec"
     ]
    },
    {
     "name": "stdout",
     "output_type": "stream",
     "text": [
      "\n"
     ]
    },
    {
     "name": "stdout",
     "output_type": "stream",
     "text": [
      "\tDEU,  1st phase (24Mar2020 - 04Apr2020): finished  219 trials in 0 min 10 sec"
     ]
    },
    {
     "name": "stdout",
     "output_type": "stream",
     "text": [
      "\n"
     ]
    },
    {
     "name": "stdout",
     "output_type": "stream",
     "text": [
      "\tPRT, 10th phase (29Oct2020 - 04Nov2020): finished  214 trials in 0 min 10 sec"
     ]
    },
    {
     "name": "stdout",
     "output_type": "stream",
     "text": [
      "\n"
     ]
    },
    {
     "name": "stdout",
     "output_type": "stream",
     "text": [
      "\tPRT,  5th phase (12Aug2020 - 11Sep2020): finished  218 trials in 0 min 10 sec"
     ]
    },
    {
     "name": "stdout",
     "output_type": "stream",
     "text": [
      "\n"
     ]
    },
    {
     "name": "stdout",
     "output_type": "stream",
     "text": [
      "\tFIN, 13th phase (02Dec2020 - 08Dec2020): finished  224 trials in 0 min 10 sec"
     ]
    },
    {
     "name": "stdout",
     "output_type": "stream",
     "text": [
      "\n"
     ]
    },
    {
     "name": "stdout",
     "output_type": "stream",
     "text": [
      "\tPRT,  7th phase (01Oct2020 - 13Oct2020): finished  233 trials in 0 min 10 sec"
     ]
    },
    {
     "name": "stdout",
     "output_type": "stream",
     "text": [
      "\n"
     ]
    },
    {
     "name": "stdout",
     "output_type": "stream",
     "text": [
      "\tFIN,  5th phase (21Aug2020 - 22Sep2020): finished  222 trials in 0 min 10 sec"
     ]
    },
    {
     "name": "stdout",
     "output_type": "stream",
     "text": [
      "\n"
     ]
    },
    {
     "name": "stdout",
     "output_type": "stream",
     "text": [
      "\tGBR,  1st phase (10Apr2020 - 30Apr2020): finished  212 trials in 0 min 10 sec"
     ]
    },
    {
     "name": "stdout",
     "output_type": "stream",
     "text": [
      "\n"
     ]
    },
    {
     "name": "stdout",
     "output_type": "stream",
     "text": [
      "\tNOR,  2nd phase (06Apr2020 - 02May2020): finished  217 trials in 0 min 10 sec"
     ]
    },
    {
     "name": "stdout",
     "output_type": "stream",
     "text": [
      "\n"
     ]
    },
    {
     "name": "stdout",
     "output_type": "stream",
     "text": [
      "\tPRT, 12th phase (15Nov2020 - 25Nov2020): finished  233 trials in 0 min 10 sec"
     ]
    },
    {
     "name": "stdout",
     "output_type": "stream",
     "text": [
      "\n"
     ]
    },
    {
     "name": "stdout",
     "output_type": "stream",
     "text": [
      "\tFIN,  9th phase (29Oct2020 - 08Nov2020): finished  218 trials in 0 min 10 sec"
     ]
    },
    {
     "name": "stdout",
     "output_type": "stream",
     "text": [
      "\n"
     ]
    },
    {
     "name": "stdout",
     "output_type": "stream",
     "text": [
      "\tNOR, 12th phase (23Nov2020 - 29Nov2020): finished  241 trials in 0 min 10 sec"
     ]
    },
    {
     "name": "stdout",
     "output_type": "stream",
     "text": [
      "\n"
     ]
    },
    {
     "name": "stdout",
     "output_type": "stream",
     "text": [
      "\tDEU, 10th phase (04Nov2020 - 10Nov2020): finished  228 trials in 0 min 10 sec"
     ]
    },
    {
     "name": "stdout",
     "output_type": "stream",
     "text": [
      "\n"
     ]
    },
    {
     "name": "stdout",
     "output_type": "stream",
     "text": [
      "\tFIN,  7th phase (08Oct2020 - 18Oct2020): finished  217 trials in 0 min 10 sec"
     ]
    },
    {
     "name": "stdout",
     "output_type": "stream",
     "text": [
      "\n"
     ]
    },
    {
     "name": "stdout",
     "output_type": "stream",
     "text": [
      "\tFIN,  1st phase (05Apr2020 - 19Apr2020): finished  229 trials in 0 min 10 sec"
     ]
    },
    {
     "name": "stdout",
     "output_type": "stream",
     "text": [
      "\n"
     ]
    },
    {
     "name": "stdout",
     "output_type": "stream",
     "text": [
      "\tDEU,  8th phase (21Oct2020 - 27Oct2020): finished  229 trials in 0 min 10 sec"
     ]
    },
    {
     "name": "stdout",
     "output_type": "stream",
     "text": [
      "\n"
     ]
    },
    {
     "name": "stdout",
     "output_type": "stream",
     "text": [
      "\tDEU, 12th phase (18Nov2020 - 24Nov2020): finished  231 trials in 0 min 10 sec"
     ]
    },
    {
     "name": "stdout",
     "output_type": "stream",
     "text": [
      "\n"
     ]
    },
    {
     "name": "stdout",
     "output_type": "stream",
     "text": [
      "\tPRT, 14th phase (03Dec2020 - 09Dec2020): finished  228 trials in 0 min 10 sec"
     ]
    },
    {
     "name": "stdout",
     "output_type": "stream",
     "text": [
      "\n"
     ]
    },
    {
     "name": "stdout",
     "output_type": "stream",
     "text": [
      "\tNOR,  9th phase (29Oct2020 - 03Nov2020): finished  232 trials in 0 min 10 sec"
     ]
    },
    {
     "name": "stdout",
     "output_type": "stream",
     "text": [
      "\n"
     ]
    },
    {
     "name": "stdout",
     "output_type": "stream",
     "text": [
      "\tFIN, 11th phase (19Nov2020 - 25Nov2020): finished  224 trials in 0 min 10 sec"
     ]
    },
    {
     "name": "stdout",
     "output_type": "stream",
     "text": [
      "\n"
     ]
    },
    {
     "name": "stdout",
     "output_type": "stream",
     "text": [
      "\tFIN,  6th phase (23Sep2020 - 07Oct2020): finished  229 trials in 0 min 10 sec"
     ]
    },
    {
     "name": "stdout",
     "output_type": "stream",
     "text": [
      "\n"
     ]
    },
    {
     "name": "stdout",
     "output_type": "stream",
     "text": [
      "\tNOR, 14th phase (08Dec2020 - 14Dec2020): finished  224 trials in 0 min 10 sec"
     ]
    },
    {
     "name": "stdout",
     "output_type": "stream",
     "text": [
      "\n"
     ]
    },
    {
     "name": "stdout",
     "output_type": "stream",
     "text": [
      "\tDEU,  7th phase (09Oct2020 - 20Oct2020): finished  227 trials in 0 min 10 sec"
     ]
    },
    {
     "name": "stdout",
     "output_type": "stream",
     "text": [
      "\n"
     ]
    },
    {
     "name": "stdout",
     "output_type": "stream",
     "text": [
      "\tFIN,  4th phase (28May2020 - 20Aug2020): finished  214 trials in 0 min 10 sec"
     ]
    },
    {
     "name": "stdout",
     "output_type": "stream",
     "text": [
      "\n"
     ]
    },
    {
     "name": "stdout",
     "output_type": "stream",
     "text": [
      "\tPRT, 15th phase (10Dec2020 - 15Dec2020): finished  239 trials in 0 min 10 sec"
     ]
    },
    {
     "name": "stdout",
     "output_type": "stream",
     "text": [
      "\n"
     ]
    },
    {
     "name": "stdout",
     "output_type": "stream",
     "text": [
      "\tNOR, 10th phase (04Nov2020 - 09Nov2020): finished  221 trials in 0 min 10 sec"
     ]
    },
    {
     "name": "stdout",
     "output_type": "stream",
     "text": [
      "\n"
     ]
    },
    {
     "name": "stdout",
     "output_type": "stream",
     "text": [
      "\tGBR, 14th phase (03Dec2020 - 10Dec2020): finished  232 trials in 0 min 10 sec"
     ]
    },
    {
     "name": "stdout",
     "output_type": "stream",
     "text": [
      "\n"
     ]
    },
    {
     "name": "stdout",
     "output_type": "stream",
     "text": [
      "\tPRT,  3rd phase (02Jun2020 - 02Jul2020): finished  223 trials in 0 min 10 sec"
     ]
    },
    {
     "name": "stdout",
     "output_type": "stream",
     "text": [
      "\n"
     ]
    },
    {
     "name": "stdout",
     "output_type": "stream",
     "text": [
      "\tGBR,  0th phase (23Feb2020 - 09Apr2020): finished  226 trials in 0 min 10 sec"
     ]
    },
    {
     "name": "stdout",
     "output_type": "stream",
     "text": [
      "\n"
     ]
    },
    {
     "name": "stdout",
     "output_type": "stream",
     "text": [
      "\tDEU,  2nd phase (05Apr2020 - 21Apr2020): finished  226 trials in 0 min 10 sec"
     ]
    },
    {
     "name": "stdout",
     "output_type": "stream",
     "text": [
      "\n"
     ]
    },
    {
     "name": "stdout",
     "output_type": "stream",
     "text": [
      "\tDEU, 13th phase (25Nov2020 - 01Dec2020): finished  230 trials in 0 min 10 sec"
     ]
    },
    {
     "name": "stdout",
     "output_type": "stream",
     "text": [
      "\n"
     ]
    },
    {
     "name": "stdout",
     "output_type": "stream",
     "text": [
      "\tPRT,  0th phase (14Mar2020 - 03Apr2020): finished  216 trials in 0 min 10 sec"
     ]
    },
    {
     "name": "stdout",
     "output_type": "stream",
     "text": [
      "\n"
     ]
    },
    {
     "name": "stdout",
     "output_type": "stream",
     "text": [
      "\tPRT, 17th phase (22Dec2020 - 28Dec2020): finished  225 trials in 0 min 10 sec"
     ]
    },
    {
     "name": "stdout",
     "output_type": "stream",
     "text": [
      "\n"
     ]
    },
    {
     "name": "stdout",
     "output_type": "stream",
     "text": [
      "\tNOR, 11th phase (10Nov2020 - 22Nov2020): finished  215 trials in 0 min 10 sec"
     ]
    },
    {
     "name": "stdout",
     "output_type": "stream",
     "text": [
      "\n"
     ]
    },
    {
     "name": "stdout",
     "output_type": "stream",
     "text": [
      "\tFIN, 10th phase (09Nov2020 - 18Nov2020): finished  174 trials in 0 min 10 sec"
     ]
    },
    {
     "name": "stdout",
     "output_type": "stream",
     "text": [
      "\n"
     ]
    },
    {
     "name": "stdout",
     "output_type": "stream",
     "text": [
      "\tGBR, 13th phase (25Nov2020 - 02Dec2020): finished  180 trials in 0 min 10 sec"
     ]
    },
    {
     "name": "stdout",
     "output_type": "stream",
     "text": [
      "\n"
     ]
    },
    {
     "name": "stdout",
     "output_type": "stream",
     "text": [
      "\tPRT,  2nd phase (23Apr2020 - 01Jun2020): finished  171 trials in 0 min 10 sec"
     ]
    },
    {
     "name": "stdout",
     "output_type": "stream",
     "text": [
      "\n"
     ]
    },
    {
     "name": "stdout",
     "output_type": "stream",
     "text": [
      "\tNOR,  5th phase (03Sep2020 - 19Sep2020): finished  182 trials in 0 min 10 sec"
     ]
    },
    {
     "name": "stdout",
     "output_type": "stream",
     "text": [
      "\n"
     ]
    },
    {
     "name": "stdout",
     "output_type": "stream",
     "text": [
      "\tNOR,  6th phase (20Sep2020 - 05Oct2020): finished  226 trials in 0 min 10 sec"
     ]
    },
    {
     "name": "stdout",
     "output_type": "stream",
     "text": [
      "\n"
     ]
    },
    {
     "name": "stdout",
     "output_type": "stream",
     "text": [
      "\tFIN,  8th phase (19Oct2020 - 28Oct2020): finished  217 trials in 0 min 10 sec"
     ]
    },
    {
     "name": "stdout",
     "output_type": "stream",
     "text": [
      "\n"
     ]
    },
    {
     "name": "stdout",
     "output_type": "stream",
     "text": [
      "\tGBR,  2nd phase (01May2020 - 27May2020): finished  214 trials in 0 min 10 sec"
     ]
    },
    {
     "name": "stdout",
     "output_type": "stream",
     "text": [
      "\n"
     ]
    },
    {
     "name": "stdout",
     "output_type": "stream",
     "text": [
      "\tPRT,  8th phase (14Oct2020 - 21Oct2020): finished  206 trials in 0 min 10 sec"
     ]
    },
    {
     "name": "stdout",
     "output_type": "stream",
     "text": [
      "\n"
     ]
    },
    {
     "name": "stdout",
     "output_type": "stream",
     "text": [
      "\tNOR,  1st phase (26Mar2020 - 05Apr2020): finished  234 trials in 0 min 10 sec"
     ]
    },
    {
     "name": "stdout",
     "output_type": "stream",
     "text": [
      "\n"
     ]
    },
    {
     "name": "stdout",
     "output_type": "stream",
     "text": [
      "\tGBR,  7th phase (13Oct2020 - 20Oct2020): finished  239 trials in 0 min 10 sec"
     ]
    },
    {
     "name": "stdout",
     "output_type": "stream",
     "text": [
      "\n"
     ]
    },
    {
     "name": "stdout",
     "output_type": "stream",
     "text": [
      "\tFIN, 12th phase (26Nov2020 - 01Dec2020): finished  246 trials in 0 min 10 sec"
     ]
    },
    {
     "name": "stdout",
     "output_type": "stream",
     "text": [
      "\n"
     ]
    },
    {
     "name": "stdout",
     "output_type": "stream",
     "text": [
      "\tGBR,  3rd phase (28May2020 - 07Aug2020): finished  222 trials in 0 min 10 sec"
     ]
    },
    {
     "name": "stdout",
     "output_type": "stream",
     "text": [
      "\n"
     ]
    },
    {
     "name": "stdout",
     "output_type": "stream",
     "text": [
      "\tDEU,  5th phase (16Aug2020 - 16Sep2020): finished  284 trials in 0 min 10 sec"
     ]
    },
    {
     "name": "stdout",
     "output_type": "stream",
     "text": [
      "\n"
     ]
    },
    {
     "name": "stdout",
     "output_type": "stream",
     "text": [
      "\tNOR,  0th phase (15Mar2020 - 25Mar2020): finished  296 trials in 0 min 10 sec"
     ]
    },
    {
     "name": "stdout",
     "output_type": "stream",
     "text": [
      "\n"
     ]
    },
    {
     "name": "stdout",
     "output_type": "stream",
     "text": [
      "\tPRT, 11th phase (05Nov2020 - 14Nov2020): finished  307 trials in 0 min 10 sec"
     ]
    },
    {
     "name": "stdout",
     "output_type": "stream",
     "text": [
      "\n"
     ]
    },
    {
     "name": "stdout",
     "output_type": "stream",
     "text": [
      "\tPRT,  1st phase (04Apr2020 - 22Apr2020): finished  222 trials in 0 min 10 sec"
     ]
    },
    {
     "name": "stdout",
     "output_type": "stream",
     "text": [
      "\n"
     ]
    },
    {
     "name": "stdout",
     "output_type": "stream",
     "text": [
      "\tFIN,  3rd phase (05May2020 - 27May2020): finished  247 trials in 0 min 10 sec"
     ]
    },
    {
     "name": "stdout",
     "output_type": "stream",
     "text": [
      "\n"
     ]
    },
    {
     "name": "stdout",
     "output_type": "stream",
     "text": [
      "\tFIN, 15th phase (15Dec2020 - 20Dec2020): finished  268 trials in 0 min 10 sec"
     ]
    },
    {
     "name": "stdout",
     "output_type": "stream",
     "text": [
      "\n"
     ]
    },
    {
     "name": "stdout",
     "output_type": "stream",
     "text": [
      "\tNOR, 13th phase (30Nov2020 - 07Dec2020): finished  349 trials in 0 min 10 sec"
     ]
    },
    {
     "name": "stdout",
     "output_type": "stream",
     "text": [
      "\n"
     ]
    },
    {
     "name": "stdout",
     "output_type": "stream",
     "text": [
      "\tGBR,  4th phase (08Aug2020 - 16Sep2020): finished  326 trials in 0 min 10 sec"
     ]
    },
    {
     "name": "stdout",
     "output_type": "stream",
     "text": [
      "\n"
     ]
    },
    {
     "name": "stdout",
     "output_type": "stream",
     "text": [
      "\tGBR, 16th phase (17Dec2020 - 28Dec2020): finished  349 trials in 0 min 10 sec"
     ]
    },
    {
     "name": "stdout",
     "output_type": "stream",
     "text": [
      "\n"
     ]
    },
    {
     "name": "stdout",
     "output_type": "stream",
     "text": [
      "\tNOR,  3rd phase (03May2020 - 05Aug2020): finished  331 trials in 0 min 10 sec"
     ]
    },
    {
     "name": "stdout",
     "output_type": "stream",
     "text": [
      "\n"
     ]
    },
    {
     "name": "stdout",
     "output_type": "stream",
     "text": [
      "\tPRT, 16th phase (16Dec2020 - 21Dec2020): finished  338 trials in 0 min 10 sec"
     ]
    },
    {
     "name": "stdout",
     "output_type": "stream",
     "text": [
      "\n"
     ]
    },
    {
     "name": "stdout",
     "output_type": "stream",
     "text": [
      "\tFIN,  2nd phase (20Apr2020 - 04May2020): finished  332 trials in 0 min 10 sec"
     ]
    },
    {
     "name": "stdout",
     "output_type": "stream",
     "text": [
      "\n"
     ]
    },
    {
     "name": "stdout",
     "output_type": "stream",
     "text": [
      "Completed optimization. Total: 3 min 40 sec\n"
     ]
    }
   ],
   "source": [
    "# Parameter estimation with SIR-F model\n",
    "analyser.estimate(cs.SIRF, timeout=10)"
   ]
  },
  {
   "cell_type": "code",
   "execution_count": 12,
   "metadata": {
    "collapsed": false
   },
   "outputs": [
    {
     "data": {
      "text/html": [
       "<div>\n",
       "<style scoped>\n",
       "    .dataframe tbody tr th:only-of-type {\n",
       "        vertical-align: middle;\n",
       "    }\n",
       "\n",
       "    .dataframe tbody tr th {\n",
       "        vertical-align: top;\n",
       "    }\n",
       "\n",
       "    .dataframe thead th {\n",
       "        text-align: right;\n",
       "    }\n",
       "</style>\n",
       "<table border=\"1\" class=\"dataframe\">\n",
       "  <thead>\n",
       "    <tr style=\"text-align: right;\">\n",
       "      <th></th>\n",
       "      <th></th>\n",
       "      <th>Type</th>\n",
       "      <th>Start</th>\n",
       "      <th>End</th>\n",
       "      <th>Population</th>\n",
       "      <th>ODE</th>\n",
       "      <th>Rt</th>\n",
       "      <th>theta</th>\n",
       "      <th>kappa</th>\n",
       "      <th>rho</th>\n",
       "      <th>sigma</th>\n",
       "      <th>tau</th>\n",
       "      <th>alpha1 [-]</th>\n",
       "      <th>1/beta [day]</th>\n",
       "      <th>1/gamma [day]</th>\n",
       "      <th>1/alpha2 [day]</th>\n",
       "      <th>RMSLE</th>\n",
       "      <th>Trials</th>\n",
       "      <th>Runtime</th>\n",
       "    </tr>\n",
       "    <tr>\n",
       "      <th>Country</th>\n",
       "      <th>Phase</th>\n",
       "      <th></th>\n",
       "      <th></th>\n",
       "      <th></th>\n",
       "      <th></th>\n",
       "      <th></th>\n",
       "      <th></th>\n",
       "      <th></th>\n",
       "      <th></th>\n",
       "      <th></th>\n",
       "      <th></th>\n",
       "      <th></th>\n",
       "      <th></th>\n",
       "      <th></th>\n",
       "      <th></th>\n",
       "      <th></th>\n",
       "      <th></th>\n",
       "      <th></th>\n",
       "      <th></th>\n",
       "    </tr>\n",
       "  </thead>\n",
       "  <tbody>\n",
       "    <tr>\n",
       "      <th rowspan=\"18\" valign=\"top\">Germany</th>\n",
       "      <th>0th</th>\n",
       "      <td>Past</td>\n",
       "      <td>19Jan2020</td>\n",
       "      <td>23Mar2020</td>\n",
       "      <td>82905782</td>\n",
       "      <td>SIR-F</td>\n",
       "      <td>10.83</td>\n",
       "      <td>0.217991</td>\n",
       "      <td>0.0018603</td>\n",
       "      <td>0.0376955</td>\n",
       "      <td>0.000861841</td>\n",
       "      <td>360</td>\n",
       "      <td>0.218</td>\n",
       "      <td>6</td>\n",
       "      <td>290</td>\n",
       "      <td>134</td>\n",
       "      <td>1.77765</td>\n",
       "      <td>212</td>\n",
       "      <td>0 min 10 sec</td>\n",
       "    </tr>\n",
       "    <tr>\n",
       "      <th>1st</th>\n",
       "      <td>Past</td>\n",
       "      <td>24Mar2020</td>\n",
       "      <td>04Apr2020</td>\n",
       "      <td>82905782</td>\n",
       "      <td>SIR-F</td>\n",
       "      <td>4.98</td>\n",
       "      <td>0.0352431</td>\n",
       "      <td>0.000559985</td>\n",
       "      <td>0.0227786</td>\n",
       "      <td>0.00385104</td>\n",
       "      <td>360</td>\n",
       "      <td>0.035</td>\n",
       "      <td>10</td>\n",
       "      <td>64</td>\n",
       "      <td>446</td>\n",
       "      <td>0.164634</td>\n",
       "      <td>219</td>\n",
       "      <td>0 min 10 sec</td>\n",
       "    </tr>\n",
       "    <tr>\n",
       "      <th>2nd</th>\n",
       "      <td>Past</td>\n",
       "      <td>05Apr2020</td>\n",
       "      <td>21Apr2020</td>\n",
       "      <td>82905782</td>\n",
       "      <td>SIR-F</td>\n",
       "      <td>0.55</td>\n",
       "      <td>0.03889</td>\n",
       "      <td>0.000481933</td>\n",
       "      <td>0.0120246</td>\n",
       "      <td>0.0206376</td>\n",
       "      <td>360</td>\n",
       "      <td>0.039</td>\n",
       "      <td>20</td>\n",
       "      <td>12</td>\n",
       "      <td>518</td>\n",
       "      <td>0.145999</td>\n",
       "      <td>226</td>\n",
       "      <td>0 min 10 sec</td>\n",
       "    </tr>\n",
       "    <tr>\n",
       "      <th>3rd</th>\n",
       "      <td>Past</td>\n",
       "      <td>22Apr2020</td>\n",
       "      <td>17Jun2020</td>\n",
       "      <td>82905782</td>\n",
       "      <td>SIR-F</td>\n",
       "      <td>0.54</td>\n",
       "      <td>0.0298719</td>\n",
       "      <td>6.74042e-05</td>\n",
       "      <td>0.0128801</td>\n",
       "      <td>0.023009</td>\n",
       "      <td>360</td>\n",
       "      <td>0.03</td>\n",
       "      <td>19</td>\n",
       "      <td>10</td>\n",
       "      <td>3708</td>\n",
       "      <td>0.10452</td>\n",
       "      <td>203</td>\n",
       "      <td>0 min 10 sec</td>\n",
       "    </tr>\n",
       "    <tr>\n",
       "      <th>4th</th>\n",
       "      <td>Past</td>\n",
       "      <td>18Jun2020</td>\n",
       "      <td>15Aug2020</td>\n",
       "      <td>82905782</td>\n",
       "      <td>SIR-F</td>\n",
       "      <td>1.15</td>\n",
       "      <td>0.00379861</td>\n",
       "      <td>1.85307e-06</td>\n",
       "      <td>0.0162722</td>\n",
       "      <td>0.0141322</td>\n",
       "      <td>360</td>\n",
       "      <td>0.004</td>\n",
       "      <td>15</td>\n",
       "      <td>17</td>\n",
       "      <td>134910</td>\n",
       "      <td>0.115437</td>\n",
       "      <td>209</td>\n",
       "      <td>0 min 10 sec</td>\n",
       "    </tr>\n",
       "    <tr>\n",
       "      <th>5th</th>\n",
       "      <td>Past</td>\n",
       "      <td>16Aug2020</td>\n",
       "      <td>16Sep2020</td>\n",
       "      <td>82905782</td>\n",
       "      <td>SIR-F</td>\n",
       "      <td>1.31</td>\n",
       "      <td>0.00156721</td>\n",
       "      <td>0.000191478</td>\n",
       "      <td>0.0163251</td>\n",
       "      <td>0.0122317</td>\n",
       "      <td>360</td>\n",
       "      <td>0.002</td>\n",
       "      <td>15</td>\n",
       "      <td>20</td>\n",
       "      <td>1305</td>\n",
       "      <td>0.0642426</td>\n",
       "      <td>284</td>\n",
       "      <td>0 min 10 sec</td>\n",
       "    </tr>\n",
       "    <tr>\n",
       "      <th>6th</th>\n",
       "      <td>Past</td>\n",
       "      <td>17Sep2020</td>\n",
       "      <td>08Oct2020</td>\n",
       "      <td>82905782</td>\n",
       "      <td>SIR-F</td>\n",
       "      <td>1.31</td>\n",
       "      <td>0.00159616</td>\n",
       "      <td>1.85307e-06</td>\n",
       "      <td>0.0182405</td>\n",
       "      <td>0.0138521</td>\n",
       "      <td>360</td>\n",
       "      <td>0.002</td>\n",
       "      <td>13</td>\n",
       "      <td>18</td>\n",
       "      <td>134911</td>\n",
       "      <td>0.0313651</td>\n",
       "      <td>231</td>\n",
       "      <td>0 min 10 sec</td>\n",
       "    </tr>\n",
       "    <tr>\n",
       "      <th>7th</th>\n",
       "      <td>Past</td>\n",
       "      <td>09Oct2020</td>\n",
       "      <td>20Oct2020</td>\n",
       "      <td>82905782</td>\n",
       "      <td>SIR-F</td>\n",
       "      <td>3.13</td>\n",
       "      <td>0.000676492</td>\n",
       "      <td>6.74045e-05</td>\n",
       "      <td>0.0257733</td>\n",
       "      <td>0.00815652</td>\n",
       "      <td>360</td>\n",
       "      <td>0.001</td>\n",
       "      <td>9</td>\n",
       "      <td>30</td>\n",
       "      <td>3708</td>\n",
       "      <td>0.0649835</td>\n",
       "      <td>227</td>\n",
       "      <td>0 min 10 sec</td>\n",
       "    </tr>\n",
       "    <tr>\n",
       "      <th>8th</th>\n",
       "      <td>Past</td>\n",
       "      <td>21Oct2020</td>\n",
       "      <td>27Oct2020</td>\n",
       "      <td>82905782</td>\n",
       "      <td>SIR-F</td>\n",
       "      <td>3.03</td>\n",
       "      <td>0.00261679</td>\n",
       "      <td>0.000301315</td>\n",
       "      <td>0.0272932</td>\n",
       "      <td>0.00868855</td>\n",
       "      <td>360</td>\n",
       "      <td>0.003</td>\n",
       "      <td>9</td>\n",
       "      <td>28</td>\n",
       "      <td>829</td>\n",
       "      <td>0.0196311</td>\n",
       "      <td>229</td>\n",
       "      <td>0 min 10 sec</td>\n",
       "    </tr>\n",
       "    <tr>\n",
       "      <th>9th</th>\n",
       "      <td>Past</td>\n",
       "      <td>28Oct2020</td>\n",
       "      <td>03Nov2020</td>\n",
       "      <td>82905782</td>\n",
       "      <td>SIR-F</td>\n",
       "      <td>2.25</td>\n",
       "      <td>0.000120584</td>\n",
       "      <td>0.00022902</td>\n",
       "      <td>0.0181477</td>\n",
       "      <td>0.00781793</td>\n",
       "      <td>360</td>\n",
       "      <td>0</td>\n",
       "      <td>13</td>\n",
       "      <td>31</td>\n",
       "      <td>1091</td>\n",
       "      <td>0.0369756</td>\n",
       "      <td>233</td>\n",
       "      <td>0 min 10 sec</td>\n",
       "    </tr>\n",
       "    <tr>\n",
       "      <th>10th</th>\n",
       "      <td>Past</td>\n",
       "      <td>04Nov2020</td>\n",
       "      <td>10Nov2020</td>\n",
       "      <td>82905782</td>\n",
       "      <td>SIR-F</td>\n",
       "      <td>1.44</td>\n",
       "      <td>0.000182781</td>\n",
       "      <td>0.000228665</td>\n",
       "      <td>0.0176787</td>\n",
       "      <td>0.0120625</td>\n",
       "      <td>360</td>\n",
       "      <td>0</td>\n",
       "      <td>14</td>\n",
       "      <td>20</td>\n",
       "      <td>1093</td>\n",
       "      <td>0.0247279</td>\n",
       "      <td>228</td>\n",
       "      <td>0 min 10 sec</td>\n",
       "    </tr>\n",
       "    <tr>\n",
       "      <th>11th</th>\n",
       "      <td>Past</td>\n",
       "      <td>11Nov2020</td>\n",
       "      <td>17Nov2020</td>\n",
       "      <td>82905782</td>\n",
       "      <td>SIR-F</td>\n",
       "      <td>1.07</td>\n",
       "      <td>0.00533793</td>\n",
       "      <td>0.000180071</td>\n",
       "      <td>0.0173738</td>\n",
       "      <td>0.0159985</td>\n",
       "      <td>360</td>\n",
       "      <td>0.005</td>\n",
       "      <td>14</td>\n",
       "      <td>15</td>\n",
       "      <td>1388</td>\n",
       "      <td>0.0194167</td>\n",
       "      <td>229</td>\n",
       "      <td>0 min 10 sec</td>\n",
       "    </tr>\n",
       "    <tr>\n",
       "      <th>12th</th>\n",
       "      <td>Past</td>\n",
       "      <td>18Nov2020</td>\n",
       "      <td>24Nov2020</td>\n",
       "      <td>82905782</td>\n",
       "      <td>SIR-F</td>\n",
       "      <td>0.97</td>\n",
       "      <td>0.00547357</td>\n",
       "      <td>9.3087e-05</td>\n",
       "      <td>0.0170559</td>\n",
       "      <td>0.017396</td>\n",
       "      <td>360</td>\n",
       "      <td>0.005</td>\n",
       "      <td>14</td>\n",
       "      <td>14</td>\n",
       "      <td>2685</td>\n",
       "      <td>0.0228112</td>\n",
       "      <td>231</td>\n",
       "      <td>0 min 10 sec</td>\n",
       "    </tr>\n",
       "    <tr>\n",
       "      <th>13th</th>\n",
       "      <td>Past</td>\n",
       "      <td>25Nov2020</td>\n",
       "      <td>01Dec2020</td>\n",
       "      <td>82905782</td>\n",
       "      <td>SIR-F</td>\n",
       "      <td>0.91</td>\n",
       "      <td>0.0159733</td>\n",
       "      <td>0.000287581</td>\n",
       "      <td>0.0146569</td>\n",
       "      <td>0.0156222</td>\n",
       "      <td>360</td>\n",
       "      <td>0.016</td>\n",
       "      <td>17</td>\n",
       "      <td>16</td>\n",
       "      <td>869</td>\n",
       "      <td>0.027323</td>\n",
       "      <td>230</td>\n",
       "      <td>0 min 10 sec</td>\n",
       "    </tr>\n",
       "    <tr>\n",
       "      <th>14th</th>\n",
       "      <td>Past</td>\n",
       "      <td>02Dec2020</td>\n",
       "      <td>08Dec2020</td>\n",
       "      <td>82905782</td>\n",
       "      <td>-</td>\n",
       "      <td>-</td>\n",
       "      <td>-</td>\n",
       "      <td>-</td>\n",
       "      <td>-</td>\n",
       "      <td>-</td>\n",
       "      <td>-</td>\n",
       "      <td>-</td>\n",
       "      <td>-</td>\n",
       "      <td>-</td>\n",
       "      <td>-</td>\n",
       "      <td>-</td>\n",
       "      <td>-</td>\n",
       "      <td>-</td>\n",
       "    </tr>\n",
       "    <tr>\n",
       "      <th>15th</th>\n",
       "      <td>Past</td>\n",
       "      <td>09Dec2020</td>\n",
       "      <td>14Dec2020</td>\n",
       "      <td>82905782</td>\n",
       "      <td>-</td>\n",
       "      <td>-</td>\n",
       "      <td>-</td>\n",
       "      <td>-</td>\n",
       "      <td>-</td>\n",
       "      <td>-</td>\n",
       "      <td>-</td>\n",
       "      <td>-</td>\n",
       "      <td>-</td>\n",
       "      <td>-</td>\n",
       "      <td>-</td>\n",
       "      <td>-</td>\n",
       "      <td>-</td>\n",
       "      <td>-</td>\n",
       "    </tr>\n",
       "    <tr>\n",
       "      <th>16th</th>\n",
       "      <td>Past</td>\n",
       "      <td>15Dec2020</td>\n",
       "      <td>20Dec2020</td>\n",
       "      <td>82905782</td>\n",
       "      <td>-</td>\n",
       "      <td>-</td>\n",
       "      <td>-</td>\n",
       "      <td>-</td>\n",
       "      <td>-</td>\n",
       "      <td>-</td>\n",
       "      <td>-</td>\n",
       "      <td>-</td>\n",
       "      <td>-</td>\n",
       "      <td>-</td>\n",
       "      <td>-</td>\n",
       "      <td>-</td>\n",
       "      <td>-</td>\n",
       "      <td>-</td>\n",
       "    </tr>\n",
       "    <tr>\n",
       "      <th>17th</th>\n",
       "      <td>Past</td>\n",
       "      <td>21Dec2020</td>\n",
       "      <td>28Dec2020</td>\n",
       "      <td>82905782</td>\n",
       "      <td>-</td>\n",
       "      <td>-</td>\n",
       "      <td>-</td>\n",
       "      <td>-</td>\n",
       "      <td>-</td>\n",
       "      <td>-</td>\n",
       "      <td>-</td>\n",
       "      <td>-</td>\n",
       "      <td>-</td>\n",
       "      <td>-</td>\n",
       "      <td>-</td>\n",
       "      <td>-</td>\n",
       "      <td>-</td>\n",
       "      <td>-</td>\n",
       "    </tr>\n",
       "    <tr>\n",
       "      <th rowspan=\"18\" valign=\"top\">Portugal</th>\n",
       "      <th>0th</th>\n",
       "      <td>Past</td>\n",
       "      <td>14Mar2020</td>\n",
       "      <td>03Apr2020</td>\n",
       "      <td>10283822</td>\n",
       "      <td>SIR-F</td>\n",
       "      <td>119.98</td>\n",
       "      <td>0.0290181</td>\n",
       "      <td>9.34715e-05</td>\n",
       "      <td>0.0427256</td>\n",
       "      <td>0.000252305</td>\n",
       "      <td>360</td>\n",
       "      <td>0.029</td>\n",
       "      <td>5</td>\n",
       "      <td>990</td>\n",
       "      <td>2674</td>\n",
       "      <td>0.750938</td>\n",
       "      <td>216</td>\n",
       "      <td>0 min 10 sec</td>\n",
       "    </tr>\n",
       "    <tr>\n",
       "      <th>1st</th>\n",
       "      <td>Past</td>\n",
       "      <td>04Apr2020</td>\n",
       "      <td>22Apr2020</td>\n",
       "      <td>10283822</td>\n",
       "      <td>SIR-F</td>\n",
       "      <td>10.24</td>\n",
       "      <td>0.0443534</td>\n",
       "      <td>0.00018007</td>\n",
       "      <td>0.00951214</td>\n",
       "      <td>0.000707438</td>\n",
       "      <td>360</td>\n",
       "      <td>0.044</td>\n",
       "      <td>26</td>\n",
       "      <td>353</td>\n",
       "      <td>1388</td>\n",
       "      <td>0.125125</td>\n",
       "      <td>222</td>\n",
       "      <td>0 min 10 sec</td>\n",
       "    </tr>\n",
       "    <tr>\n",
       "      <th>2nd</th>\n",
       "      <td>Past</td>\n",
       "      <td>23Apr2020</td>\n",
       "      <td>01Jun2020</td>\n",
       "      <td>10283822</td>\n",
       "      <td>SIR-F</td>\n",
       "      <td>1.17</td>\n",
       "      <td>0.00352545</td>\n",
       "      <td>7.90633e-05</td>\n",
       "      <td>0.00436702</td>\n",
       "      <td>0.00364885</td>\n",
       "      <td>360</td>\n",
       "      <td>0.004</td>\n",
       "      <td>57</td>\n",
       "      <td>68</td>\n",
       "      <td>3162</td>\n",
       "      <td>0.434569</td>\n",
       "      <td>171</td>\n",
       "      <td>0 min 10 sec</td>\n",
       "    </tr>\n",
       "    <tr>\n",
       "      <th>3rd</th>\n",
       "      <td>Past</td>\n",
       "      <td>02Jun2020</td>\n",
       "      <td>02Jul2020</td>\n",
       "      <td>10283822</td>\n",
       "      <td>SIR-F</td>\n",
       "      <td>1.23</td>\n",
       "      <td>0.0143551</td>\n",
       "      <td>0.000381157</td>\n",
       "      <td>0.00694812</td>\n",
       "      <td>0.00518633</td>\n",
       "      <td>360</td>\n",
       "      <td>0.014</td>\n",
       "      <td>35</td>\n",
       "      <td>48</td>\n",
       "      <td>655</td>\n",
       "      <td>0.106849</td>\n",
       "      <td>223</td>\n",
       "      <td>0 min 10 sec</td>\n",
       "    </tr>\n",
       "    <tr>\n",
       "      <th>4th</th>\n",
       "      <td>Past</td>\n",
       "      <td>03Jul2020</td>\n",
       "      <td>11Aug2020</td>\n",
       "      <td>10283822</td>\n",
       "      <td>SIR-F</td>\n",
       "      <td>0.77</td>\n",
       "      <td>0.0125176</td>\n",
       "      <td>0.000191151</td>\n",
       "      <td>0.00430917</td>\n",
       "      <td>0.00530533</td>\n",
       "      <td>360</td>\n",
       "      <td>0.013</td>\n",
       "      <td>58</td>\n",
       "      <td>47</td>\n",
       "      <td>1307</td>\n",
       "      <td>0.0763246</td>\n",
       "      <td>212</td>\n",
       "      <td>0 min 10 sec</td>\n",
       "    </tr>\n",
       "    <tr>\n",
       "      <th>5th</th>\n",
       "      <td>Past</td>\n",
       "      <td>12Aug2020</td>\n",
       "      <td>11Sep2020</td>\n",
       "      <td>10283822</td>\n",
       "      <td>SIR-F</td>\n",
       "      <td>1.74</td>\n",
       "      <td>0.021262</td>\n",
       "      <td>1.85179e-06</td>\n",
       "      <td>0.00459991</td>\n",
       "      <td>0.00258136</td>\n",
       "      <td>360</td>\n",
       "      <td>0.021</td>\n",
       "      <td>54</td>\n",
       "      <td>96</td>\n",
       "      <td>135004</td>\n",
       "      <td>0.0252616</td>\n",
       "      <td>218</td>\n",
       "      <td>0 min 10 sec</td>\n",
       "    </tr>\n",
       "    <tr>\n",
       "      <th>6th</th>\n",
       "      <td>Past</td>\n",
       "      <td>12Sep2020</td>\n",
       "      <td>30Sep2020</td>\n",
       "      <td>10283822</td>\n",
       "      <td>SIR-F</td>\n",
       "      <td>2.18</td>\n",
       "      <td>0.000930505</td>\n",
       "      <td>7.11252e-05</td>\n",
       "      <td>0.00742982</td>\n",
       "      <td>0.00333963</td>\n",
       "      <td>360</td>\n",
       "      <td>0.001</td>\n",
       "      <td>33</td>\n",
       "      <td>74</td>\n",
       "      <td>3514</td>\n",
       "      <td>0.0314448</td>\n",
       "      <td>207</td>\n",
       "      <td>0 min 10 sec</td>\n",
       "    </tr>\n",
       "    <tr>\n",
       "      <th>7th</th>\n",
       "      <td>Past</td>\n",
       "      <td>01Oct2020</td>\n",
       "      <td>13Oct2020</td>\n",
       "      <td>10283822</td>\n",
       "      <td>SIR-F</td>\n",
       "      <td>2.34</td>\n",
       "      <td>0.0024725</td>\n",
       "      <td>9.34529e-05</td>\n",
       "      <td>0.00928125</td>\n",
       "      <td>0.00386818</td>\n",
       "      <td>360</td>\n",
       "      <td>0.002</td>\n",
       "      <td>26</td>\n",
       "      <td>64</td>\n",
       "      <td>2675</td>\n",
       "      <td>0.00927418</td>\n",
       "      <td>233</td>\n",
       "      <td>0 min 10 sec</td>\n",
       "    </tr>\n",
       "    <tr>\n",
       "      <th>8th</th>\n",
       "      <td>Past</td>\n",
       "      <td>14Oct2020</td>\n",
       "      <td>21Oct2020</td>\n",
       "      <td>10283822</td>\n",
       "      <td>SIR-F</td>\n",
       "      <td>2</td>\n",
       "      <td>0.000988016</td>\n",
       "      <td>7.11254e-05</td>\n",
       "      <td>0.0139942</td>\n",
       "      <td>0.00692923</td>\n",
       "      <td>360</td>\n",
       "      <td>0.001</td>\n",
       "      <td>17</td>\n",
       "      <td>36</td>\n",
       "      <td>3514</td>\n",
       "      <td>0.013215</td>\n",
       "      <td>206</td>\n",
       "      <td>0 min 10 sec</td>\n",
       "    </tr>\n",
       "    <tr>\n",
       "      <th>9th</th>\n",
       "      <td>Past</td>\n",
       "      <td>22Oct2020</td>\n",
       "      <td>28Oct2020</td>\n",
       "      <td>10283822</td>\n",
       "      <td>SIR-F</td>\n",
       "      <td>1.89</td>\n",
       "      <td>0.00179854</td>\n",
       "      <td>9.3087e-05</td>\n",
       "      <td>0.0177233</td>\n",
       "      <td>0.0092433</td>\n",
       "      <td>360</td>\n",
       "      <td>0.002</td>\n",
       "      <td>14</td>\n",
       "      <td>27</td>\n",
       "      <td>2685</td>\n",
       "      <td>0.00719118</td>\n",
       "      <td>234</td>\n",
       "      <td>0 min 10 sec</td>\n",
       "    </tr>\n",
       "    <tr>\n",
       "      <th>10th</th>\n",
       "      <td>Past</td>\n",
       "      <td>29Oct2020</td>\n",
       "      <td>04Nov2020</td>\n",
       "      <td>10283822</td>\n",
       "      <td>SIR-F</td>\n",
       "      <td>1.86</td>\n",
       "      <td>0.00197784</td>\n",
       "      <td>0.000194203</td>\n",
       "      <td>0.0189481</td>\n",
       "      <td>0.00998163</td>\n",
       "      <td>360</td>\n",
       "      <td>0.002</td>\n",
       "      <td>13</td>\n",
       "      <td>25</td>\n",
       "      <td>1287</td>\n",
       "      <td>0.0208843</td>\n",
       "      <td>214</td>\n",
       "      <td>0 min 10 sec</td>\n",
       "    </tr>\n",
       "    <tr>\n",
       "      <th>11th</th>\n",
       "      <td>Past</td>\n",
       "      <td>05Nov2020</td>\n",
       "      <td>14Nov2020</td>\n",
       "      <td>10283822</td>\n",
       "      <td>SIR-F</td>\n",
       "      <td>1.69</td>\n",
       "      <td>0.00129257</td>\n",
       "      <td>0.000191072</td>\n",
       "      <td>0.019428</td>\n",
       "      <td>0.0112944</td>\n",
       "      <td>360</td>\n",
       "      <td>0.001</td>\n",
       "      <td>12</td>\n",
       "      <td>22</td>\n",
       "      <td>1308</td>\n",
       "      <td>0.0160099</td>\n",
       "      <td>307</td>\n",
       "      <td>0 min 10 sec</td>\n",
       "    </tr>\n",
       "    <tr>\n",
       "      <th>12th</th>\n",
       "      <td>Past</td>\n",
       "      <td>15Nov2020</td>\n",
       "      <td>25Nov2020</td>\n",
       "      <td>10283822</td>\n",
       "      <td>SIR-F</td>\n",
       "      <td>0.95</td>\n",
       "      <td>0.0037348</td>\n",
       "      <td>7.92095e-05</td>\n",
       "      <td>0.0189545</td>\n",
       "      <td>0.0198883</td>\n",
       "      <td>360</td>\n",
       "      <td>0.004</td>\n",
       "      <td>13</td>\n",
       "      <td>12</td>\n",
       "      <td>3156</td>\n",
       "      <td>0.0486252</td>\n",
       "      <td>233</td>\n",
       "      <td>0 min 10 sec</td>\n",
       "    </tr>\n",
       "    <tr>\n",
       "      <th>13th</th>\n",
       "      <td>Past</td>\n",
       "      <td>26Nov2020</td>\n",
       "      <td>02Dec2020</td>\n",
       "      <td>10283822</td>\n",
       "      <td>SIR-F</td>\n",
       "      <td>0.8</td>\n",
       "      <td>0.0010152</td>\n",
       "      <td>0.000150099</td>\n",
       "      <td>0.0142462</td>\n",
       "      <td>0.0175304</td>\n",
       "      <td>360</td>\n",
       "      <td>0.001</td>\n",
       "      <td>17</td>\n",
       "      <td>14</td>\n",
       "      <td>1665</td>\n",
       "      <td>0.0164996</td>\n",
       "      <td>225</td>\n",
       "      <td>0 min 10 sec</td>\n",
       "    </tr>\n",
       "    <tr>\n",
       "      <th>14th</th>\n",
       "      <td>Past</td>\n",
       "      <td>03Dec2020</td>\n",
       "      <td>09Dec2020</td>\n",
       "      <td>10283822</td>\n",
       "      <td>SIR-F</td>\n",
       "      <td>1.06</td>\n",
       "      <td>0.00197835</td>\n",
       "      <td>0.000193908</td>\n",
       "      <td>0.0127586</td>\n",
       "      <td>0.0118186</td>\n",
       "      <td>360</td>\n",
       "      <td>0.002</td>\n",
       "      <td>19</td>\n",
       "      <td>21</td>\n",
       "      <td>1289</td>\n",
       "      <td>0.0173077</td>\n",
       "      <td>228</td>\n",
       "      <td>0 min 10 sec</td>\n",
       "    </tr>\n",
       "    <tr>\n",
       "      <th>15th</th>\n",
       "      <td>Past</td>\n",
       "      <td>10Dec2020</td>\n",
       "      <td>15Dec2020</td>\n",
       "      <td>10283822</td>\n",
       "      <td>SIR-F</td>\n",
       "      <td>0.93</td>\n",
       "      <td>0.00449019</td>\n",
       "      <td>0.000298019</td>\n",
       "      <td>0.0152175</td>\n",
       "      <td>0.0160729</td>\n",
       "      <td>360</td>\n",
       "      <td>0.004</td>\n",
       "      <td>16</td>\n",
       "      <td>15</td>\n",
       "      <td>838</td>\n",
       "      <td>0.015225</td>\n",
       "      <td>239</td>\n",
       "      <td>0 min 10 sec</td>\n",
       "    </tr>\n",
       "    <tr>\n",
       "      <th>16th</th>\n",
       "      <td>Past</td>\n",
       "      <td>16Dec2020</td>\n",
       "      <td>21Dec2020</td>\n",
       "      <td>10283822</td>\n",
       "      <td>SIR-F</td>\n",
       "      <td>1.25</td>\n",
       "      <td>0.000298745</td>\n",
       "      <td>0.000230207</td>\n",
       "      <td>0.0147656</td>\n",
       "      <td>0.0115831</td>\n",
       "      <td>360</td>\n",
       "      <td>0</td>\n",
       "      <td>16</td>\n",
       "      <td>21</td>\n",
       "      <td>1085</td>\n",
       "      <td>0.00805313</td>\n",
       "      <td>338</td>\n",
       "      <td>0 min 10 sec</td>\n",
       "    </tr>\n",
       "    <tr>\n",
       "      <th>17th</th>\n",
       "      <td>Past</td>\n",
       "      <td>22Dec2020</td>\n",
       "      <td>28Dec2020</td>\n",
       "      <td>10283822</td>\n",
       "      <td>SIR-F</td>\n",
       "      <td>1.35</td>\n",
       "      <td>0.00202105</td>\n",
       "      <td>5.43317e-05</td>\n",
       "      <td>0.0138214</td>\n",
       "      <td>0.0101915</td>\n",
       "      <td>360</td>\n",
       "      <td>0.002</td>\n",
       "      <td>18</td>\n",
       "      <td>24</td>\n",
       "      <td>4601</td>\n",
       "      <td>0.0220278</td>\n",
       "      <td>225</td>\n",
       "      <td>0 min 10 sec</td>\n",
       "    </tr>\n",
       "  </tbody>\n",
       "</table>\n",
       "</div>"
      ],
      "text/plain": [
       "                Type      Start        End  Population    ODE      Rt  \\\n",
       "Country  Phase                                                          \n",
       "Germany  0th    Past  19Jan2020  23Mar2020    82905782  SIR-F   10.83   \n",
       "         1st    Past  24Mar2020  04Apr2020    82905782  SIR-F    4.98   \n",
       "         2nd    Past  05Apr2020  21Apr2020    82905782  SIR-F    0.55   \n",
       "         3rd    Past  22Apr2020  17Jun2020    82905782  SIR-F    0.54   \n",
       "         4th    Past  18Jun2020  15Aug2020    82905782  SIR-F    1.15   \n",
       "         5th    Past  16Aug2020  16Sep2020    82905782  SIR-F    1.31   \n",
       "         6th    Past  17Sep2020  08Oct2020    82905782  SIR-F    1.31   \n",
       "         7th    Past  09Oct2020  20Oct2020    82905782  SIR-F    3.13   \n",
       "         8th    Past  21Oct2020  27Oct2020    82905782  SIR-F    3.03   \n",
       "         9th    Past  28Oct2020  03Nov2020    82905782  SIR-F    2.25   \n",
       "         10th   Past  04Nov2020  10Nov2020    82905782  SIR-F    1.44   \n",
       "         11th   Past  11Nov2020  17Nov2020    82905782  SIR-F    1.07   \n",
       "         12th   Past  18Nov2020  24Nov2020    82905782  SIR-F    0.97   \n",
       "         13th   Past  25Nov2020  01Dec2020    82905782  SIR-F    0.91   \n",
       "         14th   Past  02Dec2020  08Dec2020    82905782      -       -   \n",
       "         15th   Past  09Dec2020  14Dec2020    82905782      -       -   \n",
       "         16th   Past  15Dec2020  20Dec2020    82905782      -       -   \n",
       "         17th   Past  21Dec2020  28Dec2020    82905782      -       -   \n",
       "Portugal 0th    Past  14Mar2020  03Apr2020    10283822  SIR-F  119.98   \n",
       "         1st    Past  04Apr2020  22Apr2020    10283822  SIR-F   10.24   \n",
       "         2nd    Past  23Apr2020  01Jun2020    10283822  SIR-F    1.17   \n",
       "         3rd    Past  02Jun2020  02Jul2020    10283822  SIR-F    1.23   \n",
       "         4th    Past  03Jul2020  11Aug2020    10283822  SIR-F    0.77   \n",
       "         5th    Past  12Aug2020  11Sep2020    10283822  SIR-F    1.74   \n",
       "         6th    Past  12Sep2020  30Sep2020    10283822  SIR-F    2.18   \n",
       "         7th    Past  01Oct2020  13Oct2020    10283822  SIR-F    2.34   \n",
       "         8th    Past  14Oct2020  21Oct2020    10283822  SIR-F       2   \n",
       "         9th    Past  22Oct2020  28Oct2020    10283822  SIR-F    1.89   \n",
       "         10th   Past  29Oct2020  04Nov2020    10283822  SIR-F    1.86   \n",
       "         11th   Past  05Nov2020  14Nov2020    10283822  SIR-F    1.69   \n",
       "         12th   Past  15Nov2020  25Nov2020    10283822  SIR-F    0.95   \n",
       "         13th   Past  26Nov2020  02Dec2020    10283822  SIR-F     0.8   \n",
       "         14th   Past  03Dec2020  09Dec2020    10283822  SIR-F    1.06   \n",
       "         15th   Past  10Dec2020  15Dec2020    10283822  SIR-F    0.93   \n",
       "         16th   Past  16Dec2020  21Dec2020    10283822  SIR-F    1.25   \n",
       "         17th   Past  22Dec2020  28Dec2020    10283822  SIR-F    1.35   \n",
       "\n",
       "                      theta        kappa         rho        sigma  tau  \\\n",
       "Country  Phase                                                           \n",
       "Germany  0th       0.217991    0.0018603   0.0376955  0.000861841  360   \n",
       "         1st      0.0352431  0.000559985   0.0227786   0.00385104  360   \n",
       "         2nd        0.03889  0.000481933   0.0120246    0.0206376  360   \n",
       "         3rd      0.0298719  6.74042e-05   0.0128801     0.023009  360   \n",
       "         4th     0.00379861  1.85307e-06   0.0162722    0.0141322  360   \n",
       "         5th     0.00156721  0.000191478   0.0163251    0.0122317  360   \n",
       "         6th     0.00159616  1.85307e-06   0.0182405    0.0138521  360   \n",
       "         7th    0.000676492  6.74045e-05   0.0257733   0.00815652  360   \n",
       "         8th     0.00261679  0.000301315   0.0272932   0.00868855  360   \n",
       "         9th    0.000120584   0.00022902   0.0181477   0.00781793  360   \n",
       "         10th   0.000182781  0.000228665   0.0176787    0.0120625  360   \n",
       "         11th    0.00533793  0.000180071   0.0173738    0.0159985  360   \n",
       "         12th    0.00547357   9.3087e-05   0.0170559     0.017396  360   \n",
       "         13th     0.0159733  0.000287581   0.0146569    0.0156222  360   \n",
       "         14th             -            -           -            -    -   \n",
       "         15th             -            -           -            -    -   \n",
       "         16th             -            -           -            -    -   \n",
       "         17th             -            -           -            -    -   \n",
       "Portugal 0th      0.0290181  9.34715e-05   0.0427256  0.000252305  360   \n",
       "         1st      0.0443534   0.00018007  0.00951214  0.000707438  360   \n",
       "         2nd     0.00352545  7.90633e-05  0.00436702   0.00364885  360   \n",
       "         3rd      0.0143551  0.000381157  0.00694812   0.00518633  360   \n",
       "         4th      0.0125176  0.000191151  0.00430917   0.00530533  360   \n",
       "         5th       0.021262  1.85179e-06  0.00459991   0.00258136  360   \n",
       "         6th    0.000930505  7.11252e-05  0.00742982   0.00333963  360   \n",
       "         7th      0.0024725  9.34529e-05  0.00928125   0.00386818  360   \n",
       "         8th    0.000988016  7.11254e-05   0.0139942   0.00692923  360   \n",
       "         9th     0.00179854   9.3087e-05   0.0177233    0.0092433  360   \n",
       "         10th    0.00197784  0.000194203   0.0189481   0.00998163  360   \n",
       "         11th    0.00129257  0.000191072    0.019428    0.0112944  360   \n",
       "         12th     0.0037348  7.92095e-05   0.0189545    0.0198883  360   \n",
       "         13th     0.0010152  0.000150099   0.0142462    0.0175304  360   \n",
       "         14th    0.00197835  0.000193908   0.0127586    0.0118186  360   \n",
       "         15th    0.00449019  0.000298019   0.0152175    0.0160729  360   \n",
       "         16th   0.000298745  0.000230207   0.0147656    0.0115831  360   \n",
       "         17th    0.00202105  5.43317e-05   0.0138214    0.0101915  360   \n",
       "\n",
       "               alpha1 [-] 1/beta [day] 1/gamma [day] 1/alpha2 [day]  \\\n",
       "Country  Phase                                                        \n",
       "Germany  0th        0.218            6           290            134   \n",
       "         1st        0.035           10            64            446   \n",
       "         2nd        0.039           20            12            518   \n",
       "         3rd         0.03           19            10           3708   \n",
       "         4th        0.004           15            17         134910   \n",
       "         5th        0.002           15            20           1305   \n",
       "         6th        0.002           13            18         134911   \n",
       "         7th        0.001            9            30           3708   \n",
       "         8th        0.003            9            28            829   \n",
       "         9th            0           13            31           1091   \n",
       "         10th           0           14            20           1093   \n",
       "         11th       0.005           14            15           1388   \n",
       "         12th       0.005           14            14           2685   \n",
       "         13th       0.016           17            16            869   \n",
       "         14th           -            -             -              -   \n",
       "         15th           -            -             -              -   \n",
       "         16th           -            -             -              -   \n",
       "         17th           -            -             -              -   \n",
       "Portugal 0th        0.029            5           990           2674   \n",
       "         1st        0.044           26           353           1388   \n",
       "         2nd        0.004           57            68           3162   \n",
       "         3rd        0.014           35            48            655   \n",
       "         4th        0.013           58            47           1307   \n",
       "         5th        0.021           54            96         135004   \n",
       "         6th        0.001           33            74           3514   \n",
       "         7th        0.002           26            64           2675   \n",
       "         8th        0.001           17            36           3514   \n",
       "         9th        0.002           14            27           2685   \n",
       "         10th       0.002           13            25           1287   \n",
       "         11th       0.001           12            22           1308   \n",
       "         12th       0.004           13            12           3156   \n",
       "         13th       0.001           17            14           1665   \n",
       "         14th       0.002           19            21           1289   \n",
       "         15th       0.004           16            15            838   \n",
       "         16th           0           16            21           1085   \n",
       "         17th       0.002           18            24           4601   \n",
       "\n",
       "                     RMSLE Trials       Runtime  \n",
       "Country  Phase                                   \n",
       "Germany  0th       1.77765    212  0 min 10 sec  \n",
       "         1st      0.164634    219  0 min 10 sec  \n",
       "         2nd      0.145999    226  0 min 10 sec  \n",
       "         3rd       0.10452    203  0 min 10 sec  \n",
       "         4th      0.115437    209  0 min 10 sec  \n",
       "         5th     0.0642426    284  0 min 10 sec  \n",
       "         6th     0.0313651    231  0 min 10 sec  \n",
       "         7th     0.0649835    227  0 min 10 sec  \n",
       "         8th     0.0196311    229  0 min 10 sec  \n",
       "         9th     0.0369756    233  0 min 10 sec  \n",
       "         10th    0.0247279    228  0 min 10 sec  \n",
       "         11th    0.0194167    229  0 min 10 sec  \n",
       "         12th    0.0228112    231  0 min 10 sec  \n",
       "         13th     0.027323    230  0 min 10 sec  \n",
       "         14th            -      -             -  \n",
       "         15th            -      -             -  \n",
       "         16th            -      -             -  \n",
       "         17th            -      -             -  \n",
       "Portugal 0th      0.750938    216  0 min 10 sec  \n",
       "         1st      0.125125    222  0 min 10 sec  \n",
       "         2nd      0.434569    171  0 min 10 sec  \n",
       "         3rd      0.106849    223  0 min 10 sec  \n",
       "         4th     0.0763246    212  0 min 10 sec  \n",
       "         5th     0.0252616    218  0 min 10 sec  \n",
       "         6th     0.0314448    207  0 min 10 sec  \n",
       "         7th    0.00927418    233  0 min 10 sec  \n",
       "         8th      0.013215    206  0 min 10 sec  \n",
       "         9th    0.00719118    234  0 min 10 sec  \n",
       "         10th    0.0208843    214  0 min 10 sec  \n",
       "         11th    0.0160099    307  0 min 10 sec  \n",
       "         12th    0.0486252    233  0 min 10 sec  \n",
       "         13th    0.0164996    225  0 min 10 sec  \n",
       "         14th    0.0173077    228  0 min 10 sec  \n",
       "         15th     0.015225    239  0 min 10 sec  \n",
       "         16th   0.00805313    338  0 min 10 sec  \n",
       "         17th    0.0220278    225  0 min 10 sec  "
      ]
     },
     "execution_count": 12,
     "metadata": {},
     "output_type": "execute_result"
    }
   ],
   "source": [
    "# Show summary\n",
    "analyser.summary(countries=countries_show)"
   ]
  },
  {
   "cell_type": "markdown",
   "metadata": {},
   "source": [
    "## Compare the history of parameters\n",
    "Here, compare the history of parameter values if countries."
   ]
  },
  {
   "cell_type": "code",
   "execution_count": 13,
   "metadata": {
    "collapsed": false
   },
   "outputs": [
    {
     "data": {
      "text/html": [
       "<div>\n",
       "<style scoped>\n",
       "    .dataframe tbody tr th:only-of-type {\n",
       "        vertical-align: middle;\n",
       "    }\n",
       "\n",
       "    .dataframe tbody tr th {\n",
       "        vertical-align: top;\n",
       "    }\n",
       "\n",
       "    .dataframe thead th {\n",
       "        text-align: right;\n",
       "    }\n",
       "</style>\n",
       "<table border=\"1\" class=\"dataframe\">\n",
       "  <thead>\n",
       "    <tr style=\"text-align: right;\">\n",
       "      <th></th>\n",
       "      <th>Date</th>\n",
       "      <th>Country</th>\n",
       "      <th>theta</th>\n",
       "      <th>kappa</th>\n",
       "      <th>rho</th>\n",
       "      <th>sigma</th>\n",
       "      <th>alpha1 [-]</th>\n",
       "      <th>1/alpha2 [day]</th>\n",
       "      <th>1/beta [day]</th>\n",
       "      <th>1/gamma [day]</th>\n",
       "      <th>...</th>\n",
       "      <th>Cancel_events</th>\n",
       "      <th>Gatherings_restrictions</th>\n",
       "      <th>Transport_closing</th>\n",
       "      <th>Stay_home_restrictions</th>\n",
       "      <th>Internal_movement_restrictions</th>\n",
       "      <th>International_movement_restrictions</th>\n",
       "      <th>Information_campaigns</th>\n",
       "      <th>Testing_policy</th>\n",
       "      <th>Contact_tracing</th>\n",
       "      <th>Stringency_index</th>\n",
       "    </tr>\n",
       "  </thead>\n",
       "  <tbody>\n",
       "    <tr>\n",
       "      <th>0</th>\n",
       "      <td>2020-03-17</td>\n",
       "      <td>Finland</td>\n",
       "      <td>0.000805788</td>\n",
       "      <td>0.000150044</td>\n",
       "      <td>0.0239823</td>\n",
       "      <td>0.00206762</td>\n",
       "      <td>0.001</td>\n",
       "      <td>1666</td>\n",
       "      <td>10</td>\n",
       "      <td>120</td>\n",
       "      <td>...</td>\n",
       "      <td>2</td>\n",
       "      <td>4</td>\n",
       "      <td>0</td>\n",
       "      <td>1</td>\n",
       "      <td>1</td>\n",
       "      <td>4</td>\n",
       "      <td>2</td>\n",
       "      <td>1</td>\n",
       "      <td>1</td>\n",
       "      <td>57.41</td>\n",
       "    </tr>\n",
       "    <tr>\n",
       "      <th>1</th>\n",
       "      <td>2020-03-18</td>\n",
       "      <td>Finland</td>\n",
       "      <td>0.000805788</td>\n",
       "      <td>0.000150044</td>\n",
       "      <td>0.0239823</td>\n",
       "      <td>0.00206762</td>\n",
       "      <td>0.001</td>\n",
       "      <td>1666</td>\n",
       "      <td>10</td>\n",
       "      <td>120</td>\n",
       "      <td>...</td>\n",
       "      <td>2</td>\n",
       "      <td>4</td>\n",
       "      <td>0</td>\n",
       "      <td>1</td>\n",
       "      <td>1</td>\n",
       "      <td>4</td>\n",
       "      <td>2</td>\n",
       "      <td>1</td>\n",
       "      <td>1</td>\n",
       "      <td>64.81</td>\n",
       "    </tr>\n",
       "    <tr>\n",
       "      <th>2</th>\n",
       "      <td>2020-03-19</td>\n",
       "      <td>Finland</td>\n",
       "      <td>0.000805788</td>\n",
       "      <td>0.000150044</td>\n",
       "      <td>0.0239823</td>\n",
       "      <td>0.00206762</td>\n",
       "      <td>0.001</td>\n",
       "      <td>1666</td>\n",
       "      <td>10</td>\n",
       "      <td>120</td>\n",
       "      <td>...</td>\n",
       "      <td>2</td>\n",
       "      <td>4</td>\n",
       "      <td>0</td>\n",
       "      <td>1</td>\n",
       "      <td>1</td>\n",
       "      <td>4</td>\n",
       "      <td>2</td>\n",
       "      <td>1</td>\n",
       "      <td>1</td>\n",
       "      <td>64.81</td>\n",
       "    </tr>\n",
       "    <tr>\n",
       "      <th>3</th>\n",
       "      <td>2020-03-20</td>\n",
       "      <td>Finland</td>\n",
       "      <td>0.000805788</td>\n",
       "      <td>0.000150044</td>\n",
       "      <td>0.0239823</td>\n",
       "      <td>0.00206762</td>\n",
       "      <td>0.001</td>\n",
       "      <td>1666</td>\n",
       "      <td>10</td>\n",
       "      <td>120</td>\n",
       "      <td>...</td>\n",
       "      <td>2</td>\n",
       "      <td>4</td>\n",
       "      <td>0</td>\n",
       "      <td>1</td>\n",
       "      <td>1</td>\n",
       "      <td>4</td>\n",
       "      <td>2</td>\n",
       "      <td>1</td>\n",
       "      <td>1</td>\n",
       "      <td>64.81</td>\n",
       "    </tr>\n",
       "    <tr>\n",
       "      <th>4</th>\n",
       "      <td>2020-03-21</td>\n",
       "      <td>Finland</td>\n",
       "      <td>0.000805788</td>\n",
       "      <td>0.000150044</td>\n",
       "      <td>0.0239823</td>\n",
       "      <td>0.00206762</td>\n",
       "      <td>0.001</td>\n",
       "      <td>1666</td>\n",
       "      <td>10</td>\n",
       "      <td>120</td>\n",
       "      <td>...</td>\n",
       "      <td>2</td>\n",
       "      <td>4</td>\n",
       "      <td>0</td>\n",
       "      <td>1</td>\n",
       "      <td>1</td>\n",
       "      <td>4</td>\n",
       "      <td>2</td>\n",
       "      <td>1</td>\n",
       "      <td>1</td>\n",
       "      <td>64.81</td>\n",
       "    </tr>\n",
       "  </tbody>\n",
       "</table>\n",
       "<p>5 rows × 23 columns</p>\n",
       "</div>"
      ],
      "text/plain": [
       "        Date  Country        theta        kappa        rho       sigma  \\\n",
       "0 2020-03-17  Finland  0.000805788  0.000150044  0.0239823  0.00206762   \n",
       "1 2020-03-18  Finland  0.000805788  0.000150044  0.0239823  0.00206762   \n",
       "2 2020-03-19  Finland  0.000805788  0.000150044  0.0239823  0.00206762   \n",
       "3 2020-03-20  Finland  0.000805788  0.000150044  0.0239823  0.00206762   \n",
       "4 2020-03-21  Finland  0.000805788  0.000150044  0.0239823  0.00206762   \n",
       "\n",
       "  alpha1 [-] 1/alpha2 [day] 1/beta [day] 1/gamma [day]  ... Cancel_events  \\\n",
       "0      0.001           1666           10           120  ...             2   \n",
       "1      0.001           1666           10           120  ...             2   \n",
       "2      0.001           1666           10           120  ...             2   \n",
       "3      0.001           1666           10           120  ...             2   \n",
       "4      0.001           1666           10           120  ...             2   \n",
       "\n",
       "   Gatherings_restrictions  Transport_closing  Stay_home_restrictions  \\\n",
       "0                        4                  0                       1   \n",
       "1                        4                  0                       1   \n",
       "2                        4                  0                       1   \n",
       "3                        4                  0                       1   \n",
       "4                        4                  0                       1   \n",
       "\n",
       "   Internal_movement_restrictions  International_movement_restrictions  \\\n",
       "0                               1                                    4   \n",
       "1                               1                                    4   \n",
       "2                               1                                    4   \n",
       "3                               1                                    4   \n",
       "4                               1                                    4   \n",
       "\n",
       "   Information_campaigns  Testing_policy  Contact_tracing  Stringency_index  \n",
       "0                      2               1                1             57.41  \n",
       "1                      2               1                1             64.81  \n",
       "2                      2               1                1             64.81  \n",
       "3                      2               1                1             64.81  \n",
       "4                      2               1                1             64.81  \n",
       "\n",
       "[5 rows x 23 columns]"
      ]
     },
     "execution_count": 13,
     "metadata": {},
     "output_type": "execute_result"
    }
   ],
   "source": [
    "# All parameter/day parameter/Rt/OxCGRT\n",
    "analyser.track().head()"
   ]
  },
  {
   "cell_type": "markdown",
   "metadata": {},
   "source": [
    "### $Rt$: Reprodcution number $\\mathrm{[-]}$"
   ]
  },
  {
   "cell_type": "code",
   "execution_count": 14,
   "metadata": {
    "collapsed": false
   },
   "outputs": [
    {
     "data": {
      "image/png": "[encoded data removed]",
      "text/plain": [
       "<Figure size 648x432 with 1 Axes>"
      ]
     },
     "metadata": {},
     "output_type": "display_data"
    },
    {
     "data": {
      "text/html": [
       "<div>\n",
       "<style scoped>\n",
       "    .dataframe tbody tr th:only-of-type {\n",
       "        vertical-align: middle;\n",
       "    }\n",
       "\n",
       "    .dataframe tbody tr th {\n",
       "        vertical-align: top;\n",
       "    }\n",
       "\n",
       "    .dataframe thead th {\n",
       "        text-align: right;\n",
       "    }\n",
       "</style>\n",
       "<table border=\"1\" class=\"dataframe\">\n",
       "  <thead>\n",
       "    <tr style=\"text-align: right;\">\n",
       "      <th>Country</th>\n",
       "      <th>Finland</th>\n",
       "      <th>Germany</th>\n",
       "      <th>Norway</th>\n",
       "      <th>Portugal</th>\n",
       "      <th>United Kingdom</th>\n",
       "    </tr>\n",
       "    <tr>\n",
       "      <th>Date</th>\n",
       "      <th></th>\n",
       "      <th></th>\n",
       "      <th></th>\n",
       "      <th></th>\n",
       "      <th></th>\n",
       "    </tr>\n",
       "  </thead>\n",
       "  <tbody>\n",
       "    <tr>\n",
       "      <th>2020-12-24</th>\n",
       "      <td>0.39</td>\n",
       "      <td>0.91</td>\n",
       "      <td>0.8</td>\n",
       "      <td>1.35</td>\n",
       "      <td>2.08</td>\n",
       "    </tr>\n",
       "    <tr>\n",
       "      <th>2020-12-25</th>\n",
       "      <td>0.39</td>\n",
       "      <td>0.91</td>\n",
       "      <td>0.8</td>\n",
       "      <td>1.35</td>\n",
       "      <td>2.08</td>\n",
       "    </tr>\n",
       "    <tr>\n",
       "      <th>2020-12-26</th>\n",
       "      <td>0.39</td>\n",
       "      <td>0.91</td>\n",
       "      <td>0.8</td>\n",
       "      <td>1.35</td>\n",
       "      <td>2.08</td>\n",
       "    </tr>\n",
       "    <tr>\n",
       "      <th>2020-12-27</th>\n",
       "      <td>0.39</td>\n",
       "      <td>0.91</td>\n",
       "      <td>0.8</td>\n",
       "      <td>1.35</td>\n",
       "      <td>2.08</td>\n",
       "    </tr>\n",
       "    <tr>\n",
       "      <th>2020-12-28</th>\n",
       "      <td>0.39</td>\n",
       "      <td>0.91</td>\n",
       "      <td>0.8</td>\n",
       "      <td>1.35</td>\n",
       "      <td>2.08</td>\n",
       "    </tr>\n",
       "  </tbody>\n",
       "</table>\n",
       "</div>"
      ],
      "text/plain": [
       "Country     Finland  Germany  Norway  Portugal  United Kingdom\n",
       "Date                                                          \n",
       "2020-12-24     0.39     0.91     0.8      1.35            2.08\n",
       "2020-12-25     0.39     0.91     0.8      1.35            2.08\n",
       "2020-12-26     0.39     0.91     0.8      1.35            2.08\n",
       "2020-12-27     0.39     0.91     0.8      1.35            2.08\n",
       "2020-12-28     0.39     0.91     0.8      1.35            2.08"
      ]
     },
     "execution_count": 14,
     "metadata": {},
     "output_type": "execute_result"
    }
   ],
   "source": [
    "analyser.history(\"Rt\", roll_window=None).tail()"
   ]
  },
  {
   "cell_type": "markdown",
   "metadata": {},
   "source": [
    "### $\\rho$: Effective contact rate $\\mathrm{[-]}$"
   ]
  },
  {
   "cell_type": "code",
   "execution_count": 15,
   "metadata": {
    "collapsed": false
   },
   "outputs": [
    {
     "data": {
      "image/png": "[encoded data removed]",
      "text/plain": [
       "<Figure size 648x432 with 1 Axes>"
      ]
     },
     "metadata": {},
     "output_type": "display_data"
    },
    {
     "data": {
      "text/html": [
       "<div>\n",
       "<style scoped>\n",
       "    .dataframe tbody tr th:only-of-type {\n",
       "        vertical-align: middle;\n",
       "    }\n",
       "\n",
       "    .dataframe tbody tr th {\n",
       "        vertical-align: top;\n",
       "    }\n",
       "\n",
       "    .dataframe thead th {\n",
       "        text-align: right;\n",
       "    }\n",
       "</style>\n",
       "<table border=\"1\" class=\"dataframe\">\n",
       "  <thead>\n",
       "    <tr style=\"text-align: right;\">\n",
       "      <th>Country</th>\n",
       "      <th>Finland</th>\n",
       "      <th>Germany</th>\n",
       "      <th>Norway</th>\n",
       "      <th>Portugal</th>\n",
       "      <th>United Kingdom</th>\n",
       "    </tr>\n",
       "    <tr>\n",
       "      <th>Date</th>\n",
       "      <th></th>\n",
       "      <th></th>\n",
       "      <th></th>\n",
       "      <th></th>\n",
       "      <th></th>\n",
       "    </tr>\n",
       "  </thead>\n",
       "  <tbody>\n",
       "    <tr>\n",
       "      <th>2020-12-24</th>\n",
       "      <td>0.008086</td>\n",
       "      <td>0.014657</td>\n",
       "      <td>0.014418</td>\n",
       "      <td>0.013821</td>\n",
       "      <td>0.021792</td>\n",
       "    </tr>\n",
       "    <tr>\n",
       "      <th>2020-12-25</th>\n",
       "      <td>0.008086</td>\n",
       "      <td>0.014657</td>\n",
       "      <td>0.014418</td>\n",
       "      <td>0.013821</td>\n",
       "      <td>0.021792</td>\n",
       "    </tr>\n",
       "    <tr>\n",
       "      <th>2020-12-26</th>\n",
       "      <td>0.008086</td>\n",
       "      <td>0.014657</td>\n",
       "      <td>0.014418</td>\n",
       "      <td>0.013821</td>\n",
       "      <td>0.021792</td>\n",
       "    </tr>\n",
       "    <tr>\n",
       "      <th>2020-12-27</th>\n",
       "      <td>0.008086</td>\n",
       "      <td>0.014657</td>\n",
       "      <td>0.014418</td>\n",
       "      <td>0.013821</td>\n",
       "      <td>0.021792</td>\n",
       "    </tr>\n",
       "    <tr>\n",
       "      <th>2020-12-28</th>\n",
       "      <td>0.008086</td>\n",
       "      <td>0.014657</td>\n",
       "      <td>0.014418</td>\n",
       "      <td>0.013821</td>\n",
       "      <td>0.021792</td>\n",
       "    </tr>\n",
       "  </tbody>\n",
       "</table>\n",
       "</div>"
      ],
      "text/plain": [
       "Country      Finland   Germany    Norway  Portugal  United Kingdom\n",
       "Date                                                              \n",
       "2020-12-24  0.008086  0.014657  0.014418  0.013821        0.021792\n",
       "2020-12-25  0.008086  0.014657  0.014418  0.013821        0.021792\n",
       "2020-12-26  0.008086  0.014657  0.014418  0.013821        0.021792\n",
       "2020-12-27  0.008086  0.014657  0.014418  0.013821        0.021792\n",
       "2020-12-28  0.008086  0.014657  0.014418  0.013821        0.021792"
      ]
     },
     "execution_count": 15,
     "metadata": {},
     "output_type": "execute_result"
    }
   ],
   "source": [
    "analyser.history(\"rho\", roll_window=None).tail()"
   ]
  },
  {
   "cell_type": "markdown",
   "metadata": {},
   "source": [
    "### $\\sigma$: Recovery rate $\\mathrm{[-]}$"
   ]
  },
  {
   "cell_type": "code",
   "execution_count": 16,
   "metadata": {
    "collapsed": false
   },
   "outputs": [
    {
     "data": {
      "image/png": "[encoded data removed]",
      "text/plain": [
       "<Figure size 648x432 with 1 Axes>"
      ]
     },
     "metadata": {},
     "output_type": "display_data"
    },
    {
     "data": {
      "text/html": [
       "<div>\n",
       "<style scoped>\n",
       "    .dataframe tbody tr th:only-of-type {\n",
       "        vertical-align: middle;\n",
       "    }\n",
       "\n",
       "    .dataframe tbody tr th {\n",
       "        vertical-align: top;\n",
       "    }\n",
       "\n",
       "    .dataframe thead th {\n",
       "        text-align: right;\n",
       "    }\n",
       "</style>\n",
       "<table border=\"1\" class=\"dataframe\">\n",
       "  <thead>\n",
       "    <tr style=\"text-align: right;\">\n",
       "      <th>Country</th>\n",
       "      <th>Finland</th>\n",
       "      <th>Germany</th>\n",
       "      <th>Norway</th>\n",
       "      <th>Portugal</th>\n",
       "      <th>United Kingdom</th>\n",
       "    </tr>\n",
       "    <tr>\n",
       "      <th>Date</th>\n",
       "      <th></th>\n",
       "      <th></th>\n",
       "      <th></th>\n",
       "      <th></th>\n",
       "      <th></th>\n",
       "    </tr>\n",
       "  </thead>\n",
       "  <tbody>\n",
       "    <tr>\n",
       "      <th>2020-12-24</th>\n",
       "      <td>0.020898</td>\n",
       "      <td>0.015622</td>\n",
       "      <td>0.017822</td>\n",
       "      <td>0.010192</td>\n",
       "      <td>0.009981</td>\n",
       "    </tr>\n",
       "    <tr>\n",
       "      <th>2020-12-25</th>\n",
       "      <td>0.020898</td>\n",
       "      <td>0.015622</td>\n",
       "      <td>0.017822</td>\n",
       "      <td>0.010192</td>\n",
       "      <td>0.009981</td>\n",
       "    </tr>\n",
       "    <tr>\n",
       "      <th>2020-12-26</th>\n",
       "      <td>0.020898</td>\n",
       "      <td>0.015622</td>\n",
       "      <td>0.017822</td>\n",
       "      <td>0.010192</td>\n",
       "      <td>0.009981</td>\n",
       "    </tr>\n",
       "    <tr>\n",
       "      <th>2020-12-27</th>\n",
       "      <td>0.020898</td>\n",
       "      <td>0.015622</td>\n",
       "      <td>0.017822</td>\n",
       "      <td>0.010192</td>\n",
       "      <td>0.009981</td>\n",
       "    </tr>\n",
       "    <tr>\n",
       "      <th>2020-12-28</th>\n",
       "      <td>0.020898</td>\n",
       "      <td>0.015622</td>\n",
       "      <td>0.017822</td>\n",
       "      <td>0.010192</td>\n",
       "      <td>0.009981</td>\n",
       "    </tr>\n",
       "  </tbody>\n",
       "</table>\n",
       "</div>"
      ],
      "text/plain": [
       "Country      Finland   Germany    Norway  Portugal  United Kingdom\n",
       "Date                                                              \n",
       "2020-12-24  0.020898  0.015622  0.017822  0.010192        0.009981\n",
       "2020-12-25  0.020898  0.015622  0.017822  0.010192        0.009981\n",
       "2020-12-26  0.020898  0.015622  0.017822  0.010192        0.009981\n",
       "2020-12-27  0.020898  0.015622  0.017822  0.010192        0.009981\n",
       "2020-12-28  0.020898  0.015622  0.017822  0.010192        0.009981"
      ]
     },
     "execution_count": 16,
     "metadata": {},
     "output_type": "execute_result"
    }
   ],
   "source": [
    "analyser.history(\"sigma\", roll_window=None).tail()"
   ]
  },
  {
   "cell_type": "markdown",
   "metadata": {},
   "source": [
    "### $\\kappa$: Mortality rate of infected cases $\\mathrm{[-]}$"
   ]
  },
  {
   "cell_type": "code",
   "execution_count": 17,
   "metadata": {
    "collapsed": false
   },
   "outputs": [
    {
     "data": {
      "image/png": "[encoded data removed]",
      "text/plain": [
       "<Figure size 648x432 with 1 Axes>"
      ]
     },
     "metadata": {},
     "output_type": "display_data"
    },
    {
     "data": {
      "text/html": [
       "<div>\n",
       "<style scoped>\n",
       "    .dataframe tbody tr th:only-of-type {\n",
       "        vertical-align: middle;\n",
       "    }\n",
       "\n",
       "    .dataframe tbody tr th {\n",
       "        vertical-align: top;\n",
       "    }\n",
       "\n",
       "    .dataframe thead th {\n",
       "        text-align: right;\n",
       "    }\n",
       "</style>\n",
       "<table border=\"1\" class=\"dataframe\">\n",
       "  <thead>\n",
       "    <tr style=\"text-align: right;\">\n",
       "      <th>Country</th>\n",
       "      <th>Finland</th>\n",
       "      <th>Germany</th>\n",
       "      <th>Norway</th>\n",
       "      <th>Portugal</th>\n",
       "      <th>United Kingdom</th>\n",
       "    </tr>\n",
       "    <tr>\n",
       "      <th>Date</th>\n",
       "      <th></th>\n",
       "      <th></th>\n",
       "      <th></th>\n",
       "      <th></th>\n",
       "      <th></th>\n",
       "    </tr>\n",
       "  </thead>\n",
       "  <tbody>\n",
       "    <tr>\n",
       "      <th>2020-12-24</th>\n",
       "      <td>0.000071</td>\n",
       "      <td>0.000288</td>\n",
       "      <td>0.000194</td>\n",
       "      <td>0.000054</td>\n",
       "      <td>0.000485</td>\n",
       "    </tr>\n",
       "    <tr>\n",
       "      <th>2020-12-25</th>\n",
       "      <td>0.000071</td>\n",
       "      <td>0.000288</td>\n",
       "      <td>0.000194</td>\n",
       "      <td>0.000054</td>\n",
       "      <td>0.000485</td>\n",
       "    </tr>\n",
       "    <tr>\n",
       "      <th>2020-12-26</th>\n",
       "      <td>0.000071</td>\n",
       "      <td>0.000288</td>\n",
       "      <td>0.000194</td>\n",
       "      <td>0.000054</td>\n",
       "      <td>0.000485</td>\n",
       "    </tr>\n",
       "    <tr>\n",
       "      <th>2020-12-27</th>\n",
       "      <td>0.000071</td>\n",
       "      <td>0.000288</td>\n",
       "      <td>0.000194</td>\n",
       "      <td>0.000054</td>\n",
       "      <td>0.000485</td>\n",
       "    </tr>\n",
       "    <tr>\n",
       "      <th>2020-12-28</th>\n",
       "      <td>0.000071</td>\n",
       "      <td>0.000288</td>\n",
       "      <td>0.000194</td>\n",
       "      <td>0.000054</td>\n",
       "      <td>0.000485</td>\n",
       "    </tr>\n",
       "  </tbody>\n",
       "</table>\n",
       "</div>"
      ],
      "text/plain": [
       "Country      Finland   Germany    Norway  Portugal  United Kingdom\n",
       "Date                                                              \n",
       "2020-12-24  0.000071  0.000288  0.000194  0.000054        0.000485\n",
       "2020-12-25  0.000071  0.000288  0.000194  0.000054        0.000485\n",
       "2020-12-26  0.000071  0.000288  0.000194  0.000054        0.000485\n",
       "2020-12-27  0.000071  0.000288  0.000194  0.000054        0.000485\n",
       "2020-12-28  0.000071  0.000288  0.000194  0.000054        0.000485"
      ]
     },
     "execution_count": 17,
     "metadata": {},
     "output_type": "execute_result"
    }
   ],
   "source": [
    "analyser.history(\"kappa\", roll_window=None).tail()"
   ]
  },
  {
   "cell_type": "markdown",
   "metadata": {},
   "source": [
    "### $\\theta$: Mortality rate of S$^\\ast$ cases $\\mathrm{[-]}$"
   ]
  },
  {
   "cell_type": "code",
   "execution_count": 18,
   "metadata": {
    "collapsed": false
   },
   "outputs": [
    {
     "data": {
      "image/png": "[encoded data removed]",
      "text/plain": [
       "<Figure size 648x432 with 1 Axes>"
      ]
     },
     "metadata": {},
     "output_type": "display_data"
    },
    {
     "data": {
      "text/html": [
       "<div>\n",
       "<style scoped>\n",
       "    .dataframe tbody tr th:only-of-type {\n",
       "        vertical-align: middle;\n",
       "    }\n",
       "\n",
       "    .dataframe tbody tr th {\n",
       "        vertical-align: top;\n",
       "    }\n",
       "\n",
       "    .dataframe thead th {\n",
       "        text-align: right;\n",
       "    }\n",
       "</style>\n",
       "<table border=\"1\" class=\"dataframe\">\n",
       "  <thead>\n",
       "    <tr style=\"text-align: right;\">\n",
       "      <th>Country</th>\n",
       "      <th>Finland</th>\n",
       "      <th>Germany</th>\n",
       "      <th>Norway</th>\n",
       "      <th>Portugal</th>\n",
       "      <th>United Kingdom</th>\n",
       "    </tr>\n",
       "    <tr>\n",
       "      <th>Date</th>\n",
       "      <th></th>\n",
       "      <th></th>\n",
       "      <th></th>\n",
       "      <th></th>\n",
       "      <th></th>\n",
       "    </tr>\n",
       "  </thead>\n",
       "  <tbody>\n",
       "    <tr>\n",
       "      <th>2020-12-24</th>\n",
       "      <td>0.00119</td>\n",
       "      <td>0.015973</td>\n",
       "      <td>0.001759</td>\n",
       "      <td>0.002021</td>\n",
       "      <td>0.001442</td>\n",
       "    </tr>\n",
       "    <tr>\n",
       "      <th>2020-12-25</th>\n",
       "      <td>0.00119</td>\n",
       "      <td>0.015973</td>\n",
       "      <td>0.001759</td>\n",
       "      <td>0.002021</td>\n",
       "      <td>0.001442</td>\n",
       "    </tr>\n",
       "    <tr>\n",
       "      <th>2020-12-26</th>\n",
       "      <td>0.00119</td>\n",
       "      <td>0.015973</td>\n",
       "      <td>0.001759</td>\n",
       "      <td>0.002021</td>\n",
       "      <td>0.001442</td>\n",
       "    </tr>\n",
       "    <tr>\n",
       "      <th>2020-12-27</th>\n",
       "      <td>0.00119</td>\n",
       "      <td>0.015973</td>\n",
       "      <td>0.001759</td>\n",
       "      <td>0.002021</td>\n",
       "      <td>0.001442</td>\n",
       "    </tr>\n",
       "    <tr>\n",
       "      <th>2020-12-28</th>\n",
       "      <td>0.00119</td>\n",
       "      <td>0.015973</td>\n",
       "      <td>0.001759</td>\n",
       "      <td>0.002021</td>\n",
       "      <td>0.001442</td>\n",
       "    </tr>\n",
       "  </tbody>\n",
       "</table>\n",
       "</div>"
      ],
      "text/plain": [
       "Country     Finland   Germany    Norway  Portugal  United Kingdom\n",
       "Date                                                             \n",
       "2020-12-24  0.00119  0.015973  0.001759  0.002021        0.001442\n",
       "2020-12-25  0.00119  0.015973  0.001759  0.002021        0.001442\n",
       "2020-12-26  0.00119  0.015973  0.001759  0.002021        0.001442\n",
       "2020-12-27  0.00119  0.015973  0.001759  0.002021        0.001442\n",
       "2020-12-28  0.00119  0.015973  0.001759  0.002021        0.001442"
      ]
     },
     "execution_count": 18,
     "metadata": {},
     "output_type": "execute_result"
    }
   ],
   "source": [
    "analyser.history(\"theta\", roll_window=None).tail()"
   ]
  },
  {
   "cell_type": "markdown",
   "metadata": {},
   "source": [
    "## (Experimental): Relationship of OxCGRT index and parameter values\n",
    "Government responses will impact on parameter values of ODE models about 14 days later. Here, we will investigate on the relationship of [stringency index (from OxCGRT)](https://github.com/OxCGRT/covid-policy-tracker/blob/master/documentation/index_methodology.md) and reproduction number/model parameters.\n"
   ]
  },
  {
   "cell_type": "code",
   "execution_count": 19,
   "metadata": {
    "collapsed": false
   },
   "outputs": [],
   "source": [
    "%matplotlib inline\n",
    "from matplotlib import pyplot as plt\n",
    "import seaborn as sns\n",
    "import pandas as pd"
   ]
  },
  {
   "cell_type": "code",
   "execution_count": 20,
   "metadata": {
    "collapsed": false
   },
   "outputs": [
    {
     "name": "stdout",
     "output_type": "stream",
     "text": [
      "<class 'pandas.core.frame.DataFrame'>\n",
      "Int64Index: 16131 entries, 0 to 16186\n",
      "Data columns (total 19 columns):\n",
      " #   Column                               Non-Null Count  Dtype         \n",
      "---  ------                               --------------  -----         \n",
      " 0   Date                                 16131 non-null  datetime64[ns]\n",
      " 1   Country                              16131 non-null  object        \n",
      " 2   Rt                                   16131 non-null  float64       \n",
      " 3   theta                                16131 non-null  float64       \n",
      " 4   kappa                                16131 non-null  float64       \n",
      " 5   rho                                  16131 non-null  float64       \n",
      " 6   sigma                                16131 non-null  float64       \n",
      " 7   School_closing                       16131 non-null  int64         \n",
      " 8   Workplace_closing                    16131 non-null  int64         \n",
      " 9   Cancel_events                        16131 non-null  int64         \n",
      " 10  Gatherings_restrictions              16131 non-null  int64         \n",
      " 11  Transport_closing                    16131 non-null  int64         \n",
      " 12  Stay_home_restrictions               16131 non-null  int64         \n",
      " 13  Internal_movement_restrictions       16131 non-null  int64         \n",
      " 14  International_movement_restrictions  16131 non-null  int64         \n",
      " 15  Information_campaigns                16131 non-null  int64         \n",
      " 16  Testing_policy                       16131 non-null  int64         \n",
      " 17  Contact_tracing                      16131 non-null  int64         \n",
      " 18  Stringency_index                     16131 non-null  float64       \n",
      "dtypes: datetime64[ns](1), float64(6), int64(11), object(1)\n",
      "memory usage: 2.5+ MB\n"
     ]
    }
   ],
   "source": [
    "df = analyser.track()\n",
    "param_cols = [\"Rt\", *cs.SIRF.PARAMETERS]\n",
    "oxcgrt_cols = oxcgrt_data.OXCGRT_VARS[:]\n",
    "cols = param_cols + oxcgrt_cols\n",
    "delay = 14\n",
    "\n",
    "for col in param_cols:\n",
    "    df[col] = pd.to_numeric(df[col], errors=\"coerce\")\n",
    "    df[col] = df.groupby(\"Country\")[col].shift(0 - delay)\n",
    "\n",
    "df = df.dropna(how=\"any\")\n",
    "df = df.loc[:, [\"Date\", \"Country\", *cols]]\n",
    "track_df = df.copy()\n",
    "track_df.info()"
   ]
  },
  {
   "cell_type": "code",
   "execution_count": 21,
   "metadata": {
    "collapsed": false
   },
   "outputs": [
    {
     "data": {
      "text/html": [
       "<style  type=\"text/css\" >\n",
       "#T_d0046a5a_4926_11eb_aef4_52540062e98frow0_col0,#T_d0046a5a_4926_11eb_aef4_52540062e98frow1_col1,#T_d0046a5a_4926_11eb_aef4_52540062e98frow2_col2,#T_d0046a5a_4926_11eb_aef4_52540062e98frow3_col3,#T_d0046a5a_4926_11eb_aef4_52540062e98frow4_col4,#T_d0046a5a_4926_11eb_aef4_52540062e98frow5_col5,#T_d0046a5a_4926_11eb_aef4_52540062e98frow6_col6,#T_d0046a5a_4926_11eb_aef4_52540062e98frow7_col7,#T_d0046a5a_4926_11eb_aef4_52540062e98frow8_col8,#T_d0046a5a_4926_11eb_aef4_52540062e98frow9_col9,#T_d0046a5a_4926_11eb_aef4_52540062e98frow10_col10,#T_d0046a5a_4926_11eb_aef4_52540062e98frow11_col11,#T_d0046a5a_4926_11eb_aef4_52540062e98frow12_col12,#T_d0046a5a_4926_11eb_aef4_52540062e98frow13_col13,#T_d0046a5a_4926_11eb_aef4_52540062e98frow14_col14,#T_d0046a5a_4926_11eb_aef4_52540062e98frow15_col15,#T_d0046a5a_4926_11eb_aef4_52540062e98frow16_col16{\n",
       "            background-color:  #023858;\n",
       "            color:  #f1f1f1;\n",
       "        }#T_d0046a5a_4926_11eb_aef4_52540062e98frow0_col1,#T_d0046a5a_4926_11eb_aef4_52540062e98frow1_col0{\n",
       "            background-color:  #81aed2;\n",
       "            color:  #000000;\n",
       "        }#T_d0046a5a_4926_11eb_aef4_52540062e98frow0_col2,#T_d0046a5a_4926_11eb_aef4_52540062e98frow2_col0{\n",
       "            background-color:  #76aad0;\n",
       "            color:  #000000;\n",
       "        }#T_d0046a5a_4926_11eb_aef4_52540062e98frow0_col3,#T_d0046a5a_4926_11eb_aef4_52540062e98frow3_col0{\n",
       "            background-color:  #045e94;\n",
       "            color:  #f1f1f1;\n",
       "        }#T_d0046a5a_4926_11eb_aef4_52540062e98frow0_col4,#T_d0046a5a_4926_11eb_aef4_52540062e98frow2_col12,#T_d0046a5a_4926_11eb_aef4_52540062e98frow4_col0,#T_d0046a5a_4926_11eb_aef4_52540062e98frow12_col2{\n",
       "            background-color:  #f1ebf4;\n",
       "            color:  #000000;\n",
       "        }#T_d0046a5a_4926_11eb_aef4_52540062e98frow0_col5,#T_d0046a5a_4926_11eb_aef4_52540062e98frow5_col0{\n",
       "            background-color:  #b0c2de;\n",
       "            color:  #000000;\n",
       "        }#T_d0046a5a_4926_11eb_aef4_52540062e98frow0_col6,#T_d0046a5a_4926_11eb_aef4_52540062e98frow6_col0{\n",
       "            background-color:  #bdc8e1;\n",
       "            color:  #000000;\n",
       "        }#T_d0046a5a_4926_11eb_aef4_52540062e98frow0_col7,#T_d0046a5a_4926_11eb_aef4_52540062e98frow2_col4,#T_d0046a5a_4926_11eb_aef4_52540062e98frow4_col2,#T_d0046a5a_4926_11eb_aef4_52540062e98frow7_col0{\n",
       "            background-color:  #e6e2ef;\n",
       "            color:  #000000;\n",
       "        }#T_d0046a5a_4926_11eb_aef4_52540062e98frow0_col8,#T_d0046a5a_4926_11eb_aef4_52540062e98frow1_col6,#T_d0046a5a_4926_11eb_aef4_52540062e98frow6_col1,#T_d0046a5a_4926_11eb_aef4_52540062e98frow8_col0{\n",
       "            background-color:  #e7e3f0;\n",
       "            color:  #000000;\n",
       "        }#T_d0046a5a_4926_11eb_aef4_52540062e98frow0_col9,#T_d0046a5a_4926_11eb_aef4_52540062e98frow0_col10,#T_d0046a5a_4926_11eb_aef4_52540062e98frow0_col13,#T_d0046a5a_4926_11eb_aef4_52540062e98frow9_col0,#T_d0046a5a_4926_11eb_aef4_52540062e98frow10_col0,#T_d0046a5a_4926_11eb_aef4_52540062e98frow11_col15,#T_d0046a5a_4926_11eb_aef4_52540062e98frow13_col0,#T_d0046a5a_4926_11eb_aef4_52540062e98frow15_col11{\n",
       "            background-color:  #afc1dd;\n",
       "            color:  #000000;\n",
       "        }#T_d0046a5a_4926_11eb_aef4_52540062e98frow0_col11,#T_d0046a5a_4926_11eb_aef4_52540062e98frow11_col0{\n",
       "            background-color:  #d0d1e6;\n",
       "            color:  #000000;\n",
       "        }#T_d0046a5a_4926_11eb_aef4_52540062e98frow0_col12,#T_d0046a5a_4926_11eb_aef4_52540062e98frow12_col0{\n",
       "            background-color:  #dad9ea;\n",
       "            color:  #000000;\n",
       "        }#T_d0046a5a_4926_11eb_aef4_52540062e98frow0_col14,#T_d0046a5a_4926_11eb_aef4_52540062e98frow14_col0{\n",
       "            background-color:  #e3e0ee;\n",
       "            color:  #000000;\n",
       "        }#T_d0046a5a_4926_11eb_aef4_52540062e98frow0_col15,#T_d0046a5a_4926_11eb_aef4_52540062e98frow1_col10,#T_d0046a5a_4926_11eb_aef4_52540062e98frow10_col1,#T_d0046a5a_4926_11eb_aef4_52540062e98frow15_col0{\n",
       "            background-color:  #c2cbe2;\n",
       "            color:  #000000;\n",
       "        }#T_d0046a5a_4926_11eb_aef4_52540062e98frow0_col16,#T_d0046a5a_4926_11eb_aef4_52540062e98frow16_col0{\n",
       "            background-color:  #d2d2e7;\n",
       "            color:  #000000;\n",
       "        }#T_d0046a5a_4926_11eb_aef4_52540062e98frow1_col2,#T_d0046a5a_4926_11eb_aef4_52540062e98frow2_col1,#T_d0046a5a_4926_11eb_aef4_52540062e98frow5_col16,#T_d0046a5a_4926_11eb_aef4_52540062e98frow11_col16,#T_d0046a5a_4926_11eb_aef4_52540062e98frow16_col5,#T_d0046a5a_4926_11eb_aef4_52540062e98frow16_col11{\n",
       "            background-color:  #04649e;\n",
       "            color:  #f1f1f1;\n",
       "        }#T_d0046a5a_4926_11eb_aef4_52540062e98frow1_col3,#T_d0046a5a_4926_11eb_aef4_52540062e98frow3_col1,#T_d0046a5a_4926_11eb_aef4_52540062e98frow4_col6,#T_d0046a5a_4926_11eb_aef4_52540062e98frow6_col4,#T_d0046a5a_4926_11eb_aef4_52540062e98frow12_col13,#T_d0046a5a_4926_11eb_aef4_52540062e98frow12_col16,#T_d0046a5a_4926_11eb_aef4_52540062e98frow13_col12,#T_d0046a5a_4926_11eb_aef4_52540062e98frow14_col16,#T_d0046a5a_4926_11eb_aef4_52540062e98frow16_col12,#T_d0046a5a_4926_11eb_aef4_52540062e98frow16_col14{\n",
       "            background-color:  #3b92c1;\n",
       "            color:  #000000;\n",
       "        }#T_d0046a5a_4926_11eb_aef4_52540062e98frow1_col4,#T_d0046a5a_4926_11eb_aef4_52540062e98frow4_col1{\n",
       "            background-color:  #d1d2e6;\n",
       "            color:  #000000;\n",
       "        }#T_d0046a5a_4926_11eb_aef4_52540062e98frow1_col5,#T_d0046a5a_4926_11eb_aef4_52540062e98frow5_col1{\n",
       "            background-color:  #9fbad9;\n",
       "            color:  #000000;\n",
       "        }#T_d0046a5a_4926_11eb_aef4_52540062e98frow1_col7,#T_d0046a5a_4926_11eb_aef4_52540062e98frow7_col1{\n",
       "            background-color:  #f2ecf5;\n",
       "            color:  #000000;\n",
       "        }#T_d0046a5a_4926_11eb_aef4_52540062e98frow1_col8,#T_d0046a5a_4926_11eb_aef4_52540062e98frow1_col12,#T_d0046a5a_4926_11eb_aef4_52540062e98frow1_col13,#T_d0046a5a_4926_11eb_aef4_52540062e98frow8_col1,#T_d0046a5a_4926_11eb_aef4_52540062e98frow12_col1,#T_d0046a5a_4926_11eb_aef4_52540062e98frow13_col1{\n",
       "            background-color:  #f6eff7;\n",
       "            color:  #000000;\n",
       "        }#T_d0046a5a_4926_11eb_aef4_52540062e98frow1_col9,#T_d0046a5a_4926_11eb_aef4_52540062e98frow9_col1{\n",
       "            background-color:  #b9c6e0;\n",
       "            color:  #000000;\n",
       "        }#T_d0046a5a_4926_11eb_aef4_52540062e98frow1_col11,#T_d0046a5a_4926_11eb_aef4_52540062e98frow11_col1{\n",
       "            background-color:  #c6cce3;\n",
       "            color:  #000000;\n",
       "        }#T_d0046a5a_4926_11eb_aef4_52540062e98frow1_col14,#T_d0046a5a_4926_11eb_aef4_52540062e98frow2_col8,#T_d0046a5a_4926_11eb_aef4_52540062e98frow8_col2,#T_d0046a5a_4926_11eb_aef4_52540062e98frow14_col1{\n",
       "            background-color:  #fff7fb;\n",
       "            color:  #000000;\n",
       "        }#T_d0046a5a_4926_11eb_aef4_52540062e98frow1_col15,#T_d0046a5a_4926_11eb_aef4_52540062e98frow15_col1{\n",
       "            background-color:  #d3d4e7;\n",
       "            color:  #000000;\n",
       "        }#T_d0046a5a_4926_11eb_aef4_52540062e98frow1_col16,#T_d0046a5a_4926_11eb_aef4_52540062e98frow16_col1{\n",
       "            background-color:  #e9e5f1;\n",
       "            color:  #000000;\n",
       "        }#T_d0046a5a_4926_11eb_aef4_52540062e98frow2_col3,#T_d0046a5a_4926_11eb_aef4_52540062e98frow3_col2,#T_d0046a5a_4926_11eb_aef4_52540062e98frow7_col12,#T_d0046a5a_4926_11eb_aef4_52540062e98frow12_col7{\n",
       "            background-color:  #2081b9;\n",
       "            color:  #000000;\n",
       "        }#T_d0046a5a_4926_11eb_aef4_52540062e98frow2_col5,#T_d0046a5a_4926_11eb_aef4_52540062e98frow2_col15,#T_d0046a5a_4926_11eb_aef4_52540062e98frow5_col2,#T_d0046a5a_4926_11eb_aef4_52540062e98frow9_col15,#T_d0046a5a_4926_11eb_aef4_52540062e98frow15_col2,#T_d0046a5a_4926_11eb_aef4_52540062e98frow15_col9{\n",
       "            background-color:  #cdd0e5;\n",
       "            color:  #000000;\n",
       "        }#T_d0046a5a_4926_11eb_aef4_52540062e98frow2_col6,#T_d0046a5a_4926_11eb_aef4_52540062e98frow3_col4,#T_d0046a5a_4926_11eb_aef4_52540062e98frow4_col3,#T_d0046a5a_4926_11eb_aef4_52540062e98frow6_col2{\n",
       "            background-color:  #f7f0f7;\n",
       "            color:  #000000;\n",
       "        }#T_d0046a5a_4926_11eb_aef4_52540062e98frow2_col7,#T_d0046a5a_4926_11eb_aef4_52540062e98frow7_col2{\n",
       "            background-color:  #faf3f9;\n",
       "            color:  #000000;\n",
       "        }#T_d0046a5a_4926_11eb_aef4_52540062e98frow2_col9,#T_d0046a5a_4926_11eb_aef4_52540062e98frow9_col2,#T_d0046a5a_4926_11eb_aef4_52540062e98frow9_col12,#T_d0046a5a_4926_11eb_aef4_52540062e98frow12_col9{\n",
       "            background-color:  #c4cbe3;\n",
       "            color:  #000000;\n",
       "        }#T_d0046a5a_4926_11eb_aef4_52540062e98frow2_col10,#T_d0046a5a_4926_11eb_aef4_52540062e98frow10_col2{\n",
       "            background-color:  #dfddec;\n",
       "            color:  #000000;\n",
       "        }#T_d0046a5a_4926_11eb_aef4_52540062e98frow2_col11,#T_d0046a5a_4926_11eb_aef4_52540062e98frow3_col10,#T_d0046a5a_4926_11eb_aef4_52540062e98frow10_col3,#T_d0046a5a_4926_11eb_aef4_52540062e98frow11_col2{\n",
       "            background-color:  #d9d8ea;\n",
       "            color:  #000000;\n",
       "        }#T_d0046a5a_4926_11eb_aef4_52540062e98frow2_col13,#T_d0046a5a_4926_11eb_aef4_52540062e98frow13_col2{\n",
       "            background-color:  #fdf5fa;\n",
       "            color:  #000000;\n",
       "        }#T_d0046a5a_4926_11eb_aef4_52540062e98frow2_col14,#T_d0046a5a_4926_11eb_aef4_52540062e98frow14_col2{\n",
       "            background-color:  #fef6fb;\n",
       "            color:  #000000;\n",
       "        }#T_d0046a5a_4926_11eb_aef4_52540062e98frow2_col16,#T_d0046a5a_4926_11eb_aef4_52540062e98frow16_col2{\n",
       "            background-color:  #f5eef6;\n",
       "            color:  #000000;\n",
       "        }#T_d0046a5a_4926_11eb_aef4_52540062e98frow3_col5,#T_d0046a5a_4926_11eb_aef4_52540062e98frow5_col3{\n",
       "            background-color:  #dbdaeb;\n",
       "            color:  #000000;\n",
       "        }#T_d0046a5a_4926_11eb_aef4_52540062e98frow3_col6,#T_d0046a5a_4926_11eb_aef4_52540062e98frow6_col3{\n",
       "            background-color:  #eae6f1;\n",
       "            color:  #000000;\n",
       "        }#T_d0046a5a_4926_11eb_aef4_52540062e98frow3_col7,#T_d0046a5a_4926_11eb_aef4_52540062e98frow7_col3{\n",
       "            background-color:  #fbf4f9;\n",
       "            color:  #000000;\n",
       "        }#T_d0046a5a_4926_11eb_aef4_52540062e98frow3_col8,#T_d0046a5a_4926_11eb_aef4_52540062e98frow8_col3{\n",
       "            background-color:  #fcf4fa;\n",
       "            color:  #000000;\n",
       "        }#T_d0046a5a_4926_11eb_aef4_52540062e98frow3_col9,#T_d0046a5a_4926_11eb_aef4_52540062e98frow9_col3{\n",
       "            background-color:  #ced0e6;\n",
       "            color:  #000000;\n",
       "        }#T_d0046a5a_4926_11eb_aef4_52540062e98frow3_col11,#T_d0046a5a_4926_11eb_aef4_52540062e98frow11_col3{\n",
       "            background-color:  #d8d7e9;\n",
       "            color:  #000000;\n",
       "        }#T_d0046a5a_4926_11eb_aef4_52540062e98frow3_col12,#T_d0046a5a_4926_11eb_aef4_52540062e98frow12_col3{\n",
       "            background-color:  #f8f1f8;\n",
       "            color:  #000000;\n",
       "        }#T_d0046a5a_4926_11eb_aef4_52540062e98frow3_col13,#T_d0046a5a_4926_11eb_aef4_52540062e98frow13_col3{\n",
       "            background-color:  #d7d6e9;\n",
       "            color:  #000000;\n",
       "        }#T_d0046a5a_4926_11eb_aef4_52540062e98frow3_col14,#T_d0046a5a_4926_11eb_aef4_52540062e98frow14_col3{\n",
       "            background-color:  #faf2f8;\n",
       "            color:  #000000;\n",
       "        }#T_d0046a5a_4926_11eb_aef4_52540062e98frow3_col15,#T_d0046a5a_4926_11eb_aef4_52540062e98frow15_col3{\n",
       "            background-color:  #c1cae2;\n",
       "            color:  #000000;\n",
       "        }#T_d0046a5a_4926_11eb_aef4_52540062e98frow3_col16,#T_d0046a5a_4926_11eb_aef4_52540062e98frow16_col3{\n",
       "            background-color:  #f3edf5;\n",
       "            color:  #000000;\n",
       "        }#T_d0046a5a_4926_11eb_aef4_52540062e98frow4_col5,#T_d0046a5a_4926_11eb_aef4_52540062e98frow5_col4{\n",
       "            background-color:  #348ebf;\n",
       "            color:  #000000;\n",
       "        }#T_d0046a5a_4926_11eb_aef4_52540062e98frow4_col7,#T_d0046a5a_4926_11eb_aef4_52540062e98frow5_col10,#T_d0046a5a_4926_11eb_aef4_52540062e98frow7_col4,#T_d0046a5a_4926_11eb_aef4_52540062e98frow9_col10,#T_d0046a5a_4926_11eb_aef4_52540062e98frow10_col5,#T_d0046a5a_4926_11eb_aef4_52540062e98frow10_col9,#T_d0046a5a_4926_11eb_aef4_52540062e98frow13_col14,#T_d0046a5a_4926_11eb_aef4_52540062e98frow14_col13{\n",
       "            background-color:  #1c7fb8;\n",
       "            color:  #000000;\n",
       "        }#T_d0046a5a_4926_11eb_aef4_52540062e98frow4_col8,#T_d0046a5a_4926_11eb_aef4_52540062e98frow8_col4{\n",
       "            background-color:  #0c74b2;\n",
       "            color:  #f1f1f1;\n",
       "        }#T_d0046a5a_4926_11eb_aef4_52540062e98frow4_col9,#T_d0046a5a_4926_11eb_aef4_52540062e98frow9_col4{\n",
       "            background-color:  #9ab8d8;\n",
       "            color:  #000000;\n",
       "        }#T_d0046a5a_4926_11eb_aef4_52540062e98frow4_col10,#T_d0046a5a_4926_11eb_aef4_52540062e98frow10_col4{\n",
       "            background-color:  #88b1d4;\n",
       "            color:  #000000;\n",
       "        }#T_d0046a5a_4926_11eb_aef4_52540062e98frow4_col11,#T_d0046a5a_4926_11eb_aef4_52540062e98frow11_col4{\n",
       "            background-color:  #3f93c2;\n",
       "            color:  #000000;\n",
       "        }#T_d0046a5a_4926_11eb_aef4_52540062e98frow4_col12,#T_d0046a5a_4926_11eb_aef4_52540062e98frow4_col13,#T_d0046a5a_4926_11eb_aef4_52540062e98frow12_col4,#T_d0046a5a_4926_11eb_aef4_52540062e98frow13_col4{\n",
       "            background-color:  #4897c4;\n",
       "            color:  #000000;\n",
       "        }#T_d0046a5a_4926_11eb_aef4_52540062e98frow4_col14,#T_d0046a5a_4926_11eb_aef4_52540062e98frow13_col15,#T_d0046a5a_4926_11eb_aef4_52540062e98frow14_col4,#T_d0046a5a_4926_11eb_aef4_52540062e98frow15_col13{\n",
       "            background-color:  #4496c3;\n",
       "            color:  #000000;\n",
       "        }#T_d0046a5a_4926_11eb_aef4_52540062e98frow4_col15,#T_d0046a5a_4926_11eb_aef4_52540062e98frow15_col4{\n",
       "            background-color:  #5a9ec9;\n",
       "            color:  #000000;\n",
       "        }#T_d0046a5a_4926_11eb_aef4_52540062e98frow4_col16,#T_d0046a5a_4926_11eb_aef4_52540062e98frow16_col4{\n",
       "            background-color:  #2d8abd;\n",
       "            color:  #000000;\n",
       "        }#T_d0046a5a_4926_11eb_aef4_52540062e98frow5_col6,#T_d0046a5a_4926_11eb_aef4_52540062e98frow6_col5,#T_d0046a5a_4926_11eb_aef4_52540062e98frow6_col11,#T_d0046a5a_4926_11eb_aef4_52540062e98frow11_col6{\n",
       "            background-color:  #0569a5;\n",
       "            color:  #f1f1f1;\n",
       "        }#T_d0046a5a_4926_11eb_aef4_52540062e98frow5_col7,#T_d0046a5a_4926_11eb_aef4_52540062e98frow6_col13,#T_d0046a5a_4926_11eb_aef4_52540062e98frow7_col5,#T_d0046a5a_4926_11eb_aef4_52540062e98frow13_col6{\n",
       "            background-color:  #1379b5;\n",
       "            color:  #f1f1f1;\n",
       "        }#T_d0046a5a_4926_11eb_aef4_52540062e98frow5_col8,#T_d0046a5a_4926_11eb_aef4_52540062e98frow8_col5{\n",
       "            background-color:  #1278b4;\n",
       "            color:  #f1f1f1;\n",
       "        }#T_d0046a5a_4926_11eb_aef4_52540062e98frow5_col9,#T_d0046a5a_4926_11eb_aef4_52540062e98frow9_col5{\n",
       "            background-color:  #328dbf;\n",
       "            color:  #000000;\n",
       "        }#T_d0046a5a_4926_11eb_aef4_52540062e98frow5_col11,#T_d0046a5a_4926_11eb_aef4_52540062e98frow11_col5{\n",
       "            background-color:  #0872b1;\n",
       "            color:  #f1f1f1;\n",
       "        }#T_d0046a5a_4926_11eb_aef4_52540062e98frow5_col12,#T_d0046a5a_4926_11eb_aef4_52540062e98frow12_col5{\n",
       "            background-color:  #93b5d6;\n",
       "            color:  #000000;\n",
       "        }#T_d0046a5a_4926_11eb_aef4_52540062e98frow5_col13,#T_d0046a5a_4926_11eb_aef4_52540062e98frow13_col5{\n",
       "            background-color:  #4295c3;\n",
       "            color:  #000000;\n",
       "        }#T_d0046a5a_4926_11eb_aef4_52540062e98frow5_col14,#T_d0046a5a_4926_11eb_aef4_52540062e98frow14_col5{\n",
       "            background-color:  #9ebad9;\n",
       "            color:  #000000;\n",
       "        }#T_d0046a5a_4926_11eb_aef4_52540062e98frow5_col15,#T_d0046a5a_4926_11eb_aef4_52540062e98frow15_col5{\n",
       "            background-color:  #b3c3de;\n",
       "            color:  #000000;\n",
       "        }#T_d0046a5a_4926_11eb_aef4_52540062e98frow6_col7,#T_d0046a5a_4926_11eb_aef4_52540062e98frow7_col6{\n",
       "            background-color:  #045585;\n",
       "            color:  #f1f1f1;\n",
       "        }#T_d0046a5a_4926_11eb_aef4_52540062e98frow6_col8,#T_d0046a5a_4926_11eb_aef4_52540062e98frow8_col6{\n",
       "            background-color:  #045687;\n",
       "            color:  #f1f1f1;\n",
       "        }#T_d0046a5a_4926_11eb_aef4_52540062e98frow6_col9,#T_d0046a5a_4926_11eb_aef4_52540062e98frow9_col6{\n",
       "            background-color:  #157ab5;\n",
       "            color:  #000000;\n",
       "        }#T_d0046a5a_4926_11eb_aef4_52540062e98frow6_col10,#T_d0046a5a_4926_11eb_aef4_52540062e98frow10_col6{\n",
       "            background-color:  #046299;\n",
       "            color:  #f1f1f1;\n",
       "        }#T_d0046a5a_4926_11eb_aef4_52540062e98frow6_col12,#T_d0046a5a_4926_11eb_aef4_52540062e98frow12_col6{\n",
       "            background-color:  #71a8ce;\n",
       "            color:  #000000;\n",
       "        }#T_d0046a5a_4926_11eb_aef4_52540062e98frow6_col14,#T_d0046a5a_4926_11eb_aef4_52540062e98frow14_col6{\n",
       "            background-color:  #3d93c2;\n",
       "            color:  #000000;\n",
       "        }#T_d0046a5a_4926_11eb_aef4_52540062e98frow6_col15,#T_d0046a5a_4926_11eb_aef4_52540062e98frow15_col6{\n",
       "            background-color:  #bcc7e1;\n",
       "            color:  #000000;\n",
       "        }#T_d0046a5a_4926_11eb_aef4_52540062e98frow6_col16,#T_d0046a5a_4926_11eb_aef4_52540062e98frow7_col8,#T_d0046a5a_4926_11eb_aef4_52540062e98frow8_col7,#T_d0046a5a_4926_11eb_aef4_52540062e98frow16_col6{\n",
       "            background-color:  #034b76;\n",
       "            color:  #f1f1f1;\n",
       "        }#T_d0046a5a_4926_11eb_aef4_52540062e98frow7_col9,#T_d0046a5a_4926_11eb_aef4_52540062e98frow8_col12,#T_d0046a5a_4926_11eb_aef4_52540062e98frow9_col7,#T_d0046a5a_4926_11eb_aef4_52540062e98frow12_col8{\n",
       "            background-color:  #2987bc;\n",
       "            color:  #000000;\n",
       "        }#T_d0046a5a_4926_11eb_aef4_52540062e98frow7_col10,#T_d0046a5a_4926_11eb_aef4_52540062e98frow10_col7{\n",
       "            background-color:  #056caa;\n",
       "            color:  #f1f1f1;\n",
       "        }#T_d0046a5a_4926_11eb_aef4_52540062e98frow7_col11,#T_d0046a5a_4926_11eb_aef4_52540062e98frow7_col13,#T_d0046a5a_4926_11eb_aef4_52540062e98frow11_col7,#T_d0046a5a_4926_11eb_aef4_52540062e98frow13_col7{\n",
       "            background-color:  #056dab;\n",
       "            color:  #f1f1f1;\n",
       "        }#T_d0046a5a_4926_11eb_aef4_52540062e98frow7_col14,#T_d0046a5a_4926_11eb_aef4_52540062e98frow14_col7{\n",
       "            background-color:  #0a73b2;\n",
       "            color:  #f1f1f1;\n",
       "        }#T_d0046a5a_4926_11eb_aef4_52540062e98frow7_col15,#T_d0046a5a_4926_11eb_aef4_52540062e98frow15_col7{\n",
       "            background-color:  #84b0d3;\n",
       "            color:  #000000;\n",
       "        }#T_d0046a5a_4926_11eb_aef4_52540062e98frow7_col16,#T_d0046a5a_4926_11eb_aef4_52540062e98frow16_col7{\n",
       "            background-color:  #034a74;\n",
       "            color:  #f1f1f1;\n",
       "        }#T_d0046a5a_4926_11eb_aef4_52540062e98frow8_col9,#T_d0046a5a_4926_11eb_aef4_52540062e98frow9_col8{\n",
       "            background-color:  #308cbe;\n",
       "            color:  #000000;\n",
       "        }#T_d0046a5a_4926_11eb_aef4_52540062e98frow8_col10,#T_d0046a5a_4926_11eb_aef4_52540062e98frow10_col8{\n",
       "            background-color:  #1077b4;\n",
       "            color:  #f1f1f1;\n",
       "        }#T_d0046a5a_4926_11eb_aef4_52540062e98frow8_col11,#T_d0046a5a_4926_11eb_aef4_52540062e98frow11_col8{\n",
       "            background-color:  #0569a4;\n",
       "            color:  #f1f1f1;\n",
       "        }#T_d0046a5a_4926_11eb_aef4_52540062e98frow8_col13,#T_d0046a5a_4926_11eb_aef4_52540062e98frow13_col8{\n",
       "            background-color:  #0f76b3;\n",
       "            color:  #f1f1f1;\n",
       "        }#T_d0046a5a_4926_11eb_aef4_52540062e98frow8_col14,#T_d0046a5a_4926_11eb_aef4_52540062e98frow14_col8{\n",
       "            background-color:  #0d75b3;\n",
       "            color:  #f1f1f1;\n",
       "        }#T_d0046a5a_4926_11eb_aef4_52540062e98frow8_col15,#T_d0046a5a_4926_11eb_aef4_52540062e98frow15_col8{\n",
       "            background-color:  #79abd0;\n",
       "            color:  #000000;\n",
       "        }#T_d0046a5a_4926_11eb_aef4_52540062e98frow8_col16,#T_d0046a5a_4926_11eb_aef4_52540062e98frow16_col8{\n",
       "            background-color:  #034f7d;\n",
       "            color:  #f1f1f1;\n",
       "        }#T_d0046a5a_4926_11eb_aef4_52540062e98frow9_col11,#T_d0046a5a_4926_11eb_aef4_52540062e98frow9_col16,#T_d0046a5a_4926_11eb_aef4_52540062e98frow11_col9,#T_d0046a5a_4926_11eb_aef4_52540062e98frow16_col9{\n",
       "            background-color:  #0570b0;\n",
       "            color:  #f1f1f1;\n",
       "        }#T_d0046a5a_4926_11eb_aef4_52540062e98frow9_col13,#T_d0046a5a_4926_11eb_aef4_52540062e98frow13_col9{\n",
       "            background-color:  #5c9fc9;\n",
       "            color:  #000000;\n",
       "        }#T_d0046a5a_4926_11eb_aef4_52540062e98frow9_col14,#T_d0046a5a_4926_11eb_aef4_52540062e98frow14_col9{\n",
       "            background-color:  #99b8d8;\n",
       "            color:  #000000;\n",
       "        }#T_d0046a5a_4926_11eb_aef4_52540062e98frow10_col11,#T_d0046a5a_4926_11eb_aef4_52540062e98frow11_col10{\n",
       "            background-color:  #197db7;\n",
       "            color:  #000000;\n",
       "        }#T_d0046a5a_4926_11eb_aef4_52540062e98frow10_col12,#T_d0046a5a_4926_11eb_aef4_52540062e98frow12_col10{\n",
       "            background-color:  #7eadd1;\n",
       "            color:  #000000;\n",
       "        }#T_d0046a5a_4926_11eb_aef4_52540062e98frow10_col13,#T_d0046a5a_4926_11eb_aef4_52540062e98frow11_col13,#T_d0046a5a_4926_11eb_aef4_52540062e98frow13_col10,#T_d0046a5a_4926_11eb_aef4_52540062e98frow13_col11{\n",
       "            background-color:  #3991c1;\n",
       "            color:  #000000;\n",
       "        }#T_d0046a5a_4926_11eb_aef4_52540062e98frow10_col14,#T_d0046a5a_4926_11eb_aef4_52540062e98frow14_col10{\n",
       "            background-color:  #529bc7;\n",
       "            color:  #000000;\n",
       "        }#T_d0046a5a_4926_11eb_aef4_52540062e98frow10_col15,#T_d0046a5a_4926_11eb_aef4_52540062e98frow15_col10{\n",
       "            background-color:  #c9cee4;\n",
       "            color:  #000000;\n",
       "        }#T_d0046a5a_4926_11eb_aef4_52540062e98frow10_col16,#T_d0046a5a_4926_11eb_aef4_52540062e98frow16_col10{\n",
       "            background-color:  #04649d;\n",
       "            color:  #f1f1f1;\n",
       "        }#T_d0046a5a_4926_11eb_aef4_52540062e98frow11_col12,#T_d0046a5a_4926_11eb_aef4_52540062e98frow12_col11{\n",
       "            background-color:  #a9bfdc;\n",
       "            color:  #000000;\n",
       "        }#T_d0046a5a_4926_11eb_aef4_52540062e98frow11_col14,#T_d0046a5a_4926_11eb_aef4_52540062e98frow14_col11{\n",
       "            background-color:  #86b0d3;\n",
       "            color:  #000000;\n",
       "        }#T_d0046a5a_4926_11eb_aef4_52540062e98frow12_col14,#T_d0046a5a_4926_11eb_aef4_52540062e98frow14_col12{\n",
       "            background-color:  #0568a3;\n",
       "            color:  #f1f1f1;\n",
       "        }#T_d0046a5a_4926_11eb_aef4_52540062e98frow12_col15,#T_d0046a5a_4926_11eb_aef4_52540062e98frow15_col12{\n",
       "            background-color:  #3790c0;\n",
       "            color:  #000000;\n",
       "        }#T_d0046a5a_4926_11eb_aef4_52540062e98frow13_col16,#T_d0046a5a_4926_11eb_aef4_52540062e98frow16_col13{\n",
       "            background-color:  #056aa6;\n",
       "            color:  #f1f1f1;\n",
       "        }#T_d0046a5a_4926_11eb_aef4_52540062e98frow14_col15,#T_d0046a5a_4926_11eb_aef4_52540062e98frow15_col14{\n",
       "            background-color:  #2383ba;\n",
       "            color:  #000000;\n",
       "        }#T_d0046a5a_4926_11eb_aef4_52540062e98frow15_col16,#T_d0046a5a_4926_11eb_aef4_52540062e98frow16_col15{\n",
       "            background-color:  #a7bddb;\n",
       "            color:  #000000;\n",
       "        }</style><table id=\"T_d0046a5a_4926_11eb_aef4_52540062e98f\" ><thead>    <tr>        <th class=\"blank level0\" ></th>        <th class=\"col_heading level0 col0\" >Rt</th>        <th class=\"col_heading level0 col1\" >theta</th>        <th class=\"col_heading level0 col2\" >kappa</th>        <th class=\"col_heading level0 col3\" >rho</th>        <th class=\"col_heading level0 col4\" >sigma</th>        <th class=\"col_heading level0 col5\" >School_closing</th>        <th class=\"col_heading level0 col6\" >Workplace_closing</th>        <th class=\"col_heading level0 col7\" >Cancel_events</th>        <th class=\"col_heading level0 col8\" >Gatherings_restrictions</th>        <th class=\"col_heading level0 col9\" >Transport_closing</th>        <th class=\"col_heading level0 col10\" >Stay_home_restrictions</th>        <th class=\"col_heading level0 col11\" >Internal_movement_restrictions</th>        <th class=\"col_heading level0 col12\" >International_movement_restrictions</th>        <th class=\"col_heading level0 col13\" >Information_campaigns</th>        <th class=\"col_heading level0 col14\" >Testing_policy</th>        <th class=\"col_heading level0 col15\" >Contact_tracing</th>        <th class=\"col_heading level0 col16\" >Stringency_index</th>    </tr></thead><tbody>\n",
       "                <tr>\n",
       "                        <th id=\"T_d0046a5a_4926_11eb_aef4_52540062e98flevel0_row0\" class=\"row_heading level0 row0\" >Rt</th>\n",
       "                        <td id=\"T_d0046a5a_4926_11eb_aef4_52540062e98frow0_col0\" class=\"data row0 col0\" >1.000000</td>\n",
       "                        <td id=\"T_d0046a5a_4926_11eb_aef4_52540062e98frow0_col1\" class=\"data row0 col1\" >0.114183</td>\n",
       "                        <td id=\"T_d0046a5a_4926_11eb_aef4_52540062e98frow0_col2\" class=\"data row0 col2\" >0.155069</td>\n",
       "                        <td id=\"T_d0046a5a_4926_11eb_aef4_52540062e98frow0_col3\" class=\"data row0 col3\" >0.751339</td>\n",
       "                        <td id=\"T_d0046a5a_4926_11eb_aef4_52540062e98frow0_col4\" class=\"data row0 col4\" >-0.510597</td>\n",
       "                        <td id=\"T_d0046a5a_4926_11eb_aef4_52540062e98frow0_col5\" class=\"data row0 col5\" >-0.088899</td>\n",
       "                        <td id=\"T_d0046a5a_4926_11eb_aef4_52540062e98frow0_col6\" class=\"data row0 col6\" >-0.154705</td>\n",
       "                        <td id=\"T_d0046a5a_4926_11eb_aef4_52540062e98frow0_col7\" class=\"data row0 col7\" >-0.408855</td>\n",
       "                        <td id=\"T_d0046a5a_4926_11eb_aef4_52540062e98frow0_col8\" class=\"data row0 col8\" >-0.419064</td>\n",
       "                        <td id=\"T_d0046a5a_4926_11eb_aef4_52540062e98frow0_col9\" class=\"data row0 col9\" >-0.084299</td>\n",
       "                        <td id=\"T_d0046a5a_4926_11eb_aef4_52540062e98frow0_col10\" class=\"data row0 col10\" >-0.086156</td>\n",
       "                        <td id=\"T_d0046a5a_4926_11eb_aef4_52540062e98frow0_col11\" class=\"data row0 col11\" >-0.245021</td>\n",
       "                        <td id=\"T_d0046a5a_4926_11eb_aef4_52540062e98frow0_col12\" class=\"data row0 col12\" >-0.327862</td>\n",
       "                        <td id=\"T_d0046a5a_4926_11eb_aef4_52540062e98frow0_col13\" class=\"data row0 col13\" >-0.083797</td>\n",
       "                        <td id=\"T_d0046a5a_4926_11eb_aef4_52540062e98frow0_col14\" class=\"data row0 col14\" >-0.387466</td>\n",
       "                        <td id=\"T_d0046a5a_4926_11eb_aef4_52540062e98frow0_col15\" class=\"data row0 col15\" >-0.179383</td>\n",
       "                        <td id=\"T_d0046a5a_4926_11eb_aef4_52540062e98frow0_col16\" class=\"data row0 col16\" >-0.261969</td>\n",
       "            </tr>\n",
       "            <tr>\n",
       "                        <th id=\"T_d0046a5a_4926_11eb_aef4_52540062e98flevel0_row1\" class=\"row_heading level0 row1\" >theta</th>\n",
       "                        <td id=\"T_d0046a5a_4926_11eb_aef4_52540062e98frow1_col0\" class=\"data row1 col0\" >0.114183</td>\n",
       "                        <td id=\"T_d0046a5a_4926_11eb_aef4_52540062e98frow1_col1\" class=\"data row1 col1\" >1.000000</td>\n",
       "                        <td id=\"T_d0046a5a_4926_11eb_aef4_52540062e98frow1_col2\" class=\"data row1 col2\" >0.693929</td>\n",
       "                        <td id=\"T_d0046a5a_4926_11eb_aef4_52540062e98frow1_col3\" class=\"data row1 col3\" >0.357546</td>\n",
       "                        <td id=\"T_d0046a5a_4926_11eb_aef4_52540062e98frow1_col4\" class=\"data row1 col4\" >-0.252797</td>\n",
       "                        <td id=\"T_d0046a5a_4926_11eb_aef4_52540062e98frow1_col5\" class=\"data row1 col5\" >-0.010757</td>\n",
       "                        <td id=\"T_d0046a5a_4926_11eb_aef4_52540062e98frow1_col6\" class=\"data row1 col6\" >-0.414935</td>\n",
       "                        <td id=\"T_d0046a5a_4926_11eb_aef4_52540062e98frow1_col7\" class=\"data row1 col7\" >-0.522837</td>\n",
       "                        <td id=\"T_d0046a5a_4926_11eb_aef4_52540062e98frow1_col8\" class=\"data row1 col8\" >-0.562929</td>\n",
       "                        <td id=\"T_d0046a5a_4926_11eb_aef4_52540062e98frow1_col9\" class=\"data row1 col9\" >-0.139279</td>\n",
       "                        <td id=\"T_d0046a5a_4926_11eb_aef4_52540062e98frow1_col10\" class=\"data row1 col10\" >-0.182543</td>\n",
       "                        <td id=\"T_d0046a5a_4926_11eb_aef4_52540062e98frow1_col11\" class=\"data row1 col11\" >-0.199962</td>\n",
       "                        <td id=\"T_d0046a5a_4926_11eb_aef4_52540062e98frow1_col12\" class=\"data row1 col12\" >-0.566925</td>\n",
       "                        <td id=\"T_d0046a5a_4926_11eb_aef4_52540062e98frow1_col13\" class=\"data row1 col13\" >-0.563935</td>\n",
       "                        <td id=\"T_d0046a5a_4926_11eb_aef4_52540062e98frow1_col14\" class=\"data row1 col14\" >-0.667009</td>\n",
       "                        <td id=\"T_d0046a5a_4926_11eb_aef4_52540062e98frow1_col15\" class=\"data row1 col15\" >-0.272404</td>\n",
       "                        <td id=\"T_d0046a5a_4926_11eb_aef4_52540062e98frow1_col16\" class=\"data row1 col16\" >-0.434855</td>\n",
       "            </tr>\n",
       "            <tr>\n",
       "                        <th id=\"T_d0046a5a_4926_11eb_aef4_52540062e98flevel0_row2\" class=\"row_heading level0 row2\" >kappa</th>\n",
       "                        <td id=\"T_d0046a5a_4926_11eb_aef4_52540062e98frow2_col0\" class=\"data row2 col0\" >0.155069</td>\n",
       "                        <td id=\"T_d0046a5a_4926_11eb_aef4_52540062e98frow2_col1\" class=\"data row2 col1\" >0.693929</td>\n",
       "                        <td id=\"T_d0046a5a_4926_11eb_aef4_52540062e98frow2_col2\" class=\"data row2 col2\" >1.000000</td>\n",
       "                        <td id=\"T_d0046a5a_4926_11eb_aef4_52540062e98frow2_col3\" class=\"data row2 col3\" >0.468496</td>\n",
       "                        <td id=\"T_d0046a5a_4926_11eb_aef4_52540062e98frow2_col4\" class=\"data row2 col4\" >-0.409579</td>\n",
       "                        <td id=\"T_d0046a5a_4926_11eb_aef4_52540062e98frow2_col5\" class=\"data row2 col5\" >-0.232754</td>\n",
       "                        <td id=\"T_d0046a5a_4926_11eb_aef4_52540062e98frow2_col6\" class=\"data row2 col6\" >-0.569714</td>\n",
       "                        <td id=\"T_d0046a5a_4926_11eb_aef4_52540062e98frow2_col7\" class=\"data row2 col7\" >-0.613439</td>\n",
       "                        <td id=\"T_d0046a5a_4926_11eb_aef4_52540062e98frow2_col8\" class=\"data row2 col8\" >-0.664975</td>\n",
       "                        <td id=\"T_d0046a5a_4926_11eb_aef4_52540062e98frow2_col9\" class=\"data row2 col9\" >-0.185758</td>\n",
       "                        <td id=\"T_d0046a5a_4926_11eb_aef4_52540062e98frow2_col10\" class=\"data row2 col10\" >-0.357223</td>\n",
       "                        <td id=\"T_d0046a5a_4926_11eb_aef4_52540062e98frow2_col11\" class=\"data row2 col11\" >-0.315017</td>\n",
       "                        <td id=\"T_d0046a5a_4926_11eb_aef4_52540062e98frow2_col12\" class=\"data row2 col12\" >-0.506103</td>\n",
       "                        <td id=\"T_d0046a5a_4926_11eb_aef4_52540062e98frow2_col13\" class=\"data row2 col13\" >-0.634701</td>\n",
       "                        <td id=\"T_d0046a5a_4926_11eb_aef4_52540062e98frow2_col14\" class=\"data row2 col14\" >-0.658311</td>\n",
       "                        <td id=\"T_d0046a5a_4926_11eb_aef4_52540062e98frow2_col15\" class=\"data row2 col15\" >-0.236973</td>\n",
       "                        <td id=\"T_d0046a5a_4926_11eb_aef4_52540062e98frow2_col16\" class=\"data row2 col16\" >-0.556183</td>\n",
       "            </tr>\n",
       "            <tr>\n",
       "                        <th id=\"T_d0046a5a_4926_11eb_aef4_52540062e98flevel0_row3\" class=\"row_heading level0 row3\" >rho</th>\n",
       "                        <td id=\"T_d0046a5a_4926_11eb_aef4_52540062e98frow3_col0\" class=\"data row3 col0\" >0.751339</td>\n",
       "                        <td id=\"T_d0046a5a_4926_11eb_aef4_52540062e98frow3_col1\" class=\"data row3 col1\" >0.357546</td>\n",
       "                        <td id=\"T_d0046a5a_4926_11eb_aef4_52540062e98frow3_col2\" class=\"data row3 col2\" >0.468496</td>\n",
       "                        <td id=\"T_d0046a5a_4926_11eb_aef4_52540062e98frow3_col3\" class=\"data row3 col3\" >1.000000</td>\n",
       "                        <td id=\"T_d0046a5a_4926_11eb_aef4_52540062e98frow3_col4\" class=\"data row3 col4\" >-0.571861</td>\n",
       "                        <td id=\"T_d0046a5a_4926_11eb_aef4_52540062e98frow3_col5\" class=\"data row3 col5\" >-0.329686</td>\n",
       "                        <td id=\"T_d0046a5a_4926_11eb_aef4_52540062e98frow3_col6\" class=\"data row3 col6\" >-0.443657</td>\n",
       "                        <td id=\"T_d0046a5a_4926_11eb_aef4_52540062e98frow3_col7\" class=\"data row3 col7\" >-0.625855</td>\n",
       "                        <td id=\"T_d0046a5a_4926_11eb_aef4_52540062e98frow3_col8\" class=\"data row3 col8\" >-0.633608</td>\n",
       "                        <td id=\"T_d0046a5a_4926_11eb_aef4_52540062e98frow3_col9\" class=\"data row3 col9\" >-0.242313</td>\n",
       "                        <td id=\"T_d0046a5a_4926_11eb_aef4_52540062e98frow3_col10\" class=\"data row3 col10\" >-0.310388</td>\n",
       "                        <td id=\"T_d0046a5a_4926_11eb_aef4_52540062e98frow3_col11\" class=\"data row3 col11\" >-0.307850</td>\n",
       "                        <td id=\"T_d0046a5a_4926_11eb_aef4_52540062e98frow3_col12\" class=\"data row3 col12\" >-0.587166</td>\n",
       "                        <td id=\"T_d0046a5a_4926_11eb_aef4_52540062e98frow3_col13\" class=\"data row3 col13\" >-0.296003</td>\n",
       "                        <td id=\"T_d0046a5a_4926_11eb_aef4_52540062e98frow3_col14\" class=\"data row3 col14\" >-0.605377</td>\n",
       "                        <td id=\"T_d0046a5a_4926_11eb_aef4_52540062e98frow3_col15\" class=\"data row3 col15\" >-0.175069</td>\n",
       "                        <td id=\"T_d0046a5a_4926_11eb_aef4_52540062e98frow3_col16\" class=\"data row3 col16\" >-0.535136</td>\n",
       "            </tr>\n",
       "            <tr>\n",
       "                        <th id=\"T_d0046a5a_4926_11eb_aef4_52540062e98flevel0_row4\" class=\"row_heading level0 row4\" >sigma</th>\n",
       "                        <td id=\"T_d0046a5a_4926_11eb_aef4_52540062e98frow4_col0\" class=\"data row4 col0\" >-0.510597</td>\n",
       "                        <td id=\"T_d0046a5a_4926_11eb_aef4_52540062e98frow4_col1\" class=\"data row4 col1\" >-0.252797</td>\n",
       "                        <td id=\"T_d0046a5a_4926_11eb_aef4_52540062e98frow4_col2\" class=\"data row4 col2\" >-0.409579</td>\n",
       "                        <td id=\"T_d0046a5a_4926_11eb_aef4_52540062e98frow4_col3\" class=\"data row4 col3\" >-0.571861</td>\n",
       "                        <td id=\"T_d0046a5a_4926_11eb_aef4_52540062e98frow4_col4\" class=\"data row4 col4\" >1.000000</td>\n",
       "                        <td id=\"T_d0046a5a_4926_11eb_aef4_52540062e98frow4_col5\" class=\"data row4 col5\" >0.387822</td>\n",
       "                        <td id=\"T_d0046a5a_4926_11eb_aef4_52540062e98frow4_col6\" class=\"data row4 col6\" >0.361344</td>\n",
       "                        <td id=\"T_d0046a5a_4926_11eb_aef4_52540062e98frow4_col7\" class=\"data row4 col7\" >0.480381</td>\n",
       "                        <td id=\"T_d0046a5a_4926_11eb_aef4_52540062e98frow4_col8\" class=\"data row4 col8\" >0.555880</td>\n",
       "                        <td id=\"T_d0046a5a_4926_11eb_aef4_52540062e98frow4_col9\" class=\"data row4 col9\" >0.005258</td>\n",
       "                        <td id=\"T_d0046a5a_4926_11eb_aef4_52540062e98frow4_col10\" class=\"data row4 col10\" >0.086423</td>\n",
       "                        <td id=\"T_d0046a5a_4926_11eb_aef4_52540062e98frow4_col11\" class=\"data row4 col11\" >0.347163</td>\n",
       "                        <td id=\"T_d0046a5a_4926_11eb_aef4_52540062e98frow4_col12\" class=\"data row4 col12\" >0.315102</td>\n",
       "                        <td id=\"T_d0046a5a_4926_11eb_aef4_52540062e98frow4_col13\" class=\"data row4 col13\" >0.314776</td>\n",
       "                        <td id=\"T_d0046a5a_4926_11eb_aef4_52540062e98frow4_col14\" class=\"data row4 col14\" >0.324148</td>\n",
       "                        <td id=\"T_d0046a5a_4926_11eb_aef4_52540062e98frow4_col15\" class=\"data row4 col15\" >0.252903</td>\n",
       "                        <td id=\"T_d0046a5a_4926_11eb_aef4_52540062e98frow4_col16\" class=\"data row4 col16\" >0.410491</td>\n",
       "            </tr>\n",
       "            <tr>\n",
       "                        <th id=\"T_d0046a5a_4926_11eb_aef4_52540062e98flevel0_row5\" class=\"row_heading level0 row5\" >School_closing</th>\n",
       "                        <td id=\"T_d0046a5a_4926_11eb_aef4_52540062e98frow5_col0\" class=\"data row5 col0\" >-0.088899</td>\n",
       "                        <td id=\"T_d0046a5a_4926_11eb_aef4_52540062e98frow5_col1\" class=\"data row5 col1\" >-0.010757</td>\n",
       "                        <td id=\"T_d0046a5a_4926_11eb_aef4_52540062e98frow5_col2\" class=\"data row5 col2\" >-0.232754</td>\n",
       "                        <td id=\"T_d0046a5a_4926_11eb_aef4_52540062e98frow5_col3\" class=\"data row5 col3\" >-0.329686</td>\n",
       "                        <td id=\"T_d0046a5a_4926_11eb_aef4_52540062e98frow5_col4\" class=\"data row5 col4\" >0.387822</td>\n",
       "                        <td id=\"T_d0046a5a_4926_11eb_aef4_52540062e98frow5_col5\" class=\"data row5 col5\" >1.000000</td>\n",
       "                        <td id=\"T_d0046a5a_4926_11eb_aef4_52540062e98frow5_col6\" class=\"data row5 col6\" >0.644647</td>\n",
       "                        <td id=\"T_d0046a5a_4926_11eb_aef4_52540062e98frow5_col7\" class=\"data row5 col7\" >0.518628</td>\n",
       "                        <td id=\"T_d0046a5a_4926_11eb_aef4_52540062e98frow5_col8\" class=\"data row5 col8\" >0.529403</td>\n",
       "                        <td id=\"T_d0046a5a_4926_11eb_aef4_52540062e98frow5_col9\" class=\"data row5 col9\" >0.388351</td>\n",
       "                        <td id=\"T_d0046a5a_4926_11eb_aef4_52540062e98frow5_col10\" class=\"data row5 col10\" >0.480661</td>\n",
       "                        <td id=\"T_d0046a5a_4926_11eb_aef4_52540062e98frow5_col11\" class=\"data row5 col11\" >0.570041</td>\n",
       "                        <td id=\"T_d0046a5a_4926_11eb_aef4_52540062e98frow5_col12\" class=\"data row5 col12\" >0.038837</td>\n",
       "                        <td id=\"T_d0046a5a_4926_11eb_aef4_52540062e98frow5_col13\" class=\"data row5 col13\" >0.334182</td>\n",
       "                        <td id=\"T_d0046a5a_4926_11eb_aef4_52540062e98frow5_col14\" class=\"data row5 col14\" >-0.009159</td>\n",
       "                        <td id=\"T_d0046a5a_4926_11eb_aef4_52540062e98frow5_col15\" class=\"data row5 col15\" >-0.104762</td>\n",
       "                        <td id=\"T_d0046a5a_4926_11eb_aef4_52540062e98frow5_col16\" class=\"data row5 col16\" >0.688634</td>\n",
       "            </tr>\n",
       "            <tr>\n",
       "                        <th id=\"T_d0046a5a_4926_11eb_aef4_52540062e98flevel0_row6\" class=\"row_heading level0 row6\" >Workplace_closing</th>\n",
       "                        <td id=\"T_d0046a5a_4926_11eb_aef4_52540062e98frow6_col0\" class=\"data row6 col0\" >-0.154705</td>\n",
       "                        <td id=\"T_d0046a5a_4926_11eb_aef4_52540062e98frow6_col1\" class=\"data row6 col1\" >-0.414935</td>\n",
       "                        <td id=\"T_d0046a5a_4926_11eb_aef4_52540062e98frow6_col2\" class=\"data row6 col2\" >-0.569714</td>\n",
       "                        <td id=\"T_d0046a5a_4926_11eb_aef4_52540062e98frow6_col3\" class=\"data row6 col3\" >-0.443657</td>\n",
       "                        <td id=\"T_d0046a5a_4926_11eb_aef4_52540062e98frow6_col4\" class=\"data row6 col4\" >0.361344</td>\n",
       "                        <td id=\"T_d0046a5a_4926_11eb_aef4_52540062e98frow6_col5\" class=\"data row6 col5\" >0.644647</td>\n",
       "                        <td id=\"T_d0046a5a_4926_11eb_aef4_52540062e98frow6_col6\" class=\"data row6 col6\" >1.000000</td>\n",
       "                        <td id=\"T_d0046a5a_4926_11eb_aef4_52540062e98frow6_col7\" class=\"data row6 col7\" >0.819589</td>\n",
       "                        <td id=\"T_d0046a5a_4926_11eb_aef4_52540062e98frow6_col8\" class=\"data row6 col8\" >0.816223</td>\n",
       "                        <td id=\"T_d0046a5a_4926_11eb_aef4_52540062e98frow6_col9\" class=\"data row6 col9\" >0.516638</td>\n",
       "                        <td id=\"T_d0046a5a_4926_11eb_aef4_52540062e98frow6_col10\" class=\"data row6 col10\" >0.716641</td>\n",
       "                        <td id=\"T_d0046a5a_4926_11eb_aef4_52540062e98frow6_col11\" class=\"data row6 col11\" >0.648126</td>\n",
       "                        <td id=\"T_d0046a5a_4926_11eb_aef4_52540062e98frow6_col12\" class=\"data row6 col12\" >0.179278</td>\n",
       "                        <td id=\"T_d0046a5a_4926_11eb_aef4_52540062e98frow6_col13\" class=\"data row6 col13\" >0.521954</td>\n",
       "                        <td id=\"T_d0046a5a_4926_11eb_aef4_52540062e98frow6_col14\" class=\"data row6 col14\" >0.351991</td>\n",
       "                        <td id=\"T_d0046a5a_4926_11eb_aef4_52540062e98frow6_col15\" class=\"data row6 col15\" >-0.147880</td>\n",
       "                        <td id=\"T_d0046a5a_4926_11eb_aef4_52540062e98frow6_col16\" class=\"data row6 col16\" >0.882059</td>\n",
       "            </tr>\n",
       "            <tr>\n",
       "                        <th id=\"T_d0046a5a_4926_11eb_aef4_52540062e98flevel0_row7\" class=\"row_heading level0 row7\" >Cancel_events</th>\n",
       "                        <td id=\"T_d0046a5a_4926_11eb_aef4_52540062e98frow7_col0\" class=\"data row7 col0\" >-0.408855</td>\n",
       "                        <td id=\"T_d0046a5a_4926_11eb_aef4_52540062e98frow7_col1\" class=\"data row7 col1\" >-0.522837</td>\n",
       "                        <td id=\"T_d0046a5a_4926_11eb_aef4_52540062e98frow7_col2\" class=\"data row7 col2\" >-0.613439</td>\n",
       "                        <td id=\"T_d0046a5a_4926_11eb_aef4_52540062e98frow7_col3\" class=\"data row7 col3\" >-0.625855</td>\n",
       "                        <td id=\"T_d0046a5a_4926_11eb_aef4_52540062e98frow7_col4\" class=\"data row7 col4\" >0.480381</td>\n",
       "                        <td id=\"T_d0046a5a_4926_11eb_aef4_52540062e98frow7_col5\" class=\"data row7 col5\" >0.518628</td>\n",
       "                        <td id=\"T_d0046a5a_4926_11eb_aef4_52540062e98frow7_col6\" class=\"data row7 col6\" >0.819589</td>\n",
       "                        <td id=\"T_d0046a5a_4926_11eb_aef4_52540062e98frow7_col7\" class=\"data row7 col7\" >1.000000</td>\n",
       "                        <td id=\"T_d0046a5a_4926_11eb_aef4_52540062e98frow7_col8\" class=\"data row7 col8\" >0.881279</td>\n",
       "                        <td id=\"T_d0046a5a_4926_11eb_aef4_52540062e98frow7_col9\" class=\"data row7 col9\" >0.428416</td>\n",
       "                        <td id=\"T_d0046a5a_4926_11eb_aef4_52540062e98frow7_col10\" class=\"data row7 col10\" >0.619950</td>\n",
       "                        <td id=\"T_d0046a5a_4926_11eb_aef4_52540062e98frow7_col11\" class=\"data row7 col11\" >0.610800</td>\n",
       "                        <td id=\"T_d0046a5a_4926_11eb_aef4_52540062e98frow7_col12\" class=\"data row7 col12\" >0.471588</td>\n",
       "                        <td id=\"T_d0046a5a_4926_11eb_aef4_52540062e98frow7_col13\" class=\"data row7 col13\" >0.611317</td>\n",
       "                        <td id=\"T_d0046a5a_4926_11eb_aef4_52540062e98frow7_col14\" class=\"data row7 col14\" >0.559296</td>\n",
       "                        <td id=\"T_d0046a5a_4926_11eb_aef4_52540062e98frow7_col15\" class=\"data row7 col15\" >0.100353</td>\n",
       "                        <td id=\"T_d0046a5a_4926_11eb_aef4_52540062e98frow7_col16\" class=\"data row7 col16\" >0.883074</td>\n",
       "            </tr>\n",
       "            <tr>\n",
       "                        <th id=\"T_d0046a5a_4926_11eb_aef4_52540062e98flevel0_row8\" class=\"row_heading level0 row8\" >Gatherings_restrictions</th>\n",
       "                        <td id=\"T_d0046a5a_4926_11eb_aef4_52540062e98frow8_col0\" class=\"data row8 col0\" >-0.419064</td>\n",
       "                        <td id=\"T_d0046a5a_4926_11eb_aef4_52540062e98frow8_col1\" class=\"data row8 col1\" >-0.562929</td>\n",
       "                        <td id=\"T_d0046a5a_4926_11eb_aef4_52540062e98frow8_col2\" class=\"data row8 col2\" >-0.664975</td>\n",
       "                        <td id=\"T_d0046a5a_4926_11eb_aef4_52540062e98frow8_col3\" class=\"data row8 col3\" >-0.633608</td>\n",
       "                        <td id=\"T_d0046a5a_4926_11eb_aef4_52540062e98frow8_col4\" class=\"data row8 col4\" >0.555880</td>\n",
       "                        <td id=\"T_d0046a5a_4926_11eb_aef4_52540062e98frow8_col5\" class=\"data row8 col5\" >0.529403</td>\n",
       "                        <td id=\"T_d0046a5a_4926_11eb_aef4_52540062e98frow8_col6\" class=\"data row8 col6\" >0.816223</td>\n",
       "                        <td id=\"T_d0046a5a_4926_11eb_aef4_52540062e98frow8_col7\" class=\"data row8 col7\" >0.881279</td>\n",
       "                        <td id=\"T_d0046a5a_4926_11eb_aef4_52540062e98frow8_col8\" class=\"data row8 col8\" >1.000000</td>\n",
       "                        <td id=\"T_d0046a5a_4926_11eb_aef4_52540062e98frow8_col9\" class=\"data row8 col9\" >0.395582</td>\n",
       "                        <td id=\"T_d0046a5a_4926_11eb_aef4_52540062e98frow8_col10\" class=\"data row8 col10\" >0.534411</td>\n",
       "                        <td id=\"T_d0046a5a_4926_11eb_aef4_52540062e98frow8_col11\" class=\"data row8 col11\" >0.651113</td>\n",
       "                        <td id=\"T_d0046a5a_4926_11eb_aef4_52540062e98frow8_col12\" class=\"data row8 col12\" >0.431751</td>\n",
       "                        <td id=\"T_d0046a5a_4926_11eb_aef4_52540062e98frow8_col13\" class=\"data row8 col13\" >0.540350</td>\n",
       "                        <td id=\"T_d0046a5a_4926_11eb_aef4_52540062e98frow8_col14\" class=\"data row8 col14\" >0.544885</td>\n",
       "                        <td id=\"T_d0046a5a_4926_11eb_aef4_52540062e98frow8_col15\" class=\"data row8 col15\" >0.146132</td>\n",
       "                        <td id=\"T_d0046a5a_4926_11eb_aef4_52540062e98frow8_col16\" class=\"data row8 col16\" >0.850520</td>\n",
       "            </tr>\n",
       "            <tr>\n",
       "                        <th id=\"T_d0046a5a_4926_11eb_aef4_52540062e98flevel0_row9\" class=\"row_heading level0 row9\" >Transport_closing</th>\n",
       "                        <td id=\"T_d0046a5a_4926_11eb_aef4_52540062e98frow9_col0\" class=\"data row9 col0\" >-0.084299</td>\n",
       "                        <td id=\"T_d0046a5a_4926_11eb_aef4_52540062e98frow9_col1\" class=\"data row9 col1\" >-0.139279</td>\n",
       "                        <td id=\"T_d0046a5a_4926_11eb_aef4_52540062e98frow9_col2\" class=\"data row9 col2\" >-0.185758</td>\n",
       "                        <td id=\"T_d0046a5a_4926_11eb_aef4_52540062e98frow9_col3\" class=\"data row9 col3\" >-0.242313</td>\n",
       "                        <td id=\"T_d0046a5a_4926_11eb_aef4_52540062e98frow9_col4\" class=\"data row9 col4\" >0.005258</td>\n",
       "                        <td id=\"T_d0046a5a_4926_11eb_aef4_52540062e98frow9_col5\" class=\"data row9 col5\" >0.388351</td>\n",
       "                        <td id=\"T_d0046a5a_4926_11eb_aef4_52540062e98frow9_col6\" class=\"data row9 col6\" >0.516638</td>\n",
       "                        <td id=\"T_d0046a5a_4926_11eb_aef4_52540062e98frow9_col7\" class=\"data row9 col7\" >0.428416</td>\n",
       "                        <td id=\"T_d0046a5a_4926_11eb_aef4_52540062e98frow9_col8\" class=\"data row9 col8\" >0.395582</td>\n",
       "                        <td id=\"T_d0046a5a_4926_11eb_aef4_52540062e98frow9_col9\" class=\"data row9 col9\" >1.000000</td>\n",
       "                        <td id=\"T_d0046a5a_4926_11eb_aef4_52540062e98frow9_col10\" class=\"data row9 col10\" >0.485254</td>\n",
       "                        <td id=\"T_d0046a5a_4926_11eb_aef4_52540062e98frow9_col11\" class=\"data row9 col11\" >0.582325</td>\n",
       "                        <td id=\"T_d0046a5a_4926_11eb_aef4_52540062e98frow9_col12\" class=\"data row9 col12\" >-0.187139</td>\n",
       "                        <td id=\"T_d0046a5a_4926_11eb_aef4_52540062e98frow9_col13\" class=\"data row9 col13\" >0.245806</td>\n",
       "                        <td id=\"T_d0046a5a_4926_11eb_aef4_52540062e98frow9_col14\" class=\"data row9 col14\" >0.010647</td>\n",
       "                        <td id=\"T_d0046a5a_4926_11eb_aef4_52540062e98frow9_col15\" class=\"data row9 col15\" >-0.235035</td>\n",
       "                        <td id=\"T_d0046a5a_4926_11eb_aef4_52540062e98frow9_col16\" class=\"data row9 col16\" >0.577509</td>\n",
       "            </tr>\n",
       "            <tr>\n",
       "                        <th id=\"T_d0046a5a_4926_11eb_aef4_52540062e98flevel0_row10\" class=\"row_heading level0 row10\" >Stay_home_restrictions</th>\n",
       "                        <td id=\"T_d0046a5a_4926_11eb_aef4_52540062e98frow10_col0\" class=\"data row10 col0\" >-0.086156</td>\n",
       "                        <td id=\"T_d0046a5a_4926_11eb_aef4_52540062e98frow10_col1\" class=\"data row10 col1\" >-0.182543</td>\n",
       "                        <td id=\"T_d0046a5a_4926_11eb_aef4_52540062e98frow10_col2\" class=\"data row10 col2\" >-0.357223</td>\n",
       "                        <td id=\"T_d0046a5a_4926_11eb_aef4_52540062e98frow10_col3\" class=\"data row10 col3\" >-0.310388</td>\n",
       "                        <td id=\"T_d0046a5a_4926_11eb_aef4_52540062e98frow10_col4\" class=\"data row10 col4\" >0.086423</td>\n",
       "                        <td id=\"T_d0046a5a_4926_11eb_aef4_52540062e98frow10_col5\" class=\"data row10 col5\" >0.480661</td>\n",
       "                        <td id=\"T_d0046a5a_4926_11eb_aef4_52540062e98frow10_col6\" class=\"data row10 col6\" >0.716641</td>\n",
       "                        <td id=\"T_d0046a5a_4926_11eb_aef4_52540062e98frow10_col7\" class=\"data row10 col7\" >0.619950</td>\n",
       "                        <td id=\"T_d0046a5a_4926_11eb_aef4_52540062e98frow10_col8\" class=\"data row10 col8\" >0.534411</td>\n",
       "                        <td id=\"T_d0046a5a_4926_11eb_aef4_52540062e98frow10_col9\" class=\"data row10 col9\" >0.485254</td>\n",
       "                        <td id=\"T_d0046a5a_4926_11eb_aef4_52540062e98frow10_col10\" class=\"data row10 col10\" >1.000000</td>\n",
       "                        <td id=\"T_d0046a5a_4926_11eb_aef4_52540062e98frow10_col11\" class=\"data row10 col11\" >0.496771</td>\n",
       "                        <td id=\"T_d0046a5a_4926_11eb_aef4_52540062e98frow10_col12\" class=\"data row10 col12\" >0.125701</td>\n",
       "                        <td id=\"T_d0046a5a_4926_11eb_aef4_52540062e98frow10_col13\" class=\"data row10 col13\" >0.366030</td>\n",
       "                        <td id=\"T_d0046a5a_4926_11eb_aef4_52540062e98frow10_col14\" class=\"data row10 col14\" >0.281077</td>\n",
       "                        <td id=\"T_d0046a5a_4926_11eb_aef4_52540062e98frow10_col15\" class=\"data row10 col15\" >-0.212676</td>\n",
       "                        <td id=\"T_d0046a5a_4926_11eb_aef4_52540062e98frow10_col16\" class=\"data row10 col16\" >0.698576</td>\n",
       "            </tr>\n",
       "            <tr>\n",
       "                        <th id=\"T_d0046a5a_4926_11eb_aef4_52540062e98flevel0_row11\" class=\"row_heading level0 row11\" >Internal_movement_restrictions</th>\n",
       "                        <td id=\"T_d0046a5a_4926_11eb_aef4_52540062e98frow11_col0\" class=\"data row11 col0\" >-0.245021</td>\n",
       "                        <td id=\"T_d0046a5a_4926_11eb_aef4_52540062e98frow11_col1\" class=\"data row11 col1\" >-0.199962</td>\n",
       "                        <td id=\"T_d0046a5a_4926_11eb_aef4_52540062e98frow11_col2\" class=\"data row11 col2\" >-0.315017</td>\n",
       "                        <td id=\"T_d0046a5a_4926_11eb_aef4_52540062e98frow11_col3\" class=\"data row11 col3\" >-0.307850</td>\n",
       "                        <td id=\"T_d0046a5a_4926_11eb_aef4_52540062e98frow11_col4\" class=\"data row11 col4\" >0.347163</td>\n",
       "                        <td id=\"T_d0046a5a_4926_11eb_aef4_52540062e98frow11_col5\" class=\"data row11 col5\" >0.570041</td>\n",
       "                        <td id=\"T_d0046a5a_4926_11eb_aef4_52540062e98frow11_col6\" class=\"data row11 col6\" >0.648126</td>\n",
       "                        <td id=\"T_d0046a5a_4926_11eb_aef4_52540062e98frow11_col7\" class=\"data row11 col7\" >0.610800</td>\n",
       "                        <td id=\"T_d0046a5a_4926_11eb_aef4_52540062e98frow11_col8\" class=\"data row11 col8\" >0.651113</td>\n",
       "                        <td id=\"T_d0046a5a_4926_11eb_aef4_52540062e98frow11_col9\" class=\"data row11 col9\" >0.582325</td>\n",
       "                        <td id=\"T_d0046a5a_4926_11eb_aef4_52540062e98frow11_col10\" class=\"data row11 col10\" >0.496771</td>\n",
       "                        <td id=\"T_d0046a5a_4926_11eb_aef4_52540062e98frow11_col11\" class=\"data row11 col11\" >1.000000</td>\n",
       "                        <td id=\"T_d0046a5a_4926_11eb_aef4_52540062e98frow11_col12\" class=\"data row11 col12\" >-0.058417</td>\n",
       "                        <td id=\"T_d0046a5a_4926_11eb_aef4_52540062e98frow11_col13\" class=\"data row11 col13\" >0.364919</td>\n",
       "                        <td id=\"T_d0046a5a_4926_11eb_aef4_52540062e98frow11_col14\" class=\"data row11 col14\" >0.093025</td>\n",
       "                        <td id=\"T_d0046a5a_4926_11eb_aef4_52540062e98frow11_col15\" class=\"data row11 col15\" >-0.083141</td>\n",
       "                        <td id=\"T_d0046a5a_4926_11eb_aef4_52540062e98frow11_col16\" class=\"data row11 col16\" >0.691930</td>\n",
       "            </tr>\n",
       "            <tr>\n",
       "                        <th id=\"T_d0046a5a_4926_11eb_aef4_52540062e98flevel0_row12\" class=\"row_heading level0 row12\" >International_movement_restrictions</th>\n",
       "                        <td id=\"T_d0046a5a_4926_11eb_aef4_52540062e98frow12_col0\" class=\"data row12 col0\" >-0.327862</td>\n",
       "                        <td id=\"T_d0046a5a_4926_11eb_aef4_52540062e98frow12_col1\" class=\"data row12 col1\" >-0.566925</td>\n",
       "                        <td id=\"T_d0046a5a_4926_11eb_aef4_52540062e98frow12_col2\" class=\"data row12 col2\" >-0.506103</td>\n",
       "                        <td id=\"T_d0046a5a_4926_11eb_aef4_52540062e98frow12_col3\" class=\"data row12 col3\" >-0.587166</td>\n",
       "                        <td id=\"T_d0046a5a_4926_11eb_aef4_52540062e98frow12_col4\" class=\"data row12 col4\" >0.315102</td>\n",
       "                        <td id=\"T_d0046a5a_4926_11eb_aef4_52540062e98frow12_col5\" class=\"data row12 col5\" >0.038837</td>\n",
       "                        <td id=\"T_d0046a5a_4926_11eb_aef4_52540062e98frow12_col6\" class=\"data row12 col6\" >0.179278</td>\n",
       "                        <td id=\"T_d0046a5a_4926_11eb_aef4_52540062e98frow12_col7\" class=\"data row12 col7\" >0.471588</td>\n",
       "                        <td id=\"T_d0046a5a_4926_11eb_aef4_52540062e98frow12_col8\" class=\"data row12 col8\" >0.431751</td>\n",
       "                        <td id=\"T_d0046a5a_4926_11eb_aef4_52540062e98frow12_col9\" class=\"data row12 col9\" >-0.187139</td>\n",
       "                        <td id=\"T_d0046a5a_4926_11eb_aef4_52540062e98frow12_col10\" class=\"data row12 col10\" >0.125701</td>\n",
       "                        <td id=\"T_d0046a5a_4926_11eb_aef4_52540062e98frow12_col11\" class=\"data row12 col11\" >-0.058417</td>\n",
       "                        <td id=\"T_d0046a5a_4926_11eb_aef4_52540062e98frow12_col12\" class=\"data row12 col12\" >1.000000</td>\n",
       "                        <td id=\"T_d0046a5a_4926_11eb_aef4_52540062e98frow12_col13\" class=\"data row12 col13\" >0.359050</td>\n",
       "                        <td id=\"T_d0046a5a_4926_11eb_aef4_52540062e98frow12_col14\" class=\"data row12 col14\" >0.659748</td>\n",
       "                        <td id=\"T_d0046a5a_4926_11eb_aef4_52540062e98frow12_col15\" class=\"data row12 col15\" >0.372874</td>\n",
       "                        <td id=\"T_d0046a5a_4926_11eb_aef4_52540062e98frow12_col16\" class=\"data row12 col16\" >0.357723</td>\n",
       "            </tr>\n",
       "            <tr>\n",
       "                        <th id=\"T_d0046a5a_4926_11eb_aef4_52540062e98flevel0_row13\" class=\"row_heading level0 row13\" >Information_campaigns</th>\n",
       "                        <td id=\"T_d0046a5a_4926_11eb_aef4_52540062e98frow13_col0\" class=\"data row13 col0\" >-0.083797</td>\n",
       "                        <td id=\"T_d0046a5a_4926_11eb_aef4_52540062e98frow13_col1\" class=\"data row13 col1\" >-0.563935</td>\n",
       "                        <td id=\"T_d0046a5a_4926_11eb_aef4_52540062e98frow13_col2\" class=\"data row13 col2\" >-0.634701</td>\n",
       "                        <td id=\"T_d0046a5a_4926_11eb_aef4_52540062e98frow13_col3\" class=\"data row13 col3\" >-0.296003</td>\n",
       "                        <td id=\"T_d0046a5a_4926_11eb_aef4_52540062e98frow13_col4\" class=\"data row13 col4\" >0.314776</td>\n",
       "                        <td id=\"T_d0046a5a_4926_11eb_aef4_52540062e98frow13_col5\" class=\"data row13 col5\" >0.334182</td>\n",
       "                        <td id=\"T_d0046a5a_4926_11eb_aef4_52540062e98frow13_col6\" class=\"data row13 col6\" >0.521954</td>\n",
       "                        <td id=\"T_d0046a5a_4926_11eb_aef4_52540062e98frow13_col7\" class=\"data row13 col7\" >0.611317</td>\n",
       "                        <td id=\"T_d0046a5a_4926_11eb_aef4_52540062e98frow13_col8\" class=\"data row13 col8\" >0.540350</td>\n",
       "                        <td id=\"T_d0046a5a_4926_11eb_aef4_52540062e98frow13_col9\" class=\"data row13 col9\" >0.245806</td>\n",
       "                        <td id=\"T_d0046a5a_4926_11eb_aef4_52540062e98frow13_col10\" class=\"data row13 col10\" >0.366030</td>\n",
       "                        <td id=\"T_d0046a5a_4926_11eb_aef4_52540062e98frow13_col11\" class=\"data row13 col11\" >0.364919</td>\n",
       "                        <td id=\"T_d0046a5a_4926_11eb_aef4_52540062e98frow13_col12\" class=\"data row13 col12\" >0.359050</td>\n",
       "                        <td id=\"T_d0046a5a_4926_11eb_aef4_52540062e98frow13_col13\" class=\"data row13 col13\" >1.000000</td>\n",
       "                        <td id=\"T_d0046a5a_4926_11eb_aef4_52540062e98frow13_col14\" class=\"data row13 col14\" >0.482363</td>\n",
       "                        <td id=\"T_d0046a5a_4926_11eb_aef4_52540062e98frow13_col15\" class=\"data row13 col15\" >0.322804</td>\n",
       "                        <td id=\"T_d0046a5a_4926_11eb_aef4_52540062e98frow13_col16\" class=\"data row13 col16\" >0.635959</td>\n",
       "            </tr>\n",
       "            <tr>\n",
       "                        <th id=\"T_d0046a5a_4926_11eb_aef4_52540062e98flevel0_row14\" class=\"row_heading level0 row14\" >Testing_policy</th>\n",
       "                        <td id=\"T_d0046a5a_4926_11eb_aef4_52540062e98frow14_col0\" class=\"data row14 col0\" >-0.387466</td>\n",
       "                        <td id=\"T_d0046a5a_4926_11eb_aef4_52540062e98frow14_col1\" class=\"data row14 col1\" >-0.667009</td>\n",
       "                        <td id=\"T_d0046a5a_4926_11eb_aef4_52540062e98frow14_col2\" class=\"data row14 col2\" >-0.658311</td>\n",
       "                        <td id=\"T_d0046a5a_4926_11eb_aef4_52540062e98frow14_col3\" class=\"data row14 col3\" >-0.605377</td>\n",
       "                        <td id=\"T_d0046a5a_4926_11eb_aef4_52540062e98frow14_col4\" class=\"data row14 col4\" >0.324148</td>\n",
       "                        <td id=\"T_d0046a5a_4926_11eb_aef4_52540062e98frow14_col5\" class=\"data row14 col5\" >-0.009159</td>\n",
       "                        <td id=\"T_d0046a5a_4926_11eb_aef4_52540062e98frow14_col6\" class=\"data row14 col6\" >0.351991</td>\n",
       "                        <td id=\"T_d0046a5a_4926_11eb_aef4_52540062e98frow14_col7\" class=\"data row14 col7\" >0.559296</td>\n",
       "                        <td id=\"T_d0046a5a_4926_11eb_aef4_52540062e98frow14_col8\" class=\"data row14 col8\" >0.544885</td>\n",
       "                        <td id=\"T_d0046a5a_4926_11eb_aef4_52540062e98frow14_col9\" class=\"data row14 col9\" >0.010647</td>\n",
       "                        <td id=\"T_d0046a5a_4926_11eb_aef4_52540062e98frow14_col10\" class=\"data row14 col10\" >0.281077</td>\n",
       "                        <td id=\"T_d0046a5a_4926_11eb_aef4_52540062e98frow14_col11\" class=\"data row14 col11\" >0.093025</td>\n",
       "                        <td id=\"T_d0046a5a_4926_11eb_aef4_52540062e98frow14_col12\" class=\"data row14 col12\" >0.659748</td>\n",
       "                        <td id=\"T_d0046a5a_4926_11eb_aef4_52540062e98frow14_col13\" class=\"data row14 col13\" >0.482363</td>\n",
       "                        <td id=\"T_d0046a5a_4926_11eb_aef4_52540062e98frow14_col14\" class=\"data row14 col14\" >1.000000</td>\n",
       "                        <td id=\"T_d0046a5a_4926_11eb_aef4_52540062e98frow14_col15\" class=\"data row14 col15\" >0.454958</td>\n",
       "                        <td id=\"T_d0046a5a_4926_11eb_aef4_52540062e98frow14_col16\" class=\"data row14 col16\" >0.356760</td>\n",
       "            </tr>\n",
       "            <tr>\n",
       "                        <th id=\"T_d0046a5a_4926_11eb_aef4_52540062e98flevel0_row15\" class=\"row_heading level0 row15\" >Contact_tracing</th>\n",
       "                        <td id=\"T_d0046a5a_4926_11eb_aef4_52540062e98frow15_col0\" class=\"data row15 col0\" >-0.179383</td>\n",
       "                        <td id=\"T_d0046a5a_4926_11eb_aef4_52540062e98frow15_col1\" class=\"data row15 col1\" >-0.272404</td>\n",
       "                        <td id=\"T_d0046a5a_4926_11eb_aef4_52540062e98frow15_col2\" class=\"data row15 col2\" >-0.236973</td>\n",
       "                        <td id=\"T_d0046a5a_4926_11eb_aef4_52540062e98frow15_col3\" class=\"data row15 col3\" >-0.175069</td>\n",
       "                        <td id=\"T_d0046a5a_4926_11eb_aef4_52540062e98frow15_col4\" class=\"data row15 col4\" >0.252903</td>\n",
       "                        <td id=\"T_d0046a5a_4926_11eb_aef4_52540062e98frow15_col5\" class=\"data row15 col5\" >-0.104762</td>\n",
       "                        <td id=\"T_d0046a5a_4926_11eb_aef4_52540062e98frow15_col6\" class=\"data row15 col6\" >-0.147880</td>\n",
       "                        <td id=\"T_d0046a5a_4926_11eb_aef4_52540062e98frow15_col7\" class=\"data row15 col7\" >0.100353</td>\n",
       "                        <td id=\"T_d0046a5a_4926_11eb_aef4_52540062e98frow15_col8\" class=\"data row15 col8\" >0.146132</td>\n",
       "                        <td id=\"T_d0046a5a_4926_11eb_aef4_52540062e98frow15_col9\" class=\"data row15 col9\" >-0.235035</td>\n",
       "                        <td id=\"T_d0046a5a_4926_11eb_aef4_52540062e98frow15_col10\" class=\"data row15 col10\" >-0.212676</td>\n",
       "                        <td id=\"T_d0046a5a_4926_11eb_aef4_52540062e98frow15_col11\" class=\"data row15 col11\" >-0.083141</td>\n",
       "                        <td id=\"T_d0046a5a_4926_11eb_aef4_52540062e98frow15_col12\" class=\"data row15 col12\" >0.372874</td>\n",
       "                        <td id=\"T_d0046a5a_4926_11eb_aef4_52540062e98frow15_col13\" class=\"data row15 col13\" >0.322804</td>\n",
       "                        <td id=\"T_d0046a5a_4926_11eb_aef4_52540062e98frow15_col14\" class=\"data row15 col14\" >0.454958</td>\n",
       "                        <td id=\"T_d0046a5a_4926_11eb_aef4_52540062e98frow15_col15\" class=\"data row15 col15\" >1.000000</td>\n",
       "                        <td id=\"T_d0046a5a_4926_11eb_aef4_52540062e98frow15_col16\" class=\"data row15 col16\" >-0.045061</td>\n",
       "            </tr>\n",
       "            <tr>\n",
       "                        <th id=\"T_d0046a5a_4926_11eb_aef4_52540062e98flevel0_row16\" class=\"row_heading level0 row16\" >Stringency_index</th>\n",
       "                        <td id=\"T_d0046a5a_4926_11eb_aef4_52540062e98frow16_col0\" class=\"data row16 col0\" >-0.261969</td>\n",
       "                        <td id=\"T_d0046a5a_4926_11eb_aef4_52540062e98frow16_col1\" class=\"data row16 col1\" >-0.434855</td>\n",
       "                        <td id=\"T_d0046a5a_4926_11eb_aef4_52540062e98frow16_col2\" class=\"data row16 col2\" >-0.556183</td>\n",
       "                        <td id=\"T_d0046a5a_4926_11eb_aef4_52540062e98frow16_col3\" class=\"data row16 col3\" >-0.535136</td>\n",
       "                        <td id=\"T_d0046a5a_4926_11eb_aef4_52540062e98frow16_col4\" class=\"data row16 col4\" >0.410491</td>\n",
       "                        <td id=\"T_d0046a5a_4926_11eb_aef4_52540062e98frow16_col5\" class=\"data row16 col5\" >0.688634</td>\n",
       "                        <td id=\"T_d0046a5a_4926_11eb_aef4_52540062e98frow16_col6\" class=\"data row16 col6\" >0.882059</td>\n",
       "                        <td id=\"T_d0046a5a_4926_11eb_aef4_52540062e98frow16_col7\" class=\"data row16 col7\" >0.883074</td>\n",
       "                        <td id=\"T_d0046a5a_4926_11eb_aef4_52540062e98frow16_col8\" class=\"data row16 col8\" >0.850520</td>\n",
       "                        <td id=\"T_d0046a5a_4926_11eb_aef4_52540062e98frow16_col9\" class=\"data row16 col9\" >0.577509</td>\n",
       "                        <td id=\"T_d0046a5a_4926_11eb_aef4_52540062e98frow16_col10\" class=\"data row16 col10\" >0.698576</td>\n",
       "                        <td id=\"T_d0046a5a_4926_11eb_aef4_52540062e98frow16_col11\" class=\"data row16 col11\" >0.691930</td>\n",
       "                        <td id=\"T_d0046a5a_4926_11eb_aef4_52540062e98frow16_col12\" class=\"data row16 col12\" >0.357723</td>\n",
       "                        <td id=\"T_d0046a5a_4926_11eb_aef4_52540062e98frow16_col13\" class=\"data row16 col13\" >0.635959</td>\n",
       "                        <td id=\"T_d0046a5a_4926_11eb_aef4_52540062e98frow16_col14\" class=\"data row16 col14\" >0.356760</td>\n",
       "                        <td id=\"T_d0046a5a_4926_11eb_aef4_52540062e98frow16_col15\" class=\"data row16 col15\" >-0.045061</td>\n",
       "                        <td id=\"T_d0046a5a_4926_11eb_aef4_52540062e98frow16_col16\" class=\"data row16 col16\" >1.000000</td>\n",
       "            </tr>\n",
       "    </tbody></table>"
      ],
      "text/plain": [
       "<pandas.io.formats.style.Styler at 0x7fdc5ecfec10>"
      ]
     },
     "execution_count": 21,
     "metadata": {},
     "output_type": "execute_result"
    }
   ],
   "source": [
    "# Correlation\n",
    "df = track_df.copy()\n",
    "df.corr().style.background_gradient(axis=None)"
   ]
  },
  {
   "cell_type": "code",
   "execution_count": 22,
   "metadata": {
    "collapsed": false
   },
   "outputs": [
    {
     "data": {
      "image/png": "[encoded data removed]",
      "text/plain": [
       "<Figure size 432x288 with 1 Axes>"
      ]
     },
     "metadata": {},
     "output_type": "display_data"
    }
   ],
   "source": [
    "# Scatter plot of Stringency index and Rt\n",
    "df = track_df.copy()\n",
    "sns.scatterplot(data=df, x=\"Stringency_index\", y=\"Rt\", hue=\"Country\", legend=\"brief\", marker=\"+\")\n",
    "bbox_to_anchor=(1.02, 0)\n",
    "bbox_loc=\"lower left\"\n",
    "plt.legend(bbox_to_anchor=bbox_to_anchor, loc=bbox_loc, borderaxespad=0)\n",
    "plt.title(\"Relationship of Stringency index and reproduction number\")\n",
    "plt.ylabel(\"Reproduction number\")\n",
    "plt.xlabel(\"Stringency index\")\n",
    "plt.show()"
   ]
  }
 ],
 "metadata": {
  "kernelspec": {
   "display_name": "Python 3.8.2 64-bit ('.venv': venv)",
   "name": "python_defaultSpec_1597669925034"
  },
  "language_info": {
   "codemirror_mode": {
    "name": "ipython",
    "version": 3
   },
   "file_extension": ".py",
   "mimetype": "text/x-python",
   "name": "python",
   "nbconvert_exporter": "python",
   "pygments_lexer": "ipython3",
   "version": "3.8.2-final"
  }
 },
 "nbformat": 4,
 "nbformat_minor": 4
}
