{
 "cells": [
  {
   "cell_type": "markdown",
   "metadata": {},
   "source": [
    "# Usage: policy measures\n",
    "Here, we will analyse the relationship of policy measures and parameter values of SIR-derived ODE models. Policy measures are tracked by [Oxford Covid-19 Government Response Tracker (OxCGRT)](https://github.com/OxCGRT/covid-policy-tracker)."
   ]
  },
  {
   "cell_type": "markdown",
   "metadata": {},
   "source": [
    "## Preparation"
   ]
  },
  {
   "cell_type": "code",
   "execution_count": 1,
   "metadata": {
    "collapsed": false
   },
   "outputs": [],
   "source": [
    "# Standard users\n",
    "# !pip install covsirphy\n",
    "# Developers (Note: this notebook is in example directory)\n",
    "import os\n",
    "os.chdir(\"../\")"
   ]
  },
  {
   "cell_type": "code",
   "execution_count": 2,
   "metadata": {
    "collapsed": false
   },
   "outputs": [],
   "source": [
    "from pprint import pprint"
   ]
  },
  {
   "cell_type": "code",
   "execution_count": 3,
   "metadata": {
    "collapsed": false
   },
   "outputs": [
    {
     "data": {
      "text/plain": [
       "'2.14.0-delta'"
      ]
     },
     "execution_count": 3,
     "metadata": {},
     "output_type": "execute_result"
    }
   ],
   "source": [
    "import covsirphy as cs\n",
    "cs.__version__"
   ]
  },
  {
   "cell_type": "code",
   "execution_count": 4,
   "metadata": {
    "collapsed": false,
    "tags": []
   },
   "outputs": [
    {
     "name": "stdout",
     "output_type": "stream",
     "text": [
      "(Secondary source) Guidotti, E., Ardia, D., (2020), \"COVID-19 Data Hub\", Journal of Open Source Software 5(51):2376, doi: 10.21105/joss.02376.\n"
     ]
    }
   ],
   "source": [
    "# Standard users and developers\n",
    "data_loader = cs.DataLoader(\"input\")\n",
    "# The number of cases (JHU style)\n",
    "jhu_data = data_loader.jhu(verbose=False)\n",
    "# Population in each country\n",
    "population_data = data_loader.population(verbose=False)\n",
    "# Government Response Tracker (OxCGRT)\n",
    "oxcgrt_data = data_loader.oxcgrt(verbose=False)\n",
    "# Description/citation\n",
    "print(oxcgrt_data.citation)"
   ]
  },
  {
   "cell_type": "markdown",
   "metadata": {},
   "source": [
    "## Class for policy measure analysis\n",
    "We will `PolicyMeasures` class to find relationship of policy measures and parameter values of SIR-derived ODE models."
   ]
  },
  {
   "cell_type": "code",
   "execution_count": 5,
   "metadata": {
    "collapsed": false,
    "tags": []
   },
   "outputs": [
    {
     "data": {
      "text/plain": [
       "196"
      ]
     },
     "execution_count": 5,
     "metadata": {},
     "output_type": "execute_result"
    }
   ],
   "source": [
    "# Create analyser with tau value 360 [min] (can be changed)\n",
    "analyser = cs.PolicyMeasures(jhu_data, population_data, oxcgrt_data, tau=360)\n",
    "# The number of registerd countries\n",
    "len(analyser.countries)"
   ]
  },
  {
   "cell_type": "code",
   "execution_count": 6,
   "metadata": {
    "collapsed": false
   },
   "outputs": [
    {
     "data": {
      "text/plain": [
       "covsirphy.analysis.scenario.Scenario"
      ]
     },
     "execution_count": 6,
     "metadata": {},
     "output_type": "execute_result"
    }
   ],
   "source": [
    "# We can get Scenario instance for detailed scenario analysis\n",
    "type(analyser.scenario(\"Japan\"))"
   ]
  },
  {
   "cell_type": "markdown",
   "metadata": {},
   "source": [
    "## Set phases with S-R trend analysis\n",
    "We will perform S-R trend analysis to set phases in all countries. Countries which do not have **17th phases** will be un-registered for the next analysis. This number will be adjusted for your analysis."
   ]
  },
  {
   "cell_type": "code",
   "execution_count": 7,
   "metadata": {
    "collapsed": false
   },
   "outputs": [
    {
     "name": "stdout",
     "output_type": "stream",
     "text": [
      "{2: ['Laos', 'Saint Kitts and Nevis', 'Holy See'],\n",
      " 3: ['Fiji', 'Timor-Leste'],\n",
      " 4: ['Grenada', 'Dominica', 'Tanzania'],\n",
      " 5: ['Brunei'],\n",
      " 6: ['Saint Lucia', 'Equatorial Guinea', 'Saint Vincent and the Grenadines'],\n",
      " 7: ['Sao Tome and Principe', 'Antigua and Barbuda', 'Northern Mariana Islands',\n",
      "     'Mauritius'],\n",
      " 8: ['Kyrgyzstan', 'Bahamas', 'Cambodia'],\n",
      " 9: ['Guam', 'Gambia', 'Botswana', 'Madagascar', 'Zimbabwe', 'Liechtenstein',\n",
      "     'Seychelles', 'Philippines', 'Trinidad and Tobago', 'Uzbekistan',\n",
      "     'Vietnam', 'Australia', 'Ethiopia', 'Republic of the Congo', 'Jamaica'],\n",
      " 10: ['Djibouti', 'Oman', 'Maldives', 'Cape Verde', 'Benin', 'Iceland',\n",
      "      'Papua New Guinea', 'Guyana', 'Belize', 'Guatemala', 'Taiwan', 'Honduras',\n",
      "      'Kazakhstan', 'Ghana', 'Kenya', 'Libya', 'Virgin Islands, U.S.',\n",
      "      'Singapore', 'India', 'Bolivia', 'Angola', 'Monaco', 'Venezuela',\n",
      "      'Bahrain', 'Iraq', 'Suriname'],\n",
      " 11: ['Uganda', 'Kuwait', 'Brazil', 'Bangladesh', 'Bhutan', 'Saudi Arabia',\n",
      "      'Mozambique', 'Barbados', 'Nepal', \"Cote d'Ivoire\", 'Argentina', 'Israel',\n",
      "      'Colombia', 'Chile', 'South Africa', 'Rwanda', 'Nicaragua', 'Mongolia',\n",
      "      'Gabon', 'Namibia', 'Zambia', 'Peru', 'Lesotho', 'Ecuador', 'Andorra',\n",
      "      'Algeria', 'Costa Rica', 'New Zealand', 'Senegal', 'Dominican Republic',\n",
      "      'Yemen', 'Pakistan', 'Burundi', 'El Salvador', 'Paraguay', 'Syria'],\n",
      " 12: ['Kosovo', 'South Sudan', 'Egypt', 'Malawi', 'Comoros', 'Togo', 'Bermuda',\n",
      "      'Morocco', 'Panama', 'Swaziland', 'Georgia', 'Ireland', 'Sudan',\n",
      "      'Guinea-Bissau', 'Puerto Rico', 'Myanmar', 'Mexico', 'Liberia', 'Somalia',\n",
      "      'Eritrea', 'Nigeria', 'Cameroon', 'Montenegro', 'Guinea'],\n",
      " 13: ['Sierra Leone', 'Slovenia', 'Qatar', 'Cuba', 'Mali',\n",
      "      'Democratic Republic of the Congo', 'Indonesia', 'Tajikistan', 'Malta',\n",
      "      'Central African Republic', 'Niger', 'Armenia', 'Palestine',\n",
      "      'Afghanistan'],\n",
      " 14: ['China', 'Lithuania', 'Jordan', 'Haiti', 'Azerbaijan', 'Moldova',\n",
      "      'Burkina Faso', 'Serbia', 'Hungary', 'Japan', 'Tunisia', 'Greece',\n",
      "      'San Marino', 'Lebanon', 'United Arab Emirates', 'United States', 'Iran',\n",
      "      'Bosnia and Herzegovina', 'Russia', 'Chad'],\n",
      " 15: ['Turkey', 'Sri Lanka', 'Spain', 'Bulgaria', 'Slovakia', 'Albania',\n",
      "      'Luxembourg', 'Mauritania', 'Cyprus', 'Belarus', 'Croatia', 'Thailand',\n",
      "      'North Macedonia', 'Poland', 'Ukraine', 'Latvia'],\n",
      " 16: ['Estonia', 'France', 'Czech Republic', 'Austria', 'Uruguay'],\n",
      " 17: ['Italy', 'Canada', 'Malaysia', 'Sweden', 'Romania', 'Belgium', 'Finland',\n",
      "      'Denmark', 'Switzerland'],\n",
      " 18: ['Netherlands', 'Norway', 'Portugal', 'United Kingdom'],\n",
      " 19: ['Germany']}\n"
     ]
    }
   ],
   "source": [
    "# Show the number of phases of all countries\n",
    "analyser.trend()\n",
    "pprint(analyser.phase_len(), compact=True)"
   ]
  },
  {
   "cell_type": "code",
   "execution_count": 8,
   "metadata": {
    "collapsed": false
   },
   "outputs": [
    {
     "data": {
      "text/plain": [
       "14"
      ]
     },
     "execution_count": 8,
     "metadata": {},
     "output_type": "execute_result"
    }
   ],
   "source": [
    "# Set phases with S-R trend analysis\n",
    "analyser.trend(min_len=17)\n",
    "# The number of countries\n",
    "len(analyser.countries)"
   ]
  },
  {
   "cell_type": "code",
   "execution_count": 9,
   "metadata": {
    "collapsed": false,
    "tags": []
   },
   "outputs": [
    {
     "name": "stdout",
     "output_type": "stream",
     "text": [
      "{17: ['Italy', 'Canada', 'Malaysia', 'Sweden', 'Romania', 'Belgium', 'Finland',\n",
      "      'Denmark', 'Switzerland'],\n",
      " 18: ['Netherlands', 'Norway', 'Portugal', 'United Kingdom'],\n",
      " 19: ['Germany']}\n"
     ]
    }
   ],
   "source": [
    "phase_len_dict = analyser.phase_len()\n",
    "pprint(phase_len_dict, compact=True)"
   ]
  },
  {
   "cell_type": "code",
   "execution_count": 10,
   "metadata": {
    "collapsed": false,
    "tags": []
   },
   "outputs": [
    {
     "data": {
      "text/html": [
       "<div>\n",
       "<style scoped>\n",
       "    .dataframe tbody tr th:only-of-type {\n",
       "        vertical-align: middle;\n",
       "    }\n",
       "\n",
       "    .dataframe tbody tr th {\n",
       "        vertical-align: top;\n",
       "    }\n",
       "\n",
       "    .dataframe thead th {\n",
       "        text-align: right;\n",
       "    }\n",
       "</style>\n",
       "<table border=\"1\" class=\"dataframe\">\n",
       "  <thead>\n",
       "    <tr style=\"text-align: right;\">\n",
       "      <th></th>\n",
       "      <th></th>\n",
       "      <th>Type</th>\n",
       "      <th>Start</th>\n",
       "      <th>End</th>\n",
       "      <th>Population</th>\n",
       "    </tr>\n",
       "    <tr>\n",
       "      <th>Country</th>\n",
       "      <th>Phase</th>\n",
       "      <th></th>\n",
       "      <th></th>\n",
       "      <th></th>\n",
       "      <th></th>\n",
       "    </tr>\n",
       "  </thead>\n",
       "  <tbody>\n",
       "    <tr>\n",
       "      <th rowspan=\"19\" valign=\"top\">Germany</th>\n",
       "      <th>0th</th>\n",
       "      <td>Past</td>\n",
       "      <td>19Jan2020</td>\n",
       "      <td>22Mar2020</td>\n",
       "      <td>82905782</td>\n",
       "    </tr>\n",
       "    <tr>\n",
       "      <th>1st</th>\n",
       "      <td>Past</td>\n",
       "      <td>23Mar2020</td>\n",
       "      <td>02Apr2020</td>\n",
       "      <td>82905782</td>\n",
       "    </tr>\n",
       "    <tr>\n",
       "      <th>2nd</th>\n",
       "      <td>Past</td>\n",
       "      <td>03Apr2020</td>\n",
       "      <td>20Apr2020</td>\n",
       "      <td>82905782</td>\n",
       "    </tr>\n",
       "    <tr>\n",
       "      <th>3rd</th>\n",
       "      <td>Past</td>\n",
       "      <td>21Apr2020</td>\n",
       "      <td>16Jun2020</td>\n",
       "      <td>82905782</td>\n",
       "    </tr>\n",
       "    <tr>\n",
       "      <th>4th</th>\n",
       "      <td>Past</td>\n",
       "      <td>17Jun2020</td>\n",
       "      <td>15Aug2020</td>\n",
       "      <td>82905782</td>\n",
       "    </tr>\n",
       "    <tr>\n",
       "      <th>5th</th>\n",
       "      <td>Past</td>\n",
       "      <td>16Aug2020</td>\n",
       "      <td>16Sep2020</td>\n",
       "      <td>82905782</td>\n",
       "    </tr>\n",
       "    <tr>\n",
       "      <th>6th</th>\n",
       "      <td>Past</td>\n",
       "      <td>17Sep2020</td>\n",
       "      <td>08Oct2020</td>\n",
       "      <td>82905782</td>\n",
       "    </tr>\n",
       "    <tr>\n",
       "      <th>7th</th>\n",
       "      <td>Past</td>\n",
       "      <td>09Oct2020</td>\n",
       "      <td>20Oct2020</td>\n",
       "      <td>82905782</td>\n",
       "    </tr>\n",
       "    <tr>\n",
       "      <th>8th</th>\n",
       "      <td>Past</td>\n",
       "      <td>21Oct2020</td>\n",
       "      <td>27Oct2020</td>\n",
       "      <td>82905782</td>\n",
       "    </tr>\n",
       "    <tr>\n",
       "      <th>9th</th>\n",
       "      <td>Past</td>\n",
       "      <td>28Oct2020</td>\n",
       "      <td>03Nov2020</td>\n",
       "      <td>82905782</td>\n",
       "    </tr>\n",
       "    <tr>\n",
       "      <th>10th</th>\n",
       "      <td>Past</td>\n",
       "      <td>04Nov2020</td>\n",
       "      <td>10Nov2020</td>\n",
       "      <td>82905782</td>\n",
       "    </tr>\n",
       "    <tr>\n",
       "      <th>11th</th>\n",
       "      <td>Past</td>\n",
       "      <td>11Nov2020</td>\n",
       "      <td>17Nov2020</td>\n",
       "      <td>82905782</td>\n",
       "    </tr>\n",
       "    <tr>\n",
       "      <th>12th</th>\n",
       "      <td>Past</td>\n",
       "      <td>18Nov2020</td>\n",
       "      <td>24Nov2020</td>\n",
       "      <td>82905782</td>\n",
       "    </tr>\n",
       "    <tr>\n",
       "      <th>13th</th>\n",
       "      <td>Past</td>\n",
       "      <td>25Nov2020</td>\n",
       "      <td>01Dec2020</td>\n",
       "      <td>82905782</td>\n",
       "    </tr>\n",
       "    <tr>\n",
       "      <th>14th</th>\n",
       "      <td>Past</td>\n",
       "      <td>02Dec2020</td>\n",
       "      <td>08Dec2020</td>\n",
       "      <td>82905782</td>\n",
       "    </tr>\n",
       "    <tr>\n",
       "      <th>15th</th>\n",
       "      <td>Past</td>\n",
       "      <td>09Dec2020</td>\n",
       "      <td>15Dec2020</td>\n",
       "      <td>82905782</td>\n",
       "    </tr>\n",
       "    <tr>\n",
       "      <th>16th</th>\n",
       "      <td>Past</td>\n",
       "      <td>16Dec2020</td>\n",
       "      <td>21Dec2020</td>\n",
       "      <td>82905782</td>\n",
       "    </tr>\n",
       "    <tr>\n",
       "      <th>17th</th>\n",
       "      <td>Past</td>\n",
       "      <td>22Dec2020</td>\n",
       "      <td>28Dec2020</td>\n",
       "      <td>82905782</td>\n",
       "    </tr>\n",
       "    <tr>\n",
       "      <th>18th</th>\n",
       "      <td>Past</td>\n",
       "      <td>29Dec2020</td>\n",
       "      <td>06Jan2021</td>\n",
       "      <td>82905782</td>\n",
       "    </tr>\n",
       "  </tbody>\n",
       "</table>\n",
       "</div>"
      ],
      "text/plain": [
       "               Type      Start        End  Population\n",
       "Country Phase                                        \n",
       "Germany 0th    Past  19Jan2020  22Mar2020    82905782\n",
       "        1st    Past  23Mar2020  02Apr2020    82905782\n",
       "        2nd    Past  03Apr2020  20Apr2020    82905782\n",
       "        3rd    Past  21Apr2020  16Jun2020    82905782\n",
       "        4th    Past  17Jun2020  15Aug2020    82905782\n",
       "        5th    Past  16Aug2020  16Sep2020    82905782\n",
       "        6th    Past  17Sep2020  08Oct2020    82905782\n",
       "        7th    Past  09Oct2020  20Oct2020    82905782\n",
       "        8th    Past  21Oct2020  27Oct2020    82905782\n",
       "        9th    Past  28Oct2020  03Nov2020    82905782\n",
       "        10th   Past  04Nov2020  10Nov2020    82905782\n",
       "        11th   Past  11Nov2020  17Nov2020    82905782\n",
       "        12th   Past  18Nov2020  24Nov2020    82905782\n",
       "        13th   Past  25Nov2020  01Dec2020    82905782\n",
       "        14th   Past  02Dec2020  08Dec2020    82905782\n",
       "        15th   Past  09Dec2020  15Dec2020    82905782\n",
       "        16th   Past  16Dec2020  21Dec2020    82905782\n",
       "        17th   Past  22Dec2020  28Dec2020    82905782\n",
       "        18th   Past  29Dec2020  06Jan2021    82905782"
      ]
     },
     "execution_count": 10,
     "metadata": {},
     "output_type": "execute_result"
    }
   ],
   "source": [
    "# Here, only show the countries which have the most phases\n",
    "countries_show = max(phase_len_dict.items(), key=lambda x: x[0])[1]\n",
    "# Show summary\n",
    "analyser.summary(countries=countries_show)"
   ]
  },
  {
   "cell_type": "markdown",
   "metadata": {},
   "source": [
    "## Parameter estimation\n",
    "we will estimate the parameter values with SIR-derived ODE models in each country."
   ]
  },
  {
   "cell_type": "code",
   "execution_count": 11,
   "metadata": {
    "collapsed": false,
    "tags": []
   },
   "outputs": [
    {
     "name": "stdout",
     "output_type": "stream",
     "text": [
      "\n",
      "<SIR-F model: parameter estimation>\n",
      "Running optimization with 4 CPUs...\n"
     ]
    },
    {
     "name": "stdout",
     "output_type": "stream",
     "text": [
      "\tDNK,  1st phase (06Apr2020 - 05May2020): finished  171 trials in 0 min 10 sec"
     ]
    },
    {
     "name": "stdout",
     "output_type": "stream",
     "text": [
      "\n"
     ]
    },
    {
     "name": "stdout",
     "output_type": "stream",
     "text": [
      "\tNOR,  0th phase (10Mar2020 - 25Mar2020): finished  180 trials in 0 min 10 sec"
     ]
    },
    {
     "name": "stdout",
     "output_type": "stream",
     "text": [
      "\n"
     ]
    },
    {
     "name": "stdout",
     "output_type": "stream",
     "text": [
      "\tNOR, 17th phase (29Dec2020 - 06Jan2021): finished  184 trials in 0 min 10 sec"
     ]
    },
    {
     "name": "stdout",
     "output_type": "stream",
     "text": [
      "\n"
     ]
    },
    {
     "name": "stdout",
     "output_type": "stream",
     "text": [
      "\tITA, 13th phase (10Dec2020 - 15Dec2020): finished  189 trials in 0 min 10 sec"
     ]
    },
    {
     "name": "stdout",
     "output_type": "stream",
     "text": [
      "\n"
     ]
    },
    {
     "name": "stdout",
     "output_type": "stream",
     "text": [
      "\tDEU,  1st phase (23Mar2020 - 02Apr2020): finished  224 trials in 0 min 10 sec"
     ]
    },
    {
     "name": "stdout",
     "output_type": "stream",
     "text": [
      "\n"
     ]
    },
    {
     "name": "stdout",
     "output_type": "stream",
     "text": [
      "\tBEL, 16th phase (20Dec2020 - 06Jan2021): finished  205 trials in 0 min 10 sec"
     ]
    },
    {
     "name": "stdout",
     "output_type": "stream",
     "text": [
      "\n"
     ]
    },
    {
     "name": "stdout",
     "output_type": "stream",
     "text": [
      "\tMYS,  3rd phase (25May2020 - 09Sep2020): finished  179 trials in 0 min 10 sec"
     ]
    },
    {
     "name": "stdout",
     "output_type": "stream",
     "text": [
      "\n"
     ]
    },
    {
     "name": "stdout",
     "output_type": "stream",
     "text": [
      "\tSWE,  1st phase (16Apr2020 - 12May2020): finished  184 trials in 0 min 10 sec"
     ]
    },
    {
     "name": "stdout",
     "output_type": "stream",
     "text": [
      "\n"
     ]
    },
    {
     "name": "stdout",
     "output_type": "stream",
     "text": [
      "\tCHE,  5th phase (25Aug2020 - 14Sep2020): finished  201 trials in 0 min 10 sec"
     ]
    },
    {
     "name": "stdout",
     "output_type": "stream",
     "text": [
      "\n"
     ]
    },
    {
     "name": "stdout",
     "output_type": "stream",
     "text": [
      "\tDNK, 13th phase (01Dec2020 - 10Dec2020): finished  197 trials in 0 min 10 sec"
     ]
    },
    {
     "name": "stdout",
     "output_type": "stream",
     "text": [
      "\n"
     ]
    },
    {
     "name": "stdout",
     "output_type": "stream",
     "text": [
      "\tITA,  7th phase (16Oct2020 - 22Oct2020): finished  203 trials in 0 min 10 sec"
     ]
    },
    {
     "name": "stdout",
     "output_type": "stream",
     "text": [
      "\n"
     ]
    },
    {
     "name": "stdout",
     "output_type": "stream",
     "text": [
      "\tROU,  5th phase (24Sep2020 - 08Oct2020): finished  203 trials in 0 min 10 sec"
     ]
    },
    {
     "name": "stdout",
     "output_type": "stream",
     "text": [
      "\n"
     ]
    },
    {
     "name": "stdout",
     "output_type": "stream",
     "text": [
      "\tCHE,  2nd phase (31Mar2020 - 14Apr2020): finished  185 trials in 0 min 10 sec"
     ]
    },
    {
     "name": "stdout",
     "output_type": "stream",
     "text": [
      "\n"
     ]
    },
    {
     "name": "stdout",
     "output_type": "stream",
     "text": [
      "\tITA,  3rd phase (17Apr2020 - 10May2020): finished  188 trials in 0 min 10 sec"
     ]
    },
    {
     "name": "stdout",
     "output_type": "stream",
     "text": [
      "\n"
     ]
    },
    {
     "name": "stdout",
     "output_type": "stream",
     "text": [
      "\tGBR,  0th phase (23Feb2020 - 09Apr2020): finished  173 trials in 0 min 10 sec"
     ]
    },
    {
     "name": "stdout",
     "output_type": "stream",
     "text": [
      "\n"
     ]
    },
    {
     "name": "stdout",
     "output_type": "stream",
     "text": [
      "\tFIN,  9th phase (29Oct2020 - 08Nov2020): finished  190 trials in 0 min 10 sec"
     ]
    },
    {
     "name": "stdout",
     "output_type": "stream",
     "text": [
      "\n"
     ]
    },
    {
     "name": "stdout",
     "output_type": "stream",
     "text": [
      "\tNOR, 10th phase (04Nov2020 - 09Nov2020): finished  180 trials in 0 min 10 sec"
     ]
    },
    {
     "name": "stdout",
     "output_type": "stream",
     "text": [
      "\n"
     ]
    },
    {
     "name": "stdout",
     "output_type": "stream",
     "text": [
      "\tMYS,  6th phase (13Oct2020 - 18Oct2020): finished  186 trials in 0 min 10 sec"
     ]
    },
    {
     "name": "stdout",
     "output_type": "stream",
     "text": [
      "\n"
     ]
    },
    {
     "name": "stdout",
     "output_type": "stream",
     "text": [
      "\tNOR, 11th phase (10Nov2020 - 22Nov2020): finished  184 trials in 0 min 10 sec"
     ]
    },
    {
     "name": "stdout",
     "output_type": "stream",
     "text": [
      "\n"
     ]
    },
    {
     "name": "stdout",
     "output_type": "stream",
     "text": [
      "\tITA,  6th phase (02Oct2020 - 15Oct2020): finished  181 trials in 0 min 10 sec"
     ]
    },
    {
     "name": "stdout",
     "output_type": "stream",
     "text": [
      "\n"
     ]
    },
    {
     "name": "stdout",
     "output_type": "stream",
     "text": [
      "\tPRT,  8th phase (22Oct2020 - 28Oct2020): finished  238 trials in 0 min 10 sec"
     ]
    },
    {
     "name": "stdout",
     "output_type": "stream",
     "text": [
      "\n"
     ]
    },
    {
     "name": "stdout",
     "output_type": "stream",
     "text": [
      "\tMYS, 10th phase (12Nov2020 - 17Nov2020): finished  241 trials in 0 min 10 sec"
     ]
    },
    {
     "name": "stdout",
     "output_type": "stream",
     "text": [
      "\n"
     ]
    },
    {
     "name": "stdout",
     "output_type": "stream",
     "text": [
      "\tBEL, 10th phase (26Oct2020 - 31Oct2020): finished  251 trials in 0 min 10 sec"
     ]
    },
    {
     "name": "stdout",
     "output_type": "stream",
     "text": [
      "\n"
     ]
    },
    {
     "name": "stdout",
     "output_type": "stream",
     "text": [
      "\tFIN, 15th phase (17Dec2020 - 27Dec2020): finished  245 trials in 0 min 10 sec"
     ]
    },
    {
     "name": "stdout",
     "output_type": "stream",
     "text": [
      "\n"
     ]
    },
    {
     "name": "stdout",
     "output_type": "stream",
     "text": [
      "\tDEU,  3rd phase (21Apr2020 - 16Jun2020): finished  276 trials in 0 min 10 sec"
     ]
    },
    {
     "name": "stdout",
     "output_type": "stream",
     "text": [
      "\n"
     ]
    },
    {
     "name": "stdout",
     "output_type": "stream",
     "text": [
      "\tMYS, 14th phase (15Dec2020 - 24Dec2020): finished  291 trials in 0 min 10 sec"
     ]
    },
    {
     "name": "stdout",
     "output_type": "stream",
     "text": [
      "\n"
     ]
    },
    {
     "name": "stdout",
     "output_type": "stream",
     "text": [
      "\tCAN, 15th phase (20Dec2020 - 27Dec2020): finished  305 trials in 0 min 10 sec"
     ]
    },
    {
     "name": "stdout",
     "output_type": "stream",
     "text": [
      "\n"
     ]
    },
    {
     "name": "stdout",
     "output_type": "stream",
     "text": [
      "\tCHE,  6th phase (15Sep2020 - 05Oct2020): finished  283 trials in 0 min 10 sec"
     ]
    },
    {
     "name": "stdout",
     "output_type": "stream",
     "text": [
      "\n"
     ]
    },
    {
     "name": "stdout",
     "output_type": "stream",
     "text": [
      "\tCHE,  4th phase (23Jul2020 - 24Aug2020): finished  257 trials in 0 min 10 sec"
     ]
    },
    {
     "name": "stdout",
     "output_type": "stream",
     "text": [
      "\n"
     ]
    },
    {
     "name": "stdout",
     "output_type": "stream",
     "text": [
      "\tPRT,  7th phase (13Oct2020 - 21Oct2020): finished  267 trials in 0 min 10 sec"
     ]
    },
    {
     "name": "stdout",
     "output_type": "stream",
     "text": [
      "\n"
     ]
    },
    {
     "name": "stdout",
     "output_type": "stream",
     "text": [
      "\tMYS,  0th phase (11Feb2020 - 25Mar2020): finished  269 trials in 0 min 10 sec"
     ]
    },
    {
     "name": "stdout",
     "output_type": "stream",
     "text": [
      "\n"
     ]
    },
    {
     "name": "stdout",
     "output_type": "stream",
     "text": [
      "\tNOR, 15th phase (15Dec2020 - 21Dec2020): finished  273 trials in 0 min 10 sec"
     ]
    },
    {
     "name": "stdout",
     "output_type": "stream",
     "text": [
      "\n"
     ]
    },
    {
     "name": "stdout",
     "output_type": "stream",
     "text": [
      "\tCAN,  3rd phase (26May2020 - 19Jul2020): finished  267 trials in 0 min 10 sec"
     ]
    },
    {
     "name": "stdout",
     "output_type": "stream",
     "text": [
      "\n"
     ]
    },
    {
     "name": "stdout",
     "output_type": "stream",
     "text": [
      "\tFIN,  3rd phase (05May2020 - 26May2020): finished  279 trials in 0 min 10 sec"
     ]
    },
    {
     "name": "stdout",
     "output_type": "stream",
     "text": [
      "\n"
     ]
    },
    {
     "name": "stdout",
     "output_type": "stream",
     "text": [
      "\tNOR, 13th phase (30Nov2020 - 07Dec2020): finished  277 trials in 0 min 10 sec"
     ]
    },
    {
     "name": "stdout",
     "output_type": "stream",
     "text": [
      "\n"
     ]
    },
    {
     "name": "stdout",
     "output_type": "stream",
     "text": [
      "\tBEL,  0th phase (04Mar2020 - 29Mar2020): finished  274 trials in 0 min 10 sec"
     ]
    },
    {
     "name": "stdout",
     "output_type": "stream",
     "text": [
      "\n"
     ]
    },
    {
     "name": "stdout",
     "output_type": "stream",
     "text": [
      "\tDEU,  7th phase (09Oct2020 - 20Oct2020): finished  268 trials in 0 min 10 sec"
     ]
    },
    {
     "name": "stdout",
     "output_type": "stream",
     "text": [
      "\n"
     ]
    },
    {
     "name": "stdout",
     "output_type": "stream",
     "text": [
      "\tNOR,  2nd phase (06Apr2020 - 02May2020): finished  274 trials in 0 min 10 sec"
     ]
    },
    {
     "name": "stdout",
     "output_type": "stream",
     "text": [
      "\n"
     ]
    },
    {
     "name": "stdout",
     "output_type": "stream",
     "text": [
      "\tFIN,  5th phase (21Aug2020 - 22Sep2020): finished  271 trials in 0 min 10 sec"
     ]
    },
    {
     "name": "stdout",
     "output_type": "stream",
     "text": [
      "\n"
     ]
    },
    {
     "name": "stdout",
     "output_type": "stream",
     "text": [
      "\tITA,  1st phase (20Mar2020 - 31Mar2020): finished  268 trials in 0 min 10 sec"
     ]
    },
    {
     "name": "stdout",
     "output_type": "stream",
     "text": [
      "\n"
     ]
    },
    {
     "name": "stdout",
     "output_type": "stream",
     "text": [
      "\tSWE,  6th phase (05Oct2020 - 26Oct2020): finished  246 trials in 0 min 10 sec"
     ]
    },
    {
     "name": "stdout",
     "output_type": "stream",
     "text": [
      "\n"
     ]
    },
    {
     "name": "stdout",
     "output_type": "stream",
     "text": [
      "\tSWE, 13th phase (09Dec2020 - 15Dec2020): finished  259 trials in 0 min 10 sec"
     ]
    },
    {
     "name": "stdout",
     "output_type": "stream",
     "text": [
      "\n"
     ]
    },
    {
     "name": "stdout",
     "output_type": "stream",
     "text": [
      "\tMYS, 13th phase (05Dec2020 - 14Dec2020): finished  248 trials in 0 min 10 sec"
     ]
    },
    {
     "name": "stdout",
     "output_type": "stream",
     "text": [
      "\n"
     ]
    },
    {
     "name": "stdout",
     "output_type": "stream",
     "text": [
      "\tDNK,  0th phase (06Mar2020 - 05Apr2020): finished  246 trials in 0 min 10 sec"
     ]
    },
    {
     "name": "stdout",
     "output_type": "stream",
     "text": [
      "\n"
     ]
    },
    {
     "name": "stdout",
     "output_type": "stream",
     "text": [
      "\tMYS,  5th phase (04Oct2020 - 12Oct2020): finished  287 trials in 0 min 10 sec"
     ]
    },
    {
     "name": "stdout",
     "output_type": "stream",
     "text": [
      "\n"
     ]
    },
    {
     "name": "stdout",
     "output_type": "stream",
     "text": [
      "\tPRT,  1st phase (04Apr2020 - 23Apr2020): finished  301 trials in 0 min 10 sec"
     ]
    },
    {
     "name": "stdout",
     "output_type": "stream",
     "text": [
      "\n"
     ]
    },
    {
     "name": "stdout",
     "output_type": "stream",
     "text": [
      "\tFIN,  2nd phase (20Apr2020 - 04May2020): finished  312 trials in 0 min 10 sec"
     ]
    },
    {
     "name": "stdout",
     "output_type": "stream",
     "text": [
      "\n"
     ]
    },
    {
     "name": "stdout",
     "output_type": "stream",
     "text": [
      "\tCHE,  1st phase (22Mar2020 - 30Mar2020): finished  303 trials in 0 min 10 sec"
     ]
    },
    {
     "name": "stdout",
     "output_type": "stream",
     "text": [
      "\n"
     ]
    },
    {
     "name": "stdout",
     "output_type": "stream",
     "text": [
      "\tDNK, 14th phase (11Dec2020 - 20Dec2020): finished  308 trials in 0 min 10 sec"
     ]
    },
    {
     "name": "stdout",
     "output_type": "stream",
     "text": [
      "\n"
     ]
    },
    {
     "name": "stdout",
     "output_type": "stream",
     "text": [
      "\tITA,  5th phase (29Aug2020 - 01Oct2020): finished  277 trials in 0 min 10 sec"
     ]
    },
    {
     "name": "stdout",
     "output_type": "stream",
     "text": [
      "\n"
     ]
    },
    {
     "name": "stdout",
     "output_type": "stream",
     "text": [
      "\tITA,  0th phase (24Feb2020 - 19Mar2020): finished  280 trials in 0 min 10 sec"
     ]
    },
    {
     "name": "stdout",
     "output_type": "stream",
     "text": [
      "\n"
     ]
    },
    {
     "name": "stdout",
     "output_type": "stream",
     "text": [
      "\tDNK,  6th phase (08Oct2020 - 20Oct2020): finished  292 trials in 0 min 10 sec"
     ]
    },
    {
     "name": "stdout",
     "output_type": "stream",
     "text": [
      "\n"
     ]
    },
    {
     "name": "stdout",
     "output_type": "stream",
     "text": [
      "\tROU,  4th phase (02Sep2020 - 23Sep2020): finished  259 trials in 0 min 10 sec"
     ]
    },
    {
     "name": "stdout",
     "output_type": "stream",
     "text": [
      "\n"
     ]
    },
    {
     "name": "stdout",
     "output_type": "stream",
     "text": [
      "\tNOR,  4th phase (06Aug2020 - 02Sep2020): finished  256 trials in 0 min 10 sec"
     ]
    },
    {
     "name": "stdout",
     "output_type": "stream",
     "text": [
      "\n"
     ]
    },
    {
     "name": "stdout",
     "output_type": "stream",
     "text": [
      "\tNOR,  9th phase (29Oct2020 - 03Nov2020): finished  265 trials in 0 min 10 sec"
     ]
    },
    {
     "name": "stdout",
     "output_type": "stream",
     "text": [
      "\n"
     ]
    },
    {
     "name": "stdout",
     "output_type": "stream",
     "text": [
      "\tPRT,  6th phase (25Sep2020 - 12Oct2020): finished  273 trials in 0 min 10 sec"
     ]
    },
    {
     "name": "stdout",
     "output_type": "stream",
     "text": [
      "\n"
     ]
    },
    {
     "name": "stdout",
     "output_type": "stream",
     "text": [
      "\tPRT, 11th phase (15Nov2020 - 25Nov2020): finished  261 trials in 0 min 10 sec"
     ]
    },
    {
     "name": "stdout",
     "output_type": "stream",
     "text": [
      "\n"
     ]
    },
    {
     "name": "stdout",
     "output_type": "stream",
     "text": [
      "\tFIN,  0th phase (17Mar2020 - 04Apr2020): finished  257 trials in 0 min 10 sec"
     ]
    },
    {
     "name": "stdout",
     "output_type": "stream",
     "text": [
      "\n"
     ]
    },
    {
     "name": "stdout",
     "output_type": "stream",
     "text": [
      "\tMYS,  7th phase (19Oct2020 - 24Oct2020): finished  270 trials in 0 min 10 sec"
     ]
    },
    {
     "name": "stdout",
     "output_type": "stream",
     "text": [
      "\n"
     ]
    },
    {
     "name": "stdout",
     "output_type": "stream",
     "text": [
      "\tGBR,  7th phase (13Oct2020 - 20Oct2020): finished  262 trials in 0 min 10 sec"
     ]
    },
    {
     "name": "stdout",
     "output_type": "stream",
     "text": [
      "\n"
     ]
    },
    {
     "name": "stdout",
     "output_type": "stream",
     "text": [
      "\tROU,  0th phase (04Mar2020 - 06May2020): finished  211 trials in 0 min 10 sec"
     ]
    },
    {
     "name": "stdout",
     "output_type": "stream",
     "text": [
      "\n"
     ]
    },
    {
     "name": "stdout",
     "output_type": "stream",
     "text": [
      "\tCHE, 12th phase (15Nov2020 - 24Nov2020): finished  220 trials in 0 min 10 sec"
     ]
    },
    {
     "name": "stdout",
     "output_type": "stream",
     "text": [
      "\n"
     ]
    },
    {
     "name": "stdout",
     "output_type": "stream",
     "text": [
      "\tNLD,  5th phase (07Oct2020 - 13Oct2020): finished  224 trials in 0 min 10 sec"
     ]
    },
    {
     "name": "stdout",
     "output_type": "stream",
     "text": [
      "\n"
     ]
    },
    {
     "name": "stdout",
     "output_type": "stream",
     "text": [
      "\tSWE,  8th phase (04Nov2020 - 10Nov2020): finished  220 trials in 0 min 10 sec"
     ]
    },
    {
     "name": "stdout",
     "output_type": "stream",
     "text": [
      "\n"
     ]
    },
    {
     "name": "stdout",
     "output_type": "stream",
     "text": [
      "\tCAN, 14th phase (13Dec2020 - 19Dec2020): finished  239 trials in 0 min 10 sec"
     ]
    },
    {
     "name": "stdout",
     "output_type": "stream",
     "text": [
      "\n"
     ]
    },
    {
     "name": "stdout",
     "output_type": "stream",
     "text": [
      "\tCAN,  4th phase (20Jul2020 - 06Sep2020): finished  225 trials in 0 min 10 sec"
     ]
    },
    {
     "name": "stdout",
     "output_type": "stream",
     "text": [
      "\n"
     ]
    },
    {
     "name": "stdout",
     "output_type": "stream",
     "text": [
      "\tSWE, 14th phase (16Dec2020 - 21Dec2020): finished  238 trials in 0 min 10 sec"
     ]
    },
    {
     "name": "stdout",
     "output_type": "stream",
     "text": [
      "\n"
     ]
    },
    {
     "name": "stdout",
     "output_type": "stream",
     "text": [
      "\tDEU,  2nd phase (03Apr2020 - 20Apr2020): finished  229 trials in 0 min 10 sec"
     ]
    },
    {
     "name": "stdout",
     "output_type": "stream",
     "text": [
      "\n"
     ]
    },
    {
     "name": "stdout",
     "output_type": "stream",
     "text": [
      "\tNLD, 17th phase (30Dec2020 - 06Jan2021): finished  234 trials in 0 min 10 sec"
     ]
    },
    {
     "name": "stdout",
     "output_type": "stream",
     "text": [
      "\n"
     ]
    },
    {
     "name": "stdout",
     "output_type": "stream",
     "text": [
      "\tCHE, 16th phase (21Dec2020 - 06Jan2021): finished  234 trials in 0 min 10 sec"
     ]
    },
    {
     "name": "stdout",
     "output_type": "stream",
     "text": [
      "\n"
     ]
    },
    {
     "name": "stdout",
     "output_type": "stream",
     "text": [
      "\tMYS, 15th phase (25Dec2020 - 30Dec2020): finished  245 trials in 0 min 10 sec"
     ]
    },
    {
     "name": "stdout",
     "output_type": "stream",
     "text": [
      "\n"
     ]
    },
    {
     "name": "stdout",
     "output_type": "stream",
     "text": [
      "\tGBR,  2nd phase (01May2020 - 27May2020): finished  230 trials in 0 min 10 sec"
     ]
    },
    {
     "name": "stdout",
     "output_type": "stream",
     "text": [
      "\n"
     ]
    },
    {
     "name": "stdout",
     "output_type": "stream",
     "text": [
      "\tITA,  4th phase (11May2020 - 28Aug2020): finished  196 trials in 0 min 10 sec"
     ]
    },
    {
     "name": "stdout",
     "output_type": "stream",
     "text": [
      "\n"
     ]
    },
    {
     "name": "stdout",
     "output_type": "stream",
     "text": [
      "\tITA,  2nd phase (01Apr2020 - 16Apr2020): finished  229 trials in 0 min 10 sec"
     ]
    },
    {
     "name": "stdout",
     "output_type": "stream",
     "text": [
      "\n"
     ]
    },
    {
     "name": "stdout",
     "output_type": "stream",
     "text": [
      "\tNLD,  2nd phase (08Aug2020 - 12Sep2020): finished  229 trials in 0 min 10 sec"
     ]
    },
    {
     "name": "stdout",
     "output_type": "stream",
     "text": [
      "\n"
     ]
    },
    {
     "name": "stdout",
     "output_type": "stream",
     "text": [
      "\tCHE,  3rd phase (15Apr2020 - 22Jul2020): finished  207 trials in 0 min 10 sec"
     ]
    },
    {
     "name": "stdout",
     "output_type": "stream",
     "text": [
      "\n"
     ]
    },
    {
     "name": "stdout",
     "output_type": "stream",
     "text": [
      "\tGBR,  1st phase (10Apr2020 - 30Apr2020): finished  178 trials in 0 min 10 sec"
     ]
    },
    {
     "name": "stdout",
     "output_type": "stream",
     "text": [
      "\n"
     ]
    },
    {
     "name": "stdout",
     "output_type": "stream",
     "text": [
      "\tSWE,  0th phase (21Feb2020 - 15Apr2020): finished  188 trials in 0 min 10 sec"
     ]
    },
    {
     "name": "stdout",
     "output_type": "stream",
     "text": [
      "\n"
     ]
    },
    {
     "name": "stdout",
     "output_type": "stream",
     "text": [
      "\tCAN,  8th phase (25Oct2020 - 04Nov2020): finished  190 trials in 0 min 10 sec"
     ]
    },
    {
     "name": "stdout",
     "output_type": "stream",
     "text": [
      "\n"
     ]
    },
    {
     "name": "stdout",
     "output_type": "stream",
     "text": [
      "\tSWE,  5th phase (13Aug2020 - 04Oct2020): finished  189 trials in 0 min 10 sec"
     ]
    },
    {
     "name": "stdout",
     "output_type": "stream",
     "text": [
      "\n"
     ]
    },
    {
     "name": "stdout",
     "output_type": "stream",
     "text": [
      "\tBEL, 14th phase (26Nov2020 - 07Dec2020): finished  217 trials in 0 min 10 sec"
     ]
    },
    {
     "name": "stdout",
     "output_type": "stream",
     "text": [
      "\n"
     ]
    },
    {
     "name": "stdout",
     "output_type": "stream",
     "text": [
      "\tDEU,  8th phase (21Oct2020 - 27Oct2020): finished  237 trials in 0 min 10 sec"
     ]
    },
    {
     "name": "stdout",
     "output_type": "stream",
     "text": [
      "\n"
     ]
    },
    {
     "name": "stdout",
     "output_type": "stream",
     "text": [
      "\tBEL, 11th phase (01Nov2020 - 07Nov2020): finished  228 trials in 0 min 10 sec"
     ]
    },
    {
     "name": "stdout",
     "output_type": "stream",
     "text": [
      "\n"
     ]
    },
    {
     "name": "stdout",
     "output_type": "stream",
     "text": [
      "\tNLD,  6th phase (14Oct2020 - 19Oct2020): finished  229 trials in 0 min 10 sec"
     ]
    },
    {
     "name": "stdout",
     "output_type": "stream",
     "text": [
      "\n"
     ]
    },
    {
     "name": "stdout",
     "output_type": "stream",
     "text": [
      "\tROU, 15th phase (17Dec2020 - 26Dec2020): finished  231 trials in 0 min 10 sec"
     ]
    },
    {
     "name": "stdout",
     "output_type": "stream",
     "text": [
      "\n"
     ]
    },
    {
     "name": "stdout",
     "output_type": "stream",
     "text": [
      "\tGBR,  6th phase (03Oct2020 - 12Oct2020): finished  232 trials in 0 min 10 sec"
     ]
    },
    {
     "name": "stdout",
     "output_type": "stream",
     "text": [
      "\n"
     ]
    },
    {
     "name": "stdout",
     "output_type": "stream",
     "text": [
      "\tDEU,  4th phase (17Jun2020 - 15Aug2020): finished  219 trials in 0 min 10 sec"
     ]
    },
    {
     "name": "stdout",
     "output_type": "stream",
     "text": [
      "\n"
     ]
    },
    {
     "name": "stdout",
     "output_type": "stream",
     "text": [
      "\tNOR,  7th phase (06Oct2020 - 20Oct2020): finished  233 trials in 0 min 10 sec"
     ]
    },
    {
     "name": "stdout",
     "output_type": "stream",
     "text": [
      "\n"
     ]
    },
    {
     "name": "stdout",
     "output_type": "stream",
     "text": [
      "\tBEL,  4th phase (04Aug2020 - 12Sep2020): finished  225 trials in 0 min 10 sec"
     ]
    },
    {
     "name": "stdout",
     "output_type": "stream",
     "text": [
      "\n"
     ]
    },
    {
     "name": "stdout",
     "output_type": "stream",
     "text": [
      "\tNOR,  3rd phase (03May2020 - 05Aug2020): finished  210 trials in 0 min 10 sec"
     ]
    },
    {
     "name": "stdout",
     "output_type": "stream",
     "text": [
      "\n"
     ]
    },
    {
     "name": "stdout",
     "output_type": "stream",
     "text": [
      "\tNLD,  3rd phase (13Sep2020 - 26Sep2020): finished  236 trials in 0 min 10 sec"
     ]
    },
    {
     "name": "stdout",
     "output_type": "stream",
     "text": [
      "\n"
     ]
    },
    {
     "name": "stdout",
     "output_type": "stream",
     "text": [
      "\tITA, 14th phase (16Dec2020 - 22Dec2020): finished  237 trials in 0 min 10 sec"
     ]
    },
    {
     "name": "stdout",
     "output_type": "stream",
     "text": [
      "\n"
     ]
    },
    {
     "name": "stdout",
     "output_type": "stream",
     "text": [
      "\tSWE, 10th phase (18Nov2020 - 24Nov2020): finished  243 trials in 0 min 10 sec"
     ]
    },
    {
     "name": "stdout",
     "output_type": "stream",
     "text": [
      "\n"
     ]
    },
    {
     "name": "stdout",
     "output_type": "stream",
     "text": [
      "\tFIN,  4th phase (27May2020 - 20Aug2020): finished  215 trials in 0 min 10 sec"
     ]
    },
    {
     "name": "stdout",
     "output_type": "stream",
     "text": [
      "\n"
     ]
    },
    {
     "name": "stdout",
     "output_type": "stream",
     "text": [
      "\tITA, 10th phase (12Nov2020 - 21Nov2020): finished  249 trials in 0 min 10 sec"
     ]
    },
    {
     "name": "stdout",
     "output_type": "stream",
     "text": [
      "\n"
     ]
    },
    {
     "name": "stdout",
     "output_type": "stream",
     "text": [
      "\tSWE, 11th phase (25Nov2020 - 01Dec2020): finished  236 trials in 0 min 10 sec"
     ]
    },
    {
     "name": "stdout",
     "output_type": "stream",
     "text": [
      "\n"
     ]
    },
    {
     "name": "stdout",
     "output_type": "stream",
     "text": [
      "\tGBR,  3rd phase (28May2020 - 07Aug2020): finished  207 trials in 0 min 10 sec"
     ]
    },
    {
     "name": "stdout",
     "output_type": "stream",
     "text": [
      "\n"
     ]
    },
    {
     "name": "stdout",
     "output_type": "stream",
     "text": [
      "\tNLD,  7th phase (20Oct2020 - 29Oct2020): finished  235 trials in 0 min 10 sec"
     ]
    },
    {
     "name": "stdout",
     "output_type": "stream",
     "text": [
      "\n"
     ]
    },
    {
     "name": "stdout",
     "output_type": "stream",
     "text": [
      "\tCAN, 16th phase (28Dec2020 - 06Jan2021): finished  228 trials in 0 min 10 sec"
     ]
    },
    {
     "name": "stdout",
     "output_type": "stream",
     "text": [
      "\n"
     ]
    },
    {
     "name": "stdout",
     "output_type": "stream",
     "text": [
      "\tDEU,  9th phase (28Oct2020 - 03Nov2020): finished  250 trials in 0 min 10 sec"
     ]
    },
    {
     "name": "stdout",
     "output_type": "stream",
     "text": [
      "\n"
     ]
    },
    {
     "name": "stdout",
     "output_type": "stream",
     "text": [
      "\tCAN,  9th phase (05Nov2020 - 13Nov2020): finished  239 trials in 0 min 10 sec"
     ]
    },
    {
     "name": "stdout",
     "output_type": "stream",
     "text": [
      "\n"
     ]
    },
    {
     "name": "stdout",
     "output_type": "stream",
     "text": [
      "\tFIN, 10th phase (09Nov2020 - 18Nov2020): finished  237 trials in 0 min 10 sec"
     ]
    },
    {
     "name": "stdout",
     "output_type": "stream",
     "text": [
      "\n"
     ]
    },
    {
     "name": "stdout",
     "output_type": "stream",
     "text": [
      "\tITA, 11th phase (22Nov2020 - 02Dec2020): finished  232 trials in 0 min 10 sec"
     ]
    },
    {
     "name": "stdout",
     "output_type": "stream",
     "text": [
      "\n"
     ]
    },
    {
     "name": "stdout",
     "output_type": "stream",
     "text": [
      "\tPRT,  2nd phase (24Apr2020 - 05Jun2020): finished  224 trials in 0 min 10 sec"
     ]
    },
    {
     "name": "stdout",
     "output_type": "stream",
     "text": [
      "\n"
     ]
    },
    {
     "name": "stdout",
     "output_type": "stream",
     "text": [
      "\tMYS, 16th phase (31Dec2020 - 06Jan2021): finished  231 trials in 0 min 10 sec"
     ]
    },
    {
     "name": "stdout",
     "output_type": "stream",
     "text": [
      "\n"
     ]
    },
    {
     "name": "stdout",
     "output_type": "stream",
     "text": [
      "\tCHE,  7th phase (06Oct2020 - 13Oct2020): finished  234 trials in 0 min 10 sec"
     ]
    },
    {
     "name": "stdout",
     "output_type": "stream",
     "text": [
      "\n"
     ]
    },
    {
     "name": "stdout",
     "output_type": "stream",
     "text": [
      "\tNOR, 16th phase (22Dec2020 - 28Dec2020): finished  233 trials in 0 min 10 sec"
     ]
    },
    {
     "name": "stdout",
     "output_type": "stream",
     "text": [
      "\n"
     ]
    },
    {
     "name": "stdout",
     "output_type": "stream",
     "text": [
      "\tBEL,  9th phase (20Oct2020 - 25Oct2020): finished  231 trials in 0 min 10 sec"
     ]
    },
    {
     "name": "stdout",
     "output_type": "stream",
     "text": [
      "\n"
     ]
    },
    {
     "name": "stdout",
     "output_type": "stream",
     "text": [
      "\tDNK, 12th phase (25Nov2020 - 30Nov2020): finished  226 trials in 0 min 10 sec"
     ]
    },
    {
     "name": "stdout",
     "output_type": "stream",
     "text": [
      "\n"
     ]
    },
    {
     "name": "stdout",
     "output_type": "stream",
     "text": [
      "\tCHE,  0th phase (03Mar2020 - 21Mar2020): finished  232 trials in 0 min 10 sec"
     ]
    },
    {
     "name": "stdout",
     "output_type": "stream",
     "text": [
      "\n"
     ]
    },
    {
     "name": "stdout",
     "output_type": "stream",
     "text": [
      "\tFIN,  8th phase (19Oct2020 - 28Oct2020): finished  229 trials in 0 min 10 sec"
     ]
    },
    {
     "name": "stdout",
     "output_type": "stream",
     "text": [
      "\n"
     ]
    },
    {
     "name": "stdout",
     "output_type": "stream",
     "text": [
      "\tNLD,  1st phase (16Apr2020 - 07Aug2020): finished  209 trials in 0 min 10 sec"
     ]
    },
    {
     "name": "stdout",
     "output_type": "stream",
     "text": [
      "\n"
     ]
    },
    {
     "name": "stdout",
     "output_type": "stream",
     "text": [
      "\tGBR,  5th phase (17Sep2020 - 02Oct2020): finished  229 trials in 0 min 10 sec"
     ]
    },
    {
     "name": "stdout",
     "output_type": "stream",
     "text": [
      "\n"
     ]
    },
    {
     "name": "stdout",
     "output_type": "stream",
     "text": [
      "\tNOR,  8th phase (21Oct2020 - 28Oct2020): finished  235 trials in 0 min 10 sec"
     ]
    },
    {
     "name": "stdout",
     "output_type": "stream",
     "text": [
      "\n"
     ]
    },
    {
     "name": "stdout",
     "output_type": "stream",
     "text": [
      "\tCAN, 12th phase (29Nov2020 - 05Dec2020): finished  226 trials in 0 min 10 sec"
     ]
    },
    {
     "name": "stdout",
     "output_type": "stream",
     "text": [
      "\n"
     ]
    },
    {
     "name": "stdout",
     "output_type": "stream",
     "text": [
      "\tPRT, 10th phase (05Nov2020 - 14Nov2020): finished  231 trials in 0 min 10 sec"
     ]
    },
    {
     "name": "stdout",
     "output_type": "stream",
     "text": [
      "\n"
     ]
    },
    {
     "name": "stdout",
     "output_type": "stream",
     "text": [
      "\tNOR,  6th phase (20Sep2020 - 05Oct2020): finished  239 trials in 0 min 10 sec"
     ]
    },
    {
     "name": "stdout",
     "output_type": "stream",
     "text": [
      "\n"
     ]
    },
    {
     "name": "stdout",
     "output_type": "stream",
     "text": [
      "\tFIN,  6th phase (23Sep2020 - 07Oct2020): finished  225 trials in 0 min 10 sec"
     ]
    },
    {
     "name": "stdout",
     "output_type": "stream",
     "text": [
      "\n"
     ]
    },
    {
     "name": "stdout",
     "output_type": "stream",
     "text": [
      "\tCHE, 11th phase (09Nov2020 - 14Nov2020): finished  241 trials in 0 min 10 sec"
     ]
    },
    {
     "name": "stdout",
     "output_type": "stream",
     "text": [
      "\n"
     ]
    },
    {
     "name": "stdout",
     "output_type": "stream",
     "text": [
      "\tSWE,  3rd phase (08Jun2020 - 24Jun2020): finished  239 trials in 0 min 10 sec"
     ]
    },
    {
     "name": "stdout",
     "output_type": "stream",
     "text": [
      "\n"
     ]
    },
    {
     "name": "stdout",
     "output_type": "stream",
     "text": [
      "\tITA, 15th phase (23Dec2020 - 29Dec2020): finished  233 trials in 0 min 10 sec"
     ]
    },
    {
     "name": "stdout",
     "output_type": "stream",
     "text": [
      "\n"
     ]
    },
    {
     "name": "stdout",
     "output_type": "stream",
     "text": [
      "\tNOR,  1st phase (26Mar2020 - 05Apr2020): finished  230 trials in 0 min 10 sec"
     ]
    },
    {
     "name": "stdout",
     "output_type": "stream",
     "text": [
      "\n"
     ]
    },
    {
     "name": "stdout",
     "output_type": "stream",
     "text": [
      "\tFIN,  1st phase (05Apr2020 - 19Apr2020): finished  220 trials in 0 min 10 sec"
     ]
    },
    {
     "name": "stdout",
     "output_type": "stream",
     "text": [
      "\n"
     ]
    },
    {
     "name": "stdout",
     "output_type": "stream",
     "text": [
      "\tBEL,  3rd phase (10May2020 - 03Aug2020): finished  215 trials in 0 min 10 sec"
     ]
    },
    {
     "name": "stdout",
     "output_type": "stream",
     "text": [
      "\n"
     ]
    },
    {
     "name": "stdout",
     "output_type": "stream",
     "text": [
      "\tCHE, 10th phase (30Oct2020 - 08Nov2020): finished  225 trials in 0 min 10 sec"
     ]
    },
    {
     "name": "stdout",
     "output_type": "stream",
     "text": [
      "\n"
     ]
    },
    {
     "name": "stdout",
     "output_type": "stream",
     "text": [
      "\tROU, 12th phase (25Nov2020 - 02Dec2020): finished  235 trials in 0 min 10 sec"
     ]
    },
    {
     "name": "stdout",
     "output_type": "stream",
     "text": [
      "\n"
     ]
    },
    {
     "name": "stdout",
     "output_type": "stream",
     "text": [
      "\tBEL,  2nd phase (14Apr2020 - 09May2020): finished  227 trials in 0 min 10 sec"
     ]
    },
    {
     "name": "stdout",
     "output_type": "stream",
     "text": [
      "\n"
     ]
    },
    {
     "name": "stdout",
     "output_type": "stream",
     "text": [
      "\tGBR, 15th phase (11Dec2020 - 16Dec2020): finished  229 trials in 0 min 10 sec"
     ]
    },
    {
     "name": "stdout",
     "output_type": "stream",
     "text": [
      "\n"
     ]
    },
    {
     "name": "stdout",
     "output_type": "stream",
     "text": [
      "\tNLD, 13th phase (06Dec2020 - 11Dec2020): finished  229 trials in 0 min 10 sec"
     ]
    },
    {
     "name": "stdout",
     "output_type": "stream",
     "text": [
      "\n"
     ]
    },
    {
     "name": "stdout",
     "output_type": "stream",
     "text": [
      "\tMYS, 12th phase (29Nov2020 - 04Dec2020): finished  227 trials in 0 min 10 sec"
     ]
    },
    {
     "name": "stdout",
     "output_type": "stream",
     "text": [
      "\n"
     ]
    },
    {
     "name": "stdout",
     "output_type": "stream",
     "text": [
      "\tSWE, 12th phase (02Dec2020 - 08Dec2020): finished  228 trials in 0 min 10 sec"
     ]
    },
    {
     "name": "stdout",
     "output_type": "stream",
     "text": [
      "\n"
     ]
    },
    {
     "name": "stdout",
     "output_type": "stream",
     "text": [
      "\tMYS,  9th phase (31Oct2020 - 11Nov2020): finished  230 trials in 0 min 10 sec"
     ]
    },
    {
     "name": "stdout",
     "output_type": "stream",
     "text": [
      "\n"
     ]
    },
    {
     "name": "stdout",
     "output_type": "stream",
     "text": [
      "\tCAN, 13th phase (06Dec2020 - 12Dec2020): finished  229 trials in 0 min 10 sec"
     ]
    },
    {
     "name": "stdout",
     "output_type": "stream",
     "text": [
      "\n"
     ]
    },
    {
     "name": "stdout",
     "output_type": "stream",
     "text": [
      "\tMYS, 11th phase (18Nov2020 - 28Nov2020): finished  237 trials in 0 min 10 sec"
     ]
    },
    {
     "name": "stdout",
     "output_type": "stream",
     "text": [
      "\n"
     ]
    },
    {
     "name": "stdout",
     "output_type": "stream",
     "text": [
      "\tROU,  1st phase (07May2020 - 16Jul2020): finished  221 trials in 0 min 10 sec"
     ]
    },
    {
     "name": "stdout",
     "output_type": "stream",
     "text": [
      "\n"
     ]
    },
    {
     "name": "stdout",
     "output_type": "stream",
     "text": [
      "\tNOR, 14th phase (08Dec2020 - 14Dec2020): finished  242 trials in 0 min 10 sec"
     ]
    },
    {
     "name": "stdout",
     "output_type": "stream",
     "text": [
      "\n"
     ]
    },
    {
     "name": "stdout",
     "output_type": "stream",
     "text": [
      "\tCAN,  0th phase (27Feb2020 - 11Apr2020): finished  223 trials in 0 min 10 sec"
     ]
    },
    {
     "name": "stdout",
     "output_type": "stream",
     "text": [
      "\n"
     ]
    },
    {
     "name": "stdout",
     "output_type": "stream",
     "text": [
      "\tNLD,  9th phase (05Nov2020 - 11Nov2020): finished  246 trials in 0 min 10 sec"
     ]
    },
    {
     "name": "stdout",
     "output_type": "stream",
     "text": [
      "\n"
     ]
    },
    {
     "name": "stdout",
     "output_type": "stream",
     "text": [
      "\tBEL, 15th phase (08Dec2020 - 19Dec2020): finished  235 trials in 0 min 10 sec"
     ]
    },
    {
     "name": "stdout",
     "output_type": "stream",
     "text": [
      "\n"
     ]
    },
    {
     "name": "stdout",
     "output_type": "stream",
     "text": [
      "\tCAN,  1st phase (12Apr2020 - 01May2020): finished  231 trials in 0 min 10 sec"
     ]
    },
    {
     "name": "stdout",
     "output_type": "stream",
     "text": [
      "\n"
     ]
    },
    {
     "name": "stdout",
     "output_type": "stream",
     "text": [
      "\tROU,  2nd phase (17Jul2020 - 09Aug2020): finished  230 trials in 0 min 10 sec"
     ]
    },
    {
     "name": "stdout",
     "output_type": "stream",
     "text": [
      "\n"
     ]
    },
    {
     "name": "stdout",
     "output_type": "stream",
     "text": [
      "\tPRT, 12th phase (26Nov2020 - 02Dec2020): finished  233 trials in 0 min 10 sec"
     ]
    },
    {
     "name": "stdout",
     "output_type": "stream",
     "text": [
      "\n"
     ]
    },
    {
     "name": "stdout",
     "output_type": "stream",
     "text": [
      "\tDEU,  0th phase (19Jan2020 - 22Mar2020): finished  230 trials in 0 min 10 sec"
     ]
    },
    {
     "name": "stdout",
     "output_type": "stream",
     "text": [
      "\n"
     ]
    },
    {
     "name": "stdout",
     "output_type": "stream",
     "text": [
      "\tDNK,  2nd phase (06May2020 - 07Aug2020): finished  221 trials in 0 min 10 sec"
     ]
    },
    {
     "name": "stdout",
     "output_type": "stream",
     "text": [
      "\n"
     ]
    },
    {
     "name": "stdout",
     "output_type": "stream",
     "text": [
      "\tROU,  6th phase (09Oct2020 - 19Oct2020): finished  233 trials in 0 min 10 sec"
     ]
    },
    {
     "name": "stdout",
     "output_type": "stream",
     "text": [
      "\n"
     ]
    },
    {
     "name": "stdout",
     "output_type": "stream",
     "text": [
      "\tNOR,  5th phase (03Sep2020 - 19Sep2020): finished  240 trials in 0 min 10 sec"
     ]
    },
    {
     "name": "stdout",
     "output_type": "stream",
     "text": [
      "\n"
     ]
    },
    {
     "name": "stdout",
     "output_type": "stream",
     "text": [
      "\tNLD, 12th phase (28Nov2020 - 05Dec2020): finished  233 trials in 0 min 10 sec"
     ]
    },
    {
     "name": "stdout",
     "output_type": "stream",
     "text": [
      "\n"
     ]
    },
    {
     "name": "stdout",
     "output_type": "stream",
     "text": [
      "\tSWE,  7th phase (27Oct2020 - 03Nov2020): finished  231 trials in 0 min 10 sec"
     ]
    },
    {
     "name": "stdout",
     "output_type": "stream",
     "text": [
      "\n"
     ]
    },
    {
     "name": "stdout",
     "output_type": "stream",
     "text": [
      "\tNLD, 16th phase (24Dec2020 - 29Dec2020): finished  241 trials in 0 min 10 sec"
     ]
    },
    {
     "name": "stdout",
     "output_type": "stream",
     "text": [
      "\n"
     ]
    },
    {
     "name": "stdout",
     "output_type": "stream",
     "text": [
      "\tMYS,  1st phase (26Mar2020 - 12Apr2020): finished  236 trials in 0 min 10 sec"
     ]
    },
    {
     "name": "stdout",
     "output_type": "stream",
     "text": [
      "\n"
     ]
    },
    {
     "name": "stdout",
     "output_type": "stream",
     "text": [
      "\tROU, 14th phase (09Dec2020 - 16Dec2020): finished  237 trials in 0 min 10 sec"
     ]
    },
    {
     "name": "stdout",
     "output_type": "stream",
     "text": [
      "\n"
     ]
    },
    {
     "name": "stdout",
     "output_type": "stream",
     "text": [
      "\tPRT,  4th phase (10Jul2020 - 31Aug2020): finished  231 trials in 0 min 10 sec"
     ]
    },
    {
     "name": "stdout",
     "output_type": "stream",
     "text": [
      "\n"
     ]
    },
    {
     "name": "stdout",
     "output_type": "stream",
     "text": [
      "\tNLD, 10th phase (12Nov2020 - 19Nov2020): finished  241 trials in 0 min 10 sec"
     ]
    },
    {
     "name": "stdout",
     "output_type": "stream",
     "text": [
      "\n"
     ]
    },
    {
     "name": "stdout",
     "output_type": "stream",
     "text": [
      "\tMYS,  8th phase (25Oct2020 - 30Oct2020): finished  234 trials in 0 min 10 sec"
     ]
    },
    {
     "name": "stdout",
     "output_type": "stream",
     "text": [
      "\n"
     ]
    },
    {
     "name": "stdout",
     "output_type": "stream",
     "text": [
      "\tCAN,  6th phase (29Sep2020 - 11Oct2020): finished  228 trials in 0 min 10 sec"
     ]
    },
    {
     "name": "stdout",
     "output_type": "stream",
     "text": [
      "\n"
     ]
    },
    {
     "name": "stdout",
     "output_type": "stream",
     "text": [
      "\tCAN, 11th phase (22Nov2020 - 28Nov2020): finished  233 trials in 0 min 10 sec"
     ]
    },
    {
     "name": "stdout",
     "output_type": "stream",
     "text": [
      "\n"
     ]
    },
    {
     "name": "stdout",
     "output_type": "stream",
     "text": [
      "\tSWE,  9th phase (11Nov2020 - 17Nov2020): finished  227 trials in 0 min 10 sec"
     ]
    },
    {
     "name": "stdout",
     "output_type": "stream",
     "text": [
      "\n"
     ]
    },
    {
     "name": "stdout",
     "output_type": "stream",
     "text": [
      "\tROU, 13th phase (03Dec2020 - 08Dec2020): finished  253 trials in 0 min 10 sec"
     ]
    },
    {
     "name": "stdout",
     "output_type": "stream",
     "text": [
      "\n"
     ]
    },
    {
     "name": "stdout",
     "output_type": "stream",
     "text": [
      "\tMYS,  2nd phase (13Apr2020 - 24May2020): finished  227 trials in 0 min 10 sec"
     ]
    },
    {
     "name": "stdout",
     "output_type": "stream",
     "text": [
      "\n"
     ]
    },
    {
     "name": "stdout",
     "output_type": "stream",
     "text": [
      "\tNLD, 14th phase (12Dec2020 - 17Dec2020): finished  237 trials in 0 min 10 sec"
     ]
    },
    {
     "name": "stdout",
     "output_type": "stream",
     "text": [
      "\n"
     ]
    },
    {
     "name": "stdout",
     "output_type": "stream",
     "text": [
      "\tSWE,  2nd phase (13May2020 - 07Jun2020): finished  228 trials in 0 min 10 sec"
     ]
    },
    {
     "name": "stdout",
     "output_type": "stream",
     "text": [
      "\n"
     ]
    },
    {
     "name": "stdout",
     "output_type": "stream",
     "text": [
      "\tNLD,  4th phase (27Sep2020 - 06Oct2020): finished  240 trials in 0 min 10 sec"
     ]
    },
    {
     "name": "stdout",
     "output_type": "stream",
     "text": [
      "\n"
     ]
    },
    {
     "name": "stdout",
     "output_type": "stream",
     "text": [
      "\tMYS,  4th phase (10Sep2020 - 03Oct2020): finished  240 trials in 0 min 10 sec"
     ]
    },
    {
     "name": "stdout",
     "output_type": "stream",
     "text": [
      "\n"
     ]
    },
    {
     "name": "stdout",
     "output_type": "stream",
     "text": [
      "\tROU,  7th phase (20Oct2020 - 28Oct2020): finished  234 trials in 0 min 10 sec"
     ]
    },
    {
     "name": "stdout",
     "output_type": "stream",
     "text": [
      "\n"
     ]
    },
    {
     "name": "stdout",
     "output_type": "stream",
     "text": [
      "\tROU,  3rd phase (10Aug2020 - 01Sep2020): finished  223 trials in 0 min 10 sec"
     ]
    },
    {
     "name": "stdout",
     "output_type": "stream",
     "text": [
      "\n"
     ]
    },
    {
     "name": "stdout",
     "output_type": "stream",
     "text": [
      "\tNLD,  8th phase (30Oct2020 - 04Nov2020): finished  237 trials in 0 min 10 sec"
     ]
    },
    {
     "name": "stdout",
     "output_type": "stream",
     "text": [
      "\n"
     ]
    },
    {
     "name": "stdout",
     "output_type": "stream",
     "text": [
      "\tPRT,  3rd phase (06Jun2020 - 09Jul2020): finished  223 trials in 0 min 10 sec"
     ]
    },
    {
     "name": "stdout",
     "output_type": "stream",
     "text": [
      "\n"
     ]
    },
    {
     "name": "stdout",
     "output_type": "stream",
     "text": [
      "\tBEL, 13th phase (16Nov2020 - 25Nov2020): finished  225 trials in 0 min 10 sec"
     ]
    },
    {
     "name": "stdout",
     "output_type": "stream",
     "text": [
      "\n"
     ]
    },
    {
     "name": "stdout",
     "output_type": "stream",
     "text": [
      "\tROU,  8th phase (29Oct2020 - 04Nov2020): finished  222 trials in 0 min 10 sec"
     ]
    },
    {
     "name": "stdout",
     "output_type": "stream",
     "text": [
      "\n"
     ]
    },
    {
     "name": "stdout",
     "output_type": "stream",
     "text": [
      "\tGBR, 14th phase (03Dec2020 - 10Dec2020): finished  237 trials in 0 min 10 sec"
     ]
    },
    {
     "name": "stdout",
     "output_type": "stream",
     "text": [
      "\n"
     ]
    },
    {
     "name": "stdout",
     "output_type": "stream",
     "text": [
      "\tITA,  8th phase (23Oct2020 - 01Nov2020): finished  227 trials in 0 min 10 sec"
     ]
    },
    {
     "name": "stdout",
     "output_type": "stream",
     "text": [
      "\n"
     ]
    },
    {
     "name": "stdout",
     "output_type": "stream",
     "text": [
      "\tBEL,  7th phase (08Oct2020 - 13Oct2020): finished  250 trials in 0 min 10 sec"
     ]
    },
    {
     "name": "stdout",
     "output_type": "stream",
     "text": [
      "\n"
     ]
    },
    {
     "name": "stdout",
     "output_type": "stream",
     "text": [
      "\tPRT,  0th phase (14Mar2020 - 03Apr2020): finished  218 trials in 0 min 10 sec"
     ]
    },
    {
     "name": "stdout",
     "output_type": "stream",
     "text": [
      "\n"
     ]
    },
    {
     "name": "stdout",
     "output_type": "stream",
     "text": [
      "\tPRT,  5th phase (01Sep2020 - 24Sep2020): finished  230 trials in 0 min 10 sec"
     ]
    },
    {
     "name": "stdout",
     "output_type": "stream",
     "text": [
      "\n"
     ]
    },
    {
     "name": "stdout",
     "output_type": "stream",
     "text": [
      "\tBEL,  6th phase (29Sep2020 - 07Oct2020): finished  223 trials in 0 min 10 sec"
     ]
    },
    {
     "name": "stdout",
     "output_type": "stream",
     "text": [
      "\n"
     ]
    },
    {
     "name": "stdout",
     "output_type": "stream",
     "text": [
      "\tITA,  9th phase (02Nov2020 - 11Nov2020): finished  232 trials in 0 min 10 sec"
     ]
    },
    {
     "name": "stdout",
     "output_type": "stream",
     "text": [
      "\n"
     ]
    },
    {
     "name": "stdout",
     "output_type": "stream",
     "text": [
      "\tDNK, 15th phase (21Dec2020 - 30Dec2020): finished  255 trials in 0 min 10 sec"
     ]
    },
    {
     "name": "stdout",
     "output_type": "stream",
     "text": [
      "\n"
     ]
    },
    {
     "name": "stdout",
     "output_type": "stream",
     "text": [
      "\tCAN, 10th phase (14Nov2020 - 21Nov2020): finished  249 trials in 0 min 10 sec"
     ]
    },
    {
     "name": "stdout",
     "output_type": "stream",
     "text": [
      "\n"
     ]
    },
    {
     "name": "stdout",
     "output_type": "stream",
     "text": [
      "\tDNK,  4th phase (11Sep2020 - 23Sep2020): finished  257 trials in 0 min 10 sec"
     ]
    },
    {
     "name": "stdout",
     "output_type": "stream",
     "text": [
      "\n"
     ]
    },
    {
     "name": "stdout",
     "output_type": "stream",
     "text": [
      "\tCAN,  7th phase (12Oct2020 - 24Oct2020): finished  277 trials in 0 min 10 sec"
     ]
    },
    {
     "name": "stdout",
     "output_type": "stream",
     "text": [
      "\n"
     ]
    },
    {
     "name": "stdout",
     "output_type": "stream",
     "text": [
      "\tSWE,  4th phase (25Jun2020 - 12Aug2020): finished  260 trials in 0 min 10 sec"
     ]
    },
    {
     "name": "stdout",
     "output_type": "stream",
     "text": [
      "\n"
     ]
    },
    {
     "name": "stdout",
     "output_type": "stream",
     "text": [
      "\tNOR, 12th phase (23Nov2020 - 29Nov2020): finished  270 trials in 0 min 10 sec"
     ]
    },
    {
     "name": "stdout",
     "output_type": "stream",
     "text": [
      "\n"
     ]
    },
    {
     "name": "stdout",
     "output_type": "stream",
     "text": [
      "\tGBR,  4th phase (08Aug2020 - 16Sep2020): finished  288 trials in 0 min 10 sec"
     ]
    },
    {
     "name": "stdout",
     "output_type": "stream",
     "text": [
      "\n"
     ]
    },
    {
     "name": "stdout",
     "output_type": "stream",
     "text": [
      "\tDNK,  3rd phase (08Aug2020 - 10Sep2020): finished  283 trials in 0 min 10 sec"
     ]
    },
    {
     "name": "stdout",
     "output_type": "stream",
     "text": [
      "\n"
     ]
    },
    {
     "name": "stdout",
     "output_type": "stream",
     "text": [
      "\tFIN, 11th phase (19Nov2020 - 25Nov2020): finished  292 trials in 0 min 10 sec"
     ]
    },
    {
     "name": "stdout",
     "output_type": "stream",
     "text": [
      "\n"
     ]
    },
    {
     "name": "stdout",
     "output_type": "stream",
     "text": [
      "\tROU, 16th phase (27Dec2020 - 06Jan2021): finished  255 trials in 0 min 10 sec"
     ]
    },
    {
     "name": "stdout",
     "output_type": "stream",
     "text": [
      "\n"
     ]
    },
    {
     "name": "stdout",
     "output_type": "stream",
     "text": [
      "\tCAN,  2nd phase (02May2020 - 25May2020): finished  261 trials in 0 min 10 sec"
     ]
    },
    {
     "name": "stdout",
     "output_type": "stream",
     "text": [
      "\n"
     ]
    },
    {
     "name": "stdout",
     "output_type": "stream",
     "text": [
      "\tCAN,  5th phase (07Sep2020 - 28Sep2020): finished  266 trials in 0 min 10 sec"
     ]
    },
    {
     "name": "stdout",
     "output_type": "stream",
     "text": [
      "\n"
     ]
    },
    {
     "name": "stdout",
     "output_type": "stream",
     "text": [
      "\tFIN,  7th phase (08Oct2020 - 18Oct2020): finished  260 trials in 0 min 10 sec"
     ]
    },
    {
     "name": "stdout",
     "output_type": "stream",
     "text": [
      "\n"
     ]
    },
    {
     "name": "stdout",
     "output_type": "stream",
     "text": [
      "\tITA, 12th phase (03Dec2020 - 09Dec2020): finished  266 trials in 0 min 10 sec"
     ]
    },
    {
     "name": "stdout",
     "output_type": "stream",
     "text": [
      "\n"
     ]
    },
    {
     "name": "stdout",
     "output_type": "stream",
     "text": [
      "\tBEL,  5th phase (13Sep2020 - 28Sep2020): finished  261 trials in 0 min 10 sec"
     ]
    },
    {
     "name": "stdout",
     "output_type": "stream",
     "text": [
      "\n"
     ]
    },
    {
     "name": "stdout",
     "output_type": "stream",
     "text": [
      "\tNLD,  0th phase (16Mar2020 - 15Apr2020): finished  248 trials in 0 min 10 sec"
     ]
    },
    {
     "name": "stdout",
     "output_type": "stream",
     "text": [
      "\n"
     ]
    },
    {
     "name": "stdout",
     "output_type": "stream",
     "text": [
      "\tBEL, 12th phase (08Nov2020 - 15Nov2020): finished  257 trials in 0 min 10 sec"
     ]
    },
    {
     "name": "stdout",
     "output_type": "stream",
     "text": [
      "\n"
     ]
    },
    {
     "name": "stdout",
     "output_type": "stream",
     "text": [
      "\tDEU,  5th phase (16Aug2020 - 16Sep2020): finished  243 trials in 0 min 10 sec"
     ]
    },
    {
     "name": "stdout",
     "output_type": "stream",
     "text": [
      "\n"
     ]
    },
    {
     "name": "stdout",
     "output_type": "stream",
     "text": [
      "\tBEL,  1st phase (30Mar2020 - 13Apr2020): finished  257 trials in 0 min 10 sec"
     ]
    },
    {
     "name": "stdout",
     "output_type": "stream",
     "text": [
      "\n"
     ]
    },
    {
     "name": "stdout",
     "output_type": "stream",
     "text": [
      "\tDNK,  5th phase (24Sep2020 - 07Oct2020): finished  257 trials in 0 min 10 sec"
     ]
    },
    {
     "name": "stdout",
     "output_type": "stream",
     "text": [
      "\n"
     ]
    },
    {
     "name": "stdout",
     "output_type": "stream",
     "text": [
      "\tDEU,  6th phase (17Sep2020 - 08Oct2020): finished  261 trials in 0 min 10 sec"
     ]
    },
    {
     "name": "stdout",
     "output_type": "stream",
     "text": [
      "\n"
     ]
    },
    {
     "name": "stdout",
     "output_type": "stream",
     "text": [
      "\tNLD, 15th phase (18Dec2020 - 23Dec2020): finished  247 trials in 0 min 10 sec"
     ]
    },
    {
     "name": "stdout",
     "output_type": "stream",
     "text": [
      "\n"
     ]
    },
    {
     "name": "stdout",
     "output_type": "stream",
     "text": [
      "\tFIN, 12th phase (26Nov2020 - 01Dec2020): finished  246 trials in 0 min 10 sec"
     ]
    },
    {
     "name": "stdout",
     "output_type": "stream",
     "text": [
      "\n"
     ]
    },
    {
     "name": "stdout",
     "output_type": "stream",
     "text": [
      "\tNLD, 11th phase (20Nov2020 - 27Nov2020): finished  246 trials in 0 min 10 sec"
     ]
    },
    {
     "name": "stdout",
     "output_type": "stream",
     "text": [
      "\n"
     ]
    },
    {
     "name": "stdout",
     "output_type": "stream",
     "text": [
      "Completed optimization. Total: 9 min 29 sec\n"
     ]
    }
   ],
   "source": [
    "# Parameter estimation with SIR-F model\n",
    "analyser.estimate(cs.SIRF, timeout=10)"
   ]
  },
  {
   "cell_type": "code",
   "execution_count": 12,
   "metadata": {
    "collapsed": false
   },
   "outputs": [
    {
     "data": {
      "text/html": [
       "<div>\n",
       "<style scoped>\n",
       "    .dataframe tbody tr th:only-of-type {\n",
       "        vertical-align: middle;\n",
       "    }\n",
       "\n",
       "    .dataframe tbody tr th {\n",
       "        vertical-align: top;\n",
       "    }\n",
       "\n",
       "    .dataframe thead th {\n",
       "        text-align: right;\n",
       "    }\n",
       "</style>\n",
       "<table border=\"1\" class=\"dataframe\">\n",
       "  <thead>\n",
       "    <tr style=\"text-align: right;\">\n",
       "      <th></th>\n",
       "      <th></th>\n",
       "      <th>Type</th>\n",
       "      <th>Start</th>\n",
       "      <th>End</th>\n",
       "      <th>Population</th>\n",
       "      <th>ODE</th>\n",
       "      <th>Rt</th>\n",
       "      <th>theta</th>\n",
       "      <th>kappa</th>\n",
       "      <th>rho</th>\n",
       "      <th>sigma</th>\n",
       "      <th>tau</th>\n",
       "      <th>alpha1 [-]</th>\n",
       "      <th>1/beta [day]</th>\n",
       "      <th>1/alpha2 [day]</th>\n",
       "      <th>1/gamma [day]</th>\n",
       "      <th>RMSLE</th>\n",
       "      <th>Trials</th>\n",
       "      <th>Runtime</th>\n",
       "    </tr>\n",
       "    <tr>\n",
       "      <th>Country</th>\n",
       "      <th>Phase</th>\n",
       "      <th></th>\n",
       "      <th></th>\n",
       "      <th></th>\n",
       "      <th></th>\n",
       "      <th></th>\n",
       "      <th></th>\n",
       "      <th></th>\n",
       "      <th></th>\n",
       "      <th></th>\n",
       "      <th></th>\n",
       "      <th></th>\n",
       "      <th></th>\n",
       "      <th></th>\n",
       "      <th></th>\n",
       "      <th></th>\n",
       "      <th></th>\n",
       "      <th></th>\n",
       "      <th></th>\n",
       "    </tr>\n",
       "  </thead>\n",
       "  <tbody>\n",
       "    <tr>\n",
       "      <th rowspan=\"19\" valign=\"top\">Germany</th>\n",
       "      <th>0th</th>\n",
       "      <td>Past</td>\n",
       "      <td>19Jan2020</td>\n",
       "      <td>22Mar2020</td>\n",
       "      <td>82905782</td>\n",
       "      <td>SIR-F</td>\n",
       "      <td>7.53</td>\n",
       "      <td>0.000269903</td>\n",
       "      <td>0.00105293</td>\n",
       "      <td>0.0173787</td>\n",
       "      <td>0.00125572</td>\n",
       "      <td>360</td>\n",
       "      <td>0</td>\n",
       "      <td>14</td>\n",
       "      <td>237</td>\n",
       "      <td>199</td>\n",
       "      <td>1.39835</td>\n",
       "      <td>230</td>\n",
       "      <td>0 min 10 sec</td>\n",
       "    </tr>\n",
       "    <tr>\n",
       "      <th>1st</th>\n",
       "      <td>Past</td>\n",
       "      <td>23Mar2020</td>\n",
       "      <td>02Apr2020</td>\n",
       "      <td>82905782</td>\n",
       "      <td>SIR-F</td>\n",
       "      <td>7.24</td>\n",
       "      <td>0.0197</td>\n",
       "      <td>0.000753584</td>\n",
       "      <td>0.0279621</td>\n",
       "      <td>0.0030307</td>\n",
       "      <td>360</td>\n",
       "      <td>0.02</td>\n",
       "      <td>8</td>\n",
       "      <td>331</td>\n",
       "      <td>82</td>\n",
       "      <td>0.154537</td>\n",
       "      <td>224</td>\n",
       "      <td>0 min 10 sec</td>\n",
       "    </tr>\n",
       "    <tr>\n",
       "      <th>2nd</th>\n",
       "      <td>Past</td>\n",
       "      <td>03Apr2020</td>\n",
       "      <td>20Apr2020</td>\n",
       "      <td>82905782</td>\n",
       "      <td>SIR-F</td>\n",
       "      <td>0.6</td>\n",
       "      <td>0.03889</td>\n",
       "      <td>0.000481933</td>\n",
       "      <td>0.0122503</td>\n",
       "      <td>0.0192013</td>\n",
       "      <td>360</td>\n",
       "      <td>0.039</td>\n",
       "      <td>20</td>\n",
       "      <td>518</td>\n",
       "      <td>13</td>\n",
       "      <td>0.149051</td>\n",
       "      <td>229</td>\n",
       "      <td>0 min 10 sec</td>\n",
       "    </tr>\n",
       "    <tr>\n",
       "      <th>3rd</th>\n",
       "      <td>Past</td>\n",
       "      <td>21Apr2020</td>\n",
       "      <td>16Jun2020</td>\n",
       "      <td>82905782</td>\n",
       "      <td>SIR-F</td>\n",
       "      <td>0.51</td>\n",
       "      <td>0.018989</td>\n",
       "      <td>4.05844e-05</td>\n",
       "      <td>0.0113435</td>\n",
       "      <td>0.0216025</td>\n",
       "      <td>360</td>\n",
       "      <td>0.019</td>\n",
       "      <td>22</td>\n",
       "      <td>6159</td>\n",
       "      <td>11</td>\n",
       "      <td>0.0866529</td>\n",
       "      <td>276</td>\n",
       "      <td>0 min 10 sec</td>\n",
       "    </tr>\n",
       "    <tr>\n",
       "      <th>4th</th>\n",
       "      <td>Past</td>\n",
       "      <td>17Jun2020</td>\n",
       "      <td>15Aug2020</td>\n",
       "      <td>82905782</td>\n",
       "      <td>SIR-F</td>\n",
       "      <td>1.2</td>\n",
       "      <td>0.0216311</td>\n",
       "      <td>0.00030038</td>\n",
       "      <td>0.0174769</td>\n",
       "      <td>0.0139732</td>\n",
       "      <td>360</td>\n",
       "      <td>0.022</td>\n",
       "      <td>14</td>\n",
       "      <td>832</td>\n",
       "      <td>17</td>\n",
       "      <td>0.120032</td>\n",
       "      <td>219</td>\n",
       "      <td>0 min 10 sec</td>\n",
       "    </tr>\n",
       "    <tr>\n",
       "      <th>5th</th>\n",
       "      <td>Past</td>\n",
       "      <td>16Aug2020</td>\n",
       "      <td>16Sep2020</td>\n",
       "      <td>82905782</td>\n",
       "      <td>SIR-F</td>\n",
       "      <td>1.31</td>\n",
       "      <td>0.00156721</td>\n",
       "      <td>0.000191478</td>\n",
       "      <td>0.0163103</td>\n",
       "      <td>0.0122368</td>\n",
       "      <td>360</td>\n",
       "      <td>0.002</td>\n",
       "      <td>15</td>\n",
       "      <td>1305</td>\n",
       "      <td>20</td>\n",
       "      <td>0.0643947</td>\n",
       "      <td>243</td>\n",
       "      <td>0 min 10 sec</td>\n",
       "    </tr>\n",
       "    <tr>\n",
       "      <th>6th</th>\n",
       "      <td>Past</td>\n",
       "      <td>17Sep2020</td>\n",
       "      <td>08Oct2020</td>\n",
       "      <td>82905782</td>\n",
       "      <td>SIR-F</td>\n",
       "      <td>1.32</td>\n",
       "      <td>0.000501427</td>\n",
       "      <td>9.63532e-05</td>\n",
       "      <td>0.0183905</td>\n",
       "      <td>0.0137995</td>\n",
       "      <td>360</td>\n",
       "      <td>0.001</td>\n",
       "      <td>13</td>\n",
       "      <td>2594</td>\n",
       "      <td>18</td>\n",
       "      <td>0.0290327</td>\n",
       "      <td>261</td>\n",
       "      <td>0 min 10 sec</td>\n",
       "    </tr>\n",
       "    <tr>\n",
       "      <th>7th</th>\n",
       "      <td>Past</td>\n",
       "      <td>09Oct2020</td>\n",
       "      <td>20Oct2020</td>\n",
       "      <td>82905782</td>\n",
       "      <td>SIR-F</td>\n",
       "      <td>3.13</td>\n",
       "      <td>0.000676492</td>\n",
       "      <td>6.74045e-05</td>\n",
       "      <td>0.025769</td>\n",
       "      <td>0.00816065</td>\n",
       "      <td>360</td>\n",
       "      <td>0.001</td>\n",
       "      <td>9</td>\n",
       "      <td>3708</td>\n",
       "      <td>30</td>\n",
       "      <td>0.0650893</td>\n",
       "      <td>268</td>\n",
       "      <td>0 min 10 sec</td>\n",
       "    </tr>\n",
       "    <tr>\n",
       "      <th>8th</th>\n",
       "      <td>Past</td>\n",
       "      <td>21Oct2020</td>\n",
       "      <td>27Oct2020</td>\n",
       "      <td>82905782</td>\n",
       "      <td>SIR-F</td>\n",
       "      <td>3.03</td>\n",
       "      <td>0.00261679</td>\n",
       "      <td>0.000301315</td>\n",
       "      <td>0.0272963</td>\n",
       "      <td>0.00869185</td>\n",
       "      <td>360</td>\n",
       "      <td>0.003</td>\n",
       "      <td>9</td>\n",
       "      <td>829</td>\n",
       "      <td>28</td>\n",
       "      <td>0.0196056</td>\n",
       "      <td>237</td>\n",
       "      <td>0 min 10 sec</td>\n",
       "    </tr>\n",
       "    <tr>\n",
       "      <th>9th</th>\n",
       "      <td>Past</td>\n",
       "      <td>28Oct2020</td>\n",
       "      <td>03Nov2020</td>\n",
       "      <td>82905782</td>\n",
       "      <td>SIR-F</td>\n",
       "      <td>2.25</td>\n",
       "      <td>0.000120584</td>\n",
       "      <td>0.00022902</td>\n",
       "      <td>0.0181476</td>\n",
       "      <td>0.00781872</td>\n",
       "      <td>360</td>\n",
       "      <td>0</td>\n",
       "      <td>13</td>\n",
       "      <td>1091</td>\n",
       "      <td>31</td>\n",
       "      <td>0.0370512</td>\n",
       "      <td>250</td>\n",
       "      <td>0 min 10 sec</td>\n",
       "    </tr>\n",
       "    <tr>\n",
       "      <th>10th</th>\n",
       "      <td>Past</td>\n",
       "      <td>04Nov2020</td>\n",
       "      <td>10Nov2020</td>\n",
       "      <td>82905782</td>\n",
       "      <td>-</td>\n",
       "      <td>-</td>\n",
       "      <td>-</td>\n",
       "      <td>-</td>\n",
       "      <td>-</td>\n",
       "      <td>-</td>\n",
       "      <td>-</td>\n",
       "      <td>-</td>\n",
       "      <td>-</td>\n",
       "      <td>-</td>\n",
       "      <td>-</td>\n",
       "      <td>-</td>\n",
       "      <td>-</td>\n",
       "      <td>-</td>\n",
       "    </tr>\n",
       "    <tr>\n",
       "      <th>11th</th>\n",
       "      <td>Past</td>\n",
       "      <td>11Nov2020</td>\n",
       "      <td>17Nov2020</td>\n",
       "      <td>82905782</td>\n",
       "      <td>-</td>\n",
       "      <td>-</td>\n",
       "      <td>-</td>\n",
       "      <td>-</td>\n",
       "      <td>-</td>\n",
       "      <td>-</td>\n",
       "      <td>-</td>\n",
       "      <td>-</td>\n",
       "      <td>-</td>\n",
       "      <td>-</td>\n",
       "      <td>-</td>\n",
       "      <td>-</td>\n",
       "      <td>-</td>\n",
       "      <td>-</td>\n",
       "    </tr>\n",
       "    <tr>\n",
       "      <th>12th</th>\n",
       "      <td>Past</td>\n",
       "      <td>18Nov2020</td>\n",
       "      <td>24Nov2020</td>\n",
       "      <td>82905782</td>\n",
       "      <td>-</td>\n",
       "      <td>-</td>\n",
       "      <td>-</td>\n",
       "      <td>-</td>\n",
       "      <td>-</td>\n",
       "      <td>-</td>\n",
       "      <td>-</td>\n",
       "      <td>-</td>\n",
       "      <td>-</td>\n",
       "      <td>-</td>\n",
       "      <td>-</td>\n",
       "      <td>-</td>\n",
       "      <td>-</td>\n",
       "      <td>-</td>\n",
       "    </tr>\n",
       "    <tr>\n",
       "      <th>13th</th>\n",
       "      <td>Past</td>\n",
       "      <td>25Nov2020</td>\n",
       "      <td>01Dec2020</td>\n",
       "      <td>82905782</td>\n",
       "      <td>-</td>\n",
       "      <td>-</td>\n",
       "      <td>-</td>\n",
       "      <td>-</td>\n",
       "      <td>-</td>\n",
       "      <td>-</td>\n",
       "      <td>-</td>\n",
       "      <td>-</td>\n",
       "      <td>-</td>\n",
       "      <td>-</td>\n",
       "      <td>-</td>\n",
       "      <td>-</td>\n",
       "      <td>-</td>\n",
       "      <td>-</td>\n",
       "    </tr>\n",
       "    <tr>\n",
       "      <th>14th</th>\n",
       "      <td>Past</td>\n",
       "      <td>02Dec2020</td>\n",
       "      <td>08Dec2020</td>\n",
       "      <td>82905782</td>\n",
       "      <td>-</td>\n",
       "      <td>-</td>\n",
       "      <td>-</td>\n",
       "      <td>-</td>\n",
       "      <td>-</td>\n",
       "      <td>-</td>\n",
       "      <td>-</td>\n",
       "      <td>-</td>\n",
       "      <td>-</td>\n",
       "      <td>-</td>\n",
       "      <td>-</td>\n",
       "      <td>-</td>\n",
       "      <td>-</td>\n",
       "      <td>-</td>\n",
       "    </tr>\n",
       "    <tr>\n",
       "      <th>15th</th>\n",
       "      <td>Past</td>\n",
       "      <td>09Dec2020</td>\n",
       "      <td>15Dec2020</td>\n",
       "      <td>82905782</td>\n",
       "      <td>-</td>\n",
       "      <td>-</td>\n",
       "      <td>-</td>\n",
       "      <td>-</td>\n",
       "      <td>-</td>\n",
       "      <td>-</td>\n",
       "      <td>-</td>\n",
       "      <td>-</td>\n",
       "      <td>-</td>\n",
       "      <td>-</td>\n",
       "      <td>-</td>\n",
       "      <td>-</td>\n",
       "      <td>-</td>\n",
       "      <td>-</td>\n",
       "    </tr>\n",
       "    <tr>\n",
       "      <th>16th</th>\n",
       "      <td>Past</td>\n",
       "      <td>16Dec2020</td>\n",
       "      <td>21Dec2020</td>\n",
       "      <td>82905782</td>\n",
       "      <td>-</td>\n",
       "      <td>-</td>\n",
       "      <td>-</td>\n",
       "      <td>-</td>\n",
       "      <td>-</td>\n",
       "      <td>-</td>\n",
       "      <td>-</td>\n",
       "      <td>-</td>\n",
       "      <td>-</td>\n",
       "      <td>-</td>\n",
       "      <td>-</td>\n",
       "      <td>-</td>\n",
       "      <td>-</td>\n",
       "      <td>-</td>\n",
       "    </tr>\n",
       "    <tr>\n",
       "      <th>17th</th>\n",
       "      <td>Past</td>\n",
       "      <td>22Dec2020</td>\n",
       "      <td>28Dec2020</td>\n",
       "      <td>82905782</td>\n",
       "      <td>-</td>\n",
       "      <td>-</td>\n",
       "      <td>-</td>\n",
       "      <td>-</td>\n",
       "      <td>-</td>\n",
       "      <td>-</td>\n",
       "      <td>-</td>\n",
       "      <td>-</td>\n",
       "      <td>-</td>\n",
       "      <td>-</td>\n",
       "      <td>-</td>\n",
       "      <td>-</td>\n",
       "      <td>-</td>\n",
       "      <td>-</td>\n",
       "    </tr>\n",
       "    <tr>\n",
       "      <th>18th</th>\n",
       "      <td>Past</td>\n",
       "      <td>29Dec2020</td>\n",
       "      <td>06Jan2021</td>\n",
       "      <td>82905782</td>\n",
       "      <td>-</td>\n",
       "      <td>-</td>\n",
       "      <td>-</td>\n",
       "      <td>-</td>\n",
       "      <td>-</td>\n",
       "      <td>-</td>\n",
       "      <td>-</td>\n",
       "      <td>-</td>\n",
       "      <td>-</td>\n",
       "      <td>-</td>\n",
       "      <td>-</td>\n",
       "      <td>-</td>\n",
       "      <td>-</td>\n",
       "      <td>-</td>\n",
       "    </tr>\n",
       "  </tbody>\n",
       "</table>\n",
       "</div>"
      ],
      "text/plain": [
       "               Type      Start        End  Population    ODE    Rt  \\\n",
       "Country Phase                                                        \n",
       "Germany 0th    Past  19Jan2020  22Mar2020    82905782  SIR-F  7.53   \n",
       "        1st    Past  23Mar2020  02Apr2020    82905782  SIR-F  7.24   \n",
       "        2nd    Past  03Apr2020  20Apr2020    82905782  SIR-F   0.6   \n",
       "        3rd    Past  21Apr2020  16Jun2020    82905782  SIR-F  0.51   \n",
       "        4th    Past  17Jun2020  15Aug2020    82905782  SIR-F   1.2   \n",
       "        5th    Past  16Aug2020  16Sep2020    82905782  SIR-F  1.31   \n",
       "        6th    Past  17Sep2020  08Oct2020    82905782  SIR-F  1.32   \n",
       "        7th    Past  09Oct2020  20Oct2020    82905782  SIR-F  3.13   \n",
       "        8th    Past  21Oct2020  27Oct2020    82905782  SIR-F  3.03   \n",
       "        9th    Past  28Oct2020  03Nov2020    82905782  SIR-F  2.25   \n",
       "        10th   Past  04Nov2020  10Nov2020    82905782      -     -   \n",
       "        11th   Past  11Nov2020  17Nov2020    82905782      -     -   \n",
       "        12th   Past  18Nov2020  24Nov2020    82905782      -     -   \n",
       "        13th   Past  25Nov2020  01Dec2020    82905782      -     -   \n",
       "        14th   Past  02Dec2020  08Dec2020    82905782      -     -   \n",
       "        15th   Past  09Dec2020  15Dec2020    82905782      -     -   \n",
       "        16th   Past  16Dec2020  21Dec2020    82905782      -     -   \n",
       "        17th   Past  22Dec2020  28Dec2020    82905782      -     -   \n",
       "        18th   Past  29Dec2020  06Jan2021    82905782      -     -   \n",
       "\n",
       "                     theta        kappa        rho       sigma  tau  \\\n",
       "Country Phase                                                         \n",
       "Germany 0th    0.000269903   0.00105293  0.0173787  0.00125572  360   \n",
       "        1st         0.0197  0.000753584  0.0279621   0.0030307  360   \n",
       "        2nd        0.03889  0.000481933  0.0122503   0.0192013  360   \n",
       "        3rd       0.018989  4.05844e-05  0.0113435   0.0216025  360   \n",
       "        4th      0.0216311   0.00030038  0.0174769   0.0139732  360   \n",
       "        5th     0.00156721  0.000191478  0.0163103   0.0122368  360   \n",
       "        6th    0.000501427  9.63532e-05  0.0183905   0.0137995  360   \n",
       "        7th    0.000676492  6.74045e-05   0.025769  0.00816065  360   \n",
       "        8th     0.00261679  0.000301315  0.0272963  0.00869185  360   \n",
       "        9th    0.000120584   0.00022902  0.0181476  0.00781872  360   \n",
       "        10th             -            -          -           -    -   \n",
       "        11th             -            -          -           -    -   \n",
       "        12th             -            -          -           -    -   \n",
       "        13th             -            -          -           -    -   \n",
       "        14th             -            -          -           -    -   \n",
       "        15th             -            -          -           -    -   \n",
       "        16th             -            -          -           -    -   \n",
       "        17th             -            -          -           -    -   \n",
       "        18th             -            -          -           -    -   \n",
       "\n",
       "              alpha1 [-] 1/beta [day] 1/alpha2 [day] 1/gamma [day]      RMSLE  \\\n",
       "Country Phase                                                                   \n",
       "Germany 0th            0           14            237           199    1.39835   \n",
       "        1st         0.02            8            331            82   0.154537   \n",
       "        2nd        0.039           20            518            13   0.149051   \n",
       "        3rd        0.019           22           6159            11  0.0866529   \n",
       "        4th        0.022           14            832            17   0.120032   \n",
       "        5th        0.002           15           1305            20  0.0643947   \n",
       "        6th        0.001           13           2594            18  0.0290327   \n",
       "        7th        0.001            9           3708            30  0.0650893   \n",
       "        8th        0.003            9            829            28  0.0196056   \n",
       "        9th            0           13           1091            31  0.0370512   \n",
       "        10th           -            -              -             -          -   \n",
       "        11th           -            -              -             -          -   \n",
       "        12th           -            -              -             -          -   \n",
       "        13th           -            -              -             -          -   \n",
       "        14th           -            -              -             -          -   \n",
       "        15th           -            -              -             -          -   \n",
       "        16th           -            -              -             -          -   \n",
       "        17th           -            -              -             -          -   \n",
       "        18th           -            -              -             -          -   \n",
       "\n",
       "              Trials       Runtime  \n",
       "Country Phase                       \n",
       "Germany 0th      230  0 min 10 sec  \n",
       "        1st      224  0 min 10 sec  \n",
       "        2nd      229  0 min 10 sec  \n",
       "        3rd      276  0 min 10 sec  \n",
       "        4th      219  0 min 10 sec  \n",
       "        5th      243  0 min 10 sec  \n",
       "        6th      261  0 min 10 sec  \n",
       "        7th      268  0 min 10 sec  \n",
       "        8th      237  0 min 10 sec  \n",
       "        9th      250  0 min 10 sec  \n",
       "        10th       -             -  \n",
       "        11th       -             -  \n",
       "        12th       -             -  \n",
       "        13th       -             -  \n",
       "        14th       -             -  \n",
       "        15th       -             -  \n",
       "        16th       -             -  \n",
       "        17th       -             -  \n",
       "        18th       -             -  "
      ]
     },
     "execution_count": 12,
     "metadata": {},
     "output_type": "execute_result"
    }
   ],
   "source": [
    "# Show summary\n",
    "analyser.summary(countries=countries_show)"
   ]
  },
  {
   "cell_type": "markdown",
   "metadata": {},
   "source": [
    "## Compare the history of parameters\n",
    "Here, compare the history of parameter values if countries."
   ]
  },
  {
   "cell_type": "code",
   "execution_count": 13,
   "metadata": {
    "collapsed": false
   },
   "outputs": [
    {
     "data": {
      "text/html": [
       "<div>\n",
       "<style scoped>\n",
       "    .dataframe tbody tr th:only-of-type {\n",
       "        vertical-align: middle;\n",
       "    }\n",
       "\n",
       "    .dataframe tbody tr th {\n",
       "        vertical-align: top;\n",
       "    }\n",
       "\n",
       "    .dataframe thead th {\n",
       "        text-align: right;\n",
       "    }\n",
       "</style>\n",
       "<table border=\"1\" class=\"dataframe\">\n",
       "  <thead>\n",
       "    <tr style=\"text-align: right;\">\n",
       "      <th></th>\n",
       "      <th>Date</th>\n",
       "      <th>Country</th>\n",
       "      <th>theta</th>\n",
       "      <th>kappa</th>\n",
       "      <th>rho</th>\n",
       "      <th>sigma</th>\n",
       "      <th>alpha1 [-]</th>\n",
       "      <th>1/alpha2 [day]</th>\n",
       "      <th>1/beta [day]</th>\n",
       "      <th>1/gamma [day]</th>\n",
       "      <th>...</th>\n",
       "      <th>Cancel_events</th>\n",
       "      <th>Gatherings_restrictions</th>\n",
       "      <th>Transport_closing</th>\n",
       "      <th>Stay_home_restrictions</th>\n",
       "      <th>Internal_movement_restrictions</th>\n",
       "      <th>International_movement_restrictions</th>\n",
       "      <th>Information_campaigns</th>\n",
       "      <th>Testing_policy</th>\n",
       "      <th>Contact_tracing</th>\n",
       "      <th>Stringency_index</th>\n",
       "    </tr>\n",
       "  </thead>\n",
       "  <tbody>\n",
       "    <tr>\n",
       "      <th>0</th>\n",
       "      <td>2020-03-16</td>\n",
       "      <td>Netherlands</td>\n",
       "      <td>0.0773327</td>\n",
       "      <td>0.000381158</td>\n",
       "      <td>0.0349756</td>\n",
       "      <td>0.00331233</td>\n",
       "      <td>0.077</td>\n",
       "      <td>655</td>\n",
       "      <td>7</td>\n",
       "      <td>75</td>\n",
       "      <td>...</td>\n",
       "      <td>2</td>\n",
       "      <td>3</td>\n",
       "      <td>0</td>\n",
       "      <td>1</td>\n",
       "      <td>1</td>\n",
       "      <td>0</td>\n",
       "      <td>2</td>\n",
       "      <td>1</td>\n",
       "      <td>1</td>\n",
       "      <td>62.04</td>\n",
       "    </tr>\n",
       "    <tr>\n",
       "      <th>1</th>\n",
       "      <td>2020-03-16</td>\n",
       "      <td>Netherlands</td>\n",
       "      <td>0.0773327</td>\n",
       "      <td>0.000381158</td>\n",
       "      <td>0.0349756</td>\n",
       "      <td>0.00331233</td>\n",
       "      <td>0.077</td>\n",
       "      <td>655</td>\n",
       "      <td>7</td>\n",
       "      <td>75</td>\n",
       "      <td>...</td>\n",
       "      <td>2</td>\n",
       "      <td>3</td>\n",
       "      <td>0</td>\n",
       "      <td>1</td>\n",
       "      <td>1</td>\n",
       "      <td>0</td>\n",
       "      <td>2</td>\n",
       "      <td>1</td>\n",
       "      <td>1</td>\n",
       "      <td>62.04</td>\n",
       "    </tr>\n",
       "    <tr>\n",
       "      <th>2</th>\n",
       "      <td>2020-03-16</td>\n",
       "      <td>Netherlands</td>\n",
       "      <td>0.0773327</td>\n",
       "      <td>0.000381158</td>\n",
       "      <td>0.0349756</td>\n",
       "      <td>0.00331233</td>\n",
       "      <td>0.077</td>\n",
       "      <td>655</td>\n",
       "      <td>7</td>\n",
       "      <td>75</td>\n",
       "      <td>...</td>\n",
       "      <td>2</td>\n",
       "      <td>3</td>\n",
       "      <td>0</td>\n",
       "      <td>1</td>\n",
       "      <td>1</td>\n",
       "      <td>0</td>\n",
       "      <td>2</td>\n",
       "      <td>1</td>\n",
       "      <td>1</td>\n",
       "      <td>62.04</td>\n",
       "    </tr>\n",
       "    <tr>\n",
       "      <th>3</th>\n",
       "      <td>2020-03-16</td>\n",
       "      <td>Netherlands</td>\n",
       "      <td>0.0773327</td>\n",
       "      <td>0.000381158</td>\n",
       "      <td>0.0349756</td>\n",
       "      <td>0.00331233</td>\n",
       "      <td>0.077</td>\n",
       "      <td>655</td>\n",
       "      <td>7</td>\n",
       "      <td>75</td>\n",
       "      <td>...</td>\n",
       "      <td>2</td>\n",
       "      <td>3</td>\n",
       "      <td>0</td>\n",
       "      <td>1</td>\n",
       "      <td>1</td>\n",
       "      <td>0</td>\n",
       "      <td>2</td>\n",
       "      <td>1</td>\n",
       "      <td>1</td>\n",
       "      <td>62.04</td>\n",
       "    </tr>\n",
       "    <tr>\n",
       "      <th>4</th>\n",
       "      <td>2020-03-16</td>\n",
       "      <td>Netherlands</td>\n",
       "      <td>0.0773327</td>\n",
       "      <td>0.000381158</td>\n",
       "      <td>0.0349756</td>\n",
       "      <td>0.00331233</td>\n",
       "      <td>0.077</td>\n",
       "      <td>655</td>\n",
       "      <td>7</td>\n",
       "      <td>75</td>\n",
       "      <td>...</td>\n",
       "      <td>2</td>\n",
       "      <td>3</td>\n",
       "      <td>0</td>\n",
       "      <td>1</td>\n",
       "      <td>1</td>\n",
       "      <td>0</td>\n",
       "      <td>2</td>\n",
       "      <td>1</td>\n",
       "      <td>1</td>\n",
       "      <td>62.04</td>\n",
       "    </tr>\n",
       "  </tbody>\n",
       "</table>\n",
       "<p>5 rows × 23 columns</p>\n",
       "</div>"
      ],
      "text/plain": [
       "        Date      Country      theta        kappa        rho       sigma  \\\n",
       "0 2020-03-16  Netherlands  0.0773327  0.000381158  0.0349756  0.00331233   \n",
       "1 2020-03-16  Netherlands  0.0773327  0.000381158  0.0349756  0.00331233   \n",
       "2 2020-03-16  Netherlands  0.0773327  0.000381158  0.0349756  0.00331233   \n",
       "3 2020-03-16  Netherlands  0.0773327  0.000381158  0.0349756  0.00331233   \n",
       "4 2020-03-16  Netherlands  0.0773327  0.000381158  0.0349756  0.00331233   \n",
       "\n",
       "  alpha1 [-] 1/alpha2 [day] 1/beta [day] 1/gamma [day]  ... Cancel_events  \\\n",
       "0      0.077            655            7            75  ...             2   \n",
       "1      0.077            655            7            75  ...             2   \n",
       "2      0.077            655            7            75  ...             2   \n",
       "3      0.077            655            7            75  ...             2   \n",
       "4      0.077            655            7            75  ...             2   \n",
       "\n",
       "   Gatherings_restrictions  Transport_closing  Stay_home_restrictions  \\\n",
       "0                        3                  0                       1   \n",
       "1                        3                  0                       1   \n",
       "2                        3                  0                       1   \n",
       "3                        3                  0                       1   \n",
       "4                        3                  0                       1   \n",
       "\n",
       "   Internal_movement_restrictions  International_movement_restrictions  \\\n",
       "0                               1                                    0   \n",
       "1                               1                                    0   \n",
       "2                               1                                    0   \n",
       "3                               1                                    0   \n",
       "4                               1                                    0   \n",
       "\n",
       "   Information_campaigns  Testing_policy  Contact_tracing  Stringency_index  \n",
       "0                      2               1                1             62.04  \n",
       "1                      2               1                1             62.04  \n",
       "2                      2               1                1             62.04  \n",
       "3                      2               1                1             62.04  \n",
       "4                      2               1                1             62.04  \n",
       "\n",
       "[5 rows x 23 columns]"
      ]
     },
     "execution_count": 13,
     "metadata": {},
     "output_type": "execute_result"
    }
   ],
   "source": [
    "# All parameter/day parameter/Rt/OxCGRT\n",
    "analyser.track().head()"
   ]
  },
  {
   "cell_type": "markdown",
   "metadata": {},
   "source": [
    "### $Rt$: Reprodcution number $\\mathrm{[-]}$"
   ]
  },
  {
   "cell_type": "code",
   "execution_count": 14,
   "metadata": {
    "collapsed": false
   },
   "outputs": [
    {
     "data": {
      "image/png": "[encoded data removed]",
      "text/plain": [
       "<Figure size 648x432 with 1 Axes>"
      ]
     },
     "metadata": {},
     "output_type": "display_data"
    },
    {
     "data": {
      "text/html": [
       "<div>\n",
       "<style scoped>\n",
       "    .dataframe tbody tr th:only-of-type {\n",
       "        vertical-align: middle;\n",
       "    }\n",
       "\n",
       "    .dataframe tbody tr th {\n",
       "        vertical-align: top;\n",
       "    }\n",
       "\n",
       "    .dataframe thead th {\n",
       "        text-align: right;\n",
       "    }\n",
       "</style>\n",
       "<table border=\"1\" class=\"dataframe\">\n",
       "  <thead>\n",
       "    <tr style=\"text-align: right;\">\n",
       "      <th>Country</th>\n",
       "      <th>Belgium</th>\n",
       "      <th>Canada</th>\n",
       "      <th>Denmark</th>\n",
       "      <th>Finland</th>\n",
       "      <th>Germany</th>\n",
       "      <th>Italy</th>\n",
       "      <th>Malaysia</th>\n",
       "      <th>Netherlands</th>\n",
       "      <th>Norway</th>\n",
       "      <th>Portugal</th>\n",
       "      <th>Romania</th>\n",
       "      <th>Sweden</th>\n",
       "      <th>Switzerland</th>\n",
       "      <th>United Kingdom</th>\n",
       "    </tr>\n",
       "    <tr>\n",
       "      <th>Date</th>\n",
       "      <th></th>\n",
       "      <th></th>\n",
       "      <th></th>\n",
       "      <th></th>\n",
       "      <th></th>\n",
       "      <th></th>\n",
       "      <th></th>\n",
       "      <th></th>\n",
       "      <th></th>\n",
       "      <th></th>\n",
       "      <th></th>\n",
       "      <th></th>\n",
       "      <th></th>\n",
       "      <th></th>\n",
       "    </tr>\n",
       "  </thead>\n",
       "  <tbody>\n",
       "    <tr>\n",
       "      <th>2021-01-02</th>\n",
       "      <td>1.28</td>\n",
       "      <td>1.13</td>\n",
       "      <td>0.89</td>\n",
       "      <td>0.63</td>\n",
       "      <td>2.25</td>\n",
       "      <td>0.71</td>\n",
       "      <td>1.33</td>\n",
       "      <td>0.68</td>\n",
       "      <td>1.21</td>\n",
       "      <td>0.8</td>\n",
       "      <td>0.76</td>\n",
       "      <td>1.08</td>\n",
       "      <td>9.06</td>\n",
       "      <td>1.28</td>\n",
       "    </tr>\n",
       "    <tr>\n",
       "      <th>2021-01-03</th>\n",
       "      <td>1.28</td>\n",
       "      <td>1.13</td>\n",
       "      <td>0.89</td>\n",
       "      <td>0.63</td>\n",
       "      <td>2.25</td>\n",
       "      <td>0.71</td>\n",
       "      <td>1.33</td>\n",
       "      <td>0.68</td>\n",
       "      <td>1.21</td>\n",
       "      <td>0.8</td>\n",
       "      <td>0.76</td>\n",
       "      <td>1.08</td>\n",
       "      <td>9.06</td>\n",
       "      <td>1.28</td>\n",
       "    </tr>\n",
       "    <tr>\n",
       "      <th>2021-01-04</th>\n",
       "      <td>1.28</td>\n",
       "      <td>1.13</td>\n",
       "      <td>0.89</td>\n",
       "      <td>0.63</td>\n",
       "      <td>2.25</td>\n",
       "      <td>0.71</td>\n",
       "      <td>1.33</td>\n",
       "      <td>0.68</td>\n",
       "      <td>1.21</td>\n",
       "      <td>0.8</td>\n",
       "      <td>0.76</td>\n",
       "      <td>1.08</td>\n",
       "      <td>9.06</td>\n",
       "      <td>1.28</td>\n",
       "    </tr>\n",
       "    <tr>\n",
       "      <th>2021-01-05</th>\n",
       "      <td>1.28</td>\n",
       "      <td>1.13</td>\n",
       "      <td>0.89</td>\n",
       "      <td>0.63</td>\n",
       "      <td>2.25</td>\n",
       "      <td>0.71</td>\n",
       "      <td>1.33</td>\n",
       "      <td>0.68</td>\n",
       "      <td>1.21</td>\n",
       "      <td>0.8</td>\n",
       "      <td>0.76</td>\n",
       "      <td>1.08</td>\n",
       "      <td>9.06</td>\n",
       "      <td>1.28</td>\n",
       "    </tr>\n",
       "    <tr>\n",
       "      <th>2021-01-06</th>\n",
       "      <td>1.28</td>\n",
       "      <td>1.13</td>\n",
       "      <td>0.89</td>\n",
       "      <td>0.63</td>\n",
       "      <td>2.25</td>\n",
       "      <td>0.71</td>\n",
       "      <td>1.33</td>\n",
       "      <td>0.68</td>\n",
       "      <td>1.21</td>\n",
       "      <td>0.8</td>\n",
       "      <td>0.76</td>\n",
       "      <td>1.08</td>\n",
       "      <td>9.06</td>\n",
       "      <td>1.28</td>\n",
       "    </tr>\n",
       "  </tbody>\n",
       "</table>\n",
       "</div>"
      ],
      "text/plain": [
       "Country     Belgium  Canada  Denmark  Finland  Germany  Italy  Malaysia  \\\n",
       "Date                                                                      \n",
       "2021-01-02     1.28    1.13     0.89     0.63     2.25   0.71      1.33   \n",
       "2021-01-03     1.28    1.13     0.89     0.63     2.25   0.71      1.33   \n",
       "2021-01-04     1.28    1.13     0.89     0.63     2.25   0.71      1.33   \n",
       "2021-01-05     1.28    1.13     0.89     0.63     2.25   0.71      1.33   \n",
       "2021-01-06     1.28    1.13     0.89     0.63     2.25   0.71      1.33   \n",
       "\n",
       "Country     Netherlands  Norway  Portugal  Romania  Sweden  Switzerland  \\\n",
       "Date                                                                      \n",
       "2021-01-02         0.68    1.21       0.8     0.76    1.08         9.06   \n",
       "2021-01-03         0.68    1.21       0.8     0.76    1.08         9.06   \n",
       "2021-01-04         0.68    1.21       0.8     0.76    1.08         9.06   \n",
       "2021-01-05         0.68    1.21       0.8     0.76    1.08         9.06   \n",
       "2021-01-06         0.68    1.21       0.8     0.76    1.08         9.06   \n",
       "\n",
       "Country     United Kingdom  \n",
       "Date                        \n",
       "2021-01-02            1.28  \n",
       "2021-01-03            1.28  \n",
       "2021-01-04            1.28  \n",
       "2021-01-05            1.28  \n",
       "2021-01-06            1.28  "
      ]
     },
     "execution_count": 14,
     "metadata": {},
     "output_type": "execute_result"
    }
   ],
   "source": [
    "analyser.history(\"Rt\", roll_window=None).tail()"
   ]
  },
  {
   "cell_type": "markdown",
   "metadata": {},
   "source": [
    "### $\\rho$: Effective contact rate $\\mathrm{[-]}$"
   ]
  },
  {
   "cell_type": "code",
   "execution_count": 15,
   "metadata": {
    "collapsed": false
   },
   "outputs": [
    {
     "data": {
      "image/png": "[encoded data removed]",
      "text/plain": [
       "<Figure size 648x432 with 1 Axes>"
      ]
     },
     "metadata": {},
     "output_type": "display_data"
    },
    {
     "data": {
      "text/html": [
       "<div>\n",
       "<style scoped>\n",
       "    .dataframe tbody tr th:only-of-type {\n",
       "        vertical-align: middle;\n",
       "    }\n",
       "\n",
       "    .dataframe tbody tr th {\n",
       "        vertical-align: top;\n",
       "    }\n",
       "\n",
       "    .dataframe thead th {\n",
       "        text-align: right;\n",
       "    }\n",
       "</style>\n",
       "<table border=\"1\" class=\"dataframe\">\n",
       "  <thead>\n",
       "    <tr style=\"text-align: right;\">\n",
       "      <th>Country</th>\n",
       "      <th>Belgium</th>\n",
       "      <th>Canada</th>\n",
       "      <th>Denmark</th>\n",
       "      <th>Finland</th>\n",
       "      <th>Germany</th>\n",
       "      <th>Italy</th>\n",
       "      <th>Malaysia</th>\n",
       "      <th>Netherlands</th>\n",
       "      <th>Norway</th>\n",
       "      <th>Portugal</th>\n",
       "      <th>Romania</th>\n",
       "      <th>Sweden</th>\n",
       "      <th>Switzerland</th>\n",
       "      <th>United Kingdom</th>\n",
       "    </tr>\n",
       "    <tr>\n",
       "      <th>Date</th>\n",
       "      <th></th>\n",
       "      <th></th>\n",
       "      <th></th>\n",
       "      <th></th>\n",
       "      <th></th>\n",
       "      <th></th>\n",
       "      <th></th>\n",
       "      <th></th>\n",
       "      <th></th>\n",
       "      <th></th>\n",
       "      <th></th>\n",
       "      <th></th>\n",
       "      <th></th>\n",
       "      <th></th>\n",
       "    </tr>\n",
       "  </thead>\n",
       "  <tbody>\n",
       "    <tr>\n",
       "      <th>2021-01-02</th>\n",
       "      <td>0.000414</td>\n",
       "      <td>0.021726</td>\n",
       "      <td>0.017521</td>\n",
       "      <td>0.011867</td>\n",
       "      <td>0.018148</td>\n",
       "      <td>0.004793</td>\n",
       "      <td>0.01695</td>\n",
       "      <td>0.012596</td>\n",
       "      <td>0.017054</td>\n",
       "      <td>0.014246</td>\n",
       "      <td>0.018311</td>\n",
       "      <td>0.017832</td>\n",
       "      <td>0.007024</td>\n",
       "      <td>0.019393</td>\n",
       "    </tr>\n",
       "    <tr>\n",
       "      <th>2021-01-03</th>\n",
       "      <td>0.000414</td>\n",
       "      <td>0.021726</td>\n",
       "      <td>0.017521</td>\n",
       "      <td>0.011867</td>\n",
       "      <td>0.018148</td>\n",
       "      <td>0.004793</td>\n",
       "      <td>0.01695</td>\n",
       "      <td>0.012596</td>\n",
       "      <td>0.017054</td>\n",
       "      <td>0.014246</td>\n",
       "      <td>0.018311</td>\n",
       "      <td>0.017832</td>\n",
       "      <td>0.007024</td>\n",
       "      <td>0.019393</td>\n",
       "    </tr>\n",
       "    <tr>\n",
       "      <th>2021-01-04</th>\n",
       "      <td>0.000414</td>\n",
       "      <td>0.021726</td>\n",
       "      <td>0.017521</td>\n",
       "      <td>0.011867</td>\n",
       "      <td>0.018148</td>\n",
       "      <td>0.004793</td>\n",
       "      <td>0.01695</td>\n",
       "      <td>0.012596</td>\n",
       "      <td>0.017054</td>\n",
       "      <td>0.014246</td>\n",
       "      <td>0.018311</td>\n",
       "      <td>0.017832</td>\n",
       "      <td>0.007024</td>\n",
       "      <td>0.019393</td>\n",
       "    </tr>\n",
       "    <tr>\n",
       "      <th>2021-01-05</th>\n",
       "      <td>0.000414</td>\n",
       "      <td>0.021726</td>\n",
       "      <td>0.017521</td>\n",
       "      <td>0.011867</td>\n",
       "      <td>0.018148</td>\n",
       "      <td>0.004793</td>\n",
       "      <td>0.01695</td>\n",
       "      <td>0.012596</td>\n",
       "      <td>0.017054</td>\n",
       "      <td>0.014246</td>\n",
       "      <td>0.018311</td>\n",
       "      <td>0.017832</td>\n",
       "      <td>0.007024</td>\n",
       "      <td>0.019393</td>\n",
       "    </tr>\n",
       "    <tr>\n",
       "      <th>2021-01-06</th>\n",
       "      <td>0.000414</td>\n",
       "      <td>0.021726</td>\n",
       "      <td>0.017521</td>\n",
       "      <td>0.011867</td>\n",
       "      <td>0.018148</td>\n",
       "      <td>0.004793</td>\n",
       "      <td>0.01695</td>\n",
       "      <td>0.012596</td>\n",
       "      <td>0.017054</td>\n",
       "      <td>0.014246</td>\n",
       "      <td>0.018311</td>\n",
       "      <td>0.017832</td>\n",
       "      <td>0.007024</td>\n",
       "      <td>0.019393</td>\n",
       "    </tr>\n",
       "  </tbody>\n",
       "</table>\n",
       "</div>"
      ],
      "text/plain": [
       "Country      Belgium    Canada   Denmark   Finland   Germany     Italy  \\\n",
       "Date                                                                     \n",
       "2021-01-02  0.000414  0.021726  0.017521  0.011867  0.018148  0.004793   \n",
       "2021-01-03  0.000414  0.021726  0.017521  0.011867  0.018148  0.004793   \n",
       "2021-01-04  0.000414  0.021726  0.017521  0.011867  0.018148  0.004793   \n",
       "2021-01-05  0.000414  0.021726  0.017521  0.011867  0.018148  0.004793   \n",
       "2021-01-06  0.000414  0.021726  0.017521  0.011867  0.018148  0.004793   \n",
       "\n",
       "Country     Malaysia  Netherlands    Norway  Portugal   Romania    Sweden  \\\n",
       "Date                                                                        \n",
       "2021-01-02   0.01695     0.012596  0.017054  0.014246  0.018311  0.017832   \n",
       "2021-01-03   0.01695     0.012596  0.017054  0.014246  0.018311  0.017832   \n",
       "2021-01-04   0.01695     0.012596  0.017054  0.014246  0.018311  0.017832   \n",
       "2021-01-05   0.01695     0.012596  0.017054  0.014246  0.018311  0.017832   \n",
       "2021-01-06   0.01695     0.012596  0.017054  0.014246  0.018311  0.017832   \n",
       "\n",
       "Country     Switzerland  United Kingdom  \n",
       "Date                                     \n",
       "2021-01-02     0.007024        0.019393  \n",
       "2021-01-03     0.007024        0.019393  \n",
       "2021-01-04     0.007024        0.019393  \n",
       "2021-01-05     0.007024        0.019393  \n",
       "2021-01-06     0.007024        0.019393  "
      ]
     },
     "execution_count": 15,
     "metadata": {},
     "output_type": "execute_result"
    }
   ],
   "source": [
    "analyser.history(\"rho\", roll_window=None).tail()"
   ]
  },
  {
   "cell_type": "markdown",
   "metadata": {},
   "source": [
    "### $\\sigma$: Recovery rate $\\mathrm{[-]}$"
   ]
  },
  {
   "cell_type": "code",
   "execution_count": 16,
   "metadata": {
    "collapsed": false
   },
   "outputs": [
    {
     "data": {
      "image/png": "[encoded data removed]",
      "text/plain": [
       "<Figure size 648x432 with 1 Axes>"
      ]
     },
     "metadata": {},
     "output_type": "display_data"
    },
    {
     "data": {
      "text/html": [
       "<div>\n",
       "<style scoped>\n",
       "    .dataframe tbody tr th:only-of-type {\n",
       "        vertical-align: middle;\n",
       "    }\n",
       "\n",
       "    .dataframe tbody tr th {\n",
       "        vertical-align: top;\n",
       "    }\n",
       "\n",
       "    .dataframe thead th {\n",
       "        text-align: right;\n",
       "    }\n",
       "</style>\n",
       "<table border=\"1\" class=\"dataframe\">\n",
       "  <thead>\n",
       "    <tr style=\"text-align: right;\">\n",
       "      <th>Country</th>\n",
       "      <th>Belgium</th>\n",
       "      <th>Canada</th>\n",
       "      <th>Denmark</th>\n",
       "      <th>Finland</th>\n",
       "      <th>Germany</th>\n",
       "      <th>Italy</th>\n",
       "      <th>Malaysia</th>\n",
       "      <th>Netherlands</th>\n",
       "      <th>Norway</th>\n",
       "      <th>Portugal</th>\n",
       "      <th>Romania</th>\n",
       "      <th>Sweden</th>\n",
       "      <th>Switzerland</th>\n",
       "      <th>United Kingdom</th>\n",
       "    </tr>\n",
       "    <tr>\n",
       "      <th>Date</th>\n",
       "      <th></th>\n",
       "      <th></th>\n",
       "      <th></th>\n",
       "      <th></th>\n",
       "      <th></th>\n",
       "      <th></th>\n",
       "      <th></th>\n",
       "      <th></th>\n",
       "      <th></th>\n",
       "      <th></th>\n",
       "      <th></th>\n",
       "      <th></th>\n",
       "      <th></th>\n",
       "      <th></th>\n",
       "    </tr>\n",
       "  </thead>\n",
       "  <tbody>\n",
       "    <tr>\n",
       "      <th>2021-01-02</th>\n",
       "      <td>0.000282</td>\n",
       "      <td>0.01875</td>\n",
       "      <td>0.019568</td>\n",
       "      <td>0.018631</td>\n",
       "      <td>0.007819</td>\n",
       "      <td>0.006589</td>\n",
       "      <td>0.012687</td>\n",
       "      <td>0.018496</td>\n",
       "      <td>0.014058</td>\n",
       "      <td>0.01753</td>\n",
       "      <td>0.023312</td>\n",
       "      <td>0.016469</td>\n",
       "      <td>0.000651</td>\n",
       "      <td>0.014869</td>\n",
       "    </tr>\n",
       "    <tr>\n",
       "      <th>2021-01-03</th>\n",
       "      <td>0.000282</td>\n",
       "      <td>0.01875</td>\n",
       "      <td>0.019568</td>\n",
       "      <td>0.018631</td>\n",
       "      <td>0.007819</td>\n",
       "      <td>0.006589</td>\n",
       "      <td>0.012687</td>\n",
       "      <td>0.018496</td>\n",
       "      <td>0.014058</td>\n",
       "      <td>0.01753</td>\n",
       "      <td>0.023312</td>\n",
       "      <td>0.016469</td>\n",
       "      <td>0.000651</td>\n",
       "      <td>0.014869</td>\n",
       "    </tr>\n",
       "    <tr>\n",
       "      <th>2021-01-04</th>\n",
       "      <td>0.000282</td>\n",
       "      <td>0.01875</td>\n",
       "      <td>0.019568</td>\n",
       "      <td>0.018631</td>\n",
       "      <td>0.007819</td>\n",
       "      <td>0.006589</td>\n",
       "      <td>0.012687</td>\n",
       "      <td>0.018496</td>\n",
       "      <td>0.014058</td>\n",
       "      <td>0.01753</td>\n",
       "      <td>0.023312</td>\n",
       "      <td>0.016469</td>\n",
       "      <td>0.000651</td>\n",
       "      <td>0.014869</td>\n",
       "    </tr>\n",
       "    <tr>\n",
       "      <th>2021-01-05</th>\n",
       "      <td>0.000282</td>\n",
       "      <td>0.01875</td>\n",
       "      <td>0.019568</td>\n",
       "      <td>0.018631</td>\n",
       "      <td>0.007819</td>\n",
       "      <td>0.006589</td>\n",
       "      <td>0.012687</td>\n",
       "      <td>0.018496</td>\n",
       "      <td>0.014058</td>\n",
       "      <td>0.01753</td>\n",
       "      <td>0.023312</td>\n",
       "      <td>0.016469</td>\n",
       "      <td>0.000651</td>\n",
       "      <td>0.014869</td>\n",
       "    </tr>\n",
       "    <tr>\n",
       "      <th>2021-01-06</th>\n",
       "      <td>0.000282</td>\n",
       "      <td>0.01875</td>\n",
       "      <td>0.019568</td>\n",
       "      <td>0.018631</td>\n",
       "      <td>0.007819</td>\n",
       "      <td>0.006589</td>\n",
       "      <td>0.012687</td>\n",
       "      <td>0.018496</td>\n",
       "      <td>0.014058</td>\n",
       "      <td>0.01753</td>\n",
       "      <td>0.023312</td>\n",
       "      <td>0.016469</td>\n",
       "      <td>0.000651</td>\n",
       "      <td>0.014869</td>\n",
       "    </tr>\n",
       "  </tbody>\n",
       "</table>\n",
       "</div>"
      ],
      "text/plain": [
       "Country      Belgium   Canada   Denmark   Finland   Germany     Italy  \\\n",
       "Date                                                                    \n",
       "2021-01-02  0.000282  0.01875  0.019568  0.018631  0.007819  0.006589   \n",
       "2021-01-03  0.000282  0.01875  0.019568  0.018631  0.007819  0.006589   \n",
       "2021-01-04  0.000282  0.01875  0.019568  0.018631  0.007819  0.006589   \n",
       "2021-01-05  0.000282  0.01875  0.019568  0.018631  0.007819  0.006589   \n",
       "2021-01-06  0.000282  0.01875  0.019568  0.018631  0.007819  0.006589   \n",
       "\n",
       "Country     Malaysia  Netherlands    Norway  Portugal   Romania    Sweden  \\\n",
       "Date                                                                        \n",
       "2021-01-02  0.012687     0.018496  0.014058   0.01753  0.023312  0.016469   \n",
       "2021-01-03  0.012687     0.018496  0.014058   0.01753  0.023312  0.016469   \n",
       "2021-01-04  0.012687     0.018496  0.014058   0.01753  0.023312  0.016469   \n",
       "2021-01-05  0.012687     0.018496  0.014058   0.01753  0.023312  0.016469   \n",
       "2021-01-06  0.012687     0.018496  0.014058   0.01753  0.023312  0.016469   \n",
       "\n",
       "Country     Switzerland  United Kingdom  \n",
       "Date                                     \n",
       "2021-01-02     0.000651        0.014869  \n",
       "2021-01-03     0.000651        0.014869  \n",
       "2021-01-04     0.000651        0.014869  \n",
       "2021-01-05     0.000651        0.014869  \n",
       "2021-01-06     0.000651        0.014869  "
      ]
     },
     "execution_count": 16,
     "metadata": {},
     "output_type": "execute_result"
    }
   ],
   "source": [
    "analyser.history(\"sigma\", roll_window=None).tail()"
   ]
  },
  {
   "cell_type": "markdown",
   "metadata": {},
   "source": [
    "### $\\kappa$: Mortality rate of infected cases $\\mathrm{[-]}$"
   ]
  },
  {
   "cell_type": "code",
   "execution_count": 17,
   "metadata": {
    "collapsed": false
   },
   "outputs": [
    {
     "data": {
      "image/png": "[encoded data removed]",
      "text/plain": [
       "<Figure size 648x432 with 1 Axes>"
      ]
     },
     "metadata": {},
     "output_type": "display_data"
    },
    {
     "data": {
      "text/html": [
       "<div>\n",
       "<style scoped>\n",
       "    .dataframe tbody tr th:only-of-type {\n",
       "        vertical-align: middle;\n",
       "    }\n",
       "\n",
       "    .dataframe tbody tr th {\n",
       "        vertical-align: top;\n",
       "    }\n",
       "\n",
       "    .dataframe thead th {\n",
       "        text-align: right;\n",
       "    }\n",
       "</style>\n",
       "<table border=\"1\" class=\"dataframe\">\n",
       "  <thead>\n",
       "    <tr style=\"text-align: right;\">\n",
       "      <th>Country</th>\n",
       "      <th>Belgium</th>\n",
       "      <th>Canada</th>\n",
       "      <th>Denmark</th>\n",
       "      <th>Finland</th>\n",
       "      <th>Germany</th>\n",
       "      <th>Italy</th>\n",
       "      <th>Malaysia</th>\n",
       "      <th>Netherlands</th>\n",
       "      <th>Norway</th>\n",
       "      <th>Portugal</th>\n",
       "      <th>Romania</th>\n",
       "      <th>Sweden</th>\n",
       "      <th>Switzerland</th>\n",
       "      <th>United Kingdom</th>\n",
       "    </tr>\n",
       "    <tr>\n",
       "      <th>Date</th>\n",
       "      <th></th>\n",
       "      <th></th>\n",
       "      <th></th>\n",
       "      <th></th>\n",
       "      <th></th>\n",
       "      <th></th>\n",
       "      <th></th>\n",
       "      <th></th>\n",
       "      <th></th>\n",
       "      <th></th>\n",
       "      <th></th>\n",
       "      <th></th>\n",
       "      <th></th>\n",
       "      <th></th>\n",
       "    </tr>\n",
       "  </thead>\n",
       "  <tbody>\n",
       "    <tr>\n",
       "      <th>2021-01-02</th>\n",
       "      <td>0.000002</td>\n",
       "      <td>0.000191</td>\n",
       "      <td>0.000093</td>\n",
       "      <td>0.000191</td>\n",
       "      <td>0.000229</td>\n",
       "      <td>0.000192</td>\n",
       "      <td>0.000067</td>\n",
       "      <td>0.000093</td>\n",
       "      <td>0.000002</td>\n",
       "      <td>0.00015</td>\n",
       "      <td>0.000712</td>\n",
       "      <td>0.000014</td>\n",
       "      <td>0.000059</td>\n",
       "      <td>0.000014</td>\n",
       "    </tr>\n",
       "    <tr>\n",
       "      <th>2021-01-03</th>\n",
       "      <td>0.000002</td>\n",
       "      <td>0.000191</td>\n",
       "      <td>0.000093</td>\n",
       "      <td>0.000191</td>\n",
       "      <td>0.000229</td>\n",
       "      <td>0.000192</td>\n",
       "      <td>0.000067</td>\n",
       "      <td>0.000093</td>\n",
       "      <td>0.000002</td>\n",
       "      <td>0.00015</td>\n",
       "      <td>0.000712</td>\n",
       "      <td>0.000014</td>\n",
       "      <td>0.000059</td>\n",
       "      <td>0.000014</td>\n",
       "    </tr>\n",
       "    <tr>\n",
       "      <th>2021-01-04</th>\n",
       "      <td>0.000002</td>\n",
       "      <td>0.000191</td>\n",
       "      <td>0.000093</td>\n",
       "      <td>0.000191</td>\n",
       "      <td>0.000229</td>\n",
       "      <td>0.000192</td>\n",
       "      <td>0.000067</td>\n",
       "      <td>0.000093</td>\n",
       "      <td>0.000002</td>\n",
       "      <td>0.00015</td>\n",
       "      <td>0.000712</td>\n",
       "      <td>0.000014</td>\n",
       "      <td>0.000059</td>\n",
       "      <td>0.000014</td>\n",
       "    </tr>\n",
       "    <tr>\n",
       "      <th>2021-01-05</th>\n",
       "      <td>0.000002</td>\n",
       "      <td>0.000191</td>\n",
       "      <td>0.000093</td>\n",
       "      <td>0.000191</td>\n",
       "      <td>0.000229</td>\n",
       "      <td>0.000192</td>\n",
       "      <td>0.000067</td>\n",
       "      <td>0.000093</td>\n",
       "      <td>0.000002</td>\n",
       "      <td>0.00015</td>\n",
       "      <td>0.000712</td>\n",
       "      <td>0.000014</td>\n",
       "      <td>0.000059</td>\n",
       "      <td>0.000014</td>\n",
       "    </tr>\n",
       "    <tr>\n",
       "      <th>2021-01-06</th>\n",
       "      <td>0.000002</td>\n",
       "      <td>0.000191</td>\n",
       "      <td>0.000093</td>\n",
       "      <td>0.000191</td>\n",
       "      <td>0.000229</td>\n",
       "      <td>0.000192</td>\n",
       "      <td>0.000067</td>\n",
       "      <td>0.000093</td>\n",
       "      <td>0.000002</td>\n",
       "      <td>0.00015</td>\n",
       "      <td>0.000712</td>\n",
       "      <td>0.000014</td>\n",
       "      <td>0.000059</td>\n",
       "      <td>0.000014</td>\n",
       "    </tr>\n",
       "  </tbody>\n",
       "</table>\n",
       "</div>"
      ],
      "text/plain": [
       "Country      Belgium    Canada   Denmark   Finland   Germany     Italy  \\\n",
       "Date                                                                     \n",
       "2021-01-02  0.000002  0.000191  0.000093  0.000191  0.000229  0.000192   \n",
       "2021-01-03  0.000002  0.000191  0.000093  0.000191  0.000229  0.000192   \n",
       "2021-01-04  0.000002  0.000191  0.000093  0.000191  0.000229  0.000192   \n",
       "2021-01-05  0.000002  0.000191  0.000093  0.000191  0.000229  0.000192   \n",
       "2021-01-06  0.000002  0.000191  0.000093  0.000191  0.000229  0.000192   \n",
       "\n",
       "Country     Malaysia  Netherlands    Norway  Portugal   Romania    Sweden  \\\n",
       "Date                                                                        \n",
       "2021-01-02  0.000067     0.000093  0.000002   0.00015  0.000712  0.000014   \n",
       "2021-01-03  0.000067     0.000093  0.000002   0.00015  0.000712  0.000014   \n",
       "2021-01-04  0.000067     0.000093  0.000002   0.00015  0.000712  0.000014   \n",
       "2021-01-05  0.000067     0.000093  0.000002   0.00015  0.000712  0.000014   \n",
       "2021-01-06  0.000067     0.000093  0.000002   0.00015  0.000712  0.000014   \n",
       "\n",
       "Country     Switzerland  United Kingdom  \n",
       "Date                                     \n",
       "2021-01-02     0.000059        0.000014  \n",
       "2021-01-03     0.000059        0.000014  \n",
       "2021-01-04     0.000059        0.000014  \n",
       "2021-01-05     0.000059        0.000014  \n",
       "2021-01-06     0.000059        0.000014  "
      ]
     },
     "execution_count": 17,
     "metadata": {},
     "output_type": "execute_result"
    }
   ],
   "source": [
    "analyser.history(\"kappa\", roll_window=None).tail()"
   ]
  },
  {
   "cell_type": "markdown",
   "metadata": {},
   "source": [
    "### $\\theta$: Mortality rate of S$^\\ast$ cases $\\mathrm{[-]}$"
   ]
  },
  {
   "cell_type": "code",
   "execution_count": 18,
   "metadata": {
    "collapsed": false
   },
   "outputs": [
    {
     "data": {
      "image/png": "[encoded data removed]",
      "text/plain": [
       "<Figure size 648x432 with 1 Axes>"
      ]
     },
     "metadata": {},
     "output_type": "display_data"
    },
    {
     "data": {
      "text/html": [
       "<div>\n",
       "<style scoped>\n",
       "    .dataframe tbody tr th:only-of-type {\n",
       "        vertical-align: middle;\n",
       "    }\n",
       "\n",
       "    .dataframe tbody tr th {\n",
       "        vertical-align: top;\n",
       "    }\n",
       "\n",
       "    .dataframe thead th {\n",
       "        text-align: right;\n",
       "    }\n",
       "</style>\n",
       "<table border=\"1\" class=\"dataframe\">\n",
       "  <thead>\n",
       "    <tr style=\"text-align: right;\">\n",
       "      <th>Country</th>\n",
       "      <th>Belgium</th>\n",
       "      <th>Canada</th>\n",
       "      <th>Denmark</th>\n",
       "      <th>Finland</th>\n",
       "      <th>Germany</th>\n",
       "      <th>Italy</th>\n",
       "      <th>Malaysia</th>\n",
       "      <th>Netherlands</th>\n",
       "      <th>Norway</th>\n",
       "      <th>Portugal</th>\n",
       "      <th>Romania</th>\n",
       "      <th>Sweden</th>\n",
       "      <th>Switzerland</th>\n",
       "      <th>United Kingdom</th>\n",
       "    </tr>\n",
       "    <tr>\n",
       "      <th>Date</th>\n",
       "      <th></th>\n",
       "      <th></th>\n",
       "      <th></th>\n",
       "      <th></th>\n",
       "      <th></th>\n",
       "      <th></th>\n",
       "      <th></th>\n",
       "      <th></th>\n",
       "      <th></th>\n",
       "      <th></th>\n",
       "      <th></th>\n",
       "      <th></th>\n",
       "      <th></th>\n",
       "      <th></th>\n",
       "    </tr>\n",
       "  </thead>\n",
       "  <tbody>\n",
       "    <tr>\n",
       "      <th>2021-01-02</th>\n",
       "      <td>0.121533</td>\n",
       "      <td>0.018295</td>\n",
       "      <td>0.001799</td>\n",
       "      <td>0.001229</td>\n",
       "      <td>0.000121</td>\n",
       "      <td>0.002104</td>\n",
       "      <td>0.000662</td>\n",
       "      <td>0.001806</td>\n",
       "      <td>0.002172</td>\n",
       "      <td>0.001015</td>\n",
       "      <td>0.000488</td>\n",
       "      <td>0.005572</td>\n",
       "      <td>0.084318</td>\n",
       "      <td>0.019197</td>\n",
       "    </tr>\n",
       "    <tr>\n",
       "      <th>2021-01-03</th>\n",
       "      <td>0.121533</td>\n",
       "      <td>0.018295</td>\n",
       "      <td>0.001799</td>\n",
       "      <td>0.001229</td>\n",
       "      <td>0.000121</td>\n",
       "      <td>0.002104</td>\n",
       "      <td>0.000662</td>\n",
       "      <td>0.001806</td>\n",
       "      <td>0.002172</td>\n",
       "      <td>0.001015</td>\n",
       "      <td>0.000488</td>\n",
       "      <td>0.005572</td>\n",
       "      <td>0.084318</td>\n",
       "      <td>0.019197</td>\n",
       "    </tr>\n",
       "    <tr>\n",
       "      <th>2021-01-04</th>\n",
       "      <td>0.121533</td>\n",
       "      <td>0.018295</td>\n",
       "      <td>0.001799</td>\n",
       "      <td>0.001229</td>\n",
       "      <td>0.000121</td>\n",
       "      <td>0.002104</td>\n",
       "      <td>0.000662</td>\n",
       "      <td>0.001806</td>\n",
       "      <td>0.002172</td>\n",
       "      <td>0.001015</td>\n",
       "      <td>0.000488</td>\n",
       "      <td>0.005572</td>\n",
       "      <td>0.084318</td>\n",
       "      <td>0.019197</td>\n",
       "    </tr>\n",
       "    <tr>\n",
       "      <th>2021-01-05</th>\n",
       "      <td>0.121533</td>\n",
       "      <td>0.018295</td>\n",
       "      <td>0.001799</td>\n",
       "      <td>0.001229</td>\n",
       "      <td>0.000121</td>\n",
       "      <td>0.002104</td>\n",
       "      <td>0.000662</td>\n",
       "      <td>0.001806</td>\n",
       "      <td>0.002172</td>\n",
       "      <td>0.001015</td>\n",
       "      <td>0.000488</td>\n",
       "      <td>0.005572</td>\n",
       "      <td>0.084318</td>\n",
       "      <td>0.019197</td>\n",
       "    </tr>\n",
       "    <tr>\n",
       "      <th>2021-01-06</th>\n",
       "      <td>0.121533</td>\n",
       "      <td>0.018295</td>\n",
       "      <td>0.001799</td>\n",
       "      <td>0.001229</td>\n",
       "      <td>0.000121</td>\n",
       "      <td>0.002104</td>\n",
       "      <td>0.000662</td>\n",
       "      <td>0.001806</td>\n",
       "      <td>0.002172</td>\n",
       "      <td>0.001015</td>\n",
       "      <td>0.000488</td>\n",
       "      <td>0.005572</td>\n",
       "      <td>0.084318</td>\n",
       "      <td>0.019197</td>\n",
       "    </tr>\n",
       "  </tbody>\n",
       "</table>\n",
       "</div>"
      ],
      "text/plain": [
       "Country      Belgium    Canada   Denmark   Finland   Germany     Italy  \\\n",
       "Date                                                                     \n",
       "2021-01-02  0.121533  0.018295  0.001799  0.001229  0.000121  0.002104   \n",
       "2021-01-03  0.121533  0.018295  0.001799  0.001229  0.000121  0.002104   \n",
       "2021-01-04  0.121533  0.018295  0.001799  0.001229  0.000121  0.002104   \n",
       "2021-01-05  0.121533  0.018295  0.001799  0.001229  0.000121  0.002104   \n",
       "2021-01-06  0.121533  0.018295  0.001799  0.001229  0.000121  0.002104   \n",
       "\n",
       "Country     Malaysia  Netherlands    Norway  Portugal   Romania    Sweden  \\\n",
       "Date                                                                        \n",
       "2021-01-02  0.000662     0.001806  0.002172  0.001015  0.000488  0.005572   \n",
       "2021-01-03  0.000662     0.001806  0.002172  0.001015  0.000488  0.005572   \n",
       "2021-01-04  0.000662     0.001806  0.002172  0.001015  0.000488  0.005572   \n",
       "2021-01-05  0.000662     0.001806  0.002172  0.001015  0.000488  0.005572   \n",
       "2021-01-06  0.000662     0.001806  0.002172  0.001015  0.000488  0.005572   \n",
       "\n",
       "Country     Switzerland  United Kingdom  \n",
       "Date                                     \n",
       "2021-01-02     0.084318        0.019197  \n",
       "2021-01-03     0.084318        0.019197  \n",
       "2021-01-04     0.084318        0.019197  \n",
       "2021-01-05     0.084318        0.019197  \n",
       "2021-01-06     0.084318        0.019197  "
      ]
     },
     "execution_count": 18,
     "metadata": {},
     "output_type": "execute_result"
    }
   ],
   "source": [
    "analyser.history(\"theta\", roll_window=None).tail()"
   ]
  },
  {
   "cell_type": "markdown",
   "metadata": {},
   "source": [
    "## (Experimental): Relationship of OxCGRT index and parameter values\n",
    "Government responses will impact on parameter values of ODE models about 14 days later. Here, we will investigate on the relationship of [stringency index (from OxCGRT)](https://github.com/OxCGRT/covid-policy-tracker/blob/master/documentation/index_methodology.md) and reproduction number/model parameters.\n"
   ]
  },
  {
   "cell_type": "code",
   "execution_count": 19,
   "metadata": {
    "collapsed": false
   },
   "outputs": [],
   "source": [
    "%matplotlib inline\n",
    "from matplotlib import pyplot as plt\n",
    "import seaborn as sns\n",
    "import pandas as pd"
   ]
  },
  {
   "cell_type": "code",
   "execution_count": 20,
   "metadata": {
    "collapsed": false
   },
   "outputs": [
    {
     "name": "stdout",
     "output_type": "stream",
     "text": [
      "<class 'pandas.core.frame.DataFrame'>\n",
      "Int64Index: 49965 entries, 0 to 50146\n",
      "Data columns (total 19 columns):\n",
      " #   Column                               Non-Null Count  Dtype         \n",
      "---  ------                               --------------  -----         \n",
      " 0   Date                                 49965 non-null  datetime64[ns]\n",
      " 1   Country                              49965 non-null  object        \n",
      " 2   Rt                                   49965 non-null  float64       \n",
      " 3   theta                                49965 non-null  float64       \n",
      " 4   kappa                                49965 non-null  float64       \n",
      " 5   rho                                  49965 non-null  float64       \n",
      " 6   sigma                                49965 non-null  float64       \n",
      " 7   School_closing                       49965 non-null  int64         \n",
      " 8   Workplace_closing                    49965 non-null  int64         \n",
      " 9   Cancel_events                        49965 non-null  int64         \n",
      " 10  Gatherings_restrictions              49965 non-null  int64         \n",
      " 11  Transport_closing                    49965 non-null  int64         \n",
      " 12  Stay_home_restrictions               49965 non-null  int64         \n",
      " 13  Internal_movement_restrictions       49965 non-null  int64         \n",
      " 14  International_movement_restrictions  49965 non-null  int64         \n",
      " 15  Information_campaigns                49965 non-null  int64         \n",
      " 16  Testing_policy                       49965 non-null  int64         \n",
      " 17  Contact_tracing                      49965 non-null  int64         \n",
      " 18  Stringency_index                     49965 non-null  float64       \n",
      "dtypes: datetime64[ns](1), float64(6), int64(11), object(1)\n",
      "memory usage: 7.6+ MB\n"
     ]
    }
   ],
   "source": [
    "df = analyser.track()\n",
    "param_cols = [\"Rt\", *cs.SIRF.PARAMETERS]\n",
    "oxcgrt_cols = oxcgrt_data.OXCGRT_VARS[:]\n",
    "cols = param_cols + oxcgrt_cols\n",
    "delay = 14\n",
    "\n",
    "for col in param_cols:\n",
    "    df[col] = pd.to_numeric(df[col], errors=\"coerce\")\n",
    "    df[col] = df.groupby(\"Country\")[col].shift(0 - delay)\n",
    "\n",
    "df = df.dropna(how=\"any\")\n",
    "df = df.loc[:, [\"Date\", \"Country\", *cols]]\n",
    "track_df = df.copy()\n",
    "track_df.info()"
   ]
  },
  {
   "cell_type": "code",
   "execution_count": 21,
   "metadata": {
    "collapsed": false
   },
   "outputs": [
    {
     "data": {
      "text/html": [
       "<style  type=\"text/css\" >\n",
       "#T_10838948_503f_11eb_85f0_5254004e6921row0_col0,#T_10838948_503f_11eb_85f0_5254004e6921row1_col1,#T_10838948_503f_11eb_85f0_5254004e6921row2_col2,#T_10838948_503f_11eb_85f0_5254004e6921row3_col3,#T_10838948_503f_11eb_85f0_5254004e6921row4_col4,#T_10838948_503f_11eb_85f0_5254004e6921row5_col5,#T_10838948_503f_11eb_85f0_5254004e6921row6_col6,#T_10838948_503f_11eb_85f0_5254004e6921row7_col7,#T_10838948_503f_11eb_85f0_5254004e6921row8_col8,#T_10838948_503f_11eb_85f0_5254004e6921row9_col9,#T_10838948_503f_11eb_85f0_5254004e6921row10_col10,#T_10838948_503f_11eb_85f0_5254004e6921row11_col11,#T_10838948_503f_11eb_85f0_5254004e6921row12_col12,#T_10838948_503f_11eb_85f0_5254004e6921row13_col13,#T_10838948_503f_11eb_85f0_5254004e6921row14_col14,#T_10838948_503f_11eb_85f0_5254004e6921row15_col15,#T_10838948_503f_11eb_85f0_5254004e6921row16_col16{\n",
       "            background-color:  #023858;\n",
       "            color:  #f1f1f1;\n",
       "        }#T_10838948_503f_11eb_85f0_5254004e6921row0_col1,#T_10838948_503f_11eb_85f0_5254004e6921row1_col0{\n",
       "            background-color:  #d3d4e7;\n",
       "            color:  #000000;\n",
       "        }#T_10838948_503f_11eb_85f0_5254004e6921row0_col2,#T_10838948_503f_11eb_85f0_5254004e6921row1_col10,#T_10838948_503f_11eb_85f0_5254004e6921row2_col0,#T_10838948_503f_11eb_85f0_5254004e6921row6_col15,#T_10838948_503f_11eb_85f0_5254004e6921row10_col1,#T_10838948_503f_11eb_85f0_5254004e6921row11_col12,#T_10838948_503f_11eb_85f0_5254004e6921row12_col11,#T_10838948_503f_11eb_85f0_5254004e6921row15_col6{\n",
       "            background-color:  #c9cee4;\n",
       "            color:  #000000;\n",
       "        }#T_10838948_503f_11eb_85f0_5254004e6921row0_col3,#T_10838948_503f_11eb_85f0_5254004e6921row3_col0{\n",
       "            background-color:  #056caa;\n",
       "            color:  #f1f1f1;\n",
       "        }#T_10838948_503f_11eb_85f0_5254004e6921row0_col4,#T_10838948_503f_11eb_85f0_5254004e6921row4_col0{\n",
       "            background-color:  #fff7fb;\n",
       "            color:  #000000;\n",
       "        }#T_10838948_503f_11eb_85f0_5254004e6921row0_col5,#T_10838948_503f_11eb_85f0_5254004e6921row5_col0{\n",
       "            background-color:  #e4e1ef;\n",
       "            color:  #000000;\n",
       "        }#T_10838948_503f_11eb_85f0_5254004e6921row0_col6,#T_10838948_503f_11eb_85f0_5254004e6921row0_col11,#T_10838948_503f_11eb_85f0_5254004e6921row1_col14,#T_10838948_503f_11eb_85f0_5254004e6921row6_col0,#T_10838948_503f_11eb_85f0_5254004e6921row11_col0,#T_10838948_503f_11eb_85f0_5254004e6921row14_col1,#T_10838948_503f_11eb_85f0_5254004e6921row15_col16,#T_10838948_503f_11eb_85f0_5254004e6921row16_col15{\n",
       "            background-color:  #dedcec;\n",
       "            color:  #000000;\n",
       "        }#T_10838948_503f_11eb_85f0_5254004e6921row0_col7,#T_10838948_503f_11eb_85f0_5254004e6921row1_col3,#T_10838948_503f_11eb_85f0_5254004e6921row3_col1,#T_10838948_503f_11eb_85f0_5254004e6921row7_col0{\n",
       "            background-color:  #dddbec;\n",
       "            color:  #000000;\n",
       "        }#T_10838948_503f_11eb_85f0_5254004e6921row0_col8,#T_10838948_503f_11eb_85f0_5254004e6921row3_col10,#T_10838948_503f_11eb_85f0_5254004e6921row8_col0,#T_10838948_503f_11eb_85f0_5254004e6921row10_col3{\n",
       "            background-color:  #eae6f1;\n",
       "            color:  #000000;\n",
       "        }#T_10838948_503f_11eb_85f0_5254004e6921row0_col9,#T_10838948_503f_11eb_85f0_5254004e6921row0_col10,#T_10838948_503f_11eb_85f0_5254004e6921row3_col15,#T_10838948_503f_11eb_85f0_5254004e6921row9_col0,#T_10838948_503f_11eb_85f0_5254004e6921row10_col0,#T_10838948_503f_11eb_85f0_5254004e6921row15_col3{\n",
       "            background-color:  #dcdaeb;\n",
       "            color:  #000000;\n",
       "        }#T_10838948_503f_11eb_85f0_5254004e6921row0_col12,#T_10838948_503f_11eb_85f0_5254004e6921row12_col0{\n",
       "            background-color:  #f5eef6;\n",
       "            color:  #000000;\n",
       "        }#T_10838948_503f_11eb_85f0_5254004e6921row0_col13,#T_10838948_503f_11eb_85f0_5254004e6921row13_col0{\n",
       "            background-color:  #d6d6e9;\n",
       "            color:  #000000;\n",
       "        }#T_10838948_503f_11eb_85f0_5254004e6921row0_col14,#T_10838948_503f_11eb_85f0_5254004e6921row2_col6,#T_10838948_503f_11eb_85f0_5254004e6921row6_col2,#T_10838948_503f_11eb_85f0_5254004e6921row14_col0{\n",
       "            background-color:  #eee8f3;\n",
       "            color:  #000000;\n",
       "        }#T_10838948_503f_11eb_85f0_5254004e6921row0_col15,#T_10838948_503f_11eb_85f0_5254004e6921row2_col8,#T_10838948_503f_11eb_85f0_5254004e6921row8_col2,#T_10838948_503f_11eb_85f0_5254004e6921row15_col0{\n",
       "            background-color:  #e1dfed;\n",
       "            color:  #000000;\n",
       "        }#T_10838948_503f_11eb_85f0_5254004e6921row0_col16,#T_10838948_503f_11eb_85f0_5254004e6921row1_col4,#T_10838948_503f_11eb_85f0_5254004e6921row2_col14,#T_10838948_503f_11eb_85f0_5254004e6921row3_col9,#T_10838948_503f_11eb_85f0_5254004e6921row3_col16,#T_10838948_503f_11eb_85f0_5254004e6921row4_col1,#T_10838948_503f_11eb_85f0_5254004e6921row9_col3,#T_10838948_503f_11eb_85f0_5254004e6921row14_col2,#T_10838948_503f_11eb_85f0_5254004e6921row16_col0,#T_10838948_503f_11eb_85f0_5254004e6921row16_col3{\n",
       "            background-color:  #e7e3f0;\n",
       "            color:  #000000;\n",
       "        }#T_10838948_503f_11eb_85f0_5254004e6921row1_col2,#T_10838948_503f_11eb_85f0_5254004e6921row2_col1,#T_10838948_503f_11eb_85f0_5254004e6921row10_col11,#T_10838948_503f_11eb_85f0_5254004e6921row11_col10{\n",
       "            background-color:  #2383ba;\n",
       "            color:  #000000;\n",
       "        }#T_10838948_503f_11eb_85f0_5254004e6921row1_col5,#T_10838948_503f_11eb_85f0_5254004e6921row5_col1{\n",
       "            background-color:  #93b5d6;\n",
       "            color:  #000000;\n",
       "        }#T_10838948_503f_11eb_85f0_5254004e6921row1_col6,#T_10838948_503f_11eb_85f0_5254004e6921row2_col9,#T_10838948_503f_11eb_85f0_5254004e6921row6_col1,#T_10838948_503f_11eb_85f0_5254004e6921row9_col2,#T_10838948_503f_11eb_85f0_5254004e6921row9_col12,#T_10838948_503f_11eb_85f0_5254004e6921row12_col9{\n",
       "            background-color:  #d1d2e6;\n",
       "            color:  #000000;\n",
       "        }#T_10838948_503f_11eb_85f0_5254004e6921row1_col7,#T_10838948_503f_11eb_85f0_5254004e6921row4_col9,#T_10838948_503f_11eb_85f0_5254004e6921row7_col1,#T_10838948_503f_11eb_85f0_5254004e6921row9_col4{\n",
       "            background-color:  #bfc9e1;\n",
       "            color:  #000000;\n",
       "        }#T_10838948_503f_11eb_85f0_5254004e6921row1_col8,#T_10838948_503f_11eb_85f0_5254004e6921row1_col12,#T_10838948_503f_11eb_85f0_5254004e6921row2_col5,#T_10838948_503f_11eb_85f0_5254004e6921row5_col2,#T_10838948_503f_11eb_85f0_5254004e6921row8_col1,#T_10838948_503f_11eb_85f0_5254004e6921row12_col1{\n",
       "            background-color:  #d9d8ea;\n",
       "            color:  #000000;\n",
       "        }#T_10838948_503f_11eb_85f0_5254004e6921row1_col9,#T_10838948_503f_11eb_85f0_5254004e6921row9_col1,#T_10838948_503f_11eb_85f0_5254004e6921row10_col12,#T_10838948_503f_11eb_85f0_5254004e6921row12_col10{\n",
       "            background-color:  #83afd3;\n",
       "            color:  #000000;\n",
       "        }#T_10838948_503f_11eb_85f0_5254004e6921row1_col11,#T_10838948_503f_11eb_85f0_5254004e6921row5_col15,#T_10838948_503f_11eb_85f0_5254004e6921row11_col1,#T_10838948_503f_11eb_85f0_5254004e6921row15_col5{\n",
       "            background-color:  #a5bddb;\n",
       "            color:  #000000;\n",
       "        }#T_10838948_503f_11eb_85f0_5254004e6921row1_col13,#T_10838948_503f_11eb_85f0_5254004e6921row1_col16,#T_10838948_503f_11eb_85f0_5254004e6921row13_col1,#T_10838948_503f_11eb_85f0_5254004e6921row16_col1{\n",
       "            background-color:  #d4d4e8;\n",
       "            color:  #000000;\n",
       "        }#T_10838948_503f_11eb_85f0_5254004e6921row1_col15,#T_10838948_503f_11eb_85f0_5254004e6921row5_col7,#T_10838948_503f_11eb_85f0_5254004e6921row7_col5,#T_10838948_503f_11eb_85f0_5254004e6921row15_col1{\n",
       "            background-color:  #9ebad9;\n",
       "            color:  #000000;\n",
       "        }#T_10838948_503f_11eb_85f0_5254004e6921row2_col3,#T_10838948_503f_11eb_85f0_5254004e6921row3_col2,#T_10838948_503f_11eb_85f0_5254004e6921row5_col8,#T_10838948_503f_11eb_85f0_5254004e6921row6_col14,#T_10838948_503f_11eb_85f0_5254004e6921row8_col5,#T_10838948_503f_11eb_85f0_5254004e6921row14_col6{\n",
       "            background-color:  #8eb3d5;\n",
       "            color:  #000000;\n",
       "        }#T_10838948_503f_11eb_85f0_5254004e6921row2_col4,#T_10838948_503f_11eb_85f0_5254004e6921row4_col2{\n",
       "            background-color:  #dad9ea;\n",
       "            color:  #000000;\n",
       "        }#T_10838948_503f_11eb_85f0_5254004e6921row2_col7,#T_10838948_503f_11eb_85f0_5254004e6921row7_col2,#T_10838948_503f_11eb_85f0_5254004e6921row9_col15,#T_10838948_503f_11eb_85f0_5254004e6921row15_col9{\n",
       "            background-color:  #d2d3e7;\n",
       "            color:  #000000;\n",
       "        }#T_10838948_503f_11eb_85f0_5254004e6921row2_col10,#T_10838948_503f_11eb_85f0_5254004e6921row2_col11,#T_10838948_503f_11eb_85f0_5254004e6921row10_col2,#T_10838948_503f_11eb_85f0_5254004e6921row11_col2{\n",
       "            background-color:  #e2dfee;\n",
       "            color:  #000000;\n",
       "        }#T_10838948_503f_11eb_85f0_5254004e6921row2_col12,#T_10838948_503f_11eb_85f0_5254004e6921row12_col2{\n",
       "            background-color:  #e0dded;\n",
       "            color:  #000000;\n",
       "        }#T_10838948_503f_11eb_85f0_5254004e6921row2_col13,#T_10838948_503f_11eb_85f0_5254004e6921row13_col2{\n",
       "            background-color:  #efe9f3;\n",
       "            color:  #000000;\n",
       "        }#T_10838948_503f_11eb_85f0_5254004e6921row2_col15,#T_10838948_503f_11eb_85f0_5254004e6921row15_col2{\n",
       "            background-color:  #b7c5df;\n",
       "            color:  #000000;\n",
       "        }#T_10838948_503f_11eb_85f0_5254004e6921row2_col16,#T_10838948_503f_11eb_85f0_5254004e6921row16_col2{\n",
       "            background-color:  #e8e4f0;\n",
       "            color:  #000000;\n",
       "        }#T_10838948_503f_11eb_85f0_5254004e6921row3_col4,#T_10838948_503f_11eb_85f0_5254004e6921row3_col5,#T_10838948_503f_11eb_85f0_5254004e6921row4_col3,#T_10838948_503f_11eb_85f0_5254004e6921row5_col3{\n",
       "            background-color:  #ede7f2;\n",
       "            color:  #000000;\n",
       "        }#T_10838948_503f_11eb_85f0_5254004e6921row3_col6,#T_10838948_503f_11eb_85f0_5254004e6921row6_col3{\n",
       "            background-color:  #ece7f2;\n",
       "            color:  #000000;\n",
       "        }#T_10838948_503f_11eb_85f0_5254004e6921row3_col7,#T_10838948_503f_11eb_85f0_5254004e6921row7_col3{\n",
       "            background-color:  #ede8f3;\n",
       "            color:  #000000;\n",
       "        }#T_10838948_503f_11eb_85f0_5254004e6921row3_col8,#T_10838948_503f_11eb_85f0_5254004e6921row8_col3{\n",
       "            background-color:  #f0eaf4;\n",
       "            color:  #000000;\n",
       "        }#T_10838948_503f_11eb_85f0_5254004e6921row3_col11,#T_10838948_503f_11eb_85f0_5254004e6921row3_col14,#T_10838948_503f_11eb_85f0_5254004e6921row11_col3,#T_10838948_503f_11eb_85f0_5254004e6921row14_col3{\n",
       "            background-color:  #eee9f3;\n",
       "            color:  #000000;\n",
       "        }#T_10838948_503f_11eb_85f0_5254004e6921row3_col12,#T_10838948_503f_11eb_85f0_5254004e6921row12_col3{\n",
       "            background-color:  #f7f0f7;\n",
       "            color:  #000000;\n",
       "        }#T_10838948_503f_11eb_85f0_5254004e6921row3_col13,#T_10838948_503f_11eb_85f0_5254004e6921row13_col3{\n",
       "            background-color:  #dbdaeb;\n",
       "            color:  #000000;\n",
       "        }#T_10838948_503f_11eb_85f0_5254004e6921row4_col5,#T_10838948_503f_11eb_85f0_5254004e6921row5_col4,#T_10838948_503f_11eb_85f0_5254004e6921row6_col9,#T_10838948_503f_11eb_85f0_5254004e6921row9_col6{\n",
       "            background-color:  #8bb2d4;\n",
       "            color:  #000000;\n",
       "        }#T_10838948_503f_11eb_85f0_5254004e6921row4_col6,#T_10838948_503f_11eb_85f0_5254004e6921row6_col4{\n",
       "            background-color:  #a2bcda;\n",
       "            color:  #000000;\n",
       "        }#T_10838948_503f_11eb_85f0_5254004e6921row4_col7,#T_10838948_503f_11eb_85f0_5254004e6921row7_col4{\n",
       "            background-color:  #96b6d7;\n",
       "            color:  #000000;\n",
       "        }#T_10838948_503f_11eb_85f0_5254004e6921row4_col8,#T_10838948_503f_11eb_85f0_5254004e6921row8_col4{\n",
       "            background-color:  #6fa7ce;\n",
       "            color:  #000000;\n",
       "        }#T_10838948_503f_11eb_85f0_5254004e6921row4_col10,#T_10838948_503f_11eb_85f0_5254004e6921row7_col14,#T_10838948_503f_11eb_85f0_5254004e6921row10_col4,#T_10838948_503f_11eb_85f0_5254004e6921row14_col7{\n",
       "            background-color:  #c4cbe3;\n",
       "            color:  #000000;\n",
       "        }#T_10838948_503f_11eb_85f0_5254004e6921row4_col11,#T_10838948_503f_11eb_85f0_5254004e6921row11_col4,#T_10838948_503f_11eb_85f0_5254004e6921row11_col15,#T_10838948_503f_11eb_85f0_5254004e6921row15_col11{\n",
       "            background-color:  #b9c6e0;\n",
       "            color:  #000000;\n",
       "        }#T_10838948_503f_11eb_85f0_5254004e6921row4_col12,#T_10838948_503f_11eb_85f0_5254004e6921row12_col4,#T_10838948_503f_11eb_85f0_5254004e6921row12_col15,#T_10838948_503f_11eb_85f0_5254004e6921row15_col12{\n",
       "            background-color:  #86b0d3;\n",
       "            color:  #000000;\n",
       "        }#T_10838948_503f_11eb_85f0_5254004e6921row4_col13,#T_10838948_503f_11eb_85f0_5254004e6921row13_col4{\n",
       "            background-color:  #81aed2;\n",
       "            color:  #000000;\n",
       "        }#T_10838948_503f_11eb_85f0_5254004e6921row4_col14,#T_10838948_503f_11eb_85f0_5254004e6921row13_col15,#T_10838948_503f_11eb_85f0_5254004e6921row14_col4,#T_10838948_503f_11eb_85f0_5254004e6921row15_col13{\n",
       "            background-color:  #89b1d4;\n",
       "            color:  #000000;\n",
       "        }#T_10838948_503f_11eb_85f0_5254004e6921row4_col15,#T_10838948_503f_11eb_85f0_5254004e6921row15_col4{\n",
       "            background-color:  #acc0dd;\n",
       "            color:  #000000;\n",
       "        }#T_10838948_503f_11eb_85f0_5254004e6921row4_col16,#T_10838948_503f_11eb_85f0_5254004e6921row8_col14,#T_10838948_503f_11eb_85f0_5254004e6921row14_col8,#T_10838948_503f_11eb_85f0_5254004e6921row16_col4{\n",
       "            background-color:  #8cb3d5;\n",
       "            color:  #000000;\n",
       "        }#T_10838948_503f_11eb_85f0_5254004e6921row5_col6,#T_10838948_503f_11eb_85f0_5254004e6921row6_col5{\n",
       "            background-color:  #3f93c2;\n",
       "            color:  #000000;\n",
       "        }#T_10838948_503f_11eb_85f0_5254004e6921row5_col9,#T_10838948_503f_11eb_85f0_5254004e6921row9_col5{\n",
       "            background-color:  #adc1dd;\n",
       "            color:  #000000;\n",
       "        }#T_10838948_503f_11eb_85f0_5254004e6921row5_col10,#T_10838948_503f_11eb_85f0_5254004e6921row10_col5,#T_10838948_503f_11eb_85f0_5254004e6921row13_col14,#T_10838948_503f_11eb_85f0_5254004e6921row14_col13{\n",
       "            background-color:  #529bc7;\n",
       "            color:  #000000;\n",
       "        }#T_10838948_503f_11eb_85f0_5254004e6921row5_col11,#T_10838948_503f_11eb_85f0_5254004e6921row6_col7,#T_10838948_503f_11eb_85f0_5254004e6921row7_col6,#T_10838948_503f_11eb_85f0_5254004e6921row8_col9,#T_10838948_503f_11eb_85f0_5254004e6921row9_col8,#T_10838948_503f_11eb_85f0_5254004e6921row11_col5{\n",
       "            background-color:  #80aed2;\n",
       "            color:  #000000;\n",
       "        }#T_10838948_503f_11eb_85f0_5254004e6921row5_col12,#T_10838948_503f_11eb_85f0_5254004e6921row12_col5{\n",
       "            background-color:  #7bacd1;\n",
       "            color:  #000000;\n",
       "        }#T_10838948_503f_11eb_85f0_5254004e6921row5_col13,#T_10838948_503f_11eb_85f0_5254004e6921row10_col13,#T_10838948_503f_11eb_85f0_5254004e6921row13_col5,#T_10838948_503f_11eb_85f0_5254004e6921row13_col10{\n",
       "            background-color:  #62a2cb;\n",
       "            color:  #000000;\n",
       "        }#T_10838948_503f_11eb_85f0_5254004e6921row5_col14,#T_10838948_503f_11eb_85f0_5254004e6921row9_col13,#T_10838948_503f_11eb_85f0_5254004e6921row13_col9,#T_10838948_503f_11eb_85f0_5254004e6921row14_col5,#T_10838948_503f_11eb_85f0_5254004e6921row14_col16,#T_10838948_503f_11eb_85f0_5254004e6921row16_col14{\n",
       "            background-color:  #94b6d7;\n",
       "            color:  #000000;\n",
       "        }#T_10838948_503f_11eb_85f0_5254004e6921row5_col16,#T_10838948_503f_11eb_85f0_5254004e6921row12_col14,#T_10838948_503f_11eb_85f0_5254004e6921row14_col12,#T_10838948_503f_11eb_85f0_5254004e6921row16_col5{\n",
       "            background-color:  #308cbe;\n",
       "            color:  #000000;\n",
       "        }#T_10838948_503f_11eb_85f0_5254004e6921row6_col8,#T_10838948_503f_11eb_85f0_5254004e6921row8_col6{\n",
       "            background-color:  #056ba7;\n",
       "            color:  #f1f1f1;\n",
       "        }#T_10838948_503f_11eb_85f0_5254004e6921row6_col10,#T_10838948_503f_11eb_85f0_5254004e6921row10_col6{\n",
       "            background-color:  #0d75b3;\n",
       "            color:  #f1f1f1;\n",
       "        }#T_10838948_503f_11eb_85f0_5254004e6921row6_col11,#T_10838948_503f_11eb_85f0_5254004e6921row8_col13,#T_10838948_503f_11eb_85f0_5254004e6921row11_col6,#T_10838948_503f_11eb_85f0_5254004e6921row13_col8{\n",
       "            background-color:  #4496c3;\n",
       "            color:  #000000;\n",
       "        }#T_10838948_503f_11eb_85f0_5254004e6921row6_col12,#T_10838948_503f_11eb_85f0_5254004e6921row12_col6{\n",
       "            background-color:  #7eadd1;\n",
       "            color:  #000000;\n",
       "        }#T_10838948_503f_11eb_85f0_5254004e6921row6_col13,#T_10838948_503f_11eb_85f0_5254004e6921row7_col9,#T_10838948_503f_11eb_85f0_5254004e6921row9_col7,#T_10838948_503f_11eb_85f0_5254004e6921row13_col6{\n",
       "            background-color:  #549cc7;\n",
       "            color:  #000000;\n",
       "        }#T_10838948_503f_11eb_85f0_5254004e6921row6_col16,#T_10838948_503f_11eb_85f0_5254004e6921row16_col6{\n",
       "            background-color:  #04629a;\n",
       "            color:  #f1f1f1;\n",
       "        }#T_10838948_503f_11eb_85f0_5254004e6921row7_col8,#T_10838948_503f_11eb_85f0_5254004e6921row8_col7{\n",
       "            background-color:  #4c99c5;\n",
       "            color:  #000000;\n",
       "        }#T_10838948_503f_11eb_85f0_5254004e6921row7_col10,#T_10838948_503f_11eb_85f0_5254004e6921row7_col16,#T_10838948_503f_11eb_85f0_5254004e6921row10_col7,#T_10838948_503f_11eb_85f0_5254004e6921row16_col7{\n",
       "            background-color:  #589ec8;\n",
       "            color:  #000000;\n",
       "        }#T_10838948_503f_11eb_85f0_5254004e6921row7_col11,#T_10838948_503f_11eb_85f0_5254004e6921row11_col7{\n",
       "            background-color:  #0570b0;\n",
       "            color:  #f1f1f1;\n",
       "        }#T_10838948_503f_11eb_85f0_5254004e6921row7_col12,#T_10838948_503f_11eb_85f0_5254004e6921row12_col7{\n",
       "            background-color:  #9fbad9;\n",
       "            color:  #000000;\n",
       "        }#T_10838948_503f_11eb_85f0_5254004e6921row7_col13,#T_10838948_503f_11eb_85f0_5254004e6921row13_col7{\n",
       "            background-color:  #4897c4;\n",
       "            color:  #000000;\n",
       "        }#T_10838948_503f_11eb_85f0_5254004e6921row7_col15,#T_10838948_503f_11eb_85f0_5254004e6921row15_col7{\n",
       "            background-color:  #bbc7e0;\n",
       "            color:  #000000;\n",
       "        }#T_10838948_503f_11eb_85f0_5254004e6921row8_col10,#T_10838948_503f_11eb_85f0_5254004e6921row10_col8{\n",
       "            background-color:  #2c89bd;\n",
       "            color:  #000000;\n",
       "        }#T_10838948_503f_11eb_85f0_5254004e6921row8_col11,#T_10838948_503f_11eb_85f0_5254004e6921row11_col8{\n",
       "            background-color:  #4295c3;\n",
       "            color:  #000000;\n",
       "        }#T_10838948_503f_11eb_85f0_5254004e6921row8_col12,#T_10838948_503f_11eb_85f0_5254004e6921row12_col8{\n",
       "            background-color:  #73a9cf;\n",
       "            color:  #000000;\n",
       "        }#T_10838948_503f_11eb_85f0_5254004e6921row8_col15,#T_10838948_503f_11eb_85f0_5254004e6921row10_col15,#T_10838948_503f_11eb_85f0_5254004e6921row15_col8,#T_10838948_503f_11eb_85f0_5254004e6921row15_col10{\n",
       "            background-color:  #d0d1e6;\n",
       "            color:  #000000;\n",
       "        }#T_10838948_503f_11eb_85f0_5254004e6921row8_col16,#T_10838948_503f_11eb_85f0_5254004e6921row16_col8{\n",
       "            background-color:  #046096;\n",
       "            color:  #f1f1f1;\n",
       "        }#T_10838948_503f_11eb_85f0_5254004e6921row9_col10,#T_10838948_503f_11eb_85f0_5254004e6921row10_col9{\n",
       "            background-color:  #71a8ce;\n",
       "            color:  #000000;\n",
       "        }#T_10838948_503f_11eb_85f0_5254004e6921row9_col11,#T_10838948_503f_11eb_85f0_5254004e6921row11_col9,#T_10838948_503f_11eb_85f0_5254004e6921row13_col16,#T_10838948_503f_11eb_85f0_5254004e6921row16_col13{\n",
       "            background-color:  #1b7eb7;\n",
       "            color:  #000000;\n",
       "        }#T_10838948_503f_11eb_85f0_5254004e6921row9_col14,#T_10838948_503f_11eb_85f0_5254004e6921row14_col9{\n",
       "            background-color:  #d5d5e8;\n",
       "            color:  #000000;\n",
       "        }#T_10838948_503f_11eb_85f0_5254004e6921row9_col16,#T_10838948_503f_11eb_85f0_5254004e6921row16_col9{\n",
       "            background-color:  #63a2cb;\n",
       "            color:  #000000;\n",
       "        }#T_10838948_503f_11eb_85f0_5254004e6921row10_col14,#T_10838948_503f_11eb_85f0_5254004e6921row14_col10{\n",
       "            background-color:  #97b7d7;\n",
       "            color:  #000000;\n",
       "        }#T_10838948_503f_11eb_85f0_5254004e6921row10_col16,#T_10838948_503f_11eb_85f0_5254004e6921row16_col10{\n",
       "            background-color:  #056dab;\n",
       "            color:  #f1f1f1;\n",
       "        }#T_10838948_503f_11eb_85f0_5254004e6921row11_col13,#T_10838948_503f_11eb_85f0_5254004e6921row13_col11{\n",
       "            background-color:  #78abd0;\n",
       "            color:  #000000;\n",
       "        }#T_10838948_503f_11eb_85f0_5254004e6921row11_col14,#T_10838948_503f_11eb_85f0_5254004e6921row14_col11{\n",
       "            background-color:  #c8cde4;\n",
       "            color:  #000000;\n",
       "        }#T_10838948_503f_11eb_85f0_5254004e6921row11_col16,#T_10838948_503f_11eb_85f0_5254004e6921row16_col11{\n",
       "            background-color:  #3b92c1;\n",
       "            color:  #000000;\n",
       "        }#T_10838948_503f_11eb_85f0_5254004e6921row12_col13,#T_10838948_503f_11eb_85f0_5254004e6921row13_col12{\n",
       "            background-color:  #3d93c2;\n",
       "            color:  #000000;\n",
       "        }#T_10838948_503f_11eb_85f0_5254004e6921row12_col16,#T_10838948_503f_11eb_85f0_5254004e6921row16_col12{\n",
       "            background-color:  #4a98c5;\n",
       "            color:  #000000;\n",
       "        }#T_10838948_503f_11eb_85f0_5254004e6921row14_col15,#T_10838948_503f_11eb_85f0_5254004e6921row15_col14{\n",
       "            background-color:  #4697c4;\n",
       "            color:  #000000;\n",
       "        }</style><table id=\"T_10838948_503f_11eb_85f0_5254004e6921\" ><thead>    <tr>        <th class=\"blank level0\" ></th>        <th class=\"col_heading level0 col0\" >Rt</th>        <th class=\"col_heading level0 col1\" >theta</th>        <th class=\"col_heading level0 col2\" >kappa</th>        <th class=\"col_heading level0 col3\" >rho</th>        <th class=\"col_heading level0 col4\" >sigma</th>        <th class=\"col_heading level0 col5\" >School_closing</th>        <th class=\"col_heading level0 col6\" >Workplace_closing</th>        <th class=\"col_heading level0 col7\" >Cancel_events</th>        <th class=\"col_heading level0 col8\" >Gatherings_restrictions</th>        <th class=\"col_heading level0 col9\" >Transport_closing</th>        <th class=\"col_heading level0 col10\" >Stay_home_restrictions</th>        <th class=\"col_heading level0 col11\" >Internal_movement_restrictions</th>        <th class=\"col_heading level0 col12\" >International_movement_restrictions</th>        <th class=\"col_heading level0 col13\" >Information_campaigns</th>        <th class=\"col_heading level0 col14\" >Testing_policy</th>        <th class=\"col_heading level0 col15\" >Contact_tracing</th>        <th class=\"col_heading level0 col16\" >Stringency_index</th>    </tr></thead><tbody>\n",
       "                <tr>\n",
       "                        <th id=\"T_10838948_503f_11eb_85f0_5254004e6921level0_row0\" class=\"row_heading level0 row0\" >Rt</th>\n",
       "                        <td id=\"T_10838948_503f_11eb_85f0_5254004e6921row0_col0\" class=\"data row0 col0\" >1.000000</td>\n",
       "                        <td id=\"T_10838948_503f_11eb_85f0_5254004e6921row0_col1\" class=\"data row0 col1\" >-0.108170</td>\n",
       "                        <td id=\"T_10838948_503f_11eb_85f0_5254004e6921row0_col2\" class=\"data row0 col2\" >-0.057217</td>\n",
       "                        <td id=\"T_10838948_503f_11eb_85f0_5254004e6921row0_col3\" class=\"data row0 col3\" >0.666508</td>\n",
       "                        <td id=\"T_10838948_503f_11eb_85f0_5254004e6921row0_col4\" class=\"data row0 col4\" >-0.448031</td>\n",
       "                        <td id=\"T_10838948_503f_11eb_85f0_5254004e6921row0_col5\" class=\"data row0 col5\" >-0.212114</td>\n",
       "                        <td id=\"T_10838948_503f_11eb_85f0_5254004e6921row0_col6\" class=\"data row0 col6\" >-0.176168</td>\n",
       "                        <td id=\"T_10838948_503f_11eb_85f0_5254004e6921row0_col7\" class=\"data row0 col7\" >-0.169703</td>\n",
       "                        <td id=\"T_10838948_503f_11eb_85f0_5254004e6921row0_col8\" class=\"data row0 col8\" >-0.254545</td>\n",
       "                        <td id=\"T_10838948_503f_11eb_85f0_5254004e6921row0_col9\" class=\"data row0 col9\" >-0.162913</td>\n",
       "                        <td id=\"T_10838948_503f_11eb_85f0_5254004e6921row0_col10\" class=\"data row0 col10\" >-0.161261</td>\n",
       "                        <td id=\"T_10838948_503f_11eb_85f0_5254004e6921row0_col11\" class=\"data row0 col11\" >-0.176203</td>\n",
       "                        <td id=\"T_10838948_503f_11eb_85f0_5254004e6921row0_col12\" class=\"data row0 col12\" >-0.349981</td>\n",
       "                        <td id=\"T_10838948_503f_11eb_85f0_5254004e6921row0_col13\" class=\"data row0 col13\" >-0.120446</td>\n",
       "                        <td id=\"T_10838948_503f_11eb_85f0_5254004e6921row0_col14\" class=\"data row0 col14\" >-0.283104</td>\n",
       "                        <td id=\"T_10838948_503f_11eb_85f0_5254004e6921row0_col15\" class=\"data row0 col15\" >-0.199128</td>\n",
       "                        <td id=\"T_10838948_503f_11eb_85f0_5254004e6921row0_col16\" class=\"data row0 col16\" >-0.237402</td>\n",
       "            </tr>\n",
       "            <tr>\n",
       "                        <th id=\"T_10838948_503f_11eb_85f0_5254004e6921level0_row1\" class=\"row_heading level0 row1\" >theta</th>\n",
       "                        <td id=\"T_10838948_503f_11eb_85f0_5254004e6921row1_col0\" class=\"data row1 col0\" >-0.108170</td>\n",
       "                        <td id=\"T_10838948_503f_11eb_85f0_5254004e6921row1_col1\" class=\"data row1 col1\" >1.000000</td>\n",
       "                        <td id=\"T_10838948_503f_11eb_85f0_5254004e6921row1_col2\" class=\"data row1 col2\" >0.527870</td>\n",
       "                        <td id=\"T_10838948_503f_11eb_85f0_5254004e6921row1_col3\" class=\"data row1 col3\" >-0.170178</td>\n",
       "                        <td id=\"T_10838948_503f_11eb_85f0_5254004e6921row1_col4\" class=\"data row1 col4\" >-0.231482</td>\n",
       "                        <td id=\"T_10838948_503f_11eb_85f0_5254004e6921row1_col5\" class=\"data row1 col5\" >0.164182</td>\n",
       "                        <td id=\"T_10838948_503f_11eb_85f0_5254004e6921row1_col6\" class=\"data row1 col6\" >-0.087189</td>\n",
       "                        <td id=\"T_10838948_503f_11eb_85f0_5254004e6921row1_col7\" class=\"data row1 col7\" >-0.008172</td>\n",
       "                        <td id=\"T_10838948_503f_11eb_85f0_5254004e6921row1_col8\" class=\"data row1 col8\" >-0.143285</td>\n",
       "                        <td id=\"T_10838948_503f_11eb_85f0_5254004e6921row1_col9\" class=\"data row1 col9\" >0.220203</td>\n",
       "                        <td id=\"T_10838948_503f_11eb_85f0_5254004e6921row1_col10\" class=\"data row1 col10\" >-0.056092</td>\n",
       "                        <td id=\"T_10838948_503f_11eb_85f0_5254004e6921row1_col11\" class=\"data row1 col11\" >0.097505</td>\n",
       "                        <td id=\"T_10838948_503f_11eb_85f0_5254004e6921row1_col12\" class=\"data row1 col12\" >-0.147501</td>\n",
       "                        <td id=\"T_10838948_503f_11eb_85f0_5254004e6921row1_col13\" class=\"data row1 col13\" >-0.110974</td>\n",
       "                        <td id=\"T_10838948_503f_11eb_85f0_5254004e6921row1_col14\" class=\"data row1 col14\" >-0.170910</td>\n",
       "                        <td id=\"T_10838948_503f_11eb_85f0_5254004e6921row1_col15\" class=\"data row1 col15\" >0.126570</td>\n",
       "                        <td id=\"T_10838948_503f_11eb_85f0_5254004e6921row1_col16\" class=\"data row1 col16\" >-0.110109</td>\n",
       "            </tr>\n",
       "            <tr>\n",
       "                        <th id=\"T_10838948_503f_11eb_85f0_5254004e6921level0_row2\" class=\"row_heading level0 row2\" >kappa</th>\n",
       "                        <td id=\"T_10838948_503f_11eb_85f0_5254004e6921row2_col0\" class=\"data row2 col0\" >-0.057217</td>\n",
       "                        <td id=\"T_10838948_503f_11eb_85f0_5254004e6921row2_col1\" class=\"data row2 col1\" >0.527870</td>\n",
       "                        <td id=\"T_10838948_503f_11eb_85f0_5254004e6921row2_col2\" class=\"data row2 col2\" >1.000000</td>\n",
       "                        <td id=\"T_10838948_503f_11eb_85f0_5254004e6921row2_col3\" class=\"data row2 col3\" >0.184640</td>\n",
       "                        <td id=\"T_10838948_503f_11eb_85f0_5254004e6921row2_col4\" class=\"data row2 col4\" >-0.152058</td>\n",
       "                        <td id=\"T_10838948_503f_11eb_85f0_5254004e6921row2_col5\" class=\"data row2 col5\" >-0.146842</td>\n",
       "                        <td id=\"T_10838948_503f_11eb_85f0_5254004e6921row2_col6\" class=\"data row2 col6\" >-0.280571</td>\n",
       "                        <td id=\"T_10838948_503f_11eb_85f0_5254004e6921row2_col7\" class=\"data row2 col7\" >-0.099795</td>\n",
       "                        <td id=\"T_10838948_503f_11eb_85f0_5254004e6921row2_col8\" class=\"data row2 col8\" >-0.195927</td>\n",
       "                        <td id=\"T_10838948_503f_11eb_85f0_5254004e6921row2_col9\" class=\"data row2 col9\" >-0.087982</td>\n",
       "                        <td id=\"T_10838948_503f_11eb_85f0_5254004e6921row2_col10\" class=\"data row2 col10\" >-0.203594</td>\n",
       "                        <td id=\"T_10838948_503f_11eb_85f0_5254004e6921row2_col11\" class=\"data row2 col11\" >-0.202926</td>\n",
       "                        <td id=\"T_10838948_503f_11eb_85f0_5254004e6921row2_col12\" class=\"data row2 col12\" >-0.187411</td>\n",
       "                        <td id=\"T_10838948_503f_11eb_85f0_5254004e6921row2_col13\" class=\"data row2 col13\" >-0.292322</td>\n",
       "                        <td id=\"T_10838948_503f_11eb_85f0_5254004e6921row2_col14\" class=\"data row2 col14\" >-0.233397</td>\n",
       "                        <td id=\"T_10838948_503f_11eb_85f0_5254004e6921row2_col15\" class=\"data row2 col15\" >0.024527</td>\n",
       "                        <td id=\"T_10838948_503f_11eb_85f0_5254004e6921row2_col16\" class=\"data row2 col16\" >-0.242479</td>\n",
       "            </tr>\n",
       "            <tr>\n",
       "                        <th id=\"T_10838948_503f_11eb_85f0_5254004e6921level0_row3\" class=\"row_heading level0 row3\" >rho</th>\n",
       "                        <td id=\"T_10838948_503f_11eb_85f0_5254004e6921row3_col0\" class=\"data row3 col0\" >0.666508</td>\n",
       "                        <td id=\"T_10838948_503f_11eb_85f0_5254004e6921row3_col1\" class=\"data row3 col1\" >-0.170178</td>\n",
       "                        <td id=\"T_10838948_503f_11eb_85f0_5254004e6921row3_col2\" class=\"data row3 col2\" >0.184640</td>\n",
       "                        <td id=\"T_10838948_503f_11eb_85f0_5254004e6921row3_col3\" class=\"data row3 col3\" >1.000000</td>\n",
       "                        <td id=\"T_10838948_503f_11eb_85f0_5254004e6921row3_col4\" class=\"data row3 col4\" >-0.270309</td>\n",
       "                        <td id=\"T_10838948_503f_11eb_85f0_5254004e6921row3_col5\" class=\"data row3 col5\" >-0.269813</td>\n",
       "                        <td id=\"T_10838948_503f_11eb_85f0_5254004e6921row3_col6\" class=\"data row3 col6\" >-0.266028</td>\n",
       "                        <td id=\"T_10838948_503f_11eb_85f0_5254004e6921row3_col7\" class=\"data row3 col7\" >-0.274641</td>\n",
       "                        <td id=\"T_10838948_503f_11eb_85f0_5254004e6921row3_col8\" class=\"data row3 col8\" >-0.299740</td>\n",
       "                        <td id=\"T_10838948_503f_11eb_85f0_5254004e6921row3_col9\" class=\"data row3 col9\" >-0.238344</td>\n",
       "                        <td id=\"T_10838948_503f_11eb_85f0_5254004e6921row3_col10\" class=\"data row3 col10\" >-0.251349</td>\n",
       "                        <td id=\"T_10838948_503f_11eb_85f0_5254004e6921row3_col11\" class=\"data row3 col11\" >-0.286228</td>\n",
       "                        <td id=\"T_10838948_503f_11eb_85f0_5254004e6921row3_col12\" class=\"data row3 col12\" >-0.367239</td>\n",
       "                        <td id=\"T_10838948_503f_11eb_85f0_5254004e6921row3_col13\" class=\"data row3 col13\" >-0.155194</td>\n",
       "                        <td id=\"T_10838948_503f_11eb_85f0_5254004e6921row3_col14\" class=\"data row3 col14\" >-0.285882</td>\n",
       "                        <td id=\"T_10838948_503f_11eb_85f0_5254004e6921row3_col15\" class=\"data row3 col15\" >-0.164055</td>\n",
       "                        <td id=\"T_10838948_503f_11eb_85f0_5254004e6921row3_col16\" class=\"data row3 col16\" >-0.228117</td>\n",
       "            </tr>\n",
       "            <tr>\n",
       "                        <th id=\"T_10838948_503f_11eb_85f0_5254004e6921level0_row4\" class=\"row_heading level0 row4\" >sigma</th>\n",
       "                        <td id=\"T_10838948_503f_11eb_85f0_5254004e6921row4_col0\" class=\"data row4 col0\" >-0.448031</td>\n",
       "                        <td id=\"T_10838948_503f_11eb_85f0_5254004e6921row4_col1\" class=\"data row4 col1\" >-0.231482</td>\n",
       "                        <td id=\"T_10838948_503f_11eb_85f0_5254004e6921row4_col2\" class=\"data row4 col2\" >-0.152058</td>\n",
       "                        <td id=\"T_10838948_503f_11eb_85f0_5254004e6921row4_col3\" class=\"data row4 col3\" >-0.270309</td>\n",
       "                        <td id=\"T_10838948_503f_11eb_85f0_5254004e6921row4_col4\" class=\"data row4 col4\" >1.000000</td>\n",
       "                        <td id=\"T_10838948_503f_11eb_85f0_5254004e6921row4_col5\" class=\"data row4 col5\" >0.195972</td>\n",
       "                        <td id=\"T_10838948_503f_11eb_85f0_5254004e6921row4_col6\" class=\"data row4 col6\" >0.109453</td>\n",
       "                        <td id=\"T_10838948_503f_11eb_85f0_5254004e6921row4_col7\" class=\"data row4 col7\" >0.152006</td>\n",
       "                        <td id=\"T_10838948_503f_11eb_85f0_5254004e6921row4_col8\" class=\"data row4 col8\" >0.290145</td>\n",
       "                        <td id=\"T_10838948_503f_11eb_85f0_5254004e6921row4_col9\" class=\"data row4 col9\" >-0.008506</td>\n",
       "                        <td id=\"T_10838948_503f_11eb_85f0_5254004e6921row4_col10\" class=\"data row4 col10\" >-0.030517</td>\n",
       "                        <td id=\"T_10838948_503f_11eb_85f0_5254004e6921row4_col11\" class=\"data row4 col11\" >0.010898</td>\n",
       "                        <td id=\"T_10838948_503f_11eb_85f0_5254004e6921row4_col12\" class=\"data row4 col12\" >0.210493</td>\n",
       "                        <td id=\"T_10838948_503f_11eb_85f0_5254004e6921row4_col13\" class=\"data row4 col13\" >0.226493</td>\n",
       "                        <td id=\"T_10838948_503f_11eb_85f0_5254004e6921row4_col14\" class=\"data row4 col14\" >0.201623</td>\n",
       "                        <td id=\"T_10838948_503f_11eb_85f0_5254004e6921row4_col15\" class=\"data row4 col15\" >0.068088</td>\n",
       "                        <td id=\"T_10838948_503f_11eb_85f0_5254004e6921row4_col16\" class=\"data row4 col16\" >0.188075</td>\n",
       "            </tr>\n",
       "            <tr>\n",
       "                        <th id=\"T_10838948_503f_11eb_85f0_5254004e6921level0_row5\" class=\"row_heading level0 row5\" >School_closing</th>\n",
       "                        <td id=\"T_10838948_503f_11eb_85f0_5254004e6921row5_col0\" class=\"data row5 col0\" >-0.212114</td>\n",
       "                        <td id=\"T_10838948_503f_11eb_85f0_5254004e6921row5_col1\" class=\"data row5 col1\" >0.164182</td>\n",
       "                        <td id=\"T_10838948_503f_11eb_85f0_5254004e6921row5_col2\" class=\"data row5 col2\" >-0.146842</td>\n",
       "                        <td id=\"T_10838948_503f_11eb_85f0_5254004e6921row5_col3\" class=\"data row5 col3\" >-0.269813</td>\n",
       "                        <td id=\"T_10838948_503f_11eb_85f0_5254004e6921row5_col4\" class=\"data row5 col4\" >0.195972</td>\n",
       "                        <td id=\"T_10838948_503f_11eb_85f0_5254004e6921row5_col5\" class=\"data row5 col5\" >1.000000</td>\n",
       "                        <td id=\"T_10838948_503f_11eb_85f0_5254004e6921row5_col6\" class=\"data row5 col6\" >0.428997</td>\n",
       "                        <td id=\"T_10838948_503f_11eb_85f0_5254004e6921row5_col7\" class=\"data row5 col7\" >0.125867</td>\n",
       "                        <td id=\"T_10838948_503f_11eb_85f0_5254004e6921row5_col8\" class=\"data row5 col8\" >0.183555</td>\n",
       "                        <td id=\"T_10838948_503f_11eb_85f0_5254004e6921row5_col9\" class=\"data row5 col9\" >0.065361</td>\n",
       "                        <td id=\"T_10838948_503f_11eb_85f0_5254004e6921row5_col10\" class=\"data row5 col10\" >0.376111</td>\n",
       "                        <td id=\"T_10838948_503f_11eb_85f0_5254004e6921row5_col11\" class=\"data row5 col11\" >0.234156</td>\n",
       "                        <td id=\"T_10838948_503f_11eb_85f0_5254004e6921row5_col12\" class=\"data row5 col12\" >0.251461</td>\n",
       "                        <td id=\"T_10838948_503f_11eb_85f0_5254004e6921row5_col13\" class=\"data row5 col13\" >0.327329</td>\n",
       "                        <td id=\"T_10838948_503f_11eb_85f0_5254004e6921row5_col14\" class=\"data row5 col14\" >0.159921</td>\n",
       "                        <td id=\"T_10838948_503f_11eb_85f0_5254004e6921row5_col15\" class=\"data row5 col15\" >0.097783</td>\n",
       "                        <td id=\"T_10838948_503f_11eb_85f0_5254004e6921row5_col16\" class=\"data row5 col16\" >0.477666</td>\n",
       "            </tr>\n",
       "            <tr>\n",
       "                        <th id=\"T_10838948_503f_11eb_85f0_5254004e6921level0_row6\" class=\"row_heading level0 row6\" >Workplace_closing</th>\n",
       "                        <td id=\"T_10838948_503f_11eb_85f0_5254004e6921row6_col0\" class=\"data row6 col0\" >-0.176168</td>\n",
       "                        <td id=\"T_10838948_503f_11eb_85f0_5254004e6921row6_col1\" class=\"data row6 col1\" >-0.087189</td>\n",
       "                        <td id=\"T_10838948_503f_11eb_85f0_5254004e6921row6_col2\" class=\"data row6 col2\" >-0.280571</td>\n",
       "                        <td id=\"T_10838948_503f_11eb_85f0_5254004e6921row6_col3\" class=\"data row6 col3\" >-0.266028</td>\n",
       "                        <td id=\"T_10838948_503f_11eb_85f0_5254004e6921row6_col4\" class=\"data row6 col4\" >0.109453</td>\n",
       "                        <td id=\"T_10838948_503f_11eb_85f0_5254004e6921row6_col5\" class=\"data row6 col5\" >0.428997</td>\n",
       "                        <td id=\"T_10838948_503f_11eb_85f0_5254004e6921row6_col6\" class=\"data row6 col6\" >1.000000</td>\n",
       "                        <td id=\"T_10838948_503f_11eb_85f0_5254004e6921row6_col7\" class=\"data row6 col7\" >0.234883</td>\n",
       "                        <td id=\"T_10838948_503f_11eb_85f0_5254004e6921row6_col8\" class=\"data row6 col8\" >0.681275</td>\n",
       "                        <td id=\"T_10838948_503f_11eb_85f0_5254004e6921row6_col9\" class=\"data row6 col9\" >0.195837</td>\n",
       "                        <td id=\"T_10838948_503f_11eb_85f0_5254004e6921row6_col10\" class=\"data row6 col10\" >0.606320</td>\n",
       "                        <td id=\"T_10838948_503f_11eb_85f0_5254004e6921row6_col11\" class=\"data row6 col11\" >0.411795</td>\n",
       "                        <td id=\"T_10838948_503f_11eb_85f0_5254004e6921row6_col12\" class=\"data row6 col12\" >0.239967</td>\n",
       "                        <td id=\"T_10838948_503f_11eb_85f0_5254004e6921row6_col13\" class=\"data row6 col13\" >0.370187</td>\n",
       "                        <td id=\"T_10838948_503f_11eb_85f0_5254004e6921row6_col14\" class=\"data row6 col14\" >0.183602</td>\n",
       "                        <td id=\"T_10838948_503f_11eb_85f0_5254004e6921row6_col15\" class=\"data row6 col15\" >-0.057511</td>\n",
       "                        <td id=\"T_10838948_503f_11eb_85f0_5254004e6921row6_col16\" class=\"data row6 col16\" >0.749120</td>\n",
       "            </tr>\n",
       "            <tr>\n",
       "                        <th id=\"T_10838948_503f_11eb_85f0_5254004e6921level0_row7\" class=\"row_heading level0 row7\" >Cancel_events</th>\n",
       "                        <td id=\"T_10838948_503f_11eb_85f0_5254004e6921row7_col0\" class=\"data row7 col0\" >-0.169703</td>\n",
       "                        <td id=\"T_10838948_503f_11eb_85f0_5254004e6921row7_col1\" class=\"data row7 col1\" >-0.008172</td>\n",
       "                        <td id=\"T_10838948_503f_11eb_85f0_5254004e6921row7_col2\" class=\"data row7 col2\" >-0.099795</td>\n",
       "                        <td id=\"T_10838948_503f_11eb_85f0_5254004e6921row7_col3\" class=\"data row7 col3\" >-0.274641</td>\n",
       "                        <td id=\"T_10838948_503f_11eb_85f0_5254004e6921row7_col4\" class=\"data row7 col4\" >0.152006</td>\n",
       "                        <td id=\"T_10838948_503f_11eb_85f0_5254004e6921row7_col5\" class=\"data row7 col5\" >0.125867</td>\n",
       "                        <td id=\"T_10838948_503f_11eb_85f0_5254004e6921row7_col6\" class=\"data row7 col6\" >0.234883</td>\n",
       "                        <td id=\"T_10838948_503f_11eb_85f0_5254004e6921row7_col7\" class=\"data row7 col7\" >1.000000</td>\n",
       "                        <td id=\"T_10838948_503f_11eb_85f0_5254004e6921row7_col8\" class=\"data row7 col8\" >0.394168</td>\n",
       "                        <td id=\"T_10838948_503f_11eb_85f0_5254004e6921row7_col9\" class=\"data row7 col9\" >0.368756</td>\n",
       "                        <td id=\"T_10838948_503f_11eb_85f0_5254004e6921row7_col10\" class=\"data row7 col10\" >0.358137</td>\n",
       "                        <td id=\"T_10838948_503f_11eb_85f0_5254004e6921row7_col11\" class=\"data row7 col11\" >0.635673</td>\n",
       "                        <td id=\"T_10838948_503f_11eb_85f0_5254004e6921row7_col12\" class=\"data row7 col12\" >0.122521</td>\n",
       "                        <td id=\"T_10838948_503f_11eb_85f0_5254004e6921row7_col13\" class=\"data row7 col13\" >0.401837</td>\n",
       "                        <td id=\"T_10838948_503f_11eb_85f0_5254004e6921row7_col14\" class=\"data row7 col14\" >-0.034512</td>\n",
       "                        <td id=\"T_10838948_503f_11eb_85f0_5254004e6921row7_col15\" class=\"data row7 col15\" >0.008637</td>\n",
       "                        <td id=\"T_10838948_503f_11eb_85f0_5254004e6921row7_col16\" class=\"data row7 col16\" >0.357909</td>\n",
       "            </tr>\n",
       "            <tr>\n",
       "                        <th id=\"T_10838948_503f_11eb_85f0_5254004e6921level0_row8\" class=\"row_heading level0 row8\" >Gatherings_restrictions</th>\n",
       "                        <td id=\"T_10838948_503f_11eb_85f0_5254004e6921row8_col0\" class=\"data row8 col0\" >-0.254545</td>\n",
       "                        <td id=\"T_10838948_503f_11eb_85f0_5254004e6921row8_col1\" class=\"data row8 col1\" >-0.143285</td>\n",
       "                        <td id=\"T_10838948_503f_11eb_85f0_5254004e6921row8_col2\" class=\"data row8 col2\" >-0.195927</td>\n",
       "                        <td id=\"T_10838948_503f_11eb_85f0_5254004e6921row8_col3\" class=\"data row8 col3\" >-0.299740</td>\n",
       "                        <td id=\"T_10838948_503f_11eb_85f0_5254004e6921row8_col4\" class=\"data row8 col4\" >0.290145</td>\n",
       "                        <td id=\"T_10838948_503f_11eb_85f0_5254004e6921row8_col5\" class=\"data row8 col5\" >0.183555</td>\n",
       "                        <td id=\"T_10838948_503f_11eb_85f0_5254004e6921row8_col6\" class=\"data row8 col6\" >0.681275</td>\n",
       "                        <td id=\"T_10838948_503f_11eb_85f0_5254004e6921row8_col7\" class=\"data row8 col7\" >0.394168</td>\n",
       "                        <td id=\"T_10838948_503f_11eb_85f0_5254004e6921row8_col8\" class=\"data row8 col8\" >1.000000</td>\n",
       "                        <td id=\"T_10838948_503f_11eb_85f0_5254004e6921row8_col9\" class=\"data row8 col9\" >0.231039</td>\n",
       "                        <td id=\"T_10838948_503f_11eb_85f0_5254004e6921row8_col10\" class=\"data row8 col10\" >0.493530</td>\n",
       "                        <td id=\"T_10838948_503f_11eb_85f0_5254004e6921row8_col11\" class=\"data row8 col11\" >0.422399</td>\n",
       "                        <td id=\"T_10838948_503f_11eb_85f0_5254004e6921row8_col12\" class=\"data row8 col12\" >0.280247</td>\n",
       "                        <td id=\"T_10838948_503f_11eb_85f0_5254004e6921row8_col13\" class=\"data row8 col13\" >0.414594</td>\n",
       "                        <td id=\"T_10838948_503f_11eb_85f0_5254004e6921row8_col14\" class=\"data row8 col14\" >0.187878</td>\n",
       "                        <td id=\"T_10838948_503f_11eb_85f0_5254004e6921row8_col15\" class=\"data row8 col15\" >-0.084066</td>\n",
       "                        <td id=\"T_10838948_503f_11eb_85f0_5254004e6921row8_col16\" class=\"data row8 col16\" >0.768752</td>\n",
       "            </tr>\n",
       "            <tr>\n",
       "                        <th id=\"T_10838948_503f_11eb_85f0_5254004e6921level0_row9\" class=\"row_heading level0 row9\" >Transport_closing</th>\n",
       "                        <td id=\"T_10838948_503f_11eb_85f0_5254004e6921row9_col0\" class=\"data row9 col0\" >-0.162913</td>\n",
       "                        <td id=\"T_10838948_503f_11eb_85f0_5254004e6921row9_col1\" class=\"data row9 col1\" >0.220203</td>\n",
       "                        <td id=\"T_10838948_503f_11eb_85f0_5254004e6921row9_col2\" class=\"data row9 col2\" >-0.087982</td>\n",
       "                        <td id=\"T_10838948_503f_11eb_85f0_5254004e6921row9_col3\" class=\"data row9 col3\" >-0.238344</td>\n",
       "                        <td id=\"T_10838948_503f_11eb_85f0_5254004e6921row9_col4\" class=\"data row9 col4\" >-0.008506</td>\n",
       "                        <td id=\"T_10838948_503f_11eb_85f0_5254004e6921row9_col5\" class=\"data row9 col5\" >0.065361</td>\n",
       "                        <td id=\"T_10838948_503f_11eb_85f0_5254004e6921row9_col6\" class=\"data row9 col6\" >0.195837</td>\n",
       "                        <td id=\"T_10838948_503f_11eb_85f0_5254004e6921row9_col7\" class=\"data row9 col7\" >0.368756</td>\n",
       "                        <td id=\"T_10838948_503f_11eb_85f0_5254004e6921row9_col8\" class=\"data row9 col8\" >0.231039</td>\n",
       "                        <td id=\"T_10838948_503f_11eb_85f0_5254004e6921row9_col9\" class=\"data row9 col9\" >1.000000</td>\n",
       "                        <td id=\"T_10838948_503f_11eb_85f0_5254004e6921row9_col10\" class=\"data row9 col10\" >0.286028</td>\n",
       "                        <td id=\"T_10838948_503f_11eb_85f0_5254004e6921row9_col11\" class=\"data row9 col11\" >0.555079</td>\n",
       "                        <td id=\"T_10838948_503f_11eb_85f0_5254004e6921row9_col12\" class=\"data row9 col12\" >-0.088531</td>\n",
       "                        <td id=\"T_10838948_503f_11eb_85f0_5254004e6921row9_col13\" class=\"data row9 col13\" >0.158821</td>\n",
       "                        <td id=\"T_10838948_503f_11eb_85f0_5254004e6921row9_col14\" class=\"data row9 col14\" >-0.116915</td>\n",
       "                        <td id=\"T_10838948_503f_11eb_85f0_5254004e6921row9_col15\" class=\"data row9 col15\" >-0.100197</td>\n",
       "                        <td id=\"T_10838948_503f_11eb_85f0_5254004e6921row9_col16\" class=\"data row9 col16\" >0.323932</td>\n",
       "            </tr>\n",
       "            <tr>\n",
       "                        <th id=\"T_10838948_503f_11eb_85f0_5254004e6921level0_row10\" class=\"row_heading level0 row10\" >Stay_home_restrictions</th>\n",
       "                        <td id=\"T_10838948_503f_11eb_85f0_5254004e6921row10_col0\" class=\"data row10 col0\" >-0.161261</td>\n",
       "                        <td id=\"T_10838948_503f_11eb_85f0_5254004e6921row10_col1\" class=\"data row10 col1\" >-0.056092</td>\n",
       "                        <td id=\"T_10838948_503f_11eb_85f0_5254004e6921row10_col2\" class=\"data row10 col2\" >-0.203594</td>\n",
       "                        <td id=\"T_10838948_503f_11eb_85f0_5254004e6921row10_col3\" class=\"data row10 col3\" >-0.251349</td>\n",
       "                        <td id=\"T_10838948_503f_11eb_85f0_5254004e6921row10_col4\" class=\"data row10 col4\" >-0.030517</td>\n",
       "                        <td id=\"T_10838948_503f_11eb_85f0_5254004e6921row10_col5\" class=\"data row10 col5\" >0.376111</td>\n",
       "                        <td id=\"T_10838948_503f_11eb_85f0_5254004e6921row10_col6\" class=\"data row10 col6\" >0.606320</td>\n",
       "                        <td id=\"T_10838948_503f_11eb_85f0_5254004e6921row10_col7\" class=\"data row10 col7\" >0.358137</td>\n",
       "                        <td id=\"T_10838948_503f_11eb_85f0_5254004e6921row10_col8\" class=\"data row10 col8\" >0.493530</td>\n",
       "                        <td id=\"T_10838948_503f_11eb_85f0_5254004e6921row10_col9\" class=\"data row10 col9\" >0.286028</td>\n",
       "                        <td id=\"T_10838948_503f_11eb_85f0_5254004e6921row10_col10\" class=\"data row10 col10\" >1.000000</td>\n",
       "                        <td id=\"T_10838948_503f_11eb_85f0_5254004e6921row10_col11\" class=\"data row10 col11\" >0.525012</td>\n",
       "                        <td id=\"T_10838948_503f_11eb_85f0_5254004e6921row10_col12\" class=\"data row10 col12\" >0.224306</td>\n",
       "                        <td id=\"T_10838948_503f_11eb_85f0_5254004e6921row10_col13\" class=\"data row10 col13\" >0.331638</td>\n",
       "                        <td id=\"T_10838948_503f_11eb_85f0_5254004e6921row10_col14\" class=\"data row10 col14\" >0.150308</td>\n",
       "                        <td id=\"T_10838948_503f_11eb_85f0_5254004e6921row10_col15\" class=\"data row10 col15\" >-0.084499</td>\n",
       "                        <td id=\"T_10838948_503f_11eb_85f0_5254004e6921row10_col16\" class=\"data row10 col16\" >0.664856</td>\n",
       "            </tr>\n",
       "            <tr>\n",
       "                        <th id=\"T_10838948_503f_11eb_85f0_5254004e6921level0_row11\" class=\"row_heading level0 row11\" >Internal_movement_restrictions</th>\n",
       "                        <td id=\"T_10838948_503f_11eb_85f0_5254004e6921row11_col0\" class=\"data row11 col0\" >-0.176203</td>\n",
       "                        <td id=\"T_10838948_503f_11eb_85f0_5254004e6921row11_col1\" class=\"data row11 col1\" >0.097505</td>\n",
       "                        <td id=\"T_10838948_503f_11eb_85f0_5254004e6921row11_col2\" class=\"data row11 col2\" >-0.202926</td>\n",
       "                        <td id=\"T_10838948_503f_11eb_85f0_5254004e6921row11_col3\" class=\"data row11 col3\" >-0.286228</td>\n",
       "                        <td id=\"T_10838948_503f_11eb_85f0_5254004e6921row11_col4\" class=\"data row11 col4\" >0.010898</td>\n",
       "                        <td id=\"T_10838948_503f_11eb_85f0_5254004e6921row11_col5\" class=\"data row11 col5\" >0.234156</td>\n",
       "                        <td id=\"T_10838948_503f_11eb_85f0_5254004e6921row11_col6\" class=\"data row11 col6\" >0.411795</td>\n",
       "                        <td id=\"T_10838948_503f_11eb_85f0_5254004e6921row11_col7\" class=\"data row11 col7\" >0.635673</td>\n",
       "                        <td id=\"T_10838948_503f_11eb_85f0_5254004e6921row11_col8\" class=\"data row11 col8\" >0.422399</td>\n",
       "                        <td id=\"T_10838948_503f_11eb_85f0_5254004e6921row11_col9\" class=\"data row11 col9\" >0.555079</td>\n",
       "                        <td id=\"T_10838948_503f_11eb_85f0_5254004e6921row11_col10\" class=\"data row11 col10\" >0.525012</td>\n",
       "                        <td id=\"T_10838948_503f_11eb_85f0_5254004e6921row11_col11\" class=\"data row11 col11\" >1.000000</td>\n",
       "                        <td id=\"T_10838948_503f_11eb_85f0_5254004e6921row11_col12\" class=\"data row11 col12\" >-0.057512</td>\n",
       "                        <td id=\"T_10838948_503f_11eb_85f0_5254004e6921row11_col13\" class=\"data row11 col13\" >0.259288</td>\n",
       "                        <td id=\"T_10838948_503f_11eb_85f0_5254004e6921row11_col14\" class=\"data row11 col14\" >-0.047674</td>\n",
       "                        <td id=\"T_10838948_503f_11eb_85f0_5254004e6921row11_col15\" class=\"data row11 col15\" >0.014878</td>\n",
       "                        <td id=\"T_10838948_503f_11eb_85f0_5254004e6921row11_col16\" class=\"data row11 col16\" >0.443636</td>\n",
       "            </tr>\n",
       "            <tr>\n",
       "                        <th id=\"T_10838948_503f_11eb_85f0_5254004e6921level0_row12\" class=\"row_heading level0 row12\" >International_movement_restrictions</th>\n",
       "                        <td id=\"T_10838948_503f_11eb_85f0_5254004e6921row12_col0\" class=\"data row12 col0\" >-0.349981</td>\n",
       "                        <td id=\"T_10838948_503f_11eb_85f0_5254004e6921row12_col1\" class=\"data row12 col1\" >-0.147501</td>\n",
       "                        <td id=\"T_10838948_503f_11eb_85f0_5254004e6921row12_col2\" class=\"data row12 col2\" >-0.187411</td>\n",
       "                        <td id=\"T_10838948_503f_11eb_85f0_5254004e6921row12_col3\" class=\"data row12 col3\" >-0.367239</td>\n",
       "                        <td id=\"T_10838948_503f_11eb_85f0_5254004e6921row12_col4\" class=\"data row12 col4\" >0.210493</td>\n",
       "                        <td id=\"T_10838948_503f_11eb_85f0_5254004e6921row12_col5\" class=\"data row12 col5\" >0.251461</td>\n",
       "                        <td id=\"T_10838948_503f_11eb_85f0_5254004e6921row12_col6\" class=\"data row12 col6\" >0.239967</td>\n",
       "                        <td id=\"T_10838948_503f_11eb_85f0_5254004e6921row12_col7\" class=\"data row12 col7\" >0.122521</td>\n",
       "                        <td id=\"T_10838948_503f_11eb_85f0_5254004e6921row12_col8\" class=\"data row12 col8\" >0.280247</td>\n",
       "                        <td id=\"T_10838948_503f_11eb_85f0_5254004e6921row12_col9\" class=\"data row12 col9\" >-0.088531</td>\n",
       "                        <td id=\"T_10838948_503f_11eb_85f0_5254004e6921row12_col10\" class=\"data row12 col10\" >0.224306</td>\n",
       "                        <td id=\"T_10838948_503f_11eb_85f0_5254004e6921row12_col11\" class=\"data row12 col11\" >-0.057512</td>\n",
       "                        <td id=\"T_10838948_503f_11eb_85f0_5254004e6921row12_col12\" class=\"data row12 col12\" >1.000000</td>\n",
       "                        <td id=\"T_10838948_503f_11eb_85f0_5254004e6921row12_col13\" class=\"data row12 col13\" >0.439523</td>\n",
       "                        <td id=\"T_10838948_503f_11eb_85f0_5254004e6921row12_col14\" class=\"data row12 col14\" >0.476719</td>\n",
       "                        <td id=\"T_10838948_503f_11eb_85f0_5254004e6921row12_col15\" class=\"data row12 col15\" >0.212118</td>\n",
       "                        <td id=\"T_10838948_503f_11eb_85f0_5254004e6921row12_col16\" class=\"data row12 col16\" >0.399737</td>\n",
       "            </tr>\n",
       "            <tr>\n",
       "                        <th id=\"T_10838948_503f_11eb_85f0_5254004e6921level0_row13\" class=\"row_heading level0 row13\" >Information_campaigns</th>\n",
       "                        <td id=\"T_10838948_503f_11eb_85f0_5254004e6921row13_col0\" class=\"data row13 col0\" >-0.120446</td>\n",
       "                        <td id=\"T_10838948_503f_11eb_85f0_5254004e6921row13_col1\" class=\"data row13 col1\" >-0.110974</td>\n",
       "                        <td id=\"T_10838948_503f_11eb_85f0_5254004e6921row13_col2\" class=\"data row13 col2\" >-0.292322</td>\n",
       "                        <td id=\"T_10838948_503f_11eb_85f0_5254004e6921row13_col3\" class=\"data row13 col3\" >-0.155194</td>\n",
       "                        <td id=\"T_10838948_503f_11eb_85f0_5254004e6921row13_col4\" class=\"data row13 col4\" >0.226493</td>\n",
       "                        <td id=\"T_10838948_503f_11eb_85f0_5254004e6921row13_col5\" class=\"data row13 col5\" >0.327329</td>\n",
       "                        <td id=\"T_10838948_503f_11eb_85f0_5254004e6921row13_col6\" class=\"data row13 col6\" >0.370187</td>\n",
       "                        <td id=\"T_10838948_503f_11eb_85f0_5254004e6921row13_col7\" class=\"data row13 col7\" >0.401837</td>\n",
       "                        <td id=\"T_10838948_503f_11eb_85f0_5254004e6921row13_col8\" class=\"data row13 col8\" >0.414594</td>\n",
       "                        <td id=\"T_10838948_503f_11eb_85f0_5254004e6921row13_col9\" class=\"data row13 col9\" >0.158821</td>\n",
       "                        <td id=\"T_10838948_503f_11eb_85f0_5254004e6921row13_col10\" class=\"data row13 col10\" >0.331638</td>\n",
       "                        <td id=\"T_10838948_503f_11eb_85f0_5254004e6921row13_col11\" class=\"data row13 col11\" >0.259288</td>\n",
       "                        <td id=\"T_10838948_503f_11eb_85f0_5254004e6921row13_col12\" class=\"data row13 col12\" >0.439523</td>\n",
       "                        <td id=\"T_10838948_503f_11eb_85f0_5254004e6921row13_col13\" class=\"data row13 col13\" >1.000000</td>\n",
       "                        <td id=\"T_10838948_503f_11eb_85f0_5254004e6921row13_col14\" class=\"data row13 col14\" >0.376413</td>\n",
       "                        <td id=\"T_10838948_503f_11eb_85f0_5254004e6921row13_col15\" class=\"data row13 col15\" >0.202334</td>\n",
       "                        <td id=\"T_10838948_503f_11eb_85f0_5254004e6921row13_col16\" class=\"data row13 col16\" >0.554036</td>\n",
       "            </tr>\n",
       "            <tr>\n",
       "                        <th id=\"T_10838948_503f_11eb_85f0_5254004e6921level0_row14\" class=\"row_heading level0 row14\" >Testing_policy</th>\n",
       "                        <td id=\"T_10838948_503f_11eb_85f0_5254004e6921row14_col0\" class=\"data row14 col0\" >-0.283104</td>\n",
       "                        <td id=\"T_10838948_503f_11eb_85f0_5254004e6921row14_col1\" class=\"data row14 col1\" >-0.170910</td>\n",
       "                        <td id=\"T_10838948_503f_11eb_85f0_5254004e6921row14_col2\" class=\"data row14 col2\" >-0.233397</td>\n",
       "                        <td id=\"T_10838948_503f_11eb_85f0_5254004e6921row14_col3\" class=\"data row14 col3\" >-0.285882</td>\n",
       "                        <td id=\"T_10838948_503f_11eb_85f0_5254004e6921row14_col4\" class=\"data row14 col4\" >0.201623</td>\n",
       "                        <td id=\"T_10838948_503f_11eb_85f0_5254004e6921row14_col5\" class=\"data row14 col5\" >0.159921</td>\n",
       "                        <td id=\"T_10838948_503f_11eb_85f0_5254004e6921row14_col6\" class=\"data row14 col6\" >0.183602</td>\n",
       "                        <td id=\"T_10838948_503f_11eb_85f0_5254004e6921row14_col7\" class=\"data row14 col7\" >-0.034512</td>\n",
       "                        <td id=\"T_10838948_503f_11eb_85f0_5254004e6921row14_col8\" class=\"data row14 col8\" >0.187878</td>\n",
       "                        <td id=\"T_10838948_503f_11eb_85f0_5254004e6921row14_col9\" class=\"data row14 col9\" >-0.116915</td>\n",
       "                        <td id=\"T_10838948_503f_11eb_85f0_5254004e6921row14_col10\" class=\"data row14 col10\" >0.150308</td>\n",
       "                        <td id=\"T_10838948_503f_11eb_85f0_5254004e6921row14_col11\" class=\"data row14 col11\" >-0.047674</td>\n",
       "                        <td id=\"T_10838948_503f_11eb_85f0_5254004e6921row14_col12\" class=\"data row14 col12\" >0.476719</td>\n",
       "                        <td id=\"T_10838948_503f_11eb_85f0_5254004e6921row14_col13\" class=\"data row14 col13\" >0.376413</td>\n",
       "                        <td id=\"T_10838948_503f_11eb_85f0_5254004e6921row14_col14\" class=\"data row14 col14\" >1.000000</td>\n",
       "                        <td id=\"T_10838948_503f_11eb_85f0_5254004e6921row14_col15\" class=\"data row14 col15\" >0.411423</td>\n",
       "                        <td id=\"T_10838948_503f_11eb_85f0_5254004e6921row14_col16\" class=\"data row14 col16\" >0.162288</td>\n",
       "            </tr>\n",
       "            <tr>\n",
       "                        <th id=\"T_10838948_503f_11eb_85f0_5254004e6921level0_row15\" class=\"row_heading level0 row15\" >Contact_tracing</th>\n",
       "                        <td id=\"T_10838948_503f_11eb_85f0_5254004e6921row15_col0\" class=\"data row15 col0\" >-0.199128</td>\n",
       "                        <td id=\"T_10838948_503f_11eb_85f0_5254004e6921row15_col1\" class=\"data row15 col1\" >0.126570</td>\n",
       "                        <td id=\"T_10838948_503f_11eb_85f0_5254004e6921row15_col2\" class=\"data row15 col2\" >0.024527</td>\n",
       "                        <td id=\"T_10838948_503f_11eb_85f0_5254004e6921row15_col3\" class=\"data row15 col3\" >-0.164055</td>\n",
       "                        <td id=\"T_10838948_503f_11eb_85f0_5254004e6921row15_col4\" class=\"data row15 col4\" >0.068088</td>\n",
       "                        <td id=\"T_10838948_503f_11eb_85f0_5254004e6921row15_col5\" class=\"data row15 col5\" >0.097783</td>\n",
       "                        <td id=\"T_10838948_503f_11eb_85f0_5254004e6921row15_col6\" class=\"data row15 col6\" >-0.057511</td>\n",
       "                        <td id=\"T_10838948_503f_11eb_85f0_5254004e6921row15_col7\" class=\"data row15 col7\" >0.008637</td>\n",
       "                        <td id=\"T_10838948_503f_11eb_85f0_5254004e6921row15_col8\" class=\"data row15 col8\" >-0.084066</td>\n",
       "                        <td id=\"T_10838948_503f_11eb_85f0_5254004e6921row15_col9\" class=\"data row15 col9\" >-0.100197</td>\n",
       "                        <td id=\"T_10838948_503f_11eb_85f0_5254004e6921row15_col10\" class=\"data row15 col10\" >-0.084499</td>\n",
       "                        <td id=\"T_10838948_503f_11eb_85f0_5254004e6921row15_col11\" class=\"data row15 col11\" >0.014878</td>\n",
       "                        <td id=\"T_10838948_503f_11eb_85f0_5254004e6921row15_col12\" class=\"data row15 col12\" >0.212118</td>\n",
       "                        <td id=\"T_10838948_503f_11eb_85f0_5254004e6921row15_col13\" class=\"data row15 col13\" >0.202334</td>\n",
       "                        <td id=\"T_10838948_503f_11eb_85f0_5254004e6921row15_col14\" class=\"data row15 col14\" >0.411423</td>\n",
       "                        <td id=\"T_10838948_503f_11eb_85f0_5254004e6921row15_col15\" class=\"data row15 col15\" >1.000000</td>\n",
       "                        <td id=\"T_10838948_503f_11eb_85f0_5254004e6921row15_col16\" class=\"data row15 col16\" >-0.171302</td>\n",
       "            </tr>\n",
       "            <tr>\n",
       "                        <th id=\"T_10838948_503f_11eb_85f0_5254004e6921level0_row16\" class=\"row_heading level0 row16\" >Stringency_index</th>\n",
       "                        <td id=\"T_10838948_503f_11eb_85f0_5254004e6921row16_col0\" class=\"data row16 col0\" >-0.237402</td>\n",
       "                        <td id=\"T_10838948_503f_11eb_85f0_5254004e6921row16_col1\" class=\"data row16 col1\" >-0.110109</td>\n",
       "                        <td id=\"T_10838948_503f_11eb_85f0_5254004e6921row16_col2\" class=\"data row16 col2\" >-0.242479</td>\n",
       "                        <td id=\"T_10838948_503f_11eb_85f0_5254004e6921row16_col3\" class=\"data row16 col3\" >-0.228117</td>\n",
       "                        <td id=\"T_10838948_503f_11eb_85f0_5254004e6921row16_col4\" class=\"data row16 col4\" >0.188075</td>\n",
       "                        <td id=\"T_10838948_503f_11eb_85f0_5254004e6921row16_col5\" class=\"data row16 col5\" >0.477666</td>\n",
       "                        <td id=\"T_10838948_503f_11eb_85f0_5254004e6921row16_col6\" class=\"data row16 col6\" >0.749120</td>\n",
       "                        <td id=\"T_10838948_503f_11eb_85f0_5254004e6921row16_col7\" class=\"data row16 col7\" >0.357909</td>\n",
       "                        <td id=\"T_10838948_503f_11eb_85f0_5254004e6921row16_col8\" class=\"data row16 col8\" >0.768752</td>\n",
       "                        <td id=\"T_10838948_503f_11eb_85f0_5254004e6921row16_col9\" class=\"data row16 col9\" >0.323932</td>\n",
       "                        <td id=\"T_10838948_503f_11eb_85f0_5254004e6921row16_col10\" class=\"data row16 col10\" >0.664856</td>\n",
       "                        <td id=\"T_10838948_503f_11eb_85f0_5254004e6921row16_col11\" class=\"data row16 col11\" >0.443636</td>\n",
       "                        <td id=\"T_10838948_503f_11eb_85f0_5254004e6921row16_col12\" class=\"data row16 col12\" >0.399737</td>\n",
       "                        <td id=\"T_10838948_503f_11eb_85f0_5254004e6921row16_col13\" class=\"data row16 col13\" >0.554036</td>\n",
       "                        <td id=\"T_10838948_503f_11eb_85f0_5254004e6921row16_col14\" class=\"data row16 col14\" >0.162288</td>\n",
       "                        <td id=\"T_10838948_503f_11eb_85f0_5254004e6921row16_col15\" class=\"data row16 col15\" >-0.171302</td>\n",
       "                        <td id=\"T_10838948_503f_11eb_85f0_5254004e6921row16_col16\" class=\"data row16 col16\" >1.000000</td>\n",
       "            </tr>\n",
       "    </tbody></table>"
      ],
      "text/plain": [
       "<pandas.io.formats.style.Styler at 0x7f518da2ccd0>"
      ]
     },
     "execution_count": 21,
     "metadata": {},
     "output_type": "execute_result"
    }
   ],
   "source": [
    "# Correlation\n",
    "df = track_df.copy()\n",
    "df.corr().style.background_gradient(axis=None)"
   ]
  },
  {
   "cell_type": "code",
   "execution_count": 22,
   "metadata": {
    "collapsed": false
   },
   "outputs": [
    {
     "data": {
      "image/png": "[encoded data removed]",
      "text/plain": [
       "<Figure size 432x288 with 1 Axes>"
      ]
     },
     "metadata": {},
     "output_type": "display_data"
    }
   ],
   "source": [
    "# Scatter plot of Stringency index and Rt\n",
    "df = track_df.copy()\n",
    "sns.scatterplot(data=df, x=\"Stringency_index\", y=\"Rt\", hue=\"Country\", legend=\"brief\", marker=\"+\")\n",
    "bbox_to_anchor=(1.02, 0)\n",
    "bbox_loc=\"lower left\"\n",
    "plt.legend(bbox_to_anchor=bbox_to_anchor, loc=bbox_loc, borderaxespad=0)\n",
    "plt.title(\"Relationship of Stringency index and reproduction number\")\n",
    "plt.ylabel(\"Reproduction number\")\n",
    "plt.xlabel(\"Stringency index\")\n",
    "plt.show()"
   ]
  }
 ],
 "metadata": {
  "kernelspec": {
   "display_name": "Python 3.8.2 64-bit ('.venv': venv)",
   "name": "python_defaultSpec_1597669925034"
  },
  "language_info": {
   "codemirror_mode": {
    "name": "ipython",
    "version": 3
   },
   "file_extension": ".py",
   "mimetype": "text/x-python",
   "name": "python",
   "nbconvert_exporter": "python",
   "pygments_lexer": "ipython3",
   "version": "3.8.2-final"
  }
 },
 "nbformat": 4,
 "nbformat_minor": 4
}
