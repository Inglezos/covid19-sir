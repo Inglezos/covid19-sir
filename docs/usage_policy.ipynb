{
 "cells": [
  {
   "cell_type": "markdown",
   "id": "searching-check",
   "metadata": {},
   "source": [
    "# Usage: policy measures\n",
    "Here, we will analyse the relationship of policy measures and parameter values of SIR-derived ODE models. Policy measures are tracked by [Oxford Covid-19 Government Response Tracker (OxCGRT)](https://github.com/OxCGRT/covid-policy-tracker)."
   ]
  },
  {
   "cell_type": "markdown",
   "id": "established-insider",
   "metadata": {},
   "source": [
    "## Preparation"
   ]
  },
  {
   "cell_type": "code",
   "execution_count": 1,
   "id": "biological-sherman",
   "metadata": {
    "collapsed": false
   },
   "outputs": [],
   "source": [
    "# Standard users\n",
    "# !pip install covsirphy\n",
    "# Developers (Note: this notebook is in example directory)\n",
    "import os\n",
    "os.chdir(\"../\")"
   ]
  },
  {
   "cell_type": "code",
   "execution_count": 2,
   "id": "occupational-coral",
   "metadata": {
    "collapsed": false
   },
   "outputs": [],
   "source": [
    "from pprint import pprint"
   ]
  },
  {
   "cell_type": "code",
   "execution_count": 3,
   "id": "northern-marketplace",
   "metadata": {
    "collapsed": false
   },
   "outputs": [
    {
     "data": {
      "text/plain": [
       "'2.15.0'"
      ]
     },
     "execution_count": 3,
     "metadata": {},
     "output_type": "execute_result"
    }
   ],
   "source": [
    "import covsirphy as cs\n",
    "cs.__version__"
   ]
  },
  {
   "cell_type": "code",
   "execution_count": 4,
   "id": "domestic-offset",
   "metadata": {
    "collapsed": false,
    "tags": []
   },
   "outputs": [
    {
     "name": "stdout",
     "output_type": "stream",
     "text": [
      "(Secondary source) Guidotti, E., Ardia, D., (2020), \"COVID-19 Data Hub\", Journal of Open Source Software 5(51):2376, doi: 10.21105/joss.02376.\n"
     ]
    }
   ],
   "source": [
    "# Standard users and developers\n",
    "data_loader = cs.DataLoader(\"input\")\n",
    "# The number of cases (JHU style)\n",
    "jhu_data = data_loader.jhu(verbose=False)\n",
    "# Population in each country\n",
    "population_data = data_loader.population(verbose=False)\n",
    "# Government Response Tracker (OxCGRT)\n",
    "oxcgrt_data = data_loader.oxcgrt(verbose=False)\n",
    "# Description/citation\n",
    "print(oxcgrt_data.citation)"
   ]
  },
  {
   "cell_type": "markdown",
   "id": "compound-genetics",
   "metadata": {},
   "source": [
    "## Class for policy measure analysis\n",
    "We will `PolicyMeasures` class to find relationship of policy measures and parameter values of SIR-derived ODE models."
   ]
  },
  {
   "cell_type": "code",
   "execution_count": 5,
   "id": "deluxe-launch",
   "metadata": {
    "collapsed": false,
    "tags": []
   },
   "outputs": [
    {
     "data": {
      "text/plain": [
       "196"
      ]
     },
     "execution_count": 5,
     "metadata": {},
     "output_type": "execute_result"
    }
   ],
   "source": [
    "# Create analyser with tau value 360 [min] (can be changed)\n",
    "analyser = cs.PolicyMeasures(jhu_data, population_data, oxcgrt_data, tau=360)\n",
    "# The number of registerd countries\n",
    "len(analyser.countries)"
   ]
  },
  {
   "cell_type": "code",
   "execution_count": 6,
   "id": "agreed-boundary",
   "metadata": {
    "collapsed": false
   },
   "outputs": [
    {
     "data": {
      "text/plain": [
       "covsirphy.analysis.scenario.Scenario"
      ]
     },
     "execution_count": 6,
     "metadata": {},
     "output_type": "execute_result"
    }
   ],
   "source": [
    "# We can get Scenario instance for detailed scenario analysis\n",
    "type(analyser.scenario(\"Japan\"))"
   ]
  },
  {
   "cell_type": "markdown",
   "id": "nasty-tuning",
   "metadata": {},
   "source": [
    "## Set phases with S-R trend analysis\n",
    "We will perform S-R trend analysis to set phases in all countries. Countries which do not have **19th phases** will be un-registered for the next analysis. This number will be adjusted for your analysis."
   ]
  },
  {
   "cell_type": "code",
   "execution_count": 7,
   "id": "heavy-carrier",
   "metadata": {
    "collapsed": false
   },
   "outputs": [
    {
     "name": "stdout",
     "output_type": "stream",
     "text": [
      "{2: ['Holy See'],\n",
      " 3: ['Laos', 'Timor-Leste', 'Fiji', 'Saint Kitts and Nevis'],\n",
      " 4: ['Tanzania', 'Grenada', 'Dominica'],\n",
      " 6: ['Equatorial Guinea', 'Saint Vincent and the Grenadines'],\n",
      " 7: ['Northern Mariana Islands', 'Brunei'],\n",
      " 8: ['Bahamas', 'Cambodia', 'Kyrgyzstan', 'Seychelles', 'Liechtenstein',\n",
      "     'Mauritius', 'Saint Lucia'],\n",
      " 9: ['Madagascar', 'Ethiopia', 'Republic of the Congo', 'Antigua and Barbuda',\n",
      "     'Australia', 'Guam', 'Botswana', 'Papua New Guinea', 'Uzbekistan',\n",
      "     'Trinidad and Tobago', 'Guyana'],\n",
      " 10: ['Maldives', 'Nicaragua', 'Algeria', 'Venezuela', 'Belize',\n",
      "      'Sao Tome and Principe', 'Bhutan', 'Iceland', 'Iraq', 'Philippines',\n",
      "      'Djibouti', 'Vietnam', 'Kenya', 'Jamaica', 'Barbados', 'Libya', 'India',\n",
      "      'Kazakhstan', 'Oman', 'Zimbabwe', 'Angola'],\n",
      " 11: ['South Africa', 'Paraguay', 'Honduras', 'Chile', 'Peru', 'Costa Rica',\n",
      "      'Saudi Arabia', 'Virgin Islands, U.S.', 'Singapore', 'Bangladesh',\n",
      "      'Ghana', 'Argentina', 'Colombia', 'Bahrain', 'Cape Verde', 'Zambia',\n",
      "      'Kuwait', 'El Salvador', 'Monaco', 'Myanmar', 'Brazil', 'New Zealand',\n",
      "      'Bolivia', 'Dominican Republic', 'Rwanda', 'Benin', 'Burundi',\n",
      "      'Mozambique', 'Mongolia', 'Guatemala', 'Nepal', 'Syria', 'Ecuador'],\n",
      " 12: ['Israel', 'Nigeria', 'Gabon', 'Lesotho', 'Namibia', 'Puerto Rico',\n",
      "      'Malawi', 'Swaziland', 'Pakistan', 'South Sudan', \"Cote d'Ivoire\",\n",
      "      'Liberia', 'Eritrea', 'Montenegro', 'Cameroon', 'Somalia', 'Morocco',\n",
      "      'Mexico', 'Togo', 'Armenia', 'Guinea', 'Sudan', 'Uganda', 'Andorra',\n",
      "      'Taiwan', 'Suriname', 'Egypt', 'Malta', 'Gambia', 'Senegal', 'Yemen'],\n",
      " 13: ['Qatar', 'Bermuda', 'Sierra Leone', 'Bosnia and Herzegovina',\n",
      "      'Guinea-Bissau', 'Panama', 'Niger', 'Ireland', 'Chad',\n",
      "      'Democratic Republic of the Congo', 'Mali', 'San Marino', 'Moldova',\n",
      "      'Kosovo', 'Azerbaijan', 'Palestine', 'Comoros', 'Tajikistan',\n",
      "      'Afghanistan'],\n",
      " 14: ['Indonesia', 'Lithuania', 'Russia', 'Jordan', 'Cuba', 'Tunisia',\n",
      "      'United Arab Emirates', 'Mauritania', 'Lebanon', 'China', 'Bulgaria',\n",
      "      'Central African Republic', 'Sri Lanka', 'Georgia', 'Belarus', 'Japan'],\n",
      " 15: ['Spain', 'Iran', 'Haiti', 'Thailand', 'Burkina Faso', 'United States',\n",
      "      'Greece', 'Serbia', 'Cyprus', 'Slovenia', 'Albania', 'Latvia', 'Poland',\n",
      "      'North Macedonia', 'Hungary'],\n",
      " 16: ['Belgium', 'France', 'Uruguay', 'Ukraine', 'Estonia', 'Croatia',\n",
      "      'Finland', 'Romania', 'Luxembourg'],\n",
      " 17: ['Turkey', 'Slovakia', 'Austria', 'Italy', 'Czech Republic', 'Denmark',\n",
      "      'Netherlands'],\n",
      " 18: ['United Kingdom', 'Malaysia', 'Norway', 'Canada', 'Portugal'],\n",
      " 19: ['Switzerland', 'Sweden'],\n",
      " 20: ['Germany']}\n"
     ]
    }
   ],
   "source": [
    "# Show the number of phases of all countries\n",
    "analyser.trend()\n",
    "pprint(analyser.phase_len(), compact=True)"
   ]
  },
  {
   "cell_type": "code",
   "execution_count": 8,
   "id": "empty-minute",
   "metadata": {
    "collapsed": false
   },
   "outputs": [
    {
     "data": {
      "text/plain": [
       "3"
      ]
     },
     "execution_count": 8,
     "metadata": {},
     "output_type": "execute_result"
    }
   ],
   "source": [
    "# Set phases with S-R trend analysis\n",
    "analyser.trend(min_len=19)\n",
    "# The number of countries\n",
    "len(analyser.countries)"
   ]
  },
  {
   "cell_type": "code",
   "execution_count": 9,
   "id": "deluxe-witness",
   "metadata": {
    "collapsed": false,
    "tags": []
   },
   "outputs": [
    {
     "name": "stdout",
     "output_type": "stream",
     "text": [
      "{19: ['Switzerland', 'Sweden'], 20: ['Germany']}\n"
     ]
    }
   ],
   "source": [
    "phase_len_dict = analyser.phase_len()\n",
    "pprint(phase_len_dict, compact=True)"
   ]
  },
  {
   "cell_type": "code",
   "execution_count": 10,
   "id": "boring-heritage",
   "metadata": {
    "collapsed": false,
    "tags": []
   },
   "outputs": [
    {
     "data": {
      "text/html": [
       "<div>\n",
       "<style scoped>\n",
       "    .dataframe tbody tr th:only-of-type {\n",
       "        vertical-align: middle;\n",
       "    }\n",
       "\n",
       "    .dataframe tbody tr th {\n",
       "        vertical-align: top;\n",
       "    }\n",
       "\n",
       "    .dataframe thead th {\n",
       "        text-align: right;\n",
       "    }\n",
       "</style>\n",
       "<table border=\"1\" class=\"dataframe\">\n",
       "  <thead>\n",
       "    <tr style=\"text-align: right;\">\n",
       "      <th></th>\n",
       "      <th></th>\n",
       "      <th>Type</th>\n",
       "      <th>Start</th>\n",
       "      <th>End</th>\n",
       "      <th>Population</th>\n",
       "    </tr>\n",
       "    <tr>\n",
       "      <th>Country</th>\n",
       "      <th>Phase</th>\n",
       "      <th></th>\n",
       "      <th></th>\n",
       "      <th></th>\n",
       "      <th></th>\n",
       "    </tr>\n",
       "  </thead>\n",
       "  <tbody>\n",
       "    <tr>\n",
       "      <th rowspan=\"20\" valign=\"top\">Germany</th>\n",
       "      <th>0th</th>\n",
       "      <td>Past</td>\n",
       "      <td>18Jan2020</td>\n",
       "      <td>23Mar2020</td>\n",
       "      <td>82905782</td>\n",
       "    </tr>\n",
       "    <tr>\n",
       "      <th>1st</th>\n",
       "      <td>Past</td>\n",
       "      <td>24Mar2020</td>\n",
       "      <td>06Apr2020</td>\n",
       "      <td>82905782</td>\n",
       "    </tr>\n",
       "    <tr>\n",
       "      <th>2nd</th>\n",
       "      <td>Past</td>\n",
       "      <td>07Apr2020</td>\n",
       "      <td>05May2020</td>\n",
       "      <td>82905782</td>\n",
       "    </tr>\n",
       "    <tr>\n",
       "      <th>3rd</th>\n",
       "      <td>Past</td>\n",
       "      <td>06May2020</td>\n",
       "      <td>04Aug2020</td>\n",
       "      <td>82905782</td>\n",
       "    </tr>\n",
       "    <tr>\n",
       "      <th>4th</th>\n",
       "      <td>Past</td>\n",
       "      <td>05Aug2020</td>\n",
       "      <td>12Sep2020</td>\n",
       "      <td>82905782</td>\n",
       "    </tr>\n",
       "    <tr>\n",
       "      <th>5th</th>\n",
       "      <td>Past</td>\n",
       "      <td>13Sep2020</td>\n",
       "      <td>07Oct2020</td>\n",
       "      <td>82905782</td>\n",
       "    </tr>\n",
       "    <tr>\n",
       "      <th>6th</th>\n",
       "      <td>Past</td>\n",
       "      <td>08Oct2020</td>\n",
       "      <td>20Oct2020</td>\n",
       "      <td>82905782</td>\n",
       "    </tr>\n",
       "    <tr>\n",
       "      <th>7th</th>\n",
       "      <td>Past</td>\n",
       "      <td>21Oct2020</td>\n",
       "      <td>27Oct2020</td>\n",
       "      <td>82905782</td>\n",
       "    </tr>\n",
       "    <tr>\n",
       "      <th>8th</th>\n",
       "      <td>Past</td>\n",
       "      <td>28Oct2020</td>\n",
       "      <td>03Nov2020</td>\n",
       "      <td>82905782</td>\n",
       "    </tr>\n",
       "    <tr>\n",
       "      <th>9th</th>\n",
       "      <td>Past</td>\n",
       "      <td>04Nov2020</td>\n",
       "      <td>10Nov2020</td>\n",
       "      <td>82905782</td>\n",
       "    </tr>\n",
       "    <tr>\n",
       "      <th>10th</th>\n",
       "      <td>Past</td>\n",
       "      <td>11Nov2020</td>\n",
       "      <td>17Nov2020</td>\n",
       "      <td>82905782</td>\n",
       "    </tr>\n",
       "    <tr>\n",
       "      <th>11th</th>\n",
       "      <td>Past</td>\n",
       "      <td>18Nov2020</td>\n",
       "      <td>24Nov2020</td>\n",
       "      <td>82905782</td>\n",
       "    </tr>\n",
       "    <tr>\n",
       "      <th>12th</th>\n",
       "      <td>Past</td>\n",
       "      <td>25Nov2020</td>\n",
       "      <td>01Dec2020</td>\n",
       "      <td>82905782</td>\n",
       "    </tr>\n",
       "    <tr>\n",
       "      <th>13th</th>\n",
       "      <td>Past</td>\n",
       "      <td>02Dec2020</td>\n",
       "      <td>08Dec2020</td>\n",
       "      <td>82905782</td>\n",
       "    </tr>\n",
       "    <tr>\n",
       "      <th>14th</th>\n",
       "      <td>Past</td>\n",
       "      <td>09Dec2020</td>\n",
       "      <td>15Dec2020</td>\n",
       "      <td>82905782</td>\n",
       "    </tr>\n",
       "    <tr>\n",
       "      <th>15th</th>\n",
       "      <td>Past</td>\n",
       "      <td>16Dec2020</td>\n",
       "      <td>21Dec2020</td>\n",
       "      <td>82905782</td>\n",
       "    </tr>\n",
       "    <tr>\n",
       "      <th>16th</th>\n",
       "      <td>Past</td>\n",
       "      <td>22Dec2020</td>\n",
       "      <td>28Dec2020</td>\n",
       "      <td>82905782</td>\n",
       "    </tr>\n",
       "    <tr>\n",
       "      <th>17th</th>\n",
       "      <td>Past</td>\n",
       "      <td>29Dec2020</td>\n",
       "      <td>04Jan2021</td>\n",
       "      <td>82905782</td>\n",
       "    </tr>\n",
       "    <tr>\n",
       "      <th>18th</th>\n",
       "      <td>Past</td>\n",
       "      <td>05Jan2021</td>\n",
       "      <td>10Jan2021</td>\n",
       "      <td>82905782</td>\n",
       "    </tr>\n",
       "    <tr>\n",
       "      <th>19th</th>\n",
       "      <td>Past</td>\n",
       "      <td>11Jan2021</td>\n",
       "      <td>17Jan2021</td>\n",
       "      <td>82905782</td>\n",
       "    </tr>\n",
       "  </tbody>\n",
       "</table>\n",
       "</div>"
      ],
      "text/plain": [
       "               Type      Start        End  Population\n",
       "Country Phase                                        \n",
       "Germany 0th    Past  18Jan2020  23Mar2020    82905782\n",
       "        1st    Past  24Mar2020  06Apr2020    82905782\n",
       "        2nd    Past  07Apr2020  05May2020    82905782\n",
       "        3rd    Past  06May2020  04Aug2020    82905782\n",
       "        4th    Past  05Aug2020  12Sep2020    82905782\n",
       "        5th    Past  13Sep2020  07Oct2020    82905782\n",
       "        6th    Past  08Oct2020  20Oct2020    82905782\n",
       "        7th    Past  21Oct2020  27Oct2020    82905782\n",
       "        8th    Past  28Oct2020  03Nov2020    82905782\n",
       "        9th    Past  04Nov2020  10Nov2020    82905782\n",
       "        10th   Past  11Nov2020  17Nov2020    82905782\n",
       "        11th   Past  18Nov2020  24Nov2020    82905782\n",
       "        12th   Past  25Nov2020  01Dec2020    82905782\n",
       "        13th   Past  02Dec2020  08Dec2020    82905782\n",
       "        14th   Past  09Dec2020  15Dec2020    82905782\n",
       "        15th   Past  16Dec2020  21Dec2020    82905782\n",
       "        16th   Past  22Dec2020  28Dec2020    82905782\n",
       "        17th   Past  29Dec2020  04Jan2021    82905782\n",
       "        18th   Past  05Jan2021  10Jan2021    82905782\n",
       "        19th   Past  11Jan2021  17Jan2021    82905782"
      ]
     },
     "execution_count": 10,
     "metadata": {},
     "output_type": "execute_result"
    }
   ],
   "source": [
    "# Here, only show the countries which have the most phases\n",
    "countries_show = max(phase_len_dict.items(), key=lambda x: x[0])[1]\n",
    "# Show summary\n",
    "analyser.summary(countries=countries_show)"
   ]
  },
  {
   "cell_type": "markdown",
   "id": "detailed-geometry",
   "metadata": {},
   "source": [
    "## Parameter estimation\n",
    "we will estimate the parameter values with SIR-derived ODE models in each country."
   ]
  },
  {
   "cell_type": "code",
   "execution_count": 11,
   "id": "derived-witness",
   "metadata": {
    "collapsed": false,
    "tags": []
   },
   "outputs": [
    {
     "name": "stdout",
     "output_type": "stream",
     "text": [
      "\n",
      "<SIR-F model: parameter estimation>\n",
      "Running optimization with 4 CPUs...\n"
     ]
    },
    {
     "name": "stdout",
     "output_type": "stream",
     "text": [
      "\tDEU,  0th phase (18Jan2020 - 23Mar2020): finished  320 trials in 0 min 10 sec"
     ]
    },
    {
     "name": "stdout",
     "output_type": "stream",
     "text": [
      "\n"
     ]
    },
    {
     "name": "stdout",
     "output_type": "stream",
     "text": [
      "\tCHE, 12th phase (01Dec2020 - 07Dec2020): finished  336 trials in 0 min 10 sec"
     ]
    },
    {
     "name": "stdout",
     "output_type": "stream",
     "text": [
      "\n"
     ]
    },
    {
     "name": "stdout",
     "output_type": "stream",
     "text": [
      "\tSWE, 17th phase (04Jan2021 - 09Jan2021): finished  341 trials in 0 min 10 sec"
     ]
    },
    {
     "name": "stdout",
     "output_type": "stream",
     "text": [
      "\n"
     ]
    },
    {
     "name": "stdout",
     "output_type": "stream",
     "text": [
      "\tCHE,  6th phase (15Oct2020 - 20Oct2020): finished  342 trials in 0 min 10 sec"
     ]
    },
    {
     "name": "stdout",
     "output_type": "stream",
     "text": [
      "\n"
     ]
    },
    {
     "name": "stdout",
     "output_type": "stream",
     "text": [
      "\tDEU,  3rd phase (06May2020 - 04Aug2020): finished  317 trials in 0 min 10 sec"
     ]
    },
    {
     "name": "stdout",
     "output_type": "stream",
     "text": [
      "\n"
     ]
    },
    {
     "name": "stdout",
     "output_type": "stream",
     "text": [
      "\tSWE,  0th phase (20Feb2020 - 15Apr2020): finished  336 trials in 0 min 10 sec"
     ]
    },
    {
     "name": "stdout",
     "output_type": "stream",
     "text": [
      "\n"
     ]
    },
    {
     "name": "stdout",
     "output_type": "stream",
     "text": [
      "\tSWE, 14th phase (16Dec2020 - 21Dec2020): finished  345 trials in 0 min 10 sec"
     ]
    },
    {
     "name": "stdout",
     "output_type": "stream",
     "text": [
      "\n"
     ]
    },
    {
     "name": "stdout",
     "output_type": "stream",
     "text": [
      "\tCHE,  1st phase (23Mar2020 - 06Apr2020): finished  337 trials in 0 min 10 sec"
     ]
    },
    {
     "name": "stdout",
     "output_type": "stream",
     "text": [
      "\n"
     ]
    },
    {
     "name": "stdout",
     "output_type": "stream",
     "text": [
      "\tDEU,  7th phase (21Oct2020 - 27Oct2020): finished  346 trials in 0 min 10 sec"
     ]
    },
    {
     "name": "stdout",
     "output_type": "stream",
     "text": [
      "\n"
     ]
    },
    {
     "name": "stdout",
     "output_type": "stream",
     "text": [
      "\tCHE,  7th phase (21Oct2020 - 26Oct2020): finished  344 trials in 0 min 10 sec"
     ]
    },
    {
     "name": "stdout",
     "output_type": "stream",
     "text": [
      "\n"
     ]
    },
    {
     "name": "stdout",
     "output_type": "stream",
     "text": [
      "\tCHE, 11th phase (24Nov2020 - 30Nov2020): finished  345 trials in 0 min 10 sec"
     ]
    },
    {
     "name": "stdout",
     "output_type": "stream",
     "text": [
      "\n"
     ]
    },
    {
     "name": "stdout",
     "output_type": "stream",
     "text": [
      "\tCHE,  8th phase (27Oct2020 - 05Nov2020): finished  342 trials in 0 min 10 sec"
     ]
    },
    {
     "name": "stdout",
     "output_type": "stream",
     "text": [
      "\n"
     ]
    },
    {
     "name": "stdout",
     "output_type": "stream",
     "text": [
      "\tCHE, 10th phase (17Nov2020 - 23Nov2020): finished  345 trials in 0 min 10 sec"
     ]
    },
    {
     "name": "stdout",
     "output_type": "stream",
     "text": [
      "\n"
     ]
    },
    {
     "name": "stdout",
     "output_type": "stream",
     "text": [
      "\tCHE,  5th phase (06Oct2020 - 14Oct2020): finished  342 trials in 0 min 10 sec"
     ]
    },
    {
     "name": "stdout",
     "output_type": "stream",
     "text": [
      "\n"
     ]
    },
    {
     "name": "stdout",
     "output_type": "stream",
     "text": [
      "\tCHE,  0th phase (03Mar2020 - 22Mar2020): finished  338 trials in 0 min 10 sec"
     ]
    },
    {
     "name": "stdout",
     "output_type": "stream",
     "text": [
      "\n"
     ]
    },
    {
     "name": "stdout",
     "output_type": "stream",
     "text": [
      "\tSWE,  5th phase (13Aug2020 - 04Oct2020): finished  328 trials in 0 min 10 sec"
     ]
    },
    {
     "name": "stdout",
     "output_type": "stream",
     "text": [
      "\n"
     ]
    },
    {
     "name": "stdout",
     "output_type": "stream",
     "text": [
      "\tSWE,  3rd phase (08Jun2020 - 24Jun2020): finished  341 trials in 0 min 10 sec"
     ]
    },
    {
     "name": "stdout",
     "output_type": "stream",
     "text": [
      "\n"
     ]
    },
    {
     "name": "stdout",
     "output_type": "stream",
     "text": [
      "\tCHE, 14th phase (14Dec2020 - 20Dec2020): finished  346 trials in 0 min 10 sec"
     ]
    },
    {
     "name": "stdout",
     "output_type": "stream",
     "text": [
      "\n"
     ]
    },
    {
     "name": "stdout",
     "output_type": "stream",
     "text": [
      "\tCHE,  2nd phase (07Apr2020 - 02Aug2020): finished  308 trials in 0 min 10 sec"
     ]
    },
    {
     "name": "stdout",
     "output_type": "stream",
     "text": [
      "\n"
     ]
    },
    {
     "name": "stdout",
     "output_type": "stream",
     "text": [
      "\tDEU,  6th phase (08Oct2020 - 20Oct2020): finished  342 trials in 0 min 10 sec"
     ]
    },
    {
     "name": "stdout",
     "output_type": "stream",
     "text": [
      "\n"
     ]
    },
    {
     "name": "stdout",
     "output_type": "stream",
     "text": [
      "\tDEU,  4th phase (05Aug2020 - 12Sep2020): finished  335 trials in 0 min 10 sec"
     ]
    },
    {
     "name": "stdout",
     "output_type": "stream",
     "text": [
      "\n"
     ]
    },
    {
     "name": "stdout",
     "output_type": "stream",
     "text": [
      "\tDEU, 18th phase (05Jan2021 - 10Jan2021): finished  346 trials in 0 min 10 sec"
     ]
    },
    {
     "name": "stdout",
     "output_type": "stream",
     "text": [
      "\n"
     ]
    },
    {
     "name": "stdout",
     "output_type": "stream",
     "text": [
      "\tDEU,  1st phase (24Mar2020 - 06Apr2020): finished  335 trials in 0 min 10 sec"
     ]
    },
    {
     "name": "stdout",
     "output_type": "stream",
     "text": [
      "\n"
     ]
    },
    {
     "name": "stdout",
     "output_type": "stream",
     "text": [
      "\tSWE, 12th phase (02Dec2020 - 08Dec2020): finished  343 trials in 0 min 10 sec"
     ]
    },
    {
     "name": "stdout",
     "output_type": "stream",
     "text": [
      "\n"
     ]
    },
    {
     "name": "stdout",
     "output_type": "stream",
     "text": [
      "\tSWE,  8th phase (04Nov2020 - 10Nov2020): finished  346 trials in 0 min 10 sec"
     ]
    },
    {
     "name": "stdout",
     "output_type": "stream",
     "text": [
      "\n"
     ]
    },
    {
     "name": "stdout",
     "output_type": "stream",
     "text": [
      "\tDEU,  2nd phase (07Apr2020 - 05May2020): finished  337 trials in 0 min 10 sec"
     ]
    },
    {
     "name": "stdout",
     "output_type": "stream",
     "text": [
      "\n"
     ]
    },
    {
     "name": "stdout",
     "output_type": "stream",
     "text": [
      "\tCHE, 16th phase (28Dec2020 - 02Jan2021): finished  345 trials in 0 min 10 sec"
     ]
    },
    {
     "name": "stdout",
     "output_type": "stream",
     "text": [
      "\n"
     ]
    },
    {
     "name": "stdout",
     "output_type": "stream",
     "text": [
      "\tSWE,  4th phase (25Jun2020 - 12Aug2020): finished  329 trials in 0 min 10 sec"
     ]
    },
    {
     "name": "stdout",
     "output_type": "stream",
     "text": [
      "\n"
     ]
    },
    {
     "name": "stdout",
     "output_type": "stream",
     "text": [
      "\tDEU,  8th phase (28Oct2020 - 03Nov2020): finished  344 trials in 0 min 10 sec"
     ]
    },
    {
     "name": "stdout",
     "output_type": "stream",
     "text": [
      "\n"
     ]
    },
    {
     "name": "stdout",
     "output_type": "stream",
     "text": [
      "\tCHE, 18th phase (10Jan2021 - 17Jan2021): finished  338 trials in 0 min 10 sec"
     ]
    },
    {
     "name": "stdout",
     "output_type": "stream",
     "text": [
      "\n"
     ]
    },
    {
     "name": "stdout",
     "output_type": "stream",
     "text": [
      "\tCHE,  4th phase (08Sep2020 - 05Oct2020): finished  329 trials in 0 min 10 sec"
     ]
    },
    {
     "name": "stdout",
     "output_type": "stream",
     "text": [
      "\n"
     ]
    },
    {
     "name": "stdout",
     "output_type": "stream",
     "text": [
      "\tCHE, 13th phase (08Dec2020 - 13Dec2020): finished  342 trials in 0 min 10 sec"
     ]
    },
    {
     "name": "stdout",
     "output_type": "stream",
     "text": [
      "\n"
     ]
    },
    {
     "name": "stdout",
     "output_type": "stream",
     "text": [
      "\tDEU, 17th phase (29Dec2020 - 04Jan2021): finished  341 trials in 0 min 10 sec"
     ]
    },
    {
     "name": "stdout",
     "output_type": "stream",
     "text": [
      "\n"
     ]
    },
    {
     "name": "stdout",
     "output_type": "stream",
     "text": [
      "\tSWE, 10th phase (18Nov2020 - 24Nov2020): finished  341 trials in 0 min 10 sec"
     ]
    },
    {
     "name": "stdout",
     "output_type": "stream",
     "text": [
      "\n"
     ]
    },
    {
     "name": "stdout",
     "output_type": "stream",
     "text": [
      "\tSWE, 11th phase (25Nov2020 - 01Dec2020): finished  345 trials in 0 min 10 sec"
     ]
    },
    {
     "name": "stdout",
     "output_type": "stream",
     "text": [
      "\n"
     ]
    },
    {
     "name": "stdout",
     "output_type": "stream",
     "text": [
      "\tSWE,  7th phase (27Oct2020 - 03Nov2020): finished  339 trials in 0 min 10 sec"
     ]
    },
    {
     "name": "stdout",
     "output_type": "stream",
     "text": [
      "\n"
     ]
    },
    {
     "name": "stdout",
     "output_type": "stream",
     "text": [
      "\tSWE, 15th phase (22Dec2020 - 28Dec2020): finished  346 trials in 0 min 10 sec"
     ]
    },
    {
     "name": "stdout",
     "output_type": "stream",
     "text": [
      "\n"
     ]
    },
    {
     "name": "stdout",
     "output_type": "stream",
     "text": [
      "\tSWE,  9th phase (11Nov2020 - 17Nov2020): finished  346 trials in 0 min 10 sec"
     ]
    },
    {
     "name": "stdout",
     "output_type": "stream",
     "text": [
      "\n"
     ]
    },
    {
     "name": "stdout",
     "output_type": "stream",
     "text": [
      "\tSWE,  6th phase (05Oct2020 - 26Oct2020): finished  337 trials in 0 min 10 sec"
     ]
    },
    {
     "name": "stdout",
     "output_type": "stream",
     "text": [
      "\n"
     ]
    },
    {
     "name": "stdout",
     "output_type": "stream",
     "text": [
      "\tCHE, 17th phase (03Jan2021 - 09Jan2021): finished  342 trials in 0 min 10 sec"
     ]
    },
    {
     "name": "stdout",
     "output_type": "stream",
     "text": [
      "\n"
     ]
    },
    {
     "name": "stdout",
     "output_type": "stream",
     "text": [
      "\tDEU,  5th phase (13Sep2020 - 07Oct2020): finished  327 trials in 0 min 10 sec"
     ]
    },
    {
     "name": "stdout",
     "output_type": "stream",
     "text": [
      "\n"
     ]
    },
    {
     "name": "stdout",
     "output_type": "stream",
     "text": [
      "\tCHE,  3rd phase (03Aug2020 - 07Sep2020): finished  319 trials in 0 min 10 sec"
     ]
    },
    {
     "name": "stdout",
     "output_type": "stream",
     "text": [
      "\n"
     ]
    },
    {
     "name": "stdout",
     "output_type": "stream",
     "text": [
      "\tSWE,  2nd phase (13May2020 - 07Jun2020): finished  323 trials in 0 min 10 sec"
     ]
    },
    {
     "name": "stdout",
     "output_type": "stream",
     "text": [
      "\n"
     ]
    },
    {
     "name": "stdout",
     "output_type": "stream",
     "text": [
      "\tSWE,  1st phase (16Apr2020 - 12May2020): finished  319 trials in 0 min 10 sec"
     ]
    },
    {
     "name": "stdout",
     "output_type": "stream",
     "text": [
      "\n"
     ]
    },
    {
     "name": "stdout",
     "output_type": "stream",
     "text": [
      "\tDEU, 19th phase (11Jan2021 - 17Jan2021): finished  338 trials in 0 min 10 sec"
     ]
    },
    {
     "name": "stdout",
     "output_type": "stream",
     "text": [
      "\n"
     ]
    },
    {
     "name": "stdout",
     "output_type": "stream",
     "text": [
      "\tSWE, 13th phase (09Dec2020 - 15Dec2020): finished  346 trials in 0 min 10 sec"
     ]
    },
    {
     "name": "stdout",
     "output_type": "stream",
     "text": [
      "\n"
     ]
    },
    {
     "name": "stdout",
     "output_type": "stream",
     "text": [
      "\tSWE, 16th phase (29Dec2020 - 03Jan2021): finished  345 trials in 0 min 10 sec"
     ]
    },
    {
     "name": "stdout",
     "output_type": "stream",
     "text": [
      "\n"
     ]
    },
    {
     "name": "stdout",
     "output_type": "stream",
     "text": [
      "\tCHE, 15th phase (21Dec2020 - 27Dec2020): finished  341 trials in 0 min 10 sec"
     ]
    },
    {
     "name": "stdout",
     "output_type": "stream",
     "text": [
      "\n"
     ]
    },
    {
     "name": "stdout",
     "output_type": "stream",
     "text": [
      "\tCHE,  9th phase (06Nov2020 - 16Nov2020): finished  374 trials in 0 min 10 sec"
     ]
    },
    {
     "name": "stdout",
     "output_type": "stream",
     "text": [
      "\n"
     ]
    },
    {
     "name": "stdout",
     "output_type": "stream",
     "text": [
      "Completed optimization. Total: 2 min 19 sec\n"
     ]
    }
   ],
   "source": [
    "# Parameter estimation with SIR-F model\n",
    "analyser.estimate(cs.SIRF, timeout=10)"
   ]
  },
  {
   "cell_type": "code",
   "execution_count": 12,
   "id": "significant-symphony",
   "metadata": {
    "collapsed": false
   },
   "outputs": [
    {
     "data": {
      "text/html": [
       "<div>\n",
       "<style scoped>\n",
       "    .dataframe tbody tr th:only-of-type {\n",
       "        vertical-align: middle;\n",
       "    }\n",
       "\n",
       "    .dataframe tbody tr th {\n",
       "        vertical-align: top;\n",
       "    }\n",
       "\n",
       "    .dataframe thead th {\n",
       "        text-align: right;\n",
       "    }\n",
       "</style>\n",
       "<table border=\"1\" class=\"dataframe\">\n",
       "  <thead>\n",
       "    <tr style=\"text-align: right;\">\n",
       "      <th></th>\n",
       "      <th></th>\n",
       "      <th>Type</th>\n",
       "      <th>Start</th>\n",
       "      <th>End</th>\n",
       "      <th>Population</th>\n",
       "      <th>ODE</th>\n",
       "      <th>Rt</th>\n",
       "      <th>theta</th>\n",
       "      <th>kappa</th>\n",
       "      <th>rho</th>\n",
       "      <th>sigma</th>\n",
       "      <th>tau</th>\n",
       "      <th>1/beta [day]</th>\n",
       "      <th>alpha1 [-]</th>\n",
       "      <th>1/alpha2 [day]</th>\n",
       "      <th>1/gamma [day]</th>\n",
       "      <th>RMSLE</th>\n",
       "      <th>Trials</th>\n",
       "      <th>Runtime</th>\n",
       "    </tr>\n",
       "    <tr>\n",
       "      <th>Country</th>\n",
       "      <th>Phase</th>\n",
       "      <th></th>\n",
       "      <th></th>\n",
       "      <th></th>\n",
       "      <th></th>\n",
       "      <th></th>\n",
       "      <th></th>\n",
       "      <th></th>\n",
       "      <th></th>\n",
       "      <th></th>\n",
       "      <th></th>\n",
       "      <th></th>\n",
       "      <th></th>\n",
       "      <th></th>\n",
       "      <th></th>\n",
       "      <th></th>\n",
       "      <th></th>\n",
       "      <th></th>\n",
       "      <th></th>\n",
       "    </tr>\n",
       "  </thead>\n",
       "  <tbody>\n",
       "    <tr>\n",
       "      <th rowspan=\"20\" valign=\"top\">Germany</th>\n",
       "      <th>0th</th>\n",
       "      <td>Past</td>\n",
       "      <td>18Jan2020</td>\n",
       "      <td>23Mar2020</td>\n",
       "      <td>82905782</td>\n",
       "      <td>SIR-F</td>\n",
       "      <td>3.15</td>\n",
       "      <td>0.000066</td>\n",
       "      <td>0.000152</td>\n",
       "      <td>0.016824</td>\n",
       "      <td>0.005187</td>\n",
       "      <td>360.0</td>\n",
       "      <td>14.0</td>\n",
       "      <td>0.000</td>\n",
       "      <td>1649.0</td>\n",
       "      <td>48.0</td>\n",
       "      <td>1.486768</td>\n",
       "      <td>320.0</td>\n",
       "      <td>0 min 10 sec</td>\n",
       "    </tr>\n",
       "    <tr>\n",
       "      <th>1st</th>\n",
       "      <td>Past</td>\n",
       "      <td>24Mar2020</td>\n",
       "      <td>06Apr2020</td>\n",
       "      <td>82905782</td>\n",
       "      <td>SIR-F</td>\n",
       "      <td>3.32</td>\n",
       "      <td>0.052979</td>\n",
       "      <td>0.000289</td>\n",
       "      <td>0.022227</td>\n",
       "      <td>0.006042</td>\n",
       "      <td>360.0</td>\n",
       "      <td>11.0</td>\n",
       "      <td>0.053</td>\n",
       "      <td>864.0</td>\n",
       "      <td>41.0</td>\n",
       "      <td>0.170072</td>\n",
       "      <td>335.0</td>\n",
       "      <td>0 min 10 sec</td>\n",
       "    </tr>\n",
       "    <tr>\n",
       "      <th>2nd</th>\n",
       "      <td>Past</td>\n",
       "      <td>07Apr2020</td>\n",
       "      <td>05May2020</td>\n",
       "      <td>82905782</td>\n",
       "      <td>SIR-F</td>\n",
       "      <td>0.51</td>\n",
       "      <td>0.000182</td>\n",
       "      <td>0.000837</td>\n",
       "      <td>0.011075</td>\n",
       "      <td>0.021050</td>\n",
       "      <td>360.0</td>\n",
       "      <td>22.0</td>\n",
       "      <td>0.000</td>\n",
       "      <td>298.0</td>\n",
       "      <td>11.0</td>\n",
       "      <td>0.063893</td>\n",
       "      <td>337.0</td>\n",
       "      <td>0 min 10 sec</td>\n",
       "    </tr>\n",
       "    <tr>\n",
       "      <th>3rd</th>\n",
       "      <td>Past</td>\n",
       "      <td>06May2020</td>\n",
       "      <td>04Aug2020</td>\n",
       "      <td>82905782</td>\n",
       "      <td>SIR-F</td>\n",
       "      <td>0.79</td>\n",
       "      <td>0.000131</td>\n",
       "      <td>0.000168</td>\n",
       "      <td>0.014751</td>\n",
       "      <td>0.018569</td>\n",
       "      <td>360.0</td>\n",
       "      <td>16.0</td>\n",
       "      <td>0.000</td>\n",
       "      <td>1486.0</td>\n",
       "      <td>13.0</td>\n",
       "      <td>0.237954</td>\n",
       "      <td>317.0</td>\n",
       "      <td>0 min 10 sec</td>\n",
       "    </tr>\n",
       "    <tr>\n",
       "      <th>4th</th>\n",
       "      <td>Past</td>\n",
       "      <td>05Aug2020</td>\n",
       "      <td>12Sep2020</td>\n",
       "      <td>82905782</td>\n",
       "      <td>SIR-F</td>\n",
       "      <td>1.39</td>\n",
       "      <td>0.000066</td>\n",
       "      <td>0.000152</td>\n",
       "      <td>0.019316</td>\n",
       "      <td>0.013744</td>\n",
       "      <td>360.0</td>\n",
       "      <td>12.0</td>\n",
       "      <td>0.000</td>\n",
       "      <td>1647.0</td>\n",
       "      <td>18.0</td>\n",
       "      <td>0.071951</td>\n",
       "      <td>335.0</td>\n",
       "      <td>0 min 10 sec</td>\n",
       "    </tr>\n",
       "    <tr>\n",
       "      <th>5th</th>\n",
       "      <td>Past</td>\n",
       "      <td>13Sep2020</td>\n",
       "      <td>07Oct2020</td>\n",
       "      <td>82905782</td>\n",
       "      <td>SIR-F</td>\n",
       "      <td>1.42</td>\n",
       "      <td>0.000130</td>\n",
       "      <td>0.000168</td>\n",
       "      <td>0.020982</td>\n",
       "      <td>0.014593</td>\n",
       "      <td>360.0</td>\n",
       "      <td>11.0</td>\n",
       "      <td>0.000</td>\n",
       "      <td>1486.0</td>\n",
       "      <td>17.0</td>\n",
       "      <td>0.027096</td>\n",
       "      <td>327.0</td>\n",
       "      <td>0 min 10 sec</td>\n",
       "    </tr>\n",
       "    <tr>\n",
       "      <th>6th</th>\n",
       "      <td>Past</td>\n",
       "      <td>08Oct2020</td>\n",
       "      <td>20Oct2020</td>\n",
       "      <td>82905782</td>\n",
       "      <td>SIR-F</td>\n",
       "      <td>2.98</td>\n",
       "      <td>0.000571</td>\n",
       "      <td>0.000426</td>\n",
       "      <td>0.026687</td>\n",
       "      <td>0.008511</td>\n",
       "      <td>360.0</td>\n",
       "      <td>9.0</td>\n",
       "      <td>0.001</td>\n",
       "      <td>586.0</td>\n",
       "      <td>29.0</td>\n",
       "      <td>0.059984</td>\n",
       "      <td>342.0</td>\n",
       "      <td>0 min 10 sec</td>\n",
       "    </tr>\n",
       "    <tr>\n",
       "      <th>7th</th>\n",
       "      <td>Past</td>\n",
       "      <td>21Oct2020</td>\n",
       "      <td>27Oct2020</td>\n",
       "      <td>82905782</td>\n",
       "      <td>SIR-F</td>\n",
       "      <td>2.81</td>\n",
       "      <td>0.002290</td>\n",
       "      <td>0.000381</td>\n",
       "      <td>0.025855</td>\n",
       "      <td>0.008812</td>\n",
       "      <td>360.0</td>\n",
       "      <td>9.0</td>\n",
       "      <td>0.002</td>\n",
       "      <td>655.0</td>\n",
       "      <td>28.0</td>\n",
       "      <td>0.020497</td>\n",
       "      <td>346.0</td>\n",
       "      <td>0 min 10 sec</td>\n",
       "    </tr>\n",
       "    <tr>\n",
       "      <th>8th</th>\n",
       "      <td>Past</td>\n",
       "      <td>28Oct2020</td>\n",
       "      <td>03Nov2020</td>\n",
       "      <td>82905782</td>\n",
       "      <td>SIR-F</td>\n",
       "      <td>2.30</td>\n",
       "      <td>0.000256</td>\n",
       "      <td>0.000257</td>\n",
       "      <td>0.020358</td>\n",
       "      <td>0.008591</td>\n",
       "      <td>360.0</td>\n",
       "      <td>12.0</td>\n",
       "      <td>0.000</td>\n",
       "      <td>974.0</td>\n",
       "      <td>29.0</td>\n",
       "      <td>0.024017</td>\n",
       "      <td>344.0</td>\n",
       "      <td>0 min 10 sec</td>\n",
       "    </tr>\n",
       "    <tr>\n",
       "      <th>9th</th>\n",
       "      <td>Past</td>\n",
       "      <td>04Nov2020</td>\n",
       "      <td>10Nov2020</td>\n",
       "      <td>82905782</td>\n",
       "      <td>-</td>\n",
       "      <td>-</td>\n",
       "      <td>-</td>\n",
       "      <td>-</td>\n",
       "      <td>-</td>\n",
       "      <td>-</td>\n",
       "      <td>-</td>\n",
       "      <td>-</td>\n",
       "      <td>-</td>\n",
       "      <td>-</td>\n",
       "      <td>-</td>\n",
       "      <td>-</td>\n",
       "      <td>-</td>\n",
       "      <td>-</td>\n",
       "    </tr>\n",
       "    <tr>\n",
       "      <th>10th</th>\n",
       "      <td>Past</td>\n",
       "      <td>11Nov2020</td>\n",
       "      <td>17Nov2020</td>\n",
       "      <td>82905782</td>\n",
       "      <td>-</td>\n",
       "      <td>-</td>\n",
       "      <td>-</td>\n",
       "      <td>-</td>\n",
       "      <td>-</td>\n",
       "      <td>-</td>\n",
       "      <td>-</td>\n",
       "      <td>-</td>\n",
       "      <td>-</td>\n",
       "      <td>-</td>\n",
       "      <td>-</td>\n",
       "      <td>-</td>\n",
       "      <td>-</td>\n",
       "      <td>-</td>\n",
       "    </tr>\n",
       "    <tr>\n",
       "      <th>11th</th>\n",
       "      <td>Past</td>\n",
       "      <td>18Nov2020</td>\n",
       "      <td>24Nov2020</td>\n",
       "      <td>82905782</td>\n",
       "      <td>-</td>\n",
       "      <td>-</td>\n",
       "      <td>-</td>\n",
       "      <td>-</td>\n",
       "      <td>-</td>\n",
       "      <td>-</td>\n",
       "      <td>-</td>\n",
       "      <td>-</td>\n",
       "      <td>-</td>\n",
       "      <td>-</td>\n",
       "      <td>-</td>\n",
       "      <td>-</td>\n",
       "      <td>-</td>\n",
       "      <td>-</td>\n",
       "    </tr>\n",
       "    <tr>\n",
       "      <th>12th</th>\n",
       "      <td>Past</td>\n",
       "      <td>25Nov2020</td>\n",
       "      <td>01Dec2020</td>\n",
       "      <td>82905782</td>\n",
       "      <td>-</td>\n",
       "      <td>-</td>\n",
       "      <td>-</td>\n",
       "      <td>-</td>\n",
       "      <td>-</td>\n",
       "      <td>-</td>\n",
       "      <td>-</td>\n",
       "      <td>-</td>\n",
       "      <td>-</td>\n",
       "      <td>-</td>\n",
       "      <td>-</td>\n",
       "      <td>-</td>\n",
       "      <td>-</td>\n",
       "      <td>-</td>\n",
       "    </tr>\n",
       "    <tr>\n",
       "      <th>13th</th>\n",
       "      <td>Past</td>\n",
       "      <td>02Dec2020</td>\n",
       "      <td>08Dec2020</td>\n",
       "      <td>82905782</td>\n",
       "      <td>-</td>\n",
       "      <td>-</td>\n",
       "      <td>-</td>\n",
       "      <td>-</td>\n",
       "      <td>-</td>\n",
       "      <td>-</td>\n",
       "      <td>-</td>\n",
       "      <td>-</td>\n",
       "      <td>-</td>\n",
       "      <td>-</td>\n",
       "      <td>-</td>\n",
       "      <td>-</td>\n",
       "      <td>-</td>\n",
       "      <td>-</td>\n",
       "    </tr>\n",
       "    <tr>\n",
       "      <th>14th</th>\n",
       "      <td>Past</td>\n",
       "      <td>09Dec2020</td>\n",
       "      <td>15Dec2020</td>\n",
       "      <td>82905782</td>\n",
       "      <td>-</td>\n",
       "      <td>-</td>\n",
       "      <td>-</td>\n",
       "      <td>-</td>\n",
       "      <td>-</td>\n",
       "      <td>-</td>\n",
       "      <td>-</td>\n",
       "      <td>-</td>\n",
       "      <td>-</td>\n",
       "      <td>-</td>\n",
       "      <td>-</td>\n",
       "      <td>-</td>\n",
       "      <td>-</td>\n",
       "      <td>-</td>\n",
       "    </tr>\n",
       "    <tr>\n",
       "      <th>15th</th>\n",
       "      <td>Past</td>\n",
       "      <td>16Dec2020</td>\n",
       "      <td>21Dec2020</td>\n",
       "      <td>82905782</td>\n",
       "      <td>-</td>\n",
       "      <td>-</td>\n",
       "      <td>-</td>\n",
       "      <td>-</td>\n",
       "      <td>-</td>\n",
       "      <td>-</td>\n",
       "      <td>-</td>\n",
       "      <td>-</td>\n",
       "      <td>-</td>\n",
       "      <td>-</td>\n",
       "      <td>-</td>\n",
       "      <td>-</td>\n",
       "      <td>-</td>\n",
       "      <td>-</td>\n",
       "    </tr>\n",
       "    <tr>\n",
       "      <th>16th</th>\n",
       "      <td>Past</td>\n",
       "      <td>22Dec2020</td>\n",
       "      <td>28Dec2020</td>\n",
       "      <td>82905782</td>\n",
       "      <td>-</td>\n",
       "      <td>-</td>\n",
       "      <td>-</td>\n",
       "      <td>-</td>\n",
       "      <td>-</td>\n",
       "      <td>-</td>\n",
       "      <td>-</td>\n",
       "      <td>-</td>\n",
       "      <td>-</td>\n",
       "      <td>-</td>\n",
       "      <td>-</td>\n",
       "      <td>-</td>\n",
       "      <td>-</td>\n",
       "      <td>-</td>\n",
       "    </tr>\n",
       "    <tr>\n",
       "      <th>17th</th>\n",
       "      <td>Past</td>\n",
       "      <td>29Dec2020</td>\n",
       "      <td>04Jan2021</td>\n",
       "      <td>82905782</td>\n",
       "      <td>SIR-F</td>\n",
       "      <td>0.57</td>\n",
       "      <td>0.020084</td>\n",
       "      <td>0.000070</td>\n",
       "      <td>0.012320</td>\n",
       "      <td>0.021237</td>\n",
       "      <td>360.0</td>\n",
       "      <td>20.0</td>\n",
       "      <td>0.020</td>\n",
       "      <td>3590.0</td>\n",
       "      <td>11.0</td>\n",
       "      <td>0.031081</td>\n",
       "      <td>341.0</td>\n",
       "      <td>0 min 10 sec</td>\n",
       "    </tr>\n",
       "    <tr>\n",
       "      <th>18th</th>\n",
       "      <td>Past</td>\n",
       "      <td>05Jan2021</td>\n",
       "      <td>10Jan2021</td>\n",
       "      <td>82905782</td>\n",
       "      <td>SIR-F</td>\n",
       "      <td>0.93</td>\n",
       "      <td>0.000124</td>\n",
       "      <td>0.000228</td>\n",
       "      <td>0.019760</td>\n",
       "      <td>0.020944</td>\n",
       "      <td>360.0</td>\n",
       "      <td>12.0</td>\n",
       "      <td>0.000</td>\n",
       "      <td>1094.0</td>\n",
       "      <td>11.0</td>\n",
       "      <td>0.011878</td>\n",
       "      <td>346.0</td>\n",
       "      <td>0 min 10 sec</td>\n",
       "    </tr>\n",
       "    <tr>\n",
       "      <th>19th</th>\n",
       "      <td>Past</td>\n",
       "      <td>11Jan2021</td>\n",
       "      <td>17Jan2021</td>\n",
       "      <td>82905782</td>\n",
       "      <td>SIR-F</td>\n",
       "      <td>0.93</td>\n",
       "      <td>0.000130</td>\n",
       "      <td>0.000168</td>\n",
       "      <td>0.018076</td>\n",
       "      <td>0.019337</td>\n",
       "      <td>360.0</td>\n",
       "      <td>13.0</td>\n",
       "      <td>0.000</td>\n",
       "      <td>1486.0</td>\n",
       "      <td>12.0</td>\n",
       "      <td>0.029486</td>\n",
       "      <td>338.0</td>\n",
       "      <td>0 min 10 sec</td>\n",
       "    </tr>\n",
       "  </tbody>\n",
       "</table>\n",
       "</div>"
      ],
      "text/plain": [
       "               Type      Start        End  Population    ODE    Rt     theta  \\\n",
       "Country Phase                                                                  \n",
       "Germany 0th    Past  18Jan2020  23Mar2020    82905782  SIR-F  3.15  0.000066   \n",
       "        1st    Past  24Mar2020  06Apr2020    82905782  SIR-F  3.32  0.052979   \n",
       "        2nd    Past  07Apr2020  05May2020    82905782  SIR-F  0.51  0.000182   \n",
       "        3rd    Past  06May2020  04Aug2020    82905782  SIR-F  0.79  0.000131   \n",
       "        4th    Past  05Aug2020  12Sep2020    82905782  SIR-F  1.39  0.000066   \n",
       "        5th    Past  13Sep2020  07Oct2020    82905782  SIR-F  1.42  0.000130   \n",
       "        6th    Past  08Oct2020  20Oct2020    82905782  SIR-F  2.98  0.000571   \n",
       "        7th    Past  21Oct2020  27Oct2020    82905782  SIR-F  2.81  0.002290   \n",
       "        8th    Past  28Oct2020  03Nov2020    82905782  SIR-F  2.30  0.000256   \n",
       "        9th    Past  04Nov2020  10Nov2020    82905782      -     -         -   \n",
       "        10th   Past  11Nov2020  17Nov2020    82905782      -     -         -   \n",
       "        11th   Past  18Nov2020  24Nov2020    82905782      -     -         -   \n",
       "        12th   Past  25Nov2020  01Dec2020    82905782      -     -         -   \n",
       "        13th   Past  02Dec2020  08Dec2020    82905782      -     -         -   \n",
       "        14th   Past  09Dec2020  15Dec2020    82905782      -     -         -   \n",
       "        15th   Past  16Dec2020  21Dec2020    82905782      -     -         -   \n",
       "        16th   Past  22Dec2020  28Dec2020    82905782      -     -         -   \n",
       "        17th   Past  29Dec2020  04Jan2021    82905782  SIR-F  0.57  0.020084   \n",
       "        18th   Past  05Jan2021  10Jan2021    82905782  SIR-F  0.93  0.000124   \n",
       "        19th   Past  11Jan2021  17Jan2021    82905782  SIR-F  0.93  0.000130   \n",
       "\n",
       "                  kappa       rho     sigma    tau 1/beta [day] alpha1 [-]  \\\n",
       "Country Phase                                                                \n",
       "Germany 0th    0.000152  0.016824  0.005187  360.0         14.0      0.000   \n",
       "        1st    0.000289  0.022227  0.006042  360.0         11.0      0.053   \n",
       "        2nd    0.000837  0.011075  0.021050  360.0         22.0      0.000   \n",
       "        3rd    0.000168  0.014751  0.018569  360.0         16.0      0.000   \n",
       "        4th    0.000152  0.019316  0.013744  360.0         12.0      0.000   \n",
       "        5th    0.000168  0.020982  0.014593  360.0         11.0      0.000   \n",
       "        6th    0.000426  0.026687  0.008511  360.0          9.0      0.001   \n",
       "        7th    0.000381  0.025855  0.008812  360.0          9.0      0.002   \n",
       "        8th    0.000257  0.020358  0.008591  360.0         12.0      0.000   \n",
       "        9th           -         -         -      -            -          -   \n",
       "        10th          -         -         -      -            -          -   \n",
       "        11th          -         -         -      -            -          -   \n",
       "        12th          -         -         -      -            -          -   \n",
       "        13th          -         -         -      -            -          -   \n",
       "        14th          -         -         -      -            -          -   \n",
       "        15th          -         -         -      -            -          -   \n",
       "        16th          -         -         -      -            -          -   \n",
       "        17th   0.000070  0.012320  0.021237  360.0         20.0      0.020   \n",
       "        18th   0.000228  0.019760  0.020944  360.0         12.0      0.000   \n",
       "        19th   0.000168  0.018076  0.019337  360.0         13.0      0.000   \n",
       "\n",
       "              1/alpha2 [day] 1/gamma [day]     RMSLE Trials       Runtime  \n",
       "Country Phase                                                              \n",
       "Germany 0th           1649.0          48.0  1.486768  320.0  0 min 10 sec  \n",
       "        1st            864.0          41.0  0.170072  335.0  0 min 10 sec  \n",
       "        2nd            298.0          11.0  0.063893  337.0  0 min 10 sec  \n",
       "        3rd           1486.0          13.0  0.237954  317.0  0 min 10 sec  \n",
       "        4th           1647.0          18.0  0.071951  335.0  0 min 10 sec  \n",
       "        5th           1486.0          17.0  0.027096  327.0  0 min 10 sec  \n",
       "        6th            586.0          29.0  0.059984  342.0  0 min 10 sec  \n",
       "        7th            655.0          28.0  0.020497  346.0  0 min 10 sec  \n",
       "        8th            974.0          29.0  0.024017  344.0  0 min 10 sec  \n",
       "        9th                -             -         -      -             -  \n",
       "        10th               -             -         -      -             -  \n",
       "        11th               -             -         -      -             -  \n",
       "        12th               -             -         -      -             -  \n",
       "        13th               -             -         -      -             -  \n",
       "        14th               -             -         -      -             -  \n",
       "        15th               -             -         -      -             -  \n",
       "        16th               -             -         -      -             -  \n",
       "        17th          3590.0          11.0  0.031081  341.0  0 min 10 sec  \n",
       "        18th          1094.0          11.0  0.011878  346.0  0 min 10 sec  \n",
       "        19th          1486.0          12.0  0.029486  338.0  0 min 10 sec  "
      ]
     },
     "execution_count": 12,
     "metadata": {},
     "output_type": "execute_result"
    }
   ],
   "source": [
    "# Show summary\n",
    "analyser.summary(countries=countries_show)"
   ]
  },
  {
   "cell_type": "markdown",
   "id": "beginning-abortion",
   "metadata": {},
   "source": [
    "## Compare the history of parameters\n",
    "Here, compare the history of parameter values if countries."
   ]
  },
  {
   "cell_type": "code",
   "execution_count": 13,
   "id": "organized-anger",
   "metadata": {
    "collapsed": false
   },
   "outputs": [
    {
     "data": {
      "text/html": [
       "<div>\n",
       "<style scoped>\n",
       "    .dataframe tbody tr th:only-of-type {\n",
       "        vertical-align: middle;\n",
       "    }\n",
       "\n",
       "    .dataframe tbody tr th {\n",
       "        vertical-align: top;\n",
       "    }\n",
       "\n",
       "    .dataframe thead th {\n",
       "        text-align: right;\n",
       "    }\n",
       "</style>\n",
       "<table border=\"1\" class=\"dataframe\">\n",
       "  <thead>\n",
       "    <tr style=\"text-align: right;\">\n",
       "      <th></th>\n",
       "      <th>Date</th>\n",
       "      <th>Country</th>\n",
       "      <th>theta</th>\n",
       "      <th>kappa</th>\n",
       "      <th>rho</th>\n",
       "      <th>sigma</th>\n",
       "      <th>alpha1 [-]</th>\n",
       "      <th>1/alpha2 [day]</th>\n",
       "      <th>1/beta [day]</th>\n",
       "      <th>1/gamma [day]</th>\n",
       "      <th>...</th>\n",
       "      <th>Cancel_events</th>\n",
       "      <th>Gatherings_restrictions</th>\n",
       "      <th>Transport_closing</th>\n",
       "      <th>Stay_home_restrictions</th>\n",
       "      <th>Internal_movement_restrictions</th>\n",
       "      <th>International_movement_restrictions</th>\n",
       "      <th>Information_campaigns</th>\n",
       "      <th>Testing_policy</th>\n",
       "      <th>Contact_tracing</th>\n",
       "      <th>Stringency_index</th>\n",
       "    </tr>\n",
       "  </thead>\n",
       "  <tbody>\n",
       "    <tr>\n",
       "      <th>0</th>\n",
       "      <td>2020-03-03</td>\n",
       "      <td>Switzerland</td>\n",
       "      <td>0.016724</td>\n",
       "      <td>0.000199</td>\n",
       "      <td>0.048146</td>\n",
       "      <td>0.000218</td>\n",
       "      <td>0.017</td>\n",
       "      <td>1253</td>\n",
       "      <td>5</td>\n",
       "      <td>1144</td>\n",
       "      <td>...</td>\n",
       "      <td>2</td>\n",
       "      <td>1</td>\n",
       "      <td>0</td>\n",
       "      <td>0</td>\n",
       "      <td>0</td>\n",
       "      <td>0</td>\n",
       "      <td>2</td>\n",
       "      <td>2</td>\n",
       "      <td>1</td>\n",
       "      <td>25.0</td>\n",
       "    </tr>\n",
       "    <tr>\n",
       "      <th>1</th>\n",
       "      <td>2020-03-03</td>\n",
       "      <td>Switzerland</td>\n",
       "      <td>0.016724</td>\n",
       "      <td>0.000199</td>\n",
       "      <td>0.048146</td>\n",
       "      <td>0.000218</td>\n",
       "      <td>0.017</td>\n",
       "      <td>1253</td>\n",
       "      <td>5</td>\n",
       "      <td>1144</td>\n",
       "      <td>...</td>\n",
       "      <td>2</td>\n",
       "      <td>1</td>\n",
       "      <td>0</td>\n",
       "      <td>0</td>\n",
       "      <td>0</td>\n",
       "      <td>0</td>\n",
       "      <td>2</td>\n",
       "      <td>2</td>\n",
       "      <td>1</td>\n",
       "      <td>25.0</td>\n",
       "    </tr>\n",
       "    <tr>\n",
       "      <th>2</th>\n",
       "      <td>2020-03-03</td>\n",
       "      <td>Switzerland</td>\n",
       "      <td>0.016724</td>\n",
       "      <td>0.000199</td>\n",
       "      <td>0.048146</td>\n",
       "      <td>0.000218</td>\n",
       "      <td>0.017</td>\n",
       "      <td>1253</td>\n",
       "      <td>5</td>\n",
       "      <td>1144</td>\n",
       "      <td>...</td>\n",
       "      <td>2</td>\n",
       "      <td>1</td>\n",
       "      <td>0</td>\n",
       "      <td>0</td>\n",
       "      <td>0</td>\n",
       "      <td>0</td>\n",
       "      <td>2</td>\n",
       "      <td>2</td>\n",
       "      <td>1</td>\n",
       "      <td>25.0</td>\n",
       "    </tr>\n",
       "    <tr>\n",
       "      <th>3</th>\n",
       "      <td>2020-03-03</td>\n",
       "      <td>Switzerland</td>\n",
       "      <td>0.016724</td>\n",
       "      <td>0.000199</td>\n",
       "      <td>0.048146</td>\n",
       "      <td>0.000218</td>\n",
       "      <td>0.017</td>\n",
       "      <td>1253</td>\n",
       "      <td>5</td>\n",
       "      <td>1144</td>\n",
       "      <td>...</td>\n",
       "      <td>2</td>\n",
       "      <td>1</td>\n",
       "      <td>0</td>\n",
       "      <td>0</td>\n",
       "      <td>0</td>\n",
       "      <td>0</td>\n",
       "      <td>2</td>\n",
       "      <td>2</td>\n",
       "      <td>1</td>\n",
       "      <td>25.0</td>\n",
       "    </tr>\n",
       "    <tr>\n",
       "      <th>4</th>\n",
       "      <td>2020-03-03</td>\n",
       "      <td>Switzerland</td>\n",
       "      <td>0.016724</td>\n",
       "      <td>0.000199</td>\n",
       "      <td>0.048146</td>\n",
       "      <td>0.000218</td>\n",
       "      <td>0.017</td>\n",
       "      <td>1253</td>\n",
       "      <td>5</td>\n",
       "      <td>1144</td>\n",
       "      <td>...</td>\n",
       "      <td>2</td>\n",
       "      <td>1</td>\n",
       "      <td>0</td>\n",
       "      <td>0</td>\n",
       "      <td>0</td>\n",
       "      <td>0</td>\n",
       "      <td>2</td>\n",
       "      <td>2</td>\n",
       "      <td>1</td>\n",
       "      <td>25.0</td>\n",
       "    </tr>\n",
       "  </tbody>\n",
       "</table>\n",
       "<p>5 rows × 23 columns</p>\n",
       "</div>"
      ],
      "text/plain": [
       "        Date      Country     theta     kappa       rho     sigma alpha1 [-]  \\\n",
       "0 2020-03-03  Switzerland  0.016724  0.000199  0.048146  0.000218      0.017   \n",
       "1 2020-03-03  Switzerland  0.016724  0.000199  0.048146  0.000218      0.017   \n",
       "2 2020-03-03  Switzerland  0.016724  0.000199  0.048146  0.000218      0.017   \n",
       "3 2020-03-03  Switzerland  0.016724  0.000199  0.048146  0.000218      0.017   \n",
       "4 2020-03-03  Switzerland  0.016724  0.000199  0.048146  0.000218      0.017   \n",
       "\n",
       "  1/alpha2 [day] 1/beta [day] 1/gamma [day]  ... Cancel_events  \\\n",
       "0           1253            5          1144  ...             2   \n",
       "1           1253            5          1144  ...             2   \n",
       "2           1253            5          1144  ...             2   \n",
       "3           1253            5          1144  ...             2   \n",
       "4           1253            5          1144  ...             2   \n",
       "\n",
       "   Gatherings_restrictions  Transport_closing  Stay_home_restrictions  \\\n",
       "0                        1                  0                       0   \n",
       "1                        1                  0                       0   \n",
       "2                        1                  0                       0   \n",
       "3                        1                  0                       0   \n",
       "4                        1                  0                       0   \n",
       "\n",
       "   Internal_movement_restrictions  International_movement_restrictions  \\\n",
       "0                               0                                    0   \n",
       "1                               0                                    0   \n",
       "2                               0                                    0   \n",
       "3                               0                                    0   \n",
       "4                               0                                    0   \n",
       "\n",
       "   Information_campaigns  Testing_policy  Contact_tracing  Stringency_index  \n",
       "0                      2               2                1              25.0  \n",
       "1                      2               2                1              25.0  \n",
       "2                      2               2                1              25.0  \n",
       "3                      2               2                1              25.0  \n",
       "4                      2               2                1              25.0  \n",
       "\n",
       "[5 rows x 23 columns]"
      ]
     },
     "execution_count": 13,
     "metadata": {},
     "output_type": "execute_result"
    }
   ],
   "source": [
    "# All parameter/day parameter/Rt/OxCGRT\n",
    "analyser.track().head()"
   ]
  },
  {
   "cell_type": "markdown",
   "id": "completed-eight",
   "metadata": {},
   "source": [
    "### $Rt$: Reprodcution number $\\mathrm{[-]}$"
   ]
  },
  {
   "cell_type": "code",
   "execution_count": 14,
   "id": "another-passing",
   "metadata": {
    "collapsed": false
   },
   "outputs": [
    {
     "data": {
      "image/png": "[encoded data removed]",
      "text/plain": [
       "<Figure size 648x432 with 1 Axes>"
      ]
     },
     "metadata": {},
     "output_type": "display_data"
    },
    {
     "data": {
      "text/html": [
       "<div>\n",
       "<style scoped>\n",
       "    .dataframe tbody tr th:only-of-type {\n",
       "        vertical-align: middle;\n",
       "    }\n",
       "\n",
       "    .dataframe tbody tr th {\n",
       "        vertical-align: top;\n",
       "    }\n",
       "\n",
       "    .dataframe thead th {\n",
       "        text-align: right;\n",
       "    }\n",
       "</style>\n",
       "<table border=\"1\" class=\"dataframe\">\n",
       "  <thead>\n",
       "    <tr style=\"text-align: right;\">\n",
       "      <th>Country</th>\n",
       "      <th>Germany</th>\n",
       "      <th>Sweden</th>\n",
       "      <th>Switzerland</th>\n",
       "    </tr>\n",
       "    <tr>\n",
       "      <th>Date</th>\n",
       "      <th></th>\n",
       "      <th></th>\n",
       "      <th></th>\n",
       "    </tr>\n",
       "  </thead>\n",
       "  <tbody>\n",
       "    <tr>\n",
       "      <th>2021-01-13</th>\n",
       "      <td>0.93</td>\n",
       "      <td>1.05</td>\n",
       "      <td>0.0</td>\n",
       "    </tr>\n",
       "    <tr>\n",
       "      <th>2021-01-14</th>\n",
       "      <td>0.93</td>\n",
       "      <td>1.05</td>\n",
       "      <td>0.0</td>\n",
       "    </tr>\n",
       "    <tr>\n",
       "      <th>2021-01-15</th>\n",
       "      <td>0.93</td>\n",
       "      <td>1.05</td>\n",
       "      <td>0.0</td>\n",
       "    </tr>\n",
       "    <tr>\n",
       "      <th>2021-01-16</th>\n",
       "      <td>0.93</td>\n",
       "      <td>1.05</td>\n",
       "      <td>0.0</td>\n",
       "    </tr>\n",
       "    <tr>\n",
       "      <th>2021-01-17</th>\n",
       "      <td>0.93</td>\n",
       "      <td>1.05</td>\n",
       "      <td>0.0</td>\n",
       "    </tr>\n",
       "  </tbody>\n",
       "</table>\n",
       "</div>"
      ],
      "text/plain": [
       "Country     Germany  Sweden  Switzerland\n",
       "Date                                    \n",
       "2021-01-13     0.93    1.05          0.0\n",
       "2021-01-14     0.93    1.05          0.0\n",
       "2021-01-15     0.93    1.05          0.0\n",
       "2021-01-16     0.93    1.05          0.0\n",
       "2021-01-17     0.93    1.05          0.0"
      ]
     },
     "execution_count": 14,
     "metadata": {},
     "output_type": "execute_result"
    }
   ],
   "source": [
    "analyser.history(\"Rt\", roll_window=None).tail()"
   ]
  },
  {
   "cell_type": "markdown",
   "id": "designed-mechanics",
   "metadata": {},
   "source": [
    "### $\\rho$: Effective contact rate $\\mathrm{[-]}$"
   ]
  },
  {
   "cell_type": "code",
   "execution_count": 15,
   "id": "billion-basement",
   "metadata": {
    "collapsed": false
   },
   "outputs": [
    {
     "data": {
      "image/png": "[encoded data removed]",
      "text/plain": [
       "<Figure size 648x432 with 1 Axes>"
      ]
     },
     "metadata": {},
     "output_type": "display_data"
    },
    {
     "data": {
      "text/html": [
       "<div>\n",
       "<style scoped>\n",
       "    .dataframe tbody tr th:only-of-type {\n",
       "        vertical-align: middle;\n",
       "    }\n",
       "\n",
       "    .dataframe tbody tr th {\n",
       "        vertical-align: top;\n",
       "    }\n",
       "\n",
       "    .dataframe thead th {\n",
       "        text-align: right;\n",
       "    }\n",
       "</style>\n",
       "<table border=\"1\" class=\"dataframe\">\n",
       "  <thead>\n",
       "    <tr style=\"text-align: right;\">\n",
       "      <th>Country</th>\n",
       "      <th>Germany</th>\n",
       "      <th>Sweden</th>\n",
       "      <th>Switzerland</th>\n",
       "    </tr>\n",
       "    <tr>\n",
       "      <th>Date</th>\n",
       "      <th></th>\n",
       "      <th></th>\n",
       "      <th></th>\n",
       "    </tr>\n",
       "  </thead>\n",
       "  <tbody>\n",
       "    <tr>\n",
       "      <th>2021-01-13</th>\n",
       "      <td>0.018076</td>\n",
       "      <td>0.017737</td>\n",
       "      <td>0.000018</td>\n",
       "    </tr>\n",
       "    <tr>\n",
       "      <th>2021-01-14</th>\n",
       "      <td>0.018076</td>\n",
       "      <td>0.017737</td>\n",
       "      <td>0.000018</td>\n",
       "    </tr>\n",
       "    <tr>\n",
       "      <th>2021-01-15</th>\n",
       "      <td>0.018076</td>\n",
       "      <td>0.017737</td>\n",
       "      <td>0.000018</td>\n",
       "    </tr>\n",
       "    <tr>\n",
       "      <th>2021-01-16</th>\n",
       "      <td>0.018076</td>\n",
       "      <td>0.017737</td>\n",
       "      <td>0.000018</td>\n",
       "    </tr>\n",
       "    <tr>\n",
       "      <th>2021-01-17</th>\n",
       "      <td>0.018076</td>\n",
       "      <td>0.017737</td>\n",
       "      <td>0.000018</td>\n",
       "    </tr>\n",
       "  </tbody>\n",
       "</table>\n",
       "</div>"
      ],
      "text/plain": [
       "Country      Germany    Sweden  Switzerland\n",
       "Date                                       \n",
       "2021-01-13  0.018076  0.017737     0.000018\n",
       "2021-01-14  0.018076  0.017737     0.000018\n",
       "2021-01-15  0.018076  0.017737     0.000018\n",
       "2021-01-16  0.018076  0.017737     0.000018\n",
       "2021-01-17  0.018076  0.017737     0.000018"
      ]
     },
     "execution_count": 15,
     "metadata": {},
     "output_type": "execute_result"
    }
   ],
   "source": [
    "analyser.history(\"rho\", roll_window=None).tail()"
   ]
  },
  {
   "cell_type": "markdown",
   "id": "saved-thailand",
   "metadata": {},
   "source": [
    "### $\\sigma$: Recovery rate $\\mathrm{[-]}$"
   ]
  },
  {
   "cell_type": "code",
   "execution_count": 16,
   "id": "surgical-blues",
   "metadata": {
    "collapsed": false
   },
   "outputs": [
    {
     "data": {
      "image/png": "[encoded data removed]",
      "text/plain": [
       "<Figure size 648x432 with 1 Axes>"
      ]
     },
     "metadata": {},
     "output_type": "display_data"
    },
    {
     "data": {
      "text/html": [
       "<div>\n",
       "<style scoped>\n",
       "    .dataframe tbody tr th:only-of-type {\n",
       "        vertical-align: middle;\n",
       "    }\n",
       "\n",
       "    .dataframe tbody tr th {\n",
       "        vertical-align: top;\n",
       "    }\n",
       "\n",
       "    .dataframe thead th {\n",
       "        text-align: right;\n",
       "    }\n",
       "</style>\n",
       "<table border=\"1\" class=\"dataframe\">\n",
       "  <thead>\n",
       "    <tr style=\"text-align: right;\">\n",
       "      <th>Country</th>\n",
       "      <th>Germany</th>\n",
       "      <th>Sweden</th>\n",
       "      <th>Switzerland</th>\n",
       "    </tr>\n",
       "    <tr>\n",
       "      <th>Date</th>\n",
       "      <th></th>\n",
       "      <th></th>\n",
       "      <th></th>\n",
       "    </tr>\n",
       "  </thead>\n",
       "  <tbody>\n",
       "    <tr>\n",
       "      <th>2021-01-13</th>\n",
       "      <td>0.019337</td>\n",
       "      <td>0.016741</td>\n",
       "      <td>0.001396</td>\n",
       "    </tr>\n",
       "    <tr>\n",
       "      <th>2021-01-14</th>\n",
       "      <td>0.019337</td>\n",
       "      <td>0.016741</td>\n",
       "      <td>0.001396</td>\n",
       "    </tr>\n",
       "    <tr>\n",
       "      <th>2021-01-15</th>\n",
       "      <td>0.019337</td>\n",
       "      <td>0.016741</td>\n",
       "      <td>0.001396</td>\n",
       "    </tr>\n",
       "    <tr>\n",
       "      <th>2021-01-16</th>\n",
       "      <td>0.019337</td>\n",
       "      <td>0.016741</td>\n",
       "      <td>0.001396</td>\n",
       "    </tr>\n",
       "    <tr>\n",
       "      <th>2021-01-17</th>\n",
       "      <td>0.019337</td>\n",
       "      <td>0.016741</td>\n",
       "      <td>0.001396</td>\n",
       "    </tr>\n",
       "  </tbody>\n",
       "</table>\n",
       "</div>"
      ],
      "text/plain": [
       "Country      Germany    Sweden  Switzerland\n",
       "Date                                       \n",
       "2021-01-13  0.019337  0.016741     0.001396\n",
       "2021-01-14  0.019337  0.016741     0.001396\n",
       "2021-01-15  0.019337  0.016741     0.001396\n",
       "2021-01-16  0.019337  0.016741     0.001396\n",
       "2021-01-17  0.019337  0.016741     0.001396"
      ]
     },
     "execution_count": 16,
     "metadata": {},
     "output_type": "execute_result"
    }
   ],
   "source": [
    "analyser.history(\"sigma\", roll_window=None).tail()"
   ]
  },
  {
   "cell_type": "markdown",
   "id": "affected-brain",
   "metadata": {},
   "source": [
    "### $\\kappa$: Mortality rate of infected cases $\\mathrm{[-]}$"
   ]
  },
  {
   "cell_type": "code",
   "execution_count": 17,
   "id": "growing-stroke",
   "metadata": {
    "collapsed": false
   },
   "outputs": [
    {
     "data": {
      "image/png": "[encoded data removed]",
      "text/plain": [
       "<Figure size 648x432 with 1 Axes>"
      ]
     },
     "metadata": {},
     "output_type": "display_data"
    },
    {
     "data": {
      "text/html": [
       "<div>\n",
       "<style scoped>\n",
       "    .dataframe tbody tr th:only-of-type {\n",
       "        vertical-align: middle;\n",
       "    }\n",
       "\n",
       "    .dataframe tbody tr th {\n",
       "        vertical-align: top;\n",
       "    }\n",
       "\n",
       "    .dataframe thead th {\n",
       "        text-align: right;\n",
       "    }\n",
       "</style>\n",
       "<table border=\"1\" class=\"dataframe\">\n",
       "  <thead>\n",
       "    <tr style=\"text-align: right;\">\n",
       "      <th>Country</th>\n",
       "      <th>Germany</th>\n",
       "      <th>Sweden</th>\n",
       "      <th>Switzerland</th>\n",
       "    </tr>\n",
       "    <tr>\n",
       "      <th>Date</th>\n",
       "      <th></th>\n",
       "      <th></th>\n",
       "      <th></th>\n",
       "    </tr>\n",
       "  </thead>\n",
       "  <tbody>\n",
       "    <tr>\n",
       "      <th>2021-01-13</th>\n",
       "      <td>0.000168</td>\n",
       "      <td>0.000071</td>\n",
       "      <td>0.000041</td>\n",
       "    </tr>\n",
       "    <tr>\n",
       "      <th>2021-01-14</th>\n",
       "      <td>0.000168</td>\n",
       "      <td>0.000071</td>\n",
       "      <td>0.000041</td>\n",
       "    </tr>\n",
       "    <tr>\n",
       "      <th>2021-01-15</th>\n",
       "      <td>0.000168</td>\n",
       "      <td>0.000071</td>\n",
       "      <td>0.000041</td>\n",
       "    </tr>\n",
       "    <tr>\n",
       "      <th>2021-01-16</th>\n",
       "      <td>0.000168</td>\n",
       "      <td>0.000071</td>\n",
       "      <td>0.000041</td>\n",
       "    </tr>\n",
       "    <tr>\n",
       "      <th>2021-01-17</th>\n",
       "      <td>0.000168</td>\n",
       "      <td>0.000071</td>\n",
       "      <td>0.000041</td>\n",
       "    </tr>\n",
       "  </tbody>\n",
       "</table>\n",
       "</div>"
      ],
      "text/plain": [
       "Country      Germany    Sweden  Switzerland\n",
       "Date                                       \n",
       "2021-01-13  0.000168  0.000071     0.000041\n",
       "2021-01-14  0.000168  0.000071     0.000041\n",
       "2021-01-15  0.000168  0.000071     0.000041\n",
       "2021-01-16  0.000168  0.000071     0.000041\n",
       "2021-01-17  0.000168  0.000071     0.000041"
      ]
     },
     "execution_count": 17,
     "metadata": {},
     "output_type": "execute_result"
    }
   ],
   "source": [
    "analyser.history(\"kappa\", roll_window=None).tail()"
   ]
  },
  {
   "cell_type": "markdown",
   "id": "acute-cherry",
   "metadata": {},
   "source": [
    "### $\\theta$: Mortality rate of S$^\\ast$ cases $\\mathrm{[-]}$"
   ]
  },
  {
   "cell_type": "code",
   "execution_count": 18,
   "id": "convinced-treat",
   "metadata": {
    "collapsed": false
   },
   "outputs": [
    {
     "data": {
      "image/png": "[encoded data removed]",
      "text/plain": [
       "<Figure size 648x432 with 1 Axes>"
      ]
     },
     "metadata": {},
     "output_type": "display_data"
    },
    {
     "data": {
      "text/html": [
       "<div>\n",
       "<style scoped>\n",
       "    .dataframe tbody tr th:only-of-type {\n",
       "        vertical-align: middle;\n",
       "    }\n",
       "\n",
       "    .dataframe tbody tr th {\n",
       "        vertical-align: top;\n",
       "    }\n",
       "\n",
       "    .dataframe thead th {\n",
       "        text-align: right;\n",
       "    }\n",
       "</style>\n",
       "<table border=\"1\" class=\"dataframe\">\n",
       "  <thead>\n",
       "    <tr style=\"text-align: right;\">\n",
       "      <th>Country</th>\n",
       "      <th>Germany</th>\n",
       "      <th>Sweden</th>\n",
       "      <th>Switzerland</th>\n",
       "    </tr>\n",
       "    <tr>\n",
       "      <th>Date</th>\n",
       "      <th></th>\n",
       "      <th></th>\n",
       "      <th></th>\n",
       "    </tr>\n",
       "  </thead>\n",
       "  <tbody>\n",
       "    <tr>\n",
       "      <th>2021-01-13</th>\n",
       "      <td>0.00013</td>\n",
       "      <td>0.001303</td>\n",
       "      <td>0.984434</td>\n",
       "    </tr>\n",
       "    <tr>\n",
       "      <th>2021-01-14</th>\n",
       "      <td>0.00013</td>\n",
       "      <td>0.001303</td>\n",
       "      <td>0.984434</td>\n",
       "    </tr>\n",
       "    <tr>\n",
       "      <th>2021-01-15</th>\n",
       "      <td>0.00013</td>\n",
       "      <td>0.001303</td>\n",
       "      <td>0.984434</td>\n",
       "    </tr>\n",
       "    <tr>\n",
       "      <th>2021-01-16</th>\n",
       "      <td>0.00013</td>\n",
       "      <td>0.001303</td>\n",
       "      <td>0.984434</td>\n",
       "    </tr>\n",
       "    <tr>\n",
       "      <th>2021-01-17</th>\n",
       "      <td>0.00013</td>\n",
       "      <td>0.001303</td>\n",
       "      <td>0.984434</td>\n",
       "    </tr>\n",
       "  </tbody>\n",
       "</table>\n",
       "</div>"
      ],
      "text/plain": [
       "Country     Germany    Sweden  Switzerland\n",
       "Date                                      \n",
       "2021-01-13  0.00013  0.001303     0.984434\n",
       "2021-01-14  0.00013  0.001303     0.984434\n",
       "2021-01-15  0.00013  0.001303     0.984434\n",
       "2021-01-16  0.00013  0.001303     0.984434\n",
       "2021-01-17  0.00013  0.001303     0.984434"
      ]
     },
     "execution_count": 18,
     "metadata": {},
     "output_type": "execute_result"
    }
   ],
   "source": [
    "analyser.history(\"theta\", roll_window=None).tail()"
   ]
  },
  {
   "cell_type": "markdown",
   "id": "loose-virginia",
   "metadata": {},
   "source": [
    "## (Experimental): Relationship of OxCGRT index and parameter values\n",
    "Government responses will impact on parameter values of ODE models about 14 days later. Here, we will investigate on the relationship of [stringency index (from OxCGRT)](https://github.com/OxCGRT/covid-policy-tracker/blob/master/documentation/index_methodology.md) and reproduction number/model parameters.\n"
   ]
  },
  {
   "cell_type": "code",
   "execution_count": 19,
   "id": "legendary-director",
   "metadata": {
    "collapsed": false
   },
   "outputs": [],
   "source": [
    "%matplotlib inline\n",
    "from matplotlib import pyplot as plt\n",
    "import seaborn as sns\n",
    "import pandas as pd"
   ]
  },
  {
   "cell_type": "code",
   "execution_count": 20,
   "id": "helpful-message",
   "metadata": {
    "collapsed": false
   },
   "outputs": [
    {
     "name": "stdout",
     "output_type": "stream",
     "text": [
      "<class 'pandas.core.frame.DataFrame'>\n",
      "Int64Index: 18177 entries, 0 to 18204\n",
      "Data columns (total 19 columns):\n",
      " #   Column                               Non-Null Count  Dtype         \n",
      "---  ------                               --------------  -----         \n",
      " 0   Date                                 18177 non-null  datetime64[ns]\n",
      " 1   Country                              18177 non-null  object        \n",
      " 2   Rt                                   18177 non-null  float64       \n",
      " 3   theta                                18177 non-null  float64       \n",
      " 4   kappa                                18177 non-null  float64       \n",
      " 5   rho                                  18177 non-null  float64       \n",
      " 6   sigma                                18177 non-null  float64       \n",
      " 7   School_closing                       18177 non-null  int64         \n",
      " 8   Workplace_closing                    18177 non-null  int64         \n",
      " 9   Cancel_events                        18177 non-null  int64         \n",
      " 10  Gatherings_restrictions              18177 non-null  int64         \n",
      " 11  Transport_closing                    18177 non-null  int64         \n",
      " 12  Stay_home_restrictions               18177 non-null  int64         \n",
      " 13  Internal_movement_restrictions       18177 non-null  int64         \n",
      " 14  International_movement_restrictions  18177 non-null  int64         \n",
      " 15  Information_campaigns                18177 non-null  int64         \n",
      " 16  Testing_policy                       18177 non-null  int64         \n",
      " 17  Contact_tracing                      18177 non-null  int64         \n",
      " 18  Stringency_index                     18177 non-null  float64       \n",
      "dtypes: datetime64[ns](1), float64(6), int64(11), object(1)\n",
      "memory usage: 2.8+ MB\n"
     ]
    }
   ],
   "source": [
    "df = analyser.track()\n",
    "param_cols = [\"Rt\", *cs.SIRF.PARAMETERS]\n",
    "oxcgrt_cols = oxcgrt_data.OXCGRT_VARS[:]\n",
    "cols = param_cols + oxcgrt_cols\n",
    "delay = 14\n",
    "\n",
    "for col in param_cols:\n",
    "    df[col] = pd.to_numeric(df[col], errors=\"coerce\")\n",
    "    df[col] = df.groupby(\"Country\")[col].shift(0 - delay)\n",
    "\n",
    "df = df.dropna(how=\"any\")\n",
    "df = df.loc[:, [\"Date\", \"Country\", *cols]]\n",
    "track_df = df.copy()\n",
    "track_df.info()"
   ]
  },
  {
   "cell_type": "code",
   "execution_count": 21,
   "id": "experienced-madness",
   "metadata": {
    "collapsed": false
   },
   "outputs": [
    {
     "data": {
      "text/html": [
       "<style  type=\"text/css\" >\n",
       "#T_72692_row0_col0,#T_72692_row1_col1,#T_72692_row2_col2,#T_72692_row3_col3,#T_72692_row4_col4,#T_72692_row5_col5,#T_72692_row6_col6,#T_72692_row7_col7,#T_72692_row8_col8,#T_72692_row9_col9,#T_72692_row10_col10,#T_72692_row11_col11,#T_72692_row12_col12,#T_72692_row13_col13,#T_72692_row14_col14,#T_72692_row15_col15,#T_72692_row16_col16{\n",
       "            background-color:  #023858;\n",
       "            color:  #f1f1f1;\n",
       "        }#T_72692_row0_col1,#T_72692_row0_col2,#T_72692_row1_col0,#T_72692_row2_col0{\n",
       "            background-color:  #c4cbe3;\n",
       "            color:  #000000;\n",
       "        }#T_72692_row0_col3,#T_72692_row3_col0,#T_72692_row10_col11,#T_72692_row11_col10{\n",
       "            background-color:  #056ba9;\n",
       "            color:  #f1f1f1;\n",
       "        }#T_72692_row0_col4,#T_72692_row4_col0{\n",
       "            background-color:  #f9f2f8;\n",
       "            color:  #000000;\n",
       "        }#T_72692_row0_col5,#T_72692_row1_col14,#T_72692_row5_col0,#T_72692_row14_col1{\n",
       "            background-color:  #e0dded;\n",
       "            color:  #000000;\n",
       "        }#T_72692_row0_col6,#T_72692_row6_col0{\n",
       "            background-color:  #dedcec;\n",
       "            color:  #000000;\n",
       "        }#T_72692_row0_col7,#T_72692_row1_col8,#T_72692_row7_col0,#T_72692_row8_col1{\n",
       "            background-color:  #c5cce3;\n",
       "            color:  #000000;\n",
       "        }#T_72692_row0_col8,#T_72692_row1_col10,#T_72692_row2_col5,#T_72692_row2_col8,#T_72692_row5_col2,#T_72692_row8_col0,#T_72692_row8_col2,#T_72692_row10_col1{\n",
       "            background-color:  #dad9ea;\n",
       "            color:  #000000;\n",
       "        }#T_72692_row0_col9,#T_72692_row1_col16,#T_72692_row9_col0,#T_72692_row16_col1{\n",
       "            background-color:  #d0d1e6;\n",
       "            color:  #000000;\n",
       "        }#T_72692_row0_col10,#T_72692_row10_col0{\n",
       "            background-color:  #f1ebf5;\n",
       "            color:  #000000;\n",
       "        }#T_72692_row0_col11,#T_72692_row11_col0{\n",
       "            background-color:  #f0eaf4;\n",
       "            color:  #000000;\n",
       "        }#T_72692_row0_col12,#T_72692_row12_col0{\n",
       "            background-color:  #efe9f3;\n",
       "            color:  #000000;\n",
       "        }#T_72692_row0_col13,#T_72692_row13_col0{\n",
       "            background-color:  #c9cee4;\n",
       "            color:  #000000;\n",
       "        }#T_72692_row0_col14,#T_72692_row1_col11,#T_72692_row11_col1,#T_72692_row14_col0{\n",
       "            background-color:  #e2dfee;\n",
       "            color:  #000000;\n",
       "        }#T_72692_row0_col15,#T_72692_row2_col4,#T_72692_row2_col16,#T_72692_row4_col2,#T_72692_row15_col0,#T_72692_row16_col2{\n",
       "            background-color:  #e1dfed;\n",
       "            color:  #000000;\n",
       "        }#T_72692_row0_col16,#T_72692_row3_col15,#T_72692_row15_col3,#T_72692_row16_col0{\n",
       "            background-color:  #dddbec;\n",
       "            color:  #000000;\n",
       "        }#T_72692_row1_col2,#T_72692_row2_col1{\n",
       "            background-color:  #056ba7;\n",
       "            color:  #f1f1f1;\n",
       "        }#T_72692_row1_col3,#T_72692_row3_col1{\n",
       "            background-color:  #acc0dd;\n",
       "            color:  #000000;\n",
       "        }#T_72692_row1_col4,#T_72692_row2_col12,#T_72692_row4_col1,#T_72692_row12_col2{\n",
       "            background-color:  #ebe6f2;\n",
       "            color:  #000000;\n",
       "        }#T_72692_row1_col5,#T_72692_row4_col15,#T_72692_row5_col1,#T_72692_row15_col4{\n",
       "            background-color:  #ced0e6;\n",
       "            color:  #000000;\n",
       "        }#T_72692_row1_col6,#T_72692_row6_col1{\n",
       "            background-color:  #d7d6e9;\n",
       "            color:  #000000;\n",
       "        }#T_72692_row1_col7,#T_72692_row7_col1{\n",
       "            background-color:  #d4d4e8;\n",
       "            color:  #000000;\n",
       "        }#T_72692_row1_col9,#T_72692_row8_col15,#T_72692_row9_col1,#T_72692_row15_col8{\n",
       "            background-color:  #b8c6e0;\n",
       "            color:  #000000;\n",
       "        }#T_72692_row1_col12,#T_72692_row3_col13,#T_72692_row12_col1,#T_72692_row13_col3{\n",
       "            background-color:  #d9d8ea;\n",
       "            color:  #000000;\n",
       "        }#T_72692_row1_col13,#T_72692_row13_col1{\n",
       "            background-color:  #d6d6e9;\n",
       "            color:  #000000;\n",
       "        }#T_72692_row1_col15,#T_72692_row15_col1{\n",
       "            background-color:  #b3c3de;\n",
       "            color:  #000000;\n",
       "        }#T_72692_row2_col3,#T_72692_row3_col2{\n",
       "            background-color:  #63a2cb;\n",
       "            color:  #000000;\n",
       "        }#T_72692_row2_col6,#T_72692_row6_col2{\n",
       "            background-color:  #e9e5f1;\n",
       "            color:  #000000;\n",
       "        }#T_72692_row2_col7,#T_72692_row7_col2{\n",
       "            background-color:  #e5e1ef;\n",
       "            color:  #000000;\n",
       "        }#T_72692_row2_col9,#T_72692_row9_col2{\n",
       "            background-color:  #b5c4df;\n",
       "            color:  #000000;\n",
       "        }#T_72692_row2_col10,#T_72692_row10_col2{\n",
       "            background-color:  #eae6f1;\n",
       "            color:  #000000;\n",
       "        }#T_72692_row2_col11,#T_72692_row11_col2{\n",
       "            background-color:  #f3edf5;\n",
       "            color:  #000000;\n",
       "        }#T_72692_row2_col13,#T_72692_row13_col2{\n",
       "            background-color:  #e6e2ef;\n",
       "            color:  #000000;\n",
       "        }#T_72692_row2_col14,#T_72692_row14_col2{\n",
       "            background-color:  #e4e1ef;\n",
       "            color:  #000000;\n",
       "        }#T_72692_row2_col15,#T_72692_row15_col2{\n",
       "            background-color:  #b9c6e0;\n",
       "            color:  #000000;\n",
       "        }#T_72692_row3_col4,#T_72692_row4_col3{\n",
       "            background-color:  #fff7fb;\n",
       "            color:  #000000;\n",
       "        }#T_72692_row3_col5,#T_72692_row5_col3{\n",
       "            background-color:  #f8f1f8;\n",
       "            color:  #000000;\n",
       "        }#T_72692_row3_col6,#T_72692_row6_col3{\n",
       "            background-color:  #eee8f3;\n",
       "            color:  #000000;\n",
       "        }#T_72692_row3_col7,#T_72692_row7_col3{\n",
       "            background-color:  #d8d7e9;\n",
       "            color:  #000000;\n",
       "        }#T_72692_row3_col8,#T_72692_row8_col3{\n",
       "            background-color:  #e3e0ee;\n",
       "            color:  #000000;\n",
       "        }#T_72692_row3_col9,#T_72692_row9_col3{\n",
       "            background-color:  #99b8d8;\n",
       "            color:  #000000;\n",
       "        }#T_72692_row3_col10,#T_72692_row10_col3{\n",
       "            background-color:  #eee9f3;\n",
       "            color:  #000000;\n",
       "        }#T_72692_row3_col11,#T_72692_row3_col12,#T_72692_row11_col3,#T_72692_row12_col3{\n",
       "            background-color:  #f4edf6;\n",
       "            color:  #000000;\n",
       "        }#T_72692_row3_col14,#T_72692_row14_col3{\n",
       "            background-color:  #dbdaeb;\n",
       "            color:  #000000;\n",
       "        }#T_72692_row3_col16,#T_72692_row16_col3{\n",
       "            background-color:  #e7e3f0;\n",
       "            color:  #000000;\n",
       "        }#T_72692_row4_col5,#T_72692_row5_col4,#T_72692_row10_col15,#T_72692_row15_col10{\n",
       "            background-color:  #73a9cf;\n",
       "            color:  #000000;\n",
       "        }#T_72692_row4_col6,#T_72692_row6_col4{\n",
       "            background-color:  #62a2cb;\n",
       "            color:  #000000;\n",
       "        }#T_72692_row4_col7,#T_72692_row7_col4{\n",
       "            background-color:  #589ec8;\n",
       "            color:  #000000;\n",
       "        }#T_72692_row4_col8,#T_72692_row8_col4,#T_72692_row13_col15,#T_72692_row15_col13{\n",
       "            background-color:  #4897c4;\n",
       "            color:  #000000;\n",
       "        }#T_72692_row4_col9,#T_72692_row7_col15,#T_72692_row9_col4,#T_72692_row15_col7{\n",
       "            background-color:  #6fa7ce;\n",
       "            color:  #000000;\n",
       "        }#T_72692_row4_col10,#T_72692_row10_col4{\n",
       "            background-color:  #4a98c5;\n",
       "            color:  #000000;\n",
       "        }#T_72692_row4_col11,#T_72692_row11_col4{\n",
       "            background-color:  #3f93c2;\n",
       "            color:  #000000;\n",
       "        }#T_72692_row4_col12,#T_72692_row12_col4{\n",
       "            background-color:  #348ebf;\n",
       "            color:  #000000;\n",
       "        }#T_72692_row4_col13,#T_72692_row4_col14,#T_72692_row13_col4,#T_72692_row14_col4{\n",
       "            background-color:  #6ba5cd;\n",
       "            color:  #000000;\n",
       "        }#T_72692_row4_col16,#T_72692_row10_col14,#T_72692_row12_col14,#T_72692_row14_col10,#T_72692_row14_col12,#T_72692_row16_col4{\n",
       "            background-color:  #3790c0;\n",
       "            color:  #000000;\n",
       "        }#T_72692_row5_col6,#T_72692_row6_col5{\n",
       "            background-color:  #509ac6;\n",
       "            color:  #000000;\n",
       "        }#T_72692_row5_col7,#T_72692_row7_col5{\n",
       "            background-color:  #2182b9;\n",
       "            color:  #000000;\n",
       "        }#T_72692_row5_col8,#T_72692_row8_col5{\n",
       "            background-color:  #a5bddb;\n",
       "            color:  #000000;\n",
       "        }#T_72692_row5_col9,#T_72692_row9_col5{\n",
       "            background-color:  #d2d3e7;\n",
       "            color:  #000000;\n",
       "        }#T_72692_row5_col10,#T_72692_row5_col11,#T_72692_row10_col5,#T_72692_row10_col13,#T_72692_row11_col5,#T_72692_row13_col10{\n",
       "            background-color:  #157ab5;\n",
       "            color:  #000000;\n",
       "        }#T_72692_row5_col12,#T_72692_row8_col12,#T_72692_row12_col5,#T_72692_row12_col8{\n",
       "            background-color:  #1278b4;\n",
       "            color:  #f1f1f1;\n",
       "        }#T_72692_row5_col13,#T_72692_row13_col5{\n",
       "            background-color:  #3991c1;\n",
       "            color:  #000000;\n",
       "        }#T_72692_row5_col14,#T_72692_row6_col15,#T_72692_row14_col5,#T_72692_row15_col6{\n",
       "            background-color:  #94b6d7;\n",
       "            color:  #000000;\n",
       "        }#T_72692_row5_col15,#T_72692_row8_col9,#T_72692_row9_col8,#T_72692_row15_col5{\n",
       "            background-color:  #8eb3d5;\n",
       "            color:  #000000;\n",
       "        }#T_72692_row5_col16,#T_72692_row16_col5{\n",
       "            background-color:  #4496c3;\n",
       "            color:  #000000;\n",
       "        }#T_72692_row6_col7,#T_72692_row7_col6{\n",
       "            background-color:  #2383ba;\n",
       "            color:  #000000;\n",
       "        }#T_72692_row6_col8,#T_72692_row8_col6{\n",
       "            background-color:  #04588a;\n",
       "            color:  #f1f1f1;\n",
       "        }#T_72692_row6_col9,#T_72692_row9_col6{\n",
       "            background-color:  #c0c9e2;\n",
       "            color:  #000000;\n",
       "        }#T_72692_row6_col10,#T_72692_row10_col6{\n",
       "            background-color:  #0a73b2;\n",
       "            color:  #f1f1f1;\n",
       "        }#T_72692_row6_col11,#T_72692_row11_col6,#T_72692_row11_col13,#T_72692_row13_col11{\n",
       "            background-color:  #167bb6;\n",
       "            color:  #000000;\n",
       "        }#T_72692_row6_col12,#T_72692_row12_col6{\n",
       "            background-color:  #1077b4;\n",
       "            color:  #f1f1f1;\n",
       "        }#T_72692_row6_col13,#T_72692_row13_col6{\n",
       "            background-color:  #3b92c1;\n",
       "            color:  #000000;\n",
       "        }#T_72692_row6_col14,#T_72692_row14_col6{\n",
       "            background-color:  #76aad0;\n",
       "            color:  #000000;\n",
       "        }#T_72692_row6_col16,#T_72692_row16_col6{\n",
       "            background-color:  #045b8f;\n",
       "            color:  #f1f1f1;\n",
       "        }#T_72692_row7_col8,#T_72692_row8_col7{\n",
       "            background-color:  #1e80b8;\n",
       "            color:  #000000;\n",
       "        }#T_72692_row7_col9,#T_72692_row9_col7{\n",
       "            background-color:  #97b7d7;\n",
       "            color:  #000000;\n",
       "        }#T_72692_row7_col10,#T_72692_row10_col7,#T_72692_row14_col15,#T_72692_row15_col14{\n",
       "            background-color:  #056faf;\n",
       "            color:  #f1f1f1;\n",
       "        }#T_72692_row7_col11,#T_72692_row11_col7{\n",
       "            background-color:  #056aa6;\n",
       "            color:  #f1f1f1;\n",
       "        }#T_72692_row7_col12,#T_72692_row12_col7{\n",
       "            background-color:  #045b8e;\n",
       "            color:  #f1f1f1;\n",
       "        }#T_72692_row7_col13,#T_72692_row13_col7{\n",
       "            background-color:  #03517e;\n",
       "            color:  #f1f1f1;\n",
       "        }#T_72692_row7_col14,#T_72692_row14_col7{\n",
       "            background-color:  #2685bb;\n",
       "            color:  #000000;\n",
       "        }#T_72692_row7_col16,#T_72692_row10_col12,#T_72692_row12_col10,#T_72692_row16_col7{\n",
       "            background-color:  #0567a2;\n",
       "            color:  #f1f1f1;\n",
       "        }#T_72692_row8_col10,#T_72692_row10_col8{\n",
       "            background-color:  #2c89bd;\n",
       "            color:  #000000;\n",
       "        }#T_72692_row8_col11,#T_72692_row11_col8{\n",
       "            background-color:  #2987bc;\n",
       "            color:  #000000;\n",
       "        }#T_72692_row8_col13,#T_72692_row13_col8{\n",
       "            background-color:  #358fc0;\n",
       "            color:  #000000;\n",
       "        }#T_72692_row8_col14,#T_72692_row14_col8,#T_72692_row14_col16,#T_72692_row16_col14{\n",
       "            background-color:  #86b0d3;\n",
       "            color:  #000000;\n",
       "        }#T_72692_row8_col16,#T_72692_row16_col8{\n",
       "            background-color:  #045483;\n",
       "            color:  #f1f1f1;\n",
       "        }#T_72692_row9_col10,#T_72692_row10_col9{\n",
       "            background-color:  #67a4cc;\n",
       "            color:  #000000;\n",
       "        }#T_72692_row9_col11,#T_72692_row11_col9{\n",
       "            background-color:  #a2bcda;\n",
       "            color:  #000000;\n",
       "        }#T_72692_row9_col12,#T_72692_row12_col9{\n",
       "            background-color:  #9cb9d9;\n",
       "            color:  #000000;\n",
       "        }#T_72692_row9_col13,#T_72692_row13_col9{\n",
       "            background-color:  #9ebad9;\n",
       "            color:  #000000;\n",
       "        }#T_72692_row9_col14,#T_72692_row14_col9{\n",
       "            background-color:  #c1cae2;\n",
       "            color:  #000000;\n",
       "        }#T_72692_row9_col15,#T_72692_row15_col9{\n",
       "            background-color:  #f2ecf5;\n",
       "            color:  #000000;\n",
       "        }#T_72692_row9_col16,#T_72692_row16_col9{\n",
       "            background-color:  #5ea0ca;\n",
       "            color:  #000000;\n",
       "        }#T_72692_row10_col16,#T_72692_row16_col10{\n",
       "            background-color:  #0567a1;\n",
       "            color:  #f1f1f1;\n",
       "        }#T_72692_row11_col12,#T_72692_row12_col11{\n",
       "            background-color:  #04629a;\n",
       "            color:  #f1f1f1;\n",
       "        }#T_72692_row11_col14,#T_72692_row14_col11{\n",
       "            background-color:  #308cbe;\n",
       "            color:  #000000;\n",
       "        }#T_72692_row11_col15,#T_72692_row15_col11{\n",
       "            background-color:  #7dacd1;\n",
       "            color:  #000000;\n",
       "        }#T_72692_row11_col16,#T_72692_row16_col11{\n",
       "            background-color:  #0771b1;\n",
       "            color:  #f1f1f1;\n",
       "        }#T_72692_row12_col13,#T_72692_row13_col12{\n",
       "            background-color:  #04649d;\n",
       "            color:  #f1f1f1;\n",
       "        }#T_72692_row12_col15,#T_72692_row15_col12{\n",
       "            background-color:  #88b1d4;\n",
       "            color:  #000000;\n",
       "        }#T_72692_row12_col16,#T_72692_row16_col12{\n",
       "            background-color:  #045e94;\n",
       "            color:  #f1f1f1;\n",
       "        }#T_72692_row13_col14,#T_72692_row14_col13{\n",
       "            background-color:  #2f8bbe;\n",
       "            color:  #000000;\n",
       "        }#T_72692_row13_col16,#T_72692_row16_col13{\n",
       "            background-color:  #056dac;\n",
       "            color:  #f1f1f1;\n",
       "        }#T_72692_row15_col16,#T_72692_row16_col15{\n",
       "            background-color:  #bfc9e1;\n",
       "            color:  #000000;\n",
       "        }</style><table id=\"T_72692_\" ><thead>    <tr>        <th class=\"blank level0\" ></th>        <th class=\"col_heading level0 col0\" >Rt</th>        <th class=\"col_heading level0 col1\" >theta</th>        <th class=\"col_heading level0 col2\" >kappa</th>        <th class=\"col_heading level0 col3\" >rho</th>        <th class=\"col_heading level0 col4\" >sigma</th>        <th class=\"col_heading level0 col5\" >School_closing</th>        <th class=\"col_heading level0 col6\" >Workplace_closing</th>        <th class=\"col_heading level0 col7\" >Cancel_events</th>        <th class=\"col_heading level0 col8\" >Gatherings_restrictions</th>        <th class=\"col_heading level0 col9\" >Transport_closing</th>        <th class=\"col_heading level0 col10\" >Stay_home_restrictions</th>        <th class=\"col_heading level0 col11\" >Internal_movement_restrictions</th>        <th class=\"col_heading level0 col12\" >International_movement_restrictions</th>        <th class=\"col_heading level0 col13\" >Information_campaigns</th>        <th class=\"col_heading level0 col14\" >Testing_policy</th>        <th class=\"col_heading level0 col15\" >Contact_tracing</th>        <th class=\"col_heading level0 col16\" >Stringency_index</th>    </tr></thead><tbody>\n",
       "                <tr>\n",
       "                        <th id=\"T_72692_level0_row0\" class=\"row_heading level0 row0\" >Rt</th>\n",
       "                        <td id=\"T_72692_row0_col0\" class=\"data row0 col0\" >1.000000</td>\n",
       "                        <td id=\"T_72692_row0_col1\" class=\"data row0 col1\" >-0.046996</td>\n",
       "                        <td id=\"T_72692_row0_col2\" class=\"data row0 col2\" >-0.044588</td>\n",
       "                        <td id=\"T_72692_row0_col3\" class=\"data row0 col3\" >0.671582</td>\n",
       "                        <td id=\"T_72692_row0_col4\" class=\"data row0 col4\" >-0.407549</td>\n",
       "                        <td id=\"T_72692_row0_col5\" class=\"data row0 col5\" >-0.202072</td>\n",
       "                        <td id=\"T_72692_row0_col6\" class=\"data row0 col6\" >-0.186611</td>\n",
       "                        <td id=\"T_72692_row0_col7\" class=\"data row0 col7\" >-0.050687</td>\n",
       "                        <td id=\"T_72692_row0_col8\" class=\"data row0 col8\" >-0.167851</td>\n",
       "                        <td id=\"T_72692_row0_col9\" class=\"data row0 col9\" >-0.095275</td>\n",
       "                        <td id=\"T_72692_row0_col10\" class=\"data row0 col10\" >-0.329673</td>\n",
       "                        <td id=\"T_72692_row0_col11\" class=\"data row0 col11\" >-0.321439</td>\n",
       "                        <td id=\"T_72692_row0_col12\" class=\"data row0 col12\" >-0.309028</td>\n",
       "                        <td id=\"T_72692_row0_col13\" class=\"data row0 col13\" >-0.069314</td>\n",
       "                        <td id=\"T_72692_row0_col14\" class=\"data row0 col14\" >-0.217876</td>\n",
       "                        <td id=\"T_72692_row0_col15\" class=\"data row0 col15\" >-0.212909</td>\n",
       "                        <td id=\"T_72692_row0_col16\" class=\"data row0 col16\" >-0.182042</td>\n",
       "            </tr>\n",
       "            <tr>\n",
       "                        <th id=\"T_72692_level0_row1\" class=\"row_heading level0 row1\" >theta</th>\n",
       "                        <td id=\"T_72692_row1_col0\" class=\"data row1 col0\" >-0.046996</td>\n",
       "                        <td id=\"T_72692_row1_col1\" class=\"data row1 col1\" >1.000000</td>\n",
       "                        <td id=\"T_72692_row1_col2\" class=\"data row1 col2\" >0.678297</td>\n",
       "                        <td id=\"T_72692_row1_col3\" class=\"data row1 col3\" >0.054793</td>\n",
       "                        <td id=\"T_72692_row1_col4\" class=\"data row1 col4\" >-0.272748</td>\n",
       "                        <td id=\"T_72692_row1_col5\" class=\"data row1 col5\" >-0.092075</td>\n",
       "                        <td id=\"T_72692_row1_col6\" class=\"data row1 col6\" >-0.145700</td>\n",
       "                        <td id=\"T_72692_row1_col7\" class=\"data row1 col7\" >-0.123449</td>\n",
       "                        <td id=\"T_72692_row1_col8\" class=\"data row1 col8\" >-0.050918</td>\n",
       "                        <td id=\"T_72692_row1_col9\" class=\"data row1 col9\" >0.006016</td>\n",
       "                        <td id=\"T_72692_row1_col10\" class=\"data row1 col10\" >-0.163517</td>\n",
       "                        <td id=\"T_72692_row1_col11\" class=\"data row1 col11\" >-0.215128</td>\n",
       "                        <td id=\"T_72692_row1_col12\" class=\"data row1 col12\" >-0.158729</td>\n",
       "                        <td id=\"T_72692_row1_col13\" class=\"data row1 col13\" >-0.138989</td>\n",
       "                        <td id=\"T_72692_row1_col14\" class=\"data row1 col14\" >-0.199220</td>\n",
       "                        <td id=\"T_72692_row1_col15\" class=\"data row1 col15\" >0.026705</td>\n",
       "                        <td id=\"T_72692_row1_col16\" class=\"data row1 col16\" >-0.098249</td>\n",
       "            </tr>\n",
       "            <tr>\n",
       "                        <th id=\"T_72692_level0_row2\" class=\"row_heading level0 row2\" >kappa</th>\n",
       "                        <td id=\"T_72692_row2_col0\" class=\"data row2 col0\" >-0.044588</td>\n",
       "                        <td id=\"T_72692_row2_col1\" class=\"data row2 col1\" >0.678297</td>\n",
       "                        <td id=\"T_72692_row2_col2\" class=\"data row2 col2\" >1.000000</td>\n",
       "                        <td id=\"T_72692_row2_col3\" class=\"data row2 col3\" >0.317894</td>\n",
       "                        <td id=\"T_72692_row2_col4\" class=\"data row2 col4\" >-0.211667</td>\n",
       "                        <td id=\"T_72692_row2_col5\" class=\"data row2 col5\" >-0.165548</td>\n",
       "                        <td id=\"T_72692_row2_col6\" class=\"data row2 col6\" >-0.260656</td>\n",
       "                        <td id=\"T_72692_row2_col7\" class=\"data row2 col7\" >-0.232704</td>\n",
       "                        <td id=\"T_72692_row2_col8\" class=\"data row2 col8\" >-0.165739</td>\n",
       "                        <td id=\"T_72692_row2_col9\" class=\"data row2 col9\" >0.019585</td>\n",
       "                        <td id=\"T_72692_row2_col10\" class=\"data row2 col10\" >-0.267204</td>\n",
       "                        <td id=\"T_72692_row2_col11\" class=\"data row2 col11\" >-0.346635</td>\n",
       "                        <td id=\"T_72692_row2_col12\" class=\"data row2 col12\" >-0.275064</td>\n",
       "                        <td id=\"T_72692_row2_col13\" class=\"data row2 col13\" >-0.243136</td>\n",
       "                        <td id=\"T_72692_row2_col14\" class=\"data row2 col14\" >-0.228904</td>\n",
       "                        <td id=\"T_72692_row2_col15\" class=\"data row2 col15\" >-0.001494</td>\n",
       "                        <td id=\"T_72692_row2_col16\" class=\"data row2 col16\" >-0.209037</td>\n",
       "            </tr>\n",
       "            <tr>\n",
       "                        <th id=\"T_72692_level0_row3\" class=\"row_heading level0 row3\" >rho</th>\n",
       "                        <td id=\"T_72692_row3_col0\" class=\"data row3 col0\" >0.671582</td>\n",
       "                        <td id=\"T_72692_row3_col1\" class=\"data row3 col1\" >0.054793</td>\n",
       "                        <td id=\"T_72692_row3_col2\" class=\"data row3 col2\" >0.317894</td>\n",
       "                        <td id=\"T_72692_row3_col3\" class=\"data row3 col3\" >1.000000</td>\n",
       "                        <td id=\"T_72692_row3_col4\" class=\"data row3 col4\" >-0.466823</td>\n",
       "                        <td id=\"T_72692_row3_col5\" class=\"data row3 col5\" >-0.393586</td>\n",
       "                        <td id=\"T_72692_row3_col6\" class=\"data row3 col6\" >-0.295920</td>\n",
       "                        <td id=\"T_72692_row3_col7\" class=\"data row3 col7\" >-0.151347</td>\n",
       "                        <td id=\"T_72692_row3_col8\" class=\"data row3 col8\" >-0.222576</td>\n",
       "                        <td id=\"T_72692_row3_col9\" class=\"data row3 col9\" >0.132914</td>\n",
       "                        <td id=\"T_72692_row3_col10\" class=\"data row3 col10\" >-0.304917</td>\n",
       "                        <td id=\"T_72692_row3_col11\" class=\"data row3 col11\" >-0.353965</td>\n",
       "                        <td id=\"T_72692_row3_col12\" class=\"data row3 col12\" >-0.352912</td>\n",
       "                        <td id=\"T_72692_row3_col13\" class=\"data row3 col13\" >-0.152491</td>\n",
       "                        <td id=\"T_72692_row3_col14\" class=\"data row3 col14\" >-0.173360</td>\n",
       "                        <td id=\"T_72692_row3_col15\" class=\"data row3 col15\" >-0.182508</td>\n",
       "                        <td id=\"T_72692_row3_col16\" class=\"data row3 col16\" >-0.247585</td>\n",
       "            </tr>\n",
       "            <tr>\n",
       "                        <th id=\"T_72692_level0_row4\" class=\"row_heading level0 row4\" >sigma</th>\n",
       "                        <td id=\"T_72692_row4_col0\" class=\"data row4 col0\" >-0.407549</td>\n",
       "                        <td id=\"T_72692_row4_col1\" class=\"data row4 col1\" >-0.272748</td>\n",
       "                        <td id=\"T_72692_row4_col2\" class=\"data row4 col2\" >-0.211667</td>\n",
       "                        <td id=\"T_72692_row4_col3\" class=\"data row4 col3\" >-0.466823</td>\n",
       "                        <td id=\"T_72692_row4_col4\" class=\"data row4 col4\" >1.000000</td>\n",
       "                        <td id=\"T_72692_row4_col5\" class=\"data row4 col5\" >0.270673</td>\n",
       "                        <td id=\"T_72692_row4_col6\" class=\"data row4 col6\" >0.323452</td>\n",
       "                        <td id=\"T_72692_row4_col7\" class=\"data row4 col7\" >0.350127</td>\n",
       "                        <td id=\"T_72692_row4_col8\" class=\"data row4 col8\" >0.395132</td>\n",
       "                        <td id=\"T_72692_row4_col9\" class=\"data row4 col9\" >0.281290</td>\n",
       "                        <td id=\"T_72692_row4_col10\" class=\"data row4 col10\" >0.390138</td>\n",
       "                        <td id=\"T_72692_row4_col11\" class=\"data row4 col11\" >0.424256</td>\n",
       "                        <td id=\"T_72692_row4_col12\" class=\"data row4 col12\" >0.457182</td>\n",
       "                        <td id=\"T_72692_row4_col13\" class=\"data row4 col13\" >0.289554</td>\n",
       "                        <td id=\"T_72692_row4_col14\" class=\"data row4 col14\" >0.295233</td>\n",
       "                        <td id=\"T_72692_row4_col15\" class=\"data row4 col15\" >-0.093148</td>\n",
       "                        <td id=\"T_72692_row4_col16\" class=\"data row4 col16\" >0.449779</td>\n",
       "            </tr>\n",
       "            <tr>\n",
       "                        <th id=\"T_72692_level0_row5\" class=\"row_heading level0 row5\" >School_closing</th>\n",
       "                        <td id=\"T_72692_row5_col0\" class=\"data row5 col0\" >-0.202072</td>\n",
       "                        <td id=\"T_72692_row5_col1\" class=\"data row5 col1\" >-0.092075</td>\n",
       "                        <td id=\"T_72692_row5_col2\" class=\"data row5 col2\" >-0.165548</td>\n",
       "                        <td id=\"T_72692_row5_col3\" class=\"data row5 col3\" >-0.393586</td>\n",
       "                        <td id=\"T_72692_row5_col4\" class=\"data row5 col4\" >0.270673</td>\n",
       "                        <td id=\"T_72692_row5_col5\" class=\"data row5 col5\" >1.000000</td>\n",
       "                        <td id=\"T_72692_row5_col6\" class=\"data row5 col6\" >0.374156</td>\n",
       "                        <td id=\"T_72692_row5_col7\" class=\"data row5 col7\" >0.529944</td>\n",
       "                        <td id=\"T_72692_row5_col8\" class=\"data row5 col8\" >0.086669</td>\n",
       "                        <td id=\"T_72692_row5_col9\" class=\"data row5 col9\" >-0.112810</td>\n",
       "                        <td id=\"T_72692_row5_col10\" class=\"data row5 col10\" >0.574673</td>\n",
       "                        <td id=\"T_72692_row5_col11\" class=\"data row5 col11\" >0.572817</td>\n",
       "                        <td id=\"T_72692_row5_col12\" class=\"data row5 col12\" >0.587369</td>\n",
       "                        <td id=\"T_72692_row5_col13\" class=\"data row5 col13\" >0.443360</td>\n",
       "                        <td id=\"T_72692_row5_col14\" class=\"data row5 col14\" >0.150880</td>\n",
       "                        <td id=\"T_72692_row5_col15\" class=\"data row5 col15\" >0.173335</td>\n",
       "                        <td id=\"T_72692_row5_col16\" class=\"data row5 col16\" >0.409513</td>\n",
       "            </tr>\n",
       "            <tr>\n",
       "                        <th id=\"T_72692_level0_row6\" class=\"row_heading level0 row6\" >Workplace_closing</th>\n",
       "                        <td id=\"T_72692_row6_col0\" class=\"data row6 col0\" >-0.186611</td>\n",
       "                        <td id=\"T_72692_row6_col1\" class=\"data row6 col1\" >-0.145700</td>\n",
       "                        <td id=\"T_72692_row6_col2\" class=\"data row6 col2\" >-0.260656</td>\n",
       "                        <td id=\"T_72692_row6_col3\" class=\"data row6 col3\" >-0.295920</td>\n",
       "                        <td id=\"T_72692_row6_col4\" class=\"data row6 col4\" >0.323452</td>\n",
       "                        <td id=\"T_72692_row6_col5\" class=\"data row6 col5\" >0.374156</td>\n",
       "                        <td id=\"T_72692_row6_col6\" class=\"data row6 col6\" >1.000000</td>\n",
       "                        <td id=\"T_72692_row6_col7\" class=\"data row6 col7\" >0.520432</td>\n",
       "                        <td id=\"T_72692_row6_col8\" class=\"data row6 col8\" >0.823044</td>\n",
       "                        <td id=\"T_72692_row6_col9\" class=\"data row6 col9\" >-0.027758</td>\n",
       "                        <td id=\"T_72692_row6_col10\" class=\"data row6 col10\" >0.614938</td>\n",
       "                        <td id=\"T_72692_row6_col11\" class=\"data row6 col11\" >0.569288</td>\n",
       "                        <td id=\"T_72692_row6_col12\" class=\"data row6 col12\" >0.592359</td>\n",
       "                        <td id=\"T_72692_row6_col13\" class=\"data row6 col13\" >0.438263</td>\n",
       "                        <td id=\"T_72692_row6_col14\" class=\"data row6 col14\" >0.258805</td>\n",
       "                        <td id=\"T_72692_row6_col15\" class=\"data row6 col15\" >0.148825</td>\n",
       "                        <td id=\"T_72692_row6_col16\" class=\"data row6 col16\" >0.802698</td>\n",
       "            </tr>\n",
       "            <tr>\n",
       "                        <th id=\"T_72692_level0_row7\" class=\"row_heading level0 row7\" >Cancel_events</th>\n",
       "                        <td id=\"T_72692_row7_col0\" class=\"data row7 col0\" >-0.050687</td>\n",
       "                        <td id=\"T_72692_row7_col1\" class=\"data row7 col1\" >-0.123449</td>\n",
       "                        <td id=\"T_72692_row7_col2\" class=\"data row7 col2\" >-0.232704</td>\n",
       "                        <td id=\"T_72692_row7_col3\" class=\"data row7 col3\" >-0.151347</td>\n",
       "                        <td id=\"T_72692_row7_col4\" class=\"data row7 col4\" >0.350127</td>\n",
       "                        <td id=\"T_72692_row7_col5\" class=\"data row7 col5\" >0.529944</td>\n",
       "                        <td id=\"T_72692_row7_col6\" class=\"data row7 col6\" >0.520432</td>\n",
       "                        <td id=\"T_72692_row7_col7\" class=\"data row7 col7\" >1.000000</td>\n",
       "                        <td id=\"T_72692_row7_col8\" class=\"data row7 col8\" >0.540727</td>\n",
       "                        <td id=\"T_72692_row7_col9\" class=\"data row7 col9\" >0.139721</td>\n",
       "                        <td id=\"T_72692_row7_col10\" class=\"data row7 col10\" >0.636848</td>\n",
       "                        <td id=\"T_72692_row7_col11\" class=\"data row7 col11\" >0.683562</td>\n",
       "                        <td id=\"T_72692_row7_col12\" class=\"data row7 col12\" >0.810421</td>\n",
       "                        <td id=\"T_72692_row7_col13\" class=\"data row7 col13\" >0.868206</td>\n",
       "                        <td id=\"T_72692_row7_col14\" class=\"data row7 col14\" >0.509679</td>\n",
       "                        <td id=\"T_72692_row7_col15\" class=\"data row7 col15\" >0.282087</td>\n",
       "                        <td id=\"T_72692_row7_col16\" class=\"data row7 col16\" >0.706121</td>\n",
       "            </tr>\n",
       "            <tr>\n",
       "                        <th id=\"T_72692_level0_row8\" class=\"row_heading level0 row8\" >Gatherings_restrictions</th>\n",
       "                        <td id=\"T_72692_row8_col0\" class=\"data row8 col0\" >-0.167851</td>\n",
       "                        <td id=\"T_72692_row8_col1\" class=\"data row8 col1\" >-0.050918</td>\n",
       "                        <td id=\"T_72692_row8_col2\" class=\"data row8 col2\" >-0.165739</td>\n",
       "                        <td id=\"T_72692_row8_col3\" class=\"data row8 col3\" >-0.222576</td>\n",
       "                        <td id=\"T_72692_row8_col4\" class=\"data row8 col4\" >0.395132</td>\n",
       "                        <td id=\"T_72692_row8_col5\" class=\"data row8 col5\" >0.086669</td>\n",
       "                        <td id=\"T_72692_row8_col6\" class=\"data row8 col6\" >0.823044</td>\n",
       "                        <td id=\"T_72692_row8_col7\" class=\"data row8 col7\" >0.540727</td>\n",
       "                        <td id=\"T_72692_row8_col8\" class=\"data row8 col8\" >1.000000</td>\n",
       "                        <td id=\"T_72692_row8_col9\" class=\"data row8 col9\" >0.171745</td>\n",
       "                        <td id=\"T_72692_row8_col10\" class=\"data row8 col10\" >0.485599</td>\n",
       "                        <td id=\"T_72692_row8_col11\" class=\"data row8 col11\" >0.496930</td>\n",
       "                        <td id=\"T_72692_row8_col12\" class=\"data row8 col12\" >0.583785</td>\n",
       "                        <td id=\"T_72692_row8_col13\" class=\"data row8 col13\" >0.452199</td>\n",
       "                        <td id=\"T_72692_row8_col14\" class=\"data row8 col14\" >0.202500</td>\n",
       "                        <td id=\"T_72692_row8_col15\" class=\"data row8 col15\" >0.005213</td>\n",
       "                        <td id=\"T_72692_row8_col16\" class=\"data row8 col16\" >0.847482</td>\n",
       "            </tr>\n",
       "            <tr>\n",
       "                        <th id=\"T_72692_level0_row9\" class=\"row_heading level0 row9\" >Transport_closing</th>\n",
       "                        <td id=\"T_72692_row9_col0\" class=\"data row9 col0\" >-0.095275</td>\n",
       "                        <td id=\"T_72692_row9_col1\" class=\"data row9 col1\" >0.006016</td>\n",
       "                        <td id=\"T_72692_row9_col2\" class=\"data row9 col2\" >0.019585</td>\n",
       "                        <td id=\"T_72692_row9_col3\" class=\"data row9 col3\" >0.132914</td>\n",
       "                        <td id=\"T_72692_row9_col4\" class=\"data row9 col4\" >0.281290</td>\n",
       "                        <td id=\"T_72692_row9_col5\" class=\"data row9 col5\" >-0.112810</td>\n",
       "                        <td id=\"T_72692_row9_col6\" class=\"data row9 col6\" >-0.027758</td>\n",
       "                        <td id=\"T_72692_row9_col7\" class=\"data row9 col7\" >0.139721</td>\n",
       "                        <td id=\"T_72692_row9_col8\" class=\"data row9 col8\" >0.171745</td>\n",
       "                        <td id=\"T_72692_row9_col9\" class=\"data row9 col9\" >1.000000</td>\n",
       "                        <td id=\"T_72692_row9_col10\" class=\"data row9 col10\" >0.303762</td>\n",
       "                        <td id=\"T_72692_row9_col11\" class=\"data row9 col11\" >0.100022</td>\n",
       "                        <td id=\"T_72692_row9_col12\" class=\"data row9 col12\" >0.120016</td>\n",
       "                        <td id=\"T_72692_row9_col13\" class=\"data row9 col13\" >0.113635</td>\n",
       "                        <td id=\"T_72692_row9_col14\" class=\"data row9 col14\" >-0.036010</td>\n",
       "                        <td id=\"T_72692_row9_col15\" class=\"data row9 col15\" >-0.338771</td>\n",
       "                        <td id=\"T_72692_row9_col16\" class=\"data row9 col16\" >0.330770</td>\n",
       "            </tr>\n",
       "            <tr>\n",
       "                        <th id=\"T_72692_level0_row10\" class=\"row_heading level0 row10\" >Stay_home_restrictions</th>\n",
       "                        <td id=\"T_72692_row10_col0\" class=\"data row10 col0\" >-0.329673</td>\n",
       "                        <td id=\"T_72692_row10_col1\" class=\"data row10 col1\" >-0.163517</td>\n",
       "                        <td id=\"T_72692_row10_col2\" class=\"data row10 col2\" >-0.267204</td>\n",
       "                        <td id=\"T_72692_row10_col3\" class=\"data row10 col3\" >-0.304917</td>\n",
       "                        <td id=\"T_72692_row10_col4\" class=\"data row10 col4\" >0.390138</td>\n",
       "                        <td id=\"T_72692_row10_col5\" class=\"data row10 col5\" >0.574673</td>\n",
       "                        <td id=\"T_72692_row10_col6\" class=\"data row10 col6\" >0.614938</td>\n",
       "                        <td id=\"T_72692_row10_col7\" class=\"data row10 col7\" >0.636848</td>\n",
       "                        <td id=\"T_72692_row10_col8\" class=\"data row10 col8\" >0.485599</td>\n",
       "                        <td id=\"T_72692_row10_col9\" class=\"data row10 col9\" >0.303762</td>\n",
       "                        <td id=\"T_72692_row10_col10\" class=\"data row10 col10\" >1.000000</td>\n",
       "                        <td id=\"T_72692_row10_col11\" class=\"data row10 col11\" >0.671810</td>\n",
       "                        <td id=\"T_72692_row10_col12\" class=\"data row10 col12\" >0.703351</td>\n",
       "                        <td id=\"T_72692_row10_col13\" class=\"data row10 col13\" >0.572451</td>\n",
       "                        <td id=\"T_72692_row10_col14\" class=\"data row10 col14\" >0.447659</td>\n",
       "                        <td id=\"T_72692_row10_col15\" class=\"data row10 col15\" >0.268951</td>\n",
       "                        <td id=\"T_72692_row10_col16\" class=\"data row10 col16\" >0.710181</td>\n",
       "            </tr>\n",
       "            <tr>\n",
       "                        <th id=\"T_72692_level0_row11\" class=\"row_heading level0 row11\" >Internal_movement_restrictions</th>\n",
       "                        <td id=\"T_72692_row11_col0\" class=\"data row11 col0\" >-0.321439</td>\n",
       "                        <td id=\"T_72692_row11_col1\" class=\"data row11 col1\" >-0.215128</td>\n",
       "                        <td id=\"T_72692_row11_col2\" class=\"data row11 col2\" >-0.346635</td>\n",
       "                        <td id=\"T_72692_row11_col3\" class=\"data row11 col3\" >-0.353965</td>\n",
       "                        <td id=\"T_72692_row11_col4\" class=\"data row11 col4\" >0.424256</td>\n",
       "                        <td id=\"T_72692_row11_col5\" class=\"data row11 col5\" >0.572817</td>\n",
       "                        <td id=\"T_72692_row11_col6\" class=\"data row11 col6\" >0.569288</td>\n",
       "                        <td id=\"T_72692_row11_col7\" class=\"data row11 col7\" >0.683562</td>\n",
       "                        <td id=\"T_72692_row11_col8\" class=\"data row11 col8\" >0.496930</td>\n",
       "                        <td id=\"T_72692_row11_col9\" class=\"data row11 col9\" >0.100022</td>\n",
       "                        <td id=\"T_72692_row11_col10\" class=\"data row11 col10\" >0.671810</td>\n",
       "                        <td id=\"T_72692_row11_col11\" class=\"data row11 col11\" >1.000000</td>\n",
       "                        <td id=\"T_72692_row11_col12\" class=\"data row11 col12\" >0.746075</td>\n",
       "                        <td id=\"T_72692_row11_col13\" class=\"data row11 col13\" >0.564945</td>\n",
       "                        <td id=\"T_72692_row11_col14\" class=\"data row11 col14\" >0.470904</td>\n",
       "                        <td id=\"T_72692_row11_col15\" class=\"data row11 col15\" >0.234130</td>\n",
       "                        <td id=\"T_72692_row11_col16\" class=\"data row11 col16\" >0.627338</td>\n",
       "            </tr>\n",
       "            <tr>\n",
       "                        <th id=\"T_72692_level0_row12\" class=\"row_heading level0 row12\" >International_movement_restrictions</th>\n",
       "                        <td id=\"T_72692_row12_col0\" class=\"data row12 col0\" >-0.309028</td>\n",
       "                        <td id=\"T_72692_row12_col1\" class=\"data row12 col1\" >-0.158729</td>\n",
       "                        <td id=\"T_72692_row12_col2\" class=\"data row12 col2\" >-0.275064</td>\n",
       "                        <td id=\"T_72692_row12_col3\" class=\"data row12 col3\" >-0.352912</td>\n",
       "                        <td id=\"T_72692_row12_col4\" class=\"data row12 col4\" >0.457182</td>\n",
       "                        <td id=\"T_72692_row12_col5\" class=\"data row12 col5\" >0.587369</td>\n",
       "                        <td id=\"T_72692_row12_col6\" class=\"data row12 col6\" >0.592359</td>\n",
       "                        <td id=\"T_72692_row12_col7\" class=\"data row12 col7\" >0.810421</td>\n",
       "                        <td id=\"T_72692_row12_col8\" class=\"data row12 col8\" >0.583785</td>\n",
       "                        <td id=\"T_72692_row12_col9\" class=\"data row12 col9\" >0.120016</td>\n",
       "                        <td id=\"T_72692_row12_col10\" class=\"data row12 col10\" >0.703351</td>\n",
       "                        <td id=\"T_72692_row12_col11\" class=\"data row12 col11\" >0.746075</td>\n",
       "                        <td id=\"T_72692_row12_col12\" class=\"data row12 col12\" >1.000000</td>\n",
       "                        <td id=\"T_72692_row12_col13\" class=\"data row12 col13\" >0.733495</td>\n",
       "                        <td id=\"T_72692_row12_col14\" class=\"data row12 col14\" >0.445209</td>\n",
       "                        <td id=\"T_72692_row12_col15\" class=\"data row12 col15\" >0.193235</td>\n",
       "                        <td id=\"T_72692_row12_col16\" class=\"data row12 col16\" >0.776983</td>\n",
       "            </tr>\n",
       "            <tr>\n",
       "                        <th id=\"T_72692_level0_row13\" class=\"row_heading level0 row13\" >Information_campaigns</th>\n",
       "                        <td id=\"T_72692_row13_col0\" class=\"data row13 col0\" >-0.069314</td>\n",
       "                        <td id=\"T_72692_row13_col1\" class=\"data row13 col1\" >-0.138989</td>\n",
       "                        <td id=\"T_72692_row13_col2\" class=\"data row13 col2\" >-0.243136</td>\n",
       "                        <td id=\"T_72692_row13_col3\" class=\"data row13 col3\" >-0.152491</td>\n",
       "                        <td id=\"T_72692_row13_col4\" class=\"data row13 col4\" >0.289554</td>\n",
       "                        <td id=\"T_72692_row13_col5\" class=\"data row13 col5\" >0.443360</td>\n",
       "                        <td id=\"T_72692_row13_col6\" class=\"data row13 col6\" >0.438263</td>\n",
       "                        <td id=\"T_72692_row13_col7\" class=\"data row13 col7\" >0.868206</td>\n",
       "                        <td id=\"T_72692_row13_col8\" class=\"data row13 col8\" >0.452199</td>\n",
       "                        <td id=\"T_72692_row13_col9\" class=\"data row13 col9\" >0.113635</td>\n",
       "                        <td id=\"T_72692_row13_col10\" class=\"data row13 col10\" >0.572451</td>\n",
       "                        <td id=\"T_72692_row13_col11\" class=\"data row13 col11\" >0.564945</td>\n",
       "                        <td id=\"T_72692_row13_col12\" class=\"data row13 col12\" >0.733495</td>\n",
       "                        <td id=\"T_72692_row13_col13\" class=\"data row13 col13\" >1.000000</td>\n",
       "                        <td id=\"T_72692_row13_col14\" class=\"data row13 col14\" >0.477748</td>\n",
       "                        <td id=\"T_72692_row13_col15\" class=\"data row13 col15\" >0.396086</td>\n",
       "                        <td id=\"T_72692_row13_col16\" class=\"data row13 col16\" >0.654769</td>\n",
       "            </tr>\n",
       "            <tr>\n",
       "                        <th id=\"T_72692_level0_row14\" class=\"row_heading level0 row14\" >Testing_policy</th>\n",
       "                        <td id=\"T_72692_row14_col0\" class=\"data row14 col0\" >-0.217876</td>\n",
       "                        <td id=\"T_72692_row14_col1\" class=\"data row14 col1\" >-0.199220</td>\n",
       "                        <td id=\"T_72692_row14_col2\" class=\"data row14 col2\" >-0.228904</td>\n",
       "                        <td id=\"T_72692_row14_col3\" class=\"data row14 col3\" >-0.173360</td>\n",
       "                        <td id=\"T_72692_row14_col4\" class=\"data row14 col4\" >0.295233</td>\n",
       "                        <td id=\"T_72692_row14_col5\" class=\"data row14 col5\" >0.150880</td>\n",
       "                        <td id=\"T_72692_row14_col6\" class=\"data row14 col6\" >0.258805</td>\n",
       "                        <td id=\"T_72692_row14_col7\" class=\"data row14 col7\" >0.509679</td>\n",
       "                        <td id=\"T_72692_row14_col8\" class=\"data row14 col8\" >0.202500</td>\n",
       "                        <td id=\"T_72692_row14_col9\" class=\"data row14 col9\" >-0.036010</td>\n",
       "                        <td id=\"T_72692_row14_col10\" class=\"data row14 col10\" >0.447659</td>\n",
       "                        <td id=\"T_72692_row14_col11\" class=\"data row14 col11\" >0.470904</td>\n",
       "                        <td id=\"T_72692_row14_col12\" class=\"data row14 col12\" >0.445209</td>\n",
       "                        <td id=\"T_72692_row14_col13\" class=\"data row14 col13\" >0.477748</td>\n",
       "                        <td id=\"T_72692_row14_col14\" class=\"data row14 col14\" >1.000000</td>\n",
       "                        <td id=\"T_72692_row14_col15\" class=\"data row14 col15\" >0.638091</td>\n",
       "                        <td id=\"T_72692_row14_col16\" class=\"data row14 col16\" >0.201348</td>\n",
       "            </tr>\n",
       "            <tr>\n",
       "                        <th id=\"T_72692_level0_row15\" class=\"row_heading level0 row15\" >Contact_tracing</th>\n",
       "                        <td id=\"T_72692_row15_col0\" class=\"data row15 col0\" >-0.212909</td>\n",
       "                        <td id=\"T_72692_row15_col1\" class=\"data row15 col1\" >0.026705</td>\n",
       "                        <td id=\"T_72692_row15_col2\" class=\"data row15 col2\" >-0.001494</td>\n",
       "                        <td id=\"T_72692_row15_col3\" class=\"data row15 col3\" >-0.182508</td>\n",
       "                        <td id=\"T_72692_row15_col4\" class=\"data row15 col4\" >-0.093148</td>\n",
       "                        <td id=\"T_72692_row15_col5\" class=\"data row15 col5\" >0.173335</td>\n",
       "                        <td id=\"T_72692_row15_col6\" class=\"data row15 col6\" >0.148825</td>\n",
       "                        <td id=\"T_72692_row15_col7\" class=\"data row15 col7\" >0.282087</td>\n",
       "                        <td id=\"T_72692_row15_col8\" class=\"data row15 col8\" >0.005213</td>\n",
       "                        <td id=\"T_72692_row15_col9\" class=\"data row15 col9\" >-0.338771</td>\n",
       "                        <td id=\"T_72692_row15_col10\" class=\"data row15 col10\" >0.268951</td>\n",
       "                        <td id=\"T_72692_row15_col11\" class=\"data row15 col11\" >0.234130</td>\n",
       "                        <td id=\"T_72692_row15_col12\" class=\"data row15 col12\" >0.193235</td>\n",
       "                        <td id=\"T_72692_row15_col13\" class=\"data row15 col13\" >0.396086</td>\n",
       "                        <td id=\"T_72692_row15_col14\" class=\"data row15 col14\" >0.638091</td>\n",
       "                        <td id=\"T_72692_row15_col15\" class=\"data row15 col15\" >1.000000</td>\n",
       "                        <td id=\"T_72692_row15_col16\" class=\"data row15 col16\" >-0.023329</td>\n",
       "            </tr>\n",
       "            <tr>\n",
       "                        <th id=\"T_72692_level0_row16\" class=\"row_heading level0 row16\" >Stringency_index</th>\n",
       "                        <td id=\"T_72692_row16_col0\" class=\"data row16 col0\" >-0.182042</td>\n",
       "                        <td id=\"T_72692_row16_col1\" class=\"data row16 col1\" >-0.098249</td>\n",
       "                        <td id=\"T_72692_row16_col2\" class=\"data row16 col2\" >-0.209037</td>\n",
       "                        <td id=\"T_72692_row16_col3\" class=\"data row16 col3\" >-0.247585</td>\n",
       "                        <td id=\"T_72692_row16_col4\" class=\"data row16 col4\" >0.449779</td>\n",
       "                        <td id=\"T_72692_row16_col5\" class=\"data row16 col5\" >0.409513</td>\n",
       "                        <td id=\"T_72692_row16_col6\" class=\"data row16 col6\" >0.802698</td>\n",
       "                        <td id=\"T_72692_row16_col7\" class=\"data row16 col7\" >0.706121</td>\n",
       "                        <td id=\"T_72692_row16_col8\" class=\"data row16 col8\" >0.847482</td>\n",
       "                        <td id=\"T_72692_row16_col9\" class=\"data row16 col9\" >0.330770</td>\n",
       "                        <td id=\"T_72692_row16_col10\" class=\"data row16 col10\" >0.710181</td>\n",
       "                        <td id=\"T_72692_row16_col11\" class=\"data row16 col11\" >0.627338</td>\n",
       "                        <td id=\"T_72692_row16_col12\" class=\"data row16 col12\" >0.776983</td>\n",
       "                        <td id=\"T_72692_row16_col13\" class=\"data row16 col13\" >0.654769</td>\n",
       "                        <td id=\"T_72692_row16_col14\" class=\"data row16 col14\" >0.201348</td>\n",
       "                        <td id=\"T_72692_row16_col15\" class=\"data row16 col15\" >-0.023329</td>\n",
       "                        <td id=\"T_72692_row16_col16\" class=\"data row16 col16\" >1.000000</td>\n",
       "            </tr>\n",
       "    </tbody></table>"
      ],
      "text/plain": [
       "<pandas.io.formats.style.Styler at 0x7f7e8eb86940>"
      ]
     },
     "execution_count": 21,
     "metadata": {},
     "output_type": "execute_result"
    }
   ],
   "source": [
    "# Correlation\n",
    "df = track_df.copy()\n",
    "df.corr().style.background_gradient(axis=None)"
   ]
  },
  {
   "cell_type": "code",
   "execution_count": 22,
   "id": "renewable-perth",
   "metadata": {
    "collapsed": false
   },
   "outputs": [
    {
     "data": {
      "image/png": "[encoded data removed]",
      "text/plain": [
       "<Figure size 432x288 with 1 Axes>"
      ]
     },
     "metadata": {},
     "output_type": "display_data"
    }
   ],
   "source": [
    "# Scatter plot of Stringency index and Rt\n",
    "df = track_df.copy()\n",
    "sns.scatterplot(data=df, x=\"Stringency_index\", y=\"Rt\", hue=\"Country\", legend=\"brief\", marker=\"+\")\n",
    "bbox_to_anchor=(1.02, 0)\n",
    "bbox_loc=\"lower left\"\n",
    "plt.legend(bbox_to_anchor=bbox_to_anchor, loc=bbox_loc, borderaxespad=0)\n",
    "plt.title(\"Relationship of Stringency index and reproduction number\")\n",
    "plt.ylabel(\"Reproduction number\")\n",
    "plt.xlabel(\"Stringency index\")\n",
    "plt.show()"
   ]
  }
 ],
 "metadata": {
  "kernelspec": {
   "display_name": "Python 3.8.2 64-bit ('.venv': venv)",
   "name": "python_defaultSpec_1597669925034"
  },
  "language_info": {
   "codemirror_mode": {
    "name": "ipython",
    "version": 3
   },
   "file_extension": ".py",
   "mimetype": "text/x-python",
   "name": "python",
   "nbconvert_exporter": "python",
   "pygments_lexer": "ipython3",
   "version": "3.8.2-final"
  }
 },
 "nbformat": 4,
 "nbformat_minor": 5
}
