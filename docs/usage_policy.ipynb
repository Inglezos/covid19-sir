{
 "cells": [
  {
   "cell_type": "markdown",
   "metadata": {},
   "source": [
    "# Usage: policy measures\n",
    "Here, we will analyse the relationship of policy measures and parameter values of SIR-derived ODE models. Policy measures are tracked by [Oxford Covid-19 Government Response Tracker (OxCGRT)](https://github.com/OxCGRT/covid-policy-tracker)."
   ]
  },
  {
   "cell_type": "markdown",
   "metadata": {},
   "source": [
    "## Preparation"
   ]
  },
  {
   "cell_type": "code",
   "execution_count": 1,
   "metadata": {
    "collapsed": false
   },
   "outputs": [],
   "source": [
    "# Standard users\n",
    "# !pip install covsirphy\n",
    "# Developers (Note: this notebook is in example directory)\n",
    "import os\n",
    "os.chdir(\"../\")"
   ]
  },
  {
   "cell_type": "code",
   "execution_count": 2,
   "metadata": {
    "collapsed": false
   },
   "outputs": [],
   "source": [
    "from pprint import pprint"
   ]
  },
  {
   "cell_type": "code",
   "execution_count": 3,
   "metadata": {
    "collapsed": false
   },
   "outputs": [
    {
     "data": {
      "text/plain": [
       "'2.14.0'"
      ]
     },
     "execution_count": 3,
     "metadata": {},
     "output_type": "execute_result"
    }
   ],
   "source": [
    "import covsirphy as cs\n",
    "cs.__version__"
   ]
  },
  {
   "cell_type": "code",
   "execution_count": 4,
   "metadata": {
    "collapsed": false,
    "tags": []
   },
   "outputs": [
    {
     "name": "stdout",
     "output_type": "stream",
     "text": [
      "(Secondary source) Guidotti, E., Ardia, D., (2020), \"COVID-19 Data Hub\", Journal of Open Source Software 5(51):2376, doi: 10.21105/joss.02376.\n"
     ]
    }
   ],
   "source": [
    "# Standard users and developers\n",
    "data_loader = cs.DataLoader(\"input\")\n",
    "# The number of cases (JHU style)\n",
    "jhu_data = data_loader.jhu(verbose=False)\n",
    "# Population in each country\n",
    "population_data = data_loader.population(verbose=False)\n",
    "# Government Response Tracker (OxCGRT)\n",
    "oxcgrt_data = data_loader.oxcgrt(verbose=False)\n",
    "# Description/citation\n",
    "print(oxcgrt_data.citation)"
   ]
  },
  {
   "cell_type": "markdown",
   "metadata": {},
   "source": [
    "## Class for policy measure analysis\n",
    "We will `PolicyMeasures` class to find relationship of policy measures and parameter values of SIR-derived ODE models."
   ]
  },
  {
   "cell_type": "code",
   "execution_count": 5,
   "metadata": {
    "collapsed": false,
    "tags": []
   },
   "outputs": [
    {
     "data": {
      "text/plain": [
       "196"
      ]
     },
     "execution_count": 5,
     "metadata": {},
     "output_type": "execute_result"
    }
   ],
   "source": [
    "# Create analyser with tau value 360 [min] (can be changed)\n",
    "analyser = cs.PolicyMeasures(jhu_data, population_data, oxcgrt_data, tau=360)\n",
    "# The number of registerd countries\n",
    "len(analyser.countries)"
   ]
  },
  {
   "cell_type": "code",
   "execution_count": 6,
   "metadata": {
    "collapsed": false
   },
   "outputs": [
    {
     "data": {
      "text/plain": [
       "covsirphy.analysis.scenario.Scenario"
      ]
     },
     "execution_count": 6,
     "metadata": {},
     "output_type": "execute_result"
    }
   ],
   "source": [
    "# We can get Scenario instance for detailed scenario analysis\n",
    "type(analyser.scenario(\"Japan\"))"
   ]
  },
  {
   "cell_type": "markdown",
   "metadata": {},
   "source": [
    "## Set phases with S-R trend analysis\n",
    "We will perform S-R trend analysis to set phases in all countries. Countries which do not have **17th phases** will be un-registered for the next analysis. This number will be adjusted for your analysis."
   ]
  },
  {
   "cell_type": "code",
   "execution_count": 7,
   "metadata": {
    "collapsed": false
   },
   "outputs": [
    {
     "name": "stdout",
     "output_type": "stream",
     "text": [
      "{2: ['Holy See', 'Solomon Islands', 'Timor-Leste', 'Laos'],\n",
      " 3: ['Saint Kitts and Nevis'],\n",
      " 4: ['Tanzania', 'Brunei', 'Fiji'],\n",
      " 5: ['Equatorial Guinea', 'Dominica', 'Grenada'],\n",
      " 6: ['Cambodia', 'Saint Lucia', 'Mauritius'],\n",
      " 7: ['Saint Vincent and the Grenadines', 'Seychelles', 'Antigua and Barbuda'],\n",
      " 8: ['Liechtenstein', 'Bahamas', 'Kyrgyzstan', 'Northern Mariana Islands',\n",
      "     'Barbados', 'Trinidad and Tobago', 'Madagascar', 'Gambia'],\n",
      " 9: ['Ghana', 'Uzbekistan', 'Australia', 'Oman', 'Philippines',\n",
      "     'Sao Tome and Principe', 'Jamaica', 'Vietnam'],\n",
      " 10: ['Chile', 'Bhutan', 'Libya', 'Senegal', 'Suriname', 'Zimbabwe', 'Burundi',\n",
      "      'Guam', 'Iraq', 'Guatemala', 'Angola', 'Papua New Guinea', 'Ethiopia',\n",
      "      'Rwanda', 'Venezuela', 'Andorra', 'Djibouti', 'Bolivia', 'Kazakhstan',\n",
      "      'Maldives', 'Mongolia', 'Honduras', 'Mozambique', 'Lesotho', 'Bahrain',\n",
      "      'Zambia', 'Botswana', 'El Salvador', 'Kuwait', 'Monaco', 'Eritrea',\n",
      "      'Cape Verde', 'Republic of the Congo', 'Guyana', 'Singapore', 'Benin',\n",
      "      'Malawi', 'Virgin Islands, U.S.', 'India', 'Kenya', 'Iceland'],\n",
      " 11: ['Belize', 'Nicaragua', 'Bermuda', 'Peru', 'Algeria', 'Brazil', 'Paraguay',\n",
      "      'South Africa', 'Ecuador', 'Yemen', 'Gabon', 'Sudan', 'Saudi Arabia',\n",
      "      'Colombia', 'Taiwan', 'Liberia', 'Israel', 'Pakistan', 'Bangladesh',\n",
      "      'Comoros', 'New Zealand', 'Dominican Republic', 'Costa Rica', 'Argentina',\n",
      "      'Syria', 'Namibia', 'Nepal', \"Cote d'Ivoire\", 'Swaziland'],\n",
      " 12: ['Somalia', 'Niger', 'Chad', 'Panama', 'Uganda', 'Puerto Rico',\n",
      "      'South Sudan', 'Nigeria', 'Morocco', 'Central African Republic',\n",
      "      'Guinea-Bissau', 'Montenegro', 'Togo', 'Sierra Leone', 'Slovenia',\n",
      "      'Democratic Republic of the Congo', 'Egypt', 'Mexico', 'Myanmar',\n",
      "      'Cameroon', 'Kosovo', 'Guinea', 'Georgia'],\n",
      " 13: ['Afghanistan', 'Qatar', 'United Arab Emirates', 'Armenia', 'Japan',\n",
      "      'Tajikistan', 'Burkina Faso', 'Jordan', 'Slovakia', 'Moldova',\n",
      "      'Indonesia', 'Malta', 'Palestine', 'Croatia', 'China', 'Cyprus',\n",
      "      'Lithuania'],\n",
      " 14: ['Hungary', 'Serbia', 'United States', 'Russia', 'Belarus', 'Mali',\n",
      "      'Haiti', 'Iran', 'Spain', 'Latvia', 'Azerbaijan', 'San Marino', 'Cuba',\n",
      "      'Bosnia and Herzegovina'],\n",
      " 15: ['Bulgaria', 'Ireland', 'Tunisia', 'Lebanon', 'Uruguay', 'Austria',\n",
      "      'Sri Lanka', 'Poland', 'Estonia', 'Thailand', 'Greece', 'Mauritania',\n",
      "      'Albania', 'Switzerland', 'North Macedonia', 'Luxembourg', 'Turkey',\n",
      "      'Belgium', 'France'],\n",
      " 16: ['Ukraine', 'Romania', 'Czech Republic', 'Denmark', 'Canada', 'Sweden'],\n",
      " 17: ['Italy', 'Netherlands', 'Finland', 'Portugal', 'United Kingdom', 'Norway',\n",
      "      'Malaysia'],\n",
      " 18: ['Germany']}\n"
     ]
    }
   ],
   "source": [
    "# Show the number of phases of all countries\n",
    "analyser.trend()\n",
    "pprint(analyser.phase_len(), compact=True)"
   ]
  },
  {
   "cell_type": "code",
   "execution_count": 8,
   "metadata": {
    "collapsed": false
   },
   "outputs": [
    {
     "data": {
      "text/plain": [
       "8"
      ]
     },
     "execution_count": 8,
     "metadata": {},
     "output_type": "execute_result"
    }
   ],
   "source": [
    "# Set phases with S-R trend analysis\n",
    "analyser.trend(min_len=17)\n",
    "# The number of countries\n",
    "len(analyser.countries)"
   ]
  },
  {
   "cell_type": "code",
   "execution_count": 9,
   "metadata": {
    "collapsed": false,
    "tags": []
   },
   "outputs": [
    {
     "name": "stdout",
     "output_type": "stream",
     "text": [
      "{17: ['Italy', 'Netherlands', 'Finland', 'Portugal', 'United Kingdom', 'Norway',\n",
      "      'Malaysia'],\n",
      " 18: ['Germany']}\n"
     ]
    }
   ],
   "source": [
    "phase_len_dict = analyser.phase_len()\n",
    "pprint(phase_len_dict, compact=True)"
   ]
  },
  {
   "cell_type": "code",
   "execution_count": 10,
   "metadata": {
    "collapsed": false,
    "tags": []
   },
   "outputs": [
    {
     "data": {
      "text/html": [
       "<div>\n",
       "<style scoped>\n",
       "    .dataframe tbody tr th:only-of-type {\n",
       "        vertical-align: middle;\n",
       "    }\n",
       "\n",
       "    .dataframe tbody tr th {\n",
       "        vertical-align: top;\n",
       "    }\n",
       "\n",
       "    .dataframe thead th {\n",
       "        text-align: right;\n",
       "    }\n",
       "</style>\n",
       "<table border=\"1\" class=\"dataframe\">\n",
       "  <thead>\n",
       "    <tr style=\"text-align: right;\">\n",
       "      <th></th>\n",
       "      <th></th>\n",
       "      <th>Type</th>\n",
       "      <th>Start</th>\n",
       "      <th>End</th>\n",
       "      <th>Population</th>\n",
       "    </tr>\n",
       "    <tr>\n",
       "      <th>Country</th>\n",
       "      <th>Phase</th>\n",
       "      <th></th>\n",
       "      <th></th>\n",
       "      <th></th>\n",
       "      <th></th>\n",
       "    </tr>\n",
       "  </thead>\n",
       "  <tbody>\n",
       "    <tr>\n",
       "      <th rowspan=\"18\" valign=\"top\">Germany</th>\n",
       "      <th>0th</th>\n",
       "      <td>Past</td>\n",
       "      <td>19Jan2020</td>\n",
       "      <td>23Mar2020</td>\n",
       "      <td>82905782</td>\n",
       "    </tr>\n",
       "    <tr>\n",
       "      <th>1st</th>\n",
       "      <td>Past</td>\n",
       "      <td>24Mar2020</td>\n",
       "      <td>04Apr2020</td>\n",
       "      <td>82905782</td>\n",
       "    </tr>\n",
       "    <tr>\n",
       "      <th>2nd</th>\n",
       "      <td>Past</td>\n",
       "      <td>05Apr2020</td>\n",
       "      <td>21Apr2020</td>\n",
       "      <td>82905782</td>\n",
       "    </tr>\n",
       "    <tr>\n",
       "      <th>3rd</th>\n",
       "      <td>Past</td>\n",
       "      <td>22Apr2020</td>\n",
       "      <td>17Jun2020</td>\n",
       "      <td>82905782</td>\n",
       "    </tr>\n",
       "    <tr>\n",
       "      <th>4th</th>\n",
       "      <td>Past</td>\n",
       "      <td>18Jun2020</td>\n",
       "      <td>15Aug2020</td>\n",
       "      <td>82905782</td>\n",
       "    </tr>\n",
       "    <tr>\n",
       "      <th>5th</th>\n",
       "      <td>Past</td>\n",
       "      <td>16Aug2020</td>\n",
       "      <td>16Sep2020</td>\n",
       "      <td>82905782</td>\n",
       "    </tr>\n",
       "    <tr>\n",
       "      <th>6th</th>\n",
       "      <td>Past</td>\n",
       "      <td>17Sep2020</td>\n",
       "      <td>08Oct2020</td>\n",
       "      <td>82905782</td>\n",
       "    </tr>\n",
       "    <tr>\n",
       "      <th>7th</th>\n",
       "      <td>Past</td>\n",
       "      <td>09Oct2020</td>\n",
       "      <td>20Oct2020</td>\n",
       "      <td>82905782</td>\n",
       "    </tr>\n",
       "    <tr>\n",
       "      <th>8th</th>\n",
       "      <td>Past</td>\n",
       "      <td>21Oct2020</td>\n",
       "      <td>27Oct2020</td>\n",
       "      <td>82905782</td>\n",
       "    </tr>\n",
       "    <tr>\n",
       "      <th>9th</th>\n",
       "      <td>Past</td>\n",
       "      <td>28Oct2020</td>\n",
       "      <td>03Nov2020</td>\n",
       "      <td>82905782</td>\n",
       "    </tr>\n",
       "    <tr>\n",
       "      <th>10th</th>\n",
       "      <td>Past</td>\n",
       "      <td>04Nov2020</td>\n",
       "      <td>10Nov2020</td>\n",
       "      <td>82905782</td>\n",
       "    </tr>\n",
       "    <tr>\n",
       "      <th>11th</th>\n",
       "      <td>Past</td>\n",
       "      <td>11Nov2020</td>\n",
       "      <td>17Nov2020</td>\n",
       "      <td>82905782</td>\n",
       "    </tr>\n",
       "    <tr>\n",
       "      <th>12th</th>\n",
       "      <td>Past</td>\n",
       "      <td>18Nov2020</td>\n",
       "      <td>24Nov2020</td>\n",
       "      <td>82905782</td>\n",
       "    </tr>\n",
       "    <tr>\n",
       "      <th>13th</th>\n",
       "      <td>Past</td>\n",
       "      <td>25Nov2020</td>\n",
       "      <td>01Dec2020</td>\n",
       "      <td>82905782</td>\n",
       "    </tr>\n",
       "    <tr>\n",
       "      <th>14th</th>\n",
       "      <td>Past</td>\n",
       "      <td>02Dec2020</td>\n",
       "      <td>08Dec2020</td>\n",
       "      <td>82905782</td>\n",
       "    </tr>\n",
       "    <tr>\n",
       "      <th>15th</th>\n",
       "      <td>Past</td>\n",
       "      <td>09Dec2020</td>\n",
       "      <td>14Dec2020</td>\n",
       "      <td>82905782</td>\n",
       "    </tr>\n",
       "    <tr>\n",
       "      <th>16th</th>\n",
       "      <td>Past</td>\n",
       "      <td>15Dec2020</td>\n",
       "      <td>20Dec2020</td>\n",
       "      <td>82905782</td>\n",
       "    </tr>\n",
       "    <tr>\n",
       "      <th>17th</th>\n",
       "      <td>Past</td>\n",
       "      <td>21Dec2020</td>\n",
       "      <td>31Dec2020</td>\n",
       "      <td>82905782</td>\n",
       "    </tr>\n",
       "  </tbody>\n",
       "</table>\n",
       "</div>"
      ],
      "text/plain": [
       "               Type      Start        End  Population\n",
       "Country Phase                                        \n",
       "Germany 0th    Past  19Jan2020  23Mar2020    82905782\n",
       "        1st    Past  24Mar2020  04Apr2020    82905782\n",
       "        2nd    Past  05Apr2020  21Apr2020    82905782\n",
       "        3rd    Past  22Apr2020  17Jun2020    82905782\n",
       "        4th    Past  18Jun2020  15Aug2020    82905782\n",
       "        5th    Past  16Aug2020  16Sep2020    82905782\n",
       "        6th    Past  17Sep2020  08Oct2020    82905782\n",
       "        7th    Past  09Oct2020  20Oct2020    82905782\n",
       "        8th    Past  21Oct2020  27Oct2020    82905782\n",
       "        9th    Past  28Oct2020  03Nov2020    82905782\n",
       "        10th   Past  04Nov2020  10Nov2020    82905782\n",
       "        11th   Past  11Nov2020  17Nov2020    82905782\n",
       "        12th   Past  18Nov2020  24Nov2020    82905782\n",
       "        13th   Past  25Nov2020  01Dec2020    82905782\n",
       "        14th   Past  02Dec2020  08Dec2020    82905782\n",
       "        15th   Past  09Dec2020  14Dec2020    82905782\n",
       "        16th   Past  15Dec2020  20Dec2020    82905782\n",
       "        17th   Past  21Dec2020  31Dec2020    82905782"
      ]
     },
     "execution_count": 10,
     "metadata": {},
     "output_type": "execute_result"
    }
   ],
   "source": [
    "# Here, only show the countries which have the most phases\n",
    "countries_show = max(phase_len_dict.items(), key=lambda x: x[0])[1]\n",
    "# Show summary\n",
    "analyser.summary(countries=countries_show)"
   ]
  },
  {
   "cell_type": "markdown",
   "metadata": {},
   "source": [
    "## Parameter estimation\n",
    "we will estimate the parameter values with SIR-derived ODE models in each country."
   ]
  },
  {
   "cell_type": "code",
   "execution_count": 11,
   "metadata": {
    "collapsed": false,
    "tags": []
   },
   "outputs": [
    {
     "name": "stdout",
     "output_type": "stream",
     "text": [
      "\n",
      "<SIR-F model: parameter estimation>\n",
      "Running optimization with 4 CPUs...\n"
     ]
    },
    {
     "name": "stdout",
     "output_type": "stream",
     "text": [
      "\tNOR,  9th phase (29Oct2020 - 03Nov2020): finished  230 trials in 0 min 10 sec"
     ]
    },
    {
     "name": "stdout",
     "output_type": "stream",
     "text": [
      "\n"
     ]
    },
    {
     "name": "stdout",
     "output_type": "stream",
     "text": [
      "\tMYS, 10th phase (03Nov2020 - 12Nov2020): finished  229 trials in 0 min 10 sec"
     ]
    },
    {
     "name": "stdout",
     "output_type": "stream",
     "text": [
      "\n"
     ]
    },
    {
     "name": "stdout",
     "output_type": "stream",
     "text": [
      "\tPRT,  6th phase (25Sep2020 - 12Oct2020): finished  227 trials in 0 min 10 sec"
     ]
    },
    {
     "name": "stdout",
     "output_type": "stream",
     "text": [
      "\n"
     ]
    },
    {
     "name": "stdout",
     "output_type": "stream",
     "text": [
      "\tNLD,  1st phase (08Apr2020 - 01May2020): finished  223 trials in 0 min 10 sec"
     ]
    },
    {
     "name": "stdout",
     "output_type": "stream",
     "text": [
      "\n"
     ]
    },
    {
     "name": "stdout",
     "output_type": "stream",
     "text": [
      "\tDEU,  1st phase (24Mar2020 - 04Apr2020): finished  254 trials in 0 min 10 sec"
     ]
    },
    {
     "name": "stdout",
     "output_type": "stream",
     "text": [
      "\n"
     ]
    },
    {
     "name": "stdout",
     "output_type": "stream",
     "text": [
      "\tNOR,  5th phase (03Sep2020 - 19Sep2020): finished  255 trials in 0 min 10 sec"
     ]
    },
    {
     "name": "stdout",
     "output_type": "stream",
     "text": [
      "\n"
     ]
    },
    {
     "name": "stdout",
     "output_type": "stream",
     "text": [
      "\tMYS, 15th phase (15Dec2020 - 24Dec2020): finished  259 trials in 0 min 10 sec"
     ]
    },
    {
     "name": "stdout",
     "output_type": "stream",
     "text": [
      "\n"
     ]
    },
    {
     "name": "stdout",
     "output_type": "stream",
     "text": [
      "\tMYS,  4th phase (02Jun2020 - 10Sep2020): finished  234 trials in 0 min 10 sec"
     ]
    },
    {
     "name": "stdout",
     "output_type": "stream",
     "text": [
      "\n"
     ]
    },
    {
     "name": "stdout",
     "output_type": "stream",
     "text": [
      "\tMYS, 14th phase (05Dec2020 - 14Dec2020): finished  232 trials in 0 min 10 sec"
     ]
    },
    {
     "name": "stdout",
     "output_type": "stream",
     "text": [
      "\n"
     ]
    },
    {
     "name": "stdout",
     "output_type": "stream",
     "text": [
      "\tDEU,  6th phase (17Sep2020 - 08Oct2020): finished  227 trials in 0 min 10 sec"
     ]
    },
    {
     "name": "stdout",
     "output_type": "stream",
     "text": [
      "\n"
     ]
    },
    {
     "name": "stdout",
     "output_type": "stream",
     "text": [
      "\tITA,  9th phase (28Oct2020 - 06Nov2020): finished  237 trials in 0 min 10 sec"
     ]
    },
    {
     "name": "stdout",
     "output_type": "stream",
     "text": [
      "\n"
     ]
    },
    {
     "name": "stdout",
     "output_type": "stream",
     "text": [
      "\tPRT,  1st phase (08Apr2020 - 05May2020): finished  231 trials in 0 min 10 sec"
     ]
    },
    {
     "name": "stdout",
     "output_type": "stream",
     "text": [
      "\n"
     ]
    },
    {
     "name": "stdout",
     "output_type": "stream",
     "text": [
      "\tDEU, 15th phase (09Dec2020 - 14Dec2020): finished  262 trials in 0 min 10 sec"
     ]
    },
    {
     "name": "stdout",
     "output_type": "stream",
     "text": [
      "\n"
     ]
    },
    {
     "name": "stdout",
     "output_type": "stream",
     "text": [
      "\tFIN,  3rd phase (05May2020 - 27May2020): finished  256 trials in 0 min 10 sec"
     ]
    },
    {
     "name": "stdout",
     "output_type": "stream",
     "text": [
      "\n"
     ]
    },
    {
     "name": "stdout",
     "output_type": "stream",
     "text": [
      "\tMYS,  9th phase (28Oct2020 - 02Nov2020): finished  264 trials in 0 min 10 sec"
     ]
    },
    {
     "name": "stdout",
     "output_type": "stream",
     "text": [
      "\n"
     ]
    },
    {
     "name": "stdout",
     "output_type": "stream",
     "text": [
      "\tFIN, 12th phase (26Nov2020 - 01Dec2020): finished  263 trials in 0 min 10 sec"
     ]
    },
    {
     "name": "stdout",
     "output_type": "stream",
     "text": [
      "\n"
     ]
    },
    {
     "name": "stdout",
     "output_type": "stream",
     "text": [
      "\tPRT, 12th phase (26Nov2020 - 02Dec2020): finished  245 trials in 0 min 10 sec"
     ]
    },
    {
     "name": "stdout",
     "output_type": "stream",
     "text": [
      "\n"
     ]
    },
    {
     "name": "stdout",
     "output_type": "stream",
     "text": [
      "\tFIN, 16th phase (22Dec2020 - 31Dec2020): finished  243 trials in 0 min 10 sec"
     ]
    },
    {
     "name": "stdout",
     "output_type": "stream",
     "text": [
      "\n"
     ]
    },
    {
     "name": "stdout",
     "output_type": "stream",
     "text": [
      "\tFIN,  6th phase (23Sep2020 - 07Oct2020): finished  242 trials in 0 min 10 sec"
     ]
    },
    {
     "name": "stdout",
     "output_type": "stream",
     "text": [
      "\n"
     ]
    },
    {
     "name": "stdout",
     "output_type": "stream",
     "text": [
      "\tPRT,  9th phase (29Oct2020 - 04Nov2020): finished  243 trials in 0 min 10 sec"
     ]
    },
    {
     "name": "stdout",
     "output_type": "stream",
     "text": [
      "\n"
     ]
    },
    {
     "name": "stdout",
     "output_type": "stream",
     "text": [
      "\tGBR,  7th phase (13Oct2020 - 20Oct2020): finished  260 trials in 0 min 10 sec"
     ]
    },
    {
     "name": "stdout",
     "output_type": "stream",
     "text": [
      "\n"
     ]
    },
    {
     "name": "stdout",
     "output_type": "stream",
     "text": [
      "\tDEU, 16th phase (15Dec2020 - 20Dec2020): finished  260 trials in 0 min 10 sec"
     ]
    },
    {
     "name": "stdout",
     "output_type": "stream",
     "text": [
      "\n"
     ]
    },
    {
     "name": "stdout",
     "output_type": "stream",
     "text": [
      "\tGBR,  5th phase (17Sep2020 - 02Oct2020): finished  256 trials in 0 min 10 sec"
     ]
    },
    {
     "name": "stdout",
     "output_type": "stream",
     "text": [
      "\n"
     ]
    },
    {
     "name": "stdout",
     "output_type": "stream",
     "text": [
      "\tNLD,  7th phase (14Oct2020 - 19Oct2020): finished  259 trials in 0 min 10 sec"
     ]
    },
    {
     "name": "stdout",
     "output_type": "stream",
     "text": [
      "\n"
     ]
    },
    {
     "name": "stdout",
     "output_type": "stream",
     "text": [
      "\tFIN,  8th phase (19Oct2020 - 28Oct2020): finished  246 trials in 0 min 10 sec"
     ]
    },
    {
     "name": "stdout",
     "output_type": "stream",
     "text": [
      "\n"
     ]
    },
    {
     "name": "stdout",
     "output_type": "stream",
     "text": [
      "\tMYS, 13th phase (29Nov2020 - 04Dec2020): finished  249 trials in 0 min 10 sec"
     ]
    },
    {
     "name": "stdout",
     "output_type": "stream",
     "text": [
      "\n"
     ]
    },
    {
     "name": "stdout",
     "output_type": "stream",
     "text": [
      "\tMYS,  8th phase (18Oct2020 - 27Oct2020): finished  250 trials in 0 min 10 sec"
     ]
    },
    {
     "name": "stdout",
     "output_type": "stream",
     "text": [
      "\n"
     ]
    },
    {
     "name": "stdout",
     "output_type": "stream",
     "text": [
      "\tNOR,  0th phase (15Mar2020 - 25Mar2020): finished  251 trials in 0 min 10 sec"
     ]
    },
    {
     "name": "stdout",
     "output_type": "stream",
     "text": [
      "\n"
     ]
    },
    {
     "name": "stdout",
     "output_type": "stream",
     "text": [
      "\tITA,  4th phase (12May2020 - 28Aug2020): finished  218 trials in 0 min 10 sec"
     ]
    },
    {
     "name": "stdout",
     "output_type": "stream",
     "text": [
      "\n"
     ]
    },
    {
     "name": "stdout",
     "output_type": "stream",
     "text": [
      "\tITA,  5th phase (29Aug2020 - 30Sep2020): finished  236 trials in 0 min 10 sec"
     ]
    },
    {
     "name": "stdout",
     "output_type": "stream",
     "text": [
      "\n"
     ]
    },
    {
     "name": "stdout",
     "output_type": "stream",
     "text": [
      "\tNLD, 15th phase (10Dec2020 - 19Dec2020): finished  242 trials in 0 min 10 sec"
     ]
    },
    {
     "name": "stdout",
     "output_type": "stream",
     "text": [
      "\n"
     ]
    },
    {
     "name": "stdout",
     "output_type": "stream",
     "text": [
      "\tMYS,  1st phase (25Mar2020 - 08Apr2020): finished  240 trials in 0 min 10 sec"
     ]
    },
    {
     "name": "stdout",
     "output_type": "stream",
     "text": [
      "\n"
     ]
    },
    {
     "name": "stdout",
     "output_type": "stream",
     "text": [
      "\tNLD,  5th phase (27Sep2020 - 06Oct2020): finished  239 trials in 0 min 10 sec"
     ]
    },
    {
     "name": "stdout",
     "output_type": "stream",
     "text": [
      "\n"
     ]
    },
    {
     "name": "stdout",
     "output_type": "stream",
     "text": [
      "\tITA, 12th phase (27Nov2020 - 02Dec2020): finished  240 trials in 0 min 10 sec"
     ]
    },
    {
     "name": "stdout",
     "output_type": "stream",
     "text": [
      "\n"
     ]
    },
    {
     "name": "stdout",
     "output_type": "stream",
     "text": [
      "\tITA, 15th phase (16Dec2020 - 22Dec2020): finished  240 trials in 0 min 10 sec"
     ]
    },
    {
     "name": "stdout",
     "output_type": "stream",
     "text": [
      "\n"
     ]
    },
    {
     "name": "stdout",
     "output_type": "stream",
     "text": [
      "\tGBR, 13th phase (25Nov2020 - 02Dec2020): finished  240 trials in 0 min 10 sec"
     ]
    },
    {
     "name": "stdout",
     "output_type": "stream",
     "text": [
      "\n"
     ]
    },
    {
     "name": "stdout",
     "output_type": "stream",
     "text": [
      "\tFIN,  7th phase (08Oct2020 - 18Oct2020): finished  237 trials in 0 min 10 sec"
     ]
    },
    {
     "name": "stdout",
     "output_type": "stream",
     "text": [
      "\n"
     ]
    },
    {
     "name": "stdout",
     "output_type": "stream",
     "text": [
      "\tPRT,  7th phase (13Oct2020 - 21Oct2020): finished  234 trials in 0 min 10 sec"
     ]
    },
    {
     "name": "stdout",
     "output_type": "stream",
     "text": [
      "\n"
     ]
    },
    {
     "name": "stdout",
     "output_type": "stream",
     "text": [
      "\tGBR, 16th phase (16Dec2020 - 31Dec2020): finished  234 trials in 0 min 10 sec"
     ]
    },
    {
     "name": "stdout",
     "output_type": "stream",
     "text": [
      "\n"
     ]
    },
    {
     "name": "stdout",
     "output_type": "stream",
     "text": [
      "\tDEU,  4th phase (18Jun2020 - 15Aug2020): finished  226 trials in 0 min 10 sec"
     ]
    },
    {
     "name": "stdout",
     "output_type": "stream",
     "text": [
      "\n"
     ]
    },
    {
     "name": "stdout",
     "output_type": "stream",
     "text": [
      "\tMYS, 16th phase (25Dec2020 - 31Dec2020): finished  243 trials in 0 min 10 sec"
     ]
    },
    {
     "name": "stdout",
     "output_type": "stream",
     "text": [
      "\n"
     ]
    },
    {
     "name": "stdout",
     "output_type": "stream",
     "text": [
      "\tFIN,  1st phase (05Apr2020 - 19Apr2020): finished  239 trials in 0 min 10 sec"
     ]
    },
    {
     "name": "stdout",
     "output_type": "stream",
     "text": [
      "\n"
     ]
    },
    {
     "name": "stdout",
     "output_type": "stream",
     "text": [
      "\tITA, 13th phase (03Dec2020 - 09Dec2020): finished  243 trials in 0 min 10 sec"
     ]
    },
    {
     "name": "stdout",
     "output_type": "stream",
     "text": [
      "\n"
     ]
    },
    {
     "name": "stdout",
     "output_type": "stream",
     "text": [
      "\tITA, 10th phase (07Nov2020 - 16Nov2020): finished  242 trials in 0 min 10 sec"
     ]
    },
    {
     "name": "stdout",
     "output_type": "stream",
     "text": [
      "\n"
     ]
    },
    {
     "name": "stdout",
     "output_type": "stream",
     "text": [
      "\tFIN,  5th phase (21Aug2020 - 22Sep2020): finished  236 trials in 0 min 10 sec"
     ]
    },
    {
     "name": "stdout",
     "output_type": "stream",
     "text": [
      "\n"
     ]
    },
    {
     "name": "stdout",
     "output_type": "stream",
     "text": [
      "\tFIN,  9th phase (29Oct2020 - 08Nov2020): finished  239 trials in 0 min 10 sec"
     ]
    },
    {
     "name": "stdout",
     "output_type": "stream",
     "text": [
      "\n"
     ]
    },
    {
     "name": "stdout",
     "output_type": "stream",
     "text": [
      "\tDEU,  0th phase (19Jan2020 - 23Mar2020): finished  226 trials in 0 min 10 sec"
     ]
    },
    {
     "name": "stdout",
     "output_type": "stream",
     "text": [
      "\n"
     ]
    },
    {
     "name": "stdout",
     "output_type": "stream",
     "text": [
      "\tITA,  1st phase (20Mar2020 - 31Mar2020): finished  238 trials in 0 min 10 sec"
     ]
    },
    {
     "name": "stdout",
     "output_type": "stream",
     "text": [
      "\n"
     ]
    },
    {
     "name": "stdout",
     "output_type": "stream",
     "text": [
      "\tPRT, 10th phase (05Nov2020 - 14Nov2020): finished  238 trials in 0 min 10 sec"
     ]
    },
    {
     "name": "stdout",
     "output_type": "stream",
     "text": [
      "\n"
     ]
    },
    {
     "name": "stdout",
     "output_type": "stream",
     "text": [
      "\tNLD, 12th phase (19Nov2020 - 25Nov2020): finished  237 trials in 0 min 10 sec"
     ]
    },
    {
     "name": "stdout",
     "output_type": "stream",
     "text": [
      "\n"
     ]
    },
    {
     "name": "stdout",
     "output_type": "stream",
     "text": [
      "\tITA, 16th phase (23Dec2020 - 31Dec2020): finished  237 trials in 0 min 10 sec"
     ]
    },
    {
     "name": "stdout",
     "output_type": "stream",
     "text": [
      "\n"
     ]
    },
    {
     "name": "stdout",
     "output_type": "stream",
     "text": [
      "\tITA, 11th phase (17Nov2020 - 26Nov2020): finished  239 trials in 0 min 10 sec"
     ]
    },
    {
     "name": "stdout",
     "output_type": "stream",
     "text": [
      "\n"
     ]
    },
    {
     "name": "stdout",
     "output_type": "stream",
     "text": [
      "\tNOR,  1st phase (26Mar2020 - 05Apr2020): finished  224 trials in 0 min 10 sec"
     ]
    },
    {
     "name": "stdout",
     "output_type": "stream",
     "text": [
      "\n"
     ]
    },
    {
     "name": "stdout",
     "output_type": "stream",
     "text": [
      "\tFIN,  0th phase (17Mar2020 - 04Apr2020): finished  220 trials in 0 min 10 sec"
     ]
    },
    {
     "name": "stdout",
     "output_type": "stream",
     "text": [
      "\n"
     ]
    },
    {
     "name": "stdout",
     "output_type": "stream",
     "text": [
      "\tITA,  3rd phase (17Apr2020 - 11May2020): finished  217 trials in 0 min 10 sec"
     ]
    },
    {
     "name": "stdout",
     "output_type": "stream",
     "text": [
      "\n"
     ]
    },
    {
     "name": "stdout",
     "output_type": "stream",
     "text": [
      "\tDEU, 17th phase (21Dec2020 - 31Dec2020): finished  224 trials in 0 min 10 sec"
     ]
    },
    {
     "name": "stdout",
     "output_type": "stream",
     "text": [
      "\n"
     ]
    },
    {
     "name": "stdout",
     "output_type": "stream",
     "text": [
      "\tMYS,  5th phase (11Sep2020 - 03Oct2020): finished  226 trials in 0 min 10 sec"
     ]
    },
    {
     "name": "stdout",
     "output_type": "stream",
     "text": [
      "\n"
     ]
    },
    {
     "name": "stdout",
     "output_type": "stream",
     "text": [
      "\tFIN, 10th phase (09Nov2020 - 18Nov2020): finished  232 trials in 0 min 10 sec"
     ]
    },
    {
     "name": "stdout",
     "output_type": "stream",
     "text": [
      "\n"
     ]
    },
    {
     "name": "stdout",
     "output_type": "stream",
     "text": [
      "\tPRT,  0th phase (14Mar2020 - 07Apr2020): finished  224 trials in 0 min 10 sec"
     ]
    },
    {
     "name": "stdout",
     "output_type": "stream",
     "text": [
      "\n"
     ]
    },
    {
     "name": "stdout",
     "output_type": "stream",
     "text": [
      "\tNLD, 16th phase (20Dec2020 - 31Dec2020): finished  236 trials in 0 min 10 sec"
     ]
    },
    {
     "name": "stdout",
     "output_type": "stream",
     "text": [
      "\n"
     ]
    },
    {
     "name": "stdout",
     "output_type": "stream",
     "text": [
      "\tNOR, 13th phase (01Dec2020 - 08Dec2020): finished  234 trials in 0 min 10 sec"
     ]
    },
    {
     "name": "stdout",
     "output_type": "stream",
     "text": [
      "\n"
     ]
    },
    {
     "name": "stdout",
     "output_type": "stream",
     "text": [
      "\tDEU,  9th phase (28Oct2020 - 03Nov2020): finished  235 trials in 0 min 10 sec"
     ]
    },
    {
     "name": "stdout",
     "output_type": "stream",
     "text": [
      "\n"
     ]
    },
    {
     "name": "stdout",
     "output_type": "stream",
     "text": [
      "\tGBR,  6th phase (03Oct2020 - 12Oct2020): finished  234 trials in 0 min 10 sec"
     ]
    },
    {
     "name": "stdout",
     "output_type": "stream",
     "text": [
      "\n"
     ]
    },
    {
     "name": "stdout",
     "output_type": "stream",
     "text": [
      "\tNLD,  3rd phase (10Aug2020 - 12Sep2020): finished  232 trials in 0 min 10 sec"
     ]
    },
    {
     "name": "stdout",
     "output_type": "stream",
     "text": [
      "\n"
     ]
    },
    {
     "name": "stdout",
     "output_type": "stream",
     "text": [
      "\tDEU,  5th phase (16Aug2020 - 16Sep2020): finished  233 trials in 0 min 10 sec"
     ]
    },
    {
     "name": "stdout",
     "output_type": "stream",
     "text": [
      "\n"
     ]
    },
    {
     "name": "stdout",
     "output_type": "stream",
     "text": [
      "\tDEU, 14th phase (02Dec2020 - 08Dec2020): finished  243 trials in 0 min 10 sec"
     ]
    },
    {
     "name": "stdout",
     "output_type": "stream",
     "text": [
      "\n"
     ]
    },
    {
     "name": "stdout",
     "output_type": "stream",
     "text": [
      "\tNLD, 14th phase (04Dec2020 - 09Dec2020): finished  242 trials in 0 min 10 sec"
     ]
    },
    {
     "name": "stdout",
     "output_type": "stream",
     "text": [
      "\n"
     ]
    },
    {
     "name": "stdout",
     "output_type": "stream",
     "text": [
      "\tFIN,  2nd phase (20Apr2020 - 04May2020): finished  238 trials in 0 min 10 sec"
     ]
    },
    {
     "name": "stdout",
     "output_type": "stream",
     "text": [
      "\n"
     ]
    },
    {
     "name": "stdout",
     "output_type": "stream",
     "text": [
      "\tNLD,  6th phase (07Oct2020 - 13Oct2020): finished  239 trials in 0 min 10 sec"
     ]
    },
    {
     "name": "stdout",
     "output_type": "stream",
     "text": [
      "\n"
     ]
    },
    {
     "name": "stdout",
     "output_type": "stream",
     "text": [
      "\tMYS, 12th phase (23Nov2020 - 28Nov2020): finished  239 trials in 0 min 10 sec"
     ]
    },
    {
     "name": "stdout",
     "output_type": "stream",
     "text": [
      "\n"
     ]
    },
    {
     "name": "stdout",
     "output_type": "stream",
     "text": [
      "\tNLD, 10th phase (05Nov2020 - 11Nov2020): finished  237 trials in 0 min 10 sec"
     ]
    },
    {
     "name": "stdout",
     "output_type": "stream",
     "text": [
      "\n"
     ]
    },
    {
     "name": "stdout",
     "output_type": "stream",
     "text": [
      "\tITA,  8th phase (22Oct2020 - 27Oct2020): finished  239 trials in 0 min 10 sec"
     ]
    },
    {
     "name": "stdout",
     "output_type": "stream",
     "text": [
      "\n"
     ]
    },
    {
     "name": "stdout",
     "output_type": "stream",
     "text": [
      "\tMYS,  3rd phase (02May2020 - 01Jun2020): finished  230 trials in 0 min 10 sec"
     ]
    },
    {
     "name": "stdout",
     "output_type": "stream",
     "text": [
      "\n"
     ]
    },
    {
     "name": "stdout",
     "output_type": "stream",
     "text": [
      "\tITA,  0th phase (24Feb2020 - 19Mar2020): finished  232 trials in 0 min 10 sec"
     ]
    },
    {
     "name": "stdout",
     "output_type": "stream",
     "text": [
      "\n"
     ]
    },
    {
     "name": "stdout",
     "output_type": "stream",
     "text": [
      "\tPRT,  2nd phase (06May2020 - 13Jun2020): finished  228 trials in 0 min 10 sec"
     ]
    },
    {
     "name": "stdout",
     "output_type": "stream",
     "text": [
      "\n"
     ]
    },
    {
     "name": "stdout",
     "output_type": "stream",
     "text": [
      "\tNLD, 13th phase (26Nov2020 - 03Dec2020): finished  237 trials in 0 min 10 sec"
     ]
    },
    {
     "name": "stdout",
     "output_type": "stream",
     "text": [
      "\n"
     ]
    },
    {
     "name": "stdout",
     "output_type": "stream",
     "text": [
      "\tNLD,  8th phase (20Oct2020 - 29Oct2020): finished  235 trials in 0 min 10 sec"
     ]
    },
    {
     "name": "stdout",
     "output_type": "stream",
     "text": [
      "\n"
     ]
    },
    {
     "name": "stdout",
     "output_type": "stream",
     "text": [
      "\tDEU,  3rd phase (22Apr2020 - 17Jun2020): finished  222 trials in 0 min 10 sec"
     ]
    },
    {
     "name": "stdout",
     "output_type": "stream",
     "text": [
      "\n"
     ]
    },
    {
     "name": "stdout",
     "output_type": "stream",
     "text": [
      "\tPRT,  3rd phase (14Jun2020 - 14Jul2020): finished  231 trials in 0 min 10 sec"
     ]
    },
    {
     "name": "stdout",
     "output_type": "stream",
     "text": [
      "\n"
     ]
    },
    {
     "name": "stdout",
     "output_type": "stream",
     "text": [
      "\tPRT,  8th phase (22Oct2020 - 28Oct2020): finished  240 trials in 0 min 10 sec"
     ]
    },
    {
     "name": "stdout",
     "output_type": "stream",
     "text": [
      "\n"
     ]
    },
    {
     "name": "stdout",
     "output_type": "stream",
     "text": [
      "\tPRT, 11th phase (15Nov2020 - 25Nov2020): finished  228 trials in 0 min 10 sec"
     ]
    },
    {
     "name": "stdout",
     "output_type": "stream",
     "text": [
      "\n"
     ]
    },
    {
     "name": "stdout",
     "output_type": "stream",
     "text": [
      "\tPRT,  4th phase (15Jul2020 - 02Sep2020): finished  218 trials in 0 min 10 sec"
     ]
    },
    {
     "name": "stdout",
     "output_type": "stream",
     "text": [
      "\n"
     ]
    },
    {
     "name": "stdout",
     "output_type": "stream",
     "text": [
      "\tNOR, 12th phase (23Nov2020 - 30Nov2020): finished  229 trials in 0 min 10 sec"
     ]
    },
    {
     "name": "stdout",
     "output_type": "stream",
     "text": [
      "\n"
     ]
    },
    {
     "name": "stdout",
     "output_type": "stream",
     "text": [
      "\tNOR, 14th phase (09Dec2020 - 15Dec2020): finished  231 trials in 0 min 10 sec"
     ]
    },
    {
     "name": "stdout",
     "output_type": "stream",
     "text": [
      "\n"
     ]
    },
    {
     "name": "stdout",
     "output_type": "stream",
     "text": [
      "\tGBR,  3rd phase (28May2020 - 07Aug2020): finished  221 trials in 0 min 10 sec"
     ]
    },
    {
     "name": "stdout",
     "output_type": "stream",
     "text": [
      "\n"
     ]
    },
    {
     "name": "stdout",
     "output_type": "stream",
     "text": [
      "\tDEU, 13th phase (25Nov2020 - 01Dec2020): finished  243 trials in 0 min 10 sec"
     ]
    },
    {
     "name": "stdout",
     "output_type": "stream",
     "text": [
      "\n"
     ]
    },
    {
     "name": "stdout",
     "output_type": "stream",
     "text": [
      "\tNLD,  4th phase (13Sep2020 - 26Sep2020): finished  240 trials in 0 min 10 sec"
     ]
    },
    {
     "name": "stdout",
     "output_type": "stream",
     "text": [
      "\n"
     ]
    },
    {
     "name": "stdout",
     "output_type": "stream",
     "text": [
      "\tGBR,  0th phase (23Feb2020 - 09Apr2020): finished  232 trials in 0 min 10 sec"
     ]
    },
    {
     "name": "stdout",
     "output_type": "stream",
     "text": [
      "\n"
     ]
    },
    {
     "name": "stdout",
     "output_type": "stream",
     "text": [
      "\tMYS,  0th phase (11Feb2020 - 24Mar2020): finished  232 trials in 0 min 10 sec"
     ]
    },
    {
     "name": "stdout",
     "output_type": "stream",
     "text": [
      "\n"
     ]
    },
    {
     "name": "stdout",
     "output_type": "stream",
     "text": [
      "\tNOR,  6th phase (20Sep2020 - 05Oct2020): finished  240 trials in 0 min 10 sec"
     ]
    },
    {
     "name": "stdout",
     "output_type": "stream",
     "text": [
      "\n"
     ]
    },
    {
     "name": "stdout",
     "output_type": "stream",
     "text": [
      "\tNOR,  7th phase (06Oct2020 - 20Oct2020): finished  238 trials in 0 min 10 sec"
     ]
    },
    {
     "name": "stdout",
     "output_type": "stream",
     "text": [
      "\n"
     ]
    },
    {
     "name": "stdout",
     "output_type": "stream",
     "text": [
      "\tNOR,  4th phase (06Aug2020 - 02Sep2020): finished  235 trials in 0 min 10 sec"
     ]
    },
    {
     "name": "stdout",
     "output_type": "stream",
     "text": [
      "\n"
     ]
    },
    {
     "name": "stdout",
     "output_type": "stream",
     "text": [
      "\tFIN,  4th phase (28May2020 - 20Aug2020): finished  217 trials in 0 min 10 sec"
     ]
    },
    {
     "name": "stdout",
     "output_type": "stream",
     "text": [
      "\n"
     ]
    },
    {
     "name": "stdout",
     "output_type": "stream",
     "text": [
      "\tGBR,  4th phase (08Aug2020 - 16Sep2020): finished  229 trials in 0 min 10 sec"
     ]
    },
    {
     "name": "stdout",
     "output_type": "stream",
     "text": [
      "\n"
     ]
    },
    {
     "name": "stdout",
     "output_type": "stream",
     "text": [
      "\tGBR,  2nd phase (01May2020 - 27May2020): finished  230 trials in 0 min 10 sec"
     ]
    },
    {
     "name": "stdout",
     "output_type": "stream",
     "text": [
      "\n"
     ]
    },
    {
     "name": "stdout",
     "output_type": "stream",
     "text": [
      "\tMYS,  2nd phase (09Apr2020 - 01May2020): finished  227 trials in 0 min 10 sec"
     ]
    },
    {
     "name": "stdout",
     "output_type": "stream",
     "text": [
      "\n"
     ]
    },
    {
     "name": "stdout",
     "output_type": "stream",
     "text": [
      "\tMYS,  6th phase (04Oct2020 - 11Oct2020): finished  216 trials in 0 min 10 sec"
     ]
    },
    {
     "name": "stdout",
     "output_type": "stream",
     "text": [
      "\n"
     ]
    },
    {
     "name": "stdout",
     "output_type": "stream",
     "text": [
      "\tFIN, 15th phase (15Dec2020 - 21Dec2020): finished  218 trials in 0 min 10 sec"
     ]
    },
    {
     "name": "stdout",
     "output_type": "stream",
     "text": [
      "\n"
     ]
    },
    {
     "name": "stdout",
     "output_type": "stream",
     "text": [
      "\tNLD, 11th phase (12Nov2020 - 18Nov2020): finished  220 trials in 0 min 10 sec"
     ]
    },
    {
     "name": "stdout",
     "output_type": "stream",
     "text": [
      "\n"
     ]
    },
    {
     "name": "stdout",
     "output_type": "stream",
     "text": [
      "\tDEU,  7th phase (09Oct2020 - 20Oct2020): finished  214 trials in 0 min 10 sec"
     ]
    },
    {
     "name": "stdout",
     "output_type": "stream",
     "text": [
      "\n"
     ]
    },
    {
     "name": "stdout",
     "output_type": "stream",
     "text": [
      "\tMYS,  7th phase (12Oct2020 - 17Oct2020): finished  265 trials in 0 min 10 sec"
     ]
    },
    {
     "name": "stdout",
     "output_type": "stream",
     "text": [
      "\n"
     ]
    },
    {
     "name": "stdout",
     "output_type": "stream",
     "text": [
      "\tDEU, 12th phase (18Nov2020 - 24Nov2020): finished  263 trials in 0 min 10 sec"
     ]
    },
    {
     "name": "stdout",
     "output_type": "stream",
     "text": [
      "\n"
     ]
    },
    {
     "name": "stdout",
     "output_type": "stream",
     "text": [
      "\tNOR, 10th phase (04Nov2020 - 09Nov2020): finished  266 trials in 0 min 10 sec"
     ]
    },
    {
     "name": "stdout",
     "output_type": "stream",
     "text": [
      "\n"
     ]
    },
    {
     "name": "stdout",
     "output_type": "stream",
     "text": [
      "\tITA,  6th phase (01Oct2020 - 14Oct2020): finished  265 trials in 0 min 10 sec"
     ]
    },
    {
     "name": "stdout",
     "output_type": "stream",
     "text": [
      "\n"
     ]
    },
    {
     "name": "stdout",
     "output_type": "stream",
     "text": [
      "\tNOR,  8th phase (21Oct2020 - 28Oct2020): finished  266 trials in 0 min 10 sec"
     ]
    },
    {
     "name": "stdout",
     "output_type": "stream",
     "text": [
      "\n"
     ]
    },
    {
     "name": "stdout",
     "output_type": "stream",
     "text": [
      "\tNLD,  9th phase (30Oct2020 - 04Nov2020): finished  267 trials in 0 min 10 sec"
     ]
    },
    {
     "name": "stdout",
     "output_type": "stream",
     "text": [
      "\n"
     ]
    },
    {
     "name": "stdout",
     "output_type": "stream",
     "text": [
      "\tPRT,  5th phase (03Sep2020 - 24Sep2020): finished  258 trials in 0 min 10 sec"
     ]
    },
    {
     "name": "stdout",
     "output_type": "stream",
     "text": [
      "\n"
     ]
    },
    {
     "name": "stdout",
     "output_type": "stream",
     "text": [
      "\tNLD,  2nd phase (02May2020 - 09Aug2020): finished  237 trials in 0 min 10 sec"
     ]
    },
    {
     "name": "stdout",
     "output_type": "stream",
     "text": [
      "\n"
     ]
    },
    {
     "name": "stdout",
     "output_type": "stream",
     "text": [
      "\tNOR, 11th phase (10Nov2020 - 22Nov2020): finished  259 trials in 0 min 10 sec"
     ]
    },
    {
     "name": "stdout",
     "output_type": "stream",
     "text": [
      "\n"
     ]
    },
    {
     "name": "stdout",
     "output_type": "stream",
     "text": [
      "\tNOR,  2nd phase (06Apr2020 - 02May2020): finished  261 trials in 0 min 10 sec"
     ]
    },
    {
     "name": "stdout",
     "output_type": "stream",
     "text": [
      "\n"
     ]
    },
    {
     "name": "stdout",
     "output_type": "stream",
     "text": [
      "\tNOR,  3rd phase (03May2020 - 05Aug2020): finished  242 trials in 0 min 10 sec"
     ]
    },
    {
     "name": "stdout",
     "output_type": "stream",
     "text": [
      "\n"
     ]
    },
    {
     "name": "stdout",
     "output_type": "stream",
     "text": [
      "\tDEU,  2nd phase (05Apr2020 - 21Apr2020): finished  263 trials in 0 min 10 sec"
     ]
    },
    {
     "name": "stdout",
     "output_type": "stream",
     "text": [
      "\n"
     ]
    },
    {
     "name": "stdout",
     "output_type": "stream",
     "text": [
      "\tNLD,  0th phase (16Mar2020 - 07Apr2020): finished  262 trials in 0 min 10 sec"
     ]
    },
    {
     "name": "stdout",
     "output_type": "stream",
     "text": [
      "\n"
     ]
    },
    {
     "name": "stdout",
     "output_type": "stream",
     "text": [
      "\tDEU, 11th phase (11Nov2020 - 17Nov2020): finished  266 trials in 0 min 10 sec"
     ]
    },
    {
     "name": "stdout",
     "output_type": "stream",
     "text": [
      "\n"
     ]
    },
    {
     "name": "stdout",
     "output_type": "stream",
     "text": [
      "\tITA, 14th phase (10Dec2020 - 15Dec2020): finished  268 trials in 0 min 10 sec"
     ]
    },
    {
     "name": "stdout",
     "output_type": "stream",
     "text": [
      "\n"
     ]
    },
    {
     "name": "stdout",
     "output_type": "stream",
     "text": [
      "\tGBR,  1st phase (10Apr2020 - 30Apr2020): finished  256 trials in 0 min 10 sec"
     ]
    },
    {
     "name": "stdout",
     "output_type": "stream",
     "text": [
      "\n"
     ]
    },
    {
     "name": "stdout",
     "output_type": "stream",
     "text": [
      "\tDEU, 10th phase (04Nov2020 - 10Nov2020): finished  261 trials in 0 min 10 sec"
     ]
    },
    {
     "name": "stdout",
     "output_type": "stream",
     "text": [
      "\n"
     ]
    },
    {
     "name": "stdout",
     "output_type": "stream",
     "text": [
      "\tMYS, 11th phase (13Nov2020 - 22Nov2020): finished  256 trials in 0 min 10 sec"
     ]
    },
    {
     "name": "stdout",
     "output_type": "stream",
     "text": [
      "\n"
     ]
    },
    {
     "name": "stdout",
     "output_type": "stream",
     "text": [
      "\tDEU,  8th phase (21Oct2020 - 27Oct2020): finished  265 trials in 0 min 10 sec"
     ]
    },
    {
     "name": "stdout",
     "output_type": "stream",
     "text": [
      "\n"
     ]
    },
    {
     "name": "stdout",
     "output_type": "stream",
     "text": [
      "\tITA,  2nd phase (01Apr2020 - 16Apr2020): finished  260 trials in 0 min 10 sec"
     ]
    },
    {
     "name": "stdout",
     "output_type": "stream",
     "text": [
      "\n"
     ]
    },
    {
     "name": "stdout",
     "output_type": "stream",
     "text": [
      "\tITA,  7th phase (15Oct2020 - 21Oct2020): finished  269 trials in 0 min 10 sec"
     ]
    },
    {
     "name": "stdout",
     "output_type": "stream",
     "text": [
      "\n"
     ]
    },
    {
     "name": "stdout",
     "output_type": "stream",
     "text": [
      "Completed optimization. Total: 5 min 48 sec\n"
     ]
    }
   ],
   "source": [
    "# Parameter estimation with SIR-F model\n",
    "analyser.estimate(cs.SIRF, timeout=10)"
   ]
  },
  {
   "cell_type": "code",
   "execution_count": 12,
   "metadata": {
    "collapsed": false
   },
   "outputs": [
    {
     "data": {
      "text/html": [
       "<div>\n",
       "<style scoped>\n",
       "    .dataframe tbody tr th:only-of-type {\n",
       "        vertical-align: middle;\n",
       "    }\n",
       "\n",
       "    .dataframe tbody tr th {\n",
       "        vertical-align: top;\n",
       "    }\n",
       "\n",
       "    .dataframe thead th {\n",
       "        text-align: right;\n",
       "    }\n",
       "</style>\n",
       "<table border=\"1\" class=\"dataframe\">\n",
       "  <thead>\n",
       "    <tr style=\"text-align: right;\">\n",
       "      <th></th>\n",
       "      <th></th>\n",
       "      <th>Type</th>\n",
       "      <th>Start</th>\n",
       "      <th>End</th>\n",
       "      <th>Population</th>\n",
       "      <th>ODE</th>\n",
       "      <th>Rt</th>\n",
       "      <th>theta</th>\n",
       "      <th>kappa</th>\n",
       "      <th>rho</th>\n",
       "      <th>sigma</th>\n",
       "      <th>tau</th>\n",
       "      <th>1/beta [day]</th>\n",
       "      <th>alpha1 [-]</th>\n",
       "      <th>1/alpha2 [day]</th>\n",
       "      <th>1/gamma [day]</th>\n",
       "      <th>RMSLE</th>\n",
       "      <th>Trials</th>\n",
       "      <th>Runtime</th>\n",
       "    </tr>\n",
       "    <tr>\n",
       "      <th>Country</th>\n",
       "      <th>Phase</th>\n",
       "      <th></th>\n",
       "      <th></th>\n",
       "      <th></th>\n",
       "      <th></th>\n",
       "      <th></th>\n",
       "      <th></th>\n",
       "      <th></th>\n",
       "      <th></th>\n",
       "      <th></th>\n",
       "      <th></th>\n",
       "      <th></th>\n",
       "      <th></th>\n",
       "      <th></th>\n",
       "      <th></th>\n",
       "      <th></th>\n",
       "      <th></th>\n",
       "      <th></th>\n",
       "      <th></th>\n",
       "    </tr>\n",
       "  </thead>\n",
       "  <tbody>\n",
       "    <tr>\n",
       "      <th rowspan=\"18\" valign=\"top\">Germany</th>\n",
       "      <th>0th</th>\n",
       "      <td>Past</td>\n",
       "      <td>19Jan2020</td>\n",
       "      <td>23Mar2020</td>\n",
       "      <td>82905782</td>\n",
       "      <td>SIR-F</td>\n",
       "      <td>30.32</td>\n",
       "      <td>0.001492</td>\n",
       "      <td>0.000595</td>\n",
       "      <td>0.033144</td>\n",
       "      <td>0.000496</td>\n",
       "      <td>360</td>\n",
       "      <td>7</td>\n",
       "      <td>0.001</td>\n",
       "      <td>419</td>\n",
       "      <td>503</td>\n",
       "      <td>1.160641</td>\n",
       "      <td>226</td>\n",
       "      <td>0 min 10 sec</td>\n",
       "    </tr>\n",
       "    <tr>\n",
       "      <th>1st</th>\n",
       "      <td>Past</td>\n",
       "      <td>24Mar2020</td>\n",
       "      <td>04Apr2020</td>\n",
       "      <td>82905782</td>\n",
       "      <td>SIR-F</td>\n",
       "      <td>4.78</td>\n",
       "      <td>0.016332</td>\n",
       "      <td>0.000983</td>\n",
       "      <td>0.022742</td>\n",
       "      <td>0.003695</td>\n",
       "      <td>360</td>\n",
       "      <td>10</td>\n",
       "      <td>0.016</td>\n",
       "      <td>254</td>\n",
       "      <td>67</td>\n",
       "      <td>0.164842</td>\n",
       "      <td>254</td>\n",
       "      <td>0 min 10 sec</td>\n",
       "    </tr>\n",
       "    <tr>\n",
       "      <th>2nd</th>\n",
       "      <td>Past</td>\n",
       "      <td>05Apr2020</td>\n",
       "      <td>21Apr2020</td>\n",
       "      <td>82905782</td>\n",
       "      <td>SIR-F</td>\n",
       "      <td>0.54</td>\n",
       "      <td>0.031440</td>\n",
       "      <td>0.000610</td>\n",
       "      <td>0.011727</td>\n",
       "      <td>0.020404</td>\n",
       "      <td>360</td>\n",
       "      <td>21</td>\n",
       "      <td>0.031</td>\n",
       "      <td>409</td>\n",
       "      <td>12</td>\n",
       "      <td>0.145060</td>\n",
       "      <td>263</td>\n",
       "      <td>0 min 10 sec</td>\n",
       "    </tr>\n",
       "    <tr>\n",
       "      <th>3rd</th>\n",
       "      <td>Past</td>\n",
       "      <td>22Apr2020</td>\n",
       "      <td>17Jun2020</td>\n",
       "      <td>82905782</td>\n",
       "      <td>SIR-F</td>\n",
       "      <td>0.54</td>\n",
       "      <td>0.029872</td>\n",
       "      <td>0.000067</td>\n",
       "      <td>0.012880</td>\n",
       "      <td>0.023007</td>\n",
       "      <td>360</td>\n",
       "      <td>19</td>\n",
       "      <td>0.030</td>\n",
       "      <td>3708</td>\n",
       "      <td>10</td>\n",
       "      <td>0.104533</td>\n",
       "      <td>222</td>\n",
       "      <td>0 min 10 sec</td>\n",
       "    </tr>\n",
       "    <tr>\n",
       "      <th>4th</th>\n",
       "      <td>Past</td>\n",
       "      <td>18Jun2020</td>\n",
       "      <td>15Aug2020</td>\n",
       "      <td>82905782</td>\n",
       "      <td>SIR-F</td>\n",
       "      <td>1.15</td>\n",
       "      <td>0.003799</td>\n",
       "      <td>0.000002</td>\n",
       "      <td>0.016271</td>\n",
       "      <td>0.014131</td>\n",
       "      <td>360</td>\n",
       "      <td>15</td>\n",
       "      <td>0.004</td>\n",
       "      <td>134910</td>\n",
       "      <td>17</td>\n",
       "      <td>0.115410</td>\n",
       "      <td>226</td>\n",
       "      <td>0 min 10 sec</td>\n",
       "    </tr>\n",
       "    <tr>\n",
       "      <th>5th</th>\n",
       "      <td>Past</td>\n",
       "      <td>16Aug2020</td>\n",
       "      <td>16Sep2020</td>\n",
       "      <td>82905782</td>\n",
       "      <td>SIR-F</td>\n",
       "      <td>1.31</td>\n",
       "      <td>0.001567</td>\n",
       "      <td>0.000191</td>\n",
       "      <td>0.016323</td>\n",
       "      <td>0.012231</td>\n",
       "      <td>360</td>\n",
       "      <td>15</td>\n",
       "      <td>0.002</td>\n",
       "      <td>1305</td>\n",
       "      <td>20</td>\n",
       "      <td>0.064256</td>\n",
       "      <td>233</td>\n",
       "      <td>0 min 10 sec</td>\n",
       "    </tr>\n",
       "    <tr>\n",
       "      <th>6th</th>\n",
       "      <td>Past</td>\n",
       "      <td>17Sep2020</td>\n",
       "      <td>08Oct2020</td>\n",
       "      <td>82905782</td>\n",
       "      <td>SIR-F</td>\n",
       "      <td>1.32</td>\n",
       "      <td>0.001596</td>\n",
       "      <td>0.000002</td>\n",
       "      <td>0.018240</td>\n",
       "      <td>0.013845</td>\n",
       "      <td>360</td>\n",
       "      <td>13</td>\n",
       "      <td>0.002</td>\n",
       "      <td>134911</td>\n",
       "      <td>18</td>\n",
       "      <td>0.031307</td>\n",
       "      <td>227</td>\n",
       "      <td>0 min 10 sec</td>\n",
       "    </tr>\n",
       "    <tr>\n",
       "      <th>7th</th>\n",
       "      <td>Past</td>\n",
       "      <td>09Oct2020</td>\n",
       "      <td>20Oct2020</td>\n",
       "      <td>82905782</td>\n",
       "      <td>SIR-F</td>\n",
       "      <td>3.13</td>\n",
       "      <td>0.000676</td>\n",
       "      <td>0.000067</td>\n",
       "      <td>0.025767</td>\n",
       "      <td>0.008159</td>\n",
       "      <td>360</td>\n",
       "      <td>9</td>\n",
       "      <td>0.001</td>\n",
       "      <td>3708</td>\n",
       "      <td>30</td>\n",
       "      <td>0.064905</td>\n",
       "      <td>214</td>\n",
       "      <td>0 min 10 sec</td>\n",
       "    </tr>\n",
       "    <tr>\n",
       "      <th>8th</th>\n",
       "      <td>Past</td>\n",
       "      <td>21Oct2020</td>\n",
       "      <td>27Oct2020</td>\n",
       "      <td>82905782</td>\n",
       "      <td>SIR-F</td>\n",
       "      <td>3.03</td>\n",
       "      <td>0.002617</td>\n",
       "      <td>0.000301</td>\n",
       "      <td>0.027295</td>\n",
       "      <td>0.008689</td>\n",
       "      <td>360</td>\n",
       "      <td>9</td>\n",
       "      <td>0.003</td>\n",
       "      <td>829</td>\n",
       "      <td>28</td>\n",
       "      <td>0.019617</td>\n",
       "      <td>265</td>\n",
       "      <td>0 min 10 sec</td>\n",
       "    </tr>\n",
       "    <tr>\n",
       "      <th>9th</th>\n",
       "      <td>Past</td>\n",
       "      <td>28Oct2020</td>\n",
       "      <td>03Nov2020</td>\n",
       "      <td>82905782</td>\n",
       "      <td>SIR-F</td>\n",
       "      <td>2.25</td>\n",
       "      <td>0.000121</td>\n",
       "      <td>0.000229</td>\n",
       "      <td>0.018150</td>\n",
       "      <td>0.007819</td>\n",
       "      <td>360</td>\n",
       "      <td>13</td>\n",
       "      <td>0.000</td>\n",
       "      <td>1091</td>\n",
       "      <td>31</td>\n",
       "      <td>0.037014</td>\n",
       "      <td>235</td>\n",
       "      <td>0 min 10 sec</td>\n",
       "    </tr>\n",
       "    <tr>\n",
       "      <th>10th</th>\n",
       "      <td>Past</td>\n",
       "      <td>04Nov2020</td>\n",
       "      <td>10Nov2020</td>\n",
       "      <td>82905782</td>\n",
       "      <td>SIR-F</td>\n",
       "      <td>1.46</td>\n",
       "      <td>0.000663</td>\n",
       "      <td>0.000235</td>\n",
       "      <td>0.017534</td>\n",
       "      <td>0.011784</td>\n",
       "      <td>360</td>\n",
       "      <td>14</td>\n",
       "      <td>0.001</td>\n",
       "      <td>1063</td>\n",
       "      <td>21</td>\n",
       "      <td>0.023885</td>\n",
       "      <td>261</td>\n",
       "      <td>0 min 10 sec</td>\n",
       "    </tr>\n",
       "    <tr>\n",
       "      <th>11th</th>\n",
       "      <td>Past</td>\n",
       "      <td>11Nov2020</td>\n",
       "      <td>17Nov2020</td>\n",
       "      <td>82905782</td>\n",
       "      <td>SIR-F</td>\n",
       "      <td>1.07</td>\n",
       "      <td>0.005338</td>\n",
       "      <td>0.000180</td>\n",
       "      <td>0.017378</td>\n",
       "      <td>0.015998</td>\n",
       "      <td>360</td>\n",
       "      <td>14</td>\n",
       "      <td>0.005</td>\n",
       "      <td>1388</td>\n",
       "      <td>15</td>\n",
       "      <td>0.019469</td>\n",
       "      <td>266</td>\n",
       "      <td>0 min 10 sec</td>\n",
       "    </tr>\n",
       "    <tr>\n",
       "      <th>12th</th>\n",
       "      <td>Past</td>\n",
       "      <td>18Nov2020</td>\n",
       "      <td>24Nov2020</td>\n",
       "      <td>82905782</td>\n",
       "      <td>SIR-F</td>\n",
       "      <td>0.97</td>\n",
       "      <td>0.005474</td>\n",
       "      <td>0.000093</td>\n",
       "      <td>0.017061</td>\n",
       "      <td>0.017400</td>\n",
       "      <td>360</td>\n",
       "      <td>14</td>\n",
       "      <td>0.005</td>\n",
       "      <td>2685</td>\n",
       "      <td>14</td>\n",
       "      <td>0.023399</td>\n",
       "      <td>263</td>\n",
       "      <td>0 min 10 sec</td>\n",
       "    </tr>\n",
       "    <tr>\n",
       "      <th>13th</th>\n",
       "      <td>Past</td>\n",
       "      <td>25Nov2020</td>\n",
       "      <td>01Dec2020</td>\n",
       "      <td>82905782</td>\n",
       "      <td>SIR-F</td>\n",
       "      <td>0.91</td>\n",
       "      <td>0.015973</td>\n",
       "      <td>0.000288</td>\n",
       "      <td>0.014666</td>\n",
       "      <td>0.015628</td>\n",
       "      <td>360</td>\n",
       "      <td>17</td>\n",
       "      <td>0.016</td>\n",
       "      <td>869</td>\n",
       "      <td>15</td>\n",
       "      <td>0.026148</td>\n",
       "      <td>243</td>\n",
       "      <td>0 min 10 sec</td>\n",
       "    </tr>\n",
       "    <tr>\n",
       "      <th>14th</th>\n",
       "      <td>Past</td>\n",
       "      <td>02Dec2020</td>\n",
       "      <td>08Dec2020</td>\n",
       "      <td>82905782</td>\n",
       "      <td>SIR-F</td>\n",
       "      <td>0.98</td>\n",
       "      <td>0.002696</td>\n",
       "      <td>0.000301</td>\n",
       "      <td>0.018904</td>\n",
       "      <td>0.018859</td>\n",
       "      <td>360</td>\n",
       "      <td>13</td>\n",
       "      <td>0.003</td>\n",
       "      <td>830</td>\n",
       "      <td>13</td>\n",
       "      <td>0.018397</td>\n",
       "      <td>243</td>\n",
       "      <td>0 min 10 sec</td>\n",
       "    </tr>\n",
       "    <tr>\n",
       "      <th>15th</th>\n",
       "      <td>Past</td>\n",
       "      <td>09Dec2020</td>\n",
       "      <td>14Dec2020</td>\n",
       "      <td>82905782</td>\n",
       "      <td>SIR-F</td>\n",
       "      <td>1.20</td>\n",
       "      <td>0.003232</td>\n",
       "      <td>0.000309</td>\n",
       "      <td>0.019559</td>\n",
       "      <td>0.015960</td>\n",
       "      <td>360</td>\n",
       "      <td>12</td>\n",
       "      <td>0.003</td>\n",
       "      <td>808</td>\n",
       "      <td>15</td>\n",
       "      <td>0.016839</td>\n",
       "      <td>262</td>\n",
       "      <td>0 min 10 sec</td>\n",
       "    </tr>\n",
       "    <tr>\n",
       "      <th>16th</th>\n",
       "      <td>Past</td>\n",
       "      <td>15Dec2020</td>\n",
       "      <td>20Dec2020</td>\n",
       "      <td>82905782</td>\n",
       "      <td>SIR-F</td>\n",
       "      <td>1.60</td>\n",
       "      <td>0.001293</td>\n",
       "      <td>0.000191</td>\n",
       "      <td>0.020386</td>\n",
       "      <td>0.012538</td>\n",
       "      <td>360</td>\n",
       "      <td>12</td>\n",
       "      <td>0.001</td>\n",
       "      <td>1308</td>\n",
       "      <td>19</td>\n",
       "      <td>0.023965</td>\n",
       "      <td>260</td>\n",
       "      <td>0 min 10 sec</td>\n",
       "    </tr>\n",
       "    <tr>\n",
       "      <th>17th</th>\n",
       "      <td>Past</td>\n",
       "      <td>21Dec2020</td>\n",
       "      <td>31Dec2020</td>\n",
       "      <td>82905782</td>\n",
       "      <td>SIR-F</td>\n",
       "      <td>1.04</td>\n",
       "      <td>0.000665</td>\n",
       "      <td>0.000068</td>\n",
       "      <td>0.014221</td>\n",
       "      <td>0.013637</td>\n",
       "      <td>360</td>\n",
       "      <td>17</td>\n",
       "      <td>0.001</td>\n",
       "      <td>3696</td>\n",
       "      <td>18</td>\n",
       "      <td>0.033208</td>\n",
       "      <td>224</td>\n",
       "      <td>0 min 10 sec</td>\n",
       "    </tr>\n",
       "  </tbody>\n",
       "</table>\n",
       "</div>"
      ],
      "text/plain": [
       "               Type      Start        End  Population    ODE     Rt     theta  \\\n",
       "Country Phase                                                                   \n",
       "Germany 0th    Past  19Jan2020  23Mar2020    82905782  SIR-F  30.32  0.001492   \n",
       "        1st    Past  24Mar2020  04Apr2020    82905782  SIR-F   4.78  0.016332   \n",
       "        2nd    Past  05Apr2020  21Apr2020    82905782  SIR-F   0.54  0.031440   \n",
       "        3rd    Past  22Apr2020  17Jun2020    82905782  SIR-F   0.54  0.029872   \n",
       "        4th    Past  18Jun2020  15Aug2020    82905782  SIR-F   1.15  0.003799   \n",
       "        5th    Past  16Aug2020  16Sep2020    82905782  SIR-F   1.31  0.001567   \n",
       "        6th    Past  17Sep2020  08Oct2020    82905782  SIR-F   1.32  0.001596   \n",
       "        7th    Past  09Oct2020  20Oct2020    82905782  SIR-F   3.13  0.000676   \n",
       "        8th    Past  21Oct2020  27Oct2020    82905782  SIR-F   3.03  0.002617   \n",
       "        9th    Past  28Oct2020  03Nov2020    82905782  SIR-F   2.25  0.000121   \n",
       "        10th   Past  04Nov2020  10Nov2020    82905782  SIR-F   1.46  0.000663   \n",
       "        11th   Past  11Nov2020  17Nov2020    82905782  SIR-F   1.07  0.005338   \n",
       "        12th   Past  18Nov2020  24Nov2020    82905782  SIR-F   0.97  0.005474   \n",
       "        13th   Past  25Nov2020  01Dec2020    82905782  SIR-F   0.91  0.015973   \n",
       "        14th   Past  02Dec2020  08Dec2020    82905782  SIR-F   0.98  0.002696   \n",
       "        15th   Past  09Dec2020  14Dec2020    82905782  SIR-F   1.20  0.003232   \n",
       "        16th   Past  15Dec2020  20Dec2020    82905782  SIR-F   1.60  0.001293   \n",
       "        17th   Past  21Dec2020  31Dec2020    82905782  SIR-F   1.04  0.000665   \n",
       "\n",
       "                  kappa       rho     sigma  tau  1/beta [day]  alpha1 [-]  \\\n",
       "Country Phase                                                                \n",
       "Germany 0th    0.000595  0.033144  0.000496  360             7       0.001   \n",
       "        1st    0.000983  0.022742  0.003695  360            10       0.016   \n",
       "        2nd    0.000610  0.011727  0.020404  360            21       0.031   \n",
       "        3rd    0.000067  0.012880  0.023007  360            19       0.030   \n",
       "        4th    0.000002  0.016271  0.014131  360            15       0.004   \n",
       "        5th    0.000191  0.016323  0.012231  360            15       0.002   \n",
       "        6th    0.000002  0.018240  0.013845  360            13       0.002   \n",
       "        7th    0.000067  0.025767  0.008159  360             9       0.001   \n",
       "        8th    0.000301  0.027295  0.008689  360             9       0.003   \n",
       "        9th    0.000229  0.018150  0.007819  360            13       0.000   \n",
       "        10th   0.000235  0.017534  0.011784  360            14       0.001   \n",
       "        11th   0.000180  0.017378  0.015998  360            14       0.005   \n",
       "        12th   0.000093  0.017061  0.017400  360            14       0.005   \n",
       "        13th   0.000288  0.014666  0.015628  360            17       0.016   \n",
       "        14th   0.000301  0.018904  0.018859  360            13       0.003   \n",
       "        15th   0.000309  0.019559  0.015960  360            12       0.003   \n",
       "        16th   0.000191  0.020386  0.012538  360            12       0.001   \n",
       "        17th   0.000068  0.014221  0.013637  360            17       0.001   \n",
       "\n",
       "               1/alpha2 [day]  1/gamma [day]     RMSLE  Trials       Runtime  \n",
       "Country Phase                                                                 \n",
       "Germany 0th               419            503  1.160641     226  0 min 10 sec  \n",
       "        1st               254             67  0.164842     254  0 min 10 sec  \n",
       "        2nd               409             12  0.145060     263  0 min 10 sec  \n",
       "        3rd              3708             10  0.104533     222  0 min 10 sec  \n",
       "        4th            134910             17  0.115410     226  0 min 10 sec  \n",
       "        5th              1305             20  0.064256     233  0 min 10 sec  \n",
       "        6th            134911             18  0.031307     227  0 min 10 sec  \n",
       "        7th              3708             30  0.064905     214  0 min 10 sec  \n",
       "        8th               829             28  0.019617     265  0 min 10 sec  \n",
       "        9th              1091             31  0.037014     235  0 min 10 sec  \n",
       "        10th             1063             21  0.023885     261  0 min 10 sec  \n",
       "        11th             1388             15  0.019469     266  0 min 10 sec  \n",
       "        12th             2685             14  0.023399     263  0 min 10 sec  \n",
       "        13th              869             15  0.026148     243  0 min 10 sec  \n",
       "        14th              830             13  0.018397     243  0 min 10 sec  \n",
       "        15th              808             15  0.016839     262  0 min 10 sec  \n",
       "        16th             1308             19  0.023965     260  0 min 10 sec  \n",
       "        17th             3696             18  0.033208     224  0 min 10 sec  "
      ]
     },
     "execution_count": 12,
     "metadata": {},
     "output_type": "execute_result"
    }
   ],
   "source": [
    "# Show summary\n",
    "analyser.summary(countries=countries_show)"
   ]
  },
  {
   "cell_type": "markdown",
   "metadata": {},
   "source": [
    "## Compare the history of parameters\n",
    "Here, compare the history of parameter values if countries."
   ]
  },
  {
   "cell_type": "code",
   "execution_count": 13,
   "metadata": {
    "collapsed": false
   },
   "outputs": [
    {
     "data": {
      "text/html": [
       "<div>\n",
       "<style scoped>\n",
       "    .dataframe tbody tr th:only-of-type {\n",
       "        vertical-align: middle;\n",
       "    }\n",
       "\n",
       "    .dataframe tbody tr th {\n",
       "        vertical-align: top;\n",
       "    }\n",
       "\n",
       "    .dataframe thead th {\n",
       "        text-align: right;\n",
       "    }\n",
       "</style>\n",
       "<table border=\"1\" class=\"dataframe\">\n",
       "  <thead>\n",
       "    <tr style=\"text-align: right;\">\n",
       "      <th></th>\n",
       "      <th>Date</th>\n",
       "      <th>Country</th>\n",
       "      <th>theta</th>\n",
       "      <th>kappa</th>\n",
       "      <th>rho</th>\n",
       "      <th>sigma</th>\n",
       "      <th>alpha1 [-]</th>\n",
       "      <th>1/alpha2 [day]</th>\n",
       "      <th>1/beta [day]</th>\n",
       "      <th>1/gamma [day]</th>\n",
       "      <th>...</th>\n",
       "      <th>Cancel_events</th>\n",
       "      <th>Gatherings_restrictions</th>\n",
       "      <th>Transport_closing</th>\n",
       "      <th>Stay_home_restrictions</th>\n",
       "      <th>Internal_movement_restrictions</th>\n",
       "      <th>International_movement_restrictions</th>\n",
       "      <th>Information_campaigns</th>\n",
       "      <th>Testing_policy</th>\n",
       "      <th>Contact_tracing</th>\n",
       "      <th>Stringency_index</th>\n",
       "    </tr>\n",
       "  </thead>\n",
       "  <tbody>\n",
       "    <tr>\n",
       "      <th>0</th>\n",
       "      <td>2020-01-19</td>\n",
       "      <td>Germany</td>\n",
       "      <td>0.00149186</td>\n",
       "      <td>0.000595437</td>\n",
       "      <td>0.0331438</td>\n",
       "      <td>0.000496104</td>\n",
       "      <td>0.001</td>\n",
       "      <td>419</td>\n",
       "      <td>7</td>\n",
       "      <td>503</td>\n",
       "      <td>...</td>\n",
       "      <td>0</td>\n",
       "      <td>0</td>\n",
       "      <td>0</td>\n",
       "      <td>0</td>\n",
       "      <td>0</td>\n",
       "      <td>0</td>\n",
       "      <td>0</td>\n",
       "      <td>0</td>\n",
       "      <td>0</td>\n",
       "      <td>0.0</td>\n",
       "    </tr>\n",
       "    <tr>\n",
       "      <th>1</th>\n",
       "      <td>2020-01-19</td>\n",
       "      <td>Germany</td>\n",
       "      <td>0.00149186</td>\n",
       "      <td>0.000595437</td>\n",
       "      <td>0.0331438</td>\n",
       "      <td>0.000496104</td>\n",
       "      <td>0.001</td>\n",
       "      <td>419</td>\n",
       "      <td>7</td>\n",
       "      <td>503</td>\n",
       "      <td>...</td>\n",
       "      <td>0</td>\n",
       "      <td>0</td>\n",
       "      <td>0</td>\n",
       "      <td>0</td>\n",
       "      <td>0</td>\n",
       "      <td>0</td>\n",
       "      <td>0</td>\n",
       "      <td>0</td>\n",
       "      <td>0</td>\n",
       "      <td>0.0</td>\n",
       "    </tr>\n",
       "    <tr>\n",
       "      <th>2</th>\n",
       "      <td>2020-01-19</td>\n",
       "      <td>Germany</td>\n",
       "      <td>0.00149186</td>\n",
       "      <td>0.000595437</td>\n",
       "      <td>0.0331438</td>\n",
       "      <td>0.000496104</td>\n",
       "      <td>0.001</td>\n",
       "      <td>419</td>\n",
       "      <td>7</td>\n",
       "      <td>503</td>\n",
       "      <td>...</td>\n",
       "      <td>0</td>\n",
       "      <td>0</td>\n",
       "      <td>0</td>\n",
       "      <td>0</td>\n",
       "      <td>0</td>\n",
       "      <td>0</td>\n",
       "      <td>0</td>\n",
       "      <td>0</td>\n",
       "      <td>0</td>\n",
       "      <td>0.0</td>\n",
       "    </tr>\n",
       "    <tr>\n",
       "      <th>3</th>\n",
       "      <td>2020-01-19</td>\n",
       "      <td>Germany</td>\n",
       "      <td>0.00149186</td>\n",
       "      <td>0.000595437</td>\n",
       "      <td>0.0331438</td>\n",
       "      <td>0.000496104</td>\n",
       "      <td>0.001</td>\n",
       "      <td>419</td>\n",
       "      <td>7</td>\n",
       "      <td>503</td>\n",
       "      <td>...</td>\n",
       "      <td>0</td>\n",
       "      <td>0</td>\n",
       "      <td>0</td>\n",
       "      <td>0</td>\n",
       "      <td>0</td>\n",
       "      <td>0</td>\n",
       "      <td>0</td>\n",
       "      <td>0</td>\n",
       "      <td>0</td>\n",
       "      <td>0.0</td>\n",
       "    </tr>\n",
       "    <tr>\n",
       "      <th>4</th>\n",
       "      <td>2020-01-19</td>\n",
       "      <td>Germany</td>\n",
       "      <td>0.00149186</td>\n",
       "      <td>0.000595437</td>\n",
       "      <td>0.0331438</td>\n",
       "      <td>0.000496104</td>\n",
       "      <td>0.001</td>\n",
       "      <td>419</td>\n",
       "      <td>7</td>\n",
       "      <td>503</td>\n",
       "      <td>...</td>\n",
       "      <td>0</td>\n",
       "      <td>0</td>\n",
       "      <td>0</td>\n",
       "      <td>0</td>\n",
       "      <td>0</td>\n",
       "      <td>0</td>\n",
       "      <td>0</td>\n",
       "      <td>0</td>\n",
       "      <td>0</td>\n",
       "      <td>0.0</td>\n",
       "    </tr>\n",
       "  </tbody>\n",
       "</table>\n",
       "<p>5 rows × 23 columns</p>\n",
       "</div>"
      ],
      "text/plain": [
       "        Date  Country       theta        kappa        rho        sigma  \\\n",
       "0 2020-01-19  Germany  0.00149186  0.000595437  0.0331438  0.000496104   \n",
       "1 2020-01-19  Germany  0.00149186  0.000595437  0.0331438  0.000496104   \n",
       "2 2020-01-19  Germany  0.00149186  0.000595437  0.0331438  0.000496104   \n",
       "3 2020-01-19  Germany  0.00149186  0.000595437  0.0331438  0.000496104   \n",
       "4 2020-01-19  Germany  0.00149186  0.000595437  0.0331438  0.000496104   \n",
       "\n",
       "  alpha1 [-] 1/alpha2 [day] 1/beta [day] 1/gamma [day]  ... Cancel_events  \\\n",
       "0      0.001            419            7           503  ...             0   \n",
       "1      0.001            419            7           503  ...             0   \n",
       "2      0.001            419            7           503  ...             0   \n",
       "3      0.001            419            7           503  ...             0   \n",
       "4      0.001            419            7           503  ...             0   \n",
       "\n",
       "   Gatherings_restrictions  Transport_closing  Stay_home_restrictions  \\\n",
       "0                        0                  0                       0   \n",
       "1                        0                  0                       0   \n",
       "2                        0                  0                       0   \n",
       "3                        0                  0                       0   \n",
       "4                        0                  0                       0   \n",
       "\n",
       "   Internal_movement_restrictions  International_movement_restrictions  \\\n",
       "0                               0                                    0   \n",
       "1                               0                                    0   \n",
       "2                               0                                    0   \n",
       "3                               0                                    0   \n",
       "4                               0                                    0   \n",
       "\n",
       "   Information_campaigns  Testing_policy  Contact_tracing  Stringency_index  \n",
       "0                      0               0                0               0.0  \n",
       "1                      0               0                0               0.0  \n",
       "2                      0               0                0               0.0  \n",
       "3                      0               0                0               0.0  \n",
       "4                      0               0                0               0.0  \n",
       "\n",
       "[5 rows x 23 columns]"
      ]
     },
     "execution_count": 13,
     "metadata": {},
     "output_type": "execute_result"
    }
   ],
   "source": [
    "# All parameter/day parameter/Rt/OxCGRT\n",
    "analyser.track().head()"
   ]
  },
  {
   "cell_type": "markdown",
   "metadata": {},
   "source": [
    "### $Rt$: Reprodcution number $\\mathrm{[-]}$"
   ]
  },
  {
   "cell_type": "code",
   "execution_count": 14,
   "metadata": {
    "collapsed": false
   },
   "outputs": [
    {
     "data": {
      "image/png": "[encoded data removed]",
      "text/plain": [
       "<Figure size 648x432 with 1 Axes>"
      ]
     },
     "metadata": {},
     "output_type": "display_data"
    },
    {
     "data": {
      "text/html": [
       "<div>\n",
       "<style scoped>\n",
       "    .dataframe tbody tr th:only-of-type {\n",
       "        vertical-align: middle;\n",
       "    }\n",
       "\n",
       "    .dataframe tbody tr th {\n",
       "        vertical-align: top;\n",
       "    }\n",
       "\n",
       "    .dataframe thead th {\n",
       "        text-align: right;\n",
       "    }\n",
       "</style>\n",
       "<table border=\"1\" class=\"dataframe\">\n",
       "  <thead>\n",
       "    <tr style=\"text-align: right;\">\n",
       "      <th>Country</th>\n",
       "      <th>Finland</th>\n",
       "      <th>Germany</th>\n",
       "      <th>Italy</th>\n",
       "      <th>Malaysia</th>\n",
       "      <th>Netherlands</th>\n",
       "      <th>Norway</th>\n",
       "      <th>Portugal</th>\n",
       "      <th>United Kingdom</th>\n",
       "    </tr>\n",
       "    <tr>\n",
       "      <th>Date</th>\n",
       "      <th></th>\n",
       "      <th></th>\n",
       "      <th></th>\n",
       "      <th></th>\n",
       "      <th></th>\n",
       "      <th></th>\n",
       "      <th></th>\n",
       "      <th></th>\n",
       "    </tr>\n",
       "  </thead>\n",
       "  <tbody>\n",
       "    <tr>\n",
       "      <th>2020-12-27</th>\n",
       "      <td>0.66</td>\n",
       "      <td>1.04</td>\n",
       "      <td>0.72</td>\n",
       "      <td>1.0</td>\n",
       "      <td>1.39</td>\n",
       "      <td>0.87</td>\n",
       "      <td>0.8</td>\n",
       "      <td>2.46</td>\n",
       "    </tr>\n",
       "    <tr>\n",
       "      <th>2020-12-28</th>\n",
       "      <td>0.66</td>\n",
       "      <td>1.04</td>\n",
       "      <td>0.72</td>\n",
       "      <td>1.0</td>\n",
       "      <td>1.39</td>\n",
       "      <td>0.87</td>\n",
       "      <td>0.8</td>\n",
       "      <td>2.46</td>\n",
       "    </tr>\n",
       "    <tr>\n",
       "      <th>2020-12-29</th>\n",
       "      <td>0.66</td>\n",
       "      <td>1.04</td>\n",
       "      <td>0.72</td>\n",
       "      <td>1.0</td>\n",
       "      <td>1.39</td>\n",
       "      <td>0.87</td>\n",
       "      <td>0.8</td>\n",
       "      <td>2.46</td>\n",
       "    </tr>\n",
       "    <tr>\n",
       "      <th>2020-12-30</th>\n",
       "      <td>0.66</td>\n",
       "      <td>1.04</td>\n",
       "      <td>0.72</td>\n",
       "      <td>1.0</td>\n",
       "      <td>1.39</td>\n",
       "      <td>0.87</td>\n",
       "      <td>0.8</td>\n",
       "      <td>2.46</td>\n",
       "    </tr>\n",
       "    <tr>\n",
       "      <th>2020-12-31</th>\n",
       "      <td>0.66</td>\n",
       "      <td>1.04</td>\n",
       "      <td>0.72</td>\n",
       "      <td>1.0</td>\n",
       "      <td>1.39</td>\n",
       "      <td>0.87</td>\n",
       "      <td>0.8</td>\n",
       "      <td>2.46</td>\n",
       "    </tr>\n",
       "  </tbody>\n",
       "</table>\n",
       "</div>"
      ],
      "text/plain": [
       "Country     Finland  Germany  Italy  Malaysia  Netherlands  Norway  Portugal  \\\n",
       "Date                                                                           \n",
       "2020-12-27     0.66     1.04   0.72       1.0         1.39    0.87       0.8   \n",
       "2020-12-28     0.66     1.04   0.72       1.0         1.39    0.87       0.8   \n",
       "2020-12-29     0.66     1.04   0.72       1.0         1.39    0.87       0.8   \n",
       "2020-12-30     0.66     1.04   0.72       1.0         1.39    0.87       0.8   \n",
       "2020-12-31     0.66     1.04   0.72       1.0         1.39    0.87       0.8   \n",
       "\n",
       "Country     United Kingdom  \n",
       "Date                        \n",
       "2020-12-27            2.46  \n",
       "2020-12-28            2.46  \n",
       "2020-12-29            2.46  \n",
       "2020-12-30            2.46  \n",
       "2020-12-31            2.46  "
      ]
     },
     "execution_count": 14,
     "metadata": {},
     "output_type": "execute_result"
    }
   ],
   "source": [
    "analyser.history(\"Rt\", roll_window=None).tail()"
   ]
  },
  {
   "cell_type": "markdown",
   "metadata": {},
   "source": [
    "### $\\rho$: Effective contact rate $\\mathrm{[-]}$"
   ]
  },
  {
   "cell_type": "code",
   "execution_count": 15,
   "metadata": {
    "collapsed": false
   },
   "outputs": [
    {
     "data": {
      "image/png": "[encoded data removed]",
      "text/plain": [
       "<Figure size 648x432 with 1 Axes>"
      ]
     },
     "metadata": {},
     "output_type": "display_data"
    },
    {
     "data": {
      "text/html": [
       "<div>\n",
       "<style scoped>\n",
       "    .dataframe tbody tr th:only-of-type {\n",
       "        vertical-align: middle;\n",
       "    }\n",
       "\n",
       "    .dataframe tbody tr th {\n",
       "        vertical-align: top;\n",
       "    }\n",
       "\n",
       "    .dataframe thead th {\n",
       "        text-align: right;\n",
       "    }\n",
       "</style>\n",
       "<table border=\"1\" class=\"dataframe\">\n",
       "  <thead>\n",
       "    <tr style=\"text-align: right;\">\n",
       "      <th>Country</th>\n",
       "      <th>Finland</th>\n",
       "      <th>Germany</th>\n",
       "      <th>Italy</th>\n",
       "      <th>Malaysia</th>\n",
       "      <th>Netherlands</th>\n",
       "      <th>Norway</th>\n",
       "      <th>Portugal</th>\n",
       "      <th>United Kingdom</th>\n",
       "    </tr>\n",
       "    <tr>\n",
       "      <th>Date</th>\n",
       "      <th></th>\n",
       "      <th></th>\n",
       "      <th></th>\n",
       "      <th></th>\n",
       "      <th></th>\n",
       "      <th></th>\n",
       "      <th></th>\n",
       "      <th></th>\n",
       "    </tr>\n",
       "  </thead>\n",
       "  <tbody>\n",
       "    <tr>\n",
       "      <th>2020-12-27</th>\n",
       "      <td>0.012502</td>\n",
       "      <td>0.014221</td>\n",
       "      <td>0.005026</td>\n",
       "      <td>0.017453</td>\n",
       "      <td>0.015116</td>\n",
       "      <td>0.016959</td>\n",
       "      <td>0.014246</td>\n",
       "      <td>0.023461</td>\n",
       "    </tr>\n",
       "    <tr>\n",
       "      <th>2020-12-28</th>\n",
       "      <td>0.012502</td>\n",
       "      <td>0.014221</td>\n",
       "      <td>0.005026</td>\n",
       "      <td>0.017453</td>\n",
       "      <td>0.015116</td>\n",
       "      <td>0.016959</td>\n",
       "      <td>0.014246</td>\n",
       "      <td>0.023461</td>\n",
       "    </tr>\n",
       "    <tr>\n",
       "      <th>2020-12-29</th>\n",
       "      <td>0.012502</td>\n",
       "      <td>0.014221</td>\n",
       "      <td>0.005026</td>\n",
       "      <td>0.017453</td>\n",
       "      <td>0.015116</td>\n",
       "      <td>0.016959</td>\n",
       "      <td>0.014246</td>\n",
       "      <td>0.023461</td>\n",
       "    </tr>\n",
       "    <tr>\n",
       "      <th>2020-12-30</th>\n",
       "      <td>0.012502</td>\n",
       "      <td>0.014221</td>\n",
       "      <td>0.005026</td>\n",
       "      <td>0.017453</td>\n",
       "      <td>0.015116</td>\n",
       "      <td>0.016959</td>\n",
       "      <td>0.014246</td>\n",
       "      <td>0.023461</td>\n",
       "    </tr>\n",
       "    <tr>\n",
       "      <th>2020-12-31</th>\n",
       "      <td>0.012502</td>\n",
       "      <td>0.014221</td>\n",
       "      <td>0.005026</td>\n",
       "      <td>0.017453</td>\n",
       "      <td>0.015116</td>\n",
       "      <td>0.016959</td>\n",
       "      <td>0.014246</td>\n",
       "      <td>0.023461</td>\n",
       "    </tr>\n",
       "  </tbody>\n",
       "</table>\n",
       "</div>"
      ],
      "text/plain": [
       "Country      Finland   Germany     Italy  Malaysia  Netherlands    Norway  \\\n",
       "Date                                                                        \n",
       "2020-12-27  0.012502  0.014221  0.005026  0.017453     0.015116  0.016959   \n",
       "2020-12-28  0.012502  0.014221  0.005026  0.017453     0.015116  0.016959   \n",
       "2020-12-29  0.012502  0.014221  0.005026  0.017453     0.015116  0.016959   \n",
       "2020-12-30  0.012502  0.014221  0.005026  0.017453     0.015116  0.016959   \n",
       "2020-12-31  0.012502  0.014221  0.005026  0.017453     0.015116  0.016959   \n",
       "\n",
       "Country     Portugal  United Kingdom  \n",
       "Date                                  \n",
       "2020-12-27  0.014246        0.023461  \n",
       "2020-12-28  0.014246        0.023461  \n",
       "2020-12-29  0.014246        0.023461  \n",
       "2020-12-30  0.014246        0.023461  \n",
       "2020-12-31  0.014246        0.023461  "
      ]
     },
     "execution_count": 15,
     "metadata": {},
     "output_type": "execute_result"
    }
   ],
   "source": [
    "analyser.history(\"rho\", roll_window=None).tail()"
   ]
  },
  {
   "cell_type": "markdown",
   "metadata": {},
   "source": [
    "### $\\sigma$: Recovery rate $\\mathrm{[-]}$"
   ]
  },
  {
   "cell_type": "code",
   "execution_count": 16,
   "metadata": {
    "collapsed": false
   },
   "outputs": [
    {
     "data": {
      "image/png": "[encoded data removed]",
      "text/plain": [
       "<Figure size 648x432 with 1 Axes>"
      ]
     },
     "metadata": {},
     "output_type": "display_data"
    },
    {
     "data": {
      "text/html": [
       "<div>\n",
       "<style scoped>\n",
       "    .dataframe tbody tr th:only-of-type {\n",
       "        vertical-align: middle;\n",
       "    }\n",
       "\n",
       "    .dataframe tbody tr th {\n",
       "        vertical-align: top;\n",
       "    }\n",
       "\n",
       "    .dataframe thead th {\n",
       "        text-align: right;\n",
       "    }\n",
       "</style>\n",
       "<table border=\"1\" class=\"dataframe\">\n",
       "  <thead>\n",
       "    <tr style=\"text-align: right;\">\n",
       "      <th>Country</th>\n",
       "      <th>Finland</th>\n",
       "      <th>Germany</th>\n",
       "      <th>Italy</th>\n",
       "      <th>Malaysia</th>\n",
       "      <th>Netherlands</th>\n",
       "      <th>Norway</th>\n",
       "      <th>Portugal</th>\n",
       "      <th>United Kingdom</th>\n",
       "    </tr>\n",
       "    <tr>\n",
       "      <th>Date</th>\n",
       "      <th></th>\n",
       "      <th></th>\n",
       "      <th></th>\n",
       "      <th></th>\n",
       "      <th></th>\n",
       "      <th></th>\n",
       "      <th></th>\n",
       "      <th></th>\n",
       "    </tr>\n",
       "  </thead>\n",
       "  <tbody>\n",
       "    <tr>\n",
       "      <th>2020-12-27</th>\n",
       "      <td>0.018497</td>\n",
       "      <td>0.013637</td>\n",
       "      <td>0.006702</td>\n",
       "      <td>0.017361</td>\n",
       "      <td>0.010748</td>\n",
       "      <td>0.01938</td>\n",
       "      <td>0.01753</td>\n",
       "      <td>0.00938</td>\n",
       "    </tr>\n",
       "    <tr>\n",
       "      <th>2020-12-28</th>\n",
       "      <td>0.018497</td>\n",
       "      <td>0.013637</td>\n",
       "      <td>0.006702</td>\n",
       "      <td>0.017361</td>\n",
       "      <td>0.010748</td>\n",
       "      <td>0.01938</td>\n",
       "      <td>0.01753</td>\n",
       "      <td>0.00938</td>\n",
       "    </tr>\n",
       "    <tr>\n",
       "      <th>2020-12-29</th>\n",
       "      <td>0.018497</td>\n",
       "      <td>0.013637</td>\n",
       "      <td>0.006702</td>\n",
       "      <td>0.017361</td>\n",
       "      <td>0.010748</td>\n",
       "      <td>0.01938</td>\n",
       "      <td>0.01753</td>\n",
       "      <td>0.00938</td>\n",
       "    </tr>\n",
       "    <tr>\n",
       "      <th>2020-12-30</th>\n",
       "      <td>0.018497</td>\n",
       "      <td>0.013637</td>\n",
       "      <td>0.006702</td>\n",
       "      <td>0.017361</td>\n",
       "      <td>0.010748</td>\n",
       "      <td>0.01938</td>\n",
       "      <td>0.01753</td>\n",
       "      <td>0.00938</td>\n",
       "    </tr>\n",
       "    <tr>\n",
       "      <th>2020-12-31</th>\n",
       "      <td>0.018497</td>\n",
       "      <td>0.013637</td>\n",
       "      <td>0.006702</td>\n",
       "      <td>0.017361</td>\n",
       "      <td>0.010748</td>\n",
       "      <td>0.01938</td>\n",
       "      <td>0.01753</td>\n",
       "      <td>0.00938</td>\n",
       "    </tr>\n",
       "  </tbody>\n",
       "</table>\n",
       "</div>"
      ],
      "text/plain": [
       "Country      Finland   Germany     Italy  Malaysia  Netherlands   Norway  \\\n",
       "Date                                                                       \n",
       "2020-12-27  0.018497  0.013637  0.006702  0.017361     0.010748  0.01938   \n",
       "2020-12-28  0.018497  0.013637  0.006702  0.017361     0.010748  0.01938   \n",
       "2020-12-29  0.018497  0.013637  0.006702  0.017361     0.010748  0.01938   \n",
       "2020-12-30  0.018497  0.013637  0.006702  0.017361     0.010748  0.01938   \n",
       "2020-12-31  0.018497  0.013637  0.006702  0.017361     0.010748  0.01938   \n",
       "\n",
       "Country     Portugal  United Kingdom  \n",
       "Date                                  \n",
       "2020-12-27   0.01753         0.00938  \n",
       "2020-12-28   0.01753         0.00938  \n",
       "2020-12-29   0.01753         0.00938  \n",
       "2020-12-30   0.01753         0.00938  \n",
       "2020-12-31   0.01753         0.00938  "
      ]
     },
     "execution_count": 16,
     "metadata": {},
     "output_type": "execute_result"
    }
   ],
   "source": [
    "analyser.history(\"sigma\", roll_window=None).tail()"
   ]
  },
  {
   "cell_type": "markdown",
   "metadata": {},
   "source": [
    "### $\\kappa$: Mortality rate of infected cases $\\mathrm{[-]}$"
   ]
  },
  {
   "cell_type": "code",
   "execution_count": 17,
   "metadata": {
    "collapsed": false
   },
   "outputs": [
    {
     "data": {
      "image/png": "[encoded data removed]",
      "text/plain": [
       "<Figure size 648x432 with 1 Axes>"
      ]
     },
     "metadata": {},
     "output_type": "display_data"
    },
    {
     "data": {
      "text/html": [
       "<div>\n",
       "<style scoped>\n",
       "    .dataframe tbody tr th:only-of-type {\n",
       "        vertical-align: middle;\n",
       "    }\n",
       "\n",
       "    .dataframe tbody tr th {\n",
       "        vertical-align: top;\n",
       "    }\n",
       "\n",
       "    .dataframe thead th {\n",
       "        text-align: right;\n",
       "    }\n",
       "</style>\n",
       "<table border=\"1\" class=\"dataframe\">\n",
       "  <thead>\n",
       "    <tr style=\"text-align: right;\">\n",
       "      <th>Country</th>\n",
       "      <th>Finland</th>\n",
       "      <th>Germany</th>\n",
       "      <th>Italy</th>\n",
       "      <th>Malaysia</th>\n",
       "      <th>Netherlands</th>\n",
       "      <th>Norway</th>\n",
       "      <th>Portugal</th>\n",
       "      <th>United Kingdom</th>\n",
       "    </tr>\n",
       "    <tr>\n",
       "      <th>Date</th>\n",
       "      <th></th>\n",
       "      <th></th>\n",
       "      <th></th>\n",
       "      <th></th>\n",
       "      <th></th>\n",
       "      <th></th>\n",
       "      <th></th>\n",
       "      <th></th>\n",
       "    </tr>\n",
       "  </thead>\n",
       "  <tbody>\n",
       "    <tr>\n",
       "      <th>2020-12-27</th>\n",
       "      <td>0.000014</td>\n",
       "      <td>0.000068</td>\n",
       "      <td>0.000002</td>\n",
       "      <td>0.000002</td>\n",
       "      <td>0.000079</td>\n",
       "      <td>0.000193</td>\n",
       "      <td>0.00015</td>\n",
       "      <td>0.00015</td>\n",
       "    </tr>\n",
       "    <tr>\n",
       "      <th>2020-12-28</th>\n",
       "      <td>0.000014</td>\n",
       "      <td>0.000068</td>\n",
       "      <td>0.000002</td>\n",
       "      <td>0.000002</td>\n",
       "      <td>0.000079</td>\n",
       "      <td>0.000193</td>\n",
       "      <td>0.00015</td>\n",
       "      <td>0.00015</td>\n",
       "    </tr>\n",
       "    <tr>\n",
       "      <th>2020-12-29</th>\n",
       "      <td>0.000014</td>\n",
       "      <td>0.000068</td>\n",
       "      <td>0.000002</td>\n",
       "      <td>0.000002</td>\n",
       "      <td>0.000079</td>\n",
       "      <td>0.000193</td>\n",
       "      <td>0.00015</td>\n",
       "      <td>0.00015</td>\n",
       "    </tr>\n",
       "    <tr>\n",
       "      <th>2020-12-30</th>\n",
       "      <td>0.000014</td>\n",
       "      <td>0.000068</td>\n",
       "      <td>0.000002</td>\n",
       "      <td>0.000002</td>\n",
       "      <td>0.000079</td>\n",
       "      <td>0.000193</td>\n",
       "      <td>0.00015</td>\n",
       "      <td>0.00015</td>\n",
       "    </tr>\n",
       "    <tr>\n",
       "      <th>2020-12-31</th>\n",
       "      <td>0.000014</td>\n",
       "      <td>0.000068</td>\n",
       "      <td>0.000002</td>\n",
       "      <td>0.000002</td>\n",
       "      <td>0.000079</td>\n",
       "      <td>0.000193</td>\n",
       "      <td>0.00015</td>\n",
       "      <td>0.00015</td>\n",
       "    </tr>\n",
       "  </tbody>\n",
       "</table>\n",
       "</div>"
      ],
      "text/plain": [
       "Country      Finland   Germany     Italy  Malaysia  Netherlands    Norway  \\\n",
       "Date                                                                        \n",
       "2020-12-27  0.000014  0.000068  0.000002  0.000002     0.000079  0.000193   \n",
       "2020-12-28  0.000014  0.000068  0.000002  0.000002     0.000079  0.000193   \n",
       "2020-12-29  0.000014  0.000068  0.000002  0.000002     0.000079  0.000193   \n",
       "2020-12-30  0.000014  0.000068  0.000002  0.000002     0.000079  0.000193   \n",
       "2020-12-31  0.000014  0.000068  0.000002  0.000002     0.000079  0.000193   \n",
       "\n",
       "Country     Portugal  United Kingdom  \n",
       "Date                                  \n",
       "2020-12-27   0.00015         0.00015  \n",
       "2020-12-28   0.00015         0.00015  \n",
       "2020-12-29   0.00015         0.00015  \n",
       "2020-12-30   0.00015         0.00015  \n",
       "2020-12-31   0.00015         0.00015  "
      ]
     },
     "execution_count": 17,
     "metadata": {},
     "output_type": "execute_result"
    }
   ],
   "source": [
    "analyser.history(\"kappa\", roll_window=None).tail()"
   ]
  },
  {
   "cell_type": "markdown",
   "metadata": {},
   "source": [
    "### $\\theta$: Mortality rate of S$^\\ast$ cases $\\mathrm{[-]}$"
   ]
  },
  {
   "cell_type": "code",
   "execution_count": 18,
   "metadata": {
    "collapsed": false
   },
   "outputs": [
    {
     "data": {
      "image/png": "[encoded data removed]",
      "text/plain": [
       "<Figure size 648x432 with 1 Axes>"
      ]
     },
     "metadata": {},
     "output_type": "display_data"
    },
    {
     "data": {
      "text/html": [
       "<div>\n",
       "<style scoped>\n",
       "    .dataframe tbody tr th:only-of-type {\n",
       "        vertical-align: middle;\n",
       "    }\n",
       "\n",
       "    .dataframe tbody tr th {\n",
       "        vertical-align: top;\n",
       "    }\n",
       "\n",
       "    .dataframe thead th {\n",
       "        text-align: right;\n",
       "    }\n",
       "</style>\n",
       "<table border=\"1\" class=\"dataframe\">\n",
       "  <thead>\n",
       "    <tr style=\"text-align: right;\">\n",
       "      <th>Country</th>\n",
       "      <th>Finland</th>\n",
       "      <th>Germany</th>\n",
       "      <th>Italy</th>\n",
       "      <th>Malaysia</th>\n",
       "      <th>Netherlands</th>\n",
       "      <th>Norway</th>\n",
       "      <th>Portugal</th>\n",
       "      <th>United Kingdom</th>\n",
       "    </tr>\n",
       "    <tr>\n",
       "      <th>Date</th>\n",
       "      <th></th>\n",
       "      <th></th>\n",
       "      <th></th>\n",
       "      <th></th>\n",
       "      <th></th>\n",
       "      <th></th>\n",
       "      <th></th>\n",
       "      <th></th>\n",
       "    </tr>\n",
       "  </thead>\n",
       "  <tbody>\n",
       "    <tr>\n",
       "      <th>2020-12-27</th>\n",
       "      <td>0.019041</td>\n",
       "      <td>0.000665</td>\n",
       "      <td>0.040461</td>\n",
       "      <td>0.002172</td>\n",
       "      <td>0.003965</td>\n",
       "      <td>0.001212</td>\n",
       "      <td>0.001015</td>\n",
       "      <td>0.000898</td>\n",
       "    </tr>\n",
       "    <tr>\n",
       "      <th>2020-12-28</th>\n",
       "      <td>0.019041</td>\n",
       "      <td>0.000665</td>\n",
       "      <td>0.040461</td>\n",
       "      <td>0.002172</td>\n",
       "      <td>0.003965</td>\n",
       "      <td>0.001212</td>\n",
       "      <td>0.001015</td>\n",
       "      <td>0.000898</td>\n",
       "    </tr>\n",
       "    <tr>\n",
       "      <th>2020-12-29</th>\n",
       "      <td>0.019041</td>\n",
       "      <td>0.000665</td>\n",
       "      <td>0.040461</td>\n",
       "      <td>0.002172</td>\n",
       "      <td>0.003965</td>\n",
       "      <td>0.001212</td>\n",
       "      <td>0.001015</td>\n",
       "      <td>0.000898</td>\n",
       "    </tr>\n",
       "    <tr>\n",
       "      <th>2020-12-30</th>\n",
       "      <td>0.019041</td>\n",
       "      <td>0.000665</td>\n",
       "      <td>0.040461</td>\n",
       "      <td>0.002172</td>\n",
       "      <td>0.003965</td>\n",
       "      <td>0.001212</td>\n",
       "      <td>0.001015</td>\n",
       "      <td>0.000898</td>\n",
       "    </tr>\n",
       "    <tr>\n",
       "      <th>2020-12-31</th>\n",
       "      <td>0.019041</td>\n",
       "      <td>0.000665</td>\n",
       "      <td>0.040461</td>\n",
       "      <td>0.002172</td>\n",
       "      <td>0.003965</td>\n",
       "      <td>0.001212</td>\n",
       "      <td>0.001015</td>\n",
       "      <td>0.000898</td>\n",
       "    </tr>\n",
       "  </tbody>\n",
       "</table>\n",
       "</div>"
      ],
      "text/plain": [
       "Country      Finland   Germany     Italy  Malaysia  Netherlands    Norway  \\\n",
       "Date                                                                        \n",
       "2020-12-27  0.019041  0.000665  0.040461  0.002172     0.003965  0.001212   \n",
       "2020-12-28  0.019041  0.000665  0.040461  0.002172     0.003965  0.001212   \n",
       "2020-12-29  0.019041  0.000665  0.040461  0.002172     0.003965  0.001212   \n",
       "2020-12-30  0.019041  0.000665  0.040461  0.002172     0.003965  0.001212   \n",
       "2020-12-31  0.019041  0.000665  0.040461  0.002172     0.003965  0.001212   \n",
       "\n",
       "Country     Portugal  United Kingdom  \n",
       "Date                                  \n",
       "2020-12-27  0.001015        0.000898  \n",
       "2020-12-28  0.001015        0.000898  \n",
       "2020-12-29  0.001015        0.000898  \n",
       "2020-12-30  0.001015        0.000898  \n",
       "2020-12-31  0.001015        0.000898  "
      ]
     },
     "execution_count": 18,
     "metadata": {},
     "output_type": "execute_result"
    }
   ],
   "source": [
    "analyser.history(\"theta\", roll_window=None).tail()"
   ]
  },
  {
   "cell_type": "markdown",
   "metadata": {},
   "source": [
    "## (Experimental): Relationship of OxCGRT index and parameter values\n",
    "Government responses will impact on parameter values of ODE models about 14 days later. Here, we will investigate on the relationship of [stringency index (from OxCGRT)](https://github.com/OxCGRT/covid-policy-tracker/blob/master/documentation/index_methodology.md) and reproduction number/model parameters.\n"
   ]
  },
  {
   "cell_type": "code",
   "execution_count": 19,
   "metadata": {
    "collapsed": false
   },
   "outputs": [],
   "source": [
    "%matplotlib inline\n",
    "from matplotlib import pyplot as plt\n",
    "import seaborn as sns\n",
    "import pandas as pd"
   ]
  },
  {
   "cell_type": "code",
   "execution_count": 20,
   "metadata": {
    "collapsed": false
   },
   "outputs": [
    {
     "name": "stdout",
     "output_type": "stream",
     "text": [
      "<class 'pandas.core.frame.DataFrame'>\n",
      "Int64Index: 27214 entries, 0 to 27311\n",
      "Data columns (total 19 columns):\n",
      " #   Column                               Non-Null Count  Dtype         \n",
      "---  ------                               --------------  -----         \n",
      " 0   Date                                 27214 non-null  datetime64[ns]\n",
      " 1   Country                              27214 non-null  object        \n",
      " 2   Rt                                   27214 non-null  float64       \n",
      " 3   theta                                27214 non-null  float64       \n",
      " 4   kappa                                27214 non-null  float64       \n",
      " 5   rho                                  27214 non-null  float64       \n",
      " 6   sigma                                27214 non-null  float64       \n",
      " 7   School_closing                       27214 non-null  int64         \n",
      " 8   Workplace_closing                    27214 non-null  int64         \n",
      " 9   Cancel_events                        27214 non-null  int64         \n",
      " 10  Gatherings_restrictions              27214 non-null  int64         \n",
      " 11  Transport_closing                    27214 non-null  int64         \n",
      " 12  Stay_home_restrictions               27214 non-null  int64         \n",
      " 13  Internal_movement_restrictions       27214 non-null  int64         \n",
      " 14  International_movement_restrictions  27214 non-null  int64         \n",
      " 15  Information_campaigns                27214 non-null  int64         \n",
      " 16  Testing_policy                       27214 non-null  int64         \n",
      " 17  Contact_tracing                      27214 non-null  int64         \n",
      " 18  Stringency_index                     27214 non-null  float64       \n",
      "dtypes: datetime64[ns](1), float64(6), int64(11), object(1)\n",
      "memory usage: 4.2+ MB\n"
     ]
    }
   ],
   "source": [
    "df = analyser.track()\n",
    "param_cols = [\"Rt\", *cs.SIRF.PARAMETERS]\n",
    "oxcgrt_cols = oxcgrt_data.OXCGRT_VARS[:]\n",
    "cols = param_cols + oxcgrt_cols\n",
    "delay = 14\n",
    "\n",
    "for col in param_cols:\n",
    "    df[col] = pd.to_numeric(df[col], errors=\"coerce\")\n",
    "    df[col] = df.groupby(\"Country\")[col].shift(0 - delay)\n",
    "\n",
    "df = df.dropna(how=\"any\")\n",
    "df = df.loc[:, [\"Date\", \"Country\", *cols]]\n",
    "track_df = df.copy()\n",
    "track_df.info()"
   ]
  },
  {
   "cell_type": "code",
   "execution_count": 21,
   "metadata": {
    "collapsed": false
   },
   "outputs": [
    {
     "data": {
      "text/html": [
       "<style  type=\"text/css\" >\n",
       "#T_00e45478_4b70_11eb_99ea_525400a9d4fbrow0_col0,#T_00e45478_4b70_11eb_99ea_525400a9d4fbrow1_col1,#T_00e45478_4b70_11eb_99ea_525400a9d4fbrow2_col2,#T_00e45478_4b70_11eb_99ea_525400a9d4fbrow3_col3,#T_00e45478_4b70_11eb_99ea_525400a9d4fbrow4_col4,#T_00e45478_4b70_11eb_99ea_525400a9d4fbrow5_col5,#T_00e45478_4b70_11eb_99ea_525400a9d4fbrow6_col6,#T_00e45478_4b70_11eb_99ea_525400a9d4fbrow7_col7,#T_00e45478_4b70_11eb_99ea_525400a9d4fbrow8_col8,#T_00e45478_4b70_11eb_99ea_525400a9d4fbrow9_col9,#T_00e45478_4b70_11eb_99ea_525400a9d4fbrow10_col10,#T_00e45478_4b70_11eb_99ea_525400a9d4fbrow11_col11,#T_00e45478_4b70_11eb_99ea_525400a9d4fbrow12_col12,#T_00e45478_4b70_11eb_99ea_525400a9d4fbrow13_col13,#T_00e45478_4b70_11eb_99ea_525400a9d4fbrow14_col14,#T_00e45478_4b70_11eb_99ea_525400a9d4fbrow15_col15,#T_00e45478_4b70_11eb_99ea_525400a9d4fbrow16_col16{\n",
       "            background-color:  #023858;\n",
       "            color:  #f1f1f1;\n",
       "        }#T_00e45478_4b70_11eb_99ea_525400a9d4fbrow0_col1,#T_00e45478_4b70_11eb_99ea_525400a9d4fbrow1_col0{\n",
       "            background-color:  #c5cce3;\n",
       "            color:  #000000;\n",
       "        }#T_00e45478_4b70_11eb_99ea_525400a9d4fbrow0_col2,#T_00e45478_4b70_11eb_99ea_525400a9d4fbrow2_col0,#T_00e45478_4b70_11eb_99ea_525400a9d4fbrow5_col13,#T_00e45478_4b70_11eb_99ea_525400a9d4fbrow13_col5{\n",
       "            background-color:  #5c9fc9;\n",
       "            color:  #000000;\n",
       "        }#T_00e45478_4b70_11eb_99ea_525400a9d4fbrow0_col3,#T_00e45478_4b70_11eb_99ea_525400a9d4fbrow3_col0,#T_00e45478_4b70_11eb_99ea_525400a9d4fbrow6_col16,#T_00e45478_4b70_11eb_99ea_525400a9d4fbrow16_col6{\n",
       "            background-color:  #045e94;\n",
       "            color:  #f1f1f1;\n",
       "        }#T_00e45478_4b70_11eb_99ea_525400a9d4fbrow0_col4,#T_00e45478_4b70_11eb_99ea_525400a9d4fbrow3_col7,#T_00e45478_4b70_11eb_99ea_525400a9d4fbrow4_col0,#T_00e45478_4b70_11eb_99ea_525400a9d4fbrow7_col3{\n",
       "            background-color:  #faf3f9;\n",
       "            color:  #000000;\n",
       "        }#T_00e45478_4b70_11eb_99ea_525400a9d4fbrow0_col5,#T_00e45478_4b70_11eb_99ea_525400a9d4fbrow2_col8,#T_00e45478_4b70_11eb_99ea_525400a9d4fbrow3_col10,#T_00e45478_4b70_11eb_99ea_525400a9d4fbrow5_col0,#T_00e45478_4b70_11eb_99ea_525400a9d4fbrow8_col2,#T_00e45478_4b70_11eb_99ea_525400a9d4fbrow10_col3{\n",
       "            background-color:  #d7d6e9;\n",
       "            color:  #000000;\n",
       "        }#T_00e45478_4b70_11eb_99ea_525400a9d4fbrow0_col6,#T_00e45478_4b70_11eb_99ea_525400a9d4fbrow0_col13,#T_00e45478_4b70_11eb_99ea_525400a9d4fbrow6_col0,#T_00e45478_4b70_11eb_99ea_525400a9d4fbrow13_col0{\n",
       "            background-color:  #e7e3f0;\n",
       "            color:  #000000;\n",
       "        }#T_00e45478_4b70_11eb_99ea_525400a9d4fbrow0_col7,#T_00e45478_4b70_11eb_99ea_525400a9d4fbrow7_col0{\n",
       "            background-color:  #fff7fb;\n",
       "            color:  #000000;\n",
       "        }#T_00e45478_4b70_11eb_99ea_525400a9d4fbrow0_col8,#T_00e45478_4b70_11eb_99ea_525400a9d4fbrow8_col0{\n",
       "            background-color:  #f9f2f8;\n",
       "            color:  #000000;\n",
       "        }#T_00e45478_4b70_11eb_99ea_525400a9d4fbrow0_col9,#T_00e45478_4b70_11eb_99ea_525400a9d4fbrow9_col0{\n",
       "            background-color:  #dcdaeb;\n",
       "            color:  #000000;\n",
       "        }#T_00e45478_4b70_11eb_99ea_525400a9d4fbrow0_col10,#T_00e45478_4b70_11eb_99ea_525400a9d4fbrow10_col0{\n",
       "            background-color:  #d2d3e7;\n",
       "            color:  #000000;\n",
       "        }#T_00e45478_4b70_11eb_99ea_525400a9d4fbrow0_col11,#T_00e45478_4b70_11eb_99ea_525400a9d4fbrow11_col0{\n",
       "            background-color:  #e9e5f1;\n",
       "            color:  #000000;\n",
       "        }#T_00e45478_4b70_11eb_99ea_525400a9d4fbrow0_col12,#T_00e45478_4b70_11eb_99ea_525400a9d4fbrow12_col0{\n",
       "            background-color:  #f5eff6;\n",
       "            color:  #000000;\n",
       "        }#T_00e45478_4b70_11eb_99ea_525400a9d4fbrow0_col14,#T_00e45478_4b70_11eb_99ea_525400a9d4fbrow2_col14,#T_00e45478_4b70_11eb_99ea_525400a9d4fbrow14_col0,#T_00e45478_4b70_11eb_99ea_525400a9d4fbrow14_col2{\n",
       "            background-color:  #f7f0f7;\n",
       "            color:  #000000;\n",
       "        }#T_00e45478_4b70_11eb_99ea_525400a9d4fbrow0_col15,#T_00e45478_4b70_11eb_99ea_525400a9d4fbrow15_col0{\n",
       "            background-color:  #dfddec;\n",
       "            color:  #000000;\n",
       "        }#T_00e45478_4b70_11eb_99ea_525400a9d4fbrow0_col16,#T_00e45478_4b70_11eb_99ea_525400a9d4fbrow16_col0{\n",
       "            background-color:  #efe9f3;\n",
       "            color:  #000000;\n",
       "        }#T_00e45478_4b70_11eb_99ea_525400a9d4fbrow1_col2,#T_00e45478_4b70_11eb_99ea_525400a9d4fbrow2_col1{\n",
       "            background-color:  #b5c4df;\n",
       "            color:  #000000;\n",
       "        }#T_00e45478_4b70_11eb_99ea_525400a9d4fbrow1_col3,#T_00e45478_4b70_11eb_99ea_525400a9d4fbrow3_col1{\n",
       "            background-color:  #e5e1ef;\n",
       "            color:  #000000;\n",
       "        }#T_00e45478_4b70_11eb_99ea_525400a9d4fbrow1_col4,#T_00e45478_4b70_11eb_99ea_525400a9d4fbrow4_col1{\n",
       "            background-color:  #c6cce3;\n",
       "            color:  #000000;\n",
       "        }#T_00e45478_4b70_11eb_99ea_525400a9d4fbrow1_col5,#T_00e45478_4b70_11eb_99ea_525400a9d4fbrow5_col1,#T_00e45478_4b70_11eb_99ea_525400a9d4fbrow8_col10,#T_00e45478_4b70_11eb_99ea_525400a9d4fbrow10_col8{\n",
       "            background-color:  #2081b9;\n",
       "            color:  #000000;\n",
       "        }#T_00e45478_4b70_11eb_99ea_525400a9d4fbrow1_col6,#T_00e45478_4b70_11eb_99ea_525400a9d4fbrow6_col1{\n",
       "            background-color:  #a5bddb;\n",
       "            color:  #000000;\n",
       "        }#T_00e45478_4b70_11eb_99ea_525400a9d4fbrow1_col7,#T_00e45478_4b70_11eb_99ea_525400a9d4fbrow7_col1{\n",
       "            background-color:  #88b1d4;\n",
       "            color:  #000000;\n",
       "        }#T_00e45478_4b70_11eb_99ea_525400a9d4fbrow1_col8,#T_00e45478_4b70_11eb_99ea_525400a9d4fbrow4_col9,#T_00e45478_4b70_11eb_99ea_525400a9d4fbrow8_col1,#T_00e45478_4b70_11eb_99ea_525400a9d4fbrow9_col4{\n",
       "            background-color:  #c8cde4;\n",
       "            color:  #000000;\n",
       "        }#T_00e45478_4b70_11eb_99ea_525400a9d4fbrow1_col9,#T_00e45478_4b70_11eb_99ea_525400a9d4fbrow9_col1{\n",
       "            background-color:  #1077b4;\n",
       "            color:  #f1f1f1;\n",
       "        }#T_00e45478_4b70_11eb_99ea_525400a9d4fbrow1_col10,#T_00e45478_4b70_11eb_99ea_525400a9d4fbrow4_col11,#T_00e45478_4b70_11eb_99ea_525400a9d4fbrow10_col1,#T_00e45478_4b70_11eb_99ea_525400a9d4fbrow11_col4{\n",
       "            background-color:  #9cb9d9;\n",
       "            color:  #000000;\n",
       "        }#T_00e45478_4b70_11eb_99ea_525400a9d4fbrow1_col11,#T_00e45478_4b70_11eb_99ea_525400a9d4fbrow6_col9,#T_00e45478_4b70_11eb_99ea_525400a9d4fbrow9_col6,#T_00e45478_4b70_11eb_99ea_525400a9d4fbrow10_col13,#T_00e45478_4b70_11eb_99ea_525400a9d4fbrow11_col1,#T_00e45478_4b70_11eb_99ea_525400a9d4fbrow13_col10{\n",
       "            background-color:  #5a9ec9;\n",
       "            color:  #000000;\n",
       "        }#T_00e45478_4b70_11eb_99ea_525400a9d4fbrow1_col12,#T_00e45478_4b70_11eb_99ea_525400a9d4fbrow6_col15,#T_00e45478_4b70_11eb_99ea_525400a9d4fbrow12_col1,#T_00e45478_4b70_11eb_99ea_525400a9d4fbrow15_col6{\n",
       "            background-color:  #bdc8e1;\n",
       "            color:  #000000;\n",
       "        }#T_00e45478_4b70_11eb_99ea_525400a9d4fbrow1_col13,#T_00e45478_4b70_11eb_99ea_525400a9d4fbrow13_col1{\n",
       "            background-color:  #94b6d7;\n",
       "            color:  #000000;\n",
       "        }#T_00e45478_4b70_11eb_99ea_525400a9d4fbrow1_col14,#T_00e45478_4b70_11eb_99ea_525400a9d4fbrow14_col1,#T_00e45478_4b70_11eb_99ea_525400a9d4fbrow15_col16,#T_00e45478_4b70_11eb_99ea_525400a9d4fbrow16_col15{\n",
       "            background-color:  #b9c6e0;\n",
       "            color:  #000000;\n",
       "        }#T_00e45478_4b70_11eb_99ea_525400a9d4fbrow1_col15,#T_00e45478_4b70_11eb_99ea_525400a9d4fbrow15_col1{\n",
       "            background-color:  #7eadd1;\n",
       "            color:  #000000;\n",
       "        }#T_00e45478_4b70_11eb_99ea_525400a9d4fbrow1_col16,#T_00e45478_4b70_11eb_99ea_525400a9d4fbrow8_col15,#T_00e45478_4b70_11eb_99ea_525400a9d4fbrow11_col15,#T_00e45478_4b70_11eb_99ea_525400a9d4fbrow15_col8,#T_00e45478_4b70_11eb_99ea_525400a9d4fbrow15_col11,#T_00e45478_4b70_11eb_99ea_525400a9d4fbrow16_col1{\n",
       "            background-color:  #a7bddb;\n",
       "            color:  #000000;\n",
       "        }#T_00e45478_4b70_11eb_99ea_525400a9d4fbrow2_col3,#T_00e45478_4b70_11eb_99ea_525400a9d4fbrow3_col2{\n",
       "            background-color:  #4e9ac6;\n",
       "            color:  #000000;\n",
       "        }#T_00e45478_4b70_11eb_99ea_525400a9d4fbrow2_col4,#T_00e45478_4b70_11eb_99ea_525400a9d4fbrow4_col2{\n",
       "            background-color:  #ced0e6;\n",
       "            color:  #000000;\n",
       "        }#T_00e45478_4b70_11eb_99ea_525400a9d4fbrow2_col5,#T_00e45478_4b70_11eb_99ea_525400a9d4fbrow5_col2,#T_00e45478_4b70_11eb_99ea_525400a9d4fbrow10_col12,#T_00e45478_4b70_11eb_99ea_525400a9d4fbrow12_col10{\n",
       "            background-color:  #7dacd1;\n",
       "            color:  #000000;\n",
       "        }#T_00e45478_4b70_11eb_99ea_525400a9d4fbrow2_col6,#T_00e45478_4b70_11eb_99ea_525400a9d4fbrow6_col2,#T_00e45478_4b70_11eb_99ea_525400a9d4fbrow9_col12,#T_00e45478_4b70_11eb_99ea_525400a9d4fbrow12_col9{\n",
       "            background-color:  #acc0dd;\n",
       "            color:  #000000;\n",
       "        }#T_00e45478_4b70_11eb_99ea_525400a9d4fbrow2_col7,#T_00e45478_4b70_11eb_99ea_525400a9d4fbrow3_col13,#T_00e45478_4b70_11eb_99ea_525400a9d4fbrow7_col2,#T_00e45478_4b70_11eb_99ea_525400a9d4fbrow13_col3{\n",
       "            background-color:  #d4d4e8;\n",
       "            color:  #000000;\n",
       "        }#T_00e45478_4b70_11eb_99ea_525400a9d4fbrow2_col9,#T_00e45478_4b70_11eb_99ea_525400a9d4fbrow9_col2{\n",
       "            background-color:  #c0c9e2;\n",
       "            color:  #000000;\n",
       "        }#T_00e45478_4b70_11eb_99ea_525400a9d4fbrow2_col10,#T_00e45478_4b70_11eb_99ea_525400a9d4fbrow10_col2{\n",
       "            background-color:  #99b8d8;\n",
       "            color:  #000000;\n",
       "        }#T_00e45478_4b70_11eb_99ea_525400a9d4fbrow2_col11,#T_00e45478_4b70_11eb_99ea_525400a9d4fbrow11_col2{\n",
       "            background-color:  #c2cbe2;\n",
       "            color:  #000000;\n",
       "        }#T_00e45478_4b70_11eb_99ea_525400a9d4fbrow2_col12,#T_00e45478_4b70_11eb_99ea_525400a9d4fbrow12_col2{\n",
       "            background-color:  #d3d4e7;\n",
       "            color:  #000000;\n",
       "        }#T_00e45478_4b70_11eb_99ea_525400a9d4fbrow2_col13,#T_00e45478_4b70_11eb_99ea_525400a9d4fbrow13_col2{\n",
       "            background-color:  #d0d1e6;\n",
       "            color:  #000000;\n",
       "        }#T_00e45478_4b70_11eb_99ea_525400a9d4fbrow2_col15,#T_00e45478_4b70_11eb_99ea_525400a9d4fbrow15_col2{\n",
       "            background-color:  #d6d6e9;\n",
       "            color:  #000000;\n",
       "        }#T_00e45478_4b70_11eb_99ea_525400a9d4fbrow2_col16,#T_00e45478_4b70_11eb_99ea_525400a9d4fbrow16_col2{\n",
       "            background-color:  #9fbad9;\n",
       "            color:  #000000;\n",
       "        }#T_00e45478_4b70_11eb_99ea_525400a9d4fbrow3_col4,#T_00e45478_4b70_11eb_99ea_525400a9d4fbrow4_col3{\n",
       "            background-color:  #e8e4f0;\n",
       "            color:  #000000;\n",
       "        }#T_00e45478_4b70_11eb_99ea_525400a9d4fbrow3_col5,#T_00e45478_4b70_11eb_99ea_525400a9d4fbrow5_col3{\n",
       "            background-color:  #e3e0ee;\n",
       "            color:  #000000;\n",
       "        }#T_00e45478_4b70_11eb_99ea_525400a9d4fbrow3_col6,#T_00e45478_4b70_11eb_99ea_525400a9d4fbrow6_col3{\n",
       "            background-color:  #e0deed;\n",
       "            color:  #000000;\n",
       "        }#T_00e45478_4b70_11eb_99ea_525400a9d4fbrow3_col8,#T_00e45478_4b70_11eb_99ea_525400a9d4fbrow8_col3{\n",
       "            background-color:  #ede7f2;\n",
       "            color:  #000000;\n",
       "        }#T_00e45478_4b70_11eb_99ea_525400a9d4fbrow3_col9,#T_00e45478_4b70_11eb_99ea_525400a9d4fbrow9_col3{\n",
       "            background-color:  #f4eef6;\n",
       "            color:  #000000;\n",
       "        }#T_00e45478_4b70_11eb_99ea_525400a9d4fbrow3_col11,#T_00e45478_4b70_11eb_99ea_525400a9d4fbrow11_col3{\n",
       "            background-color:  #eae6f1;\n",
       "            color:  #000000;\n",
       "        }#T_00e45478_4b70_11eb_99ea_525400a9d4fbrow3_col12,#T_00e45478_4b70_11eb_99ea_525400a9d4fbrow3_col14,#T_00e45478_4b70_11eb_99ea_525400a9d4fbrow12_col3,#T_00e45478_4b70_11eb_99ea_525400a9d4fbrow14_col3{\n",
       "            background-color:  #f0eaf4;\n",
       "            color:  #000000;\n",
       "        }#T_00e45478_4b70_11eb_99ea_525400a9d4fbrow3_col15,#T_00e45478_4b70_11eb_99ea_525400a9d4fbrow15_col3{\n",
       "            background-color:  #d2d2e7;\n",
       "            color:  #000000;\n",
       "        }#T_00e45478_4b70_11eb_99ea_525400a9d4fbrow3_col16,#T_00e45478_4b70_11eb_99ea_525400a9d4fbrow16_col3{\n",
       "            background-color:  #dddbec;\n",
       "            color:  #000000;\n",
       "        }#T_00e45478_4b70_11eb_99ea_525400a9d4fbrow4_col5,#T_00e45478_4b70_11eb_99ea_525400a9d4fbrow5_col4,#T_00e45478_4b70_11eb_99ea_525400a9d4fbrow8_col9,#T_00e45478_4b70_11eb_99ea_525400a9d4fbrow9_col8{\n",
       "            background-color:  #89b1d4;\n",
       "            color:  #000000;\n",
       "        }#T_00e45478_4b70_11eb_99ea_525400a9d4fbrow4_col6,#T_00e45478_4b70_11eb_99ea_525400a9d4fbrow4_col13,#T_00e45478_4b70_11eb_99ea_525400a9d4fbrow6_col4,#T_00e45478_4b70_11eb_99ea_525400a9d4fbrow13_col4,#T_00e45478_4b70_11eb_99ea_525400a9d4fbrow14_col16,#T_00e45478_4b70_11eb_99ea_525400a9d4fbrow16_col14{\n",
       "            background-color:  #69a5cc;\n",
       "            color:  #000000;\n",
       "        }#T_00e45478_4b70_11eb_99ea_525400a9d4fbrow4_col7,#T_00e45478_4b70_11eb_99ea_525400a9d4fbrow7_col4,#T_00e45478_4b70_11eb_99ea_525400a9d4fbrow12_col16,#T_00e45478_4b70_11eb_99ea_525400a9d4fbrow16_col12{\n",
       "            background-color:  #4c99c5;\n",
       "            color:  #000000;\n",
       "        }#T_00e45478_4b70_11eb_99ea_525400a9d4fbrow4_col8,#T_00e45478_4b70_11eb_99ea_525400a9d4fbrow8_col4{\n",
       "            background-color:  #348ebf;\n",
       "            color:  #000000;\n",
       "        }#T_00e45478_4b70_11eb_99ea_525400a9d4fbrow4_col10,#T_00e45478_4b70_11eb_99ea_525400a9d4fbrow9_col14,#T_00e45478_4b70_11eb_99ea_525400a9d4fbrow10_col4,#T_00e45478_4b70_11eb_99ea_525400a9d4fbrow14_col9{\n",
       "            background-color:  #afc1dd;\n",
       "            color:  #000000;\n",
       "        }#T_00e45478_4b70_11eb_99ea_525400a9d4fbrow4_col12,#T_00e45478_4b70_11eb_99ea_525400a9d4fbrow12_col4{\n",
       "            background-color:  #73a9cf;\n",
       "            color:  #000000;\n",
       "        }#T_00e45478_4b70_11eb_99ea_525400a9d4fbrow4_col14,#T_00e45478_4b70_11eb_99ea_525400a9d4fbrow9_col16,#T_00e45478_4b70_11eb_99ea_525400a9d4fbrow14_col4,#T_00e45478_4b70_11eb_99ea_525400a9d4fbrow16_col9{\n",
       "            background-color:  #62a2cb;\n",
       "            color:  #000000;\n",
       "        }#T_00e45478_4b70_11eb_99ea_525400a9d4fbrow4_col15,#T_00e45478_4b70_11eb_99ea_525400a9d4fbrow15_col4{\n",
       "            background-color:  #91b5d6;\n",
       "            color:  #000000;\n",
       "        }#T_00e45478_4b70_11eb_99ea_525400a9d4fbrow4_col16,#T_00e45478_4b70_11eb_99ea_525400a9d4fbrow16_col4{\n",
       "            background-color:  #71a8ce;\n",
       "            color:  #000000;\n",
       "        }#T_00e45478_4b70_11eb_99ea_525400a9d4fbrow5_col6,#T_00e45478_4b70_11eb_99ea_525400a9d4fbrow6_col5{\n",
       "            background-color:  #1b7eb7;\n",
       "            color:  #000000;\n",
       "        }#T_00e45478_4b70_11eb_99ea_525400a9d4fbrow5_col7,#T_00e45478_4b70_11eb_99ea_525400a9d4fbrow7_col5,#T_00e45478_4b70_11eb_99ea_525400a9d4fbrow10_col11,#T_00e45478_4b70_11eb_99ea_525400a9d4fbrow11_col10{\n",
       "            background-color:  #2182b9;\n",
       "            color:  #000000;\n",
       "        }#T_00e45478_4b70_11eb_99ea_525400a9d4fbrow5_col8,#T_00e45478_4b70_11eb_99ea_525400a9d4fbrow8_col5,#T_00e45478_4b70_11eb_99ea_525400a9d4fbrow11_col13,#T_00e45478_4b70_11eb_99ea_525400a9d4fbrow13_col11{\n",
       "            background-color:  #549cc7;\n",
       "            color:  #000000;\n",
       "        }#T_00e45478_4b70_11eb_99ea_525400a9d4fbrow5_col9,#T_00e45478_4b70_11eb_99ea_525400a9d4fbrow9_col5{\n",
       "            background-color:  #358fc0;\n",
       "            color:  #000000;\n",
       "        }#T_00e45478_4b70_11eb_99ea_525400a9d4fbrow5_col10,#T_00e45478_4b70_11eb_99ea_525400a9d4fbrow7_col14,#T_00e45478_4b70_11eb_99ea_525400a9d4fbrow10_col5,#T_00e45478_4b70_11eb_99ea_525400a9d4fbrow14_col7{\n",
       "            background-color:  #2987bc;\n",
       "            color:  #000000;\n",
       "        }#T_00e45478_4b70_11eb_99ea_525400a9d4fbrow5_col11,#T_00e45478_4b70_11eb_99ea_525400a9d4fbrow11_col5{\n",
       "            background-color:  #167bb6;\n",
       "            color:  #000000;\n",
       "        }#T_00e45478_4b70_11eb_99ea_525400a9d4fbrow5_col12,#T_00e45478_4b70_11eb_99ea_525400a9d4fbrow12_col5{\n",
       "            background-color:  #a1bbda;\n",
       "            color:  #000000;\n",
       "        }#T_00e45478_4b70_11eb_99ea_525400a9d4fbrow5_col14,#T_00e45478_4b70_11eb_99ea_525400a9d4fbrow14_col5{\n",
       "            background-color:  #b4c4df;\n",
       "            color:  #000000;\n",
       "        }#T_00e45478_4b70_11eb_99ea_525400a9d4fbrow5_col15,#T_00e45478_4b70_11eb_99ea_525400a9d4fbrow15_col5{\n",
       "            background-color:  #abbfdc;\n",
       "            color:  #000000;\n",
       "        }#T_00e45478_4b70_11eb_99ea_525400a9d4fbrow5_col16,#T_00e45478_4b70_11eb_99ea_525400a9d4fbrow16_col5{\n",
       "            background-color:  #0771b1;\n",
       "            color:  #f1f1f1;\n",
       "        }#T_00e45478_4b70_11eb_99ea_525400a9d4fbrow6_col7,#T_00e45478_4b70_11eb_99ea_525400a9d4fbrow6_col10,#T_00e45478_4b70_11eb_99ea_525400a9d4fbrow7_col6,#T_00e45478_4b70_11eb_99ea_525400a9d4fbrow10_col6{\n",
       "            background-color:  #05659f;\n",
       "            color:  #f1f1f1;\n",
       "        }#T_00e45478_4b70_11eb_99ea_525400a9d4fbrow6_col8,#T_00e45478_4b70_11eb_99ea_525400a9d4fbrow8_col6{\n",
       "            background-color:  #0567a1;\n",
       "            color:  #f1f1f1;\n",
       "        }#T_00e45478_4b70_11eb_99ea_525400a9d4fbrow6_col11,#T_00e45478_4b70_11eb_99ea_525400a9d4fbrow11_col6{\n",
       "            background-color:  #187cb6;\n",
       "            color:  #000000;\n",
       "        }#T_00e45478_4b70_11eb_99ea_525400a9d4fbrow6_col12,#T_00e45478_4b70_11eb_99ea_525400a9d4fbrow12_col6{\n",
       "            background-color:  #78abd0;\n",
       "            color:  #000000;\n",
       "        }#T_00e45478_4b70_11eb_99ea_525400a9d4fbrow6_col13,#T_00e45478_4b70_11eb_99ea_525400a9d4fbrow13_col6,#T_00e45478_4b70_11eb_99ea_525400a9d4fbrow13_col14,#T_00e45478_4b70_11eb_99ea_525400a9d4fbrow14_col13{\n",
       "            background-color:  #2f8bbe;\n",
       "            color:  #000000;\n",
       "        }#T_00e45478_4b70_11eb_99ea_525400a9d4fbrow6_col14,#T_00e45478_4b70_11eb_99ea_525400a9d4fbrow14_col6{\n",
       "            background-color:  #6fa7ce;\n",
       "            color:  #000000;\n",
       "        }#T_00e45478_4b70_11eb_99ea_525400a9d4fbrow7_col8,#T_00e45478_4b70_11eb_99ea_525400a9d4fbrow8_col7{\n",
       "            background-color:  #0567a2;\n",
       "            color:  #f1f1f1;\n",
       "        }#T_00e45478_4b70_11eb_99ea_525400a9d4fbrow7_col9,#T_00e45478_4b70_11eb_99ea_525400a9d4fbrow9_col7{\n",
       "            background-color:  #4094c3;\n",
       "            color:  #000000;\n",
       "        }#T_00e45478_4b70_11eb_99ea_525400a9d4fbrow7_col10,#T_00e45478_4b70_11eb_99ea_525400a9d4fbrow10_col7{\n",
       "            background-color:  #1c7fb8;\n",
       "            color:  #000000;\n",
       "        }#T_00e45478_4b70_11eb_99ea_525400a9d4fbrow7_col11,#T_00e45478_4b70_11eb_99ea_525400a9d4fbrow11_col7{\n",
       "            background-color:  #0f76b3;\n",
       "            color:  #f1f1f1;\n",
       "        }#T_00e45478_4b70_11eb_99ea_525400a9d4fbrow7_col12,#T_00e45478_4b70_11eb_99ea_525400a9d4fbrow12_col7{\n",
       "            background-color:  #3b92c1;\n",
       "            color:  #000000;\n",
       "        }#T_00e45478_4b70_11eb_99ea_525400a9d4fbrow7_col13,#T_00e45478_4b70_11eb_99ea_525400a9d4fbrow13_col7{\n",
       "            background-color:  #1278b4;\n",
       "            color:  #f1f1f1;\n",
       "        }#T_00e45478_4b70_11eb_99ea_525400a9d4fbrow7_col15,#T_00e45478_4b70_11eb_99ea_525400a9d4fbrow11_col14,#T_00e45478_4b70_11eb_99ea_525400a9d4fbrow14_col11,#T_00e45478_4b70_11eb_99ea_525400a9d4fbrow15_col7{\n",
       "            background-color:  #93b5d6;\n",
       "            color:  #000000;\n",
       "        }#T_00e45478_4b70_11eb_99ea_525400a9d4fbrow7_col16,#T_00e45478_4b70_11eb_99ea_525400a9d4fbrow10_col16,#T_00e45478_4b70_11eb_99ea_525400a9d4fbrow16_col7,#T_00e45478_4b70_11eb_99ea_525400a9d4fbrow16_col10{\n",
       "            background-color:  #04649e;\n",
       "            color:  #f1f1f1;\n",
       "        }#T_00e45478_4b70_11eb_99ea_525400a9d4fbrow8_col11,#T_00e45478_4b70_11eb_99ea_525400a9d4fbrow11_col8{\n",
       "            background-color:  #2a88bc;\n",
       "            color:  #000000;\n",
       "        }#T_00e45478_4b70_11eb_99ea_525400a9d4fbrow8_col12,#T_00e45478_4b70_11eb_99ea_525400a9d4fbrow12_col8{\n",
       "            background-color:  #5ea0ca;\n",
       "            color:  #000000;\n",
       "        }#T_00e45478_4b70_11eb_99ea_525400a9d4fbrow8_col13,#T_00e45478_4b70_11eb_99ea_525400a9d4fbrow13_col8{\n",
       "            background-color:  #308cbe;\n",
       "            color:  #000000;\n",
       "        }#T_00e45478_4b70_11eb_99ea_525400a9d4fbrow8_col14,#T_00e45478_4b70_11eb_99ea_525400a9d4fbrow14_col8{\n",
       "            background-color:  #2c89bd;\n",
       "            color:  #000000;\n",
       "        }#T_00e45478_4b70_11eb_99ea_525400a9d4fbrow8_col16,#T_00e45478_4b70_11eb_99ea_525400a9d4fbrow16_col8{\n",
       "            background-color:  #04649d;\n",
       "            color:  #f1f1f1;\n",
       "        }#T_00e45478_4b70_11eb_99ea_525400a9d4fbrow9_col10,#T_00e45478_4b70_11eb_99ea_525400a9d4fbrow10_col9{\n",
       "            background-color:  #569dc8;\n",
       "            color:  #000000;\n",
       "        }#T_00e45478_4b70_11eb_99ea_525400a9d4fbrow9_col11,#T_00e45478_4b70_11eb_99ea_525400a9d4fbrow11_col9{\n",
       "            background-color:  #0872b1;\n",
       "            color:  #f1f1f1;\n",
       "        }#T_00e45478_4b70_11eb_99ea_525400a9d4fbrow9_col13,#T_00e45478_4b70_11eb_99ea_525400a9d4fbrow13_col9{\n",
       "            background-color:  #75a9cf;\n",
       "            color:  #000000;\n",
       "        }#T_00e45478_4b70_11eb_99ea_525400a9d4fbrow9_col15,#T_00e45478_4b70_11eb_99ea_525400a9d4fbrow15_col9{\n",
       "            background-color:  #8bb2d4;\n",
       "            color:  #000000;\n",
       "        }#T_00e45478_4b70_11eb_99ea_525400a9d4fbrow10_col14,#T_00e45478_4b70_11eb_99ea_525400a9d4fbrow14_col10{\n",
       "            background-color:  #84b0d3;\n",
       "            color:  #000000;\n",
       "        }#T_00e45478_4b70_11eb_99ea_525400a9d4fbrow10_col15,#T_00e45478_4b70_11eb_99ea_525400a9d4fbrow15_col10{\n",
       "            background-color:  #cacee5;\n",
       "            color:  #000000;\n",
       "        }#T_00e45478_4b70_11eb_99ea_525400a9d4fbrow11_col12,#T_00e45478_4b70_11eb_99ea_525400a9d4fbrow12_col11{\n",
       "            background-color:  #a9bfdc;\n",
       "            color:  #000000;\n",
       "        }#T_00e45478_4b70_11eb_99ea_525400a9d4fbrow11_col16,#T_00e45478_4b70_11eb_99ea_525400a9d4fbrow16_col11{\n",
       "            background-color:  #157ab5;\n",
       "            color:  #000000;\n",
       "        }#T_00e45478_4b70_11eb_99ea_525400a9d4fbrow12_col13,#T_00e45478_4b70_11eb_99ea_525400a9d4fbrow13_col12{\n",
       "            background-color:  #4496c3;\n",
       "            color:  #000000;\n",
       "        }#T_00e45478_4b70_11eb_99ea_525400a9d4fbrow12_col14,#T_00e45478_4b70_11eb_99ea_525400a9d4fbrow14_col12{\n",
       "            background-color:  #197db7;\n",
       "            color:  #000000;\n",
       "        }#T_00e45478_4b70_11eb_99ea_525400a9d4fbrow12_col15,#T_00e45478_4b70_11eb_99ea_525400a9d4fbrow15_col12{\n",
       "            background-color:  #4295c3;\n",
       "            color:  #000000;\n",
       "        }#T_00e45478_4b70_11eb_99ea_525400a9d4fbrow13_col15,#T_00e45478_4b70_11eb_99ea_525400a9d4fbrow15_col13{\n",
       "            background-color:  #529bc7;\n",
       "            color:  #000000;\n",
       "        }#T_00e45478_4b70_11eb_99ea_525400a9d4fbrow13_col16,#T_00e45478_4b70_11eb_99ea_525400a9d4fbrow16_col13{\n",
       "            background-color:  #1379b5;\n",
       "            color:  #f1f1f1;\n",
       "        }#T_00e45478_4b70_11eb_99ea_525400a9d4fbrow14_col15,#T_00e45478_4b70_11eb_99ea_525400a9d4fbrow15_col14{\n",
       "            background-color:  #3f93c2;\n",
       "            color:  #000000;\n",
       "        }</style><table id=\"T_00e45478_4b70_11eb_99ea_525400a9d4fb\" ><thead>    <tr>        <th class=\"blank level0\" ></th>        <th class=\"col_heading level0 col0\" >Rt</th>        <th class=\"col_heading level0 col1\" >theta</th>        <th class=\"col_heading level0 col2\" >kappa</th>        <th class=\"col_heading level0 col3\" >rho</th>        <th class=\"col_heading level0 col4\" >sigma</th>        <th class=\"col_heading level0 col5\" >School_closing</th>        <th class=\"col_heading level0 col6\" >Workplace_closing</th>        <th class=\"col_heading level0 col7\" >Cancel_events</th>        <th class=\"col_heading level0 col8\" >Gatherings_restrictions</th>        <th class=\"col_heading level0 col9\" >Transport_closing</th>        <th class=\"col_heading level0 col10\" >Stay_home_restrictions</th>        <th class=\"col_heading level0 col11\" >Internal_movement_restrictions</th>        <th class=\"col_heading level0 col12\" >International_movement_restrictions</th>        <th class=\"col_heading level0 col13\" >Information_campaigns</th>        <th class=\"col_heading level0 col14\" >Testing_policy</th>        <th class=\"col_heading level0 col15\" >Contact_tracing</th>        <th class=\"col_heading level0 col16\" >Stringency_index</th>    </tr></thead><tbody>\n",
       "                <tr>\n",
       "                        <th id=\"T_00e45478_4b70_11eb_99ea_525400a9d4fblevel0_row0\" class=\"row_heading level0 row0\" >Rt</th>\n",
       "                        <td id=\"T_00e45478_4b70_11eb_99ea_525400a9d4fbrow0_col0\" class=\"data row0 col0\" >1.000000</td>\n",
       "                        <td id=\"T_00e45478_4b70_11eb_99ea_525400a9d4fbrow0_col1\" class=\"data row0 col1\" >-0.132626</td>\n",
       "                        <td id=\"T_00e45478_4b70_11eb_99ea_525400a9d4fbrow0_col2\" class=\"data row0 col2\" >0.289791</td>\n",
       "                        <td id=\"T_00e45478_4b70_11eb_99ea_525400a9d4fbrow0_col3\" class=\"data row0 col3\" >0.765116</td>\n",
       "                        <td id=\"T_00e45478_4b70_11eb_99ea_525400a9d4fbrow0_col4\" class=\"data row0 col4\" >-0.526298</td>\n",
       "                        <td id=\"T_00e45478_4b70_11eb_99ea_525400a9d4fbrow0_col5\" class=\"data row0 col5\" >-0.227873</td>\n",
       "                        <td id=\"T_00e45478_4b70_11eb_99ea_525400a9d4fbrow0_col6\" class=\"data row0 col6\" >-0.346170</td>\n",
       "                        <td id=\"T_00e45478_4b70_11eb_99ea_525400a9d4fbrow0_col7\" class=\"data row0 col7\" >-0.578720</td>\n",
       "                        <td id=\"T_00e45478_4b70_11eb_99ea_525400a9d4fbrow0_col8\" class=\"data row0 col8\" >-0.511331</td>\n",
       "                        <td id=\"T_00e45478_4b70_11eb_99ea_525400a9d4fbrow0_col9\" class=\"data row0 col9\" >-0.266174</td>\n",
       "                        <td id=\"T_00e45478_4b70_11eb_99ea_525400a9d4fbrow0_col10\" class=\"data row0 col10\" >-0.199473</td>\n",
       "                        <td id=\"T_00e45478_4b70_11eb_99ea_525400a9d4fbrow0_col11\" class=\"data row0 col11\" >-0.359455</td>\n",
       "                        <td id=\"T_00e45478_4b70_11eb_99ea_525400a9d4fbrow0_col12\" class=\"data row0 col12\" >-0.474637</td>\n",
       "                        <td id=\"T_00e45478_4b70_11eb_99ea_525400a9d4fbrow0_col13\" class=\"data row0 col13\" >-0.349333</td>\n",
       "                        <td id=\"T_00e45478_4b70_11eb_99ea_525400a9d4fbrow0_col14\" class=\"data row0 col14\" >-0.494651</td>\n",
       "                        <td id=\"T_00e45478_4b70_11eb_99ea_525400a9d4fbrow0_col15\" class=\"data row0 col15\" >-0.285780</td>\n",
       "                        <td id=\"T_00e45478_4b70_11eb_99ea_525400a9d4fbrow0_col16\" class=\"data row0 col16\" >-0.409718</td>\n",
       "            </tr>\n",
       "            <tr>\n",
       "                        <th id=\"T_00e45478_4b70_11eb_99ea_525400a9d4fblevel0_row1\" class=\"row_heading level0 row1\" >theta</th>\n",
       "                        <td id=\"T_00e45478_4b70_11eb_99ea_525400a9d4fbrow1_col0\" class=\"data row1 col0\" >-0.132626</td>\n",
       "                        <td id=\"T_00e45478_4b70_11eb_99ea_525400a9d4fbrow1_col1\" class=\"data row1 col1\" >1.000000</td>\n",
       "                        <td id=\"T_00e45478_4b70_11eb_99ea_525400a9d4fbrow1_col2\" class=\"data row1 col2\" >-0.059592</td>\n",
       "                        <td id=\"T_00e45478_4b70_11eb_99ea_525400a9d4fbrow1_col3\" class=\"data row1 col3\" >-0.328535</td>\n",
       "                        <td id=\"T_00e45478_4b70_11eb_99ea_525400a9d4fbrow1_col4\" class=\"data row1 col4\" >-0.138177</td>\n",
       "                        <td id=\"T_00e45478_4b70_11eb_99ea_525400a9d4fbrow1_col5\" class=\"data row1 col5\" >0.497915</td>\n",
       "                        <td id=\"T_00e45478_4b70_11eb_99ea_525400a9d4fbrow1_col6\" class=\"data row1 col6\" >0.016003</td>\n",
       "                        <td id=\"T_00e45478_4b70_11eb_99ea_525400a9d4fbrow1_col7\" class=\"data row1 col7\" >0.130552</td>\n",
       "                        <td id=\"T_00e45478_4b70_11eb_99ea_525400a9d4fbrow1_col8\" class=\"data row1 col8\" >-0.145463</td>\n",
       "                        <td id=\"T_00e45478_4b70_11eb_99ea_525400a9d4fbrow1_col9\" class=\"data row1 col9\" >0.556177</td>\n",
       "                        <td id=\"T_00e45478_4b70_11eb_99ea_525400a9d4fbrow1_col10\" class=\"data row1 col10\" >0.055359</td>\n",
       "                        <td id=\"T_00e45478_4b70_11eb_99ea_525400a9d4fbrow1_col11\" class=\"data row1 col11\" >0.293924</td>\n",
       "                        <td id=\"T_00e45478_4b70_11eb_99ea_525400a9d4fbrow1_col12\" class=\"data row1 col12\" >-0.097046</td>\n",
       "                        <td id=\"T_00e45478_4b70_11eb_99ea_525400a9d4fbrow1_col13\" class=\"data row1 col13\" >0.086770</td>\n",
       "                        <td id=\"T_00e45478_4b70_11eb_99ea_525400a9d4fbrow1_col14\" class=\"data row1 col14\" >-0.073341</td>\n",
       "                        <td id=\"T_00e45478_4b70_11eb_99ea_525400a9d4fbrow1_col15\" class=\"data row1 col15\" >0.170128</td>\n",
       "                        <td id=\"T_00e45478_4b70_11eb_99ea_525400a9d4fbrow1_col16\" class=\"data row1 col16\" >0.010885</td>\n",
       "            </tr>\n",
       "            <tr>\n",
       "                        <th id=\"T_00e45478_4b70_11eb_99ea_525400a9d4fblevel0_row2\" class=\"row_heading level0 row2\" >kappa</th>\n",
       "                        <td id=\"T_00e45478_4b70_11eb_99ea_525400a9d4fbrow2_col0\" class=\"data row2 col0\" >0.289791</td>\n",
       "                        <td id=\"T_00e45478_4b70_11eb_99ea_525400a9d4fbrow2_col1\" class=\"data row2 col1\" >-0.059592</td>\n",
       "                        <td id=\"T_00e45478_4b70_11eb_99ea_525400a9d4fbrow2_col2\" class=\"data row2 col2\" >1.000000</td>\n",
       "                        <td id=\"T_00e45478_4b70_11eb_99ea_525400a9d4fbrow2_col3\" class=\"data row2 col3\" >0.329993</td>\n",
       "                        <td id=\"T_00e45478_4b70_11eb_99ea_525400a9d4fbrow2_col4\" class=\"data row2 col4\" >-0.173653</td>\n",
       "                        <td id=\"T_00e45478_4b70_11eb_99ea_525400a9d4fbrow2_col5\" class=\"data row2 col5\" >0.175197</td>\n",
       "                        <td id=\"T_00e45478_4b70_11eb_99ea_525400a9d4fbrow2_col6\" class=\"data row2 col6\" >-0.017385</td>\n",
       "                        <td id=\"T_00e45478_4b70_11eb_99ea_525400a9d4fbrow2_col7\" class=\"data row2 col7\" >-0.214697</td>\n",
       "                        <td id=\"T_00e45478_4b70_11eb_99ea_525400a9d4fbrow2_col8\" class=\"data row2 col8\" >-0.230149</td>\n",
       "                        <td id=\"T_00e45478_4b70_11eb_99ea_525400a9d4fbrow2_col9\" class=\"data row2 col9\" >-0.107468</td>\n",
       "                        <td id=\"T_00e45478_4b70_11eb_99ea_525400a9d4fbrow2_col10\" class=\"data row2 col10\" >0.064603</td>\n",
       "                        <td id=\"T_00e45478_4b70_11eb_99ea_525400a9d4fbrow2_col11\" class=\"data row2 col11\" >-0.116964</td>\n",
       "                        <td id=\"T_00e45478_4b70_11eb_99ea_525400a9d4fbrow2_col12\" class=\"data row2 col12\" >-0.205379</td>\n",
       "                        <td id=\"T_00e45478_4b70_11eb_99ea_525400a9d4fbrow2_col13\" class=\"data row2 col13\" >-0.183625</td>\n",
       "                        <td id=\"T_00e45478_4b70_11eb_99ea_525400a9d4fbrow2_col14\" class=\"data row2 col14\" >-0.496805</td>\n",
       "                        <td id=\"T_00e45478_4b70_11eb_99ea_525400a9d4fbrow2_col15\" class=\"data row2 col15\" >-0.221097</td>\n",
       "                        <td id=\"T_00e45478_4b70_11eb_99ea_525400a9d4fbrow2_col16\" class=\"data row2 col16\" >0.040241</td>\n",
       "            </tr>\n",
       "            <tr>\n",
       "                        <th id=\"T_00e45478_4b70_11eb_99ea_525400a9d4fblevel0_row3\" class=\"row_heading level0 row3\" >rho</th>\n",
       "                        <td id=\"T_00e45478_4b70_11eb_99ea_525400a9d4fbrow3_col0\" class=\"data row3 col0\" >0.765116</td>\n",
       "                        <td id=\"T_00e45478_4b70_11eb_99ea_525400a9d4fbrow3_col1\" class=\"data row3 col1\" >-0.328535</td>\n",
       "                        <td id=\"T_00e45478_4b70_11eb_99ea_525400a9d4fbrow3_col2\" class=\"data row3 col2\" >0.329993</td>\n",
       "                        <td id=\"T_00e45478_4b70_11eb_99ea_525400a9d4fbrow3_col3\" class=\"data row3 col3\" >1.000000</td>\n",
       "                        <td id=\"T_00e45478_4b70_11eb_99ea_525400a9d4fbrow3_col4\" class=\"data row3 col4\" >-0.355592</td>\n",
       "                        <td id=\"T_00e45478_4b70_11eb_99ea_525400a9d4fbrow3_col5\" class=\"data row3 col5\" >-0.316869</td>\n",
       "                        <td id=\"T_00e45478_4b70_11eb_99ea_525400a9d4fbrow3_col6\" class=\"data row3 col6\" >-0.295266</td>\n",
       "                        <td id=\"T_00e45478_4b70_11eb_99ea_525400a9d4fbrow3_col7\" class=\"data row3 col7\" >-0.523290</td>\n",
       "                        <td id=\"T_00e45478_4b70_11eb_99ea_525400a9d4fbrow3_col8\" class=\"data row3 col8\" >-0.383392</td>\n",
       "                        <td id=\"T_00e45478_4b70_11eb_99ea_525400a9d4fbrow3_col9\" class=\"data row3 col9\" >-0.466970</td>\n",
       "                        <td id=\"T_00e45478_4b70_11eb_99ea_525400a9d4fbrow3_col10\" class=\"data row3 col10\" >-0.228547</td>\n",
       "                        <td id=\"T_00e45478_4b70_11eb_99ea_525400a9d4fbrow3_col11\" class=\"data row3 col11\" >-0.364203</td>\n",
       "                        <td id=\"T_00e45478_4b70_11eb_99ea_525400a9d4fbrow3_col12\" class=\"data row3 col12\" >-0.419601</td>\n",
       "                        <td id=\"T_00e45478_4b70_11eb_99ea_525400a9d4fbrow3_col13\" class=\"data row3 col13\" >-0.212290</td>\n",
       "                        <td id=\"T_00e45478_4b70_11eb_99ea_525400a9d4fbrow3_col14\" class=\"data row3 col14\" >-0.417232</td>\n",
       "                        <td id=\"T_00e45478_4b70_11eb_99ea_525400a9d4fbrow3_col15\" class=\"data row3 col15\" >-0.190986</td>\n",
       "                        <td id=\"T_00e45478_4b70_11eb_99ea_525400a9d4fbrow3_col16\" class=\"data row3 col16\" >-0.273036</td>\n",
       "            </tr>\n",
       "            <tr>\n",
       "                        <th id=\"T_00e45478_4b70_11eb_99ea_525400a9d4fblevel0_row4\" class=\"row_heading level0 row4\" >sigma</th>\n",
       "                        <td id=\"T_00e45478_4b70_11eb_99ea_525400a9d4fbrow4_col0\" class=\"data row4 col0\" >-0.526298</td>\n",
       "                        <td id=\"T_00e45478_4b70_11eb_99ea_525400a9d4fbrow4_col1\" class=\"data row4 col1\" >-0.138177</td>\n",
       "                        <td id=\"T_00e45478_4b70_11eb_99ea_525400a9d4fbrow4_col2\" class=\"data row4 col2\" >-0.173653</td>\n",
       "                        <td id=\"T_00e45478_4b70_11eb_99ea_525400a9d4fbrow4_col3\" class=\"data row4 col3\" >-0.355592</td>\n",
       "                        <td id=\"T_00e45478_4b70_11eb_99ea_525400a9d4fbrow4_col4\" class=\"data row4 col4\" >1.000000</td>\n",
       "                        <td id=\"T_00e45478_4b70_11eb_99ea_525400a9d4fbrow4_col5\" class=\"data row4 col5\" >0.127689</td>\n",
       "                        <td id=\"T_00e45478_4b70_11eb_99ea_525400a9d4fbrow4_col6\" class=\"data row4 col6\" >0.244258</td>\n",
       "                        <td id=\"T_00e45478_4b70_11eb_99ea_525400a9d4fbrow4_col7\" class=\"data row4 col7\" >0.334601</td>\n",
       "                        <td id=\"T_00e45478_4b70_11eb_99ea_525400a9d4fbrow4_col8\" class=\"data row4 col8\" >0.417693</td>\n",
       "                        <td id=\"T_00e45478_4b70_11eb_99ea_525400a9d4fbrow4_col9\" class=\"data row4 col9\" >-0.144641</td>\n",
       "                        <td id=\"T_00e45478_4b70_11eb_99ea_525400a9d4fbrow4_col10\" class=\"data row4 col10\" >-0.025994</td>\n",
       "                        <td id=\"T_00e45478_4b70_11eb_99ea_525400a9d4fbrow4_col11\" class=\"data row4 col11\" >0.055040</td>\n",
       "                        <td id=\"T_00e45478_4b70_11eb_99ea_525400a9d4fbrow4_col12\" class=\"data row4 col12\" >0.210807</td>\n",
       "                        <td id=\"T_00e45478_4b70_11eb_99ea_525400a9d4fbrow4_col13\" class=\"data row4 col13\" >0.243431</td>\n",
       "                        <td id=\"T_00e45478_4b70_11eb_99ea_525400a9d4fbrow4_col14\" class=\"data row4 col14\" >0.267141</td>\n",
       "                        <td id=\"T_00e45478_4b70_11eb_99ea_525400a9d4fbrow4_col15\" class=\"data row4 col15\" >0.098645</td>\n",
       "                        <td id=\"T_00e45478_4b70_11eb_99ea_525400a9d4fbrow4_col16\" class=\"data row4 col16\" >0.222822</td>\n",
       "            </tr>\n",
       "            <tr>\n",
       "                        <th id=\"T_00e45478_4b70_11eb_99ea_525400a9d4fblevel0_row5\" class=\"row_heading level0 row5\" >School_closing</th>\n",
       "                        <td id=\"T_00e45478_4b70_11eb_99ea_525400a9d4fbrow5_col0\" class=\"data row5 col0\" >-0.227873</td>\n",
       "                        <td id=\"T_00e45478_4b70_11eb_99ea_525400a9d4fbrow5_col1\" class=\"data row5 col1\" >0.497915</td>\n",
       "                        <td id=\"T_00e45478_4b70_11eb_99ea_525400a9d4fbrow5_col2\" class=\"data row5 col2\" >0.175197</td>\n",
       "                        <td id=\"T_00e45478_4b70_11eb_99ea_525400a9d4fbrow5_col3\" class=\"data row5 col3\" >-0.316869</td>\n",
       "                        <td id=\"T_00e45478_4b70_11eb_99ea_525400a9d4fbrow5_col4\" class=\"data row5 col4\" >0.127689</td>\n",
       "                        <td id=\"T_00e45478_4b70_11eb_99ea_525400a9d4fbrow5_col5\" class=\"data row5 col5\" >1.000000</td>\n",
       "                        <td id=\"T_00e45478_4b70_11eb_99ea_525400a9d4fbrow5_col6\" class=\"data row5 col6\" >0.518890</td>\n",
       "                        <td id=\"T_00e45478_4b70_11eb_99ea_525400a9d4fbrow5_col7\" class=\"data row5 col7\" >0.491040</td>\n",
       "                        <td id=\"T_00e45478_4b70_11eb_99ea_525400a9d4fbrow5_col8\" class=\"data row5 col8\" >0.314643</td>\n",
       "                        <td id=\"T_00e45478_4b70_11eb_99ea_525400a9d4fbrow5_col9\" class=\"data row5 col9\" >0.413120</td>\n",
       "                        <td id=\"T_00e45478_4b70_11eb_99ea_525400a9d4fbrow5_col10\" class=\"data row5 col10\" >0.458846</td>\n",
       "                        <td id=\"T_00e45478_4b70_11eb_99ea_525400a9d4fbrow5_col11\" class=\"data row5 col11\" >0.531346</td>\n",
       "                        <td id=\"T_00e45478_4b70_11eb_99ea_525400a9d4fbrow5_col12\" class=\"data row5 col12\" >0.037959</td>\n",
       "                        <td id=\"T_00e45478_4b70_11eb_99ea_525400a9d4fbrow5_col13\" class=\"data row5 col13\" >0.285581</td>\n",
       "                        <td id=\"T_00e45478_4b70_11eb_99ea_525400a9d4fbrow5_col14\" class=\"data row5 col14\" >-0.048587</td>\n",
       "                        <td id=\"T_00e45478_4b70_11eb_99ea_525400a9d4fbrow5_col15\" class=\"data row5 col15\" >-0.006430</td>\n",
       "                        <td id=\"T_00e45478_4b70_11eb_99ea_525400a9d4fbrow5_col16\" class=\"data row5 col16\" >0.593332</td>\n",
       "            </tr>\n",
       "            <tr>\n",
       "                        <th id=\"T_00e45478_4b70_11eb_99ea_525400a9d4fblevel0_row6\" class=\"row_heading level0 row6\" >Workplace_closing</th>\n",
       "                        <td id=\"T_00e45478_4b70_11eb_99ea_525400a9d4fbrow6_col0\" class=\"data row6 col0\" >-0.346170</td>\n",
       "                        <td id=\"T_00e45478_4b70_11eb_99ea_525400a9d4fbrow6_col1\" class=\"data row6 col1\" >0.016003</td>\n",
       "                        <td id=\"T_00e45478_4b70_11eb_99ea_525400a9d4fbrow6_col2\" class=\"data row6 col2\" >-0.017385</td>\n",
       "                        <td id=\"T_00e45478_4b70_11eb_99ea_525400a9d4fbrow6_col3\" class=\"data row6 col3\" >-0.295266</td>\n",
       "                        <td id=\"T_00e45478_4b70_11eb_99ea_525400a9d4fbrow6_col4\" class=\"data row6 col4\" >0.244258</td>\n",
       "                        <td id=\"T_00e45478_4b70_11eb_99ea_525400a9d4fbrow6_col5\" class=\"data row6 col5\" >0.518890</td>\n",
       "                        <td id=\"T_00e45478_4b70_11eb_99ea_525400a9d4fbrow6_col6\" class=\"data row6 col6\" >1.000000</td>\n",
       "                        <td id=\"T_00e45478_4b70_11eb_99ea_525400a9d4fbrow6_col7\" class=\"data row6 col7\" >0.699390</td>\n",
       "                        <td id=\"T_00e45478_4b70_11eb_99ea_525400a9d4fbrow6_col8\" class=\"data row6 col8\" >0.687798</td>\n",
       "                        <td id=\"T_00e45478_4b70_11eb_99ea_525400a9d4fbrow6_col9\" class=\"data row6 col9\" >0.296598</td>\n",
       "                        <td id=\"T_00e45478_4b70_11eb_99ea_525400a9d4fbrow6_col10\" class=\"data row6 col10\" >0.698555</td>\n",
       "                        <td id=\"T_00e45478_4b70_11eb_99ea_525400a9d4fbrow6_col11\" class=\"data row6 col11\" >0.530484</td>\n",
       "                        <td id=\"T_00e45478_4b70_11eb_99ea_525400a9d4fbrow6_col12\" class=\"data row6 col12\" >0.197827</td>\n",
       "                        <td id=\"T_00e45478_4b70_11eb_99ea_525400a9d4fbrow6_col13\" class=\"data row6 col13\" >0.438633</td>\n",
       "                        <td id=\"T_00e45478_4b70_11eb_99ea_525400a9d4fbrow6_col14\" class=\"data row6 col14\" >0.225384</td>\n",
       "                        <td id=\"T_00e45478_4b70_11eb_99ea_525400a9d4fbrow6_col15\" class=\"data row6 col15\" >-0.096798</td>\n",
       "                        <td id=\"T_00e45478_4b70_11eb_99ea_525400a9d4fbrow6_col16\" class=\"data row6 col16\" >0.760167</td>\n",
       "            </tr>\n",
       "            <tr>\n",
       "                        <th id=\"T_00e45478_4b70_11eb_99ea_525400a9d4fblevel0_row7\" class=\"row_heading level0 row7\" >Cancel_events</th>\n",
       "                        <td id=\"T_00e45478_4b70_11eb_99ea_525400a9d4fbrow7_col0\" class=\"data row7 col0\" >-0.578720</td>\n",
       "                        <td id=\"T_00e45478_4b70_11eb_99ea_525400a9d4fbrow7_col1\" class=\"data row7 col1\" >0.130552</td>\n",
       "                        <td id=\"T_00e45478_4b70_11eb_99ea_525400a9d4fbrow7_col2\" class=\"data row7 col2\" >-0.214697</td>\n",
       "                        <td id=\"T_00e45478_4b70_11eb_99ea_525400a9d4fbrow7_col3\" class=\"data row7 col3\" >-0.523290</td>\n",
       "                        <td id=\"T_00e45478_4b70_11eb_99ea_525400a9d4fbrow7_col4\" class=\"data row7 col4\" >0.334601</td>\n",
       "                        <td id=\"T_00e45478_4b70_11eb_99ea_525400a9d4fbrow7_col5\" class=\"data row7 col5\" >0.491040</td>\n",
       "                        <td id=\"T_00e45478_4b70_11eb_99ea_525400a9d4fbrow7_col6\" class=\"data row7 col6\" >0.699390</td>\n",
       "                        <td id=\"T_00e45478_4b70_11eb_99ea_525400a9d4fbrow7_col7\" class=\"data row7 col7\" >1.000000</td>\n",
       "                        <td id=\"T_00e45478_4b70_11eb_99ea_525400a9d4fbrow7_col8\" class=\"data row7 col8\" >0.682688</td>\n",
       "                        <td id=\"T_00e45478_4b70_11eb_99ea_525400a9d4fbrow7_col9\" class=\"data row7 col9\" >0.371323</td>\n",
       "                        <td id=\"T_00e45478_4b70_11eb_99ea_525400a9d4fbrow7_col10\" class=\"data row7 col10\" >0.510385</td>\n",
       "                        <td id=\"T_00e45478_4b70_11eb_99ea_525400a9d4fbrow7_col11\" class=\"data row7 col11\" >0.567327</td>\n",
       "                        <td id=\"T_00e45478_4b70_11eb_99ea_525400a9d4fbrow7_col12\" class=\"data row7 col12\" >0.394568</td>\n",
       "                        <td id=\"T_00e45478_4b70_11eb_99ea_525400a9d4fbrow7_col13\" class=\"data row7 col13\" >0.553570</td>\n",
       "                        <td id=\"T_00e45478_4b70_11eb_99ea_525400a9d4fbrow7_col14\" class=\"data row7 col14\" >0.457872</td>\n",
       "                        <td id=\"T_00e45478_4b70_11eb_99ea_525400a9d4fbrow7_col15\" class=\"data row7 col15\" >0.090561</td>\n",
       "                        <td id=\"T_00e45478_4b70_11eb_99ea_525400a9d4fbrow7_col16\" class=\"data row7 col16\" >0.707301</td>\n",
       "            </tr>\n",
       "            <tr>\n",
       "                        <th id=\"T_00e45478_4b70_11eb_99ea_525400a9d4fblevel0_row8\" class=\"row_heading level0 row8\" >Gatherings_restrictions</th>\n",
       "                        <td id=\"T_00e45478_4b70_11eb_99ea_525400a9d4fbrow8_col0\" class=\"data row8 col0\" >-0.511331</td>\n",
       "                        <td id=\"T_00e45478_4b70_11eb_99ea_525400a9d4fbrow8_col1\" class=\"data row8 col1\" >-0.145463</td>\n",
       "                        <td id=\"T_00e45478_4b70_11eb_99ea_525400a9d4fbrow8_col2\" class=\"data row8 col2\" >-0.230149</td>\n",
       "                        <td id=\"T_00e45478_4b70_11eb_99ea_525400a9d4fbrow8_col3\" class=\"data row8 col3\" >-0.383392</td>\n",
       "                        <td id=\"T_00e45478_4b70_11eb_99ea_525400a9d4fbrow8_col4\" class=\"data row8 col4\" >0.417693</td>\n",
       "                        <td id=\"T_00e45478_4b70_11eb_99ea_525400a9d4fbrow8_col5\" class=\"data row8 col5\" >0.314643</td>\n",
       "                        <td id=\"T_00e45478_4b70_11eb_99ea_525400a9d4fbrow8_col6\" class=\"data row8 col6\" >0.687798</td>\n",
       "                        <td id=\"T_00e45478_4b70_11eb_99ea_525400a9d4fbrow8_col7\" class=\"data row8 col7\" >0.682688</td>\n",
       "                        <td id=\"T_00e45478_4b70_11eb_99ea_525400a9d4fbrow8_col8\" class=\"data row8 col8\" >1.000000</td>\n",
       "                        <td id=\"T_00e45478_4b70_11eb_99ea_525400a9d4fbrow8_col9\" class=\"data row8 col9\" >0.127680</td>\n",
       "                        <td id=\"T_00e45478_4b70_11eb_99ea_525400a9d4fbrow8_col10\" class=\"data row8 col10\" >0.494524</td>\n",
       "                        <td id=\"T_00e45478_4b70_11eb_99ea_525400a9d4fbrow8_col11\" class=\"data row8 col11\" >0.457028</td>\n",
       "                        <td id=\"T_00e45478_4b70_11eb_99ea_525400a9d4fbrow8_col12\" class=\"data row8 col12\" >0.279526</td>\n",
       "                        <td id=\"T_00e45478_4b70_11eb_99ea_525400a9d4fbrow8_col13\" class=\"data row8 col13\" >0.426738</td>\n",
       "                        <td id=\"T_00e45478_4b70_11eb_99ea_525400a9d4fbrow8_col14\" class=\"data row8 col14\" >0.448914</td>\n",
       "                        <td id=\"T_00e45478_4b70_11eb_99ea_525400a9d4fbrow8_col15\" class=\"data row8 col15\" >0.011989</td>\n",
       "                        <td id=\"T_00e45478_4b70_11eb_99ea_525400a9d4fbrow8_col16\" class=\"data row8 col16\" >0.712350</td>\n",
       "            </tr>\n",
       "            <tr>\n",
       "                        <th id=\"T_00e45478_4b70_11eb_99ea_525400a9d4fblevel0_row9\" class=\"row_heading level0 row9\" >Transport_closing</th>\n",
       "                        <td id=\"T_00e45478_4b70_11eb_99ea_525400a9d4fbrow9_col0\" class=\"data row9 col0\" >-0.266174</td>\n",
       "                        <td id=\"T_00e45478_4b70_11eb_99ea_525400a9d4fbrow9_col1\" class=\"data row9 col1\" >0.556177</td>\n",
       "                        <td id=\"T_00e45478_4b70_11eb_99ea_525400a9d4fbrow9_col2\" class=\"data row9 col2\" >-0.107468</td>\n",
       "                        <td id=\"T_00e45478_4b70_11eb_99ea_525400a9d4fbrow9_col3\" class=\"data row9 col3\" >-0.466970</td>\n",
       "                        <td id=\"T_00e45478_4b70_11eb_99ea_525400a9d4fbrow9_col4\" class=\"data row9 col4\" >-0.144641</td>\n",
       "                        <td id=\"T_00e45478_4b70_11eb_99ea_525400a9d4fbrow9_col5\" class=\"data row9 col5\" >0.413120</td>\n",
       "                        <td id=\"T_00e45478_4b70_11eb_99ea_525400a9d4fbrow9_col6\" class=\"data row9 col6\" >0.296598</td>\n",
       "                        <td id=\"T_00e45478_4b70_11eb_99ea_525400a9d4fbrow9_col7\" class=\"data row9 col7\" >0.371323</td>\n",
       "                        <td id=\"T_00e45478_4b70_11eb_99ea_525400a9d4fbrow9_col8\" class=\"data row9 col8\" >0.127680</td>\n",
       "                        <td id=\"T_00e45478_4b70_11eb_99ea_525400a9d4fbrow9_col9\" class=\"data row9 col9\" >1.000000</td>\n",
       "                        <td id=\"T_00e45478_4b70_11eb_99ea_525400a9d4fbrow9_col10\" class=\"data row9 col10\" >0.306758</td>\n",
       "                        <td id=\"T_00e45478_4b70_11eb_99ea_525400a9d4fbrow9_col11\" class=\"data row9 col11\" >0.592737</td>\n",
       "                        <td id=\"T_00e45478_4b70_11eb_99ea_525400a9d4fbrow9_col12\" class=\"data row9 col12\" >-0.014778</td>\n",
       "                        <td id=\"T_00e45478_4b70_11eb_99ea_525400a9d4fbrow9_col13\" class=\"data row9 col13\" >0.208861</td>\n",
       "                        <td id=\"T_00e45478_4b70_11eb_99ea_525400a9d4fbrow9_col14\" class=\"data row9 col14\" >-0.028039</td>\n",
       "                        <td id=\"T_00e45478_4b70_11eb_99ea_525400a9d4fbrow9_col15\" class=\"data row9 col15\" >0.121937</td>\n",
       "                        <td id=\"T_00e45478_4b70_11eb_99ea_525400a9d4fbrow9_col16\" class=\"data row9 col16\" >0.269570</td>\n",
       "            </tr>\n",
       "            <tr>\n",
       "                        <th id=\"T_00e45478_4b70_11eb_99ea_525400a9d4fblevel0_row10\" class=\"row_heading level0 row10\" >Stay_home_restrictions</th>\n",
       "                        <td id=\"T_00e45478_4b70_11eb_99ea_525400a9d4fbrow10_col0\" class=\"data row10 col0\" >-0.199473</td>\n",
       "                        <td id=\"T_00e45478_4b70_11eb_99ea_525400a9d4fbrow10_col1\" class=\"data row10 col1\" >0.055359</td>\n",
       "                        <td id=\"T_00e45478_4b70_11eb_99ea_525400a9d4fbrow10_col2\" class=\"data row10 col2\" >0.064603</td>\n",
       "                        <td id=\"T_00e45478_4b70_11eb_99ea_525400a9d4fbrow10_col3\" class=\"data row10 col3\" >-0.228547</td>\n",
       "                        <td id=\"T_00e45478_4b70_11eb_99ea_525400a9d4fbrow10_col4\" class=\"data row10 col4\" >-0.025994</td>\n",
       "                        <td id=\"T_00e45478_4b70_11eb_99ea_525400a9d4fbrow10_col5\" class=\"data row10 col5\" >0.458846</td>\n",
       "                        <td id=\"T_00e45478_4b70_11eb_99ea_525400a9d4fbrow10_col6\" class=\"data row10 col6\" >0.698555</td>\n",
       "                        <td id=\"T_00e45478_4b70_11eb_99ea_525400a9d4fbrow10_col7\" class=\"data row10 col7\" >0.510385</td>\n",
       "                        <td id=\"T_00e45478_4b70_11eb_99ea_525400a9d4fbrow10_col8\" class=\"data row10 col8\" >0.494524</td>\n",
       "                        <td id=\"T_00e45478_4b70_11eb_99ea_525400a9d4fbrow10_col9\" class=\"data row10 col9\" >0.306758</td>\n",
       "                        <td id=\"T_00e45478_4b70_11eb_99ea_525400a9d4fbrow10_col10\" class=\"data row10 col10\" >1.000000</td>\n",
       "                        <td id=\"T_00e45478_4b70_11eb_99ea_525400a9d4fbrow10_col11\" class=\"data row10 col11\" >0.490699</td>\n",
       "                        <td id=\"T_00e45478_4b70_11eb_99ea_525400a9d4fbrow10_col12\" class=\"data row10 col12\" >0.174713</td>\n",
       "                        <td id=\"T_00e45478_4b70_11eb_99ea_525400a9d4fbrow10_col13\" class=\"data row10 col13\" >0.293373</td>\n",
       "                        <td id=\"T_00e45478_4b70_11eb_99ea_525400a9d4fbrow10_col14\" class=\"data row10 col14\" >0.144892</td>\n",
       "                        <td id=\"T_00e45478_4b70_11eb_99ea_525400a9d4fbrow10_col15\" class=\"data row10 col15\" >-0.159065</td>\n",
       "                        <td id=\"T_00e45478_4b70_11eb_99ea_525400a9d4fbrow10_col16\" class=\"data row10 col16\" >0.706142</td>\n",
       "            </tr>\n",
       "            <tr>\n",
       "                        <th id=\"T_00e45478_4b70_11eb_99ea_525400a9d4fblevel0_row11\" class=\"row_heading level0 row11\" >Internal_movement_restrictions</th>\n",
       "                        <td id=\"T_00e45478_4b70_11eb_99ea_525400a9d4fbrow11_col0\" class=\"data row11 col0\" >-0.359455</td>\n",
       "                        <td id=\"T_00e45478_4b70_11eb_99ea_525400a9d4fbrow11_col1\" class=\"data row11 col1\" >0.293924</td>\n",
       "                        <td id=\"T_00e45478_4b70_11eb_99ea_525400a9d4fbrow11_col2\" class=\"data row11 col2\" >-0.116964</td>\n",
       "                        <td id=\"T_00e45478_4b70_11eb_99ea_525400a9d4fbrow11_col3\" class=\"data row11 col3\" >-0.364203</td>\n",
       "                        <td id=\"T_00e45478_4b70_11eb_99ea_525400a9d4fbrow11_col4\" class=\"data row11 col4\" >0.055040</td>\n",
       "                        <td id=\"T_00e45478_4b70_11eb_99ea_525400a9d4fbrow11_col5\" class=\"data row11 col5\" >0.531346</td>\n",
       "                        <td id=\"T_00e45478_4b70_11eb_99ea_525400a9d4fbrow11_col6\" class=\"data row11 col6\" >0.530484</td>\n",
       "                        <td id=\"T_00e45478_4b70_11eb_99ea_525400a9d4fbrow11_col7\" class=\"data row11 col7\" >0.567327</td>\n",
       "                        <td id=\"T_00e45478_4b70_11eb_99ea_525400a9d4fbrow11_col8\" class=\"data row11 col8\" >0.457028</td>\n",
       "                        <td id=\"T_00e45478_4b70_11eb_99ea_525400a9d4fbrow11_col9\" class=\"data row11 col9\" >0.592737</td>\n",
       "                        <td id=\"T_00e45478_4b70_11eb_99ea_525400a9d4fbrow11_col10\" class=\"data row11 col10\" >0.490699</td>\n",
       "                        <td id=\"T_00e45478_4b70_11eb_99ea_525400a9d4fbrow11_col11\" class=\"data row11 col11\" >1.000000</td>\n",
       "                        <td id=\"T_00e45478_4b70_11eb_99ea_525400a9d4fbrow11_col12\" class=\"data row11 col12\" >-0.003002</td>\n",
       "                        <td id=\"T_00e45478_4b70_11eb_99ea_525400a9d4fbrow11_col13\" class=\"data row11 col13\" >0.313120</td>\n",
       "                        <td id=\"T_00e45478_4b70_11eb_99ea_525400a9d4fbrow11_col14\" class=\"data row11 col14\" >0.090395</td>\n",
       "                        <td id=\"T_00e45478_4b70_11eb_99ea_525400a9d4fbrow11_col15\" class=\"data row11 col15\" >0.010129</td>\n",
       "                        <td id=\"T_00e45478_4b70_11eb_99ea_525400a9d4fbrow11_col16\" class=\"data row11 col16\" >0.539192</td>\n",
       "            </tr>\n",
       "            <tr>\n",
       "                        <th id=\"T_00e45478_4b70_11eb_99ea_525400a9d4fblevel0_row12\" class=\"row_heading level0 row12\" >International_movement_restrictions</th>\n",
       "                        <td id=\"T_00e45478_4b70_11eb_99ea_525400a9d4fbrow12_col0\" class=\"data row12 col0\" >-0.474637</td>\n",
       "                        <td id=\"T_00e45478_4b70_11eb_99ea_525400a9d4fbrow12_col1\" class=\"data row12 col1\" >-0.097046</td>\n",
       "                        <td id=\"T_00e45478_4b70_11eb_99ea_525400a9d4fbrow12_col2\" class=\"data row12 col2\" >-0.205379</td>\n",
       "                        <td id=\"T_00e45478_4b70_11eb_99ea_525400a9d4fbrow12_col3\" class=\"data row12 col3\" >-0.419601</td>\n",
       "                        <td id=\"T_00e45478_4b70_11eb_99ea_525400a9d4fbrow12_col4\" class=\"data row12 col4\" >0.210807</td>\n",
       "                        <td id=\"T_00e45478_4b70_11eb_99ea_525400a9d4fbrow12_col5\" class=\"data row12 col5\" >0.037959</td>\n",
       "                        <td id=\"T_00e45478_4b70_11eb_99ea_525400a9d4fbrow12_col6\" class=\"data row12 col6\" >0.197827</td>\n",
       "                        <td id=\"T_00e45478_4b70_11eb_99ea_525400a9d4fbrow12_col7\" class=\"data row12 col7\" >0.394568</td>\n",
       "                        <td id=\"T_00e45478_4b70_11eb_99ea_525400a9d4fbrow12_col8\" class=\"data row12 col8\" >0.279526</td>\n",
       "                        <td id=\"T_00e45478_4b70_11eb_99ea_525400a9d4fbrow12_col9\" class=\"data row12 col9\" >-0.014778</td>\n",
       "                        <td id=\"T_00e45478_4b70_11eb_99ea_525400a9d4fbrow12_col10\" class=\"data row12 col10\" >0.174713</td>\n",
       "                        <td id=\"T_00e45478_4b70_11eb_99ea_525400a9d4fbrow12_col11\" class=\"data row12 col11\" >-0.003002</td>\n",
       "                        <td id=\"T_00e45478_4b70_11eb_99ea_525400a9d4fbrow12_col12\" class=\"data row12 col12\" >1.000000</td>\n",
       "                        <td id=\"T_00e45478_4b70_11eb_99ea_525400a9d4fbrow12_col13\" class=\"data row12 col13\" >0.360576</td>\n",
       "                        <td id=\"T_00e45478_4b70_11eb_99ea_525400a9d4fbrow12_col14\" class=\"data row12 col14\" >0.522318</td>\n",
       "                        <td id=\"T_00e45478_4b70_11eb_99ea_525400a9d4fbrow12_col15\" class=\"data row12 col15\" >0.369069</td>\n",
       "                        <td id=\"T_00e45478_4b70_11eb_99ea_525400a9d4fbrow12_col16\" class=\"data row12 col16\" >0.336505</td>\n",
       "            </tr>\n",
       "            <tr>\n",
       "                        <th id=\"T_00e45478_4b70_11eb_99ea_525400a9d4fblevel0_row13\" class=\"row_heading level0 row13\" >Information_campaigns</th>\n",
       "                        <td id=\"T_00e45478_4b70_11eb_99ea_525400a9d4fbrow13_col0\" class=\"data row13 col0\" >-0.349333</td>\n",
       "                        <td id=\"T_00e45478_4b70_11eb_99ea_525400a9d4fbrow13_col1\" class=\"data row13 col1\" >0.086770</td>\n",
       "                        <td id=\"T_00e45478_4b70_11eb_99ea_525400a9d4fbrow13_col2\" class=\"data row13 col2\" >-0.183625</td>\n",
       "                        <td id=\"T_00e45478_4b70_11eb_99ea_525400a9d4fbrow13_col3\" class=\"data row13 col3\" >-0.212290</td>\n",
       "                        <td id=\"T_00e45478_4b70_11eb_99ea_525400a9d4fbrow13_col4\" class=\"data row13 col4\" >0.243431</td>\n",
       "                        <td id=\"T_00e45478_4b70_11eb_99ea_525400a9d4fbrow13_col5\" class=\"data row13 col5\" >0.285581</td>\n",
       "                        <td id=\"T_00e45478_4b70_11eb_99ea_525400a9d4fbrow13_col6\" class=\"data row13 col6\" >0.438633</td>\n",
       "                        <td id=\"T_00e45478_4b70_11eb_99ea_525400a9d4fbrow13_col7\" class=\"data row13 col7\" >0.553570</td>\n",
       "                        <td id=\"T_00e45478_4b70_11eb_99ea_525400a9d4fbrow13_col8\" class=\"data row13 col8\" >0.426738</td>\n",
       "                        <td id=\"T_00e45478_4b70_11eb_99ea_525400a9d4fbrow13_col9\" class=\"data row13 col9\" >0.208861</td>\n",
       "                        <td id=\"T_00e45478_4b70_11eb_99ea_525400a9d4fbrow13_col10\" class=\"data row13 col10\" >0.293373</td>\n",
       "                        <td id=\"T_00e45478_4b70_11eb_99ea_525400a9d4fbrow13_col11\" class=\"data row13 col11\" >0.313120</td>\n",
       "                        <td id=\"T_00e45478_4b70_11eb_99ea_525400a9d4fbrow13_col12\" class=\"data row13 col12\" >0.360576</td>\n",
       "                        <td id=\"T_00e45478_4b70_11eb_99ea_525400a9d4fbrow13_col13\" class=\"data row13 col13\" >1.000000</td>\n",
       "                        <td id=\"T_00e45478_4b70_11eb_99ea_525400a9d4fbrow13_col14\" class=\"data row13 col14\" >0.436339</td>\n",
       "                        <td id=\"T_00e45478_4b70_11eb_99ea_525400a9d4fbrow13_col15\" class=\"data row13 col15\" >0.315618</td>\n",
       "                        <td id=\"T_00e45478_4b70_11eb_99ea_525400a9d4fbrow13_col16\" class=\"data row13 col16\" >0.544202</td>\n",
       "            </tr>\n",
       "            <tr>\n",
       "                        <th id=\"T_00e45478_4b70_11eb_99ea_525400a9d4fblevel0_row14\" class=\"row_heading level0 row14\" >Testing_policy</th>\n",
       "                        <td id=\"T_00e45478_4b70_11eb_99ea_525400a9d4fbrow14_col0\" class=\"data row14 col0\" >-0.494651</td>\n",
       "                        <td id=\"T_00e45478_4b70_11eb_99ea_525400a9d4fbrow14_col1\" class=\"data row14 col1\" >-0.073341</td>\n",
       "                        <td id=\"T_00e45478_4b70_11eb_99ea_525400a9d4fbrow14_col2\" class=\"data row14 col2\" >-0.496805</td>\n",
       "                        <td id=\"T_00e45478_4b70_11eb_99ea_525400a9d4fbrow14_col3\" class=\"data row14 col3\" >-0.417232</td>\n",
       "                        <td id=\"T_00e45478_4b70_11eb_99ea_525400a9d4fbrow14_col4\" class=\"data row14 col4\" >0.267141</td>\n",
       "                        <td id=\"T_00e45478_4b70_11eb_99ea_525400a9d4fbrow14_col5\" class=\"data row14 col5\" >-0.048587</td>\n",
       "                        <td id=\"T_00e45478_4b70_11eb_99ea_525400a9d4fbrow14_col6\" class=\"data row14 col6\" >0.225384</td>\n",
       "                        <td id=\"T_00e45478_4b70_11eb_99ea_525400a9d4fbrow14_col7\" class=\"data row14 col7\" >0.457872</td>\n",
       "                        <td id=\"T_00e45478_4b70_11eb_99ea_525400a9d4fbrow14_col8\" class=\"data row14 col8\" >0.448914</td>\n",
       "                        <td id=\"T_00e45478_4b70_11eb_99ea_525400a9d4fbrow14_col9\" class=\"data row14 col9\" >-0.028039</td>\n",
       "                        <td id=\"T_00e45478_4b70_11eb_99ea_525400a9d4fbrow14_col10\" class=\"data row14 col10\" >0.144892</td>\n",
       "                        <td id=\"T_00e45478_4b70_11eb_99ea_525400a9d4fbrow14_col11\" class=\"data row14 col11\" >0.090395</td>\n",
       "                        <td id=\"T_00e45478_4b70_11eb_99ea_525400a9d4fbrow14_col12\" class=\"data row14 col12\" >0.522318</td>\n",
       "                        <td id=\"T_00e45478_4b70_11eb_99ea_525400a9d4fbrow14_col13\" class=\"data row14 col13\" >0.436339</td>\n",
       "                        <td id=\"T_00e45478_4b70_11eb_99ea_525400a9d4fbrow14_col14\" class=\"data row14 col14\" >1.000000</td>\n",
       "                        <td id=\"T_00e45478_4b70_11eb_99ea_525400a9d4fbrow14_col15\" class=\"data row14 col15\" >0.379388</td>\n",
       "                        <td id=\"T_00e45478_4b70_11eb_99ea_525400a9d4fbrow14_col16\" class=\"data row14 col16\" >0.247493</td>\n",
       "            </tr>\n",
       "            <tr>\n",
       "                        <th id=\"T_00e45478_4b70_11eb_99ea_525400a9d4fblevel0_row15\" class=\"row_heading level0 row15\" >Contact_tracing</th>\n",
       "                        <td id=\"T_00e45478_4b70_11eb_99ea_525400a9d4fbrow15_col0\" class=\"data row15 col0\" >-0.285780</td>\n",
       "                        <td id=\"T_00e45478_4b70_11eb_99ea_525400a9d4fbrow15_col1\" class=\"data row15 col1\" >0.170128</td>\n",
       "                        <td id=\"T_00e45478_4b70_11eb_99ea_525400a9d4fbrow15_col2\" class=\"data row15 col2\" >-0.221097</td>\n",
       "                        <td id=\"T_00e45478_4b70_11eb_99ea_525400a9d4fbrow15_col3\" class=\"data row15 col3\" >-0.190986</td>\n",
       "                        <td id=\"T_00e45478_4b70_11eb_99ea_525400a9d4fbrow15_col4\" class=\"data row15 col4\" >0.098645</td>\n",
       "                        <td id=\"T_00e45478_4b70_11eb_99ea_525400a9d4fbrow15_col5\" class=\"data row15 col5\" >-0.006430</td>\n",
       "                        <td id=\"T_00e45478_4b70_11eb_99ea_525400a9d4fbrow15_col6\" class=\"data row15 col6\" >-0.096798</td>\n",
       "                        <td id=\"T_00e45478_4b70_11eb_99ea_525400a9d4fbrow15_col7\" class=\"data row15 col7\" >0.090561</td>\n",
       "                        <td id=\"T_00e45478_4b70_11eb_99ea_525400a9d4fbrow15_col8\" class=\"data row15 col8\" >0.011989</td>\n",
       "                        <td id=\"T_00e45478_4b70_11eb_99ea_525400a9d4fbrow15_col9\" class=\"data row15 col9\" >0.121937</td>\n",
       "                        <td id=\"T_00e45478_4b70_11eb_99ea_525400a9d4fbrow15_col10\" class=\"data row15 col10\" >-0.159065</td>\n",
       "                        <td id=\"T_00e45478_4b70_11eb_99ea_525400a9d4fbrow15_col11\" class=\"data row15 col11\" >0.010129</td>\n",
       "                        <td id=\"T_00e45478_4b70_11eb_99ea_525400a9d4fbrow15_col12\" class=\"data row15 col12\" >0.369069</td>\n",
       "                        <td id=\"T_00e45478_4b70_11eb_99ea_525400a9d4fbrow15_col13\" class=\"data row15 col13\" >0.315618</td>\n",
       "                        <td id=\"T_00e45478_4b70_11eb_99ea_525400a9d4fbrow15_col14\" class=\"data row15 col14\" >0.379388</td>\n",
       "                        <td id=\"T_00e45478_4b70_11eb_99ea_525400a9d4fbrow15_col15\" class=\"data row15 col15\" >1.000000</td>\n",
       "                        <td id=\"T_00e45478_4b70_11eb_99ea_525400a9d4fbrow15_col16\" class=\"data row15 col16\" >-0.075057</td>\n",
       "            </tr>\n",
       "            <tr>\n",
       "                        <th id=\"T_00e45478_4b70_11eb_99ea_525400a9d4fblevel0_row16\" class=\"row_heading level0 row16\" >Stringency_index</th>\n",
       "                        <td id=\"T_00e45478_4b70_11eb_99ea_525400a9d4fbrow16_col0\" class=\"data row16 col0\" >-0.409718</td>\n",
       "                        <td id=\"T_00e45478_4b70_11eb_99ea_525400a9d4fbrow16_col1\" class=\"data row16 col1\" >0.010885</td>\n",
       "                        <td id=\"T_00e45478_4b70_11eb_99ea_525400a9d4fbrow16_col2\" class=\"data row16 col2\" >0.040241</td>\n",
       "                        <td id=\"T_00e45478_4b70_11eb_99ea_525400a9d4fbrow16_col3\" class=\"data row16 col3\" >-0.273036</td>\n",
       "                        <td id=\"T_00e45478_4b70_11eb_99ea_525400a9d4fbrow16_col4\" class=\"data row16 col4\" >0.222822</td>\n",
       "                        <td id=\"T_00e45478_4b70_11eb_99ea_525400a9d4fbrow16_col5\" class=\"data row16 col5\" >0.593332</td>\n",
       "                        <td id=\"T_00e45478_4b70_11eb_99ea_525400a9d4fbrow16_col6\" class=\"data row16 col6\" >0.760167</td>\n",
       "                        <td id=\"T_00e45478_4b70_11eb_99ea_525400a9d4fbrow16_col7\" class=\"data row16 col7\" >0.707301</td>\n",
       "                        <td id=\"T_00e45478_4b70_11eb_99ea_525400a9d4fbrow16_col8\" class=\"data row16 col8\" >0.712350</td>\n",
       "                        <td id=\"T_00e45478_4b70_11eb_99ea_525400a9d4fbrow16_col9\" class=\"data row16 col9\" >0.269570</td>\n",
       "                        <td id=\"T_00e45478_4b70_11eb_99ea_525400a9d4fbrow16_col10\" class=\"data row16 col10\" >0.706142</td>\n",
       "                        <td id=\"T_00e45478_4b70_11eb_99ea_525400a9d4fbrow16_col11\" class=\"data row16 col11\" >0.539192</td>\n",
       "                        <td id=\"T_00e45478_4b70_11eb_99ea_525400a9d4fbrow16_col12\" class=\"data row16 col12\" >0.336505</td>\n",
       "                        <td id=\"T_00e45478_4b70_11eb_99ea_525400a9d4fbrow16_col13\" class=\"data row16 col13\" >0.544202</td>\n",
       "                        <td id=\"T_00e45478_4b70_11eb_99ea_525400a9d4fbrow16_col14\" class=\"data row16 col14\" >0.247493</td>\n",
       "                        <td id=\"T_00e45478_4b70_11eb_99ea_525400a9d4fbrow16_col15\" class=\"data row16 col15\" >-0.075057</td>\n",
       "                        <td id=\"T_00e45478_4b70_11eb_99ea_525400a9d4fbrow16_col16\" class=\"data row16 col16\" >1.000000</td>\n",
       "            </tr>\n",
       "    </tbody></table>"
      ],
      "text/plain": [
       "<pandas.io.formats.style.Styler at 0x7fc48512ea30>"
      ]
     },
     "execution_count": 21,
     "metadata": {},
     "output_type": "execute_result"
    }
   ],
   "source": [
    "# Correlation\n",
    "df = track_df.copy()\n",
    "df.corr().style.background_gradient(axis=None)"
   ]
  },
  {
   "cell_type": "code",
   "execution_count": 22,
   "metadata": {
    "collapsed": false
   },
   "outputs": [
    {
     "data": {
      "image/png": "[encoded data removed]",
      "text/plain": [
       "<Figure size 432x288 with 1 Axes>"
      ]
     },
     "metadata": {},
     "output_type": "display_data"
    }
   ],
   "source": [
    "# Scatter plot of Stringency index and Rt\n",
    "df = track_df.copy()\n",
    "sns.scatterplot(data=df, x=\"Stringency_index\", y=\"Rt\", hue=\"Country\", legend=\"brief\", marker=\"+\")\n",
    "bbox_to_anchor=(1.02, 0)\n",
    "bbox_loc=\"lower left\"\n",
    "plt.legend(bbox_to_anchor=bbox_to_anchor, loc=bbox_loc, borderaxespad=0)\n",
    "plt.title(\"Relationship of Stringency index and reproduction number\")\n",
    "plt.ylabel(\"Reproduction number\")\n",
    "plt.xlabel(\"Stringency index\")\n",
    "plt.show()"
   ]
  }
 ],
 "metadata": {
  "kernelspec": {
   "display_name": "Python 3.8.2 64-bit ('.venv': venv)",
   "name": "python_defaultSpec_1597669925034"
  },
  "language_info": {
   "codemirror_mode": {
    "name": "ipython",
    "version": 3
   },
   "file_extension": ".py",
   "mimetype": "text/x-python",
   "name": "python",
   "nbconvert_exporter": "python",
   "pygments_lexer": "ipython3",
   "version": "3.8.2-final"
  }
 },
 "nbformat": 4,
 "nbformat_minor": 4
}
