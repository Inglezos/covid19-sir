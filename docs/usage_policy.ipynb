{
 "cells": [
  {
   "cell_type": "markdown",
   "metadata": {},
   "source": [
    "# Usage (details: policy measures)\n",
    "Here, we will analyse the relationship of policy measures and parameter values of SIR-derived ODE models. Policy measures are tracked by [Oxford Covid-19 Government Response Tracker (OxCGRT)](https://github.com/OxCGRT/covid-policy-tracker)."
   ]
  },
  {
   "cell_type": "markdown",
   "metadata": {},
   "source": [
    "## Preparation"
   ]
  },
  {
   "cell_type": "code",
   "execution_count": 1,
   "metadata": {
    "collapsed": false
   },
   "outputs": [],
   "source": [
    "# Standard users\n",
    "# !pip install covsirphy\n",
    "# Developers (Note: this notebook is in example directory)\n",
    "import os\n",
    "os.chdir(\"../\")"
   ]
  },
  {
   "cell_type": "code",
   "execution_count": 2,
   "metadata": {
    "collapsed": false
   },
   "outputs": [],
   "source": [
    "from pprint import pprint"
   ]
  },
  {
   "cell_type": "code",
   "execution_count": 3,
   "metadata": {
    "collapsed": false
   },
   "outputs": [
    {
     "data": {
      "text/plain": [
       "'2.13.0-alpha.fix.417'"
      ]
     },
     "execution_count": 3,
     "metadata": {},
     "output_type": "execute_result"
    }
   ],
   "source": [
    "import covsirphy as cs\n",
    "cs.__version__"
   ]
  },
  {
   "cell_type": "code",
   "execution_count": 4,
   "metadata": {
    "collapsed": false,
    "tags": []
   },
   "outputs": [
    {
     "name": "stdout",
     "output_type": "stream",
     "text": [
      "(Secondary source) Guidotti, E., Ardia, D., (2020), \"COVID-19 Data Hub\", Journal of Open Source Software 5(51):2376, doi: 10.21105/joss.02376.\n"
     ]
    }
   ],
   "source": [
    "# Standard users and developers\n",
    "data_loader = cs.DataLoader(\"input\")\n",
    "# The number of cases (JHU style)\n",
    "jhu_data = data_loader.jhu(verbose=False)\n",
    "# Population in each country\n",
    "population_data = data_loader.population(verbose=False)\n",
    "# Government Response Tracker (OxCGRT)\n",
    "oxcgrt_data = data_loader.oxcgrt(verbose=False)\n",
    "# Description/citation\n",
    "print(oxcgrt_data.citation)"
   ]
  },
  {
   "cell_type": "markdown",
   "metadata": {},
   "source": [
    "## Class for policy measure analysis\n",
    "We will `PolicyMeasures` class to find relationship of policy measures and parameter values of SIR-derived ODE models."
   ]
  },
  {
   "cell_type": "code",
   "execution_count": 5,
   "metadata": {
    "collapsed": false,
    "tags": []
   },
   "outputs": [
    {
     "name": "stderr",
     "output_type": "stream",
     "text": [
      "/home/runner/.local/share/virtualenvs/covid19-sir-kT3BL-HO/lib/python3.8/site-packages/scipy/interpolate/fitpack2.py:253: UserWarning: \n",
      "The maximal number of iterations maxit (set to 20 by the program)\n",
      "allowed for finding a smoothing spline with fp=s has been reached: s\n",
      "too small.\n",
      "There is an approximation returned but the corresponding weighted sum\n",
      "of squared residuals does not satisfy the condition abs(fp-s)/s < tol.\n",
      "  warnings.warn(message)\n"
     ]
    },
    {
     "data": {
      "text/plain": [
       "196"
      ]
     },
     "execution_count": 5,
     "metadata": {},
     "output_type": "execute_result"
    }
   ],
   "source": [
    "# Create analyser with tau value 360 [min] (can be changed)\n",
    "analyser = cs.PolicyMeasures(jhu_data, population_data, oxcgrt_data, tau=360)\n",
    "# The number of registerd countries\n",
    "len(analyser.countries)"
   ]
  },
  {
   "cell_type": "code",
   "execution_count": 6,
   "metadata": {
    "collapsed": false
   },
   "outputs": [
    {
     "data": {
      "text/plain": [
       "covsirphy.analysis.scenario.Scenario"
      ]
     },
     "execution_count": 6,
     "metadata": {},
     "output_type": "execute_result"
    }
   ],
   "source": [
    "# We can get Scenario instance for detailed scenario analysis\n",
    "type(analyser.scenario(\"Japan\"))"
   ]
  },
  {
   "cell_type": "markdown",
   "metadata": {},
   "source": [
    "## Set phases with S-R trend analysis\n",
    "We will perform S-R trend analysis to set phases in all countries. Countries which do not have **16th phases** will be un-registered for the next analysis. This number will be adjusted for your analysis."
   ]
  },
  {
   "cell_type": "code",
   "execution_count": 7,
   "metadata": {
    "collapsed": false
   },
   "outputs": [
    {
     "name": "stdout",
     "output_type": "stream",
     "text": [
      "{2: ['Solomon Islands', 'Holy See'],\n",
      " 3: ['Saint Kitts and Nevis', 'Timor-Leste', 'Laos', 'Tanzania'],\n",
      " 4: ['Brunei', 'Dominica', 'Saint Lucia'],\n",
      " 5: ['Grenada', 'Fiji', 'Equatorial Guinea'],\n",
      " 6: ['Saint Vincent and the Grenadines', 'Mauritius', 'Antigua and Barbuda'],\n",
      " 7: ['Cambodia', 'Gambia'],\n",
      " 8: ['Trinidad and Tobago', 'Seychelles', 'Madagascar',\n",
      "     'Northern Mariana Islands', 'Liechtenstein', 'Vietnam', 'Bahamas',\n",
      "     'Monaco', 'Kyrgyzstan'],\n",
      " 9: ['Virgin Islands, U.S.', 'Bolivia', 'Kazakhstan', 'Australia', 'Uzbekistan',\n",
      "     'Zambia', 'Suriname', 'Burundi', 'Djibouti', 'Lesotho', 'Swaziland',\n",
      "     'Ghana', 'Zimbabwe', 'Oman', 'South Africa', 'Sao Tome and Principe',\n",
      "     'Republic of the Congo', 'Bermuda', 'Malawi', 'Barbados'],\n",
      " 10: ['Philippines', 'Singapore', 'Chile', 'Benin', 'New Zealand', 'Kuwait',\n",
      "      'Mongolia', 'Guyana', 'Saudi Arabia', 'Papua New Guinea', 'Guatemala',\n",
      "      'Eritrea', 'Senegal', 'Mozambique', 'Syria', 'Ethiopia', 'Venezuela',\n",
      "      'Dominican Republic', 'Central African Republic', 'Bhutan', 'Rwanda',\n",
      "      'Comoros', 'Angola', 'Maldives', 'Liberia', 'Libya', 'Jamaica', 'Bahrain',\n",
      "      'Honduras', 'Botswana', 'Namibia', 'Belize', 'Israel', \"Cote d'Ivoire\"],\n",
      " 11: ['Nigeria', 'Mexico', 'Jordan', 'Iraq', 'Nepal', 'Nicaragua', 'Togo',\n",
      "      'Brazil', 'Iceland', 'Sierra Leone', 'Egypt', 'Algeria', 'Kenya', 'Gabon',\n",
      "      'Peru', 'El Salvador', 'Guam', 'Cameroon', 'Paraguay', 'Puerto Rico',\n",
      "      'Ecuador', 'Argentina', 'India', 'Costa Rica', 'Guinea-Bissau', 'Yemen',\n",
      "      'Bangladesh', 'Colombia', 'Cape Verde', 'Panama'],\n",
      " 12: ['Somalia', 'Qatar', 'Chad', 'Montenegro', 'Georgia', 'Taiwan', 'Pakistan',\n",
      "      'Indonesia', 'Guinea', 'Niger', 'Sudan', 'Tajikistan', 'Japan',\n",
      "      'Democratic Republic of the Congo', 'South Sudan', 'Kosovo', 'Slovenia',\n",
      "      'Slovakia'],\n",
      " 13: ['Malta', 'Palestine', 'Bulgaria', 'Cyprus', 'Croatia', 'China', 'Moldova',\n",
      "      'Tunisia', 'Russia', 'San Marino', 'Serbia', 'Luxembourg', 'Andorra',\n",
      "      'Lithuania', 'Haiti', 'Latvia', 'Belarus', 'Mali', 'Azerbaijan',\n",
      "      'Burkina Faso', 'Uganda', 'United Arab Emirates', 'Cuba', 'Hungary',\n",
      "      'Mauritania'],\n",
      " 14: ['Morocco', 'Ireland', 'Uruguay', 'Spain', 'Italy', 'Czech Republic',\n",
      "      'Albania', 'Iran', 'Afghanistan', 'Thailand', 'Poland', 'Turkey',\n",
      "      'Greece', 'Norway', 'Sri Lanka', 'Armenia', 'United States', 'Myanmar',\n",
      "      'Malaysia'],\n",
      " 15: ['Estonia', 'Switzerland', 'Portugal', 'Sweden', 'Lebanon',\n",
      "      'Bosnia and Herzegovina', 'Austria', 'Germany', 'North Macedonia'],\n",
      " 16: ['Belgium', 'France', 'Canada', 'Finland', 'Romania', 'Denmark',\n",
      "      'Netherlands', 'Ukraine'],\n",
      " 17: ['United Kingdom']}\n"
     ]
    }
   ],
   "source": [
    "# Show the number of phases of all countries\n",
    "analyser.trend()\n",
    "pprint(analyser.phase_len(), compact=True)"
   ]
  },
  {
   "cell_type": "code",
   "execution_count": 8,
   "metadata": {
    "collapsed": false
   },
   "outputs": [
    {
     "data": {
      "text/plain": [
       "9"
      ]
     },
     "execution_count": 8,
     "metadata": {},
     "output_type": "execute_result"
    }
   ],
   "source": [
    "# Set phases with S-R trend analysis\n",
    "analyser.trend(min_len=16)\n",
    "# The number of countries\n",
    "len(analyser.countries)"
   ]
  },
  {
   "cell_type": "code",
   "execution_count": 9,
   "metadata": {
    "collapsed": false,
    "tags": []
   },
   "outputs": [
    {
     "name": "stdout",
     "output_type": "stream",
     "text": [
      "{16: ['Belgium', 'France', 'Canada', 'Finland', 'Romania', 'Denmark',\n",
      "      'Netherlands', 'Ukraine'],\n",
      " 17: ['United Kingdom']}\n"
     ]
    }
   ],
   "source": [
    "phase_len_dict = analyser.phase_len()\n",
    "pprint(phase_len_dict, compact=True)"
   ]
  },
  {
   "cell_type": "code",
   "execution_count": 10,
   "metadata": {
    "collapsed": false,
    "tags": []
   },
   "outputs": [
    {
     "data": {
      "text/html": [
       "<div>\n",
       "<style scoped>\n",
       "    .dataframe tbody tr th:only-of-type {\n",
       "        vertical-align: middle;\n",
       "    }\n",
       "\n",
       "    .dataframe tbody tr th {\n",
       "        vertical-align: top;\n",
       "    }\n",
       "\n",
       "    .dataframe thead th {\n",
       "        text-align: right;\n",
       "    }\n",
       "</style>\n",
       "<table border=\"1\" class=\"dataframe\">\n",
       "  <thead>\n",
       "    <tr style=\"text-align: right;\">\n",
       "      <th></th>\n",
       "      <th></th>\n",
       "      <th>Type</th>\n",
       "      <th>Start</th>\n",
       "      <th>End</th>\n",
       "      <th>Population</th>\n",
       "    </tr>\n",
       "    <tr>\n",
       "      <th>Country</th>\n",
       "      <th>Phase</th>\n",
       "      <th></th>\n",
       "      <th></th>\n",
       "      <th></th>\n",
       "      <th></th>\n",
       "    </tr>\n",
       "  </thead>\n",
       "  <tbody>\n",
       "    <tr>\n",
       "      <th rowspan=\"17\" valign=\"top\">United Kingdom</th>\n",
       "      <th>0th</th>\n",
       "      <td>Past</td>\n",
       "      <td>18Feb2020</td>\n",
       "      <td>06Apr2020</td>\n",
       "      <td>66460344</td>\n",
       "    </tr>\n",
       "    <tr>\n",
       "      <th>1st</th>\n",
       "      <td>Past</td>\n",
       "      <td>07Apr2020</td>\n",
       "      <td>23Apr2020</td>\n",
       "      <td>66460344</td>\n",
       "    </tr>\n",
       "    <tr>\n",
       "      <th>2nd</th>\n",
       "      <td>Past</td>\n",
       "      <td>24Apr2020</td>\n",
       "      <td>11May2020</td>\n",
       "      <td>66460344</td>\n",
       "    </tr>\n",
       "    <tr>\n",
       "      <th>3rd</th>\n",
       "      <td>Past</td>\n",
       "      <td>12May2020</td>\n",
       "      <td>11Jun2020</td>\n",
       "      <td>66460344</td>\n",
       "    </tr>\n",
       "    <tr>\n",
       "      <th>4th</th>\n",
       "      <td>Past</td>\n",
       "      <td>12Jun2020</td>\n",
       "      <td>17Aug2020</td>\n",
       "      <td>66460344</td>\n",
       "    </tr>\n",
       "    <tr>\n",
       "      <th>5th</th>\n",
       "      <td>Past</td>\n",
       "      <td>18Aug2020</td>\n",
       "      <td>17Sep2020</td>\n",
       "      <td>66460344</td>\n",
       "    </tr>\n",
       "    <tr>\n",
       "      <th>6th</th>\n",
       "      <td>Past</td>\n",
       "      <td>18Sep2020</td>\n",
       "      <td>02Oct2020</td>\n",
       "      <td>66460344</td>\n",
       "    </tr>\n",
       "    <tr>\n",
       "      <th>7th</th>\n",
       "      <td>Past</td>\n",
       "      <td>03Oct2020</td>\n",
       "      <td>11Oct2020</td>\n",
       "      <td>66460344</td>\n",
       "    </tr>\n",
       "    <tr>\n",
       "      <th>8th</th>\n",
       "      <td>Past</td>\n",
       "      <td>12Oct2020</td>\n",
       "      <td>19Oct2020</td>\n",
       "      <td>66460344</td>\n",
       "    </tr>\n",
       "    <tr>\n",
       "      <th>9th</th>\n",
       "      <td>Past</td>\n",
       "      <td>20Oct2020</td>\n",
       "      <td>25Oct2020</td>\n",
       "      <td>66460344</td>\n",
       "    </tr>\n",
       "    <tr>\n",
       "      <th>10th</th>\n",
       "      <td>Past</td>\n",
       "      <td>26Oct2020</td>\n",
       "      <td>05Nov2020</td>\n",
       "      <td>66460344</td>\n",
       "    </tr>\n",
       "    <tr>\n",
       "      <th>11th</th>\n",
       "      <td>Past</td>\n",
       "      <td>06Nov2020</td>\n",
       "      <td>11Nov2020</td>\n",
       "      <td>66460344</td>\n",
       "    </tr>\n",
       "    <tr>\n",
       "      <th>12th</th>\n",
       "      <td>Past</td>\n",
       "      <td>12Nov2020</td>\n",
       "      <td>17Nov2020</td>\n",
       "      <td>66460344</td>\n",
       "    </tr>\n",
       "    <tr>\n",
       "      <th>13th</th>\n",
       "      <td>Past</td>\n",
       "      <td>18Nov2020</td>\n",
       "      <td>24Nov2020</td>\n",
       "      <td>66460344</td>\n",
       "    </tr>\n",
       "    <tr>\n",
       "      <th>14th</th>\n",
       "      <td>Past</td>\n",
       "      <td>25Nov2020</td>\n",
       "      <td>01Dec2020</td>\n",
       "      <td>66460344</td>\n",
       "    </tr>\n",
       "    <tr>\n",
       "      <th>15th</th>\n",
       "      <td>Past</td>\n",
       "      <td>02Dec2020</td>\n",
       "      <td>08Dec2020</td>\n",
       "      <td>66460344</td>\n",
       "    </tr>\n",
       "    <tr>\n",
       "      <th>16th</th>\n",
       "      <td>Past</td>\n",
       "      <td>09Dec2020</td>\n",
       "      <td>15Dec2020</td>\n",
       "      <td>66460344</td>\n",
       "    </tr>\n",
       "  </tbody>\n",
       "</table>\n",
       "</div>"
      ],
      "text/plain": [
       "                      Type      Start        End  Population\n",
       "Country        Phase                                        \n",
       "United Kingdom 0th    Past  18Feb2020  06Apr2020    66460344\n",
       "               1st    Past  07Apr2020  23Apr2020    66460344\n",
       "               2nd    Past  24Apr2020  11May2020    66460344\n",
       "               3rd    Past  12May2020  11Jun2020    66460344\n",
       "               4th    Past  12Jun2020  17Aug2020    66460344\n",
       "               5th    Past  18Aug2020  17Sep2020    66460344\n",
       "               6th    Past  18Sep2020  02Oct2020    66460344\n",
       "               7th    Past  03Oct2020  11Oct2020    66460344\n",
       "               8th    Past  12Oct2020  19Oct2020    66460344\n",
       "               9th    Past  20Oct2020  25Oct2020    66460344\n",
       "               10th   Past  26Oct2020  05Nov2020    66460344\n",
       "               11th   Past  06Nov2020  11Nov2020    66460344\n",
       "               12th   Past  12Nov2020  17Nov2020    66460344\n",
       "               13th   Past  18Nov2020  24Nov2020    66460344\n",
       "               14th   Past  25Nov2020  01Dec2020    66460344\n",
       "               15th   Past  02Dec2020  08Dec2020    66460344\n",
       "               16th   Past  09Dec2020  15Dec2020    66460344"
      ]
     },
     "execution_count": 10,
     "metadata": {},
     "output_type": "execute_result"
    }
   ],
   "source": [
    "# Here, only show the countries which have the most phases\n",
    "countries_show = max(phase_len_dict.items(), key=lambda x: x[0])[1]\n",
    "# Show summary\n",
    "analyser.summary(countries=countries_show)"
   ]
  },
  {
   "cell_type": "markdown",
   "metadata": {},
   "source": [
    "## Parameter estimation\n",
    "we will estimate the parameter values with SIR-derived ODE models in each country."
   ]
  },
  {
   "cell_type": "code",
   "execution_count": 11,
   "metadata": {
    "collapsed": false,
    "tags": []
   },
   "outputs": [
    {
     "name": "stdout",
     "output_type": "stream",
     "text": [
      "\n",
      "<SIR-F model: parameter estimation>\n",
      "Running optimization with 4 CPUs...\n"
     ]
    },
    {
     "name": "stdout",
     "output_type": "stream",
     "text": [
      "\tFIN, 10th phase (03Nov2020 - 11Nov2020): finished  251 trials in 0 min 10 sec"
     ]
    },
    {
     "name": "stdout",
     "output_type": "stream",
     "text": [
      "\n"
     ]
    },
    {
     "name": "stdout",
     "output_type": "stream",
     "text": [
      "\tNLD,  8th phase (06Oct2020 - 15Oct2020): finished  232 trials in 0 min 10 sec"
     ]
    },
    {
     "name": "stdout",
     "output_type": "stream",
     "text": [
      "\n"
     ]
    },
    {
     "name": "stdout",
     "output_type": "stream",
     "text": [
      "\tUKR,  6th phase (01Oct2020 - 11Oct2020): finished  236 trials in 0 min 10 sec"
     ]
    },
    {
     "name": "stdout",
     "output_type": "stream",
     "text": [
      "\n"
     ]
    },
    {
     "name": "stdout",
     "output_type": "stream",
     "text": [
      "\tFIN,  7th phase (05Oct2020 - 13Oct2020): finished  255 trials in 0 min 10 sec"
     ]
    },
    {
     "name": "stdout",
     "output_type": "stream",
     "text": [
      "\n"
     ]
    },
    {
     "name": "stderr",
     "output_type": "stream",
     "text": [
      "/home/runner/.local/share/virtualenvs/covid19-sir-kT3BL-HO/lib/python3.8/site-packages/scipy/interpolate/fitpack2.py:253: UserWarning: \n",
      "The maximal number of iterations maxit (set to 20 by the program)\n",
      "allowed for finding a smoothing spline with fp=s has been reached: s\n",
      "too small.\n",
      "There is an approximation returned but the corresponding weighted sum\n",
      "of squared residuals does not satisfy the condition abs(fp-s)/s < tol.\n",
      "  warnings.warn(message)\n"
     ]
    },
    {
     "name": "stdout",
     "output_type": "stream",
     "text": [
      "\tNLD,  6th phase (20Sep2020 - 28Sep2020): finished  242 trials in 0 min 10 sec"
     ]
    },
    {
     "name": "stdout",
     "output_type": "stream",
     "text": [
      "\n"
     ]
    },
    {
     "name": "stdout",
     "output_type": "stream",
     "text": [
      "\tROU,  5th phase (10Sep2020 - 29Sep2020): finished  243 trials in 0 min 10 sec"
     ]
    },
    {
     "name": "stdout",
     "output_type": "stream",
     "text": [
      "\n"
     ]
    },
    {
     "name": "stdout",
     "output_type": "stream",
     "text": [
      "\tFRA,  9th phase (16Oct2020 - 21Oct2020): finished  234 trials in 0 min 10 sec"
     ]
    },
    {
     "name": "stdout",
     "output_type": "stream",
     "text": [
      "\n"
     ]
    },
    {
     "name": "stdout",
     "output_type": "stream",
     "text": [
      "\tROU,  9th phase (29Oct2020 - 04Nov2020): finished  244 trials in 0 min 10 sec"
     ]
    },
    {
     "name": "stdout",
     "output_type": "stream",
     "text": [
      "\n"
     ]
    },
    {
     "name": "stderr",
     "output_type": "stream",
     "text": [
      "/home/runner/.local/share/virtualenvs/covid19-sir-kT3BL-HO/lib/python3.8/site-packages/scipy/interpolate/fitpack2.py:253: UserWarning: \n",
      "The maximal number of iterations maxit (set to 20 by the program)\n",
      "allowed for finding a smoothing spline with fp=s has been reached: s\n",
      "too small.\n",
      "There is an approximation returned but the corresponding weighted sum\n",
      "of squared residuals does not satisfy the condition abs(fp-s)/s < tol.\n",
      "  warnings.warn(message)\n"
     ]
    },
    {
     "name": "stdout",
     "output_type": "stream",
     "text": [
      "\tNLD, 13th phase (18Nov2020 - 28Nov2020): finished  236 trials in 0 min 10 sec"
     ]
    },
    {
     "name": "stdout",
     "output_type": "stream",
     "text": [
      "\n"
     ]
    },
    {
     "name": "stdout",
     "output_type": "stream",
     "text": [
      "\tFRA,  4th phase (26Aug2020 - 09Sep2020): finished  248 trials in 0 min 10 sec"
     ]
    },
    {
     "name": "stdout",
     "output_type": "stream",
     "text": [
      "\n"
     ]
    },
    {
     "name": "stdout",
     "output_type": "stream",
     "text": [
      "\tFIN,  9th phase (24Oct2020 - 02Nov2020): finished  252 trials in 0 min 10 sec"
     ]
    },
    {
     "name": "stdout",
     "output_type": "stream",
     "text": [
      "\n"
     ]
    },
    {
     "name": "stdout",
     "output_type": "stream",
     "text": [
      "\tROU,  2nd phase (08Jul2020 - 30Jul2020): finished  232 trials in 0 min 10 sec"
     ]
    },
    {
     "name": "stdout",
     "output_type": "stream",
     "text": [
      "\n"
     ]
    },
    {
     "name": "stdout",
     "output_type": "stream",
     "text": [
      "\tCAN,  7th phase (29Sep2020 - 11Oct2020): finished  244 trials in 0 min 10 sec"
     ]
    },
    {
     "name": "stdout",
     "output_type": "stream",
     "text": [
      "\n"
     ]
    },
    {
     "name": "stdout",
     "output_type": "stream",
     "text": [
      "\tROU,  6th phase (30Sep2020 - 11Oct2020): finished  235 trials in 0 min 10 sec"
     ]
    },
    {
     "name": "stdout",
     "output_type": "stream",
     "text": [
      "\n"
     ]
    },
    {
     "name": "stdout",
     "output_type": "stream",
     "text": [
      "\tBEL,  0th phase (13Mar2020 - 30Mar2020): finished  241 trials in 0 min 10 sec"
     ]
    },
    {
     "name": "stdout",
     "output_type": "stream",
     "text": [
      "\n"
     ]
    },
    {
     "name": "stdout",
     "output_type": "stream",
     "text": [
      "\tDNK,  4th phase (10Aug2020 - 08Sep2020): finished  232 trials in 0 min 10 sec"
     ]
    },
    {
     "name": "stdout",
     "output_type": "stream",
     "text": [
      "\n"
     ]
    },
    {
     "name": "stdout",
     "output_type": "stream",
     "text": [
      "\tGBR,  9th phase (20Oct2020 - 25Oct2020): finished  169 trials in 0 min 10 sec"
     ]
    },
    {
     "name": "stdout",
     "output_type": "stream",
     "text": [
      "\n"
     ]
    },
    {
     "name": "stdout",
     "output_type": "stream",
     "text": [
      "\tCAN,  8th phase (12Oct2020 - 24Oct2020): finished  172 trials in 0 min 10 sec"
     ]
    },
    {
     "name": "stdout",
     "output_type": "stream",
     "text": [
      "\n"
     ]
    },
    {
     "name": "stdout",
     "output_type": "stream",
     "text": [
      "\tROU,  1st phase (02May2020 - 07Jul2020): finished  157 trials in 0 min 10 sec"
     ]
    },
    {
     "name": "stdout",
     "output_type": "stream",
     "text": [
      "\n"
     ]
    },
    {
     "name": "stdout",
     "output_type": "stream",
     "text": [
      "\tBEL,  4th phase (28Jul2020 - 22Aug2020): finished  158 trials in 0 min 10 sec"
     ]
    },
    {
     "name": "stdout",
     "output_type": "stream",
     "text": [
      "\n"
     ]
    },
    {
     "name": "stdout",
     "output_type": "stream",
     "text": [
      "\tDNK,  9th phase (23Oct2020 - 29Oct2020): finished  233 trials in 0 min 10 sec"
     ]
    },
    {
     "name": "stdout",
     "output_type": "stream",
     "text": [
      "\n"
     ]
    },
    {
     "name": "stdout",
     "output_type": "stream",
     "text": [
      "\tDNK, 14th phase (24Nov2020 - 29Nov2020): finished  252 trials in 0 min 10 sec"
     ]
    },
    {
     "name": "stdout",
     "output_type": "stream",
     "text": [
      "\n"
     ]
    },
    {
     "name": "stdout",
     "output_type": "stream",
     "text": [
      "\tBEL,  8th phase (06Oct2020 - 11Oct2020): finished  255 trials in 0 min 10 sec"
     ]
    },
    {
     "name": "stdout",
     "output_type": "stream",
     "text": [
      "\n"
     ]
    },
    {
     "name": "stdout",
     "output_type": "stream",
     "text": [
      "\tCAN,  3rd phase (12May2020 - 02Jun2020): finished  240 trials in 0 min 10 sec"
     ]
    },
    {
     "name": "stdout",
     "output_type": "stream",
     "text": [
      "\n"
     ]
    },
    {
     "name": "stderr",
     "output_type": "stream",
     "text": [
      "/home/runner/.local/share/virtualenvs/covid19-sir-kT3BL-HO/lib/python3.8/site-packages/scipy/interpolate/fitpack2.py:253: UserWarning: \n",
      "The maximal number of iterations maxit (set to 20 by the program)\n",
      "allowed for finding a smoothing spline with fp=s has been reached: s\n",
      "too small.\n",
      "There is an approximation returned but the corresponding weighted sum\n",
      "of squared residuals does not satisfy the condition abs(fp-s)/s < tol.\n",
      "  warnings.warn(message)\n"
     ]
    },
    {
     "name": "stderr",
     "output_type": "stream",
     "text": [
      "/home/runner/.local/share/virtualenvs/covid19-sir-kT3BL-HO/lib/python3.8/site-packages/scipy/interpolate/fitpack2.py:253: UserWarning: \n",
      "The maximal number of iterations maxit (set to 20 by the program)\n",
      "allowed for finding a smoothing spline with fp=s has been reached: s\n",
      "too small.\n",
      "There is an approximation returned but the corresponding weighted sum\n",
      "of squared residuals does not satisfy the condition abs(fp-s)/s < tol.\n",
      "  warnings.warn(message)\n"
     ]
    },
    {
     "name": "stdout",
     "output_type": "stream",
     "text": [
      "\tFIN, 13th phase (26Nov2020 - 01Dec2020): finished  307 trials in 0 min 10 sec"
     ]
    },
    {
     "name": "stdout",
     "output_type": "stream",
     "text": [
      "\n"
     ]
    },
    {
     "name": "stdout",
     "output_type": "stream",
     "text": [
      "\tGBR, 15th phase (02Dec2020 - 08Dec2020): finished  311 trials in 0 min 10 sec"
     ]
    },
    {
     "name": "stdout",
     "output_type": "stream",
     "text": [
      "\n"
     ]
    },
    {
     "name": "stdout",
     "output_type": "stream",
     "text": [
      "\tFRA,  6th phase (22Sep2020 - 30Sep2020): finished  301 trials in 0 min 10 sec"
     ]
    },
    {
     "name": "stdout",
     "output_type": "stream",
     "text": [
      "\n"
     ]
    },
    {
     "name": "stdout",
     "output_type": "stream",
     "text": [
      "\tFRA, 10th phase (22Oct2020 - 31Oct2020): finished  311 trials in 0 min 10 sec"
     ]
    },
    {
     "name": "stdout",
     "output_type": "stream",
     "text": [
      "\n"
     ]
    },
    {
     "name": "stdout",
     "output_type": "stream",
     "text": [
      "\tDNK, 15th phase (30Nov2020 - 15Dec2020): finished  296 trials in 0 min 10 sec"
     ]
    },
    {
     "name": "stdout",
     "output_type": "stream",
     "text": [
      "\n"
     ]
    },
    {
     "name": "stdout",
     "output_type": "stream",
     "text": [
      "\tROU, 14th phase (02Dec2020 - 07Dec2020): finished  286 trials in 0 min 10 sec"
     ]
    },
    {
     "name": "stdout",
     "output_type": "stream",
     "text": [
      "\n"
     ]
    },
    {
     "name": "stdout",
     "output_type": "stream",
     "text": [
      "\tNLD,  0th phase (11Mar2020 - 31Mar2020): finished  314 trials in 0 min 10 sec"
     ]
    },
    {
     "name": "stdout",
     "output_type": "stream",
     "text": [
      "\n"
     ]
    },
    {
     "name": "stdout",
     "output_type": "stream",
     "text": [
      "\tBEL,  6th phase (15Sep2020 - 27Sep2020): finished  283 trials in 0 min 10 sec"
     ]
    },
    {
     "name": "stdout",
     "output_type": "stream",
     "text": [
      "\n"
     ]
    },
    {
     "name": "stderr",
     "output_type": "stream",
     "text": [
      "/home/runner/.local/share/virtualenvs/covid19-sir-kT3BL-HO/lib/python3.8/site-packages/scipy/interpolate/fitpack2.py:253: UserWarning: \n",
      "The maximal number of iterations maxit (set to 20 by the program)\n",
      "allowed for finding a smoothing spline with fp=s has been reached: s\n",
      "too small.\n",
      "There is an approximation returned but the corresponding weighted sum\n",
      "of squared residuals does not satisfy the condition abs(fp-s)/s < tol.\n",
      "  warnings.warn(message)\n"
     ]
    },
    {
     "name": "stdout",
     "output_type": "stream",
     "text": [
      "\tDNK,  3rd phase (13Jun2020 - 09Aug2020): finished  275 trials in 0 min 10 sec"
     ]
    },
    {
     "name": "stdout",
     "output_type": "stream",
     "text": [
      "\n"
     ]
    },
    {
     "name": "stdout",
     "output_type": "stream",
     "text": [
      "\tFIN,  0th phase (16Mar2020 - 04Apr2020): finished  301 trials in 0 min 10 sec"
     ]
    },
    {
     "name": "stdout",
     "output_type": "stream",
     "text": [
      "\n"
     ]
    },
    {
     "name": "stdout",
     "output_type": "stream",
     "text": [
      "\tCAN, 11th phase (13Nov2020 - 19Nov2020): finished  282 trials in 0 min 10 sec"
     ]
    },
    {
     "name": "stdout",
     "output_type": "stream",
     "text": [
      "\n"
     ]
    },
    {
     "name": "stdout",
     "output_type": "stream",
     "text": [
      "\tFRA,  0th phase (07Feb2020 - 30Mar2020): finished  262 trials in 0 min 10 sec"
     ]
    },
    {
     "name": "stdout",
     "output_type": "stream",
     "text": [
      "\n"
     ]
    },
    {
     "name": "stdout",
     "output_type": "stream",
     "text": [
      "\tDNK,  2nd phase (03May2020 - 12Jun2020): finished  268 trials in 0 min 10 sec"
     ]
    },
    {
     "name": "stdout",
     "output_type": "stream",
     "text": [
      "\n"
     ]
    },
    {
     "name": "stdout",
     "output_type": "stream",
     "text": [
      "\tGBR, 13th phase (18Nov2020 - 24Nov2020): finished  284 trials in 0 min 10 sec"
     ]
    },
    {
     "name": "stdout",
     "output_type": "stream",
     "text": [
      "\n"
     ]
    },
    {
     "name": "stdout",
     "output_type": "stream",
     "text": [
      "\tBEL, 11th phase (02Nov2020 - 08Nov2020): finished  279 trials in 0 min 10 sec"
     ]
    },
    {
     "name": "stdout",
     "output_type": "stream",
     "text": [
      "\n"
     ]
    },
    {
     "name": "stdout",
     "output_type": "stream",
     "text": [
      "\tGBR, 10th phase (26Oct2020 - 05Nov2020): finished  273 trials in 0 min 10 sec"
     ]
    },
    {
     "name": "stdout",
     "output_type": "stream",
     "text": [
      "\n"
     ]
    },
    {
     "name": "stderr",
     "output_type": "stream",
     "text": [
      "/home/runner/.local/share/virtualenvs/covid19-sir-kT3BL-HO/lib/python3.8/site-packages/scipy/interpolate/fitpack2.py:253: UserWarning: \n",
      "The maximal number of iterations maxit (set to 20 by the program)\n",
      "allowed for finding a smoothing spline with fp=s has been reached: s\n",
      "too small.\n",
      "There is an approximation returned but the corresponding weighted sum\n",
      "of squared residuals does not satisfy the condition abs(fp-s)/s < tol.\n",
      "  warnings.warn(message)\n"
     ]
    },
    {
     "name": "stdout",
     "output_type": "stream",
     "text": [
      "\tNLD,  4th phase (09Aug2020 - 05Sep2020): finished  311 trials in 0 min 10 sec"
     ]
    },
    {
     "name": "stdout",
     "output_type": "stream",
     "text": [
      "\n"
     ]
    },
    {
     "name": "stdout",
     "output_type": "stream",
     "text": [
      "\tUKR,  8th phase (22Oct2020 - 29Oct2020): finished  308 trials in 0 min 10 sec"
     ]
    },
    {
     "name": "stdout",
     "output_type": "stream",
     "text": [
      "\n"
     ]
    },
    {
     "name": "stdout",
     "output_type": "stream",
     "text": [
      "\tGBR, 11th phase (06Nov2020 - 11Nov2020): finished  282 trials in 0 min 10 sec"
     ]
    },
    {
     "name": "stdout",
     "output_type": "stream",
     "text": [
      "\n"
     ]
    },
    {
     "name": "stdout",
     "output_type": "stream",
     "text": [
      "\tFRA,  5th phase (10Sep2020 - 21Sep2020): finished  279 trials in 0 min 10 sec"
     ]
    },
    {
     "name": "stdout",
     "output_type": "stream",
     "text": [
      "\n"
     ]
    },
    {
     "name": "stdout",
     "output_type": "stream",
     "text": [
      "\tUKR,  2nd phase (09Jul2020 - 11Aug2020): finished  267 trials in 0 min 10 sec"
     ]
    },
    {
     "name": "stdout",
     "output_type": "stream",
     "text": [
      "\n"
     ]
    },
    {
     "name": "stdout",
     "output_type": "stream",
     "text": [
      "\tNLD,  5th phase (06Sep2020 - 19Sep2020): finished  284 trials in 0 min 10 sec"
     ]
    },
    {
     "name": "stdout",
     "output_type": "stream",
     "text": [
      "\n"
     ]
    },
    {
     "name": "stdout",
     "output_type": "stream",
     "text": [
      "\tFIN,  8th phase (14Oct2020 - 23Oct2020): finished  307 trials in 0 min 10 sec"
     ]
    },
    {
     "name": "stdout",
     "output_type": "stream",
     "text": [
      "\n"
     ]
    },
    {
     "name": "stdout",
     "output_type": "stream",
     "text": [
      "\tNLD,  9th phase (16Oct2020 - 25Oct2020): finished  291 trials in 0 min 10 sec"
     ]
    },
    {
     "name": "stdout",
     "output_type": "stream",
     "text": [
      "\n"
     ]
    },
    {
     "name": "stderr",
     "output_type": "stream",
     "text": [
      "/home/runner/.local/share/virtualenvs/covid19-sir-kT3BL-HO/lib/python3.8/site-packages/scipy/interpolate/fitpack2.py:253: UserWarning: \n",
      "The maximal number of iterations maxit (set to 20 by the program)\n",
      "allowed for finding a smoothing spline with fp=s has been reached: s\n",
      "too small.\n",
      "There is an approximation returned but the corresponding weighted sum\n",
      "of squared residuals does not satisfy the condition abs(fp-s)/s < tol.\n",
      "  warnings.warn(message)\n"
     ]
    },
    {
     "name": "stdout",
     "output_type": "stream",
     "text": [
      "\tUKR,  5th phase (17Sep2020 - 30Sep2020): finished  285 trials in 0 min 10 sec"
     ]
    },
    {
     "name": "stdout",
     "output_type": "stream",
     "text": [
      "\n"
     ]
    },
    {
     "name": "stdout",
     "output_type": "stream",
     "text": [
      "\tFIN,  2nd phase (20Apr2020 - 04May2020): finished  287 trials in 0 min 10 sec"
     ]
    },
    {
     "name": "stdout",
     "output_type": "stream",
     "text": [
      "\n"
     ]
    },
    {
     "name": "stdout",
     "output_type": "stream",
     "text": [
      "\tUKR,  4th phase (01Sep2020 - 16Sep2020): finished  283 trials in 0 min 10 sec"
     ]
    },
    {
     "name": "stdout",
     "output_type": "stream",
     "text": [
      "\n"
     ]
    },
    {
     "name": "stderr",
     "output_type": "stream",
     "text": [
      "/home/runner/.local/share/virtualenvs/covid19-sir-kT3BL-HO/lib/python3.8/site-packages/scipy/interpolate/fitpack2.py:253: UserWarning: \n",
      "The maximal number of iterations maxit (set to 20 by the program)\n",
      "allowed for finding a smoothing spline with fp=s has been reached: s\n",
      "too small.\n",
      "There is an approximation returned but the corresponding weighted sum\n",
      "of squared residuals does not satisfy the condition abs(fp-s)/s < tol.\n",
      "  warnings.warn(message)\n"
     ]
    },
    {
     "name": "stdout",
     "output_type": "stream",
     "text": [
      "\tFRA, 13th phase (17Nov2020 - 24Nov2020): finished  284 trials in 0 min 10 sec"
     ]
    },
    {
     "name": "stdout",
     "output_type": "stream",
     "text": [
      "\n"
     ]
    },
    {
     "name": "stdout",
     "output_type": "stream",
     "text": [
      "\tNLD,  1st phase (01Apr2020 - 16Apr2020): finished  285 trials in 0 min 10 sec"
     ]
    },
    {
     "name": "stdout",
     "output_type": "stream",
     "text": [
      "\n"
     ]
    },
    {
     "name": "stdout",
     "output_type": "stream",
     "text": [
      "\tCAN, 13th phase (27Nov2020 - 02Dec2020): finished  293 trials in 0 min 10 sec"
     ]
    },
    {
     "name": "stdout",
     "output_type": "stream",
     "text": [
      "\n"
     ]
    },
    {
     "name": "stdout",
     "output_type": "stream",
     "text": [
      "\tFRA,  3rd phase (28Jul2020 - 25Aug2020): finished  291 trials in 0 min 10 sec"
     ]
    },
    {
     "name": "stdout",
     "output_type": "stream",
     "text": [
      "\n"
     ]
    },
    {
     "name": "stdout",
     "output_type": "stream",
     "text": [
      "\tCAN,  0th phase (02Mar2020 - 08Apr2020): finished  285 trials in 0 min 10 sec"
     ]
    },
    {
     "name": "stdout",
     "output_type": "stream",
     "text": [
      "\n"
     ]
    },
    {
     "name": "stderr",
     "output_type": "stream",
     "text": [
      "/home/runner/.local/share/virtualenvs/covid19-sir-kT3BL-HO/lib/python3.8/site-packages/scipy/interpolate/fitpack2.py:253: UserWarning: \n",
      "The maximal number of iterations maxit (set to 20 by the program)\n",
      "allowed for finding a smoothing spline with fp=s has been reached: s\n",
      "too small.\n",
      "There is an approximation returned but the corresponding weighted sum\n",
      "of squared residuals does not satisfy the condition abs(fp-s)/s < tol.\n",
      "  warnings.warn(message)\n"
     ]
    },
    {
     "name": "stdout",
     "output_type": "stream",
     "text": [
      "\tGBR, 14th phase (25Nov2020 - 01Dec2020): finished  324 trials in 0 min 10 sec"
     ]
    },
    {
     "name": "stdout",
     "output_type": "stream",
     "text": [
      "\n"
     ]
    },
    {
     "name": "stdout",
     "output_type": "stream",
     "text": [
      "\tGBR, 12th phase (12Nov2020 - 17Nov2020): finished  292 trials in 0 min 10 sec"
     ]
    },
    {
     "name": "stdout",
     "output_type": "stream",
     "text": [
      "\n"
     ]
    },
    {
     "name": "stdout",
     "output_type": "stream",
     "text": [
      "\tFRA,  7th phase (01Oct2020 - 08Oct2020): finished  279 trials in 0 min 10 sec"
     ]
    },
    {
     "name": "stdout",
     "output_type": "stream",
     "text": [
      "\n"
     ]
    },
    {
     "name": "stdout",
     "output_type": "stream",
     "text": [
      "\tFIN, 11th phase (12Nov2020 - 19Nov2020): finished  274 trials in 0 min 10 sec"
     ]
    },
    {
     "name": "stdout",
     "output_type": "stream",
     "text": [
      "\n"
     ]
    },
    {
     "name": "stdout",
     "output_type": "stream",
     "text": [
      "\tUKR, 10th phase (06Nov2020 - 12Nov2020): finished  262 trials in 0 min 10 sec"
     ]
    },
    {
     "name": "stdout",
     "output_type": "stream",
     "text": [
      "\n"
     ]
    },
    {
     "name": "stdout",
     "output_type": "stream",
     "text": [
      "\tCAN, 15th phase (09Dec2020 - 15Dec2020): finished  273 trials in 0 min 10 sec"
     ]
    },
    {
     "name": "stdout",
     "output_type": "stream",
     "text": [
      "\n"
     ]
    },
    {
     "name": "stdout",
     "output_type": "stream",
     "text": [
      "\tGBR,  3rd phase (12May2020 - 11Jun2020): finished  246 trials in 0 min 10 sec"
     ]
    },
    {
     "name": "stdout",
     "output_type": "stream",
     "text": [
      "\n"
     ]
    },
    {
     "name": "stdout",
     "output_type": "stream",
     "text": [
      "\tROU, 15th phase (08Dec2020 - 15Dec2020): finished  273 trials in 0 min 10 sec"
     ]
    },
    {
     "name": "stdout",
     "output_type": "stream",
     "text": [
      "\n"
     ]
    },
    {
     "name": "stdout",
     "output_type": "stream",
     "text": [
      "\tDNK,  7th phase (01Oct2020 - 12Oct2020): finished  284 trials in 0 min 10 sec"
     ]
    },
    {
     "name": "stdout",
     "output_type": "stream",
     "text": [
      "\n"
     ]
    },
    {
     "name": "stdout",
     "output_type": "stream",
     "text": [
      "\tDNK,  6th phase (21Sep2020 - 30Sep2020): finished  277 trials in 0 min 10 sec"
     ]
    },
    {
     "name": "stdout",
     "output_type": "stream",
     "text": [
      "\n"
     ]
    },
    {
     "name": "stdout",
     "output_type": "stream",
     "text": [
      "\tROU,  8th phase (21Oct2020 - 28Oct2020): finished  299 trials in 0 min 10 sec"
     ]
    },
    {
     "name": "stdout",
     "output_type": "stream",
     "text": [
      "\n"
     ]
    },
    {
     "name": "stdout",
     "output_type": "stream",
     "text": [
      "\tBEL,  9th phase (12Oct2020 - 21Oct2020): finished  306 trials in 0 min 10 sec"
     ]
    },
    {
     "name": "stdout",
     "output_type": "stream",
     "text": [
      "\n"
     ]
    },
    {
     "name": "stdout",
     "output_type": "stream",
     "text": [
      "\tBEL,  1st phase (31Mar2020 - 13Apr2020): finished  283 trials in 0 min 10 sec"
     ]
    },
    {
     "name": "stdout",
     "output_type": "stream",
     "text": [
      "\n"
     ]
    },
    {
     "name": "stdout",
     "output_type": "stream",
     "text": [
      "\tGBR,  5th phase (18Aug2020 - 17Sep2020): finished  283 trials in 0 min 10 sec"
     ]
    },
    {
     "name": "stdout",
     "output_type": "stream",
     "text": [
      "\n"
     ]
    },
    {
     "name": "stdout",
     "output_type": "stream",
     "text": [
      "\tUKR,  1st phase (31May2020 - 08Jul2020): finished  290 trials in 0 min 10 sec"
     ]
    },
    {
     "name": "stdout",
     "output_type": "stream",
     "text": [
      "\n"
     ]
    },
    {
     "name": "stdout",
     "output_type": "stream",
     "text": [
      "\tCAN,  2nd phase (25Apr2020 - 11May2020): finished  271 trials in 0 min 10 sec"
     ]
    },
    {
     "name": "stdout",
     "output_type": "stream",
     "text": [
      "\n"
     ]
    },
    {
     "name": "stdout",
     "output_type": "stream",
     "text": [
      "\tNLD, 10th phase (26Oct2020 - 04Nov2020): finished  282 trials in 0 min 10 sec"
     ]
    },
    {
     "name": "stdout",
     "output_type": "stream",
     "text": [
      "\n"
     ]
    },
    {
     "name": "stdout",
     "output_type": "stream",
     "text": [
      "\tDNK,  0th phase (19Mar2020 - 12Apr2020): finished  317 trials in 0 min 10 sec"
     ]
    },
    {
     "name": "stdout",
     "output_type": "stream",
     "text": [
      "\n"
     ]
    },
    {
     "name": "stdout",
     "output_type": "stream",
     "text": [
      "\tNLD,  3rd phase (23May2020 - 08Aug2020): finished  248 trials in 0 min 10 sec"
     ]
    },
    {
     "name": "stdout",
     "output_type": "stream",
     "text": [
      "\n"
     ]
    },
    {
     "name": "stderr",
     "output_type": "stream",
     "text": [
      "/home/runner/.local/share/virtualenvs/covid19-sir-kT3BL-HO/lib/python3.8/site-packages/scipy/interpolate/fitpack2.py:253: UserWarning: \n",
      "The maximal number of iterations maxit (set to 20 by the program)\n",
      "allowed for finding a smoothing spline with fp=s has been reached: s\n",
      "too small.\n",
      "There is an approximation returned but the corresponding weighted sum\n",
      "of squared residuals does not satisfy the condition abs(fp-s)/s < tol.\n",
      "  warnings.warn(message)\n"
     ]
    },
    {
     "name": "stdout",
     "output_type": "stream",
     "text": [
      "\tGBR,  6th phase (18Sep2020 - 02Oct2020): finished  275 trials in 0 min 10 sec"
     ]
    },
    {
     "name": "stdout",
     "output_type": "stream",
     "text": [
      "\n"
     ]
    },
    {
     "name": "stdout",
     "output_type": "stream",
     "text": [
      "\tNLD,  7th phase (29Sep2020 - 05Oct2020): finished  316 trials in 0 min 10 sec"
     ]
    },
    {
     "name": "stdout",
     "output_type": "stream",
     "text": [
      "\n"
     ]
    },
    {
     "name": "stdout",
     "output_type": "stream",
     "text": [
      "\tFRA,  8th phase (09Oct2020 - 15Oct2020): finished  282 trials in 0 min 10 sec"
     ]
    },
    {
     "name": "stdout",
     "output_type": "stream",
     "text": [
      "\n"
     ]
    },
    {
     "name": "stdout",
     "output_type": "stream",
     "text": [
      "\tBEL, 13th phase (16Nov2020 - 24Nov2020): finished  290 trials in 0 min 10 sec"
     ]
    },
    {
     "name": "stdout",
     "output_type": "stream",
     "text": [
      "\n"
     ]
    },
    {
     "name": "stdout",
     "output_type": "stream",
     "text": [
      "\tUKR,  9th phase (30Oct2020 - 05Nov2020): finished  300 trials in 0 min 10 sec"
     ]
    },
    {
     "name": "stdout",
     "output_type": "stream",
     "text": [
      "\n"
     ]
    },
    {
     "name": "stdout",
     "output_type": "stream",
     "text": [
      "\tCAN,  1st phase (09Apr2020 - 24Apr2020): finished  240 trials in 0 min 10 sec"
     ]
    },
    {
     "name": "stdout",
     "output_type": "stream",
     "text": [
      "\n"
     ]
    },
    {
     "name": "stdout",
     "output_type": "stream",
     "text": [
      "\tFIN, 12th phase (20Nov2020 - 25Nov2020): finished  296 trials in 0 min 10 sec"
     ]
    },
    {
     "name": "stdout",
     "output_type": "stream",
     "text": [
      "\n"
     ]
    },
    {
     "name": "stdout",
     "output_type": "stream",
     "text": [
      "\tFIN,  6th phase (21Sep2020 - 04Oct2020): finished  308 trials in 0 min 10 sec"
     ]
    },
    {
     "name": "stdout",
     "output_type": "stream",
     "text": [
      "\n"
     ]
    },
    {
     "name": "stdout",
     "output_type": "stream",
     "text": [
      "\tUKR,  0th phase (21Mar2020 - 30May2020): finished  265 trials in 0 min 10 sec"
     ]
    },
    {
     "name": "stdout",
     "output_type": "stream",
     "text": [
      "\n"
     ]
    },
    {
     "name": "stdout",
     "output_type": "stream",
     "text": [
      "\tDNK,  5th phase (09Sep2020 - 20Sep2020): finished  266 trials in 0 min 10 sec"
     ]
    },
    {
     "name": "stdout",
     "output_type": "stream",
     "text": [
      "\n"
     ]
    },
    {
     "name": "stdout",
     "output_type": "stream",
     "text": [
      "\tBEL, 15th phase (06Dec2020 - 15Dec2020): finished  281 trials in 0 min 10 sec"
     ]
    },
    {
     "name": "stdout",
     "output_type": "stream",
     "text": [
      "\n"
     ]
    },
    {
     "name": "stdout",
     "output_type": "stream",
     "text": [
      "\tROU,  0th phase (05Mar2020 - 01May2020): finished  296 trials in 0 min 10 sec"
     ]
    },
    {
     "name": "stdout",
     "output_type": "stream",
     "text": [
      "\n"
     ]
    },
    {
     "name": "stderr",
     "output_type": "stream",
     "text": [
      "/home/runner/.local/share/virtualenvs/covid19-sir-kT3BL-HO/lib/python3.8/site-packages/scipy/interpolate/fitpack2.py:253: UserWarning: \n",
      "The maximal number of iterations maxit (set to 20 by the program)\n",
      "allowed for finding a smoothing spline with fp=s has been reached: s\n",
      "too small.\n",
      "There is an approximation returned but the corresponding weighted sum\n",
      "of squared residuals does not satisfy the condition abs(fp-s)/s < tol.\n",
      "  warnings.warn(message)\n"
     ]
    },
    {
     "name": "stderr",
     "output_type": "stream",
     "text": [
      "/home/runner/.local/share/virtualenvs/covid19-sir-kT3BL-HO/lib/python3.8/site-packages/scipy/interpolate/fitpack2.py:253: UserWarning: \n",
      "The maximal number of iterations maxit (set to 20 by the program)\n",
      "allowed for finding a smoothing spline with fp=s has been reached: s\n",
      "too small.\n",
      "There is an approximation returned but the corresponding weighted sum\n",
      "of squared residuals does not satisfy the condition abs(fp-s)/s < tol.\n",
      "  warnings.warn(message)\n"
     ]
    },
    {
     "name": "stdout",
     "output_type": "stream",
     "text": [
      "\tUKR, 11th phase (13Nov2020 - 18Nov2020): finished  298 trials in 0 min 10 sec"
     ]
    },
    {
     "name": "stdout",
     "output_type": "stream",
     "text": [
      "\n"
     ]
    },
    {
     "name": "stdout",
     "output_type": "stream",
     "text": [
      "\tDNK, 13th phase (18Nov2020 - 23Nov2020): finished  301 trials in 0 min 10 sec"
     ]
    },
    {
     "name": "stdout",
     "output_type": "stream",
     "text": [
      "\n"
     ]
    },
    {
     "name": "stdout",
     "output_type": "stream",
     "text": [
      "\tFRA,  1st phase (31Mar2020 - 25Apr2020): finished  288 trials in 0 min 10 sec"
     ]
    },
    {
     "name": "stdout",
     "output_type": "stream",
     "text": [
      "\n"
     ]
    },
    {
     "name": "stdout",
     "output_type": "stream",
     "text": [
      "\tFRA,  2nd phase (26Apr2020 - 27Jul2020): finished  274 trials in 0 min 10 sec"
     ]
    },
    {
     "name": "stdout",
     "output_type": "stream",
     "text": [
      "\n"
     ]
    },
    {
     "name": "stdout",
     "output_type": "stream",
     "text": [
      "\tROU,  7th phase (12Oct2020 - 20Oct2020): finished  288 trials in 0 min 10 sec"
     ]
    },
    {
     "name": "stdout",
     "output_type": "stream",
     "text": [
      "\n"
     ]
    },
    {
     "name": "stdout",
     "output_type": "stream",
     "text": [
      "\tBEL,  3rd phase (07May2020 - 27Jul2020): finished  276 trials in 0 min 10 sec"
     ]
    },
    {
     "name": "stdout",
     "output_type": "stream",
     "text": [
      "\n"
     ]
    },
    {
     "name": "stdout",
     "output_type": "stream",
     "text": [
      "\tUKR, 12th phase (19Nov2020 - 25Nov2020): finished  286 trials in 0 min 10 sec"
     ]
    },
    {
     "name": "stdout",
     "output_type": "stream",
     "text": [
      "\n"
     ]
    },
    {
     "name": "stdout",
     "output_type": "stream",
     "text": [
      "\tFIN,  5th phase (19Aug2020 - 20Sep2020): finished  292 trials in 0 min 10 sec"
     ]
    },
    {
     "name": "stdout",
     "output_type": "stream",
     "text": [
      "\n"
     ]
    },
    {
     "name": "stderr",
     "output_type": "stream",
     "text": [
      "/home/runner/.local/share/virtualenvs/covid19-sir-kT3BL-HO/lib/python3.8/site-packages/scipy/interpolate/fitpack2.py:253: UserWarning: \n",
      "The maximal number of iterations maxit (set to 20 by the program)\n",
      "allowed for finding a smoothing spline with fp=s has been reached: s\n",
      "too small.\n",
      "There is an approximation returned but the corresponding weighted sum\n",
      "of squared residuals does not satisfy the condition abs(fp-s)/s < tol.\n",
      "  warnings.warn(message)\n"
     ]
    },
    {
     "name": "stdout",
     "output_type": "stream",
     "text": [
      "\tCAN, 14th phase (03Dec2020 - 08Dec2020): finished  292 trials in 0 min 10 sec"
     ]
    },
    {
     "name": "stdout",
     "output_type": "stream",
     "text": [
      "\n"
     ]
    },
    {
     "name": "stdout",
     "output_type": "stream",
     "text": [
      "\tGBR,  0th phase (18Feb2020 - 06Apr2020): finished  259 trials in 0 min 10 sec"
     ]
    },
    {
     "name": "stdout",
     "output_type": "stream",
     "text": [
      "\n"
     ]
    },
    {
     "name": "stdout",
     "output_type": "stream",
     "text": [
      "\tCAN,  9th phase (25Oct2020 - 04Nov2020): finished  253 trials in 0 min 10 sec"
     ]
    },
    {
     "name": "stdout",
     "output_type": "stream",
     "text": [
      "\n"
     ]
    },
    {
     "name": "stdout",
     "output_type": "stream",
     "text": [
      "\tFRA, 12th phase (11Nov2020 - 16Nov2020): finished  304 trials in 0 min 10 sec"
     ]
    },
    {
     "name": "stdout",
     "output_type": "stream",
     "text": [
      "\n"
     ]
    },
    {
     "name": "stdout",
     "output_type": "stream",
     "text": [
      "\tROU,  3rd phase (31Jul2020 - 19Aug2020): finished  315 trials in 0 min 10 sec"
     ]
    },
    {
     "name": "stdout",
     "output_type": "stream",
     "text": [
      "\n"
     ]
    },
    {
     "name": "stdout",
     "output_type": "stream",
     "text": [
      "\tFIN,  3rd phase (05May2020 - 26May2020): finished  290 trials in 0 min 10 sec"
     ]
    },
    {
     "name": "stdout",
     "output_type": "stream",
     "text": [
      "\n"
     ]
    },
    {
     "name": "stdout",
     "output_type": "stream",
     "text": [
      "\tFIN,  4th phase (27May2020 - 18Aug2020): finished  254 trials in 0 min 10 sec"
     ]
    },
    {
     "name": "stdout",
     "output_type": "stream",
     "text": [
      "\n"
     ]
    },
    {
     "name": "stdout",
     "output_type": "stream",
     "text": [
      "\tCAN,  5th phase (23Jul2020 - 06Sep2020): finished  263 trials in 0 min 10 sec"
     ]
    },
    {
     "name": "stdout",
     "output_type": "stream",
     "text": [
      "\n"
     ]
    },
    {
     "name": "stdout",
     "output_type": "stream",
     "text": [
      "\tCAN,  6th phase (07Sep2020 - 28Sep2020): finished  295 trials in 0 min 10 sec"
     ]
    },
    {
     "name": "stdout",
     "output_type": "stream",
     "text": [
      "\n"
     ]
    },
    {
     "name": "stdout",
     "output_type": "stream",
     "text": [
      "\tBEL,  2nd phase (14Apr2020 - 06May2020): finished  264 trials in 0 min 10 sec"
     ]
    },
    {
     "name": "stdout",
     "output_type": "stream",
     "text": [
      "\n"
     ]
    },
    {
     "name": "stdout",
     "output_type": "stream",
     "text": [
      "\tDNK,  8th phase (13Oct2020 - 22Oct2020): finished  253 trials in 0 min 10 sec"
     ]
    },
    {
     "name": "stdout",
     "output_type": "stream",
     "text": [
      "\n"
     ]
    },
    {
     "name": "stdout",
     "output_type": "stream",
     "text": [
      "\tBEL,  5th phase (23Aug2020 - 14Sep2020): finished  275 trials in 0 min 10 sec"
     ]
    },
    {
     "name": "stdout",
     "output_type": "stream",
     "text": [
      "\n"
     ]
    },
    {
     "name": "stdout",
     "output_type": "stream",
     "text": [
      "\tNLD, 14th phase (29Nov2020 - 04Dec2020): finished  273 trials in 0 min 10 sec"
     ]
    },
    {
     "name": "stdout",
     "output_type": "stream",
     "text": [
      "\n"
     ]
    },
    {
     "name": "stderr",
     "output_type": "stream",
     "text": [
      "/home/runner/.local/share/virtualenvs/covid19-sir-kT3BL-HO/lib/python3.8/site-packages/scipy/interpolate/fitpack2.py:253: UserWarning: \n",
      "The maximal number of iterations maxit (set to 20 by the program)\n",
      "allowed for finding a smoothing spline with fp=s has been reached: s\n",
      "too small.\n",
      "There is an approximation returned but the corresponding weighted sum\n",
      "of squared residuals does not satisfy the condition abs(fp-s)/s < tol.\n",
      "  warnings.warn(message)\n"
     ]
    },
    {
     "name": "stdout",
     "output_type": "stream",
     "text": [
      "\tDNK, 10th phase (30Oct2020 - 04Nov2020): finished  333 trials in 0 min 10 sec"
     ]
    },
    {
     "name": "stdout",
     "output_type": "stream",
     "text": [
      "\n"
     ]
    },
    {
     "name": "stdout",
     "output_type": "stream",
     "text": [
      "\tGBR,  8th phase (12Oct2020 - 19Oct2020): finished  333 trials in 0 min 10 sec"
     ]
    },
    {
     "name": "stdout",
     "output_type": "stream",
     "text": [
      "\n"
     ]
    },
    {
     "name": "stdout",
     "output_type": "stream",
     "text": [
      "\tFRA, 11th phase (01Nov2020 - 10Nov2020): finished  342 trials in 0 min 10 sec"
     ]
    },
    {
     "name": "stdout",
     "output_type": "stream",
     "text": [
      "\n"
     ]
    },
    {
     "name": "stdout",
     "output_type": "stream",
     "text": [
      "\tCAN, 12th phase (20Nov2020 - 26Nov2020): finished  342 trials in 0 min 10 sec"
     ]
    },
    {
     "name": "stdout",
     "output_type": "stream",
     "text": [
      "\n"
     ]
    },
    {
     "name": "stderr",
     "output_type": "stream",
     "text": [
      "/home/runner/.local/share/virtualenvs/covid19-sir-kT3BL-HO/lib/python3.8/site-packages/scipy/interpolate/fitpack2.py:253: UserWarning: \n",
      "The maximal number of iterations maxit (set to 20 by the program)\n",
      "allowed for finding a smoothing spline with fp=s has been reached: s\n",
      "too small.\n",
      "There is an approximation returned but the corresponding weighted sum\n",
      "of squared residuals does not satisfy the condition abs(fp-s)/s < tol.\n",
      "  warnings.warn(message)\n"
     ]
    },
    {
     "name": "stdout",
     "output_type": "stream",
     "text": [
      "\tBEL, 12th phase (09Nov2020 - 15Nov2020): finished  339 trials in 0 min 10 sec"
     ]
    },
    {
     "name": "stdout",
     "output_type": "stream",
     "text": [
      "\n"
     ]
    },
    {
     "name": "stdout",
     "output_type": "stream",
     "text": [
      "\tNLD,  2nd phase (17Apr2020 - 22May2020): finished  319 trials in 0 min 10 sec"
     ]
    },
    {
     "name": "stdout",
     "output_type": "stream",
     "text": [
      "\n"
     ]
    },
    {
     "name": "stderr",
     "output_type": "stream",
     "text": [
      "/home/runner/.local/share/virtualenvs/covid19-sir-kT3BL-HO/lib/python3.8/site-packages/scipy/interpolate/fitpack2.py:253: UserWarning: \n",
      "The maximal number of iterations maxit (set to 20 by the program)\n",
      "allowed for finding a smoothing spline with fp=s has been reached: s\n",
      "too small.\n",
      "There is an approximation returned but the corresponding weighted sum\n",
      "of squared residuals does not satisfy the condition abs(fp-s)/s < tol.\n",
      "  warnings.warn(message)\n"
     ]
    },
    {
     "name": "stdout",
     "output_type": "stream",
     "text": [
      "\tFRA, 14th phase (25Nov2020 - 04Dec2020): finished  302 trials in 0 min 10 sec"
     ]
    },
    {
     "name": "stdout",
     "output_type": "stream",
     "text": [
      "\n"
     ]
    },
    {
     "name": "stdout",
     "output_type": "stream",
     "text": [
      "\tFRA, 15th phase (05Dec2020 - 15Dec2020): finished  296 trials in 0 min 10 sec"
     ]
    },
    {
     "name": "stdout",
     "output_type": "stream",
     "text": [
      "\n"
     ]
    },
    {
     "name": "stdout",
     "output_type": "stream",
     "text": [
      "\tGBR,  2nd phase (24Apr2020 - 11May2020): finished  305 trials in 0 min 10 sec"
     ]
    },
    {
     "name": "stdout",
     "output_type": "stream",
     "text": [
      "\n"
     ]
    },
    {
     "name": "stdout",
     "output_type": "stream",
     "text": [
      "\tDNK,  1st phase (13Apr2020 - 02May2020): finished  325 trials in 0 min 10 sec"
     ]
    },
    {
     "name": "stdout",
     "output_type": "stream",
     "text": [
      "\n"
     ]
    },
    {
     "name": "stdout",
     "output_type": "stream",
     "text": [
      "\tCAN, 10th phase (05Nov2020 - 12Nov2020): finished  344 trials in 0 min 10 sec"
     ]
    },
    {
     "name": "stdout",
     "output_type": "stream",
     "text": [
      "\n"
     ]
    },
    {
     "name": "stdout",
     "output_type": "stream",
     "text": [
      "\tBEL, 10th phase (22Oct2020 - 01Nov2020): finished  325 trials in 0 min 10 sec"
     ]
    },
    {
     "name": "stdout",
     "output_type": "stream",
     "text": [
      "\n"
     ]
    },
    {
     "name": "stdout",
     "output_type": "stream",
     "text": [
      "\tUKR,  3rd phase (12Aug2020 - 31Aug2020): finished  319 trials in 0 min 10 sec"
     ]
    },
    {
     "name": "stdout",
     "output_type": "stream",
     "text": [
      "\n"
     ]
    },
    {
     "name": "stdout",
     "output_type": "stream",
     "text": [
      "\tGBR,  7th phase (03Oct2020 - 11Oct2020): finished  339 trials in 0 min 10 sec"
     ]
    },
    {
     "name": "stdout",
     "output_type": "stream",
     "text": [
      "\n"
     ]
    },
    {
     "name": "stdout",
     "output_type": "stream",
     "text": [
      "\tGBR,  1st phase (07Apr2020 - 23Apr2020): finished  375 trials in 0 min 10 sec"
     ]
    },
    {
     "name": "stdout",
     "output_type": "stream",
     "text": [
      "\n"
     ]
    },
    {
     "name": "stdout",
     "output_type": "stream",
     "text": [
      "\tFIN,  1st phase (05Apr2020 - 19Apr2020): finished  376 trials in 0 min 10 sec"
     ]
    },
    {
     "name": "stdout",
     "output_type": "stream",
     "text": [
      "\n"
     ]
    },
    {
     "name": "stdout",
     "output_type": "stream",
     "text": [
      "\tROU,  4th phase (20Aug2020 - 09Sep2020): finished  373 trials in 0 min 10 sec"
     ]
    },
    {
     "name": "stdout",
     "output_type": "stream",
     "text": [
      "\n"
     ]
    },
    {
     "name": "stdout",
     "output_type": "stream",
     "text": [
      "\tROU, 10th phase (05Nov2020 - 11Nov2020): finished  380 trials in 0 min 10 sec"
     ]
    },
    {
     "name": "stdout",
     "output_type": "stream",
     "text": [
      "\n"
     ]
    },
    {
     "name": "stdout",
     "output_type": "stream",
     "text": [
      "\tBEL, 14th phase (25Nov2020 - 05Dec2020): finished  377 trials in 0 min 10 sec"
     ]
    },
    {
     "name": "stdout",
     "output_type": "stream",
     "text": [
      "\n"
     ]
    },
    {
     "name": "stdout",
     "output_type": "stream",
     "text": [
      "\tCAN,  4th phase (03Jun2020 - 22Jul2020): finished  362 trials in 0 min 10 sec"
     ]
    },
    {
     "name": "stdout",
     "output_type": "stream",
     "text": [
      "\n"
     ]
    },
    {
     "name": "stdout",
     "output_type": "stream",
     "text": [
      "\tGBR,  4th phase (12Jun2020 - 17Aug2020): finished  357 trials in 0 min 10 sec"
     ]
    },
    {
     "name": "stdout",
     "output_type": "stream",
     "text": [
      "\n"
     ]
    },
    {
     "name": "stdout",
     "output_type": "stream",
     "text": [
      "\tBEL,  7th phase (28Sep2020 - 05Oct2020): finished  381 trials in 0 min 10 sec"
     ]
    },
    {
     "name": "stdout",
     "output_type": "stream",
     "text": [
      "\n"
     ]
    },
    {
     "name": "stdout",
     "output_type": "stream",
     "text": [
      "Completed optimization. Total: 6 min 32 sec\n"
     ]
    }
   ],
   "source": [
    "# Parameter estimation with SIR-F model\n",
    "analyser.estimate(cs.SIRF, timeout=10)"
   ]
  },
  {
   "cell_type": "code",
   "execution_count": 12,
   "metadata": {
    "collapsed": false
   },
   "outputs": [
    {
     "data": {
      "text/html": [
       "<div>\n",
       "<style scoped>\n",
       "    .dataframe tbody tr th:only-of-type {\n",
       "        vertical-align: middle;\n",
       "    }\n",
       "\n",
       "    .dataframe tbody tr th {\n",
       "        vertical-align: top;\n",
       "    }\n",
       "\n",
       "    .dataframe thead th {\n",
       "        text-align: right;\n",
       "    }\n",
       "</style>\n",
       "<table border=\"1\" class=\"dataframe\">\n",
       "  <thead>\n",
       "    <tr style=\"text-align: right;\">\n",
       "      <th></th>\n",
       "      <th></th>\n",
       "      <th>Type</th>\n",
       "      <th>Start</th>\n",
       "      <th>End</th>\n",
       "      <th>Population</th>\n",
       "      <th>ODE</th>\n",
       "      <th>Rt</th>\n",
       "      <th>theta</th>\n",
       "      <th>kappa</th>\n",
       "      <th>rho</th>\n",
       "      <th>sigma</th>\n",
       "      <th>tau</th>\n",
       "      <th>1/alpha2 [day]</th>\n",
       "      <th>1/beta [day]</th>\n",
       "      <th>1/gamma [day]</th>\n",
       "      <th>alpha1 [-]</th>\n",
       "      <th>RMSLE</th>\n",
       "      <th>Trials</th>\n",
       "      <th>Runtime</th>\n",
       "    </tr>\n",
       "    <tr>\n",
       "      <th>Country</th>\n",
       "      <th>Phase</th>\n",
       "      <th></th>\n",
       "      <th></th>\n",
       "      <th></th>\n",
       "      <th></th>\n",
       "      <th></th>\n",
       "      <th></th>\n",
       "      <th></th>\n",
       "      <th></th>\n",
       "      <th></th>\n",
       "      <th></th>\n",
       "      <th></th>\n",
       "      <th></th>\n",
       "      <th></th>\n",
       "      <th></th>\n",
       "      <th></th>\n",
       "      <th></th>\n",
       "      <th></th>\n",
       "      <th></th>\n",
       "    </tr>\n",
       "  </thead>\n",
       "  <tbody>\n",
       "    <tr>\n",
       "      <th rowspan=\"17\" valign=\"top\">United Kingdom</th>\n",
       "      <th>0th</th>\n",
       "      <td>Past</td>\n",
       "      <td>18Feb2020</td>\n",
       "      <td>06Apr2020</td>\n",
       "      <td>66460344</td>\n",
       "      <td>SIR-F</td>\n",
       "      <td>11.84</td>\n",
       "      <td>0.0189128</td>\n",
       "      <td>0.000990645</td>\n",
       "      <td>0.0547295</td>\n",
       "      <td>0.0035429</td>\n",
       "      <td>360</td>\n",
       "      <td>252</td>\n",
       "      <td>4</td>\n",
       "      <td>70</td>\n",
       "      <td>0.019</td>\n",
       "      <td>0.75443</td>\n",
       "      <td>259</td>\n",
       "      <td>0 min 10 sec</td>\n",
       "    </tr>\n",
       "    <tr>\n",
       "      <th>1st</th>\n",
       "      <td>Past</td>\n",
       "      <td>07Apr2020</td>\n",
       "      <td>23Apr2020</td>\n",
       "      <td>66460344</td>\n",
       "      <td>SIR-F</td>\n",
       "      <td>1.28</td>\n",
       "      <td>0.168805</td>\n",
       "      <td>0.00110787</td>\n",
       "      <td>0.0283194</td>\n",
       "      <td>0.017304</td>\n",
       "      <td>360</td>\n",
       "      <td>225</td>\n",
       "      <td>8</td>\n",
       "      <td>14</td>\n",
       "      <td>0.169</td>\n",
       "      <td>0.0533782</td>\n",
       "      <td>375</td>\n",
       "      <td>0 min 10 sec</td>\n",
       "    </tr>\n",
       "    <tr>\n",
       "      <th>2nd</th>\n",
       "      <td>Past</td>\n",
       "      <td>24Apr2020</td>\n",
       "      <td>11May2020</td>\n",
       "      <td>66460344</td>\n",
       "      <td>SIR-F</td>\n",
       "      <td>1.07</td>\n",
       "      <td>0.135303</td>\n",
       "      <td>9.72794e-05</td>\n",
       "      <td>0.0242898</td>\n",
       "      <td>0.0195431</td>\n",
       "      <td>360</td>\n",
       "      <td>2569</td>\n",
       "      <td>10</td>\n",
       "      <td>12</td>\n",
       "      <td>0.135</td>\n",
       "      <td>0.0175467</td>\n",
       "      <td>305</td>\n",
       "      <td>0 min 10 sec</td>\n",
       "    </tr>\n",
       "    <tr>\n",
       "      <th>3rd</th>\n",
       "      <td>Past</td>\n",
       "      <td>12May2020</td>\n",
       "      <td>11Jun2020</td>\n",
       "      <td>66460344</td>\n",
       "      <td>SIR-F</td>\n",
       "      <td>0.66</td>\n",
       "      <td>0.0926692</td>\n",
       "      <td>0.000381516</td>\n",
       "      <td>0.0188883</td>\n",
       "      <td>0.025717</td>\n",
       "      <td>360</td>\n",
       "      <td>655</td>\n",
       "      <td>13</td>\n",
       "      <td>9</td>\n",
       "      <td>0.093</td>\n",
       "      <td>0.0199081</td>\n",
       "      <td>246</td>\n",
       "      <td>0 min 10 sec</td>\n",
       "    </tr>\n",
       "    <tr>\n",
       "      <th>4th</th>\n",
       "      <td>Past</td>\n",
       "      <td>12Jun2020</td>\n",
       "      <td>17Aug2020</td>\n",
       "      <td>66460344</td>\n",
       "      <td>SIR-F</td>\n",
       "      <td>0.9</td>\n",
       "      <td>0.0022779</td>\n",
       "      <td>0.000884006</td>\n",
       "      <td>0.0225673</td>\n",
       "      <td>0.0242017</td>\n",
       "      <td>360</td>\n",
       "      <td>282</td>\n",
       "      <td>11</td>\n",
       "      <td>10</td>\n",
       "      <td>0.002</td>\n",
       "      <td>0.144335</td>\n",
       "      <td>357</td>\n",
       "      <td>0 min 10 sec</td>\n",
       "    </tr>\n",
       "    <tr>\n",
       "      <th>5th</th>\n",
       "      <td>Past</td>\n",
       "      <td>18Aug2020</td>\n",
       "      <td>17Sep2020</td>\n",
       "      <td>66460344</td>\n",
       "      <td>SIR-F</td>\n",
       "      <td>1.48</td>\n",
       "      <td>0.0361273</td>\n",
       "      <td>0.00149635</td>\n",
       "      <td>0.0253273</td>\n",
       "      <td>0.0149908</td>\n",
       "      <td>360</td>\n",
       "      <td>167</td>\n",
       "      <td>9</td>\n",
       "      <td>16</td>\n",
       "      <td>0.036</td>\n",
       "      <td>0.0986445</td>\n",
       "      <td>283</td>\n",
       "      <td>0 min 10 sec</td>\n",
       "    </tr>\n",
       "    <tr>\n",
       "      <th>6th</th>\n",
       "      <td>Past</td>\n",
       "      <td>18Sep2020</td>\n",
       "      <td>02Oct2020</td>\n",
       "      <td>66460344</td>\n",
       "      <td>SIR-F</td>\n",
       "      <td>1.8</td>\n",
       "      <td>0.00238171</td>\n",
       "      <td>1.85651e-06</td>\n",
       "      <td>0.0264582</td>\n",
       "      <td>0.0146234</td>\n",
       "      <td>360</td>\n",
       "      <td>134661</td>\n",
       "      <td>9</td>\n",
       "      <td>17</td>\n",
       "      <td>0.002</td>\n",
       "      <td>0.0118807</td>\n",
       "      <td>275</td>\n",
       "      <td>0 min 10 sec</td>\n",
       "    </tr>\n",
       "    <tr>\n",
       "      <th>7th</th>\n",
       "      <td>Past</td>\n",
       "      <td>03Oct2020</td>\n",
       "      <td>11Oct2020</td>\n",
       "      <td>66460344</td>\n",
       "      <td>SIR-F</td>\n",
       "      <td>2.43</td>\n",
       "      <td>0.0012119</td>\n",
       "      <td>0.000530169</td>\n",
       "      <td>0.0308227</td>\n",
       "      <td>0.0121554</td>\n",
       "      <td>360</td>\n",
       "      <td>471</td>\n",
       "      <td>8</td>\n",
       "      <td>20</td>\n",
       "      <td>0.001</td>\n",
       "      <td>0.0665743</td>\n",
       "      <td>339</td>\n",
       "      <td>0 min 10 sec</td>\n",
       "    </tr>\n",
       "    <tr>\n",
       "      <th>8th</th>\n",
       "      <td>Past</td>\n",
       "      <td>12Oct2020</td>\n",
       "      <td>19Oct2020</td>\n",
       "      <td>66460344</td>\n",
       "      <td>SIR-F</td>\n",
       "      <td>1.45</td>\n",
       "      <td>0.00107241</td>\n",
       "      <td>0.000191072</td>\n",
       "      <td>0.0246769</td>\n",
       "      <td>0.0167727</td>\n",
       "      <td>360</td>\n",
       "      <td>1308</td>\n",
       "      <td>10</td>\n",
       "      <td>14</td>\n",
       "      <td>0.001</td>\n",
       "      <td>0.0242427</td>\n",
       "      <td>333</td>\n",
       "      <td>0 min 10 sec</td>\n",
       "    </tr>\n",
       "    <tr>\n",
       "      <th>9th</th>\n",
       "      <td>Past</td>\n",
       "      <td>20Oct2020</td>\n",
       "      <td>25Oct2020</td>\n",
       "      <td>66460344</td>\n",
       "      <td>SIR-F</td>\n",
       "      <td>1.57</td>\n",
       "      <td>0.00141836</td>\n",
       "      <td>5.43243e-05</td>\n",
       "      <td>0.0245026</td>\n",
       "      <td>0.0154902</td>\n",
       "      <td>360</td>\n",
       "      <td>4601</td>\n",
       "      <td>10</td>\n",
       "      <td>16</td>\n",
       "      <td>0.001</td>\n",
       "      <td>0.0121932</td>\n",
       "      <td>169</td>\n",
       "      <td>0 min 10 sec</td>\n",
       "    </tr>\n",
       "    <tr>\n",
       "      <th>10th</th>\n",
       "      <td>Past</td>\n",
       "      <td>26Oct2020</td>\n",
       "      <td>05Nov2020</td>\n",
       "      <td>66460344</td>\n",
       "      <td>SIR-F</td>\n",
       "      <td>1.21</td>\n",
       "      <td>0.016007</td>\n",
       "      <td>4.05087e-05</td>\n",
       "      <td>0.0235599</td>\n",
       "      <td>0.0191858</td>\n",
       "      <td>360</td>\n",
       "      <td>6171</td>\n",
       "      <td>10</td>\n",
       "      <td>13</td>\n",
       "      <td>0.016</td>\n",
       "      <td>0.0195712</td>\n",
       "      <td>273</td>\n",
       "      <td>0 min 10 sec</td>\n",
       "    </tr>\n",
       "    <tr>\n",
       "      <th>11th</th>\n",
       "      <td>Past</td>\n",
       "      <td>06Nov2020</td>\n",
       "      <td>11Nov2020</td>\n",
       "      <td>66460344</td>\n",
       "      <td>SIR-F</td>\n",
       "      <td>0.98</td>\n",
       "      <td>0.00148556</td>\n",
       "      <td>0.000191072</td>\n",
       "      <td>0.0218597</td>\n",
       "      <td>0.0221068</td>\n",
       "      <td>360</td>\n",
       "      <td>1308</td>\n",
       "      <td>11</td>\n",
       "      <td>11</td>\n",
       "      <td>0.001</td>\n",
       "      <td>0.00696735</td>\n",
       "      <td>282</td>\n",
       "      <td>0 min 10 sec</td>\n",
       "    </tr>\n",
       "    <tr>\n",
       "      <th>12th</th>\n",
       "      <td>Past</td>\n",
       "      <td>12Nov2020</td>\n",
       "      <td>17Nov2020</td>\n",
       "      <td>66460344</td>\n",
       "      <td>SIR-F</td>\n",
       "      <td>1.09</td>\n",
       "      <td>0.00227184</td>\n",
       "      <td>0.000381158</td>\n",
       "      <td>0.0206594</td>\n",
       "      <td>0.0186033</td>\n",
       "      <td>360</td>\n",
       "      <td>655</td>\n",
       "      <td>12</td>\n",
       "      <td>13</td>\n",
       "      <td>0.002</td>\n",
       "      <td>0.0152413</td>\n",
       "      <td>292</td>\n",
       "      <td>0 min 10 sec</td>\n",
       "    </tr>\n",
       "    <tr>\n",
       "      <th>13th</th>\n",
       "      <td>Past</td>\n",
       "      <td>18Nov2020</td>\n",
       "      <td>24Nov2020</td>\n",
       "      <td>66460344</td>\n",
       "      <td>SIR-F</td>\n",
       "      <td>0.83</td>\n",
       "      <td>0.000191261</td>\n",
       "      <td>0.000228665</td>\n",
       "      <td>0.0179749</td>\n",
       "      <td>0.0212999</td>\n",
       "      <td>360</td>\n",
       "      <td>1093</td>\n",
       "      <td>13</td>\n",
       "      <td>11</td>\n",
       "      <td>0</td>\n",
       "      <td>0.0180798</td>\n",
       "      <td>284</td>\n",
       "      <td>0 min 10 sec</td>\n",
       "    </tr>\n",
       "    <tr>\n",
       "      <th>14th</th>\n",
       "      <td>Past</td>\n",
       "      <td>25Nov2020</td>\n",
       "      <td>01Dec2020</td>\n",
       "      <td>66460344</td>\n",
       "      <td>SIR-F</td>\n",
       "      <td>0.65</td>\n",
       "      <td>0.00215352</td>\n",
       "      <td>0.000530831</td>\n",
       "      <td>0.0183823</td>\n",
       "      <td>0.0277883</td>\n",
       "      <td>360</td>\n",
       "      <td>470</td>\n",
       "      <td>13</td>\n",
       "      <td>8</td>\n",
       "      <td>0.002</td>\n",
       "      <td>0.00695897</td>\n",
       "      <td>324</td>\n",
       "      <td>0 min 10 sec</td>\n",
       "    </tr>\n",
       "    <tr>\n",
       "      <th>15th</th>\n",
       "      <td>Past</td>\n",
       "      <td>02Dec2020</td>\n",
       "      <td>08Dec2020</td>\n",
       "      <td>66460344</td>\n",
       "      <td>SIR-F</td>\n",
       "      <td>0.95</td>\n",
       "      <td>0.0239064</td>\n",
       "      <td>1.42241e-05</td>\n",
       "      <td>0.0231483</td>\n",
       "      <td>0.0237057</td>\n",
       "      <td>360</td>\n",
       "      <td>17575</td>\n",
       "      <td>10</td>\n",
       "      <td>10</td>\n",
       "      <td>0.024</td>\n",
       "      <td>0.0111195</td>\n",
       "      <td>311</td>\n",
       "      <td>0 min 10 sec</td>\n",
       "    </tr>\n",
       "    <tr>\n",
       "      <th>16th</th>\n",
       "      <td>Past</td>\n",
       "      <td>09Dec2020</td>\n",
       "      <td>15Dec2020</td>\n",
       "      <td>66460344</td>\n",
       "      <td>-</td>\n",
       "      <td>-</td>\n",
       "      <td>-</td>\n",
       "      <td>-</td>\n",
       "      <td>-</td>\n",
       "      <td>-</td>\n",
       "      <td>-</td>\n",
       "      <td>-</td>\n",
       "      <td>-</td>\n",
       "      <td>-</td>\n",
       "      <td>-</td>\n",
       "      <td>-</td>\n",
       "      <td>-</td>\n",
       "      <td>-</td>\n",
       "    </tr>\n",
       "  </tbody>\n",
       "</table>\n",
       "</div>"
      ],
      "text/plain": [
       "                      Type      Start        End  Population    ODE     Rt  \\\n",
       "Country        Phase                                                         \n",
       "United Kingdom 0th    Past  18Feb2020  06Apr2020    66460344  SIR-F  11.84   \n",
       "               1st    Past  07Apr2020  23Apr2020    66460344  SIR-F   1.28   \n",
       "               2nd    Past  24Apr2020  11May2020    66460344  SIR-F   1.07   \n",
       "               3rd    Past  12May2020  11Jun2020    66460344  SIR-F   0.66   \n",
       "               4th    Past  12Jun2020  17Aug2020    66460344  SIR-F    0.9   \n",
       "               5th    Past  18Aug2020  17Sep2020    66460344  SIR-F   1.48   \n",
       "               6th    Past  18Sep2020  02Oct2020    66460344  SIR-F    1.8   \n",
       "               7th    Past  03Oct2020  11Oct2020    66460344  SIR-F   2.43   \n",
       "               8th    Past  12Oct2020  19Oct2020    66460344  SIR-F   1.45   \n",
       "               9th    Past  20Oct2020  25Oct2020    66460344  SIR-F   1.57   \n",
       "               10th   Past  26Oct2020  05Nov2020    66460344  SIR-F   1.21   \n",
       "               11th   Past  06Nov2020  11Nov2020    66460344  SIR-F   0.98   \n",
       "               12th   Past  12Nov2020  17Nov2020    66460344  SIR-F   1.09   \n",
       "               13th   Past  18Nov2020  24Nov2020    66460344  SIR-F   0.83   \n",
       "               14th   Past  25Nov2020  01Dec2020    66460344  SIR-F   0.65   \n",
       "               15th   Past  02Dec2020  08Dec2020    66460344  SIR-F   0.95   \n",
       "               16th   Past  09Dec2020  15Dec2020    66460344      -      -   \n",
       "\n",
       "                            theta        kappa        rho      sigma  tau  \\\n",
       "Country        Phase                                                        \n",
       "United Kingdom 0th      0.0189128  0.000990645  0.0547295  0.0035429  360   \n",
       "               1st       0.168805   0.00110787  0.0283194   0.017304  360   \n",
       "               2nd       0.135303  9.72794e-05  0.0242898  0.0195431  360   \n",
       "               3rd      0.0926692  0.000381516  0.0188883   0.025717  360   \n",
       "               4th      0.0022779  0.000884006  0.0225673  0.0242017  360   \n",
       "               5th      0.0361273   0.00149635  0.0253273  0.0149908  360   \n",
       "               6th     0.00238171  1.85651e-06  0.0264582  0.0146234  360   \n",
       "               7th      0.0012119  0.000530169  0.0308227  0.0121554  360   \n",
       "               8th     0.00107241  0.000191072  0.0246769  0.0167727  360   \n",
       "               9th     0.00141836  5.43243e-05  0.0245026  0.0154902  360   \n",
       "               10th      0.016007  4.05087e-05  0.0235599  0.0191858  360   \n",
       "               11th    0.00148556  0.000191072  0.0218597  0.0221068  360   \n",
       "               12th    0.00227184  0.000381158  0.0206594  0.0186033  360   \n",
       "               13th   0.000191261  0.000228665  0.0179749  0.0212999  360   \n",
       "               14th    0.00215352  0.000530831  0.0183823  0.0277883  360   \n",
       "               15th     0.0239064  1.42241e-05  0.0231483  0.0237057  360   \n",
       "               16th             -            -          -          -    -   \n",
       "\n",
       "                     1/alpha2 [day] 1/beta [day] 1/gamma [day] alpha1 [-]  \\\n",
       "Country        Phase                                                        \n",
       "United Kingdom 0th              252            4            70      0.019   \n",
       "               1st              225            8            14      0.169   \n",
       "               2nd             2569           10            12      0.135   \n",
       "               3rd              655           13             9      0.093   \n",
       "               4th              282           11            10      0.002   \n",
       "               5th              167            9            16      0.036   \n",
       "               6th           134661            9            17      0.002   \n",
       "               7th              471            8            20      0.001   \n",
       "               8th             1308           10            14      0.001   \n",
       "               9th             4601           10            16      0.001   \n",
       "               10th            6171           10            13      0.016   \n",
       "               11th            1308           11            11      0.001   \n",
       "               12th             655           12            13      0.002   \n",
       "               13th            1093           13            11          0   \n",
       "               14th             470           13             8      0.002   \n",
       "               15th           17575           10            10      0.024   \n",
       "               16th               -            -             -          -   \n",
       "\n",
       "                           RMSLE Trials       Runtime  \n",
       "Country        Phase                                   \n",
       "United Kingdom 0th       0.75443    259  0 min 10 sec  \n",
       "               1st     0.0533782    375  0 min 10 sec  \n",
       "               2nd     0.0175467    305  0 min 10 sec  \n",
       "               3rd     0.0199081    246  0 min 10 sec  \n",
       "               4th      0.144335    357  0 min 10 sec  \n",
       "               5th     0.0986445    283  0 min 10 sec  \n",
       "               6th     0.0118807    275  0 min 10 sec  \n",
       "               7th     0.0665743    339  0 min 10 sec  \n",
       "               8th     0.0242427    333  0 min 10 sec  \n",
       "               9th     0.0121932    169  0 min 10 sec  \n",
       "               10th    0.0195712    273  0 min 10 sec  \n",
       "               11th   0.00696735    282  0 min 10 sec  \n",
       "               12th    0.0152413    292  0 min 10 sec  \n",
       "               13th    0.0180798    284  0 min 10 sec  \n",
       "               14th   0.00695897    324  0 min 10 sec  \n",
       "               15th    0.0111195    311  0 min 10 sec  \n",
       "               16th            -      -             -  "
      ]
     },
     "execution_count": 12,
     "metadata": {},
     "output_type": "execute_result"
    }
   ],
   "source": [
    "# Show summary\n",
    "analyser.summary(countries=countries_show)"
   ]
  },
  {
   "cell_type": "markdown",
   "metadata": {},
   "source": [
    "## Compare the history of parameters\n",
    "Here, compare the history of parameter values if countries."
   ]
  },
  {
   "cell_type": "code",
   "execution_count": 13,
   "metadata": {
    "collapsed": false
   },
   "outputs": [
    {
     "data": {
      "text/html": [
       "<div>\n",
       "<style scoped>\n",
       "    .dataframe tbody tr th:only-of-type {\n",
       "        vertical-align: middle;\n",
       "    }\n",
       "\n",
       "    .dataframe tbody tr th {\n",
       "        vertical-align: top;\n",
       "    }\n",
       "\n",
       "    .dataframe thead th {\n",
       "        text-align: right;\n",
       "    }\n",
       "</style>\n",
       "<table border=\"1\" class=\"dataframe\">\n",
       "  <thead>\n",
       "    <tr style=\"text-align: right;\">\n",
       "      <th></th>\n",
       "      <th>Date</th>\n",
       "      <th>Country</th>\n",
       "      <th>theta</th>\n",
       "      <th>kappa</th>\n",
       "      <th>rho</th>\n",
       "      <th>sigma</th>\n",
       "      <th>alpha1 [-]</th>\n",
       "      <th>1/alpha2 [day]</th>\n",
       "      <th>1/beta [day]</th>\n",
       "      <th>1/gamma [day]</th>\n",
       "      <th>...</th>\n",
       "      <th>Cancel_events</th>\n",
       "      <th>Gatherings_restrictions</th>\n",
       "      <th>Transport_closing</th>\n",
       "      <th>Stay_home_restrictions</th>\n",
       "      <th>Internal_movement_restrictions</th>\n",
       "      <th>International_movement_restrictions</th>\n",
       "      <th>Information_campaigns</th>\n",
       "      <th>Testing_policy</th>\n",
       "      <th>Contact_tracing</th>\n",
       "      <th>Stringency_index</th>\n",
       "    </tr>\n",
       "  </thead>\n",
       "  <tbody>\n",
       "    <tr>\n",
       "      <th>0</th>\n",
       "      <td>2020-03-13</td>\n",
       "      <td>Belgium</td>\n",
       "      <td>0.0493257</td>\n",
       "      <td>0.000867256</td>\n",
       "      <td>0.0370804</td>\n",
       "      <td>0.00677782</td>\n",
       "      <td>0.049</td>\n",
       "      <td>288</td>\n",
       "      <td>6</td>\n",
       "      <td>36</td>\n",
       "      <td>...</td>\n",
       "      <td>1</td>\n",
       "      <td>0</td>\n",
       "      <td>0</td>\n",
       "      <td>0</td>\n",
       "      <td>0</td>\n",
       "      <td>1</td>\n",
       "      <td>2</td>\n",
       "      <td>1</td>\n",
       "      <td>1</td>\n",
       "      <td>23.15</td>\n",
       "    </tr>\n",
       "    <tr>\n",
       "      <th>1</th>\n",
       "      <td>2020-03-13</td>\n",
       "      <td>Belgium</td>\n",
       "      <td>0.0493257</td>\n",
       "      <td>0.000867256</td>\n",
       "      <td>0.0370804</td>\n",
       "      <td>0.00677782</td>\n",
       "      <td>0.049</td>\n",
       "      <td>288</td>\n",
       "      <td>6</td>\n",
       "      <td>36</td>\n",
       "      <td>...</td>\n",
       "      <td>1</td>\n",
       "      <td>0</td>\n",
       "      <td>0</td>\n",
       "      <td>0</td>\n",
       "      <td>0</td>\n",
       "      <td>1</td>\n",
       "      <td>2</td>\n",
       "      <td>1</td>\n",
       "      <td>1</td>\n",
       "      <td>23.15</td>\n",
       "    </tr>\n",
       "    <tr>\n",
       "      <th>2</th>\n",
       "      <td>2020-03-13</td>\n",
       "      <td>Belgium</td>\n",
       "      <td>0.0493257</td>\n",
       "      <td>0.000867256</td>\n",
       "      <td>0.0370804</td>\n",
       "      <td>0.00677782</td>\n",
       "      <td>0.049</td>\n",
       "      <td>288</td>\n",
       "      <td>6</td>\n",
       "      <td>36</td>\n",
       "      <td>...</td>\n",
       "      <td>1</td>\n",
       "      <td>0</td>\n",
       "      <td>0</td>\n",
       "      <td>0</td>\n",
       "      <td>0</td>\n",
       "      <td>1</td>\n",
       "      <td>2</td>\n",
       "      <td>1</td>\n",
       "      <td>1</td>\n",
       "      <td>23.15</td>\n",
       "    </tr>\n",
       "    <tr>\n",
       "      <th>3</th>\n",
       "      <td>2020-03-13</td>\n",
       "      <td>Belgium</td>\n",
       "      <td>0.0493257</td>\n",
       "      <td>0.000867256</td>\n",
       "      <td>0.0370804</td>\n",
       "      <td>0.00677782</td>\n",
       "      <td>0.049</td>\n",
       "      <td>288</td>\n",
       "      <td>6</td>\n",
       "      <td>36</td>\n",
       "      <td>...</td>\n",
       "      <td>1</td>\n",
       "      <td>0</td>\n",
       "      <td>0</td>\n",
       "      <td>0</td>\n",
       "      <td>0</td>\n",
       "      <td>1</td>\n",
       "      <td>2</td>\n",
       "      <td>1</td>\n",
       "      <td>1</td>\n",
       "      <td>23.15</td>\n",
       "    </tr>\n",
       "    <tr>\n",
       "      <th>4</th>\n",
       "      <td>2020-03-14</td>\n",
       "      <td>Belgium</td>\n",
       "      <td>0.0493257</td>\n",
       "      <td>0.000867256</td>\n",
       "      <td>0.0370804</td>\n",
       "      <td>0.00677782</td>\n",
       "      <td>0.049</td>\n",
       "      <td>288</td>\n",
       "      <td>6</td>\n",
       "      <td>36</td>\n",
       "      <td>...</td>\n",
       "      <td>2</td>\n",
       "      <td>0</td>\n",
       "      <td>0</td>\n",
       "      <td>0</td>\n",
       "      <td>2</td>\n",
       "      <td>1</td>\n",
       "      <td>2</td>\n",
       "      <td>1</td>\n",
       "      <td>1</td>\n",
       "      <td>50.93</td>\n",
       "    </tr>\n",
       "  </tbody>\n",
       "</table>\n",
       "<p>5 rows × 23 columns</p>\n",
       "</div>"
      ],
      "text/plain": [
       "        Date  Country      theta        kappa        rho       sigma  \\\n",
       "0 2020-03-13  Belgium  0.0493257  0.000867256  0.0370804  0.00677782   \n",
       "1 2020-03-13  Belgium  0.0493257  0.000867256  0.0370804  0.00677782   \n",
       "2 2020-03-13  Belgium  0.0493257  0.000867256  0.0370804  0.00677782   \n",
       "3 2020-03-13  Belgium  0.0493257  0.000867256  0.0370804  0.00677782   \n",
       "4 2020-03-14  Belgium  0.0493257  0.000867256  0.0370804  0.00677782   \n",
       "\n",
       "  alpha1 [-] 1/alpha2 [day] 1/beta [day] 1/gamma [day]  ... Cancel_events  \\\n",
       "0      0.049            288            6            36  ...             1   \n",
       "1      0.049            288            6            36  ...             1   \n",
       "2      0.049            288            6            36  ...             1   \n",
       "3      0.049            288            6            36  ...             1   \n",
       "4      0.049            288            6            36  ...             2   \n",
       "\n",
       "   Gatherings_restrictions  Transport_closing  Stay_home_restrictions  \\\n",
       "0                        0                  0                       0   \n",
       "1                        0                  0                       0   \n",
       "2                        0                  0                       0   \n",
       "3                        0                  0                       0   \n",
       "4                        0                  0                       0   \n",
       "\n",
       "   Internal_movement_restrictions  International_movement_restrictions  \\\n",
       "0                               0                                    1   \n",
       "1                               0                                    1   \n",
       "2                               0                                    1   \n",
       "3                               0                                    1   \n",
       "4                               2                                    1   \n",
       "\n",
       "   Information_campaigns  Testing_policy  Contact_tracing  Stringency_index  \n",
       "0                      2               1                1             23.15  \n",
       "1                      2               1                1             23.15  \n",
       "2                      2               1                1             23.15  \n",
       "3                      2               1                1             23.15  \n",
       "4                      2               1                1             50.93  \n",
       "\n",
       "[5 rows x 23 columns]"
      ]
     },
     "execution_count": 13,
     "metadata": {},
     "output_type": "execute_result"
    }
   ],
   "source": [
    "# All parameter/day parameter/Rt/OxCGRT\n",
    "analyser.track().head()"
   ]
  },
  {
   "cell_type": "markdown",
   "metadata": {},
   "source": [
    "### $Rt$: Reprodcution number $\\mathrm{[-]}$"
   ]
  },
  {
   "cell_type": "code",
   "execution_count": 14,
   "metadata": {
    "collapsed": false
   },
   "outputs": [
    {
     "data": {
      "image/png": "[encoded data removed]",
      "text/plain": [
       "<Figure size 648x432 with 1 Axes>"
      ]
     },
     "metadata": {},
     "output_type": "display_data"
    },
    {
     "data": {
      "text/html": [
       "<div>\n",
       "<style scoped>\n",
       "    .dataframe tbody tr th:only-of-type {\n",
       "        vertical-align: middle;\n",
       "    }\n",
       "\n",
       "    .dataframe tbody tr th {\n",
       "        vertical-align: top;\n",
       "    }\n",
       "\n",
       "    .dataframe thead th {\n",
       "        text-align: right;\n",
       "    }\n",
       "</style>\n",
       "<table border=\"1\" class=\"dataframe\">\n",
       "  <thead>\n",
       "    <tr style=\"text-align: right;\">\n",
       "      <th>Country</th>\n",
       "      <th>Belgium</th>\n",
       "      <th>Canada</th>\n",
       "      <th>Denmark</th>\n",
       "      <th>Finland</th>\n",
       "      <th>France</th>\n",
       "      <th>Netherlands</th>\n",
       "      <th>Romania</th>\n",
       "      <th>Ukraine</th>\n",
       "      <th>United Kingdom</th>\n",
       "    </tr>\n",
       "    <tr>\n",
       "      <th>Date</th>\n",
       "      <th></th>\n",
       "      <th></th>\n",
       "      <th></th>\n",
       "      <th></th>\n",
       "      <th></th>\n",
       "      <th></th>\n",
       "      <th></th>\n",
       "      <th></th>\n",
       "      <th></th>\n",
       "    </tr>\n",
       "  </thead>\n",
       "  <tbody>\n",
       "    <tr>\n",
       "      <th>2020-12-11</th>\n",
       "      <td>1.06</td>\n",
       "      <td>1.12</td>\n",
       "      <td>1.77</td>\n",
       "      <td>2.37</td>\n",
       "      <td>1.02</td>\n",
       "      <td>0.85</td>\n",
       "      <td>0.77</td>\n",
       "      <td>1.67</td>\n",
       "      <td>0.95</td>\n",
       "    </tr>\n",
       "    <tr>\n",
       "      <th>2020-12-12</th>\n",
       "      <td>1.06</td>\n",
       "      <td>1.12</td>\n",
       "      <td>1.77</td>\n",
       "      <td>2.37</td>\n",
       "      <td>1.02</td>\n",
       "      <td>0.85</td>\n",
       "      <td>0.77</td>\n",
       "      <td>1.67</td>\n",
       "      <td>0.95</td>\n",
       "    </tr>\n",
       "    <tr>\n",
       "      <th>2020-12-13</th>\n",
       "      <td>1.06</td>\n",
       "      <td>1.12</td>\n",
       "      <td>1.77</td>\n",
       "      <td>2.37</td>\n",
       "      <td>1.02</td>\n",
       "      <td>0.85</td>\n",
       "      <td>0.77</td>\n",
       "      <td>1.67</td>\n",
       "      <td>0.95</td>\n",
       "    </tr>\n",
       "    <tr>\n",
       "      <th>2020-12-14</th>\n",
       "      <td>1.06</td>\n",
       "      <td>1.12</td>\n",
       "      <td>1.77</td>\n",
       "      <td>2.37</td>\n",
       "      <td>1.02</td>\n",
       "      <td>0.85</td>\n",
       "      <td>0.77</td>\n",
       "      <td>1.67</td>\n",
       "      <td>0.95</td>\n",
       "    </tr>\n",
       "    <tr>\n",
       "      <th>2020-12-15</th>\n",
       "      <td>1.06</td>\n",
       "      <td>1.12</td>\n",
       "      <td>1.77</td>\n",
       "      <td>2.37</td>\n",
       "      <td>1.02</td>\n",
       "      <td>0.85</td>\n",
       "      <td>0.77</td>\n",
       "      <td>1.67</td>\n",
       "      <td>0.95</td>\n",
       "    </tr>\n",
       "  </tbody>\n",
       "</table>\n",
       "</div>"
      ],
      "text/plain": [
       "Country     Belgium  Canada  Denmark  Finland  France  Netherlands  Romania  \\\n",
       "Date                                                                          \n",
       "2020-12-11     1.06    1.12     1.77     2.37    1.02         0.85     0.77   \n",
       "2020-12-12     1.06    1.12     1.77     2.37    1.02         0.85     0.77   \n",
       "2020-12-13     1.06    1.12     1.77     2.37    1.02         0.85     0.77   \n",
       "2020-12-14     1.06    1.12     1.77     2.37    1.02         0.85     0.77   \n",
       "2020-12-15     1.06    1.12     1.77     2.37    1.02         0.85     0.77   \n",
       "\n",
       "Country     Ukraine  United Kingdom  \n",
       "Date                                 \n",
       "2020-12-11     1.67            0.95  \n",
       "2020-12-12     1.67            0.95  \n",
       "2020-12-13     1.67            0.95  \n",
       "2020-12-14     1.67            0.95  \n",
       "2020-12-15     1.67            0.95  "
      ]
     },
     "execution_count": 14,
     "metadata": {},
     "output_type": "execute_result"
    }
   ],
   "source": [
    "analyser.history(\"Rt\", roll_window=None).tail()"
   ]
  },
  {
   "cell_type": "markdown",
   "metadata": {},
   "source": [
    "### $\\rho$: Effective contact rate $\\mathrm{[-]}$"
   ]
  },
  {
   "cell_type": "code",
   "execution_count": 15,
   "metadata": {
    "collapsed": false
   },
   "outputs": [
    {
     "data": {
      "image/png": "[encoded data removed]",
      "text/plain": [
       "<Figure size 648x432 with 1 Axes>"
      ]
     },
     "metadata": {},
     "output_type": "display_data"
    },
    {
     "data": {
      "text/html": [
       "<div>\n",
       "<style scoped>\n",
       "    .dataframe tbody tr th:only-of-type {\n",
       "        vertical-align: middle;\n",
       "    }\n",
       "\n",
       "    .dataframe tbody tr th {\n",
       "        vertical-align: top;\n",
       "    }\n",
       "\n",
       "    .dataframe thead th {\n",
       "        text-align: right;\n",
       "    }\n",
       "</style>\n",
       "<table border=\"1\" class=\"dataframe\">\n",
       "  <thead>\n",
       "    <tr style=\"text-align: right;\">\n",
       "      <th>Country</th>\n",
       "      <th>Belgium</th>\n",
       "      <th>Canada</th>\n",
       "      <th>Denmark</th>\n",
       "      <th>Finland</th>\n",
       "      <th>France</th>\n",
       "      <th>Netherlands</th>\n",
       "      <th>Romania</th>\n",
       "      <th>Ukraine</th>\n",
       "      <th>United Kingdom</th>\n",
       "    </tr>\n",
       "    <tr>\n",
       "      <th>Date</th>\n",
       "      <th></th>\n",
       "      <th></th>\n",
       "      <th></th>\n",
       "      <th></th>\n",
       "      <th></th>\n",
       "      <th></th>\n",
       "      <th></th>\n",
       "      <th></th>\n",
       "      <th></th>\n",
       "    </tr>\n",
       "  </thead>\n",
       "  <tbody>\n",
       "    <tr>\n",
       "      <th>2020-12-11</th>\n",
       "      <td>0.028294</td>\n",
       "      <td>0.023084</td>\n",
       "      <td>0.028699</td>\n",
       "      <td>0.016484</td>\n",
       "      <td>0.024175</td>\n",
       "      <td>0.020313</td>\n",
       "      <td>0.018115</td>\n",
       "      <td>0.010411</td>\n",
       "      <td>0.023148</td>\n",
       "    </tr>\n",
       "    <tr>\n",
       "      <th>2020-12-12</th>\n",
       "      <td>0.028294</td>\n",
       "      <td>0.023084</td>\n",
       "      <td>0.028699</td>\n",
       "      <td>0.016484</td>\n",
       "      <td>0.024175</td>\n",
       "      <td>0.020313</td>\n",
       "      <td>0.018115</td>\n",
       "      <td>0.010411</td>\n",
       "      <td>0.023148</td>\n",
       "    </tr>\n",
       "    <tr>\n",
       "      <th>2020-12-13</th>\n",
       "      <td>0.028294</td>\n",
       "      <td>0.023084</td>\n",
       "      <td>0.028699</td>\n",
       "      <td>0.016484</td>\n",
       "      <td>0.024175</td>\n",
       "      <td>0.020313</td>\n",
       "      <td>0.018115</td>\n",
       "      <td>0.010411</td>\n",
       "      <td>0.023148</td>\n",
       "    </tr>\n",
       "    <tr>\n",
       "      <th>2020-12-14</th>\n",
       "      <td>0.028294</td>\n",
       "      <td>0.023084</td>\n",
       "      <td>0.028699</td>\n",
       "      <td>0.016484</td>\n",
       "      <td>0.024175</td>\n",
       "      <td>0.020313</td>\n",
       "      <td>0.018115</td>\n",
       "      <td>0.010411</td>\n",
       "      <td>0.023148</td>\n",
       "    </tr>\n",
       "    <tr>\n",
       "      <th>2020-12-15</th>\n",
       "      <td>0.028294</td>\n",
       "      <td>0.023084</td>\n",
       "      <td>0.028699</td>\n",
       "      <td>0.016484</td>\n",
       "      <td>0.024175</td>\n",
       "      <td>0.020313</td>\n",
       "      <td>0.018115</td>\n",
       "      <td>0.010411</td>\n",
       "      <td>0.023148</td>\n",
       "    </tr>\n",
       "  </tbody>\n",
       "</table>\n",
       "</div>"
      ],
      "text/plain": [
       "Country      Belgium    Canada   Denmark   Finland    France  Netherlands  \\\n",
       "Date                                                                        \n",
       "2020-12-11  0.028294  0.023084  0.028699  0.016484  0.024175     0.020313   \n",
       "2020-12-12  0.028294  0.023084  0.028699  0.016484  0.024175     0.020313   \n",
       "2020-12-13  0.028294  0.023084  0.028699  0.016484  0.024175     0.020313   \n",
       "2020-12-14  0.028294  0.023084  0.028699  0.016484  0.024175     0.020313   \n",
       "2020-12-15  0.028294  0.023084  0.028699  0.016484  0.024175     0.020313   \n",
       "\n",
       "Country      Romania   Ukraine  United Kingdom  \n",
       "Date                                            \n",
       "2020-12-11  0.018115  0.010411        0.023148  \n",
       "2020-12-12  0.018115  0.010411        0.023148  \n",
       "2020-12-13  0.018115  0.010411        0.023148  \n",
       "2020-12-14  0.018115  0.010411        0.023148  \n",
       "2020-12-15  0.018115  0.010411        0.023148  "
      ]
     },
     "execution_count": 15,
     "metadata": {},
     "output_type": "execute_result"
    }
   ],
   "source": [
    "analyser.history(\"rho\", roll_window=None).tail()"
   ]
  },
  {
   "cell_type": "markdown",
   "metadata": {},
   "source": [
    "### $\\sigma$: Recovery rate $\\mathrm{[-]}$"
   ]
  },
  {
   "cell_type": "code",
   "execution_count": 16,
   "metadata": {
    "collapsed": false
   },
   "outputs": [
    {
     "data": {
      "image/png": "[encoded data removed]",
      "text/plain": [
       "<Figure size 648x432 with 1 Axes>"
      ]
     },
     "metadata": {},
     "output_type": "display_data"
    },
    {
     "data": {
      "text/html": [
       "<div>\n",
       "<style scoped>\n",
       "    .dataframe tbody tr th:only-of-type {\n",
       "        vertical-align: middle;\n",
       "    }\n",
       "\n",
       "    .dataframe tbody tr th {\n",
       "        vertical-align: top;\n",
       "    }\n",
       "\n",
       "    .dataframe thead th {\n",
       "        text-align: right;\n",
       "    }\n",
       "</style>\n",
       "<table border=\"1\" class=\"dataframe\">\n",
       "  <thead>\n",
       "    <tr style=\"text-align: right;\">\n",
       "      <th>Country</th>\n",
       "      <th>Belgium</th>\n",
       "      <th>Canada</th>\n",
       "      <th>Denmark</th>\n",
       "      <th>Finland</th>\n",
       "      <th>France</th>\n",
       "      <th>Netherlands</th>\n",
       "      <th>Romania</th>\n",
       "      <th>Ukraine</th>\n",
       "      <th>United Kingdom</th>\n",
       "    </tr>\n",
       "    <tr>\n",
       "      <th>Date</th>\n",
       "      <th></th>\n",
       "      <th></th>\n",
       "      <th></th>\n",
       "      <th></th>\n",
       "      <th></th>\n",
       "      <th></th>\n",
       "      <th></th>\n",
       "      <th></th>\n",
       "      <th></th>\n",
       "    </tr>\n",
       "  </thead>\n",
       "  <tbody>\n",
       "    <tr>\n",
       "      <th>2020-12-11</th>\n",
       "      <td>0.026148</td>\n",
       "      <td>0.02012</td>\n",
       "      <td>0.016121</td>\n",
       "      <td>0.006878</td>\n",
       "      <td>0.022878</td>\n",
       "      <td>0.023583</td>\n",
       "      <td>0.022989</td>\n",
       "      <td>0.006062</td>\n",
       "      <td>0.023706</td>\n",
       "    </tr>\n",
       "    <tr>\n",
       "      <th>2020-12-12</th>\n",
       "      <td>0.026148</td>\n",
       "      <td>0.02012</td>\n",
       "      <td>0.016121</td>\n",
       "      <td>0.006878</td>\n",
       "      <td>0.022878</td>\n",
       "      <td>0.023583</td>\n",
       "      <td>0.022989</td>\n",
       "      <td>0.006062</td>\n",
       "      <td>0.023706</td>\n",
       "    </tr>\n",
       "    <tr>\n",
       "      <th>2020-12-13</th>\n",
       "      <td>0.026148</td>\n",
       "      <td>0.02012</td>\n",
       "      <td>0.016121</td>\n",
       "      <td>0.006878</td>\n",
       "      <td>0.022878</td>\n",
       "      <td>0.023583</td>\n",
       "      <td>0.022989</td>\n",
       "      <td>0.006062</td>\n",
       "      <td>0.023706</td>\n",
       "    </tr>\n",
       "    <tr>\n",
       "      <th>2020-12-14</th>\n",
       "      <td>0.026148</td>\n",
       "      <td>0.02012</td>\n",
       "      <td>0.016121</td>\n",
       "      <td>0.006878</td>\n",
       "      <td>0.022878</td>\n",
       "      <td>0.023583</td>\n",
       "      <td>0.022989</td>\n",
       "      <td>0.006062</td>\n",
       "      <td>0.023706</td>\n",
       "    </tr>\n",
       "    <tr>\n",
       "      <th>2020-12-15</th>\n",
       "      <td>0.026148</td>\n",
       "      <td>0.02012</td>\n",
       "      <td>0.016121</td>\n",
       "      <td>0.006878</td>\n",
       "      <td>0.022878</td>\n",
       "      <td>0.023583</td>\n",
       "      <td>0.022989</td>\n",
       "      <td>0.006062</td>\n",
       "      <td>0.023706</td>\n",
       "    </tr>\n",
       "  </tbody>\n",
       "</table>\n",
       "</div>"
      ],
      "text/plain": [
       "Country      Belgium   Canada   Denmark   Finland    France  Netherlands  \\\n",
       "Date                                                                       \n",
       "2020-12-11  0.026148  0.02012  0.016121  0.006878  0.022878     0.023583   \n",
       "2020-12-12  0.026148  0.02012  0.016121  0.006878  0.022878     0.023583   \n",
       "2020-12-13  0.026148  0.02012  0.016121  0.006878  0.022878     0.023583   \n",
       "2020-12-14  0.026148  0.02012  0.016121  0.006878  0.022878     0.023583   \n",
       "2020-12-15  0.026148  0.02012  0.016121  0.006878  0.022878     0.023583   \n",
       "\n",
       "Country      Romania   Ukraine  United Kingdom  \n",
       "Date                                            \n",
       "2020-12-11  0.022989  0.006062        0.023706  \n",
       "2020-12-12  0.022989  0.006062        0.023706  \n",
       "2020-12-13  0.022989  0.006062        0.023706  \n",
       "2020-12-14  0.022989  0.006062        0.023706  \n",
       "2020-12-15  0.022989  0.006062        0.023706  "
      ]
     },
     "execution_count": 16,
     "metadata": {},
     "output_type": "execute_result"
    }
   ],
   "source": [
    "analyser.history(\"sigma\", roll_window=None).tail()"
   ]
  },
  {
   "cell_type": "markdown",
   "metadata": {},
   "source": [
    "### $\\kappa$: Mortality rate of infected cases $\\mathrm{[-]}$"
   ]
  },
  {
   "cell_type": "code",
   "execution_count": 17,
   "metadata": {
    "collapsed": false
   },
   "outputs": [
    {
     "data": {
      "image/png": "[encoded data removed]",
      "text/plain": [
       "<Figure size 648x432 with 1 Axes>"
      ]
     },
     "metadata": {},
     "output_type": "display_data"
    },
    {
     "data": {
      "text/html": [
       "<div>\n",
       "<style scoped>\n",
       "    .dataframe tbody tr th:only-of-type {\n",
       "        vertical-align: middle;\n",
       "    }\n",
       "\n",
       "    .dataframe tbody tr th {\n",
       "        vertical-align: top;\n",
       "    }\n",
       "\n",
       "    .dataframe thead th {\n",
       "        text-align: right;\n",
       "    }\n",
       "</style>\n",
       "<table border=\"1\" class=\"dataframe\">\n",
       "  <thead>\n",
       "    <tr style=\"text-align: right;\">\n",
       "      <th>Country</th>\n",
       "      <th>Belgium</th>\n",
       "      <th>Canada</th>\n",
       "      <th>Denmark</th>\n",
       "      <th>Finland</th>\n",
       "      <th>France</th>\n",
       "      <th>Netherlands</th>\n",
       "      <th>Romania</th>\n",
       "      <th>Ukraine</th>\n",
       "      <th>United Kingdom</th>\n",
       "    </tr>\n",
       "    <tr>\n",
       "      <th>Date</th>\n",
       "      <th></th>\n",
       "      <th></th>\n",
       "      <th></th>\n",
       "      <th></th>\n",
       "      <th></th>\n",
       "      <th></th>\n",
       "      <th></th>\n",
       "      <th></th>\n",
       "      <th></th>\n",
       "    </tr>\n",
       "  </thead>\n",
       "  <tbody>\n",
       "    <tr>\n",
       "      <th>2020-12-11</th>\n",
       "      <td>0.000552</td>\n",
       "      <td>0.000041</td>\n",
       "      <td>0.000059</td>\n",
       "      <td>0.000067</td>\n",
       "      <td>0.000711</td>\n",
       "      <td>0.000162</td>\n",
       "      <td>0.00004</td>\n",
       "      <td>0.000159</td>\n",
       "      <td>0.000014</td>\n",
       "    </tr>\n",
       "    <tr>\n",
       "      <th>2020-12-12</th>\n",
       "      <td>0.000552</td>\n",
       "      <td>0.000041</td>\n",
       "      <td>0.000059</td>\n",
       "      <td>0.000067</td>\n",
       "      <td>0.000711</td>\n",
       "      <td>0.000162</td>\n",
       "      <td>0.00004</td>\n",
       "      <td>0.000159</td>\n",
       "      <td>0.000014</td>\n",
       "    </tr>\n",
       "    <tr>\n",
       "      <th>2020-12-13</th>\n",
       "      <td>0.000552</td>\n",
       "      <td>0.000041</td>\n",
       "      <td>0.000059</td>\n",
       "      <td>0.000067</td>\n",
       "      <td>0.000711</td>\n",
       "      <td>0.000162</td>\n",
       "      <td>0.00004</td>\n",
       "      <td>0.000159</td>\n",
       "      <td>0.000014</td>\n",
       "    </tr>\n",
       "    <tr>\n",
       "      <th>2020-12-14</th>\n",
       "      <td>0.000552</td>\n",
       "      <td>0.000041</td>\n",
       "      <td>0.000059</td>\n",
       "      <td>0.000067</td>\n",
       "      <td>0.000711</td>\n",
       "      <td>0.000162</td>\n",
       "      <td>0.00004</td>\n",
       "      <td>0.000159</td>\n",
       "      <td>0.000014</td>\n",
       "    </tr>\n",
       "    <tr>\n",
       "      <th>2020-12-15</th>\n",
       "      <td>0.000552</td>\n",
       "      <td>0.000041</td>\n",
       "      <td>0.000059</td>\n",
       "      <td>0.000067</td>\n",
       "      <td>0.000711</td>\n",
       "      <td>0.000162</td>\n",
       "      <td>0.00004</td>\n",
       "      <td>0.000159</td>\n",
       "      <td>0.000014</td>\n",
       "    </tr>\n",
       "  </tbody>\n",
       "</table>\n",
       "</div>"
      ],
      "text/plain": [
       "Country      Belgium    Canada   Denmark   Finland    France  Netherlands  \\\n",
       "Date                                                                        \n",
       "2020-12-11  0.000552  0.000041  0.000059  0.000067  0.000711     0.000162   \n",
       "2020-12-12  0.000552  0.000041  0.000059  0.000067  0.000711     0.000162   \n",
       "2020-12-13  0.000552  0.000041  0.000059  0.000067  0.000711     0.000162   \n",
       "2020-12-14  0.000552  0.000041  0.000059  0.000067  0.000711     0.000162   \n",
       "2020-12-15  0.000552  0.000041  0.000059  0.000067  0.000711     0.000162   \n",
       "\n",
       "Country     Romania   Ukraine  United Kingdom  \n",
       "Date                                           \n",
       "2020-12-11  0.00004  0.000159        0.000014  \n",
       "2020-12-12  0.00004  0.000159        0.000014  \n",
       "2020-12-13  0.00004  0.000159        0.000014  \n",
       "2020-12-14  0.00004  0.000159        0.000014  \n",
       "2020-12-15  0.00004  0.000159        0.000014  "
      ]
     },
     "execution_count": 17,
     "metadata": {},
     "output_type": "execute_result"
    }
   ],
   "source": [
    "analyser.history(\"kappa\", roll_window=None).tail()"
   ]
  },
  {
   "cell_type": "markdown",
   "metadata": {},
   "source": [
    "### $\\theta$: Mortality rate of S$^\\ast$ cases $\\mathrm{[-]}$"
   ]
  },
  {
   "cell_type": "code",
   "execution_count": 18,
   "metadata": {
    "collapsed": false
   },
   "outputs": [
    {
     "data": {
      "image/png": "[encoded data removed]",
      "text/plain": [
       "<Figure size 648x432 with 1 Axes>"
      ]
     },
     "metadata": {},
     "output_type": "display_data"
    },
    {
     "data": {
      "text/html": [
       "<div>\n",
       "<style scoped>\n",
       "    .dataframe tbody tr th:only-of-type {\n",
       "        vertical-align: middle;\n",
       "    }\n",
       "\n",
       "    .dataframe tbody tr th {\n",
       "        vertical-align: top;\n",
       "    }\n",
       "\n",
       "    .dataframe thead th {\n",
       "        text-align: right;\n",
       "    }\n",
       "</style>\n",
       "<table border=\"1\" class=\"dataframe\">\n",
       "  <thead>\n",
       "    <tr style=\"text-align: right;\">\n",
       "      <th>Country</th>\n",
       "      <th>Belgium</th>\n",
       "      <th>Canada</th>\n",
       "      <th>Denmark</th>\n",
       "      <th>Finland</th>\n",
       "      <th>France</th>\n",
       "      <th>Netherlands</th>\n",
       "      <th>Romania</th>\n",
       "      <th>Ukraine</th>\n",
       "      <th>United Kingdom</th>\n",
       "    </tr>\n",
       "    <tr>\n",
       "      <th>Date</th>\n",
       "      <th></th>\n",
       "      <th></th>\n",
       "      <th></th>\n",
       "      <th></th>\n",
       "      <th></th>\n",
       "      <th></th>\n",
       "      <th></th>\n",
       "      <th></th>\n",
       "      <th></th>\n",
       "    </tr>\n",
       "  </thead>\n",
       "  <tbody>\n",
       "    <tr>\n",
       "      <th>2020-12-11</th>\n",
       "      <td>0.000472</td>\n",
       "      <td>0.01823</td>\n",
       "      <td>0.002191</td>\n",
       "      <td>0.000662</td>\n",
       "      <td>0.000352</td>\n",
       "      <td>0.001139</td>\n",
       "      <td>0.017924</td>\n",
       "      <td>0.000355</td>\n",
       "      <td>0.023906</td>\n",
       "    </tr>\n",
       "    <tr>\n",
       "      <th>2020-12-12</th>\n",
       "      <td>0.000472</td>\n",
       "      <td>0.01823</td>\n",
       "      <td>0.002191</td>\n",
       "      <td>0.000662</td>\n",
       "      <td>0.000352</td>\n",
       "      <td>0.001139</td>\n",
       "      <td>0.017924</td>\n",
       "      <td>0.000355</td>\n",
       "      <td>0.023906</td>\n",
       "    </tr>\n",
       "    <tr>\n",
       "      <th>2020-12-13</th>\n",
       "      <td>0.000472</td>\n",
       "      <td>0.01823</td>\n",
       "      <td>0.002191</td>\n",
       "      <td>0.000662</td>\n",
       "      <td>0.000352</td>\n",
       "      <td>0.001139</td>\n",
       "      <td>0.017924</td>\n",
       "      <td>0.000355</td>\n",
       "      <td>0.023906</td>\n",
       "    </tr>\n",
       "    <tr>\n",
       "      <th>2020-12-14</th>\n",
       "      <td>0.000472</td>\n",
       "      <td>0.01823</td>\n",
       "      <td>0.002191</td>\n",
       "      <td>0.000662</td>\n",
       "      <td>0.000352</td>\n",
       "      <td>0.001139</td>\n",
       "      <td>0.017924</td>\n",
       "      <td>0.000355</td>\n",
       "      <td>0.023906</td>\n",
       "    </tr>\n",
       "    <tr>\n",
       "      <th>2020-12-15</th>\n",
       "      <td>0.000472</td>\n",
       "      <td>0.01823</td>\n",
       "      <td>0.002191</td>\n",
       "      <td>0.000662</td>\n",
       "      <td>0.000352</td>\n",
       "      <td>0.001139</td>\n",
       "      <td>0.017924</td>\n",
       "      <td>0.000355</td>\n",
       "      <td>0.023906</td>\n",
       "    </tr>\n",
       "  </tbody>\n",
       "</table>\n",
       "</div>"
      ],
      "text/plain": [
       "Country      Belgium   Canada   Denmark   Finland    France  Netherlands  \\\n",
       "Date                                                                       \n",
       "2020-12-11  0.000472  0.01823  0.002191  0.000662  0.000352     0.001139   \n",
       "2020-12-12  0.000472  0.01823  0.002191  0.000662  0.000352     0.001139   \n",
       "2020-12-13  0.000472  0.01823  0.002191  0.000662  0.000352     0.001139   \n",
       "2020-12-14  0.000472  0.01823  0.002191  0.000662  0.000352     0.001139   \n",
       "2020-12-15  0.000472  0.01823  0.002191  0.000662  0.000352     0.001139   \n",
       "\n",
       "Country      Romania   Ukraine  United Kingdom  \n",
       "Date                                            \n",
       "2020-12-11  0.017924  0.000355        0.023906  \n",
       "2020-12-12  0.017924  0.000355        0.023906  \n",
       "2020-12-13  0.017924  0.000355        0.023906  \n",
       "2020-12-14  0.017924  0.000355        0.023906  \n",
       "2020-12-15  0.017924  0.000355        0.023906  "
      ]
     },
     "execution_count": 18,
     "metadata": {},
     "output_type": "execute_result"
    }
   ],
   "source": [
    "analyser.history(\"theta\", roll_window=None).tail()"
   ]
  },
  {
   "cell_type": "markdown",
   "metadata": {},
   "source": [
    "## (Experimental): Relationship of OxCGRT index and parameter values\n",
    "Government responses will impact on parameter values of ODE models about 14 days later. Here, we will investigate on the relationship of [stringency index (from OxCGRT)](https://github.com/OxCGRT/covid-policy-tracker/blob/master/documentation/index_methodology.md) and reproduction number/model parameters.\n"
   ]
  },
  {
   "cell_type": "code",
   "execution_count": 19,
   "metadata": {
    "collapsed": false
   },
   "outputs": [],
   "source": [
    "%matplotlib inline\n",
    "from matplotlib import pyplot as plt\n",
    "import seaborn as sns\n",
    "import pandas as pd"
   ]
  },
  {
   "cell_type": "code",
   "execution_count": 20,
   "metadata": {
    "collapsed": false
   },
   "outputs": [
    {
     "name": "stdout",
     "output_type": "stream",
     "text": [
      "<class 'pandas.core.frame.DataFrame'>\n",
      "Int64Index: 25392 entries, 0 to 25503\n",
      "Data columns (total 19 columns):\n",
      " #   Column                               Non-Null Count  Dtype         \n",
      "---  ------                               --------------  -----         \n",
      " 0   Date                                 25392 non-null  datetime64[ns]\n",
      " 1   Country                              25392 non-null  object        \n",
      " 2   Rt                                   25392 non-null  float64       \n",
      " 3   theta                                25392 non-null  float64       \n",
      " 4   kappa                                25392 non-null  float64       \n",
      " 5   rho                                  25392 non-null  float64       \n",
      " 6   sigma                                25392 non-null  float64       \n",
      " 7   School_closing                       25392 non-null  int64         \n",
      " 8   Workplace_closing                    25392 non-null  int64         \n",
      " 9   Cancel_events                        25392 non-null  int64         \n",
      " 10  Gatherings_restrictions              25392 non-null  int64         \n",
      " 11  Transport_closing                    25392 non-null  int64         \n",
      " 12  Stay_home_restrictions               25392 non-null  int64         \n",
      " 13  Internal_movement_restrictions       25392 non-null  int64         \n",
      " 14  International_movement_restrictions  25392 non-null  int64         \n",
      " 15  Information_campaigns                25392 non-null  int64         \n",
      " 16  Testing_policy                       25392 non-null  int64         \n",
      " 17  Contact_tracing                      25392 non-null  int64         \n",
      " 18  Stringency_index                     25392 non-null  float64       \n",
      "dtypes: datetime64[ns](1), float64(6), int64(11), object(1)\n",
      "memory usage: 3.9+ MB\n"
     ]
    }
   ],
   "source": [
    "df = analyser.track()\n",
    "param_cols = [\"Rt\", *cs.SIRF.PARAMETERS]\n",
    "oxcgrt_cols = oxcgrt_data.OXCGRT_VARS[:]\n",
    "cols = param_cols + oxcgrt_cols\n",
    "delay = 14\n",
    "\n",
    "for col in param_cols:\n",
    "    df[col] = pd.to_numeric(df[col], errors=\"coerce\")\n",
    "    df[col] = df.groupby(\"Country\")[col].shift(0 - delay)\n",
    "\n",
    "df = df.dropna(how=\"any\")\n",
    "df = df.loc[:, [\"Date\", \"Country\", *cols]]\n",
    "track_df = df.copy()\n",
    "track_df.info()"
   ]
  },
  {
   "cell_type": "code",
   "execution_count": 21,
   "metadata": {
    "collapsed": false
   },
   "outputs": [
    {
     "data": {
      "text/html": [
       "<style  type=\"text/css\" >\n",
       "#T_8fde2398_3f09_11eb_97e5_525400f827darow0_col0,#T_8fde2398_3f09_11eb_97e5_525400f827darow1_col1,#T_8fde2398_3f09_11eb_97e5_525400f827darow2_col2,#T_8fde2398_3f09_11eb_97e5_525400f827darow3_col3,#T_8fde2398_3f09_11eb_97e5_525400f827darow4_col4,#T_8fde2398_3f09_11eb_97e5_525400f827darow5_col5,#T_8fde2398_3f09_11eb_97e5_525400f827darow6_col6,#T_8fde2398_3f09_11eb_97e5_525400f827darow7_col7,#T_8fde2398_3f09_11eb_97e5_525400f827darow8_col8,#T_8fde2398_3f09_11eb_97e5_525400f827darow9_col9,#T_8fde2398_3f09_11eb_97e5_525400f827darow10_col10,#T_8fde2398_3f09_11eb_97e5_525400f827darow11_col11,#T_8fde2398_3f09_11eb_97e5_525400f827darow12_col12,#T_8fde2398_3f09_11eb_97e5_525400f827darow13_col13,#T_8fde2398_3f09_11eb_97e5_525400f827darow14_col14,#T_8fde2398_3f09_11eb_97e5_525400f827darow15_col15,#T_8fde2398_3f09_11eb_97e5_525400f827darow16_col16{\n",
       "            background-color:  #023858;\n",
       "            color:  #f1f1f1;\n",
       "        }#T_8fde2398_3f09_11eb_97e5_525400f827darow0_col1,#T_8fde2398_3f09_11eb_97e5_525400f827darow1_col0{\n",
       "            background-color:  #cdd0e5;\n",
       "            color:  #000000;\n",
       "        }#T_8fde2398_3f09_11eb_97e5_525400f827darow0_col2,#T_8fde2398_3f09_11eb_97e5_525400f827darow2_col0,#T_8fde2398_3f09_11eb_97e5_525400f827darow2_col14,#T_8fde2398_3f09_11eb_97e5_525400f827darow7_col12,#T_8fde2398_3f09_11eb_97e5_525400f827darow12_col7,#T_8fde2398_3f09_11eb_97e5_525400f827darow14_col2{\n",
       "            background-color:  #b3c3de;\n",
       "            color:  #000000;\n",
       "        }#T_8fde2398_3f09_11eb_97e5_525400f827darow0_col3,#T_8fde2398_3f09_11eb_97e5_525400f827darow3_col0{\n",
       "            background-color:  #0567a2;\n",
       "            color:  #f1f1f1;\n",
       "        }#T_8fde2398_3f09_11eb_97e5_525400f827darow0_col4,#T_8fde2398_3f09_11eb_97e5_525400f827darow4_col0{\n",
       "            background-color:  #fff7fb;\n",
       "            color:  #000000;\n",
       "        }#T_8fde2398_3f09_11eb_97e5_525400f827darow0_col5,#T_8fde2398_3f09_11eb_97e5_525400f827darow5_col0{\n",
       "            background-color:  #d3d4e7;\n",
       "            color:  #000000;\n",
       "        }#T_8fde2398_3f09_11eb_97e5_525400f827darow0_col6,#T_8fde2398_3f09_11eb_97e5_525400f827darow6_col0{\n",
       "            background-color:  #ede8f3;\n",
       "            color:  #000000;\n",
       "        }#T_8fde2398_3f09_11eb_97e5_525400f827darow0_col7,#T_8fde2398_3f09_11eb_97e5_525400f827darow3_col13,#T_8fde2398_3f09_11eb_97e5_525400f827darow7_col0,#T_8fde2398_3f09_11eb_97e5_525400f827darow13_col3{\n",
       "            background-color:  #e1dfed;\n",
       "            color:  #000000;\n",
       "        }#T_8fde2398_3f09_11eb_97e5_525400f827darow0_col8,#T_8fde2398_3f09_11eb_97e5_525400f827darow8_col0{\n",
       "            background-color:  #f5eef6;\n",
       "            color:  #000000;\n",
       "        }#T_8fde2398_3f09_11eb_97e5_525400f827darow0_col9,#T_8fde2398_3f09_11eb_97e5_525400f827darow0_col11,#T_8fde2398_3f09_11eb_97e5_525400f827darow9_col0,#T_8fde2398_3f09_11eb_97e5_525400f827darow11_col0{\n",
       "            background-color:  #e0dded;\n",
       "            color:  #000000;\n",
       "        }#T_8fde2398_3f09_11eb_97e5_525400f827darow0_col10,#T_8fde2398_3f09_11eb_97e5_525400f827darow7_col14,#T_8fde2398_3f09_11eb_97e5_525400f827darow10_col0,#T_8fde2398_3f09_11eb_97e5_525400f827darow14_col7{\n",
       "            background-color:  #dedcec;\n",
       "            color:  #000000;\n",
       "        }#T_8fde2398_3f09_11eb_97e5_525400f827darow0_col12,#T_8fde2398_3f09_11eb_97e5_525400f827darow12_col0{\n",
       "            background-color:  #dddbec;\n",
       "            color:  #000000;\n",
       "        }#T_8fde2398_3f09_11eb_97e5_525400f827darow0_col13,#T_8fde2398_3f09_11eb_97e5_525400f827darow0_col16,#T_8fde2398_3f09_11eb_97e5_525400f827darow13_col0,#T_8fde2398_3f09_11eb_97e5_525400f827darow16_col0{\n",
       "            background-color:  #e7e3f0;\n",
       "            color:  #000000;\n",
       "        }#T_8fde2398_3f09_11eb_97e5_525400f827darow0_col14,#T_8fde2398_3f09_11eb_97e5_525400f827darow1_col14,#T_8fde2398_3f09_11eb_97e5_525400f827darow14_col0,#T_8fde2398_3f09_11eb_97e5_525400f827darow14_col1{\n",
       "            background-color:  #d9d8ea;\n",
       "            color:  #000000;\n",
       "        }#T_8fde2398_3f09_11eb_97e5_525400f827darow0_col15,#T_8fde2398_3f09_11eb_97e5_525400f827darow15_col0{\n",
       "            background-color:  #e0deed;\n",
       "            color:  #000000;\n",
       "        }#T_8fde2398_3f09_11eb_97e5_525400f827darow1_col2,#T_8fde2398_3f09_11eb_97e5_525400f827darow1_col15,#T_8fde2398_3f09_11eb_97e5_525400f827darow2_col1,#T_8fde2398_3f09_11eb_97e5_525400f827darow2_col11,#T_8fde2398_3f09_11eb_97e5_525400f827darow9_col12,#T_8fde2398_3f09_11eb_97e5_525400f827darow11_col2,#T_8fde2398_3f09_11eb_97e5_525400f827darow11_col12,#T_8fde2398_3f09_11eb_97e5_525400f827darow12_col9,#T_8fde2398_3f09_11eb_97e5_525400f827darow12_col11,#T_8fde2398_3f09_11eb_97e5_525400f827darow15_col1{\n",
       "            background-color:  #acc0dd;\n",
       "            color:  #000000;\n",
       "        }#T_8fde2398_3f09_11eb_97e5_525400f827darow1_col3,#T_8fde2398_3f09_11eb_97e5_525400f827darow3_col1{\n",
       "            background-color:  #ced0e6;\n",
       "            color:  #000000;\n",
       "        }#T_8fde2398_3f09_11eb_97e5_525400f827darow1_col4,#T_8fde2398_3f09_11eb_97e5_525400f827darow2_col3,#T_8fde2398_3f09_11eb_97e5_525400f827darow3_col2,#T_8fde2398_3f09_11eb_97e5_525400f827darow4_col1,#T_8fde2398_3f09_11eb_97e5_525400f827darow9_col15,#T_8fde2398_3f09_11eb_97e5_525400f827darow15_col9{\n",
       "            background-color:  #8cb3d5;\n",
       "            color:  #000000;\n",
       "        }#T_8fde2398_3f09_11eb_97e5_525400f827darow1_col5,#T_8fde2398_3f09_11eb_97e5_525400f827darow5_col1{\n",
       "            background-color:  #78abd0;\n",
       "            color:  #000000;\n",
       "        }#T_8fde2398_3f09_11eb_97e5_525400f827darow1_col6,#T_8fde2398_3f09_11eb_97e5_525400f827darow1_col9,#T_8fde2398_3f09_11eb_97e5_525400f827darow6_col1,#T_8fde2398_3f09_11eb_97e5_525400f827darow9_col1{\n",
       "            background-color:  #71a8ce;\n",
       "            color:  #000000;\n",
       "        }#T_8fde2398_3f09_11eb_97e5_525400f827darow1_col7,#T_8fde2398_3f09_11eb_97e5_525400f827darow7_col1,#T_8fde2398_3f09_11eb_97e5_525400f827darow11_col13,#T_8fde2398_3f09_11eb_97e5_525400f827darow13_col11{\n",
       "            background-color:  #589ec8;\n",
       "            color:  #000000;\n",
       "        }#T_8fde2398_3f09_11eb_97e5_525400f827darow1_col8,#T_8fde2398_3f09_11eb_97e5_525400f827darow8_col1{\n",
       "            background-color:  #73a9cf;\n",
       "            color:  #000000;\n",
       "        }#T_8fde2398_3f09_11eb_97e5_525400f827darow1_col10,#T_8fde2398_3f09_11eb_97e5_525400f827darow10_col1{\n",
       "            background-color:  #4e9ac6;\n",
       "            color:  #000000;\n",
       "        }#T_8fde2398_3f09_11eb_97e5_525400f827darow1_col11,#T_8fde2398_3f09_11eb_97e5_525400f827darow7_col13,#T_8fde2398_3f09_11eb_97e5_525400f827darow11_col1,#T_8fde2398_3f09_11eb_97e5_525400f827darow13_col7{\n",
       "            background-color:  #4897c4;\n",
       "            color:  #000000;\n",
       "        }#T_8fde2398_3f09_11eb_97e5_525400f827darow1_col12,#T_8fde2398_3f09_11eb_97e5_525400f827darow1_col13,#T_8fde2398_3f09_11eb_97e5_525400f827darow12_col1,#T_8fde2398_3f09_11eb_97e5_525400f827darow13_col1{\n",
       "            background-color:  #89b1d4;\n",
       "            color:  #000000;\n",
       "        }#T_8fde2398_3f09_11eb_97e5_525400f827darow1_col16,#T_8fde2398_3f09_11eb_97e5_525400f827darow16_col1{\n",
       "            background-color:  #569dc8;\n",
       "            color:  #000000;\n",
       "        }#T_8fde2398_3f09_11eb_97e5_525400f827darow2_col4,#T_8fde2398_3f09_11eb_97e5_525400f827darow4_col2{\n",
       "            background-color:  #97b7d7;\n",
       "            color:  #000000;\n",
       "        }#T_8fde2398_3f09_11eb_97e5_525400f827darow2_col5,#T_8fde2398_3f09_11eb_97e5_525400f827darow5_col2,#T_8fde2398_3f09_11eb_97e5_525400f827darow5_col15,#T_8fde2398_3f09_11eb_97e5_525400f827darow15_col5{\n",
       "            background-color:  #b8c6e0;\n",
       "            color:  #000000;\n",
       "        }#T_8fde2398_3f09_11eb_97e5_525400f827darow2_col6,#T_8fde2398_3f09_11eb_97e5_525400f827darow6_col2{\n",
       "            background-color:  #a2bcda;\n",
       "            color:  #000000;\n",
       "        }#T_8fde2398_3f09_11eb_97e5_525400f827darow2_col7,#T_8fde2398_3f09_11eb_97e5_525400f827darow5_col11,#T_8fde2398_3f09_11eb_97e5_525400f827darow7_col2,#T_8fde2398_3f09_11eb_97e5_525400f827darow11_col5{\n",
       "            background-color:  #7bacd1;\n",
       "            color:  #000000;\n",
       "        }#T_8fde2398_3f09_11eb_97e5_525400f827darow2_col8,#T_8fde2398_3f09_11eb_97e5_525400f827darow6_col15,#T_8fde2398_3f09_11eb_97e5_525400f827darow8_col2,#T_8fde2398_3f09_11eb_97e5_525400f827darow15_col6{\n",
       "            background-color:  #c2cbe2;\n",
       "            color:  #000000;\n",
       "        }#T_8fde2398_3f09_11eb_97e5_525400f827darow2_col9,#T_8fde2398_3f09_11eb_97e5_525400f827darow9_col2{\n",
       "            background-color:  #91b5d6;\n",
       "            color:  #000000;\n",
       "        }#T_8fde2398_3f09_11eb_97e5_525400f827darow2_col10,#T_8fde2398_3f09_11eb_97e5_525400f827darow10_col2{\n",
       "            background-color:  #b1c2de;\n",
       "            color:  #000000;\n",
       "        }#T_8fde2398_3f09_11eb_97e5_525400f827darow2_col12,#T_8fde2398_3f09_11eb_97e5_525400f827darow12_col2{\n",
       "            background-color:  #abbfdc;\n",
       "            color:  #000000;\n",
       "        }#T_8fde2398_3f09_11eb_97e5_525400f827darow2_col13,#T_8fde2398_3f09_11eb_97e5_525400f827darow13_col2{\n",
       "            background-color:  #94b6d7;\n",
       "            color:  #000000;\n",
       "        }#T_8fde2398_3f09_11eb_97e5_525400f827darow2_col15,#T_8fde2398_3f09_11eb_97e5_525400f827darow4_col14,#T_8fde2398_3f09_11eb_97e5_525400f827darow14_col4,#T_8fde2398_3f09_11eb_97e5_525400f827darow15_col2{\n",
       "            background-color:  #88b1d4;\n",
       "            color:  #000000;\n",
       "        }#T_8fde2398_3f09_11eb_97e5_525400f827darow2_col16,#T_8fde2398_3f09_11eb_97e5_525400f827darow10_col14,#T_8fde2398_3f09_11eb_97e5_525400f827darow14_col10,#T_8fde2398_3f09_11eb_97e5_525400f827darow16_col2{\n",
       "            background-color:  #bcc7e1;\n",
       "            color:  #000000;\n",
       "        }#T_8fde2398_3f09_11eb_97e5_525400f827darow3_col4,#T_8fde2398_3f09_11eb_97e5_525400f827darow3_col5,#T_8fde2398_3f09_11eb_97e5_525400f827darow4_col3,#T_8fde2398_3f09_11eb_97e5_525400f827darow5_col3{\n",
       "            background-color:  #eae6f1;\n",
       "            color:  #000000;\n",
       "        }#T_8fde2398_3f09_11eb_97e5_525400f827darow3_col6,#T_8fde2398_3f09_11eb_97e5_525400f827darow6_col3{\n",
       "            background-color:  #ede7f2;\n",
       "            color:  #000000;\n",
       "        }#T_8fde2398_3f09_11eb_97e5_525400f827darow3_col7,#T_8fde2398_3f09_11eb_97e5_525400f827darow3_col11,#T_8fde2398_3f09_11eb_97e5_525400f827darow7_col3,#T_8fde2398_3f09_11eb_97e5_525400f827darow11_col3{\n",
       "            background-color:  #bbc7e0;\n",
       "            color:  #000000;\n",
       "        }#T_8fde2398_3f09_11eb_97e5_525400f827darow3_col8,#T_8fde2398_3f09_11eb_97e5_525400f827darow3_col16,#T_8fde2398_3f09_11eb_97e5_525400f827darow8_col3,#T_8fde2398_3f09_11eb_97e5_525400f827darow16_col3{\n",
       "            background-color:  #f0eaf4;\n",
       "            color:  #000000;\n",
       "        }#T_8fde2398_3f09_11eb_97e5_525400f827darow3_col9,#T_8fde2398_3f09_11eb_97e5_525400f827darow9_col3{\n",
       "            background-color:  #c4cbe3;\n",
       "            color:  #000000;\n",
       "        }#T_8fde2398_3f09_11eb_97e5_525400f827darow3_col10,#T_8fde2398_3f09_11eb_97e5_525400f827darow10_col3{\n",
       "            background-color:  #d2d3e7;\n",
       "            color:  #000000;\n",
       "        }#T_8fde2398_3f09_11eb_97e5_525400f827darow3_col12,#T_8fde2398_3f09_11eb_97e5_525400f827darow12_col3{\n",
       "            background-color:  #fbf4f9;\n",
       "            color:  #000000;\n",
       "        }#T_8fde2398_3f09_11eb_97e5_525400f827darow3_col14,#T_8fde2398_3f09_11eb_97e5_525400f827darow14_col3{\n",
       "            background-color:  #eee9f3;\n",
       "            color:  #000000;\n",
       "        }#T_8fde2398_3f09_11eb_97e5_525400f827darow3_col15,#T_8fde2398_3f09_11eb_97e5_525400f827darow15_col3{\n",
       "            background-color:  #d6d6e9;\n",
       "            color:  #000000;\n",
       "        }#T_8fde2398_3f09_11eb_97e5_525400f827darow4_col5,#T_8fde2398_3f09_11eb_97e5_525400f827darow5_col4{\n",
       "            background-color:  #75a9cf;\n",
       "            color:  #000000;\n",
       "        }#T_8fde2398_3f09_11eb_97e5_525400f827darow4_col6,#T_8fde2398_3f09_11eb_97e5_525400f827darow6_col4{\n",
       "            background-color:  #4094c3;\n",
       "            color:  #000000;\n",
       "        }#T_8fde2398_3f09_11eb_97e5_525400f827darow4_col7,#T_8fde2398_3f09_11eb_97e5_525400f827darow7_col4{\n",
       "            background-color:  #1c7fb8;\n",
       "            color:  #000000;\n",
       "        }#T_8fde2398_3f09_11eb_97e5_525400f827darow4_col8,#T_8fde2398_3f09_11eb_97e5_525400f827darow8_col4,#T_8fde2398_3f09_11eb_97e5_525400f827darow8_col9,#T_8fde2398_3f09_11eb_97e5_525400f827darow9_col8{\n",
       "            background-color:  #167bb6;\n",
       "            color:  #000000;\n",
       "        }#T_8fde2398_3f09_11eb_97e5_525400f827darow4_col9,#T_8fde2398_3f09_11eb_97e5_525400f827darow5_col8,#T_8fde2398_3f09_11eb_97e5_525400f827darow8_col5,#T_8fde2398_3f09_11eb_97e5_525400f827darow9_col4{\n",
       "            background-color:  #328dbf;\n",
       "            color:  #000000;\n",
       "        }#T_8fde2398_3f09_11eb_97e5_525400f827darow4_col10,#T_8fde2398_3f09_11eb_97e5_525400f827darow10_col4{\n",
       "            background-color:  #3b92c1;\n",
       "            color:  #000000;\n",
       "        }#T_8fde2398_3f09_11eb_97e5_525400f827darow4_col11,#T_8fde2398_3f09_11eb_97e5_525400f827darow11_col4{\n",
       "            background-color:  #348ebf;\n",
       "            color:  #000000;\n",
       "        }#T_8fde2398_3f09_11eb_97e5_525400f827darow4_col12,#T_8fde2398_3f09_11eb_97e5_525400f827darow5_col7,#T_8fde2398_3f09_11eb_97e5_525400f827darow7_col5,#T_8fde2398_3f09_11eb_97e5_525400f827darow12_col4{\n",
       "            background-color:  #8bb2d4;\n",
       "            color:  #000000;\n",
       "        }#T_8fde2398_3f09_11eb_97e5_525400f827darow4_col13,#T_8fde2398_3f09_11eb_97e5_525400f827darow13_col4{\n",
       "            background-color:  #509ac6;\n",
       "            color:  #000000;\n",
       "        }#T_8fde2398_3f09_11eb_97e5_525400f827darow4_col15,#T_8fde2398_3f09_11eb_97e5_525400f827darow15_col4{\n",
       "            background-color:  #549cc7;\n",
       "            color:  #000000;\n",
       "        }#T_8fde2398_3f09_11eb_97e5_525400f827darow4_col16,#T_8fde2398_3f09_11eb_97e5_525400f827darow8_col12,#T_8fde2398_3f09_11eb_97e5_525400f827darow10_col13,#T_8fde2398_3f09_11eb_97e5_525400f827darow12_col8,#T_8fde2398_3f09_11eb_97e5_525400f827darow12_col16,#T_8fde2398_3f09_11eb_97e5_525400f827darow13_col10,#T_8fde2398_3f09_11eb_97e5_525400f827darow16_col4,#T_8fde2398_3f09_11eb_97e5_525400f827darow16_col12{\n",
       "            background-color:  #3d93c2;\n",
       "            color:  #000000;\n",
       "        }#T_8fde2398_3f09_11eb_97e5_525400f827darow5_col6,#T_8fde2398_3f09_11eb_97e5_525400f827darow6_col5{\n",
       "            background-color:  #0566a0;\n",
       "            color:  #f1f1f1;\n",
       "        }#T_8fde2398_3f09_11eb_97e5_525400f827darow5_col9,#T_8fde2398_3f09_11eb_97e5_525400f827darow9_col5{\n",
       "            background-color:  #8fb4d6;\n",
       "            color:  #000000;\n",
       "        }#T_8fde2398_3f09_11eb_97e5_525400f827darow5_col10,#T_8fde2398_3f09_11eb_97e5_525400f827darow8_col13,#T_8fde2398_3f09_11eb_97e5_525400f827darow10_col5,#T_8fde2398_3f09_11eb_97e5_525400f827darow13_col8{\n",
       "            background-color:  #1077b4;\n",
       "            color:  #f1f1f1;\n",
       "        }#T_8fde2398_3f09_11eb_97e5_525400f827darow5_col12,#T_8fde2398_3f09_11eb_97e5_525400f827darow12_col5{\n",
       "            background-color:  #6ba5cd;\n",
       "            color:  #000000;\n",
       "        }#T_8fde2398_3f09_11eb_97e5_525400f827darow5_col13,#T_8fde2398_3f09_11eb_97e5_525400f827darow13_col5{\n",
       "            background-color:  #4295c3;\n",
       "            color:  #000000;\n",
       "        }#T_8fde2398_3f09_11eb_97e5_525400f827darow5_col14,#T_8fde2398_3f09_11eb_97e5_525400f827darow11_col15,#T_8fde2398_3f09_11eb_97e5_525400f827darow14_col5,#T_8fde2398_3f09_11eb_97e5_525400f827darow14_col16,#T_8fde2398_3f09_11eb_97e5_525400f827darow15_col11,#T_8fde2398_3f09_11eb_97e5_525400f827darow16_col14{\n",
       "            background-color:  #93b5d6;\n",
       "            color:  #000000;\n",
       "        }#T_8fde2398_3f09_11eb_97e5_525400f827darow5_col16,#T_8fde2398_3f09_11eb_97e5_525400f827darow16_col5{\n",
       "            background-color:  #045e94;\n",
       "            color:  #f1f1f1;\n",
       "        }#T_8fde2398_3f09_11eb_97e5_525400f827darow6_col7,#T_8fde2398_3f09_11eb_97e5_525400f827darow7_col6,#T_8fde2398_3f09_11eb_97e5_525400f827darow13_col14,#T_8fde2398_3f09_11eb_97e5_525400f827darow14_col13{\n",
       "            background-color:  #2a88bc;\n",
       "            color:  #000000;\n",
       "        }#T_8fde2398_3f09_11eb_97e5_525400f827darow6_col8,#T_8fde2398_3f09_11eb_97e5_525400f827darow8_col6{\n",
       "            background-color:  #0a73b2;\n",
       "            color:  #f1f1f1;\n",
       "        }#T_8fde2398_3f09_11eb_97e5_525400f827darow6_col9,#T_8fde2398_3f09_11eb_97e5_525400f827darow6_col12,#T_8fde2398_3f09_11eb_97e5_525400f827darow9_col6,#T_8fde2398_3f09_11eb_97e5_525400f827darow9_col13,#T_8fde2398_3f09_11eb_97e5_525400f827darow12_col6,#T_8fde2398_3f09_11eb_97e5_525400f827darow13_col9{\n",
       "            background-color:  #5c9fc9;\n",
       "            color:  #000000;\n",
       "        }#T_8fde2398_3f09_11eb_97e5_525400f827darow6_col10,#T_8fde2398_3f09_11eb_97e5_525400f827darow10_col6{\n",
       "            background-color:  #046097;\n",
       "            color:  #f1f1f1;\n",
       "        }#T_8fde2398_3f09_11eb_97e5_525400f827darow6_col11,#T_8fde2398_3f09_11eb_97e5_525400f827darow11_col6{\n",
       "            background-color:  #4a98c5;\n",
       "            color:  #000000;\n",
       "        }#T_8fde2398_3f09_11eb_97e5_525400f827darow6_col13,#T_8fde2398_3f09_11eb_97e5_525400f827darow12_col15,#T_8fde2398_3f09_11eb_97e5_525400f827darow13_col6,#T_8fde2398_3f09_11eb_97e5_525400f827darow15_col12{\n",
       "            background-color:  #2987bc;\n",
       "            color:  #000000;\n",
       "        }#T_8fde2398_3f09_11eb_97e5_525400f827darow6_col14,#T_8fde2398_3f09_11eb_97e5_525400f827darow14_col6{\n",
       "            background-color:  #adc1dd;\n",
       "            color:  #000000;\n",
       "        }#T_8fde2398_3f09_11eb_97e5_525400f827darow6_col16,#T_8fde2398_3f09_11eb_97e5_525400f827darow16_col6{\n",
       "            background-color:  #045280;\n",
       "            color:  #f1f1f1;\n",
       "        }#T_8fde2398_3f09_11eb_97e5_525400f827darow7_col8,#T_8fde2398_3f09_11eb_97e5_525400f827darow8_col7{\n",
       "            background-color:  #1278b4;\n",
       "            color:  #f1f1f1;\n",
       "        }#T_8fde2398_3f09_11eb_97e5_525400f827darow7_col9,#T_8fde2398_3f09_11eb_97e5_525400f827darow9_col7{\n",
       "            background-color:  #0569a5;\n",
       "            color:  #f1f1f1;\n",
       "        }#T_8fde2398_3f09_11eb_97e5_525400f827darow7_col10,#T_8fde2398_3f09_11eb_97e5_525400f827darow10_col7{\n",
       "            background-color:  #2383ba;\n",
       "            color:  #000000;\n",
       "        }#T_8fde2398_3f09_11eb_97e5_525400f827darow7_col11,#T_8fde2398_3f09_11eb_97e5_525400f827darow11_col7{\n",
       "            background-color:  #046299;\n",
       "            color:  #f1f1f1;\n",
       "        }#T_8fde2398_3f09_11eb_97e5_525400f827darow7_col15,#T_8fde2398_3f09_11eb_97e5_525400f827darow15_col7{\n",
       "            background-color:  #a7bddb;\n",
       "            color:  #000000;\n",
       "        }#T_8fde2398_3f09_11eb_97e5_525400f827darow7_col16,#T_8fde2398_3f09_11eb_97e5_525400f827darow16_col7{\n",
       "            background-color:  #187cb6;\n",
       "            color:  #000000;\n",
       "        }#T_8fde2398_3f09_11eb_97e5_525400f827darow8_col10,#T_8fde2398_3f09_11eb_97e5_525400f827darow10_col8{\n",
       "            background-color:  #0570b0;\n",
       "            color:  #f1f1f1;\n",
       "        }#T_8fde2398_3f09_11eb_97e5_525400f827darow8_col11,#T_8fde2398_3f09_11eb_97e5_525400f827darow11_col8{\n",
       "            background-color:  #056aa6;\n",
       "            color:  #f1f1f1;\n",
       "        }#T_8fde2398_3f09_11eb_97e5_525400f827darow8_col14,#T_8fde2398_3f09_11eb_97e5_525400f827darow14_col8{\n",
       "            background-color:  #5ea0ca;\n",
       "            color:  #000000;\n",
       "        }#T_8fde2398_3f09_11eb_97e5_525400f827darow8_col15,#T_8fde2398_3f09_11eb_97e5_525400f827darow15_col8{\n",
       "            background-color:  #63a2cb;\n",
       "            color:  #000000;\n",
       "        }#T_8fde2398_3f09_11eb_97e5_525400f827darow8_col16,#T_8fde2398_3f09_11eb_97e5_525400f827darow16_col8{\n",
       "            background-color:  #046198;\n",
       "            color:  #f1f1f1;\n",
       "        }#T_8fde2398_3f09_11eb_97e5_525400f827darow9_col10,#T_8fde2398_3f09_11eb_97e5_525400f827darow10_col9{\n",
       "            background-color:  #4496c3;\n",
       "            color:  #000000;\n",
       "        }#T_8fde2398_3f09_11eb_97e5_525400f827darow9_col11,#T_8fde2398_3f09_11eb_97e5_525400f827darow11_col9{\n",
       "            background-color:  #05659f;\n",
       "            color:  #f1f1f1;\n",
       "        }#T_8fde2398_3f09_11eb_97e5_525400f827darow9_col14,#T_8fde2398_3f09_11eb_97e5_525400f827darow11_col14,#T_8fde2398_3f09_11eb_97e5_525400f827darow14_col9,#T_8fde2398_3f09_11eb_97e5_525400f827darow14_col11{\n",
       "            background-color:  #c0c9e2;\n",
       "            color:  #000000;\n",
       "        }#T_8fde2398_3f09_11eb_97e5_525400f827darow9_col16,#T_8fde2398_3f09_11eb_97e5_525400f827darow13_col15,#T_8fde2398_3f09_11eb_97e5_525400f827darow15_col13,#T_8fde2398_3f09_11eb_97e5_525400f827darow16_col9{\n",
       "            background-color:  #3790c0;\n",
       "            color:  #000000;\n",
       "        }#T_8fde2398_3f09_11eb_97e5_525400f827darow10_col11,#T_8fde2398_3f09_11eb_97e5_525400f827darow11_col10{\n",
       "            background-color:  #0f76b3;\n",
       "            color:  #f1f1f1;\n",
       "        }#T_8fde2398_3f09_11eb_97e5_525400f827darow10_col12,#T_8fde2398_3f09_11eb_97e5_525400f827darow12_col10{\n",
       "            background-color:  #65a3cb;\n",
       "            color:  #000000;\n",
       "        }#T_8fde2398_3f09_11eb_97e5_525400f827darow10_col15,#T_8fde2398_3f09_11eb_97e5_525400f827darow15_col10{\n",
       "            background-color:  #b4c4df;\n",
       "            color:  #000000;\n",
       "        }#T_8fde2398_3f09_11eb_97e5_525400f827darow10_col16,#T_8fde2398_3f09_11eb_97e5_525400f827darow16_col10{\n",
       "            background-color:  #045e93;\n",
       "            color:  #f1f1f1;\n",
       "        }#T_8fde2398_3f09_11eb_97e5_525400f827darow11_col16,#T_8fde2398_3f09_11eb_97e5_525400f827darow16_col11{\n",
       "            background-color:  #2081b9;\n",
       "            color:  #000000;\n",
       "        }#T_8fde2398_3f09_11eb_97e5_525400f827darow12_col13,#T_8fde2398_3f09_11eb_97e5_525400f827darow13_col12{\n",
       "            background-color:  #358fc0;\n",
       "            color:  #000000;\n",
       "        }#T_8fde2398_3f09_11eb_97e5_525400f827darow12_col14,#T_8fde2398_3f09_11eb_97e5_525400f827darow14_col12{\n",
       "            background-color:  #1379b5;\n",
       "            color:  #f1f1f1;\n",
       "        }#T_8fde2398_3f09_11eb_97e5_525400f827darow13_col16,#T_8fde2398_3f09_11eb_97e5_525400f827darow16_col13{\n",
       "            background-color:  #056faf;\n",
       "            color:  #f1f1f1;\n",
       "        }#T_8fde2398_3f09_11eb_97e5_525400f827darow14_col15,#T_8fde2398_3f09_11eb_97e5_525400f827darow15_col14{\n",
       "            background-color:  #056fae;\n",
       "            color:  #f1f1f1;\n",
       "        }#T_8fde2398_3f09_11eb_97e5_525400f827darow15_col16,#T_8fde2398_3f09_11eb_97e5_525400f827darow16_col15{\n",
       "            background-color:  #afc1dd;\n",
       "            color:  #000000;\n",
       "        }</style><table id=\"T_8fde2398_3f09_11eb_97e5_525400f827da\" ><thead>    <tr>        <th class=\"blank level0\" ></th>        <th class=\"col_heading level0 col0\" >Rt</th>        <th class=\"col_heading level0 col1\" >theta</th>        <th class=\"col_heading level0 col2\" >kappa</th>        <th class=\"col_heading level0 col3\" >rho</th>        <th class=\"col_heading level0 col4\" >sigma</th>        <th class=\"col_heading level0 col5\" >School_closing</th>        <th class=\"col_heading level0 col6\" >Workplace_closing</th>        <th class=\"col_heading level0 col7\" >Cancel_events</th>        <th class=\"col_heading level0 col8\" >Gatherings_restrictions</th>        <th class=\"col_heading level0 col9\" >Transport_closing</th>        <th class=\"col_heading level0 col10\" >Stay_home_restrictions</th>        <th class=\"col_heading level0 col11\" >Internal_movement_restrictions</th>        <th class=\"col_heading level0 col12\" >International_movement_restrictions</th>        <th class=\"col_heading level0 col13\" >Information_campaigns</th>        <th class=\"col_heading level0 col14\" >Testing_policy</th>        <th class=\"col_heading level0 col15\" >Contact_tracing</th>        <th class=\"col_heading level0 col16\" >Stringency_index</th>    </tr></thead><tbody>\n",
       "                <tr>\n",
       "                        <th id=\"T_8fde2398_3f09_11eb_97e5_525400f827dalevel0_row0\" class=\"row_heading level0 row0\" >Rt</th>\n",
       "                        <td id=\"T_8fde2398_3f09_11eb_97e5_525400f827darow0_col0\" class=\"data row0 col0\" >1.000000</td>\n",
       "                        <td id=\"T_8fde2398_3f09_11eb_97e5_525400f827darow0_col1\" class=\"data row0 col1\" >-0.188888</td>\n",
       "                        <td id=\"T_8fde2398_3f09_11eb_97e5_525400f827darow0_col2\" class=\"data row0 col2\" >-0.065996</td>\n",
       "                        <td id=\"T_8fde2398_3f09_11eb_97e5_525400f827darow0_col3\" class=\"data row0 col3\" >0.674855</td>\n",
       "                        <td id=\"T_8fde2398_3f09_11eb_97e5_525400f827darow0_col4\" class=\"data row0 col4\" >-0.608645</td>\n",
       "                        <td id=\"T_8fde2398_3f09_11eb_97e5_525400f827darow0_col5\" class=\"data row0 col5\" >-0.230583</td>\n",
       "                        <td id=\"T_8fde2398_3f09_11eb_97e5_525400f827darow0_col6\" class=\"data row0 col6\" >-0.419580</td>\n",
       "                        <td id=\"T_8fde2398_3f09_11eb_97e5_525400f827darow0_col7\" class=\"data row0 col7\" >-0.332132</td>\n",
       "                        <td id=\"T_8fde2398_3f09_11eb_97e5_525400f827darow0_col8\" class=\"data row0 col8\" >-0.497681</td>\n",
       "                        <td id=\"T_8fde2398_3f09_11eb_97e5_525400f827darow0_col9\" class=\"data row0 col9\" >-0.313747</td>\n",
       "                        <td id=\"T_8fde2398_3f09_11eb_97e5_525400f827darow0_col10\" class=\"data row0 col10\" >-0.305320</td>\n",
       "                        <td id=\"T_8fde2398_3f09_11eb_97e5_525400f827darow0_col11\" class=\"data row0 col11\" >-0.319216</td>\n",
       "                        <td id=\"T_8fde2398_3f09_11eb_97e5_525400f827darow0_col12\" class=\"data row0 col12\" >-0.297979</td>\n",
       "                        <td id=\"T_8fde2398_3f09_11eb_97e5_525400f827darow0_col13\" class=\"data row0 col13\" >-0.370297</td>\n",
       "                        <td id=\"T_8fde2398_3f09_11eb_97e5_525400f827darow0_col14\" class=\"data row0 col14\" >-0.264487</td>\n",
       "                        <td id=\"T_8fde2398_3f09_11eb_97e5_525400f827darow0_col15\" class=\"data row0 col15\" >-0.322429</td>\n",
       "                        <td id=\"T_8fde2398_3f09_11eb_97e5_525400f827darow0_col16\" class=\"data row0 col16\" >-0.375534</td>\n",
       "            </tr>\n",
       "            <tr>\n",
       "                        <th id=\"T_8fde2398_3f09_11eb_97e5_525400f827dalevel0_row1\" class=\"row_heading level0 row1\" >theta</th>\n",
       "                        <td id=\"T_8fde2398_3f09_11eb_97e5_525400f827darow1_col0\" class=\"data row1 col0\" >-0.188888</td>\n",
       "                        <td id=\"T_8fde2398_3f09_11eb_97e5_525400f827darow1_col1\" class=\"data row1 col1\" >1.000000</td>\n",
       "                        <td id=\"T_8fde2398_3f09_11eb_97e5_525400f827darow1_col2\" class=\"data row1 col2\" >-0.034339</td>\n",
       "                        <td id=\"T_8fde2398_3f09_11eb_97e5_525400f827darow1_col3\" class=\"data row1 col3\" >-0.200171</td>\n",
       "                        <td id=\"T_8fde2398_3f09_11eb_97e5_525400f827darow1_col4\" class=\"data row1 col4\" >0.097603</td>\n",
       "                        <td id=\"T_8fde2398_3f09_11eb_97e5_525400f827darow1_col5\" class=\"data row1 col5\" >0.178939</td>\n",
       "                        <td id=\"T_8fde2398_3f09_11eb_97e5_525400f827darow1_col6\" class=\"data row1 col6\" >0.205330</td>\n",
       "                        <td id=\"T_8fde2398_3f09_11eb_97e5_525400f827darow1_col7\" class=\"data row1 col7\" >0.286498</td>\n",
       "                        <td id=\"T_8fde2398_3f09_11eb_97e5_525400f827darow1_col8\" class=\"data row1 col8\" >0.198818</td>\n",
       "                        <td id=\"T_8fde2398_3f09_11eb_97e5_525400f827darow1_col9\" class=\"data row1 col9\" >0.205766</td>\n",
       "                        <td id=\"T_8fde2398_3f09_11eb_97e5_525400f827darow1_col10\" class=\"data row1 col10\" >0.318578</td>\n",
       "                        <td id=\"T_8fde2398_3f09_11eb_97e5_525400f827darow1_col11\" class=\"data row1 col11\" >0.335484</td>\n",
       "                        <td id=\"T_8fde2398_3f09_11eb_97e5_525400f827darow1_col12\" class=\"data row1 col12\" >0.111653</td>\n",
       "                        <td id=\"T_8fde2398_3f09_11eb_97e5_525400f827darow1_col13\" class=\"data row1 col13\" >0.108226</td>\n",
       "                        <td id=\"T_8fde2398_3f09_11eb_97e5_525400f827darow1_col14\" class=\"data row1 col14\" >-0.272923</td>\n",
       "                        <td id=\"T_8fde2398_3f09_11eb_97e5_525400f827darow1_col15\" class=\"data row1 col15\" >-0.035595</td>\n",
       "                        <td id=\"T_8fde2398_3f09_11eb_97e5_525400f827darow1_col16\" class=\"data row1 col16\" >0.294121</td>\n",
       "            </tr>\n",
       "            <tr>\n",
       "                        <th id=\"T_8fde2398_3f09_11eb_97e5_525400f827dalevel0_row2\" class=\"row_heading level0 row2\" >kappa</th>\n",
       "                        <td id=\"T_8fde2398_3f09_11eb_97e5_525400f827darow2_col0\" class=\"data row2 col0\" >-0.065996</td>\n",
       "                        <td id=\"T_8fde2398_3f09_11eb_97e5_525400f827darow2_col1\" class=\"data row2 col1\" >-0.034339</td>\n",
       "                        <td id=\"T_8fde2398_3f09_11eb_97e5_525400f827darow2_col2\" class=\"data row2 col2\" >1.000000</td>\n",
       "                        <td id=\"T_8fde2398_3f09_11eb_97e5_525400f827darow2_col3\" class=\"data row2 col3\" >0.099123</td>\n",
       "                        <td id=\"T_8fde2398_3f09_11eb_97e5_525400f827darow2_col4\" class=\"data row2 col4\" >0.052769</td>\n",
       "                        <td id=\"T_8fde2398_3f09_11eb_97e5_525400f827darow2_col5\" class=\"data row2 col5\" >-0.088523</td>\n",
       "                        <td id=\"T_8fde2398_3f09_11eb_97e5_525400f827darow2_col6\" class=\"data row2 col6\" >0.012443</td>\n",
       "                        <td id=\"T_8fde2398_3f09_11eb_97e5_525400f827darow2_col7\" class=\"data row2 col7\" >0.165649</td>\n",
       "                        <td id=\"T_8fde2398_3f09_11eb_97e5_525400f827darow2_col8\" class=\"data row2 col8\" >-0.141010</td>\n",
       "                        <td id=\"T_8fde2398_3f09_11eb_97e5_525400f827darow2_col9\" class=\"data row2 col9\" >0.079212</td>\n",
       "                        <td id=\"T_8fde2398_3f09_11eb_97e5_525400f827darow2_col10\" class=\"data row2 col10\" >-0.059491</td>\n",
       "                        <td id=\"T_8fde2398_3f09_11eb_97e5_525400f827darow2_col11\" class=\"data row2 col11\" >-0.032561</td>\n",
       "                        <td id=\"T_8fde2398_3f09_11eb_97e5_525400f827darow2_col12\" class=\"data row2 col12\" >-0.027133</td>\n",
       "                        <td id=\"T_8fde2398_3f09_11eb_97e5_525400f827darow2_col13\" class=\"data row2 col13\" >0.068926</td>\n",
       "                        <td id=\"T_8fde2398_3f09_11eb_97e5_525400f827darow2_col14\" class=\"data row2 col14\" >-0.063070</td>\n",
       "                        <td id=\"T_8fde2398_3f09_11eb_97e5_525400f827darow2_col15\" class=\"data row2 col15\" >0.119263</td>\n",
       "                        <td id=\"T_8fde2398_3f09_11eb_97e5_525400f827darow2_col16\" class=\"data row2 col16\" >-0.109573</td>\n",
       "            </tr>\n",
       "            <tr>\n",
       "                        <th id=\"T_8fde2398_3f09_11eb_97e5_525400f827dalevel0_row3\" class=\"row_heading level0 row3\" >rho</th>\n",
       "                        <td id=\"T_8fde2398_3f09_11eb_97e5_525400f827darow3_col0\" class=\"data row3 col0\" >0.674855</td>\n",
       "                        <td id=\"T_8fde2398_3f09_11eb_97e5_525400f827darow3_col1\" class=\"data row3 col1\" >-0.200171</td>\n",
       "                        <td id=\"T_8fde2398_3f09_11eb_97e5_525400f827darow3_col2\" class=\"data row3 col2\" >0.099123</td>\n",
       "                        <td id=\"T_8fde2398_3f09_11eb_97e5_525400f827darow3_col3\" class=\"data row3 col3\" >1.000000</td>\n",
       "                        <td id=\"T_8fde2398_3f09_11eb_97e5_525400f827darow3_col4\" class=\"data row3 col4\" >-0.393456</td>\n",
       "                        <td id=\"T_8fde2398_3f09_11eb_97e5_525400f827darow3_col5\" class=\"data row3 col5\" >-0.391369</td>\n",
       "                        <td id=\"T_8fde2398_3f09_11eb_97e5_525400f827darow3_col6\" class=\"data row3 col6\" >-0.412174</td>\n",
       "                        <td id=\"T_8fde2398_3f09_11eb_97e5_525400f827darow3_col7\" class=\"data row3 col7\" >-0.101516</td>\n",
       "                        <td id=\"T_8fde2398_3f09_11eb_97e5_525400f827darow3_col8\" class=\"data row3 col8\" >-0.441659</td>\n",
       "                        <td id=\"T_8fde2398_3f09_11eb_97e5_525400f827darow3_col9\" class=\"data row3 col9\" >-0.148460</td>\n",
       "                        <td id=\"T_8fde2398_3f09_11eb_97e5_525400f827darow3_col10\" class=\"data row3 col10\" >-0.224910</td>\n",
       "                        <td id=\"T_8fde2398_3f09_11eb_97e5_525400f827darow3_col11\" class=\"data row3 col11\" >-0.102893</td>\n",
       "                        <td id=\"T_8fde2398_3f09_11eb_97e5_525400f827darow3_col12\" class=\"data row3 col12\" >-0.567109</td>\n",
       "                        <td id=\"T_8fde2398_3f09_11eb_97e5_525400f827darow3_col13\" class=\"data row3 col13\" >-0.325896</td>\n",
       "                        <td id=\"T_8fde2398_3f09_11eb_97e5_525400f827darow3_col14\" class=\"data row3 col14\" >-0.432256</td>\n",
       "                        <td id=\"T_8fde2398_3f09_11eb_97e5_525400f827darow3_col15\" class=\"data row3 col15\" >-0.247356</td>\n",
       "                        <td id=\"T_8fde2398_3f09_11eb_97e5_525400f827darow3_col16\" class=\"data row3 col16\" >-0.441134</td>\n",
       "            </tr>\n",
       "            <tr>\n",
       "                        <th id=\"T_8fde2398_3f09_11eb_97e5_525400f827dalevel0_row4\" class=\"row_heading level0 row4\" >sigma</th>\n",
       "                        <td id=\"T_8fde2398_3f09_11eb_97e5_525400f827darow4_col0\" class=\"data row4 col0\" >-0.608645</td>\n",
       "                        <td id=\"T_8fde2398_3f09_11eb_97e5_525400f827darow4_col1\" class=\"data row4 col1\" >0.097603</td>\n",
       "                        <td id=\"T_8fde2398_3f09_11eb_97e5_525400f827darow4_col2\" class=\"data row4 col2\" >0.052769</td>\n",
       "                        <td id=\"T_8fde2398_3f09_11eb_97e5_525400f827darow4_col3\" class=\"data row4 col3\" >-0.393456</td>\n",
       "                        <td id=\"T_8fde2398_3f09_11eb_97e5_525400f827darow4_col4\" class=\"data row4 col4\" >1.000000</td>\n",
       "                        <td id=\"T_8fde2398_3f09_11eb_97e5_525400f827darow4_col5\" class=\"data row4 col5\" >0.190667</td>\n",
       "                        <td id=\"T_8fde2398_3f09_11eb_97e5_525400f827darow4_col6\" class=\"data row4 col6\" >0.359490</td>\n",
       "                        <td id=\"T_8fde2398_3f09_11eb_97e5_525400f827darow4_col7\" class=\"data row4 col7\" >0.502050</td>\n",
       "                        <td id=\"T_8fde2398_3f09_11eb_97e5_525400f827darow4_col8\" class=\"data row4 col8\" >0.522518</td>\n",
       "                        <td id=\"T_8fde2398_3f09_11eb_97e5_525400f827darow4_col9\" class=\"data row4 col9\" >0.410447</td>\n",
       "                        <td id=\"T_8fde2398_3f09_11eb_97e5_525400f827darow4_col10\" class=\"data row4 col10\" >0.383164</td>\n",
       "                        <td id=\"T_8fde2398_3f09_11eb_97e5_525400f827darow4_col11\" class=\"data row4 col11\" >0.404099</td>\n",
       "                        <td id=\"T_8fde2398_3f09_11eb_97e5_525400f827darow4_col12\" class=\"data row4 col12\" >0.105413</td>\n",
       "                        <td id=\"T_8fde2398_3f09_11eb_97e5_525400f827darow4_col13\" class=\"data row4 col13\" >0.308816</td>\n",
       "                        <td id=\"T_8fde2398_3f09_11eb_97e5_525400f827darow4_col14\" class=\"data row4 col14\" >0.115968</td>\n",
       "                        <td id=\"T_8fde2398_3f09_11eb_97e5_525400f827darow4_col15\" class=\"data row4 col15\" >0.298262</td>\n",
       "                        <td id=\"T_8fde2398_3f09_11eb_97e5_525400f827darow4_col16\" class=\"data row4 col16\" >0.377062</td>\n",
       "            </tr>\n",
       "            <tr>\n",
       "                        <th id=\"T_8fde2398_3f09_11eb_97e5_525400f827dalevel0_row5\" class=\"row_heading level0 row5\" >School_closing</th>\n",
       "                        <td id=\"T_8fde2398_3f09_11eb_97e5_525400f827darow5_col0\" class=\"data row5 col0\" >-0.230583</td>\n",
       "                        <td id=\"T_8fde2398_3f09_11eb_97e5_525400f827darow5_col1\" class=\"data row5 col1\" >0.178939</td>\n",
       "                        <td id=\"T_8fde2398_3f09_11eb_97e5_525400f827darow5_col2\" class=\"data row5 col2\" >-0.088523</td>\n",
       "                        <td id=\"T_8fde2398_3f09_11eb_97e5_525400f827darow5_col3\" class=\"data row5 col3\" >-0.391369</td>\n",
       "                        <td id=\"T_8fde2398_3f09_11eb_97e5_525400f827darow5_col4\" class=\"data row5 col4\" >0.190667</td>\n",
       "                        <td id=\"T_8fde2398_3f09_11eb_97e5_525400f827darow5_col5\" class=\"data row5 col5\" >1.000000</td>\n",
       "                        <td id=\"T_8fde2398_3f09_11eb_97e5_525400f827darow5_col6\" class=\"data row5 col6\" >0.689231</td>\n",
       "                        <td id=\"T_8fde2398_3f09_11eb_97e5_525400f827darow5_col7\" class=\"data row5 col7\" >0.101719</td>\n",
       "                        <td id=\"T_8fde2398_3f09_11eb_97e5_525400f827darow5_col8\" class=\"data row5 col8\" >0.410978</td>\n",
       "                        <td id=\"T_8fde2398_3f09_11eb_97e5_525400f827darow5_col9\" class=\"data row5 col9\" >0.084301</td>\n",
       "                        <td id=\"T_8fde2398_3f09_11eb_97e5_525400f827darow5_col10\" class=\"data row5 col10\" >0.551249</td>\n",
       "                        <td id=\"T_8fde2398_3f09_11eb_97e5_525400f827darow5_col11\" class=\"data row5 col11\" >0.165559</td>\n",
       "                        <td id=\"T_8fde2398_3f09_11eb_97e5_525400f827darow5_col12\" class=\"data row5 col12\" >0.223195</td>\n",
       "                        <td id=\"T_8fde2398_3f09_11eb_97e5_525400f827darow5_col13\" class=\"data row5 col13\" >0.355395</td>\n",
       "                        <td id=\"T_8fde2398_3f09_11eb_97e5_525400f827darow5_col14\" class=\"data row5 col14\" >0.072337</td>\n",
       "                        <td id=\"T_8fde2398_3f09_11eb_97e5_525400f827darow5_col15\" class=\"data row5 col15\" >-0.088214</td>\n",
       "                        <td id=\"T_8fde2398_3f09_11eb_97e5_525400f827darow5_col16\" class=\"data row5 col16\" >0.755201</td>\n",
       "            </tr>\n",
       "            <tr>\n",
       "                        <th id=\"T_8fde2398_3f09_11eb_97e5_525400f827dalevel0_row6\" class=\"row_heading level0 row6\" >Workplace_closing</th>\n",
       "                        <td id=\"T_8fde2398_3f09_11eb_97e5_525400f827darow6_col0\" class=\"data row6 col0\" >-0.419580</td>\n",
       "                        <td id=\"T_8fde2398_3f09_11eb_97e5_525400f827darow6_col1\" class=\"data row6 col1\" >0.205330</td>\n",
       "                        <td id=\"T_8fde2398_3f09_11eb_97e5_525400f827darow6_col2\" class=\"data row6 col2\" >0.012443</td>\n",
       "                        <td id=\"T_8fde2398_3f09_11eb_97e5_525400f827darow6_col3\" class=\"data row6 col3\" >-0.412174</td>\n",
       "                        <td id=\"T_8fde2398_3f09_11eb_97e5_525400f827darow6_col4\" class=\"data row6 col4\" >0.359490</td>\n",
       "                        <td id=\"T_8fde2398_3f09_11eb_97e5_525400f827darow6_col5\" class=\"data row6 col5\" >0.689231</td>\n",
       "                        <td id=\"T_8fde2398_3f09_11eb_97e5_525400f827darow6_col6\" class=\"data row6 col6\" >1.000000</td>\n",
       "                        <td id=\"T_8fde2398_3f09_11eb_97e5_525400f827darow6_col7\" class=\"data row6 col7\" >0.443117</td>\n",
       "                        <td id=\"T_8fde2398_3f09_11eb_97e5_525400f827darow6_col8\" class=\"data row6 col8\" >0.574414</td>\n",
       "                        <td id=\"T_8fde2398_3f09_11eb_97e5_525400f827darow6_col9\" class=\"data row6 col9\" >0.277267</td>\n",
       "                        <td id=\"T_8fde2398_3f09_11eb_97e5_525400f827darow6_col10\" class=\"data row6 col10\" >0.739829</td>\n",
       "                        <td id=\"T_8fde2398_3f09_11eb_97e5_525400f827darow6_col11\" class=\"data row6 col11\" >0.332721</td>\n",
       "                        <td id=\"T_8fde2398_3f09_11eb_97e5_525400f827darow6_col12\" class=\"data row6 col12\" >0.277167</td>\n",
       "                        <td id=\"T_8fde2398_3f09_11eb_97e5_525400f827darow6_col13\" class=\"data row6 col13\" >0.448055</td>\n",
       "                        <td id=\"T_8fde2398_3f09_11eb_97e5_525400f827darow6_col14\" class=\"data row6 col14\" >-0.036976</td>\n",
       "                        <td id=\"T_8fde2398_3f09_11eb_97e5_525400f827darow6_col15\" class=\"data row6 col15\" >-0.137518</td>\n",
       "                        <td id=\"T_8fde2398_3f09_11eb_97e5_525400f827darow6_col16\" class=\"data row6 col16\" >0.848214</td>\n",
       "            </tr>\n",
       "            <tr>\n",
       "                        <th id=\"T_8fde2398_3f09_11eb_97e5_525400f827dalevel0_row7\" class=\"row_heading level0 row7\" >Cancel_events</th>\n",
       "                        <td id=\"T_8fde2398_3f09_11eb_97e5_525400f827darow7_col0\" class=\"data row7 col0\" >-0.332132</td>\n",
       "                        <td id=\"T_8fde2398_3f09_11eb_97e5_525400f827darow7_col1\" class=\"data row7 col1\" >0.286498</td>\n",
       "                        <td id=\"T_8fde2398_3f09_11eb_97e5_525400f827darow7_col2\" class=\"data row7 col2\" >0.165649</td>\n",
       "                        <td id=\"T_8fde2398_3f09_11eb_97e5_525400f827darow7_col3\" class=\"data row7 col3\" >-0.101516</td>\n",
       "                        <td id=\"T_8fde2398_3f09_11eb_97e5_525400f827darow7_col4\" class=\"data row7 col4\" >0.502050</td>\n",
       "                        <td id=\"T_8fde2398_3f09_11eb_97e5_525400f827darow7_col5\" class=\"data row7 col5\" >0.101719</td>\n",
       "                        <td id=\"T_8fde2398_3f09_11eb_97e5_525400f827darow7_col6\" class=\"data row7 col6\" >0.443117</td>\n",
       "                        <td id=\"T_8fde2398_3f09_11eb_97e5_525400f827darow7_col7\" class=\"data row7 col7\" >1.000000</td>\n",
       "                        <td id=\"T_8fde2398_3f09_11eb_97e5_525400f827darow7_col8\" class=\"data row7 col8\" >0.543917</td>\n",
       "                        <td id=\"T_8fde2398_3f09_11eb_97e5_525400f827darow7_col9\" class=\"data row7 col9\" >0.658638</td>\n",
       "                        <td id=\"T_8fde2398_3f09_11eb_97e5_525400f827darow7_col10\" class=\"data row7 col10\" >0.474548</td>\n",
       "                        <td id=\"T_8fde2398_3f09_11eb_97e5_525400f827darow7_col11\" class=\"data row7 col11\" >0.726769</td>\n",
       "                        <td id=\"T_8fde2398_3f09_11eb_97e5_525400f827darow7_col12\" class=\"data row7 col12\" >-0.062711</td>\n",
       "                        <td id=\"T_8fde2398_3f09_11eb_97e5_525400f827darow7_col13\" class=\"data row7 col13\" >0.336332</td>\n",
       "                        <td id=\"T_8fde2398_3f09_11eb_97e5_525400f827darow7_col14\" class=\"data row7 col14\" >-0.305788</td>\n",
       "                        <td id=\"T_8fde2398_3f09_11eb_97e5_525400f827darow7_col15\" class=\"data row7 col15\" >-0.005697</td>\n",
       "                        <td id=\"T_8fde2398_3f09_11eb_97e5_525400f827darow7_col16\" class=\"data row7 col16\" >0.518112</td>\n",
       "            </tr>\n",
       "            <tr>\n",
       "                        <th id=\"T_8fde2398_3f09_11eb_97e5_525400f827dalevel0_row8\" class=\"row_heading level0 row8\" >Gatherings_restrictions</th>\n",
       "                        <td id=\"T_8fde2398_3f09_11eb_97e5_525400f827darow8_col0\" class=\"data row8 col0\" >-0.497681</td>\n",
       "                        <td id=\"T_8fde2398_3f09_11eb_97e5_525400f827darow8_col1\" class=\"data row8 col1\" >0.198818</td>\n",
       "                        <td id=\"T_8fde2398_3f09_11eb_97e5_525400f827darow8_col2\" class=\"data row8 col2\" >-0.141010</td>\n",
       "                        <td id=\"T_8fde2398_3f09_11eb_97e5_525400f827darow8_col3\" class=\"data row8 col3\" >-0.441659</td>\n",
       "                        <td id=\"T_8fde2398_3f09_11eb_97e5_525400f827darow8_col4\" class=\"data row8 col4\" >0.522518</td>\n",
       "                        <td id=\"T_8fde2398_3f09_11eb_97e5_525400f827darow8_col5\" class=\"data row8 col5\" >0.410978</td>\n",
       "                        <td id=\"T_8fde2398_3f09_11eb_97e5_525400f827darow8_col6\" class=\"data row8 col6\" >0.574414</td>\n",
       "                        <td id=\"T_8fde2398_3f09_11eb_97e5_525400f827darow8_col7\" class=\"data row8 col7\" >0.543917</td>\n",
       "                        <td id=\"T_8fde2398_3f09_11eb_97e5_525400f827darow8_col8\" class=\"data row8 col8\" >1.000000</td>\n",
       "                        <td id=\"T_8fde2398_3f09_11eb_97e5_525400f827darow8_col9\" class=\"data row8 col9\" >0.526384</td>\n",
       "                        <td id=\"T_8fde2398_3f09_11eb_97e5_525400f827darow8_col10\" class=\"data row8 col10\" >0.597434</td>\n",
       "                        <td id=\"T_8fde2398_3f09_11eb_97e5_525400f827darow8_col11\" class=\"data row8 col11\" >0.648338</td>\n",
       "                        <td id=\"T_8fde2398_3f09_11eb_97e5_525400f827darow8_col12\" class=\"data row8 col12\" >0.377207</td>\n",
       "                        <td id=\"T_8fde2398_3f09_11eb_97e5_525400f827darow8_col13\" class=\"data row8 col13\" >0.552409</td>\n",
       "                        <td id=\"T_8fde2398_3f09_11eb_97e5_525400f827darow8_col14\" class=\"data row8 col14\" >0.269578</td>\n",
       "                        <td id=\"T_8fde2398_3f09_11eb_97e5_525400f827darow8_col15\" class=\"data row8 col15\" >0.248921</td>\n",
       "                        <td id=\"T_8fde2398_3f09_11eb_97e5_525400f827darow8_col16\" class=\"data row8 col16\" >0.735857</td>\n",
       "            </tr>\n",
       "            <tr>\n",
       "                        <th id=\"T_8fde2398_3f09_11eb_97e5_525400f827dalevel0_row9\" class=\"row_heading level0 row9\" >Transport_closing</th>\n",
       "                        <td id=\"T_8fde2398_3f09_11eb_97e5_525400f827darow9_col0\" class=\"data row9 col0\" >-0.313747</td>\n",
       "                        <td id=\"T_8fde2398_3f09_11eb_97e5_525400f827darow9_col1\" class=\"data row9 col1\" >0.205766</td>\n",
       "                        <td id=\"T_8fde2398_3f09_11eb_97e5_525400f827darow9_col2\" class=\"data row9 col2\" >0.079212</td>\n",
       "                        <td id=\"T_8fde2398_3f09_11eb_97e5_525400f827darow9_col3\" class=\"data row9 col3\" >-0.148460</td>\n",
       "                        <td id=\"T_8fde2398_3f09_11eb_97e5_525400f827darow9_col4\" class=\"data row9 col4\" >0.410447</td>\n",
       "                        <td id=\"T_8fde2398_3f09_11eb_97e5_525400f827darow9_col5\" class=\"data row9 col5\" >0.084301</td>\n",
       "                        <td id=\"T_8fde2398_3f09_11eb_97e5_525400f827darow9_col6\" class=\"data row9 col6\" >0.277267</td>\n",
       "                        <td id=\"T_8fde2398_3f09_11eb_97e5_525400f827darow9_col7\" class=\"data row9 col7\" >0.658638</td>\n",
       "                        <td id=\"T_8fde2398_3f09_11eb_97e5_525400f827darow9_col8\" class=\"data row9 col8\" >0.526384</td>\n",
       "                        <td id=\"T_8fde2398_3f09_11eb_97e5_525400f827darow9_col9\" class=\"data row9 col9\" >1.000000</td>\n",
       "                        <td id=\"T_8fde2398_3f09_11eb_97e5_525400f827darow9_col10\" class=\"data row9 col10\" >0.346664</td>\n",
       "                        <td id=\"T_8fde2398_3f09_11eb_97e5_525400f827darow9_col11\" class=\"data row9 col11\" >0.696076</td>\n",
       "                        <td id=\"T_8fde2398_3f09_11eb_97e5_525400f827darow9_col12\" class=\"data row9 col12\" >-0.034509</td>\n",
       "                        <td id=\"T_8fde2398_3f09_11eb_97e5_525400f827darow9_col13\" class=\"data row9 col13\" >0.276180</td>\n",
       "                        <td id=\"T_8fde2398_3f09_11eb_97e5_525400f827darow9_col14\" class=\"data row9 col14\" >-0.125112</td>\n",
       "                        <td id=\"T_8fde2398_3f09_11eb_97e5_525400f827darow9_col15\" class=\"data row9 col15\" >0.097092</td>\n",
       "                        <td id=\"T_8fde2398_3f09_11eb_97e5_525400f827darow9_col16\" class=\"data row9 col16\" >0.394204</td>\n",
       "            </tr>\n",
       "            <tr>\n",
       "                        <th id=\"T_8fde2398_3f09_11eb_97e5_525400f827dalevel0_row10\" class=\"row_heading level0 row10\" >Stay_home_restrictions</th>\n",
       "                        <td id=\"T_8fde2398_3f09_11eb_97e5_525400f827darow10_col0\" class=\"data row10 col0\" >-0.305320</td>\n",
       "                        <td id=\"T_8fde2398_3f09_11eb_97e5_525400f827darow10_col1\" class=\"data row10 col1\" >0.318578</td>\n",
       "                        <td id=\"T_8fde2398_3f09_11eb_97e5_525400f827darow10_col2\" class=\"data row10 col2\" >-0.059491</td>\n",
       "                        <td id=\"T_8fde2398_3f09_11eb_97e5_525400f827darow10_col3\" class=\"data row10 col3\" >-0.224910</td>\n",
       "                        <td id=\"T_8fde2398_3f09_11eb_97e5_525400f827darow10_col4\" class=\"data row10 col4\" >0.383164</td>\n",
       "                        <td id=\"T_8fde2398_3f09_11eb_97e5_525400f827darow10_col5\" class=\"data row10 col5\" >0.551249</td>\n",
       "                        <td id=\"T_8fde2398_3f09_11eb_97e5_525400f827darow10_col6\" class=\"data row10 col6\" >0.739829</td>\n",
       "                        <td id=\"T_8fde2398_3f09_11eb_97e5_525400f827darow10_col7\" class=\"data row10 col7\" >0.474548</td>\n",
       "                        <td id=\"T_8fde2398_3f09_11eb_97e5_525400f827darow10_col8\" class=\"data row10 col8\" >0.597434</td>\n",
       "                        <td id=\"T_8fde2398_3f09_11eb_97e5_525400f827darow10_col9\" class=\"data row10 col9\" >0.346664</td>\n",
       "                        <td id=\"T_8fde2398_3f09_11eb_97e5_525400f827darow10_col10\" class=\"data row10 col10\" >1.000000</td>\n",
       "                        <td id=\"T_8fde2398_3f09_11eb_97e5_525400f827darow10_col11\" class=\"data row10 col11\" >0.555176</td>\n",
       "                        <td id=\"T_8fde2398_3f09_11eb_97e5_525400f827darow10_col12\" class=\"data row10 col12\" >0.241167</td>\n",
       "                        <td id=\"T_8fde2398_3f09_11eb_97e5_525400f827darow10_col13\" class=\"data row10 col13\" >0.377002</td>\n",
       "                        <td id=\"T_8fde2398_3f09_11eb_97e5_525400f827darow10_col14\" class=\"data row10 col14\" >-0.107911</td>\n",
       "                        <td id=\"T_8fde2398_3f09_11eb_97e5_525400f827darow10_col15\" class=\"data row10 col15\" >-0.073537</td>\n",
       "                        <td id=\"T_8fde2398_3f09_11eb_97e5_525400f827darow10_col16\" class=\"data row10 col16\" >0.766166</td>\n",
       "            </tr>\n",
       "            <tr>\n",
       "                        <th id=\"T_8fde2398_3f09_11eb_97e5_525400f827dalevel0_row11\" class=\"row_heading level0 row11\" >Internal_movement_restrictions</th>\n",
       "                        <td id=\"T_8fde2398_3f09_11eb_97e5_525400f827darow11_col0\" class=\"data row11 col0\" >-0.319216</td>\n",
       "                        <td id=\"T_8fde2398_3f09_11eb_97e5_525400f827darow11_col1\" class=\"data row11 col1\" >0.335484</td>\n",
       "                        <td id=\"T_8fde2398_3f09_11eb_97e5_525400f827darow11_col2\" class=\"data row11 col2\" >-0.032561</td>\n",
       "                        <td id=\"T_8fde2398_3f09_11eb_97e5_525400f827darow11_col3\" class=\"data row11 col3\" >-0.102893</td>\n",
       "                        <td id=\"T_8fde2398_3f09_11eb_97e5_525400f827darow11_col4\" class=\"data row11 col4\" >0.404099</td>\n",
       "                        <td id=\"T_8fde2398_3f09_11eb_97e5_525400f827darow11_col5\" class=\"data row11 col5\" >0.165559</td>\n",
       "                        <td id=\"T_8fde2398_3f09_11eb_97e5_525400f827darow11_col6\" class=\"data row11 col6\" >0.332721</td>\n",
       "                        <td id=\"T_8fde2398_3f09_11eb_97e5_525400f827darow11_col7\" class=\"data row11 col7\" >0.726769</td>\n",
       "                        <td id=\"T_8fde2398_3f09_11eb_97e5_525400f827darow11_col8\" class=\"data row11 col8\" >0.648338</td>\n",
       "                        <td id=\"T_8fde2398_3f09_11eb_97e5_525400f827darow11_col9\" class=\"data row11 col9\" >0.696076</td>\n",
       "                        <td id=\"T_8fde2398_3f09_11eb_97e5_525400f827darow11_col10\" class=\"data row11 col10\" >0.555176</td>\n",
       "                        <td id=\"T_8fde2398_3f09_11eb_97e5_525400f827darow11_col11\" class=\"data row11 col11\" >1.000000</td>\n",
       "                        <td id=\"T_8fde2398_3f09_11eb_97e5_525400f827darow11_col12\" class=\"data row11 col12\" >-0.034624</td>\n",
       "                        <td id=\"T_8fde2398_3f09_11eb_97e5_525400f827darow11_col13\" class=\"data row11 col13\" >0.285870</td>\n",
       "                        <td id=\"T_8fde2398_3f09_11eb_97e5_525400f827darow11_col14\" class=\"data row11 col14\" >-0.128014</td>\n",
       "                        <td id=\"T_8fde2398_3f09_11eb_97e5_525400f827darow11_col15\" class=\"data row11 col15\" >0.070717</td>\n",
       "                        <td id=\"T_8fde2398_3f09_11eb_97e5_525400f827darow11_col16\" class=\"data row11 col16\" >0.485872</td>\n",
       "            </tr>\n",
       "            <tr>\n",
       "                        <th id=\"T_8fde2398_3f09_11eb_97e5_525400f827dalevel0_row12\" class=\"row_heading level0 row12\" >International_movement_restrictions</th>\n",
       "                        <td id=\"T_8fde2398_3f09_11eb_97e5_525400f827darow12_col0\" class=\"data row12 col0\" >-0.297979</td>\n",
       "                        <td id=\"T_8fde2398_3f09_11eb_97e5_525400f827darow12_col1\" class=\"data row12 col1\" >0.111653</td>\n",
       "                        <td id=\"T_8fde2398_3f09_11eb_97e5_525400f827darow12_col2\" class=\"data row12 col2\" >-0.027133</td>\n",
       "                        <td id=\"T_8fde2398_3f09_11eb_97e5_525400f827darow12_col3\" class=\"data row12 col3\" >-0.567109</td>\n",
       "                        <td id=\"T_8fde2398_3f09_11eb_97e5_525400f827darow12_col4\" class=\"data row12 col4\" >0.105413</td>\n",
       "                        <td id=\"T_8fde2398_3f09_11eb_97e5_525400f827darow12_col5\" class=\"data row12 col5\" >0.223195</td>\n",
       "                        <td id=\"T_8fde2398_3f09_11eb_97e5_525400f827darow12_col6\" class=\"data row12 col6\" >0.277167</td>\n",
       "                        <td id=\"T_8fde2398_3f09_11eb_97e5_525400f827darow12_col7\" class=\"data row12 col7\" >-0.062711</td>\n",
       "                        <td id=\"T_8fde2398_3f09_11eb_97e5_525400f827darow12_col8\" class=\"data row12 col8\" >0.377207</td>\n",
       "                        <td id=\"T_8fde2398_3f09_11eb_97e5_525400f827darow12_col9\" class=\"data row12 col9\" >-0.034509</td>\n",
       "                        <td id=\"T_8fde2398_3f09_11eb_97e5_525400f827darow12_col10\" class=\"data row12 col10\" >0.241167</td>\n",
       "                        <td id=\"T_8fde2398_3f09_11eb_97e5_525400f827darow12_col11\" class=\"data row12 col11\" >-0.034624</td>\n",
       "                        <td id=\"T_8fde2398_3f09_11eb_97e5_525400f827darow12_col12\" class=\"data row12 col12\" >1.000000</td>\n",
       "                        <td id=\"T_8fde2398_3f09_11eb_97e5_525400f827darow12_col13\" class=\"data row12 col13\" >0.399907</td>\n",
       "                        <td id=\"T_8fde2398_3f09_11eb_97e5_525400f827darow12_col14\" class=\"data row12 col14\" >0.536361</td>\n",
       "                        <td id=\"T_8fde2398_3f09_11eb_97e5_525400f827darow12_col15\" class=\"data row12 col15\" >0.451066</td>\n",
       "                        <td id=\"T_8fde2398_3f09_11eb_97e5_525400f827darow12_col16\" class=\"data row12 col16\" >0.377443</td>\n",
       "            </tr>\n",
       "            <tr>\n",
       "                        <th id=\"T_8fde2398_3f09_11eb_97e5_525400f827dalevel0_row13\" class=\"row_heading level0 row13\" >Information_campaigns</th>\n",
       "                        <td id=\"T_8fde2398_3f09_11eb_97e5_525400f827darow13_col0\" class=\"data row13 col0\" >-0.370297</td>\n",
       "                        <td id=\"T_8fde2398_3f09_11eb_97e5_525400f827darow13_col1\" class=\"data row13 col1\" >0.108226</td>\n",
       "                        <td id=\"T_8fde2398_3f09_11eb_97e5_525400f827darow13_col2\" class=\"data row13 col2\" >0.068926</td>\n",
       "                        <td id=\"T_8fde2398_3f09_11eb_97e5_525400f827darow13_col3\" class=\"data row13 col3\" >-0.325896</td>\n",
       "                        <td id=\"T_8fde2398_3f09_11eb_97e5_525400f827darow13_col4\" class=\"data row13 col4\" >0.308816</td>\n",
       "                        <td id=\"T_8fde2398_3f09_11eb_97e5_525400f827darow13_col5\" class=\"data row13 col5\" >0.355395</td>\n",
       "                        <td id=\"T_8fde2398_3f09_11eb_97e5_525400f827darow13_col6\" class=\"data row13 col6\" >0.448055</td>\n",
       "                        <td id=\"T_8fde2398_3f09_11eb_97e5_525400f827darow13_col7\" class=\"data row13 col7\" >0.336332</td>\n",
       "                        <td id=\"T_8fde2398_3f09_11eb_97e5_525400f827darow13_col8\" class=\"data row13 col8\" >0.552409</td>\n",
       "                        <td id=\"T_8fde2398_3f09_11eb_97e5_525400f827darow13_col9\" class=\"data row13 col9\" >0.276180</td>\n",
       "                        <td id=\"T_8fde2398_3f09_11eb_97e5_525400f827darow13_col10\" class=\"data row13 col10\" >0.377002</td>\n",
       "                        <td id=\"T_8fde2398_3f09_11eb_97e5_525400f827darow13_col11\" class=\"data row13 col11\" >0.285870</td>\n",
       "                        <td id=\"T_8fde2398_3f09_11eb_97e5_525400f827darow13_col12\" class=\"data row13 col12\" >0.399907</td>\n",
       "                        <td id=\"T_8fde2398_3f09_11eb_97e5_525400f827darow13_col13\" class=\"data row13 col13\" >1.000000</td>\n",
       "                        <td id=\"T_8fde2398_3f09_11eb_97e5_525400f827darow13_col14\" class=\"data row13 col14\" >0.444391</td>\n",
       "                        <td id=\"T_8fde2398_3f09_11eb_97e5_525400f827darow13_col15\" class=\"data row13 col15\" >0.393824</td>\n",
       "                        <td id=\"T_8fde2398_3f09_11eb_97e5_525400f827darow13_col16\" class=\"data row13 col16\" >0.598010</td>\n",
       "            </tr>\n",
       "            <tr>\n",
       "                        <th id=\"T_8fde2398_3f09_11eb_97e5_525400f827dalevel0_row14\" class=\"row_heading level0 row14\" >Testing_policy</th>\n",
       "                        <td id=\"T_8fde2398_3f09_11eb_97e5_525400f827darow14_col0\" class=\"data row14 col0\" >-0.264487</td>\n",
       "                        <td id=\"T_8fde2398_3f09_11eb_97e5_525400f827darow14_col1\" class=\"data row14 col1\" >-0.272923</td>\n",
       "                        <td id=\"T_8fde2398_3f09_11eb_97e5_525400f827darow14_col2\" class=\"data row14 col2\" >-0.063070</td>\n",
       "                        <td id=\"T_8fde2398_3f09_11eb_97e5_525400f827darow14_col3\" class=\"data row14 col3\" >-0.432256</td>\n",
       "                        <td id=\"T_8fde2398_3f09_11eb_97e5_525400f827darow14_col4\" class=\"data row14 col4\" >0.115968</td>\n",
       "                        <td id=\"T_8fde2398_3f09_11eb_97e5_525400f827darow14_col5\" class=\"data row14 col5\" >0.072337</td>\n",
       "                        <td id=\"T_8fde2398_3f09_11eb_97e5_525400f827darow14_col6\" class=\"data row14 col6\" >-0.036976</td>\n",
       "                        <td id=\"T_8fde2398_3f09_11eb_97e5_525400f827darow14_col7\" class=\"data row14 col7\" >-0.305788</td>\n",
       "                        <td id=\"T_8fde2398_3f09_11eb_97e5_525400f827darow14_col8\" class=\"data row14 col8\" >0.269578</td>\n",
       "                        <td id=\"T_8fde2398_3f09_11eb_97e5_525400f827darow14_col9\" class=\"data row14 col9\" >-0.125112</td>\n",
       "                        <td id=\"T_8fde2398_3f09_11eb_97e5_525400f827darow14_col10\" class=\"data row14 col10\" >-0.107911</td>\n",
       "                        <td id=\"T_8fde2398_3f09_11eb_97e5_525400f827darow14_col11\" class=\"data row14 col11\" >-0.128014</td>\n",
       "                        <td id=\"T_8fde2398_3f09_11eb_97e5_525400f827darow14_col12\" class=\"data row14 col12\" >0.536361</td>\n",
       "                        <td id=\"T_8fde2398_3f09_11eb_97e5_525400f827darow14_col13\" class=\"data row14 col13\" >0.444391</td>\n",
       "                        <td id=\"T_8fde2398_3f09_11eb_97e5_525400f827darow14_col14\" class=\"data row14 col14\" >1.000000</td>\n",
       "                        <td id=\"T_8fde2398_3f09_11eb_97e5_525400f827darow14_col15\" class=\"data row14 col15\" >0.605251</td>\n",
       "                        <td id=\"T_8fde2398_3f09_11eb_97e5_525400f827darow14_col16\" class=\"data row14 col16\" >0.072898</td>\n",
       "            </tr>\n",
       "            <tr>\n",
       "                        <th id=\"T_8fde2398_3f09_11eb_97e5_525400f827dalevel0_row15\" class=\"row_heading level0 row15\" >Contact_tracing</th>\n",
       "                        <td id=\"T_8fde2398_3f09_11eb_97e5_525400f827darow15_col0\" class=\"data row15 col0\" >-0.322429</td>\n",
       "                        <td id=\"T_8fde2398_3f09_11eb_97e5_525400f827darow15_col1\" class=\"data row15 col1\" >-0.035595</td>\n",
       "                        <td id=\"T_8fde2398_3f09_11eb_97e5_525400f827darow15_col2\" class=\"data row15 col2\" >0.119263</td>\n",
       "                        <td id=\"T_8fde2398_3f09_11eb_97e5_525400f827darow15_col3\" class=\"data row15 col3\" >-0.247356</td>\n",
       "                        <td id=\"T_8fde2398_3f09_11eb_97e5_525400f827darow15_col4\" class=\"data row15 col4\" >0.298262</td>\n",
       "                        <td id=\"T_8fde2398_3f09_11eb_97e5_525400f827darow15_col5\" class=\"data row15 col5\" >-0.088214</td>\n",
       "                        <td id=\"T_8fde2398_3f09_11eb_97e5_525400f827darow15_col6\" class=\"data row15 col6\" >-0.137518</td>\n",
       "                        <td id=\"T_8fde2398_3f09_11eb_97e5_525400f827darow15_col7\" class=\"data row15 col7\" >-0.005697</td>\n",
       "                        <td id=\"T_8fde2398_3f09_11eb_97e5_525400f827darow15_col8\" class=\"data row15 col8\" >0.248921</td>\n",
       "                        <td id=\"T_8fde2398_3f09_11eb_97e5_525400f827darow15_col9\" class=\"data row15 col9\" >0.097092</td>\n",
       "                        <td id=\"T_8fde2398_3f09_11eb_97e5_525400f827darow15_col10\" class=\"data row15 col10\" >-0.073537</td>\n",
       "                        <td id=\"T_8fde2398_3f09_11eb_97e5_525400f827darow15_col11\" class=\"data row15 col11\" >0.070717</td>\n",
       "                        <td id=\"T_8fde2398_3f09_11eb_97e5_525400f827darow15_col12\" class=\"data row15 col12\" >0.451066</td>\n",
       "                        <td id=\"T_8fde2398_3f09_11eb_97e5_525400f827darow15_col13\" class=\"data row15 col13\" >0.393824</td>\n",
       "                        <td id=\"T_8fde2398_3f09_11eb_97e5_525400f827darow15_col14\" class=\"data row15 col14\" >0.605251</td>\n",
       "                        <td id=\"T_8fde2398_3f09_11eb_97e5_525400f827darow15_col15\" class=\"data row15 col15\" >1.000000</td>\n",
       "                        <td id=\"T_8fde2398_3f09_11eb_97e5_525400f827darow15_col16\" class=\"data row15 col16\" >-0.043656</td>\n",
       "            </tr>\n",
       "            <tr>\n",
       "                        <th id=\"T_8fde2398_3f09_11eb_97e5_525400f827dalevel0_row16\" class=\"row_heading level0 row16\" >Stringency_index</th>\n",
       "                        <td id=\"T_8fde2398_3f09_11eb_97e5_525400f827darow16_col0\" class=\"data row16 col0\" >-0.375534</td>\n",
       "                        <td id=\"T_8fde2398_3f09_11eb_97e5_525400f827darow16_col1\" class=\"data row16 col1\" >0.294121</td>\n",
       "                        <td id=\"T_8fde2398_3f09_11eb_97e5_525400f827darow16_col2\" class=\"data row16 col2\" >-0.109573</td>\n",
       "                        <td id=\"T_8fde2398_3f09_11eb_97e5_525400f827darow16_col3\" class=\"data row16 col3\" >-0.441134</td>\n",
       "                        <td id=\"T_8fde2398_3f09_11eb_97e5_525400f827darow16_col4\" class=\"data row16 col4\" >0.377062</td>\n",
       "                        <td id=\"T_8fde2398_3f09_11eb_97e5_525400f827darow16_col5\" class=\"data row16 col5\" >0.755201</td>\n",
       "                        <td id=\"T_8fde2398_3f09_11eb_97e5_525400f827darow16_col6\" class=\"data row16 col6\" >0.848214</td>\n",
       "                        <td id=\"T_8fde2398_3f09_11eb_97e5_525400f827darow16_col7\" class=\"data row16 col7\" >0.518112</td>\n",
       "                        <td id=\"T_8fde2398_3f09_11eb_97e5_525400f827darow16_col8\" class=\"data row16 col8\" >0.735857</td>\n",
       "                        <td id=\"T_8fde2398_3f09_11eb_97e5_525400f827darow16_col9\" class=\"data row16 col9\" >0.394204</td>\n",
       "                        <td id=\"T_8fde2398_3f09_11eb_97e5_525400f827darow16_col10\" class=\"data row16 col10\" >0.766166</td>\n",
       "                        <td id=\"T_8fde2398_3f09_11eb_97e5_525400f827darow16_col11\" class=\"data row16 col11\" >0.485872</td>\n",
       "                        <td id=\"T_8fde2398_3f09_11eb_97e5_525400f827darow16_col12\" class=\"data row16 col12\" >0.377443</td>\n",
       "                        <td id=\"T_8fde2398_3f09_11eb_97e5_525400f827darow16_col13\" class=\"data row16 col13\" >0.598010</td>\n",
       "                        <td id=\"T_8fde2398_3f09_11eb_97e5_525400f827darow16_col14\" class=\"data row16 col14\" >0.072898</td>\n",
       "                        <td id=\"T_8fde2398_3f09_11eb_97e5_525400f827darow16_col15\" class=\"data row16 col15\" >-0.043656</td>\n",
       "                        <td id=\"T_8fde2398_3f09_11eb_97e5_525400f827darow16_col16\" class=\"data row16 col16\" >1.000000</td>\n",
       "            </tr>\n",
       "    </tbody></table>"
      ],
      "text/plain": [
       "<pandas.io.formats.style.Styler at 0x7f31011ef7f0>"
      ]
     },
     "execution_count": 21,
     "metadata": {},
     "output_type": "execute_result"
    }
   ],
   "source": [
    "# Correlation\n",
    "df = track_df.copy()\n",
    "df.corr().style.background_gradient(axis=None)"
   ]
  },
  {
   "cell_type": "code",
   "execution_count": 22,
   "metadata": {
    "collapsed": false
   },
   "outputs": [
    {
     "data": {
      "image/png": "[encoded data removed]",
      "text/plain": [
       "<Figure size 432x288 with 1 Axes>"
      ]
     },
     "metadata": {},
     "output_type": "display_data"
    }
   ],
   "source": [
    "# Scatter plot of Stringency index and Rt\n",
    "df = track_df.copy()\n",
    "sns.scatterplot(data=df, x=\"Stringency_index\", y=\"Rt\", hue=\"Country\", legend=\"brief\", marker=\"+\")\n",
    "bbox_to_anchor=(1.02, 0)\n",
    "bbox_loc=\"lower left\"\n",
    "plt.legend(bbox_to_anchor=bbox_to_anchor, loc=bbox_loc, borderaxespad=0)\n",
    "plt.title(\"Relationship of Stringency index and reproduction number\")\n",
    "plt.ylabel(\"Reproduction number\")\n",
    "plt.xlabel(\"Stringency index\")\n",
    "plt.show()"
   ]
  }
 ],
 "metadata": {
  "kernelspec": {
   "display_name": "Python 3.8.2 64-bit ('.venv': venv)",
   "name": "python_defaultSpec_1597669925034"
  },
  "language_info": {
   "codemirror_mode": {
    "name": "ipython",
    "version": 3
   },
   "file_extension": ".py",
   "mimetype": "text/x-python",
   "name": "python",
   "nbconvert_exporter": "python",
   "pygments_lexer": "ipython3",
   "version": "3.8.2-final"
  }
 },
 "nbformat": 4,
 "nbformat_minor": 4
}
