{
 "metadata": {
  "kernelspec": {
   "display_name": "Python 3.8.2 64-bit ('.venv': venv)",
   "name": "python_defaultSpec_1597669925034"
  },
  "language_info": {
   "codemirror_mode": {
    "name": "ipython",
    "version": 3
   },
   "file_extension": ".py",
   "mimetype": "text/x-python",
   "name": "python",
   "nbconvert_exporter": "python",
   "pygments_lexer": "ipython3",
   "version": "3.8.2-final"
  },
  "name": ""
 },
 "nbformat": 3,
 "nbformat_minor": 0,
 "worksheets": [
  {
   "cells": [
    {
     "cell_type": "markdown",
     "metadata": {},
     "source": [
      "# Usage: policy measures\n",
      "Here, we will analyse the relationship of policy measures and parameter values of SIR-derived ODE models. Policy measures are tracked by [Oxford Covid-19 Government Response Tracker (OxCGRT)](https://github.com/OxCGRT/covid-policy-tracker)."
     ]
    },
    {
     "cell_type": "heading",
     "level": 2,
     "metadata": {},
     "source": [
      "Preparation"
     ]
    },
    {
     "cell_type": "code",
     "collapsed": false,
     "input": [
      "# Standard users\n",
      "# !pip install covsirphy\n",
      "# Developers (Note: this notebook is in example directory)\n",
      "import os\n",
      "os.chdir(\"../\")"
     ],
     "language": "python",
     "metadata": {},
     "outputs": [],
     "prompt_number": 1
    },
    {
     "cell_type": "code",
     "collapsed": false,
     "input": [
      "from pprint import pprint"
     ],
     "language": "python",
     "metadata": {},
     "outputs": [],
     "prompt_number": 2
    },
    {
     "cell_type": "code",
     "collapsed": false,
     "input": [
      "import covsirphy as cs\n",
      "cs.__version__"
     ],
     "language": "python",
     "metadata": {},
     "outputs": [
      {
       "output_type": "pyout",
       "prompt_number": 3,
       "text": [
        "'2.15.0'"
       ]
      }
     ],
     "prompt_number": 3
    },
    {
     "cell_type": "code",
     "collapsed": false,
     "input": [
      "# Standard users and developers\n",
      "data_loader = cs.DataLoader(\"input\")\n",
      "# The number of cases (JHU style)\n",
      "jhu_data = data_loader.jhu(verbose=False)\n",
      "# Population in each country\n",
      "population_data = data_loader.population(verbose=False)\n",
      "# Government Response Tracker (OxCGRT)\n",
      "oxcgrt_data = data_loader.oxcgrt(verbose=False)\n",
      "# Description/citation\n",
      "print(oxcgrt_data.citation)"
     ],
     "language": "python",
     "metadata": {
      "tags": []
     },
     "outputs": [
      {
       "output_type": "stream",
       "stream": "stdout",
       "text": [
        "(Secondary source) Guidotti, E., Ardia, D., (2020), \"COVID-19 Data Hub\", Journal of Open Source Software 5(51):2376, doi: 10.21105/joss.02376.\n"
       ]
      }
     ],
     "prompt_number": 4
    },
    {
     "cell_type": "markdown",
     "metadata": {},
     "source": [
      "## Class for policy measure analysis\n",
      "We will `PolicyMeasures` class to find relationship of policy measures and parameter values of SIR-derived ODE models."
     ]
    },
    {
     "cell_type": "code",
     "collapsed": false,
     "input": [
      "# Create analyser with tau value 360 [min] (can be changed)\n",
      "analyser = cs.PolicyMeasures(jhu_data, population_data, oxcgrt_data, tau=360)\n",
      "# The number of registerd countries\n",
      "len(analyser.countries)"
     ],
     "language": "python",
     "metadata": {
      "tags": []
     },
     "outputs": [
      {
       "output_type": "pyout",
       "prompt_number": 5,
       "text": [
        "196"
       ]
      }
     ],
     "prompt_number": 5
    },
    {
     "cell_type": "code",
     "collapsed": false,
     "input": [
      "# We can get Scenario instance for detailed scenario analysis\n",
      "type(analyser.scenario(\"Japan\"))"
     ],
     "language": "python",
     "metadata": {},
     "outputs": [
      {
       "output_type": "pyout",
       "prompt_number": 6,
       "text": [
        "covsirphy.analysis.scenario.Scenario"
       ]
      }
     ],
     "prompt_number": 6
    },
    {
     "cell_type": "markdown",
     "metadata": {},
     "source": [
      "## Set phases with S-R trend analysis\n",
      "We will perform S-R trend analysis to set phases in all countries. Countries which do not have **19th phases** will be un-registered for the next analysis. This number will be adjusted for your analysis."
     ]
    },
    {
     "cell_type": "code",
     "collapsed": false,
     "input": [
      "# Show the number of phases of all countries\n",
      "analyser.trend()\n",
      "pprint(analyser.phase_len(), compact=True)"
     ],
     "language": "python",
     "metadata": {},
     "outputs": [
      {
       "output_type": "stream",
       "stream": "stdout",
       "text": [
        "{2: ['Holy See'],\n",
        " 3: ['Tanzania', 'Timor-Leste', 'Saint Kitts and Nevis', 'Fiji', 'Laos'],\n",
        " 4: ['Grenada', 'Dominica'],\n",
        " 6: ['Saint Vincent and the Grenadines', 'Equatorial Guinea'],\n",
        " 7: ['Brunei', 'Northern Mariana Islands'],\n",
        " 8: ['Saint Lucia', 'Slovenia', 'Kyrgyzstan', 'Liechtenstein', 'Bahamas',\n",
        "     'Mauritius'],\n",
        " 9: ['Uzbekistan', 'Guyana', 'Madagascar', 'Ethiopia', 'Antigua and Barbuda',\n",
        "     'Guam', 'Australia', 'Botswana', 'Trinidad and Tobago', 'Cambodia',\n",
        "     'Seychelles', 'Republic of the Congo', 'Papua New Guinea'],\n",
        " 10: ['Belize', 'Venezuela', 'Zimbabwe', 'Bhutan', 'Mozambique', 'Zambia',\n",
        "      'Iraq', 'Djibouti', 'Algeria', 'Nicaragua', 'Jamaica', 'Barbados',\n",
        "      'Iceland', 'Kenya', 'Angola', 'Oman', 'Vietnam', 'Kazakhstan', 'Maldives',\n",
        "      'India', 'Philippines', 'Libya', 'Sao Tome and Principe'],\n",
        " 11: ['Bangladesh', 'Singapore', 'Virgin Islands, U.S.', 'Syria', 'Rwanda',\n",
        "      'Bahrain', 'Brazil', 'Costa Rica', 'Myanmar', 'Guatemala', 'Cape Verde',\n",
        "      'Honduras', 'South Africa', 'Dominican Republic', 'New Zealand', 'Peru',\n",
        "      'Gambia', 'Ghana', 'Colombia', 'Saudi Arabia', 'Burundi', 'Mongolia',\n",
        "      'Kuwait', 'Nepal', 'Bolivia', 'Monaco', 'El Salvador', 'Chile',\n",
        "      'Paraguay', 'Benin', 'Argentina'],\n",
        " 12: ['Malta', 'Ecuador', 'Nigeria', 'Egypt', 'Suriname', \"Cote d'Ivoire\",\n",
        "      'Senegal', 'Armenia', 'Swaziland', 'Israel', 'Pakistan', 'Eritrea',\n",
        "      'Puerto Rico', 'Somalia', 'Taiwan', 'Liberia', 'Uganda', 'Montenegro',\n",
        "      'Gabon', 'Mexico', 'Lesotho', 'Morocco', 'South Sudan', 'Yemen',\n",
        "      'Cameroon', 'Namibia', 'Togo', 'Guinea'],\n",
        " 13: ['Sierra Leone', 'Qatar', 'Afghanistan', 'Panama', 'Tajikistan',\n",
        "      'Democratic Republic of the Congo', 'Niger', 'Mali', 'Bermuda', 'Kosovo',\n",
        "      'Chad', 'Palestine', 'Comoros', 'Malawi', 'San Marino', 'Moldova',\n",
        "      'Guinea-Bissau', 'Sudan', 'Bosnia and Herzegovina', 'Andorra'],\n",
        " 14: ['Georgia', 'Spain', 'Lithuania', 'China', 'United Arab Emirates',\n",
        "      'Jordan', 'Ireland', 'Japan', 'Russia', 'Cuba', 'Azerbaijan',\n",
        "      'Mauritania', 'Belarus', 'Tunisia', 'Central African Republic',\n",
        "      'Indonesia'],\n",
        " 15: ['Lebanon', 'Bulgaria', 'North Macedonia', 'Thailand', 'Albania',\n",
        "      'United States', 'Cyprus', 'Iran', 'Greece', 'Sri Lanka', 'Hungary',\n",
        "      'Belgium', 'Serbia', 'Poland', 'Latvia'],\n",
        " 16: ['Haiti', 'Uruguay', 'Croatia', 'Estonia', 'Czech Republic', 'Ukraine',\n",
        "      'Luxembourg', 'Finland', 'France', 'Burkina Faso', 'Romania'],\n",
        " 17: ['Austria', 'Netherlands', 'Slovakia', 'Denmark', 'Turkey'],\n",
        " 18: ['United Kingdom', 'Italy', 'Canada'],\n",
        " 19: ['Malaysia', 'Switzerland', 'Portugal', 'Sweden', 'Norway'],\n",
        " 20: ['Germany']}\n"
       ]
      }
     ],
     "prompt_number": 7
    },
    {
     "cell_type": "code",
     "collapsed": false,
     "input": [
      "# Set phases with S-R trend analysis\n",
      "analyser.trend(min_len=19)\n",
      "# The number of countries\n",
      "len(analyser.countries)"
     ],
     "language": "python",
     "metadata": {},
     "outputs": [
      {
       "output_type": "pyout",
       "prompt_number": 8,
       "text": [
        "6"
       ]
      }
     ],
     "prompt_number": 8
    },
    {
     "cell_type": "code",
     "collapsed": false,
     "input": [
      "phase_len_dict = analyser.phase_len()\n",
      "pprint(phase_len_dict, compact=True)"
     ],
     "language": "python",
     "metadata": {
      "tags": []
     },
     "outputs": [
      {
       "output_type": "stream",
       "stream": "stdout",
       "text": [
        "{19: ['Malaysia', 'Switzerland', 'Portugal', 'Sweden', 'Norway'],\n",
        " 20: ['Germany']}\n"
       ]
      }
     ],
     "prompt_number": 9
    },
    {
     "cell_type": "code",
     "collapsed": false,
     "input": [
      "# Here, only show the countries which have the most phases\n",
      "countries_show = max(phase_len_dict.items(), key=lambda x: x[0])[1]\n",
      "# Show summary\n",
      "analyser.summary(countries=countries_show)"
     ],
     "language": "python",
     "metadata": {
      "tags": []
     },
     "outputs": [
      {
       "html": [
        "<div>\n",
        "<style scoped>\n",
        "    .dataframe tbody tr th:only-of-type {\n",
        "        vertical-align: middle;\n",
        "    }\n",
        "\n",
        "    .dataframe tbody tr th {\n",
        "        vertical-align: top;\n",
        "    }\n",
        "\n",
        "    .dataframe thead th {\n",
        "        text-align: right;\n",
        "    }\n",
        "</style>\n",
        "<table border=\"1\" class=\"dataframe\">\n",
        "  <thead>\n",
        "    <tr style=\"text-align: right;\">\n",
        "      <th></th>\n",
        "      <th></th>\n",
        "      <th>Type</th>\n",
        "      <th>Start</th>\n",
        "      <th>End</th>\n",
        "      <th>Population</th>\n",
        "    </tr>\n",
        "    <tr>\n",
        "      <th>Country</th>\n",
        "      <th>Phase</th>\n",
        "      <th></th>\n",
        "      <th></th>\n",
        "      <th></th>\n",
        "      <th></th>\n",
        "    </tr>\n",
        "  </thead>\n",
        "  <tbody>\n",
        "    <tr>\n",
        "      <th rowspan=\"20\" valign=\"top\">Germany</th>\n",
        "      <th>0th</th>\n",
        "      <td>Past</td>\n",
        "      <td>18Jan2020</td>\n",
        "      <td>23Mar2020</td>\n",
        "      <td>82905782</td>\n",
        "    </tr>\n",
        "    <tr>\n",
        "      <th>1st</th>\n",
        "      <td>Past</td>\n",
        "      <td>24Mar2020</td>\n",
        "      <td>06Apr2020</td>\n",
        "      <td>82905782</td>\n",
        "    </tr>\n",
        "    <tr>\n",
        "      <th>2nd</th>\n",
        "      <td>Past</td>\n",
        "      <td>07Apr2020</td>\n",
        "      <td>05May2020</td>\n",
        "      <td>82905782</td>\n",
        "    </tr>\n",
        "    <tr>\n",
        "      <th>3rd</th>\n",
        "      <td>Past</td>\n",
        "      <td>06May2020</td>\n",
        "      <td>04Aug2020</td>\n",
        "      <td>82905782</td>\n",
        "    </tr>\n",
        "    <tr>\n",
        "      <th>4th</th>\n",
        "      <td>Past</td>\n",
        "      <td>05Aug2020</td>\n",
        "      <td>12Sep2020</td>\n",
        "      <td>82905782</td>\n",
        "    </tr>\n",
        "    <tr>\n",
        "      <th>5th</th>\n",
        "      <td>Past</td>\n",
        "      <td>13Sep2020</td>\n",
        "      <td>07Oct2020</td>\n",
        "      <td>82905782</td>\n",
        "    </tr>\n",
        "    <tr>\n",
        "      <th>6th</th>\n",
        "      <td>Past</td>\n",
        "      <td>08Oct2020</td>\n",
        "      <td>20Oct2020</td>\n",
        "      <td>82905782</td>\n",
        "    </tr>\n",
        "    <tr>\n",
        "      <th>7th</th>\n",
        "      <td>Past</td>\n",
        "      <td>21Oct2020</td>\n",
        "      <td>27Oct2020</td>\n",
        "      <td>82905782</td>\n",
        "    </tr>\n",
        "    <tr>\n",
        "      <th>8th</th>\n",
        "      <td>Past</td>\n",
        "      <td>28Oct2020</td>\n",
        "      <td>03Nov2020</td>\n",
        "      <td>82905782</td>\n",
        "    </tr>\n",
        "    <tr>\n",
        "      <th>9th</th>\n",
        "      <td>Past</td>\n",
        "      <td>04Nov2020</td>\n",
        "      <td>10Nov2020</td>\n",
        "      <td>82905782</td>\n",
        "    </tr>\n",
        "    <tr>\n",
        "      <th>10th</th>\n",
        "      <td>Past</td>\n",
        "      <td>11Nov2020</td>\n",
        "      <td>17Nov2020</td>\n",
        "      <td>82905782</td>\n",
        "    </tr>\n",
        "    <tr>\n",
        "      <th>11th</th>\n",
        "      <td>Past</td>\n",
        "      <td>18Nov2020</td>\n",
        "      <td>24Nov2020</td>\n",
        "      <td>82905782</td>\n",
        "    </tr>\n",
        "    <tr>\n",
        "      <th>12th</th>\n",
        "      <td>Past</td>\n",
        "      <td>25Nov2020</td>\n",
        "      <td>01Dec2020</td>\n",
        "      <td>82905782</td>\n",
        "    </tr>\n",
        "    <tr>\n",
        "      <th>13th</th>\n",
        "      <td>Past</td>\n",
        "      <td>02Dec2020</td>\n",
        "      <td>08Dec2020</td>\n",
        "      <td>82905782</td>\n",
        "    </tr>\n",
        "    <tr>\n",
        "      <th>14th</th>\n",
        "      <td>Past</td>\n",
        "      <td>09Dec2020</td>\n",
        "      <td>15Dec2020</td>\n",
        "      <td>82905782</td>\n",
        "    </tr>\n",
        "    <tr>\n",
        "      <th>15th</th>\n",
        "      <td>Past</td>\n",
        "      <td>16Dec2020</td>\n",
        "      <td>21Dec2020</td>\n",
        "      <td>82905782</td>\n",
        "    </tr>\n",
        "    <tr>\n",
        "      <th>16th</th>\n",
        "      <td>Past</td>\n",
        "      <td>22Dec2020</td>\n",
        "      <td>28Dec2020</td>\n",
        "      <td>82905782</td>\n",
        "    </tr>\n",
        "    <tr>\n",
        "      <th>17th</th>\n",
        "      <td>Past</td>\n",
        "      <td>29Dec2020</td>\n",
        "      <td>04Jan2021</td>\n",
        "      <td>82905782</td>\n",
        "    </tr>\n",
        "    <tr>\n",
        "      <th>18th</th>\n",
        "      <td>Past</td>\n",
        "      <td>05Jan2021</td>\n",
        "      <td>11Jan2021</td>\n",
        "      <td>82905782</td>\n",
        "    </tr>\n",
        "    <tr>\n",
        "      <th>19th</th>\n",
        "      <td>Past</td>\n",
        "      <td>12Jan2021</td>\n",
        "      <td>18Jan2021</td>\n",
        "      <td>82905782</td>\n",
        "    </tr>\n",
        "  </tbody>\n",
        "</table>\n",
        "</div>"
       ],
       "output_type": "pyout",
       "prompt_number": 10,
       "text": [
        "               Type      Start        End  Population\n",
        "Country Phase                                        \n",
        "Germany 0th    Past  18Jan2020  23Mar2020    82905782\n",
        "        1st    Past  24Mar2020  06Apr2020    82905782\n",
        "        2nd    Past  07Apr2020  05May2020    82905782\n",
        "        3rd    Past  06May2020  04Aug2020    82905782\n",
        "        4th    Past  05Aug2020  12Sep2020    82905782\n",
        "        5th    Past  13Sep2020  07Oct2020    82905782\n",
        "        6th    Past  08Oct2020  20Oct2020    82905782\n",
        "        7th    Past  21Oct2020  27Oct2020    82905782\n",
        "        8th    Past  28Oct2020  03Nov2020    82905782\n",
        "        9th    Past  04Nov2020  10Nov2020    82905782\n",
        "        10th   Past  11Nov2020  17Nov2020    82905782\n",
        "        11th   Past  18Nov2020  24Nov2020    82905782\n",
        "        12th   Past  25Nov2020  01Dec2020    82905782\n",
        "        13th   Past  02Dec2020  08Dec2020    82905782\n",
        "        14th   Past  09Dec2020  15Dec2020    82905782\n",
        "        15th   Past  16Dec2020  21Dec2020    82905782\n",
        "        16th   Past  22Dec2020  28Dec2020    82905782\n",
        "        17th   Past  29Dec2020  04Jan2021    82905782\n",
        "        18th   Past  05Jan2021  11Jan2021    82905782\n",
        "        19th   Past  12Jan2021  18Jan2021    82905782"
       ]
      }
     ],
     "prompt_number": 10
    },
    {
     "cell_type": "markdown",
     "metadata": {},
     "source": [
      "## Parameter estimation\n",
      "we will estimate the parameter values with SIR-derived ODE models in each country."
     ]
    },
    {
     "cell_type": "code",
     "collapsed": false,
     "input": [
      "# Parameter estimation with SIR-F model\n",
      "analyser.estimate(cs.SIRF, timeout=10)"
     ],
     "language": "python",
     "metadata": {
      "tags": []
     },
     "outputs": [
      {
       "output_type": "stream",
       "stream": "stdout",
       "text": [
        "\n",
        "<SIR-F model: parameter estimation>\n",
        "Running optimization with 4 CPUs...\n"
       ]
      },
      {
       "output_type": "stream",
       "stream": "stdout",
       "text": [
        "\tSWE, 17th phase (04Jan2021 - 09Jan2021): finished  338 trials in 0 min 10 sec"
       ]
      },
      {
       "output_type": "stream",
       "stream": "stdout",
       "text": [
        "\n"
       ]
      },
      {
       "output_type": "stream",
       "stream": "stdout",
       "text": [
        "\tNOR,  1st phase (22Mar2020 - 05Apr2020): finished  334 trials in 0 min 10 sec"
       ]
      },
      {
       "output_type": "stream",
       "stream": "stdout",
       "text": [
        "\n"
       ]
      },
      {
       "output_type": "stream",
       "stream": "stdout",
       "text": [
        "\tMYS, 18th phase (12Jan2021 - 18Jan2021): finished  335 trials in 0 min 10 sec"
       ]
      },
      {
       "output_type": "stream",
       "stream": "stdout",
       "text": [
        "\n"
       ]
      },
      {
       "output_type": "stream",
       "stream": "stdout",
       "text": [
        "\tDEU, 11th phase (18Nov2020 - 24Nov2020): finished  332 trials in 0 min 10 sec"
       ]
      },
      {
       "output_type": "stream",
       "stream": "stdout",
       "text": [
        "\n"
       ]
      },
      {
       "output_type": "stream",
       "stream": "stdout",
       "text": [
        "\tMYS,  6th phase (13Oct2020 - 18Oct2020): finished  342 trials in 0 min 10 sec"
       ]
      },
      {
       "output_type": "stream",
       "stream": "stdout",
       "text": [
        "\n"
       ]
      },
      {
       "output_type": "stream",
       "stream": "stdout",
       "text": [
        "\tMYS, 11th phase (18Nov2020 - 28Nov2020): finished  339 trials in 0 min 10 sec"
       ]
      },
      {
       "output_type": "stream",
       "stream": "stdout",
       "text": [
        "\n"
       ]
      },
      {
       "output_type": "stream",
       "stream": "stdout",
       "text": [
        "\tPRT,  8th phase (30Oct2020 - 05Nov2020): finished  338 trials in 0 min 10 sec"
       ]
      },
      {
       "output_type": "stream",
       "stream": "stdout",
       "text": [
        "\n"
       ]
      },
      {
       "output_type": "stream",
       "stream": "stdout",
       "text": [
        "\tDEU, 10th phase (11Nov2020 - 17Nov2020): finished  337 trials in 0 min 10 sec"
       ]
      },
      {
       "output_type": "stream",
       "stream": "stdout",
       "text": [
        "\n"
       ]
      },
      {
       "output_type": "stream",
       "stream": "stdout",
       "text": [
        "\tCHE, 11th phase (24Nov2020 - 30Nov2020): finished  342 trials in 0 min 10 sec"
       ]
      },
      {
       "output_type": "stream",
       "stream": "stdout",
       "text": [
        "\n"
       ]
      },
      {
       "output_type": "stream",
       "stream": "stdout",
       "text": [
        "\tDEU,  7th phase (21Oct2020 - 27Oct2020): finished  342 trials in 0 min 10 sec"
       ]
      },
      {
       "output_type": "stream",
       "stream": "stdout",
       "text": [
        "\n"
       ]
      },
      {
       "output_type": "stream",
       "stream": "stdout",
       "text": [
        "\tDEU,  5th phase (13Sep2020 - 07Oct2020): finished  332 trials in 0 min 10 sec"
       ]
      },
      {
       "output_type": "stream",
       "stream": "stdout",
       "text": [
        "\n"
       ]
      },
      {
       "output_type": "stream",
       "stream": "stdout",
       "text": [
        "\tDEU,  6th phase (08Oct2020 - 20Oct2020): finished  336 trials in 0 min 10 sec"
       ]
      },
      {
       "output_type": "stream",
       "stream": "stdout",
       "text": [
        "\n"
       ]
      },
      {
       "output_type": "stream",
       "stream": "stdout",
       "text": [
        "\tNOR, 15th phase (21Dec2020 - 28Dec2020): finished  317 trials in 0 min 10 sec"
       ]
      },
      {
       "output_type": "stream",
       "stream": "stdout",
       "text": [
        "\n"
       ]
      },
      {
       "output_type": "stream",
       "stream": "stdout",
       "text": [
        "\tPRT, 11th phase (19Nov2020 - 24Nov2020): finished  314 trials in 0 min 10 sec"
       ]
      },
      {
       "output_type": "stream",
       "stream": "stdout",
       "text": [
        "\n"
       ]
      },
      {
       "output_type": "stream",
       "stream": "stdout",
       "text": [
        "\tSWE,  4th phase (25Jun2020 - 12Aug2020): finished  300 trials in 0 min 10 sec"
       ]
      },
      {
       "output_type": "stream",
       "stream": "stdout",
       "text": [
        "\n"
       ]
      },
      {
       "output_type": "stream",
       "stream": "stdout",
       "text": [
        "\tMYS,  7th phase (19Oct2020 - 24Oct2020): finished  315 trials in 0 min 10 sec"
       ]
      },
      {
       "output_type": "stream",
       "stream": "stdout",
       "text": [
        "\n"
       ]
      },
      {
       "output_type": "stream",
       "stream": "stdout",
       "text": [
        "\tMYS, 13th phase (05Dec2020 - 14Dec2020): finished  339 trials in 0 min 10 sec"
       ]
      },
      {
       "output_type": "stream",
       "stream": "stdout",
       "text": [
        "\n"
       ]
      },
      {
       "output_type": "stream",
       "stream": "stdout",
       "text": [
        "\tPRT, 14th phase (10Dec2020 - 15Dec2020): finished  339 trials in 0 min 10 sec"
       ]
      },
      {
       "output_type": "stream",
       "stream": "stdout",
       "text": [
        "\n"
       ]
      },
      {
       "output_type": "stream",
       "stream": "stdout",
       "text": [
        "\tCHE,  3rd phase (03Aug2020 - 07Sep2020): finished  329 trials in 0 min 10 sec"
       ]
      },
      {
       "output_type": "stream",
       "stream": "stdout",
       "text": [
        "\n"
       ]
      },
      {
       "output_type": "stream",
       "stream": "stdout",
       "text": [
        "\tNOR, 17th phase (05Jan2021 - 10Jan2021): finished  337 trials in 0 min 10 sec"
       ]
      },
      {
       "output_type": "stream",
       "stream": "stdout",
       "text": [
        "\n"
       ]
      },
      {
       "output_type": "stream",
       "stream": "stdout",
       "text": [
        "\tSWE,  0th phase (20Feb2020 - 15Apr2020): finished  335 trials in 0 min 10 sec"
       ]
      },
      {
       "output_type": "stream",
       "stream": "stdout",
       "text": [
        "\n"
       ]
      },
      {
       "output_type": "stream",
       "stream": "stdout",
       "text": [
        "\tNOR,  4th phase (06Aug2020 - 02Sep2020): finished  332 trials in 0 min 10 sec"
       ]
      },
      {
       "output_type": "stream",
       "stream": "stdout",
       "text": [
        "\n"
       ]
      },
      {
       "output_type": "stream",
       "stream": "stdout",
       "text": [
        "\tDEU, 15th phase (16Dec2020 - 21Dec2020): finished  339 trials in 0 min 10 sec"
       ]
      },
      {
       "output_type": "stream",
       "stream": "stdout",
       "text": [
        "\n"
       ]
      },
      {
       "output_type": "stream",
       "stream": "stdout",
       "text": [
        "\tCHE, 15th phase (21Dec2020 - 27Dec2020): finished  337 trials in 0 min 10 sec"
       ]
      },
      {
       "output_type": "stream",
       "stream": "stdout",
       "text": [
        "\n"
       ]
      },
      {
       "output_type": "stream",
       "stream": "stdout",
       "text": [
        "\tSWE,  7th phase (27Oct2020 - 03Nov2020): finished  341 trials in 0 min 10 sec"
       ]
      },
      {
       "output_type": "stream",
       "stream": "stdout",
       "text": [
        "\n"
       ]
      },
      {
       "output_type": "stream",
       "stream": "stdout",
       "text": [
        "\tNOR,  0th phase (08Mar2020 - 21Mar2020): finished  334 trials in 0 min 10 sec"
       ]
      },
      {
       "output_type": "stream",
       "stream": "stdout",
       "text": [
        "\n"
       ]
      },
      {
       "output_type": "stream",
       "stream": "stdout",
       "text": [
        "\tSWE,  6th phase (05Oct2020 - 26Oct2020): finished  332 trials in 0 min 10 sec"
       ]
      },
      {
       "output_type": "stream",
       "stream": "stdout",
       "text": [
        "\n"
       ]
      },
      {
       "output_type": "stream",
       "stream": "stdout",
       "text": [
        "\tPRT,  2nd phase (22May2020 - 02Jul2020): finished  321 trials in 0 min 10 sec"
       ]
      },
      {
       "output_type": "stream",
       "stream": "stdout",
       "text": [
        "\n"
       ]
      },
      {
       "output_type": "stream",
       "stream": "stdout",
       "text": [
        "\tPRT, 17th phase (31Dec2020 - 06Jan2021): finished  333 trials in 0 min 10 sec"
       ]
      },
      {
       "output_type": "stream",
       "stream": "stdout",
       "text": [
        "\n"
       ]
      },
      {
       "output_type": "stream",
       "stream": "stdout",
       "text": [
        "\tNOR, 11th phase (15Nov2020 - 23Nov2020): finished  331 trials in 0 min 10 sec"
       ]
      },
      {
       "output_type": "stream",
       "stream": "stdout",
       "text": [
        "\n"
       ]
      },
      {
       "output_type": "stream",
       "stream": "stdout",
       "text": [
        "\tPRT, 15th phase (16Dec2020 - 22Dec2020): finished  335 trials in 0 min 10 sec"
       ]
      },
      {
       "output_type": "stream",
       "stream": "stdout",
       "text": [
        "\n"
       ]
      },
      {
       "output_type": "stream",
       "stream": "stdout",
       "text": [
        "\tNOR,  9th phase (02Nov2020 - 08Nov2020): finished  335 trials in 0 min 10 sec"
       ]
      },
      {
       "output_type": "stream",
       "stream": "stdout",
       "text": [
        "\n"
       ]
      },
      {
       "output_type": "stream",
       "stream": "stdout",
       "text": [
        "\tMYS, 12th phase (29Nov2020 - 04Dec2020): finished  339 trials in 0 min 10 sec"
       ]
      },
      {
       "output_type": "stream",
       "stream": "stdout",
       "text": [
        "\n"
       ]
      },
      {
       "output_type": "stream",
       "stream": "stdout",
       "text": [
        "\tMYS,  4th phase (12Sep2020 - 04Oct2020): finished  332 trials in 0 min 10 sec"
       ]
      },
      {
       "output_type": "stream",
       "stream": "stdout",
       "text": [
        "\n"
       ]
      },
      {
       "output_type": "stream",
       "stream": "stdout",
       "text": [
        "\tNOR, 12th phase (24Nov2020 - 02Dec2020): finished  335 trials in 0 min 10 sec"
       ]
      },
      {
       "output_type": "stream",
       "stream": "stdout",
       "text": [
        "\n"
       ]
      },
      {
       "output_type": "stream",
       "stream": "stdout",
       "text": [
        "\tSWE,  2nd phase (13May2020 - 07Jun2020): finished  328 trials in 0 min 10 sec"
       ]
      },
      {
       "output_type": "stream",
       "stream": "stdout",
       "text": [
        "\n"
       ]
      },
      {
       "output_type": "stream",
       "stream": "stdout",
       "text": [
        "\tPRT,  7th phase (23Oct2020 - 29Oct2020): finished  332 trials in 0 min 10 sec"
       ]
      },
      {
       "output_type": "stream",
       "stream": "stdout",
       "text": [
        "\n"
       ]
      },
      {
       "output_type": "stream",
       "stream": "stdout",
       "text": [
        "\tCHE,  4th phase (08Sep2020 - 05Oct2020): finished  324 trials in 0 min 10 sec"
       ]
      },
      {
       "output_type": "stream",
       "stream": "stdout",
       "text": [
        "\n"
       ]
      },
      {
       "output_type": "stream",
       "stream": "stdout",
       "text": [
        "\tPRT,  6th phase (13Oct2020 - 22Oct2020): finished  331 trials in 0 min 10 sec"
       ]
      },
      {
       "output_type": "stream",
       "stream": "stdout",
       "text": [
        "\n"
       ]
      },
      {
       "output_type": "stream",
       "stream": "stdout",
       "text": [
        "\tNOR, 14th phase (13Dec2020 - 20Dec2020): finished  332 trials in 0 min 10 sec"
       ]
      },
      {
       "output_type": "stream",
       "stream": "stdout",
       "text": [
        "\n"
       ]
      },
      {
       "output_type": "stream",
       "stream": "stdout",
       "text": [
        "\tMYS,  8th phase (25Oct2020 - 30Oct2020): finished  336 trials in 0 min 10 sec"
       ]
      },
      {
       "output_type": "stream",
       "stream": "stdout",
       "text": [
        "\n"
       ]
      },
      {
       "output_type": "stream",
       "stream": "stdout",
       "text": [
        "\tDEU,  4th phase (05Aug2020 - 12Sep2020): finished  323 trials in 0 min 10 sec"
       ]
      },
      {
       "output_type": "stream",
       "stream": "stdout",
       "text": [
        "\n"
       ]
      },
      {
       "output_type": "stream",
       "stream": "stdout",
       "text": [
        "\tNOR,  5th phase (03Sep2020 - 20Sep2020): finished  331 trials in 0 min 10 sec"
       ]
      },
      {
       "output_type": "stream",
       "stream": "stdout",
       "text": [
        "\n"
       ]
      },
      {
       "output_type": "stream",
       "stream": "stdout",
       "text": [
        "\tMYS,  9th phase (31Oct2020 - 11Nov2020): finished  333 trials in 0 min 10 sec"
       ]
      },
      {
       "output_type": "stream",
       "stream": "stdout",
       "text": [
        "\n"
       ]
      },
      {
       "output_type": "stream",
       "stream": "stdout",
       "text": [
        "\tDEU,  8th phase (28Oct2020 - 03Nov2020): finished  335 trials in 0 min 10 sec"
       ]
      },
      {
       "output_type": "stream",
       "stream": "stdout",
       "text": [
        "\n"
       ]
      },
      {
       "output_type": "stream",
       "stream": "stdout",
       "text": [
        "\tPRT,  4th phase (28Aug2020 - 23Sep2020): finished  327 trials in 0 min 10 sec"
       ]
      },
      {
       "output_type": "stream",
       "stream": "stdout",
       "text": [
        "\n"
       ]
      },
      {
       "output_type": "stream",
       "stream": "stdout",
       "text": [
        "\tMYS,  0th phase (07Feb2020 - 25Mar2020): finished  321 trials in 0 min 10 sec"
       ]
      },
      {
       "output_type": "stream",
       "stream": "stdout",
       "text": [
        "\n"
       ]
      },
      {
       "output_type": "stream",
       "stream": "stdout",
       "text": [
        "\tDEU, 13th phase (02Dec2020 - 08Dec2020): finished  335 trials in 0 min 10 sec"
       ]
      },
      {
       "output_type": "stream",
       "stream": "stdout",
       "text": [
        "\n"
       ]
      },
      {
       "output_type": "stream",
       "stream": "stdout",
       "text": [
        "\tCHE, 13th phase (08Dec2020 - 13Dec2020): finished  335 trials in 0 min 10 sec"
       ]
      },
      {
       "output_type": "stream",
       "stream": "stdout",
       "text": [
        "\n"
       ]
      },
      {
       "output_type": "stream",
       "stream": "stdout",
       "text": [
        "\tDEU,  2nd phase (07Apr2020 - 05May2020): finished  324 trials in 0 min 10 sec"
       ]
      },
      {
       "output_type": "stream",
       "stream": "stdout",
       "text": [
        "\n"
       ]
      },
      {
       "output_type": "stream",
       "stream": "stdout",
       "text": [
        "\tDEU,  9th phase (04Nov2020 - 10Nov2020): finished  334 trials in 0 min 10 sec"
       ]
      },
      {
       "output_type": "stream",
       "stream": "stdout",
       "text": [
        "\n"
       ]
      },
      {
       "output_type": "stream",
       "stream": "stdout",
       "text": [
        "\tDEU, 16th phase (22Dec2020 - 28Dec2020): finished  334 trials in 0 min 10 sec"
       ]
      },
      {
       "output_type": "stream",
       "stream": "stdout",
       "text": [
        "\n"
       ]
      },
      {
       "output_type": "stream",
       "stream": "stdout",
       "text": [
        "\tMYS, 15th phase (21Dec2020 - 26Dec2020): finished  334 trials in 0 min 10 sec"
       ]
      },
      {
       "output_type": "stream",
       "stream": "stdout",
       "text": [
        "\n"
       ]
      },
      {
       "output_type": "stream",
       "stream": "stdout",
       "text": [
        "\tCHE,  9th phase (06Nov2020 - 16Nov2020): finished  328 trials in 0 min 10 sec"
       ]
      },
      {
       "output_type": "stream",
       "stream": "stdout",
       "text": [
        "\n"
       ]
      },
      {
       "output_type": "stream",
       "stream": "stdout",
       "text": [
        "\tPRT, 18th phase (07Jan2021 - 18Jan2021): finished  328 trials in 0 min 10 sec"
       ]
      },
      {
       "output_type": "stream",
       "stream": "stdout",
       "text": [
        "\n"
       ]
      },
      {
       "output_type": "stream",
       "stream": "stdout",
       "text": [
        "\tMYS, 14th phase (15Dec2020 - 20Dec2020): finished  327 trials in 0 min 10 sec"
       ]
      },
      {
       "output_type": "stream",
       "stream": "stdout",
       "text": [
        "\n"
       ]
      },
      {
       "output_type": "stream",
       "stream": "stdout",
       "text": [
        "\tPRT, 16th phase (23Dec2020 - 30Dec2020): finished  311 trials in 0 min 10 sec"
       ]
      },
      {
       "output_type": "stream",
       "stream": "stdout",
       "text": [
        "\n"
       ]
      },
      {
       "output_type": "stream",
       "stream": "stdout",
       "text": [
        "\tNOR,  7th phase (08Oct2020 - 24Oct2020): finished  305 trials in 0 min 10 sec"
       ]
      },
      {
       "output_type": "stream",
       "stream": "stdout",
       "text": [
        "\n"
       ]
      },
      {
       "output_type": "stream",
       "stream": "stdout",
       "text": [
        "\tSWE,  5th phase (13Aug2020 - 04Oct2020): finished  293 trials in 0 min 10 sec"
       ]
      },
      {
       "output_type": "stream",
       "stream": "stdout",
       "text": [
        "\n"
       ]
      },
      {
       "output_type": "stream",
       "stream": "stdout",
       "text": [
        "\tSWE,  1st phase (16Apr2020 - 12May2020): finished  308 trials in 0 min 10 sec"
       ]
      },
      {
       "output_type": "stream",
       "stream": "stdout",
       "text": [
        "\n"
       ]
      },
      {
       "output_type": "stream",
       "stream": "stdout",
       "text": [
        "\tNOR, 18th phase (11Jan2021 - 18Jan2021): finished  335 trials in 0 min 10 sec"
       ]
      },
      {
       "output_type": "stream",
       "stream": "stdout",
       "text": [
        "\n"
       ]
      },
      {
       "output_type": "stream",
       "stream": "stdout",
       "text": [
        "\tMYS,  2nd phase (13Apr2020 - 24May2020): finished  322 trials in 0 min 10 sec"
       ]
      },
      {
       "output_type": "stream",
       "stream": "stdout",
       "text": [
        "\n"
       ]
      },
      {
       "output_type": "stream",
       "stream": "stdout",
       "text": [
        "\tCHE, 10th phase (17Nov2020 - 23Nov2020): finished  336 trials in 0 min 10 sec"
       ]
      },
      {
       "output_type": "stream",
       "stream": "stdout",
       "text": [
        "\n"
       ]
      },
      {
       "output_type": "stream",
       "stream": "stdout",
       "text": [
        "\tCHE,  8th phase (27Oct2020 - 05Nov2020): finished  334 trials in 0 min 10 sec"
       ]
      },
      {
       "output_type": "stream",
       "stream": "stdout",
       "text": [
        "\n"
       ]
      },
      {
       "output_type": "stream",
       "stream": "stdout",
       "text": [
        "\tMYS, 10th phase (12Nov2020 - 17Nov2020): finished  337 trials in 0 min 10 sec"
       ]
      },
      {
       "output_type": "stream",
       "stream": "stdout",
       "text": [
        "\n"
       ]
      },
      {
       "output_type": "stream",
       "stream": "stdout",
       "text": [
        "\tNOR,  3rd phase (02May2020 - 05Aug2020): finished  305 trials in 0 min 10 sec"
       ]
      },
      {
       "output_type": "stream",
       "stream": "stdout",
       "text": [
        "\n"
       ]
      },
      {
       "output_type": "stream",
       "stream": "stdout",
       "text": [
        "\tMYS,  1st phase (26Mar2020 - 12Apr2020): finished  331 trials in 0 min 10 sec"
       ]
      },
      {
       "output_type": "stream",
       "stream": "stdout",
       "text": [
        "\n"
       ]
      },
      {
       "output_type": "stream",
       "stream": "stdout",
       "text": [
        "\tPRT, 13th phase (03Dec2020 - 09Dec2020): finished  336 trials in 0 min 10 sec"
       ]
      },
      {
       "output_type": "stream",
       "stream": "stdout",
       "text": [
        "\n"
       ]
      },
      {
       "output_type": "stream",
       "stream": "stdout",
       "text": [
        "\tCHE, 16th phase (28Dec2020 - 02Jan2021): finished  338 trials in 0 min 10 sec"
       ]
      },
      {
       "output_type": "stream",
       "stream": "stdout",
       "text": [
        "\n"
       ]
      },
      {
       "output_type": "stream",
       "stream": "stdout",
       "text": [
        "\tCHE, 14th phase (14Dec2020 - 20Dec2020): finished  336 trials in 0 min 10 sec"
       ]
      },
      {
       "output_type": "stream",
       "stream": "stdout",
       "text": [
        "\n"
       ]
      },
      {
       "output_type": "stream",
       "stream": "stdout",
       "text": [
        "\tCHE,  6th phase (15Oct2020 - 20Oct2020): finished  337 trials in 0 min 10 sec"
       ]
      },
      {
       "output_type": "stream",
       "stream": "stdout",
       "text": [
        "\n"
       ]
      },
      {
       "output_type": "stream",
       "stream": "stdout",
       "text": [
        "\tCHE,  2nd phase (07Apr2020 - 02Aug2020): finished  301 trials in 0 min 10 sec"
       ]
      },
      {
       "output_type": "stream",
       "stream": "stdout",
       "text": [
        "\n"
       ]
      },
      {
       "output_type": "stream",
       "stream": "stdout",
       "text": [
        "\tSWE, 16th phase (29Dec2020 - 03Jan2021): finished  336 trials in 0 min 10 sec"
       ]
      },
      {
       "output_type": "stream",
       "stream": "stdout",
       "text": [
        "\n"
       ]
      },
      {
       "output_type": "stream",
       "stream": "stdout",
       "text": [
        "\tPRT, 10th phase (13Nov2020 - 18Nov2020): finished  335 trials in 0 min 10 sec"
       ]
      },
      {
       "output_type": "stream",
       "stream": "stdout",
       "text": [
        "\n"
       ]
      },
      {
       "output_type": "stream",
       "stream": "stdout",
       "text": [
        "\tPRT,  0th phase (14Mar2020 - 08Apr2020): finished  325 trials in 0 min 10 sec"
       ]
      },
      {
       "output_type": "stream",
       "stream": "stdout",
       "text": [
        "\n"
       ]
      },
      {
       "output_type": "stream",
       "stream": "stdout",
       "text": [
        "\tDEU, 12th phase (25Nov2020 - 01Dec2020): finished  336 trials in 0 min 10 sec"
       ]
      },
      {
       "output_type": "stream",
       "stream": "stdout",
       "text": [
        "\n"
       ]
      },
      {
       "output_type": "stream",
       "stream": "stdout",
       "text": [
        "\tDEU,  3rd phase (06May2020 - 04Aug2020): finished  309 trials in 0 min 10 sec"
       ]
      },
      {
       "output_type": "stream",
       "stream": "stdout",
       "text": [
        "\n"
       ]
      },
      {
       "output_type": "stream",
       "stream": "stdout",
       "text": [
        "\tDEU, 14th phase (09Dec2020 - 15Dec2020): finished  336 trials in 0 min 10 sec"
       ]
      },
      {
       "output_type": "stream",
       "stream": "stdout",
       "text": [
        "\n"
       ]
      },
      {
       "output_type": "stream",
       "stream": "stdout",
       "text": [
        "\tNOR, 10th phase (09Nov2020 - 14Nov2020): finished  337 trials in 0 min 10 sec"
       ]
      },
      {
       "output_type": "stream",
       "stream": "stdout",
       "text": [
        "\n"
       ]
      },
      {
       "output_type": "stream",
       "stream": "stdout",
       "text": [
        "\tPRT,  3rd phase (03Jul2020 - 27Aug2020): finished  320 trials in 0 min 10 sec"
       ]
      },
      {
       "output_type": "stream",
       "stream": "stdout",
       "text": [
        "\n"
       ]
      },
      {
       "output_type": "stream",
       "stream": "stdout",
       "text": [
        "\tCHE,  1st phase (23Mar2020 - 06Apr2020): finished  327 trials in 0 min 10 sec"
       ]
      },
      {
       "output_type": "stream",
       "stream": "stdout",
       "text": [
        "\n"
       ]
      },
      {
       "output_type": "stream",
       "stream": "stdout",
       "text": [
        "\tCHE, 12th phase (01Dec2020 - 07Dec2020): finished  330 trials in 0 min 10 sec"
       ]
      },
      {
       "output_type": "stream",
       "stream": "stdout",
       "text": [
        "\n"
       ]
      },
      {
       "output_type": "stream",
       "stream": "stdout",
       "text": [
        "\tCHE, 18th phase (10Jan2021 - 18Jan2021): finished  328 trials in 0 min 10 sec"
       ]
      },
      {
       "output_type": "stream",
       "stream": "stdout",
       "text": [
        "\n"
       ]
      },
      {
       "output_type": "stream",
       "stream": "stdout",
       "text": [
        "\tDEU,  1st phase (24Mar2020 - 06Apr2020): finished  324 trials in 0 min 10 sec"
       ]
      },
      {
       "output_type": "stream",
       "stream": "stdout",
       "text": [
        "\n"
       ]
      },
      {
       "output_type": "stream",
       "stream": "stdout",
       "text": [
        "\tMYS,  3rd phase (25May2020 - 11Sep2020): finished  319 trials in 0 min 10 sec"
       ]
      },
      {
       "output_type": "stream",
       "stream": "stdout",
       "text": [
        "\n"
       ]
      },
      {
       "output_type": "stream",
       "stream": "stdout",
       "text": [
        "\tPRT,  9th phase (06Nov2020 - 12Nov2020): finished  351 trials in 0 min 10 sec"
       ]
      },
      {
       "output_type": "stream",
       "stream": "stdout",
       "text": [
        "\n"
       ]
      },
      {
       "output_type": "stream",
       "stream": "stdout",
       "text": [
        "\tCHE,  7th phase (21Oct2020 - 26Oct2020): finished  351 trials in 0 min 10 sec"
       ]
      },
      {
       "output_type": "stream",
       "stream": "stdout",
       "text": [
        "\n"
       ]
      },
      {
       "output_type": "stream",
       "stream": "stdout",
       "text": [
        "\tCHE,  0th phase (03Mar2020 - 22Mar2020): finished  347 trials in 0 min 10 sec"
       ]
      },
      {
       "output_type": "stream",
       "stream": "stdout",
       "text": [
        "\n"
       ]
      },
      {
       "output_type": "stream",
       "stream": "stdout",
       "text": [
        "\tNOR,  8th phase (25Oct2020 - 01Nov2020): finished  352 trials in 0 min 10 sec"
       ]
      },
      {
       "output_type": "stream",
       "stream": "stdout",
       "text": [
        "\n"
       ]
      },
      {
       "output_type": "stream",
       "stream": "stdout",
       "text": [
        "\tMYS,  5th phase (05Oct2020 - 12Oct2020): finished  350 trials in 0 min 10 sec"
       ]
      },
      {
       "output_type": "stream",
       "stream": "stdout",
       "text": [
        "\n"
       ]
      },
      {
       "output_type": "stream",
       "stream": "stdout",
       "text": [
        "\tNOR,  6th phase (21Sep2020 - 07Oct2020): finished  350 trials in 0 min 10 sec"
       ]
      },
      {
       "output_type": "stream",
       "stream": "stdout",
       "text": [
        "\n"
       ]
      },
      {
       "output_type": "stream",
       "stream": "stdout",
       "text": [
        "\tDEU, 18th phase (05Jan2021 - 11Jan2021): finished  354 trials in 0 min 10 sec"
       ]
      },
      {
       "output_type": "stream",
       "stream": "stdout",
       "text": [
        "\n"
       ]
      },
      {
       "output_type": "stream",
       "stream": "stdout",
       "text": [
        "\tDEU,  0th phase (18Jan2020 - 23Mar2020): finished  332 trials in 0 min 10 sec"
       ]
      },
      {
       "output_type": "stream",
       "stream": "stdout",
       "text": [
        "\n"
       ]
      },
      {
       "output_type": "stream",
       "stream": "stdout",
       "text": [
        "\tPRT, 12th phase (25Nov2020 - 02Dec2020): finished  354 trials in 0 min 10 sec"
       ]
      },
      {
       "output_type": "stream",
       "stream": "stdout",
       "text": [
        "\n"
       ]
      },
      {
       "output_type": "stream",
       "stream": "stdout",
       "text": [
        "\tMYS, 16th phase (27Dec2020 - 05Jan2021): finished  353 trials in 0 min 10 sec"
       ]
      },
      {
       "output_type": "stream",
       "stream": "stdout",
       "text": [
        "\n"
       ]
      },
      {
       "output_type": "stream",
       "stream": "stdout",
       "text": [
        "\tNOR, 13th phase (03Dec2020 - 12Dec2020): finished  349 trials in 0 min 10 sec"
       ]
      },
      {
       "output_type": "stream",
       "stream": "stdout",
       "text": [
        "\n"
       ]
      },
      {
       "output_type": "stream",
       "stream": "stdout",
       "text": [
        "\tPRT,  1st phase (09Apr2020 - 21May2020): finished  320 trials in 0 min 10 sec"
       ]
      },
      {
       "output_type": "stream",
       "stream": "stdout",
       "text": [
        "\n"
       ]
      },
      {
       "output_type": "stream",
       "stream": "stdout",
       "text": [
        "\tPRT,  5th phase (24Sep2020 - 12Oct2020): finished  323 trials in 0 min 10 sec"
       ]
      },
      {
       "output_type": "stream",
       "stream": "stdout",
       "text": [
        "\n"
       ]
      },
      {
       "output_type": "stream",
       "stream": "stdout",
       "text": [
        "\tSWE,  3rd phase (08Jun2020 - 24Jun2020): finished  322 trials in 0 min 10 sec"
       ]
      },
      {
       "output_type": "stream",
       "stream": "stdout",
       "text": [
        "\n"
       ]
      },
      {
       "output_type": "stream",
       "stream": "stdout",
       "text": [
        "\tCHE,  5th phase (06Oct2020 - 14Oct2020): finished  349 trials in 0 min 10 sec"
       ]
      },
      {
       "output_type": "stream",
       "stream": "stdout",
       "text": [
        "\n"
       ]
      },
      {
       "output_type": "stream",
       "stream": "stdout",
       "text": [
        "\tMYS, 17th phase (06Jan2021 - 11Jan2021): finished  353 trials in 0 min 10 sec"
       ]
      },
      {
       "output_type": "stream",
       "stream": "stdout",
       "text": [
        "\n"
       ]
      },
      {
       "output_type": "stream",
       "stream": "stdout",
       "text": [
        "\tCHE, 17th phase (03Jan2021 - 09Jan2021): finished  350 trials in 0 min 10 sec"
       ]
      },
      {
       "output_type": "stream",
       "stream": "stdout",
       "text": [
        "\n"
       ]
      },
      {
       "output_type": "stream",
       "stream": "stdout",
       "text": [
        "\tNOR,  2nd phase (06Apr2020 - 01May2020): finished  348 trials in 0 min 10 sec"
       ]
      },
      {
       "output_type": "stream",
       "stream": "stdout",
       "text": [
        "\n"
       ]
      },
      {
       "output_type": "stream",
       "stream": "stdout",
       "text": [
        "\tDEU, 17th phase (29Dec2020 - 04Jan2021): finished  360 trials in 0 min 10 sec"
       ]
      },
      {
       "output_type": "stream",
       "stream": "stdout",
       "text": [
        "\n"
       ]
      },
      {
       "output_type": "stream",
       "stream": "stdout",
       "text": [
        "Completed optimization. Total: 4 min 58 sec\n"
       ]
      }
     ],
     "prompt_number": 11
    },
    {
     "cell_type": "code",
     "collapsed": false,
     "input": [
      "# Show summary\n",
      "analyser.summary(countries=countries_show)"
     ],
     "language": "python",
     "metadata": {},
     "outputs": [
      {
       "html": [
        "<div>\n",
        "<style scoped>\n",
        "    .dataframe tbody tr th:only-of-type {\n",
        "        vertical-align: middle;\n",
        "    }\n",
        "\n",
        "    .dataframe tbody tr th {\n",
        "        vertical-align: top;\n",
        "    }\n",
        "\n",
        "    .dataframe thead th {\n",
        "        text-align: right;\n",
        "    }\n",
        "</style>\n",
        "<table border=\"1\" class=\"dataframe\">\n",
        "  <thead>\n",
        "    <tr style=\"text-align: right;\">\n",
        "      <th></th>\n",
        "      <th></th>\n",
        "      <th>Type</th>\n",
        "      <th>Start</th>\n",
        "      <th>End</th>\n",
        "      <th>Population</th>\n",
        "      <th>ODE</th>\n",
        "      <th>Rt</th>\n",
        "      <th>theta</th>\n",
        "      <th>kappa</th>\n",
        "      <th>rho</th>\n",
        "      <th>sigma</th>\n",
        "      <th>tau</th>\n",
        "      <th>1/gamma [day]</th>\n",
        "      <th>1/alpha2 [day]</th>\n",
        "      <th>1/beta [day]</th>\n",
        "      <th>alpha1 [-]</th>\n",
        "      <th>RMSLE</th>\n",
        "      <th>Trials</th>\n",
        "      <th>Runtime</th>\n",
        "    </tr>\n",
        "    <tr>\n",
        "      <th>Country</th>\n",
        "      <th>Phase</th>\n",
        "      <th></th>\n",
        "      <th></th>\n",
        "      <th></th>\n",
        "      <th></th>\n",
        "      <th></th>\n",
        "      <th></th>\n",
        "      <th></th>\n",
        "      <th></th>\n",
        "      <th></th>\n",
        "      <th></th>\n",
        "      <th></th>\n",
        "      <th></th>\n",
        "      <th></th>\n",
        "      <th></th>\n",
        "      <th></th>\n",
        "      <th></th>\n",
        "      <th></th>\n",
        "      <th></th>\n",
        "    </tr>\n",
        "  </thead>\n",
        "  <tbody>\n",
        "    <tr>\n",
        "      <th rowspan=\"20\" valign=\"top\">Germany</th>\n",
        "      <th>0th</th>\n",
        "      <td>Past</td>\n",
        "      <td>18Jan2020</td>\n",
        "      <td>23Mar2020</td>\n",
        "      <td>82905782</td>\n",
        "      <td>SIR-F</td>\n",
        "      <td>2.12</td>\n",
        "      <td>0.001700</td>\n",
        "      <td>0.000553</td>\n",
        "      <td>0.020695</td>\n",
        "      <td>0.009199</td>\n",
        "      <td>360.0</td>\n",
        "      <td>27.0</td>\n",
        "      <td>451.0</td>\n",
        "      <td>12.0</td>\n",
        "      <td>0.002</td>\n",
        "      <td>1.457139</td>\n",
        "      <td>332.0</td>\n",
        "      <td>0 min 10 sec</td>\n",
        "    </tr>\n",
        "    <tr>\n",
        "      <th>1st</th>\n",
        "      <td>Past</td>\n",
        "      <td>24Mar2020</td>\n",
        "      <td>06Apr2020</td>\n",
        "      <td>82905782</td>\n",
        "      <td>SIR-F</td>\n",
        "      <td>3.32</td>\n",
        "      <td>0.052979</td>\n",
        "      <td>0.000289</td>\n",
        "      <td>0.022227</td>\n",
        "      <td>0.006042</td>\n",
        "      <td>360.0</td>\n",
        "      <td>41.0</td>\n",
        "      <td>864.0</td>\n",
        "      <td>11.0</td>\n",
        "      <td>0.053</td>\n",
        "      <td>0.170008</td>\n",
        "      <td>324.0</td>\n",
        "      <td>0 min 10 sec</td>\n",
        "    </tr>\n",
        "    <tr>\n",
        "      <th>2nd</th>\n",
        "      <td>Past</td>\n",
        "      <td>07Apr2020</td>\n",
        "      <td>05May2020</td>\n",
        "      <td>82905782</td>\n",
        "      <td>SIR-F</td>\n",
        "      <td>0.51</td>\n",
        "      <td>0.000182</td>\n",
        "      <td>0.000837</td>\n",
        "      <td>0.011075</td>\n",
        "      <td>0.021051</td>\n",
        "      <td>360.0</td>\n",
        "      <td>11.0</td>\n",
        "      <td>298.0</td>\n",
        "      <td>22.0</td>\n",
        "      <td>0.000</td>\n",
        "      <td>0.063896</td>\n",
        "      <td>324.0</td>\n",
        "      <td>0 min 10 sec</td>\n",
        "    </tr>\n",
        "    <tr>\n",
        "      <th>3rd</th>\n",
        "      <td>Past</td>\n",
        "      <td>06May2020</td>\n",
        "      <td>04Aug2020</td>\n",
        "      <td>82905782</td>\n",
        "      <td>SIR-F</td>\n",
        "      <td>0.77</td>\n",
        "      <td>0.000471</td>\n",
        "      <td>0.000109</td>\n",
        "      <td>0.015316</td>\n",
        "      <td>0.019774</td>\n",
        "      <td>360.0</td>\n",
        "      <td>12.0</td>\n",
        "      <td>2287.0</td>\n",
        "      <td>16.0</td>\n",
        "      <td>0.000</td>\n",
        "      <td>0.242620</td>\n",
        "      <td>309.0</td>\n",
        "      <td>0 min 10 sec</td>\n",
        "    </tr>\n",
        "    <tr>\n",
        "      <th>4th</th>\n",
        "      <td>Past</td>\n",
        "      <td>05Aug2020</td>\n",
        "      <td>12Sep2020</td>\n",
        "      <td>82905782</td>\n",
        "      <td>SIR-F</td>\n",
        "      <td>1.39</td>\n",
        "      <td>0.000066</td>\n",
        "      <td>0.000152</td>\n",
        "      <td>0.019316</td>\n",
        "      <td>0.013744</td>\n",
        "      <td>360.0</td>\n",
        "      <td>18.0</td>\n",
        "      <td>1647.0</td>\n",
        "      <td>12.0</td>\n",
        "      <td>0.000</td>\n",
        "      <td>0.071951</td>\n",
        "      <td>323.0</td>\n",
        "      <td>0 min 10 sec</td>\n",
        "    </tr>\n",
        "    <tr>\n",
        "      <th>5th</th>\n",
        "      <td>Past</td>\n",
        "      <td>13Sep2020</td>\n",
        "      <td>07Oct2020</td>\n",
        "      <td>82905782</td>\n",
        "      <td>SIR-F</td>\n",
        "      <td>1.42</td>\n",
        "      <td>0.000130</td>\n",
        "      <td>0.000168</td>\n",
        "      <td>0.020982</td>\n",
        "      <td>0.014593</td>\n",
        "      <td>360.0</td>\n",
        "      <td>17.0</td>\n",
        "      <td>1486.0</td>\n",
        "      <td>11.0</td>\n",
        "      <td>0.000</td>\n",
        "      <td>0.027097</td>\n",
        "      <td>332.0</td>\n",
        "      <td>0 min 10 sec</td>\n",
        "    </tr>\n",
        "    <tr>\n",
        "      <th>6th</th>\n",
        "      <td>Past</td>\n",
        "      <td>08Oct2020</td>\n",
        "      <td>20Oct2020</td>\n",
        "      <td>82905782</td>\n",
        "      <td>SIR-F</td>\n",
        "      <td>2.98</td>\n",
        "      <td>0.000571</td>\n",
        "      <td>0.000426</td>\n",
        "      <td>0.026687</td>\n",
        "      <td>0.008513</td>\n",
        "      <td>360.0</td>\n",
        "      <td>29.0</td>\n",
        "      <td>586.0</td>\n",
        "      <td>9.0</td>\n",
        "      <td>0.001</td>\n",
        "      <td>0.059940</td>\n",
        "      <td>336.0</td>\n",
        "      <td>0 min 10 sec</td>\n",
        "    </tr>\n",
        "    <tr>\n",
        "      <th>7th</th>\n",
        "      <td>Past</td>\n",
        "      <td>21Oct2020</td>\n",
        "      <td>27Oct2020</td>\n",
        "      <td>82905782</td>\n",
        "      <td>SIR-F</td>\n",
        "      <td>2.81</td>\n",
        "      <td>0.002290</td>\n",
        "      <td>0.000381</td>\n",
        "      <td>0.025855</td>\n",
        "      <td>0.008812</td>\n",
        "      <td>360.0</td>\n",
        "      <td>28.0</td>\n",
        "      <td>655.0</td>\n",
        "      <td>9.0</td>\n",
        "      <td>0.002</td>\n",
        "      <td>0.020498</td>\n",
        "      <td>342.0</td>\n",
        "      <td>0 min 10 sec</td>\n",
        "    </tr>\n",
        "    <tr>\n",
        "      <th>8th</th>\n",
        "      <td>Past</td>\n",
        "      <td>28Oct2020</td>\n",
        "      <td>03Nov2020</td>\n",
        "      <td>82905782</td>\n",
        "      <td>SIR-F</td>\n",
        "      <td>2.30</td>\n",
        "      <td>0.000256</td>\n",
        "      <td>0.000257</td>\n",
        "      <td>0.020358</td>\n",
        "      <td>0.008591</td>\n",
        "      <td>360.0</td>\n",
        "      <td>29.0</td>\n",
        "      <td>974.0</td>\n",
        "      <td>12.0</td>\n",
        "      <td>0.000</td>\n",
        "      <td>0.024017</td>\n",
        "      <td>335.0</td>\n",
        "      <td>0 min 10 sec</td>\n",
        "    </tr>\n",
        "    <tr>\n",
        "      <th>9th</th>\n",
        "      <td>Past</td>\n",
        "      <td>04Nov2020</td>\n",
        "      <td>10Nov2020</td>\n",
        "      <td>82905782</td>\n",
        "      <td>SIR-F</td>\n",
        "      <td>1.57</td>\n",
        "      <td>0.000120</td>\n",
        "      <td>0.000229</td>\n",
        "      <td>0.019037</td>\n",
        "      <td>0.011916</td>\n",
        "      <td>360.0</td>\n",
        "      <td>20.0</td>\n",
        "      <td>1093.0</td>\n",
        "      <td>13.0</td>\n",
        "      <td>0.000</td>\n",
        "      <td>0.014762</td>\n",
        "      <td>334.0</td>\n",
        "      <td>0 min 10 sec</td>\n",
        "    </tr>\n",
        "    <tr>\n",
        "      <th>10th</th>\n",
        "      <td>Past</td>\n",
        "      <td>11Nov2020</td>\n",
        "      <td>17Nov2020</td>\n",
        "      <td>82905782</td>\n",
        "      <td>SIR-F</td>\n",
        "      <td>1.06</td>\n",
        "      <td>0.014710</td>\n",
        "      <td>0.000014</td>\n",
        "      <td>0.018071</td>\n",
        "      <td>0.016812</td>\n",
        "      <td>360.0</td>\n",
        "      <td>14.0</td>\n",
        "      <td>17587.0</td>\n",
        "      <td>13.0</td>\n",
        "      <td>0.015</td>\n",
        "      <td>0.015800</td>\n",
        "      <td>337.0</td>\n",
        "      <td>0 min 10 sec</td>\n",
        "    </tr>\n",
        "    <tr>\n",
        "      <th>11th</th>\n",
        "      <td>Past</td>\n",
        "      <td>18Nov2020</td>\n",
        "      <td>24Nov2020</td>\n",
        "      <td>82905782</td>\n",
        "      <td>SIR-F</td>\n",
        "      <td>0.96</td>\n",
        "      <td>0.002696</td>\n",
        "      <td>0.000301</td>\n",
        "      <td>0.017909</td>\n",
        "      <td>0.018215</td>\n",
        "      <td>360.0</td>\n",
        "      <td>13.0</td>\n",
        "      <td>830.0</td>\n",
        "      <td>13.0</td>\n",
        "      <td>0.003</td>\n",
        "      <td>0.015401</td>\n",
        "      <td>332.0</td>\n",
        "      <td>0 min 10 sec</td>\n",
        "    </tr>\n",
        "    <tr>\n",
        "      <th>12th</th>\n",
        "      <td>Past</td>\n",
        "      <td>25Nov2020</td>\n",
        "      <td>01Dec2020</td>\n",
        "      <td>82905782</td>\n",
        "      <td>SIR-F</td>\n",
        "      <td>0.90</td>\n",
        "      <td>0.000570</td>\n",
        "      <td>0.000426</td>\n",
        "      <td>0.017493</td>\n",
        "      <td>0.018939</td>\n",
        "      <td>360.0</td>\n",
        "      <td>13.0</td>\n",
        "      <td>586.0</td>\n",
        "      <td>14.0</td>\n",
        "      <td>0.001</td>\n",
        "      <td>0.015460</td>\n",
        "      <td>336.0</td>\n",
        "      <td>0 min 10 sec</td>\n",
        "    </tr>\n",
        "    <tr>\n",
        "      <th>13th</th>\n",
        "      <td>Past</td>\n",
        "      <td>02Dec2020</td>\n",
        "      <td>08Dec2020</td>\n",
        "      <td>82905782</td>\n",
        "      <td>SIR-F</td>\n",
        "      <td>0.92</td>\n",
        "      <td>0.025717</td>\n",
        "      <td>0.000180</td>\n",
        "      <td>0.018906</td>\n",
        "      <td>0.019869</td>\n",
        "      <td>360.0</td>\n",
        "      <td>12.0</td>\n",
        "      <td>1388.0</td>\n",
        "      <td>13.0</td>\n",
        "      <td>0.026</td>\n",
        "      <td>0.019631</td>\n",
        "      <td>335.0</td>\n",
        "      <td>0 min 10 sec</td>\n",
        "    </tr>\n",
        "    <tr>\n",
        "      <th>14th</th>\n",
        "      <td>Past</td>\n",
        "      <td>09Dec2020</td>\n",
        "      <td>15Dec2020</td>\n",
        "      <td>82905782</td>\n",
        "      <td>SIR-F</td>\n",
        "      <td>1.20</td>\n",
        "      <td>0.033025</td>\n",
        "      <td>0.000005</td>\n",
        "      <td>0.019371</td>\n",
        "      <td>0.015653</td>\n",
        "      <td>360.0</td>\n",
        "      <td>15.0</td>\n",
        "      <td>54820.0</td>\n",
        "      <td>12.0</td>\n",
        "      <td>0.033</td>\n",
        "      <td>0.013245</td>\n",
        "      <td>336.0</td>\n",
        "      <td>0 min 10 sec</td>\n",
        "    </tr>\n",
        "    <tr>\n",
        "      <th>15th</th>\n",
        "      <td>Past</td>\n",
        "      <td>16Dec2020</td>\n",
        "      <td>21Dec2020</td>\n",
        "      <td>82905782</td>\n",
        "      <td>SIR-F</td>\n",
        "      <td>1.19</td>\n",
        "      <td>0.002587</td>\n",
        "      <td>0.000434</td>\n",
        "      <td>0.018670</td>\n",
        "      <td>0.015235</td>\n",
        "      <td>360.0</td>\n",
        "      <td>16.0</td>\n",
        "      <td>576.0</td>\n",
        "      <td>13.0</td>\n",
        "      <td>0.003</td>\n",
        "      <td>0.012640</td>\n",
        "      <td>339.0</td>\n",
        "      <td>0 min 10 sec</td>\n",
        "    </tr>\n",
        "    <tr>\n",
        "      <th>16th</th>\n",
        "      <td>Past</td>\n",
        "      <td>22Dec2020</td>\n",
        "      <td>28Dec2020</td>\n",
        "      <td>82905782</td>\n",
        "      <td>SIR-F</td>\n",
        "      <td>0.65</td>\n",
        "      <td>0.002588</td>\n",
        "      <td>0.000463</td>\n",
        "      <td>0.012409</td>\n",
        "      <td>0.018633</td>\n",
        "      <td>360.0</td>\n",
        "      <td>13.0</td>\n",
        "      <td>539.0</td>\n",
        "      <td>20.0</td>\n",
        "      <td>0.003</td>\n",
        "      <td>0.040882</td>\n",
        "      <td>334.0</td>\n",
        "      <td>0 min 10 sec</td>\n",
        "    </tr>\n",
        "    <tr>\n",
        "      <th>17th</th>\n",
        "      <td>Past</td>\n",
        "      <td>29Dec2020</td>\n",
        "      <td>04Jan2021</td>\n",
        "      <td>82905782</td>\n",
        "      <td>SIR-F</td>\n",
        "      <td>0.56</td>\n",
        "      <td>0.000262</td>\n",
        "      <td>0.000257</td>\n",
        "      <td>0.012012</td>\n",
        "      <td>0.021041</td>\n",
        "      <td>360.0</td>\n",
        "      <td>11.0</td>\n",
        "      <td>974.0</td>\n",
        "      <td>20.0</td>\n",
        "      <td>0.000</td>\n",
        "      <td>0.031587</td>\n",
        "      <td>360.0</td>\n",
        "      <td>0 min 10 sec</td>\n",
        "    </tr>\n",
        "    <tr>\n",
        "      <th>18th</th>\n",
        "      <td>Past</td>\n",
        "      <td>05Jan2021</td>\n",
        "      <td>11Jan2021</td>\n",
        "      <td>82905782</td>\n",
        "      <td>SIR-F</td>\n",
        "      <td>0.96</td>\n",
        "      <td>0.000257</td>\n",
        "      <td>0.000257</td>\n",
        "      <td>0.018803</td>\n",
        "      <td>0.019260</td>\n",
        "      <td>360.0</td>\n",
        "      <td>12.0</td>\n",
        "      <td>974.0</td>\n",
        "      <td>13.0</td>\n",
        "      <td>0.000</td>\n",
        "      <td>0.011009</td>\n",
        "      <td>354.0</td>\n",
        "      <td>0 min 10 sec</td>\n",
        "    </tr>\n",
        "    <tr>\n",
        "      <th>19th</th>\n",
        "      <td>Past</td>\n",
        "      <td>12Jan2021</td>\n",
        "      <td>18Jan2021</td>\n",
        "      <td>82905782</td>\n",
        "      <td>-</td>\n",
        "      <td>-</td>\n",
        "      <td>-</td>\n",
        "      <td>-</td>\n",
        "      <td>-</td>\n",
        "      <td>-</td>\n",
        "      <td>-</td>\n",
        "      <td>-</td>\n",
        "      <td>-</td>\n",
        "      <td>-</td>\n",
        "      <td>-</td>\n",
        "      <td>-</td>\n",
        "      <td>-</td>\n",
        "      <td>-</td>\n",
        "    </tr>\n",
        "  </tbody>\n",
        "</table>\n",
        "</div>"
       ],
       "output_type": "pyout",
       "prompt_number": 12,
       "text": [
        "               Type      Start        End  Population    ODE    Rt     theta  \\\n",
        "Country Phase                                                                  \n",
        "Germany 0th    Past  18Jan2020  23Mar2020    82905782  SIR-F  2.12  0.001700   \n",
        "        1st    Past  24Mar2020  06Apr2020    82905782  SIR-F  3.32  0.052979   \n",
        "        2nd    Past  07Apr2020  05May2020    82905782  SIR-F  0.51  0.000182   \n",
        "        3rd    Past  06May2020  04Aug2020    82905782  SIR-F  0.77  0.000471   \n",
        "        4th    Past  05Aug2020  12Sep2020    82905782  SIR-F  1.39  0.000066   \n",
        "        5th    Past  13Sep2020  07Oct2020    82905782  SIR-F  1.42  0.000130   \n",
        "        6th    Past  08Oct2020  20Oct2020    82905782  SIR-F  2.98  0.000571   \n",
        "        7th    Past  21Oct2020  27Oct2020    82905782  SIR-F  2.81  0.002290   \n",
        "        8th    Past  28Oct2020  03Nov2020    82905782  SIR-F  2.30  0.000256   \n",
        "        9th    Past  04Nov2020  10Nov2020    82905782  SIR-F  1.57  0.000120   \n",
        "        10th   Past  11Nov2020  17Nov2020    82905782  SIR-F  1.06  0.014710   \n",
        "        11th   Past  18Nov2020  24Nov2020    82905782  SIR-F  0.96  0.002696   \n",
        "        12th   Past  25Nov2020  01Dec2020    82905782  SIR-F  0.90  0.000570   \n",
        "        13th   Past  02Dec2020  08Dec2020    82905782  SIR-F  0.92  0.025717   \n",
        "        14th   Past  09Dec2020  15Dec2020    82905782  SIR-F  1.20  0.033025   \n",
        "        15th   Past  16Dec2020  21Dec2020    82905782  SIR-F  1.19  0.002587   \n",
        "        16th   Past  22Dec2020  28Dec2020    82905782  SIR-F  0.65  0.002588   \n",
        "        17th   Past  29Dec2020  04Jan2021    82905782  SIR-F  0.56  0.000262   \n",
        "        18th   Past  05Jan2021  11Jan2021    82905782  SIR-F  0.96  0.000257   \n",
        "        19th   Past  12Jan2021  18Jan2021    82905782      -     -         -   \n",
        "\n",
        "                  kappa       rho     sigma    tau 1/gamma [day]  \\\n",
        "Country Phase                                                      \n",
        "Germany 0th    0.000553  0.020695  0.009199  360.0          27.0   \n",
        "        1st    0.000289  0.022227  0.006042  360.0          41.0   \n",
        "        2nd    0.000837  0.011075  0.021051  360.0          11.0   \n",
        "        3rd    0.000109  0.015316  0.019774  360.0          12.0   \n",
        "        4th    0.000152  0.019316  0.013744  360.0          18.0   \n",
        "        5th    0.000168  0.020982  0.014593  360.0          17.0   \n",
        "        6th    0.000426  0.026687  0.008513  360.0          29.0   \n",
        "        7th    0.000381  0.025855  0.008812  360.0          28.0   \n",
        "        8th    0.000257  0.020358  0.008591  360.0          29.0   \n",
        "        9th    0.000229  0.019037  0.011916  360.0          20.0   \n",
        "        10th   0.000014  0.018071  0.016812  360.0          14.0   \n",
        "        11th   0.000301  0.017909  0.018215  360.0          13.0   \n",
        "        12th   0.000426  0.017493  0.018939  360.0          13.0   \n",
        "        13th   0.000180  0.018906  0.019869  360.0          12.0   \n",
        "        14th   0.000005  0.019371  0.015653  360.0          15.0   \n",
        "        15th   0.000434  0.018670  0.015235  360.0          16.0   \n",
        "        16th   0.000463  0.012409  0.018633  360.0          13.0   \n",
        "        17th   0.000257  0.012012  0.021041  360.0          11.0   \n",
        "        18th   0.000257  0.018803  0.019260  360.0          12.0   \n",
        "        19th          -         -         -      -             -   \n",
        "\n",
        "              1/alpha2 [day] 1/beta [day] alpha1 [-]     RMSLE Trials  \\\n",
        "Country Phase                                                           \n",
        "Germany 0th            451.0         12.0      0.002  1.457139  332.0   \n",
        "        1st            864.0         11.0      0.053  0.170008  324.0   \n",
        "        2nd            298.0         22.0      0.000  0.063896  324.0   \n",
        "        3rd           2287.0         16.0      0.000  0.242620  309.0   \n",
        "        4th           1647.0         12.0      0.000  0.071951  323.0   \n",
        "        5th           1486.0         11.0      0.000  0.027097  332.0   \n",
        "        6th            586.0          9.0      0.001  0.059940  336.0   \n",
        "        7th            655.0          9.0      0.002  0.020498  342.0   \n",
        "        8th            974.0         12.0      0.000  0.024017  335.0   \n",
        "        9th           1093.0         13.0      0.000  0.014762  334.0   \n",
        "        10th         17587.0         13.0      0.015  0.015800  337.0   \n",
        "        11th           830.0         13.0      0.003  0.015401  332.0   \n",
        "        12th           586.0         14.0      0.001  0.015460  336.0   \n",
        "        13th          1388.0         13.0      0.026  0.019631  335.0   \n",
        "        14th         54820.0         12.0      0.033  0.013245  336.0   \n",
        "        15th           576.0         13.0      0.003  0.012640  339.0   \n",
        "        16th           539.0         20.0      0.003  0.040882  334.0   \n",
        "        17th           974.0         20.0      0.000  0.031587  360.0   \n",
        "        18th           974.0         13.0      0.000  0.011009  354.0   \n",
        "        19th               -            -          -         -      -   \n",
        "\n",
        "                    Runtime  \n",
        "Country Phase                \n",
        "Germany 0th    0 min 10 sec  \n",
        "        1st    0 min 10 sec  \n",
        "        2nd    0 min 10 sec  \n",
        "        3rd    0 min 10 sec  \n",
        "        4th    0 min 10 sec  \n",
        "        5th    0 min 10 sec  \n",
        "        6th    0 min 10 sec  \n",
        "        7th    0 min 10 sec  \n",
        "        8th    0 min 10 sec  \n",
        "        9th    0 min 10 sec  \n",
        "        10th   0 min 10 sec  \n",
        "        11th   0 min 10 sec  \n",
        "        12th   0 min 10 sec  \n",
        "        13th   0 min 10 sec  \n",
        "        14th   0 min 10 sec  \n",
        "        15th   0 min 10 sec  \n",
        "        16th   0 min 10 sec  \n",
        "        17th   0 min 10 sec  \n",
        "        18th   0 min 10 sec  \n",
        "        19th              -  "
       ]
      }
     ],
     "prompt_number": 12
    },
    {
     "cell_type": "markdown",
     "metadata": {},
     "source": [
      "## Compare the history of parameters\n",
      "Here, compare the history of parameter values if countries."
     ]
    },
    {
     "cell_type": "code",
     "collapsed": false,
     "input": [
      "# All parameter/day parameter/Rt/OxCGRT\n",
      "analyser.track().head()"
     ],
     "language": "python",
     "metadata": {},
     "outputs": [
      {
       "html": [
        "<div>\n",
        "<style scoped>\n",
        "    .dataframe tbody tr th:only-of-type {\n",
        "        vertical-align: middle;\n",
        "    }\n",
        "\n",
        "    .dataframe tbody tr th {\n",
        "        vertical-align: top;\n",
        "    }\n",
        "\n",
        "    .dataframe thead th {\n",
        "        text-align: right;\n",
        "    }\n",
        "</style>\n",
        "<table border=\"1\" class=\"dataframe\">\n",
        "  <thead>\n",
        "    <tr style=\"text-align: right;\">\n",
        "      <th></th>\n",
        "      <th>Date</th>\n",
        "      <th>Country</th>\n",
        "      <th>theta</th>\n",
        "      <th>kappa</th>\n",
        "      <th>rho</th>\n",
        "      <th>sigma</th>\n",
        "      <th>alpha1 [-]</th>\n",
        "      <th>1/alpha2 [day]</th>\n",
        "      <th>1/beta [day]</th>\n",
        "      <th>1/gamma [day]</th>\n",
        "      <th>...</th>\n",
        "      <th>Cancel_events</th>\n",
        "      <th>Gatherings_restrictions</th>\n",
        "      <th>Transport_closing</th>\n",
        "      <th>Stay_home_restrictions</th>\n",
        "      <th>Internal_movement_restrictions</th>\n",
        "      <th>International_movement_restrictions</th>\n",
        "      <th>Information_campaigns</th>\n",
        "      <th>Testing_policy</th>\n",
        "      <th>Contact_tracing</th>\n",
        "      <th>Stringency_index</th>\n",
        "    </tr>\n",
        "  </thead>\n",
        "  <tbody>\n",
        "    <tr>\n",
        "      <th>0</th>\n",
        "      <td>2020-02-07</td>\n",
        "      <td>Malaysia</td>\n",
        "      <td>0.000137</td>\n",
        "      <td>0.000168</td>\n",
        "      <td>0.01313</td>\n",
        "      <td>0.001754</td>\n",
        "      <td>0.0</td>\n",
        "      <td>1484</td>\n",
        "      <td>19</td>\n",
        "      <td>142</td>\n",
        "      <td>...</td>\n",
        "      <td>0</td>\n",
        "      <td>0</td>\n",
        "      <td>0</td>\n",
        "      <td>0</td>\n",
        "      <td>0</td>\n",
        "      <td>3</td>\n",
        "      <td>2</td>\n",
        "      <td>1</td>\n",
        "      <td>2</td>\n",
        "      <td>19.44</td>\n",
        "    </tr>\n",
        "    <tr>\n",
        "      <th>1</th>\n",
        "      <td>2020-02-08</td>\n",
        "      <td>Malaysia</td>\n",
        "      <td>0.000137</td>\n",
        "      <td>0.000168</td>\n",
        "      <td>0.01313</td>\n",
        "      <td>0.001754</td>\n",
        "      <td>0.0</td>\n",
        "      <td>1484</td>\n",
        "      <td>19</td>\n",
        "      <td>142</td>\n",
        "      <td>...</td>\n",
        "      <td>0</td>\n",
        "      <td>0</td>\n",
        "      <td>0</td>\n",
        "      <td>0</td>\n",
        "      <td>0</td>\n",
        "      <td>3</td>\n",
        "      <td>2</td>\n",
        "      <td>1</td>\n",
        "      <td>2</td>\n",
        "      <td>19.44</td>\n",
        "    </tr>\n",
        "    <tr>\n",
        "      <th>2</th>\n",
        "      <td>2020-02-09</td>\n",
        "      <td>Malaysia</td>\n",
        "      <td>0.000137</td>\n",
        "      <td>0.000168</td>\n",
        "      <td>0.01313</td>\n",
        "      <td>0.001754</td>\n",
        "      <td>0.0</td>\n",
        "      <td>1484</td>\n",
        "      <td>19</td>\n",
        "      <td>142</td>\n",
        "      <td>...</td>\n",
        "      <td>0</td>\n",
        "      <td>0</td>\n",
        "      <td>0</td>\n",
        "      <td>0</td>\n",
        "      <td>0</td>\n",
        "      <td>3</td>\n",
        "      <td>2</td>\n",
        "      <td>1</td>\n",
        "      <td>2</td>\n",
        "      <td>19.44</td>\n",
        "    </tr>\n",
        "    <tr>\n",
        "      <th>3</th>\n",
        "      <td>2020-02-10</td>\n",
        "      <td>Malaysia</td>\n",
        "      <td>0.000137</td>\n",
        "      <td>0.000168</td>\n",
        "      <td>0.01313</td>\n",
        "      <td>0.001754</td>\n",
        "      <td>0.0</td>\n",
        "      <td>1484</td>\n",
        "      <td>19</td>\n",
        "      <td>142</td>\n",
        "      <td>...</td>\n",
        "      <td>0</td>\n",
        "      <td>0</td>\n",
        "      <td>0</td>\n",
        "      <td>0</td>\n",
        "      <td>0</td>\n",
        "      <td>3</td>\n",
        "      <td>2</td>\n",
        "      <td>1</td>\n",
        "      <td>2</td>\n",
        "      <td>19.44</td>\n",
        "    </tr>\n",
        "    <tr>\n",
        "      <th>4</th>\n",
        "      <td>2020-02-11</td>\n",
        "      <td>Malaysia</td>\n",
        "      <td>0.000137</td>\n",
        "      <td>0.000168</td>\n",
        "      <td>0.01313</td>\n",
        "      <td>0.001754</td>\n",
        "      <td>0.0</td>\n",
        "      <td>1484</td>\n",
        "      <td>19</td>\n",
        "      <td>142</td>\n",
        "      <td>...</td>\n",
        "      <td>0</td>\n",
        "      <td>0</td>\n",
        "      <td>0</td>\n",
        "      <td>0</td>\n",
        "      <td>0</td>\n",
        "      <td>3</td>\n",
        "      <td>2</td>\n",
        "      <td>1</td>\n",
        "      <td>2</td>\n",
        "      <td>19.44</td>\n",
        "    </tr>\n",
        "  </tbody>\n",
        "</table>\n",
        "<p>5 rows \u00d7 23 columns</p>\n",
        "</div>"
       ],
       "output_type": "pyout",
       "prompt_number": 13,
       "text": [
        "        Date   Country     theta     kappa      rho     sigma alpha1 [-]  \\\n",
        "0 2020-02-07  Malaysia  0.000137  0.000168  0.01313  0.001754        0.0   \n",
        "1 2020-02-08  Malaysia  0.000137  0.000168  0.01313  0.001754        0.0   \n",
        "2 2020-02-09  Malaysia  0.000137  0.000168  0.01313  0.001754        0.0   \n",
        "3 2020-02-10  Malaysia  0.000137  0.000168  0.01313  0.001754        0.0   \n",
        "4 2020-02-11  Malaysia  0.000137  0.000168  0.01313  0.001754        0.0   \n",
        "\n",
        "  1/alpha2 [day] 1/beta [day] 1/gamma [day]  ... Cancel_events  \\\n",
        "0           1484           19           142  ...             0   \n",
        "1           1484           19           142  ...             0   \n",
        "2           1484           19           142  ...             0   \n",
        "3           1484           19           142  ...             0   \n",
        "4           1484           19           142  ...             0   \n",
        "\n",
        "   Gatherings_restrictions  Transport_closing  Stay_home_restrictions  \\\n",
        "0                        0                  0                       0   \n",
        "1                        0                  0                       0   \n",
        "2                        0                  0                       0   \n",
        "3                        0                  0                       0   \n",
        "4                        0                  0                       0   \n",
        "\n",
        "   Internal_movement_restrictions  International_movement_restrictions  \\\n",
        "0                               0                                    3   \n",
        "1                               0                                    3   \n",
        "2                               0                                    3   \n",
        "3                               0                                    3   \n",
        "4                               0                                    3   \n",
        "\n",
        "   Information_campaigns  Testing_policy  Contact_tracing  Stringency_index  \n",
        "0                      2               1                2             19.44  \n",
        "1                      2               1                2             19.44  \n",
        "2                      2               1                2             19.44  \n",
        "3                      2               1                2             19.44  \n",
        "4                      2               1                2             19.44  \n",
        "\n",
        "[5 rows x 23 columns]"
       ]
      }
     ],
     "prompt_number": 13
    },
    {
     "cell_type": "heading",
     "level": 3,
     "metadata": {},
     "source": [
      "$Rt$: Reprodcution number $\\mathrm{[-]}$"
     ]
    },
    {
     "cell_type": "code",
     "collapsed": false,
     "input": [
      "analyser.history(\"Rt\", roll_window=None).tail()"
     ],
     "language": "python",
     "metadata": {},
     "outputs": [
      {
       "output_type": "display_data",
       "png": "[encoded data removed]",
       "text": [
        "<Figure size 648x432 with 1 Axes>"
       ]
      },
      {
       "html": [
        "<div>\n",
        "<style scoped>\n",
        "    .dataframe tbody tr th:only-of-type {\n",
        "        vertical-align: middle;\n",
        "    }\n",
        "\n",
        "    .dataframe tbody tr th {\n",
        "        vertical-align: top;\n",
        "    }\n",
        "\n",
        "    .dataframe thead th {\n",
        "        text-align: right;\n",
        "    }\n",
        "</style>\n",
        "<table border=\"1\" class=\"dataframe\">\n",
        "  <thead>\n",
        "    <tr style=\"text-align: right;\">\n",
        "      <th>Country</th>\n",
        "      <th>Germany</th>\n",
        "      <th>Malaysia</th>\n",
        "      <th>Norway</th>\n",
        "      <th>Portugal</th>\n",
        "      <th>Sweden</th>\n",
        "      <th>Switzerland</th>\n",
        "    </tr>\n",
        "    <tr>\n",
        "      <th>Date</th>\n",
        "      <th></th>\n",
        "      <th></th>\n",
        "      <th></th>\n",
        "      <th></th>\n",
        "      <th></th>\n",
        "      <th></th>\n",
        "    </tr>\n",
        "  </thead>\n",
        "  <tbody>\n",
        "    <tr>\n",
        "      <th>2021-01-14</th>\n",
        "      <td>0.96</td>\n",
        "      <td>1.66</td>\n",
        "      <td>2.74</td>\n",
        "      <td>1.79</td>\n",
        "      <td>1.05</td>\n",
        "      <td>1.62</td>\n",
        "    </tr>\n",
        "    <tr>\n",
        "      <th>2021-01-15</th>\n",
        "      <td>0.96</td>\n",
        "      <td>1.66</td>\n",
        "      <td>2.74</td>\n",
        "      <td>1.79</td>\n",
        "      <td>1.05</td>\n",
        "      <td>1.62</td>\n",
        "    </tr>\n",
        "    <tr>\n",
        "      <th>2021-01-16</th>\n",
        "      <td>0.96</td>\n",
        "      <td>1.66</td>\n",
        "      <td>2.74</td>\n",
        "      <td>1.79</td>\n",
        "      <td>1.05</td>\n",
        "      <td>1.62</td>\n",
        "    </tr>\n",
        "    <tr>\n",
        "      <th>2021-01-17</th>\n",
        "      <td>0.96</td>\n",
        "      <td>1.66</td>\n",
        "      <td>2.74</td>\n",
        "      <td>1.79</td>\n",
        "      <td>1.05</td>\n",
        "      <td>1.62</td>\n",
        "    </tr>\n",
        "    <tr>\n",
        "      <th>2021-01-18</th>\n",
        "      <td>0.96</td>\n",
        "      <td>1.66</td>\n",
        "      <td>2.74</td>\n",
        "      <td>1.79</td>\n",
        "      <td>1.05</td>\n",
        "      <td>1.62</td>\n",
        "    </tr>\n",
        "  </tbody>\n",
        "</table>\n",
        "</div>"
       ],
       "output_type": "pyout",
       "prompt_number": 14,
       "text": [
        "Country     Germany  Malaysia  Norway  Portugal  Sweden  Switzerland\n",
        "Date                                                                \n",
        "2021-01-14     0.96      1.66    2.74      1.79    1.05         1.62\n",
        "2021-01-15     0.96      1.66    2.74      1.79    1.05         1.62\n",
        "2021-01-16     0.96      1.66    2.74      1.79    1.05         1.62\n",
        "2021-01-17     0.96      1.66    2.74      1.79    1.05         1.62\n",
        "2021-01-18     0.96      1.66    2.74      1.79    1.05         1.62"
       ]
      }
     ],
     "prompt_number": 14
    },
    {
     "cell_type": "heading",
     "level": 3,
     "metadata": {},
     "source": [
      "$\\rho$: Effective contact rate $\\mathrm{[-]}$"
     ]
    },
    {
     "cell_type": "code",
     "collapsed": false,
     "input": [
      "analyser.history(\"rho\", roll_window=None).tail()"
     ],
     "language": "python",
     "metadata": {},
     "outputs": [
      {
       "output_type": "display_data",
       "png": "[encoded data removed]",
       "text": [
        "<Figure size 648x432 with 1 Axes>"
       ]
      },
      {
       "html": [
        "<div>\n",
        "<style scoped>\n",
        "    .dataframe tbody tr th:only-of-type {\n",
        "        vertical-align: middle;\n",
        "    }\n",
        "\n",
        "    .dataframe tbody tr th {\n",
        "        vertical-align: top;\n",
        "    }\n",
        "\n",
        "    .dataframe thead th {\n",
        "        text-align: right;\n",
        "    }\n",
        "</style>\n",
        "<table border=\"1\" class=\"dataframe\">\n",
        "  <thead>\n",
        "    <tr style=\"text-align: right;\">\n",
        "      <th>Country</th>\n",
        "      <th>Germany</th>\n",
        "      <th>Malaysia</th>\n",
        "      <th>Norway</th>\n",
        "      <th>Portugal</th>\n",
        "      <th>Sweden</th>\n",
        "      <th>Switzerland</th>\n",
        "    </tr>\n",
        "    <tr>\n",
        "      <th>Date</th>\n",
        "      <th></th>\n",
        "      <th></th>\n",
        "      <th></th>\n",
        "      <th></th>\n",
        "      <th></th>\n",
        "      <th></th>\n",
        "    </tr>\n",
        "  </thead>\n",
        "  <tbody>\n",
        "    <tr>\n",
        "      <th>2021-01-14</th>\n",
        "      <td>0.018803</td>\n",
        "      <td>0.023448</td>\n",
        "      <td>0.003422</td>\n",
        "      <td>0.022307</td>\n",
        "      <td>0.017737</td>\n",
        "      <td>0.002863</td>\n",
        "    </tr>\n",
        "    <tr>\n",
        "      <th>2021-01-15</th>\n",
        "      <td>0.018803</td>\n",
        "      <td>0.023448</td>\n",
        "      <td>0.003422</td>\n",
        "      <td>0.022307</td>\n",
        "      <td>0.017737</td>\n",
        "      <td>0.002863</td>\n",
        "    </tr>\n",
        "    <tr>\n",
        "      <th>2021-01-16</th>\n",
        "      <td>0.018803</td>\n",
        "      <td>0.023448</td>\n",
        "      <td>0.003422</td>\n",
        "      <td>0.022307</td>\n",
        "      <td>0.017737</td>\n",
        "      <td>0.002863</td>\n",
        "    </tr>\n",
        "    <tr>\n",
        "      <th>2021-01-17</th>\n",
        "      <td>0.018803</td>\n",
        "      <td>0.023448</td>\n",
        "      <td>0.003422</td>\n",
        "      <td>0.022307</td>\n",
        "      <td>0.017737</td>\n",
        "      <td>0.002863</td>\n",
        "    </tr>\n",
        "    <tr>\n",
        "      <th>2021-01-18</th>\n",
        "      <td>0.018803</td>\n",
        "      <td>0.023448</td>\n",
        "      <td>0.003422</td>\n",
        "      <td>0.022307</td>\n",
        "      <td>0.017737</td>\n",
        "      <td>0.002863</td>\n",
        "    </tr>\n",
        "  </tbody>\n",
        "</table>\n",
        "</div>"
       ],
       "output_type": "pyout",
       "prompt_number": 15,
       "text": [
        "Country      Germany  Malaysia    Norway  Portugal    Sweden  Switzerland\n",
        "Date                                                                     \n",
        "2021-01-14  0.018803  0.023448  0.003422  0.022307  0.017737     0.002863\n",
        "2021-01-15  0.018803  0.023448  0.003422  0.022307  0.017737     0.002863\n",
        "2021-01-16  0.018803  0.023448  0.003422  0.022307  0.017737     0.002863\n",
        "2021-01-17  0.018803  0.023448  0.003422  0.022307  0.017737     0.002863\n",
        "2021-01-18  0.018803  0.023448  0.003422  0.022307  0.017737     0.002863"
       ]
      }
     ],
     "prompt_number": 15
    },
    {
     "cell_type": "heading",
     "level": 3,
     "metadata": {},
     "source": [
      "$\\sigma$: Recovery rate $\\mathrm{[-]}$"
     ]
    },
    {
     "cell_type": "code",
     "collapsed": false,
     "input": [
      "analyser.history(\"sigma\", roll_window=None).tail()"
     ],
     "language": "python",
     "metadata": {},
     "outputs": [
      {
       "output_type": "display_data",
       "png": "[encoded data removed]",
       "text": [
        "<Figure size 648x432 with 1 Axes>"
       ]
      },
      {
       "html": [
        "<div>\n",
        "<style scoped>\n",
        "    .dataframe tbody tr th:only-of-type {\n",
        "        vertical-align: middle;\n",
        "    }\n",
        "\n",
        "    .dataframe tbody tr th {\n",
        "        vertical-align: top;\n",
        "    }\n",
        "\n",
        "    .dataframe thead th {\n",
        "        text-align: right;\n",
        "    }\n",
        "</style>\n",
        "<table border=\"1\" class=\"dataframe\">\n",
        "  <thead>\n",
        "    <tr style=\"text-align: right;\">\n",
        "      <th>Country</th>\n",
        "      <th>Germany</th>\n",
        "      <th>Malaysia</th>\n",
        "      <th>Norway</th>\n",
        "      <th>Portugal</th>\n",
        "      <th>Sweden</th>\n",
        "      <th>Switzerland</th>\n",
        "    </tr>\n",
        "    <tr>\n",
        "      <th>Date</th>\n",
        "      <th></th>\n",
        "      <th></th>\n",
        "      <th></th>\n",
        "      <th></th>\n",
        "      <th></th>\n",
        "      <th></th>\n",
        "    </tr>\n",
        "  </thead>\n",
        "  <tbody>\n",
        "    <tr>\n",
        "      <th>2021-01-14</th>\n",
        "      <td>0.01926</td>\n",
        "      <td>0.014053</td>\n",
        "      <td>0.001178</td>\n",
        "      <td>0.012175</td>\n",
        "      <td>0.016741</td>\n",
        "      <td>0.001182</td>\n",
        "    </tr>\n",
        "    <tr>\n",
        "      <th>2021-01-15</th>\n",
        "      <td>0.01926</td>\n",
        "      <td>0.014053</td>\n",
        "      <td>0.001178</td>\n",
        "      <td>0.012175</td>\n",
        "      <td>0.016741</td>\n",
        "      <td>0.001182</td>\n",
        "    </tr>\n",
        "    <tr>\n",
        "      <th>2021-01-16</th>\n",
        "      <td>0.01926</td>\n",
        "      <td>0.014053</td>\n",
        "      <td>0.001178</td>\n",
        "      <td>0.012175</td>\n",
        "      <td>0.016741</td>\n",
        "      <td>0.001182</td>\n",
        "    </tr>\n",
        "    <tr>\n",
        "      <th>2021-01-17</th>\n",
        "      <td>0.01926</td>\n",
        "      <td>0.014053</td>\n",
        "      <td>0.001178</td>\n",
        "      <td>0.012175</td>\n",
        "      <td>0.016741</td>\n",
        "      <td>0.001182</td>\n",
        "    </tr>\n",
        "    <tr>\n",
        "      <th>2021-01-18</th>\n",
        "      <td>0.01926</td>\n",
        "      <td>0.014053</td>\n",
        "      <td>0.001178</td>\n",
        "      <td>0.012175</td>\n",
        "      <td>0.016741</td>\n",
        "      <td>0.001182</td>\n",
        "    </tr>\n",
        "  </tbody>\n",
        "</table>\n",
        "</div>"
       ],
       "output_type": "pyout",
       "prompt_number": 16,
       "text": [
        "Country     Germany  Malaysia    Norway  Portugal    Sweden  Switzerland\n",
        "Date                                                                    \n",
        "2021-01-14  0.01926  0.014053  0.001178  0.012175  0.016741     0.001182\n",
        "2021-01-15  0.01926  0.014053  0.001178  0.012175  0.016741     0.001182\n",
        "2021-01-16  0.01926  0.014053  0.001178  0.012175  0.016741     0.001182\n",
        "2021-01-17  0.01926  0.014053  0.001178  0.012175  0.016741     0.001182\n",
        "2021-01-18  0.01926  0.014053  0.001178  0.012175  0.016741     0.001182"
       ]
      }
     ],
     "prompt_number": 16
    },
    {
     "cell_type": "heading",
     "level": 3,
     "metadata": {},
     "source": [
      "$\\kappa$: Mortality rate of infected cases $\\mathrm{[-]}$"
     ]
    },
    {
     "cell_type": "code",
     "collapsed": false,
     "input": [
      "analyser.history(\"kappa\", roll_window=None).tail()"
     ],
     "language": "python",
     "metadata": {},
     "outputs": [
      {
       "output_type": "display_data",
       "png": "[encoded data removed]",
       "text": [
        "<Figure size 648x432 with 1 Axes>"
       ]
      },
      {
       "html": [
        "<div>\n",
        "<style scoped>\n",
        "    .dataframe tbody tr th:only-of-type {\n",
        "        vertical-align: middle;\n",
        "    }\n",
        "\n",
        "    .dataframe tbody tr th {\n",
        "        vertical-align: top;\n",
        "    }\n",
        "\n",
        "    .dataframe thead th {\n",
        "        text-align: right;\n",
        "    }\n",
        "</style>\n",
        "<table border=\"1\" class=\"dataframe\">\n",
        "  <thead>\n",
        "    <tr style=\"text-align: right;\">\n",
        "      <th>Country</th>\n",
        "      <th>Germany</th>\n",
        "      <th>Malaysia</th>\n",
        "      <th>Norway</th>\n",
        "      <th>Portugal</th>\n",
        "      <th>Sweden</th>\n",
        "      <th>Switzerland</th>\n",
        "    </tr>\n",
        "    <tr>\n",
        "      <th>Date</th>\n",
        "      <th></th>\n",
        "      <th></th>\n",
        "      <th></th>\n",
        "      <th></th>\n",
        "      <th></th>\n",
        "      <th></th>\n",
        "    </tr>\n",
        "  </thead>\n",
        "  <tbody>\n",
        "    <tr>\n",
        "      <th>2021-01-14</th>\n",
        "      <td>0.000257</td>\n",
        "      <td>0.000096</td>\n",
        "      <td>0.000059</td>\n",
        "      <td>0.000257</td>\n",
        "      <td>0.000071</td>\n",
        "      <td>0.000041</td>\n",
        "    </tr>\n",
        "    <tr>\n",
        "      <th>2021-01-15</th>\n",
        "      <td>0.000257</td>\n",
        "      <td>0.000096</td>\n",
        "      <td>0.000059</td>\n",
        "      <td>0.000257</td>\n",
        "      <td>0.000071</td>\n",
        "      <td>0.000041</td>\n",
        "    </tr>\n",
        "    <tr>\n",
        "      <th>2021-01-16</th>\n",
        "      <td>0.000257</td>\n",
        "      <td>0.000096</td>\n",
        "      <td>0.000059</td>\n",
        "      <td>0.000257</td>\n",
        "      <td>0.000071</td>\n",
        "      <td>0.000041</td>\n",
        "    </tr>\n",
        "    <tr>\n",
        "      <th>2021-01-17</th>\n",
        "      <td>0.000257</td>\n",
        "      <td>0.000096</td>\n",
        "      <td>0.000059</td>\n",
        "      <td>0.000257</td>\n",
        "      <td>0.000071</td>\n",
        "      <td>0.000041</td>\n",
        "    </tr>\n",
        "    <tr>\n",
        "      <th>2021-01-18</th>\n",
        "      <td>0.000257</td>\n",
        "      <td>0.000096</td>\n",
        "      <td>0.000059</td>\n",
        "      <td>0.000257</td>\n",
        "      <td>0.000071</td>\n",
        "      <td>0.000041</td>\n",
        "    </tr>\n",
        "  </tbody>\n",
        "</table>\n",
        "</div>"
       ],
       "output_type": "pyout",
       "prompt_number": 17,
       "text": [
        "Country      Germany  Malaysia    Norway  Portugal    Sweden  Switzerland\n",
        "Date                                                                     \n",
        "2021-01-14  0.000257  0.000096  0.000059  0.000257  0.000071     0.000041\n",
        "2021-01-15  0.000257  0.000096  0.000059  0.000257  0.000071     0.000041\n",
        "2021-01-16  0.000257  0.000096  0.000059  0.000257  0.000071     0.000041\n",
        "2021-01-17  0.000257  0.000096  0.000059  0.000257  0.000071     0.000041\n",
        "2021-01-18  0.000257  0.000096  0.000059  0.000257  0.000071     0.000041"
       ]
      }
     ],
     "prompt_number": 17
    },
    {
     "cell_type": "heading",
     "level": 3,
     "metadata": {},
     "source": [
      "$\\theta$: Mortality rate of S$^\\ast$ cases $\\mathrm{[-]}$"
     ]
    },
    {
     "cell_type": "code",
     "collapsed": false,
     "input": [
      "analyser.history(\"theta\", roll_window=None).tail()"
     ],
     "language": "python",
     "metadata": {},
     "outputs": [
      {
       "output_type": "display_data",
       "png": "[encoded data removed]",
       "text": [
        "<Figure size 648x432 with 1 Axes>"
       ]
      },
      {
       "html": [
        "<div>\n",
        "<style scoped>\n",
        "    .dataframe tbody tr th:only-of-type {\n",
        "        vertical-align: middle;\n",
        "    }\n",
        "\n",
        "    .dataframe tbody tr th {\n",
        "        vertical-align: top;\n",
        "    }\n",
        "\n",
        "    .dataframe thead th {\n",
        "        text-align: right;\n",
        "    }\n",
        "</style>\n",
        "<table border=\"1\" class=\"dataframe\">\n",
        "  <thead>\n",
        "    <tr style=\"text-align: right;\">\n",
        "      <th>Country</th>\n",
        "      <th>Germany</th>\n",
        "      <th>Malaysia</th>\n",
        "      <th>Norway</th>\n",
        "      <th>Portugal</th>\n",
        "      <th>Sweden</th>\n",
        "      <th>Switzerland</th>\n",
        "    </tr>\n",
        "    <tr>\n",
        "      <th>Date</th>\n",
        "      <th></th>\n",
        "      <th></th>\n",
        "      <th></th>\n",
        "      <th></th>\n",
        "      <th></th>\n",
        "      <th></th>\n",
        "    </tr>\n",
        "  </thead>\n",
        "  <tbody>\n",
        "    <tr>\n",
        "      <th>2021-01-14</th>\n",
        "      <td>0.000257</td>\n",
        "      <td>0.000707</td>\n",
        "      <td>0.008441</td>\n",
        "      <td>0.00021</td>\n",
        "      <td>0.001303</td>\n",
        "      <td>0.308018</td>\n",
        "    </tr>\n",
        "    <tr>\n",
        "      <th>2021-01-15</th>\n",
        "      <td>0.000257</td>\n",
        "      <td>0.000707</td>\n",
        "      <td>0.008441</td>\n",
        "      <td>0.00021</td>\n",
        "      <td>0.001303</td>\n",
        "      <td>0.308018</td>\n",
        "    </tr>\n",
        "    <tr>\n",
        "      <th>2021-01-16</th>\n",
        "      <td>0.000257</td>\n",
        "      <td>0.000707</td>\n",
        "      <td>0.008441</td>\n",
        "      <td>0.00021</td>\n",
        "      <td>0.001303</td>\n",
        "      <td>0.308018</td>\n",
        "    </tr>\n",
        "    <tr>\n",
        "      <th>2021-01-17</th>\n",
        "      <td>0.000257</td>\n",
        "      <td>0.000707</td>\n",
        "      <td>0.008441</td>\n",
        "      <td>0.00021</td>\n",
        "      <td>0.001303</td>\n",
        "      <td>0.308018</td>\n",
        "    </tr>\n",
        "    <tr>\n",
        "      <th>2021-01-18</th>\n",
        "      <td>0.000257</td>\n",
        "      <td>0.000707</td>\n",
        "      <td>0.008441</td>\n",
        "      <td>0.00021</td>\n",
        "      <td>0.001303</td>\n",
        "      <td>0.308018</td>\n",
        "    </tr>\n",
        "  </tbody>\n",
        "</table>\n",
        "</div>"
       ],
       "output_type": "pyout",
       "prompt_number": 18,
       "text": [
        "Country      Germany  Malaysia    Norway  Portugal    Sweden  Switzerland\n",
        "Date                                                                     \n",
        "2021-01-14  0.000257  0.000707  0.008441   0.00021  0.001303     0.308018\n",
        "2021-01-15  0.000257  0.000707  0.008441   0.00021  0.001303     0.308018\n",
        "2021-01-16  0.000257  0.000707  0.008441   0.00021  0.001303     0.308018\n",
        "2021-01-17  0.000257  0.000707  0.008441   0.00021  0.001303     0.308018\n",
        "2021-01-18  0.000257  0.000707  0.008441   0.00021  0.001303     0.308018"
       ]
      }
     ],
     "prompt_number": 18
    },
    {
     "cell_type": "markdown",
     "metadata": {},
     "source": [
      "## (Experimental): Relationship of OxCGRT index and parameter values\n",
      "Government responses will impact on parameter values of ODE models about 14 days later. Here, we will investigate on the relationship of [stringency index (from OxCGRT)](https://github.com/OxCGRT/covid-policy-tracker/blob/master/documentation/index_methodology.md) and reproduction number/model parameters.\n"
     ]
    },
    {
     "cell_type": "code",
     "collapsed": false,
     "input": [
      "%matplotlib inline\n",
      "from matplotlib import pyplot as plt\n",
      "import seaborn as sns\n",
      "import pandas as pd"
     ],
     "language": "python",
     "metadata": {},
     "outputs": [],
     "prompt_number": 19
    },
    {
     "cell_type": "code",
     "collapsed": false,
     "input": [
      "df = analyser.track()\n",
      "param_cols = [\"Rt\", *cs.SIRF.PARAMETERS]\n",
      "oxcgrt_cols = oxcgrt_data.OXCGRT_VARS[:]\n",
      "cols = param_cols + oxcgrt_cols\n",
      "delay = 14\n",
      "\n",
      "for col in param_cols:\n",
      "    df[col] = pd.to_numeric(df[col], errors=\"coerce\")\n",
      "    df[col] = df.groupby(\"Country\")[col].shift(0 - delay)\n",
      "\n",
      "df = df.dropna(how=\"any\")\n",
      "df = df.loc[:, [\"Date\", \"Country\", *cols]]\n",
      "track_df = df.copy()\n",
      "track_df.info()"
     ],
     "language": "python",
     "metadata": {},
     "outputs": [
      {
       "output_type": "stream",
       "stream": "stdout",
       "text": [
        "<class 'pandas.core.frame.DataFrame'>\n",
        "Int64Index: 21341 entries, 0 to 21410\n",
        "Data columns (total 19 columns):\n",
        " #   Column                               Non-Null Count  Dtype         \n",
        "---  ------                               --------------  -----         \n",
        " 0   Date                                 21341 non-null  datetime64[ns]\n",
        " 1   Country                              21341 non-null  object        \n",
        " 2   Rt                                   21341 non-null  float64       \n",
        " 3   theta                                21341 non-null  float64       \n",
        " 4   kappa                                21341 non-null  float64       \n",
        " 5   rho                                  21341 non-null  float64       \n",
        " 6   sigma                                21341 non-null  float64       \n",
        " 7   School_closing                       21341 non-null  int64         \n",
        " 8   Workplace_closing                    21341 non-null  int64         \n",
        " 9   Cancel_events                        21341 non-null  int64         \n",
        " 10  Gatherings_restrictions              21341 non-null  int64         \n",
        " 11  Transport_closing                    21341 non-null  int64         \n",
        " 12  Stay_home_restrictions               21341 non-null  int64         \n",
        " 13  Internal_movement_restrictions       21341 non-null  int64         \n",
        " 14  International_movement_restrictions  21341 non-null  int64         \n",
        " 15  Information_campaigns                21341 non-null  int64         \n",
        " 16  Testing_policy                       21341 non-null  int64         \n",
        " 17  Contact_tracing                      21341 non-null  int64         \n",
        " 18  Stringency_index                     21341 non-null  float64       \n",
        "dtypes: datetime64[ns](1), float64(6), int64(11), object(1)\n",
        "memory usage: 3.3+ MB\n"
       ]
      }
     ],
     "prompt_number": 20
    },
    {
     "cell_type": "code",
     "collapsed": false,
     "input": [
      "# Correlation\n",
      "df = track_df.copy()\n",
      "df.corr().style.background_gradient(axis=None)"
     ],
     "language": "python",
     "metadata": {},
     "outputs": [
      {
       "html": [
        "<style  type=\"text/css\" >\n",
        "#T_fc1c2_row0_col0,#T_fc1c2_row1_col1,#T_fc1c2_row2_col2,#T_fc1c2_row3_col3,#T_fc1c2_row4_col4,#T_fc1c2_row5_col5,#T_fc1c2_row6_col6,#T_fc1c2_row7_col7,#T_fc1c2_row8_col8,#T_fc1c2_row9_col9,#T_fc1c2_row10_col10,#T_fc1c2_row11_col11,#T_fc1c2_row12_col12,#T_fc1c2_row13_col13,#T_fc1c2_row14_col14,#T_fc1c2_row15_col15,#T_fc1c2_row16_col16{\n",
        "            background-color:  #023858;\n",
        "            color:  #f1f1f1;\n",
        "        }#T_fc1c2_row0_col1,#T_fc1c2_row0_col2,#T_fc1c2_row1_col0,#T_fc1c2_row2_col0{\n",
        "            background-color:  #c4cbe3;\n",
        "            color:  #000000;\n",
        "        }#T_fc1c2_row0_col3,#T_fc1c2_row3_col0{\n",
        "            background-color:  #0872b1;\n",
        "            color:  #f1f1f1;\n",
        "        }#T_fc1c2_row0_col4,#T_fc1c2_row4_col0{\n",
        "            background-color:  #f8f1f8;\n",
        "            color:  #000000;\n",
        "        }#T_fc1c2_row0_col5,#T_fc1c2_row1_col16,#T_fc1c2_row5_col0,#T_fc1c2_row16_col1{\n",
        "            background-color:  #dbdaeb;\n",
        "            color:  #000000;\n",
        "        }#T_fc1c2_row0_col6,#T_fc1c2_row2_col5,#T_fc1c2_row3_col15,#T_fc1c2_row5_col2,#T_fc1c2_row6_col0,#T_fc1c2_row15_col3{\n",
        "            background-color:  #d9d8ea;\n",
        "            color:  #000000;\n",
        "        }#T_fc1c2_row0_col7,#T_fc1c2_row7_col0{\n",
        "            background-color:  #c6cce3;\n",
        "            color:  #000000;\n",
        "        }#T_fc1c2_row0_col8,#T_fc1c2_row0_col16,#T_fc1c2_row8_col0,#T_fc1c2_row16_col0{\n",
        "            background-color:  #dad9ea;\n",
        "            color:  #000000;\n",
        "        }#T_fc1c2_row0_col9,#T_fc1c2_row9_col0{\n",
        "            background-color:  #cdd0e5;\n",
        "            color:  #000000;\n",
        "        }#T_fc1c2_row0_col10,#T_fc1c2_row0_col14,#T_fc1c2_row1_col12,#T_fc1c2_row2_col14,#T_fc1c2_row10_col0,#T_fc1c2_row12_col1,#T_fc1c2_row14_col0,#T_fc1c2_row14_col2{\n",
        "            background-color:  #e5e1ef;\n",
        "            color:  #000000;\n",
        "        }#T_fc1c2_row0_col11,#T_fc1c2_row2_col12,#T_fc1c2_row11_col0,#T_fc1c2_row12_col2{\n",
        "            background-color:  #ece7f2;\n",
        "            color:  #000000;\n",
        "        }#T_fc1c2_row0_col12,#T_fc1c2_row3_col14,#T_fc1c2_row12_col0,#T_fc1c2_row14_col3{\n",
        "            background-color:  #eee8f3;\n",
        "            color:  #000000;\n",
        "        }#T_fc1c2_row0_col13,#T_fc1c2_row8_col15,#T_fc1c2_row13_col0,#T_fc1c2_row15_col8{\n",
        "            background-color:  #c9cee4;\n",
        "            color:  #000000;\n",
        "        }#T_fc1c2_row0_col15,#T_fc1c2_row1_col4,#T_fc1c2_row4_col1,#T_fc1c2_row15_col0{\n",
        "            background-color:  #e0deed;\n",
        "            color:  #000000;\n",
        "        }#T_fc1c2_row1_col2,#T_fc1c2_row2_col1{\n",
        "            background-color:  #03456c;\n",
        "            color:  #f1f1f1;\n",
        "        }#T_fc1c2_row1_col3,#T_fc1c2_row3_col1,#T_fc1c2_row4_col14,#T_fc1c2_row14_col4{\n",
        "            background-color:  #89b1d4;\n",
        "            color:  #000000;\n",
        "        }#T_fc1c2_row1_col5,#T_fc1c2_row5_col1,#T_fc1c2_row5_col9,#T_fc1c2_row9_col5{\n",
        "            background-color:  #d2d3e7;\n",
        "            color:  #000000;\n",
        "        }#T_fc1c2_row1_col6,#T_fc1c2_row6_col1{\n",
        "            background-color:  #e7e3f0;\n",
        "            color:  #000000;\n",
        "        }#T_fc1c2_row1_col7,#T_fc1c2_row2_col8,#T_fc1c2_row7_col1,#T_fc1c2_row8_col2{\n",
        "            background-color:  #dcdaeb;\n",
        "            color:  #000000;\n",
        "        }#T_fc1c2_row1_col8,#T_fc1c2_row8_col1{\n",
        "            background-color:  #d6d6e9;\n",
        "            color:  #000000;\n",
        "        }#T_fc1c2_row1_col9,#T_fc1c2_row9_col1{\n",
        "            background-color:  #bcc7e1;\n",
        "            color:  #000000;\n",
        "        }#T_fc1c2_row1_col10,#T_fc1c2_row2_col10,#T_fc1c2_row10_col1,#T_fc1c2_row10_col2{\n",
        "            background-color:  #e3e0ee;\n",
        "            color:  #000000;\n",
        "        }#T_fc1c2_row1_col11,#T_fc1c2_row1_col14,#T_fc1c2_row3_col10,#T_fc1c2_row10_col3,#T_fc1c2_row11_col1,#T_fc1c2_row14_col1{\n",
        "            background-color:  #ebe6f2;\n",
        "            color:  #000000;\n",
        "        }#T_fc1c2_row1_col13,#T_fc1c2_row2_col7,#T_fc1c2_row2_col16,#T_fc1c2_row3_col7,#T_fc1c2_row7_col2,#T_fc1c2_row7_col3,#T_fc1c2_row13_col1,#T_fc1c2_row16_col2{\n",
        "            background-color:  #e2dfee;\n",
        "            color:  #000000;\n",
        "        }#T_fc1c2_row1_col15,#T_fc1c2_row15_col1{\n",
        "            background-color:  #b8c6e0;\n",
        "            color:  #000000;\n",
        "        }#T_fc1c2_row2_col3,#T_fc1c2_row3_col2{\n",
        "            background-color:  #73a9cf;\n",
        "            color:  #000000;\n",
        "        }#T_fc1c2_row2_col4,#T_fc1c2_row4_col2{\n",
        "            background-color:  #dedcec;\n",
        "            color:  #000000;\n",
        "        }#T_fc1c2_row2_col6,#T_fc1c2_row6_col2{\n",
        "            background-color:  #eae6f1;\n",
        "            color:  #000000;\n",
        "        }#T_fc1c2_row2_col9,#T_fc1c2_row9_col2{\n",
        "            background-color:  #bfc9e1;\n",
        "            color:  #000000;\n",
        "        }#T_fc1c2_row2_col11,#T_fc1c2_row3_col4,#T_fc1c2_row3_col6,#T_fc1c2_row4_col3,#T_fc1c2_row6_col3,#T_fc1c2_row11_col2{\n",
        "            background-color:  #efe9f3;\n",
        "            color:  #000000;\n",
        "        }#T_fc1c2_row2_col13,#T_fc1c2_row3_col8,#T_fc1c2_row8_col3,#T_fc1c2_row13_col2{\n",
        "            background-color:  #e8e4f0;\n",
        "            color:  #000000;\n",
        "        }#T_fc1c2_row2_col15,#T_fc1c2_row15_col2{\n",
        "            background-color:  #b7c5df;\n",
        "            color:  #000000;\n",
        "        }#T_fc1c2_row3_col5,#T_fc1c2_row5_col3{\n",
        "            background-color:  #f4edf6;\n",
        "            color:  #000000;\n",
        "        }#T_fc1c2_row3_col9,#T_fc1c2_row9_col3{\n",
        "            background-color:  #b4c4df;\n",
        "            color:  #000000;\n",
        "        }#T_fc1c2_row3_col11,#T_fc1c2_row11_col3{\n",
        "            background-color:  #f1ebf5;\n",
        "            color:  #000000;\n",
        "        }#T_fc1c2_row3_col12,#T_fc1c2_row12_col3{\n",
        "            background-color:  #f5eff6;\n",
        "            color:  #000000;\n",
        "        }#T_fc1c2_row3_col13,#T_fc1c2_row13_col3{\n",
        "            background-color:  #e0dded;\n",
        "            color:  #000000;\n",
        "        }#T_fc1c2_row3_col16,#T_fc1c2_row16_col3{\n",
        "            background-color:  #ede7f2;\n",
        "            color:  #000000;\n",
        "        }#T_fc1c2_row4_col5,#T_fc1c2_row5_col4,#T_fc1c2_row11_col15,#T_fc1c2_row12_col15,#T_fc1c2_row15_col11,#T_fc1c2_row15_col12{\n",
        "            background-color:  #97b7d7;\n",
        "            color:  #000000;\n",
        "        }#T_fc1c2_row4_col6,#T_fc1c2_row6_col4{\n",
        "            background-color:  #91b5d6;\n",
        "            color:  #000000;\n",
        "        }#T_fc1c2_row4_col7,#T_fc1c2_row7_col4{\n",
        "            background-color:  #8bb2d4;\n",
        "            color:  #000000;\n",
        "        }#T_fc1c2_row4_col8,#T_fc1c2_row8_col4,#T_fc1c2_row14_col16,#T_fc1c2_row16_col14{\n",
        "            background-color:  #78abd0;\n",
        "            color:  #000000;\n",
        "        }#T_fc1c2_row4_col9,#T_fc1c2_row9_col4{\n",
        "            background-color:  #bbc7e0;\n",
        "            color:  #000000;\n",
        "        }#T_fc1c2_row4_col10,#T_fc1c2_row10_col4{\n",
        "            background-color:  #a2bcda;\n",
        "            color:  #000000;\n",
        "        }#T_fc1c2_row4_col11,#T_fc1c2_row11_col4{\n",
        "            background-color:  #79abd0;\n",
        "            color:  #000000;\n",
        "        }#T_fc1c2_row4_col12,#T_fc1c2_row12_col4{\n",
        "            background-color:  #69a5cc;\n",
        "            color:  #000000;\n",
        "        }#T_fc1c2_row4_col13,#T_fc1c2_row9_col11,#T_fc1c2_row9_col12,#T_fc1c2_row11_col9,#T_fc1c2_row12_col9,#T_fc1c2_row13_col4{\n",
        "            background-color:  #96b6d7;\n",
        "            color:  #000000;\n",
        "        }#T_fc1c2_row4_col15,#T_fc1c2_row15_col4{\n",
        "            background-color:  #a7bddb;\n",
        "            color:  #000000;\n",
        "        }#T_fc1c2_row4_col16,#T_fc1c2_row16_col4{\n",
        "            background-color:  #7bacd1;\n",
        "            color:  #000000;\n",
        "        }#T_fc1c2_row5_col6,#T_fc1c2_row6_col5{\n",
        "            background-color:  #549cc7;\n",
        "            color:  #000000;\n",
        "        }#T_fc1c2_row5_col7,#T_fc1c2_row7_col5,#T_fc1c2_row7_col14,#T_fc1c2_row14_col7{\n",
        "            background-color:  #2d8abd;\n",
        "            color:  #000000;\n",
        "        }#T_fc1c2_row5_col8,#T_fc1c2_row8_col5{\n",
        "            background-color:  #a5bddb;\n",
        "            color:  #000000;\n",
        "        }#T_fc1c2_row5_col10,#T_fc1c2_row10_col5{\n",
        "            background-color:  #569dc8;\n",
        "            color:  #000000;\n",
        "        }#T_fc1c2_row5_col11,#T_fc1c2_row11_col5{\n",
        "            background-color:  #2f8bbe;\n",
        "            color:  #000000;\n",
        "        }#T_fc1c2_row5_col12,#T_fc1c2_row12_col5{\n",
        "            background-color:  #1c7fb8;\n",
        "            color:  #000000;\n",
        "        }#T_fc1c2_row5_col13,#T_fc1c2_row13_col5{\n",
        "            background-color:  #4496c3;\n",
        "            color:  #000000;\n",
        "        }#T_fc1c2_row5_col14,#T_fc1c2_row14_col5{\n",
        "            background-color:  #a1bbda;\n",
        "            color:  #000000;\n",
        "        }#T_fc1c2_row5_col15,#T_fc1c2_row15_col5{\n",
        "            background-color:  #93b5d6;\n",
        "            color:  #000000;\n",
        "        }#T_fc1c2_row5_col16,#T_fc1c2_row16_col5{\n",
        "            background-color:  #4897c4;\n",
        "            color:  #000000;\n",
        "        }#T_fc1c2_row6_col7,#T_fc1c2_row7_col6{\n",
        "            background-color:  #2a88bc;\n",
        "            color:  #000000;\n",
        "        }#T_fc1c2_row6_col8,#T_fc1c2_row8_col6{\n",
        "            background-color:  #045d92;\n",
        "            color:  #f1f1f1;\n",
        "        }#T_fc1c2_row6_col9,#T_fc1c2_row9_col6{\n",
        "            background-color:  #9cb9d9;\n",
        "            color:  #000000;\n",
        "        }#T_fc1c2_row6_col10,#T_fc1c2_row8_col12,#T_fc1c2_row10_col6,#T_fc1c2_row12_col8{\n",
        "            background-color:  #167bb6;\n",
        "            color:  #000000;\n",
        "        }#T_fc1c2_row6_col11,#T_fc1c2_row11_col6{\n",
        "            background-color:  #2182b9;\n",
        "            color:  #000000;\n",
        "        }#T_fc1c2_row6_col12,#T_fc1c2_row12_col6{\n",
        "            background-color:  #157ab5;\n",
        "            color:  #000000;\n",
        "        }#T_fc1c2_row6_col13,#T_fc1c2_row11_col14,#T_fc1c2_row12_col14,#T_fc1c2_row13_col6,#T_fc1c2_row14_col11,#T_fc1c2_row14_col12{\n",
        "            background-color:  #3f93c2;\n",
        "            color:  #000000;\n",
        "        }#T_fc1c2_row6_col14,#T_fc1c2_row14_col6{\n",
        "            background-color:  #6ba5cd;\n",
        "            color:  #000000;\n",
        "        }#T_fc1c2_row6_col15,#T_fc1c2_row15_col6{\n",
        "            background-color:  #b3c3de;\n",
        "            color:  #000000;\n",
        "        }#T_fc1c2_row6_col16,#T_fc1c2_row16_col6{\n",
        "            background-color:  #045a8d;\n",
        "            color:  #f1f1f1;\n",
        "        }#T_fc1c2_row7_col8,#T_fc1c2_row8_col7{\n",
        "            background-color:  #2484ba;\n",
        "            color:  #000000;\n",
        "        }#T_fc1c2_row7_col9,#T_fc1c2_row9_col7{\n",
        "            background-color:  #8fb4d6;\n",
        "            color:  #000000;\n",
        "        }#T_fc1c2_row7_col10,#T_fc1c2_row10_col7{\n",
        "            background-color:  #2081b9;\n",
        "            color:  #000000;\n",
        "        }#T_fc1c2_row7_col11,#T_fc1c2_row11_col7{\n",
        "            background-color:  #1379b5;\n",
        "            color:  #f1f1f1;\n",
        "        }#T_fc1c2_row7_col12,#T_fc1c2_row12_col7{\n",
        "            background-color:  #04649d;\n",
        "            color:  #f1f1f1;\n",
        "        }#T_fc1c2_row7_col13,#T_fc1c2_row13_col7{\n",
        "            background-color:  #045e93;\n",
        "            color:  #f1f1f1;\n",
        "        }#T_fc1c2_row7_col15,#T_fc1c2_row15_col7{\n",
        "            background-color:  #8eb3d5;\n",
        "            color:  #000000;\n",
        "        }#T_fc1c2_row7_col16,#T_fc1c2_row16_col7{\n",
        "            background-color:  #056caa;\n",
        "            color:  #f1f1f1;\n",
        "        }#T_fc1c2_row8_col9,#T_fc1c2_row9_col8{\n",
        "            background-color:  #7dacd1;\n",
        "            color:  #000000;\n",
        "        }#T_fc1c2_row8_col10,#T_fc1c2_row10_col8{\n",
        "            background-color:  #3d93c2;\n",
        "            color:  #000000;\n",
        "        }#T_fc1c2_row8_col11,#T_fc1c2_row8_col13,#T_fc1c2_row11_col8,#T_fc1c2_row13_col8,#T_fc1c2_row14_col15,#T_fc1c2_row15_col14{\n",
        "            background-color:  #3991c1;\n",
        "            color:  #000000;\n",
        "        }#T_fc1c2_row8_col14,#T_fc1c2_row14_col8{\n",
        "            background-color:  #7eadd1;\n",
        "            color:  #000000;\n",
        "        }#T_fc1c2_row8_col16,#T_fc1c2_row16_col8{\n",
        "            background-color:  #045788;\n",
        "            color:  #f1f1f1;\n",
        "        }#T_fc1c2_row9_col10,#T_fc1c2_row10_col9,#T_fc1c2_row11_col13,#T_fc1c2_row13_col11{\n",
        "            background-color:  #2c89bd;\n",
        "            color:  #000000;\n",
        "        }#T_fc1c2_row9_col13,#T_fc1c2_row13_col9{\n",
        "            background-color:  #9ab8d8;\n",
        "            color:  #000000;\n",
        "        }#T_fc1c2_row9_col14,#T_fc1c2_row14_col9{\n",
        "            background-color:  #99b8d8;\n",
        "            color:  #000000;\n",
        "        }#T_fc1c2_row9_col15,#T_fc1c2_row15_col9{\n",
        "            background-color:  #fff7fb;\n",
        "            color:  #000000;\n",
        "        }#T_fc1c2_row9_col16,#T_fc1c2_row16_col9{\n",
        "            background-color:  #4094c3;\n",
        "            color:  #000000;\n",
        "        }#T_fc1c2_row10_col11,#T_fc1c2_row11_col10{\n",
        "            background-color:  #2685bb;\n",
        "            color:  #000000;\n",
        "        }#T_fc1c2_row10_col12,#T_fc1c2_row12_col10{\n",
        "            background-color:  #2383ba;\n",
        "            color:  #000000;\n",
        "        }#T_fc1c2_row10_col13,#T_fc1c2_row13_col10{\n",
        "            background-color:  #3b92c1;\n",
        "            color:  #000000;\n",
        "        }#T_fc1c2_row10_col14,#T_fc1c2_row13_col14,#T_fc1c2_row14_col10,#T_fc1c2_row14_col13{\n",
        "            background-color:  #348ebf;\n",
        "            color:  #000000;\n",
        "        }#T_fc1c2_row10_col15,#T_fc1c2_row15_col10{\n",
        "            background-color:  #c0c9e2;\n",
        "            color:  #000000;\n",
        "        }#T_fc1c2_row10_col16,#T_fc1c2_row16_col10{\n",
        "            background-color:  #056faf;\n",
        "            color:  #f1f1f1;\n",
        "        }#T_fc1c2_row11_col12,#T_fc1c2_row12_col11{\n",
        "            background-color:  #056ead;\n",
        "            color:  #f1f1f1;\n",
        "        }#T_fc1c2_row11_col16,#T_fc1c2_row16_col11{\n",
        "            background-color:  #1077b4;\n",
        "            color:  #f1f1f1;\n",
        "        }#T_fc1c2_row12_col13,#T_fc1c2_row13_col12{\n",
        "            background-color:  #05659f;\n",
        "            color:  #f1f1f1;\n",
        "        }#T_fc1c2_row12_col16,#T_fc1c2_row16_col12{\n",
        "            background-color:  #04629a;\n",
        "            color:  #f1f1f1;\n",
        "        }#T_fc1c2_row13_col15,#T_fc1c2_row15_col13{\n",
        "            background-color:  #5ea0ca;\n",
        "            color:  #000000;\n",
        "        }#T_fc1c2_row13_col16,#T_fc1c2_row16_col13{\n",
        "            background-color:  #0771b1;\n",
        "            color:  #f1f1f1;\n",
        "        }#T_fc1c2_row15_col16,#T_fc1c2_row16_col15{\n",
        "            background-color:  #d5d5e8;\n",
        "            color:  #000000;\n",
        "        }</style><table id=\"T_fc1c2_\" ><thead>    <tr>        <th class=\"blank level0\" ></th>        <th class=\"col_heading level0 col0\" >Rt</th>        <th class=\"col_heading level0 col1\" >theta</th>        <th class=\"col_heading level0 col2\" >kappa</th>        <th class=\"col_heading level0 col3\" >rho</th>        <th class=\"col_heading level0 col4\" >sigma</th>        <th class=\"col_heading level0 col5\" >School_closing</th>        <th class=\"col_heading level0 col6\" >Workplace_closing</th>        <th class=\"col_heading level0 col7\" >Cancel_events</th>        <th class=\"col_heading level0 col8\" >Gatherings_restrictions</th>        <th class=\"col_heading level0 col9\" >Transport_closing</th>        <th class=\"col_heading level0 col10\" >Stay_home_restrictions</th>        <th class=\"col_heading level0 col11\" >Internal_movement_restrictions</th>        <th class=\"col_heading level0 col12\" >International_movement_restrictions</th>        <th class=\"col_heading level0 col13\" >Information_campaigns</th>        <th class=\"col_heading level0 col14\" >Testing_policy</th>        <th class=\"col_heading level0 col15\" >Contact_tracing</th>        <th class=\"col_heading level0 col16\" >Stringency_index</th>    </tr></thead><tbody>\n",
        "                <tr>\n",
        "                        <th id=\"T_fc1c2_level0_row0\" class=\"row_heading level0 row0\" >Rt</th>\n",
        "                        <td id=\"T_fc1c2_row0_col0\" class=\"data row0 col0\" >1.000000</td>\n",
        "                        <td id=\"T_fc1c2_row0_col1\" class=\"data row0 col1\" >-0.038365</td>\n",
        "                        <td id=\"T_fc1c2_row0_col2\" class=\"data row0 col2\" >-0.042276</td>\n",
        "                        <td id=\"T_fc1c2_row0_col3\" class=\"data row0 col3\" >0.621810</td>\n",
        "                        <td id=\"T_fc1c2_row0_col4\" class=\"data row0 col4\" >-0.388129</td>\n",
        "                        <td id=\"T_fc1c2_row0_col5\" class=\"data row0 col5\" >-0.163129</td>\n",
        "                        <td id=\"T_fc1c2_row0_col6\" class=\"data row0 col6\" >-0.156020</td>\n",
        "                        <td id=\"T_fc1c2_row0_col7\" class=\"data row0 col7\" >-0.050809</td>\n",
        "                        <td id=\"T_fc1c2_row0_col8\" class=\"data row0 col8\" >-0.159331</td>\n",
        "                        <td id=\"T_fc1c2_row0_col9\" class=\"data row0 col9\" >-0.080355</td>\n",
        "                        <td id=\"T_fc1c2_row0_col10\" class=\"data row0 col10\" >-0.229728</td>\n",
        "                        <td id=\"T_fc1c2_row0_col11\" class=\"data row0 col11\" >-0.276059</td>\n",
        "                        <td id=\"T_fc1c2_row0_col12\" class=\"data row0 col12\" >-0.292968</td>\n",
        "                        <td id=\"T_fc1c2_row0_col13\" class=\"data row0 col13\" >-0.061042</td>\n",
        "                        <td id=\"T_fc1c2_row0_col14\" class=\"data row0 col14\" >-0.229454</td>\n",
        "                        <td id=\"T_fc1c2_row0_col15\" class=\"data row0 col15\" >-0.198143</td>\n",
        "                        <td id=\"T_fc1c2_row0_col16\" class=\"data row0 col16\" >-0.159258</td>\n",
        "            </tr>\n",
        "            <tr>\n",
        "                        <th id=\"T_fc1c2_level0_row1\" class=\"row_heading level0 row1\" >theta</th>\n",
        "                        <td id=\"T_fc1c2_row1_col0\" class=\"data row1 col0\" >-0.038365</td>\n",
        "                        <td id=\"T_fc1c2_row1_col1\" class=\"data row1 col1\" >1.000000</td>\n",
        "                        <td id=\"T_fc1c2_row1_col2\" class=\"data row1 col2\" >0.930578</td>\n",
        "                        <td id=\"T_fc1c2_row1_col3\" class=\"data row1 col3\" >0.194083</td>\n",
        "                        <td id=\"T_fc1c2_row1_col4\" class=\"data row1 col4\" >-0.200090</td>\n",
        "                        <td id=\"T_fc1c2_row1_col5\" class=\"data row1 col5\" >-0.110576</td>\n",
        "                        <td id=\"T_fc1c2_row1_col6\" class=\"data row1 col6\" >-0.241939</td>\n",
        "                        <td id=\"T_fc1c2_row1_col7\" class=\"data row1 col7\" >-0.172107</td>\n",
        "                        <td id=\"T_fc1c2_row1_col8\" class=\"data row1 col8\" >-0.129465</td>\n",
        "                        <td id=\"T_fc1c2_row1_col9\" class=\"data row1 col9\" >-0.003715</td>\n",
        "                        <td id=\"T_fc1c2_row1_col10\" class=\"data row1 col10\" >-0.214258</td>\n",
        "                        <td id=\"T_fc1c2_row1_col11\" class=\"data row1 col11\" >-0.268995</td>\n",
        "                        <td id=\"T_fc1c2_row1_col12\" class=\"data row1 col12\" >-0.230601</td>\n",
        "                        <td id=\"T_fc1c2_row1_col13\" class=\"data row1 col13\" >-0.210784</td>\n",
        "                        <td id=\"T_fc1c2_row1_col14\" class=\"data row1 col14\" >-0.269639</td>\n",
        "                        <td id=\"T_fc1c2_row1_col15\" class=\"data row1 col15\" >0.008837</td>\n",
        "                        <td id=\"T_fc1c2_row1_col16\" class=\"data row1 col16\" >-0.167028</td>\n",
        "            </tr>\n",
        "            <tr>\n",
        "                        <th id=\"T_fc1c2_level0_row2\" class=\"row_heading level0 row2\" >kappa</th>\n",
        "                        <td id=\"T_fc1c2_row2_col0\" class=\"data row2 col0\" >-0.042276</td>\n",
        "                        <td id=\"T_fc1c2_row2_col1\" class=\"data row2 col1\" >0.930578</td>\n",
        "                        <td id=\"T_fc1c2_row2_col2\" class=\"data row2 col2\" >1.000000</td>\n",
        "                        <td id=\"T_fc1c2_row2_col3\" class=\"data row2 col3\" >0.272196</td>\n",
        "                        <td id=\"T_fc1c2_row2_col4\" class=\"data row2 col4\" >-0.179637</td>\n",
        "                        <td id=\"T_fc1c2_row2_col5\" class=\"data row2 col5\" >-0.150778</td>\n",
        "                        <td id=\"T_fc1c2_row2_col6\" class=\"data row2 col6\" >-0.260127</td>\n",
        "                        <td id=\"T_fc1c2_row2_col7\" class=\"data row2 col7\" >-0.210447</td>\n",
        "                        <td id=\"T_fc1c2_row2_col8\" class=\"data row2 col8\" >-0.168679</td>\n",
        "                        <td id=\"T_fc1c2_row2_col9\" class=\"data row2 col9\" >-0.016462</td>\n",
        "                        <td id=\"T_fc1c2_row2_col10\" class=\"data row2 col10\" >-0.214539</td>\n",
        "                        <td id=\"T_fc1c2_row2_col11\" class=\"data row2 col11\" >-0.303077</td>\n",
        "                        <td id=\"T_fc1c2_row2_col12\" class=\"data row2 col12\" >-0.275866</td>\n",
        "                        <td id=\"T_fc1c2_row2_col13\" class=\"data row2 col13\" >-0.248136</td>\n",
        "                        <td id=\"T_fc1c2_row2_col14\" class=\"data row2 col14\" >-0.230077</td>\n",
        "                        <td id=\"T_fc1c2_row2_col15\" class=\"data row2 col15\" >0.016319</td>\n",
        "                        <td id=\"T_fc1c2_row2_col16\" class=\"data row2 col16\" >-0.211494</td>\n",
        "            </tr>\n",
        "            <tr>\n",
        "                        <th id=\"T_fc1c2_level0_row3\" class=\"row_heading level0 row3\" >rho</th>\n",
        "                        <td id=\"T_fc1c2_row3_col0\" class=\"data row3 col0\" >0.621810</td>\n",
        "                        <td id=\"T_fc1c2_row3_col1\" class=\"data row3 col1\" >0.194083</td>\n",
        "                        <td id=\"T_fc1c2_row3_col2\" class=\"data row3 col2\" >0.272196</td>\n",
        "                        <td id=\"T_fc1c2_row3_col3\" class=\"data row3 col3\" >1.000000</td>\n",
        "                        <td id=\"T_fc1c2_row3_col4\" class=\"data row3 col4\" >-0.302332</td>\n",
        "                        <td id=\"T_fc1c2_row3_col5\" class=\"data row3 col5\" >-0.347177</td>\n",
        "                        <td id=\"T_fc1c2_row3_col6\" class=\"data row3 col6\" >-0.299272</td>\n",
        "                        <td id=\"T_fc1c2_row3_col7\" class=\"data row3 col7\" >-0.211169</td>\n",
        "                        <td id=\"T_fc1c2_row3_col8\" class=\"data row3 col8\" >-0.249236</td>\n",
        "                        <td id=\"T_fc1c2_row3_col9\" class=\"data row3 col9\" >0.028773</td>\n",
        "                        <td id=\"T_fc1c2_row3_col10\" class=\"data row3 col10\" >-0.265251</td>\n",
        "                        <td id=\"T_fc1c2_row3_col11\" class=\"data row3 col11\" >-0.323488</td>\n",
        "                        <td id=\"T_fc1c2_row3_col12\" class=\"data row3 col12\" >-0.366109</td>\n",
        "                        <td id=\"T_fc1c2_row3_col13\" class=\"data row3 col13\" >-0.194587</td>\n",
        "                        <td id=\"T_fc1c2_row3_col14\" class=\"data row3 col14\" >-0.289884</td>\n",
        "                        <td id=\"T_fc1c2_row3_col15\" class=\"data row3 col15\" >-0.156084</td>\n",
        "                        <td id=\"T_fc1c2_row3_col16\" class=\"data row3 col16\" >-0.279702</td>\n",
        "            </tr>\n",
        "            <tr>\n",
        "                        <th id=\"T_fc1c2_level0_row4\" class=\"row_heading level0 row4\" >sigma</th>\n",
        "                        <td id=\"T_fc1c2_row4_col0\" class=\"data row4 col0\" >-0.388129</td>\n",
        "                        <td id=\"T_fc1c2_row4_col1\" class=\"data row4 col1\" >-0.200090</td>\n",
        "                        <td id=\"T_fc1c2_row4_col2\" class=\"data row4 col2\" >-0.179637</td>\n",
        "                        <td id=\"T_fc1c2_row4_col3\" class=\"data row4 col3\" >-0.302332</td>\n",
        "                        <td id=\"T_fc1c2_row4_col4\" class=\"data row4 col4\" >1.000000</td>\n",
        "                        <td id=\"T_fc1c2_row4_col5\" class=\"data row4 col5\" >0.143792</td>\n",
        "                        <td id=\"T_fc1c2_row4_col6\" class=\"data row4 col6\" >0.167938</td>\n",
        "                        <td id=\"T_fc1c2_row4_col7\" class=\"data row4 col7\" >0.187616</td>\n",
        "                        <td id=\"T_fc1c2_row4_col8\" class=\"data row4 col8\" >0.259174</td>\n",
        "                        <td id=\"T_fc1c2_row4_col9\" class=\"data row4 col9\" >-0.002027</td>\n",
        "                        <td id=\"T_fc1c2_row4_col10\" class=\"data row4 col10\" >0.099878</td>\n",
        "                        <td id=\"T_fc1c2_row4_col11\" class=\"data row4 col11\" >0.252182</td>\n",
        "                        <td id=\"T_fc1c2_row4_col12\" class=\"data row4 col12\" >0.303469</td>\n",
        "                        <td id=\"T_fc1c2_row4_col13\" class=\"data row4 col13\" >0.148972</td>\n",
        "                        <td id=\"T_fc1c2_row4_col14\" class=\"data row4 col14\" >0.191825</td>\n",
        "                        <td id=\"T_fc1c2_row4_col15\" class=\"data row4 col15\" >0.084214</td>\n",
        "                        <td id=\"T_fc1c2_row4_col16\" class=\"data row4 col16\" >0.242894</td>\n",
        "            </tr>\n",
        "            <tr>\n",
        "                        <th id=\"T_fc1c2_level0_row5\" class=\"row_heading level0 row5\" >School_closing</th>\n",
        "                        <td id=\"T_fc1c2_row5_col0\" class=\"data row5 col0\" >-0.163129</td>\n",
        "                        <td id=\"T_fc1c2_row5_col1\" class=\"data row5 col1\" >-0.110576</td>\n",
        "                        <td id=\"T_fc1c2_row5_col2\" class=\"data row5 col2\" >-0.150778</td>\n",
        "                        <td id=\"T_fc1c2_row5_col3\" class=\"data row5 col3\" >-0.347177</td>\n",
        "                        <td id=\"T_fc1c2_row5_col4\" class=\"data row5 col4\" >0.143792</td>\n",
        "                        <td id=\"T_fc1c2_row5_col5\" class=\"data row5 col5\" >1.000000</td>\n",
        "                        <td id=\"T_fc1c2_row5_col6\" class=\"data row5 col6\" >0.366359</td>\n",
        "                        <td id=\"T_fc1c2_row5_col7\" class=\"data row5 col7\" >0.482467</td>\n",
        "                        <td id=\"T_fc1c2_row5_col8\" class=\"data row5 col8\" >0.088334</td>\n",
        "                        <td id=\"T_fc1c2_row5_col9\" class=\"data row5 col9\" >-0.109116</td>\n",
        "                        <td id=\"T_fc1c2_row5_col10\" class=\"data row5 col10\" >0.359145</td>\n",
        "                        <td id=\"T_fc1c2_row5_col11\" class=\"data row5 col11\" >0.479874</td>\n",
        "                        <td id=\"T_fc1c2_row5_col12\" class=\"data row5 col12\" >0.549191</td>\n",
        "                        <td id=\"T_fc1c2_row5_col13\" class=\"data row5 col13\" >0.409517</td>\n",
        "                        <td id=\"T_fc1c2_row5_col14\" class=\"data row5 col14\" >0.105838</td>\n",
        "                        <td id=\"T_fc1c2_row5_col15\" class=\"data row5 col15\" >0.158202</td>\n",
        "                        <td id=\"T_fc1c2_row5_col16\" class=\"data row5 col16\" >0.399577</td>\n",
        "            </tr>\n",
        "            <tr>\n",
        "                        <th id=\"T_fc1c2_level0_row6\" class=\"row_heading level0 row6\" >Workplace_closing</th>\n",
        "                        <td id=\"T_fc1c2_row6_col0\" class=\"data row6 col0\" >-0.156020</td>\n",
        "                        <td id=\"T_fc1c2_row6_col1\" class=\"data row6 col1\" >-0.241939</td>\n",
        "                        <td id=\"T_fc1c2_row6_col2\" class=\"data row6 col2\" >-0.260127</td>\n",
        "                        <td id=\"T_fc1c2_row6_col3\" class=\"data row6 col3\" >-0.299272</td>\n",
        "                        <td id=\"T_fc1c2_row6_col4\" class=\"data row6 col4\" >0.167938</td>\n",
        "                        <td id=\"T_fc1c2_row6_col5\" class=\"data row6 col5\" >0.366359</td>\n",
        "                        <td id=\"T_fc1c2_row6_col6\" class=\"data row6 col6\" >1.000000</td>\n",
        "                        <td id=\"T_fc1c2_row6_col7\" class=\"data row6 col7\" >0.497370</td>\n",
        "                        <td id=\"T_fc1c2_row6_col8\" class=\"data row6 col8\" >0.794301</td>\n",
        "                        <td id=\"T_fc1c2_row6_col9\" class=\"data row6 col9\" >0.123957</td>\n",
        "                        <td id=\"T_fc1c2_row6_col10\" class=\"data row6 col10\" >0.567931</td>\n",
        "                        <td id=\"T_fc1c2_row6_col11\" class=\"data row6 col11\" >0.530298</td>\n",
        "                        <td id=\"T_fc1c2_row6_col12\" class=\"data row6 col12\" >0.576359</td>\n",
        "                        <td id=\"T_fc1c2_row6_col13\" class=\"data row6 col13\" >0.429427</td>\n",
        "                        <td id=\"T_fc1c2_row6_col14\" class=\"data row6 col14\" >0.296655</td>\n",
        "                        <td id=\"T_fc1c2_row6_col15\" class=\"data row6 col15\" >0.035325</td>\n",
        "                        <td id=\"T_fc1c2_row6_col16\" class=\"data row6 col16\" >0.813119</td>\n",
        "            </tr>\n",
        "            <tr>\n",
        "                        <th id=\"T_fc1c2_level0_row7\" class=\"row_heading level0 row7\" >Cancel_events</th>\n",
        "                        <td id=\"T_fc1c2_row7_col0\" class=\"data row7 col0\" >-0.050809</td>\n",
        "                        <td id=\"T_fc1c2_row7_col1\" class=\"data row7 col1\" >-0.172107</td>\n",
        "                        <td id=\"T_fc1c2_row7_col2\" class=\"data row7 col2\" >-0.210447</td>\n",
        "                        <td id=\"T_fc1c2_row7_col3\" class=\"data row7 col3\" >-0.211169</td>\n",
        "                        <td id=\"T_fc1c2_row7_col4\" class=\"data row7 col4\" >0.187616</td>\n",
        "                        <td id=\"T_fc1c2_row7_col5\" class=\"data row7 col5\" >0.482467</td>\n",
        "                        <td id=\"T_fc1c2_row7_col6\" class=\"data row7 col6\" >0.497370</td>\n",
        "                        <td id=\"T_fc1c2_row7_col7\" class=\"data row7 col7\" >1.000000</td>\n",
        "                        <td id=\"T_fc1c2_row7_col8\" class=\"data row7 col8\" >0.516297</td>\n",
        "                        <td id=\"T_fc1c2_row7_col9\" class=\"data row7 col9\" >0.169832</td>\n",
        "                        <td id=\"T_fc1c2_row7_col10\" class=\"data row7 col10\" >0.536244</td>\n",
        "                        <td id=\"T_fc1c2_row7_col11\" class=\"data row7 col11\" >0.583224</td>\n",
        "                        <td id=\"T_fc1c2_row7_col12\" class=\"data row7 col12\" >0.736138</td>\n",
        "                        <td id=\"T_fc1c2_row7_col13\" class=\"data row7 col13\" >0.784533</td>\n",
        "                        <td id=\"T_fc1c2_row7_col14\" class=\"data row7 col14\" >0.483228</td>\n",
        "                        <td id=\"T_fc1c2_row7_col15\" class=\"data row7 col15\" >0.176977</td>\n",
        "                        <td id=\"T_fc1c2_row7_col16\" class=\"data row7 col16\" >0.668946</td>\n",
        "            </tr>\n",
        "            <tr>\n",
        "                        <th id=\"T_fc1c2_level0_row8\" class=\"row_heading level0 row8\" >Gatherings_restrictions</th>\n",
        "                        <td id=\"T_fc1c2_row8_col0\" class=\"data row8 col0\" >-0.159331</td>\n",
        "                        <td id=\"T_fc1c2_row8_col1\" class=\"data row8 col1\" >-0.129465</td>\n",
        "                        <td id=\"T_fc1c2_row8_col2\" class=\"data row8 col2\" >-0.168679</td>\n",
        "                        <td id=\"T_fc1c2_row8_col3\" class=\"data row8 col3\" >-0.249236</td>\n",
        "                        <td id=\"T_fc1c2_row8_col4\" class=\"data row8 col4\" >0.259174</td>\n",
        "                        <td id=\"T_fc1c2_row8_col5\" class=\"data row8 col5\" >0.088334</td>\n",
        "                        <td id=\"T_fc1c2_row8_col6\" class=\"data row8 col6\" >0.794301</td>\n",
        "                        <td id=\"T_fc1c2_row8_col7\" class=\"data row8 col7\" >0.516297</td>\n",
        "                        <td id=\"T_fc1c2_row8_col8\" class=\"data row8 col8\" >1.000000</td>\n",
        "                        <td id=\"T_fc1c2_row8_col9\" class=\"data row8 col9\" >0.239243</td>\n",
        "                        <td id=\"T_fc1c2_row8_col10\" class=\"data row8 col10\" >0.435147</td>\n",
        "                        <td id=\"T_fc1c2_row8_col11\" class=\"data row8 col11\" >0.441999</td>\n",
        "                        <td id=\"T_fc1c2_row8_col12\" class=\"data row8 col12\" >0.567361</td>\n",
        "                        <td id=\"T_fc1c2_row8_col13\" class=\"data row8 col13\" >0.445487</td>\n",
        "                        <td id=\"T_fc1c2_row8_col14\" class=\"data row8 col14\" >0.233708</td>\n",
        "                        <td id=\"T_fc1c2_row8_col15\" class=\"data row8 col15\" >-0.062284</td>\n",
        "                        <td id=\"T_fc1c2_row8_col16\" class=\"data row8 col16\" >0.833512</td>\n",
        "            </tr>\n",
        "            <tr>\n",
        "                        <th id=\"T_fc1c2_level0_row9\" class=\"row_heading level0 row9\" >Transport_closing</th>\n",
        "                        <td id=\"T_fc1c2_row9_col0\" class=\"data row9 col0\" >-0.080355</td>\n",
        "                        <td id=\"T_fc1c2_row9_col1\" class=\"data row9 col1\" >-0.003715</td>\n",
        "                        <td id=\"T_fc1c2_row9_col2\" class=\"data row9 col2\" >-0.016462</td>\n",
        "                        <td id=\"T_fc1c2_row9_col3\" class=\"data row9 col3\" >0.028773</td>\n",
        "                        <td id=\"T_fc1c2_row9_col4\" class=\"data row9 col4\" >-0.002027</td>\n",
        "                        <td id=\"T_fc1c2_row9_col5\" class=\"data row9 col5\" >-0.109116</td>\n",
        "                        <td id=\"T_fc1c2_row9_col6\" class=\"data row9 col6\" >0.123957</td>\n",
        "                        <td id=\"T_fc1c2_row9_col7\" class=\"data row9 col7\" >0.169832</td>\n",
        "                        <td id=\"T_fc1c2_row9_col8\" class=\"data row9 col8\" >0.239243</td>\n",
        "                        <td id=\"T_fc1c2_row9_col9\" class=\"data row9 col9\" >1.000000</td>\n",
        "                        <td id=\"T_fc1c2_row9_col10\" class=\"data row9 col10\" >0.488955</td>\n",
        "                        <td id=\"T_fc1c2_row9_col11\" class=\"data row9 col11\" >0.147343</td>\n",
        "                        <td id=\"T_fc1c2_row9_col12\" class=\"data row9 col12\" >0.150860</td>\n",
        "                        <td id=\"T_fc1c2_row9_col13\" class=\"data row9 col13\" >0.133496</td>\n",
        "                        <td id=\"T_fc1c2_row9_col14\" class=\"data row9 col14\" >0.137523</td>\n",
        "                        <td id=\"T_fc1c2_row9_col15\" class=\"data row9 col15\" >-0.458751</td>\n",
        "                        <td id=\"T_fc1c2_row9_col16\" class=\"data row9 col16\" >0.419583</td>\n",
        "            </tr>\n",
        "            <tr>\n",
        "                        <th id=\"T_fc1c2_level0_row10\" class=\"row_heading level0 row10\" >Stay_home_restrictions</th>\n",
        "                        <td id=\"T_fc1c2_row10_col0\" class=\"data row10 col0\" >-0.229728</td>\n",
        "                        <td id=\"T_fc1c2_row10_col1\" class=\"data row10 col1\" >-0.214258</td>\n",
        "                        <td id=\"T_fc1c2_row10_col2\" class=\"data row10 col2\" >-0.214539</td>\n",
        "                        <td id=\"T_fc1c2_row10_col3\" class=\"data row10 col3\" >-0.265251</td>\n",
        "                        <td id=\"T_fc1c2_row10_col4\" class=\"data row10 col4\" >0.099878</td>\n",
        "                        <td id=\"T_fc1c2_row10_col5\" class=\"data row10 col5\" >0.359145</td>\n",
        "                        <td id=\"T_fc1c2_row10_col6\" class=\"data row10 col6\" >0.567931</td>\n",
        "                        <td id=\"T_fc1c2_row10_col7\" class=\"data row10 col7\" >0.536244</td>\n",
        "                        <td id=\"T_fc1c2_row10_col8\" class=\"data row10 col8\" >0.435147</td>\n",
        "                        <td id=\"T_fc1c2_row10_col9\" class=\"data row10 col9\" >0.488955</td>\n",
        "                        <td id=\"T_fc1c2_row10_col10\" class=\"data row10 col10\" >1.000000</td>\n",
        "                        <td id=\"T_fc1c2_row10_col11\" class=\"data row10 col11\" >0.514881</td>\n",
        "                        <td id=\"T_fc1c2_row10_col12\" class=\"data row10 col12\" >0.526603</td>\n",
        "                        <td id=\"T_fc1c2_row10_col13\" class=\"data row10 col13\" >0.436059</td>\n",
        "                        <td id=\"T_fc1c2_row10_col14\" class=\"data row10 col14\" >0.464070</td>\n",
        "                        <td id=\"T_fc1c2_row10_col15\" class=\"data row10 col15\" >-0.022987</td>\n",
        "                        <td id=\"T_fc1c2_row10_col16\" class=\"data row10 col16\" >0.639119</td>\n",
        "            </tr>\n",
        "            <tr>\n",
        "                        <th id=\"T_fc1c2_level0_row11\" class=\"row_heading level0 row11\" >Internal_movement_restrictions</th>\n",
        "                        <td id=\"T_fc1c2_row11_col0\" class=\"data row11 col0\" >-0.276059</td>\n",
        "                        <td id=\"T_fc1c2_row11_col1\" class=\"data row11 col1\" >-0.268995</td>\n",
        "                        <td id=\"T_fc1c2_row11_col2\" class=\"data row11 col2\" >-0.303077</td>\n",
        "                        <td id=\"T_fc1c2_row11_col3\" class=\"data row11 col3\" >-0.323488</td>\n",
        "                        <td id=\"T_fc1c2_row11_col4\" class=\"data row11 col4\" >0.252182</td>\n",
        "                        <td id=\"T_fc1c2_row11_col5\" class=\"data row11 col5\" >0.479874</td>\n",
        "                        <td id=\"T_fc1c2_row11_col6\" class=\"data row11 col6\" >0.530298</td>\n",
        "                        <td id=\"T_fc1c2_row11_col7\" class=\"data row11 col7\" >0.583224</td>\n",
        "                        <td id=\"T_fc1c2_row11_col8\" class=\"data row11 col8\" >0.441999</td>\n",
        "                        <td id=\"T_fc1c2_row11_col9\" class=\"data row11 col9\" >0.147343</td>\n",
        "                        <td id=\"T_fc1c2_row11_col10\" class=\"data row11 col10\" >0.514881</td>\n",
        "                        <td id=\"T_fc1c2_row11_col11\" class=\"data row11 col11\" >1.000000</td>\n",
        "                        <td id=\"T_fc1c2_row11_col12\" class=\"data row11 col12\" >0.647668</td>\n",
        "                        <td id=\"T_fc1c2_row11_col13\" class=\"data row11 col13\" >0.488864</td>\n",
        "                        <td id=\"T_fc1c2_row11_col14\" class=\"data row11 col14\" >0.426293</td>\n",
        "                        <td id=\"T_fc1c2_row11_col15\" class=\"data row11 col15\" >0.140573</td>\n",
        "                        <td id=\"T_fc1c2_row11_col16\" class=\"data row11 col16\" >0.592468</td>\n",
        "            </tr>\n",
        "            <tr>\n",
        "                        <th id=\"T_fc1c2_level0_row12\" class=\"row_heading level0 row12\" >International_movement_restrictions</th>\n",
        "                        <td id=\"T_fc1c2_row12_col0\" class=\"data row12 col0\" >-0.292968</td>\n",
        "                        <td id=\"T_fc1c2_row12_col1\" class=\"data row12 col1\" >-0.230601</td>\n",
        "                        <td id=\"T_fc1c2_row12_col2\" class=\"data row12 col2\" >-0.275866</td>\n",
        "                        <td id=\"T_fc1c2_row12_col3\" class=\"data row12 col3\" >-0.366109</td>\n",
        "                        <td id=\"T_fc1c2_row12_col4\" class=\"data row12 col4\" >0.303469</td>\n",
        "                        <td id=\"T_fc1c2_row12_col5\" class=\"data row12 col5\" >0.549191</td>\n",
        "                        <td id=\"T_fc1c2_row12_col6\" class=\"data row12 col6\" >0.576359</td>\n",
        "                        <td id=\"T_fc1c2_row12_col7\" class=\"data row12 col7\" >0.736138</td>\n",
        "                        <td id=\"T_fc1c2_row12_col8\" class=\"data row12 col8\" >0.567361</td>\n",
        "                        <td id=\"T_fc1c2_row12_col9\" class=\"data row12 col9\" >0.150860</td>\n",
        "                        <td id=\"T_fc1c2_row12_col10\" class=\"data row12 col10\" >0.526603</td>\n",
        "                        <td id=\"T_fc1c2_row12_col11\" class=\"data row12 col11\" >0.647668</td>\n",
        "                        <td id=\"T_fc1c2_row12_col12\" class=\"data row12 col12\" >1.000000</td>\n",
        "                        <td id=\"T_fc1c2_row12_col13\" class=\"data row12 col13\" >0.724976</td>\n",
        "                        <td id=\"T_fc1c2_row12_col14\" class=\"data row12 col14\" >0.426646</td>\n",
        "                        <td id=\"T_fc1c2_row12_col15\" class=\"data row12 col15\" >0.139831</td>\n",
        "                        <td id=\"T_fc1c2_row12_col16\" class=\"data row12 col16\" >0.747046</td>\n",
        "            </tr>\n",
        "            <tr>\n",
        "                        <th id=\"T_fc1c2_level0_row13\" class=\"row_heading level0 row13\" >Information_campaigns</th>\n",
        "                        <td id=\"T_fc1c2_row13_col0\" class=\"data row13 col0\" >-0.061042</td>\n",
        "                        <td id=\"T_fc1c2_row13_col1\" class=\"data row13 col1\" >-0.210784</td>\n",
        "                        <td id=\"T_fc1c2_row13_col2\" class=\"data row13 col2\" >-0.248136</td>\n",
        "                        <td id=\"T_fc1c2_row13_col3\" class=\"data row13 col3\" >-0.194587</td>\n",
        "                        <td id=\"T_fc1c2_row13_col4\" class=\"data row13 col4\" >0.148972</td>\n",
        "                        <td id=\"T_fc1c2_row13_col5\" class=\"data row13 col5\" >0.409517</td>\n",
        "                        <td id=\"T_fc1c2_row13_col6\" class=\"data row13 col6\" >0.429427</td>\n",
        "                        <td id=\"T_fc1c2_row13_col7\" class=\"data row13 col7\" >0.784533</td>\n",
        "                        <td id=\"T_fc1c2_row13_col8\" class=\"data row13 col8\" >0.445487</td>\n",
        "                        <td id=\"T_fc1c2_row13_col9\" class=\"data row13 col9\" >0.133496</td>\n",
        "                        <td id=\"T_fc1c2_row13_col10\" class=\"data row13 col10\" >0.436059</td>\n",
        "                        <td id=\"T_fc1c2_row13_col11\" class=\"data row13 col11\" >0.488864</td>\n",
        "                        <td id=\"T_fc1c2_row13_col12\" class=\"data row13 col12\" >0.724976</td>\n",
        "                        <td id=\"T_fc1c2_row13_col13\" class=\"data row13 col13\" >1.000000</td>\n",
        "                        <td id=\"T_fc1c2_row13_col14\" class=\"data row13 col14\" >0.463843</td>\n",
        "                        <td id=\"T_fc1c2_row13_col15\" class=\"data row13 col15\" >0.334455</td>\n",
        "                        <td id=\"T_fc1c2_row13_col16\" class=\"data row13 col16\" >0.629524</td>\n",
        "            </tr>\n",
        "            <tr>\n",
        "                        <th id=\"T_fc1c2_level0_row14\" class=\"row_heading level0 row14\" >Testing_policy</th>\n",
        "                        <td id=\"T_fc1c2_row14_col0\" class=\"data row14 col0\" >-0.229454</td>\n",
        "                        <td id=\"T_fc1c2_row14_col1\" class=\"data row14 col1\" >-0.269639</td>\n",
        "                        <td id=\"T_fc1c2_row14_col2\" class=\"data row14 col2\" >-0.230077</td>\n",
        "                        <td id=\"T_fc1c2_row14_col3\" class=\"data row14 col3\" >-0.289884</td>\n",
        "                        <td id=\"T_fc1c2_row14_col4\" class=\"data row14 col4\" >0.191825</td>\n",
        "                        <td id=\"T_fc1c2_row14_col5\" class=\"data row14 col5\" >0.105838</td>\n",
        "                        <td id=\"T_fc1c2_row14_col6\" class=\"data row14 col6\" >0.296655</td>\n",
        "                        <td id=\"T_fc1c2_row14_col7\" class=\"data row14 col7\" >0.483228</td>\n",
        "                        <td id=\"T_fc1c2_row14_col8\" class=\"data row14 col8\" >0.233708</td>\n",
        "                        <td id=\"T_fc1c2_row14_col9\" class=\"data row14 col9\" >0.137523</td>\n",
        "                        <td id=\"T_fc1c2_row14_col10\" class=\"data row14 col10\" >0.464070</td>\n",
        "                        <td id=\"T_fc1c2_row14_col11\" class=\"data row14 col11\" >0.426293</td>\n",
        "                        <td id=\"T_fc1c2_row14_col12\" class=\"data row14 col12\" >0.426646</td>\n",
        "                        <td id=\"T_fc1c2_row14_col13\" class=\"data row14 col13\" >0.463843</td>\n",
        "                        <td id=\"T_fc1c2_row14_col14\" class=\"data row14 col14\" >1.000000</td>\n",
        "                        <td id=\"T_fc1c2_row14_col15\" class=\"data row14 col15\" >0.446226</td>\n",
        "                        <td id=\"T_fc1c2_row14_col16\" class=\"data row14 col16\" >0.258796</td>\n",
        "            </tr>\n",
        "            <tr>\n",
        "                        <th id=\"T_fc1c2_level0_row15\" class=\"row_heading level0 row15\" >Contact_tracing</th>\n",
        "                        <td id=\"T_fc1c2_row15_col0\" class=\"data row15 col0\" >-0.198143</td>\n",
        "                        <td id=\"T_fc1c2_row15_col1\" class=\"data row15 col1\" >0.008837</td>\n",
        "                        <td id=\"T_fc1c2_row15_col2\" class=\"data row15 col2\" >0.016319</td>\n",
        "                        <td id=\"T_fc1c2_row15_col3\" class=\"data row15 col3\" >-0.156084</td>\n",
        "                        <td id=\"T_fc1c2_row15_col4\" class=\"data row15 col4\" >0.084214</td>\n",
        "                        <td id=\"T_fc1c2_row15_col5\" class=\"data row15 col5\" >0.158202</td>\n",
        "                        <td id=\"T_fc1c2_row15_col6\" class=\"data row15 col6\" >0.035325</td>\n",
        "                        <td id=\"T_fc1c2_row15_col7\" class=\"data row15 col7\" >0.176977</td>\n",
        "                        <td id=\"T_fc1c2_row15_col8\" class=\"data row15 col8\" >-0.062284</td>\n",
        "                        <td id=\"T_fc1c2_row15_col9\" class=\"data row15 col9\" >-0.458751</td>\n",
        "                        <td id=\"T_fc1c2_row15_col10\" class=\"data row15 col10\" >-0.022987</td>\n",
        "                        <td id=\"T_fc1c2_row15_col11\" class=\"data row15 col11\" >0.140573</td>\n",
        "                        <td id=\"T_fc1c2_row15_col12\" class=\"data row15 col12\" >0.139831</td>\n",
        "                        <td id=\"T_fc1c2_row15_col13\" class=\"data row15 col13\" >0.334455</td>\n",
        "                        <td id=\"T_fc1c2_row15_col14\" class=\"data row15 col14\" >0.446226</td>\n",
        "                        <td id=\"T_fc1c2_row15_col15\" class=\"data row15 col15\" >1.000000</td>\n",
        "                        <td id=\"T_fc1c2_row15_col16\" class=\"data row15 col16\" >-0.125990</td>\n",
        "            </tr>\n",
        "            <tr>\n",
        "                        <th id=\"T_fc1c2_level0_row16\" class=\"row_heading level0 row16\" >Stringency_index</th>\n",
        "                        <td id=\"T_fc1c2_row16_col0\" class=\"data row16 col0\" >-0.159258</td>\n",
        "                        <td id=\"T_fc1c2_row16_col1\" class=\"data row16 col1\" >-0.167028</td>\n",
        "                        <td id=\"T_fc1c2_row16_col2\" class=\"data row16 col2\" >-0.211494</td>\n",
        "                        <td id=\"T_fc1c2_row16_col3\" class=\"data row16 col3\" >-0.279702</td>\n",
        "                        <td id=\"T_fc1c2_row16_col4\" class=\"data row16 col4\" >0.242894</td>\n",
        "                        <td id=\"T_fc1c2_row16_col5\" class=\"data row16 col5\" >0.399577</td>\n",
        "                        <td id=\"T_fc1c2_row16_col6\" class=\"data row16 col6\" >0.813119</td>\n",
        "                        <td id=\"T_fc1c2_row16_col7\" class=\"data row16 col7\" >0.668946</td>\n",
        "                        <td id=\"T_fc1c2_row16_col8\" class=\"data row16 col8\" >0.833512</td>\n",
        "                        <td id=\"T_fc1c2_row16_col9\" class=\"data row16 col9\" >0.419583</td>\n",
        "                        <td id=\"T_fc1c2_row16_col10\" class=\"data row16 col10\" >0.639119</td>\n",
        "                        <td id=\"T_fc1c2_row16_col11\" class=\"data row16 col11\" >0.592468</td>\n",
        "                        <td id=\"T_fc1c2_row16_col12\" class=\"data row16 col12\" >0.747046</td>\n",
        "                        <td id=\"T_fc1c2_row16_col13\" class=\"data row16 col13\" >0.629524</td>\n",
        "                        <td id=\"T_fc1c2_row16_col14\" class=\"data row16 col14\" >0.258796</td>\n",
        "                        <td id=\"T_fc1c2_row16_col15\" class=\"data row16 col15\" >-0.125990</td>\n",
        "                        <td id=\"T_fc1c2_row16_col16\" class=\"data row16 col16\" >1.000000</td>\n",
        "            </tr>\n",
        "    </tbody></table>"
       ],
       "output_type": "pyout",
       "prompt_number": 21,
       "text": [
        "<pandas.io.formats.style.Styler at 0x7fdcb0fea250>"
       ]
      }
     ],
     "prompt_number": 21
    },
    {
     "cell_type": "code",
     "collapsed": false,
     "input": [
      "# Scatter plot of Stringency index and Rt\n",
      "df = track_df.copy()\n",
      "sns.scatterplot(data=df, x=\"Stringency_index\", y=\"Rt\", hue=\"Country\", legend=\"brief\", marker=\"+\")\n",
      "bbox_to_anchor=(1.02, 0)\n",
      "bbox_loc=\"lower left\"\n",
      "plt.legend(bbox_to_anchor=bbox_to_anchor, loc=bbox_loc, borderaxespad=0)\n",
      "plt.title(\"Relationship of Stringency index and reproduction number\")\n",
      "plt.ylabel(\"Reproduction number\")\n",
      "plt.xlabel(\"Stringency index\")\n",
      "plt.show()"
     ],
     "language": "python",
     "metadata": {},
     "outputs": [
      {
       "output_type": "display_data",
       "png": "[encoded data removed]",
       "text": [
        "<Figure size 432x288 with 1 Axes>"
       ]
      }
     ],
     "prompt_number": 22
    }
   ],
   "metadata": {}
  }
 ]
}
