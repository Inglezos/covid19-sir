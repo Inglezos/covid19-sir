{
 "cells": [
  {
   "cell_type": "markdown",
   "metadata": {},
   "source": [
    "# Usage: policy measures\n",
    "Here, we will analyse the relationship of policy measures and parameter values of SIR-derived ODE models. Policy measures are tracked by [Oxford Covid-19 Government Response Tracker (OxCGRT)](https://github.com/OxCGRT/covid-policy-tracker)."
   ]
  },
  {
   "cell_type": "markdown",
   "metadata": {},
   "source": [
    "## Preparation"
   ]
  },
  {
   "cell_type": "code",
   "execution_count": 1,
   "metadata": {
    "collapsed": false
   },
   "outputs": [],
   "source": [
    "# Standard users\n",
    "# !pip install covsirphy\n",
    "# Developers (Note: this notebook is in example directory)\n",
    "import os\n",
    "os.chdir(\"../\")"
   ]
  },
  {
   "cell_type": "code",
   "execution_count": 2,
   "metadata": {
    "collapsed": false
   },
   "outputs": [],
   "source": [
    "from pprint import pprint"
   ]
  },
  {
   "cell_type": "code",
   "execution_count": 3,
   "metadata": {
    "collapsed": false
   },
   "outputs": [
    {
     "data": {
      "text/plain": [
       "'2.13.3-kappa.new.56.280.420.422.429.449.475.fix.438.441.450'"
      ]
     },
     "execution_count": 3,
     "metadata": {},
     "output_type": "execute_result"
    }
   ],
   "source": [
    "import covsirphy as cs\n",
    "cs.__version__"
   ]
  },
  {
   "cell_type": "code",
   "execution_count": 4,
   "metadata": {
    "collapsed": false,
    "tags": []
   },
   "outputs": [
    {
     "name": "stdout",
     "output_type": "stream",
     "text": [
      "(Secondary source) Guidotti, E., Ardia, D., (2020), \"COVID-19 Data Hub\", Journal of Open Source Software 5(51):2376, doi: 10.21105/joss.02376.\n"
     ]
    }
   ],
   "source": [
    "# Standard users and developers\n",
    "data_loader = cs.DataLoader(\"input\")\n",
    "# The number of cases (JHU style)\n",
    "jhu_data = data_loader.jhu(verbose=False)\n",
    "# Population in each country\n",
    "population_data = data_loader.population(verbose=False)\n",
    "# Government Response Tracker (OxCGRT)\n",
    "oxcgrt_data = data_loader.oxcgrt(verbose=False)\n",
    "# Description/citation\n",
    "print(oxcgrt_data.citation)"
   ]
  },
  {
   "cell_type": "markdown",
   "metadata": {},
   "source": [
    "## Class for policy measure analysis\n",
    "We will `PolicyMeasures` class to find relationship of policy measures and parameter values of SIR-derived ODE models."
   ]
  },
  {
   "cell_type": "code",
   "execution_count": 5,
   "metadata": {
    "collapsed": false,
    "tags": []
   },
   "outputs": [
    {
     "data": {
      "text/plain": [
       "196"
      ]
     },
     "execution_count": 5,
     "metadata": {},
     "output_type": "execute_result"
    }
   ],
   "source": [
    "# Create analyser with tau value 360 [min] (can be changed)\n",
    "analyser = cs.PolicyMeasures(jhu_data, population_data, oxcgrt_data, tau=360)\n",
    "# The number of registerd countries\n",
    "len(analyser.countries)"
   ]
  },
  {
   "cell_type": "code",
   "execution_count": 6,
   "metadata": {
    "collapsed": false
   },
   "outputs": [
    {
     "data": {
      "text/plain": [
       "covsirphy.analysis.scenario.Scenario"
      ]
     },
     "execution_count": 6,
     "metadata": {},
     "output_type": "execute_result"
    }
   ],
   "source": [
    "# We can get Scenario instance for detailed scenario analysis\n",
    "type(analyser.scenario(\"Japan\"))"
   ]
  },
  {
   "cell_type": "markdown",
   "metadata": {},
   "source": [
    "## Set phases with S-R trend analysis\n",
    "We will perform S-R trend analysis to set phases in all countries. Countries which do not have **17th phases** will be un-registered for the next analysis. This number will be adjusted for your analysis."
   ]
  },
  {
   "cell_type": "code",
   "execution_count": 7,
   "metadata": {
    "collapsed": false
   },
   "outputs": [
    {
     "name": "stdout",
     "output_type": "stream",
     "text": [
      "{2: ['Timor-Leste', 'Laos', 'Solomon Islands', 'Holy See'],\n",
      " 3: ['Saint Kitts and Nevis'],\n",
      " 4: ['Brunei', 'Tanzania', 'Fiji'],\n",
      " 5: ['Grenada', 'Equatorial Guinea', 'Dominica'],\n",
      " 6: ['Mauritius', 'Saint Lucia', 'Cambodia'],\n",
      " 7: ['Antigua and Barbuda', 'Seychelles', 'Saint Vincent and the Grenadines'],\n",
      " 8: ['Madagascar', 'Northern Mariana Islands', 'Gambia', 'Bahamas',\n",
      "     'Liechtenstein', 'Kyrgyzstan', 'Barbados', 'Trinidad and Tobago'],\n",
      " 9: ['Uzbekistan', 'Ghana', 'Philippines', 'Sao Tome and Principe', 'Vietnam',\n",
      "     'Australia', 'Oman', 'Jamaica'],\n",
      " 10: ['Cape Verde', 'Suriname', 'Kazakhstan', 'Bolivia', 'Libya', 'Rwanda',\n",
      "      'Botswana', 'Republic of the Congo', 'Lesotho', 'Senegal', 'Kuwait',\n",
      "      'Andorra', 'Mozambique', 'Burundi', 'Iceland', 'Iraq', 'Angola',\n",
      "      'Djibouti', 'Ethiopia', 'Maldives', 'Virgin Islands, U.S.', 'Malawi',\n",
      "      'Chile', 'Benin', 'Bhutan', 'Monaco', 'Guyana', 'Zimbabwe', 'Bahrain',\n",
      "      'Honduras', 'India', 'Venezuela', 'Mongolia', 'Singapore', 'Zambia',\n",
      "      'Papua New Guinea', 'Eritrea', 'Guatemala', 'Guam', 'Kenya',\n",
      "      'El Salvador'],\n",
      " 11: ['Algeria', 'Costa Rica', 'Colombia', 'Paraguay', 'Nepal', 'Pakistan',\n",
      "      'Dominican Republic', 'Comoros', 'New Zealand', 'Ecuador', 'Argentina',\n",
      "      'Sudan', 'Yemen', 'South Africa', 'Brazil', 'Namibia', 'Belize',\n",
      "      'Saudi Arabia', 'Gabon', 'Bangladesh', 'Swaziland', 'Syria', 'Nicaragua',\n",
      "      'Peru', 'Israel', 'Bermuda', \"Cote d'Ivoire\", 'Liberia', 'Taiwan'],\n",
      " 12: ['Montenegro', 'Mexico', 'Myanmar', 'Chad', 'Guinea-Bissau', 'Somalia',\n",
      "      'Morocco', 'Nigeria', 'Cameroon', 'Guinea', 'Puerto Rico', 'Panama',\n",
      "      'Slovenia', 'Niger', 'Central African Republic', 'South Sudan', 'Egypt',\n",
      "      'Uganda', 'Georgia', 'Togo', 'Kosovo', 'Sierra Leone',\n",
      "      'Democratic Republic of the Congo'],\n",
      " 13: ['Burkina Faso', 'Slovakia', 'Moldova', 'Japan', 'Armenia',\n",
      "      'United Arab Emirates', 'Jordan', 'China', 'Croatia', 'Qatar',\n",
      "      'Lithuania', 'Afghanistan', 'Tajikistan', 'Palestine', 'Malta',\n",
      "      'Indonesia', 'Cyprus'],\n",
      " 14: ['Hungary', 'Haiti', 'San Marino', 'Iran', 'Serbia', 'Spain', 'Latvia',\n",
      "      'Belarus', 'Russia', 'United States', 'Bosnia and Herzegovina',\n",
      "      'Azerbaijan', 'Mali', 'Cuba'],\n",
      " 15: ['Tunisia', 'France', 'Bulgaria', 'Switzerland', 'Austria', 'Ireland',\n",
      "      'Greece', 'Albania', 'Turkey', 'Belgium', 'North Macedonia', 'Uruguay',\n",
      "      'Mauritania', 'Luxembourg', 'Poland', 'Lebanon', 'Thailand', 'Sri Lanka',\n",
      "      'Estonia'],\n",
      " 16: ['Romania', 'Czech Republic', 'Sweden', 'Canada', 'Ukraine', 'Denmark'],\n",
      " 17: ['Netherlands', 'Finland', 'Italy', 'United Kingdom', 'Malaysia', 'Norway',\n",
      "      'Portugal'],\n",
      " 18: ['Germany']}\n"
     ]
    }
   ],
   "source": [
    "# Show the number of phases of all countries\n",
    "analyser.trend()\n",
    "pprint(analyser.phase_len(), compact=True)"
   ]
  },
  {
   "cell_type": "code",
   "execution_count": 8,
   "metadata": {
    "collapsed": false
   },
   "outputs": [
    {
     "data": {
      "text/plain": [
       "8"
      ]
     },
     "execution_count": 8,
     "metadata": {},
     "output_type": "execute_result"
    }
   ],
   "source": [
    "# Set phases with S-R trend analysis\n",
    "analyser.trend(min_len=17)\n",
    "# The number of countries\n",
    "len(analyser.countries)"
   ]
  },
  {
   "cell_type": "code",
   "execution_count": 9,
   "metadata": {
    "collapsed": false,
    "tags": []
   },
   "outputs": [
    {
     "name": "stdout",
     "output_type": "stream",
     "text": [
      "{17: ['Netherlands', 'Finland', 'Italy', 'United Kingdom', 'Malaysia', 'Norway',\n",
      "      'Portugal'],\n",
      " 18: ['Germany']}\n"
     ]
    }
   ],
   "source": [
    "phase_len_dict = analyser.phase_len()\n",
    "pprint(phase_len_dict, compact=True)"
   ]
  },
  {
   "cell_type": "code",
   "execution_count": 10,
   "metadata": {
    "collapsed": false,
    "tags": []
   },
   "outputs": [
    {
     "data": {
      "text/html": [
       "<div>\n",
       "<style scoped>\n",
       "    .dataframe tbody tr th:only-of-type {\n",
       "        vertical-align: middle;\n",
       "    }\n",
       "\n",
       "    .dataframe tbody tr th {\n",
       "        vertical-align: top;\n",
       "    }\n",
       "\n",
       "    .dataframe thead th {\n",
       "        text-align: right;\n",
       "    }\n",
       "</style>\n",
       "<table border=\"1\" class=\"dataframe\">\n",
       "  <thead>\n",
       "    <tr style=\"text-align: right;\">\n",
       "      <th></th>\n",
       "      <th></th>\n",
       "      <th>Type</th>\n",
       "      <th>Start</th>\n",
       "      <th>End</th>\n",
       "      <th>Population</th>\n",
       "    </tr>\n",
       "    <tr>\n",
       "      <th>Country</th>\n",
       "      <th>Phase</th>\n",
       "      <th></th>\n",
       "      <th></th>\n",
       "      <th></th>\n",
       "      <th></th>\n",
       "    </tr>\n",
       "  </thead>\n",
       "  <tbody>\n",
       "    <tr>\n",
       "      <th rowspan=\"18\" valign=\"top\">Germany</th>\n",
       "      <th>0th</th>\n",
       "      <td>Past</td>\n",
       "      <td>19Jan2020</td>\n",
       "      <td>23Mar2020</td>\n",
       "      <td>82905782</td>\n",
       "    </tr>\n",
       "    <tr>\n",
       "      <th>1st</th>\n",
       "      <td>Past</td>\n",
       "      <td>24Mar2020</td>\n",
       "      <td>04Apr2020</td>\n",
       "      <td>82905782</td>\n",
       "    </tr>\n",
       "    <tr>\n",
       "      <th>2nd</th>\n",
       "      <td>Past</td>\n",
       "      <td>05Apr2020</td>\n",
       "      <td>21Apr2020</td>\n",
       "      <td>82905782</td>\n",
       "    </tr>\n",
       "    <tr>\n",
       "      <th>3rd</th>\n",
       "      <td>Past</td>\n",
       "      <td>22Apr2020</td>\n",
       "      <td>17Jun2020</td>\n",
       "      <td>82905782</td>\n",
       "    </tr>\n",
       "    <tr>\n",
       "      <th>4th</th>\n",
       "      <td>Past</td>\n",
       "      <td>18Jun2020</td>\n",
       "      <td>15Aug2020</td>\n",
       "      <td>82905782</td>\n",
       "    </tr>\n",
       "    <tr>\n",
       "      <th>5th</th>\n",
       "      <td>Past</td>\n",
       "      <td>16Aug2020</td>\n",
       "      <td>16Sep2020</td>\n",
       "      <td>82905782</td>\n",
       "    </tr>\n",
       "    <tr>\n",
       "      <th>6th</th>\n",
       "      <td>Past</td>\n",
       "      <td>17Sep2020</td>\n",
       "      <td>08Oct2020</td>\n",
       "      <td>82905782</td>\n",
       "    </tr>\n",
       "    <tr>\n",
       "      <th>7th</th>\n",
       "      <td>Past</td>\n",
       "      <td>09Oct2020</td>\n",
       "      <td>20Oct2020</td>\n",
       "      <td>82905782</td>\n",
       "    </tr>\n",
       "    <tr>\n",
       "      <th>8th</th>\n",
       "      <td>Past</td>\n",
       "      <td>21Oct2020</td>\n",
       "      <td>27Oct2020</td>\n",
       "      <td>82905782</td>\n",
       "    </tr>\n",
       "    <tr>\n",
       "      <th>9th</th>\n",
       "      <td>Past</td>\n",
       "      <td>28Oct2020</td>\n",
       "      <td>03Nov2020</td>\n",
       "      <td>82905782</td>\n",
       "    </tr>\n",
       "    <tr>\n",
       "      <th>10th</th>\n",
       "      <td>Past</td>\n",
       "      <td>04Nov2020</td>\n",
       "      <td>10Nov2020</td>\n",
       "      <td>82905782</td>\n",
       "    </tr>\n",
       "    <tr>\n",
       "      <th>11th</th>\n",
       "      <td>Past</td>\n",
       "      <td>11Nov2020</td>\n",
       "      <td>17Nov2020</td>\n",
       "      <td>82905782</td>\n",
       "    </tr>\n",
       "    <tr>\n",
       "      <th>12th</th>\n",
       "      <td>Past</td>\n",
       "      <td>18Nov2020</td>\n",
       "      <td>24Nov2020</td>\n",
       "      <td>82905782</td>\n",
       "    </tr>\n",
       "    <tr>\n",
       "      <th>13th</th>\n",
       "      <td>Past</td>\n",
       "      <td>25Nov2020</td>\n",
       "      <td>01Dec2020</td>\n",
       "      <td>82905782</td>\n",
       "    </tr>\n",
       "    <tr>\n",
       "      <th>14th</th>\n",
       "      <td>Past</td>\n",
       "      <td>02Dec2020</td>\n",
       "      <td>08Dec2020</td>\n",
       "      <td>82905782</td>\n",
       "    </tr>\n",
       "    <tr>\n",
       "      <th>15th</th>\n",
       "      <td>Past</td>\n",
       "      <td>09Dec2020</td>\n",
       "      <td>14Dec2020</td>\n",
       "      <td>82905782</td>\n",
       "    </tr>\n",
       "    <tr>\n",
       "      <th>16th</th>\n",
       "      <td>Past</td>\n",
       "      <td>15Dec2020</td>\n",
       "      <td>20Dec2020</td>\n",
       "      <td>82905782</td>\n",
       "    </tr>\n",
       "    <tr>\n",
       "      <th>17th</th>\n",
       "      <td>Past</td>\n",
       "      <td>21Dec2020</td>\n",
       "      <td>31Dec2020</td>\n",
       "      <td>82905782</td>\n",
       "    </tr>\n",
       "  </tbody>\n",
       "</table>\n",
       "</div>"
      ],
      "text/plain": [
       "               Type      Start        End  Population\n",
       "Country Phase                                        \n",
       "Germany 0th    Past  19Jan2020  23Mar2020    82905782\n",
       "        1st    Past  24Mar2020  04Apr2020    82905782\n",
       "        2nd    Past  05Apr2020  21Apr2020    82905782\n",
       "        3rd    Past  22Apr2020  17Jun2020    82905782\n",
       "        4th    Past  18Jun2020  15Aug2020    82905782\n",
       "        5th    Past  16Aug2020  16Sep2020    82905782\n",
       "        6th    Past  17Sep2020  08Oct2020    82905782\n",
       "        7th    Past  09Oct2020  20Oct2020    82905782\n",
       "        8th    Past  21Oct2020  27Oct2020    82905782\n",
       "        9th    Past  28Oct2020  03Nov2020    82905782\n",
       "        10th   Past  04Nov2020  10Nov2020    82905782\n",
       "        11th   Past  11Nov2020  17Nov2020    82905782\n",
       "        12th   Past  18Nov2020  24Nov2020    82905782\n",
       "        13th   Past  25Nov2020  01Dec2020    82905782\n",
       "        14th   Past  02Dec2020  08Dec2020    82905782\n",
       "        15th   Past  09Dec2020  14Dec2020    82905782\n",
       "        16th   Past  15Dec2020  20Dec2020    82905782\n",
       "        17th   Past  21Dec2020  31Dec2020    82905782"
      ]
     },
     "execution_count": 10,
     "metadata": {},
     "output_type": "execute_result"
    }
   ],
   "source": [
    "# Here, only show the countries which have the most phases\n",
    "countries_show = max(phase_len_dict.items(), key=lambda x: x[0])[1]\n",
    "# Show summary\n",
    "analyser.summary(countries=countries_show)"
   ]
  },
  {
   "cell_type": "markdown",
   "metadata": {},
   "source": [
    "## Parameter estimation\n",
    "we will estimate the parameter values with SIR-derived ODE models in each country."
   ]
  },
  {
   "cell_type": "code",
   "execution_count": 11,
   "metadata": {
    "collapsed": false,
    "tags": []
   },
   "outputs": [
    {
     "name": "stdout",
     "output_type": "stream",
     "text": [
      "\n",
      "<SIR-F model: parameter estimation>\n",
      "Running optimization with 4 CPUs...\n"
     ]
    },
    {
     "name": "stdout",
     "output_type": "stream",
     "text": [
      "\tFIN, 13th phase (02Dec2020 - 08Dec2020): finished  247 trials in 0 min 10 sec"
     ]
    },
    {
     "name": "stdout",
     "output_type": "stream",
     "text": [
      "\n"
     ]
    },
    {
     "name": "stdout",
     "output_type": "stream",
     "text": [
      "\tPRT,  9th phase (29Oct2020 - 04Nov2020): finished  273 trials in 0 min 10 sec"
     ]
    },
    {
     "name": "stdout",
     "output_type": "stream",
     "text": [
      "\n"
     ]
    },
    {
     "name": "stdout",
     "output_type": "stream",
     "text": [
      "\tPRT, 10th phase (05Nov2020 - 14Nov2020): finished  273 trials in 0 min 10 sec"
     ]
    },
    {
     "name": "stdout",
     "output_type": "stream",
     "text": [
      "\n"
     ]
    },
    {
     "name": "stdout",
     "output_type": "stream",
     "text": [
      "\tPRT, 11th phase (15Nov2020 - 25Nov2020): finished  222 trials in 0 min 10 sec"
     ]
    },
    {
     "name": "stdout",
     "output_type": "stream",
     "text": [
      "\n"
     ]
    },
    {
     "name": "stdout",
     "output_type": "stream",
     "text": [
      "\tFIN,  5th phase (21Aug2020 - 22Sep2020): finished  258 trials in 0 min 10 sec"
     ]
    },
    {
     "name": "stdout",
     "output_type": "stream",
     "text": [
      "\n"
     ]
    },
    {
     "name": "stdout",
     "output_type": "stream",
     "text": [
      "\tDEU,  6th phase (17Sep2020 - 08Oct2020): finished  252 trials in 0 min 10 sec"
     ]
    },
    {
     "name": "stdout",
     "output_type": "stream",
     "text": [
      "\n"
     ]
    },
    {
     "name": "stdout",
     "output_type": "stream",
     "text": [
      "\tDEU,  5th phase (16Aug2020 - 16Sep2020): finished  225 trials in 0 min 10 sec"
     ]
    },
    {
     "name": "stdout",
     "output_type": "stream",
     "text": [
      "\n"
     ]
    },
    {
     "name": "stdout",
     "output_type": "stream",
     "text": [
      "\tFIN,  3rd phase (05May2020 - 27May2020): finished  256 trials in 0 min 10 sec"
     ]
    },
    {
     "name": "stdout",
     "output_type": "stream",
     "text": [
      "\n"
     ]
    },
    {
     "name": "stdout",
     "output_type": "stream",
     "text": [
      "\tFIN, 15th phase (15Dec2020 - 21Dec2020): finished  269 trials in 0 min 10 sec"
     ]
    },
    {
     "name": "stdout",
     "output_type": "stream",
     "text": [
      "\n"
     ]
    },
    {
     "name": "stdout",
     "output_type": "stream",
     "text": [
      "\tNLD,  5th phase (27Sep2020 - 06Oct2020): finished  235 trials in 0 min 10 sec"
     ]
    },
    {
     "name": "stdout",
     "output_type": "stream",
     "text": [
      "\n"
     ]
    },
    {
     "name": "stdout",
     "output_type": "stream",
     "text": [
      "\tNLD, 13th phase (26Nov2020 - 03Dec2020): finished  251 trials in 0 min 10 sec"
     ]
    },
    {
     "name": "stdout",
     "output_type": "stream",
     "text": [
      "\n"
     ]
    },
    {
     "name": "stdout",
     "output_type": "stream",
     "text": [
      "\tNLD,  0th phase (16Mar2020 - 07Apr2020): finished  251 trials in 0 min 10 sec"
     ]
    },
    {
     "name": "stdout",
     "output_type": "stream",
     "text": [
      "\n"
     ]
    },
    {
     "name": "stdout",
     "output_type": "stream",
     "text": [
      "\tDEU, 17th phase (21Dec2020 - 31Dec2020): finished  265 trials in 0 min 10 sec"
     ]
    },
    {
     "name": "stdout",
     "output_type": "stream",
     "text": [
      "\n"
     ]
    },
    {
     "name": "stdout",
     "output_type": "stream",
     "text": [
      "\tDEU,  4th phase (18Jun2020 - 15Aug2020): finished  215 trials in 0 min 10 sec"
     ]
    },
    {
     "name": "stdout",
     "output_type": "stream",
     "text": [
      "\n"
     ]
    },
    {
     "name": "stdout",
     "output_type": "stream",
     "text": [
      "\tNLD,  4th phase (13Sep2020 - 26Sep2020): finished  261 trials in 0 min 10 sec"
     ]
    },
    {
     "name": "stdout",
     "output_type": "stream",
     "text": [
      "\n"
     ]
    },
    {
     "name": "stdout",
     "output_type": "stream",
     "text": [
      "\tITA,  8th phase (22Oct2020 - 27Oct2020): finished  277 trials in 0 min 10 sec"
     ]
    },
    {
     "name": "stdout",
     "output_type": "stream",
     "text": [
      "\n"
     ]
    },
    {
     "name": "stdout",
     "output_type": "stream",
     "text": [
      "\tGBR, 11th phase (11Nov2020 - 17Nov2020): finished  272 trials in 0 min 10 sec"
     ]
    },
    {
     "name": "stdout",
     "output_type": "stream",
     "text": [
      "\n"
     ]
    },
    {
     "name": "stdout",
     "output_type": "stream",
     "text": [
      "\tMYS,  7th phase (12Oct2020 - 17Oct2020): finished  247 trials in 0 min 10 sec"
     ]
    },
    {
     "name": "stdout",
     "output_type": "stream",
     "text": [
      "\n"
     ]
    },
    {
     "name": "stdout",
     "output_type": "stream",
     "text": [
      "\tMYS, 10th phase (03Nov2020 - 12Nov2020): finished  231 trials in 0 min 10 sec"
     ]
    },
    {
     "name": "stdout",
     "output_type": "stream",
     "text": [
      "\n"
     ]
    },
    {
     "name": "stdout",
     "output_type": "stream",
     "text": [
      "\tNOR, 12th phase (23Nov2020 - 30Nov2020): finished  229 trials in 0 min 10 sec"
     ]
    },
    {
     "name": "stdout",
     "output_type": "stream",
     "text": [
      "\n"
     ]
    },
    {
     "name": "stdout",
     "output_type": "stream",
     "text": [
      "\tNLD,  7th phase (14Oct2020 - 19Oct2020): finished  300 trials in 0 min 10 sec"
     ]
    },
    {
     "name": "stdout",
     "output_type": "stream",
     "text": [
      "\n"
     ]
    },
    {
     "name": "stdout",
     "output_type": "stream",
     "text": [
      "\tGBR,  0th phase (23Feb2020 - 09Apr2020): finished  219 trials in 0 min 10 sec"
     ]
    },
    {
     "name": "stdout",
     "output_type": "stream",
     "text": [
      "\n"
     ]
    },
    {
     "name": "stdout",
     "output_type": "stream",
     "text": [
      "\tMYS,  2nd phase (09Apr2020 - 01May2020): finished  249 trials in 0 min 10 sec"
     ]
    },
    {
     "name": "stdout",
     "output_type": "stream",
     "text": [
      "\n"
     ]
    },
    {
     "name": "stdout",
     "output_type": "stream",
     "text": [
      "\tNOR,  7th phase (06Oct2020 - 20Oct2020): finished  241 trials in 0 min 10 sec"
     ]
    },
    {
     "name": "stdout",
     "output_type": "stream",
     "text": [
      "\n"
     ]
    },
    {
     "name": "stdout",
     "output_type": "stream",
     "text": [
      "\tITA,  9th phase (28Oct2020 - 06Nov2020): finished  226 trials in 0 min 10 sec"
     ]
    },
    {
     "name": "stdout",
     "output_type": "stream",
     "text": [
      "\n"
     ]
    },
    {
     "name": "stdout",
     "output_type": "stream",
     "text": [
      "\tNLD,  1st phase (08Apr2020 - 01May2020): finished  216 trials in 0 min 10 sec"
     ]
    },
    {
     "name": "stdout",
     "output_type": "stream",
     "text": [
      "\n"
     ]
    },
    {
     "name": "stdout",
     "output_type": "stream",
     "text": [
      "\tDEU,  2nd phase (05Apr2020 - 21Apr2020): finished  266 trials in 0 min 10 sec"
     ]
    },
    {
     "name": "stdout",
     "output_type": "stream",
     "text": [
      "\n"
     ]
    },
    {
     "name": "stdout",
     "output_type": "stream",
     "text": [
      "\tPRT,  2nd phase (06May2020 - 13Jun2020): finished  276 trials in 0 min 10 sec"
     ]
    },
    {
     "name": "stdout",
     "output_type": "stream",
     "text": [
      "\n"
     ]
    },
    {
     "name": "stdout",
     "output_type": "stream",
     "text": [
      "\tPRT,  6th phase (25Sep2020 - 12Oct2020): finished  247 trials in 0 min 10 sec"
     ]
    },
    {
     "name": "stdout",
     "output_type": "stream",
     "text": [
      "\n"
     ]
    },
    {
     "name": "stdout",
     "output_type": "stream",
     "text": [
      "\tITA,  7th phase (15Oct2020 - 21Oct2020): finished  245 trials in 0 min 10 sec"
     ]
    },
    {
     "name": "stdout",
     "output_type": "stream",
     "text": [
      "\n"
     ]
    },
    {
     "name": "stdout",
     "output_type": "stream",
     "text": [
      "\tPRT,  8th phase (22Oct2020 - 28Oct2020): finished  270 trials in 0 min 10 sec"
     ]
    },
    {
     "name": "stdout",
     "output_type": "stream",
     "text": [
      "\n"
     ]
    },
    {
     "name": "stdout",
     "output_type": "stream",
     "text": [
      "\tFIN,  2nd phase (20Apr2020 - 04May2020): finished  231 trials in 0 min 10 sec"
     ]
    },
    {
     "name": "stdout",
     "output_type": "stream",
     "text": [
      "\n"
     ]
    },
    {
     "name": "stdout",
     "output_type": "stream",
     "text": [
      "\tMYS,  0th phase (11Feb2020 - 24Mar2020): finished  252 trials in 0 min 10 sec"
     ]
    },
    {
     "name": "stdout",
     "output_type": "stream",
     "text": [
      "\n"
     ]
    },
    {
     "name": "stdout",
     "output_type": "stream",
     "text": [
      "\tDEU,  1st phase (24Mar2020 - 04Apr2020): finished  242 trials in 0 min 10 sec"
     ]
    },
    {
     "name": "stdout",
     "output_type": "stream",
     "text": [
      "\n"
     ]
    },
    {
     "name": "stdout",
     "output_type": "stream",
     "text": [
      "\tDEU,  3rd phase (22Apr2020 - 17Jun2020): finished  229 trials in 0 min 10 sec"
     ]
    },
    {
     "name": "stdout",
     "output_type": "stream",
     "text": [
      "\n"
     ]
    },
    {
     "name": "stdout",
     "output_type": "stream",
     "text": [
      "\tPRT,  3rd phase (14Jun2020 - 14Jul2020): finished  281 trials in 0 min 10 sec"
     ]
    },
    {
     "name": "stdout",
     "output_type": "stream",
     "text": [
      "\n"
     ]
    },
    {
     "name": "stdout",
     "output_type": "stream",
     "text": [
      "\tITA, 13th phase (03Dec2020 - 09Dec2020): finished  248 trials in 0 min 10 sec"
     ]
    },
    {
     "name": "stdout",
     "output_type": "stream",
     "text": [
      "\n"
     ]
    },
    {
     "name": "stdout",
     "output_type": "stream",
     "text": [
      "\tNOR,  8th phase (21Oct2020 - 28Oct2020): finished  241 trials in 0 min 10 sec"
     ]
    },
    {
     "name": "stdout",
     "output_type": "stream",
     "text": [
      "\n"
     ]
    },
    {
     "name": "stdout",
     "output_type": "stream",
     "text": [
      "\tFIN, 12th phase (26Nov2020 - 01Dec2020): finished  250 trials in 0 min 10 sec"
     ]
    },
    {
     "name": "stdout",
     "output_type": "stream",
     "text": [
      "\n"
     ]
    },
    {
     "name": "stdout",
     "output_type": "stream",
     "text": [
      "\tFIN,  0th phase (17Mar2020 - 04Apr2020): finished  239 trials in 0 min 10 sec"
     ]
    },
    {
     "name": "stdout",
     "output_type": "stream",
     "text": [
      "\n"
     ]
    },
    {
     "name": "stdout",
     "output_type": "stream",
     "text": [
      "\tPRT,  7th phase (13Oct2020 - 21Oct2020): finished  250 trials in 0 min 10 sec"
     ]
    },
    {
     "name": "stdout",
     "output_type": "stream",
     "text": [
      "\n"
     ]
    },
    {
     "name": "stdout",
     "output_type": "stream",
     "text": [
      "\tGBR,  8th phase (21Oct2020 - 27Oct2020): finished  238 trials in 0 min 10 sec"
     ]
    },
    {
     "name": "stdout",
     "output_type": "stream",
     "text": [
      "\n"
     ]
    },
    {
     "name": "stdout",
     "output_type": "stream",
     "text": [
      "\tITA,  2nd phase (01Apr2020 - 16Apr2020): finished  235 trials in 0 min 10 sec"
     ]
    },
    {
     "name": "stdout",
     "output_type": "stream",
     "text": [
      "\n"
     ]
    },
    {
     "name": "stdout",
     "output_type": "stream",
     "text": [
      "\tPRT,  1st phase (08Apr2020 - 05May2020): finished  226 trials in 0 min 10 sec"
     ]
    },
    {
     "name": "stdout",
     "output_type": "stream",
     "text": [
      "\n"
     ]
    },
    {
     "name": "stdout",
     "output_type": "stream",
     "text": [
      "\tGBR, 13th phase (25Nov2020 - 02Dec2020): finished  233 trials in 0 min 10 sec"
     ]
    },
    {
     "name": "stdout",
     "output_type": "stream",
     "text": [
      "\n"
     ]
    },
    {
     "name": "stdout",
     "output_type": "stream",
     "text": [
      "\tGBR,  7th phase (13Oct2020 - 20Oct2020): finished  255 trials in 0 min 10 sec"
     ]
    },
    {
     "name": "stdout",
     "output_type": "stream",
     "text": [
      "\n"
     ]
    },
    {
     "name": "stdout",
     "output_type": "stream",
     "text": [
      "\tMYS,  1st phase (25Mar2020 - 08Apr2020): finished  238 trials in 0 min 10 sec"
     ]
    },
    {
     "name": "stdout",
     "output_type": "stream",
     "text": [
      "\n"
     ]
    },
    {
     "name": "stdout",
     "output_type": "stream",
     "text": [
      "\tDEU,  0th phase (19Jan2020 - 23Mar2020): finished  242 trials in 0 min 10 sec"
     ]
    },
    {
     "name": "stdout",
     "output_type": "stream",
     "text": [
      "\n"
     ]
    },
    {
     "name": "stdout",
     "output_type": "stream",
     "text": [
      "\tNOR,  6th phase (20Sep2020 - 05Oct2020): finished  261 trials in 0 min 10 sec"
     ]
    },
    {
     "name": "stdout",
     "output_type": "stream",
     "text": [
      "\n"
     ]
    },
    {
     "name": "stdout",
     "output_type": "stream",
     "text": [
      "\tITA, 15th phase (16Dec2020 - 22Dec2020): finished  258 trials in 0 min 10 sec"
     ]
    },
    {
     "name": "stdout",
     "output_type": "stream",
     "text": [
      "\n"
     ]
    },
    {
     "name": "stdout",
     "output_type": "stream",
     "text": [
      "\tFIN, 14th phase (09Dec2020 - 14Dec2020): finished  257 trials in 0 min 10 sec"
     ]
    },
    {
     "name": "stdout",
     "output_type": "stream",
     "text": [
      "\n"
     ]
    },
    {
     "name": "stdout",
     "output_type": "stream",
     "text": [
      "\tNOR,  9th phase (29Oct2020 - 03Nov2020): finished  239 trials in 0 min 10 sec"
     ]
    },
    {
     "name": "stdout",
     "output_type": "stream",
     "text": [
      "\n"
     ]
    },
    {
     "name": "stdout",
     "output_type": "stream",
     "text": [
      "\tNLD,  9th phase (30Oct2020 - 04Nov2020): finished  256 trials in 0 min 10 sec"
     ]
    },
    {
     "name": "stdout",
     "output_type": "stream",
     "text": [
      "\n"
     ]
    },
    {
     "name": "stdout",
     "output_type": "stream",
     "text": [
      "\tFIN, 10th phase (09Nov2020 - 18Nov2020): finished  243 trials in 0 min 10 sec"
     ]
    },
    {
     "name": "stdout",
     "output_type": "stream",
     "text": [
      "\n"
     ]
    },
    {
     "name": "stdout",
     "output_type": "stream",
     "text": [
      "\tPRT, 12th phase (26Nov2020 - 02Dec2020): finished  228 trials in 0 min 10 sec"
     ]
    },
    {
     "name": "stdout",
     "output_type": "stream",
     "text": [
      "\n"
     ]
    },
    {
     "name": "stdout",
     "output_type": "stream",
     "text": [
      "\tGBR,  4th phase (08Aug2020 - 16Sep2020): finished  220 trials in 0 min 10 sec"
     ]
    },
    {
     "name": "stdout",
     "output_type": "stream",
     "text": [
      "\n"
     ]
    },
    {
     "name": "stdout",
     "output_type": "stream",
     "text": [
      "\tFIN,  6th phase (23Sep2020 - 07Oct2020): finished  245 trials in 0 min 10 sec"
     ]
    },
    {
     "name": "stdout",
     "output_type": "stream",
     "text": [
      "\n"
     ]
    },
    {
     "name": "stdout",
     "output_type": "stream",
     "text": [
      "\tGBR,  1st phase (10Apr2020 - 30Apr2020): finished  240 trials in 0 min 10 sec"
     ]
    },
    {
     "name": "stdout",
     "output_type": "stream",
     "text": [
      "\n"
     ]
    },
    {
     "name": "stdout",
     "output_type": "stream",
     "text": [
      "\tGBR, 12th phase (18Nov2020 - 24Nov2020): finished  237 trials in 0 min 10 sec"
     ]
    },
    {
     "name": "stdout",
     "output_type": "stream",
     "text": [
      "\tFIN,  4th phase (28May2020 - 20Aug2020): finished  215 trials in 0 min 10 sec"
     ]
    },
    {
     "name": "stdout",
     "output_type": "stream",
     "text": [
      "\n"
     ]
    },
    {
     "name": "stdout",
     "output_type": "stream",
     "text": [
      "\n"
     ]
    },
    {
     "name": "stdout",
     "output_type": "stream",
     "text": [
      "\tFIN,  9th phase (29Oct2020 - 08Nov2020): finished  237 trials in 0 min 10 sec"
     ]
    },
    {
     "name": "stdout",
     "output_type": "stream",
     "text": [
      "\n"
     ]
    },
    {
     "name": "stdout",
     "output_type": "stream",
     "text": [
      "\tFIN,  1st phase (05Apr2020 - 19Apr2020): finished  249 trials in 0 min 10 sec"
     ]
    },
    {
     "name": "stdout",
     "output_type": "stream",
     "text": [
      "\n"
     ]
    },
    {
     "name": "stdout",
     "output_type": "stream",
     "text": [
      "\tMYS,  8th phase (18Oct2020 - 27Oct2020): finished  244 trials in 0 min 10 sec"
     ]
    },
    {
     "name": "stdout",
     "output_type": "stream",
     "text": [
      "\n"
     ]
    },
    {
     "name": "stdout",
     "output_type": "stream",
     "text": [
      "\tFIN,  7th phase (08Oct2020 - 18Oct2020): finished  233 trials in 0 min 10 sec"
     ]
    },
    {
     "name": "stdout",
     "output_type": "stream",
     "text": [
      "\n"
     ]
    },
    {
     "name": "stdout",
     "output_type": "stream",
     "text": [
      "\tMYS, 13th phase (29Nov2020 - 04Dec2020): finished  220 trials in 0 min 10 sec"
     ]
    },
    {
     "name": "stdout",
     "output_type": "stream",
     "text": [
      "\n"
     ]
    },
    {
     "name": "stdout",
     "output_type": "stream",
     "text": [
      "\tITA, 10th phase (07Nov2020 - 16Nov2020): finished  249 trials in 0 min 10 sec"
     ]
    },
    {
     "name": "stdout",
     "output_type": "stream",
     "text": [
      "\n"
     ]
    },
    {
     "name": "stdout",
     "output_type": "stream",
     "text": [
      "\tGBR, 16th phase (16Dec2020 - 31Dec2020): finished  232 trials in 0 min 10 sec"
     ]
    },
    {
     "name": "stdout",
     "output_type": "stream",
     "text": [
      "\n"
     ]
    },
    {
     "name": "stdout",
     "output_type": "stream",
     "text": [
      "\tNOR,  5th phase (03Sep2020 - 19Sep2020): finished  255 trials in 0 min 10 sec"
     ]
    },
    {
     "name": "stdout",
     "output_type": "stream",
     "text": [
      "\n"
     ]
    },
    {
     "name": "stdout",
     "output_type": "stream",
     "text": [
      "\tMYS,  6th phase (04Oct2020 - 11Oct2020): finished  234 trials in 0 min 10 sec"
     ]
    },
    {
     "name": "stdout",
     "output_type": "stream",
     "text": [
      "\n"
     ]
    },
    {
     "name": "stdout",
     "output_type": "stream",
     "text": [
      "\tNOR,  1st phase (26Mar2020 - 05Apr2020): finished  249 trials in 0 min 10 sec"
     ]
    },
    {
     "name": "stdout",
     "output_type": "stream",
     "text": [
      "\n"
     ]
    },
    {
     "name": "stdout",
     "output_type": "stream",
     "text": [
      "\tGBR,  6th phase (03Oct2020 - 12Oct2020): finished  256 trials in 0 min 10 sec"
     ]
    },
    {
     "name": "stdout",
     "output_type": "stream",
     "text": [
      "\n"
     ]
    },
    {
     "name": "stdout",
     "output_type": "stream",
     "text": [
      "\tPRT,  0th phase (14Mar2020 - 07Apr2020): finished  229 trials in 0 min 10 sec"
     ]
    },
    {
     "name": "stdout",
     "output_type": "stream",
     "text": [
      "\n"
     ]
    },
    {
     "name": "stdout",
     "output_type": "stream",
     "text": [
      "\tMYS, 12th phase (23Nov2020 - 28Nov2020): finished  229 trials in 0 min 10 sec"
     ]
    },
    {
     "name": "stdout",
     "output_type": "stream",
     "text": [
      "\n"
     ]
    },
    {
     "name": "stdout",
     "output_type": "stream",
     "text": [
      "\tITA,  6th phase (01Oct2020 - 14Oct2020): finished  248 trials in 0 min 10 sec"
     ]
    },
    {
     "name": "stdout",
     "output_type": "stream",
     "text": [
      "\n"
     ]
    },
    {
     "name": "stdout",
     "output_type": "stream",
     "text": [
      "\tPRT,  4th phase (15Jul2020 - 02Sep2020): finished  239 trials in 0 min 10 sec"
     ]
    },
    {
     "name": "stdout",
     "output_type": "stream",
     "text": [
      "\n"
     ]
    },
    {
     "name": "stdout",
     "output_type": "stream",
     "text": [
      "\tGBR,  5th phase (17Sep2020 - 02Oct2020): finished  265 trials in 0 min 10 sec"
     ]
    },
    {
     "name": "stdout",
     "output_type": "stream",
     "text": [
      "\n"
     ]
    },
    {
     "name": "stdout",
     "output_type": "stream",
     "text": [
      "\tITA,  1st phase (20Mar2020 - 31Mar2020): finished  241 trials in 0 min 10 sec"
     ]
    },
    {
     "name": "stdout",
     "output_type": "stream",
     "text": [
      "\n"
     ]
    },
    {
     "name": "stdout",
     "output_type": "stream",
     "text": [
      "\tNOR,  0th phase (15Mar2020 - 25Mar2020): finished  256 trials in 0 min 10 sec"
     ]
    },
    {
     "name": "stdout",
     "output_type": "stream",
     "text": [
      "\n"
     ]
    },
    {
     "name": "stdout",
     "output_type": "stream",
     "text": [
      "\tNOR, 10th phase (04Nov2020 - 09Nov2020): finished  233 trials in 0 min 10 sec"
     ]
    },
    {
     "name": "stdout",
     "output_type": "stream",
     "text": [
      "\n"
     ]
    },
    {
     "name": "stdout",
     "output_type": "stream",
     "text": [
      "\tNOR,  2nd phase (06Apr2020 - 02May2020): finished  243 trials in 0 min 10 sec"
     ]
    },
    {
     "name": "stdout",
     "output_type": "stream",
     "text": [
      "\n"
     ]
    },
    {
     "name": "stdout",
     "output_type": "stream",
     "text": [
      "\tDEU, 13th phase (25Nov2020 - 01Dec2020): finished  246 trials in 0 min 10 sec"
     ]
    },
    {
     "name": "stdout",
     "output_type": "stream",
     "text": [
      "\n"
     ]
    },
    {
     "name": "stdout",
     "output_type": "stream",
     "text": [
      "\tNLD, 16th phase (20Dec2020 - 31Dec2020): finished  241 trials in 0 min 10 sec"
     ]
    },
    {
     "name": "stdout",
     "output_type": "stream",
     "text": [
      "\n"
     ]
    },
    {
     "name": "stdout",
     "output_type": "stream",
     "text": [
      "\tMYS,  3rd phase (02May2020 - 01Jun2020): finished  257 trials in 0 min 10 sec"
     ]
    },
    {
     "name": "stdout",
     "output_type": "stream",
     "text": [
      "\n"
     ]
    },
    {
     "name": "stdout",
     "output_type": "stream",
     "text": [
      "\tNOR, 11th phase (10Nov2020 - 22Nov2020): finished  222 trials in 0 min 10 sec"
     ]
    },
    {
     "name": "stdout",
     "output_type": "stream",
     "text": [
      "\n"
     ]
    },
    {
     "name": "stdout",
     "output_type": "stream",
     "text": [
      "\tITA, 14th phase (10Dec2020 - 15Dec2020): finished  227 trials in 0 min 10 sec"
     ]
    },
    {
     "name": "stdout",
     "output_type": "stream",
     "text": [
      "\n"
     ]
    },
    {
     "name": "stdout",
     "output_type": "stream",
     "text": [
      "\tDEU, 16th phase (15Dec2020 - 20Dec2020): finished  226 trials in 0 min 10 sec"
     ]
    },
    {
     "name": "stdout",
     "output_type": "stream",
     "text": [
      "\n"
     ]
    },
    {
     "name": "stdout",
     "output_type": "stream",
     "text": [
      "\tNLD, 14th phase (04Dec2020 - 09Dec2020): finished  228 trials in 0 min 10 sec"
     ]
    },
    {
     "name": "stdout",
     "output_type": "stream",
     "text": [
      "\n"
     ]
    },
    {
     "name": "stdout",
     "output_type": "stream",
     "text": [
      "\tPRT,  5th phase (03Sep2020 - 24Sep2020): finished  241 trials in 0 min 10 sec"
     ]
    },
    {
     "name": "stdout",
     "output_type": "stream",
     "text": [
      "\n"
     ]
    },
    {
     "name": "stdout",
     "output_type": "stream",
     "text": [
      "\tNLD, 11th phase (12Nov2020 - 18Nov2020): finished  253 trials in 0 min 10 sec"
     ]
    },
    {
     "name": "stdout",
     "output_type": "stream",
     "text": [
      "\n"
     ]
    },
    {
     "name": "stdout",
     "output_type": "stream",
     "text": [
      "\tMYS, 11th phase (13Nov2020 - 22Nov2020): finished  259 trials in 0 min 10 sec"
     ]
    },
    {
     "name": "stdout",
     "output_type": "stream",
     "text": [
      "\n"
     ]
    },
    {
     "name": "stdout",
     "output_type": "stream",
     "text": [
      "\tNLD,  2nd phase (02May2020 - 09Aug2020): finished  226 trials in 0 min 10 sec"
     ]
    },
    {
     "name": "stdout",
     "output_type": "stream",
     "text": [
      "\n"
     ]
    },
    {
     "name": "stdout",
     "output_type": "stream",
     "text": [
      "\tFIN,  8th phase (19Oct2020 - 28Oct2020): finished  249 trials in 0 min 10 sec"
     ]
    },
    {
     "name": "stdout",
     "output_type": "stream",
     "text": [
      "\n"
     ]
    },
    {
     "name": "stdout",
     "output_type": "stream",
     "text": [
      "\tNLD, 15th phase (10Dec2020 - 19Dec2020): finished  225 trials in 0 min 10 sec"
     ]
    },
    {
     "name": "stdout",
     "output_type": "stream",
     "text": [
      "\n"
     ]
    },
    {
     "name": "stdout",
     "output_type": "stream",
     "text": [
      "\tITA,  0th phase (24Feb2020 - 19Mar2020): finished  237 trials in 0 min 10 sec"
     ]
    },
    {
     "name": "stdout",
     "output_type": "stream",
     "text": [
      "\n"
     ]
    },
    {
     "name": "stdout",
     "output_type": "stream",
     "text": [
      "\tMYS, 16th phase (25Dec2020 - 31Dec2020): finished  251 trials in 0 min 10 sec"
     ]
    },
    {
     "name": "stdout",
     "output_type": "stream",
     "text": [
      "\n"
     ]
    },
    {
     "name": "stdout",
     "output_type": "stream",
     "text": [
      "\tNOR,  4th phase (06Aug2020 - 02Sep2020): finished  231 trials in 0 min 10 sec"
     ]
    },
    {
     "name": "stdout",
     "output_type": "stream",
     "text": [
      "\n"
     ]
    },
    {
     "name": "stdout",
     "output_type": "stream",
     "text": [
      "\tNLD, 12th phase (19Nov2020 - 25Nov2020): finished  256 trials in 0 min 10 sec"
     ]
    },
    {
     "name": "stdout",
     "output_type": "stream",
     "text": [
      "\n"
     ]
    },
    {
     "name": "stdout",
     "output_type": "stream",
     "text": [
      "\tGBR, 10th phase (04Nov2020 - 10Nov2020): finished  276 trials in 0 min 10 sec"
     ]
    },
    {
     "name": "stdout",
     "output_type": "stream",
     "text": [
      "\n"
     ]
    },
    {
     "name": "stdout",
     "output_type": "stream",
     "text": [
      "\tGBR,  3rd phase (28May2020 - 07Aug2020): finished  223 trials in 0 min 10 sec"
     ]
    },
    {
     "name": "stdout",
     "output_type": "stream",
     "text": [
      "\n"
     ]
    },
    {
     "name": "stdout",
     "output_type": "stream",
     "text": [
      "\tMYS,  4th phase (02Jun2020 - 10Sep2020): finished  210 trials in 0 min 10 sec"
     ]
    },
    {
     "name": "stdout",
     "output_type": "stream",
     "text": [
      "\n"
     ]
    },
    {
     "name": "stdout",
     "output_type": "stream",
     "text": [
      "\tITA,  5th phase (29Aug2020 - 30Sep2020): finished  295 trials in 0 min 10 sec"
     ]
    },
    {
     "name": "stdout",
     "output_type": "stream",
     "text": [
      "\n"
     ]
    },
    {
     "name": "stdout",
     "output_type": "stream",
     "text": [
      "\tMYS, 14th phase (05Dec2020 - 14Dec2020): finished  300 trials in 0 min 10 sec"
     ]
    },
    {
     "name": "stdout",
     "output_type": "stream",
     "text": [
      "\n"
     ]
    },
    {
     "name": "stdout",
     "output_type": "stream",
     "text": [
      "\tNOR, 13th phase (01Dec2020 - 08Dec2020): finished  308 trials in 0 min 10 sec"
     ]
    },
    {
     "name": "stdout",
     "output_type": "stream",
     "text": [
      "\n"
     ]
    },
    {
     "name": "stdout",
     "output_type": "stream",
     "text": [
      "\tNLD, 10th phase (05Nov2020 - 11Nov2020): finished  277 trials in 0 min 10 sec"
     ]
    },
    {
     "name": "stdout",
     "output_type": "stream",
     "text": [
      "\n"
     ]
    },
    {
     "name": "stdout",
     "output_type": "stream",
     "text": [
      "\tDEU,  7th phase (09Oct2020 - 20Oct2020): finished  281 trials in 0 min 10 sec"
     ]
    },
    {
     "name": "stdout",
     "output_type": "stream",
     "text": [
      "\n"
     ]
    },
    {
     "name": "stdout",
     "output_type": "stream",
     "text": [
      "\tITA, 12th phase (27Nov2020 - 02Dec2020): finished  287 trials in 0 min 10 sec"
     ]
    },
    {
     "name": "stdout",
     "output_type": "stream",
     "text": [
      "\n"
     ]
    },
    {
     "name": "stdout",
     "output_type": "stream",
     "text": [
      "\tMYS, 15th phase (15Dec2020 - 24Dec2020): finished  297 trials in 0 min 10 sec"
     ]
    },
    {
     "name": "stdout",
     "output_type": "stream",
     "text": [
      "\n"
     ]
    },
    {
     "name": "stdout",
     "output_type": "stream",
     "text": [
      "\tNOR, 14th phase (09Dec2020 - 15Dec2020): finished  309 trials in 0 min 10 sec"
     ]
    },
    {
     "name": "stdout",
     "output_type": "stream",
     "text": [
      "\n"
     ]
    },
    {
     "name": "stdout",
     "output_type": "stream",
     "text": [
      "\tNLD,  3rd phase (10Aug2020 - 12Sep2020): finished  293 trials in 0 min 10 sec"
     ]
    },
    {
     "name": "stdout",
     "output_type": "stream",
     "text": [
      "\n"
     ]
    },
    {
     "name": "stdout",
     "output_type": "stream",
     "text": [
      "\tNLD,  6th phase (07Oct2020 - 13Oct2020): finished  314 trials in 0 min 10 sec"
     ]
    },
    {
     "name": "stdout",
     "output_type": "stream",
     "text": [
      "\n"
     ]
    },
    {
     "name": "stdout",
     "output_type": "stream",
     "text": [
      "\tGBR,  9th phase (28Oct2020 - 03Nov2020): finished  299 trials in 0 min 10 sec"
     ]
    },
    {
     "name": "stdout",
     "output_type": "stream",
     "text": [
      "\n"
     ]
    },
    {
     "name": "stdout",
     "output_type": "stream",
     "text": [
      "\tFIN, 16th phase (22Dec2020 - 31Dec2020): finished  300 trials in 0 min 10 sec"
     ]
    },
    {
     "name": "stdout",
     "output_type": "stream",
     "text": [
      "\n"
     ]
    },
    {
     "name": "stdout",
     "output_type": "stream",
     "text": [
      "\tITA, 11th phase (17Nov2020 - 26Nov2020): finished  299 trials in 0 min 10 sec"
     ]
    },
    {
     "name": "stdout",
     "output_type": "stream",
     "text": [
      "\n"
     ]
    },
    {
     "name": "stdout",
     "output_type": "stream",
     "text": [
      "\tMYS,  9th phase (28Oct2020 - 02Nov2020): finished  300 trials in 0 min 10 sec"
     ]
    },
    {
     "name": "stdout",
     "output_type": "stream",
     "text": [
      "\n"
     ]
    },
    {
     "name": "stdout",
     "output_type": "stream",
     "text": [
      "\tGBR,  2nd phase (01May2020 - 27May2020): finished  290 trials in 0 min 10 sec"
     ]
    },
    {
     "name": "stdout",
     "output_type": "stream",
     "text": [
      "\n"
     ]
    },
    {
     "name": "stdout",
     "output_type": "stream",
     "text": [
      "\tNLD,  8th phase (20Oct2020 - 29Oct2020): finished  322 trials in 0 min 10 sec"
     ]
    },
    {
     "name": "stdout",
     "output_type": "stream",
     "text": [
      "\n"
     ]
    },
    {
     "name": "stdout",
     "output_type": "stream",
     "text": [
      "\tNOR,  3rd phase (03May2020 - 05Aug2020): finished  300 trials in 0 min 10 sec"
     ]
    },
    {
     "name": "stdout",
     "output_type": "stream",
     "text": [
      "\n"
     ]
    },
    {
     "name": "stdout",
     "output_type": "stream",
     "text": [
      "\tITA,  3rd phase (17Apr2020 - 11May2020): finished  316 trials in 0 min 10 sec"
     ]
    },
    {
     "name": "stdout",
     "output_type": "stream",
     "text": [
      "\n"
     ]
    },
    {
     "name": "stdout",
     "output_type": "stream",
     "text": [
      "\tITA, 16th phase (23Dec2020 - 31Dec2020): finished  305 trials in 0 min 10 sec"
     ]
    },
    {
     "name": "stdout",
     "output_type": "stream",
     "text": [
      "\n"
     ]
    },
    {
     "name": "stdout",
     "output_type": "stream",
     "text": [
      "\tMYS,  5th phase (11Sep2020 - 03Oct2020): finished  298 trials in 0 min 10 sec"
     ]
    },
    {
     "name": "stdout",
     "output_type": "stream",
     "text": [
      "\n"
     ]
    },
    {
     "name": "stdout",
     "output_type": "stream",
     "text": [
      "\tITA,  4th phase (12May2020 - 28Aug2020): finished  268 trials in 0 min 10 sec"
     ]
    },
    {
     "name": "stdout",
     "output_type": "stream",
     "text": [
      "\n"
     ]
    },
    {
     "name": "stdout",
     "output_type": "stream",
     "text": [
      "Completed optimization. Total: 5 min 48 sec\n"
     ]
    }
   ],
   "source": [
    "# Parameter estimation with SIR-F model\n",
    "analyser.estimate(cs.SIRF, timeout=10)"
   ]
  },
  {
   "cell_type": "code",
   "execution_count": 12,
   "metadata": {
    "collapsed": false
   },
   "outputs": [
    {
     "data": {
      "text/html": [
       "<div>\n",
       "<style scoped>\n",
       "    .dataframe tbody tr th:only-of-type {\n",
       "        vertical-align: middle;\n",
       "    }\n",
       "\n",
       "    .dataframe tbody tr th {\n",
       "        vertical-align: top;\n",
       "    }\n",
       "\n",
       "    .dataframe thead th {\n",
       "        text-align: right;\n",
       "    }\n",
       "</style>\n",
       "<table border=\"1\" class=\"dataframe\">\n",
       "  <thead>\n",
       "    <tr style=\"text-align: right;\">\n",
       "      <th></th>\n",
       "      <th></th>\n",
       "      <th>Type</th>\n",
       "      <th>Start</th>\n",
       "      <th>End</th>\n",
       "      <th>Population</th>\n",
       "      <th>ODE</th>\n",
       "      <th>Rt</th>\n",
       "      <th>theta</th>\n",
       "      <th>kappa</th>\n",
       "      <th>rho</th>\n",
       "      <th>sigma</th>\n",
       "      <th>tau</th>\n",
       "      <th>1/alpha2 [day]</th>\n",
       "      <th>alpha1 [-]</th>\n",
       "      <th>1/gamma [day]</th>\n",
       "      <th>1/beta [day]</th>\n",
       "      <th>RMSLE</th>\n",
       "      <th>Trials</th>\n",
       "      <th>Runtime</th>\n",
       "    </tr>\n",
       "    <tr>\n",
       "      <th>Country</th>\n",
       "      <th>Phase</th>\n",
       "      <th></th>\n",
       "      <th></th>\n",
       "      <th></th>\n",
       "      <th></th>\n",
       "      <th></th>\n",
       "      <th></th>\n",
       "      <th></th>\n",
       "      <th></th>\n",
       "      <th></th>\n",
       "      <th></th>\n",
       "      <th></th>\n",
       "      <th></th>\n",
       "      <th></th>\n",
       "      <th></th>\n",
       "      <th></th>\n",
       "      <th></th>\n",
       "      <th></th>\n",
       "      <th></th>\n",
       "    </tr>\n",
       "  </thead>\n",
       "  <tbody>\n",
       "    <tr>\n",
       "      <th rowspan=\"18\" valign=\"top\">Germany</th>\n",
       "      <th>0th</th>\n",
       "      <td>Past</td>\n",
       "      <td>19Jan2020</td>\n",
       "      <td>23Mar2020</td>\n",
       "      <td>82905782</td>\n",
       "      <td>SIR-F</td>\n",
       "      <td>30.32</td>\n",
       "      <td>0.00149186</td>\n",
       "      <td>0.000595437</td>\n",
       "      <td>0.0331438</td>\n",
       "      <td>0.000496104</td>\n",
       "      <td>360</td>\n",
       "      <td>419</td>\n",
       "      <td>0.001</td>\n",
       "      <td>503</td>\n",
       "      <td>7</td>\n",
       "      <td>1.16064</td>\n",
       "      <td>242</td>\n",
       "      <td>0 min 10 sec</td>\n",
       "    </tr>\n",
       "    <tr>\n",
       "      <th>1st</th>\n",
       "      <td>Past</td>\n",
       "      <td>24Mar2020</td>\n",
       "      <td>04Apr2020</td>\n",
       "      <td>82905782</td>\n",
       "      <td>SIR-F</td>\n",
       "      <td>4.98</td>\n",
       "      <td>0.0352431</td>\n",
       "      <td>0.000559985</td>\n",
       "      <td>0.0227793</td>\n",
       "      <td>0.00385093</td>\n",
       "      <td>360</td>\n",
       "      <td>446</td>\n",
       "      <td>0.035</td>\n",
       "      <td>64</td>\n",
       "      <td>10</td>\n",
       "      <td>0.164884</td>\n",
       "      <td>242</td>\n",
       "      <td>0 min 10 sec</td>\n",
       "    </tr>\n",
       "    <tr>\n",
       "      <th>2nd</th>\n",
       "      <td>Past</td>\n",
       "      <td>05Apr2020</td>\n",
       "      <td>21Apr2020</td>\n",
       "      <td>82905782</td>\n",
       "      <td>SIR-F</td>\n",
       "      <td>0.54</td>\n",
       "      <td>0.0314399</td>\n",
       "      <td>0.000609789</td>\n",
       "      <td>0.0117271</td>\n",
       "      <td>0.0204043</td>\n",
       "      <td>360</td>\n",
       "      <td>409</td>\n",
       "      <td>0.031</td>\n",
       "      <td>12</td>\n",
       "      <td>21</td>\n",
       "      <td>0.14506</td>\n",
       "      <td>266</td>\n",
       "      <td>0 min 10 sec</td>\n",
       "    </tr>\n",
       "    <tr>\n",
       "      <th>3rd</th>\n",
       "      <td>Past</td>\n",
       "      <td>22Apr2020</td>\n",
       "      <td>17Jun2020</td>\n",
       "      <td>82905782</td>\n",
       "      <td>SIR-F</td>\n",
       "      <td>0.54</td>\n",
       "      <td>0.0282911</td>\n",
       "      <td>5.91196e-05</td>\n",
       "      <td>0.0127741</td>\n",
       "      <td>0.0229123</td>\n",
       "      <td>360</td>\n",
       "      <td>4228</td>\n",
       "      <td>0.028</td>\n",
       "      <td>10</td>\n",
       "      <td>19</td>\n",
       "      <td>0.103906</td>\n",
       "      <td>229</td>\n",
       "      <td>0 min 10 sec</td>\n",
       "    </tr>\n",
       "    <tr>\n",
       "      <th>4th</th>\n",
       "      <td>Past</td>\n",
       "      <td>18Jun2020</td>\n",
       "      <td>15Aug2020</td>\n",
       "      <td>82905782</td>\n",
       "      <td>SIR-F</td>\n",
       "      <td>1.15</td>\n",
       "      <td>0.00379861</td>\n",
       "      <td>1.85307e-06</td>\n",
       "      <td>0.0162708</td>\n",
       "      <td>0.0141308</td>\n",
       "      <td>360</td>\n",
       "      <td>134910</td>\n",
       "      <td>0.004</td>\n",
       "      <td>17</td>\n",
       "      <td>15</td>\n",
       "      <td>0.11541</td>\n",
       "      <td>215</td>\n",
       "      <td>0 min 10 sec</td>\n",
       "    </tr>\n",
       "    <tr>\n",
       "      <th>5th</th>\n",
       "      <td>Past</td>\n",
       "      <td>16Aug2020</td>\n",
       "      <td>16Sep2020</td>\n",
       "      <td>82905782</td>\n",
       "      <td>SIR-F</td>\n",
       "      <td>1.31</td>\n",
       "      <td>0.00156721</td>\n",
       "      <td>0.000191478</td>\n",
       "      <td>0.0163234</td>\n",
       "      <td>0.012231</td>\n",
       "      <td>360</td>\n",
       "      <td>1305</td>\n",
       "      <td>0.002</td>\n",
       "      <td>20</td>\n",
       "      <td>15</td>\n",
       "      <td>0.0642556</td>\n",
       "      <td>225</td>\n",
       "      <td>0 min 10 sec</td>\n",
       "    </tr>\n",
       "    <tr>\n",
       "      <th>6th</th>\n",
       "      <td>Past</td>\n",
       "      <td>17Sep2020</td>\n",
       "      <td>08Oct2020</td>\n",
       "      <td>82905782</td>\n",
       "      <td>SIR-F</td>\n",
       "      <td>1.32</td>\n",
       "      <td>0.000501427</td>\n",
       "      <td>9.63532e-05</td>\n",
       "      <td>0.0183925</td>\n",
       "      <td>0.013808</td>\n",
       "      <td>360</td>\n",
       "      <td>2594</td>\n",
       "      <td>0.001</td>\n",
       "      <td>18</td>\n",
       "      <td>13</td>\n",
       "      <td>0.0290588</td>\n",
       "      <td>252</td>\n",
       "      <td>0 min 10 sec</td>\n",
       "    </tr>\n",
       "    <tr>\n",
       "      <th>7th</th>\n",
       "      <td>Past</td>\n",
       "      <td>09Oct2020</td>\n",
       "      <td>20Oct2020</td>\n",
       "      <td>82905782</td>\n",
       "      <td>SIR-F</td>\n",
       "      <td>3.13</td>\n",
       "      <td>0.000676492</td>\n",
       "      <td>6.74045e-05</td>\n",
       "      <td>0.0257669</td>\n",
       "      <td>0.00815943</td>\n",
       "      <td>360</td>\n",
       "      <td>3708</td>\n",
       "      <td>0.001</td>\n",
       "      <td>30</td>\n",
       "      <td>9</td>\n",
       "      <td>0.0649047</td>\n",
       "      <td>281</td>\n",
       "      <td>0 min 10 sec</td>\n",
       "    </tr>\n",
       "    <tr>\n",
       "      <th>8th</th>\n",
       "      <td>Past</td>\n",
       "      <td>21Oct2020</td>\n",
       "      <td>27Oct2020</td>\n",
       "      <td>82905782</td>\n",
       "      <td>-</td>\n",
       "      <td>-</td>\n",
       "      <td>-</td>\n",
       "      <td>-</td>\n",
       "      <td>-</td>\n",
       "      <td>-</td>\n",
       "      <td>-</td>\n",
       "      <td>-</td>\n",
       "      <td>-</td>\n",
       "      <td>-</td>\n",
       "      <td>-</td>\n",
       "      <td>-</td>\n",
       "      <td>-</td>\n",
       "      <td>-</td>\n",
       "    </tr>\n",
       "    <tr>\n",
       "      <th>9th</th>\n",
       "      <td>Past</td>\n",
       "      <td>28Oct2020</td>\n",
       "      <td>03Nov2020</td>\n",
       "      <td>82905782</td>\n",
       "      <td>-</td>\n",
       "      <td>-</td>\n",
       "      <td>-</td>\n",
       "      <td>-</td>\n",
       "      <td>-</td>\n",
       "      <td>-</td>\n",
       "      <td>-</td>\n",
       "      <td>-</td>\n",
       "      <td>-</td>\n",
       "      <td>-</td>\n",
       "      <td>-</td>\n",
       "      <td>-</td>\n",
       "      <td>-</td>\n",
       "      <td>-</td>\n",
       "    </tr>\n",
       "    <tr>\n",
       "      <th>10th</th>\n",
       "      <td>Past</td>\n",
       "      <td>04Nov2020</td>\n",
       "      <td>10Nov2020</td>\n",
       "      <td>82905782</td>\n",
       "      <td>-</td>\n",
       "      <td>-</td>\n",
       "      <td>-</td>\n",
       "      <td>-</td>\n",
       "      <td>-</td>\n",
       "      <td>-</td>\n",
       "      <td>-</td>\n",
       "      <td>-</td>\n",
       "      <td>-</td>\n",
       "      <td>-</td>\n",
       "      <td>-</td>\n",
       "      <td>-</td>\n",
       "      <td>-</td>\n",
       "      <td>-</td>\n",
       "    </tr>\n",
       "    <tr>\n",
       "      <th>11th</th>\n",
       "      <td>Past</td>\n",
       "      <td>11Nov2020</td>\n",
       "      <td>17Nov2020</td>\n",
       "      <td>82905782</td>\n",
       "      <td>-</td>\n",
       "      <td>-</td>\n",
       "      <td>-</td>\n",
       "      <td>-</td>\n",
       "      <td>-</td>\n",
       "      <td>-</td>\n",
       "      <td>-</td>\n",
       "      <td>-</td>\n",
       "      <td>-</td>\n",
       "      <td>-</td>\n",
       "      <td>-</td>\n",
       "      <td>-</td>\n",
       "      <td>-</td>\n",
       "      <td>-</td>\n",
       "    </tr>\n",
       "    <tr>\n",
       "      <th>12th</th>\n",
       "      <td>Past</td>\n",
       "      <td>18Nov2020</td>\n",
       "      <td>24Nov2020</td>\n",
       "      <td>82905782</td>\n",
       "      <td>-</td>\n",
       "      <td>-</td>\n",
       "      <td>-</td>\n",
       "      <td>-</td>\n",
       "      <td>-</td>\n",
       "      <td>-</td>\n",
       "      <td>-</td>\n",
       "      <td>-</td>\n",
       "      <td>-</td>\n",
       "      <td>-</td>\n",
       "      <td>-</td>\n",
       "      <td>-</td>\n",
       "      <td>-</td>\n",
       "      <td>-</td>\n",
       "    </tr>\n",
       "    <tr>\n",
       "      <th>13th</th>\n",
       "      <td>Past</td>\n",
       "      <td>25Nov2020</td>\n",
       "      <td>01Dec2020</td>\n",
       "      <td>82905782</td>\n",
       "      <td>SIR-F</td>\n",
       "      <td>0.91</td>\n",
       "      <td>0.0159733</td>\n",
       "      <td>0.000287581</td>\n",
       "      <td>0.014666</td>\n",
       "      <td>0.0156283</td>\n",
       "      <td>360</td>\n",
       "      <td>869</td>\n",
       "      <td>0.016</td>\n",
       "      <td>15</td>\n",
       "      <td>17</td>\n",
       "      <td>0.0261482</td>\n",
       "      <td>246</td>\n",
       "      <td>0 min 10 sec</td>\n",
       "    </tr>\n",
       "    <tr>\n",
       "      <th>14th</th>\n",
       "      <td>Past</td>\n",
       "      <td>02Dec2020</td>\n",
       "      <td>08Dec2020</td>\n",
       "      <td>82905782</td>\n",
       "      <td>-</td>\n",
       "      <td>-</td>\n",
       "      <td>-</td>\n",
       "      <td>-</td>\n",
       "      <td>-</td>\n",
       "      <td>-</td>\n",
       "      <td>-</td>\n",
       "      <td>-</td>\n",
       "      <td>-</td>\n",
       "      <td>-</td>\n",
       "      <td>-</td>\n",
       "      <td>-</td>\n",
       "      <td>-</td>\n",
       "      <td>-</td>\n",
       "    </tr>\n",
       "    <tr>\n",
       "      <th>15th</th>\n",
       "      <td>Past</td>\n",
       "      <td>09Dec2020</td>\n",
       "      <td>14Dec2020</td>\n",
       "      <td>82905782</td>\n",
       "      <td>-</td>\n",
       "      <td>-</td>\n",
       "      <td>-</td>\n",
       "      <td>-</td>\n",
       "      <td>-</td>\n",
       "      <td>-</td>\n",
       "      <td>-</td>\n",
       "      <td>-</td>\n",
       "      <td>-</td>\n",
       "      <td>-</td>\n",
       "      <td>-</td>\n",
       "      <td>-</td>\n",
       "      <td>-</td>\n",
       "      <td>-</td>\n",
       "    </tr>\n",
       "    <tr>\n",
       "      <th>16th</th>\n",
       "      <td>Past</td>\n",
       "      <td>15Dec2020</td>\n",
       "      <td>20Dec2020</td>\n",
       "      <td>82905782</td>\n",
       "      <td>SIR-F</td>\n",
       "      <td>1.6</td>\n",
       "      <td>0.00129257</td>\n",
       "      <td>0.000191072</td>\n",
       "      <td>0.020386</td>\n",
       "      <td>0.0125378</td>\n",
       "      <td>360</td>\n",
       "      <td>1308</td>\n",
       "      <td>0.001</td>\n",
       "      <td>19</td>\n",
       "      <td>12</td>\n",
       "      <td>0.0239651</td>\n",
       "      <td>226</td>\n",
       "      <td>0 min 10 sec</td>\n",
       "    </tr>\n",
       "    <tr>\n",
       "      <th>17th</th>\n",
       "      <td>Past</td>\n",
       "      <td>21Dec2020</td>\n",
       "      <td>31Dec2020</td>\n",
       "      <td>82905782</td>\n",
       "      <td>SIR-F</td>\n",
       "      <td>1.04</td>\n",
       "      <td>0.000664743</td>\n",
       "      <td>6.76233e-05</td>\n",
       "      <td>0.0142207</td>\n",
       "      <td>0.0136373</td>\n",
       "      <td>360</td>\n",
       "      <td>3696</td>\n",
       "      <td>0.001</td>\n",
       "      <td>18</td>\n",
       "      <td>17</td>\n",
       "      <td>0.0332077</td>\n",
       "      <td>265</td>\n",
       "      <td>0 min 10 sec</td>\n",
       "    </tr>\n",
       "  </tbody>\n",
       "</table>\n",
       "</div>"
      ],
      "text/plain": [
       "               Type      Start        End  Population    ODE     Rt  \\\n",
       "Country Phase                                                         \n",
       "Germany 0th    Past  19Jan2020  23Mar2020    82905782  SIR-F  30.32   \n",
       "        1st    Past  24Mar2020  04Apr2020    82905782  SIR-F   4.98   \n",
       "        2nd    Past  05Apr2020  21Apr2020    82905782  SIR-F   0.54   \n",
       "        3rd    Past  22Apr2020  17Jun2020    82905782  SIR-F   0.54   \n",
       "        4th    Past  18Jun2020  15Aug2020    82905782  SIR-F   1.15   \n",
       "        5th    Past  16Aug2020  16Sep2020    82905782  SIR-F   1.31   \n",
       "        6th    Past  17Sep2020  08Oct2020    82905782  SIR-F   1.32   \n",
       "        7th    Past  09Oct2020  20Oct2020    82905782  SIR-F   3.13   \n",
       "        8th    Past  21Oct2020  27Oct2020    82905782      -      -   \n",
       "        9th    Past  28Oct2020  03Nov2020    82905782      -      -   \n",
       "        10th   Past  04Nov2020  10Nov2020    82905782      -      -   \n",
       "        11th   Past  11Nov2020  17Nov2020    82905782      -      -   \n",
       "        12th   Past  18Nov2020  24Nov2020    82905782      -      -   \n",
       "        13th   Past  25Nov2020  01Dec2020    82905782  SIR-F   0.91   \n",
       "        14th   Past  02Dec2020  08Dec2020    82905782      -      -   \n",
       "        15th   Past  09Dec2020  14Dec2020    82905782      -      -   \n",
       "        16th   Past  15Dec2020  20Dec2020    82905782  SIR-F    1.6   \n",
       "        17th   Past  21Dec2020  31Dec2020    82905782  SIR-F   1.04   \n",
       "\n",
       "                     theta        kappa        rho        sigma  tau  \\\n",
       "Country Phase                                                          \n",
       "Germany 0th     0.00149186  0.000595437  0.0331438  0.000496104  360   \n",
       "        1st      0.0352431  0.000559985  0.0227793   0.00385093  360   \n",
       "        2nd      0.0314399  0.000609789  0.0117271    0.0204043  360   \n",
       "        3rd      0.0282911  5.91196e-05  0.0127741    0.0229123  360   \n",
       "        4th     0.00379861  1.85307e-06  0.0162708    0.0141308  360   \n",
       "        5th     0.00156721  0.000191478  0.0163234     0.012231  360   \n",
       "        6th    0.000501427  9.63532e-05  0.0183925     0.013808  360   \n",
       "        7th    0.000676492  6.74045e-05  0.0257669   0.00815943  360   \n",
       "        8th              -            -          -            -    -   \n",
       "        9th              -            -          -            -    -   \n",
       "        10th             -            -          -            -    -   \n",
       "        11th             -            -          -            -    -   \n",
       "        12th             -            -          -            -    -   \n",
       "        13th     0.0159733  0.000287581   0.014666    0.0156283  360   \n",
       "        14th             -            -          -            -    -   \n",
       "        15th             -            -          -            -    -   \n",
       "        16th    0.00129257  0.000191072   0.020386    0.0125378  360   \n",
       "        17th   0.000664743  6.76233e-05  0.0142207    0.0136373  360   \n",
       "\n",
       "              1/alpha2 [day] alpha1 [-] 1/gamma [day] 1/beta [day]      RMSLE  \\\n",
       "Country Phase                                                                   \n",
       "Germany 0th              419      0.001           503            7    1.16064   \n",
       "        1st              446      0.035            64           10   0.164884   \n",
       "        2nd              409      0.031            12           21    0.14506   \n",
       "        3rd             4228      0.028            10           19   0.103906   \n",
       "        4th           134910      0.004            17           15    0.11541   \n",
       "        5th             1305      0.002            20           15  0.0642556   \n",
       "        6th             2594      0.001            18           13  0.0290588   \n",
       "        7th             3708      0.001            30            9  0.0649047   \n",
       "        8th                -          -             -            -          -   \n",
       "        9th                -          -             -            -          -   \n",
       "        10th               -          -             -            -          -   \n",
       "        11th               -          -             -            -          -   \n",
       "        12th               -          -             -            -          -   \n",
       "        13th             869      0.016            15           17  0.0261482   \n",
       "        14th               -          -             -            -          -   \n",
       "        15th               -          -             -            -          -   \n",
       "        16th            1308      0.001            19           12  0.0239651   \n",
       "        17th            3696      0.001            18           17  0.0332077   \n",
       "\n",
       "              Trials       Runtime  \n",
       "Country Phase                       \n",
       "Germany 0th      242  0 min 10 sec  \n",
       "        1st      242  0 min 10 sec  \n",
       "        2nd      266  0 min 10 sec  \n",
       "        3rd      229  0 min 10 sec  \n",
       "        4th      215  0 min 10 sec  \n",
       "        5th      225  0 min 10 sec  \n",
       "        6th      252  0 min 10 sec  \n",
       "        7th      281  0 min 10 sec  \n",
       "        8th        -             -  \n",
       "        9th        -             -  \n",
       "        10th       -             -  \n",
       "        11th       -             -  \n",
       "        12th       -             -  \n",
       "        13th     246  0 min 10 sec  \n",
       "        14th       -             -  \n",
       "        15th       -             -  \n",
       "        16th     226  0 min 10 sec  \n",
       "        17th     265  0 min 10 sec  "
      ]
     },
     "execution_count": 12,
     "metadata": {},
     "output_type": "execute_result"
    }
   ],
   "source": [
    "# Show summary\n",
    "analyser.summary(countries=countries_show)"
   ]
  },
  {
   "cell_type": "markdown",
   "metadata": {},
   "source": [
    "## Compare the history of parameters\n",
    "Here, compare the history of parameter values if countries."
   ]
  },
  {
   "cell_type": "code",
   "execution_count": 13,
   "metadata": {
    "collapsed": false
   },
   "outputs": [
    {
     "data": {
      "text/html": [
       "<div>\n",
       "<style scoped>\n",
       "    .dataframe tbody tr th:only-of-type {\n",
       "        vertical-align: middle;\n",
       "    }\n",
       "\n",
       "    .dataframe tbody tr th {\n",
       "        vertical-align: top;\n",
       "    }\n",
       "\n",
       "    .dataframe thead th {\n",
       "        text-align: right;\n",
       "    }\n",
       "</style>\n",
       "<table border=\"1\" class=\"dataframe\">\n",
       "  <thead>\n",
       "    <tr style=\"text-align: right;\">\n",
       "      <th></th>\n",
       "      <th>Date</th>\n",
       "      <th>Country</th>\n",
       "      <th>theta</th>\n",
       "      <th>kappa</th>\n",
       "      <th>rho</th>\n",
       "      <th>sigma</th>\n",
       "      <th>alpha1 [-]</th>\n",
       "      <th>1/alpha2 [day]</th>\n",
       "      <th>1/beta [day]</th>\n",
       "      <th>1/gamma [day]</th>\n",
       "      <th>...</th>\n",
       "      <th>Cancel_events</th>\n",
       "      <th>Gatherings_restrictions</th>\n",
       "      <th>Transport_closing</th>\n",
       "      <th>Stay_home_restrictions</th>\n",
       "      <th>Internal_movement_restrictions</th>\n",
       "      <th>International_movement_restrictions</th>\n",
       "      <th>Information_campaigns</th>\n",
       "      <th>Testing_policy</th>\n",
       "      <th>Contact_tracing</th>\n",
       "      <th>Stringency_index</th>\n",
       "    </tr>\n",
       "  </thead>\n",
       "  <tbody>\n",
       "    <tr>\n",
       "      <th>0</th>\n",
       "      <td>2020-03-16</td>\n",
       "      <td>Netherlands</td>\n",
       "      <td>0.0825859</td>\n",
       "      <td>0.00075358</td>\n",
       "      <td>0.037483</td>\n",
       "      <td>0.00180831</td>\n",
       "      <td>0.083</td>\n",
       "      <td>331</td>\n",
       "      <td>6</td>\n",
       "      <td>138</td>\n",
       "      <td>...</td>\n",
       "      <td>2</td>\n",
       "      <td>3</td>\n",
       "      <td>0</td>\n",
       "      <td>1</td>\n",
       "      <td>1</td>\n",
       "      <td>0</td>\n",
       "      <td>2</td>\n",
       "      <td>1</td>\n",
       "      <td>1</td>\n",
       "      <td>62.04</td>\n",
       "    </tr>\n",
       "    <tr>\n",
       "      <th>1</th>\n",
       "      <td>2020-03-16</td>\n",
       "      <td>Netherlands</td>\n",
       "      <td>0.0825859</td>\n",
       "      <td>0.00075358</td>\n",
       "      <td>0.037483</td>\n",
       "      <td>0.00180831</td>\n",
       "      <td>0.083</td>\n",
       "      <td>331</td>\n",
       "      <td>6</td>\n",
       "      <td>138</td>\n",
       "      <td>...</td>\n",
       "      <td>2</td>\n",
       "      <td>3</td>\n",
       "      <td>0</td>\n",
       "      <td>1</td>\n",
       "      <td>1</td>\n",
       "      <td>0</td>\n",
       "      <td>2</td>\n",
       "      <td>1</td>\n",
       "      <td>1</td>\n",
       "      <td>62.04</td>\n",
       "    </tr>\n",
       "    <tr>\n",
       "      <th>2</th>\n",
       "      <td>2020-03-16</td>\n",
       "      <td>Netherlands</td>\n",
       "      <td>0.0825859</td>\n",
       "      <td>0.00075358</td>\n",
       "      <td>0.037483</td>\n",
       "      <td>0.00180831</td>\n",
       "      <td>0.083</td>\n",
       "      <td>331</td>\n",
       "      <td>6</td>\n",
       "      <td>138</td>\n",
       "      <td>...</td>\n",
       "      <td>2</td>\n",
       "      <td>3</td>\n",
       "      <td>0</td>\n",
       "      <td>1</td>\n",
       "      <td>1</td>\n",
       "      <td>0</td>\n",
       "      <td>2</td>\n",
       "      <td>1</td>\n",
       "      <td>1</td>\n",
       "      <td>62.04</td>\n",
       "    </tr>\n",
       "    <tr>\n",
       "      <th>3</th>\n",
       "      <td>2020-03-16</td>\n",
       "      <td>Netherlands</td>\n",
       "      <td>0.0825859</td>\n",
       "      <td>0.00075358</td>\n",
       "      <td>0.037483</td>\n",
       "      <td>0.00180831</td>\n",
       "      <td>0.083</td>\n",
       "      <td>331</td>\n",
       "      <td>6</td>\n",
       "      <td>138</td>\n",
       "      <td>...</td>\n",
       "      <td>2</td>\n",
       "      <td>3</td>\n",
       "      <td>0</td>\n",
       "      <td>1</td>\n",
       "      <td>1</td>\n",
       "      <td>0</td>\n",
       "      <td>2</td>\n",
       "      <td>1</td>\n",
       "      <td>1</td>\n",
       "      <td>62.04</td>\n",
       "    </tr>\n",
       "    <tr>\n",
       "      <th>4</th>\n",
       "      <td>2020-03-16</td>\n",
       "      <td>Netherlands</td>\n",
       "      <td>0.0825859</td>\n",
       "      <td>0.00075358</td>\n",
       "      <td>0.037483</td>\n",
       "      <td>0.00180831</td>\n",
       "      <td>0.083</td>\n",
       "      <td>331</td>\n",
       "      <td>6</td>\n",
       "      <td>138</td>\n",
       "      <td>...</td>\n",
       "      <td>2</td>\n",
       "      <td>3</td>\n",
       "      <td>0</td>\n",
       "      <td>1</td>\n",
       "      <td>1</td>\n",
       "      <td>0</td>\n",
       "      <td>2</td>\n",
       "      <td>1</td>\n",
       "      <td>1</td>\n",
       "      <td>62.04</td>\n",
       "    </tr>\n",
       "  </tbody>\n",
       "</table>\n",
       "<p>5 rows × 23 columns</p>\n",
       "</div>"
      ],
      "text/plain": [
       "        Date      Country      theta       kappa       rho       sigma  \\\n",
       "0 2020-03-16  Netherlands  0.0825859  0.00075358  0.037483  0.00180831   \n",
       "1 2020-03-16  Netherlands  0.0825859  0.00075358  0.037483  0.00180831   \n",
       "2 2020-03-16  Netherlands  0.0825859  0.00075358  0.037483  0.00180831   \n",
       "3 2020-03-16  Netherlands  0.0825859  0.00075358  0.037483  0.00180831   \n",
       "4 2020-03-16  Netherlands  0.0825859  0.00075358  0.037483  0.00180831   \n",
       "\n",
       "  alpha1 [-] 1/alpha2 [day] 1/beta [day] 1/gamma [day]  ... Cancel_events  \\\n",
       "0      0.083            331            6           138  ...             2   \n",
       "1      0.083            331            6           138  ...             2   \n",
       "2      0.083            331            6           138  ...             2   \n",
       "3      0.083            331            6           138  ...             2   \n",
       "4      0.083            331            6           138  ...             2   \n",
       "\n",
       "   Gatherings_restrictions  Transport_closing  Stay_home_restrictions  \\\n",
       "0                        3                  0                       1   \n",
       "1                        3                  0                       1   \n",
       "2                        3                  0                       1   \n",
       "3                        3                  0                       1   \n",
       "4                        3                  0                       1   \n",
       "\n",
       "   Internal_movement_restrictions  International_movement_restrictions  \\\n",
       "0                               1                                    0   \n",
       "1                               1                                    0   \n",
       "2                               1                                    0   \n",
       "3                               1                                    0   \n",
       "4                               1                                    0   \n",
       "\n",
       "   Information_campaigns  Testing_policy  Contact_tracing  Stringency_index  \n",
       "0                      2               1                1             62.04  \n",
       "1                      2               1                1             62.04  \n",
       "2                      2               1                1             62.04  \n",
       "3                      2               1                1             62.04  \n",
       "4                      2               1                1             62.04  \n",
       "\n",
       "[5 rows x 23 columns]"
      ]
     },
     "execution_count": 13,
     "metadata": {},
     "output_type": "execute_result"
    }
   ],
   "source": [
    "# All parameter/day parameter/Rt/OxCGRT\n",
    "analyser.track().head()"
   ]
  },
  {
   "cell_type": "markdown",
   "metadata": {},
   "source": [
    "### $Rt$: Reprodcution number $\\mathrm{[-]}$"
   ]
  },
  {
   "cell_type": "code",
   "execution_count": 14,
   "metadata": {
    "collapsed": false
   },
   "outputs": [
    {
     "data": {
      "image/png": "[encoded data removed]",
      "text/plain": [
       "<Figure size 648x432 with 1 Axes>"
      ]
     },
     "metadata": {},
     "output_type": "display_data"
    },
    {
     "data": {
      "text/html": [
       "<div>\n",
       "<style scoped>\n",
       "    .dataframe tbody tr th:only-of-type {\n",
       "        vertical-align: middle;\n",
       "    }\n",
       "\n",
       "    .dataframe tbody tr th {\n",
       "        vertical-align: top;\n",
       "    }\n",
       "\n",
       "    .dataframe thead th {\n",
       "        text-align: right;\n",
       "    }\n",
       "</style>\n",
       "<table border=\"1\" class=\"dataframe\">\n",
       "  <thead>\n",
       "    <tr style=\"text-align: right;\">\n",
       "      <th>Country</th>\n",
       "      <th>Finland</th>\n",
       "      <th>Germany</th>\n",
       "      <th>Italy</th>\n",
       "      <th>Malaysia</th>\n",
       "      <th>Netherlands</th>\n",
       "      <th>Norway</th>\n",
       "      <th>Portugal</th>\n",
       "      <th>United Kingdom</th>\n",
       "    </tr>\n",
       "    <tr>\n",
       "      <th>Date</th>\n",
       "      <th></th>\n",
       "      <th></th>\n",
       "      <th></th>\n",
       "      <th></th>\n",
       "      <th></th>\n",
       "      <th></th>\n",
       "      <th></th>\n",
       "      <th></th>\n",
       "    </tr>\n",
       "  </thead>\n",
       "  <tbody>\n",
       "    <tr>\n",
       "      <th>2020-12-27</th>\n",
       "      <td>0.5</td>\n",
       "      <td>1.04</td>\n",
       "      <td>0.72</td>\n",
       "      <td>1.0</td>\n",
       "      <td>1.39</td>\n",
       "      <td>0.86</td>\n",
       "      <td>0.8</td>\n",
       "      <td>2.46</td>\n",
       "    </tr>\n",
       "    <tr>\n",
       "      <th>2020-12-28</th>\n",
       "      <td>0.5</td>\n",
       "      <td>1.04</td>\n",
       "      <td>0.72</td>\n",
       "      <td>1.0</td>\n",
       "      <td>1.39</td>\n",
       "      <td>0.86</td>\n",
       "      <td>0.8</td>\n",
       "      <td>2.46</td>\n",
       "    </tr>\n",
       "    <tr>\n",
       "      <th>2020-12-29</th>\n",
       "      <td>0.5</td>\n",
       "      <td>1.04</td>\n",
       "      <td>0.72</td>\n",
       "      <td>1.0</td>\n",
       "      <td>1.39</td>\n",
       "      <td>0.86</td>\n",
       "      <td>0.8</td>\n",
       "      <td>2.46</td>\n",
       "    </tr>\n",
       "    <tr>\n",
       "      <th>2020-12-30</th>\n",
       "      <td>0.5</td>\n",
       "      <td>1.04</td>\n",
       "      <td>0.72</td>\n",
       "      <td>1.0</td>\n",
       "      <td>1.39</td>\n",
       "      <td>0.86</td>\n",
       "      <td>0.8</td>\n",
       "      <td>2.46</td>\n",
       "    </tr>\n",
       "    <tr>\n",
       "      <th>2020-12-31</th>\n",
       "      <td>0.5</td>\n",
       "      <td>1.04</td>\n",
       "      <td>0.72</td>\n",
       "      <td>1.0</td>\n",
       "      <td>1.39</td>\n",
       "      <td>0.86</td>\n",
       "      <td>0.8</td>\n",
       "      <td>2.46</td>\n",
       "    </tr>\n",
       "  </tbody>\n",
       "</table>\n",
       "</div>"
      ],
      "text/plain": [
       "Country     Finland  Germany  Italy  Malaysia  Netherlands  Norway  Portugal  \\\n",
       "Date                                                                           \n",
       "2020-12-27      0.5     1.04   0.72       1.0         1.39    0.86       0.8   \n",
       "2020-12-28      0.5     1.04   0.72       1.0         1.39    0.86       0.8   \n",
       "2020-12-29      0.5     1.04   0.72       1.0         1.39    0.86       0.8   \n",
       "2020-12-30      0.5     1.04   0.72       1.0         1.39    0.86       0.8   \n",
       "2020-12-31      0.5     1.04   0.72       1.0         1.39    0.86       0.8   \n",
       "\n",
       "Country     United Kingdom  \n",
       "Date                        \n",
       "2020-12-27            2.46  \n",
       "2020-12-28            2.46  \n",
       "2020-12-29            2.46  \n",
       "2020-12-30            2.46  \n",
       "2020-12-31            2.46  "
      ]
     },
     "execution_count": 14,
     "metadata": {},
     "output_type": "execute_result"
    }
   ],
   "source": [
    "analyser.history(\"Rt\", roll_window=None).tail()"
   ]
  },
  {
   "cell_type": "markdown",
   "metadata": {},
   "source": [
    "### $\\rho$: Effective contact rate $\\mathrm{[-]}$"
   ]
  },
  {
   "cell_type": "code",
   "execution_count": 15,
   "metadata": {
    "collapsed": false
   },
   "outputs": [
    {
     "data": {
      "image/png": "[encoded data removed]",
      "text/plain": [
       "<Figure size 648x432 with 1 Axes>"
      ]
     },
     "metadata": {},
     "output_type": "display_data"
    },
    {
     "data": {
      "text/html": [
       "<div>\n",
       "<style scoped>\n",
       "    .dataframe tbody tr th:only-of-type {\n",
       "        vertical-align: middle;\n",
       "    }\n",
       "\n",
       "    .dataframe tbody tr th {\n",
       "        vertical-align: top;\n",
       "    }\n",
       "\n",
       "    .dataframe thead th {\n",
       "        text-align: right;\n",
       "    }\n",
       "</style>\n",
       "<table border=\"1\" class=\"dataframe\">\n",
       "  <thead>\n",
       "    <tr style=\"text-align: right;\">\n",
       "      <th>Country</th>\n",
       "      <th>Finland</th>\n",
       "      <th>Germany</th>\n",
       "      <th>Italy</th>\n",
       "      <th>Malaysia</th>\n",
       "      <th>Netherlands</th>\n",
       "      <th>Norway</th>\n",
       "      <th>Portugal</th>\n",
       "      <th>United Kingdom</th>\n",
       "    </tr>\n",
       "    <tr>\n",
       "      <th>Date</th>\n",
       "      <th></th>\n",
       "      <th></th>\n",
       "      <th></th>\n",
       "      <th></th>\n",
       "      <th></th>\n",
       "      <th></th>\n",
       "      <th></th>\n",
       "      <th></th>\n",
       "    </tr>\n",
       "  </thead>\n",
       "  <tbody>\n",
       "    <tr>\n",
       "      <th>2020-12-27</th>\n",
       "      <td>0.009435</td>\n",
       "      <td>0.014221</td>\n",
       "      <td>0.005026</td>\n",
       "      <td>0.017453</td>\n",
       "      <td>0.015116</td>\n",
       "      <td>0.016859</td>\n",
       "      <td>0.014246</td>\n",
       "      <td>0.023461</td>\n",
       "    </tr>\n",
       "    <tr>\n",
       "      <th>2020-12-28</th>\n",
       "      <td>0.009435</td>\n",
       "      <td>0.014221</td>\n",
       "      <td>0.005026</td>\n",
       "      <td>0.017453</td>\n",
       "      <td>0.015116</td>\n",
       "      <td>0.016859</td>\n",
       "      <td>0.014246</td>\n",
       "      <td>0.023461</td>\n",
       "    </tr>\n",
       "    <tr>\n",
       "      <th>2020-12-29</th>\n",
       "      <td>0.009435</td>\n",
       "      <td>0.014221</td>\n",
       "      <td>0.005026</td>\n",
       "      <td>0.017453</td>\n",
       "      <td>0.015116</td>\n",
       "      <td>0.016859</td>\n",
       "      <td>0.014246</td>\n",
       "      <td>0.023461</td>\n",
       "    </tr>\n",
       "    <tr>\n",
       "      <th>2020-12-30</th>\n",
       "      <td>0.009435</td>\n",
       "      <td>0.014221</td>\n",
       "      <td>0.005026</td>\n",
       "      <td>0.017453</td>\n",
       "      <td>0.015116</td>\n",
       "      <td>0.016859</td>\n",
       "      <td>0.014246</td>\n",
       "      <td>0.023461</td>\n",
       "    </tr>\n",
       "    <tr>\n",
       "      <th>2020-12-31</th>\n",
       "      <td>0.009435</td>\n",
       "      <td>0.014221</td>\n",
       "      <td>0.005026</td>\n",
       "      <td>0.017453</td>\n",
       "      <td>0.015116</td>\n",
       "      <td>0.016859</td>\n",
       "      <td>0.014246</td>\n",
       "      <td>0.023461</td>\n",
       "    </tr>\n",
       "  </tbody>\n",
       "</table>\n",
       "</div>"
      ],
      "text/plain": [
       "Country      Finland   Germany     Italy  Malaysia  Netherlands    Norway  \\\n",
       "Date                                                                        \n",
       "2020-12-27  0.009435  0.014221  0.005026  0.017453     0.015116  0.016859   \n",
       "2020-12-28  0.009435  0.014221  0.005026  0.017453     0.015116  0.016859   \n",
       "2020-12-29  0.009435  0.014221  0.005026  0.017453     0.015116  0.016859   \n",
       "2020-12-30  0.009435  0.014221  0.005026  0.017453     0.015116  0.016859   \n",
       "2020-12-31  0.009435  0.014221  0.005026  0.017453     0.015116  0.016859   \n",
       "\n",
       "Country     Portugal  United Kingdom  \n",
       "Date                                  \n",
       "2020-12-27  0.014246        0.023461  \n",
       "2020-12-28  0.014246        0.023461  \n",
       "2020-12-29  0.014246        0.023461  \n",
       "2020-12-30  0.014246        0.023461  \n",
       "2020-12-31  0.014246        0.023461  "
      ]
     },
     "execution_count": 15,
     "metadata": {},
     "output_type": "execute_result"
    }
   ],
   "source": [
    "analyser.history(\"rho\", roll_window=None).tail()"
   ]
  },
  {
   "cell_type": "markdown",
   "metadata": {},
   "source": [
    "### $\\sigma$: Recovery rate $\\mathrm{[-]}$"
   ]
  },
  {
   "cell_type": "code",
   "execution_count": 16,
   "metadata": {
    "collapsed": false
   },
   "outputs": [
    {
     "data": {
      "image/png": "[encoded data removed]",
      "text/plain": [
       "<Figure size 648x432 with 1 Axes>"
      ]
     },
     "metadata": {},
     "output_type": "display_data"
    },
    {
     "data": {
      "text/html": [
       "<div>\n",
       "<style scoped>\n",
       "    .dataframe tbody tr th:only-of-type {\n",
       "        vertical-align: middle;\n",
       "    }\n",
       "\n",
       "    .dataframe tbody tr th {\n",
       "        vertical-align: top;\n",
       "    }\n",
       "\n",
       "    .dataframe thead th {\n",
       "        text-align: right;\n",
       "    }\n",
       "</style>\n",
       "<table border=\"1\" class=\"dataframe\">\n",
       "  <thead>\n",
       "    <tr style=\"text-align: right;\">\n",
       "      <th>Country</th>\n",
       "      <th>Finland</th>\n",
       "      <th>Germany</th>\n",
       "      <th>Italy</th>\n",
       "      <th>Malaysia</th>\n",
       "      <th>Netherlands</th>\n",
       "      <th>Norway</th>\n",
       "      <th>Portugal</th>\n",
       "      <th>United Kingdom</th>\n",
       "    </tr>\n",
       "    <tr>\n",
       "      <th>Date</th>\n",
       "      <th></th>\n",
       "      <th></th>\n",
       "      <th></th>\n",
       "      <th></th>\n",
       "      <th></th>\n",
       "      <th></th>\n",
       "      <th></th>\n",
       "      <th></th>\n",
       "    </tr>\n",
       "  </thead>\n",
       "  <tbody>\n",
       "    <tr>\n",
       "      <th>2020-12-27</th>\n",
       "      <td>0.018511</td>\n",
       "      <td>0.013637</td>\n",
       "      <td>0.006702</td>\n",
       "      <td>0.017361</td>\n",
       "      <td>0.010748</td>\n",
       "      <td>0.019306</td>\n",
       "      <td>0.01753</td>\n",
       "      <td>0.00938</td>\n",
       "    </tr>\n",
       "    <tr>\n",
       "      <th>2020-12-28</th>\n",
       "      <td>0.018511</td>\n",
       "      <td>0.013637</td>\n",
       "      <td>0.006702</td>\n",
       "      <td>0.017361</td>\n",
       "      <td>0.010748</td>\n",
       "      <td>0.019306</td>\n",
       "      <td>0.01753</td>\n",
       "      <td>0.00938</td>\n",
       "    </tr>\n",
       "    <tr>\n",
       "      <th>2020-12-29</th>\n",
       "      <td>0.018511</td>\n",
       "      <td>0.013637</td>\n",
       "      <td>0.006702</td>\n",
       "      <td>0.017361</td>\n",
       "      <td>0.010748</td>\n",
       "      <td>0.019306</td>\n",
       "      <td>0.01753</td>\n",
       "      <td>0.00938</td>\n",
       "    </tr>\n",
       "    <tr>\n",
       "      <th>2020-12-30</th>\n",
       "      <td>0.018511</td>\n",
       "      <td>0.013637</td>\n",
       "      <td>0.006702</td>\n",
       "      <td>0.017361</td>\n",
       "      <td>0.010748</td>\n",
       "      <td>0.019306</td>\n",
       "      <td>0.01753</td>\n",
       "      <td>0.00938</td>\n",
       "    </tr>\n",
       "    <tr>\n",
       "      <th>2020-12-31</th>\n",
       "      <td>0.018511</td>\n",
       "      <td>0.013637</td>\n",
       "      <td>0.006702</td>\n",
       "      <td>0.017361</td>\n",
       "      <td>0.010748</td>\n",
       "      <td>0.019306</td>\n",
       "      <td>0.01753</td>\n",
       "      <td>0.00938</td>\n",
       "    </tr>\n",
       "  </tbody>\n",
       "</table>\n",
       "</div>"
      ],
      "text/plain": [
       "Country      Finland   Germany     Italy  Malaysia  Netherlands    Norway  \\\n",
       "Date                                                                        \n",
       "2020-12-27  0.018511  0.013637  0.006702  0.017361     0.010748  0.019306   \n",
       "2020-12-28  0.018511  0.013637  0.006702  0.017361     0.010748  0.019306   \n",
       "2020-12-29  0.018511  0.013637  0.006702  0.017361     0.010748  0.019306   \n",
       "2020-12-30  0.018511  0.013637  0.006702  0.017361     0.010748  0.019306   \n",
       "2020-12-31  0.018511  0.013637  0.006702  0.017361     0.010748  0.019306   \n",
       "\n",
       "Country     Portugal  United Kingdom  \n",
       "Date                                  \n",
       "2020-12-27   0.01753         0.00938  \n",
       "2020-12-28   0.01753         0.00938  \n",
       "2020-12-29   0.01753         0.00938  \n",
       "2020-12-30   0.01753         0.00938  \n",
       "2020-12-31   0.01753         0.00938  "
      ]
     },
     "execution_count": 16,
     "metadata": {},
     "output_type": "execute_result"
    }
   ],
   "source": [
    "analyser.history(\"sigma\", roll_window=None).tail()"
   ]
  },
  {
   "cell_type": "markdown",
   "metadata": {},
   "source": [
    "### $\\kappa$: Mortality rate of infected cases $\\mathrm{[-]}$"
   ]
  },
  {
   "cell_type": "code",
   "execution_count": 17,
   "metadata": {
    "collapsed": false
   },
   "outputs": [
    {
     "data": {
      "image/png": "[encoded data removed]",
      "text/plain": [
       "<Figure size 648x432 with 1 Axes>"
      ]
     },
     "metadata": {},
     "output_type": "display_data"
    },
    {
     "data": {
      "text/html": [
       "<div>\n",
       "<style scoped>\n",
       "    .dataframe tbody tr th:only-of-type {\n",
       "        vertical-align: middle;\n",
       "    }\n",
       "\n",
       "    .dataframe tbody tr th {\n",
       "        vertical-align: top;\n",
       "    }\n",
       "\n",
       "    .dataframe thead th {\n",
       "        text-align: right;\n",
       "    }\n",
       "</style>\n",
       "<table border=\"1\" class=\"dataframe\">\n",
       "  <thead>\n",
       "    <tr style=\"text-align: right;\">\n",
       "      <th>Country</th>\n",
       "      <th>Finland</th>\n",
       "      <th>Germany</th>\n",
       "      <th>Italy</th>\n",
       "      <th>Malaysia</th>\n",
       "      <th>Netherlands</th>\n",
       "      <th>Norway</th>\n",
       "      <th>Portugal</th>\n",
       "      <th>United Kingdom</th>\n",
       "    </tr>\n",
       "    <tr>\n",
       "      <th>Date</th>\n",
       "      <th></th>\n",
       "      <th></th>\n",
       "      <th></th>\n",
       "      <th></th>\n",
       "      <th></th>\n",
       "      <th></th>\n",
       "      <th></th>\n",
       "      <th></th>\n",
       "    </tr>\n",
       "  </thead>\n",
       "  <tbody>\n",
       "    <tr>\n",
       "      <th>2020-12-27</th>\n",
       "      <td>0.000041</td>\n",
       "      <td>0.000068</td>\n",
       "      <td>0.000002</td>\n",
       "      <td>0.000002</td>\n",
       "      <td>0.000079</td>\n",
       "      <td>0.000041</td>\n",
       "      <td>0.00015</td>\n",
       "      <td>0.00015</td>\n",
       "    </tr>\n",
       "    <tr>\n",
       "      <th>2020-12-28</th>\n",
       "      <td>0.000041</td>\n",
       "      <td>0.000068</td>\n",
       "      <td>0.000002</td>\n",
       "      <td>0.000002</td>\n",
       "      <td>0.000079</td>\n",
       "      <td>0.000041</td>\n",
       "      <td>0.00015</td>\n",
       "      <td>0.00015</td>\n",
       "    </tr>\n",
       "    <tr>\n",
       "      <th>2020-12-29</th>\n",
       "      <td>0.000041</td>\n",
       "      <td>0.000068</td>\n",
       "      <td>0.000002</td>\n",
       "      <td>0.000002</td>\n",
       "      <td>0.000079</td>\n",
       "      <td>0.000041</td>\n",
       "      <td>0.00015</td>\n",
       "      <td>0.00015</td>\n",
       "    </tr>\n",
       "    <tr>\n",
       "      <th>2020-12-30</th>\n",
       "      <td>0.000041</td>\n",
       "      <td>0.000068</td>\n",
       "      <td>0.000002</td>\n",
       "      <td>0.000002</td>\n",
       "      <td>0.000079</td>\n",
       "      <td>0.000041</td>\n",
       "      <td>0.00015</td>\n",
       "      <td>0.00015</td>\n",
       "    </tr>\n",
       "    <tr>\n",
       "      <th>2020-12-31</th>\n",
       "      <td>0.000041</td>\n",
       "      <td>0.000068</td>\n",
       "      <td>0.000002</td>\n",
       "      <td>0.000002</td>\n",
       "      <td>0.000079</td>\n",
       "      <td>0.000041</td>\n",
       "      <td>0.00015</td>\n",
       "      <td>0.00015</td>\n",
       "    </tr>\n",
       "  </tbody>\n",
       "</table>\n",
       "</div>"
      ],
      "text/plain": [
       "Country      Finland   Germany     Italy  Malaysia  Netherlands    Norway  \\\n",
       "Date                                                                        \n",
       "2020-12-27  0.000041  0.000068  0.000002  0.000002     0.000079  0.000041   \n",
       "2020-12-28  0.000041  0.000068  0.000002  0.000002     0.000079  0.000041   \n",
       "2020-12-29  0.000041  0.000068  0.000002  0.000002     0.000079  0.000041   \n",
       "2020-12-30  0.000041  0.000068  0.000002  0.000002     0.000079  0.000041   \n",
       "2020-12-31  0.000041  0.000068  0.000002  0.000002     0.000079  0.000041   \n",
       "\n",
       "Country     Portugal  United Kingdom  \n",
       "Date                                  \n",
       "2020-12-27   0.00015         0.00015  \n",
       "2020-12-28   0.00015         0.00015  \n",
       "2020-12-29   0.00015         0.00015  \n",
       "2020-12-30   0.00015         0.00015  \n",
       "2020-12-31   0.00015         0.00015  "
      ]
     },
     "execution_count": 17,
     "metadata": {},
     "output_type": "execute_result"
    }
   ],
   "source": [
    "analyser.history(\"kappa\", roll_window=None).tail()"
   ]
  },
  {
   "cell_type": "markdown",
   "metadata": {},
   "source": [
    "### $\\theta$: Mortality rate of S$^\\ast$ cases $\\mathrm{[-]}$"
   ]
  },
  {
   "cell_type": "code",
   "execution_count": 18,
   "metadata": {
    "collapsed": false
   },
   "outputs": [
    {
     "data": {
      "image/png": "[encoded data removed]",
      "text/plain": [
       "<Figure size 648x432 with 1 Axes>"
      ]
     },
     "metadata": {},
     "output_type": "display_data"
    },
    {
     "data": {
      "text/html": [
       "<div>\n",
       "<style scoped>\n",
       "    .dataframe tbody tr th:only-of-type {\n",
       "        vertical-align: middle;\n",
       "    }\n",
       "\n",
       "    .dataframe tbody tr th {\n",
       "        vertical-align: top;\n",
       "    }\n",
       "\n",
       "    .dataframe thead th {\n",
       "        text-align: right;\n",
       "    }\n",
       "</style>\n",
       "<table border=\"1\" class=\"dataframe\">\n",
       "  <thead>\n",
       "    <tr style=\"text-align: right;\">\n",
       "      <th>Country</th>\n",
       "      <th>Finland</th>\n",
       "      <th>Germany</th>\n",
       "      <th>Italy</th>\n",
       "      <th>Malaysia</th>\n",
       "      <th>Netherlands</th>\n",
       "      <th>Norway</th>\n",
       "      <th>Portugal</th>\n",
       "      <th>United Kingdom</th>\n",
       "    </tr>\n",
       "    <tr>\n",
       "      <th>Date</th>\n",
       "      <th></th>\n",
       "      <th></th>\n",
       "      <th></th>\n",
       "      <th></th>\n",
       "      <th></th>\n",
       "      <th></th>\n",
       "      <th></th>\n",
       "      <th></th>\n",
       "    </tr>\n",
       "  </thead>\n",
       "  <tbody>\n",
       "    <tr>\n",
       "      <th>2020-12-27</th>\n",
       "      <td>0.01922</td>\n",
       "      <td>0.000665</td>\n",
       "      <td>0.040461</td>\n",
       "      <td>0.002172</td>\n",
       "      <td>0.003965</td>\n",
       "      <td>0.016506</td>\n",
       "      <td>0.001015</td>\n",
       "      <td>0.000898</td>\n",
       "    </tr>\n",
       "    <tr>\n",
       "      <th>2020-12-28</th>\n",
       "      <td>0.01922</td>\n",
       "      <td>0.000665</td>\n",
       "      <td>0.040461</td>\n",
       "      <td>0.002172</td>\n",
       "      <td>0.003965</td>\n",
       "      <td>0.016506</td>\n",
       "      <td>0.001015</td>\n",
       "      <td>0.000898</td>\n",
       "    </tr>\n",
       "    <tr>\n",
       "      <th>2020-12-29</th>\n",
       "      <td>0.01922</td>\n",
       "      <td>0.000665</td>\n",
       "      <td>0.040461</td>\n",
       "      <td>0.002172</td>\n",
       "      <td>0.003965</td>\n",
       "      <td>0.016506</td>\n",
       "      <td>0.001015</td>\n",
       "      <td>0.000898</td>\n",
       "    </tr>\n",
       "    <tr>\n",
       "      <th>2020-12-30</th>\n",
       "      <td>0.01922</td>\n",
       "      <td>0.000665</td>\n",
       "      <td>0.040461</td>\n",
       "      <td>0.002172</td>\n",
       "      <td>0.003965</td>\n",
       "      <td>0.016506</td>\n",
       "      <td>0.001015</td>\n",
       "      <td>0.000898</td>\n",
       "    </tr>\n",
       "    <tr>\n",
       "      <th>2020-12-31</th>\n",
       "      <td>0.01922</td>\n",
       "      <td>0.000665</td>\n",
       "      <td>0.040461</td>\n",
       "      <td>0.002172</td>\n",
       "      <td>0.003965</td>\n",
       "      <td>0.016506</td>\n",
       "      <td>0.001015</td>\n",
       "      <td>0.000898</td>\n",
       "    </tr>\n",
       "  </tbody>\n",
       "</table>\n",
       "</div>"
      ],
      "text/plain": [
       "Country     Finland   Germany     Italy  Malaysia  Netherlands    Norway  \\\n",
       "Date                                                                       \n",
       "2020-12-27  0.01922  0.000665  0.040461  0.002172     0.003965  0.016506   \n",
       "2020-12-28  0.01922  0.000665  0.040461  0.002172     0.003965  0.016506   \n",
       "2020-12-29  0.01922  0.000665  0.040461  0.002172     0.003965  0.016506   \n",
       "2020-12-30  0.01922  0.000665  0.040461  0.002172     0.003965  0.016506   \n",
       "2020-12-31  0.01922  0.000665  0.040461  0.002172     0.003965  0.016506   \n",
       "\n",
       "Country     Portugal  United Kingdom  \n",
       "Date                                  \n",
       "2020-12-27  0.001015        0.000898  \n",
       "2020-12-28  0.001015        0.000898  \n",
       "2020-12-29  0.001015        0.000898  \n",
       "2020-12-30  0.001015        0.000898  \n",
       "2020-12-31  0.001015        0.000898  "
      ]
     },
     "execution_count": 18,
     "metadata": {},
     "output_type": "execute_result"
    }
   ],
   "source": [
    "analyser.history(\"theta\", roll_window=None).tail()"
   ]
  },
  {
   "cell_type": "markdown",
   "metadata": {},
   "source": [
    "## (Experimental): Relationship of OxCGRT index and parameter values\n",
    "Government responses will impact on parameter values of ODE models about 14 days later. Here, we will investigate on the relationship of [stringency index (from OxCGRT)](https://github.com/OxCGRT/covid-policy-tracker/blob/master/documentation/index_methodology.md) and reproduction number/model parameters.\n"
   ]
  },
  {
   "cell_type": "code",
   "execution_count": 19,
   "metadata": {
    "collapsed": false
   },
   "outputs": [],
   "source": [
    "%matplotlib inline\n",
    "from matplotlib import pyplot as plt\n",
    "import seaborn as sns\n",
    "import pandas as pd"
   ]
  },
  {
   "cell_type": "code",
   "execution_count": 20,
   "metadata": {
    "collapsed": false
   },
   "outputs": [
    {
     "name": "stdout",
     "output_type": "stream",
     "text": [
      "<class 'pandas.core.frame.DataFrame'>\n",
      "Int64Index: 27214 entries, 0 to 27311\n",
      "Data columns (total 19 columns):\n",
      " #   Column                               Non-Null Count  Dtype         \n",
      "---  ------                               --------------  -----         \n",
      " 0   Date                                 27214 non-null  datetime64[ns]\n",
      " 1   Country                              27214 non-null  object        \n",
      " 2   Rt                                   27214 non-null  float64       \n",
      " 3   theta                                27214 non-null  float64       \n",
      " 4   kappa                                27214 non-null  float64       \n",
      " 5   rho                                  27214 non-null  float64       \n",
      " 6   sigma                                27214 non-null  float64       \n",
      " 7   School_closing                       27214 non-null  int64         \n",
      " 8   Workplace_closing                    27214 non-null  int64         \n",
      " 9   Cancel_events                        27214 non-null  int64         \n",
      " 10  Gatherings_restrictions              27214 non-null  int64         \n",
      " 11  Transport_closing                    27214 non-null  int64         \n",
      " 12  Stay_home_restrictions               27214 non-null  int64         \n",
      " 13  Internal_movement_restrictions       27214 non-null  int64         \n",
      " 14  International_movement_restrictions  27214 non-null  int64         \n",
      " 15  Information_campaigns                27214 non-null  int64         \n",
      " 16  Testing_policy                       27214 non-null  int64         \n",
      " 17  Contact_tracing                      27214 non-null  int64         \n",
      " 18  Stringency_index                     27214 non-null  float64       \n",
      "dtypes: datetime64[ns](1), float64(6), int64(11), object(1)\n",
      "memory usage: 4.2+ MB\n"
     ]
    }
   ],
   "source": [
    "df = analyser.track()\n",
    "param_cols = [\"Rt\", *cs.SIRF.PARAMETERS]\n",
    "oxcgrt_cols = oxcgrt_data.OXCGRT_VARS[:]\n",
    "cols = param_cols + oxcgrt_cols\n",
    "delay = 14\n",
    "\n",
    "for col in param_cols:\n",
    "    df[col] = pd.to_numeric(df[col], errors=\"coerce\")\n",
    "    df[col] = df.groupby(\"Country\")[col].shift(0 - delay)\n",
    "\n",
    "df = df.dropna(how=\"any\")\n",
    "df = df.loc[:, [\"Date\", \"Country\", *cols]]\n",
    "track_df = df.copy()\n",
    "track_df.info()"
   ]
  },
  {
   "cell_type": "code",
   "execution_count": 21,
   "metadata": {
    "collapsed": false
   },
   "outputs": [
    {
     "data": {
      "text/html": [
       "<style  type=\"text/css\" >\n",
       "#T_3962edb8_4b49_11eb_aa27_525400a4f676row0_col0,#T_3962edb8_4b49_11eb_aa27_525400a4f676row1_col1,#T_3962edb8_4b49_11eb_aa27_525400a4f676row2_col2,#T_3962edb8_4b49_11eb_aa27_525400a4f676row3_col3,#T_3962edb8_4b49_11eb_aa27_525400a4f676row4_col4,#T_3962edb8_4b49_11eb_aa27_525400a4f676row5_col5,#T_3962edb8_4b49_11eb_aa27_525400a4f676row6_col6,#T_3962edb8_4b49_11eb_aa27_525400a4f676row7_col7,#T_3962edb8_4b49_11eb_aa27_525400a4f676row8_col8,#T_3962edb8_4b49_11eb_aa27_525400a4f676row9_col9,#T_3962edb8_4b49_11eb_aa27_525400a4f676row10_col10,#T_3962edb8_4b49_11eb_aa27_525400a4f676row11_col11,#T_3962edb8_4b49_11eb_aa27_525400a4f676row12_col12,#T_3962edb8_4b49_11eb_aa27_525400a4f676row13_col13,#T_3962edb8_4b49_11eb_aa27_525400a4f676row14_col14,#T_3962edb8_4b49_11eb_aa27_525400a4f676row15_col15,#T_3962edb8_4b49_11eb_aa27_525400a4f676row16_col16{\n",
       "            background-color:  #023858;\n",
       "            color:  #f1f1f1;\n",
       "        }#T_3962edb8_4b49_11eb_aa27_525400a4f676row0_col1,#T_3962edb8_4b49_11eb_aa27_525400a4f676row1_col0{\n",
       "            background-color:  #c1cae2;\n",
       "            color:  #000000;\n",
       "        }#T_3962edb8_4b49_11eb_aa27_525400a4f676row0_col2,#T_3962edb8_4b49_11eb_aa27_525400a4f676row2_col0,#T_3962edb8_4b49_11eb_aa27_525400a4f676row4_col13,#T_3962edb8_4b49_11eb_aa27_525400a4f676row13_col4{\n",
       "            background-color:  #67a4cc;\n",
       "            color:  #000000;\n",
       "        }#T_3962edb8_4b49_11eb_aa27_525400a4f676row0_col3,#T_3962edb8_4b49_11eb_aa27_525400a4f676row3_col0,#T_3962edb8_4b49_11eb_aa27_525400a4f676row6_col16,#T_3962edb8_4b49_11eb_aa27_525400a4f676row16_col6{\n",
       "            background-color:  #045e94;\n",
       "            color:  #f1f1f1;\n",
       "        }#T_3962edb8_4b49_11eb_aa27_525400a4f676row0_col4,#T_3962edb8_4b49_11eb_aa27_525400a4f676row4_col0{\n",
       "            background-color:  #fbf4f9;\n",
       "            color:  #000000;\n",
       "        }#T_3962edb8_4b49_11eb_aa27_525400a4f676row0_col5,#T_3962edb8_4b49_11eb_aa27_525400a4f676row3_col10,#T_3962edb8_4b49_11eb_aa27_525400a4f676row5_col0,#T_3962edb8_4b49_11eb_aa27_525400a4f676row10_col3{\n",
       "            background-color:  #d6d6e9;\n",
       "            color:  #000000;\n",
       "        }#T_3962edb8_4b49_11eb_aa27_525400a4f676row0_col6,#T_3962edb8_4b49_11eb_aa27_525400a4f676row0_col13,#T_3962edb8_4b49_11eb_aa27_525400a4f676row6_col0,#T_3962edb8_4b49_11eb_aa27_525400a4f676row13_col0{\n",
       "            background-color:  #e7e3f0;\n",
       "            color:  #000000;\n",
       "        }#T_3962edb8_4b49_11eb_aa27_525400a4f676row0_col7,#T_3962edb8_4b49_11eb_aa27_525400a4f676row7_col0{\n",
       "            background-color:  #fff7fb;\n",
       "            color:  #000000;\n",
       "        }#T_3962edb8_4b49_11eb_aa27_525400a4f676row0_col8,#T_3962edb8_4b49_11eb_aa27_525400a4f676row8_col0{\n",
       "            background-color:  #f9f2f8;\n",
       "            color:  #000000;\n",
       "        }#T_3962edb8_4b49_11eb_aa27_525400a4f676row0_col9,#T_3962edb8_4b49_11eb_aa27_525400a4f676row2_col15,#T_3962edb8_4b49_11eb_aa27_525400a4f676row3_col16,#T_3962edb8_4b49_11eb_aa27_525400a4f676row9_col0,#T_3962edb8_4b49_11eb_aa27_525400a4f676row15_col2,#T_3962edb8_4b49_11eb_aa27_525400a4f676row16_col3{\n",
       "            background-color:  #dddbec;\n",
       "            color:  #000000;\n",
       "        }#T_3962edb8_4b49_11eb_aa27_525400a4f676row0_col10,#T_3962edb8_4b49_11eb_aa27_525400a4f676row10_col0{\n",
       "            background-color:  #d2d3e7;\n",
       "            color:  #000000;\n",
       "        }#T_3962edb8_4b49_11eb_aa27_525400a4f676row0_col11,#T_3962edb8_4b49_11eb_aa27_525400a4f676row11_col0{\n",
       "            background-color:  #e9e5f1;\n",
       "            color:  #000000;\n",
       "        }#T_3962edb8_4b49_11eb_aa27_525400a4f676row0_col12,#T_3962edb8_4b49_11eb_aa27_525400a4f676row2_col14,#T_3962edb8_4b49_11eb_aa27_525400a4f676row12_col0,#T_3962edb8_4b49_11eb_aa27_525400a4f676row14_col2{\n",
       "            background-color:  #f5eef6;\n",
       "            color:  #000000;\n",
       "        }#T_3962edb8_4b49_11eb_aa27_525400a4f676row0_col14,#T_3962edb8_4b49_11eb_aa27_525400a4f676row3_col9,#T_3962edb8_4b49_11eb_aa27_525400a4f676row9_col3,#T_3962edb8_4b49_11eb_aa27_525400a4f676row14_col0{\n",
       "            background-color:  #f7f0f7;\n",
       "            color:  #000000;\n",
       "        }#T_3962edb8_4b49_11eb_aa27_525400a4f676row0_col15,#T_3962edb8_4b49_11eb_aa27_525400a4f676row15_col0{\n",
       "            background-color:  #dedcec;\n",
       "            color:  #000000;\n",
       "        }#T_3962edb8_4b49_11eb_aa27_525400a4f676row0_col16,#T_3962edb8_4b49_11eb_aa27_525400a4f676row16_col0{\n",
       "            background-color:  #efe9f3;\n",
       "            color:  #000000;\n",
       "        }#T_3962edb8_4b49_11eb_aa27_525400a4f676row1_col2,#T_3962edb8_4b49_11eb_aa27_525400a4f676row2_col1{\n",
       "            background-color:  #cdd0e5;\n",
       "            color:  #000000;\n",
       "        }#T_3962edb8_4b49_11eb_aa27_525400a4f676row1_col3,#T_3962edb8_4b49_11eb_aa27_525400a4f676row3_col1,#T_3962edb8_4b49_11eb_aa27_525400a4f676row3_col6,#T_3962edb8_4b49_11eb_aa27_525400a4f676row6_col3{\n",
       "            background-color:  #e0dded;\n",
       "            color:  #000000;\n",
       "        }#T_3962edb8_4b49_11eb_aa27_525400a4f676row1_col4,#T_3962edb8_4b49_11eb_aa27_525400a4f676row4_col1,#T_3962edb8_4b49_11eb_aa27_525400a4f676row6_col15,#T_3962edb8_4b49_11eb_aa27_525400a4f676row15_col6{\n",
       "            background-color:  #bdc8e1;\n",
       "            color:  #000000;\n",
       "        }#T_3962edb8_4b49_11eb_aa27_525400a4f676row1_col5,#T_3962edb8_4b49_11eb_aa27_525400a4f676row5_col1,#T_3962edb8_4b49_11eb_aa27_525400a4f676row5_col7,#T_3962edb8_4b49_11eb_aa27_525400a4f676row7_col5,#T_3962edb8_4b49_11eb_aa27_525400a4f676row10_col11,#T_3962edb8_4b49_11eb_aa27_525400a4f676row11_col10{\n",
       "            background-color:  #2182b9;\n",
       "            color:  #000000;\n",
       "        }#T_3962edb8_4b49_11eb_aa27_525400a4f676row1_col6,#T_3962edb8_4b49_11eb_aa27_525400a4f676row6_col1{\n",
       "            background-color:  #a5bddb;\n",
       "            color:  #000000;\n",
       "        }#T_3962edb8_4b49_11eb_aa27_525400a4f676row1_col7,#T_3962edb8_4b49_11eb_aa27_525400a4f676row2_col10,#T_3962edb8_4b49_11eb_aa27_525400a4f676row7_col1,#T_3962edb8_4b49_11eb_aa27_525400a4f676row9_col15,#T_3962edb8_4b49_11eb_aa27_525400a4f676row10_col2,#T_3962edb8_4b49_11eb_aa27_525400a4f676row15_col9{\n",
       "            background-color:  #8bb2d4;\n",
       "            color:  #000000;\n",
       "        }#T_3962edb8_4b49_11eb_aa27_525400a4f676row1_col8,#T_3962edb8_4b49_11eb_aa27_525400a4f676row2_col8,#T_3962edb8_4b49_11eb_aa27_525400a4f676row8_col1,#T_3962edb8_4b49_11eb_aa27_525400a4f676row8_col2{\n",
       "            background-color:  #c9cee4;\n",
       "            color:  #000000;\n",
       "        }#T_3962edb8_4b49_11eb_aa27_525400a4f676row1_col9,#T_3962edb8_4b49_11eb_aa27_525400a4f676row7_col10,#T_3962edb8_4b49_11eb_aa27_525400a4f676row9_col1,#T_3962edb8_4b49_11eb_aa27_525400a4f676row10_col7{\n",
       "            background-color:  #1c7fb8;\n",
       "            color:  #000000;\n",
       "        }#T_3962edb8_4b49_11eb_aa27_525400a4f676row1_col10,#T_3962edb8_4b49_11eb_aa27_525400a4f676row5_col12,#T_3962edb8_4b49_11eb_aa27_525400a4f676row10_col1,#T_3962edb8_4b49_11eb_aa27_525400a4f676row12_col5{\n",
       "            background-color:  #9fbad9;\n",
       "            color:  #000000;\n",
       "        }#T_3962edb8_4b49_11eb_aa27_525400a4f676row1_col11,#T_3962edb8_4b49_11eb_aa27_525400a4f676row6_col9,#T_3962edb8_4b49_11eb_aa27_525400a4f676row9_col6,#T_3962edb8_4b49_11eb_aa27_525400a4f676row10_col13,#T_3962edb8_4b49_11eb_aa27_525400a4f676row11_col1,#T_3962edb8_4b49_11eb_aa27_525400a4f676row13_col10{\n",
       "            background-color:  #5a9ec9;\n",
       "            color:  #000000;\n",
       "        }#T_3962edb8_4b49_11eb_aa27_525400a4f676row1_col12,#T_3962edb8_4b49_11eb_aa27_525400a4f676row2_col4,#T_3962edb8_4b49_11eb_aa27_525400a4f676row4_col2,#T_3962edb8_4b49_11eb_aa27_525400a4f676row12_col1{\n",
       "            background-color:  #c2cbe2;\n",
       "            color:  #000000;\n",
       "        }#T_3962edb8_4b49_11eb_aa27_525400a4f676row1_col13,#T_3962edb8_4b49_11eb_aa27_525400a4f676row13_col1{\n",
       "            background-color:  #94b6d7;\n",
       "            color:  #000000;\n",
       "        }#T_3962edb8_4b49_11eb_aa27_525400a4f676row1_col14,#T_3962edb8_4b49_11eb_aa27_525400a4f676row4_col9,#T_3962edb8_4b49_11eb_aa27_525400a4f676row9_col4,#T_3962edb8_4b49_11eb_aa27_525400a4f676row14_col1{\n",
       "            background-color:  #c0c9e2;\n",
       "            color:  #000000;\n",
       "        }#T_3962edb8_4b49_11eb_aa27_525400a4f676row1_col15,#T_3962edb8_4b49_11eb_aa27_525400a4f676row10_col14,#T_3962edb8_4b49_11eb_aa27_525400a4f676row14_col10,#T_3962edb8_4b49_11eb_aa27_525400a4f676row15_col1{\n",
       "            background-color:  #84b0d3;\n",
       "            color:  #000000;\n",
       "        }#T_3962edb8_4b49_11eb_aa27_525400a4f676row1_col16,#T_3962edb8_4b49_11eb_aa27_525400a4f676row16_col1{\n",
       "            background-color:  #a8bedc;\n",
       "            color:  #000000;\n",
       "        }#T_3962edb8_4b49_11eb_aa27_525400a4f676row2_col3,#T_3962edb8_4b49_11eb_aa27_525400a4f676row3_col2,#T_3962edb8_4b49_11eb_aa27_525400a4f676row5_col13,#T_3962edb8_4b49_11eb_aa27_525400a4f676row13_col5{\n",
       "            background-color:  #5c9fc9;\n",
       "            color:  #000000;\n",
       "        }#T_3962edb8_4b49_11eb_aa27_525400a4f676row2_col5,#T_3962edb8_4b49_11eb_aa27_525400a4f676row5_col2{\n",
       "            background-color:  #7bacd1;\n",
       "            color:  #000000;\n",
       "        }#T_3962edb8_4b49_11eb_aa27_525400a4f676row2_col6,#T_3962edb8_4b49_11eb_aa27_525400a4f676row6_col2{\n",
       "            background-color:  #97b7d7;\n",
       "            color:  #000000;\n",
       "        }#T_3962edb8_4b49_11eb_aa27_525400a4f676row2_col7,#T_3962edb8_4b49_11eb_aa27_525400a4f676row7_col2{\n",
       "            background-color:  #d1d2e6;\n",
       "            color:  #000000;\n",
       "        }#T_3962edb8_4b49_11eb_aa27_525400a4f676row2_col9,#T_3962edb8_4b49_11eb_aa27_525400a4f676row9_col2{\n",
       "            background-color:  #b8c6e0;\n",
       "            color:  #000000;\n",
       "        }#T_3962edb8_4b49_11eb_aa27_525400a4f676row2_col11,#T_3962edb8_4b49_11eb_aa27_525400a4f676row11_col2{\n",
       "            background-color:  #bcc7e1;\n",
       "            color:  #000000;\n",
       "        }#T_3962edb8_4b49_11eb_aa27_525400a4f676row2_col12,#T_3962edb8_4b49_11eb_aa27_525400a4f676row12_col2{\n",
       "            background-color:  #dfddec;\n",
       "            color:  #000000;\n",
       "        }#T_3962edb8_4b49_11eb_aa27_525400a4f676row2_col13,#T_3962edb8_4b49_11eb_aa27_525400a4f676row13_col2{\n",
       "            background-color:  #cccfe5;\n",
       "            color:  #000000;\n",
       "        }#T_3962edb8_4b49_11eb_aa27_525400a4f676row2_col16,#T_3962edb8_4b49_11eb_aa27_525400a4f676row16_col2{\n",
       "            background-color:  #8fb4d6;\n",
       "            color:  #000000;\n",
       "        }#T_3962edb8_4b49_11eb_aa27_525400a4f676row3_col4,#T_3962edb8_4b49_11eb_aa27_525400a4f676row3_col11,#T_3962edb8_4b49_11eb_aa27_525400a4f676row4_col3,#T_3962edb8_4b49_11eb_aa27_525400a4f676row11_col3{\n",
       "            background-color:  #eae6f1;\n",
       "            color:  #000000;\n",
       "        }#T_3962edb8_4b49_11eb_aa27_525400a4f676row3_col5,#T_3962edb8_4b49_11eb_aa27_525400a4f676row5_col3{\n",
       "            background-color:  #e4e1ef;\n",
       "            color:  #000000;\n",
       "        }#T_3962edb8_4b49_11eb_aa27_525400a4f676row3_col7,#T_3962edb8_4b49_11eb_aa27_525400a4f676row7_col3{\n",
       "            background-color:  #faf2f8;\n",
       "            color:  #000000;\n",
       "        }#T_3962edb8_4b49_11eb_aa27_525400a4f676row3_col8,#T_3962edb8_4b49_11eb_aa27_525400a4f676row8_col3{\n",
       "            background-color:  #ebe6f2;\n",
       "            color:  #000000;\n",
       "        }#T_3962edb8_4b49_11eb_aa27_525400a4f676row3_col12,#T_3962edb8_4b49_11eb_aa27_525400a4f676row12_col3{\n",
       "            background-color:  #f0eaf4;\n",
       "            color:  #000000;\n",
       "        }#T_3962edb8_4b49_11eb_aa27_525400a4f676row3_col13,#T_3962edb8_4b49_11eb_aa27_525400a4f676row13_col3{\n",
       "            background-color:  #d4d4e8;\n",
       "            color:  #000000;\n",
       "        }#T_3962edb8_4b49_11eb_aa27_525400a4f676row3_col14,#T_3962edb8_4b49_11eb_aa27_525400a4f676row14_col3{\n",
       "            background-color:  #eee9f3;\n",
       "            color:  #000000;\n",
       "        }#T_3962edb8_4b49_11eb_aa27_525400a4f676row3_col15,#T_3962edb8_4b49_11eb_aa27_525400a4f676row15_col3{\n",
       "            background-color:  #d0d1e6;\n",
       "            color:  #000000;\n",
       "        }#T_3962edb8_4b49_11eb_aa27_525400a4f676row4_col5,#T_3962edb8_4b49_11eb_aa27_525400a4f676row5_col4,#T_3962edb8_4b49_11eb_aa27_525400a4f676row8_col9,#T_3962edb8_4b49_11eb_aa27_525400a4f676row9_col8{\n",
       "            background-color:  #89b1d4;\n",
       "            color:  #000000;\n",
       "        }#T_3962edb8_4b49_11eb_aa27_525400a4f676row4_col6,#T_3962edb8_4b49_11eb_aa27_525400a4f676row4_col14,#T_3962edb8_4b49_11eb_aa27_525400a4f676row6_col4,#T_3962edb8_4b49_11eb_aa27_525400a4f676row14_col4,#T_3962edb8_4b49_11eb_aa27_525400a4f676row14_col16,#T_3962edb8_4b49_11eb_aa27_525400a4f676row16_col14{\n",
       "            background-color:  #69a5cc;\n",
       "            color:  #000000;\n",
       "        }#T_3962edb8_4b49_11eb_aa27_525400a4f676row4_col7,#T_3962edb8_4b49_11eb_aa27_525400a4f676row7_col4{\n",
       "            background-color:  #4a98c5;\n",
       "            color:  #000000;\n",
       "        }#T_3962edb8_4b49_11eb_aa27_525400a4f676row4_col8,#T_3962edb8_4b49_11eb_aa27_525400a4f676row8_col4{\n",
       "            background-color:  #328dbf;\n",
       "            color:  #000000;\n",
       "        }#T_3962edb8_4b49_11eb_aa27_525400a4f676row4_col10,#T_3962edb8_4b49_11eb_aa27_525400a4f676row9_col14,#T_3962edb8_4b49_11eb_aa27_525400a4f676row10_col4,#T_3962edb8_4b49_11eb_aa27_525400a4f676row14_col9{\n",
       "            background-color:  #afc1dd;\n",
       "            color:  #000000;\n",
       "        }#T_3962edb8_4b49_11eb_aa27_525400a4f676row4_col11,#T_3962edb8_4b49_11eb_aa27_525400a4f676row11_col4{\n",
       "            background-color:  #96b6d7;\n",
       "            color:  #000000;\n",
       "        }#T_3962edb8_4b49_11eb_aa27_525400a4f676row4_col12,#T_3962edb8_4b49_11eb_aa27_525400a4f676row12_col4{\n",
       "            background-color:  #76aad0;\n",
       "            color:  #000000;\n",
       "        }#T_3962edb8_4b49_11eb_aa27_525400a4f676row4_col15,#T_3962edb8_4b49_11eb_aa27_525400a4f676row15_col4{\n",
       "            background-color:  #99b8d8;\n",
       "            color:  #000000;\n",
       "        }#T_3962edb8_4b49_11eb_aa27_525400a4f676row4_col16,#T_3962edb8_4b49_11eb_aa27_525400a4f676row16_col4{\n",
       "            background-color:  #6ba5cd;\n",
       "            color:  #000000;\n",
       "        }#T_3962edb8_4b49_11eb_aa27_525400a4f676row5_col6,#T_3962edb8_4b49_11eb_aa27_525400a4f676row6_col5{\n",
       "            background-color:  #1b7eb7;\n",
       "            color:  #000000;\n",
       "        }#T_3962edb8_4b49_11eb_aa27_525400a4f676row5_col8,#T_3962edb8_4b49_11eb_aa27_525400a4f676row8_col5,#T_3962edb8_4b49_11eb_aa27_525400a4f676row11_col13,#T_3962edb8_4b49_11eb_aa27_525400a4f676row13_col11{\n",
       "            background-color:  #549cc7;\n",
       "            color:  #000000;\n",
       "        }#T_3962edb8_4b49_11eb_aa27_525400a4f676row5_col9,#T_3962edb8_4b49_11eb_aa27_525400a4f676row9_col5{\n",
       "            background-color:  #358fc0;\n",
       "            color:  #000000;\n",
       "        }#T_3962edb8_4b49_11eb_aa27_525400a4f676row5_col10,#T_3962edb8_4b49_11eb_aa27_525400a4f676row7_col14,#T_3962edb8_4b49_11eb_aa27_525400a4f676row10_col5,#T_3962edb8_4b49_11eb_aa27_525400a4f676row14_col7{\n",
       "            background-color:  #2987bc;\n",
       "            color:  #000000;\n",
       "        }#T_3962edb8_4b49_11eb_aa27_525400a4f676row5_col11,#T_3962edb8_4b49_11eb_aa27_525400a4f676row11_col5{\n",
       "            background-color:  #167bb6;\n",
       "            color:  #000000;\n",
       "        }#T_3962edb8_4b49_11eb_aa27_525400a4f676row5_col14,#T_3962edb8_4b49_11eb_aa27_525400a4f676row14_col5{\n",
       "            background-color:  #b4c4df;\n",
       "            color:  #000000;\n",
       "        }#T_3962edb8_4b49_11eb_aa27_525400a4f676row5_col15,#T_3962edb8_4b49_11eb_aa27_525400a4f676row15_col5{\n",
       "            background-color:  #abbfdc;\n",
       "            color:  #000000;\n",
       "        }#T_3962edb8_4b49_11eb_aa27_525400a4f676row5_col16,#T_3962edb8_4b49_11eb_aa27_525400a4f676row16_col5{\n",
       "            background-color:  #0771b1;\n",
       "            color:  #f1f1f1;\n",
       "        }#T_3962edb8_4b49_11eb_aa27_525400a4f676row6_col7,#T_3962edb8_4b49_11eb_aa27_525400a4f676row6_col10,#T_3962edb8_4b49_11eb_aa27_525400a4f676row7_col6,#T_3962edb8_4b49_11eb_aa27_525400a4f676row10_col6{\n",
       "            background-color:  #05659f;\n",
       "            color:  #f1f1f1;\n",
       "        }#T_3962edb8_4b49_11eb_aa27_525400a4f676row6_col8,#T_3962edb8_4b49_11eb_aa27_525400a4f676row8_col6{\n",
       "            background-color:  #0567a1;\n",
       "            color:  #f1f1f1;\n",
       "        }#T_3962edb8_4b49_11eb_aa27_525400a4f676row6_col11,#T_3962edb8_4b49_11eb_aa27_525400a4f676row11_col6{\n",
       "            background-color:  #187cb6;\n",
       "            color:  #000000;\n",
       "        }#T_3962edb8_4b49_11eb_aa27_525400a4f676row6_col12,#T_3962edb8_4b49_11eb_aa27_525400a4f676row12_col6{\n",
       "            background-color:  #78abd0;\n",
       "            color:  #000000;\n",
       "        }#T_3962edb8_4b49_11eb_aa27_525400a4f676row6_col13,#T_3962edb8_4b49_11eb_aa27_525400a4f676row13_col6,#T_3962edb8_4b49_11eb_aa27_525400a4f676row13_col14,#T_3962edb8_4b49_11eb_aa27_525400a4f676row14_col13{\n",
       "            background-color:  #2f8bbe;\n",
       "            color:  #000000;\n",
       "        }#T_3962edb8_4b49_11eb_aa27_525400a4f676row6_col14,#T_3962edb8_4b49_11eb_aa27_525400a4f676row14_col6{\n",
       "            background-color:  #6fa7ce;\n",
       "            color:  #000000;\n",
       "        }#T_3962edb8_4b49_11eb_aa27_525400a4f676row7_col8,#T_3962edb8_4b49_11eb_aa27_525400a4f676row8_col7{\n",
       "            background-color:  #0567a2;\n",
       "            color:  #f1f1f1;\n",
       "        }#T_3962edb8_4b49_11eb_aa27_525400a4f676row7_col9,#T_3962edb8_4b49_11eb_aa27_525400a4f676row9_col7{\n",
       "            background-color:  #4094c3;\n",
       "            color:  #000000;\n",
       "        }#T_3962edb8_4b49_11eb_aa27_525400a4f676row7_col11,#T_3962edb8_4b49_11eb_aa27_525400a4f676row11_col7{\n",
       "            background-color:  #0f76b3;\n",
       "            color:  #f1f1f1;\n",
       "        }#T_3962edb8_4b49_11eb_aa27_525400a4f676row7_col12,#T_3962edb8_4b49_11eb_aa27_525400a4f676row12_col7{\n",
       "            background-color:  #3b92c1;\n",
       "            color:  #000000;\n",
       "        }#T_3962edb8_4b49_11eb_aa27_525400a4f676row7_col13,#T_3962edb8_4b49_11eb_aa27_525400a4f676row13_col7{\n",
       "            background-color:  #1278b4;\n",
       "            color:  #f1f1f1;\n",
       "        }#T_3962edb8_4b49_11eb_aa27_525400a4f676row7_col15,#T_3962edb8_4b49_11eb_aa27_525400a4f676row11_col14,#T_3962edb8_4b49_11eb_aa27_525400a4f676row14_col11,#T_3962edb8_4b49_11eb_aa27_525400a4f676row15_col7{\n",
       "            background-color:  #93b5d6;\n",
       "            color:  #000000;\n",
       "        }#T_3962edb8_4b49_11eb_aa27_525400a4f676row7_col16,#T_3962edb8_4b49_11eb_aa27_525400a4f676row10_col16,#T_3962edb8_4b49_11eb_aa27_525400a4f676row16_col7,#T_3962edb8_4b49_11eb_aa27_525400a4f676row16_col10{\n",
       "            background-color:  #04649e;\n",
       "            color:  #f1f1f1;\n",
       "        }#T_3962edb8_4b49_11eb_aa27_525400a4f676row8_col10,#T_3962edb8_4b49_11eb_aa27_525400a4f676row10_col8{\n",
       "            background-color:  #2081b9;\n",
       "            color:  #000000;\n",
       "        }#T_3962edb8_4b49_11eb_aa27_525400a4f676row8_col11,#T_3962edb8_4b49_11eb_aa27_525400a4f676row11_col8{\n",
       "            background-color:  #2a88bc;\n",
       "            color:  #000000;\n",
       "        }#T_3962edb8_4b49_11eb_aa27_525400a4f676row8_col12,#T_3962edb8_4b49_11eb_aa27_525400a4f676row12_col8{\n",
       "            background-color:  #5ea0ca;\n",
       "            color:  #000000;\n",
       "        }#T_3962edb8_4b49_11eb_aa27_525400a4f676row8_col13,#T_3962edb8_4b49_11eb_aa27_525400a4f676row13_col8{\n",
       "            background-color:  #308cbe;\n",
       "            color:  #000000;\n",
       "        }#T_3962edb8_4b49_11eb_aa27_525400a4f676row8_col14,#T_3962edb8_4b49_11eb_aa27_525400a4f676row14_col8{\n",
       "            background-color:  #2c89bd;\n",
       "            color:  #000000;\n",
       "        }#T_3962edb8_4b49_11eb_aa27_525400a4f676row8_col15,#T_3962edb8_4b49_11eb_aa27_525400a4f676row11_col15,#T_3962edb8_4b49_11eb_aa27_525400a4f676row15_col8,#T_3962edb8_4b49_11eb_aa27_525400a4f676row15_col11{\n",
       "            background-color:  #a7bddb;\n",
       "            color:  #000000;\n",
       "        }#T_3962edb8_4b49_11eb_aa27_525400a4f676row8_col16,#T_3962edb8_4b49_11eb_aa27_525400a4f676row16_col8{\n",
       "            background-color:  #04649d;\n",
       "            color:  #f1f1f1;\n",
       "        }#T_3962edb8_4b49_11eb_aa27_525400a4f676row9_col10,#T_3962edb8_4b49_11eb_aa27_525400a4f676row10_col9{\n",
       "            background-color:  #569dc8;\n",
       "            color:  #000000;\n",
       "        }#T_3962edb8_4b49_11eb_aa27_525400a4f676row9_col11,#T_3962edb8_4b49_11eb_aa27_525400a4f676row11_col9{\n",
       "            background-color:  #0872b1;\n",
       "            color:  #f1f1f1;\n",
       "        }#T_3962edb8_4b49_11eb_aa27_525400a4f676row9_col12,#T_3962edb8_4b49_11eb_aa27_525400a4f676row12_col9{\n",
       "            background-color:  #acc0dd;\n",
       "            color:  #000000;\n",
       "        }#T_3962edb8_4b49_11eb_aa27_525400a4f676row9_col13,#T_3962edb8_4b49_11eb_aa27_525400a4f676row13_col9{\n",
       "            background-color:  #75a9cf;\n",
       "            color:  #000000;\n",
       "        }#T_3962edb8_4b49_11eb_aa27_525400a4f676row9_col16,#T_3962edb8_4b49_11eb_aa27_525400a4f676row16_col9{\n",
       "            background-color:  #62a2cb;\n",
       "            color:  #000000;\n",
       "        }#T_3962edb8_4b49_11eb_aa27_525400a4f676row10_col12,#T_3962edb8_4b49_11eb_aa27_525400a4f676row12_col10{\n",
       "            background-color:  #7dacd1;\n",
       "            color:  #000000;\n",
       "        }#T_3962edb8_4b49_11eb_aa27_525400a4f676row10_col15,#T_3962edb8_4b49_11eb_aa27_525400a4f676row15_col10{\n",
       "            background-color:  #cacee5;\n",
       "            color:  #000000;\n",
       "        }#T_3962edb8_4b49_11eb_aa27_525400a4f676row11_col12,#T_3962edb8_4b49_11eb_aa27_525400a4f676row12_col11{\n",
       "            background-color:  #a9bfdc;\n",
       "            color:  #000000;\n",
       "        }#T_3962edb8_4b49_11eb_aa27_525400a4f676row11_col16,#T_3962edb8_4b49_11eb_aa27_525400a4f676row16_col11{\n",
       "            background-color:  #157ab5;\n",
       "            color:  #000000;\n",
       "        }#T_3962edb8_4b49_11eb_aa27_525400a4f676row12_col13,#T_3962edb8_4b49_11eb_aa27_525400a4f676row13_col12{\n",
       "            background-color:  #4496c3;\n",
       "            color:  #000000;\n",
       "        }#T_3962edb8_4b49_11eb_aa27_525400a4f676row12_col14,#T_3962edb8_4b49_11eb_aa27_525400a4f676row14_col12{\n",
       "            background-color:  #197db7;\n",
       "            color:  #000000;\n",
       "        }#T_3962edb8_4b49_11eb_aa27_525400a4f676row12_col15,#T_3962edb8_4b49_11eb_aa27_525400a4f676row15_col12{\n",
       "            background-color:  #4295c3;\n",
       "            color:  #000000;\n",
       "        }#T_3962edb8_4b49_11eb_aa27_525400a4f676row12_col16,#T_3962edb8_4b49_11eb_aa27_525400a4f676row16_col12{\n",
       "            background-color:  #4c99c5;\n",
       "            color:  #000000;\n",
       "        }#T_3962edb8_4b49_11eb_aa27_525400a4f676row13_col15,#T_3962edb8_4b49_11eb_aa27_525400a4f676row15_col13{\n",
       "            background-color:  #529bc7;\n",
       "            color:  #000000;\n",
       "        }#T_3962edb8_4b49_11eb_aa27_525400a4f676row13_col16,#T_3962edb8_4b49_11eb_aa27_525400a4f676row16_col13{\n",
       "            background-color:  #1379b5;\n",
       "            color:  #f1f1f1;\n",
       "        }#T_3962edb8_4b49_11eb_aa27_525400a4f676row14_col15,#T_3962edb8_4b49_11eb_aa27_525400a4f676row15_col14{\n",
       "            background-color:  #3f93c2;\n",
       "            color:  #000000;\n",
       "        }#T_3962edb8_4b49_11eb_aa27_525400a4f676row15_col16,#T_3962edb8_4b49_11eb_aa27_525400a4f676row16_col15{\n",
       "            background-color:  #b9c6e0;\n",
       "            color:  #000000;\n",
       "        }</style><table id=\"T_3962edb8_4b49_11eb_aa27_525400a4f676\" ><thead>    <tr>        <th class=\"blank level0\" ></th>        <th class=\"col_heading level0 col0\" >Rt</th>        <th class=\"col_heading level0 col1\" >theta</th>        <th class=\"col_heading level0 col2\" >kappa</th>        <th class=\"col_heading level0 col3\" >rho</th>        <th class=\"col_heading level0 col4\" >sigma</th>        <th class=\"col_heading level0 col5\" >School_closing</th>        <th class=\"col_heading level0 col6\" >Workplace_closing</th>        <th class=\"col_heading level0 col7\" >Cancel_events</th>        <th class=\"col_heading level0 col8\" >Gatherings_restrictions</th>        <th class=\"col_heading level0 col9\" >Transport_closing</th>        <th class=\"col_heading level0 col10\" >Stay_home_restrictions</th>        <th class=\"col_heading level0 col11\" >Internal_movement_restrictions</th>        <th class=\"col_heading level0 col12\" >International_movement_restrictions</th>        <th class=\"col_heading level0 col13\" >Information_campaigns</th>        <th class=\"col_heading level0 col14\" >Testing_policy</th>        <th class=\"col_heading level0 col15\" >Contact_tracing</th>        <th class=\"col_heading level0 col16\" >Stringency_index</th>    </tr></thead><tbody>\n",
       "                <tr>\n",
       "                        <th id=\"T_3962edb8_4b49_11eb_aa27_525400a4f676level0_row0\" class=\"row_heading level0 row0\" >Rt</th>\n",
       "                        <td id=\"T_3962edb8_4b49_11eb_aa27_525400a4f676row0_col0\" class=\"data row0 col0\" >1.000000</td>\n",
       "                        <td id=\"T_3962edb8_4b49_11eb_aa27_525400a4f676row0_col1\" class=\"data row0 col1\" >-0.114220</td>\n",
       "                        <td id=\"T_3962edb8_4b49_11eb_aa27_525400a4f676row0_col2\" class=\"data row0 col2\" >0.249684</td>\n",
       "                        <td id=\"T_3962edb8_4b49_11eb_aa27_525400a4f676row0_col3\" class=\"data row0 col3\" >0.760088</td>\n",
       "                        <td id=\"T_3962edb8_4b49_11eb_aa27_525400a4f676row0_col4\" class=\"data row0 col4\" >-0.539111</td>\n",
       "                        <td id=\"T_3962edb8_4b49_11eb_aa27_525400a4f676row0_col5\" class=\"data row0 col5\" >-0.227144</td>\n",
       "                        <td id=\"T_3962edb8_4b49_11eb_aa27_525400a4f676row0_col6\" class=\"data row0 col6\" >-0.345975</td>\n",
       "                        <td id=\"T_3962edb8_4b49_11eb_aa27_525400a4f676row0_col7\" class=\"data row0 col7\" >-0.578864</td>\n",
       "                        <td id=\"T_3962edb8_4b49_11eb_aa27_525400a4f676row0_col8\" class=\"data row0 col8\" >-0.511649</td>\n",
       "                        <td id=\"T_3962edb8_4b49_11eb_aa27_525400a4f676row0_col9\" class=\"data row0 col9\" >-0.270832</td>\n",
       "                        <td id=\"T_3962edb8_4b49_11eb_aa27_525400a4f676row0_col10\" class=\"data row0 col10\" >-0.199218</td>\n",
       "                        <td id=\"T_3962edb8_4b49_11eb_aa27_525400a4f676row0_col11\" class=\"data row0 col11\" >-0.361433</td>\n",
       "                        <td id=\"T_3962edb8_4b49_11eb_aa27_525400a4f676row0_col12\" class=\"data row0 col12\" >-0.472802</td>\n",
       "                        <td id=\"T_3962edb8_4b49_11eb_aa27_525400a4f676row0_col13\" class=\"data row0 col13\" >-0.349343</td>\n",
       "                        <td id=\"T_3962edb8_4b49_11eb_aa27_525400a4f676row0_col14\" class=\"data row0 col14\" >-0.490798</td>\n",
       "                        <td id=\"T_3962edb8_4b49_11eb_aa27_525400a4f676row0_col15\" class=\"data row0 col15\" >-0.281249</td>\n",
       "                        <td id=\"T_3962edb8_4b49_11eb_aa27_525400a4f676row0_col16\" class=\"data row0 col16\" >-0.411097</td>\n",
       "            </tr>\n",
       "            <tr>\n",
       "                        <th id=\"T_3962edb8_4b49_11eb_aa27_525400a4f676level0_row1\" class=\"row_heading level0 row1\" >theta</th>\n",
       "                        <td id=\"T_3962edb8_4b49_11eb_aa27_525400a4f676row1_col0\" class=\"data row1 col0\" >-0.114220</td>\n",
       "                        <td id=\"T_3962edb8_4b49_11eb_aa27_525400a4f676row1_col1\" class=\"data row1 col1\" >1.000000</td>\n",
       "                        <td id=\"T_3962edb8_4b49_11eb_aa27_525400a4f676row1_col2\" class=\"data row1 col2\" >-0.168307</td>\n",
       "                        <td id=\"T_3962edb8_4b49_11eb_aa27_525400a4f676row1_col3\" class=\"data row1 col3\" >-0.293462</td>\n",
       "                        <td id=\"T_3962edb8_4b49_11eb_aa27_525400a4f676row1_col4\" class=\"data row1 col4\" >-0.091953</td>\n",
       "                        <td id=\"T_3962edb8_4b49_11eb_aa27_525400a4f676row1_col5\" class=\"data row1 col5\" >0.492322</td>\n",
       "                        <td id=\"T_3962edb8_4b49_11eb_aa27_525400a4f676row1_col6\" class=\"data row1 col6\" >0.016687</td>\n",
       "                        <td id=\"T_3962edb8_4b49_11eb_aa27_525400a4f676row1_col7\" class=\"data row1 col7\" >0.122780</td>\n",
       "                        <td id=\"T_3962edb8_4b49_11eb_aa27_525400a4f676row1_col8\" class=\"data row1 col8\" >-0.151154</td>\n",
       "                        <td id=\"T_3962edb8_4b49_11eb_aa27_525400a4f676row1_col9\" class=\"data row1 col9\" >0.506957</td>\n",
       "                        <td id=\"T_3962edb8_4b49_11eb_aa27_525400a4f676row1_col10\" class=\"data row1 col10\" >0.041712</td>\n",
       "                        <td id=\"T_3962edb8_4b49_11eb_aa27_525400a4f676row1_col11\" class=\"data row1 col11\" >0.296021</td>\n",
       "                        <td id=\"T_3962edb8_4b49_11eb_aa27_525400a4f676row1_col12\" class=\"data row1 col12\" >-0.119553</td>\n",
       "                        <td id=\"T_3962edb8_4b49_11eb_aa27_525400a4f676row1_col13\" class=\"data row1 col13\" >0.086593</td>\n",
       "                        <td id=\"T_3962edb8_4b49_11eb_aa27_525400a4f676row1_col14\" class=\"data row1 col14\" >-0.109039</td>\n",
       "                        <td id=\"T_3962edb8_4b49_11eb_aa27_525400a4f676row1_col15\" class=\"data row1 col15\" >0.146785</td>\n",
       "                        <td id=\"T_3962edb8_4b49_11eb_aa27_525400a4f676row1_col16\" class=\"data row1 col16\" >0.002528</td>\n",
       "            </tr>\n",
       "            <tr>\n",
       "                        <th id=\"T_3962edb8_4b49_11eb_aa27_525400a4f676level0_row2\" class=\"row_heading level0 row2\" >kappa</th>\n",
       "                        <td id=\"T_3962edb8_4b49_11eb_aa27_525400a4f676row2_col0\" class=\"data row2 col0\" >0.249684</td>\n",
       "                        <td id=\"T_3962edb8_4b49_11eb_aa27_525400a4f676row2_col1\" class=\"data row2 col1\" >-0.168307</td>\n",
       "                        <td id=\"T_3962edb8_4b49_11eb_aa27_525400a4f676row2_col2\" class=\"data row2 col2\" >1.000000</td>\n",
       "                        <td id=\"T_3962edb8_4b49_11eb_aa27_525400a4f676row2_col3\" class=\"data row2 col3\" >0.285286</td>\n",
       "                        <td id=\"T_3962edb8_4b49_11eb_aa27_525400a4f676row2_col4\" class=\"data row2 col4\" >-0.120565</td>\n",
       "                        <td id=\"T_3962edb8_4b49_11eb_aa27_525400a4f676row2_col5\" class=\"data row2 col5\" >0.182157</td>\n",
       "                        <td id=\"T_3962edb8_4b49_11eb_aa27_525400a4f676row2_col6\" class=\"data row2 col6\" >0.073545</td>\n",
       "                        <td id=\"T_3962edb8_4b49_11eb_aa27_525400a4f676row2_col7\" class=\"data row2 col7\" >-0.184324</td>\n",
       "                        <td id=\"T_3962edb8_4b49_11eb_aa27_525400a4f676row2_col8\" class=\"data row2 col8\" >-0.152773</td>\n",
       "                        <td id=\"T_3962edb8_4b49_11eb_aa27_525400a4f676row2_col9\" class=\"data row2 col9\" >-0.071695</td>\n",
       "                        <td id=\"T_3962edb8_4b49_11eb_aa27_525400a4f676row2_col10\" class=\"data row2 col10\" >0.119077</td>\n",
       "                        <td id=\"T_3962edb8_4b49_11eb_aa27_525400a4f676row2_col11\" class=\"data row2 col11\" >-0.087590</td>\n",
       "                        <td id=\"T_3962edb8_4b49_11eb_aa27_525400a4f676row2_col12\" class=\"data row2 col12\" >-0.285467</td>\n",
       "                        <td id=\"T_3962edb8_4b49_11eb_aa27_525400a4f676row2_col13\" class=\"data row2 col13\" >-0.161140</td>\n",
       "                        <td id=\"T_3962edb8_4b49_11eb_aa27_525400a4f676row2_col14\" class=\"data row2 col14\" >-0.468286</td>\n",
       "                        <td id=\"T_3962edb8_4b49_11eb_aa27_525400a4f676row2_col15\" class=\"data row2 col15\" >-0.272127</td>\n",
       "                        <td id=\"T_3962edb8_4b49_11eb_aa27_525400a4f676row2_col16\" class=\"data row2 col16\" >0.100357</td>\n",
       "            </tr>\n",
       "            <tr>\n",
       "                        <th id=\"T_3962edb8_4b49_11eb_aa27_525400a4f676level0_row3\" class=\"row_heading level0 row3\" >rho</th>\n",
       "                        <td id=\"T_3962edb8_4b49_11eb_aa27_525400a4f676row3_col0\" class=\"data row3 col0\" >0.760088</td>\n",
       "                        <td id=\"T_3962edb8_4b49_11eb_aa27_525400a4f676row3_col1\" class=\"data row3 col1\" >-0.293462</td>\n",
       "                        <td id=\"T_3962edb8_4b49_11eb_aa27_525400a4f676row3_col2\" class=\"data row3 col2\" >0.285286</td>\n",
       "                        <td id=\"T_3962edb8_4b49_11eb_aa27_525400a4f676row3_col3\" class=\"data row3 col3\" >1.000000</td>\n",
       "                        <td id=\"T_3962edb8_4b49_11eb_aa27_525400a4f676row3_col4\" class=\"data row3 col4\" >-0.368749</td>\n",
       "                        <td id=\"T_3962edb8_4b49_11eb_aa27_525400a4f676row3_col5\" class=\"data row3 col5\" >-0.322465</td>\n",
       "                        <td id=\"T_3962edb8_4b49_11eb_aa27_525400a4f676row3_col6\" class=\"data row3 col6\" >-0.289257</td>\n",
       "                        <td id=\"T_3962edb8_4b49_11eb_aa27_525400a4f676row3_col7\" class=\"data row3 col7\" >-0.518569</td>\n",
       "                        <td id=\"T_3962edb8_4b49_11eb_aa27_525400a4f676row3_col8\" class=\"data row3 col8\" >-0.374487</td>\n",
       "                        <td id=\"T_3962edb8_4b49_11eb_aa27_525400a4f676row3_col9\" class=\"data row3 col9\" >-0.487788</td>\n",
       "                        <td id=\"T_3962edb8_4b49_11eb_aa27_525400a4f676row3_col10\" class=\"data row3 col10\" >-0.225612</td>\n",
       "                        <td id=\"T_3962edb8_4b49_11eb_aa27_525400a4f676row3_col11\" class=\"data row3 col11\" >-0.368869</td>\n",
       "                        <td id=\"T_3962edb8_4b49_11eb_aa27_525400a4f676row3_col12\" class=\"data row3 col12\" >-0.412416</td>\n",
       "                        <td id=\"T_3962edb8_4b49_11eb_aa27_525400a4f676row3_col13\" class=\"data row3 col13\" >-0.210635</td>\n",
       "                        <td id=\"T_3962edb8_4b49_11eb_aa27_525400a4f676row3_col14\" class=\"data row3 col14\" >-0.401331</td>\n",
       "                        <td id=\"T_3962edb8_4b49_11eb_aa27_525400a4f676row3_col15\" class=\"data row3 col15\" >-0.182324</td>\n",
       "                        <td id=\"T_3962edb8_4b49_11eb_aa27_525400a4f676row3_col16\" class=\"data row3 col16\" >-0.271402</td>\n",
       "            </tr>\n",
       "            <tr>\n",
       "                        <th id=\"T_3962edb8_4b49_11eb_aa27_525400a4f676level0_row4\" class=\"row_heading level0 row4\" >sigma</th>\n",
       "                        <td id=\"T_3962edb8_4b49_11eb_aa27_525400a4f676row4_col0\" class=\"data row4 col0\" >-0.539111</td>\n",
       "                        <td id=\"T_3962edb8_4b49_11eb_aa27_525400a4f676row4_col1\" class=\"data row4 col1\" >-0.091953</td>\n",
       "                        <td id=\"T_3962edb8_4b49_11eb_aa27_525400a4f676row4_col2\" class=\"data row4 col2\" >-0.120565</td>\n",
       "                        <td id=\"T_3962edb8_4b49_11eb_aa27_525400a4f676row4_col3\" class=\"data row4 col3\" >-0.368749</td>\n",
       "                        <td id=\"T_3962edb8_4b49_11eb_aa27_525400a4f676row4_col4\" class=\"data row4 col4\" >1.000000</td>\n",
       "                        <td id=\"T_3962edb8_4b49_11eb_aa27_525400a4f676row4_col5\" class=\"data row4 col5\" >0.126824</td>\n",
       "                        <td id=\"T_3962edb8_4b49_11eb_aa27_525400a4f676row4_col6\" class=\"data row4 col6\" >0.245780</td>\n",
       "                        <td id=\"T_3962edb8_4b49_11eb_aa27_525400a4f676row4_col7\" class=\"data row4 col7\" >0.346249</td>\n",
       "                        <td id=\"T_3962edb8_4b49_11eb_aa27_525400a4f676row4_col8\" class=\"data row4 col8\" >0.426001</td>\n",
       "                        <td id=\"T_3962edb8_4b49_11eb_aa27_525400a4f676row4_col9\" class=\"data row4 col9\" >-0.104299</td>\n",
       "                        <td id=\"T_3962edb8_4b49_11eb_aa27_525400a4f676row4_col10\" class=\"data row4 col10\" >-0.029743</td>\n",
       "                        <td id=\"T_3962edb8_4b49_11eb_aa27_525400a4f676row4_col11\" class=\"data row4 col11\" >0.076523</td>\n",
       "                        <td id=\"T_3962edb8_4b49_11eb_aa27_525400a4f676row4_col12\" class=\"data row4 col12\" >0.203081</td>\n",
       "                        <td id=\"T_3962edb8_4b49_11eb_aa27_525400a4f676row4_col13\" class=\"data row4 col13\" >0.249506</td>\n",
       "                        <td id=\"T_3962edb8_4b49_11eb_aa27_525400a4f676row4_col14\" class=\"data row4 col14\" >0.242379</td>\n",
       "                        <td id=\"T_3962edb8_4b49_11eb_aa27_525400a4f676row4_col15\" class=\"data row4 col15\" >0.068490</td>\n",
       "                        <td id=\"T_3962edb8_4b49_11eb_aa27_525400a4f676row4_col16\" class=\"data row4 col16\" >0.235847</td>\n",
       "            </tr>\n",
       "            <tr>\n",
       "                        <th id=\"T_3962edb8_4b49_11eb_aa27_525400a4f676level0_row5\" class=\"row_heading level0 row5\" >School_closing</th>\n",
       "                        <td id=\"T_3962edb8_4b49_11eb_aa27_525400a4f676row5_col0\" class=\"data row5 col0\" >-0.227144</td>\n",
       "                        <td id=\"T_3962edb8_4b49_11eb_aa27_525400a4f676row5_col1\" class=\"data row5 col1\" >0.492322</td>\n",
       "                        <td id=\"T_3962edb8_4b49_11eb_aa27_525400a4f676row5_col2\" class=\"data row5 col2\" >0.182157</td>\n",
       "                        <td id=\"T_3962edb8_4b49_11eb_aa27_525400a4f676row5_col3\" class=\"data row5 col3\" >-0.322465</td>\n",
       "                        <td id=\"T_3962edb8_4b49_11eb_aa27_525400a4f676row5_col4\" class=\"data row5 col4\" >0.126824</td>\n",
       "                        <td id=\"T_3962edb8_4b49_11eb_aa27_525400a4f676row5_col5\" class=\"data row5 col5\" >1.000000</td>\n",
       "                        <td id=\"T_3962edb8_4b49_11eb_aa27_525400a4f676row5_col6\" class=\"data row5 col6\" >0.518890</td>\n",
       "                        <td id=\"T_3962edb8_4b49_11eb_aa27_525400a4f676row5_col7\" class=\"data row5 col7\" >0.491040</td>\n",
       "                        <td id=\"T_3962edb8_4b49_11eb_aa27_525400a4f676row5_col8\" class=\"data row5 col8\" >0.314643</td>\n",
       "                        <td id=\"T_3962edb8_4b49_11eb_aa27_525400a4f676row5_col9\" class=\"data row5 col9\" >0.413120</td>\n",
       "                        <td id=\"T_3962edb8_4b49_11eb_aa27_525400a4f676row5_col10\" class=\"data row5 col10\" >0.458846</td>\n",
       "                        <td id=\"T_3962edb8_4b49_11eb_aa27_525400a4f676row5_col11\" class=\"data row5 col11\" >0.531346</td>\n",
       "                        <td id=\"T_3962edb8_4b49_11eb_aa27_525400a4f676row5_col12\" class=\"data row5 col12\" >0.037959</td>\n",
       "                        <td id=\"T_3962edb8_4b49_11eb_aa27_525400a4f676row5_col13\" class=\"data row5 col13\" >0.285581</td>\n",
       "                        <td id=\"T_3962edb8_4b49_11eb_aa27_525400a4f676row5_col14\" class=\"data row5 col14\" >-0.048587</td>\n",
       "                        <td id=\"T_3962edb8_4b49_11eb_aa27_525400a4f676row5_col15\" class=\"data row5 col15\" >-0.006430</td>\n",
       "                        <td id=\"T_3962edb8_4b49_11eb_aa27_525400a4f676row5_col16\" class=\"data row5 col16\" >0.593332</td>\n",
       "            </tr>\n",
       "            <tr>\n",
       "                        <th id=\"T_3962edb8_4b49_11eb_aa27_525400a4f676level0_row6\" class=\"row_heading level0 row6\" >Workplace_closing</th>\n",
       "                        <td id=\"T_3962edb8_4b49_11eb_aa27_525400a4f676row6_col0\" class=\"data row6 col0\" >-0.345975</td>\n",
       "                        <td id=\"T_3962edb8_4b49_11eb_aa27_525400a4f676row6_col1\" class=\"data row6 col1\" >0.016687</td>\n",
       "                        <td id=\"T_3962edb8_4b49_11eb_aa27_525400a4f676row6_col2\" class=\"data row6 col2\" >0.073545</td>\n",
       "                        <td id=\"T_3962edb8_4b49_11eb_aa27_525400a4f676row6_col3\" class=\"data row6 col3\" >-0.289257</td>\n",
       "                        <td id=\"T_3962edb8_4b49_11eb_aa27_525400a4f676row6_col4\" class=\"data row6 col4\" >0.245780</td>\n",
       "                        <td id=\"T_3962edb8_4b49_11eb_aa27_525400a4f676row6_col5\" class=\"data row6 col5\" >0.518890</td>\n",
       "                        <td id=\"T_3962edb8_4b49_11eb_aa27_525400a4f676row6_col6\" class=\"data row6 col6\" >1.000000</td>\n",
       "                        <td id=\"T_3962edb8_4b49_11eb_aa27_525400a4f676row6_col7\" class=\"data row6 col7\" >0.699390</td>\n",
       "                        <td id=\"T_3962edb8_4b49_11eb_aa27_525400a4f676row6_col8\" class=\"data row6 col8\" >0.687798</td>\n",
       "                        <td id=\"T_3962edb8_4b49_11eb_aa27_525400a4f676row6_col9\" class=\"data row6 col9\" >0.296598</td>\n",
       "                        <td id=\"T_3962edb8_4b49_11eb_aa27_525400a4f676row6_col10\" class=\"data row6 col10\" >0.698555</td>\n",
       "                        <td id=\"T_3962edb8_4b49_11eb_aa27_525400a4f676row6_col11\" class=\"data row6 col11\" >0.530484</td>\n",
       "                        <td id=\"T_3962edb8_4b49_11eb_aa27_525400a4f676row6_col12\" class=\"data row6 col12\" >0.197827</td>\n",
       "                        <td id=\"T_3962edb8_4b49_11eb_aa27_525400a4f676row6_col13\" class=\"data row6 col13\" >0.438633</td>\n",
       "                        <td id=\"T_3962edb8_4b49_11eb_aa27_525400a4f676row6_col14\" class=\"data row6 col14\" >0.225384</td>\n",
       "                        <td id=\"T_3962edb8_4b49_11eb_aa27_525400a4f676row6_col15\" class=\"data row6 col15\" >-0.096798</td>\n",
       "                        <td id=\"T_3962edb8_4b49_11eb_aa27_525400a4f676row6_col16\" class=\"data row6 col16\" >0.760167</td>\n",
       "            </tr>\n",
       "            <tr>\n",
       "                        <th id=\"T_3962edb8_4b49_11eb_aa27_525400a4f676level0_row7\" class=\"row_heading level0 row7\" >Cancel_events</th>\n",
       "                        <td id=\"T_3962edb8_4b49_11eb_aa27_525400a4f676row7_col0\" class=\"data row7 col0\" >-0.578864</td>\n",
       "                        <td id=\"T_3962edb8_4b49_11eb_aa27_525400a4f676row7_col1\" class=\"data row7 col1\" >0.122780</td>\n",
       "                        <td id=\"T_3962edb8_4b49_11eb_aa27_525400a4f676row7_col2\" class=\"data row7 col2\" >-0.184324</td>\n",
       "                        <td id=\"T_3962edb8_4b49_11eb_aa27_525400a4f676row7_col3\" class=\"data row7 col3\" >-0.518569</td>\n",
       "                        <td id=\"T_3962edb8_4b49_11eb_aa27_525400a4f676row7_col4\" class=\"data row7 col4\" >0.346249</td>\n",
       "                        <td id=\"T_3962edb8_4b49_11eb_aa27_525400a4f676row7_col5\" class=\"data row7 col5\" >0.491040</td>\n",
       "                        <td id=\"T_3962edb8_4b49_11eb_aa27_525400a4f676row7_col6\" class=\"data row7 col6\" >0.699390</td>\n",
       "                        <td id=\"T_3962edb8_4b49_11eb_aa27_525400a4f676row7_col7\" class=\"data row7 col7\" >1.000000</td>\n",
       "                        <td id=\"T_3962edb8_4b49_11eb_aa27_525400a4f676row7_col8\" class=\"data row7 col8\" >0.682688</td>\n",
       "                        <td id=\"T_3962edb8_4b49_11eb_aa27_525400a4f676row7_col9\" class=\"data row7 col9\" >0.371323</td>\n",
       "                        <td id=\"T_3962edb8_4b49_11eb_aa27_525400a4f676row7_col10\" class=\"data row7 col10\" >0.510385</td>\n",
       "                        <td id=\"T_3962edb8_4b49_11eb_aa27_525400a4f676row7_col11\" class=\"data row7 col11\" >0.567327</td>\n",
       "                        <td id=\"T_3962edb8_4b49_11eb_aa27_525400a4f676row7_col12\" class=\"data row7 col12\" >0.394568</td>\n",
       "                        <td id=\"T_3962edb8_4b49_11eb_aa27_525400a4f676row7_col13\" class=\"data row7 col13\" >0.553570</td>\n",
       "                        <td id=\"T_3962edb8_4b49_11eb_aa27_525400a4f676row7_col14\" class=\"data row7 col14\" >0.457872</td>\n",
       "                        <td id=\"T_3962edb8_4b49_11eb_aa27_525400a4f676row7_col15\" class=\"data row7 col15\" >0.090561</td>\n",
       "                        <td id=\"T_3962edb8_4b49_11eb_aa27_525400a4f676row7_col16\" class=\"data row7 col16\" >0.707301</td>\n",
       "            </tr>\n",
       "            <tr>\n",
       "                        <th id=\"T_3962edb8_4b49_11eb_aa27_525400a4f676level0_row8\" class=\"row_heading level0 row8\" >Gatherings_restrictions</th>\n",
       "                        <td id=\"T_3962edb8_4b49_11eb_aa27_525400a4f676row8_col0\" class=\"data row8 col0\" >-0.511649</td>\n",
       "                        <td id=\"T_3962edb8_4b49_11eb_aa27_525400a4f676row8_col1\" class=\"data row8 col1\" >-0.151154</td>\n",
       "                        <td id=\"T_3962edb8_4b49_11eb_aa27_525400a4f676row8_col2\" class=\"data row8 col2\" >-0.152773</td>\n",
       "                        <td id=\"T_3962edb8_4b49_11eb_aa27_525400a4f676row8_col3\" class=\"data row8 col3\" >-0.374487</td>\n",
       "                        <td id=\"T_3962edb8_4b49_11eb_aa27_525400a4f676row8_col4\" class=\"data row8 col4\" >0.426001</td>\n",
       "                        <td id=\"T_3962edb8_4b49_11eb_aa27_525400a4f676row8_col5\" class=\"data row8 col5\" >0.314643</td>\n",
       "                        <td id=\"T_3962edb8_4b49_11eb_aa27_525400a4f676row8_col6\" class=\"data row8 col6\" >0.687798</td>\n",
       "                        <td id=\"T_3962edb8_4b49_11eb_aa27_525400a4f676row8_col7\" class=\"data row8 col7\" >0.682688</td>\n",
       "                        <td id=\"T_3962edb8_4b49_11eb_aa27_525400a4f676row8_col8\" class=\"data row8 col8\" >1.000000</td>\n",
       "                        <td id=\"T_3962edb8_4b49_11eb_aa27_525400a4f676row8_col9\" class=\"data row8 col9\" >0.127680</td>\n",
       "                        <td id=\"T_3962edb8_4b49_11eb_aa27_525400a4f676row8_col10\" class=\"data row8 col10\" >0.494524</td>\n",
       "                        <td id=\"T_3962edb8_4b49_11eb_aa27_525400a4f676row8_col11\" class=\"data row8 col11\" >0.457028</td>\n",
       "                        <td id=\"T_3962edb8_4b49_11eb_aa27_525400a4f676row8_col12\" class=\"data row8 col12\" >0.279526</td>\n",
       "                        <td id=\"T_3962edb8_4b49_11eb_aa27_525400a4f676row8_col13\" class=\"data row8 col13\" >0.426738</td>\n",
       "                        <td id=\"T_3962edb8_4b49_11eb_aa27_525400a4f676row8_col14\" class=\"data row8 col14\" >0.448914</td>\n",
       "                        <td id=\"T_3962edb8_4b49_11eb_aa27_525400a4f676row8_col15\" class=\"data row8 col15\" >0.011989</td>\n",
       "                        <td id=\"T_3962edb8_4b49_11eb_aa27_525400a4f676row8_col16\" class=\"data row8 col16\" >0.712350</td>\n",
       "            </tr>\n",
       "            <tr>\n",
       "                        <th id=\"T_3962edb8_4b49_11eb_aa27_525400a4f676level0_row9\" class=\"row_heading level0 row9\" >Transport_closing</th>\n",
       "                        <td id=\"T_3962edb8_4b49_11eb_aa27_525400a4f676row9_col0\" class=\"data row9 col0\" >-0.270832</td>\n",
       "                        <td id=\"T_3962edb8_4b49_11eb_aa27_525400a4f676row9_col1\" class=\"data row9 col1\" >0.506957</td>\n",
       "                        <td id=\"T_3962edb8_4b49_11eb_aa27_525400a4f676row9_col2\" class=\"data row9 col2\" >-0.071695</td>\n",
       "                        <td id=\"T_3962edb8_4b49_11eb_aa27_525400a4f676row9_col3\" class=\"data row9 col3\" >-0.487788</td>\n",
       "                        <td id=\"T_3962edb8_4b49_11eb_aa27_525400a4f676row9_col4\" class=\"data row9 col4\" >-0.104299</td>\n",
       "                        <td id=\"T_3962edb8_4b49_11eb_aa27_525400a4f676row9_col5\" class=\"data row9 col5\" >0.413120</td>\n",
       "                        <td id=\"T_3962edb8_4b49_11eb_aa27_525400a4f676row9_col6\" class=\"data row9 col6\" >0.296598</td>\n",
       "                        <td id=\"T_3962edb8_4b49_11eb_aa27_525400a4f676row9_col7\" class=\"data row9 col7\" >0.371323</td>\n",
       "                        <td id=\"T_3962edb8_4b49_11eb_aa27_525400a4f676row9_col8\" class=\"data row9 col8\" >0.127680</td>\n",
       "                        <td id=\"T_3962edb8_4b49_11eb_aa27_525400a4f676row9_col9\" class=\"data row9 col9\" >1.000000</td>\n",
       "                        <td id=\"T_3962edb8_4b49_11eb_aa27_525400a4f676row9_col10\" class=\"data row9 col10\" >0.306758</td>\n",
       "                        <td id=\"T_3962edb8_4b49_11eb_aa27_525400a4f676row9_col11\" class=\"data row9 col11\" >0.592737</td>\n",
       "                        <td id=\"T_3962edb8_4b49_11eb_aa27_525400a4f676row9_col12\" class=\"data row9 col12\" >-0.014778</td>\n",
       "                        <td id=\"T_3962edb8_4b49_11eb_aa27_525400a4f676row9_col13\" class=\"data row9 col13\" >0.208861</td>\n",
       "                        <td id=\"T_3962edb8_4b49_11eb_aa27_525400a4f676row9_col14\" class=\"data row9 col14\" >-0.028039</td>\n",
       "                        <td id=\"T_3962edb8_4b49_11eb_aa27_525400a4f676row9_col15\" class=\"data row9 col15\" >0.121937</td>\n",
       "                        <td id=\"T_3962edb8_4b49_11eb_aa27_525400a4f676row9_col16\" class=\"data row9 col16\" >0.269570</td>\n",
       "            </tr>\n",
       "            <tr>\n",
       "                        <th id=\"T_3962edb8_4b49_11eb_aa27_525400a4f676level0_row10\" class=\"row_heading level0 row10\" >Stay_home_restrictions</th>\n",
       "                        <td id=\"T_3962edb8_4b49_11eb_aa27_525400a4f676row10_col0\" class=\"data row10 col0\" >-0.199218</td>\n",
       "                        <td id=\"T_3962edb8_4b49_11eb_aa27_525400a4f676row10_col1\" class=\"data row10 col1\" >0.041712</td>\n",
       "                        <td id=\"T_3962edb8_4b49_11eb_aa27_525400a4f676row10_col2\" class=\"data row10 col2\" >0.119077</td>\n",
       "                        <td id=\"T_3962edb8_4b49_11eb_aa27_525400a4f676row10_col3\" class=\"data row10 col3\" >-0.225612</td>\n",
       "                        <td id=\"T_3962edb8_4b49_11eb_aa27_525400a4f676row10_col4\" class=\"data row10 col4\" >-0.029743</td>\n",
       "                        <td id=\"T_3962edb8_4b49_11eb_aa27_525400a4f676row10_col5\" class=\"data row10 col5\" >0.458846</td>\n",
       "                        <td id=\"T_3962edb8_4b49_11eb_aa27_525400a4f676row10_col6\" class=\"data row10 col6\" >0.698555</td>\n",
       "                        <td id=\"T_3962edb8_4b49_11eb_aa27_525400a4f676row10_col7\" class=\"data row10 col7\" >0.510385</td>\n",
       "                        <td id=\"T_3962edb8_4b49_11eb_aa27_525400a4f676row10_col8\" class=\"data row10 col8\" >0.494524</td>\n",
       "                        <td id=\"T_3962edb8_4b49_11eb_aa27_525400a4f676row10_col9\" class=\"data row10 col9\" >0.306758</td>\n",
       "                        <td id=\"T_3962edb8_4b49_11eb_aa27_525400a4f676row10_col10\" class=\"data row10 col10\" >1.000000</td>\n",
       "                        <td id=\"T_3962edb8_4b49_11eb_aa27_525400a4f676row10_col11\" class=\"data row10 col11\" >0.490699</td>\n",
       "                        <td id=\"T_3962edb8_4b49_11eb_aa27_525400a4f676row10_col12\" class=\"data row10 col12\" >0.174713</td>\n",
       "                        <td id=\"T_3962edb8_4b49_11eb_aa27_525400a4f676row10_col13\" class=\"data row10 col13\" >0.293373</td>\n",
       "                        <td id=\"T_3962edb8_4b49_11eb_aa27_525400a4f676row10_col14\" class=\"data row10 col14\" >0.144892</td>\n",
       "                        <td id=\"T_3962edb8_4b49_11eb_aa27_525400a4f676row10_col15\" class=\"data row10 col15\" >-0.159065</td>\n",
       "                        <td id=\"T_3962edb8_4b49_11eb_aa27_525400a4f676row10_col16\" class=\"data row10 col16\" >0.706142</td>\n",
       "            </tr>\n",
       "            <tr>\n",
       "                        <th id=\"T_3962edb8_4b49_11eb_aa27_525400a4f676level0_row11\" class=\"row_heading level0 row11\" >Internal_movement_restrictions</th>\n",
       "                        <td id=\"T_3962edb8_4b49_11eb_aa27_525400a4f676row11_col0\" class=\"data row11 col0\" >-0.361433</td>\n",
       "                        <td id=\"T_3962edb8_4b49_11eb_aa27_525400a4f676row11_col1\" class=\"data row11 col1\" >0.296021</td>\n",
       "                        <td id=\"T_3962edb8_4b49_11eb_aa27_525400a4f676row11_col2\" class=\"data row11 col2\" >-0.087590</td>\n",
       "                        <td id=\"T_3962edb8_4b49_11eb_aa27_525400a4f676row11_col3\" class=\"data row11 col3\" >-0.368869</td>\n",
       "                        <td id=\"T_3962edb8_4b49_11eb_aa27_525400a4f676row11_col4\" class=\"data row11 col4\" >0.076523</td>\n",
       "                        <td id=\"T_3962edb8_4b49_11eb_aa27_525400a4f676row11_col5\" class=\"data row11 col5\" >0.531346</td>\n",
       "                        <td id=\"T_3962edb8_4b49_11eb_aa27_525400a4f676row11_col6\" class=\"data row11 col6\" >0.530484</td>\n",
       "                        <td id=\"T_3962edb8_4b49_11eb_aa27_525400a4f676row11_col7\" class=\"data row11 col7\" >0.567327</td>\n",
       "                        <td id=\"T_3962edb8_4b49_11eb_aa27_525400a4f676row11_col8\" class=\"data row11 col8\" >0.457028</td>\n",
       "                        <td id=\"T_3962edb8_4b49_11eb_aa27_525400a4f676row11_col9\" class=\"data row11 col9\" >0.592737</td>\n",
       "                        <td id=\"T_3962edb8_4b49_11eb_aa27_525400a4f676row11_col10\" class=\"data row11 col10\" >0.490699</td>\n",
       "                        <td id=\"T_3962edb8_4b49_11eb_aa27_525400a4f676row11_col11\" class=\"data row11 col11\" >1.000000</td>\n",
       "                        <td id=\"T_3962edb8_4b49_11eb_aa27_525400a4f676row11_col12\" class=\"data row11 col12\" >-0.003002</td>\n",
       "                        <td id=\"T_3962edb8_4b49_11eb_aa27_525400a4f676row11_col13\" class=\"data row11 col13\" >0.313120</td>\n",
       "                        <td id=\"T_3962edb8_4b49_11eb_aa27_525400a4f676row11_col14\" class=\"data row11 col14\" >0.090395</td>\n",
       "                        <td id=\"T_3962edb8_4b49_11eb_aa27_525400a4f676row11_col15\" class=\"data row11 col15\" >0.010129</td>\n",
       "                        <td id=\"T_3962edb8_4b49_11eb_aa27_525400a4f676row11_col16\" class=\"data row11 col16\" >0.539192</td>\n",
       "            </tr>\n",
       "            <tr>\n",
       "                        <th id=\"T_3962edb8_4b49_11eb_aa27_525400a4f676level0_row12\" class=\"row_heading level0 row12\" >International_movement_restrictions</th>\n",
       "                        <td id=\"T_3962edb8_4b49_11eb_aa27_525400a4f676row12_col0\" class=\"data row12 col0\" >-0.472802</td>\n",
       "                        <td id=\"T_3962edb8_4b49_11eb_aa27_525400a4f676row12_col1\" class=\"data row12 col1\" >-0.119553</td>\n",
       "                        <td id=\"T_3962edb8_4b49_11eb_aa27_525400a4f676row12_col2\" class=\"data row12 col2\" >-0.285467</td>\n",
       "                        <td id=\"T_3962edb8_4b49_11eb_aa27_525400a4f676row12_col3\" class=\"data row12 col3\" >-0.412416</td>\n",
       "                        <td id=\"T_3962edb8_4b49_11eb_aa27_525400a4f676row12_col4\" class=\"data row12 col4\" >0.203081</td>\n",
       "                        <td id=\"T_3962edb8_4b49_11eb_aa27_525400a4f676row12_col5\" class=\"data row12 col5\" >0.037959</td>\n",
       "                        <td id=\"T_3962edb8_4b49_11eb_aa27_525400a4f676row12_col6\" class=\"data row12 col6\" >0.197827</td>\n",
       "                        <td id=\"T_3962edb8_4b49_11eb_aa27_525400a4f676row12_col7\" class=\"data row12 col7\" >0.394568</td>\n",
       "                        <td id=\"T_3962edb8_4b49_11eb_aa27_525400a4f676row12_col8\" class=\"data row12 col8\" >0.279526</td>\n",
       "                        <td id=\"T_3962edb8_4b49_11eb_aa27_525400a4f676row12_col9\" class=\"data row12 col9\" >-0.014778</td>\n",
       "                        <td id=\"T_3962edb8_4b49_11eb_aa27_525400a4f676row12_col10\" class=\"data row12 col10\" >0.174713</td>\n",
       "                        <td id=\"T_3962edb8_4b49_11eb_aa27_525400a4f676row12_col11\" class=\"data row12 col11\" >-0.003002</td>\n",
       "                        <td id=\"T_3962edb8_4b49_11eb_aa27_525400a4f676row12_col12\" class=\"data row12 col12\" >1.000000</td>\n",
       "                        <td id=\"T_3962edb8_4b49_11eb_aa27_525400a4f676row12_col13\" class=\"data row12 col13\" >0.360576</td>\n",
       "                        <td id=\"T_3962edb8_4b49_11eb_aa27_525400a4f676row12_col14\" class=\"data row12 col14\" >0.522318</td>\n",
       "                        <td id=\"T_3962edb8_4b49_11eb_aa27_525400a4f676row12_col15\" class=\"data row12 col15\" >0.369069</td>\n",
       "                        <td id=\"T_3962edb8_4b49_11eb_aa27_525400a4f676row12_col16\" class=\"data row12 col16\" >0.336505</td>\n",
       "            </tr>\n",
       "            <tr>\n",
       "                        <th id=\"T_3962edb8_4b49_11eb_aa27_525400a4f676level0_row13\" class=\"row_heading level0 row13\" >Information_campaigns</th>\n",
       "                        <td id=\"T_3962edb8_4b49_11eb_aa27_525400a4f676row13_col0\" class=\"data row13 col0\" >-0.349343</td>\n",
       "                        <td id=\"T_3962edb8_4b49_11eb_aa27_525400a4f676row13_col1\" class=\"data row13 col1\" >0.086593</td>\n",
       "                        <td id=\"T_3962edb8_4b49_11eb_aa27_525400a4f676row13_col2\" class=\"data row13 col2\" >-0.161140</td>\n",
       "                        <td id=\"T_3962edb8_4b49_11eb_aa27_525400a4f676row13_col3\" class=\"data row13 col3\" >-0.210635</td>\n",
       "                        <td id=\"T_3962edb8_4b49_11eb_aa27_525400a4f676row13_col4\" class=\"data row13 col4\" >0.249506</td>\n",
       "                        <td id=\"T_3962edb8_4b49_11eb_aa27_525400a4f676row13_col5\" class=\"data row13 col5\" >0.285581</td>\n",
       "                        <td id=\"T_3962edb8_4b49_11eb_aa27_525400a4f676row13_col6\" class=\"data row13 col6\" >0.438633</td>\n",
       "                        <td id=\"T_3962edb8_4b49_11eb_aa27_525400a4f676row13_col7\" class=\"data row13 col7\" >0.553570</td>\n",
       "                        <td id=\"T_3962edb8_4b49_11eb_aa27_525400a4f676row13_col8\" class=\"data row13 col8\" >0.426738</td>\n",
       "                        <td id=\"T_3962edb8_4b49_11eb_aa27_525400a4f676row13_col9\" class=\"data row13 col9\" >0.208861</td>\n",
       "                        <td id=\"T_3962edb8_4b49_11eb_aa27_525400a4f676row13_col10\" class=\"data row13 col10\" >0.293373</td>\n",
       "                        <td id=\"T_3962edb8_4b49_11eb_aa27_525400a4f676row13_col11\" class=\"data row13 col11\" >0.313120</td>\n",
       "                        <td id=\"T_3962edb8_4b49_11eb_aa27_525400a4f676row13_col12\" class=\"data row13 col12\" >0.360576</td>\n",
       "                        <td id=\"T_3962edb8_4b49_11eb_aa27_525400a4f676row13_col13\" class=\"data row13 col13\" >1.000000</td>\n",
       "                        <td id=\"T_3962edb8_4b49_11eb_aa27_525400a4f676row13_col14\" class=\"data row13 col14\" >0.436339</td>\n",
       "                        <td id=\"T_3962edb8_4b49_11eb_aa27_525400a4f676row13_col15\" class=\"data row13 col15\" >0.315618</td>\n",
       "                        <td id=\"T_3962edb8_4b49_11eb_aa27_525400a4f676row13_col16\" class=\"data row13 col16\" >0.544202</td>\n",
       "            </tr>\n",
       "            <tr>\n",
       "                        <th id=\"T_3962edb8_4b49_11eb_aa27_525400a4f676level0_row14\" class=\"row_heading level0 row14\" >Testing_policy</th>\n",
       "                        <td id=\"T_3962edb8_4b49_11eb_aa27_525400a4f676row14_col0\" class=\"data row14 col0\" >-0.490798</td>\n",
       "                        <td id=\"T_3962edb8_4b49_11eb_aa27_525400a4f676row14_col1\" class=\"data row14 col1\" >-0.109039</td>\n",
       "                        <td id=\"T_3962edb8_4b49_11eb_aa27_525400a4f676row14_col2\" class=\"data row14 col2\" >-0.468286</td>\n",
       "                        <td id=\"T_3962edb8_4b49_11eb_aa27_525400a4f676row14_col3\" class=\"data row14 col3\" >-0.401331</td>\n",
       "                        <td id=\"T_3962edb8_4b49_11eb_aa27_525400a4f676row14_col4\" class=\"data row14 col4\" >0.242379</td>\n",
       "                        <td id=\"T_3962edb8_4b49_11eb_aa27_525400a4f676row14_col5\" class=\"data row14 col5\" >-0.048587</td>\n",
       "                        <td id=\"T_3962edb8_4b49_11eb_aa27_525400a4f676row14_col6\" class=\"data row14 col6\" >0.225384</td>\n",
       "                        <td id=\"T_3962edb8_4b49_11eb_aa27_525400a4f676row14_col7\" class=\"data row14 col7\" >0.457872</td>\n",
       "                        <td id=\"T_3962edb8_4b49_11eb_aa27_525400a4f676row14_col8\" class=\"data row14 col8\" >0.448914</td>\n",
       "                        <td id=\"T_3962edb8_4b49_11eb_aa27_525400a4f676row14_col9\" class=\"data row14 col9\" >-0.028039</td>\n",
       "                        <td id=\"T_3962edb8_4b49_11eb_aa27_525400a4f676row14_col10\" class=\"data row14 col10\" >0.144892</td>\n",
       "                        <td id=\"T_3962edb8_4b49_11eb_aa27_525400a4f676row14_col11\" class=\"data row14 col11\" >0.090395</td>\n",
       "                        <td id=\"T_3962edb8_4b49_11eb_aa27_525400a4f676row14_col12\" class=\"data row14 col12\" >0.522318</td>\n",
       "                        <td id=\"T_3962edb8_4b49_11eb_aa27_525400a4f676row14_col13\" class=\"data row14 col13\" >0.436339</td>\n",
       "                        <td id=\"T_3962edb8_4b49_11eb_aa27_525400a4f676row14_col14\" class=\"data row14 col14\" >1.000000</td>\n",
       "                        <td id=\"T_3962edb8_4b49_11eb_aa27_525400a4f676row14_col15\" class=\"data row14 col15\" >0.379388</td>\n",
       "                        <td id=\"T_3962edb8_4b49_11eb_aa27_525400a4f676row14_col16\" class=\"data row14 col16\" >0.247493</td>\n",
       "            </tr>\n",
       "            <tr>\n",
       "                        <th id=\"T_3962edb8_4b49_11eb_aa27_525400a4f676level0_row15\" class=\"row_heading level0 row15\" >Contact_tracing</th>\n",
       "                        <td id=\"T_3962edb8_4b49_11eb_aa27_525400a4f676row15_col0\" class=\"data row15 col0\" >-0.281249</td>\n",
       "                        <td id=\"T_3962edb8_4b49_11eb_aa27_525400a4f676row15_col1\" class=\"data row15 col1\" >0.146785</td>\n",
       "                        <td id=\"T_3962edb8_4b49_11eb_aa27_525400a4f676row15_col2\" class=\"data row15 col2\" >-0.272127</td>\n",
       "                        <td id=\"T_3962edb8_4b49_11eb_aa27_525400a4f676row15_col3\" class=\"data row15 col3\" >-0.182324</td>\n",
       "                        <td id=\"T_3962edb8_4b49_11eb_aa27_525400a4f676row15_col4\" class=\"data row15 col4\" >0.068490</td>\n",
       "                        <td id=\"T_3962edb8_4b49_11eb_aa27_525400a4f676row15_col5\" class=\"data row15 col5\" >-0.006430</td>\n",
       "                        <td id=\"T_3962edb8_4b49_11eb_aa27_525400a4f676row15_col6\" class=\"data row15 col6\" >-0.096798</td>\n",
       "                        <td id=\"T_3962edb8_4b49_11eb_aa27_525400a4f676row15_col7\" class=\"data row15 col7\" >0.090561</td>\n",
       "                        <td id=\"T_3962edb8_4b49_11eb_aa27_525400a4f676row15_col8\" class=\"data row15 col8\" >0.011989</td>\n",
       "                        <td id=\"T_3962edb8_4b49_11eb_aa27_525400a4f676row15_col9\" class=\"data row15 col9\" >0.121937</td>\n",
       "                        <td id=\"T_3962edb8_4b49_11eb_aa27_525400a4f676row15_col10\" class=\"data row15 col10\" >-0.159065</td>\n",
       "                        <td id=\"T_3962edb8_4b49_11eb_aa27_525400a4f676row15_col11\" class=\"data row15 col11\" >0.010129</td>\n",
       "                        <td id=\"T_3962edb8_4b49_11eb_aa27_525400a4f676row15_col12\" class=\"data row15 col12\" >0.369069</td>\n",
       "                        <td id=\"T_3962edb8_4b49_11eb_aa27_525400a4f676row15_col13\" class=\"data row15 col13\" >0.315618</td>\n",
       "                        <td id=\"T_3962edb8_4b49_11eb_aa27_525400a4f676row15_col14\" class=\"data row15 col14\" >0.379388</td>\n",
       "                        <td id=\"T_3962edb8_4b49_11eb_aa27_525400a4f676row15_col15\" class=\"data row15 col15\" >1.000000</td>\n",
       "                        <td id=\"T_3962edb8_4b49_11eb_aa27_525400a4f676row15_col16\" class=\"data row15 col16\" >-0.075057</td>\n",
       "            </tr>\n",
       "            <tr>\n",
       "                        <th id=\"T_3962edb8_4b49_11eb_aa27_525400a4f676level0_row16\" class=\"row_heading level0 row16\" >Stringency_index</th>\n",
       "                        <td id=\"T_3962edb8_4b49_11eb_aa27_525400a4f676row16_col0\" class=\"data row16 col0\" >-0.411097</td>\n",
       "                        <td id=\"T_3962edb8_4b49_11eb_aa27_525400a4f676row16_col1\" class=\"data row16 col1\" >0.002528</td>\n",
       "                        <td id=\"T_3962edb8_4b49_11eb_aa27_525400a4f676row16_col2\" class=\"data row16 col2\" >0.100357</td>\n",
       "                        <td id=\"T_3962edb8_4b49_11eb_aa27_525400a4f676row16_col3\" class=\"data row16 col3\" >-0.271402</td>\n",
       "                        <td id=\"T_3962edb8_4b49_11eb_aa27_525400a4f676row16_col4\" class=\"data row16 col4\" >0.235847</td>\n",
       "                        <td id=\"T_3962edb8_4b49_11eb_aa27_525400a4f676row16_col5\" class=\"data row16 col5\" >0.593332</td>\n",
       "                        <td id=\"T_3962edb8_4b49_11eb_aa27_525400a4f676row16_col6\" class=\"data row16 col6\" >0.760167</td>\n",
       "                        <td id=\"T_3962edb8_4b49_11eb_aa27_525400a4f676row16_col7\" class=\"data row16 col7\" >0.707301</td>\n",
       "                        <td id=\"T_3962edb8_4b49_11eb_aa27_525400a4f676row16_col8\" class=\"data row16 col8\" >0.712350</td>\n",
       "                        <td id=\"T_3962edb8_4b49_11eb_aa27_525400a4f676row16_col9\" class=\"data row16 col9\" >0.269570</td>\n",
       "                        <td id=\"T_3962edb8_4b49_11eb_aa27_525400a4f676row16_col10\" class=\"data row16 col10\" >0.706142</td>\n",
       "                        <td id=\"T_3962edb8_4b49_11eb_aa27_525400a4f676row16_col11\" class=\"data row16 col11\" >0.539192</td>\n",
       "                        <td id=\"T_3962edb8_4b49_11eb_aa27_525400a4f676row16_col12\" class=\"data row16 col12\" >0.336505</td>\n",
       "                        <td id=\"T_3962edb8_4b49_11eb_aa27_525400a4f676row16_col13\" class=\"data row16 col13\" >0.544202</td>\n",
       "                        <td id=\"T_3962edb8_4b49_11eb_aa27_525400a4f676row16_col14\" class=\"data row16 col14\" >0.247493</td>\n",
       "                        <td id=\"T_3962edb8_4b49_11eb_aa27_525400a4f676row16_col15\" class=\"data row16 col15\" >-0.075057</td>\n",
       "                        <td id=\"T_3962edb8_4b49_11eb_aa27_525400a4f676row16_col16\" class=\"data row16 col16\" >1.000000</td>\n",
       "            </tr>\n",
       "    </tbody></table>"
      ],
      "text/plain": [
       "<pandas.io.formats.style.Styler at 0x7f26f4df4d00>"
      ]
     },
     "execution_count": 21,
     "metadata": {},
     "output_type": "execute_result"
    }
   ],
   "source": [
    "# Correlation\n",
    "df = track_df.copy()\n",
    "df.corr().style.background_gradient(axis=None)"
   ]
  },
  {
   "cell_type": "code",
   "execution_count": 22,
   "metadata": {
    "collapsed": false
   },
   "outputs": [
    {
     "data": {
      "image/png": "[encoded data removed]",
      "text/plain": [
       "<Figure size 432x288 with 1 Axes>"
      ]
     },
     "metadata": {},
     "output_type": "display_data"
    }
   ],
   "source": [
    "# Scatter plot of Stringency index and Rt\n",
    "df = track_df.copy()\n",
    "sns.scatterplot(data=df, x=\"Stringency_index\", y=\"Rt\", hue=\"Country\", legend=\"brief\", marker=\"+\")\n",
    "bbox_to_anchor=(1.02, 0)\n",
    "bbox_loc=\"lower left\"\n",
    "plt.legend(bbox_to_anchor=bbox_to_anchor, loc=bbox_loc, borderaxespad=0)\n",
    "plt.title(\"Relationship of Stringency index and reproduction number\")\n",
    "plt.ylabel(\"Reproduction number\")\n",
    "plt.xlabel(\"Stringency index\")\n",
    "plt.show()"
   ]
  }
 ],
 "metadata": {
  "kernelspec": {
   "display_name": "Python 3.8.2 64-bit ('.venv': venv)",
   "name": "python_defaultSpec_1597669925034"
  },
  "language_info": {
   "codemirror_mode": {
    "name": "ipython",
    "version": 3
   },
   "file_extension": ".py",
   "mimetype": "text/x-python",
   "name": "python",
   "nbconvert_exporter": "python",
   "pygments_lexer": "ipython3",
   "version": "3.8.2-final"
  }
 },
 "nbformat": 4,
 "nbformat_minor": 4
}
