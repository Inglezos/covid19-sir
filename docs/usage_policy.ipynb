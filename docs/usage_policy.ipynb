{
 "cells": [
  {
   "cell_type": "markdown",
   "metadata": {},
   "source": [
    "# Usage: policy measures\n",
    "Here, we will analyse the relationship of policy measures and parameter values of SIR-derived ODE models. Policy measures are tracked by [Oxford Covid-19 Government Response Tracker (OxCGRT)](https://github.com/OxCGRT/covid-policy-tracker)."
   ]
  },
  {
   "cell_type": "markdown",
   "metadata": {},
   "source": [
    "## Preparation"
   ]
  },
  {
   "cell_type": "code",
   "execution_count": 1,
   "metadata": {
    "execution": {
     "iopub.execute_input": "2021-02-24T12:15:18.673566Z",
     "iopub.status.busy": "2021-02-24T12:15:18.673136Z",
     "iopub.status.idle": "2021-02-24T12:15:18.675794Z",
     "shell.execute_reply": "2021-02-24T12:15:18.675329Z"
    }
   },
   "outputs": [],
   "source": [
    "# Standard users\n",
    "# !pip install covsirphy\n",
    "# Developers (Note: this notebook is in example directory)\n",
    "import os\n",
    "os.chdir(\"../\")"
   ]
  },
  {
   "cell_type": "code",
   "execution_count": 2,
   "metadata": {
    "execution": {
     "iopub.execute_input": "2021-02-24T12:15:18.680188Z",
     "iopub.status.busy": "2021-02-24T12:15:18.679744Z",
     "iopub.status.idle": "2021-02-24T12:15:18.682206Z",
     "shell.execute_reply": "2021-02-24T12:15:18.681759Z"
    }
   },
   "outputs": [],
   "source": [
    "from pprint import pprint"
   ]
  },
  {
   "cell_type": "code",
   "execution_count": 3,
   "metadata": {
    "execution": {
     "iopub.execute_input": "2021-02-24T12:15:18.687069Z",
     "iopub.status.busy": "2021-02-24T12:15:18.685286Z",
     "iopub.status.idle": "2021-02-24T12:15:22.276012Z",
     "shell.execute_reply": "2021-02-24T12:15:22.276487Z"
    }
   },
   "outputs": [
    {
     "data": {
      "text/plain": [
       "'2.16.2-epsilon'"
      ]
     },
     "execution_count": 1,
     "metadata": {},
     "output_type": "execute_result"
    }
   ],
   "source": [
    "import covsirphy as cs\n",
    "cs.__version__"
   ]
  },
  {
   "cell_type": "code",
   "execution_count": 4,
   "metadata": {
    "execution": {
     "iopub.execute_input": "2021-02-24T12:15:22.282071Z",
     "iopub.status.busy": "2021-02-24T12:15:22.281541Z",
     "iopub.status.idle": "2021-02-24T12:15:28.394031Z",
     "shell.execute_reply": "2021-02-24T12:15:28.394413Z"
    },
    "tags": []
   },
   "outputs": [
    {
     "name": "stdout",
     "output_type": "stream",
     "text": [
      "(Secondary source) Guidotti, E., Ardia, D., (2020), \"COVID-19 Data Hub\", Journal of Open Source Software 5(51):2376, doi: 10.21105/joss.02376.\n"
     ]
    }
   ],
   "source": [
    "# Standard users and developers\n",
    "data_loader = cs.DataLoader(\"input\")\n",
    "# The number of cases (JHU style)\n",
    "jhu_data = data_loader.jhu(verbose=False)\n",
    "# Population in each country\n",
    "population_data = data_loader.population(verbose=False)\n",
    "# Government Response Tracker (OxCGRT)\n",
    "oxcgrt_data = data_loader.oxcgrt(verbose=False)\n",
    "# Description/citation\n",
    "print(oxcgrt_data.citation)"
   ]
  },
  {
   "cell_type": "markdown",
   "metadata": {},
   "source": [
    "## Class for policy measure analysis\n",
    "We will `PolicyMeasures` class to find relationship of policy measures and parameter values of SIR-derived ODE models."
   ]
  },
  {
   "cell_type": "code",
   "execution_count": 5,
   "metadata": {
    "execution": {
     "iopub.execute_input": "2021-02-24T12:15:28.401844Z",
     "iopub.status.busy": "2021-02-24T12:15:28.401331Z",
     "iopub.status.idle": "2021-02-24T12:32:43.413231Z",
     "shell.execute_reply": "2021-02-24T12:32:43.413627Z"
    },
    "tags": []
   },
   "outputs": [
    {
     "data": {
      "text/plain": [
       "194"
      ]
     },
     "execution_count": 1,
     "metadata": {},
     "output_type": "execute_result"
    }
   ],
   "source": [
    "# Create analyser with tau value 360 [min] (can be changed)\n",
    "analyser = cs.PolicyMeasures(jhu_data, population_data, oxcgrt_data, tau=360)\n",
    "# The number of registerd countries\n",
    "len(analyser.countries)"
   ]
  },
  {
   "cell_type": "code",
   "execution_count": 6,
   "metadata": {
    "execution": {
     "iopub.execute_input": "2021-02-24T12:32:43.417236Z",
     "iopub.status.busy": "2021-02-24T12:32:43.416726Z",
     "iopub.status.idle": "2021-02-24T12:32:43.419628Z",
     "shell.execute_reply": "2021-02-24T12:32:43.420116Z"
    }
   },
   "outputs": [
    {
     "data": {
      "text/plain": [
       "covsirphy.analysis.scenario.Scenario"
      ]
     },
     "execution_count": 1,
     "metadata": {},
     "output_type": "execute_result"
    }
   ],
   "source": [
    "# We can get Scenario instance for detailed scenario analysis\n",
    "type(analyser.scenario(\"Japan\"))"
   ]
  },
  {
   "cell_type": "markdown",
   "metadata": {},
   "source": [
    "## Set phases with S-R trend analysis\n",
    "We will perform S-R trend analysis to set phases in all countries. Countries which do not have **19th phases** will be un-registered for the next analysis. This number will be adjusted for your analysis."
   ]
  },
  {
   "cell_type": "code",
   "execution_count": 7,
   "metadata": {
    "execution": {
     "iopub.execute_input": "2021-02-24T12:32:43.431194Z",
     "iopub.status.busy": "2021-02-24T12:32:43.424603Z",
     "iopub.status.idle": "2021-02-24T12:37:32.532223Z",
     "shell.execute_reply": "2021-02-24T12:37:32.531504Z"
    }
   },
   "outputs": [
    {
     "name": "stdout",
     "output_type": "stream",
     "text": [
      "{2: ['Laos'],\n",
      " 3: ['Fiji', 'Tanzania', 'Saint Kitts and Nevis'],\n",
      " 4: ['Timor-Leste'],\n",
      " 5: ['Dominica'],\n",
      " 6: ['Saint Vincent and the Grenadines', 'Grenada'],\n",
      " 7: ['Liechtenstein', 'Brunei'],\n",
      " 8: ['Northern Mariana Islands', 'Kyrgyzstan'],\n",
      " 9: ['Guam', 'Cambodia', 'Saint Lucia', 'Belize', 'Nepal', 'Bahamas',\n",
      "     'Mauritius', 'Uzbekistan', 'Angola', 'Seychelles', 'Myanmar'],\n",
      " 10: ['Antigua and Barbuda', 'Oman', 'Australia', 'India', 'Ethiopia',\n",
      "      'Venezuela', 'South Africa', 'Bhutan', 'Republic of the Congo',\n",
      "      'Trinidad and Tobago', 'Iceland', 'Guyana', 'Kenya', 'Iraq', 'Vietnam',\n",
      "      'Philippines', 'Belgium'],\n",
      " 11: ['Kazakhstan', 'Costa Rica', 'Pakistan', 'Botswana',\n",
      "      'Virgin Islands, U.S.', 'Jamaica', 'Libya', 'Bangladesh', 'Swaziland',\n",
      "      'Mauritania', 'Morocco', 'Algeria', 'Sudan', 'Cape Verde', 'Suriname',\n",
      "      'Nicaragua', 'Uganda', 'Equatorial Guinea', 'Andorra', 'Egypt', 'Monaco',\n",
      "      'Syria', 'Argentina', 'Bermuda', 'Madagascar', 'Netherlands',\n",
      "      'Puerto Rico', 'El Salvador', 'Colombia'],\n",
      " 12: ['Panama', 'Papua New Guinea', 'Djibouti', 'Bolivia', 'Singapore', 'Peru',\n",
      "      'Maldives', 'Liberia', 'Israel', 'Moldova', 'Guatemala', 'Honduras',\n",
      "      'Brazil', 'Dominican Republic', 'Bahrain', 'Barbados', 'Czech Republic',\n",
      "      'Afghanistan', 'Montenegro', 'Malta', 'Democratic Republic of the Congo',\n",
      "      'Bosnia and Herzegovina', 'Armenia', 'Sao Tome and Principe', 'Chile',\n",
      "      'Kuwait', 'San Marino', 'Mexico', 'Palestine', 'New Zealand', 'Paraguay',\n",
      "      'Saudi Arabia', 'Namibia', 'Tunisia'],\n",
      " 13: ['Ecuador', 'Bulgaria', 'Ghana', 'Kosovo', 'Zimbabwe', 'Guinea', 'Yemen',\n",
      "      'Eritrea', 'Benin', 'Rwanda', 'Mali', 'North Macedonia', 'Nigeria',\n",
      "      'Malawi', 'Taiwan', 'Poland', 'Comoros', 'Cameroon', 'Luxembourg',\n",
      "      \"Cote d'Ivoire\", 'Mozambique', 'Gambia', 'Senegal', 'Ukraine',\n",
      "      'Switzerland', 'Tajikistan', 'Mongolia'],\n",
      " 14: ['Lesotho', 'Jordan', 'Lebanon', 'Indonesia', 'Slovakia', 'South Sudan',\n",
      "      'Sierra Leone', 'Zambia', 'Ireland', 'Togo', 'Slovenia', 'Romania',\n",
      "      'Spain', 'Hungary', 'Croatia', 'Azerbaijan', 'Russia', 'Somalia',\n",
      "      'France'],\n",
      " 15: ['Niger', 'Qatar', 'Greece', 'Iran', 'Chad', 'Cyprus', 'Georgia',\n",
      "      'Belarus', 'China', 'United Arab Emirates', 'United Kingdom',\n",
      "      'Central African Republic', 'Gabon', 'Albania', 'Lithuania',\n",
      "      'United States', 'Cuba', 'Guinea-Bissau'],\n",
      " 16: ['Haiti', 'Austria', 'Burkina Faso', 'Burundi', 'Thailand', 'Japan'],\n",
      " 17: ['Finland', 'Canada', 'Serbia', 'Denmark', 'South Korea', 'Norway',\n",
      "      'Portugal', 'Sri Lanka', 'Turkey', 'Malaysia', 'Uruguay'],\n",
      " 18: ['Sweden', 'Latvia', 'Italy'],\n",
      " 19: ['Germany', 'Estonia']}\n"
     ]
    }
   ],
   "source": [
    "# Show the number of phases of all countries\n",
    "analyser.trend()\n",
    "pprint(analyser.phase_len(), compact=True)"
   ]
  },
  {
   "cell_type": "code",
   "execution_count": 8,
   "metadata": {
    "execution": {
     "iopub.execute_input": "2021-02-24T12:37:32.541327Z",
     "iopub.status.busy": "2021-02-24T12:37:32.540842Z",
     "iopub.status.idle": "2021-02-24T12:42:24.913674Z",
     "shell.execute_reply": "2021-02-24T12:42:24.914100Z"
    }
   },
   "outputs": [
    {
     "data": {
      "text/plain": [
       "2"
      ]
     },
     "execution_count": 1,
     "metadata": {},
     "output_type": "execute_result"
    }
   ],
   "source": [
    "# Set phases with S-R trend analysis\n",
    "analyser.trend(min_len=19)\n",
    "# The number of countries\n",
    "len(analyser.countries)"
   ]
  },
  {
   "cell_type": "code",
   "execution_count": 9,
   "metadata": {
    "execution": {
     "iopub.execute_input": "2021-02-24T12:42:24.917764Z",
     "iopub.status.busy": "2021-02-24T12:42:24.917297Z",
     "iopub.status.idle": "2021-02-24T12:42:24.919690Z",
     "shell.execute_reply": "2021-02-24T12:42:24.920065Z"
    },
    "tags": []
   },
   "outputs": [
    {
     "name": "stdout",
     "output_type": "stream",
     "text": [
      "{19: ['Germany', 'Estonia']}\n"
     ]
    }
   ],
   "source": [
    "phase_len_dict = analyser.phase_len()\n",
    "pprint(phase_len_dict, compact=True)"
   ]
  },
  {
   "cell_type": "code",
   "execution_count": 10,
   "metadata": {
    "execution": {
     "iopub.execute_input": "2021-02-24T12:42:24.945211Z",
     "iopub.status.busy": "2021-02-24T12:42:24.929763Z",
     "iopub.status.idle": "2021-02-24T12:42:24.953704Z",
     "shell.execute_reply": "2021-02-24T12:42:24.954111Z"
    },
    "tags": []
   },
   "outputs": [
    {
     "data": {
      "text/html": [
       "<div>\n",
       "<style scoped>\n",
       "    .dataframe tbody tr th:only-of-type {\n",
       "        vertical-align: middle;\n",
       "    }\n",
       "\n",
       "    .dataframe tbody tr th {\n",
       "        vertical-align: top;\n",
       "    }\n",
       "\n",
       "    .dataframe thead th {\n",
       "        text-align: right;\n",
       "    }\n",
       "</style>\n",
       "<table border=\"1\" class=\"dataframe\">\n",
       "  <thead>\n",
       "    <tr style=\"text-align: right;\">\n",
       "      <th></th>\n",
       "      <th></th>\n",
       "      <th>Type</th>\n",
       "      <th>Start</th>\n",
       "      <th>End</th>\n",
       "      <th>Population</th>\n",
       "    </tr>\n",
       "    <tr>\n",
       "      <th>Country</th>\n",
       "      <th>Phase</th>\n",
       "      <th></th>\n",
       "      <th></th>\n",
       "      <th></th>\n",
       "      <th></th>\n",
       "    </tr>\n",
       "  </thead>\n",
       "  <tbody>\n",
       "    <tr>\n",
       "      <th rowspan=\"19\" valign=\"top\">Germany</th>\n",
       "      <th>0th</th>\n",
       "      <td>Past</td>\n",
       "      <td>03Feb2020</td>\n",
       "      <td>29Mar2020</td>\n",
       "      <td>82905782</td>\n",
       "    </tr>\n",
       "    <tr>\n",
       "      <th>1st</th>\n",
       "      <td>Past</td>\n",
       "      <td>30Mar2020</td>\n",
       "      <td>22Apr2020</td>\n",
       "      <td>82905782</td>\n",
       "    </tr>\n",
       "    <tr>\n",
       "      <th>2nd</th>\n",
       "      <td>Past</td>\n",
       "      <td>23Apr2020</td>\n",
       "      <td>18Aug2020</td>\n",
       "      <td>82905782</td>\n",
       "    </tr>\n",
       "    <tr>\n",
       "      <th>3rd</th>\n",
       "      <td>Past</td>\n",
       "      <td>19Aug2020</td>\n",
       "      <td>06Oct2020</td>\n",
       "      <td>82905782</td>\n",
       "    </tr>\n",
       "    <tr>\n",
       "      <th>4th</th>\n",
       "      <td>Past</td>\n",
       "      <td>07Oct2020</td>\n",
       "      <td>22Oct2020</td>\n",
       "      <td>82905782</td>\n",
       "    </tr>\n",
       "    <tr>\n",
       "      <th>5th</th>\n",
       "      <td>Past</td>\n",
       "      <td>23Oct2020</td>\n",
       "      <td>01Nov2020</td>\n",
       "      <td>82905782</td>\n",
       "    </tr>\n",
       "    <tr>\n",
       "      <th>6th</th>\n",
       "      <td>Past</td>\n",
       "      <td>02Nov2020</td>\n",
       "      <td>09Nov2020</td>\n",
       "      <td>82905782</td>\n",
       "    </tr>\n",
       "    <tr>\n",
       "      <th>7th</th>\n",
       "      <td>Past</td>\n",
       "      <td>10Nov2020</td>\n",
       "      <td>17Nov2020</td>\n",
       "      <td>82905782</td>\n",
       "    </tr>\n",
       "    <tr>\n",
       "      <th>8th</th>\n",
       "      <td>Past</td>\n",
       "      <td>18Nov2020</td>\n",
       "      <td>24Nov2020</td>\n",
       "      <td>82905782</td>\n",
       "    </tr>\n",
       "    <tr>\n",
       "      <th>9th</th>\n",
       "      <td>Past</td>\n",
       "      <td>25Nov2020</td>\n",
       "      <td>01Dec2020</td>\n",
       "      <td>82905782</td>\n",
       "    </tr>\n",
       "    <tr>\n",
       "      <th>10th</th>\n",
       "      <td>Past</td>\n",
       "      <td>02Dec2020</td>\n",
       "      <td>08Dec2020</td>\n",
       "      <td>82905782</td>\n",
       "    </tr>\n",
       "    <tr>\n",
       "      <th>11th</th>\n",
       "      <td>Past</td>\n",
       "      <td>09Dec2020</td>\n",
       "      <td>15Dec2020</td>\n",
       "      <td>82905782</td>\n",
       "    </tr>\n",
       "    <tr>\n",
       "      <th>12th</th>\n",
       "      <td>Past</td>\n",
       "      <td>16Dec2020</td>\n",
       "      <td>21Dec2020</td>\n",
       "      <td>82905782</td>\n",
       "    </tr>\n",
       "    <tr>\n",
       "      <th>13th</th>\n",
       "      <td>Past</td>\n",
       "      <td>22Dec2020</td>\n",
       "      <td>28Dec2020</td>\n",
       "      <td>82905782</td>\n",
       "    </tr>\n",
       "    <tr>\n",
       "      <th>14th</th>\n",
       "      <td>Past</td>\n",
       "      <td>29Dec2020</td>\n",
       "      <td>05Jan2021</td>\n",
       "      <td>82905782</td>\n",
       "    </tr>\n",
       "    <tr>\n",
       "      <th>15th</th>\n",
       "      <td>Past</td>\n",
       "      <td>06Jan2021</td>\n",
       "      <td>13Jan2021</td>\n",
       "      <td>82905782</td>\n",
       "    </tr>\n",
       "    <tr>\n",
       "      <th>16th</th>\n",
       "      <td>Past</td>\n",
       "      <td>14Jan2021</td>\n",
       "      <td>25Jan2021</td>\n",
       "      <td>82905782</td>\n",
       "    </tr>\n",
       "    <tr>\n",
       "      <th>17th</th>\n",
       "      <td>Past</td>\n",
       "      <td>26Jan2021</td>\n",
       "      <td>07Feb2021</td>\n",
       "      <td>82905782</td>\n",
       "    </tr>\n",
       "    <tr>\n",
       "      <th>18th</th>\n",
       "      <td>Past</td>\n",
       "      <td>08Feb2021</td>\n",
       "      <td>23Feb2021</td>\n",
       "      <td>82905782</td>\n",
       "    </tr>\n",
       "    <tr>\n",
       "      <th rowspan=\"19\" valign=\"top\">Estonia</th>\n",
       "      <th>0th</th>\n",
       "      <td>Past</td>\n",
       "      <td>15Mar2020</td>\n",
       "      <td>12Apr2020</td>\n",
       "      <td>1321977</td>\n",
       "    </tr>\n",
       "    <tr>\n",
       "      <th>1st</th>\n",
       "      <td>Past</td>\n",
       "      <td>13Apr2020</td>\n",
       "      <td>31Aug2020</td>\n",
       "      <td>1321977</td>\n",
       "    </tr>\n",
       "    <tr>\n",
       "      <th>2nd</th>\n",
       "      <td>Past</td>\n",
       "      <td>01Sep2020</td>\n",
       "      <td>29Sep2020</td>\n",
       "      <td>1321977</td>\n",
       "    </tr>\n",
       "    <tr>\n",
       "      <th>3rd</th>\n",
       "      <td>Past</td>\n",
       "      <td>30Sep2020</td>\n",
       "      <td>29Oct2020</td>\n",
       "      <td>1321977</td>\n",
       "    </tr>\n",
       "    <tr>\n",
       "      <th>4th</th>\n",
       "      <td>Past</td>\n",
       "      <td>30Oct2020</td>\n",
       "      <td>10Nov2020</td>\n",
       "      <td>1321977</td>\n",
       "    </tr>\n",
       "    <tr>\n",
       "      <th>5th</th>\n",
       "      <td>Past</td>\n",
       "      <td>11Nov2020</td>\n",
       "      <td>18Nov2020</td>\n",
       "      <td>1321977</td>\n",
       "    </tr>\n",
       "    <tr>\n",
       "      <th>6th</th>\n",
       "      <td>Past</td>\n",
       "      <td>19Nov2020</td>\n",
       "      <td>26Nov2020</td>\n",
       "      <td>1321977</td>\n",
       "    </tr>\n",
       "    <tr>\n",
       "      <th>7th</th>\n",
       "      <td>Past</td>\n",
       "      <td>27Nov2020</td>\n",
       "      <td>03Dec2020</td>\n",
       "      <td>1321977</td>\n",
       "    </tr>\n",
       "    <tr>\n",
       "      <th>8th</th>\n",
       "      <td>Past</td>\n",
       "      <td>04Dec2020</td>\n",
       "      <td>10Dec2020</td>\n",
       "      <td>1321977</td>\n",
       "    </tr>\n",
       "    <tr>\n",
       "      <th>9th</th>\n",
       "      <td>Past</td>\n",
       "      <td>11Dec2020</td>\n",
       "      <td>16Dec2020</td>\n",
       "      <td>1321977</td>\n",
       "    </tr>\n",
       "    <tr>\n",
       "      <th>10th</th>\n",
       "      <td>Past</td>\n",
       "      <td>17Dec2020</td>\n",
       "      <td>22Dec2020</td>\n",
       "      <td>1321977</td>\n",
       "    </tr>\n",
       "    <tr>\n",
       "      <th>11th</th>\n",
       "      <td>Past</td>\n",
       "      <td>23Dec2020</td>\n",
       "      <td>28Dec2020</td>\n",
       "      <td>1321977</td>\n",
       "    </tr>\n",
       "    <tr>\n",
       "      <th>12th</th>\n",
       "      <td>Past</td>\n",
       "      <td>29Dec2020</td>\n",
       "      <td>05Jan2021</td>\n",
       "      <td>1321977</td>\n",
       "    </tr>\n",
       "    <tr>\n",
       "      <th>13th</th>\n",
       "      <td>Past</td>\n",
       "      <td>06Jan2021</td>\n",
       "      <td>12Jan2021</td>\n",
       "      <td>1321977</td>\n",
       "    </tr>\n",
       "    <tr>\n",
       "      <th>14th</th>\n",
       "      <td>Past</td>\n",
       "      <td>13Jan2021</td>\n",
       "      <td>19Jan2021</td>\n",
       "      <td>1321977</td>\n",
       "    </tr>\n",
       "    <tr>\n",
       "      <th>15th</th>\n",
       "      <td>Past</td>\n",
       "      <td>20Jan2021</td>\n",
       "      <td>26Jan2021</td>\n",
       "      <td>1321977</td>\n",
       "    </tr>\n",
       "    <tr>\n",
       "      <th>16th</th>\n",
       "      <td>Past</td>\n",
       "      <td>27Jan2021</td>\n",
       "      <td>01Feb2021</td>\n",
       "      <td>1321977</td>\n",
       "    </tr>\n",
       "    <tr>\n",
       "      <th>17th</th>\n",
       "      <td>Past</td>\n",
       "      <td>02Feb2021</td>\n",
       "      <td>11Feb2021</td>\n",
       "      <td>1321977</td>\n",
       "    </tr>\n",
       "    <tr>\n",
       "      <th>18th</th>\n",
       "      <td>Past</td>\n",
       "      <td>12Feb2021</td>\n",
       "      <td>23Feb2021</td>\n",
       "      <td>1321977</td>\n",
       "    </tr>\n",
       "  </tbody>\n",
       "</table>\n",
       "</div>"
      ],
      "text/plain": [
       "               Type      Start        End  Population\n",
       "Country Phase                                        \n",
       "Germany 0th    Past  03Feb2020  29Mar2020    82905782\n",
       "        1st    Past  30Mar2020  22Apr2020    82905782\n",
       "        2nd    Past  23Apr2020  18Aug2020    82905782\n",
       "        3rd    Past  19Aug2020  06Oct2020    82905782\n",
       "        4th    Past  07Oct2020  22Oct2020    82905782\n",
       "        5th    Past  23Oct2020  01Nov2020    82905782\n",
       "        6th    Past  02Nov2020  09Nov2020    82905782\n",
       "        7th    Past  10Nov2020  17Nov2020    82905782\n",
       "        8th    Past  18Nov2020  24Nov2020    82905782\n",
       "        9th    Past  25Nov2020  01Dec2020    82905782\n",
       "        10th   Past  02Dec2020  08Dec2020    82905782\n",
       "        11th   Past  09Dec2020  15Dec2020    82905782\n",
       "        12th   Past  16Dec2020  21Dec2020    82905782\n",
       "        13th   Past  22Dec2020  28Dec2020    82905782\n",
       "        14th   Past  29Dec2020  05Jan2021    82905782\n",
       "        15th   Past  06Jan2021  13Jan2021    82905782\n",
       "        16th   Past  14Jan2021  25Jan2021    82905782\n",
       "        17th   Past  26Jan2021  07Feb2021    82905782\n",
       "        18th   Past  08Feb2021  23Feb2021    82905782\n",
       "Estonia 0th    Past  15Mar2020  12Apr2020     1321977\n",
       "        1st    Past  13Apr2020  31Aug2020     1321977\n",
       "        2nd    Past  01Sep2020  29Sep2020     1321977\n",
       "        3rd    Past  30Sep2020  29Oct2020     1321977\n",
       "        4th    Past  30Oct2020  10Nov2020     1321977\n",
       "        5th    Past  11Nov2020  18Nov2020     1321977\n",
       "        6th    Past  19Nov2020  26Nov2020     1321977\n",
       "        7th    Past  27Nov2020  03Dec2020     1321977\n",
       "        8th    Past  04Dec2020  10Dec2020     1321977\n",
       "        9th    Past  11Dec2020  16Dec2020     1321977\n",
       "        10th   Past  17Dec2020  22Dec2020     1321977\n",
       "        11th   Past  23Dec2020  28Dec2020     1321977\n",
       "        12th   Past  29Dec2020  05Jan2021     1321977\n",
       "        13th   Past  06Jan2021  12Jan2021     1321977\n",
       "        14th   Past  13Jan2021  19Jan2021     1321977\n",
       "        15th   Past  20Jan2021  26Jan2021     1321977\n",
       "        16th   Past  27Jan2021  01Feb2021     1321977\n",
       "        17th   Past  02Feb2021  11Feb2021     1321977\n",
       "        18th   Past  12Feb2021  23Feb2021     1321977"
      ]
     },
     "execution_count": 1,
     "metadata": {},
     "output_type": "execute_result"
    }
   ],
   "source": [
    "# Here, only show the countries which have the most phases\n",
    "countries_show = max(phase_len_dict.items(), key=lambda x: x[0])[1]\n",
    "# Show summary\n",
    "analyser.summary(countries=countries_show)"
   ]
  },
  {
   "cell_type": "markdown",
   "metadata": {},
   "source": [
    "## Parameter estimation\n",
    "we will estimate the parameter values with SIR-derived ODE models in each country."
   ]
  },
  {
   "cell_type": "code",
   "execution_count": 11,
   "metadata": {
    "execution": {
     "iopub.execute_input": "2021-02-24T12:42:24.957301Z",
     "iopub.status.busy": "2021-02-24T12:42:24.956836Z",
     "iopub.status.idle": "2021-02-24T12:42:24.958810Z",
     "shell.execute_reply": "2021-02-24T12:42:24.959265Z"
    },
    "tags": []
   },
   "outputs": [],
   "source": [
    "# Parameter estimation with SIR-F model\n",
    "# Caution! This takes too much time.\n",
    "# analyser.estimate(cs.SIRF, timeout=60)"
   ]
  },
  {
   "cell_type": "code",
   "execution_count": 12,
   "metadata": {
    "execution": {
     "iopub.execute_input": "2021-02-24T12:42:24.962153Z",
     "iopub.status.busy": "2021-02-24T12:42:24.961627Z",
     "iopub.status.idle": "2021-02-24T12:42:24.963762Z",
     "shell.execute_reply": "2021-02-24T12:42:24.964155Z"
    }
   },
   "outputs": [],
   "source": [
    "# Show summary\n",
    "# analyser.summary(countries=countries_show)"
   ]
  },
  {
   "cell_type": "markdown",
   "metadata": {},
   "source": [
    "## Compare the history of parameters\n",
    "Here, compare the history of parameter values if countries."
   ]
  },
  {
   "cell_type": "code",
   "execution_count": 13,
   "metadata": {
    "execution": {
     "iopub.execute_input": "2021-02-24T12:42:24.967192Z",
     "iopub.status.busy": "2021-02-24T12:42:24.966709Z",
     "iopub.status.idle": "2021-02-24T12:42:24.968637Z",
     "shell.execute_reply": "2021-02-24T12:42:24.968969Z"
    }
   },
   "outputs": [],
   "source": [
    "# All parameter/day parameter/Rt/OxCGRT\n",
    "# analyser.track().head()"
   ]
  },
  {
   "cell_type": "markdown",
   "metadata": {},
   "source": [
    "### $Rt$: Reprodcution number $\\mathrm{[-]}$"
   ]
  },
  {
   "cell_type": "code",
   "execution_count": 14,
   "metadata": {
    "execution": {
     "iopub.execute_input": "2021-02-24T12:42:24.974310Z",
     "iopub.status.busy": "2021-02-24T12:42:24.973833Z",
     "iopub.status.idle": "2021-02-24T12:42:24.975432Z",
     "shell.execute_reply": "2021-02-24T12:42:24.975794Z"
    }
   },
   "outputs": [],
   "source": [
    "# analyser.history(\"Rt\", roll_window=None).tail()"
   ]
  },
  {
   "cell_type": "markdown",
   "metadata": {},
   "source": [
    "### $\\rho$: Effective contact rate $\\mathrm{[-]}$"
   ]
  },
  {
   "cell_type": "code",
   "execution_count": 15,
   "metadata": {
    "execution": {
     "iopub.execute_input": "2021-02-24T12:42:24.978957Z",
     "iopub.status.busy": "2021-02-24T12:42:24.978465Z",
     "iopub.status.idle": "2021-02-24T12:42:24.980465Z",
     "shell.execute_reply": "2021-02-24T12:42:24.980830Z"
    }
   },
   "outputs": [],
   "source": [
    "# analyser.history(\"rho\", roll_window=None).tail()"
   ]
  },
  {
   "cell_type": "markdown",
   "metadata": {},
   "source": [
    "### $\\sigma$: Recovery rate $\\mathrm{[-]}$"
   ]
  },
  {
   "cell_type": "code",
   "execution_count": 16,
   "metadata": {
    "execution": {
     "iopub.execute_input": "2021-02-24T12:42:24.984028Z",
     "iopub.status.busy": "2021-02-24T12:42:24.983556Z",
     "iopub.status.idle": "2021-02-24T12:42:24.986253Z",
     "shell.execute_reply": "2021-02-24T12:42:24.985815Z"
    }
   },
   "outputs": [],
   "source": [
    "# analyser.history(\"sigma\", roll_window=None).tail()"
   ]
  },
  {
   "cell_type": "markdown",
   "metadata": {},
   "source": [
    "### $\\kappa$: Mortality rate of infected cases $\\mathrm{[-]}$"
   ]
  },
  {
   "cell_type": "code",
   "execution_count": 17,
   "metadata": {
    "execution": {
     "iopub.execute_input": "2021-02-24T12:42:24.990358Z",
     "iopub.status.busy": "2021-02-24T12:42:24.989893Z",
     "iopub.status.idle": "2021-02-24T12:42:24.992106Z",
     "shell.execute_reply": "2021-02-24T12:42:24.992508Z"
    }
   },
   "outputs": [],
   "source": [
    "# analyser.history(\"kappa\", roll_window=None).tail()"
   ]
  },
  {
   "cell_type": "markdown",
   "metadata": {},
   "source": [
    "### $\\theta$: Mortality rate of S$^\\ast$ cases $\\mathrm{[-]}$"
   ]
  },
  {
   "cell_type": "code",
   "execution_count": 18,
   "metadata": {
    "execution": {
     "iopub.execute_input": "2021-02-24T12:42:24.995587Z",
     "iopub.status.busy": "2021-02-24T12:42:24.995084Z",
     "iopub.status.idle": "2021-02-24T12:42:24.997208Z",
     "shell.execute_reply": "2021-02-24T12:42:24.997549Z"
    }
   },
   "outputs": [],
   "source": [
    "# analyser.history(\"theta\", roll_window=None).tail()"
   ]
  },
  {
   "cell_type": "markdown",
   "metadata": {},
   "source": [
    "## (Experimental): Relationship of OxCGRT index and parameter values\n",
    "Government responses will impact on parameter values of ODE models about 14 days later. Here, we will investigate on the relationship of [stringency index (from OxCGRT)](https://github.com/OxCGRT/covid-policy-tracker/blob/master/documentation/index_methodology.md) and reproduction number/model parameters.\n"
   ]
  },
  {
   "cell_type": "code",
   "execution_count": 19,
   "metadata": {
    "execution": {
     "iopub.execute_input": "2021-02-24T12:42:25.004817Z",
     "iopub.status.busy": "2021-02-24T12:42:25.003879Z",
     "iopub.status.idle": "2021-02-24T12:42:25.006531Z",
     "shell.execute_reply": "2021-02-24T12:42:25.006894Z"
    }
   },
   "outputs": [],
   "source": [
    "%matplotlib inline\n",
    "from matplotlib import pyplot as plt\n",
    "import seaborn as sns\n",
    "import pandas as pd"
   ]
  },
  {
   "cell_type": "code",
   "execution_count": 20,
   "metadata": {
    "execution": {
     "iopub.execute_input": "2021-02-24T12:42:25.010497Z",
     "iopub.status.busy": "2021-02-24T12:42:25.009991Z",
     "iopub.status.idle": "2021-02-24T12:42:25.012082Z",
     "shell.execute_reply": "2021-02-24T12:42:25.012452Z"
    }
   },
   "outputs": [],
   "source": [
    "\"\"\"\n",
    "df = analyser.track()\n",
    "param_cols = [\"Rt\", *cs.SIRF.PARAMETERS]\n",
    "oxcgrt_cols = oxcgrt_data.OXCGRT_VARS[:]\n",
    "cols = param_cols + oxcgrt_cols\n",
    "delay = 14\n",
    "\n",
    "for col in param_cols:\n",
    "    df[col] = pd.to_numeric(df[col], errors=\"coerce\")\n",
    "    df[col] = df.groupby(\"Country\")[col].shift(0 - delay)\n",
    "\n",
    "df = df.dropna(how=\"any\")\n",
    "df = df.loc[:, [\"Date\", \"Country\", *cols]]\n",
    "track_df = df.copy()\n",
    "track_df.info()\n",
    "\"\"\"\n",
    "None"
   ]
  },
  {
   "cell_type": "code",
   "execution_count": 21,
   "metadata": {
    "execution": {
     "iopub.execute_input": "2021-02-24T12:42:25.015682Z",
     "iopub.status.busy": "2021-02-24T12:42:25.014995Z",
     "iopub.status.idle": "2021-02-24T12:42:25.017366Z",
     "shell.execute_reply": "2021-02-24T12:42:25.018514Z"
    }
   },
   "outputs": [],
   "source": [
    "# Correlation\n",
    "# df = track_df.copy()\n",
    "# df.corr().style.background_gradient(axis=None)"
   ]
  },
  {
   "cell_type": "code",
   "execution_count": 22,
   "metadata": {
    "execution": {
     "iopub.execute_input": "2021-02-24T12:42:25.022423Z",
     "iopub.status.busy": "2021-02-24T12:42:25.021897Z",
     "iopub.status.idle": "2021-02-24T12:42:25.023871Z",
     "shell.execute_reply": "2021-02-24T12:42:25.024273Z"
    }
   },
   "outputs": [],
   "source": [
    "\"\"\"\n",
    "# Scatter plot of Stringency index and Rt\n",
    "df = track_df.copy()\n",
    "sns.scatterplot(data=df, x=\"Stringency_index\", y=\"Rt\", hue=\"Country\", legend=\"brief\", marker=\"+\")\n",
    "bbox_to_anchor=(1.02, 0)\n",
    "bbox_loc=\"lower left\"\n",
    "plt.legend(bbox_to_anchor=bbox_to_anchor, loc=bbox_loc, borderaxespad=0)\n",
    "plt.title(\"Relationship of Stringency index and reproduction number\")\n",
    "plt.ylabel(\"Reproduction number\")\n",
    "plt.xlabel(\"Stringency index\")\n",
    "plt.show()\n",
    "\"\"\"\n",
    "None"
   ]
  }
 ],
 "metadata": {
  "kernelspec": {
   "display_name": "Python 3.9.1 64-bit ('.venv')",
   "metadata": {
    "interpreter": {
     "hash": "aa53c8c6e6798222a2084c11cc25017700a8d3ad495b587e3a634f357767115f"
    }
   },
   "name": "python3"
  },
  "language_info": {
   "codemirror_mode": {
    "name": "ipython",
    "version": 3
   },
   "file_extension": ".py",
   "mimetype": "text/x-python",
   "name": "python",
   "nbconvert_exporter": "python",
   "pygments_lexer": "ipython3",
   "version": "3.9.1"
  }
 },
 "nbformat": 4,
 "nbformat_minor": 2
}
