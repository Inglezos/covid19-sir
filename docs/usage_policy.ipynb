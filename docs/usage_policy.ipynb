{
 "cells": [
  {
   "cell_type": "markdown",
   "metadata": {},
   "source": [
    "# Usage (details: policy measures)\n",
    "Here, we will analyse the relationship of policy measures and parameter values of SIR-derived ODE models. Policy measures are tracked by [Oxford Covid-19 Government Response Tracker (OxCGRT)](https://github.com/OxCGRT/covid-policy-tracker)."
   ]
  },
  {
   "cell_type": "markdown",
   "metadata": {},
   "source": [
    "## Preparation"
   ]
  },
  {
   "cell_type": "code",
   "execution_count": 1,
   "metadata": {
    "collapsed": false
   },
   "outputs": [],
   "source": [
    "# Standard users\n",
    "# !pip install covsirphy\n",
    "# Developers (Note: this notebook is in example directory)\n",
    "import os\n",
    "os.chdir(\"../\")"
   ]
  },
  {
   "cell_type": "code",
   "execution_count": 2,
   "metadata": {
    "collapsed": false
   },
   "outputs": [],
   "source": [
    "from pprint import pprint"
   ]
  },
  {
   "cell_type": "code",
   "execution_count": 3,
   "metadata": {
    "collapsed": false
   },
   "outputs": [
    {
     "data": {
      "text/plain": [
       "'2.13.3-theta-fu1.new.56.420.422.429.449.fix.438.441.450'"
      ]
     },
     "execution_count": 3,
     "metadata": {},
     "output_type": "execute_result"
    }
   ],
   "source": [
    "import covsirphy as cs\n",
    "cs.__version__"
   ]
  },
  {
   "cell_type": "code",
   "execution_count": 4,
   "metadata": {
    "collapsed": false,
    "tags": []
   },
   "outputs": [
    {
     "name": "stdout",
     "output_type": "stream",
     "text": [
      "(Secondary source) Guidotti, E., Ardia, D., (2020), \"COVID-19 Data Hub\", Journal of Open Source Software 5(51):2376, doi: 10.21105/joss.02376.\n"
     ]
    }
   ],
   "source": [
    "# Standard users and developers\n",
    "data_loader = cs.DataLoader(\"input\")\n",
    "# The number of cases (JHU style)\n",
    "jhu_data = data_loader.jhu(verbose=False)\n",
    "# Population in each country\n",
    "population_data = data_loader.population(verbose=False)\n",
    "# Government Response Tracker (OxCGRT)\n",
    "oxcgrt_data = data_loader.oxcgrt(verbose=False)\n",
    "# Description/citation\n",
    "print(oxcgrt_data.citation)"
   ]
  },
  {
   "cell_type": "markdown",
   "metadata": {},
   "source": [
    "## Class for policy measure analysis\n",
    "We will `PolicyMeasures` class to find relationship of policy measures and parameter values of SIR-derived ODE models."
   ]
  },
  {
   "cell_type": "code",
   "execution_count": 5,
   "metadata": {
    "collapsed": false,
    "tags": []
   },
   "outputs": [
    {
     "data": {
      "text/plain": [
       "196"
      ]
     },
     "execution_count": 5,
     "metadata": {},
     "output_type": "execute_result"
    }
   ],
   "source": [
    "# Create analyser with tau value 360 [min] (can be changed)\n",
    "analyser = cs.PolicyMeasures(jhu_data, population_data, oxcgrt_data, tau=360)\n",
    "# The number of registerd countries\n",
    "len(analyser.countries)"
   ]
  },
  {
   "cell_type": "code",
   "execution_count": 6,
   "metadata": {
    "collapsed": false
   },
   "outputs": [
    {
     "data": {
      "text/plain": [
       "covsirphy.analysis.scenario.Scenario"
      ]
     },
     "execution_count": 6,
     "metadata": {},
     "output_type": "execute_result"
    }
   ],
   "source": [
    "# We can get Scenario instance for detailed scenario analysis\n",
    "type(analyser.scenario(\"Japan\"))"
   ]
  },
  {
   "cell_type": "markdown",
   "metadata": {},
   "source": [
    "## Set phases with S-R trend analysis\n",
    "We will perform S-R trend analysis to set phases in all countries. Countries which do not have **17th phases** will be un-registered for the next analysis. This number will be adjusted for your analysis."
   ]
  },
  {
   "cell_type": "code",
   "execution_count": 7,
   "metadata": {
    "collapsed": false
   },
   "outputs": [
    {
     "name": "stdout",
     "output_type": "stream",
     "text": [
      "{2: ['Timor-Leste', 'Solomon Islands', 'Holy See', 'Laos'],\n",
      " 3: ['Saint Kitts and Nevis'],\n",
      " 4: ['Fiji', 'Brunei', 'Tanzania', 'Dominica'],\n",
      " 5: ['Grenada', 'Saint Lucia', 'Equatorial Guinea'],\n",
      " 6: ['Cambodia', 'Antigua and Barbuda', 'Mauritius'],\n",
      " 7: ['Saint Vincent and the Grenadines'],\n",
      " 8: ['Barbados', 'Madagascar', 'Trinidad and Tobago', 'Bahamas', 'Kyrgyzstan',\n",
      "     'Northern Mariana Islands', 'Gambia'],\n",
      " 9: ['Monaco', 'Seychelles', 'Australia', 'Uzbekistan', 'Ghana',\n",
      "     'Liechtenstein', 'Malawi', 'Kazakhstan', 'Jamaica', 'Vietnam',\n",
      "     'Republic of the Congo', 'Sao Tome and Principe', 'Philippines', 'Bolivia',\n",
      "     'Oman'],\n",
      " 10: ['Ethiopia', 'Guyana', 'Senegal', 'Eritrea', 'Guatemala', 'Iceland',\n",
      "      'Djibouti', 'Libya', 'Lesotho', 'Zimbabwe', 'Zambia', 'El Salvador',\n",
      "      'Iraq', 'Bahrain', 'Suriname', 'Kenya', 'Honduras', 'Burundi', 'Kuwait',\n",
      "      'Mongolia', 'Maldives', 'Andorra', 'Angola', 'Cape Verde', 'South Africa',\n",
      "      'Singapore', 'Swaziland', 'Namibia', 'Venezuela', 'Mozambique',\n",
      "      'Papua New Guinea', 'Virgin Islands, U.S.', 'Chile', 'Bhutan', 'Guam',\n",
      "      'Benin', 'India'],\n",
      " 11: ['Mexico', 'Niger', \"Cote d'Ivoire\", 'Nicaragua', 'Rwanda', 'Brazil',\n",
      "      'Pakistan', 'Botswana', 'Comoros', 'New Zealand', 'Togo', 'Uganda',\n",
      "      'Bangladesh', 'Dominican Republic', 'South Sudan', 'Belize', 'Gabon',\n",
      "      'Algeria', 'Bermuda', 'Yemen', 'Saudi Arabia', 'Georgia', 'Liberia',\n",
      "      'Israel', 'Peru', 'Taiwan', 'Costa Rica', 'Argentina', 'Syria',\n",
      "      'Paraguay', 'Colombia', 'Ecuador'],\n",
      " 12: ['Montenegro', 'Puerto Rico', 'Guinea-Bissau', 'Panama', 'Somalia',\n",
      "      'Kosovo', 'Cameroon', 'Egypt', 'Burkina Faso', 'Croatia', 'Slovenia',\n",
      "      'Democratic Republic of the Congo', 'Jordan', 'Latvia', 'Sierra Leone',\n",
      "      'Central African Republic', 'Nepal', 'Nigeria', 'Sudan', 'Palestine',\n",
      "      'Guinea'],\n",
      " 13: ['Tajikistan', 'China', 'San Marino', 'Mali', 'Serbia', 'Morocco',\n",
      "      'United Arab Emirates', 'Malta', 'Myanmar', 'Armenia', 'Cuba', 'Chad',\n",
      "      'Indonesia', 'Slovakia', 'Moldova', 'Afghanistan', 'Japan', 'Azerbaijan',\n",
      "      'Qatar'],\n",
      " 14: ['Sri Lanka', 'Spain', 'United States', 'Belarus',\n",
      "      'Bosnia and Herzegovina', 'Hungary', 'Lithuania', 'Russia', 'Haiti',\n",
      "      'Estonia', 'Ireland', 'Greece', 'Lebanon', 'Tunisia'],\n",
      " 15: ['Mauritania', 'Turkey', 'North Macedonia', 'Belgium', 'Uruguay', 'Sweden',\n",
      "      'Italy', 'Iran', 'Poland', 'Thailand', 'Bulgaria', 'Luxembourg', 'Cyprus',\n",
      "      'Denmark', 'Albania'],\n",
      " 16: ['France', 'Ukraine', 'Austria', 'Finland', 'Canada', 'Romania',\n",
      "      'Czech Republic', 'Switzerland'],\n",
      " 17: ['Portugal', 'Malaysia', 'Netherlands', 'United Kingdom'],\n",
      " 18: ['Germany', 'Norway']}\n"
     ]
    }
   ],
   "source": [
    "# Show the number of phases of all countries\n",
    "analyser.trend()\n",
    "pprint(analyser.phase_len(), compact=True)"
   ]
  },
  {
   "cell_type": "code",
   "execution_count": 8,
   "metadata": {
    "collapsed": false
   },
   "outputs": [
    {
     "data": {
      "text/plain": [
       "6"
      ]
     },
     "execution_count": 8,
     "metadata": {},
     "output_type": "execute_result"
    }
   ],
   "source": [
    "# Set phases with S-R trend analysis\n",
    "analyser.trend(min_len=17)\n",
    "# The number of countries\n",
    "len(analyser.countries)"
   ]
  },
  {
   "cell_type": "code",
   "execution_count": 9,
   "metadata": {
    "collapsed": false,
    "tags": []
   },
   "outputs": [
    {
     "name": "stdout",
     "output_type": "stream",
     "text": [
      "{17: ['Portugal', 'Malaysia', 'Netherlands', 'United Kingdom'],\n",
      " 18: ['Germany', 'Norway']}\n"
     ]
    }
   ],
   "source": [
    "phase_len_dict = analyser.phase_len()\n",
    "pprint(phase_len_dict, compact=True)"
   ]
  },
  {
   "cell_type": "code",
   "execution_count": 10,
   "metadata": {
    "collapsed": false,
    "tags": []
   },
   "outputs": [
    {
     "data": {
      "text/html": [
       "<div>\n",
       "<style scoped>\n",
       "    .dataframe tbody tr th:only-of-type {\n",
       "        vertical-align: middle;\n",
       "    }\n",
       "\n",
       "    .dataframe tbody tr th {\n",
       "        vertical-align: top;\n",
       "    }\n",
       "\n",
       "    .dataframe thead th {\n",
       "        text-align: right;\n",
       "    }\n",
       "</style>\n",
       "<table border=\"1\" class=\"dataframe\">\n",
       "  <thead>\n",
       "    <tr style=\"text-align: right;\">\n",
       "      <th></th>\n",
       "      <th></th>\n",
       "      <th>Type</th>\n",
       "      <th>Start</th>\n",
       "      <th>End</th>\n",
       "      <th>Population</th>\n",
       "    </tr>\n",
       "    <tr>\n",
       "      <th>Country</th>\n",
       "      <th>Phase</th>\n",
       "      <th></th>\n",
       "      <th></th>\n",
       "      <th></th>\n",
       "      <th></th>\n",
       "    </tr>\n",
       "  </thead>\n",
       "  <tbody>\n",
       "    <tr>\n",
       "      <th rowspan=\"18\" valign=\"top\">Germany</th>\n",
       "      <th>0th</th>\n",
       "      <td>Past</td>\n",
       "      <td>19Jan2020</td>\n",
       "      <td>23Mar2020</td>\n",
       "      <td>82905782</td>\n",
       "    </tr>\n",
       "    <tr>\n",
       "      <th>1st</th>\n",
       "      <td>Past</td>\n",
       "      <td>24Mar2020</td>\n",
       "      <td>04Apr2020</td>\n",
       "      <td>82905782</td>\n",
       "    </tr>\n",
       "    <tr>\n",
       "      <th>2nd</th>\n",
       "      <td>Past</td>\n",
       "      <td>05Apr2020</td>\n",
       "      <td>21Apr2020</td>\n",
       "      <td>82905782</td>\n",
       "    </tr>\n",
       "    <tr>\n",
       "      <th>3rd</th>\n",
       "      <td>Past</td>\n",
       "      <td>22Apr2020</td>\n",
       "      <td>17Jun2020</td>\n",
       "      <td>82905782</td>\n",
       "    </tr>\n",
       "    <tr>\n",
       "      <th>4th</th>\n",
       "      <td>Past</td>\n",
       "      <td>18Jun2020</td>\n",
       "      <td>15Aug2020</td>\n",
       "      <td>82905782</td>\n",
       "    </tr>\n",
       "    <tr>\n",
       "      <th>5th</th>\n",
       "      <td>Past</td>\n",
       "      <td>16Aug2020</td>\n",
       "      <td>16Sep2020</td>\n",
       "      <td>82905782</td>\n",
       "    </tr>\n",
       "    <tr>\n",
       "      <th>6th</th>\n",
       "      <td>Past</td>\n",
       "      <td>17Sep2020</td>\n",
       "      <td>08Oct2020</td>\n",
       "      <td>82905782</td>\n",
       "    </tr>\n",
       "    <tr>\n",
       "      <th>7th</th>\n",
       "      <td>Past</td>\n",
       "      <td>09Oct2020</td>\n",
       "      <td>20Oct2020</td>\n",
       "      <td>82905782</td>\n",
       "    </tr>\n",
       "    <tr>\n",
       "      <th>8th</th>\n",
       "      <td>Past</td>\n",
       "      <td>21Oct2020</td>\n",
       "      <td>27Oct2020</td>\n",
       "      <td>82905782</td>\n",
       "    </tr>\n",
       "    <tr>\n",
       "      <th>9th</th>\n",
       "      <td>Past</td>\n",
       "      <td>28Oct2020</td>\n",
       "      <td>03Nov2020</td>\n",
       "      <td>82905782</td>\n",
       "    </tr>\n",
       "    <tr>\n",
       "      <th>10th</th>\n",
       "      <td>Past</td>\n",
       "      <td>04Nov2020</td>\n",
       "      <td>10Nov2020</td>\n",
       "      <td>82905782</td>\n",
       "    </tr>\n",
       "    <tr>\n",
       "      <th>11th</th>\n",
       "      <td>Past</td>\n",
       "      <td>11Nov2020</td>\n",
       "      <td>17Nov2020</td>\n",
       "      <td>82905782</td>\n",
       "    </tr>\n",
       "    <tr>\n",
       "      <th>12th</th>\n",
       "      <td>Past</td>\n",
       "      <td>18Nov2020</td>\n",
       "      <td>24Nov2020</td>\n",
       "      <td>82905782</td>\n",
       "    </tr>\n",
       "    <tr>\n",
       "      <th>13th</th>\n",
       "      <td>Past</td>\n",
       "      <td>25Nov2020</td>\n",
       "      <td>01Dec2020</td>\n",
       "      <td>82905782</td>\n",
       "    </tr>\n",
       "    <tr>\n",
       "      <th>14th</th>\n",
       "      <td>Past</td>\n",
       "      <td>02Dec2020</td>\n",
       "      <td>08Dec2020</td>\n",
       "      <td>82905782</td>\n",
       "    </tr>\n",
       "    <tr>\n",
       "      <th>15th</th>\n",
       "      <td>Past</td>\n",
       "      <td>09Dec2020</td>\n",
       "      <td>14Dec2020</td>\n",
       "      <td>82905782</td>\n",
       "    </tr>\n",
       "    <tr>\n",
       "      <th>16th</th>\n",
       "      <td>Past</td>\n",
       "      <td>15Dec2020</td>\n",
       "      <td>20Dec2020</td>\n",
       "      <td>82905782</td>\n",
       "    </tr>\n",
       "    <tr>\n",
       "      <th>17th</th>\n",
       "      <td>Past</td>\n",
       "      <td>21Dec2020</td>\n",
       "      <td>27Dec2020</td>\n",
       "      <td>82905782</td>\n",
       "    </tr>\n",
       "    <tr>\n",
       "      <th rowspan=\"18\" valign=\"top\">Norway</th>\n",
       "      <th>0th</th>\n",
       "      <td>Past</td>\n",
       "      <td>15Mar2020</td>\n",
       "      <td>24Mar2020</td>\n",
       "      <td>5311916</td>\n",
       "    </tr>\n",
       "    <tr>\n",
       "      <th>1st</th>\n",
       "      <td>Past</td>\n",
       "      <td>25Mar2020</td>\n",
       "      <td>02Apr2020</td>\n",
       "      <td>5311916</td>\n",
       "    </tr>\n",
       "    <tr>\n",
       "      <th>2nd</th>\n",
       "      <td>Past</td>\n",
       "      <td>03Apr2020</td>\n",
       "      <td>20Apr2020</td>\n",
       "      <td>5311916</td>\n",
       "    </tr>\n",
       "    <tr>\n",
       "      <th>3rd</th>\n",
       "      <td>Past</td>\n",
       "      <td>21Apr2020</td>\n",
       "      <td>02Jun2020</td>\n",
       "      <td>5311916</td>\n",
       "    </tr>\n",
       "    <tr>\n",
       "      <th>4th</th>\n",
       "      <td>Past</td>\n",
       "      <td>03Jun2020</td>\n",
       "      <td>09Aug2020</td>\n",
       "      <td>5311916</td>\n",
       "    </tr>\n",
       "    <tr>\n",
       "      <th>5th</th>\n",
       "      <td>Past</td>\n",
       "      <td>10Aug2020</td>\n",
       "      <td>04Sep2020</td>\n",
       "      <td>5311916</td>\n",
       "    </tr>\n",
       "    <tr>\n",
       "      <th>6th</th>\n",
       "      <td>Past</td>\n",
       "      <td>05Sep2020</td>\n",
       "      <td>20Sep2020</td>\n",
       "      <td>5311916</td>\n",
       "    </tr>\n",
       "    <tr>\n",
       "      <th>7th</th>\n",
       "      <td>Past</td>\n",
       "      <td>21Sep2020</td>\n",
       "      <td>05Oct2020</td>\n",
       "      <td>5311916</td>\n",
       "    </tr>\n",
       "    <tr>\n",
       "      <th>8th</th>\n",
       "      <td>Past</td>\n",
       "      <td>06Oct2020</td>\n",
       "      <td>20Oct2020</td>\n",
       "      <td>5311916</td>\n",
       "    </tr>\n",
       "    <tr>\n",
       "      <th>9th</th>\n",
       "      <td>Past</td>\n",
       "      <td>21Oct2020</td>\n",
       "      <td>28Oct2020</td>\n",
       "      <td>5311916</td>\n",
       "    </tr>\n",
       "    <tr>\n",
       "      <th>10th</th>\n",
       "      <td>Past</td>\n",
       "      <td>29Oct2020</td>\n",
       "      <td>03Nov2020</td>\n",
       "      <td>5311916</td>\n",
       "    </tr>\n",
       "    <tr>\n",
       "      <th>11th</th>\n",
       "      <td>Past</td>\n",
       "      <td>04Nov2020</td>\n",
       "      <td>09Nov2020</td>\n",
       "      <td>5311916</td>\n",
       "    </tr>\n",
       "    <tr>\n",
       "      <th>12th</th>\n",
       "      <td>Past</td>\n",
       "      <td>10Nov2020</td>\n",
       "      <td>22Nov2020</td>\n",
       "      <td>5311916</td>\n",
       "    </tr>\n",
       "    <tr>\n",
       "      <th>13th</th>\n",
       "      <td>Past</td>\n",
       "      <td>23Nov2020</td>\n",
       "      <td>29Nov2020</td>\n",
       "      <td>5311916</td>\n",
       "    </tr>\n",
       "    <tr>\n",
       "      <th>14th</th>\n",
       "      <td>Past</td>\n",
       "      <td>30Nov2020</td>\n",
       "      <td>07Dec2020</td>\n",
       "      <td>5311916</td>\n",
       "    </tr>\n",
       "    <tr>\n",
       "      <th>15th</th>\n",
       "      <td>Past</td>\n",
       "      <td>08Dec2020</td>\n",
       "      <td>14Dec2020</td>\n",
       "      <td>5311916</td>\n",
       "    </tr>\n",
       "    <tr>\n",
       "      <th>16th</th>\n",
       "      <td>Past</td>\n",
       "      <td>15Dec2020</td>\n",
       "      <td>20Dec2020</td>\n",
       "      <td>5311916</td>\n",
       "    </tr>\n",
       "    <tr>\n",
       "      <th>17th</th>\n",
       "      <td>Past</td>\n",
       "      <td>21Dec2020</td>\n",
       "      <td>27Dec2020</td>\n",
       "      <td>5311916</td>\n",
       "    </tr>\n",
       "  </tbody>\n",
       "</table>\n",
       "</div>"
      ],
      "text/plain": [
       "               Type      Start        End  Population\n",
       "Country Phase                                        \n",
       "Germany 0th    Past  19Jan2020  23Mar2020    82905782\n",
       "        1st    Past  24Mar2020  04Apr2020    82905782\n",
       "        2nd    Past  05Apr2020  21Apr2020    82905782\n",
       "        3rd    Past  22Apr2020  17Jun2020    82905782\n",
       "        4th    Past  18Jun2020  15Aug2020    82905782\n",
       "        5th    Past  16Aug2020  16Sep2020    82905782\n",
       "        6th    Past  17Sep2020  08Oct2020    82905782\n",
       "        7th    Past  09Oct2020  20Oct2020    82905782\n",
       "        8th    Past  21Oct2020  27Oct2020    82905782\n",
       "        9th    Past  28Oct2020  03Nov2020    82905782\n",
       "        10th   Past  04Nov2020  10Nov2020    82905782\n",
       "        11th   Past  11Nov2020  17Nov2020    82905782\n",
       "        12th   Past  18Nov2020  24Nov2020    82905782\n",
       "        13th   Past  25Nov2020  01Dec2020    82905782\n",
       "        14th   Past  02Dec2020  08Dec2020    82905782\n",
       "        15th   Past  09Dec2020  14Dec2020    82905782\n",
       "        16th   Past  15Dec2020  20Dec2020    82905782\n",
       "        17th   Past  21Dec2020  27Dec2020    82905782\n",
       "Norway  0th    Past  15Mar2020  24Mar2020     5311916\n",
       "        1st    Past  25Mar2020  02Apr2020     5311916\n",
       "        2nd    Past  03Apr2020  20Apr2020     5311916\n",
       "        3rd    Past  21Apr2020  02Jun2020     5311916\n",
       "        4th    Past  03Jun2020  09Aug2020     5311916\n",
       "        5th    Past  10Aug2020  04Sep2020     5311916\n",
       "        6th    Past  05Sep2020  20Sep2020     5311916\n",
       "        7th    Past  21Sep2020  05Oct2020     5311916\n",
       "        8th    Past  06Oct2020  20Oct2020     5311916\n",
       "        9th    Past  21Oct2020  28Oct2020     5311916\n",
       "        10th   Past  29Oct2020  03Nov2020     5311916\n",
       "        11th   Past  04Nov2020  09Nov2020     5311916\n",
       "        12th   Past  10Nov2020  22Nov2020     5311916\n",
       "        13th   Past  23Nov2020  29Nov2020     5311916\n",
       "        14th   Past  30Nov2020  07Dec2020     5311916\n",
       "        15th   Past  08Dec2020  14Dec2020     5311916\n",
       "        16th   Past  15Dec2020  20Dec2020     5311916\n",
       "        17th   Past  21Dec2020  27Dec2020     5311916"
      ]
     },
     "execution_count": 10,
     "metadata": {},
     "output_type": "execute_result"
    }
   ],
   "source": [
    "# Here, only show the countries which have the most phases\n",
    "countries_show = max(phase_len_dict.items(), key=lambda x: x[0])[1]\n",
    "# Show summary\n",
    "analyser.summary(countries=countries_show)"
   ]
  },
  {
   "cell_type": "markdown",
   "metadata": {},
   "source": [
    "## Parameter estimation\n",
    "we will estimate the parameter values with SIR-derived ODE models in each country."
   ]
  },
  {
   "cell_type": "code",
   "execution_count": 11,
   "metadata": {
    "collapsed": false,
    "tags": []
   },
   "outputs": [
    {
     "name": "stdout",
     "output_type": "stream",
     "text": [
      "\n",
      "<SIR-F model: parameter estimation>\n",
      "Running optimization with 4 CPUs...\n"
     ]
    },
    {
     "name": "stdout",
     "output_type": "stream",
     "text": [
      "\tDEU,  1st phase (24Mar2020 - 04Apr2020): finished  307 trials in 0 min 10 sec"
     ]
    },
    {
     "name": "stdout",
     "output_type": "stream",
     "text": [
      "\n"
     ]
    },
    {
     "name": "stdout",
     "output_type": "stream",
     "text": [
      "\tPRT,  8th phase (14Oct2020 - 21Oct2020): finished  311 trials in 0 min 10 sec"
     ]
    },
    {
     "name": "stdout",
     "output_type": "stream",
     "text": [
      "\n"
     ]
    },
    {
     "name": "stdout",
     "output_type": "stream",
     "text": [
      "\tGBR,  4th phase (06Aug2020 - 15Sep2020): finished  302 trials in 0 min 10 sec"
     ]
    },
    {
     "name": "stdout",
     "output_type": "stream",
     "text": [
      "\n"
     ]
    },
    {
     "name": "stdout",
     "output_type": "stream",
     "text": [
      "\tNLD,  3rd phase (08Aug2020 - 08Sep2020): finished  303 trials in 0 min 10 sec"
     ]
    },
    {
     "name": "stdout",
     "output_type": "stream",
     "text": [
      "\n"
     ]
    },
    {
     "name": "stdout",
     "output_type": "stream",
     "text": [
      "\tNOR,  1st phase (25Mar2020 - 02Apr2020): finished  328 trials in 0 min 10 sec"
     ]
    },
    {
     "name": "stdout",
     "output_type": "stream",
     "text": [
      "\n"
     ]
    },
    {
     "name": "stdout",
     "output_type": "stream",
     "text": [
      "\tPRT,  5th phase (12Aug2020 - 11Sep2020): finished  322 trials in 0 min 10 sec"
     ]
    },
    {
     "name": "stdout",
     "output_type": "stream",
     "text": [
      "\n"
     ]
    },
    {
     "name": "stdout",
     "output_type": "stream",
     "text": [
      "\tPRT, 15th phase (10Dec2020 - 16Dec2020): finished  331 trials in 0 min 10 sec"
     ]
    },
    {
     "name": "stdout",
     "output_type": "stream",
     "text": [
      "\n"
     ]
    },
    {
     "name": "stdout",
     "output_type": "stream",
     "text": [
      "\tPRT,  4th phase (03Jul2020 - 11Aug2020): finished  317 trials in 0 min 10 sec"
     ]
    },
    {
     "name": "stdout",
     "output_type": "stream",
     "text": [
      "\n"
     ]
    },
    {
     "name": "stdout",
     "output_type": "stream",
     "text": [
      "\tPRT, 14th phase (03Dec2020 - 09Dec2020): finished  312 trials in 0 min 10 sec"
     ]
    },
    {
     "name": "stdout",
     "output_type": "stream",
     "text": [
      "\n"
     ]
    },
    {
     "name": "stdout",
     "output_type": "stream",
     "text": [
      "\tDEU,  9th phase (28Oct2020 - 03Nov2020): finished  339 trials in 0 min 10 sec"
     ]
    },
    {
     "name": "stdout",
     "output_type": "stream",
     "text": [
      "\n"
     ]
    },
    {
     "name": "stdout",
     "output_type": "stream",
     "text": [
      "\tDEU,  3rd phase (22Apr2020 - 17Jun2020): finished  316 trials in 0 min 10 sec"
     ]
    },
    {
     "name": "stdout",
     "output_type": "stream",
     "text": [
      "\n"
     ]
    },
    {
     "name": "stdout",
     "output_type": "stream",
     "text": [
      "\tDEU,  4th phase (18Jun2020 - 15Aug2020): finished  296 trials in 0 min 10 sec"
     ]
    },
    {
     "name": "stdout",
     "output_type": "stream",
     "text": [
      "\n"
     ]
    },
    {
     "name": "stdout",
     "output_type": "stream",
     "text": [
      "\tPRT,  3rd phase (02Jun2020 - 02Jul2020): finished  325 trials in 0 min 10 sec"
     ]
    },
    {
     "name": "stdout",
     "output_type": "stream",
     "text": [
      "\n"
     ]
    },
    {
     "name": "stdout",
     "output_type": "stream",
     "text": [
      "\tNOR,  4th phase (03Jun2020 - 09Aug2020): finished  316 trials in 0 min 10 sec"
     ]
    },
    {
     "name": "stdout",
     "output_type": "stream",
     "text": [
      "\n"
     ]
    },
    {
     "name": "stdout",
     "output_type": "stream",
     "text": [
      "\tMYS,  7th phase (12Oct2020 - 17Oct2020): finished  335 trials in 0 min 10 sec"
     ]
    },
    {
     "name": "stdout",
     "output_type": "stream",
     "text": [
      "\n"
     ]
    },
    {
     "name": "stdout",
     "output_type": "stream",
     "text": [
      "\tMYS,  8th phase (18Oct2020 - 27Oct2020): finished  332 trials in 0 min 10 sec"
     ]
    },
    {
     "name": "stdout",
     "output_type": "stream",
     "text": [
      "\n"
     ]
    },
    {
     "name": "stdout",
     "output_type": "stream",
     "text": [
      "\tPRT,  6th phase (12Sep2020 - 30Sep2020): finished  321 trials in 0 min 10 sec"
     ]
    },
    {
     "name": "stdout",
     "output_type": "stream",
     "text": [
      "\n"
     ]
    },
    {
     "name": "stdout",
     "output_type": "stream",
     "text": [
      "\tMYS, 13th phase (29Nov2020 - 04Dec2020): finished  328 trials in 0 min 10 sec"
     ]
    },
    {
     "name": "stdout",
     "output_type": "stream",
     "text": [
      "\n"
     ]
    },
    {
     "name": "stdout",
     "output_type": "stream",
     "text": [
      "\tDEU,  0th phase (19Jan2020 - 23Mar2020): finished  310 trials in 0 min 10 sec"
     ]
    },
    {
     "name": "stdout",
     "output_type": "stream",
     "text": [
      "\n"
     ]
    },
    {
     "name": "stdout",
     "output_type": "stream",
     "text": [
      "\tGBR,  5th phase (16Sep2020 - 02Oct2020): finished  323 trials in 0 min 10 sec"
     ]
    },
    {
     "name": "stdout",
     "output_type": "stream",
     "text": [
      "\n"
     ]
    },
    {
     "name": "stdout",
     "output_type": "stream",
     "text": [
      "\tPRT, 11th phase (05Nov2020 - 14Nov2020): finished  326 trials in 0 min 10 sec"
     ]
    },
    {
     "name": "stdout",
     "output_type": "stream",
     "text": [
      "\n"
     ]
    },
    {
     "name": "stdout",
     "output_type": "stream",
     "text": [
      "\tMYS,  9th phase (28Oct2020 - 02Nov2020): finished  330 trials in 0 min 10 sec"
     ]
    },
    {
     "name": "stdout",
     "output_type": "stream",
     "text": [
      "\n"
     ]
    },
    {
     "name": "stdout",
     "output_type": "stream",
     "text": [
      "\tNOR,  7th phase (21Sep2020 - 05Oct2020): finished  324 trials in 0 min 10 sec"
     ]
    },
    {
     "name": "stdout",
     "output_type": "stream",
     "text": [
      "\n"
     ]
    },
    {
     "name": "stdout",
     "output_type": "stream",
     "text": [
      "\tGBR,  2nd phase (01May2020 - 27May2020): finished  320 trials in 0 min 10 sec"
     ]
    },
    {
     "name": "stdout",
     "output_type": "stream",
     "text": [
      "\n"
     ]
    },
    {
     "name": "stdout",
     "output_type": "stream",
     "text": [
      "\tMYS, 10th phase (03Nov2020 - 12Nov2020): finished  309 trials in 0 min 10 sec"
     ]
    },
    {
     "name": "stdout",
     "output_type": "stream",
     "text": [
      "\n"
     ]
    },
    {
     "name": "stdout",
     "output_type": "stream",
     "text": [
      "\tGBR, 14th phase (03Dec2020 - 10Dec2020): finished  308 trials in 0 min 10 sec"
     ]
    },
    {
     "name": "stdout",
     "output_type": "stream",
     "text": [
      "\n"
     ]
    },
    {
     "name": "stdout",
     "output_type": "stream",
     "text": [
      "\tMYS, 14th phase (05Dec2020 - 14Dec2020): finished  311 trials in 0 min 10 sec"
     ]
    },
    {
     "name": "stdout",
     "output_type": "stream",
     "text": [
      "\n"
     ]
    },
    {
     "name": "stdout",
     "output_type": "stream",
     "text": [
      "\tNLD, 12th phase (20Nov2020 - 27Nov2020): finished  311 trials in 0 min 10 sec"
     ]
    },
    {
     "name": "stdout",
     "output_type": "stream",
     "text": [
      "\n"
     ]
    },
    {
     "name": "stdout",
     "output_type": "stream",
     "text": [
      "\tNOR, 12th phase (10Nov2020 - 22Nov2020): finished  327 trials in 0 min 10 sec"
     ]
    },
    {
     "name": "stdout",
     "output_type": "stream",
     "text": [
      "\n"
     ]
    },
    {
     "name": "stdout",
     "output_type": "stream",
     "text": [
      "\tNOR, 15th phase (08Dec2020 - 14Dec2020): finished  326 trials in 0 min 10 sec"
     ]
    },
    {
     "name": "stdout",
     "output_type": "stream",
     "text": [
      "\n"
     ]
    },
    {
     "name": "stdout",
     "output_type": "stream",
     "text": [
      "\tDEU, 15th phase (09Dec2020 - 14Dec2020): finished  327 trials in 0 min 10 sec"
     ]
    },
    {
     "name": "stdout",
     "output_type": "stream",
     "text": [
      "\n"
     ]
    },
    {
     "name": "stdout",
     "output_type": "stream",
     "text": [
      "\tPRT,  9th phase (22Oct2020 - 28Oct2020): finished  322 trials in 0 min 10 sec"
     ]
    },
    {
     "name": "stdout",
     "output_type": "stream",
     "text": [
      "\n"
     ]
    },
    {
     "name": "stdout",
     "output_type": "stream",
     "text": [
      "\tNOR, 10th phase (29Oct2020 - 03Nov2020): finished  297 trials in 0 min 10 sec"
     ]
    },
    {
     "name": "stdout",
     "output_type": "stream",
     "text": [
      "\n"
     ]
    },
    {
     "name": "stdout",
     "output_type": "stream",
     "text": [
      "\tMYS,  5th phase (11Sep2020 - 03Oct2020): finished  294 trials in 0 min 10 sec"
     ]
    },
    {
     "name": "stdout",
     "output_type": "stream",
     "text": [
      "\n"
     ]
    },
    {
     "name": "stdout",
     "output_type": "stream",
     "text": [
      "\tDEU,  8th phase (21Oct2020 - 27Oct2020): finished  309 trials in 0 min 10 sec"
     ]
    },
    {
     "name": "stdout",
     "output_type": "stream",
     "text": [
      "\n"
     ]
    },
    {
     "name": "stdout",
     "output_type": "stream",
     "text": [
      "\tPRT,  0th phase (14Mar2020 - 03Apr2020): finished  307 trials in 0 min 10 sec"
     ]
    },
    {
     "name": "stdout",
     "output_type": "stream",
     "text": [
      "\n"
     ]
    },
    {
     "name": "stdout",
     "output_type": "stream",
     "text": [
      "\tPRT, 10th phase (29Oct2020 - 04Nov2020): finished  319 trials in 0 min 10 sec"
     ]
    },
    {
     "name": "stdout",
     "output_type": "stream",
     "text": [
      "\n"
     ]
    },
    {
     "name": "stdout",
     "output_type": "stream",
     "text": [
      "\tNLD, 10th phase (05Nov2020 - 11Nov2020): finished  323 trials in 0 min 10 sec"
     ]
    },
    {
     "name": "stdout",
     "output_type": "stream",
     "text": [
      "\n"
     ]
    },
    {
     "name": "stdout",
     "output_type": "stream",
     "text": [
      "\tNLD,  5th phase (23Sep2020 - 01Oct2020): finished  322 trials in 0 min 10 sec"
     ]
    },
    {
     "name": "stdout",
     "output_type": "stream",
     "text": [
      "\n"
     ]
    },
    {
     "name": "stdout",
     "output_type": "stream",
     "text": [
      "\tNOR,  3rd phase (21Apr2020 - 02Jun2020): finished  310 trials in 0 min 10 sec"
     ]
    },
    {
     "name": "stdout",
     "output_type": "stream",
     "text": [
      "\n"
     ]
    },
    {
     "name": "stdout",
     "output_type": "stream",
     "text": [
      "\tMYS, 12th phase (23Nov2020 - 28Nov2020): finished  319 trials in 0 min 10 sec"
     ]
    },
    {
     "name": "stdout",
     "output_type": "stream",
     "text": [
      "\n"
     ]
    },
    {
     "name": "stdout",
     "output_type": "stream",
     "text": [
      "\tGBR, 13th phase (25Nov2020 - 02Dec2020): finished  317 trials in 0 min 10 sec"
     ]
    },
    {
     "name": "stdout",
     "output_type": "stream",
     "text": [
      "\n"
     ]
    },
    {
     "name": "stdout",
     "output_type": "stream",
     "text": [
      "\tDEU,  6th phase (17Sep2020 - 08Oct2020): finished  308 trials in 0 min 10 sec"
     ]
    },
    {
     "name": "stdout",
     "output_type": "stream",
     "text": [
      "\n"
     ]
    },
    {
     "name": "stdout",
     "output_type": "stream",
     "text": [
      "\tNOR,  6th phase (05Sep2020 - 20Sep2020): finished  312 trials in 0 min 10 sec"
     ]
    },
    {
     "name": "stdout",
     "output_type": "stream",
     "text": [
      "\n"
     ]
    },
    {
     "name": "stdout",
     "output_type": "stream",
     "text": [
      "\tNOR,  0th phase (15Mar2020 - 24Mar2020): finished  315 trials in 0 min 10 sec"
     ]
    },
    {
     "name": "stdout",
     "output_type": "stream",
     "text": [
      "\n"
     ]
    },
    {
     "name": "stdout",
     "output_type": "stream",
     "text": [
      "\tDEU, 13th phase (25Nov2020 - 01Dec2020): finished  316 trials in 0 min 10 sec"
     ]
    },
    {
     "name": "stdout",
     "output_type": "stream",
     "text": [
      "\n"
     ]
    },
    {
     "name": "stdout",
     "output_type": "stream",
     "text": [
      "\tDEU, 12th phase (18Nov2020 - 24Nov2020): finished  317 trials in 0 min 10 sec"
     ]
    },
    {
     "name": "stdout",
     "output_type": "stream",
     "text": [
      "\n"
     ]
    },
    {
     "name": "stdout",
     "output_type": "stream",
     "text": [
      "\tMYS,  2nd phase (09Apr2020 - 01May2020): finished  309 trials in 0 min 10 sec"
     ]
    },
    {
     "name": "stdout",
     "output_type": "stream",
     "text": [
      "\n"
     ]
    },
    {
     "name": "stdout",
     "output_type": "stream",
     "text": [
      "\tDEU, 11th phase (11Nov2020 - 17Nov2020): finished  314 trials in 0 min 10 sec"
     ]
    },
    {
     "name": "stdout",
     "output_type": "stream",
     "text": [
      "\n"
     ]
    },
    {
     "name": "stdout",
     "output_type": "stream",
     "text": [
      "\tNLD,  9th phase (25Oct2020 - 04Nov2020): finished  317 trials in 0 min 10 sec"
     ]
    },
    {
     "name": "stdout",
     "output_type": "stream",
     "text": [
      "\n"
     ]
    },
    {
     "name": "stdout",
     "output_type": "stream",
     "text": [
      "\tNOR,  2nd phase (03Apr2020 - 20Apr2020): finished  310 trials in 0 min 10 sec"
     ]
    },
    {
     "name": "stdout",
     "output_type": "stream",
     "text": [
      "\n"
     ]
    },
    {
     "name": "stdout",
     "output_type": "stream",
     "text": [
      "\tNLD,  1st phase (08Apr2020 - 01May2020): finished  313 trials in 0 min 10 sec"
     ]
    },
    {
     "name": "stdout",
     "output_type": "stream",
     "text": [
      "\n"
     ]
    },
    {
     "name": "stdout",
     "output_type": "stream",
     "text": [
      "\tMYS, 15th phase (15Dec2020 - 20Dec2020): finished  317 trials in 0 min 10 sec"
     ]
    },
    {
     "name": "stdout",
     "output_type": "stream",
     "text": [
      "\n"
     ]
    },
    {
     "name": "stdout",
     "output_type": "stream",
     "text": [
      "\tNLD, 15th phase (11Dec2020 - 16Dec2020): finished  309 trials in 0 min 10 sec"
     ]
    },
    {
     "name": "stdout",
     "output_type": "stream",
     "text": [
      "\n"
     ]
    },
    {
     "name": "stdout",
     "output_type": "stream",
     "text": [
      "\tNLD,  6th phase (02Oct2020 - 08Oct2020): finished  309 trials in 0 min 10 sec"
     ]
    },
    {
     "name": "stdout",
     "output_type": "stream",
     "text": [
      "\n"
     ]
    },
    {
     "name": "stdout",
     "output_type": "stream",
     "text": [
      "\tNOR,  5th phase (10Aug2020 - 04Sep2020): finished  310 trials in 0 min 10 sec"
     ]
    },
    {
     "name": "stdout",
     "output_type": "stream",
     "text": [
      "\n"
     ]
    },
    {
     "name": "stdout",
     "output_type": "stream",
     "text": [
      "\tDEU,  2nd phase (05Apr2020 - 21Apr2020): finished  309 trials in 0 min 10 sec"
     ]
    },
    {
     "name": "stdout",
     "output_type": "stream",
     "text": [
      "\n"
     ]
    },
    {
     "name": "stdout",
     "output_type": "stream",
     "text": [
      "\tNOR,  8th phase (06Oct2020 - 20Oct2020): finished  308 trials in 0 min 10 sec"
     ]
    },
    {
     "name": "stdout",
     "output_type": "stream",
     "text": [
      "\n"
     ]
    },
    {
     "name": "stdout",
     "output_type": "stream",
     "text": [
      "\tNLD,  8th phase (15Oct2020 - 24Oct2020): finished  314 trials in 0 min 10 sec"
     ]
    },
    {
     "name": "stdout",
     "output_type": "stream",
     "text": [
      "\n"
     ]
    },
    {
     "name": "stdout",
     "output_type": "stream",
     "text": [
      "\tNLD, 11th phase (12Nov2020 - 19Nov2020): finished  316 trials in 0 min 10 sec"
     ]
    },
    {
     "name": "stdout",
     "output_type": "stream",
     "text": [
      "\n"
     ]
    },
    {
     "name": "stdout",
     "output_type": "stream",
     "text": [
      "\tNOR, 13th phase (23Nov2020 - 29Nov2020): finished  311 trials in 0 min 10 sec"
     ]
    },
    {
     "name": "stdout",
     "output_type": "stream",
     "text": [
      "\n"
     ]
    },
    {
     "name": "stdout",
     "output_type": "stream",
     "text": [
      "\tNLD,  0th phase (16Mar2020 - 07Apr2020): finished  300 trials in 0 min 10 sec"
     ]
    },
    {
     "name": "stdout",
     "output_type": "stream",
     "text": [
      "\n"
     ]
    },
    {
     "name": "stdout",
     "output_type": "stream",
     "text": [
      "\tGBR,  7th phase (13Oct2020 - 20Oct2020): finished  307 trials in 0 min 10 sec"
     ]
    },
    {
     "name": "stdout",
     "output_type": "stream",
     "text": [
      "\n"
     ]
    },
    {
     "name": "stdout",
     "output_type": "stream",
     "text": [
      "\tDEU, 10th phase (04Nov2020 - 10Nov2020): finished  309 trials in 0 min 10 sec"
     ]
    },
    {
     "name": "stdout",
     "output_type": "stream",
     "text": [
      "\n"
     ]
    },
    {
     "name": "stdout",
     "output_type": "stream",
     "text": [
      "\tDEU,  7th phase (09Oct2020 - 20Oct2020): finished  298 trials in 0 min 10 sec"
     ]
    },
    {
     "name": "stdout",
     "output_type": "stream",
     "text": [
      "\n"
     ]
    },
    {
     "name": "stdout",
     "output_type": "stream",
     "text": [
      "\tMYS,  3rd phase (02May2020 - 01Jun2020): finished  290 trials in 0 min 10 sec"
     ]
    },
    {
     "name": "stdout",
     "output_type": "stream",
     "text": [
      "\n"
     ]
    },
    {
     "name": "stdout",
     "output_type": "stream",
     "text": [
      "\tMYS,  4th phase (02Jun2020 - 10Sep2020): finished  275 trials in 0 min 10 sec"
     ]
    },
    {
     "name": "stdout",
     "output_type": "stream",
     "text": [
      "\n"
     ]
    },
    {
     "name": "stdout",
     "output_type": "stream",
     "text": [
      "\tPRT, 13th phase (26Nov2020 - 02Dec2020): finished  305 trials in 0 min 10 sec"
     ]
    },
    {
     "name": "stdout",
     "output_type": "stream",
     "text": [
      "\n"
     ]
    },
    {
     "name": "stdout",
     "output_type": "stream",
     "text": [
      "\tPRT, 16th phase (17Dec2020 - 27Dec2020): finished  302 trials in 0 min 10 sec"
     ]
    },
    {
     "name": "stdout",
     "output_type": "stream",
     "text": [
      "\n"
     ]
    },
    {
     "name": "stdout",
     "output_type": "stream",
     "text": [
      "\tPRT,  2nd phase (23Apr2020 - 01Jun2020): finished  289 trials in 0 min 10 sec"
     ]
    },
    {
     "name": "stdout",
     "output_type": "stream",
     "text": [
      "\n"
     ]
    },
    {
     "name": "stdout",
     "output_type": "stream",
     "text": [
      "\tGBR,  6th phase (03Oct2020 - 12Oct2020): finished  304 trials in 0 min 10 sec"
     ]
    },
    {
     "name": "stdout",
     "output_type": "stream",
     "text": [
      "\n"
     ]
    },
    {
     "name": "stdout",
     "output_type": "stream",
     "text": [
      "\tNOR, 14th phase (30Nov2020 - 07Dec2020): finished  300 trials in 0 min 10 sec"
     ]
    },
    {
     "name": "stdout",
     "output_type": "stream",
     "text": [
      "\n"
     ]
    },
    {
     "name": "stdout",
     "output_type": "stream",
     "text": [
      "\tGBR,  1st phase (10Apr2020 - 30Apr2020): finished  308 trials in 0 min 10 sec"
     ]
    },
    {
     "name": "stdout",
     "output_type": "stream",
     "text": [
      "\n"
     ]
    },
    {
     "name": "stdout",
     "output_type": "stream",
     "text": [
      "\tNOR, 11th phase (04Nov2020 - 09Nov2020): finished  315 trials in 0 min 10 sec"
     ]
    },
    {
     "name": "stdout",
     "output_type": "stream",
     "text": [
      "\n"
     ]
    },
    {
     "name": "stdout",
     "output_type": "stream",
     "text": [
      "\tNLD,  2nd phase (02May2020 - 07Aug2020): finished  286 trials in 0 min 10 sec"
     ]
    },
    {
     "name": "stdout",
     "output_type": "stream",
     "text": [
      "\n"
     ]
    },
    {
     "name": "stdout",
     "output_type": "stream",
     "text": [
      "\tNLD,  7th phase (09Oct2020 - 14Oct2020): finished  316 trials in 0 min 10 sec"
     ]
    },
    {
     "name": "stdout",
     "output_type": "stream",
     "text": [
      "\n"
     ]
    },
    {
     "name": "stdout",
     "output_type": "stream",
     "text": [
      "\tPRT,  1st phase (04Apr2020 - 22Apr2020): finished  274 trials in 0 min 10 sec"
     ]
    },
    {
     "name": "stdout",
     "output_type": "stream",
     "text": [
      "\n"
     ]
    },
    {
     "name": "stdout",
     "output_type": "stream",
     "text": [
      "\tNOR,  9th phase (21Oct2020 - 28Oct2020): finished  280 trials in 0 min 10 sec"
     ]
    },
    {
     "name": "stdout",
     "output_type": "stream",
     "text": [
      "\n"
     ]
    },
    {
     "name": "stdout",
     "output_type": "stream",
     "text": [
      "\tGBR,  3rd phase (28May2020 - 05Aug2020): finished  262 trials in 0 min 10 sec"
     ]
    },
    {
     "name": "stdout",
     "output_type": "stream",
     "text": [
      "\n"
     ]
    },
    {
     "name": "stdout",
     "output_type": "stream",
     "text": [
      "\tDEU,  5th phase (16Aug2020 - 16Sep2020): finished  271 trials in 0 min 10 sec"
     ]
    },
    {
     "name": "stdout",
     "output_type": "stream",
     "text": [
      "\n"
     ]
    },
    {
     "name": "stdout",
     "output_type": "stream",
     "text": [
      "\tDEU, 14th phase (02Dec2020 - 08Dec2020): finished  324 trials in 0 min 10 sec"
     ]
    },
    {
     "name": "stdout",
     "output_type": "stream",
     "text": [
      "\n"
     ]
    },
    {
     "name": "stdout",
     "output_type": "stream",
     "text": [
      "\tMYS, 11th phase (13Nov2020 - 22Nov2020): finished  322 trials in 0 min 10 sec"
     ]
    },
    {
     "name": "stdout",
     "output_type": "stream",
     "text": [
      "\n"
     ]
    },
    {
     "name": "stdout",
     "output_type": "stream",
     "text": [
      "\tGBR,  0th phase (23Feb2020 - 09Apr2020): finished  309 trials in 0 min 10 sec"
     ]
    },
    {
     "name": "stdout",
     "output_type": "stream",
     "text": [
      "\n"
     ]
    },
    {
     "name": "stdout",
     "output_type": "stream",
     "text": [
      "\tMYS,  6th phase (04Oct2020 - 11Oct2020): finished  321 trials in 0 min 10 sec"
     ]
    },
    {
     "name": "stdout",
     "output_type": "stream",
     "text": [
      "\n"
     ]
    },
    {
     "name": "stdout",
     "output_type": "stream",
     "text": [
      "\tNLD, 14th phase (05Dec2020 - 10Dec2020): finished  324 trials in 0 min 10 sec"
     ]
    },
    {
     "name": "stdout",
     "output_type": "stream",
     "text": [
      "\n"
     ]
    },
    {
     "name": "stdout",
     "output_type": "stream",
     "text": [
      "\tMYS, 16th phase (21Dec2020 - 27Dec2020): finished  324 trials in 0 min 10 sec"
     ]
    },
    {
     "name": "stdout",
     "output_type": "stream",
     "text": [
      "\n"
     ]
    },
    {
     "name": "stdout",
     "output_type": "stream",
     "text": [
      "\tPRT,  7th phase (01Oct2020 - 13Oct2020): finished  319 trials in 0 min 10 sec"
     ]
    },
    {
     "name": "stdout",
     "output_type": "stream",
     "text": [
      "\n"
     ]
    },
    {
     "name": "stdout",
     "output_type": "stream",
     "text": [
      "\tNLD,  4th phase (09Sep2020 - 22Sep2020): finished  320 trials in 0 min 10 sec"
     ]
    },
    {
     "name": "stdout",
     "output_type": "stream",
     "text": [
      "\n"
     ]
    },
    {
     "name": "stdout",
     "output_type": "stream",
     "text": [
      "\tPRT, 12th phase (15Nov2020 - 25Nov2020): finished  323 trials in 0 min 10 sec"
     ]
    },
    {
     "name": "stdout",
     "output_type": "stream",
     "text": [
      "\n"
     ]
    },
    {
     "name": "stdout",
     "output_type": "stream",
     "text": [
      "\tMYS,  1st phase (25Mar2020 - 08Apr2020): finished  321 trials in 0 min 10 sec"
     ]
    },
    {
     "name": "stdout",
     "output_type": "stream",
     "text": [
      "\n"
     ]
    },
    {
     "name": "stdout",
     "output_type": "stream",
     "text": [
      "\tNLD, 13th phase (28Nov2020 - 04Dec2020): finished  327 trials in 0 min 10 sec"
     ]
    },
    {
     "name": "stdout",
     "output_type": "stream",
     "text": [
      "\n"
     ]
    },
    {
     "name": "stdout",
     "output_type": "stream",
     "text": [
      "\tMYS,  0th phase (11Feb2020 - 24Mar2020): finished  317 trials in 0 min 10 sec"
     ]
    },
    {
     "name": "stdout",
     "output_type": "stream",
     "text": [
      "\n"
     ]
    },
    {
     "name": "stdout",
     "output_type": "stream",
     "text": [
      "Completed optimization. Total: 4 min 17 sec\n"
     ]
    }
   ],
   "source": [
    "# Parameter estimation with SIR-F model\n",
    "analyser.estimate(cs.SIRF, timeout=10)"
   ]
  },
  {
   "cell_type": "code",
   "execution_count": 12,
   "metadata": {
    "collapsed": false
   },
   "outputs": [
    {
     "data": {
      "text/html": [
       "<div>\n",
       "<style scoped>\n",
       "    .dataframe tbody tr th:only-of-type {\n",
       "        vertical-align: middle;\n",
       "    }\n",
       "\n",
       "    .dataframe tbody tr th {\n",
       "        vertical-align: top;\n",
       "    }\n",
       "\n",
       "    .dataframe thead th {\n",
       "        text-align: right;\n",
       "    }\n",
       "</style>\n",
       "<table border=\"1\" class=\"dataframe\">\n",
       "  <thead>\n",
       "    <tr style=\"text-align: right;\">\n",
       "      <th></th>\n",
       "      <th></th>\n",
       "      <th>Type</th>\n",
       "      <th>Start</th>\n",
       "      <th>End</th>\n",
       "      <th>Population</th>\n",
       "      <th>ODE</th>\n",
       "      <th>Rt</th>\n",
       "      <th>theta</th>\n",
       "      <th>kappa</th>\n",
       "      <th>rho</th>\n",
       "      <th>sigma</th>\n",
       "      <th>tau</th>\n",
       "      <th>1/alpha2 [day]</th>\n",
       "      <th>1/gamma [day]</th>\n",
       "      <th>alpha1 [-]</th>\n",
       "      <th>1/beta [day]</th>\n",
       "      <th>RMSLE</th>\n",
       "      <th>Trials</th>\n",
       "      <th>Runtime</th>\n",
       "    </tr>\n",
       "    <tr>\n",
       "      <th>Country</th>\n",
       "      <th>Phase</th>\n",
       "      <th></th>\n",
       "      <th></th>\n",
       "      <th></th>\n",
       "      <th></th>\n",
       "      <th></th>\n",
       "      <th></th>\n",
       "      <th></th>\n",
       "      <th></th>\n",
       "      <th></th>\n",
       "      <th></th>\n",
       "      <th></th>\n",
       "      <th></th>\n",
       "      <th></th>\n",
       "      <th></th>\n",
       "      <th></th>\n",
       "      <th></th>\n",
       "      <th></th>\n",
       "      <th></th>\n",
       "    </tr>\n",
       "  </thead>\n",
       "  <tbody>\n",
       "    <tr>\n",
       "      <th rowspan=\"18\" valign=\"top\">Germany</th>\n",
       "      <th>0th</th>\n",
       "      <td>Past</td>\n",
       "      <td>19Jan2020</td>\n",
       "      <td>23Mar2020</td>\n",
       "      <td>82905782</td>\n",
       "      <td>SIR-F</td>\n",
       "      <td>30.65</td>\n",
       "      <td>0.000158258</td>\n",
       "      <td>0.000153043</td>\n",
       "      <td>0.0323128</td>\n",
       "      <td>0.000901171</td>\n",
       "      <td>360</td>\n",
       "      <td>1633</td>\n",
       "      <td>277</td>\n",
       "      <td>0</td>\n",
       "      <td>7</td>\n",
       "      <td>1.05042</td>\n",
       "      <td>310</td>\n",
       "      <td>0 min 10 sec</td>\n",
       "    </tr>\n",
       "    <tr>\n",
       "      <th>1st</th>\n",
       "      <td>Past</td>\n",
       "      <td>24Mar2020</td>\n",
       "      <td>04Apr2020</td>\n",
       "      <td>82905782</td>\n",
       "      <td>SIR-F</td>\n",
       "      <td>4.78</td>\n",
       "      <td>0.0163325</td>\n",
       "      <td>0.000982532</td>\n",
       "      <td>0.0227415</td>\n",
       "      <td>0.00369525</td>\n",
       "      <td>360</td>\n",
       "      <td>254</td>\n",
       "      <td>67</td>\n",
       "      <td>0.016</td>\n",
       "      <td>10</td>\n",
       "      <td>0.164627</td>\n",
       "      <td>307</td>\n",
       "      <td>0 min 10 sec</td>\n",
       "    </tr>\n",
       "    <tr>\n",
       "      <th>2nd</th>\n",
       "      <td>Past</td>\n",
       "      <td>05Apr2020</td>\n",
       "      <td>21Apr2020</td>\n",
       "      <td>82905782</td>\n",
       "      <td>SIR-F</td>\n",
       "      <td>0.66</td>\n",
       "      <td>0.0184018</td>\n",
       "      <td>0.000556605</td>\n",
       "      <td>0.0121387</td>\n",
       "      <td>0.0174393</td>\n",
       "      <td>360</td>\n",
       "      <td>449</td>\n",
       "      <td>14</td>\n",
       "      <td>0.018</td>\n",
       "      <td>20</td>\n",
       "      <td>0.0869251</td>\n",
       "      <td>309</td>\n",
       "      <td>0 min 10 sec</td>\n",
       "    </tr>\n",
       "    <tr>\n",
       "      <th>3rd</th>\n",
       "      <td>Past</td>\n",
       "      <td>22Apr2020</td>\n",
       "      <td>17Jun2020</td>\n",
       "      <td>82905782</td>\n",
       "      <td>SIR-F</td>\n",
       "      <td>0.53</td>\n",
       "      <td>0.0161643</td>\n",
       "      <td>0.000162385</td>\n",
       "      <td>0.0124085</td>\n",
       "      <td>0.0230873</td>\n",
       "      <td>360</td>\n",
       "      <td>1539</td>\n",
       "      <td>10</td>\n",
       "      <td>0.016</td>\n",
       "      <td>20</td>\n",
       "      <td>0.098875</td>\n",
       "      <td>316</td>\n",
       "      <td>0 min 10 sec</td>\n",
       "    </tr>\n",
       "    <tr>\n",
       "      <th>4th</th>\n",
       "      <td>Past</td>\n",
       "      <td>18Jun2020</td>\n",
       "      <td>15Aug2020</td>\n",
       "      <td>82905782</td>\n",
       "      <td>SIR-F</td>\n",
       "      <td>1.15</td>\n",
       "      <td>0.00379861</td>\n",
       "      <td>1.85307e-06</td>\n",
       "      <td>0.0162702</td>\n",
       "      <td>0.0141322</td>\n",
       "      <td>360</td>\n",
       "      <td>134910</td>\n",
       "      <td>17</td>\n",
       "      <td>0.004</td>\n",
       "      <td>15</td>\n",
       "      <td>0.115411</td>\n",
       "      <td>296</td>\n",
       "      <td>0 min 10 sec</td>\n",
       "    </tr>\n",
       "    <tr>\n",
       "      <th>5th</th>\n",
       "      <td>Past</td>\n",
       "      <td>16Aug2020</td>\n",
       "      <td>16Sep2020</td>\n",
       "      <td>82905782</td>\n",
       "      <td>SIR-F</td>\n",
       "      <td>1.31</td>\n",
       "      <td>0.00156721</td>\n",
       "      <td>0.000191478</td>\n",
       "      <td>0.0163251</td>\n",
       "      <td>0.0122403</td>\n",
       "      <td>360</td>\n",
       "      <td>1305</td>\n",
       "      <td>20</td>\n",
       "      <td>0.002</td>\n",
       "      <td>15</td>\n",
       "      <td>0.0642106</td>\n",
       "      <td>271</td>\n",
       "      <td>0 min 10 sec</td>\n",
       "    </tr>\n",
       "    <tr>\n",
       "      <th>6th</th>\n",
       "      <td>Past</td>\n",
       "      <td>17Sep2020</td>\n",
       "      <td>08Oct2020</td>\n",
       "      <td>82905782</td>\n",
       "      <td>SIR-F</td>\n",
       "      <td>1.34</td>\n",
       "      <td>0.000425864</td>\n",
       "      <td>7.95615e-05</td>\n",
       "      <td>0.0187149</td>\n",
       "      <td>0.0138663</td>\n",
       "      <td>360</td>\n",
       "      <td>3142</td>\n",
       "      <td>18</td>\n",
       "      <td>0</td>\n",
       "      <td>13</td>\n",
       "      <td>0.0283514</td>\n",
       "      <td>308</td>\n",
       "      <td>0 min 10 sec</td>\n",
       "    </tr>\n",
       "    <tr>\n",
       "      <th>7th</th>\n",
       "      <td>Past</td>\n",
       "      <td>09Oct2020</td>\n",
       "      <td>20Oct2020</td>\n",
       "      <td>82905782</td>\n",
       "      <td>SIR-F</td>\n",
       "      <td>3.13</td>\n",
       "      <td>0.000676492</td>\n",
       "      <td>6.74045e-05</td>\n",
       "      <td>0.0257738</td>\n",
       "      <td>0.00815667</td>\n",
       "      <td>360</td>\n",
       "      <td>3708</td>\n",
       "      <td>30</td>\n",
       "      <td>0.001</td>\n",
       "      <td>9</td>\n",
       "      <td>0.0649951</td>\n",
       "      <td>298</td>\n",
       "      <td>0 min 10 sec</td>\n",
       "    </tr>\n",
       "    <tr>\n",
       "      <th>8th</th>\n",
       "      <td>Past</td>\n",
       "      <td>21Oct2020</td>\n",
       "      <td>27Oct2020</td>\n",
       "      <td>82905782</td>\n",
       "      <td>SIR-F</td>\n",
       "      <td>3.03</td>\n",
       "      <td>0.00261679</td>\n",
       "      <td>0.000301315</td>\n",
       "      <td>0.0272942</td>\n",
       "      <td>0.00868869</td>\n",
       "      <td>360</td>\n",
       "      <td>829</td>\n",
       "      <td>28</td>\n",
       "      <td>0.003</td>\n",
       "      <td>9</td>\n",
       "      <td>0.0196311</td>\n",
       "      <td>309</td>\n",
       "      <td>0 min 10 sec</td>\n",
       "    </tr>\n",
       "    <tr>\n",
       "      <th>9th</th>\n",
       "      <td>Past</td>\n",
       "      <td>28Oct2020</td>\n",
       "      <td>03Nov2020</td>\n",
       "      <td>82905782</td>\n",
       "      <td>SIR-F</td>\n",
       "      <td>2.3</td>\n",
       "      <td>0.00025608</td>\n",
       "      <td>0.000256566</td>\n",
       "      <td>0.0181455</td>\n",
       "      <td>0.00764573</td>\n",
       "      <td>360</td>\n",
       "      <td>974</td>\n",
       "      <td>32</td>\n",
       "      <td>0</td>\n",
       "      <td>13</td>\n",
       "      <td>0.0354713</td>\n",
       "      <td>339</td>\n",
       "      <td>0 min 10 sec</td>\n",
       "    </tr>\n",
       "    <tr>\n",
       "      <th>10th</th>\n",
       "      <td>Past</td>\n",
       "      <td>04Nov2020</td>\n",
       "      <td>10Nov2020</td>\n",
       "      <td>82905782</td>\n",
       "      <td>SIR-F</td>\n",
       "      <td>1.46</td>\n",
       "      <td>0.000663153</td>\n",
       "      <td>0.000234996</td>\n",
       "      <td>0.0175328</td>\n",
       "      <td>0.0117848</td>\n",
       "      <td>360</td>\n",
       "      <td>1063</td>\n",
       "      <td>21</td>\n",
       "      <td>0.001</td>\n",
       "      <td>14</td>\n",
       "      <td>0.0239349</td>\n",
       "      <td>309</td>\n",
       "      <td>0 min 10 sec</td>\n",
       "    </tr>\n",
       "    <tr>\n",
       "      <th>11th</th>\n",
       "      <td>Past</td>\n",
       "      <td>11Nov2020</td>\n",
       "      <td>17Nov2020</td>\n",
       "      <td>82905782</td>\n",
       "      <td>SIR-F</td>\n",
       "      <td>1.05</td>\n",
       "      <td>0.0162359</td>\n",
       "      <td>4.55898e-06</td>\n",
       "      <td>0.017074</td>\n",
       "      <td>0.0159345</td>\n",
       "      <td>360</td>\n",
       "      <td>54836</td>\n",
       "      <td>15</td>\n",
       "      <td>0.016</td>\n",
       "      <td>14</td>\n",
       "      <td>0.0192349</td>\n",
       "      <td>314</td>\n",
       "      <td>0 min 10 sec</td>\n",
       "    </tr>\n",
       "    <tr>\n",
       "      <th>12th</th>\n",
       "      <td>Past</td>\n",
       "      <td>18Nov2020</td>\n",
       "      <td>24Nov2020</td>\n",
       "      <td>82905782</td>\n",
       "      <td>SIR-F</td>\n",
       "      <td>0.86</td>\n",
       "      <td>0.0163381</td>\n",
       "      <td>4.55898e-06</td>\n",
       "      <td>0.0152931</td>\n",
       "      <td>0.0174301</td>\n",
       "      <td>360</td>\n",
       "      <td>54836</td>\n",
       "      <td>14</td>\n",
       "      <td>0.016</td>\n",
       "      <td>16</td>\n",
       "      <td>0.0208191</td>\n",
       "      <td>317</td>\n",
       "      <td>0 min 10 sec</td>\n",
       "    </tr>\n",
       "    <tr>\n",
       "      <th>13th</th>\n",
       "      <td>Past</td>\n",
       "      <td>25Nov2020</td>\n",
       "      <td>01Dec2020</td>\n",
       "      <td>82905782</td>\n",
       "      <td>SIR-F</td>\n",
       "      <td>0.92</td>\n",
       "      <td>0.000322669</td>\n",
       "      <td>0.000158406</td>\n",
       "      <td>0.0146422</td>\n",
       "      <td>0.0157984</td>\n",
       "      <td>360</td>\n",
       "      <td>1578</td>\n",
       "      <td>15</td>\n",
       "      <td>0</td>\n",
       "      <td>17</td>\n",
       "      <td>0.0255224</td>\n",
       "      <td>316</td>\n",
       "      <td>0 min 10 sec</td>\n",
       "    </tr>\n",
       "    <tr>\n",
       "      <th>14th</th>\n",
       "      <td>Past</td>\n",
       "      <td>02Dec2020</td>\n",
       "      <td>08Dec2020</td>\n",
       "      <td>82905782</td>\n",
       "      <td>SIR-F</td>\n",
       "      <td>0.98</td>\n",
       "      <td>0.00269604</td>\n",
       "      <td>0.000301055</td>\n",
       "      <td>0.0188815</td>\n",
       "      <td>0.018845</td>\n",
       "      <td>360</td>\n",
       "      <td>830</td>\n",
       "      <td>13</td>\n",
       "      <td>0.003</td>\n",
       "      <td>13</td>\n",
       "      <td>0.0180755</td>\n",
       "      <td>324</td>\n",
       "      <td>0 min 10 sec</td>\n",
       "    </tr>\n",
       "    <tr>\n",
       "      <th>15th</th>\n",
       "      <td>Past</td>\n",
       "      <td>09Dec2020</td>\n",
       "      <td>14Dec2020</td>\n",
       "      <td>82905782</td>\n",
       "      <td>SIR-F</td>\n",
       "      <td>1.18</td>\n",
       "      <td>0.0155796</td>\n",
       "      <td>4.05568e-05</td>\n",
       "      <td>0.0186713</td>\n",
       "      <td>0.0155951</td>\n",
       "      <td>360</td>\n",
       "      <td>6164</td>\n",
       "      <td>16</td>\n",
       "      <td>0.016</td>\n",
       "      <td>13</td>\n",
       "      <td>0.0168377</td>\n",
       "      <td>327</td>\n",
       "      <td>0 min 10 sec</td>\n",
       "    </tr>\n",
       "    <tr>\n",
       "      <th>16th</th>\n",
       "      <td>Past</td>\n",
       "      <td>15Dec2020</td>\n",
       "      <td>20Dec2020</td>\n",
       "      <td>82905782</td>\n",
       "      <td>-</td>\n",
       "      <td>-</td>\n",
       "      <td>-</td>\n",
       "      <td>-</td>\n",
       "      <td>-</td>\n",
       "      <td>-</td>\n",
       "      <td>-</td>\n",
       "      <td>-</td>\n",
       "      <td>-</td>\n",
       "      <td>-</td>\n",
       "      <td>-</td>\n",
       "      <td>-</td>\n",
       "      <td>-</td>\n",
       "      <td>-</td>\n",
       "    </tr>\n",
       "    <tr>\n",
       "      <th>17th</th>\n",
       "      <td>Past</td>\n",
       "      <td>21Dec2020</td>\n",
       "      <td>27Dec2020</td>\n",
       "      <td>82905782</td>\n",
       "      <td>-</td>\n",
       "      <td>-</td>\n",
       "      <td>-</td>\n",
       "      <td>-</td>\n",
       "      <td>-</td>\n",
       "      <td>-</td>\n",
       "      <td>-</td>\n",
       "      <td>-</td>\n",
       "      <td>-</td>\n",
       "      <td>-</td>\n",
       "      <td>-</td>\n",
       "      <td>-</td>\n",
       "      <td>-</td>\n",
       "      <td>-</td>\n",
       "    </tr>\n",
       "    <tr>\n",
       "      <th rowspan=\"18\" valign=\"top\">Norway</th>\n",
       "      <th>0th</th>\n",
       "      <td>Past</td>\n",
       "      <td>15Mar2020</td>\n",
       "      <td>24Mar2020</td>\n",
       "      <td>5311916</td>\n",
       "      <td>SIR-F</td>\n",
       "      <td>11.3</td>\n",
       "      <td>0.00167109</td>\n",
       "      <td>7.11105e-05</td>\n",
       "      <td>0.0237204</td>\n",
       "      <td>0.00202426</td>\n",
       "      <td>360</td>\n",
       "      <td>3515</td>\n",
       "      <td>123</td>\n",
       "      <td>0.002</td>\n",
       "      <td>10</td>\n",
       "      <td>0.256972</td>\n",
       "      <td>315</td>\n",
       "      <td>0 min 10 sec</td>\n",
       "    </tr>\n",
       "    <tr>\n",
       "      <th>1st</th>\n",
       "      <td>Past</td>\n",
       "      <td>25Mar2020</td>\n",
       "      <td>02Apr2020</td>\n",
       "      <td>5311916</td>\n",
       "      <td>SIR-F</td>\n",
       "      <td>1.4</td>\n",
       "      <td>0.00728322</td>\n",
       "      <td>0.000180071</td>\n",
       "      <td>0.0189406</td>\n",
       "      <td>0.013243</td>\n",
       "      <td>360</td>\n",
       "      <td>1388</td>\n",
       "      <td>18</td>\n",
       "      <td>0.007</td>\n",
       "      <td>13</td>\n",
       "      <td>0.135763</td>\n",
       "      <td>328</td>\n",
       "      <td>0 min 10 sec</td>\n",
       "    </tr>\n",
       "    <tr>\n",
       "      <th>2nd</th>\n",
       "      <td>Past</td>\n",
       "      <td>03Apr2020</td>\n",
       "      <td>20Apr2020</td>\n",
       "      <td>5311916</td>\n",
       "      <td>SIR-F</td>\n",
       "      <td>0.29</td>\n",
       "      <td>0.0724657</td>\n",
       "      <td>0.000158361</td>\n",
       "      <td>0.0079601</td>\n",
       "      <td>0.0251777</td>\n",
       "      <td>360</td>\n",
       "      <td>1578</td>\n",
       "      <td>9</td>\n",
       "      <td>0.072</td>\n",
       "      <td>31</td>\n",
       "      <td>0.225087</td>\n",
       "      <td>310</td>\n",
       "      <td>0 min 10 sec</td>\n",
       "    </tr>\n",
       "    <tr>\n",
       "      <th>3rd</th>\n",
       "      <td>Past</td>\n",
       "      <td>21Apr2020</td>\n",
       "      <td>02Jun2020</td>\n",
       "      <td>5311916</td>\n",
       "      <td>SIR-F</td>\n",
       "      <td>0.42</td>\n",
       "      <td>0.0677763</td>\n",
       "      <td>4.05582e-05</td>\n",
       "      <td>0.00963561</td>\n",
       "      <td>0.0213781</td>\n",
       "      <td>360</td>\n",
       "      <td>6163</td>\n",
       "      <td>11</td>\n",
       "      <td>0.068</td>\n",
       "      <td>25</td>\n",
       "      <td>0.078545</td>\n",
       "      <td>310</td>\n",
       "      <td>0 min 10 sec</td>\n",
       "    </tr>\n",
       "    <tr>\n",
       "      <th>4th</th>\n",
       "      <td>Past</td>\n",
       "      <td>03Jun2020</td>\n",
       "      <td>09Aug2020</td>\n",
       "      <td>5311916</td>\n",
       "      <td>SIR-F</td>\n",
       "      <td>0.99</td>\n",
       "      <td>0.0222803</td>\n",
       "      <td>0.000151252</td>\n",
       "      <td>0.0173497</td>\n",
       "      <td>0.0169672</td>\n",
       "      <td>360</td>\n",
       "      <td>1652</td>\n",
       "      <td>14</td>\n",
       "      <td>0.022</td>\n",
       "      <td>14</td>\n",
       "      <td>0.187151</td>\n",
       "      <td>316</td>\n",
       "      <td>0 min 10 sec</td>\n",
       "    </tr>\n",
       "    <tr>\n",
       "      <th>5th</th>\n",
       "      <td>Past</td>\n",
       "      <td>10Aug2020</td>\n",
       "      <td>04Sep2020</td>\n",
       "      <td>5311916</td>\n",
       "      <td>SIR-F</td>\n",
       "      <td>1.46</td>\n",
       "      <td>0.00108763</td>\n",
       "      <td>0.000191431</td>\n",
       "      <td>0.0200583</td>\n",
       "      <td>0.0135535</td>\n",
       "      <td>360</td>\n",
       "      <td>1305</td>\n",
       "      <td>18</td>\n",
       "      <td>0.001</td>\n",
       "      <td>12</td>\n",
       "      <td>0.0667907</td>\n",
       "      <td>310</td>\n",
       "      <td>0 min 10 sec</td>\n",
       "    </tr>\n",
       "    <tr>\n",
       "      <th>6th</th>\n",
       "      <td>Past</td>\n",
       "      <td>05Sep2020</td>\n",
       "      <td>20Sep2020</td>\n",
       "      <td>5311916</td>\n",
       "      <td>SIR-F</td>\n",
       "      <td>1.49</td>\n",
       "      <td>0.0165195</td>\n",
       "      <td>7.93545e-05</td>\n",
       "      <td>0.0182368</td>\n",
       "      <td>0.0119898</td>\n",
       "      <td>360</td>\n",
       "      <td>3150</td>\n",
       "      <td>20</td>\n",
       "      <td>0.017</td>\n",
       "      <td>13</td>\n",
       "      <td>0.0973218</td>\n",
       "      <td>312</td>\n",
       "      <td>0 min 10 sec</td>\n",
       "    </tr>\n",
       "    <tr>\n",
       "      <th>7th</th>\n",
       "      <td>Past</td>\n",
       "      <td>21Sep2020</td>\n",
       "      <td>05Oct2020</td>\n",
       "      <td>5311916</td>\n",
       "      <td>SIR-F</td>\n",
       "      <td>1.05</td>\n",
       "      <td>0.000900068</td>\n",
       "      <td>7.11105e-05</td>\n",
       "      <td>0.0171967</td>\n",
       "      <td>0.0163265</td>\n",
       "      <td>360</td>\n",
       "      <td>3515</td>\n",
       "      <td>15</td>\n",
       "      <td>0.001</td>\n",
       "      <td>14</td>\n",
       "      <td>0.020038</td>\n",
       "      <td>324</td>\n",
       "      <td>0 min 10 sec</td>\n",
       "    </tr>\n",
       "    <tr>\n",
       "      <th>8th</th>\n",
       "      <td>Past</td>\n",
       "      <td>06Oct2020</td>\n",
       "      <td>20Oct2020</td>\n",
       "      <td>5311916</td>\n",
       "      <td>SIR-F</td>\n",
       "      <td>1.25</td>\n",
       "      <td>0.000900068</td>\n",
       "      <td>7.11105e-05</td>\n",
       "      <td>0.0176816</td>\n",
       "      <td>0.0140123</td>\n",
       "      <td>360</td>\n",
       "      <td>3515</td>\n",
       "      <td>17</td>\n",
       "      <td>0.001</td>\n",
       "      <td>14</td>\n",
       "      <td>0.0349302</td>\n",
       "      <td>308</td>\n",
       "      <td>0 min 10 sec</td>\n",
       "    </tr>\n",
       "    <tr>\n",
       "      <th>9th</th>\n",
       "      <td>Past</td>\n",
       "      <td>21Oct2020</td>\n",
       "      <td>28Oct2020</td>\n",
       "      <td>5311916</td>\n",
       "      <td>SIR-F</td>\n",
       "      <td>1.85</td>\n",
       "      <td>0.000489999</td>\n",
       "      <td>9.6334e-05</td>\n",
       "      <td>0.0263457</td>\n",
       "      <td>0.0141364</td>\n",
       "      <td>360</td>\n",
       "      <td>2595</td>\n",
       "      <td>17</td>\n",
       "      <td>0</td>\n",
       "      <td>9</td>\n",
       "      <td>0.034558</td>\n",
       "      <td>280</td>\n",
       "      <td>0 min 10 sec</td>\n",
       "    </tr>\n",
       "    <tr>\n",
       "      <th>10th</th>\n",
       "      <td>Past</td>\n",
       "      <td>29Oct2020</td>\n",
       "      <td>03Nov2020</td>\n",
       "      <td>5311916</td>\n",
       "      <td>SIR-F</td>\n",
       "      <td>3.43</td>\n",
       "      <td>0.000676492</td>\n",
       "      <td>6.74045e-05</td>\n",
       "      <td>0.0263026</td>\n",
       "      <td>0.0075897</td>\n",
       "      <td>360</td>\n",
       "      <td>3708</td>\n",
       "      <td>32</td>\n",
       "      <td>0.001</td>\n",
       "      <td>9</td>\n",
       "      <td>0.0258377</td>\n",
       "      <td>297</td>\n",
       "      <td>0 min 10 sec</td>\n",
       "    </tr>\n",
       "    <tr>\n",
       "      <th>11th</th>\n",
       "      <td>Past</td>\n",
       "      <td>04Nov2020</td>\n",
       "      <td>09Nov2020</td>\n",
       "      <td>5311916</td>\n",
       "      <td>SIR-F</td>\n",
       "      <td>2.58</td>\n",
       "      <td>0.00045096</td>\n",
       "      <td>7.93029e-05</td>\n",
       "      <td>0.0194899</td>\n",
       "      <td>0.00746137</td>\n",
       "      <td>360</td>\n",
       "      <td>3152</td>\n",
       "      <td>33</td>\n",
       "      <td>0</td>\n",
       "      <td>12</td>\n",
       "      <td>0.0184489</td>\n",
       "      <td>315</td>\n",
       "      <td>0 min 10 sec</td>\n",
       "    </tr>\n",
       "    <tr>\n",
       "      <th>12th</th>\n",
       "      <td>Past</td>\n",
       "      <td>10Nov2020</td>\n",
       "      <td>22Nov2020</td>\n",
       "      <td>5311916</td>\n",
       "      <td>SIR-F</td>\n",
       "      <td>1.41</td>\n",
       "      <td>0.000438438</td>\n",
       "      <td>9.82128e-05</td>\n",
       "      <td>0.0172607</td>\n",
       "      <td>0.0121353</td>\n",
       "      <td>360</td>\n",
       "      <td>2545</td>\n",
       "      <td>20</td>\n",
       "      <td>0</td>\n",
       "      <td>14</td>\n",
       "      <td>0.0395143</td>\n",
       "      <td>327</td>\n",
       "      <td>0 min 10 sec</td>\n",
       "    </tr>\n",
       "    <tr>\n",
       "      <th>13th</th>\n",
       "      <td>Past</td>\n",
       "      <td>23Nov2020</td>\n",
       "      <td>29Nov2020</td>\n",
       "      <td>5311916</td>\n",
       "      <td>SIR-F</td>\n",
       "      <td>0.83</td>\n",
       "      <td>0.00180556</td>\n",
       "      <td>9.34529e-05</td>\n",
       "      <td>0.0135212</td>\n",
       "      <td>0.0161736</td>\n",
       "      <td>360</td>\n",
       "      <td>2675</td>\n",
       "      <td>15</td>\n",
       "      <td>0.002</td>\n",
       "      <td>18</td>\n",
       "      <td>0.0201247</td>\n",
       "      <td>311</td>\n",
       "      <td>0 min 10 sec</td>\n",
       "    </tr>\n",
       "    <tr>\n",
       "      <th>14th</th>\n",
       "      <td>Past</td>\n",
       "      <td>30Nov2020</td>\n",
       "      <td>07Dec2020</td>\n",
       "      <td>5311916</td>\n",
       "      <td>SIR-F</td>\n",
       "      <td>0.61</td>\n",
       "      <td>0.00088008</td>\n",
       "      <td>0.000150038</td>\n",
       "      <td>0.0118437</td>\n",
       "      <td>0.0190942</td>\n",
       "      <td>360</td>\n",
       "      <td>1666</td>\n",
       "      <td>13</td>\n",
       "      <td>0.001</td>\n",
       "      <td>21</td>\n",
       "      <td>0.0473212</td>\n",
       "      <td>300</td>\n",
       "      <td>0 min 10 sec</td>\n",
       "    </tr>\n",
       "    <tr>\n",
       "      <th>15th</th>\n",
       "      <td>Past</td>\n",
       "      <td>08Dec2020</td>\n",
       "      <td>14Dec2020</td>\n",
       "      <td>5311916</td>\n",
       "      <td>SIR-F</td>\n",
       "      <td>0.8</td>\n",
       "      <td>0.0017593</td>\n",
       "      <td>0.000193908</td>\n",
       "      <td>0.0144179</td>\n",
       "      <td>0.0178224</td>\n",
       "      <td>360</td>\n",
       "      <td>1289</td>\n",
       "      <td>14</td>\n",
       "      <td>0.002</td>\n",
       "      <td>17</td>\n",
       "      <td>0.0140788</td>\n",
       "      <td>326</td>\n",
       "      <td>0 min 10 sec</td>\n",
       "    </tr>\n",
       "    <tr>\n",
       "      <th>16th</th>\n",
       "      <td>Past</td>\n",
       "      <td>15Dec2020</td>\n",
       "      <td>20Dec2020</td>\n",
       "      <td>5311916</td>\n",
       "      <td>-</td>\n",
       "      <td>-</td>\n",
       "      <td>-</td>\n",
       "      <td>-</td>\n",
       "      <td>-</td>\n",
       "      <td>-</td>\n",
       "      <td>-</td>\n",
       "      <td>-</td>\n",
       "      <td>-</td>\n",
       "      <td>-</td>\n",
       "      <td>-</td>\n",
       "      <td>-</td>\n",
       "      <td>-</td>\n",
       "      <td>-</td>\n",
       "    </tr>\n",
       "    <tr>\n",
       "      <th>17th</th>\n",
       "      <td>Past</td>\n",
       "      <td>21Dec2020</td>\n",
       "      <td>27Dec2020</td>\n",
       "      <td>5311916</td>\n",
       "      <td>-</td>\n",
       "      <td>-</td>\n",
       "      <td>-</td>\n",
       "      <td>-</td>\n",
       "      <td>-</td>\n",
       "      <td>-</td>\n",
       "      <td>-</td>\n",
       "      <td>-</td>\n",
       "      <td>-</td>\n",
       "      <td>-</td>\n",
       "      <td>-</td>\n",
       "      <td>-</td>\n",
       "      <td>-</td>\n",
       "      <td>-</td>\n",
       "    </tr>\n",
       "  </tbody>\n",
       "</table>\n",
       "</div>"
      ],
      "text/plain": [
       "               Type      Start        End  Population    ODE     Rt  \\\n",
       "Country Phase                                                         \n",
       "Germany 0th    Past  19Jan2020  23Mar2020    82905782  SIR-F  30.65   \n",
       "        1st    Past  24Mar2020  04Apr2020    82905782  SIR-F   4.78   \n",
       "        2nd    Past  05Apr2020  21Apr2020    82905782  SIR-F   0.66   \n",
       "        3rd    Past  22Apr2020  17Jun2020    82905782  SIR-F   0.53   \n",
       "        4th    Past  18Jun2020  15Aug2020    82905782  SIR-F   1.15   \n",
       "        5th    Past  16Aug2020  16Sep2020    82905782  SIR-F   1.31   \n",
       "        6th    Past  17Sep2020  08Oct2020    82905782  SIR-F   1.34   \n",
       "        7th    Past  09Oct2020  20Oct2020    82905782  SIR-F   3.13   \n",
       "        8th    Past  21Oct2020  27Oct2020    82905782  SIR-F   3.03   \n",
       "        9th    Past  28Oct2020  03Nov2020    82905782  SIR-F    2.3   \n",
       "        10th   Past  04Nov2020  10Nov2020    82905782  SIR-F   1.46   \n",
       "        11th   Past  11Nov2020  17Nov2020    82905782  SIR-F   1.05   \n",
       "        12th   Past  18Nov2020  24Nov2020    82905782  SIR-F   0.86   \n",
       "        13th   Past  25Nov2020  01Dec2020    82905782  SIR-F   0.92   \n",
       "        14th   Past  02Dec2020  08Dec2020    82905782  SIR-F   0.98   \n",
       "        15th   Past  09Dec2020  14Dec2020    82905782  SIR-F   1.18   \n",
       "        16th   Past  15Dec2020  20Dec2020    82905782      -      -   \n",
       "        17th   Past  21Dec2020  27Dec2020    82905782      -      -   \n",
       "Norway  0th    Past  15Mar2020  24Mar2020     5311916  SIR-F   11.3   \n",
       "        1st    Past  25Mar2020  02Apr2020     5311916  SIR-F    1.4   \n",
       "        2nd    Past  03Apr2020  20Apr2020     5311916  SIR-F   0.29   \n",
       "        3rd    Past  21Apr2020  02Jun2020     5311916  SIR-F   0.42   \n",
       "        4th    Past  03Jun2020  09Aug2020     5311916  SIR-F   0.99   \n",
       "        5th    Past  10Aug2020  04Sep2020     5311916  SIR-F   1.46   \n",
       "        6th    Past  05Sep2020  20Sep2020     5311916  SIR-F   1.49   \n",
       "        7th    Past  21Sep2020  05Oct2020     5311916  SIR-F   1.05   \n",
       "        8th    Past  06Oct2020  20Oct2020     5311916  SIR-F   1.25   \n",
       "        9th    Past  21Oct2020  28Oct2020     5311916  SIR-F   1.85   \n",
       "        10th   Past  29Oct2020  03Nov2020     5311916  SIR-F   3.43   \n",
       "        11th   Past  04Nov2020  09Nov2020     5311916  SIR-F   2.58   \n",
       "        12th   Past  10Nov2020  22Nov2020     5311916  SIR-F   1.41   \n",
       "        13th   Past  23Nov2020  29Nov2020     5311916  SIR-F   0.83   \n",
       "        14th   Past  30Nov2020  07Dec2020     5311916  SIR-F   0.61   \n",
       "        15th   Past  08Dec2020  14Dec2020     5311916  SIR-F    0.8   \n",
       "        16th   Past  15Dec2020  20Dec2020     5311916      -      -   \n",
       "        17th   Past  21Dec2020  27Dec2020     5311916      -      -   \n",
       "\n",
       "                     theta        kappa         rho        sigma  tau  \\\n",
       "Country Phase                                                           \n",
       "Germany 0th    0.000158258  0.000153043   0.0323128  0.000901171  360   \n",
       "        1st      0.0163325  0.000982532   0.0227415   0.00369525  360   \n",
       "        2nd      0.0184018  0.000556605   0.0121387    0.0174393  360   \n",
       "        3rd      0.0161643  0.000162385   0.0124085    0.0230873  360   \n",
       "        4th     0.00379861  1.85307e-06   0.0162702    0.0141322  360   \n",
       "        5th     0.00156721  0.000191478   0.0163251    0.0122403  360   \n",
       "        6th    0.000425864  7.95615e-05   0.0187149    0.0138663  360   \n",
       "        7th    0.000676492  6.74045e-05   0.0257738   0.00815667  360   \n",
       "        8th     0.00261679  0.000301315   0.0272942   0.00868869  360   \n",
       "        9th     0.00025608  0.000256566   0.0181455   0.00764573  360   \n",
       "        10th   0.000663153  0.000234996   0.0175328    0.0117848  360   \n",
       "        11th     0.0162359  4.55898e-06    0.017074    0.0159345  360   \n",
       "        12th     0.0163381  4.55898e-06   0.0152931    0.0174301  360   \n",
       "        13th   0.000322669  0.000158406   0.0146422    0.0157984  360   \n",
       "        14th    0.00269604  0.000301055   0.0188815     0.018845  360   \n",
       "        15th     0.0155796  4.05568e-05   0.0186713    0.0155951  360   \n",
       "        16th             -            -           -            -    -   \n",
       "        17th             -            -           -            -    -   \n",
       "Norway  0th     0.00167109  7.11105e-05   0.0237204   0.00202426  360   \n",
       "        1st     0.00728322  0.000180071   0.0189406     0.013243  360   \n",
       "        2nd      0.0724657  0.000158361   0.0079601    0.0251777  360   \n",
       "        3rd      0.0677763  4.05582e-05  0.00963561    0.0213781  360   \n",
       "        4th      0.0222803  0.000151252   0.0173497    0.0169672  360   \n",
       "        5th     0.00108763  0.000191431   0.0200583    0.0135535  360   \n",
       "        6th      0.0165195  7.93545e-05   0.0182368    0.0119898  360   \n",
       "        7th    0.000900068  7.11105e-05   0.0171967    0.0163265  360   \n",
       "        8th    0.000900068  7.11105e-05   0.0176816    0.0140123  360   \n",
       "        9th    0.000489999   9.6334e-05   0.0263457    0.0141364  360   \n",
       "        10th   0.000676492  6.74045e-05   0.0263026    0.0075897  360   \n",
       "        11th    0.00045096  7.93029e-05   0.0194899   0.00746137  360   \n",
       "        12th   0.000438438  9.82128e-05   0.0172607    0.0121353  360   \n",
       "        13th    0.00180556  9.34529e-05   0.0135212    0.0161736  360   \n",
       "        14th    0.00088008  0.000150038   0.0118437    0.0190942  360   \n",
       "        15th     0.0017593  0.000193908   0.0144179    0.0178224  360   \n",
       "        16th             -            -           -            -    -   \n",
       "        17th             -            -           -            -    -   \n",
       "\n",
       "              1/alpha2 [day] 1/gamma [day] alpha1 [-] 1/beta [day]      RMSLE  \\\n",
       "Country Phase                                                                   \n",
       "Germany 0th             1633           277          0            7    1.05042   \n",
       "        1st              254            67      0.016           10   0.164627   \n",
       "        2nd              449            14      0.018           20  0.0869251   \n",
       "        3rd             1539            10      0.016           20   0.098875   \n",
       "        4th           134910            17      0.004           15   0.115411   \n",
       "        5th             1305            20      0.002           15  0.0642106   \n",
       "        6th             3142            18          0           13  0.0283514   \n",
       "        7th             3708            30      0.001            9  0.0649951   \n",
       "        8th              829            28      0.003            9  0.0196311   \n",
       "        9th              974            32          0           13  0.0354713   \n",
       "        10th            1063            21      0.001           14  0.0239349   \n",
       "        11th           54836            15      0.016           14  0.0192349   \n",
       "        12th           54836            14      0.016           16  0.0208191   \n",
       "        13th            1578            15          0           17  0.0255224   \n",
       "        14th             830            13      0.003           13  0.0180755   \n",
       "        15th            6164            16      0.016           13  0.0168377   \n",
       "        16th               -             -          -            -          -   \n",
       "        17th               -             -          -            -          -   \n",
       "Norway  0th             3515           123      0.002           10   0.256972   \n",
       "        1st             1388            18      0.007           13   0.135763   \n",
       "        2nd             1578             9      0.072           31   0.225087   \n",
       "        3rd             6163            11      0.068           25   0.078545   \n",
       "        4th             1652            14      0.022           14   0.187151   \n",
       "        5th             1305            18      0.001           12  0.0667907   \n",
       "        6th             3150            20      0.017           13  0.0973218   \n",
       "        7th             3515            15      0.001           14   0.020038   \n",
       "        8th             3515            17      0.001           14  0.0349302   \n",
       "        9th             2595            17          0            9   0.034558   \n",
       "        10th            3708            32      0.001            9  0.0258377   \n",
       "        11th            3152            33          0           12  0.0184489   \n",
       "        12th            2545            20          0           14  0.0395143   \n",
       "        13th            2675            15      0.002           18  0.0201247   \n",
       "        14th            1666            13      0.001           21  0.0473212   \n",
       "        15th            1289            14      0.002           17  0.0140788   \n",
       "        16th               -             -          -            -          -   \n",
       "        17th               -             -          -            -          -   \n",
       "\n",
       "              Trials       Runtime  \n",
       "Country Phase                       \n",
       "Germany 0th      310  0 min 10 sec  \n",
       "        1st      307  0 min 10 sec  \n",
       "        2nd      309  0 min 10 sec  \n",
       "        3rd      316  0 min 10 sec  \n",
       "        4th      296  0 min 10 sec  \n",
       "        5th      271  0 min 10 sec  \n",
       "        6th      308  0 min 10 sec  \n",
       "        7th      298  0 min 10 sec  \n",
       "        8th      309  0 min 10 sec  \n",
       "        9th      339  0 min 10 sec  \n",
       "        10th     309  0 min 10 sec  \n",
       "        11th     314  0 min 10 sec  \n",
       "        12th     317  0 min 10 sec  \n",
       "        13th     316  0 min 10 sec  \n",
       "        14th     324  0 min 10 sec  \n",
       "        15th     327  0 min 10 sec  \n",
       "        16th       -             -  \n",
       "        17th       -             -  \n",
       "Norway  0th      315  0 min 10 sec  \n",
       "        1st      328  0 min 10 sec  \n",
       "        2nd      310  0 min 10 sec  \n",
       "        3rd      310  0 min 10 sec  \n",
       "        4th      316  0 min 10 sec  \n",
       "        5th      310  0 min 10 sec  \n",
       "        6th      312  0 min 10 sec  \n",
       "        7th      324  0 min 10 sec  \n",
       "        8th      308  0 min 10 sec  \n",
       "        9th      280  0 min 10 sec  \n",
       "        10th     297  0 min 10 sec  \n",
       "        11th     315  0 min 10 sec  \n",
       "        12th     327  0 min 10 sec  \n",
       "        13th     311  0 min 10 sec  \n",
       "        14th     300  0 min 10 sec  \n",
       "        15th     326  0 min 10 sec  \n",
       "        16th       -             -  \n",
       "        17th       -             -  "
      ]
     },
     "execution_count": 12,
     "metadata": {},
     "output_type": "execute_result"
    }
   ],
   "source": [
    "# Show summary\n",
    "analyser.summary(countries=countries_show)"
   ]
  },
  {
   "cell_type": "markdown",
   "metadata": {},
   "source": [
    "## Compare the history of parameters\n",
    "Here, compare the history of parameter values if countries."
   ]
  },
  {
   "cell_type": "code",
   "execution_count": 13,
   "metadata": {
    "collapsed": false
   },
   "outputs": [
    {
     "data": {
      "text/html": [
       "<div>\n",
       "<style scoped>\n",
       "    .dataframe tbody tr th:only-of-type {\n",
       "        vertical-align: middle;\n",
       "    }\n",
       "\n",
       "    .dataframe tbody tr th {\n",
       "        vertical-align: top;\n",
       "    }\n",
       "\n",
       "    .dataframe thead th {\n",
       "        text-align: right;\n",
       "    }\n",
       "</style>\n",
       "<table border=\"1\" class=\"dataframe\">\n",
       "  <thead>\n",
       "    <tr style=\"text-align: right;\">\n",
       "      <th></th>\n",
       "      <th>Date</th>\n",
       "      <th>Country</th>\n",
       "      <th>theta</th>\n",
       "      <th>kappa</th>\n",
       "      <th>rho</th>\n",
       "      <th>sigma</th>\n",
       "      <th>alpha1 [-]</th>\n",
       "      <th>1/alpha2 [day]</th>\n",
       "      <th>1/beta [day]</th>\n",
       "      <th>1/gamma [day]</th>\n",
       "      <th>...</th>\n",
       "      <th>Cancel_events</th>\n",
       "      <th>Gatherings_restrictions</th>\n",
       "      <th>Transport_closing</th>\n",
       "      <th>Stay_home_restrictions</th>\n",
       "      <th>Internal_movement_restrictions</th>\n",
       "      <th>International_movement_restrictions</th>\n",
       "      <th>Information_campaigns</th>\n",
       "      <th>Testing_policy</th>\n",
       "      <th>Contact_tracing</th>\n",
       "      <th>Stringency_index</th>\n",
       "    </tr>\n",
       "  </thead>\n",
       "  <tbody>\n",
       "    <tr>\n",
       "      <th>0</th>\n",
       "      <td>2020-03-14</td>\n",
       "      <td>Portugal</td>\n",
       "      <td>0.0196476</td>\n",
       "      <td>0.000728339</td>\n",
       "      <td>0.0443293</td>\n",
       "      <td>0.000245798</td>\n",
       "      <td>0.02</td>\n",
       "      <td>343</td>\n",
       "      <td>5</td>\n",
       "      <td>1017</td>\n",
       "      <td>...</td>\n",
       "      <td>0</td>\n",
       "      <td>0</td>\n",
       "      <td>0</td>\n",
       "      <td>0</td>\n",
       "      <td>0</td>\n",
       "      <td>3</td>\n",
       "      <td>2</td>\n",
       "      <td>1</td>\n",
       "      <td>2</td>\n",
       "      <td>32.41</td>\n",
       "    </tr>\n",
       "    <tr>\n",
       "      <th>1</th>\n",
       "      <td>2020-03-14</td>\n",
       "      <td>Portugal</td>\n",
       "      <td>0.0196476</td>\n",
       "      <td>0.000728339</td>\n",
       "      <td>0.0443293</td>\n",
       "      <td>0.000245798</td>\n",
       "      <td>0.02</td>\n",
       "      <td>343</td>\n",
       "      <td>5</td>\n",
       "      <td>1017</td>\n",
       "      <td>...</td>\n",
       "      <td>0</td>\n",
       "      <td>0</td>\n",
       "      <td>0</td>\n",
       "      <td>0</td>\n",
       "      <td>0</td>\n",
       "      <td>3</td>\n",
       "      <td>2</td>\n",
       "      <td>1</td>\n",
       "      <td>2</td>\n",
       "      <td>32.41</td>\n",
       "    </tr>\n",
       "    <tr>\n",
       "      <th>2</th>\n",
       "      <td>2020-03-14</td>\n",
       "      <td>Portugal</td>\n",
       "      <td>0.0196476</td>\n",
       "      <td>0.000728339</td>\n",
       "      <td>0.0443293</td>\n",
       "      <td>0.000245798</td>\n",
       "      <td>0.02</td>\n",
       "      <td>343</td>\n",
       "      <td>5</td>\n",
       "      <td>1017</td>\n",
       "      <td>...</td>\n",
       "      <td>0</td>\n",
       "      <td>0</td>\n",
       "      <td>0</td>\n",
       "      <td>0</td>\n",
       "      <td>0</td>\n",
       "      <td>3</td>\n",
       "      <td>2</td>\n",
       "      <td>1</td>\n",
       "      <td>2</td>\n",
       "      <td>32.41</td>\n",
       "    </tr>\n",
       "    <tr>\n",
       "      <th>3</th>\n",
       "      <td>2020-03-14</td>\n",
       "      <td>Portugal</td>\n",
       "      <td>0.0196476</td>\n",
       "      <td>0.000728339</td>\n",
       "      <td>0.0443293</td>\n",
       "      <td>0.000245798</td>\n",
       "      <td>0.02</td>\n",
       "      <td>343</td>\n",
       "      <td>5</td>\n",
       "      <td>1017</td>\n",
       "      <td>...</td>\n",
       "      <td>0</td>\n",
       "      <td>0</td>\n",
       "      <td>0</td>\n",
       "      <td>0</td>\n",
       "      <td>0</td>\n",
       "      <td>3</td>\n",
       "      <td>2</td>\n",
       "      <td>1</td>\n",
       "      <td>2</td>\n",
       "      <td>32.41</td>\n",
       "    </tr>\n",
       "    <tr>\n",
       "      <th>4</th>\n",
       "      <td>2020-03-14</td>\n",
       "      <td>Portugal</td>\n",
       "      <td>0.0196476</td>\n",
       "      <td>0.000728339</td>\n",
       "      <td>0.0443293</td>\n",
       "      <td>0.000245798</td>\n",
       "      <td>0.02</td>\n",
       "      <td>343</td>\n",
       "      <td>5</td>\n",
       "      <td>1017</td>\n",
       "      <td>...</td>\n",
       "      <td>0</td>\n",
       "      <td>0</td>\n",
       "      <td>0</td>\n",
       "      <td>0</td>\n",
       "      <td>0</td>\n",
       "      <td>3</td>\n",
       "      <td>2</td>\n",
       "      <td>1</td>\n",
       "      <td>2</td>\n",
       "      <td>32.41</td>\n",
       "    </tr>\n",
       "  </tbody>\n",
       "</table>\n",
       "<p>5 rows × 23 columns</p>\n",
       "</div>"
      ],
      "text/plain": [
       "        Date   Country      theta        kappa        rho        sigma  \\\n",
       "0 2020-03-14  Portugal  0.0196476  0.000728339  0.0443293  0.000245798   \n",
       "1 2020-03-14  Portugal  0.0196476  0.000728339  0.0443293  0.000245798   \n",
       "2 2020-03-14  Portugal  0.0196476  0.000728339  0.0443293  0.000245798   \n",
       "3 2020-03-14  Portugal  0.0196476  0.000728339  0.0443293  0.000245798   \n",
       "4 2020-03-14  Portugal  0.0196476  0.000728339  0.0443293  0.000245798   \n",
       "\n",
       "  alpha1 [-] 1/alpha2 [day] 1/beta [day] 1/gamma [day]  ... Cancel_events  \\\n",
       "0       0.02            343            5          1017  ...             0   \n",
       "1       0.02            343            5          1017  ...             0   \n",
       "2       0.02            343            5          1017  ...             0   \n",
       "3       0.02            343            5          1017  ...             0   \n",
       "4       0.02            343            5          1017  ...             0   \n",
       "\n",
       "   Gatherings_restrictions  Transport_closing  Stay_home_restrictions  \\\n",
       "0                        0                  0                       0   \n",
       "1                        0                  0                       0   \n",
       "2                        0                  0                       0   \n",
       "3                        0                  0                       0   \n",
       "4                        0                  0                       0   \n",
       "\n",
       "   Internal_movement_restrictions  International_movement_restrictions  \\\n",
       "0                               0                                    3   \n",
       "1                               0                                    3   \n",
       "2                               0                                    3   \n",
       "3                               0                                    3   \n",
       "4                               0                                    3   \n",
       "\n",
       "   Information_campaigns  Testing_policy  Contact_tracing  Stringency_index  \n",
       "0                      2               1                2             32.41  \n",
       "1                      2               1                2             32.41  \n",
       "2                      2               1                2             32.41  \n",
       "3                      2               1                2             32.41  \n",
       "4                      2               1                2             32.41  \n",
       "\n",
       "[5 rows x 23 columns]"
      ]
     },
     "execution_count": 13,
     "metadata": {},
     "output_type": "execute_result"
    }
   ],
   "source": [
    "# All parameter/day parameter/Rt/OxCGRT\n",
    "analyser.track().head()"
   ]
  },
  {
   "cell_type": "markdown",
   "metadata": {},
   "source": [
    "### $Rt$: Reprodcution number $\\mathrm{[-]}$"
   ]
  },
  {
   "cell_type": "code",
   "execution_count": 14,
   "metadata": {
    "collapsed": false
   },
   "outputs": [
    {
     "data": {
      "image/png": "[encoded data removed]",
      "text/plain": [
       "<Figure size 648x432 with 1 Axes>"
      ]
     },
     "metadata": {},
     "output_type": "display_data"
    },
    {
     "data": {
      "text/html": [
       "<div>\n",
       "<style scoped>\n",
       "    .dataframe tbody tr th:only-of-type {\n",
       "        vertical-align: middle;\n",
       "    }\n",
       "\n",
       "    .dataframe tbody tr th {\n",
       "        vertical-align: top;\n",
       "    }\n",
       "\n",
       "    .dataframe thead th {\n",
       "        text-align: right;\n",
       "    }\n",
       "</style>\n",
       "<table border=\"1\" class=\"dataframe\">\n",
       "  <thead>\n",
       "    <tr style=\"text-align: right;\">\n",
       "      <th>Country</th>\n",
       "      <th>Germany</th>\n",
       "      <th>Malaysia</th>\n",
       "      <th>Netherlands</th>\n",
       "      <th>Norway</th>\n",
       "      <th>Portugal</th>\n",
       "      <th>United Kingdom</th>\n",
       "    </tr>\n",
       "    <tr>\n",
       "      <th>Date</th>\n",
       "      <th></th>\n",
       "      <th></th>\n",
       "      <th></th>\n",
       "      <th></th>\n",
       "      <th></th>\n",
       "      <th></th>\n",
       "    </tr>\n",
       "  </thead>\n",
       "  <tbody>\n",
       "    <tr>\n",
       "      <th>2020-12-23</th>\n",
       "      <td>1.18</td>\n",
       "      <td>1.23</td>\n",
       "      <td>2.07</td>\n",
       "      <td>0.8</td>\n",
       "      <td>1.03</td>\n",
       "      <td>0.8</td>\n",
       "    </tr>\n",
       "    <tr>\n",
       "      <th>2020-12-24</th>\n",
       "      <td>1.18</td>\n",
       "      <td>1.23</td>\n",
       "      <td>2.07</td>\n",
       "      <td>0.8</td>\n",
       "      <td>1.03</td>\n",
       "      <td>0.8</td>\n",
       "    </tr>\n",
       "    <tr>\n",
       "      <th>2020-12-25</th>\n",
       "      <td>1.18</td>\n",
       "      <td>1.23</td>\n",
       "      <td>2.07</td>\n",
       "      <td>0.8</td>\n",
       "      <td>1.03</td>\n",
       "      <td>0.8</td>\n",
       "    </tr>\n",
       "    <tr>\n",
       "      <th>2020-12-26</th>\n",
       "      <td>1.18</td>\n",
       "      <td>1.23</td>\n",
       "      <td>2.07</td>\n",
       "      <td>0.8</td>\n",
       "      <td>1.03</td>\n",
       "      <td>0.8</td>\n",
       "    </tr>\n",
       "    <tr>\n",
       "      <th>2020-12-27</th>\n",
       "      <td>1.18</td>\n",
       "      <td>1.23</td>\n",
       "      <td>2.07</td>\n",
       "      <td>0.8</td>\n",
       "      <td>1.03</td>\n",
       "      <td>0.8</td>\n",
       "    </tr>\n",
       "  </tbody>\n",
       "</table>\n",
       "</div>"
      ],
      "text/plain": [
       "Country     Germany  Malaysia  Netherlands  Norway  Portugal  United Kingdom\n",
       "Date                                                                        \n",
       "2020-12-23     1.18      1.23         2.07     0.8      1.03             0.8\n",
       "2020-12-24     1.18      1.23         2.07     0.8      1.03             0.8\n",
       "2020-12-25     1.18      1.23         2.07     0.8      1.03             0.8\n",
       "2020-12-26     1.18      1.23         2.07     0.8      1.03             0.8\n",
       "2020-12-27     1.18      1.23         2.07     0.8      1.03             0.8"
      ]
     },
     "execution_count": 14,
     "metadata": {},
     "output_type": "execute_result"
    }
   ],
   "source": [
    "analyser.history(\"Rt\", roll_window=None).tail()"
   ]
  },
  {
   "cell_type": "markdown",
   "metadata": {},
   "source": [
    "### $\\rho$: Effective contact rate $\\mathrm{[-]}$"
   ]
  },
  {
   "cell_type": "code",
   "execution_count": 15,
   "metadata": {
    "collapsed": false
   },
   "outputs": [
    {
     "data": {
      "image/png": "[encoded data removed]",
      "text/plain": [
       "<Figure size 648x432 with 1 Axes>"
      ]
     },
     "metadata": {},
     "output_type": "display_data"
    },
    {
     "data": {
      "text/html": [
       "<div>\n",
       "<style scoped>\n",
       "    .dataframe tbody tr th:only-of-type {\n",
       "        vertical-align: middle;\n",
       "    }\n",
       "\n",
       "    .dataframe tbody tr th {\n",
       "        vertical-align: top;\n",
       "    }\n",
       "\n",
       "    .dataframe thead th {\n",
       "        text-align: right;\n",
       "    }\n",
       "</style>\n",
       "<table border=\"1\" class=\"dataframe\">\n",
       "  <thead>\n",
       "    <tr style=\"text-align: right;\">\n",
       "      <th>Country</th>\n",
       "      <th>Germany</th>\n",
       "      <th>Malaysia</th>\n",
       "      <th>Netherlands</th>\n",
       "      <th>Norway</th>\n",
       "      <th>Portugal</th>\n",
       "      <th>United Kingdom</th>\n",
       "    </tr>\n",
       "    <tr>\n",
       "      <th>Date</th>\n",
       "      <th></th>\n",
       "      <th></th>\n",
       "      <th></th>\n",
       "      <th></th>\n",
       "      <th></th>\n",
       "      <th></th>\n",
       "    </tr>\n",
       "  </thead>\n",
       "  <tbody>\n",
       "    <tr>\n",
       "      <th>2020-12-23</th>\n",
       "      <td>0.018671</td>\n",
       "      <td>0.017214</td>\n",
       "      <td>0.021935</td>\n",
       "      <td>0.014418</td>\n",
       "      <td>0.010343</td>\n",
       "      <td>0.015859</td>\n",
       "    </tr>\n",
       "    <tr>\n",
       "      <th>2020-12-24</th>\n",
       "      <td>0.018671</td>\n",
       "      <td>0.017214</td>\n",
       "      <td>0.021935</td>\n",
       "      <td>0.014418</td>\n",
       "      <td>0.010343</td>\n",
       "      <td>0.015859</td>\n",
       "    </tr>\n",
       "    <tr>\n",
       "      <th>2020-12-25</th>\n",
       "      <td>0.018671</td>\n",
       "      <td>0.017214</td>\n",
       "      <td>0.021935</td>\n",
       "      <td>0.014418</td>\n",
       "      <td>0.010343</td>\n",
       "      <td>0.015859</td>\n",
       "    </tr>\n",
       "    <tr>\n",
       "      <th>2020-12-26</th>\n",
       "      <td>0.018671</td>\n",
       "      <td>0.017214</td>\n",
       "      <td>0.021935</td>\n",
       "      <td>0.014418</td>\n",
       "      <td>0.010343</td>\n",
       "      <td>0.015859</td>\n",
       "    </tr>\n",
       "    <tr>\n",
       "      <th>2020-12-27</th>\n",
       "      <td>0.018671</td>\n",
       "      <td>0.017214</td>\n",
       "      <td>0.021935</td>\n",
       "      <td>0.014418</td>\n",
       "      <td>0.010343</td>\n",
       "      <td>0.015859</td>\n",
       "    </tr>\n",
       "  </tbody>\n",
       "</table>\n",
       "</div>"
      ],
      "text/plain": [
       "Country      Germany  Malaysia  Netherlands    Norway  Portugal  \\\n",
       "Date                                                              \n",
       "2020-12-23  0.018671  0.017214     0.021935  0.014418  0.010343   \n",
       "2020-12-24  0.018671  0.017214     0.021935  0.014418  0.010343   \n",
       "2020-12-25  0.018671  0.017214     0.021935  0.014418  0.010343   \n",
       "2020-12-26  0.018671  0.017214     0.021935  0.014418  0.010343   \n",
       "2020-12-27  0.018671  0.017214     0.021935  0.014418  0.010343   \n",
       "\n",
       "Country     United Kingdom  \n",
       "Date                        \n",
       "2020-12-23        0.015859  \n",
       "2020-12-24        0.015859  \n",
       "2020-12-25        0.015859  \n",
       "2020-12-26        0.015859  \n",
       "2020-12-27        0.015859  "
      ]
     },
     "execution_count": 15,
     "metadata": {},
     "output_type": "execute_result"
    }
   ],
   "source": [
    "analyser.history(\"rho\", roll_window=None).tail()"
   ]
  },
  {
   "cell_type": "markdown",
   "metadata": {},
   "source": [
    "### $\\sigma$: Recovery rate $\\mathrm{[-]}$"
   ]
  },
  {
   "cell_type": "code",
   "execution_count": 16,
   "metadata": {
    "collapsed": false
   },
   "outputs": [
    {
     "data": {
      "image/png": "[encoded data removed]",
      "text/plain": [
       "<Figure size 648x432 with 1 Axes>"
      ]
     },
     "metadata": {},
     "output_type": "display_data"
    },
    {
     "data": {
      "text/html": [
       "<div>\n",
       "<style scoped>\n",
       "    .dataframe tbody tr th:only-of-type {\n",
       "        vertical-align: middle;\n",
       "    }\n",
       "\n",
       "    .dataframe tbody tr th {\n",
       "        vertical-align: top;\n",
       "    }\n",
       "\n",
       "    .dataframe thead th {\n",
       "        text-align: right;\n",
       "    }\n",
       "</style>\n",
       "<table border=\"1\" class=\"dataframe\">\n",
       "  <thead>\n",
       "    <tr style=\"text-align: right;\">\n",
       "      <th>Country</th>\n",
       "      <th>Germany</th>\n",
       "      <th>Malaysia</th>\n",
       "      <th>Netherlands</th>\n",
       "      <th>Norway</th>\n",
       "      <th>Portugal</th>\n",
       "      <th>United Kingdom</th>\n",
       "    </tr>\n",
       "    <tr>\n",
       "      <th>Date</th>\n",
       "      <th></th>\n",
       "      <th></th>\n",
       "      <th></th>\n",
       "      <th></th>\n",
       "      <th></th>\n",
       "      <th></th>\n",
       "    </tr>\n",
       "  </thead>\n",
       "  <tbody>\n",
       "    <tr>\n",
       "      <th>2020-12-23</th>\n",
       "      <td>0.015595</td>\n",
       "      <td>0.013997</td>\n",
       "      <td>0.010525</td>\n",
       "      <td>0.017822</td>\n",
       "      <td>0.009858</td>\n",
       "      <td>0.019258</td>\n",
       "    </tr>\n",
       "    <tr>\n",
       "      <th>2020-12-24</th>\n",
       "      <td>0.015595</td>\n",
       "      <td>0.013997</td>\n",
       "      <td>0.010525</td>\n",
       "      <td>0.017822</td>\n",
       "      <td>0.009858</td>\n",
       "      <td>0.019258</td>\n",
       "    </tr>\n",
       "    <tr>\n",
       "      <th>2020-12-25</th>\n",
       "      <td>0.015595</td>\n",
       "      <td>0.013997</td>\n",
       "      <td>0.010525</td>\n",
       "      <td>0.017822</td>\n",
       "      <td>0.009858</td>\n",
       "      <td>0.019258</td>\n",
       "    </tr>\n",
       "    <tr>\n",
       "      <th>2020-12-26</th>\n",
       "      <td>0.015595</td>\n",
       "      <td>0.013997</td>\n",
       "      <td>0.010525</td>\n",
       "      <td>0.017822</td>\n",
       "      <td>0.009858</td>\n",
       "      <td>0.019258</td>\n",
       "    </tr>\n",
       "    <tr>\n",
       "      <th>2020-12-27</th>\n",
       "      <td>0.015595</td>\n",
       "      <td>0.013997</td>\n",
       "      <td>0.010525</td>\n",
       "      <td>0.017822</td>\n",
       "      <td>0.009858</td>\n",
       "      <td>0.019258</td>\n",
       "    </tr>\n",
       "  </tbody>\n",
       "</table>\n",
       "</div>"
      ],
      "text/plain": [
       "Country      Germany  Malaysia  Netherlands    Norway  Portugal  \\\n",
       "Date                                                              \n",
       "2020-12-23  0.015595  0.013997     0.010525  0.017822  0.009858   \n",
       "2020-12-24  0.015595  0.013997     0.010525  0.017822  0.009858   \n",
       "2020-12-25  0.015595  0.013997     0.010525  0.017822  0.009858   \n",
       "2020-12-26  0.015595  0.013997     0.010525  0.017822  0.009858   \n",
       "2020-12-27  0.015595  0.013997     0.010525  0.017822  0.009858   \n",
       "\n",
       "Country     United Kingdom  \n",
       "Date                        \n",
       "2020-12-23        0.019258  \n",
       "2020-12-24        0.019258  \n",
       "2020-12-25        0.019258  \n",
       "2020-12-26        0.019258  \n",
       "2020-12-27        0.019258  "
      ]
     },
     "execution_count": 16,
     "metadata": {},
     "output_type": "execute_result"
    }
   ],
   "source": [
    "analyser.history(\"sigma\", roll_window=None).tail()"
   ]
  },
  {
   "cell_type": "markdown",
   "metadata": {},
   "source": [
    "### $\\kappa$: Mortality rate of infected cases $\\mathrm{[-]}$"
   ]
  },
  {
   "cell_type": "code",
   "execution_count": 17,
   "metadata": {
    "collapsed": false
   },
   "outputs": [
    {
     "data": {
      "image/png": "[encoded data removed]",
      "text/plain": [
       "<Figure size 648x432 with 1 Axes>"
      ]
     },
     "metadata": {},
     "output_type": "display_data"
    },
    {
     "data": {
      "text/html": [
       "<div>\n",
       "<style scoped>\n",
       "    .dataframe tbody tr th:only-of-type {\n",
       "        vertical-align: middle;\n",
       "    }\n",
       "\n",
       "    .dataframe tbody tr th {\n",
       "        vertical-align: top;\n",
       "    }\n",
       "\n",
       "    .dataframe thead th {\n",
       "        text-align: right;\n",
       "    }\n",
       "</style>\n",
       "<table border=\"1\" class=\"dataframe\">\n",
       "  <thead>\n",
       "    <tr style=\"text-align: right;\">\n",
       "      <th>Country</th>\n",
       "      <th>Germany</th>\n",
       "      <th>Malaysia</th>\n",
       "      <th>Netherlands</th>\n",
       "      <th>Norway</th>\n",
       "      <th>Portugal</th>\n",
       "      <th>United Kingdom</th>\n",
       "    </tr>\n",
       "    <tr>\n",
       "      <th>Date</th>\n",
       "      <th></th>\n",
       "      <th></th>\n",
       "      <th></th>\n",
       "      <th></th>\n",
       "      <th></th>\n",
       "      <th></th>\n",
       "    </tr>\n",
       "  </thead>\n",
       "  <tbody>\n",
       "    <tr>\n",
       "      <th>2020-12-23</th>\n",
       "      <td>0.000041</td>\n",
       "      <td>0.000002</td>\n",
       "      <td>0.000059</td>\n",
       "      <td>0.000194</td>\n",
       "      <td>0.000191</td>\n",
       "      <td>0.000237</td>\n",
       "    </tr>\n",
       "    <tr>\n",
       "      <th>2020-12-24</th>\n",
       "      <td>0.000041</td>\n",
       "      <td>0.000002</td>\n",
       "      <td>0.000059</td>\n",
       "      <td>0.000194</td>\n",
       "      <td>0.000191</td>\n",
       "      <td>0.000237</td>\n",
       "    </tr>\n",
       "    <tr>\n",
       "      <th>2020-12-25</th>\n",
       "      <td>0.000041</td>\n",
       "      <td>0.000002</td>\n",
       "      <td>0.000059</td>\n",
       "      <td>0.000194</td>\n",
       "      <td>0.000191</td>\n",
       "      <td>0.000237</td>\n",
       "    </tr>\n",
       "    <tr>\n",
       "      <th>2020-12-26</th>\n",
       "      <td>0.000041</td>\n",
       "      <td>0.000002</td>\n",
       "      <td>0.000059</td>\n",
       "      <td>0.000194</td>\n",
       "      <td>0.000191</td>\n",
       "      <td>0.000237</td>\n",
       "    </tr>\n",
       "    <tr>\n",
       "      <th>2020-12-27</th>\n",
       "      <td>0.000041</td>\n",
       "      <td>0.000002</td>\n",
       "      <td>0.000059</td>\n",
       "      <td>0.000194</td>\n",
       "      <td>0.000191</td>\n",
       "      <td>0.000237</td>\n",
       "    </tr>\n",
       "  </tbody>\n",
       "</table>\n",
       "</div>"
      ],
      "text/plain": [
       "Country      Germany  Malaysia  Netherlands    Norway  Portugal  \\\n",
       "Date                                                              \n",
       "2020-12-23  0.000041  0.000002     0.000059  0.000194  0.000191   \n",
       "2020-12-24  0.000041  0.000002     0.000059  0.000194  0.000191   \n",
       "2020-12-25  0.000041  0.000002     0.000059  0.000194  0.000191   \n",
       "2020-12-26  0.000041  0.000002     0.000059  0.000194  0.000191   \n",
       "2020-12-27  0.000041  0.000002     0.000059  0.000194  0.000191   \n",
       "\n",
       "Country     United Kingdom  \n",
       "Date                        \n",
       "2020-12-23        0.000237  \n",
       "2020-12-24        0.000237  \n",
       "2020-12-25        0.000237  \n",
       "2020-12-26        0.000237  \n",
       "2020-12-27        0.000237  "
      ]
     },
     "execution_count": 17,
     "metadata": {},
     "output_type": "execute_result"
    }
   ],
   "source": [
    "analyser.history(\"kappa\", roll_window=None).tail()"
   ]
  },
  {
   "cell_type": "markdown",
   "metadata": {},
   "source": [
    "### $\\theta$: Mortality rate of S$^\\ast$ cases $\\mathrm{[-]}$"
   ]
  },
  {
   "cell_type": "code",
   "execution_count": 18,
   "metadata": {
    "collapsed": false
   },
   "outputs": [
    {
     "data": {
      "image/png": "[encoded data removed]",
      "text/plain": [
       "<Figure size 648x432 with 1 Axes>"
      ]
     },
     "metadata": {},
     "output_type": "display_data"
    },
    {
     "data": {
      "text/html": [
       "<div>\n",
       "<style scoped>\n",
       "    .dataframe tbody tr th:only-of-type {\n",
       "        vertical-align: middle;\n",
       "    }\n",
       "\n",
       "    .dataframe tbody tr th {\n",
       "        vertical-align: top;\n",
       "    }\n",
       "\n",
       "    .dataframe thead th {\n",
       "        text-align: right;\n",
       "    }\n",
       "</style>\n",
       "<table border=\"1\" class=\"dataframe\">\n",
       "  <thead>\n",
       "    <tr style=\"text-align: right;\">\n",
       "      <th>Country</th>\n",
       "      <th>Germany</th>\n",
       "      <th>Malaysia</th>\n",
       "      <th>Netherlands</th>\n",
       "      <th>Norway</th>\n",
       "      <th>Portugal</th>\n",
       "      <th>United Kingdom</th>\n",
       "    </tr>\n",
       "    <tr>\n",
       "      <th>Date</th>\n",
       "      <th></th>\n",
       "      <th></th>\n",
       "      <th></th>\n",
       "      <th></th>\n",
       "      <th></th>\n",
       "      <th></th>\n",
       "    </tr>\n",
       "  </thead>\n",
       "  <tbody>\n",
       "    <tr>\n",
       "      <th>2020-12-23</th>\n",
       "      <td>0.01558</td>\n",
       "      <td>0.002801</td>\n",
       "      <td>0.002749</td>\n",
       "      <td>0.001759</td>\n",
       "      <td>0.001978</td>\n",
       "      <td>0.0212</td>\n",
       "    </tr>\n",
       "    <tr>\n",
       "      <th>2020-12-24</th>\n",
       "      <td>0.01558</td>\n",
       "      <td>0.002801</td>\n",
       "      <td>0.002749</td>\n",
       "      <td>0.001759</td>\n",
       "      <td>0.001978</td>\n",
       "      <td>0.0212</td>\n",
       "    </tr>\n",
       "    <tr>\n",
       "      <th>2020-12-25</th>\n",
       "      <td>0.01558</td>\n",
       "      <td>0.002801</td>\n",
       "      <td>0.002749</td>\n",
       "      <td>0.001759</td>\n",
       "      <td>0.001978</td>\n",
       "      <td>0.0212</td>\n",
       "    </tr>\n",
       "    <tr>\n",
       "      <th>2020-12-26</th>\n",
       "      <td>0.01558</td>\n",
       "      <td>0.002801</td>\n",
       "      <td>0.002749</td>\n",
       "      <td>0.001759</td>\n",
       "      <td>0.001978</td>\n",
       "      <td>0.0212</td>\n",
       "    </tr>\n",
       "    <tr>\n",
       "      <th>2020-12-27</th>\n",
       "      <td>0.01558</td>\n",
       "      <td>0.002801</td>\n",
       "      <td>0.002749</td>\n",
       "      <td>0.001759</td>\n",
       "      <td>0.001978</td>\n",
       "      <td>0.0212</td>\n",
       "    </tr>\n",
       "  </tbody>\n",
       "</table>\n",
       "</div>"
      ],
      "text/plain": [
       "Country     Germany  Malaysia  Netherlands    Norway  Portugal  United Kingdom\n",
       "Date                                                                          \n",
       "2020-12-23  0.01558  0.002801     0.002749  0.001759  0.001978          0.0212\n",
       "2020-12-24  0.01558  0.002801     0.002749  0.001759  0.001978          0.0212\n",
       "2020-12-25  0.01558  0.002801     0.002749  0.001759  0.001978          0.0212\n",
       "2020-12-26  0.01558  0.002801     0.002749  0.001759  0.001978          0.0212\n",
       "2020-12-27  0.01558  0.002801     0.002749  0.001759  0.001978          0.0212"
      ]
     },
     "execution_count": 18,
     "metadata": {},
     "output_type": "execute_result"
    }
   ],
   "source": [
    "analyser.history(\"theta\", roll_window=None).tail()"
   ]
  },
  {
   "cell_type": "markdown",
   "metadata": {},
   "source": [
    "## (Experimental): Relationship of OxCGRT index and parameter values\n",
    "Government responses will impact on parameter values of ODE models about 14 days later. Here, we will investigate on the relationship of [stringency index (from OxCGRT)](https://github.com/OxCGRT/covid-policy-tracker/blob/master/documentation/index_methodology.md) and reproduction number/model parameters.\n"
   ]
  },
  {
   "cell_type": "code",
   "execution_count": 19,
   "metadata": {
    "collapsed": false
   },
   "outputs": [],
   "source": [
    "%matplotlib inline\n",
    "from matplotlib import pyplot as plt\n",
    "import seaborn as sns\n",
    "import pandas as pd"
   ]
  },
  {
   "cell_type": "code",
   "execution_count": 20,
   "metadata": {
    "collapsed": false
   },
   "outputs": [
    {
     "name": "stdout",
     "output_type": "stream",
     "text": [
      "<class 'pandas.core.frame.DataFrame'>\n",
      "Int64Index: 19832 entries, 0 to 19901\n",
      "Data columns (total 19 columns):\n",
      " #   Column                               Non-Null Count  Dtype         \n",
      "---  ------                               --------------  -----         \n",
      " 0   Date                                 19832 non-null  datetime64[ns]\n",
      " 1   Country                              19832 non-null  object        \n",
      " 2   Rt                                   19832 non-null  float64       \n",
      " 3   theta                                19832 non-null  float64       \n",
      " 4   kappa                                19832 non-null  float64       \n",
      " 5   rho                                  19832 non-null  float64       \n",
      " 6   sigma                                19832 non-null  float64       \n",
      " 7   School_closing                       19832 non-null  int64         \n",
      " 8   Workplace_closing                    19832 non-null  int64         \n",
      " 9   Cancel_events                        19832 non-null  int64         \n",
      " 10  Gatherings_restrictions              19832 non-null  int64         \n",
      " 11  Transport_closing                    19832 non-null  int64         \n",
      " 12  Stay_home_restrictions               19832 non-null  int64         \n",
      " 13  Internal_movement_restrictions       19832 non-null  int64         \n",
      " 14  International_movement_restrictions  19832 non-null  int64         \n",
      " 15  Information_campaigns                19832 non-null  int64         \n",
      " 16  Testing_policy                       19832 non-null  int64         \n",
      " 17  Contact_tracing                      19832 non-null  int64         \n",
      " 18  Stringency_index                     19832 non-null  float64       \n",
      "dtypes: datetime64[ns](1), float64(6), int64(11), object(1)\n",
      "memory usage: 3.0+ MB\n"
     ]
    }
   ],
   "source": [
    "df = analyser.track()\n",
    "param_cols = [\"Rt\", *cs.SIRF.PARAMETERS]\n",
    "oxcgrt_cols = oxcgrt_data.OXCGRT_VARS[:]\n",
    "cols = param_cols + oxcgrt_cols\n",
    "delay = 14\n",
    "\n",
    "for col in param_cols:\n",
    "    df[col] = pd.to_numeric(df[col], errors=\"coerce\")\n",
    "    df[col] = df.groupby(\"Country\")[col].shift(0 - delay)\n",
    "\n",
    "df = df.dropna(how=\"any\")\n",
    "df = df.loc[:, [\"Date\", \"Country\", *cols]]\n",
    "track_df = df.copy()\n",
    "track_df.info()"
   ]
  },
  {
   "cell_type": "code",
   "execution_count": 21,
   "metadata": {
    "collapsed": false
   },
   "outputs": [
    {
     "data": {
      "text/html": [
       "<style  type=\"text/css\" >\n",
       "#T_9d179e9c_485d_11eb_89ef_52540041af13row0_col0,#T_9d179e9c_485d_11eb_89ef_52540041af13row1_col1,#T_9d179e9c_485d_11eb_89ef_52540041af13row2_col2,#T_9d179e9c_485d_11eb_89ef_52540041af13row3_col3,#T_9d179e9c_485d_11eb_89ef_52540041af13row4_col4,#T_9d179e9c_485d_11eb_89ef_52540041af13row5_col5,#T_9d179e9c_485d_11eb_89ef_52540041af13row6_col6,#T_9d179e9c_485d_11eb_89ef_52540041af13row7_col7,#T_9d179e9c_485d_11eb_89ef_52540041af13row8_col8,#T_9d179e9c_485d_11eb_89ef_52540041af13row9_col9,#T_9d179e9c_485d_11eb_89ef_52540041af13row10_col10,#T_9d179e9c_485d_11eb_89ef_52540041af13row11_col11,#T_9d179e9c_485d_11eb_89ef_52540041af13row12_col12,#T_9d179e9c_485d_11eb_89ef_52540041af13row13_col13,#T_9d179e9c_485d_11eb_89ef_52540041af13row14_col14,#T_9d179e9c_485d_11eb_89ef_52540041af13row15_col15,#T_9d179e9c_485d_11eb_89ef_52540041af13row16_col16{\n",
       "            background-color:  #023858;\n",
       "            color:  #f1f1f1;\n",
       "        }#T_9d179e9c_485d_11eb_89ef_52540041af13row0_col1,#T_9d179e9c_485d_11eb_89ef_52540041af13row1_col0{\n",
       "            background-color:  #96b6d7;\n",
       "            color:  #000000;\n",
       "        }#T_9d179e9c_485d_11eb_89ef_52540041af13row0_col2,#T_9d179e9c_485d_11eb_89ef_52540041af13row2_col0,#T_9d179e9c_485d_11eb_89ef_52540041af13row4_col15,#T_9d179e9c_485d_11eb_89ef_52540041af13row14_col16,#T_9d179e9c_485d_11eb_89ef_52540041af13row15_col4,#T_9d179e9c_485d_11eb_89ef_52540041af13row16_col14{\n",
       "            background-color:  #4a98c5;\n",
       "            color:  #000000;\n",
       "        }#T_9d179e9c_485d_11eb_89ef_52540041af13row0_col3,#T_9d179e9c_485d_11eb_89ef_52540041af13row3_col0{\n",
       "            background-color:  #034e7b;\n",
       "            color:  #f1f1f1;\n",
       "        }#T_9d179e9c_485d_11eb_89ef_52540041af13row0_col4,#T_9d179e9c_485d_11eb_89ef_52540041af13row0_col7,#T_9d179e9c_485d_11eb_89ef_52540041af13row4_col0,#T_9d179e9c_485d_11eb_89ef_52540041af13row7_col0{\n",
       "            background-color:  #fbf3f9;\n",
       "            color:  #000000;\n",
       "        }#T_9d179e9c_485d_11eb_89ef_52540041af13row0_col5,#T_9d179e9c_485d_11eb_89ef_52540041af13row3_col11,#T_9d179e9c_485d_11eb_89ef_52540041af13row5_col0,#T_9d179e9c_485d_11eb_89ef_52540041af13row11_col3{\n",
       "            background-color:  #c9cee4;\n",
       "            color:  #000000;\n",
       "        }#T_9d179e9c_485d_11eb_89ef_52540041af13row0_col6,#T_9d179e9c_485d_11eb_89ef_52540041af13row6_col0{\n",
       "            background-color:  #ede7f2;\n",
       "            color:  #000000;\n",
       "        }#T_9d179e9c_485d_11eb_89ef_52540041af13row0_col8,#T_9d179e9c_485d_11eb_89ef_52540041af13row8_col0{\n",
       "            background-color:  #fff7fb;\n",
       "            color:  #000000;\n",
       "        }#T_9d179e9c_485d_11eb_89ef_52540041af13row0_col9,#T_9d179e9c_485d_11eb_89ef_52540041af13row9_col0{\n",
       "            background-color:  #d0d1e6;\n",
       "            color:  #000000;\n",
       "        }#T_9d179e9c_485d_11eb_89ef_52540041af13row0_col10,#T_9d179e9c_485d_11eb_89ef_52540041af13row10_col0{\n",
       "            background-color:  #ced0e6;\n",
       "            color:  #000000;\n",
       "        }#T_9d179e9c_485d_11eb_89ef_52540041af13row0_col11,#T_9d179e9c_485d_11eb_89ef_52540041af13row11_col0{\n",
       "            background-color:  #e0deed;\n",
       "            color:  #000000;\n",
       "        }#T_9d179e9c_485d_11eb_89ef_52540041af13row0_col12,#T_9d179e9c_485d_11eb_89ef_52540041af13row3_col8,#T_9d179e9c_485d_11eb_89ef_52540041af13row3_col14,#T_9d179e9c_485d_11eb_89ef_52540041af13row8_col3,#T_9d179e9c_485d_11eb_89ef_52540041af13row12_col0,#T_9d179e9c_485d_11eb_89ef_52540041af13row14_col3{\n",
       "            background-color:  #eee8f3;\n",
       "            color:  #000000;\n",
       "        }#T_9d179e9c_485d_11eb_89ef_52540041af13row0_col13,#T_9d179e9c_485d_11eb_89ef_52540041af13row13_col0{\n",
       "            background-color:  #e5e1ef;\n",
       "            color:  #000000;\n",
       "        }#T_9d179e9c_485d_11eb_89ef_52540041af13row0_col14,#T_9d179e9c_485d_11eb_89ef_52540041af13row14_col0{\n",
       "            background-color:  #f1ebf5;\n",
       "            color:  #000000;\n",
       "        }#T_9d179e9c_485d_11eb_89ef_52540041af13row0_col15,#T_9d179e9c_485d_11eb_89ef_52540041af13row2_col15,#T_9d179e9c_485d_11eb_89ef_52540041af13row15_col0,#T_9d179e9c_485d_11eb_89ef_52540041af13row15_col2{\n",
       "            background-color:  #cdd0e5;\n",
       "            color:  #000000;\n",
       "        }#T_9d179e9c_485d_11eb_89ef_52540041af13row0_col16,#T_9d179e9c_485d_11eb_89ef_52540041af13row3_col4,#T_9d179e9c_485d_11eb_89ef_52540041af13row4_col3,#T_9d179e9c_485d_11eb_89ef_52540041af13row16_col0{\n",
       "            background-color:  #f1ebf4;\n",
       "            color:  #000000;\n",
       "        }#T_9d179e9c_485d_11eb_89ef_52540041af13row1_col2,#T_9d179e9c_485d_11eb_89ef_52540041af13row2_col1,#T_9d179e9c_485d_11eb_89ef_52540041af13row2_col11,#T_9d179e9c_485d_11eb_89ef_52540041af13row11_col2{\n",
       "            background-color:  #88b1d4;\n",
       "            color:  #000000;\n",
       "        }#T_9d179e9c_485d_11eb_89ef_52540041af13row1_col3,#T_9d179e9c_485d_11eb_89ef_52540041af13row2_col9,#T_9d179e9c_485d_11eb_89ef_52540041af13row3_col1,#T_9d179e9c_485d_11eb_89ef_52540041af13row4_col10,#T_9d179e9c_485d_11eb_89ef_52540041af13row7_col15,#T_9d179e9c_485d_11eb_89ef_52540041af13row9_col2,#T_9d179e9c_485d_11eb_89ef_52540041af13row10_col4,#T_9d179e9c_485d_11eb_89ef_52540041af13row15_col7{\n",
       "            background-color:  #83afd3;\n",
       "            color:  #000000;\n",
       "        }#T_9d179e9c_485d_11eb_89ef_52540041af13row1_col4,#T_9d179e9c_485d_11eb_89ef_52540041af13row1_col8,#T_9d179e9c_485d_11eb_89ef_52540041af13row4_col1,#T_9d179e9c_485d_11eb_89ef_52540041af13row8_col1{\n",
       "            background-color:  #84b0d3;\n",
       "            color:  #000000;\n",
       "        }#T_9d179e9c_485d_11eb_89ef_52540041af13row1_col5,#T_9d179e9c_485d_11eb_89ef_52540041af13row5_col1,#T_9d179e9c_485d_11eb_89ef_52540041af13row5_col7,#T_9d179e9c_485d_11eb_89ef_52540041af13row7_col5,#T_9d179e9c_485d_11eb_89ef_52540041af13row7_col14,#T_9d179e9c_485d_11eb_89ef_52540041af13row9_col11,#T_9d179e9c_485d_11eb_89ef_52540041af13row9_col16,#T_9d179e9c_485d_11eb_89ef_52540041af13row11_col9,#T_9d179e9c_485d_11eb_89ef_52540041af13row14_col7,#T_9d179e9c_485d_11eb_89ef_52540041af13row16_col9{\n",
       "            background-color:  #167bb6;\n",
       "            color:  #000000;\n",
       "        }#T_9d179e9c_485d_11eb_89ef_52540041af13row1_col6,#T_9d179e9c_485d_11eb_89ef_52540041af13row1_col10,#T_9d179e9c_485d_11eb_89ef_52540041af13row6_col1,#T_9d179e9c_485d_11eb_89ef_52540041af13row10_col1,#T_9d179e9c_485d_11eb_89ef_52540041af13row10_col13,#T_9d179e9c_485d_11eb_89ef_52540041af13row13_col10{\n",
       "            background-color:  #358fc0;\n",
       "            color:  #000000;\n",
       "        }#T_9d179e9c_485d_11eb_89ef_52540041af13row1_col7,#T_9d179e9c_485d_11eb_89ef_52540041af13row7_col1{\n",
       "            background-color:  #80aed2;\n",
       "            color:  #000000;\n",
       "        }#T_9d179e9c_485d_11eb_89ef_52540041af13row1_col9,#T_9d179e9c_485d_11eb_89ef_52540041af13row9_col1{\n",
       "            background-color:  #67a4cc;\n",
       "            color:  #000000;\n",
       "        }#T_9d179e9c_485d_11eb_89ef_52540041af13row1_col11,#T_9d179e9c_485d_11eb_89ef_52540041af13row11_col1{\n",
       "            background-color:  #529bc7;\n",
       "            color:  #000000;\n",
       "        }#T_9d179e9c_485d_11eb_89ef_52540041af13row1_col12,#T_9d179e9c_485d_11eb_89ef_52540041af13row12_col1{\n",
       "            background-color:  #d9d8ea;\n",
       "            color:  #000000;\n",
       "        }#T_9d179e9c_485d_11eb_89ef_52540041af13row1_col13,#T_9d179e9c_485d_11eb_89ef_52540041af13row13_col1{\n",
       "            background-color:  #7eadd1;\n",
       "            color:  #000000;\n",
       "        }#T_9d179e9c_485d_11eb_89ef_52540041af13row1_col14,#T_9d179e9c_485d_11eb_89ef_52540041af13row14_col1{\n",
       "            background-color:  #d6d6e9;\n",
       "            color:  #000000;\n",
       "        }#T_9d179e9c_485d_11eb_89ef_52540041af13row1_col15,#T_9d179e9c_485d_11eb_89ef_52540041af13row2_col12,#T_9d179e9c_485d_11eb_89ef_52540041af13row12_col2,#T_9d179e9c_485d_11eb_89ef_52540041af13row15_col1{\n",
       "            background-color:  #d5d5e8;\n",
       "            color:  #000000;\n",
       "        }#T_9d179e9c_485d_11eb_89ef_52540041af13row1_col16,#T_9d179e9c_485d_11eb_89ef_52540041af13row4_col5,#T_9d179e9c_485d_11eb_89ef_52540041af13row4_col14,#T_9d179e9c_485d_11eb_89ef_52540041af13row5_col4,#T_9d179e9c_485d_11eb_89ef_52540041af13row5_col9,#T_9d179e9c_485d_11eb_89ef_52540041af13row9_col5,#T_9d179e9c_485d_11eb_89ef_52540041af13row14_col4,#T_9d179e9c_485d_11eb_89ef_52540041af13row16_col1{\n",
       "            background-color:  #4897c4;\n",
       "            color:  #000000;\n",
       "        }#T_9d179e9c_485d_11eb_89ef_52540041af13row2_col3,#T_9d179e9c_485d_11eb_89ef_52540041af13row3_col2,#T_9d179e9c_485d_11eb_89ef_52540041af13row8_col9,#T_9d179e9c_485d_11eb_89ef_52540041af13row9_col8,#T_9d179e9c_485d_11eb_89ef_52540041af13row11_col13,#T_9d179e9c_485d_11eb_89ef_52540041af13row13_col11{\n",
       "            background-color:  #3790c0;\n",
       "            color:  #000000;\n",
       "        }#T_9d179e9c_485d_11eb_89ef_52540041af13row2_col4,#T_9d179e9c_485d_11eb_89ef_52540041af13row4_col2,#T_9d179e9c_485d_11eb_89ef_52540041af13row9_col14,#T_9d179e9c_485d_11eb_89ef_52540041af13row14_col9{\n",
       "            background-color:  #9ebad9;\n",
       "            color:  #000000;\n",
       "        }#T_9d179e9c_485d_11eb_89ef_52540041af13row2_col5,#T_9d179e9c_485d_11eb_89ef_52540041af13row5_col2{\n",
       "            background-color:  #569dc8;\n",
       "            color:  #000000;\n",
       "        }#T_9d179e9c_485d_11eb_89ef_52540041af13row2_col6,#T_9d179e9c_485d_11eb_89ef_52540041af13row6_col2{\n",
       "            background-color:  #7bacd1;\n",
       "            color:  #000000;\n",
       "        }#T_9d179e9c_485d_11eb_89ef_52540041af13row2_col7,#T_9d179e9c_485d_11eb_89ef_52540041af13row7_col2,#T_9d179e9c_485d_11eb_89ef_52540041af13row11_col12,#T_9d179e9c_485d_11eb_89ef_52540041af13row12_col11{\n",
       "            background-color:  #a7bddb;\n",
       "            color:  #000000;\n",
       "        }#T_9d179e9c_485d_11eb_89ef_52540041af13row2_col8,#T_9d179e9c_485d_11eb_89ef_52540041af13row8_col2{\n",
       "            background-color:  #bdc8e1;\n",
       "            color:  #000000;\n",
       "        }#T_9d179e9c_485d_11eb_89ef_52540041af13row2_col10,#T_9d179e9c_485d_11eb_89ef_52540041af13row10_col2{\n",
       "            background-color:  #8cb3d5;\n",
       "            color:  #000000;\n",
       "        }#T_9d179e9c_485d_11eb_89ef_52540041af13row2_col13,#T_9d179e9c_485d_11eb_89ef_52540041af13row13_col2{\n",
       "            background-color:  #86b0d3;\n",
       "            color:  #000000;\n",
       "        }#T_9d179e9c_485d_11eb_89ef_52540041af13row2_col14,#T_9d179e9c_485d_11eb_89ef_52540041af13row14_col2{\n",
       "            background-color:  #e7e3f0;\n",
       "            color:  #000000;\n",
       "        }#T_9d179e9c_485d_11eb_89ef_52540041af13row2_col16,#T_9d179e9c_485d_11eb_89ef_52540041af13row16_col2{\n",
       "            background-color:  #91b5d6;\n",
       "            color:  #000000;\n",
       "        }#T_9d179e9c_485d_11eb_89ef_52540041af13row3_col5,#T_9d179e9c_485d_11eb_89ef_52540041af13row3_col9,#T_9d179e9c_485d_11eb_89ef_52540041af13row5_col3,#T_9d179e9c_485d_11eb_89ef_52540041af13row9_col3,#T_9d179e9c_485d_11eb_89ef_52540041af13row10_col15,#T_9d179e9c_485d_11eb_89ef_52540041af13row15_col10{\n",
       "            background-color:  #c6cce3;\n",
       "            color:  #000000;\n",
       "        }#T_9d179e9c_485d_11eb_89ef_52540041af13row3_col6,#T_9d179e9c_485d_11eb_89ef_52540041af13row6_col3{\n",
       "            background-color:  #d7d6e9;\n",
       "            color:  #000000;\n",
       "        }#T_9d179e9c_485d_11eb_89ef_52540041af13row3_col7,#T_9d179e9c_485d_11eb_89ef_52540041af13row3_col12,#T_9d179e9c_485d_11eb_89ef_52540041af13row7_col3,#T_9d179e9c_485d_11eb_89ef_52540041af13row12_col3{\n",
       "            background-color:  #f0eaf4;\n",
       "            color:  #000000;\n",
       "        }#T_9d179e9c_485d_11eb_89ef_52540041af13row3_col10,#T_9d179e9c_485d_11eb_89ef_52540041af13row10_col3{\n",
       "            background-color:  #c5cce3;\n",
       "            color:  #000000;\n",
       "        }#T_9d179e9c_485d_11eb_89ef_52540041af13row3_col13,#T_9d179e9c_485d_11eb_89ef_52540041af13row13_col3{\n",
       "            background-color:  #c2cbe2;\n",
       "            color:  #000000;\n",
       "        }#T_9d179e9c_485d_11eb_89ef_52540041af13row3_col15,#T_9d179e9c_485d_11eb_89ef_52540041af13row15_col3{\n",
       "            background-color:  #bbc7e0;\n",
       "            color:  #000000;\n",
       "        }#T_9d179e9c_485d_11eb_89ef_52540041af13row3_col16,#T_9d179e9c_485d_11eb_89ef_52540041af13row16_col3{\n",
       "            background-color:  #e2dfee;\n",
       "            color:  #000000;\n",
       "        }#T_9d179e9c_485d_11eb_89ef_52540041af13row4_col6,#T_9d179e9c_485d_11eb_89ef_52540041af13row6_col4{\n",
       "            background-color:  #3b92c1;\n",
       "            color:  #000000;\n",
       "        }#T_9d179e9c_485d_11eb_89ef_52540041af13row4_col7,#T_9d179e9c_485d_11eb_89ef_52540041af13row5_col8,#T_9d179e9c_485d_11eb_89ef_52540041af13row7_col4,#T_9d179e9c_485d_11eb_89ef_52540041af13row8_col5{\n",
       "            background-color:  #2081b9;\n",
       "            color:  #000000;\n",
       "        }#T_9d179e9c_485d_11eb_89ef_52540041af13row4_col8,#T_9d179e9c_485d_11eb_89ef_52540041af13row8_col4{\n",
       "            background-color:  #187cb6;\n",
       "            color:  #000000;\n",
       "        }#T_9d179e9c_485d_11eb_89ef_52540041af13row4_col9,#T_9d179e9c_485d_11eb_89ef_52540041af13row9_col4{\n",
       "            background-color:  #7dacd1;\n",
       "            color:  #000000;\n",
       "        }#T_9d179e9c_485d_11eb_89ef_52540041af13row4_col11,#T_9d179e9c_485d_11eb_89ef_52540041af13row4_col13,#T_9d179e9c_485d_11eb_89ef_52540041af13row11_col4,#T_9d179e9c_485d_11eb_89ef_52540041af13row13_col4{\n",
       "            background-color:  #4496c3;\n",
       "            color:  #000000;\n",
       "        }#T_9d179e9c_485d_11eb_89ef_52540041af13row4_col12,#T_9d179e9c_485d_11eb_89ef_52540041af13row12_col4{\n",
       "            background-color:  #4094c3;\n",
       "            color:  #000000;\n",
       "        }#T_9d179e9c_485d_11eb_89ef_52540041af13row4_col16,#T_9d179e9c_485d_11eb_89ef_52540041af13row16_col4{\n",
       "            background-color:  #348ebf;\n",
       "            color:  #000000;\n",
       "        }#T_9d179e9c_485d_11eb_89ef_52540041af13row5_col6,#T_9d179e9c_485d_11eb_89ef_52540041af13row6_col5{\n",
       "            background-color:  #056aa6;\n",
       "            color:  #f1f1f1;\n",
       "        }#T_9d179e9c_485d_11eb_89ef_52540041af13row5_col10,#T_9d179e9c_485d_11eb_89ef_52540041af13row10_col5{\n",
       "            background-color:  #157ab5;\n",
       "            color:  #000000;\n",
       "        }#T_9d179e9c_485d_11eb_89ef_52540041af13row5_col11,#T_9d179e9c_485d_11eb_89ef_52540041af13row11_col5{\n",
       "            background-color:  #0c74b2;\n",
       "            color:  #f1f1f1;\n",
       "        }#T_9d179e9c_485d_11eb_89ef_52540041af13row5_col12,#T_9d179e9c_485d_11eb_89ef_52540041af13row12_col5{\n",
       "            background-color:  #8fb4d6;\n",
       "            color:  #000000;\n",
       "        }#T_9d179e9c_485d_11eb_89ef_52540041af13row5_col13,#T_9d179e9c_485d_11eb_89ef_52540041af13row13_col5{\n",
       "            background-color:  #4295c3;\n",
       "            color:  #000000;\n",
       "        }#T_9d179e9c_485d_11eb_89ef_52540041af13row5_col14,#T_9d179e9c_485d_11eb_89ef_52540041af13row14_col5{\n",
       "            background-color:  #a1bbda;\n",
       "            color:  #000000;\n",
       "        }#T_9d179e9c_485d_11eb_89ef_52540041af13row5_col15,#T_9d179e9c_485d_11eb_89ef_52540041af13row15_col5{\n",
       "            background-color:  #bcc7e1;\n",
       "            color:  #000000;\n",
       "        }#T_9d179e9c_485d_11eb_89ef_52540041af13row5_col16,#T_9d179e9c_485d_11eb_89ef_52540041af13row16_col5{\n",
       "            background-color:  #04629a;\n",
       "            color:  #f1f1f1;\n",
       "        }#T_9d179e9c_485d_11eb_89ef_52540041af13row6_col7,#T_9d179e9c_485d_11eb_89ef_52540041af13row7_col6{\n",
       "            background-color:  #045c90;\n",
       "            color:  #f1f1f1;\n",
       "        }#T_9d179e9c_485d_11eb_89ef_52540041af13row6_col8,#T_9d179e9c_485d_11eb_89ef_52540041af13row8_col6{\n",
       "            background-color:  #046096;\n",
       "            color:  #f1f1f1;\n",
       "        }#T_9d179e9c_485d_11eb_89ef_52540041af13row6_col9,#T_9d179e9c_485d_11eb_89ef_52540041af13row9_col6{\n",
       "            background-color:  #1c7fb8;\n",
       "            color:  #000000;\n",
       "        }#T_9d179e9c_485d_11eb_89ef_52540041af13row6_col10,#T_9d179e9c_485d_11eb_89ef_52540041af13row10_col6{\n",
       "            background-color:  #046299;\n",
       "            color:  #f1f1f1;\n",
       "        }#T_9d179e9c_485d_11eb_89ef_52540041af13row6_col11,#T_9d179e9c_485d_11eb_89ef_52540041af13row11_col6,#T_9d179e9c_485d_11eb_89ef_52540041af13row12_col14,#T_9d179e9c_485d_11eb_89ef_52540041af13row14_col12{\n",
       "            background-color:  #056faf;\n",
       "            color:  #f1f1f1;\n",
       "        }#T_9d179e9c_485d_11eb_89ef_52540041af13row6_col12,#T_9d179e9c_485d_11eb_89ef_52540041af13row12_col6{\n",
       "            background-color:  #5c9fc9;\n",
       "            color:  #000000;\n",
       "        }#T_9d179e9c_485d_11eb_89ef_52540041af13row6_col13,#T_9d179e9c_485d_11eb_89ef_52540041af13row8_col14,#T_9d179e9c_485d_11eb_89ef_52540041af13row13_col6,#T_9d179e9c_485d_11eb_89ef_52540041af13row14_col8{\n",
       "            background-color:  #1278b4;\n",
       "            color:  #f1f1f1;\n",
       "        }#T_9d179e9c_485d_11eb_89ef_52540041af13row6_col14,#T_9d179e9c_485d_11eb_89ef_52540041af13row9_col13,#T_9d179e9c_485d_11eb_89ef_52540041af13row13_col9,#T_9d179e9c_485d_11eb_89ef_52540041af13row14_col6{\n",
       "            background-color:  #549cc7;\n",
       "            color:  #000000;\n",
       "        }#T_9d179e9c_485d_11eb_89ef_52540041af13row6_col15,#T_9d179e9c_485d_11eb_89ef_52540041af13row15_col6{\n",
       "            background-color:  #b0c2de;\n",
       "            color:  #000000;\n",
       "        }#T_9d179e9c_485d_11eb_89ef_52540041af13row6_col16,#T_9d179e9c_485d_11eb_89ef_52540041af13row16_col6{\n",
       "            background-color:  #03517e;\n",
       "            color:  #f1f1f1;\n",
       "        }#T_9d179e9c_485d_11eb_89ef_52540041af13row7_col8,#T_9d179e9c_485d_11eb_89ef_52540041af13row8_col7{\n",
       "            background-color:  #04598c;\n",
       "            color:  #f1f1f1;\n",
       "        }#T_9d179e9c_485d_11eb_89ef_52540041af13row7_col9,#T_9d179e9c_485d_11eb_89ef_52540041af13row9_col7{\n",
       "            background-color:  #2d8abd;\n",
       "            color:  #000000;\n",
       "        }#T_9d179e9c_485d_11eb_89ef_52540041af13row7_col10,#T_9d179e9c_485d_11eb_89ef_52540041af13row10_col7{\n",
       "            background-color:  #0570b0;\n",
       "            color:  #f1f1f1;\n",
       "        }#T_9d179e9c_485d_11eb_89ef_52540041af13row7_col11,#T_9d179e9c_485d_11eb_89ef_52540041af13row11_col7{\n",
       "            background-color:  #056fae;\n",
       "            color:  #f1f1f1;\n",
       "        }#T_9d179e9c_485d_11eb_89ef_52540041af13row7_col12,#T_9d179e9c_485d_11eb_89ef_52540041af13row9_col10,#T_9d179e9c_485d_11eb_89ef_52540041af13row10_col9,#T_9d179e9c_485d_11eb_89ef_52540041af13row12_col7,#T_9d179e9c_485d_11eb_89ef_52540041af13row13_col14,#T_9d179e9c_485d_11eb_89ef_52540041af13row14_col13{\n",
       "            background-color:  #2182b9;\n",
       "            color:  #000000;\n",
       "        }#T_9d179e9c_485d_11eb_89ef_52540041af13row7_col13,#T_9d179e9c_485d_11eb_89ef_52540041af13row13_col7{\n",
       "            background-color:  #056ead;\n",
       "            color:  #f1f1f1;\n",
       "        }#T_9d179e9c_485d_11eb_89ef_52540041af13row7_col16,#T_9d179e9c_485d_11eb_89ef_52540041af13row16_col7{\n",
       "            background-color:  #045280;\n",
       "            color:  #f1f1f1;\n",
       "        }#T_9d179e9c_485d_11eb_89ef_52540041af13row8_col10,#T_9d179e9c_485d_11eb_89ef_52540041af13row10_col8{\n",
       "            background-color:  #1b7eb7;\n",
       "            color:  #000000;\n",
       "        }#T_9d179e9c_485d_11eb_89ef_52540041af13row8_col11,#T_9d179e9c_485d_11eb_89ef_52540041af13row11_col8,#T_9d179e9c_485d_11eb_89ef_52540041af13row13_col16,#T_9d179e9c_485d_11eb_89ef_52540041af13row16_col13{\n",
       "            background-color:  #056caa;\n",
       "            color:  #f1f1f1;\n",
       "        }#T_9d179e9c_485d_11eb_89ef_52540041af13row8_col12,#T_9d179e9c_485d_11eb_89ef_52540041af13row12_col8{\n",
       "            background-color:  #2c89bd;\n",
       "            color:  #000000;\n",
       "        }#T_9d179e9c_485d_11eb_89ef_52540041af13row8_col13,#T_9d179e9c_485d_11eb_89ef_52540041af13row13_col8{\n",
       "            background-color:  #0f76b3;\n",
       "            color:  #f1f1f1;\n",
       "        }#T_9d179e9c_485d_11eb_89ef_52540041af13row8_col15,#T_9d179e9c_485d_11eb_89ef_52540041af13row15_col8{\n",
       "            background-color:  #79abd0;\n",
       "            color:  #000000;\n",
       "        }#T_9d179e9c_485d_11eb_89ef_52540041af13row8_col16,#T_9d179e9c_485d_11eb_89ef_52540041af13row16_col8{\n",
       "            background-color:  #045788;\n",
       "            color:  #f1f1f1;\n",
       "        }#T_9d179e9c_485d_11eb_89ef_52540041af13row9_col12,#T_9d179e9c_485d_11eb_89ef_52540041af13row12_col9{\n",
       "            background-color:  #a8bedc;\n",
       "            color:  #000000;\n",
       "        }#T_9d179e9c_485d_11eb_89ef_52540041af13row9_col15,#T_9d179e9c_485d_11eb_89ef_52540041af13row15_col9{\n",
       "            background-color:  #b4c4df;\n",
       "            color:  #000000;\n",
       "        }#T_9d179e9c_485d_11eb_89ef_52540041af13row10_col11,#T_9d179e9c_485d_11eb_89ef_52540041af13row11_col10,#T_9d179e9c_485d_11eb_89ef_52540041af13row14_col15,#T_9d179e9c_485d_11eb_89ef_52540041af13row15_col14{\n",
       "            background-color:  #2484ba;\n",
       "            color:  #000000;\n",
       "        }#T_9d179e9c_485d_11eb_89ef_52540041af13row10_col12,#T_9d179e9c_485d_11eb_89ef_52540041af13row12_col10{\n",
       "            background-color:  #71a8ce;\n",
       "            color:  #000000;\n",
       "        }#T_9d179e9c_485d_11eb_89ef_52540041af13row10_col14,#T_9d179e9c_485d_11eb_89ef_52540041af13row14_col10{\n",
       "            background-color:  #69a5cc;\n",
       "            color:  #000000;\n",
       "        }#T_9d179e9c_485d_11eb_89ef_52540041af13row10_col16,#T_9d179e9c_485d_11eb_89ef_52540041af13row16_col10{\n",
       "            background-color:  #04649d;\n",
       "            color:  #f1f1f1;\n",
       "        }#T_9d179e9c_485d_11eb_89ef_52540041af13row11_col14,#T_9d179e9c_485d_11eb_89ef_52540041af13row14_col11{\n",
       "            background-color:  #78abd0;\n",
       "            color:  #000000;\n",
       "        }#T_9d179e9c_485d_11eb_89ef_52540041af13row11_col15,#T_9d179e9c_485d_11eb_89ef_52540041af13row15_col11,#T_9d179e9c_485d_11eb_89ef_52540041af13row15_col16,#T_9d179e9c_485d_11eb_89ef_52540041af13row16_col15{\n",
       "            background-color:  #adc1dd;\n",
       "            color:  #000000;\n",
       "        }#T_9d179e9c_485d_11eb_89ef_52540041af13row11_col16,#T_9d179e9c_485d_11eb_89ef_52540041af13row16_col11{\n",
       "            background-color:  #0567a2;\n",
       "            color:  #f1f1f1;\n",
       "        }#T_9d179e9c_485d_11eb_89ef_52540041af13row12_col13,#T_9d179e9c_485d_11eb_89ef_52540041af13row13_col12{\n",
       "            background-color:  #328dbf;\n",
       "            color:  #000000;\n",
       "        }#T_9d179e9c_485d_11eb_89ef_52540041af13row12_col15,#T_9d179e9c_485d_11eb_89ef_52540041af13row15_col12{\n",
       "            background-color:  #2786bb;\n",
       "            color:  #000000;\n",
       "        }#T_9d179e9c_485d_11eb_89ef_52540041af13row12_col16,#T_9d179e9c_485d_11eb_89ef_52540041af13row16_col12{\n",
       "            background-color:  #3d93c2;\n",
       "            color:  #000000;\n",
       "        }#T_9d179e9c_485d_11eb_89ef_52540041af13row13_col15,#T_9d179e9c_485d_11eb_89ef_52540041af13row15_col13{\n",
       "            background-color:  #3f93c2;\n",
       "            color:  #000000;\n",
       "        }</style><table id=\"T_9d179e9c_485d_11eb_89ef_52540041af13\" ><thead>    <tr>        <th class=\"blank level0\" ></th>        <th class=\"col_heading level0 col0\" >Rt</th>        <th class=\"col_heading level0 col1\" >theta</th>        <th class=\"col_heading level0 col2\" >kappa</th>        <th class=\"col_heading level0 col3\" >rho</th>        <th class=\"col_heading level0 col4\" >sigma</th>        <th class=\"col_heading level0 col5\" >School_closing</th>        <th class=\"col_heading level0 col6\" >Workplace_closing</th>        <th class=\"col_heading level0 col7\" >Cancel_events</th>        <th class=\"col_heading level0 col8\" >Gatherings_restrictions</th>        <th class=\"col_heading level0 col9\" >Transport_closing</th>        <th class=\"col_heading level0 col10\" >Stay_home_restrictions</th>        <th class=\"col_heading level0 col11\" >Internal_movement_restrictions</th>        <th class=\"col_heading level0 col12\" >International_movement_restrictions</th>        <th class=\"col_heading level0 col13\" >Information_campaigns</th>        <th class=\"col_heading level0 col14\" >Testing_policy</th>        <th class=\"col_heading level0 col15\" >Contact_tracing</th>        <th class=\"col_heading level0 col16\" >Stringency_index</th>    </tr></thead><tbody>\n",
       "                <tr>\n",
       "                        <th id=\"T_9d179e9c_485d_11eb_89ef_52540041af13level0_row0\" class=\"row_heading level0 row0\" >Rt</th>\n",
       "                        <td id=\"T_9d179e9c_485d_11eb_89ef_52540041af13row0_col0\" class=\"data row0 col0\" >1.000000</td>\n",
       "                        <td id=\"T_9d179e9c_485d_11eb_89ef_52540041af13row0_col1\" class=\"data row0 col1\" >-0.008039</td>\n",
       "                        <td id=\"T_9d179e9c_485d_11eb_89ef_52540041af13row0_col2\" class=\"data row0 col2\" >0.280644</td>\n",
       "                        <td id=\"T_9d179e9c_485d_11eb_89ef_52540041af13row0_col3\" class=\"data row0 col3\" >0.855516</td>\n",
       "                        <td id=\"T_9d179e9c_485d_11eb_89ef_52540041af13row0_col4\" class=\"data row0 col4\" >-0.678988</td>\n",
       "                        <td id=\"T_9d179e9c_485d_11eb_89ef_52540041af13row0_col5\" class=\"data row0 col5\" >-0.262334</td>\n",
       "                        <td id=\"T_9d179e9c_485d_11eb_89ef_52540041af13row0_col6\" class=\"data row0 col6\" >-0.521014</td>\n",
       "                        <td id=\"T_9d179e9c_485d_11eb_89ef_52540041af13row0_col7\" class=\"data row0 col7\" >-0.680630</td>\n",
       "                        <td id=\"T_9d179e9c_485d_11eb_89ef_52540041af13row0_col8\" class=\"data row0 col8\" >-0.731535</td>\n",
       "                        <td id=\"T_9d179e9c_485d_11eb_89ef_52540041af13row0_col9\" class=\"data row0 col9\" >-0.295415</td>\n",
       "                        <td id=\"T_9d179e9c_485d_11eb_89ef_52540041af13row0_col10\" class=\"data row0 col10\" >-0.288569</td>\n",
       "                        <td id=\"T_9d179e9c_485d_11eb_89ef_52540041af13row0_col11\" class=\"data row0 col11\" >-0.423526</td>\n",
       "                        <td id=\"T_9d179e9c_485d_11eb_89ef_52540041af13row0_col12\" class=\"data row0 col12\" >-0.534608</td>\n",
       "                        <td id=\"T_9d179e9c_485d_11eb_89ef_52540041af13row0_col13\" class=\"data row0 col13\" >-0.458742</td>\n",
       "                        <td id=\"T_9d179e9c_485d_11eb_89ef_52540041af13row0_col14\" class=\"data row0 col14\" >-0.572218</td>\n",
       "                        <td id=\"T_9d179e9c_485d_11eb_89ef_52540041af13row0_col15\" class=\"data row0 col15\" >-0.280156</td>\n",
       "                        <td id=\"T_9d179e9c_485d_11eb_89ef_52540041af13row0_col16\" class=\"data row0 col16\" >-0.566829</td>\n",
       "            </tr>\n",
       "            <tr>\n",
       "                        <th id=\"T_9d179e9c_485d_11eb_89ef_52540041af13level0_row1\" class=\"row_heading level0 row1\" >theta</th>\n",
       "                        <td id=\"T_9d179e9c_485d_11eb_89ef_52540041af13row1_col0\" class=\"data row1 col0\" >-0.008039</td>\n",
       "                        <td id=\"T_9d179e9c_485d_11eb_89ef_52540041af13row1_col1\" class=\"data row1 col1\" >1.000000</td>\n",
       "                        <td id=\"T_9d179e9c_485d_11eb_89ef_52540041af13row1_col2\" class=\"data row1 col2\" >0.052060</td>\n",
       "                        <td id=\"T_9d179e9c_485d_11eb_89ef_52540041af13row1_col3\" class=\"data row1 col3\" >0.072697</td>\n",
       "                        <td id=\"T_9d179e9c_485d_11eb_89ef_52540041af13row1_col4\" class=\"data row1 col4\" >0.066589</td>\n",
       "                        <td id=\"T_9d179e9c_485d_11eb_89ef_52540041af13row1_col5\" class=\"data row1 col5\" >0.489286</td>\n",
       "                        <td id=\"T_9d179e9c_485d_11eb_89ef_52540041af13row1_col6\" class=\"data row1 col6\" >0.354670</td>\n",
       "                        <td id=\"T_9d179e9c_485d_11eb_89ef_52540041af13row1_col7\" class=\"data row1 col7\" >0.085096</td>\n",
       "                        <td id=\"T_9d179e9c_485d_11eb_89ef_52540041af13row1_col8\" class=\"data row1 col8\" >0.063409</td>\n",
       "                        <td id=\"T_9d179e9c_485d_11eb_89ef_52540041af13row1_col9\" class=\"data row1 col9\" >0.178804</td>\n",
       "                        <td id=\"T_9d179e9c_485d_11eb_89ef_52540041af13row1_col10\" class=\"data row1 col10\" >0.352215</td>\n",
       "                        <td id=\"T_9d179e9c_485d_11eb_89ef_52540041af13row1_col11\" class=\"data row1 col11\" >0.251909</td>\n",
       "                        <td id=\"T_9d179e9c_485d_11eb_89ef_52540041af13row1_col12\" class=\"data row1 col12\" >-0.370476</td>\n",
       "                        <td id=\"T_9d179e9c_485d_11eb_89ef_52540041af13row1_col13\" class=\"data row1 col13\" >0.090292</td>\n",
       "                        <td id=\"T_9d179e9c_485d_11eb_89ef_52540041af13row1_col14\" class=\"data row1 col14\" >-0.339894</td>\n",
       "                        <td id=\"T_9d179e9c_485d_11eb_89ef_52540041af13row1_col15\" class=\"data row1 col15\" >-0.338655</td>\n",
       "                        <td id=\"T_9d179e9c_485d_11eb_89ef_52540041af13row1_col16\" class=\"data row1 col16\" >0.288858</td>\n",
       "            </tr>\n",
       "            <tr>\n",
       "                        <th id=\"T_9d179e9c_485d_11eb_89ef_52540041af13level0_row2\" class=\"row_heading level0 row2\" >kappa</th>\n",
       "                        <td id=\"T_9d179e9c_485d_11eb_89ef_52540041af13row2_col0\" class=\"data row2 col0\" >0.280644</td>\n",
       "                        <td id=\"T_9d179e9c_485d_11eb_89ef_52540041af13row2_col1\" class=\"data row2 col1\" >0.052060</td>\n",
       "                        <td id=\"T_9d179e9c_485d_11eb_89ef_52540041af13row2_col2\" class=\"data row2 col2\" >1.000000</td>\n",
       "                        <td id=\"T_9d179e9c_485d_11eb_89ef_52540041af13row2_col3\" class=\"data row2 col3\" >0.348921</td>\n",
       "                        <td id=\"T_9d179e9c_485d_11eb_89ef_52540041af13row2_col4\" class=\"data row2 col4\" >-0.044084</td>\n",
       "                        <td id=\"T_9d179e9c_485d_11eb_89ef_52540041af13row2_col5\" class=\"data row2 col5\" >0.237587</td>\n",
       "                        <td id=\"T_9d179e9c_485d_11eb_89ef_52540041af13row2_col6\" class=\"data row2 col6\" >0.103534</td>\n",
       "                        <td id=\"T_9d179e9c_485d_11eb_89ef_52540041af13row2_col7\" class=\"data row2 col7\" >-0.087560</td>\n",
       "                        <td id=\"T_9d179e9c_485d_11eb_89ef_52540041af13row2_col8\" class=\"data row2 col8\" >-0.198773</td>\n",
       "                        <td id=\"T_9d179e9c_485d_11eb_89ef_52540041af13row2_col9\" class=\"data row2 col9\" >0.071169</td>\n",
       "                        <td id=\"T_9d179e9c_485d_11eb_89ef_52540041af13row2_col10\" class=\"data row2 col10\" >0.029954</td>\n",
       "                        <td id=\"T_9d179e9c_485d_11eb_89ef_52540041af13row2_col11\" class=\"data row2 col11\" >0.047031</td>\n",
       "                        <td id=\"T_9d179e9c_485d_11eb_89ef_52540041af13row2_col12\" class=\"data row2 col12\" >-0.334567</td>\n",
       "                        <td id=\"T_9d179e9c_485d_11eb_89ef_52540041af13row2_col13\" class=\"data row2 col13\" >0.057948</td>\n",
       "                        <td id=\"T_9d179e9c_485d_11eb_89ef_52540041af13row2_col14\" class=\"data row2 col14\" >-0.476514</td>\n",
       "                        <td id=\"T_9d179e9c_485d_11eb_89ef_52540041af13row2_col15\" class=\"data row2 col15\" >-0.281816</td>\n",
       "                        <td id=\"T_9d179e9c_485d_11eb_89ef_52540041af13row2_col16\" class=\"data row2 col16\" >0.011702</td>\n",
       "            </tr>\n",
       "            <tr>\n",
       "                        <th id=\"T_9d179e9c_485d_11eb_89ef_52540041af13level0_row3\" class=\"row_heading level0 row3\" >rho</th>\n",
       "                        <td id=\"T_9d179e9c_485d_11eb_89ef_52540041af13row3_col0\" class=\"data row3 col0\" >0.855516</td>\n",
       "                        <td id=\"T_9d179e9c_485d_11eb_89ef_52540041af13row3_col1\" class=\"data row3 col1\" >0.072697</td>\n",
       "                        <td id=\"T_9d179e9c_485d_11eb_89ef_52540041af13row3_col2\" class=\"data row3 col2\" >0.348921</td>\n",
       "                        <td id=\"T_9d179e9c_485d_11eb_89ef_52540041af13row3_col3\" class=\"data row3 col3\" >1.000000</td>\n",
       "                        <td id=\"T_9d179e9c_485d_11eb_89ef_52540041af13row3_col4\" class=\"data row3 col4\" >-0.564195</td>\n",
       "                        <td id=\"T_9d179e9c_485d_11eb_89ef_52540041af13row3_col5\" class=\"data row3 col5\" >-0.245284</td>\n",
       "                        <td id=\"T_9d179e9c_485d_11eb_89ef_52540041af13row3_col6\" class=\"data row3 col6\" >-0.349741</td>\n",
       "                        <td id=\"T_9d179e9c_485d_11eb_89ef_52540041af13row3_col7\" class=\"data row3 col7\" >-0.551740</td>\n",
       "                        <td id=\"T_9d179e9c_485d_11eb_89ef_52540041af13row3_col8\" class=\"data row3 col8\" >-0.530104</td>\n",
       "                        <td id=\"T_9d179e9c_485d_11eb_89ef_52540041af13row3_col9\" class=\"data row3 col9\" >-0.251150</td>\n",
       "                        <td id=\"T_9d179e9c_485d_11eb_89ef_52540041af13row3_col10\" class=\"data row3 col10\" >-0.242173</td>\n",
       "                        <td id=\"T_9d179e9c_485d_11eb_89ef_52540041af13row3_col11\" class=\"data row3 col11\" >-0.263720</td>\n",
       "                        <td id=\"T_9d179e9c_485d_11eb_89ef_52540041af13row3_col12\" class=\"data row3 col12\" >-0.549087</td>\n",
       "                        <td id=\"T_9d179e9c_485d_11eb_89ef_52540041af13row3_col13\" class=\"data row3 col13\" >-0.227093</td>\n",
       "                        <td id=\"T_9d179e9c_485d_11eb_89ef_52540041af13row3_col14\" class=\"data row3 col14\" >-0.529841</td>\n",
       "                        <td id=\"T_9d179e9c_485d_11eb_89ef_52540041af13row3_col15\" class=\"data row3 col15\" >-0.186980</td>\n",
       "                        <td id=\"T_9d179e9c_485d_11eb_89ef_52540041af13row3_col16\" class=\"data row3 col16\" >-0.440567</td>\n",
       "            </tr>\n",
       "            <tr>\n",
       "                        <th id=\"T_9d179e9c_485d_11eb_89ef_52540041af13level0_row4\" class=\"row_heading level0 row4\" >sigma</th>\n",
       "                        <td id=\"T_9d179e9c_485d_11eb_89ef_52540041af13row4_col0\" class=\"data row4 col0\" >-0.678988</td>\n",
       "                        <td id=\"T_9d179e9c_485d_11eb_89ef_52540041af13row4_col1\" class=\"data row4 col1\" >0.066589</td>\n",
       "                        <td id=\"T_9d179e9c_485d_11eb_89ef_52540041af13row4_col2\" class=\"data row4 col2\" >-0.044084</td>\n",
       "                        <td id=\"T_9d179e9c_485d_11eb_89ef_52540041af13row4_col3\" class=\"data row4 col3\" >-0.564195</td>\n",
       "                        <td id=\"T_9d179e9c_485d_11eb_89ef_52540041af13row4_col4\" class=\"data row4 col4\" >1.000000</td>\n",
       "                        <td id=\"T_9d179e9c_485d_11eb_89ef_52540041af13row4_col5\" class=\"data row4 col5\" >0.287187</td>\n",
       "                        <td id=\"T_9d179e9c_485d_11eb_89ef_52540041af13row4_col6\" class=\"data row4 col6\" >0.336414</td>\n",
       "                        <td id=\"T_9d179e9c_485d_11eb_89ef_52540041af13row4_col7\" class=\"data row4 col7\" >0.450712</td>\n",
       "                        <td id=\"T_9d179e9c_485d_11eb_89ef_52540041af13row4_col8\" class=\"data row4 col8\" >0.482147</td>\n",
       "                        <td id=\"T_9d179e9c_485d_11eb_89ef_52540041af13row4_col9\" class=\"data row4 col9\" >0.096592</td>\n",
       "                        <td id=\"T_9d179e9c_485d_11eb_89ef_52540041af13row4_col10\" class=\"data row4 col10\" >0.066723</td>\n",
       "                        <td id=\"T_9d179e9c_485d_11eb_89ef_52540041af13row4_col11\" class=\"data row4 col11\" >0.296621</td>\n",
       "                        <td id=\"T_9d179e9c_485d_11eb_89ef_52540041af13row4_col12\" class=\"data row4 col12\" >0.312573</td>\n",
       "                        <td id=\"T_9d179e9c_485d_11eb_89ef_52540041af13row4_col13\" class=\"data row4 col13\" >0.302757</td>\n",
       "                        <td id=\"T_9d179e9c_485d_11eb_89ef_52540041af13row4_col14\" class=\"data row4 col14\" >0.284349</td>\n",
       "                        <td id=\"T_9d179e9c_485d_11eb_89ef_52540041af13row4_col15\" class=\"data row4 col15\" >0.280879</td>\n",
       "                        <td id=\"T_9d179e9c_485d_11eb_89ef_52540041af13row4_col16\" class=\"data row4 col16\" >0.362665</td>\n",
       "            </tr>\n",
       "            <tr>\n",
       "                        <th id=\"T_9d179e9c_485d_11eb_89ef_52540041af13level0_row5\" class=\"row_heading level0 row5\" >School_closing</th>\n",
       "                        <td id=\"T_9d179e9c_485d_11eb_89ef_52540041af13row5_col0\" class=\"data row5 col0\" >-0.262334</td>\n",
       "                        <td id=\"T_9d179e9c_485d_11eb_89ef_52540041af13row5_col1\" class=\"data row5 col1\" >0.489286</td>\n",
       "                        <td id=\"T_9d179e9c_485d_11eb_89ef_52540041af13row5_col2\" class=\"data row5 col2\" >0.237587</td>\n",
       "                        <td id=\"T_9d179e9c_485d_11eb_89ef_52540041af13row5_col3\" class=\"data row5 col3\" >-0.245284</td>\n",
       "                        <td id=\"T_9d179e9c_485d_11eb_89ef_52540041af13row5_col4\" class=\"data row5 col4\" >0.287187</td>\n",
       "                        <td id=\"T_9d179e9c_485d_11eb_89ef_52540041af13row5_col5\" class=\"data row5 col5\" >1.000000</td>\n",
       "                        <td id=\"T_9d179e9c_485d_11eb_89ef_52540041af13row5_col6\" class=\"data row5 col6\" >0.625072</td>\n",
       "                        <td id=\"T_9d179e9c_485d_11eb_89ef_52540041af13row5_col7\" class=\"data row5 col7\" >0.487344</td>\n",
       "                        <td id=\"T_9d179e9c_485d_11eb_89ef_52540041af13row5_col8\" class=\"data row5 col8\" >0.448050</td>\n",
       "                        <td id=\"T_9d179e9c_485d_11eb_89ef_52540041af13row5_col9\" class=\"data row5 col9\" >0.286889</td>\n",
       "                        <td id=\"T_9d179e9c_485d_11eb_89ef_52540041af13row5_col10\" class=\"data row5 col10\" >0.499435</td>\n",
       "                        <td id=\"T_9d179e9c_485d_11eb_89ef_52540041af13row5_col11\" class=\"data row5 col11\" >0.540015</td>\n",
       "                        <td id=\"T_9d179e9c_485d_11eb_89ef_52540041af13row5_col12\" class=\"data row5 col12\" >0.017638</td>\n",
       "                        <td id=\"T_9d179e9c_485d_11eb_89ef_52540041af13row5_col13\" class=\"data row5 col13\" >0.305584</td>\n",
       "                        <td id=\"T_9d179e9c_485d_11eb_89ef_52540041af13row5_col14\" class=\"data row5 col14\" >-0.060411</td>\n",
       "                        <td id=\"T_9d179e9c_485d_11eb_89ef_52540041af13row5_col15\" class=\"data row5 col15\" >-0.193378</td>\n",
       "                        <td id=\"T_9d179e9c_485d_11eb_89ef_52540041af13row5_col16\" class=\"data row5 col16\" >0.697822</td>\n",
       "            </tr>\n",
       "            <tr>\n",
       "                        <th id=\"T_9d179e9c_485d_11eb_89ef_52540041af13level0_row6\" class=\"row_heading level0 row6\" >Workplace_closing</th>\n",
       "                        <td id=\"T_9d179e9c_485d_11eb_89ef_52540041af13row6_col0\" class=\"data row6 col0\" >-0.521014</td>\n",
       "                        <td id=\"T_9d179e9c_485d_11eb_89ef_52540041af13row6_col1\" class=\"data row6 col1\" >0.354670</td>\n",
       "                        <td id=\"T_9d179e9c_485d_11eb_89ef_52540041af13row6_col2\" class=\"data row6 col2\" >0.103534</td>\n",
       "                        <td id=\"T_9d179e9c_485d_11eb_89ef_52540041af13row6_col3\" class=\"data row6 col3\" >-0.349741</td>\n",
       "                        <td id=\"T_9d179e9c_485d_11eb_89ef_52540041af13row6_col4\" class=\"data row6 col4\" >0.336414</td>\n",
       "                        <td id=\"T_9d179e9c_485d_11eb_89ef_52540041af13row6_col5\" class=\"data row6 col5\" >0.625072</td>\n",
       "                        <td id=\"T_9d179e9c_485d_11eb_89ef_52540041af13row6_col6\" class=\"data row6 col6\" >1.000000</td>\n",
       "                        <td id=\"T_9d179e9c_485d_11eb_89ef_52540041af13row6_col7\" class=\"data row6 col7\" >0.762648</td>\n",
       "                        <td id=\"T_9d179e9c_485d_11eb_89ef_52540041af13row6_col8\" class=\"data row6 col8\" >0.726848</td>\n",
       "                        <td id=\"T_9d179e9c_485d_11eb_89ef_52540041af13row6_col9\" class=\"data row6 col9\" >0.464161</td>\n",
       "                        <td id=\"T_9d179e9c_485d_11eb_89ef_52540041af13row6_col10\" class=\"data row6 col10\" >0.706300</td>\n",
       "                        <td id=\"T_9d179e9c_485d_11eb_89ef_52540041af13row6_col11\" class=\"data row6 col11\" >0.572050</td>\n",
       "                        <td id=\"T_9d179e9c_485d_11eb_89ef_52540041af13row6_col12\" class=\"data row6 col12\" >0.219574</td>\n",
       "                        <td id=\"T_9d179e9c_485d_11eb_89ef_52540041af13row6_col13\" class=\"data row6 col13\" >0.510326</td>\n",
       "                        <td id=\"T_9d179e9c_485d_11eb_89ef_52540041af13row6_col14\" class=\"data row6 col14\" >0.245985</td>\n",
       "                        <td id=\"T_9d179e9c_485d_11eb_89ef_52540041af13row6_col15\" class=\"data row6 col15\" >-0.135917</td>\n",
       "                        <td id=\"T_9d179e9c_485d_11eb_89ef_52540041af13row6_col16\" class=\"data row6 col16\" >0.844320</td>\n",
       "            </tr>\n",
       "            <tr>\n",
       "                        <th id=\"T_9d179e9c_485d_11eb_89ef_52540041af13level0_row7\" class=\"row_heading level0 row7\" >Cancel_events</th>\n",
       "                        <td id=\"T_9d179e9c_485d_11eb_89ef_52540041af13row7_col0\" class=\"data row7 col0\" >-0.680630</td>\n",
       "                        <td id=\"T_9d179e9c_485d_11eb_89ef_52540041af13row7_col1\" class=\"data row7 col1\" >0.085096</td>\n",
       "                        <td id=\"T_9d179e9c_485d_11eb_89ef_52540041af13row7_col2\" class=\"data row7 col2\" >-0.087560</td>\n",
       "                        <td id=\"T_9d179e9c_485d_11eb_89ef_52540041af13row7_col3\" class=\"data row7 col3\" >-0.551740</td>\n",
       "                        <td id=\"T_9d179e9c_485d_11eb_89ef_52540041af13row7_col4\" class=\"data row7 col4\" >0.450712</td>\n",
       "                        <td id=\"T_9d179e9c_485d_11eb_89ef_52540041af13row7_col5\" class=\"data row7 col5\" >0.487344</td>\n",
       "                        <td id=\"T_9d179e9c_485d_11eb_89ef_52540041af13row7_col6\" class=\"data row7 col6\" >0.762648</td>\n",
       "                        <td id=\"T_9d179e9c_485d_11eb_89ef_52540041af13row7_col7\" class=\"data row7 col7\" >1.000000</td>\n",
       "                        <td id=\"T_9d179e9c_485d_11eb_89ef_52540041af13row7_col8\" class=\"data row7 col8\" >0.783866</td>\n",
       "                        <td id=\"T_9d179e9c_485d_11eb_89ef_52540041af13row7_col9\" class=\"data row7 col9\" >0.387812</td>\n",
       "                        <td id=\"T_9d179e9c_485d_11eb_89ef_52540041af13row7_col10\" class=\"data row7 col10\" >0.565692</td>\n",
       "                        <td id=\"T_9d179e9c_485d_11eb_89ef_52540041af13row7_col11\" class=\"data row7 col11\" >0.574507</td>\n",
       "                        <td id=\"T_9d179e9c_485d_11eb_89ef_52540041af13row7_col12\" class=\"data row7 col12\" >0.438912</td>\n",
       "                        <td id=\"T_9d179e9c_485d_11eb_89ef_52540041af13row7_col13\" class=\"data row7 col13\" >0.581976</td>\n",
       "                        <td id=\"T_9d179e9c_485d_11eb_89ef_52540041af13row7_col14\" class=\"data row7 col14\" >0.488818</td>\n",
       "                        <td id=\"T_9d179e9c_485d_11eb_89ef_52540041af13row7_col15\" class=\"data row7 col15\" >0.067416</td>\n",
       "                        <td id=\"T_9d179e9c_485d_11eb_89ef_52540041af13row7_col16\" class=\"data row7 col16\" >0.831808</td>\n",
       "            </tr>\n",
       "            <tr>\n",
       "                        <th id=\"T_9d179e9c_485d_11eb_89ef_52540041af13level0_row8\" class=\"row_heading level0 row8\" >Gatherings_restrictions</th>\n",
       "                        <td id=\"T_9d179e9c_485d_11eb_89ef_52540041af13row8_col0\" class=\"data row8 col0\" >-0.731535</td>\n",
       "                        <td id=\"T_9d179e9c_485d_11eb_89ef_52540041af13row8_col1\" class=\"data row8 col1\" >0.063409</td>\n",
       "                        <td id=\"T_9d179e9c_485d_11eb_89ef_52540041af13row8_col2\" class=\"data row8 col2\" >-0.198773</td>\n",
       "                        <td id=\"T_9d179e9c_485d_11eb_89ef_52540041af13row8_col3\" class=\"data row8 col3\" >-0.530104</td>\n",
       "                        <td id=\"T_9d179e9c_485d_11eb_89ef_52540041af13row8_col4\" class=\"data row8 col4\" >0.482147</td>\n",
       "                        <td id=\"T_9d179e9c_485d_11eb_89ef_52540041af13row8_col5\" class=\"data row8 col5\" >0.448050</td>\n",
       "                        <td id=\"T_9d179e9c_485d_11eb_89ef_52540041af13row8_col6\" class=\"data row8 col6\" >0.726848</td>\n",
       "                        <td id=\"T_9d179e9c_485d_11eb_89ef_52540041af13row8_col7\" class=\"data row8 col7\" >0.783866</td>\n",
       "                        <td id=\"T_9d179e9c_485d_11eb_89ef_52540041af13row8_col8\" class=\"data row8 col8\" >1.000000</td>\n",
       "                        <td id=\"T_9d179e9c_485d_11eb_89ef_52540041af13row8_col9\" class=\"data row8 col9\" >0.346518</td>\n",
       "                        <td id=\"T_9d179e9c_485d_11eb_89ef_52540041af13row8_col10\" class=\"data row8 col10\" >0.468236</td>\n",
       "                        <td id=\"T_9d179e9c_485d_11eb_89ef_52540041af13row8_col11\" class=\"data row8 col11\" >0.601796</td>\n",
       "                        <td id=\"T_9d179e9c_485d_11eb_89ef_52540041af13row8_col12\" class=\"data row8 col12\" >0.397634</td>\n",
       "                        <td id=\"T_9d179e9c_485d_11eb_89ef_52540041af13row8_col13\" class=\"data row8 col13\" >0.520992</td>\n",
       "                        <td id=\"T_9d179e9c_485d_11eb_89ef_52540041af13row8_col14\" class=\"data row8 col14\" >0.510671</td>\n",
       "                        <td id=\"T_9d179e9c_485d_11eb_89ef_52540041af13row8_col15\" class=\"data row8 col15\" >0.110857</td>\n",
       "                        <td id=\"T_9d179e9c_485d_11eb_89ef_52540041af13row8_col16\" class=\"data row8 col16\" >0.801375</td>\n",
       "            </tr>\n",
       "            <tr>\n",
       "                        <th id=\"T_9d179e9c_485d_11eb_89ef_52540041af13level0_row9\" class=\"row_heading level0 row9\" >Transport_closing</th>\n",
       "                        <td id=\"T_9d179e9c_485d_11eb_89ef_52540041af13row9_col0\" class=\"data row9 col0\" >-0.295415</td>\n",
       "                        <td id=\"T_9d179e9c_485d_11eb_89ef_52540041af13row9_col1\" class=\"data row9 col1\" >0.178804</td>\n",
       "                        <td id=\"T_9d179e9c_485d_11eb_89ef_52540041af13row9_col2\" class=\"data row9 col2\" >0.071169</td>\n",
       "                        <td id=\"T_9d179e9c_485d_11eb_89ef_52540041af13row9_col3\" class=\"data row9 col3\" >-0.251150</td>\n",
       "                        <td id=\"T_9d179e9c_485d_11eb_89ef_52540041af13row9_col4\" class=\"data row9 col4\" >0.096592</td>\n",
       "                        <td id=\"T_9d179e9c_485d_11eb_89ef_52540041af13row9_col5\" class=\"data row9 col5\" >0.286889</td>\n",
       "                        <td id=\"T_9d179e9c_485d_11eb_89ef_52540041af13row9_col6\" class=\"data row9 col6\" >0.464161</td>\n",
       "                        <td id=\"T_9d179e9c_485d_11eb_89ef_52540041af13row9_col7\" class=\"data row9 col7\" >0.387812</td>\n",
       "                        <td id=\"T_9d179e9c_485d_11eb_89ef_52540041af13row9_col8\" class=\"data row9 col8\" >0.346518</td>\n",
       "                        <td id=\"T_9d179e9c_485d_11eb_89ef_52540041af13row9_col9\" class=\"data row9 col9\" >1.000000</td>\n",
       "                        <td id=\"T_9d179e9c_485d_11eb_89ef_52540041af13row9_col10\" class=\"data row9 col10\" >0.440804</td>\n",
       "                        <td id=\"T_9d179e9c_485d_11eb_89ef_52540041af13row9_col11\" class=\"data row9 col11\" >0.489228</td>\n",
       "                        <td id=\"T_9d179e9c_485d_11eb_89ef_52540041af13row9_col12\" class=\"data row9 col12\" >-0.089319</td>\n",
       "                        <td id=\"T_9d179e9c_485d_11eb_89ef_52540041af13row9_col13\" class=\"data row9 col13\" >0.249161</td>\n",
       "                        <td id=\"T_9d179e9c_485d_11eb_89ef_52540041af13row9_col14\" class=\"data row9 col14\" >-0.041773</td>\n",
       "                        <td id=\"T_9d179e9c_485d_11eb_89ef_52540041af13row9_col15\" class=\"data row9 col15\" >-0.155892</td>\n",
       "                        <td id=\"T_9d179e9c_485d_11eb_89ef_52540041af13row9_col16\" class=\"data row9 col16\" >0.489307</td>\n",
       "            </tr>\n",
       "            <tr>\n",
       "                        <th id=\"T_9d179e9c_485d_11eb_89ef_52540041af13level0_row10\" class=\"row_heading level0 row10\" >Stay_home_restrictions</th>\n",
       "                        <td id=\"T_9d179e9c_485d_11eb_89ef_52540041af13row10_col0\" class=\"data row10 col0\" >-0.288569</td>\n",
       "                        <td id=\"T_9d179e9c_485d_11eb_89ef_52540041af13row10_col1\" class=\"data row10 col1\" >0.352215</td>\n",
       "                        <td id=\"T_9d179e9c_485d_11eb_89ef_52540041af13row10_col2\" class=\"data row10 col2\" >0.029954</td>\n",
       "                        <td id=\"T_9d179e9c_485d_11eb_89ef_52540041af13row10_col3\" class=\"data row10 col3\" >-0.242173</td>\n",
       "                        <td id=\"T_9d179e9c_485d_11eb_89ef_52540041af13row10_col4\" class=\"data row10 col4\" >0.066723</td>\n",
       "                        <td id=\"T_9d179e9c_485d_11eb_89ef_52540041af13row10_col5\" class=\"data row10 col5\" >0.499435</td>\n",
       "                        <td id=\"T_9d179e9c_485d_11eb_89ef_52540041af13row10_col6\" class=\"data row10 col6\" >0.706300</td>\n",
       "                        <td id=\"T_9d179e9c_485d_11eb_89ef_52540041af13row10_col7\" class=\"data row10 col7\" >0.565692</td>\n",
       "                        <td id=\"T_9d179e9c_485d_11eb_89ef_52540041af13row10_col8\" class=\"data row10 col8\" >0.468236</td>\n",
       "                        <td id=\"T_9d179e9c_485d_11eb_89ef_52540041af13row10_col9\" class=\"data row10 col9\" >0.440804</td>\n",
       "                        <td id=\"T_9d179e9c_485d_11eb_89ef_52540041af13row10_col10\" class=\"data row10 col10\" >1.000000</td>\n",
       "                        <td id=\"T_9d179e9c_485d_11eb_89ef_52540041af13row10_col11\" class=\"data row10 col11\" >0.431806</td>\n",
       "                        <td id=\"T_9d179e9c_485d_11eb_89ef_52540041af13row10_col12\" class=\"data row10 col12\" >0.144901</td>\n",
       "                        <td id=\"T_9d179e9c_485d_11eb_89ef_52540041af13row10_col13\" class=\"data row10 col13\" >0.355776</td>\n",
       "                        <td id=\"T_9d179e9c_485d_11eb_89ef_52540041af13row10_col14\" class=\"data row10 col14\" >0.174048</td>\n",
       "                        <td id=\"T_9d179e9c_485d_11eb_89ef_52540041af13row10_col15\" class=\"data row10 col15\" >-0.249098</td>\n",
       "                        <td id=\"T_9d179e9c_485d_11eb_89ef_52540041af13row10_col16\" class=\"data row10 col16\" >0.684336</td>\n",
       "            </tr>\n",
       "            <tr>\n",
       "                        <th id=\"T_9d179e9c_485d_11eb_89ef_52540041af13level0_row11\" class=\"row_heading level0 row11\" >Internal_movement_restrictions</th>\n",
       "                        <td id=\"T_9d179e9c_485d_11eb_89ef_52540041af13row11_col0\" class=\"data row11 col0\" >-0.423526</td>\n",
       "                        <td id=\"T_9d179e9c_485d_11eb_89ef_52540041af13row11_col1\" class=\"data row11 col1\" >0.251909</td>\n",
       "                        <td id=\"T_9d179e9c_485d_11eb_89ef_52540041af13row11_col2\" class=\"data row11 col2\" >0.047031</td>\n",
       "                        <td id=\"T_9d179e9c_485d_11eb_89ef_52540041af13row11_col3\" class=\"data row11 col3\" >-0.263720</td>\n",
       "                        <td id=\"T_9d179e9c_485d_11eb_89ef_52540041af13row11_col4\" class=\"data row11 col4\" >0.296621</td>\n",
       "                        <td id=\"T_9d179e9c_485d_11eb_89ef_52540041af13row11_col5\" class=\"data row11 col5\" >0.540015</td>\n",
       "                        <td id=\"T_9d179e9c_485d_11eb_89ef_52540041af13row11_col6\" class=\"data row11 col6\" >0.572050</td>\n",
       "                        <td id=\"T_9d179e9c_485d_11eb_89ef_52540041af13row11_col7\" class=\"data row11 col7\" >0.574507</td>\n",
       "                        <td id=\"T_9d179e9c_485d_11eb_89ef_52540041af13row11_col8\" class=\"data row11 col8\" >0.601796</td>\n",
       "                        <td id=\"T_9d179e9c_485d_11eb_89ef_52540041af13row11_col9\" class=\"data row11 col9\" >0.489228</td>\n",
       "                        <td id=\"T_9d179e9c_485d_11eb_89ef_52540041af13row11_col10\" class=\"data row11 col10\" >0.431806</td>\n",
       "                        <td id=\"T_9d179e9c_485d_11eb_89ef_52540041af13row11_col11\" class=\"data row11 col11\" >1.000000</td>\n",
       "                        <td id=\"T_9d179e9c_485d_11eb_89ef_52540041af13row11_col12\" class=\"data row11 col12\" >-0.083854</td>\n",
       "                        <td id=\"T_9d179e9c_485d_11eb_89ef_52540041af13row11_col13\" class=\"data row11 col13\" >0.347827</td>\n",
       "                        <td id=\"T_9d179e9c_485d_11eb_89ef_52540041af13row11_col14\" class=\"data row11 col14\" >0.117393</td>\n",
       "                        <td id=\"T_9d179e9c_485d_11eb_89ef_52540041af13row11_col15\" class=\"data row11 col15\" >-0.122749</td>\n",
       "                        <td id=\"T_9d179e9c_485d_11eb_89ef_52540041af13row11_col16\" class=\"data row11 col16\" >0.653743</td>\n",
       "            </tr>\n",
       "            <tr>\n",
       "                        <th id=\"T_9d179e9c_485d_11eb_89ef_52540041af13level0_row12\" class=\"row_heading level0 row12\" >International_movement_restrictions</th>\n",
       "                        <td id=\"T_9d179e9c_485d_11eb_89ef_52540041af13row12_col0\" class=\"data row12 col0\" >-0.534608</td>\n",
       "                        <td id=\"T_9d179e9c_485d_11eb_89ef_52540041af13row12_col1\" class=\"data row12 col1\" >-0.370476</td>\n",
       "                        <td id=\"T_9d179e9c_485d_11eb_89ef_52540041af13row12_col2\" class=\"data row12 col2\" >-0.334567</td>\n",
       "                        <td id=\"T_9d179e9c_485d_11eb_89ef_52540041af13row12_col3\" class=\"data row12 col3\" >-0.549087</td>\n",
       "                        <td id=\"T_9d179e9c_485d_11eb_89ef_52540041af13row12_col4\" class=\"data row12 col4\" >0.312573</td>\n",
       "                        <td id=\"T_9d179e9c_485d_11eb_89ef_52540041af13row12_col5\" class=\"data row12 col5\" >0.017638</td>\n",
       "                        <td id=\"T_9d179e9c_485d_11eb_89ef_52540041af13row12_col6\" class=\"data row12 col6\" >0.219574</td>\n",
       "                        <td id=\"T_9d179e9c_485d_11eb_89ef_52540041af13row12_col7\" class=\"data row12 col7\" >0.438912</td>\n",
       "                        <td id=\"T_9d179e9c_485d_11eb_89ef_52540041af13row12_col8\" class=\"data row12 col8\" >0.397634</td>\n",
       "                        <td id=\"T_9d179e9c_485d_11eb_89ef_52540041af13row12_col9\" class=\"data row12 col9\" >-0.089319</td>\n",
       "                        <td id=\"T_9d179e9c_485d_11eb_89ef_52540041af13row12_col10\" class=\"data row12 col10\" >0.144901</td>\n",
       "                        <td id=\"T_9d179e9c_485d_11eb_89ef_52540041af13row12_col11\" class=\"data row12 col11\" >-0.083854</td>\n",
       "                        <td id=\"T_9d179e9c_485d_11eb_89ef_52540041af13row12_col12\" class=\"data row12 col12\" >1.000000</td>\n",
       "                        <td id=\"T_9d179e9c_485d_11eb_89ef_52540041af13row12_col13\" class=\"data row12 col13\" >0.365529</td>\n",
       "                        <td id=\"T_9d179e9c_485d_11eb_89ef_52540041af13row12_col14\" class=\"data row12 col14\" >0.571089</td>\n",
       "                        <td id=\"T_9d179e9c_485d_11eb_89ef_52540041af13row12_col15\" class=\"data row12 col15\" >0.415811</td>\n",
       "                        <td id=\"T_9d179e9c_485d_11eb_89ef_52540041af13row12_col16\" class=\"data row12 col16\" >0.325769</td>\n",
       "            </tr>\n",
       "            <tr>\n",
       "                        <th id=\"T_9d179e9c_485d_11eb_89ef_52540041af13level0_row13\" class=\"row_heading level0 row13\" >Information_campaigns</th>\n",
       "                        <td id=\"T_9d179e9c_485d_11eb_89ef_52540041af13row13_col0\" class=\"data row13 col0\" >-0.458742</td>\n",
       "                        <td id=\"T_9d179e9c_485d_11eb_89ef_52540041af13row13_col1\" class=\"data row13 col1\" >0.090292</td>\n",
       "                        <td id=\"T_9d179e9c_485d_11eb_89ef_52540041af13row13_col2\" class=\"data row13 col2\" >0.057948</td>\n",
       "                        <td id=\"T_9d179e9c_485d_11eb_89ef_52540041af13row13_col3\" class=\"data row13 col3\" >-0.227093</td>\n",
       "                        <td id=\"T_9d179e9c_485d_11eb_89ef_52540041af13row13_col4\" class=\"data row13 col4\" >0.302757</td>\n",
       "                        <td id=\"T_9d179e9c_485d_11eb_89ef_52540041af13row13_col5\" class=\"data row13 col5\" >0.305584</td>\n",
       "                        <td id=\"T_9d179e9c_485d_11eb_89ef_52540041af13row13_col6\" class=\"data row13 col6\" >0.510326</td>\n",
       "                        <td id=\"T_9d179e9c_485d_11eb_89ef_52540041af13row13_col7\" class=\"data row13 col7\" >0.581976</td>\n",
       "                        <td id=\"T_9d179e9c_485d_11eb_89ef_52540041af13row13_col8\" class=\"data row13 col8\" >0.520992</td>\n",
       "                        <td id=\"T_9d179e9c_485d_11eb_89ef_52540041af13row13_col9\" class=\"data row13 col9\" >0.249161</td>\n",
       "                        <td id=\"T_9d179e9c_485d_11eb_89ef_52540041af13row13_col10\" class=\"data row13 col10\" >0.355776</td>\n",
       "                        <td id=\"T_9d179e9c_485d_11eb_89ef_52540041af13row13_col11\" class=\"data row13 col11\" >0.347827</td>\n",
       "                        <td id=\"T_9d179e9c_485d_11eb_89ef_52540041af13row13_col12\" class=\"data row13 col12\" >0.365529</td>\n",
       "                        <td id=\"T_9d179e9c_485d_11eb_89ef_52540041af13row13_col13\" class=\"data row13 col13\" >1.000000</td>\n",
       "                        <td id=\"T_9d179e9c_485d_11eb_89ef_52540041af13row13_col14\" class=\"data row13 col14\" >0.443888</td>\n",
       "                        <td id=\"T_9d179e9c_485d_11eb_89ef_52540041af13row13_col15\" class=\"data row13 col15\" >0.322410</td>\n",
       "                        <td id=\"T_9d179e9c_485d_11eb_89ef_52540041af13row13_col16\" class=\"data row13 col16\" >0.606172</td>\n",
       "            </tr>\n",
       "            <tr>\n",
       "                        <th id=\"T_9d179e9c_485d_11eb_89ef_52540041af13level0_row14\" class=\"row_heading level0 row14\" >Testing_policy</th>\n",
       "                        <td id=\"T_9d179e9c_485d_11eb_89ef_52540041af13row14_col0\" class=\"data row14 col0\" >-0.572218</td>\n",
       "                        <td id=\"T_9d179e9c_485d_11eb_89ef_52540041af13row14_col1\" class=\"data row14 col1\" >-0.339894</td>\n",
       "                        <td id=\"T_9d179e9c_485d_11eb_89ef_52540041af13row14_col2\" class=\"data row14 col2\" >-0.476514</td>\n",
       "                        <td id=\"T_9d179e9c_485d_11eb_89ef_52540041af13row14_col3\" class=\"data row14 col3\" >-0.529841</td>\n",
       "                        <td id=\"T_9d179e9c_485d_11eb_89ef_52540041af13row14_col4\" class=\"data row14 col4\" >0.284349</td>\n",
       "                        <td id=\"T_9d179e9c_485d_11eb_89ef_52540041af13row14_col5\" class=\"data row14 col5\" >-0.060411</td>\n",
       "                        <td id=\"T_9d179e9c_485d_11eb_89ef_52540041af13row14_col6\" class=\"data row14 col6\" >0.245985</td>\n",
       "                        <td id=\"T_9d179e9c_485d_11eb_89ef_52540041af13row14_col7\" class=\"data row14 col7\" >0.488818</td>\n",
       "                        <td id=\"T_9d179e9c_485d_11eb_89ef_52540041af13row14_col8\" class=\"data row14 col8\" >0.510671</td>\n",
       "                        <td id=\"T_9d179e9c_485d_11eb_89ef_52540041af13row14_col9\" class=\"data row14 col9\" >-0.041773</td>\n",
       "                        <td id=\"T_9d179e9c_485d_11eb_89ef_52540041af13row14_col10\" class=\"data row14 col10\" >0.174048</td>\n",
       "                        <td id=\"T_9d179e9c_485d_11eb_89ef_52540041af13row14_col11\" class=\"data row14 col11\" >0.117393</td>\n",
       "                        <td id=\"T_9d179e9c_485d_11eb_89ef_52540041af13row14_col12\" class=\"data row14 col12\" >0.571089</td>\n",
       "                        <td id=\"T_9d179e9c_485d_11eb_89ef_52540041af13row14_col13\" class=\"data row14 col13\" >0.443888</td>\n",
       "                        <td id=\"T_9d179e9c_485d_11eb_89ef_52540041af13row14_col14\" class=\"data row14 col14\" >1.000000</td>\n",
       "                        <td id=\"T_9d179e9c_485d_11eb_89ef_52540041af13row14_col15\" class=\"data row14 col15\" >0.426071</td>\n",
       "                        <td id=\"T_9d179e9c_485d_11eb_89ef_52540041af13row14_col16\" class=\"data row14 col16\" >0.280229</td>\n",
       "            </tr>\n",
       "            <tr>\n",
       "                        <th id=\"T_9d179e9c_485d_11eb_89ef_52540041af13level0_row15\" class=\"row_heading level0 row15\" >Contact_tracing</th>\n",
       "                        <td id=\"T_9d179e9c_485d_11eb_89ef_52540041af13row15_col0\" class=\"data row15 col0\" >-0.280156</td>\n",
       "                        <td id=\"T_9d179e9c_485d_11eb_89ef_52540041af13row15_col1\" class=\"data row15 col1\" >-0.338655</td>\n",
       "                        <td id=\"T_9d179e9c_485d_11eb_89ef_52540041af13row15_col2\" class=\"data row15 col2\" >-0.281816</td>\n",
       "                        <td id=\"T_9d179e9c_485d_11eb_89ef_52540041af13row15_col3\" class=\"data row15 col3\" >-0.186980</td>\n",
       "                        <td id=\"T_9d179e9c_485d_11eb_89ef_52540041af13row15_col4\" class=\"data row15 col4\" >0.280879</td>\n",
       "                        <td id=\"T_9d179e9c_485d_11eb_89ef_52540041af13row15_col5\" class=\"data row15 col5\" >-0.193378</td>\n",
       "                        <td id=\"T_9d179e9c_485d_11eb_89ef_52540041af13row15_col6\" class=\"data row15 col6\" >-0.135917</td>\n",
       "                        <td id=\"T_9d179e9c_485d_11eb_89ef_52540041af13row15_col7\" class=\"data row15 col7\" >0.067416</td>\n",
       "                        <td id=\"T_9d179e9c_485d_11eb_89ef_52540041af13row15_col8\" class=\"data row15 col8\" >0.110857</td>\n",
       "                        <td id=\"T_9d179e9c_485d_11eb_89ef_52540041af13row15_col9\" class=\"data row15 col9\" >-0.155892</td>\n",
       "                        <td id=\"T_9d179e9c_485d_11eb_89ef_52540041af13row15_col10\" class=\"data row15 col10\" >-0.249098</td>\n",
       "                        <td id=\"T_9d179e9c_485d_11eb_89ef_52540041af13row15_col11\" class=\"data row15 col11\" >-0.122749</td>\n",
       "                        <td id=\"T_9d179e9c_485d_11eb_89ef_52540041af13row15_col12\" class=\"data row15 col12\" >0.415811</td>\n",
       "                        <td id=\"T_9d179e9c_485d_11eb_89ef_52540041af13row15_col13\" class=\"data row15 col13\" >0.322410</td>\n",
       "                        <td id=\"T_9d179e9c_485d_11eb_89ef_52540041af13row15_col14\" class=\"data row15 col14\" >0.426071</td>\n",
       "                        <td id=\"T_9d179e9c_485d_11eb_89ef_52540041af13row15_col15\" class=\"data row15 col15\" >1.000000</td>\n",
       "                        <td id=\"T_9d179e9c_485d_11eb_89ef_52540041af13row15_col16\" class=\"data row15 col16\" >-0.120626</td>\n",
       "            </tr>\n",
       "            <tr>\n",
       "                        <th id=\"T_9d179e9c_485d_11eb_89ef_52540041af13level0_row16\" class=\"row_heading level0 row16\" >Stringency_index</th>\n",
       "                        <td id=\"T_9d179e9c_485d_11eb_89ef_52540041af13row16_col0\" class=\"data row16 col0\" >-0.566829</td>\n",
       "                        <td id=\"T_9d179e9c_485d_11eb_89ef_52540041af13row16_col1\" class=\"data row16 col1\" >0.288858</td>\n",
       "                        <td id=\"T_9d179e9c_485d_11eb_89ef_52540041af13row16_col2\" class=\"data row16 col2\" >0.011702</td>\n",
       "                        <td id=\"T_9d179e9c_485d_11eb_89ef_52540041af13row16_col3\" class=\"data row16 col3\" >-0.440567</td>\n",
       "                        <td id=\"T_9d179e9c_485d_11eb_89ef_52540041af13row16_col4\" class=\"data row16 col4\" >0.362665</td>\n",
       "                        <td id=\"T_9d179e9c_485d_11eb_89ef_52540041af13row16_col5\" class=\"data row16 col5\" >0.697822</td>\n",
       "                        <td id=\"T_9d179e9c_485d_11eb_89ef_52540041af13row16_col6\" class=\"data row16 col6\" >0.844320</td>\n",
       "                        <td id=\"T_9d179e9c_485d_11eb_89ef_52540041af13row16_col7\" class=\"data row16 col7\" >0.831808</td>\n",
       "                        <td id=\"T_9d179e9c_485d_11eb_89ef_52540041af13row16_col8\" class=\"data row16 col8\" >0.801375</td>\n",
       "                        <td id=\"T_9d179e9c_485d_11eb_89ef_52540041af13row16_col9\" class=\"data row16 col9\" >0.489307</td>\n",
       "                        <td id=\"T_9d179e9c_485d_11eb_89ef_52540041af13row16_col10\" class=\"data row16 col10\" >0.684336</td>\n",
       "                        <td id=\"T_9d179e9c_485d_11eb_89ef_52540041af13row16_col11\" class=\"data row16 col11\" >0.653743</td>\n",
       "                        <td id=\"T_9d179e9c_485d_11eb_89ef_52540041af13row16_col12\" class=\"data row16 col12\" >0.325769</td>\n",
       "                        <td id=\"T_9d179e9c_485d_11eb_89ef_52540041af13row16_col13\" class=\"data row16 col13\" >0.606172</td>\n",
       "                        <td id=\"T_9d179e9c_485d_11eb_89ef_52540041af13row16_col14\" class=\"data row16 col14\" >0.280229</td>\n",
       "                        <td id=\"T_9d179e9c_485d_11eb_89ef_52540041af13row16_col15\" class=\"data row16 col15\" >-0.120626</td>\n",
       "                        <td id=\"T_9d179e9c_485d_11eb_89ef_52540041af13row16_col16\" class=\"data row16 col16\" >1.000000</td>\n",
       "            </tr>\n",
       "    </tbody></table>"
      ],
      "text/plain": [
       "<pandas.io.formats.style.Styler at 0x7f8baeead310>"
      ]
     },
     "execution_count": 21,
     "metadata": {},
     "output_type": "execute_result"
    }
   ],
   "source": [
    "# Correlation\n",
    "df = track_df.copy()\n",
    "df.corr().style.background_gradient(axis=None)"
   ]
  },
  {
   "cell_type": "code",
   "execution_count": 22,
   "metadata": {
    "collapsed": false
   },
   "outputs": [
    {
     "data": {
      "image/png": "[encoded data removed]",
      "text/plain": [
       "<Figure size 432x288 with 1 Axes>"
      ]
     },
     "metadata": {},
     "output_type": "display_data"
    }
   ],
   "source": [
    "# Scatter plot of Stringency index and Rt\n",
    "df = track_df.copy()\n",
    "sns.scatterplot(data=df, x=\"Stringency_index\", y=\"Rt\", hue=\"Country\", legend=\"brief\", marker=\"+\")\n",
    "bbox_to_anchor=(1.02, 0)\n",
    "bbox_loc=\"lower left\"\n",
    "plt.legend(bbox_to_anchor=bbox_to_anchor, loc=bbox_loc, borderaxespad=0)\n",
    "plt.title(\"Relationship of Stringency index and reproduction number\")\n",
    "plt.ylabel(\"Reproduction number\")\n",
    "plt.xlabel(\"Stringency index\")\n",
    "plt.show()"
   ]
  }
 ],
 "metadata": {
  "kernelspec": {
   "display_name": "Python 3.8.2 64-bit ('.venv': venv)",
   "name": "python_defaultSpec_1597669925034"
  },
  "language_info": {
   "codemirror_mode": {
    "name": "ipython",
    "version": 3
   },
   "file_extension": ".py",
   "mimetype": "text/x-python",
   "name": "python",
   "nbconvert_exporter": "python",
   "pygments_lexer": "ipython3",
   "version": "3.8.2-final"
  }
 },
 "nbformat": 4,
 "nbformat_minor": 4
}
