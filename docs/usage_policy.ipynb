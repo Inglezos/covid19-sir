{
 "cells": [
  {
   "cell_type": "markdown",
   "metadata": {},
   "source": [
    "# Usage (details: policy measures)\n",
    "Here, we will analyse the relationship of policy measures and parameter values of SIR-derived ODE models. Policy measures are tracked by [Oxford Covid-19 Government Response Tracker (OxCGRT)](https://github.com/OxCGRT/covid-policy-tracker)."
   ]
  },
  {
   "cell_type": "markdown",
   "metadata": {},
   "source": [
    "## Preparation"
   ]
  },
  {
   "cell_type": "code",
   "execution_count": 1,
   "metadata": {
    "collapsed": false
   },
   "outputs": [],
   "source": [
    "# Standard users\n",
    "# !pip install covsirphy\n",
    "# Developers (Note: this notebook is in example directory)\n",
    "import os\n",
    "os.chdir(\"../\")"
   ]
  },
  {
   "cell_type": "code",
   "execution_count": 2,
   "metadata": {
    "collapsed": false
   },
   "outputs": [],
   "source": [
    "from pprint import pprint"
   ]
  },
  {
   "cell_type": "code",
   "execution_count": 3,
   "metadata": {
    "collapsed": false
   },
   "outputs": [
    {
     "data": {
      "text/plain": [
       "'2.13.2'"
      ]
     },
     "execution_count": 3,
     "metadata": {},
     "output_type": "execute_result"
    }
   ],
   "source": [
    "import covsirphy as cs\n",
    "cs.__version__"
   ]
  },
  {
   "cell_type": "code",
   "execution_count": 4,
   "metadata": {
    "collapsed": false,
    "tags": []
   },
   "outputs": [
    {
     "name": "stdout",
     "output_type": "stream",
     "text": [
      "(Secondary source) Guidotti, E., Ardia, D., (2020), \"COVID-19 Data Hub\", Journal of Open Source Software 5(51):2376, doi: 10.21105/joss.02376.\n"
     ]
    }
   ],
   "source": [
    "# Standard users and developers\n",
    "data_loader = cs.DataLoader(\"input\")\n",
    "# The number of cases (JHU style)\n",
    "jhu_data = data_loader.jhu(verbose=False)\n",
    "# Population in each country\n",
    "population_data = data_loader.population(verbose=False)\n",
    "# Government Response Tracker (OxCGRT)\n",
    "oxcgrt_data = data_loader.oxcgrt(verbose=False)\n",
    "# Description/citation\n",
    "print(oxcgrt_data.citation)"
   ]
  },
  {
   "cell_type": "markdown",
   "metadata": {},
   "source": [
    "## Class for policy measure analysis\n",
    "We will `PolicyMeasures` class to find relationship of policy measures and parameter values of SIR-derived ODE models."
   ]
  },
  {
   "cell_type": "code",
   "execution_count": 5,
   "metadata": {
    "collapsed": false,
    "tags": []
   },
   "outputs": [
    {
     "data": {
      "text/plain": [
       "196"
      ]
     },
     "execution_count": 5,
     "metadata": {},
     "output_type": "execute_result"
    }
   ],
   "source": [
    "# Create analyser with tau value 360 [min] (can be changed)\n",
    "analyser = cs.PolicyMeasures(jhu_data, population_data, oxcgrt_data, tau=360)\n",
    "# The number of registerd countries\n",
    "len(analyser.countries)"
   ]
  },
  {
   "cell_type": "code",
   "execution_count": 6,
   "metadata": {
    "collapsed": false
   },
   "outputs": [
    {
     "data": {
      "text/plain": [
       "covsirphy.analysis.scenario.Scenario"
      ]
     },
     "execution_count": 6,
     "metadata": {},
     "output_type": "execute_result"
    }
   ],
   "source": [
    "# We can get Scenario instance for detailed scenario analysis\n",
    "type(analyser.scenario(\"Japan\"))"
   ]
  },
  {
   "cell_type": "markdown",
   "metadata": {},
   "source": [
    "## Set phases with S-R trend analysis\n",
    "We will perform S-R trend analysis to set phases in all countries. Countries which do not have **16th phases** will be un-registered for the next analysis. This number will be adjusted for your analysis."
   ]
  },
  {
   "cell_type": "code",
   "execution_count": 7,
   "metadata": {
    "collapsed": false
   },
   "outputs": [
    {
     "name": "stdout",
     "output_type": "stream",
     "text": [
      "{2: ['Laos', 'Holy See', 'Solomon Islands'],\n",
      " 3: ['Timor-Leste'],\n",
      " 4: ['Saint Kitts and Nevis', 'Saint Lucia', 'Brunei', 'Dominica'],\n",
      " 5: ['Grenada', 'Tanzania', 'Fiji', 'Equatorial Guinea'],\n",
      " 6: ['Antigua and Barbuda', 'Mauritius'],\n",
      " 7: ['Gambia', 'Saint Vincent and the Grenadines', 'Cambodia'],\n",
      " 8: ['Sao Tome and Principe', 'Northern Mariana Islands', 'Madagascar',\n",
      "     'Seychelles', 'Vietnam', 'Monaco', 'Kyrgyzstan', 'Bahamas',\n",
      "     'Trinidad and Tobago'],\n",
      " 9: ['Bolivia', 'Zimbabwe', 'Australia', 'Bhutan', 'Oman', 'Lesotho',\n",
      "     'Liechtenstein', 'Bermuda', 'Republic of the Congo', 'Suriname',\n",
      "     'Uzbekistan', 'Ghana', 'Virgin Islands, U.S.', 'Kazakhstan', 'Malawi',\n",
      "     'Zambia', 'Barbados', 'Djibouti', 'Swaziland'],\n",
      " 10: ['Senegal', 'Saudi Arabia', 'Guatemala', 'Namibia', 'Belize', 'Maldives',\n",
      "      'Ethiopia', 'Kuwait', 'India', 'Honduras', 'Kenya', 'Guyana', 'Benin',\n",
      "      'Angola', 'Chile', 'Singapore', 'Mongolia', 'Burundi', 'South Africa',\n",
      "      'Mozambique', 'Comoros', 'Papua New Guinea', 'Libya', 'Venezuela',\n",
      "      'Liberia', 'Jamaica', \"Cote d'Ivoire\", 'Bahrain', 'Philippines',\n",
      "      'New Zealand'],\n",
      " 11: ['Puerto Rico', 'Bangladesh', 'Egypt', 'Brazil', 'Togo', 'Mexico',\n",
      "      'Colombia', 'Andorra', 'Sierra Leone', 'Gabon', 'Dominican Republic',\n",
      "      'Pakistan', 'Burkina Faso', 'Israel', 'Nicaragua', 'Rwanda', 'Yemen',\n",
      "      'Algeria', 'Cameroon', 'Cape Verde', 'Paraguay', 'Nepal', 'Syria',\n",
      "      'Argentina', 'Guam', 'Taiwan', 'Iceland', 'El Salvador', 'Nigeria',\n",
      "      'Peru', 'Jordan', 'Iraq', 'Costa Rica', 'Eritrea'],\n",
      " 12: ['South Sudan', 'Panama', 'Slovenia', 'Georgia', 'Qatar', 'Chad',\n",
      "      'Somalia', 'Palestine', 'Ecuador', 'Niger', 'Sudan', 'Serbia',\n",
      "      'Montenegro', 'Japan', 'Botswana', 'Indonesia', 'Uganda', 'Tajikistan',\n",
      "      'Guinea-Bissau', 'Democratic Republic of the Congo', 'Guinea',\n",
      "      'Central African Republic'],\n",
      " 13: ['Sri Lanka', 'Moldova', 'United Arab Emirates', 'Spain', 'Mauritania',\n",
      "      'Hungary', 'Slovakia', 'San Marino', 'Turkey', 'Haiti', 'Afghanistan',\n",
      "      'Kosovo', 'Cuba', 'Greece', 'Luxembourg', 'Russia', 'Croatia', 'Malta',\n",
      "      'Azerbaijan', 'China', 'Armenia', 'Mali'],\n",
      " 14: ['Malaysia', 'United States', 'Uruguay', 'Ireland', 'Bulgaria', 'Poland',\n",
      "      'Morocco', 'Bosnia and Herzegovina', 'Latvia', 'Myanmar', 'Thailand',\n",
      "      'Tunisia', 'Lithuania', 'Belarus'],\n",
      " 15: ['Estonia', 'Italy', 'Iran', 'Austria', 'North Macedonia', 'Sweden',\n",
      "      'Finland', 'Lebanon', 'Denmark', 'Switzerland', 'Albania',\n",
      "      'Czech Republic', 'Cyprus'],\n",
      " 16: ['Ukraine', 'Germany', 'Portugal', 'Belgium', 'Canada', 'Romania',\n",
      "      'Norway', 'France', 'Netherlands'],\n",
      " 17: ['United Kingdom']}\n"
     ]
    }
   ],
   "source": [
    "# Show the number of phases of all countries\n",
    "analyser.trend()\n",
    "pprint(analyser.phase_len(), compact=True)"
   ]
  },
  {
   "cell_type": "code",
   "execution_count": 8,
   "metadata": {
    "collapsed": false
   },
   "outputs": [
    {
     "data": {
      "text/plain": [
       "10"
      ]
     },
     "execution_count": 8,
     "metadata": {},
     "output_type": "execute_result"
    }
   ],
   "source": [
    "# Set phases with S-R trend analysis\n",
    "analyser.trend(min_len=16)\n",
    "# The number of countries\n",
    "len(analyser.countries)"
   ]
  },
  {
   "cell_type": "code",
   "execution_count": 9,
   "metadata": {
    "collapsed": false,
    "tags": []
   },
   "outputs": [
    {
     "name": "stdout",
     "output_type": "stream",
     "text": [
      "{16: ['Ukraine', 'Germany', 'Portugal', 'Belgium', 'Canada', 'Romania',\n",
      "      'Norway', 'France', 'Netherlands'],\n",
      " 17: ['United Kingdom']}\n"
     ]
    }
   ],
   "source": [
    "phase_len_dict = analyser.phase_len()\n",
    "pprint(phase_len_dict, compact=True)"
   ]
  },
  {
   "cell_type": "code",
   "execution_count": 10,
   "metadata": {
    "collapsed": false,
    "tags": []
   },
   "outputs": [
    {
     "data": {
      "text/html": [
       "<div>\n",
       "<style scoped>\n",
       "    .dataframe tbody tr th:only-of-type {\n",
       "        vertical-align: middle;\n",
       "    }\n",
       "\n",
       "    .dataframe tbody tr th {\n",
       "        vertical-align: top;\n",
       "    }\n",
       "\n",
       "    .dataframe thead th {\n",
       "        text-align: right;\n",
       "    }\n",
       "</style>\n",
       "<table border=\"1\" class=\"dataframe\">\n",
       "  <thead>\n",
       "    <tr style=\"text-align: right;\">\n",
       "      <th></th>\n",
       "      <th></th>\n",
       "      <th>Type</th>\n",
       "      <th>Start</th>\n",
       "      <th>End</th>\n",
       "      <th>Population</th>\n",
       "    </tr>\n",
       "    <tr>\n",
       "      <th>Country</th>\n",
       "      <th>Phase</th>\n",
       "      <th></th>\n",
       "      <th></th>\n",
       "      <th></th>\n",
       "      <th></th>\n",
       "    </tr>\n",
       "  </thead>\n",
       "  <tbody>\n",
       "    <tr>\n",
       "      <th rowspan=\"17\" valign=\"top\">United Kingdom</th>\n",
       "      <th>0th</th>\n",
       "      <td>Past</td>\n",
       "      <td>18Feb2020</td>\n",
       "      <td>06Apr2020</td>\n",
       "      <td>66460344</td>\n",
       "    </tr>\n",
       "    <tr>\n",
       "      <th>1st</th>\n",
       "      <td>Past</td>\n",
       "      <td>07Apr2020</td>\n",
       "      <td>23Apr2020</td>\n",
       "      <td>66460344</td>\n",
       "    </tr>\n",
       "    <tr>\n",
       "      <th>2nd</th>\n",
       "      <td>Past</td>\n",
       "      <td>24Apr2020</td>\n",
       "      <td>11May2020</td>\n",
       "      <td>66460344</td>\n",
       "    </tr>\n",
       "    <tr>\n",
       "      <th>3rd</th>\n",
       "      <td>Past</td>\n",
       "      <td>12May2020</td>\n",
       "      <td>11Jun2020</td>\n",
       "      <td>66460344</td>\n",
       "    </tr>\n",
       "    <tr>\n",
       "      <th>4th</th>\n",
       "      <td>Past</td>\n",
       "      <td>12Jun2020</td>\n",
       "      <td>17Aug2020</td>\n",
       "      <td>66460344</td>\n",
       "    </tr>\n",
       "    <tr>\n",
       "      <th>5th</th>\n",
       "      <td>Past</td>\n",
       "      <td>18Aug2020</td>\n",
       "      <td>17Sep2020</td>\n",
       "      <td>66460344</td>\n",
       "    </tr>\n",
       "    <tr>\n",
       "      <th>6th</th>\n",
       "      <td>Past</td>\n",
       "      <td>18Sep2020</td>\n",
       "      <td>02Oct2020</td>\n",
       "      <td>66460344</td>\n",
       "    </tr>\n",
       "    <tr>\n",
       "      <th>7th</th>\n",
       "      <td>Past</td>\n",
       "      <td>03Oct2020</td>\n",
       "      <td>11Oct2020</td>\n",
       "      <td>66460344</td>\n",
       "    </tr>\n",
       "    <tr>\n",
       "      <th>8th</th>\n",
       "      <td>Past</td>\n",
       "      <td>12Oct2020</td>\n",
       "      <td>19Oct2020</td>\n",
       "      <td>66460344</td>\n",
       "    </tr>\n",
       "    <tr>\n",
       "      <th>9th</th>\n",
       "      <td>Past</td>\n",
       "      <td>20Oct2020</td>\n",
       "      <td>25Oct2020</td>\n",
       "      <td>66460344</td>\n",
       "    </tr>\n",
       "    <tr>\n",
       "      <th>10th</th>\n",
       "      <td>Past</td>\n",
       "      <td>26Oct2020</td>\n",
       "      <td>05Nov2020</td>\n",
       "      <td>66460344</td>\n",
       "    </tr>\n",
       "    <tr>\n",
       "      <th>11th</th>\n",
       "      <td>Past</td>\n",
       "      <td>06Nov2020</td>\n",
       "      <td>11Nov2020</td>\n",
       "      <td>66460344</td>\n",
       "    </tr>\n",
       "    <tr>\n",
       "      <th>12th</th>\n",
       "      <td>Past</td>\n",
       "      <td>12Nov2020</td>\n",
       "      <td>17Nov2020</td>\n",
       "      <td>66460344</td>\n",
       "    </tr>\n",
       "    <tr>\n",
       "      <th>13th</th>\n",
       "      <td>Past</td>\n",
       "      <td>18Nov2020</td>\n",
       "      <td>24Nov2020</td>\n",
       "      <td>66460344</td>\n",
       "    </tr>\n",
       "    <tr>\n",
       "      <th>14th</th>\n",
       "      <td>Past</td>\n",
       "      <td>25Nov2020</td>\n",
       "      <td>02Dec2020</td>\n",
       "      <td>66460344</td>\n",
       "    </tr>\n",
       "    <tr>\n",
       "      <th>15th</th>\n",
       "      <td>Past</td>\n",
       "      <td>03Dec2020</td>\n",
       "      <td>10Dec2020</td>\n",
       "      <td>66460344</td>\n",
       "    </tr>\n",
       "    <tr>\n",
       "      <th>16th</th>\n",
       "      <td>Past</td>\n",
       "      <td>11Dec2020</td>\n",
       "      <td>18Dec2020</td>\n",
       "      <td>66460344</td>\n",
       "    </tr>\n",
       "  </tbody>\n",
       "</table>\n",
       "</div>"
      ],
      "text/plain": [
       "                      Type      Start        End  Population\n",
       "Country        Phase                                        \n",
       "United Kingdom 0th    Past  18Feb2020  06Apr2020    66460344\n",
       "               1st    Past  07Apr2020  23Apr2020    66460344\n",
       "               2nd    Past  24Apr2020  11May2020    66460344\n",
       "               3rd    Past  12May2020  11Jun2020    66460344\n",
       "               4th    Past  12Jun2020  17Aug2020    66460344\n",
       "               5th    Past  18Aug2020  17Sep2020    66460344\n",
       "               6th    Past  18Sep2020  02Oct2020    66460344\n",
       "               7th    Past  03Oct2020  11Oct2020    66460344\n",
       "               8th    Past  12Oct2020  19Oct2020    66460344\n",
       "               9th    Past  20Oct2020  25Oct2020    66460344\n",
       "               10th   Past  26Oct2020  05Nov2020    66460344\n",
       "               11th   Past  06Nov2020  11Nov2020    66460344\n",
       "               12th   Past  12Nov2020  17Nov2020    66460344\n",
       "               13th   Past  18Nov2020  24Nov2020    66460344\n",
       "               14th   Past  25Nov2020  02Dec2020    66460344\n",
       "               15th   Past  03Dec2020  10Dec2020    66460344\n",
       "               16th   Past  11Dec2020  18Dec2020    66460344"
      ]
     },
     "execution_count": 10,
     "metadata": {},
     "output_type": "execute_result"
    }
   ],
   "source": [
    "# Here, only show the countries which have the most phases\n",
    "countries_show = max(phase_len_dict.items(), key=lambda x: x[0])[1]\n",
    "# Show summary\n",
    "analyser.summary(countries=countries_show)"
   ]
  },
  {
   "cell_type": "markdown",
   "metadata": {},
   "source": [
    "## Parameter estimation\n",
    "we will estimate the parameter values with SIR-derived ODE models in each country."
   ]
  },
  {
   "cell_type": "code",
   "execution_count": 11,
   "metadata": {
    "collapsed": false,
    "tags": []
   },
   "outputs": [
    {
     "name": "stdout",
     "output_type": "stream",
     "text": [
      "\n",
      "<SIR-F model: parameter estimation>\n",
      "Running optimization with 4 CPUs...\n"
     ]
    },
    {
     "name": "stdout",
     "output_type": "stream",
     "text": [
      "\tDEU,  7th phase (08Oct2020 - 19Oct2020): finished  364 trials in 0 min 10 sec"
     ]
    },
    {
     "name": "stdout",
     "output_type": "stream",
     "text": [
      "\n"
     ]
    },
    {
     "name": "stdout",
     "output_type": "stream",
     "text": [
      "\tGBR, 10th phase (26Oct2020 - 05Nov2020): finished  356 trials in 0 min 10 sec"
     ]
    },
    {
     "name": "stdout",
     "output_type": "stream",
     "text": [
      "\n"
     ]
    },
    {
     "name": "stdout",
     "output_type": "stream",
     "text": [
      "\tBEL, 14th phase (25Nov2020 - 06Dec2020): finished  356 trials in 0 min 10 sec"
     ]
    },
    {
     "name": "stdout",
     "output_type": "stream",
     "text": [
      "\n"
     ]
    },
    {
     "name": "stdout",
     "output_type": "stream",
     "text": [
      "\tDEU, 10th phase (02Nov2020 - 11Nov2020): finished  367 trials in 0 min 10 sec"
     ]
    },
    {
     "name": "stdout",
     "output_type": "stream",
     "text": [
      "\n"
     ]
    },
    {
     "name": "stdout",
     "output_type": "stream",
     "text": [
      "\tGBR, 11th phase (06Nov2020 - 11Nov2020): finished  371 trials in 0 min 10 sec"
     ]
    },
    {
     "name": "stdout",
     "output_type": "stream",
     "text": [
      "\n"
     ]
    },
    {
     "name": "stdout",
     "output_type": "stream",
     "text": [
      "\tUKR, 14th phase (03Dec2020 - 09Dec2020): finished  371 trials in 0 min 10 sec"
     ]
    },
    {
     "name": "stdout",
     "output_type": "stream",
     "text": [
      "\n"
     ]
    },
    {
     "name": "stdout",
     "output_type": "stream",
     "text": [
      "\tCAN,  3rd phase (12May2020 - 02Jun2020): finished  362 trials in 0 min 10 sec"
     ]
    },
    {
     "name": "stdout",
     "output_type": "stream",
     "text": [
      "\n"
     ]
    },
    {
     "name": "stdout",
     "output_type": "stream",
     "text": [
      "\tBEL,  7th phase (28Sep2020 - 05Oct2020): finished  370 trials in 0 min 10 sec"
     ]
    },
    {
     "name": "stdout",
     "output_type": "stream",
     "text": [
      "\n"
     ]
    },
    {
     "name": "stdout",
     "output_type": "stream",
     "text": [
      "\tGBR,  2nd phase (24Apr2020 - 11May2020): finished  365 trials in 0 min 10 sec"
     ]
    },
    {
     "name": "stdout",
     "output_type": "stream",
     "text": [
      "\n"
     ]
    },
    {
     "name": "stdout",
     "output_type": "stream",
     "text": [
      "\tGBR, 16th phase (11Dec2020 - 18Dec2020): finished  371 trials in 0 min 10 sec"
     ]
    },
    {
     "name": "stdout",
     "output_type": "stream",
     "text": [
      "\n"
     ]
    },
    {
     "name": "stdout",
     "output_type": "stream",
     "text": [
      "\tGBR,  8th phase (12Oct2020 - 19Oct2020): finished  370 trials in 0 min 10 sec"
     ]
    },
    {
     "name": "stdout",
     "output_type": "stream",
     "text": [
      "\n"
     ]
    },
    {
     "name": "stdout",
     "output_type": "stream",
     "text": [
      "\tROU,  1st phase (02May2020 - 07Jul2020): finished  349 trials in 0 min 10 sec"
     ]
    },
    {
     "name": "stdout",
     "output_type": "stream",
     "text": [
      "\n"
     ]
    },
    {
     "name": "stdout",
     "output_type": "stream",
     "text": [
      "\tBEL,  6th phase (15Sep2020 - 27Sep2020): finished  346 trials in 0 min 10 sec"
     ]
    },
    {
     "name": "stdout",
     "output_type": "stream",
     "text": [
      "\n"
     ]
    },
    {
     "name": "stdout",
     "output_type": "stream",
     "text": [
      "\tDEU, 14th phase (02Dec2020 - 07Dec2020): finished  351 trials in 0 min 10 sec"
     ]
    },
    {
     "name": "stdout",
     "output_type": "stream",
     "text": [
      "\n"
     ]
    },
    {
     "name": "stdout",
     "output_type": "stream",
     "text": [
      "\tFRA, 12th phase (11Nov2020 - 16Nov2020): finished  348 trials in 0 min 10 sec"
     ]
    },
    {
     "name": "stdout",
     "output_type": "stream",
     "text": [
      "\n"
     ]
    },
    {
     "name": "stdout",
     "output_type": "stream",
     "text": [
      "\tUKR, 15th phase (10Dec2020 - 18Dec2020): finished  349 trials in 0 min 10 sec"
     ]
    },
    {
     "name": "stdout",
     "output_type": "stream",
     "text": [
      "\n"
     ]
    },
    {
     "name": "stdout",
     "output_type": "stream",
     "text": [
      "\tDEU, 13th phase (25Nov2020 - 01Dec2020): finished  369 trials in 0 min 10 sec"
     ]
    },
    {
     "name": "stdout",
     "output_type": "stream",
     "text": [
      "\n"
     ]
    },
    {
     "name": "stdout",
     "output_type": "stream",
     "text": [
      "\tPRT,  8th phase (14Oct2020 - 21Oct2020): finished  368 trials in 0 min 10 sec"
     ]
    },
    {
     "name": "stdout",
     "output_type": "stream",
     "text": [
      "\n"
     ]
    },
    {
     "name": "stdout",
     "output_type": "stream",
     "text": [
      "\tROU,  0th phase (05Mar2020 - 01May2020): finished  350 trials in 0 min 10 sec"
     ]
    },
    {
     "name": "stdout",
     "output_type": "stream",
     "text": [
      "\n"
     ]
    },
    {
     "name": "stdout",
     "output_type": "stream",
     "text": [
      "\tNLD, 11th phase (08Nov2020 - 13Nov2020): finished  371 trials in 0 min 10 sec"
     ]
    },
    {
     "name": "stdout",
     "output_type": "stream",
     "text": [
      "\n"
     ]
    },
    {
     "name": "stdout",
     "output_type": "stream",
     "text": [
      "\tDEU,  1st phase (24Mar2020 - 04Apr2020): finished  366 trials in 0 min 10 sec"
     ]
    },
    {
     "name": "stdout",
     "output_type": "stream",
     "text": [
      "\n"
     ]
    },
    {
     "name": "stdout",
     "output_type": "stream",
     "text": [
      "\tCAN,  7th phase (29Sep2020 - 11Oct2020): finished  366 trials in 0 min 10 sec"
     ]
    },
    {
     "name": "stdout",
     "output_type": "stream",
     "text": [
      "\n"
     ]
    },
    {
     "name": "stdout",
     "output_type": "stream",
     "text": [
      "\tPRT, 11th phase (03Nov2020 - 12Nov2020): finished  366 trials in 0 min 10 sec"
     ]
    },
    {
     "name": "stdout",
     "output_type": "stream",
     "text": [
      "\n"
     ]
    },
    {
     "name": "stdout",
     "output_type": "stream",
     "text": [
      "\tGBR,  5th phase (18Aug2020 - 17Sep2020): finished  361 trials in 0 min 10 sec"
     ]
    },
    {
     "name": "stdout",
     "output_type": "stream",
     "text": [
      "\n"
     ]
    },
    {
     "name": "stdout",
     "output_type": "stream",
     "text": [
      "\tGBR,  4th phase (12Jun2020 - 17Aug2020): finished  346 trials in 0 min 10 sec"
     ]
    },
    {
     "name": "stdout",
     "output_type": "stream",
     "text": [
      "\n"
     ]
    },
    {
     "name": "stdout",
     "output_type": "stream",
     "text": [
      "\tFRA,  6th phase (22Sep2020 - 30Sep2020): finished  368 trials in 0 min 10 sec"
     ]
    },
    {
     "name": "stdout",
     "output_type": "stream",
     "text": [
      "\n"
     ]
    },
    {
     "name": "stdout",
     "output_type": "stream",
     "text": [
      "\tNLD,  5th phase (09Sep2020 - 22Sep2020): finished  365 trials in 0 min 10 sec"
     ]
    },
    {
     "name": "stdout",
     "output_type": "stream",
     "text": [
      "\n"
     ]
    },
    {
     "name": "stdout",
     "output_type": "stream",
     "text": [
      "\tPRT,  4th phase (03Jul2020 - 11Aug2020): finished  356 trials in 0 min 10 sec"
     ]
    },
    {
     "name": "stdout",
     "output_type": "stream",
     "text": [
      "\n"
     ]
    },
    {
     "name": "stdout",
     "output_type": "stream",
     "text": [
      "\tDEU, 11th phase (12Nov2020 - 17Nov2020): finished  370 trials in 0 min 10 sec"
     ]
    },
    {
     "name": "stdout",
     "output_type": "stream",
     "text": [
      "\n"
     ]
    },
    {
     "name": "stdout",
     "output_type": "stream",
     "text": [
      "\tPRT, 10th phase (28Oct2020 - 02Nov2020): finished  371 trials in 0 min 10 sec"
     ]
    },
    {
     "name": "stdout",
     "output_type": "stream",
     "text": [
      "\n"
     ]
    },
    {
     "name": "stdout",
     "output_type": "stream",
     "text": [
      "\tNOR,  1st phase (23Mar2020 - 31Mar2020): finished  368 trials in 0 min 10 sec"
     ]
    },
    {
     "name": "stdout",
     "output_type": "stream",
     "text": [
      "\n"
     ]
    },
    {
     "name": "stdout",
     "output_type": "stream",
     "text": [
      "\tNOR, 14th phase (01Dec2020 - 08Dec2020): finished  369 trials in 0 min 10 sec"
     ]
    },
    {
     "name": "stdout",
     "output_type": "stream",
     "text": [
      "\n"
     ]
    },
    {
     "name": "stdout",
     "output_type": "stream",
     "text": [
      "\tUKR,  7th phase (12Oct2020 - 21Oct2020): finished  363 trials in 0 min 10 sec"
     ]
    },
    {
     "name": "stdout",
     "output_type": "stream",
     "text": [
      "\n"
     ]
    },
    {
     "name": "stdout",
     "output_type": "stream",
     "text": [
      "\tGBR,  6th phase (18Sep2020 - 02Oct2020): finished  360 trials in 0 min 10 sec"
     ]
    },
    {
     "name": "stdout",
     "output_type": "stream",
     "text": [
      "\n"
     ]
    },
    {
     "name": "stdout",
     "output_type": "stream",
     "text": [
      "\tROU,  2nd phase (08Jul2020 - 30Jul2020): finished  347 trials in 0 min 10 sec"
     ]
    },
    {
     "name": "stdout",
     "output_type": "stream",
     "text": [
      "\n"
     ]
    },
    {
     "name": "stdout",
     "output_type": "stream",
     "text": [
      "\tCAN,  9th phase (25Oct2020 - 04Nov2020): finished  349 trials in 0 min 10 sec"
     ]
    },
    {
     "name": "stdout",
     "output_type": "stream",
     "text": [
      "\n"
     ]
    },
    {
     "name": "stdout",
     "output_type": "stream",
     "text": [
      "\tFRA,  2nd phase (28Apr2020 - 29Jul2020): finished  315 trials in 0 min 10 sec"
     ]
    },
    {
     "name": "stdout",
     "output_type": "stream",
     "text": [
      "\n"
     ]
    },
    {
     "name": "stdout",
     "output_type": "stream",
     "text": [
      "\tFRA,  3rd phase (30Jul2020 - 26Aug2020): finished  349 trials in 0 min 10 sec"
     ]
    },
    {
     "name": "stdout",
     "output_type": "stream",
     "text": [
      "\n"
     ]
    },
    {
     "name": "stdout",
     "output_type": "stream",
     "text": [
      "\tFRA,  8th phase (09Oct2020 - 15Oct2020): finished  358 trials in 0 min 10 sec"
     ]
    },
    {
     "name": "stdout",
     "output_type": "stream",
     "text": [
      "\n"
     ]
    },
    {
     "name": "stdout",
     "output_type": "stream",
     "text": [
      "\tFRA,  0th phase (12Feb2020 - 01Apr2020): finished  341 trials in 0 min 10 sec"
     ]
    },
    {
     "name": "stdout",
     "output_type": "stream",
     "text": [
      "\n"
     ]
    },
    {
     "name": "stdout",
     "output_type": "stream",
     "text": [
      "\tFRA,  9th phase (16Oct2020 - 21Oct2020): finished  357 trials in 0 min 10 sec"
     ]
    },
    {
     "name": "stdout",
     "output_type": "stream",
     "text": [
      "\n"
     ]
    },
    {
     "name": "stdout",
     "output_type": "stream",
     "text": [
      "\tFRA,  1st phase (02Apr2020 - 27Apr2020): finished  354 trials in 0 min 10 sec"
     ]
    },
    {
     "name": "stdout",
     "output_type": "stream",
     "text": [
      "\n"
     ]
    },
    {
     "name": "stdout",
     "output_type": "stream",
     "text": [
      "\tROU,  3rd phase (31Jul2020 - 19Aug2020): finished  353 trials in 0 min 10 sec"
     ]
    },
    {
     "name": "stdout",
     "output_type": "stream",
     "text": [
      "\n"
     ]
    },
    {
     "name": "stdout",
     "output_type": "stream",
     "text": [
      "\tNLD,  2nd phase (17Apr2020 - 23May2020): finished  348 trials in 0 min 10 sec"
     ]
    },
    {
     "name": "stdout",
     "output_type": "stream",
     "text": [
      "\n"
     ]
    },
    {
     "name": "stdout",
     "output_type": "stream",
     "text": [
      "\tCAN, 14th phase (06Dec2020 - 11Dec2020): finished  369 trials in 0 min 10 sec"
     ]
    },
    {
     "name": "stdout",
     "output_type": "stream",
     "text": [
      "\n"
     ]
    },
    {
     "name": "stdout",
     "output_type": "stream",
     "text": [
      "\tNLD,  0th phase (11Mar2020 - 31Mar2020): finished  362 trials in 0 min 10 sec"
     ]
    },
    {
     "name": "stdout",
     "output_type": "stream",
     "text": [
      "\n"
     ]
    },
    {
     "name": "stdout",
     "output_type": "stream",
     "text": [
      "\tUKR, 13th phase (26Nov2020 - 02Dec2020): finished  367 trials in 0 min 10 sec"
     ]
    },
    {
     "name": "stdout",
     "output_type": "stream",
     "text": [
      "\n"
     ]
    },
    {
     "name": "stdout",
     "output_type": "stream",
     "text": [
      "\tROU, 10th phase (05Nov2020 - 11Nov2020): finished  367 trials in 0 min 10 sec"
     ]
    },
    {
     "name": "stdout",
     "output_type": "stream",
     "text": [
      "\n"
     ]
    },
    {
     "name": "stdout",
     "output_type": "stream",
     "text": [
      "\tUKR,  6th phase (01Oct2020 - 11Oct2020): finished  366 trials in 0 min 10 sec"
     ]
    },
    {
     "name": "stdout",
     "output_type": "stream",
     "text": [
      "\n"
     ]
    },
    {
     "name": "stdout",
     "output_type": "stream",
     "text": [
      "\tFRA, 11th phase (01Nov2020 - 10Nov2020): finished  367 trials in 0 min 10 sec"
     ]
    },
    {
     "name": "stdout",
     "output_type": "stream",
     "text": [
      "\n"
     ]
    },
    {
     "name": "stdout",
     "output_type": "stream",
     "text": [
      "\tFRA, 14th phase (26Nov2020 - 07Dec2020): finished  364 trials in 0 min 10 sec"
     ]
    },
    {
     "name": "stdout",
     "output_type": "stream",
     "text": [
      "\n"
     ]
    },
    {
     "name": "stdout",
     "output_type": "stream",
     "text": [
      "\tUKR,  2nd phase (10Jul2020 - 11Aug2020): finished  356 trials in 0 min 10 sec"
     ]
    },
    {
     "name": "stdout",
     "output_type": "stream",
     "text": [
      "\n"
     ]
    },
    {
     "name": "stdout",
     "output_type": "stream",
     "text": [
      "\tPRT,  0th phase (14Mar2020 - 03Apr2020): finished  361 trials in 0 min 10 sec"
     ]
    },
    {
     "name": "stdout",
     "output_type": "stream",
     "text": [
      "\n"
     ]
    },
    {
     "name": "stdout",
     "output_type": "stream",
     "text": [
      "\tDEU,  2nd phase (05Apr2020 - 22Apr2020): finished  362 trials in 0 min 10 sec"
     ]
    },
    {
     "name": "stdout",
     "output_type": "stream",
     "text": [
      "\n"
     ]
    },
    {
     "name": "stdout",
     "output_type": "stream",
     "text": [
      "\tFRA, 10th phase (22Oct2020 - 31Oct2020): finished  366 trials in 0 min 10 sec"
     ]
    },
    {
     "name": "stdout",
     "output_type": "stream",
     "text": [
      "\n"
     ]
    },
    {
     "name": "stdout",
     "output_type": "stream",
     "text": [
      "\tPRT,  1st phase (04Apr2020 - 22Apr2020): finished  362 trials in 0 min 10 sec"
     ]
    },
    {
     "name": "stdout",
     "output_type": "stream",
     "text": [
      "\n"
     ]
    },
    {
     "name": "stdout",
     "output_type": "stream",
     "text": [
      "\tNOR,  4th phase (20May2020 - 06Aug2020): finished  344 trials in 0 min 10 sec"
     ]
    },
    {
     "name": "stdout",
     "output_type": "stream",
     "text": [
      "\n"
     ]
    },
    {
     "name": "stdout",
     "output_type": "stream",
     "text": [
      "\tBEL,  0th phase (21Mar2020 - 01Apr2020): finished  366 trials in 0 min 10 sec"
     ]
    },
    {
     "name": "stdout",
     "output_type": "stream",
     "text": [
      "\n"
     ]
    },
    {
     "name": "stdout",
     "output_type": "stream",
     "text": [
      "\tDEU, 12th phase (18Nov2020 - 24Nov2020): finished  368 trials in 0 min 10 sec"
     ]
    },
    {
     "name": "stdout",
     "output_type": "stream",
     "text": [
      "\n"
     ]
    },
    {
     "name": "stdout",
     "output_type": "stream",
     "text": [
      "\tNOR,  2nd phase (01Apr2020 - 16Apr2020): finished  361 trials in 0 min 10 sec"
     ]
    },
    {
     "name": "stdout",
     "output_type": "stream",
     "text": [
      "\n"
     ]
    },
    {
     "name": "stdout",
     "output_type": "stream",
     "text": [
      "\tDEU,  6th phase (16Sep2020 - 07Oct2020): finished  363 trials in 0 min 10 sec"
     ]
    },
    {
     "name": "stdout",
     "output_type": "stream",
     "text": [
      "\n"
     ]
    },
    {
     "name": "stdout",
     "output_type": "stream",
     "text": [
      "\tGBR,  1st phase (07Apr2020 - 23Apr2020): finished  364 trials in 0 min 10 sec"
     ]
    },
    {
     "name": "stdout",
     "output_type": "stream",
     "text": [
      "\n"
     ]
    },
    {
     "name": "stdout",
     "output_type": "stream",
     "text": [
      "\tROU,  7th phase (12Oct2020 - 20Oct2020): finished  367 trials in 0 min 10 sec"
     ]
    },
    {
     "name": "stdout",
     "output_type": "stream",
     "text": [
      "\n"
     ]
    },
    {
     "name": "stdout",
     "output_type": "stream",
     "text": [
      "\tNLD,  9th phase (19Oct2020 - 28Oct2020): finished  365 trials in 0 min 10 sec"
     ]
    },
    {
     "name": "stdout",
     "output_type": "stream",
     "text": [
      "\n"
     ]
    },
    {
     "name": "stdout",
     "output_type": "stream",
     "text": [
      "\tROU,  8th phase (21Oct2020 - 28Oct2020): finished  368 trials in 0 min 10 sec"
     ]
    },
    {
     "name": "stdout",
     "output_type": "stream",
     "text": [
      "\n"
     ]
    },
    {
     "name": "stdout",
     "output_type": "stream",
     "text": [
      "\tCAN,  2nd phase (25Apr2020 - 11May2020): finished  363 trials in 0 min 10 sec"
     ]
    },
    {
     "name": "stdout",
     "output_type": "stream",
     "text": [
      "\n"
     ]
    },
    {
     "name": "stdout",
     "output_type": "stream",
     "text": [
      "\tNLD,  6th phase (23Sep2020 - 01Oct2020): finished  367 trials in 0 min 10 sec"
     ]
    },
    {
     "name": "stdout",
     "output_type": "stream",
     "text": [
      "\n"
     ]
    },
    {
     "name": "stdout",
     "output_type": "stream",
     "text": [
      "\tBEL, 13th phase (16Nov2020 - 24Nov2020): finished  365 trials in 0 min 10 sec"
     ]
    },
    {
     "name": "stdout",
     "output_type": "stream",
     "text": [
      "\n"
     ]
    },
    {
     "name": "stdout",
     "output_type": "stream",
     "text": [
      "\tROU,  6th phase (30Sep2020 - 11Oct2020): finished  366 trials in 0 min 10 sec"
     ]
    },
    {
     "name": "stdout",
     "output_type": "stream",
     "text": [
      "\n"
     ]
    },
    {
     "name": "stdout",
     "output_type": "stream",
     "text": [
      "\tNOR, 13th phase (23Nov2020 - 30Nov2020): finished  367 trials in 0 min 10 sec"
     ]
    },
    {
     "name": "stdout",
     "output_type": "stream",
     "text": [
      "\n"
     ]
    },
    {
     "name": "stdout",
     "output_type": "stream",
     "text": [
      "\tPRT,  2nd phase (23Apr2020 - 01Jun2020): finished  354 trials in 0 min 10 sec"
     ]
    },
    {
     "name": "stdout",
     "output_type": "stream",
     "text": [
      "\n"
     ]
    },
    {
     "name": "stdout",
     "output_type": "stream",
     "text": [
      "\tPRT, 13th phase (23Nov2020 - 03Dec2020): finished  365 trials in 0 min 10 sec"
     ]
    },
    {
     "name": "stdout",
     "output_type": "stream",
     "text": [
      "\n"
     ]
    },
    {
     "name": "stdout",
     "output_type": "stream",
     "text": [
      "\tCAN,  4th phase (03Jun2020 - 22Jul2020): finished  351 trials in 0 min 10 sec"
     ]
    },
    {
     "name": "stdout",
     "output_type": "stream",
     "text": [
      "\n"
     ]
    },
    {
     "name": "stdout",
     "output_type": "stream",
     "text": [
      "\tROU,  4th phase (20Aug2020 - 09Sep2020): finished  362 trials in 0 min 10 sec"
     ]
    },
    {
     "name": "stdout",
     "output_type": "stream",
     "text": [
      "\n"
     ]
    },
    {
     "name": "stdout",
     "output_type": "stream",
     "text": [
      "\tGBR,  0th phase (18Feb2020 - 06Apr2020): finished  352 trials in 0 min 10 sec"
     ]
    },
    {
     "name": "stdout",
     "output_type": "stream",
     "text": [
      "\n"
     ]
    },
    {
     "name": "stdout",
     "output_type": "stream",
     "text": [
      "\tBEL, 15th phase (07Dec2020 - 18Dec2020): finished  365 trials in 0 min 10 sec"
     ]
    },
    {
     "name": "stdout",
     "output_type": "stream",
     "text": [
      "\n"
     ]
    },
    {
     "name": "stdout",
     "output_type": "stream",
     "text": [
      "\tBEL,  2nd phase (15Apr2020 - 09May2020): finished  360 trials in 0 min 10 sec"
     ]
    },
    {
     "name": "stdout",
     "output_type": "stream",
     "text": [
      "\n"
     ]
    },
    {
     "name": "stdout",
     "output_type": "stream",
     "text": [
      "\tUKR,  1st phase (01Jun2020 - 09Jul2020): finished  354 trials in 0 min 10 sec"
     ]
    },
    {
     "name": "stdout",
     "output_type": "stream",
     "text": [
      "\n"
     ]
    },
    {
     "name": "stdout",
     "output_type": "stream",
     "text": [
      "\tNLD, 10th phase (29Oct2020 - 07Nov2020): finished  361 trials in 0 min 10 sec"
     ]
    },
    {
     "name": "stdout",
     "output_type": "stream",
     "text": [
      "\n"
     ]
    },
    {
     "name": "stdout",
     "output_type": "stream",
     "text": [
      "\tBEL, 10th phase (22Oct2020 - 01Nov2020): finished  358 trials in 0 min 10 sec"
     ]
    },
    {
     "name": "stdout",
     "output_type": "stream",
     "text": [
      "\n"
     ]
    },
    {
     "name": "stdout",
     "output_type": "stream",
     "text": [
      "\tROU,  5th phase (10Sep2020 - 29Sep2020): finished  320 trials in 0 min 10 sec"
     ]
    },
    {
     "name": "stdout",
     "output_type": "stream",
     "text": [
      "\n"
     ]
    },
    {
     "name": "stdout",
     "output_type": "stream",
     "text": [
      "\tGBR, 15th phase (03Dec2020 - 10Dec2020): finished  341 trials in 0 min 10 sec"
     ]
    },
    {
     "name": "stdout",
     "output_type": "stream",
     "text": [
      "\n"
     ]
    },
    {
     "name": "stdout",
     "output_type": "stream",
     "text": [
      "\tGBR, 14th phase (25Nov2020 - 02Dec2020): finished  326 trials in 0 min 10 sec"
     ]
    },
    {
     "name": "stdout",
     "output_type": "stream",
     "text": [
      "\n"
     ]
    },
    {
     "name": "stdout",
     "output_type": "stream",
     "text": [
      "\tGBR,  7th phase (03Oct2020 - 11Oct2020): finished  327 trials in 0 min 10 sec"
     ]
    },
    {
     "name": "stdout",
     "output_type": "stream",
     "text": [
      "\n"
     ]
    },
    {
     "name": "stdout",
     "output_type": "stream",
     "text": [
      "\tUKR,  5th phase (17Sep2020 - 30Sep2020): finished  366 trials in 0 min 10 sec"
     ]
    },
    {
     "name": "stdout",
     "output_type": "stream",
     "text": [
      "\n"
     ]
    },
    {
     "name": "stdout",
     "output_type": "stream",
     "text": [
      "\tCAN, 13th phase (29Nov2020 - 05Dec2020): finished  369 trials in 0 min 10 sec"
     ]
    },
    {
     "name": "stdout",
     "output_type": "stream",
     "text": [
      "\n"
     ]
    },
    {
     "name": "stdout",
     "output_type": "stream",
     "text": [
      "\tROU,  9th phase (29Oct2020 - 04Nov2020): finished  369 trials in 0 min 10 sec"
     ]
    },
    {
     "name": "stdout",
     "output_type": "stream",
     "text": [
      "\n"
     ]
    },
    {
     "name": "stdout",
     "output_type": "stream",
     "text": [
      "\tPRT, 12th phase (13Nov2020 - 22Nov2020): finished  366 trials in 0 min 10 sec"
     ]
    },
    {
     "name": "stdout",
     "output_type": "stream",
     "text": [
      "\n"
     ]
    },
    {
     "name": "stdout",
     "output_type": "stream",
     "text": [
      "\tCAN,  1st phase (09Apr2020 - 24Apr2020): finished  361 trials in 0 min 10 sec"
     ]
    },
    {
     "name": "stdout",
     "output_type": "stream",
     "text": [
      "\n"
     ]
    },
    {
     "name": "stdout",
     "output_type": "stream",
     "text": [
      "\tBEL, 11th phase (02Nov2020 - 08Nov2020): finished  363 trials in 0 min 10 sec"
     ]
    },
    {
     "name": "stdout",
     "output_type": "stream",
     "text": [
      "\n"
     ]
    },
    {
     "name": "stdout",
     "output_type": "stream",
     "text": [
      "\tNOR,  0th phase (10Mar2020 - 22Mar2020): finished  357 trials in 0 min 10 sec"
     ]
    },
    {
     "name": "stdout",
     "output_type": "stream",
     "text": [
      "\n"
     ]
    },
    {
     "name": "stdout",
     "output_type": "stream",
     "text": [
      "\tUKR,  8th phase (22Oct2020 - 29Oct2020): finished  363 trials in 0 min 10 sec"
     ]
    },
    {
     "name": "stdout",
     "output_type": "stream",
     "text": [
      "\n"
     ]
    },
    {
     "name": "stdout",
     "output_type": "stream",
     "text": [
      "\tNLD, 12th phase (14Nov2020 - 19Nov2020): finished  370 trials in 0 min 10 sec"
     ]
    },
    {
     "name": "stdout",
     "output_type": "stream",
     "text": [
      "\n"
     ]
    },
    {
     "name": "stdout",
     "output_type": "stream",
     "text": [
      "\tGBR,  3rd phase (12May2020 - 11Jun2020): finished  358 trials in 0 min 10 sec"
     ]
    },
    {
     "name": "stdout",
     "output_type": "stream",
     "text": [
      "\n"
     ]
    },
    {
     "name": "stdout",
     "output_type": "stream",
     "text": [
      "\tFRA,  7th phase (01Oct2020 - 08Oct2020): finished  368 trials in 0 min 10 sec"
     ]
    },
    {
     "name": "stdout",
     "output_type": "stream",
     "text": [
      "\n"
     ]
    },
    {
     "name": "stdout",
     "output_type": "stream",
     "text": [
      "\tPRT, 14th phase (04Dec2020 - 09Dec2020): finished  368 trials in 0 min 10 sec"
     ]
    },
    {
     "name": "stdout",
     "output_type": "stream",
     "text": [
      "\n"
     ]
    },
    {
     "name": "stdout",
     "output_type": "stream",
     "text": [
      "\tPRT,  9th phase (22Oct2020 - 27Oct2020): finished  371 trials in 0 min 10 sec"
     ]
    },
    {
     "name": "stdout",
     "output_type": "stream",
     "text": [
      "\n"
     ]
    },
    {
     "name": "stdout",
     "output_type": "stream",
     "text": [
      "\tNOR,  5th phase (07Aug2020 - 02Sep2020): finished  361 trials in 0 min 10 sec"
     ]
    },
    {
     "name": "stdout",
     "output_type": "stream",
     "text": [
      "\n"
     ]
    },
    {
     "name": "stdout",
     "output_type": "stream",
     "text": [
      "\tPRT,  3rd phase (02Jun2020 - 02Jul2020): finished  360 trials in 0 min 10 sec"
     ]
    },
    {
     "name": "stdout",
     "output_type": "stream",
     "text": [
      "\n"
     ]
    },
    {
     "name": "stdout",
     "output_type": "stream",
     "text": [
      "\tDEU,  3rd phase (23Apr2020 - 17Jun2020): finished  347 trials in 0 min 10 sec"
     ]
    },
    {
     "name": "stdout",
     "output_type": "stream",
     "text": [
      "\n"
     ]
    },
    {
     "name": "stdout",
     "output_type": "stream",
     "text": [
      "\tDEU,  8th phase (20Oct2020 - 26Oct2020): finished  370 trials in 0 min 10 sec"
     ]
    },
    {
     "name": "stdout",
     "output_type": "stream",
     "text": [
      "\n"
     ]
    },
    {
     "name": "stdout",
     "output_type": "stream",
     "text": [
      "\tPRT,  7th phase (01Oct2020 - 13Oct2020): finished  366 trials in 0 min 10 sec"
     ]
    },
    {
     "name": "stdout",
     "output_type": "stream",
     "text": [
      "\n"
     ]
    },
    {
     "name": "stdout",
     "output_type": "stream",
     "text": [
      "\tNOR, 10th phase (29Oct2020 - 03Nov2020): finished  370 trials in 0 min 10 sec"
     ]
    },
    {
     "name": "stdout",
     "output_type": "stream",
     "text": [
      "\n"
     ]
    },
    {
     "name": "stdout",
     "output_type": "stream",
     "text": [
      "\tCAN, 10th phase (05Nov2020 - 13Nov2020): finished  366 trials in 0 min 10 sec"
     ]
    },
    {
     "name": "stdout",
     "output_type": "stream",
     "text": [
      "\n"
     ]
    },
    {
     "name": "stdout",
     "output_type": "stream",
     "text": [
      "\tBEL,  5th phase (23Aug2020 - 14Sep2020): finished  362 trials in 0 min 10 sec"
     ]
    },
    {
     "name": "stdout",
     "output_type": "stream",
     "text": [
      "\n"
     ]
    },
    {
     "name": "stdout",
     "output_type": "stream",
     "text": [
      "\tBEL,  1st phase (02Apr2020 - 14Apr2020): finished  366 trials in 0 min 10 sec"
     ]
    },
    {
     "name": "stdout",
     "output_type": "stream",
     "text": [
      "\n"
     ]
    },
    {
     "name": "stdout",
     "output_type": "stream",
     "text": [
      "\tPRT,  5th phase (12Aug2020 - 11Sep2020): finished  359 trials in 0 min 10 sec"
     ]
    },
    {
     "name": "stdout",
     "output_type": "stream",
     "text": [
      "\n"
     ]
    },
    {
     "name": "stdout",
     "output_type": "stream",
     "text": [
      "\tNOR,  8th phase (06Oct2020 - 20Oct2020): finished  365 trials in 0 min 10 sec"
     ]
    },
    {
     "name": "stdout",
     "output_type": "stream",
     "text": [
      "\n"
     ]
    },
    {
     "name": "stdout",
     "output_type": "stream",
     "text": [
      "\tGBR,  9th phase (20Oct2020 - 25Oct2020): finished  371 trials in 0 min 10 sec"
     ]
    },
    {
     "name": "stdout",
     "output_type": "stream",
     "text": [
      "\n"
     ]
    },
    {
     "name": "stdout",
     "output_type": "stream",
     "text": [
      "\tCAN, 11th phase (14Nov2020 - 21Nov2020): finished  369 trials in 0 min 10 sec"
     ]
    },
    {
     "name": "stdout",
     "output_type": "stream",
     "text": [
      "\n"
     ]
    },
    {
     "name": "stdout",
     "output_type": "stream",
     "text": [
      "\tNLD, 15th phase (03Dec2020 - 18Dec2020): finished  365 trials in 0 min 10 sec"
     ]
    },
    {
     "name": "stdout",
     "output_type": "stream",
     "text": [
      "\n"
     ]
    },
    {
     "name": "stdout",
     "output_type": "stream",
     "text": [
      "\tDEU,  0th phase (14Jan2020 - 23Mar2020): finished  349 trials in 0 min 10 sec"
     ]
    },
    {
     "name": "stdout",
     "output_type": "stream",
     "text": [
      "\n"
     ]
    },
    {
     "name": "stdout",
     "output_type": "stream",
     "text": [
      "\tFRA,  4th phase (27Aug2020 - 09Sep2020): finished  367 trials in 0 min 10 sec"
     ]
    },
    {
     "name": "stdout",
     "output_type": "stream",
     "text": [
      "\n"
     ]
    },
    {
     "name": "stdout",
     "output_type": "stream",
     "text": [
      "\tDEU, 15th phase (08Dec2020 - 18Dec2020): finished  367 trials in 0 min 10 sec"
     ]
    },
    {
     "name": "stdout",
     "output_type": "stream",
     "text": [
      "\n"
     ]
    },
    {
     "name": "stdout",
     "output_type": "stream",
     "text": [
      "\tNOR, 12th phase (10Nov2020 - 22Nov2020): finished  366 trials in 0 min 10 sec"
     ]
    },
    {
     "name": "stdout",
     "output_type": "stream",
     "text": [
      "\n"
     ]
    },
    {
     "name": "stdout",
     "output_type": "stream",
     "text": [
      "\tNOR, 15th phase (09Dec2020 - 18Dec2020): finished  366 trials in 0 min 10 sec"
     ]
    },
    {
     "name": "stdout",
     "output_type": "stream",
     "text": [
      "\n"
     ]
    },
    {
     "name": "stdout",
     "output_type": "stream",
     "text": [
      "\tCAN, 12th phase (22Nov2020 - 28Nov2020): finished  370 trials in 0 min 10 sec"
     ]
    },
    {
     "name": "stdout",
     "output_type": "stream",
     "text": [
      "\n"
     ]
    },
    {
     "name": "stdout",
     "output_type": "stream",
     "text": [
      "\tNOR,  3rd phase (17Apr2020 - 19May2020): finished  355 trials in 0 min 10 sec"
     ]
    },
    {
     "name": "stdout",
     "output_type": "stream",
     "text": [
      "\n"
     ]
    },
    {
     "name": "stdout",
     "output_type": "stream",
     "text": [
      "\tUKR,  4th phase (01Sep2020 - 16Sep2020): finished  361 trials in 0 min 10 sec"
     ]
    },
    {
     "name": "stdout",
     "output_type": "stream",
     "text": [
      "\n"
     ]
    },
    {
     "name": "stdout",
     "output_type": "stream",
     "text": [
      "\tUKR,  9th phase (30Oct2020 - 05Nov2020): finished  363 trials in 0 min 10 sec"
     ]
    },
    {
     "name": "stdout",
     "output_type": "stream",
     "text": [
      "\n"
     ]
    },
    {
     "name": "stdout",
     "output_type": "stream",
     "text": [
      "\tCAN,  8th phase (12Oct2020 - 24Oct2020): finished  368 trials in 0 min 10 sec"
     ]
    },
    {
     "name": "stdout",
     "output_type": "stream",
     "text": [
      "\n"
     ]
    },
    {
     "name": "stdout",
     "output_type": "stream",
     "text": [
      "\tPRT,  6th phase (12Sep2020 - 30Sep2020): finished  368 trials in 0 min 10 sec"
     ]
    },
    {
     "name": "stdout",
     "output_type": "stream",
     "text": [
      "\n"
     ]
    },
    {
     "name": "stdout",
     "output_type": "stream",
     "text": [
      "\tNLD,  7th phase (02Oct2020 - 08Oct2020): finished  374 trials in 0 min 10 sec"
     ]
    },
    {
     "name": "stdout",
     "output_type": "stream",
     "text": [
      "\n"
     ]
    },
    {
     "name": "stdout",
     "output_type": "stream",
     "text": [
      "\tBEL,  4th phase (28Jul2020 - 22Aug2020): finished  332 trials in 0 min 10 sec"
     ]
    },
    {
     "name": "stdout",
     "output_type": "stream",
     "text": [
      "\n"
     ]
    },
    {
     "name": "stdout",
     "output_type": "stream",
     "text": [
      "\tUKR,  0th phase (21Mar2020 - 31May2020): finished  321 trials in 0 min 10 sec"
     ]
    },
    {
     "name": "stdout",
     "output_type": "stream",
     "text": [
      "\n"
     ]
    },
    {
     "name": "stdout",
     "output_type": "stream",
     "text": [
      "\tUKR, 11th phase (13Nov2020 - 19Nov2020): finished  343 trials in 0 min 10 sec"
     ]
    },
    {
     "name": "stdout",
     "output_type": "stream",
     "text": [
      "\n"
     ]
    },
    {
     "name": "stdout",
     "output_type": "stream",
     "text": [
      "\tUKR,  3rd phase (12Aug2020 - 31Aug2020): finished  369 trials in 0 min 10 sec"
     ]
    },
    {
     "name": "stdout",
     "output_type": "stream",
     "text": [
      "\n"
     ]
    },
    {
     "name": "stdout",
     "output_type": "stream",
     "text": [
      "\tCAN,  0th phase (02Mar2020 - 08Apr2020): finished  362 trials in 0 min 10 sec"
     ]
    },
    {
     "name": "stdout",
     "output_type": "stream",
     "text": [
      "\n"
     ]
    },
    {
     "name": "stdout",
     "output_type": "stream",
     "text": [
      "\tDEU,  4th phase (18Jun2020 - 15Aug2020): finished  356 trials in 0 min 10 sec"
     ]
    },
    {
     "name": "stdout",
     "output_type": "stream",
     "text": [
      "\n"
     ]
    },
    {
     "name": "stdout",
     "output_type": "stream",
     "text": [
      "\tNLD,  3rd phase (24May2020 - 09Aug2020): finished  350 trials in 0 min 10 sec"
     ]
    },
    {
     "name": "stdout",
     "output_type": "stream",
     "text": [
      "\n"
     ]
    },
    {
     "name": "stdout",
     "output_type": "stream",
     "text": [
      "\tCAN, 15th phase (12Dec2020 - 18Dec2020): finished  375 trials in 0 min 10 sec"
     ]
    },
    {
     "name": "stdout",
     "output_type": "stream",
     "text": [
      "\n"
     ]
    },
    {
     "name": "stdout",
     "output_type": "stream",
     "text": [
      "\tNOR,  7th phase (20Sep2020 - 05Oct2020): finished  371 trials in 0 min 10 sec"
     ]
    },
    {
     "name": "stdout",
     "output_type": "stream",
     "text": [
      "\n"
     ]
    },
    {
     "name": "stdout",
     "output_type": "stream",
     "text": [
      "\tCAN,  5th phase (23Jul2020 - 06Sep2020): finished  355 trials in 0 min 10 sec"
     ]
    },
    {
     "name": "stdout",
     "output_type": "stream",
     "text": [
      "\n"
     ]
    },
    {
     "name": "stdout",
     "output_type": "stream",
     "text": [
      "\tUKR, 12th phase (20Nov2020 - 25Nov2020): finished  372 trials in 0 min 10 sec"
     ]
    },
    {
     "name": "stdout",
     "output_type": "stream",
     "text": [
      "\n"
     ]
    },
    {
     "name": "stdout",
     "output_type": "stream",
     "text": [
      "\tBEL,  8th phase (06Oct2020 - 11Oct2020): finished  374 trials in 0 min 10 sec"
     ]
    },
    {
     "name": "stdout",
     "output_type": "stream",
     "text": [
      "\n"
     ]
    },
    {
     "name": "stdout",
     "output_type": "stream",
     "text": [
      "\tCAN,  6th phase (07Sep2020 - 28Sep2020): finished  369 trials in 0 min 10 sec"
     ]
    },
    {
     "name": "stdout",
     "output_type": "stream",
     "text": [
      "\n"
     ]
    },
    {
     "name": "stdout",
     "output_type": "stream",
     "text": [
      "\tNOR, 11th phase (04Nov2020 - 09Nov2020): finished  375 trials in 0 min 10 sec"
     ]
    },
    {
     "name": "stdout",
     "output_type": "stream",
     "text": [
      "\n"
     ]
    },
    {
     "name": "stdout",
     "output_type": "stream",
     "text": [
      "\tBEL,  3rd phase (10May2020 - 27Jul2020): finished  350 trials in 0 min 10 sec"
     ]
    },
    {
     "name": "stdout",
     "output_type": "stream",
     "text": [
      "\n"
     ]
    },
    {
     "name": "stdout",
     "output_type": "stream",
     "text": [
      "\tNLD,  8th phase (09Oct2020 - 18Oct2020): finished  373 trials in 0 min 10 sec"
     ]
    },
    {
     "name": "stdout",
     "output_type": "stream",
     "text": [
      "\n"
     ]
    },
    {
     "name": "stdout",
     "output_type": "stream",
     "text": [
      "\tFRA, 13th phase (17Nov2020 - 25Nov2020): finished  372 trials in 0 min 10 sec"
     ]
    },
    {
     "name": "stdout",
     "output_type": "stream",
     "text": [
      "\n"
     ]
    },
    {
     "name": "stdout",
     "output_type": "stream",
     "text": [
      "\tBEL, 12th phase (09Nov2020 - 15Nov2020): finished  374 trials in 0 min 10 sec"
     ]
    },
    {
     "name": "stdout",
     "output_type": "stream",
     "text": [
      "\n"
     ]
    },
    {
     "name": "stdout",
     "output_type": "stream",
     "text": [
      "\tDEU,  5th phase (16Aug2020 - 15Sep2020): finished  350 trials in 0 min 10 sec"
     ]
    },
    {
     "name": "stdout",
     "output_type": "stream",
     "text": [
      "\n"
     ]
    },
    {
     "name": "stdout",
     "output_type": "stream",
     "text": [
      "\tDEU,  9th phase (27Oct2020 - 01Nov2020): finished  352 trials in 0 min 10 sec"
     ]
    },
    {
     "name": "stdout",
     "output_type": "stream",
     "text": [
      "\n"
     ]
    },
    {
     "name": "stdout",
     "output_type": "stream",
     "text": [
      "\tNOR,  6th phase (03Sep2020 - 19Sep2020): finished  288 trials in 0 min 10 sec"
     ]
    },
    {
     "name": "stdout",
     "output_type": "stream",
     "text": [
      "\n"
     ]
    },
    {
     "name": "stdout",
     "output_type": "stream",
     "text": [
      "\tFRA,  5th phase (10Sep2020 - 21Sep2020): finished  286 trials in 0 min 10 sec"
     ]
    },
    {
     "name": "stdout",
     "output_type": "stream",
     "text": [
      "\n"
     ]
    },
    {
     "name": "stdout",
     "output_type": "stream",
     "text": [
      "\tUKR, 10th phase (06Nov2020 - 12Nov2020): finished  323 trials in 0 min 10 sec"
     ]
    },
    {
     "name": "stdout",
     "output_type": "stream",
     "text": [
      "\n"
     ]
    },
    {
     "name": "stdout",
     "output_type": "stream",
     "text": [
      "\tNLD,  4th phase (10Aug2020 - 08Sep2020): finished  314 trials in 0 min 10 sec"
     ]
    },
    {
     "name": "stdout",
     "output_type": "stream",
     "text": [
      "\n"
     ]
    },
    {
     "name": "stdout",
     "output_type": "stream",
     "text": [
      "Completed optimization. Total: 7 min  3 sec\n"
     ]
    }
   ],
   "source": [
    "# Parameter estimation with SIR-F model\n",
    "analyser.estimate(cs.SIRF, timeout=10)"
   ]
  },
  {
   "cell_type": "code",
   "execution_count": 12,
   "metadata": {
    "collapsed": false
   },
   "outputs": [
    {
     "data": {
      "text/html": [
       "<div>\n",
       "<style scoped>\n",
       "    .dataframe tbody tr th:only-of-type {\n",
       "        vertical-align: middle;\n",
       "    }\n",
       "\n",
       "    .dataframe tbody tr th {\n",
       "        vertical-align: top;\n",
       "    }\n",
       "\n",
       "    .dataframe thead th {\n",
       "        text-align: right;\n",
       "    }\n",
       "</style>\n",
       "<table border=\"1\" class=\"dataframe\">\n",
       "  <thead>\n",
       "    <tr style=\"text-align: right;\">\n",
       "      <th></th>\n",
       "      <th></th>\n",
       "      <th>Type</th>\n",
       "      <th>Start</th>\n",
       "      <th>End</th>\n",
       "      <th>Population</th>\n",
       "      <th>ODE</th>\n",
       "      <th>Rt</th>\n",
       "      <th>theta</th>\n",
       "      <th>kappa</th>\n",
       "      <th>rho</th>\n",
       "      <th>sigma</th>\n",
       "      <th>tau</th>\n",
       "      <th>1/beta [day]</th>\n",
       "      <th>1/gamma [day]</th>\n",
       "      <th>alpha1 [-]</th>\n",
       "      <th>1/alpha2 [day]</th>\n",
       "      <th>RMSLE</th>\n",
       "      <th>Trials</th>\n",
       "      <th>Runtime</th>\n",
       "    </tr>\n",
       "    <tr>\n",
       "      <th>Country</th>\n",
       "      <th>Phase</th>\n",
       "      <th></th>\n",
       "      <th></th>\n",
       "      <th></th>\n",
       "      <th></th>\n",
       "      <th></th>\n",
       "      <th></th>\n",
       "      <th></th>\n",
       "      <th></th>\n",
       "      <th></th>\n",
       "      <th></th>\n",
       "      <th></th>\n",
       "      <th></th>\n",
       "      <th></th>\n",
       "      <th></th>\n",
       "      <th></th>\n",
       "      <th></th>\n",
       "      <th></th>\n",
       "      <th></th>\n",
       "    </tr>\n",
       "  </thead>\n",
       "  <tbody>\n",
       "    <tr>\n",
       "      <th rowspan=\"17\" valign=\"top\">United Kingdom</th>\n",
       "      <th>0th</th>\n",
       "      <td>Past</td>\n",
       "      <td>18Feb2020</td>\n",
       "      <td>06Apr2020</td>\n",
       "      <td>66460344</td>\n",
       "      <td>SIR-F</td>\n",
       "      <td>11.84</td>\n",
       "      <td>0.0189128</td>\n",
       "      <td>0.000990645</td>\n",
       "      <td>0.0547295</td>\n",
       "      <td>0.0035429</td>\n",
       "      <td>360</td>\n",
       "      <td>4</td>\n",
       "      <td>70</td>\n",
       "      <td>0.019</td>\n",
       "      <td>252</td>\n",
       "      <td>0.75443</td>\n",
       "      <td>352</td>\n",
       "      <td>0 min 10 sec</td>\n",
       "    </tr>\n",
       "    <tr>\n",
       "      <th>1st</th>\n",
       "      <td>Past</td>\n",
       "      <td>07Apr2020</td>\n",
       "      <td>23Apr2020</td>\n",
       "      <td>66460344</td>\n",
       "      <td>SIR-F</td>\n",
       "      <td>1.28</td>\n",
       "      <td>0.168805</td>\n",
       "      <td>0.00110787</td>\n",
       "      <td>0.0283194</td>\n",
       "      <td>0.017304</td>\n",
       "      <td>360</td>\n",
       "      <td>8</td>\n",
       "      <td>14</td>\n",
       "      <td>0.169</td>\n",
       "      <td>225</td>\n",
       "      <td>0.0533782</td>\n",
       "      <td>364</td>\n",
       "      <td>0 min 10 sec</td>\n",
       "    </tr>\n",
       "    <tr>\n",
       "      <th>2nd</th>\n",
       "      <td>Past</td>\n",
       "      <td>24Apr2020</td>\n",
       "      <td>11May2020</td>\n",
       "      <td>66460344</td>\n",
       "      <td>SIR-F</td>\n",
       "      <td>1.07</td>\n",
       "      <td>0.135303</td>\n",
       "      <td>9.72794e-05</td>\n",
       "      <td>0.0242898</td>\n",
       "      <td>0.0195431</td>\n",
       "      <td>360</td>\n",
       "      <td>10</td>\n",
       "      <td>12</td>\n",
       "      <td>0.135</td>\n",
       "      <td>2569</td>\n",
       "      <td>0.0175467</td>\n",
       "      <td>365</td>\n",
       "      <td>0 min 10 sec</td>\n",
       "    </tr>\n",
       "    <tr>\n",
       "      <th>3rd</th>\n",
       "      <td>Past</td>\n",
       "      <td>12May2020</td>\n",
       "      <td>11Jun2020</td>\n",
       "      <td>66460344</td>\n",
       "      <td>SIR-F</td>\n",
       "      <td>0.66</td>\n",
       "      <td>0.0750985</td>\n",
       "      <td>0.000681261</td>\n",
       "      <td>0.0189018</td>\n",
       "      <td>0.0256385</td>\n",
       "      <td>360</td>\n",
       "      <td>13</td>\n",
       "      <td>9</td>\n",
       "      <td>0.075</td>\n",
       "      <td>366</td>\n",
       "      <td>0.0182934</td>\n",
       "      <td>358</td>\n",
       "      <td>0 min 10 sec</td>\n",
       "    </tr>\n",
       "    <tr>\n",
       "      <th>4th</th>\n",
       "      <td>Past</td>\n",
       "      <td>12Jun2020</td>\n",
       "      <td>17Aug2020</td>\n",
       "      <td>66460344</td>\n",
       "      <td>SIR-F</td>\n",
       "      <td>0.89</td>\n",
       "      <td>0.0493624</td>\n",
       "      <td>0.000256634</td>\n",
       "      <td>0.0226069</td>\n",
       "      <td>0.0240152</td>\n",
       "      <td>360</td>\n",
       "      <td>11</td>\n",
       "      <td>10</td>\n",
       "      <td>0.049</td>\n",
       "      <td>974</td>\n",
       "      <td>0.145159</td>\n",
       "      <td>346</td>\n",
       "      <td>0 min 10 sec</td>\n",
       "    </tr>\n",
       "    <tr>\n",
       "      <th>5th</th>\n",
       "      <td>Past</td>\n",
       "      <td>18Aug2020</td>\n",
       "      <td>17Sep2020</td>\n",
       "      <td>66460344</td>\n",
       "      <td>SIR-F</td>\n",
       "      <td>1.49</td>\n",
       "      <td>0.0372424</td>\n",
       "      <td>0.000681401</td>\n",
       "      <td>0.0243274</td>\n",
       "      <td>0.0150784</td>\n",
       "      <td>360</td>\n",
       "      <td>10</td>\n",
       "      <td>16</td>\n",
       "      <td>0.037</td>\n",
       "      <td>366</td>\n",
       "      <td>0.0936079</td>\n",
       "      <td>361</td>\n",
       "      <td>0 min 10 sec</td>\n",
       "    </tr>\n",
       "    <tr>\n",
       "      <th>6th</th>\n",
       "      <td>Past</td>\n",
       "      <td>18Sep2020</td>\n",
       "      <td>02Oct2020</td>\n",
       "      <td>66460344</td>\n",
       "      <td>SIR-F</td>\n",
       "      <td>1.79</td>\n",
       "      <td>0.000130507</td>\n",
       "      <td>0.000168217</td>\n",
       "      <td>0.0263161</td>\n",
       "      <td>0.0145524</td>\n",
       "      <td>360</td>\n",
       "      <td>9</td>\n",
       "      <td>17</td>\n",
       "      <td>0</td>\n",
       "      <td>1486</td>\n",
       "      <td>0.0116307</td>\n",
       "      <td>360</td>\n",
       "      <td>0 min 10 sec</td>\n",
       "    </tr>\n",
       "    <tr>\n",
       "      <th>7th</th>\n",
       "      <td>Past</td>\n",
       "      <td>03Oct2020</td>\n",
       "      <td>11Oct2020</td>\n",
       "      <td>66460344</td>\n",
       "      <td>SIR-F</td>\n",
       "      <td>2.43</td>\n",
       "      <td>0.0012119</td>\n",
       "      <td>0.000530169</td>\n",
       "      <td>0.0308227</td>\n",
       "      <td>0.0121554</td>\n",
       "      <td>360</td>\n",
       "      <td>8</td>\n",
       "      <td>20</td>\n",
       "      <td>0.001</td>\n",
       "      <td>471</td>\n",
       "      <td>0.0665743</td>\n",
       "      <td>327</td>\n",
       "      <td>0 min 10 sec</td>\n",
       "    </tr>\n",
       "    <tr>\n",
       "      <th>8th</th>\n",
       "      <td>Past</td>\n",
       "      <td>12Oct2020</td>\n",
       "      <td>19Oct2020</td>\n",
       "      <td>66460344</td>\n",
       "      <td>SIR-F</td>\n",
       "      <td>1.45</td>\n",
       "      <td>0.00107241</td>\n",
       "      <td>0.000191072</td>\n",
       "      <td>0.0246769</td>\n",
       "      <td>0.0167727</td>\n",
       "      <td>360</td>\n",
       "      <td>10</td>\n",
       "      <td>14</td>\n",
       "      <td>0.001</td>\n",
       "      <td>1308</td>\n",
       "      <td>0.0242427</td>\n",
       "      <td>370</td>\n",
       "      <td>0 min 10 sec</td>\n",
       "    </tr>\n",
       "    <tr>\n",
       "      <th>9th</th>\n",
       "      <td>Past</td>\n",
       "      <td>20Oct2020</td>\n",
       "      <td>25Oct2020</td>\n",
       "      <td>66460344</td>\n",
       "      <td>SIR-F</td>\n",
       "      <td>1.57</td>\n",
       "      <td>0.00141836</td>\n",
       "      <td>5.43243e-05</td>\n",
       "      <td>0.0245026</td>\n",
       "      <td>0.0154902</td>\n",
       "      <td>360</td>\n",
       "      <td>10</td>\n",
       "      <td>16</td>\n",
       "      <td>0.001</td>\n",
       "      <td>4601</td>\n",
       "      <td>0.0121932</td>\n",
       "      <td>371</td>\n",
       "      <td>0 min 10 sec</td>\n",
       "    </tr>\n",
       "    <tr>\n",
       "      <th>10th</th>\n",
       "      <td>Past</td>\n",
       "      <td>26Oct2020</td>\n",
       "      <td>05Nov2020</td>\n",
       "      <td>66460344</td>\n",
       "      <td>SIR-F</td>\n",
       "      <td>1.21</td>\n",
       "      <td>0.016007</td>\n",
       "      <td>4.05087e-05</td>\n",
       "      <td>0.0235599</td>\n",
       "      <td>0.0191858</td>\n",
       "      <td>360</td>\n",
       "      <td>10</td>\n",
       "      <td>13</td>\n",
       "      <td>0.016</td>\n",
       "      <td>6171</td>\n",
       "      <td>0.0195712</td>\n",
       "      <td>356</td>\n",
       "      <td>0 min 10 sec</td>\n",
       "    </tr>\n",
       "    <tr>\n",
       "      <th>11th</th>\n",
       "      <td>Past</td>\n",
       "      <td>06Nov2020</td>\n",
       "      <td>11Nov2020</td>\n",
       "      <td>66460344</td>\n",
       "      <td>SIR-F</td>\n",
       "      <td>0.99</td>\n",
       "      <td>0.000656873</td>\n",
       "      <td>0.000283772</td>\n",
       "      <td>0.0216838</td>\n",
       "      <td>0.0215752</td>\n",
       "      <td>360</td>\n",
       "      <td>11</td>\n",
       "      <td>11</td>\n",
       "      <td>0.001</td>\n",
       "      <td>880</td>\n",
       "      <td>0.00605567</td>\n",
       "      <td>371</td>\n",
       "      <td>0 min 10 sec</td>\n",
       "    </tr>\n",
       "    <tr>\n",
       "      <th>12th</th>\n",
       "      <td>Past</td>\n",
       "      <td>12Nov2020</td>\n",
       "      <td>17Nov2020</td>\n",
       "      <td>66460344</td>\n",
       "      <td>-</td>\n",
       "      <td>-</td>\n",
       "      <td>-</td>\n",
       "      <td>-</td>\n",
       "      <td>-</td>\n",
       "      <td>-</td>\n",
       "      <td>-</td>\n",
       "      <td>-</td>\n",
       "      <td>-</td>\n",
       "      <td>-</td>\n",
       "      <td>-</td>\n",
       "      <td>-</td>\n",
       "      <td>-</td>\n",
       "      <td>-</td>\n",
       "    </tr>\n",
       "    <tr>\n",
       "      <th>13th</th>\n",
       "      <td>Past</td>\n",
       "      <td>18Nov2020</td>\n",
       "      <td>24Nov2020</td>\n",
       "      <td>66460344</td>\n",
       "      <td>-</td>\n",
       "      <td>-</td>\n",
       "      <td>-</td>\n",
       "      <td>-</td>\n",
       "      <td>-</td>\n",
       "      <td>-</td>\n",
       "      <td>-</td>\n",
       "      <td>-</td>\n",
       "      <td>-</td>\n",
       "      <td>-</td>\n",
       "      <td>-</td>\n",
       "      <td>-</td>\n",
       "      <td>-</td>\n",
       "      <td>-</td>\n",
       "    </tr>\n",
       "    <tr>\n",
       "      <th>14th</th>\n",
       "      <td>Past</td>\n",
       "      <td>25Nov2020</td>\n",
       "      <td>02Dec2020</td>\n",
       "      <td>66460344</td>\n",
       "      <td>SIR-F</td>\n",
       "      <td>0.67</td>\n",
       "      <td>0.0179123</td>\n",
       "      <td>0.000237667</td>\n",
       "      <td>0.0187752</td>\n",
       "      <td>0.0273744</td>\n",
       "      <td>360</td>\n",
       "      <td>13</td>\n",
       "      <td>9</td>\n",
       "      <td>0.018</td>\n",
       "      <td>1051</td>\n",
       "      <td>0.00435682</td>\n",
       "      <td>326</td>\n",
       "      <td>0 min 10 sec</td>\n",
       "    </tr>\n",
       "    <tr>\n",
       "      <th>15th</th>\n",
       "      <td>Past</td>\n",
       "      <td>03Dec2020</td>\n",
       "      <td>10Dec2020</td>\n",
       "      <td>66460344</td>\n",
       "      <td>SIR-F</td>\n",
       "      <td>1.03</td>\n",
       "      <td>0.0246451</td>\n",
       "      <td>4.84144e-05</td>\n",
       "      <td>0.0240146</td>\n",
       "      <td>0.0227676</td>\n",
       "      <td>360</td>\n",
       "      <td>10</td>\n",
       "      <td>10</td>\n",
       "      <td>0.025</td>\n",
       "      <td>5163</td>\n",
       "      <td>0.00942554</td>\n",
       "      <td>341</td>\n",
       "      <td>0 min 10 sec</td>\n",
       "    </tr>\n",
       "    <tr>\n",
       "      <th>16th</th>\n",
       "      <td>Past</td>\n",
       "      <td>11Dec2020</td>\n",
       "      <td>18Dec2020</td>\n",
       "      <td>66460344</td>\n",
       "      <td>SIR-F</td>\n",
       "      <td>1.49</td>\n",
       "      <td>0.0192502</td>\n",
       "      <td>4.04892e-05</td>\n",
       "      <td>0.0262683</td>\n",
       "      <td>0.017289</td>\n",
       "      <td>360</td>\n",
       "      <td>9</td>\n",
       "      <td>14</td>\n",
       "      <td>0.019</td>\n",
       "      <td>6174</td>\n",
       "      <td>0.0160576</td>\n",
       "      <td>371</td>\n",
       "      <td>0 min 10 sec</td>\n",
       "    </tr>\n",
       "  </tbody>\n",
       "</table>\n",
       "</div>"
      ],
      "text/plain": [
       "                      Type      Start        End  Population    ODE     Rt  \\\n",
       "Country        Phase                                                         \n",
       "United Kingdom 0th    Past  18Feb2020  06Apr2020    66460344  SIR-F  11.84   \n",
       "               1st    Past  07Apr2020  23Apr2020    66460344  SIR-F   1.28   \n",
       "               2nd    Past  24Apr2020  11May2020    66460344  SIR-F   1.07   \n",
       "               3rd    Past  12May2020  11Jun2020    66460344  SIR-F   0.66   \n",
       "               4th    Past  12Jun2020  17Aug2020    66460344  SIR-F   0.89   \n",
       "               5th    Past  18Aug2020  17Sep2020    66460344  SIR-F   1.49   \n",
       "               6th    Past  18Sep2020  02Oct2020    66460344  SIR-F   1.79   \n",
       "               7th    Past  03Oct2020  11Oct2020    66460344  SIR-F   2.43   \n",
       "               8th    Past  12Oct2020  19Oct2020    66460344  SIR-F   1.45   \n",
       "               9th    Past  20Oct2020  25Oct2020    66460344  SIR-F   1.57   \n",
       "               10th   Past  26Oct2020  05Nov2020    66460344  SIR-F   1.21   \n",
       "               11th   Past  06Nov2020  11Nov2020    66460344  SIR-F   0.99   \n",
       "               12th   Past  12Nov2020  17Nov2020    66460344      -      -   \n",
       "               13th   Past  18Nov2020  24Nov2020    66460344      -      -   \n",
       "               14th   Past  25Nov2020  02Dec2020    66460344  SIR-F   0.67   \n",
       "               15th   Past  03Dec2020  10Dec2020    66460344  SIR-F   1.03   \n",
       "               16th   Past  11Dec2020  18Dec2020    66460344  SIR-F   1.49   \n",
       "\n",
       "                            theta        kappa        rho      sigma  tau  \\\n",
       "Country        Phase                                                        \n",
       "United Kingdom 0th      0.0189128  0.000990645  0.0547295  0.0035429  360   \n",
       "               1st       0.168805   0.00110787  0.0283194   0.017304  360   \n",
       "               2nd       0.135303  9.72794e-05  0.0242898  0.0195431  360   \n",
       "               3rd      0.0750985  0.000681261  0.0189018  0.0256385  360   \n",
       "               4th      0.0493624  0.000256634  0.0226069  0.0240152  360   \n",
       "               5th      0.0372424  0.000681401  0.0243274  0.0150784  360   \n",
       "               6th    0.000130507  0.000168217  0.0263161  0.0145524  360   \n",
       "               7th      0.0012119  0.000530169  0.0308227  0.0121554  360   \n",
       "               8th     0.00107241  0.000191072  0.0246769  0.0167727  360   \n",
       "               9th     0.00141836  5.43243e-05  0.0245026  0.0154902  360   \n",
       "               10th      0.016007  4.05087e-05  0.0235599  0.0191858  360   \n",
       "               11th   0.000656873  0.000283772  0.0216838  0.0215752  360   \n",
       "               12th             -            -          -          -    -   \n",
       "               13th             -            -          -          -    -   \n",
       "               14th     0.0179123  0.000237667  0.0187752  0.0273744  360   \n",
       "               15th     0.0246451  4.84144e-05  0.0240146  0.0227676  360   \n",
       "               16th     0.0192502  4.04892e-05  0.0262683   0.017289  360   \n",
       "\n",
       "                     1/beta [day] 1/gamma [day] alpha1 [-] 1/alpha2 [day]  \\\n",
       "Country        Phase                                                        \n",
       "United Kingdom 0th              4            70      0.019            252   \n",
       "               1st              8            14      0.169            225   \n",
       "               2nd             10            12      0.135           2569   \n",
       "               3rd             13             9      0.075            366   \n",
       "               4th             11            10      0.049            974   \n",
       "               5th             10            16      0.037            366   \n",
       "               6th              9            17          0           1486   \n",
       "               7th              8            20      0.001            471   \n",
       "               8th             10            14      0.001           1308   \n",
       "               9th             10            16      0.001           4601   \n",
       "               10th            10            13      0.016           6171   \n",
       "               11th            11            11      0.001            880   \n",
       "               12th             -             -          -              -   \n",
       "               13th             -             -          -              -   \n",
       "               14th            13             9      0.018           1051   \n",
       "               15th            10            10      0.025           5163   \n",
       "               16th             9            14      0.019           6174   \n",
       "\n",
       "                           RMSLE Trials       Runtime  \n",
       "Country        Phase                                   \n",
       "United Kingdom 0th       0.75443    352  0 min 10 sec  \n",
       "               1st     0.0533782    364  0 min 10 sec  \n",
       "               2nd     0.0175467    365  0 min 10 sec  \n",
       "               3rd     0.0182934    358  0 min 10 sec  \n",
       "               4th      0.145159    346  0 min 10 sec  \n",
       "               5th     0.0936079    361  0 min 10 sec  \n",
       "               6th     0.0116307    360  0 min 10 sec  \n",
       "               7th     0.0665743    327  0 min 10 sec  \n",
       "               8th     0.0242427    370  0 min 10 sec  \n",
       "               9th     0.0121932    371  0 min 10 sec  \n",
       "               10th    0.0195712    356  0 min 10 sec  \n",
       "               11th   0.00605567    371  0 min 10 sec  \n",
       "               12th            -      -             -  \n",
       "               13th            -      -             -  \n",
       "               14th   0.00435682    326  0 min 10 sec  \n",
       "               15th   0.00942554    341  0 min 10 sec  \n",
       "               16th    0.0160576    371  0 min 10 sec  "
      ]
     },
     "execution_count": 12,
     "metadata": {},
     "output_type": "execute_result"
    }
   ],
   "source": [
    "# Show summary\n",
    "analyser.summary(countries=countries_show)"
   ]
  },
  {
   "cell_type": "markdown",
   "metadata": {},
   "source": [
    "## Compare the history of parameters\n",
    "Here, compare the history of parameter values if countries."
   ]
  },
  {
   "cell_type": "code",
   "execution_count": 13,
   "metadata": {
    "collapsed": false
   },
   "outputs": [
    {
     "data": {
      "text/html": [
       "<div>\n",
       "<style scoped>\n",
       "    .dataframe tbody tr th:only-of-type {\n",
       "        vertical-align: middle;\n",
       "    }\n",
       "\n",
       "    .dataframe tbody tr th {\n",
       "        vertical-align: top;\n",
       "    }\n",
       "\n",
       "    .dataframe thead th {\n",
       "        text-align: right;\n",
       "    }\n",
       "</style>\n",
       "<table border=\"1\" class=\"dataframe\">\n",
       "  <thead>\n",
       "    <tr style=\"text-align: right;\">\n",
       "      <th></th>\n",
       "      <th>Date</th>\n",
       "      <th>Country</th>\n",
       "      <th>theta</th>\n",
       "      <th>kappa</th>\n",
       "      <th>rho</th>\n",
       "      <th>sigma</th>\n",
       "      <th>alpha1 [-]</th>\n",
       "      <th>1/alpha2 [day]</th>\n",
       "      <th>1/beta [day]</th>\n",
       "      <th>1/gamma [day]</th>\n",
       "      <th>...</th>\n",
       "      <th>Cancel_events</th>\n",
       "      <th>Gatherings_restrictions</th>\n",
       "      <th>Transport_closing</th>\n",
       "      <th>Stay_home_restrictions</th>\n",
       "      <th>Internal_movement_restrictions</th>\n",
       "      <th>International_movement_restrictions</th>\n",
       "      <th>Information_campaigns</th>\n",
       "      <th>Testing_policy</th>\n",
       "      <th>Contact_tracing</th>\n",
       "      <th>Stringency_index</th>\n",
       "    </tr>\n",
       "  </thead>\n",
       "  <tbody>\n",
       "    <tr>\n",
       "      <th>0</th>\n",
       "      <td>2020-03-21</td>\n",
       "      <td>Ukraine</td>\n",
       "      <td>0.0210001</td>\n",
       "      <td>0.000978675</td>\n",
       "      <td>0.0257128</td>\n",
       "      <td>0.00259094</td>\n",
       "      <td>0.021</td>\n",
       "      <td>255</td>\n",
       "      <td>9</td>\n",
       "      <td>96</td>\n",
       "      <td>...</td>\n",
       "      <td>2</td>\n",
       "      <td>4</td>\n",
       "      <td>2</td>\n",
       "      <td>1</td>\n",
       "      <td>2</td>\n",
       "      <td>4</td>\n",
       "      <td>2</td>\n",
       "      <td>1</td>\n",
       "      <td>1</td>\n",
       "      <td>88.89</td>\n",
       "    </tr>\n",
       "    <tr>\n",
       "      <th>1</th>\n",
       "      <td>2020-03-22</td>\n",
       "      <td>Ukraine</td>\n",
       "      <td>0.0210001</td>\n",
       "      <td>0.000978675</td>\n",
       "      <td>0.0257128</td>\n",
       "      <td>0.00259094</td>\n",
       "      <td>0.021</td>\n",
       "      <td>255</td>\n",
       "      <td>9</td>\n",
       "      <td>96</td>\n",
       "      <td>...</td>\n",
       "      <td>2</td>\n",
       "      <td>4</td>\n",
       "      <td>2</td>\n",
       "      <td>1</td>\n",
       "      <td>2</td>\n",
       "      <td>4</td>\n",
       "      <td>2</td>\n",
       "      <td>1</td>\n",
       "      <td>1</td>\n",
       "      <td>88.89</td>\n",
       "    </tr>\n",
       "    <tr>\n",
       "      <th>2</th>\n",
       "      <td>2020-03-23</td>\n",
       "      <td>Ukraine</td>\n",
       "      <td>0.0210001</td>\n",
       "      <td>0.000978675</td>\n",
       "      <td>0.0257128</td>\n",
       "      <td>0.00259094</td>\n",
       "      <td>0.021</td>\n",
       "      <td>255</td>\n",
       "      <td>9</td>\n",
       "      <td>96</td>\n",
       "      <td>...</td>\n",
       "      <td>2</td>\n",
       "      <td>4</td>\n",
       "      <td>2</td>\n",
       "      <td>1</td>\n",
       "      <td>2</td>\n",
       "      <td>4</td>\n",
       "      <td>2</td>\n",
       "      <td>1</td>\n",
       "      <td>1</td>\n",
       "      <td>88.89</td>\n",
       "    </tr>\n",
       "    <tr>\n",
       "      <th>3</th>\n",
       "      <td>2020-03-24</td>\n",
       "      <td>Ukraine</td>\n",
       "      <td>0.0210001</td>\n",
       "      <td>0.000978675</td>\n",
       "      <td>0.0257128</td>\n",
       "      <td>0.00259094</td>\n",
       "      <td>0.021</td>\n",
       "      <td>255</td>\n",
       "      <td>9</td>\n",
       "      <td>96</td>\n",
       "      <td>...</td>\n",
       "      <td>2</td>\n",
       "      <td>4</td>\n",
       "      <td>2</td>\n",
       "      <td>1</td>\n",
       "      <td>2</td>\n",
       "      <td>4</td>\n",
       "      <td>2</td>\n",
       "      <td>1</td>\n",
       "      <td>1</td>\n",
       "      <td>88.89</td>\n",
       "    </tr>\n",
       "    <tr>\n",
       "      <th>4</th>\n",
       "      <td>2020-03-25</td>\n",
       "      <td>Ukraine</td>\n",
       "      <td>0.0210001</td>\n",
       "      <td>0.000978675</td>\n",
       "      <td>0.0257128</td>\n",
       "      <td>0.00259094</td>\n",
       "      <td>0.021</td>\n",
       "      <td>255</td>\n",
       "      <td>9</td>\n",
       "      <td>96</td>\n",
       "      <td>...</td>\n",
       "      <td>2</td>\n",
       "      <td>4</td>\n",
       "      <td>2</td>\n",
       "      <td>1</td>\n",
       "      <td>2</td>\n",
       "      <td>4</td>\n",
       "      <td>2</td>\n",
       "      <td>1</td>\n",
       "      <td>1</td>\n",
       "      <td>88.89</td>\n",
       "    </tr>\n",
       "  </tbody>\n",
       "</table>\n",
       "<p>5 rows × 23 columns</p>\n",
       "</div>"
      ],
      "text/plain": [
       "        Date  Country      theta        kappa        rho       sigma  \\\n",
       "0 2020-03-21  Ukraine  0.0210001  0.000978675  0.0257128  0.00259094   \n",
       "1 2020-03-22  Ukraine  0.0210001  0.000978675  0.0257128  0.00259094   \n",
       "2 2020-03-23  Ukraine  0.0210001  0.000978675  0.0257128  0.00259094   \n",
       "3 2020-03-24  Ukraine  0.0210001  0.000978675  0.0257128  0.00259094   \n",
       "4 2020-03-25  Ukraine  0.0210001  0.000978675  0.0257128  0.00259094   \n",
       "\n",
       "  alpha1 [-] 1/alpha2 [day] 1/beta [day] 1/gamma [day]  ... Cancel_events  \\\n",
       "0      0.021            255            9            96  ...             2   \n",
       "1      0.021            255            9            96  ...             2   \n",
       "2      0.021            255            9            96  ...             2   \n",
       "3      0.021            255            9            96  ...             2   \n",
       "4      0.021            255            9            96  ...             2   \n",
       "\n",
       "   Gatherings_restrictions  Transport_closing  Stay_home_restrictions  \\\n",
       "0                        4                  2                       1   \n",
       "1                        4                  2                       1   \n",
       "2                        4                  2                       1   \n",
       "3                        4                  2                       1   \n",
       "4                        4                  2                       1   \n",
       "\n",
       "   Internal_movement_restrictions  International_movement_restrictions  \\\n",
       "0                               2                                    4   \n",
       "1                               2                                    4   \n",
       "2                               2                                    4   \n",
       "3                               2                                    4   \n",
       "4                               2                                    4   \n",
       "\n",
       "   Information_campaigns  Testing_policy  Contact_tracing  Stringency_index  \n",
       "0                      2               1                1             88.89  \n",
       "1                      2               1                1             88.89  \n",
       "2                      2               1                1             88.89  \n",
       "3                      2               1                1             88.89  \n",
       "4                      2               1                1             88.89  \n",
       "\n",
       "[5 rows x 23 columns]"
      ]
     },
     "execution_count": 13,
     "metadata": {},
     "output_type": "execute_result"
    }
   ],
   "source": [
    "# All parameter/day parameter/Rt/OxCGRT\n",
    "analyser.track().head()"
   ]
  },
  {
   "cell_type": "markdown",
   "metadata": {},
   "source": [
    "### $Rt$: Reprodcution number $\\mathrm{[-]}$"
   ]
  },
  {
   "cell_type": "code",
   "execution_count": 14,
   "metadata": {
    "collapsed": false
   },
   "outputs": [
    {
     "data": {
      "image/png": "[encoded data removed]",
      "text/plain": [
       "<Figure size 648x432 with 1 Axes>"
      ]
     },
     "metadata": {},
     "output_type": "display_data"
    },
    {
     "data": {
      "text/html": [
       "<div>\n",
       "<style scoped>\n",
       "    .dataframe tbody tr th:only-of-type {\n",
       "        vertical-align: middle;\n",
       "    }\n",
       "\n",
       "    .dataframe tbody tr th {\n",
       "        vertical-align: top;\n",
       "    }\n",
       "\n",
       "    .dataframe thead th {\n",
       "        text-align: right;\n",
       "    }\n",
       "</style>\n",
       "<table border=\"1\" class=\"dataframe\">\n",
       "  <thead>\n",
       "    <tr style=\"text-align: right;\">\n",
       "      <th>Country</th>\n",
       "      <th>Belgium</th>\n",
       "      <th>Canada</th>\n",
       "      <th>France</th>\n",
       "      <th>Germany</th>\n",
       "      <th>Netherlands</th>\n",
       "      <th>Norway</th>\n",
       "      <th>Portugal</th>\n",
       "      <th>Romania</th>\n",
       "      <th>Ukraine</th>\n",
       "      <th>United Kingdom</th>\n",
       "    </tr>\n",
       "    <tr>\n",
       "      <th>Date</th>\n",
       "      <th></th>\n",
       "      <th></th>\n",
       "      <th></th>\n",
       "      <th></th>\n",
       "      <th></th>\n",
       "      <th></th>\n",
       "      <th></th>\n",
       "      <th></th>\n",
       "      <th></th>\n",
       "      <th></th>\n",
       "    </tr>\n",
       "  </thead>\n",
       "  <tbody>\n",
       "    <tr>\n",
       "      <th>2020-12-14</th>\n",
       "      <td>1.17</td>\n",
       "      <td>1.31</td>\n",
       "      <td>3.72</td>\n",
       "      <td>1.37</td>\n",
       "      <td>1.69</td>\n",
       "      <td>1.07</td>\n",
       "      <td>0.93</td>\n",
       "      <td>1.92</td>\n",
       "      <td>1.05</td>\n",
       "      <td>1.49</td>\n",
       "    </tr>\n",
       "    <tr>\n",
       "      <th>2020-12-15</th>\n",
       "      <td>1.17</td>\n",
       "      <td>1.31</td>\n",
       "      <td>3.72</td>\n",
       "      <td>1.37</td>\n",
       "      <td>1.69</td>\n",
       "      <td>1.07</td>\n",
       "      <td>0.93</td>\n",
       "      <td>1.92</td>\n",
       "      <td>1.05</td>\n",
       "      <td>1.49</td>\n",
       "    </tr>\n",
       "    <tr>\n",
       "      <th>2020-12-16</th>\n",
       "      <td>1.17</td>\n",
       "      <td>1.31</td>\n",
       "      <td>3.72</td>\n",
       "      <td>1.37</td>\n",
       "      <td>1.69</td>\n",
       "      <td>1.07</td>\n",
       "      <td>0.93</td>\n",
       "      <td>1.92</td>\n",
       "      <td>1.05</td>\n",
       "      <td>1.49</td>\n",
       "    </tr>\n",
       "    <tr>\n",
       "      <th>2020-12-17</th>\n",
       "      <td>1.17</td>\n",
       "      <td>1.31</td>\n",
       "      <td>3.72</td>\n",
       "      <td>1.37</td>\n",
       "      <td>1.69</td>\n",
       "      <td>1.07</td>\n",
       "      <td>0.93</td>\n",
       "      <td>1.92</td>\n",
       "      <td>1.05</td>\n",
       "      <td>1.49</td>\n",
       "    </tr>\n",
       "    <tr>\n",
       "      <th>2020-12-18</th>\n",
       "      <td>1.17</td>\n",
       "      <td>1.31</td>\n",
       "      <td>3.72</td>\n",
       "      <td>1.37</td>\n",
       "      <td>1.69</td>\n",
       "      <td>1.07</td>\n",
       "      <td>0.93</td>\n",
       "      <td>1.92</td>\n",
       "      <td>1.05</td>\n",
       "      <td>1.49</td>\n",
       "    </tr>\n",
       "  </tbody>\n",
       "</table>\n",
       "</div>"
      ],
      "text/plain": [
       "Country     Belgium  Canada  France  Germany  Netherlands  Norway  Portugal  \\\n",
       "Date                                                                          \n",
       "2020-12-14     1.17    1.31    3.72     1.37         1.69    1.07      0.93   \n",
       "2020-12-15     1.17    1.31    3.72     1.37         1.69    1.07      0.93   \n",
       "2020-12-16     1.17    1.31    3.72     1.37         1.69    1.07      0.93   \n",
       "2020-12-17     1.17    1.31    3.72     1.37         1.69    1.07      0.93   \n",
       "2020-12-18     1.17    1.31    3.72     1.37         1.69    1.07      0.93   \n",
       "\n",
       "Country     Romania  Ukraine  United Kingdom  \n",
       "Date                                          \n",
       "2020-12-14     1.92     1.05            1.49  \n",
       "2020-12-15     1.92     1.05            1.49  \n",
       "2020-12-16     1.92     1.05            1.49  \n",
       "2020-12-17     1.92     1.05            1.49  \n",
       "2020-12-18     1.92     1.05            1.49  "
      ]
     },
     "execution_count": 14,
     "metadata": {},
     "output_type": "execute_result"
    }
   ],
   "source": [
    "analyser.history(\"Rt\", roll_window=None).tail()"
   ]
  },
  {
   "cell_type": "markdown",
   "metadata": {},
   "source": [
    "### $\\rho$: Effective contact rate $\\mathrm{[-]}$"
   ]
  },
  {
   "cell_type": "code",
   "execution_count": 15,
   "metadata": {
    "collapsed": false
   },
   "outputs": [
    {
     "data": {
      "image/png": "[encoded data removed]",
      "text/plain": [
       "<Figure size 648x432 with 1 Axes>"
      ]
     },
     "metadata": {},
     "output_type": "display_data"
    },
    {
     "data": {
      "text/html": [
       "<div>\n",
       "<style scoped>\n",
       "    .dataframe tbody tr th:only-of-type {\n",
       "        vertical-align: middle;\n",
       "    }\n",
       "\n",
       "    .dataframe tbody tr th {\n",
       "        vertical-align: top;\n",
       "    }\n",
       "\n",
       "    .dataframe thead th {\n",
       "        text-align: right;\n",
       "    }\n",
       "</style>\n",
       "<table border=\"1\" class=\"dataframe\">\n",
       "  <thead>\n",
       "    <tr style=\"text-align: right;\">\n",
       "      <th>Country</th>\n",
       "      <th>Belgium</th>\n",
       "      <th>Canada</th>\n",
       "      <th>France</th>\n",
       "      <th>Germany</th>\n",
       "      <th>Netherlands</th>\n",
       "      <th>Norway</th>\n",
       "      <th>Portugal</th>\n",
       "      <th>Romania</th>\n",
       "      <th>Ukraine</th>\n",
       "      <th>United Kingdom</th>\n",
       "    </tr>\n",
       "    <tr>\n",
       "      <th>Date</th>\n",
       "      <th></th>\n",
       "      <th></th>\n",
       "      <th></th>\n",
       "      <th></th>\n",
       "      <th></th>\n",
       "      <th></th>\n",
       "      <th></th>\n",
       "      <th></th>\n",
       "      <th></th>\n",
       "      <th></th>\n",
       "    </tr>\n",
       "  </thead>\n",
       "  <tbody>\n",
       "    <tr>\n",
       "      <th>2020-12-14</th>\n",
       "      <td>0.016897</td>\n",
       "      <td>0.021606</td>\n",
       "      <td>0.001412</td>\n",
       "      <td>0.026273</td>\n",
       "      <td>0.028931</td>\n",
       "      <td>0.020874</td>\n",
       "      <td>0.014046</td>\n",
       "      <td>0.026693</td>\n",
       "      <td>0.007682</td>\n",
       "      <td>0.026268</td>\n",
       "    </tr>\n",
       "    <tr>\n",
       "      <th>2020-12-15</th>\n",
       "      <td>0.016897</td>\n",
       "      <td>0.021606</td>\n",
       "      <td>0.001412</td>\n",
       "      <td>0.026273</td>\n",
       "      <td>0.028931</td>\n",
       "      <td>0.020874</td>\n",
       "      <td>0.014046</td>\n",
       "      <td>0.026693</td>\n",
       "      <td>0.007682</td>\n",
       "      <td>0.026268</td>\n",
       "    </tr>\n",
       "    <tr>\n",
       "      <th>2020-12-16</th>\n",
       "      <td>0.016897</td>\n",
       "      <td>0.021606</td>\n",
       "      <td>0.001412</td>\n",
       "      <td>0.026273</td>\n",
       "      <td>0.028931</td>\n",
       "      <td>0.020874</td>\n",
       "      <td>0.014046</td>\n",
       "      <td>0.026693</td>\n",
       "      <td>0.007682</td>\n",
       "      <td>0.026268</td>\n",
       "    </tr>\n",
       "    <tr>\n",
       "      <th>2020-12-17</th>\n",
       "      <td>0.016897</td>\n",
       "      <td>0.021606</td>\n",
       "      <td>0.001412</td>\n",
       "      <td>0.026273</td>\n",
       "      <td>0.028931</td>\n",
       "      <td>0.020874</td>\n",
       "      <td>0.014046</td>\n",
       "      <td>0.026693</td>\n",
       "      <td>0.007682</td>\n",
       "      <td>0.026268</td>\n",
       "    </tr>\n",
       "    <tr>\n",
       "      <th>2020-12-18</th>\n",
       "      <td>0.016897</td>\n",
       "      <td>0.021606</td>\n",
       "      <td>0.001412</td>\n",
       "      <td>0.026273</td>\n",
       "      <td>0.028931</td>\n",
       "      <td>0.020874</td>\n",
       "      <td>0.014046</td>\n",
       "      <td>0.026693</td>\n",
       "      <td>0.007682</td>\n",
       "      <td>0.026268</td>\n",
       "    </tr>\n",
       "  </tbody>\n",
       "</table>\n",
       "</div>"
      ],
      "text/plain": [
       "Country      Belgium    Canada    France   Germany  Netherlands    Norway  \\\n",
       "Date                                                                        \n",
       "2020-12-14  0.016897  0.021606  0.001412  0.026273     0.028931  0.020874   \n",
       "2020-12-15  0.016897  0.021606  0.001412  0.026273     0.028931  0.020874   \n",
       "2020-12-16  0.016897  0.021606  0.001412  0.026273     0.028931  0.020874   \n",
       "2020-12-17  0.016897  0.021606  0.001412  0.026273     0.028931  0.020874   \n",
       "2020-12-18  0.016897  0.021606  0.001412  0.026273     0.028931  0.020874   \n",
       "\n",
       "Country     Portugal   Romania   Ukraine  United Kingdom  \n",
       "Date                                                      \n",
       "2020-12-14  0.014046  0.026693  0.007682        0.026268  \n",
       "2020-12-15  0.014046  0.026693  0.007682        0.026268  \n",
       "2020-12-16  0.014046  0.026693  0.007682        0.026268  \n",
       "2020-12-17  0.014046  0.026693  0.007682        0.026268  \n",
       "2020-12-18  0.014046  0.026693  0.007682        0.026268  "
      ]
     },
     "execution_count": 15,
     "metadata": {},
     "output_type": "execute_result"
    }
   ],
   "source": [
    "analyser.history(\"rho\", roll_window=None).tail()"
   ]
  },
  {
   "cell_type": "markdown",
   "metadata": {},
   "source": [
    "### $\\sigma$: Recovery rate $\\mathrm{[-]}$"
   ]
  },
  {
   "cell_type": "code",
   "execution_count": 16,
   "metadata": {
    "collapsed": false
   },
   "outputs": [
    {
     "data": {
      "image/png": "[encoded data removed]",
      "text/plain": [
       "<Figure size 648x432 with 1 Axes>"
      ]
     },
     "metadata": {},
     "output_type": "display_data"
    },
    {
     "data": {
      "text/html": [
       "<div>\n",
       "<style scoped>\n",
       "    .dataframe tbody tr th:only-of-type {\n",
       "        vertical-align: middle;\n",
       "    }\n",
       "\n",
       "    .dataframe tbody tr th {\n",
       "        vertical-align: top;\n",
       "    }\n",
       "\n",
       "    .dataframe thead th {\n",
       "        text-align: right;\n",
       "    }\n",
       "</style>\n",
       "<table border=\"1\" class=\"dataframe\">\n",
       "  <thead>\n",
       "    <tr style=\"text-align: right;\">\n",
       "      <th>Country</th>\n",
       "      <th>Belgium</th>\n",
       "      <th>Canada</th>\n",
       "      <th>France</th>\n",
       "      <th>Germany</th>\n",
       "      <th>Netherlands</th>\n",
       "      <th>Norway</th>\n",
       "      <th>Portugal</th>\n",
       "      <th>Romania</th>\n",
       "      <th>Ukraine</th>\n",
       "      <th>United Kingdom</th>\n",
       "    </tr>\n",
       "    <tr>\n",
       "      <th>Date</th>\n",
       "      <th></th>\n",
       "      <th></th>\n",
       "      <th></th>\n",
       "      <th></th>\n",
       "      <th></th>\n",
       "      <th></th>\n",
       "      <th></th>\n",
       "      <th></th>\n",
       "      <th></th>\n",
       "      <th></th>\n",
       "    </tr>\n",
       "  </thead>\n",
       "  <tbody>\n",
       "    <tr>\n",
       "      <th>2020-12-14</th>\n",
       "      <td>0.013373</td>\n",
       "      <td>0.016117</td>\n",
       "      <td>0.000152</td>\n",
       "      <td>0.019141</td>\n",
       "      <td>0.017052</td>\n",
       "      <td>0.01935</td>\n",
       "      <td>0.014976</td>\n",
       "      <td>0.013591</td>\n",
       "      <td>0.007153</td>\n",
       "      <td>0.017289</td>\n",
       "    </tr>\n",
       "    <tr>\n",
       "      <th>2020-12-15</th>\n",
       "      <td>0.013373</td>\n",
       "      <td>0.016117</td>\n",
       "      <td>0.000152</td>\n",
       "      <td>0.019141</td>\n",
       "      <td>0.017052</td>\n",
       "      <td>0.01935</td>\n",
       "      <td>0.014976</td>\n",
       "      <td>0.013591</td>\n",
       "      <td>0.007153</td>\n",
       "      <td>0.017289</td>\n",
       "    </tr>\n",
       "    <tr>\n",
       "      <th>2020-12-16</th>\n",
       "      <td>0.013373</td>\n",
       "      <td>0.016117</td>\n",
       "      <td>0.000152</td>\n",
       "      <td>0.019141</td>\n",
       "      <td>0.017052</td>\n",
       "      <td>0.01935</td>\n",
       "      <td>0.014976</td>\n",
       "      <td>0.013591</td>\n",
       "      <td>0.007153</td>\n",
       "      <td>0.017289</td>\n",
       "    </tr>\n",
       "    <tr>\n",
       "      <th>2020-12-17</th>\n",
       "      <td>0.013373</td>\n",
       "      <td>0.016117</td>\n",
       "      <td>0.000152</td>\n",
       "      <td>0.019141</td>\n",
       "      <td>0.017052</td>\n",
       "      <td>0.01935</td>\n",
       "      <td>0.014976</td>\n",
       "      <td>0.013591</td>\n",
       "      <td>0.007153</td>\n",
       "      <td>0.017289</td>\n",
       "    </tr>\n",
       "    <tr>\n",
       "      <th>2020-12-18</th>\n",
       "      <td>0.013373</td>\n",
       "      <td>0.016117</td>\n",
       "      <td>0.000152</td>\n",
       "      <td>0.019141</td>\n",
       "      <td>0.017052</td>\n",
       "      <td>0.01935</td>\n",
       "      <td>0.014976</td>\n",
       "      <td>0.013591</td>\n",
       "      <td>0.007153</td>\n",
       "      <td>0.017289</td>\n",
       "    </tr>\n",
       "  </tbody>\n",
       "</table>\n",
       "</div>"
      ],
      "text/plain": [
       "Country      Belgium    Canada    France   Germany  Netherlands   Norway  \\\n",
       "Date                                                                       \n",
       "2020-12-14  0.013373  0.016117  0.000152  0.019141     0.017052  0.01935   \n",
       "2020-12-15  0.013373  0.016117  0.000152  0.019141     0.017052  0.01935   \n",
       "2020-12-16  0.013373  0.016117  0.000152  0.019141     0.017052  0.01935   \n",
       "2020-12-17  0.013373  0.016117  0.000152  0.019141     0.017052  0.01935   \n",
       "2020-12-18  0.013373  0.016117  0.000152  0.019141     0.017052  0.01935   \n",
       "\n",
       "Country     Portugal   Romania   Ukraine  United Kingdom  \n",
       "Date                                                      \n",
       "2020-12-14  0.014976  0.013591  0.007153        0.017289  \n",
       "2020-12-15  0.014976  0.013591  0.007153        0.017289  \n",
       "2020-12-16  0.014976  0.013591  0.007153        0.017289  \n",
       "2020-12-17  0.014976  0.013591  0.007153        0.017289  \n",
       "2020-12-18  0.014976  0.013591  0.007153        0.017289  "
      ]
     },
     "execution_count": 16,
     "metadata": {},
     "output_type": "execute_result"
    }
   ],
   "source": [
    "analyser.history(\"sigma\", roll_window=None).tail()"
   ]
  },
  {
   "cell_type": "markdown",
   "metadata": {},
   "source": [
    "### $\\kappa$: Mortality rate of infected cases $\\mathrm{[-]}$"
   ]
  },
  {
   "cell_type": "code",
   "execution_count": 17,
   "metadata": {
    "collapsed": false
   },
   "outputs": [
    {
     "data": {
      "image/png": "[encoded data removed]",
      "text/plain": [
       "<Figure size 648x432 with 1 Axes>"
      ]
     },
     "metadata": {},
     "output_type": "display_data"
    },
    {
     "data": {
      "text/html": [
       "<div>\n",
       "<style scoped>\n",
       "    .dataframe tbody tr th:only-of-type {\n",
       "        vertical-align: middle;\n",
       "    }\n",
       "\n",
       "    .dataframe tbody tr th {\n",
       "        vertical-align: top;\n",
       "    }\n",
       "\n",
       "    .dataframe thead th {\n",
       "        text-align: right;\n",
       "    }\n",
       "</style>\n",
       "<table border=\"1\" class=\"dataframe\">\n",
       "  <thead>\n",
       "    <tr style=\"text-align: right;\">\n",
       "      <th>Country</th>\n",
       "      <th>Belgium</th>\n",
       "      <th>Canada</th>\n",
       "      <th>France</th>\n",
       "      <th>Germany</th>\n",
       "      <th>Netherlands</th>\n",
       "      <th>Norway</th>\n",
       "      <th>Portugal</th>\n",
       "      <th>Romania</th>\n",
       "      <th>Ukraine</th>\n",
       "      <th>United Kingdom</th>\n",
       "    </tr>\n",
       "    <tr>\n",
       "      <th>Date</th>\n",
       "      <th></th>\n",
       "      <th></th>\n",
       "      <th></th>\n",
       "      <th></th>\n",
       "      <th></th>\n",
       "      <th></th>\n",
       "      <th></th>\n",
       "      <th></th>\n",
       "      <th></th>\n",
       "      <th></th>\n",
       "    </tr>\n",
       "  </thead>\n",
       "  <tbody>\n",
       "    <tr>\n",
       "      <th>2020-12-14</th>\n",
       "      <td>0.000981</td>\n",
       "      <td>0.00007</td>\n",
       "      <td>0.000002</td>\n",
       "      <td>0.000059</td>\n",
       "      <td>0.000079</td>\n",
       "      <td>0.000229</td>\n",
       "      <td>0.000162</td>\n",
       "      <td>0.000301</td>\n",
       "      <td>0.000168</td>\n",
       "      <td>0.00004</td>\n",
       "    </tr>\n",
       "    <tr>\n",
       "      <th>2020-12-15</th>\n",
       "      <td>0.000981</td>\n",
       "      <td>0.00007</td>\n",
       "      <td>0.000002</td>\n",
       "      <td>0.000059</td>\n",
       "      <td>0.000079</td>\n",
       "      <td>0.000229</td>\n",
       "      <td>0.000162</td>\n",
       "      <td>0.000301</td>\n",
       "      <td>0.000168</td>\n",
       "      <td>0.00004</td>\n",
       "    </tr>\n",
       "    <tr>\n",
       "      <th>2020-12-16</th>\n",
       "      <td>0.000981</td>\n",
       "      <td>0.00007</td>\n",
       "      <td>0.000002</td>\n",
       "      <td>0.000059</td>\n",
       "      <td>0.000079</td>\n",
       "      <td>0.000229</td>\n",
       "      <td>0.000162</td>\n",
       "      <td>0.000301</td>\n",
       "      <td>0.000168</td>\n",
       "      <td>0.00004</td>\n",
       "    </tr>\n",
       "    <tr>\n",
       "      <th>2020-12-17</th>\n",
       "      <td>0.000981</td>\n",
       "      <td>0.00007</td>\n",
       "      <td>0.000002</td>\n",
       "      <td>0.000059</td>\n",
       "      <td>0.000079</td>\n",
       "      <td>0.000229</td>\n",
       "      <td>0.000162</td>\n",
       "      <td>0.000301</td>\n",
       "      <td>0.000168</td>\n",
       "      <td>0.00004</td>\n",
       "    </tr>\n",
       "    <tr>\n",
       "      <th>2020-12-18</th>\n",
       "      <td>0.000981</td>\n",
       "      <td>0.00007</td>\n",
       "      <td>0.000002</td>\n",
       "      <td>0.000059</td>\n",
       "      <td>0.000079</td>\n",
       "      <td>0.000229</td>\n",
       "      <td>0.000162</td>\n",
       "      <td>0.000301</td>\n",
       "      <td>0.000168</td>\n",
       "      <td>0.00004</td>\n",
       "    </tr>\n",
       "  </tbody>\n",
       "</table>\n",
       "</div>"
      ],
      "text/plain": [
       "Country      Belgium   Canada    France   Germany  Netherlands    Norway  \\\n",
       "Date                                                                       \n",
       "2020-12-14  0.000981  0.00007  0.000002  0.000059     0.000079  0.000229   \n",
       "2020-12-15  0.000981  0.00007  0.000002  0.000059     0.000079  0.000229   \n",
       "2020-12-16  0.000981  0.00007  0.000002  0.000059     0.000079  0.000229   \n",
       "2020-12-17  0.000981  0.00007  0.000002  0.000059     0.000079  0.000229   \n",
       "2020-12-18  0.000981  0.00007  0.000002  0.000059     0.000079  0.000229   \n",
       "\n",
       "Country     Portugal   Romania   Ukraine  United Kingdom  \n",
       "Date                                                      \n",
       "2020-12-14  0.000162  0.000301  0.000168         0.00004  \n",
       "2020-12-15  0.000162  0.000301  0.000168         0.00004  \n",
       "2020-12-16  0.000162  0.000301  0.000168         0.00004  \n",
       "2020-12-17  0.000162  0.000301  0.000168         0.00004  \n",
       "2020-12-18  0.000162  0.000301  0.000168         0.00004  "
      ]
     },
     "execution_count": 17,
     "metadata": {},
     "output_type": "execute_result"
    }
   ],
   "source": [
    "analyser.history(\"kappa\", roll_window=None).tail()"
   ]
  },
  {
   "cell_type": "markdown",
   "metadata": {},
   "source": [
    "### $\\theta$: Mortality rate of S$^\\ast$ cases $\\mathrm{[-]}$"
   ]
  },
  {
   "cell_type": "code",
   "execution_count": 18,
   "metadata": {
    "collapsed": false
   },
   "outputs": [
    {
     "data": {
      "image/png": "[encoded data removed]",
      "text/plain": [
       "<Figure size 648x432 with 1 Axes>"
      ]
     },
     "metadata": {},
     "output_type": "display_data"
    },
    {
     "data": {
      "text/html": [
       "<div>\n",
       "<style scoped>\n",
       "    .dataframe tbody tr th:only-of-type {\n",
       "        vertical-align: middle;\n",
       "    }\n",
       "\n",
       "    .dataframe tbody tr th {\n",
       "        vertical-align: top;\n",
       "    }\n",
       "\n",
       "    .dataframe thead th {\n",
       "        text-align: right;\n",
       "    }\n",
       "</style>\n",
       "<table border=\"1\" class=\"dataframe\">\n",
       "  <thead>\n",
       "    <tr style=\"text-align: right;\">\n",
       "      <th>Country</th>\n",
       "      <th>Belgium</th>\n",
       "      <th>Canada</th>\n",
       "      <th>France</th>\n",
       "      <th>Germany</th>\n",
       "      <th>Netherlands</th>\n",
       "      <th>Norway</th>\n",
       "      <th>Portugal</th>\n",
       "      <th>Romania</th>\n",
       "      <th>Ukraine</th>\n",
       "      <th>United Kingdom</th>\n",
       "    </tr>\n",
       "    <tr>\n",
       "      <th>Date</th>\n",
       "      <th></th>\n",
       "      <th></th>\n",
       "      <th></th>\n",
       "      <th></th>\n",
       "      <th></th>\n",
       "      <th></th>\n",
       "      <th></th>\n",
       "      <th></th>\n",
       "      <th></th>\n",
       "      <th></th>\n",
       "    </tr>\n",
       "  </thead>\n",
       "  <tbody>\n",
       "    <tr>\n",
       "      <th>2020-12-14</th>\n",
       "      <td>0.002188</td>\n",
       "      <td>0.018035</td>\n",
       "      <td>0.595738</td>\n",
       "      <td>0.002182</td>\n",
       "      <td>0.001598</td>\n",
       "      <td>0.00012</td>\n",
       "      <td>0.001122</td>\n",
       "      <td>0.003156</td>\n",
       "      <td>0.000132</td>\n",
       "      <td>0.01925</td>\n",
       "    </tr>\n",
       "    <tr>\n",
       "      <th>2020-12-15</th>\n",
       "      <td>0.002188</td>\n",
       "      <td>0.018035</td>\n",
       "      <td>0.595738</td>\n",
       "      <td>0.002182</td>\n",
       "      <td>0.001598</td>\n",
       "      <td>0.00012</td>\n",
       "      <td>0.001122</td>\n",
       "      <td>0.003156</td>\n",
       "      <td>0.000132</td>\n",
       "      <td>0.01925</td>\n",
       "    </tr>\n",
       "    <tr>\n",
       "      <th>2020-12-16</th>\n",
       "      <td>0.002188</td>\n",
       "      <td>0.018035</td>\n",
       "      <td>0.595738</td>\n",
       "      <td>0.002182</td>\n",
       "      <td>0.001598</td>\n",
       "      <td>0.00012</td>\n",
       "      <td>0.001122</td>\n",
       "      <td>0.003156</td>\n",
       "      <td>0.000132</td>\n",
       "      <td>0.01925</td>\n",
       "    </tr>\n",
       "    <tr>\n",
       "      <th>2020-12-17</th>\n",
       "      <td>0.002188</td>\n",
       "      <td>0.018035</td>\n",
       "      <td>0.595738</td>\n",
       "      <td>0.002182</td>\n",
       "      <td>0.001598</td>\n",
       "      <td>0.00012</td>\n",
       "      <td>0.001122</td>\n",
       "      <td>0.003156</td>\n",
       "      <td>0.000132</td>\n",
       "      <td>0.01925</td>\n",
       "    </tr>\n",
       "    <tr>\n",
       "      <th>2020-12-18</th>\n",
       "      <td>0.002188</td>\n",
       "      <td>0.018035</td>\n",
       "      <td>0.595738</td>\n",
       "      <td>0.002182</td>\n",
       "      <td>0.001598</td>\n",
       "      <td>0.00012</td>\n",
       "      <td>0.001122</td>\n",
       "      <td>0.003156</td>\n",
       "      <td>0.000132</td>\n",
       "      <td>0.01925</td>\n",
       "    </tr>\n",
       "  </tbody>\n",
       "</table>\n",
       "</div>"
      ],
      "text/plain": [
       "Country      Belgium    Canada    France   Germany  Netherlands   Norway  \\\n",
       "Date                                                                       \n",
       "2020-12-14  0.002188  0.018035  0.595738  0.002182     0.001598  0.00012   \n",
       "2020-12-15  0.002188  0.018035  0.595738  0.002182     0.001598  0.00012   \n",
       "2020-12-16  0.002188  0.018035  0.595738  0.002182     0.001598  0.00012   \n",
       "2020-12-17  0.002188  0.018035  0.595738  0.002182     0.001598  0.00012   \n",
       "2020-12-18  0.002188  0.018035  0.595738  0.002182     0.001598  0.00012   \n",
       "\n",
       "Country     Portugal   Romania   Ukraine  United Kingdom  \n",
       "Date                                                      \n",
       "2020-12-14  0.001122  0.003156  0.000132         0.01925  \n",
       "2020-12-15  0.001122  0.003156  0.000132         0.01925  \n",
       "2020-12-16  0.001122  0.003156  0.000132         0.01925  \n",
       "2020-12-17  0.001122  0.003156  0.000132         0.01925  \n",
       "2020-12-18  0.001122  0.003156  0.000132         0.01925  "
      ]
     },
     "execution_count": 18,
     "metadata": {},
     "output_type": "execute_result"
    }
   ],
   "source": [
    "analyser.history(\"theta\", roll_window=None).tail()"
   ]
  },
  {
   "cell_type": "markdown",
   "metadata": {},
   "source": [
    "## (Experimental): Relationship of OxCGRT index and parameter values\n",
    "Government responses will impact on parameter values of ODE models about 14 days later. Here, we will investigate on the relationship of [stringency index (from OxCGRT)](https://github.com/OxCGRT/covid-policy-tracker/blob/master/documentation/index_methodology.md) and reproduction number/model parameters.\n"
   ]
  },
  {
   "cell_type": "code",
   "execution_count": 19,
   "metadata": {
    "collapsed": false
   },
   "outputs": [],
   "source": [
    "%matplotlib inline\n",
    "from matplotlib import pyplot as plt\n",
    "import seaborn as sns\n",
    "import pandas as pd"
   ]
  },
  {
   "cell_type": "code",
   "execution_count": 20,
   "metadata": {
    "collapsed": false
   },
   "outputs": [
    {
     "name": "stdout",
     "output_type": "stream",
     "text": [
      "<class 'pandas.core.frame.DataFrame'>\n",
      "Int64Index: 32680 entries, 0 to 32805\n",
      "Data columns (total 19 columns):\n",
      " #   Column                               Non-Null Count  Dtype         \n",
      "---  ------                               --------------  -----         \n",
      " 0   Date                                 32680 non-null  datetime64[ns]\n",
      " 1   Country                              32680 non-null  object        \n",
      " 2   Rt                                   32680 non-null  float64       \n",
      " 3   theta                                32680 non-null  float64       \n",
      " 4   kappa                                32680 non-null  float64       \n",
      " 5   rho                                  32680 non-null  float64       \n",
      " 6   sigma                                32680 non-null  float64       \n",
      " 7   School_closing                       32680 non-null  int64         \n",
      " 8   Workplace_closing                    32680 non-null  int64         \n",
      " 9   Cancel_events                        32680 non-null  int64         \n",
      " 10  Gatherings_restrictions              32680 non-null  int64         \n",
      " 11  Transport_closing                    32680 non-null  int64         \n",
      " 12  Stay_home_restrictions               32680 non-null  int64         \n",
      " 13  Internal_movement_restrictions       32680 non-null  int64         \n",
      " 14  International_movement_restrictions  32680 non-null  int64         \n",
      " 15  Information_campaigns                32680 non-null  int64         \n",
      " 16  Testing_policy                       32680 non-null  int64         \n",
      " 17  Contact_tracing                      32680 non-null  int64         \n",
      " 18  Stringency_index                     32680 non-null  float64       \n",
      "dtypes: datetime64[ns](1), float64(6), int64(11), object(1)\n",
      "memory usage: 5.0+ MB\n"
     ]
    }
   ],
   "source": [
    "df = analyser.track()\n",
    "param_cols = [\"Rt\", *cs.SIRF.PARAMETERS]\n",
    "oxcgrt_cols = oxcgrt_data.OXCGRT_VARS[:]\n",
    "cols = param_cols + oxcgrt_cols\n",
    "delay = 14\n",
    "\n",
    "for col in param_cols:\n",
    "    df[col] = pd.to_numeric(df[col], errors=\"coerce\")\n",
    "    df[col] = df.groupby(\"Country\")[col].shift(0 - delay)\n",
    "\n",
    "df = df.dropna(how=\"any\")\n",
    "df = df.loc[:, [\"Date\", \"Country\", *cols]]\n",
    "track_df = df.copy()\n",
    "track_df.info()"
   ]
  },
  {
   "cell_type": "code",
   "execution_count": 21,
   "metadata": {
    "collapsed": false
   },
   "outputs": [
    {
     "data": {
      "text/html": [
       "<style  type=\"text/css\" >\n",
       "#T_33254182_411f_11eb_84b7_5254009967d6row0_col0,#T_33254182_411f_11eb_84b7_5254009967d6row1_col1,#T_33254182_411f_11eb_84b7_5254009967d6row2_col2,#T_33254182_411f_11eb_84b7_5254009967d6row3_col3,#T_33254182_411f_11eb_84b7_5254009967d6row4_col4,#T_33254182_411f_11eb_84b7_5254009967d6row5_col5,#T_33254182_411f_11eb_84b7_5254009967d6row6_col6,#T_33254182_411f_11eb_84b7_5254009967d6row7_col7,#T_33254182_411f_11eb_84b7_5254009967d6row8_col8,#T_33254182_411f_11eb_84b7_5254009967d6row9_col9,#T_33254182_411f_11eb_84b7_5254009967d6row10_col10,#T_33254182_411f_11eb_84b7_5254009967d6row11_col11,#T_33254182_411f_11eb_84b7_5254009967d6row12_col12,#T_33254182_411f_11eb_84b7_5254009967d6row13_col13,#T_33254182_411f_11eb_84b7_5254009967d6row14_col14,#T_33254182_411f_11eb_84b7_5254009967d6row15_col15,#T_33254182_411f_11eb_84b7_5254009967d6row16_col16{\n",
       "            background-color:  #023858;\n",
       "            color:  #f1f1f1;\n",
       "        }#T_33254182_411f_11eb_84b7_5254009967d6row0_col1,#T_33254182_411f_11eb_84b7_5254009967d6row1_col0{\n",
       "            background-color:  #d2d2e7;\n",
       "            color:  #000000;\n",
       "        }#T_33254182_411f_11eb_84b7_5254009967d6row0_col2,#T_33254182_411f_11eb_84b7_5254009967d6row0_col15,#T_33254182_411f_11eb_84b7_5254009967d6row2_col0,#T_33254182_411f_11eb_84b7_5254009967d6row9_col15,#T_33254182_411f_11eb_84b7_5254009967d6row15_col0,#T_33254182_411f_11eb_84b7_5254009967d6row15_col9{\n",
       "            background-color:  #b1c2de;\n",
       "            color:  #000000;\n",
       "        }#T_33254182_411f_11eb_84b7_5254009967d6row0_col3,#T_33254182_411f_11eb_84b7_5254009967d6row3_col0,#T_33254182_411f_11eb_84b7_5254009967d6row5_col7,#T_33254182_411f_11eb_84b7_5254009967d6row7_col5,#T_33254182_411f_11eb_84b7_5254009967d6row7_col12,#T_33254182_411f_11eb_84b7_5254009967d6row12_col7{\n",
       "            background-color:  #8fb4d6;\n",
       "            color:  #000000;\n",
       "        }#T_33254182_411f_11eb_84b7_5254009967d6row0_col4,#T_33254182_411f_11eb_84b7_5254009967d6row4_col0{\n",
       "            background-color:  #fdf5fa;\n",
       "            color:  #000000;\n",
       "        }#T_33254182_411f_11eb_84b7_5254009967d6row0_col5,#T_33254182_411f_11eb_84b7_5254009967d6row5_col0{\n",
       "            background-color:  #d1d2e6;\n",
       "            color:  #000000;\n",
       "        }#T_33254182_411f_11eb_84b7_5254009967d6row0_col6,#T_33254182_411f_11eb_84b7_5254009967d6row0_col7,#T_33254182_411f_11eb_84b7_5254009967d6row6_col0,#T_33254182_411f_11eb_84b7_5254009967d6row7_col0{\n",
       "            background-color:  #d9d8ea;\n",
       "            color:  #000000;\n",
       "        }#T_33254182_411f_11eb_84b7_5254009967d6row0_col8,#T_33254182_411f_11eb_84b7_5254009967d6row8_col0{\n",
       "            background-color:  #d0d1e6;\n",
       "            color:  #000000;\n",
       "        }#T_33254182_411f_11eb_84b7_5254009967d6row0_col9,#T_33254182_411f_11eb_84b7_5254009967d6row9_col0{\n",
       "            background-color:  #afc1dd;\n",
       "            color:  #000000;\n",
       "        }#T_33254182_411f_11eb_84b7_5254009967d6row0_col10,#T_33254182_411f_11eb_84b7_5254009967d6row10_col0{\n",
       "            background-color:  #adc1dd;\n",
       "            color:  #000000;\n",
       "        }#T_33254182_411f_11eb_84b7_5254009967d6row0_col11,#T_33254182_411f_11eb_84b7_5254009967d6row11_col0{\n",
       "            background-color:  #a5bddb;\n",
       "            color:  #000000;\n",
       "        }#T_33254182_411f_11eb_84b7_5254009967d6row0_col12,#T_33254182_411f_11eb_84b7_5254009967d6row2_col10,#T_33254182_411f_11eb_84b7_5254009967d6row6_col15,#T_33254182_411f_11eb_84b7_5254009967d6row10_col2,#T_33254182_411f_11eb_84b7_5254009967d6row10_col15,#T_33254182_411f_11eb_84b7_5254009967d6row12_col0,#T_33254182_411f_11eb_84b7_5254009967d6row15_col6,#T_33254182_411f_11eb_84b7_5254009967d6row15_col10{\n",
       "            background-color:  #bfc9e1;\n",
       "            color:  #000000;\n",
       "        }#T_33254182_411f_11eb_84b7_5254009967d6row0_col13,#T_33254182_411f_11eb_84b7_5254009967d6row13_col0{\n",
       "            background-color:  #c8cde4;\n",
       "            color:  #000000;\n",
       "        }#T_33254182_411f_11eb_84b7_5254009967d6row0_col14,#T_33254182_411f_11eb_84b7_5254009967d6row14_col0{\n",
       "            background-color:  #c1cae2;\n",
       "            color:  #000000;\n",
       "        }#T_33254182_411f_11eb_84b7_5254009967d6row0_col16,#T_33254182_411f_11eb_84b7_5254009967d6row3_col7,#T_33254182_411f_11eb_84b7_5254009967d6row7_col3,#T_33254182_411f_11eb_84b7_5254009967d6row16_col0{\n",
       "            background-color:  #d6d6e9;\n",
       "            color:  #000000;\n",
       "        }#T_33254182_411f_11eb_84b7_5254009967d6row1_col2,#T_33254182_411f_11eb_84b7_5254009967d6row2_col1{\n",
       "            background-color:  #d2d3e7;\n",
       "            color:  #000000;\n",
       "        }#T_33254182_411f_11eb_84b7_5254009967d6row1_col3,#T_33254182_411f_11eb_84b7_5254009967d6row3_col1{\n",
       "            background-color:  #f1ebf5;\n",
       "            color:  #000000;\n",
       "        }#T_33254182_411f_11eb_84b7_5254009967d6row1_col4,#T_33254182_411f_11eb_84b7_5254009967d6row4_col1{\n",
       "            background-color:  #dedcec;\n",
       "            color:  #000000;\n",
       "        }#T_33254182_411f_11eb_84b7_5254009967d6row1_col5,#T_33254182_411f_11eb_84b7_5254009967d6row5_col1{\n",
       "            background-color:  #80aed2;\n",
       "            color:  #000000;\n",
       "        }#T_33254182_411f_11eb_84b7_5254009967d6row1_col6,#T_33254182_411f_11eb_84b7_5254009967d6row3_col4,#T_33254182_411f_11eb_84b7_5254009967d6row4_col3,#T_33254182_411f_11eb_84b7_5254009967d6row6_col1{\n",
       "            background-color:  #78abd0;\n",
       "            color:  #000000;\n",
       "        }#T_33254182_411f_11eb_84b7_5254009967d6row1_col7,#T_33254182_411f_11eb_84b7_5254009967d6row4_col8,#T_33254182_411f_11eb_84b7_5254009967d6row7_col1,#T_33254182_411f_11eb_84b7_5254009967d6row8_col4{\n",
       "            background-color:  #73a9cf;\n",
       "            color:  #000000;\n",
       "        }#T_33254182_411f_11eb_84b7_5254009967d6row1_col8,#T_33254182_411f_11eb_84b7_5254009967d6row4_col13,#T_33254182_411f_11eb_84b7_5254009967d6row8_col1,#T_33254182_411f_11eb_84b7_5254009967d6row13_col4{\n",
       "            background-color:  #84b0d3;\n",
       "            color:  #000000;\n",
       "        }#T_33254182_411f_11eb_84b7_5254009967d6row1_col9,#T_33254182_411f_11eb_84b7_5254009967d6row5_col9,#T_33254182_411f_11eb_84b7_5254009967d6row9_col1,#T_33254182_411f_11eb_84b7_5254009967d6row9_col5{\n",
       "            background-color:  #86b0d3;\n",
       "            color:  #000000;\n",
       "        }#T_33254182_411f_11eb_84b7_5254009967d6row1_col10,#T_33254182_411f_11eb_84b7_5254009967d6row10_col1{\n",
       "            background-color:  #4697c4;\n",
       "            color:  #000000;\n",
       "        }#T_33254182_411f_11eb_84b7_5254009967d6row1_col11,#T_33254182_411f_11eb_84b7_5254009967d6row11_col1{\n",
       "            background-color:  #4e9ac6;\n",
       "            color:  #000000;\n",
       "        }#T_33254182_411f_11eb_84b7_5254009967d6row1_col12,#T_33254182_411f_11eb_84b7_5254009967d6row12_col1{\n",
       "            background-color:  #9fbad9;\n",
       "            color:  #000000;\n",
       "        }#T_33254182_411f_11eb_84b7_5254009967d6row1_col13,#T_33254182_411f_11eb_84b7_5254009967d6row4_col15,#T_33254182_411f_11eb_84b7_5254009967d6row13_col1,#T_33254182_411f_11eb_84b7_5254009967d6row15_col4{\n",
       "            background-color:  #97b7d7;\n",
       "            color:  #000000;\n",
       "        }#T_33254182_411f_11eb_84b7_5254009967d6row1_col14,#T_33254182_411f_11eb_84b7_5254009967d6row14_col1{\n",
       "            background-color:  #ced0e6;\n",
       "            color:  #000000;\n",
       "        }#T_33254182_411f_11eb_84b7_5254009967d6row1_col15,#T_33254182_411f_11eb_84b7_5254009967d6row15_col1{\n",
       "            background-color:  #a7bddb;\n",
       "            color:  #000000;\n",
       "        }#T_33254182_411f_11eb_84b7_5254009967d6row1_col16,#T_33254182_411f_11eb_84b7_5254009967d6row9_col13,#T_33254182_411f_11eb_84b7_5254009967d6row13_col9,#T_33254182_411f_11eb_84b7_5254009967d6row16_col1{\n",
       "            background-color:  #6ba5cd;\n",
       "            color:  #000000;\n",
       "        }#T_33254182_411f_11eb_84b7_5254009967d6row2_col3,#T_33254182_411f_11eb_84b7_5254009967d6row3_col2,#T_33254182_411f_11eb_84b7_5254009967d6row6_col13,#T_33254182_411f_11eb_84b7_5254009967d6row11_col16,#T_33254182_411f_11eb_84b7_5254009967d6row13_col6,#T_33254182_411f_11eb_84b7_5254009967d6row16_col11{\n",
       "            background-color:  #2081b9;\n",
       "            color:  #000000;\n",
       "        }#T_33254182_411f_11eb_84b7_5254009967d6row2_col4,#T_33254182_411f_11eb_84b7_5254009967d6row4_col2{\n",
       "            background-color:  #88b1d4;\n",
       "            color:  #000000;\n",
       "        }#T_33254182_411f_11eb_84b7_5254009967d6row2_col5,#T_33254182_411f_11eb_84b7_5254009967d6row5_col2{\n",
       "            background-color:  #96b6d7;\n",
       "            color:  #000000;\n",
       "        }#T_33254182_411f_11eb_84b7_5254009967d6row2_col6,#T_33254182_411f_11eb_84b7_5254009967d6row4_col14,#T_33254182_411f_11eb_84b7_5254009967d6row6_col2,#T_33254182_411f_11eb_84b7_5254009967d6row14_col4{\n",
       "            background-color:  #99b8d8;\n",
       "            color:  #000000;\n",
       "        }#T_33254182_411f_11eb_84b7_5254009967d6row2_col7,#T_33254182_411f_11eb_84b7_5254009967d6row4_col12,#T_33254182_411f_11eb_84b7_5254009967d6row7_col2,#T_33254182_411f_11eb_84b7_5254009967d6row12_col4{\n",
       "            background-color:  #b3c3de;\n",
       "            color:  #000000;\n",
       "        }#T_33254182_411f_11eb_84b7_5254009967d6row2_col8,#T_33254182_411f_11eb_84b7_5254009967d6row8_col2{\n",
       "            background-color:  #c9cee4;\n",
       "            color:  #000000;\n",
       "        }#T_33254182_411f_11eb_84b7_5254009967d6row2_col9,#T_33254182_411f_11eb_84b7_5254009967d6row4_col10,#T_33254182_411f_11eb_84b7_5254009967d6row5_col15,#T_33254182_411f_11eb_84b7_5254009967d6row9_col2,#T_33254182_411f_11eb_84b7_5254009967d6row10_col4,#T_33254182_411f_11eb_84b7_5254009967d6row15_col5{\n",
       "            background-color:  #c6cce3;\n",
       "            color:  #000000;\n",
       "        }#T_33254182_411f_11eb_84b7_5254009967d6row2_col11,#T_33254182_411f_11eb_84b7_5254009967d6row11_col2{\n",
       "            background-color:  #c2cbe2;\n",
       "            color:  #000000;\n",
       "        }#T_33254182_411f_11eb_84b7_5254009967d6row2_col12,#T_33254182_411f_11eb_84b7_5254009967d6row12_col2{\n",
       "            background-color:  #ebe6f2;\n",
       "            color:  #000000;\n",
       "        }#T_33254182_411f_11eb_84b7_5254009967d6row2_col13,#T_33254182_411f_11eb_84b7_5254009967d6row13_col2{\n",
       "            background-color:  #9cb9d9;\n",
       "            color:  #000000;\n",
       "        }#T_33254182_411f_11eb_84b7_5254009967d6row2_col14,#T_33254182_411f_11eb_84b7_5254009967d6row14_col2{\n",
       "            background-color:  #dad9ea;\n",
       "            color:  #000000;\n",
       "        }#T_33254182_411f_11eb_84b7_5254009967d6row2_col15,#T_33254182_411f_11eb_84b7_5254009967d6row15_col2{\n",
       "            background-color:  #d3d4e7;\n",
       "            color:  #000000;\n",
       "        }#T_33254182_411f_11eb_84b7_5254009967d6row2_col16,#T_33254182_411f_11eb_84b7_5254009967d6row16_col2{\n",
       "            background-color:  #b4c4df;\n",
       "            color:  #000000;\n",
       "        }#T_33254182_411f_11eb_84b7_5254009967d6row3_col5,#T_33254182_411f_11eb_84b7_5254009967d6row5_col3{\n",
       "            background-color:  #dddbec;\n",
       "            color:  #000000;\n",
       "        }#T_33254182_411f_11eb_84b7_5254009967d6row3_col6,#T_33254182_411f_11eb_84b7_5254009967d6row6_col3{\n",
       "            background-color:  #e6e2ef;\n",
       "            color:  #000000;\n",
       "        }#T_33254182_411f_11eb_84b7_5254009967d6row3_col8,#T_33254182_411f_11eb_84b7_5254009967d6row8_col3{\n",
       "            background-color:  #faf2f8;\n",
       "            color:  #000000;\n",
       "        }#T_33254182_411f_11eb_84b7_5254009967d6row3_col9,#T_33254182_411f_11eb_84b7_5254009967d6row9_col3{\n",
       "            background-color:  #dfddec;\n",
       "            color:  #000000;\n",
       "        }#T_33254182_411f_11eb_84b7_5254009967d6row3_col10,#T_33254182_411f_11eb_84b7_5254009967d6row10_col3{\n",
       "            background-color:  #eee9f3;\n",
       "            color:  #000000;\n",
       "        }#T_33254182_411f_11eb_84b7_5254009967d6row3_col11,#T_33254182_411f_11eb_84b7_5254009967d6row11_col3{\n",
       "            background-color:  #eee8f3;\n",
       "            color:  #000000;\n",
       "        }#T_33254182_411f_11eb_84b7_5254009967d6row3_col12,#T_33254182_411f_11eb_84b7_5254009967d6row12_col3{\n",
       "            background-color:  #fff7fb;\n",
       "            color:  #000000;\n",
       "        }#T_33254182_411f_11eb_84b7_5254009967d6row3_col13,#T_33254182_411f_11eb_84b7_5254009967d6row13_col3{\n",
       "            background-color:  #e4e1ef;\n",
       "            color:  #000000;\n",
       "        }#T_33254182_411f_11eb_84b7_5254009967d6row3_col14,#T_33254182_411f_11eb_84b7_5254009967d6row14_col3{\n",
       "            background-color:  #f2ecf5;\n",
       "            color:  #000000;\n",
       "        }#T_33254182_411f_11eb_84b7_5254009967d6row3_col15,#T_33254182_411f_11eb_84b7_5254009967d6row15_col3{\n",
       "            background-color:  #e0dded;\n",
       "            color:  #000000;\n",
       "        }#T_33254182_411f_11eb_84b7_5254009967d6row3_col16,#T_33254182_411f_11eb_84b7_5254009967d6row16_col3{\n",
       "            background-color:  #f1ebf4;\n",
       "            color:  #000000;\n",
       "        }#T_33254182_411f_11eb_84b7_5254009967d6row4_col5,#T_33254182_411f_11eb_84b7_5254009967d6row5_col4,#T_33254182_411f_11eb_84b7_5254009967d6row6_col14,#T_33254182_411f_11eb_84b7_5254009967d6row14_col6{\n",
       "            background-color:  #91b5d6;\n",
       "            color:  #000000;\n",
       "        }#T_33254182_411f_11eb_84b7_5254009967d6row4_col6,#T_33254182_411f_11eb_84b7_5254009967d6row6_col4{\n",
       "            background-color:  #7eadd1;\n",
       "            color:  #000000;\n",
       "        }#T_33254182_411f_11eb_84b7_5254009967d6row4_col7,#T_33254182_411f_11eb_84b7_5254009967d6row7_col4{\n",
       "            background-color:  #69a5cc;\n",
       "            color:  #000000;\n",
       "        }#T_33254182_411f_11eb_84b7_5254009967d6row4_col9,#T_33254182_411f_11eb_84b7_5254009967d6row9_col4{\n",
       "            background-color:  #b5c4df;\n",
       "            color:  #000000;\n",
       "        }#T_33254182_411f_11eb_84b7_5254009967d6row4_col11,#T_33254182_411f_11eb_84b7_5254009967d6row11_col4{\n",
       "            background-color:  #bbc7e0;\n",
       "            color:  #000000;\n",
       "        }#T_33254182_411f_11eb_84b7_5254009967d6row4_col16,#T_33254182_411f_11eb_84b7_5254009967d6row16_col4{\n",
       "            background-color:  #8cb3d5;\n",
       "            color:  #000000;\n",
       "        }#T_33254182_411f_11eb_84b7_5254009967d6row5_col6,#T_33254182_411f_11eb_84b7_5254009967d6row6_col5{\n",
       "            background-color:  #0569a4;\n",
       "            color:  #f1f1f1;\n",
       "        }#T_33254182_411f_11eb_84b7_5254009967d6row5_col8,#T_33254182_411f_11eb_84b7_5254009967d6row8_col5{\n",
       "            background-color:  #358fc0;\n",
       "            color:  #000000;\n",
       "        }#T_33254182_411f_11eb_84b7_5254009967d6row5_col10,#T_33254182_411f_11eb_84b7_5254009967d6row10_col5{\n",
       "            background-color:  #1e80b8;\n",
       "            color:  #000000;\n",
       "        }#T_33254182_411f_11eb_84b7_5254009967d6row5_col11,#T_33254182_411f_11eb_84b7_5254009967d6row11_col5{\n",
       "            background-color:  #76aad0;\n",
       "            color:  #000000;\n",
       "        }#T_33254182_411f_11eb_84b7_5254009967d6row5_col12,#T_33254182_411f_11eb_84b7_5254009967d6row12_col5{\n",
       "            background-color:  #62a2cb;\n",
       "            color:  #000000;\n",
       "        }#T_33254182_411f_11eb_84b7_5254009967d6row5_col13,#T_33254182_411f_11eb_84b7_5254009967d6row6_col11,#T_33254182_411f_11eb_84b7_5254009967d6row11_col6,#T_33254182_411f_11eb_84b7_5254009967d6row13_col5{\n",
       "            background-color:  #4295c3;\n",
       "            color:  #000000;\n",
       "        }#T_33254182_411f_11eb_84b7_5254009967d6row5_col14,#T_33254182_411f_11eb_84b7_5254009967d6row7_col15,#T_33254182_411f_11eb_84b7_5254009967d6row14_col5,#T_33254182_411f_11eb_84b7_5254009967d6row15_col7{\n",
       "            background-color:  #a2bcda;\n",
       "            color:  #000000;\n",
       "        }#T_33254182_411f_11eb_84b7_5254009967d6row5_col16,#T_33254182_411f_11eb_84b7_5254009967d6row16_col5{\n",
       "            background-color:  #046198;\n",
       "            color:  #f1f1f1;\n",
       "        }#T_33254182_411f_11eb_84b7_5254009967d6row6_col7,#T_33254182_411f_11eb_84b7_5254009967d6row7_col6,#T_33254182_411f_11eb_84b7_5254009967d6row12_col13,#T_33254182_411f_11eb_84b7_5254009967d6row12_col16,#T_33254182_411f_11eb_84b7_5254009967d6row13_col12,#T_33254182_411f_11eb_84b7_5254009967d6row16_col12{\n",
       "            background-color:  #2786bb;\n",
       "            color:  #000000;\n",
       "        }#T_33254182_411f_11eb_84b7_5254009967d6row6_col8,#T_33254182_411f_11eb_84b7_5254009967d6row8_col6,#T_33254182_411f_11eb_84b7_5254009967d6row9_col11,#T_33254182_411f_11eb_84b7_5254009967d6row11_col9{\n",
       "            background-color:  #056ba9;\n",
       "            color:  #f1f1f1;\n",
       "        }#T_33254182_411f_11eb_84b7_5254009967d6row6_col9,#T_33254182_411f_11eb_84b7_5254009967d6row9_col6{\n",
       "            background-color:  #5a9ec9;\n",
       "            color:  #000000;\n",
       "        }#T_33254182_411f_11eb_84b7_5254009967d6row6_col10,#T_33254182_411f_11eb_84b7_5254009967d6row10_col6{\n",
       "            background-color:  #04649d;\n",
       "            color:  #f1f1f1;\n",
       "        }#T_33254182_411f_11eb_84b7_5254009967d6row6_col12,#T_33254182_411f_11eb_84b7_5254009967d6row12_col6{\n",
       "            background-color:  #4897c4;\n",
       "            color:  #000000;\n",
       "        }#T_33254182_411f_11eb_84b7_5254009967d6row6_col16,#T_33254182_411f_11eb_84b7_5254009967d6row16_col6{\n",
       "            background-color:  #045280;\n",
       "            color:  #f1f1f1;\n",
       "        }#T_33254182_411f_11eb_84b7_5254009967d6row7_col8,#T_33254182_411f_11eb_84b7_5254009967d6row8_col7{\n",
       "            background-color:  #0771b1;\n",
       "            color:  #f1f1f1;\n",
       "        }#T_33254182_411f_11eb_84b7_5254009967d6row7_col9,#T_33254182_411f_11eb_84b7_5254009967d6row9_col7{\n",
       "            background-color:  #2182b9;\n",
       "            color:  #000000;\n",
       "        }#T_33254182_411f_11eb_84b7_5254009967d6row7_col10,#T_33254182_411f_11eb_84b7_5254009967d6row10_col7{\n",
       "            background-color:  #2685bb;\n",
       "            color:  #000000;\n",
       "        }#T_33254182_411f_11eb_84b7_5254009967d6row7_col11,#T_33254182_411f_11eb_84b7_5254009967d6row11_col7,#T_33254182_411f_11eb_84b7_5254009967d6row13_col16,#T_33254182_411f_11eb_84b7_5254009967d6row16_col13{\n",
       "            background-color:  #056ba7;\n",
       "            color:  #f1f1f1;\n",
       "        }#T_33254182_411f_11eb_84b7_5254009967d6row7_col13,#T_33254182_411f_11eb_84b7_5254009967d6row8_col14,#T_33254182_411f_11eb_84b7_5254009967d6row9_col16,#T_33254182_411f_11eb_84b7_5254009967d6row10_col13,#T_33254182_411f_11eb_84b7_5254009967d6row13_col7,#T_33254182_411f_11eb_84b7_5254009967d6row13_col10,#T_33254182_411f_11eb_84b7_5254009967d6row14_col8,#T_33254182_411f_11eb_84b7_5254009967d6row16_col9{\n",
       "            background-color:  #3790c0;\n",
       "            color:  #000000;\n",
       "        }#T_33254182_411f_11eb_84b7_5254009967d6row7_col14,#T_33254182_411f_11eb_84b7_5254009967d6row14_col7,#T_33254182_411f_11eb_84b7_5254009967d6row15_col16,#T_33254182_411f_11eb_84b7_5254009967d6row16_col15{\n",
       "            background-color:  #b0c2de;\n",
       "            color:  #000000;\n",
       "        }#T_33254182_411f_11eb_84b7_5254009967d6row7_col16,#T_33254182_411f_11eb_84b7_5254009967d6row8_col10,#T_33254182_411f_11eb_84b7_5254009967d6row10_col8,#T_33254182_411f_11eb_84b7_5254009967d6row16_col7{\n",
       "            background-color:  #1379b5;\n",
       "            color:  #f1f1f1;\n",
       "        }#T_33254182_411f_11eb_84b7_5254009967d6row8_col9,#T_33254182_411f_11eb_84b7_5254009967d6row9_col8,#T_33254182_411f_11eb_84b7_5254009967d6row9_col10,#T_33254182_411f_11eb_84b7_5254009967d6row10_col9{\n",
       "            background-color:  #3b92c1;\n",
       "            color:  #000000;\n",
       "        }#T_33254182_411f_11eb_84b7_5254009967d6row8_col11,#T_33254182_411f_11eb_84b7_5254009967d6row11_col8{\n",
       "            background-color:  #056fae;\n",
       "            color:  #f1f1f1;\n",
       "        }#T_33254182_411f_11eb_84b7_5254009967d6row8_col12,#T_33254182_411f_11eb_84b7_5254009967d6row12_col8{\n",
       "            background-color:  #2383ba;\n",
       "            color:  #000000;\n",
       "        }#T_33254182_411f_11eb_84b7_5254009967d6row8_col13,#T_33254182_411f_11eb_84b7_5254009967d6row13_col8{\n",
       "            background-color:  #0570b0;\n",
       "            color:  #f1f1f1;\n",
       "        }#T_33254182_411f_11eb_84b7_5254009967d6row8_col15,#T_33254182_411f_11eb_84b7_5254009967d6row15_col8{\n",
       "            background-color:  #67a4cc;\n",
       "            color:  #000000;\n",
       "        }#T_33254182_411f_11eb_84b7_5254009967d6row8_col16,#T_33254182_411f_11eb_84b7_5254009967d6row16_col8{\n",
       "            background-color:  #045f95;\n",
       "            color:  #f1f1f1;\n",
       "        }#T_33254182_411f_11eb_84b7_5254009967d6row9_col12,#T_33254182_411f_11eb_84b7_5254009967d6row11_col14,#T_33254182_411f_11eb_84b7_5254009967d6row12_col9,#T_33254182_411f_11eb_84b7_5254009967d6row14_col11{\n",
       "            background-color:  #b8c6e0;\n",
       "            color:  #000000;\n",
       "        }#T_33254182_411f_11eb_84b7_5254009967d6row9_col14,#T_33254182_411f_11eb_84b7_5254009967d6row14_col9{\n",
       "            background-color:  #c5cce3;\n",
       "            color:  #000000;\n",
       "        }#T_33254182_411f_11eb_84b7_5254009967d6row10_col11,#T_33254182_411f_11eb_84b7_5254009967d6row11_col10,#T_33254182_411f_11eb_84b7_5254009967d6row14_col15,#T_33254182_411f_11eb_84b7_5254009967d6row15_col14{\n",
       "            background-color:  #197db7;\n",
       "            color:  #000000;\n",
       "        }#T_33254182_411f_11eb_84b7_5254009967d6row10_col12,#T_33254182_411f_11eb_84b7_5254009967d6row12_col10{\n",
       "            background-color:  #5ea0ca;\n",
       "            color:  #000000;\n",
       "        }#T_33254182_411f_11eb_84b7_5254009967d6row10_col14,#T_33254182_411f_11eb_84b7_5254009967d6row11_col12,#T_33254182_411f_11eb_84b7_5254009967d6row12_col11,#T_33254182_411f_11eb_84b7_5254009967d6row14_col10{\n",
       "            background-color:  #a4bcda;\n",
       "            color:  #000000;\n",
       "        }#T_33254182_411f_11eb_84b7_5254009967d6row10_col16,#T_33254182_411f_11eb_84b7_5254009967d6row16_col10{\n",
       "            background-color:  #046299;\n",
       "            color:  #f1f1f1;\n",
       "        }#T_33254182_411f_11eb_84b7_5254009967d6row11_col13,#T_33254182_411f_11eb_84b7_5254009967d6row13_col11{\n",
       "            background-color:  #529bc7;\n",
       "            color:  #000000;\n",
       "        }#T_33254182_411f_11eb_84b7_5254009967d6row11_col15,#T_33254182_411f_11eb_84b7_5254009967d6row15_col11{\n",
       "            background-color:  #9ab8d8;\n",
       "            color:  #000000;\n",
       "        }#T_33254182_411f_11eb_84b7_5254009967d6row12_col14,#T_33254182_411f_11eb_84b7_5254009967d6row14_col12{\n",
       "            background-color:  #157ab5;\n",
       "            color:  #000000;\n",
       "        }#T_33254182_411f_11eb_84b7_5254009967d6row12_col15,#T_33254182_411f_11eb_84b7_5254009967d6row15_col12{\n",
       "            background-color:  #3f93c2;\n",
       "            color:  #000000;\n",
       "        }#T_33254182_411f_11eb_84b7_5254009967d6row13_col14,#T_33254182_411f_11eb_84b7_5254009967d6row14_col13{\n",
       "            background-color:  #2484ba;\n",
       "            color:  #000000;\n",
       "        }#T_33254182_411f_11eb_84b7_5254009967d6row13_col15,#T_33254182_411f_11eb_84b7_5254009967d6row15_col13{\n",
       "            background-color:  #348ebf;\n",
       "            color:  #000000;\n",
       "        }#T_33254182_411f_11eb_84b7_5254009967d6row14_col16,#T_33254182_411f_11eb_84b7_5254009967d6row16_col14{\n",
       "            background-color:  #7dacd1;\n",
       "            color:  #000000;\n",
       "        }</style><table id=\"T_33254182_411f_11eb_84b7_5254009967d6\" ><thead>    <tr>        <th class=\"blank level0\" ></th>        <th class=\"col_heading level0 col0\" >Rt</th>        <th class=\"col_heading level0 col1\" >theta</th>        <th class=\"col_heading level0 col2\" >kappa</th>        <th class=\"col_heading level0 col3\" >rho</th>        <th class=\"col_heading level0 col4\" >sigma</th>        <th class=\"col_heading level0 col5\" >School_closing</th>        <th class=\"col_heading level0 col6\" >Workplace_closing</th>        <th class=\"col_heading level0 col7\" >Cancel_events</th>        <th class=\"col_heading level0 col8\" >Gatherings_restrictions</th>        <th class=\"col_heading level0 col9\" >Transport_closing</th>        <th class=\"col_heading level0 col10\" >Stay_home_restrictions</th>        <th class=\"col_heading level0 col11\" >Internal_movement_restrictions</th>        <th class=\"col_heading level0 col12\" >International_movement_restrictions</th>        <th class=\"col_heading level0 col13\" >Information_campaigns</th>        <th class=\"col_heading level0 col14\" >Testing_policy</th>        <th class=\"col_heading level0 col15\" >Contact_tracing</th>        <th class=\"col_heading level0 col16\" >Stringency_index</th>    </tr></thead><tbody>\n",
       "                <tr>\n",
       "                        <th id=\"T_33254182_411f_11eb_84b7_5254009967d6level0_row0\" class=\"row_heading level0 row0\" >Rt</th>\n",
       "                        <td id=\"T_33254182_411f_11eb_84b7_5254009967d6row0_col0\" class=\"data row0 col0\" >1.000000</td>\n",
       "                        <td id=\"T_33254182_411f_11eb_84b7_5254009967d6row0_col1\" class=\"data row0 col1\" >-0.163861</td>\n",
       "                        <td id=\"T_33254182_411f_11eb_84b7_5254009967d6row0_col2\" class=\"data row0 col2\" >-0.014167</td>\n",
       "                        <td id=\"T_33254182_411f_11eb_84b7_5254009967d6row0_col3\" class=\"data row0 col3\" >0.124588</td>\n",
       "                        <td id=\"T_33254182_411f_11eb_84b7_5254009967d6row0_col4\" class=\"data row0 col4\" >-0.516360</td>\n",
       "                        <td id=\"T_33254182_411f_11eb_84b7_5254009967d6row0_col5\" class=\"data row0 col5\" >-0.157831</td>\n",
       "                        <td id=\"T_33254182_411f_11eb_84b7_5254009967d6row0_col6\" class=\"data row0 col6\" >-0.214641</td>\n",
       "                        <td id=\"T_33254182_411f_11eb_84b7_5254009967d6row0_col7\" class=\"data row0 col7\" >-0.210844</td>\n",
       "                        <td id=\"T_33254182_411f_11eb_84b7_5254009967d6row0_col8\" class=\"data row0 col8\" >-0.155551</td>\n",
       "                        <td id=\"T_33254182_411f_11eb_84b7_5254009967d6row0_col9\" class=\"data row0 col9\" >-0.004766</td>\n",
       "                        <td id=\"T_33254182_411f_11eb_84b7_5254009967d6row0_col10\" class=\"data row0 col10\" >0.001412</td>\n",
       "                        <td id=\"T_33254182_411f_11eb_84b7_5254009967d6row0_col11\" class=\"data row0 col11\" >0.036849</td>\n",
       "                        <td id=\"T_33254182_411f_11eb_84b7_5254009967d6row0_col12\" class=\"data row0 col12\" >-0.074292</td>\n",
       "                        <td id=\"T_33254182_411f_11eb_84b7_5254009967d6row0_col13\" class=\"data row0 col13\" >-0.117563</td>\n",
       "                        <td id=\"T_33254182_411f_11eb_84b7_5254009967d6row0_col14\" class=\"data row0 col14\" >-0.089882</td>\n",
       "                        <td id=\"T_33254182_411f_11eb_84b7_5254009967d6row0_col15\" class=\"data row0 col15\" >-0.016979</td>\n",
       "                        <td id=\"T_33254182_411f_11eb_84b7_5254009967d6row0_col16\" class=\"data row0 col16\" >-0.195224</td>\n",
       "            </tr>\n",
       "            <tr>\n",
       "                        <th id=\"T_33254182_411f_11eb_84b7_5254009967d6level0_row1\" class=\"row_heading level0 row1\" >theta</th>\n",
       "                        <td id=\"T_33254182_411f_11eb_84b7_5254009967d6row1_col0\" class=\"data row1 col0\" >-0.163861</td>\n",
       "                        <td id=\"T_33254182_411f_11eb_84b7_5254009967d6row1_col1\" class=\"data row1 col1\" >1.000000</td>\n",
       "                        <td id=\"T_33254182_411f_11eb_84b7_5254009967d6row1_col2\" class=\"data row1 col2\" >-0.169492</td>\n",
       "                        <td id=\"T_33254182_411f_11eb_84b7_5254009967d6row1_col3\" class=\"data row1 col3\" >-0.401167</td>\n",
       "                        <td id=\"T_33254182_411f_11eb_84b7_5254009967d6row1_col4\" class=\"data row1 col4\" >-0.247746</td>\n",
       "                        <td id=\"T_33254182_411f_11eb_84b7_5254009967d6row1_col5\" class=\"data row1 col5\" >0.183322</td>\n",
       "                        <td id=\"T_33254182_411f_11eb_84b7_5254009967d6row1_col6\" class=\"data row1 col6\" >0.211616</td>\n",
       "                        <td id=\"T_33254182_411f_11eb_84b7_5254009967d6row1_col7\" class=\"data row1 col7\" >0.233395</td>\n",
       "                        <td id=\"T_33254182_411f_11eb_84b7_5254009967d6row1_col8\" class=\"data row1 col8\" >0.164776</td>\n",
       "                        <td id=\"T_33254182_411f_11eb_84b7_5254009967d6row1_col9\" class=\"data row1 col9\" >0.157939</td>\n",
       "                        <td id=\"T_33254182_411f_11eb_84b7_5254009967d6row1_col10\" class=\"data row1 col10\" >0.371352</td>\n",
       "                        <td id=\"T_33254182_411f_11eb_84b7_5254009967d6row1_col11\" class=\"data row1 col11\" >0.348770</td>\n",
       "                        <td id=\"T_33254182_411f_11eb_84b7_5254009967d6row1_col12\" class=\"data row1 col12\" >0.064593</td>\n",
       "                        <td id=\"T_33254182_411f_11eb_84b7_5254009967d6row1_col13\" class=\"data row1 col13\" >0.096401</td>\n",
       "                        <td id=\"T_33254182_411f_11eb_84b7_5254009967d6row1_col14\" class=\"data row1 col14\" >-0.145216</td>\n",
       "                        <td id=\"T_33254182_411f_11eb_84b7_5254009967d6row1_col15\" class=\"data row1 col15\" >0.034253</td>\n",
       "                        <td id=\"T_33254182_411f_11eb_84b7_5254009967d6row1_col16\" class=\"data row1 col16\" >0.257660</td>\n",
       "            </tr>\n",
       "            <tr>\n",
       "                        <th id=\"T_33254182_411f_11eb_84b7_5254009967d6level0_row2\" class=\"row_heading level0 row2\" >kappa</th>\n",
       "                        <td id=\"T_33254182_411f_11eb_84b7_5254009967d6row2_col0\" class=\"data row2 col0\" >-0.014167</td>\n",
       "                        <td id=\"T_33254182_411f_11eb_84b7_5254009967d6row2_col1\" class=\"data row2 col1\" >-0.169492</td>\n",
       "                        <td id=\"T_33254182_411f_11eb_84b7_5254009967d6row2_col2\" class=\"data row2 col2\" >1.000000</td>\n",
       "                        <td id=\"T_33254182_411f_11eb_84b7_5254009967d6row2_col3\" class=\"data row2 col3\" >0.507948</td>\n",
       "                        <td id=\"T_33254182_411f_11eb_84b7_5254009967d6row2_col4\" class=\"data row2 col4\" >0.154138</td>\n",
       "                        <td id=\"T_33254182_411f_11eb_84b7_5254009967d6row2_col5\" class=\"data row2 col5\" >0.102196</td>\n",
       "                        <td id=\"T_33254182_411f_11eb_84b7_5254009967d6row2_col6\" class=\"data row2 col6\" >0.087473</td>\n",
       "                        <td id=\"T_33254182_411f_11eb_84b7_5254009967d6row2_col7\" class=\"data row2 col7\" >-0.018601</td>\n",
       "                        <td id=\"T_33254182_411f_11eb_84b7_5254009967d6row2_col8\" class=\"data row2 col8\" >-0.120339</td>\n",
       "                        <td id=\"T_33254182_411f_11eb_84b7_5254009967d6row2_col9\" class=\"data row2 col9\" >-0.113565</td>\n",
       "                        <td id=\"T_33254182_411f_11eb_84b7_5254009967d6row2_col10\" class=\"data row2 col10\" >-0.073528</td>\n",
       "                        <td id=\"T_33254182_411f_11eb_84b7_5254009967d6row2_col11\" class=\"data row2 col11\" >-0.090828</td>\n",
       "                        <td id=\"T_33254182_411f_11eb_84b7_5254009967d6row2_col12\" class=\"data row2 col12\" >-0.338566</td>\n",
       "                        <td id=\"T_33254182_411f_11eb_84b7_5254009967d6row2_col13\" class=\"data row2 col13\" >0.075652</td>\n",
       "                        <td id=\"T_33254182_411f_11eb_84b7_5254009967d6row2_col14\" class=\"data row2 col14\" >-0.227524</td>\n",
       "                        <td id=\"T_33254182_411f_11eb_84b7_5254009967d6row2_col15\" class=\"data row2 col15\" >-0.179381</td>\n",
       "                        <td id=\"T_33254182_411f_11eb_84b7_5254009967d6row2_col16\" class=\"data row2 col16\" >-0.028274</td>\n",
       "            </tr>\n",
       "            <tr>\n",
       "                        <th id=\"T_33254182_411f_11eb_84b7_5254009967d6level0_row3\" class=\"row_heading level0 row3\" >rho</th>\n",
       "                        <td id=\"T_33254182_411f_11eb_84b7_5254009967d6row3_col0\" class=\"data row3 col0\" >0.124588</td>\n",
       "                        <td id=\"T_33254182_411f_11eb_84b7_5254009967d6row3_col1\" class=\"data row3 col1\" >-0.401167</td>\n",
       "                        <td id=\"T_33254182_411f_11eb_84b7_5254009967d6row3_col2\" class=\"data row3 col2\" >0.507948</td>\n",
       "                        <td id=\"T_33254182_411f_11eb_84b7_5254009967d6row3_col3\" class=\"data row3 col3\" >1.000000</td>\n",
       "                        <td id=\"T_33254182_411f_11eb_84b7_5254009967d6row3_col4\" class=\"data row3 col4\" >0.215077</td>\n",
       "                        <td id=\"T_33254182_411f_11eb_84b7_5254009967d6row3_col5\" class=\"data row3 col5\" >-0.242670</td>\n",
       "                        <td id=\"T_33254182_411f_11eb_84b7_5254009967d6row3_col6\" class=\"data row3 col6\" >-0.304619</td>\n",
       "                        <td id=\"T_33254182_411f_11eb_84b7_5254009967d6row3_col7\" class=\"data row3 col7\" >-0.197869</td>\n",
       "                        <td id=\"T_33254182_411f_11eb_84b7_5254009967d6row3_col8\" class=\"data row3 col8\" >-0.486923</td>\n",
       "                        <td id=\"T_33254182_411f_11eb_84b7_5254009967d6row3_col9\" class=\"data row3 col9\" >-0.255951</td>\n",
       "                        <td id=\"T_33254182_411f_11eb_84b7_5254009967d6row3_col10\" class=\"data row3 col10\" >-0.370365</td>\n",
       "                        <td id=\"T_33254182_411f_11eb_84b7_5254009967d6row3_col11\" class=\"data row3 col11\" >-0.364133</td>\n",
       "                        <td id=\"T_33254182_411f_11eb_84b7_5254009967d6row3_col12\" class=\"data row3 col12\" >-0.541838</td>\n",
       "                        <td id=\"T_33254182_411f_11eb_84b7_5254009967d6row3_col13\" class=\"data row3 col13\" >-0.294848</td>\n",
       "                        <td id=\"T_33254182_411f_11eb_84b7_5254009967d6row3_col14\" class=\"data row3 col14\" >-0.414453</td>\n",
       "                        <td id=\"T_33254182_411f_11eb_84b7_5254009967d6row3_col15\" class=\"data row3 col15\" >-0.263418</td>\n",
       "                        <td id=\"T_33254182_411f_11eb_84b7_5254009967d6row3_col16\" class=\"data row3 col16\" >-0.392571</td>\n",
       "            </tr>\n",
       "            <tr>\n",
       "                        <th id=\"T_33254182_411f_11eb_84b7_5254009967d6level0_row4\" class=\"row_heading level0 row4\" >sigma</th>\n",
       "                        <td id=\"T_33254182_411f_11eb_84b7_5254009967d6row4_col0\" class=\"data row4 col0\" >-0.516360</td>\n",
       "                        <td id=\"T_33254182_411f_11eb_84b7_5254009967d6row4_col1\" class=\"data row4 col1\" >-0.247746</td>\n",
       "                        <td id=\"T_33254182_411f_11eb_84b7_5254009967d6row4_col2\" class=\"data row4 col2\" >0.154138</td>\n",
       "                        <td id=\"T_33254182_411f_11eb_84b7_5254009967d6row4_col3\" class=\"data row4 col3\" >0.215077</td>\n",
       "                        <td id=\"T_33254182_411f_11eb_84b7_5254009967d6row4_col4\" class=\"data row4 col4\" >1.000000</td>\n",
       "                        <td id=\"T_33254182_411f_11eb_84b7_5254009967d6row4_col5\" class=\"data row4 col5\" >0.119599</td>\n",
       "                        <td id=\"T_33254182_411f_11eb_84b7_5254009967d6row4_col6\" class=\"data row4 col6\" >0.192257</td>\n",
       "                        <td id=\"T_33254182_411f_11eb_84b7_5254009967d6row4_col7\" class=\"data row4 col7\" >0.261716</td>\n",
       "                        <td id=\"T_33254182_411f_11eb_84b7_5254009967d6row4_col8\" class=\"data row4 col8\" >0.231987</td>\n",
       "                        <td id=\"T_33254182_411f_11eb_84b7_5254009967d6row4_col9\" class=\"data row4 col9\" >-0.030924</td>\n",
       "                        <td id=\"T_33254182_411f_11eb_84b7_5254009967d6row4_col10\" class=\"data row4 col10\" >-0.114180</td>\n",
       "                        <td id=\"T_33254182_411f_11eb_84b7_5254009967d6row4_col11\" class=\"data row4 col11\" >-0.054981</td>\n",
       "                        <td id=\"T_33254182_411f_11eb_84b7_5254009967d6row4_col12\" class=\"data row4 col12\" >-0.018191</td>\n",
       "                        <td id=\"T_33254182_411f_11eb_84b7_5254009967d6row4_col13\" class=\"data row4 col13\" >0.166667</td>\n",
       "                        <td id=\"T_33254182_411f_11eb_84b7_5254009967d6row4_col14\" class=\"data row4 col14\" >0.086053</td>\n",
       "                        <td id=\"T_33254182_411f_11eb_84b7_5254009967d6row4_col15\" class=\"data row4 col15\" >0.095041</td>\n",
       "                        <td id=\"T_33254182_411f_11eb_84b7_5254009967d6row4_col16\" class=\"data row4 col16\" >0.133401</td>\n",
       "            </tr>\n",
       "            <tr>\n",
       "                        <th id=\"T_33254182_411f_11eb_84b7_5254009967d6level0_row5\" class=\"row_heading level0 row5\" >School_closing</th>\n",
       "                        <td id=\"T_33254182_411f_11eb_84b7_5254009967d6row5_col0\" class=\"data row5 col0\" >-0.157831</td>\n",
       "                        <td id=\"T_33254182_411f_11eb_84b7_5254009967d6row5_col1\" class=\"data row5 col1\" >0.183322</td>\n",
       "                        <td id=\"T_33254182_411f_11eb_84b7_5254009967d6row5_col2\" class=\"data row5 col2\" >0.102196</td>\n",
       "                        <td id=\"T_33254182_411f_11eb_84b7_5254009967d6row5_col3\" class=\"data row5 col3\" >-0.242670</td>\n",
       "                        <td id=\"T_33254182_411f_11eb_84b7_5254009967d6row5_col4\" class=\"data row5 col4\" >0.119599</td>\n",
       "                        <td id=\"T_33254182_411f_11eb_84b7_5254009967d6row5_col5\" class=\"data row5 col5\" >1.000000</td>\n",
       "                        <td id=\"T_33254182_411f_11eb_84b7_5254009967d6row5_col6\" class=\"data row5 col6\" >0.677489</td>\n",
       "                        <td id=\"T_33254182_411f_11eb_84b7_5254009967d6row5_col7\" class=\"data row5 col7\" >0.126641</td>\n",
       "                        <td id=\"T_33254182_411f_11eb_84b7_5254009967d6row5_col8\" class=\"data row5 col8\" >0.425517</td>\n",
       "                        <td id=\"T_33254182_411f_11eb_84b7_5254009967d6row5_col9\" class=\"data row5 col9\" >0.161640</td>\n",
       "                        <td id=\"T_33254182_411f_11eb_84b7_5254009967d6row5_col10\" class=\"data row5 col10\" >0.513854</td>\n",
       "                        <td id=\"T_33254182_411f_11eb_84b7_5254009967d6row5_col11\" class=\"data row5 col11\" >0.223044</td>\n",
       "                        <td id=\"T_33254182_411f_11eb_84b7_5254009967d6row5_col12\" class=\"data row5 col12\" >0.287986</td>\n",
       "                        <td id=\"T_33254182_411f_11eb_84b7_5254009967d6row5_col13\" class=\"data row5 col13\" >0.384302</td>\n",
       "                        <td id=\"T_33254182_411f_11eb_84b7_5254009967d6row5_col14\" class=\"data row5 col14\" >0.049015</td>\n",
       "                        <td id=\"T_33254182_411f_11eb_84b7_5254009967d6row5_col15\" class=\"data row5 col15\" >-0.109277</td>\n",
       "                        <td id=\"T_33254182_411f_11eb_84b7_5254009967d6row5_col16\" class=\"data row5 col16\" >0.744104</td>\n",
       "            </tr>\n",
       "            <tr>\n",
       "                        <th id=\"T_33254182_411f_11eb_84b7_5254009967d6level0_row6\" class=\"row_heading level0 row6\" >Workplace_closing</th>\n",
       "                        <td id=\"T_33254182_411f_11eb_84b7_5254009967d6row6_col0\" class=\"data row6 col0\" >-0.214641</td>\n",
       "                        <td id=\"T_33254182_411f_11eb_84b7_5254009967d6row6_col1\" class=\"data row6 col1\" >0.211616</td>\n",
       "                        <td id=\"T_33254182_411f_11eb_84b7_5254009967d6row6_col2\" class=\"data row6 col2\" >0.087473</td>\n",
       "                        <td id=\"T_33254182_411f_11eb_84b7_5254009967d6row6_col3\" class=\"data row6 col3\" >-0.304619</td>\n",
       "                        <td id=\"T_33254182_411f_11eb_84b7_5254009967d6row6_col4\" class=\"data row6 col4\" >0.192257</td>\n",
       "                        <td id=\"T_33254182_411f_11eb_84b7_5254009967d6row6_col5\" class=\"data row6 col5\" >0.677489</td>\n",
       "                        <td id=\"T_33254182_411f_11eb_84b7_5254009967d6row6_col6\" class=\"data row6 col6\" >1.000000</td>\n",
       "                        <td id=\"T_33254182_411f_11eb_84b7_5254009967d6row6_col7\" class=\"data row6 col7\" >0.480606</td>\n",
       "                        <td id=\"T_33254182_411f_11eb_84b7_5254009967d6row6_col8\" class=\"data row6 col8\" >0.654841</td>\n",
       "                        <td id=\"T_33254182_411f_11eb_84b7_5254009967d6row6_col9\" class=\"data row6 col9\" >0.311691</td>\n",
       "                        <td id=\"T_33254182_411f_11eb_84b7_5254009967d6row6_col10\" class=\"data row6 col10\" >0.719433</td>\n",
       "                        <td id=\"T_33254182_411f_11eb_84b7_5254009967d6row6_col11\" class=\"data row6 col11\" >0.383348</td>\n",
       "                        <td id=\"T_33254182_411f_11eb_84b7_5254009967d6row6_col12\" class=\"data row6 col12\" >0.366740</td>\n",
       "                        <td id=\"T_33254182_411f_11eb_84b7_5254009967d6row6_col13\" class=\"data row6 col13\" >0.509955</td>\n",
       "                        <td id=\"T_33254182_411f_11eb_84b7_5254009967d6row6_col14\" class=\"data row6 col14\" >0.116959</td>\n",
       "                        <td id=\"T_33254182_411f_11eb_84b7_5254009967d6row6_col15\" class=\"data row6 col15\" >-0.075698</td>\n",
       "                        <td id=\"T_33254182_411f_11eb_84b7_5254009967d6row6_col16\" class=\"data row6 col16\" >0.850226</td>\n",
       "            </tr>\n",
       "            <tr>\n",
       "                        <th id=\"T_33254182_411f_11eb_84b7_5254009967d6level0_row7\" class=\"row_heading level0 row7\" >Cancel_events</th>\n",
       "                        <td id=\"T_33254182_411f_11eb_84b7_5254009967d6row7_col0\" class=\"data row7 col0\" >-0.210844</td>\n",
       "                        <td id=\"T_33254182_411f_11eb_84b7_5254009967d6row7_col1\" class=\"data row7 col1\" >0.233395</td>\n",
       "                        <td id=\"T_33254182_411f_11eb_84b7_5254009967d6row7_col2\" class=\"data row7 col2\" >-0.018601</td>\n",
       "                        <td id=\"T_33254182_411f_11eb_84b7_5254009967d6row7_col3\" class=\"data row7 col3\" >-0.197869</td>\n",
       "                        <td id=\"T_33254182_411f_11eb_84b7_5254009967d6row7_col4\" class=\"data row7 col4\" >0.261716</td>\n",
       "                        <td id=\"T_33254182_411f_11eb_84b7_5254009967d6row7_col5\" class=\"data row7 col5\" >0.126641</td>\n",
       "                        <td id=\"T_33254182_411f_11eb_84b7_5254009967d6row7_col6\" class=\"data row7 col6\" >0.480606</td>\n",
       "                        <td id=\"T_33254182_411f_11eb_84b7_5254009967d6row7_col7\" class=\"data row7 col7\" >1.000000</td>\n",
       "                        <td id=\"T_33254182_411f_11eb_84b7_5254009967d6row7_col8\" class=\"data row7 col8\" >0.607866</td>\n",
       "                        <td id=\"T_33254182_411f_11eb_84b7_5254009967d6row7_col9\" class=\"data row7 col9\" >0.503335</td>\n",
       "                        <td id=\"T_33254182_411f_11eb_84b7_5254009967d6row7_col10\" class=\"data row7 col10\" >0.482693</td>\n",
       "                        <td id=\"T_33254182_411f_11eb_84b7_5254009967d6row7_col11\" class=\"data row7 col11\" >0.661518</td>\n",
       "                        <td id=\"T_33254182_411f_11eb_84b7_5254009967d6row7_col12\" class=\"data row7 col12\" >0.125697</td>\n",
       "                        <td id=\"T_33254182_411f_11eb_84b7_5254009967d6row7_col13\" class=\"data row7 col13\" >0.416804</td>\n",
       "                        <td id=\"T_33254182_411f_11eb_84b7_5254009967d6row7_col14\" class=\"data row7 col14\" >-0.009939</td>\n",
       "                        <td id=\"T_33254182_411f_11eb_84b7_5254009967d6row7_col15\" class=\"data row7 col15\" >0.051310</td>\n",
       "                        <td id=\"T_33254182_411f_11eb_84b7_5254009967d6row7_col16\" class=\"data row7 col16\" >0.557218</td>\n",
       "            </tr>\n",
       "            <tr>\n",
       "                        <th id=\"T_33254182_411f_11eb_84b7_5254009967d6level0_row8\" class=\"row_heading level0 row8\" >Gatherings_restrictions</th>\n",
       "                        <td id=\"T_33254182_411f_11eb_84b7_5254009967d6row8_col0\" class=\"data row8 col0\" >-0.155551</td>\n",
       "                        <td id=\"T_33254182_411f_11eb_84b7_5254009967d6row8_col1\" class=\"data row8 col1\" >0.164776</td>\n",
       "                        <td id=\"T_33254182_411f_11eb_84b7_5254009967d6row8_col2\" class=\"data row8 col2\" >-0.120339</td>\n",
       "                        <td id=\"T_33254182_411f_11eb_84b7_5254009967d6row8_col3\" class=\"data row8 col3\" >-0.486923</td>\n",
       "                        <td id=\"T_33254182_411f_11eb_84b7_5254009967d6row8_col4\" class=\"data row8 col4\" >0.231987</td>\n",
       "                        <td id=\"T_33254182_411f_11eb_84b7_5254009967d6row8_col5\" class=\"data row8 col5\" >0.425517</td>\n",
       "                        <td id=\"T_33254182_411f_11eb_84b7_5254009967d6row8_col6\" class=\"data row8 col6\" >0.654841</td>\n",
       "                        <td id=\"T_33254182_411f_11eb_84b7_5254009967d6row8_col7\" class=\"data row8 col7\" >0.607866</td>\n",
       "                        <td id=\"T_33254182_411f_11eb_84b7_5254009967d6row8_col8\" class=\"data row8 col8\" >1.000000</td>\n",
       "                        <td id=\"T_33254182_411f_11eb_84b7_5254009967d6row8_col9\" class=\"data row8 col9\" >0.407937</td>\n",
       "                        <td id=\"T_33254182_411f_11eb_84b7_5254009967d6row8_col10\" class=\"data row8 col10\" >0.557696</td>\n",
       "                        <td id=\"T_33254182_411f_11eb_84b7_5254009967d6row8_col11\" class=\"data row8 col11\" >0.626511</td>\n",
       "                        <td id=\"T_33254182_411f_11eb_84b7_5254009967d6row8_col12\" class=\"data row8 col12\" >0.494369</td>\n",
       "                        <td id=\"T_33254182_411f_11eb_84b7_5254009967d6row8_col13\" class=\"data row8 col13\" >0.614054</td>\n",
       "                        <td id=\"T_33254182_411f_11eb_84b7_5254009967d6row8_col14\" class=\"data row8 col14\" >0.416005</td>\n",
       "                        <td id=\"T_33254182_411f_11eb_84b7_5254009967d6row8_col15\" class=\"data row8 col15\" >0.266725</td>\n",
       "                        <td id=\"T_33254182_411f_11eb_84b7_5254009967d6row8_col16\" class=\"data row8 col16\" >0.762597</td>\n",
       "            </tr>\n",
       "            <tr>\n",
       "                        <th id=\"T_33254182_411f_11eb_84b7_5254009967d6level0_row9\" class=\"row_heading level0 row9\" >Transport_closing</th>\n",
       "                        <td id=\"T_33254182_411f_11eb_84b7_5254009967d6row9_col0\" class=\"data row9 col0\" >-0.004766</td>\n",
       "                        <td id=\"T_33254182_411f_11eb_84b7_5254009967d6row9_col1\" class=\"data row9 col1\" >0.157939</td>\n",
       "                        <td id=\"T_33254182_411f_11eb_84b7_5254009967d6row9_col2\" class=\"data row9 col2\" >-0.113565</td>\n",
       "                        <td id=\"T_33254182_411f_11eb_84b7_5254009967d6row9_col3\" class=\"data row9 col3\" >-0.255951</td>\n",
       "                        <td id=\"T_33254182_411f_11eb_84b7_5254009967d6row9_col4\" class=\"data row9 col4\" >-0.030924</td>\n",
       "                        <td id=\"T_33254182_411f_11eb_84b7_5254009967d6row9_col5\" class=\"data row9 col5\" >0.161640</td>\n",
       "                        <td id=\"T_33254182_411f_11eb_84b7_5254009967d6row9_col6\" class=\"data row9 col6\" >0.311691</td>\n",
       "                        <td id=\"T_33254182_411f_11eb_84b7_5254009967d6row9_col7\" class=\"data row9 col7\" >0.503335</td>\n",
       "                        <td id=\"T_33254182_411f_11eb_84b7_5254009967d6row9_col8\" class=\"data row9 col8\" >0.407937</td>\n",
       "                        <td id=\"T_33254182_411f_11eb_84b7_5254009967d6row9_col9\" class=\"data row9 col9\" >1.000000</td>\n",
       "                        <td id=\"T_33254182_411f_11eb_84b7_5254009967d6row9_col10\" class=\"data row9 col10\" >0.405372</td>\n",
       "                        <td id=\"T_33254182_411f_11eb_84b7_5254009967d6row9_col11\" class=\"data row9 col11\" >0.652737</td>\n",
       "                        <td id=\"T_33254182_411f_11eb_84b7_5254009967d6row9_col12\" class=\"data row9 col12\" >-0.045275</td>\n",
       "                        <td id=\"T_33254182_411f_11eb_84b7_5254009967d6row9_col13\" class=\"data row9 col13\" >0.258482</td>\n",
       "                        <td id=\"T_33254182_411f_11eb_84b7_5254009967d6row9_col14\" class=\"data row9 col14\" >-0.105779</td>\n",
       "                        <td id=\"T_33254182_411f_11eb_84b7_5254009967d6row9_col15\" class=\"data row9 col15\" >-0.017798</td>\n",
       "                        <td id=\"T_33254182_411f_11eb_84b7_5254009967d6row9_col16\" class=\"data row9 col16\" >0.417824</td>\n",
       "            </tr>\n",
       "            <tr>\n",
       "                        <th id=\"T_33254182_411f_11eb_84b7_5254009967d6level0_row10\" class=\"row_heading level0 row10\" >Stay_home_restrictions</th>\n",
       "                        <td id=\"T_33254182_411f_11eb_84b7_5254009967d6row10_col0\" class=\"data row10 col0\" >0.001412</td>\n",
       "                        <td id=\"T_33254182_411f_11eb_84b7_5254009967d6row10_col1\" class=\"data row10 col1\" >0.371352</td>\n",
       "                        <td id=\"T_33254182_411f_11eb_84b7_5254009967d6row10_col2\" class=\"data row10 col2\" >-0.073528</td>\n",
       "                        <td id=\"T_33254182_411f_11eb_84b7_5254009967d6row10_col3\" class=\"data row10 col3\" >-0.370365</td>\n",
       "                        <td id=\"T_33254182_411f_11eb_84b7_5254009967d6row10_col4\" class=\"data row10 col4\" >-0.114180</td>\n",
       "                        <td id=\"T_33254182_411f_11eb_84b7_5254009967d6row10_col5\" class=\"data row10 col5\" >0.513854</td>\n",
       "                        <td id=\"T_33254182_411f_11eb_84b7_5254009967d6row10_col6\" class=\"data row10 col6\" >0.719433</td>\n",
       "                        <td id=\"T_33254182_411f_11eb_84b7_5254009967d6row10_col7\" class=\"data row10 col7\" >0.482693</td>\n",
       "                        <td id=\"T_33254182_411f_11eb_84b7_5254009967d6row10_col8\" class=\"data row10 col8\" >0.557696</td>\n",
       "                        <td id=\"T_33254182_411f_11eb_84b7_5254009967d6row10_col9\" class=\"data row10 col9\" >0.405372</td>\n",
       "                        <td id=\"T_33254182_411f_11eb_84b7_5254009967d6row10_col10\" class=\"data row10 col10\" >1.000000</td>\n",
       "                        <td id=\"T_33254182_411f_11eb_84b7_5254009967d6row10_col11\" class=\"data row10 col11\" >0.533018</td>\n",
       "                        <td id=\"T_33254182_411f_11eb_84b7_5254009967d6row10_col12\" class=\"data row10 col12\" >0.297548</td>\n",
       "                        <td id=\"T_33254182_411f_11eb_84b7_5254009967d6row10_col13\" class=\"data row10 col13\" >0.420044</td>\n",
       "                        <td id=\"T_33254182_411f_11eb_84b7_5254009967d6row10_col14\" class=\"data row10 col14\" >0.044965</td>\n",
       "                        <td id=\"T_33254182_411f_11eb_84b7_5254009967d6row10_col15\" class=\"data row10 col15\" >-0.076507</td>\n",
       "                        <td id=\"T_33254182_411f_11eb_84b7_5254009967d6row10_col16\" class=\"data row10 col16\" >0.737236</td>\n",
       "            </tr>\n",
       "            <tr>\n",
       "                        <th id=\"T_33254182_411f_11eb_84b7_5254009967d6level0_row11\" class=\"row_heading level0 row11\" >Internal_movement_restrictions</th>\n",
       "                        <td id=\"T_33254182_411f_11eb_84b7_5254009967d6row11_col0\" class=\"data row11 col0\" >0.036849</td>\n",
       "                        <td id=\"T_33254182_411f_11eb_84b7_5254009967d6row11_col1\" class=\"data row11 col1\" >0.348770</td>\n",
       "                        <td id=\"T_33254182_411f_11eb_84b7_5254009967d6row11_col2\" class=\"data row11 col2\" >-0.090828</td>\n",
       "                        <td id=\"T_33254182_411f_11eb_84b7_5254009967d6row11_col3\" class=\"data row11 col3\" >-0.364133</td>\n",
       "                        <td id=\"T_33254182_411f_11eb_84b7_5254009967d6row11_col4\" class=\"data row11 col4\" >-0.054981</td>\n",
       "                        <td id=\"T_33254182_411f_11eb_84b7_5254009967d6row11_col5\" class=\"data row11 col5\" >0.223044</td>\n",
       "                        <td id=\"T_33254182_411f_11eb_84b7_5254009967d6row11_col6\" class=\"data row11 col6\" >0.383348</td>\n",
       "                        <td id=\"T_33254182_411f_11eb_84b7_5254009967d6row11_col7\" class=\"data row11 col7\" >0.661518</td>\n",
       "                        <td id=\"T_33254182_411f_11eb_84b7_5254009967d6row11_col8\" class=\"data row11 col8\" >0.626511</td>\n",
       "                        <td id=\"T_33254182_411f_11eb_84b7_5254009967d6row11_col9\" class=\"data row11 col9\" >0.652737</td>\n",
       "                        <td id=\"T_33254182_411f_11eb_84b7_5254009967d6row11_col10\" class=\"data row11 col10\" >0.533018</td>\n",
       "                        <td id=\"T_33254182_411f_11eb_84b7_5254009967d6row11_col11\" class=\"data row11 col11\" >1.000000</td>\n",
       "                        <td id=\"T_33254182_411f_11eb_84b7_5254009967d6row11_col12\" class=\"data row11 col12\" >0.042908</td>\n",
       "                        <td id=\"T_33254182_411f_11eb_84b7_5254009967d6row11_col13\" class=\"data row11 col13\" >0.332213</td>\n",
       "                        <td id=\"T_33254182_411f_11eb_84b7_5254009967d6row11_col14\" class=\"data row11 col14\" >-0.046313</td>\n",
       "                        <td id=\"T_33254182_411f_11eb_84b7_5254009967d6row11_col15\" class=\"data row11 col15\" >0.082372</td>\n",
       "                        <td id=\"T_33254182_411f_11eb_84b7_5254009967d6row11_col16\" class=\"data row11 col16\" >0.511318</td>\n",
       "            </tr>\n",
       "            <tr>\n",
       "                        <th id=\"T_33254182_411f_11eb_84b7_5254009967d6level0_row12\" class=\"row_heading level0 row12\" >International_movement_restrictions</th>\n",
       "                        <td id=\"T_33254182_411f_11eb_84b7_5254009967d6row12_col0\" class=\"data row12 col0\" >-0.074292</td>\n",
       "                        <td id=\"T_33254182_411f_11eb_84b7_5254009967d6row12_col1\" class=\"data row12 col1\" >0.064593</td>\n",
       "                        <td id=\"T_33254182_411f_11eb_84b7_5254009967d6row12_col2\" class=\"data row12 col2\" >-0.338566</td>\n",
       "                        <td id=\"T_33254182_411f_11eb_84b7_5254009967d6row12_col3\" class=\"data row12 col3\" >-0.541838</td>\n",
       "                        <td id=\"T_33254182_411f_11eb_84b7_5254009967d6row12_col4\" class=\"data row12 col4\" >-0.018191</td>\n",
       "                        <td id=\"T_33254182_411f_11eb_84b7_5254009967d6row12_col5\" class=\"data row12 col5\" >0.287986</td>\n",
       "                        <td id=\"T_33254182_411f_11eb_84b7_5254009967d6row12_col6\" class=\"data row12 col6\" >0.366740</td>\n",
       "                        <td id=\"T_33254182_411f_11eb_84b7_5254009967d6row12_col7\" class=\"data row12 col7\" >0.125697</td>\n",
       "                        <td id=\"T_33254182_411f_11eb_84b7_5254009967d6row12_col8\" class=\"data row12 col8\" >0.494369</td>\n",
       "                        <td id=\"T_33254182_411f_11eb_84b7_5254009967d6row12_col9\" class=\"data row12 col9\" >-0.045275</td>\n",
       "                        <td id=\"T_33254182_411f_11eb_84b7_5254009967d6row12_col10\" class=\"data row12 col10\" >0.297548</td>\n",
       "                        <td id=\"T_33254182_411f_11eb_84b7_5254009967d6row12_col11\" class=\"data row12 col11\" >0.042908</td>\n",
       "                        <td id=\"T_33254182_411f_11eb_84b7_5254009967d6row12_col12\" class=\"data row12 col12\" >1.000000</td>\n",
       "                        <td id=\"T_33254182_411f_11eb_84b7_5254009967d6row12_col13\" class=\"data row12 col13\" >0.481628</td>\n",
       "                        <td id=\"T_33254182_411f_11eb_84b7_5254009967d6row12_col14\" class=\"data row12 col14\" >0.554090</td>\n",
       "                        <td id=\"T_33254182_411f_11eb_84b7_5254009967d6row12_col15\" class=\"data row12 col15\" >0.397366</td>\n",
       "                        <td id=\"T_33254182_411f_11eb_84b7_5254009967d6row12_col16\" class=\"data row12 col16\" >0.479358</td>\n",
       "            </tr>\n",
       "            <tr>\n",
       "                        <th id=\"T_33254182_411f_11eb_84b7_5254009967d6level0_row13\" class=\"row_heading level0 row13\" >Information_campaigns</th>\n",
       "                        <td id=\"T_33254182_411f_11eb_84b7_5254009967d6row13_col0\" class=\"data row13 col0\" >-0.117563</td>\n",
       "                        <td id=\"T_33254182_411f_11eb_84b7_5254009967d6row13_col1\" class=\"data row13 col1\" >0.096401</td>\n",
       "                        <td id=\"T_33254182_411f_11eb_84b7_5254009967d6row13_col2\" class=\"data row13 col2\" >0.075652</td>\n",
       "                        <td id=\"T_33254182_411f_11eb_84b7_5254009967d6row13_col3\" class=\"data row13 col3\" >-0.294848</td>\n",
       "                        <td id=\"T_33254182_411f_11eb_84b7_5254009967d6row13_col4\" class=\"data row13 col4\" >0.166667</td>\n",
       "                        <td id=\"T_33254182_411f_11eb_84b7_5254009967d6row13_col5\" class=\"data row13 col5\" >0.384302</td>\n",
       "                        <td id=\"T_33254182_411f_11eb_84b7_5254009967d6row13_col6\" class=\"data row13 col6\" >0.509955</td>\n",
       "                        <td id=\"T_33254182_411f_11eb_84b7_5254009967d6row13_col7\" class=\"data row13 col7\" >0.416804</td>\n",
       "                        <td id=\"T_33254182_411f_11eb_84b7_5254009967d6row13_col8\" class=\"data row13 col8\" >0.614054</td>\n",
       "                        <td id=\"T_33254182_411f_11eb_84b7_5254009967d6row13_col9\" class=\"data row13 col9\" >0.258482</td>\n",
       "                        <td id=\"T_33254182_411f_11eb_84b7_5254009967d6row13_col10\" class=\"data row13 col10\" >0.420044</td>\n",
       "                        <td id=\"T_33254182_411f_11eb_84b7_5254009967d6row13_col11\" class=\"data row13 col11\" >0.332213</td>\n",
       "                        <td id=\"T_33254182_411f_11eb_84b7_5254009967d6row13_col12\" class=\"data row13 col12\" >0.481628</td>\n",
       "                        <td id=\"T_33254182_411f_11eb_84b7_5254009967d6row13_col13\" class=\"data row13 col13\" >1.000000</td>\n",
       "                        <td id=\"T_33254182_411f_11eb_84b7_5254009967d6row13_col14\" class=\"data row13 col14\" >0.493823</td>\n",
       "                        <td id=\"T_33254182_411f_11eb_84b7_5254009967d6row13_col15\" class=\"data row13 col15\" >0.431476</td>\n",
       "                        <td id=\"T_33254182_411f_11eb_84b7_5254009967d6row13_col16\" class=\"data row13 col16\" >0.661034</td>\n",
       "            </tr>\n",
       "            <tr>\n",
       "                        <th id=\"T_33254182_411f_11eb_84b7_5254009967d6level0_row14\" class=\"row_heading level0 row14\" >Testing_policy</th>\n",
       "                        <td id=\"T_33254182_411f_11eb_84b7_5254009967d6row14_col0\" class=\"data row14 col0\" >-0.089882</td>\n",
       "                        <td id=\"T_33254182_411f_11eb_84b7_5254009967d6row14_col1\" class=\"data row14 col1\" >-0.145216</td>\n",
       "                        <td id=\"T_33254182_411f_11eb_84b7_5254009967d6row14_col2\" class=\"data row14 col2\" >-0.227524</td>\n",
       "                        <td id=\"T_33254182_411f_11eb_84b7_5254009967d6row14_col3\" class=\"data row14 col3\" >-0.414453</td>\n",
       "                        <td id=\"T_33254182_411f_11eb_84b7_5254009967d6row14_col4\" class=\"data row14 col4\" >0.086053</td>\n",
       "                        <td id=\"T_33254182_411f_11eb_84b7_5254009967d6row14_col5\" class=\"data row14 col5\" >0.049015</td>\n",
       "                        <td id=\"T_33254182_411f_11eb_84b7_5254009967d6row14_col6\" class=\"data row14 col6\" >0.116959</td>\n",
       "                        <td id=\"T_33254182_411f_11eb_84b7_5254009967d6row14_col7\" class=\"data row14 col7\" >-0.009939</td>\n",
       "                        <td id=\"T_33254182_411f_11eb_84b7_5254009967d6row14_col8\" class=\"data row14 col8\" >0.416005</td>\n",
       "                        <td id=\"T_33254182_411f_11eb_84b7_5254009967d6row14_col9\" class=\"data row14 col9\" >-0.105779</td>\n",
       "                        <td id=\"T_33254182_411f_11eb_84b7_5254009967d6row14_col10\" class=\"data row14 col10\" >0.044965</td>\n",
       "                        <td id=\"T_33254182_411f_11eb_84b7_5254009967d6row14_col11\" class=\"data row14 col11\" >-0.046313</td>\n",
       "                        <td id=\"T_33254182_411f_11eb_84b7_5254009967d6row14_col12\" class=\"data row14 col12\" >0.554090</td>\n",
       "                        <td id=\"T_33254182_411f_11eb_84b7_5254009967d6row14_col13\" class=\"data row14 col13\" >0.493823</td>\n",
       "                        <td id=\"T_33254182_411f_11eb_84b7_5254009967d6row14_col14\" class=\"data row14 col14\" >1.000000</td>\n",
       "                        <td id=\"T_33254182_411f_11eb_84b7_5254009967d6row14_col15\" class=\"data row14 col15\" >0.532535</td>\n",
       "                        <td id=\"T_33254182_411f_11eb_84b7_5254009967d6row14_col16\" class=\"data row14 col16\" >0.193965</td>\n",
       "            </tr>\n",
       "            <tr>\n",
       "                        <th id=\"T_33254182_411f_11eb_84b7_5254009967d6level0_row15\" class=\"row_heading level0 row15\" >Contact_tracing</th>\n",
       "                        <td id=\"T_33254182_411f_11eb_84b7_5254009967d6row15_col0\" class=\"data row15 col0\" >-0.016979</td>\n",
       "                        <td id=\"T_33254182_411f_11eb_84b7_5254009967d6row15_col1\" class=\"data row15 col1\" >0.034253</td>\n",
       "                        <td id=\"T_33254182_411f_11eb_84b7_5254009967d6row15_col2\" class=\"data row15 col2\" >-0.179381</td>\n",
       "                        <td id=\"T_33254182_411f_11eb_84b7_5254009967d6row15_col3\" class=\"data row15 col3\" >-0.263418</td>\n",
       "                        <td id=\"T_33254182_411f_11eb_84b7_5254009967d6row15_col4\" class=\"data row15 col4\" >0.095041</td>\n",
       "                        <td id=\"T_33254182_411f_11eb_84b7_5254009967d6row15_col5\" class=\"data row15 col5\" >-0.109277</td>\n",
       "                        <td id=\"T_33254182_411f_11eb_84b7_5254009967d6row15_col6\" class=\"data row15 col6\" >-0.075698</td>\n",
       "                        <td id=\"T_33254182_411f_11eb_84b7_5254009967d6row15_col7\" class=\"data row15 col7\" >0.051310</td>\n",
       "                        <td id=\"T_33254182_411f_11eb_84b7_5254009967d6row15_col8\" class=\"data row15 col8\" >0.266725</td>\n",
       "                        <td id=\"T_33254182_411f_11eb_84b7_5254009967d6row15_col9\" class=\"data row15 col9\" >-0.017798</td>\n",
       "                        <td id=\"T_33254182_411f_11eb_84b7_5254009967d6row15_col10\" class=\"data row15 col10\" >-0.076507</td>\n",
       "                        <td id=\"T_33254182_411f_11eb_84b7_5254009967d6row15_col11\" class=\"data row15 col11\" >0.082372</td>\n",
       "                        <td id=\"T_33254182_411f_11eb_84b7_5254009967d6row15_col12\" class=\"data row15 col12\" >0.397366</td>\n",
       "                        <td id=\"T_33254182_411f_11eb_84b7_5254009967d6row15_col13\" class=\"data row15 col13\" >0.431476</td>\n",
       "                        <td id=\"T_33254182_411f_11eb_84b7_5254009967d6row15_col14\" class=\"data row15 col14\" >0.532535</td>\n",
       "                        <td id=\"T_33254182_411f_11eb_84b7_5254009967d6row15_col15\" class=\"data row15 col15\" >1.000000</td>\n",
       "                        <td id=\"T_33254182_411f_11eb_84b7_5254009967d6row15_col16\" class=\"data row15 col16\" >-0.010556</td>\n",
       "            </tr>\n",
       "            <tr>\n",
       "                        <th id=\"T_33254182_411f_11eb_84b7_5254009967d6level0_row16\" class=\"row_heading level0 row16\" >Stringency_index</th>\n",
       "                        <td id=\"T_33254182_411f_11eb_84b7_5254009967d6row16_col0\" class=\"data row16 col0\" >-0.195224</td>\n",
       "                        <td id=\"T_33254182_411f_11eb_84b7_5254009967d6row16_col1\" class=\"data row16 col1\" >0.257660</td>\n",
       "                        <td id=\"T_33254182_411f_11eb_84b7_5254009967d6row16_col2\" class=\"data row16 col2\" >-0.028274</td>\n",
       "                        <td id=\"T_33254182_411f_11eb_84b7_5254009967d6row16_col3\" class=\"data row16 col3\" >-0.392571</td>\n",
       "                        <td id=\"T_33254182_411f_11eb_84b7_5254009967d6row16_col4\" class=\"data row16 col4\" >0.133401</td>\n",
       "                        <td id=\"T_33254182_411f_11eb_84b7_5254009967d6row16_col5\" class=\"data row16 col5\" >0.744104</td>\n",
       "                        <td id=\"T_33254182_411f_11eb_84b7_5254009967d6row16_col6\" class=\"data row16 col6\" >0.850226</td>\n",
       "                        <td id=\"T_33254182_411f_11eb_84b7_5254009967d6row16_col7\" class=\"data row16 col7\" >0.557218</td>\n",
       "                        <td id=\"T_33254182_411f_11eb_84b7_5254009967d6row16_col8\" class=\"data row16 col8\" >0.762597</td>\n",
       "                        <td id=\"T_33254182_411f_11eb_84b7_5254009967d6row16_col9\" class=\"data row16 col9\" >0.417824</td>\n",
       "                        <td id=\"T_33254182_411f_11eb_84b7_5254009967d6row16_col10\" class=\"data row16 col10\" >0.737236</td>\n",
       "                        <td id=\"T_33254182_411f_11eb_84b7_5254009967d6row16_col11\" class=\"data row16 col11\" >0.511318</td>\n",
       "                        <td id=\"T_33254182_411f_11eb_84b7_5254009967d6row16_col12\" class=\"data row16 col12\" >0.479358</td>\n",
       "                        <td id=\"T_33254182_411f_11eb_84b7_5254009967d6row16_col13\" class=\"data row16 col13\" >0.661034</td>\n",
       "                        <td id=\"T_33254182_411f_11eb_84b7_5254009967d6row16_col14\" class=\"data row16 col14\" >0.193965</td>\n",
       "                        <td id=\"T_33254182_411f_11eb_84b7_5254009967d6row16_col15\" class=\"data row16 col15\" >-0.010556</td>\n",
       "                        <td id=\"T_33254182_411f_11eb_84b7_5254009967d6row16_col16\" class=\"data row16 col16\" >1.000000</td>\n",
       "            </tr>\n",
       "    </tbody></table>"
      ],
      "text/plain": [
       "<pandas.io.formats.style.Styler at 0x7f815267ce50>"
      ]
     },
     "execution_count": 21,
     "metadata": {},
     "output_type": "execute_result"
    }
   ],
   "source": [
    "# Correlation\n",
    "df = track_df.copy()\n",
    "df.corr().style.background_gradient(axis=None)"
   ]
  },
  {
   "cell_type": "code",
   "execution_count": 22,
   "metadata": {
    "collapsed": false
   },
   "outputs": [
    {
     "data": {
      "image/png": "[encoded data removed]",
      "text/plain": [
       "<Figure size 432x288 with 1 Axes>"
      ]
     },
     "metadata": {},
     "output_type": "display_data"
    }
   ],
   "source": [
    "# Scatter plot of Stringency index and Rt\n",
    "df = track_df.copy()\n",
    "sns.scatterplot(data=df, x=\"Stringency_index\", y=\"Rt\", hue=\"Country\", legend=\"brief\", marker=\"+\")\n",
    "bbox_to_anchor=(1.02, 0)\n",
    "bbox_loc=\"lower left\"\n",
    "plt.legend(bbox_to_anchor=bbox_to_anchor, loc=bbox_loc, borderaxespad=0)\n",
    "plt.title(\"Relationship of Stringency index and reproduction number\")\n",
    "plt.ylabel(\"Reproduction number\")\n",
    "plt.xlabel(\"Stringency index\")\n",
    "plt.show()"
   ]
  }
 ],
 "metadata": {
  "kernelspec": {
   "display_name": "Python 3.8.2 64-bit ('.venv': venv)",
   "name": "python_defaultSpec_1597669925034"
  },
  "language_info": {
   "codemirror_mode": {
    "name": "ipython",
    "version": 3
   },
   "file_extension": ".py",
   "mimetype": "text/x-python",
   "name": "python",
   "nbconvert_exporter": "python",
   "pygments_lexer": "ipython3",
   "version": "3.8.2-final"
  }
 },
 "nbformat": 4,
 "nbformat_minor": 4
}
