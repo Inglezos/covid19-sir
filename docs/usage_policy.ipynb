{
 "cells": [
  {
   "cell_type": "markdown",
   "metadata": {},
   "source": [
    "# Usage: policy measures\n",
    "Here, we will analyse the relationship of policy measures and parameter values of SIR-derived ODE models. Policy measures are tracked by [Oxford Covid-19 Government Response Tracker (OxCGRT)](https://github.com/OxCGRT/covid-policy-tracker)."
   ]
  },
  {
   "cell_type": "markdown",
   "metadata": {},
   "source": [
    "## Preparation"
   ]
  },
  {
   "cell_type": "code",
   "execution_count": 1,
   "metadata": {
    "execution": {
     "iopub.execute_input": "2021-02-07T15:52:43.888624Z",
     "iopub.status.busy": "2021-02-07T15:52:43.887919Z",
     "iopub.status.idle": "2021-02-07T15:52:43.890113Z",
     "shell.execute_reply": "2021-02-07T15:52:43.890503Z"
    }
   },
   "outputs": [],
   "source": [
    "# Standard users\n",
    "# !pip install covsirphy\n",
    "# Developers (Note: this notebook is in example directory)\n",
    "import os\n",
    "os.chdir(\"../\")"
   ]
  },
  {
   "cell_type": "code",
   "execution_count": 2,
   "metadata": {
    "execution": {
     "iopub.execute_input": "2021-02-07T15:52:43.893902Z",
     "iopub.status.busy": "2021-02-07T15:52:43.893419Z",
     "iopub.status.idle": "2021-02-07T15:52:43.896000Z",
     "shell.execute_reply": "2021-02-07T15:52:43.895475Z"
    }
   },
   "outputs": [],
   "source": [
    "from pprint import pprint"
   ]
  },
  {
   "cell_type": "code",
   "execution_count": 3,
   "metadata": {
    "execution": {
     "iopub.execute_input": "2021-02-07T15:52:43.899327Z",
     "iopub.status.busy": "2021-02-07T15:52:43.898830Z",
     "iopub.status.idle": "2021-02-07T15:52:46.469033Z",
     "shell.execute_reply": "2021-02-07T15:52:46.469472Z"
    }
   },
   "outputs": [
    {
     "data": {
      "text/plain": [
       "'2.15.0-mu'"
      ]
     },
     "execution_count": 1,
     "metadata": {},
     "output_type": "execute_result"
    }
   ],
   "source": [
    "import covsirphy as cs\n",
    "cs.__version__"
   ]
  },
  {
   "cell_type": "code",
   "execution_count": 4,
   "metadata": {
    "execution": {
     "iopub.execute_input": "2021-02-07T15:52:46.474424Z",
     "iopub.status.busy": "2021-02-07T15:52:46.473873Z",
     "iopub.status.idle": "2021-02-07T15:52:52.342471Z",
     "shell.execute_reply": "2021-02-07T15:52:52.341933Z"
    },
    "tags": []
   },
   "outputs": [
    {
     "name": "stdout",
     "output_type": "stream",
     "text": [
      "(Secondary source) Guidotti, E., Ardia, D., (2020), \"COVID-19 Data Hub\", Journal of Open Source Software 5(51):2376, doi: 10.21105/joss.02376.\n"
     ]
    }
   ],
   "source": [
    "# Standard users and developers\n",
    "data_loader = cs.DataLoader(\"input\")\n",
    "# The number of cases (JHU style)\n",
    "jhu_data = data_loader.jhu(verbose=False)\n",
    "# Population in each country\n",
    "population_data = data_loader.population(verbose=False)\n",
    "# Government Response Tracker (OxCGRT)\n",
    "oxcgrt_data = data_loader.oxcgrt(verbose=False)\n",
    "# Description/citation\n",
    "print(oxcgrt_data.citation)"
   ]
  },
  {
   "cell_type": "markdown",
   "metadata": {},
   "source": [
    "## Class for policy measure analysis\n",
    "We will `PolicyMeasures` class to find relationship of policy measures and parameter values of SIR-derived ODE models."
   ]
  },
  {
   "cell_type": "code",
   "execution_count": 5,
   "metadata": {
    "execution": {
     "iopub.execute_input": "2021-02-07T15:52:52.349224Z",
     "iopub.status.busy": "2021-02-07T15:52:52.348717Z",
     "iopub.status.idle": "2021-02-07T15:53:11.912508Z",
     "shell.execute_reply": "2021-02-07T15:53:11.912878Z"
    },
    "tags": []
   },
   "outputs": [
    {
     "data": {
      "text/plain": [
       "197"
      ]
     },
     "execution_count": 1,
     "metadata": {},
     "output_type": "execute_result"
    }
   ],
   "source": [
    "# Create analyser with tau value 360 [min] (can be changed)\n",
    "analyser = cs.PolicyMeasures(jhu_data, population_data, oxcgrt_data, tau=360)\n",
    "# The number of registerd countries\n",
    "len(analyser.countries)"
   ]
  },
  {
   "cell_type": "code",
   "execution_count": 6,
   "metadata": {
    "execution": {
     "iopub.execute_input": "2021-02-07T15:53:11.916468Z",
     "iopub.status.busy": "2021-02-07T15:53:11.915959Z",
     "iopub.status.idle": "2021-02-07T15:53:11.918890Z",
     "shell.execute_reply": "2021-02-07T15:53:11.919290Z"
    }
   },
   "outputs": [
    {
     "data": {
      "text/plain": [
       "covsirphy.analysis.scenario.Scenario"
      ]
     },
     "execution_count": 1,
     "metadata": {},
     "output_type": "execute_result"
    }
   ],
   "source": [
    "# We can get Scenario instance for detailed scenario analysis\n",
    "type(analyser.scenario(\"Japan\"))"
   ]
  },
  {
   "cell_type": "markdown",
   "metadata": {},
   "source": [
    "## Set phases with S-R trend analysis\n",
    "We will perform S-R trend analysis to set phases in all countries. Countries which do not have **19th phases** will be un-registered for the next analysis. This number will be adjusted for your analysis."
   ]
  },
  {
   "cell_type": "code",
   "execution_count": 7,
   "metadata": {
    "execution": {
     "iopub.execute_input": "2021-02-07T15:53:11.931333Z",
     "iopub.status.busy": "2021-02-07T15:53:11.927346Z",
     "iopub.status.idle": "2021-02-07T15:54:23.896065Z",
     "shell.execute_reply": "2021-02-07T15:54:23.897087Z"
    }
   },
   "outputs": [
    {
     "name": "stdout",
     "output_type": "stream",
     "text": [
      "{2: ['Holy See'],\n",
      " 3: ['Tanzania', 'Saint Kitts and Nevis', 'Timor-Leste'],\n",
      " 4: ['Fiji', 'Dominica', 'Laos'],\n",
      " 6: ['Grenada', 'Equatorial Guinea'],\n",
      " 7: ['Northern Mariana Islands', 'Saint Vincent and the Grenadines', 'Brunei'],\n",
      " 8: ['Kyrgyzstan', 'Cambodia', 'Liechtenstein'],\n",
      " 9: ['Bahamas', 'Trinidad and Tobago', 'Saint Lucia', 'Nepal', 'Seychelles',\n",
      "     'Guam', 'Mauritius', 'Belize', 'Uzbekistan'],\n",
      " 10: ['Myanmar', 'Iraq', 'Iceland', 'India', 'Guyana', 'Antigua and Barbuda',\n",
      "      'Virgin Islands, U.S.', 'Republic of the Congo', 'Australia', 'Barbados',\n",
      "      'Oman', 'Philippines', 'Angola', 'Libya', 'Kenya', 'Venezuela', 'Bhutan',\n",
      "      'Ethiopia', 'Papua New Guinea'],\n",
      " 11: ['Bermuda', 'Saudi Arabia', 'Namibia', 'El Salvador', 'Colombia',\n",
      "      'Botswana', 'San Marino', 'Kuwait', 'Syria', 'Costa Rica', 'Guatemala',\n",
      "      'Zambia', 'Pakistan', 'Argentina', 'Vietnam', 'Djibouti', 'Jamaica',\n",
      "      'Sudan', 'Uganda', 'Bahrain', 'Bangladesh', 'South Africa', 'Madagascar',\n",
      "      'Kazakhstan', 'Morocco', 'Israel', 'Paraguay', 'Nicaragua', 'Maldives',\n",
      "      'Peru', 'Algeria', 'Malawi', 'Monaco', 'Puerto Rico', 'Cape Verde'],\n",
      " 12: ['Armenia', 'Mozambique', 'New Zealand', 'Dominican Republic', 'Suriname',\n",
      "      'Sao Tome and Principe', 'Swaziland', 'Ghana', 'Bolivia', 'Montenegro',\n",
      "      'Andorra', 'Mauritania', 'Panama', 'Moldova', 'Chile', 'Palestine',\n",
      "      'Taiwan', 'Somalia', 'Ecuador', 'Malta', 'Cameroon', 'Honduras', 'Brazil',\n",
      "      'Lesotho', 'Rwanda', 'Liberia', 'Egypt', 'South Sudan', 'Singapore',\n",
      "      'Zimbabwe', 'Mongolia'],\n",
      " 13: [\"Cote d'Ivoire\", 'Ireland', 'Burundi', 'Yemen', 'Kosovo', 'Afghanistan',\n",
      "      'Mali', 'Democratic Republic of the Congo', 'Benin', 'Eritrea', 'Comoros',\n",
      "      'Tajikistan', 'Gambia', 'Senegal', 'Guinea', 'Togo', 'Nigeria',\n",
      "      'Czech Republic', 'Mexico'],\n",
      " 14: ['North Macedonia', 'Bosnia and Herzegovina', 'Lebanon', 'Chad', 'Tunisia',\n",
      "      'Gabon', 'Guinea-Bissau', 'Indonesia', 'Russia', 'Belgium', 'Iran',\n",
      "      'Slovakia', 'Niger', 'Central African Republic', 'Sierra Leone',\n",
      "      'Azerbaijan', 'Qatar', 'Netherlands', 'Ukraine', 'Luxembourg'],\n",
      " 15: ['Belarus', 'France', 'Spain', 'Lithuania', 'United Arab Emirates',\n",
      "      'Poland', 'Bulgaria', 'Cuba', 'China', 'United States', 'Hungary',\n",
      "      'Haiti', 'Jordan', 'Georgia', 'Latvia'],\n",
      " 16: ['Albania', 'Thailand', 'Uruguay', 'Japan', 'Cyprus', 'Turkey',\n",
      "      'Switzerland', 'Burkina Faso', 'Croatia', 'Romania', 'Greece'],\n",
      " 17: ['Finland', 'United Kingdom', 'Slovenia', 'Sri Lanka', 'Serbia',\n",
      "      'Malaysia', 'Austria', 'Denmark', 'South Korea', 'Norway'],\n",
      " 18: ['Canada', 'Estonia', 'Italy'],\n",
      " 19: ['Sweden', 'Portugal'],\n",
      " 21: ['Germany']}\n"
     ]
    }
   ],
   "source": [
    "# Show the number of phases of all countries\n",
    "analyser.trend()\n",
    "pprint(analyser.phase_len(), compact=True)"
   ]
  },
  {
   "cell_type": "code",
   "execution_count": 8,
   "metadata": {
    "execution": {
     "iopub.execute_input": "2021-02-07T15:54:23.926069Z",
     "iopub.status.busy": "2021-02-07T15:54:23.925260Z",
     "iopub.status.idle": "2021-02-07T15:55:18.967653Z",
     "shell.execute_reply": "2021-02-07T15:55:18.966955Z"
    }
   },
   "outputs": [
    {
     "data": {
      "text/plain": [
       "3"
      ]
     },
     "execution_count": 1,
     "metadata": {},
     "output_type": "execute_result"
    }
   ],
   "source": [
    "# Set phases with S-R trend analysis\n",
    "analyser.trend(min_len=19)\n",
    "# The number of countries\n",
    "len(analyser.countries)"
   ]
  },
  {
   "cell_type": "code",
   "execution_count": 9,
   "metadata": {
    "execution": {
     "iopub.execute_input": "2021-02-07T15:55:18.973637Z",
     "iopub.status.busy": "2021-02-07T15:55:18.972942Z",
     "iopub.status.idle": "2021-02-07T15:55:18.976839Z",
     "shell.execute_reply": "2021-02-07T15:55:18.976084Z"
    },
    "tags": []
   },
   "outputs": [
    {
     "name": "stdout",
     "output_type": "stream",
     "text": [
      "{19: ['Sweden', 'Portugal'], 21: ['Germany']}\n"
     ]
    }
   ],
   "source": [
    "phase_len_dict = analyser.phase_len()\n",
    "pprint(phase_len_dict, compact=True)"
   ]
  },
  {
   "cell_type": "code",
   "execution_count": 10,
   "metadata": {
    "execution": {
     "iopub.execute_input": "2021-02-07T15:55:18.994995Z",
     "iopub.status.busy": "2021-02-07T15:55:18.994333Z",
     "iopub.status.idle": "2021-02-07T15:55:19.018183Z",
     "shell.execute_reply": "2021-02-07T15:55:19.017132Z"
    },
    "tags": []
   },
   "outputs": [
    {
     "data": {
      "text/html": [
       "<div>\n",
       "<style scoped>\n",
       "    .dataframe tbody tr th:only-of-type {\n",
       "        vertical-align: middle;\n",
       "    }\n",
       "\n",
       "    .dataframe tbody tr th {\n",
       "        vertical-align: top;\n",
       "    }\n",
       "\n",
       "    .dataframe thead th {\n",
       "        text-align: right;\n",
       "    }\n",
       "</style>\n",
       "<table border=\"1\" class=\"dataframe\">\n",
       "  <thead>\n",
       "    <tr style=\"text-align: right;\">\n",
       "      <th></th>\n",
       "      <th></th>\n",
       "      <th>Type</th>\n",
       "      <th>Start</th>\n",
       "      <th>End</th>\n",
       "      <th>Population</th>\n",
       "    </tr>\n",
       "    <tr>\n",
       "      <th>Country</th>\n",
       "      <th>Phase</th>\n",
       "      <th></th>\n",
       "      <th></th>\n",
       "      <th></th>\n",
       "      <th></th>\n",
       "    </tr>\n",
       "  </thead>\n",
       "  <tbody>\n",
       "    <tr>\n",
       "      <th rowspan=\"21\" valign=\"top\">Germany</th>\n",
       "      <th>0th</th>\n",
       "      <td>Past</td>\n",
       "      <td>18Jan2020</td>\n",
       "      <td>25Mar2020</td>\n",
       "      <td>82905782</td>\n",
       "    </tr>\n",
       "    <tr>\n",
       "      <th>1st</th>\n",
       "      <td>Past</td>\n",
       "      <td>26Mar2020</td>\n",
       "      <td>13Apr2020</td>\n",
       "      <td>82905782</td>\n",
       "    </tr>\n",
       "    <tr>\n",
       "      <th>2nd</th>\n",
       "      <td>Past</td>\n",
       "      <td>14Apr2020</td>\n",
       "      <td>17Jun2020</td>\n",
       "      <td>82905782</td>\n",
       "    </tr>\n",
       "    <tr>\n",
       "      <th>3rd</th>\n",
       "      <td>Past</td>\n",
       "      <td>18Jun2020</td>\n",
       "      <td>25Aug2020</td>\n",
       "      <td>82905782</td>\n",
       "    </tr>\n",
       "    <tr>\n",
       "      <th>4th</th>\n",
       "      <td>Past</td>\n",
       "      <td>26Aug2020</td>\n",
       "      <td>04Oct2020</td>\n",
       "      <td>82905782</td>\n",
       "    </tr>\n",
       "    <tr>\n",
       "      <th>5th</th>\n",
       "      <td>Past</td>\n",
       "      <td>05Oct2020</td>\n",
       "      <td>19Oct2020</td>\n",
       "      <td>82905782</td>\n",
       "    </tr>\n",
       "    <tr>\n",
       "      <th>6th</th>\n",
       "      <td>Past</td>\n",
       "      <td>20Oct2020</td>\n",
       "      <td>27Oct2020</td>\n",
       "      <td>82905782</td>\n",
       "    </tr>\n",
       "    <tr>\n",
       "      <th>7th</th>\n",
       "      <td>Past</td>\n",
       "      <td>28Oct2020</td>\n",
       "      <td>03Nov2020</td>\n",
       "      <td>82905782</td>\n",
       "    </tr>\n",
       "    <tr>\n",
       "      <th>8th</th>\n",
       "      <td>Past</td>\n",
       "      <td>04Nov2020</td>\n",
       "      <td>10Nov2020</td>\n",
       "      <td>82905782</td>\n",
       "    </tr>\n",
       "    <tr>\n",
       "      <th>9th</th>\n",
       "      <td>Past</td>\n",
       "      <td>11Nov2020</td>\n",
       "      <td>17Nov2020</td>\n",
       "      <td>82905782</td>\n",
       "    </tr>\n",
       "    <tr>\n",
       "      <th>10th</th>\n",
       "      <td>Past</td>\n",
       "      <td>18Nov2020</td>\n",
       "      <td>24Nov2020</td>\n",
       "      <td>82905782</td>\n",
       "    </tr>\n",
       "    <tr>\n",
       "      <th>11th</th>\n",
       "      <td>Past</td>\n",
       "      <td>25Nov2020</td>\n",
       "      <td>01Dec2020</td>\n",
       "      <td>82905782</td>\n",
       "    </tr>\n",
       "    <tr>\n",
       "      <th>12th</th>\n",
       "      <td>Past</td>\n",
       "      <td>02Dec2020</td>\n",
       "      <td>08Dec2020</td>\n",
       "      <td>82905782</td>\n",
       "    </tr>\n",
       "    <tr>\n",
       "      <th>13th</th>\n",
       "      <td>Past</td>\n",
       "      <td>09Dec2020</td>\n",
       "      <td>15Dec2020</td>\n",
       "      <td>82905782</td>\n",
       "    </tr>\n",
       "    <tr>\n",
       "      <th>14th</th>\n",
       "      <td>Past</td>\n",
       "      <td>16Dec2020</td>\n",
       "      <td>21Dec2020</td>\n",
       "      <td>82905782</td>\n",
       "    </tr>\n",
       "    <tr>\n",
       "      <th>15th</th>\n",
       "      <td>Past</td>\n",
       "      <td>22Dec2020</td>\n",
       "      <td>28Dec2020</td>\n",
       "      <td>82905782</td>\n",
       "    </tr>\n",
       "    <tr>\n",
       "      <th>16th</th>\n",
       "      <td>Past</td>\n",
       "      <td>29Dec2020</td>\n",
       "      <td>04Jan2021</td>\n",
       "      <td>82905782</td>\n",
       "    </tr>\n",
       "    <tr>\n",
       "      <th>17th</th>\n",
       "      <td>Past</td>\n",
       "      <td>05Jan2021</td>\n",
       "      <td>11Jan2021</td>\n",
       "      <td>82905782</td>\n",
       "    </tr>\n",
       "    <tr>\n",
       "      <th>18th</th>\n",
       "      <td>Past</td>\n",
       "      <td>12Jan2021</td>\n",
       "      <td>18Jan2021</td>\n",
       "      <td>82905782</td>\n",
       "    </tr>\n",
       "    <tr>\n",
       "      <th>19th</th>\n",
       "      <td>Past</td>\n",
       "      <td>19Jan2021</td>\n",
       "      <td>26Jan2021</td>\n",
       "      <td>82905782</td>\n",
       "    </tr>\n",
       "    <tr>\n",
       "      <th>20th</th>\n",
       "      <td>Past</td>\n",
       "      <td>27Jan2021</td>\n",
       "      <td>07Feb2021</td>\n",
       "      <td>82905782</td>\n",
       "    </tr>\n",
       "  </tbody>\n",
       "</table>\n",
       "</div>"
      ],
      "text/plain": [
       "               Type      Start        End  Population\n",
       "Country Phase                                        \n",
       "Germany 0th    Past  18Jan2020  25Mar2020    82905782\n",
       "        1st    Past  26Mar2020  13Apr2020    82905782\n",
       "        2nd    Past  14Apr2020  17Jun2020    82905782\n",
       "        3rd    Past  18Jun2020  25Aug2020    82905782\n",
       "        4th    Past  26Aug2020  04Oct2020    82905782\n",
       "        5th    Past  05Oct2020  19Oct2020    82905782\n",
       "        6th    Past  20Oct2020  27Oct2020    82905782\n",
       "        7th    Past  28Oct2020  03Nov2020    82905782\n",
       "        8th    Past  04Nov2020  10Nov2020    82905782\n",
       "        9th    Past  11Nov2020  17Nov2020    82905782\n",
       "        10th   Past  18Nov2020  24Nov2020    82905782\n",
       "        11th   Past  25Nov2020  01Dec2020    82905782\n",
       "        12th   Past  02Dec2020  08Dec2020    82905782\n",
       "        13th   Past  09Dec2020  15Dec2020    82905782\n",
       "        14th   Past  16Dec2020  21Dec2020    82905782\n",
       "        15th   Past  22Dec2020  28Dec2020    82905782\n",
       "        16th   Past  29Dec2020  04Jan2021    82905782\n",
       "        17th   Past  05Jan2021  11Jan2021    82905782\n",
       "        18th   Past  12Jan2021  18Jan2021    82905782\n",
       "        19th   Past  19Jan2021  26Jan2021    82905782\n",
       "        20th   Past  27Jan2021  07Feb2021    82905782"
      ]
     },
     "execution_count": 1,
     "metadata": {},
     "output_type": "execute_result"
    }
   ],
   "source": [
    "# Here, only show the countries which have the most phases\n",
    "countries_show = max(phase_len_dict.items(), key=lambda x: x[0])[1]\n",
    "# Show summary\n",
    "analyser.summary(countries=countries_show)"
   ]
  },
  {
   "cell_type": "markdown",
   "metadata": {},
   "source": [
    "## Parameter estimation\n",
    "we will estimate the parameter values with SIR-derived ODE models in each country."
   ]
  },
  {
   "cell_type": "code",
   "execution_count": 11,
   "metadata": {
    "execution": {
     "iopub.execute_input": "2021-02-07T15:55:19.024938Z",
     "iopub.status.busy": "2021-02-07T15:55:19.023558Z",
     "iopub.status.idle": "2021-02-07T15:55:19.027520Z",
     "shell.execute_reply": "2021-02-07T15:55:19.029604Z"
    },
    "tags": []
   },
   "outputs": [],
   "source": [
    "# Parameter estimation with SIR-F model\n",
    "# Caution! This takes too much time.\n",
    "# analyser.estimate(cs.SIRF, timeout=60)"
   ]
  },
  {
   "cell_type": "code",
   "execution_count": 12,
   "metadata": {
    "execution": {
     "iopub.execute_input": "2021-02-07T15:55:19.036646Z",
     "iopub.status.busy": "2021-02-07T15:55:19.035405Z",
     "iopub.status.idle": "2021-02-07T15:55:19.040263Z",
     "shell.execute_reply": "2021-02-07T15:55:19.039550Z"
    }
   },
   "outputs": [],
   "source": [
    "# Show summary\n",
    "# analyser.summary(countries=countries_show)"
   ]
  },
  {
   "cell_type": "markdown",
   "metadata": {},
   "source": [
    "## Compare the history of parameters\n",
    "Here, compare the history of parameter values if countries."
   ]
  },
  {
   "cell_type": "code",
   "execution_count": 13,
   "metadata": {
    "execution": {
     "iopub.execute_input": "2021-02-07T15:55:19.045263Z",
     "iopub.status.busy": "2021-02-07T15:55:19.044594Z",
     "iopub.status.idle": "2021-02-07T15:55:19.047015Z",
     "shell.execute_reply": "2021-02-07T15:55:19.047707Z"
    }
   },
   "outputs": [],
   "source": [
    "# All parameter/day parameter/Rt/OxCGRT\n",
    "# analyser.track().head()"
   ]
  },
  {
   "cell_type": "markdown",
   "metadata": {},
   "source": [
    "### $Rt$: Reprodcution number $\\mathrm{[-]}$"
   ]
  },
  {
   "cell_type": "code",
   "execution_count": 14,
   "metadata": {
    "execution": {
     "iopub.execute_input": "2021-02-07T15:55:19.054934Z",
     "iopub.status.busy": "2021-02-07T15:55:19.053647Z",
     "iopub.status.idle": "2021-02-07T15:55:19.058620Z",
     "shell.execute_reply": "2021-02-07T15:55:19.056861Z"
    }
   },
   "outputs": [],
   "source": [
    "# analyser.history(\"Rt\", roll_window=None).tail()"
   ]
  },
  {
   "cell_type": "markdown",
   "metadata": {},
   "source": [
    "### $\\rho$: Effective contact rate $\\mathrm{[-]}$"
   ]
  },
  {
   "cell_type": "code",
   "execution_count": 15,
   "metadata": {
    "execution": {
     "iopub.execute_input": "2021-02-07T15:55:19.064600Z",
     "iopub.status.busy": "2021-02-07T15:55:19.063919Z",
     "iopub.status.idle": "2021-02-07T15:55:19.066614Z",
     "shell.execute_reply": "2021-02-07T15:55:19.067269Z"
    }
   },
   "outputs": [],
   "source": [
    "# analyser.history(\"rho\", roll_window=None).tail()"
   ]
  },
  {
   "cell_type": "markdown",
   "metadata": {},
   "source": [
    "### $\\sigma$: Recovery rate $\\mathrm{[-]}$"
   ]
  },
  {
   "cell_type": "code",
   "execution_count": 16,
   "metadata": {
    "execution": {
     "iopub.execute_input": "2021-02-07T15:55:19.074005Z",
     "iopub.status.busy": "2021-02-07T15:55:19.072711Z",
     "iopub.status.idle": "2021-02-07T15:55:19.076786Z",
     "shell.execute_reply": "2021-02-07T15:55:19.075966Z"
    }
   },
   "outputs": [],
   "source": [
    "# analyser.history(\"sigma\", roll_window=None).tail()"
   ]
  },
  {
   "cell_type": "markdown",
   "metadata": {},
   "source": [
    "### $\\kappa$: Mortality rate of infected cases $\\mathrm{[-]}$"
   ]
  },
  {
   "cell_type": "code",
   "execution_count": 17,
   "metadata": {
    "execution": {
     "iopub.execute_input": "2021-02-07T15:55:19.081646Z",
     "iopub.status.busy": "2021-02-07T15:55:19.080520Z",
     "iopub.status.idle": "2021-02-07T15:55:19.085364Z",
     "shell.execute_reply": "2021-02-07T15:55:19.086252Z"
    }
   },
   "outputs": [],
   "source": [
    "# analyser.history(\"kappa\", roll_window=None).tail()"
   ]
  },
  {
   "cell_type": "markdown",
   "metadata": {},
   "source": [
    "### $\\theta$: Mortality rate of S$^\\ast$ cases $\\mathrm{[-]}$"
   ]
  },
  {
   "cell_type": "code",
   "execution_count": 18,
   "metadata": {
    "execution": {
     "iopub.execute_input": "2021-02-07T15:55:19.092243Z",
     "iopub.status.busy": "2021-02-07T15:55:19.090976Z",
     "iopub.status.idle": "2021-02-07T15:55:19.094137Z",
     "shell.execute_reply": "2021-02-07T15:55:19.094763Z"
    }
   },
   "outputs": [],
   "source": [
    "# analyser.history(\"theta\", roll_window=None).tail()"
   ]
  },
  {
   "cell_type": "markdown",
   "metadata": {},
   "source": [
    "## (Experimental): Relationship of OxCGRT index and parameter values\n",
    "Government responses will impact on parameter values of ODE models about 14 days later. Here, we will investigate on the relationship of [stringency index (from OxCGRT)](https://github.com/OxCGRT/covid-policy-tracker/blob/master/documentation/index_methodology.md) and reproduction number/model parameters.\n"
   ]
  },
  {
   "cell_type": "code",
   "execution_count": 19,
   "metadata": {
    "execution": {
     "iopub.execute_input": "2021-02-07T15:55:19.106691Z",
     "iopub.status.busy": "2021-02-07T15:55:19.105971Z",
     "iopub.status.idle": "2021-02-07T15:55:19.112824Z",
     "shell.execute_reply": "2021-02-07T15:55:19.110060Z"
    }
   },
   "outputs": [],
   "source": [
    "%matplotlib inline\n",
    "from matplotlib import pyplot as plt\n",
    "import seaborn as sns\n",
    "import pandas as pd"
   ]
  },
  {
   "cell_type": "code",
   "execution_count": 20,
   "metadata": {
    "execution": {
     "iopub.execute_input": "2021-02-07T15:55:19.118437Z",
     "iopub.status.busy": "2021-02-07T15:55:19.117454Z",
     "iopub.status.idle": "2021-02-07T15:55:19.120223Z",
     "shell.execute_reply": "2021-02-07T15:55:19.120784Z"
    }
   },
   "outputs": [],
   "source": [
    "\"\"\"\n",
    "df = analyser.track()\n",
    "param_cols = [\"Rt\", *cs.SIRF.PARAMETERS]\n",
    "oxcgrt_cols = oxcgrt_data.OXCGRT_VARS[:]\n",
    "cols = param_cols + oxcgrt_cols\n",
    "delay = 14\n",
    "\n",
    "for col in param_cols:\n",
    "    df[col] = pd.to_numeric(df[col], errors=\"coerce\")\n",
    "    df[col] = df.groupby(\"Country\")[col].shift(0 - delay)\n",
    "\n",
    "df = df.dropna(how=\"any\")\n",
    "df = df.loc[:, [\"Date\", \"Country\", *cols]]\n",
    "track_df = df.copy()\n",
    "track_df.info()\n",
    "\"\"\"\n",
    "None"
   ]
  },
  {
   "cell_type": "code",
   "execution_count": 21,
   "metadata": {
    "execution": {
     "iopub.execute_input": "2021-02-07T15:55:19.127838Z",
     "iopub.status.busy": "2021-02-07T15:55:19.125960Z",
     "iopub.status.idle": "2021-02-07T15:55:19.129795Z",
     "shell.execute_reply": "2021-02-07T15:55:19.129164Z"
    }
   },
   "outputs": [],
   "source": [
    "# Correlation\n",
    "# df = track_df.copy()\n",
    "# df.corr().style.background_gradient(axis=None)"
   ]
  },
  {
   "cell_type": "code",
   "execution_count": 22,
   "metadata": {
    "execution": {
     "iopub.execute_input": "2021-02-07T15:55:19.136838Z",
     "iopub.status.busy": "2021-02-07T15:55:19.135647Z",
     "iopub.status.idle": "2021-02-07T15:55:19.139367Z",
     "shell.execute_reply": "2021-02-07T15:55:19.138705Z"
    }
   },
   "outputs": [],
   "source": [
    "\"\"\"\n",
    "# Scatter plot of Stringency index and Rt\n",
    "df = track_df.copy()\n",
    "sns.scatterplot(data=df, x=\"Stringency_index\", y=\"Rt\", hue=\"Country\", legend=\"brief\", marker=\"+\")\n",
    "bbox_to_anchor=(1.02, 0)\n",
    "bbox_loc=\"lower left\"\n",
    "plt.legend(bbox_to_anchor=bbox_to_anchor, loc=bbox_loc, borderaxespad=0)\n",
    "plt.title(\"Relationship of Stringency index and reproduction number\")\n",
    "plt.ylabel(\"Reproduction number\")\n",
    "plt.xlabel(\"Stringency index\")\n",
    "plt.show()\n",
    "\"\"\"\n",
    "None"
   ]
  }
 ],
 "metadata": {
  "kernelspec": {
   "display_name": "Python 3.9.1 64-bit ('.venv')",
   "metadata": {
    "interpreter": {
     "hash": "aa53c8c6e6798222a2084c11cc25017700a8d3ad495b587e3a634f357767115f"
    }
   },
   "name": "python3"
  },
  "language_info": {
   "codemirror_mode": {
    "name": "ipython",
    "version": 3
   },
   "file_extension": ".py",
   "mimetype": "text/x-python",
   "name": "python",
   "nbconvert_exporter": "python",
   "pygments_lexer": "ipython3",
   "version": "3.9.1"
  }
 },
 "nbformat": 4,
 "nbformat_minor": 2
}
