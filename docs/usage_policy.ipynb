{
 "cells": [
  {
   "cell_type": "markdown",
   "metadata": {},
   "source": [
    "# Usage (details: policy measures)\n",
    "Here, we will analyse the relationship of policy measures and parameter values of SIR-derived ODE models. Policy measures are tracked by [Oxford Covid-19 Government Response Tracker (OxCGRT)](https://github.com/OxCGRT/covid-policy-tracker)."
   ]
  },
  {
   "cell_type": "markdown",
   "metadata": {},
   "source": [
    "## Preparation"
   ]
  },
  {
   "cell_type": "code",
   "execution_count": 1,
   "metadata": {
    "collapsed": false
   },
   "outputs": [],
   "source": [
    "# Standard users\n",
    "# !pip install covsirphy\n",
    "# Developers (Note: this notebook is in example directory)\n",
    "import os\n",
    "os.chdir(\"../\")"
   ]
  },
  {
   "cell_type": "code",
   "execution_count": 2,
   "metadata": {
    "collapsed": false
   },
   "outputs": [],
   "source": [
    "from pprint import pprint"
   ]
  },
  {
   "cell_type": "code",
   "execution_count": 3,
   "metadata": {
    "collapsed": false
   },
   "outputs": [
    {
     "data": {
      "text/plain": [
       "'2.13.1'"
      ]
     },
     "execution_count": 3,
     "metadata": {},
     "output_type": "execute_result"
    }
   ],
   "source": [
    "import covsirphy as cs\n",
    "cs.__version__"
   ]
  },
  {
   "cell_type": "code",
   "execution_count": 4,
   "metadata": {
    "collapsed": false,
    "tags": []
   },
   "outputs": [
    {
     "name": "stdout",
     "output_type": "stream",
     "text": [
      "(Secondary source) Guidotti, E., Ardia, D., (2020), \"COVID-19 Data Hub\", Journal of Open Source Software 5(51):2376, doi: 10.21105/joss.02376.\n"
     ]
    }
   ],
   "source": [
    "# Standard users and developers\n",
    "data_loader = cs.DataLoader(\"input\")\n",
    "# The number of cases (JHU style)\n",
    "jhu_data = data_loader.jhu(verbose=False)\n",
    "# Population in each country\n",
    "population_data = data_loader.population(verbose=False)\n",
    "# Government Response Tracker (OxCGRT)\n",
    "oxcgrt_data = data_loader.oxcgrt(verbose=False)\n",
    "# Description/citation\n",
    "print(oxcgrt_data.citation)"
   ]
  },
  {
   "cell_type": "markdown",
   "metadata": {},
   "source": [
    "## Class for policy measure analysis\n",
    "We will `PolicyMeasures` class to find relationship of policy measures and parameter values of SIR-derived ODE models."
   ]
  },
  {
   "cell_type": "code",
   "execution_count": 5,
   "metadata": {
    "collapsed": false,
    "tags": []
   },
   "outputs": [
    {
     "data": {
      "text/plain": [
       "196"
      ]
     },
     "execution_count": 5,
     "metadata": {},
     "output_type": "execute_result"
    }
   ],
   "source": [
    "# Create analyser with tau value 360 [min] (can be changed)\n",
    "analyser = cs.PolicyMeasures(jhu_data, population_data, oxcgrt_data, tau=360)\n",
    "# The number of registerd countries\n",
    "len(analyser.countries)"
   ]
  },
  {
   "cell_type": "code",
   "execution_count": 6,
   "metadata": {
    "collapsed": false
   },
   "outputs": [
    {
     "data": {
      "text/plain": [
       "covsirphy.analysis.scenario.Scenario"
      ]
     },
     "execution_count": 6,
     "metadata": {},
     "output_type": "execute_result"
    }
   ],
   "source": [
    "# We can get Scenario instance for detailed scenario analysis\n",
    "type(analyser.scenario(\"Japan\"))"
   ]
  },
  {
   "cell_type": "markdown",
   "metadata": {},
   "source": [
    "## Set phases with S-R trend analysis\n",
    "We will perform S-R trend analysis to set phases in all countries. Countries which do not have **16th phases** will be un-registered for the next analysis. This number will be adjusted for your analysis."
   ]
  },
  {
   "cell_type": "code",
   "execution_count": 7,
   "metadata": {
    "collapsed": false
   },
   "outputs": [
    {
     "name": "stdout",
     "output_type": "stream",
     "text": [
      "{2: ['Laos', 'Holy See', 'Solomon Islands'],\n",
      " 3: ['Tanzania', 'Timor-Leste', 'Saint Kitts and Nevis'],\n",
      " 4: ['Brunei', 'Dominica', 'Saint Lucia'],\n",
      " 5: ['Grenada', 'Equatorial Guinea', 'Fiji'],\n",
      " 6: ['Mauritius', 'Antigua and Barbuda'],\n",
      " 7: ['Saint Vincent and the Grenadines', 'Cambodia', 'Gambia'],\n",
      " 8: ['Madagascar', 'Bahamas', 'Vietnam', 'Northern Mariana Islands',\n",
      "     'Trinidad and Tobago', 'Monaco', 'Kyrgyzstan', 'Seychelles'],\n",
      " 9: ['Zimbabwe', 'Sao Tome and Principe', 'Malawi', 'Barbados', 'Lesotho',\n",
      "     'Oman', 'Virgin Islands, U.S.', 'Burundi', 'Djibouti', 'Ghana',\n",
      "     'Australia', 'Zambia', 'Liechtenstein', 'Swaziland', 'Suriname',\n",
      "     'Kazakhstan', 'Republic of the Congo', 'Bolivia', 'Uzbekistan',\n",
      "     'South Africa'],\n",
      " 10: ['Guyana', 'Ethiopia', 'Bermuda', 'Chile', 'Angola', 'Liberia',\n",
      "      'Guatemala', \"Cote d'Ivoire\", 'Namibia', 'Bahrain', 'Libya',\n",
      "      'New Zealand', 'Philippines', 'Kuwait', 'Maldives', 'Venezuela',\n",
      "      'Singapore', 'Eritrea', 'Comoros', 'Bhutan', 'Mozambique', 'Senegal',\n",
      "      'Rwanda', 'Central African Republic', 'Honduras', 'Dominican Republic',\n",
      "      'Saudi Arabia', 'Jamaica', 'Papua New Guinea', 'Mongolia', 'Israel',\n",
      "      'Belize', 'Benin'],\n",
      " 11: ['Ecuador', 'Cape Verde', 'Iraq', 'Algeria', 'Brazil', 'Costa Rica',\n",
      "      'Yemen', 'Botswana', 'Argentina', 'India', 'Guinea-Bissau', 'Gabon',\n",
      "      'Togo', 'Cameroon', 'Mexico', 'Syria', 'Paraguay', 'Kenya', 'Nicaragua',\n",
      "      'Peru', 'Guam', 'Colombia', 'Sierra Leone', 'Andorra', 'El Salvador',\n",
      "      'Nigeria', 'Bangladesh', 'Jordan', 'Nepal', 'Iceland', 'Taiwan',\n",
      "      'Puerto Rico', 'Egypt', 'Niger'],\n",
      " 12: ['Georgia', 'Slovenia', 'Panama', 'Montenegro', 'Qatar', 'Sudan',\n",
      "      'Tajikistan', 'Croatia', 'Slovakia', 'Guinea', 'Kosovo', 'South Sudan',\n",
      "      'Chad', 'Pakistan', 'Democratic Republic of the Congo', 'Japan',\n",
      "      'Indonesia', 'Somalia'],\n",
      " 13: ['Hungary', 'China', 'Luxembourg', 'Uganda', 'Serbia', 'Latvia',\n",
      "      'Azerbaijan', 'Cyprus', 'Lithuania', 'Armenia', 'Cuba', 'Mali', 'Malta',\n",
      "      'Tunisia', 'Belarus', 'Burkina Faso', 'Moldova', 'Malaysia', 'Bulgaria',\n",
      "      'United Arab Emirates', 'Haiti', 'Russia', 'San Marino', 'Palestine'],\n",
      " 14: ['Thailand', 'Ireland', 'Sri Lanka', 'Myanmar', 'Norway', 'Morocco',\n",
      "      'Spain', 'Bosnia and Herzegovina', 'Mauritania', 'United States',\n",
      "      'Albania', 'Turkey', 'Poland', 'Greece', 'Afghanistan', 'Iran', 'Uruguay',\n",
      "      'Switzerland', 'Czech Republic'],\n",
      " 15: ['Austria', 'Italy', 'Estonia', 'Sweden', 'Lebanon', 'Netherlands',\n",
      "      'North Macedonia'],\n",
      " 16: ['Finland', 'France', 'Ukraine', 'Germany', 'Portugal', 'Canada',\n",
      "      'Romania', 'Denmark', 'Belgium'],\n",
      " 17: ['United Kingdom']}\n"
     ]
    }
   ],
   "source": [
    "# Show the number of phases of all countries\n",
    "analyser.trend()\n",
    "pprint(analyser.phase_len(), compact=True)"
   ]
  },
  {
   "cell_type": "code",
   "execution_count": 8,
   "metadata": {
    "collapsed": false
   },
   "outputs": [
    {
     "data": {
      "text/plain": [
       "10"
      ]
     },
     "execution_count": 8,
     "metadata": {},
     "output_type": "execute_result"
    }
   ],
   "source": [
    "# Set phases with S-R trend analysis\n",
    "analyser.trend(min_len=16)\n",
    "# The number of countries\n",
    "len(analyser.countries)"
   ]
  },
  {
   "cell_type": "code",
   "execution_count": 9,
   "metadata": {
    "collapsed": false,
    "tags": []
   },
   "outputs": [
    {
     "name": "stdout",
     "output_type": "stream",
     "text": [
      "{16: ['Finland', 'France', 'Ukraine', 'Germany', 'Portugal', 'Canada',\n",
      "      'Romania', 'Denmark', 'Belgium'],\n",
      " 17: ['United Kingdom']}\n"
     ]
    }
   ],
   "source": [
    "phase_len_dict = analyser.phase_len()\n",
    "pprint(phase_len_dict, compact=True)"
   ]
  },
  {
   "cell_type": "code",
   "execution_count": 10,
   "metadata": {
    "collapsed": false,
    "tags": []
   },
   "outputs": [
    {
     "data": {
      "text/html": [
       "<div>\n",
       "<style scoped>\n",
       "    .dataframe tbody tr th:only-of-type {\n",
       "        vertical-align: middle;\n",
       "    }\n",
       "\n",
       "    .dataframe tbody tr th {\n",
       "        vertical-align: top;\n",
       "    }\n",
       "\n",
       "    .dataframe thead th {\n",
       "        text-align: right;\n",
       "    }\n",
       "</style>\n",
       "<table border=\"1\" class=\"dataframe\">\n",
       "  <thead>\n",
       "    <tr style=\"text-align: right;\">\n",
       "      <th></th>\n",
       "      <th></th>\n",
       "      <th>Type</th>\n",
       "      <th>Start</th>\n",
       "      <th>End</th>\n",
       "      <th>Population</th>\n",
       "    </tr>\n",
       "    <tr>\n",
       "      <th>Country</th>\n",
       "      <th>Phase</th>\n",
       "      <th></th>\n",
       "      <th></th>\n",
       "      <th></th>\n",
       "      <th></th>\n",
       "    </tr>\n",
       "  </thead>\n",
       "  <tbody>\n",
       "    <tr>\n",
       "      <th rowspan=\"17\" valign=\"top\">United Kingdom</th>\n",
       "      <th>0th</th>\n",
       "      <td>Past</td>\n",
       "      <td>14Feb2020</td>\n",
       "      <td>08Apr2020</td>\n",
       "      <td>66460344</td>\n",
       "    </tr>\n",
       "    <tr>\n",
       "      <th>1st</th>\n",
       "      <td>Past</td>\n",
       "      <td>09Apr2020</td>\n",
       "      <td>29Apr2020</td>\n",
       "      <td>66460344</td>\n",
       "    </tr>\n",
       "    <tr>\n",
       "      <th>2nd</th>\n",
       "      <td>Past</td>\n",
       "      <td>30Apr2020</td>\n",
       "      <td>25May2020</td>\n",
       "      <td>66460344</td>\n",
       "    </tr>\n",
       "    <tr>\n",
       "      <th>3rd</th>\n",
       "      <td>Past</td>\n",
       "      <td>26May2020</td>\n",
       "      <td>01Aug2020</td>\n",
       "      <td>66460344</td>\n",
       "    </tr>\n",
       "    <tr>\n",
       "      <th>4th</th>\n",
       "      <td>Past</td>\n",
       "      <td>02Aug2020</td>\n",
       "      <td>14Sep2020</td>\n",
       "      <td>66460344</td>\n",
       "    </tr>\n",
       "    <tr>\n",
       "      <th>5th</th>\n",
       "      <td>Past</td>\n",
       "      <td>15Sep2020</td>\n",
       "      <td>02Oct2020</td>\n",
       "      <td>66460344</td>\n",
       "    </tr>\n",
       "    <tr>\n",
       "      <th>6th</th>\n",
       "      <td>Past</td>\n",
       "      <td>03Oct2020</td>\n",
       "      <td>11Oct2020</td>\n",
       "      <td>66460344</td>\n",
       "    </tr>\n",
       "    <tr>\n",
       "      <th>7th</th>\n",
       "      <td>Past</td>\n",
       "      <td>12Oct2020</td>\n",
       "      <td>18Oct2020</td>\n",
       "      <td>66460344</td>\n",
       "    </tr>\n",
       "    <tr>\n",
       "      <th>8th</th>\n",
       "      <td>Past</td>\n",
       "      <td>19Oct2020</td>\n",
       "      <td>24Oct2020</td>\n",
       "      <td>66460344</td>\n",
       "    </tr>\n",
       "    <tr>\n",
       "      <th>9th</th>\n",
       "      <td>Past</td>\n",
       "      <td>25Oct2020</td>\n",
       "      <td>30Oct2020</td>\n",
       "      <td>66460344</td>\n",
       "    </tr>\n",
       "    <tr>\n",
       "      <th>10th</th>\n",
       "      <td>Past</td>\n",
       "      <td>31Oct2020</td>\n",
       "      <td>05Nov2020</td>\n",
       "      <td>66460344</td>\n",
       "    </tr>\n",
       "    <tr>\n",
       "      <th>11th</th>\n",
       "      <td>Past</td>\n",
       "      <td>06Nov2020</td>\n",
       "      <td>11Nov2020</td>\n",
       "      <td>66460344</td>\n",
       "    </tr>\n",
       "    <tr>\n",
       "      <th>12th</th>\n",
       "      <td>Past</td>\n",
       "      <td>12Nov2020</td>\n",
       "      <td>17Nov2020</td>\n",
       "      <td>66460344</td>\n",
       "    </tr>\n",
       "    <tr>\n",
       "      <th>13th</th>\n",
       "      <td>Past</td>\n",
       "      <td>18Nov2020</td>\n",
       "      <td>23Nov2020</td>\n",
       "      <td>66460344</td>\n",
       "    </tr>\n",
       "    <tr>\n",
       "      <th>14th</th>\n",
       "      <td>Past</td>\n",
       "      <td>24Nov2020</td>\n",
       "      <td>02Dec2020</td>\n",
       "      <td>66460344</td>\n",
       "    </tr>\n",
       "    <tr>\n",
       "      <th>15th</th>\n",
       "      <td>Past</td>\n",
       "      <td>03Dec2020</td>\n",
       "      <td>09Dec2020</td>\n",
       "      <td>66460344</td>\n",
       "    </tr>\n",
       "    <tr>\n",
       "      <th>16th</th>\n",
       "      <td>Past</td>\n",
       "      <td>10Dec2020</td>\n",
       "      <td>16Dec2020</td>\n",
       "      <td>66460344</td>\n",
       "    </tr>\n",
       "  </tbody>\n",
       "</table>\n",
       "</div>"
      ],
      "text/plain": [
       "                      Type      Start        End  Population\n",
       "Country        Phase                                        \n",
       "United Kingdom 0th    Past  14Feb2020  08Apr2020    66460344\n",
       "               1st    Past  09Apr2020  29Apr2020    66460344\n",
       "               2nd    Past  30Apr2020  25May2020    66460344\n",
       "               3rd    Past  26May2020  01Aug2020    66460344\n",
       "               4th    Past  02Aug2020  14Sep2020    66460344\n",
       "               5th    Past  15Sep2020  02Oct2020    66460344\n",
       "               6th    Past  03Oct2020  11Oct2020    66460344\n",
       "               7th    Past  12Oct2020  18Oct2020    66460344\n",
       "               8th    Past  19Oct2020  24Oct2020    66460344\n",
       "               9th    Past  25Oct2020  30Oct2020    66460344\n",
       "               10th   Past  31Oct2020  05Nov2020    66460344\n",
       "               11th   Past  06Nov2020  11Nov2020    66460344\n",
       "               12th   Past  12Nov2020  17Nov2020    66460344\n",
       "               13th   Past  18Nov2020  23Nov2020    66460344\n",
       "               14th   Past  24Nov2020  02Dec2020    66460344\n",
       "               15th   Past  03Dec2020  09Dec2020    66460344\n",
       "               16th   Past  10Dec2020  16Dec2020    66460344"
      ]
     },
     "execution_count": 10,
     "metadata": {},
     "output_type": "execute_result"
    }
   ],
   "source": [
    "# Here, only show the countries which have the most phases\n",
    "countries_show = max(phase_len_dict.items(), key=lambda x: x[0])[1]\n",
    "# Show summary\n",
    "analyser.summary(countries=countries_show)"
   ]
  },
  {
   "cell_type": "markdown",
   "metadata": {},
   "source": [
    "## Parameter estimation\n",
    "we will estimate the parameter values with SIR-derived ODE models in each country."
   ]
  },
  {
   "cell_type": "code",
   "execution_count": 11,
   "metadata": {
    "collapsed": false,
    "tags": []
   },
   "outputs": [
    {
     "name": "stdout",
     "output_type": "stream",
     "text": [
      "\n",
      "<SIR-F model: parameter estimation>\n",
      "Running optimization with 4 CPUs...\n"
     ]
    },
    {
     "name": "stdout",
     "output_type": "stream",
     "text": [
      "\tGBR,  1st phase (09Apr2020 - 29Apr2020): finished  197 trials in 0 min 10 sec"
     ]
    },
    {
     "name": "stdout",
     "output_type": "stream",
     "text": [
      "\n"
     ]
    },
    {
     "name": "stdout",
     "output_type": "stream",
     "text": [
      "\tCAN,  1st phase (14Apr2020 - 29Apr2020): finished  204 trials in 0 min 10 sec"
     ]
    },
    {
     "name": "stdout",
     "output_type": "stream",
     "text": [
      "\n"
     ]
    },
    {
     "name": "stdout",
     "output_type": "stream",
     "text": [
      "\tBEL, 12th phase (09Nov2020 - 15Nov2020): finished  204 trials in 0 min 10 sec"
     ]
    },
    {
     "name": "stdout",
     "output_type": "stream",
     "text": [
      "\n"
     ]
    },
    {
     "name": "stdout",
     "output_type": "stream",
     "text": [
      "\tFRA,  6th phase (22Sep2020 - 30Sep2020): finished  209 trials in 0 min 10 sec"
     ]
    },
    {
     "name": "stdout",
     "output_type": "stream",
     "text": [
      "\n"
     ]
    },
    {
     "name": "stdout",
     "output_type": "stream",
     "text": [
      "\tFIN,  7th phase (05Oct2020 - 13Oct2020): finished  166 trials in 0 min 10 sec"
     ]
    },
    {
     "name": "stdout",
     "output_type": "stream",
     "text": [
      "\n"
     ]
    },
    {
     "name": "stdout",
     "output_type": "stream",
     "text": [
      "\tGBR,  6th phase (03Oct2020 - 11Oct2020): finished  168 trials in 0 min 10 sec"
     ]
    },
    {
     "name": "stdout",
     "output_type": "stream",
     "text": [
      "\n"
     ]
    },
    {
     "name": "stdout",
     "output_type": "stream",
     "text": [
      "\tDEU, 15th phase (10Dec2020 - 16Dec2020): finished  166 trials in 0 min 10 sec"
     ]
    },
    {
     "name": "stdout",
     "output_type": "stream",
     "text": [
      "\n"
     ]
    },
    {
     "name": "stdout",
     "output_type": "stream",
     "text": [
      "\tPRT,  4th phase (03Jul2020 - 11Aug2020): finished  155 trials in 0 min 10 sec"
     ]
    },
    {
     "name": "stdout",
     "output_type": "stream",
     "text": [
      "\n"
     ]
    },
    {
     "name": "stdout",
     "output_type": "stream",
     "text": [
      "\tROU, 14th phase (03Dec2020 - 08Dec2020): finished  184 trials in 0 min 10 sec"
     ]
    },
    {
     "name": "stdout",
     "output_type": "stream",
     "text": [
      "\n"
     ]
    },
    {
     "name": "stdout",
     "output_type": "stream",
     "text": [
      "\tFRA,  5th phase (10Sep2020 - 21Sep2020): finished  180 trials in 0 min 10 sec"
     ]
    },
    {
     "name": "stdout",
     "output_type": "stream",
     "text": [
      "\n"
     ]
    },
    {
     "name": "stdout",
     "output_type": "stream",
     "text": [
      "\tROU, 10th phase (05Nov2020 - 11Nov2020): finished  187 trials in 0 min 10 sec"
     ]
    },
    {
     "name": "stdout",
     "output_type": "stream",
     "text": [
      "\n"
     ]
    },
    {
     "name": "stdout",
     "output_type": "stream",
     "text": [
      "\tFRA, 11th phase (01Nov2020 - 10Nov2020): finished  181 trials in 0 min 10 sec"
     ]
    },
    {
     "name": "stdout",
     "output_type": "stream",
     "text": [
      "\n"
     ]
    },
    {
     "name": "stdout",
     "output_type": "stream",
     "text": [
      "\tDEU,  4th phase (16Jun2020 - 11Aug2020): finished  176 trials in 0 min 10 sec"
     ]
    },
    {
     "name": "stdout",
     "output_type": "stream",
     "text": [
      "\n"
     ]
    },
    {
     "name": "stdout",
     "output_type": "stream",
     "text": [
      "\tDEU, 10th phase (28Oct2020 - 02Nov2020): finished  199 trials in 0 min 10 sec"
     ]
    },
    {
     "name": "stdout",
     "output_type": "stream",
     "text": [
      "\n"
     ]
    },
    {
     "name": "stdout",
     "output_type": "stream",
     "text": [
      "\tGBR,  9th phase (25Oct2020 - 30Oct2020): finished  185 trials in 0 min 10 sec"
     ]
    },
    {
     "name": "stdout",
     "output_type": "stream",
     "text": [
      "\n"
     ]
    },
    {
     "name": "stdout",
     "output_type": "stream",
     "text": [
      "\tBEL, 14th phase (25Nov2020 - 05Dec2020): finished  195 trials in 0 min 10 sec"
     ]
    },
    {
     "name": "stdout",
     "output_type": "stream",
     "text": [
      "\n"
     ]
    },
    {
     "name": "stdout",
     "output_type": "stream",
     "text": [
      "\tDNK,  2nd phase (03May2020 - 12Jun2020): finished  172 trials in 0 min 10 sec"
     ]
    },
    {
     "name": "stdout",
     "output_type": "stream",
     "text": [
      "\n"
     ]
    },
    {
     "name": "stdout",
     "output_type": "stream",
     "text": [
      "\tDNK,  3rd phase (13Jun2020 - 09Aug2020): finished  163 trials in 0 min 10 sec"
     ]
    },
    {
     "name": "stdout",
     "output_type": "stream",
     "text": [
      "\n"
     ]
    },
    {
     "name": "stdout",
     "output_type": "stream",
     "text": [
      "\tGBR,  7th phase (12Oct2020 - 18Oct2020): finished  181 trials in 0 min 10 sec"
     ]
    },
    {
     "name": "stdout",
     "output_type": "stream",
     "text": [
      "\n"
     ]
    },
    {
     "name": "stdout",
     "output_type": "stream",
     "text": [
      "\tDEU,  2nd phase (05Apr2020 - 21Apr2020): finished  168 trials in 0 min 10 sec"
     ]
    },
    {
     "name": "stdout",
     "output_type": "stream",
     "text": [
      "\n"
     ]
    },
    {
     "name": "stdout",
     "output_type": "stream",
     "text": [
      "\tDNK,  9th phase (23Oct2020 - 29Oct2020): finished  187 trials in 0 min 10 sec"
     ]
    },
    {
     "name": "stdout",
     "output_type": "stream",
     "text": [
      "\n"
     ]
    },
    {
     "name": "stdout",
     "output_type": "stream",
     "text": [
      "\tCAN,  3rd phase (17May2020 - 07Jun2020): finished  180 trials in 0 min 10 sec"
     ]
    },
    {
     "name": "stdout",
     "output_type": "stream",
     "text": [
      "\n"
     ]
    },
    {
     "name": "stdout",
     "output_type": "stream",
     "text": [
      "\tCAN, 12th phase (20Nov2020 - 26Nov2020): finished  182 trials in 0 min 10 sec"
     ]
    },
    {
     "name": "stdout",
     "output_type": "stream",
     "text": [
      "\n"
     ]
    },
    {
     "name": "stdout",
     "output_type": "stream",
     "text": [
      "\tROU,  8th phase (21Oct2020 - 28Oct2020): finished  177 trials in 0 min 10 sec"
     ]
    },
    {
     "name": "stdout",
     "output_type": "stream",
     "text": [
      "\n"
     ]
    },
    {
     "name": "stdout",
     "output_type": "stream",
     "text": [
      "\tROU,  1st phase (02May2020 - 07Jul2020): finished  178 trials in 0 min 10 sec"
     ]
    },
    {
     "name": "stdout",
     "output_type": "stream",
     "text": [
      "\n"
     ]
    },
    {
     "name": "stdout",
     "output_type": "stream",
     "text": [
      "\tGBR, 15th phase (03Dec2020 - 09Dec2020): finished  191 trials in 0 min 10 sec"
     ]
    },
    {
     "name": "stdout",
     "output_type": "stream",
     "text": [
      "\n"
     ]
    },
    {
     "name": "stdout",
     "output_type": "stream",
     "text": [
      "\tBEL,  8th phase (06Oct2020 - 11Oct2020): finished  195 trials in 0 min 10 sec"
     ]
    },
    {
     "name": "stdout",
     "output_type": "stream",
     "text": [
      "\n"
     ]
    },
    {
     "name": "stdout",
     "output_type": "stream",
     "text": [
      "\tPRT,  0th phase (14Mar2020 - 03Apr2020): finished  180 trials in 0 min 10 sec"
     ]
    },
    {
     "name": "stdout",
     "output_type": "stream",
     "text": [
      "\n"
     ]
    },
    {
     "name": "stdout",
     "output_type": "stream",
     "text": [
      "\tCAN,  5th phase (26Jul2020 - 06Sep2020): finished  176 trials in 0 min 10 sec"
     ]
    },
    {
     "name": "stdout",
     "output_type": "stream",
     "text": [
      "\n"
     ]
    },
    {
     "name": "stdout",
     "output_type": "stream",
     "text": [
      "\tROU,  9th phase (29Oct2020 - 04Nov2020): finished  195 trials in 0 min 10 sec"
     ]
    },
    {
     "name": "stdout",
     "output_type": "stream",
     "text": [
      "\n"
     ]
    },
    {
     "name": "stdout",
     "output_type": "stream",
     "text": [
      "\tDEU, 11th phase (03Nov2020 - 12Nov2020): finished  196 trials in 0 min 10 sec"
     ]
    },
    {
     "name": "stdout",
     "output_type": "stream",
     "text": [
      "\n"
     ]
    },
    {
     "name": "stdout",
     "output_type": "stream",
     "text": [
      "\tGBR,  4th phase (02Aug2020 - 14Sep2020): finished  178 trials in 0 min 10 sec"
     ]
    },
    {
     "name": "stdout",
     "output_type": "stream",
     "text": [
      "\n"
     ]
    },
    {
     "name": "stdout",
     "output_type": "stream",
     "text": [
      "\tFRA,  2nd phase (28Apr2020 - 29Jul2020): finished  168 trials in 0 min 10 sec"
     ]
    },
    {
     "name": "stdout",
     "output_type": "stream",
     "text": [
      "\n"
     ]
    },
    {
     "name": "stdout",
     "output_type": "stream",
     "text": [
      "\tDEU,  1st phase (24Mar2020 - 04Apr2020): finished  188 trials in 0 min 10 sec"
     ]
    },
    {
     "name": "stdout",
     "output_type": "stream",
     "text": [
      "\tGBR, 14th phase (24Nov2020 - 02Dec2020): finished  195 trials in 0 min 10 sec"
     ]
    },
    {
     "name": "stdout",
     "output_type": "stream",
     "text": [
      "\n"
     ]
    },
    {
     "name": "stdout",
     "output_type": "stream",
     "text": [
      "\n"
     ]
    },
    {
     "name": "stdout",
     "output_type": "stream",
     "text": [
      "\tUKR,  6th phase (01Oct2020 - 11Oct2020): finished  186 trials in 0 min 10 sec"
     ]
    },
    {
     "name": "stdout",
     "output_type": "stream",
     "text": [
      "\n"
     ]
    },
    {
     "name": "stdout",
     "output_type": "stream",
     "text": [
      "\tBEL,  7th phase (28Sep2020 - 05Oct2020): finished  202 trials in 0 min 10 sec"
     ]
    },
    {
     "name": "stdout",
     "output_type": "stream",
     "text": [
      "\n"
     ]
    },
    {
     "name": "stdout",
     "output_type": "stream",
     "text": [
      "\tPRT,  5th phase (12Aug2020 - 11Sep2020): finished  189 trials in 0 min 10 sec"
     ]
    },
    {
     "name": "stdout",
     "output_type": "stream",
     "text": [
      "\n"
     ]
    },
    {
     "name": "stdout",
     "output_type": "stream",
     "text": [
      "\tFIN,  1st phase (05Apr2020 - 19Apr2020): finished  191 trials in 0 min 10 sec"
     ]
    },
    {
     "name": "stdout",
     "output_type": "stream",
     "text": [
      "\n"
     ]
    },
    {
     "name": "stdout",
     "output_type": "stream",
     "text": [
      "\tUKR,  5th phase (17Sep2020 - 30Sep2020): finished  198 trials in 0 min 10 sec"
     ]
    },
    {
     "name": "stdout",
     "output_type": "stream",
     "text": [
      "\n"
     ]
    },
    {
     "name": "stdout",
     "output_type": "stream",
     "text": [
      "\tDNK,  0th phase (19Mar2020 - 12Apr2020): finished  184 trials in 0 min 10 sec"
     ]
    },
    {
     "name": "stdout",
     "output_type": "stream",
     "text": [
      "\n"
     ]
    },
    {
     "name": "stdout",
     "output_type": "stream",
     "text": [
      "\tUKR,  7th phase (12Oct2020 - 21Oct2020): finished  189 trials in 0 min 10 sec"
     ]
    },
    {
     "name": "stdout",
     "output_type": "stream",
     "text": [
      "\n"
     ]
    },
    {
     "name": "stdout",
     "output_type": "stream",
     "text": [
      "\tBEL,  1st phase (02Apr2020 - 14Apr2020): finished  188 trials in 0 min 10 sec"
     ]
    },
    {
     "name": "stdout",
     "output_type": "stream",
     "text": [
      "\n"
     ]
    },
    {
     "name": "stdout",
     "output_type": "stream",
     "text": [
      "\tFRA,  7th phase (01Oct2020 - 08Oct2020): finished  188 trials in 0 min 10 sec"
     ]
    },
    {
     "name": "stdout",
     "output_type": "stream",
     "text": [
      "\n"
     ]
    },
    {
     "name": "stdout",
     "output_type": "stream",
     "text": [
      "\tFIN,  6th phase (21Sep2020 - 04Oct2020): finished  190 trials in 0 min 10 sec"
     ]
    },
    {
     "name": "stdout",
     "output_type": "stream",
     "text": [
      "\n"
     ]
    },
    {
     "name": "stdout",
     "output_type": "stream",
     "text": [
      "\tROU,  5th phase (10Sep2020 - 29Sep2020): finished  187 trials in 0 min 10 sec"
     ]
    },
    {
     "name": "stdout",
     "output_type": "stream",
     "text": [
      "\n"
     ]
    },
    {
     "name": "stdout",
     "output_type": "stream",
     "text": [
      "\tCAN,  8th phase (12Oct2020 - 24Oct2020): finished  186 trials in 0 min 10 sec"
     ]
    },
    {
     "name": "stdout",
     "output_type": "stream",
     "text": [
      "\n"
     ]
    },
    {
     "name": "stdout",
     "output_type": "stream",
     "text": [
      "\tDEU,  0th phase (14Jan2020 - 23Mar2020): finished  180 trials in 0 min 10 sec"
     ]
    },
    {
     "name": "stdout",
     "output_type": "stream",
     "text": [
      "\n"
     ]
    },
    {
     "name": "stdout",
     "output_type": "stream",
     "text": [
      "\tDNK,  8th phase (13Oct2020 - 22Oct2020): finished  192 trials in 0 min 10 sec"
     ]
    },
    {
     "name": "stdout",
     "output_type": "stream",
     "text": [
      "\n"
     ]
    },
    {
     "name": "stdout",
     "output_type": "stream",
     "text": [
      "\tCAN,  4th phase (08Jun2020 - 25Jul2020): finished  180 trials in 0 min 10 sec"
     ]
    },
    {
     "name": "stdout",
     "output_type": "stream",
     "text": [
      "\n"
     ]
    },
    {
     "name": "stdout",
     "output_type": "stream",
     "text": [
      "\tDEU,  7th phase (01Oct2020 - 13Oct2020): finished  190 trials in 0 min 10 sec"
     ]
    },
    {
     "name": "stdout",
     "output_type": "stream",
     "text": [
      "\n"
     ]
    },
    {
     "name": "stdout",
     "output_type": "stream",
     "text": [
      "\tBEL,  0th phase (21Mar2020 - 01Apr2020): finished  192 trials in 0 min 10 sec"
     ]
    },
    {
     "name": "stdout",
     "output_type": "stream",
     "text": [
      "\n"
     ]
    },
    {
     "name": "stdout",
     "output_type": "stream",
     "text": [
      "\tUKR,  8th phase (22Oct2020 - 29Oct2020): finished  182 trials in 0 min 10 sec"
     ]
    },
    {
     "name": "stdout",
     "output_type": "stream",
     "text": [
      "\n"
     ]
    },
    {
     "name": "stdout",
     "output_type": "stream",
     "text": [
      "\tCAN,  0th phase (26Mar2020 - 13Apr2020): finished  174 trials in 0 min 10 sec"
     ]
    },
    {
     "name": "stdout",
     "output_type": "stream",
     "text": [
      "\n"
     ]
    },
    {
     "name": "stdout",
     "output_type": "stream",
     "text": [
      "\tBEL, 13th phase (16Nov2020 - 24Nov2020): finished  188 trials in 0 min 10 sec"
     ]
    },
    {
     "name": "stdout",
     "output_type": "stream",
     "text": [
      "\n"
     ]
    },
    {
     "name": "stdout",
     "output_type": "stream",
     "text": [
      "\tFIN,  4th phase (27May2020 - 18Aug2020): finished  171 trials in 0 min 10 sec"
     ]
    },
    {
     "name": "stdout",
     "output_type": "stream",
     "text": [
      "\n"
     ]
    },
    {
     "name": "stdout",
     "output_type": "stream",
     "text": [
      "\tGBR,  8th phase (19Oct2020 - 24Oct2020): finished  171 trials in 0 min 10 sec"
     ]
    },
    {
     "name": "stdout",
     "output_type": "stream",
     "text": [
      "\n"
     ]
    },
    {
     "name": "stdout",
     "output_type": "stream",
     "text": [
      "\tPRT,  6th phase (12Sep2020 - 30Sep2020): finished  163 trials in 0 min 10 sec"
     ]
    },
    {
     "name": "stdout",
     "output_type": "stream",
     "text": [
      "\n"
     ]
    },
    {
     "name": "stdout",
     "output_type": "stream",
     "text": [
      "\tGBR, 13th phase (18Nov2020 - 23Nov2020): finished  159 trials in 0 min 10 sec"
     ]
    },
    {
     "name": "stdout",
     "output_type": "stream",
     "text": [
      "\n"
     ]
    },
    {
     "name": "stdout",
     "output_type": "stream",
     "text": [
      "\tBEL,  6th phase (15Sep2020 - 27Sep2020): finished  164 trials in 0 min 10 sec"
     ]
    },
    {
     "name": "stdout",
     "output_type": "stream",
     "text": [
      "\n"
     ]
    },
    {
     "name": "stdout",
     "output_type": "stream",
     "text": [
      "\tFRA,  4th phase (27Aug2020 - 09Sep2020): finished  174 trials in 0 min 10 sec"
     ]
    },
    {
     "name": "stdout",
     "output_type": "stream",
     "text": [
      "\n"
     ]
    },
    {
     "name": "stdout",
     "output_type": "stream",
     "text": [
      "\tFRA, 14th phase (26Nov2020 - 06Dec2020): finished  178 trials in 0 min 10 sec"
     ]
    },
    {
     "name": "stdout",
     "output_type": "stream",
     "text": [
      "\n"
     ]
    },
    {
     "name": "stdout",
     "output_type": "stream",
     "text": [
      "\tFRA, 15th phase (07Dec2020 - 16Dec2020): finished  180 trials in 0 min 10 sec"
     ]
    },
    {
     "name": "stdout",
     "output_type": "stream",
     "text": [
      "\n"
     ]
    },
    {
     "name": "stdout",
     "output_type": "stream",
     "text": [
      "\tGBR,  0th phase (14Feb2020 - 08Apr2020): finished  175 trials in 0 min 10 sec"
     ]
    },
    {
     "name": "stdout",
     "output_type": "stream",
     "text": [
      "\n"
     ]
    },
    {
     "name": "stdout",
     "output_type": "stream",
     "text": [
      "\tCAN,  6th phase (07Sep2020 - 27Sep2020): finished  166 trials in 0 min 10 sec"
     ]
    },
    {
     "name": "stdout",
     "output_type": "stream",
     "text": [
      "\n"
     ]
    },
    {
     "name": "stdout",
     "output_type": "stream",
     "text": [
      "\tDNK,  6th phase (21Sep2020 - 30Sep2020): finished  160 trials in 0 min 10 sec"
     ]
    },
    {
     "name": "stdout",
     "output_type": "stream",
     "text": [
      "\n"
     ]
    },
    {
     "name": "stdout",
     "output_type": "stream",
     "text": [
      "\tUKR, 10th phase (06Nov2020 - 12Nov2020): finished  153 trials in 0 min 10 sec"
     ]
    },
    {
     "name": "stdout",
     "output_type": "stream",
     "text": [
      "\n"
     ]
    },
    {
     "name": "stdout",
     "output_type": "stream",
     "text": [
      "\tDEU,  9th phase (22Oct2020 - 27Oct2020): finished  159 trials in 0 min 10 sec"
     ]
    },
    {
     "name": "stdout",
     "output_type": "stream",
     "text": [
      "\n"
     ]
    },
    {
     "name": "stdout",
     "output_type": "stream",
     "text": [
      "\tFIN,  0th phase (16Mar2020 - 04Apr2020): finished  157 trials in 0 min 10 sec"
     ]
    },
    {
     "name": "stdout",
     "output_type": "stream",
     "text": [
      "\n"
     ]
    },
    {
     "name": "stdout",
     "output_type": "stream",
     "text": [
      "\tDNK,  7th phase (01Oct2020 - 12Oct2020): finished  147 trials in 0 min 10 sec"
     ]
    },
    {
     "name": "stdout",
     "output_type": "stream",
     "text": [
      "\n"
     ]
    },
    {
     "name": "stdout",
     "output_type": "stream",
     "text": [
      "\tFRA, 12th phase (11Nov2020 - 16Nov2020): finished  158 trials in 0 min 10 sec"
     ]
    },
    {
     "name": "stdout",
     "output_type": "stream",
     "text": [
      "\n"
     ]
    },
    {
     "name": "stdout",
     "output_type": "stream",
     "text": [
      "\tPRT,  2nd phase (23Apr2020 - 01Jun2020): finished  155 trials in 0 min 10 sec"
     ]
    },
    {
     "name": "stdout",
     "output_type": "stream",
     "text": [
      "\n"
     ]
    },
    {
     "name": "stdout",
     "output_type": "stream",
     "text": [
      "\tBEL,  5th phase (23Aug2020 - 14Sep2020): finished  181 trials in 0 min 10 sec"
     ]
    },
    {
     "name": "stdout",
     "output_type": "stream",
     "text": [
      "\n"
     ]
    },
    {
     "name": "stdout",
     "output_type": "stream",
     "text": [
      "\tROU, 11th phase (12Nov2020 - 17Nov2020): finished  188 trials in 0 min 10 sec"
     ]
    },
    {
     "name": "stdout",
     "output_type": "stream",
     "text": [
      "\n"
     ]
    },
    {
     "name": "stdout",
     "output_type": "stream",
     "text": [
      "\tUKR,  1st phase (31May2020 - 08Jul2020): finished  184 trials in 0 min 10 sec"
     ]
    },
    {
     "name": "stdout",
     "output_type": "stream",
     "text": [
      "\n"
     ]
    },
    {
     "name": "stdout",
     "output_type": "stream",
     "text": [
      "\tCAN, 13th phase (27Nov2020 - 03Dec2020): finished  185 trials in 0 min 10 sec"
     ]
    },
    {
     "name": "stdout",
     "output_type": "stream",
     "text": [
      "\n"
     ]
    },
    {
     "name": "stdout",
     "output_type": "stream",
     "text": [
      "\tROU,  4th phase (20Aug2020 - 09Sep2020): finished  191 trials in 0 min 10 sec"
     ]
    },
    {
     "name": "stdout",
     "output_type": "stream",
     "text": [
      "\n"
     ]
    },
    {
     "name": "stdout",
     "output_type": "stream",
     "text": [
      "\tGBR, 10th phase (31Oct2020 - 05Nov2020): finished  190 trials in 0 min 10 sec"
     ]
    },
    {
     "name": "stdout",
     "output_type": "stream",
     "text": [
      "\n"
     ]
    },
    {
     "name": "stdout",
     "output_type": "stream",
     "text": [
      "\tDNK,  4th phase (10Aug2020 - 08Sep2020): finished  182 trials in 0 min 10 sec"
     ]
    },
    {
     "name": "stdout",
     "output_type": "stream",
     "text": [
      "\n"
     ]
    },
    {
     "name": "stdout",
     "output_type": "stream",
     "text": [
      "\tUKR,  3rd phase (12Aug2020 - 31Aug2020): finished  190 trials in 0 min 10 sec"
     ]
    },
    {
     "name": "stdout",
     "output_type": "stream",
     "text": [
      "\n"
     ]
    },
    {
     "name": "stdout",
     "output_type": "stream",
     "text": [
      "\tDNK, 15th phase (01Dec2020 - 16Dec2020): finished  179 trials in 0 min 10 sec"
     ]
    },
    {
     "name": "stdout",
     "output_type": "stream",
     "text": [
      "\n"
     ]
    },
    {
     "name": "stdout",
     "output_type": "stream",
     "text": [
      "\tDNK, 10th phase (30Oct2020 - 04Nov2020): finished  187 trials in 0 min 10 sec"
     ]
    },
    {
     "name": "stdout",
     "output_type": "stream",
     "text": [
      "\n"
     ]
    },
    {
     "name": "stdout",
     "output_type": "stream",
     "text": [
      "\tFRA,  9th phase (16Oct2020 - 21Oct2020): finished  183 trials in 0 min 10 sec"
     ]
    },
    {
     "name": "stdout",
     "output_type": "stream",
     "text": [
      "\n"
     ]
    },
    {
     "name": "stdout",
     "output_type": "stream",
     "text": [
      "\tDEU,  3rd phase (22Apr2020 - 15Jun2020): finished  165 trials in 0 min 10 sec"
     ]
    },
    {
     "name": "stdout",
     "output_type": "stream",
     "text": [
      "\n"
     ]
    },
    {
     "name": "stdout",
     "output_type": "stream",
     "text": [
      "\tROU,  7th phase (12Oct2020 - 20Oct2020): finished  183 trials in 0 min 10 sec"
     ]
    },
    {
     "name": "stdout",
     "output_type": "stream",
     "text": [
      "\n"
     ]
    },
    {
     "name": "stdout",
     "output_type": "stream",
     "text": [
      "\tFIN, 14th phase (02Dec2020 - 08Dec2020): finished  187 trials in 0 min 10 sec"
     ]
    },
    {
     "name": "stdout",
     "output_type": "stream",
     "text": [
      "\n"
     ]
    },
    {
     "name": "stdout",
     "output_type": "stream",
     "text": [
      "\tROU,  0th phase (05Mar2020 - 01May2020): finished  173 trials in 0 min 10 sec"
     ]
    },
    {
     "name": "stdout",
     "output_type": "stream",
     "text": [
      "\n"
     ]
    },
    {
     "name": "stdout",
     "output_type": "stream",
     "text": [
      "\tFIN,  3rd phase (05May2020 - 26May2020): finished  179 trials in 0 min 10 sec"
     ]
    },
    {
     "name": "stdout",
     "output_type": "stream",
     "text": [
      "\n"
     ]
    },
    {
     "name": "stdout",
     "output_type": "stream",
     "text": [
      "\tCAN,  2nd phase (30Apr2020 - 16May2020): finished  184 trials in 0 min 10 sec"
     ]
    },
    {
     "name": "stdout",
     "output_type": "stream",
     "text": [
      "\n"
     ]
    },
    {
     "name": "stdout",
     "output_type": "stream",
     "text": [
      "\tFIN,  2nd phase (20Apr2020 - 04May2020): finished  192 trials in 0 min 10 sec"
     ]
    },
    {
     "name": "stdout",
     "output_type": "stream",
     "text": [
      "\n"
     ]
    },
    {
     "name": "stdout",
     "output_type": "stream",
     "text": [
      "\tUKR,  9th phase (30Oct2020 - 05Nov2020): finished  197 trials in 0 min 10 sec"
     ]
    },
    {
     "name": "stdout",
     "output_type": "stream",
     "text": [
      "\n"
     ]
    },
    {
     "name": "stdout",
     "output_type": "stream",
     "text": [
      "\tDEU,  6th phase (09Sep2020 - 30Sep2020): finished  187 trials in 0 min 10 sec"
     ]
    },
    {
     "name": "stdout",
     "output_type": "stream",
     "text": [
      "\n"
     ]
    },
    {
     "name": "stdout",
     "output_type": "stream",
     "text": [
      "\tFIN, 11th phase (12Nov2020 - 19Nov2020): finished  200 trials in 0 min 10 sec"
     ]
    },
    {
     "name": "stdout",
     "output_type": "stream",
     "text": [
      "\n"
     ]
    },
    {
     "name": "stdout",
     "output_type": "stream",
     "text": [
      "\tUKR,  2nd phase (09Jul2020 - 11Aug2020): finished  188 trials in 0 min 10 sec"
     ]
    },
    {
     "name": "stdout",
     "output_type": "stream",
     "text": [
      "\n"
     ]
    },
    {
     "name": "stdout",
     "output_type": "stream",
     "text": [
      "\tROU, 13th phase (25Nov2020 - 02Dec2020): finished  195 trials in 0 min 10 sec"
     ]
    },
    {
     "name": "stdout",
     "output_type": "stream",
     "text": [
      "\n"
     ]
    },
    {
     "name": "stdout",
     "output_type": "stream",
     "text": [
      "\tBEL,  3rd phase (10May2020 - 27Jul2020): finished  178 trials in 0 min 10 sec"
     ]
    },
    {
     "name": "stdout",
     "output_type": "stream",
     "text": [
      "\n"
     ]
    },
    {
     "name": "stdout",
     "output_type": "stream",
     "text": [
      "\tDEU,  5th phase (12Aug2020 - 08Sep2020): finished  186 trials in 0 min 10 sec"
     ]
    },
    {
     "name": "stdout",
     "output_type": "stream",
     "text": [
      "\n"
     ]
    },
    {
     "name": "stdout",
     "output_type": "stream",
     "text": [
      "\tGBR,  5th phase (15Sep2020 - 02Oct2020): finished  192 trials in 0 min 10 sec"
     ]
    },
    {
     "name": "stdout",
     "output_type": "stream",
     "text": [
      "\n"
     ]
    },
    {
     "name": "stdout",
     "output_type": "stream",
     "text": [
      "\tBEL,  2nd phase (15Apr2020 - 09May2020): finished  186 trials in 0 min 10 sec"
     ]
    },
    {
     "name": "stdout",
     "output_type": "stream",
     "text": [
      "\n"
     ]
    },
    {
     "name": "stdout",
     "output_type": "stream",
     "text": [
      "\tDNK,  1st phase (13Apr2020 - 02May2020): finished  186 trials in 0 min 10 sec"
     ]
    },
    {
     "name": "stdout",
     "output_type": "stream",
     "text": [
      "\n"
     ]
    },
    {
     "name": "stdout",
     "output_type": "stream",
     "text": [
      "\tFIN, 10th phase (03Nov2020 - 11Nov2020): finished  190 trials in 0 min 10 sec"
     ]
    },
    {
     "name": "stdout",
     "output_type": "stream",
     "text": [
      "\n"
     ]
    },
    {
     "name": "stdout",
     "output_type": "stream",
     "text": [
      "\tGBR,  2nd phase (30Apr2020 - 25May2020): finished  193 trials in 0 min 10 sec"
     ]
    },
    {
     "name": "stdout",
     "output_type": "stream",
     "text": [
      "\n"
     ]
    },
    {
     "name": "stdout",
     "output_type": "stream",
     "text": [
      "\tPRT,  1st phase (04Apr2020 - 22Apr2020): finished  186 trials in 0 min 10 sec"
     ]
    },
    {
     "name": "stdout",
     "output_type": "stream",
     "text": [
      "\n"
     ]
    },
    {
     "name": "stdout",
     "output_type": "stream",
     "text": [
      "\tFRA, 13th phase (17Nov2020 - 25Nov2020): finished  195 trials in 0 min 10 sec"
     ]
    },
    {
     "name": "stdout",
     "output_type": "stream",
     "text": [
      "\n"
     ]
    },
    {
     "name": "stdout",
     "output_type": "stream",
     "text": [
      "\tROU,  3rd phase (31Jul2020 - 19Aug2020): finished  182 trials in 0 min 10 sec"
     ]
    },
    {
     "name": "stdout",
     "output_type": "stream",
     "text": [
      "\n"
     ]
    },
    {
     "name": "stdout",
     "output_type": "stream",
     "text": [
      "\tFRA,  0th phase (12Feb2020 - 01Apr2020): finished  172 trials in 0 min 10 sec"
     ]
    },
    {
     "name": "stdout",
     "output_type": "stream",
     "text": [
      "\n"
     ]
    },
    {
     "name": "stdout",
     "output_type": "stream",
     "text": [
      "\tBEL, 10th phase (22Oct2020 - 01Nov2020): finished  179 trials in 0 min 10 sec"
     ]
    },
    {
     "name": "stdout",
     "output_type": "stream",
     "text": [
      "\n"
     ]
    },
    {
     "name": "stdout",
     "output_type": "stream",
     "text": [
      "\tBEL,  4th phase (28Jul2020 - 22Aug2020): finished  170 trials in 0 min 10 sec"
     ]
    },
    {
     "name": "stdout",
     "output_type": "stream",
     "text": [
      "\n"
     ]
    },
    {
     "name": "stdout",
     "output_type": "stream",
     "text": [
      "\tPRT, 12th phase (13Nov2020 - 22Nov2020): finished  195 trials in 0 min 10 sec"
     ]
    },
    {
     "name": "stdout",
     "output_type": "stream",
     "text": [
      "\n"
     ]
    },
    {
     "name": "stdout",
     "output_type": "stream",
     "text": [
      "\tGBR, 11th phase (06Nov2020 - 11Nov2020): finished  192 trials in 0 min 10 sec"
     ]
    },
    {
     "name": "stdout",
     "output_type": "stream",
     "text": [
      "\n"
     ]
    },
    {
     "name": "stdout",
     "output_type": "stream",
     "text": [
      "\tBEL, 11th phase (02Nov2020 - 08Nov2020): finished  189 trials in 0 min 10 sec"
     ]
    },
    {
     "name": "stdout",
     "output_type": "stream",
     "text": [
      "\n"
     ]
    },
    {
     "name": "stdout",
     "output_type": "stream",
     "text": [
      "\tROU,  2nd phase (08Jul2020 - 30Jul2020): finished  179 trials in 0 min 10 sec"
     ]
    },
    {
     "name": "stdout",
     "output_type": "stream",
     "text": [
      "\n"
     ]
    },
    {
     "name": "stdout",
     "output_type": "stream",
     "text": [
      "\tCAN,  9th phase (25Oct2020 - 03Nov2020): finished  204 trials in 0 min 10 sec"
     ]
    },
    {
     "name": "stdout",
     "output_type": "stream",
     "text": [
      "\n"
     ]
    },
    {
     "name": "stdout",
     "output_type": "stream",
     "text": [
      "\tBEL, 15th phase (06Dec2020 - 16Dec2020): finished  199 trials in 0 min 10 sec"
     ]
    },
    {
     "name": "stdout",
     "output_type": "stream",
     "text": [
      "\n"
     ]
    },
    {
     "name": "stdout",
     "output_type": "stream",
     "text": [
      "\tPRT, 13th phase (23Nov2020 - 03Dec2020): finished  204 trials in 0 min 10 sec"
     ]
    },
    {
     "name": "stdout",
     "output_type": "stream",
     "text": [
      "\n"
     ]
    },
    {
     "name": "stdout",
     "output_type": "stream",
     "text": [
      "\tDNK, 14th phase (25Nov2020 - 30Nov2020): finished  201 trials in 0 min 10 sec"
     ]
    },
    {
     "name": "stdout",
     "output_type": "stream",
     "text": [
      "\n"
     ]
    },
    {
     "name": "stdout",
     "output_type": "stream",
     "text": [
      "\tDNK,  5th phase (09Sep2020 - 20Sep2020): finished  198 trials in 0 min 10 sec"
     ]
    },
    {
     "name": "stdout",
     "output_type": "stream",
     "text": [
      "\n"
     ]
    },
    {
     "name": "stdout",
     "output_type": "stream",
     "text": [
      "\tDEU, 13th phase (24Nov2020 - 29Nov2020): finished  204 trials in 0 min 10 sec"
     ]
    },
    {
     "name": "stdout",
     "output_type": "stream",
     "text": [
      "\n"
     ]
    },
    {
     "name": "stdout",
     "output_type": "stream",
     "text": [
      "\tCAN, 10th phase (04Nov2020 - 11Nov2020): finished  198 trials in 0 min 10 sec"
     ]
    },
    {
     "name": "stdout",
     "output_type": "stream",
     "text": [
      "\n"
     ]
    },
    {
     "name": "stdout",
     "output_type": "stream",
     "text": [
      "\tFRA,  3rd phase (30Jul2020 - 26Aug2020): finished  199 trials in 0 min 10 sec"
     ]
    },
    {
     "name": "stdout",
     "output_type": "stream",
     "text": [
      "\n"
     ]
    },
    {
     "name": "stdout",
     "output_type": "stream",
     "text": [
      "\tPRT,  3rd phase (02Jun2020 - 02Jul2020): finished  198 trials in 0 min 10 sec"
     ]
    },
    {
     "name": "stdout",
     "output_type": "stream",
     "text": [
      "\n"
     ]
    },
    {
     "name": "stdout",
     "output_type": "stream",
     "text": [
      "\tFIN,  5th phase (19Aug2020 - 20Sep2020): finished  199 trials in 0 min 10 sec"
     ]
    },
    {
     "name": "stdout",
     "output_type": "stream",
     "text": [
      "\n"
     ]
    },
    {
     "name": "stdout",
     "output_type": "stream",
     "text": [
      "\tROU, 12th phase (18Nov2020 - 24Nov2020): finished  203 trials in 0 min 10 sec"
     ]
    },
    {
     "name": "stdout",
     "output_type": "stream",
     "text": [
      "\n"
     ]
    },
    {
     "name": "stdout",
     "output_type": "stream",
     "text": [
      "\tFRA,  1st phase (02Apr2020 - 27Apr2020): finished  195 trials in 0 min 10 sec"
     ]
    },
    {
     "name": "stdout",
     "output_type": "stream",
     "text": [
      "\n"
     ]
    },
    {
     "name": "stdout",
     "output_type": "stream",
     "text": [
      "\tROU,  6th phase (30Sep2020 - 11Oct2020): finished  192 trials in 0 min 10 sec"
     ]
    },
    {
     "name": "stdout",
     "output_type": "stream",
     "text": [
      "\n"
     ]
    },
    {
     "name": "stdout",
     "output_type": "stream",
     "text": [
      "\tFIN, 13th phase (26Nov2020 - 01Dec2020): finished  192 trials in 0 min 10 sec"
     ]
    },
    {
     "name": "stdout",
     "output_type": "stream",
     "text": [
      "\n"
     ]
    },
    {
     "name": "stdout",
     "output_type": "stream",
     "text": [
      "\tDEU, 12th phase (13Nov2020 - 23Nov2020): finished  186 trials in 0 min 10 sec"
     ]
    },
    {
     "name": "stdout",
     "output_type": "stream",
     "text": [
      "\n"
     ]
    },
    {
     "name": "stdout",
     "output_type": "stream",
     "text": [
      "\tUKR,  4th phase (01Sep2020 - 16Sep2020): finished  188 trials in 0 min 10 sec"
     ]
    },
    {
     "name": "stdout",
     "output_type": "stream",
     "text": [
      "\n"
     ]
    },
    {
     "name": "stdout",
     "output_type": "stream",
     "text": [
      "\tFIN, 15th phase (09Dec2020 - 16Dec2020): finished  191 trials in 0 min 10 sec"
     ]
    },
    {
     "name": "stdout",
     "output_type": "stream",
     "text": [
      "\n"
     ]
    },
    {
     "name": "stdout",
     "output_type": "stream",
     "text": [
      "\tFIN, 12th phase (20Nov2020 - 25Nov2020): finished  189 trials in 0 min 10 sec"
     ]
    },
    {
     "name": "stdout",
     "output_type": "stream",
     "text": [
      "\n"
     ]
    },
    {
     "name": "stdout",
     "output_type": "stream",
     "text": [
      "\tFRA,  8th phase (09Oct2020 - 15Oct2020): finished  182 trials in 0 min 10 sec"
     ]
    },
    {
     "name": "stdout",
     "output_type": "stream",
     "text": [
      "\n"
     ]
    },
    {
     "name": "stdout",
     "output_type": "stream",
     "text": [
      "\tDEU, 14th phase (30Nov2020 - 09Dec2020): finished  180 trials in 0 min 10 sec"
     ]
    },
    {
     "name": "stdout",
     "output_type": "stream",
     "text": [
      "\n"
     ]
    },
    {
     "name": "stdout",
     "output_type": "stream",
     "text": [
      "\tFIN,  9th phase (24Oct2020 - 02Nov2020): finished  196 trials in 0 min 10 sec"
     ]
    },
    {
     "name": "stdout",
     "output_type": "stream",
     "text": [
      "\n"
     ]
    },
    {
     "name": "stdout",
     "output_type": "stream",
     "text": [
      "\tFIN,  8th phase (14Oct2020 - 23Oct2020): finished  197 trials in 0 min 10 sec"
     ]
    },
    {
     "name": "stdout",
     "output_type": "stream",
     "text": [
      "\n"
     ]
    },
    {
     "name": "stdout",
     "output_type": "stream",
     "text": [
      "\tGBR,  3rd phase (26May2020 - 01Aug2020): finished  186 trials in 0 min 10 sec"
     ]
    },
    {
     "name": "stdout",
     "output_type": "stream",
     "text": [
      "\n"
     ]
    },
    {
     "name": "stdout",
     "output_type": "stream",
     "text": [
      "\tFRA, 10th phase (22Oct2020 - 31Oct2020): finished  204 trials in 0 min 10 sec"
     ]
    },
    {
     "name": "stdout",
     "output_type": "stream",
     "text": [
      "\n"
     ]
    },
    {
     "name": "stdout",
     "output_type": "stream",
     "text": [
      "\tCAN,  7th phase (28Sep2020 - 11Oct2020): finished  202 trials in 0 min 10 sec"
     ]
    },
    {
     "name": "stdout",
     "output_type": "stream",
     "text": [
      "\n"
     ]
    },
    {
     "name": "stdout",
     "output_type": "stream",
     "text": [
      "\tDEU,  8th phase (14Oct2020 - 21Oct2020): finished  197 trials in 0 min 10 sec"
     ]
    },
    {
     "name": "stdout",
     "output_type": "stream",
     "text": [
      "\n"
     ]
    },
    {
     "name": "stdout",
     "output_type": "stream",
     "text": [
      "\tPRT, 14th phase (04Dec2020 - 09Dec2020): finished  201 trials in 0 min 10 sec"
     ]
    },
    {
     "name": "stdout",
     "output_type": "stream",
     "text": [
      "\n"
     ]
    },
    {
     "name": "stdout",
     "output_type": "stream",
     "text": [
      "\tUKR,  0th phase (21Mar2020 - 30May2020): finished  185 trials in 0 min 10 sec"
     ]
    },
    {
     "name": "stdout",
     "output_type": "stream",
     "text": [
      "\n"
     ]
    },
    {
     "name": "stdout",
     "output_type": "stream",
     "text": [
      "\tUKR, 11th phase (13Nov2020 - 19Nov2020): finished  208 trials in 0 min 10 sec"
     ]
    },
    {
     "name": "stdout",
     "output_type": "stream",
     "text": [
      "\n"
     ]
    },
    {
     "name": "stdout",
     "output_type": "stream",
     "text": [
      "Completed optimization. Total: 6 min 49 sec\n"
     ]
    }
   ],
   "source": [
    "# Parameter estimation with SIR-F model\n",
    "analyser.estimate(cs.SIRF, timeout=10)"
   ]
  },
  {
   "cell_type": "code",
   "execution_count": 12,
   "metadata": {
    "collapsed": false
   },
   "outputs": [
    {
     "data": {
      "text/html": [
       "<div>\n",
       "<style scoped>\n",
       "    .dataframe tbody tr th:only-of-type {\n",
       "        vertical-align: middle;\n",
       "    }\n",
       "\n",
       "    .dataframe tbody tr th {\n",
       "        vertical-align: top;\n",
       "    }\n",
       "\n",
       "    .dataframe thead th {\n",
       "        text-align: right;\n",
       "    }\n",
       "</style>\n",
       "<table border=\"1\" class=\"dataframe\">\n",
       "  <thead>\n",
       "    <tr style=\"text-align: right;\">\n",
       "      <th></th>\n",
       "      <th></th>\n",
       "      <th>Type</th>\n",
       "      <th>Start</th>\n",
       "      <th>End</th>\n",
       "      <th>Population</th>\n",
       "      <th>ODE</th>\n",
       "      <th>Rt</th>\n",
       "      <th>theta</th>\n",
       "      <th>kappa</th>\n",
       "      <th>rho</th>\n",
       "      <th>sigma</th>\n",
       "      <th>tau</th>\n",
       "      <th>alpha1 [-]</th>\n",
       "      <th>1/alpha2 [day]</th>\n",
       "      <th>1/beta [day]</th>\n",
       "      <th>1/gamma [day]</th>\n",
       "      <th>RMSLE</th>\n",
       "      <th>Trials</th>\n",
       "      <th>Runtime</th>\n",
       "    </tr>\n",
       "    <tr>\n",
       "      <th>Country</th>\n",
       "      <th>Phase</th>\n",
       "      <th></th>\n",
       "      <th></th>\n",
       "      <th></th>\n",
       "      <th></th>\n",
       "      <th></th>\n",
       "      <th></th>\n",
       "      <th></th>\n",
       "      <th></th>\n",
       "      <th></th>\n",
       "      <th></th>\n",
       "      <th></th>\n",
       "      <th></th>\n",
       "      <th></th>\n",
       "      <th></th>\n",
       "      <th></th>\n",
       "      <th></th>\n",
       "      <th></th>\n",
       "      <th></th>\n",
       "    </tr>\n",
       "  </thead>\n",
       "  <tbody>\n",
       "    <tr>\n",
       "      <th rowspan=\"17\" valign=\"top\">United Kingdom</th>\n",
       "      <th>0th</th>\n",
       "      <td>Past</td>\n",
       "      <td>14Feb2020</td>\n",
       "      <td>08Apr2020</td>\n",
       "      <td>66460344</td>\n",
       "      <td>SIR-F</td>\n",
       "      <td>107.58</td>\n",
       "      <td>0.0497192</td>\n",
       "      <td>0.000148238</td>\n",
       "      <td>0.0456436</td>\n",
       "      <td>0.000254949</td>\n",
       "      <td>360</td>\n",
       "      <td>0.05</td>\n",
       "      <td>1686</td>\n",
       "      <td>5</td>\n",
       "      <td>980</td>\n",
       "      <td>0.964187</td>\n",
       "      <td>175</td>\n",
       "      <td>0 min 10 sec</td>\n",
       "    </tr>\n",
       "    <tr>\n",
       "      <th>1st</th>\n",
       "      <td>Past</td>\n",
       "      <td>09Apr2020</td>\n",
       "      <td>29Apr2020</td>\n",
       "      <td>66460344</td>\n",
       "      <td>SIR-F</td>\n",
       "      <td>28.28</td>\n",
       "      <td>0.191758</td>\n",
       "      <td>0.000400274</td>\n",
       "      <td>0.0141126</td>\n",
       "      <td>3.05166e-06</td>\n",
       "      <td>360</td>\n",
       "      <td>0.192</td>\n",
       "      <td>624</td>\n",
       "      <td>17</td>\n",
       "      <td>81922</td>\n",
       "      <td>0.0576588</td>\n",
       "      <td>197</td>\n",
       "      <td>0 min 10 sec</td>\n",
       "    </tr>\n",
       "    <tr>\n",
       "      <th>2nd</th>\n",
       "      <td>Past</td>\n",
       "      <td>30Apr2020</td>\n",
       "      <td>25May2020</td>\n",
       "      <td>66460344</td>\n",
       "      <td>SIR-F</td>\n",
       "      <td>8.24</td>\n",
       "      <td>0.0178512</td>\n",
       "      <td>0.000539892</td>\n",
       "      <td>0.00453978</td>\n",
       "      <td>1.45471e-06</td>\n",
       "      <td>360</td>\n",
       "      <td>0.018</td>\n",
       "      <td>463</td>\n",
       "      <td>55</td>\n",
       "      <td>171855</td>\n",
       "      <td>0.054675</td>\n",
       "      <td>193</td>\n",
       "      <td>0 min 10 sec</td>\n",
       "    </tr>\n",
       "    <tr>\n",
       "      <th>3rd</th>\n",
       "      <td>Past</td>\n",
       "      <td>26May2020</td>\n",
       "      <td>01Aug2020</td>\n",
       "      <td>66460344</td>\n",
       "      <td>SIR-F</td>\n",
       "      <td>21.47</td>\n",
       "      <td>0.681424</td>\n",
       "      <td>1.41729e-05</td>\n",
       "      <td>0.0010229</td>\n",
       "      <td>1.00279e-06</td>\n",
       "      <td>360</td>\n",
       "      <td>0.681</td>\n",
       "      <td>17639</td>\n",
       "      <td>244</td>\n",
       "      <td>249303</td>\n",
       "      <td>0.223604</td>\n",
       "      <td>186</td>\n",
       "      <td>0 min 10 sec</td>\n",
       "    </tr>\n",
       "    <tr>\n",
       "      <th>4th</th>\n",
       "      <td>Past</td>\n",
       "      <td>02Aug2020</td>\n",
       "      <td>14Sep2020</td>\n",
       "      <td>66460344</td>\n",
       "      <td>SIR-F</td>\n",
       "      <td>30.63</td>\n",
       "      <td>0.928978</td>\n",
       "      <td>1.85307e-06</td>\n",
       "      <td>0.00116847</td>\n",
       "      <td>8.56604e-07</td>\n",
       "      <td>360</td>\n",
       "      <td>0.929</td>\n",
       "      <td>134911</td>\n",
       "      <td>213</td>\n",
       "      <td>291850</td>\n",
       "      <td>0.290053</td>\n",
       "      <td>178</td>\n",
       "      <td>0 min 10 sec</td>\n",
       "    </tr>\n",
       "    <tr>\n",
       "      <th>5th</th>\n",
       "      <td>Past</td>\n",
       "      <td>15Sep2020</td>\n",
       "      <td>02Oct2020</td>\n",
       "      <td>66460344</td>\n",
       "      <td>SIR-F</td>\n",
       "      <td>26.84</td>\n",
       "      <td>0.458953</td>\n",
       "      <td>7.11105e-05</td>\n",
       "      <td>0.00355825</td>\n",
       "      <td>6.23978e-07</td>\n",
       "      <td>360</td>\n",
       "      <td>0.459</td>\n",
       "      <td>3515</td>\n",
       "      <td>70</td>\n",
       "      <td>400654</td>\n",
       "      <td>0.244009</td>\n",
       "      <td>192</td>\n",
       "      <td>0 min 10 sec</td>\n",
       "    </tr>\n",
       "    <tr>\n",
       "      <th>6th</th>\n",
       "      <td>Past</td>\n",
       "      <td>03Oct2020</td>\n",
       "      <td>11Oct2020</td>\n",
       "      <td>66460344</td>\n",
       "      <td>SIR-F</td>\n",
       "      <td>79.9</td>\n",
       "      <td>0.0040664</td>\n",
       "      <td>9.26425e-05</td>\n",
       "      <td>0.00746917</td>\n",
       "      <td>4.62015e-07</td>\n",
       "      <td>360</td>\n",
       "      <td>0.004</td>\n",
       "      <td>2698</td>\n",
       "      <td>33</td>\n",
       "      <td>541108</td>\n",
       "      <td>0.0160247</td>\n",
       "      <td>168</td>\n",
       "      <td>0 min 10 sec</td>\n",
       "    </tr>\n",
       "    <tr>\n",
       "      <th>7th</th>\n",
       "      <td>Past</td>\n",
       "      <td>12Oct2020</td>\n",
       "      <td>18Oct2020</td>\n",
       "      <td>66460344</td>\n",
       "      <td>SIR-F</td>\n",
       "      <td>3279.84</td>\n",
       "      <td>0.0123505</td>\n",
       "      <td>1.85307e-06</td>\n",
       "      <td>0.00739827</td>\n",
       "      <td>3.74756e-07</td>\n",
       "      <td>360</td>\n",
       "      <td>0.012</td>\n",
       "      <td>134911</td>\n",
       "      <td>33</td>\n",
       "      <td>667101</td>\n",
       "      <td>0.00519505</td>\n",
       "      <td>181</td>\n",
       "      <td>0 min 10 sec</td>\n",
       "    </tr>\n",
       "    <tr>\n",
       "      <th>8th</th>\n",
       "      <td>Past</td>\n",
       "      <td>19Oct2020</td>\n",
       "      <td>24Oct2020</td>\n",
       "      <td>66460344</td>\n",
       "      <td>SIR-F</td>\n",
       "      <td>38.78</td>\n",
       "      <td>0.0575014</td>\n",
       "      <td>0.000180071</td>\n",
       "      <td>0.00742312</td>\n",
       "      <td>3.19353e-07</td>\n",
       "      <td>360</td>\n",
       "      <td>0.058</td>\n",
       "      <td>1388</td>\n",
       "      <td>33</td>\n",
       "      <td>782833</td>\n",
       "      <td>0.0577429</td>\n",
       "      <td>171</td>\n",
       "      <td>0 min 10 sec</td>\n",
       "    </tr>\n",
       "    <tr>\n",
       "      <th>9th</th>\n",
       "      <td>Past</td>\n",
       "      <td>25Oct2020</td>\n",
       "      <td>30Oct2020</td>\n",
       "      <td>66460344</td>\n",
       "      <td>SIR-F</td>\n",
       "      <td>118.75</td>\n",
       "      <td>0.00144834</td>\n",
       "      <td>5.43331e-05</td>\n",
       "      <td>0.00649318</td>\n",
       "      <td>2.66944e-07</td>\n",
       "      <td>360</td>\n",
       "      <td>0.001</td>\n",
       "      <td>4601</td>\n",
       "      <td>38</td>\n",
       "      <td>936527</td>\n",
       "      <td>0.00247552</td>\n",
       "      <td>185</td>\n",
       "      <td>0 min 10 sec</td>\n",
       "    </tr>\n",
       "    <tr>\n",
       "      <th>10th</th>\n",
       "      <td>Past</td>\n",
       "      <td>31Oct2020</td>\n",
       "      <td>05Nov2020</td>\n",
       "      <td>66460344</td>\n",
       "      <td>SIR-F</td>\n",
       "      <td>100.63</td>\n",
       "      <td>0.00167411</td>\n",
       "      <td>5.4333e-05</td>\n",
       "      <td>0.00550091</td>\n",
       "      <td>2.37728e-07</td>\n",
       "      <td>360</td>\n",
       "      <td>0.002</td>\n",
       "      <td>4601</td>\n",
       "      <td>45</td>\n",
       "      <td>1.05162e+06</td>\n",
       "      <td>0.00259864</td>\n",
       "      <td>190</td>\n",
       "      <td>0 min 10 sec</td>\n",
       "    </tr>\n",
       "    <tr>\n",
       "      <th>11th</th>\n",
       "      <td>Past</td>\n",
       "      <td>06Nov2020</td>\n",
       "      <td>11Nov2020</td>\n",
       "      <td>66460344</td>\n",
       "      <td>SIR-F</td>\n",
       "      <td>24.72</td>\n",
       "      <td>0.0150728</td>\n",
       "      <td>0.000191595</td>\n",
       "      <td>0.00481311</td>\n",
       "      <td>2.10261e-07</td>\n",
       "      <td>360</td>\n",
       "      <td>0.015</td>\n",
       "      <td>1304</td>\n",
       "      <td>51</td>\n",
       "      <td>1.189e+06</td>\n",
       "      <td>0.029386</td>\n",
       "      <td>192</td>\n",
       "      <td>0 min 10 sec</td>\n",
       "    </tr>\n",
       "    <tr>\n",
       "      <th>12th</th>\n",
       "      <td>Past</td>\n",
       "      <td>12Nov2020</td>\n",
       "      <td>17Nov2020</td>\n",
       "      <td>66460344</td>\n",
       "      <td>-</td>\n",
       "      <td>-</td>\n",
       "      <td>-</td>\n",
       "      <td>-</td>\n",
       "      <td>-</td>\n",
       "      <td>-</td>\n",
       "      <td>-</td>\n",
       "      <td>-</td>\n",
       "      <td>-</td>\n",
       "      <td>-</td>\n",
       "      <td>-</td>\n",
       "      <td>-</td>\n",
       "      <td>-</td>\n",
       "      <td>-</td>\n",
       "    </tr>\n",
       "    <tr>\n",
       "      <th>13th</th>\n",
       "      <td>Past</td>\n",
       "      <td>18Nov2020</td>\n",
       "      <td>23Nov2020</td>\n",
       "      <td>66460344</td>\n",
       "      <td>SIR-F</td>\n",
       "      <td>40.73</td>\n",
       "      <td>0.0805685</td>\n",
       "      <td>7.93545e-05</td>\n",
       "      <td>0.00352291</td>\n",
       "      <td>1.71326e-07</td>\n",
       "      <td>360</td>\n",
       "      <td>0.081</td>\n",
       "      <td>3150</td>\n",
       "      <td>70</td>\n",
       "      <td>1.45921e+06</td>\n",
       "      <td>0.0479145</td>\n",
       "      <td>159</td>\n",
       "      <td>0 min 10 sec</td>\n",
       "    </tr>\n",
       "    <tr>\n",
       "      <th>14th</th>\n",
       "      <td>Past</td>\n",
       "      <td>24Nov2020</td>\n",
       "      <td>02Dec2020</td>\n",
       "      <td>66460344</td>\n",
       "      <td>SIR-F</td>\n",
       "      <td>19.02</td>\n",
       "      <td>0.417599</td>\n",
       "      <td>7.11105e-05</td>\n",
       "      <td>0.00232743</td>\n",
       "      <td>1.60778e-07</td>\n",
       "      <td>360</td>\n",
       "      <td>0.418</td>\n",
       "      <td>3515</td>\n",
       "      <td>107</td>\n",
       "      <td>1.55494e+06</td>\n",
       "      <td>0.208093</td>\n",
       "      <td>195</td>\n",
       "      <td>0 min 10 sec</td>\n",
       "    </tr>\n",
       "    <tr>\n",
       "      <th>15th</th>\n",
       "      <td>Past</td>\n",
       "      <td>03Dec2020</td>\n",
       "      <td>09Dec2020</td>\n",
       "      <td>66460344</td>\n",
       "      <td>SIR-F</td>\n",
       "      <td>7.83</td>\n",
       "      <td>0.389913</td>\n",
       "      <td>0.000190452</td>\n",
       "      <td>0.00244532</td>\n",
       "      <td>1.49836e-07</td>\n",
       "      <td>360</td>\n",
       "      <td>0.39</td>\n",
       "      <td>1312</td>\n",
       "      <td>102</td>\n",
       "      <td>1.66849e+06</td>\n",
       "      <td>0.187046</td>\n",
       "      <td>191</td>\n",
       "      <td>0 min 10 sec</td>\n",
       "    </tr>\n",
       "    <tr>\n",
       "      <th>16th</th>\n",
       "      <td>Past</td>\n",
       "      <td>10Dec2020</td>\n",
       "      <td>16Dec2020</td>\n",
       "      <td>66460344</td>\n",
       "      <td>-</td>\n",
       "      <td>-</td>\n",
       "      <td>-</td>\n",
       "      <td>-</td>\n",
       "      <td>-</td>\n",
       "      <td>-</td>\n",
       "      <td>-</td>\n",
       "      <td>-</td>\n",
       "      <td>-</td>\n",
       "      <td>-</td>\n",
       "      <td>-</td>\n",
       "      <td>-</td>\n",
       "      <td>-</td>\n",
       "      <td>-</td>\n",
       "    </tr>\n",
       "  </tbody>\n",
       "</table>\n",
       "</div>"
      ],
      "text/plain": [
       "                      Type      Start        End  Population    ODE       Rt  \\\n",
       "Country        Phase                                                           \n",
       "United Kingdom 0th    Past  14Feb2020  08Apr2020    66460344  SIR-F   107.58   \n",
       "               1st    Past  09Apr2020  29Apr2020    66460344  SIR-F    28.28   \n",
       "               2nd    Past  30Apr2020  25May2020    66460344  SIR-F     8.24   \n",
       "               3rd    Past  26May2020  01Aug2020    66460344  SIR-F    21.47   \n",
       "               4th    Past  02Aug2020  14Sep2020    66460344  SIR-F    30.63   \n",
       "               5th    Past  15Sep2020  02Oct2020    66460344  SIR-F    26.84   \n",
       "               6th    Past  03Oct2020  11Oct2020    66460344  SIR-F     79.9   \n",
       "               7th    Past  12Oct2020  18Oct2020    66460344  SIR-F  3279.84   \n",
       "               8th    Past  19Oct2020  24Oct2020    66460344  SIR-F    38.78   \n",
       "               9th    Past  25Oct2020  30Oct2020    66460344  SIR-F   118.75   \n",
       "               10th   Past  31Oct2020  05Nov2020    66460344  SIR-F   100.63   \n",
       "               11th   Past  06Nov2020  11Nov2020    66460344  SIR-F    24.72   \n",
       "               12th   Past  12Nov2020  17Nov2020    66460344      -        -   \n",
       "               13th   Past  18Nov2020  23Nov2020    66460344  SIR-F    40.73   \n",
       "               14th   Past  24Nov2020  02Dec2020    66460344  SIR-F    19.02   \n",
       "               15th   Past  03Dec2020  09Dec2020    66460344  SIR-F     7.83   \n",
       "               16th   Past  10Dec2020  16Dec2020    66460344      -        -   \n",
       "\n",
       "                           theta        kappa         rho        sigma  tau  \\\n",
       "Country        Phase                                                          \n",
       "United Kingdom 0th     0.0497192  0.000148238   0.0456436  0.000254949  360   \n",
       "               1st      0.191758  0.000400274   0.0141126  3.05166e-06  360   \n",
       "               2nd     0.0178512  0.000539892  0.00453978  1.45471e-06  360   \n",
       "               3rd      0.681424  1.41729e-05   0.0010229  1.00279e-06  360   \n",
       "               4th      0.928978  1.85307e-06  0.00116847  8.56604e-07  360   \n",
       "               5th      0.458953  7.11105e-05  0.00355825  6.23978e-07  360   \n",
       "               6th     0.0040664  9.26425e-05  0.00746917  4.62015e-07  360   \n",
       "               7th     0.0123505  1.85307e-06  0.00739827  3.74756e-07  360   \n",
       "               8th     0.0575014  0.000180071  0.00742312  3.19353e-07  360   \n",
       "               9th    0.00144834  5.43331e-05  0.00649318  2.66944e-07  360   \n",
       "               10th   0.00167411   5.4333e-05  0.00550091  2.37728e-07  360   \n",
       "               11th    0.0150728  0.000191595  0.00481311  2.10261e-07  360   \n",
       "               12th            -            -           -            -    -   \n",
       "               13th    0.0805685  7.93545e-05  0.00352291  1.71326e-07  360   \n",
       "               14th     0.417599  7.11105e-05  0.00232743  1.60778e-07  360   \n",
       "               15th     0.389913  0.000190452  0.00244532  1.49836e-07  360   \n",
       "               16th            -            -           -            -    -   \n",
       "\n",
       "                     alpha1 [-] 1/alpha2 [day] 1/beta [day] 1/gamma [day]  \\\n",
       "Country        Phase                                                        \n",
       "United Kingdom 0th         0.05           1686            5           980   \n",
       "               1st        0.192            624           17         81922   \n",
       "               2nd        0.018            463           55        171855   \n",
       "               3rd        0.681          17639          244        249303   \n",
       "               4th        0.929         134911          213        291850   \n",
       "               5th        0.459           3515           70        400654   \n",
       "               6th        0.004           2698           33        541108   \n",
       "               7th        0.012         134911           33        667101   \n",
       "               8th        0.058           1388           33        782833   \n",
       "               9th        0.001           4601           38        936527   \n",
       "               10th       0.002           4601           45   1.05162e+06   \n",
       "               11th       0.015           1304           51     1.189e+06   \n",
       "               12th           -              -            -             -   \n",
       "               13th       0.081           3150           70   1.45921e+06   \n",
       "               14th       0.418           3515          107   1.55494e+06   \n",
       "               15th        0.39           1312          102   1.66849e+06   \n",
       "               16th           -              -            -             -   \n",
       "\n",
       "                           RMSLE Trials       Runtime  \n",
       "Country        Phase                                   \n",
       "United Kingdom 0th      0.964187    175  0 min 10 sec  \n",
       "               1st     0.0576588    197  0 min 10 sec  \n",
       "               2nd      0.054675    193  0 min 10 sec  \n",
       "               3rd      0.223604    186  0 min 10 sec  \n",
       "               4th      0.290053    178  0 min 10 sec  \n",
       "               5th      0.244009    192  0 min 10 sec  \n",
       "               6th     0.0160247    168  0 min 10 sec  \n",
       "               7th    0.00519505    181  0 min 10 sec  \n",
       "               8th     0.0577429    171  0 min 10 sec  \n",
       "               9th    0.00247552    185  0 min 10 sec  \n",
       "               10th   0.00259864    190  0 min 10 sec  \n",
       "               11th     0.029386    192  0 min 10 sec  \n",
       "               12th            -      -             -  \n",
       "               13th    0.0479145    159  0 min 10 sec  \n",
       "               14th     0.208093    195  0 min 10 sec  \n",
       "               15th     0.187046    191  0 min 10 sec  \n",
       "               16th            -      -             -  "
      ]
     },
     "execution_count": 12,
     "metadata": {},
     "output_type": "execute_result"
    }
   ],
   "source": [
    "# Show summary\n",
    "analyser.summary(countries=countries_show)"
   ]
  },
  {
   "cell_type": "markdown",
   "metadata": {},
   "source": [
    "## Compare the history of parameters\n",
    "Here, compare the history of parameter values if countries."
   ]
  },
  {
   "cell_type": "code",
   "execution_count": 13,
   "metadata": {
    "collapsed": false
   },
   "outputs": [
    {
     "data": {
      "text/html": [
       "<div>\n",
       "<style scoped>\n",
       "    .dataframe tbody tr th:only-of-type {\n",
       "        vertical-align: middle;\n",
       "    }\n",
       "\n",
       "    .dataframe tbody tr th {\n",
       "        vertical-align: top;\n",
       "    }\n",
       "\n",
       "    .dataframe thead th {\n",
       "        text-align: right;\n",
       "    }\n",
       "</style>\n",
       "<table border=\"1\" class=\"dataframe\">\n",
       "  <thead>\n",
       "    <tr style=\"text-align: right;\">\n",
       "      <th></th>\n",
       "      <th>Date</th>\n",
       "      <th>Country</th>\n",
       "      <th>theta</th>\n",
       "      <th>kappa</th>\n",
       "      <th>rho</th>\n",
       "      <th>sigma</th>\n",
       "      <th>alpha1 [-]</th>\n",
       "      <th>1/alpha2 [day]</th>\n",
       "      <th>1/beta [day]</th>\n",
       "      <th>1/gamma [day]</th>\n",
       "      <th>...</th>\n",
       "      <th>Cancel_events</th>\n",
       "      <th>Gatherings_restrictions</th>\n",
       "      <th>Transport_closing</th>\n",
       "      <th>Stay_home_restrictions</th>\n",
       "      <th>Internal_movement_restrictions</th>\n",
       "      <th>International_movement_restrictions</th>\n",
       "      <th>Information_campaigns</th>\n",
       "      <th>Testing_policy</th>\n",
       "      <th>Contact_tracing</th>\n",
       "      <th>Stringency_index</th>\n",
       "    </tr>\n",
       "  </thead>\n",
       "  <tbody>\n",
       "    <tr>\n",
       "      <th>0</th>\n",
       "      <td>2020-03-16</td>\n",
       "      <td>Finland</td>\n",
       "      <td>0.001072</td>\n",
       "      <td>7.93546e-05</td>\n",
       "      <td>0.0218232</td>\n",
       "      <td>0.000135819</td>\n",
       "      <td>0.001</td>\n",
       "      <td>3150</td>\n",
       "      <td>11</td>\n",
       "      <td>1840</td>\n",
       "      <td>...</td>\n",
       "      <td>2</td>\n",
       "      <td>4</td>\n",
       "      <td>0</td>\n",
       "      <td>1</td>\n",
       "      <td>1</td>\n",
       "      <td>4</td>\n",
       "      <td>2</td>\n",
       "      <td>1</td>\n",
       "      <td>1</td>\n",
       "      <td>57.41</td>\n",
       "    </tr>\n",
       "    <tr>\n",
       "      <th>1</th>\n",
       "      <td>2020-03-17</td>\n",
       "      <td>Finland</td>\n",
       "      <td>0.001072</td>\n",
       "      <td>7.93546e-05</td>\n",
       "      <td>0.0218232</td>\n",
       "      <td>0.000135819</td>\n",
       "      <td>0.001</td>\n",
       "      <td>3150</td>\n",
       "      <td>11</td>\n",
       "      <td>1840</td>\n",
       "      <td>...</td>\n",
       "      <td>2</td>\n",
       "      <td>4</td>\n",
       "      <td>0</td>\n",
       "      <td>1</td>\n",
       "      <td>1</td>\n",
       "      <td>4</td>\n",
       "      <td>2</td>\n",
       "      <td>1</td>\n",
       "      <td>1</td>\n",
       "      <td>57.41</td>\n",
       "    </tr>\n",
       "    <tr>\n",
       "      <th>2</th>\n",
       "      <td>2020-03-18</td>\n",
       "      <td>Finland</td>\n",
       "      <td>0.001072</td>\n",
       "      <td>7.93546e-05</td>\n",
       "      <td>0.0218232</td>\n",
       "      <td>0.000135819</td>\n",
       "      <td>0.001</td>\n",
       "      <td>3150</td>\n",
       "      <td>11</td>\n",
       "      <td>1840</td>\n",
       "      <td>...</td>\n",
       "      <td>2</td>\n",
       "      <td>4</td>\n",
       "      <td>0</td>\n",
       "      <td>1</td>\n",
       "      <td>1</td>\n",
       "      <td>4</td>\n",
       "      <td>2</td>\n",
       "      <td>1</td>\n",
       "      <td>1</td>\n",
       "      <td>64.81</td>\n",
       "    </tr>\n",
       "    <tr>\n",
       "      <th>3</th>\n",
       "      <td>2020-03-19</td>\n",
       "      <td>Finland</td>\n",
       "      <td>0.001072</td>\n",
       "      <td>7.93546e-05</td>\n",
       "      <td>0.0218232</td>\n",
       "      <td>0.000135819</td>\n",
       "      <td>0.001</td>\n",
       "      <td>3150</td>\n",
       "      <td>11</td>\n",
       "      <td>1840</td>\n",
       "      <td>...</td>\n",
       "      <td>2</td>\n",
       "      <td>4</td>\n",
       "      <td>0</td>\n",
       "      <td>1</td>\n",
       "      <td>1</td>\n",
       "      <td>4</td>\n",
       "      <td>2</td>\n",
       "      <td>1</td>\n",
       "      <td>1</td>\n",
       "      <td>64.81</td>\n",
       "    </tr>\n",
       "    <tr>\n",
       "      <th>4</th>\n",
       "      <td>2020-03-20</td>\n",
       "      <td>Finland</td>\n",
       "      <td>0.001072</td>\n",
       "      <td>7.93546e-05</td>\n",
       "      <td>0.0218232</td>\n",
       "      <td>0.000135819</td>\n",
       "      <td>0.001</td>\n",
       "      <td>3150</td>\n",
       "      <td>11</td>\n",
       "      <td>1840</td>\n",
       "      <td>...</td>\n",
       "      <td>2</td>\n",
       "      <td>4</td>\n",
       "      <td>0</td>\n",
       "      <td>1</td>\n",
       "      <td>1</td>\n",
       "      <td>4</td>\n",
       "      <td>2</td>\n",
       "      <td>1</td>\n",
       "      <td>1</td>\n",
       "      <td>64.81</td>\n",
       "    </tr>\n",
       "  </tbody>\n",
       "</table>\n",
       "<p>5 rows × 23 columns</p>\n",
       "</div>"
      ],
      "text/plain": [
       "        Date  Country     theta        kappa        rho        sigma  \\\n",
       "0 2020-03-16  Finland  0.001072  7.93546e-05  0.0218232  0.000135819   \n",
       "1 2020-03-17  Finland  0.001072  7.93546e-05  0.0218232  0.000135819   \n",
       "2 2020-03-18  Finland  0.001072  7.93546e-05  0.0218232  0.000135819   \n",
       "3 2020-03-19  Finland  0.001072  7.93546e-05  0.0218232  0.000135819   \n",
       "4 2020-03-20  Finland  0.001072  7.93546e-05  0.0218232  0.000135819   \n",
       "\n",
       "  alpha1 [-] 1/alpha2 [day] 1/beta [day] 1/gamma [day]  ... Cancel_events  \\\n",
       "0      0.001           3150           11          1840  ...             2   \n",
       "1      0.001           3150           11          1840  ...             2   \n",
       "2      0.001           3150           11          1840  ...             2   \n",
       "3      0.001           3150           11          1840  ...             2   \n",
       "4      0.001           3150           11          1840  ...             2   \n",
       "\n",
       "   Gatherings_restrictions  Transport_closing  Stay_home_restrictions  \\\n",
       "0                        4                  0                       1   \n",
       "1                        4                  0                       1   \n",
       "2                        4                  0                       1   \n",
       "3                        4                  0                       1   \n",
       "4                        4                  0                       1   \n",
       "\n",
       "   Internal_movement_restrictions  International_movement_restrictions  \\\n",
       "0                               1                                    4   \n",
       "1                               1                                    4   \n",
       "2                               1                                    4   \n",
       "3                               1                                    4   \n",
       "4                               1                                    4   \n",
       "\n",
       "   Information_campaigns  Testing_policy  Contact_tracing  Stringency_index  \n",
       "0                      2               1                1             57.41  \n",
       "1                      2               1                1             57.41  \n",
       "2                      2               1                1             64.81  \n",
       "3                      2               1                1             64.81  \n",
       "4                      2               1                1             64.81  \n",
       "\n",
       "[5 rows x 23 columns]"
      ]
     },
     "execution_count": 13,
     "metadata": {},
     "output_type": "execute_result"
    }
   ],
   "source": [
    "# All parameter/day parameter/Rt/OxCGRT\n",
    "analyser.track().head()"
   ]
  },
  {
   "cell_type": "markdown",
   "metadata": {},
   "source": [
    "### $Rt$: Reprodcution number $\\mathrm{[-]}$"
   ]
  },
  {
   "cell_type": "code",
   "execution_count": 14,
   "metadata": {
    "collapsed": false
   },
   "outputs": [
    {
     "data": {
      "image/png": "[encoded data removed]",
      "text/plain": [
       "<Figure size 648x432 with 1 Axes>"
      ]
     },
     "metadata": {},
     "output_type": "display_data"
    },
    {
     "data": {
      "text/html": [
       "<div>\n",
       "<style scoped>\n",
       "    .dataframe tbody tr th:only-of-type {\n",
       "        vertical-align: middle;\n",
       "    }\n",
       "\n",
       "    .dataframe tbody tr th {\n",
       "        vertical-align: top;\n",
       "    }\n",
       "\n",
       "    .dataframe thead th {\n",
       "        text-align: right;\n",
       "    }\n",
       "</style>\n",
       "<table border=\"1\" class=\"dataframe\">\n",
       "  <thead>\n",
       "    <tr style=\"text-align: right;\">\n",
       "      <th>Country</th>\n",
       "      <th>Belgium</th>\n",
       "      <th>Canada</th>\n",
       "      <th>Denmark</th>\n",
       "      <th>Finland</th>\n",
       "      <th>France</th>\n",
       "      <th>Germany</th>\n",
       "      <th>Portugal</th>\n",
       "      <th>Romania</th>\n",
       "      <th>Ukraine</th>\n",
       "      <th>United Kingdom</th>\n",
       "    </tr>\n",
       "    <tr>\n",
       "      <th>Date</th>\n",
       "      <th></th>\n",
       "      <th></th>\n",
       "      <th></th>\n",
       "      <th></th>\n",
       "      <th></th>\n",
       "      <th></th>\n",
       "      <th></th>\n",
       "      <th></th>\n",
       "      <th></th>\n",
       "      <th></th>\n",
       "    </tr>\n",
       "  </thead>\n",
       "  <tbody>\n",
       "    <tr>\n",
       "      <th>2020-12-12</th>\n",
       "      <td>14.22</td>\n",
       "      <td>1.34</td>\n",
       "      <td>2.05</td>\n",
       "      <td>1.25</td>\n",
       "      <td>3.77</td>\n",
       "      <td>0.72</td>\n",
       "      <td>0.79</td>\n",
       "      <td>0.9</td>\n",
       "      <td>1.85</td>\n",
       "      <td>7.83</td>\n",
       "    </tr>\n",
       "    <tr>\n",
       "      <th>2020-12-13</th>\n",
       "      <td>14.22</td>\n",
       "      <td>1.34</td>\n",
       "      <td>2.05</td>\n",
       "      <td>1.25</td>\n",
       "      <td>3.77</td>\n",
       "      <td>0.72</td>\n",
       "      <td>0.79</td>\n",
       "      <td>0.9</td>\n",
       "      <td>1.85</td>\n",
       "      <td>7.83</td>\n",
       "    </tr>\n",
       "    <tr>\n",
       "      <th>2020-12-14</th>\n",
       "      <td>14.22</td>\n",
       "      <td>1.34</td>\n",
       "      <td>2.05</td>\n",
       "      <td>1.25</td>\n",
       "      <td>3.77</td>\n",
       "      <td>0.72</td>\n",
       "      <td>0.79</td>\n",
       "      <td>0.9</td>\n",
       "      <td>1.85</td>\n",
       "      <td>7.83</td>\n",
       "    </tr>\n",
       "    <tr>\n",
       "      <th>2020-12-15</th>\n",
       "      <td>14.22</td>\n",
       "      <td>1.34</td>\n",
       "      <td>2.05</td>\n",
       "      <td>1.25</td>\n",
       "      <td>3.77</td>\n",
       "      <td>0.72</td>\n",
       "      <td>0.79</td>\n",
       "      <td>0.9</td>\n",
       "      <td>1.85</td>\n",
       "      <td>7.83</td>\n",
       "    </tr>\n",
       "    <tr>\n",
       "      <th>2020-12-16</th>\n",
       "      <td>14.22</td>\n",
       "      <td>1.34</td>\n",
       "      <td>2.05</td>\n",
       "      <td>1.25</td>\n",
       "      <td>3.77</td>\n",
       "      <td>0.72</td>\n",
       "      <td>0.79</td>\n",
       "      <td>0.9</td>\n",
       "      <td>1.85</td>\n",
       "      <td>7.83</td>\n",
       "    </tr>\n",
       "  </tbody>\n",
       "</table>\n",
       "</div>"
      ],
      "text/plain": [
       "Country     Belgium  Canada  Denmark  Finland  France  Germany  Portugal  \\\n",
       "Date                                                                       \n",
       "2020-12-12    14.22    1.34     2.05     1.25    3.77     0.72      0.79   \n",
       "2020-12-13    14.22    1.34     2.05     1.25    3.77     0.72      0.79   \n",
       "2020-12-14    14.22    1.34     2.05     1.25    3.77     0.72      0.79   \n",
       "2020-12-15    14.22    1.34     2.05     1.25    3.77     0.72      0.79   \n",
       "2020-12-16    14.22    1.34     2.05     1.25    3.77     0.72      0.79   \n",
       "\n",
       "Country     Romania  Ukraine  United Kingdom  \n",
       "Date                                          \n",
       "2020-12-12      0.9     1.85            7.83  \n",
       "2020-12-13      0.9     1.85            7.83  \n",
       "2020-12-14      0.9     1.85            7.83  \n",
       "2020-12-15      0.9     1.85            7.83  \n",
       "2020-12-16      0.9     1.85            7.83  "
      ]
     },
     "execution_count": 14,
     "metadata": {},
     "output_type": "execute_result"
    }
   ],
   "source": [
    "analyser.history(\"Rt\", roll_window=None).tail()"
   ]
  },
  {
   "cell_type": "markdown",
   "metadata": {},
   "source": [
    "### $\\rho$: Effective contact rate $\\mathrm{[-]}$"
   ]
  },
  {
   "cell_type": "code",
   "execution_count": 15,
   "metadata": {
    "collapsed": false
   },
   "outputs": [
    {
     "data": {
      "image/png": "[encoded data removed]",
      "text/plain": [
       "<Figure size 648x432 with 1 Axes>"
      ]
     },
     "metadata": {},
     "output_type": "display_data"
    },
    {
     "data": {
      "text/html": [
       "<div>\n",
       "<style scoped>\n",
       "    .dataframe tbody tr th:only-of-type {\n",
       "        vertical-align: middle;\n",
       "    }\n",
       "\n",
       "    .dataframe tbody tr th {\n",
       "        vertical-align: top;\n",
       "    }\n",
       "\n",
       "    .dataframe thead th {\n",
       "        text-align: right;\n",
       "    }\n",
       "</style>\n",
       "<table border=\"1\" class=\"dataframe\">\n",
       "  <thead>\n",
       "    <tr style=\"text-align: right;\">\n",
       "      <th>Country</th>\n",
       "      <th>Belgium</th>\n",
       "      <th>Canada</th>\n",
       "      <th>Denmark</th>\n",
       "      <th>Finland</th>\n",
       "      <th>France</th>\n",
       "      <th>Germany</th>\n",
       "      <th>Portugal</th>\n",
       "      <th>Romania</th>\n",
       "      <th>Ukraine</th>\n",
       "      <th>United Kingdom</th>\n",
       "    </tr>\n",
       "    <tr>\n",
       "      <th>Date</th>\n",
       "      <th></th>\n",
       "      <th></th>\n",
       "      <th></th>\n",
       "      <th></th>\n",
       "      <th></th>\n",
       "      <th></th>\n",
       "      <th></th>\n",
       "      <th></th>\n",
       "      <th></th>\n",
       "      <th></th>\n",
       "    </tr>\n",
       "  </thead>\n",
       "  <tbody>\n",
       "    <tr>\n",
       "      <th>2020-12-12</th>\n",
       "      <td>0.001176</td>\n",
       "      <td>0.024268</td>\n",
       "      <td>0.027835</td>\n",
       "      <td>0.007887</td>\n",
       "      <td>0.001443</td>\n",
       "      <td>0.017953</td>\n",
       "      <td>0.014219</td>\n",
       "      <td>0.019262</td>\n",
       "      <td>0.010752</td>\n",
       "      <td>0.002445</td>\n",
       "    </tr>\n",
       "    <tr>\n",
       "      <th>2020-12-13</th>\n",
       "      <td>0.001176</td>\n",
       "      <td>0.024268</td>\n",
       "      <td>0.027835</td>\n",
       "      <td>0.007887</td>\n",
       "      <td>0.001443</td>\n",
       "      <td>0.017953</td>\n",
       "      <td>0.014219</td>\n",
       "      <td>0.019262</td>\n",
       "      <td>0.010752</td>\n",
       "      <td>0.002445</td>\n",
       "    </tr>\n",
       "    <tr>\n",
       "      <th>2020-12-14</th>\n",
       "      <td>0.001176</td>\n",
       "      <td>0.024268</td>\n",
       "      <td>0.027835</td>\n",
       "      <td>0.007887</td>\n",
       "      <td>0.001443</td>\n",
       "      <td>0.017953</td>\n",
       "      <td>0.014219</td>\n",
       "      <td>0.019262</td>\n",
       "      <td>0.010752</td>\n",
       "      <td>0.002445</td>\n",
       "    </tr>\n",
       "    <tr>\n",
       "      <th>2020-12-15</th>\n",
       "      <td>0.001176</td>\n",
       "      <td>0.024268</td>\n",
       "      <td>0.027835</td>\n",
       "      <td>0.007887</td>\n",
       "      <td>0.001443</td>\n",
       "      <td>0.017953</td>\n",
       "      <td>0.014219</td>\n",
       "      <td>0.019262</td>\n",
       "      <td>0.010752</td>\n",
       "      <td>0.002445</td>\n",
       "    </tr>\n",
       "    <tr>\n",
       "      <th>2020-12-16</th>\n",
       "      <td>0.001176</td>\n",
       "      <td>0.024268</td>\n",
       "      <td>0.027835</td>\n",
       "      <td>0.007887</td>\n",
       "      <td>0.001443</td>\n",
       "      <td>0.017953</td>\n",
       "      <td>0.014219</td>\n",
       "      <td>0.019262</td>\n",
       "      <td>0.010752</td>\n",
       "      <td>0.002445</td>\n",
       "    </tr>\n",
       "  </tbody>\n",
       "</table>\n",
       "</div>"
      ],
      "text/plain": [
       "Country      Belgium    Canada   Denmark   Finland    France   Germany  \\\n",
       "Date                                                                     \n",
       "2020-12-12  0.001176  0.024268  0.027835  0.007887  0.001443  0.017953   \n",
       "2020-12-13  0.001176  0.024268  0.027835  0.007887  0.001443  0.017953   \n",
       "2020-12-14  0.001176  0.024268  0.027835  0.007887  0.001443  0.017953   \n",
       "2020-12-15  0.001176  0.024268  0.027835  0.007887  0.001443  0.017953   \n",
       "2020-12-16  0.001176  0.024268  0.027835  0.007887  0.001443  0.017953   \n",
       "\n",
       "Country     Portugal   Romania   Ukraine  United Kingdom  \n",
       "Date                                                      \n",
       "2020-12-12  0.014219  0.019262  0.010752        0.002445  \n",
       "2020-12-13  0.014219  0.019262  0.010752        0.002445  \n",
       "2020-12-14  0.014219  0.019262  0.010752        0.002445  \n",
       "2020-12-15  0.014219  0.019262  0.010752        0.002445  \n",
       "2020-12-16  0.014219  0.019262  0.010752        0.002445  "
      ]
     },
     "execution_count": 15,
     "metadata": {},
     "output_type": "execute_result"
    }
   ],
   "source": [
    "analyser.history(\"rho\", roll_window=None).tail()"
   ]
  },
  {
   "cell_type": "markdown",
   "metadata": {},
   "source": [
    "### $\\sigma$: Recovery rate $\\mathrm{[-]}$"
   ]
  },
  {
   "cell_type": "code",
   "execution_count": 16,
   "metadata": {
    "collapsed": false
   },
   "outputs": [
    {
     "data": {
      "image/png": "[encoded data removed]",
      "text/plain": [
       "<Figure size 648x432 with 1 Axes>"
      ]
     },
     "metadata": {},
     "output_type": "display_data"
    },
    {
     "data": {
      "text/html": [
       "<div>\n",
       "<style scoped>\n",
       "    .dataframe tbody tr th:only-of-type {\n",
       "        vertical-align: middle;\n",
       "    }\n",
       "\n",
       "    .dataframe tbody tr th {\n",
       "        vertical-align: top;\n",
       "    }\n",
       "\n",
       "    .dataframe thead th {\n",
       "        text-align: right;\n",
       "    }\n",
       "</style>\n",
       "<table border=\"1\" class=\"dataframe\">\n",
       "  <thead>\n",
       "    <tr style=\"text-align: right;\">\n",
       "      <th>Country</th>\n",
       "      <th>Belgium</th>\n",
       "      <th>Canada</th>\n",
       "      <th>Denmark</th>\n",
       "      <th>Finland</th>\n",
       "      <th>France</th>\n",
       "      <th>Germany</th>\n",
       "      <th>Portugal</th>\n",
       "      <th>Romania</th>\n",
       "      <th>Ukraine</th>\n",
       "      <th>United Kingdom</th>\n",
       "    </tr>\n",
       "    <tr>\n",
       "      <th>Date</th>\n",
       "      <th></th>\n",
       "      <th></th>\n",
       "      <th></th>\n",
       "      <th></th>\n",
       "      <th></th>\n",
       "      <th></th>\n",
       "      <th></th>\n",
       "      <th></th>\n",
       "      <th></th>\n",
       "      <th></th>\n",
       "    </tr>\n",
       "  </thead>\n",
       "  <tbody>\n",
       "    <tr>\n",
       "      <th>2020-12-12</th>\n",
       "      <td>0.000008</td>\n",
       "      <td>0.017812</td>\n",
       "      <td>0.013473</td>\n",
       "      <td>0.006167</td>\n",
       "      <td>0.000114</td>\n",
       "      <td>0.024436</td>\n",
       "      <td>0.017686</td>\n",
       "      <td>0.020992</td>\n",
       "      <td>0.005688</td>\n",
       "      <td>1.498361e-07</td>\n",
       "    </tr>\n",
       "    <tr>\n",
       "      <th>2020-12-13</th>\n",
       "      <td>0.000008</td>\n",
       "      <td>0.017812</td>\n",
       "      <td>0.013473</td>\n",
       "      <td>0.006167</td>\n",
       "      <td>0.000114</td>\n",
       "      <td>0.024436</td>\n",
       "      <td>0.017686</td>\n",
       "      <td>0.020992</td>\n",
       "      <td>0.005688</td>\n",
       "      <td>1.498361e-07</td>\n",
       "    </tr>\n",
       "    <tr>\n",
       "      <th>2020-12-14</th>\n",
       "      <td>0.000008</td>\n",
       "      <td>0.017812</td>\n",
       "      <td>0.013473</td>\n",
       "      <td>0.006167</td>\n",
       "      <td>0.000114</td>\n",
       "      <td>0.024436</td>\n",
       "      <td>0.017686</td>\n",
       "      <td>0.020992</td>\n",
       "      <td>0.005688</td>\n",
       "      <td>1.498361e-07</td>\n",
       "    </tr>\n",
       "    <tr>\n",
       "      <th>2020-12-15</th>\n",
       "      <td>0.000008</td>\n",
       "      <td>0.017812</td>\n",
       "      <td>0.013473</td>\n",
       "      <td>0.006167</td>\n",
       "      <td>0.000114</td>\n",
       "      <td>0.024436</td>\n",
       "      <td>0.017686</td>\n",
       "      <td>0.020992</td>\n",
       "      <td>0.005688</td>\n",
       "      <td>1.498361e-07</td>\n",
       "    </tr>\n",
       "    <tr>\n",
       "      <th>2020-12-16</th>\n",
       "      <td>0.000008</td>\n",
       "      <td>0.017812</td>\n",
       "      <td>0.013473</td>\n",
       "      <td>0.006167</td>\n",
       "      <td>0.000114</td>\n",
       "      <td>0.024436</td>\n",
       "      <td>0.017686</td>\n",
       "      <td>0.020992</td>\n",
       "      <td>0.005688</td>\n",
       "      <td>1.498361e-07</td>\n",
       "    </tr>\n",
       "  </tbody>\n",
       "</table>\n",
       "</div>"
      ],
      "text/plain": [
       "Country      Belgium    Canada   Denmark   Finland    France   Germany  \\\n",
       "Date                                                                     \n",
       "2020-12-12  0.000008  0.017812  0.013473  0.006167  0.000114  0.024436   \n",
       "2020-12-13  0.000008  0.017812  0.013473  0.006167  0.000114  0.024436   \n",
       "2020-12-14  0.000008  0.017812  0.013473  0.006167  0.000114  0.024436   \n",
       "2020-12-15  0.000008  0.017812  0.013473  0.006167  0.000114  0.024436   \n",
       "2020-12-16  0.000008  0.017812  0.013473  0.006167  0.000114  0.024436   \n",
       "\n",
       "Country     Portugal   Romania   Ukraine  United Kingdom  \n",
       "Date                                                      \n",
       "2020-12-12  0.017686  0.020992  0.005688    1.498361e-07  \n",
       "2020-12-13  0.017686  0.020992  0.005688    1.498361e-07  \n",
       "2020-12-14  0.017686  0.020992  0.005688    1.498361e-07  \n",
       "2020-12-15  0.017686  0.020992  0.005688    1.498361e-07  \n",
       "2020-12-16  0.017686  0.020992  0.005688    1.498361e-07  "
      ]
     },
     "execution_count": 16,
     "metadata": {},
     "output_type": "execute_result"
    }
   ],
   "source": [
    "analyser.history(\"sigma\", roll_window=None).tail()"
   ]
  },
  {
   "cell_type": "markdown",
   "metadata": {},
   "source": [
    "### $\\kappa$: Mortality rate of infected cases $\\mathrm{[-]}$"
   ]
  },
  {
   "cell_type": "code",
   "execution_count": 17,
   "metadata": {
    "collapsed": false
   },
   "outputs": [
    {
     "data": {
      "image/png": "[encoded data removed]",
      "text/plain": [
       "<Figure size 648x432 with 1 Axes>"
      ]
     },
     "metadata": {},
     "output_type": "display_data"
    },
    {
     "data": {
      "text/html": [
       "<div>\n",
       "<style scoped>\n",
       "    .dataframe tbody tr th:only-of-type {\n",
       "        vertical-align: middle;\n",
       "    }\n",
       "\n",
       "    .dataframe tbody tr th {\n",
       "        vertical-align: top;\n",
       "    }\n",
       "\n",
       "    .dataframe thead th {\n",
       "        text-align: right;\n",
       "    }\n",
       "</style>\n",
       "<table border=\"1\" class=\"dataframe\">\n",
       "  <thead>\n",
       "    <tr style=\"text-align: right;\">\n",
       "      <th>Country</th>\n",
       "      <th>Belgium</th>\n",
       "      <th>Canada</th>\n",
       "      <th>Denmark</th>\n",
       "      <th>Finland</th>\n",
       "      <th>France</th>\n",
       "      <th>Germany</th>\n",
       "      <th>Portugal</th>\n",
       "      <th>Romania</th>\n",
       "      <th>Ukraine</th>\n",
       "      <th>United Kingdom</th>\n",
       "    </tr>\n",
       "    <tr>\n",
       "      <th>Date</th>\n",
       "      <th></th>\n",
       "      <th></th>\n",
       "      <th></th>\n",
       "      <th></th>\n",
       "      <th></th>\n",
       "      <th></th>\n",
       "      <th></th>\n",
       "      <th></th>\n",
       "      <th></th>\n",
       "      <th></th>\n",
       "    </tr>\n",
       "  </thead>\n",
       "  <tbody>\n",
       "    <tr>\n",
       "      <th>2020-12-12</th>\n",
       "      <td>0.000067</td>\n",
       "      <td>0.000301</td>\n",
       "      <td>0.000079</td>\n",
       "      <td>0.000014</td>\n",
       "      <td>0.000002</td>\n",
       "      <td>0.000079</td>\n",
       "      <td>0.000002</td>\n",
       "      <td>0.000301</td>\n",
       "      <td>0.000071</td>\n",
       "      <td>0.00019</td>\n",
       "    </tr>\n",
       "    <tr>\n",
       "      <th>2020-12-13</th>\n",
       "      <td>0.000067</td>\n",
       "      <td>0.000301</td>\n",
       "      <td>0.000079</td>\n",
       "      <td>0.000014</td>\n",
       "      <td>0.000002</td>\n",
       "      <td>0.000079</td>\n",
       "      <td>0.000002</td>\n",
       "      <td>0.000301</td>\n",
       "      <td>0.000071</td>\n",
       "      <td>0.00019</td>\n",
       "    </tr>\n",
       "    <tr>\n",
       "      <th>2020-12-14</th>\n",
       "      <td>0.000067</td>\n",
       "      <td>0.000301</td>\n",
       "      <td>0.000079</td>\n",
       "      <td>0.000014</td>\n",
       "      <td>0.000002</td>\n",
       "      <td>0.000079</td>\n",
       "      <td>0.000002</td>\n",
       "      <td>0.000301</td>\n",
       "      <td>0.000071</td>\n",
       "      <td>0.00019</td>\n",
       "    </tr>\n",
       "    <tr>\n",
       "      <th>2020-12-15</th>\n",
       "      <td>0.000067</td>\n",
       "      <td>0.000301</td>\n",
       "      <td>0.000079</td>\n",
       "      <td>0.000014</td>\n",
       "      <td>0.000002</td>\n",
       "      <td>0.000079</td>\n",
       "      <td>0.000002</td>\n",
       "      <td>0.000301</td>\n",
       "      <td>0.000071</td>\n",
       "      <td>0.00019</td>\n",
       "    </tr>\n",
       "    <tr>\n",
       "      <th>2020-12-16</th>\n",
       "      <td>0.000067</td>\n",
       "      <td>0.000301</td>\n",
       "      <td>0.000079</td>\n",
       "      <td>0.000014</td>\n",
       "      <td>0.000002</td>\n",
       "      <td>0.000079</td>\n",
       "      <td>0.000002</td>\n",
       "      <td>0.000301</td>\n",
       "      <td>0.000071</td>\n",
       "      <td>0.00019</td>\n",
       "    </tr>\n",
       "  </tbody>\n",
       "</table>\n",
       "</div>"
      ],
      "text/plain": [
       "Country      Belgium    Canada   Denmark   Finland    France   Germany  \\\n",
       "Date                                                                     \n",
       "2020-12-12  0.000067  0.000301  0.000079  0.000014  0.000002  0.000079   \n",
       "2020-12-13  0.000067  0.000301  0.000079  0.000014  0.000002  0.000079   \n",
       "2020-12-14  0.000067  0.000301  0.000079  0.000014  0.000002  0.000079   \n",
       "2020-12-15  0.000067  0.000301  0.000079  0.000014  0.000002  0.000079   \n",
       "2020-12-16  0.000067  0.000301  0.000079  0.000014  0.000002  0.000079   \n",
       "\n",
       "Country     Portugal   Romania   Ukraine  United Kingdom  \n",
       "Date                                                      \n",
       "2020-12-12  0.000002  0.000301  0.000071         0.00019  \n",
       "2020-12-13  0.000002  0.000301  0.000071         0.00019  \n",
       "2020-12-14  0.000002  0.000301  0.000071         0.00019  \n",
       "2020-12-15  0.000002  0.000301  0.000071         0.00019  \n",
       "2020-12-16  0.000002  0.000301  0.000071         0.00019  "
      ]
     },
     "execution_count": 17,
     "metadata": {},
     "output_type": "execute_result"
    }
   ],
   "source": [
    "analyser.history(\"kappa\", roll_window=None).tail()"
   ]
  },
  {
   "cell_type": "markdown",
   "metadata": {},
   "source": [
    "### $\\theta$: Mortality rate of S$^\\ast$ cases $\\mathrm{[-]}$"
   ]
  },
  {
   "cell_type": "code",
   "execution_count": 18,
   "metadata": {
    "collapsed": false
   },
   "outputs": [
    {
     "data": {
      "image/png": "[encoded data removed]",
      "text/plain": [
       "<Figure size 648x432 with 1 Axes>"
      ]
     },
     "metadata": {},
     "output_type": "display_data"
    },
    {
     "data": {
      "text/html": [
       "<div>\n",
       "<style scoped>\n",
       "    .dataframe tbody tr th:only-of-type {\n",
       "        vertical-align: middle;\n",
       "    }\n",
       "\n",
       "    .dataframe tbody tr th {\n",
       "        vertical-align: top;\n",
       "    }\n",
       "\n",
       "    .dataframe thead th {\n",
       "        text-align: right;\n",
       "    }\n",
       "</style>\n",
       "<table border=\"1\" class=\"dataframe\">\n",
       "  <thead>\n",
       "    <tr style=\"text-align: right;\">\n",
       "      <th>Country</th>\n",
       "      <th>Belgium</th>\n",
       "      <th>Canada</th>\n",
       "      <th>Denmark</th>\n",
       "      <th>Finland</th>\n",
       "      <th>France</th>\n",
       "      <th>Germany</th>\n",
       "      <th>Portugal</th>\n",
       "      <th>Romania</th>\n",
       "      <th>Ukraine</th>\n",
       "      <th>United Kingdom</th>\n",
       "    </tr>\n",
       "    <tr>\n",
       "      <th>Date</th>\n",
       "      <th></th>\n",
       "      <th></th>\n",
       "      <th></th>\n",
       "      <th></th>\n",
       "      <th></th>\n",
       "      <th></th>\n",
       "      <th></th>\n",
       "      <th></th>\n",
       "      <th></th>\n",
       "      <th></th>\n",
       "    </tr>\n",
       "  </thead>\n",
       "  <tbody>\n",
       "    <tr>\n",
       "      <th>2020-12-12</th>\n",
       "      <td>0.092504</td>\n",
       "      <td>0.002617</td>\n",
       "      <td>0.001598</td>\n",
       "      <td>0.017358</td>\n",
       "      <td>0.697239</td>\n",
       "      <td>0.015989</td>\n",
       "      <td>0.019827</td>\n",
       "      <td>0.003086</td>\n",
       "      <td>0.010628</td>\n",
       "      <td>0.389913</td>\n",
       "    </tr>\n",
       "    <tr>\n",
       "      <th>2020-12-13</th>\n",
       "      <td>0.092504</td>\n",
       "      <td>0.002617</td>\n",
       "      <td>0.001598</td>\n",
       "      <td>0.017358</td>\n",
       "      <td>0.697239</td>\n",
       "      <td>0.015989</td>\n",
       "      <td>0.019827</td>\n",
       "      <td>0.003086</td>\n",
       "      <td>0.010628</td>\n",
       "      <td>0.389913</td>\n",
       "    </tr>\n",
       "    <tr>\n",
       "      <th>2020-12-14</th>\n",
       "      <td>0.092504</td>\n",
       "      <td>0.002617</td>\n",
       "      <td>0.001598</td>\n",
       "      <td>0.017358</td>\n",
       "      <td>0.697239</td>\n",
       "      <td>0.015989</td>\n",
       "      <td>0.019827</td>\n",
       "      <td>0.003086</td>\n",
       "      <td>0.010628</td>\n",
       "      <td>0.389913</td>\n",
       "    </tr>\n",
       "    <tr>\n",
       "      <th>2020-12-15</th>\n",
       "      <td>0.092504</td>\n",
       "      <td>0.002617</td>\n",
       "      <td>0.001598</td>\n",
       "      <td>0.017358</td>\n",
       "      <td>0.697239</td>\n",
       "      <td>0.015989</td>\n",
       "      <td>0.019827</td>\n",
       "      <td>0.003086</td>\n",
       "      <td>0.010628</td>\n",
       "      <td>0.389913</td>\n",
       "    </tr>\n",
       "    <tr>\n",
       "      <th>2020-12-16</th>\n",
       "      <td>0.092504</td>\n",
       "      <td>0.002617</td>\n",
       "      <td>0.001598</td>\n",
       "      <td>0.017358</td>\n",
       "      <td>0.697239</td>\n",
       "      <td>0.015989</td>\n",
       "      <td>0.019827</td>\n",
       "      <td>0.003086</td>\n",
       "      <td>0.010628</td>\n",
       "      <td>0.389913</td>\n",
       "    </tr>\n",
       "  </tbody>\n",
       "</table>\n",
       "</div>"
      ],
      "text/plain": [
       "Country      Belgium    Canada   Denmark   Finland    France   Germany  \\\n",
       "Date                                                                     \n",
       "2020-12-12  0.092504  0.002617  0.001598  0.017358  0.697239  0.015989   \n",
       "2020-12-13  0.092504  0.002617  0.001598  0.017358  0.697239  0.015989   \n",
       "2020-12-14  0.092504  0.002617  0.001598  0.017358  0.697239  0.015989   \n",
       "2020-12-15  0.092504  0.002617  0.001598  0.017358  0.697239  0.015989   \n",
       "2020-12-16  0.092504  0.002617  0.001598  0.017358  0.697239  0.015989   \n",
       "\n",
       "Country     Portugal   Romania   Ukraine  United Kingdom  \n",
       "Date                                                      \n",
       "2020-12-12  0.019827  0.003086  0.010628        0.389913  \n",
       "2020-12-13  0.019827  0.003086  0.010628        0.389913  \n",
       "2020-12-14  0.019827  0.003086  0.010628        0.389913  \n",
       "2020-12-15  0.019827  0.003086  0.010628        0.389913  \n",
       "2020-12-16  0.019827  0.003086  0.010628        0.389913  "
      ]
     },
     "execution_count": 18,
     "metadata": {},
     "output_type": "execute_result"
    }
   ],
   "source": [
    "analyser.history(\"theta\", roll_window=None).tail()"
   ]
  },
  {
   "cell_type": "markdown",
   "metadata": {},
   "source": [
    "## (Experimental): Relationship of OxCGRT index and parameter values\n",
    "Government responses will impact on parameter values of ODE models about 14 days later. Here, we will investigate on the relationship of [stringency index (from OxCGRT)](https://github.com/OxCGRT/covid-policy-tracker/blob/master/documentation/index_methodology.md) and reproduction number/model parameters.\n"
   ]
  },
  {
   "cell_type": "code",
   "execution_count": 19,
   "metadata": {
    "collapsed": false
   },
   "outputs": [],
   "source": [
    "%matplotlib inline\n",
    "from matplotlib import pyplot as plt\n",
    "import seaborn as sns\n",
    "import pandas as pd"
   ]
  },
  {
   "cell_type": "code",
   "execution_count": 20,
   "metadata": {
    "collapsed": false
   },
   "outputs": [
    {
     "name": "stdout",
     "output_type": "stream",
     "text": [
      "<class 'pandas.core.frame.DataFrame'>\n",
      "Int64Index: 29118 entries, 0 to 29243\n",
      "Data columns (total 19 columns):\n",
      " #   Column                               Non-Null Count  Dtype         \n",
      "---  ------                               --------------  -----         \n",
      " 0   Date                                 29118 non-null  datetime64[ns]\n",
      " 1   Country                              29118 non-null  object        \n",
      " 2   Rt                                   29118 non-null  float64       \n",
      " 3   theta                                29118 non-null  float64       \n",
      " 4   kappa                                29118 non-null  float64       \n",
      " 5   rho                                  29118 non-null  float64       \n",
      " 6   sigma                                29118 non-null  float64       \n",
      " 7   School_closing                       29118 non-null  int64         \n",
      " 8   Workplace_closing                    29118 non-null  int64         \n",
      " 9   Cancel_events                        29118 non-null  int64         \n",
      " 10  Gatherings_restrictions              29118 non-null  int64         \n",
      " 11  Transport_closing                    29118 non-null  int64         \n",
      " 12  Stay_home_restrictions               29118 non-null  int64         \n",
      " 13  Internal_movement_restrictions       29118 non-null  int64         \n",
      " 14  International_movement_restrictions  29118 non-null  int64         \n",
      " 15  Information_campaigns                29118 non-null  int64         \n",
      " 16  Testing_policy                       29118 non-null  int64         \n",
      " 17  Contact_tracing                      29118 non-null  int64         \n",
      " 18  Stringency_index                     29118 non-null  float64       \n",
      "dtypes: datetime64[ns](1), float64(6), int64(11), object(1)\n",
      "memory usage: 4.4+ MB\n"
     ]
    }
   ],
   "source": [
    "df = analyser.track()\n",
    "param_cols = [\"Rt\", *cs.SIRF.PARAMETERS]\n",
    "oxcgrt_cols = oxcgrt_data.OXCGRT_VARS[:]\n",
    "cols = param_cols + oxcgrt_cols\n",
    "delay = 14\n",
    "\n",
    "for col in param_cols:\n",
    "    df[col] = pd.to_numeric(df[col], errors=\"coerce\")\n",
    "    df[col] = df.groupby(\"Country\")[col].shift(0 - delay)\n",
    "\n",
    "df = df.dropna(how=\"any\")\n",
    "df = df.loc[:, [\"Date\", \"Country\", *cols]]\n",
    "track_df = df.copy()\n",
    "track_df.info()"
   ]
  },
  {
   "cell_type": "code",
   "execution_count": 21,
   "metadata": {
    "collapsed": false
   },
   "outputs": [
    {
     "data": {
      "text/html": [
       "<style  type=\"text/css\" >\n",
       "#T_470944b4_3fbc_11eb_bd74_525400a703a1row0_col0,#T_470944b4_3fbc_11eb_bd74_525400a703a1row1_col1,#T_470944b4_3fbc_11eb_bd74_525400a703a1row2_col2,#T_470944b4_3fbc_11eb_bd74_525400a703a1row3_col3,#T_470944b4_3fbc_11eb_bd74_525400a703a1row4_col4,#T_470944b4_3fbc_11eb_bd74_525400a703a1row5_col5,#T_470944b4_3fbc_11eb_bd74_525400a703a1row6_col6,#T_470944b4_3fbc_11eb_bd74_525400a703a1row7_col7,#T_470944b4_3fbc_11eb_bd74_525400a703a1row8_col8,#T_470944b4_3fbc_11eb_bd74_525400a703a1row9_col9,#T_470944b4_3fbc_11eb_bd74_525400a703a1row10_col10,#T_470944b4_3fbc_11eb_bd74_525400a703a1row11_col11,#T_470944b4_3fbc_11eb_bd74_525400a703a1row12_col12,#T_470944b4_3fbc_11eb_bd74_525400a703a1row13_col13,#T_470944b4_3fbc_11eb_bd74_525400a703a1row14_col14,#T_470944b4_3fbc_11eb_bd74_525400a703a1row15_col15,#T_470944b4_3fbc_11eb_bd74_525400a703a1row16_col16{\n",
       "            background-color:  #023858;\n",
       "            color:  #f1f1f1;\n",
       "        }#T_470944b4_3fbc_11eb_bd74_525400a703a1row0_col1,#T_470944b4_3fbc_11eb_bd74_525400a703a1row1_col0,#T_470944b4_3fbc_11eb_bd74_525400a703a1row10_col15,#T_470944b4_3fbc_11eb_bd74_525400a703a1row15_col10{\n",
       "            background-color:  #b1c2de;\n",
       "            color:  #000000;\n",
       "        }#T_470944b4_3fbc_11eb_bd74_525400a703a1row0_col2,#T_470944b4_3fbc_11eb_bd74_525400a703a1row0_col12,#T_470944b4_3fbc_11eb_bd74_525400a703a1row2_col0,#T_470944b4_3fbc_11eb_bd74_525400a703a1row12_col0{\n",
       "            background-color:  #b8c6e0;\n",
       "            color:  #000000;\n",
       "        }#T_470944b4_3fbc_11eb_bd74_525400a703a1row0_col3,#T_470944b4_3fbc_11eb_bd74_525400a703a1row0_col6,#T_470944b4_3fbc_11eb_bd74_525400a703a1row3_col0,#T_470944b4_3fbc_11eb_bd74_525400a703a1row6_col0{\n",
       "            background-color:  #a8bedc;\n",
       "            color:  #000000;\n",
       "        }#T_470944b4_3fbc_11eb_bd74_525400a703a1row0_col4,#T_470944b4_3fbc_11eb_bd74_525400a703a1row4_col0{\n",
       "            background-color:  #bcc7e1;\n",
       "            color:  #000000;\n",
       "        }#T_470944b4_3fbc_11eb_bd74_525400a703a1row0_col5,#T_470944b4_3fbc_11eb_bd74_525400a703a1row5_col0{\n",
       "            background-color:  #b7c5df;\n",
       "            color:  #000000;\n",
       "        }#T_470944b4_3fbc_11eb_bd74_525400a703a1row0_col7,#T_470944b4_3fbc_11eb_bd74_525400a703a1row4_col8,#T_470944b4_3fbc_11eb_bd74_525400a703a1row7_col0,#T_470944b4_3fbc_11eb_bd74_525400a703a1row8_col4{\n",
       "            background-color:  #9cb9d9;\n",
       "            color:  #000000;\n",
       "        }#T_470944b4_3fbc_11eb_bd74_525400a703a1row0_col8,#T_470944b4_3fbc_11eb_bd74_525400a703a1row0_col13,#T_470944b4_3fbc_11eb_bd74_525400a703a1row8_col0,#T_470944b4_3fbc_11eb_bd74_525400a703a1row13_col0{\n",
       "            background-color:  #a2bcda;\n",
       "            color:  #000000;\n",
       "        }#T_470944b4_3fbc_11eb_bd74_525400a703a1row0_col9,#T_470944b4_3fbc_11eb_bd74_525400a703a1row4_col5,#T_470944b4_3fbc_11eb_bd74_525400a703a1row5_col4,#T_470944b4_3fbc_11eb_bd74_525400a703a1row9_col0{\n",
       "            background-color:  #93b5d6;\n",
       "            color:  #000000;\n",
       "        }#T_470944b4_3fbc_11eb_bd74_525400a703a1row0_col10,#T_470944b4_3fbc_11eb_bd74_525400a703a1row10_col0{\n",
       "            background-color:  #adc1dd;\n",
       "            color:  #000000;\n",
       "        }#T_470944b4_3fbc_11eb_bd74_525400a703a1row0_col11,#T_470944b4_3fbc_11eb_bd74_525400a703a1row2_col10,#T_470944b4_3fbc_11eb_bd74_525400a703a1row4_col13,#T_470944b4_3fbc_11eb_bd74_525400a703a1row10_col2,#T_470944b4_3fbc_11eb_bd74_525400a703a1row10_col14,#T_470944b4_3fbc_11eb_bd74_525400a703a1row11_col0,#T_470944b4_3fbc_11eb_bd74_525400a703a1row13_col4,#T_470944b4_3fbc_11eb_bd74_525400a703a1row14_col10{\n",
       "            background-color:  #96b6d7;\n",
       "            color:  #000000;\n",
       "        }#T_470944b4_3fbc_11eb_bd74_525400a703a1row0_col14,#T_470944b4_3fbc_11eb_bd74_525400a703a1row9_col15,#T_470944b4_3fbc_11eb_bd74_525400a703a1row14_col0,#T_470944b4_3fbc_11eb_bd74_525400a703a1row15_col9{\n",
       "            background-color:  #afc1dd;\n",
       "            color:  #000000;\n",
       "        }#T_470944b4_3fbc_11eb_bd74_525400a703a1row0_col15,#T_470944b4_3fbc_11eb_bd74_525400a703a1row1_col12,#T_470944b4_3fbc_11eb_bd74_525400a703a1row2_col8,#T_470944b4_3fbc_11eb_bd74_525400a703a1row8_col2,#T_470944b4_3fbc_11eb_bd74_525400a703a1row12_col1,#T_470944b4_3fbc_11eb_bd74_525400a703a1row15_col0{\n",
       "            background-color:  #b0c2de;\n",
       "            color:  #000000;\n",
       "        }#T_470944b4_3fbc_11eb_bd74_525400a703a1row0_col16,#T_470944b4_3fbc_11eb_bd74_525400a703a1row16_col0{\n",
       "            background-color:  #abbfdc;\n",
       "            color:  #000000;\n",
       "        }#T_470944b4_3fbc_11eb_bd74_525400a703a1row1_col2,#T_470944b4_3fbc_11eb_bd74_525400a703a1row2_col1{\n",
       "            background-color:  #d6d6e9;\n",
       "            color:  #000000;\n",
       "        }#T_470944b4_3fbc_11eb_bd74_525400a703a1row1_col3,#T_470944b4_3fbc_11eb_bd74_525400a703a1row3_col1{\n",
       "            background-color:  #f9f2f8;\n",
       "            color:  #000000;\n",
       "        }#T_470944b4_3fbc_11eb_bd74_525400a703a1row1_col4,#T_470944b4_3fbc_11eb_bd74_525400a703a1row3_col10,#T_470944b4_3fbc_11eb_bd74_525400a703a1row4_col1,#T_470944b4_3fbc_11eb_bd74_525400a703a1row10_col3{\n",
       "            background-color:  #e8e4f0;\n",
       "            color:  #000000;\n",
       "        }#T_470944b4_3fbc_11eb_bd74_525400a703a1row1_col5,#T_470944b4_3fbc_11eb_bd74_525400a703a1row5_col1,#T_470944b4_3fbc_11eb_bd74_525400a703a1row5_col9,#T_470944b4_3fbc_11eb_bd74_525400a703a1row9_col5{\n",
       "            background-color:  #6fa7ce;\n",
       "            color:  #000000;\n",
       "        }#T_470944b4_3fbc_11eb_bd74_525400a703a1row1_col6,#T_470944b4_3fbc_11eb_bd74_525400a703a1row1_col13,#T_470944b4_3fbc_11eb_bd74_525400a703a1row6_col1,#T_470944b4_3fbc_11eb_bd74_525400a703a1row6_col14,#T_470944b4_3fbc_11eb_bd74_525400a703a1row13_col1,#T_470944b4_3fbc_11eb_bd74_525400a703a1row14_col6{\n",
       "            background-color:  #7eadd1;\n",
       "            color:  #000000;\n",
       "        }#T_470944b4_3fbc_11eb_bd74_525400a703a1row1_col7,#T_470944b4_3fbc_11eb_bd74_525400a703a1row1_col9,#T_470944b4_3fbc_11eb_bd74_525400a703a1row6_col12,#T_470944b4_3fbc_11eb_bd74_525400a703a1row7_col1,#T_470944b4_3fbc_11eb_bd74_525400a703a1row9_col1,#T_470944b4_3fbc_11eb_bd74_525400a703a1row12_col6{\n",
       "            background-color:  #4295c3;\n",
       "            color:  #000000;\n",
       "        }#T_470944b4_3fbc_11eb_bd74_525400a703a1row1_col8,#T_470944b4_3fbc_11eb_bd74_525400a703a1row8_col1,#T_470944b4_3fbc_11eb_bd74_525400a703a1row10_col12,#T_470944b4_3fbc_11eb_bd74_525400a703a1row12_col10{\n",
       "            background-color:  #569dc8;\n",
       "            color:  #000000;\n",
       "        }#T_470944b4_3fbc_11eb_bd74_525400a703a1row1_col10,#T_470944b4_3fbc_11eb_bd74_525400a703a1row10_col1{\n",
       "            background-color:  #89b1d4;\n",
       "            color:  #000000;\n",
       "        }#T_470944b4_3fbc_11eb_bd74_525400a703a1row1_col11,#T_470944b4_3fbc_11eb_bd74_525400a703a1row10_col13,#T_470944b4_3fbc_11eb_bd74_525400a703a1row11_col1,#T_470944b4_3fbc_11eb_bd74_525400a703a1row13_col10{\n",
       "            background-color:  #308cbe;\n",
       "            color:  #000000;\n",
       "        }#T_470944b4_3fbc_11eb_bd74_525400a703a1row1_col14,#T_470944b4_3fbc_11eb_bd74_525400a703a1row14_col1{\n",
       "            background-color:  #bbc7e0;\n",
       "            color:  #000000;\n",
       "        }#T_470944b4_3fbc_11eb_bd74_525400a703a1row1_col15,#T_470944b4_3fbc_11eb_bd74_525400a703a1row15_col1{\n",
       "            background-color:  #6da6cd;\n",
       "            color:  #000000;\n",
       "        }#T_470944b4_3fbc_11eb_bd74_525400a703a1row1_col16,#T_470944b4_3fbc_11eb_bd74_525400a703a1row16_col1{\n",
       "            background-color:  #65a3cb;\n",
       "            color:  #000000;\n",
       "        }#T_470944b4_3fbc_11eb_bd74_525400a703a1row2_col3,#T_470944b4_3fbc_11eb_bd74_525400a703a1row3_col2{\n",
       "            background-color:  #78abd0;\n",
       "            color:  #000000;\n",
       "        }#T_470944b4_3fbc_11eb_bd74_525400a703a1row2_col4,#T_470944b4_3fbc_11eb_bd74_525400a703a1row2_col5,#T_470944b4_3fbc_11eb_bd74_525400a703a1row4_col2,#T_470944b4_3fbc_11eb_bd74_525400a703a1row5_col2,#T_470944b4_3fbc_11eb_bd74_525400a703a1row5_col11,#T_470944b4_3fbc_11eb_bd74_525400a703a1row11_col5{\n",
       "            background-color:  #67a4cc;\n",
       "            color:  #000000;\n",
       "        }#T_470944b4_3fbc_11eb_bd74_525400a703a1row2_col6,#T_470944b4_3fbc_11eb_bd74_525400a703a1row6_col2,#T_470944b4_3fbc_11eb_bd74_525400a703a1row14_col16,#T_470944b4_3fbc_11eb_bd74_525400a703a1row16_col14{\n",
       "            background-color:  #73a9cf;\n",
       "            color:  #000000;\n",
       "        }#T_470944b4_3fbc_11eb_bd74_525400a703a1row2_col7,#T_470944b4_3fbc_11eb_bd74_525400a703a1row7_col2{\n",
       "            background-color:  #ced0e6;\n",
       "            color:  #000000;\n",
       "        }#T_470944b4_3fbc_11eb_bd74_525400a703a1row2_col9,#T_470944b4_3fbc_11eb_bd74_525400a703a1row2_col11,#T_470944b4_3fbc_11eb_bd74_525400a703a1row2_col15,#T_470944b4_3fbc_11eb_bd74_525400a703a1row9_col2,#T_470944b4_3fbc_11eb_bd74_525400a703a1row11_col2,#T_470944b4_3fbc_11eb_bd74_525400a703a1row15_col2{\n",
       "            background-color:  #c8cde4;\n",
       "            color:  #000000;\n",
       "        }#T_470944b4_3fbc_11eb_bd74_525400a703a1row2_col12,#T_470944b4_3fbc_11eb_bd74_525400a703a1row11_col15,#T_470944b4_3fbc_11eb_bd74_525400a703a1row12_col2,#T_470944b4_3fbc_11eb_bd74_525400a703a1row15_col11{\n",
       "            background-color:  #8eb3d5;\n",
       "            color:  #000000;\n",
       "        }#T_470944b4_3fbc_11eb_bd74_525400a703a1row2_col13,#T_470944b4_3fbc_11eb_bd74_525400a703a1row13_col2{\n",
       "            background-color:  #a4bcda;\n",
       "            color:  #000000;\n",
       "        }#T_470944b4_3fbc_11eb_bd74_525400a703a1row2_col14,#T_470944b4_3fbc_11eb_bd74_525400a703a1row9_col12,#T_470944b4_3fbc_11eb_bd74_525400a703a1row12_col9,#T_470944b4_3fbc_11eb_bd74_525400a703a1row14_col2{\n",
       "            background-color:  #b5c4df;\n",
       "            color:  #000000;\n",
       "        }#T_470944b4_3fbc_11eb_bd74_525400a703a1row2_col16,#T_470944b4_3fbc_11eb_bd74_525400a703a1row16_col2{\n",
       "            background-color:  #84b0d3;\n",
       "            color:  #000000;\n",
       "        }#T_470944b4_3fbc_11eb_bd74_525400a703a1row3_col4,#T_470944b4_3fbc_11eb_bd74_525400a703a1row4_col3{\n",
       "            background-color:  #3d93c2;\n",
       "            color:  #000000;\n",
       "        }#T_470944b4_3fbc_11eb_bd74_525400a703a1row3_col5,#T_470944b4_3fbc_11eb_bd74_525400a703a1row5_col3{\n",
       "            background-color:  #dddbec;\n",
       "            color:  #000000;\n",
       "        }#T_470944b4_3fbc_11eb_bd74_525400a703a1row3_col6,#T_470944b4_3fbc_11eb_bd74_525400a703a1row6_col3{\n",
       "            background-color:  #ebe6f2;\n",
       "            color:  #000000;\n",
       "        }#T_470944b4_3fbc_11eb_bd74_525400a703a1row3_col7,#T_470944b4_3fbc_11eb_bd74_525400a703a1row7_col3{\n",
       "            background-color:  #ede7f2;\n",
       "            color:  #000000;\n",
       "        }#T_470944b4_3fbc_11eb_bd74_525400a703a1row3_col8,#T_470944b4_3fbc_11eb_bd74_525400a703a1row8_col3{\n",
       "            background-color:  #fff7fb;\n",
       "            color:  #000000;\n",
       "        }#T_470944b4_3fbc_11eb_bd74_525400a703a1row3_col9,#T_470944b4_3fbc_11eb_bd74_525400a703a1row3_col11,#T_470944b4_3fbc_11eb_bd74_525400a703a1row4_col9,#T_470944b4_3fbc_11eb_bd74_525400a703a1row9_col3,#T_470944b4_3fbc_11eb_bd74_525400a703a1row9_col4,#T_470944b4_3fbc_11eb_bd74_525400a703a1row11_col3{\n",
       "            background-color:  #f8f1f8;\n",
       "            color:  #000000;\n",
       "        }#T_470944b4_3fbc_11eb_bd74_525400a703a1row3_col12,#T_470944b4_3fbc_11eb_bd74_525400a703a1row12_col3{\n",
       "            background-color:  #e1dfed;\n",
       "            color:  #000000;\n",
       "        }#T_470944b4_3fbc_11eb_bd74_525400a703a1row3_col13,#T_470944b4_3fbc_11eb_bd74_525400a703a1row13_col3{\n",
       "            background-color:  #eae6f1;\n",
       "            color:  #000000;\n",
       "        }#T_470944b4_3fbc_11eb_bd74_525400a703a1row3_col14,#T_470944b4_3fbc_11eb_bd74_525400a703a1row14_col3{\n",
       "            background-color:  #dad9ea;\n",
       "            color:  #000000;\n",
       "        }#T_470944b4_3fbc_11eb_bd74_525400a703a1row3_col15,#T_470944b4_3fbc_11eb_bd74_525400a703a1row15_col3{\n",
       "            background-color:  #cdd0e5;\n",
       "            color:  #000000;\n",
       "        }#T_470944b4_3fbc_11eb_bd74_525400a703a1row3_col16,#T_470944b4_3fbc_11eb_bd74_525400a703a1row16_col3{\n",
       "            background-color:  #f5eff6;\n",
       "            color:  #000000;\n",
       "        }#T_470944b4_3fbc_11eb_bd74_525400a703a1row4_col6,#T_470944b4_3fbc_11eb_bd74_525400a703a1row6_col4,#T_470944b4_3fbc_11eb_bd74_525400a703a1row7_col14,#T_470944b4_3fbc_11eb_bd74_525400a703a1row14_col7{\n",
       "            background-color:  #9fbad9;\n",
       "            color:  #000000;\n",
       "        }#T_470944b4_3fbc_11eb_bd74_525400a703a1row4_col7,#T_470944b4_3fbc_11eb_bd74_525400a703a1row6_col15,#T_470944b4_3fbc_11eb_bd74_525400a703a1row7_col4,#T_470944b4_3fbc_11eb_bd74_525400a703a1row15_col6{\n",
       "            background-color:  #b9c6e0;\n",
       "            color:  #000000;\n",
       "        }#T_470944b4_3fbc_11eb_bd74_525400a703a1row4_col10,#T_470944b4_3fbc_11eb_bd74_525400a703a1row10_col4{\n",
       "            background-color:  #c1cae2;\n",
       "            color:  #000000;\n",
       "        }#T_470944b4_3fbc_11eb_bd74_525400a703a1row4_col11,#T_470944b4_3fbc_11eb_bd74_525400a703a1row11_col4{\n",
       "            background-color:  #e9e5f1;\n",
       "            color:  #000000;\n",
       "        }#T_470944b4_3fbc_11eb_bd74_525400a703a1row4_col12,#T_470944b4_3fbc_11eb_bd74_525400a703a1row12_col4{\n",
       "            background-color:  #3b92c1;\n",
       "            color:  #000000;\n",
       "        }#T_470944b4_3fbc_11eb_bd74_525400a703a1row4_col14,#T_470944b4_3fbc_11eb_bd74_525400a703a1row14_col4{\n",
       "            background-color:  #4094c3;\n",
       "            color:  #000000;\n",
       "        }#T_470944b4_3fbc_11eb_bd74_525400a703a1row4_col15,#T_470944b4_3fbc_11eb_bd74_525400a703a1row15_col4{\n",
       "            background-color:  #7dacd1;\n",
       "            color:  #000000;\n",
       "        }#T_470944b4_3fbc_11eb_bd74_525400a703a1row4_col16,#T_470944b4_3fbc_11eb_bd74_525400a703a1row16_col4{\n",
       "            background-color:  #a5bddb;\n",
       "            color:  #000000;\n",
       "        }#T_470944b4_3fbc_11eb_bd74_525400a703a1row5_col6,#T_470944b4_3fbc_11eb_bd74_525400a703a1row6_col5{\n",
       "            background-color:  #04649d;\n",
       "            color:  #f1f1f1;\n",
       "        }#T_470944b4_3fbc_11eb_bd74_525400a703a1row5_col7,#T_470944b4_3fbc_11eb_bd74_525400a703a1row7_col5{\n",
       "            background-color:  #80aed2;\n",
       "            color:  #000000;\n",
       "        }#T_470944b4_3fbc_11eb_bd74_525400a703a1row5_col8,#T_470944b4_3fbc_11eb_bd74_525400a703a1row7_col9,#T_470944b4_3fbc_11eb_bd74_525400a703a1row8_col5,#T_470944b4_3fbc_11eb_bd74_525400a703a1row9_col7{\n",
       "            background-color:  #2685bb;\n",
       "            color:  #000000;\n",
       "        }#T_470944b4_3fbc_11eb_bd74_525400a703a1row5_col10,#T_470944b4_3fbc_11eb_bd74_525400a703a1row6_col13,#T_470944b4_3fbc_11eb_bd74_525400a703a1row10_col5,#T_470944b4_3fbc_11eb_bd74_525400a703a1row13_col6{\n",
       "            background-color:  #1b7eb7;\n",
       "            color:  #000000;\n",
       "        }#T_470944b4_3fbc_11eb_bd74_525400a703a1row5_col12,#T_470944b4_3fbc_11eb_bd74_525400a703a1row6_col9,#T_470944b4_3fbc_11eb_bd74_525400a703a1row9_col6,#T_470944b4_3fbc_11eb_bd74_525400a703a1row12_col5{\n",
       "            background-color:  #549cc7;\n",
       "            color:  #000000;\n",
       "        }#T_470944b4_3fbc_11eb_bd74_525400a703a1row5_col13,#T_470944b4_3fbc_11eb_bd74_525400a703a1row6_col11,#T_470944b4_3fbc_11eb_bd74_525400a703a1row11_col6,#T_470944b4_3fbc_11eb_bd74_525400a703a1row13_col5{\n",
       "            background-color:  #358fc0;\n",
       "            color:  #000000;\n",
       "        }#T_470944b4_3fbc_11eb_bd74_525400a703a1row5_col14,#T_470944b4_3fbc_11eb_bd74_525400a703a1row14_col5{\n",
       "            background-color:  #9ab8d8;\n",
       "            color:  #000000;\n",
       "        }#T_470944b4_3fbc_11eb_bd74_525400a703a1row5_col15,#T_470944b4_3fbc_11eb_bd74_525400a703a1row11_col14,#T_470944b4_3fbc_11eb_bd74_525400a703a1row14_col11,#T_470944b4_3fbc_11eb_bd74_525400a703a1row15_col5{\n",
       "            background-color:  #b3c3de;\n",
       "            color:  #000000;\n",
       "        }#T_470944b4_3fbc_11eb_bd74_525400a703a1row5_col16,#T_470944b4_3fbc_11eb_bd74_525400a703a1row10_col16,#T_470944b4_3fbc_11eb_bd74_525400a703a1row16_col5,#T_470944b4_3fbc_11eb_bd74_525400a703a1row16_col10{\n",
       "            background-color:  #046096;\n",
       "            color:  #f1f1f1;\n",
       "        }#T_470944b4_3fbc_11eb_bd74_525400a703a1row6_col7,#T_470944b4_3fbc_11eb_bd74_525400a703a1row7_col6,#T_470944b4_3fbc_11eb_bd74_525400a703a1row12_col13,#T_470944b4_3fbc_11eb_bd74_525400a703a1row13_col12{\n",
       "            background-color:  #2383ba;\n",
       "            color:  #000000;\n",
       "        }#T_470944b4_3fbc_11eb_bd74_525400a703a1row6_col8,#T_470944b4_3fbc_11eb_bd74_525400a703a1row8_col6{\n",
       "            background-color:  #0567a2;\n",
       "            color:  #f1f1f1;\n",
       "        }#T_470944b4_3fbc_11eb_bd74_525400a703a1row6_col10,#T_470944b4_3fbc_11eb_bd74_525400a703a1row10_col6{\n",
       "            background-color:  #046299;\n",
       "            color:  #f1f1f1;\n",
       "        }#T_470944b4_3fbc_11eb_bd74_525400a703a1row6_col16,#T_470944b4_3fbc_11eb_bd74_525400a703a1row16_col6{\n",
       "            background-color:  #034c78;\n",
       "            color:  #f1f1f1;\n",
       "        }#T_470944b4_3fbc_11eb_bd74_525400a703a1row7_col8,#T_470944b4_3fbc_11eb_bd74_525400a703a1row8_col7{\n",
       "            background-color:  #056ba7;\n",
       "            color:  #f1f1f1;\n",
       "        }#T_470944b4_3fbc_11eb_bd74_525400a703a1row7_col10,#T_470944b4_3fbc_11eb_bd74_525400a703a1row10_col7{\n",
       "            background-color:  #2081b9;\n",
       "            color:  #000000;\n",
       "        }#T_470944b4_3fbc_11eb_bd74_525400a703a1row7_col11,#T_470944b4_3fbc_11eb_bd74_525400a703a1row11_col7{\n",
       "            background-color:  #0567a1;\n",
       "            color:  #f1f1f1;\n",
       "        }#T_470944b4_3fbc_11eb_bd74_525400a703a1row7_col12,#T_470944b4_3fbc_11eb_bd74_525400a703a1row12_col7{\n",
       "            background-color:  #88b1d4;\n",
       "            color:  #000000;\n",
       "        }#T_470944b4_3fbc_11eb_bd74_525400a703a1row7_col13,#T_470944b4_3fbc_11eb_bd74_525400a703a1row8_col9,#T_470944b4_3fbc_11eb_bd74_525400a703a1row9_col8,#T_470944b4_3fbc_11eb_bd74_525400a703a1row9_col10,#T_470944b4_3fbc_11eb_bd74_525400a703a1row10_col9,#T_470944b4_3fbc_11eb_bd74_525400a703a1row13_col7{\n",
       "            background-color:  #2f8bbe;\n",
       "            color:  #000000;\n",
       "        }#T_470944b4_3fbc_11eb_bd74_525400a703a1row7_col15,#T_470944b4_3fbc_11eb_bd74_525400a703a1row15_col7{\n",
       "            background-color:  #9ebad9;\n",
       "            color:  #000000;\n",
       "        }#T_470944b4_3fbc_11eb_bd74_525400a703a1row7_col16,#T_470944b4_3fbc_11eb_bd74_525400a703a1row8_col10,#T_470944b4_3fbc_11eb_bd74_525400a703a1row10_col8,#T_470944b4_3fbc_11eb_bd74_525400a703a1row16_col7{\n",
       "            background-color:  #0771b1;\n",
       "            color:  #f1f1f1;\n",
       "        }#T_470944b4_3fbc_11eb_bd74_525400a703a1row8_col11,#T_470944b4_3fbc_11eb_bd74_525400a703a1row11_col8{\n",
       "            background-color:  #056ba9;\n",
       "            color:  #f1f1f1;\n",
       "        }#T_470944b4_3fbc_11eb_bd74_525400a703a1row8_col12,#T_470944b4_3fbc_11eb_bd74_525400a703a1row12_col8{\n",
       "            background-color:  #1e80b8;\n",
       "            color:  #000000;\n",
       "        }#T_470944b4_3fbc_11eb_bd74_525400a703a1row8_col13,#T_470944b4_3fbc_11eb_bd74_525400a703a1row13_col8{\n",
       "            background-color:  #056fae;\n",
       "            color:  #f1f1f1;\n",
       "        }#T_470944b4_3fbc_11eb_bd74_525400a703a1row8_col14,#T_470944b4_3fbc_11eb_bd74_525400a703a1row14_col8{\n",
       "            background-color:  #348ebf;\n",
       "            color:  #000000;\n",
       "        }#T_470944b4_3fbc_11eb_bd74_525400a703a1row8_col15,#T_470944b4_3fbc_11eb_bd74_525400a703a1row15_col8{\n",
       "            background-color:  #60a1ca;\n",
       "            color:  #000000;\n",
       "        }#T_470944b4_3fbc_11eb_bd74_525400a703a1row8_col16,#T_470944b4_3fbc_11eb_bd74_525400a703a1row16_col8{\n",
       "            background-color:  #045c90;\n",
       "            color:  #f1f1f1;\n",
       "        }#T_470944b4_3fbc_11eb_bd74_525400a703a1row9_col11,#T_470944b4_3fbc_11eb_bd74_525400a703a1row11_col9{\n",
       "            background-color:  #0568a3;\n",
       "            color:  #f1f1f1;\n",
       "        }#T_470944b4_3fbc_11eb_bd74_525400a703a1row9_col13,#T_470944b4_3fbc_11eb_bd74_525400a703a1row13_col9{\n",
       "            background-color:  #62a2cb;\n",
       "            color:  #000000;\n",
       "        }#T_470944b4_3fbc_11eb_bd74_525400a703a1row9_col14,#T_470944b4_3fbc_11eb_bd74_525400a703a1row14_col9{\n",
       "            background-color:  #b4c4df;\n",
       "            color:  #000000;\n",
       "        }#T_470944b4_3fbc_11eb_bd74_525400a703a1row9_col16,#T_470944b4_3fbc_11eb_bd74_525400a703a1row16_col9{\n",
       "            background-color:  #2a88bc;\n",
       "            color:  #000000;\n",
       "        }#T_470944b4_3fbc_11eb_bd74_525400a703a1row10_col11,#T_470944b4_3fbc_11eb_bd74_525400a703a1row11_col10{\n",
       "            background-color:  #0d75b3;\n",
       "            color:  #f1f1f1;\n",
       "        }#T_470944b4_3fbc_11eb_bd74_525400a703a1row11_col12,#T_470944b4_3fbc_11eb_bd74_525400a703a1row12_col11{\n",
       "            background-color:  #99b8d8;\n",
       "            color:  #000000;\n",
       "        }#T_470944b4_3fbc_11eb_bd74_525400a703a1row11_col13,#T_470944b4_3fbc_11eb_bd74_525400a703a1row13_col11{\n",
       "            background-color:  #4897c4;\n",
       "            color:  #000000;\n",
       "        }#T_470944b4_3fbc_11eb_bd74_525400a703a1row11_col16,#T_470944b4_3fbc_11eb_bd74_525400a703a1row16_col11{\n",
       "            background-color:  #157ab5;\n",
       "            color:  #000000;\n",
       "        }#T_470944b4_3fbc_11eb_bd74_525400a703a1row12_col14,#T_470944b4_3fbc_11eb_bd74_525400a703a1row14_col12{\n",
       "            background-color:  #0a73b2;\n",
       "            color:  #f1f1f1;\n",
       "        }#T_470944b4_3fbc_11eb_bd74_525400a703a1row12_col15,#T_470944b4_3fbc_11eb_bd74_525400a703a1row15_col12{\n",
       "            background-color:  #3790c0;\n",
       "            color:  #000000;\n",
       "        }#T_470944b4_3fbc_11eb_bd74_525400a703a1row12_col16,#T_470944b4_3fbc_11eb_bd74_525400a703a1row16_col12{\n",
       "            background-color:  #2182b9;\n",
       "            color:  #000000;\n",
       "        }#T_470944b4_3fbc_11eb_bd74_525400a703a1row13_col14,#T_470944b4_3fbc_11eb_bd74_525400a703a1row14_col13{\n",
       "            background-color:  #197db7;\n",
       "            color:  #000000;\n",
       "        }#T_470944b4_3fbc_11eb_bd74_525400a703a1row13_col15,#T_470944b4_3fbc_11eb_bd74_525400a703a1row15_col13{\n",
       "            background-color:  #2c89bd;\n",
       "            color:  #000000;\n",
       "        }#T_470944b4_3fbc_11eb_bd74_525400a703a1row13_col16,#T_470944b4_3fbc_11eb_bd74_525400a703a1row16_col13{\n",
       "            background-color:  #0569a4;\n",
       "            color:  #f1f1f1;\n",
       "        }#T_470944b4_3fbc_11eb_bd74_525400a703a1row14_col15,#T_470944b4_3fbc_11eb_bd74_525400a703a1row15_col14{\n",
       "            background-color:  #0f76b3;\n",
       "            color:  #f1f1f1;\n",
       "        }#T_470944b4_3fbc_11eb_bd74_525400a703a1row15_col16,#T_470944b4_3fbc_11eb_bd74_525400a703a1row16_col15{\n",
       "            background-color:  #a1bbda;\n",
       "            color:  #000000;\n",
       "        }</style><table id=\"T_470944b4_3fbc_11eb_bd74_525400a703a1\" ><thead>    <tr>        <th class=\"blank level0\" ></th>        <th class=\"col_heading level0 col0\" >Rt</th>        <th class=\"col_heading level0 col1\" >theta</th>        <th class=\"col_heading level0 col2\" >kappa</th>        <th class=\"col_heading level0 col3\" >rho</th>        <th class=\"col_heading level0 col4\" >sigma</th>        <th class=\"col_heading level0 col5\" >School_closing</th>        <th class=\"col_heading level0 col6\" >Workplace_closing</th>        <th class=\"col_heading level0 col7\" >Cancel_events</th>        <th class=\"col_heading level0 col8\" >Gatherings_restrictions</th>        <th class=\"col_heading level0 col9\" >Transport_closing</th>        <th class=\"col_heading level0 col10\" >Stay_home_restrictions</th>        <th class=\"col_heading level0 col11\" >Internal_movement_restrictions</th>        <th class=\"col_heading level0 col12\" >International_movement_restrictions</th>        <th class=\"col_heading level0 col13\" >Information_campaigns</th>        <th class=\"col_heading level0 col14\" >Testing_policy</th>        <th class=\"col_heading level0 col15\" >Contact_tracing</th>        <th class=\"col_heading level0 col16\" >Stringency_index</th>    </tr></thead><tbody>\n",
       "                <tr>\n",
       "                        <th id=\"T_470944b4_3fbc_11eb_bd74_525400a703a1level0_row0\" class=\"row_heading level0 row0\" >Rt</th>\n",
       "                        <td id=\"T_470944b4_3fbc_11eb_bd74_525400a703a1row0_col0\" class=\"data row0 col0\" >1.000000</td>\n",
       "                        <td id=\"T_470944b4_3fbc_11eb_bd74_525400a703a1row0_col1\" class=\"data row0 col1\" >-0.054045</td>\n",
       "                        <td id=\"T_470944b4_3fbc_11eb_bd74_525400a703a1row0_col2\" class=\"data row0 col2\" >-0.087290</td>\n",
       "                        <td id=\"T_470944b4_3fbc_11eb_bd74_525400a703a1row0_col3\" class=\"data row0 col3\" >-0.013044</td>\n",
       "                        <td id=\"T_470944b4_3fbc_11eb_bd74_525400a703a1row0_col4\" class=\"data row0 col4\" >-0.102272</td>\n",
       "                        <td id=\"T_470944b4_3fbc_11eb_bd74_525400a703a1row0_col5\" class=\"data row0 col5\" >-0.080776</td>\n",
       "                        <td id=\"T_470944b4_3fbc_11eb_bd74_525400a703a1row0_col6\" class=\"data row0 col6\" >-0.010553</td>\n",
       "                        <td id=\"T_470944b4_3fbc_11eb_bd74_525400a703a1row0_col7\" class=\"data row0 col7\" >0.040580</td>\n",
       "                        <td id=\"T_470944b4_3fbc_11eb_bd74_525400a703a1row0_col8\" class=\"data row0 col8\" >0.013749</td>\n",
       "                        <td id=\"T_470944b4_3fbc_11eb_bd74_525400a703a1row0_col9\" class=\"data row0 col9\" >0.073221</td>\n",
       "                        <td id=\"T_470944b4_3fbc_11eb_bd74_525400a703a1row0_col10\" class=\"data row0 col10\" >-0.035253</td>\n",
       "                        <td id=\"T_470944b4_3fbc_11eb_bd74_525400a703a1row0_col11\" class=\"data row0 col11\" >0.064230</td>\n",
       "                        <td id=\"T_470944b4_3fbc_11eb_bd74_525400a703a1row0_col12\" class=\"data row0 col12\" >-0.086088</td>\n",
       "                        <td id=\"T_470944b4_3fbc_11eb_bd74_525400a703a1row0_col13\" class=\"data row0 col13\" >0.015001</td>\n",
       "                        <td id=\"T_470944b4_3fbc_11eb_bd74_525400a703a1row0_col14\" class=\"data row0 col14\" >-0.045244</td>\n",
       "                        <td id=\"T_470944b4_3fbc_11eb_bd74_525400a703a1row0_col15\" class=\"data row0 col15\" >-0.051331</td>\n",
       "                        <td id=\"T_470944b4_3fbc_11eb_bd74_525400a703a1row0_col16\" class=\"data row0 col16\" >-0.021105</td>\n",
       "            </tr>\n",
       "            <tr>\n",
       "                        <th id=\"T_470944b4_3fbc_11eb_bd74_525400a703a1level0_row1\" class=\"row_heading level0 row1\" >theta</th>\n",
       "                        <td id=\"T_470944b4_3fbc_11eb_bd74_525400a703a1row1_col0\" class=\"data row1 col0\" >-0.054045</td>\n",
       "                        <td id=\"T_470944b4_3fbc_11eb_bd74_525400a703a1row1_col1\" class=\"data row1 col1\" >1.000000</td>\n",
       "                        <td id=\"T_470944b4_3fbc_11eb_bd74_525400a703a1row1_col2\" class=\"data row1 col2\" >-0.241808</td>\n",
       "                        <td id=\"T_470944b4_3fbc_11eb_bd74_525400a703a1row1_col3\" class=\"data row1 col3\" >-0.536166</td>\n",
       "                        <td id=\"T_470944b4_3fbc_11eb_bd74_525400a703a1row1_col4\" class=\"data row1 col4\" >-0.374177</td>\n",
       "                        <td id=\"T_470944b4_3fbc_11eb_bd74_525400a703a1row1_col5\" class=\"data row1 col5\" >0.215733</td>\n",
       "                        <td id=\"T_470944b4_3fbc_11eb_bd74_525400a703a1row1_col6\" class=\"data row1 col6\" >0.160055</td>\n",
       "                        <td id=\"T_470944b4_3fbc_11eb_bd74_525400a703a1row1_col7\" class=\"data row1 col7\" >0.356290</td>\n",
       "                        <td id=\"T_470944b4_3fbc_11eb_bd74_525400a703a1row1_col8\" class=\"data row1 col8\" >0.293139</td>\n",
       "                        <td id=\"T_470944b4_3fbc_11eb_bd74_525400a703a1row1_col9\" class=\"data row1 col9\" >0.358879</td>\n",
       "                        <td id=\"T_470944b4_3fbc_11eb_bd74_525400a703a1row1_col10\" class=\"data row1 col10\" >0.115663</td>\n",
       "                        <td id=\"T_470944b4_3fbc_11eb_bd74_525400a703a1row1_col11\" class=\"data row1 col11\" >0.423344</td>\n",
       "                        <td id=\"T_470944b4_3fbc_11eb_bd74_525400a703a1row1_col12\" class=\"data row1 col12\" >-0.051415</td>\n",
       "                        <td id=\"T_470944b4_3fbc_11eb_bd74_525400a703a1row1_col13\" class=\"data row1 col13\" >0.155430</td>\n",
       "                        <td id=\"T_470944b4_3fbc_11eb_bd74_525400a703a1row1_col14\" class=\"data row1 col14\" >-0.096260</td>\n",
       "                        <td id=\"T_470944b4_3fbc_11eb_bd74_525400a703a1row1_col15\" class=\"data row1 col15\" >0.222522</td>\n",
       "                        <td id=\"T_470944b4_3fbc_11eb_bd74_525400a703a1row1_col16\" class=\"data row1 col16\" >0.246786</td>\n",
       "            </tr>\n",
       "            <tr>\n",
       "                        <th id=\"T_470944b4_3fbc_11eb_bd74_525400a703a1level0_row2\" class=\"row_heading level0 row2\" >kappa</th>\n",
       "                        <td id=\"T_470944b4_3fbc_11eb_bd74_525400a703a1row2_col0\" class=\"data row2 col0\" >-0.087290</td>\n",
       "                        <td id=\"T_470944b4_3fbc_11eb_bd74_525400a703a1row2_col1\" class=\"data row2 col1\" >-0.241808</td>\n",
       "                        <td id=\"T_470944b4_3fbc_11eb_bd74_525400a703a1row2_col2\" class=\"data row2 col2\" >1.000000</td>\n",
       "                        <td id=\"T_470944b4_3fbc_11eb_bd74_525400a703a1row2_col3\" class=\"data row2 col3\" >0.182861</td>\n",
       "                        <td id=\"T_470944b4_3fbc_11eb_bd74_525400a703a1row2_col4\" class=\"data row2 col4\" >0.240198</td>\n",
       "                        <td id=\"T_470944b4_3fbc_11eb_bd74_525400a703a1row2_col5\" class=\"data row2 col5\" >0.237661</td>\n",
       "                        <td id=\"T_470944b4_3fbc_11eb_bd74_525400a703a1row2_col6\" class=\"data row2 col6\" >0.202871</td>\n",
       "                        <td id=\"T_470944b4_3fbc_11eb_bd74_525400a703a1row2_col7\" class=\"data row2 col7\" >-0.191954</td>\n",
       "                        <td id=\"T_470944b4_3fbc_11eb_bd74_525400a703a1row2_col8\" class=\"data row2 col8\" >-0.047085</td>\n",
       "                        <td id=\"T_470944b4_3fbc_11eb_bd74_525400a703a1row2_col9\" class=\"data row2 col9\" >-0.163377</td>\n",
       "                        <td id=\"T_470944b4_3fbc_11eb_bd74_525400a703a1row2_col10\" class=\"data row2 col10\" >0.065077</td>\n",
       "                        <td id=\"T_470944b4_3fbc_11eb_bd74_525400a703a1row2_col11\" class=\"data row2 col11\" >-0.164450</td>\n",
       "                        <td id=\"T_470944b4_3fbc_11eb_bd74_525400a703a1row2_col12\" class=\"data row2 col12\" >0.094078</td>\n",
       "                        <td id=\"T_470944b4_3fbc_11eb_bd74_525400a703a1row2_col13\" class=\"data row2 col13\" >0.009197</td>\n",
       "                        <td id=\"T_470944b4_3fbc_11eb_bd74_525400a703a1row2_col14\" class=\"data row2 col14\" >-0.073160</td>\n",
       "                        <td id=\"T_470944b4_3fbc_11eb_bd74_525400a703a1row2_col15\" class=\"data row2 col15\" >-0.163158</td>\n",
       "                        <td id=\"T_470944b4_3fbc_11eb_bd74_525400a703a1row2_col16\" class=\"data row2 col16\" >0.130720</td>\n",
       "            </tr>\n",
       "            <tr>\n",
       "                        <th id=\"T_470944b4_3fbc_11eb_bd74_525400a703a1level0_row3\" class=\"row_heading level0 row3\" >rho</th>\n",
       "                        <td id=\"T_470944b4_3fbc_11eb_bd74_525400a703a1row3_col0\" class=\"data row3 col0\" >-0.013044</td>\n",
       "                        <td id=\"T_470944b4_3fbc_11eb_bd74_525400a703a1row3_col1\" class=\"data row3 col1\" >-0.536166</td>\n",
       "                        <td id=\"T_470944b4_3fbc_11eb_bd74_525400a703a1row3_col2\" class=\"data row3 col2\" >0.182861</td>\n",
       "                        <td id=\"T_470944b4_3fbc_11eb_bd74_525400a703a1row3_col3\" class=\"data row3 col3\" >1.000000</td>\n",
       "                        <td id=\"T_470944b4_3fbc_11eb_bd74_525400a703a1row3_col4\" class=\"data row3 col4\" >0.377996</td>\n",
       "                        <td id=\"T_470944b4_3fbc_11eb_bd74_525400a703a1row3_col5\" class=\"data row3 col5\" >-0.291852</td>\n",
       "                        <td id=\"T_470944b4_3fbc_11eb_bd74_525400a703a1row3_col6\" class=\"data row3 col6\" >-0.391989</td>\n",
       "                        <td id=\"T_470944b4_3fbc_11eb_bd74_525400a703a1row3_col7\" class=\"data row3 col7\" >-0.404659</td>\n",
       "                        <td id=\"T_470944b4_3fbc_11eb_bd74_525400a703a1row3_col8\" class=\"data row3 col8\" >-0.603194</td>\n",
       "                        <td id=\"T_470944b4_3fbc_11eb_bd74_525400a703a1row3_col9\" class=\"data row3 col9\" >-0.525305</td>\n",
       "                        <td id=\"T_470944b4_3fbc_11eb_bd74_525400a703a1row3_col10\" class=\"data row3 col10\" >-0.373965</td>\n",
       "                        <td id=\"T_470944b4_3fbc_11eb_bd74_525400a703a1row3_col11\" class=\"data row3 col11\" >-0.527632</td>\n",
       "                        <td id=\"T_470944b4_3fbc_11eb_bd74_525400a703a1row3_col12\" class=\"data row3 col12\" >-0.322436</td>\n",
       "                        <td id=\"T_470944b4_3fbc_11eb_bd74_525400a703a1row3_col13\" class=\"data row3 col13\" >-0.386672</td>\n",
       "                        <td id=\"T_470944b4_3fbc_11eb_bd74_525400a703a1row3_col14\" class=\"data row3 col14\" >-0.274858</td>\n",
       "                        <td id=\"T_470944b4_3fbc_11eb_bd74_525400a703a1row3_col15\" class=\"data row3 col15\" >-0.187362</td>\n",
       "                        <td id=\"T_470944b4_3fbc_11eb_bd74_525400a703a1row3_col16\" class=\"data row3 col16\" >-0.499645</td>\n",
       "            </tr>\n",
       "            <tr>\n",
       "                        <th id=\"T_470944b4_3fbc_11eb_bd74_525400a703a1level0_row4\" class=\"row_heading level0 row4\" >sigma</th>\n",
       "                        <td id=\"T_470944b4_3fbc_11eb_bd74_525400a703a1row4_col0\" class=\"data row4 col0\" >-0.102272</td>\n",
       "                        <td id=\"T_470944b4_3fbc_11eb_bd74_525400a703a1row4_col1\" class=\"data row4 col1\" >-0.374177</td>\n",
       "                        <td id=\"T_470944b4_3fbc_11eb_bd74_525400a703a1row4_col2\" class=\"data row4 col2\" >0.240198</td>\n",
       "                        <td id=\"T_470944b4_3fbc_11eb_bd74_525400a703a1row4_col3\" class=\"data row4 col3\" >0.377996</td>\n",
       "                        <td id=\"T_470944b4_3fbc_11eb_bd74_525400a703a1row4_col4\" class=\"data row4 col4\" >1.000000</td>\n",
       "                        <td id=\"T_470944b4_3fbc_11eb_bd74_525400a703a1row4_col5\" class=\"data row4 col5\" >0.074723</td>\n",
       "                        <td id=\"T_470944b4_3fbc_11eb_bd74_525400a703a1row4_col6\" class=\"data row4 col6\" >0.027571</td>\n",
       "                        <td id=\"T_470944b4_3fbc_11eb_bd74_525400a703a1row4_col7\" class=\"data row4 col7\" >-0.095716</td>\n",
       "                        <td id=\"T_470944b4_3fbc_11eb_bd74_525400a703a1row4_col8\" class=\"data row4 col8\" >0.040781</td>\n",
       "                        <td id=\"T_470944b4_3fbc_11eb_bd74_525400a703a1row4_col9\" class=\"data row4 col9\" >-0.525573</td>\n",
       "                        <td id=\"T_470944b4_3fbc_11eb_bd74_525400a703a1row4_col10\" class=\"data row4 col10\" >-0.131928</td>\n",
       "                        <td id=\"T_470944b4_3fbc_11eb_bd74_525400a703a1row4_col11\" class=\"data row4 col11\" >-0.380731</td>\n",
       "                        <td id=\"T_470944b4_3fbc_11eb_bd74_525400a703a1row4_col12\" class=\"data row4 col12\" >0.384325</td>\n",
       "                        <td id=\"T_470944b4_3fbc_11eb_bd74_525400a703a1row4_col13\" class=\"data row4 col13\" >0.061041</td>\n",
       "                        <td id=\"T_470944b4_3fbc_11eb_bd74_525400a703a1row4_col14\" class=\"data row4 col14\" >0.363898</td>\n",
       "                        <td id=\"T_470944b4_3fbc_11eb_bd74_525400a703a1row4_col15\" class=\"data row4 col15\" >0.163486</td>\n",
       "                        <td id=\"T_470944b4_3fbc_11eb_bd74_525400a703a1row4_col16\" class=\"data row4 col16\" >0.001793</td>\n",
       "            </tr>\n",
       "            <tr>\n",
       "                        <th id=\"T_470944b4_3fbc_11eb_bd74_525400a703a1level0_row5\" class=\"row_heading level0 row5\" >School_closing</th>\n",
       "                        <td id=\"T_470944b4_3fbc_11eb_bd74_525400a703a1row5_col0\" class=\"data row5 col0\" >-0.080776</td>\n",
       "                        <td id=\"T_470944b4_3fbc_11eb_bd74_525400a703a1row5_col1\" class=\"data row5 col1\" >0.215733</td>\n",
       "                        <td id=\"T_470944b4_3fbc_11eb_bd74_525400a703a1row5_col2\" class=\"data row5 col2\" >0.237661</td>\n",
       "                        <td id=\"T_470944b4_3fbc_11eb_bd74_525400a703a1row5_col3\" class=\"data row5 col3\" >-0.291852</td>\n",
       "                        <td id=\"T_470944b4_3fbc_11eb_bd74_525400a703a1row5_col4\" class=\"data row5 col4\" >0.074723</td>\n",
       "                        <td id=\"T_470944b4_3fbc_11eb_bd74_525400a703a1row5_col5\" class=\"data row5 col5\" >1.000000</td>\n",
       "                        <td id=\"T_470944b4_3fbc_11eb_bd74_525400a703a1row5_col6\" class=\"data row5 col6\" >0.708548</td>\n",
       "                        <td id=\"T_470944b4_3fbc_11eb_bd74_525400a703a1row5_col7\" class=\"data row5 col7\" >0.151084</td>\n",
       "                        <td id=\"T_470944b4_3fbc_11eb_bd74_525400a703a1row5_col8\" class=\"data row5 col8\" >0.462731</td>\n",
       "                        <td id=\"T_470944b4_3fbc_11eb_bd74_525400a703a1row5_col9\" class=\"data row5 col9\" >0.212354</td>\n",
       "                        <td id=\"T_470944b4_3fbc_11eb_bd74_525400a703a1row5_col10\" class=\"data row5 col10\" >0.507593</td>\n",
       "                        <td id=\"T_470944b4_3fbc_11eb_bd74_525400a703a1row5_col11\" class=\"data row5 col11\" >0.239565</td>\n",
       "                        <td id=\"T_470944b4_3fbc_11eb_bd74_525400a703a1row5_col12\" class=\"data row5 col12\" >0.300107</td>\n",
       "                        <td id=\"T_470944b4_3fbc_11eb_bd74_525400a703a1row5_col13\" class=\"data row5 col13\" >0.399175</td>\n",
       "                        <td id=\"T_470944b4_3fbc_11eb_bd74_525400a703a1row5_col14\" class=\"data row5 col14\" >0.047432</td>\n",
       "                        <td id=\"T_470944b4_3fbc_11eb_bd74_525400a703a1row5_col15\" class=\"data row5 col15\" >-0.058632</td>\n",
       "                        <td id=\"T_470944b4_3fbc_11eb_bd74_525400a703a1row5_col16\" class=\"data row5 col16\" >0.747104</td>\n",
       "            </tr>\n",
       "            <tr>\n",
       "                        <th id=\"T_470944b4_3fbc_11eb_bd74_525400a703a1level0_row6\" class=\"row_heading level0 row6\" >Workplace_closing</th>\n",
       "                        <td id=\"T_470944b4_3fbc_11eb_bd74_525400a703a1row6_col0\" class=\"data row6 col0\" >-0.010553</td>\n",
       "                        <td id=\"T_470944b4_3fbc_11eb_bd74_525400a703a1row6_col1\" class=\"data row6 col1\" >0.160055</td>\n",
       "                        <td id=\"T_470944b4_3fbc_11eb_bd74_525400a703a1row6_col2\" class=\"data row6 col2\" >0.202871</td>\n",
       "                        <td id=\"T_470944b4_3fbc_11eb_bd74_525400a703a1row6_col3\" class=\"data row6 col3\" >-0.391989</td>\n",
       "                        <td id=\"T_470944b4_3fbc_11eb_bd74_525400a703a1row6_col4\" class=\"data row6 col4\" >0.027571</td>\n",
       "                        <td id=\"T_470944b4_3fbc_11eb_bd74_525400a703a1row6_col5\" class=\"data row6 col5\" >0.708548</td>\n",
       "                        <td id=\"T_470944b4_3fbc_11eb_bd74_525400a703a1row6_col6\" class=\"data row6 col6\" >1.000000</td>\n",
       "                        <td id=\"T_470944b4_3fbc_11eb_bd74_525400a703a1row6_col7\" class=\"data row6 col7\" >0.474398</td>\n",
       "                        <td id=\"T_470944b4_3fbc_11eb_bd74_525400a703a1row6_col8\" class=\"data row6 col8\" >0.680548</td>\n",
       "                        <td id=\"T_470944b4_3fbc_11eb_bd74_525400a703a1row6_col9\" class=\"data row6 col9\" >0.303569</td>\n",
       "                        <td id=\"T_470944b4_3fbc_11eb_bd74_525400a703a1row6_col10\" class=\"data row6 col10\" >0.729774</td>\n",
       "                        <td id=\"T_470944b4_3fbc_11eb_bd74_525400a703a1row6_col11\" class=\"data row6 col11\" >0.404541</td>\n",
       "                        <td id=\"T_470944b4_3fbc_11eb_bd74_525400a703a1row6_col12\" class=\"data row6 col12\" >0.360093</td>\n",
       "                        <td id=\"T_470944b4_3fbc_11eb_bd74_525400a703a1row6_col13\" class=\"data row6 col13\" >0.510838</td>\n",
       "                        <td id=\"T_470944b4_3fbc_11eb_bd74_525400a703a1row6_col14\" class=\"data row6 col14\" >0.154880</td>\n",
       "                        <td id=\"T_470944b4_3fbc_11eb_bd74_525400a703a1row6_col15\" class=\"data row6 col15\" >-0.090140</td>\n",
       "                        <td id=\"T_470944b4_3fbc_11eb_bd74_525400a703a1row6_col16\" class=\"data row6 col16\" >0.878789</td>\n",
       "            </tr>\n",
       "            <tr>\n",
       "                        <th id=\"T_470944b4_3fbc_11eb_bd74_525400a703a1level0_row7\" class=\"row_heading level0 row7\" >Cancel_events</th>\n",
       "                        <td id=\"T_470944b4_3fbc_11eb_bd74_525400a703a1row7_col0\" class=\"data row7 col0\" >0.040580</td>\n",
       "                        <td id=\"T_470944b4_3fbc_11eb_bd74_525400a703a1row7_col1\" class=\"data row7 col1\" >0.356290</td>\n",
       "                        <td id=\"T_470944b4_3fbc_11eb_bd74_525400a703a1row7_col2\" class=\"data row7 col2\" >-0.191954</td>\n",
       "                        <td id=\"T_470944b4_3fbc_11eb_bd74_525400a703a1row7_col3\" class=\"data row7 col3\" >-0.404659</td>\n",
       "                        <td id=\"T_470944b4_3fbc_11eb_bd74_525400a703a1row7_col4\" class=\"data row7 col4\" >-0.095716</td>\n",
       "                        <td id=\"T_470944b4_3fbc_11eb_bd74_525400a703a1row7_col5\" class=\"data row7 col5\" >0.151084</td>\n",
       "                        <td id=\"T_470944b4_3fbc_11eb_bd74_525400a703a1row7_col6\" class=\"data row7 col6\" >0.474398</td>\n",
       "                        <td id=\"T_470944b4_3fbc_11eb_bd74_525400a703a1row7_col7\" class=\"data row7 col7\" >1.000000</td>\n",
       "                        <td id=\"T_470944b4_3fbc_11eb_bd74_525400a703a1row7_col8\" class=\"data row7 col8\" >0.646056</td>\n",
       "                        <td id=\"T_470944b4_3fbc_11eb_bd74_525400a703a1row7_col9\" class=\"data row7 col9\" >0.466083</td>\n",
       "                        <td id=\"T_470944b4_3fbc_11eb_bd74_525400a703a1row7_col10\" class=\"data row7 col10\" >0.491095</td>\n",
       "                        <td id=\"T_470944b4_3fbc_11eb_bd74_525400a703a1row7_col11\" class=\"data row7 col11\" >0.682575</td>\n",
       "                        <td id=\"T_470944b4_3fbc_11eb_bd74_525400a703a1row7_col12\" class=\"data row7 col12\" >0.122388</td>\n",
       "                        <td id=\"T_470944b4_3fbc_11eb_bd74_525400a703a1row7_col13\" class=\"data row7 col13\" >0.423975</td>\n",
       "                        <td id=\"T_470944b4_3fbc_11eb_bd74_525400a703a1row7_col14\" class=\"data row7 col14\" >0.023824</td>\n",
       "                        <td id=\"T_470944b4_3fbc_11eb_bd74_525400a703a1row7_col15\" class=\"data row7 col15\" >0.029553</td>\n",
       "                        <td id=\"T_470944b4_3fbc_11eb_bd74_525400a703a1row7_col16\" class=\"data row7 col16\" >0.587152</td>\n",
       "            </tr>\n",
       "            <tr>\n",
       "                        <th id=\"T_470944b4_3fbc_11eb_bd74_525400a703a1level0_row8\" class=\"row_heading level0 row8\" >Gatherings_restrictions</th>\n",
       "                        <td id=\"T_470944b4_3fbc_11eb_bd74_525400a703a1row8_col0\" class=\"data row8 col0\" >0.013749</td>\n",
       "                        <td id=\"T_470944b4_3fbc_11eb_bd74_525400a703a1row8_col1\" class=\"data row8 col1\" >0.293139</td>\n",
       "                        <td id=\"T_470944b4_3fbc_11eb_bd74_525400a703a1row8_col2\" class=\"data row8 col2\" >-0.047085</td>\n",
       "                        <td id=\"T_470944b4_3fbc_11eb_bd74_525400a703a1row8_col3\" class=\"data row8 col3\" >-0.603194</td>\n",
       "                        <td id=\"T_470944b4_3fbc_11eb_bd74_525400a703a1row8_col4\" class=\"data row8 col4\" >0.040781</td>\n",
       "                        <td id=\"T_470944b4_3fbc_11eb_bd74_525400a703a1row8_col5\" class=\"data row8 col5\" >0.462731</td>\n",
       "                        <td id=\"T_470944b4_3fbc_11eb_bd74_525400a703a1row8_col6\" class=\"data row8 col6\" >0.680548</td>\n",
       "                        <td id=\"T_470944b4_3fbc_11eb_bd74_525400a703a1row8_col7\" class=\"data row8 col7\" >0.646056</td>\n",
       "                        <td id=\"T_470944b4_3fbc_11eb_bd74_525400a703a1row8_col8\" class=\"data row8 col8\" >1.000000</td>\n",
       "                        <td id=\"T_470944b4_3fbc_11eb_bd74_525400a703a1row8_col9\" class=\"data row8 col9\" >0.426243</td>\n",
       "                        <td id=\"T_470944b4_3fbc_11eb_bd74_525400a703a1row8_col10\" class=\"data row8 col10\" >0.590891</td>\n",
       "                        <td id=\"T_470944b4_3fbc_11eb_bd74_525400a703a1row8_col11\" class=\"data row8 col11\" >0.642307</td>\n",
       "                        <td id=\"T_470944b4_3fbc_11eb_bd74_525400a703a1row8_col12\" class=\"data row8 col12\" >0.497265</td>\n",
       "                        <td id=\"T_470944b4_3fbc_11eb_bd74_525400a703a1row8_col13\" class=\"data row8 col13\" >0.607495</td>\n",
       "                        <td id=\"T_470944b4_3fbc_11eb_bd74_525400a703a1row8_col14\" class=\"data row8 col14\" >0.409743</td>\n",
       "                        <td id=\"T_470944b4_3fbc_11eb_bd74_525400a703a1row8_col15\" class=\"data row8 col15\" >0.261692</td>\n",
       "                        <td id=\"T_470944b4_3fbc_11eb_bd74_525400a703a1row8_col16\" class=\"data row8 col16\" >0.778063</td>\n",
       "            </tr>\n",
       "            <tr>\n",
       "                        <th id=\"T_470944b4_3fbc_11eb_bd74_525400a703a1level0_row9\" class=\"row_heading level0 row9\" >Transport_closing</th>\n",
       "                        <td id=\"T_470944b4_3fbc_11eb_bd74_525400a703a1row9_col0\" class=\"data row9 col0\" >0.073221</td>\n",
       "                        <td id=\"T_470944b4_3fbc_11eb_bd74_525400a703a1row9_col1\" class=\"data row9 col1\" >0.358879</td>\n",
       "                        <td id=\"T_470944b4_3fbc_11eb_bd74_525400a703a1row9_col2\" class=\"data row9 col2\" >-0.163377</td>\n",
       "                        <td id=\"T_470944b4_3fbc_11eb_bd74_525400a703a1row9_col3\" class=\"data row9 col3\" >-0.525305</td>\n",
       "                        <td id=\"T_470944b4_3fbc_11eb_bd74_525400a703a1row9_col4\" class=\"data row9 col4\" >-0.525573</td>\n",
       "                        <td id=\"T_470944b4_3fbc_11eb_bd74_525400a703a1row9_col5\" class=\"data row9 col5\" >0.212354</td>\n",
       "                        <td id=\"T_470944b4_3fbc_11eb_bd74_525400a703a1row9_col6\" class=\"data row9 col6\" >0.303569</td>\n",
       "                        <td id=\"T_470944b4_3fbc_11eb_bd74_525400a703a1row9_col7\" class=\"data row9 col7\" >0.466083</td>\n",
       "                        <td id=\"T_470944b4_3fbc_11eb_bd74_525400a703a1row9_col8\" class=\"data row9 col8\" >0.426243</td>\n",
       "                        <td id=\"T_470944b4_3fbc_11eb_bd74_525400a703a1row9_col9\" class=\"data row9 col9\" >1.000000</td>\n",
       "                        <td id=\"T_470944b4_3fbc_11eb_bd74_525400a703a1row9_col10\" class=\"data row9 col10\" >0.425899</td>\n",
       "                        <td id=\"T_470944b4_3fbc_11eb_bd74_525400a703a1row9_col11\" class=\"data row9 col11\" >0.673931</td>\n",
       "                        <td id=\"T_470944b4_3fbc_11eb_bd74_525400a703a1row9_col12\" class=\"data row9 col12\" >-0.074098</td>\n",
       "                        <td id=\"T_470944b4_3fbc_11eb_bd74_525400a703a1row9_col13\" class=\"data row9 col13\" >0.255312</td>\n",
       "                        <td id=\"T_470944b4_3fbc_11eb_bd74_525400a703a1row9_col14\" class=\"data row9 col14\" >-0.067044</td>\n",
       "                        <td id=\"T_470944b4_3fbc_11eb_bd74_525400a703a1row9_col15\" class=\"data row9 col15\" >-0.045720</td>\n",
       "                        <td id=\"T_470944b4_3fbc_11eb_bd74_525400a703a1row9_col16\" class=\"data row9 col16\" >0.448488</td>\n",
       "            </tr>\n",
       "            <tr>\n",
       "                        <th id=\"T_470944b4_3fbc_11eb_bd74_525400a703a1level0_row10\" class=\"row_heading level0 row10\" >Stay_home_restrictions</th>\n",
       "                        <td id=\"T_470944b4_3fbc_11eb_bd74_525400a703a1row10_col0\" class=\"data row10 col0\" >-0.035253</td>\n",
       "                        <td id=\"T_470944b4_3fbc_11eb_bd74_525400a703a1row10_col1\" class=\"data row10 col1\" >0.115663</td>\n",
       "                        <td id=\"T_470944b4_3fbc_11eb_bd74_525400a703a1row10_col2\" class=\"data row10 col2\" >0.065077</td>\n",
       "                        <td id=\"T_470944b4_3fbc_11eb_bd74_525400a703a1row10_col3\" class=\"data row10 col3\" >-0.373965</td>\n",
       "                        <td id=\"T_470944b4_3fbc_11eb_bd74_525400a703a1row10_col4\" class=\"data row10 col4\" >-0.131928</td>\n",
       "                        <td id=\"T_470944b4_3fbc_11eb_bd74_525400a703a1row10_col5\" class=\"data row10 col5\" >0.507593</td>\n",
       "                        <td id=\"T_470944b4_3fbc_11eb_bd74_525400a703a1row10_col6\" class=\"data row10 col6\" >0.729774</td>\n",
       "                        <td id=\"T_470944b4_3fbc_11eb_bd74_525400a703a1row10_col7\" class=\"data row10 col7\" >0.491095</td>\n",
       "                        <td id=\"T_470944b4_3fbc_11eb_bd74_525400a703a1row10_col8\" class=\"data row10 col8\" >0.590891</td>\n",
       "                        <td id=\"T_470944b4_3fbc_11eb_bd74_525400a703a1row10_col9\" class=\"data row10 col9\" >0.425899</td>\n",
       "                        <td id=\"T_470944b4_3fbc_11eb_bd74_525400a703a1row10_col10\" class=\"data row10 col10\" >1.000000</td>\n",
       "                        <td id=\"T_470944b4_3fbc_11eb_bd74_525400a703a1row10_col11\" class=\"data row10 col11\" >0.563038</td>\n",
       "                        <td id=\"T_470944b4_3fbc_11eb_bd74_525400a703a1row10_col12\" class=\"data row10 col12\" >0.297795</td>\n",
       "                        <td id=\"T_470944b4_3fbc_11eb_bd74_525400a703a1row10_col13\" class=\"data row10 col13\" >0.421562</td>\n",
       "                        <td id=\"T_470944b4_3fbc_11eb_bd74_525400a703a1row10_col14\" class=\"data row10 col14\" >0.064833</td>\n",
       "                        <td id=\"T_470944b4_3fbc_11eb_bd74_525400a703a1row10_col15\" class=\"data row10 col15\" >-0.055752</td>\n",
       "                        <td id=\"T_470944b4_3fbc_11eb_bd74_525400a703a1row10_col16\" class=\"data row10 col16\" >0.744578</td>\n",
       "            </tr>\n",
       "            <tr>\n",
       "                        <th id=\"T_470944b4_3fbc_11eb_bd74_525400a703a1level0_row11\" class=\"row_heading level0 row11\" >Internal_movement_restrictions</th>\n",
       "                        <td id=\"T_470944b4_3fbc_11eb_bd74_525400a703a1row11_col0\" class=\"data row11 col0\" >0.064230</td>\n",
       "                        <td id=\"T_470944b4_3fbc_11eb_bd74_525400a703a1row11_col1\" class=\"data row11 col1\" >0.423344</td>\n",
       "                        <td id=\"T_470944b4_3fbc_11eb_bd74_525400a703a1row11_col2\" class=\"data row11 col2\" >-0.164450</td>\n",
       "                        <td id=\"T_470944b4_3fbc_11eb_bd74_525400a703a1row11_col3\" class=\"data row11 col3\" >-0.527632</td>\n",
       "                        <td id=\"T_470944b4_3fbc_11eb_bd74_525400a703a1row11_col4\" class=\"data row11 col4\" >-0.380731</td>\n",
       "                        <td id=\"T_470944b4_3fbc_11eb_bd74_525400a703a1row11_col5\" class=\"data row11 col5\" >0.239565</td>\n",
       "                        <td id=\"T_470944b4_3fbc_11eb_bd74_525400a703a1row11_col6\" class=\"data row11 col6\" >0.404541</td>\n",
       "                        <td id=\"T_470944b4_3fbc_11eb_bd74_525400a703a1row11_col7\" class=\"data row11 col7\" >0.682575</td>\n",
       "                        <td id=\"T_470944b4_3fbc_11eb_bd74_525400a703a1row11_col8\" class=\"data row11 col8\" >0.642307</td>\n",
       "                        <td id=\"T_470944b4_3fbc_11eb_bd74_525400a703a1row11_col9\" class=\"data row11 col9\" >0.673931</td>\n",
       "                        <td id=\"T_470944b4_3fbc_11eb_bd74_525400a703a1row11_col10\" class=\"data row11 col10\" >0.563038</td>\n",
       "                        <td id=\"T_470944b4_3fbc_11eb_bd74_525400a703a1row11_col11\" class=\"data row11 col11\" >1.000000</td>\n",
       "                        <td id=\"T_470944b4_3fbc_11eb_bd74_525400a703a1row11_col12\" class=\"data row11 col12\" >0.049132</td>\n",
       "                        <td id=\"T_470944b4_3fbc_11eb_bd74_525400a703a1row11_col13\" class=\"data row11 col13\" >0.337940</td>\n",
       "                        <td id=\"T_470944b4_3fbc_11eb_bd74_525400a703a1row11_col14\" class=\"data row11 col14\" >-0.060937</td>\n",
       "                        <td id=\"T_470944b4_3fbc_11eb_bd74_525400a703a1row11_col15\" class=\"data row11 col15\" >0.094953</td>\n",
       "                        <td id=\"T_470944b4_3fbc_11eb_bd74_525400a703a1row11_col16\" class=\"data row11 col16\" >0.531174</td>\n",
       "            </tr>\n",
       "            <tr>\n",
       "                        <th id=\"T_470944b4_3fbc_11eb_bd74_525400a703a1level0_row12\" class=\"row_heading level0 row12\" >International_movement_restrictions</th>\n",
       "                        <td id=\"T_470944b4_3fbc_11eb_bd74_525400a703a1row12_col0\" class=\"data row12 col0\" >-0.086088</td>\n",
       "                        <td id=\"T_470944b4_3fbc_11eb_bd74_525400a703a1row12_col1\" class=\"data row12 col1\" >-0.051415</td>\n",
       "                        <td id=\"T_470944b4_3fbc_11eb_bd74_525400a703a1row12_col2\" class=\"data row12 col2\" >0.094078</td>\n",
       "                        <td id=\"T_470944b4_3fbc_11eb_bd74_525400a703a1row12_col3\" class=\"data row12 col3\" >-0.322436</td>\n",
       "                        <td id=\"T_470944b4_3fbc_11eb_bd74_525400a703a1row12_col4\" class=\"data row12 col4\" >0.384325</td>\n",
       "                        <td id=\"T_470944b4_3fbc_11eb_bd74_525400a703a1row12_col5\" class=\"data row12 col5\" >0.300107</td>\n",
       "                        <td id=\"T_470944b4_3fbc_11eb_bd74_525400a703a1row12_col6\" class=\"data row12 col6\" >0.360093</td>\n",
       "                        <td id=\"T_470944b4_3fbc_11eb_bd74_525400a703a1row12_col7\" class=\"data row12 col7\" >0.122388</td>\n",
       "                        <td id=\"T_470944b4_3fbc_11eb_bd74_525400a703a1row12_col8\" class=\"data row12 col8\" >0.497265</td>\n",
       "                        <td id=\"T_470944b4_3fbc_11eb_bd74_525400a703a1row12_col9\" class=\"data row12 col9\" >-0.074098</td>\n",
       "                        <td id=\"T_470944b4_3fbc_11eb_bd74_525400a703a1row12_col10\" class=\"data row12 col10\" >0.297795</td>\n",
       "                        <td id=\"T_470944b4_3fbc_11eb_bd74_525400a703a1row12_col11\" class=\"data row12 col11\" >0.049132</td>\n",
       "                        <td id=\"T_470944b4_3fbc_11eb_bd74_525400a703a1row12_col12\" class=\"data row12 col12\" >1.000000</td>\n",
       "                        <td id=\"T_470944b4_3fbc_11eb_bd74_525400a703a1row12_col13\" class=\"data row12 col13\" >0.477194</td>\n",
       "                        <td id=\"T_470944b4_3fbc_11eb_bd74_525400a703a1row12_col14\" class=\"data row12 col14\" >0.578038</td>\n",
       "                        <td id=\"T_470944b4_3fbc_11eb_bd74_525400a703a1row12_col15\" class=\"data row12 col15\" >0.393952</td>\n",
       "                        <td id=\"T_470944b4_3fbc_11eb_bd74_525400a703a1row12_col16\" class=\"data row12 col16\" >0.483195</td>\n",
       "            </tr>\n",
       "            <tr>\n",
       "                        <th id=\"T_470944b4_3fbc_11eb_bd74_525400a703a1level0_row13\" class=\"row_heading level0 row13\" >Information_campaigns</th>\n",
       "                        <td id=\"T_470944b4_3fbc_11eb_bd74_525400a703a1row13_col0\" class=\"data row13 col0\" >0.015001</td>\n",
       "                        <td id=\"T_470944b4_3fbc_11eb_bd74_525400a703a1row13_col1\" class=\"data row13 col1\" >0.155430</td>\n",
       "                        <td id=\"T_470944b4_3fbc_11eb_bd74_525400a703a1row13_col2\" class=\"data row13 col2\" >0.009197</td>\n",
       "                        <td id=\"T_470944b4_3fbc_11eb_bd74_525400a703a1row13_col3\" class=\"data row13 col3\" >-0.386672</td>\n",
       "                        <td id=\"T_470944b4_3fbc_11eb_bd74_525400a703a1row13_col4\" class=\"data row13 col4\" >0.061041</td>\n",
       "                        <td id=\"T_470944b4_3fbc_11eb_bd74_525400a703a1row13_col5\" class=\"data row13 col5\" >0.399175</td>\n",
       "                        <td id=\"T_470944b4_3fbc_11eb_bd74_525400a703a1row13_col6\" class=\"data row13 col6\" >0.510838</td>\n",
       "                        <td id=\"T_470944b4_3fbc_11eb_bd74_525400a703a1row13_col7\" class=\"data row13 col7\" >0.423975</td>\n",
       "                        <td id=\"T_470944b4_3fbc_11eb_bd74_525400a703a1row13_col8\" class=\"data row13 col8\" >0.607495</td>\n",
       "                        <td id=\"T_470944b4_3fbc_11eb_bd74_525400a703a1row13_col9\" class=\"data row13 col9\" >0.255312</td>\n",
       "                        <td id=\"T_470944b4_3fbc_11eb_bd74_525400a703a1row13_col10\" class=\"data row13 col10\" >0.421562</td>\n",
       "                        <td id=\"T_470944b4_3fbc_11eb_bd74_525400a703a1row13_col11\" class=\"data row13 col11\" >0.337940</td>\n",
       "                        <td id=\"T_470944b4_3fbc_11eb_bd74_525400a703a1row13_col12\" class=\"data row13 col12\" >0.477194</td>\n",
       "                        <td id=\"T_470944b4_3fbc_11eb_bd74_525400a703a1row13_col13\" class=\"data row13 col13\" >1.000000</td>\n",
       "                        <td id=\"T_470944b4_3fbc_11eb_bd74_525400a703a1row13_col14\" class=\"data row13 col14\" >0.513172</td>\n",
       "                        <td id=\"T_470944b4_3fbc_11eb_bd74_525400a703a1row13_col15\" class=\"data row13 col15\" >0.441063</td>\n",
       "                        <td id=\"T_470944b4_3fbc_11eb_bd74_525400a703a1row13_col16\" class=\"data row13 col16\" >0.666876</td>\n",
       "            </tr>\n",
       "            <tr>\n",
       "                        <th id=\"T_470944b4_3fbc_11eb_bd74_525400a703a1level0_row14\" class=\"row_heading level0 row14\" >Testing_policy</th>\n",
       "                        <td id=\"T_470944b4_3fbc_11eb_bd74_525400a703a1row14_col0\" class=\"data row14 col0\" >-0.045244</td>\n",
       "                        <td id=\"T_470944b4_3fbc_11eb_bd74_525400a703a1row14_col1\" class=\"data row14 col1\" >-0.096260</td>\n",
       "                        <td id=\"T_470944b4_3fbc_11eb_bd74_525400a703a1row14_col2\" class=\"data row14 col2\" >-0.073160</td>\n",
       "                        <td id=\"T_470944b4_3fbc_11eb_bd74_525400a703a1row14_col3\" class=\"data row14 col3\" >-0.274858</td>\n",
       "                        <td id=\"T_470944b4_3fbc_11eb_bd74_525400a703a1row14_col4\" class=\"data row14 col4\" >0.363898</td>\n",
       "                        <td id=\"T_470944b4_3fbc_11eb_bd74_525400a703a1row14_col5\" class=\"data row14 col5\" >0.047432</td>\n",
       "                        <td id=\"T_470944b4_3fbc_11eb_bd74_525400a703a1row14_col6\" class=\"data row14 col6\" >0.154880</td>\n",
       "                        <td id=\"T_470944b4_3fbc_11eb_bd74_525400a703a1row14_col7\" class=\"data row14 col7\" >0.023824</td>\n",
       "                        <td id=\"T_470944b4_3fbc_11eb_bd74_525400a703a1row14_col8\" class=\"data row14 col8\" >0.409743</td>\n",
       "                        <td id=\"T_470944b4_3fbc_11eb_bd74_525400a703a1row14_col9\" class=\"data row14 col9\" >-0.067044</td>\n",
       "                        <td id=\"T_470944b4_3fbc_11eb_bd74_525400a703a1row14_col10\" class=\"data row14 col10\" >0.064833</td>\n",
       "                        <td id=\"T_470944b4_3fbc_11eb_bd74_525400a703a1row14_col11\" class=\"data row14 col11\" >-0.060937</td>\n",
       "                        <td id=\"T_470944b4_3fbc_11eb_bd74_525400a703a1row14_col12\" class=\"data row14 col12\" >0.578038</td>\n",
       "                        <td id=\"T_470944b4_3fbc_11eb_bd74_525400a703a1row14_col13\" class=\"data row14 col13\" >0.513172</td>\n",
       "                        <td id=\"T_470944b4_3fbc_11eb_bd74_525400a703a1row14_col14\" class=\"data row14 col14\" >1.000000</td>\n",
       "                        <td id=\"T_470944b4_3fbc_11eb_bd74_525400a703a1row14_col15\" class=\"data row14 col15\" >0.561434</td>\n",
       "                        <td id=\"T_470944b4_3fbc_11eb_bd74_525400a703a1row14_col16\" class=\"data row14 col16\" >0.202286</td>\n",
       "            </tr>\n",
       "            <tr>\n",
       "                        <th id=\"T_470944b4_3fbc_11eb_bd74_525400a703a1level0_row15\" class=\"row_heading level0 row15\" >Contact_tracing</th>\n",
       "                        <td id=\"T_470944b4_3fbc_11eb_bd74_525400a703a1row15_col0\" class=\"data row15 col0\" >-0.051331</td>\n",
       "                        <td id=\"T_470944b4_3fbc_11eb_bd74_525400a703a1row15_col1\" class=\"data row15 col1\" >0.222522</td>\n",
       "                        <td id=\"T_470944b4_3fbc_11eb_bd74_525400a703a1row15_col2\" class=\"data row15 col2\" >-0.163158</td>\n",
       "                        <td id=\"T_470944b4_3fbc_11eb_bd74_525400a703a1row15_col3\" class=\"data row15 col3\" >-0.187362</td>\n",
       "                        <td id=\"T_470944b4_3fbc_11eb_bd74_525400a703a1row15_col4\" class=\"data row15 col4\" >0.163486</td>\n",
       "                        <td id=\"T_470944b4_3fbc_11eb_bd74_525400a703a1row15_col5\" class=\"data row15 col5\" >-0.058632</td>\n",
       "                        <td id=\"T_470944b4_3fbc_11eb_bd74_525400a703a1row15_col6\" class=\"data row15 col6\" >-0.090140</td>\n",
       "                        <td id=\"T_470944b4_3fbc_11eb_bd74_525400a703a1row15_col7\" class=\"data row15 col7\" >0.029553</td>\n",
       "                        <td id=\"T_470944b4_3fbc_11eb_bd74_525400a703a1row15_col8\" class=\"data row15 col8\" >0.261692</td>\n",
       "                        <td id=\"T_470944b4_3fbc_11eb_bd74_525400a703a1row15_col9\" class=\"data row15 col9\" >-0.045720</td>\n",
       "                        <td id=\"T_470944b4_3fbc_11eb_bd74_525400a703a1row15_col10\" class=\"data row15 col10\" >-0.055752</td>\n",
       "                        <td id=\"T_470944b4_3fbc_11eb_bd74_525400a703a1row15_col11\" class=\"data row15 col11\" >0.094953</td>\n",
       "                        <td id=\"T_470944b4_3fbc_11eb_bd74_525400a703a1row15_col12\" class=\"data row15 col12\" >0.393952</td>\n",
       "                        <td id=\"T_470944b4_3fbc_11eb_bd74_525400a703a1row15_col13\" class=\"data row15 col13\" >0.441063</td>\n",
       "                        <td id=\"T_470944b4_3fbc_11eb_bd74_525400a703a1row15_col14\" class=\"data row15 col14\" >0.561434</td>\n",
       "                        <td id=\"T_470944b4_3fbc_11eb_bd74_525400a703a1row15_col15\" class=\"data row15 col15\" >1.000000</td>\n",
       "                        <td id=\"T_470944b4_3fbc_11eb_bd74_525400a703a1row15_col16\" class=\"data row15 col16\" >0.019691</td>\n",
       "            </tr>\n",
       "            <tr>\n",
       "                        <th id=\"T_470944b4_3fbc_11eb_bd74_525400a703a1level0_row16\" class=\"row_heading level0 row16\" >Stringency_index</th>\n",
       "                        <td id=\"T_470944b4_3fbc_11eb_bd74_525400a703a1row16_col0\" class=\"data row16 col0\" >-0.021105</td>\n",
       "                        <td id=\"T_470944b4_3fbc_11eb_bd74_525400a703a1row16_col1\" class=\"data row16 col1\" >0.246786</td>\n",
       "                        <td id=\"T_470944b4_3fbc_11eb_bd74_525400a703a1row16_col2\" class=\"data row16 col2\" >0.130720</td>\n",
       "                        <td id=\"T_470944b4_3fbc_11eb_bd74_525400a703a1row16_col3\" class=\"data row16 col3\" >-0.499645</td>\n",
       "                        <td id=\"T_470944b4_3fbc_11eb_bd74_525400a703a1row16_col4\" class=\"data row16 col4\" >0.001793</td>\n",
       "                        <td id=\"T_470944b4_3fbc_11eb_bd74_525400a703a1row16_col5\" class=\"data row16 col5\" >0.747104</td>\n",
       "                        <td id=\"T_470944b4_3fbc_11eb_bd74_525400a703a1row16_col6\" class=\"data row16 col6\" >0.878789</td>\n",
       "                        <td id=\"T_470944b4_3fbc_11eb_bd74_525400a703a1row16_col7\" class=\"data row16 col7\" >0.587152</td>\n",
       "                        <td id=\"T_470944b4_3fbc_11eb_bd74_525400a703a1row16_col8\" class=\"data row16 col8\" >0.778063</td>\n",
       "                        <td id=\"T_470944b4_3fbc_11eb_bd74_525400a703a1row16_col9\" class=\"data row16 col9\" >0.448488</td>\n",
       "                        <td id=\"T_470944b4_3fbc_11eb_bd74_525400a703a1row16_col10\" class=\"data row16 col10\" >0.744578</td>\n",
       "                        <td id=\"T_470944b4_3fbc_11eb_bd74_525400a703a1row16_col11\" class=\"data row16 col11\" >0.531174</td>\n",
       "                        <td id=\"T_470944b4_3fbc_11eb_bd74_525400a703a1row16_col12\" class=\"data row16 col12\" >0.483195</td>\n",
       "                        <td id=\"T_470944b4_3fbc_11eb_bd74_525400a703a1row16_col13\" class=\"data row16 col13\" >0.666876</td>\n",
       "                        <td id=\"T_470944b4_3fbc_11eb_bd74_525400a703a1row16_col14\" class=\"data row16 col14\" >0.202286</td>\n",
       "                        <td id=\"T_470944b4_3fbc_11eb_bd74_525400a703a1row16_col15\" class=\"data row16 col15\" >0.019691</td>\n",
       "                        <td id=\"T_470944b4_3fbc_11eb_bd74_525400a703a1row16_col16\" class=\"data row16 col16\" >1.000000</td>\n",
       "            </tr>\n",
       "    </tbody></table>"
      ],
      "text/plain": [
       "<pandas.io.formats.style.Styler at 0x7f168e158a00>"
      ]
     },
     "execution_count": 21,
     "metadata": {},
     "output_type": "execute_result"
    }
   ],
   "source": [
    "# Correlation\n",
    "df = track_df.copy()\n",
    "df.corr().style.background_gradient(axis=None)"
   ]
  },
  {
   "cell_type": "code",
   "execution_count": 22,
   "metadata": {
    "collapsed": false
   },
   "outputs": [
    {
     "data": {
      "image/png": "[encoded data removed]",
      "text/plain": [
       "<Figure size 432x288 with 1 Axes>"
      ]
     },
     "metadata": {},
     "output_type": "display_data"
    }
   ],
   "source": [
    "# Scatter plot of Stringency index and Rt\n",
    "df = track_df.copy()\n",
    "sns.scatterplot(data=df, x=\"Stringency_index\", y=\"Rt\", hue=\"Country\", legend=\"brief\", marker=\"+\")\n",
    "bbox_to_anchor=(1.02, 0)\n",
    "bbox_loc=\"lower left\"\n",
    "plt.legend(bbox_to_anchor=bbox_to_anchor, loc=bbox_loc, borderaxespad=0)\n",
    "plt.title(\"Relationship of Stringency index and reproduction number\")\n",
    "plt.ylabel(\"Reproduction number\")\n",
    "plt.xlabel(\"Stringency index\")\n",
    "plt.show()"
   ]
  }
 ],
 "metadata": {
  "kernelspec": {
   "display_name": "Python 3.8.2 64-bit ('.venv': venv)",
   "name": "python_defaultSpec_1597669925034"
  },
  "language_info": {
   "codemirror_mode": {
    "name": "ipython",
    "version": 3
   },
   "file_extension": ".py",
   "mimetype": "text/x-python",
   "name": "python",
   "nbconvert_exporter": "python",
   "pygments_lexer": "ipython3",
   "version": "3.8.2-final"
  }
 },
 "nbformat": 4,
 "nbformat_minor": 4
}
