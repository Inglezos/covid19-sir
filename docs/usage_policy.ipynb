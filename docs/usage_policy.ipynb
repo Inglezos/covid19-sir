{
 "cells": [
  {
   "cell_type": "markdown",
   "metadata": {},
   "source": [
    "# Usage: policy measures\n",
    "Here, we will analyse the relationship of policy measures and parameter values of SIR-derived ODE models. Policy measures are tracked by [Oxford Covid-19 Government Response Tracker (OxCGRT)](https://github.com/OxCGRT/covid-policy-tracker)."
   ]
  },
  {
   "cell_type": "markdown",
   "metadata": {},
   "source": [
    "## Preparation"
   ]
  },
  {
   "cell_type": "code",
   "execution_count": 1,
   "metadata": {
    "collapsed": false
   },
   "outputs": [],
   "source": [
    "# Standard users\n",
    "# !pip install covsirphy\n",
    "# Developers (Note: this notebook is in example directory)\n",
    "import os\n",
    "os.chdir(\"../\")"
   ]
  },
  {
   "cell_type": "code",
   "execution_count": 2,
   "metadata": {
    "collapsed": false
   },
   "outputs": [],
   "source": [
    "from pprint import pprint"
   ]
  },
  {
   "cell_type": "code",
   "execution_count": 3,
   "metadata": {
    "collapsed": false
   },
   "outputs": [
    {
     "data": {
      "text/plain": [
       "'2.14.0-delta'"
      ]
     },
     "execution_count": 3,
     "metadata": {},
     "output_type": "execute_result"
    }
   ],
   "source": [
    "import covsirphy as cs\n",
    "cs.__version__"
   ]
  },
  {
   "cell_type": "code",
   "execution_count": 4,
   "metadata": {
    "collapsed": false,
    "tags": []
   },
   "outputs": [
    {
     "name": "stdout",
     "output_type": "stream",
     "text": [
      "(Secondary source) Guidotti, E., Ardia, D., (2020), \"COVID-19 Data Hub\", Journal of Open Source Software 5(51):2376, doi: 10.21105/joss.02376.\n"
     ]
    }
   ],
   "source": [
    "# Standard users and developers\n",
    "data_loader = cs.DataLoader(\"input\")\n",
    "# The number of cases (JHU style)\n",
    "jhu_data = data_loader.jhu(verbose=False)\n",
    "# Population in each country\n",
    "population_data = data_loader.population(verbose=False)\n",
    "# Government Response Tracker (OxCGRT)\n",
    "oxcgrt_data = data_loader.oxcgrt(verbose=False)\n",
    "# Description/citation\n",
    "print(oxcgrt_data.citation)"
   ]
  },
  {
   "cell_type": "markdown",
   "metadata": {},
   "source": [
    "## Class for policy measure analysis\n",
    "We will `PolicyMeasures` class to find relationship of policy measures and parameter values of SIR-derived ODE models."
   ]
  },
  {
   "cell_type": "code",
   "execution_count": 5,
   "metadata": {
    "collapsed": false,
    "tags": []
   },
   "outputs": [
    {
     "data": {
      "text/plain": [
       "196"
      ]
     },
     "execution_count": 5,
     "metadata": {},
     "output_type": "execute_result"
    }
   ],
   "source": [
    "# Create analyser with tau value 360 [min] (can be changed)\n",
    "analyser = cs.PolicyMeasures(jhu_data, population_data, oxcgrt_data, tau=360)\n",
    "# The number of registerd countries\n",
    "len(analyser.countries)"
   ]
  },
  {
   "cell_type": "code",
   "execution_count": 6,
   "metadata": {
    "collapsed": false
   },
   "outputs": [
    {
     "data": {
      "text/plain": [
       "covsirphy.analysis.scenario.Scenario"
      ]
     },
     "execution_count": 6,
     "metadata": {},
     "output_type": "execute_result"
    }
   ],
   "source": [
    "# We can get Scenario instance for detailed scenario analysis\n",
    "type(analyser.scenario(\"Japan\"))"
   ]
  },
  {
   "cell_type": "markdown",
   "metadata": {},
   "source": [
    "## Set phases with S-R trend analysis\n",
    "We will perform S-R trend analysis to set phases in all countries. Countries which do not have **17th phases** will be un-registered for the next analysis. This number will be adjusted for your analysis."
   ]
  },
  {
   "cell_type": "code",
   "execution_count": 7,
   "metadata": {
    "collapsed": false
   },
   "outputs": [
    {
     "name": "stdout",
     "output_type": "stream",
     "text": [
      "{2: ['Saint Kitts and Nevis', 'Holy See', 'Laos'],\n",
      " 3: ['Fiji', 'Timor-Leste'],\n",
      " 4: ['Tanzania', 'Dominica'],\n",
      " 5: ['Brunei', 'Saint Vincent and the Grenadines', 'Grenada'],\n",
      " 6: ['Saint Lucia', 'Equatorial Guinea'],\n",
      " 7: ['Sao Tome and Principe', 'Mauritius', 'Northern Mariana Islands',\n",
      "     'Antigua and Barbuda'],\n",
      " 8: ['Kyrgyzstan', 'Madagascar', 'Cambodia', 'Liechtenstein', 'Bahamas'],\n",
      " 9: ['Philippines', 'Uzbekistan', 'Botswana', 'Seychelles', 'Guam', 'Gambia',\n",
      "     'Republic of the Congo', 'Vietnam', 'Australia', 'Jamaica',\n",
      "     'Trinidad and Tobago'],\n",
      " 10: ['Kazakhstan', 'Djibouti', 'Cape Verde', 'Kenya', 'India', 'Bhutan',\n",
      "      'Guatemala', 'Singapore', 'Bahrain', 'Ghana', 'Maldives', 'Honduras',\n",
      "      'Suriname', 'Oman', 'Zimbabwe', 'Belize', 'Rwanda',\n",
      "      'Virgin Islands, U.S.', 'Bolivia', 'Benin', 'Monaco', 'Ethiopia',\n",
      "      'Taiwan', 'Angola', 'Libya', 'Venezuela', 'Guyana', 'Papua New Guinea',\n",
      "      'Zambia', 'Iceland', 'Iraq'],\n",
      " 11: ['Kuwait', 'Colombia', 'Argentina', 'Israel', 'Nicaragua', 'Syria',\n",
      "      'Senegal', 'Namibia', 'Mozambique', 'Yemen', 'Comoros', 'Barbados',\n",
      "      'El Salvador', 'Saudi Arabia', 'Ecuador', 'Brazil', 'Paraguay', 'Nepal',\n",
      "      'Lesotho', 'New Zealand', 'Costa Rica', 'Dominican Republic',\n",
      "      'South Africa', 'Bermuda', 'Malawi', 'Pakistan', 'Burundi', 'Chile',\n",
      "      'Bangladesh', 'Algeria', \"Cote d'Ivoire\", 'Peru', 'Mongolia', 'Gabon',\n",
      "      'Andorra'],\n",
      " 12: ['Cameroon', 'Eritrea', 'Egypt', 'Kosovo', 'Guinea', 'Liberia', 'Ireland',\n",
      "      'Nigeria', 'Niger', 'South Sudan', 'Uganda', 'Guinea-Bissau', 'Panama',\n",
      "      'Puerto Rico', 'Morocco', 'Myanmar', 'Togo', 'Swaziland', 'Montenegro',\n",
      "      'Somalia', 'Sudan', 'Afghanistan', 'Mexico', 'Georgia'],\n",
      " 13: ['Qatar', 'Japan', 'Mali', 'Democratic Republic of the Congo', 'Slovenia',\n",
      "      'Moldova', 'Sierra Leone', 'Palestine', 'Jordan', 'Tajikistan', 'Serbia',\n",
      "      'Malta', 'Armenia', 'Indonesia'],\n",
      " 14: ['Azerbaijan', 'Haiti', 'Iran', 'Hungary', 'Russia', 'Greece',\n",
      "      'Burkina Faso', 'China', 'Lithuania', 'Central African Republic', 'Cuba',\n",
      "      'Bosnia and Herzegovina', 'United Arab Emirates', 'Chad', 'San Marino',\n",
      "      'Albania'],\n",
      " 15: ['Sri Lanka', 'Mauritania', 'Croatia', 'Slovakia', 'Tunisia', 'Thailand',\n",
      "      'Lebanon', 'France', 'Cyprus', 'United States', 'North Macedonia',\n",
      "      'Belarus', 'Latvia', 'Luxembourg', 'Bulgaria', 'Spain', 'Turkey'],\n",
      " 16: ['Czech Republic', 'Poland', 'Uruguay', 'Sweden', 'Ukraine', 'Denmark',\n",
      "      'Austria', 'Malaysia', 'Estonia'],\n",
      " 17: ['Romania', 'Belgium', 'Italy', 'Finland', 'Canada', 'Switzerland'],\n",
      " 18: ['Portugal', 'United Kingdom', 'Norway', 'Netherlands'],\n",
      " 19: ['Germany']}\n"
     ]
    }
   ],
   "source": [
    "# Show the number of phases of all countries\n",
    "analyser.trend()\n",
    "pprint(analyser.phase_len(), compact=True)"
   ]
  },
  {
   "cell_type": "code",
   "execution_count": 8,
   "metadata": {
    "collapsed": false
   },
   "outputs": [
    {
     "data": {
      "text/plain": [
       "11"
      ]
     },
     "execution_count": 8,
     "metadata": {},
     "output_type": "execute_result"
    }
   ],
   "source": [
    "# Set phases with S-R trend analysis\n",
    "analyser.trend(min_len=17)\n",
    "# The number of countries\n",
    "len(analyser.countries)"
   ]
  },
  {
   "cell_type": "code",
   "execution_count": 9,
   "metadata": {
    "collapsed": false,
    "tags": []
   },
   "outputs": [
    {
     "name": "stdout",
     "output_type": "stream",
     "text": [
      "{17: ['Romania', 'Belgium', 'Italy', 'Finland', 'Canada', 'Switzerland'],\n",
      " 18: ['Portugal', 'United Kingdom', 'Norway', 'Netherlands'],\n",
      " 19: ['Germany']}\n"
     ]
    }
   ],
   "source": [
    "phase_len_dict = analyser.phase_len()\n",
    "pprint(phase_len_dict, compact=True)"
   ]
  },
  {
   "cell_type": "code",
   "execution_count": 10,
   "metadata": {
    "collapsed": false,
    "tags": []
   },
   "outputs": [
    {
     "data": {
      "text/html": [
       "<div>\n",
       "<style scoped>\n",
       "    .dataframe tbody tr th:only-of-type {\n",
       "        vertical-align: middle;\n",
       "    }\n",
       "\n",
       "    .dataframe tbody tr th {\n",
       "        vertical-align: top;\n",
       "    }\n",
       "\n",
       "    .dataframe thead th {\n",
       "        text-align: right;\n",
       "    }\n",
       "</style>\n",
       "<table border=\"1\" class=\"dataframe\">\n",
       "  <thead>\n",
       "    <tr style=\"text-align: right;\">\n",
       "      <th></th>\n",
       "      <th></th>\n",
       "      <th>Type</th>\n",
       "      <th>Start</th>\n",
       "      <th>End</th>\n",
       "      <th>Population</th>\n",
       "    </tr>\n",
       "    <tr>\n",
       "      <th>Country</th>\n",
       "      <th>Phase</th>\n",
       "      <th></th>\n",
       "      <th></th>\n",
       "      <th></th>\n",
       "      <th></th>\n",
       "    </tr>\n",
       "  </thead>\n",
       "  <tbody>\n",
       "    <tr>\n",
       "      <th rowspan=\"19\" valign=\"top\">Germany</th>\n",
       "      <th>0th</th>\n",
       "      <td>Past</td>\n",
       "      <td>18Jan2020</td>\n",
       "      <td>22Mar2020</td>\n",
       "      <td>82905782</td>\n",
       "    </tr>\n",
       "    <tr>\n",
       "      <th>1st</th>\n",
       "      <td>Past</td>\n",
       "      <td>23Mar2020</td>\n",
       "      <td>02Apr2020</td>\n",
       "      <td>82905782</td>\n",
       "    </tr>\n",
       "    <tr>\n",
       "      <th>2nd</th>\n",
       "      <td>Past</td>\n",
       "      <td>03Apr2020</td>\n",
       "      <td>20Apr2020</td>\n",
       "      <td>82905782</td>\n",
       "    </tr>\n",
       "    <tr>\n",
       "      <th>3rd</th>\n",
       "      <td>Past</td>\n",
       "      <td>21Apr2020</td>\n",
       "      <td>16Jun2020</td>\n",
       "      <td>82905782</td>\n",
       "    </tr>\n",
       "    <tr>\n",
       "      <th>4th</th>\n",
       "      <td>Past</td>\n",
       "      <td>17Jun2020</td>\n",
       "      <td>15Aug2020</td>\n",
       "      <td>82905782</td>\n",
       "    </tr>\n",
       "    <tr>\n",
       "      <th>5th</th>\n",
       "      <td>Past</td>\n",
       "      <td>16Aug2020</td>\n",
       "      <td>16Sep2020</td>\n",
       "      <td>82905782</td>\n",
       "    </tr>\n",
       "    <tr>\n",
       "      <th>6th</th>\n",
       "      <td>Past</td>\n",
       "      <td>17Sep2020</td>\n",
       "      <td>08Oct2020</td>\n",
       "      <td>82905782</td>\n",
       "    </tr>\n",
       "    <tr>\n",
       "      <th>7th</th>\n",
       "      <td>Past</td>\n",
       "      <td>09Oct2020</td>\n",
       "      <td>20Oct2020</td>\n",
       "      <td>82905782</td>\n",
       "    </tr>\n",
       "    <tr>\n",
       "      <th>8th</th>\n",
       "      <td>Past</td>\n",
       "      <td>21Oct2020</td>\n",
       "      <td>27Oct2020</td>\n",
       "      <td>82905782</td>\n",
       "    </tr>\n",
       "    <tr>\n",
       "      <th>9th</th>\n",
       "      <td>Past</td>\n",
       "      <td>28Oct2020</td>\n",
       "      <td>03Nov2020</td>\n",
       "      <td>82905782</td>\n",
       "    </tr>\n",
       "    <tr>\n",
       "      <th>10th</th>\n",
       "      <td>Past</td>\n",
       "      <td>04Nov2020</td>\n",
       "      <td>10Nov2020</td>\n",
       "      <td>82905782</td>\n",
       "    </tr>\n",
       "    <tr>\n",
       "      <th>11th</th>\n",
       "      <td>Past</td>\n",
       "      <td>11Nov2020</td>\n",
       "      <td>17Nov2020</td>\n",
       "      <td>82905782</td>\n",
       "    </tr>\n",
       "    <tr>\n",
       "      <th>12th</th>\n",
       "      <td>Past</td>\n",
       "      <td>18Nov2020</td>\n",
       "      <td>24Nov2020</td>\n",
       "      <td>82905782</td>\n",
       "    </tr>\n",
       "    <tr>\n",
       "      <th>13th</th>\n",
       "      <td>Past</td>\n",
       "      <td>25Nov2020</td>\n",
       "      <td>01Dec2020</td>\n",
       "      <td>82905782</td>\n",
       "    </tr>\n",
       "    <tr>\n",
       "      <th>14th</th>\n",
       "      <td>Past</td>\n",
       "      <td>02Dec2020</td>\n",
       "      <td>08Dec2020</td>\n",
       "      <td>82905782</td>\n",
       "    </tr>\n",
       "    <tr>\n",
       "      <th>15th</th>\n",
       "      <td>Past</td>\n",
       "      <td>09Dec2020</td>\n",
       "      <td>15Dec2020</td>\n",
       "      <td>82905782</td>\n",
       "    </tr>\n",
       "    <tr>\n",
       "      <th>16th</th>\n",
       "      <td>Past</td>\n",
       "      <td>16Dec2020</td>\n",
       "      <td>21Dec2020</td>\n",
       "      <td>82905782</td>\n",
       "    </tr>\n",
       "    <tr>\n",
       "      <th>17th</th>\n",
       "      <td>Past</td>\n",
       "      <td>22Dec2020</td>\n",
       "      <td>28Dec2020</td>\n",
       "      <td>82905782</td>\n",
       "    </tr>\n",
       "    <tr>\n",
       "      <th>18th</th>\n",
       "      <td>Past</td>\n",
       "      <td>29Dec2020</td>\n",
       "      <td>05Jan2021</td>\n",
       "      <td>82905782</td>\n",
       "    </tr>\n",
       "  </tbody>\n",
       "</table>\n",
       "</div>"
      ],
      "text/plain": [
       "               Type      Start        End  Population\n",
       "Country Phase                                        \n",
       "Germany 0th    Past  18Jan2020  22Mar2020    82905782\n",
       "        1st    Past  23Mar2020  02Apr2020    82905782\n",
       "        2nd    Past  03Apr2020  20Apr2020    82905782\n",
       "        3rd    Past  21Apr2020  16Jun2020    82905782\n",
       "        4th    Past  17Jun2020  15Aug2020    82905782\n",
       "        5th    Past  16Aug2020  16Sep2020    82905782\n",
       "        6th    Past  17Sep2020  08Oct2020    82905782\n",
       "        7th    Past  09Oct2020  20Oct2020    82905782\n",
       "        8th    Past  21Oct2020  27Oct2020    82905782\n",
       "        9th    Past  28Oct2020  03Nov2020    82905782\n",
       "        10th   Past  04Nov2020  10Nov2020    82905782\n",
       "        11th   Past  11Nov2020  17Nov2020    82905782\n",
       "        12th   Past  18Nov2020  24Nov2020    82905782\n",
       "        13th   Past  25Nov2020  01Dec2020    82905782\n",
       "        14th   Past  02Dec2020  08Dec2020    82905782\n",
       "        15th   Past  09Dec2020  15Dec2020    82905782\n",
       "        16th   Past  16Dec2020  21Dec2020    82905782\n",
       "        17th   Past  22Dec2020  28Dec2020    82905782\n",
       "        18th   Past  29Dec2020  05Jan2021    82905782"
      ]
     },
     "execution_count": 10,
     "metadata": {},
     "output_type": "execute_result"
    }
   ],
   "source": [
    "# Here, only show the countries which have the most phases\n",
    "countries_show = max(phase_len_dict.items(), key=lambda x: x[0])[1]\n",
    "# Show summary\n",
    "analyser.summary(countries=countries_show)"
   ]
  },
  {
   "cell_type": "markdown",
   "metadata": {},
   "source": [
    "## Parameter estimation\n",
    "we will estimate the parameter values with SIR-derived ODE models in each country."
   ]
  },
  {
   "cell_type": "code",
   "execution_count": 11,
   "metadata": {
    "collapsed": false,
    "tags": []
   },
   "outputs": [
    {
     "name": "stdout",
     "output_type": "stream",
     "text": [
      "\n",
      "<SIR-F model: parameter estimation>\n",
      "Running optimization with 4 CPUs...\n"
     ]
    },
    {
     "name": "stdout",
     "output_type": "stream",
     "text": [
      "\tDEU,  4th phase (17Jun2020 - 15Aug2020): finished  272 trials in 0 min 10 sec"
     ]
    },
    {
     "name": "stdout",
     "output_type": "stream",
     "text": [
      "\n"
     ]
    },
    {
     "name": "stdout",
     "output_type": "stream",
     "text": [
      "\tBEL, 11th phase (01Nov2020 - 07Nov2020): finished  266 trials in 0 min 10 sec"
     ]
    },
    {
     "name": "stdout",
     "output_type": "stream",
     "text": [
      "\n"
     ]
    },
    {
     "name": "stdout",
     "output_type": "stream",
     "text": [
      "\tROU, 14th phase (09Dec2020 - 15Dec2020): finished  274 trials in 0 min 10 sec"
     ]
    },
    {
     "name": "stdout",
     "output_type": "stream",
     "text": [
      "\n"
     ]
    },
    {
     "name": "stdout",
     "output_type": "stream",
     "text": [
      "\tCAN,  4th phase (20Jul2020 - 06Sep2020): finished  230 trials in 0 min 10 sec"
     ]
    },
    {
     "name": "stdout",
     "output_type": "stream",
     "text": [
      "\n"
     ]
    },
    {
     "name": "stdout",
     "output_type": "stream",
     "text": [
      "\tCHE,  1st phase (22Mar2020 - 30Mar2020): finished  263 trials in 0 min 10 sec"
     ]
    },
    {
     "name": "stdout",
     "output_type": "stream",
     "text": [
      "\n"
     ]
    },
    {
     "name": "stdout",
     "output_type": "stream",
     "text": [
      "\tFIN,  1st phase (05Apr2020 - 19Apr2020): finished  243 trials in 0 min 10 sec"
     ]
    },
    {
     "name": "stdout",
     "output_type": "stream",
     "text": [
      "\n"
     ]
    },
    {
     "name": "stdout",
     "output_type": "stream",
     "text": [
      "\tITA,  8th phase (23Oct2020 - 01Nov2020): finished  266 trials in 0 min 10 sec"
     ]
    },
    {
     "name": "stdout",
     "output_type": "stream",
     "text": [
      "\n"
     ]
    },
    {
     "name": "stdout",
     "output_type": "stream",
     "text": [
      "\tBEL,  6th phase (29Sep2020 - 07Oct2020): finished  250 trials in 0 min 10 sec"
     ]
    },
    {
     "name": "stdout",
     "output_type": "stream",
     "text": [
      "\n"
     ]
    },
    {
     "name": "stdout",
     "output_type": "stream",
     "text": [
      "\tNLD,  0th phase (16Mar2020 - 07Apr2020): finished  226 trials in 0 min 10 sec"
     ]
    },
    {
     "name": "stdout",
     "output_type": "stream",
     "text": [
      "\n"
     ]
    },
    {
     "name": "stdout",
     "output_type": "stream",
     "text": [
      "\tROU,  8th phase (29Oct2020 - 04Nov2020): finished  229 trials in 0 min 10 sec"
     ]
    },
    {
     "name": "stdout",
     "output_type": "stream",
     "text": [
      "\n"
     ]
    },
    {
     "name": "stdout",
     "output_type": "stream",
     "text": [
      "\tROU, 13th phase (03Dec2020 - 08Dec2020): finished  227 trials in 0 min 10 sec"
     ]
    },
    {
     "name": "stdout",
     "output_type": "stream",
     "text": [
      "\n"
     ]
    },
    {
     "name": "stdout",
     "output_type": "stream",
     "text": [
      "\tNOR,  3rd phase (03May2020 - 05Aug2020): finished  197 trials in 0 min 10 sec"
     ]
    },
    {
     "name": "stdout",
     "output_type": "stream",
     "text": [
      "\n"
     ]
    },
    {
     "name": "stdout",
     "output_type": "stream",
     "text": [
      "\tITA,  9th phase (02Nov2020 - 11Nov2020): finished  212 trials in 0 min 10 sec"
     ]
    },
    {
     "name": "stdout",
     "output_type": "stream",
     "text": [
      "\n"
     ]
    },
    {
     "name": "stdout",
     "output_type": "stream",
     "text": [
      "\tNOR,  0th phase (10Mar2020 - 25Mar2020): finished  209 trials in 0 min 10 sec"
     ]
    },
    {
     "name": "stdout",
     "output_type": "stream",
     "text": [
      "\n"
     ]
    },
    {
     "name": "stdout",
     "output_type": "stream",
     "text": [
      "\tFIN,  3rd phase (05May2020 - 26May2020): finished  217 trials in 0 min 10 sec"
     ]
    },
    {
     "name": "stdout",
     "output_type": "stream",
     "text": [
      "\n"
     ]
    },
    {
     "name": "stdout",
     "output_type": "stream",
     "text": [
      "\tBEL, 14th phase (26Nov2020 - 07Dec2020): finished  218 trials in 0 min 10 sec"
     ]
    },
    {
     "name": "stdout",
     "output_type": "stream",
     "text": [
      "\n"
     ]
    },
    {
     "name": "stdout",
     "output_type": "stream",
     "text": [
      "\tITA,  1st phase (20Mar2020 - 31Mar2020): finished  267 trials in 0 min 10 sec"
     ]
    },
    {
     "name": "stdout",
     "output_type": "stream",
     "text": [
      "\n"
     ]
    },
    {
     "name": "stdout",
     "output_type": "stream",
     "text": [
      "\tPRT, 10th phase (05Nov2020 - 14Nov2020): finished  249 trials in 0 min 10 sec"
     ]
    },
    {
     "name": "stdout",
     "output_type": "stream",
     "text": [
      "\n"
     ]
    },
    {
     "name": "stdout",
     "output_type": "stream",
     "text": [
      "\tNOR,  4th phase (06Aug2020 - 02Sep2020): finished  250 trials in 0 min 10 sec"
     ]
    },
    {
     "name": "stdout",
     "output_type": "stream",
     "text": [
      "\n"
     ]
    },
    {
     "name": "stdout",
     "output_type": "stream",
     "text": [
      "\tNLD,  9th phase (30Oct2020 - 04Nov2020): finished  264 trials in 0 min 10 sec"
     ]
    },
    {
     "name": "stdout",
     "output_type": "stream",
     "text": [
      "\n"
     ]
    },
    {
     "name": "stdout",
     "output_type": "stream",
     "text": [
      "\tFIN, 16th phase (27Dec2020 - 05Jan2021): finished  246 trials in 0 min 10 sec"
     ]
    },
    {
     "name": "stdout",
     "output_type": "stream",
     "text": [
      "\n"
     ]
    },
    {
     "name": "stdout",
     "output_type": "stream",
     "text": [
      "\tPRT,  3rd phase (06Jun2020 - 09Jul2020): finished  267 trials in 0 min 10 sec"
     ]
    },
    {
     "name": "stdout",
     "output_type": "stream",
     "text": [
      "\n"
     ]
    },
    {
     "name": "stdout",
     "output_type": "stream",
     "text": [
      "\tITA,  7th phase (16Oct2020 - 22Oct2020): finished  272 trials in 0 min 10 sec"
     ]
    },
    {
     "name": "stdout",
     "output_type": "stream",
     "text": [
      "\n"
     ]
    },
    {
     "name": "stdout",
     "output_type": "stream",
     "text": [
      "\tBEL,  9th phase (20Oct2020 - 25Oct2020): finished  261 trials in 0 min 10 sec"
     ]
    },
    {
     "name": "stdout",
     "output_type": "stream",
     "text": [
      "\n"
     ]
    },
    {
     "name": "stdout",
     "output_type": "stream",
     "text": [
      "\tCHE,  3rd phase (15Apr2020 - 22Jul2020): finished  231 trials in 0 min 10 sec"
     ]
    },
    {
     "name": "stdout",
     "output_type": "stream",
     "text": [
      "\n"
     ]
    },
    {
     "name": "stdout",
     "output_type": "stream",
     "text": [
      "\tCAN,  9th phase (05Nov2020 - 13Nov2020): finished  244 trials in 0 min 10 sec"
     ]
    },
    {
     "name": "stdout",
     "output_type": "stream",
     "text": [
      "\n"
     ]
    },
    {
     "name": "stdout",
     "output_type": "stream",
     "text": [
      "\tDEU,  1st phase (23Mar2020 - 02Apr2020): finished  248 trials in 0 min 10 sec"
     ]
    },
    {
     "name": "stdout",
     "output_type": "stream",
     "text": [
      "\n"
     ]
    },
    {
     "name": "stdout",
     "output_type": "stream",
     "text": [
      "\tBEL,  8th phase (14Oct2020 - 19Oct2020): finished  244 trials in 0 min 10 sec"
     ]
    },
    {
     "name": "stdout",
     "output_type": "stream",
     "text": [
      "\n"
     ]
    },
    {
     "name": "stdout",
     "output_type": "stream",
     "text": [
      "\tGBR,  0th phase (23Feb2020 - 09Apr2020): finished  244 trials in 0 min 10 sec"
     ]
    },
    {
     "name": "stdout",
     "output_type": "stream",
     "text": [
      "\n"
     ]
    },
    {
     "name": "stdout",
     "output_type": "stream",
     "text": [
      "\tGBR,  4th phase (08Aug2020 - 16Sep2020): finished  258 trials in 0 min 10 sec"
     ]
    },
    {
     "name": "stdout",
     "output_type": "stream",
     "text": [
      "\n"
     ]
    },
    {
     "name": "stdout",
     "output_type": "stream",
     "text": [
      "\tNLD,  2nd phase (02May2020 - 10Aug2020): finished  247 trials in 0 min 10 sec"
     ]
    },
    {
     "name": "stdout",
     "output_type": "stream",
     "text": [
      "\n"
     ]
    },
    {
     "name": "stdout",
     "output_type": "stream",
     "text": [
      "\tNLD, 13th phase (28Nov2020 - 05Dec2020): finished  257 trials in 0 min 10 sec"
     ]
    },
    {
     "name": "stdout",
     "output_type": "stream",
     "text": [
      "\n"
     ]
    },
    {
     "name": "stdout",
     "output_type": "stream",
     "text": [
      "\tFIN,  8th phase (19Oct2020 - 28Oct2020): finished  241 trials in 0 min 10 sec"
     ]
    },
    {
     "name": "stdout",
     "output_type": "stream",
     "text": [
      "\n"
     ]
    },
    {
     "name": "stdout",
     "output_type": "stream",
     "text": [
      "\tBEL, 10th phase (26Oct2020 - 31Oct2020): finished  255 trials in 0 min 10 sec"
     ]
    },
    {
     "name": "stdout",
     "output_type": "stream",
     "text": [
      "\n"
     ]
    },
    {
     "name": "stdout",
     "output_type": "stream",
     "text": [
      "\tFIN,  9th phase (29Oct2020 - 08Nov2020): finished  252 trials in 0 min 10 sec"
     ]
    },
    {
     "name": "stdout",
     "output_type": "stream",
     "text": [
      "\n"
     ]
    },
    {
     "name": "stdout",
     "output_type": "stream",
     "text": [
      "\tNLD, 12th phase (20Nov2020 - 27Nov2020): finished  242 trials in 0 min 10 sec"
     ]
    },
    {
     "name": "stdout",
     "output_type": "stream",
     "text": [
      "\n"
     ]
    },
    {
     "name": "stdout",
     "output_type": "stream",
     "text": [
      "\tNLD, 14th phase (06Dec2020 - 11Dec2020): finished  266 trials in 0 min 10 sec"
     ]
    },
    {
     "name": "stdout",
     "output_type": "stream",
     "text": [
      "\n"
     ]
    },
    {
     "name": "stdout",
     "output_type": "stream",
     "text": [
      "\tITA,  6th phase (02Oct2020 - 15Oct2020): finished  278 trials in 0 min 10 sec"
     ]
    },
    {
     "name": "stdout",
     "output_type": "stream",
     "text": [
      "\n"
     ]
    },
    {
     "name": "stdout",
     "output_type": "stream",
     "text": [
      "\tFIN,  2nd phase (20Apr2020 - 04May2020): finished  270 trials in 0 min 10 sec"
     ]
    },
    {
     "name": "stdout",
     "output_type": "stream",
     "text": [
      "\n"
     ]
    },
    {
     "name": "stdout",
     "output_type": "stream",
     "text": [
      "\tDEU,  2nd phase (03Apr2020 - 20Apr2020): finished  268 trials in 0 min 10 sec"
     ]
    },
    {
     "name": "stdout",
     "output_type": "stream",
     "text": [
      "\n"
     ]
    },
    {
     "name": "stdout",
     "output_type": "stream",
     "text": [
      "\tNLD,  8th phase (20Oct2020 - 29Oct2020): finished  304 trials in 0 min 10 sec"
     ]
    },
    {
     "name": "stdout",
     "output_type": "stream",
     "text": [
      "\n"
     ]
    },
    {
     "name": "stdout",
     "output_type": "stream",
     "text": [
      "\tNLD,  5th phase (28Sep2020 - 06Oct2020): finished  295 trials in 0 min 10 sec"
     ]
    },
    {
     "name": "stdout",
     "output_type": "stream",
     "text": [
      "\n"
     ]
    },
    {
     "name": "stdout",
     "output_type": "stream",
     "text": [
      "\tGBR,  9th phase (28Oct2020 - 03Nov2020): finished  303 trials in 0 min 10 sec"
     ]
    },
    {
     "name": "stdout",
     "output_type": "stream",
     "text": [
      "\n"
     ]
    },
    {
     "name": "stdout",
     "output_type": "stream",
     "text": [
      "\tNOR, 11th phase (10Nov2020 - 22Nov2020): finished  288 trials in 0 min 10 sec"
     ]
    },
    {
     "name": "stdout",
     "output_type": "stream",
     "text": [
      "\n"
     ]
    },
    {
     "name": "stdout",
     "output_type": "stream",
     "text": [
      "\tGBR,  6th phase (03Oct2020 - 12Oct2020): finished  255 trials in 0 min 10 sec"
     ]
    },
    {
     "name": "stdout",
     "output_type": "stream",
     "text": [
      "\n"
     ]
    },
    {
     "name": "stdout",
     "output_type": "stream",
     "text": [
      "\tGBR, 10th phase (04Nov2020 - 10Nov2020): finished  279 trials in 0 min 10 sec"
     ]
    },
    {
     "name": "stdout",
     "output_type": "stream",
     "text": [
      "\n"
     ]
    },
    {
     "name": "stdout",
     "output_type": "stream",
     "text": [
      "\tBEL, 12th phase (08Nov2020 - 15Nov2020): finished  277 trials in 0 min 10 sec"
     ]
    },
    {
     "name": "stdout",
     "output_type": "stream",
     "text": [
      "\n"
     ]
    },
    {
     "name": "stdout",
     "output_type": "stream",
     "text": [
      "\tCAN, 15th phase (20Dec2020 - 27Dec2020): finished  282 trials in 0 min 10 sec"
     ]
    },
    {
     "name": "stdout",
     "output_type": "stream",
     "text": [
      "\n"
     ]
    },
    {
     "name": "stdout",
     "output_type": "stream",
     "text": [
      "\tPRT,  0th phase (14Mar2020 - 03Apr2020): finished  325 trials in 0 min 10 sec"
     ]
    },
    {
     "name": "stdout",
     "output_type": "stream",
     "text": [
      "\n"
     ]
    },
    {
     "name": "stdout",
     "output_type": "stream",
     "text": [
      "\tBEL, 15th phase (08Dec2020 - 19Dec2020): finished  341 trials in 0 min 10 sec"
     ]
    },
    {
     "name": "stdout",
     "output_type": "stream",
     "text": [
      "\n"
     ]
    },
    {
     "name": "stdout",
     "output_type": "stream",
     "text": [
      "\tCAN, 12th phase (29Nov2020 - 05Dec2020): finished  338 trials in 0 min 10 sec"
     ]
    },
    {
     "name": "stdout",
     "output_type": "stream",
     "text": [
      "\n"
     ]
    },
    {
     "name": "stdout",
     "output_type": "stream",
     "text": [
      "\tPRT,  6th phase (25Sep2020 - 12Oct2020): finished  319 trials in 0 min 10 sec"
     ]
    },
    {
     "name": "stdout",
     "output_type": "stream",
     "text": [
      "\n"
     ]
    },
    {
     "name": "stdout",
     "output_type": "stream",
     "text": [
      "\tROU,  5th phase (24Sep2020 - 08Oct2020): finished  357 trials in 0 min 10 sec"
     ]
    },
    {
     "name": "stdout",
     "output_type": "stream",
     "text": [
      "\n"
     ]
    },
    {
     "name": "stdout",
     "output_type": "stream",
     "text": [
      "\tGBR,  1st phase (10Apr2020 - 30Apr2020): finished  365 trials in 0 min 10 sec"
     ]
    },
    {
     "name": "stdout",
     "output_type": "stream",
     "text": [
      "\n"
     ]
    },
    {
     "name": "stdout",
     "output_type": "stream",
     "text": [
      "\tDEU,  3rd phase (21Apr2020 - 16Jun2020): finished  350 trials in 0 min 10 sec"
     ]
    },
    {
     "name": "stdout",
     "output_type": "stream",
     "text": [
      "\n"
     ]
    },
    {
     "name": "stdout",
     "output_type": "stream",
     "text": [
      "\tCHE, 12th phase (15Nov2020 - 24Nov2020): finished  369 trials in 0 min 10 sec"
     ]
    },
    {
     "name": "stdout",
     "output_type": "stream",
     "text": [
      "\n"
     ]
    },
    {
     "name": "stdout",
     "output_type": "stream",
     "text": [
      "\tFIN,  7th phase (08Oct2020 - 18Oct2020): finished  331 trials in 0 min 10 sec"
     ]
    },
    {
     "name": "stdout",
     "output_type": "stream",
     "text": [
      "\n"
     ]
    },
    {
     "name": "stdout",
     "output_type": "stream",
     "text": [
      "\tBEL, 13th phase (16Nov2020 - 25Nov2020): finished  342 trials in 0 min 10 sec"
     ]
    },
    {
     "name": "stdout",
     "output_type": "stream",
     "text": [
      "\n"
     ]
    },
    {
     "name": "stdout",
     "output_type": "stream",
     "text": [
      "\tFIN,  0th phase (17Mar2020 - 04Apr2020): finished  340 trials in 0 min 10 sec"
     ]
    },
    {
     "name": "stdout",
     "output_type": "stream",
     "text": [
      "\n"
     ]
    },
    {
     "name": "stdout",
     "output_type": "stream",
     "text": [
      "\tROU,  4th phase (02Sep2020 - 23Sep2020): finished  340 trials in 0 min 10 sec"
     ]
    },
    {
     "name": "stdout",
     "output_type": "stream",
     "text": [
      "\n"
     ]
    },
    {
     "name": "stdout",
     "output_type": "stream",
     "text": [
      "\tITA,  4th phase (11May2020 - 28Aug2020): finished  335 trials in 0 min 10 sec"
     ]
    },
    {
     "name": "stdout",
     "output_type": "stream",
     "text": [
      "\n"
     ]
    },
    {
     "name": "stdout",
     "output_type": "stream",
     "text": [
      "\tNOR,  8th phase (21Oct2020 - 28Oct2020): finished  371 trials in 0 min 10 sec"
     ]
    },
    {
     "name": "stdout",
     "output_type": "stream",
     "text": [
      "\n"
     ]
    },
    {
     "name": "stdout",
     "output_type": "stream",
     "text": [
      "\tNOR,  5th phase (03Sep2020 - 19Sep2020): finished  365 trials in 0 min 10 sec"
     ]
    },
    {
     "name": "stdout",
     "output_type": "stream",
     "text": [
      "\n"
     ]
    },
    {
     "name": "stdout",
     "output_type": "stream",
     "text": [
      "\tROU, 12th phase (25Nov2020 - 02Dec2020): finished  367 trials in 0 min 10 sec"
     ]
    },
    {
     "name": "stdout",
     "output_type": "stream",
     "text": [
      "\n"
     ]
    },
    {
     "name": "stdout",
     "output_type": "stream",
     "text": [
      "\tITA,  0th phase (24Feb2020 - 19Mar2020): finished  343 trials in 0 min 10 sec"
     ]
    },
    {
     "name": "stdout",
     "output_type": "stream",
     "text": [
      "\n"
     ]
    },
    {
     "name": "stdout",
     "output_type": "stream",
     "text": [
      "\tDEU, 16th phase (16Dec2020 - 21Dec2020): finished  351 trials in 0 min 10 sec"
     ]
    },
    {
     "name": "stdout",
     "output_type": "stream",
     "text": [
      "\n"
     ]
    },
    {
     "name": "stdout",
     "output_type": "stream",
     "text": [
      "\tCHE,  0th phase (03Mar2020 - 21Mar2020): finished  342 trials in 0 min 10 sec"
     ]
    },
    {
     "name": "stdout",
     "output_type": "stream",
     "text": [
      "\n"
     ]
    },
    {
     "name": "stdout",
     "output_type": "stream",
     "text": [
      "\tPRT, 15th phase (16Dec2020 - 22Dec2020): finished  337 trials in 0 min 10 sec"
     ]
    },
    {
     "name": "stdout",
     "output_type": "stream",
     "text": [
      "\n"
     ]
    },
    {
     "name": "stdout",
     "output_type": "stream",
     "text": [
      "\tPRT, 14th phase (10Dec2020 - 15Dec2020): finished  350 trials in 0 min 10 sec"
     ]
    },
    {
     "name": "stdout",
     "output_type": "stream",
     "text": [
      "\n"
     ]
    },
    {
     "name": "stdout",
     "output_type": "stream",
     "text": [
      "\tROU,  3rd phase (10Aug2020 - 01Sep2020): finished  343 trials in 0 min 10 sec"
     ]
    },
    {
     "name": "stdout",
     "output_type": "stream",
     "text": [
      "\n"
     ]
    },
    {
     "name": "stdout",
     "output_type": "stream",
     "text": [
      "\tCHE,  4th phase (23Jul2020 - 24Aug2020): finished  338 trials in 0 min 10 sec"
     ]
    },
    {
     "name": "stdout",
     "output_type": "stream",
     "text": [
      "\n"
     ]
    },
    {
     "name": "stdout",
     "output_type": "stream",
     "text": [
      "\tFIN, 11th phase (19Nov2020 - 25Nov2020): finished  352 trials in 0 min 10 sec"
     ]
    },
    {
     "name": "stdout",
     "output_type": "stream",
     "text": [
      "\n"
     ]
    },
    {
     "name": "stdout",
     "output_type": "stream",
     "text": [
      "\tROU,  7th phase (20Oct2020 - 28Oct2020): finished  366 trials in 0 min 10 sec"
     ]
    },
    {
     "name": "stdout",
     "output_type": "stream",
     "text": [
      "\n"
     ]
    },
    {
     "name": "stdout",
     "output_type": "stream",
     "text": [
      "\tNOR, 15th phase (15Dec2020 - 21Dec2020): finished  367 trials in 0 min 10 sec"
     ]
    },
    {
     "name": "stdout",
     "output_type": "stream",
     "text": [
      "\n"
     ]
    },
    {
     "name": "stdout",
     "output_type": "stream",
     "text": [
      "\tBEL,  3rd phase (10May2020 - 03Aug2020): finished  339 trials in 0 min 10 sec"
     ]
    },
    {
     "name": "stdout",
     "output_type": "stream",
     "text": [
      "\n"
     ]
    },
    {
     "name": "stdout",
     "output_type": "stream",
     "text": [
      "\tCHE, 13th phase (25Nov2020 - 30Nov2020): finished  366 trials in 0 min 10 sec"
     ]
    },
    {
     "name": "stdout",
     "output_type": "stream",
     "text": [
      "\n"
     ]
    },
    {
     "name": "stdout",
     "output_type": "stream",
     "text": [
      "\tFIN, 15th phase (17Dec2020 - 26Dec2020): finished  353 trials in 0 min 10 sec"
     ]
    },
    {
     "name": "stdout",
     "output_type": "stream",
     "text": [
      "\n"
     ]
    },
    {
     "name": "stdout",
     "output_type": "stream",
     "text": [
      "\tBEL,  1st phase (30Mar2020 - 13Apr2020): finished  359 trials in 0 min 10 sec"
     ]
    },
    {
     "name": "stdout",
     "output_type": "stream",
     "text": [
      "\n"
     ]
    },
    {
     "name": "stdout",
     "output_type": "stream",
     "text": [
      "\tNOR, 14th phase (08Dec2020 - 14Dec2020): finished  363 trials in 0 min 10 sec"
     ]
    },
    {
     "name": "stdout",
     "output_type": "stream",
     "text": [
      "\n"
     ]
    },
    {
     "name": "stdout",
     "output_type": "stream",
     "text": [
      "\tITA,  5th phase (29Aug2020 - 01Oct2020): finished  350 trials in 0 min 10 sec"
     ]
    },
    {
     "name": "stdout",
     "output_type": "stream",
     "text": [
      "\n"
     ]
    },
    {
     "name": "stdout",
     "output_type": "stream",
     "text": [
      "\tCAN, 13th phase (06Dec2020 - 12Dec2020): finished  366 trials in 0 min 10 sec"
     ]
    },
    {
     "name": "stdout",
     "output_type": "stream",
     "text": [
      "\n"
     ]
    },
    {
     "name": "stdout",
     "output_type": "stream",
     "text": [
      "\tBEL,  4th phase (04Aug2020 - 12Sep2020): finished  350 trials in 0 min 10 sec"
     ]
    },
    {
     "name": "stdout",
     "output_type": "stream",
     "text": [
      "\n"
     ]
    },
    {
     "name": "stdout",
     "output_type": "stream",
     "text": [
      "\tFIN, 10th phase (09Nov2020 - 18Nov2020): finished  364 trials in 0 min 10 sec"
     ]
    },
    {
     "name": "stdout",
     "output_type": "stream",
     "text": [
      "\n"
     ]
    },
    {
     "name": "stdout",
     "output_type": "stream",
     "text": [
      "\tCAN,  7th phase (12Oct2020 - 24Oct2020): finished  365 trials in 0 min 10 sec"
     ]
    },
    {
     "name": "stdout",
     "output_type": "stream",
     "text": [
      "\n"
     ]
    },
    {
     "name": "stdout",
     "output_type": "stream",
     "text": [
      "\tGBR,  7th phase (13Oct2020 - 20Oct2020): finished  327 trials in 0 min 10 sec"
     ]
    },
    {
     "name": "stdout",
     "output_type": "stream",
     "text": [
      "\n"
     ]
    },
    {
     "name": "stdout",
     "output_type": "stream",
     "text": [
      "\tBEL,  0th phase (04Mar2020 - 29Mar2020): finished  317 trials in 0 min 10 sec"
     ]
    },
    {
     "name": "stdout",
     "output_type": "stream",
     "text": [
      "\n"
     ]
    },
    {
     "name": "stdout",
     "output_type": "stream",
     "text": [
      "\tNLD,  4th phase (14Sep2020 - 27Sep2020): finished  306 trials in 0 min 10 sec"
     ]
    },
    {
     "name": "stdout",
     "output_type": "stream",
     "text": [
      "\n"
     ]
    },
    {
     "name": "stdout",
     "output_type": "stream",
     "text": [
      "\tGBR,  5th phase (17Sep2020 - 02Oct2020): finished  305 trials in 0 min 10 sec"
     ]
    },
    {
     "name": "stdout",
     "output_type": "stream",
     "text": [
      "\n"
     ]
    },
    {
     "name": "stdout",
     "output_type": "stream",
     "text": [
      "\tCAN, 10th phase (14Nov2020 - 21Nov2020): finished  346 trials in 0 min 10 sec"
     ]
    },
    {
     "name": "stdout",
     "output_type": "stream",
     "text": [
      "\n"
     ]
    },
    {
     "name": "stdout",
     "output_type": "stream",
     "text": [
      "\tROU,  6th phase (09Oct2020 - 19Oct2020): finished  354 trials in 0 min 10 sec"
     ]
    },
    {
     "name": "stdout",
     "output_type": "stream",
     "text": [
      "\n"
     ]
    },
    {
     "name": "stdout",
     "output_type": "stream",
     "text": [
      "\tCHE, 10th phase (30Oct2020 - 08Nov2020): finished  352 trials in 0 min 10 sec"
     ]
    },
    {
     "name": "stdout",
     "output_type": "stream",
     "text": [
      "\n"
     ]
    },
    {
     "name": "stdout",
     "output_type": "stream",
     "text": [
      "\tPRT,  5th phase (01Sep2020 - 24Sep2020): finished  336 trials in 0 min 10 sec"
     ]
    },
    {
     "name": "stdout",
     "output_type": "stream",
     "text": [
      "\n"
     ]
    },
    {
     "name": "stdout",
     "output_type": "stream",
     "text": [
      "\tCAN,  5th phase (07Sep2020 - 28Sep2020): finished  308 trials in 0 min 10 sec"
     ]
    },
    {
     "name": "stdout",
     "output_type": "stream",
     "text": [
      "\n"
     ]
    },
    {
     "name": "stdout",
     "output_type": "stream",
     "text": [
      "\tDEU, 13th phase (25Nov2020 - 01Dec2020): finished  302 trials in 0 min 10 sec"
     ]
    },
    {
     "name": "stdout",
     "output_type": "stream",
     "text": [
      "\n"
     ]
    },
    {
     "name": "stdout",
     "output_type": "stream",
     "text": [
      "\tITA, 11th phase (22Nov2020 - 02Dec2020): finished  303 trials in 0 min 10 sec"
     ]
    },
    {
     "name": "stdout",
     "output_type": "stream",
     "text": [
      "\n"
     ]
    },
    {
     "name": "stdout",
     "output_type": "stream",
     "text": [
      "\tFIN, 12th phase (26Nov2020 - 01Dec2020): finished  292 trials in 0 min 10 sec"
     ]
    },
    {
     "name": "stdout",
     "output_type": "stream",
     "text": [
      "\n"
     ]
    },
    {
     "name": "stdout",
     "output_type": "stream",
     "text": [
      "\tROU,  2nd phase (17Jul2020 - 09Aug2020): finished  286 trials in 0 min 10 sec"
     ]
    },
    {
     "name": "stdout",
     "output_type": "stream",
     "text": [
      "\n"
     ]
    },
    {
     "name": "stdout",
     "output_type": "stream",
     "text": [
      "\tNOR, 17th phase (29Dec2020 - 05Jan2021): finished  306 trials in 0 min 10 sec"
     ]
    },
    {
     "name": "stdout",
     "output_type": "stream",
     "text": [
      "\n"
     ]
    },
    {
     "name": "stdout",
     "output_type": "stream",
     "text": [
      "\tCAN, 14th phase (13Dec2020 - 19Dec2020): finished  302 trials in 0 min 10 sec"
     ]
    },
    {
     "name": "stdout",
     "output_type": "stream",
     "text": [
      "\n"
     ]
    },
    {
     "name": "stdout",
     "output_type": "stream",
     "text": [
      "\tCHE,  7th phase (06Oct2020 - 13Oct2020): finished  315 trials in 0 min 10 sec"
     ]
    },
    {
     "name": "stdout",
     "output_type": "stream",
     "text": [
      "\n"
     ]
    },
    {
     "name": "stdout",
     "output_type": "stream",
     "text": [
      "\tROU,  1st phase (07May2020 - 16Jul2020): finished  300 trials in 0 min 10 sec"
     ]
    },
    {
     "name": "stdout",
     "output_type": "stream",
     "text": [
      "\n"
     ]
    },
    {
     "name": "stdout",
     "output_type": "stream",
     "text": [
      "\tNOR,  9th phase (29Oct2020 - 03Nov2020): finished  329 trials in 0 min 10 sec"
     ]
    },
    {
     "name": "stdout",
     "output_type": "stream",
     "text": [
      "\n"
     ]
    },
    {
     "name": "stdout",
     "output_type": "stream",
     "text": [
      "\tNLD, 16th phase (18Dec2020 - 28Dec2020): finished  330 trials in 0 min 10 sec"
     ]
    },
    {
     "name": "stdout",
     "output_type": "stream",
     "text": [
      "\n"
     ]
    },
    {
     "name": "stdout",
     "output_type": "stream",
     "text": [
      "\tNLD,  6th phase (07Oct2020 - 13Oct2020): finished  320 trials in 0 min 10 sec"
     ]
    },
    {
     "name": "stdout",
     "output_type": "stream",
     "text": [
      "\n"
     ]
    },
    {
     "name": "stdout",
     "output_type": "stream",
     "text": [
      "\tGBR, 11th phase (11Nov2020 - 17Nov2020): finished  353 trials in 0 min 10 sec"
     ]
    },
    {
     "name": "stdout",
     "output_type": "stream",
     "text": [
      "\n"
     ]
    },
    {
     "name": "stdout",
     "output_type": "stream",
     "text": [
      "\tCHE,  5th phase (25Aug2020 - 14Sep2020): finished  354 trials in 0 min 10 sec"
     ]
    },
    {
     "name": "stdout",
     "output_type": "stream",
     "text": [
      "\n"
     ]
    },
    {
     "name": "stdout",
     "output_type": "stream",
     "text": [
      "\tCHE, 15th phase (11Dec2020 - 20Dec2020): finished  366 trials in 0 min 10 sec"
     ]
    },
    {
     "name": "stdout",
     "output_type": "stream",
     "text": [
      "\n"
     ]
    },
    {
     "name": "stdout",
     "output_type": "stream",
     "text": [
      "\tITA,  3rd phase (17Apr2020 - 10May2020): finished  359 trials in 0 min 10 sec"
     ]
    },
    {
     "name": "stdout",
     "output_type": "stream",
     "text": [
      "\n"
     ]
    },
    {
     "name": "stdout",
     "output_type": "stream",
     "text": [
      "\tFIN,  5th phase (21Aug2020 - 22Sep2020): finished  248 trials in 0 min 10 sec"
     ]
    },
    {
     "name": "stdout",
     "output_type": "stream",
     "text": [
      "\n"
     ]
    },
    {
     "name": "stdout",
     "output_type": "stream",
     "text": [
      "\tROU,  0th phase (04Mar2020 - 06May2020): finished  229 trials in 0 min 10 sec"
     ]
    },
    {
     "name": "stdout",
     "output_type": "stream",
     "text": [
      "\n"
     ]
    },
    {
     "name": "stdout",
     "output_type": "stream",
     "text": [
      "\tFIN, 14th phase (09Dec2020 - 16Dec2020): finished  230 trials in 0 min 10 sec"
     ]
    },
    {
     "name": "stdout",
     "output_type": "stream",
     "text": [
      "\n"
     ]
    },
    {
     "name": "stdout",
     "output_type": "stream",
     "text": [
      "\tDEU,  7th phase (09Oct2020 - 20Oct2020): finished  224 trials in 0 min 10 sec"
     ]
    },
    {
     "name": "stdout",
     "output_type": "stream",
     "text": [
      "\n"
     ]
    },
    {
     "name": "stdout",
     "output_type": "stream",
     "text": [
      "\tPRT,  7th phase (13Oct2020 - 21Oct2020): finished  218 trials in 0 min 10 sec"
     ]
    },
    {
     "name": "stdout",
     "output_type": "stream",
     "text": [
      "\n"
     ]
    },
    {
     "name": "stdout",
     "output_type": "stream",
     "text": [
      "\tITA, 10th phase (12Nov2020 - 21Nov2020): finished  223 trials in 0 min 10 sec"
     ]
    },
    {
     "name": "stdout",
     "output_type": "stream",
     "text": [
      "\n"
     ]
    },
    {
     "name": "stdout",
     "output_type": "stream",
     "text": [
      "\tNOR,  2nd phase (06Apr2020 - 02May2020): finished  210 trials in 0 min 10 sec"
     ]
    },
    {
     "name": "stdout",
     "output_type": "stream",
     "text": [
      "\n"
     ]
    },
    {
     "name": "stdout",
     "output_type": "stream",
     "text": [
      "\tGBR,  3rd phase (28May2020 - 07Aug2020): finished  207 trials in 0 min 10 sec"
     ]
    },
    {
     "name": "stdout",
     "output_type": "stream",
     "text": [
      "\n"
     ]
    },
    {
     "name": "stdout",
     "output_type": "stream",
     "text": [
      "\tNOR,  1st phase (26Mar2020 - 05Apr2020): finished  227 trials in 0 min 10 sec"
     ]
    },
    {
     "name": "stdout",
     "output_type": "stream",
     "text": [
      "\n"
     ]
    },
    {
     "name": "stdout",
     "output_type": "stream",
     "text": [
      "\tCHE,  2nd phase (31Mar2020 - 14Apr2020): finished  222 trials in 0 min 10 sec"
     ]
    },
    {
     "name": "stdout",
     "output_type": "stream",
     "text": [
      "\n"
     ]
    },
    {
     "name": "stdout",
     "output_type": "stream",
     "text": [
      "\tROU,  9th phase (05Nov2020 - 11Nov2020): finished  220 trials in 0 min 10 sec"
     ]
    },
    {
     "name": "stdout",
     "output_type": "stream",
     "text": [
      "\n"
     ]
    },
    {
     "name": "stdout",
     "output_type": "stream",
     "text": [
      "\tCHE, 14th phase (01Dec2020 - 10Dec2020): finished  223 trials in 0 min 10 sec"
     ]
    },
    {
     "name": "stdout",
     "output_type": "stream",
     "text": [
      "\n"
     ]
    },
    {
     "name": "stdout",
     "output_type": "stream",
     "text": [
      "\tFIN,  4th phase (27May2020 - 20Aug2020): finished  212 trials in 0 min 10 sec"
     ]
    },
    {
     "name": "stdout",
     "output_type": "stream",
     "text": [
      "\n"
     ]
    },
    {
     "name": "stdout",
     "output_type": "stream",
     "text": [
      "\tPRT,  2nd phase (24Apr2020 - 05Jun2020): finished  232 trials in 0 min 10 sec"
     ]
    },
    {
     "name": "stdout",
     "output_type": "stream",
     "text": [
      "\n"
     ]
    },
    {
     "name": "stdout",
     "output_type": "stream",
     "text": [
      "\tCHE, 16th phase (21Dec2020 - 05Jan2021): finished  232 trials in 0 min 10 sec"
     ]
    },
    {
     "name": "stdout",
     "output_type": "stream",
     "text": [
      "\n"
     ]
    },
    {
     "name": "stdout",
     "output_type": "stream",
     "text": [
      "\tNOR,  6th phase (20Sep2020 - 05Oct2020): finished  254 trials in 0 min 10 sec"
     ]
    },
    {
     "name": "stdout",
     "output_type": "stream",
     "text": [
      "\n"
     ]
    },
    {
     "name": "stdout",
     "output_type": "stream",
     "text": [
      "\tROU, 16th phase (24Dec2020 - 05Jan2021): finished  281 trials in 0 min 10 sec"
     ]
    },
    {
     "name": "stdout",
     "output_type": "stream",
     "text": [
      "\n"
     ]
    },
    {
     "name": "stdout",
     "output_type": "stream",
     "text": [
      "\tPRT, 12th phase (26Nov2020 - 02Dec2020): finished  289 trials in 0 min 10 sec"
     ]
    },
    {
     "name": "stdout",
     "output_type": "stream",
     "text": [
      "\n"
     ]
    },
    {
     "name": "stdout",
     "output_type": "stream",
     "text": [
      "\tCAN, 16th phase (28Dec2020 - 05Jan2021): finished  276 trials in 0 min 10 sec"
     ]
    },
    {
     "name": "stdout",
     "output_type": "stream",
     "text": [
      "\n"
     ]
    },
    {
     "name": "stdout",
     "output_type": "stream",
     "text": [
      "\tPRT,  8th phase (22Oct2020 - 28Oct2020): finished  302 trials in 0 min 10 sec"
     ]
    },
    {
     "name": "stdout",
     "output_type": "stream",
     "text": [
      "\n"
     ]
    },
    {
     "name": "stdout",
     "output_type": "stream",
     "text": [
      "\tCAN,  0th phase (27Feb2020 - 11Apr2020): finished  249 trials in 0 min 10 sec"
     ]
    },
    {
     "name": "stdout",
     "output_type": "stream",
     "text": [
      "\n"
     ]
    },
    {
     "name": "stdout",
     "output_type": "stream",
     "text": [
      "\tNOR, 16th phase (22Dec2020 - 28Dec2020): finished  268 trials in 0 min 10 sec"
     ]
    },
    {
     "name": "stdout",
     "output_type": "stream",
     "text": [
      "\n"
     ]
    },
    {
     "name": "stdout",
     "output_type": "stream",
     "text": [
      "\tCAN,  3rd phase (26May2020 - 19Jul2020): finished  246 trials in 0 min 10 sec"
     ]
    },
    {
     "name": "stdout",
     "output_type": "stream",
     "text": [
      "\n"
     ]
    },
    {
     "name": "stdout",
     "output_type": "stream",
     "text": [
      "\tCAN,  1st phase (12Apr2020 - 01May2020): finished  240 trials in 0 min 10 sec"
     ]
    },
    {
     "name": "stdout",
     "output_type": "stream",
     "text": [
      "\n"
     ]
    },
    {
     "name": "stdout",
     "output_type": "stream",
     "text": [
      "\tROU, 15th phase (16Dec2020 - 23Dec2020): finished  257 trials in 0 min 10 sec"
     ]
    },
    {
     "name": "stdout",
     "output_type": "stream",
     "text": [
      "\n"
     ]
    },
    {
     "name": "stdout",
     "output_type": "stream",
     "text": [
      "\tPRT, 11th phase (15Nov2020 - 25Nov2020): finished  261 trials in 0 min 10 sec"
     ]
    },
    {
     "name": "stdout",
     "output_type": "stream",
     "text": [
      "\n"
     ]
    },
    {
     "name": "stdout",
     "output_type": "stream",
     "text": [
      "\tPRT, 13th phase (03Dec2020 - 09Dec2020): finished  260 trials in 0 min 10 sec"
     ]
    },
    {
     "name": "stdout",
     "output_type": "stream",
     "text": [
      "\n"
     ]
    },
    {
     "name": "stdout",
     "output_type": "stream",
     "text": [
      "\tCHE,  6th phase (15Sep2020 - 05Oct2020): finished  254 trials in 0 min 10 sec"
     ]
    },
    {
     "name": "stdout",
     "output_type": "stream",
     "text": [
      "\n"
     ]
    },
    {
     "name": "stdout",
     "output_type": "stream",
     "text": [
      "\tCAN,  6th phase (29Sep2020 - 11Oct2020): finished  267 trials in 0 min 10 sec"
     ]
    },
    {
     "name": "stdout",
     "output_type": "stream",
     "text": [
      "\n"
     ]
    },
    {
     "name": "stdout",
     "output_type": "stream",
     "text": [
      "\tBEL,  2nd phase (14Apr2020 - 09May2020): finished  274 trials in 0 min 10 sec"
     ]
    },
    {
     "name": "stdout",
     "output_type": "stream",
     "text": [
      "\n"
     ]
    },
    {
     "name": "stdout",
     "output_type": "stream",
     "text": [
      "\tROU, 10th phase (12Nov2020 - 17Nov2020): finished  283 trials in 0 min 10 sec"
     ]
    },
    {
     "name": "stdout",
     "output_type": "stream",
     "text": [
      "\n"
     ]
    },
    {
     "name": "stdout",
     "output_type": "stream",
     "text": [
      "\tNOR, 10th phase (04Nov2020 - 09Nov2020): finished  292 trials in 0 min 10 sec"
     ]
    },
    {
     "name": "stdout",
     "output_type": "stream",
     "text": [
      "\n"
     ]
    },
    {
     "name": "stdout",
     "output_type": "stream",
     "text": [
      "\tBEL,  5th phase (13Sep2020 - 28Sep2020): finished  282 trials in 0 min 10 sec"
     ]
    },
    {
     "name": "stdout",
     "output_type": "stream",
     "text": [
      "\n"
     ]
    },
    {
     "name": "stdout",
     "output_type": "stream",
     "text": [
      "\tNLD, 15th phase (12Dec2020 - 17Dec2020): finished  282 trials in 0 min 10 sec"
     ]
    },
    {
     "name": "stdout",
     "output_type": "stream",
     "text": [
      "\n"
     ]
    },
    {
     "name": "stdout",
     "output_type": "stream",
     "text": [
      "\tNOR, 13th phase (30Nov2020 - 07Dec2020): finished  286 trials in 0 min 10 sec"
     ]
    },
    {
     "name": "stdout",
     "output_type": "stream",
     "text": [
      "\n"
     ]
    },
    {
     "name": "stdout",
     "output_type": "stream",
     "text": [
      "\tGBR,  8th phase (21Oct2020 - 27Oct2020): finished  266 trials in 0 min 10 sec"
     ]
    },
    {
     "name": "stdout",
     "output_type": "stream",
     "text": [
      "\n"
     ]
    },
    {
     "name": "stdout",
     "output_type": "stream",
     "text": [
      "\tFIN,  6th phase (23Sep2020 - 07Oct2020): finished  251 trials in 0 min 10 sec"
     ]
    },
    {
     "name": "stdout",
     "output_type": "stream",
     "text": [
      "\n"
     ]
    },
    {
     "name": "stdout",
     "output_type": "stream",
     "text": [
      "\tGBR, 17th phase (26Dec2020 - 05Jan2021): finished  247 trials in 0 min 10 sec"
     ]
    },
    {
     "name": "stdout",
     "output_type": "stream",
     "text": [
      "\n"
     ]
    },
    {
     "name": "stdout",
     "output_type": "stream",
     "text": [
      "\tNLD,  3rd phase (11Aug2020 - 13Sep2020): finished  228 trials in 0 min 10 sec"
     ]
    },
    {
     "name": "stdout",
     "output_type": "stream",
     "text": [
      "\n"
     ]
    },
    {
     "name": "stdout",
     "output_type": "stream",
     "text": [
      "\tITA,  2nd phase (01Apr2020 - 16Apr2020): finished  232 trials in 0 min 10 sec"
     ]
    },
    {
     "name": "stdout",
     "output_type": "stream",
     "text": [
      "\n"
     ]
    },
    {
     "name": "stdout",
     "output_type": "stream",
     "text": [
      "\tNOR,  7th phase (06Oct2020 - 20Oct2020): finished  298 trials in 0 min 10 sec"
     ]
    },
    {
     "name": "stdout",
     "output_type": "stream",
     "text": [
      "\n"
     ]
    },
    {
     "name": "stdout",
     "output_type": "stream",
     "text": [
      "\tCAN,  8th phase (25Oct2020 - 04Nov2020): finished  304 trials in 0 min 10 sec"
     ]
    },
    {
     "name": "stdout",
     "output_type": "stream",
     "text": [
      "\n"
     ]
    },
    {
     "name": "stdout",
     "output_type": "stream",
     "text": [
      "\tPRT,  1st phase (04Apr2020 - 23Apr2020): finished  277 trials in 0 min 10 sec"
     ]
    },
    {
     "name": "stdout",
     "output_type": "stream",
     "text": [
      "\n"
     ]
    },
    {
     "name": "stdout",
     "output_type": "stream",
     "text": [
      "\tCHE, 11th phase (09Nov2020 - 14Nov2020): finished  323 trials in 0 min 10 sec"
     ]
    },
    {
     "name": "stdout",
     "output_type": "stream",
     "text": [
      "\n"
     ]
    },
    {
     "name": "stdout",
     "output_type": "stream",
     "text": [
      "\tROU, 11th phase (18Nov2020 - 24Nov2020): finished  309 trials in 0 min 10 sec"
     ]
    },
    {
     "name": "stdout",
     "output_type": "stream",
     "text": [
      "\n"
     ]
    },
    {
     "name": "stdout",
     "output_type": "stream",
     "text": [
      "\tCAN,  2nd phase (02May2020 - 25May2020): finished  298 trials in 0 min 10 sec"
     ]
    },
    {
     "name": "stdout",
     "output_type": "stream",
     "text": [
      "\n"
     ]
    },
    {
     "name": "stdout",
     "output_type": "stream",
     "text": [
      "\tPRT, 17th phase (30Dec2020 - 05Jan2021): finished  289 trials in 0 min 10 sec"
     ]
    },
    {
     "name": "stdout",
     "output_type": "stream",
     "text": [
      "\n"
     ]
    },
    {
     "name": "stdout",
     "output_type": "stream",
     "text": [
      "\tGBR,  2nd phase (01May2020 - 27May2020): finished  288 trials in 0 min 10 sec"
     ]
    },
    {
     "name": "stdout",
     "output_type": "stream",
     "text": [
      "\n"
     ]
    },
    {
     "name": "stdout",
     "output_type": "stream",
     "text": [
      "\tNOR, 12th phase (23Nov2020 - 29Nov2020): finished  297 trials in 0 min 10 sec"
     ]
    },
    {
     "name": "stdout",
     "output_type": "stream",
     "text": [
      "\n"
     ]
    },
    {
     "name": "stdout",
     "output_type": "stream",
     "text": [
      "\tNLD,  1st phase (08Apr2020 - 01May2020): finished  327 trials in 0 min 10 sec"
     ]
    },
    {
     "name": "stdout",
     "output_type": "stream",
     "text": [
      "\n"
     ]
    },
    {
     "name": "stdout",
     "output_type": "stream",
     "text": [
      "\tGBR, 16th phase (16Dec2020 - 25Dec2020): finished  336 trials in 0 min 10 sec"
     ]
    },
    {
     "name": "stdout",
     "output_type": "stream",
     "text": [
      "\n"
     ]
    },
    {
     "name": "stdout",
     "output_type": "stream",
     "text": [
      "\tDEU,  0th phase (18Jan2020 - 22Mar2020): finished  323 trials in 0 min 10 sec"
     ]
    },
    {
     "name": "stdout",
     "output_type": "stream",
     "text": [
      "\n"
     ]
    },
    {
     "name": "stdout",
     "output_type": "stream",
     "text": [
      "\tCAN, 11th phase (22Nov2020 - 28Nov2020): finished  272 trials in 0 min 10 sec"
     ]
    },
    {
     "name": "stdout",
     "output_type": "stream",
     "text": [
      "\n"
     ]
    },
    {
     "name": "stdout",
     "output_type": "stream",
     "text": [
      "\tNLD, 11th phase (12Nov2020 - 19Nov2020): finished  270 trials in 0 min 10 sec"
     ]
    },
    {
     "name": "stdout",
     "output_type": "stream",
     "text": [
      "\n"
     ]
    },
    {
     "name": "stdout",
     "output_type": "stream",
     "text": [
      "\tPRT,  4th phase (10Jul2020 - 31Aug2020): finished  260 trials in 0 min 10 sec"
     ]
    },
    {
     "name": "stdout",
     "output_type": "stream",
     "text": [
      "\n"
     ]
    },
    {
     "name": "stdout",
     "output_type": "stream",
     "text": [
      "\tPRT, 16th phase (23Dec2020 - 29Dec2020): finished  265 trials in 0 min 10 sec"
     ]
    },
    {
     "name": "stdout",
     "output_type": "stream",
     "text": [
      "\n"
     ]
    },
    {
     "name": "stdout",
     "output_type": "stream",
     "text": [
      "\tDEU,  5th phase (16Aug2020 - 16Sep2020): finished  257 trials in 0 min 10 sec"
     ]
    },
    {
     "name": "stdout",
     "output_type": "stream",
     "text": [
      "\n"
     ]
    },
    {
     "name": "stdout",
     "output_type": "stream",
     "text": [
      "\tBEL,  7th phase (08Oct2020 - 13Oct2020): finished  254 trials in 0 min 10 sec"
     ]
    },
    {
     "name": "stdout",
     "output_type": "stream",
     "text": [
      "\n"
     ]
    },
    {
     "name": "stdout",
     "output_type": "stream",
     "text": [
      "\tBEL, 16th phase (20Dec2020 - 05Jan2021): finished  307 trials in 0 min 10 sec"
     ]
    },
    {
     "name": "stdout",
     "output_type": "stream",
     "text": [
      "\n"
     ]
    },
    {
     "name": "stdout",
     "output_type": "stream",
     "text": [
      "\tFIN, 13th phase (02Dec2020 - 08Dec2020): finished  312 trials in 0 min 10 sec"
     ]
    },
    {
     "name": "stdout",
     "output_type": "stream",
     "text": [
      "\n"
     ]
    },
    {
     "name": "stdout",
     "output_type": "stream",
     "text": [
      "\tDEU,  6th phase (17Sep2020 - 08Oct2020): finished  301 trials in 0 min 10 sec"
     ]
    },
    {
     "name": "stdout",
     "output_type": "stream",
     "text": [
      "\n"
     ]
    },
    {
     "name": "stdout",
     "output_type": "stream",
     "text": [
      "Completed optimization. Total: 7 min 52 sec\n"
     ]
    }
   ],
   "source": [
    "# Parameter estimation with SIR-F model\n",
    "analyser.estimate(cs.SIRF, timeout=10)"
   ]
  },
  {
   "cell_type": "code",
   "execution_count": 12,
   "metadata": {
    "collapsed": false
   },
   "outputs": [
    {
     "data": {
      "text/html": [
       "<div>\n",
       "<style scoped>\n",
       "    .dataframe tbody tr th:only-of-type {\n",
       "        vertical-align: middle;\n",
       "    }\n",
       "\n",
       "    .dataframe tbody tr th {\n",
       "        vertical-align: top;\n",
       "    }\n",
       "\n",
       "    .dataframe thead th {\n",
       "        text-align: right;\n",
       "    }\n",
       "</style>\n",
       "<table border=\"1\" class=\"dataframe\">\n",
       "  <thead>\n",
       "    <tr style=\"text-align: right;\">\n",
       "      <th></th>\n",
       "      <th></th>\n",
       "      <th>Type</th>\n",
       "      <th>Start</th>\n",
       "      <th>End</th>\n",
       "      <th>Population</th>\n",
       "      <th>ODE</th>\n",
       "      <th>Rt</th>\n",
       "      <th>theta</th>\n",
       "      <th>kappa</th>\n",
       "      <th>rho</th>\n",
       "      <th>sigma</th>\n",
       "      <th>tau</th>\n",
       "      <th>1/gamma [day]</th>\n",
       "      <th>1/beta [day]</th>\n",
       "      <th>alpha1 [-]</th>\n",
       "      <th>1/alpha2 [day]</th>\n",
       "      <th>RMSLE</th>\n",
       "      <th>Trials</th>\n",
       "      <th>Runtime</th>\n",
       "    </tr>\n",
       "    <tr>\n",
       "      <th>Country</th>\n",
       "      <th>Phase</th>\n",
       "      <th></th>\n",
       "      <th></th>\n",
       "      <th></th>\n",
       "      <th></th>\n",
       "      <th></th>\n",
       "      <th></th>\n",
       "      <th></th>\n",
       "      <th></th>\n",
       "      <th></th>\n",
       "      <th></th>\n",
       "      <th></th>\n",
       "      <th></th>\n",
       "      <th></th>\n",
       "      <th></th>\n",
       "      <th></th>\n",
       "      <th></th>\n",
       "      <th></th>\n",
       "      <th></th>\n",
       "    </tr>\n",
       "  </thead>\n",
       "  <tbody>\n",
       "    <tr>\n",
       "      <th rowspan=\"19\" valign=\"top\">Germany</th>\n",
       "      <th>0th</th>\n",
       "      <td>Past</td>\n",
       "      <td>18Jan2020</td>\n",
       "      <td>22Mar2020</td>\n",
       "      <td>82905782</td>\n",
       "      <td>SIR-F</td>\n",
       "      <td>17.14</td>\n",
       "      <td>0.00234372</td>\n",
       "      <td>9.82318e-05</td>\n",
       "      <td>0.0168964</td>\n",
       "      <td>0.00088511</td>\n",
       "      <td>360</td>\n",
       "      <td>282</td>\n",
       "      <td>14</td>\n",
       "      <td>0.002</td>\n",
       "      <td>2545</td>\n",
       "      <td>1.58118</td>\n",
       "      <td>323</td>\n",
       "      <td>0 min 10 sec</td>\n",
       "    </tr>\n",
       "    <tr>\n",
       "      <th>1st</th>\n",
       "      <td>Past</td>\n",
       "      <td>23Mar2020</td>\n",
       "      <td>02Apr2020</td>\n",
       "      <td>82905782</td>\n",
       "      <td>SIR-F</td>\n",
       "      <td>7.24</td>\n",
       "      <td>0.0197</td>\n",
       "      <td>0.000753584</td>\n",
       "      <td>0.0279618</td>\n",
       "      <td>0.00303066</td>\n",
       "      <td>360</td>\n",
       "      <td>82</td>\n",
       "      <td>8</td>\n",
       "      <td>0.02</td>\n",
       "      <td>331</td>\n",
       "      <td>0.154551</td>\n",
       "      <td>248</td>\n",
       "      <td>0 min 10 sec</td>\n",
       "    </tr>\n",
       "    <tr>\n",
       "      <th>2nd</th>\n",
       "      <td>Past</td>\n",
       "      <td>03Apr2020</td>\n",
       "      <td>20Apr2020</td>\n",
       "      <td>82905782</td>\n",
       "      <td>SIR-F</td>\n",
       "      <td>0.6</td>\n",
       "      <td>0.03889</td>\n",
       "      <td>0.000481933</td>\n",
       "      <td>0.0122493</td>\n",
       "      <td>0.0191979</td>\n",
       "      <td>360</td>\n",
       "      <td>13</td>\n",
       "      <td>20</td>\n",
       "      <td>0.039</td>\n",
       "      <td>518</td>\n",
       "      <td>0.149001</td>\n",
       "      <td>268</td>\n",
       "      <td>0 min 10 sec</td>\n",
       "    </tr>\n",
       "    <tr>\n",
       "      <th>3rd</th>\n",
       "      <td>Past</td>\n",
       "      <td>21Apr2020</td>\n",
       "      <td>16Jun2020</td>\n",
       "      <td>82905782</td>\n",
       "      <td>SIR-F</td>\n",
       "      <td>0.51</td>\n",
       "      <td>0.0349266</td>\n",
       "      <td>6.96983e-05</td>\n",
       "      <td>0.0115059</td>\n",
       "      <td>0.0218809</td>\n",
       "      <td>360</td>\n",
       "      <td>11</td>\n",
       "      <td>21</td>\n",
       "      <td>0.035</td>\n",
       "      <td>3586</td>\n",
       "      <td>0.081364</td>\n",
       "      <td>350</td>\n",
       "      <td>0 min 10 sec</td>\n",
       "    </tr>\n",
       "    <tr>\n",
       "      <th>4th</th>\n",
       "      <td>Past</td>\n",
       "      <td>17Jun2020</td>\n",
       "      <td>15Aug2020</td>\n",
       "      <td>82905782</td>\n",
       "      <td>SIR-F</td>\n",
       "      <td>1.19</td>\n",
       "      <td>0.00329531</td>\n",
       "      <td>5.9472e-05</td>\n",
       "      <td>0.0170967</td>\n",
       "      <td>0.0142304</td>\n",
       "      <td>360</td>\n",
       "      <td>17</td>\n",
       "      <td>14</td>\n",
       "      <td>0.003</td>\n",
       "      <td>4203</td>\n",
       "      <td>0.112908</td>\n",
       "      <td>272</td>\n",
       "      <td>0 min 10 sec</td>\n",
       "    </tr>\n",
       "    <tr>\n",
       "      <th>5th</th>\n",
       "      <td>Past</td>\n",
       "      <td>16Aug2020</td>\n",
       "      <td>16Sep2020</td>\n",
       "      <td>82905782</td>\n",
       "      <td>SIR-F</td>\n",
       "      <td>1.31</td>\n",
       "      <td>0.00156721</td>\n",
       "      <td>0.000191478</td>\n",
       "      <td>0.0163103</td>\n",
       "      <td>0.0122371</td>\n",
       "      <td>360</td>\n",
       "      <td>20</td>\n",
       "      <td>15</td>\n",
       "      <td>0.002</td>\n",
       "      <td>1305</td>\n",
       "      <td>0.0643981</td>\n",
       "      <td>257</td>\n",
       "      <td>0 min 10 sec</td>\n",
       "    </tr>\n",
       "    <tr>\n",
       "      <th>6th</th>\n",
       "      <td>Past</td>\n",
       "      <td>17Sep2020</td>\n",
       "      <td>08Oct2020</td>\n",
       "      <td>82905782</td>\n",
       "      <td>SIR-F</td>\n",
       "      <td>1.32</td>\n",
       "      <td>0.000501427</td>\n",
       "      <td>9.63532e-05</td>\n",
       "      <td>0.0183873</td>\n",
       "      <td>0.0138017</td>\n",
       "      <td>360</td>\n",
       "      <td>18</td>\n",
       "      <td>13</td>\n",
       "      <td>0.001</td>\n",
       "      <td>2594</td>\n",
       "      <td>0.0290678</td>\n",
       "      <td>301</td>\n",
       "      <td>0 min 10 sec</td>\n",
       "    </tr>\n",
       "    <tr>\n",
       "      <th>7th</th>\n",
       "      <td>Past</td>\n",
       "      <td>09Oct2020</td>\n",
       "      <td>20Oct2020</td>\n",
       "      <td>82905782</td>\n",
       "      <td>SIR-F</td>\n",
       "      <td>3.13</td>\n",
       "      <td>0.000676492</td>\n",
       "      <td>6.74045e-05</td>\n",
       "      <td>0.0257689</td>\n",
       "      <td>0.0081607</td>\n",
       "      <td>360</td>\n",
       "      <td>30</td>\n",
       "      <td>9</td>\n",
       "      <td>0.001</td>\n",
       "      <td>3708</td>\n",
       "      <td>0.0650377</td>\n",
       "      <td>224</td>\n",
       "      <td>0 min 10 sec</td>\n",
       "    </tr>\n",
       "    <tr>\n",
       "      <th>8th</th>\n",
       "      <td>Past</td>\n",
       "      <td>21Oct2020</td>\n",
       "      <td>27Oct2020</td>\n",
       "      <td>82905782</td>\n",
       "      <td>-</td>\n",
       "      <td>-</td>\n",
       "      <td>-</td>\n",
       "      <td>-</td>\n",
       "      <td>-</td>\n",
       "      <td>-</td>\n",
       "      <td>-</td>\n",
       "      <td>-</td>\n",
       "      <td>-</td>\n",
       "      <td>-</td>\n",
       "      <td>-</td>\n",
       "      <td>-</td>\n",
       "      <td>-</td>\n",
       "      <td>-</td>\n",
       "    </tr>\n",
       "    <tr>\n",
       "      <th>9th</th>\n",
       "      <td>Past</td>\n",
       "      <td>28Oct2020</td>\n",
       "      <td>03Nov2020</td>\n",
       "      <td>82905782</td>\n",
       "      <td>-</td>\n",
       "      <td>-</td>\n",
       "      <td>-</td>\n",
       "      <td>-</td>\n",
       "      <td>-</td>\n",
       "      <td>-</td>\n",
       "      <td>-</td>\n",
       "      <td>-</td>\n",
       "      <td>-</td>\n",
       "      <td>-</td>\n",
       "      <td>-</td>\n",
       "      <td>-</td>\n",
       "      <td>-</td>\n",
       "      <td>-</td>\n",
       "    </tr>\n",
       "    <tr>\n",
       "      <th>10th</th>\n",
       "      <td>Past</td>\n",
       "      <td>04Nov2020</td>\n",
       "      <td>10Nov2020</td>\n",
       "      <td>82905782</td>\n",
       "      <td>-</td>\n",
       "      <td>-</td>\n",
       "      <td>-</td>\n",
       "      <td>-</td>\n",
       "      <td>-</td>\n",
       "      <td>-</td>\n",
       "      <td>-</td>\n",
       "      <td>-</td>\n",
       "      <td>-</td>\n",
       "      <td>-</td>\n",
       "      <td>-</td>\n",
       "      <td>-</td>\n",
       "      <td>-</td>\n",
       "      <td>-</td>\n",
       "    </tr>\n",
       "    <tr>\n",
       "      <th>11th</th>\n",
       "      <td>Past</td>\n",
       "      <td>11Nov2020</td>\n",
       "      <td>17Nov2020</td>\n",
       "      <td>82905782</td>\n",
       "      <td>-</td>\n",
       "      <td>-</td>\n",
       "      <td>-</td>\n",
       "      <td>-</td>\n",
       "      <td>-</td>\n",
       "      <td>-</td>\n",
       "      <td>-</td>\n",
       "      <td>-</td>\n",
       "      <td>-</td>\n",
       "      <td>-</td>\n",
       "      <td>-</td>\n",
       "      <td>-</td>\n",
       "      <td>-</td>\n",
       "      <td>-</td>\n",
       "    </tr>\n",
       "    <tr>\n",
       "      <th>12th</th>\n",
       "      <td>Past</td>\n",
       "      <td>18Nov2020</td>\n",
       "      <td>24Nov2020</td>\n",
       "      <td>82905782</td>\n",
       "      <td>-</td>\n",
       "      <td>-</td>\n",
       "      <td>-</td>\n",
       "      <td>-</td>\n",
       "      <td>-</td>\n",
       "      <td>-</td>\n",
       "      <td>-</td>\n",
       "      <td>-</td>\n",
       "      <td>-</td>\n",
       "      <td>-</td>\n",
       "      <td>-</td>\n",
       "      <td>-</td>\n",
       "      <td>-</td>\n",
       "      <td>-</td>\n",
       "    </tr>\n",
       "    <tr>\n",
       "      <th>13th</th>\n",
       "      <td>Past</td>\n",
       "      <td>25Nov2020</td>\n",
       "      <td>01Dec2020</td>\n",
       "      <td>82905782</td>\n",
       "      <td>SIR-F</td>\n",
       "      <td>0.91</td>\n",
       "      <td>0.0159733</td>\n",
       "      <td>0.000287581</td>\n",
       "      <td>0.0146726</td>\n",
       "      <td>0.0156356</td>\n",
       "      <td>360</td>\n",
       "      <td>15</td>\n",
       "      <td>17</td>\n",
       "      <td>0.016</td>\n",
       "      <td>869</td>\n",
       "      <td>0.0253387</td>\n",
       "      <td>302</td>\n",
       "      <td>0 min 10 sec</td>\n",
       "    </tr>\n",
       "    <tr>\n",
       "      <th>14th</th>\n",
       "      <td>Past</td>\n",
       "      <td>02Dec2020</td>\n",
       "      <td>08Dec2020</td>\n",
       "      <td>82905782</td>\n",
       "      <td>-</td>\n",
       "      <td>-</td>\n",
       "      <td>-</td>\n",
       "      <td>-</td>\n",
       "      <td>-</td>\n",
       "      <td>-</td>\n",
       "      <td>-</td>\n",
       "      <td>-</td>\n",
       "      <td>-</td>\n",
       "      <td>-</td>\n",
       "      <td>-</td>\n",
       "      <td>-</td>\n",
       "      <td>-</td>\n",
       "      <td>-</td>\n",
       "    </tr>\n",
       "    <tr>\n",
       "      <th>15th</th>\n",
       "      <td>Past</td>\n",
       "      <td>09Dec2020</td>\n",
       "      <td>15Dec2020</td>\n",
       "      <td>82905782</td>\n",
       "      <td>-</td>\n",
       "      <td>-</td>\n",
       "      <td>-</td>\n",
       "      <td>-</td>\n",
       "      <td>-</td>\n",
       "      <td>-</td>\n",
       "      <td>-</td>\n",
       "      <td>-</td>\n",
       "      <td>-</td>\n",
       "      <td>-</td>\n",
       "      <td>-</td>\n",
       "      <td>-</td>\n",
       "      <td>-</td>\n",
       "      <td>-</td>\n",
       "    </tr>\n",
       "    <tr>\n",
       "      <th>16th</th>\n",
       "      <td>Past</td>\n",
       "      <td>16Dec2020</td>\n",
       "      <td>21Dec2020</td>\n",
       "      <td>82905782</td>\n",
       "      <td>SIR-F</td>\n",
       "      <td>1.13</td>\n",
       "      <td>0.000182781</td>\n",
       "      <td>0.000228665</td>\n",
       "      <td>0.0170442</td>\n",
       "      <td>0.0148243</td>\n",
       "      <td>360</td>\n",
       "      <td>16</td>\n",
       "      <td>14</td>\n",
       "      <td>0</td>\n",
       "      <td>1093</td>\n",
       "      <td>0.0244156</td>\n",
       "      <td>351</td>\n",
       "      <td>0 min 10 sec</td>\n",
       "    </tr>\n",
       "    <tr>\n",
       "      <th>17th</th>\n",
       "      <td>Past</td>\n",
       "      <td>22Dec2020</td>\n",
       "      <td>28Dec2020</td>\n",
       "      <td>82905782</td>\n",
       "      <td>-</td>\n",
       "      <td>-</td>\n",
       "      <td>-</td>\n",
       "      <td>-</td>\n",
       "      <td>-</td>\n",
       "      <td>-</td>\n",
       "      <td>-</td>\n",
       "      <td>-</td>\n",
       "      <td>-</td>\n",
       "      <td>-</td>\n",
       "      <td>-</td>\n",
       "      <td>-</td>\n",
       "      <td>-</td>\n",
       "      <td>-</td>\n",
       "    </tr>\n",
       "    <tr>\n",
       "      <th>18th</th>\n",
       "      <td>Past</td>\n",
       "      <td>29Dec2020</td>\n",
       "      <td>05Jan2021</td>\n",
       "      <td>82905782</td>\n",
       "      <td>-</td>\n",
       "      <td>-</td>\n",
       "      <td>-</td>\n",
       "      <td>-</td>\n",
       "      <td>-</td>\n",
       "      <td>-</td>\n",
       "      <td>-</td>\n",
       "      <td>-</td>\n",
       "      <td>-</td>\n",
       "      <td>-</td>\n",
       "      <td>-</td>\n",
       "      <td>-</td>\n",
       "      <td>-</td>\n",
       "      <td>-</td>\n",
       "    </tr>\n",
       "  </tbody>\n",
       "</table>\n",
       "</div>"
      ],
      "text/plain": [
       "               Type      Start        End  Population    ODE     Rt  \\\n",
       "Country Phase                                                         \n",
       "Germany 0th    Past  18Jan2020  22Mar2020    82905782  SIR-F  17.14   \n",
       "        1st    Past  23Mar2020  02Apr2020    82905782  SIR-F   7.24   \n",
       "        2nd    Past  03Apr2020  20Apr2020    82905782  SIR-F    0.6   \n",
       "        3rd    Past  21Apr2020  16Jun2020    82905782  SIR-F   0.51   \n",
       "        4th    Past  17Jun2020  15Aug2020    82905782  SIR-F   1.19   \n",
       "        5th    Past  16Aug2020  16Sep2020    82905782  SIR-F   1.31   \n",
       "        6th    Past  17Sep2020  08Oct2020    82905782  SIR-F   1.32   \n",
       "        7th    Past  09Oct2020  20Oct2020    82905782  SIR-F   3.13   \n",
       "        8th    Past  21Oct2020  27Oct2020    82905782      -      -   \n",
       "        9th    Past  28Oct2020  03Nov2020    82905782      -      -   \n",
       "        10th   Past  04Nov2020  10Nov2020    82905782      -      -   \n",
       "        11th   Past  11Nov2020  17Nov2020    82905782      -      -   \n",
       "        12th   Past  18Nov2020  24Nov2020    82905782      -      -   \n",
       "        13th   Past  25Nov2020  01Dec2020    82905782  SIR-F   0.91   \n",
       "        14th   Past  02Dec2020  08Dec2020    82905782      -      -   \n",
       "        15th   Past  09Dec2020  15Dec2020    82905782      -      -   \n",
       "        16th   Past  16Dec2020  21Dec2020    82905782  SIR-F   1.13   \n",
       "        17th   Past  22Dec2020  28Dec2020    82905782      -      -   \n",
       "        18th   Past  29Dec2020  05Jan2021    82905782      -      -   \n",
       "\n",
       "                     theta        kappa        rho       sigma  tau  \\\n",
       "Country Phase                                                         \n",
       "Germany 0th     0.00234372  9.82318e-05  0.0168964  0.00088511  360   \n",
       "        1st         0.0197  0.000753584  0.0279618  0.00303066  360   \n",
       "        2nd        0.03889  0.000481933  0.0122493   0.0191979  360   \n",
       "        3rd      0.0349266  6.96983e-05  0.0115059   0.0218809  360   \n",
       "        4th     0.00329531   5.9472e-05  0.0170967   0.0142304  360   \n",
       "        5th     0.00156721  0.000191478  0.0163103   0.0122371  360   \n",
       "        6th    0.000501427  9.63532e-05  0.0183873   0.0138017  360   \n",
       "        7th    0.000676492  6.74045e-05  0.0257689   0.0081607  360   \n",
       "        8th              -            -          -           -    -   \n",
       "        9th              -            -          -           -    -   \n",
       "        10th             -            -          -           -    -   \n",
       "        11th             -            -          -           -    -   \n",
       "        12th             -            -          -           -    -   \n",
       "        13th     0.0159733  0.000287581  0.0146726   0.0156356  360   \n",
       "        14th             -            -          -           -    -   \n",
       "        15th             -            -          -           -    -   \n",
       "        16th   0.000182781  0.000228665  0.0170442   0.0148243  360   \n",
       "        17th             -            -          -           -    -   \n",
       "        18th             -            -          -           -    -   \n",
       "\n",
       "              1/gamma [day] 1/beta [day] alpha1 [-] 1/alpha2 [day]      RMSLE  \\\n",
       "Country Phase                                                                   \n",
       "Germany 0th             282           14      0.002           2545    1.58118   \n",
       "        1st              82            8       0.02            331   0.154551   \n",
       "        2nd              13           20      0.039            518   0.149001   \n",
       "        3rd              11           21      0.035           3586   0.081364   \n",
       "        4th              17           14      0.003           4203   0.112908   \n",
       "        5th              20           15      0.002           1305  0.0643981   \n",
       "        6th              18           13      0.001           2594  0.0290678   \n",
       "        7th              30            9      0.001           3708  0.0650377   \n",
       "        8th               -            -          -              -          -   \n",
       "        9th               -            -          -              -          -   \n",
       "        10th              -            -          -              -          -   \n",
       "        11th              -            -          -              -          -   \n",
       "        12th              -            -          -              -          -   \n",
       "        13th             15           17      0.016            869  0.0253387   \n",
       "        14th              -            -          -              -          -   \n",
       "        15th              -            -          -              -          -   \n",
       "        16th             16           14          0           1093  0.0244156   \n",
       "        17th              -            -          -              -          -   \n",
       "        18th              -            -          -              -          -   \n",
       "\n",
       "              Trials       Runtime  \n",
       "Country Phase                       \n",
       "Germany 0th      323  0 min 10 sec  \n",
       "        1st      248  0 min 10 sec  \n",
       "        2nd      268  0 min 10 sec  \n",
       "        3rd      350  0 min 10 sec  \n",
       "        4th      272  0 min 10 sec  \n",
       "        5th      257  0 min 10 sec  \n",
       "        6th      301  0 min 10 sec  \n",
       "        7th      224  0 min 10 sec  \n",
       "        8th        -             -  \n",
       "        9th        -             -  \n",
       "        10th       -             -  \n",
       "        11th       -             -  \n",
       "        12th       -             -  \n",
       "        13th     302  0 min 10 sec  \n",
       "        14th       -             -  \n",
       "        15th       -             -  \n",
       "        16th     351  0 min 10 sec  \n",
       "        17th       -             -  \n",
       "        18th       -             -  "
      ]
     },
     "execution_count": 12,
     "metadata": {},
     "output_type": "execute_result"
    }
   ],
   "source": [
    "# Show summary\n",
    "analyser.summary(countries=countries_show)"
   ]
  },
  {
   "cell_type": "markdown",
   "metadata": {},
   "source": [
    "## Compare the history of parameters\n",
    "Here, compare the history of parameter values if countries."
   ]
  },
  {
   "cell_type": "code",
   "execution_count": 13,
   "metadata": {
    "collapsed": false
   },
   "outputs": [
    {
     "data": {
      "text/html": [
       "<div>\n",
       "<style scoped>\n",
       "    .dataframe tbody tr th:only-of-type {\n",
       "        vertical-align: middle;\n",
       "    }\n",
       "\n",
       "    .dataframe tbody tr th {\n",
       "        vertical-align: top;\n",
       "    }\n",
       "\n",
       "    .dataframe thead th {\n",
       "        text-align: right;\n",
       "    }\n",
       "</style>\n",
       "<table border=\"1\" class=\"dataframe\">\n",
       "  <thead>\n",
       "    <tr style=\"text-align: right;\">\n",
       "      <th></th>\n",
       "      <th>Date</th>\n",
       "      <th>Country</th>\n",
       "      <th>theta</th>\n",
       "      <th>kappa</th>\n",
       "      <th>rho</th>\n",
       "      <th>sigma</th>\n",
       "      <th>alpha1 [-]</th>\n",
       "      <th>1/alpha2 [day]</th>\n",
       "      <th>1/beta [day]</th>\n",
       "      <th>1/gamma [day]</th>\n",
       "      <th>...</th>\n",
       "      <th>Cancel_events</th>\n",
       "      <th>Gatherings_restrictions</th>\n",
       "      <th>Transport_closing</th>\n",
       "      <th>Stay_home_restrictions</th>\n",
       "      <th>Internal_movement_restrictions</th>\n",
       "      <th>International_movement_restrictions</th>\n",
       "      <th>Information_campaigns</th>\n",
       "      <th>Testing_policy</th>\n",
       "      <th>Contact_tracing</th>\n",
       "      <th>Stringency_index</th>\n",
       "    </tr>\n",
       "  </thead>\n",
       "  <tbody>\n",
       "    <tr>\n",
       "      <th>0</th>\n",
       "      <td>2020-03-04</td>\n",
       "      <td>Romania</td>\n",
       "      <td>0.0765361</td>\n",
       "      <td>0.000530831</td>\n",
       "      <td>0.0344765</td>\n",
       "      <td>0.00412027</td>\n",
       "      <td>0.077</td>\n",
       "      <td>470</td>\n",
       "      <td>7</td>\n",
       "      <td>60</td>\n",
       "      <td>...</td>\n",
       "      <td>0</td>\n",
       "      <td>0</td>\n",
       "      <td>0</td>\n",
       "      <td>0</td>\n",
       "      <td>0</td>\n",
       "      <td>2</td>\n",
       "      <td>2</td>\n",
       "      <td>0</td>\n",
       "      <td>0</td>\n",
       "      <td>16.67</td>\n",
       "    </tr>\n",
       "    <tr>\n",
       "      <th>1</th>\n",
       "      <td>2020-03-05</td>\n",
       "      <td>Romania</td>\n",
       "      <td>0.0765361</td>\n",
       "      <td>0.000530831</td>\n",
       "      <td>0.0344765</td>\n",
       "      <td>0.00412027</td>\n",
       "      <td>0.077</td>\n",
       "      <td>470</td>\n",
       "      <td>7</td>\n",
       "      <td>60</td>\n",
       "      <td>...</td>\n",
       "      <td>0</td>\n",
       "      <td>0</td>\n",
       "      <td>0</td>\n",
       "      <td>0</td>\n",
       "      <td>0</td>\n",
       "      <td>2</td>\n",
       "      <td>2</td>\n",
       "      <td>0</td>\n",
       "      <td>0</td>\n",
       "      <td>16.67</td>\n",
       "    </tr>\n",
       "    <tr>\n",
       "      <th>2</th>\n",
       "      <td>2020-03-06</td>\n",
       "      <td>Romania</td>\n",
       "      <td>0.0765361</td>\n",
       "      <td>0.000530831</td>\n",
       "      <td>0.0344765</td>\n",
       "      <td>0.00412027</td>\n",
       "      <td>0.077</td>\n",
       "      <td>470</td>\n",
       "      <td>7</td>\n",
       "      <td>60</td>\n",
       "      <td>...</td>\n",
       "      <td>0</td>\n",
       "      <td>0</td>\n",
       "      <td>0</td>\n",
       "      <td>0</td>\n",
       "      <td>0</td>\n",
       "      <td>2</td>\n",
       "      <td>2</td>\n",
       "      <td>0</td>\n",
       "      <td>0</td>\n",
       "      <td>16.67</td>\n",
       "    </tr>\n",
       "    <tr>\n",
       "      <th>3</th>\n",
       "      <td>2020-03-07</td>\n",
       "      <td>Romania</td>\n",
       "      <td>0.0765361</td>\n",
       "      <td>0.000530831</td>\n",
       "      <td>0.0344765</td>\n",
       "      <td>0.00412027</td>\n",
       "      <td>0.077</td>\n",
       "      <td>470</td>\n",
       "      <td>7</td>\n",
       "      <td>60</td>\n",
       "      <td>...</td>\n",
       "      <td>0</td>\n",
       "      <td>0</td>\n",
       "      <td>0</td>\n",
       "      <td>0</td>\n",
       "      <td>0</td>\n",
       "      <td>2</td>\n",
       "      <td>2</td>\n",
       "      <td>0</td>\n",
       "      <td>0</td>\n",
       "      <td>16.67</td>\n",
       "    </tr>\n",
       "    <tr>\n",
       "      <th>4</th>\n",
       "      <td>2020-03-08</td>\n",
       "      <td>Romania</td>\n",
       "      <td>0.0765361</td>\n",
       "      <td>0.000530831</td>\n",
       "      <td>0.0344765</td>\n",
       "      <td>0.00412027</td>\n",
       "      <td>0.077</td>\n",
       "      <td>470</td>\n",
       "      <td>7</td>\n",
       "      <td>60</td>\n",
       "      <td>...</td>\n",
       "      <td>2</td>\n",
       "      <td>1</td>\n",
       "      <td>0</td>\n",
       "      <td>0</td>\n",
       "      <td>0</td>\n",
       "      <td>2</td>\n",
       "      <td>2</td>\n",
       "      <td>0</td>\n",
       "      <td>0</td>\n",
       "      <td>30.56</td>\n",
       "    </tr>\n",
       "  </tbody>\n",
       "</table>\n",
       "<p>5 rows × 23 columns</p>\n",
       "</div>"
      ],
      "text/plain": [
       "        Date  Country      theta        kappa        rho       sigma  \\\n",
       "0 2020-03-04  Romania  0.0765361  0.000530831  0.0344765  0.00412027   \n",
       "1 2020-03-05  Romania  0.0765361  0.000530831  0.0344765  0.00412027   \n",
       "2 2020-03-06  Romania  0.0765361  0.000530831  0.0344765  0.00412027   \n",
       "3 2020-03-07  Romania  0.0765361  0.000530831  0.0344765  0.00412027   \n",
       "4 2020-03-08  Romania  0.0765361  0.000530831  0.0344765  0.00412027   \n",
       "\n",
       "  alpha1 [-] 1/alpha2 [day] 1/beta [day] 1/gamma [day]  ... Cancel_events  \\\n",
       "0      0.077            470            7            60  ...             0   \n",
       "1      0.077            470            7            60  ...             0   \n",
       "2      0.077            470            7            60  ...             0   \n",
       "3      0.077            470            7            60  ...             0   \n",
       "4      0.077            470            7            60  ...             2   \n",
       "\n",
       "   Gatherings_restrictions  Transport_closing  Stay_home_restrictions  \\\n",
       "0                        0                  0                       0   \n",
       "1                        0                  0                       0   \n",
       "2                        0                  0                       0   \n",
       "3                        0                  0                       0   \n",
       "4                        1                  0                       0   \n",
       "\n",
       "   Internal_movement_restrictions  International_movement_restrictions  \\\n",
       "0                               0                                    2   \n",
       "1                               0                                    2   \n",
       "2                               0                                    2   \n",
       "3                               0                                    2   \n",
       "4                               0                                    2   \n",
       "\n",
       "   Information_campaigns  Testing_policy  Contact_tracing  Stringency_index  \n",
       "0                      2               0                0             16.67  \n",
       "1                      2               0                0             16.67  \n",
       "2                      2               0                0             16.67  \n",
       "3                      2               0                0             16.67  \n",
       "4                      2               0                0             30.56  \n",
       "\n",
       "[5 rows x 23 columns]"
      ]
     },
     "execution_count": 13,
     "metadata": {},
     "output_type": "execute_result"
    }
   ],
   "source": [
    "# All parameter/day parameter/Rt/OxCGRT\n",
    "analyser.track().head()"
   ]
  },
  {
   "cell_type": "markdown",
   "metadata": {},
   "source": [
    "### $Rt$: Reprodcution number $\\mathrm{[-]}$"
   ]
  },
  {
   "cell_type": "code",
   "execution_count": 14,
   "metadata": {
    "collapsed": false
   },
   "outputs": [
    {
     "data": {
      "image/png": "[encoded data removed]",
      "text/plain": [
       "<Figure size 648x432 with 1 Axes>"
      ]
     },
     "metadata": {},
     "output_type": "display_data"
    },
    {
     "data": {
      "text/html": [
       "<div>\n",
       "<style scoped>\n",
       "    .dataframe tbody tr th:only-of-type {\n",
       "        vertical-align: middle;\n",
       "    }\n",
       "\n",
       "    .dataframe tbody tr th {\n",
       "        vertical-align: top;\n",
       "    }\n",
       "\n",
       "    .dataframe thead th {\n",
       "        text-align: right;\n",
       "    }\n",
       "</style>\n",
       "<table border=\"1\" class=\"dataframe\">\n",
       "  <thead>\n",
       "    <tr style=\"text-align: right;\">\n",
       "      <th>Country</th>\n",
       "      <th>Belgium</th>\n",
       "      <th>Canada</th>\n",
       "      <th>Finland</th>\n",
       "      <th>Germany</th>\n",
       "      <th>Italy</th>\n",
       "      <th>Netherlands</th>\n",
       "      <th>Norway</th>\n",
       "      <th>Portugal</th>\n",
       "      <th>Romania</th>\n",
       "      <th>Switzerland</th>\n",
       "      <th>United Kingdom</th>\n",
       "    </tr>\n",
       "    <tr>\n",
       "      <th>Date</th>\n",
       "      <th></th>\n",
       "      <th></th>\n",
       "      <th></th>\n",
       "      <th></th>\n",
       "      <th></th>\n",
       "      <th></th>\n",
       "      <th></th>\n",
       "      <th></th>\n",
       "      <th></th>\n",
       "      <th></th>\n",
       "      <th></th>\n",
       "    </tr>\n",
       "  </thead>\n",
       "  <tbody>\n",
       "    <tr>\n",
       "      <th>2021-01-01</th>\n",
       "      <td>1.77</td>\n",
       "      <td>0.94</td>\n",
       "      <td>0.64</td>\n",
       "      <td>1.13</td>\n",
       "      <td>0.8</td>\n",
       "      <td>1.7</td>\n",
       "      <td>1.18</td>\n",
       "      <td>2.45</td>\n",
       "      <td>0.66</td>\n",
       "      <td>13.19</td>\n",
       "      <td>2.24</td>\n",
       "    </tr>\n",
       "    <tr>\n",
       "      <th>2021-01-02</th>\n",
       "      <td>1.77</td>\n",
       "      <td>0.94</td>\n",
       "      <td>0.64</td>\n",
       "      <td>1.13</td>\n",
       "      <td>0.8</td>\n",
       "      <td>1.7</td>\n",
       "      <td>1.18</td>\n",
       "      <td>2.45</td>\n",
       "      <td>0.66</td>\n",
       "      <td>13.19</td>\n",
       "      <td>2.24</td>\n",
       "    </tr>\n",
       "    <tr>\n",
       "      <th>2021-01-03</th>\n",
       "      <td>1.77</td>\n",
       "      <td>0.94</td>\n",
       "      <td>0.64</td>\n",
       "      <td>1.13</td>\n",
       "      <td>0.8</td>\n",
       "      <td>1.7</td>\n",
       "      <td>1.18</td>\n",
       "      <td>2.45</td>\n",
       "      <td>0.66</td>\n",
       "      <td>13.19</td>\n",
       "      <td>2.24</td>\n",
       "    </tr>\n",
       "    <tr>\n",
       "      <th>2021-01-04</th>\n",
       "      <td>1.77</td>\n",
       "      <td>0.94</td>\n",
       "      <td>0.64</td>\n",
       "      <td>1.13</td>\n",
       "      <td>0.8</td>\n",
       "      <td>1.7</td>\n",
       "      <td>1.18</td>\n",
       "      <td>2.45</td>\n",
       "      <td>0.66</td>\n",
       "      <td>13.19</td>\n",
       "      <td>2.24</td>\n",
       "    </tr>\n",
       "    <tr>\n",
       "      <th>2021-01-05</th>\n",
       "      <td>1.77</td>\n",
       "      <td>0.94</td>\n",
       "      <td>0.64</td>\n",
       "      <td>1.13</td>\n",
       "      <td>0.8</td>\n",
       "      <td>1.7</td>\n",
       "      <td>1.18</td>\n",
       "      <td>2.45</td>\n",
       "      <td>0.66</td>\n",
       "      <td>13.19</td>\n",
       "      <td>2.24</td>\n",
       "    </tr>\n",
       "  </tbody>\n",
       "</table>\n",
       "</div>"
      ],
      "text/plain": [
       "Country     Belgium  Canada  Finland  Germany  Italy  Netherlands  Norway  \\\n",
       "Date                                                                        \n",
       "2021-01-01     1.77    0.94     0.64     1.13    0.8          1.7    1.18   \n",
       "2021-01-02     1.77    0.94     0.64     1.13    0.8          1.7    1.18   \n",
       "2021-01-03     1.77    0.94     0.64     1.13    0.8          1.7    1.18   \n",
       "2021-01-04     1.77    0.94     0.64     1.13    0.8          1.7    1.18   \n",
       "2021-01-05     1.77    0.94     0.64     1.13    0.8          1.7    1.18   \n",
       "\n",
       "Country     Portugal  Romania  Switzerland  United Kingdom  \n",
       "Date                                                        \n",
       "2021-01-01      2.45     0.66        13.19            2.24  \n",
       "2021-01-02      2.45     0.66        13.19            2.24  \n",
       "2021-01-03      2.45     0.66        13.19            2.24  \n",
       "2021-01-04      2.45     0.66        13.19            2.24  \n",
       "2021-01-05      2.45     0.66        13.19            2.24  "
      ]
     },
     "execution_count": 14,
     "metadata": {},
     "output_type": "execute_result"
    }
   ],
   "source": [
    "analyser.history(\"Rt\", roll_window=None).tail()"
   ]
  },
  {
   "cell_type": "markdown",
   "metadata": {},
   "source": [
    "### $\\rho$: Effective contact rate $\\mathrm{[-]}$"
   ]
  },
  {
   "cell_type": "code",
   "execution_count": 15,
   "metadata": {
    "collapsed": false
   },
   "outputs": [
    {
     "data": {
      "image/png": "[encoded data removed]",
      "text/plain": [
       "<Figure size 648x432 with 1 Axes>"
      ]
     },
     "metadata": {},
     "output_type": "display_data"
    },
    {
     "data": {
      "text/html": [
       "<div>\n",
       "<style scoped>\n",
       "    .dataframe tbody tr th:only-of-type {\n",
       "        vertical-align: middle;\n",
       "    }\n",
       "\n",
       "    .dataframe tbody tr th {\n",
       "        vertical-align: top;\n",
       "    }\n",
       "\n",
       "    .dataframe thead th {\n",
       "        text-align: right;\n",
       "    }\n",
       "</style>\n",
       "<table border=\"1\" class=\"dataframe\">\n",
       "  <thead>\n",
       "    <tr style=\"text-align: right;\">\n",
       "      <th>Country</th>\n",
       "      <th>Belgium</th>\n",
       "      <th>Canada</th>\n",
       "      <th>Finland</th>\n",
       "      <th>Germany</th>\n",
       "      <th>Italy</th>\n",
       "      <th>Netherlands</th>\n",
       "      <th>Norway</th>\n",
       "      <th>Portugal</th>\n",
       "      <th>Romania</th>\n",
       "      <th>Switzerland</th>\n",
       "      <th>United Kingdom</th>\n",
       "    </tr>\n",
       "    <tr>\n",
       "      <th>Date</th>\n",
       "      <th></th>\n",
       "      <th></th>\n",
       "      <th></th>\n",
       "      <th></th>\n",
       "      <th></th>\n",
       "      <th></th>\n",
       "      <th></th>\n",
       "      <th></th>\n",
       "      <th></th>\n",
       "      <th></th>\n",
       "      <th></th>\n",
       "    </tr>\n",
       "  </thead>\n",
       "  <tbody>\n",
       "    <tr>\n",
       "      <th>2021-01-01</th>\n",
       "      <td>0.000653</td>\n",
       "      <td>0.02038</td>\n",
       "      <td>0.012519</td>\n",
       "      <td>0.017044</td>\n",
       "      <td>0.007456</td>\n",
       "      <td>0.017882</td>\n",
       "      <td>0.016668</td>\n",
       "      <td>0.017916</td>\n",
       "      <td>0.01361</td>\n",
       "      <td>0.008042</td>\n",
       "      <td>0.021901</td>\n",
       "    </tr>\n",
       "    <tr>\n",
       "      <th>2021-01-02</th>\n",
       "      <td>0.000653</td>\n",
       "      <td>0.02038</td>\n",
       "      <td>0.012519</td>\n",
       "      <td>0.017044</td>\n",
       "      <td>0.007456</td>\n",
       "      <td>0.017882</td>\n",
       "      <td>0.016668</td>\n",
       "      <td>0.017916</td>\n",
       "      <td>0.01361</td>\n",
       "      <td>0.008042</td>\n",
       "      <td>0.021901</td>\n",
       "    </tr>\n",
       "    <tr>\n",
       "      <th>2021-01-03</th>\n",
       "      <td>0.000653</td>\n",
       "      <td>0.02038</td>\n",
       "      <td>0.012519</td>\n",
       "      <td>0.017044</td>\n",
       "      <td>0.007456</td>\n",
       "      <td>0.017882</td>\n",
       "      <td>0.016668</td>\n",
       "      <td>0.017916</td>\n",
       "      <td>0.01361</td>\n",
       "      <td>0.008042</td>\n",
       "      <td>0.021901</td>\n",
       "    </tr>\n",
       "    <tr>\n",
       "      <th>2021-01-04</th>\n",
       "      <td>0.000653</td>\n",
       "      <td>0.02038</td>\n",
       "      <td>0.012519</td>\n",
       "      <td>0.017044</td>\n",
       "      <td>0.007456</td>\n",
       "      <td>0.017882</td>\n",
       "      <td>0.016668</td>\n",
       "      <td>0.017916</td>\n",
       "      <td>0.01361</td>\n",
       "      <td>0.008042</td>\n",
       "      <td>0.021901</td>\n",
       "    </tr>\n",
       "    <tr>\n",
       "      <th>2021-01-05</th>\n",
       "      <td>0.000653</td>\n",
       "      <td>0.02038</td>\n",
       "      <td>0.012519</td>\n",
       "      <td>0.017044</td>\n",
       "      <td>0.007456</td>\n",
       "      <td>0.017882</td>\n",
       "      <td>0.016668</td>\n",
       "      <td>0.017916</td>\n",
       "      <td>0.01361</td>\n",
       "      <td>0.008042</td>\n",
       "      <td>0.021901</td>\n",
       "    </tr>\n",
       "  </tbody>\n",
       "</table>\n",
       "</div>"
      ],
      "text/plain": [
       "Country      Belgium   Canada   Finland   Germany     Italy  Netherlands  \\\n",
       "Date                                                                       \n",
       "2021-01-01  0.000653  0.02038  0.012519  0.017044  0.007456     0.017882   \n",
       "2021-01-02  0.000653  0.02038  0.012519  0.017044  0.007456     0.017882   \n",
       "2021-01-03  0.000653  0.02038  0.012519  0.017044  0.007456     0.017882   \n",
       "2021-01-04  0.000653  0.02038  0.012519  0.017044  0.007456     0.017882   \n",
       "2021-01-05  0.000653  0.02038  0.012519  0.017044  0.007456     0.017882   \n",
       "\n",
       "Country       Norway  Portugal  Romania  Switzerland  United Kingdom  \n",
       "Date                                                                  \n",
       "2021-01-01  0.016668  0.017916  0.01361     0.008042        0.021901  \n",
       "2021-01-02  0.016668  0.017916  0.01361     0.008042        0.021901  \n",
       "2021-01-03  0.016668  0.017916  0.01361     0.008042        0.021901  \n",
       "2021-01-04  0.016668  0.017916  0.01361     0.008042        0.021901  \n",
       "2021-01-05  0.016668  0.017916  0.01361     0.008042        0.021901  "
      ]
     },
     "execution_count": 15,
     "metadata": {},
     "output_type": "execute_result"
    }
   ],
   "source": [
    "analyser.history(\"rho\", roll_window=None).tail()"
   ]
  },
  {
   "cell_type": "markdown",
   "metadata": {},
   "source": [
    "### $\\sigma$: Recovery rate $\\mathrm{[-]}$"
   ]
  },
  {
   "cell_type": "code",
   "execution_count": 16,
   "metadata": {
    "collapsed": false
   },
   "outputs": [
    {
     "data": {
      "image/png": "[encoded data removed]",
      "text/plain": [
       "<Figure size 648x432 with 1 Axes>"
      ]
     },
     "metadata": {},
     "output_type": "display_data"
    },
    {
     "data": {
      "text/html": [
       "<div>\n",
       "<style scoped>\n",
       "    .dataframe tbody tr th:only-of-type {\n",
       "        vertical-align: middle;\n",
       "    }\n",
       "\n",
       "    .dataframe tbody tr th {\n",
       "        vertical-align: top;\n",
       "    }\n",
       "\n",
       "    .dataframe thead th {\n",
       "        text-align: right;\n",
       "    }\n",
       "</style>\n",
       "<table border=\"1\" class=\"dataframe\">\n",
       "  <thead>\n",
       "    <tr style=\"text-align: right;\">\n",
       "      <th>Country</th>\n",
       "      <th>Belgium</th>\n",
       "      <th>Canada</th>\n",
       "      <th>Finland</th>\n",
       "      <th>Germany</th>\n",
       "      <th>Italy</th>\n",
       "      <th>Netherlands</th>\n",
       "      <th>Norway</th>\n",
       "      <th>Portugal</th>\n",
       "      <th>Romania</th>\n",
       "      <th>Switzerland</th>\n",
       "      <th>United Kingdom</th>\n",
       "    </tr>\n",
       "    <tr>\n",
       "      <th>Date</th>\n",
       "      <th></th>\n",
       "      <th></th>\n",
       "      <th></th>\n",
       "      <th></th>\n",
       "      <th></th>\n",
       "      <th></th>\n",
       "      <th></th>\n",
       "      <th></th>\n",
       "      <th></th>\n",
       "      <th></th>\n",
       "      <th></th>\n",
       "    </tr>\n",
       "  </thead>\n",
       "  <tbody>\n",
       "    <tr>\n",
       "      <th>2021-01-01</th>\n",
       "      <td>0.000282</td>\n",
       "      <td>0.020982</td>\n",
       "      <td>0.019178</td>\n",
       "      <td>0.014824</td>\n",
       "      <td>0.009135</td>\n",
       "      <td>0.01039</td>\n",
       "      <td>0.014094</td>\n",
       "      <td>0.007156</td>\n",
       "      <td>0.019979</td>\n",
       "      <td>0.0004</td>\n",
       "      <td>0.009543</td>\n",
       "    </tr>\n",
       "    <tr>\n",
       "      <th>2021-01-02</th>\n",
       "      <td>0.000282</td>\n",
       "      <td>0.020982</td>\n",
       "      <td>0.019178</td>\n",
       "      <td>0.014824</td>\n",
       "      <td>0.009135</td>\n",
       "      <td>0.01039</td>\n",
       "      <td>0.014094</td>\n",
       "      <td>0.007156</td>\n",
       "      <td>0.019979</td>\n",
       "      <td>0.0004</td>\n",
       "      <td>0.009543</td>\n",
       "    </tr>\n",
       "    <tr>\n",
       "      <th>2021-01-03</th>\n",
       "      <td>0.000282</td>\n",
       "      <td>0.020982</td>\n",
       "      <td>0.019178</td>\n",
       "      <td>0.014824</td>\n",
       "      <td>0.009135</td>\n",
       "      <td>0.01039</td>\n",
       "      <td>0.014094</td>\n",
       "      <td>0.007156</td>\n",
       "      <td>0.019979</td>\n",
       "      <td>0.0004</td>\n",
       "      <td>0.009543</td>\n",
       "    </tr>\n",
       "    <tr>\n",
       "      <th>2021-01-04</th>\n",
       "      <td>0.000282</td>\n",
       "      <td>0.020982</td>\n",
       "      <td>0.019178</td>\n",
       "      <td>0.014824</td>\n",
       "      <td>0.009135</td>\n",
       "      <td>0.01039</td>\n",
       "      <td>0.014094</td>\n",
       "      <td>0.007156</td>\n",
       "      <td>0.019979</td>\n",
       "      <td>0.0004</td>\n",
       "      <td>0.009543</td>\n",
       "    </tr>\n",
       "    <tr>\n",
       "      <th>2021-01-05</th>\n",
       "      <td>0.000282</td>\n",
       "      <td>0.020982</td>\n",
       "      <td>0.019178</td>\n",
       "      <td>0.014824</td>\n",
       "      <td>0.009135</td>\n",
       "      <td>0.01039</td>\n",
       "      <td>0.014094</td>\n",
       "      <td>0.007156</td>\n",
       "      <td>0.019979</td>\n",
       "      <td>0.0004</td>\n",
       "      <td>0.009543</td>\n",
       "    </tr>\n",
       "  </tbody>\n",
       "</table>\n",
       "</div>"
      ],
      "text/plain": [
       "Country      Belgium    Canada   Finland   Germany     Italy  Netherlands  \\\n",
       "Date                                                                        \n",
       "2021-01-01  0.000282  0.020982  0.019178  0.014824  0.009135      0.01039   \n",
       "2021-01-02  0.000282  0.020982  0.019178  0.014824  0.009135      0.01039   \n",
       "2021-01-03  0.000282  0.020982  0.019178  0.014824  0.009135      0.01039   \n",
       "2021-01-04  0.000282  0.020982  0.019178  0.014824  0.009135      0.01039   \n",
       "2021-01-05  0.000282  0.020982  0.019178  0.014824  0.009135      0.01039   \n",
       "\n",
       "Country       Norway  Portugal   Romania  Switzerland  United Kingdom  \n",
       "Date                                                                   \n",
       "2021-01-01  0.014094  0.007156  0.019979       0.0004        0.009543  \n",
       "2021-01-02  0.014094  0.007156  0.019979       0.0004        0.009543  \n",
       "2021-01-03  0.014094  0.007156  0.019979       0.0004        0.009543  \n",
       "2021-01-04  0.014094  0.007156  0.019979       0.0004        0.009543  \n",
       "2021-01-05  0.014094  0.007156  0.019979       0.0004        0.009543  "
      ]
     },
     "execution_count": 16,
     "metadata": {},
     "output_type": "execute_result"
    }
   ],
   "source": [
    "analyser.history(\"sigma\", roll_window=None).tail()"
   ]
  },
  {
   "cell_type": "markdown",
   "metadata": {},
   "source": [
    "### $\\kappa$: Mortality rate of infected cases $\\mathrm{[-]}$"
   ]
  },
  {
   "cell_type": "code",
   "execution_count": 17,
   "metadata": {
    "collapsed": false
   },
   "outputs": [
    {
     "data": {
      "image/png": "[encoded data removed]",
      "text/plain": [
       "<Figure size 648x432 with 1 Axes>"
      ]
     },
     "metadata": {},
     "output_type": "display_data"
    },
    {
     "data": {
      "text/html": [
       "<div>\n",
       "<style scoped>\n",
       "    .dataframe tbody tr th:only-of-type {\n",
       "        vertical-align: middle;\n",
       "    }\n",
       "\n",
       "    .dataframe tbody tr th {\n",
       "        vertical-align: top;\n",
       "    }\n",
       "\n",
       "    .dataframe thead th {\n",
       "        text-align: right;\n",
       "    }\n",
       "</style>\n",
       "<table border=\"1\" class=\"dataframe\">\n",
       "  <thead>\n",
       "    <tr style=\"text-align: right;\">\n",
       "      <th>Country</th>\n",
       "      <th>Belgium</th>\n",
       "      <th>Canada</th>\n",
       "      <th>Finland</th>\n",
       "      <th>Germany</th>\n",
       "      <th>Italy</th>\n",
       "      <th>Netherlands</th>\n",
       "      <th>Norway</th>\n",
       "      <th>Portugal</th>\n",
       "      <th>Romania</th>\n",
       "      <th>Switzerland</th>\n",
       "      <th>United Kingdom</th>\n",
       "    </tr>\n",
       "    <tr>\n",
       "      <th>Date</th>\n",
       "      <th></th>\n",
       "      <th></th>\n",
       "      <th></th>\n",
       "      <th></th>\n",
       "      <th></th>\n",
       "      <th></th>\n",
       "      <th></th>\n",
       "      <th></th>\n",
       "      <th></th>\n",
       "      <th></th>\n",
       "      <th></th>\n",
       "    </tr>\n",
       "  </thead>\n",
       "  <tbody>\n",
       "    <tr>\n",
       "      <th>2021-01-01</th>\n",
       "      <td>0.000079</td>\n",
       "      <td>0.000239</td>\n",
       "      <td>0.000191</td>\n",
       "      <td>0.000229</td>\n",
       "      <td>0.000041</td>\n",
       "      <td>0.000093</td>\n",
       "      <td>0.000079</td>\n",
       "      <td>0.00015</td>\n",
       "      <td>0.000192</td>\n",
       "      <td>0.000193</td>\n",
       "      <td>0.000228</td>\n",
       "    </tr>\n",
       "    <tr>\n",
       "      <th>2021-01-02</th>\n",
       "      <td>0.000079</td>\n",
       "      <td>0.000239</td>\n",
       "      <td>0.000191</td>\n",
       "      <td>0.000229</td>\n",
       "      <td>0.000041</td>\n",
       "      <td>0.000093</td>\n",
       "      <td>0.000079</td>\n",
       "      <td>0.00015</td>\n",
       "      <td>0.000192</td>\n",
       "      <td>0.000193</td>\n",
       "      <td>0.000228</td>\n",
       "    </tr>\n",
       "    <tr>\n",
       "      <th>2021-01-03</th>\n",
       "      <td>0.000079</td>\n",
       "      <td>0.000239</td>\n",
       "      <td>0.000191</td>\n",
       "      <td>0.000229</td>\n",
       "      <td>0.000041</td>\n",
       "      <td>0.000093</td>\n",
       "      <td>0.000079</td>\n",
       "      <td>0.00015</td>\n",
       "      <td>0.000192</td>\n",
       "      <td>0.000193</td>\n",
       "      <td>0.000228</td>\n",
       "    </tr>\n",
       "    <tr>\n",
       "      <th>2021-01-04</th>\n",
       "      <td>0.000079</td>\n",
       "      <td>0.000239</td>\n",
       "      <td>0.000191</td>\n",
       "      <td>0.000229</td>\n",
       "      <td>0.000041</td>\n",
       "      <td>0.000093</td>\n",
       "      <td>0.000079</td>\n",
       "      <td>0.00015</td>\n",
       "      <td>0.000192</td>\n",
       "      <td>0.000193</td>\n",
       "      <td>0.000228</td>\n",
       "    </tr>\n",
       "    <tr>\n",
       "      <th>2021-01-05</th>\n",
       "      <td>0.000079</td>\n",
       "      <td>0.000239</td>\n",
       "      <td>0.000191</td>\n",
       "      <td>0.000229</td>\n",
       "      <td>0.000041</td>\n",
       "      <td>0.000093</td>\n",
       "      <td>0.000079</td>\n",
       "      <td>0.00015</td>\n",
       "      <td>0.000192</td>\n",
       "      <td>0.000193</td>\n",
       "      <td>0.000228</td>\n",
       "    </tr>\n",
       "  </tbody>\n",
       "</table>\n",
       "</div>"
      ],
      "text/plain": [
       "Country      Belgium    Canada   Finland   Germany     Italy  Netherlands  \\\n",
       "Date                                                                        \n",
       "2021-01-01  0.000079  0.000239  0.000191  0.000229  0.000041     0.000093   \n",
       "2021-01-02  0.000079  0.000239  0.000191  0.000229  0.000041     0.000093   \n",
       "2021-01-03  0.000079  0.000239  0.000191  0.000229  0.000041     0.000093   \n",
       "2021-01-04  0.000079  0.000239  0.000191  0.000229  0.000041     0.000093   \n",
       "2021-01-05  0.000079  0.000239  0.000191  0.000229  0.000041     0.000093   \n",
       "\n",
       "Country       Norway  Portugal   Romania  Switzerland  United Kingdom  \n",
       "Date                                                                   \n",
       "2021-01-01  0.000079   0.00015  0.000192     0.000193        0.000228  \n",
       "2021-01-02  0.000079   0.00015  0.000192     0.000193        0.000228  \n",
       "2021-01-03  0.000079   0.00015  0.000192     0.000193        0.000228  \n",
       "2021-01-04  0.000079   0.00015  0.000192     0.000193        0.000228  \n",
       "2021-01-05  0.000079   0.00015  0.000192     0.000193        0.000228  "
      ]
     },
     "execution_count": 17,
     "metadata": {},
     "output_type": "execute_result"
    }
   ],
   "source": [
    "analyser.history(\"kappa\", roll_window=None).tail()"
   ]
  },
  {
   "cell_type": "markdown",
   "metadata": {},
   "source": [
    "### $\\theta$: Mortality rate of S$^\\ast$ cases $\\mathrm{[-]}$"
   ]
  },
  {
   "cell_type": "code",
   "execution_count": 18,
   "metadata": {
    "collapsed": false
   },
   "outputs": [
    {
     "data": {
      "image/png": "[encoded data removed]",
      "text/plain": [
       "<Figure size 648x432 with 1 Axes>"
      ]
     },
     "metadata": {},
     "output_type": "display_data"
    },
    {
     "data": {
      "text/html": [
       "<div>\n",
       "<style scoped>\n",
       "    .dataframe tbody tr th:only-of-type {\n",
       "        vertical-align: middle;\n",
       "    }\n",
       "\n",
       "    .dataframe tbody tr th {\n",
       "        vertical-align: top;\n",
       "    }\n",
       "\n",
       "    .dataframe thead th {\n",
       "        text-align: right;\n",
       "    }\n",
       "</style>\n",
       "<table border=\"1\" class=\"dataframe\">\n",
       "  <thead>\n",
       "    <tr style=\"text-align: right;\">\n",
       "      <th>Country</th>\n",
       "      <th>Belgium</th>\n",
       "      <th>Canada</th>\n",
       "      <th>Finland</th>\n",
       "      <th>Germany</th>\n",
       "      <th>Italy</th>\n",
       "      <th>Netherlands</th>\n",
       "      <th>Norway</th>\n",
       "      <th>Portugal</th>\n",
       "      <th>Romania</th>\n",
       "      <th>Switzerland</th>\n",
       "      <th>United Kingdom</th>\n",
       "    </tr>\n",
       "    <tr>\n",
       "      <th>Date</th>\n",
       "      <th></th>\n",
       "      <th></th>\n",
       "      <th></th>\n",
       "      <th></th>\n",
       "      <th></th>\n",
       "      <th></th>\n",
       "      <th></th>\n",
       "      <th></th>\n",
       "      <th></th>\n",
       "      <th></th>\n",
       "      <th></th>\n",
       "    </tr>\n",
       "  </thead>\n",
       "  <tbody>\n",
       "    <tr>\n",
       "      <th>2021-01-01</th>\n",
       "      <td>0.020567</td>\n",
       "      <td>0.017544</td>\n",
       "      <td>0.016837</td>\n",
       "      <td>0.000183</td>\n",
       "      <td>0.019505</td>\n",
       "      <td>0.001799</td>\n",
       "      <td>0.000498</td>\n",
       "      <td>0.002419</td>\n",
       "      <td>0.021406</td>\n",
       "      <td>0.028095</td>\n",
       "      <td>0.000122</td>\n",
       "    </tr>\n",
       "    <tr>\n",
       "      <th>2021-01-02</th>\n",
       "      <td>0.020567</td>\n",
       "      <td>0.017544</td>\n",
       "      <td>0.016837</td>\n",
       "      <td>0.000183</td>\n",
       "      <td>0.019505</td>\n",
       "      <td>0.001799</td>\n",
       "      <td>0.000498</td>\n",
       "      <td>0.002419</td>\n",
       "      <td>0.021406</td>\n",
       "      <td>0.028095</td>\n",
       "      <td>0.000122</td>\n",
       "    </tr>\n",
       "    <tr>\n",
       "      <th>2021-01-03</th>\n",
       "      <td>0.020567</td>\n",
       "      <td>0.017544</td>\n",
       "      <td>0.016837</td>\n",
       "      <td>0.000183</td>\n",
       "      <td>0.019505</td>\n",
       "      <td>0.001799</td>\n",
       "      <td>0.000498</td>\n",
       "      <td>0.002419</td>\n",
       "      <td>0.021406</td>\n",
       "      <td>0.028095</td>\n",
       "      <td>0.000122</td>\n",
       "    </tr>\n",
       "    <tr>\n",
       "      <th>2021-01-04</th>\n",
       "      <td>0.020567</td>\n",
       "      <td>0.017544</td>\n",
       "      <td>0.016837</td>\n",
       "      <td>0.000183</td>\n",
       "      <td>0.019505</td>\n",
       "      <td>0.001799</td>\n",
       "      <td>0.000498</td>\n",
       "      <td>0.002419</td>\n",
       "      <td>0.021406</td>\n",
       "      <td>0.028095</td>\n",
       "      <td>0.000122</td>\n",
       "    </tr>\n",
       "    <tr>\n",
       "      <th>2021-01-05</th>\n",
       "      <td>0.020567</td>\n",
       "      <td>0.017544</td>\n",
       "      <td>0.016837</td>\n",
       "      <td>0.000183</td>\n",
       "      <td>0.019505</td>\n",
       "      <td>0.001799</td>\n",
       "      <td>0.000498</td>\n",
       "      <td>0.002419</td>\n",
       "      <td>0.021406</td>\n",
       "      <td>0.028095</td>\n",
       "      <td>0.000122</td>\n",
       "    </tr>\n",
       "  </tbody>\n",
       "</table>\n",
       "</div>"
      ],
      "text/plain": [
       "Country      Belgium    Canada   Finland   Germany     Italy  Netherlands  \\\n",
       "Date                                                                        \n",
       "2021-01-01  0.020567  0.017544  0.016837  0.000183  0.019505     0.001799   \n",
       "2021-01-02  0.020567  0.017544  0.016837  0.000183  0.019505     0.001799   \n",
       "2021-01-03  0.020567  0.017544  0.016837  0.000183  0.019505     0.001799   \n",
       "2021-01-04  0.020567  0.017544  0.016837  0.000183  0.019505     0.001799   \n",
       "2021-01-05  0.020567  0.017544  0.016837  0.000183  0.019505     0.001799   \n",
       "\n",
       "Country       Norway  Portugal   Romania  Switzerland  United Kingdom  \n",
       "Date                                                                   \n",
       "2021-01-01  0.000498  0.002419  0.021406     0.028095        0.000122  \n",
       "2021-01-02  0.000498  0.002419  0.021406     0.028095        0.000122  \n",
       "2021-01-03  0.000498  0.002419  0.021406     0.028095        0.000122  \n",
       "2021-01-04  0.000498  0.002419  0.021406     0.028095        0.000122  \n",
       "2021-01-05  0.000498  0.002419  0.021406     0.028095        0.000122  "
      ]
     },
     "execution_count": 18,
     "metadata": {},
     "output_type": "execute_result"
    }
   ],
   "source": [
    "analyser.history(\"theta\", roll_window=None).tail()"
   ]
  },
  {
   "cell_type": "markdown",
   "metadata": {},
   "source": [
    "## (Experimental): Relationship of OxCGRT index and parameter values\n",
    "Government responses will impact on parameter values of ODE models about 14 days later. Here, we will investigate on the relationship of [stringency index (from OxCGRT)](https://github.com/OxCGRT/covid-policy-tracker/blob/master/documentation/index_methodology.md) and reproduction number/model parameters.\n"
   ]
  },
  {
   "cell_type": "code",
   "execution_count": 19,
   "metadata": {
    "collapsed": false
   },
   "outputs": [],
   "source": [
    "%matplotlib inline\n",
    "from matplotlib import pyplot as plt\n",
    "import seaborn as sns\n",
    "import pandas as pd"
   ]
  },
  {
   "cell_type": "code",
   "execution_count": 20,
   "metadata": {
    "collapsed": false
   },
   "outputs": [
    {
     "name": "stdout",
     "output_type": "stream",
     "text": [
      "<class 'pandas.core.frame.DataFrame'>\n",
      "Int64Index: 41578 entries, 0 to 41717\n",
      "Data columns (total 19 columns):\n",
      " #   Column                               Non-Null Count  Dtype         \n",
      "---  ------                               --------------  -----         \n",
      " 0   Date                                 41578 non-null  datetime64[ns]\n",
      " 1   Country                              41578 non-null  object        \n",
      " 2   Rt                                   41578 non-null  float64       \n",
      " 3   theta                                41578 non-null  float64       \n",
      " 4   kappa                                41578 non-null  float64       \n",
      " 5   rho                                  41578 non-null  float64       \n",
      " 6   sigma                                41578 non-null  float64       \n",
      " 7   School_closing                       41578 non-null  int64         \n",
      " 8   Workplace_closing                    41578 non-null  int64         \n",
      " 9   Cancel_events                        41578 non-null  int64         \n",
      " 10  Gatherings_restrictions              41578 non-null  int64         \n",
      " 11  Transport_closing                    41578 non-null  int64         \n",
      " 12  Stay_home_restrictions               41578 non-null  int64         \n",
      " 13  Internal_movement_restrictions       41578 non-null  int64         \n",
      " 14  International_movement_restrictions  41578 non-null  int64         \n",
      " 15  Information_campaigns                41578 non-null  int64         \n",
      " 16  Testing_policy                       41578 non-null  int64         \n",
      " 17  Contact_tracing                      41578 non-null  int64         \n",
      " 18  Stringency_index                     41578 non-null  float64       \n",
      "dtypes: datetime64[ns](1), float64(6), int64(11), object(1)\n",
      "memory usage: 6.3+ MB\n"
     ]
    }
   ],
   "source": [
    "df = analyser.track()\n",
    "param_cols = [\"Rt\", *cs.SIRF.PARAMETERS]\n",
    "oxcgrt_cols = oxcgrt_data.OXCGRT_VARS[:]\n",
    "cols = param_cols + oxcgrt_cols\n",
    "delay = 14\n",
    "\n",
    "for col in param_cols:\n",
    "    df[col] = pd.to_numeric(df[col], errors=\"coerce\")\n",
    "    df[col] = df.groupby(\"Country\")[col].shift(0 - delay)\n",
    "\n",
    "df = df.dropna(how=\"any\")\n",
    "df = df.loc[:, [\"Date\", \"Country\", *cols]]\n",
    "track_df = df.copy()\n",
    "track_df.info()"
   ]
  },
  {
   "cell_type": "code",
   "execution_count": 21,
   "metadata": {
    "collapsed": false
   },
   "outputs": [
    {
     "data": {
      "text/html": [
       "<style  type=\"text/css\" >\n",
       "#T_75a30972_4f48_11eb_8b30_525400eaad36row0_col0,#T_75a30972_4f48_11eb_8b30_525400eaad36row1_col1,#T_75a30972_4f48_11eb_8b30_525400eaad36row2_col2,#T_75a30972_4f48_11eb_8b30_525400eaad36row3_col3,#T_75a30972_4f48_11eb_8b30_525400eaad36row4_col4,#T_75a30972_4f48_11eb_8b30_525400eaad36row5_col5,#T_75a30972_4f48_11eb_8b30_525400eaad36row6_col6,#T_75a30972_4f48_11eb_8b30_525400eaad36row7_col7,#T_75a30972_4f48_11eb_8b30_525400eaad36row8_col8,#T_75a30972_4f48_11eb_8b30_525400eaad36row9_col9,#T_75a30972_4f48_11eb_8b30_525400eaad36row10_col10,#T_75a30972_4f48_11eb_8b30_525400eaad36row11_col11,#T_75a30972_4f48_11eb_8b30_525400eaad36row12_col12,#T_75a30972_4f48_11eb_8b30_525400eaad36row13_col13,#T_75a30972_4f48_11eb_8b30_525400eaad36row14_col14,#T_75a30972_4f48_11eb_8b30_525400eaad36row15_col15,#T_75a30972_4f48_11eb_8b30_525400eaad36row16_col16{\n",
       "            background-color:  #023858;\n",
       "            color:  #f1f1f1;\n",
       "        }#T_75a30972_4f48_11eb_8b30_525400eaad36row0_col1,#T_75a30972_4f48_11eb_8b30_525400eaad36row1_col0{\n",
       "            background-color:  #d6d6e9;\n",
       "            color:  #000000;\n",
       "        }#T_75a30972_4f48_11eb_8b30_525400eaad36row0_col2,#T_75a30972_4f48_11eb_8b30_525400eaad36row2_col0{\n",
       "            background-color:  #65a3cb;\n",
       "            color:  #000000;\n",
       "        }#T_75a30972_4f48_11eb_8b30_525400eaad36row0_col3,#T_75a30972_4f48_11eb_8b30_525400eaad36row3_col0{\n",
       "            background-color:  #0d75b3;\n",
       "            color:  #f1f1f1;\n",
       "        }#T_75a30972_4f48_11eb_8b30_525400eaad36row0_col4,#T_75a30972_4f48_11eb_8b30_525400eaad36row4_col0{\n",
       "            background-color:  #fff7fb;\n",
       "            color:  #000000;\n",
       "        }#T_75a30972_4f48_11eb_8b30_525400eaad36row0_col5,#T_75a30972_4f48_11eb_8b30_525400eaad36row5_col0{\n",
       "            background-color:  #eae6f1;\n",
       "            color:  #000000;\n",
       "        }#T_75a30972_4f48_11eb_8b30_525400eaad36row0_col6,#T_75a30972_4f48_11eb_8b30_525400eaad36row6_col0{\n",
       "            background-color:  #ede7f2;\n",
       "            color:  #000000;\n",
       "        }#T_75a30972_4f48_11eb_8b30_525400eaad36row0_col7,#T_75a30972_4f48_11eb_8b30_525400eaad36row7_col0{\n",
       "            background-color:  #d7d6e9;\n",
       "            color:  #000000;\n",
       "        }#T_75a30972_4f48_11eb_8b30_525400eaad36row0_col8,#T_75a30972_4f48_11eb_8b30_525400eaad36row1_col3,#T_75a30972_4f48_11eb_8b30_525400eaad36row3_col1,#T_75a30972_4f48_11eb_8b30_525400eaad36row8_col0{\n",
       "            background-color:  #ece7f2;\n",
       "            color:  #000000;\n",
       "        }#T_75a30972_4f48_11eb_8b30_525400eaad36row0_col9,#T_75a30972_4f48_11eb_8b30_525400eaad36row3_col16,#T_75a30972_4f48_11eb_8b30_525400eaad36row9_col0,#T_75a30972_4f48_11eb_8b30_525400eaad36row16_col3{\n",
       "            background-color:  #dbdaeb;\n",
       "            color:  #000000;\n",
       "        }#T_75a30972_4f48_11eb_8b30_525400eaad36row0_col10,#T_75a30972_4f48_11eb_8b30_525400eaad36row10_col0{\n",
       "            background-color:  #e0dded;\n",
       "            color:  #000000;\n",
       "        }#T_75a30972_4f48_11eb_8b30_525400eaad36row0_col11,#T_75a30972_4f48_11eb_8b30_525400eaad36row11_col0{\n",
       "            background-color:  #e0deed;\n",
       "            color:  #000000;\n",
       "        }#T_75a30972_4f48_11eb_8b30_525400eaad36row0_col12,#T_75a30972_4f48_11eb_8b30_525400eaad36row12_col0{\n",
       "            background-color:  #f0eaf4;\n",
       "            color:  #000000;\n",
       "        }#T_75a30972_4f48_11eb_8b30_525400eaad36row0_col13,#T_75a30972_4f48_11eb_8b30_525400eaad36row13_col0{\n",
       "            background-color:  #e4e1ef;\n",
       "            color:  #000000;\n",
       "        }#T_75a30972_4f48_11eb_8b30_525400eaad36row0_col14,#T_75a30972_4f48_11eb_8b30_525400eaad36row2_col14,#T_75a30972_4f48_11eb_8b30_525400eaad36row14_col0,#T_75a30972_4f48_11eb_8b30_525400eaad36row14_col2{\n",
       "            background-color:  #f1ebf5;\n",
       "            color:  #000000;\n",
       "        }#T_75a30972_4f48_11eb_8b30_525400eaad36row0_col15,#T_75a30972_4f48_11eb_8b30_525400eaad36row15_col0{\n",
       "            background-color:  #dfddec;\n",
       "            color:  #000000;\n",
       "        }#T_75a30972_4f48_11eb_8b30_525400eaad36row0_col16,#T_75a30972_4f48_11eb_8b30_525400eaad36row16_col0{\n",
       "            background-color:  #ede8f3;\n",
       "            color:  #000000;\n",
       "        }#T_75a30972_4f48_11eb_8b30_525400eaad36row1_col2,#T_75a30972_4f48_11eb_8b30_525400eaad36row2_col1,#T_75a30972_4f48_11eb_8b30_525400eaad36row2_col10,#T_75a30972_4f48_11eb_8b30_525400eaad36row2_col13,#T_75a30972_4f48_11eb_8b30_525400eaad36row10_col2,#T_75a30972_4f48_11eb_8b30_525400eaad36row13_col2{\n",
       "            background-color:  #c1cae2;\n",
       "            color:  #000000;\n",
       "        }#T_75a30972_4f48_11eb_8b30_525400eaad36row1_col4,#T_75a30972_4f48_11eb_8b30_525400eaad36row4_col1,#T_75a30972_4f48_11eb_8b30_525400eaad36row11_col12,#T_75a30972_4f48_11eb_8b30_525400eaad36row12_col11{\n",
       "            background-color:  #cdd0e5;\n",
       "            color:  #000000;\n",
       "        }#T_75a30972_4f48_11eb_8b30_525400eaad36row1_col5,#T_75a30972_4f48_11eb_8b30_525400eaad36row5_col1,#T_75a30972_4f48_11eb_8b30_525400eaad36row12_col16,#T_75a30972_4f48_11eb_8b30_525400eaad36row16_col12{\n",
       "            background-color:  #569dc8;\n",
       "            color:  #000000;\n",
       "        }#T_75a30972_4f48_11eb_8b30_525400eaad36row1_col6,#T_75a30972_4f48_11eb_8b30_525400eaad36row1_col16,#T_75a30972_4f48_11eb_8b30_525400eaad36row6_col1,#T_75a30972_4f48_11eb_8b30_525400eaad36row6_col12,#T_75a30972_4f48_11eb_8b30_525400eaad36row12_col6,#T_75a30972_4f48_11eb_8b30_525400eaad36row16_col1{\n",
       "            background-color:  #75a9cf;\n",
       "            color:  #000000;\n",
       "        }#T_75a30972_4f48_11eb_8b30_525400eaad36row1_col7,#T_75a30972_4f48_11eb_8b30_525400eaad36row1_col15,#T_75a30972_4f48_11eb_8b30_525400eaad36row7_col1,#T_75a30972_4f48_11eb_8b30_525400eaad36row15_col1{\n",
       "            background-color:  #c5cce3;\n",
       "            color:  #000000;\n",
       "        }#T_75a30972_4f48_11eb_8b30_525400eaad36row1_col8,#T_75a30972_4f48_11eb_8b30_525400eaad36row8_col1{\n",
       "            background-color:  #a5bddb;\n",
       "            color:  #000000;\n",
       "        }#T_75a30972_4f48_11eb_8b30_525400eaad36row1_col9,#T_75a30972_4f48_11eb_8b30_525400eaad36row1_col11,#T_75a30972_4f48_11eb_8b30_525400eaad36row5_col7,#T_75a30972_4f48_11eb_8b30_525400eaad36row7_col5,#T_75a30972_4f48_11eb_8b30_525400eaad36row7_col15,#T_75a30972_4f48_11eb_8b30_525400eaad36row9_col1,#T_75a30972_4f48_11eb_8b30_525400eaad36row11_col1,#T_75a30972_4f48_11eb_8b30_525400eaad36row15_col7{\n",
       "            background-color:  #9cb9d9;\n",
       "            color:  #000000;\n",
       "        }#T_75a30972_4f48_11eb_8b30_525400eaad36row1_col10,#T_75a30972_4f48_11eb_8b30_525400eaad36row10_col1{\n",
       "            background-color:  #7dacd1;\n",
       "            color:  #000000;\n",
       "        }#T_75a30972_4f48_11eb_8b30_525400eaad36row1_col12,#T_75a30972_4f48_11eb_8b30_525400eaad36row7_col12,#T_75a30972_4f48_11eb_8b30_525400eaad36row12_col1,#T_75a30972_4f48_11eb_8b30_525400eaad36row12_col7{\n",
       "            background-color:  #a7bddb;\n",
       "            color:  #000000;\n",
       "        }#T_75a30972_4f48_11eb_8b30_525400eaad36row1_col13,#T_75a30972_4f48_11eb_8b30_525400eaad36row13_col1{\n",
       "            background-color:  #a1bbda;\n",
       "            color:  #000000;\n",
       "        }#T_75a30972_4f48_11eb_8b30_525400eaad36row1_col14,#T_75a30972_4f48_11eb_8b30_525400eaad36row14_col1{\n",
       "            background-color:  #c2cbe2;\n",
       "            color:  #000000;\n",
       "        }#T_75a30972_4f48_11eb_8b30_525400eaad36row2_col3,#T_75a30972_4f48_11eb_8b30_525400eaad36row3_col2{\n",
       "            background-color:  #2685bb;\n",
       "            color:  #000000;\n",
       "        }#T_75a30972_4f48_11eb_8b30_525400eaad36row2_col4,#T_75a30972_4f48_11eb_8b30_525400eaad36row4_col2{\n",
       "            background-color:  #dcdaeb;\n",
       "            color:  #000000;\n",
       "        }#T_75a30972_4f48_11eb_8b30_525400eaad36row2_col5,#T_75a30972_4f48_11eb_8b30_525400eaad36row5_col2,#T_75a30972_4f48_11eb_8b30_525400eaad36row8_col15,#T_75a30972_4f48_11eb_8b30_525400eaad36row15_col8{\n",
       "            background-color:  #c0c9e2;\n",
       "            color:  #000000;\n",
       "        }#T_75a30972_4f48_11eb_8b30_525400eaad36row2_col6,#T_75a30972_4f48_11eb_8b30_525400eaad36row6_col2{\n",
       "            background-color:  #acc0dd;\n",
       "            color:  #000000;\n",
       "        }#T_75a30972_4f48_11eb_8b30_525400eaad36row2_col7,#T_75a30972_4f48_11eb_8b30_525400eaad36row3_col15,#T_75a30972_4f48_11eb_8b30_525400eaad36row7_col2,#T_75a30972_4f48_11eb_8b30_525400eaad36row9_col12,#T_75a30972_4f48_11eb_8b30_525400eaad36row12_col9,#T_75a30972_4f48_11eb_8b30_525400eaad36row15_col3{\n",
       "            background-color:  #d9d8ea;\n",
       "            color:  #000000;\n",
       "        }#T_75a30972_4f48_11eb_8b30_525400eaad36row2_col8,#T_75a30972_4f48_11eb_8b30_525400eaad36row8_col2{\n",
       "            background-color:  #d5d5e8;\n",
       "            color:  #000000;\n",
       "        }#T_75a30972_4f48_11eb_8b30_525400eaad36row2_col9,#T_75a30972_4f48_11eb_8b30_525400eaad36row9_col2{\n",
       "            background-color:  #a8bedc;\n",
       "            color:  #000000;\n",
       "        }#T_75a30972_4f48_11eb_8b30_525400eaad36row2_col11,#T_75a30972_4f48_11eb_8b30_525400eaad36row4_col9,#T_75a30972_4f48_11eb_8b30_525400eaad36row9_col4,#T_75a30972_4f48_11eb_8b30_525400eaad36row11_col2{\n",
       "            background-color:  #c6cce3;\n",
       "            color:  #000000;\n",
       "        }#T_75a30972_4f48_11eb_8b30_525400eaad36row2_col12,#T_75a30972_4f48_11eb_8b30_525400eaad36row12_col2{\n",
       "            background-color:  #f4eef6;\n",
       "            color:  #000000;\n",
       "        }#T_75a30972_4f48_11eb_8b30_525400eaad36row2_col15,#T_75a30972_4f48_11eb_8b30_525400eaad36row15_col2{\n",
       "            background-color:  #efe9f3;\n",
       "            color:  #000000;\n",
       "        }#T_75a30972_4f48_11eb_8b30_525400eaad36row2_col16,#T_75a30972_4f48_11eb_8b30_525400eaad36row16_col2{\n",
       "            background-color:  #bdc8e1;\n",
       "            color:  #000000;\n",
       "        }#T_75a30972_4f48_11eb_8b30_525400eaad36row3_col4,#T_75a30972_4f48_11eb_8b30_525400eaad36row3_col7,#T_75a30972_4f48_11eb_8b30_525400eaad36row4_col3,#T_75a30972_4f48_11eb_8b30_525400eaad36row7_col3{\n",
       "            background-color:  #e7e3f0;\n",
       "            color:  #000000;\n",
       "        }#T_75a30972_4f48_11eb_8b30_525400eaad36row3_col5,#T_75a30972_4f48_11eb_8b30_525400eaad36row3_col9,#T_75a30972_4f48_11eb_8b30_525400eaad36row5_col3,#T_75a30972_4f48_11eb_8b30_525400eaad36row9_col3{\n",
       "            background-color:  #e5e1ef;\n",
       "            color:  #000000;\n",
       "        }#T_75a30972_4f48_11eb_8b30_525400eaad36row3_col6,#T_75a30972_4f48_11eb_8b30_525400eaad36row6_col3{\n",
       "            background-color:  #e3e0ee;\n",
       "            color:  #000000;\n",
       "        }#T_75a30972_4f48_11eb_8b30_525400eaad36row3_col8,#T_75a30972_4f48_11eb_8b30_525400eaad36row8_col3{\n",
       "            background-color:  #e8e4f0;\n",
       "            color:  #000000;\n",
       "        }#T_75a30972_4f48_11eb_8b30_525400eaad36row3_col10,#T_75a30972_4f48_11eb_8b30_525400eaad36row10_col3{\n",
       "            background-color:  #e1dfed;\n",
       "            color:  #000000;\n",
       "        }#T_75a30972_4f48_11eb_8b30_525400eaad36row3_col11,#T_75a30972_4f48_11eb_8b30_525400eaad36row3_col14,#T_75a30972_4f48_11eb_8b30_525400eaad36row11_col3,#T_75a30972_4f48_11eb_8b30_525400eaad36row14_col3{\n",
       "            background-color:  #e6e2ef;\n",
       "            color:  #000000;\n",
       "        }#T_75a30972_4f48_11eb_8b30_525400eaad36row3_col12,#T_75a30972_4f48_11eb_8b30_525400eaad36row12_col3{\n",
       "            background-color:  #f2ecf5;\n",
       "            color:  #000000;\n",
       "        }#T_75a30972_4f48_11eb_8b30_525400eaad36row3_col13,#T_75a30972_4f48_11eb_8b30_525400eaad36row13_col3{\n",
       "            background-color:  #d0d1e6;\n",
       "            color:  #000000;\n",
       "        }#T_75a30972_4f48_11eb_8b30_525400eaad36row4_col5,#T_75a30972_4f48_11eb_8b30_525400eaad36row5_col4{\n",
       "            background-color:  #76aad0;\n",
       "            color:  #000000;\n",
       "        }#T_75a30972_4f48_11eb_8b30_525400eaad36row4_col6,#T_75a30972_4f48_11eb_8b30_525400eaad36row6_col4,#T_75a30972_4f48_11eb_8b30_525400eaad36row10_col12,#T_75a30972_4f48_11eb_8b30_525400eaad36row12_col10{\n",
       "            background-color:  #86b0d3;\n",
       "            color:  #000000;\n",
       "        }#T_75a30972_4f48_11eb_8b30_525400eaad36row4_col7,#T_75a30972_4f48_11eb_8b30_525400eaad36row5_col14,#T_75a30972_4f48_11eb_8b30_525400eaad36row7_col4,#T_75a30972_4f48_11eb_8b30_525400eaad36row14_col5,#T_75a30972_4f48_11eb_8b30_525400eaad36row14_col16,#T_75a30972_4f48_11eb_8b30_525400eaad36row16_col14{\n",
       "            background-color:  #91b5d6;\n",
       "            color:  #000000;\n",
       "        }#T_75a30972_4f48_11eb_8b30_525400eaad36row4_col8,#T_75a30972_4f48_11eb_8b30_525400eaad36row7_col16,#T_75a30972_4f48_11eb_8b30_525400eaad36row8_col4,#T_75a30972_4f48_11eb_8b30_525400eaad36row12_col15,#T_75a30972_4f48_11eb_8b30_525400eaad36row15_col12,#T_75a30972_4f48_11eb_8b30_525400eaad36row16_col7{\n",
       "            background-color:  #60a1ca;\n",
       "            color:  #000000;\n",
       "        }#T_75a30972_4f48_11eb_8b30_525400eaad36row4_col10,#T_75a30972_4f48_11eb_8b30_525400eaad36row10_col4{\n",
       "            background-color:  #bfc9e1;\n",
       "            color:  #000000;\n",
       "        }#T_75a30972_4f48_11eb_8b30_525400eaad36row4_col11,#T_75a30972_4f48_11eb_8b30_525400eaad36row11_col4{\n",
       "            background-color:  #b1c2de;\n",
       "            color:  #000000;\n",
       "        }#T_75a30972_4f48_11eb_8b30_525400eaad36row4_col12,#T_75a30972_4f48_11eb_8b30_525400eaad36row12_col4{\n",
       "            background-color:  #89b1d4;\n",
       "            color:  #000000;\n",
       "        }#T_75a30972_4f48_11eb_8b30_525400eaad36row4_col13,#T_75a30972_4f48_11eb_8b30_525400eaad36row13_col4{\n",
       "            background-color:  #7bacd1;\n",
       "            color:  #000000;\n",
       "        }#T_75a30972_4f48_11eb_8b30_525400eaad36row4_col14,#T_75a30972_4f48_11eb_8b30_525400eaad36row11_col13,#T_75a30972_4f48_11eb_8b30_525400eaad36row13_col11,#T_75a30972_4f48_11eb_8b30_525400eaad36row14_col4{\n",
       "            background-color:  #78abd0;\n",
       "            color:  #000000;\n",
       "        }#T_75a30972_4f48_11eb_8b30_525400eaad36row4_col15,#T_75a30972_4f48_11eb_8b30_525400eaad36row15_col4{\n",
       "            background-color:  #8bb2d4;\n",
       "            color:  #000000;\n",
       "        }#T_75a30972_4f48_11eb_8b30_525400eaad36row4_col16,#T_75a30972_4f48_11eb_8b30_525400eaad36row5_col11,#T_75a30972_4f48_11eb_8b30_525400eaad36row11_col5,#T_75a30972_4f48_11eb_8b30_525400eaad36row16_col4{\n",
       "            background-color:  #83afd3;\n",
       "            color:  #000000;\n",
       "        }#T_75a30972_4f48_11eb_8b30_525400eaad36row5_col6,#T_75a30972_4f48_11eb_8b30_525400eaad36row6_col5,#T_75a30972_4f48_11eb_8b30_525400eaad36row7_col8,#T_75a30972_4f48_11eb_8b30_525400eaad36row8_col7,#T_75a30972_4f48_11eb_8b30_525400eaad36row8_col13,#T_75a30972_4f48_11eb_8b30_525400eaad36row13_col8{\n",
       "            background-color:  #4c99c5;\n",
       "            color:  #000000;\n",
       "        }#T_75a30972_4f48_11eb_8b30_525400eaad36row5_col8,#T_75a30972_4f48_11eb_8b30_525400eaad36row8_col5{\n",
       "            background-color:  #94b6d7;\n",
       "            color:  #000000;\n",
       "        }#T_75a30972_4f48_11eb_8b30_525400eaad36row5_col9,#T_75a30972_4f48_11eb_8b30_525400eaad36row5_col15,#T_75a30972_4f48_11eb_8b30_525400eaad36row9_col5,#T_75a30972_4f48_11eb_8b30_525400eaad36row15_col5{\n",
       "            background-color:  #a4bcda;\n",
       "            color:  #000000;\n",
       "        }#T_75a30972_4f48_11eb_8b30_525400eaad36row5_col10,#T_75a30972_4f48_11eb_8b30_525400eaad36row10_col5{\n",
       "            background-color:  #549cc7;\n",
       "            color:  #000000;\n",
       "        }#T_75a30972_4f48_11eb_8b30_525400eaad36row5_col12,#T_75a30972_4f48_11eb_8b30_525400eaad36row8_col12,#T_75a30972_4f48_11eb_8b30_525400eaad36row12_col5,#T_75a30972_4f48_11eb_8b30_525400eaad36row12_col8{\n",
       "            background-color:  #79abd0;\n",
       "            color:  #000000;\n",
       "        }#T_75a30972_4f48_11eb_8b30_525400eaad36row5_col13,#T_75a30972_4f48_11eb_8b30_525400eaad36row13_col5{\n",
       "            background-color:  #62a2cb;\n",
       "            color:  #000000;\n",
       "        }#T_75a30972_4f48_11eb_8b30_525400eaad36row5_col16,#T_75a30972_4f48_11eb_8b30_525400eaad36row16_col5{\n",
       "            background-color:  #3790c0;\n",
       "            color:  #000000;\n",
       "        }#T_75a30972_4f48_11eb_8b30_525400eaad36row6_col7,#T_75a30972_4f48_11eb_8b30_525400eaad36row7_col6{\n",
       "            background-color:  #6ba5cd;\n",
       "            color:  #000000;\n",
       "        }#T_75a30972_4f48_11eb_8b30_525400eaad36row6_col8,#T_75a30972_4f48_11eb_8b30_525400eaad36row8_col6{\n",
       "            background-color:  #05659f;\n",
       "            color:  #f1f1f1;\n",
       "        }#T_75a30972_4f48_11eb_8b30_525400eaad36row6_col9,#T_75a30972_4f48_11eb_8b30_525400eaad36row9_col6{\n",
       "            background-color:  #73a9cf;\n",
       "            color:  #000000;\n",
       "        }#T_75a30972_4f48_11eb_8b30_525400eaad36row6_col10,#T_75a30972_4f48_11eb_8b30_525400eaad36row10_col6{\n",
       "            background-color:  #0872b1;\n",
       "            color:  #f1f1f1;\n",
       "        }#T_75a30972_4f48_11eb_8b30_525400eaad36row6_col11,#T_75a30972_4f48_11eb_8b30_525400eaad36row6_col13,#T_75a30972_4f48_11eb_8b30_525400eaad36row11_col6,#T_75a30972_4f48_11eb_8b30_525400eaad36row13_col6{\n",
       "            background-color:  #4a98c5;\n",
       "            color:  #000000;\n",
       "        }#T_75a30972_4f48_11eb_8b30_525400eaad36row6_col14,#T_75a30972_4f48_11eb_8b30_525400eaad36row14_col6{\n",
       "            background-color:  #a2bcda;\n",
       "            color:  #000000;\n",
       "        }#T_75a30972_4f48_11eb_8b30_525400eaad36row6_col15,#T_75a30972_4f48_11eb_8b30_525400eaad36row15_col6,#T_75a30972_4f48_11eb_8b30_525400eaad36row15_col16,#T_75a30972_4f48_11eb_8b30_525400eaad36row16_col15{\n",
       "            background-color:  #d4d4e8;\n",
       "            color:  #000000;\n",
       "        }#T_75a30972_4f48_11eb_8b30_525400eaad36row6_col16,#T_75a30972_4f48_11eb_8b30_525400eaad36row16_col6{\n",
       "            background-color:  #045d92;\n",
       "            color:  #f1f1f1;\n",
       "        }#T_75a30972_4f48_11eb_8b30_525400eaad36row7_col9,#T_75a30972_4f48_11eb_8b30_525400eaad36row7_col10,#T_75a30972_4f48_11eb_8b30_525400eaad36row7_col13,#T_75a30972_4f48_11eb_8b30_525400eaad36row9_col7,#T_75a30972_4f48_11eb_8b30_525400eaad36row10_col7,#T_75a30972_4f48_11eb_8b30_525400eaad36row13_col7{\n",
       "            background-color:  #529bc7;\n",
       "            color:  #000000;\n",
       "        }#T_75a30972_4f48_11eb_8b30_525400eaad36row7_col11,#T_75a30972_4f48_11eb_8b30_525400eaad36row11_col7{\n",
       "            background-color:  #056ba7;\n",
       "            color:  #f1f1f1;\n",
       "        }#T_75a30972_4f48_11eb_8b30_525400eaad36row7_col14,#T_75a30972_4f48_11eb_8b30_525400eaad36row14_col7{\n",
       "            background-color:  #bcc7e1;\n",
       "            color:  #000000;\n",
       "        }#T_75a30972_4f48_11eb_8b30_525400eaad36row8_col9,#T_75a30972_4f48_11eb_8b30_525400eaad36row9_col8{\n",
       "            background-color:  #80aed2;\n",
       "            color:  #000000;\n",
       "        }#T_75a30972_4f48_11eb_8b30_525400eaad36row8_col10,#T_75a30972_4f48_11eb_8b30_525400eaad36row10_col8{\n",
       "            background-color:  #2d8abd;\n",
       "            color:  #000000;\n",
       "        }#T_75a30972_4f48_11eb_8b30_525400eaad36row8_col11,#T_75a30972_4f48_11eb_8b30_525400eaad36row11_col8,#T_75a30972_4f48_11eb_8b30_525400eaad36row13_col14,#T_75a30972_4f48_11eb_8b30_525400eaad36row14_col13,#T_75a30972_4f48_11eb_8b30_525400eaad36row14_col15,#T_75a30972_4f48_11eb_8b30_525400eaad36row15_col14{\n",
       "            background-color:  #4094c3;\n",
       "            color:  #000000;\n",
       "        }#T_75a30972_4f48_11eb_8b30_525400eaad36row8_col14,#T_75a30972_4f48_11eb_8b30_525400eaad36row14_col8{\n",
       "            background-color:  #8cb3d5;\n",
       "            color:  #000000;\n",
       "        }#T_75a30972_4f48_11eb_8b30_525400eaad36row8_col16,#T_75a30972_4f48_11eb_8b30_525400eaad36row16_col8{\n",
       "            background-color:  #046198;\n",
       "            color:  #f1f1f1;\n",
       "        }#T_75a30972_4f48_11eb_8b30_525400eaad36row9_col10,#T_75a30972_4f48_11eb_8b30_525400eaad36row10_col9{\n",
       "            background-color:  #67a4cc;\n",
       "            color:  #000000;\n",
       "        }#T_75a30972_4f48_11eb_8b30_525400eaad36row9_col11,#T_75a30972_4f48_11eb_8b30_525400eaad36row11_col9{\n",
       "            background-color:  #0a73b2;\n",
       "            color:  #f1f1f1;\n",
       "        }#T_75a30972_4f48_11eb_8b30_525400eaad36row9_col13,#T_75a30972_4f48_11eb_8b30_525400eaad36row13_col9{\n",
       "            background-color:  #96b6d7;\n",
       "            color:  #000000;\n",
       "        }#T_75a30972_4f48_11eb_8b30_525400eaad36row9_col14,#T_75a30972_4f48_11eb_8b30_525400eaad36row14_col9{\n",
       "            background-color:  #d2d2e7;\n",
       "            color:  #000000;\n",
       "        }#T_75a30972_4f48_11eb_8b30_525400eaad36row9_col15,#T_75a30972_4f48_11eb_8b30_525400eaad36row15_col9{\n",
       "            background-color:  #b8c6e0;\n",
       "            color:  #000000;\n",
       "        }#T_75a30972_4f48_11eb_8b30_525400eaad36row9_col16,#T_75a30972_4f48_11eb_8b30_525400eaad36row10_col13,#T_75a30972_4f48_11eb_8b30_525400eaad36row13_col10,#T_75a30972_4f48_11eb_8b30_525400eaad36row16_col9{\n",
       "            background-color:  #63a2cb;\n",
       "            color:  #000000;\n",
       "        }#T_75a30972_4f48_11eb_8b30_525400eaad36row10_col11,#T_75a30972_4f48_11eb_8b30_525400eaad36row11_col10,#T_75a30972_4f48_11eb_8b30_525400eaad36row13_col16,#T_75a30972_4f48_11eb_8b30_525400eaad36row16_col13{\n",
       "            background-color:  #2484ba;\n",
       "            color:  #000000;\n",
       "        }#T_75a30972_4f48_11eb_8b30_525400eaad36row10_col14,#T_75a30972_4f48_11eb_8b30_525400eaad36row14_col10{\n",
       "            background-color:  #9ab8d8;\n",
       "            color:  #000000;\n",
       "        }#T_75a30972_4f48_11eb_8b30_525400eaad36row10_col15,#T_75a30972_4f48_11eb_8b30_525400eaad36row15_col10{\n",
       "            background-color:  #c9cee4;\n",
       "            color:  #000000;\n",
       "        }#T_75a30972_4f48_11eb_8b30_525400eaad36row10_col16,#T_75a30972_4f48_11eb_8b30_525400eaad36row16_col10{\n",
       "            background-color:  #056caa;\n",
       "            color:  #f1f1f1;\n",
       "        }#T_75a30972_4f48_11eb_8b30_525400eaad36row11_col14,#T_75a30972_4f48_11eb_8b30_525400eaad36row14_col11{\n",
       "            background-color:  #ced0e6;\n",
       "            color:  #000000;\n",
       "        }#T_75a30972_4f48_11eb_8b30_525400eaad36row11_col15,#T_75a30972_4f48_11eb_8b30_525400eaad36row15_col11{\n",
       "            background-color:  #b4c4df;\n",
       "            color:  #000000;\n",
       "        }#T_75a30972_4f48_11eb_8b30_525400eaad36row11_col16,#T_75a30972_4f48_11eb_8b30_525400eaad36row16_col11{\n",
       "            background-color:  #3d93c2;\n",
       "            color:  #000000;\n",
       "        }#T_75a30972_4f48_11eb_8b30_525400eaad36row12_col13,#T_75a30972_4f48_11eb_8b30_525400eaad36row13_col12{\n",
       "            background-color:  #4897c4;\n",
       "            color:  #000000;\n",
       "        }#T_75a30972_4f48_11eb_8b30_525400eaad36row12_col14,#T_75a30972_4f48_11eb_8b30_525400eaad36row14_col12{\n",
       "            background-color:  #2383ba;\n",
       "            color:  #000000;\n",
       "        }#T_75a30972_4f48_11eb_8b30_525400eaad36row13_col15,#T_75a30972_4f48_11eb_8b30_525400eaad36row15_col13{\n",
       "            background-color:  #5a9ec9;\n",
       "            color:  #000000;\n",
       "        }</style><table id=\"T_75a30972_4f48_11eb_8b30_525400eaad36\" ><thead>    <tr>        <th class=\"blank level0\" ></th>        <th class=\"col_heading level0 col0\" >Rt</th>        <th class=\"col_heading level0 col1\" >theta</th>        <th class=\"col_heading level0 col2\" >kappa</th>        <th class=\"col_heading level0 col3\" >rho</th>        <th class=\"col_heading level0 col4\" >sigma</th>        <th class=\"col_heading level0 col5\" >School_closing</th>        <th class=\"col_heading level0 col6\" >Workplace_closing</th>        <th class=\"col_heading level0 col7\" >Cancel_events</th>        <th class=\"col_heading level0 col8\" >Gatherings_restrictions</th>        <th class=\"col_heading level0 col9\" >Transport_closing</th>        <th class=\"col_heading level0 col10\" >Stay_home_restrictions</th>        <th class=\"col_heading level0 col11\" >Internal_movement_restrictions</th>        <th class=\"col_heading level0 col12\" >International_movement_restrictions</th>        <th class=\"col_heading level0 col13\" >Information_campaigns</th>        <th class=\"col_heading level0 col14\" >Testing_policy</th>        <th class=\"col_heading level0 col15\" >Contact_tracing</th>        <th class=\"col_heading level0 col16\" >Stringency_index</th>    </tr></thead><tbody>\n",
       "                <tr>\n",
       "                        <th id=\"T_75a30972_4f48_11eb_8b30_525400eaad36level0_row0\" class=\"row_heading level0 row0\" >Rt</th>\n",
       "                        <td id=\"T_75a30972_4f48_11eb_8b30_525400eaad36row0_col0\" class=\"data row0 col0\" >1.000000</td>\n",
       "                        <td id=\"T_75a30972_4f48_11eb_8b30_525400eaad36row0_col1\" class=\"data row0 col1\" >-0.153577</td>\n",
       "                        <td id=\"T_75a30972_4f48_11eb_8b30_525400eaad36row0_col2\" class=\"data row0 col2\" >0.298916</td>\n",
       "                        <td id=\"T_75a30972_4f48_11eb_8b30_525400eaad36row0_col3\" class=\"data row0 col3\" >0.597681</td>\n",
       "                        <td id=\"T_75a30972_4f48_11eb_8b30_525400eaad36row0_col4\" class=\"data row0 col4\" >-0.490896</td>\n",
       "                        <td id=\"T_75a30972_4f48_11eb_8b30_525400eaad36row0_col5\" class=\"data row0 col5\" >-0.290304</td>\n",
       "                        <td id=\"T_75a30972_4f48_11eb_8b30_525400eaad36row0_col6\" class=\"data row0 col6\" >-0.309994</td>\n",
       "                        <td id=\"T_75a30972_4f48_11eb_8b30_525400eaad36row0_col7\" class=\"data row0 col7\" >-0.163716</td>\n",
       "                        <td id=\"T_75a30972_4f48_11eb_8b30_525400eaad36row0_col8\" class=\"data row0 col8\" >-0.300343</td>\n",
       "                        <td id=\"T_75a30972_4f48_11eb_8b30_525400eaad36row0_col9\" class=\"data row0 col9\" >-0.189970</td>\n",
       "                        <td id=\"T_75a30972_4f48_11eb_8b30_525400eaad36row0_col10\" class=\"data row0 col10\" >-0.221845</td>\n",
       "                        <td id=\"T_75a30972_4f48_11eb_8b30_525400eaad36row0_col11\" class=\"data row0 col11\" >-0.227569</td>\n",
       "                        <td id=\"T_75a30972_4f48_11eb_8b30_525400eaad36row0_col12\" class=\"data row0 col12\" >-0.334305</td>\n",
       "                        <td id=\"T_75a30972_4f48_11eb_8b30_525400eaad36row0_col13\" class=\"data row0 col13\" >-0.250631</td>\n",
       "                        <td id=\"T_75a30972_4f48_11eb_8b30_525400eaad36row0_col14\" class=\"data row0 col14\" >-0.351479</td>\n",
       "                        <td id=\"T_75a30972_4f48_11eb_8b30_525400eaad36row0_col15\" class=\"data row0 col15\" >-0.212551</td>\n",
       "                        <td id=\"T_75a30972_4f48_11eb_8b30_525400eaad36row0_col16\" class=\"data row0 col16\" >-0.314092</td>\n",
       "            </tr>\n",
       "            <tr>\n",
       "                        <th id=\"T_75a30972_4f48_11eb_8b30_525400eaad36level0_row1\" class=\"row_heading level0 row1\" >theta</th>\n",
       "                        <td id=\"T_75a30972_4f48_11eb_8b30_525400eaad36row1_col0\" class=\"data row1 col0\" >-0.153577</td>\n",
       "                        <td id=\"T_75a30972_4f48_11eb_8b30_525400eaad36row1_col1\" class=\"data row1 col1\" >1.000000</td>\n",
       "                        <td id=\"T_75a30972_4f48_11eb_8b30_525400eaad36row1_col2\" class=\"data row1 col2\" >-0.049959</td>\n",
       "                        <td id=\"T_75a30972_4f48_11eb_8b30_525400eaad36row1_col3\" class=\"data row1 col3\" >-0.303119</td>\n",
       "                        <td id=\"T_75a30972_4f48_11eb_8b30_525400eaad36row1_col4\" class=\"data row1 col4\" >-0.103217</td>\n",
       "                        <td id=\"T_75a30972_4f48_11eb_8b30_525400eaad36row1_col5\" class=\"data row1 col5\" >0.344642</td>\n",
       "                        <td id=\"T_75a30972_4f48_11eb_8b30_525400eaad36row1_col6\" class=\"data row1 col6\" >0.249255</td>\n",
       "                        <td id=\"T_75a30972_4f48_11eb_8b30_525400eaad36row1_col7\" class=\"data row1 col7\" >-0.067569</td>\n",
       "                        <td id=\"T_75a30972_4f48_11eb_8b30_525400eaad36row1_col8\" class=\"data row1 col8\" >0.071306</td>\n",
       "                        <td id=\"T_75a30972_4f48_11eb_8b30_525400eaad36row1_col9\" class=\"data row1 col9\" >0.105243</td>\n",
       "                        <td id=\"T_75a30972_4f48_11eb_8b30_525400eaad36row1_col10\" class=\"data row1 col10\" >0.224461</td>\n",
       "                        <td id=\"T_75a30972_4f48_11eb_8b30_525400eaad36row1_col11\" class=\"data row1 col11\" >0.106183</td>\n",
       "                        <td id=\"T_75a30972_4f48_11eb_8b30_525400eaad36row1_col12\" class=\"data row1 col12\" >0.067776</td>\n",
       "                        <td id=\"T_75a30972_4f48_11eb_8b30_525400eaad36row1_col13\" class=\"data row1 col13\" >0.090154</td>\n",
       "                        <td id=\"T_75a30972_4f48_11eb_8b30_525400eaad36row1_col14\" class=\"data row1 col14\" >-0.057007</td>\n",
       "                        <td id=\"T_75a30972_4f48_11eb_8b30_525400eaad36row1_col15\" class=\"data row1 col15\" >-0.070440</td>\n",
       "                        <td id=\"T_75a30972_4f48_11eb_8b30_525400eaad36row1_col16\" class=\"data row1 col16\" >0.248955</td>\n",
       "            </tr>\n",
       "            <tr>\n",
       "                        <th id=\"T_75a30972_4f48_11eb_8b30_525400eaad36level0_row2\" class=\"row_heading level0 row2\" >kappa</th>\n",
       "                        <td id=\"T_75a30972_4f48_11eb_8b30_525400eaad36row2_col0\" class=\"data row2 col0\" >0.298916</td>\n",
       "                        <td id=\"T_75a30972_4f48_11eb_8b30_525400eaad36row2_col1\" class=\"data row2 col1\" >-0.049959</td>\n",
       "                        <td id=\"T_75a30972_4f48_11eb_8b30_525400eaad36row2_col2\" class=\"data row2 col2\" >1.000000</td>\n",
       "                        <td id=\"T_75a30972_4f48_11eb_8b30_525400eaad36row2_col3\" class=\"data row2 col3\" >0.499255</td>\n",
       "                        <td id=\"T_75a30972_4f48_11eb_8b30_525400eaad36row2_col4\" class=\"data row2 col4\" >-0.197807</td>\n",
       "                        <td id=\"T_75a30972_4f48_11eb_8b30_525400eaad36row2_col5\" class=\"data row2 col5\" >-0.042836</td>\n",
       "                        <td id=\"T_75a30972_4f48_11eb_8b30_525400eaad36row2_col6\" class=\"data row2 col6\" >0.040965</td>\n",
       "                        <td id=\"T_75a30972_4f48_11eb_8b30_525400eaad36row2_col7\" class=\"data row2 col7\" >-0.179633</td>\n",
       "                        <td id=\"T_75a30972_4f48_11eb_8b30_525400eaad36row2_col8\" class=\"data row2 col8\" >-0.150746</td>\n",
       "                        <td id=\"T_75a30972_4f48_11eb_8b30_525400eaad36row2_col9\" class=\"data row2 col9\" >0.056984</td>\n",
       "                        <td id=\"T_75a30972_4f48_11eb_8b30_525400eaad36row2_col10\" class=\"data row2 col10\" >-0.049072</td>\n",
       "                        <td id=\"T_75a30972_4f48_11eb_8b30_525400eaad36row2_col11\" class=\"data row2 col11\" >-0.073910</td>\n",
       "                        <td id=\"T_75a30972_4f48_11eb_8b30_525400eaad36row2_col12\" class=\"data row2 col12\" >-0.384949</td>\n",
       "                        <td id=\"T_75a30972_4f48_11eb_8b30_525400eaad36row2_col13\" class=\"data row2 col13\" >-0.049724</td>\n",
       "                        <td id=\"T_75a30972_4f48_11eb_8b30_525400eaad36row2_col14\" class=\"data row2 col14\" >-0.355481</td>\n",
       "                        <td id=\"T_75a30972_4f48_11eb_8b30_525400eaad36row2_col15\" class=\"data row2 col15\" >-0.330989</td>\n",
       "                        <td id=\"T_75a30972_4f48_11eb_8b30_525400eaad36row2_col16\" class=\"data row2 col16\" >-0.035130</td>\n",
       "            </tr>\n",
       "            <tr>\n",
       "                        <th id=\"T_75a30972_4f48_11eb_8b30_525400eaad36level0_row3\" class=\"row_heading level0 row3\" >rho</th>\n",
       "                        <td id=\"T_75a30972_4f48_11eb_8b30_525400eaad36row3_col0\" class=\"data row3 col0\" >0.597681</td>\n",
       "                        <td id=\"T_75a30972_4f48_11eb_8b30_525400eaad36row3_col1\" class=\"data row3 col1\" >-0.303119</td>\n",
       "                        <td id=\"T_75a30972_4f48_11eb_8b30_525400eaad36row3_col2\" class=\"data row3 col2\" >0.499255</td>\n",
       "                        <td id=\"T_75a30972_4f48_11eb_8b30_525400eaad36row3_col3\" class=\"data row3 col3\" >1.000000</td>\n",
       "                        <td id=\"T_75a30972_4f48_11eb_8b30_525400eaad36row3_col4\" class=\"data row3 col4\" >-0.269272</td>\n",
       "                        <td id=\"T_75a30972_4f48_11eb_8b30_525400eaad36row3_col5\" class=\"data row3 col5\" >-0.255991</td>\n",
       "                        <td id=\"T_75a30972_4f48_11eb_8b30_525400eaad36row3_col6\" class=\"data row3 col6\" >-0.244708</td>\n",
       "                        <td id=\"T_75a30972_4f48_11eb_8b30_525400eaad36row3_col7\" class=\"data row3 col7\" >-0.266649</td>\n",
       "                        <td id=\"T_75a30972_4f48_11eb_8b30_525400eaad36row3_col8\" class=\"data row3 col8\" >-0.275491</td>\n",
       "                        <td id=\"T_75a30972_4f48_11eb_8b30_525400eaad36row3_col9\" class=\"data row3 col9\" >-0.255070</td>\n",
       "                        <td id=\"T_75a30972_4f48_11eb_8b30_525400eaad36row3_col10\" class=\"data row3 col10\" >-0.230872</td>\n",
       "                        <td id=\"T_75a30972_4f48_11eb_8b30_525400eaad36row3_col11\" class=\"data row3 col11\" >-0.263401</td>\n",
       "                        <td id=\"T_75a30972_4f48_11eb_8b30_525400eaad36row3_col12\" class=\"data row3 col12\" >-0.362341</td>\n",
       "                        <td id=\"T_75a30972_4f48_11eb_8b30_525400eaad36row3_col13\" class=\"data row3 col13\" >-0.117968</td>\n",
       "                        <td id=\"T_75a30972_4f48_11eb_8b30_525400eaad36row3_col14\" class=\"data row3 col14\" >-0.259346</td>\n",
       "                        <td id=\"T_75a30972_4f48_11eb_8b30_525400eaad36row3_col15\" class=\"data row3 col15\" >-0.177520</td>\n",
       "                        <td id=\"T_75a30972_4f48_11eb_8b30_525400eaad36row3_col16\" class=\"data row3 col16\" >-0.193817</td>\n",
       "            </tr>\n",
       "            <tr>\n",
       "                        <th id=\"T_75a30972_4f48_11eb_8b30_525400eaad36level0_row4\" class=\"row_heading level0 row4\" >sigma</th>\n",
       "                        <td id=\"T_75a30972_4f48_11eb_8b30_525400eaad36row4_col0\" class=\"data row4 col0\" >-0.490896</td>\n",
       "                        <td id=\"T_75a30972_4f48_11eb_8b30_525400eaad36row4_col1\" class=\"data row4 col1\" >-0.103217</td>\n",
       "                        <td id=\"T_75a30972_4f48_11eb_8b30_525400eaad36row4_col2\" class=\"data row4 col2\" >-0.197807</td>\n",
       "                        <td id=\"T_75a30972_4f48_11eb_8b30_525400eaad36row4_col3\" class=\"data row4 col3\" >-0.269272</td>\n",
       "                        <td id=\"T_75a30972_4f48_11eb_8b30_525400eaad36row4_col4\" class=\"data row4 col4\" >1.000000</td>\n",
       "                        <td id=\"T_75a30972_4f48_11eb_8b30_525400eaad36row4_col5\" class=\"data row4 col5\" >0.248585</td>\n",
       "                        <td id=\"T_75a30972_4f48_11eb_8b30_525400eaad36row4_col6\" class=\"data row4 col6\" >0.186051</td>\n",
       "                        <td id=\"T_75a30972_4f48_11eb_8b30_525400eaad36row4_col7\" class=\"data row4 col7\" >0.144590</td>\n",
       "                        <td id=\"T_75a30972_4f48_11eb_8b30_525400eaad36row4_col8\" class=\"data row4 col8\" >0.313996</td>\n",
       "                        <td id=\"T_75a30972_4f48_11eb_8b30_525400eaad36row4_col9\" class=\"data row4 col9\" >-0.077014</td>\n",
       "                        <td id=\"T_75a30972_4f48_11eb_8b30_525400eaad36row4_col10\" class=\"data row4 col10\" >-0.040218</td>\n",
       "                        <td id=\"T_75a30972_4f48_11eb_8b30_525400eaad36row4_col11\" class=\"data row4 col11\" >0.020713</td>\n",
       "                        <td id=\"T_75a30972_4f48_11eb_8b30_525400eaad36row4_col12\" class=\"data row4 col12\" >0.173237</td>\n",
       "                        <td id=\"T_75a30972_4f48_11eb_8b30_525400eaad36row4_col13\" class=\"data row4 col13\" >0.231113</td>\n",
       "                        <td id=\"T_75a30972_4f48_11eb_8b30_525400eaad36row4_col14\" class=\"data row4 col14\" >0.241321</td>\n",
       "                        <td id=\"T_75a30972_4f48_11eb_8b30_525400eaad36row4_col15\" class=\"data row4 col15\" >0.171761</td>\n",
       "                        <td id=\"T_75a30972_4f48_11eb_8b30_525400eaad36row4_col16\" class=\"data row4 col16\" >0.198444</td>\n",
       "            </tr>\n",
       "            <tr>\n",
       "                        <th id=\"T_75a30972_4f48_11eb_8b30_525400eaad36level0_row5\" class=\"row_heading level0 row5\" >School_closing</th>\n",
       "                        <td id=\"T_75a30972_4f48_11eb_8b30_525400eaad36row5_col0\" class=\"data row5 col0\" >-0.290304</td>\n",
       "                        <td id=\"T_75a30972_4f48_11eb_8b30_525400eaad36row5_col1\" class=\"data row5 col1\" >0.344642</td>\n",
       "                        <td id=\"T_75a30972_4f48_11eb_8b30_525400eaad36row5_col2\" class=\"data row5 col2\" >-0.042836</td>\n",
       "                        <td id=\"T_75a30972_4f48_11eb_8b30_525400eaad36row5_col3\" class=\"data row5 col3\" >-0.255991</td>\n",
       "                        <td id=\"T_75a30972_4f48_11eb_8b30_525400eaad36row5_col4\" class=\"data row5 col4\" >0.248585</td>\n",
       "                        <td id=\"T_75a30972_4f48_11eb_8b30_525400eaad36row5_col5\" class=\"data row5 col5\" >1.000000</td>\n",
       "                        <td id=\"T_75a30972_4f48_11eb_8b30_525400eaad36row5_col6\" class=\"data row5 col6\" >0.371149</td>\n",
       "                        <td id=\"T_75a30972_4f48_11eb_8b30_525400eaad36row5_col7\" class=\"data row5 col7\" >0.105732</td>\n",
       "                        <td id=\"T_75a30972_4f48_11eb_8b30_525400eaad36row5_col8\" class=\"data row5 col8\" >0.134850</td>\n",
       "                        <td id=\"T_75a30972_4f48_11eb_8b30_525400eaad36row5_col9\" class=\"data row5 col9\" >0.074296</td>\n",
       "                        <td id=\"T_75a30972_4f48_11eb_8b30_525400eaad36row5_col10\" class=\"data row5 col10\" >0.349580</td>\n",
       "                        <td id=\"T_75a30972_4f48_11eb_8b30_525400eaad36row5_col11\" class=\"data row5 col11\" >0.197585</td>\n",
       "                        <td id=\"T_75a30972_4f48_11eb_8b30_525400eaad36row5_col12\" class=\"data row5 col12\" >0.234978</td>\n",
       "                        <td id=\"T_75a30972_4f48_11eb_8b30_525400eaad36row5_col13\" class=\"data row5 col13\" >0.307170</td>\n",
       "                        <td id=\"T_75a30972_4f48_11eb_8b30_525400eaad36row5_col14\" class=\"data row5 col14\" >0.147365</td>\n",
       "                        <td id=\"T_75a30972_4f48_11eb_8b30_525400eaad36row5_col15\" class=\"data row5 col15\" >0.079281</td>\n",
       "                        <td id=\"T_75a30972_4f48_11eb_8b30_525400eaad36row5_col16\" class=\"data row5 col16\" >0.439459</td>\n",
       "            </tr>\n",
       "            <tr>\n",
       "                        <th id=\"T_75a30972_4f48_11eb_8b30_525400eaad36level0_row6\" class=\"row_heading level0 row6\" >Workplace_closing</th>\n",
       "                        <td id=\"T_75a30972_4f48_11eb_8b30_525400eaad36row6_col0\" class=\"data row6 col0\" >-0.309994</td>\n",
       "                        <td id=\"T_75a30972_4f48_11eb_8b30_525400eaad36row6_col1\" class=\"data row6 col1\" >0.249255</td>\n",
       "                        <td id=\"T_75a30972_4f48_11eb_8b30_525400eaad36row6_col2\" class=\"data row6 col2\" >0.040965</td>\n",
       "                        <td id=\"T_75a30972_4f48_11eb_8b30_525400eaad36row6_col3\" class=\"data row6 col3\" >-0.244708</td>\n",
       "                        <td id=\"T_75a30972_4f48_11eb_8b30_525400eaad36row6_col4\" class=\"data row6 col4\" >0.186051</td>\n",
       "                        <td id=\"T_75a30972_4f48_11eb_8b30_525400eaad36row6_col5\" class=\"data row6 col5\" >0.371149</td>\n",
       "                        <td id=\"T_75a30972_4f48_11eb_8b30_525400eaad36row6_col6\" class=\"data row6 col6\" >1.000000</td>\n",
       "                        <td id=\"T_75a30972_4f48_11eb_8b30_525400eaad36row6_col7\" class=\"data row6 col7\" >0.278791</td>\n",
       "                        <td id=\"T_75a30972_4f48_11eb_8b30_525400eaad36row6_col8\" class=\"data row6 col8\" >0.716028</td>\n",
       "                        <td id=\"T_75a30972_4f48_11eb_8b30_525400eaad36row6_col9\" class=\"data row6 col9\" >0.259095</td>\n",
       "                        <td id=\"T_75a30972_4f48_11eb_8b30_525400eaad36row6_col10\" class=\"data row6 col10\" >0.613168</td>\n",
       "                        <td id=\"T_75a30972_4f48_11eb_8b30_525400eaad36row6_col11\" class=\"data row6 col11\" >0.381377</td>\n",
       "                        <td id=\"T_75a30972_4f48_11eb_8b30_525400eaad36row6_col12\" class=\"data row6 col12\" >0.250215</td>\n",
       "                        <td id=\"T_75a30972_4f48_11eb_8b30_525400eaad36row6_col13\" class=\"data row6 col13\" >0.382356</td>\n",
       "                        <td id=\"T_75a30972_4f48_11eb_8b30_525400eaad36row6_col14\" class=\"data row6 col14\" >0.084964</td>\n",
       "                        <td id=\"T_75a30972_4f48_11eb_8b30_525400eaad36row6_col15\" class=\"data row6 col15\" >-0.146832</td>\n",
       "                        <td id=\"T_75a30972_4f48_11eb_8b30_525400eaad36row6_col16\" class=\"data row6 col16\" >0.785238</td>\n",
       "            </tr>\n",
       "            <tr>\n",
       "                        <th id=\"T_75a30972_4f48_11eb_8b30_525400eaad36level0_row7\" class=\"row_heading level0 row7\" >Cancel_events</th>\n",
       "                        <td id=\"T_75a30972_4f48_11eb_8b30_525400eaad36row7_col0\" class=\"data row7 col0\" >-0.163716</td>\n",
       "                        <td id=\"T_75a30972_4f48_11eb_8b30_525400eaad36row7_col1\" class=\"data row7 col1\" >-0.067569</td>\n",
       "                        <td id=\"T_75a30972_4f48_11eb_8b30_525400eaad36row7_col2\" class=\"data row7 col2\" >-0.179633</td>\n",
       "                        <td id=\"T_75a30972_4f48_11eb_8b30_525400eaad36row7_col3\" class=\"data row7 col3\" >-0.266649</td>\n",
       "                        <td id=\"T_75a30972_4f48_11eb_8b30_525400eaad36row7_col4\" class=\"data row7 col4\" >0.144590</td>\n",
       "                        <td id=\"T_75a30972_4f48_11eb_8b30_525400eaad36row7_col5\" class=\"data row7 col5\" >0.105732</td>\n",
       "                        <td id=\"T_75a30972_4f48_11eb_8b30_525400eaad36row7_col6\" class=\"data row7 col6\" >0.278791</td>\n",
       "                        <td id=\"T_75a30972_4f48_11eb_8b30_525400eaad36row7_col7\" class=\"data row7 col7\" >1.000000</td>\n",
       "                        <td id=\"T_75a30972_4f48_11eb_8b30_525400eaad36row7_col8\" class=\"data row7 col8\" >0.374204</td>\n",
       "                        <td id=\"T_75a30972_4f48_11eb_8b30_525400eaad36row7_col9\" class=\"data row7 col9\" >0.359205</td>\n",
       "                        <td id=\"T_75a30972_4f48_11eb_8b30_525400eaad36row7_col10\" class=\"data row7 col10\" >0.358948</td>\n",
       "                        <td id=\"T_75a30972_4f48_11eb_8b30_525400eaad36row7_col11\" class=\"data row7 col11\" >0.668867</td>\n",
       "                        <td id=\"T_75a30972_4f48_11eb_8b30_525400eaad36row7_col12\" class=\"data row7 col12\" >0.064897</td>\n",
       "                        <td id=\"T_75a30972_4f48_11eb_8b30_525400eaad36row7_col13\" class=\"data row7 col13\" >0.355034</td>\n",
       "                        <td id=\"T_75a30972_4f48_11eb_8b30_525400eaad36row7_col14\" class=\"data row7 col14\" >-0.029387</td>\n",
       "                        <td id=\"T_75a30972_4f48_11eb_8b30_525400eaad36row7_col15\" class=\"data row7 col15\" >0.103364</td>\n",
       "                        <td id=\"T_75a30972_4f48_11eb_8b30_525400eaad36row7_col16\" class=\"data row7 col16\" >0.313610</td>\n",
       "            </tr>\n",
       "            <tr>\n",
       "                        <th id=\"T_75a30972_4f48_11eb_8b30_525400eaad36level0_row8\" class=\"row_heading level0 row8\" >Gatherings_restrictions</th>\n",
       "                        <td id=\"T_75a30972_4f48_11eb_8b30_525400eaad36row8_col0\" class=\"data row8 col0\" >-0.300343</td>\n",
       "                        <td id=\"T_75a30972_4f48_11eb_8b30_525400eaad36row8_col1\" class=\"data row8 col1\" >0.071306</td>\n",
       "                        <td id=\"T_75a30972_4f48_11eb_8b30_525400eaad36row8_col2\" class=\"data row8 col2\" >-0.150746</td>\n",
       "                        <td id=\"T_75a30972_4f48_11eb_8b30_525400eaad36row8_col3\" class=\"data row8 col3\" >-0.275491</td>\n",
       "                        <td id=\"T_75a30972_4f48_11eb_8b30_525400eaad36row8_col4\" class=\"data row8 col4\" >0.313996</td>\n",
       "                        <td id=\"T_75a30972_4f48_11eb_8b30_525400eaad36row8_col5\" class=\"data row8 col5\" >0.134850</td>\n",
       "                        <td id=\"T_75a30972_4f48_11eb_8b30_525400eaad36row8_col6\" class=\"data row8 col6\" >0.716028</td>\n",
       "                        <td id=\"T_75a30972_4f48_11eb_8b30_525400eaad36row8_col7\" class=\"data row8 col7\" >0.374204</td>\n",
       "                        <td id=\"T_75a30972_4f48_11eb_8b30_525400eaad36row8_col8\" class=\"data row8 col8\" >1.000000</td>\n",
       "                        <td id=\"T_75a30972_4f48_11eb_8b30_525400eaad36row8_col9\" class=\"data row8 col9\" >0.210024</td>\n",
       "                        <td id=\"T_75a30972_4f48_11eb_8b30_525400eaad36row8_col10\" class=\"data row8 col10\" >0.471162</td>\n",
       "                        <td id=\"T_75a30972_4f48_11eb_8b30_525400eaad36row8_col11\" class=\"data row8 col11\" >0.408034</td>\n",
       "                        <td id=\"T_75a30972_4f48_11eb_8b30_525400eaad36row8_col12\" class=\"data row8 col12\" >0.234356</td>\n",
       "                        <td id=\"T_75a30972_4f48_11eb_8b30_525400eaad36row8_col13\" class=\"data row8 col13\" >0.372314</td>\n",
       "                        <td id=\"T_75a30972_4f48_11eb_8b30_525400eaad36row8_col14\" class=\"data row8 col14\" >0.164492</td>\n",
       "                        <td id=\"T_75a30972_4f48_11eb_8b30_525400eaad36row8_col15\" class=\"data row8 col15\" >-0.046210</td>\n",
       "                        <td id=\"T_75a30972_4f48_11eb_8b30_525400eaad36row8_col16\" class=\"data row8 col16\" >0.754995</td>\n",
       "            </tr>\n",
       "            <tr>\n",
       "                        <th id=\"T_75a30972_4f48_11eb_8b30_525400eaad36level0_row9\" class=\"row_heading level0 row9\" >Transport_closing</th>\n",
       "                        <td id=\"T_75a30972_4f48_11eb_8b30_525400eaad36row9_col0\" class=\"data row9 col0\" >-0.189970</td>\n",
       "                        <td id=\"T_75a30972_4f48_11eb_8b30_525400eaad36row9_col1\" class=\"data row9 col1\" >0.105243</td>\n",
       "                        <td id=\"T_75a30972_4f48_11eb_8b30_525400eaad36row9_col2\" class=\"data row9 col2\" >0.056984</td>\n",
       "                        <td id=\"T_75a30972_4f48_11eb_8b30_525400eaad36row9_col3\" class=\"data row9 col3\" >-0.255070</td>\n",
       "                        <td id=\"T_75a30972_4f48_11eb_8b30_525400eaad36row9_col4\" class=\"data row9 col4\" >-0.077014</td>\n",
       "                        <td id=\"T_75a30972_4f48_11eb_8b30_525400eaad36row9_col5\" class=\"data row9 col5\" >0.074296</td>\n",
       "                        <td id=\"T_75a30972_4f48_11eb_8b30_525400eaad36row9_col6\" class=\"data row9 col6\" >0.259095</td>\n",
       "                        <td id=\"T_75a30972_4f48_11eb_8b30_525400eaad36row9_col7\" class=\"data row9 col7\" >0.359205</td>\n",
       "                        <td id=\"T_75a30972_4f48_11eb_8b30_525400eaad36row9_col8\" class=\"data row9 col8\" >0.210024</td>\n",
       "                        <td id=\"T_75a30972_4f48_11eb_8b30_525400eaad36row9_col9\" class=\"data row9 col9\" >1.000000</td>\n",
       "                        <td id=\"T_75a30972_4f48_11eb_8b30_525400eaad36row9_col10\" class=\"data row9 col10\" >0.293507</td>\n",
       "                        <td id=\"T_75a30972_4f48_11eb_8b30_525400eaad36row9_col11\" class=\"data row9 col11\" >0.608203</td>\n",
       "                        <td id=\"T_75a30972_4f48_11eb_8b30_525400eaad36row9_col12\" class=\"data row9 col12\" >-0.174485</td>\n",
       "                        <td id=\"T_75a30972_4f48_11eb_8b30_525400eaad36row9_col13\" class=\"data row9 col13\" >0.129649</td>\n",
       "                        <td id=\"T_75a30972_4f48_11eb_8b30_525400eaad36row9_col14\" class=\"data row9 col14\" >-0.124262</td>\n",
       "                        <td id=\"T_75a30972_4f48_11eb_8b30_525400eaad36row9_col15\" class=\"data row9 col15\" >-0.009909</td>\n",
       "                        <td id=\"T_75a30972_4f48_11eb_8b30_525400eaad36row9_col16\" class=\"data row9 col16\" >0.302318</td>\n",
       "            </tr>\n",
       "            <tr>\n",
       "                        <th id=\"T_75a30972_4f48_11eb_8b30_525400eaad36level0_row10\" class=\"row_heading level0 row10\" >Stay_home_restrictions</th>\n",
       "                        <td id=\"T_75a30972_4f48_11eb_8b30_525400eaad36row10_col0\" class=\"data row10 col0\" >-0.221845</td>\n",
       "                        <td id=\"T_75a30972_4f48_11eb_8b30_525400eaad36row10_col1\" class=\"data row10 col1\" >0.224461</td>\n",
       "                        <td id=\"T_75a30972_4f48_11eb_8b30_525400eaad36row10_col2\" class=\"data row10 col2\" >-0.049072</td>\n",
       "                        <td id=\"T_75a30972_4f48_11eb_8b30_525400eaad36row10_col3\" class=\"data row10 col3\" >-0.230872</td>\n",
       "                        <td id=\"T_75a30972_4f48_11eb_8b30_525400eaad36row10_col4\" class=\"data row10 col4\" >-0.040218</td>\n",
       "                        <td id=\"T_75a30972_4f48_11eb_8b30_525400eaad36row10_col5\" class=\"data row10 col5\" >0.349580</td>\n",
       "                        <td id=\"T_75a30972_4f48_11eb_8b30_525400eaad36row10_col6\" class=\"data row10 col6\" >0.613168</td>\n",
       "                        <td id=\"T_75a30972_4f48_11eb_8b30_525400eaad36row10_col7\" class=\"data row10 col7\" >0.358948</td>\n",
       "                        <td id=\"T_75a30972_4f48_11eb_8b30_525400eaad36row10_col8\" class=\"data row10 col8\" >0.471162</td>\n",
       "                        <td id=\"T_75a30972_4f48_11eb_8b30_525400eaad36row10_col9\" class=\"data row10 col9\" >0.293507</td>\n",
       "                        <td id=\"T_75a30972_4f48_11eb_8b30_525400eaad36row10_col10\" class=\"data row10 col10\" >1.000000</td>\n",
       "                        <td id=\"T_75a30972_4f48_11eb_8b30_525400eaad36row10_col11\" class=\"data row10 col11\" >0.507667</td>\n",
       "                        <td id=\"T_75a30972_4f48_11eb_8b30_525400eaad36row10_col12\" class=\"data row10 col12\" >0.190377</td>\n",
       "                        <td id=\"T_75a30972_4f48_11eb_8b30_525400eaad36row10_col13\" class=\"data row10 col13\" >0.302737</td>\n",
       "                        <td id=\"T_75a30972_4f48_11eb_8b30_525400eaad36row10_col14\" class=\"data row10 col14\" >0.113394</td>\n",
       "                        <td id=\"T_75a30972_4f48_11eb_8b30_525400eaad36row10_col15\" class=\"data row10 col15\" >-0.084627</td>\n",
       "                        <td id=\"T_75a30972_4f48_11eb_8b30_525400eaad36row10_col16\" class=\"data row10 col16\" >0.659094</td>\n",
       "            </tr>\n",
       "            <tr>\n",
       "                        <th id=\"T_75a30972_4f48_11eb_8b30_525400eaad36level0_row11\" class=\"row_heading level0 row11\" >Internal_movement_restrictions</th>\n",
       "                        <td id=\"T_75a30972_4f48_11eb_8b30_525400eaad36row11_col0\" class=\"data row11 col0\" >-0.227569</td>\n",
       "                        <td id=\"T_75a30972_4f48_11eb_8b30_525400eaad36row11_col1\" class=\"data row11 col1\" >0.106183</td>\n",
       "                        <td id=\"T_75a30972_4f48_11eb_8b30_525400eaad36row11_col2\" class=\"data row11 col2\" >-0.073910</td>\n",
       "                        <td id=\"T_75a30972_4f48_11eb_8b30_525400eaad36row11_col3\" class=\"data row11 col3\" >-0.263401</td>\n",
       "                        <td id=\"T_75a30972_4f48_11eb_8b30_525400eaad36row11_col4\" class=\"data row11 col4\" >0.020713</td>\n",
       "                        <td id=\"T_75a30972_4f48_11eb_8b30_525400eaad36row11_col5\" class=\"data row11 col5\" >0.197585</td>\n",
       "                        <td id=\"T_75a30972_4f48_11eb_8b30_525400eaad36row11_col6\" class=\"data row11 col6\" >0.381377</td>\n",
       "                        <td id=\"T_75a30972_4f48_11eb_8b30_525400eaad36row11_col7\" class=\"data row11 col7\" >0.668867</td>\n",
       "                        <td id=\"T_75a30972_4f48_11eb_8b30_525400eaad36row11_col8\" class=\"data row11 col8\" >0.408034</td>\n",
       "                        <td id=\"T_75a30972_4f48_11eb_8b30_525400eaad36row11_col9\" class=\"data row11 col9\" >0.608203</td>\n",
       "                        <td id=\"T_75a30972_4f48_11eb_8b30_525400eaad36row11_col10\" class=\"data row11 col10\" >0.507667</td>\n",
       "                        <td id=\"T_75a30972_4f48_11eb_8b30_525400eaad36row11_col11\" class=\"data row11 col11\" >1.000000</td>\n",
       "                        <td id=\"T_75a30972_4f48_11eb_8b30_525400eaad36row11_col12\" class=\"data row11 col12\" >-0.104432</td>\n",
       "                        <td id=\"T_75a30972_4f48_11eb_8b30_525400eaad36row11_col13\" class=\"data row11 col13\" >0.238694</td>\n",
       "                        <td id=\"T_75a30972_4f48_11eb_8b30_525400eaad36row11_col14\" class=\"data row11 col14\" >-0.110745</td>\n",
       "                        <td id=\"T_75a30972_4f48_11eb_8b30_525400eaad36row11_col15\" class=\"data row11 col15\" >0.008960</td>\n",
       "                        <td id=\"T_75a30972_4f48_11eb_8b30_525400eaad36row11_col16\" class=\"data row11 col16\" >0.421776</td>\n",
       "            </tr>\n",
       "            <tr>\n",
       "                        <th id=\"T_75a30972_4f48_11eb_8b30_525400eaad36level0_row12\" class=\"row_heading level0 row12\" >International_movement_restrictions</th>\n",
       "                        <td id=\"T_75a30972_4f48_11eb_8b30_525400eaad36row12_col0\" class=\"data row12 col0\" >-0.334305</td>\n",
       "                        <td id=\"T_75a30972_4f48_11eb_8b30_525400eaad36row12_col1\" class=\"data row12 col1\" >0.067776</td>\n",
       "                        <td id=\"T_75a30972_4f48_11eb_8b30_525400eaad36row12_col2\" class=\"data row12 col2\" >-0.384949</td>\n",
       "                        <td id=\"T_75a30972_4f48_11eb_8b30_525400eaad36row12_col3\" class=\"data row12 col3\" >-0.362341</td>\n",
       "                        <td id=\"T_75a30972_4f48_11eb_8b30_525400eaad36row12_col4\" class=\"data row12 col4\" >0.173237</td>\n",
       "                        <td id=\"T_75a30972_4f48_11eb_8b30_525400eaad36row12_col5\" class=\"data row12 col5\" >0.234978</td>\n",
       "                        <td id=\"T_75a30972_4f48_11eb_8b30_525400eaad36row12_col6\" class=\"data row12 col6\" >0.250215</td>\n",
       "                        <td id=\"T_75a30972_4f48_11eb_8b30_525400eaad36row12_col7\" class=\"data row12 col7\" >0.064897</td>\n",
       "                        <td id=\"T_75a30972_4f48_11eb_8b30_525400eaad36row12_col8\" class=\"data row12 col8\" >0.234356</td>\n",
       "                        <td id=\"T_75a30972_4f48_11eb_8b30_525400eaad36row12_col9\" class=\"data row12 col9\" >-0.174485</td>\n",
       "                        <td id=\"T_75a30972_4f48_11eb_8b30_525400eaad36row12_col10\" class=\"data row12 col10\" >0.190377</td>\n",
       "                        <td id=\"T_75a30972_4f48_11eb_8b30_525400eaad36row12_col11\" class=\"data row12 col11\" >-0.104432</td>\n",
       "                        <td id=\"T_75a30972_4f48_11eb_8b30_525400eaad36row12_col12\" class=\"data row12 col12\" >1.000000</td>\n",
       "                        <td id=\"T_75a30972_4f48_11eb_8b30_525400eaad36row12_col13\" class=\"data row12 col13\" >0.388185</td>\n",
       "                        <td id=\"T_75a30972_4f48_11eb_8b30_525400eaad36row12_col14\" class=\"data row12 col14\" >0.515825</td>\n",
       "                        <td id=\"T_75a30972_4f48_11eb_8b30_525400eaad36row12_col15\" class=\"data row12 col15\" >0.318523</td>\n",
       "                        <td id=\"T_75a30972_4f48_11eb_8b30_525400eaad36row12_col16\" class=\"data row12 col16\" >0.344734</td>\n",
       "            </tr>\n",
       "            <tr>\n",
       "                        <th id=\"T_75a30972_4f48_11eb_8b30_525400eaad36level0_row13\" class=\"row_heading level0 row13\" >Information_campaigns</th>\n",
       "                        <td id=\"T_75a30972_4f48_11eb_8b30_525400eaad36row13_col0\" class=\"data row13 col0\" >-0.250631</td>\n",
       "                        <td id=\"T_75a30972_4f48_11eb_8b30_525400eaad36row13_col1\" class=\"data row13 col1\" >0.090154</td>\n",
       "                        <td id=\"T_75a30972_4f48_11eb_8b30_525400eaad36row13_col2\" class=\"data row13 col2\" >-0.049724</td>\n",
       "                        <td id=\"T_75a30972_4f48_11eb_8b30_525400eaad36row13_col3\" class=\"data row13 col3\" >-0.117968</td>\n",
       "                        <td id=\"T_75a30972_4f48_11eb_8b30_525400eaad36row13_col4\" class=\"data row13 col4\" >0.231113</td>\n",
       "                        <td id=\"T_75a30972_4f48_11eb_8b30_525400eaad36row13_col5\" class=\"data row13 col5\" >0.307170</td>\n",
       "                        <td id=\"T_75a30972_4f48_11eb_8b30_525400eaad36row13_col6\" class=\"data row13 col6\" >0.382356</td>\n",
       "                        <td id=\"T_75a30972_4f48_11eb_8b30_525400eaad36row13_col7\" class=\"data row13 col7\" >0.355034</td>\n",
       "                        <td id=\"T_75a30972_4f48_11eb_8b30_525400eaad36row13_col8\" class=\"data row13 col8\" >0.372314</td>\n",
       "                        <td id=\"T_75a30972_4f48_11eb_8b30_525400eaad36row13_col9\" class=\"data row13 col9\" >0.129649</td>\n",
       "                        <td id=\"T_75a30972_4f48_11eb_8b30_525400eaad36row13_col10\" class=\"data row13 col10\" >0.302737</td>\n",
       "                        <td id=\"T_75a30972_4f48_11eb_8b30_525400eaad36row13_col11\" class=\"data row13 col11\" >0.238694</td>\n",
       "                        <td id=\"T_75a30972_4f48_11eb_8b30_525400eaad36row13_col12\" class=\"data row13 col12\" >0.388185</td>\n",
       "                        <td id=\"T_75a30972_4f48_11eb_8b30_525400eaad36row13_col13\" class=\"data row13 col13\" >1.000000</td>\n",
       "                        <td id=\"T_75a30972_4f48_11eb_8b30_525400eaad36row13_col14\" class=\"data row13 col14\" >0.408097</td>\n",
       "                        <td id=\"T_75a30972_4f48_11eb_8b30_525400eaad36row13_col15\" class=\"data row13 col15\" >0.331974</td>\n",
       "                        <td id=\"T_75a30972_4f48_11eb_8b30_525400eaad36row13_col16\" class=\"data row13 col16\" >0.509048</td>\n",
       "            </tr>\n",
       "            <tr>\n",
       "                        <th id=\"T_75a30972_4f48_11eb_8b30_525400eaad36level0_row14\" class=\"row_heading level0 row14\" >Testing_policy</th>\n",
       "                        <td id=\"T_75a30972_4f48_11eb_8b30_525400eaad36row14_col0\" class=\"data row14 col0\" >-0.351479</td>\n",
       "                        <td id=\"T_75a30972_4f48_11eb_8b30_525400eaad36row14_col1\" class=\"data row14 col1\" >-0.057007</td>\n",
       "                        <td id=\"T_75a30972_4f48_11eb_8b30_525400eaad36row14_col2\" class=\"data row14 col2\" >-0.355481</td>\n",
       "                        <td id=\"T_75a30972_4f48_11eb_8b30_525400eaad36row14_col3\" class=\"data row14 col3\" >-0.259346</td>\n",
       "                        <td id=\"T_75a30972_4f48_11eb_8b30_525400eaad36row14_col4\" class=\"data row14 col4\" >0.241321</td>\n",
       "                        <td id=\"T_75a30972_4f48_11eb_8b30_525400eaad36row14_col5\" class=\"data row14 col5\" >0.147365</td>\n",
       "                        <td id=\"T_75a30972_4f48_11eb_8b30_525400eaad36row14_col6\" class=\"data row14 col6\" >0.084964</td>\n",
       "                        <td id=\"T_75a30972_4f48_11eb_8b30_525400eaad36row14_col7\" class=\"data row14 col7\" >-0.029387</td>\n",
       "                        <td id=\"T_75a30972_4f48_11eb_8b30_525400eaad36row14_col8\" class=\"data row14 col8\" >0.164492</td>\n",
       "                        <td id=\"T_75a30972_4f48_11eb_8b30_525400eaad36row14_col9\" class=\"data row14 col9\" >-0.124262</td>\n",
       "                        <td id=\"T_75a30972_4f48_11eb_8b30_525400eaad36row14_col10\" class=\"data row14 col10\" >0.113394</td>\n",
       "                        <td id=\"T_75a30972_4f48_11eb_8b30_525400eaad36row14_col11\" class=\"data row14 col11\" >-0.110745</td>\n",
       "                        <td id=\"T_75a30972_4f48_11eb_8b30_525400eaad36row14_col12\" class=\"data row14 col12\" >0.515825</td>\n",
       "                        <td id=\"T_75a30972_4f48_11eb_8b30_525400eaad36row14_col13\" class=\"data row14 col13\" >0.408097</td>\n",
       "                        <td id=\"T_75a30972_4f48_11eb_8b30_525400eaad36row14_col14\" class=\"data row14 col14\" >1.000000</td>\n",
       "                        <td id=\"T_75a30972_4f48_11eb_8b30_525400eaad36row14_col15\" class=\"data row14 col15\" >0.409054</td>\n",
       "                        <td id=\"T_75a30972_4f48_11eb_8b30_525400eaad36row14_col16\" class=\"data row14 col16\" >0.145704</td>\n",
       "            </tr>\n",
       "            <tr>\n",
       "                        <th id=\"T_75a30972_4f48_11eb_8b30_525400eaad36level0_row15\" class=\"row_heading level0 row15\" >Contact_tracing</th>\n",
       "                        <td id=\"T_75a30972_4f48_11eb_8b30_525400eaad36row15_col0\" class=\"data row15 col0\" >-0.212551</td>\n",
       "                        <td id=\"T_75a30972_4f48_11eb_8b30_525400eaad36row15_col1\" class=\"data row15 col1\" >-0.070440</td>\n",
       "                        <td id=\"T_75a30972_4f48_11eb_8b30_525400eaad36row15_col2\" class=\"data row15 col2\" >-0.330989</td>\n",
       "                        <td id=\"T_75a30972_4f48_11eb_8b30_525400eaad36row15_col3\" class=\"data row15 col3\" >-0.177520</td>\n",
       "                        <td id=\"T_75a30972_4f48_11eb_8b30_525400eaad36row15_col4\" class=\"data row15 col4\" >0.171761</td>\n",
       "                        <td id=\"T_75a30972_4f48_11eb_8b30_525400eaad36row15_col5\" class=\"data row15 col5\" >0.079281</td>\n",
       "                        <td id=\"T_75a30972_4f48_11eb_8b30_525400eaad36row15_col6\" class=\"data row15 col6\" >-0.146832</td>\n",
       "                        <td id=\"T_75a30972_4f48_11eb_8b30_525400eaad36row15_col7\" class=\"data row15 col7\" >0.103364</td>\n",
       "                        <td id=\"T_75a30972_4f48_11eb_8b30_525400eaad36row15_col8\" class=\"data row15 col8\" >-0.046210</td>\n",
       "                        <td id=\"T_75a30972_4f48_11eb_8b30_525400eaad36row15_col9\" class=\"data row15 col9\" >-0.009909</td>\n",
       "                        <td id=\"T_75a30972_4f48_11eb_8b30_525400eaad36row15_col10\" class=\"data row15 col10\" >-0.084627</td>\n",
       "                        <td id=\"T_75a30972_4f48_11eb_8b30_525400eaad36row15_col11\" class=\"data row15 col11\" >0.008960</td>\n",
       "                        <td id=\"T_75a30972_4f48_11eb_8b30_525400eaad36row15_col12\" class=\"data row15 col12\" >0.318523</td>\n",
       "                        <td id=\"T_75a30972_4f48_11eb_8b30_525400eaad36row15_col13\" class=\"data row15 col13\" >0.331974</td>\n",
       "                        <td id=\"T_75a30972_4f48_11eb_8b30_525400eaad36row15_col14\" class=\"data row15 col14\" >0.409054</td>\n",
       "                        <td id=\"T_75a30972_4f48_11eb_8b30_525400eaad36row15_col15\" class=\"data row15 col15\" >1.000000</td>\n",
       "                        <td id=\"T_75a30972_4f48_11eb_8b30_525400eaad36row15_col16\" class=\"data row15 col16\" >-0.142437</td>\n",
       "            </tr>\n",
       "            <tr>\n",
       "                        <th id=\"T_75a30972_4f48_11eb_8b30_525400eaad36level0_row16\" class=\"row_heading level0 row16\" >Stringency_index</th>\n",
       "                        <td id=\"T_75a30972_4f48_11eb_8b30_525400eaad36row16_col0\" class=\"data row16 col0\" >-0.314092</td>\n",
       "                        <td id=\"T_75a30972_4f48_11eb_8b30_525400eaad36row16_col1\" class=\"data row16 col1\" >0.248955</td>\n",
       "                        <td id=\"T_75a30972_4f48_11eb_8b30_525400eaad36row16_col2\" class=\"data row16 col2\" >-0.035130</td>\n",
       "                        <td id=\"T_75a30972_4f48_11eb_8b30_525400eaad36row16_col3\" class=\"data row16 col3\" >-0.193817</td>\n",
       "                        <td id=\"T_75a30972_4f48_11eb_8b30_525400eaad36row16_col4\" class=\"data row16 col4\" >0.198444</td>\n",
       "                        <td id=\"T_75a30972_4f48_11eb_8b30_525400eaad36row16_col5\" class=\"data row16 col5\" >0.439459</td>\n",
       "                        <td id=\"T_75a30972_4f48_11eb_8b30_525400eaad36row16_col6\" class=\"data row16 col6\" >0.785238</td>\n",
       "                        <td id=\"T_75a30972_4f48_11eb_8b30_525400eaad36row16_col7\" class=\"data row16 col7\" >0.313610</td>\n",
       "                        <td id=\"T_75a30972_4f48_11eb_8b30_525400eaad36row16_col8\" class=\"data row16 col8\" >0.754995</td>\n",
       "                        <td id=\"T_75a30972_4f48_11eb_8b30_525400eaad36row16_col9\" class=\"data row16 col9\" >0.302318</td>\n",
       "                        <td id=\"T_75a30972_4f48_11eb_8b30_525400eaad36row16_col10\" class=\"data row16 col10\" >0.659094</td>\n",
       "                        <td id=\"T_75a30972_4f48_11eb_8b30_525400eaad36row16_col11\" class=\"data row16 col11\" >0.421776</td>\n",
       "                        <td id=\"T_75a30972_4f48_11eb_8b30_525400eaad36row16_col12\" class=\"data row16 col12\" >0.344734</td>\n",
       "                        <td id=\"T_75a30972_4f48_11eb_8b30_525400eaad36row16_col13\" class=\"data row16 col13\" >0.509048</td>\n",
       "                        <td id=\"T_75a30972_4f48_11eb_8b30_525400eaad36row16_col14\" class=\"data row16 col14\" >0.145704</td>\n",
       "                        <td id=\"T_75a30972_4f48_11eb_8b30_525400eaad36row16_col15\" class=\"data row16 col15\" >-0.142437</td>\n",
       "                        <td id=\"T_75a30972_4f48_11eb_8b30_525400eaad36row16_col16\" class=\"data row16 col16\" >1.000000</td>\n",
       "            </tr>\n",
       "    </tbody></table>"
      ],
      "text/plain": [
       "<pandas.io.formats.style.Styler at 0x7f6f6fa6c850>"
      ]
     },
     "execution_count": 21,
     "metadata": {},
     "output_type": "execute_result"
    }
   ],
   "source": [
    "# Correlation\n",
    "df = track_df.copy()\n",
    "df.corr().style.background_gradient(axis=None)"
   ]
  },
  {
   "cell_type": "code",
   "execution_count": 22,
   "metadata": {
    "collapsed": false
   },
   "outputs": [
    {
     "data": {
      "image/png": "[encoded data removed]",
      "text/plain": [
       "<Figure size 432x288 with 1 Axes>"
      ]
     },
     "metadata": {},
     "output_type": "display_data"
    }
   ],
   "source": [
    "# Scatter plot of Stringency index and Rt\n",
    "df = track_df.copy()\n",
    "sns.scatterplot(data=df, x=\"Stringency_index\", y=\"Rt\", hue=\"Country\", legend=\"brief\", marker=\"+\")\n",
    "bbox_to_anchor=(1.02, 0)\n",
    "bbox_loc=\"lower left\"\n",
    "plt.legend(bbox_to_anchor=bbox_to_anchor, loc=bbox_loc, borderaxespad=0)\n",
    "plt.title(\"Relationship of Stringency index and reproduction number\")\n",
    "plt.ylabel(\"Reproduction number\")\n",
    "plt.xlabel(\"Stringency index\")\n",
    "plt.show()"
   ]
  }
 ],
 "metadata": {
  "kernelspec": {
   "display_name": "Python 3.8.2 64-bit ('.venv': venv)",
   "name": "python_defaultSpec_1597669925034"
  },
  "language_info": {
   "codemirror_mode": {
    "name": "ipython",
    "version": 3
   },
   "file_extension": ".py",
   "mimetype": "text/x-python",
   "name": "python",
   "nbconvert_exporter": "python",
   "pygments_lexer": "ipython3",
   "version": "3.8.2-final"
  }
 },
 "nbformat": 4,
 "nbformat_minor": 4
}
