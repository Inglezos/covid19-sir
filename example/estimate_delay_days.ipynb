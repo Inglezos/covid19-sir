{
 "cells": [
  {
   "cell_type": "markdown",
   "metadata": {},
   "source": [
    "# Experimental: Method to calculate the delay days (=recovery period) per country"
   ]
  },
  {
   "cell_type": "code",
   "execution_count": 1,
   "metadata": {},
   "outputs": [],
   "source": [
    "import matplotlib.pylab as plt\n",
    "import numpy as np\n",
    "import plotly as py\n",
    "import plotly.graph_objs as go\n",
    "import pandas as pd\n",
    "import plotly.express as px\n",
    "import warnings\n",
    "warnings.filterwarnings('ignore')"
   ]
  },
  {
   "cell_type": "code",
   "execution_count": 2,
   "metadata": {},
   "outputs": [
    {
     "data": {
      "text/plain": [
       "'2.15.0'"
      ]
     },
     "execution_count": 2,
     "metadata": {},
     "output_type": "execute_result"
    }
   ],
   "source": [
    "# Developers (Note: this notebook is in example directory)\n",
    "import os\n",
    "os.chdir(\"../\")\n",
    "\n",
    "import covsirphy as cs\n",
    "cs.__version__"
   ]
  },
  {
   "cell_type": "markdown",
   "metadata": {},
   "source": [
    "## Load data"
   ]
  },
  {
   "cell_type": "code",
   "execution_count": 3,
   "metadata": {
    "scrolled": false
   },
   "outputs": [
    {
     "name": "stdout",
     "output_type": "stream",
     "text": [
      "Retrieving datasets from COVID-19 Data Hub: https://covid19datahub.io/\n",
      "\n",
      "Please set verbose=2 to see the detailed citation list.\n",
      "\n",
      "\n",
      "Retrieving COVID-19 dataset in Japan from https://github.com/lisphilar/covid19-sir/data/japan\n",
      "(Secondary source) Guidotti, E., Ardia, D., (2020), \"COVID-19 Data Hub\", Journal of Open Source Software 5(51):2376, doi: 10.21105/joss.02376.\n"
     ]
    }
   ],
   "source": [
    "data_loader = cs.DataLoader(directory=\"kaggle/input\")\n",
    "jhu_data = data_loader.jhu()\n",
    "population_data = data_loader.population()\n",
    "oxcgrt_data = data_loader.oxcgrt()\n",
    "# Description/citation\n",
    "print(oxcgrt_data.citation)"
   ]
  },
  {
   "cell_type": "markdown",
   "metadata": {},
   "source": [
    "## Estimate number of days of delay for a given country"
   ]
  },
  {
   "cell_type": "code",
   "execution_count": 4,
   "metadata": {},
   "outputs": [
    {
     "name": "stdout",
     "output_type": "stream",
     "text": [
      "Indicators:  ['Country' 'ISO3' 'School_closing' 'Workplace_closing' 'Cancel_events'\n",
      " 'Gatherings_restrictions' 'Transport_closing' 'Stay_home_restrictions'\n",
      " 'Internal_movement_restrictions' 'International_movement_restrictions'\n",
      " 'Information_campaigns' 'Testing_policy' 'Contact_tracing'\n",
      " 'Stringency_index']\n",
      "Targets:  ['Infected' 'Fatal' 'Recovered']\n"
     ]
    }
   ],
   "source": [
    "country = \"Japan\"\n",
    "scn = cs.Scenario(jhu_data, population_data, country)\n",
    "\n",
    "indicators = oxcgrt_data.cleaned().columns.values[1:]\n",
    "print(\"Indicators: \", indicators)\n",
    "\n",
    "records = scn.records(show_figure=False)\n",
    "print(\"Targets: \", records.columns.values[1:])"
   ]
  },
  {
   "cell_type": "code",
   "execution_count": 5,
   "metadata": {},
   "outputs": [],
   "source": [
    "indicator, target = \"Stringency_index\", \"Infected\"\n",
    "days, df_periods = scn.estimate_delay(oxcgrt_data, indicator=indicator, target=target)"
   ]
  },
  {
   "cell_type": "code",
   "execution_count": 6,
   "metadata": {
    "scrolled": true
   },
   "outputs": [
    {
     "name": "stdout",
     "output_type": "stream",
     "text": [
      "Days of delay for Japan : 14\n"
     ]
    }
   ],
   "source": [
    "print(\"Days of delay for\", country, \":\", round(days, 2))"
   ]
  },
  {
   "cell_type": "markdown",
   "metadata": {},
   "source": [
    "## View the calculated periods in a graph"
   ]
  },
  {
   "cell_type": "code",
   "execution_count": 7,
   "metadata": {
    "scrolled": true
   },
   "outputs": [
    {
     "data": {
      "image/png": "[encoded data removed]",
      "text/plain": [
       "<Figure size 648x432 with 1 Axes>"
      ]
     },
     "metadata": {
      "needs_background": "light"
     },
     "output_type": "display_data"
    }
   ],
   "source": [
    "df_periods[\"Cumulative days\"] = df_periods[\"Period Length\"].cumsum()\n",
    "\n",
    "plt.plot(records[\"Date\"], records[target])\n",
    "plt.xlabel(\"Date\")\n",
    "plt.ylabel(target)\n",
    "plt.title(target + \"over time with change periods\")\n",
    "\n",
    "start_date = records[\"Date\"].values[0]\n",
    "for day in df_periods[\"Cumulative days\"].values[1:].astype(int):\n",
    "    plt.axvline(start_date + np.timedelta64(day, 'D'), linestyle=\":\", color=\"black\")\n"
   ]
  },
  {
   "cell_type": "markdown",
   "metadata": {},
   "source": [
    "## Calculate delay days for every country"
   ]
  },
  {
   "cell_type": "code",
   "execution_count": 8,
   "metadata": {},
   "outputs": [
    {
     "name": "stdout",
     "output_type": "stream",
     "text": [
      "Skipped American Samoa\n",
      "Skipped Others\n",
      "Skipped South Korea\n",
      "Delay days could not be estimated for Marshall Islands , delay set to default:  16\n",
      "Delay days could not be estimated for MS Zaandam , delay set to default:  16\n",
      "Delay days could not be estimated for Samoa , delay set to default:  16\n"
     ]
    }
   ],
   "source": [
    "countries = jhu_data.cleaned()[\"Country\"].unique()\n",
    "delay_days = {}\n",
    "\n",
    "for country in countries:\n",
    "    try:\n",
    "        sn = cs.Scenario(jhu_data, population_data, country)\n",
    "    except:\n",
    "        print(\"Skipped\", country)\n",
    "        continue\n",
    "        \n",
    "    days, df_periods = sn.estimate_delay(oxcgrt_data, indicator=indicator, target=target)\n",
    "    delay_days[country] = days"
   ]
  },
  {
   "cell_type": "code",
   "execution_count": 14,
   "metadata": {},
   "outputs": [
    {
     "data": {
      "application/vnd.plotly.v1+json": {
       "config": {
        "linkText": "Export to plot.ly",
        "plotlyServerURL": "https://plot.ly",
        "showLink": false
       },
       "data": [
        {
         "colorbar": {
          "thickness": 30,
          "tickfont": {
           "size": 20
          },
          "ticklen": 7
         },
         "colorscale": [
          [
           0,
           "rgb(247,252,253)"
          ],
          [
           0.125,
           "rgb(224,236,244)"
          ],
          [
           0.25,
           "rgb(191,211,230)"
          ],
          [
           0.375,
           "rgb(158,188,218)"
          ],
          [
           0.5,
           "rgb(140,150,198)"
          ],
          [
           0.625,
           "rgb(140,107,177)"
          ],
          [
           0.75,
           "rgb(136,65,157)"
          ],
          [
           0.875,
           "rgb(129,15,124)"
          ],
          [
           1,
           "rgb(77,0,75)"
          ]
         ],
         "locationmode": "country names",
         "locations": [
          "Afghanistan",
          "Angola",
          "Albania",
          "Andorra",
          "United Arab Emirates",
          "Argentina",
          "Armenia",
          "Antigua and Barbuda",
          "Australia",
          "Austria",
          "Azerbaijan",
          "Burundi",
          "Belgium",
          "Benin",
          "Burkina Faso",
          "Bangladesh",
          "Bulgaria",
          "Bahrain",
          "Bahamas",
          "Bosnia and Herzegovina",
          "Belarus",
          "Belize",
          "Bermuda",
          "Bolivia",
          "Brazil",
          "Barbados",
          "Brunei",
          "Bhutan",
          "Botswana",
          "Costa Atlantica",
          "Central African Republic",
          "Canada",
          "Switzerland",
          "Chile",
          "Cote d'Ivoire",
          "Cameroon",
          "Democratic Republic of the Congo",
          "Republic of the Congo",
          "Colombia",
          "Comoros",
          "Cape Verde",
          "Costa Rica",
          "Cuba",
          "Cyprus",
          "Czech Republic",
          "Germany",
          "Djibouti",
          "Dominica",
          "Denmark",
          "Dominican Republic",
          "Algeria",
          "Ecuador",
          "Egypt",
          "Eritrea",
          "Spain",
          "Estonia",
          "Ethiopia",
          "Finland",
          "Fiji",
          "France",
          "Gabon",
          "United Kingdom",
          "Georgia",
          "Ghana",
          "Guinea",
          "Gambia",
          "Guinea-Bissau",
          "Equatorial Guinea",
          "Grand Princess",
          "Greece",
          "Grenada",
          "Guatemala",
          "Guam",
          "Guyana",
          "Honduras",
          "Croatia",
          "Haiti",
          "Hungary",
          "Indonesia",
          "India",
          "Ireland",
          "Iran",
          "Iraq",
          "Iceland",
          "Israel",
          "Italy",
          "Jamaica",
          "Jordan",
          "Kazakhstan",
          "Kenya",
          "Kyrgyzstan",
          "Cambodia",
          "Saint Kitts and Nevis",
          "Kuwait",
          "Laos",
          "Lebanon",
          "Liberia",
          "Libya",
          "Saint Lucia",
          "Liechtenstein",
          "Sri Lanka",
          "Lesotho",
          "Lithuania",
          "Luxembourg",
          "Latvia",
          "Morocco",
          "Monaco",
          "Moldova",
          "Madagascar",
          "Maldives",
          "Mexico",
          "Marshall Islands",
          "North Macedonia",
          "Mali",
          "Malta",
          "Myanmar",
          "Montenegro",
          "Mongolia",
          "Northern Mariana Islands",
          "Mozambique",
          "Mauritania",
          "MS Zaandam",
          "Mauritius",
          "Malawi",
          "Malaysia",
          "Namibia",
          "Niger",
          "Nigeria",
          "Nicaragua",
          "Netherlands",
          "Norway",
          "Nepal",
          "New Zealand",
          "Oman",
          "Pakistan",
          "Panama",
          "Peru",
          "Philippines",
          "Papua New Guinea",
          "Poland",
          "Puerto Rico",
          "Portugal",
          "Paraguay",
          "Palestine",
          "Qatar",
          "Kosovo",
          "Romania",
          "Russia",
          "Rwanda",
          "Saudi Arabia",
          "Sudan",
          "Senegal",
          "Singapore",
          "Solomon Islands",
          "Sierra Leone",
          "El Salvador",
          "San Marino",
          "Somalia",
          "Serbia",
          "South Sudan",
          "Sao Tome and Principe",
          "Suriname",
          "Slovakia",
          "Slovenia",
          "Sweden",
          "Swaziland",
          "Seychelles",
          "Syria",
          "Chad",
          "Togo",
          "Thailand",
          "Tajikistan",
          "Timor-Leste",
          "Trinidad and Tobago",
          "Tunisia",
          "Turkey",
          "Taiwan",
          "Tanzania",
          "Uganda",
          "Ukraine",
          "Uruguay",
          "United States",
          "Uzbekistan",
          "Holy See",
          "Saint Vincent and the Grenadines",
          "Venezuela",
          "Virgin Islands, U.S.",
          "Vietnam",
          "Vanuatu",
          "Samoa",
          "Yemen",
          "South Africa",
          "Zambia",
          "Zimbabwe",
          "China",
          "Japan"
         ],
         "type": "choropleth",
         "z": [
          15,
          14,
          18,
          10,
          15,
          19,
          16,
          16,
          12,
          16,
          12,
          8,
          13,
          11,
          10,
          14,
          13,
          11,
          11,
          15,
          11,
          14,
          10,
          13,
          14,
          9,
          10,
          8,
          10,
          16,
          16,
          15,
          15,
          15,
          13,
          9,
          12,
          13,
          17,
          16,
          12,
          15,
          11,
          15,
          17,
          13,
          11,
          16,
          12,
          12,
          11,
          16,
          19,
          10,
          13,
          15,
          13,
          11,
          16,
          10,
          11,
          16,
          13,
          12,
          12,
          12,
          16,
          16,
          16,
          14,
          16,
          16,
          9,
          11,
          7,
          13,
          15,
          12,
          12,
          14,
          13,
          13,
          13,
          15,
          11,
          16,
          11,
          11,
          16,
          12,
          13,
          7,
          16,
          13,
          16,
          17,
          10,
          16,
          16,
          16,
          11,
          13,
          19,
          14,
          20,
          15,
          11,
          12,
          14,
          16,
          12,
          16,
          16,
          11,
          13,
          12,
          16,
          10,
          16,
          12,
          16,
          16,
          20,
          10,
          16,
          10,
          13,
          11,
          12,
          15,
          14,
          13,
          13,
          11,
          14,
          10,
          21,
          17,
          8,
          12,
          14,
          14,
          14,
          12,
          11,
          15,
          13,
          11,
          10,
          14,
          13,
          13,
          10,
          16,
          13,
          12,
          11,
          12,
          16,
          18,
          16,
          12,
          10,
          13,
          11,
          12,
          10,
          13,
          10,
          13,
          12,
          11,
          16,
          14,
          18,
          17,
          10,
          16,
          19,
          15,
          14,
          12,
          15,
          16,
          16,
          11,
          11,
          12,
          16,
          16,
          9,
          18,
          11,
          12,
          13,
          14
         ]
        }
       ],
       "layout": {
        "geo": {
         "bgcolor": "rgba(233,233,233,0.3)"
        },
        "template": {
         "data": {
          "bar": [
           {
            "error_x": {
             "color": "#2a3f5f"
            },
            "error_y": {
             "color": "#2a3f5f"
            },
            "marker": {
             "line": {
              "color": "#E5ECF6",
              "width": 0.5
             }
            },
            "type": "bar"
           }
          ],
          "barpolar": [
           {
            "marker": {
             "line": {
              "color": "#E5ECF6",
              "width": 0.5
             }
            },
            "type": "barpolar"
           }
          ],
          "carpet": [
           {
            "aaxis": {
             "endlinecolor": "#2a3f5f",
             "gridcolor": "white",
             "linecolor": "white",
             "minorgridcolor": "white",
             "startlinecolor": "#2a3f5f"
            },
            "baxis": {
             "endlinecolor": "#2a3f5f",
             "gridcolor": "white",
             "linecolor": "white",
             "minorgridcolor": "white",
             "startlinecolor": "#2a3f5f"
            },
            "type": "carpet"
           }
          ],
          "choropleth": [
           {
            "colorbar": {
             "outlinewidth": 0,
             "ticks": ""
            },
            "type": "choropleth"
           }
          ],
          "contour": [
           {
            "colorbar": {
             "outlinewidth": 0,
             "ticks": ""
            },
            "colorscale": [
             [
              0,
              "#0d0887"
             ],
             [
              0.1111111111111111,
              "#46039f"
             ],
             [
              0.2222222222222222,
              "#7201a8"
             ],
             [
              0.3333333333333333,
              "#9c179e"
             ],
             [
              0.4444444444444444,
              "#bd3786"
             ],
             [
              0.5555555555555556,
              "#d8576b"
             ],
             [
              0.6666666666666666,
              "#ed7953"
             ],
             [
              0.7777777777777778,
              "#fb9f3a"
             ],
             [
              0.8888888888888888,
              "#fdca26"
             ],
             [
              1,
              "#f0f921"
             ]
            ],
            "type": "contour"
           }
          ],
          "contourcarpet": [
           {
            "colorbar": {
             "outlinewidth": 0,
             "ticks": ""
            },
            "type": "contourcarpet"
           }
          ],
          "heatmap": [
           {
            "colorbar": {
             "outlinewidth": 0,
             "ticks": ""
            },
            "colorscale": [
             [
              0,
              "#0d0887"
             ],
             [
              0.1111111111111111,
              "#46039f"
             ],
             [
              0.2222222222222222,
              "#7201a8"
             ],
             [
              0.3333333333333333,
              "#9c179e"
             ],
             [
              0.4444444444444444,
              "#bd3786"
             ],
             [
              0.5555555555555556,
              "#d8576b"
             ],
             [
              0.6666666666666666,
              "#ed7953"
             ],
             [
              0.7777777777777778,
              "#fb9f3a"
             ],
             [
              0.8888888888888888,
              "#fdca26"
             ],
             [
              1,
              "#f0f921"
             ]
            ],
            "type": "heatmap"
           }
          ],
          "heatmapgl": [
           {
            "colorbar": {
             "outlinewidth": 0,
             "ticks": ""
            },
            "colorscale": [
             [
              0,
              "#0d0887"
             ],
             [
              0.1111111111111111,
              "#46039f"
             ],
             [
              0.2222222222222222,
              "#7201a8"
             ],
             [
              0.3333333333333333,
              "#9c179e"
             ],
             [
              0.4444444444444444,
              "#bd3786"
             ],
             [
              0.5555555555555556,
              "#d8576b"
             ],
             [
              0.6666666666666666,
              "#ed7953"
             ],
             [
              0.7777777777777778,
              "#fb9f3a"
             ],
             [
              0.8888888888888888,
              "#fdca26"
             ],
             [
              1,
              "#f0f921"
             ]
            ],
            "type": "heatmapgl"
           }
          ],
          "histogram": [
           {
            "marker": {
             "colorbar": {
              "outlinewidth": 0,
              "ticks": ""
             }
            },
            "type": "histogram"
           }
          ],
          "histogram2d": [
           {
            "colorbar": {
             "outlinewidth": 0,
             "ticks": ""
            },
            "colorscale": [
             [
              0,
              "#0d0887"
             ],
             [
              0.1111111111111111,
              "#46039f"
             ],
             [
              0.2222222222222222,
              "#7201a8"
             ],
             [
              0.3333333333333333,
              "#9c179e"
             ],
             [
              0.4444444444444444,
              "#bd3786"
             ],
             [
              0.5555555555555556,
              "#d8576b"
             ],
             [
              0.6666666666666666,
              "#ed7953"
             ],
             [
              0.7777777777777778,
              "#fb9f3a"
             ],
             [
              0.8888888888888888,
              "#fdca26"
             ],
             [
              1,
              "#f0f921"
             ]
            ],
            "type": "histogram2d"
           }
          ],
          "histogram2dcontour": [
           {
            "colorbar": {
             "outlinewidth": 0,
             "ticks": ""
            },
            "colorscale": [
             [
              0,
              "#0d0887"
             ],
             [
              0.1111111111111111,
              "#46039f"
             ],
             [
              0.2222222222222222,
              "#7201a8"
             ],
             [
              0.3333333333333333,
              "#9c179e"
             ],
             [
              0.4444444444444444,
              "#bd3786"
             ],
             [
              0.5555555555555556,
              "#d8576b"
             ],
             [
              0.6666666666666666,
              "#ed7953"
             ],
             [
              0.7777777777777778,
              "#fb9f3a"
             ],
             [
              0.8888888888888888,
              "#fdca26"
             ],
             [
              1,
              "#f0f921"
             ]
            ],
            "type": "histogram2dcontour"
           }
          ],
          "mesh3d": [
           {
            "colorbar": {
             "outlinewidth": 0,
             "ticks": ""
            },
            "type": "mesh3d"
           }
          ],
          "parcoords": [
           {
            "line": {
             "colorbar": {
              "outlinewidth": 0,
              "ticks": ""
             }
            },
            "type": "parcoords"
           }
          ],
          "pie": [
           {
            "automargin": true,
            "type": "pie"
           }
          ],
          "scatter": [
           {
            "marker": {
             "colorbar": {
              "outlinewidth": 0,
              "ticks": ""
             }
            },
            "type": "scatter"
           }
          ],
          "scatter3d": [
           {
            "line": {
             "colorbar": {
              "outlinewidth": 0,
              "ticks": ""
             }
            },
            "marker": {
             "colorbar": {
              "outlinewidth": 0,
              "ticks": ""
             }
            },
            "type": "scatter3d"
           }
          ],
          "scattercarpet": [
           {
            "marker": {
             "colorbar": {
              "outlinewidth": 0,
              "ticks": ""
             }
            },
            "type": "scattercarpet"
           }
          ],
          "scattergeo": [
           {
            "marker": {
             "colorbar": {
              "outlinewidth": 0,
              "ticks": ""
             }
            },
            "type": "scattergeo"
           }
          ],
          "scattergl": [
           {
            "marker": {
             "colorbar": {
              "outlinewidth": 0,
              "ticks": ""
             }
            },
            "type": "scattergl"
           }
          ],
          "scattermapbox": [
           {
            "marker": {
             "colorbar": {
              "outlinewidth": 0,
              "ticks": ""
             }
            },
            "type": "scattermapbox"
           }
          ],
          "scatterpolar": [
           {
            "marker": {
             "colorbar": {
              "outlinewidth": 0,
              "ticks": ""
             }
            },
            "type": "scatterpolar"
           }
          ],
          "scatterpolargl": [
           {
            "marker": {
             "colorbar": {
              "outlinewidth": 0,
              "ticks": ""
             }
            },
            "type": "scatterpolargl"
           }
          ],
          "scatterternary": [
           {
            "marker": {
             "colorbar": {
              "outlinewidth": 0,
              "ticks": ""
             }
            },
            "type": "scatterternary"
           }
          ],
          "surface": [
           {
            "colorbar": {
             "outlinewidth": 0,
             "ticks": ""
            },
            "colorscale": [
             [
              0,
              "#0d0887"
             ],
             [
              0.1111111111111111,
              "#46039f"
             ],
             [
              0.2222222222222222,
              "#7201a8"
             ],
             [
              0.3333333333333333,
              "#9c179e"
             ],
             [
              0.4444444444444444,
              "#bd3786"
             ],
             [
              0.5555555555555556,
              "#d8576b"
             ],
             [
              0.6666666666666666,
              "#ed7953"
             ],
             [
              0.7777777777777778,
              "#fb9f3a"
             ],
             [
              0.8888888888888888,
              "#fdca26"
             ],
             [
              1,
              "#f0f921"
             ]
            ],
            "type": "surface"
           }
          ],
          "table": [
           {
            "cells": {
             "fill": {
              "color": "#EBF0F8"
             },
             "line": {
              "color": "white"
             }
            },
            "header": {
             "fill": {
              "color": "#C8D4E3"
             },
             "line": {
              "color": "white"
             }
            },
            "type": "table"
           }
          ]
         },
         "layout": {
          "annotationdefaults": {
           "arrowcolor": "#2a3f5f",
           "arrowhead": 0,
           "arrowwidth": 1
          },
          "coloraxis": {
           "colorbar": {
            "outlinewidth": 0,
            "ticks": ""
           }
          },
          "colorscale": {
           "diverging": [
            [
             0,
             "#8e0152"
            ],
            [
             0.1,
             "#c51b7d"
            ],
            [
             0.2,
             "#de77ae"
            ],
            [
             0.3,
             "#f1b6da"
            ],
            [
             0.4,
             "#fde0ef"
            ],
            [
             0.5,
             "#f7f7f7"
            ],
            [
             0.6,
             "#e6f5d0"
            ],
            [
             0.7,
             "#b8e186"
            ],
            [
             0.8,
             "#7fbc41"
            ],
            [
             0.9,
             "#4d9221"
            ],
            [
             1,
             "#276419"
            ]
           ],
           "sequential": [
            [
             0,
             "#0d0887"
            ],
            [
             0.1111111111111111,
             "#46039f"
            ],
            [
             0.2222222222222222,
             "#7201a8"
            ],
            [
             0.3333333333333333,
             "#9c179e"
            ],
            [
             0.4444444444444444,
             "#bd3786"
            ],
            [
             0.5555555555555556,
             "#d8576b"
            ],
            [
             0.6666666666666666,
             "#ed7953"
            ],
            [
             0.7777777777777778,
             "#fb9f3a"
            ],
            [
             0.8888888888888888,
             "#fdca26"
            ],
            [
             1,
             "#f0f921"
            ]
           ],
           "sequentialminus": [
            [
             0,
             "#0d0887"
            ],
            [
             0.1111111111111111,
             "#46039f"
            ],
            [
             0.2222222222222222,
             "#7201a8"
            ],
            [
             0.3333333333333333,
             "#9c179e"
            ],
            [
             0.4444444444444444,
             "#bd3786"
            ],
            [
             0.5555555555555556,
             "#d8576b"
            ],
            [
             0.6666666666666666,
             "#ed7953"
            ],
            [
             0.7777777777777778,
             "#fb9f3a"
            ],
            [
             0.8888888888888888,
             "#fdca26"
            ],
            [
             1,
             "#f0f921"
            ]
           ]
          },
          "colorway": [
           "#636efa",
           "#EF553B",
           "#00cc96",
           "#ab63fa",
           "#FFA15A",
           "#19d3f3",
           "#FF6692",
           "#B6E880",
           "#FF97FF",
           "#FECB52"
          ],
          "font": {
           "color": "#2a3f5f"
          },
          "geo": {
           "bgcolor": "white",
           "lakecolor": "white",
           "landcolor": "#E5ECF6",
           "showlakes": true,
           "showland": true,
           "subunitcolor": "white"
          },
          "hoverlabel": {
           "align": "left"
          },
          "hovermode": "closest",
          "mapbox": {
           "style": "light"
          },
          "paper_bgcolor": "white",
          "plot_bgcolor": "#E5ECF6",
          "polar": {
           "angularaxis": {
            "gridcolor": "white",
            "linecolor": "white",
            "ticks": ""
           },
           "bgcolor": "#E5ECF6",
           "radialaxis": {
            "gridcolor": "white",
            "linecolor": "white",
            "ticks": ""
           }
          },
          "scene": {
           "xaxis": {
            "backgroundcolor": "#E5ECF6",
            "gridcolor": "white",
            "gridwidth": 2,
            "linecolor": "white",
            "showbackground": true,
            "ticks": "",
            "zerolinecolor": "white"
           },
           "yaxis": {
            "backgroundcolor": "#E5ECF6",
            "gridcolor": "white",
            "gridwidth": 2,
            "linecolor": "white",
            "showbackground": true,
            "ticks": "",
            "zerolinecolor": "white"
           },
           "zaxis": {
            "backgroundcolor": "#E5ECF6",
            "gridcolor": "white",
            "gridwidth": 2,
            "linecolor": "white",
            "showbackground": true,
            "ticks": "",
            "zerolinecolor": "white"
           }
          },
          "shapedefaults": {
           "line": {
            "color": "#2a3f5f"
           }
          },
          "ternary": {
           "aaxis": {
            "gridcolor": "white",
            "linecolor": "white",
            "ticks": ""
           },
           "baxis": {
            "gridcolor": "white",
            "linecolor": "white",
            "ticks": ""
           },
           "bgcolor": "#E5ECF6",
           "caxis": {
            "gridcolor": "white",
            "linecolor": "white",
            "ticks": ""
           }
          },
          "title": {
           "x": 0.05
          },
          "xaxis": {
           "automargin": true,
           "gridcolor": "white",
           "linecolor": "white",
           "ticks": "",
           "title": {
            "standoff": 15
           },
           "zerolinecolor": "white",
           "zerolinewidth": 2
          },
          "yaxis": {
           "automargin": true,
           "gridcolor": "white",
           "linecolor": "white",
           "ticks": "",
           "title": {
            "standoff": 15
           },
           "zerolinecolor": "white",
           "zerolinewidth": 2
          }
         }
        },
        "title": {
         "text": "Average number of delay days calculated with change in Infected and Stringency_index"
        }
       }
      },
      "text/html": [
       "<div>                            <div id=\"8bdcf9f0-7ed4-4734-8806-2a5316e66553\" class=\"plotly-graph-div\" style=\"height:525px; width:100%;\"></div>            <script type=\"text/javascript\">                require([\"plotly\"], function(Plotly) {                    window.PLOTLYENV=window.PLOTLYENV || {};                                    if (document.getElementById(\"8bdcf9f0-7ed4-4734-8806-2a5316e66553\")) {                    Plotly.newPlot(                        \"8bdcf9f0-7ed4-4734-8806-2a5316e66553\",                        [{\"colorbar\": {\"thickness\": 30, \"tickfont\": {\"size\": 20}, \"ticklen\": 7}, \"colorscale\": [[0.0, \"rgb(247,252,253)\"], [0.125, \"rgb(224,236,244)\"], [0.25, \"rgb(191,211,230)\"], [0.375, \"rgb(158,188,218)\"], [0.5, \"rgb(140,150,198)\"], [0.625, \"rgb(140,107,177)\"], [0.75, \"rgb(136,65,157)\"], [0.875, \"rgb(129,15,124)\"], [1.0, \"rgb(77,0,75)\"]], \"locationmode\": \"country names\", \"locations\": [\"Afghanistan\", \"Angola\", \"Albania\", \"Andorra\", \"United Arab Emirates\", \"Argentina\", \"Armenia\", \"Antigua and Barbuda\", \"Australia\", \"Austria\", \"Azerbaijan\", \"Burundi\", \"Belgium\", \"Benin\", \"Burkina Faso\", \"Bangladesh\", \"Bulgaria\", \"Bahrain\", \"Bahamas\", \"Bosnia and Herzegovina\", \"Belarus\", \"Belize\", \"Bermuda\", \"Bolivia\", \"Brazil\", \"Barbados\", \"Brunei\", \"Bhutan\", \"Botswana\", \"Costa Atlantica\", \"Central African Republic\", \"Canada\", \"Switzerland\", \"Chile\", \"Cote d'Ivoire\", \"Cameroon\", \"Democratic Republic of the Congo\", \"Republic of the Congo\", \"Colombia\", \"Comoros\", \"Cape Verde\", \"Costa Rica\", \"Cuba\", \"Cyprus\", \"Czech Republic\", \"Germany\", \"Djibouti\", \"Dominica\", \"Denmark\", \"Dominican Republic\", \"Algeria\", \"Ecuador\", \"Egypt\", \"Eritrea\", \"Spain\", \"Estonia\", \"Ethiopia\", \"Finland\", \"Fiji\", \"France\", \"Gabon\", \"United Kingdom\", \"Georgia\", \"Ghana\", \"Guinea\", \"Gambia\", \"Guinea-Bissau\", \"Equatorial Guinea\", \"Grand Princess\", \"Greece\", \"Grenada\", \"Guatemala\", \"Guam\", \"Guyana\", \"Honduras\", \"Croatia\", \"Haiti\", \"Hungary\", \"Indonesia\", \"India\", \"Ireland\", \"Iran\", \"Iraq\", \"Iceland\", \"Israel\", \"Italy\", \"Jamaica\", \"Jordan\", \"Kazakhstan\", \"Kenya\", \"Kyrgyzstan\", \"Cambodia\", \"Saint Kitts and Nevis\", \"Kuwait\", \"Laos\", \"Lebanon\", \"Liberia\", \"Libya\", \"Saint Lucia\", \"Liechtenstein\", \"Sri Lanka\", \"Lesotho\", \"Lithuania\", \"Luxembourg\", \"Latvia\", \"Morocco\", \"Monaco\", \"Moldova\", \"Madagascar\", \"Maldives\", \"Mexico\", \"Marshall Islands\", \"North Macedonia\", \"Mali\", \"Malta\", \"Myanmar\", \"Montenegro\", \"Mongolia\", \"Northern Mariana Islands\", \"Mozambique\", \"Mauritania\", \"MS Zaandam\", \"Mauritius\", \"Malawi\", \"Malaysia\", \"Namibia\", \"Niger\", \"Nigeria\", \"Nicaragua\", \"Netherlands\", \"Norway\", \"Nepal\", \"New Zealand\", \"Oman\", \"Pakistan\", \"Panama\", \"Peru\", \"Philippines\", \"Papua New Guinea\", \"Poland\", \"Puerto Rico\", \"Portugal\", \"Paraguay\", \"Palestine\", \"Qatar\", \"Kosovo\", \"Romania\", \"Russia\", \"Rwanda\", \"Saudi Arabia\", \"Sudan\", \"Senegal\", \"Singapore\", \"Solomon Islands\", \"Sierra Leone\", \"El Salvador\", \"San Marino\", \"Somalia\", \"Serbia\", \"South Sudan\", \"Sao Tome and Principe\", \"Suriname\", \"Slovakia\", \"Slovenia\", \"Sweden\", \"Swaziland\", \"Seychelles\", \"Syria\", \"Chad\", \"Togo\", \"Thailand\", \"Tajikistan\", \"Timor-Leste\", \"Trinidad and Tobago\", \"Tunisia\", \"Turkey\", \"Taiwan\", \"Tanzania\", \"Uganda\", \"Ukraine\", \"Uruguay\", \"United States\", \"Uzbekistan\", \"Holy See\", \"Saint Vincent and the Grenadines\", \"Venezuela\", \"Virgin Islands, U.S.\", \"Vietnam\", \"Vanuatu\", \"Samoa\", \"Yemen\", \"South Africa\", \"Zambia\", \"Zimbabwe\", \"China\", \"Japan\"], \"type\": \"choropleth\", \"z\": [15, 14, 18, 10, 15, 19, 16, 16, 12, 16, 12, 8, 13, 11, 10, 14, 13, 11, 11, 15, 11, 14, 10, 13, 14, 9, 10, 8, 10, 16, 16, 15, 15, 15, 13, 9, 12, 13, 17, 16, 12, 15, 11, 15, 17, 13, 11, 16, 12, 12, 11, 16, 19, 10, 13, 15, 13, 11, 16, 10, 11, 16, 13, 12, 12, 12, 16, 16, 16, 14, 16, 16, 9, 11, 7, 13, 15, 12, 12, 14, 13, 13, 13, 15, 11, 16, 11, 11, 16, 12, 13, 7, 16, 13, 16, 17, 10, 16, 16, 16, 11, 13, 19, 14, 20, 15, 11, 12, 14, 16, 12, 16, 16, 11, 13, 12, 16, 10, 16, 12, 16, 16, 20, 10, 16, 10, 13, 11, 12, 15, 14, 13, 13, 11, 14, 10, 21, 17, 8, 12, 14, 14, 14, 12, 11, 15, 13, 11, 10, 14, 13, 13, 10, 16, 13, 12, 11, 12, 16, 18, 16, 12, 10, 13, 11, 12, 10, 13, 10, 13, 12, 11, 16, 14, 18, 17, 10, 16, 19, 15, 14, 12, 15, 16, 16, 11, 11, 12, 16, 16, 9, 18, 11, 12, 13, 14]}],                        {\"geo\": {\"bgcolor\": \"rgba(233,233,233,0.3)\"}, \"template\": {\"data\": {\"bar\": [{\"error_x\": {\"color\": \"#2a3f5f\"}, \"error_y\": {\"color\": \"#2a3f5f\"}, \"marker\": {\"line\": {\"color\": \"#E5ECF6\", \"width\": 0.5}}, \"type\": \"bar\"}], \"barpolar\": [{\"marker\": {\"line\": {\"color\": \"#E5ECF6\", \"width\": 0.5}}, \"type\": \"barpolar\"}], \"carpet\": [{\"aaxis\": {\"endlinecolor\": \"#2a3f5f\", \"gridcolor\": \"white\", \"linecolor\": \"white\", \"minorgridcolor\": \"white\", \"startlinecolor\": \"#2a3f5f\"}, \"baxis\": {\"endlinecolor\": \"#2a3f5f\", \"gridcolor\": \"white\", \"linecolor\": \"white\", \"minorgridcolor\": \"white\", \"startlinecolor\": \"#2a3f5f\"}, \"type\": \"carpet\"}], \"choropleth\": [{\"colorbar\": {\"outlinewidth\": 0, \"ticks\": \"\"}, \"type\": \"choropleth\"}], \"contour\": [{\"colorbar\": {\"outlinewidth\": 0, \"ticks\": \"\"}, \"colorscale\": [[0.0, \"#0d0887\"], [0.1111111111111111, \"#46039f\"], [0.2222222222222222, \"#7201a8\"], [0.3333333333333333, \"#9c179e\"], [0.4444444444444444, \"#bd3786\"], [0.5555555555555556, \"#d8576b\"], [0.6666666666666666, \"#ed7953\"], [0.7777777777777778, \"#fb9f3a\"], [0.8888888888888888, \"#fdca26\"], [1.0, \"#f0f921\"]], \"type\": \"contour\"}], \"contourcarpet\": [{\"colorbar\": {\"outlinewidth\": 0, \"ticks\": \"\"}, \"type\": \"contourcarpet\"}], \"heatmap\": [{\"colorbar\": {\"outlinewidth\": 0, \"ticks\": \"\"}, \"colorscale\": [[0.0, \"#0d0887\"], [0.1111111111111111, \"#46039f\"], [0.2222222222222222, \"#7201a8\"], [0.3333333333333333, \"#9c179e\"], [0.4444444444444444, \"#bd3786\"], [0.5555555555555556, \"#d8576b\"], [0.6666666666666666, \"#ed7953\"], [0.7777777777777778, \"#fb9f3a\"], [0.8888888888888888, \"#fdca26\"], [1.0, \"#f0f921\"]], \"type\": \"heatmap\"}], \"heatmapgl\": [{\"colorbar\": {\"outlinewidth\": 0, \"ticks\": \"\"}, \"colorscale\": [[0.0, \"#0d0887\"], [0.1111111111111111, \"#46039f\"], [0.2222222222222222, \"#7201a8\"], [0.3333333333333333, \"#9c179e\"], [0.4444444444444444, \"#bd3786\"], [0.5555555555555556, \"#d8576b\"], [0.6666666666666666, \"#ed7953\"], [0.7777777777777778, \"#fb9f3a\"], [0.8888888888888888, \"#fdca26\"], [1.0, \"#f0f921\"]], \"type\": \"heatmapgl\"}], \"histogram\": [{\"marker\": {\"colorbar\": {\"outlinewidth\": 0, \"ticks\": \"\"}}, \"type\": \"histogram\"}], \"histogram2d\": [{\"colorbar\": {\"outlinewidth\": 0, \"ticks\": \"\"}, \"colorscale\": [[0.0, \"#0d0887\"], [0.1111111111111111, \"#46039f\"], [0.2222222222222222, \"#7201a8\"], [0.3333333333333333, \"#9c179e\"], [0.4444444444444444, \"#bd3786\"], [0.5555555555555556, \"#d8576b\"], [0.6666666666666666, \"#ed7953\"], [0.7777777777777778, \"#fb9f3a\"], [0.8888888888888888, \"#fdca26\"], [1.0, \"#f0f921\"]], \"type\": \"histogram2d\"}], \"histogram2dcontour\": [{\"colorbar\": {\"outlinewidth\": 0, \"ticks\": \"\"}, \"colorscale\": [[0.0, \"#0d0887\"], [0.1111111111111111, \"#46039f\"], [0.2222222222222222, \"#7201a8\"], [0.3333333333333333, \"#9c179e\"], [0.4444444444444444, \"#bd3786\"], [0.5555555555555556, \"#d8576b\"], [0.6666666666666666, \"#ed7953\"], [0.7777777777777778, \"#fb9f3a\"], [0.8888888888888888, \"#fdca26\"], [1.0, \"#f0f921\"]], \"type\": \"histogram2dcontour\"}], \"mesh3d\": [{\"colorbar\": {\"outlinewidth\": 0, \"ticks\": \"\"}, \"type\": \"mesh3d\"}], \"parcoords\": [{\"line\": {\"colorbar\": {\"outlinewidth\": 0, \"ticks\": \"\"}}, \"type\": \"parcoords\"}], \"pie\": [{\"automargin\": true, \"type\": \"pie\"}], \"scatter\": [{\"marker\": {\"colorbar\": {\"outlinewidth\": 0, \"ticks\": \"\"}}, \"type\": \"scatter\"}], \"scatter3d\": [{\"line\": {\"colorbar\": {\"outlinewidth\": 0, \"ticks\": \"\"}}, \"marker\": {\"colorbar\": {\"outlinewidth\": 0, \"ticks\": \"\"}}, \"type\": \"scatter3d\"}], \"scattercarpet\": [{\"marker\": {\"colorbar\": {\"outlinewidth\": 0, \"ticks\": \"\"}}, \"type\": \"scattercarpet\"}], \"scattergeo\": [{\"marker\": {\"colorbar\": {\"outlinewidth\": 0, \"ticks\": \"\"}}, \"type\": \"scattergeo\"}], \"scattergl\": [{\"marker\": {\"colorbar\": {\"outlinewidth\": 0, \"ticks\": \"\"}}, \"type\": \"scattergl\"}], \"scattermapbox\": [{\"marker\": {\"colorbar\": {\"outlinewidth\": 0, \"ticks\": \"\"}}, \"type\": \"scattermapbox\"}], \"scatterpolar\": [{\"marker\": {\"colorbar\": {\"outlinewidth\": 0, \"ticks\": \"\"}}, \"type\": \"scatterpolar\"}], \"scatterpolargl\": [{\"marker\": {\"colorbar\": {\"outlinewidth\": 0, \"ticks\": \"\"}}, \"type\": \"scatterpolargl\"}], \"scatterternary\": [{\"marker\": {\"colorbar\": {\"outlinewidth\": 0, \"ticks\": \"\"}}, \"type\": \"scatterternary\"}], \"surface\": [{\"colorbar\": {\"outlinewidth\": 0, \"ticks\": \"\"}, \"colorscale\": [[0.0, \"#0d0887\"], [0.1111111111111111, \"#46039f\"], [0.2222222222222222, \"#7201a8\"], [0.3333333333333333, \"#9c179e\"], [0.4444444444444444, \"#bd3786\"], [0.5555555555555556, \"#d8576b\"], [0.6666666666666666, \"#ed7953\"], [0.7777777777777778, \"#fb9f3a\"], [0.8888888888888888, \"#fdca26\"], [1.0, \"#f0f921\"]], \"type\": \"surface\"}], \"table\": [{\"cells\": {\"fill\": {\"color\": \"#EBF0F8\"}, \"line\": {\"color\": \"white\"}}, \"header\": {\"fill\": {\"color\": \"#C8D4E3\"}, \"line\": {\"color\": \"white\"}}, \"type\": \"table\"}]}, \"layout\": {\"annotationdefaults\": {\"arrowcolor\": \"#2a3f5f\", \"arrowhead\": 0, \"arrowwidth\": 1}, \"coloraxis\": {\"colorbar\": {\"outlinewidth\": 0, \"ticks\": \"\"}}, \"colorscale\": {\"diverging\": [[0, \"#8e0152\"], [0.1, \"#c51b7d\"], [0.2, \"#de77ae\"], [0.3, \"#f1b6da\"], [0.4, \"#fde0ef\"], [0.5, \"#f7f7f7\"], [0.6, \"#e6f5d0\"], [0.7, \"#b8e186\"], [0.8, \"#7fbc41\"], [0.9, \"#4d9221\"], [1, \"#276419\"]], \"sequential\": [[0.0, \"#0d0887\"], [0.1111111111111111, \"#46039f\"], [0.2222222222222222, \"#7201a8\"], [0.3333333333333333, \"#9c179e\"], [0.4444444444444444, \"#bd3786\"], [0.5555555555555556, \"#d8576b\"], [0.6666666666666666, \"#ed7953\"], [0.7777777777777778, \"#fb9f3a\"], [0.8888888888888888, \"#fdca26\"], [1.0, \"#f0f921\"]], \"sequentialminus\": [[0.0, \"#0d0887\"], [0.1111111111111111, \"#46039f\"], [0.2222222222222222, \"#7201a8\"], [0.3333333333333333, \"#9c179e\"], [0.4444444444444444, \"#bd3786\"], [0.5555555555555556, \"#d8576b\"], [0.6666666666666666, \"#ed7953\"], [0.7777777777777778, \"#fb9f3a\"], [0.8888888888888888, \"#fdca26\"], [1.0, \"#f0f921\"]]}, \"colorway\": [\"#636efa\", \"#EF553B\", \"#00cc96\", \"#ab63fa\", \"#FFA15A\", \"#19d3f3\", \"#FF6692\", \"#B6E880\", \"#FF97FF\", \"#FECB52\"], \"font\": {\"color\": \"#2a3f5f\"}, \"geo\": {\"bgcolor\": \"white\", \"lakecolor\": \"white\", \"landcolor\": \"#E5ECF6\", \"showlakes\": true, \"showland\": true, \"subunitcolor\": \"white\"}, \"hoverlabel\": {\"align\": \"left\"}, \"hovermode\": \"closest\", \"mapbox\": {\"style\": \"light\"}, \"paper_bgcolor\": \"white\", \"plot_bgcolor\": \"#E5ECF6\", \"polar\": {\"angularaxis\": {\"gridcolor\": \"white\", \"linecolor\": \"white\", \"ticks\": \"\"}, \"bgcolor\": \"#E5ECF6\", \"radialaxis\": {\"gridcolor\": \"white\", \"linecolor\": \"white\", \"ticks\": \"\"}}, \"scene\": {\"xaxis\": {\"backgroundcolor\": \"#E5ECF6\", \"gridcolor\": \"white\", \"gridwidth\": 2, \"linecolor\": \"white\", \"showbackground\": true, \"ticks\": \"\", \"zerolinecolor\": \"white\"}, \"yaxis\": {\"backgroundcolor\": \"#E5ECF6\", \"gridcolor\": \"white\", \"gridwidth\": 2, \"linecolor\": \"white\", \"showbackground\": true, \"ticks\": \"\", \"zerolinecolor\": \"white\"}, \"zaxis\": {\"backgroundcolor\": \"#E5ECF6\", \"gridcolor\": \"white\", \"gridwidth\": 2, \"linecolor\": \"white\", \"showbackground\": true, \"ticks\": \"\", \"zerolinecolor\": \"white\"}}, \"shapedefaults\": {\"line\": {\"color\": \"#2a3f5f\"}}, \"ternary\": {\"aaxis\": {\"gridcolor\": \"white\", \"linecolor\": \"white\", \"ticks\": \"\"}, \"baxis\": {\"gridcolor\": \"white\", \"linecolor\": \"white\", \"ticks\": \"\"}, \"bgcolor\": \"#E5ECF6\", \"caxis\": {\"gridcolor\": \"white\", \"linecolor\": \"white\", \"ticks\": \"\"}}, \"title\": {\"x\": 0.05}, \"xaxis\": {\"automargin\": true, \"gridcolor\": \"white\", \"linecolor\": \"white\", \"ticks\": \"\", \"title\": {\"standoff\": 15}, \"zerolinecolor\": \"white\", \"zerolinewidth\": 2}, \"yaxis\": {\"automargin\": true, \"gridcolor\": \"white\", \"linecolor\": \"white\", \"ticks\": \"\", \"title\": {\"standoff\": 15}, \"zerolinecolor\": \"white\", \"zerolinewidth\": 2}}}, \"title\": {\"text\": \"Average number of delay days calculated with change in Infected and Stringency_index\"}},                        {\"responsive\": true}                    ).then(function(){\n",
       "                            \n",
       "var gd = document.getElementById('8bdcf9f0-7ed4-4734-8806-2a5316e66553');\n",
       "var x = new MutationObserver(function (mutations, observer) {{\n",
       "        var display = window.getComputedStyle(gd).display;\n",
       "        if (!display || display === 'none') {{\n",
       "            console.log([gd, 'removed!']);\n",
       "            Plotly.purge(gd);\n",
       "            observer.disconnect();\n",
       "        }}\n",
       "}});\n",
       "\n",
       "// Listen for the removal of the full notebook cells\n",
       "var notebookContainer = gd.closest('#notebook-container');\n",
       "if (notebookContainer) {{\n",
       "    x.observe(notebookContainer, {childList: true});\n",
       "}}\n",
       "\n",
       "// Listen for the clearing of the current output cell\n",
       "var outputEl = gd.closest('.output');\n",
       "if (outputEl) {{\n",
       "    x.observe(outputEl, {childList: true});\n",
       "}}\n",
       "\n",
       "                        })                };                });            </script>        </div>"
      ]
     },
     "metadata": {},
     "output_type": "display_data"
    }
   ],
   "source": [
    "data = dict (\n",
    "    type = 'choropleth',\n",
    "    locations = list(delay_days.keys()),\n",
    "    locationmode='country names',\n",
    "    z=list(delay_days.values()),\n",
    "    colorscale=px.colors.named_colorscales()[9],\n",
    "    colorbar=dict(thickness=30,\n",
    "                           ticklen=7,\n",
    "                           tickfont=dict(size=20)),\n",
    ")\n",
    "\n",
    "map = go.Figure(data=[data], \n",
    "                        layout = go.Layout(\n",
    "                        title=\"Average number of delay days calculated with change in \" + target + \" and \" + indicator,\n",
    "                        geo=dict(bgcolor= 'rgba(233,233,233,0.3)')))\n",
    "\n",
    "py.offline.iplot(map)"
   ]
  },
  {
   "cell_type": "code",
   "execution_count": 10,
   "metadata": {},
   "outputs": [
    {
     "name": "stdout",
     "output_type": "stream",
     "text": [
      "13.387755102040817\n"
     ]
    }
   ],
   "source": [
    "print(np.mean(list(delay_days.values())))"
   ]
  },
  {
   "cell_type": "code",
   "execution_count": null,
   "metadata": {},
   "outputs": [],
   "source": []
  }
 ],
 "metadata": {
  "kernelspec": {
   "display_name": "Python 3",
   "language": "python",
   "name": "python3"
  },
  "language_info": {
   "codemirror_mode": {
    "name": "ipython",
    "version": 3
   },
   "file_extension": ".py",
   "mimetype": "text/x-python",
   "name": "python",
   "nbconvert_exporter": "python",
   "pygments_lexer": "ipython3",
   "version": "3.7.8"
  }
 },
 "nbformat": 4,
 "nbformat_minor": 2
}
